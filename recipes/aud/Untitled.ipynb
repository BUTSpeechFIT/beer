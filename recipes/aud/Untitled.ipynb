{
 "cells": [
  {
   "cell_type": "code",
   "execution_count": 1,
   "metadata": {},
   "outputs": [
    {
     "data": {
      "text/html": [
       "\n",
       "    <div class=\"bk-root\">\n",
       "        <a href=\"https://bokeh.pydata.org\" target=\"_blank\" class=\"bk-logo bk-logo-small bk-logo-notebook\"></a>\n",
       "        <span id=\"1001\">Loading BokehJS ...</span>\n",
       "    </div>"
      ]
     },
     "metadata": {},
     "output_type": "display_data"
    },
    {
     "data": {
      "application/javascript": [
       "\n",
       "(function(root) {\n",
       "  function now() {\n",
       "    return new Date();\n",
       "  }\n",
       "\n",
       "  var force = true;\n",
       "\n",
       "  if (typeof (root._bokeh_onload_callbacks) === \"undefined\" || force === true) {\n",
       "    root._bokeh_onload_callbacks = [];\n",
       "    root._bokeh_is_loading = undefined;\n",
       "  }\n",
       "\n",
       "  var JS_MIME_TYPE = 'application/javascript';\n",
       "  var HTML_MIME_TYPE = 'text/html';\n",
       "  var EXEC_MIME_TYPE = 'application/vnd.bokehjs_exec.v0+json';\n",
       "  var CLASS_NAME = 'output_bokeh rendered_html';\n",
       "\n",
       "  /**\n",
       "   * Render data to the DOM node\n",
       "   */\n",
       "  function render(props, node) {\n",
       "    var script = document.createElement(\"script\");\n",
       "    node.appendChild(script);\n",
       "  }\n",
       "\n",
       "  /**\n",
       "   * Handle when an output is cleared or removed\n",
       "   */\n",
       "  function handleClearOutput(event, handle) {\n",
       "    var cell = handle.cell;\n",
       "\n",
       "    var id = cell.output_area._bokeh_element_id;\n",
       "    var server_id = cell.output_area._bokeh_server_id;\n",
       "    // Clean up Bokeh references\n",
       "    if (id != null && id in Bokeh.index) {\n",
       "      Bokeh.index[id].model.document.clear();\n",
       "      delete Bokeh.index[id];\n",
       "    }\n",
       "\n",
       "    if (server_id !== undefined) {\n",
       "      // Clean up Bokeh references\n",
       "      var cmd = \"from bokeh.io.state import curstate; print(curstate().uuid_to_server['\" + server_id + \"'].get_sessions()[0].document.roots[0]._id)\";\n",
       "      cell.notebook.kernel.execute(cmd, {\n",
       "        iopub: {\n",
       "          output: function(msg) {\n",
       "            var id = msg.content.text.trim();\n",
       "            if (id in Bokeh.index) {\n",
       "              Bokeh.index[id].model.document.clear();\n",
       "              delete Bokeh.index[id];\n",
       "            }\n",
       "          }\n",
       "        }\n",
       "      });\n",
       "      // Destroy server and session\n",
       "      var cmd = \"import bokeh.io.notebook as ion; ion.destroy_server('\" + server_id + \"')\";\n",
       "      cell.notebook.kernel.execute(cmd);\n",
       "    }\n",
       "  }\n",
       "\n",
       "  /**\n",
       "   * Handle when a new output is added\n",
       "   */\n",
       "  function handleAddOutput(event, handle) {\n",
       "    var output_area = handle.output_area;\n",
       "    var output = handle.output;\n",
       "\n",
       "    // limit handleAddOutput to display_data with EXEC_MIME_TYPE content only\n",
       "    if ((output.output_type != \"display_data\") || (!output.data.hasOwnProperty(EXEC_MIME_TYPE))) {\n",
       "      return\n",
       "    }\n",
       "\n",
       "    var toinsert = output_area.element.find(\".\" + CLASS_NAME.split(' ')[0]);\n",
       "\n",
       "    if (output.metadata[EXEC_MIME_TYPE][\"id\"] !== undefined) {\n",
       "      toinsert[toinsert.length - 1].firstChild.textContent = output.data[JS_MIME_TYPE];\n",
       "      // store reference to embed id on output_area\n",
       "      output_area._bokeh_element_id = output.metadata[EXEC_MIME_TYPE][\"id\"];\n",
       "    }\n",
       "    if (output.metadata[EXEC_MIME_TYPE][\"server_id\"] !== undefined) {\n",
       "      var bk_div = document.createElement(\"div\");\n",
       "      bk_div.innerHTML = output.data[HTML_MIME_TYPE];\n",
       "      var script_attrs = bk_div.children[0].attributes;\n",
       "      for (var i = 0; i < script_attrs.length; i++) {\n",
       "        toinsert[toinsert.length - 1].firstChild.setAttribute(script_attrs[i].name, script_attrs[i].value);\n",
       "      }\n",
       "      // store reference to server id on output_area\n",
       "      output_area._bokeh_server_id = output.metadata[EXEC_MIME_TYPE][\"server_id\"];\n",
       "    }\n",
       "  }\n",
       "\n",
       "  function register_renderer(events, OutputArea) {\n",
       "\n",
       "    function append_mime(data, metadata, element) {\n",
       "      // create a DOM node to render to\n",
       "      var toinsert = this.create_output_subarea(\n",
       "        metadata,\n",
       "        CLASS_NAME,\n",
       "        EXEC_MIME_TYPE\n",
       "      );\n",
       "      this.keyboard_manager.register_events(toinsert);\n",
       "      // Render to node\n",
       "      var props = {data: data, metadata: metadata[EXEC_MIME_TYPE]};\n",
       "      render(props, toinsert[toinsert.length - 1]);\n",
       "      element.append(toinsert);\n",
       "      return toinsert\n",
       "    }\n",
       "\n",
       "    /* Handle when an output is cleared or removed */\n",
       "    events.on('clear_output.CodeCell', handleClearOutput);\n",
       "    events.on('delete.Cell', handleClearOutput);\n",
       "\n",
       "    /* Handle when a new output is added */\n",
       "    events.on('output_added.OutputArea', handleAddOutput);\n",
       "\n",
       "    /**\n",
       "     * Register the mime type and append_mime function with output_area\n",
       "     */\n",
       "    OutputArea.prototype.register_mime_type(EXEC_MIME_TYPE, append_mime, {\n",
       "      /* Is output safe? */\n",
       "      safe: true,\n",
       "      /* Index of renderer in `output_area.display_order` */\n",
       "      index: 0\n",
       "    });\n",
       "  }\n",
       "\n",
       "  // register the mime type if in Jupyter Notebook environment and previously unregistered\n",
       "  if (root.Jupyter !== undefined) {\n",
       "    var events = require('base/js/events');\n",
       "    var OutputArea = require('notebook/js/outputarea').OutputArea;\n",
       "\n",
       "    if (OutputArea.prototype.mime_types().indexOf(EXEC_MIME_TYPE) == -1) {\n",
       "      register_renderer(events, OutputArea);\n",
       "    }\n",
       "  }\n",
       "\n",
       "  \n",
       "  if (typeof (root._bokeh_timeout) === \"undefined\" || force === true) {\n",
       "    root._bokeh_timeout = Date.now() + 5000;\n",
       "    root._bokeh_failed_load = false;\n",
       "  }\n",
       "\n",
       "  var NB_LOAD_WARNING = {'data': {'text/html':\n",
       "     \"<div style='background-color: #fdd'>\\n\"+\n",
       "     \"<p>\\n\"+\n",
       "     \"BokehJS does not appear to have successfully loaded. If loading BokehJS from CDN, this \\n\"+\n",
       "     \"may be due to a slow or bad network connection. Possible fixes:\\n\"+\n",
       "     \"</p>\\n\"+\n",
       "     \"<ul>\\n\"+\n",
       "     \"<li>re-rerun `output_notebook()` to attempt to load from CDN again, or</li>\\n\"+\n",
       "     \"<li>use INLINE resources instead, as so:</li>\\n\"+\n",
       "     \"</ul>\\n\"+\n",
       "     \"<code>\\n\"+\n",
       "     \"from bokeh.resources import INLINE\\n\"+\n",
       "     \"output_notebook(resources=INLINE)\\n\"+\n",
       "     \"</code>\\n\"+\n",
       "     \"</div>\"}};\n",
       "\n",
       "  function display_loaded() {\n",
       "    var el = document.getElementById(\"1001\");\n",
       "    if (el != null) {\n",
       "      el.textContent = \"BokehJS is loading...\";\n",
       "    }\n",
       "    if (root.Bokeh !== undefined) {\n",
       "      if (el != null) {\n",
       "        el.textContent = \"BokehJS \" + root.Bokeh.version + \" successfully loaded.\";\n",
       "      }\n",
       "    } else if (Date.now() < root._bokeh_timeout) {\n",
       "      setTimeout(display_loaded, 100)\n",
       "    }\n",
       "  }\n",
       "\n",
       "\n",
       "  function run_callbacks() {\n",
       "    try {\n",
       "      root._bokeh_onload_callbacks.forEach(function(callback) { callback() });\n",
       "    }\n",
       "    finally {\n",
       "      delete root._bokeh_onload_callbacks\n",
       "    }\n",
       "    console.info(\"Bokeh: all callbacks have finished\");\n",
       "  }\n",
       "\n",
       "  function load_libs(js_urls, callback) {\n",
       "    root._bokeh_onload_callbacks.push(callback);\n",
       "    if (root._bokeh_is_loading > 0) {\n",
       "      console.log(\"Bokeh: BokehJS is being loaded, scheduling callback at\", now());\n",
       "      return null;\n",
       "    }\n",
       "    if (js_urls == null || js_urls.length === 0) {\n",
       "      run_callbacks();\n",
       "      return null;\n",
       "    }\n",
       "    console.log(\"Bokeh: BokehJS not loaded, scheduling load and callback at\", now());\n",
       "    root._bokeh_is_loading = js_urls.length;\n",
       "    for (var i = 0; i < js_urls.length; i++) {\n",
       "      var url = js_urls[i];\n",
       "      var s = document.createElement('script');\n",
       "      s.src = url;\n",
       "      s.async = false;\n",
       "      s.onreadystatechange = s.onload = function() {\n",
       "        root._bokeh_is_loading--;\n",
       "        if (root._bokeh_is_loading === 0) {\n",
       "          console.log(\"Bokeh: all BokehJS libraries loaded\");\n",
       "          run_callbacks()\n",
       "        }\n",
       "      };\n",
       "      s.onerror = function() {\n",
       "        console.warn(\"failed to load library \" + url);\n",
       "      };\n",
       "      console.log(\"Bokeh: injecting script tag for BokehJS library: \", url);\n",
       "      document.getElementsByTagName(\"head\")[0].appendChild(s);\n",
       "    }\n",
       "  };var element = document.getElementById(\"1001\");\n",
       "  if (element == null) {\n",
       "    console.log(\"Bokeh: ERROR: autoload.js configured with elementid '1001' but no matching script tag was found. \")\n",
       "    return false;\n",
       "  }\n",
       "\n",
       "  var js_urls = [\"https://cdn.pydata.org/bokeh/release/bokeh-1.0.0.min.js\", \"https://cdn.pydata.org/bokeh/release/bokeh-widgets-1.0.0.min.js\", \"https://cdn.pydata.org/bokeh/release/bokeh-tables-1.0.0.min.js\", \"https://cdn.pydata.org/bokeh/release/bokeh-gl-1.0.0.min.js\"];\n",
       "\n",
       "  var inline_js = [\n",
       "    function(Bokeh) {\n",
       "      Bokeh.set_log_level(\"info\");\n",
       "    },\n",
       "    \n",
       "    function(Bokeh) {\n",
       "      \n",
       "    },\n",
       "    function(Bokeh) {\n",
       "      console.log(\"Bokeh: injecting CSS: https://cdn.pydata.org/bokeh/release/bokeh-1.0.0.min.css\");\n",
       "      Bokeh.embed.inject_css(\"https://cdn.pydata.org/bokeh/release/bokeh-1.0.0.min.css\");\n",
       "      console.log(\"Bokeh: injecting CSS: https://cdn.pydata.org/bokeh/release/bokeh-widgets-1.0.0.min.css\");\n",
       "      Bokeh.embed.inject_css(\"https://cdn.pydata.org/bokeh/release/bokeh-widgets-1.0.0.min.css\");\n",
       "      console.log(\"Bokeh: injecting CSS: https://cdn.pydata.org/bokeh/release/bokeh-tables-1.0.0.min.css\");\n",
       "      Bokeh.embed.inject_css(\"https://cdn.pydata.org/bokeh/release/bokeh-tables-1.0.0.min.css\");\n",
       "    }\n",
       "  ];\n",
       "\n",
       "  function run_inline_js() {\n",
       "    \n",
       "    if ((root.Bokeh !== undefined) || (force === true)) {\n",
       "      for (var i = 0; i < inline_js.length; i++) {\n",
       "        inline_js[i].call(root, root.Bokeh);\n",
       "      }if (force === true) {\n",
       "        display_loaded();\n",
       "      }} else if (Date.now() < root._bokeh_timeout) {\n",
       "      setTimeout(run_inline_js, 100);\n",
       "    } else if (!root._bokeh_failed_load) {\n",
       "      console.log(\"Bokeh: BokehJS failed to load within specified timeout.\");\n",
       "      root._bokeh_failed_load = true;\n",
       "    } else if (force !== true) {\n",
       "      var cell = $(document.getElementById(\"1001\")).parents('.cell').data().cell;\n",
       "      cell.output_area.append_execute_result(NB_LOAD_WARNING)\n",
       "    }\n",
       "\n",
       "  }\n",
       "\n",
       "  if (root._bokeh_is_loading === 0) {\n",
       "    console.log(\"Bokeh: BokehJS loaded, going straight to plotting\");\n",
       "    run_inline_js();\n",
       "  } else {\n",
       "    load_libs(js_urls, function() {\n",
       "      console.log(\"Bokeh: BokehJS plotting callback run at\", now());\n",
       "      run_inline_js();\n",
       "    });\n",
       "  }\n",
       "}(window));"
      ],
      "application/vnd.bokehjs_load.v0+json": "\n(function(root) {\n  function now() {\n    return new Date();\n  }\n\n  var force = true;\n\n  if (typeof (root._bokeh_onload_callbacks) === \"undefined\" || force === true) {\n    root._bokeh_onload_callbacks = [];\n    root._bokeh_is_loading = undefined;\n  }\n\n  \n\n  \n  if (typeof (root._bokeh_timeout) === \"undefined\" || force === true) {\n    root._bokeh_timeout = Date.now() + 5000;\n    root._bokeh_failed_load = false;\n  }\n\n  var NB_LOAD_WARNING = {'data': {'text/html':\n     \"<div style='background-color: #fdd'>\\n\"+\n     \"<p>\\n\"+\n     \"BokehJS does not appear to have successfully loaded. If loading BokehJS from CDN, this \\n\"+\n     \"may be due to a slow or bad network connection. Possible fixes:\\n\"+\n     \"</p>\\n\"+\n     \"<ul>\\n\"+\n     \"<li>re-rerun `output_notebook()` to attempt to load from CDN again, or</li>\\n\"+\n     \"<li>use INLINE resources instead, as so:</li>\\n\"+\n     \"</ul>\\n\"+\n     \"<code>\\n\"+\n     \"from bokeh.resources import INLINE\\n\"+\n     \"output_notebook(resources=INLINE)\\n\"+\n     \"</code>\\n\"+\n     \"</div>\"}};\n\n  function display_loaded() {\n    var el = document.getElementById(\"1001\");\n    if (el != null) {\n      el.textContent = \"BokehJS is loading...\";\n    }\n    if (root.Bokeh !== undefined) {\n      if (el != null) {\n        el.textContent = \"BokehJS \" + root.Bokeh.version + \" successfully loaded.\";\n      }\n    } else if (Date.now() < root._bokeh_timeout) {\n      setTimeout(display_loaded, 100)\n    }\n  }\n\n\n  function run_callbacks() {\n    try {\n      root._bokeh_onload_callbacks.forEach(function(callback) { callback() });\n    }\n    finally {\n      delete root._bokeh_onload_callbacks\n    }\n    console.info(\"Bokeh: all callbacks have finished\");\n  }\n\n  function load_libs(js_urls, callback) {\n    root._bokeh_onload_callbacks.push(callback);\n    if (root._bokeh_is_loading > 0) {\n      console.log(\"Bokeh: BokehJS is being loaded, scheduling callback at\", now());\n      return null;\n    }\n    if (js_urls == null || js_urls.length === 0) {\n      run_callbacks();\n      return null;\n    }\n    console.log(\"Bokeh: BokehJS not loaded, scheduling load and callback at\", now());\n    root._bokeh_is_loading = js_urls.length;\n    for (var i = 0; i < js_urls.length; i++) {\n      var url = js_urls[i];\n      var s = document.createElement('script');\n      s.src = url;\n      s.async = false;\n      s.onreadystatechange = s.onload = function() {\n        root._bokeh_is_loading--;\n        if (root._bokeh_is_loading === 0) {\n          console.log(\"Bokeh: all BokehJS libraries loaded\");\n          run_callbacks()\n        }\n      };\n      s.onerror = function() {\n        console.warn(\"failed to load library \" + url);\n      };\n      console.log(\"Bokeh: injecting script tag for BokehJS library: \", url);\n      document.getElementsByTagName(\"head\")[0].appendChild(s);\n    }\n  };var element = document.getElementById(\"1001\");\n  if (element == null) {\n    console.log(\"Bokeh: ERROR: autoload.js configured with elementid '1001' but no matching script tag was found. \")\n    return false;\n  }\n\n  var js_urls = [\"https://cdn.pydata.org/bokeh/release/bokeh-1.0.0.min.js\", \"https://cdn.pydata.org/bokeh/release/bokeh-widgets-1.0.0.min.js\", \"https://cdn.pydata.org/bokeh/release/bokeh-tables-1.0.0.min.js\", \"https://cdn.pydata.org/bokeh/release/bokeh-gl-1.0.0.min.js\"];\n\n  var inline_js = [\n    function(Bokeh) {\n      Bokeh.set_log_level(\"info\");\n    },\n    \n    function(Bokeh) {\n      \n    },\n    function(Bokeh) {\n      console.log(\"Bokeh: injecting CSS: https://cdn.pydata.org/bokeh/release/bokeh-1.0.0.min.css\");\n      Bokeh.embed.inject_css(\"https://cdn.pydata.org/bokeh/release/bokeh-1.0.0.min.css\");\n      console.log(\"Bokeh: injecting CSS: https://cdn.pydata.org/bokeh/release/bokeh-widgets-1.0.0.min.css\");\n      Bokeh.embed.inject_css(\"https://cdn.pydata.org/bokeh/release/bokeh-widgets-1.0.0.min.css\");\n      console.log(\"Bokeh: injecting CSS: https://cdn.pydata.org/bokeh/release/bokeh-tables-1.0.0.min.css\");\n      Bokeh.embed.inject_css(\"https://cdn.pydata.org/bokeh/release/bokeh-tables-1.0.0.min.css\");\n    }\n  ];\n\n  function run_inline_js() {\n    \n    if ((root.Bokeh !== undefined) || (force === true)) {\n      for (var i = 0; i < inline_js.length; i++) {\n        inline_js[i].call(root, root.Bokeh);\n      }if (force === true) {\n        display_loaded();\n      }} else if (Date.now() < root._bokeh_timeout) {\n      setTimeout(run_inline_js, 100);\n    } else if (!root._bokeh_failed_load) {\n      console.log(\"Bokeh: BokehJS failed to load within specified timeout.\");\n      root._bokeh_failed_load = true;\n    } else if (force !== true) {\n      var cell = $(document.getElementById(\"1001\")).parents('.cell').data().cell;\n      cell.output_area.append_execute_result(NB_LOAD_WARNING)\n    }\n\n  }\n\n  if (root._bokeh_is_loading === 0) {\n    console.log(\"Bokeh: BokehJS loaded, going straight to plotting\");\n    run_inline_js();\n  } else {\n    load_libs(js_urls, function() {\n      console.log(\"Bokeh: BokehJS plotting callback run at\", now());\n      run_inline_js();\n    });\n  }\n}(window));"
     },
     "metadata": {},
     "output_type": "display_data"
    }
   ],
   "source": [
    "import os\n",
    "import numpy as np\n",
    "from itertools import groupby\n",
    "from collections import defaultdict\n",
    "import pickle\n",
    "import yaml\n",
    "\n",
    "from bokeh.plotting import output_notebook, figure, show, gridplot\n",
    "from bokeh.models import ColumnDataSource, Range1d, LabelSet, Label\n",
    "from bokeh.palettes import Category10 as palette\n",
    "output_notebook()"
   ]
  },
  {
   "cell_type": "code",
   "execution_count": 2,
   "metadata": {},
   "outputs": [],
   "source": [
    "mapping = {}\n",
    "with open('data/timit/lang/phones_61_to_39.txt') as f:\n",
    "    for line in f:\n",
    "        tokens = line.strip().split()\n",
    "        if len(tokens) == 2:\n",
    "            mapping[tokens[0]] = tokens[1]\n",
    "            \n",
    "def map_trans(utt_trans, mapfile):                                                     \n",
    "    tmp = []                                                                   \n",
    "    for token in utt_trans:                                                    \n",
    "        try:                                                                   \n",
    "            new_token = mapfile[token]                                         \n",
    "            tmp.append(new_token)                                              \n",
    "        except KeyError:                                                       \n",
    "            pass                                                               \n",
    "    return tmp"
   ]
  },
  {
   "cell_type": "code",
   "execution_count": 3,
   "metadata": {},
   "outputs": [
    {
     "data": {
      "text/html": [
       "\n",
       "\n",
       "\n",
       "\n",
       "\n",
       "\n",
       "  <div class=\"bk-root\" id=\"30deeb07-760a-4fc6-beac-1cc740b8bf70\"></div>\n"
      ]
     },
     "metadata": {},
     "output_type": "display_data"
    },
    {
     "data": {
      "application/javascript": [
       "(function(root) {\n",
       "  function embed_document(root) {\n",
       "    \n",
       "  var docs_json = {\"ebaf0ae3-1119-45e9-8153-a2bd2ad2f7e8\":{\"roots\":{\"references\":[{\"attributes\":{\"children\":[{\"id\":\"1055\",\"type\":\"ToolbarBox\"},{\"id\":\"1053\",\"type\":\"Column\"}]},\"id\":\"1056\",\"type\":\"Column\"},{\"attributes\":{\"callback\":null},\"id\":\"1005\",\"type\":\"DataRange1d\"},{\"attributes\":{\"source\":{\"id\":\"1038\",\"type\":\"ColumnDataSource\"}},\"id\":\"1042\",\"type\":\"CDSView\"},{\"attributes\":{},\"id\":\"1050\",\"type\":\"UnionRenderers\"},{\"attributes\":{},\"id\":\"1027\",\"type\":\"ResetTool\"},{\"attributes\":{\"tools\":[{\"id\":\"1023\",\"type\":\"PanTool\"},{\"id\":\"1024\",\"type\":\"WheelZoomTool\"},{\"id\":\"1025\",\"type\":\"BoxZoomTool\"},{\"id\":\"1026\",\"type\":\"SaveTool\"},{\"id\":\"1027\",\"type\":\"ResetTool\"},{\"id\":\"1028\",\"type\":\"HelpTool\"}]},\"id\":\"1054\",\"type\":\"ProxyToolbar\"},{\"attributes\":{\"fill_alpha\":{\"value\":0.1},\"fill_color\":{\"value\":\"#1f77b4\"},\"line_alpha\":{\"value\":0.1},\"line_color\":{\"value\":\"#1f77b4\"},\"top\":{\"field\":\"top\"},\"width\":{\"value\":0.5},\"x\":{\"field\":\"x\"}},\"id\":\"1040\",\"type\":\"VBar\"},{\"attributes\":{\"toolbar\":{\"id\":\"1054\",\"type\":\"ProxyToolbar\"},\"toolbar_location\":\"above\"},\"id\":\"1055\",\"type\":\"ToolbarBox\"},{\"attributes\":{},\"id\":\"1019\",\"type\":\"BasicTicker\"},{\"attributes\":{},\"id\":\"1023\",\"type\":\"PanTool\"},{\"attributes\":{},\"id\":\"1024\",\"type\":\"WheelZoomTool\"},{\"attributes\":{\"plot\":null,\"text\":\"Mixing weights\"},\"id\":\"1002\",\"type\":\"Title\"},{\"attributes\":{},\"id\":\"1011\",\"type\":\"LinearScale\"},{\"attributes\":{\"callback\":null,\"data\":{\"top\":{\"__ndarray__\":\"PYyigACFuj8Z7SC8UC+xP1mrKZNENqw/rG42kgwgrD+aI8vxZoyoP6Eq7h/VYKU/rVrv5fAApT8Y/YUex8miP7XEsUbuw6I/T7gqTNMIoj8tidWHvFShP+Zm3T7D0aA/HLFufBxKoD+Gi/hvoOudP9ydXfXbpJc/Fqw88wA4lj/PiUSqB7WVP2RW0LyR8JQ/Ao8P1WuxlD8DcTa10T6UP0Ine/h6PJQ/l1ub5/Xskz9pe8wKmjeSP+3waWStyZE/R0x3RoODkT9DB7EzjgeRP/3ubSMyUI4/UiOOEq0Ajj+SuQiRacmKPyD6Ftm2SoY/VkSoFhDDhT+RszWicYKCP2RU3xc/LoI/BjOT0EqXgD9N/KAfUvd9P8+NJvSsOXs/efZm0qKaej/wNTB3okVyPxasPPMAOGY/AAAAAAAAAAAAAAAAAAAAAAAAAAAAAAAAAAAAAAAAAAAAAAAAAAAAAAAAAAAAAAAAAAAAAAAAAAAAAAAAAAAAAAAAAAAAAAAAAAAAAAAAAAAAAAAAAAAAAAAAAAAAAAAAAAAAAAAAAAAAAAAAAAAAAAAAAAAAAAAAAAAAAAAAAAAAAAAAAAAAAAAAAAAAAAAAAAAAAAAAAAAAAAAAAAAAAAAAAAAAAAAAAAAAAAAAAAAAAAAAAAAAAAAAAAAAAAAAAAAAAAAAAAAAAAAAAAAAAAAAAAAAAAAAAAAAAAAAAAAAAAAAAAAAAAAAAAAAAAAAAAAAAAAAAAAAAAAAAAAAAAAAAAAAAAAAAAAAAAAAAAAAAAAAAAAAAAAAAAAAAAAAAAAAAAAAAAAAAAAAAAAAAAAAAAAAAAAAAAAAAAAAAAAAAAAAAAAAAAAAAAAAAAAAAAAAAAAAAAAAAAAAAAAAAAAAAAAAAAAAAAAAAAAAAAAAAAAAAAAAAAAAAAAAAAAAAAAAAAAAAAAAAAAAAAAAAAAAAAAAAAAAAAAAAAAAAAAAAAAAAAAAAAAAAAAAAAAAAAAAAAAAAAAAAAAAAAAAAAAAAAAAAAAAAAAAAAAAAAAAAAAAAAAAAAAAAAAAAAAAAAAAAAAAAAAAAAAAAAAAAA==\",\"dtype\":\"float64\",\"shape\":[101]},\"x\":[0,1,2,3,4,5,6,7,8,9,10,11,12,13,14,15,16,17,18,19,20,21,22,23,24,25,26,27,28,29,30,31,32,33,34,35,36,37,38,39,40,41,42,43,44,45,46,47,48,49,50,51,52,53,54,55,56,57,58,59,60,61,62,63,64,65,66,67,68,69,70,71,72,73,74,75,76,77,78,79,80,81,82,83,84,85,86,87,88,89,90,91,92,93,94,95,96,97,98,99,100]},\"selected\":{\"id\":\"1049\",\"type\":\"Selection\"},\"selection_policy\":{\"id\":\"1050\",\"type\":\"UnionRenderers\"}},\"id\":\"1038\",\"type\":\"ColumnDataSource\"},{\"attributes\":{\"overlay\":{\"id\":\"1031\",\"type\":\"BoxAnnotation\"}},\"id\":\"1025\",\"type\":\"BoxZoomTool\"},{\"attributes\":{\"below\":[{\"id\":\"1013\",\"type\":\"LinearAxis\"}],\"left\":[{\"id\":\"1018\",\"type\":\"LinearAxis\"}],\"plot_height\":400,\"plot_width\":400,\"renderers\":[{\"id\":\"1013\",\"type\":\"LinearAxis\"},{\"id\":\"1017\",\"type\":\"Grid\"},{\"id\":\"1018\",\"type\":\"LinearAxis\"},{\"id\":\"1022\",\"type\":\"Grid\"},{\"id\":\"1031\",\"type\":\"BoxAnnotation\"},{\"id\":\"1041\",\"type\":\"GlyphRenderer\"}],\"title\":{\"id\":\"1002\",\"type\":\"Title\"},\"toolbar\":{\"id\":\"1029\",\"type\":\"Toolbar\"},\"toolbar_location\":null,\"x_range\":{\"id\":\"1005\",\"type\":\"DataRange1d\"},\"x_scale\":{\"id\":\"1009\",\"type\":\"LinearScale\"},\"y_range\":{\"id\":\"1007\",\"type\":\"DataRange1d\"},\"y_scale\":{\"id\":\"1011\",\"type\":\"LinearScale\"}},\"id\":\"1003\",\"subtype\":\"Figure\",\"type\":\"Plot\"},{\"attributes\":{\"active_drag\":\"auto\",\"active_inspect\":\"auto\",\"active_multi\":null,\"active_scroll\":\"auto\",\"active_tap\":\"auto\",\"tools\":[{\"id\":\"1023\",\"type\":\"PanTool\"},{\"id\":\"1024\",\"type\":\"WheelZoomTool\"},{\"id\":\"1025\",\"type\":\"BoxZoomTool\"},{\"id\":\"1026\",\"type\":\"SaveTool\"},{\"id\":\"1027\",\"type\":\"ResetTool\"},{\"id\":\"1028\",\"type\":\"HelpTool\"}]},\"id\":\"1029\",\"type\":\"Toolbar\"},{\"attributes\":{\"callback\":null},\"id\":\"1007\",\"type\":\"DataRange1d\"},{\"attributes\":{\"formatter\":{\"id\":\"1045\",\"type\":\"BasicTickFormatter\"},\"plot\":{\"id\":\"1003\",\"subtype\":\"Figure\",\"type\":\"Plot\"},\"ticker\":{\"id\":\"1014\",\"type\":\"BasicTicker\"}},\"id\":\"1013\",\"type\":\"LinearAxis\"},{\"attributes\":{},\"id\":\"1009\",\"type\":\"LinearScale\"},{\"attributes\":{},\"id\":\"1026\",\"type\":\"SaveTool\"},{\"attributes\":{\"children\":[{\"id\":\"1052\",\"type\":\"Row\"}]},\"id\":\"1053\",\"type\":\"Column\"},{\"attributes\":{},\"id\":\"1028\",\"type\":\"HelpTool\"},{\"attributes\":{\"fill_color\":{\"value\":\"#1f77b4\"},\"line_color\":{\"value\":\"#1f77b4\"},\"top\":{\"field\":\"top\"},\"width\":{\"value\":0.5},\"x\":{\"field\":\"x\"}},\"id\":\"1039\",\"type\":\"VBar\"},{\"attributes\":{\"bottom_units\":\"screen\",\"fill_alpha\":{\"value\":0.5},\"fill_color\":{\"value\":\"lightgrey\"},\"left_units\":\"screen\",\"level\":\"overlay\",\"line_alpha\":{\"value\":1.0},\"line_color\":{\"value\":\"black\"},\"line_dash\":[4,4],\"line_width\":{\"value\":2},\"plot\":null,\"render_mode\":\"css\",\"right_units\":\"screen\",\"top_units\":\"screen\"},\"id\":\"1031\",\"type\":\"BoxAnnotation\"},{\"attributes\":{},\"id\":\"1014\",\"type\":\"BasicTicker\"},{\"attributes\":{\"children\":[{\"id\":\"1003\",\"subtype\":\"Figure\",\"type\":\"Plot\"}]},\"id\":\"1052\",\"type\":\"Row\"},{\"attributes\":{},\"id\":\"1045\",\"type\":\"BasicTickFormatter\"},{\"attributes\":{\"data_source\":{\"id\":\"1038\",\"type\":\"ColumnDataSource\"},\"glyph\":{\"id\":\"1039\",\"type\":\"VBar\"},\"hover_glyph\":null,\"muted_glyph\":null,\"nonselection_glyph\":{\"id\":\"1040\",\"type\":\"VBar\"},\"selection_glyph\":null,\"view\":{\"id\":\"1042\",\"type\":\"CDSView\"}},\"id\":\"1041\",\"type\":\"GlyphRenderer\"},{\"attributes\":{},\"id\":\"1047\",\"type\":\"BasicTickFormatter\"},{\"attributes\":{\"dimension\":1,\"plot\":{\"id\":\"1003\",\"subtype\":\"Figure\",\"type\":\"Plot\"},\"ticker\":{\"id\":\"1019\",\"type\":\"BasicTicker\"}},\"id\":\"1022\",\"type\":\"Grid\"},{\"attributes\":{\"plot\":{\"id\":\"1003\",\"subtype\":\"Figure\",\"type\":\"Plot\"},\"ticker\":{\"id\":\"1014\",\"type\":\"BasicTicker\"},\"visible\":false},\"id\":\"1017\",\"type\":\"Grid\"},{\"attributes\":{},\"id\":\"1049\",\"type\":\"Selection\"},{\"attributes\":{\"formatter\":{\"id\":\"1047\",\"type\":\"BasicTickFormatter\"},\"plot\":{\"id\":\"1003\",\"subtype\":\"Figure\",\"type\":\"Plot\"},\"ticker\":{\"id\":\"1019\",\"type\":\"BasicTicker\"}},\"id\":\"1018\",\"type\":\"LinearAxis\"}],\"root_ids\":[\"1056\"]},\"title\":\"Bokeh Application\",\"version\":\"1.0.0\"}};\n",
       "  var render_items = [{\"docid\":\"ebaf0ae3-1119-45e9-8153-a2bd2ad2f7e8\",\"roots\":{\"1056\":\"30deeb07-760a-4fc6-beac-1cc740b8bf70\"}}];\n",
       "  root.Bokeh.embed.embed_items_notebook(docs_json, render_items);\n",
       "\n",
       "  }\n",
       "  if (root.Bokeh !== undefined) {\n",
       "    embed_document(root);\n",
       "  } else {\n",
       "    var attempts = 0;\n",
       "    var timer = setInterval(function(root) {\n",
       "      if (root.Bokeh !== undefined) {\n",
       "        embed_document(root);\n",
       "        clearInterval(timer);\n",
       "      }\n",
       "      attempts++;\n",
       "      if (attempts > 100) {\n",
       "        console.log(\"Bokeh: ERROR: Unable to run BokehJS code because BokehJS library is missing\");\n",
       "        clearInterval(timer);\n",
       "      }\n",
       "    }, 10, root)\n",
       "  }\n",
       "})(window);"
      ],
      "application/vnd.bokehjs_exec.v0+json": ""
     },
     "metadata": {
      "application/vnd.bokehjs_exec.v0+json": {
       "id": "1056"
      }
     },
     "output_type": "display_data"
    }
   ],
   "source": [
    "counts = defaultdict(int)\n",
    "with open('data/timit/train/trans') as f:\n",
    "    for line in f:\n",
    "        tokens = line.strip().split()[1:]\n",
    "        tokens =  [x[0] for x in groupby(tokens)] \n",
    "        tokens = map_trans(tokens, mapping)\n",
    "        for token in tokens:\n",
    "            counts[token] += 1\n",
    "            \n",
    "true_counts = np.array([value for _, value in counts.items()])\n",
    "weights = np.zeros(101)\n",
    "weights[:len(true_counts)] = np.sort(true_counts)[::-1] \n",
    "true_weights = weights / weights.sum()\n",
    "\n",
    "fig2 = figure(width=400, height=400, title='Mixing weights')\n",
    "fig2.vbar(range(len(true_weights)), width=.5, top=true_weights)\n",
    "fig2.xgrid.visible = False\n",
    "show(gridplot([[fig2]]))"
   ]
  },
  {
   "cell_type": "code",
   "execution_count": 4,
   "metadata": {},
   "outputs": [],
   "source": [
    "with open('exp/timit/aud_mfcc_4g_dirichlet/30.mdl', 'rb') as f:\n",
    "    model_d = pickle.load(f)\n",
    "d_weights = model_d.categorical.mean.sort(descending=True)[0].numpy()\n",
    "    \n",
    "with open('exp/timit/aud_mfcc_4g_dirichlet_process/20.mdl', 'rb') as f:\n",
    "    model_dp = pickle.load(f)\n",
    "dp_weights = model_dp.categorical.mean.sort(descending=True)[0].numpy()\n",
    "    \n",
    "with open('exp/timit/aud_mfcc_4g_gamma_dirichlet_process/20.mdl', 'rb') as f:\n",
    "    model_gdp = pickle.load(f)\n",
    "gdp_weights = model_gdp.categorical.mean.sort(descending=True)[0].numpy()"
   ]
  },
  {
   "cell_type": "code",
   "execution_count": 5,
   "metadata": {},
   "outputs": [
    {
     "data": {
      "text/html": [
       "\n",
       "\n",
       "\n",
       "\n",
       "\n",
       "\n",
       "  <div class=\"bk-root\" id=\"45b3fffd-b1dc-46de-9ec6-a796b2782a18\"></div>\n"
      ]
     },
     "metadata": {},
     "output_type": "display_data"
    },
    {
     "data": {
      "application/javascript": [
       "(function(root) {\n",
       "  function embed_document(root) {\n",
       "    \n",
       "  var docs_json = {\"75fe190c-763d-48e5-91c2-2834b9ed24e3\":{\"roots\":{\"references\":[{\"attributes\":{\"below\":[{\"id\":\"1124\",\"type\":\"LinearAxis\"}],\"left\":[{\"id\":\"1129\",\"type\":\"LinearAxis\"}],\"renderers\":[{\"id\":\"1124\",\"type\":\"LinearAxis\"},{\"id\":\"1128\",\"type\":\"Grid\"},{\"id\":\"1129\",\"type\":\"LinearAxis\"},{\"id\":\"1133\",\"type\":\"Grid\"},{\"id\":\"1142\",\"type\":\"BoxAnnotation\"},{\"id\":\"1160\",\"type\":\"Legend\"},{\"id\":\"1152\",\"type\":\"GlyphRenderer\"},{\"id\":\"1165\",\"type\":\"GlyphRenderer\"},{\"id\":\"1179\",\"type\":\"GlyphRenderer\"},{\"id\":\"1195\",\"type\":\"GlyphRenderer\"}],\"title\":{\"id\":\"1113\",\"type\":\"Title\"},\"toolbar\":{\"id\":\"1140\",\"type\":\"Toolbar\"},\"x_range\":{\"id\":\"1116\",\"type\":\"DataRange1d\"},\"x_scale\":{\"id\":\"1120\",\"type\":\"LinearScale\"},\"y_range\":{\"id\":\"1118\",\"type\":\"DataRange1d\"},\"y_scale\":{\"id\":\"1122\",\"type\":\"LinearScale\"}},\"id\":\"1114\",\"subtype\":\"Figure\",\"type\":\"Plot\"},{\"attributes\":{\"formatter\":{\"id\":\"1156\",\"type\":\"BasicTickFormatter\"},\"plot\":{\"id\":\"1114\",\"subtype\":\"Figure\",\"type\":\"Plot\"},\"ticker\":{\"id\":\"1125\",\"type\":\"BasicTicker\"}},\"id\":\"1124\",\"type\":\"LinearAxis\"},{\"attributes\":{\"source\":{\"id\":\"1149\",\"type\":\"ColumnDataSource\"}},\"id\":\"1153\",\"type\":\"CDSView\"},{\"attributes\":{},\"id\":\"1125\",\"type\":\"BasicTicker\"},{\"attributes\":{},\"id\":\"1156\",\"type\":\"BasicTickFormatter\"},{\"attributes\":{\"line_color\":\"green\",\"line_width\":2,\"x\":{\"field\":\"x\"},\"y\":{\"field\":\"y\"}},\"id\":\"1193\",\"type\":\"Line\"},{\"attributes\":{\"plot\":{\"id\":\"1114\",\"subtype\":\"Figure\",\"type\":\"Plot\"},\"ticker\":{\"id\":\"1125\",\"type\":\"BasicTicker\"},\"visible\":false},\"id\":\"1128\",\"type\":\"Grid\"},{\"attributes\":{},\"id\":\"1158\",\"type\":\"BasicTickFormatter\"},{\"attributes\":{\"line_alpha\":0.1,\"line_color\":\"#1f77b4\",\"line_width\":2,\"x\":{\"field\":\"x\"},\"y\":{\"field\":\"y\"}},\"id\":\"1194\",\"type\":\"Line\"},{\"attributes\":{\"data_source\":{\"id\":\"1192\",\"type\":\"ColumnDataSource\"},\"glyph\":{\"id\":\"1193\",\"type\":\"Line\"},\"hover_glyph\":null,\"muted_glyph\":null,\"nonselection_glyph\":{\"id\":\"1194\",\"type\":\"Line\"},\"selection_glyph\":null,\"view\":{\"id\":\"1196\",\"type\":\"CDSView\"}},\"id\":\"1195\",\"type\":\"GlyphRenderer\"},{\"attributes\":{\"formatter\":{\"id\":\"1158\",\"type\":\"BasicTickFormatter\"},\"plot\":{\"id\":\"1114\",\"subtype\":\"Figure\",\"type\":\"Plot\"},\"ticker\":{\"id\":\"1130\",\"type\":\"BasicTicker\"}},\"id\":\"1129\",\"type\":\"LinearAxis\"},{\"attributes\":{\"line_color\":\"blue\",\"line_width\":2,\"x\":{\"field\":\"x\"},\"y\":{\"field\":\"y\"}},\"id\":\"1163\",\"type\":\"Line\"},{\"attributes\":{},\"id\":\"1189\",\"type\":\"Selection\"},{\"attributes\":{},\"id\":\"1130\",\"type\":\"BasicTicker\"},{\"attributes\":{\"line_alpha\":0.1,\"line_color\":\"#1f77b4\",\"line_width\":2,\"x\":{\"field\":\"x\"},\"y\":{\"field\":\"y\"}},\"id\":\"1164\",\"type\":\"Line\"},{\"attributes\":{\"source\":{\"id\":\"1192\",\"type\":\"ColumnDataSource\"}},\"id\":\"1196\",\"type\":\"CDSView\"},{\"attributes\":{\"dimension\":1,\"plot\":{\"id\":\"1114\",\"subtype\":\"Figure\",\"type\":\"Plot\"},\"ticker\":{\"id\":\"1130\",\"type\":\"BasicTicker\"}},\"id\":\"1133\",\"type\":\"Grid\"},{\"attributes\":{\"data_source\":{\"id\":\"1162\",\"type\":\"ColumnDataSource\"},\"glyph\":{\"id\":\"1163\",\"type\":\"Line\"},\"hover_glyph\":null,\"muted_glyph\":null,\"nonselection_glyph\":{\"id\":\"1164\",\"type\":\"Line\"},\"selection_glyph\":null,\"view\":{\"id\":\"1166\",\"type\":\"CDSView\"}},\"id\":\"1165\",\"type\":\"GlyphRenderer\"},{\"attributes\":{},\"id\":\"1207\",\"type\":\"Selection\"},{\"attributes\":{\"line_alpha\":0.1,\"line_color\":\"#1f77b4\",\"line_dash\":[6],\"line_width\":2,\"x\":{\"field\":\"x\"},\"y\":{\"field\":\"y\"}},\"id\":\"1151\",\"type\":\"Line\"},{\"attributes\":{\"source\":{\"id\":\"1162\",\"type\":\"ColumnDataSource\"}},\"id\":\"1166\",\"type\":\"CDSView\"},{\"attributes\":{},\"id\":\"1208\",\"type\":\"UnionRenderers\"},{\"attributes\":{\"label\":{\"value\":\"GamDirProc\"},\"renderers\":[{\"id\":\"1195\",\"type\":\"GlyphRenderer\"}]},\"id\":\"1209\",\"type\":\"LegendItem\"},{\"attributes\":{\"line_dash\":[6],\"line_width\":2,\"x\":{\"field\":\"x\"},\"y\":{\"field\":\"y\"}},\"id\":\"1150\",\"type\":\"Line\"},{\"attributes\":{},\"id\":\"1173\",\"type\":\"Selection\"},{\"attributes\":{\"callback\":null,\"data\":{\"x\":[0,1,2,3,4,5,6,7,8,9,10,11,12,13,14,15,16,17,18,19,20,21,22,23,24,25,26,27,28,29,30,31,32,33,34,35,36,37,38,39,40,41,42,43,44,45,46,47,48,49,50,51,52,53,54,55,56,57,58,59,60,61,62,63,64,65,66,67,68,69,70,71,72,73,74,75,76,77,78,79,80,81,82,83,84,85,86,87,88,89,90,91,92,93,94,95,96,97,98,99,100],\"y\":{\"__ndarray__\":\"nD+qPVdeiD1l1G09fK1WPXJ0RT1d+jY9VDgpPdliHD28rhE9vtkGPaJz/DwST+88sdXkPHp92zzYtdI8HF7LPOX/xDzzc788qCm6PGODtDzEHq88DnKqPNnYpDwNU548gyKXPFozjjyI4YM8RuRxPHbKWjywdUI8sdItPFEcGjyJRQU8RBnqO8FzyTu6mbA7ohyWO5rDezsl0EY7tfElO/OK/zq9hb86vXyEOh+FSjpr+gg6myemOZX+aTmLcyg5HTr1OIFFgjjYNjc46WKoN3SZDzeD1gw3iy5LNq0yRzbPSkM2i3Y/NoC1OzZNBzg2k2s0NvXhMDYaai02pwMqNkWuJjafaSM2YDUgNjYRHTbR/Bk24fcWNhkCFDYtGxE20kIONr54CzarvAg2Ug4GNm5tAza82QA28qX8Ncmx9zV91vI1khPuNY1o6TX31OQ1WVjgNUHy2zU9otc132fTNbpCzzVjMss1cjbHNYFOwzUqer81Dbm7NcgKuDX9brQ1TuWwNWJtrTXeBqo1bLGmNbZsozU=\",\"dtype\":\"float32\",\"shape\":[101]}},\"selected\":{\"id\":\"1207\",\"type\":\"Selection\"},\"selection_policy\":{\"id\":\"1208\",\"type\":\"UnionRenderers\"}},\"id\":\"1176\",\"type\":\"ColumnDataSource\"},{\"attributes\":{\"data_source\":{\"id\":\"1149\",\"type\":\"ColumnDataSource\"},\"glyph\":{\"id\":\"1150\",\"type\":\"Line\"},\"hover_glyph\":null,\"muted_glyph\":null,\"nonselection_glyph\":{\"id\":\"1151\",\"type\":\"Line\"},\"selection_glyph\":null,\"view\":{\"id\":\"1153\",\"type\":\"CDSView\"}},\"id\":\"1152\",\"type\":\"GlyphRenderer\"},{\"attributes\":{\"label\":{\"value\":\"True\"},\"renderers\":[{\"id\":\"1152\",\"type\":\"GlyphRenderer\"}]},\"id\":\"1161\",\"type\":\"LegendItem\"},{\"attributes\":{},\"id\":\"1174\",\"type\":\"UnionRenderers\"},{\"attributes\":{},\"id\":\"1134\",\"type\":\"PanTool\"},{\"attributes\":{},\"id\":\"1231\",\"type\":\"UnionRenderers\"},{\"attributes\":{\"label\":{\"value\":\"Dir\"},\"renderers\":[{\"id\":\"1165\",\"type\":\"GlyphRenderer\"}]},\"id\":\"1175\",\"type\":\"LegendItem\"},{\"attributes\":{\"label\":{\"value\":\"DirProc\"},\"renderers\":[{\"id\":\"1179\",\"type\":\"GlyphRenderer\"}]},\"id\":\"1191\",\"type\":\"LegendItem\"},{\"attributes\":{},\"id\":\"1135\",\"type\":\"WheelZoomTool\"},{\"attributes\":{\"callback\":null,\"data\":{\"x\":[0,1,2,3,4,5,6,7,8,9,10,11,12,13,14,15,16,17,18,19,20,21,22,23,24,25,26,27,28,29,30,31,32,33,34,35,36,37,38,39,40,41,42,43,44,45,46,47,48,49,50,51,52,53,54,55,56,57,58,59,60,61,62,63,64,65,66,67,68,69,70,71,72,73,74,75,76,77,78,79,80,81,82,83,84,85,86,87,88,89,90,91,92,93,94,95,96,97,98,99,100],\"y\":{\"__ndarray__\":\"ENS0PUSckD3iNHs9YM1hPfNKTz0++z89GbgxPWMjJD3XLhg9OvcLPa5dAz0LvfY8/4PrPHC33zxne9c8zKvOPHxFyDz9WME8w9a7PGNwtTwPTq48J9qnPM5YoTwHKpk8UFuPPHFlhDyx4248OUNSPHx3ODxV+iA8jUULPG6y7jsUTcw7+q2tOymxjzuicmg7rYRDO4nDHTsgFfo6gDHAOhAMgzqKUjI6Aj4DOvpxpTnDQlI5lk7qOKQdpTiWNxU4RxWRN7+GMjf48/81GJPNNbccpTUZnYQ1EQZVNU0YKzVDawk1Fb7cNG5LsTT4ZY40wb1kNAW4NzTljhM0gwftM0BgvjOn55gzY551MzxGRTMLch4zsYT+MhxszDLAL6Qy196DMn/UUzLgIioyHKYIMmOB2zEGTbAxo5mNMXl1YzFasDYxO7sSMZCz6zAfT70wSAyYMOE9dDAdK0QwpY4dMGoX/S/tRssvRkSjL6Yhgy98pFIvsy4pL//hBy9cRtouAFCvLo3OjC5AL2IuV6o1LqboES4=\",\"dtype\":\"float32\",\"shape\":[101]}},\"selected\":{\"id\":\"1230\",\"type\":\"Selection\"},\"selection_policy\":{\"id\":\"1231\",\"type\":\"UnionRenderers\"}},\"id\":\"1192\",\"type\":\"ColumnDataSource\"},{\"attributes\":{},\"id\":\"1230\",\"type\":\"Selection\"},{\"attributes\":{\"overlay\":{\"id\":\"1142\",\"type\":\"BoxAnnotation\"}},\"id\":\"1136\",\"type\":\"BoxZoomTool\"},{\"attributes\":{\"callback\":null,\"data\":{\"x\":[0,1,2,3,4,5,6,7,8,9,10,11,12,13,14,15,16,17,18,19,20,21,22,23,24,25,26,27,28,29,30,31,32,33,34,35,36,37,38,39,40,41,42,43,44,45,46,47,48,49,50,51,52,53,54,55,56,57,58,59,60,61,62,63,64,65,66,67,68,69,70,71,72,73,74,75,76,77,78,79,80,81,82,83,84,85,86,87,88,89,90,91,92,93,94,95,96,97,98,99,100],\"y\":{\"__ndarray__\":\"PYyigACFuj8Z7SC8UC+xP1mrKZNENqw/rG42kgwgrD+aI8vxZoyoP6Eq7h/VYKU/rVrv5fAApT8Y/YUex8miP7XEsUbuw6I/T7gqTNMIoj8tidWHvFShP+Zm3T7D0aA/HLFufBxKoD+Gi/hvoOudP9ydXfXbpJc/Fqw88wA4lj/PiUSqB7WVP2RW0LyR8JQ/Ao8P1WuxlD8DcTa10T6UP0Ine/h6PJQ/l1ub5/Xskz9pe8wKmjeSP+3waWStyZE/R0x3RoODkT9DB7EzjgeRP/3ubSMyUI4/UiOOEq0Ajj+SuQiRacmKPyD6Ftm2SoY/VkSoFhDDhT+RszWicYKCP2RU3xc/LoI/BjOT0EqXgD9N/KAfUvd9P8+NJvSsOXs/efZm0qKaej/wNTB3okVyPxasPPMAOGY/AAAAAAAAAAAAAAAAAAAAAAAAAAAAAAAAAAAAAAAAAAAAAAAAAAAAAAAAAAAAAAAAAAAAAAAAAAAAAAAAAAAAAAAAAAAAAAAAAAAAAAAAAAAAAAAAAAAAAAAAAAAAAAAAAAAAAAAAAAAAAAAAAAAAAAAAAAAAAAAAAAAAAAAAAAAAAAAAAAAAAAAAAAAAAAAAAAAAAAAAAAAAAAAAAAAAAAAAAAAAAAAAAAAAAAAAAAAAAAAAAAAAAAAAAAAAAAAAAAAAAAAAAAAAAAAAAAAAAAAAAAAAAAAAAAAAAAAAAAAAAAAAAAAAAAAAAAAAAAAAAAAAAAAAAAAAAAAAAAAAAAAAAAAAAAAAAAAAAAAAAAAAAAAAAAAAAAAAAAAAAAAAAAAAAAAAAAAAAAAAAAAAAAAAAAAAAAAAAAAAAAAAAAAAAAAAAAAAAAAAAAAAAAAAAAAAAAAAAAAAAAAAAAAAAAAAAAAAAAAAAAAAAAAAAAAAAAAAAAAAAAAAAAAAAAAAAAAAAAAAAAAAAAAAAAAAAAAAAAAAAAAAAAAAAAAAAAAAAAAAAAAAAAAAAAAAAAAAAAAAAAAAAAAAAAAAAAAAAAAAAAAAAAAAAAAAAAAAAAAAAAAAAAAAAAAAAAAAAAAAAAAAAAAAAAAAAAAAAAAAAA==\",\"dtype\":\"float64\",\"shape\":[101]}},\"selected\":{\"id\":\"1173\",\"type\":\"Selection\"},\"selection_policy\":{\"id\":\"1174\",\"type\":\"UnionRenderers\"}},\"id\":\"1149\",\"type\":\"ColumnDataSource\"},{\"attributes\":{\"line_color\":\"red\",\"line_width\":2,\"x\":{\"field\":\"x\"},\"y\":{\"field\":\"y\"}},\"id\":\"1177\",\"type\":\"Line\"},{\"attributes\":{},\"id\":\"1137\",\"type\":\"SaveTool\"},{\"attributes\":{\"callback\":null,\"data\":{\"x\":[0,1,2,3,4,5,6,7,8,9,10,11,12,13,14,15,16,17,18,19,20,21,22,23,24,25,26,27,28,29,30,31,32,33,34,35,36,37,38,39,40,41,42,43,44,45,46,47,48,49,50,51,52,53,54,55,56,57,58,59,60,61,62,63,64,65,66,67,68,69,70,71,72,73,74,75,76,77,78,79,80,81,82,83,84,85,86,87,88,89,90,91,92,93,94,95,96,97,98,99,100],\"y\":{\"__ndarray__\":\"7uGGPbsG3TypddA8O6rMPIftxDxwCsQ8QqDBPATtszzJ07M8FrusPH9xqDzsb6U8wk2kPDOUojw/Q6A8x2yfPMGAnTxAGpo8LNuZPBRUmDznjZY8qCyVPM8GlTzw9JI8nFSRPFmrjjyq2og8zWyHPBl9hjzF3IQ8hNeCPNDngTz3wYE8BBGBPKMhgDwOpXo8mu10PC7GcTz6b2080fFsPBteazxLn2c8XTpnPP+YWzyIZls8i+FVPEyAVDwqxU88npA7PKELNjyNoy88KQwvPCg/KDzHIiI8ak4dPMINGjyVquQ7KOSXN6LayzYW0X8zFtF/MxbRfzMW0X8zFtF/MxbRfzMW0X8zFtF/MxbRfzMW0X8zFtF/MxbRfzMW0X8zFtF/MxbRfzMW0X8zFtF/MxbRfzMW0X8zFtF/MxbRfzMW0X8zFtF/MxbRfzMW0X8zFtF/MxbRfzMW0X8zFtF/MxbRfzMW0X8zFtF/MxbRfzMW0X8zFtF/MxbRfzMW0X8zFtF/MxbRfzMW0X8zFtF/MxbRfzM=\",\"dtype\":\"float32\",\"shape\":[101]}},\"selected\":{\"id\":\"1189\",\"type\":\"Selection\"},\"selection_policy\":{\"id\":\"1190\",\"type\":\"UnionRenderers\"}},\"id\":\"1162\",\"type\":\"ColumnDataSource\"},{\"attributes\":{\"line_alpha\":0.1,\"line_color\":\"#1f77b4\",\"line_width\":2,\"x\":{\"field\":\"x\"},\"y\":{\"field\":\"y\"}},\"id\":\"1178\",\"type\":\"Line\"},{\"attributes\":{},\"id\":\"1138\",\"type\":\"ResetTool\"},{\"attributes\":{\"plot\":null,\"text\":\"Mixing weights\"},\"id\":\"1113\",\"type\":\"Title\"},{\"attributes\":{\"data_source\":{\"id\":\"1176\",\"type\":\"ColumnDataSource\"},\"glyph\":{\"id\":\"1177\",\"type\":\"Line\"},\"hover_glyph\":null,\"muted_glyph\":null,\"nonselection_glyph\":{\"id\":\"1178\",\"type\":\"Line\"},\"selection_glyph\":null,\"view\":{\"id\":\"1180\",\"type\":\"CDSView\"}},\"id\":\"1179\",\"type\":\"GlyphRenderer\"},{\"attributes\":{},\"id\":\"1139\",\"type\":\"HelpTool\"},{\"attributes\":{\"callback\":null},\"id\":\"1116\",\"type\":\"DataRange1d\"},{\"attributes\":{\"source\":{\"id\":\"1176\",\"type\":\"ColumnDataSource\"}},\"id\":\"1180\",\"type\":\"CDSView\"},{\"attributes\":{\"active_drag\":\"auto\",\"active_inspect\":\"auto\",\"active_multi\":null,\"active_scroll\":\"auto\",\"active_tap\":\"auto\",\"tools\":[{\"id\":\"1134\",\"type\":\"PanTool\"},{\"id\":\"1135\",\"type\":\"WheelZoomTool\"},{\"id\":\"1136\",\"type\":\"BoxZoomTool\"},{\"id\":\"1137\",\"type\":\"SaveTool\"},{\"id\":\"1138\",\"type\":\"ResetTool\"},{\"id\":\"1139\",\"type\":\"HelpTool\"}]},\"id\":\"1140\",\"type\":\"Toolbar\"},{\"attributes\":{\"callback\":null},\"id\":\"1118\",\"type\":\"DataRange1d\"},{\"attributes\":{},\"id\":\"1120\",\"type\":\"LinearScale\"},{\"attributes\":{},\"id\":\"1190\",\"type\":\"UnionRenderers\"},{\"attributes\":{\"bottom_units\":\"screen\",\"fill_alpha\":{\"value\":0.5},\"fill_color\":{\"value\":\"lightgrey\"},\"left_units\":\"screen\",\"level\":\"overlay\",\"line_alpha\":{\"value\":1.0},\"line_color\":{\"value\":\"black\"},\"line_dash\":[4,4],\"line_width\":{\"value\":2},\"plot\":null,\"render_mode\":\"css\",\"right_units\":\"screen\",\"top_units\":\"screen\"},\"id\":\"1142\",\"type\":\"BoxAnnotation\"},{\"attributes\":{},\"id\":\"1122\",\"type\":\"LinearScale\"},{\"attributes\":{\"items\":[{\"id\":\"1161\",\"type\":\"LegendItem\"},{\"id\":\"1175\",\"type\":\"LegendItem\"},{\"id\":\"1191\",\"type\":\"LegendItem\"},{\"id\":\"1209\",\"type\":\"LegendItem\"}],\"plot\":{\"id\":\"1114\",\"subtype\":\"Figure\",\"type\":\"Plot\"}},\"id\":\"1160\",\"type\":\"Legend\"}],\"root_ids\":[\"1114\"]},\"title\":\"Bokeh Application\",\"version\":\"1.0.0\"}};\n",
       "  var render_items = [{\"docid\":\"75fe190c-763d-48e5-91c2-2834b9ed24e3\",\"roots\":{\"1114\":\"45b3fffd-b1dc-46de-9ec6-a796b2782a18\"}}];\n",
       "  root.Bokeh.embed.embed_items_notebook(docs_json, render_items);\n",
       "\n",
       "  }\n",
       "  if (root.Bokeh !== undefined) {\n",
       "    embed_document(root);\n",
       "  } else {\n",
       "    var attempts = 0;\n",
       "    var timer = setInterval(function(root) {\n",
       "      if (root.Bokeh !== undefined) {\n",
       "        embed_document(root);\n",
       "        clearInterval(timer);\n",
       "      }\n",
       "      attempts++;\n",
       "      if (attempts > 100) {\n",
       "        console.log(\"Bokeh: ERROR: Unable to run BokehJS code because BokehJS library is missing\");\n",
       "        clearInterval(timer);\n",
       "      }\n",
       "    }, 10, root)\n",
       "  }\n",
       "})(window);"
      ],
      "application/vnd.bokehjs_exec.v0+json": ""
     },
     "metadata": {
      "application/vnd.bokehjs_exec.v0+json": {
       "id": "1114"
      }
     },
     "output_type": "display_data"
    }
   ],
   "source": [
    "fig = figure(title='Mixing weights')\n",
    "fig.line(range(len(true_weights)), true_weights, color='black', line_width=2, line_dash='dashed', legend='True')\n",
    "fig.line(range(len(d_weights)), d_weights, line_width=2, color='blue', legend='Dir')\n",
    "fig.line(range(len(dp_weights)), dp_weights, line_width=2, color='red', legend='DirProc')\n",
    "fig.line(range(len(dp_weights)), gdp_weights, line_width=2, color='green', legend='GamDirProc')\n",
    "fig.xgrid.visible = False\n",
    "show(fig)"
   ]
  },
  {
   "cell_type": "code",
   "execution_count": 218,
   "metadata": {},
   "outputs": [
    {
     "name": "stdout",
     "output_type": "stream",
     "text": [
      "sil h#\n",
      "au49 q\n",
      "au74 kcl\n",
      "au100 iy\n",
      "au68 ih\n",
      "au8 m\n",
      "au3 n\n",
      "au11 n\n",
      "au71 ae\n",
      "au50 n\n",
      "au41 h#\n",
      "au86 h#\n",
      "au75 ix\n",
      "au80 ih\n",
      "au12 sh\n",
      "au24 tcl\n",
      "au9 ix\n",
      "au47 h#\n",
      "au21 ay\n",
      "au23 s\n",
      "au13 dh\n",
      "au30 f\n",
      "au6 aa\n",
      "au95 aw\n",
      "au31 tcl\n",
      "au5 ae\n",
      "au88 ix\n",
      "au18 k\n",
      "au40 kcl\n",
      "au91 s\n",
      "au98 h#\n",
      "au92 w\n",
      "au58 bcl\n",
      "au38 ah\n",
      "au15 s\n",
      "au14 s\n",
      "au59 m\n",
      "au37 n\n",
      "au22 s\n",
      "au33 ay\n",
      "au54 el\n",
      "au96 n\n",
      "au46 w\n",
      "au69 k\n",
      "au73 pcl\n",
      "au76 q\n",
      "au63 h#\n",
      "au89 ae\n",
      "au90 ow\n",
      "au97 ow\n",
      "au1 n\n",
      "au70 ey\n",
      "au34 kcl\n",
      "au56 t\n",
      "au61 axr\n",
      "au67 m\n",
      "au28 k\n",
      "au42 er\n",
      "au66 tcl\n",
      "au17 s\n",
      "au48 s\n",
      "au16 m\n",
      "au20 r\n",
      "au57 dcl\n",
      "au64 p\n",
      "au93 ih\n",
      "au39 r\n",
      "au43 er\n",
      "au72 n\n",
      "au36 w\n",
      "au94 er\n",
      "au53 s\n",
      "au35 iy\n",
      "au7 iy\n",
      "au52 f\n",
      "au81 s\n",
      "au27 ah\n",
      "au19 tcl\n",
      "au2 r\n",
      "au26 h#\n",
      "au84 iy\n",
      "au44 ay\n",
      "au99 s\n",
      "au62 ey\n",
      "au4 iy\n",
      "au82 l\n",
      "au83 axr\n",
      "au60 r\n",
      "au79 l\n",
      "au45 h#\n",
      "au87 ae\n",
      "au25 r\n",
      "au10 n\n",
      "au65 t\n",
      "au78 s\n",
      "au29 aa\n",
      "au85 sh\n",
      "au32 kcl\n",
      "au51 z\n",
      "au55 ao\n",
      "au77 ix\n"
     ]
    }
   ],
   "source": [
    "with open('exp/timit/aud_mfcc_4g_dirichlet_process/decode_perframe/train/score/au_phone', 'r') as f:\n",
    "    for line in f:\n",
    "        print(line.strip())"
   ]
  },
  {
   "cell_type": "code",
   "execution_count": 209,
   "metadata": {},
   "outputs": [],
   "source": [
    "with open('exp/timit/aud_mfcc_4g_dirichlet_process/decode_perframe/train/score/au_phone_counts.yml', 'rb') as f:\n",
    "    counts = yaml.load(f)\n",
    "counts\n",
    "aus = list(counts.keys())\n",
    "phone_counts = defaultdict(lambda: defaultdict(int))\n",
    "for au, au_counts in counts.items():\n",
    "    for phone, pcounts in au_counts.items():\n",
    "        if phone != 'q':\n",
    "            phone_counts[mapping[phone]][au] += pcounts"
   ]
  },
  {
   "cell_type": "code",
   "execution_count": 210,
   "metadata": {},
   "outputs": [
    {
     "data": {
      "text/plain": [
       "39"
      ]
     },
     "execution_count": 210,
     "metadata": {},
     "output_type": "execute_result"
    }
   ],
   "source": [
    "sphones = '''\n",
    "iy\n",
    "ih\n",
    "ey\n",
    "eh\n",
    "y\n",
    "ae\n",
    "ay\n",
    "aw\n",
    "aa\n",
    "ah\n",
    "uh\n",
    "uw\n",
    "ow\n",
    "oy\n",
    "w\n",
    "l\n",
    "er\n",
    "r\n",
    "m\n",
    "n\n",
    "ng\n",
    "z\n",
    "s\n",
    "sh\n",
    "ch\n",
    "jh\n",
    "hh\n",
    "v\n",
    "f\n",
    "dh\n",
    "th\n",
    "d\n",
    "b\n",
    "dx\n",
    "g\n",
    "t\n",
    "p\n",
    "k\n",
    "sil\n",
    "'''.split()\n",
    "\n",
    "len(sphones)"
   ]
  },
  {
   "cell_type": "code",
   "execution_count": 211,
   "metadata": {},
   "outputs": [],
   "source": [
    "scounts = {}\n",
    "#for key, val in counts.items():\n",
    "#    print(key)"
   ]
  },
  {
   "cell_type": "code",
   "execution_count": 212,
   "metadata": {},
   "outputs": [
    {
     "data": {
      "text/plain": [
       "(101,)"
      ]
     },
     "execution_count": 212,
     "metadata": {},
     "output_type": "execute_result"
    }
   ],
   "source": [
    "mat = np.zeros((39, 101))\n",
    "for i, phone in enumerate(sphones):\n",
    "    for j, au in enumerate(aus):\n",
    "        mat[i, j] += phone_counts[phone][au]\n",
    "\n",
    "#mat = mat / (1e-6 + mat.sum(axis=0, keepdims=True))\n",
    "#mat = np.log(1e-6 + mat)\n",
    "mat.sum(axis=0).shape"
   ]
  },
  {
   "cell_type": "code",
   "execution_count": 215,
   "metadata": {},
   "outputs": [],
   "source": [
    "sidx = np.argmax(mat, axis=0)\n",
    "sidx\n",
    "nmat = np.zeros_like(mat)\n",
    "nmat[sidx, range(101)] = 1\n",
    "#mat = nmat"
   ]
  },
  {
   "cell_type": "code",
   "execution_count": 216,
   "metadata": {},
   "outputs": [
    {
     "data": {
      "text/html": [
       "\n",
       "\n",
       "\n",
       "\n",
       "\n",
       "\n",
       "  <div class=\"bk-root\" id=\"5a512d0d-e1ce-474c-97a5-e471b434d0dc\"></div>\n"
      ]
     },
     "metadata": {},
     "output_type": "display_data"
    },
    {
     "data": {
      "application/javascript": [
       "(function(root) {\n",
       "  function embed_document(root) {\n",
       "    \n",
       "  var docs_json = {\"c6665585-0a76-4d60-937f-953f61472347\":{\"roots\":{\"references\":[{\"attributes\":{\"below\":[{\"id\":\"16299\",\"type\":\"LinearAxis\"}],\"left\":[{\"id\":\"16304\",\"type\":\"LinearAxis\"}],\"renderers\":[{\"id\":\"16299\",\"type\":\"LinearAxis\"},{\"id\":\"16303\",\"type\":\"Grid\"},{\"id\":\"16304\",\"type\":\"LinearAxis\"},{\"id\":\"16308\",\"type\":\"Grid\"},{\"id\":\"16317\",\"type\":\"BoxAnnotation\"},{\"id\":\"16329\",\"type\":\"GlyphRenderer\"}],\"title\":{\"id\":\"16741\",\"type\":\"Title\"},\"toolbar\":{\"id\":\"16315\",\"type\":\"Toolbar\"},\"x_range\":{\"id\":\"16291\",\"type\":\"Range1d\"},\"x_scale\":{\"id\":\"16295\",\"type\":\"LinearScale\"},\"y_range\":{\"id\":\"16293\",\"type\":\"Range1d\"},\"y_scale\":{\"id\":\"16297\",\"type\":\"LinearScale\"}},\"id\":\"16290\",\"subtype\":\"Figure\",\"type\":\"Plot\"},{\"attributes\":{\"ticks\":[0,1,2,3,4,5,6,7,8,9,10,11,12,13,14,15,16,17,18,19,20,21,22,23,24,25,26,27,28,29,30,31,32,33,34,35,36,37,38]},\"id\":\"16331\",\"type\":\"FixedTicker\"},{\"attributes\":{},\"id\":\"16746\",\"type\":\"UnionRenderers\"},{\"attributes\":{},\"id\":\"16314\",\"type\":\"HelpTool\"},{\"attributes\":{\"dimension\":1,\"plot\":{\"id\":\"16290\",\"subtype\":\"Figure\",\"type\":\"Plot\"},\"ticker\":{\"id\":\"16305\",\"type\":\"BasicTicker\"}},\"id\":\"16308\",\"type\":\"Grid\"},{\"attributes\":{\"active_drag\":\"auto\",\"active_inspect\":\"auto\",\"active_multi\":null,\"active_scroll\":\"auto\",\"active_tap\":\"auto\",\"tools\":[{\"id\":\"16309\",\"type\":\"PanTool\"},{\"id\":\"16310\",\"type\":\"WheelZoomTool\"},{\"id\":\"16311\",\"type\":\"BoxZoomTool\"},{\"id\":\"16312\",\"type\":\"SaveTool\"},{\"id\":\"16313\",\"type\":\"ResetTool\"},{\"id\":\"16314\",\"type\":\"HelpTool\"}]},\"id\":\"16315\",\"type\":\"Toolbar\"},{\"attributes\":{\"callback\":null,\"data\":{\"image\":[{\"__ndarray__\":\"AAAAAAAAAAAAAAAAAAAAAAAAAAAAAAAAAAAAAAAAAAAAAAAAAAAAAAAAAAAAAAAAAAAAAAAAAAAAAAAAAAAAAAAAAAAAAAAAAAAAAAAAAAAAAAAAAAAAAAAAAAAAAAAAAAAAAAAAAAAAAAAAAAAAAAAAAAAAAAAAAAAAAAAAAAAAAAAAAAAAAAAAAAAAAAAAAAAAAAAAAAAAAAAAAADwPwAAAAAAAAAAAAAAAAAAAAAAAAAAAAAAAAAAAAAAAAAAAAAAAAAAAAAAAAAAAAAAAAAAAAAAAAAAAAAAAAAAAAAAAAAAAAAAAAAAAAAAAAAAAAAAAAAAAAAAAAAAAAAAAAAAAAAAAAAAAAAAAAAAAAAAAAAAAAAAAAAAAAAAAAAAAAAAAAAAAAAAAAAAAAAAAAAAAAAAAAAAAAAAAAAAAAAAAAAAAAAAAAAAAAAAAAAAAAAAAAAAAAAAAAAAAAAAAAAAAAAAAAAAAAAAAAAAAAAAAAAAAAAAAAAAAAAAAAAAAAAAAAAAAAAAAAAAAAAAAAAAAAAAAAAAAAAAAAAAAAAAAAAAAAAAAAAAAAAAAAAAAAAAAAAAAAAAAAAAAAAAAAAAAAAAAAAAAAAAAAAAAAAAAAAAAADwPwAAAAAAAAAAAAAAAAAAAAAAAAAAAAAAAAAAAAAAAAAAAAAAAAAAAAAAAAAAAAAAAAAAAAAAAAAAAAAAAAAAAAAAAAAAAAAAAAAAAAAAAAAAAAAAAAAAAAAAAAAAAAAAAAAAAAAAAAAAAAAAAAAAAAAAAAAAAAAAAAAAAAAAAAAAAAAAAAAAAAAAAAAAAAAAAAAAAAAAAAAAAAAAAAAA8D8AAAAAAAAAAAAAAAAAAAAAAAAAAAAAAAAAAAAAAAAAAAAAAAAAAAAAAAAAAAAAAAAAAAAAAAAAAAAAAAAAAAAAAAAAAAAAAAAAAAAAAAAAAAAAAAAAAAAAAAAAAAAAAAAAAAAAAAAAAAAAAAAAAAAAAAAAAAAAAAAAAAAAAAAAAAAAAAAAAAAAAAAAAAAAAAAAAAAAAAAAAAAAAAAAAAAAAAAAAAAAAAAAAAAAAAAAAAAAAAAAAAAAAAAAAAAAAAAAAAAAAAAAAAAAAAAAAAAAAAAAAAAAAAAAAAAAAAAAAAAAAAAAAAAAAAAAAAAAAAAAAAAAAAAAAAAAAAAAAAAAAAAAAAAAAAAAAAAAAAAAAAAAAAAAAAAAAAAAAAAAAAAAAAAAAAAAAAAAAAAAAAAAAAAAAAAAAAAAAAAAAAAAAAAAAAAAAAAAAAAAAAAAAAAAAAAAAAAAAAAAAAAAAAAAAAAAAAAAAAAAAAAAAAAAAAAAAAAAAAAAAAAAAAAAAAAAAAAAAAAAAAAAAAAAAAAAAAAAAAAAAAAAAAAAAAAAAAAAAAAAAAAAAAAAAAAAAAAAAAAAAAAAAAAAAAAAAAAAAAAAAAAAAAAAAAAAAADwPwAAAAAAAAAAAAAAAAAAAAAAAAAAAAAAAAAAAAAAAAAAAAAAAAAAAAAAAAAAAAAAAAAAAAAAAAAAAAAAAAAAAAAAAAAAAAAAAAAAAAAAAAAAAAAAAAAAAAAAAAAAAAAAAAAAAAAAAAAAAAAAAAAAAAAAAAAAAAAAAAAAAAAAAAAAAAAAAAAAAAAAAAAAAAAAAAAAAAAAAAAAAAAAAAAAAAAAAAAAAAAAAAAAAAAAAAAAAAAAAAAAAAAAAAAAAAAAAAAAAAAAAAAAAAAAAAAAAAAAAAAAAAAAAAAAAAAAAAAAAAAAAAAAAAAAAAAAAAAAAAAAAAAAAAAAAAAAAAAAAAAAAAAAAAAAAAAAAAAAAAAAAAAAAAAAAAAAAAAAAAAAAAAAAAAAAAAAAAAAAAAAAAAAAAAAAAAAAAAAAAAAAAAAAAAAAAAAAAAAAAAAAAAAAAAAAAAAAPA/AAAAAAAAAAAAAAAAAAAAAAAAAAAAAAAAAAAAAAAAAAAAAAAAAAAAAAAAAAAAAAAAAAAAAAAAAAAAAAAAAAAAAAAAAAAAAAAAAAAAAAAAAAAAAAAAAAAAAAAAAAAAAAAAAAAAAAAAAAAAAAAAAAAAAAAAAAAAAAAAAAAAAAAAAAAAAAAAAADwPwAAAAAAAAAAAAAAAAAAAAAAAAAAAAAAAAAAAAAAAAAAAAAAAAAAAAAAAAAAAAAAAAAAAAAAAAAAAAAAAAAAAAAAAAAAAAAAAAAAAAAAAAAAAAAAAAAAAAAAAAAAAAAAAAAAAAAAAAAAAAAAAAAAAAAAAAAAAAAAAAAAAAAAAAAAAAAAAAAAAAAAAAAAAAAAAAAAAAAAAAAAAAAAAAAAAAAAAAAAAAAAAAAAAAAAAAAAAAAAAAAAAAAAAAAAAAAAAAAAAAAAAAAAAAAAAAAAAAAAAAAAAAAAAAAAAAAAAAAAAAAAAAAAAAAAAAAAAAAAAAAAAAAAAAAAAAAAAAAAAAAAAAAAAAAAAAAAAAAAAAAAAAAAAAAAAAAAAAAAAAAAAAAAAAAAAAAAAAAAAAAAAAAAAAAAAAAAAAAAAAAAAAAAAAAAAAAAAAAAAAAAAAAAAAAAAAAAAAAAAAAAAAAAAAAAAAAAAAAAAAAAAAAAAAAAAAAAAAAAAAAAAAAAAAAAAAAAAAAAAAAAAAAAAAAAAAAAAAAAAAAAAAAAAAAAAAAAAAAAAAAAAAAAAAAAAAAAAAAAAAAAAAAAAAAAAAAAAAAAAAAAAAAAAAAAAAAAAAAAAAAAAAAAAAAAAAAAAADwPwAAAAAAAAAAAAAAAAAAAAAAAAAAAAAAAAAAAAAAAAAAAAAAAAAAAAAAAAAAAAAAAAAAAAAAAAAAAAAAAAAAAAAAAAAAAAAAAAAAAAAAAAAAAAAAAAAAAAAAAAAAAAAAAAAAAAAAAAAAAAAAAAAAAAAAAAAAAAAAAAAAAAAAAAAAAAAAAAAAAAAAAAAAAAAAAAAAAAAAAAAAAAAAAAAAAAAAAAAAAAAAAAAAAAAAAAAAAAAAAAAAAAAAAAAAAAAAAAAAAAAAAAAAAAAAAAAAAAAAAAAAAAAAAAAAAAAAAAAAAAAAAAAAAAAAAAAAAAAAAAAAAAAAAAAAAAAAAAAAAAAAAAAAAAAAAAAAAAAAAAAAAAAAAAAAAAAAAAAAAAAAAAAAAAAAAAAAAAAAAAAAAAAAAAAAAADwPwAAAAAAAAAAAAAAAAAAAAAAAAAAAAAAAAAAAAAAAAAAAAAAAAAAAAAAAAAAAAAAAAAAAAAAAAAAAAAAAAAAAAAAAAAAAAAAAAAAAAAAAAAAAAAAAAAAAAAAAAAAAAAAAAAAAAAAAAAAAAAAAAAAAAAAAAAAAAAAAAAAAAAAAAAAAAAAAAAAAAAAAAAAAAAAAAAAAAAAAAAAAAAAAAAAAAAAAAAAAAAAAAAAAAAAAAAAAAAAAAAAAAAAAAAAAAAAAAAAAAAAAAAAAAAAAAAAAAAAAAAAAAAAAAAAAAAAAAAAAAAAAAAAAAAAAAAAAAAAAAAAAAAAAAAAAAAAAAAAAAAAAAAAAAAAAAAAAAAAAAAAAAAAAAAA8D8AAAAAAAAAAAAAAAAAAAAAAAAAAAAAAAAAAAAAAAAAAAAAAAAAAAAAAAAAAAAAAAAAAAAAAAAAAAAAAAAAAAAAAAAAAAAAAAAAAAAAAAAAAAAAAAAAAAAAAAAAAAAAAAAAAAAAAAAAAAAAAAAAAAAAAAAAAAAAAAAAAAAAAAAAAAAAAAAAAAAAAAAAAAAAAAAAAAAAAAAAAAAAAAAAAAAAAAAAAAAAAAAAAAAAAAAAAAAAAAAAAAAAAAAAAAAAAAAAAAAAAAAAAAAAAAAAAAAAAAAAAAAAAAAAAAAAAAAAAAAAAAAAAAAAAAAAAAAAAAAAAAAAAAAAAAAAAAAAAAAAAAAAAAAAAAAAAAAAAAAAAAAAAAAAAAAAAAAAAAAAAAAAAAAAAAAAAAAAAAAAAAAAAAAAAAAAAAAAAAAAAAAAAAAAAAAAAAAAAAAAAAAAAAAAAAAAAAAAAAAAAAAAAAAAAAAAAAAAAAAAAAAAAAAAAAAAAAAAAAAAAAAAAAAAAAAAAAAAAAAAAAAAAAAAAAAAAAAAAAAAAAAAAAAAAAAAAAAAAAAAAAAAAAAAAAAAAAAAAAAAAAAAAAAAAAAAAAAAAAAAAAAAAAAAAAAAAAAAAAAAAAAAAPA/AAAAAAAAAAAAAAAAAAAAAAAAAAAAAAAAAAAAAAAAAAAAAAAAAAAAAAAAAAAAAAAAAAAAAAAAAAAAAAAAAAAAAAAAAAAAAAAAAAAAAAAAAAAAAAAAAAAAAAAAAAAAAAAAAAAAAAAAAAAAAAAAAAAAAAAAAAAAAAAAAAAAAAAAAAAAAAAAAAAAAAAAAAAAAAAAAAAAAAAAAAAAAAAAAAAAAAAAAAAAAAAAAAAAAAAAAAAAAAAAAAAAAAAAAAAAAAAAAAAAAAAAAAAAAAAAAAAAAAAAAAAAAAAAAAAAAAAAAAAAAAAAAAAAAAAAAAAAAAAAAAAAAAAAAAAAAAAAAAAAAAAAAAAAAAAAAAAAAAAAAAAAAAAAAAAAAAAAAAAAAAAAAAAAAAAAAAAAAAAAAADwPwAAAAAAAAAAAAAAAAAAAAAAAAAAAAAAAAAAAAAAAAAAAAAAAAAAAAAAAAAAAAAAAAAAAAAAAAAAAAAAAAAAAAAAAAAAAAAAAAAAAAAAAAAAAAAAAAAAAAAAAAAAAAAAAAAAAAAAAAAAAAAAAAAAAAAAAAAAAAAAAAAAAAAAAAAAAAAAAAAAAAAAAAAAAAAAAAAAAAAAAAAAAAAAAAAAAAAAAAAAAAAAAAAAAAAAAAAAAAAAAAAAAAAAAAAAAAAAAAAAAAAAAAAAAAAAAAAAAAAAAAAAAAAAAAAAAAAAAAAAAAAAAAAAAAAAAAAAAAAAAAAAAAAAAAAAAAAAAAAAAAAAAAAAAAAAAAAAAAAAAAAAAAAAAAAAAAAAAAAAAAAAAAAAAAAAAAAAAAAAAAAAAAAAAAAAAAAAAAAAAAAAAPA/AAAAAAAAAAAAAAAAAAAAAAAAAAAAAAAAAAAAAAAAAAAAAAAAAAAAAAAAAAAAAAAAAAAAAAAAAAAAAAAAAAAAAAAAAAAAAAAAAAAAAAAAAAAAAAAAAAAAAAAAAAAAAAAAAAAAAAAAAAAAAAAAAAAAAAAAAAAAAAAAAAAAAAAAAAAAAAAAAAAAAAAAAAAAAPA/AAAAAAAAAAAAAAAAAAAAAAAAAAAAAAAAAAAAAAAAAAAAAAAAAAAAAAAAAAAAAAAAAAAAAAAAAAAAAAAAAAAAAAAAAAAAAAAAAAAAAAAAAAAAAAAAAAAAAAAAAAAAAAAAAAAAAAAAAAAAAAAAAAAAAAAAAAAAAAAAAAAAAAAAAAAAAAAAAAAAAAAAAAAAAAAAAAAAAAAAAAAAAAAAAAAAAAAAAAAAAAAAAAAAAAAAAAAAAAAAAAAAAAAAAAAAAAAAAAAAAAAAAAAAAAAAAAAAAAAAAAAAAAAAAAAAAAAAAAAAAAAAAAAAAAAAAAAAAAAAAAAAAAAAAAAAAAAAAAAAAAAAAAAAAAAAAAAAAAAAAAAAAAAAAAAAAAAAAAAAAAAAAAAAAAAAAAAAAAAAAAAAAAAAAAAAAPA/AAAAAAAAAAAAAAAAAAAAAAAAAAAAAAAAAAAAAAAAAAAAAAAAAAAAAAAAAAAAAAAAAAAAAAAAAAAAAAAAAAAAAAAAAAAAAAAAAAAAAAAAAAAAAAAAAAAAAAAAAAAAAAAAAAAAAAAAAAAAAAAAAAAAAAAAAAAAAAAAAAAAAAAAAAAAAAAAAAAAAAAAAAAAAAAAAAAAAAAAAAAAAAAAAAAAAAAAAAAAAAAAAAAAAAAAAAAAAAAAAAAAAAAAAAAAAAAAAAAAAAAAAAAAAAAAAAAAAAAAAAAAAAAAAAAAAAAA8D8AAAAAAAAAAAAAAAAAAAAAAAAAAAAAAAAAAAAAAAAAAAAAAAAAAAAAAAAAAAAAAAAAAAAAAAAAAAAAAAAAAAAAAAAAAAAAAAAAAAAAAAAAAAAAAAAAAAAAAAAAAAAAAAAAAAAAAAAAAAAAAAAAAAAAAAAAAAAAAAAAAAAAAAAAAAAAAAAAAAAAAAAAAAAAAAAAAAAAAAAAAAAAAAAAAAAAAAAAAAAAAAAAAAAAAAAAAAAAAAAAAAAAAAAAAAAAAAAAAAAAAAAAAAAAAAAAAAAAAAAAAAAAAAAAAAAAAAAAAAAAAAAAAAAAAAAAAAAAAAAAAAAAAAAAAAAAAAAAAAAAAAAAAAAAAAAAAAAAAAAAAAAAAAAAAAAAAAAAAAAAAAAAAAAAAAAAAAAAAAAAAAAAAAAAAAAAAAAAAAAAAAAAAAAAAAAAAAAAAAAAAAAAAAAAAAAAAAAAAAAAAAAAAAAAAAAAAAAAAAAAAAAAAAAAAAAAAAAAAAAAAAAAAAAAAAAAAAAAAAAAAAAAAAAAAAAAAAAAAAAAAAAAAAAAAAAAAAAAAAAAAAAAAAAAAAAAAAAAAAAAAADwPwAAAAAAAAAAAAAAAAAAAAAAAAAAAAAAAAAAAAAAAAAAAAAAAAAAAAAAAAAAAAAAAAAAAAAAAAAAAAAAAAAAAAAAAAAAAAAAAAAAAAAAAAAAAAAAAAAAAAAAAAAAAAAAAAAAAAAAAAAAAAAAAAAAAAAAAAAAAAAAAAAAAAAAAAAAAAAAAAAAAAAAAAAAAAAAAAAAAAAAAAAAAAAAAAAAAAAAAAAAAAAAAAAAAAAAAAAAAAAAAAAAAAAAAAAAAAAAAAAAAAAAAAAAAAAAAAAAAAAAAAAAAAAAAAAAAAAAAAAAAAAAAAAAAAAAAAAAAAAAAAAAAAAAAAAAAAAAAAAAAAAAAAAAAAAAAAAAAAAAAAAAAAAAAAAAAAAAAAAAAAAAAAAAAAAAAAAAAAAAAAAAAAAAAAAAAADwPwAAAAAAAAAAAAAAAAAAAAAAAAAAAAAAAAAAAAAAAAAAAAAAAAAAAAAAAAAAAAAAAAAAAAAAAAAAAAAAAAAAAAAAAAAAAAAAAAAAAAAAAAAAAAAAAAAAAAAAAAAAAAAAAAAAAAAAAAAAAAAAAAAAAAAAAAAAAAAAAAAAAAAAAAAAAAAAAAAAAAAAAAAAAAAAAAAAAAAAAAAAAAAAAAAAAAAAAAAAAAAAAAAAAAAAAAAAAAAAAAAAAAAAAAAAAAAAAAAAAAAAAAAAAAAAAAAAAAAAAAAAAAAAAAAAAAAAAAAAAAAAAAAAAAAAAAAAAAAAAAAAAAAAAAAAAAAAAAAAAAAAAAAAAAAAAAAAAAAAAAAAAAAAAAAAAAAAAAAAAAAAAAAAAAAAAAAAAAAAAAAAAAAAAAAAAAAAAAAAAAAAAAAAAAAAAAAAAAAAAAAAAAAAAAAAAAAAAAAAAAAAAAAAAAAAAAAAAAAAAAAAAAAAAAAAAAAAAAAAAAAAAAAAAAAAAAAAAAAAAAAAAAAAAAAAAAAAAAAAAAAAAAAAAAAAAAAAAAAAAAAAAAAAAAAAAAAAAAAAAAAAAPA/AAAAAAAAAAAAAAAAAAAAAAAAAAAAAAAAAAAAAAAAAAAAAAAAAAAAAAAAAAAAAAAAAAAAAAAAAAAAAAAAAAAAAAAAAAAAAAAAAAAAAAAAAAAAAAAAAAAAAAAAAAAAAAAAAAAAAAAAAAAAAAAAAAAAAAAAAAAAAAAAAAAAAAAAAAAAAAAAAAAAAAAAAAAAAPA/AAAAAAAAAAAAAAAAAAAAAAAAAAAAAAAAAAAAAAAAAAAAAAAAAAAAAAAAAAAAAAAAAAAAAAAAAAAAAAAAAAAAAAAAAAAAAAAAAAAAAAAAAAAAAAAAAAAAAAAAAAAAAAAAAAAAAAAAAAAAAAAAAAAAAAAAAAAAAAAAAAAAAAAAAAAAAAAAAAAAAAAAAAAAAAAAAAAAAAAAAAAAAAAAAAAAAAAAAAAAAAAAAAAAAAAAAAAAAAAAAAAAAAAAAAAAAAAAAAAAAAAAAAAAAAAAAAAAAAAAAAAAAAAAAAAAAAAAAAAAAAAAAAAAAAAAAAAAAAAAAAAAAAAAAAAAAAAAAAAAAAAAAAAAAAAAAAAAAAAAAAAAAAAAAAAAAAAAAAAAAAAAAAAAAAAAAAAAAAAAAAAAAAAAAAAAAAAAAAAAAAAAAAAAAAAAAAAAAAAAAAAAAAAAAAAAAAAAAAAAAAAAAAAAAAAAAAAAAAAAAAAAAAAAAAAAAAAAAAAAAAAAAAAAAAAAAAAAAAAAAAAAAAAAAAAAAAAAAAAAAAAAAAAAAAAAAAAAAAAAAAAAAAAAAAAAAAAAAAAAAAAAAAAAAAAAAAAAAAAAAAAAAAAAAAAAAAAAAAAAAAAAAAAAAAAAAAAAAPA/AAAAAAAAAAAAAAAAAAAAAAAAAAAAAAAAAAAAAAAAAAAAAAAAAAAAAAAAAAAAAAAAAAAAAAAAAAAAAAAAAAAAAAAAAAAAAAAAAAAAAAAA8D8AAAAAAAAAAAAAAAAAAAAAAAAAAAAAAAAAAAAAAAAAAAAAAAAAAAAAAAAAAAAAAAAAAAAAAAAAAAAAAAAAAAAAAAAAAAAAAAAAAAAAAAAAAAAAAAAAAAAAAAAAAAAAAAAAAAAAAAAAAAAAAAAAAAAAAAAAAAAAAAAAAAAAAAAAAAAAAAAAAAAAAAAAAAAAAAAAAAAAAAAAAAAAAAAAAAAAAAAAAAAAAAAAAAAAAAAAAAAAAAAAAAAAAAAAAAAAAAAAAAAAAAAAAAAAAAAAAAAAAAAAAAAAAAAAAAAAAAAAAAAAAAAAAAAAAAAAAAAAAAAAAAAAAAAAAAAAAAAAAAAAAAAAAAAAAAAAAAAAAAAAAAAAAAAAAAAAAAAAAAAAAAAAAAAAAAAAAAAAAAAAAAAAAAAAAAAAAAAAAAAAAAAAAAAAAAAAAAAAAAAAAAAAAAAAAAAAAAAAAAAAAAAAAAAAAAAAAAAAAAAAAAAAAAAAAAAAAAAAAAAAAAAAAAAAAAAAAAAAAAAAAAAAAAAAAAAAAAAAAAAAAAAAAAAAAAAAAAAAAAAAAAAAAAAAAAAAAAAAAAAAAAAAAAAAAAAAAAAAAAAAAAAAAAAAAAAAAAAAAAAAAAAAAAAAAAAAAAAAAAAAAAAAAAAAAAAAAAAAAAAAAAAAAAAAAAAAAAAAAAAAAAAAAAAAAAAAAAAAAAAAAAAAAAAAAADwPwAAAAAAAAAAAAAAAAAAAAAAAAAAAAAAAAAAAAAAAAAAAAAAAAAAAAAAAAAAAAAAAAAAAAAAAAAAAAAAAAAAAAAAAAAAAAAAAAAAAAAAAPA/AAAAAAAAAAAAAAAAAAAAAAAAAAAAAAAAAAAAAAAAAAAAAAAAAAAAAAAAAAAAAAAAAAAAAAAAAAAAAAAAAAAAAAAAAAAAAAAAAAAAAAAAAAAAAAAAAAAAAAAAAAAAAAAAAAAAAAAAAAAAAAAAAAAAAAAAAAAAAAAAAAAAAAAAAAAAAAAAAAAAAAAAAAAAAAAAAAAAAAAAAAAAAAAAAAAAAAAAAAAAAAAAAAAAAAAAAAAAAAAAAAAAAAAAAAAAAAAAAAAAAAAAAAAAAAAAAAAAAAAAAAAAAAAAAAAAAAAAAAAAAAAAAAAAAAAAAAAAAAAAAAAAAAAAAAAAAAAAAAAAAAAAAAAAAAAAAAAAAAAAAAAAAAAAAAAAAAAAAAAAAAAAAAAAAAAAAAAAAAAAAAAAAAAAAAAAAAAAAAAAAAAAAAAAAAAAAAAAAAAAAAAAAAAAAAAAAAAAAAAAAAAAAAAAAAAAAAAAAAAAAAAAAAAAAAAAAAAAAAAAAAAAAAAAAAAAAAAAAAAAAAAAAAAAAADwPwAAAAAAAAAAAAAAAAAAAAAAAAAAAAAAAAAAAAAAAAAAAAAAAAAAAAAAAAAAAAAAAAAAAAAAAAAAAAAAAAAAAAAAAAAAAAAAAAAAAAAAAAAAAAAAAAAAAAAAAAAAAAAAAAAAAAAAAAAAAAAAAAAAAAAAAAAAAAAAAAAAAAAAAAAAAAAAAAAAAAAAAAAAAAAAAAAAAAAAAAAAAAAAAAAAAAAAAAAAAAAAAAAAAAAAAAAAAAAAAAAAAAAAAAAAAAAAAAAAAAAAAAAAAAAAAAAAAAAAAAAAAAAAAAAAAAAAAAAAAAAAAAAAAAAAAAAAAAAAAAAAAAAAAAAAAAAAAAAAAAAAAAAAAAAAAAAAAAAAAAAAAAAAAAAAAAAAAAAAAAAAAAAAAAAAAAAAAAAAAAAAAAAAAAAAAAAAAAAAAAAAAAAAAAAAAAAAAAAAAAAAAAAAAAAAAAAAAAAAAAAAAAAAAAAAAAAAAAAAAAAAAAAAAAAAAAAAAAAAAAAAAAAAAADwPwAAAAAAAAAAAAAAAAAAAAAAAAAAAAAAAAAAAAAAAAAAAAAAAAAAAAAAAAAAAAAAAAAAAAAAAAAAAAAAAAAAAAAAAAAAAAAAAAAAAAAAAAAAAAAAAAAAAAAAAAAAAAAAAAAAAAAAAAAAAAAAAAAAAAAAAAAAAAAAAAAAAAAAAAAAAAAAAAAAAAAAAAAAAAAAAAAAAAAAAAAAAAAAAAAAAAAAAAAAAAAAAAAAAAAAAAAAAAAAAAAAAAAAAAAAAAAAAAAAAAAAAAAAAAAAAAAAAAAAAAAAAAAAAAAAAAAAAAAAAAAAAAAAAAAAAAAAAAAAAAAAAAAAAAAAAAAAAAAAAAAAAAAAAAAAAAAAAAAAAAAAAAAAAAAAAAAAAAAAAAAAAAAAAAAAAAAAAAAAAAAAAAAAAAAAAAAAAAAAAAAAAAAAAAAAAAAAAAAAAAAAAAAAAAAAAAAAAAAAAAAAAAAAAAAAAAAAAAAAAAAAAAAAAAAAAAAAAAAAAAAAAAAAAAAAAAAAAAAAAPA/AAAAAAAAAAAAAAAAAAAAAAAAAAAAAAAAAAAAAAAAAAAAAAAAAAAAAAAAAAAAAAAAAAAAAAAAAAAAAAAAAAAAAAAAAAAAAAAAAAAAAAAAAAAAAAAAAAAAAAAAAAAAAAAAAAAAAAAAAAAAAAAAAAAAAAAAAAAAAAAAAAAAAAAAAAAAAAAAAAAAAAAAAAAAAAAAAAAAAAAAAAAAAAAAAAAAAAAAAAAAAAAAAAAAAAAAAAAAAAAAAAAAAAAAAAAAAAAAAAAAAAAAAAAAAAAAAAAAAAAAAAAAAAAAAAAAAAAAAAAAAAAAAAAAAAAAAAAAAAAAAAAAAAAAAAAAAAAAAAAAAAAAAAAAAAAAAAAAAAAAAAAAAAAAAAAAAAAAAAAAAAAAAAAAAAAAAAAAAAAAAAAAAAAAAAAAAPA/AAAAAAAAAAAAAAAAAAAAAAAAAAAAAAAAAAAAAAAAAAAAAAAAAAAAAAAAAAAAAAAAAAAAAAAA8D8AAAAAAAAAAAAAAAAAAAAAAAAAAAAAAAAAAAAAAAAAAAAAAAAAAAAAAAAAAAAAAAAAAAAAAAAAAAAAAAAAAAAAAAAAAAAAAAAAAAAAAAAAAAAAAAAAAAAAAAAAAAAAAAAAAAAAAAAAAAAAAAAAAAAAAAAAAAAAAAAAAAAAAAAAAAAAAAAAAAAAAAAAAAAAAAAAAAAAAAAAAAAAAAAAAAAAAAAAAAAAAAAAAAAAAAAAAAAAAAAAAAAAAAAAAAAAAAAAAAAAAAAAAAAAAAAAAAAAAAAAAAAAAAAAAAAAAAAAAAAAAAAAAAAAAAAAAAAAAAAAAAAAAAAAAAAAAAAAAAAAAAAAAAAAAAAAAAAAAAAAAAAAAAAAAAAAAAAAAAAAAAAAAAAAAAAAAAAAAAAAAAAAAAAAAAAAAAAAAAAAAAAAAAAAAAAAAAAAAAAAAAAAAAAAAAAAAAAAAAAAAAAAAAAAAAAAAAAAAAAAAAAAAAAAAAAAAAAAAAAAAAAAAAAAAAAAAAAAAAAAAAAAAAAAAAAAAAAAAAAAAAAAAAAAAAAAAAAAAAAAAAAAAAAAAAAAAAAAAAAAAAAAAAAAAAAAAAAAAAAAAAAAAAAAAAAAAAAAAAAAAAAAAAAAAAAAAAAAAAAAAAAAAAAAAAAAAAAAAAAAAAAAAAAAAAAAAAAAAAAAAAAAAAAAAAAAAAAAAAAAAAAAAAAAAAAAAAAAAAAAAAAAAAAAAAAAAAAAAAAAAAAAAAAAAAAAAPA/AAAAAAAA8D8AAAAAAAAAAAAAAAAAAAAAAAAAAAAAAAAAAAAAAAAAAAAAAAAAAAAAAAAAAAAAAAAAAAAAAAAAAAAAAAAAAAAAAAAAAAAAAAAAAAAAAAAAAAAAAAAAAAAAAAAAAAAAAAAAAAAAAAAAAAAAAAAAAAAAAAAAAAAAAAAAAAAAAAAAAAAAAAAAAAAAAAAAAAAAAAAAAAAAAAAAAAAAAAAAAAAAAAAAAAAAAAAAAAAAAAAAAAAAAAAAAAAAAAAAAAAAAAAAAAAAAAAAAAAAAAAAAAAAAAAAAAAAAAAAAAAAAAAAAAAAAAAAAAAAAAAAAAAAAAAAAAAAAAAAAAAAAAAAAAAAAAAAAAAAAAAAAAAAAAAAAAAAAAAAAAAAAAAAAAAAAAAAAAAAAAAAAAAAAAAAAAAAAAAAAAAAAAAAAAAAAAAAAAAAAAAAAAAAAAAAAAAAAAAAAAAAAAAAAAAAAAAAAAAAAAAAAAAAAAAAAAAAAAAAAAAAAAAAAAAAAAAAAAAAAAAAAAAAAAAAAAAAAAAAAAAAAAAAAAAAAAAAAAAAAAAAAAAAAAAAAPA/AAAAAAAAAAAAAAAAAAAAAAAAAAAAAAAAAAAAAAAAAAAAAAAAAAAAAAAAAAAAAAAAAAAAAAAAAAAAAAAAAAAAAAAAAAAAAAAAAAAAAAAAAAAAAAAAAAAAAAAAAAAAAAAAAAAAAAAAAAAAAAAAAAAAAAAAAAAAAAAAAAAAAAAAAAAAAAAAAAAAAAAAAAAAAAAAAAAAAAAAAAAAAAAAAAAAAAAAAAAAAAAAAAAAAAAAAAAAAAAAAAAAAAAAAAAAAAAAAAAAAAAAAAAAAAAAAAAAAAAAAAAAAAAAAAAAAAAAAAAAAAAAAAAAAAAAAAAAAAAAAAAAAAAAAAAAAAAAAAAAAAAAAAAAAAAAAAAAAAAAAAAAAAAAAAAAAAAAAAAAAAAAAAAAAAAAAAAAAAAAAAAAAAAAAAAAAAAAAAAAAAAAAAAAAAAAAAAAAAAAAAAAAAAAAAAAAAAAAAAAAAAAAADwPwAAAAAAAAAAAAAAAAAAAAAAAAAAAAAAAAAAAAAAAAAAAAAAAAAAAAAAAAAAAAAAAAAAAAAAAAAAAAAAAAAAAAAAAAAAAAAAAAAAAAAAAAAAAAAAAAAAAAAAAAAAAAAAAAAAAAAAAAAAAAAAAAAAAAAAAAAAAAAAAAAAAAAAAAAAAAAAAAAAAAAAAAAAAAAAAAAAAAAAAAAAAAAAAAAAAAAAAAAAAAAAAAAAAAAAAAAAAAAAAAAAAAAAAAAAAAAAAAAAAAAAAAAAAAAAAAAAAAAAAAAAAAAAAAAAAAAAAAAAAAAAAAAA8D8AAAAAAAAAAAAAAAAAAAAAAAAAAAAAAAAAAAAAAAAAAAAAAAAAAAAAAAAAAAAAAAAAAAAAAAAAAAAAAAAAAAAAAAAAAAAAAAAAAAAAAAAAAAAAAAAAAAAAAAAAAAAAAAAAAAAAAAAAAAAAAAAAAAAAAAAAAAAAAAAAAAAAAAAAAAAAAAAAAAAAAAAAAAAAAAAAAAAAAAAAAAAAAAAAAAAAAAAAAAAAAAAAAAAAAAAAAAAAAAAAAAAAAAAAAAAAAAAAAAAAAAAAAAAAAAAAAAAAAAAAAAAAAAAAAAAAAAAAAAAAAAAAAAAAAAAAAAAAAAAAAAAAAAAAAAAAAAAAAAAAAAAAAAAAAAAAAAAAAAAAAAAAAAAAAAAAAAAAAAAAAAAAAAAAAAAAAAAAAAAAAAAAAAAAAAAAAAAAAAAAAAAAAAAAAAAAAAAAAAAAAAAAAAAAAAAAAAAAAAAAAAAAAAAAAAAAAAAAAAAAAAAAAAAAAAAAAAAAAPA/AAAAAAAAAAAAAAAAAAAAAAAAAAAAAAAAAAAAAAAAAAAAAAAAAAAAAAAAAAAAAAAAAAAAAAAAAAAAAAAAAAAAAAAAAAAAAAAAAAAAAAAAAAAAAAAAAAAAAAAAAAAAAAAAAAAAAAAAAAAAAAAAAAAAAAAAAAAAAAAAAAAAAAAAAAAAAAAAAAAAAAAAAAAAAAAAAAAAAAAAAAAAAAAAAAAAAAAAAAAAAAAAAAAAAAAAAAAAAAAAAAAAAAAAAAAAAAAAAAAAAAAAAAAAAAAAAAAAAAAAAAAAAAAAAAAAAAAAAAAAAAAAAAAAAAAAAAAAAAAAAAAAAAAAAAAAAAAAAAAAAAAAAAAAAAAAAAAAAAAAAAAAAAAAAAAAAAAAAAAAAAAAAAAAAAAAAAAAAAAAAAAAAAAAAAAAAAAAAAAAAAAAAAAAAAAAAAAAAAAAAAAAAAAAAAAAAAAAAAAAAAAAAAAAAAAAAAAAAAAAAAAAAAAAAAAAAAAAAAAAAAAAAAAAAAAAAAAAAAAAAAAAAAAAAAAAAAAAAAAAAAAAAAAAAAAAAAAAAAAAAAAAAAAAAAAAAAAAAAAAAAAAAAAAAAAAAAAAAAAAAAAAAAAAAAAAAAAAAAAAAAAAAAAAAAAAAAAAAPA/AAAAAAAAAAAAAAAAAAAAAAAAAAAAAAAAAAAAAAAAAAAAAAAAAAAAAAAAAAAAAAAAAAAAAAAAAAAAAAAAAAAAAAAAAAAAAAAAAAAAAAAAAAAAAAAAAAAAAAAAAAAAAAAAAAAAAAAAAAAAAAAAAAAAAAAAAAAAAAAAAAAAAAAAAAAAAAAAAAAAAAAAAAAAAAAAAAAAAAAAAAAAAAAAAAAAAAAAAAAAAAAAAAAAAAAAAAAAAAAAAAAAAAAAAAAAAAAAAAAAAAAAAAAAAAAAAAAAAAAAAAAAAAAAAAAAAAAAAAAAAAAAAAAAAAAAAAAAAAAAAAAAAAAAAAAAAAAAAAAAAAAAAAAAAAAAAAAAAAAAAAAAAAAAAAAAAAAAAAAAAAAAAAAAAAAAAAAAAAAAAAAAAAAAAAAAAPA/AAAAAAAAAAAAAAAAAAAAAAAAAAAAAAAAAAAAAAAAAAAAAAAAAAAAAAAAAAAAAAAAAAAAAAAAAAAAAAAAAAAAAAAAAAAAAAAAAAAAAAAAAAAAAAAAAAAAAAAAAAAAAAAAAAAAAAAAAAAAAAAAAAAAAAAAAAAAAAAAAAAAAAAAAAAAAAAAAAAAAAAAAAAAAAAAAAAAAAAAAAAAAAAAAAAAAAAAAAAAAAAAAAAAAAAAAAAAAAAAAAAAAAAAAAAAAAAAAAAAAAAAAAAAAAAAAAAAAAAAAAAAAAAAAAAAAAAAAAAAAAAAAAAAAAAAAAAAAAAAAAAAAAAAAAAAAAAAAAAAAAAAAAAAAAAAAAAAAAAAAAAAAAAAAAAAAAAAAAAAAAAAAAAAAAAAAAAAAAAAAAAAAAAAAAAAAPA/AAAAAAAAAAAAAAAAAAAAAAAAAAAAAAAAAAAAAAAAAAAAAAAAAAAAAAAAAAAAAAAAAAAAAAAAAAAAAAAAAAAAAAAAAAAAAAAAAAAAAAAAAAAAAAAAAAAAAAAAAAAAAAAAAAAAAAAAAAAAAAAAAAAAAAAAAAAAAAAAAAAAAAAAAAAAAAAAAADwPwAAAAAAAAAAAAAAAAAAAAAAAAAAAAAAAAAAAAAAAAAAAAAAAAAAAAAAAAAAAAAAAAAAAAAAAAAAAAAAAAAAAAAAAAAAAAAAAAAAAAAAAAAAAAAAAAAAAAAAAAAAAAAAAAAAAAAAAAAAAAAAAAAAAAAAAAAAAAAAAAAAAAAAAAAAAAAAAAAAAAAAAAAAAAAAAAAAAAAAAAAAAAAAAAAAAAAAAAAAAAAAAAAAAAAAAAAAAAAAAAAAAAAAAAAAAAAAAAAAAAAAAAAAAAAAAAAAAAAAAAAAAAAAAAAAAAAAAAAAAAAAAAAAAAAAAAAAAAAAAAAAAAAAAAAAAAAAAAAAAAAAAAAAAAAAAAAAAAAAAAAAAAAAAAAAAAAAAAAAAAAAAAAAAAAAAAAAAAAAAAAAAAAAAAAAAADwPwAAAAAAAAAAAAAAAAAAAAAAAAAAAAAAAAAAAAAAAAAAAAAAAAAAAAAAAAAAAAAAAAAAAAAAAAAAAAAAAAAAAAAAAAAAAAAAAAAAAAAAAAAAAAAAAAAAAAAAAAAAAAAAAAAAAAAAAAAAAAAAAAAAAAAAAAAAAAAAAAAAAAAAAAAAAAAAAAAAAAAAAAAAAAAAAAAAAAAAAAAAAAAAAAAAAAAAAAAAAAAAAAAAAAAAAAAAAAAAAAAAAAAAAAAAAAAAAAAAAAAAAAAAAAAAAAAAAAAAAAAAAAAAAAAAAAAAAAAAAAAAAAAA8D8AAAAAAAAAAAAAAAAAAAAAAAAAAAAAAAAAAAAAAAAAAAAAAAAAAAAAAAAAAAAAAAAAAAAAAAAAAAAAAAAAAAAAAAAAAAAAAAAAAAAAAAAAAAAAAAAAAAAAAAAAAAAAAAAAAAAAAAAAAAAAAAAAAAAAAAAAAAAAAAAAAAAAAAAAAAAAAAAAAAAAAAAAAAAAAAAAAAAAAAAAAAAAAAAAAAAAAAAAAAAAAAAAAAAAAAAAAAAAAAAAAAAAAAAAAAAAAAAAAAAAAAAAAAAAAAAAAAAAAAAAAAAAAAAAAAAAAAAAAAAAAAAAAAAAAAAAAAAAAAAAAAAAAAAAAAAAAAAAAAAAAAAAAAAAAAAAAAAAAAAAAAAAAAAAAAAAAAAAAAAAAAAAAAAAAAAAAAAAAAAAAAAAAAAAAAAAAAAAAAAAAAAAAAAAAAAAAAAAAAAAAAAAAAAAAAAAAAAAAAAAAAAAAAAAAAAAAAAAAAAAAAAAAAAAAAAAAAAAAAAAAAAAAAAAAAAAAAAAAAAAAAAAAAAAAAAAAAAAAAAAAAAAAAAAAAAAAAAAAAAAAAAAAAAAAAAAAAAAAAAAAAAAAAAAAAAAAAAAAAAAAAAAAAAAAAAAAAAAAAAAAAAAAAAAAAAAAAAAAAAAAAAAAAAAAAAAAAAAAAAAAAAAAAAAAAAAAAAAAAAAAAAAAAAAAAAAAAAAAAAAAAAAAAAAAAAAAAAAAAAAAAAAAAAAAAAAAAAAAAAAAAAAAAAAAAAAAPA/AAAAAAAAAAAAAAAAAAAAAAAAAAAAAAAAAAAAAAAAAAAAAAAAAAAAAAAAAAAAAAAAAAAAAAAAAAAAAAAAAAAAAAAAAAAAAAAAAAAAAAAAAAAAAAAAAAAAAAAAAAAAAAAAAAAAAAAAAAAAAAAAAAAAAAAAAAAAAAAAAAAAAAAAAAAAAAAAAAAAAAAAAAAAAAAAAAAAAAAAAAAAAAAAAAAAAAAAAAAAAAAAAAAAAAAAAAAAAAAAAAAAAAAAAAAAAAAAAAAAAAAAAAAAAAAAAAAAAAAAAAAAAAAAAAAAAAAAAAAAAAAAAAAAAAAAAAAAAAAAAAAAAAAAAAAAAAAAAAAAAAAAAAAAAAAAAAAAAAAAAAAAAAAAAAAAAAAAAAAAAAAAAAAAAAAAAAAAAAAAAAAAAAAAAAAAAPA/AAAAAAAAAAAAAAAAAAAAAAAAAAAAAAAAAAAAAAAAAAAAAAAAAAAAAAAAAAAAAAAAAAAAAAAAAAAAAAAAAAAAAAAAAAAAAAAAAAAAAAAAAAAAAAAAAAAAAAAAAAAAAAAAAAAAAAAAAAAAAAAAAAAAAAAAAAAAAAAAAAAAAAAAAAAAAAAAAAAAAAAAAAAAAAAAAAAAAAAAAAAAAAAAAAAAAAAAAAAAAAAAAAAAAAAAAAAAAAAAAAAAAAAAAAAAAAAAAAAAAAAAAAAAAAAAAAAAAAAAAAAAAAAAAAAAAAAAAAAAAAAAAAAAAAAAAAAAAAAAAAAAAAAAAAAAAAAAAAAAAAAAAAAAAAAAAAAAAAAAAAAAAAAAAAAAAAAAAAAAAAAAAAAAAAAAAAAAAAAAAAAAAAAAAAAAAPA/AAAAAAAAAAAAAAAAAAAAAAAAAAAAAAAAAAAAAAAAAAAAAAAAAAAAAAAAAAAAAAAAAAAAAAAAAAAAAAAAAAAAAAAAAAAAAAAAAAAAAAAAAAAAAAAAAAAAAAAAAAAAAAAAAAAAAAAAAAAAAAAAAAAAAAAAAAAAAAAAAAAAAAAAAAAAAAAAAAAAAAAAAAAAAAAAAAAAAAAAAAAAAAAAAAAAAAAAAAAAAAAAAAAAAAAAAAAAAAAAAADwPwAAAAAAAAAAAAAAAAAAAAAAAAAAAAAAAAAAAAAAAAAAAAAAAAAAAAAAAAAAAAAAAAAAAAAAAAAAAAAAAAAAAAAAAAAAAAAAAAAAAAAAAAAAAAAAAAAAAAAAAAAAAAAAAAAAAAAAAAAAAAAAAAAAAAAAAAAAAAAAAAAAAAAAAAAAAAAAAAAAAAAAAAAAAAAAAAAAAAAAAAAAAAAAAAAAAAAAAAAAAAAAAAAAAAAAAAAAAAAAAAAAAAAAAAAAAAAAAAAAAAAAAAAAAAAAAAAAAAAAAAAAAAAAAAAAAAAAAAAAAAAAAAAAAAAAAAAAAAAAAAAAAAAAAAAAAAAAAAAAAAAAAAAAAAAAAAAAAAAAAAAAAAAAAAAAAAAAAAAAAAAAAAAAAAAAAAAAAAAAAAAAAAAAAAAAAAAAAAAAAAAAAAAAAAAAAAAAAAAAAAAAAAAAAAAAAAAAAAAAAAAAAAAAAAAAAAAAAAAAAAAAAAAAAAAAAAAAAAAAAAAAAAAAAAAAAAAAAAAAAAAAAAAAAAAAAAAAAAAAAAAAAAAAAAAAAAAAAAAAAAAAAAAAAAAAAAAAAAAAAAAAAPA/AAAAAAAAAAAAAAAAAAAAAAAAAAAAAAAAAAAAAAAAAAAAAAAAAAAAAAAAAAAAAPA/AAAAAAAAAAAAAAAAAAAAAAAAAAAAAAAAAAAAAAAAAAAAAAAAAAAAAAAAAAAAAAAAAAAAAAAAAAAAAAAAAAAAAAAAAAAAAAAAAAAAAAAAAAAAAAAAAAAAAAAAAAAAAAAAAAAAAAAAAAAAAAAAAAAAAAAAAAAAAAAAAAAAAAAAAAAAAAAAAAAAAAAAAAAAAAAAAAAAAAAAAAAAAAAAAAAAAAAAAAAAAAAAAAAAAAAAAAAAAAAAAAAAAAAAAAAAAAAAAAAAAAAAAAAAAAAAAAAAAAAAAAAAAAAAAAAAAAAAAAAAAAAAAAAAAAAAAAAAAAAAAAAAAAAAAAAAAAAAAAAAAAAAAAAAAAAAAAAAAAAAAAAAAAAAAAAAAAAAAAAAAAAAAAAAAAAAAAAAAAAAAAAAAAAAAAAAAAAAAAAAAAAAAAAAAAAAAAAAAAAAAAAAAAAAAAAAAAAAAAAAAAAAAAAAAAAAAAAAAAAAAAAAAAAAAAAAAAAAAAAAAAAAAAAAAAAAAAAAAAAAAAAAAAAAAAAAAAAAAAAAAAAAAAAAAAAAAAAAAAAAAADwPwAAAAAAAAAAAAAAAAAAAAAAAAAAAAAAAAAAAAAAAAAAAAAAAAAAAAAAAAAAAAAAAAAAAAAAAAAAAAAAAAAAAAAAAAAAAAAAAAAAAAAAAAAAAAAAAAAAAAAAAAAAAAAAAAAAAAAAAAAAAAAAAAAAAAAAAAAAAAAAAAAAAAAAAAAAAAAAAAAAAAAAAAAAAAAAAAAAAAAAAAAAAAAAAAAAAAAAAAAAAAAAAAAAAAAAAAAAAAAAAAAAAAAAAAAAAAAAAAAAAAAAAAAAAAAAAAAAAAAAAAAAAAAAAAAAAAAAAAAAAAAAAAAAAAAAAAAAAAAAAAAAAAAAAAAAAAAAAAAAAAAAAAAAAAAAAAAAAAAAAAAAAAAAAAAAAAAAAAAAAAAAAAAAAAAAAAAAAAAAAAAAAAAAAAAAAAAAAAAAAAAAAAAAAAAAAAAA8D8AAAAAAAAAAAAAAAAAAAAAAAAAAAAAAAAAAAAAAAAAAAAAAAAAAAAAAAAAAAAAAAAAAAAAAAAAAAAAAAAAAAAAAAAAAAAAAAAAAAAAAAAAAAAAAAAAAAAAAAAAAAAAAAAAAAAAAAAAAAAAAAAAAAAAAAAAAAAAAAAAAAAAAAAAAAAAAAAAAAAAAAAAAAAAAAAAAAAAAAAAAAAAAAAAAAAAAAAAAAAAAAAAAAAAAAAAAAAAAAAAAAAAAAAAAAAAAAAAAAAAAAAAAAAAAAAAAAAAAAAAAAAAAAAAAAAAAAAAAAAAAAAAAAAAAAAAAAAAAAAAAAAAAAAAAAAAAAAAAAAAAAAAAAAAAAAAAAAAAAAAAAAAAAAAAAAAAAAAAAAAAAAAAAAAAAAAAAAAAAAAAAAAAAAAAAAAAAAAAAAAAAAAAAAAAAAAAAAAAAAAAAAAAAAAAAAAAAAAAAAAAAAAAAAAAAAAAAAAAAAAAAAAAADwPwAAAAAAAAAAAAAAAAAAAAAAAAAAAAAAAAAAAAAAAAAAAAAAAAAAAAAAAAAAAAAAAAAAAAAAAAAAAAAAAAAAAAAAAAAAAAAAAAAAAAAAAAAAAAAAAAAAAAAAAAAAAAAAAAAAAAAAAAAAAAAAAAAAAAAAAAAAAAAAAAAAAAAAAAAAAAAAAAAAAAAAAAAAAAAAAAAAAAAAAAAAAAAAAAAAAAAAAAAAAAAAAAAAAAAAAAAAAAAAAAAAAAAAAAAAAAAAAAAAAAAAAAAAAAAAAAAAAAAAAAAAAAAAAAAAAAAAAAAAAAAAAAAAAAAAAAAAAAAAAAAAAAAAAAAAAAAAAAAAAAAAAAAAAADwPwAAAAAAAAAAAAAAAAAAAAAAAAAAAAAAAAAAAAAAAAAAAAAAAAAAAAAAAAAAAAAAAAAAAAAAAAAAAAAAAAAAAAAAAAAAAAAAAAAAAAAAAAAAAAAAAAAAAAAAAAAAAAAAAAAAAAAAAAAAAAAAAAAAAAAAAAAAAAAAAAAAAAAAAAAAAAAAAAAAAAAAAAAAAAAAAAAAAAAAAAAAAAAAAAAAAAAAAAAAAAAAAAAAAAAAAAAAAAAAAAAAAAAAAAAAAAAAAAAAAAAAAAAAAAAAAAAAAAAAAAAAAAAAAAAAAAAAAAAAAAAAAAAAAAAAAAAAAAAAAAAAAAAAAAAAAAAAAAAA8D8AAAAAAAAAAAAAAAAAAAAAAAAAAAAAAAAAAAAAAAAAAAAAAAAAAAAAAAAAAAAAAAAAAAAAAAAAAAAAAAAAAAAAAAAAAAAAAAAAAAAAAAAAAAAAAAAAAAAAAAAAAAAAAAAAAAAAAAAAAAAAAAAAAAAAAAAAAAAAAAAAAAAAAAAAAAAAAAAAAAAAAAAAAAAAAAAAAAAAAAAAAAAAAAAAAAAAAAAAAAAAAAAAAAAAAAAAAAAAAAAAAAAAAAAAAAAAAAAAAAAAAAAAAAAAAAAAAAAAAAAAAAAAAAAAAAAAAAAAAAAAAAAAAAAAAAAAAAAAAAAAAAAAAAAAAAAAAAAAAPA/AAAAAAAAAAAAAAAAAAAAAAAAAAAAAAAAAAAAAAAAAAAAAAAAAAAAAAAAAAAAAAAAAAAAAAAAAAAAAAAAAAAAAAAAAAAAAAAAAAAAAAAAAAAAAAAAAAAAAAAAAAAAAAAAAAAAAAAAAAAAAAAAAAAAAAAAAAAAAAAAAAAAAAAAAAAAAAAAAAAAAAAAAAAAAAAAAAAAAAAAAAAAAAAAAAAAAAAAAAAAAAAAAAAAAAAAAAAAAAAAAAAAAAAAAAAAAAAAAAAAAAAAAAAAAAAAAAAAAAAAAAAAAAAAAAAAAAAAAAAAAAAAAAAAAAAAAAAAAAAAAAAAAAAAAAAAAAAAAAAAAAAAAAAAAAAAAAAAAAAAAAAAAAAAAAAAAAAAAAAAAAAAAAAAAAAAAAAAAAAAAAAAAAAAAAAAAAAAAAAAAAAAAAAAAAAAAAAAAAAAAAAAAAAAAAAAAAAAAAAAAAAAAAAAAAAAAAAAAAAAAAAAAAAAAAAAAAAAAAAAAAAAAAAAAAAAAAAAAAAAAAAAAAAAAAAAAAAAAAAAAAAAAAAAAAAAAAAAAAAAAAAAAAAAAAAAAAAAAAAAAAAAAAAAAAAAAAAAAAAAAAAAAAAAAAAAAAAAAAAAAAAAAAAAAAAAAAAAAAAAAAAAAAAAAAAAAAAAAAAAAAAAAAAAAAAAAAAAAAAAAAAAAAAAAAAAAAAAAAAAAPA/AAAAAAAAAAAAAAAAAAAAAAAAAAAAAAAAAAAAAAAAAAAAAAAAAAAAAAAAAAAAAAAAAAAAAAAAAAAAAAAAAAAAAAAAAAAAAAAAAAAAAAAAAAAAAAAAAAAAAAAAAAAAAAAAAAAAAAAAAAAAAAAAAAAAAAAAAAAAAAAAAAAAAAAAAAAAAAAAAAAAAAAAAAAAAAAAAAAAAAAAAAAAAAAAAAAAAAAAAAAAAAAAAAAAAAAAAAAAAAAAAAAAAAAAAAAAAAAAAAAAAAAAAAAAAAAAAAAAAAAAAAAAAAAAAAAAAAAAAAAAAAAAAAAAAAAAAAAAAAAAAAAAAAAAAAAAAAAAAAAAAAAAAAAAAAAAAAAAAAAAAAAAAAAAAAAAAAAAAAAAAAAAAAAAAAAAAAAAAAAAAAAAAAAAAAAAAAAAAAAAAAAAAAAAAAAAAAAAAAAAAAAAAPA/AAAAAAAAAAAAAAAAAAAAAAAAAAAAAAAAAAAAAAAAAAAAAAAAAAAAAAAAAAAAAAAAAAAAAAAAAAAAAAAAAAAAAAAAAAAAAAAAAAAAAAAAAAAAAAAAAAAAAAAAAAAAAAAAAAAAAAAAAAAAAAAAAAAAAAAAAAAAAAAAAAAAAAAAAAAAAAAAAAAAAAAAAAAAAAAAAAAAAAAAAAAAAAAAAAAAAAAAAAAAAAAAAAAAAAAAAAAAAAAAAAAAAAAAAAAAAAAAAAAAAAAAAAAAAAAAAAAAAAAAAAAAAAAAAAAAAAAAAAAAAAAAAAAAAAAAAAAAAAAAAAAAAAAAAAAAAAAAAAAAAAAAAAAAAAAAAAAAAAAAAAAAAAAAAAAAAAAAAAAAAAAAAAAAAAAAAAAAAAAAAAAAAAAAAAAAAPA/AAAAAAAAAAAAAAAAAAAAAAAAAAAAAAAAAAAAAAAAAAAAAAAAAAAAAAAAAAAAAAAAAAAAAAAAAAAAAAAAAAAAAAAAAAAAAAAAAAAAAAAAAAAAAAAAAAAAAAAAAAAAAAAAAAAAAAAAAAAAAAAAAAAAAAAAAAAAAAAAAAAAAAAAAAAAAAAAAAAAAAAAAAAAAAAAAAAAAAAA8D8AAAAAAAAAAAAAAAAAAAAAAAAAAAAAAAAAAAAAAAAAAAAAAAAAAAAAAAAAAAAAAAAAAAAAAAAAAAAAAAAAAAAAAAAAAAAAAAAAAAAAAAAAAAAAAAAAAAAAAAAAAAAAAAAAAAAAAAAAAAAAAAAAAAAAAAAAAAAAAAAAAAAAAAAAAAAAAAAAAAAAAAAAAAAAAAAAAAAAAAAAAAAAAAAAAAAAAAAAAAAAAAAAAAAAAAAAAAAAAAAAAAAAAAAAAAAAAAAAAAAAAAAAAAAAAAAAAAAAAAAAAAAAAAAAAAAAAAAAAAAAAAAAAPA/AAAAAAAAAAAAAAAAAAAAAAAAAAAAAAAAAAAAAAAAAAAAAAAAAAAAAAAAAAAAAAAAAAAAAAAAAAAAAAAAAAAAAAAAAAAAAAAAAAAAAAAAAAAAAAAAAAAAAAAAAAAAAAAAAAAAAAAAAAAAAAAAAAAAAAAAAAAAAAAAAAAAAAAAAAAAAAAAAAAAAAAAAAAAAAAAAAAAAAAAAAAAAAAAAAAAAAAAAAAAAAAAAAAAAAAAAAAAAAAAAAAAAAAAAAAAAAAAAAAAAAAAAAAAAAAAAAAAAAAAAAAAAAAAAAAAAAAAAAAAAAAAAAAAAAAAAAAAAAAAAAAAAAAAAAAAAAAAAAAAAAAAAAAAAAAAAAAAAAAAAAAAAAAAAAAAAAAAAAAAAAAAAAAAAAAAAAAAAAAAAAAAAAAAAAAAAAAAAAAAAAAAAAAAAAAAAAAAAAAAAAAAAAAAAAAAAAAAAAAAAAAAAAAAAAAAAAAAAAAAAAAAAAAAAAAAAAAAAAAAAAAAAAAAAPA/AAAAAAAAAAAAAAAAAAAAAAAAAAAAAAAAAAAAAAAAAAAAAAAAAAAAAAAAAAAAAAAAAAAAAAAAAAAAAAAAAAAAAAAAAAAAAAAAAAAAAAAAAAAAAAAAAAAAAAAAAAAAAAAAAAAAAAAAAAAAAAAAAAAAAAAAAAAAAAAAAAAAAAAAAAAAAAAAAAAAAAAAAAAAAAAAAAAAAAAAAAAAAAAAAAAAAAAAAAAAAAAAAAAAAAAAAAAAAAAAAAAAAAAAAAAAAAAAAAAAAAAAAAAAAAAAAAAAAAAAAAAAAAAAAAAAAAAAAAAAAAAAAAAAAAAAAAAAAAAAAAAAAAAAAAAAAAAAAAAAAAAAAAAAAAAAAAAAAAAAAAAAAAAAAAAAAAAAAAAAAAAAAAAAAAAAAAAAAAAAAADwPwAAAAAAAAAAAAAAAAAAAAAAAAAAAAAAAAAAAAAAAAAAAAAAAAAAAAAAAAAAAAAAAAAAAAAAAAAAAAAAAAAAAAAAAAAAAAAAAAAAAAAAAAAAAAAAAAAAAAAAAAAAAAAAAAAAAAAAAAAAAAAAAAAAAAAAAAAAAAAAAAAAAAAAAAAAAAAAAAAAAAAAAAAAAAAAAAAAAAAAAAAAAAAAAAAAAAAAAAAAAAAAAAAAAAAAAAAAAAAAAAAAAAAAAAAAAAAAAAAAAAAAAPA/AAAAAAAAAAAAAAAAAAAAAAAAAAAAAAAAAAAAAAAAAAAAAAAAAAAAAAAAAAAAAAAAAAAAAAAAAAAAAAAAAAAAAAAAAAAAAAAAAAAAAAAAAAAAAAAAAAAAAAAAAAAAAAAAAAAAAAAAAAAAAAAAAAAAAAAAAAAAAAAAAAAAAAAAAAAAAAAAAAAAAAAAAAAAAAAAAAAAAAAAAAAAAAAAAAAAAAAAAAAAAAAAAAAAAAAAAAAAAAAAAAAAAAAAAAAAAAAAAAAAAAAAAAAAAAAAAAAAAAAAAAAAAAAAAAAAAAAAAAAAAAAAAAAAAAAAAAAAAAAAAAAAAAAAAAAAAAAAAAAAAAAAAAAAAAAAAAAAAAAAAAAAAAAAAAAAAAAAAAAAAAAAAAAAAAAAAAAAAAAAAAAAAAAAAAAAAAAAAAAAAAAAAAAAAAAAAAAAAAAAAAAAAAAAAAAAAAAAAAAAAAAAAAAAAAAAAAAAAAAAAAAAAAAAAAAAAAAAAAAAAAAAAAAAAAAAAAAAAAAAAAAAAAAAAAAAAAAAAAAAAAAAAAAAAAAAAAAAAAAAAAAAAAAAAAAAAAAAAAAAAAAAAAAAAAAAAAAAAAAAAAAAAAAAAAAAAAAAAAAAAAAAAAAAAAAAAAAAAAAAAAAAAAAAAAAAAAAAAAAAAAAAAAAAAAAAAAAAAAAAAAAAAAAAAAAAAAAAAAAAAAAAAAAAAAAAAAAAAAAAAAAAAAAAAAAAAAAAAAAAAAAAAAAAAAAAAAAAAAAAAAAAAAAAAAAAAAAAAAAAAAAAAAAAAAAAAAAAAPA/AAAAAAAAAAAAAAAAAAAAAAAAAAAAAAAAAAAAAAAAAAAAAAAAAAAAAAAAAAAAAAAAAAAAAAAAAAAAAAAAAAAAAAAAAAAAAAAAAAAAAAAAAAAAAAAAAAAAAAAAAAAAAAAAAAAAAAAAAAAAAAAAAAAAAAAAAAAAAAAAAAAAAAAAAAAAAAAAAAAAAAAAAAAAAAAAAAAAAAAAAAAAAAAAAAAAAAAAAAAAAAAAAAAAAAAAAAAAAAAAAAAAAAAAAAAAAAAAAAAAAAAAAAAAAAAAAAAAAAAAAAAAAAAAAAAAAAAAAAAAAAAAAAAAAAAAAAAAAAAAAAAAAAAAAAAAAAAAAAAAAAAAAAAAAAAAAAAAAAAAAAAAAAAAAAAAAAAAAAAAAAAAAAAAAAAAAAAAAAAAAAAAAAAAAAAAAPA/AAAAAAAAAAAAAAAAAAAAAAAAAAAAAAAAAAAAAAAAAAAAAAAAAAAAAAAAAAAAAAAAAAAAAAAAAAAAAAAAAAAAAAAAAAAAAAAAAAAAAAAAAAAAAAAAAAAAAAAAAAAAAAAAAAAAAAAAAAAAAAAAAAAAAAAAAAAAAAAAAAAAAAAAAAAAAAAAAAAAAAAAAAAAAAAAAAAAAAAAAAAAAAAAAAAAAAAAAAAAAAAAAAAAAAAAAAAAAAAAAAAAAAAAAAAAAAAAAAAAAAAAAAAAAAAAAAAAAAAAAAAAAAAAAAAAAAAAAAAAAAAAAAAAAAAAAAAAAAAAAAAAAAAAAAAAAAAAAAAAAAAAAAAAAAAAAAAAAAAAAAAAAAAAAAAAAAAAAAAAAAAAAAAAAAAAAAAAAAAAAAAAAAAAAAAAAPA/AAAAAAAAAAAAAAAAAAAAAAAAAAAAAAAAAAAAAAAAAAAAAAAAAAAAAAAAAAAAAAAAAAAAAAAAAAAAAAAAAAAAAAAAAAAAAAAAAAAAAAAAAAAAAAAAAAAAAAAAAAAAAAAAAAAAAAAAAAAAAAAAAAAAAAAAAAAAAAAAAAAAAAAAAAAAAAAAAAAAAAAAAAAAAAAAAAAAAAAAAAAAAAAAAAAAAAAAAAAAAAAAAAAAAAAAAAAAAAAAAAAAAAAAAAAAAAAAAAAAAAAAAAAAAAAAAAAAAAAAAAAAAAAAAAAAAAAAAAAAAAAAAAAAAAAAAAAAAAAAAAAAAAAAAAAAAAAAAAAAAAAAAAAAAAAAAAAAAAAAAAAAAAAAAAAAAAAAAAAAAAAAAAAAAAAAAAAAAAAAAAAAAAAAAAAAAPA/AAAAAAAAAAAAAAAAAAAAAAAAAAAAAAAAAAAAAAAAAAAAAAAAAAAAAAAAAAAAAAAAAAAAAAAAAAAAAAAAAAAAAAAAAAAAAAAAAAAAAAAAAAAAAAAAAAAAAAAAAAAAAAAAAAAAAAAAAAAAAAAAAAAAAAAAAAAAAAAAAAAAAAAAAAAAAAAAAAAAAAAAAAAAAAAAAAAAAAAA8D8AAAAAAAAAAAAAAAAAAAAAAAAAAAAAAAAAAAAAAAAAAAAAAAAAAAAAAAAAAAAAAAAAAAAAAAAAAAAAAAAAAAAAAAAAAAAAAAAAAAAAAAAAAAAAAAAAAAAAAAAAAAAAAAAAAAAAAAAAAAAAAAAAAAAAAAAAAAAAAAAAAAAAAAAAAAAAAAAAAAAAAAAAAAAAAAAAAAAAAAAAAAAAAAAAAAAAAAAAAAAAAAAAAAAAAADwPwAAAAAAAAAAAAAAAAAAAAAAAAAAAAAAAAAAAAAAAAAAAAAAAAAAAAAAAAAAAAAAAAAAAAAAAAAAAAAAAAAAAAAAAAAAAAAAAAAAAAAAAAAAAAAAAAAAAAAAAAAAAAAAAAAAAAAAAAAAAAAAAAAAAAAAAAAAAAAAAAAAAAAAAAAAAAAAAAAAAAAAAAAAAAAAAAAAAAAAAAAAAAAAAAAAAAAAAAAAAAAAAAAAAAAAAAAAAAAAAAAAAAAAAAAAAAAAAAAAAAAAAAAAAAAAAAAAAAAAAAAAAAAAAAAAAAAAAAAAAAAAAAAAAAAAAAAAAAAAAAAAAAAAAAAAAAAAAAAAAAAAAAAAAAAAAAAAAAAAAAAAAAAAAAAAAAAAAAAAAAAAAAAAAAAAAAAAAAAAAAAAAAAAAAAAAAAAAAAAAAAAAAAAAAAAAAAAAAAAAAAAAAAAAAAAAAAAAAAAAAAAAAAAAAAAAAAAAAAAAAAAAAAAAAAAAAAAAAAAAAAAAAAAAAAAAAAAAAAAAAAAAAAAAAAAAAAAAAAAAAAAAAAAAAAAAAAAAAAAAAAAAAAAAAAAAAAAAAAAAAAAAAAAAAAAAAAAAAAAAAAAAAAAAAAAAAAAAAAAAAAAAAAAAAAAAAAAAAAAAAAAAAAAAAAAAAAAAAAAAAAAAAAAAAAAAAAAAAAAAAAAAAAAAAAAAAAAAAAAAAAAAAAAAAAAAAAAAAAAAAAAAAAAAAAAAAAAAAAAAAAAAAAAAAAAAAAAAAAAAAAAAAAAAAAAAAAAAAAAAAAAAAAAAAAAAAAAAADwPwAAAAAAAAAAAAAAAAAA8D8AAAAAAAAAAAAAAAAAAAAAAAAAAAAAAAAAAAAAAAAAAAAAAAAAAAAAAAAAAAAAAAAAAAAAAAAAAAAAAAAAAAAAAAAAAAAAAAAAAAAAAAAAAAAAAAAAAAAAAAAAAAAAAAAAAAAAAAAAAAAAAAAAAAAAAAAAAAAAAAAAAAAAAAAAAAAAAAAAAAAAAAAAAAAAAAAAAAAAAAAAAAAAAAAAAAAAAAAAAAAAAAAAAAAAAAAAAAAAAAAAAAAAAAAAAAAAAAAAAAAAAAAAAAAAAAAAAAAAAAAAAAAAAAAAAAAAAAAAAAAAAAAAAAAAAAAAAAAAAAAAAAAAAAAAAAAAAAAAAAAAAAAAAAAAAAAAAAAAAAAAAAAAAAAAAAAAAAAAAAAAAAAAAAAAAAAAAAAAAAAAAAAAAAAAAAAAAAAAAAAAAAAAAAAAAAAAAPA/AAAAAAAAAAAAAAAAAAAAAAAAAAAAAAAAAAAAAAAAAAAAAAAAAAAAAAAAAAAAAAAAAAAAAAAAAAAAAAAAAAAAAAAAAAAAAAAAAAAAAAAAAAAAAAAAAAAAAAAAAAAAAAAAAAAAAAAAAAAAAAAAAAAAAAAAAAAAAAAAAAAAAAAAAAAAAAAAAAAAAAAAAAAAAAAAAAAAAAAAAAAAAAAAAAAAAAAAAAAAAAAAAAAAAAAAAAAAAAAAAAAAAAAAAAAAAAAAAAAAAAAAAAAAAAAAAAAAAAAAAAAAAAAAAAAAAAAAAAAAAAAAAAAAAAAAAAAAAAAAAAAAAAAAAAAAAAAAAAAAAAAAAAAAAAAAAAAAAAAAAAAAAAAAAAAAAAAAAAAAAAAAAAAAAAAAAAAAAAAAAAAAAAAAAAAAAAAAAAAAAAAAAAAAAAAAAAAAAAAAAAAAAPA/AAAAAAAAAAAAAAAAAAAAAAAAAAAAAAAAAAAAAAAAAAAAAAAAAAAAAAAAAAAAAAAAAAAAAAAAAAAAAAAAAAAAAAAAAAAAAAAAAAAAAAAAAAAAAAAAAAAAAAAAAAAAAAAAAAAAAAAAAAAAAAAAAAAAAAAAAAAAAAAAAAAAAAAAAAAAAAAAAAAAAAAAAAAAAAAAAAAAAAAAAAAAAAAAAAAAAAAAAAAAAAAAAAAAAAAAAAAAAAAAAAAAAAAAAAAAAAAAAAAAAAAAAAAAAAAAAAAAAAAAAAAAAAAAAAAAAAAAAAAAAAAAAAAAAAAAAAAAAAAAAAAAAAAAAAAAAAAAAAAAAAAAAAAAAAAAAAAAAAAAAAAAAAAAAAAAAAAAAAAAAAAAAAAAAAAAAAAAAAAAAAAAAAAAAAAAAAAAAAAAAAAAAAAAAAAAAAAAAAAAAAAAAAAAAAAAAAAAAAAAAAAAAAAAAAAAAAAAAAAAAAAAAAAAAAAAAAAAAAAAAAAAAAAAAAAAAAAAAAAAAAAAAAAAAAAAAAAAAAAAAAAAAAAAAAAAAAAAAAAAAADwPwAAAAAAAAAAAAAAAAAAAAAAAAAAAAAAAAAAAAAAAAAAAAAAAAAAAAAAAAAAAAAAAAAAAAAAAAAAAAAAAAAAAAAAAAAAAAAAAAAAAAAAAAAAAAAAAAAAAAAAAAAAAAAAAAAAAAAAAAAAAAAAAAAAAAAAAAAAAAAAAAAAAAAAAAAAAAAAAAAAAAAAAAAAAAAAAAAAAAAAAAAAAAAAAAAAAAAAAAAAAAAAAAAAAAAAAAAAAAAAAAAAAAAAAAAAAAAAAAAAAAAAAAAAAAAAAAAAAAAAAAAAAAAAAAAAAAAAAAAAAAAAAAAAAAAAAAAAAAAAAAAAAAAAAAAAAAAAAAAAAAAAAAAAAAAAAAAAAAAAAAAAAAAAAAAAAAAAAAAAAAAAAAAAAAAAAAAAAAAAAAAAAAAAAAAAAAAAAAAAAAAAAAAAAAAAAAAAAAAAAAAAAAAAAAAAAAAAAAAAAAAAAAAAAAAAAAAAAAAAAAAAAAAAAAAAAAAAAAAAAAAAAAAAAAAAAAAAAAAAAAAAAAAAAAAAAAAAAAAAAAAAAAAAAAAAAAAAAAAAAAAAAAAAAAAAAAAAAAAAAAAAAAAAAAAAAAAAAAAAAAAAAAAAAAAAAAAAAPA/AAAAAAAAAAAAAAAAAAAAAAAAAAAAAAAAAAAAAAAAAAAAAAAAAAAAAAAAAAAAAAAAAAAAAAAAAAAAAAAAAAAAAAAAAAAAAAAAAAAAAAAAAAAAAAAAAAAAAAAAAAAAAAAAAAAAAAAAAAAAAAAAAAAAAAAAAAAAAAAAAAAAAAAAAAAAAAAAAAAAAAAAAAAAAAAAAAAAAAAAAAAAAAAAAAAAAAAAAAAAAAAAAAAAAAAAAAAAAAAAAAAAAAAAAAAAAAAAAAAAAAAAAAAAAAAAAAAAAAAAAAAAAAAAAAAAAAAAAAAAAAAAAAAAAAAAAAAAAAAAAAAAAAAAAAAAAAAAAAAAAAAAAAAAAAAAAAAAAAAAAAAAAAAAAAAAAAAAAAAAAAAAAAAAAAAAAAAAAAAAAAAAAAAAAAAAAPA/AAAAAAAAAAAAAAAAAADwPwAAAAAAAAAAAAAAAAAAAAAAAAAAAAAAAAAAAAAAAAAAAAAAAAAAAAAAAAAAAAAAAAAAAAAAAAAAAAAAAAAAAAAAAAAAAAAAAAAAAAAAAAAAAAAAAAAAAAAAAAAAAAAAAAAAAAAAAAAAAAAAAAAAAAAAAAAAAAAAAAAAAAAAAAAAAAAAAAAAAAAAAAAAAAAAAAAAAAAAAAAAAAAAAAAAAAAAAAAAAAAAAAAAAAAAAAAAAAAAAAAAAAAAAAAAAAAAAAAAAAAAAAAAAAAAAAAAAAAAAAAAAAAAAAAAAAAAAAAAAAAAAAAAAAAAAAAAAAAAAAAAAAAAAAAAAAAAAAAAAAAAAAAAAAAAAAAAAAAAAAAAAAAAAAAAAAAAAAAAAAAAAAAAAAAAAAAAAAAAAAAAAAAAAAAAAAAAAAAAAAAAAAAAAAAAAAAAAAAAAAAAAAAAAAAAAAAAAAAAAAAAAAAAAAAAAAAAAAAAAAAAAAAAAAAAAAAAAAAAAAAAAAAAAAAAAAAAAAAAAAAAAAAAAAAAAAAAAAAAAAAAAAAAAAAAAAAAAAAAAAAAAAAAAAAAAAAAAAAAAAAAAAAAAAAAAAAAAAAAAAAAAAAAAAAAAAAAAAAAAAAAAAAAAAAAAAAAAAAAAAAAAAAAAAAAAAAAAAAAAAAAAAAAAAAAAAAAAAAAAPA/AAAAAAAAAAAAAAAAAAAAAAAAAAAAAAAAAAAAAAAAAAAAAAAAAAAAAAAAAAAAAAAAAAAAAAAAAAAAAAAAAAAAAAAAAAAAAAAAAAAAAAAAAAAAAAAAAAAAAAAAAAAAAAAAAAAAAAAAAAAAAAAAAADwPwAAAAAAAAAAAAAAAAAAAAAAAAAAAAAAAAAAAAAAAAAAAAAAAAAAAAAAAAAAAAAAAAAAAAAAAAAAAAAAAAAAAAAAAAAAAAAAAAAAAAAAAAAAAAAAAAAAAAAAAAAAAAAAAAAAAAAAAAAAAAAAAAAAAAAAAAAAAAAAAAAAAAAAAAAAAAAAAAAAAAAAAAAAAAAAAAAAAAAAAAAAAAAAAAAAAAAAAAAAAAAAAAAAAAAAAAAAAAAAAAAAAAAAAAAAAAAAAAAAAAAAAAAAAAAAAAAAAAAAAAAAAAAAAAAAAAAAAAAAAAAAAAAAAAAAAAAAAAAAAAAAAAAAAAAAAAAAAAAAAAAAAAAAAAAAAAAAAAAAAAAAAAAAAAAAAAAAAAAAAAAAAAAAAAAAAAAAAAAAAAAAAAAAAAAAAAAAAAAAAAAAAAAAAAAAAAAAAAAAAAAAAAAAAAAAAAAAAAAAAAAAAAAAAAAAAAAAAAAAAAAAAAAAAAAAAAAAAAAAAAAAAAAAAAAAAAAAAAAAAAAAAAAAAAAAAAAAAAAAAAAAAAAAAAAAAAAAAAAAAAAAAAAAAAAAAAAAAAAAAAAAAAAAAAAAAAAAAAAAAAAAAAAAAAAAAAAAAAAAAAAAAAAAAAAAAAAAAADwPwAAAAAAAAAAAAAAAAAAAAAAAAAAAAAAAAAAAAAAAAAAAAAAAAAAAAAAAAAAAAAAAAAAAAAAAAAAAAAAAAAAAAAAAAAAAAAAAAAAAAAAAAAAAAAAAAAAAAAAAAAAAAAAAAAAAAAAAAAAAAAAAAAAAAAAAAAAAAAAAAAAAAAAAAAAAAAAAAAAAAAAAAAAAAAAAAAAAAAAAAAAAAAAAAAAAAAAAAAAAAAAAAAAAAAAAAAAAAAAAAAAAAAAAAAAAAAAAAAAAAAAAAAAAAAAAAAAAAAAAAAAAAAAAAAAAAAAAAAAAAAAAAAAAAAAAAAAAAAAAAAAAAAAAAAAAAAAAAAA8D8AAAAAAAAAAAAAAAAAAAAAAAAAAAAAAAAAAAAAAAAAAAAAAAAAAAAAAAAAAAAAAAAAAAAAAAAAAAAAAAAAAAAAAAAAAAAAAAAAAAAAAAAAAAAAAAAAAAAAAAAAAAAAAAAAAAAAAAAAAAAAAAAAAAAAAAAAAAAAAAAAAAAAAAAAAAAAAAAAAAAAAAAAAAAAAAAAAAAAAAAAAAAAAAAAAAAAAAAAAAAAAAAAAAAAAAAAAAAAAAAAAAAAAAAAAAAAAAAAAAAAAADwPwAAAAAAAAAAAAAAAAAAAAAAAAAAAAAAAAAAAAAAAAAAAAAAAAAAAAAAAAAAAAAAAAAAAAAAAAAAAAAAAAAAAAAAAAAAAAAAAAAAAAAAAAAAAAAAAAAAAAAAAAAAAAAAAAAAAAAAAAAAAAAAAAAAAAAAAAAAAAAAAAAAAAAAAAAAAAAAAAAAAAAAAAAAAAAAAAAAAAAAAAAAAAAAAAAAAAAAAAAAAAAAAAAAAAAAAAAAAAAAAAAAAAAAAAAAAAAAAAAAAAAAAAAAAAAAAAAAAAAAAAAAAAAAAAAAAAAAAAAAAAAAAAAAAAAAAAAAAAAAAAAAAAAAAAAAAAAAAAAAAAAAAAAAAAAAAAAAAAAAAAAAAAAAAAAAAAAAAAAAAAAAAAAAAAAAAAAAAAAAAAAAAAAAAAAAAADwPwAAAAAAAAAAAAAAAAAAAAAAAAAAAAAAAAAAAAAAAAAAAAAAAAAAAAAAAAAAAAAAAAAAAAAAAAAAAAAAAAAAAAAAAAAAAAAAAAAAAAAAAAAAAAAAAAAAAAAAAAAAAAAAAAAAAAAAAAAAAAAAAAAAAAAAAAAAAAAAAAAAAAAAAAAAAAAAAAAAAAAAAAAAAAAAAAAAAAAAAAAAAAAAAAAAAAAAAAAAAAAAAAAAAAAAAAAAAAAAAAAAAAAAAAAAAAAAAAAAAAAAAAAAAAAAAAAAAAAAAAAAAAAAAAAAAAAAAAAAAAAAAAAAAAAAAAAAAAAAAAAAAAAAAAAAAAAAAAAAAAAAAAAAAAAAAAAAAAAAAAAAAAAAAAAAAAAAAAAAAAAAAAAAAAAAAAAAAAAAAAAAAAAAAAAAAAAAAAAAAAAAAAAAAAAAAAAAAAAAAAAAAAAAAAAAAAAAAAAAAAAAAAAAAAAAAAAAAAAAAAAAAAAAAAAAAAAAAAAAAAAAAAAAAAAAAAAAAAAAAAAAAAAAAAAAAAAAAAAAAAAAAAAAAAAAAAAAAAAAAAAAAAAAAAAAAAAAAAAAAAAAAAAAAAAAAAAAAAAAAAAAAAAAAAAAAAAAAAAAAAAAAAAAAAAAAAAAAADwPwAAAAAAAAAAAAAAAAAAAAAAAAAAAAAAAAAAAAAAAAAAAAAAAAAAAAAAAAAAAAAAAAAAAAAAAAAAAAAAAAAAAAAAAAAAAAAAAAAAAAAAAAAAAAAAAAAAAAAAAAAAAAAAAAAAAAAAAAAAAAAAAAAAAAAAAAAAAAAAAAAAAAAAAAAAAAAAAAAAAAAAAAAAAAAAAAAAAAAAAAAAAAAAAAAAAAAAAAAAAAAAAAAAAAAAAAAAAAAAAAAAAAAAAAAAAAAAAAAAAAAAAAAAAAAAAAAAAAAAAAAAAAAAAAAAAAAAAAAAAAAAAAAAAAAAAAAAAAAAAAAAAAAAAAAAAAAAAAAA8D8AAAAAAAAAAAAAAAAAAAAAAAAAAAAAAAAAAAAAAAAAAAAAAAAAAAAAAAAAAAAAAAAAAAAAAAAAAAAAAAAAAAAAAAAAAAAAAAAAAAAAAAAAAAAAAAAAAAAAAAAAAAAAAAAAAAAAAAAAAAAAAAAAAAAAAAAAAAAAAAAAAAAAAAAAAAAAAAAAAAAAAAAAAAAAAAAAAAAAAAAAAAAAAAAAAAAAAAAAAAAAAAAAAAAAAAAAAAAAAAAAAAAAAAAAAAAAAAAAAAAAAAAAAAAAAAAAAAAAAAAAAAAAAAAAAAAAAAAAAAAAAAAAAAAAAAAAAAAAAAAAAAAAAAAAAAAAAAAAAAAAAAAAAAAAAAAAAAAAAAAAAAAAAAAAAAAAAAAAAAAAAAAAAAAAAAAAAAAAAAAAAAAAAAAAAAAAAAAAAAAAAADwPwAAAAAAAAAAAAAAAAAAAAAAAAAAAAAAAAAAAAAAAAAAAAAAAAAAAAAAAAAAAAAAAAAAAAAAAAAAAAAAAAAAAAAAAAAAAAAAAAAAAAAAAAAAAAAAAAAAAAAAAAAAAAAAAAAAAAAAAAAAAAAAAAAAAAAAAAAAAAAAAAAAAAAAAAAAAAAAAAAAAAAAAAAAAAAAAAAAAAAAAAAAAAAAAAAAAAAAAAAAAAAAAAAAAAAAAAAAAAAAAAAA8D8AAAAAAAAAAAAAAAAAAAAAAAAAAAAAAAAAAAAAAAAAAAAAAAAAAAAAAAAAAAAAAAAAAAAAAAAAAAAAAAAAAAAAAAAAAAAAAAAAAAAAAAAAAAAAAAAAAAAAAAAAAAAAAAAAAAAAAAAAAAAAAAAAAAAAAAAAAAAAAAAAAAAAAAAAAAAAAAAAAAAAAAAAAAAAAAAAAAAAAAAAAAAAAAAAAAAAAAAAAAAAAAAAAAAAAAAAAAAAAAAAAAAAAAAAAAAAAAAAAAAAAAAAAAAAAAAAAAAAAAAAAAAAAAAAAAAAAAAAAAAAAAAAAAAAAAAAAAAAAAAAAAAAAAAAAAAAAAAAAAAAAAAAAAAAAAAAAAAAAAAAAAAAAAAAAAAAAAAAAAAAAAAAAAAAAAAAAAAAAAAAAAAAAAAAAAAAAAAAAAAAAAAAAAAAAAAAAAAAAAAAAAAAAAAAAAAAAAAAAAAAAAAAAAAAAAAAAAAAAAAAAAAAAAAAAAAAAAAAAAAAAAAAAAAAAAAAAAAAAAAAAAAAAAAAAAAAAAAAAAAAAAAAAAAAAAAAAAAAAAAAAAAAAAAAAAAAAAAAAAAAAAAAAAAAAAAAAAAAAAAAAAAAAAAAAAAAAAAAAAAAAAAAAAAAAAAAAAAAAAAAAAAAAAAAAAAAAAAAAPA/AAAAAAAAAAAAAAAAAAAAAAAAAAAAAAAAAAAAAAAAAAAAAAAAAAAAAAAAAAAAAAAAAAAAAAAAAAAAAAAAAAAAAAAAAAAAAAAAAAAAAAAAAAAAAAAAAAAAAAAAAAAAAAAAAAAAAAAAAAAAAAAAAAAAAAAAAAAAAAAAAAAAAAAAAAAAAAAAAAAAAAAAAAAAAAAAAAAAAAAAAAAAAAAAAAAAAAAAAAAAAAAAAAAAAAAAAAAAAAAAAAAAAAAAAAAAAAAAAAAAAAAAAAAAAAAAAAAAAAAAAAAAAAAAAAAAAAAAAAAAAAAAAAAAAAAAAAAAAAAAAAAAAAAAAAAAAAAAAAAAAAAAAAAAAAAAAAAAAAAAAAAAAAAAAAAAAAAAAAAAAAAAAAAAAAAAAAAAAAAAAAAAAAAAAAAAAAAAAAAAAAAAAAAAAAAAAAAAAAAAAAAAAAAAAAAAAAAAAAAAAAAAAAAAAAAAAAAAAAAAAAAAAAAAAAAAAAAAAAAAAAAAAAAAAAAAAAAAAAAAAAAAAAAAAAAAAAAAAAAAAAAAAAAAAAAAAAAAAAAAAAAAAAAAAAAAAPA/AAAAAAAAAAAAAAAAAAAAAAAAAAAAAAAAAAAAAAAAAAAAAAAAAAAAAAAAAAAAAAAAAAAAAAAAAAAAAAAAAAAAAAAAAAAAAPA/AAAAAAAAAAAAAAAAAAAAAAAAAAAAAAAAAAAAAAAAAAAAAAAAAAAAAAAAAAAAAAAAAAAAAAAAAAAAAAAAAAAAAAAAAAAAAAAAAAAAAAAAAAAAAAAAAAAAAAAAAAAAAAAAAAAAAAAAAAAAAAAAAAAAAAAAAAAAAAAAAAAAAAAAAAAAAAAAAAAAAAAAAAAAAAAAAAAAAAAAAAAAAAAAAAAAAAAAAAAAAAAAAAAAAAAAAAAAAAAAAAAAAAAAAAAAAAAAAAAAAAAAAAAAAAAAAAAAAAAAAAAAAAAAAAAAAAAAAAAAAAAAAAAAAAAAAAAAAAAAAAAAAAAAAAAAAAAAAADwPwAAAAAAAAAAAAAAAAAAAAAAAAAAAAAAAAAAAAAAAAAAAAAAAAAAAAAAAAAAAAAAAAAAAAAAAAAAAAAAAAAAAAAAAAAAAAAAAAAAAAAAAAAAAAAAAAAAAAAAAAAAAAAAAAAAAAAAAAAAAAAAAAAAAAAAAAAAAAAAAAAAAAAAAAAAAAAAAAAAAAAAAAAAAAAAAAAAAAAAAAAAAAAAAAAAAAAAAAAAAAAAAAAAAAAAAAAAAAAAAAAAAAAAAAAAAAAAAAAAAAAAAAAAAAAAAAAAAAAAAAAAAAAAAAAAAAAAAAAAAAAAAAAAAAAAAAAAAAAAAAAAAAAAAAAAAAAAAAAAAAAAAAAAAAAAAAAAAAAAAAAAAAAAAAAAAAAAAAAAAAAAAAAAAAAAAAAAAAAAAAAAAAAAAAAAAAAAAAAAAAAAAAAAAAAAAAAAAAAAAAAAAAAAAAAAAAAAAPA/AAAAAAAAAAAAAAAAAAAAAAAAAAAAAAAAAAAAAAAAAAAAAAAAAAAAAAAAAAAAAAAAAAAAAAAAAAAAAAAAAAAAAAAAAAAAAAAAAAAAAAAAAAAAAAAAAAAAAAAAAAAAAAAAAAAAAAAAAAAAAAAAAAAAAAAAAAAAAAAAAAAAAAAAAAAAAAAAAAAAAAAAAAAAAAAAAAAAAAAAAAAAAAAAAAAAAAAAAAAAAAAAAAAAAAAAAAAAAAAAAAAAAAAAAAAAAAAAAAAAAAAAAAAAAAAAAAAAAAAAAAAAAAAAAAAAAAAAAAAAAAAAAAAAAAAAAAAAAAAAAAAAAAAAAAAAAAAAAAAAAAAAAAAAAAAAAAAAAAAAAAAAAAAAAAAAAAAAAAAAAAAAAAAAAAAAAAAAAAAAAAAAAAAAAAAAAAAAAAAAAAAAAAAAAAAAAAAAAAAAAAAAAAAAAAAAAAAAAAAAAAAAAAAAAAAAAAAAAAAAAAAAAAAAAAAAAAAAAAAAAAAAAAAAAAAAAAAAAAAAAAAAAAAAAAAAAAAAAAAAAAAAAAAAAAAAAAAAAAAAAAAAAAAAAAAAAAAAAAAAAAAAAAAAAAAAAAAAAAAAAAAAAAAAAAAAAAAAAAAAAAAAAAAAAAAAAAAAAAAAAAAAAAAAAAAAAAAAAAAAAAAAAAAAAAAAAAAAAAAAAAAAAAAAAAAAAAAAAAAAAAAAAAAAAAAAAAAAAAAAAAAAAAAAAAAAAAAAAAAAAAAAAAAAAAAAAAAAAAAAAAAAAPA/AAAAAAAAAAAAAAAAAAAAAAAAAAAAAAAAAAAAAAAAAAAAAAAAAAAAAAAAAAAAAAAAAAAAAAAAAAAAAAAAAAAAAAAAAAAAAAAAAAAAAAAAAAAAAAAAAAAAAAAAAAAAAAAAAAAAAAAA8D8AAAAAAAAAAAAAAAAAAAAAAAAAAAAAAAAAAAAAAAAAAAAAAAAAAAAAAAAAAAAAAAAAAAAAAAAAAAAAAAAAAAAAAAAAAAAAAAAAAAAAAAAAAAAAAAAAAAAAAAAAAAAAAAAAAAAAAAAAAAAAAAAAAAAAAAAAAAAAAAAAAAAAAAAAAAAAAAAAAAAAAAAAAAAAAAAAAAAAAAAAAAAAAAAAAAAAAAAAAAAAAAAAAAAAAAAAAAAAAAAAAAAAAAAAAAAAAAAAAAAAAAAAAAAAAAAAAAAAAAAAAAAAAAAAAAAAAAAAAAAAAAAAAAAAAAAAAAAAAAAAAAAAAAAAAAAAAAAAAAAAAAAAAAAAAAAAAAAAAAAAAAAAAAAAAAAAAAAAAAAAAAAAAAAAAAAAAAAAAAAAAAAAAAAAAAAAAAAAAAAAAAAAAAAAAAAAAAAAAAAAAAAAAAAAAAAAAAAAAAAAAAAAAAAAAAAAAAAAAAAAAAAAAAAAAAAAAAAAAAAAAAAAAAAAAAAAAAAAAADwPwAAAAAAAAAAAAAAAAAAAAAAAAAAAAAAAAAAAAAAAAAAAAAAAAAAAAAAAAAAAAAAAAAAAAAAAAAAAAAAAAAAAAAAAAAAAAAAAAAAAAAAAAAAAAAAAAAAAAAAAAAAAAAAAAAAAAAAAAAAAAAAAAAAAAAAAAAAAAAAAAAAAAAAAAAAAAAAAAAAAAAAAAAAAAAAAAAAAAAAAAAAAAAAAAAAAAAAAAAAAAAAAAAAAAAAAAAAAAAAAAAAAAAAAAAAAAAAAAAAAAAAAAAAAAAAAAAAAAAAAAAAAAAAAAAAAAAAAAAAAAAAAAAAAAAAAAAAAAAAAAAAAAAAAAAAAAAAAAAA8D8AAAAAAAAAAAAAAAAAAAAAAAAAAAAAAAAAAAAAAAAAAAAAAAAAAAAAAAAAAAAAAAAAAAAAAAAAAAAAAAAAAAAAAAAAAAAAAAAAAAAAAAAAAAAAAAAAAAAAAAAAAAAAAAAAAAAAAAAAAAAAAAAAAAAAAAAAAAAAAAAAAAAAAAAAAAAAAAAAAAAAAAAAAAAAAAAAAAAAAAAAAAAAAAAAAAAAAAAAAAAAAAAAAAAAAAAAAAAAAAAAAAAAAAAAAAAAAAAAAAAAAADwPwAAAAAAAAAAAAAAAAAAAAAAAAAAAAAAAAAAAAAAAAAAAAAAAAAAAAAAAAAAAAAAAAAAAAAAAAAAAAAAAAAAAAAAAAAAAAAAAAAAAAAAAAAAAAAAAAAAAAAAAAAAAAAAAAAAAAAAAAAAAAAAAAAAAAAAAAAAAAAAAAAAAAAAAAAAAAAAAAAAAAAAAAAAAAAAAAAAAAAAAAAAAAAAAAAAAAAAAAAAAAAAAAAAAAAAAAAAAAAAAAAAAAAAAAAAAAAAAAAAAAAAAAAAAAAAAAAAAAAAAAAAAAAAAAAAAAAAAAAAAAAAAAAAAAAAAAAAAAAAAAAAAAAAAAAAAAAAAAAAAAAAAAAAAAAAAAAAAAAAAAAAAAAAAAAAAAAAAAAAAAAAAAAAAAAAAAAAAAAAAAAAAAAAAAAAAAAAAAAAAAAAAAAAAAAAAAAAAAAAAAAAAAAAAAAAAAAAAAAAAAAAAAAAAAAAAAAAAAAAAAAAAAAAAAAAAAAAAAAAAAAAAAAAAAAAAAAAAAAAAAAAAAAAAAAAAAAAAAAAAAAAAAAAAAAAAAAAAAAAAAAAAAAAAAAAAADwPwAAAAAAAAAAAAAAAAAAAAAAAAAAAAAAAAAAAAAAAAAAAAAAAAAAAAAAAAAAAAAAAAAAAAAAAAAAAAAAAAAAAAAAAAAAAAAAAAAAAAAAAAAAAAAAAAAAAAAAAAAAAAAAAAAAAAAAAAAAAAAAAAAAAAAAAAAAAAAAAAAAAAAAAAAAAAAAAAAAAAAAAAAAAAAAAAAAAAAAAAAAAAAAAAAAAAAAAAAAAAAAAAAAAAAAAAAAAAAAAAAAAAAAAAAAAAAAAAAAAAAAAAAAAAAAAAAAAAAAAAAAAAAAAAAAAAAAAAAAAAAAAAAAAAAAAAAAAADwPwAAAAAAAAAAAAAAAAAAAAAAAAAAAAAAAAAAAAAAAAAAAAAAAAAAAAAAAAAAAAAAAAAAAAAAAAAAAAAAAAAAAAAAAAAAAAAAAAAAAAAAAAAAAAAAAAAAAAAAAAAAAAAAAAAAAAAAAAAAAAAAAAAAAAAAAAAAAAAAAAAAAAAAAAAAAAAAAAAAAAAAAAAAAAAAAAAAAAAAAAAAAAAAAAAAAAAAAAAAAAAAAAAAAAAAAAAAAAAAAAAAAAAAAAAAAAAAAAAAAAAAAAAAAAAAAAAAAAAAAAAAAAAAAAAAAAAAAAAAAAAAAAAAAAAAAAAAAAAAAAAAAAAAAAAAAAAAAAAAAAAAAAAAAAAAAAAAAAAAAAAAAAAAAAAAAAAAAAAAAAAAAAAAAAAAAAAAAAAAAAAAAAAAAAAAAAAAAAAAAAAAAAAAAAAAAAAAAAAAAAAAAAAAAAAAAAAAAAAAAAAAAAAAAAAAAAAAAAAAAAAAAAAAAAAAAAAAAAAAAAAAAAAAAAAAAAAAAAAAAAAAAAAAAAAAAAAAAAAAAADwPwAAAAAAAAAAAAAAAAAAAAAAAAAAAAAAAAAAAAAAAAAAAAAAAAAAAAAAAAAAAAAAAAAAAAAAAAAAAAAAAAAAAAAAAAAAAAAAAAAAAAAAAAAAAAAAAAAAAAAAAAAAAAAAAAAAAAAAAAAAAAAAAAAAAAAAAAAAAAAAAAAAAAAAAAAAAAAAAAAAAAAAAAAAAAAAAAAAAAAAAAAAAAAAAAAAAAAAAAAAAAAAAAAAAAAAAAAAAAAAAAAAAAAAAAAAAAAAAAAAAAAAAAAAAAAAAAAAAAAAAAAAAAAAAAAAAAAAAPA/AAAAAAAAAAAAAAAAAAAAAAAAAAAAAAAAAAAAAAAAAAAAAAAAAAAAAAAAAAAAAAAAAAAAAAAAAAAAAAAAAAAAAAAAAAAAAAAAAAAAAAAAAAAAAAAAAAAAAAAAAAAAAAAAAAAAAAAAAAAAAAAAAAAAAAAAAAAAAAAAAAAAAAAAAAAAAAAAAAAAAAAAAAAAAAAAAAAAAAAAAAAAAAAAAAAAAAAAAAAAAAAAAAAAAAAAAAAAAAAAAAAAAAAAAAAAAAAAAAAAAAAAAAAAAAAAAAAAAAAAAAAAAAAAAAAAAAAAAAAAAAAAAAAAAAAAAAAAAAAAAAAAAAAAAAAAAAAAAAAAAAAAAAAAAAAAAAAAAAAAAAAAAAAAAAAAAAAAAAAAAAAAAAAAAAAAAAAAAAAAAAAAAAAAAAAAAAAAAAAAAAAAAAAAAAAAAAAAAAAAAAAAAAAAAAAAAAAAAAAAAAAAAAAAAAAAAAAAAAAAAAAAAAAAAAAAAAAAAAAAAAAAAAAAAAAAAAAAAAAAAAAAAAAAAAAAAAAAAAAAAAAAAAAAAAAAAAAAAAAAAAAAAAAAAAAAAAAAAAAAAAAAAAAAAAAAAAAAAAAAAAAAAAAAAAAAAAAAAAAAAAAAAAAAAAAAAAAAAAAAAAAAAAAAAAAAAAAAAAAAAAAAAAAAAAAAAAAAAAAAAAAAAAAAAAAAAAAAAAAAAAAAAAAAAAAAAAAAAAAAAAAAAAAAAAAAAPA/AAAAAAAAAAAAAAAAAAAAAAAAAAAAAAAAAAAAAAAAAAAAAAAAAAAAAAAAAAAAAAAAAAAAAAAAAAAAAAAAAAAAAAAAAAAAAAAAAAAAAAAAAAAAAAAAAAAAAAAAAAAAAAAAAAAAAAAAAAAAAAAAAAAAAAAAAAAAAAAAAAAAAAAAAAAAAAAAAAAAAAAAAAAAAAAAAAAAAAAAAAAAAAAAAAAAAAAAAAAAAAAAAAAAAAAAAAAAAAAAAADwPwAAAAAAAAAAAAAAAAAAAAAAAAAAAAAAAAAAAAAAAAAAAAAAAAAAAAAAAAAAAAAAAAAAAAAAAAAAAAAAAAAAAAAAAAAAAAAAAAAAAAAAAAAAAAAAAAAAAAAAAAAAAAAAAAAAAAAAAAAAAAAAAAAAAAAAAAAAAAAAAAAAAAAAAAAAAAAAAAAAAAAAAAAAAAAAAAAAAAAAAAAAAAAAAAAAAAAAAAAAAAAAAAAAAAAAAAAAAAAAAAAAAAAAAAAAAAAAAAAAAAAAAAAAAAAAAAAAAAAAAAAAAAAAAAAAAAAAAAAAAAAAAAAAAAAAAAAAAAAAAAAAAAAAAAAAAAAAAAAAAAAAAAAAAAAAAAAAAAAAAAAAAAAAAAAAAAAAAAAAAAAAAAAAAAAAAAAAAAAAAAAAAAAAAAAAAAAAAAAAAAAAAAAAAAAAAAAAAAAAAAAAAAAAAAAAAAAAAAAAAAAAAAAAAAAAAAAAAAAAAAAAAAAAAAAAAAAAAAAAAAAAAAAAAAAAAAAAAAAAAAAAAAAAAAAAAAAAAAAAAAAAAAAAAAAAAAAAAAAAAAAAAAAAAAAAAAAAAAAAAAAAAPA/\",\"dtype\":\"float64\",\"shape\":[101,39]}]},\"selected\":{\"id\":\"16747\",\"type\":\"Selection\"},\"selection_policy\":{\"id\":\"16746\",\"type\":\"UnionRenderers\"}},\"id\":\"16324\",\"type\":\"ColumnDataSource\"},{\"attributes\":{\"palette\":[\"#440154\",\"#440255\",\"#440357\",\"#450558\",\"#45065A\",\"#45085B\",\"#46095C\",\"#460B5E\",\"#460C5F\",\"#460E61\",\"#470F62\",\"#471163\",\"#471265\",\"#471466\",\"#471567\",\"#471669\",\"#47186A\",\"#48196B\",\"#481A6C\",\"#481C6E\",\"#481D6F\",\"#481E70\",\"#482071\",\"#482172\",\"#482273\",\"#482374\",\"#472575\",\"#472676\",\"#472777\",\"#472878\",\"#472A79\",\"#472B7A\",\"#472C7B\",\"#462D7C\",\"#462F7C\",\"#46307D\",\"#46317E\",\"#45327F\",\"#45347F\",\"#453580\",\"#453681\",\"#443781\",\"#443982\",\"#433A83\",\"#433B83\",\"#433C84\",\"#423D84\",\"#423E85\",\"#424085\",\"#414186\",\"#414286\",\"#404387\",\"#404487\",\"#3F4587\",\"#3F4788\",\"#3E4888\",\"#3E4989\",\"#3D4A89\",\"#3D4B89\",\"#3D4C89\",\"#3C4D8A\",\"#3C4E8A\",\"#3B508A\",\"#3B518A\",\"#3A528B\",\"#3A538B\",\"#39548B\",\"#39558B\",\"#38568B\",\"#38578C\",\"#37588C\",\"#37598C\",\"#365A8C\",\"#365B8C\",\"#355C8C\",\"#355D8C\",\"#345E8D\",\"#345F8D\",\"#33608D\",\"#33618D\",\"#32628D\",\"#32638D\",\"#31648D\",\"#31658D\",\"#31668D\",\"#30678D\",\"#30688D\",\"#2F698D\",\"#2F6A8D\",\"#2E6B8E\",\"#2E6C8E\",\"#2E6D8E\",\"#2D6E8E\",\"#2D6F8E\",\"#2C708E\",\"#2C718E\",\"#2C728E\",\"#2B738E\",\"#2B748E\",\"#2A758E\",\"#2A768E\",\"#2A778E\",\"#29788E\",\"#29798E\",\"#287A8E\",\"#287A8E\",\"#287B8E\",\"#277C8E\",\"#277D8E\",\"#277E8E\",\"#267F8E\",\"#26808E\",\"#26818E\",\"#25828E\",\"#25838D\",\"#24848D\",\"#24858D\",\"#24868D\",\"#23878D\",\"#23888D\",\"#23898D\",\"#22898D\",\"#228A8D\",\"#228B8D\",\"#218C8D\",\"#218D8C\",\"#218E8C\",\"#208F8C\",\"#20908C\",\"#20918C\",\"#1F928C\",\"#1F938B\",\"#1F948B\",\"#1F958B\",\"#1F968B\",\"#1E978A\",\"#1E988A\",\"#1E998A\",\"#1E998A\",\"#1E9A89\",\"#1E9B89\",\"#1E9C89\",\"#1E9D88\",\"#1E9E88\",\"#1E9F88\",\"#1EA087\",\"#1FA187\",\"#1FA286\",\"#1FA386\",\"#20A485\",\"#20A585\",\"#21A685\",\"#21A784\",\"#22A784\",\"#23A883\",\"#23A982\",\"#24AA82\",\"#25AB81\",\"#26AC81\",\"#27AD80\",\"#28AE7F\",\"#29AF7F\",\"#2AB07E\",\"#2BB17D\",\"#2CB17D\",\"#2EB27C\",\"#2FB37B\",\"#30B47A\",\"#32B57A\",\"#33B679\",\"#35B778\",\"#36B877\",\"#38B976\",\"#39B976\",\"#3BBA75\",\"#3DBB74\",\"#3EBC73\",\"#40BD72\",\"#42BE71\",\"#44BE70\",\"#45BF6F\",\"#47C06E\",\"#49C16D\",\"#4BC26C\",\"#4DC26B\",\"#4FC369\",\"#51C468\",\"#53C567\",\"#55C666\",\"#57C665\",\"#59C764\",\"#5BC862\",\"#5EC961\",\"#60C960\",\"#62CA5F\",\"#64CB5D\",\"#67CC5C\",\"#69CC5B\",\"#6BCD59\",\"#6DCE58\",\"#70CE56\",\"#72CF55\",\"#74D054\",\"#77D052\",\"#79D151\",\"#7CD24F\",\"#7ED24E\",\"#81D34C\",\"#83D34B\",\"#86D449\",\"#88D547\",\"#8BD546\",\"#8DD644\",\"#90D643\",\"#92D741\",\"#95D73F\",\"#97D83E\",\"#9AD83C\",\"#9DD93A\",\"#9FD938\",\"#A2DA37\",\"#A5DA35\",\"#A7DB33\",\"#AADB32\",\"#ADDC30\",\"#AFDC2E\",\"#B2DD2C\",\"#B5DD2B\",\"#B7DD29\",\"#BADE27\",\"#BDDE26\",\"#BFDF24\",\"#C2DF22\",\"#C5DF21\",\"#C7E01F\",\"#CAE01E\",\"#CDE01D\",\"#CFE11C\",\"#D2E11B\",\"#D4E11A\",\"#D7E219\",\"#DAE218\",\"#DCE218\",\"#DFE318\",\"#E1E318\",\"#E4E318\",\"#E7E419\",\"#E9E419\",\"#ECE41A\",\"#EEE51B\",\"#F1E51C\",\"#F3E51E\",\"#F6E61F\",\"#F8E621\",\"#FAE622\",\"#FDE724\"]},\"id\":\"16325\",\"type\":\"LinearColorMapper\"},{\"attributes\":{},\"id\":\"16305\",\"type\":\"BasicTicker\"},{\"attributes\":{},\"id\":\"16742\",\"type\":\"BasicTickFormatter\"},{\"attributes\":{},\"id\":\"16312\",\"type\":\"SaveTool\"},{\"attributes\":{},\"id\":\"16744\",\"type\":\"BasicTickFormatter\"},{\"attributes\":{},\"id\":\"16300\",\"type\":\"BasicTicker\"},{\"attributes\":{},\"id\":\"16295\",\"type\":\"LinearScale\"},{\"attributes\":{},\"id\":\"16313\",\"type\":\"ResetTool\"},{\"attributes\":{\"color_mapper\":{\"id\":\"16325\",\"type\":\"LinearColorMapper\"},\"dh\":{\"units\":\"data\",\"value\":101},\"dw\":{\"units\":\"data\",\"value\":39},\"image\":{\"field\":\"image\"},\"x\":{\"value\":0},\"y\":{\"value\":0}},\"id\":\"16326\",\"type\":\"Image\"},{\"attributes\":{\"formatter\":{\"id\":\"16744\",\"type\":\"BasicTickFormatter\"},\"plot\":{\"id\":\"16290\",\"subtype\":\"Figure\",\"type\":\"Plot\"},\"ticker\":{\"id\":\"16305\",\"type\":\"BasicTicker\"}},\"id\":\"16304\",\"type\":\"LinearAxis\"},{\"attributes\":{\"plot\":null,\"text\":\"\"},\"id\":\"16741\",\"type\":\"Title\"},{\"attributes\":{},\"id\":\"16309\",\"type\":\"PanTool\"},{\"attributes\":{\"plot\":{\"id\":\"16290\",\"subtype\":\"Figure\",\"type\":\"Plot\"},\"ticker\":{\"id\":\"16300\",\"type\":\"BasicTicker\"}},\"id\":\"16303\",\"type\":\"Grid\"},{\"attributes\":{\"data_source\":{\"id\":\"16324\",\"type\":\"ColumnDataSource\"},\"glyph\":{\"id\":\"16326\",\"type\":\"Image\"},\"hover_glyph\":null,\"muted_glyph\":null,\"nonselection_glyph\":{\"id\":\"16328\",\"type\":\"Image\"},\"selection_glyph\":null,\"view\":{\"id\":\"16330\",\"type\":\"CDSView\"}},\"id\":\"16329\",\"type\":\"GlyphRenderer\"},{\"attributes\":{},\"id\":\"16310\",\"type\":\"WheelZoomTool\"},{\"attributes\":{\"callback\":null,\"end\":39},\"id\":\"16291\",\"type\":\"Range1d\"},{\"attributes\":{},\"id\":\"16297\",\"type\":\"LinearScale\"},{\"attributes\":{\"color_mapper\":{\"id\":\"16327\",\"type\":\"LinearColorMapper\"},\"dh\":{\"units\":\"data\",\"value\":101},\"dw\":{\"units\":\"data\",\"value\":39},\"image\":{\"field\":\"image\"},\"x\":{\"value\":0},\"y\":{\"value\":0}},\"id\":\"16328\",\"type\":\"Image\"},{\"attributes\":{\"overlay\":{\"id\":\"16317\",\"type\":\"BoxAnnotation\"}},\"id\":\"16311\",\"type\":\"BoxZoomTool\"},{\"attributes\":{},\"id\":\"16747\",\"type\":\"Selection\"},{\"attributes\":{\"palette\":[\"#440154\",\"#440255\",\"#440357\",\"#450558\",\"#45065A\",\"#45085B\",\"#46095C\",\"#460B5E\",\"#460C5F\",\"#460E61\",\"#470F62\",\"#471163\",\"#471265\",\"#471466\",\"#471567\",\"#471669\",\"#47186A\",\"#48196B\",\"#481A6C\",\"#481C6E\",\"#481D6F\",\"#481E70\",\"#482071\",\"#482172\",\"#482273\",\"#482374\",\"#472575\",\"#472676\",\"#472777\",\"#472878\",\"#472A79\",\"#472B7A\",\"#472C7B\",\"#462D7C\",\"#462F7C\",\"#46307D\",\"#46317E\",\"#45327F\",\"#45347F\",\"#453580\",\"#453681\",\"#443781\",\"#443982\",\"#433A83\",\"#433B83\",\"#433C84\",\"#423D84\",\"#423E85\",\"#424085\",\"#414186\",\"#414286\",\"#404387\",\"#404487\",\"#3F4587\",\"#3F4788\",\"#3E4888\",\"#3E4989\",\"#3D4A89\",\"#3D4B89\",\"#3D4C89\",\"#3C4D8A\",\"#3C4E8A\",\"#3B508A\",\"#3B518A\",\"#3A528B\",\"#3A538B\",\"#39548B\",\"#39558B\",\"#38568B\",\"#38578C\",\"#37588C\",\"#37598C\",\"#365A8C\",\"#365B8C\",\"#355C8C\",\"#355D8C\",\"#345E8D\",\"#345F8D\",\"#33608D\",\"#33618D\",\"#32628D\",\"#32638D\",\"#31648D\",\"#31658D\",\"#31668D\",\"#30678D\",\"#30688D\",\"#2F698D\",\"#2F6A8D\",\"#2E6B8E\",\"#2E6C8E\",\"#2E6D8E\",\"#2D6E8E\",\"#2D6F8E\",\"#2C708E\",\"#2C718E\",\"#2C728E\",\"#2B738E\",\"#2B748E\",\"#2A758E\",\"#2A768E\",\"#2A778E\",\"#29788E\",\"#29798E\",\"#287A8E\",\"#287A8E\",\"#287B8E\",\"#277C8E\",\"#277D8E\",\"#277E8E\",\"#267F8E\",\"#26808E\",\"#26818E\",\"#25828E\",\"#25838D\",\"#24848D\",\"#24858D\",\"#24868D\",\"#23878D\",\"#23888D\",\"#23898D\",\"#22898D\",\"#228A8D\",\"#228B8D\",\"#218C8D\",\"#218D8C\",\"#218E8C\",\"#208F8C\",\"#20908C\",\"#20918C\",\"#1F928C\",\"#1F938B\",\"#1F948B\",\"#1F958B\",\"#1F968B\",\"#1E978A\",\"#1E988A\",\"#1E998A\",\"#1E998A\",\"#1E9A89\",\"#1E9B89\",\"#1E9C89\",\"#1E9D88\",\"#1E9E88\",\"#1E9F88\",\"#1EA087\",\"#1FA187\",\"#1FA286\",\"#1FA386\",\"#20A485\",\"#20A585\",\"#21A685\",\"#21A784\",\"#22A784\",\"#23A883\",\"#23A982\",\"#24AA82\",\"#25AB81\",\"#26AC81\",\"#27AD80\",\"#28AE7F\",\"#29AF7F\",\"#2AB07E\",\"#2BB17D\",\"#2CB17D\",\"#2EB27C\",\"#2FB37B\",\"#30B47A\",\"#32B57A\",\"#33B679\",\"#35B778\",\"#36B877\",\"#38B976\",\"#39B976\",\"#3BBA75\",\"#3DBB74\",\"#3EBC73\",\"#40BD72\",\"#42BE71\",\"#44BE70\",\"#45BF6F\",\"#47C06E\",\"#49C16D\",\"#4BC26C\",\"#4DC26B\",\"#4FC369\",\"#51C468\",\"#53C567\",\"#55C666\",\"#57C665\",\"#59C764\",\"#5BC862\",\"#5EC961\",\"#60C960\",\"#62CA5F\",\"#64CB5D\",\"#67CC5C\",\"#69CC5B\",\"#6BCD59\",\"#6DCE58\",\"#70CE56\",\"#72CF55\",\"#74D054\",\"#77D052\",\"#79D151\",\"#7CD24F\",\"#7ED24E\",\"#81D34C\",\"#83D34B\",\"#86D449\",\"#88D547\",\"#8BD546\",\"#8DD644\",\"#90D643\",\"#92D741\",\"#95D73F\",\"#97D83E\",\"#9AD83C\",\"#9DD93A\",\"#9FD938\",\"#A2DA37\",\"#A5DA35\",\"#A7DB33\",\"#AADB32\",\"#ADDC30\",\"#AFDC2E\",\"#B2DD2C\",\"#B5DD2B\",\"#B7DD29\",\"#BADE27\",\"#BDDE26\",\"#BFDF24\",\"#C2DF22\",\"#C5DF21\",\"#C7E01F\",\"#CAE01E\",\"#CDE01D\",\"#CFE11C\",\"#D2E11B\",\"#D4E11A\",\"#D7E219\",\"#DAE218\",\"#DCE218\",\"#DFE318\",\"#E1E318\",\"#E4E318\",\"#E7E419\",\"#E9E419\",\"#ECE41A\",\"#EEE51B\",\"#F1E51C\",\"#F3E51E\",\"#F6E61F\",\"#F8E621\",\"#FAE622\",\"#FDE724\"]},\"id\":\"16327\",\"type\":\"LinearColorMapper\"},{\"attributes\":{\"bottom_units\":\"screen\",\"fill_alpha\":{\"value\":0.5},\"fill_color\":{\"value\":\"lightgrey\"},\"left_units\":\"screen\",\"level\":\"overlay\",\"line_alpha\":{\"value\":1.0},\"line_color\":{\"value\":\"black\"},\"line_dash\":[4,4],\"line_width\":{\"value\":2},\"plot\":null,\"render_mode\":\"css\",\"right_units\":\"screen\",\"top_units\":\"screen\"},\"id\":\"16317\",\"type\":\"BoxAnnotation\"},{\"attributes\":{\"formatter\":{\"id\":\"16742\",\"type\":\"BasicTickFormatter\"},\"major_label_overrides\":{\"0\":\"iy\",\"1\":\"ih\",\"10\":\"uh\",\"11\":\"uw\",\"12\":\"ow\",\"13\":\"oy\",\"14\":\"w\",\"15\":\"l\",\"16\":\"er\",\"17\":\"r\",\"18\":\"m\",\"19\":\"n\",\"2\":\"ey\",\"20\":\"ng\",\"21\":\"z\",\"22\":\"s\",\"23\":\"sh\",\"24\":\"ch\",\"25\":\"jh\",\"26\":\"hh\",\"27\":\"v\",\"28\":\"f\",\"29\":\"dh\",\"3\":\"eh\",\"30\":\"th\",\"31\":\"d\",\"32\":\"b\",\"33\":\"dx\",\"34\":\"g\",\"35\":\"t\",\"36\":\"p\",\"37\":\"k\",\"38\":\"sil\",\"4\":\"y\",\"5\":\"ae\",\"6\":\"ay\",\"7\":\"aw\",\"8\":\"aa\",\"9\":\"ah\"},\"plot\":{\"id\":\"16290\",\"subtype\":\"Figure\",\"type\":\"Plot\"},\"ticker\":{\"id\":\"16331\",\"type\":\"FixedTicker\"}},\"id\":\"16299\",\"type\":\"LinearAxis\"},{\"attributes\":{\"source\":{\"id\":\"16324\",\"type\":\"ColumnDataSource\"}},\"id\":\"16330\",\"type\":\"CDSView\"},{\"attributes\":{\"callback\":null,\"end\":101},\"id\":\"16293\",\"type\":\"Range1d\"}],\"root_ids\":[\"16290\"]},\"title\":\"Bokeh Application\",\"version\":\"1.0.0\"}};\n",
       "  var render_items = [{\"docid\":\"c6665585-0a76-4d60-937f-953f61472347\",\"roots\":{\"16290\":\"5a512d0d-e1ce-474c-97a5-e471b434d0dc\"}}];\n",
       "  root.Bokeh.embed.embed_items_notebook(docs_json, render_items);\n",
       "\n",
       "  }\n",
       "  if (root.Bokeh !== undefined) {\n",
       "    embed_document(root);\n",
       "  } else {\n",
       "    var attempts = 0;\n",
       "    var timer = setInterval(function(root) {\n",
       "      if (root.Bokeh !== undefined) {\n",
       "        embed_document(root);\n",
       "        clearInterval(timer);\n",
       "      }\n",
       "      attempts++;\n",
       "      if (attempts > 100) {\n",
       "        console.log(\"Bokeh: ERROR: Unable to run BokehJS code because BokehJS library is missing\");\n",
       "        clearInterval(timer);\n",
       "      }\n",
       "    }, 10, root)\n",
       "  }\n",
       "})(window);"
      ],
      "application/vnd.bokehjs_exec.v0+json": ""
     },
     "metadata": {
      "application/vnd.bokehjs_exec.v0+json": {
       "id": "16290"
      }
     },
     "output_type": "display_data"
    }
   ],
   "source": [
    "dh, dw = nmat.T.shape\n",
    "fig = figure(y_range=(0, dh), x_range=(0, dw))\n",
    "fig.image(image=[nmat.T], x=0, y=0, dh=dh, dw=dw, palette='Viridis256')\n",
    "\n",
    "ticks = list(range(len(sphones)))\n",
    "labels = {i: phone for i, phone in enumerate(sphones)}\n",
    "fig.xaxis.ticker = ticks\n",
    "fig.xaxis.major_label_overrides = labels\n",
    "\n",
    "show(fig)"
   ]
  },
  {
   "cell_type": "code",
   "execution_count": 86,
   "metadata": {},
   "outputs": [
    {
     "ename": "UnpicklingError",
     "evalue": "unpickling stack underflow",
     "output_type": "error",
     "traceback": [
      "\u001b[0;31m---------------------------------------------------------------------------\u001b[0m",
      "\u001b[0;31mUnpicklingError\u001b[0m                           Traceback (most recent call last)",
      "\u001b[0;32m<ipython-input-86-2ee118f0d418>\u001b[0m in \u001b[0;36m<module>\u001b[0;34m\u001b[0m\n\u001b[1;32m      1\u001b[0m \u001b[0;32mwith\u001b[0m \u001b[0mopen\u001b[0m\u001b[0;34m(\u001b[0m\u001b[0;34m'exp/timit/aud_mfcc_4g_gamma_dirichlet_process/decode_perframe/train/score/au_phone_counts.yml'\u001b[0m\u001b[0;34m,\u001b[0m \u001b[0;34m'rb'\u001b[0m\u001b[0;34m)\u001b[0m \u001b[0;32mas\u001b[0m \u001b[0mf\u001b[0m\u001b[0;34m:\u001b[0m\u001b[0;34m\u001b[0m\u001b[0;34m\u001b[0m\u001b[0m\n\u001b[0;32m----> 2\u001b[0;31m     \u001b[0mmodel\u001b[0m \u001b[0;34m=\u001b[0m \u001b[0mpickle\u001b[0m\u001b[0;34m.\u001b[0m\u001b[0mload\u001b[0m\u001b[0;34m(\u001b[0m\u001b[0mf\u001b[0m\u001b[0;34m)\u001b[0m\u001b[0;34m\u001b[0m\u001b[0;34m\u001b[0m\u001b[0m\n\u001b[0m\u001b[1;32m      3\u001b[0m \u001b[0mmodel\u001b[0m\u001b[0;34m.\u001b[0m\u001b[0mcategorical\u001b[0m\u001b[0;34m\u001b[0m\u001b[0;34m\u001b[0m\u001b[0m\n",
      "\u001b[0;31mUnpicklingError\u001b[0m: unpickling stack underflow"
     ]
    }
   ],
   "source": [
    "with open('exp/timit/aud_mfcc_4g_gamma_dirichlet_process/decode_perframe/train/score/au_phone_counts.yml', 'rb') as f:\n",
    "    model = pickle.load(f)\n",
    "model.categorical"
   ]
  },
  {
   "cell_type": "code",
   "execution_count": 84,
   "metadata": {},
   "outputs": [
    {
     "ename": "AttributeError",
     "evalue": "'SBCategorical' object has no attribute 'concentration'",
     "output_type": "error",
     "traceback": [
      "\u001b[0;31m---------------------------------------------------------------------------\u001b[0m",
      "\u001b[0;31mAttributeError\u001b[0m                            Traceback (most recent call last)",
      "\u001b[0;32m<ipython-input-84-dc91f4d90108>\u001b[0m in \u001b[0;36m<module>\u001b[0;34m\u001b[0m\n\u001b[0;32m----> 1\u001b[0;31m \u001b[0mmodel\u001b[0m\u001b[0;34m.\u001b[0m\u001b[0mcategorical\u001b[0m\u001b[0;34m.\u001b[0m\u001b[0mconcentration\u001b[0m\u001b[0;34m.\u001b[0m\u001b[0mprior\u001b[0m\u001b[0;34m.\u001b[0m\u001b[0mexpected_value\u001b[0m\u001b[0;34m(\u001b[0m\u001b[0;34m)\u001b[0m\u001b[0;34m\u001b[0m\u001b[0;34m\u001b[0m\u001b[0m\n\u001b[0m",
      "\u001b[0;32m/mnt/matylda5/iondel/anaconda3/envs/beer/lib/python3.7/site-packages/torch/nn/modules/module.py\u001b[0m in \u001b[0;36m__getattr__\u001b[0;34m(self, name)\u001b[0m\n\u001b[1;32m    533\u001b[0m                 \u001b[0;32mreturn\u001b[0m \u001b[0mmodules\u001b[0m\u001b[0;34m[\u001b[0m\u001b[0mname\u001b[0m\u001b[0;34m]\u001b[0m\u001b[0;34m\u001b[0m\u001b[0;34m\u001b[0m\u001b[0m\n\u001b[1;32m    534\u001b[0m         raise AttributeError(\"'{}' object has no attribute '{}'\".format(\n\u001b[0;32m--> 535\u001b[0;31m             type(self).__name__, name))\n\u001b[0m\u001b[1;32m    536\u001b[0m \u001b[0;34m\u001b[0m\u001b[0m\n\u001b[1;32m    537\u001b[0m     \u001b[0;32mdef\u001b[0m \u001b[0m__setattr__\u001b[0m\u001b[0;34m(\u001b[0m\u001b[0mself\u001b[0m\u001b[0;34m,\u001b[0m \u001b[0mname\u001b[0m\u001b[0;34m,\u001b[0m \u001b[0mvalue\u001b[0m\u001b[0;34m)\u001b[0m\u001b[0;34m:\u001b[0m\u001b[0;34m\u001b[0m\u001b[0;34m\u001b[0m\u001b[0m\n",
      "\u001b[0;31mAttributeError\u001b[0m: 'SBCategorical' object has no attribute 'concentration'"
     ]
    }
   ],
   "source": [
    "model.categorical.concentration.prior.expected_value()"
   ]
  },
  {
   "cell_type": "code",
   "execution_count": 176,
   "metadata": {},
   "outputs": [
    {
     "name": "stdout",
     "output_type": "stream",
     "text": [
      "101\n"
     ]
    },
    {
     "data": {
      "text/html": [
       "\n",
       "\n",
       "\n",
       "\n",
       "\n",
       "\n",
       "  <div class=\"bk-root\" id=\"ae0e2294-4d38-4051-b799-77948a5195aa\"></div>\n"
      ]
     },
     "metadata": {},
     "output_type": "display_data"
    },
    {
     "data": {
      "application/javascript": [
       "(function(root) {\n",
       "  function embed_document(root) {\n",
       "    \n",
       "  var docs_json = {\"fd6f95d9-f169-40c9-aab5-75a26658c59a\":{\"roots\":{\"references\":[{\"attributes\":{\"children\":[{\"id\":\"48845\",\"type\":\"ToolbarBox\"},{\"id\":\"48843\",\"type\":\"Column\"}]},\"id\":\"48846\",\"type\":\"Column\"},{\"attributes\":{\"tools\":[{\"id\":\"48749\",\"type\":\"PanTool\"},{\"id\":\"48750\",\"type\":\"WheelZoomTool\"},{\"id\":\"48751\",\"type\":\"BoxZoomTool\"},{\"id\":\"48752\",\"type\":\"SaveTool\"},{\"id\":\"48753\",\"type\":\"ResetTool\"},{\"id\":\"48754\",\"type\":\"HelpTool\"},{\"id\":\"48795\",\"type\":\"PanTool\"},{\"id\":\"48796\",\"type\":\"WheelZoomTool\"},{\"id\":\"48797\",\"type\":\"BoxZoomTool\"},{\"id\":\"48798\",\"type\":\"SaveTool\"},{\"id\":\"48799\",\"type\":\"ResetTool\"},{\"id\":\"48800\",\"type\":\"HelpTool\"}]},\"id\":\"48844\",\"type\":\"ProxyToolbar\"},{\"attributes\":{\"formatter\":{\"id\":\"48832\",\"type\":\"BasicTickFormatter\"},\"plot\":{\"id\":\"48775\",\"subtype\":\"Figure\",\"type\":\"Plot\"},\"ticker\":{\"id\":\"48786\",\"type\":\"BasicTicker\"}},\"id\":\"48785\",\"type\":\"LinearAxis\"},{\"attributes\":{\"toolbar\":{\"id\":\"48844\",\"type\":\"ProxyToolbar\"},\"toolbar_location\":\"above\"},\"id\":\"48845\",\"type\":\"ToolbarBox\"},{\"attributes\":{},\"id\":\"48786\",\"type\":\"BasicTicker\"},{\"attributes\":{\"plot\":{\"id\":\"48775\",\"subtype\":\"Figure\",\"type\":\"Plot\"},\"ticker\":{\"id\":\"48786\",\"type\":\"BasicTicker\"}},\"id\":\"48789\",\"type\":\"Grid\"},{\"attributes\":{\"formatter\":{\"id\":\"48834\",\"type\":\"BasicTickFormatter\"},\"plot\":{\"id\":\"48775\",\"subtype\":\"Figure\",\"type\":\"Plot\"},\"ticker\":{\"id\":\"48791\",\"type\":\"BasicTicker\"}},\"id\":\"48790\",\"type\":\"LinearAxis\"},{\"attributes\":{},\"id\":\"48791\",\"type\":\"BasicTicker\"},{\"attributes\":{\"dimension\":1,\"plot\":{\"id\":\"48775\",\"subtype\":\"Figure\",\"type\":\"Plot\"},\"ticker\":{\"id\":\"48791\",\"type\":\"BasicTicker\"}},\"id\":\"48794\",\"type\":\"Grid\"},{\"attributes\":{\"line_alpha\":0.1,\"line_color\":\"#1f77b4\",\"x\":{\"field\":\"x\"},\"y\":{\"field\":\"y\"}},\"id\":\"48812\",\"type\":\"Line\"},{\"attributes\":{\"data_source\":{\"id\":\"48810\",\"type\":\"ColumnDataSource\"},\"glyph\":{\"id\":\"48811\",\"type\":\"Line\"},\"hover_glyph\":null,\"muted_glyph\":null,\"nonselection_glyph\":{\"id\":\"48812\",\"type\":\"Line\"},\"selection_glyph\":null,\"view\":{\"id\":\"48814\",\"type\":\"CDSView\"}},\"id\":\"48813\",\"type\":\"GlyphRenderer\"},{\"attributes\":{},\"id\":\"48795\",\"type\":\"PanTool\"},{\"attributes\":{},\"id\":\"48796\",\"type\":\"WheelZoomTool\"},{\"attributes\":{\"dimension\":1,\"plot\":{\"id\":\"48729\",\"subtype\":\"Figure\",\"type\":\"Plot\"},\"ticker\":{\"id\":\"48745\",\"type\":\"BasicTicker\"}},\"id\":\"48748\",\"type\":\"Grid\"},{\"attributes\":{\"overlay\":{\"id\":\"48803\",\"type\":\"BoxAnnotation\"}},\"id\":\"48797\",\"type\":\"BoxZoomTool\"},{\"attributes\":{},\"id\":\"48798\",\"type\":\"SaveTool\"},{\"attributes\":{},\"id\":\"48745\",\"type\":\"BasicTicker\"},{\"attributes\":{\"source\":{\"id\":\"48764\",\"type\":\"ColumnDataSource\"}},\"id\":\"48768\",\"type\":\"CDSView\"},{\"attributes\":{},\"id\":\"48799\",\"type\":\"ResetTool\"},{\"attributes\":{},\"id\":\"48800\",\"type\":\"HelpTool\"},{\"attributes\":{\"plot\":null,\"text\":\"Mixing weights\"},\"id\":\"48728\",\"type\":\"Title\"},{\"attributes\":{\"data_source\":{\"id\":\"48764\",\"type\":\"ColumnDataSource\"},\"glyph\":{\"id\":\"48765\",\"type\":\"Line\"},\"hover_glyph\":null,\"muted_glyph\":null,\"nonselection_glyph\":{\"id\":\"48766\",\"type\":\"Line\"},\"selection_glyph\":null,\"view\":{\"id\":\"48768\",\"type\":\"CDSView\"}},\"id\":\"48767\",\"type\":\"GlyphRenderer\"},{\"attributes\":{\"active_drag\":\"auto\",\"active_inspect\":\"auto\",\"active_multi\":null,\"active_scroll\":\"auto\",\"active_tap\":\"auto\",\"tools\":[{\"id\":\"48795\",\"type\":\"PanTool\"},{\"id\":\"48796\",\"type\":\"WheelZoomTool\"},{\"id\":\"48797\",\"type\":\"BoxZoomTool\"},{\"id\":\"48798\",\"type\":\"SaveTool\"},{\"id\":\"48799\",\"type\":\"ResetTool\"},{\"id\":\"48800\",\"type\":\"HelpTool\"}]},\"id\":\"48801\",\"type\":\"Toolbar\"},{\"attributes\":{\"callback\":null},\"id\":\"48731\",\"type\":\"DataRange1d\"},{\"attributes\":{\"bottom_units\":\"screen\",\"fill_alpha\":{\"value\":0.5},\"fill_color\":{\"value\":\"lightgrey\"},\"left_units\":\"screen\",\"level\":\"overlay\",\"line_alpha\":{\"value\":1.0},\"line_color\":{\"value\":\"black\"},\"line_dash\":[4,4],\"line_width\":{\"value\":2},\"plot\":null,\"render_mode\":\"css\",\"right_units\":\"screen\",\"top_units\":\"screen\"},\"id\":\"48803\",\"type\":\"BoxAnnotation\"},{\"attributes\":{\"callback\":null},\"id\":\"48733\",\"type\":\"DataRange1d\"},{\"attributes\":{\"source\":{\"id\":\"48810\",\"type\":\"ColumnDataSource\"}},\"id\":\"48814\",\"type\":\"CDSView\"},{\"attributes\":{},\"id\":\"48735\",\"type\":\"LinearScale\"},{\"attributes\":{\"children\":[{\"id\":\"48729\",\"subtype\":\"Figure\",\"type\":\"Plot\"},{\"id\":\"48775\",\"subtype\":\"Figure\",\"type\":\"Plot\"}]},\"id\":\"48842\",\"type\":\"Row\"},{\"attributes\":{},\"id\":\"48737\",\"type\":\"LinearScale\"},{\"attributes\":{\"children\":[{\"id\":\"48842\",\"type\":\"Row\"}]},\"id\":\"48843\",\"type\":\"Column\"},{\"attributes\":{\"formatter\":{\"id\":\"48821\",\"type\":\"BasicTickFormatter\"},\"plot\":{\"id\":\"48729\",\"subtype\":\"Figure\",\"type\":\"Plot\"},\"ticker\":{\"id\":\"48740\",\"type\":\"BasicTicker\"}},\"id\":\"48739\",\"type\":\"LinearAxis\"},{\"attributes\":{\"line_color\":\"green\",\"x\":{\"field\":\"x\"},\"y\":{\"field\":\"y\"}},\"id\":\"48816\",\"type\":\"Line\"},{\"attributes\":{},\"id\":\"48740\",\"type\":\"BasicTicker\"},{\"attributes\":{\"line_alpha\":0.1,\"line_color\":\"#1f77b4\",\"x\":{\"field\":\"x\"},\"y\":{\"field\":\"y\"}},\"id\":\"48817\",\"type\":\"Line\"},{\"attributes\":{\"plot\":{\"id\":\"48729\",\"subtype\":\"Figure\",\"type\":\"Plot\"},\"ticker\":{\"id\":\"48740\",\"type\":\"BasicTicker\"},\"visible\":false},\"id\":\"48743\",\"type\":\"Grid\"},{\"attributes\":{\"data_source\":{\"id\":\"48815\",\"type\":\"ColumnDataSource\"},\"glyph\":{\"id\":\"48816\",\"type\":\"Line\"},\"hover_glyph\":null,\"muted_glyph\":null,\"nonselection_glyph\":{\"id\":\"48817\",\"type\":\"Line\"},\"selection_glyph\":null,\"view\":{\"id\":\"48819\",\"type\":\"CDSView\"}},\"id\":\"48818\",\"type\":\"GlyphRenderer\"},{\"attributes\":{\"formatter\":{\"id\":\"48823\",\"type\":\"BasicTickFormatter\"},\"plot\":{\"id\":\"48729\",\"subtype\":\"Figure\",\"type\":\"Plot\"},\"ticker\":{\"id\":\"48745\",\"type\":\"BasicTicker\"}},\"id\":\"48744\",\"type\":\"LinearAxis\"},{\"attributes\":{\"source\":{\"id\":\"48815\",\"type\":\"ColumnDataSource\"}},\"id\":\"48819\",\"type\":\"CDSView\"},{\"attributes\":{\"bottom_units\":\"screen\",\"fill_alpha\":{\"value\":0.5},\"fill_color\":{\"value\":\"lightgrey\"},\"left_units\":\"screen\",\"level\":\"overlay\",\"line_alpha\":{\"value\":1.0},\"line_color\":{\"value\":\"black\"},\"line_dash\":[4,4],\"line_width\":{\"value\":2},\"plot\":null,\"render_mode\":\"css\",\"right_units\":\"screen\",\"top_units\":\"screen\"},\"id\":\"48757\",\"type\":\"BoxAnnotation\"},{\"attributes\":{},\"id\":\"48821\",\"type\":\"BasicTickFormatter\"},{\"attributes\":{\"callback\":null,\"data\":{\"x\":[0,1,2,3,4,5,6,7,8,9,10,11,12,13,14,15,16,17,18,19,20,21,22,23,24,25,26,27,28,29,30,31,32,33,34,35,36,37,38,39,40,41,42,43,44,45,46,47,48,49,50,51,52,53,54,55,56,57,58,59,60,61,62,63,64,65,66,67,68,69,70,71,72,73,74,75,76,77,78,79,80,81,82,83,84,85,86,87,88,89,90,91,92,93,94,95,96,97,98,99,100],\"y\":{\"__ndarray__\":\"PYyigACFuj8Z7SC8UC+xP1mrKZNENqw/rG42kgwgrD+aI8vxZoyoP6Eq7h/VYKU/rVrv5fAApT8Y/YUex8miP7XEsUbuw6I/T7gqTNMIoj8tidWHvFShP+Zm3T7D0aA/HLFufBxKoD+Gi/hvoOudP9ydXfXbpJc/Fqw88wA4lj/PiUSqB7WVP2RW0LyR8JQ/Ao8P1WuxlD8DcTa10T6UP0Ine/h6PJQ/l1ub5/Xskz9pe8wKmjeSP+3waWStyZE/R0x3RoODkT9DB7EzjgeRP/3ubSMyUI4/UiOOEq0Ajj+SuQiRacmKPyD6Ftm2SoY/VkSoFhDDhT+RszWicYKCP2RU3xc/LoI/BjOT0EqXgD9N/KAfUvd9P8+NJvSsOXs/efZm0qKaej/wNTB3okVyPxasPPMAOGY/AAAAAAAAAAAAAAAAAAAAAAAAAAAAAAAAAAAAAAAAAAAAAAAAAAAAAAAAAAAAAAAAAAAAAAAAAAAAAAAAAAAAAAAAAAAAAAAAAAAAAAAAAAAAAAAAAAAAAAAAAAAAAAAAAAAAAAAAAAAAAAAAAAAAAAAAAAAAAAAAAAAAAAAAAAAAAAAAAAAAAAAAAAAAAAAAAAAAAAAAAAAAAAAAAAAAAAAAAAAAAAAAAAAAAAAAAAAAAAAAAAAAAAAAAAAAAAAAAAAAAAAAAAAAAAAAAAAAAAAAAAAAAAAAAAAAAAAAAAAAAAAAAAAAAAAAAAAAAAAAAAAAAAAAAAAAAAAAAAAAAAAAAAAAAAAAAAAAAAAAAAAAAAAAAAAAAAAAAAAAAAAAAAAAAAAAAAAAAAAAAAAAAAAAAAAAAAAAAAAAAAAAAAAAAAAAAAAAAAAAAAAAAAAAAAAAAAAAAAAAAAAAAAAAAAAAAAAAAAAAAAAAAAAAAAAAAAAAAAAAAAAAAAAAAAAAAAAAAAAAAAAAAAAAAAAAAAAAAAAAAAAAAAAAAAAAAAAAAAAAAAAAAAAAAAAAAAAAAAAAAAAAAAAAAAAAAAAAAAAAAAAAAAAAAAAAAAAAAAAAAAAAAAAAAAAAAAAAAAAAAAAAAAAAAAAAAAAAAAAAAA==\",\"dtype\":\"float64\",\"shape\":[101]}},\"selected\":{\"id\":\"48826\",\"type\":\"Selection\"},\"selection_policy\":{\"id\":\"48825\",\"type\":\"UnionRenderers\"}},\"id\":\"48764\",\"type\":\"ColumnDataSource\"},{\"attributes\":{\"line_color\":\"blue\",\"x\":{\"field\":\"x\"},\"y\":{\"field\":\"y\"}},\"id\":\"48811\",\"type\":\"Line\"},{\"attributes\":{},\"id\":\"48823\",\"type\":\"BasicTickFormatter\"},{\"attributes\":{\"line_color\":\"#1f77b4\",\"line_width\":2,\"x\":{\"field\":\"x\"},\"y\":{\"field\":\"y\"}},\"id\":\"48770\",\"type\":\"Line\"},{\"attributes\":{\"line_dash\":[6],\"line_width\":2,\"x\":{\"field\":\"x\"},\"y\":{\"field\":\"y\"}},\"id\":\"48765\",\"type\":\"Line\"},{\"attributes\":{},\"id\":\"48825\",\"type\":\"UnionRenderers\"},{\"attributes\":{\"line_alpha\":0.1,\"line_color\":\"#1f77b4\",\"line_width\":2,\"x\":{\"field\":\"x\"},\"y\":{\"field\":\"y\"}},\"id\":\"48771\",\"type\":\"Line\"},{\"attributes\":{},\"id\":\"48826\",\"type\":\"Selection\"},{\"attributes\":{\"data_source\":{\"id\":\"48769\",\"type\":\"ColumnDataSource\"},\"glyph\":{\"id\":\"48770\",\"type\":\"Line\"},\"hover_glyph\":null,\"muted_glyph\":null,\"nonselection_glyph\":{\"id\":\"48771\",\"type\":\"Line\"},\"selection_glyph\":null,\"view\":{\"id\":\"48773\",\"type\":\"CDSView\"}},\"id\":\"48772\",\"type\":\"GlyphRenderer\"},{\"attributes\":{},\"id\":\"48754\",\"type\":\"HelpTool\"},{\"attributes\":{},\"id\":\"48827\",\"type\":\"UnionRenderers\"},{\"attributes\":{\"source\":{\"id\":\"48769\",\"type\":\"ColumnDataSource\"}},\"id\":\"48773\",\"type\":\"CDSView\"},{\"attributes\":{},\"id\":\"48828\",\"type\":\"Selection\"},{\"attributes\":{\"below\":[{\"id\":\"48785\",\"type\":\"LinearAxis\"}],\"left\":[{\"id\":\"48790\",\"type\":\"LinearAxis\"}],\"plot_height\":400,\"plot_width\":400,\"renderers\":[{\"id\":\"48785\",\"type\":\"LinearAxis\"},{\"id\":\"48789\",\"type\":\"Grid\"},{\"id\":\"48790\",\"type\":\"LinearAxis\"},{\"id\":\"48794\",\"type\":\"Grid\"},{\"id\":\"48803\",\"type\":\"BoxAnnotation\"},{\"id\":\"48813\",\"type\":\"GlyphRenderer\"},{\"id\":\"48818\",\"type\":\"GlyphRenderer\"}],\"title\":{\"id\":\"48774\",\"type\":\"Title\"},\"toolbar\":{\"id\":\"48801\",\"type\":\"Toolbar\"},\"toolbar_location\":null,\"x_range\":{\"id\":\"48777\",\"type\":\"DataRange1d\"},\"x_scale\":{\"id\":\"48781\",\"type\":\"LinearScale\"},\"y_range\":{\"id\":\"48779\",\"type\":\"DataRange1d\"},\"y_scale\":{\"id\":\"48783\",\"type\":\"LinearScale\"}},\"id\":\"48775\",\"subtype\":\"Figure\",\"type\":\"Plot\"},{\"attributes\":{},\"id\":\"48752\",\"type\":\"SaveTool\"},{\"attributes\":{},\"id\":\"48834\",\"type\":\"BasicTickFormatter\"},{\"attributes\":{\"callback\":null,\"data\":{\"x\":{\"__ndarray__\":\"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\",\"dtype\":\"float64\",\"shape\":[1000]},\"y\":{\"__ndarray__\":\"AAAAAAAAAAAAAAAAAAAAAAAAAAAAAAAAAAAAAAAAAAAAAAAAAAAAAAAAAAAAAAAAAAAAAAAAAAAAAAAAAAAAAAAAAAAAAAAAAAAAAAAAAAAAAAAAAAAAAAAAAAAAAAAAAAAAAAAAAAAAAAAAAAAAAAAAAAAAAAAAAAAAAAAAAAAAAAAAAAAAAAAAAAAAAAAAAAAAAAAAAAAAAAAAAAAAAAAAAAAAAAAAAAAAAAAAAAAAAAAAAAAAAAAAAAAAAAAAAAAAAAAAAAAAAAAAAAAAAAAAAAAAAAAAAAAAAAAAAAAAAAAAAAAAAAAAAAAAAAAAAAAAAAAAAAAAAAAAAAAAAAAAAAAAAAAAAAAAAAAAAAAAAAAAAAAAAAAAAAAAAAAAAAAAAAAAAAAAAAAAAAAAAAAAAAAAAAAAAAAAAAAAAAAAAAAAAAAAAAAAAAAAAAAAAAAAAAAAAAAAAAAAAAAAAAAAAAAAAAAAAAAAAAAAAAAAAAAAAAAAAAAAAAAAAAAAAAAAAAAAAAAAAAAAAAAAAAAAAAAAAAAAAAAAAAAAAAAAAAAAAAAAAAAAAAAAAAAAAAAAAAAAAAAAAAAAAAAAAAAAAAAAAAAAAAAAAAAAAAAAAAAAAAAAAAAAAAAAAAAAAAAAAAAAAAAAAAAAAAAAAAAAAAAAAAAAAAAAAAAAAAAAAAAAAAAAAAAAAAAAAAAAAAAAAAAAAAAAAAAAAAAAAAAAAAAAAAAAAAAAAAAAAAAAAAAAAAAAAAAAAAAAAAAAAAAAAAAAAAAAAAAAAAAAAAAAAAAAAAAAAAAAAAAAAAAAAAAAAAAAAAAAAAAAAAAAAAAAAAAAAAAAAAAAAAAAAAAAAAAAAAAAAAAAAAAAAAAAAAAAAAAAAAAAAAAAAAAAAAAAAAAAAAAAAAAAAAAAAAAAAAAAAAAAAAAAAAAAAAAAAAAAAAAAAAAAAAAAAAAAAAAAAAAAAAAAAAAAAAAAAAAAAAAAAAAAAAAAAAAAAAAAAAAAAAAAAAAAAAAAAAAAAAAAAAAAAAAAAAAAAAAAAAAAAAAAAAAAAAAAAAAAAAAAAAAAAAAAAAAAAAAAAAAAAAAAAAAAAAAAAAAAAAAAAAAAAAAAAAAAAAAAAAAAAAAAAAAAAAAAAAAAAAAAAAAAAAAAAAAAAAAAAAAAAAAAAAAAAAAAAAAAAAAAAAAAAAAAAAAAAAAAAAAAAAAAAAAAAAAAAAAAAAAAAAAAAAAAAAAAAAAAAAAAAAAAAAAAAAAAAAAAAAAAAAAAAAAAAAAAAAAAAAAAAAAAAAAAAAAAAAAAAAAAAAAAAAAAAAAAAAAAAAAAAAAAAAAAAAAAAAAAAAAAAAAAAAAAAAAAAAAAAAAAAAAAAAAAAAAAAAAAAAAAAAAAAAAAAAAAAAAAAAAAAAAAAAAAAAAAAAAAAAAAAAAAAAAAAAAAAAAAAAAAAAAAAAAAAAAAAAAAAAAAAAAAAAAAAAAAAAAAAAAAAAAAAAAAAAAAAAAAAAAAAAAAAAAAAAAAAAAAAAAAAAAAAAAAAAAAAAAAAAAAAAAAAAAAAAAAAAAAAAAAAAAAAAAAAAAAAAAAAAAAAAAAAAAAAAAAAAAAAAAAAAAAAAAAAAAAAAAAAAAAAAAAAAAAAAAAAAAAAAAAAAAAAAAAAAAAAAAAAAAAAAAAAAAAAAAAAAAAAAAAAAAAAAAAAAAAAAAAAAAAAAAAAAAAAAAAAAAAAAAAAAAAAAAAAAAAAAAAAAAAAAAAAAAAAAAAAAAAAAAAAAAAAAAAAAAAAAAAAAAAAAAAAAAAAAAAAAAAAAAAAAAAAAAAAAAAAAAAAAAAAAAAAAAAAAAAAAAAAAAAAAAAAAAAAAAAAAAAAAAAAAAAAAAAAAAAAAAAAAAAAAAAAAAAAAAAAAAAAAAAAAAAAAAAAAAAAAAAAAAAAAAAAAAAAAAAAAAAAAAAAAAAAAAAAAAAAAAAAAAAAAAAAAAAAAAAAAAAAAAAAAAAAAAAAAAAAAAAAAAAAAAAAAAAAAAAAAAAAAAAAAAAAAAAAAAAAAAAAAAAAAAAAAAAAAAAAAAAAAAAAAAAAAAAAAAAAAAAAAAAAAAAAAAAAAAAAAAAAAAAAAAAAAAAAAAAAAAAAAAAAAAAAAAAAAAAAAAAAAAAAAAAAAAAAAAAAAAAAAAAAAAAAAAAAAAAAAAAAAAAAAAAAAAAAAAAAAAAAAAAAAAAAAAAAAAAAAAAAAAAAAAAAAAAAAAAZzomEAAAAAAa1iAbFJNuAQlbtLfPoTsEMzhHoEnk9wa6erkF7M2jCXfdUOiLij8MsGo5FLItyA7vfeFe5+BBETwCIJFtjqkTMbYvVeCwARYt3uwVBsVHGJXOmNGKDn8aNT/8yfTEoxwzusDpo5K4HmZHvvQu4b0g+q8l7n3OsSJhF+jyJNiUJNh0a37iAmgmSP6+colFKyjYVCcMkJneKbL0j7EC/oArF4mEnSm3Ei27Qhhsa3uULjbCKn+zUAYwhnZiXvM/aDF1Ubp1hlW6Ms3BrKnIofwz/lokqf45LzUSJEaH3BxRNlifQB524mI3r2EMUIkFZTjiIkZc7qVXOaBeb7se7zo6F2UQLI8dDzvDjhgydkPSO7BYHEl+04U8BupmIhCaKj1Lfy/dJZDAPd7uPd9mHEU+G2rkTyiXuz7ImuLBGoUiP6iUy2iylXk/LOTFYbg3wj9KFMBop8r6P9PzpcBDYSRAtbwTtsMQQEBkt/rjSUtKQAXQJBhZYEZABjsuNy3WM0Cnn30Fp1kSQCA14yd7vuE/Yld7fz33oT/HUnWGQRRTPxBDzWmdSfU+5cMl/CH/iD7cAiKnQvEOPkPv/vYMOYQ9XBlmVKP16zxOXD7IP3pEPM2K6DcC1Y87ETfVy6lMyjr9TDC6hiL3OT4nKtMqtBU51q+mRQDAJTjeet7+IFInN6vNHMsZzBo2FifwAquGADVLdgA1KurVM57g4UEkS58yTd+EsSoZWDGgnk2LCwwEMA8aTeRBC6IurTGMhp+ZMS0uypRTAqKyK6l+pb+hcSUqC0F72KLeiih7I6EYXlviJkqA4QWxZCsl7/HHLUtbZiPskCNECf2TIfwfWMCMm7Mf3j7GRJgixR16DDfbQBLJG2YbPL21Y8AZ5rBCRCGnpxdjtJjLJ96CFQxq0c/BqVATgQ5b/RZREBH/ksAM5b3BDnkGyG7yc2UMqHJl97Tj/AneAXHp9bGFB10EpDijMgIFzAz1WfsScQK9jpcZIB8BACoAAAAAAAAAAAAAAAAAAAAAAAAAAAAAAAAAAAAAAAAAAAAAAAAAAAAAAAAAAAAAAAAAAAAAAAAAAAAAAAAAAAAAAAAAAAAAAAAAAAAAAAAAAAAAAAAAAAAAAAAAAAAAAAAAAAAAAAAAAAAAAAAAAAAAAAAAAAAAAAAAAAAAAAAAAAAAAAAAAAAAAAAAAAAAAAAAAAAAAAAAAAAAAAAAAAAAAAAAAAAAAAAAAAAAAAAAAAAAAAAAAAAAAAAAAAAAAAAAAAAAAAAAAAAAAAAAAAAAAAAAAAAAAAAAAAAAAAAAAAAAAAAAAAAAAAAAAAAAAAAAAAAAAAAAAAAAAAAAAAAAAAAAAAAAAAAAAAAAAAAAAAAAAAAAAAAAAAAAAAAAAAAAAAAAAAAAAAAAAAAAAAAAAAAAAAAAAAAAAAAAAAAAAAAAAAAAAAAAAAAAAAAAAAAAAAAAAAAAAAAAAAAAAAAAAAAAAAAAAAAAAAAAAAAAAAAAAAAAAAAAAAAAAAAAAAAAAAAAAAAAAAAAAAAAAAAAAAAAAAAAAAAAAAAAAAAAAAAAAAAAAAAAAAAAAAAAAAAAAAAAAAAAAAAAAAAAAAAAAAAAAAAAAAAAAAAAAAAAAAAAAAAAAAAAAAAAAAAAAAAAAAAAAAAAAAAAAAAAAAAAAAAAAAAAAAAAAAAAAAAAAAAAAAAAAAAAAAAAAAAAAAAAAAAAAAAAAAAAAAAAAAAAAAAAAAAAAAAAAAAAAAAAAAAAAAAAAAAAAAAAAAAAAAAAAAAAAAAAAAAAAAAAAAAAAAAAAAAAAAAAAAAAAAAAAAAAAAAAAAAAAAAAAAAAAAAAAAAAAAAAAAAAAAAAAAAAAAAAAAAAAAAAAAAAAAAAAAAAAAAAAAAAAAAAAAAAAAAAAAAAAAAAAAAAAAAAAAAAAAAAAAAAAAAAAAAAAAAAAAAAAAAAAAAAAAAAAAAAAAAAAAAAAAAAAAAAAAAAAAAAAAAAAAAAAAAAAAAAAAAAAAAAAAAAAAAAAAAAAAAAAAAAAAAAAAAAAAAAAAAAAAAAAAAAAAAAAAAAAAAAAAAAAAAAAAAAAAAAAAAAAAAAAAAAAAAAAAAAAAAAAAAAAAAAAAAAAAAAAAAAAAAAAAAAAAAAAAAAAAAAAAAAAAAAAAAAAAAAAAAAAAAAAAAAAAAAAAAAAAAAAAAAAAAAAAAAAAAAAAAAAAAAAAAAAAAAAAAAAAAAAAAAAAAAAAAAAAAAAAAAAAAAAAAAAAAAAAAAAAAAAAAAAAAAAAAAAAAAAAAAAAAAAAAAAAAAAAAAAAAAAAAAAAAAAAAAAAAAAAAAAAAAAAAAAAAAAAAAAAAAAAAAAAAAAAAAAAAAAAAAAAAAAAAAAAAAAAAAAAAAAAAAAAAAAAAAAAAAAAAAAAAAAAAAAAAAAAAAAAAAAAAAAAAAAAAAAAAAAAAAAAAAAAAAAAAAAAAAAAAAAAAAAAAAAAAAAAAAAAAAAAAAAAAAAAAAAAAAAAAAAAAAAAAAAAAAAAAAAAAAAAAAAAAAAAAAAAAAAAAAAAAAAAAAAAAAAAAAAAAAAAAAAAAAAAAAAAAAAAAAAAAAAAAAAAAAAAAAAAAAAAAAAAAAAAAAAAAAAAAAAAAAAAAAAAAAAAAAAAAAAAAAAAAAAAAAAAAAAAAAAAAAAAAAAAAAAAAAAAAAAAAAAAAAAAAAAAAAAAAAAAAAAAAAAAAAAAAAAAAAAAAAAAAAAAAAAAAAAAAAAAAAAAAAAAAAAAAAAAAAAAAAAAAAAAAAAAAAAAAAAAAAAAAAAAAAAAAAAAAAAAAAAAAAAAAAAAAAAAAAAAAAAAAAAAAAAAAAAAAAAAAAAAAAAAAAAAAAAAAAAAAAAAAAAAAAAAAAAAAAAAAAAAAAAAAAAAAAAAAAAAAAAAAAAAAAAAAAAAAAAAAAAAAAAAAAAAAAAAAAAAAAAAAAAAAAAAAAAAAAAAAAAAAAAAAAAAAAAAAAAAAAAAAAAAAAAAAAAAAAAAAAAAAAAAAAAAAAAAAAAAAAAAAAAAAAAAAAAAAAAAAAAAAAAAAAAAAAAAAAAAAAAAAAAAAAAAAAAAAAAAAAAAAAAAAAAAAAAAAAAAAAAAAAAAAAAAAAAAAAAAAAAAAAAAAAAAAAAAAAAAAAAAAAAAAAAAAAAAAAAAAAAAAAAAAAAAAAAAAAAAAAAAAAAAAAAAAAAAAAAAAAAAAAAAAAAAAAAAAAAAAAAAAAAAAAAAAAAAAAAAAAAAAAAAAAAAAAAAAAAAAAAAAAAAAAAAAAAAAAAAAAAAAAAAAAAAAAAAAAAAAAAAAAAAAAAAAAAAAAAAAAAAAAAAAAAAAAAAAAAAAAAAAAAAAAAAAAAAAAAAAAAAAAAAAAAAAAAAAAAAAAAAAAAAAAAAAAAAAAAAAAAAAAAAAAAAAAAAAAAAAAAAAAAAAAAAAAAAAAAAAAAAAAAAAAAAAAAAAAAAAAAAAAAAAAAAAAAAAAAAAAAAAAAAAAAAAAAAAAAAAAAAAAAAAAAAAAAAAAAAAAAAAAAAAAAAAAAAAAAAAAAAAAAAAAAAAAAAAAAAAAAAAAAAAAAAAAAAAAAAAAAAAAAAAAAAAAAAAAAAAAAAAAAAAAAAAAAAAAAAAAAAAAAAAAAAAAAAAAAAAAAAAAAAAAAAAAAAAAAAAAAAAAAAAAAAAAAAAAAAAAAAAAAAAAAAAAAAAAAAAAAAAAAAAAAAAAAAAAAAAAAAAAAAAAAAAAAAAAAAAAAAAAAAAAAAAAAAAAAAAAAAAAAAAAAAAAAAAAAAAAAAAAAAAAAAAAAAAAAAAAAAAAAAAAAAAAAAAAAAAAAAAAAAAAAAAAAAAAAAAAAAAAAAAAAAAAAAAAAAAAAAAAAAAAAAAAAAAAAAAAAAAAAAAAAAAAAAAAAAAAAAAAAAAAAAAAAAAAAAAAAAAAAAAAAAAAAAAAAAAAAAAAAAAAAAAAAAAAAAAAAAAAAAAAAAAAAAAAAAAAAAAAAAAAAAAAAAAAAAAAAAAAAAAAAAAAAAAAAAAAAAAAAAAAAAAAAAAAAAAAAAAAAAAAAAAAAAAAAAAAAAAAAAAAAAAAAAAAAAAAAAAAAAAAAAAAAAAAAAAAAAAAAAAAAAAAAAAAAAAAAAAAAAAAAAAAAAAAAAAAAAAAAAAAAAAAAAAAAAAAAAAAAAAAAAAAAAAAAAAAAAAAAAAAAAAAAAAAAAAAAAAAAAAAAAAAAAAAAAAAAAAAAAAAAAAAAAAAAAAAAAAAAAAAAAAAAAAAAAAAAAAAAAAAAAAAAAAAAAAAAAAAAAAAAAAAAAAAAAAAAAAAAAAAAAAAAAAAAAAAAAAAAAAAAAAAAAAAAAAAAAAAAAAAAAAAAAAAAAAAAAAAAAAAAAAAAAAAAAAAAAAAAAAAAAAAAAAAAAAAAAAAAAAAAAAAAAAAAAAAAAAAAAAAAAAAAAAAAAAAAAAAAAAAAAAAAAAAAAAAAAAAAAAAAAAAAAAAAAAAAAAAAAAAAAAAAAAAAAAAAAAAAAAAAAAAAAAAAAAAAAAAAAAAAAAAAAAAAAAAAAAAAAAAAAAAAAAAAAAAAAAAAAAAAAAAAAAAAAAAAAAAAAAAAAAAAAAAAAAAAAAAAAAAAAAAAAAAAAAAAAAAAAAAAAAAAAAAAAAAAAAAAAAAAAAAAAAAAAAAAAAAAAAAAAAAAAAAAAAAAAAAAAAAAAAAAAAAAAAAAAAAAAAAAAAAAAAAAAAAAAAAAAAAAAAAAAAAAAAAAAAAAAAAAAAAAAAAAAAAAAAAAAAAAAAAAAAAAAAAAAAAAAAAAAAAAAAAAAAAAAAAAAAAAAAAAAAAAAAAAAAAAAAAAAAAAAAAAAAAAAAAAAAAAAAAAAAAAAAAAAAAAAAAAAAAAAAAAAAAAAAAAAAAAAAAAAAAAAAAAAAAAAAAAAAAAAAAAAAAAAAAAAAAAAAAAAAAAAAAAAAAAAAAAAAAAAAAAAAAAAAAAAAAAAAAAAAAAAAAAAAAAAAAAAAAAAAAAAAAAAAAAAAAAAAAAAAAAAAAAAAAAAAAAAAAAAAAAAAAAAAAAAAAAAAAAAAAAAAAAAAAAAAAAAAAAAAAAAAAAAAAAAAAAAAAAAAAAAAAAAAAAAAAAAAAAAAAAAAAAAAAAAAAAAAAAAAAAAAAAAAAAAAAAAAAAAAAAAAAAAAAAAAAAAAAAAAAAAAAAAAAAAAAAAAAAAAAAAAAAAAAAAAAAAAAAAAAAAAAAAAAAAAAAAAAAAAAAAAAAAAAAAAAAAAAAAAAAAAAAAAAAAAAAAAAAAAAAAAAAAAAAAAAAAAAAAAAAAAAAAAAAAAAAAAAAAAAAAAAAAAAAAAAAAAAAAAAAAAAAAAAAAAAAAAAAAAAAAAAAAAAAAAAAAAAAAAAAAAAAAAAAAAAAAAAAAAAAAAAAAAAAAAAAAAAAAAAAAAAAAAAAAAAAAAAAAAAAAAAAAAAAAAAAAAAAAAAAAAAAAAAAAAAAAAAAAAAAAAAAAAAAAAAAAAAAAAAAAAAAAAAAAAAAAAAAAAAAAAAAAAAAAAAAAAAAAAAAAAAAAAAAAAAAAAAAAAAAAAAAAAAAAAAAAAAAAAAAAAAAAAAAAAAAAAAAAAAAAAAAAAAAAAAAAAAAAAAAAAAAAAAAAAAAAAAAAAAAAAAAAAAAAAAAAAAAAAAAAAAAAAAAAAAAAAAAAAAAAAAAAAAAAAAAAAAAAAAAAAAAAAAAAAAAAAAAAAAAAAAAAAAAAAAAAAAAAAAAAAAAAAAAAAAAAAAAAAAAAAAAAAAAAAAAAAAAAAAAAAAAAAAAAAAAAAAAAAAAAAAAAAAAAAAAAAAAAAAAAAAAAAAAAAAAAAAAAAAAAAAAAAAAAAAAAAAAAAAAAAAAAAAAAAAAAAAAAAAAAAAAAAAAAAAAAAAAAAAAAAAAAAAAAAAAAAAAAAAAAAAAAAAAAAAAAAAAAAAAAAAAAAAAAAAAAAAAAAAAAAAAAAAAAAAAAAAAAAAAAAAAAAAAAAAAAAAAAAAAAAAAAAAAAAAAAAAAAAAAAAAAAAAAAAAAAAAAAAAAAAAAAAAAAAAAAAAAAAAAAAAAAAAAAAAAAAAAAAAAAAAAAAAAAAAAAAAAAAAAAAAAAAAAAAAAAAAAAAAAAAAAAAAAAAAAAAAAAAAAAAAAAAAAAAAAAAAAAAAAAAAAAAAAAAAAAAAAAAAAAAAAAAAAAAAAAAAAAAAAAAAAAAAAAAAAAAAAAAAAAAAAAAAAAAAAAAAAAAAAAAAAAAAAAAAAAAAAAAAAAAAAAAAAAAAAAAAAAAAAAAAAAAAAAAAAAAAAAAAAAAAAAAAAAAAAAAAAAAAAAAAAAAAAAAAAAAAAAAAAAAAAAAAAAAAAAAAAAAAAAAAAAAAAAAAAAAAAAAAAAAAAAAAAAAAAAAAAAAAAAAAAAAAAAAAAAAAAAAAAAAAAAAAAAAAAAAAAAAAAAAAAAAAAAAAAAAAAAAAAAAAAAAAAAAAAAAAAAAAAAAAAAAAAAAAAAAAAAAAAAAAAAAAAAAAAAAAAAAAAAAAAAAAAAAAAAAAAAAAAAAAAAAAAAAAAAAAAAAAAAAAAAAAAAAAAAAAAAAAAAAAAAAAAAAAAAAAAAAAAAAAAAAAAAAAAAAAAAAAAAAAAAAAAAAAAAAAAAAAAAAAAAAAAAAAAAAAAAAAAAAAAAAAAAAAAAAAAAAAAAAAAAAAAAAAAAAAAAAAAAAAAAAAAAAAAAAAAAAAAAAAAAAAAAAAAAAAAAAAAAAAAAAAAAAAAAAAAAAAAAAAAAAAAAAAAAAAAAAAAAAAAAAAAAAAAAAAAAAAAAAAAAAAAAAAAAAAAAAAAAAAAAAAAAAAAAAAAAAAAAAAAAAAAAAAAAAAAAAAAAAAAAAAAAAAAAAAAAAAAAAAAAAAAAAAAAAAAAAAAAAAAAAAAAAAAAAAAAAAAAAAAAAAAAAAAAAAAAAAAAAAAAAAAAAAAAAAAAAAAAAAAAAAAAAAAAAAAAAAAAAAAAAAAAAAAAAAAAAAAAAAAAAAAAAAAAAAAAAAAAAAAAAAAAAAAAAAAAAAAAAAAAAAAAAAAAAAAAAAAAAAAAAAAAAAAAAAAAAAAAAAAAAAAAAAAAAAAAAAAAAAAAAAAAAAAAAAAAAAAAAAAAAAAAAAAAAAAAAAAAAAAAAAAAAAAAAAAAAAAAAAAAAAAAAAAAAAAAAAAAAAAAAAAAAAAAAAAAAAAAAAAAAAAAAAAAAAAAAAAAAAAAAAAAAAAAAAAAAAAAAAAAAAAAAAAAAAAAAAAAAAAAAAAAAAAAAAAAAAAAAAAAAAAAAAAAAAAAAAAAAAAAAAAAAAAAAAAAAAAAAAAAAAAAAAAAAAAAAAAAAAAAAAAAAAAAAAAAAAAAAAAAAAAAAAAAAAAAAAAAAAAAAAAAAAAAAAAAAAAAAAAAAAAAAAAAAAAAAAAAAAAAAAAAAAAAAAAAAAAAAAAAAAAAAAAAAAAAAAAAAAAAAAAAAAAAAAAAAAAAAAAAAAAAAAAAAAAAAAAAAAAAAAAAAAAAAAAAAAAAAAAAAAAAAAAAAAAAAAAAAAAAAAAAAAAAAAAAAAAAAAAAAAAAAAAAAAAAAAAAAAAAAAAAAAAAAAAAAAAAAAAAAAAAAAAAAAAAAAAAAAAAAAAAAAAAAAAAAAAAAAAAAAAAAAAAAAAAAAAAAAAAAAAAAAAAAAAAAAAAAAAAAAAAAAAAAAAAAAAAAAAAAAAAAAAAAAAAAAAAAAAAAAAAAAAAAAAAAAAAAAAAAAAAAAAAAAAAAAAAAAAAAAAAAAAAAAAAAAAAAAAAAAAAAAAAAAAAAAAAAAAAAAAAAAAAAAAAAAAAAAAAAAAAAAAAAAAAAAAAAAAAAAAAAAAAAAAAAAAAAAAAAAAAAAAAAAAAAAAAAAAAAAAAAAAAAAAAAAAAAAAAAAAAAAAAAAAAAAAAAAAAAAAAAAAAAAAAAAAAAAAAAAAAAAAAAAAAAAAAAAAAAAAAAAAAAAAAAAAAAAAAAAAAAAAAAAAAAAAAAAAAAAAAAAAAAAAAAAAAAAAAAAAAAAAAAAAAAAAAAAAAAAAAAAAAAAAAAAAAAAAAAAAAAAAAAAAAAAAAAAAAAAAAAAAAAAAAAAAAAAAAAAAAAAAAAAAAAAAAAAAAAAAAAAAAAAAAAAAAAAAAAAAAAAAAAAAAAAAAAAAAAAAAAAAAAAAAAAAAAAAAAAAAAAAAAAAAAAAAAAAAAAAAAAAAAAAAAAAAAAAAAAAAAAAAAAAAAAAAAAAAAAAAAAAAAAAAAAAAAAAAAAAAAAAAAAAAAAAAAAAAAAAAAAAAAAAAAAAAAAAAAAAAAAAAAAAAAAAAAAAAAAAAAAAAAAAAAAAAAAAAAAAAAAAAAAAAAAAAAAAAAAAAAAAAAAAAAAAAAAAAAAAAAAAAAAAAAAAAAAAAAAAAA=\",\"dtype\":\"float64\",\"shape\":[1000]}},\"selected\":{\"id\":\"48839\",\"type\":\"Selection\"},\"selection_policy\":{\"id\":\"48838\",\"type\":\"UnionRenderers\"}},\"id\":\"48815\",\"type\":\"ColumnDataSource\"},{\"attributes\":{},\"id\":\"48753\",\"type\":\"ResetTool\"},{\"attributes\":{\"plot\":null,\"text\":\"Prior/posterior over the concentration\"},\"id\":\"48774\",\"type\":\"Title\"},{\"attributes\":{},\"id\":\"48750\",\"type\":\"WheelZoomTool\"},{\"attributes\":{},\"id\":\"48836\",\"type\":\"UnionRenderers\"},{\"attributes\":{\"callback\":null},\"id\":\"48777\",\"type\":\"DataRange1d\"},{\"attributes\":{},\"id\":\"48837\",\"type\":\"Selection\"},{\"attributes\":{\"callback\":null},\"id\":\"48779\",\"type\":\"DataRange1d\"},{\"attributes\":{},\"id\":\"48838\",\"type\":\"UnionRenderers\"},{\"attributes\":{},\"id\":\"48749\",\"type\":\"PanTool\"},{\"attributes\":{\"overlay\":{\"id\":\"48757\",\"type\":\"BoxAnnotation\"}},\"id\":\"48751\",\"type\":\"BoxZoomTool\"},{\"attributes\":{},\"id\":\"48781\",\"type\":\"LinearScale\"},{\"attributes\":{},\"id\":\"48839\",\"type\":\"Selection\"},{\"attributes\":{},\"id\":\"48783\",\"type\":\"LinearScale\"},{\"attributes\":{\"callback\":null,\"data\":{\"x\":{\"__ndarray__\":\"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\",\"dtype\":\"float64\",\"shape\":[1000]},\"y\":{\"__ndarray__\":\"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\",\"dtype\":\"float64\",\"shape\":[1000]}},\"selected\":{\"id\":\"48837\",\"type\":\"Selection\"},\"selection_policy\":{\"id\":\"48836\",\"type\":\"UnionRenderers\"}},\"id\":\"48810\",\"type\":\"ColumnDataSource\"},{\"attributes\":{\"below\":[{\"id\":\"48739\",\"type\":\"LinearAxis\"}],\"left\":[{\"id\":\"48744\",\"type\":\"LinearAxis\"}],\"plot_height\":400,\"plot_width\":400,\"renderers\":[{\"id\":\"48739\",\"type\":\"LinearAxis\"},{\"id\":\"48743\",\"type\":\"Grid\"},{\"id\":\"48744\",\"type\":\"LinearAxis\"},{\"id\":\"48748\",\"type\":\"Grid\"},{\"id\":\"48757\",\"type\":\"BoxAnnotation\"},{\"id\":\"48767\",\"type\":\"GlyphRenderer\"},{\"id\":\"48772\",\"type\":\"GlyphRenderer\"}],\"title\":{\"id\":\"48728\",\"type\":\"Title\"},\"toolbar\":{\"id\":\"48755\",\"type\":\"Toolbar\"},\"toolbar_location\":null,\"x_range\":{\"id\":\"48731\",\"type\":\"DataRange1d\"},\"x_scale\":{\"id\":\"48735\",\"type\":\"LinearScale\"},\"y_range\":{\"id\":\"48733\",\"type\":\"DataRange1d\"},\"y_scale\":{\"id\":\"48737\",\"type\":\"LinearScale\"}},\"id\":\"48729\",\"subtype\":\"Figure\",\"type\":\"Plot\"},{\"attributes\":{\"callback\":null,\"data\":{\"x\":[0,1,2,3,4,5,6,7,8,9,10,11,12,13,14,15,16,17,18,19,20,21,22,23,24,25,26,27,28,29,30,31,32,33,34,35,36,37,38,39,40,41,42,43,44,45,46,47,48,49,50,51,52,53,54,55,56,57,58,59,60,61,62,63,64,65,66,67,68,69,70,71,72,73,74,75,76,77,78,79,80,81,82,83,84,85,86,87,88,89,90,91,92,93,94,95,96,97,98,99,100],\"y\":{\"__ndarray__\":\"ENS0PUSckD3iNHs9YM1hPfNKTz0++z89GbgxPWMjJD3XLhg9OvcLPa5dAz0LvfY8/4PrPHC33zxne9c8zKvOPHxFyDz9WME8w9a7PGNwtTwPTq48J9qnPM5YoTwHKpk8UFuPPHFlhDyx4248OUNSPHx3ODxV+iA8jUULPG6y7jsUTcw7+q2tOymxjzuicmg7rYRDO4nDHTsgFfo6gDHAOhAMgzqKUjI6Aj4DOvpxpTnDQlI5lk7qOKQdpTiWNxU4RxWRN7+GMjf48/81GJPNNbccpTUZnYQ1EQZVNU0YKzVDawk1Fb7cNG5LsTT4ZY40wb1kNAW4NzTljhM0gwftM0BgvjOn55gzY551MzxGRTMLch4zsYT+MhxszDLAL6Qy196DMn/UUzLgIioyHKYIMmOB2zEGTbAxo5mNMXl1YzFasDYxO7sSMZCz6zAfT70wSAyYMOE9dDAdK0QwpY4dMGoX/S/tRssvRkSjL6Yhgy98pFIvsy4pL//hBy9cRtouAFCvLo3OjC5AL2IuV6o1LqboES4=\",\"dtype\":\"float32\",\"shape\":[101]}},\"selected\":{\"id\":\"48828\",\"type\":\"Selection\"},\"selection_policy\":{\"id\":\"48827\",\"type\":\"UnionRenderers\"}},\"id\":\"48769\",\"type\":\"ColumnDataSource\"},{\"attributes\":{},\"id\":\"48832\",\"type\":\"BasicTickFormatter\"},{\"attributes\":{\"active_drag\":\"auto\",\"active_inspect\":\"auto\",\"active_multi\":null,\"active_scroll\":\"auto\",\"active_tap\":\"auto\",\"tools\":[{\"id\":\"48749\",\"type\":\"PanTool\"},{\"id\":\"48750\",\"type\":\"WheelZoomTool\"},{\"id\":\"48751\",\"type\":\"BoxZoomTool\"},{\"id\":\"48752\",\"type\":\"SaveTool\"},{\"id\":\"48753\",\"type\":\"ResetTool\"},{\"id\":\"48754\",\"type\":\"HelpTool\"}]},\"id\":\"48755\",\"type\":\"Toolbar\"},{\"attributes\":{\"line_alpha\":0.1,\"line_color\":\"#1f77b4\",\"line_dash\":[6],\"line_width\":2,\"x\":{\"field\":\"x\"},\"y\":{\"field\":\"y\"}},\"id\":\"48766\",\"type\":\"Line\"}],\"root_ids\":[\"48846\"]},\"title\":\"Bokeh Application\",\"version\":\"1.0.0\"}};\n",
       "  var render_items = [{\"docid\":\"fd6f95d9-f169-40c9-aab5-75a26658c59a\",\"roots\":{\"48846\":\"ae0e2294-4d38-4051-b799-77948a5195aa\"}}];\n",
       "  root.Bokeh.embed.embed_items_notebook(docs_json, render_items);\n",
       "\n",
       "  }\n",
       "  if (root.Bokeh !== undefined) {\n",
       "    embed_document(root);\n",
       "  } else {\n",
       "    var attempts = 0;\n",
       "    var timer = setInterval(function(root) {\n",
       "      if (root.Bokeh !== undefined) {\n",
       "        embed_document(root);\n",
       "        clearInterval(timer);\n",
       "      }\n",
       "      attempts++;\n",
       "      if (attempts > 100) {\n",
       "        console.log(\"Bokeh: ERROR: Unable to run BokehJS code because BokehJS library is missing\");\n",
       "        clearInterval(timer);\n",
       "      }\n",
       "    }, 10, root)\n",
       "  }\n",
       "})(window);"
      ],
      "application/vnd.bokehjs_exec.v0+json": ""
     },
     "metadata": {
      "application/vnd.bokehjs_exec.v0+json": {
       "id": "48846"
      }
     },
     "output_type": "display_data"
    }
   ],
   "source": [
    "def gamma_lh(x, pdf):\n",
    "    from scipy.special import gammaln\n",
    "    shape = float(pdf.params.shape)\n",
    "    rate = float(pdf.params.rate)\n",
    "    return np.exp(-rate * x + (shape - 1) * np.log(x) - gammaln(shape) + shape * np.log(rate))\n",
    "\n",
    "weights = model.categorical.mean.sort(descending=True)[0].numpy()\n",
    "print(len(weights))\n",
    "\n",
    "fig2 = figure(width=400, height=400, title='Mixing weights')\n",
    "fig2.line(range(len(true_weights)), true_weights, color='black', line_width=2, line_dash='dashed')\n",
    "fig2.line(range(len(weights)), weights, line_width=2)\n",
    "#fig2.xaxis.ticker = list(range(len(weights)))\n",
    "fig2.xgrid.visible = False\n",
    "\n",
    "fig3 = figure(width=400, height=400, title='Prior/posterior over the concentration')\n",
    "c = np.linspace(3, 9, 1000)\n",
    "prior_lh = gamma_lh(c, model.categorical.concentration.prior)\n",
    "posterior_lh = gamma_lh(c, model.categorical.concentration.posterior)\n",
    "fig3.line(c, prior_lh, color='blue')\n",
    "fig3.line(c, posterior_lh, color='green')\n",
    "\n",
    "show(gridplot([[fig2, fig3]]))"
   ]
  },
  {
   "cell_type": "code",
   "execution_count": 124,
   "metadata": {},
   "outputs": [
    {
     "data": {
      "text/plain": [
       "array([8.82951021e-02, 7.06105530e-02, 6.13297299e-02, 5.51275015e-02,\n",
       "       5.06085865e-02, 4.68704626e-02, 4.33884598e-02, 4.00728099e-02,\n",
       "       3.71540450e-02, 3.41713205e-02, 3.20717618e-02, 3.01194396e-02,\n",
       "       2.87494641e-02, 2.73091495e-02, 2.63039600e-02, 2.52284035e-02,\n",
       "       2.44471952e-02, 2.36020032e-02, 2.29295548e-02, 2.21483167e-02,\n",
       "       2.12774556e-02, 2.04897653e-02, 1.96956657e-02, 1.86967980e-02,\n",
       "       1.74995959e-02, 1.61616523e-02, 1.45806530e-02, 1.28334099e-02,\n",
       "       1.12589560e-02, 9.82530881e-03, 8.50046892e-03, 7.28445407e-03,\n",
       "       6.23477437e-03, 5.30028064e-03, 4.38513281e-03, 3.54687171e-03,\n",
       "       2.98337196e-03, 2.40728469e-03, 1.90797821e-03, 1.46631896e-03,\n",
       "       9.99810174e-04, 6.80246041e-04, 5.00649330e-04, 3.15561716e-04,\n",
       "       2.00520313e-04, 1.11726273e-04, 7.87333411e-05, 3.55761367e-05,\n",
       "       1.72952550e-05, 1.06409998e-05, 1.90699848e-06, 1.53165001e-06,\n",
       "       1.23018151e-06, 9.88048782e-07, 7.93575111e-07, 6.37378264e-07,\n",
       "       5.11925634e-07, 4.11164962e-07, 3.30237015e-07, 2.65237531e-07,\n",
       "       2.13031868e-07, 1.71101490e-07, 1.37424266e-07, 1.10375389e-07,\n",
       "       8.86507223e-08, 7.12018888e-08, 5.71875596e-08, 4.59315146e-08,\n",
       "       3.68909632e-08, 2.96298328e-08, 2.37978881e-08, 1.91138270e-08,\n",
       "       1.53517430e-08, 1.23301325e-08, 9.90323201e-09, 7.95401078e-09,\n",
       "       6.38844844e-09, 5.13103071e-09, 4.12110657e-09, 3.30996230e-09,\n",
       "       2.65847300e-09, 2.13522244e-09, 1.71495351e-09, 1.37740475e-09,\n",
       "       1.10629461e-09, 8.88546181e-10, 7.13656523e-10, 5.73189773e-10,\n",
       "       4.60370686e-10, 3.69758807e-10, 2.96980385e-10, 2.38526698e-10,\n",
       "       1.91578253e-10, 1.53870514e-10, 1.23584684e-10, 9.92599059e-11,\n",
       "       7.97228950e-11, 6.40315370e-11, 5.14284171e-11, 4.13059274e-11,\n",
       "       3.31758163e-11], dtype=float32)"
      ]
     },
     "execution_count": 124,
     "metadata": {},
     "output_type": "execute_result"
    }
   ],
   "source": [
    "weights"
   ]
  },
  {
   "cell_type": "code",
   "execution_count": 18,
   "metadata": {},
   "outputs": [],
   "source": [
    "def wer(r, h):\n",
    "    \"\"\"\n",
    "    Calculation of WER with Levenshtein distance.\n",
    "\n",
    "    Works only for iterables up to 254 elements (uint8).\n",
    "    O(nm) time ans space complexity.\n",
    "\n",
    "    Parameters\n",
    "    ----------\n",
    "    r : list\n",
    "    h : list\n",
    "\n",
    "    Returns\n",
    "    -------\n",
    "    int\n",
    "\n",
    "    Examples\n",
    "    --------\n",
    "    >>> wer(\"who is there\".split(), \"is there\".split())\n",
    "    1\n",
    "    >>> wer(\"who is there\".split(), \"\".split())\n",
    "    3\n",
    "    >>> wer(\"\".split(), \"who is there\".split())\n",
    "    3\n",
    "    \"\"\"\n",
    "    # initialisation\n",
    "    d = np.zeros((len(r)+1)*(len(h)+1), dtype=int)\n",
    "    d = d.reshape((len(r)+1, len(h)+1))\n",
    "    for i in range(len(r)+1):\n",
    "        for j in range(len(h)+1):\n",
    "            if i == 0:\n",
    "                d[0][j] = j\n",
    "            elif j == 0:\n",
    "                d[i][0] = i\n",
    "\n",
    "    # computation\n",
    "    for i in range(1, len(r)+1):\n",
    "        for j in range(1, len(h)+1):\n",
    "            if r[i-1] == h[j-1]:\n",
    "                d[i][j] = d[i-1][j-1]\n",
    "            else:\n",
    "                substitution = d[i-1][j-1] + 1\n",
    "                insertion    = d[i][j-1] + 1\n",
    "                deletion     = d[i-1][j] + 1\n",
    "                d[i][j] = min(substitution, insertion, deletion)\n",
    "\n",
    "    return d[len(r)][len(h)]"
   ]
  },
  {
   "cell_type": "code",
   "execution_count": 19,
   "metadata": {},
   "outputs": [
    {
     "data": {
      "text/plain": [
       "{'sil': 'sil',\n",
       " 'aa': 'aa',\n",
       " 'ae': 'ae',\n",
       " 'ah': 'ah',\n",
       " 'ao': 'aa',\n",
       " 'aw': 'aw',\n",
       " 'ax': 'ah',\n",
       " 'ay': 'ay',\n",
       " 'b': 'b',\n",
       " 'ch': 'ch',\n",
       " 'cl': 'sil',\n",
       " 'd': 'd',\n",
       " 'dh': 'dh',\n",
       " 'dx': 'dx',\n",
       " 'eh': 'eh',\n",
       " 'el': 'l',\n",
       " 'en': 'n',\n",
       " 'epi': 'sil',\n",
       " 'er': 'er',\n",
       " 'ey': 'ey',\n",
       " 'f': 'f',\n",
       " 'g': 'g',\n",
       " 'hh': 'hh',\n",
       " 'ih': 'ih',\n",
       " 'ix': 'ih',\n",
       " 'iy': 'iy',\n",
       " 'jh': 'jh',\n",
       " 'k': 'k',\n",
       " 'l': 'l',\n",
       " 'm': 'm',\n",
       " 'n': 'n',\n",
       " 'ng': 'ng',\n",
       " 'ow': 'ow',\n",
       " 'oy': 'oy',\n",
       " 'p': 'p',\n",
       " 'r': 'r',\n",
       " 's': 's',\n",
       " 'sh': 'sh',\n",
       " 't': 't',\n",
       " 'th': 'th',\n",
       " 'uh': 'uh',\n",
       " 'uw': 'uw',\n",
       " 'v': 'v',\n",
       " 'vcl': 'sil',\n",
       " 'w': 'w',\n",
       " 'y': 'y',\n",
       " 'z': 'z',\n",
       " 'zh': 'sh'}"
      ]
     },
     "execution_count": 19,
     "metadata": {},
     "output_type": "execute_result"
    }
   ],
   "source": [
    "mapfile = 'data/timit/lang/phones_48_to_39.txt'\n",
    "phonemap = {}\n",
    "with open(mapfile, 'r') as f:\n",
    "    for line in f:\n",
    "        p1, p2 = line.strip().split()\n",
    "        phonemap[p1] = p2\n",
    "phonemap"
   ]
  },
  {
   "cell_type": "code",
   "execution_count": 27,
   "metadata": {},
   "outputs": [
    {
     "name": "stdout",
     "output_type": "stream",
     "text": [
      "WER = 36.82 %\n"
     ]
    }
   ],
   "source": [
    "ref = 'data/timit/test/trans'\n",
    "hyp = f'exp/timit/monophone_mbn_babel/decode_ac1.0/test/trans'\n",
    "\n",
    "def load_trans(transfile, mapping=None):\n",
    "    with open(transfile, 'r') as f:\n",
    "        utt_trans = {}\n",
    "        for line in f:\n",
    "            tokens = line.strip().split()\n",
    "            uttid, trans = tokens[0], tokens[1:]\n",
    "            if mapping is not None:\n",
    "                trans = [mapping[token] for token in trans]\n",
    "            utt_trans[uttid] = trans\n",
    "            #utt_trans[uttid] = list(filter(lambda a: a != 'sil', trans))\n",
    "    return utt_trans\n",
    "\n",
    "ref_trans = load_trans(ref, phonemap)\n",
    "ref_trans = {utt: [x[0] for x in groupby(trans)] for utt, trans in ref_trans.items()}\n",
    "hyp_trans = load_trans(hyp, phonemap)\n",
    "hyp_trans = {utt: [x[0] for x in groupby(trans)] for utt, trans in hyp_trans.items()}\n",
    "acc_wer = 0\n",
    "nwords = 0\n",
    "for utt in ref_trans:\n",
    "    ref_t, hyp_t = ref_trans[utt], hyp_trans[utt]\n",
    "    acc_wer += wer(ref_t, hyp_t)\n",
    "    nwords += len(ref_t)\n",
    "print(f'WER = {100 * acc_wer/nwords:.2f} %')"
   ]
  },
  {
   "cell_type": "code",
   "execution_count": 28,
   "metadata": {},
   "outputs": [
    {
     "name": "stdout",
     "output_type": "stream",
     "text": [
      "sil b ae s sil k ih sil b aa l sil k ih n sil b iy ih n ih n er sil t ey n ih ng s sil p aa r sil\n",
      "sil b ae s k ih sil b aa k n b iy n ih n ih t hh ng uw ng k s f w r sil\n"
     ]
    }
   ],
   "source": [
    "print(' '.join(ref_trans[utt]))\n",
    "print(' '.join(hyp_trans[utt]))"
   ]
  },
  {
   "cell_type": "code",
   "execution_count": 88,
   "metadata": {},
   "outputs": [
    {
     "name": "stdout",
     "output_type": "stream",
     "text": [
      "80.54610341107146\n",
      "66.21296373143\n",
      "47.755000414972194\n",
      "41.75450244833596\n",
      "37.72097269482945\n",
      "36.998921072288155\n",
      "36.13577890281351\n",
      "35.911693916507595\n",
      "35.3224333969624\n",
      "34.69167565773093\n"
     ]
    },
    {
     "data": {
      "text/html": [
       "\n",
       "\n",
       "\n",
       "\n",
       "\n",
       "\n",
       "  <div class=\"bk-root\" id=\"a50192d7-015c-4c21-b5df-8b279b0416e9\"></div>\n"
      ]
     },
     "metadata": {},
     "output_type": "display_data"
    },
    {
     "data": {
      "application/javascript": [
       "(function(root) {\n",
       "  function embed_document(root) {\n",
       "    \n",
       "  var docs_json = {\"d4b84410-dde6-4529-b382-6473726361a1\":{\"roots\":{\"references\":[{\"attributes\":{\"below\":[{\"id\":\"46161\",\"type\":\"LinearAxis\"}],\"left\":[{\"id\":\"46166\",\"type\":\"LinearAxis\"}],\"renderers\":[{\"id\":\"46161\",\"type\":\"LinearAxis\"},{\"id\":\"46165\",\"type\":\"Grid\"},{\"id\":\"46166\",\"type\":\"LinearAxis\"},{\"id\":\"46170\",\"type\":\"Grid\"},{\"id\":\"46179\",\"type\":\"BoxAnnotation\"},{\"id\":\"46189\",\"type\":\"GlyphRenderer\"},{\"id\":\"46194\",\"type\":\"GlyphRenderer\"},{\"id\":\"46199\",\"type\":\"GlyphRenderer\"},{\"id\":\"46204\",\"type\":\"GlyphRenderer\"},{\"id\":\"46209\",\"type\":\"GlyphRenderer\"},{\"id\":\"46214\",\"type\":\"GlyphRenderer\"},{\"id\":\"46219\",\"type\":\"GlyphRenderer\"},{\"id\":\"46224\",\"type\":\"GlyphRenderer\"},{\"id\":\"46229\",\"type\":\"GlyphRenderer\"},{\"id\":\"46234\",\"type\":\"GlyphRenderer\"},{\"id\":\"46239\",\"type\":\"GlyphRenderer\"},{\"id\":\"46244\",\"type\":\"GlyphRenderer\"},{\"id\":\"46249\",\"type\":\"GlyphRenderer\"},{\"id\":\"46254\",\"type\":\"GlyphRenderer\"},{\"id\":\"46259\",\"type\":\"GlyphRenderer\"},{\"id\":\"46264\",\"type\":\"GlyphRenderer\"},{\"id\":\"46269\",\"type\":\"GlyphRenderer\"},{\"id\":\"46274\",\"type\":\"GlyphRenderer\"},{\"id\":\"46279\",\"type\":\"GlyphRenderer\"},{\"id\":\"46284\",\"type\":\"GlyphRenderer\"}],\"title\":{\"id\":\"47829\",\"type\":\"Title\"},\"toolbar\":{\"id\":\"46177\",\"type\":\"Toolbar\"},\"x_range\":{\"id\":\"46153\",\"type\":\"DataRange1d\"},\"x_scale\":{\"id\":\"46157\",\"type\":\"LinearScale\"},\"y_range\":{\"id\":\"46155\",\"type\":\"Range1d\"},\"y_scale\":{\"id\":\"46159\",\"type\":\"LinearScale\"}},\"id\":\"46152\",\"subtype\":\"Figure\",\"type\":\"Plot\"},{\"attributes\":{\"dimension\":1,\"plot\":{\"id\":\"46152\",\"subtype\":\"Figure\",\"type\":\"Plot\"},\"ticker\":{\"id\":\"46167\",\"type\":\"BasicTicker\"}},\"id\":\"46170\",\"type\":\"Grid\"},{\"attributes\":{\"data_source\":{\"id\":\"46211\",\"type\":\"ColumnDataSource\"},\"glyph\":{\"id\":\"46212\",\"type\":\"Circle\"},\"hover_glyph\":null,\"muted_glyph\":null,\"nonselection_glyph\":{\"id\":\"46213\",\"type\":\"Circle\"},\"selection_glyph\":null,\"view\":{\"id\":\"46215\",\"type\":\"CDSView\"}},\"id\":\"46214\",\"type\":\"GlyphRenderer\"},{\"attributes\":{},\"id\":\"47833\",\"type\":\"BasicTickFormatter\"},{\"attributes\":{\"fill_color\":{\"value\":\"grey\"},\"line_color\":{\"value\":\"grey\"},\"x\":{\"field\":\"x\"},\"y\":{\"field\":\"y\"}},\"id\":\"46282\",\"type\":\"Circle\"},{\"attributes\":{\"data_source\":{\"id\":\"46246\",\"type\":\"ColumnDataSource\"},\"glyph\":{\"id\":\"46247\",\"type\":\"Line\"},\"hover_glyph\":null,\"muted_glyph\":null,\"nonselection_glyph\":{\"id\":\"46248\",\"type\":\"Line\"},\"selection_glyph\":null,\"view\":{\"id\":\"46250\",\"type\":\"CDSView\"}},\"id\":\"46249\",\"type\":\"GlyphRenderer\"},{\"attributes\":{\"source\":{\"id\":\"46211\",\"type\":\"ColumnDataSource\"}},\"id\":\"46215\",\"type\":\"CDSView\"},{\"attributes\":{},\"id\":\"47835\",\"type\":\"UnionRenderers\"},{\"attributes\":{\"source\":{\"id\":\"46186\",\"type\":\"ColumnDataSource\"}},\"id\":\"46190\",\"type\":\"CDSView\"},{\"attributes\":{\"data_source\":{\"id\":\"46241\",\"type\":\"ColumnDataSource\"},\"glyph\":{\"id\":\"46242\",\"type\":\"Circle\"},\"hover_glyph\":null,\"muted_glyph\":null,\"nonselection_glyph\":{\"id\":\"46243\",\"type\":\"Circle\"},\"selection_glyph\":null,\"view\":{\"id\":\"46245\",\"type\":\"CDSView\"}},\"id\":\"46244\",\"type\":\"GlyphRenderer\"},{\"attributes\":{\"fill_color\":{\"value\":\"orange\"},\"line_color\":{\"value\":\"orange\"},\"x\":{\"field\":\"x\"},\"y\":{\"field\":\"y\"}},\"id\":\"46202\",\"type\":\"Circle\"},{\"attributes\":{\"plot\":null,\"text\":\"\"},\"id\":\"47829\",\"type\":\"Title\"},{\"attributes\":{},\"id\":\"47831\",\"type\":\"BasicTickFormatter\"},{\"attributes\":{\"callback\":null,\"data\":{\"x\":[0,1,2,3,4,5,6,7,8,9,10,11,12,13,14,15,16,17,18,19,20,21,22,23,24,25,26,27,28,29,30],\"y\":[53.89658892854179,50.85899244750602,47.57241264835256,43.787866212963735,42.69233961324591,42.17777408913603,41.91219188314383,41.74620300439871,41.356129139347665,41.28973358784961,41.43912357872023,41.23993692422608,41.54701634990456,41.49721968628102,41.704705784712424,41.464021910532,41.43912357872023,41.48892024234376,41.74620300439871,41.837496887708525,41.79599966802224,41.64660967715163,41.59681301352809,41.5387169059673,41.72130467258694,41.82089799983401,41.82089799983401,41.90389243920657,41.8042991119595,41.95368910283011,41.75450244833596]},\"selected\":{\"id\":\"47850\",\"type\":\"Selection\"},\"selection_policy\":{\"id\":\"47849\",\"type\":\"UnionRenderers\"}},\"id\":\"46221\",\"type\":\"ColumnDataSource\"},{\"attributes\":{\"callback\":null,\"data\":{\"x\":[0,1,2,3,4,5,6,7,8,9,10,11,12,13,14,15,16,17,18,19,20,21,22,23,24,25,26,27,28,29,30],\"y\":[51.08307743381194,49.73026807203917,44.493318947630506,40.09461366088472,38.111046559880485,37.23960494646859,37.11511328740974,36.90762718897834,36.63374553904888,36.492654992115526,36.467756660303756,36.3847622209312,36.2519711179351,36.3847622209312,36.47605610424102,36.492654992115526,36.60054776329986,36.63374553904888,36.35156444518217,36.235372230060584,36.27686944974687,36.13577890281351,36.3847622209312,36.42625944061748,36.31006722549589,35.9863889119429,36.467756660303756,36.42625944061748,36.2519711179351,36.193875010374306,36.13577890281351]},\"selected\":{\"id\":\"47862\",\"type\":\"Selection\"},\"selection_policy\":{\"id\":\"47861\",\"type\":\"UnionRenderers\"}},\"id\":\"46251\",\"type\":\"ColumnDataSource\"},{\"attributes\":{\"data_source\":{\"id\":\"46191\",\"type\":\"ColumnDataSource\"},\"glyph\":{\"id\":\"46192\",\"type\":\"Circle\"},\"hover_glyph\":null,\"muted_glyph\":null,\"nonselection_glyph\":{\"id\":\"46193\",\"type\":\"Circle\"},\"selection_glyph\":null,\"view\":{\"id\":\"46195\",\"type\":\"CDSView\"}},\"id\":\"46194\",\"type\":\"GlyphRenderer\"},{\"attributes\":{},\"id\":\"46171\",\"type\":\"PanTool\"},{\"attributes\":{\"callback\":null,\"data\":{\"x\":[0,1,2,3,4,5,6,7,8,9,10,11,12,13,14,15,16,17,18,19,20,21,22,23,24,25,26,27,28,29,30],\"y\":[51.298862976180594,48.16997261183501,44.58461283094033,40.10291310482198,38.83309818242178,38.16914266744128,37.9201593493236,37.87036268570006,37.87036268570006,37.5217860403353,37.455390488837246,37.48858826458627,37.48858826458627,37.505187152460785,37.26450327828036,37.09851439953523,37.13171217528426,37.21470661465682,37.04041829197444,37.11511328740974,37.123412731347,37.123412731347,37.206407170719565,37.09021495559797,37.04041829197444,37.04041829197444,37.09021495559797,37.10681384347249,37.03211884803718,37.11511328740974,36.998921072288155]},\"selected\":{\"id\":\"47856\",\"type\":\"Selection\"},\"selection_policy\":{\"id\":\"47855\",\"type\":\"UnionRenderers\"}},\"id\":\"46236\",\"type\":\"ColumnDataSource\"},{\"attributes\":{\"fill_color\":{\"value\":\"salmon\"},\"line_color\":{\"value\":\"salmon\"},\"x\":{\"field\":\"x\"},\"y\":{\"field\":\"y\"}},\"id\":\"46252\",\"type\":\"Circle\"},{\"attributes\":{},\"id\":\"47836\",\"type\":\"Selection\"},{\"attributes\":{\"source\":{\"id\":\"46216\",\"type\":\"ColumnDataSource\"}},\"id\":\"46220\",\"type\":\"CDSView\"},{\"attributes\":{},\"id\":\"46172\",\"type\":\"WheelZoomTool\"},{\"attributes\":{\"line_alpha\":0.1,\"line_color\":\"#1f77b4\",\"line_dash\":[6],\"x\":{\"field\":\"x\"},\"y\":{\"field\":\"y\"}},\"id\":\"46228\",\"type\":\"Line\"},{\"attributes\":{},\"id\":\"47837\",\"type\":\"UnionRenderers\"},{\"attributes\":{\"source\":{\"id\":\"46231\",\"type\":\"ColumnDataSource\"}},\"id\":\"46235\",\"type\":\"CDSView\"},{\"attributes\":{\"overlay\":{\"id\":\"46179\",\"type\":\"BoxAnnotation\"}},\"id\":\"46173\",\"type\":\"BoxZoomTool\"},{\"attributes\":{\"fill_alpha\":{\"value\":0.1},\"fill_color\":{\"value\":\"#1f77b4\"},\"line_alpha\":{\"value\":0.1},\"line_color\":{\"value\":\"#1f77b4\"},\"x\":{\"field\":\"x\"},\"y\":{\"field\":\"y\"}},\"id\":\"46233\",\"type\":\"Circle\"},{\"attributes\":{\"source\":{\"id\":\"46251\",\"type\":\"ColumnDataSource\"}},\"id\":\"46255\",\"type\":\"CDSView\"},{\"attributes\":{},\"id\":\"47838\",\"type\":\"Selection\"},{\"attributes\":{\"data_source\":{\"id\":\"46251\",\"type\":\"ColumnDataSource\"},\"glyph\":{\"id\":\"46252\",\"type\":\"Circle\"},\"hover_glyph\":null,\"muted_glyph\":null,\"nonselection_glyph\":{\"id\":\"46253\",\"type\":\"Circle\"},\"selection_glyph\":null,\"view\":{\"id\":\"46255\",\"type\":\"CDSView\"}},\"id\":\"46254\",\"type\":\"GlyphRenderer\"},{\"attributes\":{},\"id\":\"46174\",\"type\":\"SaveTool\"},{\"attributes\":{},\"id\":\"47839\",\"type\":\"UnionRenderers\"},{\"attributes\":{\"line_alpha\":0.1,\"line_color\":\"#1f77b4\",\"line_dash\":[6],\"x\":{\"field\":\"x\"},\"y\":{\"field\":\"y\"}},\"id\":\"46218\",\"type\":\"Line\"},{\"attributes\":{\"source\":{\"id\":\"46271\",\"type\":\"ColumnDataSource\"}},\"id\":\"46275\",\"type\":\"CDSView\"},{\"attributes\":{},\"id\":\"47840\",\"type\":\"Selection\"},{\"attributes\":{\"source\":{\"id\":\"46276\",\"type\":\"ColumnDataSource\"}},\"id\":\"46280\",\"type\":\"CDSView\"},{\"attributes\":{},\"id\":\"47841\",\"type\":\"UnionRenderers\"},{\"attributes\":{},\"id\":\"46175\",\"type\":\"ResetTool\"},{\"attributes\":{},\"id\":\"47842\",\"type\":\"Selection\"},{\"attributes\":{},\"id\":\"46176\",\"type\":\"HelpTool\"},{\"attributes\":{\"line_color\":\"red\",\"line_dash\":[6],\"x\":{\"field\":\"x\"},\"y\":{\"field\":\"y\"}},\"id\":\"46217\",\"type\":\"Line\"},{\"attributes\":{\"fill_alpha\":{\"value\":0.1},\"fill_color\":{\"value\":\"#1f77b4\"},\"line_alpha\":{\"value\":0.1},\"line_color\":{\"value\":\"#1f77b4\"},\"x\":{\"field\":\"x\"},\"y\":{\"field\":\"y\"}},\"id\":\"46283\",\"type\":\"Circle\"},{\"attributes\":{},\"id\":\"47843\",\"type\":\"UnionRenderers\"},{\"attributes\":{\"active_drag\":\"auto\",\"active_inspect\":\"auto\",\"active_multi\":null,\"active_scroll\":\"auto\",\"active_tap\":\"auto\",\"tools\":[{\"id\":\"46171\",\"type\":\"PanTool\"},{\"id\":\"46172\",\"type\":\"WheelZoomTool\"},{\"id\":\"46173\",\"type\":\"BoxZoomTool\"},{\"id\":\"46174\",\"type\":\"SaveTool\"},{\"id\":\"46175\",\"type\":\"ResetTool\"},{\"id\":\"46176\",\"type\":\"HelpTool\"}]},\"id\":\"46177\",\"type\":\"Toolbar\"},{\"attributes\":{\"data_source\":{\"id\":\"46226\",\"type\":\"ColumnDataSource\"},\"glyph\":{\"id\":\"46227\",\"type\":\"Line\"},\"hover_glyph\":null,\"muted_glyph\":null,\"nonselection_glyph\":{\"id\":\"46228\",\"type\":\"Line\"},\"selection_glyph\":null,\"view\":{\"id\":\"46230\",\"type\":\"CDSView\"}},\"id\":\"46229\",\"type\":\"GlyphRenderer\"},{\"attributes\":{\"callback\":null,\"data\":{\"x\":[0,1,2,3,4,5,6,7,8,9,10,11,12,13,14,15,16,17,18,19,20,21,22,23,24,25,26,27,28,29,30],\"y\":[51.04987965806291,48.10357706033696,43.630176778155864,39.20657315959831,37.82056602207652,37.206407170719565,36.525852767864556,36.09428168312723,36.01958668769193,36.01958668769193,35.89509502863308,35.78720225744875,35.89509502863308,35.77060336957424,35.729106149887954,35.78720225744875,35.97808946800564,35.67930948626442,35.57141671508009,35.554817827205575,35.5133206075193,35.42202672420948,35.6461117105154,35.47182338783301,35.48842227570753,35.563117271142836,35.48842227570753,35.37223006058594,35.455224499958504,35.34733172877417,35.3224333969624]},\"selected\":{\"id\":\"47870\",\"type\":\"Selection\"},\"selection_policy\":{\"id\":\"47869\",\"type\":\"UnionRenderers\"}},\"id\":\"46271\",\"type\":\"ColumnDataSource\"},{\"attributes\":{},\"id\":\"47844\",\"type\":\"Selection\"},{\"attributes\":{\"line_alpha\":0.1,\"line_color\":\"#1f77b4\",\"line_dash\":[6],\"x\":{\"field\":\"x\"},\"y\":{\"field\":\"y\"}},\"id\":\"46268\",\"type\":\"Line\"},{\"attributes\":{\"line_alpha\":0.1,\"line_color\":\"#1f77b4\",\"line_dash\":[6],\"x\":{\"field\":\"x\"},\"y\":{\"field\":\"y\"}},\"id\":\"46188\",\"type\":\"Line\"},{\"attributes\":{\"callback\":null,\"data\":{\"x\":[0,1,2,3,4,5,6,7,8,9,10,11,12,13,14,15,16,17,18,19,20,21,22,23,24,25,26,27,28,29,30],\"y\":[51.92962071541207,49.506183085733255,45.62204332309735,41.505519130218275,39.912025894265085,39.28956759897087,38.799900406672755,38.67540874761391,38.42642542949623,38.37662876587269,38.10274711594323,37.986554900821645,37.787368246327496,37.886961573574574,37.87866212963731,37.87036268570006,37.62137936758237,37.74587102664122,37.662876587268656,37.637978255456886,37.654577143331394,37.62137936758237,37.679475475143164,37.87866212963731,37.73757158270396,37.77076935845298,37.68777491908042,37.85376379782554,37.71267325089219,37.71267325089219,37.72097269482945]},\"selected\":{\"id\":\"47854\",\"type\":\"Selection\"},\"selection_policy\":{\"id\":\"47853\",\"type\":\"UnionRenderers\"}},\"id\":\"46231\",\"type\":\"ColumnDataSource\"},{\"attributes\":{},\"id\":\"47845\",\"type\":\"UnionRenderers\"},{\"attributes\":{\"source\":{\"id\":\"46206\",\"type\":\"ColumnDataSource\"}},\"id\":\"46210\",\"type\":\"CDSView\"},{\"attributes\":{\"fill_alpha\":{\"value\":0.1},\"fill_color\":{\"value\":\"#1f77b4\"},\"line_alpha\":{\"value\":0.1},\"line_color\":{\"value\":\"#1f77b4\"},\"x\":{\"field\":\"x\"},\"y\":{\"field\":\"y\"}},\"id\":\"46243\",\"type\":\"Circle\"},{\"attributes\":{},\"id\":\"47846\",\"type\":\"Selection\"},{\"attributes\":{\"data_source\":{\"id\":\"46186\",\"type\":\"ColumnDataSource\"},\"glyph\":{\"id\":\"46187\",\"type\":\"Line\"},\"hover_glyph\":null,\"muted_glyph\":null,\"nonselection_glyph\":{\"id\":\"46188\",\"type\":\"Line\"},\"selection_glyph\":null,\"view\":{\"id\":\"46190\",\"type\":\"CDSView\"}},\"id\":\"46189\",\"type\":\"GlyphRenderer\"},{\"attributes\":{\"data_source\":{\"id\":\"46231\",\"type\":\"ColumnDataSource\"},\"glyph\":{\"id\":\"46232\",\"type\":\"Circle\"},\"hover_glyph\":null,\"muted_glyph\":null,\"nonselection_glyph\":{\"id\":\"46233\",\"type\":\"Circle\"},\"selection_glyph\":null,\"view\":{\"id\":\"46235\",\"type\":\"CDSView\"}},\"id\":\"46234\",\"type\":\"GlyphRenderer\"},{\"attributes\":{\"source\":{\"id\":\"46196\",\"type\":\"ColumnDataSource\"}},\"id\":\"46200\",\"type\":\"CDSView\"},{\"attributes\":{\"source\":{\"id\":\"46246\",\"type\":\"ColumnDataSource\"}},\"id\":\"46250\",\"type\":\"CDSView\"},{\"attributes\":{\"line_color\":\"grey\",\"line_dash\":[6],\"x\":{\"field\":\"x\"},\"y\":{\"field\":\"y\"}},\"id\":\"46277\",\"type\":\"Line\"},{\"attributes\":{},\"id\":\"47847\",\"type\":\"UnionRenderers\"},{\"attributes\":{\"callback\":null,\"data\":{\"x\":[0,1,2,3,4,5,6,7,8,9,10,11,12,13,14,15,16,17,18,19,20,21,22,23,24,25,26,27,28,29,30],\"y\":[51.099676321686445,48.30276371483111,44.64270893850112,39.99502033363765,38.63391152792763,37.82056602207652,37.41389326915097,36.96572329653913,36.974022740476386,36.76653664204498,36.55075109967632,36.4594572163665,36.28516889368412,36.26027056187235,36.193875010374306,36.11088057100174,36.12747945887625,36.17727612249979,36.09428168312723,36.119180014939,36.11088057100174,35.936592248319364,35.961490580131134,36.12747945887625,35.936592248319364,35.961490580131134,35.9282928043821,36.011287243754666,35.79550170138601,35.90339447257034,35.911693916507595]},\"selected\":{\"id\":\"47866\",\"type\":\"Selection\"},\"selection_policy\":{\"id\":\"47865\",\"type\":\"UnionRenderers\"}},\"id\":\"46261\",\"type\":\"ColumnDataSource\"},{\"attributes\":{\"callback\":null,\"data\":{\"x\":[0,1,2,3,4,5,6,7,8,9,10,11,12,13,14,15,16,17,18,19,20,21,22,23,24,25,26,27,28,29,30],\"y\":[69.87301850775998,67.28359199933604,64.84355548178272,62.77699394140593,62.42841729604117,62.89318615652751,63.72313055025313,63.6152377790688,64.22939663042577,64.8269565939082,64.76886048634742,64.8103577060337,65.24192879077101,65.70669765125737,65.27512656652004,65.95568096937505,66.21296373143,65.84778819819073,66.22126317536726,66.36235372230061,66.56983982073201,66.76072703128891,65.80629097850444,66.38725205411238,66.84372147066146,66.42874927379866,66.20466428749273,66.26276039505353,66.20466428749273,66.35405427836335,66.21296373143]},\"selected\":{\"id\":\"47842\",\"type\":\"Selection\"},\"selection_policy\":{\"id\":\"47841\",\"type\":\"UnionRenderers\"}},\"id\":\"46201\",\"type\":\"ColumnDataSource\"},{\"attributes\":{},\"id\":\"47848\",\"type\":\"Selection\"},{\"attributes\":{\"fill_color\":{\"value\":\"green\"},\"line_color\":{\"value\":\"green\"},\"x\":{\"field\":\"x\"},\"y\":{\"field\":\"y\"}},\"id\":\"46212\",\"type\":\"Circle\"},{\"attributes\":{\"source\":{\"id\":\"46261\",\"type\":\"ColumnDataSource\"}},\"id\":\"46265\",\"type\":\"CDSView\"},{\"attributes\":{},\"id\":\"47849\",\"type\":\"UnionRenderers\"},{\"attributes\":{\"fill_color\":{\"value\":\"blue\"},\"line_color\":{\"value\":\"blue\"},\"x\":{\"field\":\"x\"},\"y\":{\"field\":\"y\"}},\"id\":\"46192\",\"type\":\"Circle\"},{\"attributes\":{\"line_alpha\":0.1,\"line_color\":\"#1f77b4\",\"line_dash\":[6],\"x\":{\"field\":\"x\"},\"y\":{\"field\":\"y\"}},\"id\":\"46238\",\"type\":\"Line\"},{\"attributes\":{\"callback\":null,\"data\":{\"x\":[0,1,2,3,4,5,6,7,8,9,10,11,12,13,14,15,16,17,18,19,20,21,22,23,24,25,26,27,28,29,30],\"y\":[51.099676321686445,48.30276371483111,44.64270893850112,39.99502033363765,38.63391152792763,37.82056602207652,37.41389326915097,36.96572329653913,36.974022740476386,36.76653664204498,36.55075109967632,36.4594572163665,36.28516889368412,36.26027056187235,36.193875010374306,36.11088057100174,36.12747945887625,36.17727612249979,36.09428168312723,36.119180014939,36.11088057100174,35.936592248319364,35.961490580131134,36.12747945887625,35.936592248319364,35.961490580131134,35.9282928043821,36.011287243754666,35.79550170138601,35.90339447257034,35.911693916507595]},\"selected\":{\"id\":\"47864\",\"type\":\"Selection\"},\"selection_policy\":{\"id\":\"47863\",\"type\":\"UnionRenderers\"}},\"id\":\"46256\",\"type\":\"ColumnDataSource\"},{\"attributes\":{\"fill_alpha\":{\"value\":0.1},\"fill_color\":{\"value\":\"#1f77b4\"},\"line_alpha\":{\"value\":0.1},\"line_color\":{\"value\":\"#1f77b4\"},\"x\":{\"field\":\"x\"},\"y\":{\"field\":\"y\"}},\"id\":\"46213\",\"type\":\"Circle\"},{\"attributes\":{\"source\":{\"id\":\"46241\",\"type\":\"ColumnDataSource\"}},\"id\":\"46245\",\"type\":\"CDSView\"},{\"attributes\":{\"source\":{\"id\":\"46266\",\"type\":\"ColumnDataSource\"}},\"id\":\"46270\",\"type\":\"CDSView\"},{\"attributes\":{},\"id\":\"47850\",\"type\":\"Selection\"},{\"attributes\":{\"data_source\":{\"id\":\"46236\",\"type\":\"ColumnDataSource\"},\"glyph\":{\"id\":\"46237\",\"type\":\"Line\"},\"hover_glyph\":null,\"muted_glyph\":null,\"nonselection_glyph\":{\"id\":\"46238\",\"type\":\"Line\"},\"selection_glyph\":null,\"view\":{\"id\":\"46240\",\"type\":\"CDSView\"}},\"id\":\"46239\",\"type\":\"GlyphRenderer\"},{\"attributes\":{\"callback\":null,\"data\":{\"x\":[0,1,2,3,4,5,6,7,8,9,10,11,12,13,14,15,16,17,18,19,20,21,22,23,24,25,26,27,28,29,30],\"y\":[81.27645447755,78.24715744045149,75.84861814258444,74.76969043074114,76.47937588181591,77.16822972860818,78.30525354801229,79.03560461449084,80.2556228732675,80.20582620964396,80.91127894431074,80.85318283674994,80.13113121420865,80.74529006556561,80.69549340194207,80.86978172462445,81.0523694912441,80.67889451406755,81.55033612747945,81.21005892605196,80.8780811685617,80.75358950950286,80.48800730351067,81.02747115943232,80.74529006556561,80.4631089716989,80.8614822806872,80.36351564445182,80.58760063075773,81.43414391235787,80.54610341107146]},\"selected\":{\"id\":\"47838\",\"type\":\"Selection\"},\"selection_policy\":{\"id\":\"47837\",\"type\":\"UnionRenderers\"}},\"id\":\"46191\",\"type\":\"ColumnDataSource\"},{\"attributes\":{},\"id\":\"47851\",\"type\":\"UnionRenderers\"},{\"attributes\":{\"data_source\":{\"id\":\"46216\",\"type\":\"ColumnDataSource\"},\"glyph\":{\"id\":\"46217\",\"type\":\"Line\"},\"hover_glyph\":null,\"muted_glyph\":null,\"nonselection_glyph\":{\"id\":\"46218\",\"type\":\"Line\"},\"selection_glyph\":null,\"view\":{\"id\":\"46220\",\"type\":\"CDSView\"}},\"id\":\"46219\",\"type\":\"GlyphRenderer\"},{\"attributes\":{\"source\":{\"id\":\"46201\",\"type\":\"ColumnDataSource\"}},\"id\":\"46205\",\"type\":\"CDSView\"},{\"attributes\":{\"line_color\":\"salmon\",\"line_dash\":[6],\"x\":{\"field\":\"x\"},\"y\":{\"field\":\"y\"}},\"id\":\"46247\",\"type\":\"Line\"},{\"attributes\":{},\"id\":\"47852\",\"type\":\"Selection\"},{\"attributes\":{\"data_source\":{\"id\":\"46206\",\"type\":\"ColumnDataSource\"},\"glyph\":{\"id\":\"46207\",\"type\":\"Line\"},\"hover_glyph\":null,\"muted_glyph\":null,\"nonselection_glyph\":{\"id\":\"46208\",\"type\":\"Line\"},\"selection_glyph\":null,\"view\":{\"id\":\"46210\",\"type\":\"CDSView\"}},\"id\":\"46209\",\"type\":\"GlyphRenderer\"},{\"attributes\":{\"source\":{\"id\":\"46256\",\"type\":\"ColumnDataSource\"}},\"id\":\"46260\",\"type\":\"CDSView\"},{\"attributes\":{\"data_source\":{\"id\":\"46201\",\"type\":\"ColumnDataSource\"},\"glyph\":{\"id\":\"46202\",\"type\":\"Circle\"},\"hover_glyph\":null,\"muted_glyph\":null,\"nonselection_glyph\":{\"id\":\"46203\",\"type\":\"Circle\"},\"selection_glyph\":null,\"view\":{\"id\":\"46205\",\"type\":\"CDSView\"}},\"id\":\"46204\",\"type\":\"GlyphRenderer\"},{\"attributes\":{\"fill_color\":{\"value\":\"purple\"},\"line_color\":{\"value\":\"purple\"},\"x\":{\"field\":\"x\"},\"y\":{\"field\":\"y\"}},\"id\":\"46242\",\"type\":\"Circle\"},{\"attributes\":{},\"id\":\"47853\",\"type\":\"UnionRenderers\"},{\"attributes\":{\"line_color\":\"orange\",\"line_dash\":[6],\"x\":{\"field\":\"x\"},\"y\":{\"field\":\"y\"}},\"id\":\"46197\",\"type\":\"Line\"},{\"attributes\":{\"fill_color\":{\"value\":\"black\"},\"x\":{\"field\":\"x\"},\"y\":{\"field\":\"y\"}},\"id\":\"46262\",\"type\":\"Circle\"},{\"attributes\":{\"data_source\":{\"id\":\"46256\",\"type\":\"ColumnDataSource\"},\"glyph\":{\"id\":\"46257\",\"type\":\"Line\"},\"hover_glyph\":null,\"muted_glyph\":null,\"nonselection_glyph\":{\"id\":\"46258\",\"type\":\"Line\"},\"selection_glyph\":null,\"view\":{\"id\":\"46260\",\"type\":\"CDSView\"}},\"id\":\"46259\",\"type\":\"GlyphRenderer\"},{\"attributes\":{\"callback\":null,\"data\":{\"x\":[0,1,2,3,4,5,6,7,8,9,10,11,12,13,14,15,16,17,18,19,20,21,22,23,24,25,26,27,28,29,30],\"y\":[51.298862976180594,48.16997261183501,44.58461283094033,40.10291310482198,38.83309818242178,38.16914266744128,37.9201593493236,37.87036268570006,37.87036268570006,37.5217860403353,37.455390488837246,37.48858826458627,37.48858826458627,37.505187152460785,37.26450327828036,37.09851439953523,37.13171217528426,37.21470661465682,37.04041829197444,37.11511328740974,37.123412731347,37.123412731347,37.206407170719565,37.09021495559797,37.04041829197444,37.04041829197444,37.09021495559797,37.10681384347249,37.03211884803718,37.11511328740974,36.998921072288155]},\"selected\":{\"id\":\"47858\",\"type\":\"Selection\"},\"selection_policy\":{\"id\":\"47857\",\"type\":\"UnionRenderers\"}},\"id\":\"46241\",\"type\":\"ColumnDataSource\"},{\"attributes\":{},\"id\":\"47854\",\"type\":\"Selection\"},{\"attributes\":{\"data_source\":{\"id\":\"46196\",\"type\":\"ColumnDataSource\"},\"glyph\":{\"id\":\"46197\",\"type\":\"Line\"},\"hover_glyph\":null,\"muted_glyph\":null,\"nonselection_glyph\":{\"id\":\"46198\",\"type\":\"Line\"},\"selection_glyph\":null,\"view\":{\"id\":\"46200\",\"type\":\"CDSView\"}},\"id\":\"46199\",\"type\":\"GlyphRenderer\"},{\"attributes\":{\"fill_alpha\":{\"value\":0.1},\"fill_color\":{\"value\":\"#1f77b4\"},\"line_alpha\":{\"value\":0.1},\"line_color\":{\"value\":\"#1f77b4\"},\"x\":{\"field\":\"x\"},\"y\":{\"field\":\"y\"}},\"id\":\"46203\",\"type\":\"Circle\"},{\"attributes\":{},\"id\":\"47855\",\"type\":\"UnionRenderers\"},{\"attributes\":{\"line_alpha\":0.1,\"line_color\":\"#1f77b4\",\"line_dash\":[6],\"x\":{\"field\":\"x\"},\"y\":{\"field\":\"y\"}},\"id\":\"46248\",\"type\":\"Line\"},{\"attributes\":{\"bottom_units\":\"screen\",\"fill_alpha\":{\"value\":0.5},\"fill_color\":{\"value\":\"lightgrey\"},\"left_units\":\"screen\",\"level\":\"overlay\",\"line_alpha\":{\"value\":1.0},\"line_color\":{\"value\":\"black\"},\"line_dash\":[4,4],\"line_width\":{\"value\":2},\"plot\":null,\"render_mode\":\"css\",\"right_units\":\"screen\",\"top_units\":\"screen\"},\"id\":\"46179\",\"type\":\"BoxAnnotation\"},{\"attributes\":{},\"id\":\"47856\",\"type\":\"Selection\"},{\"attributes\":{\"callback\":null,\"data\":{\"x\":[0,1,2,3,4,5,6,7,8,9,10,11,12,13,14,15,16,17,18,19,20,21,22,23,24,25,26,27,28,29,30],\"y\":[57.3242592746286,54.30326168146734,50.89219022325504,47.024649348493654,46.24450161839157,46.543281600132794,46.60967715163084,46.60137770769359,46.94165490912109,46.949954353058345,46.76736658643871,46.84206158187401,47.16573989542701,47.66370653166238,47.74670097103494,47.59731098016433,48.00398373308988,47.97908540127811,47.89609096190555,47.962486513403604,48.13677483608598,48.086978172462445,48.14507428002324,48.13677483608598,48.14507428002324,48.12847539214873,47.937588181591835,47.94588762552909,47.97908540127811,47.779898746783964,47.755000414972194]},\"selected\":{\"id\":\"47844\",\"type\":\"Selection\"},\"selection_policy\":{\"id\":\"47843\",\"type\":\"UnionRenderers\"}},\"id\":\"46206\",\"type\":\"ColumnDataSource\"},{\"attributes\":{\"data_source\":{\"id\":\"46261\",\"type\":\"ColumnDataSource\"},\"glyph\":{\"id\":\"46262\",\"type\":\"Circle\"},\"hover_glyph\":null,\"muted_glyph\":null,\"nonselection_glyph\":{\"id\":\"46263\",\"type\":\"Circle\"},\"selection_glyph\":null,\"view\":{\"id\":\"46265\",\"type\":\"CDSView\"}},\"id\":\"46264\",\"type\":\"GlyphRenderer\"},{\"attributes\":{\"callback\":null,\"data\":{\"x\":[0,1,2,3,4,5,6,7,8,9,10,11,12,13,14,15,16,17,18,19,20,21,22,23,24,25,26,27,28,29,30],\"y\":[69.87301850775998,67.28359199933604,64.84355548178272,62.77699394140593,62.42841729604117,62.89318615652751,63.72313055025313,63.6152377790688,64.22939663042577,64.8269565939082,64.76886048634742,64.8103577060337,65.24192879077101,65.70669765125737,65.27512656652004,65.95568096937505,66.21296373143,65.84778819819073,66.22126317536726,66.36235372230061,66.56983982073201,66.76072703128891,65.80629097850444,66.38725205411238,66.84372147066146,66.42874927379866,66.20466428749273,66.26276039505353,66.20466428749273,66.35405427836335,66.21296373143]},\"selected\":{\"id\":\"47840\",\"type\":\"Selection\"},\"selection_policy\":{\"id\":\"47839\",\"type\":\"UnionRenderers\"}},\"id\":\"46196\",\"type\":\"ColumnDataSource\"},{\"attributes\":{},\"id\":\"47857\",\"type\":\"UnionRenderers\"},{\"attributes\":{\"line_alpha\":0.1,\"line_color\":\"#1f77b4\",\"line_dash\":[6],\"x\":{\"field\":\"x\"},\"y\":{\"field\":\"y\"}},\"id\":\"46208\",\"type\":\"Line\"},{\"attributes\":{\"fill_color\":{\"value\":\"brown\"},\"line_color\":{\"value\":\"brown\"},\"x\":{\"field\":\"x\"},\"y\":{\"field\":\"y\"}},\"id\":\"46232\",\"type\":\"Circle\"},{\"attributes\":{\"line_alpha\":0.1,\"line_color\":\"#1f77b4\",\"line_dash\":[6],\"x\":{\"field\":\"x\"},\"y\":{\"field\":\"y\"}},\"id\":\"46278\",\"type\":\"Line\"},{\"attributes\":{},\"id\":\"47858\",\"type\":\"Selection\"},{\"attributes\":{\"data_source\":{\"id\":\"46271\",\"type\":\"ColumnDataSource\"},\"glyph\":{\"id\":\"46272\",\"type\":\"Circle\"},\"hover_glyph\":null,\"muted_glyph\":null,\"nonselection_glyph\":{\"id\":\"46273\",\"type\":\"Circle\"},\"selection_glyph\":null,\"view\":{\"id\":\"46275\",\"type\":\"CDSView\"}},\"id\":\"46274\",\"type\":\"GlyphRenderer\"},{\"attributes\":{\"fill_alpha\":{\"value\":0.1},\"fill_color\":{\"value\":\"#1f77b4\"},\"line_alpha\":{\"value\":0.1},\"line_color\":{\"value\":\"#1f77b4\"},\"x\":{\"field\":\"x\"},\"y\":{\"field\":\"y\"}},\"id\":\"46193\",\"type\":\"Circle\"},{\"attributes\":{\"source\":{\"id\":\"46226\",\"type\":\"ColumnDataSource\"}},\"id\":\"46230\",\"type\":\"CDSView\"},{\"attributes\":{\"line_alpha\":0.1,\"line_color\":\"#1f77b4\",\"line_dash\":[6],\"x\":{\"field\":\"x\"},\"y\":{\"field\":\"y\"}},\"id\":\"46258\",\"type\":\"Line\"},{\"attributes\":{},\"id\":\"47859\",\"type\":\"UnionRenderers\"},{\"attributes\":{\"data_source\":{\"id\":\"46221\",\"type\":\"ColumnDataSource\"},\"glyph\":{\"id\":\"46222\",\"type\":\"Circle\"},\"hover_glyph\":null,\"muted_glyph\":null,\"nonselection_glyph\":{\"id\":\"46223\",\"type\":\"Circle\"},\"selection_glyph\":null,\"view\":{\"id\":\"46225\",\"type\":\"CDSView\"}},\"id\":\"46224\",\"type\":\"GlyphRenderer\"},{\"attributes\":{\"source\":{\"id\":\"46281\",\"type\":\"ColumnDataSource\"}},\"id\":\"46285\",\"type\":\"CDSView\"},{\"attributes\":{\"source\":{\"id\":\"46191\",\"type\":\"ColumnDataSource\"}},\"id\":\"46195\",\"type\":\"CDSView\"},{\"attributes\":{\"callback\":null,\"data\":{\"x\":[0,1,2,3,4,5,6,7,8,9,10,11,12,13,14,15,16,17,18,19,20,21,22,23,24,25,26,27,28,29,30],\"y\":[53.89658892854179,50.85899244750602,47.57241264835256,43.787866212963735,42.69233961324591,42.17777408913603,41.91219188314383,41.74620300439871,41.356129139347665,41.28973358784961,41.43912357872023,41.23993692422608,41.54701634990456,41.49721968628102,41.704705784712424,41.464021910532,41.43912357872023,41.48892024234376,41.74620300439871,41.837496887708525,41.79599966802224,41.64660967715163,41.59681301352809,41.5387169059673,41.72130467258694,41.82089799983401,41.82089799983401,41.90389243920657,41.8042991119595,41.95368910283011,41.75450244833596]},\"selected\":{\"id\":\"47848\",\"type\":\"Selection\"},\"selection_policy\":{\"id\":\"47847\",\"type\":\"UnionRenderers\"}},\"id\":\"46216\",\"type\":\"ColumnDataSource\"},{\"attributes\":{\"fill_alpha\":{\"value\":0.1},\"fill_color\":{\"value\":\"#1f77b4\"},\"line_alpha\":{\"value\":0.1},\"line_color\":{\"value\":\"#1f77b4\"},\"x\":{\"field\":\"x\"},\"y\":{\"field\":\"y\"}},\"id\":\"46253\",\"type\":\"Circle\"},{\"attributes\":{\"line_color\":\"brown\",\"line_dash\":[6],\"x\":{\"field\":\"x\"},\"y\":{\"field\":\"y\"}},\"id\":\"46227\",\"type\":\"Line\"},{\"attributes\":{\"callback\":null,\"data\":{\"x\":[0,1,2,3,4,5,6,7,8,9,10,11,12,13,14,15,16,17,18,19,20,21,22,23,24,25,26,27,28,29,30],\"y\":[50.93368744294132,48.742634243505684,43.62187733421861,38.55921653249232,36.98232218441365,36.17727612249979,35.7208067059507,35.480122831770274,35.34733172877417,35.38882894846045,35.305834509087894,35.3224333969624,35.23943895758984,35.09004896671923,34.85766453647606,34.8493650925388,34.95725786372313,34.973856751597644,34.8493650925388,34.78296954104075,34.899161756162336,34.85766453647606,34.81616731678977,34.749771765291726,34.72487343347996,34.66677732591916,34.5837828865466,34.67507676985642,34.74147232135447,34.65847788198191,34.69167565773093]},\"selected\":{\"id\":\"47874\",\"type\":\"Selection\"},\"selection_policy\":{\"id\":\"47873\",\"type\":\"UnionRenderers\"}},\"id\":\"46281\",\"type\":\"ColumnDataSource\"},{\"attributes\":{},\"id\":\"47860\",\"type\":\"Selection\"},{\"attributes\":{\"data_source\":{\"id\":\"46276\",\"type\":\"ColumnDataSource\"},\"glyph\":{\"id\":\"46277\",\"type\":\"Line\"},\"hover_glyph\":null,\"muted_glyph\":null,\"nonselection_glyph\":{\"id\":\"46278\",\"type\":\"Line\"},\"selection_glyph\":null,\"view\":{\"id\":\"46280\",\"type\":\"CDSView\"}},\"id\":\"46279\",\"type\":\"GlyphRenderer\"},{\"attributes\":{},\"id\":\"47861\",\"type\":\"UnionRenderers\"},{\"attributes\":{\"line_alpha\":0.1,\"line_color\":\"#1f77b4\",\"line_dash\":[6],\"x\":{\"field\":\"x\"},\"y\":{\"field\":\"y\"}},\"id\":\"46198\",\"type\":\"Line\"},{\"attributes\":{\"fill_color\":{\"value\":\"red\"},\"line_color\":{\"value\":\"red\"},\"x\":{\"field\":\"x\"},\"y\":{\"field\":\"y\"}},\"id\":\"46222\",\"type\":\"Circle\"},{\"attributes\":{\"line_color\":\"darkblue\",\"line_dash\":[6],\"x\":{\"field\":\"x\"},\"y\":{\"field\":\"y\"}},\"id\":\"46267\",\"type\":\"Line\"},{\"attributes\":{\"data_source\":{\"id\":\"46281\",\"type\":\"ColumnDataSource\"},\"glyph\":{\"id\":\"46282\",\"type\":\"Circle\"},\"hover_glyph\":null,\"muted_glyph\":null,\"nonselection_glyph\":{\"id\":\"46283\",\"type\":\"Circle\"},\"selection_glyph\":null,\"view\":{\"id\":\"46285\",\"type\":\"CDSView\"}},\"id\":\"46284\",\"type\":\"GlyphRenderer\"},{\"attributes\":{\"line_color\":\"green\",\"line_dash\":[6],\"x\":{\"field\":\"x\"},\"y\":{\"field\":\"y\"}},\"id\":\"46207\",\"type\":\"Line\"},{\"attributes\":{},\"id\":\"47862\",\"type\":\"Selection\"},{\"attributes\":{\"callback\":null,\"data\":{\"x\":[0,1,2,3,4,5,6,7,8,9,10,11,12,13,14,15,16,17,18,19,20,21,22,23,24,25,26,27,28,29,30],\"y\":[51.92962071541207,49.506183085733255,45.62204332309735,41.505519130218275,39.912025894265085,39.28956759897087,38.799900406672755,38.67540874761391,38.42642542949623,38.37662876587269,38.10274711594323,37.986554900821645,37.787368246327496,37.886961573574574,37.87866212963731,37.87036268570006,37.62137936758237,37.74587102664122,37.662876587268656,37.637978255456886,37.654577143331394,37.62137936758237,37.679475475143164,37.87866212963731,37.73757158270396,37.77076935845298,37.68777491908042,37.85376379782554,37.71267325089219,37.71267325089219,37.72097269482945]},\"selected\":{\"id\":\"47852\",\"type\":\"Selection\"},\"selection_policy\":{\"id\":\"47851\",\"type\":\"UnionRenderers\"}},\"id\":\"46226\",\"type\":\"ColumnDataSource\"},{\"attributes\":{\"callback\":null,\"data\":{\"x\":[0,1,2,3,4,5,6,7,8,9,10,11,12,13,14,15,16,17,18,19,20,21,22,23,24,25,26,27,28,29,30],\"y\":[51.04987965806291,48.10357706033696,43.630176778155864,39.20657315959831,37.82056602207652,37.206407170719565,36.525852767864556,36.09428168312723,36.01958668769193,36.01958668769193,35.89509502863308,35.78720225744875,35.89509502863308,35.77060336957424,35.729106149887954,35.78720225744875,35.97808946800564,35.67930948626442,35.57141671508009,35.554817827205575,35.5133206075193,35.42202672420948,35.6461117105154,35.47182338783301,35.48842227570753,35.563117271142836,35.48842227570753,35.37223006058594,35.455224499958504,35.34733172877417,35.3224333969624]},\"selected\":{\"id\":\"47868\",\"type\":\"Selection\"},\"selection_policy\":{\"id\":\"47867\",\"type\":\"UnionRenderers\"}},\"id\":\"46266\",\"type\":\"ColumnDataSource\"},{\"attributes\":{\"callback\":null,\"data\":{\"x\":[0,1,2,3,4,5,6,7,8,9,10,11,12,13,14,15,16,17,18,19,20,21,22,23,24,25,26,27,28,29,30],\"y\":[57.3242592746286,54.30326168146734,50.89219022325504,47.024649348493654,46.24450161839157,46.543281600132794,46.60967715163084,46.60137770769359,46.94165490912109,46.949954353058345,46.76736658643871,46.84206158187401,47.16573989542701,47.66370653166238,47.74670097103494,47.59731098016433,48.00398373308988,47.97908540127811,47.89609096190555,47.962486513403604,48.13677483608598,48.086978172462445,48.14507428002324,48.13677483608598,48.14507428002324,48.12847539214873,47.937588181591835,47.94588762552909,47.97908540127811,47.779898746783964,47.755000414972194]},\"selected\":{\"id\":\"47846\",\"type\":\"Selection\"},\"selection_policy\":{\"id\":\"47845\",\"type\":\"UnionRenderers\"}},\"id\":\"46211\",\"type\":\"ColumnDataSource\"},{\"attributes\":{\"callback\":null,\"data\":{\"x\":[0,1,2,3,4,5,6,7,8,9,10,11,12,13,14,15,16,17,18,19,20,21,22,23,24,25,26,27,28,29,30],\"y\":[51.08307743381194,49.73026807203917,44.493318947630506,40.09461366088472,38.111046559880485,37.23960494646859,37.11511328740974,36.90762718897834,36.63374553904888,36.492654992115526,36.467756660303756,36.3847622209312,36.2519711179351,36.3847622209312,36.47605610424102,36.492654992115526,36.60054776329986,36.63374553904888,36.35156444518217,36.235372230060584,36.27686944974687,36.13577890281351,36.3847622209312,36.42625944061748,36.31006722549589,35.9863889119429,36.467756660303756,36.42625944061748,36.2519711179351,36.193875010374306,36.13577890281351]},\"selected\":{\"id\":\"47860\",\"type\":\"Selection\"},\"selection_policy\":{\"id\":\"47859\",\"type\":\"UnionRenderers\"}},\"id\":\"46246\",\"type\":\"ColumnDataSource\"},{\"attributes\":{},\"id\":\"47863\",\"type\":\"UnionRenderers\"},{\"attributes\":{\"fill_alpha\":{\"value\":0.1},\"fill_color\":{\"value\":\"#1f77b4\"},\"line_alpha\":{\"value\":0.1},\"line_color\":{\"value\":\"#1f77b4\"},\"x\":{\"field\":\"x\"},\"y\":{\"field\":\"y\"}},\"id\":\"46273\",\"type\":\"Circle\"},{\"attributes\":{},\"id\":\"47864\",\"type\":\"Selection\"},{\"attributes\":{\"data_source\":{\"id\":\"46266\",\"type\":\"ColumnDataSource\"},\"glyph\":{\"id\":\"46267\",\"type\":\"Line\"},\"hover_glyph\":null,\"muted_glyph\":null,\"nonselection_glyph\":{\"id\":\"46268\",\"type\":\"Line\"},\"selection_glyph\":null,\"view\":{\"id\":\"46270\",\"type\":\"CDSView\"}},\"id\":\"46269\",\"type\":\"GlyphRenderer\"},{\"attributes\":{\"fill_alpha\":{\"value\":0.1},\"fill_color\":{\"value\":\"#1f77b4\"},\"line_alpha\":{\"value\":0.1},\"line_color\":{\"value\":\"#1f77b4\"},\"x\":{\"field\":\"x\"},\"y\":{\"field\":\"y\"}},\"id\":\"46223\",\"type\":\"Circle\"},{\"attributes\":{\"callback\":null},\"id\":\"46153\",\"type\":\"DataRange1d\"},{\"attributes\":{\"source\":{\"id\":\"46221\",\"type\":\"ColumnDataSource\"}},\"id\":\"46225\",\"type\":\"CDSView\"},{\"attributes\":{},\"id\":\"47865\",\"type\":\"UnionRenderers\"},{\"attributes\":{\"source\":{\"id\":\"46236\",\"type\":\"ColumnDataSource\"}},\"id\":\"46240\",\"type\":\"CDSView\"},{\"attributes\":{\"line_dash\":[6],\"x\":{\"field\":\"x\"},\"y\":{\"field\":\"y\"}},\"id\":\"46257\",\"type\":\"Line\"},{\"attributes\":{},\"id\":\"47866\",\"type\":\"Selection\"},{\"attributes\":{\"fill_alpha\":{\"value\":0.1},\"fill_color\":{\"value\":\"#1f77b4\"},\"line_alpha\":{\"value\":0.1},\"line_color\":{\"value\":\"#1f77b4\"},\"x\":{\"field\":\"x\"},\"y\":{\"field\":\"y\"}},\"id\":\"46263\",\"type\":\"Circle\"},{\"attributes\":{\"line_color\":\"blue\",\"line_dash\":[6],\"x\":{\"field\":\"x\"},\"y\":{\"field\":\"y\"}},\"id\":\"46187\",\"type\":\"Line\"},{\"attributes\":{\"line_color\":\"purple\",\"line_dash\":[6],\"x\":{\"field\":\"x\"},\"y\":{\"field\":\"y\"}},\"id\":\"46237\",\"type\":\"Line\"},{\"attributes\":{\"fill_color\":{\"value\":\"darkblue\"},\"line_color\":{\"value\":\"darkblue\"},\"x\":{\"field\":\"x\"},\"y\":{\"field\":\"y\"}},\"id\":\"46272\",\"type\":\"Circle\"},{\"attributes\":{},\"id\":\"47867\",\"type\":\"UnionRenderers\"},{\"attributes\":{\"callback\":null,\"data\":{\"x\":[0,1,2,3,4,5,6,7,8,9,10,11,12,13,14,15,16,17,18,19,20,21,22,23,24,25,26,27,28,29,30],\"y\":[50.93368744294132,48.742634243505684,43.62187733421861,38.55921653249232,36.98232218441365,36.17727612249979,35.7208067059507,35.480122831770274,35.34733172877417,35.38882894846045,35.305834509087894,35.3224333969624,35.23943895758984,35.09004896671923,34.85766453647606,34.8493650925388,34.95725786372313,34.973856751597644,34.8493650925388,34.78296954104075,34.899161756162336,34.85766453647606,34.81616731678977,34.749771765291726,34.72487343347996,34.66677732591916,34.5837828865466,34.67507676985642,34.74147232135447,34.65847788198191,34.69167565773093]},\"selected\":{\"id\":\"47872\",\"type\":\"Selection\"},\"selection_policy\":{\"id\":\"47871\",\"type\":\"UnionRenderers\"}},\"id\":\"46276\",\"type\":\"ColumnDataSource\"},{\"attributes\":{},\"id\":\"47868\",\"type\":\"Selection\"},{\"attributes\":{},\"id\":\"47869\",\"type\":\"UnionRenderers\"},{\"attributes\":{},\"id\":\"47870\",\"type\":\"Selection\"},{\"attributes\":{},\"id\":\"47871\",\"type\":\"UnionRenderers\"},{\"attributes\":{},\"id\":\"47872\",\"type\":\"Selection\"},{\"attributes\":{},\"id\":\"47873\",\"type\":\"UnionRenderers\"},{\"attributes\":{\"callback\":null,\"data\":{\"x\":[0,1,2,3,4,5,6,7,8,9,10,11,12,13,14,15,16,17,18,19,20,21,22,23,24,25,26,27,28,29,30],\"y\":[81.27645447755,78.24715744045149,75.84861814258444,74.76969043074114,76.47937588181591,77.16822972860818,78.30525354801229,79.03560461449084,80.2556228732675,80.20582620964396,80.91127894431074,80.85318283674994,80.13113121420865,80.74529006556561,80.69549340194207,80.86978172462445,81.0523694912441,80.67889451406755,81.55033612747945,81.21005892605196,80.8780811685617,80.75358950950286,80.48800730351067,81.02747115943232,80.74529006556561,80.4631089716989,80.8614822806872,80.36351564445182,80.58760063075773,81.43414391235787,80.54610341107146]},\"selected\":{\"id\":\"47836\",\"type\":\"Selection\"},\"selection_policy\":{\"id\":\"47835\",\"type\":\"UnionRenderers\"}},\"id\":\"46186\",\"type\":\"ColumnDataSource\"},{\"attributes\":{},\"id\":\"47874\",\"type\":\"Selection\"},{\"attributes\":{\"callback\":null,\"end\":100},\"id\":\"46155\",\"type\":\"Range1d\"},{\"attributes\":{},\"id\":\"46157\",\"type\":\"LinearScale\"},{\"attributes\":{\"formatter\":{\"id\":\"47831\",\"type\":\"BasicTickFormatter\"},\"plot\":{\"id\":\"46152\",\"subtype\":\"Figure\",\"type\":\"Plot\"},\"ticker\":{\"id\":\"46162\",\"type\":\"BasicTicker\"}},\"id\":\"46161\",\"type\":\"LinearAxis\"},{\"attributes\":{},\"id\":\"46159\",\"type\":\"LinearScale\"},{\"attributes\":{\"plot\":{\"id\":\"46152\",\"subtype\":\"Figure\",\"type\":\"Plot\"},\"ticker\":{\"id\":\"46162\",\"type\":\"BasicTicker\"}},\"id\":\"46165\",\"type\":\"Grid\"},{\"attributes\":{},\"id\":\"46162\",\"type\":\"BasicTicker\"},{\"attributes\":{},\"id\":\"46167\",\"type\":\"BasicTicker\"},{\"attributes\":{\"formatter\":{\"id\":\"47833\",\"type\":\"BasicTickFormatter\"},\"plot\":{\"id\":\"46152\",\"subtype\":\"Figure\",\"type\":\"Plot\"},\"ticker\":{\"id\":\"46167\",\"type\":\"BasicTicker\"}},\"id\":\"46166\",\"type\":\"LinearAxis\"}],\"root_ids\":[\"46152\"]},\"title\":\"Bokeh Application\",\"version\":\"1.0.0\"}};\n",
       "  var render_items = [{\"docid\":\"d4b84410-dde6-4529-b382-6473726361a1\",\"roots\":{\"46152\":\"a50192d7-015c-4c21-b5df-8b279b0416e9\"}}];\n",
       "  root.Bokeh.embed.embed_items_notebook(docs_json, render_items);\n",
       "\n",
       "  }\n",
       "  if (root.Bokeh !== undefined) {\n",
       "    embed_document(root);\n",
       "  } else {\n",
       "    var attempts = 0;\n",
       "    var timer = setInterval(function(root) {\n",
       "      if (root.Bokeh !== undefined) {\n",
       "        embed_document(root);\n",
       "        clearInterval(timer);\n",
       "      }\n",
       "      attempts++;\n",
       "      if (attempts > 100) {\n",
       "        console.log(\"Bokeh: ERROR: Unable to run BokehJS code because BokehJS library is missing\");\n",
       "        clearInterval(timer);\n",
       "      }\n",
       "    }, 10, root)\n",
       "  }\n",
       "})(window);"
      ],
      "application/vnd.bokehjs_exec.v0+json": ""
     },
     "metadata": {
      "application/vnd.bokehjs_exec.v0+json": {
       "id": "46152"
      }
     },
     "output_type": "display_data"
    }
   ],
   "source": [
    "ref = 'data/timit/test/trans'\n",
    "\n",
    "ldims = [2, 5, 10, 15, 20, 25, 30, 35, 40, 45]\n",
    "colors = ['blue', 'orange', 'green', 'red', 'brown', 'purple', 'salmon', 'black', 'darkblue', 'grey']\n",
    "fig = figure(y_range=(0, 100))\n",
    "dim_wers = {}\n",
    "for ldim, color in zip(ldims, colors):\n",
    "    wers = []\n",
    "    for i in range(0, 31):\n",
    "        hyp = f'exp/timit/dsubspace_monophone_mbn_babel_ldim{ldim}/decode_e{i}_ac1.0/test/trans'\n",
    "        if not os.path.isfile(hyp):\n",
    "            continue\n",
    "        def load_trans(transfile, mapping=None):\n",
    "            with open(transfile, 'r') as f:\n",
    "                utt_trans = {}\n",
    "                for line in f:\n",
    "                    tokens = line.strip().split()\n",
    "                    uttid, trans = tokens[0], tokens[1:]\n",
    "                    if mapping is not None:\n",
    "                        trans = [mapping[token] for token in trans]\n",
    "                    utt_trans[uttid] = list(filter(lambda a: a != 'sil', trans))\n",
    "            return utt_trans\n",
    "\n",
    "        ref_trans = load_trans(ref, phonemap)\n",
    "        hyp_trans = load_trans(hyp, phonemap)\n",
    "\n",
    "        acc_wer = 0\n",
    "        nwords = 0\n",
    "        for utt in ref_trans:\n",
    "            ref_t, hyp_t = ref_trans[utt], hyp_trans[utt]\n",
    "            acc_wer += wer(ref_t, hyp_t)\n",
    "            nwords += len(ref_t)\n",
    "        wers.append(100 * acc_wer/nwords )\n",
    "    if len(wers) > 0:\n",
    "        print(wers[-1])\n",
    "    dim_wers[ldim] = wers\n",
    "    fig.line(range(len(wers)), wers, color=color, line_dash='dashed')\n",
    "    fig.circle(range(len(wers)), wers, color=color)\n",
    "\n",
    "show(fig)"
   ]
  },
  {
   "cell_type": "code",
   "execution_count": 85,
   "metadata": {},
   "outputs": [
    {
     "name": "stdout",
     "output_type": "stream",
     "text": [
      "84.30575151464852\n",
      "70.08880405012864\n",
      "51.92132127147481\n",
      "44.37712673250892\n",
      "39.52195202921404\n",
      "37.306000497966636\n",
      "36.06938335131546\n",
      "35.46352394389576\n",
      "35.47182338783301\n",
      "35.14814507428002\n"
     ]
    },
    {
     "data": {
      "text/html": [
       "\n",
       "\n",
       "\n",
       "\n",
       "\n",
       "\n",
       "  <div class=\"bk-root\" id=\"b7fa65ff-5eff-420e-8606-d57cf7d6f632\"></div>\n"
      ]
     },
     "metadata": {},
     "output_type": "display_data"
    },
    {
     "data": {
      "application/javascript": [
       "(function(root) {\n",
       "  function embed_document(root) {\n",
       "    \n",
       "  var docs_json = {\"fa1b02a9-2bf6-4869-9667-aadd939896db\":{\"roots\":{\"references\":[{\"attributes\":{\"below\":[{\"id\":\"40428\",\"type\":\"LinearAxis\"}],\"left\":[{\"id\":\"40433\",\"type\":\"LinearAxis\"}],\"renderers\":[{\"id\":\"40428\",\"type\":\"LinearAxis\"},{\"id\":\"40432\",\"type\":\"Grid\"},{\"id\":\"40433\",\"type\":\"LinearAxis\"},{\"id\":\"40437\",\"type\":\"Grid\"},{\"id\":\"40446\",\"type\":\"BoxAnnotation\"},{\"id\":\"40456\",\"type\":\"GlyphRenderer\"},{\"id\":\"40461\",\"type\":\"GlyphRenderer\"},{\"id\":\"40466\",\"type\":\"GlyphRenderer\"},{\"id\":\"40471\",\"type\":\"GlyphRenderer\"},{\"id\":\"40476\",\"type\":\"GlyphRenderer\"},{\"id\":\"40481\",\"type\":\"GlyphRenderer\"},{\"id\":\"40486\",\"type\":\"GlyphRenderer\"},{\"id\":\"40491\",\"type\":\"GlyphRenderer\"},{\"id\":\"40496\",\"type\":\"GlyphRenderer\"},{\"id\":\"40501\",\"type\":\"GlyphRenderer\"},{\"id\":\"40506\",\"type\":\"GlyphRenderer\"},{\"id\":\"40511\",\"type\":\"GlyphRenderer\"},{\"id\":\"40516\",\"type\":\"GlyphRenderer\"},{\"id\":\"40521\",\"type\":\"GlyphRenderer\"},{\"id\":\"40526\",\"type\":\"GlyphRenderer\"},{\"id\":\"40531\",\"type\":\"GlyphRenderer\"},{\"id\":\"40536\",\"type\":\"GlyphRenderer\"},{\"id\":\"40541\",\"type\":\"GlyphRenderer\"},{\"id\":\"40546\",\"type\":\"GlyphRenderer\"},{\"id\":\"40551\",\"type\":\"GlyphRenderer\"}],\"title\":{\"id\":\"41955\",\"type\":\"Title\"},\"toolbar\":{\"id\":\"40444\",\"type\":\"Toolbar\"},\"x_range\":{\"id\":\"40420\",\"type\":\"DataRange1d\"},\"x_scale\":{\"id\":\"40424\",\"type\":\"LinearScale\"},\"y_range\":{\"id\":\"40422\",\"type\":\"Range1d\"},\"y_scale\":{\"id\":\"40426\",\"type\":\"LinearScale\"}},\"id\":\"40419\",\"subtype\":\"Figure\",\"type\":\"Plot\"},{\"attributes\":{\"callback\":null,\"data\":{\"x\":[0,1,2,3,4,5,6,7,8,9,10,11,12,13,14,15,16,17,18,19,20,21,22,23,24,25,26,27,28,29,30],\"y\":[51.34036019586688,48.692837579882145,43.962154535646114,40.73367084405345,39.430658145904225,38.999087061166904,38.443024317370735,38.492820980994274,38.35173043406092,38.02805212050792,37.87036268570006,37.662876587268656,37.505187152460785,37.347497717652914,37.347497717652914,37.24790439040584,37.47198937671176,37.554983816084324,37.505187152460785,37.51348659639804,37.51348659639804,37.33919827371566,37.455390488837246,37.5217860403353,37.33919827371566,37.49688770852353,37.44709104489999,37.47198937671176,37.44709104489999,37.44709104489999,37.306000497966636]},\"selected\":{\"id\":\"41984\",\"type\":\"Selection\"},\"selection_policy\":{\"id\":\"41983\",\"type\":\"UnionRenderers\"}},\"id\":\"40508\",\"type\":\"ColumnDataSource\"},{\"attributes\":{\"data_source\":{\"id\":\"40508\",\"type\":\"ColumnDataSource\"},\"glyph\":{\"id\":\"40509\",\"type\":\"Circle\"},\"hover_glyph\":null,\"muted_glyph\":null,\"nonselection_glyph\":{\"id\":\"40510\",\"type\":\"Circle\"},\"selection_glyph\":null,\"view\":{\"id\":\"40512\",\"type\":\"CDSView\"}},\"id\":\"40511\",\"type\":\"GlyphRenderer\"},{\"attributes\":{\"fill_alpha\":{\"value\":0.1},\"fill_color\":{\"value\":\"#1f77b4\"},\"line_alpha\":{\"value\":0.1},\"line_color\":{\"value\":\"#1f77b4\"},\"x\":{\"field\":\"x\"},\"y\":{\"field\":\"y\"}},\"id\":\"40540\",\"type\":\"Circle\"},{\"attributes\":{\"data_source\":{\"id\":\"40538\",\"type\":\"ColumnDataSource\"},\"glyph\":{\"id\":\"40539\",\"type\":\"Circle\"},\"hover_glyph\":null,\"muted_glyph\":null,\"nonselection_glyph\":{\"id\":\"40540\",\"type\":\"Circle\"},\"selection_glyph\":null,\"view\":{\"id\":\"40542\",\"type\":\"CDSView\"}},\"id\":\"40541\",\"type\":\"GlyphRenderer\"},{\"attributes\":{\"callback\":null,\"data\":{\"x\":[0,1,2,3,4,5,6,7,8,9,10,11,12,13,14,15,16,17,18,19,20,21,22,23,24,25,26,27,28,29,30],\"y\":[50.89219022325504,48.892024234376294,43.738069549340196,39.787534235206245,38.71690596730019,38.127645447755,37.77076935845298,37.330898829778405,37.007220516225416,36.96572329653913,36.45115777242925,36.53415221180181,36.27686944974687,36.2519711179351,36.27686944974687,36.193875010374306,36.2519711179351,36.33496555730766,36.07768279525272,36.044485019503696,36.085982239189974,36.06938335131546,36.061083907378205,36.11088057100174,35.91999336044485,35.886795584695825,35.94489169225662,35.77890281351149,36.01958668769193,36.119180014939,36.06938335131546]},\"selected\":{\"id\":\"41986\",\"type\":\"Selection\"},\"selection_policy\":{\"id\":\"41985\",\"type\":\"UnionRenderers\"}},\"id\":\"40513\",\"type\":\"ColumnDataSource\"},{\"attributes\":{\"data_source\":{\"id\":\"40533\",\"type\":\"ColumnDataSource\"},\"glyph\":{\"id\":\"40534\",\"type\":\"Line\"},\"hover_glyph\":null,\"muted_glyph\":null,\"nonselection_glyph\":{\"id\":\"40535\",\"type\":\"Line\"},\"selection_glyph\":null,\"view\":{\"id\":\"40537\",\"type\":\"CDSView\"}},\"id\":\"40536\",\"type\":\"GlyphRenderer\"},{\"attributes\":{\"source\":{\"id\":\"40538\",\"type\":\"ColumnDataSource\"}},\"id\":\"40542\",\"type\":\"CDSView\"},{\"attributes\":{\"line_alpha\":0.1,\"line_color\":\"#1f77b4\",\"x\":{\"field\":\"x\"},\"y\":{\"field\":\"y\"}},\"id\":\"40515\",\"type\":\"Line\"},{\"attributes\":{\"line_alpha\":0.1,\"line_color\":\"#1f77b4\",\"x\":{\"field\":\"x\"},\"y\":{\"field\":\"y\"}},\"id\":\"40535\",\"type\":\"Line\"},{\"attributes\":{\"callback\":null,\"data\":{\"x\":[0,1,2,3,4,5,6,7,8,9,10,11,12,13,14,15,16,17,18,19,20,21,22,23,24,25,26,27,28,29,30],\"y\":[51.13287409743547,49.21570254792929,43.90405842808532,38.95758984148062,37.37239604946468,36.675242758735166,36.13577890281351,35.79550170138601,35.480122831770274,35.355631172711426,35.355631172711426,35.16474396215454,34.924060087974105,34.85766453647606,34.96555730766039,34.874263424350566,34.973856751597644,35.114947298531,34.89086231222508,35.00705452734667,35.17304340609179,34.94065897584862,35.073450078844715,34.95725786372313,35.04025230309569,35.048551747032946,35.14814507428002,35.106647854593746,35.04025230309569,35.073450078844715,35.14814507428002]},\"selected\":{\"id\":\"42000\",\"type\":\"Selection\"},\"selection_policy\":{\"id\":\"41999\",\"type\":\"UnionRenderers\"}},\"id\":\"40548\",\"type\":\"ColumnDataSource\"},{\"attributes\":{},\"id\":\"41973\",\"type\":\"UnionRenderers\"},{\"attributes\":{\"source\":{\"id\":\"40503\",\"type\":\"ColumnDataSource\"}},\"id\":\"40507\",\"type\":\"CDSView\"},{\"attributes\":{},\"id\":\"41974\",\"type\":\"Selection\"},{\"attributes\":{\"x\":{\"field\":\"x\"},\"y\":{\"field\":\"y\"}},\"id\":\"40524\",\"type\":\"Line\"},{\"attributes\":{\"fill_color\":{\"value\":\"blue\"},\"line_color\":{\"value\":\"blue\"},\"x\":{\"field\":\"x\"},\"y\":{\"field\":\"y\"}},\"id\":\"40459\",\"type\":\"Circle\"},{\"attributes\":{\"source\":{\"id\":\"40508\",\"type\":\"ColumnDataSource\"}},\"id\":\"40512\",\"type\":\"CDSView\"},{\"attributes\":{},\"id\":\"41978\",\"type\":\"Selection\"},{\"attributes\":{\"callback\":null,\"data\":{\"x\":[0,1,2,3,4,5,6,7,8,9,10,11,12,13,14,15,16,17,18,19,20,21,22,23,24,25,26,27,28,29,30],\"y\":[59.863889119429,56.037845464353886,52.68487011370238,50.09544360527845,49.74686695991369,50.1037430492157,50.294630259772596,50.56021246576479,50.817495227819734,51.2407668686198,51.34865963980413,51.20756909287078,51.43995352311395,51.97111793509835,51.755332392729684,51.70553572910615,52.087310150219935,51.87982405178853,52.137106813843474,52.19520292140427,51.94621960328658,51.99601626691012,52.269897916839575,52.17860403352975,52.04581293053366,52.00431571084737,51.86322516391402,51.34036019586688,51.9047223836003,52.40268901983567,51.92132127147481]},\"selected\":{\"id\":\"41970\",\"type\":\"Selection\"},\"selection_policy\":{\"id\":\"41969\",\"type\":\"UnionRenderers\"}},\"id\":\"40473\",\"type\":\"ColumnDataSource\"},{\"attributes\":{\"source\":{\"id\":\"40533\",\"type\":\"ColumnDataSource\"}},\"id\":\"40537\",\"type\":\"CDSView\"},{\"attributes\":{\"fill_color\":{\"value\":\"darkblue\"},\"line_color\":{\"value\":\"darkblue\"},\"x\":{\"field\":\"x\"},\"y\":{\"field\":\"y\"}},\"id\":\"40539\",\"type\":\"Circle\"},{\"attributes\":{\"fill_color\":{\"value\":\"black\"},\"x\":{\"field\":\"x\"},\"y\":{\"field\":\"y\"}},\"id\":\"40529\",\"type\":\"Circle\"},{\"attributes\":{},\"id\":\"41965\",\"type\":\"UnionRenderers\"},{\"attributes\":{\"data_source\":{\"id\":\"40513\",\"type\":\"ColumnDataSource\"},\"glyph\":{\"id\":\"40514\",\"type\":\"Line\"},\"hover_glyph\":null,\"muted_glyph\":null,\"nonselection_glyph\":{\"id\":\"40515\",\"type\":\"Line\"},\"selection_glyph\":null,\"view\":{\"id\":\"40517\",\"type\":\"CDSView\"}},\"id\":\"40516\",\"type\":\"GlyphRenderer\"},{\"attributes\":{\"callback\":null,\"data\":{\"x\":[0,1,2,3,4,5,6,7,8,9,10,11,12,13,14,15,16,17,18,19,20,21,22,23,24,25,26,27,28,29,30],\"y\":[87.92430907129223,85.71665698398208,83.12723047555814,80.86978172462445,81.25155614573823,81.8657149970952,82.89484604531496,82.91144493318947,82.97784048468752,83.58369989210723,83.19362602705618,83.35961490580131,83.86588098597394,83.77458710266413,84.26425429496224,85.50917088555067,84.38044651008383,84.33064984646029,85.35978089468006,84.39704539795834,85.9573408581625,85.2186903477467,85.11909702049962,84.67922649182505,84.9531081417545,84.94480869781725,84.23935596315047,84.39704539795834,84.53813594489169,84.97800647356627,84.30575151464852]},\"selected\":{\"id\":\"41964\",\"type\":\"Selection\"},\"selection_policy\":{\"id\":\"41963\",\"type\":\"UnionRenderers\"}},\"id\":\"40458\",\"type\":\"ColumnDataSource\"},{\"attributes\":{\"plot\":null,\"text\":\"\"},\"id\":\"41955\",\"type\":\"Title\"},{\"attributes\":{},\"id\":\"41969\",\"type\":\"UnionRenderers\"},{\"attributes\":{\"line_alpha\":0.1,\"line_color\":\"#1f77b4\",\"x\":{\"field\":\"x\"},\"y\":{\"field\":\"y\"}},\"id\":\"40545\",\"type\":\"Line\"},{\"attributes\":{},\"id\":\"41962\",\"type\":\"Selection\"},{\"attributes\":{},\"id\":\"41959\",\"type\":\"BasicTickFormatter\"},{\"attributes\":{},\"id\":\"40438\",\"type\":\"PanTool\"},{\"attributes\":{},\"id\":\"41972\",\"type\":\"Selection\"},{\"attributes\":{\"data_source\":{\"id\":\"40518\",\"type\":\"ColumnDataSource\"},\"glyph\":{\"id\":\"40519\",\"type\":\"Circle\"},\"hover_glyph\":null,\"muted_glyph\":null,\"nonselection_glyph\":{\"id\":\"40520\",\"type\":\"Circle\"},\"selection_glyph\":null,\"view\":{\"id\":\"40522\",\"type\":\"CDSView\"}},\"id\":\"40521\",\"type\":\"GlyphRenderer\"},{\"attributes\":{},\"id\":\"40439\",\"type\":\"WheelZoomTool\"},{\"attributes\":{\"callback\":null,\"data\":{\"x\":[0,1,2,3,4,5,6,7,8,9,10,11,12,13,14,15,16,17,18,19,20,21,22,23,24,25,26,27,28,29,30],\"y\":[51.21586853680803,48.98331811768612,72.4458461283094,55.34899161756162,42.21097186488505,39.11527927628849,37.74587102664122,37.27280272221761,36.95742385260188,36.725039422358705,36.48435554817827,36.35156444518217,36.235372230060584,36.119180014939,36.06938335131546,35.961490580131134,35.74570503776247,35.762303925636985,70.15519960162669,53.97958336791435,39.7958336791435,37.77076935845298,36.74163831023321,36.393061664868455,36.193875010374306,36.15237779068802,35.861897252884056,35.69590837413893,35.62121337870363,35.5880156029546,35.46352394389576]},\"selected\":{\"id\":\"41990\",\"type\":\"Selection\"},\"selection_policy\":{\"id\":\"41989\",\"type\":\"UnionRenderers\"}},\"id\":\"40523\",\"type\":\"ColumnDataSource\"},{\"attributes\":{\"fill_color\":{\"value\":\"grey\"},\"line_color\":{\"value\":\"grey\"},\"x\":{\"field\":\"x\"},\"y\":{\"field\":\"y\"}},\"id\":\"40549\",\"type\":\"Circle\"},{\"attributes\":{\"data_source\":{\"id\":\"40548\",\"type\":\"ColumnDataSource\"},\"glyph\":{\"id\":\"40549\",\"type\":\"Circle\"},\"hover_glyph\":null,\"muted_glyph\":null,\"nonselection_glyph\":{\"id\":\"40550\",\"type\":\"Circle\"},\"selection_glyph\":null,\"view\":{\"id\":\"40552\",\"type\":\"CDSView\"}},\"id\":\"40551\",\"type\":\"GlyphRenderer\"},{\"attributes\":{\"overlay\":{\"id\":\"40446\",\"type\":\"BoxAnnotation\"}},\"id\":\"40440\",\"type\":\"BoxZoomTool\"},{\"attributes\":{},\"id\":\"41961\",\"type\":\"UnionRenderers\"},{\"attributes\":{},\"id\":\"40441\",\"type\":\"SaveTool\"},{\"attributes\":{},\"id\":\"40442\",\"type\":\"ResetTool\"},{\"attributes\":{\"data_source\":{\"id\":\"40503\",\"type\":\"ColumnDataSource\"},\"glyph\":{\"id\":\"40504\",\"type\":\"Line\"},\"hover_glyph\":null,\"muted_glyph\":null,\"nonselection_glyph\":{\"id\":\"40505\",\"type\":\"Line\"},\"selection_glyph\":null,\"view\":{\"id\":\"40507\",\"type\":\"CDSView\"}},\"id\":\"40506\",\"type\":\"GlyphRenderer\"},{\"attributes\":{},\"id\":\"41964\",\"type\":\"Selection\"},{\"attributes\":{},\"id\":\"40443\",\"type\":\"HelpTool\"},{\"attributes\":{\"line_color\":\"blue\",\"x\":{\"field\":\"x\"},\"y\":{\"field\":\"y\"}},\"id\":\"40454\",\"type\":\"Line\"},{\"attributes\":{\"callback\":null,\"data\":{\"x\":[0,1,2,3,4,5,6,7,8,9,10,11,12,13,14,15,16,17,18,19,20,21,22,23,24,25,26,27,28,29,30],\"y\":[51.13287409743547,49.21570254792929,43.90405842808532,38.95758984148062,37.37239604946468,36.675242758735166,36.13577890281351,35.79550170138601,35.480122831770274,35.355631172711426,35.355631172711426,35.16474396215454,34.924060087974105,34.85766453647606,34.96555730766039,34.874263424350566,34.973856751597644,35.114947298531,34.89086231222508,35.00705452734667,35.17304340609179,34.94065897584862,35.073450078844715,34.95725786372313,35.04025230309569,35.048551747032946,35.14814507428002,35.106647854593746,35.04025230309569,35.073450078844715,35.14814507428002]},\"selected\":{\"id\":\"41998\",\"type\":\"Selection\"},\"selection_policy\":{\"id\":\"41997\",\"type\":\"UnionRenderers\"}},\"id\":\"40543\",\"type\":\"ColumnDataSource\"},{\"attributes\":{\"data_source\":{\"id\":\"40453\",\"type\":\"ColumnDataSource\"},\"glyph\":{\"id\":\"40454\",\"type\":\"Line\"},\"hover_glyph\":null,\"muted_glyph\":null,\"nonselection_glyph\":{\"id\":\"40455\",\"type\":\"Line\"},\"selection_glyph\":null,\"view\":{\"id\":\"40457\",\"type\":\"CDSView\"}},\"id\":\"40456\",\"type\":\"GlyphRenderer\"},{\"attributes\":{\"fill_alpha\":{\"value\":0.1},\"fill_color\":{\"value\":\"#1f77b4\"},\"line_alpha\":{\"value\":0.1},\"line_color\":{\"value\":\"#1f77b4\"},\"x\":{\"field\":\"x\"},\"y\":{\"field\":\"y\"}},\"id\":\"40510\",\"type\":\"Circle\"},{\"attributes\":{\"active_drag\":\"auto\",\"active_inspect\":\"auto\",\"active_multi\":null,\"active_scroll\":\"auto\",\"active_tap\":\"auto\",\"tools\":[{\"id\":\"40438\",\"type\":\"PanTool\"},{\"id\":\"40439\",\"type\":\"WheelZoomTool\"},{\"id\":\"40440\",\"type\":\"BoxZoomTool\"},{\"id\":\"40441\",\"type\":\"SaveTool\"},{\"id\":\"40442\",\"type\":\"ResetTool\"},{\"id\":\"40443\",\"type\":\"HelpTool\"}]},\"id\":\"40444\",\"type\":\"Toolbar\"},{\"attributes\":{},\"id\":\"41968\",\"type\":\"Selection\"},{\"attributes\":{\"source\":{\"id\":\"40463\",\"type\":\"ColumnDataSource\"}},\"id\":\"40467\",\"type\":\"CDSView\"},{\"attributes\":{\"callback\":null,\"data\":{\"x\":[0,1,2,3,4,5,6,7,8,9,10,11,12,13,14,15,16,17,18,19,20,21,22,23,24,25,26,27,28,29,30],\"y\":[50.87559133538053,48.77583201925471,44.14474230226575,39.00738650510416,37.181508838907796,36.6503444269234,36.517553323927295,36.318366669433146,36.26857000580961,36.00298779981741,36.06938335131546,36.13577890281351,35.9863889119429,36.10258112706449,35.961490580131134,35.762303925636985,35.89509502863308,35.84529836500955,35.8535978089468,35.59631504689186,35.54651838326832,35.63781226657814,35.455224499958504,35.480122831770274,35.43862561208399,35.48842227570753,35.47182338783301,35.49672171964478,35.57141671508009,35.529919495393806,35.47182338783301]},\"selected\":{\"id\":\"41996\",\"type\":\"Selection\"},\"selection_policy\":{\"id\":\"41995\",\"type\":\"UnionRenderers\"}},\"id\":\"40538\",\"type\":\"ColumnDataSource\"},{\"attributes\":{\"bottom_units\":\"screen\",\"fill_alpha\":{\"value\":0.5},\"fill_color\":{\"value\":\"lightgrey\"},\"left_units\":\"screen\",\"level\":\"overlay\",\"line_alpha\":{\"value\":1.0},\"line_color\":{\"value\":\"black\"},\"line_dash\":[4,4],\"line_width\":{\"value\":2},\"plot\":null,\"render_mode\":\"css\",\"right_units\":\"screen\",\"top_units\":\"screen\"},\"id\":\"40446\",\"type\":\"BoxAnnotation\"},{\"attributes\":{\"fill_alpha\":{\"value\":0.1},\"fill_color\":{\"value\":\"#1f77b4\"},\"line_alpha\":{\"value\":0.1},\"line_color\":{\"value\":\"#1f77b4\"},\"x\":{\"field\":\"x\"},\"y\":{\"field\":\"y\"}},\"id\":\"40520\",\"type\":\"Circle\"},{\"attributes\":{\"fill_alpha\":{\"value\":0.1},\"fill_color\":{\"value\":\"#1f77b4\"},\"line_alpha\":{\"value\":0.1},\"line_color\":{\"value\":\"#1f77b4\"},\"x\":{\"field\":\"x\"},\"y\":{\"field\":\"y\"}},\"id\":\"40460\",\"type\":\"Circle\"},{\"attributes\":{},\"id\":\"41966\",\"type\":\"Selection\"},{\"attributes\":{\"source\":{\"id\":\"40458\",\"type\":\"ColumnDataSource\"}},\"id\":\"40462\",\"type\":\"CDSView\"},{\"attributes\":{\"fill_color\":{\"value\":\"salmon\"},\"line_color\":{\"value\":\"salmon\"},\"x\":{\"field\":\"x\"},\"y\":{\"field\":\"y\"}},\"id\":\"40519\",\"type\":\"Circle\"},{\"attributes\":{\"callback\":null,\"data\":{\"x\":[0,1,2,3,4,5,6,7,8,9,10,11,12,13,14,15,16,17,18,19,20,21,22,23,24,25,26,27,28,29,30],\"y\":[75.10996763216865,70.48717735911694,66.44534816167317,64.61117105153954,65.86438708606524,65.889285417877,66.59473815254378,68.01394306581459,68.1467341688107,68.55340692173624,68.44551415055192,68.88538467922649,68.72769524441863,68.9766785625363,69.3584529836501,69.17586521703046,69.20906299277948,69.58253796995601,69.27545854427753,68.91028301103826,69.3584529836501,68.7525935762304,69.44144742302265,69.90621628350901,69.86471906382272,70.14690015768943,69.6240351896423,69.06797244584612,69.71532907295212,68.81068968379118,70.08880405012864]},\"selected\":{\"id\":\"41966\",\"type\":\"Selection\"},\"selection_policy\":{\"id\":\"41965\",\"type\":\"UnionRenderers\"}},\"id\":\"40463\",\"type\":\"ColumnDataSource\"},{\"attributes\":{\"source\":{\"id\":\"40528\",\"type\":\"ColumnDataSource\"}},\"id\":\"40532\",\"type\":\"CDSView\"},{\"attributes\":{\"fill_alpha\":{\"value\":0.1},\"fill_color\":{\"value\":\"#1f77b4\"},\"line_alpha\":{\"value\":0.1},\"line_color\":{\"value\":\"#1f77b4\"},\"x\":{\"field\":\"x\"},\"y\":{\"field\":\"y\"}},\"id\":\"40550\",\"type\":\"Circle\"},{\"attributes\":{\"line_color\":\"orange\",\"x\":{\"field\":\"x\"},\"y\":{\"field\":\"y\"}},\"id\":\"40464\",\"type\":\"Line\"},{\"attributes\":{\"source\":{\"id\":\"40523\",\"type\":\"ColumnDataSource\"}},\"id\":\"40527\",\"type\":\"CDSView\"},{\"attributes\":{\"source\":{\"id\":\"40543\",\"type\":\"ColumnDataSource\"}},\"id\":\"40547\",\"type\":\"CDSView\"},{\"attributes\":{\"data_source\":{\"id\":\"40543\",\"type\":\"ColumnDataSource\"},\"glyph\":{\"id\":\"40544\",\"type\":\"Line\"},\"hover_glyph\":null,\"muted_glyph\":null,\"nonselection_glyph\":{\"id\":\"40545\",\"type\":\"Line\"},\"selection_glyph\":null,\"view\":{\"id\":\"40547\",\"type\":\"CDSView\"}},\"id\":\"40546\",\"type\":\"GlyphRenderer\"},{\"attributes\":{\"callback\":null,\"data\":{\"x\":[0,1,2,3,4,5,6,7,8,9,10,11,12,13,14,15,16,17,18,19,20,21,22,23,24,25,26,27,28,29,30],\"y\":[50.89219022325504,48.892024234376294,43.738069549340196,39.787534235206245,38.71690596730019,38.127645447755,37.77076935845298,37.330898829778405,37.007220516225416,36.96572329653913,36.45115777242925,36.53415221180181,36.27686944974687,36.2519711179351,36.27686944974687,36.193875010374306,36.2519711179351,36.33496555730766,36.07768279525272,36.044485019503696,36.085982239189974,36.06938335131546,36.061083907378205,36.11088057100174,35.91999336044485,35.886795584695825,35.94489169225662,35.77890281351149,36.01958668769193,36.119180014939,36.06938335131546]},\"selected\":{\"id\":\"41988\",\"type\":\"Selection\"},\"selection_policy\":{\"id\":\"41987\",\"type\":\"UnionRenderers\"}},\"id\":\"40518\",\"type\":\"ColumnDataSource\"},{\"attributes\":{\"dimension\":1,\"plot\":{\"id\":\"40419\",\"subtype\":\"Figure\",\"type\":\"Plot\"},\"ticker\":{\"id\":\"40434\",\"type\":\"BasicTicker\"}},\"id\":\"40437\",\"type\":\"Grid\"},{\"attributes\":{\"source\":{\"id\":\"40518\",\"type\":\"ColumnDataSource\"}},\"id\":\"40522\",\"type\":\"CDSView\"},{\"attributes\":{\"source\":{\"id\":\"40548\",\"type\":\"ColumnDataSource\"}},\"id\":\"40552\",\"type\":\"CDSView\"},{\"attributes\":{\"data_source\":{\"id\":\"40523\",\"type\":\"ColumnDataSource\"},\"glyph\":{\"id\":\"40524\",\"type\":\"Line\"},\"hover_glyph\":null,\"muted_glyph\":null,\"nonselection_glyph\":{\"id\":\"40525\",\"type\":\"Line\"},\"selection_glyph\":null,\"view\":{\"id\":\"40527\",\"type\":\"CDSView\"}},\"id\":\"40526\",\"type\":\"GlyphRenderer\"},{\"attributes\":{},\"id\":\"40434\",\"type\":\"BasicTicker\"},{\"attributes\":{},\"id\":\"41963\",\"type\":\"UnionRenderers\"},{\"attributes\":{\"formatter\":{\"id\":\"41959\",\"type\":\"BasicTickFormatter\"},\"plot\":{\"id\":\"40419\",\"subtype\":\"Figure\",\"type\":\"Plot\"},\"ticker\":{\"id\":\"40434\",\"type\":\"BasicTicker\"}},\"id\":\"40433\",\"type\":\"LinearAxis\"},{\"attributes\":{},\"id\":\"41970\",\"type\":\"Selection\"},{\"attributes\":{\"line_color\":\"darkblue\",\"x\":{\"field\":\"x\"},\"y\":{\"field\":\"y\"}},\"id\":\"40534\",\"type\":\"Line\"},{\"attributes\":{},\"id\":\"41979\",\"type\":\"UnionRenderers\"},{\"attributes\":{\"plot\":{\"id\":\"40419\",\"subtype\":\"Figure\",\"type\":\"Plot\"},\"ticker\":{\"id\":\"40429\",\"type\":\"BasicTicker\"}},\"id\":\"40432\",\"type\":\"Grid\"},{\"attributes\":{\"source\":{\"id\":\"40513\",\"type\":\"ColumnDataSource\"}},\"id\":\"40517\",\"type\":\"CDSView\"},{\"attributes\":{\"line_color\":\"salmon\",\"x\":{\"field\":\"x\"},\"y\":{\"field\":\"y\"}},\"id\":\"40514\",\"type\":\"Line\"},{\"attributes\":{},\"id\":\"40429\",\"type\":\"BasicTicker\"},{\"attributes\":{\"fill_color\":{\"value\":\"purple\"},\"line_color\":{\"value\":\"purple\"},\"x\":{\"field\":\"x\"},\"y\":{\"field\":\"y\"}},\"id\":\"40509\",\"type\":\"Circle\"},{\"attributes\":{},\"id\":\"41971\",\"type\":\"UnionRenderers\"},{\"attributes\":{\"callback\":null,\"data\":{\"x\":[0,1,2,3,4,5,6,7,8,9,10,11,12,13,14,15,16,17,18,19,20,21,22,23,24,25,26,27,28,29,30],\"y\":[50.87559133538053,48.77583201925471,44.14474230226575,39.00738650510416,37.181508838907796,36.6503444269234,36.517553323927295,36.318366669433146,36.26857000580961,36.00298779981741,36.06938335131546,36.13577890281351,35.9863889119429,36.10258112706449,35.961490580131134,35.762303925636985,35.89509502863308,35.84529836500955,35.8535978089468,35.59631504689186,35.54651838326832,35.63781226657814,35.455224499958504,35.480122831770274,35.43862561208399,35.48842227570753,35.47182338783301,35.49672171964478,35.57141671508009,35.529919495393806,35.47182338783301]},\"selected\":{\"id\":\"41994\",\"type\":\"Selection\"},\"selection_policy\":{\"id\":\"41993\",\"type\":\"UnionRenderers\"}},\"id\":\"40533\",\"type\":\"ColumnDataSource\"},{\"attributes\":{\"formatter\":{\"id\":\"41957\",\"type\":\"BasicTickFormatter\"},\"plot\":{\"id\":\"40419\",\"subtype\":\"Figure\",\"type\":\"Plot\"},\"ticker\":{\"id\":\"40429\",\"type\":\"BasicTicker\"}},\"id\":\"40428\",\"type\":\"LinearAxis\"},{\"attributes\":{\"line_color\":\"purple\",\"x\":{\"field\":\"x\"},\"y\":{\"field\":\"y\"}},\"id\":\"40504\",\"type\":\"Line\"},{\"attributes\":{},\"id\":\"41976\",\"type\":\"Selection\"},{\"attributes\":{\"callback\":null,\"end\":100},\"id\":\"40422\",\"type\":\"Range1d\"},{\"attributes\":{\"line_alpha\":0.1,\"line_color\":\"#1f77b4\",\"x\":{\"field\":\"x\"},\"y\":{\"field\":\"y\"}},\"id\":\"40525\",\"type\":\"Line\"},{\"attributes\":{},\"id\":\"41975\",\"type\":\"UnionRenderers\"},{\"attributes\":{\"callback\":null},\"id\":\"40420\",\"type\":\"DataRange1d\"},{\"attributes\":{\"fill_alpha\":{\"value\":0.1},\"fill_color\":{\"value\":\"#1f77b4\"},\"line_alpha\":{\"value\":0.1},\"line_color\":{\"value\":\"#1f77b4\"},\"x\":{\"field\":\"x\"},\"y\":{\"field\":\"y\"}},\"id\":\"40530\",\"type\":\"Circle\"},{\"attributes\":{},\"id\":\"41967\",\"type\":\"UnionRenderers\"},{\"attributes\":{},\"id\":\"41957\",\"type\":\"BasicTickFormatter\"},{\"attributes\":{\"line_alpha\":0.1,\"line_color\":\"#1f77b4\",\"x\":{\"field\":\"x\"},\"y\":{\"field\":\"y\"}},\"id\":\"40505\",\"type\":\"Line\"},{\"attributes\":{},\"id\":\"40426\",\"type\":\"LinearScale\"},{\"attributes\":{\"line_color\":\"grey\",\"x\":{\"field\":\"x\"},\"y\":{\"field\":\"y\"}},\"id\":\"40544\",\"type\":\"Line\"},{\"attributes\":{\"line_alpha\":0.1,\"line_color\":\"#1f77b4\",\"x\":{\"field\":\"x\"},\"y\":{\"field\":\"y\"}},\"id\":\"40465\",\"type\":\"Line\"},{\"attributes\":{\"callback\":null,\"data\":{\"x\":[0,1,2,3,4,5,6,7,8,9,10,11,12,13,14,15,16,17,18,19,20,21,22,23,24,25,26,27,28,29,30],\"y\":[51.21586853680803,48.98331811768612,72.4458461283094,55.34899161756162,42.21097186488505,39.11527927628849,37.74587102664122,37.27280272221761,36.95742385260188,36.725039422358705,36.48435554817827,36.35156444518217,36.235372230060584,36.119180014939,36.06938335131546,35.961490580131134,35.74570503776247,35.762303925636985,70.15519960162669,53.97958336791435,39.7958336791435,37.77076935845298,36.74163831023321,36.393061664868455,36.193875010374306,36.15237779068802,35.861897252884056,35.69590837413893,35.62121337870363,35.5880156029546,35.46352394389576]},\"selected\":{\"id\":\"41992\",\"type\":\"Selection\"},\"selection_policy\":{\"id\":\"41991\",\"type\":\"UnionRenderers\"}},\"id\":\"40528\",\"type\":\"ColumnDataSource\"},{\"attributes\":{},\"id\":\"41980\",\"type\":\"Selection\"},{\"attributes\":{\"data_source\":{\"id\":\"40463\",\"type\":\"ColumnDataSource\"},\"glyph\":{\"id\":\"40464\",\"type\":\"Line\"},\"hover_glyph\":null,\"muted_glyph\":null,\"nonselection_glyph\":{\"id\":\"40465\",\"type\":\"Line\"},\"selection_glyph\":null,\"view\":{\"id\":\"40467\",\"type\":\"CDSView\"}},\"id\":\"40466\",\"type\":\"GlyphRenderer\"},{\"attributes\":{\"data_source\":{\"id\":\"40528\",\"type\":\"ColumnDataSource\"},\"glyph\":{\"id\":\"40529\",\"type\":\"Circle\"},\"hover_glyph\":null,\"muted_glyph\":null,\"nonselection_glyph\":{\"id\":\"40530\",\"type\":\"Circle\"},\"selection_glyph\":null,\"view\":{\"id\":\"40532\",\"type\":\"CDSView\"}},\"id\":\"40531\",\"type\":\"GlyphRenderer\"},{\"attributes\":{},\"id\":\"41977\",\"type\":\"UnionRenderers\"},{\"attributes\":{\"data_source\":{\"id\":\"40458\",\"type\":\"ColumnDataSource\"},\"glyph\":{\"id\":\"40459\",\"type\":\"Circle\"},\"hover_glyph\":null,\"muted_glyph\":null,\"nonselection_glyph\":{\"id\":\"40460\",\"type\":\"Circle\"},\"selection_glyph\":null,\"view\":{\"id\":\"40462\",\"type\":\"CDSView\"}},\"id\":\"40461\",\"type\":\"GlyphRenderer\"},{\"attributes\":{},\"id\":\"41989\",\"type\":\"UnionRenderers\"},{\"attributes\":{\"callback\":null,\"data\":{\"x\":[0,1,2,3,4,5,6,7,8,9,10,11,12,13,14,15,16,17,18,19,20,21,22,23,24,25,26,27,28,29,30],\"y\":[75.10996763216865,70.48717735911694,66.44534816167317,64.61117105153954,65.86438708606524,65.889285417877,66.59473815254378,68.01394306581459,68.1467341688107,68.55340692173624,68.44551415055192,68.88538467922649,68.72769524441863,68.9766785625363,69.3584529836501,69.17586521703046,69.20906299277948,69.58253796995601,69.27545854427753,68.91028301103826,69.3584529836501,68.7525935762304,69.44144742302265,69.90621628350901,69.86471906382272,70.14690015768943,69.6240351896423,69.06797244584612,69.71532907295212,68.81068968379118,70.08880405012864]},\"selected\":{\"id\":\"41968\",\"type\":\"Selection\"},\"selection_policy\":{\"id\":\"41967\",\"type\":\"UnionRenderers\"}},\"id\":\"40468\",\"type\":\"ColumnDataSource\"},{\"attributes\":{},\"id\":\"41981\",\"type\":\"UnionRenderers\"},{\"attributes\":{\"fill_color\":{\"value\":\"orange\"},\"line_color\":{\"value\":\"orange\"},\"x\":{\"field\":\"x\"},\"y\":{\"field\":\"y\"}},\"id\":\"40469\",\"type\":\"Circle\"},{\"attributes\":{},\"id\":\"41982\",\"type\":\"Selection\"},{\"attributes\":{\"fill_alpha\":{\"value\":0.1},\"fill_color\":{\"value\":\"#1f77b4\"},\"line_alpha\":{\"value\":0.1},\"line_color\":{\"value\":\"#1f77b4\"},\"x\":{\"field\":\"x\"},\"y\":{\"field\":\"y\"}},\"id\":\"40470\",\"type\":\"Circle\"},{\"attributes\":{},\"id\":\"41987\",\"type\":\"UnionRenderers\"},{\"attributes\":{\"line_alpha\":0.1,\"line_color\":\"#1f77b4\",\"x\":{\"field\":\"x\"},\"y\":{\"field\":\"y\"}},\"id\":\"40455\",\"type\":\"Line\"},{\"attributes\":{},\"id\":\"41983\",\"type\":\"UnionRenderers\"},{\"attributes\":{\"data_source\":{\"id\":\"40468\",\"type\":\"ColumnDataSource\"},\"glyph\":{\"id\":\"40469\",\"type\":\"Circle\"},\"hover_glyph\":null,\"muted_glyph\":null,\"nonselection_glyph\":{\"id\":\"40470\",\"type\":\"Circle\"},\"selection_glyph\":null,\"view\":{\"id\":\"40472\",\"type\":\"CDSView\"}},\"id\":\"40471\",\"type\":\"GlyphRenderer\"},{\"attributes\":{},\"id\":\"41984\",\"type\":\"Selection\"},{\"attributes\":{\"source\":{\"id\":\"40468\",\"type\":\"ColumnDataSource\"}},\"id\":\"40472\",\"type\":\"CDSView\"},{\"attributes\":{},\"id\":\"41985\",\"type\":\"UnionRenderers\"},{\"attributes\":{\"callback\":null,\"data\":{\"x\":[0,1,2,3,4,5,6,7,8,9,10,11,12,13,14,15,16,17,18,19,20,21,22,23,24,25,26,27,28,29,30],\"y\":[52.037513486596396,49.381691426674415,45.72993609428168,41.57191468171632,40.42659141837497,39.81243256701801,39.74603701551996,39.729438127645444,39.862229230641546,40.111212548759234,39.92032533820234,39.98672088970039,39.90372645032783,39.712839239770936,39.84563034276704,39.92862478213959,39.87882811851606,39.67964146402191,39.7958336791435,39.67134202008465,39.89542700639057,39.65474313221014,39.83733089882978,39.68794090795917,39.41405925802971,39.70453979583368,39.61324591252386,39.49705369740227,39.59664702464935,39.563449248900326,39.52195202921404]},\"selected\":{\"id\":\"41980\",\"type\":\"Selection\"},\"selection_policy\":{\"id\":\"41979\",\"type\":\"UnionRenderers\"}},\"id\":\"40498\",\"type\":\"ColumnDataSource\"},{\"attributes\":{\"callback\":null,\"data\":{\"x\":[0,1,2,3,4,5,6,7,8,9,10,11,12,13,14,15,16,17,18,19,20,21,22,23,24,25,26,27,28,29,30],\"y\":[59.863889119429,56.037845464353886,52.68487011370238,50.09544360527845,49.74686695991369,50.1037430492157,50.294630259772596,50.56021246576479,50.817495227819734,51.2407668686198,51.34865963980413,51.20756909287078,51.43995352311395,51.97111793509835,51.755332392729684,51.70553572910615,52.087310150219935,51.87982405178853,52.137106813843474,52.19520292140427,51.94621960328658,51.99601626691012,52.269897916839575,52.17860403352975,52.04581293053366,52.00431571084737,51.86322516391402,51.34036019586688,51.9047223836003,52.40268901983567,51.92132127147481]},\"selected\":{\"id\":\"41972\",\"type\":\"Selection\"},\"selection_policy\":{\"id\":\"41971\",\"type\":\"UnionRenderers\"}},\"id\":\"40478\",\"type\":\"ColumnDataSource\"},{\"attributes\":{},\"id\":\"41986\",\"type\":\"Selection\"},{\"attributes\":{\"fill_color\":{\"value\":\"green\"},\"line_color\":{\"value\":\"green\"},\"x\":{\"field\":\"x\"},\"y\":{\"field\":\"y\"}},\"id\":\"40479\",\"type\":\"Circle\"},{\"attributes\":{},\"id\":\"41990\",\"type\":\"Selection\"},{\"attributes\":{\"source\":{\"id\":\"40483\",\"type\":\"ColumnDataSource\"}},\"id\":\"40487\",\"type\":\"CDSView\"},{\"attributes\":{},\"id\":\"41988\",\"type\":\"Selection\"},{\"attributes\":{\"data_source\":{\"id\":\"40478\",\"type\":\"ColumnDataSource\"},\"glyph\":{\"id\":\"40479\",\"type\":\"Circle\"},\"hover_glyph\":null,\"muted_glyph\":null,\"nonselection_glyph\":{\"id\":\"40480\",\"type\":\"Circle\"},\"selection_glyph\":null,\"view\":{\"id\":\"40482\",\"type\":\"CDSView\"}},\"id\":\"40481\",\"type\":\"GlyphRenderer\"},{\"attributes\":{\"line_color\":\"brown\",\"x\":{\"field\":\"x\"},\"y\":{\"field\":\"y\"}},\"id\":\"40494\",\"type\":\"Line\"},{\"attributes\":{},\"id\":\"41991\",\"type\":\"UnionRenderers\"},{\"attributes\":{\"line_alpha\":0.1,\"line_color\":\"#1f77b4\",\"x\":{\"field\":\"x\"},\"y\":{\"field\":\"y\"}},\"id\":\"40485\",\"type\":\"Line\"},{\"attributes\":{},\"id\":\"41993\",\"type\":\"UnionRenderers\"},{\"attributes\":{\"source\":{\"id\":\"40498\",\"type\":\"ColumnDataSource\"}},\"id\":\"40502\",\"type\":\"CDSView\"},{\"attributes\":{},\"id\":\"41992\",\"type\":\"Selection\"},{\"attributes\":{\"data_source\":{\"id\":\"40488\",\"type\":\"ColumnDataSource\"},\"glyph\":{\"id\":\"40489\",\"type\":\"Circle\"},\"hover_glyph\":null,\"muted_glyph\":null,\"nonselection_glyph\":{\"id\":\"40490\",\"type\":\"Circle\"},\"selection_glyph\":null,\"view\":{\"id\":\"40492\",\"type\":\"CDSView\"}},\"id\":\"40491\",\"type\":\"GlyphRenderer\"},{\"attributes\":{\"callback\":null,\"data\":{\"x\":[0,1,2,3,4,5,6,7,8,9,10,11,12,13,14,15,16,17,18,19,20,21,22,23,24,25,26,27,28,29,30],\"y\":[55.03361274794589,52.244999585027806,47.937588181591835,44.55971449912856,43.787866212963735,44.02855008714416,43.87916009627355,44.086646194704954,43.762967881151965,44.07004730683044,44.30243173707362,44.443522284006974,44.50161839156777,44.60951116275209,44.692505602124655,44.62611005062661,44.46012117188148,44.76720059755996,44.62611005062661,44.67590671425015,44.692505602124655,44.850195036932526,44.64270893850112,44.70910448999917,44.93318947630509,44.38542617644618,44.543115611254045,44.33562951282264,44.84189559299527,44.38542617644618,44.37712673250892]},\"selected\":{\"id\":\"41974\",\"type\":\"Selection\"},\"selection_policy\":{\"id\":\"41973\",\"type\":\"UnionRenderers\"}},\"id\":\"40483\",\"type\":\"ColumnDataSource\"},{\"attributes\":{},\"id\":\"41995\",\"type\":\"UnionRenderers\"},{\"attributes\":{\"callback\":null,\"data\":{\"x\":[0,1,2,3,4,5,6,7,8,9,10,11,12,13,14,15,16,17,18,19,20,21,22,23,24,25,26,27,28,29,30],\"y\":[55.03361274794589,52.244999585027806,47.937588181591835,44.55971449912856,43.787866212963735,44.02855008714416,43.87916009627355,44.086646194704954,43.762967881151965,44.07004730683044,44.30243173707362,44.443522284006974,44.50161839156777,44.60951116275209,44.692505602124655,44.62611005062661,44.46012117188148,44.76720059755996,44.62611005062661,44.67590671425015,44.692505602124655,44.850195036932526,44.64270893850112,44.70910448999917,44.93318947630509,44.38542617644618,44.543115611254045,44.33562951282264,44.84189559299527,44.38542617644618,44.37712673250892]},\"selected\":{\"id\":\"41976\",\"type\":\"Selection\"},\"selection_policy\":{\"id\":\"41975\",\"type\":\"UnionRenderers\"}},\"id\":\"40488\",\"type\":\"ColumnDataSource\"},{\"attributes\":{\"fill_alpha\":{\"value\":0.1},\"fill_color\":{\"value\":\"#1f77b4\"},\"line_alpha\":{\"value\":0.1},\"line_color\":{\"value\":\"#1f77b4\"},\"x\":{\"field\":\"x\"},\"y\":{\"field\":\"y\"}},\"id\":\"40480\",\"type\":\"Circle\"},{\"attributes\":{},\"id\":\"41994\",\"type\":\"Selection\"},{\"attributes\":{\"source\":{\"id\":\"40473\",\"type\":\"ColumnDataSource\"}},\"id\":\"40477\",\"type\":\"CDSView\"},{\"attributes\":{},\"id\":\"41996\",\"type\":\"Selection\"},{\"attributes\":{\"line_color\":\"green\",\"x\":{\"field\":\"x\"},\"y\":{\"field\":\"y\"}},\"id\":\"40474\",\"type\":\"Line\"},{\"attributes\":{},\"id\":\"41997\",\"type\":\"UnionRenderers\"},{\"attributes\":{\"source\":{\"id\":\"40493\",\"type\":\"ColumnDataSource\"}},\"id\":\"40497\",\"type\":\"CDSView\"},{\"attributes\":{},\"id\":\"41998\",\"type\":\"Selection\"},{\"attributes\":{\"callback\":null,\"data\":{\"x\":[0,1,2,3,4,5,6,7,8,9,10,11,12,13,14,15,16,17,18,19,20,21,22,23,24,25,26,27,28,29,30],\"y\":[51.34036019586688,48.692837579882145,43.962154535646114,40.73367084405345,39.430658145904225,38.999087061166904,38.443024317370735,38.492820980994274,38.35173043406092,38.02805212050792,37.87036268570006,37.662876587268656,37.505187152460785,37.347497717652914,37.347497717652914,37.24790439040584,37.47198937671176,37.554983816084324,37.505187152460785,37.51348659639804,37.51348659639804,37.33919827371566,37.455390488837246,37.5217860403353,37.33919827371566,37.49688770852353,37.44709104489999,37.47198937671176,37.44709104489999,37.44709104489999,37.306000497966636]},\"selected\":{\"id\":\"41982\",\"type\":\"Selection\"},\"selection_policy\":{\"id\":\"41981\",\"type\":\"UnionRenderers\"}},\"id\":\"40503\",\"type\":\"ColumnDataSource\"},{\"attributes\":{\"data_source\":{\"id\":\"40493\",\"type\":\"ColumnDataSource\"},\"glyph\":{\"id\":\"40494\",\"type\":\"Line\"},\"hover_glyph\":null,\"muted_glyph\":null,\"nonselection_glyph\":{\"id\":\"40495\",\"type\":\"Line\"},\"selection_glyph\":null,\"view\":{\"id\":\"40497\",\"type\":\"CDSView\"}},\"id\":\"40496\",\"type\":\"GlyphRenderer\"},{\"attributes\":{},\"id\":\"41999\",\"type\":\"UnionRenderers\"},{\"attributes\":{\"fill_alpha\":{\"value\":0.1},\"fill_color\":{\"value\":\"#1f77b4\"},\"line_alpha\":{\"value\":0.1},\"line_color\":{\"value\":\"#1f77b4\"},\"x\":{\"field\":\"x\"},\"y\":{\"field\":\"y\"}},\"id\":\"40490\",\"type\":\"Circle\"},{\"attributes\":{},\"id\":\"42000\",\"type\":\"Selection\"},{\"attributes\":{\"data_source\":{\"id\":\"40473\",\"type\":\"ColumnDataSource\"},\"glyph\":{\"id\":\"40474\",\"type\":\"Line\"},\"hover_glyph\":null,\"muted_glyph\":null,\"nonselection_glyph\":{\"id\":\"40475\",\"type\":\"Line\"},\"selection_glyph\":null,\"view\":{\"id\":\"40477\",\"type\":\"CDSView\"}},\"id\":\"40476\",\"type\":\"GlyphRenderer\"},{\"attributes\":{\"fill_alpha\":{\"value\":0.1},\"fill_color\":{\"value\":\"#1f77b4\"},\"line_alpha\":{\"value\":0.1},\"line_color\":{\"value\":\"#1f77b4\"},\"x\":{\"field\":\"x\"},\"y\":{\"field\":\"y\"}},\"id\":\"40500\",\"type\":\"Circle\"},{\"attributes\":{\"callback\":null,\"data\":{\"x\":[0,1,2,3,4,5,6,7,8,9,10,11,12,13,14,15,16,17,18,19,20,21,22,23,24,25,26,27,28,29,30],\"y\":[87.92430907129223,85.71665698398208,83.12723047555814,80.86978172462445,81.25155614573823,81.8657149970952,82.89484604531496,82.91144493318947,82.97784048468752,83.58369989210723,83.19362602705618,83.35961490580131,83.86588098597394,83.77458710266413,84.26425429496224,85.50917088555067,84.38044651008383,84.33064984646029,85.35978089468006,84.39704539795834,85.9573408581625,85.2186903477467,85.11909702049962,84.67922649182505,84.9531081417545,84.94480869781725,84.23935596315047,84.39704539795834,84.53813594489169,84.97800647356627,84.30575151464852]},\"selected\":{\"id\":\"41962\",\"type\":\"Selection\"},\"selection_policy\":{\"id\":\"41961\",\"type\":\"UnionRenderers\"}},\"id\":\"40453\",\"type\":\"ColumnDataSource\"},{\"attributes\":{\"data_source\":{\"id\":\"40498\",\"type\":\"ColumnDataSource\"},\"glyph\":{\"id\":\"40499\",\"type\":\"Circle\"},\"hover_glyph\":null,\"muted_glyph\":null,\"nonselection_glyph\":{\"id\":\"40500\",\"type\":\"Circle\"},\"selection_glyph\":null,\"view\":{\"id\":\"40502\",\"type\":\"CDSView\"}},\"id\":\"40501\",\"type\":\"GlyphRenderer\"},{\"attributes\":{\"callback\":null,\"data\":{\"x\":[0,1,2,3,4,5,6,7,8,9,10,11,12,13,14,15,16,17,18,19,20,21,22,23,24,25,26,27,28,29,30],\"y\":[52.037513486596396,49.381691426674415,45.72993609428168,41.57191468171632,40.42659141837497,39.81243256701801,39.74603701551996,39.729438127645444,39.862229230641546,40.111212548759234,39.92032533820234,39.98672088970039,39.90372645032783,39.712839239770936,39.84563034276704,39.92862478213959,39.87882811851606,39.67964146402191,39.7958336791435,39.67134202008465,39.89542700639057,39.65474313221014,39.83733089882978,39.68794090795917,39.41405925802971,39.70453979583368,39.61324591252386,39.49705369740227,39.59664702464935,39.563449248900326,39.52195202921404]},\"selected\":{\"id\":\"41978\",\"type\":\"Selection\"},\"selection_policy\":{\"id\":\"41977\",\"type\":\"UnionRenderers\"}},\"id\":\"40493\",\"type\":\"ColumnDataSource\"},{\"attributes\":{\"data_source\":{\"id\":\"40483\",\"type\":\"ColumnDataSource\"},\"glyph\":{\"id\":\"40484\",\"type\":\"Line\"},\"hover_glyph\":null,\"muted_glyph\":null,\"nonselection_glyph\":{\"id\":\"40485\",\"type\":\"Line\"},\"selection_glyph\":null,\"view\":{\"id\":\"40487\",\"type\":\"CDSView\"}},\"id\":\"40486\",\"type\":\"GlyphRenderer\"},{\"attributes\":{},\"id\":\"40424\",\"type\":\"LinearScale\"},{\"attributes\":{\"source\":{\"id\":\"40488\",\"type\":\"ColumnDataSource\"}},\"id\":\"40492\",\"type\":\"CDSView\"},{\"attributes\":{\"line_alpha\":0.1,\"line_color\":\"#1f77b4\",\"x\":{\"field\":\"x\"},\"y\":{\"field\":\"y\"}},\"id\":\"40495\",\"type\":\"Line\"},{\"attributes\":{\"source\":{\"id\":\"40453\",\"type\":\"ColumnDataSource\"}},\"id\":\"40457\",\"type\":\"CDSView\"},{\"attributes\":{\"fill_color\":{\"value\":\"red\"},\"line_color\":{\"value\":\"red\"},\"x\":{\"field\":\"x\"},\"y\":{\"field\":\"y\"}},\"id\":\"40489\",\"type\":\"Circle\"},{\"attributes\":{\"line_color\":\"red\",\"x\":{\"field\":\"x\"},\"y\":{\"field\":\"y\"}},\"id\":\"40484\",\"type\":\"Line\"},{\"attributes\":{\"line_alpha\":0.1,\"line_color\":\"#1f77b4\",\"x\":{\"field\":\"x\"},\"y\":{\"field\":\"y\"}},\"id\":\"40475\",\"type\":\"Line\"},{\"attributes\":{\"source\":{\"id\":\"40478\",\"type\":\"ColumnDataSource\"}},\"id\":\"40482\",\"type\":\"CDSView\"},{\"attributes\":{\"fill_color\":{\"value\":\"brown\"},\"line_color\":{\"value\":\"brown\"},\"x\":{\"field\":\"x\"},\"y\":{\"field\":\"y\"}},\"id\":\"40499\",\"type\":\"Circle\"}],\"root_ids\":[\"40419\"]},\"title\":\"Bokeh Application\",\"version\":\"1.0.0\"}};\n",
       "  var render_items = [{\"docid\":\"fa1b02a9-2bf6-4869-9667-aadd939896db\",\"roots\":{\"40419\":\"b7fa65ff-5eff-420e-8606-d57cf7d6f632\"}}];\n",
       "  root.Bokeh.embed.embed_items_notebook(docs_json, render_items);\n",
       "\n",
       "  }\n",
       "  if (root.Bokeh !== undefined) {\n",
       "    embed_document(root);\n",
       "  } else {\n",
       "    var attempts = 0;\n",
       "    var timer = setInterval(function(root) {\n",
       "      if (root.Bokeh !== undefined) {\n",
       "        embed_document(root);\n",
       "        clearInterval(timer);\n",
       "      }\n",
       "      attempts++;\n",
       "      if (attempts > 100) {\n",
       "        console.log(\"Bokeh: ERROR: Unable to run BokehJS code because BokehJS library is missing\");\n",
       "        clearInterval(timer);\n",
       "      }\n",
       "    }, 10, root)\n",
       "  }\n",
       "})(window);"
      ],
      "application/vnd.bokehjs_exec.v0+json": ""
     },
     "metadata": {
      "application/vnd.bokehjs_exec.v0+json": {
       "id": "40419"
      }
     },
     "output_type": "display_data"
    }
   ],
   "source": [
    "ref = 'data/timit/test/trans'\n",
    "\n",
    "ldims = [2, 5, 10, 15, 20, 25, 30, 35, 40, 45]\n",
    "colors = ['blue', 'orange', 'green', 'red', 'brown', 'purple', 'salmon', 'black', 'darkblue', 'grey']\n",
    "fig = figure(y_range=(0, 100))\n",
    "dim_wers = {}\n",
    "for ldim, color in zip(ldims, colors):\n",
    "    wers = []\n",
    "    for i in range(0, 31):\n",
    "        hyp = f'exp/timit/subspace_monophone_mbn_babel_ldim{ldim}/decode_e{i}_ac1.0/test/trans'\n",
    "        if not os.path.isfile(hyp):\n",
    "            continue\n",
    "        def load_trans(transfile, mapping=None):\n",
    "            with open(transfile, 'r') as f:\n",
    "                utt_trans = {}\n",
    "                for line in f:\n",
    "                    tokens = line.strip().split()\n",
    "                    uttid, trans = tokens[0], tokens[1:]\n",
    "                    if mapping is not None:\n",
    "                        trans = [mapping[token] for token in trans]\n",
    "                    utt_trans[uttid] = list(filter(lambda a: a != 'sil', trans))\n",
    "            return utt_trans\n",
    "\n",
    "        ref_trans = load_trans(ref, phonemap)\n",
    "        hyp_trans = load_trans(hyp, phonemap)\n",
    "\n",
    "        acc_wer = 0\n",
    "        nwords = 0\n",
    "        for utt in ref_trans:\n",
    "            ref_t, hyp_t = ref_trans[utt], hyp_trans[utt]\n",
    "            acc_wer += wer(ref_t, hyp_t)\n",
    "            nwords += len(ref_t)\n",
    "        wers.append(100 * acc_wer/nwords )\n",
    "    print(wers[-1])\n",
    "    dim_wers[ldim] = wers\n",
    "    fig.line(range(len(wers)), wers, color=color)\n",
    "    fig.circle(range(len(wers)), wers, color=color)\n",
    "\n",
    "show(fig)"
   ]
  },
  {
   "cell_type": "code",
   "execution_count": 50,
   "metadata": {},
   "outputs": [
    {
     "data": {
      "text/html": [
       "\n",
       "\n",
       "\n",
       "\n",
       "\n",
       "\n",
       "  <div class=\"bk-root\" id=\"083dccc0-bd35-4432-859c-520b43eae6f1\"></div>\n"
      ]
     },
     "metadata": {},
     "output_type": "display_data"
    },
    {
     "data": {
      "application/javascript": [
       "(function(root) {\n",
       "  function embed_document(root) {\n",
       "    \n",
       "  var docs_json = {\"8e53cd49-3c63-452e-acdb-e59db1bef68e\":{\"roots\":{\"references\":[{\"attributes\":{\"below\":[{\"id\":\"15067\",\"type\":\"LinearAxis\"}],\"left\":[{\"id\":\"15072\",\"type\":\"LinearAxis\"}],\"renderers\":[{\"id\":\"15067\",\"type\":\"LinearAxis\"},{\"id\":\"15071\",\"type\":\"Grid\"},{\"id\":\"15072\",\"type\":\"LinearAxis\"},{\"id\":\"15076\",\"type\":\"Grid\"},{\"id\":\"15085\",\"type\":\"BoxAnnotation\"},{\"id\":\"15095\",\"type\":\"GlyphRenderer\"},{\"id\":\"15100\",\"type\":\"GlyphRenderer\"},{\"id\":\"15105\",\"type\":\"GlyphRenderer\"}],\"title\":{\"id\":\"15697\",\"type\":\"Title\"},\"toolbar\":{\"id\":\"15083\",\"type\":\"Toolbar\"},\"x_range\":{\"id\":\"15059\",\"type\":\"Range1d\"},\"x_scale\":{\"id\":\"15063\",\"type\":\"LinearScale\"},\"y_range\":{\"id\":\"15061\",\"type\":\"Range1d\"},\"y_scale\":{\"id\":\"15065\",\"type\":\"LinearScale\"}},\"id\":\"15058\",\"subtype\":\"Figure\",\"type\":\"Plot\"},{\"attributes\":{\"active_drag\":\"auto\",\"active_inspect\":\"auto\",\"active_multi\":null,\"active_scroll\":\"auto\",\"active_tap\":\"auto\",\"tools\":[{\"id\":\"15077\",\"type\":\"PanTool\"},{\"id\":\"15078\",\"type\":\"WheelZoomTool\"},{\"id\":\"15079\",\"type\":\"BoxZoomTool\"},{\"id\":\"15080\",\"type\":\"SaveTool\"},{\"id\":\"15081\",\"type\":\"ResetTool\"},{\"id\":\"15082\",\"type\":\"HelpTool\"}]},\"id\":\"15083\",\"type\":\"Toolbar\"},{\"attributes\":{},\"id\":\"15703\",\"type\":\"UnionRenderers\"},{\"attributes\":{\"callback\":null,\"end\":100},\"id\":\"15061\",\"type\":\"Range1d\"},{\"attributes\":{\"bottom_units\":\"screen\",\"fill_alpha\":{\"value\":0.5},\"fill_color\":{\"value\":\"lightgrey\"},\"left_units\":\"screen\",\"level\":\"overlay\",\"line_alpha\":{\"value\":1.0},\"line_color\":{\"value\":\"black\"},\"line_dash\":[4,4],\"line_width\":{\"value\":2},\"plot\":null,\"render_mode\":\"css\",\"right_units\":\"screen\",\"top_units\":\"screen\"},\"id\":\"15085\",\"type\":\"BoxAnnotation\"},{\"attributes\":{},\"id\":\"15065\",\"type\":\"LinearScale\"},{\"attributes\":{\"source\":{\"id\":\"15092\",\"type\":\"ColumnDataSource\"}},\"id\":\"15096\",\"type\":\"CDSView\"},{\"attributes\":{\"formatter\":{\"id\":\"15699\",\"type\":\"BasicTickFormatter\"},\"plot\":{\"id\":\"15058\",\"subtype\":\"Figure\",\"type\":\"Plot\"},\"ticker\":{\"id\":\"15068\",\"type\":\"BasicTicker\"}},\"id\":\"15067\",\"type\":\"LinearAxis\"},{\"attributes\":{\"callback\":null,\"data\":{\"x\":[0,1,2,3,4,5,6,7,8,9,10,11,12,13,14,15,16,17,18,19,20,21,22,23,24,25,26,27,28,29,30,31,32,33,34,35,36,37,38,39,40,41,42,43,44,45],\"y\":{\"__ndarray__\":\"uB6F61E4QkC4HoXrUThCQLgehetROEJAuB6F61E4QkC4HoXrUThCQLgehetROEJAuB6F61E4QkC4HoXrUThCQLgehetROEJAuB6F61E4QkC4HoXrUThCQLgehetROEJAuB6F61E4QkC4HoXrUThCQLgehetROEJAuB6F61E4QkC4HoXrUThCQLgehetROEJAuB6F61E4QkC4HoXrUThCQLgehetROEJAuB6F61E4QkC4HoXrUThCQLgehetROEJAuB6F61E4QkC4HoXrUThCQLgehetROEJAuB6F61E4QkC4HoXrUThCQLgehetROEJAuB6F61E4QkC4HoXrUThCQLgehetROEJAuB6F61E4QkC4HoXrUThCQLgehetROEJAuB6F61E4QkC4HoXrUThCQLgehetROEJAuB6F61E4QkC4HoXrUThCQLgehetROEJAuB6F61E4QkC4HoXrUThCQLgehetROEJAuB6F61E4QkA=\",\"dtype\":\"float64\",\"shape\":[46]}},\"selected\":{\"id\":\"15708\",\"type\":\"Selection\"},\"selection_policy\":{\"id\":\"15707\",\"type\":\"UnionRenderers\"}},\"id\":\"15102\",\"type\":\"ColumnDataSource\"},{\"attributes\":{},\"id\":\"15068\",\"type\":\"BasicTicker\"},{\"attributes\":{\"fill_color\":{\"value\":\"#1f77b4\"},\"line_color\":{\"value\":\"#1f77b4\"},\"x\":{\"field\":\"x\"},\"y\":{\"field\":\"y\"}},\"id\":\"15098\",\"type\":\"Circle\"},{\"attributes\":{\"plot\":{\"id\":\"15058\",\"subtype\":\"Figure\",\"type\":\"Plot\"},\"ticker\":{\"id\":\"15068\",\"type\":\"BasicTicker\"}},\"id\":\"15071\",\"type\":\"Grid\"},{\"attributes\":{\"fill_alpha\":{\"value\":0.1},\"fill_color\":{\"value\":\"#1f77b4\"},\"line_alpha\":{\"value\":0.1},\"line_color\":{\"value\":\"#1f77b4\"},\"x\":{\"field\":\"x\"},\"y\":{\"field\":\"y\"}},\"id\":\"15099\",\"type\":\"Circle\"},{\"attributes\":{\"formatter\":{\"id\":\"15701\",\"type\":\"BasicTickFormatter\"},\"plot\":{\"id\":\"15058\",\"subtype\":\"Figure\",\"type\":\"Plot\"},\"ticker\":{\"id\":\"15073\",\"type\":\"BasicTicker\"}},\"id\":\"15072\",\"type\":\"LinearAxis\"},{\"attributes\":{\"data_source\":{\"id\":\"15097\",\"type\":\"ColumnDataSource\"},\"glyph\":{\"id\":\"15098\",\"type\":\"Circle\"},\"hover_glyph\":null,\"muted_glyph\":null,\"nonselection_glyph\":{\"id\":\"15099\",\"type\":\"Circle\"},\"selection_glyph\":null,\"view\":{\"id\":\"15101\",\"type\":\"CDSView\"}},\"id\":\"15100\",\"type\":\"GlyphRenderer\"},{\"attributes\":{},\"id\":\"15704\",\"type\":\"Selection\"},{\"attributes\":{},\"id\":\"15073\",\"type\":\"BasicTicker\"},{\"attributes\":{\"source\":{\"id\":\"15097\",\"type\":\"ColumnDataSource\"}},\"id\":\"15101\",\"type\":\"CDSView\"},{\"attributes\":{},\"id\":\"15705\",\"type\":\"UnionRenderers\"},{\"attributes\":{\"dimension\":1,\"plot\":{\"id\":\"15058\",\"subtype\":\"Figure\",\"type\":\"Plot\"},\"ticker\":{\"id\":\"15073\",\"type\":\"BasicTicker\"}},\"id\":\"15076\",\"type\":\"Grid\"},{\"attributes\":{\"line_dash\":[6],\"x\":{\"field\":\"x\"},\"y\":{\"field\":\"y\"}},\"id\":\"15103\",\"type\":\"Line\"},{\"attributes\":{\"line_alpha\":0.1,\"line_color\":\"#1f77b4\",\"x\":{\"field\":\"x\"},\"y\":{\"field\":\"y\"}},\"id\":\"15094\",\"type\":\"Line\"},{\"attributes\":{\"line_alpha\":0.1,\"line_color\":\"#1f77b4\",\"line_dash\":[6],\"x\":{\"field\":\"x\"},\"y\":{\"field\":\"y\"}},\"id\":\"15104\",\"type\":\"Line\"},{\"attributes\":{\"line_color\":\"#1f77b4\",\"x\":{\"field\":\"x\"},\"y\":{\"field\":\"y\"}},\"id\":\"15093\",\"type\":\"Line\"},{\"attributes\":{\"source\":{\"id\":\"15102\",\"type\":\"ColumnDataSource\"}},\"id\":\"15106\",\"type\":\"CDSView\"},{\"attributes\":{\"data_source\":{\"id\":\"15102\",\"type\":\"ColumnDataSource\"},\"glyph\":{\"id\":\"15103\",\"type\":\"Line\"},\"hover_glyph\":null,\"muted_glyph\":null,\"nonselection_glyph\":{\"id\":\"15104\",\"type\":\"Line\"},\"selection_glyph\":null,\"view\":{\"id\":\"15106\",\"type\":\"CDSView\"}},\"id\":\"15105\",\"type\":\"GlyphRenderer\"},{\"attributes\":{\"data_source\":{\"id\":\"15092\",\"type\":\"ColumnDataSource\"},\"glyph\":{\"id\":\"15093\",\"type\":\"Line\"},\"hover_glyph\":null,\"muted_glyph\":null,\"nonselection_glyph\":{\"id\":\"15094\",\"type\":\"Line\"},\"selection_glyph\":null,\"view\":{\"id\":\"15096\",\"type\":\"CDSView\"}},\"id\":\"15095\",\"type\":\"GlyphRenderer\"},{\"attributes\":{},\"id\":\"15077\",\"type\":\"PanTool\"},{\"attributes\":{},\"id\":\"15706\",\"type\":\"Selection\"},{\"attributes\":{},\"id\":\"15699\",\"type\":\"BasicTickFormatter\"},{\"attributes\":{},\"id\":\"15078\",\"type\":\"WheelZoomTool\"},{\"attributes\":{\"plot\":null,\"text\":\"\"},\"id\":\"15697\",\"type\":\"Title\"},{\"attributes\":{},\"id\":\"15701\",\"type\":\"BasicTickFormatter\"},{\"attributes\":{\"overlay\":{\"id\":\"15085\",\"type\":\"BoxAnnotation\"}},\"id\":\"15079\",\"type\":\"BoxZoomTool\"},{\"attributes\":{},\"id\":\"15063\",\"type\":\"LinearScale\"},{\"attributes\":{},\"id\":\"15707\",\"type\":\"UnionRenderers\"},{\"attributes\":{},\"id\":\"15080\",\"type\":\"SaveTool\"},{\"attributes\":{\"callback\":null,\"data\":{\"x\":[2,5,10,15,20,25,30,35,40,45],\"y\":[85.9573408581625,69.3584529836501,51.94621960328658,44.692505602124655,39.89542700639057,37.51348659639804,36.085982239189974,35.46352394389576,35.47182338783301,35.14814507428002]},\"selected\":{\"id\":\"15704\",\"type\":\"Selection\"},\"selection_policy\":{\"id\":\"15703\",\"type\":\"UnionRenderers\"}},\"id\":\"15092\",\"type\":\"ColumnDataSource\"},{\"attributes\":{\"callback\":null,\"end\":45,\"start\":1},\"id\":\"15059\",\"type\":\"Range1d\"},{\"attributes\":{},\"id\":\"15708\",\"type\":\"Selection\"},{\"attributes\":{},\"id\":\"15081\",\"type\":\"ResetTool\"},{\"attributes\":{\"callback\":null,\"data\":{\"x\":[2,5,10,15,20,25,30,35,40,45],\"y\":[85.9573408581625,69.3584529836501,51.94621960328658,44.692505602124655,39.89542700639057,37.51348659639804,36.085982239189974,35.46352394389576,35.47182338783301,35.14814507428002]},\"selected\":{\"id\":\"15706\",\"type\":\"Selection\"},\"selection_policy\":{\"id\":\"15705\",\"type\":\"UnionRenderers\"}},\"id\":\"15097\",\"type\":\"ColumnDataSource\"},{\"attributes\":{},\"id\":\"15082\",\"type\":\"HelpTool\"}],\"root_ids\":[\"15058\"]},\"title\":\"Bokeh Application\",\"version\":\"1.0.0\"}};\n",
       "  var render_items = [{\"docid\":\"8e53cd49-3c63-452e-acdb-e59db1bef68e\",\"roots\":{\"15058\":\"083dccc0-bd35-4432-859c-520b43eae6f1\"}}];\n",
       "  root.Bokeh.embed.embed_items_notebook(docs_json, render_items);\n",
       "\n",
       "  }\n",
       "  if (root.Bokeh !== undefined) {\n",
       "    embed_document(root);\n",
       "  } else {\n",
       "    var attempts = 0;\n",
       "    var timer = setInterval(function(root) {\n",
       "      if (root.Bokeh !== undefined) {\n",
       "        embed_document(root);\n",
       "        clearInterval(timer);\n",
       "      }\n",
       "      attempts++;\n",
       "      if (attempts > 100) {\n",
       "        console.log(\"Bokeh: ERROR: Unable to run BokehJS code because BokehJS library is missing\");\n",
       "        clearInterval(timer);\n",
       "      }\n",
       "    }, 10, root)\n",
       "  }\n",
       "})(window);"
      ],
      "application/vnd.bokehjs_exec.v0+json": ""
     },
     "metadata": {
      "application/vnd.bokehjs_exec.v0+json": {
       "id": "15058"
      }
     },
     "output_type": "display_data"
    }
   ],
   "source": [
    "dims = [dim for dim in dim_wers]\n",
    "ws = [w[-1] for w in dim_wers.values()]\n",
    "fig = figure(y_range=(0, 100), x_range=(1, 45))\n",
    "fig.line(dims, ws)\n",
    "fig.circle(dims, ws)\n",
    "fig.line(range(46), np.zeros(46) + 36.44, line_dash='dashed', color='black')\n",
    "show(fig)"
   ]
  },
  {
   "cell_type": "code",
   "execution_count": 35,
   "metadata": {},
   "outputs": [
    {
     "name": "stdout",
     "output_type": "stream",
     "text": [
      "ref: f ae sh ow d ih n l uw s r ow l z b ih n iy th ih sh er\n",
      "hyp: f ae sh ow d ih n l uw s r l f dh ih dx iy th ah sh er\n"
     ]
    }
   ],
   "source": [
    "print('ref:', ' '.join(ref_trans['fadg0_si1909']))\n",
    "print('hyp:', ' '.join(hyp_trans['fadg0_si1909']))"
   ]
  },
  {
   "cell_type": "code",
   "execution_count": 20,
   "metadata": {},
   "outputs": [
    {
     "data": {
      "text/plain": [
       "tensor([0.0208, 0.0208, 0.0208, 0.0208, 0.0208, 0.0208, 0.0208, 0.0208, 0.0208,\n",
       "        0.0208, 0.0208, 0.0208, 0.0208, 0.0208, 0.0208, 0.0208, 0.0208, 0.0208,\n",
       "        0.0208, 0.0208, 0.0208, 0.0208, 0.0208, 0.0208, 0.0208, 0.0208, 0.0208,\n",
       "        0.0208, 0.0208, 0.0208, 0.0208, 0.0208, 0.0208, 0.0208, 0.0208, 0.0208,\n",
       "        0.0208, 0.0208, 0.0208, 0.0208, 0.0208, 0.0208, 0.0208, 0.0208, 0.0208,\n",
       "        0.0208, 0.0208, 0.0208])"
      ]
     },
     "execution_count": 20,
     "metadata": {},
     "output_type": "execute_result"
    }
   ],
   "source": [
    "import pickle\n",
    "with open('exp/timit/monophone_mbn_babel/final.mdl', 'rb') as f:\n",
    "    model = pickle.load(f)\n",
    "model.weights.value()"
   ]
  },
  {
   "cell_type": "code",
   "execution_count": 167,
   "metadata": {},
   "outputs": [],
   "source": [
    "keys = [key for key, val in model.start_pdf.items()]"
   ]
  },
  {
   "cell_type": "code",
   "execution_count": 168,
   "metadata": {},
   "outputs": [
    {
     "data": {
      "text/plain": [
       "dict_values([0, 5, 10, 13, 16, 19, 22, 25, 28, 31, 34, 37, 40, 43, 46, 49, 52, 55, 58, 61, 64, 67, 70, 73, 76, 79, 82, 85, 88, 91, 94, 97, 100, 103, 106, 109, 112, 115, 118, 121, 124, 127, 130, 133, 136, 139, 142, 145])"
      ]
     },
     "execution_count": 168,
     "metadata": {},
     "output_type": "execute_result"
    }
   ],
   "source": [
    "model.start_pdf.values()"
   ]
  },
  {
   "cell_type": "code",
   "execution_count": 169,
   "metadata": {},
   "outputs": [],
   "source": [
    "from collections import defaultdict\n",
    "\n",
    "counts = defaultdict(int)\n",
    "with open('data/timit/train/trans', 'r') as f:\n",
    "    for line in f:\n",
    "        tokens = line.strip().split()[1:]\n",
    "        for token in tokens:\n",
    "            counts[token] += 1"
   ]
  },
  {
   "cell_type": "code",
   "execution_count": 172,
   "metadata": {},
   "outputs": [],
   "source": [
    "import torch\n",
    "stats = torch.FloatTensor([counts[key] for key in keys])\n",
    "model.weights.posterior.params.concentrations = model.weights.posterior.params.concentrations + stats \n",
    "model._on_weights_update()"
   ]
  },
  {
   "cell_type": "code",
   "execution_count": 201,
   "metadata": {},
   "outputs": [
    {
     "data": {
      "text/plain": [
       "[tensor(0.0011),\n",
       " tensor(0.0022),\n",
       " tensor(0.0036),\n",
       " tensor(0.0045),\n",
       " tensor(0.0052),\n",
       " tensor(0.0053),\n",
       " tensor(0.0058),\n",
       " tensor(0.0065),\n",
       " tensor(0.0068),\n",
       " tensor(0.0071),\n",
       " tensor(0.0072),\n",
       " tensor(0.0085),\n",
       " tensor(0.0087),\n",
       " tensor(0.0094),\n",
       " tensor(0.0118),\n",
       " tensor(0.0118),\n",
       " tensor(0.0133),\n",
       " tensor(0.0133),\n",
       " tensor(0.0138),\n",
       " tensor(0.0139),\n",
       " tensor(0.0142),\n",
       " tensor(0.0156),\n",
       " tensor(0.0158),\n",
       " tensor(0.0158),\n",
       " tensor(0.0161),\n",
       " tensor(0.0162),\n",
       " tensor(0.0162),\n",
       " tensor(0.0163),\n",
       " tensor(0.0169),\n",
       " tensor(0.0173),\n",
       " tensor(0.0185),\n",
       " tensor(0.0234),\n",
       " tensor(0.0254),\n",
       " tensor(0.0263),\n",
       " tensor(0.0271),\n",
       " tensor(0.0278),\n",
       " tensor(0.0282),\n",
       " tensor(0.0295),\n",
       " tensor(0.0303),\n",
       " tensor(0.0316),\n",
       " tensor(0.0330),\n",
       " tensor(0.0334),\n",
       " tensor(0.0440),\n",
       " tensor(0.0492),\n",
       " tensor(0.0515),\n",
       " tensor(0.0526),\n",
       " tensor(0.0591),\n",
       " tensor(0.0893)]"
      ]
     },
     "execution_count": 201,
     "metadata": {},
     "output_type": "execute_result"
    }
   ],
   "source": [
    "sorted(model.weights.expected_value())"
   ]
  },
  {
   "cell_type": "code",
   "execution_count": 174,
   "metadata": {},
   "outputs": [],
   "source": [
    "with open('exp/timit/monophone_mbn_babel//final_unigram.mdl', 'wb') as f:\n",
    "    pickle.dump(model, f)"
   ]
  }
 ],
 "metadata": {
  "kernelspec": {
   "display_name": "Python 3",
   "language": "python",
   "name": "python3"
  },
  "language_info": {
   "codemirror_mode": {
    "name": "ipython",
    "version": 3
   },
   "file_extension": ".py",
   "mimetype": "text/x-python",
   "name": "python",
   "nbconvert_exporter": "python",
   "pygments_lexer": "ipython3",
   "version": "3.7.2"
  }
 },
 "nbformat": 4,
 "nbformat_minor": 2
}
