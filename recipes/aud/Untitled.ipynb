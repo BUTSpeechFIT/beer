{
 "cells": [
  {
   "cell_type": "code",
   "execution_count": 29,
   "metadata": {},
   "outputs": [
    {
     "data": {
      "text/html": [
       "\n",
       "    <div class=\"bk-root\">\n",
       "        <a href=\"https://bokeh.pydata.org\" target=\"_blank\" class=\"bk-logo bk-logo-small bk-logo-notebook\"></a>\n",
       "        <span id=\"1003\">Loading BokehJS ...</span>\n",
       "    </div>"
      ]
     },
     "metadata": {},
     "output_type": "display_data"
    },
    {
     "data": {
      "application/javascript": [
       "\n",
       "(function(root) {\n",
       "  function now() {\n",
       "    return new Date();\n",
       "  }\n",
       "\n",
       "  var force = true;\n",
       "\n",
       "  if (typeof (root._bokeh_onload_callbacks) === \"undefined\" || force === true) {\n",
       "    root._bokeh_onload_callbacks = [];\n",
       "    root._bokeh_is_loading = undefined;\n",
       "  }\n",
       "\n",
       "  var JS_MIME_TYPE = 'application/javascript';\n",
       "  var HTML_MIME_TYPE = 'text/html';\n",
       "  var EXEC_MIME_TYPE = 'application/vnd.bokehjs_exec.v0+json';\n",
       "  var CLASS_NAME = 'output_bokeh rendered_html';\n",
       "\n",
       "  /**\n",
       "   * Render data to the DOM node\n",
       "   */\n",
       "  function render(props, node) {\n",
       "    var script = document.createElement(\"script\");\n",
       "    node.appendChild(script);\n",
       "  }\n",
       "\n",
       "  /**\n",
       "   * Handle when an output is cleared or removed\n",
       "   */\n",
       "  function handleClearOutput(event, handle) {\n",
       "    var cell = handle.cell;\n",
       "\n",
       "    var id = cell.output_area._bokeh_element_id;\n",
       "    var server_id = cell.output_area._bokeh_server_id;\n",
       "    // Clean up Bokeh references\n",
       "    if (id != null && id in Bokeh.index) {\n",
       "      Bokeh.index[id].model.document.clear();\n",
       "      delete Bokeh.index[id];\n",
       "    }\n",
       "\n",
       "    if (server_id !== undefined) {\n",
       "      // Clean up Bokeh references\n",
       "      var cmd = \"from bokeh.io.state import curstate; print(curstate().uuid_to_server['\" + server_id + \"'].get_sessions()[0].document.roots[0]._id)\";\n",
       "      cell.notebook.kernel.execute(cmd, {\n",
       "        iopub: {\n",
       "          output: function(msg) {\n",
       "            var id = msg.content.text.trim();\n",
       "            if (id in Bokeh.index) {\n",
       "              Bokeh.index[id].model.document.clear();\n",
       "              delete Bokeh.index[id];\n",
       "            }\n",
       "          }\n",
       "        }\n",
       "      });\n",
       "      // Destroy server and session\n",
       "      var cmd = \"import bokeh.io.notebook as ion; ion.destroy_server('\" + server_id + \"')\";\n",
       "      cell.notebook.kernel.execute(cmd);\n",
       "    }\n",
       "  }\n",
       "\n",
       "  /**\n",
       "   * Handle when a new output is added\n",
       "   */\n",
       "  function handleAddOutput(event, handle) {\n",
       "    var output_area = handle.output_area;\n",
       "    var output = handle.output;\n",
       "\n",
       "    // limit handleAddOutput to display_data with EXEC_MIME_TYPE content only\n",
       "    if ((output.output_type != \"display_data\") || (!output.data.hasOwnProperty(EXEC_MIME_TYPE))) {\n",
       "      return\n",
       "    }\n",
       "\n",
       "    var toinsert = output_area.element.find(\".\" + CLASS_NAME.split(' ')[0]);\n",
       "\n",
       "    if (output.metadata[EXEC_MIME_TYPE][\"id\"] !== undefined) {\n",
       "      toinsert[toinsert.length - 1].firstChild.textContent = output.data[JS_MIME_TYPE];\n",
       "      // store reference to embed id on output_area\n",
       "      output_area._bokeh_element_id = output.metadata[EXEC_MIME_TYPE][\"id\"];\n",
       "    }\n",
       "    if (output.metadata[EXEC_MIME_TYPE][\"server_id\"] !== undefined) {\n",
       "      var bk_div = document.createElement(\"div\");\n",
       "      bk_div.innerHTML = output.data[HTML_MIME_TYPE];\n",
       "      var script_attrs = bk_div.children[0].attributes;\n",
       "      for (var i = 0; i < script_attrs.length; i++) {\n",
       "        toinsert[toinsert.length - 1].firstChild.setAttribute(script_attrs[i].name, script_attrs[i].value);\n",
       "      }\n",
       "      // store reference to server id on output_area\n",
       "      output_area._bokeh_server_id = output.metadata[EXEC_MIME_TYPE][\"server_id\"];\n",
       "    }\n",
       "  }\n",
       "\n",
       "  function register_renderer(events, OutputArea) {\n",
       "\n",
       "    function append_mime(data, metadata, element) {\n",
       "      // create a DOM node to render to\n",
       "      var toinsert = this.create_output_subarea(\n",
       "        metadata,\n",
       "        CLASS_NAME,\n",
       "        EXEC_MIME_TYPE\n",
       "      );\n",
       "      this.keyboard_manager.register_events(toinsert);\n",
       "      // Render to node\n",
       "      var props = {data: data, metadata: metadata[EXEC_MIME_TYPE]};\n",
       "      render(props, toinsert[toinsert.length - 1]);\n",
       "      element.append(toinsert);\n",
       "      return toinsert\n",
       "    }\n",
       "\n",
       "    /* Handle when an output is cleared or removed */\n",
       "    events.on('clear_output.CodeCell', handleClearOutput);\n",
       "    events.on('delete.Cell', handleClearOutput);\n",
       "\n",
       "    /* Handle when a new output is added */\n",
       "    events.on('output_added.OutputArea', handleAddOutput);\n",
       "\n",
       "    /**\n",
       "     * Register the mime type and append_mime function with output_area\n",
       "     */\n",
       "    OutputArea.prototype.register_mime_type(EXEC_MIME_TYPE, append_mime, {\n",
       "      /* Is output safe? */\n",
       "      safe: true,\n",
       "      /* Index of renderer in `output_area.display_order` */\n",
       "      index: 0\n",
       "    });\n",
       "  }\n",
       "\n",
       "  // register the mime type if in Jupyter Notebook environment and previously unregistered\n",
       "  if (root.Jupyter !== undefined) {\n",
       "    var events = require('base/js/events');\n",
       "    var OutputArea = require('notebook/js/outputarea').OutputArea;\n",
       "\n",
       "    if (OutputArea.prototype.mime_types().indexOf(EXEC_MIME_TYPE) == -1) {\n",
       "      register_renderer(events, OutputArea);\n",
       "    }\n",
       "  }\n",
       "\n",
       "  \n",
       "  if (typeof (root._bokeh_timeout) === \"undefined\" || force === true) {\n",
       "    root._bokeh_timeout = Date.now() + 5000;\n",
       "    root._bokeh_failed_load = false;\n",
       "  }\n",
       "\n",
       "  var NB_LOAD_WARNING = {'data': {'text/html':\n",
       "     \"<div style='background-color: #fdd'>\\n\"+\n",
       "     \"<p>\\n\"+\n",
       "     \"BokehJS does not appear to have successfully loaded. If loading BokehJS from CDN, this \\n\"+\n",
       "     \"may be due to a slow or bad network connection. Possible fixes:\\n\"+\n",
       "     \"</p>\\n\"+\n",
       "     \"<ul>\\n\"+\n",
       "     \"<li>re-rerun `output_notebook()` to attempt to load from CDN again, or</li>\\n\"+\n",
       "     \"<li>use INLINE resources instead, as so:</li>\\n\"+\n",
       "     \"</ul>\\n\"+\n",
       "     \"<code>\\n\"+\n",
       "     \"from bokeh.resources import INLINE\\n\"+\n",
       "     \"output_notebook(resources=INLINE)\\n\"+\n",
       "     \"</code>\\n\"+\n",
       "     \"</div>\"}};\n",
       "\n",
       "  function display_loaded() {\n",
       "    var el = document.getElementById(\"1003\");\n",
       "    if (el != null) {\n",
       "      el.textContent = \"BokehJS is loading...\";\n",
       "    }\n",
       "    if (root.Bokeh !== undefined) {\n",
       "      if (el != null) {\n",
       "        el.textContent = \"BokehJS \" + root.Bokeh.version + \" successfully loaded.\";\n",
       "      }\n",
       "    } else if (Date.now() < root._bokeh_timeout) {\n",
       "      setTimeout(display_loaded, 100)\n",
       "    }\n",
       "  }\n",
       "\n",
       "\n",
       "  function run_callbacks() {\n",
       "    try {\n",
       "      root._bokeh_onload_callbacks.forEach(function(callback) { callback() });\n",
       "    }\n",
       "    finally {\n",
       "      delete root._bokeh_onload_callbacks\n",
       "    }\n",
       "    console.info(\"Bokeh: all callbacks have finished\");\n",
       "  }\n",
       "\n",
       "  function load_libs(js_urls, callback) {\n",
       "    root._bokeh_onload_callbacks.push(callback);\n",
       "    if (root._bokeh_is_loading > 0) {\n",
       "      console.log(\"Bokeh: BokehJS is being loaded, scheduling callback at\", now());\n",
       "      return null;\n",
       "    }\n",
       "    if (js_urls == null || js_urls.length === 0) {\n",
       "      run_callbacks();\n",
       "      return null;\n",
       "    }\n",
       "    console.log(\"Bokeh: BokehJS not loaded, scheduling load and callback at\", now());\n",
       "    root._bokeh_is_loading = js_urls.length;\n",
       "    for (var i = 0; i < js_urls.length; i++) {\n",
       "      var url = js_urls[i];\n",
       "      var s = document.createElement('script');\n",
       "      s.src = url;\n",
       "      s.async = false;\n",
       "      s.onreadystatechange = s.onload = function() {\n",
       "        root._bokeh_is_loading--;\n",
       "        if (root._bokeh_is_loading === 0) {\n",
       "          console.log(\"Bokeh: all BokehJS libraries loaded\");\n",
       "          run_callbacks()\n",
       "        }\n",
       "      };\n",
       "      s.onerror = function() {\n",
       "        console.warn(\"failed to load library \" + url);\n",
       "      };\n",
       "      console.log(\"Bokeh: injecting script tag for BokehJS library: \", url);\n",
       "      document.getElementsByTagName(\"head\")[0].appendChild(s);\n",
       "    }\n",
       "  };var element = document.getElementById(\"1003\");\n",
       "  if (element == null) {\n",
       "    console.log(\"Bokeh: ERROR: autoload.js configured with elementid '1003' but no matching script tag was found. \")\n",
       "    return false;\n",
       "  }\n",
       "\n",
       "  var js_urls = [\"https://cdn.pydata.org/bokeh/release/bokeh-1.0.0.min.js\", \"https://cdn.pydata.org/bokeh/release/bokeh-widgets-1.0.0.min.js\", \"https://cdn.pydata.org/bokeh/release/bokeh-tables-1.0.0.min.js\", \"https://cdn.pydata.org/bokeh/release/bokeh-gl-1.0.0.min.js\"];\n",
       "\n",
       "  var inline_js = [\n",
       "    function(Bokeh) {\n",
       "      Bokeh.set_log_level(\"info\");\n",
       "    },\n",
       "    \n",
       "    function(Bokeh) {\n",
       "      \n",
       "    },\n",
       "    function(Bokeh) {\n",
       "      console.log(\"Bokeh: injecting CSS: https://cdn.pydata.org/bokeh/release/bokeh-1.0.0.min.css\");\n",
       "      Bokeh.embed.inject_css(\"https://cdn.pydata.org/bokeh/release/bokeh-1.0.0.min.css\");\n",
       "      console.log(\"Bokeh: injecting CSS: https://cdn.pydata.org/bokeh/release/bokeh-widgets-1.0.0.min.css\");\n",
       "      Bokeh.embed.inject_css(\"https://cdn.pydata.org/bokeh/release/bokeh-widgets-1.0.0.min.css\");\n",
       "      console.log(\"Bokeh: injecting CSS: https://cdn.pydata.org/bokeh/release/bokeh-tables-1.0.0.min.css\");\n",
       "      Bokeh.embed.inject_css(\"https://cdn.pydata.org/bokeh/release/bokeh-tables-1.0.0.min.css\");\n",
       "    }\n",
       "  ];\n",
       "\n",
       "  function run_inline_js() {\n",
       "    \n",
       "    if ((root.Bokeh !== undefined) || (force === true)) {\n",
       "      for (var i = 0; i < inline_js.length; i++) {\n",
       "        inline_js[i].call(root, root.Bokeh);\n",
       "      }if (force === true) {\n",
       "        display_loaded();\n",
       "      }} else if (Date.now() < root._bokeh_timeout) {\n",
       "      setTimeout(run_inline_js, 100);\n",
       "    } else if (!root._bokeh_failed_load) {\n",
       "      console.log(\"Bokeh: BokehJS failed to load within specified timeout.\");\n",
       "      root._bokeh_failed_load = true;\n",
       "    } else if (force !== true) {\n",
       "      var cell = $(document.getElementById(\"1003\")).parents('.cell').data().cell;\n",
       "      cell.output_area.append_execute_result(NB_LOAD_WARNING)\n",
       "    }\n",
       "\n",
       "  }\n",
       "\n",
       "  if (root._bokeh_is_loading === 0) {\n",
       "    console.log(\"Bokeh: BokehJS loaded, going straight to plotting\");\n",
       "    run_inline_js();\n",
       "  } else {\n",
       "    load_libs(js_urls, function() {\n",
       "      console.log(\"Bokeh: BokehJS plotting callback run at\", now());\n",
       "      run_inline_js();\n",
       "    });\n",
       "  }\n",
       "}(window));"
      ],
      "application/vnd.bokehjs_load.v0+json": "\n(function(root) {\n  function now() {\n    return new Date();\n  }\n\n  var force = true;\n\n  if (typeof (root._bokeh_onload_callbacks) === \"undefined\" || force === true) {\n    root._bokeh_onload_callbacks = [];\n    root._bokeh_is_loading = undefined;\n  }\n\n  \n\n  \n  if (typeof (root._bokeh_timeout) === \"undefined\" || force === true) {\n    root._bokeh_timeout = Date.now() + 5000;\n    root._bokeh_failed_load = false;\n  }\n\n  var NB_LOAD_WARNING = {'data': {'text/html':\n     \"<div style='background-color: #fdd'>\\n\"+\n     \"<p>\\n\"+\n     \"BokehJS does not appear to have successfully loaded. If loading BokehJS from CDN, this \\n\"+\n     \"may be due to a slow or bad network connection. Possible fixes:\\n\"+\n     \"</p>\\n\"+\n     \"<ul>\\n\"+\n     \"<li>re-rerun `output_notebook()` to attempt to load from CDN again, or</li>\\n\"+\n     \"<li>use INLINE resources instead, as so:</li>\\n\"+\n     \"</ul>\\n\"+\n     \"<code>\\n\"+\n     \"from bokeh.resources import INLINE\\n\"+\n     \"output_notebook(resources=INLINE)\\n\"+\n     \"</code>\\n\"+\n     \"</div>\"}};\n\n  function display_loaded() {\n    var el = document.getElementById(\"1003\");\n    if (el != null) {\n      el.textContent = \"BokehJS is loading...\";\n    }\n    if (root.Bokeh !== undefined) {\n      if (el != null) {\n        el.textContent = \"BokehJS \" + root.Bokeh.version + \" successfully loaded.\";\n      }\n    } else if (Date.now() < root._bokeh_timeout) {\n      setTimeout(display_loaded, 100)\n    }\n  }\n\n\n  function run_callbacks() {\n    try {\n      root._bokeh_onload_callbacks.forEach(function(callback) { callback() });\n    }\n    finally {\n      delete root._bokeh_onload_callbacks\n    }\n    console.info(\"Bokeh: all callbacks have finished\");\n  }\n\n  function load_libs(js_urls, callback) {\n    root._bokeh_onload_callbacks.push(callback);\n    if (root._bokeh_is_loading > 0) {\n      console.log(\"Bokeh: BokehJS is being loaded, scheduling callback at\", now());\n      return null;\n    }\n    if (js_urls == null || js_urls.length === 0) {\n      run_callbacks();\n      return null;\n    }\n    console.log(\"Bokeh: BokehJS not loaded, scheduling load and callback at\", now());\n    root._bokeh_is_loading = js_urls.length;\n    for (var i = 0; i < js_urls.length; i++) {\n      var url = js_urls[i];\n      var s = document.createElement('script');\n      s.src = url;\n      s.async = false;\n      s.onreadystatechange = s.onload = function() {\n        root._bokeh_is_loading--;\n        if (root._bokeh_is_loading === 0) {\n          console.log(\"Bokeh: all BokehJS libraries loaded\");\n          run_callbacks()\n        }\n      };\n      s.onerror = function() {\n        console.warn(\"failed to load library \" + url);\n      };\n      console.log(\"Bokeh: injecting script tag for BokehJS library: \", url);\n      document.getElementsByTagName(\"head\")[0].appendChild(s);\n    }\n  };var element = document.getElementById(\"1003\");\n  if (element == null) {\n    console.log(\"Bokeh: ERROR: autoload.js configured with elementid '1003' but no matching script tag was found. \")\n    return false;\n  }\n\n  var js_urls = [\"https://cdn.pydata.org/bokeh/release/bokeh-1.0.0.min.js\", \"https://cdn.pydata.org/bokeh/release/bokeh-widgets-1.0.0.min.js\", \"https://cdn.pydata.org/bokeh/release/bokeh-tables-1.0.0.min.js\", \"https://cdn.pydata.org/bokeh/release/bokeh-gl-1.0.0.min.js\"];\n\n  var inline_js = [\n    function(Bokeh) {\n      Bokeh.set_log_level(\"info\");\n    },\n    \n    function(Bokeh) {\n      \n    },\n    function(Bokeh) {\n      console.log(\"Bokeh: injecting CSS: https://cdn.pydata.org/bokeh/release/bokeh-1.0.0.min.css\");\n      Bokeh.embed.inject_css(\"https://cdn.pydata.org/bokeh/release/bokeh-1.0.0.min.css\");\n      console.log(\"Bokeh: injecting CSS: https://cdn.pydata.org/bokeh/release/bokeh-widgets-1.0.0.min.css\");\n      Bokeh.embed.inject_css(\"https://cdn.pydata.org/bokeh/release/bokeh-widgets-1.0.0.min.css\");\n      console.log(\"Bokeh: injecting CSS: https://cdn.pydata.org/bokeh/release/bokeh-tables-1.0.0.min.css\");\n      Bokeh.embed.inject_css(\"https://cdn.pydata.org/bokeh/release/bokeh-tables-1.0.0.min.css\");\n    }\n  ];\n\n  function run_inline_js() {\n    \n    if ((root.Bokeh !== undefined) || (force === true)) {\n      for (var i = 0; i < inline_js.length; i++) {\n        inline_js[i].call(root, root.Bokeh);\n      }if (force === true) {\n        display_loaded();\n      }} else if (Date.now() < root._bokeh_timeout) {\n      setTimeout(run_inline_js, 100);\n    } else if (!root._bokeh_failed_load) {\n      console.log(\"Bokeh: BokehJS failed to load within specified timeout.\");\n      root._bokeh_failed_load = true;\n    } else if (force !== true) {\n      var cell = $(document.getElementById(\"1003\")).parents('.cell').data().cell;\n      cell.output_area.append_execute_result(NB_LOAD_WARNING)\n    }\n\n  }\n\n  if (root._bokeh_is_loading === 0) {\n    console.log(\"Bokeh: BokehJS loaded, going straight to plotting\");\n    run_inline_js();\n  } else {\n    load_libs(js_urls, function() {\n      console.log(\"Bokeh: BokehJS plotting callback run at\", now());\n      run_inline_js();\n    });\n  }\n}(window));"
     },
     "metadata": {},
     "output_type": "display_data"
    }
   ],
   "source": [
    "import os\n",
    "import numpy as np\n",
    "from itertools import groupby\n",
    "import pickle\n",
    "\n",
    "from bokeh.plotting import output_notebook, figure, show, gridplot\n",
    "from bokeh.models import ColumnDataSource, Range1d, LabelSet, Label\n",
    "from bokeh.palettes import Category10 as palette\n",
    "output_notebook()"
   ]
  },
  {
   "cell_type": "code",
   "execution_count": 31,
   "metadata": {},
   "outputs": [
    {
     "data": {
      "text/plain": [
       "3861"
      ]
     },
     "execution_count": 31,
     "metadata": {},
     "output_type": "execute_result"
    }
   ],
   "source": [
    "with open('exp/timit/subspace_monophone_mbn_babel_ldim15/gsm_0.mdl', 'rb') as f:\n",
    "    model = pickle.load(f)\n",
    "model.affine_transform.out_dim"
   ]
  },
  {
   "cell_type": "code",
   "execution_count": 18,
   "metadata": {},
   "outputs": [],
   "source": [
    "def wer(r, h):\n",
    "    \"\"\"\n",
    "    Calculation of WER with Levenshtein distance.\n",
    "\n",
    "    Works only for iterables up to 254 elements (uint8).\n",
    "    O(nm) time ans space complexity.\n",
    "\n",
    "    Parameters\n",
    "    ----------\n",
    "    r : list\n",
    "    h : list\n",
    "\n",
    "    Returns\n",
    "    -------\n",
    "    int\n",
    "\n",
    "    Examples\n",
    "    --------\n",
    "    >>> wer(\"who is there\".split(), \"is there\".split())\n",
    "    1\n",
    "    >>> wer(\"who is there\".split(), \"\".split())\n",
    "    3\n",
    "    >>> wer(\"\".split(), \"who is there\".split())\n",
    "    3\n",
    "    \"\"\"\n",
    "    # initialisation\n",
    "    d = np.zeros((len(r)+1)*(len(h)+1), dtype=int)\n",
    "    d = d.reshape((len(r)+1, len(h)+1))\n",
    "    for i in range(len(r)+1):\n",
    "        for j in range(len(h)+1):\n",
    "            if i == 0:\n",
    "                d[0][j] = j\n",
    "            elif j == 0:\n",
    "                d[i][0] = i\n",
    "\n",
    "    # computation\n",
    "    for i in range(1, len(r)+1):\n",
    "        for j in range(1, len(h)+1):\n",
    "            if r[i-1] == h[j-1]:\n",
    "                d[i][j] = d[i-1][j-1]\n",
    "            else:\n",
    "                substitution = d[i-1][j-1] + 1\n",
    "                insertion    = d[i][j-1] + 1\n",
    "                deletion     = d[i-1][j] + 1\n",
    "                d[i][j] = min(substitution, insertion, deletion)\n",
    "\n",
    "    return d[len(r)][len(h)]"
   ]
  },
  {
   "cell_type": "code",
   "execution_count": 19,
   "metadata": {},
   "outputs": [
    {
     "data": {
      "text/plain": [
       "{'sil': 'sil',\n",
       " 'aa': 'aa',\n",
       " 'ae': 'ae',\n",
       " 'ah': 'ah',\n",
       " 'ao': 'aa',\n",
       " 'aw': 'aw',\n",
       " 'ax': 'ah',\n",
       " 'ay': 'ay',\n",
       " 'b': 'b',\n",
       " 'ch': 'ch',\n",
       " 'cl': 'sil',\n",
       " 'd': 'd',\n",
       " 'dh': 'dh',\n",
       " 'dx': 'dx',\n",
       " 'eh': 'eh',\n",
       " 'el': 'l',\n",
       " 'en': 'n',\n",
       " 'epi': 'sil',\n",
       " 'er': 'er',\n",
       " 'ey': 'ey',\n",
       " 'f': 'f',\n",
       " 'g': 'g',\n",
       " 'hh': 'hh',\n",
       " 'ih': 'ih',\n",
       " 'ix': 'ih',\n",
       " 'iy': 'iy',\n",
       " 'jh': 'jh',\n",
       " 'k': 'k',\n",
       " 'l': 'l',\n",
       " 'm': 'm',\n",
       " 'n': 'n',\n",
       " 'ng': 'ng',\n",
       " 'ow': 'ow',\n",
       " 'oy': 'oy',\n",
       " 'p': 'p',\n",
       " 'r': 'r',\n",
       " 's': 's',\n",
       " 'sh': 'sh',\n",
       " 't': 't',\n",
       " 'th': 'th',\n",
       " 'uh': 'uh',\n",
       " 'uw': 'uw',\n",
       " 'v': 'v',\n",
       " 'vcl': 'sil',\n",
       " 'w': 'w',\n",
       " 'y': 'y',\n",
       " 'z': 'z',\n",
       " 'zh': 'sh'}"
      ]
     },
     "execution_count": 19,
     "metadata": {},
     "output_type": "execute_result"
    }
   ],
   "source": [
    "mapfile = 'data/timit/lang/phones_48_to_39.txt'\n",
    "phonemap = {}\n",
    "with open(mapfile, 'r') as f:\n",
    "    for line in f:\n",
    "        p1, p2 = line.strip().split()\n",
    "        phonemap[p1] = p2\n",
    "phonemap"
   ]
  },
  {
   "cell_type": "code",
   "execution_count": 27,
   "metadata": {},
   "outputs": [
    {
     "name": "stdout",
     "output_type": "stream",
     "text": [
      "WER = 36.82 %\n"
     ]
    }
   ],
   "source": [
    "ref = 'data/timit/test/trans'\n",
    "hyp = f'exp/timit/monophone_mbn_babel/decode_ac1.0/test/trans'\n",
    "\n",
    "def load_trans(transfile, mapping=None):\n",
    "    with open(transfile, 'r') as f:\n",
    "        utt_trans = {}\n",
    "        for line in f:\n",
    "            tokens = line.strip().split()\n",
    "            uttid, trans = tokens[0], tokens[1:]\n",
    "            if mapping is not None:\n",
    "                trans = [mapping[token] for token in trans]\n",
    "            utt_trans[uttid] = trans\n",
    "            #utt_trans[uttid] = list(filter(lambda a: a != 'sil', trans))\n",
    "    return utt_trans\n",
    "\n",
    "ref_trans = load_trans(ref, phonemap)\n",
    "ref_trans = {utt: [x[0] for x in groupby(trans)] for utt, trans in ref_trans.items()}\n",
    "hyp_trans = load_trans(hyp, phonemap)\n",
    "hyp_trans = {utt: [x[0] for x in groupby(trans)] for utt, trans in hyp_trans.items()}\n",
    "acc_wer = 0\n",
    "nwords = 0\n",
    "for utt in ref_trans:\n",
    "    ref_t, hyp_t = ref_trans[utt], hyp_trans[utt]\n",
    "    acc_wer += wer(ref_t, hyp_t)\n",
    "    nwords += len(ref_t)\n",
    "print(f'WER = {100 * acc_wer/nwords:.2f} %')"
   ]
  },
  {
   "cell_type": "code",
   "execution_count": 28,
   "metadata": {},
   "outputs": [
    {
     "name": "stdout",
     "output_type": "stream",
     "text": [
      "sil b ae s sil k ih sil b aa l sil k ih n sil b iy ih n ih n er sil t ey n ih ng s sil p aa r sil\n",
      "sil b ae s k ih sil b aa k n b iy n ih n ih t hh ng uw ng k s f w r sil\n"
     ]
    }
   ],
   "source": [
    "print(' '.join(ref_trans[utt]))\n",
    "print(' '.join(hyp_trans[utt]))"
   ]
  },
  {
   "cell_type": "code",
   "execution_count": 88,
   "metadata": {},
   "outputs": [
    {
     "name": "stdout",
     "output_type": "stream",
     "text": [
      "80.54610341107146\n",
      "66.21296373143\n",
      "47.755000414972194\n",
      "41.75450244833596\n",
      "37.72097269482945\n",
      "36.998921072288155\n",
      "36.13577890281351\n",
      "35.911693916507595\n",
      "35.3224333969624\n",
      "34.69167565773093\n"
     ]
    },
    {
     "data": {
      "text/html": [
       "\n",
       "\n",
       "\n",
       "\n",
       "\n",
       "\n",
       "  <div class=\"bk-root\" id=\"a50192d7-015c-4c21-b5df-8b279b0416e9\"></div>\n"
      ]
     },
     "metadata": {},
     "output_type": "display_data"
    },
    {
     "data": {
      "application/javascript": [
       "(function(root) {\n",
       "  function embed_document(root) {\n",
       "    \n",
       "  var docs_json = {\"d4b84410-dde6-4529-b382-6473726361a1\":{\"roots\":{\"references\":[{\"attributes\":{\"below\":[{\"id\":\"46161\",\"type\":\"LinearAxis\"}],\"left\":[{\"id\":\"46166\",\"type\":\"LinearAxis\"}],\"renderers\":[{\"id\":\"46161\",\"type\":\"LinearAxis\"},{\"id\":\"46165\",\"type\":\"Grid\"},{\"id\":\"46166\",\"type\":\"LinearAxis\"},{\"id\":\"46170\",\"type\":\"Grid\"},{\"id\":\"46179\",\"type\":\"BoxAnnotation\"},{\"id\":\"46189\",\"type\":\"GlyphRenderer\"},{\"id\":\"46194\",\"type\":\"GlyphRenderer\"},{\"id\":\"46199\",\"type\":\"GlyphRenderer\"},{\"id\":\"46204\",\"type\":\"GlyphRenderer\"},{\"id\":\"46209\",\"type\":\"GlyphRenderer\"},{\"id\":\"46214\",\"type\":\"GlyphRenderer\"},{\"id\":\"46219\",\"type\":\"GlyphRenderer\"},{\"id\":\"46224\",\"type\":\"GlyphRenderer\"},{\"id\":\"46229\",\"type\":\"GlyphRenderer\"},{\"id\":\"46234\",\"type\":\"GlyphRenderer\"},{\"id\":\"46239\",\"type\":\"GlyphRenderer\"},{\"id\":\"46244\",\"type\":\"GlyphRenderer\"},{\"id\":\"46249\",\"type\":\"GlyphRenderer\"},{\"id\":\"46254\",\"type\":\"GlyphRenderer\"},{\"id\":\"46259\",\"type\":\"GlyphRenderer\"},{\"id\":\"46264\",\"type\":\"GlyphRenderer\"},{\"id\":\"46269\",\"type\":\"GlyphRenderer\"},{\"id\":\"46274\",\"type\":\"GlyphRenderer\"},{\"id\":\"46279\",\"type\":\"GlyphRenderer\"},{\"id\":\"46284\",\"type\":\"GlyphRenderer\"}],\"title\":{\"id\":\"47829\",\"type\":\"Title\"},\"toolbar\":{\"id\":\"46177\",\"type\":\"Toolbar\"},\"x_range\":{\"id\":\"46153\",\"type\":\"DataRange1d\"},\"x_scale\":{\"id\":\"46157\",\"type\":\"LinearScale\"},\"y_range\":{\"id\":\"46155\",\"type\":\"Range1d\"},\"y_scale\":{\"id\":\"46159\",\"type\":\"LinearScale\"}},\"id\":\"46152\",\"subtype\":\"Figure\",\"type\":\"Plot\"},{\"attributes\":{\"dimension\":1,\"plot\":{\"id\":\"46152\",\"subtype\":\"Figure\",\"type\":\"Plot\"},\"ticker\":{\"id\":\"46167\",\"type\":\"BasicTicker\"}},\"id\":\"46170\",\"type\":\"Grid\"},{\"attributes\":{\"data_source\":{\"id\":\"46211\",\"type\":\"ColumnDataSource\"},\"glyph\":{\"id\":\"46212\",\"type\":\"Circle\"},\"hover_glyph\":null,\"muted_glyph\":null,\"nonselection_glyph\":{\"id\":\"46213\",\"type\":\"Circle\"},\"selection_glyph\":null,\"view\":{\"id\":\"46215\",\"type\":\"CDSView\"}},\"id\":\"46214\",\"type\":\"GlyphRenderer\"},{\"attributes\":{},\"id\":\"47833\",\"type\":\"BasicTickFormatter\"},{\"attributes\":{\"fill_color\":{\"value\":\"grey\"},\"line_color\":{\"value\":\"grey\"},\"x\":{\"field\":\"x\"},\"y\":{\"field\":\"y\"}},\"id\":\"46282\",\"type\":\"Circle\"},{\"attributes\":{\"data_source\":{\"id\":\"46246\",\"type\":\"ColumnDataSource\"},\"glyph\":{\"id\":\"46247\",\"type\":\"Line\"},\"hover_glyph\":null,\"muted_glyph\":null,\"nonselection_glyph\":{\"id\":\"46248\",\"type\":\"Line\"},\"selection_glyph\":null,\"view\":{\"id\":\"46250\",\"type\":\"CDSView\"}},\"id\":\"46249\",\"type\":\"GlyphRenderer\"},{\"attributes\":{\"source\":{\"id\":\"46211\",\"type\":\"ColumnDataSource\"}},\"id\":\"46215\",\"type\":\"CDSView\"},{\"attributes\":{},\"id\":\"47835\",\"type\":\"UnionRenderers\"},{\"attributes\":{\"source\":{\"id\":\"46186\",\"type\":\"ColumnDataSource\"}},\"id\":\"46190\",\"type\":\"CDSView\"},{\"attributes\":{\"data_source\":{\"id\":\"46241\",\"type\":\"ColumnDataSource\"},\"glyph\":{\"id\":\"46242\",\"type\":\"Circle\"},\"hover_glyph\":null,\"muted_glyph\":null,\"nonselection_glyph\":{\"id\":\"46243\",\"type\":\"Circle\"},\"selection_glyph\":null,\"view\":{\"id\":\"46245\",\"type\":\"CDSView\"}},\"id\":\"46244\",\"type\":\"GlyphRenderer\"},{\"attributes\":{\"fill_color\":{\"value\":\"orange\"},\"line_color\":{\"value\":\"orange\"},\"x\":{\"field\":\"x\"},\"y\":{\"field\":\"y\"}},\"id\":\"46202\",\"type\":\"Circle\"},{\"attributes\":{\"plot\":null,\"text\":\"\"},\"id\":\"47829\",\"type\":\"Title\"},{\"attributes\":{},\"id\":\"47831\",\"type\":\"BasicTickFormatter\"},{\"attributes\":{\"callback\":null,\"data\":{\"x\":[0,1,2,3,4,5,6,7,8,9,10,11,12,13,14,15,16,17,18,19,20,21,22,23,24,25,26,27,28,29,30],\"y\":[53.89658892854179,50.85899244750602,47.57241264835256,43.787866212963735,42.69233961324591,42.17777408913603,41.91219188314383,41.74620300439871,41.356129139347665,41.28973358784961,41.43912357872023,41.23993692422608,41.54701634990456,41.49721968628102,41.704705784712424,41.464021910532,41.43912357872023,41.48892024234376,41.74620300439871,41.837496887708525,41.79599966802224,41.64660967715163,41.59681301352809,41.5387169059673,41.72130467258694,41.82089799983401,41.82089799983401,41.90389243920657,41.8042991119595,41.95368910283011,41.75450244833596]},\"selected\":{\"id\":\"47850\",\"type\":\"Selection\"},\"selection_policy\":{\"id\":\"47849\",\"type\":\"UnionRenderers\"}},\"id\":\"46221\",\"type\":\"ColumnDataSource\"},{\"attributes\":{\"callback\":null,\"data\":{\"x\":[0,1,2,3,4,5,6,7,8,9,10,11,12,13,14,15,16,17,18,19,20,21,22,23,24,25,26,27,28,29,30],\"y\":[51.08307743381194,49.73026807203917,44.493318947630506,40.09461366088472,38.111046559880485,37.23960494646859,37.11511328740974,36.90762718897834,36.63374553904888,36.492654992115526,36.467756660303756,36.3847622209312,36.2519711179351,36.3847622209312,36.47605610424102,36.492654992115526,36.60054776329986,36.63374553904888,36.35156444518217,36.235372230060584,36.27686944974687,36.13577890281351,36.3847622209312,36.42625944061748,36.31006722549589,35.9863889119429,36.467756660303756,36.42625944061748,36.2519711179351,36.193875010374306,36.13577890281351]},\"selected\":{\"id\":\"47862\",\"type\":\"Selection\"},\"selection_policy\":{\"id\":\"47861\",\"type\":\"UnionRenderers\"}},\"id\":\"46251\",\"type\":\"ColumnDataSource\"},{\"attributes\":{\"data_source\":{\"id\":\"46191\",\"type\":\"ColumnDataSource\"},\"glyph\":{\"id\":\"46192\",\"type\":\"Circle\"},\"hover_glyph\":null,\"muted_glyph\":null,\"nonselection_glyph\":{\"id\":\"46193\",\"type\":\"Circle\"},\"selection_glyph\":null,\"view\":{\"id\":\"46195\",\"type\":\"CDSView\"}},\"id\":\"46194\",\"type\":\"GlyphRenderer\"},{\"attributes\":{},\"id\":\"46171\",\"type\":\"PanTool\"},{\"attributes\":{\"callback\":null,\"data\":{\"x\":[0,1,2,3,4,5,6,7,8,9,10,11,12,13,14,15,16,17,18,19,20,21,22,23,24,25,26,27,28,29,30],\"y\":[51.298862976180594,48.16997261183501,44.58461283094033,40.10291310482198,38.83309818242178,38.16914266744128,37.9201593493236,37.87036268570006,37.87036268570006,37.5217860403353,37.455390488837246,37.48858826458627,37.48858826458627,37.505187152460785,37.26450327828036,37.09851439953523,37.13171217528426,37.21470661465682,37.04041829197444,37.11511328740974,37.123412731347,37.123412731347,37.206407170719565,37.09021495559797,37.04041829197444,37.04041829197444,37.09021495559797,37.10681384347249,37.03211884803718,37.11511328740974,36.998921072288155]},\"selected\":{\"id\":\"47856\",\"type\":\"Selection\"},\"selection_policy\":{\"id\":\"47855\",\"type\":\"UnionRenderers\"}},\"id\":\"46236\",\"type\":\"ColumnDataSource\"},{\"attributes\":{\"fill_color\":{\"value\":\"salmon\"},\"line_color\":{\"value\":\"salmon\"},\"x\":{\"field\":\"x\"},\"y\":{\"field\":\"y\"}},\"id\":\"46252\",\"type\":\"Circle\"},{\"attributes\":{},\"id\":\"47836\",\"type\":\"Selection\"},{\"attributes\":{\"source\":{\"id\":\"46216\",\"type\":\"ColumnDataSource\"}},\"id\":\"46220\",\"type\":\"CDSView\"},{\"attributes\":{},\"id\":\"46172\",\"type\":\"WheelZoomTool\"},{\"attributes\":{\"line_alpha\":0.1,\"line_color\":\"#1f77b4\",\"line_dash\":[6],\"x\":{\"field\":\"x\"},\"y\":{\"field\":\"y\"}},\"id\":\"46228\",\"type\":\"Line\"},{\"attributes\":{},\"id\":\"47837\",\"type\":\"UnionRenderers\"},{\"attributes\":{\"source\":{\"id\":\"46231\",\"type\":\"ColumnDataSource\"}},\"id\":\"46235\",\"type\":\"CDSView\"},{\"attributes\":{\"overlay\":{\"id\":\"46179\",\"type\":\"BoxAnnotation\"}},\"id\":\"46173\",\"type\":\"BoxZoomTool\"},{\"attributes\":{\"fill_alpha\":{\"value\":0.1},\"fill_color\":{\"value\":\"#1f77b4\"},\"line_alpha\":{\"value\":0.1},\"line_color\":{\"value\":\"#1f77b4\"},\"x\":{\"field\":\"x\"},\"y\":{\"field\":\"y\"}},\"id\":\"46233\",\"type\":\"Circle\"},{\"attributes\":{\"source\":{\"id\":\"46251\",\"type\":\"ColumnDataSource\"}},\"id\":\"46255\",\"type\":\"CDSView\"},{\"attributes\":{},\"id\":\"47838\",\"type\":\"Selection\"},{\"attributes\":{\"data_source\":{\"id\":\"46251\",\"type\":\"ColumnDataSource\"},\"glyph\":{\"id\":\"46252\",\"type\":\"Circle\"},\"hover_glyph\":null,\"muted_glyph\":null,\"nonselection_glyph\":{\"id\":\"46253\",\"type\":\"Circle\"},\"selection_glyph\":null,\"view\":{\"id\":\"46255\",\"type\":\"CDSView\"}},\"id\":\"46254\",\"type\":\"GlyphRenderer\"},{\"attributes\":{},\"id\":\"46174\",\"type\":\"SaveTool\"},{\"attributes\":{},\"id\":\"47839\",\"type\":\"UnionRenderers\"},{\"attributes\":{\"line_alpha\":0.1,\"line_color\":\"#1f77b4\",\"line_dash\":[6],\"x\":{\"field\":\"x\"},\"y\":{\"field\":\"y\"}},\"id\":\"46218\",\"type\":\"Line\"},{\"attributes\":{\"source\":{\"id\":\"46271\",\"type\":\"ColumnDataSource\"}},\"id\":\"46275\",\"type\":\"CDSView\"},{\"attributes\":{},\"id\":\"47840\",\"type\":\"Selection\"},{\"attributes\":{\"source\":{\"id\":\"46276\",\"type\":\"ColumnDataSource\"}},\"id\":\"46280\",\"type\":\"CDSView\"},{\"attributes\":{},\"id\":\"47841\",\"type\":\"UnionRenderers\"},{\"attributes\":{},\"id\":\"46175\",\"type\":\"ResetTool\"},{\"attributes\":{},\"id\":\"47842\",\"type\":\"Selection\"},{\"attributes\":{},\"id\":\"46176\",\"type\":\"HelpTool\"},{\"attributes\":{\"line_color\":\"red\",\"line_dash\":[6],\"x\":{\"field\":\"x\"},\"y\":{\"field\":\"y\"}},\"id\":\"46217\",\"type\":\"Line\"},{\"attributes\":{\"fill_alpha\":{\"value\":0.1},\"fill_color\":{\"value\":\"#1f77b4\"},\"line_alpha\":{\"value\":0.1},\"line_color\":{\"value\":\"#1f77b4\"},\"x\":{\"field\":\"x\"},\"y\":{\"field\":\"y\"}},\"id\":\"46283\",\"type\":\"Circle\"},{\"attributes\":{},\"id\":\"47843\",\"type\":\"UnionRenderers\"},{\"attributes\":{\"active_drag\":\"auto\",\"active_inspect\":\"auto\",\"active_multi\":null,\"active_scroll\":\"auto\",\"active_tap\":\"auto\",\"tools\":[{\"id\":\"46171\",\"type\":\"PanTool\"},{\"id\":\"46172\",\"type\":\"WheelZoomTool\"},{\"id\":\"46173\",\"type\":\"BoxZoomTool\"},{\"id\":\"46174\",\"type\":\"SaveTool\"},{\"id\":\"46175\",\"type\":\"ResetTool\"},{\"id\":\"46176\",\"type\":\"HelpTool\"}]},\"id\":\"46177\",\"type\":\"Toolbar\"},{\"attributes\":{\"data_source\":{\"id\":\"46226\",\"type\":\"ColumnDataSource\"},\"glyph\":{\"id\":\"46227\",\"type\":\"Line\"},\"hover_glyph\":null,\"muted_glyph\":null,\"nonselection_glyph\":{\"id\":\"46228\",\"type\":\"Line\"},\"selection_glyph\":null,\"view\":{\"id\":\"46230\",\"type\":\"CDSView\"}},\"id\":\"46229\",\"type\":\"GlyphRenderer\"},{\"attributes\":{\"callback\":null,\"data\":{\"x\":[0,1,2,3,4,5,6,7,8,9,10,11,12,13,14,15,16,17,18,19,20,21,22,23,24,25,26,27,28,29,30],\"y\":[51.04987965806291,48.10357706033696,43.630176778155864,39.20657315959831,37.82056602207652,37.206407170719565,36.525852767864556,36.09428168312723,36.01958668769193,36.01958668769193,35.89509502863308,35.78720225744875,35.89509502863308,35.77060336957424,35.729106149887954,35.78720225744875,35.97808946800564,35.67930948626442,35.57141671508009,35.554817827205575,35.5133206075193,35.42202672420948,35.6461117105154,35.47182338783301,35.48842227570753,35.563117271142836,35.48842227570753,35.37223006058594,35.455224499958504,35.34733172877417,35.3224333969624]},\"selected\":{\"id\":\"47870\",\"type\":\"Selection\"},\"selection_policy\":{\"id\":\"47869\",\"type\":\"UnionRenderers\"}},\"id\":\"46271\",\"type\":\"ColumnDataSource\"},{\"attributes\":{},\"id\":\"47844\",\"type\":\"Selection\"},{\"attributes\":{\"line_alpha\":0.1,\"line_color\":\"#1f77b4\",\"line_dash\":[6],\"x\":{\"field\":\"x\"},\"y\":{\"field\":\"y\"}},\"id\":\"46268\",\"type\":\"Line\"},{\"attributes\":{\"line_alpha\":0.1,\"line_color\":\"#1f77b4\",\"line_dash\":[6],\"x\":{\"field\":\"x\"},\"y\":{\"field\":\"y\"}},\"id\":\"46188\",\"type\":\"Line\"},{\"attributes\":{\"callback\":null,\"data\":{\"x\":[0,1,2,3,4,5,6,7,8,9,10,11,12,13,14,15,16,17,18,19,20,21,22,23,24,25,26,27,28,29,30],\"y\":[51.92962071541207,49.506183085733255,45.62204332309735,41.505519130218275,39.912025894265085,39.28956759897087,38.799900406672755,38.67540874761391,38.42642542949623,38.37662876587269,38.10274711594323,37.986554900821645,37.787368246327496,37.886961573574574,37.87866212963731,37.87036268570006,37.62137936758237,37.74587102664122,37.662876587268656,37.637978255456886,37.654577143331394,37.62137936758237,37.679475475143164,37.87866212963731,37.73757158270396,37.77076935845298,37.68777491908042,37.85376379782554,37.71267325089219,37.71267325089219,37.72097269482945]},\"selected\":{\"id\":\"47854\",\"type\":\"Selection\"},\"selection_policy\":{\"id\":\"47853\",\"type\":\"UnionRenderers\"}},\"id\":\"46231\",\"type\":\"ColumnDataSource\"},{\"attributes\":{},\"id\":\"47845\",\"type\":\"UnionRenderers\"},{\"attributes\":{\"source\":{\"id\":\"46206\",\"type\":\"ColumnDataSource\"}},\"id\":\"46210\",\"type\":\"CDSView\"},{\"attributes\":{\"fill_alpha\":{\"value\":0.1},\"fill_color\":{\"value\":\"#1f77b4\"},\"line_alpha\":{\"value\":0.1},\"line_color\":{\"value\":\"#1f77b4\"},\"x\":{\"field\":\"x\"},\"y\":{\"field\":\"y\"}},\"id\":\"46243\",\"type\":\"Circle\"},{\"attributes\":{},\"id\":\"47846\",\"type\":\"Selection\"},{\"attributes\":{\"data_source\":{\"id\":\"46186\",\"type\":\"ColumnDataSource\"},\"glyph\":{\"id\":\"46187\",\"type\":\"Line\"},\"hover_glyph\":null,\"muted_glyph\":null,\"nonselection_glyph\":{\"id\":\"46188\",\"type\":\"Line\"},\"selection_glyph\":null,\"view\":{\"id\":\"46190\",\"type\":\"CDSView\"}},\"id\":\"46189\",\"type\":\"GlyphRenderer\"},{\"attributes\":{\"data_source\":{\"id\":\"46231\",\"type\":\"ColumnDataSource\"},\"glyph\":{\"id\":\"46232\",\"type\":\"Circle\"},\"hover_glyph\":null,\"muted_glyph\":null,\"nonselection_glyph\":{\"id\":\"46233\",\"type\":\"Circle\"},\"selection_glyph\":null,\"view\":{\"id\":\"46235\",\"type\":\"CDSView\"}},\"id\":\"46234\",\"type\":\"GlyphRenderer\"},{\"attributes\":{\"source\":{\"id\":\"46196\",\"type\":\"ColumnDataSource\"}},\"id\":\"46200\",\"type\":\"CDSView\"},{\"attributes\":{\"source\":{\"id\":\"46246\",\"type\":\"ColumnDataSource\"}},\"id\":\"46250\",\"type\":\"CDSView\"},{\"attributes\":{\"line_color\":\"grey\",\"line_dash\":[6],\"x\":{\"field\":\"x\"},\"y\":{\"field\":\"y\"}},\"id\":\"46277\",\"type\":\"Line\"},{\"attributes\":{},\"id\":\"47847\",\"type\":\"UnionRenderers\"},{\"attributes\":{\"callback\":null,\"data\":{\"x\":[0,1,2,3,4,5,6,7,8,9,10,11,12,13,14,15,16,17,18,19,20,21,22,23,24,25,26,27,28,29,30],\"y\":[51.099676321686445,48.30276371483111,44.64270893850112,39.99502033363765,38.63391152792763,37.82056602207652,37.41389326915097,36.96572329653913,36.974022740476386,36.76653664204498,36.55075109967632,36.4594572163665,36.28516889368412,36.26027056187235,36.193875010374306,36.11088057100174,36.12747945887625,36.17727612249979,36.09428168312723,36.119180014939,36.11088057100174,35.936592248319364,35.961490580131134,36.12747945887625,35.936592248319364,35.961490580131134,35.9282928043821,36.011287243754666,35.79550170138601,35.90339447257034,35.911693916507595]},\"selected\":{\"id\":\"47866\",\"type\":\"Selection\"},\"selection_policy\":{\"id\":\"47865\",\"type\":\"UnionRenderers\"}},\"id\":\"46261\",\"type\":\"ColumnDataSource\"},{\"attributes\":{\"callback\":null,\"data\":{\"x\":[0,1,2,3,4,5,6,7,8,9,10,11,12,13,14,15,16,17,18,19,20,21,22,23,24,25,26,27,28,29,30],\"y\":[69.87301850775998,67.28359199933604,64.84355548178272,62.77699394140593,62.42841729604117,62.89318615652751,63.72313055025313,63.6152377790688,64.22939663042577,64.8269565939082,64.76886048634742,64.8103577060337,65.24192879077101,65.70669765125737,65.27512656652004,65.95568096937505,66.21296373143,65.84778819819073,66.22126317536726,66.36235372230061,66.56983982073201,66.76072703128891,65.80629097850444,66.38725205411238,66.84372147066146,66.42874927379866,66.20466428749273,66.26276039505353,66.20466428749273,66.35405427836335,66.21296373143]},\"selected\":{\"id\":\"47842\",\"type\":\"Selection\"},\"selection_policy\":{\"id\":\"47841\",\"type\":\"UnionRenderers\"}},\"id\":\"46201\",\"type\":\"ColumnDataSource\"},{\"attributes\":{},\"id\":\"47848\",\"type\":\"Selection\"},{\"attributes\":{\"fill_color\":{\"value\":\"green\"},\"line_color\":{\"value\":\"green\"},\"x\":{\"field\":\"x\"},\"y\":{\"field\":\"y\"}},\"id\":\"46212\",\"type\":\"Circle\"},{\"attributes\":{\"source\":{\"id\":\"46261\",\"type\":\"ColumnDataSource\"}},\"id\":\"46265\",\"type\":\"CDSView\"},{\"attributes\":{},\"id\":\"47849\",\"type\":\"UnionRenderers\"},{\"attributes\":{\"fill_color\":{\"value\":\"blue\"},\"line_color\":{\"value\":\"blue\"},\"x\":{\"field\":\"x\"},\"y\":{\"field\":\"y\"}},\"id\":\"46192\",\"type\":\"Circle\"},{\"attributes\":{\"line_alpha\":0.1,\"line_color\":\"#1f77b4\",\"line_dash\":[6],\"x\":{\"field\":\"x\"},\"y\":{\"field\":\"y\"}},\"id\":\"46238\",\"type\":\"Line\"},{\"attributes\":{\"callback\":null,\"data\":{\"x\":[0,1,2,3,4,5,6,7,8,9,10,11,12,13,14,15,16,17,18,19,20,21,22,23,24,25,26,27,28,29,30],\"y\":[51.099676321686445,48.30276371483111,44.64270893850112,39.99502033363765,38.63391152792763,37.82056602207652,37.41389326915097,36.96572329653913,36.974022740476386,36.76653664204498,36.55075109967632,36.4594572163665,36.28516889368412,36.26027056187235,36.193875010374306,36.11088057100174,36.12747945887625,36.17727612249979,36.09428168312723,36.119180014939,36.11088057100174,35.936592248319364,35.961490580131134,36.12747945887625,35.936592248319364,35.961490580131134,35.9282928043821,36.011287243754666,35.79550170138601,35.90339447257034,35.911693916507595]},\"selected\":{\"id\":\"47864\",\"type\":\"Selection\"},\"selection_policy\":{\"id\":\"47863\",\"type\":\"UnionRenderers\"}},\"id\":\"46256\",\"type\":\"ColumnDataSource\"},{\"attributes\":{\"fill_alpha\":{\"value\":0.1},\"fill_color\":{\"value\":\"#1f77b4\"},\"line_alpha\":{\"value\":0.1},\"line_color\":{\"value\":\"#1f77b4\"},\"x\":{\"field\":\"x\"},\"y\":{\"field\":\"y\"}},\"id\":\"46213\",\"type\":\"Circle\"},{\"attributes\":{\"source\":{\"id\":\"46241\",\"type\":\"ColumnDataSource\"}},\"id\":\"46245\",\"type\":\"CDSView\"},{\"attributes\":{\"source\":{\"id\":\"46266\",\"type\":\"ColumnDataSource\"}},\"id\":\"46270\",\"type\":\"CDSView\"},{\"attributes\":{},\"id\":\"47850\",\"type\":\"Selection\"},{\"attributes\":{\"data_source\":{\"id\":\"46236\",\"type\":\"ColumnDataSource\"},\"glyph\":{\"id\":\"46237\",\"type\":\"Line\"},\"hover_glyph\":null,\"muted_glyph\":null,\"nonselection_glyph\":{\"id\":\"46238\",\"type\":\"Line\"},\"selection_glyph\":null,\"view\":{\"id\":\"46240\",\"type\":\"CDSView\"}},\"id\":\"46239\",\"type\":\"GlyphRenderer\"},{\"attributes\":{\"callback\":null,\"data\":{\"x\":[0,1,2,3,4,5,6,7,8,9,10,11,12,13,14,15,16,17,18,19,20,21,22,23,24,25,26,27,28,29,30],\"y\":[81.27645447755,78.24715744045149,75.84861814258444,74.76969043074114,76.47937588181591,77.16822972860818,78.30525354801229,79.03560461449084,80.2556228732675,80.20582620964396,80.91127894431074,80.85318283674994,80.13113121420865,80.74529006556561,80.69549340194207,80.86978172462445,81.0523694912441,80.67889451406755,81.55033612747945,81.21005892605196,80.8780811685617,80.75358950950286,80.48800730351067,81.02747115943232,80.74529006556561,80.4631089716989,80.8614822806872,80.36351564445182,80.58760063075773,81.43414391235787,80.54610341107146]},\"selected\":{\"id\":\"47838\",\"type\":\"Selection\"},\"selection_policy\":{\"id\":\"47837\",\"type\":\"UnionRenderers\"}},\"id\":\"46191\",\"type\":\"ColumnDataSource\"},{\"attributes\":{},\"id\":\"47851\",\"type\":\"UnionRenderers\"},{\"attributes\":{\"data_source\":{\"id\":\"46216\",\"type\":\"ColumnDataSource\"},\"glyph\":{\"id\":\"46217\",\"type\":\"Line\"},\"hover_glyph\":null,\"muted_glyph\":null,\"nonselection_glyph\":{\"id\":\"46218\",\"type\":\"Line\"},\"selection_glyph\":null,\"view\":{\"id\":\"46220\",\"type\":\"CDSView\"}},\"id\":\"46219\",\"type\":\"GlyphRenderer\"},{\"attributes\":{\"source\":{\"id\":\"46201\",\"type\":\"ColumnDataSource\"}},\"id\":\"46205\",\"type\":\"CDSView\"},{\"attributes\":{\"line_color\":\"salmon\",\"line_dash\":[6],\"x\":{\"field\":\"x\"},\"y\":{\"field\":\"y\"}},\"id\":\"46247\",\"type\":\"Line\"},{\"attributes\":{},\"id\":\"47852\",\"type\":\"Selection\"},{\"attributes\":{\"data_source\":{\"id\":\"46206\",\"type\":\"ColumnDataSource\"},\"glyph\":{\"id\":\"46207\",\"type\":\"Line\"},\"hover_glyph\":null,\"muted_glyph\":null,\"nonselection_glyph\":{\"id\":\"46208\",\"type\":\"Line\"},\"selection_glyph\":null,\"view\":{\"id\":\"46210\",\"type\":\"CDSView\"}},\"id\":\"46209\",\"type\":\"GlyphRenderer\"},{\"attributes\":{\"source\":{\"id\":\"46256\",\"type\":\"ColumnDataSource\"}},\"id\":\"46260\",\"type\":\"CDSView\"},{\"attributes\":{\"data_source\":{\"id\":\"46201\",\"type\":\"ColumnDataSource\"},\"glyph\":{\"id\":\"46202\",\"type\":\"Circle\"},\"hover_glyph\":null,\"muted_glyph\":null,\"nonselection_glyph\":{\"id\":\"46203\",\"type\":\"Circle\"},\"selection_glyph\":null,\"view\":{\"id\":\"46205\",\"type\":\"CDSView\"}},\"id\":\"46204\",\"type\":\"GlyphRenderer\"},{\"attributes\":{\"fill_color\":{\"value\":\"purple\"},\"line_color\":{\"value\":\"purple\"},\"x\":{\"field\":\"x\"},\"y\":{\"field\":\"y\"}},\"id\":\"46242\",\"type\":\"Circle\"},{\"attributes\":{},\"id\":\"47853\",\"type\":\"UnionRenderers\"},{\"attributes\":{\"line_color\":\"orange\",\"line_dash\":[6],\"x\":{\"field\":\"x\"},\"y\":{\"field\":\"y\"}},\"id\":\"46197\",\"type\":\"Line\"},{\"attributes\":{\"fill_color\":{\"value\":\"black\"},\"x\":{\"field\":\"x\"},\"y\":{\"field\":\"y\"}},\"id\":\"46262\",\"type\":\"Circle\"},{\"attributes\":{\"data_source\":{\"id\":\"46256\",\"type\":\"ColumnDataSource\"},\"glyph\":{\"id\":\"46257\",\"type\":\"Line\"},\"hover_glyph\":null,\"muted_glyph\":null,\"nonselection_glyph\":{\"id\":\"46258\",\"type\":\"Line\"},\"selection_glyph\":null,\"view\":{\"id\":\"46260\",\"type\":\"CDSView\"}},\"id\":\"46259\",\"type\":\"GlyphRenderer\"},{\"attributes\":{\"callback\":null,\"data\":{\"x\":[0,1,2,3,4,5,6,7,8,9,10,11,12,13,14,15,16,17,18,19,20,21,22,23,24,25,26,27,28,29,30],\"y\":[51.298862976180594,48.16997261183501,44.58461283094033,40.10291310482198,38.83309818242178,38.16914266744128,37.9201593493236,37.87036268570006,37.87036268570006,37.5217860403353,37.455390488837246,37.48858826458627,37.48858826458627,37.505187152460785,37.26450327828036,37.09851439953523,37.13171217528426,37.21470661465682,37.04041829197444,37.11511328740974,37.123412731347,37.123412731347,37.206407170719565,37.09021495559797,37.04041829197444,37.04041829197444,37.09021495559797,37.10681384347249,37.03211884803718,37.11511328740974,36.998921072288155]},\"selected\":{\"id\":\"47858\",\"type\":\"Selection\"},\"selection_policy\":{\"id\":\"47857\",\"type\":\"UnionRenderers\"}},\"id\":\"46241\",\"type\":\"ColumnDataSource\"},{\"attributes\":{},\"id\":\"47854\",\"type\":\"Selection\"},{\"attributes\":{\"data_source\":{\"id\":\"46196\",\"type\":\"ColumnDataSource\"},\"glyph\":{\"id\":\"46197\",\"type\":\"Line\"},\"hover_glyph\":null,\"muted_glyph\":null,\"nonselection_glyph\":{\"id\":\"46198\",\"type\":\"Line\"},\"selection_glyph\":null,\"view\":{\"id\":\"46200\",\"type\":\"CDSView\"}},\"id\":\"46199\",\"type\":\"GlyphRenderer\"},{\"attributes\":{\"fill_alpha\":{\"value\":0.1},\"fill_color\":{\"value\":\"#1f77b4\"},\"line_alpha\":{\"value\":0.1},\"line_color\":{\"value\":\"#1f77b4\"},\"x\":{\"field\":\"x\"},\"y\":{\"field\":\"y\"}},\"id\":\"46203\",\"type\":\"Circle\"},{\"attributes\":{},\"id\":\"47855\",\"type\":\"UnionRenderers\"},{\"attributes\":{\"line_alpha\":0.1,\"line_color\":\"#1f77b4\",\"line_dash\":[6],\"x\":{\"field\":\"x\"},\"y\":{\"field\":\"y\"}},\"id\":\"46248\",\"type\":\"Line\"},{\"attributes\":{\"bottom_units\":\"screen\",\"fill_alpha\":{\"value\":0.5},\"fill_color\":{\"value\":\"lightgrey\"},\"left_units\":\"screen\",\"level\":\"overlay\",\"line_alpha\":{\"value\":1.0},\"line_color\":{\"value\":\"black\"},\"line_dash\":[4,4],\"line_width\":{\"value\":2},\"plot\":null,\"render_mode\":\"css\",\"right_units\":\"screen\",\"top_units\":\"screen\"},\"id\":\"46179\",\"type\":\"BoxAnnotation\"},{\"attributes\":{},\"id\":\"47856\",\"type\":\"Selection\"},{\"attributes\":{\"callback\":null,\"data\":{\"x\":[0,1,2,3,4,5,6,7,8,9,10,11,12,13,14,15,16,17,18,19,20,21,22,23,24,25,26,27,28,29,30],\"y\":[57.3242592746286,54.30326168146734,50.89219022325504,47.024649348493654,46.24450161839157,46.543281600132794,46.60967715163084,46.60137770769359,46.94165490912109,46.949954353058345,46.76736658643871,46.84206158187401,47.16573989542701,47.66370653166238,47.74670097103494,47.59731098016433,48.00398373308988,47.97908540127811,47.89609096190555,47.962486513403604,48.13677483608598,48.086978172462445,48.14507428002324,48.13677483608598,48.14507428002324,48.12847539214873,47.937588181591835,47.94588762552909,47.97908540127811,47.779898746783964,47.755000414972194]},\"selected\":{\"id\":\"47844\",\"type\":\"Selection\"},\"selection_policy\":{\"id\":\"47843\",\"type\":\"UnionRenderers\"}},\"id\":\"46206\",\"type\":\"ColumnDataSource\"},{\"attributes\":{\"data_source\":{\"id\":\"46261\",\"type\":\"ColumnDataSource\"},\"glyph\":{\"id\":\"46262\",\"type\":\"Circle\"},\"hover_glyph\":null,\"muted_glyph\":null,\"nonselection_glyph\":{\"id\":\"46263\",\"type\":\"Circle\"},\"selection_glyph\":null,\"view\":{\"id\":\"46265\",\"type\":\"CDSView\"}},\"id\":\"46264\",\"type\":\"GlyphRenderer\"},{\"attributes\":{\"callback\":null,\"data\":{\"x\":[0,1,2,3,4,5,6,7,8,9,10,11,12,13,14,15,16,17,18,19,20,21,22,23,24,25,26,27,28,29,30],\"y\":[69.87301850775998,67.28359199933604,64.84355548178272,62.77699394140593,62.42841729604117,62.89318615652751,63.72313055025313,63.6152377790688,64.22939663042577,64.8269565939082,64.76886048634742,64.8103577060337,65.24192879077101,65.70669765125737,65.27512656652004,65.95568096937505,66.21296373143,65.84778819819073,66.22126317536726,66.36235372230061,66.56983982073201,66.76072703128891,65.80629097850444,66.38725205411238,66.84372147066146,66.42874927379866,66.20466428749273,66.26276039505353,66.20466428749273,66.35405427836335,66.21296373143]},\"selected\":{\"id\":\"47840\",\"type\":\"Selection\"},\"selection_policy\":{\"id\":\"47839\",\"type\":\"UnionRenderers\"}},\"id\":\"46196\",\"type\":\"ColumnDataSource\"},{\"attributes\":{},\"id\":\"47857\",\"type\":\"UnionRenderers\"},{\"attributes\":{\"line_alpha\":0.1,\"line_color\":\"#1f77b4\",\"line_dash\":[6],\"x\":{\"field\":\"x\"},\"y\":{\"field\":\"y\"}},\"id\":\"46208\",\"type\":\"Line\"},{\"attributes\":{\"fill_color\":{\"value\":\"brown\"},\"line_color\":{\"value\":\"brown\"},\"x\":{\"field\":\"x\"},\"y\":{\"field\":\"y\"}},\"id\":\"46232\",\"type\":\"Circle\"},{\"attributes\":{\"line_alpha\":0.1,\"line_color\":\"#1f77b4\",\"line_dash\":[6],\"x\":{\"field\":\"x\"},\"y\":{\"field\":\"y\"}},\"id\":\"46278\",\"type\":\"Line\"},{\"attributes\":{},\"id\":\"47858\",\"type\":\"Selection\"},{\"attributes\":{\"data_source\":{\"id\":\"46271\",\"type\":\"ColumnDataSource\"},\"glyph\":{\"id\":\"46272\",\"type\":\"Circle\"},\"hover_glyph\":null,\"muted_glyph\":null,\"nonselection_glyph\":{\"id\":\"46273\",\"type\":\"Circle\"},\"selection_glyph\":null,\"view\":{\"id\":\"46275\",\"type\":\"CDSView\"}},\"id\":\"46274\",\"type\":\"GlyphRenderer\"},{\"attributes\":{\"fill_alpha\":{\"value\":0.1},\"fill_color\":{\"value\":\"#1f77b4\"},\"line_alpha\":{\"value\":0.1},\"line_color\":{\"value\":\"#1f77b4\"},\"x\":{\"field\":\"x\"},\"y\":{\"field\":\"y\"}},\"id\":\"46193\",\"type\":\"Circle\"},{\"attributes\":{\"source\":{\"id\":\"46226\",\"type\":\"ColumnDataSource\"}},\"id\":\"46230\",\"type\":\"CDSView\"},{\"attributes\":{\"line_alpha\":0.1,\"line_color\":\"#1f77b4\",\"line_dash\":[6],\"x\":{\"field\":\"x\"},\"y\":{\"field\":\"y\"}},\"id\":\"46258\",\"type\":\"Line\"},{\"attributes\":{},\"id\":\"47859\",\"type\":\"UnionRenderers\"},{\"attributes\":{\"data_source\":{\"id\":\"46221\",\"type\":\"ColumnDataSource\"},\"glyph\":{\"id\":\"46222\",\"type\":\"Circle\"},\"hover_glyph\":null,\"muted_glyph\":null,\"nonselection_glyph\":{\"id\":\"46223\",\"type\":\"Circle\"},\"selection_glyph\":null,\"view\":{\"id\":\"46225\",\"type\":\"CDSView\"}},\"id\":\"46224\",\"type\":\"GlyphRenderer\"},{\"attributes\":{\"source\":{\"id\":\"46281\",\"type\":\"ColumnDataSource\"}},\"id\":\"46285\",\"type\":\"CDSView\"},{\"attributes\":{\"source\":{\"id\":\"46191\",\"type\":\"ColumnDataSource\"}},\"id\":\"46195\",\"type\":\"CDSView\"},{\"attributes\":{\"callback\":null,\"data\":{\"x\":[0,1,2,3,4,5,6,7,8,9,10,11,12,13,14,15,16,17,18,19,20,21,22,23,24,25,26,27,28,29,30],\"y\":[53.89658892854179,50.85899244750602,47.57241264835256,43.787866212963735,42.69233961324591,42.17777408913603,41.91219188314383,41.74620300439871,41.356129139347665,41.28973358784961,41.43912357872023,41.23993692422608,41.54701634990456,41.49721968628102,41.704705784712424,41.464021910532,41.43912357872023,41.48892024234376,41.74620300439871,41.837496887708525,41.79599966802224,41.64660967715163,41.59681301352809,41.5387169059673,41.72130467258694,41.82089799983401,41.82089799983401,41.90389243920657,41.8042991119595,41.95368910283011,41.75450244833596]},\"selected\":{\"id\":\"47848\",\"type\":\"Selection\"},\"selection_policy\":{\"id\":\"47847\",\"type\":\"UnionRenderers\"}},\"id\":\"46216\",\"type\":\"ColumnDataSource\"},{\"attributes\":{\"fill_alpha\":{\"value\":0.1},\"fill_color\":{\"value\":\"#1f77b4\"},\"line_alpha\":{\"value\":0.1},\"line_color\":{\"value\":\"#1f77b4\"},\"x\":{\"field\":\"x\"},\"y\":{\"field\":\"y\"}},\"id\":\"46253\",\"type\":\"Circle\"},{\"attributes\":{\"line_color\":\"brown\",\"line_dash\":[6],\"x\":{\"field\":\"x\"},\"y\":{\"field\":\"y\"}},\"id\":\"46227\",\"type\":\"Line\"},{\"attributes\":{\"callback\":null,\"data\":{\"x\":[0,1,2,3,4,5,6,7,8,9,10,11,12,13,14,15,16,17,18,19,20,21,22,23,24,25,26,27,28,29,30],\"y\":[50.93368744294132,48.742634243505684,43.62187733421861,38.55921653249232,36.98232218441365,36.17727612249979,35.7208067059507,35.480122831770274,35.34733172877417,35.38882894846045,35.305834509087894,35.3224333969624,35.23943895758984,35.09004896671923,34.85766453647606,34.8493650925388,34.95725786372313,34.973856751597644,34.8493650925388,34.78296954104075,34.899161756162336,34.85766453647606,34.81616731678977,34.749771765291726,34.72487343347996,34.66677732591916,34.5837828865466,34.67507676985642,34.74147232135447,34.65847788198191,34.69167565773093]},\"selected\":{\"id\":\"47874\",\"type\":\"Selection\"},\"selection_policy\":{\"id\":\"47873\",\"type\":\"UnionRenderers\"}},\"id\":\"46281\",\"type\":\"ColumnDataSource\"},{\"attributes\":{},\"id\":\"47860\",\"type\":\"Selection\"},{\"attributes\":{\"data_source\":{\"id\":\"46276\",\"type\":\"ColumnDataSource\"},\"glyph\":{\"id\":\"46277\",\"type\":\"Line\"},\"hover_glyph\":null,\"muted_glyph\":null,\"nonselection_glyph\":{\"id\":\"46278\",\"type\":\"Line\"},\"selection_glyph\":null,\"view\":{\"id\":\"46280\",\"type\":\"CDSView\"}},\"id\":\"46279\",\"type\":\"GlyphRenderer\"},{\"attributes\":{},\"id\":\"47861\",\"type\":\"UnionRenderers\"},{\"attributes\":{\"line_alpha\":0.1,\"line_color\":\"#1f77b4\",\"line_dash\":[6],\"x\":{\"field\":\"x\"},\"y\":{\"field\":\"y\"}},\"id\":\"46198\",\"type\":\"Line\"},{\"attributes\":{\"fill_color\":{\"value\":\"red\"},\"line_color\":{\"value\":\"red\"},\"x\":{\"field\":\"x\"},\"y\":{\"field\":\"y\"}},\"id\":\"46222\",\"type\":\"Circle\"},{\"attributes\":{\"line_color\":\"darkblue\",\"line_dash\":[6],\"x\":{\"field\":\"x\"},\"y\":{\"field\":\"y\"}},\"id\":\"46267\",\"type\":\"Line\"},{\"attributes\":{\"data_source\":{\"id\":\"46281\",\"type\":\"ColumnDataSource\"},\"glyph\":{\"id\":\"46282\",\"type\":\"Circle\"},\"hover_glyph\":null,\"muted_glyph\":null,\"nonselection_glyph\":{\"id\":\"46283\",\"type\":\"Circle\"},\"selection_glyph\":null,\"view\":{\"id\":\"46285\",\"type\":\"CDSView\"}},\"id\":\"46284\",\"type\":\"GlyphRenderer\"},{\"attributes\":{\"line_color\":\"green\",\"line_dash\":[6],\"x\":{\"field\":\"x\"},\"y\":{\"field\":\"y\"}},\"id\":\"46207\",\"type\":\"Line\"},{\"attributes\":{},\"id\":\"47862\",\"type\":\"Selection\"},{\"attributes\":{\"callback\":null,\"data\":{\"x\":[0,1,2,3,4,5,6,7,8,9,10,11,12,13,14,15,16,17,18,19,20,21,22,23,24,25,26,27,28,29,30],\"y\":[51.92962071541207,49.506183085733255,45.62204332309735,41.505519130218275,39.912025894265085,39.28956759897087,38.799900406672755,38.67540874761391,38.42642542949623,38.37662876587269,38.10274711594323,37.986554900821645,37.787368246327496,37.886961573574574,37.87866212963731,37.87036268570006,37.62137936758237,37.74587102664122,37.662876587268656,37.637978255456886,37.654577143331394,37.62137936758237,37.679475475143164,37.87866212963731,37.73757158270396,37.77076935845298,37.68777491908042,37.85376379782554,37.71267325089219,37.71267325089219,37.72097269482945]},\"selected\":{\"id\":\"47852\",\"type\":\"Selection\"},\"selection_policy\":{\"id\":\"47851\",\"type\":\"UnionRenderers\"}},\"id\":\"46226\",\"type\":\"ColumnDataSource\"},{\"attributes\":{\"callback\":null,\"data\":{\"x\":[0,1,2,3,4,5,6,7,8,9,10,11,12,13,14,15,16,17,18,19,20,21,22,23,24,25,26,27,28,29,30],\"y\":[51.04987965806291,48.10357706033696,43.630176778155864,39.20657315959831,37.82056602207652,37.206407170719565,36.525852767864556,36.09428168312723,36.01958668769193,36.01958668769193,35.89509502863308,35.78720225744875,35.89509502863308,35.77060336957424,35.729106149887954,35.78720225744875,35.97808946800564,35.67930948626442,35.57141671508009,35.554817827205575,35.5133206075193,35.42202672420948,35.6461117105154,35.47182338783301,35.48842227570753,35.563117271142836,35.48842227570753,35.37223006058594,35.455224499958504,35.34733172877417,35.3224333969624]},\"selected\":{\"id\":\"47868\",\"type\":\"Selection\"},\"selection_policy\":{\"id\":\"47867\",\"type\":\"UnionRenderers\"}},\"id\":\"46266\",\"type\":\"ColumnDataSource\"},{\"attributes\":{\"callback\":null,\"data\":{\"x\":[0,1,2,3,4,5,6,7,8,9,10,11,12,13,14,15,16,17,18,19,20,21,22,23,24,25,26,27,28,29,30],\"y\":[57.3242592746286,54.30326168146734,50.89219022325504,47.024649348493654,46.24450161839157,46.543281600132794,46.60967715163084,46.60137770769359,46.94165490912109,46.949954353058345,46.76736658643871,46.84206158187401,47.16573989542701,47.66370653166238,47.74670097103494,47.59731098016433,48.00398373308988,47.97908540127811,47.89609096190555,47.962486513403604,48.13677483608598,48.086978172462445,48.14507428002324,48.13677483608598,48.14507428002324,48.12847539214873,47.937588181591835,47.94588762552909,47.97908540127811,47.779898746783964,47.755000414972194]},\"selected\":{\"id\":\"47846\",\"type\":\"Selection\"},\"selection_policy\":{\"id\":\"47845\",\"type\":\"UnionRenderers\"}},\"id\":\"46211\",\"type\":\"ColumnDataSource\"},{\"attributes\":{\"callback\":null,\"data\":{\"x\":[0,1,2,3,4,5,6,7,8,9,10,11,12,13,14,15,16,17,18,19,20,21,22,23,24,25,26,27,28,29,30],\"y\":[51.08307743381194,49.73026807203917,44.493318947630506,40.09461366088472,38.111046559880485,37.23960494646859,37.11511328740974,36.90762718897834,36.63374553904888,36.492654992115526,36.467756660303756,36.3847622209312,36.2519711179351,36.3847622209312,36.47605610424102,36.492654992115526,36.60054776329986,36.63374553904888,36.35156444518217,36.235372230060584,36.27686944974687,36.13577890281351,36.3847622209312,36.42625944061748,36.31006722549589,35.9863889119429,36.467756660303756,36.42625944061748,36.2519711179351,36.193875010374306,36.13577890281351]},\"selected\":{\"id\":\"47860\",\"type\":\"Selection\"},\"selection_policy\":{\"id\":\"47859\",\"type\":\"UnionRenderers\"}},\"id\":\"46246\",\"type\":\"ColumnDataSource\"},{\"attributes\":{},\"id\":\"47863\",\"type\":\"UnionRenderers\"},{\"attributes\":{\"fill_alpha\":{\"value\":0.1},\"fill_color\":{\"value\":\"#1f77b4\"},\"line_alpha\":{\"value\":0.1},\"line_color\":{\"value\":\"#1f77b4\"},\"x\":{\"field\":\"x\"},\"y\":{\"field\":\"y\"}},\"id\":\"46273\",\"type\":\"Circle\"},{\"attributes\":{},\"id\":\"47864\",\"type\":\"Selection\"},{\"attributes\":{\"data_source\":{\"id\":\"46266\",\"type\":\"ColumnDataSource\"},\"glyph\":{\"id\":\"46267\",\"type\":\"Line\"},\"hover_glyph\":null,\"muted_glyph\":null,\"nonselection_glyph\":{\"id\":\"46268\",\"type\":\"Line\"},\"selection_glyph\":null,\"view\":{\"id\":\"46270\",\"type\":\"CDSView\"}},\"id\":\"46269\",\"type\":\"GlyphRenderer\"},{\"attributes\":{\"fill_alpha\":{\"value\":0.1},\"fill_color\":{\"value\":\"#1f77b4\"},\"line_alpha\":{\"value\":0.1},\"line_color\":{\"value\":\"#1f77b4\"},\"x\":{\"field\":\"x\"},\"y\":{\"field\":\"y\"}},\"id\":\"46223\",\"type\":\"Circle\"},{\"attributes\":{\"callback\":null},\"id\":\"46153\",\"type\":\"DataRange1d\"},{\"attributes\":{\"source\":{\"id\":\"46221\",\"type\":\"ColumnDataSource\"}},\"id\":\"46225\",\"type\":\"CDSView\"},{\"attributes\":{},\"id\":\"47865\",\"type\":\"UnionRenderers\"},{\"attributes\":{\"source\":{\"id\":\"46236\",\"type\":\"ColumnDataSource\"}},\"id\":\"46240\",\"type\":\"CDSView\"},{\"attributes\":{\"line_dash\":[6],\"x\":{\"field\":\"x\"},\"y\":{\"field\":\"y\"}},\"id\":\"46257\",\"type\":\"Line\"},{\"attributes\":{},\"id\":\"47866\",\"type\":\"Selection\"},{\"attributes\":{\"fill_alpha\":{\"value\":0.1},\"fill_color\":{\"value\":\"#1f77b4\"},\"line_alpha\":{\"value\":0.1},\"line_color\":{\"value\":\"#1f77b4\"},\"x\":{\"field\":\"x\"},\"y\":{\"field\":\"y\"}},\"id\":\"46263\",\"type\":\"Circle\"},{\"attributes\":{\"line_color\":\"blue\",\"line_dash\":[6],\"x\":{\"field\":\"x\"},\"y\":{\"field\":\"y\"}},\"id\":\"46187\",\"type\":\"Line\"},{\"attributes\":{\"line_color\":\"purple\",\"line_dash\":[6],\"x\":{\"field\":\"x\"},\"y\":{\"field\":\"y\"}},\"id\":\"46237\",\"type\":\"Line\"},{\"attributes\":{\"fill_color\":{\"value\":\"darkblue\"},\"line_color\":{\"value\":\"darkblue\"},\"x\":{\"field\":\"x\"},\"y\":{\"field\":\"y\"}},\"id\":\"46272\",\"type\":\"Circle\"},{\"attributes\":{},\"id\":\"47867\",\"type\":\"UnionRenderers\"},{\"attributes\":{\"callback\":null,\"data\":{\"x\":[0,1,2,3,4,5,6,7,8,9,10,11,12,13,14,15,16,17,18,19,20,21,22,23,24,25,26,27,28,29,30],\"y\":[50.93368744294132,48.742634243505684,43.62187733421861,38.55921653249232,36.98232218441365,36.17727612249979,35.7208067059507,35.480122831770274,35.34733172877417,35.38882894846045,35.305834509087894,35.3224333969624,35.23943895758984,35.09004896671923,34.85766453647606,34.8493650925388,34.95725786372313,34.973856751597644,34.8493650925388,34.78296954104075,34.899161756162336,34.85766453647606,34.81616731678977,34.749771765291726,34.72487343347996,34.66677732591916,34.5837828865466,34.67507676985642,34.74147232135447,34.65847788198191,34.69167565773093]},\"selected\":{\"id\":\"47872\",\"type\":\"Selection\"},\"selection_policy\":{\"id\":\"47871\",\"type\":\"UnionRenderers\"}},\"id\":\"46276\",\"type\":\"ColumnDataSource\"},{\"attributes\":{},\"id\":\"47868\",\"type\":\"Selection\"},{\"attributes\":{},\"id\":\"47869\",\"type\":\"UnionRenderers\"},{\"attributes\":{},\"id\":\"47870\",\"type\":\"Selection\"},{\"attributes\":{},\"id\":\"47871\",\"type\":\"UnionRenderers\"},{\"attributes\":{},\"id\":\"47872\",\"type\":\"Selection\"},{\"attributes\":{},\"id\":\"47873\",\"type\":\"UnionRenderers\"},{\"attributes\":{\"callback\":null,\"data\":{\"x\":[0,1,2,3,4,5,6,7,8,9,10,11,12,13,14,15,16,17,18,19,20,21,22,23,24,25,26,27,28,29,30],\"y\":[81.27645447755,78.24715744045149,75.84861814258444,74.76969043074114,76.47937588181591,77.16822972860818,78.30525354801229,79.03560461449084,80.2556228732675,80.20582620964396,80.91127894431074,80.85318283674994,80.13113121420865,80.74529006556561,80.69549340194207,80.86978172462445,81.0523694912441,80.67889451406755,81.55033612747945,81.21005892605196,80.8780811685617,80.75358950950286,80.48800730351067,81.02747115943232,80.74529006556561,80.4631089716989,80.8614822806872,80.36351564445182,80.58760063075773,81.43414391235787,80.54610341107146]},\"selected\":{\"id\":\"47836\",\"type\":\"Selection\"},\"selection_policy\":{\"id\":\"47835\",\"type\":\"UnionRenderers\"}},\"id\":\"46186\",\"type\":\"ColumnDataSource\"},{\"attributes\":{},\"id\":\"47874\",\"type\":\"Selection\"},{\"attributes\":{\"callback\":null,\"end\":100},\"id\":\"46155\",\"type\":\"Range1d\"},{\"attributes\":{},\"id\":\"46157\",\"type\":\"LinearScale\"},{\"attributes\":{\"formatter\":{\"id\":\"47831\",\"type\":\"BasicTickFormatter\"},\"plot\":{\"id\":\"46152\",\"subtype\":\"Figure\",\"type\":\"Plot\"},\"ticker\":{\"id\":\"46162\",\"type\":\"BasicTicker\"}},\"id\":\"46161\",\"type\":\"LinearAxis\"},{\"attributes\":{},\"id\":\"46159\",\"type\":\"LinearScale\"},{\"attributes\":{\"plot\":{\"id\":\"46152\",\"subtype\":\"Figure\",\"type\":\"Plot\"},\"ticker\":{\"id\":\"46162\",\"type\":\"BasicTicker\"}},\"id\":\"46165\",\"type\":\"Grid\"},{\"attributes\":{},\"id\":\"46162\",\"type\":\"BasicTicker\"},{\"attributes\":{},\"id\":\"46167\",\"type\":\"BasicTicker\"},{\"attributes\":{\"formatter\":{\"id\":\"47833\",\"type\":\"BasicTickFormatter\"},\"plot\":{\"id\":\"46152\",\"subtype\":\"Figure\",\"type\":\"Plot\"},\"ticker\":{\"id\":\"46167\",\"type\":\"BasicTicker\"}},\"id\":\"46166\",\"type\":\"LinearAxis\"}],\"root_ids\":[\"46152\"]},\"title\":\"Bokeh Application\",\"version\":\"1.0.0\"}};\n",
       "  var render_items = [{\"docid\":\"d4b84410-dde6-4529-b382-6473726361a1\",\"roots\":{\"46152\":\"a50192d7-015c-4c21-b5df-8b279b0416e9\"}}];\n",
       "  root.Bokeh.embed.embed_items_notebook(docs_json, render_items);\n",
       "\n",
       "  }\n",
       "  if (root.Bokeh !== undefined) {\n",
       "    embed_document(root);\n",
       "  } else {\n",
       "    var attempts = 0;\n",
       "    var timer = setInterval(function(root) {\n",
       "      if (root.Bokeh !== undefined) {\n",
       "        embed_document(root);\n",
       "        clearInterval(timer);\n",
       "      }\n",
       "      attempts++;\n",
       "      if (attempts > 100) {\n",
       "        console.log(\"Bokeh: ERROR: Unable to run BokehJS code because BokehJS library is missing\");\n",
       "        clearInterval(timer);\n",
       "      }\n",
       "    }, 10, root)\n",
       "  }\n",
       "})(window);"
      ],
      "application/vnd.bokehjs_exec.v0+json": ""
     },
     "metadata": {
      "application/vnd.bokehjs_exec.v0+json": {
       "id": "46152"
      }
     },
     "output_type": "display_data"
    }
   ],
   "source": [
    "ref = 'data/timit/test/trans'\n",
    "\n",
    "ldims = [2, 5, 10, 15, 20, 25, 30, 35, 40, 45]\n",
    "colors = ['blue', 'orange', 'green', 'red', 'brown', 'purple', 'salmon', 'black', 'darkblue', 'grey']\n",
    "fig = figure(y_range=(0, 100))\n",
    "dim_wers = {}\n",
    "for ldim, color in zip(ldims, colors):\n",
    "    wers = []\n",
    "    for i in range(0, 31):\n",
    "        hyp = f'exp/timit/dsubspace_monophone_mbn_babel_ldim{ldim}/decode_e{i}_ac1.0/test/trans'\n",
    "        if not os.path.isfile(hyp):\n",
    "            continue\n",
    "        def load_trans(transfile, mapping=None):\n",
    "            with open(transfile, 'r') as f:\n",
    "                utt_trans = {}\n",
    "                for line in f:\n",
    "                    tokens = line.strip().split()\n",
    "                    uttid, trans = tokens[0], tokens[1:]\n",
    "                    if mapping is not None:\n",
    "                        trans = [mapping[token] for token in trans]\n",
    "                    utt_trans[uttid] = list(filter(lambda a: a != 'sil', trans))\n",
    "            return utt_trans\n",
    "\n",
    "        ref_trans = load_trans(ref, phonemap)\n",
    "        hyp_trans = load_trans(hyp, phonemap)\n",
    "\n",
    "        acc_wer = 0\n",
    "        nwords = 0\n",
    "        for utt in ref_trans:\n",
    "            ref_t, hyp_t = ref_trans[utt], hyp_trans[utt]\n",
    "            acc_wer += wer(ref_t, hyp_t)\n",
    "            nwords += len(ref_t)\n",
    "        wers.append(100 * acc_wer/nwords )\n",
    "    if len(wers) > 0:\n",
    "        print(wers[-1])\n",
    "    dim_wers[ldim] = wers\n",
    "    fig.line(range(len(wers)), wers, color=color, line_dash='dashed')\n",
    "    fig.circle(range(len(wers)), wers, color=color)\n",
    "\n",
    "show(fig)"
   ]
  },
  {
   "cell_type": "code",
   "execution_count": 85,
   "metadata": {},
   "outputs": [
    {
     "name": "stdout",
     "output_type": "stream",
     "text": [
      "84.30575151464852\n",
      "70.08880405012864\n",
      "51.92132127147481\n",
      "44.37712673250892\n",
      "39.52195202921404\n",
      "37.306000497966636\n",
      "36.06938335131546\n",
      "35.46352394389576\n",
      "35.47182338783301\n",
      "35.14814507428002\n"
     ]
    },
    {
     "data": {
      "text/html": [
       "\n",
       "\n",
       "\n",
       "\n",
       "\n",
       "\n",
       "  <div class=\"bk-root\" id=\"b7fa65ff-5eff-420e-8606-d57cf7d6f632\"></div>\n"
      ]
     },
     "metadata": {},
     "output_type": "display_data"
    },
    {
     "data": {
      "application/javascript": [
       "(function(root) {\n",
       "  function embed_document(root) {\n",
       "    \n",
       "  var docs_json = {\"fa1b02a9-2bf6-4869-9667-aadd939896db\":{\"roots\":{\"references\":[{\"attributes\":{\"below\":[{\"id\":\"40428\",\"type\":\"LinearAxis\"}],\"left\":[{\"id\":\"40433\",\"type\":\"LinearAxis\"}],\"renderers\":[{\"id\":\"40428\",\"type\":\"LinearAxis\"},{\"id\":\"40432\",\"type\":\"Grid\"},{\"id\":\"40433\",\"type\":\"LinearAxis\"},{\"id\":\"40437\",\"type\":\"Grid\"},{\"id\":\"40446\",\"type\":\"BoxAnnotation\"},{\"id\":\"40456\",\"type\":\"GlyphRenderer\"},{\"id\":\"40461\",\"type\":\"GlyphRenderer\"},{\"id\":\"40466\",\"type\":\"GlyphRenderer\"},{\"id\":\"40471\",\"type\":\"GlyphRenderer\"},{\"id\":\"40476\",\"type\":\"GlyphRenderer\"},{\"id\":\"40481\",\"type\":\"GlyphRenderer\"},{\"id\":\"40486\",\"type\":\"GlyphRenderer\"},{\"id\":\"40491\",\"type\":\"GlyphRenderer\"},{\"id\":\"40496\",\"type\":\"GlyphRenderer\"},{\"id\":\"40501\",\"type\":\"GlyphRenderer\"},{\"id\":\"40506\",\"type\":\"GlyphRenderer\"},{\"id\":\"40511\",\"type\":\"GlyphRenderer\"},{\"id\":\"40516\",\"type\":\"GlyphRenderer\"},{\"id\":\"40521\",\"type\":\"GlyphRenderer\"},{\"id\":\"40526\",\"type\":\"GlyphRenderer\"},{\"id\":\"40531\",\"type\":\"GlyphRenderer\"},{\"id\":\"40536\",\"type\":\"GlyphRenderer\"},{\"id\":\"40541\",\"type\":\"GlyphRenderer\"},{\"id\":\"40546\",\"type\":\"GlyphRenderer\"},{\"id\":\"40551\",\"type\":\"GlyphRenderer\"}],\"title\":{\"id\":\"41955\",\"type\":\"Title\"},\"toolbar\":{\"id\":\"40444\",\"type\":\"Toolbar\"},\"x_range\":{\"id\":\"40420\",\"type\":\"DataRange1d\"},\"x_scale\":{\"id\":\"40424\",\"type\":\"LinearScale\"},\"y_range\":{\"id\":\"40422\",\"type\":\"Range1d\"},\"y_scale\":{\"id\":\"40426\",\"type\":\"LinearScale\"}},\"id\":\"40419\",\"subtype\":\"Figure\",\"type\":\"Plot\"},{\"attributes\":{\"callback\":null,\"data\":{\"x\":[0,1,2,3,4,5,6,7,8,9,10,11,12,13,14,15,16,17,18,19,20,21,22,23,24,25,26,27,28,29,30],\"y\":[51.34036019586688,48.692837579882145,43.962154535646114,40.73367084405345,39.430658145904225,38.999087061166904,38.443024317370735,38.492820980994274,38.35173043406092,38.02805212050792,37.87036268570006,37.662876587268656,37.505187152460785,37.347497717652914,37.347497717652914,37.24790439040584,37.47198937671176,37.554983816084324,37.505187152460785,37.51348659639804,37.51348659639804,37.33919827371566,37.455390488837246,37.5217860403353,37.33919827371566,37.49688770852353,37.44709104489999,37.47198937671176,37.44709104489999,37.44709104489999,37.306000497966636]},\"selected\":{\"id\":\"41984\",\"type\":\"Selection\"},\"selection_policy\":{\"id\":\"41983\",\"type\":\"UnionRenderers\"}},\"id\":\"40508\",\"type\":\"ColumnDataSource\"},{\"attributes\":{\"data_source\":{\"id\":\"40508\",\"type\":\"ColumnDataSource\"},\"glyph\":{\"id\":\"40509\",\"type\":\"Circle\"},\"hover_glyph\":null,\"muted_glyph\":null,\"nonselection_glyph\":{\"id\":\"40510\",\"type\":\"Circle\"},\"selection_glyph\":null,\"view\":{\"id\":\"40512\",\"type\":\"CDSView\"}},\"id\":\"40511\",\"type\":\"GlyphRenderer\"},{\"attributes\":{\"fill_alpha\":{\"value\":0.1},\"fill_color\":{\"value\":\"#1f77b4\"},\"line_alpha\":{\"value\":0.1},\"line_color\":{\"value\":\"#1f77b4\"},\"x\":{\"field\":\"x\"},\"y\":{\"field\":\"y\"}},\"id\":\"40540\",\"type\":\"Circle\"},{\"attributes\":{\"data_source\":{\"id\":\"40538\",\"type\":\"ColumnDataSource\"},\"glyph\":{\"id\":\"40539\",\"type\":\"Circle\"},\"hover_glyph\":null,\"muted_glyph\":null,\"nonselection_glyph\":{\"id\":\"40540\",\"type\":\"Circle\"},\"selection_glyph\":null,\"view\":{\"id\":\"40542\",\"type\":\"CDSView\"}},\"id\":\"40541\",\"type\":\"GlyphRenderer\"},{\"attributes\":{\"callback\":null,\"data\":{\"x\":[0,1,2,3,4,5,6,7,8,9,10,11,12,13,14,15,16,17,18,19,20,21,22,23,24,25,26,27,28,29,30],\"y\":[50.89219022325504,48.892024234376294,43.738069549340196,39.787534235206245,38.71690596730019,38.127645447755,37.77076935845298,37.330898829778405,37.007220516225416,36.96572329653913,36.45115777242925,36.53415221180181,36.27686944974687,36.2519711179351,36.27686944974687,36.193875010374306,36.2519711179351,36.33496555730766,36.07768279525272,36.044485019503696,36.085982239189974,36.06938335131546,36.061083907378205,36.11088057100174,35.91999336044485,35.886795584695825,35.94489169225662,35.77890281351149,36.01958668769193,36.119180014939,36.06938335131546]},\"selected\":{\"id\":\"41986\",\"type\":\"Selection\"},\"selection_policy\":{\"id\":\"41985\",\"type\":\"UnionRenderers\"}},\"id\":\"40513\",\"type\":\"ColumnDataSource\"},{\"attributes\":{\"data_source\":{\"id\":\"40533\",\"type\":\"ColumnDataSource\"},\"glyph\":{\"id\":\"40534\",\"type\":\"Line\"},\"hover_glyph\":null,\"muted_glyph\":null,\"nonselection_glyph\":{\"id\":\"40535\",\"type\":\"Line\"},\"selection_glyph\":null,\"view\":{\"id\":\"40537\",\"type\":\"CDSView\"}},\"id\":\"40536\",\"type\":\"GlyphRenderer\"},{\"attributes\":{\"source\":{\"id\":\"40538\",\"type\":\"ColumnDataSource\"}},\"id\":\"40542\",\"type\":\"CDSView\"},{\"attributes\":{\"line_alpha\":0.1,\"line_color\":\"#1f77b4\",\"x\":{\"field\":\"x\"},\"y\":{\"field\":\"y\"}},\"id\":\"40515\",\"type\":\"Line\"},{\"attributes\":{\"line_alpha\":0.1,\"line_color\":\"#1f77b4\",\"x\":{\"field\":\"x\"},\"y\":{\"field\":\"y\"}},\"id\":\"40535\",\"type\":\"Line\"},{\"attributes\":{\"callback\":null,\"data\":{\"x\":[0,1,2,3,4,5,6,7,8,9,10,11,12,13,14,15,16,17,18,19,20,21,22,23,24,25,26,27,28,29,30],\"y\":[51.13287409743547,49.21570254792929,43.90405842808532,38.95758984148062,37.37239604946468,36.675242758735166,36.13577890281351,35.79550170138601,35.480122831770274,35.355631172711426,35.355631172711426,35.16474396215454,34.924060087974105,34.85766453647606,34.96555730766039,34.874263424350566,34.973856751597644,35.114947298531,34.89086231222508,35.00705452734667,35.17304340609179,34.94065897584862,35.073450078844715,34.95725786372313,35.04025230309569,35.048551747032946,35.14814507428002,35.106647854593746,35.04025230309569,35.073450078844715,35.14814507428002]},\"selected\":{\"id\":\"42000\",\"type\":\"Selection\"},\"selection_policy\":{\"id\":\"41999\",\"type\":\"UnionRenderers\"}},\"id\":\"40548\",\"type\":\"ColumnDataSource\"},{\"attributes\":{},\"id\":\"41973\",\"type\":\"UnionRenderers\"},{\"attributes\":{\"source\":{\"id\":\"40503\",\"type\":\"ColumnDataSource\"}},\"id\":\"40507\",\"type\":\"CDSView\"},{\"attributes\":{},\"id\":\"41974\",\"type\":\"Selection\"},{\"attributes\":{\"x\":{\"field\":\"x\"},\"y\":{\"field\":\"y\"}},\"id\":\"40524\",\"type\":\"Line\"},{\"attributes\":{\"fill_color\":{\"value\":\"blue\"},\"line_color\":{\"value\":\"blue\"},\"x\":{\"field\":\"x\"},\"y\":{\"field\":\"y\"}},\"id\":\"40459\",\"type\":\"Circle\"},{\"attributes\":{\"source\":{\"id\":\"40508\",\"type\":\"ColumnDataSource\"}},\"id\":\"40512\",\"type\":\"CDSView\"},{\"attributes\":{},\"id\":\"41978\",\"type\":\"Selection\"},{\"attributes\":{\"callback\":null,\"data\":{\"x\":[0,1,2,3,4,5,6,7,8,9,10,11,12,13,14,15,16,17,18,19,20,21,22,23,24,25,26,27,28,29,30],\"y\":[59.863889119429,56.037845464353886,52.68487011370238,50.09544360527845,49.74686695991369,50.1037430492157,50.294630259772596,50.56021246576479,50.817495227819734,51.2407668686198,51.34865963980413,51.20756909287078,51.43995352311395,51.97111793509835,51.755332392729684,51.70553572910615,52.087310150219935,51.87982405178853,52.137106813843474,52.19520292140427,51.94621960328658,51.99601626691012,52.269897916839575,52.17860403352975,52.04581293053366,52.00431571084737,51.86322516391402,51.34036019586688,51.9047223836003,52.40268901983567,51.92132127147481]},\"selected\":{\"id\":\"41970\",\"type\":\"Selection\"},\"selection_policy\":{\"id\":\"41969\",\"type\":\"UnionRenderers\"}},\"id\":\"40473\",\"type\":\"ColumnDataSource\"},{\"attributes\":{\"source\":{\"id\":\"40533\",\"type\":\"ColumnDataSource\"}},\"id\":\"40537\",\"type\":\"CDSView\"},{\"attributes\":{\"fill_color\":{\"value\":\"darkblue\"},\"line_color\":{\"value\":\"darkblue\"},\"x\":{\"field\":\"x\"},\"y\":{\"field\":\"y\"}},\"id\":\"40539\",\"type\":\"Circle\"},{\"attributes\":{\"fill_color\":{\"value\":\"black\"},\"x\":{\"field\":\"x\"},\"y\":{\"field\":\"y\"}},\"id\":\"40529\",\"type\":\"Circle\"},{\"attributes\":{},\"id\":\"41965\",\"type\":\"UnionRenderers\"},{\"attributes\":{\"data_source\":{\"id\":\"40513\",\"type\":\"ColumnDataSource\"},\"glyph\":{\"id\":\"40514\",\"type\":\"Line\"},\"hover_glyph\":null,\"muted_glyph\":null,\"nonselection_glyph\":{\"id\":\"40515\",\"type\":\"Line\"},\"selection_glyph\":null,\"view\":{\"id\":\"40517\",\"type\":\"CDSView\"}},\"id\":\"40516\",\"type\":\"GlyphRenderer\"},{\"attributes\":{\"callback\":null,\"data\":{\"x\":[0,1,2,3,4,5,6,7,8,9,10,11,12,13,14,15,16,17,18,19,20,21,22,23,24,25,26,27,28,29,30],\"y\":[87.92430907129223,85.71665698398208,83.12723047555814,80.86978172462445,81.25155614573823,81.8657149970952,82.89484604531496,82.91144493318947,82.97784048468752,83.58369989210723,83.19362602705618,83.35961490580131,83.86588098597394,83.77458710266413,84.26425429496224,85.50917088555067,84.38044651008383,84.33064984646029,85.35978089468006,84.39704539795834,85.9573408581625,85.2186903477467,85.11909702049962,84.67922649182505,84.9531081417545,84.94480869781725,84.23935596315047,84.39704539795834,84.53813594489169,84.97800647356627,84.30575151464852]},\"selected\":{\"id\":\"41964\",\"type\":\"Selection\"},\"selection_policy\":{\"id\":\"41963\",\"type\":\"UnionRenderers\"}},\"id\":\"40458\",\"type\":\"ColumnDataSource\"},{\"attributes\":{\"plot\":null,\"text\":\"\"},\"id\":\"41955\",\"type\":\"Title\"},{\"attributes\":{},\"id\":\"41969\",\"type\":\"UnionRenderers\"},{\"attributes\":{\"line_alpha\":0.1,\"line_color\":\"#1f77b4\",\"x\":{\"field\":\"x\"},\"y\":{\"field\":\"y\"}},\"id\":\"40545\",\"type\":\"Line\"},{\"attributes\":{},\"id\":\"41962\",\"type\":\"Selection\"},{\"attributes\":{},\"id\":\"41959\",\"type\":\"BasicTickFormatter\"},{\"attributes\":{},\"id\":\"40438\",\"type\":\"PanTool\"},{\"attributes\":{},\"id\":\"41972\",\"type\":\"Selection\"},{\"attributes\":{\"data_source\":{\"id\":\"40518\",\"type\":\"ColumnDataSource\"},\"glyph\":{\"id\":\"40519\",\"type\":\"Circle\"},\"hover_glyph\":null,\"muted_glyph\":null,\"nonselection_glyph\":{\"id\":\"40520\",\"type\":\"Circle\"},\"selection_glyph\":null,\"view\":{\"id\":\"40522\",\"type\":\"CDSView\"}},\"id\":\"40521\",\"type\":\"GlyphRenderer\"},{\"attributes\":{},\"id\":\"40439\",\"type\":\"WheelZoomTool\"},{\"attributes\":{\"callback\":null,\"data\":{\"x\":[0,1,2,3,4,5,6,7,8,9,10,11,12,13,14,15,16,17,18,19,20,21,22,23,24,25,26,27,28,29,30],\"y\":[51.21586853680803,48.98331811768612,72.4458461283094,55.34899161756162,42.21097186488505,39.11527927628849,37.74587102664122,37.27280272221761,36.95742385260188,36.725039422358705,36.48435554817827,36.35156444518217,36.235372230060584,36.119180014939,36.06938335131546,35.961490580131134,35.74570503776247,35.762303925636985,70.15519960162669,53.97958336791435,39.7958336791435,37.77076935845298,36.74163831023321,36.393061664868455,36.193875010374306,36.15237779068802,35.861897252884056,35.69590837413893,35.62121337870363,35.5880156029546,35.46352394389576]},\"selected\":{\"id\":\"41990\",\"type\":\"Selection\"},\"selection_policy\":{\"id\":\"41989\",\"type\":\"UnionRenderers\"}},\"id\":\"40523\",\"type\":\"ColumnDataSource\"},{\"attributes\":{\"fill_color\":{\"value\":\"grey\"},\"line_color\":{\"value\":\"grey\"},\"x\":{\"field\":\"x\"},\"y\":{\"field\":\"y\"}},\"id\":\"40549\",\"type\":\"Circle\"},{\"attributes\":{\"data_source\":{\"id\":\"40548\",\"type\":\"ColumnDataSource\"},\"glyph\":{\"id\":\"40549\",\"type\":\"Circle\"},\"hover_glyph\":null,\"muted_glyph\":null,\"nonselection_glyph\":{\"id\":\"40550\",\"type\":\"Circle\"},\"selection_glyph\":null,\"view\":{\"id\":\"40552\",\"type\":\"CDSView\"}},\"id\":\"40551\",\"type\":\"GlyphRenderer\"},{\"attributes\":{\"overlay\":{\"id\":\"40446\",\"type\":\"BoxAnnotation\"}},\"id\":\"40440\",\"type\":\"BoxZoomTool\"},{\"attributes\":{},\"id\":\"41961\",\"type\":\"UnionRenderers\"},{\"attributes\":{},\"id\":\"40441\",\"type\":\"SaveTool\"},{\"attributes\":{},\"id\":\"40442\",\"type\":\"ResetTool\"},{\"attributes\":{\"data_source\":{\"id\":\"40503\",\"type\":\"ColumnDataSource\"},\"glyph\":{\"id\":\"40504\",\"type\":\"Line\"},\"hover_glyph\":null,\"muted_glyph\":null,\"nonselection_glyph\":{\"id\":\"40505\",\"type\":\"Line\"},\"selection_glyph\":null,\"view\":{\"id\":\"40507\",\"type\":\"CDSView\"}},\"id\":\"40506\",\"type\":\"GlyphRenderer\"},{\"attributes\":{},\"id\":\"41964\",\"type\":\"Selection\"},{\"attributes\":{},\"id\":\"40443\",\"type\":\"HelpTool\"},{\"attributes\":{\"line_color\":\"blue\",\"x\":{\"field\":\"x\"},\"y\":{\"field\":\"y\"}},\"id\":\"40454\",\"type\":\"Line\"},{\"attributes\":{\"callback\":null,\"data\":{\"x\":[0,1,2,3,4,5,6,7,8,9,10,11,12,13,14,15,16,17,18,19,20,21,22,23,24,25,26,27,28,29,30],\"y\":[51.13287409743547,49.21570254792929,43.90405842808532,38.95758984148062,37.37239604946468,36.675242758735166,36.13577890281351,35.79550170138601,35.480122831770274,35.355631172711426,35.355631172711426,35.16474396215454,34.924060087974105,34.85766453647606,34.96555730766039,34.874263424350566,34.973856751597644,35.114947298531,34.89086231222508,35.00705452734667,35.17304340609179,34.94065897584862,35.073450078844715,34.95725786372313,35.04025230309569,35.048551747032946,35.14814507428002,35.106647854593746,35.04025230309569,35.073450078844715,35.14814507428002]},\"selected\":{\"id\":\"41998\",\"type\":\"Selection\"},\"selection_policy\":{\"id\":\"41997\",\"type\":\"UnionRenderers\"}},\"id\":\"40543\",\"type\":\"ColumnDataSource\"},{\"attributes\":{\"data_source\":{\"id\":\"40453\",\"type\":\"ColumnDataSource\"},\"glyph\":{\"id\":\"40454\",\"type\":\"Line\"},\"hover_glyph\":null,\"muted_glyph\":null,\"nonselection_glyph\":{\"id\":\"40455\",\"type\":\"Line\"},\"selection_glyph\":null,\"view\":{\"id\":\"40457\",\"type\":\"CDSView\"}},\"id\":\"40456\",\"type\":\"GlyphRenderer\"},{\"attributes\":{\"fill_alpha\":{\"value\":0.1},\"fill_color\":{\"value\":\"#1f77b4\"},\"line_alpha\":{\"value\":0.1},\"line_color\":{\"value\":\"#1f77b4\"},\"x\":{\"field\":\"x\"},\"y\":{\"field\":\"y\"}},\"id\":\"40510\",\"type\":\"Circle\"},{\"attributes\":{\"active_drag\":\"auto\",\"active_inspect\":\"auto\",\"active_multi\":null,\"active_scroll\":\"auto\",\"active_tap\":\"auto\",\"tools\":[{\"id\":\"40438\",\"type\":\"PanTool\"},{\"id\":\"40439\",\"type\":\"WheelZoomTool\"},{\"id\":\"40440\",\"type\":\"BoxZoomTool\"},{\"id\":\"40441\",\"type\":\"SaveTool\"},{\"id\":\"40442\",\"type\":\"ResetTool\"},{\"id\":\"40443\",\"type\":\"HelpTool\"}]},\"id\":\"40444\",\"type\":\"Toolbar\"},{\"attributes\":{},\"id\":\"41968\",\"type\":\"Selection\"},{\"attributes\":{\"source\":{\"id\":\"40463\",\"type\":\"ColumnDataSource\"}},\"id\":\"40467\",\"type\":\"CDSView\"},{\"attributes\":{\"callback\":null,\"data\":{\"x\":[0,1,2,3,4,5,6,7,8,9,10,11,12,13,14,15,16,17,18,19,20,21,22,23,24,25,26,27,28,29,30],\"y\":[50.87559133538053,48.77583201925471,44.14474230226575,39.00738650510416,37.181508838907796,36.6503444269234,36.517553323927295,36.318366669433146,36.26857000580961,36.00298779981741,36.06938335131546,36.13577890281351,35.9863889119429,36.10258112706449,35.961490580131134,35.762303925636985,35.89509502863308,35.84529836500955,35.8535978089468,35.59631504689186,35.54651838326832,35.63781226657814,35.455224499958504,35.480122831770274,35.43862561208399,35.48842227570753,35.47182338783301,35.49672171964478,35.57141671508009,35.529919495393806,35.47182338783301]},\"selected\":{\"id\":\"41996\",\"type\":\"Selection\"},\"selection_policy\":{\"id\":\"41995\",\"type\":\"UnionRenderers\"}},\"id\":\"40538\",\"type\":\"ColumnDataSource\"},{\"attributes\":{\"bottom_units\":\"screen\",\"fill_alpha\":{\"value\":0.5},\"fill_color\":{\"value\":\"lightgrey\"},\"left_units\":\"screen\",\"level\":\"overlay\",\"line_alpha\":{\"value\":1.0},\"line_color\":{\"value\":\"black\"},\"line_dash\":[4,4],\"line_width\":{\"value\":2},\"plot\":null,\"render_mode\":\"css\",\"right_units\":\"screen\",\"top_units\":\"screen\"},\"id\":\"40446\",\"type\":\"BoxAnnotation\"},{\"attributes\":{\"fill_alpha\":{\"value\":0.1},\"fill_color\":{\"value\":\"#1f77b4\"},\"line_alpha\":{\"value\":0.1},\"line_color\":{\"value\":\"#1f77b4\"},\"x\":{\"field\":\"x\"},\"y\":{\"field\":\"y\"}},\"id\":\"40520\",\"type\":\"Circle\"},{\"attributes\":{\"fill_alpha\":{\"value\":0.1},\"fill_color\":{\"value\":\"#1f77b4\"},\"line_alpha\":{\"value\":0.1},\"line_color\":{\"value\":\"#1f77b4\"},\"x\":{\"field\":\"x\"},\"y\":{\"field\":\"y\"}},\"id\":\"40460\",\"type\":\"Circle\"},{\"attributes\":{},\"id\":\"41966\",\"type\":\"Selection\"},{\"attributes\":{\"source\":{\"id\":\"40458\",\"type\":\"ColumnDataSource\"}},\"id\":\"40462\",\"type\":\"CDSView\"},{\"attributes\":{\"fill_color\":{\"value\":\"salmon\"},\"line_color\":{\"value\":\"salmon\"},\"x\":{\"field\":\"x\"},\"y\":{\"field\":\"y\"}},\"id\":\"40519\",\"type\":\"Circle\"},{\"attributes\":{\"callback\":null,\"data\":{\"x\":[0,1,2,3,4,5,6,7,8,9,10,11,12,13,14,15,16,17,18,19,20,21,22,23,24,25,26,27,28,29,30],\"y\":[75.10996763216865,70.48717735911694,66.44534816167317,64.61117105153954,65.86438708606524,65.889285417877,66.59473815254378,68.01394306581459,68.1467341688107,68.55340692173624,68.44551415055192,68.88538467922649,68.72769524441863,68.9766785625363,69.3584529836501,69.17586521703046,69.20906299277948,69.58253796995601,69.27545854427753,68.91028301103826,69.3584529836501,68.7525935762304,69.44144742302265,69.90621628350901,69.86471906382272,70.14690015768943,69.6240351896423,69.06797244584612,69.71532907295212,68.81068968379118,70.08880405012864]},\"selected\":{\"id\":\"41966\",\"type\":\"Selection\"},\"selection_policy\":{\"id\":\"41965\",\"type\":\"UnionRenderers\"}},\"id\":\"40463\",\"type\":\"ColumnDataSource\"},{\"attributes\":{\"source\":{\"id\":\"40528\",\"type\":\"ColumnDataSource\"}},\"id\":\"40532\",\"type\":\"CDSView\"},{\"attributes\":{\"fill_alpha\":{\"value\":0.1},\"fill_color\":{\"value\":\"#1f77b4\"},\"line_alpha\":{\"value\":0.1},\"line_color\":{\"value\":\"#1f77b4\"},\"x\":{\"field\":\"x\"},\"y\":{\"field\":\"y\"}},\"id\":\"40550\",\"type\":\"Circle\"},{\"attributes\":{\"line_color\":\"orange\",\"x\":{\"field\":\"x\"},\"y\":{\"field\":\"y\"}},\"id\":\"40464\",\"type\":\"Line\"},{\"attributes\":{\"source\":{\"id\":\"40523\",\"type\":\"ColumnDataSource\"}},\"id\":\"40527\",\"type\":\"CDSView\"},{\"attributes\":{\"source\":{\"id\":\"40543\",\"type\":\"ColumnDataSource\"}},\"id\":\"40547\",\"type\":\"CDSView\"},{\"attributes\":{\"data_source\":{\"id\":\"40543\",\"type\":\"ColumnDataSource\"},\"glyph\":{\"id\":\"40544\",\"type\":\"Line\"},\"hover_glyph\":null,\"muted_glyph\":null,\"nonselection_glyph\":{\"id\":\"40545\",\"type\":\"Line\"},\"selection_glyph\":null,\"view\":{\"id\":\"40547\",\"type\":\"CDSView\"}},\"id\":\"40546\",\"type\":\"GlyphRenderer\"},{\"attributes\":{\"callback\":null,\"data\":{\"x\":[0,1,2,3,4,5,6,7,8,9,10,11,12,13,14,15,16,17,18,19,20,21,22,23,24,25,26,27,28,29,30],\"y\":[50.89219022325504,48.892024234376294,43.738069549340196,39.787534235206245,38.71690596730019,38.127645447755,37.77076935845298,37.330898829778405,37.007220516225416,36.96572329653913,36.45115777242925,36.53415221180181,36.27686944974687,36.2519711179351,36.27686944974687,36.193875010374306,36.2519711179351,36.33496555730766,36.07768279525272,36.044485019503696,36.085982239189974,36.06938335131546,36.061083907378205,36.11088057100174,35.91999336044485,35.886795584695825,35.94489169225662,35.77890281351149,36.01958668769193,36.119180014939,36.06938335131546]},\"selected\":{\"id\":\"41988\",\"type\":\"Selection\"},\"selection_policy\":{\"id\":\"41987\",\"type\":\"UnionRenderers\"}},\"id\":\"40518\",\"type\":\"ColumnDataSource\"},{\"attributes\":{\"dimension\":1,\"plot\":{\"id\":\"40419\",\"subtype\":\"Figure\",\"type\":\"Plot\"},\"ticker\":{\"id\":\"40434\",\"type\":\"BasicTicker\"}},\"id\":\"40437\",\"type\":\"Grid\"},{\"attributes\":{\"source\":{\"id\":\"40518\",\"type\":\"ColumnDataSource\"}},\"id\":\"40522\",\"type\":\"CDSView\"},{\"attributes\":{\"source\":{\"id\":\"40548\",\"type\":\"ColumnDataSource\"}},\"id\":\"40552\",\"type\":\"CDSView\"},{\"attributes\":{\"data_source\":{\"id\":\"40523\",\"type\":\"ColumnDataSource\"},\"glyph\":{\"id\":\"40524\",\"type\":\"Line\"},\"hover_glyph\":null,\"muted_glyph\":null,\"nonselection_glyph\":{\"id\":\"40525\",\"type\":\"Line\"},\"selection_glyph\":null,\"view\":{\"id\":\"40527\",\"type\":\"CDSView\"}},\"id\":\"40526\",\"type\":\"GlyphRenderer\"},{\"attributes\":{},\"id\":\"40434\",\"type\":\"BasicTicker\"},{\"attributes\":{},\"id\":\"41963\",\"type\":\"UnionRenderers\"},{\"attributes\":{\"formatter\":{\"id\":\"41959\",\"type\":\"BasicTickFormatter\"},\"plot\":{\"id\":\"40419\",\"subtype\":\"Figure\",\"type\":\"Plot\"},\"ticker\":{\"id\":\"40434\",\"type\":\"BasicTicker\"}},\"id\":\"40433\",\"type\":\"LinearAxis\"},{\"attributes\":{},\"id\":\"41970\",\"type\":\"Selection\"},{\"attributes\":{\"line_color\":\"darkblue\",\"x\":{\"field\":\"x\"},\"y\":{\"field\":\"y\"}},\"id\":\"40534\",\"type\":\"Line\"},{\"attributes\":{},\"id\":\"41979\",\"type\":\"UnionRenderers\"},{\"attributes\":{\"plot\":{\"id\":\"40419\",\"subtype\":\"Figure\",\"type\":\"Plot\"},\"ticker\":{\"id\":\"40429\",\"type\":\"BasicTicker\"}},\"id\":\"40432\",\"type\":\"Grid\"},{\"attributes\":{\"source\":{\"id\":\"40513\",\"type\":\"ColumnDataSource\"}},\"id\":\"40517\",\"type\":\"CDSView\"},{\"attributes\":{\"line_color\":\"salmon\",\"x\":{\"field\":\"x\"},\"y\":{\"field\":\"y\"}},\"id\":\"40514\",\"type\":\"Line\"},{\"attributes\":{},\"id\":\"40429\",\"type\":\"BasicTicker\"},{\"attributes\":{\"fill_color\":{\"value\":\"purple\"},\"line_color\":{\"value\":\"purple\"},\"x\":{\"field\":\"x\"},\"y\":{\"field\":\"y\"}},\"id\":\"40509\",\"type\":\"Circle\"},{\"attributes\":{},\"id\":\"41971\",\"type\":\"UnionRenderers\"},{\"attributes\":{\"callback\":null,\"data\":{\"x\":[0,1,2,3,4,5,6,7,8,9,10,11,12,13,14,15,16,17,18,19,20,21,22,23,24,25,26,27,28,29,30],\"y\":[50.87559133538053,48.77583201925471,44.14474230226575,39.00738650510416,37.181508838907796,36.6503444269234,36.517553323927295,36.318366669433146,36.26857000580961,36.00298779981741,36.06938335131546,36.13577890281351,35.9863889119429,36.10258112706449,35.961490580131134,35.762303925636985,35.89509502863308,35.84529836500955,35.8535978089468,35.59631504689186,35.54651838326832,35.63781226657814,35.455224499958504,35.480122831770274,35.43862561208399,35.48842227570753,35.47182338783301,35.49672171964478,35.57141671508009,35.529919495393806,35.47182338783301]},\"selected\":{\"id\":\"41994\",\"type\":\"Selection\"},\"selection_policy\":{\"id\":\"41993\",\"type\":\"UnionRenderers\"}},\"id\":\"40533\",\"type\":\"ColumnDataSource\"},{\"attributes\":{\"formatter\":{\"id\":\"41957\",\"type\":\"BasicTickFormatter\"},\"plot\":{\"id\":\"40419\",\"subtype\":\"Figure\",\"type\":\"Plot\"},\"ticker\":{\"id\":\"40429\",\"type\":\"BasicTicker\"}},\"id\":\"40428\",\"type\":\"LinearAxis\"},{\"attributes\":{\"line_color\":\"purple\",\"x\":{\"field\":\"x\"},\"y\":{\"field\":\"y\"}},\"id\":\"40504\",\"type\":\"Line\"},{\"attributes\":{},\"id\":\"41976\",\"type\":\"Selection\"},{\"attributes\":{\"callback\":null,\"end\":100},\"id\":\"40422\",\"type\":\"Range1d\"},{\"attributes\":{\"line_alpha\":0.1,\"line_color\":\"#1f77b4\",\"x\":{\"field\":\"x\"},\"y\":{\"field\":\"y\"}},\"id\":\"40525\",\"type\":\"Line\"},{\"attributes\":{},\"id\":\"41975\",\"type\":\"UnionRenderers\"},{\"attributes\":{\"callback\":null},\"id\":\"40420\",\"type\":\"DataRange1d\"},{\"attributes\":{\"fill_alpha\":{\"value\":0.1},\"fill_color\":{\"value\":\"#1f77b4\"},\"line_alpha\":{\"value\":0.1},\"line_color\":{\"value\":\"#1f77b4\"},\"x\":{\"field\":\"x\"},\"y\":{\"field\":\"y\"}},\"id\":\"40530\",\"type\":\"Circle\"},{\"attributes\":{},\"id\":\"41967\",\"type\":\"UnionRenderers\"},{\"attributes\":{},\"id\":\"41957\",\"type\":\"BasicTickFormatter\"},{\"attributes\":{\"line_alpha\":0.1,\"line_color\":\"#1f77b4\",\"x\":{\"field\":\"x\"},\"y\":{\"field\":\"y\"}},\"id\":\"40505\",\"type\":\"Line\"},{\"attributes\":{},\"id\":\"40426\",\"type\":\"LinearScale\"},{\"attributes\":{\"line_color\":\"grey\",\"x\":{\"field\":\"x\"},\"y\":{\"field\":\"y\"}},\"id\":\"40544\",\"type\":\"Line\"},{\"attributes\":{\"line_alpha\":0.1,\"line_color\":\"#1f77b4\",\"x\":{\"field\":\"x\"},\"y\":{\"field\":\"y\"}},\"id\":\"40465\",\"type\":\"Line\"},{\"attributes\":{\"callback\":null,\"data\":{\"x\":[0,1,2,3,4,5,6,7,8,9,10,11,12,13,14,15,16,17,18,19,20,21,22,23,24,25,26,27,28,29,30],\"y\":[51.21586853680803,48.98331811768612,72.4458461283094,55.34899161756162,42.21097186488505,39.11527927628849,37.74587102664122,37.27280272221761,36.95742385260188,36.725039422358705,36.48435554817827,36.35156444518217,36.235372230060584,36.119180014939,36.06938335131546,35.961490580131134,35.74570503776247,35.762303925636985,70.15519960162669,53.97958336791435,39.7958336791435,37.77076935845298,36.74163831023321,36.393061664868455,36.193875010374306,36.15237779068802,35.861897252884056,35.69590837413893,35.62121337870363,35.5880156029546,35.46352394389576]},\"selected\":{\"id\":\"41992\",\"type\":\"Selection\"},\"selection_policy\":{\"id\":\"41991\",\"type\":\"UnionRenderers\"}},\"id\":\"40528\",\"type\":\"ColumnDataSource\"},{\"attributes\":{},\"id\":\"41980\",\"type\":\"Selection\"},{\"attributes\":{\"data_source\":{\"id\":\"40463\",\"type\":\"ColumnDataSource\"},\"glyph\":{\"id\":\"40464\",\"type\":\"Line\"},\"hover_glyph\":null,\"muted_glyph\":null,\"nonselection_glyph\":{\"id\":\"40465\",\"type\":\"Line\"},\"selection_glyph\":null,\"view\":{\"id\":\"40467\",\"type\":\"CDSView\"}},\"id\":\"40466\",\"type\":\"GlyphRenderer\"},{\"attributes\":{\"data_source\":{\"id\":\"40528\",\"type\":\"ColumnDataSource\"},\"glyph\":{\"id\":\"40529\",\"type\":\"Circle\"},\"hover_glyph\":null,\"muted_glyph\":null,\"nonselection_glyph\":{\"id\":\"40530\",\"type\":\"Circle\"},\"selection_glyph\":null,\"view\":{\"id\":\"40532\",\"type\":\"CDSView\"}},\"id\":\"40531\",\"type\":\"GlyphRenderer\"},{\"attributes\":{},\"id\":\"41977\",\"type\":\"UnionRenderers\"},{\"attributes\":{\"data_source\":{\"id\":\"40458\",\"type\":\"ColumnDataSource\"},\"glyph\":{\"id\":\"40459\",\"type\":\"Circle\"},\"hover_glyph\":null,\"muted_glyph\":null,\"nonselection_glyph\":{\"id\":\"40460\",\"type\":\"Circle\"},\"selection_glyph\":null,\"view\":{\"id\":\"40462\",\"type\":\"CDSView\"}},\"id\":\"40461\",\"type\":\"GlyphRenderer\"},{\"attributes\":{},\"id\":\"41989\",\"type\":\"UnionRenderers\"},{\"attributes\":{\"callback\":null,\"data\":{\"x\":[0,1,2,3,4,5,6,7,8,9,10,11,12,13,14,15,16,17,18,19,20,21,22,23,24,25,26,27,28,29,30],\"y\":[75.10996763216865,70.48717735911694,66.44534816167317,64.61117105153954,65.86438708606524,65.889285417877,66.59473815254378,68.01394306581459,68.1467341688107,68.55340692173624,68.44551415055192,68.88538467922649,68.72769524441863,68.9766785625363,69.3584529836501,69.17586521703046,69.20906299277948,69.58253796995601,69.27545854427753,68.91028301103826,69.3584529836501,68.7525935762304,69.44144742302265,69.90621628350901,69.86471906382272,70.14690015768943,69.6240351896423,69.06797244584612,69.71532907295212,68.81068968379118,70.08880405012864]},\"selected\":{\"id\":\"41968\",\"type\":\"Selection\"},\"selection_policy\":{\"id\":\"41967\",\"type\":\"UnionRenderers\"}},\"id\":\"40468\",\"type\":\"ColumnDataSource\"},{\"attributes\":{},\"id\":\"41981\",\"type\":\"UnionRenderers\"},{\"attributes\":{\"fill_color\":{\"value\":\"orange\"},\"line_color\":{\"value\":\"orange\"},\"x\":{\"field\":\"x\"},\"y\":{\"field\":\"y\"}},\"id\":\"40469\",\"type\":\"Circle\"},{\"attributes\":{},\"id\":\"41982\",\"type\":\"Selection\"},{\"attributes\":{\"fill_alpha\":{\"value\":0.1},\"fill_color\":{\"value\":\"#1f77b4\"},\"line_alpha\":{\"value\":0.1},\"line_color\":{\"value\":\"#1f77b4\"},\"x\":{\"field\":\"x\"},\"y\":{\"field\":\"y\"}},\"id\":\"40470\",\"type\":\"Circle\"},{\"attributes\":{},\"id\":\"41987\",\"type\":\"UnionRenderers\"},{\"attributes\":{\"line_alpha\":0.1,\"line_color\":\"#1f77b4\",\"x\":{\"field\":\"x\"},\"y\":{\"field\":\"y\"}},\"id\":\"40455\",\"type\":\"Line\"},{\"attributes\":{},\"id\":\"41983\",\"type\":\"UnionRenderers\"},{\"attributes\":{\"data_source\":{\"id\":\"40468\",\"type\":\"ColumnDataSource\"},\"glyph\":{\"id\":\"40469\",\"type\":\"Circle\"},\"hover_glyph\":null,\"muted_glyph\":null,\"nonselection_glyph\":{\"id\":\"40470\",\"type\":\"Circle\"},\"selection_glyph\":null,\"view\":{\"id\":\"40472\",\"type\":\"CDSView\"}},\"id\":\"40471\",\"type\":\"GlyphRenderer\"},{\"attributes\":{},\"id\":\"41984\",\"type\":\"Selection\"},{\"attributes\":{\"source\":{\"id\":\"40468\",\"type\":\"ColumnDataSource\"}},\"id\":\"40472\",\"type\":\"CDSView\"},{\"attributes\":{},\"id\":\"41985\",\"type\":\"UnionRenderers\"},{\"attributes\":{\"callback\":null,\"data\":{\"x\":[0,1,2,3,4,5,6,7,8,9,10,11,12,13,14,15,16,17,18,19,20,21,22,23,24,25,26,27,28,29,30],\"y\":[52.037513486596396,49.381691426674415,45.72993609428168,41.57191468171632,40.42659141837497,39.81243256701801,39.74603701551996,39.729438127645444,39.862229230641546,40.111212548759234,39.92032533820234,39.98672088970039,39.90372645032783,39.712839239770936,39.84563034276704,39.92862478213959,39.87882811851606,39.67964146402191,39.7958336791435,39.67134202008465,39.89542700639057,39.65474313221014,39.83733089882978,39.68794090795917,39.41405925802971,39.70453979583368,39.61324591252386,39.49705369740227,39.59664702464935,39.563449248900326,39.52195202921404]},\"selected\":{\"id\":\"41980\",\"type\":\"Selection\"},\"selection_policy\":{\"id\":\"41979\",\"type\":\"UnionRenderers\"}},\"id\":\"40498\",\"type\":\"ColumnDataSource\"},{\"attributes\":{\"callback\":null,\"data\":{\"x\":[0,1,2,3,4,5,6,7,8,9,10,11,12,13,14,15,16,17,18,19,20,21,22,23,24,25,26,27,28,29,30],\"y\":[59.863889119429,56.037845464353886,52.68487011370238,50.09544360527845,49.74686695991369,50.1037430492157,50.294630259772596,50.56021246576479,50.817495227819734,51.2407668686198,51.34865963980413,51.20756909287078,51.43995352311395,51.97111793509835,51.755332392729684,51.70553572910615,52.087310150219935,51.87982405178853,52.137106813843474,52.19520292140427,51.94621960328658,51.99601626691012,52.269897916839575,52.17860403352975,52.04581293053366,52.00431571084737,51.86322516391402,51.34036019586688,51.9047223836003,52.40268901983567,51.92132127147481]},\"selected\":{\"id\":\"41972\",\"type\":\"Selection\"},\"selection_policy\":{\"id\":\"41971\",\"type\":\"UnionRenderers\"}},\"id\":\"40478\",\"type\":\"ColumnDataSource\"},{\"attributes\":{},\"id\":\"41986\",\"type\":\"Selection\"},{\"attributes\":{\"fill_color\":{\"value\":\"green\"},\"line_color\":{\"value\":\"green\"},\"x\":{\"field\":\"x\"},\"y\":{\"field\":\"y\"}},\"id\":\"40479\",\"type\":\"Circle\"},{\"attributes\":{},\"id\":\"41990\",\"type\":\"Selection\"},{\"attributes\":{\"source\":{\"id\":\"40483\",\"type\":\"ColumnDataSource\"}},\"id\":\"40487\",\"type\":\"CDSView\"},{\"attributes\":{},\"id\":\"41988\",\"type\":\"Selection\"},{\"attributes\":{\"data_source\":{\"id\":\"40478\",\"type\":\"ColumnDataSource\"},\"glyph\":{\"id\":\"40479\",\"type\":\"Circle\"},\"hover_glyph\":null,\"muted_glyph\":null,\"nonselection_glyph\":{\"id\":\"40480\",\"type\":\"Circle\"},\"selection_glyph\":null,\"view\":{\"id\":\"40482\",\"type\":\"CDSView\"}},\"id\":\"40481\",\"type\":\"GlyphRenderer\"},{\"attributes\":{\"line_color\":\"brown\",\"x\":{\"field\":\"x\"},\"y\":{\"field\":\"y\"}},\"id\":\"40494\",\"type\":\"Line\"},{\"attributes\":{},\"id\":\"41991\",\"type\":\"UnionRenderers\"},{\"attributes\":{\"line_alpha\":0.1,\"line_color\":\"#1f77b4\",\"x\":{\"field\":\"x\"},\"y\":{\"field\":\"y\"}},\"id\":\"40485\",\"type\":\"Line\"},{\"attributes\":{},\"id\":\"41993\",\"type\":\"UnionRenderers\"},{\"attributes\":{\"source\":{\"id\":\"40498\",\"type\":\"ColumnDataSource\"}},\"id\":\"40502\",\"type\":\"CDSView\"},{\"attributes\":{},\"id\":\"41992\",\"type\":\"Selection\"},{\"attributes\":{\"data_source\":{\"id\":\"40488\",\"type\":\"ColumnDataSource\"},\"glyph\":{\"id\":\"40489\",\"type\":\"Circle\"},\"hover_glyph\":null,\"muted_glyph\":null,\"nonselection_glyph\":{\"id\":\"40490\",\"type\":\"Circle\"},\"selection_glyph\":null,\"view\":{\"id\":\"40492\",\"type\":\"CDSView\"}},\"id\":\"40491\",\"type\":\"GlyphRenderer\"},{\"attributes\":{\"callback\":null,\"data\":{\"x\":[0,1,2,3,4,5,6,7,8,9,10,11,12,13,14,15,16,17,18,19,20,21,22,23,24,25,26,27,28,29,30],\"y\":[55.03361274794589,52.244999585027806,47.937588181591835,44.55971449912856,43.787866212963735,44.02855008714416,43.87916009627355,44.086646194704954,43.762967881151965,44.07004730683044,44.30243173707362,44.443522284006974,44.50161839156777,44.60951116275209,44.692505602124655,44.62611005062661,44.46012117188148,44.76720059755996,44.62611005062661,44.67590671425015,44.692505602124655,44.850195036932526,44.64270893850112,44.70910448999917,44.93318947630509,44.38542617644618,44.543115611254045,44.33562951282264,44.84189559299527,44.38542617644618,44.37712673250892]},\"selected\":{\"id\":\"41974\",\"type\":\"Selection\"},\"selection_policy\":{\"id\":\"41973\",\"type\":\"UnionRenderers\"}},\"id\":\"40483\",\"type\":\"ColumnDataSource\"},{\"attributes\":{},\"id\":\"41995\",\"type\":\"UnionRenderers\"},{\"attributes\":{\"callback\":null,\"data\":{\"x\":[0,1,2,3,4,5,6,7,8,9,10,11,12,13,14,15,16,17,18,19,20,21,22,23,24,25,26,27,28,29,30],\"y\":[55.03361274794589,52.244999585027806,47.937588181591835,44.55971449912856,43.787866212963735,44.02855008714416,43.87916009627355,44.086646194704954,43.762967881151965,44.07004730683044,44.30243173707362,44.443522284006974,44.50161839156777,44.60951116275209,44.692505602124655,44.62611005062661,44.46012117188148,44.76720059755996,44.62611005062661,44.67590671425015,44.692505602124655,44.850195036932526,44.64270893850112,44.70910448999917,44.93318947630509,44.38542617644618,44.543115611254045,44.33562951282264,44.84189559299527,44.38542617644618,44.37712673250892]},\"selected\":{\"id\":\"41976\",\"type\":\"Selection\"},\"selection_policy\":{\"id\":\"41975\",\"type\":\"UnionRenderers\"}},\"id\":\"40488\",\"type\":\"ColumnDataSource\"},{\"attributes\":{\"fill_alpha\":{\"value\":0.1},\"fill_color\":{\"value\":\"#1f77b4\"},\"line_alpha\":{\"value\":0.1},\"line_color\":{\"value\":\"#1f77b4\"},\"x\":{\"field\":\"x\"},\"y\":{\"field\":\"y\"}},\"id\":\"40480\",\"type\":\"Circle\"},{\"attributes\":{},\"id\":\"41994\",\"type\":\"Selection\"},{\"attributes\":{\"source\":{\"id\":\"40473\",\"type\":\"ColumnDataSource\"}},\"id\":\"40477\",\"type\":\"CDSView\"},{\"attributes\":{},\"id\":\"41996\",\"type\":\"Selection\"},{\"attributes\":{\"line_color\":\"green\",\"x\":{\"field\":\"x\"},\"y\":{\"field\":\"y\"}},\"id\":\"40474\",\"type\":\"Line\"},{\"attributes\":{},\"id\":\"41997\",\"type\":\"UnionRenderers\"},{\"attributes\":{\"source\":{\"id\":\"40493\",\"type\":\"ColumnDataSource\"}},\"id\":\"40497\",\"type\":\"CDSView\"},{\"attributes\":{},\"id\":\"41998\",\"type\":\"Selection\"},{\"attributes\":{\"callback\":null,\"data\":{\"x\":[0,1,2,3,4,5,6,7,8,9,10,11,12,13,14,15,16,17,18,19,20,21,22,23,24,25,26,27,28,29,30],\"y\":[51.34036019586688,48.692837579882145,43.962154535646114,40.73367084405345,39.430658145904225,38.999087061166904,38.443024317370735,38.492820980994274,38.35173043406092,38.02805212050792,37.87036268570006,37.662876587268656,37.505187152460785,37.347497717652914,37.347497717652914,37.24790439040584,37.47198937671176,37.554983816084324,37.505187152460785,37.51348659639804,37.51348659639804,37.33919827371566,37.455390488837246,37.5217860403353,37.33919827371566,37.49688770852353,37.44709104489999,37.47198937671176,37.44709104489999,37.44709104489999,37.306000497966636]},\"selected\":{\"id\":\"41982\",\"type\":\"Selection\"},\"selection_policy\":{\"id\":\"41981\",\"type\":\"UnionRenderers\"}},\"id\":\"40503\",\"type\":\"ColumnDataSource\"},{\"attributes\":{\"data_source\":{\"id\":\"40493\",\"type\":\"ColumnDataSource\"},\"glyph\":{\"id\":\"40494\",\"type\":\"Line\"},\"hover_glyph\":null,\"muted_glyph\":null,\"nonselection_glyph\":{\"id\":\"40495\",\"type\":\"Line\"},\"selection_glyph\":null,\"view\":{\"id\":\"40497\",\"type\":\"CDSView\"}},\"id\":\"40496\",\"type\":\"GlyphRenderer\"},{\"attributes\":{},\"id\":\"41999\",\"type\":\"UnionRenderers\"},{\"attributes\":{\"fill_alpha\":{\"value\":0.1},\"fill_color\":{\"value\":\"#1f77b4\"},\"line_alpha\":{\"value\":0.1},\"line_color\":{\"value\":\"#1f77b4\"},\"x\":{\"field\":\"x\"},\"y\":{\"field\":\"y\"}},\"id\":\"40490\",\"type\":\"Circle\"},{\"attributes\":{},\"id\":\"42000\",\"type\":\"Selection\"},{\"attributes\":{\"data_source\":{\"id\":\"40473\",\"type\":\"ColumnDataSource\"},\"glyph\":{\"id\":\"40474\",\"type\":\"Line\"},\"hover_glyph\":null,\"muted_glyph\":null,\"nonselection_glyph\":{\"id\":\"40475\",\"type\":\"Line\"},\"selection_glyph\":null,\"view\":{\"id\":\"40477\",\"type\":\"CDSView\"}},\"id\":\"40476\",\"type\":\"GlyphRenderer\"},{\"attributes\":{\"fill_alpha\":{\"value\":0.1},\"fill_color\":{\"value\":\"#1f77b4\"},\"line_alpha\":{\"value\":0.1},\"line_color\":{\"value\":\"#1f77b4\"},\"x\":{\"field\":\"x\"},\"y\":{\"field\":\"y\"}},\"id\":\"40500\",\"type\":\"Circle\"},{\"attributes\":{\"callback\":null,\"data\":{\"x\":[0,1,2,3,4,5,6,7,8,9,10,11,12,13,14,15,16,17,18,19,20,21,22,23,24,25,26,27,28,29,30],\"y\":[87.92430907129223,85.71665698398208,83.12723047555814,80.86978172462445,81.25155614573823,81.8657149970952,82.89484604531496,82.91144493318947,82.97784048468752,83.58369989210723,83.19362602705618,83.35961490580131,83.86588098597394,83.77458710266413,84.26425429496224,85.50917088555067,84.38044651008383,84.33064984646029,85.35978089468006,84.39704539795834,85.9573408581625,85.2186903477467,85.11909702049962,84.67922649182505,84.9531081417545,84.94480869781725,84.23935596315047,84.39704539795834,84.53813594489169,84.97800647356627,84.30575151464852]},\"selected\":{\"id\":\"41962\",\"type\":\"Selection\"},\"selection_policy\":{\"id\":\"41961\",\"type\":\"UnionRenderers\"}},\"id\":\"40453\",\"type\":\"ColumnDataSource\"},{\"attributes\":{\"data_source\":{\"id\":\"40498\",\"type\":\"ColumnDataSource\"},\"glyph\":{\"id\":\"40499\",\"type\":\"Circle\"},\"hover_glyph\":null,\"muted_glyph\":null,\"nonselection_glyph\":{\"id\":\"40500\",\"type\":\"Circle\"},\"selection_glyph\":null,\"view\":{\"id\":\"40502\",\"type\":\"CDSView\"}},\"id\":\"40501\",\"type\":\"GlyphRenderer\"},{\"attributes\":{\"callback\":null,\"data\":{\"x\":[0,1,2,3,4,5,6,7,8,9,10,11,12,13,14,15,16,17,18,19,20,21,22,23,24,25,26,27,28,29,30],\"y\":[52.037513486596396,49.381691426674415,45.72993609428168,41.57191468171632,40.42659141837497,39.81243256701801,39.74603701551996,39.729438127645444,39.862229230641546,40.111212548759234,39.92032533820234,39.98672088970039,39.90372645032783,39.712839239770936,39.84563034276704,39.92862478213959,39.87882811851606,39.67964146402191,39.7958336791435,39.67134202008465,39.89542700639057,39.65474313221014,39.83733089882978,39.68794090795917,39.41405925802971,39.70453979583368,39.61324591252386,39.49705369740227,39.59664702464935,39.563449248900326,39.52195202921404]},\"selected\":{\"id\":\"41978\",\"type\":\"Selection\"},\"selection_policy\":{\"id\":\"41977\",\"type\":\"UnionRenderers\"}},\"id\":\"40493\",\"type\":\"ColumnDataSource\"},{\"attributes\":{\"data_source\":{\"id\":\"40483\",\"type\":\"ColumnDataSource\"},\"glyph\":{\"id\":\"40484\",\"type\":\"Line\"},\"hover_glyph\":null,\"muted_glyph\":null,\"nonselection_glyph\":{\"id\":\"40485\",\"type\":\"Line\"},\"selection_glyph\":null,\"view\":{\"id\":\"40487\",\"type\":\"CDSView\"}},\"id\":\"40486\",\"type\":\"GlyphRenderer\"},{\"attributes\":{},\"id\":\"40424\",\"type\":\"LinearScale\"},{\"attributes\":{\"source\":{\"id\":\"40488\",\"type\":\"ColumnDataSource\"}},\"id\":\"40492\",\"type\":\"CDSView\"},{\"attributes\":{\"line_alpha\":0.1,\"line_color\":\"#1f77b4\",\"x\":{\"field\":\"x\"},\"y\":{\"field\":\"y\"}},\"id\":\"40495\",\"type\":\"Line\"},{\"attributes\":{\"source\":{\"id\":\"40453\",\"type\":\"ColumnDataSource\"}},\"id\":\"40457\",\"type\":\"CDSView\"},{\"attributes\":{\"fill_color\":{\"value\":\"red\"},\"line_color\":{\"value\":\"red\"},\"x\":{\"field\":\"x\"},\"y\":{\"field\":\"y\"}},\"id\":\"40489\",\"type\":\"Circle\"},{\"attributes\":{\"line_color\":\"red\",\"x\":{\"field\":\"x\"},\"y\":{\"field\":\"y\"}},\"id\":\"40484\",\"type\":\"Line\"},{\"attributes\":{\"line_alpha\":0.1,\"line_color\":\"#1f77b4\",\"x\":{\"field\":\"x\"},\"y\":{\"field\":\"y\"}},\"id\":\"40475\",\"type\":\"Line\"},{\"attributes\":{\"source\":{\"id\":\"40478\",\"type\":\"ColumnDataSource\"}},\"id\":\"40482\",\"type\":\"CDSView\"},{\"attributes\":{\"fill_color\":{\"value\":\"brown\"},\"line_color\":{\"value\":\"brown\"},\"x\":{\"field\":\"x\"},\"y\":{\"field\":\"y\"}},\"id\":\"40499\",\"type\":\"Circle\"}],\"root_ids\":[\"40419\"]},\"title\":\"Bokeh Application\",\"version\":\"1.0.0\"}};\n",
       "  var render_items = [{\"docid\":\"fa1b02a9-2bf6-4869-9667-aadd939896db\",\"roots\":{\"40419\":\"b7fa65ff-5eff-420e-8606-d57cf7d6f632\"}}];\n",
       "  root.Bokeh.embed.embed_items_notebook(docs_json, render_items);\n",
       "\n",
       "  }\n",
       "  if (root.Bokeh !== undefined) {\n",
       "    embed_document(root);\n",
       "  } else {\n",
       "    var attempts = 0;\n",
       "    var timer = setInterval(function(root) {\n",
       "      if (root.Bokeh !== undefined) {\n",
       "        embed_document(root);\n",
       "        clearInterval(timer);\n",
       "      }\n",
       "      attempts++;\n",
       "      if (attempts > 100) {\n",
       "        console.log(\"Bokeh: ERROR: Unable to run BokehJS code because BokehJS library is missing\");\n",
       "        clearInterval(timer);\n",
       "      }\n",
       "    }, 10, root)\n",
       "  }\n",
       "})(window);"
      ],
      "application/vnd.bokehjs_exec.v0+json": ""
     },
     "metadata": {
      "application/vnd.bokehjs_exec.v0+json": {
       "id": "40419"
      }
     },
     "output_type": "display_data"
    }
   ],
   "source": [
    "ref = 'data/timit/test/trans'\n",
    "\n",
    "ldims = [2, 5, 10, 15, 20, 25, 30, 35, 40, 45]\n",
    "colors = ['blue', 'orange', 'green', 'red', 'brown', 'purple', 'salmon', 'black', 'darkblue', 'grey']\n",
    "fig = figure(y_range=(0, 100))\n",
    "dim_wers = {}\n",
    "for ldim, color in zip(ldims, colors):\n",
    "    wers = []\n",
    "    for i in range(0, 31):\n",
    "        hyp = f'exp/timit/subspace_monophone_mbn_babel_ldim{ldim}/decode_e{i}_ac1.0/test/trans'\n",
    "        if not os.path.isfile(hyp):\n",
    "            continue\n",
    "        def load_trans(transfile, mapping=None):\n",
    "            with open(transfile, 'r') as f:\n",
    "                utt_trans = {}\n",
    "                for line in f:\n",
    "                    tokens = line.strip().split()\n",
    "                    uttid, trans = tokens[0], tokens[1:]\n",
    "                    if mapping is not None:\n",
    "                        trans = [mapping[token] for token in trans]\n",
    "                    utt_trans[uttid] = list(filter(lambda a: a != 'sil', trans))\n",
    "            return utt_trans\n",
    "\n",
    "        ref_trans = load_trans(ref, phonemap)\n",
    "        hyp_trans = load_trans(hyp, phonemap)\n",
    "\n",
    "        acc_wer = 0\n",
    "        nwords = 0\n",
    "        for utt in ref_trans:\n",
    "            ref_t, hyp_t = ref_trans[utt], hyp_trans[utt]\n",
    "            acc_wer += wer(ref_t, hyp_t)\n",
    "            nwords += len(ref_t)\n",
    "        wers.append(100 * acc_wer/nwords )\n",
    "    print(wers[-1])\n",
    "    dim_wers[ldim] = wers\n",
    "    fig.line(range(len(wers)), wers, color=color)\n",
    "    fig.circle(range(len(wers)), wers, color=color)\n",
    "\n",
    "show(fig)"
   ]
  },
  {
   "cell_type": "code",
   "execution_count": 50,
   "metadata": {},
   "outputs": [
    {
     "data": {
      "text/html": [
       "\n",
       "\n",
       "\n",
       "\n",
       "\n",
       "\n",
       "  <div class=\"bk-root\" id=\"083dccc0-bd35-4432-859c-520b43eae6f1\"></div>\n"
      ]
     },
     "metadata": {},
     "output_type": "display_data"
    },
    {
     "data": {
      "application/javascript": [
       "(function(root) {\n",
       "  function embed_document(root) {\n",
       "    \n",
       "  var docs_json = {\"8e53cd49-3c63-452e-acdb-e59db1bef68e\":{\"roots\":{\"references\":[{\"attributes\":{\"below\":[{\"id\":\"15067\",\"type\":\"LinearAxis\"}],\"left\":[{\"id\":\"15072\",\"type\":\"LinearAxis\"}],\"renderers\":[{\"id\":\"15067\",\"type\":\"LinearAxis\"},{\"id\":\"15071\",\"type\":\"Grid\"},{\"id\":\"15072\",\"type\":\"LinearAxis\"},{\"id\":\"15076\",\"type\":\"Grid\"},{\"id\":\"15085\",\"type\":\"BoxAnnotation\"},{\"id\":\"15095\",\"type\":\"GlyphRenderer\"},{\"id\":\"15100\",\"type\":\"GlyphRenderer\"},{\"id\":\"15105\",\"type\":\"GlyphRenderer\"}],\"title\":{\"id\":\"15697\",\"type\":\"Title\"},\"toolbar\":{\"id\":\"15083\",\"type\":\"Toolbar\"},\"x_range\":{\"id\":\"15059\",\"type\":\"Range1d\"},\"x_scale\":{\"id\":\"15063\",\"type\":\"LinearScale\"},\"y_range\":{\"id\":\"15061\",\"type\":\"Range1d\"},\"y_scale\":{\"id\":\"15065\",\"type\":\"LinearScale\"}},\"id\":\"15058\",\"subtype\":\"Figure\",\"type\":\"Plot\"},{\"attributes\":{\"active_drag\":\"auto\",\"active_inspect\":\"auto\",\"active_multi\":null,\"active_scroll\":\"auto\",\"active_tap\":\"auto\",\"tools\":[{\"id\":\"15077\",\"type\":\"PanTool\"},{\"id\":\"15078\",\"type\":\"WheelZoomTool\"},{\"id\":\"15079\",\"type\":\"BoxZoomTool\"},{\"id\":\"15080\",\"type\":\"SaveTool\"},{\"id\":\"15081\",\"type\":\"ResetTool\"},{\"id\":\"15082\",\"type\":\"HelpTool\"}]},\"id\":\"15083\",\"type\":\"Toolbar\"},{\"attributes\":{},\"id\":\"15703\",\"type\":\"UnionRenderers\"},{\"attributes\":{\"callback\":null,\"end\":100},\"id\":\"15061\",\"type\":\"Range1d\"},{\"attributes\":{\"bottom_units\":\"screen\",\"fill_alpha\":{\"value\":0.5},\"fill_color\":{\"value\":\"lightgrey\"},\"left_units\":\"screen\",\"level\":\"overlay\",\"line_alpha\":{\"value\":1.0},\"line_color\":{\"value\":\"black\"},\"line_dash\":[4,4],\"line_width\":{\"value\":2},\"plot\":null,\"render_mode\":\"css\",\"right_units\":\"screen\",\"top_units\":\"screen\"},\"id\":\"15085\",\"type\":\"BoxAnnotation\"},{\"attributes\":{},\"id\":\"15065\",\"type\":\"LinearScale\"},{\"attributes\":{\"source\":{\"id\":\"15092\",\"type\":\"ColumnDataSource\"}},\"id\":\"15096\",\"type\":\"CDSView\"},{\"attributes\":{\"formatter\":{\"id\":\"15699\",\"type\":\"BasicTickFormatter\"},\"plot\":{\"id\":\"15058\",\"subtype\":\"Figure\",\"type\":\"Plot\"},\"ticker\":{\"id\":\"15068\",\"type\":\"BasicTicker\"}},\"id\":\"15067\",\"type\":\"LinearAxis\"},{\"attributes\":{\"callback\":null,\"data\":{\"x\":[0,1,2,3,4,5,6,7,8,9,10,11,12,13,14,15,16,17,18,19,20,21,22,23,24,25,26,27,28,29,30,31,32,33,34,35,36,37,38,39,40,41,42,43,44,45],\"y\":{\"__ndarray__\":\"uB6F61E4QkC4HoXrUThCQLgehetROEJAuB6F61E4QkC4HoXrUThCQLgehetROEJAuB6F61E4QkC4HoXrUThCQLgehetROEJAuB6F61E4QkC4HoXrUThCQLgehetROEJAuB6F61E4QkC4HoXrUThCQLgehetROEJAuB6F61E4QkC4HoXrUThCQLgehetROEJAuB6F61E4QkC4HoXrUThCQLgehetROEJAuB6F61E4QkC4HoXrUThCQLgehetROEJAuB6F61E4QkC4HoXrUThCQLgehetROEJAuB6F61E4QkC4HoXrUThCQLgehetROEJAuB6F61E4QkC4HoXrUThCQLgehetROEJAuB6F61E4QkC4HoXrUThCQLgehetROEJAuB6F61E4QkC4HoXrUThCQLgehetROEJAuB6F61E4QkC4HoXrUThCQLgehetROEJAuB6F61E4QkC4HoXrUThCQLgehetROEJAuB6F61E4QkA=\",\"dtype\":\"float64\",\"shape\":[46]}},\"selected\":{\"id\":\"15708\",\"type\":\"Selection\"},\"selection_policy\":{\"id\":\"15707\",\"type\":\"UnionRenderers\"}},\"id\":\"15102\",\"type\":\"ColumnDataSource\"},{\"attributes\":{},\"id\":\"15068\",\"type\":\"BasicTicker\"},{\"attributes\":{\"fill_color\":{\"value\":\"#1f77b4\"},\"line_color\":{\"value\":\"#1f77b4\"},\"x\":{\"field\":\"x\"},\"y\":{\"field\":\"y\"}},\"id\":\"15098\",\"type\":\"Circle\"},{\"attributes\":{\"plot\":{\"id\":\"15058\",\"subtype\":\"Figure\",\"type\":\"Plot\"},\"ticker\":{\"id\":\"15068\",\"type\":\"BasicTicker\"}},\"id\":\"15071\",\"type\":\"Grid\"},{\"attributes\":{\"fill_alpha\":{\"value\":0.1},\"fill_color\":{\"value\":\"#1f77b4\"},\"line_alpha\":{\"value\":0.1},\"line_color\":{\"value\":\"#1f77b4\"},\"x\":{\"field\":\"x\"},\"y\":{\"field\":\"y\"}},\"id\":\"15099\",\"type\":\"Circle\"},{\"attributes\":{\"formatter\":{\"id\":\"15701\",\"type\":\"BasicTickFormatter\"},\"plot\":{\"id\":\"15058\",\"subtype\":\"Figure\",\"type\":\"Plot\"},\"ticker\":{\"id\":\"15073\",\"type\":\"BasicTicker\"}},\"id\":\"15072\",\"type\":\"LinearAxis\"},{\"attributes\":{\"data_source\":{\"id\":\"15097\",\"type\":\"ColumnDataSource\"},\"glyph\":{\"id\":\"15098\",\"type\":\"Circle\"},\"hover_glyph\":null,\"muted_glyph\":null,\"nonselection_glyph\":{\"id\":\"15099\",\"type\":\"Circle\"},\"selection_glyph\":null,\"view\":{\"id\":\"15101\",\"type\":\"CDSView\"}},\"id\":\"15100\",\"type\":\"GlyphRenderer\"},{\"attributes\":{},\"id\":\"15704\",\"type\":\"Selection\"},{\"attributes\":{},\"id\":\"15073\",\"type\":\"BasicTicker\"},{\"attributes\":{\"source\":{\"id\":\"15097\",\"type\":\"ColumnDataSource\"}},\"id\":\"15101\",\"type\":\"CDSView\"},{\"attributes\":{},\"id\":\"15705\",\"type\":\"UnionRenderers\"},{\"attributes\":{\"dimension\":1,\"plot\":{\"id\":\"15058\",\"subtype\":\"Figure\",\"type\":\"Plot\"},\"ticker\":{\"id\":\"15073\",\"type\":\"BasicTicker\"}},\"id\":\"15076\",\"type\":\"Grid\"},{\"attributes\":{\"line_dash\":[6],\"x\":{\"field\":\"x\"},\"y\":{\"field\":\"y\"}},\"id\":\"15103\",\"type\":\"Line\"},{\"attributes\":{\"line_alpha\":0.1,\"line_color\":\"#1f77b4\",\"x\":{\"field\":\"x\"},\"y\":{\"field\":\"y\"}},\"id\":\"15094\",\"type\":\"Line\"},{\"attributes\":{\"line_alpha\":0.1,\"line_color\":\"#1f77b4\",\"line_dash\":[6],\"x\":{\"field\":\"x\"},\"y\":{\"field\":\"y\"}},\"id\":\"15104\",\"type\":\"Line\"},{\"attributes\":{\"line_color\":\"#1f77b4\",\"x\":{\"field\":\"x\"},\"y\":{\"field\":\"y\"}},\"id\":\"15093\",\"type\":\"Line\"},{\"attributes\":{\"source\":{\"id\":\"15102\",\"type\":\"ColumnDataSource\"}},\"id\":\"15106\",\"type\":\"CDSView\"},{\"attributes\":{\"data_source\":{\"id\":\"15102\",\"type\":\"ColumnDataSource\"},\"glyph\":{\"id\":\"15103\",\"type\":\"Line\"},\"hover_glyph\":null,\"muted_glyph\":null,\"nonselection_glyph\":{\"id\":\"15104\",\"type\":\"Line\"},\"selection_glyph\":null,\"view\":{\"id\":\"15106\",\"type\":\"CDSView\"}},\"id\":\"15105\",\"type\":\"GlyphRenderer\"},{\"attributes\":{\"data_source\":{\"id\":\"15092\",\"type\":\"ColumnDataSource\"},\"glyph\":{\"id\":\"15093\",\"type\":\"Line\"},\"hover_glyph\":null,\"muted_glyph\":null,\"nonselection_glyph\":{\"id\":\"15094\",\"type\":\"Line\"},\"selection_glyph\":null,\"view\":{\"id\":\"15096\",\"type\":\"CDSView\"}},\"id\":\"15095\",\"type\":\"GlyphRenderer\"},{\"attributes\":{},\"id\":\"15077\",\"type\":\"PanTool\"},{\"attributes\":{},\"id\":\"15706\",\"type\":\"Selection\"},{\"attributes\":{},\"id\":\"15699\",\"type\":\"BasicTickFormatter\"},{\"attributes\":{},\"id\":\"15078\",\"type\":\"WheelZoomTool\"},{\"attributes\":{\"plot\":null,\"text\":\"\"},\"id\":\"15697\",\"type\":\"Title\"},{\"attributes\":{},\"id\":\"15701\",\"type\":\"BasicTickFormatter\"},{\"attributes\":{\"overlay\":{\"id\":\"15085\",\"type\":\"BoxAnnotation\"}},\"id\":\"15079\",\"type\":\"BoxZoomTool\"},{\"attributes\":{},\"id\":\"15063\",\"type\":\"LinearScale\"},{\"attributes\":{},\"id\":\"15707\",\"type\":\"UnionRenderers\"},{\"attributes\":{},\"id\":\"15080\",\"type\":\"SaveTool\"},{\"attributes\":{\"callback\":null,\"data\":{\"x\":[2,5,10,15,20,25,30,35,40,45],\"y\":[85.9573408581625,69.3584529836501,51.94621960328658,44.692505602124655,39.89542700639057,37.51348659639804,36.085982239189974,35.46352394389576,35.47182338783301,35.14814507428002]},\"selected\":{\"id\":\"15704\",\"type\":\"Selection\"},\"selection_policy\":{\"id\":\"15703\",\"type\":\"UnionRenderers\"}},\"id\":\"15092\",\"type\":\"ColumnDataSource\"},{\"attributes\":{\"callback\":null,\"end\":45,\"start\":1},\"id\":\"15059\",\"type\":\"Range1d\"},{\"attributes\":{},\"id\":\"15708\",\"type\":\"Selection\"},{\"attributes\":{},\"id\":\"15081\",\"type\":\"ResetTool\"},{\"attributes\":{\"callback\":null,\"data\":{\"x\":[2,5,10,15,20,25,30,35,40,45],\"y\":[85.9573408581625,69.3584529836501,51.94621960328658,44.692505602124655,39.89542700639057,37.51348659639804,36.085982239189974,35.46352394389576,35.47182338783301,35.14814507428002]},\"selected\":{\"id\":\"15706\",\"type\":\"Selection\"},\"selection_policy\":{\"id\":\"15705\",\"type\":\"UnionRenderers\"}},\"id\":\"15097\",\"type\":\"ColumnDataSource\"},{\"attributes\":{},\"id\":\"15082\",\"type\":\"HelpTool\"}],\"root_ids\":[\"15058\"]},\"title\":\"Bokeh Application\",\"version\":\"1.0.0\"}};\n",
       "  var render_items = [{\"docid\":\"8e53cd49-3c63-452e-acdb-e59db1bef68e\",\"roots\":{\"15058\":\"083dccc0-bd35-4432-859c-520b43eae6f1\"}}];\n",
       "  root.Bokeh.embed.embed_items_notebook(docs_json, render_items);\n",
       "\n",
       "  }\n",
       "  if (root.Bokeh !== undefined) {\n",
       "    embed_document(root);\n",
       "  } else {\n",
       "    var attempts = 0;\n",
       "    var timer = setInterval(function(root) {\n",
       "      if (root.Bokeh !== undefined) {\n",
       "        embed_document(root);\n",
       "        clearInterval(timer);\n",
       "      }\n",
       "      attempts++;\n",
       "      if (attempts > 100) {\n",
       "        console.log(\"Bokeh: ERROR: Unable to run BokehJS code because BokehJS library is missing\");\n",
       "        clearInterval(timer);\n",
       "      }\n",
       "    }, 10, root)\n",
       "  }\n",
       "})(window);"
      ],
      "application/vnd.bokehjs_exec.v0+json": ""
     },
     "metadata": {
      "application/vnd.bokehjs_exec.v0+json": {
       "id": "15058"
      }
     },
     "output_type": "display_data"
    }
   ],
   "source": [
    "dims = [dim for dim in dim_wers]\n",
    "ws = [w[-1] for w in dim_wers.values()]\n",
    "fig = figure(y_range=(0, 100), x_range=(1, 45))\n",
    "fig.line(dims, ws)\n",
    "fig.circle(dims, ws)\n",
    "fig.line(range(46), np.zeros(46) + 36.44, line_dash='dashed', color='black')\n",
    "show(fig)"
   ]
  },
  {
   "cell_type": "code",
   "execution_count": 35,
   "metadata": {},
   "outputs": [
    {
     "name": "stdout",
     "output_type": "stream",
     "text": [
      "ref: f ae sh ow d ih n l uw s r ow l z b ih n iy th ih sh er\n",
      "hyp: f ae sh ow d ih n l uw s r l f dh ih dx iy th ah sh er\n"
     ]
    }
   ],
   "source": [
    "print('ref:', ' '.join(ref_trans['fadg0_si1909']))\n",
    "print('hyp:', ' '.join(hyp_trans['fadg0_si1909']))"
   ]
  },
  {
   "cell_type": "code",
   "execution_count": 20,
   "metadata": {},
   "outputs": [
    {
     "data": {
      "text/plain": [
       "tensor([0.0208, 0.0208, 0.0208, 0.0208, 0.0208, 0.0208, 0.0208, 0.0208, 0.0208,\n",
       "        0.0208, 0.0208, 0.0208, 0.0208, 0.0208, 0.0208, 0.0208, 0.0208, 0.0208,\n",
       "        0.0208, 0.0208, 0.0208, 0.0208, 0.0208, 0.0208, 0.0208, 0.0208, 0.0208,\n",
       "        0.0208, 0.0208, 0.0208, 0.0208, 0.0208, 0.0208, 0.0208, 0.0208, 0.0208,\n",
       "        0.0208, 0.0208, 0.0208, 0.0208, 0.0208, 0.0208, 0.0208, 0.0208, 0.0208,\n",
       "        0.0208, 0.0208, 0.0208])"
      ]
     },
     "execution_count": 20,
     "metadata": {},
     "output_type": "execute_result"
    }
   ],
   "source": [
    "import pickle\n",
    "with open('exp/timit/monophone_mbn_babel/final.mdl', 'rb') as f:\n",
    "    model = pickle.load(f)\n",
    "model.weights.value()"
   ]
  },
  {
   "cell_type": "code",
   "execution_count": 167,
   "metadata": {},
   "outputs": [],
   "source": [
    "keys = [key for key, val in model.start_pdf.items()]"
   ]
  },
  {
   "cell_type": "code",
   "execution_count": 168,
   "metadata": {},
   "outputs": [
    {
     "data": {
      "text/plain": [
       "dict_values([0, 5, 10, 13, 16, 19, 22, 25, 28, 31, 34, 37, 40, 43, 46, 49, 52, 55, 58, 61, 64, 67, 70, 73, 76, 79, 82, 85, 88, 91, 94, 97, 100, 103, 106, 109, 112, 115, 118, 121, 124, 127, 130, 133, 136, 139, 142, 145])"
      ]
     },
     "execution_count": 168,
     "metadata": {},
     "output_type": "execute_result"
    }
   ],
   "source": [
    "model.start_pdf.values()"
   ]
  },
  {
   "cell_type": "code",
   "execution_count": 169,
   "metadata": {},
   "outputs": [],
   "source": [
    "from collections import defaultdict\n",
    "\n",
    "counts = defaultdict(int)\n",
    "with open('data/timit/train/trans', 'r') as f:\n",
    "    for line in f:\n",
    "        tokens = line.strip().split()[1:]\n",
    "        for token in tokens:\n",
    "            counts[token] += 1"
   ]
  },
  {
   "cell_type": "code",
   "execution_count": 172,
   "metadata": {},
   "outputs": [],
   "source": [
    "import torch\n",
    "stats = torch.FloatTensor([counts[key] for key in keys])\n",
    "model.weights.posterior.params.concentrations = model.weights.posterior.params.concentrations + stats \n",
    "model._on_weights_update()"
   ]
  },
  {
   "cell_type": "code",
   "execution_count": 201,
   "metadata": {},
   "outputs": [
    {
     "data": {
      "text/plain": [
       "[tensor(0.0011),\n",
       " tensor(0.0022),\n",
       " tensor(0.0036),\n",
       " tensor(0.0045),\n",
       " tensor(0.0052),\n",
       " tensor(0.0053),\n",
       " tensor(0.0058),\n",
       " tensor(0.0065),\n",
       " tensor(0.0068),\n",
       " tensor(0.0071),\n",
       " tensor(0.0072),\n",
       " tensor(0.0085),\n",
       " tensor(0.0087),\n",
       " tensor(0.0094),\n",
       " tensor(0.0118),\n",
       " tensor(0.0118),\n",
       " tensor(0.0133),\n",
       " tensor(0.0133),\n",
       " tensor(0.0138),\n",
       " tensor(0.0139),\n",
       " tensor(0.0142),\n",
       " tensor(0.0156),\n",
       " tensor(0.0158),\n",
       " tensor(0.0158),\n",
       " tensor(0.0161),\n",
       " tensor(0.0162),\n",
       " tensor(0.0162),\n",
       " tensor(0.0163),\n",
       " tensor(0.0169),\n",
       " tensor(0.0173),\n",
       " tensor(0.0185),\n",
       " tensor(0.0234),\n",
       " tensor(0.0254),\n",
       " tensor(0.0263),\n",
       " tensor(0.0271),\n",
       " tensor(0.0278),\n",
       " tensor(0.0282),\n",
       " tensor(0.0295),\n",
       " tensor(0.0303),\n",
       " tensor(0.0316),\n",
       " tensor(0.0330),\n",
       " tensor(0.0334),\n",
       " tensor(0.0440),\n",
       " tensor(0.0492),\n",
       " tensor(0.0515),\n",
       " tensor(0.0526),\n",
       " tensor(0.0591),\n",
       " tensor(0.0893)]"
      ]
     },
     "execution_count": 201,
     "metadata": {},
     "output_type": "execute_result"
    }
   ],
   "source": [
    "sorted(model.weights.expected_value())"
   ]
  },
  {
   "cell_type": "code",
   "execution_count": 174,
   "metadata": {},
   "outputs": [],
   "source": [
    "with open('exp/timit/monophone_mbn_babel//final_unigram.mdl', 'wb') as f:\n",
    "    pickle.dump(model, f)"
   ]
  }
 ],
 "metadata": {
  "kernelspec": {
   "display_name": "Python 3",
   "language": "python",
   "name": "python3"
  },
  "language_info": {
   "codemirror_mode": {
    "name": "ipython",
    "version": 3
   },
   "file_extension": ".py",
   "mimetype": "text/x-python",
   "name": "python",
   "nbconvert_exporter": "python",
   "pygments_lexer": "ipython3",
   "version": "3.7.2"
  }
 },
 "nbformat": 4,
 "nbformat_minor": 2
}
