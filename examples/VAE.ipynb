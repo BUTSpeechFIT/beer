{
 "cells": [
  {
   "cell_type": "markdown",
   "metadata": {},
   "source": [
    "# Variational AutoEncoder\n",
    "\n",
    "This notebook illustrate how to build and train a Variation AutoEncoder with the [beer framework](https://github.com/beer-asr/beer)."
   ]
  },
  {
   "cell_type": "code",
   "execution_count": null,
   "metadata": {},
   "outputs": [],
   "source": [
    "# Add \"beer\" to the PYTHONPATH\n",
    "import sys\n",
    "sys.path.insert(0, '../')\n",
    "\n",
    "import copy\n",
    "\n",
    "import beer\n",
    "import numpy as np\n",
    "import torch\n",
    "import torch.nn as nn\n",
    "import torch.nn.functional as F\n",
    "\n",
    "# For plotting.\n",
    "from bokeh.io import show, output_notebook\n",
    "from bokeh.plotting import figure, gridplot\n",
    "from bokeh.models import LinearAxis, Range1d\n",
    "output_notebook()\n",
    "\n",
    "# Convenience functions for plotting.\n",
    "import plotting\n",
    "\n",
    "%load_ext autoreload\n",
    "%autoreload 2"
   ]
  },
  {
   "cell_type": "markdown",
   "metadata": {},
   "source": [
    "## Data\n",
    "As an illustration, we generate a synthetic data set composed of two Normal distributed cluster.\n",
    "One has a diagonal covariance matrix whereas the other has a dense covariance matrix.\n",
    "Those two clusters overlap so it is reasonable to map all the data to a single Gaussian in the latent space."
   ]
  },
  {
   "cell_type": "code",
   "execution_count": null,
   "metadata": {},
   "outputs": [],
   "source": [
    "# First cluster.\n",
    "mean = np.array([-3, 3]) \n",
    "cov = np.array([[1, -1], [-1, 2.]])\n",
    "data1 = np.random.multivariate_normal(mean, cov, size=100)\n",
    "\n",
    "# Second cluster.\n",
    "mean = np.array([3, 2.5]) \n",
    "cov = np.array([[2, 1], [1, .75]])\n",
    "data2 = np.random.multivariate_normal(mean, cov, size=100)\n",
    "\n",
    "data = np.vstack([data1, data2]) \n",
    "\n",
    "np.random.shuffle(data)"
   ]
  },
  {
   "cell_type": "code",
   "execution_count": null,
   "metadata": {},
   "outputs": [],
   "source": [
    "# Mean, variance of the data to scale the figure.\n",
    "mean = data.mean(axis=0)\n",
    "var = data.var(axis=0)\n",
    "std_dev = np.sqrt(max(var))\n",
    "x_range = (mean[0] - 3 * std_dev, mean[0] + 3 * std_dev)\n",
    "y_range = (mean[1] - 3 * std_dev, mean[1] + 3 * std_dev)\n",
    "global_range = (min(x_range[0], y_range[0]), max(x_range[1], y_range[1]))\n",
    "\n",
    "fig = figure(title='Data', width=400, height=400,\n",
    "             x_range=global_range, y_range=global_range)\n",
    "fig.circle(data[:, 0], data[:, 1])\n",
    "\n",
    "show(fig)"
   ]
  },
  {
   "cell_type": "code",
   "execution_count": null,
   "metadata": {},
   "outputs": [],
   "source": [
    "# Generate some test data\n",
    "\n",
    "# First cluster.\n",
    "mean = np.array([-3, 3]) \n",
    "cov = np.array([[1, -1], [-1, 2.]])\n",
    "test_data1 = np.random.multivariate_normal(mean, cov, size=100)\n",
    "\n",
    "# Second cluster.\n",
    "mean = np.array([3, 2.5]) \n",
    "cov = np.array([[2, 1], [1, .75]])\n",
    "test_data2 = np.random.multivariate_normal(mean, cov, size=100)\n",
    "\n",
    "test_data = np.vstack([test_data1, test_data2])\n",
    "\n",
    "fig = figure(title='Data', width=400, height=400,\n",
    "             x_range=global_range, y_range=global_range)\n",
    "fig.circle(test_data[:, 0], test_data[:, 1])\n",
    "\n",
    "show(fig)"
   ]
  },
  {
   "cell_type": "code",
   "execution_count": null,
   "metadata": {},
   "outputs": [],
   "source": [
    "X = torch.from_numpy(data).float()\n",
    "test_X = torch.from_numpy(test_data).float()"
   ]
  },
  {
   "cell_type": "code",
   "execution_count": null,
   "metadata": {},
   "outputs": [],
   "source": [
    "observed_dim = 2\n",
    "latent_dim = 2"
   ]
  },
  {
   "cell_type": "code",
   "execution_count": null,
   "metadata": {
    "scrolled": false
   },
   "outputs": [],
   "source": [
    "hidden_dim = 50\n",
    "\n",
    "class GaussianMLP(nn.Module):\n",
    "    def __init__(self, in_dim, out_dim, hidden_dim):\n",
    "        super().__init__()\n",
    "        self.i2h = torch.nn.Linear(in_dim, hidden_dim)\n",
    "        self.h2mean = nn.Linear(hidden_dim, out_dim)\n",
    "        self.h2logvar = nn.Linear(hidden_dim, out_dim)\n",
    "        \n",
    "    def forward(self, X):\n",
    "        h = F.tanh(self.i2h(X))\n",
    "        mean = self.h2mean(h)\n",
    "        logvar = self.h2logvar(h)\n",
    "        return mean, logvar.exp()\n",
    "    \n",
    "class GaussianMLP2(nn.Module):\n",
    "    def __init__(self, in_dim, out_dim, hidden_dim):\n",
    "        super().__init__()\n",
    "        self.i2h = torch.nn.Linear(in_dim, hidden_dim)\n",
    "        self.h2mean = nn.Linear(hidden_dim, out_dim)\n",
    "        \n",
    "    def forward(self, X):\n",
    "        h = F.tanh(self.i2h(X))\n",
    "        mean = self.h2mean(h)\n",
    "        return mean"
   ]
  },
  {
   "cell_type": "code",
   "execution_count": null,
   "metadata": {},
   "outputs": [],
   "source": [
    "latent_normal1 = beer.NormalDiagonalCovariance.create(\n",
    "    torch.zeros(latent_dim), torch.ones(latent_dim)\n",
    ")\n",
    "vae1 = beer.VAE(\n",
    "    GaussianMLP(observed_dim, latent_dim, hidden_dim), \n",
    "    GaussianMLP(latent_dim, observed_dim, hidden_dim), \n",
    "    latent_normal1\n",
    ")\n",
    "\n",
    "latent_normal2 = beer.NormalDiagonalCovariance.create(\n",
    "    torch.zeros(latent_dim), torch.ones(latent_dim)\n",
    ")\n",
    "vae2 = beer.VAEGlobalMeanVar.create(\n",
    "    torch.from_numpy(data.mean(axis=0)).float(),\n",
    "    torch.from_numpy(data.var(axis=0)).float(),\n",
    "    GaussianMLP(observed_dim, latent_dim, hidden_dim), \n",
    "    GaussianMLP2(latent_dim, observed_dim, hidden_dim), \n",
    "    latent_normal2, \n",
    "    pseudo_counts=1\n",
    ")\n",
    "\n",
    "models = [vae2]"
   ]
  },
  {
   "cell_type": "code",
   "execution_count": null,
   "metadata": {},
   "outputs": [],
   "source": [
    "epochs = 5_000\n",
    "lrate = 1.\n",
    "lrate_nnet = 1e-3\n",
    "\n",
    "# Number of samples to estimate the expectation of the log-likelihood.\n",
    "nsamples = 5\n",
    "\n",
    "nnet_parameters = list(vae1.encoder.parameters()) + list(vae1.decoder.parameters())\n",
    "nnet_parameters += list(vae2.encoder.parameters()) + list(vae2.decoder.parameters())\n",
    "nnet_optim = torch.optim.Adam(nnet_parameters, lr=1e-3)\n",
    "params = vae2.parameters + vae1.parameters\n",
    "optim = beer.BayesianModelOptimizer(params, lrate=lrate, std_optim=nnet_optim)\n",
    "\n",
    "elbos = [[], []]\n",
    "for i in range(epochs):\n",
    "    for i, model in enumerate(models):\n",
    "        optim.zero_grad()\n",
    "        elbo = beer.evidence_lower_bound(model, X, datasize=len(X), \n",
    "                                         nsamples=nsamples, kl_weight=1.)\n",
    "        elbo.backward()\n",
    "        elbo.natural_backward()\n",
    "        optim.step()\n",
    "        elbos[i].append(float(elbo) / len(X))\n",
    "        \n",
    "\n",
    "fig = figure(title='ELBO', width=400, height=400, x_axis_label='step',\n",
    "              y_axis_label='ln p(X)')\n",
    "fig.line(np.arange(len(elbos[0])), elbos[0], legend='ELBO (VAE 1)', color='blue')\n",
    "fig.line(np.arange(len(elbos[1])), elbos[1], legend='ELBO (VAE 2)', color='red')\n",
    "fig.legend.location = 'bottom_right'\n",
    "\n",
    "show(fig)"
   ]
  },
  {
   "cell_type": "code",
   "execution_count": null,
   "metadata": {},
   "outputs": [],
   "source": [
    "resolution=0.1\n",
    "xy = np.mgrid[global_range[0]:global_range[1]:resolution, global_range[0]:global_range[1]:resolution].reshape(2,-1).T\n",
    "xy = torch.from_numpy(xy).float()\n",
    "import math\n",
    "single_dim_nb_points = int(math.sqrt(xy.shape[0]))\n",
    "\n",
    "# For a smooth plot increase the number of samples.\n",
    "elbos = vae1(xy, nsamples=200) - vae1.local_kl_div_posterior_prior() - \\\n",
    "    vae1.kl_div_posterior_prior()\n",
    "\n",
    "p_x_mtx = elbos.view(single_dim_nb_points,single_dim_nb_points).t().exp()\n",
    "p_x_mtx = p_x_mtx.data.numpy()\n",
    "fig = figure(title='p(X)', width=400, height=400,\n",
    "             x_range=global_range, y_range=global_range)\n",
    "\n",
    "plane_size = global_range[1] - global_range[0]\n",
    "fig.image(image=[p_x_mtx], x=global_range[0], y=global_range[0], dw=plane_size, dh=plane_size)\n",
    "\n",
    "show(fig)"
   ]
  },
  {
   "cell_type": "code",
   "execution_count": null,
   "metadata": {},
   "outputs": [],
   "source": [
    "resolution=0.1\n",
    "xy = np.mgrid[global_range[0]:global_range[1]:resolution, global_range[0]:global_range[1]:resolution].reshape(2,-1).T\n",
    "xy = torch.from_numpy(xy).float()\n",
    "import math\n",
    "single_dim_nb_points = int(math.sqrt(xy.shape[0]))\n",
    "\n",
    "# For a smooth plot increase the number of samples.\n",
    "elbos = vae2(xy, nsamples=200) - vae2.local_kl_div_posterior_prior() - \\\n",
    "    vae2.kl_div_posterior_prior()\n",
    "\n",
    "p_x_mtx = elbos.view(single_dim_nb_points,single_dim_nb_points).t().exp()\n",
    "p_x_mtx = p_x_mtx.data.numpy()\n",
    "fig = figure(title='p(X)', width=400, height=400,\n",
    "             x_range=global_range, y_range=global_range)\n",
    "plane_size = global_range[1] - global_range[0]\n",
    "fig.image(image=[p_x_mtx], x=global_range[0], y=global_range[0], dw=plane_size, dh=plane_size)\n",
    "\n",
    "\n",
    "show(fig)"
   ]
  }
 ],
 "metadata": {
  "kernelspec": {
   "display_name": "Python 3",
   "language": "python",
   "name": "python3"
  },
  "language_info": {
   "codemirror_mode": {
    "name": "ipython",
    "version": 3
   },
   "file_extension": ".py",
   "mimetype": "text/x-python",
   "name": "python",
   "nbconvert_exporter": "python",
   "pygments_lexer": "ipython3",
   "version": "3.6.4"
  }
 },
 "nbformat": 4,
 "nbformat_minor": 2
}
