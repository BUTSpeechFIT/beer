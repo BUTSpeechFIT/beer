{
 "cells": [
  {
   "cell_type": "markdown",
   "metadata": {},
   "source": [
    "# Variational AutoEncoder\n",
    "\n",
    "This notebook illustrate how to build and train a Variation AutoEncoder with the [beer framework](https://github.com/beer-asr/beer)."
   ]
  },
  {
   "cell_type": "code",
   "execution_count": null,
   "metadata": {},
   "outputs": [],
   "source": [
    "# Add \"beer\" to the PYTHONPATH\n",
    "import sys\n",
    "sys.path.insert(0, '../')\n",
    "\n",
    "import copy\n",
    "\n",
    "import beer\n",
    "import numpy as np\n",
    "import torch\n",
    "\n",
    "# For plotting.\n",
    "from bokeh.io import show, output_notebook\n",
    "from bokeh.plotting import figure, gridplot\n",
    "from bokeh.models import LinearAxis, Range1d\n",
    "output_notebook()\n",
    "\n",
    "# Convenience functions for plotting.\n",
    "import plotting\n",
    "\n",
    "%load_ext autoreload\n",
    "%autoreload 2"
   ]
  },
  {
   "cell_type": "markdown",
   "metadata": {},
   "source": [
    "## Data\n",
    "As an illustration, we generate a synthetic data set composed of two Normal distributed cluster.\n",
    "One has a diagonal covariance matrix whereas the other has a dense covariance matrix.\n",
    "Those two clusters overlap so it is reasonable to map all the data to a single Gaussian in the latent space."
   ]
  },
  {
   "cell_type": "code",
   "execution_count": null,
   "metadata": {},
   "outputs": [],
   "source": [
    "# First cluster.\n",
    "mean = np.array([-3, 3]) \n",
    "cov = np.array([[.25, -1], [-1, 2.]])\n",
    "data1 = np.random.multivariate_normal(mean, cov, size=200)\n",
    "\n",
    "# Second cluster.\n",
    "mean = np.array([3, 2.5]) \n",
    "cov = np.array([[2, 1], [1, .75]])\n",
    "data2 = np.random.multivariate_normal(mean, cov, size=200)\n",
    "\n",
    "data_gmm_2 = np.vstack([data1, data2])\n",
    "\n",
    "mean = np.array([1, 2]) \n",
    "cov = np.array([[2, 0], [0, 0.3]])\n",
    "data_3 = np.random.multivariate_normal(mean, cov, size=100)\n",
    "data_3[:, 1] = data_3[:, 1] + (data_3[:, 0]-mean[0])**2\n",
    "\n",
    "data_quad = data_3\n",
    "\n",
    "# Select a dataset\n",
    "#data = data_quad\n",
    "data = data_gmm_2\n",
    "\n",
    "# data = data1\n",
    "np.random.shuffle(data)"
   ]
  },
  {
   "cell_type": "code",
   "execution_count": null,
   "metadata": {},
   "outputs": [],
   "source": [
    "# Mean, variance of the data to scale the figure.\n",
    "mean = data.mean(axis=0)\n",
    "var = data.var(axis=0)\n",
    "std_dev = np.sqrt(max(var))\n",
    "x_range = (mean[0] - 3 * std_dev, mean[0] + 3 * std_dev)\n",
    "y_range = (mean[1] - 3 * std_dev, mean[1] + 3 * std_dev)\n",
    "global_range = (min(x_range[0], y_range[0]), max(x_range[1], y_range[1]))\n",
    "\n",
    "fig = figure(title='Data', width=400, height=400,\n",
    "             x_range=global_range, y_range=global_range)\n",
    "fig.circle(data[:, 0], data[:, 1])\n",
    "\n",
    "show(fig)"
   ]
  },
  {
   "cell_type": "code",
   "execution_count": null,
   "metadata": {},
   "outputs": [],
   "source": [
    "from torch.autograd import Variable\n",
    "X = Variable(torch.from_numpy(data).float())"
   ]
  },
  {
   "cell_type": "code",
   "execution_count": null,
   "metadata": {},
   "outputs": [],
   "source": [
    "observed_dim = 2\n",
    "latent_dim = 2"
   ]
  },
  {
   "cell_type": "code",
   "execution_count": null,
   "metadata": {
    "scrolled": false
   },
   "outputs": [],
   "source": [
    "hidden_dim = 100\n",
    "\n",
    "enc_nn = torch.nn.Sequential(\n",
    "    torch.nn.Linear(observed_dim, hidden_dim),\n",
    "    torch.nn.LeakyReLU(),\n",
    ")\n",
    "enc_proto = beer.models.MLPNormalDiag(enc_nn, latent_dim)\n",
    "\n",
    "dec_nn = torch.nn.Sequential(    \n",
    "    torch.nn.Linear(latent_dim, hidden_dim),\n",
    "    torch.nn.LeakyReLU(),\n",
    ")\n",
    "dec_proto = beer.models.MLPNormalDiag(dec_nn, observed_dim)"
   ]
  },
  {
   "cell_type": "code",
   "execution_count": null,
   "metadata": {},
   "outputs": [],
   "source": [
    "import copy\n",
    "latent_normal = beer.models.normal.FixedIsotropicGaussian(latent_dim)\n",
    "vae = beer.models.VAE(copy.deepcopy(enc_proto), copy.deepcopy(dec_proto), latent_normal, nsamples=5)\n",
    "mean_elbos = []\n",
    "mean_klds = []\n",
    "mean_llhs = []"
   ]
  },
  {
   "cell_type": "code",
   "execution_count": null,
   "metadata": {},
   "outputs": [],
   "source": [
    "def train(nb_epochs):\n",
    "    for i in range(nb_epochs):\n",
    "        sth = vae.forward(X)\n",
    "        neg_elbo, llh, kld = vae.loss(X, sth)\n",
    "        obj = neg_elbo.mean()\n",
    "        mean_elbos.append(-obj.item())\n",
    "        mean_klds.append(kld.mean().item())\n",
    "        mean_llhs.append(llh.mean().item())\n",
    "        optim.zero_grad()\n",
    "        obj.backward()\n",
    "        optim.step()\n",
    "\n",
    "# reasonable procedure for \"GMM\" data\n",
    "optim = torch.optim.SGD(list(vae.encoder.parameters()) + list(vae.decoder.parameters()), lr=1e-3)        \n",
    "train(20_000)\n",
    "\n",
    "# an unreasonable procedure for \"quadratic\" data\n",
    "# optim = torch.optim.SGD(vae.parameters(), lr=1e-5)        \n",
    "# train(1_000)\n",
    "# optim = torch.optim.SGD(vae.parameters(), lr=1e-3)\n",
    "# train(2_000)\n",
    "# optim = torch.optim.SGD(vae.parameters(), lr=2e-3) \n",
    "# train(2_000)\n",
    "# optim = torch.optim.SGD(vae.parameters(), lr=1e-3)        \n",
    "# train(2_500)\n",
    "# optim = torch.optim.SGD(vae.parameters(), lr=3e-4)        \n",
    "# train(2_500)\n",
    "\n",
    "\n",
    "fig = figure(title='ELBO', width=400, height=400, x_axis_label='step',\n",
    "              y_axis_label='ln p(X)')\n",
    "fig.line(np.arange(len(mean_elbos)), mean_elbos, legend='ELBO', color='blue')\n",
    "fig.line(np.arange(len(mean_klds)), mean_klds, legend='KLD', color='red')\n",
    "fig.line(np.arange(len(mean_llhs)), mean_llhs, legend='LLH', color='black')\n",
    "fig.legend.location = 'bottom_right'\n",
    "\n",
    "show(fig)"
   ]
  },
  {
   "cell_type": "code",
   "execution_count": null,
   "metadata": {},
   "outputs": [],
   "source": [
    "resolution=0.1\n",
    "xy = np.mgrid[global_range[0]:global_range[1]:resolution, global_range[0]:global_range[1]:resolution].reshape(2,-1).T\n",
    "xy = Variable(torch.from_numpy(xy).float())\n",
    "import math\n",
    "single_dim_nb_points = int(math.sqrt(xy.shape[0]))\n",
    "\n",
    "sth = vae.forward(xy, sampling=False)\n",
    "neg_elbos, llhs, klds = vae.loss(xy, sth)\n",
    "\n",
    "p_x_mtx = (-neg_elbos).view(single_dim_nb_points,single_dim_nb_points).t().exp()\n",
    "p_x_mtx = p_x_mtx.data.numpy()\n",
    "fig = figure(title='p(X)', width=400, height=400,\n",
    "             x_range=global_range, y_range=global_range)\n",
    "\n",
    "plane_size = global_range[1] - global_range[0]\n",
    "fig.image(image=[p_x_mtx], x=global_range[0], y=global_range[0], dw=plane_size, dh=plane_size)\n",
    "fig.circle(data[:, 0], data[:, 1], alpha=.1)\n",
    "\n",
    "show(fig)"
   ]
  }
 ],
 "metadata": {
  "kernelspec": {
   "display_name": "Python 3",
   "language": "python",
   "name": "python3"
  },
  "language_info": {
   "codemirror_mode": {
    "name": "ipython",
    "version": 3
   },
   "file_extension": ".py",
   "mimetype": "text/x-python",
   "name": "python",
   "nbconvert_exporter": "python",
   "pygments_lexer": "ipython3",
   "version": "3.6.4"
  }
 },
 "nbformat": 4,
 "nbformat_minor": 2
}
