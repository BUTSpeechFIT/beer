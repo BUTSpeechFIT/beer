{
 "cells": [
  {
   "cell_type": "markdown",
   "metadata": {
    "collapsed": true
   },
   "source": [
    "# VAE - Gaussian Linear Classifier\n",
    "\n",
    "This notebook illustrate how to combine a Variational AutoEncoder (VAE) and a Gaussian Linear Classifier (GLC) with the [beer framework](https://github.com/beer-asr/beer)."
   ]
  },
  {
   "cell_type": "code",
   "execution_count": null,
   "metadata": {},
   "outputs": [],
   "source": [
    "%load_ext autoreload\n",
    "%autoreload 2\n",
    "\n",
    "# Add the path of the beer source code ot the PYTHONPATH.\n",
    "import sys\n",
    "sys.path.insert(0, '../')\n",
    "\n",
    "import math\n",
    "import yaml\n",
    "import numpy as np\n",
    "import torch\n",
    "import torch.optim\n",
    "from torch import nn\n",
    "\n",
    "\n",
    "\n",
    "# For plotting.\n",
    "from bokeh.io import show, output_notebook\n",
    "from bokeh.plotting import figure, gridplot\n",
    "from bokeh.models import LinearAxis, Range1d\n",
    "\n",
    "# Beer framework\n",
    "import beer\n",
    "\n",
    "# Convenience functions for plotting.\n",
    "import plotting\n",
    "\n",
    "output_notebook(verbose=False)"
   ]
  },
  {
   "cell_type": "markdown",
   "metadata": {},
   "source": [
    "## Data \n",
    "\n",
    "As a simple example we consider the following synthetic data: "
   ]
  },
  {
   "cell_type": "code",
   "execution_count": null,
   "metadata": {
    "scrolled": false
   },
   "outputs": [],
   "source": [
    "# First cluster.\n",
    "mean = np.array([-3, 3]) \n",
    "cov = np.array([[1, -1], [-1, 2.]])\n",
    "data1 = np.random.multivariate_normal(mean, cov, size=100)\n",
    "\n",
    "# Second cluster.\n",
    "mean = np.array([3, 2.5]) \n",
    "cov = np.array([[2, 1], [1, .75]])\n",
    "data2 = np.random.multivariate_normal(mean, cov, size=100)\n",
    "\n",
    "data = np.vstack([data1, data2]) \n",
    "\n",
    "np.random.shuffle(data)\n",
    "\n",
    "# Mean, variance of the data to scale the figure.\n",
    "mean = data.mean(axis=0)\n",
    "var = data.var(axis=0)\n",
    "std_dev = np.sqrt(max(var))\n",
    "x_range = (mean[0] - 3 * std_dev, mean[0] + 3 * std_dev)\n",
    "y_range = (mean[1] - 3 * std_dev, mean[1] + 3 * std_dev)\n",
    "global_range = (min(x_range[0], y_range[0]), max(x_range[1], y_range[1]))\n",
    "\n",
    "fig = figure(title='Data', width=400, height=400,\n",
    "             x_range=global_range, y_range=global_range)\n",
    "fig.circle(data[:, 0], data[:, 1])\n",
    "\n",
    "show(fig)"
   ]
  },
  {
   "cell_type": "markdown",
   "metadata": {},
   "source": [
    "## Model Creation\n",
    "\n",
    "We first create the VAE-GLC.\n",
    "\n",
    "#### NOTE:\n",
    "To obtain a Gaussian Quadratic Classifier, us a GMM model with individual (diagonal) covariance matrix."
   ]
  },
  {
   "cell_type": "code",
   "execution_count": null,
   "metadata": {},
   "outputs": [],
   "source": [
    "vae_conf_str = '''\n",
    "type: VAE\n",
    "llh_type: normal\n",
    "normalizing_flow:\n",
    "  type: InverseAutoRegressive\n",
    "  depth: 5\n",
    "  iaf_block:\n",
    "    activation: Tanh\n",
    "    context_dim: 10\n",
    "    data_dim: 2\n",
    "    depth: 2\n",
    "    width: 20\n",
    "encoder:\n",
    "  nnet_structure:\n",
    "  - residual: false\n",
    "    block_structure:\n",
    "    - Linear:in_features=<feadim>;out_features=50\n",
    "    - ReLU\n",
    "    - Linear:in_features=50;out_features=50\n",
    "    - ReLU\n",
    "  prob_layer:\n",
    "    type: NormalizingFlowLayer\n",
    "    covariance: isotropic\n",
    "    flow_params_dim: 10\n",
    "    dim_in: 50\n",
    "    dim_out: 2\n",
    "decoder:\n",
    "  nnet_structure:\n",
    "  - residual: false\n",
    "    block_structure:\n",
    "    - Linear:in_features=2;out_features=50\n",
    "    - ReLU\n",
    "    - Linear:in_features=50;out_features=50\n",
    "    - ReLU\n",
    "  prob_layer:\n",
    "    type: NormalLayer\n",
    "    covariance: isotropic\n",
    "    dim_in: 50\n",
    "    dim_out: <feadim>\n",
    "latent_model:\n",
    "  type: Normal\n",
    "  covariance: isotropic\n",
    "  prior_strength: 1.\n",
    "  noise_std: 0.\n",
    "'''"
   ]
  },
  {
   "cell_type": "code",
   "execution_count": null,
   "metadata": {
    "scrolled": false
   },
   "outputs": [],
   "source": [
    "data_mean = torch.from_numpy(data.mean(axis=0)).float()\n",
    "data_var = torch.from_numpy(np.var(data, axis=0)).float()\n",
    "\n",
    "conf_data = vae_conf_str.replace('<feadim>', str(len(data_mean)))\n",
    "conf = yaml.load(conf_data)\n",
    "model = beer.create_model(conf, data_mean, data_var).double()"
   ]
  },
  {
   "cell_type": "markdown",
   "metadata": {},
   "source": [
    "## Variational Bayes Training"
   ]
  },
  {
   "cell_type": "code",
   "execution_count": null,
   "metadata": {},
   "outputs": [],
   "source": [
    "epochs = 5_000\n",
    "lrate_bayesmodel = 0.\n",
    "lrate_encoder = 1e-3\n",
    "X = torch.from_numpy(data).double()\n",
    "\n",
    "nnet_parameters = list(model.encoder.parameters()) + list(model.decoder.parameters())\n",
    "std_optimizer = torch.optim.Adam(nnet_parameters, lr=lrate_encoder, weight_decay=1e-2)\n",
    "optimizer = beer.BayesianModelCoordinateAscentOptimizer(\n",
    "    model.mean_field_groups, \n",
    "    lrate=lrate_bayesmodel, \n",
    "    std_optim=std_optimizer)\n",
    "    \n",
    "elbos = []\n",
    "for epoch in range(epochs):\n",
    "    optimizer.zero_grad()\n",
    "    elbo = beer.evidence_lower_bound(model, X, datasize=len(X))\n",
    "    elbo.backward()\n",
    "    elbo.natural_backward()\n",
    "    optimizer.step()\n",
    "    \n",
    "    if epoch > 0:\n",
    "        elbos.append(float(elbo) / len(X))\n",
    "\n",
    "# Plot the ELBO.\n",
    "fig = figure(title='ELBO', width=400, height=400, x_axis_label='step',\n",
    "              y_axis_label='ln p(X)')\n",
    "fig.line(np.arange(len(elbos)), elbos, color='blue')\n",
    "\n",
    "show(fig)"
   ]
  },
  {
   "cell_type": "code",
   "execution_count": null,
   "metadata": {},
   "outputs": [],
   "source": [
    "fig1 = figure(title='Observed space', width=400, height=400)\n",
    "fig2 = figure(title='Latent space', width=400, height=400, x_range=(-5, 5), y_range=(-5, 5))\n",
    "\n",
    "\n",
    "mean, variance, flow_params = model.encoder(X)\n",
    "_, samples = model.nflow(mean, variance, flow_params, use_mean=False)\n",
    "samples = samples.detach()\n",
    "r_class_X = model.decoder(samples)[0]\n",
    "samples = samples.data.numpy()\n",
    "class_X, r_class_X = X.numpy(), r_class_X.detach().numpy()\n",
    "fig1.circle(class_X[:, 0], class_X[:, 1], alpha=.5)\n",
    "fig1.cross(r_class_X[:, 0], r_class_X[:, 1], color='salmon')\n",
    "fig2.circle(samples[:, 0], samples[:, 1])\n",
    "    \n",
    "show(gridplot([[fig1, fig2]]))"
   ]
  }
 ],
 "metadata": {
  "kernelspec": {
   "display_name": "Python 3",
   "language": "python",
   "name": "python3"
  },
  "language_info": {
   "codemirror_mode": {
    "name": "ipython",
    "version": 3
   },
   "file_extension": ".py",
   "mimetype": "text/x-python",
   "name": "python",
   "nbconvert_exporter": "python",
   "pygments_lexer": "ipython3",
   "version": "3.6.4"
  }
 },
 "nbformat": 4,
 "nbformat_minor": 2
}
