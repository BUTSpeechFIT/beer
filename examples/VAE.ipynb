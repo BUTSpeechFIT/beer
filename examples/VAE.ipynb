{
 "cells": [
  {
   "cell_type": "markdown",
   "metadata": {},
   "source": [
    "# Variational AutoEncoder\n",
    "\n",
    "This notebook illustrate how to build and train a Variation AutoEncoder with the [beer framework](https://github.com/beer-asr/beer)."
   ]
  },
  {
   "cell_type": "code",
   "execution_count": null,
   "metadata": {},
   "outputs": [],
   "source": [
    "# Add \"beer\" to the PYTHONPATH\n",
    "import sys\n",
    "sys.path.insert(0, '../')\n",
    "\n",
    "import copy\n",
    "\n",
    "import beer\n",
    "import numpy as np\n",
    "import torch\n",
    "import torch.nn as nn\n",
    "import torch.nn.functional as F\n",
    "\n",
    "# For plotting.\n",
    "from bokeh.io import show, output_notebook\n",
    "from bokeh.plotting import figure, gridplot\n",
    "from bokeh.models import LinearAxis, Range1d\n",
    "output_notebook()\n",
    "\n",
    "# Convenience functions for plotting.\n",
    "import plotting\n",
    "\n",
    "%load_ext autoreload\n",
    "%autoreload 2"
   ]
  },
  {
   "cell_type": "markdown",
   "metadata": {},
   "source": [
    "## Data\n",
    "As an illustration, we generate a synthetic data set composed of two Normal distributed cluster.\n",
    "One has a diagonal covariance matrix whereas the other has a dense covariance matrix.\n",
    "Those two clusters overlap so it is reasonable to map all the data to a single Gaussian in the latent space."
   ]
  },
  {
   "cell_type": "code",
   "execution_count": null,
   "metadata": {},
   "outputs": [],
   "source": [
    "# First cluster.\n",
    "mean = np.array([-3, 3]) \n",
    "cov = np.array([[1, -1], [-1, 2.]])\n",
    "data1 = np.random.multivariate_normal(mean, cov, size=100)\n",
    "\n",
    "# Second cluster.\n",
    "mean = np.array([3, 2.5]) \n",
    "cov = np.array([[2, 1], [1, .75]])\n",
    "data2 = np.random.multivariate_normal(mean, cov, size=100)\n",
    "\n",
    "data = np.vstack([data1, data2])\n",
    "\n",
    "np.random.shuffle(data)"
   ]
  },
  {
   "cell_type": "code",
   "execution_count": null,
   "metadata": {},
   "outputs": [],
   "source": [
    "# Mean, variance of the data to scale the figure.\n",
    "mean = data.mean(axis=0)\n",
    "var = data.var(axis=0)\n",
    "std_dev = np.sqrt(max(var))\n",
    "x_range = (mean[0] - 3 * std_dev, mean[0] + 3 * std_dev)\n",
    "y_range = (mean[1] - 3 * std_dev, mean[1] + 3 * std_dev)\n",
    "global_range = (min(x_range[0], y_range[0]), max(x_range[1], y_range[1]))\n",
    "\n",
    "fig = figure(title='Data', width=400, height=400,\n",
    "             x_range=global_range, y_range=global_range)\n",
    "fig.circle(data[:, 0], data[:, 1])\n",
    "\n",
    "show(fig)"
   ]
  },
  {
   "cell_type": "code",
   "execution_count": null,
   "metadata": {},
   "outputs": [],
   "source": [
    "X = torch.from_numpy(data).float()"
   ]
  },
  {
   "cell_type": "code",
   "execution_count": null,
   "metadata": {},
   "outputs": [],
   "source": [
    "observed_dim = 2\n",
    "latent_dim = 2"
   ]
  },
  {
   "cell_type": "code",
   "execution_count": null,
   "metadata": {
    "scrolled": false
   },
   "outputs": [],
   "source": [
    "hidden_dim = 20\n",
    "\n",
    "class GaussianMLP(nn.Module):\n",
    "    def __init__(self, in_dim, out_dim, hidden_dim):\n",
    "        super().__init__()\n",
    "        self.i2h = torch.nn.Linear(in_dim, hidden_dim)\n",
    "        self.h2mean = nn.Linear(hidden_dim, out_dim)\n",
    "        self.h2logvar = nn.Linear(hidden_dim, out_dim)\n",
    "        \n",
    "    def forward(self, X):\n",
    "        h = F.leaky_relu(self.i2h(X))\n",
    "        mean = self.h2mean(h)\n",
    "        logvar = self.h2logvar(h)\n",
    "        return beer.NormalDiagonalCovarianceMLP(mean, logvar.exp())"
   ]
  },
  {
   "cell_type": "code",
   "execution_count": null,
   "metadata": {},
   "outputs": [],
   "source": [
    "latent_normal = beer.NormalDiagonalCovariance.create(\n",
    "    torch.zeros(latent_dim), torch.ones(latent_dim)\n",
    ")\n",
    "vae = beer.VAE(\n",
    "    GaussianMLP(observed_dim, latent_dim, hidden_dim), \n",
    "    GaussianMLP(latent_dim, observed_dim, hidden_dim), \n",
    "    latent_normal, \n",
    "    nsamples=5\n",
    ")\n",
    "mean_elbos = []"
   ]
  },
  {
   "cell_type": "code",
   "execution_count": null,
   "metadata": {},
   "outputs": [],
   "source": [
    "def train():\n",
    "    optim.zero_grad()\n",
    "    elbo = elbo_fn(vae, X)\n",
    "    elbo.backward()\n",
    "    mean_elbos.append(float(elbo) / len(X))\n",
    "    optim.step()\n",
    "        \n",
    "nnet_parameters = list(vae.encoder.parameters()) + list(vae.decoder.parameters())\n",
    "nnet_optim = torch.optim.Adam(nnet_parameters, lr=1e-3)\n",
    "params = vae.latent_model.parameters\n",
    "optim = beer.BayesianModelOptimizer([], lrate=0., std_optim=nnet_optim)\n",
    "elbo_fn = beer.EvidenceLowerBound(len(X))\n",
    "\n",
    "# reasonable procedure for \"GMM\" data\n",
    "for i in range(10_000):\n",
    "    train()\n",
    "\n",
    "fig = figure(title='ELBO', width=400, height=400, x_axis_label='step',\n",
    "              y_axis_label='ln p(X)')\n",
    "fig.line(np.arange(len(mean_elbos)), mean_elbos, legend='ELBO', color='blue')\n",
    "fig.legend.location = 'bottom_right'\n",
    "\n",
    "show(fig)"
   ]
  },
  {
   "cell_type": "code",
   "execution_count": null,
   "metadata": {},
   "outputs": [],
   "source": [
    "resolution=0.1\n",
    "xy = np.mgrid[global_range[0]:global_range[1]:resolution, global_range[0]:global_range[1]:resolution].reshape(2,-1).T\n",
    "xy = torch.from_numpy(xy).float()\n",
    "import math\n",
    "single_dim_nb_points = int(math.sqrt(xy.shape[0]))\n",
    "\n",
    "# For a smooth plot increase the number of samples.\n",
    "vae.nsamples = 100\n",
    "\n",
    "elbos = vae(xy)\n",
    "elbos -= vae.local_kl_div_posterior_prior()\n",
    "\n",
    "p_x_mtx = elbos.view(single_dim_nb_points,single_dim_nb_points).t().exp()\n",
    "p_x_mtx = p_x_mtx.data.numpy()\n",
    "fig = figure(title='p(X)', width=400, height=400,\n",
    "             x_range=global_range, y_range=global_range)\n",
    "\n",
    "plane_size = global_range[1] - global_range[0]\n",
    "fig.image(image=[p_x_mtx], x=global_range[0], y=global_range[0], dw=plane_size, dh=plane_size)\n",
    "fig.circle(data[:, 0], data[:, 1], alpha=.1)\n",
    "\n",
    "show(fig)"
   ]
  }
 ],
 "metadata": {
  "kernelspec": {
   "display_name": "Python 3",
   "language": "python",
   "name": "python3"
  },
  "language_info": {
   "codemirror_mode": {
    "name": "ipython",
    "version": 3
   },
   "file_extension": ".py",
   "mimetype": "text/x-python",
   "name": "python",
   "nbconvert_exporter": "python",
   "pygments_lexer": "ipython3",
   "version": "3.6.4"
  }
 },
 "nbformat": 4,
 "nbformat_minor": 2
}
