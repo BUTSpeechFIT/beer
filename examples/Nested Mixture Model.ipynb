{
 "cells": [
  {
   "cell_type": "markdown",
   "metadata": {},
   "source": [
    "# Bayesian Nested Mixture Model\n",
    "\n",
    "This notebook illustrate how to build and train a Bayesian Nested Mixture Model with the [beer framework](https://github.com/beer-asr/beer). A Nested Mixture Model is simply a \"mixture of mixture\", the rationale behind this model is that the clusters of a mixture model may have arbitrary complex distribution approximated by yet another mixture model."
   ]
  },
  {
   "cell_type": "code",
   "execution_count": 1,
   "metadata": {},
   "outputs": [
    {
     "data": {
      "text/html": [
       "\n",
       "    <div class=\"bk-root\">\n",
       "        <a href=\"https://bokeh.pydata.org\" target=\"_blank\" class=\"bk-logo bk-logo-small bk-logo-notebook\"></a>\n",
       "        <span id=\"c91d507f-0e4a-47da-954f-8c6a08ad01c2\">Loading BokehJS ...</span>\n",
       "    </div>"
      ]
     },
     "metadata": {},
     "output_type": "display_data"
    },
    {
     "data": {
      "application/javascript": [
       "\n",
       "(function(root) {\n",
       "  function now() {\n",
       "    return new Date();\n",
       "  }\n",
       "\n",
       "  var force = true;\n",
       "\n",
       "  if (typeof (root._bokeh_onload_callbacks) === \"undefined\" || force === true) {\n",
       "    root._bokeh_onload_callbacks = [];\n",
       "    root._bokeh_is_loading = undefined;\n",
       "  }\n",
       "\n",
       "  var JS_MIME_TYPE = 'application/javascript';\n",
       "  var HTML_MIME_TYPE = 'text/html';\n",
       "  var EXEC_MIME_TYPE = 'application/vnd.bokehjs_exec.v0+json';\n",
       "  var CLASS_NAME = 'output_bokeh rendered_html';\n",
       "\n",
       "  /**\n",
       "   * Render data to the DOM node\n",
       "   */\n",
       "  function render(props, node) {\n",
       "    var script = document.createElement(\"script\");\n",
       "    node.appendChild(script);\n",
       "  }\n",
       "\n",
       "  /**\n",
       "   * Handle when an output is cleared or removed\n",
       "   */\n",
       "  function handleClearOutput(event, handle) {\n",
       "    var cell = handle.cell;\n",
       "\n",
       "    var id = cell.output_area._bokeh_element_id;\n",
       "    var server_id = cell.output_area._bokeh_server_id;\n",
       "    // Clean up Bokeh references\n",
       "    if (id !== undefined) {\n",
       "      Bokeh.index[id].model.document.clear();\n",
       "      delete Bokeh.index[id];\n",
       "    }\n",
       "\n",
       "    if (server_id !== undefined) {\n",
       "      // Clean up Bokeh references\n",
       "      var cmd = \"from bokeh.io.state import curstate; print(curstate().uuid_to_server['\" + server_id + \"'].get_sessions()[0].document.roots[0]._id)\";\n",
       "      cell.notebook.kernel.execute(cmd, {\n",
       "        iopub: {\n",
       "          output: function(msg) {\n",
       "            var element_id = msg.content.text.trim();\n",
       "            Bokeh.index[element_id].model.document.clear();\n",
       "            delete Bokeh.index[element_id];\n",
       "          }\n",
       "        }\n",
       "      });\n",
       "      // Destroy server and session\n",
       "      var cmd = \"import bokeh.io.notebook as ion; ion.destroy_server('\" + server_id + \"')\";\n",
       "      cell.notebook.kernel.execute(cmd);\n",
       "    }\n",
       "  }\n",
       "\n",
       "  /**\n",
       "   * Handle when a new output is added\n",
       "   */\n",
       "  function handleAddOutput(event, handle) {\n",
       "    var output_area = handle.output_area;\n",
       "    var output = handle.output;\n",
       "\n",
       "    // limit handleAddOutput to display_data with EXEC_MIME_TYPE content only\n",
       "    if ((output.output_type != \"display_data\") || (!output.data.hasOwnProperty(EXEC_MIME_TYPE))) {\n",
       "      return\n",
       "    }\n",
       "\n",
       "    var toinsert = output_area.element.find(`.${CLASS_NAME.split(' ')[0]}`);\n",
       "\n",
       "    if (output.metadata[EXEC_MIME_TYPE][\"id\"] !== undefined) {\n",
       "      toinsert[0].firstChild.textContent = output.data[JS_MIME_TYPE];\n",
       "      // store reference to embed id on output_area\n",
       "      output_area._bokeh_element_id = output.metadata[EXEC_MIME_TYPE][\"id\"];\n",
       "    }\n",
       "    if (output.metadata[EXEC_MIME_TYPE][\"server_id\"] !== undefined) {\n",
       "      var bk_div = document.createElement(\"div\");\n",
       "      bk_div.innerHTML = output.data[HTML_MIME_TYPE];\n",
       "      var script_attrs = bk_div.children[0].attributes;\n",
       "      for (var i = 0; i < script_attrs.length; i++) {\n",
       "        toinsert[0].firstChild.setAttribute(script_attrs[i].name, script_attrs[i].value);\n",
       "      }\n",
       "      // store reference to server id on output_area\n",
       "      output_area._bokeh_server_id = output.metadata[EXEC_MIME_TYPE][\"server_id\"];\n",
       "    }\n",
       "  }\n",
       "\n",
       "  function register_renderer(events, OutputArea) {\n",
       "\n",
       "    function append_mime(data, metadata, element) {\n",
       "      // create a DOM node to render to\n",
       "      var toinsert = this.create_output_subarea(\n",
       "        metadata,\n",
       "        CLASS_NAME,\n",
       "        EXEC_MIME_TYPE\n",
       "      );\n",
       "      this.keyboard_manager.register_events(toinsert);\n",
       "      // Render to node\n",
       "      var props = {data: data, metadata: metadata[EXEC_MIME_TYPE]};\n",
       "      render(props, toinsert[0]);\n",
       "      element.append(toinsert);\n",
       "      return toinsert\n",
       "    }\n",
       "\n",
       "    /* Handle when an output is cleared or removed */\n",
       "    events.on('clear_output.CodeCell', handleClearOutput);\n",
       "    events.on('delete.Cell', handleClearOutput);\n",
       "\n",
       "    /* Handle when a new output is added */\n",
       "    events.on('output_added.OutputArea', handleAddOutput);\n",
       "\n",
       "    /**\n",
       "     * Register the mime type and append_mime function with output_area\n",
       "     */\n",
       "    OutputArea.prototype.register_mime_type(EXEC_MIME_TYPE, append_mime, {\n",
       "      /* Is output safe? */\n",
       "      safe: true,\n",
       "      /* Index of renderer in `output_area.display_order` */\n",
       "      index: 0\n",
       "    });\n",
       "  }\n",
       "\n",
       "  // register the mime type if in Jupyter Notebook environment and previously unregistered\n",
       "  if (root.Jupyter !== undefined) {\n",
       "    var events = require('base/js/events');\n",
       "    var OutputArea = require('notebook/js/outputarea').OutputArea;\n",
       "\n",
       "    if (OutputArea.prototype.mime_types().indexOf(EXEC_MIME_TYPE) == -1) {\n",
       "      register_renderer(events, OutputArea);\n",
       "    }\n",
       "  }\n",
       "\n",
       "  \n",
       "  if (typeof (root._bokeh_timeout) === \"undefined\" || force === true) {\n",
       "    root._bokeh_timeout = Date.now() + 5000;\n",
       "    root._bokeh_failed_load = false;\n",
       "  }\n",
       "\n",
       "  var NB_LOAD_WARNING = {'data': {'text/html':\n",
       "     \"<div style='background-color: #fdd'>\\n\"+\n",
       "     \"<p>\\n\"+\n",
       "     \"BokehJS does not appear to have successfully loaded. If loading BokehJS from CDN, this \\n\"+\n",
       "     \"may be due to a slow or bad network connection. Possible fixes:\\n\"+\n",
       "     \"</p>\\n\"+\n",
       "     \"<ul>\\n\"+\n",
       "     \"<li>re-rerun `output_notebook()` to attempt to load from CDN again, or</li>\\n\"+\n",
       "     \"<li>use INLINE resources instead, as so:</li>\\n\"+\n",
       "     \"</ul>\\n\"+\n",
       "     \"<code>\\n\"+\n",
       "     \"from bokeh.resources import INLINE\\n\"+\n",
       "     \"output_notebook(resources=INLINE)\\n\"+\n",
       "     \"</code>\\n\"+\n",
       "     \"</div>\"}};\n",
       "\n",
       "  function display_loaded() {\n",
       "    var el = document.getElementById(\"c91d507f-0e4a-47da-954f-8c6a08ad01c2\");\n",
       "    if (el != null) {\n",
       "      el.textContent = \"BokehJS is loading...\";\n",
       "    }\n",
       "    if (root.Bokeh !== undefined) {\n",
       "      if (el != null) {\n",
       "        el.textContent = \"BokehJS \" + root.Bokeh.version + \" successfully loaded.\";\n",
       "      }\n",
       "    } else if (Date.now() < root._bokeh_timeout) {\n",
       "      setTimeout(display_loaded, 100)\n",
       "    }\n",
       "  }\n",
       "\n",
       "\n",
       "  function run_callbacks() {\n",
       "    try {\n",
       "      root._bokeh_onload_callbacks.forEach(function(callback) { callback() });\n",
       "    }\n",
       "    finally {\n",
       "      delete root._bokeh_onload_callbacks\n",
       "    }\n",
       "    console.info(\"Bokeh: all callbacks have finished\");\n",
       "  }\n",
       "\n",
       "  function load_libs(js_urls, callback) {\n",
       "    root._bokeh_onload_callbacks.push(callback);\n",
       "    if (root._bokeh_is_loading > 0) {\n",
       "      console.log(\"Bokeh: BokehJS is being loaded, scheduling callback at\", now());\n",
       "      return null;\n",
       "    }\n",
       "    if (js_urls == null || js_urls.length === 0) {\n",
       "      run_callbacks();\n",
       "      return null;\n",
       "    }\n",
       "    console.log(\"Bokeh: BokehJS not loaded, scheduling load and callback at\", now());\n",
       "    root._bokeh_is_loading = js_urls.length;\n",
       "    for (var i = 0; i < js_urls.length; i++) {\n",
       "      var url = js_urls[i];\n",
       "      var s = document.createElement('script');\n",
       "      s.src = url;\n",
       "      s.async = false;\n",
       "      s.onreadystatechange = s.onload = function() {\n",
       "        root._bokeh_is_loading--;\n",
       "        if (root._bokeh_is_loading === 0) {\n",
       "          console.log(\"Bokeh: all BokehJS libraries loaded\");\n",
       "          run_callbacks()\n",
       "        }\n",
       "      };\n",
       "      s.onerror = function() {\n",
       "        console.warn(\"failed to load library \" + url);\n",
       "      };\n",
       "      console.log(\"Bokeh: injecting script tag for BokehJS library: \", url);\n",
       "      document.getElementsByTagName(\"head\")[0].appendChild(s);\n",
       "    }\n",
       "  };var element = document.getElementById(\"c91d507f-0e4a-47da-954f-8c6a08ad01c2\");\n",
       "  if (element == null) {\n",
       "    console.log(\"Bokeh: ERROR: autoload.js configured with elementid 'c91d507f-0e4a-47da-954f-8c6a08ad01c2' but no matching script tag was found. \")\n",
       "    return false;\n",
       "  }\n",
       "\n",
       "  var js_urls = [\"https://cdn.pydata.org/bokeh/release/bokeh-0.12.10.min.js\", \"https://cdn.pydata.org/bokeh/release/bokeh-widgets-0.12.10.min.js\", \"https://cdn.pydata.org/bokeh/release/bokeh-tables-0.12.10.min.js\", \"https://cdn.pydata.org/bokeh/release/bokeh-gl-0.12.10.min.js\"];\n",
       "\n",
       "  var inline_js = [\n",
       "    function(Bokeh) {\n",
       "      Bokeh.set_log_level(\"info\");\n",
       "    },\n",
       "    \n",
       "    function(Bokeh) {\n",
       "      \n",
       "    },\n",
       "    function(Bokeh) {\n",
       "      console.log(\"Bokeh: injecting CSS: https://cdn.pydata.org/bokeh/release/bokeh-0.12.10.min.css\");\n",
       "      Bokeh.embed.inject_css(\"https://cdn.pydata.org/bokeh/release/bokeh-0.12.10.min.css\");\n",
       "      console.log(\"Bokeh: injecting CSS: https://cdn.pydata.org/bokeh/release/bokeh-widgets-0.12.10.min.css\");\n",
       "      Bokeh.embed.inject_css(\"https://cdn.pydata.org/bokeh/release/bokeh-widgets-0.12.10.min.css\");\n",
       "      console.log(\"Bokeh: injecting CSS: https://cdn.pydata.org/bokeh/release/bokeh-tables-0.12.10.min.css\");\n",
       "      Bokeh.embed.inject_css(\"https://cdn.pydata.org/bokeh/release/bokeh-tables-0.12.10.min.css\");\n",
       "    }\n",
       "  ];\n",
       "\n",
       "  function run_inline_js() {\n",
       "    \n",
       "    if ((root.Bokeh !== undefined) || (force === true)) {\n",
       "      for (var i = 0; i < inline_js.length; i++) {\n",
       "        inline_js[i].call(root, root.Bokeh);\n",
       "      }if (force === true) {\n",
       "        display_loaded();\n",
       "      }} else if (Date.now() < root._bokeh_timeout) {\n",
       "      setTimeout(run_inline_js, 100);\n",
       "    } else if (!root._bokeh_failed_load) {\n",
       "      console.log(\"Bokeh: BokehJS failed to load within specified timeout.\");\n",
       "      root._bokeh_failed_load = true;\n",
       "    } else if (force !== true) {\n",
       "      var cell = $(document.getElementById(\"c91d507f-0e4a-47da-954f-8c6a08ad01c2\")).parents('.cell').data().cell;\n",
       "      cell.output_area.append_execute_result(NB_LOAD_WARNING)\n",
       "    }\n",
       "\n",
       "  }\n",
       "\n",
       "  if (root._bokeh_is_loading === 0) {\n",
       "    console.log(\"Bokeh: BokehJS loaded, going straight to plotting\");\n",
       "    run_inline_js();\n",
       "  } else {\n",
       "    load_libs(js_urls, function() {\n",
       "      console.log(\"Bokeh: BokehJS plotting callback run at\", now());\n",
       "      run_inline_js();\n",
       "    });\n",
       "  }\n",
       "}(window));"
      ],
      "application/vnd.bokehjs_load.v0+json": "\n(function(root) {\n  function now() {\n    return new Date();\n  }\n\n  var force = true;\n\n  if (typeof (root._bokeh_onload_callbacks) === \"undefined\" || force === true) {\n    root._bokeh_onload_callbacks = [];\n    root._bokeh_is_loading = undefined;\n  }\n\n  \n\n  \n  if (typeof (root._bokeh_timeout) === \"undefined\" || force === true) {\n    root._bokeh_timeout = Date.now() + 5000;\n    root._bokeh_failed_load = false;\n  }\n\n  var NB_LOAD_WARNING = {'data': {'text/html':\n     \"<div style='background-color: #fdd'>\\n\"+\n     \"<p>\\n\"+\n     \"BokehJS does not appear to have successfully loaded. If loading BokehJS from CDN, this \\n\"+\n     \"may be due to a slow or bad network connection. Possible fixes:\\n\"+\n     \"</p>\\n\"+\n     \"<ul>\\n\"+\n     \"<li>re-rerun `output_notebook()` to attempt to load from CDN again, or</li>\\n\"+\n     \"<li>use INLINE resources instead, as so:</li>\\n\"+\n     \"</ul>\\n\"+\n     \"<code>\\n\"+\n     \"from bokeh.resources import INLINE\\n\"+\n     \"output_notebook(resources=INLINE)\\n\"+\n     \"</code>\\n\"+\n     \"</div>\"}};\n\n  function display_loaded() {\n    var el = document.getElementById(\"c91d507f-0e4a-47da-954f-8c6a08ad01c2\");\n    if (el != null) {\n      el.textContent = \"BokehJS is loading...\";\n    }\n    if (root.Bokeh !== undefined) {\n      if (el != null) {\n        el.textContent = \"BokehJS \" + root.Bokeh.version + \" successfully loaded.\";\n      }\n    } else if (Date.now() < root._bokeh_timeout) {\n      setTimeout(display_loaded, 100)\n    }\n  }\n\n\n  function run_callbacks() {\n    try {\n      root._bokeh_onload_callbacks.forEach(function(callback) { callback() });\n    }\n    finally {\n      delete root._bokeh_onload_callbacks\n    }\n    console.info(\"Bokeh: all callbacks have finished\");\n  }\n\n  function load_libs(js_urls, callback) {\n    root._bokeh_onload_callbacks.push(callback);\n    if (root._bokeh_is_loading > 0) {\n      console.log(\"Bokeh: BokehJS is being loaded, scheduling callback at\", now());\n      return null;\n    }\n    if (js_urls == null || js_urls.length === 0) {\n      run_callbacks();\n      return null;\n    }\n    console.log(\"Bokeh: BokehJS not loaded, scheduling load and callback at\", now());\n    root._bokeh_is_loading = js_urls.length;\n    for (var i = 0; i < js_urls.length; i++) {\n      var url = js_urls[i];\n      var s = document.createElement('script');\n      s.src = url;\n      s.async = false;\n      s.onreadystatechange = s.onload = function() {\n        root._bokeh_is_loading--;\n        if (root._bokeh_is_loading === 0) {\n          console.log(\"Bokeh: all BokehJS libraries loaded\");\n          run_callbacks()\n        }\n      };\n      s.onerror = function() {\n        console.warn(\"failed to load library \" + url);\n      };\n      console.log(\"Bokeh: injecting script tag for BokehJS library: \", url);\n      document.getElementsByTagName(\"head\")[0].appendChild(s);\n    }\n  };var element = document.getElementById(\"c91d507f-0e4a-47da-954f-8c6a08ad01c2\");\n  if (element == null) {\n    console.log(\"Bokeh: ERROR: autoload.js configured with elementid 'c91d507f-0e4a-47da-954f-8c6a08ad01c2' but no matching script tag was found. \")\n    return false;\n  }\n\n  var js_urls = [\"https://cdn.pydata.org/bokeh/release/bokeh-0.12.10.min.js\", \"https://cdn.pydata.org/bokeh/release/bokeh-widgets-0.12.10.min.js\", \"https://cdn.pydata.org/bokeh/release/bokeh-tables-0.12.10.min.js\", \"https://cdn.pydata.org/bokeh/release/bokeh-gl-0.12.10.min.js\"];\n\n  var inline_js = [\n    function(Bokeh) {\n      Bokeh.set_log_level(\"info\");\n    },\n    \n    function(Bokeh) {\n      \n    },\n    function(Bokeh) {\n      console.log(\"Bokeh: injecting CSS: https://cdn.pydata.org/bokeh/release/bokeh-0.12.10.min.css\");\n      Bokeh.embed.inject_css(\"https://cdn.pydata.org/bokeh/release/bokeh-0.12.10.min.css\");\n      console.log(\"Bokeh: injecting CSS: https://cdn.pydata.org/bokeh/release/bokeh-widgets-0.12.10.min.css\");\n      Bokeh.embed.inject_css(\"https://cdn.pydata.org/bokeh/release/bokeh-widgets-0.12.10.min.css\");\n      console.log(\"Bokeh: injecting CSS: https://cdn.pydata.org/bokeh/release/bokeh-tables-0.12.10.min.css\");\n      Bokeh.embed.inject_css(\"https://cdn.pydata.org/bokeh/release/bokeh-tables-0.12.10.min.css\");\n    }\n  ];\n\n  function run_inline_js() {\n    \n    if ((root.Bokeh !== undefined) || (force === true)) {\n      for (var i = 0; i < inline_js.length; i++) {\n        inline_js[i].call(root, root.Bokeh);\n      }if (force === true) {\n        display_loaded();\n      }} else if (Date.now() < root._bokeh_timeout) {\n      setTimeout(run_inline_js, 100);\n    } else if (!root._bokeh_failed_load) {\n      console.log(\"Bokeh: BokehJS failed to load within specified timeout.\");\n      root._bokeh_failed_load = true;\n    } else if (force !== true) {\n      var cell = $(document.getElementById(\"c91d507f-0e4a-47da-954f-8c6a08ad01c2\")).parents('.cell').data().cell;\n      cell.output_area.append_execute_result(NB_LOAD_WARNING)\n    }\n\n  }\n\n  if (root._bokeh_is_loading === 0) {\n    console.log(\"Bokeh: BokehJS loaded, going straight to plotting\");\n    run_inline_js();\n  } else {\n    load_libs(js_urls, function() {\n      console.log(\"Bokeh: BokehJS plotting callback run at\", now());\n      run_inline_js();\n    });\n  }\n}(window));"
     },
     "metadata": {},
     "output_type": "display_data"
    }
   ],
   "source": [
    "# Add \"beer\" to the PYTHONPATH\n",
    "import sys\n",
    "sys.path.append('../')\n",
    "\n",
    "import copy\n",
    "\n",
    "import beer\n",
    "import numpy as np\n",
    "\n",
    "# For plotting.\n",
    "from bokeh.io import show, output_notebook\n",
    "from bokeh.plotting import figure, gridplot\n",
    "from bokeh.models import LinearAxis, Range1d\n",
    "output_notebook()\n",
    "\n",
    "# Convenience functions for plotting.\n",
    "import plotting\n",
    "\n",
    "%load_ext autoreload\n",
    "%autoreload 2"
   ]
  },
  {
   "cell_type": "markdown",
   "metadata": {},
   "source": [
    "## Data\n",
    "\n",
    "We generate a synthetic data:\n"
   ]
  },
  {
   "cell_type": "code",
   "execution_count": 2,
   "metadata": {
    "collapsed": true
   },
   "outputs": [],
   "source": [
    "# First cluster.\n",
    "mean = np.array([-1.5, 4]) \n",
    "cov = np.array([[.75, 0], [0, 2.]])\n",
    "data1 = np.random.multivariate_normal(mean, cov, size=100)\n",
    "\n",
    "# Second cluster.\n",
    "mean = np.array([5, 5]) \n",
    "cov = np.array([[2, 1], [1, .75]])\n",
    "data2 = np.random.multivariate_normal(mean, cov, size=100)\n",
    "\n",
    "# Third cluster.\n",
    "mean = np.array([-1.5, -4]) \n",
    "cov = np.array([[.75, 0], [0, 2.]])\n",
    "data3 = np.random.multivariate_normal(mean, cov, size=100)\n",
    "\n",
    "# Fourth cluster.\n",
    "mean = np.array([5, -5]) \n",
    "cov = np.array([[2, 1], [1, .75]])\n",
    "data4 = np.random.multivariate_normal(mean, cov, size=100)\n",
    "\n",
    "# Merge everything to get the finale data set.\n",
    "data = np.vstack([data1, data2, data4, data3])\n",
    "np.random.shuffle(data)"
   ]
  },
  {
   "cell_type": "code",
   "execution_count": 50,
   "metadata": {},
   "outputs": [
    {
     "data": {
      "text/html": [
       "\n",
       "<div class=\"bk-root\">\n",
       "    <div class=\"bk-plotdiv\" id=\"7d107832-d257-427a-b42d-169e4cb3806d\"></div>\n",
       "</div>"
      ]
     },
     "metadata": {},
     "output_type": "display_data"
    },
    {
     "data": {
      "application/javascript": [
       "(function(root) {\n",
       "  function embed_document(root) {\n",
       "    var docs_json = {\"263c1734-6e25-497a-81ce-f45888e6e15a\":{\"roots\":{\"references\":[{\"attributes\":{\"callback\":null,\"end\":11.371331252411744,\"start\":-7.736528136519312},\"id\":\"f4863d29-b68d-4b5b-b132-9e77cc215867\",\"type\":\"Range1d\"},{\"attributes\":{},\"id\":\"c9e5d657-2fa7-47bf-a0ab-edf8e5688bee\",\"type\":\"ResetTool\"},{\"attributes\":{\"callback\":null,\"end\":9.564710695745447,\"start\":-9.54314869318561},\"id\":\"013d934e-3e22-4fce-9753-66b5178b329c\",\"type\":\"Range1d\"},{\"attributes\":{\"bottom_units\":\"screen\",\"fill_alpha\":{\"value\":0.5},\"fill_color\":{\"value\":\"lightgrey\"},\"left_units\":\"screen\",\"level\":\"overlay\",\"line_alpha\":{\"value\":1.0},\"line_color\":{\"value\":\"black\"},\"line_dash\":[4,4],\"line_width\":{\"value\":2},\"plot\":null,\"render_mode\":\"css\",\"right_units\":\"screen\",\"top_units\":\"screen\"},\"id\":\"ebf5a117-71a2-4ca8-8414-c3c6a127f8f7\",\"type\":\"BoxAnnotation\"},{\"attributes\":{\"plot\":{\"id\":\"a07e83eb-e60c-4290-aacc-bc346e88e113\",\"subtype\":\"Figure\",\"type\":\"Plot\"},\"ticker\":{\"id\":\"d36646a4-58a5-49bc-a2f6-331f9463c6a0\",\"type\":\"BasicTicker\"}},\"id\":\"265b8a1c-f02c-488a-af8c-3157b3fe136c\",\"type\":\"Grid\"},{\"attributes\":{\"overlay\":{\"id\":\"ebf5a117-71a2-4ca8-8414-c3c6a127f8f7\",\"type\":\"BoxAnnotation\"}},\"id\":\"38943099-b3eb-4f8d-9302-6cc5506e1916\",\"type\":\"BoxZoomTool\"},{\"attributes\":{\"formatter\":{\"id\":\"1309d7c7-b9be-4ef4-9d01-949663f2c34d\",\"type\":\"BasicTickFormatter\"},\"plot\":{\"id\":\"a07e83eb-e60c-4290-aacc-bc346e88e113\",\"subtype\":\"Figure\",\"type\":\"Plot\"},\"ticker\":{\"id\":\"5d41e5cf-46c0-49a7-bfd0-8b96fe13165a\",\"type\":\"BasicTicker\"}},\"id\":\"7f148bbf-80ca-4999-8cd2-f91ac6748a65\",\"type\":\"LinearAxis\"},{\"attributes\":{},\"id\":\"0d52b51c-45e1-49ac-93ad-0c14790c6ad0\",\"type\":\"HelpTool\"},{\"attributes\":{},\"id\":\"0bca1ef8-2621-40ac-ab9a-4d8243411579\",\"type\":\"SaveTool\"},{\"attributes\":{\"dimension\":1,\"plot\":{\"id\":\"a07e83eb-e60c-4290-aacc-bc346e88e113\",\"subtype\":\"Figure\",\"type\":\"Plot\"},\"ticker\":{\"id\":\"5d41e5cf-46c0-49a7-bfd0-8b96fe13165a\",\"type\":\"BasicTicker\"}},\"id\":\"6ea0289c-6045-4941-93c1-9d6047375761\",\"type\":\"Grid\"},{\"attributes\":{},\"id\":\"e1e2894f-4d35-423c-ad38-b80a60d9b8ef\",\"type\":\"LinearScale\"},{\"attributes\":{\"fill_alpha\":{\"value\":0.1},\"fill_color\":{\"value\":\"#1f77b4\"},\"line_alpha\":{\"value\":0.1},\"line_color\":{\"value\":\"#1f77b4\"},\"x\":{\"field\":\"x\"},\"y\":{\"field\":\"y\"}},\"id\":\"0e6d1429-83fa-478a-b469-622f42474fe0\",\"type\":\"Circle\"},{\"attributes\":{},\"id\":\"1309d7c7-b9be-4ef4-9d01-949663f2c34d\",\"type\":\"BasicTickFormatter\"},{\"attributes\":{\"below\":[{\"id\":\"a51cd6c0-8004-45fa-bc47-de5bba97a317\",\"type\":\"LinearAxis\"}],\"left\":[{\"id\":\"7f148bbf-80ca-4999-8cd2-f91ac6748a65\",\"type\":\"LinearAxis\"}],\"plot_height\":400,\"plot_width\":400,\"renderers\":[{\"id\":\"a51cd6c0-8004-45fa-bc47-de5bba97a317\",\"type\":\"LinearAxis\"},{\"id\":\"265b8a1c-f02c-488a-af8c-3157b3fe136c\",\"type\":\"Grid\"},{\"id\":\"7f148bbf-80ca-4999-8cd2-f91ac6748a65\",\"type\":\"LinearAxis\"},{\"id\":\"6ea0289c-6045-4941-93c1-9d6047375761\",\"type\":\"Grid\"},{\"id\":\"ebf5a117-71a2-4ca8-8414-c3c6a127f8f7\",\"type\":\"BoxAnnotation\"},{\"id\":\"f7573443-51af-4b7b-9c0f-fd1965a44821\",\"type\":\"GlyphRenderer\"}],\"title\":{\"id\":\"9e095ab8-5724-4f55-9904-621133372557\",\"type\":\"Title\"},\"toolbar\":{\"id\":\"f5374bfd-eeae-4047-8d84-8e6238c710a4\",\"type\":\"Toolbar\"},\"x_range\":{\"id\":\"f4863d29-b68d-4b5b-b132-9e77cc215867\",\"type\":\"Range1d\"},\"x_scale\":{\"id\":\"e1e2894f-4d35-423c-ad38-b80a60d9b8ef\",\"type\":\"LinearScale\"},\"y_range\":{\"id\":\"013d934e-3e22-4fce-9753-66b5178b329c\",\"type\":\"Range1d\"},\"y_scale\":{\"id\":\"03e57fb0-a41d-4af6-a626-e4cce615433c\",\"type\":\"LinearScale\"}},\"id\":\"a07e83eb-e60c-4290-aacc-bc346e88e113\",\"subtype\":\"Figure\",\"type\":\"Plot\"},{\"attributes\":{\"source\":{\"id\":\"5badf31f-2fe6-41b0-b90f-af8cef08a468\",\"type\":\"ColumnDataSource\"}},\"id\":\"40c2718f-7055-4efc-ab06-4f6a014f79dd\",\"type\":\"CDSView\"},{\"attributes\":{\"data_source\":{\"id\":\"5badf31f-2fe6-41b0-b90f-af8cef08a468\",\"type\":\"ColumnDataSource\"},\"glyph\":{\"id\":\"4cac5273-3f10-41ec-89e3-195f62706979\",\"type\":\"Circle\"},\"hover_glyph\":null,\"muted_glyph\":null,\"nonselection_glyph\":{\"id\":\"0e6d1429-83fa-478a-b469-622f42474fe0\",\"type\":\"Circle\"},\"selection_glyph\":null,\"view\":{\"id\":\"40c2718f-7055-4efc-ab06-4f6a014f79dd\",\"type\":\"CDSView\"}},\"id\":\"f7573443-51af-4b7b-9c0f-fd1965a44821\",\"type\":\"GlyphRenderer\"},{\"attributes\":{},\"id\":\"03e57fb0-a41d-4af6-a626-e4cce615433c\",\"type\":\"LinearScale\"},{\"attributes\":{\"active_drag\":\"auto\",\"active_inspect\":\"auto\",\"active_scroll\":\"auto\",\"active_tap\":\"auto\",\"tools\":[{\"id\":\"b178a9ca-d327-4814-8660-aee71597d3f3\",\"type\":\"PanTool\"},{\"id\":\"a7f89f6c-1254-4e44-9912-d01257b6139d\",\"type\":\"WheelZoomTool\"},{\"id\":\"38943099-b3eb-4f8d-9302-6cc5506e1916\",\"type\":\"BoxZoomTool\"},{\"id\":\"0bca1ef8-2621-40ac-ab9a-4d8243411579\",\"type\":\"SaveTool\"},{\"id\":\"c9e5d657-2fa7-47bf-a0ab-edf8e5688bee\",\"type\":\"ResetTool\"},{\"id\":\"0d52b51c-45e1-49ac-93ad-0c14790c6ad0\",\"type\":\"HelpTool\"}]},\"id\":\"f5374bfd-eeae-4047-8d84-8e6238c710a4\",\"type\":\"Toolbar\"},{\"attributes\":{},\"id\":\"b178a9ca-d327-4814-8660-aee71597d3f3\",\"type\":\"PanTool\"},{\"attributes\":{},\"id\":\"5d41e5cf-46c0-49a7-bfd0-8b96fe13165a\",\"type\":\"BasicTicker\"},{\"attributes\":{\"formatter\":{\"id\":\"952b3e4f-f2fb-4fbd-8d05-b35d1bd5ba9a\",\"type\":\"BasicTickFormatter\"},\"plot\":{\"id\":\"a07e83eb-e60c-4290-aacc-bc346e88e113\",\"subtype\":\"Figure\",\"type\":\"Plot\"},\"ticker\":{\"id\":\"d36646a4-58a5-49bc-a2f6-331f9463c6a0\",\"type\":\"BasicTicker\"}},\"id\":\"a51cd6c0-8004-45fa-bc47-de5bba97a317\",\"type\":\"LinearAxis\"},{\"attributes\":{\"callback\":null,\"column_names\":[\"x\",\"y\"],\"data\":{\"x\":{\"__ndarray__\":\"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\",\"dtype\":\"float64\",\"shape\":[400]},\"y\":{\"__ndarray__\":\"grwcMcNSG0D8LCgbzgcYwFfPQckOJBFAnrmI6eCXBED6lDA/k/gLQM9FR6zS7xdAwr8WpO7gFkDmwn4wufUTwMZyCqb9aBhAUkWR2Ga4FUDEnp2XBMgQwBxyZoljbBrA4MCfJhGIEMAr1RKHLgUWQMIE2dlM/xVANmeRx4L8CsDgqaLmWg4SQK9uAaQn9BBA0St8SCdDGMDnqskVd1USQNyAlgf7NwlAn3vSImbrF0BSYmx/BC8SQL53jWgCMhJA9LETPIgwGkCeVYAD6AMMwBZKsF5peRnA5aSff8WPFUCiYrDEFt8TwG6u5TnZaRfAdBnoYM5sDsBmmJSEk6gNQH6P5/rsXRVA3CeX0ZcMEcBFWj6FGQEIwDabbQSkAQfA2QuyldtfCcBCH05x/7YMQBfgVjs+pBBA8Zt1FdubBsBjps2lJeoSQG+VDJ3zwhtAcArPbsrLFsCD5AHVne0NQLZit1/uNhLAoZAWv9klEUA00CQcKh0OwDDgZgDMqw7Amk5XJYWxEMDsvBVwp2cJQDYfA/vj9RfAAlPc72H7E0A/Oaltq1wVwFD7Kqii8hLAoEVV7AT+EkBcIUd9xTsRwC5fp010JQpAZmnFx+OJE0Cik++DXN/6Px5O+MIh9BJAEVhatw2MFEAip86fO30MQOcqznfl9BLAETQXZIylEkDSBIHor9kQQOZLqKCi3BjAhEDUndqcEUBKdMPG+BgUwNi3Cl8ZSRLA/mqmsuJnGEBKuhAa5wgUQDvtUJcunBbAcHeG7LUzG8D4nbzMEHkSwLYp8hEOgQlAXP9N7oaxGMCSWiYgpQ8WQLNO7qHqIRXAP6NfOrHoE8A4j6n1O5wUwBSavrpCrQvAiLhHD0wHFEBVcZJg8qESQFcFOv0KSRBAT7fMhhB3DcBNrD7HJX4ZQIiKEjBmkRNAh6K+V5GNEkBhxmZIyoMWwJaI9p2jOAFAcsH5mTZED0BYtgj+Qaf/P+rsxOFfaw9AjAKEHcxFGEA23SYFL6IKwMFK81BKzwxAoOIl3pN8FsA1BaRG0QAUQDgQ57lozhDAfZXbmPiCD8Dz98yM6rURwIjdCk/4VhXANL+LcRp+EMBysTCpa1QUwF8rCYiQyxBAc+4jyzsBFUC2ZzczWdEXQB6bAxU9GQXADXFuMwuwEkBDvjXD3OQRQE3MZAa0aQXARcWVlfDWEkCrm1p7i3QGwHLaw7WCC/w/EHmVEt6IF0BYKhvnuCoPwMgMf1mlThhAfGpuHUMLEcAJOWOtsb8VQLzl9MXLqRNAlQZ3BBjQGECG7PxEMCsPwPz7AxOr4RFAcvzGJONoE8BCjiRVa68UwM16J02mOxTA7xMZvnsXGsBSe80G73oKQIat0+EgugtA6XnNk1+nFMAfWXNiL58RQKngQ/WebBdAdVyIrqvLFcBNlh6z21YMQNTyWi9Q7BnAlvqc+zgwD0BZbUAMdxUMwMbHooKqIQLAjVwBS2VuDkDOCepN+bsFQN33ltnzAhJAe5CFfJY9FUDb6TvRxHcQQLr2TDrCexRASVv5YKRYFMAG8muvyaIUQHIl4KCdWQtAAtkJsQdAGcBymUa81soWQJcpLltxXRVAEquZb8wGF0Dmx9fdOQb7vw/5dA3YERBAhXA2YYV+FUDMqVJlsYMBQGyO8bXM/wJAXvTF6Dr5FcCTb9HbMkYTQBAM+/X/RBZAiXjh3tbnC0AbFgJk4BgXQIyZIcOzXxhAaYfYp8RtFMBdA/aC9eYSQAQFmIi1axlA8lI1IrU8FEA6/aTP+QMTQBR1NS8cCQ5ACrZwOk9GE0BJZW9Er5wQQH5z77II3RDA2lF3yiaTFkDAxgVZZXcbwAomp93jExJAyaFqGxVCFMBsJL4RaUETQPzkIKy5ZBjAVtkmLUL/EUCsABJpIE0FwNxr8w+7yPo/KnB2JQTtFMD1ExjThOsTQAjRHBeZsB3AtX+Y/SqVE0AEkJZt3LsZwLTVlGWCMBVAUFE9hcUCDcA/NzfqRb8PwFyl3uO39BbA4x3iC6p4FkA5WXnTawEUwHB60sXLvgzA+hx9SYGEGMA7Risy3PYTwPug8IEkpgtAmIV2pRk3D8D1j7wH0RQFQMweDab0BRRA23B0b1GYD0CGRxiIES0VwJNLXltUUBXAPHbkx5kuEsB4x3nU7KkawLml6DjuXBPAmjdNt3EYDsAL109fpzYOQNuaXbDPoRRAzuc5v7M9EcChFwn6siQSwNIRlf0SARfAVq8tXf4xB0DmaCc9vaQTwBKWYyyZrxZAWdpuhI0yEMCE4FmJwXsSwLaJeL/r/RhAxjp0B8o0DkC/5FoIDyUEQMpmKqlUcxHAF6HdE+LkFEA5L6jkTvEVwKVhFiOw8BPAWntfK28UGMCK06TCNZgOQGY1z+GMvhrA9gBTiuDsAEB52M+H3UEOwIyqjbF6cxRAvlggJbDuGMDp1FM7SFsUwKL1CVVEOxlAnlG8UjD+E8CzxtS5XFoLwGHML1HUIQ3AIL/Mby+3+T88P+T3Jh0UQDCukaDDnxhA8A2KkdNfF8C54L6uczgQwE2t5f0JchBAxkAwamMc/r/XytMqomIAwPZxeDlJIBnAHPe0gO9JDcB7AI4PaHsSwLfFtf+pXBhANLI/Q7xUDcDcpXnRG2oOQM0hCR7D0xPANbOdqUg3FMAzSs4kc8UUQND72oU6dhDAiLtyh09BA8DxXis9+6ULwI1fWG5IXQpAW4yE7sE3EkDCQSj85pAXQCsRWWk/hBPAuNsBZmsbD8DeKnHuXj0aQPKefrC3qxDAYIPShhWpEMBZk2hcS4QRwMTAFn3lpRVAwm+uTjNSE0AX27uEThsMwFTtpE7yXAXAuRjUD2Z4EcDGkJoO+oIawMFz2pHTgBHAWeusQ/lEDcC+oUPiwf4UwN7AARfi0xfADQEoiSJOEkDecydX0GEXQFYloES+twlARkH0QpG6EsC4Y89w9e8RwIeaFxH/8QTA4jwZrSgwFUAnlPA5c7YPwFLWsIo4fQ3AMI9EikIdEUCuHY7WCAgEwMoYQRngdRRA78vh1A5PE0DJCUDA4g0YwEey15weVxzAzgB9N5MIEcCQp6k/inj+v58er3odMBfApkICoZvpBkBsZaXGz7gTwLhWQ3PIOBDAw/n3rpCDDMDt6/XkgD4UwCS1YsPszwvAXupL9CHkEUDe/Gd/AhoUQFtMaeBJQxXArB+m8CvPGkC00lG4yeYTQEilr33w7BRAdBQq6UQCF8AlIAEBoMYVQJwzBhGo3gxAl8mFs77xD8BB2Ip2ZRkMwM9WK6SFIxLAgFdZYi0Ymb9WjoEqiNYLQE12QJKpzxLAWLLXAtHeCkAM8TcazgoTQBwTgqfeVw5APGS1WLhKEsA9S6y9ck4XQC/dWYUiABVA/ceS9iEyGkC4BjKSJiIfQNA8yAUPgBHAUcMoUPqaE0C0zPVuMQ0WQDkOpYIVChTAMPJl3q3/F8AA6psmuMoGwAH4nnTfBBJAXaMDpMbtDsBiZRSbYdEZQK4icB7lMPm/JQfgVRMRGcDQNI21p/YVwGQxouUVGBfAQL6xHbsJEsARej2MT1wXwHm7bsJlWRXAiiNseK5I+79OlcRIhaUSwE0DELvn/xBAlp4FLal1F8DcY5kLgsEFwOZhbrsnAxNA/Mdnq5nCA0BkVfAgvOQQQLgnZdc7QOu/sZ2LGPG/FMCFjk64rQoNQArhWwl9ChRAVkBKiQO7EkB2GyLMH3cVQLzI1ecU8QtAzm8RCae7EEDerf3kq+oVwJ+jVvFiXQTAAw7arr+MCUDdcVSV/RwWQDQbMpwqYQXAJ1A/4hbLFMAuKFssW1AcQFJSC8YmZhPApi3ZvOvhEMBFnWTZQAMRQGvTIaOh5BFAeetYNlLSFcBY5qyIcHUMQEbRDRhvwgrA2Pn1PsXKFkBLdLD19asTwKRPhNGeHR3AHH92AC/1FUBPdfxfr9gSQGMwqRPR2BlAz7/FNf+5FkC2ZzneSF4KwIS21g+f2xDArteN1KTZHsBa1ejRRb0XwOgesH2ilxNAXBytF4ocF8AYm/O8Ds0RwEpNRBRrpwBAEt9jLRMGFcAM0kAocCcSQBWGV/6/ZxHAYEdqvTdHHUAvH/gCIsMRwAlzHTC7hxJAMp/GsrqHA0D+scq13qoRwM/6UWBHUxjA76kMHiqlFMCpaIWe4f8WQFAVbUyuIBNAsfxLT7sqDEDIwbxhJLsdwJok6EhspxLAvCuwSPoHFUAJXC1c7h4LwLYpseMs5/A/BZFocmPpEEA=\",\"dtype\":\"float64\",\"shape\":[400]}}},\"id\":\"5badf31f-2fe6-41b0-b90f-af8cef08a468\",\"type\":\"ColumnDataSource\"},{\"attributes\":{\"plot\":null,\"text\":\"Data\"},\"id\":\"9e095ab8-5724-4f55-9904-621133372557\",\"type\":\"Title\"},{\"attributes\":{},\"id\":\"952b3e4f-f2fb-4fbd-8d05-b35d1bd5ba9a\",\"type\":\"BasicTickFormatter\"},{\"attributes\":{},\"id\":\"a7f89f6c-1254-4e44-9912-d01257b6139d\",\"type\":\"WheelZoomTool\"},{\"attributes\":{},\"id\":\"d36646a4-58a5-49bc-a2f6-331f9463c6a0\",\"type\":\"BasicTicker\"},{\"attributes\":{\"fill_color\":{\"value\":\"#1f77b4\"},\"line_color\":{\"value\":\"#1f77b4\"},\"x\":{\"field\":\"x\"},\"y\":{\"field\":\"y\"}},\"id\":\"4cac5273-3f10-41ec-89e3-195f62706979\",\"type\":\"Circle\"}],\"root_ids\":[\"a07e83eb-e60c-4290-aacc-bc346e88e113\"]},\"title\":\"Bokeh Application\",\"version\":\"0.12.10\"}};\n",
       "    var render_items = [{\"docid\":\"263c1734-6e25-497a-81ce-f45888e6e15a\",\"elementid\":\"7d107832-d257-427a-b42d-169e4cb3806d\",\"modelid\":\"a07e83eb-e60c-4290-aacc-bc346e88e113\"}];\n",
       "\n",
       "    root.Bokeh.embed.embed_items(docs_json, render_items);\n",
       "  }\n",
       "\n",
       "  if (root.Bokeh !== undefined) {\n",
       "    embed_document(root);\n",
       "  } else {\n",
       "    var attempts = 0;\n",
       "    var timer = setInterval(function(root) {\n",
       "      if (root.Bokeh !== undefined) {\n",
       "        embed_document(root);\n",
       "        clearInterval(timer);\n",
       "      }\n",
       "      attempts++;\n",
       "      if (attempts > 100) {\n",
       "        console.log(\"Bokeh: ERROR: Unable to embed document because BokehJS library is missing\")\n",
       "        clearInterval(timer);\n",
       "      }\n",
       "    }, 10, root)\n",
       "  }\n",
       "})(window);"
      ],
      "application/vnd.bokehjs_exec.v0+json": ""
     },
     "metadata": {
      "application/vnd.bokehjs_exec.v0+json": {
       "id": "a07e83eb-e60c-4290-aacc-bc346e88e113"
      }
     },
     "output_type": "display_data"
    }
   ],
   "source": [
    "# Mean, variance of the data to scale the figure.\n",
    "mean = data.mean(axis=0)\n",
    "var = data.var(axis=0)\n",
    "std_dev = np.sqrt(max(var))\n",
    "x_range = (mean[0] - 2 * std_dev, mean[0] + 2 * std_dev)\n",
    "y_range = (mean[1] - 2 * std_dev, mean[1] + 2 * std_dev)\n",
    "\n",
    "fig = figure(title='Data', width=400, height=400,\n",
    "             x_range=x_range, y_range=y_range)\n",
    "fig.circle(data[:, 0], data[:, 1])\n",
    "\n",
    "show(fig)"
   ]
  },
  {
   "cell_type": "markdown",
   "metadata": {},
   "source": [
    "## Model Creation\n",
    "\n",
    "We create two types of mixture model: one whose (Normal) components have full covariance matrix and the other whose (Normal) components have diagonal covariance matrix."
   ]
  },
  {
   "cell_type": "code",
   "execution_count": 85,
   "metadata": {},
   "outputs": [],
   "source": [
    "# We use the global mean/cov. matrix of the data to initialize the mixture.\n",
    "p_mean = data.mean(axis=0)\n",
    "p_cov = np.cov(data.T)\n",
    "\n",
    "# Create the models.\n",
    "args = {'dim':2, 'mean':p_mean, 'cov': p_cov, 'prior_count':1, 'random_init':True}\n",
    "gmm_diag = beer.NestedMixture.create(5, 3, beer.NormalDiagonalCovariance.create, args, prior_count=1e-3)\n",
    "gmm_full = beer.NestedMixture.create(3, 5, beer.NormalFullCovariance.create, args, prior_count=1)"
   ]
  },
  {
   "cell_type": "markdown",
   "metadata": {},
   "source": [
    "## Variational Bayes Training "
   ]
  },
  {
   "cell_type": "code",
   "execution_count": 86,
   "metadata": {},
   "outputs": [
    {
     "data": {
      "text/html": [
       "\n",
       "<div class=\"bk-root\">\n",
       "    <div class=\"bk-plotdiv\" id=\"4809b9f0-46dc-471e-ab8c-02de68a27a1d\"></div>\n",
       "</div>"
      ]
     },
     "metadata": {},
     "output_type": "display_data"
    },
    {
     "data": {
      "application/javascript": [
       "(function(root) {\n",
       "  function embed_document(root) {\n",
       "    var docs_json = {\"ef77c2cf-9ad8-4480-ac0f-2c0f2d855dd0\":{\"roots\":{\"references\":[{\"attributes\":{\"source\":{\"id\":\"cf1bfa8b-e5c3-42fa-8b60-2699a4d82eb0\",\"type\":\"ColumnDataSource\"}},\"id\":\"b43d610c-5999-4812-98e1-a1c368a0ee3b\",\"type\":\"CDSView\"},{\"attributes\":{\"overlay\":{\"id\":\"fd01ce76-d741-41e0-9d9d-0cf5648d68c3\",\"type\":\"BoxAnnotation\"}},\"id\":\"476bb76e-ef44-4e55-9781-0b93ba8031d8\",\"type\":\"BoxZoomTool\"},{\"attributes\":{\"callback\":null},\"id\":\"ec957e9c-7f57-4b65-9fe2-5a4de616b92a\",\"type\":\"DataRange1d\"},{\"attributes\":{\"source\":{\"id\":\"507fa151-4a77-4637-8b0c-72e34462139b\",\"type\":\"ColumnDataSource\"}},\"id\":\"d6d6ebb9-328f-4528-ae90-39aaa5850b1a\",\"type\":\"CDSView\"},{\"attributes\":{\"line_alpha\":{\"value\":0.1},\"line_color\":{\"value\":\"#1f77b4\"},\"x\":{\"field\":\"x\"},\"y\":{\"field\":\"y\"}},\"id\":\"b5195147-8339-4d34-a3d9-79c3fff27b5d\",\"type\":\"Line\"},{\"attributes\":{},\"id\":\"95a8aad3-3624-4d9b-9619-e0d4a1857a6c\",\"type\":\"LinearScale\"},{\"attributes\":{},\"id\":\"c6407832-636a-4e10-b63f-fdc8eca99d36\",\"type\":\"PanTool\"},{\"attributes\":{},\"id\":\"ac9406ec-4094-4a5f-b385-2a4a2159cae1\",\"type\":\"BasicTickFormatter\"},{\"attributes\":{\"data_source\":{\"id\":\"cf1bfa8b-e5c3-42fa-8b60-2699a4d82eb0\",\"type\":\"ColumnDataSource\"},\"glyph\":{\"id\":\"d391c1fa-5a4b-4b8a-a11d-eaef27a6033e\",\"type\":\"Line\"},\"hover_glyph\":null,\"muted_glyph\":null,\"nonselection_glyph\":{\"id\":\"b5195147-8339-4d34-a3d9-79c3fff27b5d\",\"type\":\"Line\"},\"selection_glyph\":null,\"view\":{\"id\":\"b43d610c-5999-4812-98e1-a1c368a0ee3b\",\"type\":\"CDSView\"}},\"id\":\"3ceb49b0-3072-42c6-8bd1-368ae7493277\",\"type\":\"GlyphRenderer\"},{\"attributes\":{},\"id\":\"ab691b87-b1df-413e-b7da-f348944b55a3\",\"type\":\"ResetTool\"},{\"attributes\":{\"data_source\":{\"id\":\"507fa151-4a77-4637-8b0c-72e34462139b\",\"type\":\"ColumnDataSource\"},\"glyph\":{\"id\":\"61942086-64af-4054-9a86-1bb5ac2a52aa\",\"type\":\"Line\"},\"hover_glyph\":null,\"muted_glyph\":null,\"nonselection_glyph\":{\"id\":\"cacd85c7-b92a-4187-b03c-1e5c02f41b3d\",\"type\":\"Line\"},\"selection_glyph\":null,\"view\":{\"id\":\"d6d6ebb9-328f-4528-ae90-39aaa5850b1a\",\"type\":\"CDSView\"}},\"id\":\"d85c720f-290a-4d2d-bd67-595128e2e742\",\"type\":\"GlyphRenderer\"},{\"attributes\":{\"line_color\":{\"value\":\"blue\"},\"x\":{\"field\":\"x\"},\"y\":{\"field\":\"y\"}},\"id\":\"d391c1fa-5a4b-4b8a-a11d-eaef27a6033e\",\"type\":\"Line\"},{\"attributes\":{\"plot\":{\"id\":\"c42884a9-caea-490d-a49e-a08f18994d85\",\"subtype\":\"Figure\",\"type\":\"Plot\"},\"ticker\":{\"id\":\"2eb3cb59-1a3d-4e92-bf28-ff97ec7a6357\",\"type\":\"BasicTicker\"}},\"id\":\"b878c667-d195-4448-b104-970faed13e02\",\"type\":\"Grid\"},{\"attributes\":{\"items\":[{\"id\":\"5bebc05e-c908-4dee-89f6-78d5abf73957\",\"type\":\"LegendItem\"},{\"id\":\"e88b1732-d369-4046-98a7-cf9f3778a7d7\",\"type\":\"LegendItem\"}],\"location\":\"bottom_right\",\"plot\":{\"id\":\"c42884a9-caea-490d-a49e-a08f18994d85\",\"subtype\":\"Figure\",\"type\":\"Plot\"}},\"id\":\"6b1e045e-180f-4532-ac34-a16d3e10f5b1\",\"type\":\"Legend\"},{\"attributes\":{},\"id\":\"908d41ba-c43a-4aa2-8247-f58022091610\",\"type\":\"LinearScale\"},{\"attributes\":{},\"id\":\"91f8e56b-0d83-4e36-bee4-c2116a3eabab\",\"type\":\"BasicTicker\"},{\"attributes\":{\"plot\":null,\"text\":\"ELBO\"},\"id\":\"79d725a8-db2e-452f-9a6f-d480b7b69db8\",\"type\":\"Title\"},{\"attributes\":{\"axis_label\":\"step\",\"formatter\":{\"id\":\"7db9532b-d676-4934-b1ff-bab538cbd99c\",\"type\":\"BasicTickFormatter\"},\"plot\":{\"id\":\"c42884a9-caea-490d-a49e-a08f18994d85\",\"subtype\":\"Figure\",\"type\":\"Plot\"},\"ticker\":{\"id\":\"2eb3cb59-1a3d-4e92-bf28-ff97ec7a6357\",\"type\":\"BasicTicker\"}},\"id\":\"408dba04-16e2-4b93-87d3-b02d21310c61\",\"type\":\"LinearAxis\"},{\"attributes\":{},\"id\":\"a2eaa074-4f8d-4d61-8b1f-4f8065629909\",\"type\":\"SaveTool\"},{\"attributes\":{\"line_alpha\":{\"value\":0.1},\"line_color\":{\"value\":\"#1f77b4\"},\"x\":{\"field\":\"x\"},\"y\":{\"field\":\"y\"}},\"id\":\"cacd85c7-b92a-4187-b03c-1e5c02f41b3d\",\"type\":\"Line\"},{\"attributes\":{\"label\":{\"value\":\"GMM (diag)\"},\"renderers\":[{\"id\":\"3ceb49b0-3072-42c6-8bd1-368ae7493277\",\"type\":\"GlyphRenderer\"}]},\"id\":\"5bebc05e-c908-4dee-89f6-78d5abf73957\",\"type\":\"LegendItem\"},{\"attributes\":{\"callback\":null,\"column_names\":[\"x\",\"y\"],\"data\":{\"x\":[0,1,2,3,4,5,6,7,8,9,10,11,12,13,14,15,16,17,18,19,20,21,22,23,24,25,26,27,28,29,30,31,32,33,34,35,36,37,38,39,40,41,42,43,44,45,46,47,48,49,50,51,52,53,54,55,56,57,58,59,60,61,62,63,64,65,66,67,68,69,70,71,72,73,74,75,76,77,78,79,80,81,82,83,84,85,86,87,88,89,90,91,92,93,94,95,96,97,98,99,100,101,102,103,104,105,106,107,108,109,110,111,112,113,114,115,116,117,118,119,120,121,122,123,124,125,126,127,128,129,130,131,132,133,134,135,136,137,138,139,140,141,142,143,144,145,146,147,148,149,150,151,152,153,154,155,156,157,158,159,160,161,162,163,164,165,166,167,168,169,170,171,172,173,174,175,176,177,178,179,180,181,182,183,184,185,186,187,188,189,190,191,192,193,194,195,196,197,198],\"y\":[-4.278270809647967,-4.0577477347537165,-3.7430358668599006,-3.361549551269501,-2.965337768988498,-2.7054532611647746,-2.5355171688161384,-2.404101868387448,-2.2870268657754154,-2.2019647458986906,-2.1817335763424577,-2.1708539774724023,-2.162469602785481,-2.154118378388468,-2.1441031082327164,-2.1319430314576215,-2.118677332074427,-2.103652692996798,-2.083168345115212,-2.0571767875420535,-2.033673618345864,-2.0170429719855423,-2.016923068560701,-2.016863566694531,-2.016833668179807,-2.016818506604485,-2.0168107648562263,-2.016806791194384,-2.0168047436832928,-2.016803685631759,-2.0168031377305478,-2.0168028535682025,-2.0168027060254228,-2.0168026293558072,-2.016802589491409,-2.0168025687550264,-2.0168025579651827,-2.0168025523496036,-2.0168025494265005,-2.0168025479047484,-2.016802547112464,-2.0168025466999433,-2.0168025464851467,-2.0168025463732984,-2.01680254631506,-2.0168025462847283,-2.0168025462689383,-2.0168025462607138,-2.0168025462564305,-2.0168025462542034,-2.01680254625304,-2.016802546252436,-2.0168025462521197,-2.0168025462519577,-2.0168025462518724,-2.016802546251828,-2.016802546251802,-2.0168025462517916,-2.016802546251785,-2.016802546251783,-2.0168025462517796,-2.016802546251778,-2.0168025462517805,-2.016802546251779,-2.016802546251778,-2.0168025462517796,-2.0168025462517774,-2.0168025462517774,-2.016802546251778,-2.0168025462517796,-2.0168025462517765,-2.016802546251779,-2.0168025462517796,-2.0168025462517782,-2.0168025462517774,-2.01680254625178,-2.0168025462517774,-2.016802546251777,-2.016802546251778,-2.0168025462517787,-2.0168025462517774,-2.0168025462517796,-2.0168025462517796,-2.0168025462517782,-2.0168025462517774,-2.0168025462517813,-2.0168025462517782,-2.01680254625178,-2.0168025462517782,-2.01680254625178,-2.0168025462517774,-2.016802546251779,-2.01680254625178,-2.016802546251779,-2.016802546251777,-2.0168025462517782,-2.0168025462517782,-2.01680254625178,-2.0168025462517782,-2.01680254625178,-2.0168025462517774,-2.016802546251779,-2.0168025462517796,-2.0168025462517787,-2.016802546251778,-2.0168025462517782,-2.0168025462517796,-2.0168025462517782,-2.0168025462517796,-2.016802546251778,-2.0168025462517782,-2.0168025462517782,-2.016802546251779,-2.01680254625178,-2.016802546251779,-2.0168025462517765,-2.0168025462517805,-2.016802546251777,-2.016802546251776,-2.0168025462517813,-2.0168025462517805,-2.016802546251779,-2.016802546251779,-2.016802546251777,-2.0168025462517774,-2.0168025462517774,-2.0168025462517774,-2.016802546251779,-2.0168025462517782,-2.01680254625178,-2.016802546251778,-2.01680254625178,-2.01680254625178,-2.016802546251778,-2.0168025462517782,-2.0168025462517765,-2.016802546251779,-2.016802546251776,-2.016802546251779,-2.016802546251779,-2.0168025462517765,-2.0168025462517782,-2.0168025462517782,-2.016802546251781,-2.0168025462517765,-2.016802546251779,-2.0168025462517796,-2.016802546251779,-2.0168025462517774,-2.016802546251777,-2.016802546251779,-2.0168025462517787,-2.0168025462517774,-2.0168025462517782,-2.0168025462517787,-2.0168025462517774,-2.016802546251778,-2.0168025462517774,-2.016802546251778,-2.0168025462517787,-2.01680254625178,-2.01680254625178,-2.016802546251778,-2.0168025462517774,-2.016802546251778,-2.0168025462517782,-2.016802546251779,-2.016802546251779,-2.0168025462517805,-2.01680254625178,-2.016802546251776,-2.016802546251779,-2.0168025462517782,-2.0168025462517782,-2.0168025462517796,-2.016802546251781,-2.0168025462517782,-2.0168025462517782,-2.016802546251779,-2.016802546251779,-2.0168025462517782,-2.0168025462517782,-2.0168025462517782,-2.016802546251778,-2.0168025462517747,-2.0168025462517787,-2.0168025462517765,-2.016802546251779,-2.01680254625178,-2.0168025462517765,-2.0168025462517774,-2.016802546251779,-2.016802546251778,-2.0168025462517765,-2.0168025462517774,-2.0168025462517805,-2.0168025462517782,-2.01680254625178,-2.0168025462517805]}},\"id\":\"cf1bfa8b-e5c3-42fa-8b60-2699a4d82eb0\",\"type\":\"ColumnDataSource\"},{\"attributes\":{\"active_drag\":\"auto\",\"active_inspect\":\"auto\",\"active_scroll\":\"auto\",\"active_tap\":\"auto\",\"tools\":[{\"id\":\"c6407832-636a-4e10-b63f-fdc8eca99d36\",\"type\":\"PanTool\"},{\"id\":\"2afe13c2-6f0b-4166-a925-17c616b514c4\",\"type\":\"WheelZoomTool\"},{\"id\":\"476bb76e-ef44-4e55-9781-0b93ba8031d8\",\"type\":\"BoxZoomTool\"},{\"id\":\"a2eaa074-4f8d-4d61-8b1f-4f8065629909\",\"type\":\"SaveTool\"},{\"id\":\"ab691b87-b1df-413e-b7da-f348944b55a3\",\"type\":\"ResetTool\"},{\"id\":\"6e9f9e3a-e4dd-42c7-9981-4f2211e76fa3\",\"type\":\"HelpTool\"}]},\"id\":\"305c295c-c860-4db5-97da-c23957290773\",\"type\":\"Toolbar\"},{\"attributes\":{\"below\":[{\"id\":\"408dba04-16e2-4b93-87d3-b02d21310c61\",\"type\":\"LinearAxis\"}],\"left\":[{\"id\":\"c3d4d664-96bc-429c-98e6-6491fa60cc5b\",\"type\":\"LinearAxis\"}],\"plot_height\":400,\"plot_width\":400,\"renderers\":[{\"id\":\"408dba04-16e2-4b93-87d3-b02d21310c61\",\"type\":\"LinearAxis\"},{\"id\":\"b878c667-d195-4448-b104-970faed13e02\",\"type\":\"Grid\"},{\"id\":\"c3d4d664-96bc-429c-98e6-6491fa60cc5b\",\"type\":\"LinearAxis\"},{\"id\":\"80400c64-6b45-4abd-b523-c030940af2af\",\"type\":\"Grid\"},{\"id\":\"fd01ce76-d741-41e0-9d9d-0cf5648d68c3\",\"type\":\"BoxAnnotation\"},{\"id\":\"6b1e045e-180f-4532-ac34-a16d3e10f5b1\",\"type\":\"Legend\"},{\"id\":\"3ceb49b0-3072-42c6-8bd1-368ae7493277\",\"type\":\"GlyphRenderer\"},{\"id\":\"d85c720f-290a-4d2d-bd67-595128e2e742\",\"type\":\"GlyphRenderer\"}],\"title\":{\"id\":\"79d725a8-db2e-452f-9a6f-d480b7b69db8\",\"type\":\"Title\"},\"toolbar\":{\"id\":\"305c295c-c860-4db5-97da-c23957290773\",\"type\":\"Toolbar\"},\"x_range\":{\"id\":\"ec957e9c-7f57-4b65-9fe2-5a4de616b92a\",\"type\":\"DataRange1d\"},\"x_scale\":{\"id\":\"908d41ba-c43a-4aa2-8247-f58022091610\",\"type\":\"LinearScale\"},\"y_range\":{\"id\":\"1d4a108f-5628-4808-bd2c-fcee14759b5c\",\"type\":\"DataRange1d\"},\"y_scale\":{\"id\":\"95a8aad3-3624-4d9b-9619-e0d4a1857a6c\",\"type\":\"LinearScale\"}},\"id\":\"c42884a9-caea-490d-a49e-a08f18994d85\",\"subtype\":\"Figure\",\"type\":\"Plot\"},{\"attributes\":{\"label\":{\"value\":\"GMM (full)\"},\"renderers\":[{\"id\":\"d85c720f-290a-4d2d-bd67-595128e2e742\",\"type\":\"GlyphRenderer\"}]},\"id\":\"e88b1732-d369-4046-98a7-cf9f3778a7d7\",\"type\":\"LegendItem\"},{\"attributes\":{},\"id\":\"2eb3cb59-1a3d-4e92-bf28-ff97ec7a6357\",\"type\":\"BasicTicker\"},{\"attributes\":{\"callback\":null,\"column_names\":[\"x\",\"y\"],\"data\":{\"x\":[0,1,2,3,4,5,6,7,8,9,10,11,12,13,14,15,16,17,18,19,20,21,22,23,24,25,26,27,28,29,30,31,32,33,34,35,36,37,38,39,40,41,42,43,44,45,46,47,48,49,50,51,52,53,54,55,56,57,58,59,60,61,62,63,64,65,66,67,68,69,70,71,72,73,74,75,76,77,78,79,80,81,82,83,84,85,86,87,88,89,90,91,92,93,94,95,96,97,98,99,100,101,102,103,104,105,106,107,108,109,110,111,112,113,114,115,116,117,118,119,120,121,122,123,124,125,126,127,128,129,130,131,132,133,134,135,136,137,138,139,140,141,142,143,144,145,146,147,148,149,150,151,152,153,154,155,156,157,158,159,160,161,162,163,164,165,166,167,168,169,170,171,172,173,174,175,176,177,178,179,180,181,182,183,184,185,186,187,188,189,190,191,192,193,194,195,196,197,198],\"y\":[-3.829419401610462,-3.502831088171524,-3.2133525846743622,-2.9185985745183056,-2.761202816822207,-2.676075376675249,-2.607341678741042,-2.5366451025895613,-2.4789426472311407,-2.4635783050756404,-2.4598641637051113,-2.4569738849166676,-2.4544201504258165,-2.4523002535024663,-2.4506924246889352,-2.4494814860821923,-2.4484229822855332,-2.4474523294681028,-2.446839035834178,-2.446661442189751,-2.446633426861281,-2.4466206515632014,-2.4466068967154015,-2.446590864223215,-2.446572073355031,-2.4465499983341696,-2.4465240090825295,-2.4464933452460027,-2.4464570855461574,-2.446414108819595,-2.446363043929093,-2.446302204739765,-2.4462295048172917,-2.446142344239656,-2.446037457530683,-2.445910706595283,-2.4457567946440304,-2.4455688647670955,-2.4453379272902853,-2.445052028740244,-2.444695024634047,-2.4442447363575526,-2.44367014122565,-2.4429270429221632,-2.4419513906937946,-2.4406491509639325,-2.438881869553466,-2.4364496388738943,-2.433084013270243,-2.4284979015500023,-2.422619500384151,-2.416187149296119,-2.411317290247661,-2.4097665725456086,-2.409683562412243,-2.409682900314473,-2.4096828967335826,-2.409682896698888,-2.409682896697767,-2.4096828966977086,-2.4096828966977104,-2.409682896697708,-2.4096828966977095,-2.409682896697708,-2.409682896697711,-2.4096828966977064,-2.409682896697711,-2.4096828966977086,-2.4096828966977055,-2.409682896697705,-2.4096828966977046,-2.409682896697709,-2.4096828966977077,-2.409682896697709,-2.4096828966977064,-2.409682896697709,-2.4096828966977055,-2.4096828966977046,-2.4096828966977113,-2.4096828966977055,-2.409682896697706,-2.409682896697706,-2.409682896697708,-2.409682896697708,-2.409682896697709,-2.4096828966977086,-2.4096828966977073,-2.4096828966977095,-2.4096828966977055,-2.4096828966977104,-2.409682896697711,-2.409682896697708,-2.4096828966977064,-2.4096828966977086,-2.409682896697709,-2.409682896697707,-2.4096828966977104,-2.409682896697709,-2.40968289669771,-2.409682896697711,-2.4096828966977113,-2.4096828966977073,-2.409682896697709,-2.409682896697707,-2.409682896697711,-2.409682896697707,-2.4096828966977077,-2.4096828966977073,-2.4096828966977086,-2.4096828966977104,-2.4096828966977095,-2.4096828966977113,-2.4096828966977095,-2.4096828966977064,-2.409682896697708,-2.4096828966977077,-2.4096828966977064,-2.4096828966977086,-2.4096828966977055,-2.4096828966977104,-2.4096828966977073,-2.409682896697705,-2.409682896697707,-2.409682896697709,-2.4096828966977055,-2.409682896697709,-2.4096828966977073,-2.409682896697709,-2.4096828966977046,-2.409682896697711,-2.409682896697707,-2.4096828966977073,-2.409682896697704,-2.4096828966977077,-2.4096828966977095,-2.409682896697708,-2.409682896697708,-2.409682896697707,-2.4096828966977086,-2.4096828966977073,-2.4096828966977064,-2.4096828966977073,-2.4096828966977073,-2.409682896697707,-2.4096828966977073,-2.4096828966977055,-2.4096828966977086,-2.4096828966977086,-2.409682896697711,-2.409682896697707,-2.4096828966977104,-2.409682896697707,-2.4096828966977095,-2.4096828966977113,-2.409682896697705,-2.4096828966977055,-2.4096828966977095,-2.4096828966977064,-2.409682896697707,-2.4096828966977046,-2.409682896697707,-2.4096828966977046,-2.409682896697705,-2.4096828966977095,-2.409682896697707,-2.409682896697708,-2.4096828966977095,-2.409682896697708,-2.409682896697711,-2.4096828966977046,-2.409682896697707,-2.4096828966977104,-2.4096828966977064,-2.409682896697708,-2.409682896697711,-2.4096828966977046,-2.4096828966977033,-2.4096828966977086,-2.409682896697708,-2.409682896697708,-2.409682896697709,-2.4096828966977064,-2.4096828966977095,-2.4096828966977077,-2.40968289669771,-2.4096828966977055,-2.4096828966977064,-2.409682896697705,-2.409682896697705,-2.4096828966977077,-2.4096828966977086,-2.4096828966977073,-2.4096828966977086,-2.409682896697709,-2.4096828966977073,-2.4096828966977113,-2.4096828966977073,-2.4096828966977095,-2.4096828966977086]}},\"id\":\"507fa151-4a77-4637-8b0c-72e34462139b\",\"type\":\"ColumnDataSource\"},{\"attributes\":{},\"id\":\"2afe13c2-6f0b-4166-a925-17c616b514c4\",\"type\":\"WheelZoomTool\"},{\"attributes\":{\"dimension\":1,\"plot\":{\"id\":\"c42884a9-caea-490d-a49e-a08f18994d85\",\"subtype\":\"Figure\",\"type\":\"Plot\"},\"ticker\":{\"id\":\"91f8e56b-0d83-4e36-bee4-c2116a3eabab\",\"type\":\"BasicTicker\"}},\"id\":\"80400c64-6b45-4abd-b523-c030940af2af\",\"type\":\"Grid\"},{\"attributes\":{\"callback\":null},\"id\":\"1d4a108f-5628-4808-bd2c-fcee14759b5c\",\"type\":\"DataRange1d\"},{\"attributes\":{\"line_color\":{\"value\":\"red\"},\"x\":{\"field\":\"x\"},\"y\":{\"field\":\"y\"}},\"id\":\"61942086-64af-4054-9a86-1bb5ac2a52aa\",\"type\":\"Line\"},{\"attributes\":{\"axis_label\":\"ln p(X)\",\"formatter\":{\"id\":\"ac9406ec-4094-4a5f-b385-2a4a2159cae1\",\"type\":\"BasicTickFormatter\"},\"plot\":{\"id\":\"c42884a9-caea-490d-a49e-a08f18994d85\",\"subtype\":\"Figure\",\"type\":\"Plot\"},\"ticker\":{\"id\":\"91f8e56b-0d83-4e36-bee4-c2116a3eabab\",\"type\":\"BasicTicker\"}},\"id\":\"c3d4d664-96bc-429c-98e6-6491fa60cc5b\",\"type\":\"LinearAxis\"},{\"attributes\":{},\"id\":\"6e9f9e3a-e4dd-42c7-9981-4f2211e76fa3\",\"type\":\"HelpTool\"},{\"attributes\":{},\"id\":\"7db9532b-d676-4934-b1ff-bab538cbd99c\",\"type\":\"BasicTickFormatter\"},{\"attributes\":{\"bottom_units\":\"screen\",\"fill_alpha\":{\"value\":0.5},\"fill_color\":{\"value\":\"lightgrey\"},\"left_units\":\"screen\",\"level\":\"overlay\",\"line_alpha\":{\"value\":1.0},\"line_color\":{\"value\":\"black\"},\"line_dash\":[4,4],\"line_width\":{\"value\":2},\"plot\":null,\"render_mode\":\"css\",\"right_units\":\"screen\",\"top_units\":\"screen\"},\"id\":\"fd01ce76-d741-41e0-9d9d-0cf5648d68c3\",\"type\":\"BoxAnnotation\"}],\"root_ids\":[\"c42884a9-caea-490d-a49e-a08f18994d85\"]},\"title\":\"Bokeh Application\",\"version\":\"0.12.10\"}};\n",
       "    var render_items = [{\"docid\":\"ef77c2cf-9ad8-4480-ac0f-2c0f2d855dd0\",\"elementid\":\"4809b9f0-46dc-471e-ab8c-02de68a27a1d\",\"modelid\":\"c42884a9-caea-490d-a49e-a08f18994d85\"}];\n",
       "\n",
       "    root.Bokeh.embed.embed_items(docs_json, render_items);\n",
       "  }\n",
       "\n",
       "  if (root.Bokeh !== undefined) {\n",
       "    embed_document(root);\n",
       "  } else {\n",
       "    var attempts = 0;\n",
       "    var timer = setInterval(function(root) {\n",
       "      if (root.Bokeh !== undefined) {\n",
       "        embed_document(root);\n",
       "        clearInterval(timer);\n",
       "      }\n",
       "      attempts++;\n",
       "      if (attempts > 100) {\n",
       "        console.log(\"Bokeh: ERROR: Unable to embed document because BokehJS library is missing\")\n",
       "        clearInterval(timer);\n",
       "      }\n",
       "    }, 10, root)\n",
       "  }\n",
       "})(window);"
      ],
      "application/vnd.bokehjs_exec.v0+json": ""
     },
     "metadata": {
      "application/vnd.bokehjs_exec.v0+json": {
       "id": "c42884a9-caea-490d-a49e-a08f18994d85"
      }
     },
     "output_type": "display_data"
    }
   ],
   "source": [
    "# Callback to monitor the training progress.\n",
    "elbos, llhs, klds = [], [], []\n",
    "def callback(elbo, llh, kld):\n",
    "    elbos.append(elbo)\n",
    "    llhs.append(llh)\n",
    "    klds.append(kld)\n",
    "\n",
    "# Train the GMM with diagonal cov. matrix components.\n",
    "gmm_diag.fit(data, max_epochs=200, callback=callback)\n",
    "elbos_diag = copy.deepcopy(elbos[1:])\n",
    "llhs_diag =  copy.deepcopy(llhs[1:])\n",
    "klds_diag = copy.deepcopy(klds[1:])\n",
    "\n",
    "# Re-initialize the training progress.\n",
    "elbos, llhs, klds = [], [], []\n",
    "\n",
    "# Train the GMM with full cov. matrix components.\n",
    "gmm_full.fit(data, max_epochs=200, callback=callback)\n",
    "elbos_full = copy.deepcopy(elbos[1:])\n",
    "llhs_full =  copy.deepcopy(llhs[1:])\n",
    "klds_full = copy.deepcopy(klds[1:])\n",
    "\n",
    "# Plot the ELBO.\n",
    "fig = figure(title='ELBO', width=400, height=400, x_axis_label='step',\n",
    "              y_axis_label='ln p(X)')\n",
    "fig.line(np.arange(len(elbos_diag)), elbos_diag, legend='GMM (diag)', color='blue')\n",
    "fig.line(np.arange(len(elbos_full)), elbos_full, legend='GMM (full)', color='red')\n",
    "fig.legend.location = 'bottom_right'\n",
    "\n",
    "show(fig)"
   ]
  },
  {
   "cell_type": "code",
   "execution_count": 47,
   "metadata": {},
   "outputs": [
    {
     "name": "stdout",
     "output_type": "stream",
     "text": [
      "[ 0.00139861  0.2502736   0.74832779]\n"
     ]
    },
    {
     "data": {
      "text/plain": [
       "(0.62301372218724649, 0.98321159575976425)"
      ]
     },
     "execution_count": 47,
     "metadata": {},
     "output_type": "execute_result"
    }
   ],
   "source": [
    "print(gmm_full.weights)\n",
    "np.exp(gmm_full.c_posterior_weights[0].grad_lognorm()).sum(), np.exp(gmm_full.c_posterior_weights[1].grad_lognorm()).sum()"
   ]
  },
  {
   "cell_type": "code",
   "execution_count": null,
   "metadata": {},
   "outputs": [],
   "source": [
    "for i in range(3):\n",
    "    print(gmm_diag.c_posterior_weights[i].natural_params.sum())"
   ]
  },
  {
   "cell_type": "code",
   "execution_count": null,
   "metadata": {},
   "outputs": [],
   "source": [
    "132.556520815 + 129.473122932 + 137.970356253"
   ]
  },
  {
   "cell_type": "code",
   "execution_count": null,
   "metadata": {},
   "outputs": [],
   "source": [
    "gmm_full.weights, np.exp(gmm_diag.c_posterior_weights[0].grad_lognorm()).sum()"
   ]
  },
  {
   "cell_type": "code",
   "execution_count": null,
   "metadata": {
    "scrolled": false
   },
   "outputs": [],
   "source": [
    "fig1 = figure(title='GMM (diag)', x_range=x_range, y_range=y_range,\n",
    "              width=400, height=400)\n",
    "fig1.circle(data[:, 0], data[:, 1], alpha=.1)\n",
    "plotting.plot_gmm(fig1, gmm_diag, color='blue')\n",
    "\n",
    "fig2 = figure(title='GMM (full)', x_range=x_range, y_range=y_range,\n",
    "              width=400, height=400)\n",
    "fig2.circle(data[:, 0], data[:, 1], alpha=.1)\n",
    "plotting.plot_gmm(fig2, gmm_full, color='red')\n",
    "\n",
    "grid = gridplot([[fig1, fig2]])\n",
    "show(grid)"
   ]
  },
  {
   "cell_type": "markdown",
   "metadata": {},
   "source": [
    "## Split-VB algorithm\n",
    "\n",
    "The VB algorithm is sensitive to the initialization of the posterior distribution and may end up in a local maximum. The basic strategy used above is to initialize randomly the posterior distribution of the Normal components. This may not be desirable in all situtation as it can lead to poor covering of the space by the clusters. An alternative is the \"split-VB\" algorithm. This algorithm consists in fitting a Normal distribution to the data and then to split this distribtution into 2 other Normal distribution. Then, the process is repeated: we train using VB these 2 Normal distributions and split them again, ... until we reach the desire number of components. The splitting is done by moving the mean of the Normal distribution along the axis with the highest variability.\n",
    "\n",
    "Here is an example of splitting a mixture model:"
   ]
  },
  {
   "cell_type": "code",
   "execution_count": null,
   "metadata": {
    "collapsed": true
   },
   "outputs": [],
   "source": [
    "gmm_diag_split = gmm_diag.split()\n",
    "gmm_full_split = gmm_full.split()\n",
    "\n",
    "fig1 = figure(title='GMM (diag)', x_range=x_range, y_range=y_range,\n",
    "              width=400, height=400)\n",
    "fig1.circle(data[:, 0], data[:, 1], alpha=.1)\n",
    "plotting.plot_gmm(fig1, gmm_diag, color='blue')\n",
    "\n",
    "fig2 = figure(title='GMM (full)', x_range=x_range, y_range=y_range,\n",
    "              width=400, height=400)\n",
    "fig2.circle(data[:, 0], data[:, 1], alpha=.1)\n",
    "plotting.plot_gmm(fig2, gmm_full, color='red')\n",
    "\n",
    "fig3 = figure(title='GMM splitted (diag)', x_range=x_range, y_range=y_range,\n",
    "              width=400, height=400)\n",
    "fig3.circle(data[:, 0], data[:, 1], alpha=.1)\n",
    "plotting.plot_gmm(fig3, gmm_diag_split, color='blue')\n",
    "\n",
    "fig4 = figure(title='GMM splitted (full)', x_range=x_range, y_range=y_range,\n",
    "              width=400, height=400)\n",
    "fig4.circle(data[:, 0], data[:, 1], alpha=.1)\n",
    "plotting.plot_gmm(fig4, gmm_full_split, color='red')\n",
    "\n",
    "grid = gridplot([[fig1, fig2], [fig3, fig4]])\n",
    "show(grid)"
   ]
  },
  {
   "cell_type": "markdown",
   "metadata": {},
   "source": [
    "Let's compare the VB algorithm with random initialization to the split-VB training."
   ]
  },
  {
   "cell_type": "code",
   "execution_count": null,
   "metadata": {
    "collapsed": true
   },
   "outputs": [],
   "source": [
    "# First we run 10 times the standard VB training.\n",
    "elbos_vb = []\n",
    "for i in range(1):\n",
    "    args = {'dim':2, 'mean':p_mean, 'cov': p_cov, 'prior_count':1, 'random_init':True}\n",
    "    gmm_full = beer.Mixture.create(16, beer.NormalFullCovariance.create, args, prior_count=1e-3)\n",
    "    \n",
    "    elbos = []\n",
    "    def callback(elbo, llh, kld):\n",
    "        elbos.append(elbo)\n",
    "    gmm_full.fit(data, max_epochs=200, callback=callback)\n",
    "    elbos_vb.append(elbos[-1])\n",
    "    \n",
    "# New we run 10 times the split VB training.\n",
    "elbos_split_vb = []\n",
    "for i in range(1):\n",
    "    final_elbo = 0\n",
    "    def callback(elbo, llh, kld):\n",
    "        global final_elbo\n",
    "        final_elbo = elbo\n",
    "        \n",
    "    args = {'dim':2, 'mean':p_mean, 'cov': p_cov, 'prior_count':1, 'random_init':False}\n",
    "    gmm_full_split = beer.Mixture.create(1, beer.NormalFullCovariance.create, args, prior_count=1e-6)\n",
    "    gmm_full_split.fit(data, max_epochs=100)\n",
    "\n",
    "    for k in range(2):\n",
    "        gmm_full_split = gmm_full_split.split()\n",
    "        gmm_full_split.fit(data, max_epochs=100, callback=callback)\n",
    "    gmm_full_split.fit(data, max_epochs=1000, callback=callback)\n",
    "    elbos_split_vb.append(final_elbo)\n",
    "        \n",
    "        "
   ]
  },
  {
   "cell_type": "code",
   "execution_count": null,
   "metadata": {
    "collapsed": true
   },
   "outputs": [],
   "source": [
    "print(elbos_vb)\n",
    "print(elbos_split_vb)"
   ]
  },
  {
   "cell_type": "code",
   "execution_count": null,
   "metadata": {
    "collapsed": true
   },
   "outputs": [],
   "source": [
    "fig1 = figure(title='GMM (full)', x_range=x_range, y_range=y_range,\n",
    "              width=400, height=400)\n",
    "fig1.circle(data[:, 0], data[:, 1], alpha=.1)\n",
    "plotting.plot_gmm(fig1, gmm_full, color='blue')\n",
    "\n",
    "fig2 = figure(title='GMM splitted (full)', x_range=x_range, y_range=y_range,\n",
    "              width=400, height=400)\n",
    "fig2.circle(data[:, 0], data[:, 1], alpha=.1)\n",
    "plotting.plot_gmm(fig2, gmm_full_split, color='red')\n",
    "\n",
    "grid = gridplot([[fig1, fig2]])\n",
    "show(grid)"
   ]
  },
  {
   "cell_type": "code",
   "execution_count": null,
   "metadata": {
    "collapsed": true
   },
   "outputs": [],
   "source": []
  }
 ],
 "metadata": {
  "kernelspec": {
   "display_name": "Python 3",
   "language": "python",
   "name": "python3"
  },
  "language_info": {
   "codemirror_mode": {
    "name": "ipython",
    "version": 3
   },
   "file_extension": ".py",
   "mimetype": "text/x-python",
   "name": "python",
   "nbconvert_exporter": "python",
   "pygments_lexer": "ipython3",
   "version": "3.6.3"
  }
 },
 "nbformat": 4,
 "nbformat_minor": 2
}
