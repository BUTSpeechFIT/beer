{
 "cells": [
  {
   "cell_type": "markdown",
   "metadata": {},
   "source": [
    "# Bayesian Nested Mixture Model\n",
    "\n",
    "This notebook illustrate how to build and train a Bayesian Nested Mixture Model with the [beer framework](https://github.com/beer-asr/beer). A Nested Mixture Model is simply a \"mixture of mixture\", the rationale behind this model is that the clusters of a mixture model may have arbitrary complex distribution approximated by yet another mixture model."
   ]
  },
  {
   "cell_type": "code",
   "execution_count": null,
   "metadata": {},
   "outputs": [],
   "source": [
    "# Add \"beer\" to the PYTHONPATH\n",
    "import sys\n",
    "sys.path.append('../')\n",
    "\n",
    "import copy\n",
    "\n",
    "import beer\n",
    "import numpy as np\n",
    "\n",
    "# For plotting.\n",
    "from bokeh.io import show, output_notebook\n",
    "from bokeh.plotting import figure, gridplot\n",
    "from bokeh.models import LinearAxis, Range1d\n",
    "output_notebook()\n",
    "\n",
    "# Convenience functions for plotting.\n",
    "import plotting\n",
    "\n",
    "%load_ext autoreload\n",
    "%autoreload 2"
   ]
  },
  {
   "cell_type": "markdown",
   "metadata": {},
   "source": [
    "## Data\n",
    "\n",
    "We generate a synthetic data:\n"
   ]
  },
  {
   "cell_type": "code",
   "execution_count": null,
   "metadata": {
    "collapsed": true
   },
   "outputs": [],
   "source": [
    "# First cluster.\n",
    "mean = np.array([-1.5, 4]) \n",
    "cov = np.array([[.75, 0], [0, 2.]])\n",
    "data1 = np.random.multivariate_normal(mean, cov, size=100)\n",
    "\n",
    "# Second cluster.\n",
    "mean = np.array([5, 5]) \n",
    "cov = np.array([[2, 1], [1, .75]])\n",
    "data2 = np.random.multivariate_normal(mean, cov, size=100)\n",
    "\n",
    "# Third cluster.\n",
    "mean = np.array([-1.5, -4]) \n",
    "cov = np.array([[.75, 0], [0, 2.]])\n",
    "data3 = np.random.multivariate_normal(mean, cov, size=100)\n",
    "\n",
    "# Fourth cluster.\n",
    "mean = np.array([5, -5]) \n",
    "cov = np.array([[2, 1], [1, .75]])\n",
    "data4 = np.random.multivariate_normal(mean, cov, size=100)\n",
    "\n",
    "# Merge everything to get the finale data set.\n",
    "data = np.vstack([data1, data2, data4, data3])\n",
    "np.random.shuffle(data)"
   ]
  },
  {
   "cell_type": "code",
   "execution_count": null,
   "metadata": {},
   "outputs": [],
   "source": [
    "# Mean, variance of the data to scale the figure.\n",
    "mean = data.mean(axis=0)\n",
    "var = data.var(axis=0)\n",
    "std_dev = np.sqrt(max(var))\n",
    "x_range = (mean[0] - 2 * std_dev, mean[0] + 2 * std_dev)\n",
    "y_range = (mean[1] - 2 * std_dev, mean[1] + 2 * std_dev)\n",
    "\n",
    "fig = figure(title='Data', width=400, height=400,\n",
    "             x_range=x_range, y_range=y_range)\n",
    "fig.circle(data[:, 0], data[:, 1])\n",
    "\n",
    "show(fig)"
   ]
  },
  {
   "cell_type": "markdown",
   "metadata": {},
   "source": [
    "## Model Creation\n",
    "\n",
    "We create two types of mixture model: one whose (Normal) components have full covariance matrix and the other whose (Normal) components have diagonal covariance matrix."
   ]
  },
  {
   "cell_type": "code",
   "execution_count": null,
   "metadata": {
    "collapsed": true
   },
   "outputs": [],
   "source": [
    "# We use the global mean/cov. matrix of the data to initialize the mixture.\n",
    "p_mean = data.mean(axis=0)\n",
    "p_cov = np.cov(data.T)\n",
    "\n",
    "# Create the models.\n",
    "args = {'dim':2, 'mean':p_mean, 'cov': p_cov, 'prior_count':1, 'random_init':True}\n",
    "gmm_diag = beer.NestedMixture.create(2, 5, beer.NormalDiagonalCovariance.create, args, prior_count=1e-3)\n",
    "gmm_full = beer.NestedMixture.create(2, 5, beer.NormalFullCovariance.create, args, prior_count=1e-3)"
   ]
  },
  {
   "cell_type": "markdown",
   "metadata": {},
   "source": [
    "## Variational Bayes Training "
   ]
  },
  {
   "cell_type": "code",
   "execution_count": null,
   "metadata": {},
   "outputs": [],
   "source": [
    "# Callback to monitor the training progress.\n",
    "elbos, llhs, klds = [], [], []\n",
    "def callback(elbo, llh, kld):\n",
    "    elbos.append(elbo)\n",
    "    llhs.append(llh)\n",
    "    klds.append(kld)\n",
    "\n",
    "# Train the GMM with diagonal cov. matrix components.\n",
    "beer.training.train_conj_exp(gmm_diag, data, max_epochs=200, callback=callback)\n",
    "elbos_diag = copy.deepcopy(elbos[1:])\n",
    "llhs_diag =  copy.deepcopy(llhs[1:])\n",
    "klds_diag = copy.deepcopy(klds[1:])\n",
    "\n",
    "# Re-initialize the training progress.\n",
    "elbos, llhs, klds = [], [], []\n",
    "\n",
    "# Train the GMM with full cov. matrix components.\n",
    "beer.training.train_conj_exp(gmm_full, data, max_epochs=200, callback=callback)\n",
    "elbos_full = copy.deepcopy(elbos[1:])\n",
    "llhs_full =  copy.deepcopy(llhs[1:])\n",
    "klds_full = copy.deepcopy(klds[1:])\n",
    "\n",
    "# Plot the ELBO.\n",
    "fig = figure(title='ELBO', width=400, height=400, x_axis_label='step',\n",
    "              y_axis_label='ln p(X)')\n",
    "fig.line(np.arange(len(elbos_diag)), elbos_diag, legend='GMM (diag)', color='blue')\n",
    "fig.line(np.arange(len(elbos_full)), elbos_full, legend='GMM (full)', color='red')\n",
    "fig.legend.location = 'bottom_right'\n",
    "\n",
    "show(fig)"
   ]
  }
 ],
 "metadata": {
  "kernelspec": {
   "display_name": "Python 3",
   "language": "python",
   "name": "python3"
  },
  "language_info": {
   "codemirror_mode": {
    "name": "ipython",
    "version": 3
   },
   "file_extension": ".py",
   "mimetype": "text/x-python",
   "name": "python",
   "nbconvert_exporter": "python",
   "pygments_lexer": "ipython3",
   "version": "3.6.2"
  }
 },
 "nbformat": 4,
 "nbformat_minor": 2
}
