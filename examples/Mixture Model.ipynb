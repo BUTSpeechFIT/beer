{
 "cells": [
  {
   "cell_type": "markdown",
   "metadata": {},
   "source": [
    "# Bayesian Mixture Model\n",
    "\n",
    "This notebook illustrate how to build and train a Bayesian Mixture Model with the [beer framework](https://github.com/beer-asr/beer)."
   ]
  },
  {
   "cell_type": "code",
   "execution_count": null,
   "metadata": {},
   "outputs": [],
   "source": [
    "# Add \"beer\" to the PYTHONPATH\n",
    "import sys\n",
    "sys.path.insert(0, '../')\n",
    "\n",
    "import copy\n",
    "\n",
    "import beer\n",
    "import numpy as np\n",
    "import torch\n",
    "\n",
    "# For plotting.\n",
    "from bokeh.io import show, output_notebook\n",
    "from bokeh.plotting import figure, gridplot\n",
    "from bokeh.models import LinearAxis, Range1d\n",
    "output_notebook()\n",
    "\n",
    "# Convenience functions for plotting.\n",
    "import plotting\n",
    "\n",
    "%load_ext autoreload\n",
    "%autoreload 2"
   ]
  },
  {
   "cell_type": "markdown",
   "metadata": {},
   "source": [
    "## Data\n",
    "\n",
    "As an illustration, we generate a synthetic data set composed of two Normal distributed cluster. One has a diagonal covariance matrix whereas the other has a dense covariance matrix."
   ]
  },
  {
   "cell_type": "code",
   "execution_count": null,
   "metadata": {},
   "outputs": [],
   "source": [
    "N = 100\n",
    "\n",
    "# First cluster.\n",
    "mean = np.array([-5, 5]) \n",
    "cov = .5 *np.array([[.75, 0.], [0, 5.]])\n",
    "data1 = np.random.multivariate_normal(mean, cov, size=N)\n",
    "\n",
    "# Second cluster.\n",
    "mean = np.array([5, 5]) \n",
    "cov = 2 * np.array([[2, -.5], [-.5, .75]])\n",
    "data2 = np.random.multivariate_normal(mean, cov, size=N)\n",
    "\n",
    "# Merge everything to get the finale data set.\n",
    "data = np.vstack([data1, data2])\n",
    "np.random.shuffle(data)\n",
    "\n",
    "# Prepare the data for pytorch\n",
    "X = torch.from_numpy(data).double()\n",
    "\n",
    "\n",
    "fig = figure(width=400, height=400,\n",
    "             x_range=(-10, 10), y_range=(-5, 15))\n",
    "fig.circle(data[:, 0], data[:, 1])\n",
    "\n",
    "show(fig)"
   ]
  },
  {
   "cell_type": "markdown",
   "metadata": {},
   "source": [
    "## Model Creation"
   ]
  },
  {
   "cell_type": "code",
   "execution_count": null,
   "metadata": {},
   "outputs": [],
   "source": [
    "data_mean = torch.from_numpy(data.mean(axis=0)).double()\n",
    "data_var = torch.from_numpy(np.var(data, axis=0)).double()\n",
    "\n",
    "modelset = beer.NormalSet.create(\n",
    "    data_mean, data_var,      # use to set the mean/variance of the prior\n",
    "    size=20,                  # total number of components in the mixture\n",
    "    prior_strength=1.,        # how much the prior affect the training (\"pseudo-counts\")\n",
    "    noise_std=1,              # standard deviation of the noise to initialize the mean of the posterior\n",
    "    cov_type='full',          # type of the covariance matrix  ('full', 'diagonal' or 'isotropic')\n",
    "    shared_cov=False          # if True, all the components share the same covariance matrix\n",
    ")\n",
    "model = beer.Mixture.create(\n",
    "    modelset, \n",
    "    prior_strength=1          # how much the prior over the weights will affect the training (\"pseudo-counts\")\n",
    ")\n",
    "\n",
    "model = model.double()        # set all the parameters in double precision\n",
    "#model = model.cuda()          # move the model on a GPU. If you do so, you'll have\n",
    "                               # to move the data as well.\n",
    "    \n",
    "model"
   ]
  },
  {
   "cell_type": "markdown",
   "metadata": {},
   "source": [
    "## Variational Bayes Training "
   ]
  },
  {
   "cell_type": "code",
   "execution_count": null,
   "metadata": {
    "scrolled": true
   },
   "outputs": [],
   "source": [
    "epochs = 100\n",
    "lrate = 1.\n",
    "\n",
    "optim = beer.VariationalBayesOptimizer(model.mean_field_factorization(), lrate)\n",
    "    \n",
    "elbos = []\n",
    "for epoch in range(epochs):\n",
    "    optim.init_step()\n",
    "    elbo = beer.evidence_lower_bound(model, X)\n",
    "    elbo.backward()\n",
    "    optim.step()\n",
    "    elbos.append(float(elbo) / len(X))\n",
    "    \n",
    "# Plot the evolution of the ELBO.\n",
    "fig = figure(width=400, height=400, x_axis_label='epoch',\n",
    "              y_axis_label='ELBO')\n",
    "fig.line(range(len(elbos) - 1), elbos[1:])\n",
    "show(fig)"
   ]
  },
  {
   "cell_type": "code",
   "execution_count": null,
   "metadata": {},
   "outputs": [],
   "source": [
    "weights = model.weights.expected_value().numpy()\n",
    "fig = figure(width=400, height=400,\n",
    "             x_range=(-10, 10), y_range=(-5, 15))\n",
    "fig.circle(data[:, 0], data[:, 1], alpha=.5)\n",
    "for weight, normal in zip(weights, model.modelset):\n",
    "    mean = normal.expected_mean.numpy()\n",
    "    cov = normal.expected_cov.numpy()\n",
    "    plotting.plot_normal(fig, mean, cov, alpha=.5 * weight, color='green')\n",
    "show(fig)"
   ]
  }
 ],
 "metadata": {
  "kernelspec": {
   "display_name": "Python 3",
   "language": "python",
   "name": "python3"
  },
  "language_info": {
   "codemirror_mode": {
    "name": "ipython",
    "version": 3
   },
   "file_extension": ".py",
   "mimetype": "text/x-python",
   "name": "python",
   "nbconvert_exporter": "python",
   "pygments_lexer": "ipython3",
   "version": "3.7.1"
  }
 },
 "nbformat": 4,
 "nbformat_minor": 2
}
