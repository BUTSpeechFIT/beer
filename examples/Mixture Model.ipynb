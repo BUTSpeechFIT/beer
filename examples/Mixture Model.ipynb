{
 "cells": [
  {
   "cell_type": "markdown",
   "metadata": {},
   "source": [
    "# Bayesian Mixture Model\n",
    "\n",
    "This notebook illustrate how to build and train a Bayesian Mixture Model with the [beer framework](https://github.com/beer-asr/beer)."
   ]
  },
  {
   "cell_type": "code",
   "execution_count": 1,
   "metadata": {},
   "outputs": [
    {
     "data": {
      "text/html": [
       "\n",
       "    <div class=\"bk-root\">\n",
       "        <a href=\"https://bokeh.pydata.org\" target=\"_blank\" class=\"bk-logo bk-logo-small bk-logo-notebook\"></a>\n",
       "        <span id=\"1001\">Loading BokehJS ...</span>\n",
       "    </div>"
      ]
     },
     "metadata": {},
     "output_type": "display_data"
    },
    {
     "data": {
      "application/javascript": [
       "\n",
       "(function(root) {\n",
       "  function now() {\n",
       "    return new Date();\n",
       "  }\n",
       "\n",
       "  var force = true;\n",
       "\n",
       "  if (typeof (root._bokeh_onload_callbacks) === \"undefined\" || force === true) {\n",
       "    root._bokeh_onload_callbacks = [];\n",
       "    root._bokeh_is_loading = undefined;\n",
       "  }\n",
       "\n",
       "  var JS_MIME_TYPE = 'application/javascript';\n",
       "  var HTML_MIME_TYPE = 'text/html';\n",
       "  var EXEC_MIME_TYPE = 'application/vnd.bokehjs_exec.v0+json';\n",
       "  var CLASS_NAME = 'output_bokeh rendered_html';\n",
       "\n",
       "  /**\n",
       "   * Render data to the DOM node\n",
       "   */\n",
       "  function render(props, node) {\n",
       "    var script = document.createElement(\"script\");\n",
       "    node.appendChild(script);\n",
       "  }\n",
       "\n",
       "  /**\n",
       "   * Handle when an output is cleared or removed\n",
       "   */\n",
       "  function handleClearOutput(event, handle) {\n",
       "    var cell = handle.cell;\n",
       "\n",
       "    var id = cell.output_area._bokeh_element_id;\n",
       "    var server_id = cell.output_area._bokeh_server_id;\n",
       "    // Clean up Bokeh references\n",
       "    if (id != null && id in Bokeh.index) {\n",
       "      Bokeh.index[id].model.document.clear();\n",
       "      delete Bokeh.index[id];\n",
       "    }\n",
       "\n",
       "    if (server_id !== undefined) {\n",
       "      // Clean up Bokeh references\n",
       "      var cmd = \"from bokeh.io.state import curstate; print(curstate().uuid_to_server['\" + server_id + \"'].get_sessions()[0].document.roots[0]._id)\";\n",
       "      cell.notebook.kernel.execute(cmd, {\n",
       "        iopub: {\n",
       "          output: function(msg) {\n",
       "            var id = msg.content.text.trim();\n",
       "            if (id in Bokeh.index) {\n",
       "              Bokeh.index[id].model.document.clear();\n",
       "              delete Bokeh.index[id];\n",
       "            }\n",
       "          }\n",
       "        }\n",
       "      });\n",
       "      // Destroy server and session\n",
       "      var cmd = \"import bokeh.io.notebook as ion; ion.destroy_server('\" + server_id + \"')\";\n",
       "      cell.notebook.kernel.execute(cmd);\n",
       "    }\n",
       "  }\n",
       "\n",
       "  /**\n",
       "   * Handle when a new output is added\n",
       "   */\n",
       "  function handleAddOutput(event, handle) {\n",
       "    var output_area = handle.output_area;\n",
       "    var output = handle.output;\n",
       "\n",
       "    // limit handleAddOutput to display_data with EXEC_MIME_TYPE content only\n",
       "    if ((output.output_type != \"display_data\") || (!output.data.hasOwnProperty(EXEC_MIME_TYPE))) {\n",
       "      return\n",
       "    }\n",
       "\n",
       "    var toinsert = output_area.element.find(\".\" + CLASS_NAME.split(' ')[0]);\n",
       "\n",
       "    if (output.metadata[EXEC_MIME_TYPE][\"id\"] !== undefined) {\n",
       "      toinsert[toinsert.length - 1].firstChild.textContent = output.data[JS_MIME_TYPE];\n",
       "      // store reference to embed id on output_area\n",
       "      output_area._bokeh_element_id = output.metadata[EXEC_MIME_TYPE][\"id\"];\n",
       "    }\n",
       "    if (output.metadata[EXEC_MIME_TYPE][\"server_id\"] !== undefined) {\n",
       "      var bk_div = document.createElement(\"div\");\n",
       "      bk_div.innerHTML = output.data[HTML_MIME_TYPE];\n",
       "      var script_attrs = bk_div.children[0].attributes;\n",
       "      for (var i = 0; i < script_attrs.length; i++) {\n",
       "        toinsert[toinsert.length - 1].firstChild.setAttribute(script_attrs[i].name, script_attrs[i].value);\n",
       "      }\n",
       "      // store reference to server id on output_area\n",
       "      output_area._bokeh_server_id = output.metadata[EXEC_MIME_TYPE][\"server_id\"];\n",
       "    }\n",
       "  }\n",
       "\n",
       "  function register_renderer(events, OutputArea) {\n",
       "\n",
       "    function append_mime(data, metadata, element) {\n",
       "      // create a DOM node to render to\n",
       "      var toinsert = this.create_output_subarea(\n",
       "        metadata,\n",
       "        CLASS_NAME,\n",
       "        EXEC_MIME_TYPE\n",
       "      );\n",
       "      this.keyboard_manager.register_events(toinsert);\n",
       "      // Render to node\n",
       "      var props = {data: data, metadata: metadata[EXEC_MIME_TYPE]};\n",
       "      render(props, toinsert[toinsert.length - 1]);\n",
       "      element.append(toinsert);\n",
       "      return toinsert\n",
       "    }\n",
       "\n",
       "    /* Handle when an output is cleared or removed */\n",
       "    events.on('clear_output.CodeCell', handleClearOutput);\n",
       "    events.on('delete.Cell', handleClearOutput);\n",
       "\n",
       "    /* Handle when a new output is added */\n",
       "    events.on('output_added.OutputArea', handleAddOutput);\n",
       "\n",
       "    /**\n",
       "     * Register the mime type and append_mime function with output_area\n",
       "     */\n",
       "    OutputArea.prototype.register_mime_type(EXEC_MIME_TYPE, append_mime, {\n",
       "      /* Is output safe? */\n",
       "      safe: true,\n",
       "      /* Index of renderer in `output_area.display_order` */\n",
       "      index: 0\n",
       "    });\n",
       "  }\n",
       "\n",
       "  // register the mime type if in Jupyter Notebook environment and previously unregistered\n",
       "  if (root.Jupyter !== undefined) {\n",
       "    var events = require('base/js/events');\n",
       "    var OutputArea = require('notebook/js/outputarea').OutputArea;\n",
       "\n",
       "    if (OutputArea.prototype.mime_types().indexOf(EXEC_MIME_TYPE) == -1) {\n",
       "      register_renderer(events, OutputArea);\n",
       "    }\n",
       "  }\n",
       "\n",
       "  \n",
       "  if (typeof (root._bokeh_timeout) === \"undefined\" || force === true) {\n",
       "    root._bokeh_timeout = Date.now() + 5000;\n",
       "    root._bokeh_failed_load = false;\n",
       "  }\n",
       "\n",
       "  var NB_LOAD_WARNING = {'data': {'text/html':\n",
       "     \"<div style='background-color: #fdd'>\\n\"+\n",
       "     \"<p>\\n\"+\n",
       "     \"BokehJS does not appear to have successfully loaded. If loading BokehJS from CDN, this \\n\"+\n",
       "     \"may be due to a slow or bad network connection. Possible fixes:\\n\"+\n",
       "     \"</p>\\n\"+\n",
       "     \"<ul>\\n\"+\n",
       "     \"<li>re-rerun `output_notebook()` to attempt to load from CDN again, or</li>\\n\"+\n",
       "     \"<li>use INLINE resources instead, as so:</li>\\n\"+\n",
       "     \"</ul>\\n\"+\n",
       "     \"<code>\\n\"+\n",
       "     \"from bokeh.resources import INLINE\\n\"+\n",
       "     \"output_notebook(resources=INLINE)\\n\"+\n",
       "     \"</code>\\n\"+\n",
       "     \"</div>\"}};\n",
       "\n",
       "  function display_loaded() {\n",
       "    var el = document.getElementById(\"1001\");\n",
       "    if (el != null) {\n",
       "      el.textContent = \"BokehJS is loading...\";\n",
       "    }\n",
       "    if (root.Bokeh !== undefined) {\n",
       "      if (el != null) {\n",
       "        el.textContent = \"BokehJS \" + root.Bokeh.version + \" successfully loaded.\";\n",
       "      }\n",
       "    } else if (Date.now() < root._bokeh_timeout) {\n",
       "      setTimeout(display_loaded, 100)\n",
       "    }\n",
       "  }\n",
       "\n",
       "\n",
       "  function run_callbacks() {\n",
       "    try {\n",
       "      root._bokeh_onload_callbacks.forEach(function(callback) { callback() });\n",
       "    }\n",
       "    finally {\n",
       "      delete root._bokeh_onload_callbacks\n",
       "    }\n",
       "    console.info(\"Bokeh: all callbacks have finished\");\n",
       "  }\n",
       "\n",
       "  function load_libs(js_urls, callback) {\n",
       "    root._bokeh_onload_callbacks.push(callback);\n",
       "    if (root._bokeh_is_loading > 0) {\n",
       "      console.log(\"Bokeh: BokehJS is being loaded, scheduling callback at\", now());\n",
       "      return null;\n",
       "    }\n",
       "    if (js_urls == null || js_urls.length === 0) {\n",
       "      run_callbacks();\n",
       "      return null;\n",
       "    }\n",
       "    console.log(\"Bokeh: BokehJS not loaded, scheduling load and callback at\", now());\n",
       "    root._bokeh_is_loading = js_urls.length;\n",
       "    for (var i = 0; i < js_urls.length; i++) {\n",
       "      var url = js_urls[i];\n",
       "      var s = document.createElement('script');\n",
       "      s.src = url;\n",
       "      s.async = false;\n",
       "      s.onreadystatechange = s.onload = function() {\n",
       "        root._bokeh_is_loading--;\n",
       "        if (root._bokeh_is_loading === 0) {\n",
       "          console.log(\"Bokeh: all BokehJS libraries loaded\");\n",
       "          run_callbacks()\n",
       "        }\n",
       "      };\n",
       "      s.onerror = function() {\n",
       "        console.warn(\"failed to load library \" + url);\n",
       "      };\n",
       "      console.log(\"Bokeh: injecting script tag for BokehJS library: \", url);\n",
       "      document.getElementsByTagName(\"head\")[0].appendChild(s);\n",
       "    }\n",
       "  };var element = document.getElementById(\"1001\");\n",
       "  if (element == null) {\n",
       "    console.log(\"Bokeh: ERROR: autoload.js configured with elementid '1001' but no matching script tag was found. \")\n",
       "    return false;\n",
       "  }\n",
       "\n",
       "  var js_urls = [\"https://cdn.pydata.org/bokeh/release/bokeh-1.0.0.min.js\", \"https://cdn.pydata.org/bokeh/release/bokeh-widgets-1.0.0.min.js\", \"https://cdn.pydata.org/bokeh/release/bokeh-tables-1.0.0.min.js\", \"https://cdn.pydata.org/bokeh/release/bokeh-gl-1.0.0.min.js\"];\n",
       "\n",
       "  var inline_js = [\n",
       "    function(Bokeh) {\n",
       "      Bokeh.set_log_level(\"info\");\n",
       "    },\n",
       "    \n",
       "    function(Bokeh) {\n",
       "      \n",
       "    },\n",
       "    function(Bokeh) {\n",
       "      console.log(\"Bokeh: injecting CSS: https://cdn.pydata.org/bokeh/release/bokeh-1.0.0.min.css\");\n",
       "      Bokeh.embed.inject_css(\"https://cdn.pydata.org/bokeh/release/bokeh-1.0.0.min.css\");\n",
       "      console.log(\"Bokeh: injecting CSS: https://cdn.pydata.org/bokeh/release/bokeh-widgets-1.0.0.min.css\");\n",
       "      Bokeh.embed.inject_css(\"https://cdn.pydata.org/bokeh/release/bokeh-widgets-1.0.0.min.css\");\n",
       "      console.log(\"Bokeh: injecting CSS: https://cdn.pydata.org/bokeh/release/bokeh-tables-1.0.0.min.css\");\n",
       "      Bokeh.embed.inject_css(\"https://cdn.pydata.org/bokeh/release/bokeh-tables-1.0.0.min.css\");\n",
       "    }\n",
       "  ];\n",
       "\n",
       "  function run_inline_js() {\n",
       "    \n",
       "    if ((root.Bokeh !== undefined) || (force === true)) {\n",
       "      for (var i = 0; i < inline_js.length; i++) {\n",
       "        inline_js[i].call(root, root.Bokeh);\n",
       "      }if (force === true) {\n",
       "        display_loaded();\n",
       "      }} else if (Date.now() < root._bokeh_timeout) {\n",
       "      setTimeout(run_inline_js, 100);\n",
       "    } else if (!root._bokeh_failed_load) {\n",
       "      console.log(\"Bokeh: BokehJS failed to load within specified timeout.\");\n",
       "      root._bokeh_failed_load = true;\n",
       "    } else if (force !== true) {\n",
       "      var cell = $(document.getElementById(\"1001\")).parents('.cell').data().cell;\n",
       "      cell.output_area.append_execute_result(NB_LOAD_WARNING)\n",
       "    }\n",
       "\n",
       "  }\n",
       "\n",
       "  if (root._bokeh_is_loading === 0) {\n",
       "    console.log(\"Bokeh: BokehJS loaded, going straight to plotting\");\n",
       "    run_inline_js();\n",
       "  } else {\n",
       "    load_libs(js_urls, function() {\n",
       "      console.log(\"Bokeh: BokehJS plotting callback run at\", now());\n",
       "      run_inline_js();\n",
       "    });\n",
       "  }\n",
       "}(window));"
      ],
      "application/vnd.bokehjs_load.v0+json": "\n(function(root) {\n  function now() {\n    return new Date();\n  }\n\n  var force = true;\n\n  if (typeof (root._bokeh_onload_callbacks) === \"undefined\" || force === true) {\n    root._bokeh_onload_callbacks = [];\n    root._bokeh_is_loading = undefined;\n  }\n\n  \n\n  \n  if (typeof (root._bokeh_timeout) === \"undefined\" || force === true) {\n    root._bokeh_timeout = Date.now() + 5000;\n    root._bokeh_failed_load = false;\n  }\n\n  var NB_LOAD_WARNING = {'data': {'text/html':\n     \"<div style='background-color: #fdd'>\\n\"+\n     \"<p>\\n\"+\n     \"BokehJS does not appear to have successfully loaded. If loading BokehJS from CDN, this \\n\"+\n     \"may be due to a slow or bad network connection. Possible fixes:\\n\"+\n     \"</p>\\n\"+\n     \"<ul>\\n\"+\n     \"<li>re-rerun `output_notebook()` to attempt to load from CDN again, or</li>\\n\"+\n     \"<li>use INLINE resources instead, as so:</li>\\n\"+\n     \"</ul>\\n\"+\n     \"<code>\\n\"+\n     \"from bokeh.resources import INLINE\\n\"+\n     \"output_notebook(resources=INLINE)\\n\"+\n     \"</code>\\n\"+\n     \"</div>\"}};\n\n  function display_loaded() {\n    var el = document.getElementById(\"1001\");\n    if (el != null) {\n      el.textContent = \"BokehJS is loading...\";\n    }\n    if (root.Bokeh !== undefined) {\n      if (el != null) {\n        el.textContent = \"BokehJS \" + root.Bokeh.version + \" successfully loaded.\";\n      }\n    } else if (Date.now() < root._bokeh_timeout) {\n      setTimeout(display_loaded, 100)\n    }\n  }\n\n\n  function run_callbacks() {\n    try {\n      root._bokeh_onload_callbacks.forEach(function(callback) { callback() });\n    }\n    finally {\n      delete root._bokeh_onload_callbacks\n    }\n    console.info(\"Bokeh: all callbacks have finished\");\n  }\n\n  function load_libs(js_urls, callback) {\n    root._bokeh_onload_callbacks.push(callback);\n    if (root._bokeh_is_loading > 0) {\n      console.log(\"Bokeh: BokehJS is being loaded, scheduling callback at\", now());\n      return null;\n    }\n    if (js_urls == null || js_urls.length === 0) {\n      run_callbacks();\n      return null;\n    }\n    console.log(\"Bokeh: BokehJS not loaded, scheduling load and callback at\", now());\n    root._bokeh_is_loading = js_urls.length;\n    for (var i = 0; i < js_urls.length; i++) {\n      var url = js_urls[i];\n      var s = document.createElement('script');\n      s.src = url;\n      s.async = false;\n      s.onreadystatechange = s.onload = function() {\n        root._bokeh_is_loading--;\n        if (root._bokeh_is_loading === 0) {\n          console.log(\"Bokeh: all BokehJS libraries loaded\");\n          run_callbacks()\n        }\n      };\n      s.onerror = function() {\n        console.warn(\"failed to load library \" + url);\n      };\n      console.log(\"Bokeh: injecting script tag for BokehJS library: \", url);\n      document.getElementsByTagName(\"head\")[0].appendChild(s);\n    }\n  };var element = document.getElementById(\"1001\");\n  if (element == null) {\n    console.log(\"Bokeh: ERROR: autoload.js configured with elementid '1001' but no matching script tag was found. \")\n    return false;\n  }\n\n  var js_urls = [\"https://cdn.pydata.org/bokeh/release/bokeh-1.0.0.min.js\", \"https://cdn.pydata.org/bokeh/release/bokeh-widgets-1.0.0.min.js\", \"https://cdn.pydata.org/bokeh/release/bokeh-tables-1.0.0.min.js\", \"https://cdn.pydata.org/bokeh/release/bokeh-gl-1.0.0.min.js\"];\n\n  var inline_js = [\n    function(Bokeh) {\n      Bokeh.set_log_level(\"info\");\n    },\n    \n    function(Bokeh) {\n      \n    },\n    function(Bokeh) {\n      console.log(\"Bokeh: injecting CSS: https://cdn.pydata.org/bokeh/release/bokeh-1.0.0.min.css\");\n      Bokeh.embed.inject_css(\"https://cdn.pydata.org/bokeh/release/bokeh-1.0.0.min.css\");\n      console.log(\"Bokeh: injecting CSS: https://cdn.pydata.org/bokeh/release/bokeh-widgets-1.0.0.min.css\");\n      Bokeh.embed.inject_css(\"https://cdn.pydata.org/bokeh/release/bokeh-widgets-1.0.0.min.css\");\n      console.log(\"Bokeh: injecting CSS: https://cdn.pydata.org/bokeh/release/bokeh-tables-1.0.0.min.css\");\n      Bokeh.embed.inject_css(\"https://cdn.pydata.org/bokeh/release/bokeh-tables-1.0.0.min.css\");\n    }\n  ];\n\n  function run_inline_js() {\n    \n    if ((root.Bokeh !== undefined) || (force === true)) {\n      for (var i = 0; i < inline_js.length; i++) {\n        inline_js[i].call(root, root.Bokeh);\n      }if (force === true) {\n        display_loaded();\n      }} else if (Date.now() < root._bokeh_timeout) {\n      setTimeout(run_inline_js, 100);\n    } else if (!root._bokeh_failed_load) {\n      console.log(\"Bokeh: BokehJS failed to load within specified timeout.\");\n      root._bokeh_failed_load = true;\n    } else if (force !== true) {\n      var cell = $(document.getElementById(\"1001\")).parents('.cell').data().cell;\n      cell.output_area.append_execute_result(NB_LOAD_WARNING)\n    }\n\n  }\n\n  if (root._bokeh_is_loading === 0) {\n    console.log(\"Bokeh: BokehJS loaded, going straight to plotting\");\n    run_inline_js();\n  } else {\n    load_libs(js_urls, function() {\n      console.log(\"Bokeh: BokehJS plotting callback run at\", now());\n      run_inline_js();\n    });\n  }\n}(window));"
     },
     "metadata": {},
     "output_type": "display_data"
    }
   ],
   "source": [
    "# Add \"beer\" to the PYTHONPATH\n",
    "from collections import defaultdict\n",
    "import random\n",
    "import sys\n",
    "sys.path.insert(0, '../')\n",
    "\n",
    "import copy\n",
    "\n",
    "import beer\n",
    "import numpy as np\n",
    "import torch\n",
    "\n",
    "# For plotting.\n",
    "from bokeh.io import show, output_notebook\n",
    "from bokeh.plotting import figure, gridplot\n",
    "from bokeh.models import LinearAxis, Range1d\n",
    "output_notebook()\n",
    "\n",
    "# Convenience functions for plotting.\n",
    "import plotting\n",
    "\n",
    "%load_ext autoreload\n",
    "%autoreload 2"
   ]
  },
  {
   "cell_type": "markdown",
   "metadata": {},
   "source": [
    "## Data\n",
    "\n",
    "As an illustration, we generate a synthetic data set composed of two Normal distributed cluster. One has a diagonal covariance matrix whereas the other has a dense covariance matrix."
   ]
  },
  {
   "cell_type": "code",
   "execution_count": 2,
   "metadata": {},
   "outputs": [
    {
     "name": "stdout",
     "output_type": "stream",
     "text": [
      "(200, 2)\n"
     ]
    }
   ],
   "source": [
    "N = 100\n",
    "\n",
    "# First cluster.\n",
    "mean = np.array([-5, 5]) \n",
    "cov = .5 *np.array([[.75, 0.], [0, 5.]])\n",
    "data1 = np.random.multivariate_normal(mean, cov, size=N)\n",
    "\n",
    "# Second cluster.\n",
    "mean = np.array([5, 5]) \n",
    "cov = 2 * np.array([[2, -.5], [-.5, .75]])\n",
    "data2 = np.random.multivariate_normal(mean, cov, size=N)\n",
    "\n",
    "# Merge everything to get the finale data set.\n",
    "data = np.vstack([data1, data2])\n",
    "np.random.shuffle(data)\n",
    "\n",
    "# First cluster.\n",
    "mean = np.array([-5, 5]) \n",
    "cov = .5 *np.array([[.75, 0.], [0, 5.]])\n",
    "data1 = np.random.multivariate_normal(mean, cov, size=N)\n",
    "\n",
    "# Second cluster.\n",
    "mean = np.array([5, 5]) \n",
    "cov = 2 * np.array([[2, -.5], [-.5, .75]])\n",
    "data2 = np.random.multivariate_normal(mean, cov, size=N)\n",
    "\n",
    "# Merge everything to get the finale data set.\n",
    "test_data = np.vstack([data1, data2])\n",
    "np.random.shuffle(test_data)\n",
    "\n",
    "print(data.shape)"
   ]
  },
  {
   "cell_type": "code",
   "execution_count": 3,
   "metadata": {},
   "outputs": [
    {
     "data": {
      "text/html": [
       "\n",
       "\n",
       "\n",
       "\n",
       "\n",
       "\n",
       "  <div class=\"bk-root\" id=\"a45c4fd9-19e8-498c-8e3b-3bafe728e0bb\"></div>\n"
      ]
     },
     "metadata": {},
     "output_type": "display_data"
    },
    {
     "data": {
      "application/javascript": [
       "(function(root) {\n",
       "  function embed_document(root) {\n",
       "    \n",
       "  var docs_json = {\"93eabeb9-8de1-432a-99f4-87b8af9e638e\":{\"roots\":{\"references\":[{\"attributes\":{\"below\":[{\"id\":\"1011\",\"type\":\"LinearAxis\"}],\"left\":[{\"id\":\"1016\",\"type\":\"LinearAxis\"}],\"plot_height\":300,\"plot_width\":300,\"renderers\":[{\"id\":\"1011\",\"type\":\"LinearAxis\"},{\"id\":\"1015\",\"type\":\"Grid\"},{\"id\":\"1016\",\"type\":\"LinearAxis\"},{\"id\":\"1020\",\"type\":\"Grid\"},{\"id\":\"1029\",\"type\":\"BoxAnnotation\"},{\"id\":\"1039\",\"type\":\"GlyphRenderer\"}],\"title\":{\"id\":\"1041\",\"type\":\"Title\"},\"toolbar\":{\"id\":\"1027\",\"type\":\"Toolbar\"},\"x_range\":{\"id\":\"1003\",\"type\":\"Range1d\"},\"x_scale\":{\"id\":\"1007\",\"type\":\"LinearScale\"},\"y_range\":{\"id\":\"1005\",\"type\":\"Range1d\"},\"y_scale\":{\"id\":\"1009\",\"type\":\"LinearScale\"}},\"id\":\"1002\",\"subtype\":\"Figure\",\"type\":\"Plot\"},{\"attributes\":{\"callback\":null,\"end\":15.741632817466082,\"start\":-10.605969283620306},\"id\":\"1005\",\"type\":\"Range1d\"},{\"attributes\":{\"active_drag\":\"auto\",\"active_inspect\":\"auto\",\"active_multi\":null,\"active_scroll\":\"auto\",\"active_tap\":\"auto\",\"tools\":[{\"id\":\"1021\",\"type\":\"PanTool\"},{\"id\":\"1022\",\"type\":\"WheelZoomTool\"},{\"id\":\"1023\",\"type\":\"BoxZoomTool\"},{\"id\":\"1024\",\"type\":\"SaveTool\"},{\"id\":\"1025\",\"type\":\"ResetTool\"},{\"id\":\"1026\",\"type\":\"HelpTool\"}]},\"id\":\"1027\",\"type\":\"Toolbar\"},{\"attributes\":{},\"id\":\"1007\",\"type\":\"LinearScale\"},{\"attributes\":{\"bottom_units\":\"screen\",\"fill_alpha\":{\"value\":0.5},\"fill_color\":{\"value\":\"lightgrey\"},\"left_units\":\"screen\",\"level\":\"overlay\",\"line_alpha\":{\"value\":1.0},\"line_color\":{\"value\":\"black\"},\"line_dash\":[4,4],\"line_width\":{\"value\":2},\"plot\":null,\"render_mode\":\"css\",\"right_units\":\"screen\",\"top_units\":\"screen\"},\"id\":\"1029\",\"type\":\"BoxAnnotation\"},{\"attributes\":{},\"id\":\"1009\",\"type\":\"LinearScale\"},{\"attributes\":{\"formatter\":{\"id\":\"1045\",\"type\":\"BasicTickFormatter\"},\"plot\":{\"id\":\"1002\",\"subtype\":\"Figure\",\"type\":\"Plot\"},\"ticker\":{\"id\":\"1012\",\"type\":\"BasicTicker\"}},\"id\":\"1011\",\"type\":\"LinearAxis\"},{\"attributes\":{\"data_source\":{\"id\":\"1036\",\"type\":\"ColumnDataSource\"},\"glyph\":{\"id\":\"1037\",\"type\":\"Circle\"},\"hover_glyph\":null,\"muted_glyph\":null,\"nonselection_glyph\":{\"id\":\"1038\",\"type\":\"Circle\"},\"selection_glyph\":null,\"view\":{\"id\":\"1040\",\"type\":\"CDSView\"}},\"id\":\"1039\",\"type\":\"GlyphRenderer\"},{\"attributes\":{},\"id\":\"1012\",\"type\":\"BasicTicker\"},{\"attributes\":{\"source\":{\"id\":\"1036\",\"type\":\"ColumnDataSource\"}},\"id\":\"1040\",\"type\":\"CDSView\"},{\"attributes\":{\"plot\":{\"id\":\"1002\",\"subtype\":\"Figure\",\"type\":\"Plot\"},\"ticker\":{\"id\":\"1012\",\"type\":\"BasicTicker\"}},\"id\":\"1015\",\"type\":\"Grid\"},{\"attributes\":{\"plot\":null,\"text\":\"\"},\"id\":\"1041\",\"type\":\"Title\"},{\"attributes\":{\"formatter\":{\"id\":\"1043\",\"type\":\"BasicTickFormatter\"},\"plot\":{\"id\":\"1002\",\"subtype\":\"Figure\",\"type\":\"Plot\"},\"ticker\":{\"id\":\"1017\",\"type\":\"BasicTicker\"}},\"id\":\"1016\",\"type\":\"LinearAxis\"},{\"attributes\":{},\"id\":\"1043\",\"type\":\"BasicTickFormatter\"},{\"attributes\":{},\"id\":\"1017\",\"type\":\"BasicTicker\"},{\"attributes\":{},\"id\":\"1045\",\"type\":\"BasicTickFormatter\"},{\"attributes\":{\"dimension\":1,\"plot\":{\"id\":\"1002\",\"subtype\":\"Figure\",\"type\":\"Plot\"},\"ticker\":{\"id\":\"1017\",\"type\":\"BasicTicker\"}},\"id\":\"1020\",\"type\":\"Grid\"},{\"attributes\":{},\"id\":\"1047\",\"type\":\"Selection\"},{\"attributes\":{},\"id\":\"1048\",\"type\":\"UnionRenderers\"},{\"attributes\":{\"fill_color\":{\"value\":\"#1f77b4\"},\"line_color\":{\"value\":\"#1f77b4\"},\"x\":{\"field\":\"x\"},\"y\":{\"field\":\"y\"}},\"id\":\"1037\",\"type\":\"Circle\"},{\"attributes\":{\"fill_alpha\":{\"value\":0.1},\"fill_color\":{\"value\":\"#1f77b4\"},\"line_alpha\":{\"value\":0.1},\"line_color\":{\"value\":\"#1f77b4\"},\"x\":{\"field\":\"x\"},\"y\":{\"field\":\"y\"}},\"id\":\"1038\",\"type\":\"Circle\"},{\"attributes\":{},\"id\":\"1021\",\"type\":\"PanTool\"},{\"attributes\":{\"callback\":null,\"end\":15.741632817466082,\"start\":-10.605969283620306},\"id\":\"1003\",\"type\":\"Range1d\"},{\"attributes\":{},\"id\":\"1022\",\"type\":\"WheelZoomTool\"},{\"attributes\":{\"overlay\":{\"id\":\"1029\",\"type\":\"BoxAnnotation\"}},\"id\":\"1023\",\"type\":\"BoxZoomTool\"},{\"attributes\":{},\"id\":\"1024\",\"type\":\"SaveTool\"},{\"attributes\":{},\"id\":\"1025\",\"type\":\"ResetTool\"},{\"attributes\":{\"callback\":null,\"data\":{\"x\":{\"__ndarray__\":\"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\",\"dtype\":\"float64\",\"shape\":[200]},\"y\":{\"__ndarray__\":\"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\",\"dtype\":\"float64\",\"shape\":[200]}},\"selected\":{\"id\":\"1047\",\"type\":\"Selection\"},\"selection_policy\":{\"id\":\"1048\",\"type\":\"UnionRenderers\"}},\"id\":\"1036\",\"type\":\"ColumnDataSource\"},{\"attributes\":{},\"id\":\"1026\",\"type\":\"HelpTool\"}],\"root_ids\":[\"1002\"]},\"title\":\"Bokeh Application\",\"version\":\"1.0.0\"}};\n",
       "  var render_items = [{\"docid\":\"93eabeb9-8de1-432a-99f4-87b8af9e638e\",\"roots\":{\"1002\":\"a45c4fd9-19e8-498c-8e3b-3bafe728e0bb\"}}];\n",
       "  root.Bokeh.embed.embed_items_notebook(docs_json, render_items);\n",
       "\n",
       "  }\n",
       "  if (root.Bokeh !== undefined) {\n",
       "    embed_document(root);\n",
       "  } else {\n",
       "    var attempts = 0;\n",
       "    var timer = setInterval(function(root) {\n",
       "      if (root.Bokeh !== undefined) {\n",
       "        embed_document(root);\n",
       "        clearInterval(timer);\n",
       "      }\n",
       "      attempts++;\n",
       "      if (attempts > 100) {\n",
       "        console.log(\"Bokeh: ERROR: Unable to run BokehJS code because BokehJS library is missing\");\n",
       "        clearInterval(timer);\n",
       "      }\n",
       "    }, 10, root)\n",
       "  }\n",
       "})(window);"
      ],
      "application/vnd.bokehjs_exec.v0+json": ""
     },
     "metadata": {
      "application/vnd.bokehjs_exec.v0+json": {
       "id": "1002"
      }
     },
     "output_type": "display_data"
    }
   ],
   "source": [
    "# Mean, variance of the data to scale the figure.\n",
    "mean = data.mean(axis=0)\n",
    "var = data.var(axis=0)\n",
    "std_dev = np.sqrt(max(var))\n",
    "x_range = (mean[0] - 2 * std_dev, mean[0] + 2 * std_dev)\n",
    "y_range = (mean[1] - 2 * std_dev, mean[1] + 2 * std_dev)\n",
    "global_range = (min(x_range[0], y_range[0]), max(x_range[1], y_range[1]))\n",
    "\n",
    "fig = figure(width=300, height=300,\n",
    "             x_range=global_range, y_range=global_range)\n",
    "fig.circle(data[:, 0], data[:, 1])\n",
    "\n",
    "show(fig)"
   ]
  },
  {
   "cell_type": "markdown",
   "metadata": {},
   "source": [
    "## Model Creation\n",
    "\n",
    "We create two types of mixture model: one whose (Normal) components have full covariance matrix and the other whose (Normal) components have diagonal covariance matrix."
   ]
  },
  {
   "cell_type": "code",
   "execution_count": 14,
   "metadata": {},
   "outputs": [
    {
     "name": "stdout",
     "output_type": "stream",
     "text": [
      "tensor([0.1849, 4.9508], dtype=torch.float64)\n",
      "tensor([29.1105,  2.0110], dtype=torch.float64)\n"
     ]
    }
   ],
   "source": [
    "# We use the global mean/cov. matrix of the data to initialize the mixture.\n",
    "data_mean = torch.from_numpy(data.mean(axis=0)).double()\n",
    "data_var = torch.from_numpy(np.var(data, axis=0)).double()\n",
    "print(data_mean), print(data_var)\n",
    "\n",
    "noise_std = .1\n",
    "shared_cov = False\n",
    "cov_type = 'isotropic'\n",
    "ncomps = 20\n",
    "\n",
    "modelset = beer.NormalSet.create(data_mean, data_var, size=ncomps,\n",
    "                                prior_strength=1., noise_std=noise_std, \n",
    "                                cov_type=cov_type, shared_cov=True)\n",
    "model = beer.Mixture.create(modelset, prior_strength=1e-3).double()"
   ]
  },
  {
   "cell_type": "markdown",
   "metadata": {},
   "source": [
    "## Variational Bayes Training "
   ]
  },
  {
   "cell_type": "code",
   "execution_count": 15,
   "metadata": {},
   "outputs": [
    {
     "data": {
      "text/plain": [
       "torch.Size([1, 200, 2])"
      ]
     },
     "execution_count": 15,
     "metadata": {},
     "output_type": "execute_result"
    }
   ],
   "source": [
    "nbatches = 1\n",
    "X = torch.from_numpy(data).double()\n",
    "test_X = torch.from_numpy(test_data).double()\n",
    "batches = X.view(nbatches, -1, 2)\n",
    "batches.shape"
   ]
  },
  {
   "cell_type": "code",
   "execution_count": 16,
   "metadata": {
    "scrolled": true
   },
   "outputs": [],
   "source": [
    "epochs = 500\n",
    "lrate = 1.\n",
    "\n",
    "optim = beer.VariationalBayesOptimizer(model.mean_field_factorization(), lrate)\n",
    "    \n",
    "\n",
    "elbos = []\n",
    "for epoch in range(epochs):\n",
    "    batch_ids = list(range(len(batches)))\n",
    "    random.shuffle(batch_ids)\n",
    "    for batch_id in batch_ids:\n",
    "        batch = batches[batch_id]\n",
    "        optim.init_step()\n",
    "        elbo = beer.evidence_lower_bound(model, batch, datasize=len(X))\n",
    "        elbo.backward()\n",
    "        optim.step()\n",
    "        elbos.append(float(elbo) / len(X))"
   ]
  },
  {
   "cell_type": "code",
   "execution_count": 17,
   "metadata": {
    "scrolled": false
   },
   "outputs": [
    {
     "data": {
      "text/html": [
       "\n",
       "\n",
       "\n",
       "\n",
       "\n",
       "\n",
       "  <div class=\"bk-root\" id=\"c5eb8b16-ff48-4146-9c3d-e4ac6a28480d\"></div>\n"
      ]
     },
     "metadata": {},
     "output_type": "display_data"
    },
    {
     "data": {
      "application/javascript": [
       "(function(root) {\n",
       "  function embed_document(root) {\n",
       "    \n",
       "  var docs_json = {\"2a761cd5-fbcf-4a5c-91b5-23afe3d16220\":{\"roots\":{\"references\":[{\"attributes\":{\"below\":[{\"id\":\"1344\",\"type\":\"LinearAxis\"}],\"left\":[{\"id\":\"1349\",\"type\":\"LinearAxis\"}],\"plot_height\":400,\"plot_width\":400,\"renderers\":[{\"id\":\"1344\",\"type\":\"LinearAxis\"},{\"id\":\"1348\",\"type\":\"Grid\"},{\"id\":\"1349\",\"type\":\"LinearAxis\"},{\"id\":\"1353\",\"type\":\"Grid\"},{\"id\":\"1362\",\"type\":\"BoxAnnotation\"},{\"id\":\"1372\",\"type\":\"GlyphRenderer\"}],\"title\":{\"id\":\"1401\",\"type\":\"Title\"},\"toolbar\":{\"id\":\"1360\",\"type\":\"Toolbar\"},\"x_range\":{\"id\":\"1336\",\"type\":\"DataRange1d\"},\"x_scale\":{\"id\":\"1340\",\"type\":\"LinearScale\"},\"y_range\":{\"id\":\"1338\",\"type\":\"DataRange1d\"},\"y_scale\":{\"id\":\"1342\",\"type\":\"LinearScale\"}},\"id\":\"1335\",\"subtype\":\"Figure\",\"type\":\"Plot\"},{\"attributes\":{\"callback\":null},\"id\":\"1338\",\"type\":\"DataRange1d\"},{\"attributes\":{\"plot\":null,\"text\":\"\"},\"id\":\"1401\",\"type\":\"Title\"},{\"attributes\":{},\"id\":\"1340\",\"type\":\"LinearScale\"},{\"attributes\":{},\"id\":\"1403\",\"type\":\"BasicTickFormatter\"},{\"attributes\":{\"active_drag\":\"auto\",\"active_inspect\":\"auto\",\"active_multi\":null,\"active_scroll\":\"auto\",\"active_tap\":\"auto\",\"tools\":[{\"id\":\"1354\",\"type\":\"PanTool\"},{\"id\":\"1355\",\"type\":\"WheelZoomTool\"},{\"id\":\"1356\",\"type\":\"BoxZoomTool\"},{\"id\":\"1357\",\"type\":\"SaveTool\"},{\"id\":\"1358\",\"type\":\"ResetTool\"},{\"id\":\"1359\",\"type\":\"HelpTool\"}]},\"id\":\"1360\",\"type\":\"Toolbar\"},{\"attributes\":{\"axis_label\":\"epoch\",\"formatter\":{\"id\":\"1405\",\"type\":\"BasicTickFormatter\"},\"plot\":{\"id\":\"1335\",\"subtype\":\"Figure\",\"type\":\"Plot\"},\"ticker\":{\"id\":\"1345\",\"type\":\"BasicTicker\"}},\"id\":\"1344\",\"type\":\"LinearAxis\"},{\"attributes\":{\"axis_label\":\"ELBO\",\"formatter\":{\"id\":\"1403\",\"type\":\"BasicTickFormatter\"},\"plot\":{\"id\":\"1335\",\"subtype\":\"Figure\",\"type\":\"Plot\"},\"ticker\":{\"id\":\"1350\",\"type\":\"BasicTicker\"}},\"id\":\"1349\",\"type\":\"LinearAxis\"},{\"attributes\":{},\"id\":\"1345\",\"type\":\"BasicTicker\"},{\"attributes\":{\"callback\":null},\"id\":\"1336\",\"type\":\"DataRange1d\"},{\"attributes\":{},\"id\":\"1342\",\"type\":\"LinearScale\"},{\"attributes\":{\"plot\":{\"id\":\"1335\",\"subtype\":\"Figure\",\"type\":\"Plot\"},\"ticker\":{\"id\":\"1345\",\"type\":\"BasicTicker\"}},\"id\":\"1348\",\"type\":\"Grid\"},{\"attributes\":{},\"id\":\"1357\",\"type\":\"SaveTool\"},{\"attributes\":{\"source\":{\"id\":\"1369\",\"type\":\"ColumnDataSource\"}},\"id\":\"1373\",\"type\":\"CDSView\"},{\"attributes\":{\"line_alpha\":0.1,\"line_color\":\"#1f77b4\",\"x\":{\"field\":\"x\"},\"y\":{\"field\":\"y\"}},\"id\":\"1371\",\"type\":\"Line\"},{\"attributes\":{},\"id\":\"1350\",\"type\":\"BasicTicker\"},{\"attributes\":{\"dimension\":1,\"plot\":{\"id\":\"1335\",\"subtype\":\"Figure\",\"type\":\"Plot\"},\"ticker\":{\"id\":\"1350\",\"type\":\"BasicTicker\"}},\"id\":\"1353\",\"type\":\"Grid\"},{\"attributes\":{\"overlay\":{\"id\":\"1362\",\"type\":\"BoxAnnotation\"}},\"id\":\"1356\",\"type\":\"BoxZoomTool\"},{\"attributes\":{},\"id\":\"1405\",\"type\":\"BasicTickFormatter\"},{\"attributes\":{\"data_source\":{\"id\":\"1369\",\"type\":\"ColumnDataSource\"},\"glyph\":{\"id\":\"1370\",\"type\":\"Line\"},\"hover_glyph\":null,\"muted_glyph\":null,\"nonselection_glyph\":{\"id\":\"1371\",\"type\":\"Line\"},\"selection_glyph\":null,\"view\":{\"id\":\"1373\",\"type\":\"CDSView\"}},\"id\":\"1372\",\"type\":\"GlyphRenderer\"},{\"attributes\":{},\"id\":\"1355\",\"type\":\"WheelZoomTool\"},{\"attributes\":{},\"id\":\"1354\",\"type\":\"PanTool\"},{\"attributes\":{},\"id\":\"1407\",\"type\":\"Selection\"},{\"attributes\":{\"bottom_units\":\"screen\",\"fill_alpha\":{\"value\":0.5},\"fill_color\":{\"value\":\"lightgrey\"},\"left_units\":\"screen\",\"level\":\"overlay\",\"line_alpha\":{\"value\":1.0},\"line_color\":{\"value\":\"black\"},\"line_dash\":[4,4],\"line_width\":{\"value\":2},\"plot\":null,\"render_mode\":\"css\",\"right_units\":\"screen\",\"top_units\":\"screen\"},\"id\":\"1362\",\"type\":\"BoxAnnotation\"},{\"attributes\":{\"callback\":null,\"data\":{\"x\":[0,1,2,3,4,5,6,7,8,9,10,11,12,13,14,15,16,17,18,19,20,21,22,23,24,25,26,27,28,29,30,31,32,33,34,35,36,37,38,39,40,41,42,43,44,45,46,47,48,49,50,51,52,53,54,55,56,57,58,59,60,61,62,63,64,65,66,67,68,69,70,71,72,73,74,75,76,77,78,79,80,81,82,83,84,85,86,87,88,89,90,91,92,93,94,95,96,97,98,99,100,101,102,103,104,105,106,107,108,109,110,111,112,113,114,115,116,117,118,119,120,121,122,123,124,125,126,127,128,129,130,131,132,133,134,135,136,137,138,139,140,141,142,143,144,145,146,147,148,149,150,151,152,153,154,155,156,157,158,159,160,161,162,163,164,165,166,167,168,169,170,171,172,173,174,175,176,177,178,179,180,181,182,183,184,185,186,187,188,189,190,191,192,193,194,195,196,197,198,199,200,201,202,203,204,205,206,207,208,209,210,211,212,213,214,215,216,217,218,219,220,221,222,223,224,225,226,227,228,229,230,231,232,233,234,235,236,237,238,239,240,241,242,243,244,245,246,247,248,249,250,251,252,253,254,255,256,257,258,259,260,261,262,263,264,265,266,267,268,269,270,271,272,273,274,275,276,277,278,279,280,281,282,283,284,285,286,287,288,289,290,291,292,293,294,295,296,297,298,299,300,301,302,303,304,305,306,307,308,309,310,311,312,313,314,315,316,317,318,319,320,321,322,323,324,325,326,327,328,329,330,331,332,333,334,335,336,337,338,339,340,341,342,343,344,345,346,347,348,349,350,351,352,353,354,355,356,357,358,359,360,361,362,363,364,365,366,367,368,369,370,371,372,373,374,375,376,377,378,379,380,381,382,383,384,385,386,387,388,389,390,391,392,393,394,395,396,397,398,399,400,401,402,403,404,405,406,407,408,409,410,411,412,413,414,415,416,417,418,419,420,421,422,423,424,425,426,427,428,429,430,431,432,433,434,435,436,437,438,439,440,441,442,443,444,445,446,447,448,449,450,451,452,453,454,455,456,457,458,459,460,461,462,463,464,465,466,467,468,469,470,471,472,473,474,475,476,477,478,479,480,481,482,483,484,485,486,487,488,489,490,491,492,493,494,495,496,497,498,499],\"y\":[-19004.3279607457,-6.798230610422064,-6.782469054890478,-6.739894215956664,-6.630116953040464,-6.363828165283552,-5.966757822118975,-5.81436626351711,-5.734882988076086,-5.610399442495244,-5.456409512395927,-5.342905659804164,-5.275830358681805,-5.18555176659599,-5.095360550136063,-5.035897228114368,-5.004032717173917,-4.9735964950594935,-4.956870953141406,-4.926994064920228,-4.874024890306935,-4.8268222512381,-4.8023877589337385,-4.763867265556574,-4.752280633788349,-4.733512866189498,-4.708772821606816,-4.682678963112994,-4.660083903601102,-4.650106219121703,-4.615995981974265,-4.6127672641627555,-4.611103260014132,-4.609351360192318,-4.607445470278297,-4.605327314264744,-4.6029919741136816,-4.600545060936374,-4.598209989347937,-4.596227816137983,-4.594715516771773,-4.593627225076179,-4.592833720229914,-4.592211328267163,-4.591677117006254,-4.591185009288622,-4.590711767684416,-4.590246063058723,-4.589782359490264,-4.58931799617831,-4.588851910759475,-4.588384103778078,-4.587915411206361,-4.587447393110863,-4.586982254821462,-4.586522762374399,-4.586072133206837,-4.585633892787544,-4.585211695167366,-4.584809112962572,-4.584429410374961,-4.584075320376111,-4.583748852103875,-4.583451154639263,-4.583182457312817,-4.582942095009172,-4.582728612224687,-4.582539925953095,-4.582373518750813,-4.582226631678376,-4.58209643173237,-4.581980137249792,-4.581875094184817,-4.581778803305378,-4.581688901654189,-4.581603100537533,-4.5815190765493155,-4.581434300402487,-4.581345766368897,-4.581249541665019,-4.581139961430721,-4.58100807443263,-4.580838376126668,-4.580601242383707,-4.580233246333467,-4.579578059484871,-4.5781751145031295,-4.574362132164215,-4.562073297247856,-4.538382522871098,-4.507179497461771,-4.502060160141108,-4.502056063314034,-4.50205275915855,-4.502050073840505,-4.5020478901561445,-4.502046114661217,-4.50204467135897,-4.502043498328879,-4.502042545128954,-4.502041770684338,-4.502041141560839,-4.502040630553193,-4.502040215531479,-4.502039878499243,-4.5020396048249856,-4.502039382615578,-4.502039202205583,-4.502039055741328,-4.502038936842245,-4.502038840325277,-4.502038761980603,-4.50203869838928,-4.502038646774896,-4.502038604883035,-4.502038570883253,-4.502038543289469,-4.502038520895221,-4.502038502721136,-4.502038487972202,-4.5020384760031105,-4.502038466290065,-4.502038458407935,-4.502038452011664,-4.502038446821216,-4.502038442609309,-4.502038439191491,-4.502038436418074,-4.5020384341675745,-4.502038432341411,-4.50203843085958,-4.50203842965717,-4.502038428681488,-4.502038427889789,-4.502038427247386,-4.50203842672612,-4.502038426303149,-4.502038425959946,-4.502038425681461,-4.502038425455499,-4.502038425272148,-4.502038425123371,-4.502038425002654,-4.5020384249047005,-4.502038424825223,-4.502038424760735,-4.502038424708408,-4.502038424665947,-4.502038424631494,-4.502038424603544,-4.50203842458086,-4.502038424562455,-4.5020384245475205,-4.502038424535405,-4.502038424525569,-4.502038424517593,-4.502038424511122,-4.502038424505867,-4.5020384245016025,-4.50203842449815,-4.502038424495344,-4.5020384244930645,-4.502038424491218,-4.5020384244897205,-4.502038424488502,-4.5020384244875205,-4.502038424486721,-4.502038424486063,-4.502038424485539,-4.50203842448511,-4.502038424484766,-4.5020384244844855,-4.502038424484256,-4.502038424484069,-4.502038424483917,-4.502038424483799,-4.502038424483696,-4.502038424483617,-4.502038424483554,-4.502038424483498,-4.502038424483455,-4.502038424483419,-4.502038424483397,-4.502038424483372,-4.50203842448335,-4.5020384244833345,-4.50203842448332,-4.502038424483312,-4.502038424483305,-4.502038424483302,-4.502038424483295,-4.502038424483287,-4.502038424483285,-4.502038424483281,-4.50203842448328,-4.502038424483279,-4.502038424483278,-4.502038424483278,-4.502038424483275,-4.502038424483277,-4.502038424483273,-4.502038424483273,-4.502038424483273,-4.502038424483274,-4.502038424483271,-4.50203842448327,-4.502038424483271,-4.502038424483271,-4.502038424483268,-4.502038424483271,-4.50203842448327,-4.502038424483275,-4.5020384244832705,-4.502038424483274,-4.50203842448327,-4.5020384244832705,-4.502038424483274,-4.502038424483273,-4.50203842448327,-4.502038424483273,-4.502038424483271,-4.502038424483271,-4.502038424483272,-4.502038424483271,-4.50203842448327,-4.50203842448327,-4.50203842448327,-4.502038424483269,-4.502038424483271,-4.502038424483273,-4.5020384244832705,-4.502038424483273,-4.502038424483273,-4.5020384244832705,-4.50203842448327,-4.502038424483276,-4.5020384244832705,-4.502038424483269,-4.502038424483273,-4.5020384244832705,-4.502038424483271,-4.502038424483272,-4.502038424483268,-4.5020384244832705,-4.5020384244832705,-4.502038424483269,-4.502038424483271,-4.502038424483276,-4.502038424483271,-4.502038424483269,-4.5020384244832705,-4.5020384244832705,-4.502038424483269,-4.502038424483269,-4.502038424483271,-4.502038424483271,-4.502038424483274,-4.502038424483269,-4.502038424483273,-4.502038424483275,-4.502038424483271,-4.502038424483273,-4.502038424483269,-4.502038424483269,-4.502038424483275,-4.502038424483272,-4.5020384244832705,-4.5020384244832705,-4.502038424483269,-4.502038424483269,-4.5020384244832705,-4.502038424483272,-4.502038424483276,-4.502038424483275,-4.502038424483268,-4.502038424483272,-4.50203842448327,-4.502038424483271,-4.502038424483273,-4.502038424483271,-4.5020384244832705,-4.502038424483269,-4.50203842448327,-4.502038424483269,-4.502038424483271,-4.5020384244832705,-4.502038424483271,-4.502038424483273,-4.5020384244832705,-4.502038424483272,-4.502038424483271,-4.502038424483271,-4.502038424483267,-4.502038424483272,-4.5020384244832705,-4.502038424483271,-4.502038424483267,-4.502038424483271,-4.502038424483273,-4.502038424483271,-4.502038424483272,-4.502038424483271,-4.502038424483271,-4.502038424483273,-4.502038424483271,-4.5020384244832705,-4.502038424483272,-4.502038424483272,-4.50203842448327,-4.502038424483273,-4.502038424483274,-4.5020384244832705,-4.502038424483271,-4.5020384244832705,-4.502038424483272,-4.502038424483271,-4.502038424483269,-4.502038424483277,-4.502038424483271,-4.5020384244832705,-4.5020384244832705,-4.50203842448327,-4.502038424483272,-4.50203842448327,-4.502038424483269,-4.502038424483271,-4.502038424483273,-4.502038424483273,-4.502038424483273,-4.5020384244832705,-4.502038424483272,-4.502038424483272,-4.502038424483271,-4.502038424483271,-4.502038424483269,-4.502038424483271,-4.502038424483271,-4.502038424483271,-4.50203842448327,-4.502038424483272,-4.502038424483274,-4.502038424483271,-4.502038424483273,-4.502038424483274,-4.5020384244832705,-4.502038424483275,-4.502038424483271,-4.502038424483271,-4.502038424483271,-4.50203842448327,-4.502038424483272,-4.50203842448327,-4.502038424483272,-4.502038424483272,-4.502038424483273,-4.502038424483272,-4.502038424483271,-4.502038424483272,-4.502038424483271,-4.502038424483269,-4.502038424483269,-4.502038424483271,-4.502038424483271,-4.502038424483272,-4.502038424483272,-4.502038424483271,-4.5020384244832705,-4.502038424483268,-4.502038424483271,-4.502038424483272,-4.50203842448327,-4.502038424483274,-4.5020384244832705,-4.5020384244832705,-4.502038424483271,-4.50203842448327,-4.502038424483272,-4.502038424483271,-4.5020384244832705,-4.502038424483272,-4.502038424483269,-4.5020384244832705,-4.5020384244832705,-4.5020384244832705,-4.502038424483269,-4.502038424483271,-4.502038424483272,-4.502038424483268,-4.5020384244832705,-4.5020384244832705,-4.5020384244832705,-4.502038424483271,-4.502038424483271,-4.502038424483271,-4.502038424483269,-4.50203842448327,-4.502038424483271,-4.5020384244832705,-4.502038424483272,-4.502038424483267,-4.502038424483271,-4.502038424483271,-4.502038424483269,-4.5020384244832705,-4.5020384244832705,-4.502038424483269,-4.502038424483273,-4.50203842448327,-4.502038424483272,-4.502038424483271,-4.5020384244832705,-4.502038424483272,-4.502038424483269,-4.5020384244832705,-4.5020384244832705,-4.5020384244832705,-4.502038424483269,-4.502038424483271,-4.502038424483272,-4.502038424483268,-4.5020384244832705,-4.5020384244832705,-4.5020384244832705,-4.502038424483271,-4.502038424483271,-4.502038424483271,-4.502038424483269,-4.50203842448327,-4.502038424483271,-4.5020384244832705,-4.502038424483272,-4.502038424483267,-4.502038424483271,-4.502038424483271,-4.502038424483269,-4.5020384244832705,-4.5020384244832705,-4.502038424483269,-4.502038424483273,-4.50203842448327,-4.502038424483272,-4.502038424483271,-4.5020384244832705,-4.502038424483272,-4.502038424483269,-4.5020384244832705,-4.5020384244832705,-4.5020384244832705,-4.502038424483269,-4.502038424483271,-4.502038424483272,-4.502038424483268,-4.5020384244832705,-4.5020384244832705,-4.5020384244832705,-4.502038424483271,-4.502038424483271,-4.502038424483271,-4.502038424483269,-4.50203842448327,-4.502038424483271,-4.5020384244832705,-4.502038424483272,-4.502038424483267,-4.502038424483271,-4.502038424483271,-4.502038424483269,-4.5020384244832705,-4.5020384244832705,-4.502038424483269,-4.502038424483273,-4.50203842448327,-4.502038424483272,-4.502038424483271,-4.5020384244832705,-4.502038424483272,-4.502038424483269,-4.5020384244832705,-4.5020384244832705,-4.5020384244832705,-4.502038424483269,-4.502038424483271,-4.502038424483272,-4.502038424483268,-4.5020384244832705,-4.5020384244832705,-4.5020384244832705,-4.502038424483271,-4.502038424483271,-4.502038424483271,-4.502038424483269,-4.50203842448327,-4.502038424483271,-4.5020384244832705,-4.502038424483272,-4.502038424483267,-4.502038424483271,-4.502038424483271,-4.502038424483269,-4.5020384244832705]},\"selected\":{\"id\":\"1407\",\"type\":\"Selection\"},\"selection_policy\":{\"id\":\"1408\",\"type\":\"UnionRenderers\"}},\"id\":\"1369\",\"type\":\"ColumnDataSource\"},{\"attributes\":{},\"id\":\"1358\",\"type\":\"ResetTool\"},{\"attributes\":{},\"id\":\"1408\",\"type\":\"UnionRenderers\"},{\"attributes\":{\"line_color\":\"#1f77b4\",\"x\":{\"field\":\"x\"},\"y\":{\"field\":\"y\"}},\"id\":\"1370\",\"type\":\"Line\"},{\"attributes\":{},\"id\":\"1359\",\"type\":\"HelpTool\"}],\"root_ids\":[\"1335\"]},\"title\":\"Bokeh Application\",\"version\":\"1.0.0\"}};\n",
       "  var render_items = [{\"docid\":\"2a761cd5-fbcf-4a5c-91b5-23afe3d16220\",\"roots\":{\"1335\":\"c5eb8b16-ff48-4146-9c3d-e4ac6a28480d\"}}];\n",
       "  root.Bokeh.embed.embed_items_notebook(docs_json, render_items);\n",
       "\n",
       "  }\n",
       "  if (root.Bokeh !== undefined) {\n",
       "    embed_document(root);\n",
       "  } else {\n",
       "    var attempts = 0;\n",
       "    var timer = setInterval(function(root) {\n",
       "      if (root.Bokeh !== undefined) {\n",
       "        embed_document(root);\n",
       "        clearInterval(timer);\n",
       "      }\n",
       "      attempts++;\n",
       "      if (attempts > 100) {\n",
       "        console.log(\"Bokeh: ERROR: Unable to run BokehJS code because BokehJS library is missing\");\n",
       "        clearInterval(timer);\n",
       "      }\n",
       "    }, 10, root)\n",
       "  }\n",
       "})(window);"
      ],
      "application/vnd.bokehjs_exec.v0+json": ""
     },
     "metadata": {
      "application/vnd.bokehjs_exec.v0+json": {
       "id": "1335"
      }
     },
     "output_type": "display_data"
    }
   ],
   "source": [
    "fig = figure(width=400, height=400, x_axis_label='epoch',\n",
    "              y_axis_label='ELBO')\n",
    "fig.line(range(len(elbos)), elbos)\n",
    "show(fig)"
   ]
  },
  {
   "cell_type": "code",
   "execution_count": 18,
   "metadata": {},
   "outputs": [
    {
     "data": {
      "text/plain": [
       "NormalIsotropicCovariance(\n",
       "  (mean_precision): BayesianParameter(prior=JointIsotropicNormalGamma(\n",
       "    (params): JointIsotropicNormalGammaStdParams(means=tensor([[0.1849, 4.9508],\n",
       "            [0.1849, 4.9508],\n",
       "            [0.1849, 4.9508],\n",
       "            [0.1849, 4.9508],\n",
       "            [0.1849, 4.9508],\n",
       "            [0.1849, 4.9508],\n",
       "            [0.1849, 4.9508],\n",
       "            [0.1849, 4.9508],\n",
       "            [0.1849, 4.9508],\n",
       "            [0.1849, 4.9508],\n",
       "            [0.1849, 4.9508],\n",
       "            [0.1849, 4.9508],\n",
       "            [0.1849, 4.9508],\n",
       "            [0.1849, 4.9508],\n",
       "            [0.1849, 4.9508],\n",
       "            [0.1849, 4.9508],\n",
       "            [0.1849, 4.9508],\n",
       "            [0.1849, 4.9508],\n",
       "            [0.1849, 4.9508],\n",
       "            [0.1849, 4.9508]], dtype=torch.float64), scales=tensor([1., 1., 1., 1., 1., 1., 1., 1., 1., 1., 1., 1., 1., 1., 1., 1., 1., 1.,\n",
       "            1., 1.], dtype=torch.float64), shape=tensor(1., dtype=torch.float64), rate=tensor(29.1105, dtype=torch.float64))\n",
       "  ), posterior=JointIsotropicNormalGamma(\n",
       "    (params): JointIsotropicNormalGammaStdParams(means=tensor([[-4.9587,  5.0462],\n",
       "            [ 0.1849,  4.9508],\n",
       "            [ 0.1849,  4.9508],\n",
       "            [ 0.1849,  4.9508],\n",
       "            [ 0.1849,  4.9508],\n",
       "            [ 0.1849,  4.9508],\n",
       "            [ 0.1849,  4.9508],\n",
       "            [ 0.1849,  4.9508],\n",
       "            [ 0.1849,  4.9508],\n",
       "            [ 2.1402,  5.4347],\n",
       "            [ 0.1849,  4.9508],\n",
       "            [ 0.1849,  4.9508],\n",
       "            [ 0.1849,  4.9508],\n",
       "            [ 0.1849,  4.9508],\n",
       "            [ 0.1849,  4.9508],\n",
       "            [ 0.1849,  4.9508],\n",
       "            [ 0.1849,  4.9508],\n",
       "            [ 0.1849,  4.9508],\n",
       "            [ 0.1849,  4.9508],\n",
       "            [ 5.7348,  4.7749]], dtype=torch.float64), scales=tensor([101.1456,   1.0000,   1.0000,   1.0000,   1.0000,   1.0000,   1.0000,\n",
       "              1.0000,   1.0000,  12.5292,   1.0000,   1.0000,   1.0000,   1.0000,\n",
       "              1.0000,   1.0000,   1.0000,   1.0000,   1.0000,  89.3253],\n",
       "           dtype=torch.float64), shape=tensor(201., dtype=torch.float64), rate=tensor([400.3217], dtype=torch.float64))\n",
       "  ))\n",
       ")"
      ]
     },
     "execution_count": 18,
     "metadata": {},
     "output_type": "execute_result"
    }
   ],
   "source": [
    "model.modelset[0]"
   ]
  },
  {
   "cell_type": "code",
   "execution_count": 19,
   "metadata": {
    "scrolled": false
   },
   "outputs": [
    {
     "data": {
      "text/plain": [
       "(tensor([-4.9587,  5.0462], dtype=torch.float64),\n",
       " tensor([-4.9587,  5.0462], dtype=torch.float64))"
      ]
     },
     "execution_count": 19,
     "metadata": {},
     "output_type": "execute_result"
    }
   ],
   "source": [
    "model.modelset.means_precision.posterior.means[0], model.modelset.means_precision.posterior.means[0] "
   ]
  },
  {
   "cell_type": "code",
   "execution_count": 11,
   "metadata": {},
   "outputs": [
    {
     "data": {
      "text/plain": [
       "JointNormalGamma(\n",
       "  (params): JointNormalGammaStdParams(means=tensor([[-0.0848,  4.9653],\n",
       "          [-0.0848,  4.9653],\n",
       "          [-0.0848,  4.9653],\n",
       "          [-0.0848,  4.9653],\n",
       "          [-0.0848,  4.9653],\n",
       "          [-0.0848,  4.9653],\n",
       "          [-0.0848,  4.9653],\n",
       "          [-0.0848,  4.9653],\n",
       "          [-0.0848,  4.9653],\n",
       "          [-0.0848,  4.9653]], dtype=torch.float64), scales=tensor([  1.0000,   1.0000, 200.9999,   1.0000,   1.0000,   1.0000,   1.0000,\n",
       "            1.0000,   1.0000,   1.0000], dtype=torch.float64), shape=tensor(101.0000, dtype=torch.float64), rates=tensor([2575.6676,  187.8899], dtype=torch.float64))\n",
       ")"
      ]
     },
     "execution_count": 11,
     "metadata": {},
     "output_type": "execute_result"
    }
   ],
   "source": [
    "model.modelset.means_precision.posterior"
   ]
  },
  {
   "cell_type": "code",
   "execution_count": 9,
   "metadata": {},
   "outputs": [],
   "source": [
    "# We use the global mean/cov. matrix of the data to initialize the mixture.\n",
    "data_mean = torch.from_numpy(data.mean(axis=0)).double()\n",
    "data_var = torch.from_numpy(np.var(data, axis=0)).double()\n",
    "#data_mean = torch.zeros(2).double()\n",
    "#data_var = torch.ones(2).double()\n",
    "noise_std = .1\n",
    "\n",
    "# Isotropic covariance.\n",
    "modelset = beer.NormalSet.create(data_mean, data_var, size=10,\n",
    "                                prior_strength=1., noise_std=noise_std, \n",
    "                                cov_type='isotropic')\n",
    "gmm_iso = beer.Mixture.create(modelset, prior_strength=1.)\n",
    "\n",
    "# Diagonal covariance.\n",
    "modelset = beer.NormalSet.create(data_mean, data_var, size=10,\n",
    "                                prior_strength=1., noise_std=noise_std, \n",
    "                                cov_type='diagonal')\n",
    "gmm_diag = beer.Mixture.create(modelset, prior_strength=1.)\n",
    "\n",
    "# Full covariance.\n",
    "modelset = beer.NormalSet.create(data_mean, data_var, size=10,\n",
    "                                prior_strength=1., noise_std=noise_std, \n",
    "                                cov_type='full')\n",
    "gmm_full = beer.Mixture.create(modelset, prior_strength=1.)\n",
    "\n",
    "# Shared isotropic covariance.\n",
    "modelset = beer.NormalSet.create(data_mean, data_var.diag(), size=10,\n",
    "                                 prior_strength=1., noise_std=noise_std,\n",
    "                                 cov_type='isotropic', shared_cov=True)\n",
    "gmm_iso_shared = beer.Mixture.create(modelset, prior_strength=1.)\n",
    "\n",
    "# Shared diagonal covariance.\n",
    "modelset = beer.NormalSet.create(data_mean, data_var.diag(), size=10,\n",
    "                                 prior_strength=1., noise_std=noise_std,\n",
    "                                 cov_type='diagonal', shared_cov=True)\n",
    "gmm_diag_shared = beer.Mixture.create(modelset, prior_strength=1.)\n",
    "\n",
    "# Shared full covariance.\n",
    "modelset = beer.NormalSet.create(data_mean, data_var.diag(), size=10,\n",
    "                                 prior_strength=1., noise_std=noise_std,\n",
    "                                 cov_type='full', shared_cov=True)\n",
    "gmm_full_shared = beer.Mixture.create(modelset, prior_strength=1.)\n",
    "\n",
    "models = {\n",
    "    'gmm_iso': gmm_iso,\n",
    "    'gmm_diag': gmm_diag,\n",
    "    'gmm_full': gmm_full,\n",
    "    #'gmm_iso_shared': gmm_iso_shared,\n",
    "    #'gmm_diag_shared': gmm_diag_shared,\n",
    "    #'gmm_full_shared': gmm_full_shared,\n",
    "}"
   ]
  },
  {
   "cell_type": "code",
   "execution_count": 10,
   "metadata": {},
   "outputs": [
    {
     "data": {
      "text/plain": [
       "torch.Size([600, 1, 2])"
      ]
     },
     "execution_count": 10,
     "metadata": {},
     "output_type": "execute_result"
    }
   ],
   "source": [
    "nbatches = len(X)\n",
    "X = torch.from_numpy(data).double()\n",
    "test_X = torch.from_numpy(test_data).double()\n",
    "batches = X.view(nbatches, -1, 2)\n",
    "batches.shape"
   ]
  },
  {
   "cell_type": "code",
   "execution_count": 11,
   "metadata": {},
   "outputs": [
    {
     "ename": "KeyboardInterrupt",
     "evalue": "",
     "output_type": "error",
     "traceback": [
      "\u001b[0;31m---------------------------------------------------------------------------\u001b[0m",
      "\u001b[0;31mKeyboardInterrupt\u001b[0m                         Traceback (most recent call last)",
      "\u001b[0;32m<ipython-input-11-2101335b7174>\u001b[0m in \u001b[0;36m<module>\u001b[0;34m\u001b[0m\n\u001b[1;32m     14\u001b[0m             \u001b[0moptim\u001b[0m \u001b[0;34m=\u001b[0m \u001b[0moptims\u001b[0m\u001b[0;34m[\u001b[0m\u001b[0mname\u001b[0m\u001b[0;34m]\u001b[0m\u001b[0;34m\u001b[0m\u001b[0;34m\u001b[0m\u001b[0m\n\u001b[1;32m     15\u001b[0m             \u001b[0moptim\u001b[0m\u001b[0;34m.\u001b[0m\u001b[0minit_step\u001b[0m\u001b[0;34m(\u001b[0m\u001b[0mbatch_stats\u001b[0m\u001b[0;34m[\u001b[0m\u001b[0mname\u001b[0m\u001b[0;34m]\u001b[0m\u001b[0;34m[\u001b[0m\u001b[0mbatch_id\u001b[0m\u001b[0;34m]\u001b[0m\u001b[0;34m)\u001b[0m\u001b[0;34m\u001b[0m\u001b[0;34m\u001b[0m\u001b[0m\n\u001b[0;32m---> 16\u001b[0;31m             \u001b[0melbo\u001b[0m \u001b[0;34m=\u001b[0m \u001b[0mbeer\u001b[0m\u001b[0;34m.\u001b[0m\u001b[0mcollapsed_evidence_lower_bound\u001b[0m\u001b[0;34m(\u001b[0m\u001b[0mmodel\u001b[0m\u001b[0;34m,\u001b[0m \u001b[0mbatches\u001b[0m\u001b[0;34m[\u001b[0m\u001b[0mbatch_id\u001b[0m\u001b[0;34m]\u001b[0m\u001b[0;34m)\u001b[0m\u001b[0;34m\u001b[0m\u001b[0;34m\u001b[0m\u001b[0m\n\u001b[0m\u001b[1;32m     17\u001b[0m             \u001b[0mbatch_stats\u001b[0m\u001b[0;34m[\u001b[0m\u001b[0mname\u001b[0m\u001b[0;34m]\u001b[0m\u001b[0;34m[\u001b[0m\u001b[0mbatch_id\u001b[0m\u001b[0;34m]\u001b[0m \u001b[0;34m=\u001b[0m \u001b[0melbo\u001b[0m\u001b[0;34m.\u001b[0m\u001b[0mbackward\u001b[0m\u001b[0;34m(\u001b[0m\u001b[0;34m)\u001b[0m\u001b[0;34m\u001b[0m\u001b[0;34m\u001b[0m\u001b[0m\n\u001b[1;32m     18\u001b[0m             \u001b[0moptim\u001b[0m\u001b[0;34m.\u001b[0m\u001b[0mstep\u001b[0m\u001b[0;34m(\u001b[0m\u001b[0;34m)\u001b[0m\u001b[0;34m\u001b[0m\u001b[0;34m\u001b[0m\u001b[0m\n",
      "\u001b[0;32m~/beer/beer/inference/objectives.py\u001b[0m in \u001b[0;36mcollapsed_evidence_lower_bound\u001b[0;34m(model, minibatch_data, **kwargs)\u001b[0m\n\u001b[1;32m    284\u001b[0m     '''\n\u001b[1;32m    285\u001b[0m     \u001b[0mstats\u001b[0m \u001b[0;34m=\u001b[0m \u001b[0mmodel\u001b[0m\u001b[0;34m.\u001b[0m\u001b[0msufficient_statistics\u001b[0m\u001b[0;34m(\u001b[0m\u001b[0mminibatch_data\u001b[0m\u001b[0;34m)\u001b[0m\u001b[0;34m\u001b[0m\u001b[0;34m\u001b[0m\u001b[0m\n\u001b[0;32m--> 286\u001b[0;31m     \u001b[0melbo_value\u001b[0m \u001b[0;34m=\u001b[0m \u001b[0mmodel\u001b[0m\u001b[0;34m.\u001b[0m\u001b[0mmarginal_log_likelihood\u001b[0m\u001b[0;34m(\u001b[0m\u001b[0mstats\u001b[0m\u001b[0;34m,\u001b[0m \u001b[0;34m**\u001b[0m\u001b[0mkwargs\u001b[0m\u001b[0;34m)\u001b[0m\u001b[0;34m.\u001b[0m\u001b[0msum\u001b[0m\u001b[0;34m(\u001b[0m\u001b[0;34m)\u001b[0m\u001b[0;34m\u001b[0m\u001b[0;34m\u001b[0m\u001b[0m\n\u001b[0m\u001b[1;32m    287\u001b[0m     \u001b[0macc_stats\u001b[0m \u001b[0;34m=\u001b[0m \u001b[0mmodel\u001b[0m\u001b[0;34m.\u001b[0m\u001b[0maccumulate\u001b[0m\u001b[0;34m(\u001b[0m\u001b[0mtorch\u001b[0m\u001b[0;34m.\u001b[0m\u001b[0mtensor\u001b[0m\u001b[0;34m(\u001b[0m\u001b[0mstats\u001b[0m\u001b[0;34m)\u001b[0m\u001b[0;34m)\u001b[0m\u001b[0;34m\u001b[0m\u001b[0;34m\u001b[0m\u001b[0m\n\u001b[1;32m    288\u001b[0m     \u001b[0mmodel\u001b[0m\u001b[0;34m.\u001b[0m\u001b[0mclear_cache\u001b[0m\u001b[0;34m(\u001b[0m\u001b[0;34m)\u001b[0m\u001b[0;34m\u001b[0m\u001b[0;34m\u001b[0m\u001b[0m\n",
      "\u001b[0;32m~/beer/beer/models/mixture.py\u001b[0m in \u001b[0;36mmarginal_log_likelihood\u001b[0;34m(self, stats, labels, **kwargs)\u001b[0m\n\u001b[1;32m     98\u001b[0m         \u001b[0;31m# Per-components weighted log-likelihood.\u001b[0m\u001b[0;34m\u001b[0m\u001b[0;34m\u001b[0m\u001b[0;34m\u001b[0m\u001b[0m\n\u001b[1;32m     99\u001b[0m         \u001b[0mlog_weights\u001b[0m \u001b[0;34m=\u001b[0m \u001b[0mself\u001b[0m\u001b[0;34m.\u001b[0m\u001b[0mweights\u001b[0m\u001b[0;34m.\u001b[0m\u001b[0mexpected_value\u001b[0m\u001b[0;34m(\u001b[0m\u001b[0;34m)\u001b[0m\u001b[0;34m.\u001b[0m\u001b[0mview\u001b[0m\u001b[0;34m(\u001b[0m\u001b[0;36m1\u001b[0m\u001b[0;34m,\u001b[0m \u001b[0;34m-\u001b[0m\u001b[0;36m1\u001b[0m\u001b[0;34m)\u001b[0m\u001b[0;34m.\u001b[0m\u001b[0mlog\u001b[0m\u001b[0;34m(\u001b[0m\u001b[0;34m)\u001b[0m\u001b[0;34m\u001b[0m\u001b[0;34m\u001b[0m\u001b[0m\n\u001b[0;32m--> 100\u001b[0;31m         \u001b[0mpc_llh\u001b[0m \u001b[0;34m=\u001b[0m \u001b[0mself\u001b[0m\u001b[0;34m.\u001b[0m\u001b[0mmodelset\u001b[0m\u001b[0;34m.\u001b[0m\u001b[0mmarginal_log_likelihood\u001b[0m\u001b[0;34m(\u001b[0m\u001b[0mstats\u001b[0m\u001b[0;34m,\u001b[0m \u001b[0;34m**\u001b[0m\u001b[0mkwargs\u001b[0m\u001b[0;34m)\u001b[0m\u001b[0;34m\u001b[0m\u001b[0;34m\u001b[0m\u001b[0m\n\u001b[0m\u001b[1;32m    101\u001b[0m \u001b[0;34m\u001b[0m\u001b[0m\n\u001b[1;32m    102\u001b[0m         \u001b[0;31m# Responsibilities and expected llh.\u001b[0m\u001b[0;34m\u001b[0m\u001b[0;34m\u001b[0m\u001b[0;34m\u001b[0m\u001b[0m\n",
      "\u001b[0;32m~/beer/beer/models/normalset.py\u001b[0m in \u001b[0;36mmarginal_log_likelihood\u001b[0;34m(self, stats)\u001b[0m\n\u001b[1;32m    134\u001b[0m         \u001b[0;32mfor\u001b[0m \u001b[0mparam\u001b[0m \u001b[0;32min\u001b[0m \u001b[0mself\u001b[0m\u001b[0;34m.\u001b[0m\u001b[0mmeans_precisions\u001b[0m\u001b[0;34m:\u001b[0m\u001b[0;34m\u001b[0m\u001b[0;34m\u001b[0m\u001b[0m\n\u001b[1;32m    135\u001b[0m             \u001b[0mcls\u001b[0m \u001b[0;34m=\u001b[0m \u001b[0mNormalIsotropicCovariance\u001b[0m\u001b[0;34m\u001b[0m\u001b[0;34m\u001b[0m\u001b[0m\n\u001b[0;32m--> 136\u001b[0;31m             \u001b[0mc_m_llhs\u001b[0m \u001b[0;34m=\u001b[0m \u001b[0mcls\u001b[0m\u001b[0;34m.\u001b[0m\u001b[0m_marginal_log_likelihood\u001b[0m\u001b[0;34m(\u001b[0m\u001b[0mparam\u001b[0m\u001b[0;34m.\u001b[0m\u001b[0mposterior\u001b[0m\u001b[0;34m,\u001b[0m \u001b[0mstats\u001b[0m\u001b[0;34m)\u001b[0m\u001b[0;34m\u001b[0m\u001b[0;34m\u001b[0m\u001b[0m\n\u001b[0m\u001b[1;32m    137\u001b[0m             \u001b[0mm_llhs\u001b[0m\u001b[0;34m.\u001b[0m\u001b[0mappend\u001b[0m\u001b[0;34m(\u001b[0m\u001b[0mc_m_llhs\u001b[0m\u001b[0;34m.\u001b[0m\u001b[0mview\u001b[0m\u001b[0;34m(\u001b[0m\u001b[0;34m-\u001b[0m\u001b[0;36m1\u001b[0m\u001b[0;34m,\u001b[0m \u001b[0;36m1\u001b[0m\u001b[0;34m)\u001b[0m\u001b[0;34m)\u001b[0m\u001b[0;34m\u001b[0m\u001b[0;34m\u001b[0m\u001b[0m\n\u001b[1;32m    138\u001b[0m         \u001b[0;32mreturn\u001b[0m \u001b[0mtorch\u001b[0m\u001b[0;34m.\u001b[0m\u001b[0mcat\u001b[0m\u001b[0;34m(\u001b[0m\u001b[0mm_llhs\u001b[0m\u001b[0;34m,\u001b[0m \u001b[0mdim\u001b[0m\u001b[0;34m=\u001b[0m\u001b[0;34m-\u001b[0m\u001b[0;36m1\u001b[0m\u001b[0;34m)\u001b[0m\u001b[0;34m\u001b[0m\u001b[0;34m\u001b[0m\u001b[0m\n",
      "\u001b[0;32m~/beer/beer/models/normal.py\u001b[0m in \u001b[0;36m_marginal_log_likelihood\u001b[0;34m(prior, stats)\u001b[0m\n\u001b[1;32m    134\u001b[0m         \u001b[0mlnorm\u001b[0m \u001b[0;34m-=\u001b[0m \u001b[0;36m.5\u001b[0m \u001b[0;34m*\u001b[0m \u001b[0mdim\u001b[0m \u001b[0;34m*\u001b[0m \u001b[0mrate\u001b[0m\u001b[0;34m.\u001b[0m\u001b[0mlog\u001b[0m\u001b[0;34m(\u001b[0m\u001b[0;34m)\u001b[0m\u001b[0;34m\u001b[0m\u001b[0;34m\u001b[0m\u001b[0m\n\u001b[1;32m    135\u001b[0m         \u001b[0mdata\u001b[0m \u001b[0;34m=\u001b[0m \u001b[0mstats\u001b[0m\u001b[0;34m[\u001b[0m\u001b[0;34m:\u001b[0m\u001b[0;34m,\u001b[0m \u001b[0;36m1\u001b[0m\u001b[0;34m:\u001b[0m \u001b[0;36m1\u001b[0m \u001b[0;34m+\u001b[0m \u001b[0mdim\u001b[0m\u001b[0;34m]\u001b[0m\u001b[0;34m\u001b[0m\u001b[0;34m\u001b[0m\u001b[0m\n\u001b[0;32m--> 136\u001b[0;31m         \u001b[0mkernel\u001b[0m \u001b[0;34m=\u001b[0m \u001b[0;36m1\u001b[0m \u001b[0;34m+\u001b[0m \u001b[0;34m(\u001b[0m\u001b[0mdata\u001b[0m \u001b[0;34m-\u001b[0m \u001b[0mmean\u001b[0m\u001b[0;34m)\u001b[0m\u001b[0;34m.\u001b[0m\u001b[0mpow\u001b[0m\u001b[0;34m(\u001b[0m\u001b[0;36m2\u001b[0m\u001b[0;34m)\u001b[0m\u001b[0;34m.\u001b[0m\u001b[0msum\u001b[0m\u001b[0;34m(\u001b[0m\u001b[0mdim\u001b[0m\u001b[0;34m=\u001b[0m\u001b[0;34m-\u001b[0m\u001b[0;36m1\u001b[0m\u001b[0;34m)\u001b[0m \u001b[0;34m/\u001b[0m \u001b[0;34m(\u001b[0m\u001b[0;36m2\u001b[0m \u001b[0;34m*\u001b[0m \u001b[0malpha\u001b[0m \u001b[0;34m*\u001b[0m \u001b[0mrate\u001b[0m\u001b[0;34m)\u001b[0m\u001b[0;34m\u001b[0m\u001b[0;34m\u001b[0m\u001b[0m\n\u001b[0m\u001b[1;32m    137\u001b[0m         \u001b[0;31m#import pdb; pdb.set_trace()\u001b[0m\u001b[0;34m\u001b[0m\u001b[0;34m\u001b[0m\u001b[0;34m\u001b[0m\u001b[0m\n\u001b[1;32m    138\u001b[0m         \u001b[0;32mreturn\u001b[0m \u001b[0;34m-\u001b[0m \u001b[0;34m(\u001b[0m\u001b[0mshape\u001b[0m \u001b[0;34m+\u001b[0m \u001b[0;36m.5\u001b[0m \u001b[0;34m*\u001b[0m \u001b[0mdim\u001b[0m\u001b[0;34m)\u001b[0m \u001b[0;34m*\u001b[0m \u001b[0mkernel\u001b[0m\u001b[0;34m.\u001b[0m\u001b[0mlog\u001b[0m\u001b[0;34m(\u001b[0m\u001b[0;34m)\u001b[0m \u001b[0;34m+\u001b[0m \u001b[0mlnorm\u001b[0m\u001b[0;34m\u001b[0m\u001b[0;34m\u001b[0m\u001b[0m\n",
      "\u001b[0;31mKeyboardInterrupt\u001b[0m: "
     ]
    }
   ],
   "source": [
    "iters = 100\n",
    "\n",
    "batch_stats = {model_name: defaultdict(lambda: defaultdict(lambda: None))\n",
    "               for model_name in models}\n",
    "optims = {model_name: beer.CVBOptimizer(model.bayesian_parameters())\n",
    "          for model_name, model in models.items()}\n",
    "elbos = {model_name: [] for model_name in models}  \n",
    "\n",
    "for epoch in range(iters):\n",
    "    batch_ids = list(range(len(batches)))\n",
    "    random.shuffle(batch_ids)\n",
    "    for name, model in models.items():\n",
    "        for batch_id in batch_ids:\n",
    "            optim = optims[name]\n",
    "            optim.init_step(batch_stats[name][batch_id])\n",
    "            elbo = beer.collapsed_evidence_lower_bound(model, batches[batch_id])\n",
    "            batch_stats[name][batch_id] = elbo.backward()\n",
    "            optim.step()\n",
    "        log_pred = beer.evidence_lower_bound(model, X)\n",
    "        elbos[name].append(float(log_pred) / len(X))"
   ]
  },
  {
   "cell_type": "code",
   "execution_count": null,
   "metadata": {},
   "outputs": [],
   "source": [
    "colors = {\n",
    "    'gmm_iso': 'green',\n",
    "    'gmm_diag': 'blue',\n",
    "    'gmm_full': 'red',\n",
    "    'gmm_iso_shared': 'grey',\n",
    "    'gmm_diag_shared': 'brown',\n",
    "    'gmm_full_shared': 'black'\n",
    "    \n",
    "}\n",
    "# Plot the ELBO.\n",
    "elbo_fig = figure(width=500, height=500, x_axis_label='epoch',\n",
    "                  y_axis_label='ELBO (VBI)')\n",
    "for model_name, elbo in elbos.items():\n",
    "    elbo_fig.line(range(len(elbo)), elbo, line_dash='dashed', legend=model_name + ' (CVB)',\n",
    "                  color=colors[model_name])\n",
    "for model_name, elbo in svb_elbos.items():\n",
    "    elbo_fig.line(range(len(elbo)), elbo, legend=model_name + ' (VBI)',\n",
    "                  color=colors[model_name])\n",
    "elbo_fig.legend.location = 'bottom_right'\n",
    "\n",
    "show(elbo_fig)"
   ]
  },
  {
   "cell_type": "code",
   "execution_count": null,
   "metadata": {},
   "outputs": [],
   "source": [
    "2 "
   ]
  },
  {
   "cell_type": "code",
   "execution_count": null,
   "metadata": {},
   "outputs": [],
   "source": [
    "gmm_full = models['gmm_full']\n",
    "gmm_full.modelset.means_precisions[2].posterior.natural_parameters"
   ]
  },
  {
   "cell_type": "code",
   "execution_count": null,
   "metadata": {},
   "outputs": [],
   "source": [
    "figs = []\n",
    "for i, model_name in enumerate(models):\n",
    "    model = models[model_name]\n",
    "    fig = figure(x_range=global_range, y_range=global_range,\n",
    "              width=250, height=250)\n",
    "    fig.circle(data[:, 0], data[:, 1], alpha=.1)\n",
    "    plotting.plot_gmm(fig, model, alpha=.5, color=colors[model_name])\n",
    "    show(fig)"
   ]
  },
  {
   "cell_type": "code",
   "execution_count": null,
   "metadata": {},
   "outputs": [],
   "source": [
    "models['gmm_full'].weights.expected_value()"
   ]
  },
  {
   "cell_type": "code",
   "execution_count": null,
   "metadata": {},
   "outputs": [],
   "source": [
    "joint_nparams = gmm_full_shared.modelset.means_precision.posterior.natural_parameters\n",
    "np1, np2 = gmm_full_shared.modelset._split_natural_parameters(joint_nparams)\n",
    "np1 = torch.ones(len(np2), 1, dtype=np1.dtype) * np1.view(1, -1)\n",
    "np1.shape, np2.shape\n",
    "nparams1 = torch.cat([\n",
    "    np1[:, :-1], \n",
    "    np2,\n",
    "    np1[:, -1].view(-1, 1)\n",
    "], dim=1)\n",
    "nparams1 = nparams1[None]"
   ]
  },
  {
   "cell_type": "code",
   "execution_count": null,
   "metadata": {},
   "outputs": [],
   "source": [
    "stats = gmm_full_shared.modelset.sufficient_statistics(X)\n",
    "nparams2 = stats[:, None, :] + nparams1\n",
    "nparams2.shape"
   ]
  },
  {
   "cell_type": "code",
   "execution_count": null,
   "metadata": {
    "scrolled": false
   },
   "outputs": [],
   "source": [
    "post = gmm_full_shared.modelset.means_precision.posterior\n",
    "m_llh = post.joint_log_norm(nparams2) - post.joint_log_norm(nparams1)\n",
    "m_llh"
   ]
  },
  {
   "cell_type": "code",
   "execution_count": null,
   "metadata": {},
   "outputs": [],
   "source": [
    "m_llh[:10]"
   ]
  },
  {
   "cell_type": "code",
   "execution_count": null,
   "metadata": {},
   "outputs": [],
   "source": [
    "gmm_full_shared.modelset.marginal_log_likelihood(stats)"
   ]
  },
  {
   "cell_type": "code",
   "execution_count": null,
   "metadata": {},
   "outputs": [],
   "source": []
  }
 ],
 "metadata": {
  "kernelspec": {
   "display_name": "Python 3",
   "language": "python",
   "name": "python3"
  },
  "language_info": {
   "codemirror_mode": {
    "name": "ipython",
    "version": 3
   },
   "file_extension": ".py",
   "mimetype": "text/x-python",
   "name": "python",
   "nbconvert_exporter": "python",
   "pygments_lexer": "ipython3",
   "version": "3.7.1"
  }
 },
 "nbformat": 4,
 "nbformat_minor": 2
}
