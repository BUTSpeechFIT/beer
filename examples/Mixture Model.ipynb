{
 "cells": [
  {
   "cell_type": "markdown",
   "metadata": {},
   "source": [
    "# Bayesian Mixture Model\n",
    "\n",
    "This notebook illustrate how to build and train a Bayesian Mixture Model with the [beer framework](https://github.com/beer-asr/beer)."
   ]
  },
  {
   "cell_type": "code",
   "execution_count": 1,
   "metadata": {},
   "outputs": [
    {
     "data": {
      "text/html": [
       "\n",
       "    <div class=\"bk-root\">\n",
       "        <a href=\"https://bokeh.pydata.org\" target=\"_blank\" class=\"bk-logo bk-logo-small bk-logo-notebook\"></a>\n",
       "        <span id=\"1001\">Loading BokehJS ...</span>\n",
       "    </div>"
      ]
     },
     "metadata": {},
     "output_type": "display_data"
    },
    {
     "data": {
      "application/javascript": [
       "\n",
       "(function(root) {\n",
       "  function now() {\n",
       "    return new Date();\n",
       "  }\n",
       "\n",
       "  var force = true;\n",
       "\n",
       "  if (typeof (root._bokeh_onload_callbacks) === \"undefined\" || force === true) {\n",
       "    root._bokeh_onload_callbacks = [];\n",
       "    root._bokeh_is_loading = undefined;\n",
       "  }\n",
       "\n",
       "  var JS_MIME_TYPE = 'application/javascript';\n",
       "  var HTML_MIME_TYPE = 'text/html';\n",
       "  var EXEC_MIME_TYPE = 'application/vnd.bokehjs_exec.v0+json';\n",
       "  var CLASS_NAME = 'output_bokeh rendered_html';\n",
       "\n",
       "  /**\n",
       "   * Render data to the DOM node\n",
       "   */\n",
       "  function render(props, node) {\n",
       "    var script = document.createElement(\"script\");\n",
       "    node.appendChild(script);\n",
       "  }\n",
       "\n",
       "  /**\n",
       "   * Handle when an output is cleared or removed\n",
       "   */\n",
       "  function handleClearOutput(event, handle) {\n",
       "    var cell = handle.cell;\n",
       "\n",
       "    var id = cell.output_area._bokeh_element_id;\n",
       "    var server_id = cell.output_area._bokeh_server_id;\n",
       "    // Clean up Bokeh references\n",
       "    if (id != null && id in Bokeh.index) {\n",
       "      Bokeh.index[id].model.document.clear();\n",
       "      delete Bokeh.index[id];\n",
       "    }\n",
       "\n",
       "    if (server_id !== undefined) {\n",
       "      // Clean up Bokeh references\n",
       "      var cmd = \"from bokeh.io.state import curstate; print(curstate().uuid_to_server['\" + server_id + \"'].get_sessions()[0].document.roots[0]._id)\";\n",
       "      cell.notebook.kernel.execute(cmd, {\n",
       "        iopub: {\n",
       "          output: function(msg) {\n",
       "            var id = msg.content.text.trim();\n",
       "            if (id in Bokeh.index) {\n",
       "              Bokeh.index[id].model.document.clear();\n",
       "              delete Bokeh.index[id];\n",
       "            }\n",
       "          }\n",
       "        }\n",
       "      });\n",
       "      // Destroy server and session\n",
       "      var cmd = \"import bokeh.io.notebook as ion; ion.destroy_server('\" + server_id + \"')\";\n",
       "      cell.notebook.kernel.execute(cmd);\n",
       "    }\n",
       "  }\n",
       "\n",
       "  /**\n",
       "   * Handle when a new output is added\n",
       "   */\n",
       "  function handleAddOutput(event, handle) {\n",
       "    var output_area = handle.output_area;\n",
       "    var output = handle.output;\n",
       "\n",
       "    // limit handleAddOutput to display_data with EXEC_MIME_TYPE content only\n",
       "    if ((output.output_type != \"display_data\") || (!output.data.hasOwnProperty(EXEC_MIME_TYPE))) {\n",
       "      return\n",
       "    }\n",
       "\n",
       "    var toinsert = output_area.element.find(\".\" + CLASS_NAME.split(' ')[0]);\n",
       "\n",
       "    if (output.metadata[EXEC_MIME_TYPE][\"id\"] !== undefined) {\n",
       "      toinsert[toinsert.length - 1].firstChild.textContent = output.data[JS_MIME_TYPE];\n",
       "      // store reference to embed id on output_area\n",
       "      output_area._bokeh_element_id = output.metadata[EXEC_MIME_TYPE][\"id\"];\n",
       "    }\n",
       "    if (output.metadata[EXEC_MIME_TYPE][\"server_id\"] !== undefined) {\n",
       "      var bk_div = document.createElement(\"div\");\n",
       "      bk_div.innerHTML = output.data[HTML_MIME_TYPE];\n",
       "      var script_attrs = bk_div.children[0].attributes;\n",
       "      for (var i = 0; i < script_attrs.length; i++) {\n",
       "        toinsert[toinsert.length - 1].firstChild.setAttribute(script_attrs[i].name, script_attrs[i].value);\n",
       "      }\n",
       "      // store reference to server id on output_area\n",
       "      output_area._bokeh_server_id = output.metadata[EXEC_MIME_TYPE][\"server_id\"];\n",
       "    }\n",
       "  }\n",
       "\n",
       "  function register_renderer(events, OutputArea) {\n",
       "\n",
       "    function append_mime(data, metadata, element) {\n",
       "      // create a DOM node to render to\n",
       "      var toinsert = this.create_output_subarea(\n",
       "        metadata,\n",
       "        CLASS_NAME,\n",
       "        EXEC_MIME_TYPE\n",
       "      );\n",
       "      this.keyboard_manager.register_events(toinsert);\n",
       "      // Render to node\n",
       "      var props = {data: data, metadata: metadata[EXEC_MIME_TYPE]};\n",
       "      render(props, toinsert[toinsert.length - 1]);\n",
       "      element.append(toinsert);\n",
       "      return toinsert\n",
       "    }\n",
       "\n",
       "    /* Handle when an output is cleared or removed */\n",
       "    events.on('clear_output.CodeCell', handleClearOutput);\n",
       "    events.on('delete.Cell', handleClearOutput);\n",
       "\n",
       "    /* Handle when a new output is added */\n",
       "    events.on('output_added.OutputArea', handleAddOutput);\n",
       "\n",
       "    /**\n",
       "     * Register the mime type and append_mime function with output_area\n",
       "     */\n",
       "    OutputArea.prototype.register_mime_type(EXEC_MIME_TYPE, append_mime, {\n",
       "      /* Is output safe? */\n",
       "      safe: true,\n",
       "      /* Index of renderer in `output_area.display_order` */\n",
       "      index: 0\n",
       "    });\n",
       "  }\n",
       "\n",
       "  // register the mime type if in Jupyter Notebook environment and previously unregistered\n",
       "  if (root.Jupyter !== undefined) {\n",
       "    var events = require('base/js/events');\n",
       "    var OutputArea = require('notebook/js/outputarea').OutputArea;\n",
       "\n",
       "    if (OutputArea.prototype.mime_types().indexOf(EXEC_MIME_TYPE) == -1) {\n",
       "      register_renderer(events, OutputArea);\n",
       "    }\n",
       "  }\n",
       "\n",
       "  \n",
       "  if (typeof (root._bokeh_timeout) === \"undefined\" || force === true) {\n",
       "    root._bokeh_timeout = Date.now() + 5000;\n",
       "    root._bokeh_failed_load = false;\n",
       "  }\n",
       "\n",
       "  var NB_LOAD_WARNING = {'data': {'text/html':\n",
       "     \"<div style='background-color: #fdd'>\\n\"+\n",
       "     \"<p>\\n\"+\n",
       "     \"BokehJS does not appear to have successfully loaded. If loading BokehJS from CDN, this \\n\"+\n",
       "     \"may be due to a slow or bad network connection. Possible fixes:\\n\"+\n",
       "     \"</p>\\n\"+\n",
       "     \"<ul>\\n\"+\n",
       "     \"<li>re-rerun `output_notebook()` to attempt to load from CDN again, or</li>\\n\"+\n",
       "     \"<li>use INLINE resources instead, as so:</li>\\n\"+\n",
       "     \"</ul>\\n\"+\n",
       "     \"<code>\\n\"+\n",
       "     \"from bokeh.resources import INLINE\\n\"+\n",
       "     \"output_notebook(resources=INLINE)\\n\"+\n",
       "     \"</code>\\n\"+\n",
       "     \"</div>\"}};\n",
       "\n",
       "  function display_loaded() {\n",
       "    var el = document.getElementById(\"1001\");\n",
       "    if (el != null) {\n",
       "      el.textContent = \"BokehJS is loading...\";\n",
       "    }\n",
       "    if (root.Bokeh !== undefined) {\n",
       "      if (el != null) {\n",
       "        el.textContent = \"BokehJS \" + root.Bokeh.version + \" successfully loaded.\";\n",
       "      }\n",
       "    } else if (Date.now() < root._bokeh_timeout) {\n",
       "      setTimeout(display_loaded, 100)\n",
       "    }\n",
       "  }\n",
       "\n",
       "\n",
       "  function run_callbacks() {\n",
       "    try {\n",
       "      root._bokeh_onload_callbacks.forEach(function(callback) { callback() });\n",
       "    }\n",
       "    finally {\n",
       "      delete root._bokeh_onload_callbacks\n",
       "    }\n",
       "    console.info(\"Bokeh: all callbacks have finished\");\n",
       "  }\n",
       "\n",
       "  function load_libs(js_urls, callback) {\n",
       "    root._bokeh_onload_callbacks.push(callback);\n",
       "    if (root._bokeh_is_loading > 0) {\n",
       "      console.log(\"Bokeh: BokehJS is being loaded, scheduling callback at\", now());\n",
       "      return null;\n",
       "    }\n",
       "    if (js_urls == null || js_urls.length === 0) {\n",
       "      run_callbacks();\n",
       "      return null;\n",
       "    }\n",
       "    console.log(\"Bokeh: BokehJS not loaded, scheduling load and callback at\", now());\n",
       "    root._bokeh_is_loading = js_urls.length;\n",
       "    for (var i = 0; i < js_urls.length; i++) {\n",
       "      var url = js_urls[i];\n",
       "      var s = document.createElement('script');\n",
       "      s.src = url;\n",
       "      s.async = false;\n",
       "      s.onreadystatechange = s.onload = function() {\n",
       "        root._bokeh_is_loading--;\n",
       "        if (root._bokeh_is_loading === 0) {\n",
       "          console.log(\"Bokeh: all BokehJS libraries loaded\");\n",
       "          run_callbacks()\n",
       "        }\n",
       "      };\n",
       "      s.onerror = function() {\n",
       "        console.warn(\"failed to load library \" + url);\n",
       "      };\n",
       "      console.log(\"Bokeh: injecting script tag for BokehJS library: \", url);\n",
       "      document.getElementsByTagName(\"head\")[0].appendChild(s);\n",
       "    }\n",
       "  };var element = document.getElementById(\"1001\");\n",
       "  if (element == null) {\n",
       "    console.log(\"Bokeh: ERROR: autoload.js configured with elementid '1001' but no matching script tag was found. \")\n",
       "    return false;\n",
       "  }\n",
       "\n",
       "  var js_urls = [\"https://cdn.pydata.org/bokeh/release/bokeh-1.0.0.min.js\", \"https://cdn.pydata.org/bokeh/release/bokeh-widgets-1.0.0.min.js\", \"https://cdn.pydata.org/bokeh/release/bokeh-tables-1.0.0.min.js\", \"https://cdn.pydata.org/bokeh/release/bokeh-gl-1.0.0.min.js\"];\n",
       "\n",
       "  var inline_js = [\n",
       "    function(Bokeh) {\n",
       "      Bokeh.set_log_level(\"info\");\n",
       "    },\n",
       "    \n",
       "    function(Bokeh) {\n",
       "      \n",
       "    },\n",
       "    function(Bokeh) {\n",
       "      console.log(\"Bokeh: injecting CSS: https://cdn.pydata.org/bokeh/release/bokeh-1.0.0.min.css\");\n",
       "      Bokeh.embed.inject_css(\"https://cdn.pydata.org/bokeh/release/bokeh-1.0.0.min.css\");\n",
       "      console.log(\"Bokeh: injecting CSS: https://cdn.pydata.org/bokeh/release/bokeh-widgets-1.0.0.min.css\");\n",
       "      Bokeh.embed.inject_css(\"https://cdn.pydata.org/bokeh/release/bokeh-widgets-1.0.0.min.css\");\n",
       "      console.log(\"Bokeh: injecting CSS: https://cdn.pydata.org/bokeh/release/bokeh-tables-1.0.0.min.css\");\n",
       "      Bokeh.embed.inject_css(\"https://cdn.pydata.org/bokeh/release/bokeh-tables-1.0.0.min.css\");\n",
       "    }\n",
       "  ];\n",
       "\n",
       "  function run_inline_js() {\n",
       "    \n",
       "    if ((root.Bokeh !== undefined) || (force === true)) {\n",
       "      for (var i = 0; i < inline_js.length; i++) {\n",
       "        inline_js[i].call(root, root.Bokeh);\n",
       "      }if (force === true) {\n",
       "        display_loaded();\n",
       "      }} else if (Date.now() < root._bokeh_timeout) {\n",
       "      setTimeout(run_inline_js, 100);\n",
       "    } else if (!root._bokeh_failed_load) {\n",
       "      console.log(\"Bokeh: BokehJS failed to load within specified timeout.\");\n",
       "      root._bokeh_failed_load = true;\n",
       "    } else if (force !== true) {\n",
       "      var cell = $(document.getElementById(\"1001\")).parents('.cell').data().cell;\n",
       "      cell.output_area.append_execute_result(NB_LOAD_WARNING)\n",
       "    }\n",
       "\n",
       "  }\n",
       "\n",
       "  if (root._bokeh_is_loading === 0) {\n",
       "    console.log(\"Bokeh: BokehJS loaded, going straight to plotting\");\n",
       "    run_inline_js();\n",
       "  } else {\n",
       "    load_libs(js_urls, function() {\n",
       "      console.log(\"Bokeh: BokehJS plotting callback run at\", now());\n",
       "      run_inline_js();\n",
       "    });\n",
       "  }\n",
       "}(window));"
      ],
      "application/vnd.bokehjs_load.v0+json": "\n(function(root) {\n  function now() {\n    return new Date();\n  }\n\n  var force = true;\n\n  if (typeof (root._bokeh_onload_callbacks) === \"undefined\" || force === true) {\n    root._bokeh_onload_callbacks = [];\n    root._bokeh_is_loading = undefined;\n  }\n\n  \n\n  \n  if (typeof (root._bokeh_timeout) === \"undefined\" || force === true) {\n    root._bokeh_timeout = Date.now() + 5000;\n    root._bokeh_failed_load = false;\n  }\n\n  var NB_LOAD_WARNING = {'data': {'text/html':\n     \"<div style='background-color: #fdd'>\\n\"+\n     \"<p>\\n\"+\n     \"BokehJS does not appear to have successfully loaded. If loading BokehJS from CDN, this \\n\"+\n     \"may be due to a slow or bad network connection. Possible fixes:\\n\"+\n     \"</p>\\n\"+\n     \"<ul>\\n\"+\n     \"<li>re-rerun `output_notebook()` to attempt to load from CDN again, or</li>\\n\"+\n     \"<li>use INLINE resources instead, as so:</li>\\n\"+\n     \"</ul>\\n\"+\n     \"<code>\\n\"+\n     \"from bokeh.resources import INLINE\\n\"+\n     \"output_notebook(resources=INLINE)\\n\"+\n     \"</code>\\n\"+\n     \"</div>\"}};\n\n  function display_loaded() {\n    var el = document.getElementById(\"1001\");\n    if (el != null) {\n      el.textContent = \"BokehJS is loading...\";\n    }\n    if (root.Bokeh !== undefined) {\n      if (el != null) {\n        el.textContent = \"BokehJS \" + root.Bokeh.version + \" successfully loaded.\";\n      }\n    } else if (Date.now() < root._bokeh_timeout) {\n      setTimeout(display_loaded, 100)\n    }\n  }\n\n\n  function run_callbacks() {\n    try {\n      root._bokeh_onload_callbacks.forEach(function(callback) { callback() });\n    }\n    finally {\n      delete root._bokeh_onload_callbacks\n    }\n    console.info(\"Bokeh: all callbacks have finished\");\n  }\n\n  function load_libs(js_urls, callback) {\n    root._bokeh_onload_callbacks.push(callback);\n    if (root._bokeh_is_loading > 0) {\n      console.log(\"Bokeh: BokehJS is being loaded, scheduling callback at\", now());\n      return null;\n    }\n    if (js_urls == null || js_urls.length === 0) {\n      run_callbacks();\n      return null;\n    }\n    console.log(\"Bokeh: BokehJS not loaded, scheduling load and callback at\", now());\n    root._bokeh_is_loading = js_urls.length;\n    for (var i = 0; i < js_urls.length; i++) {\n      var url = js_urls[i];\n      var s = document.createElement('script');\n      s.src = url;\n      s.async = false;\n      s.onreadystatechange = s.onload = function() {\n        root._bokeh_is_loading--;\n        if (root._bokeh_is_loading === 0) {\n          console.log(\"Bokeh: all BokehJS libraries loaded\");\n          run_callbacks()\n        }\n      };\n      s.onerror = function() {\n        console.warn(\"failed to load library \" + url);\n      };\n      console.log(\"Bokeh: injecting script tag for BokehJS library: \", url);\n      document.getElementsByTagName(\"head\")[0].appendChild(s);\n    }\n  };var element = document.getElementById(\"1001\");\n  if (element == null) {\n    console.log(\"Bokeh: ERROR: autoload.js configured with elementid '1001' but no matching script tag was found. \")\n    return false;\n  }\n\n  var js_urls = [\"https://cdn.pydata.org/bokeh/release/bokeh-1.0.0.min.js\", \"https://cdn.pydata.org/bokeh/release/bokeh-widgets-1.0.0.min.js\", \"https://cdn.pydata.org/bokeh/release/bokeh-tables-1.0.0.min.js\", \"https://cdn.pydata.org/bokeh/release/bokeh-gl-1.0.0.min.js\"];\n\n  var inline_js = [\n    function(Bokeh) {\n      Bokeh.set_log_level(\"info\");\n    },\n    \n    function(Bokeh) {\n      \n    },\n    function(Bokeh) {\n      console.log(\"Bokeh: injecting CSS: https://cdn.pydata.org/bokeh/release/bokeh-1.0.0.min.css\");\n      Bokeh.embed.inject_css(\"https://cdn.pydata.org/bokeh/release/bokeh-1.0.0.min.css\");\n      console.log(\"Bokeh: injecting CSS: https://cdn.pydata.org/bokeh/release/bokeh-widgets-1.0.0.min.css\");\n      Bokeh.embed.inject_css(\"https://cdn.pydata.org/bokeh/release/bokeh-widgets-1.0.0.min.css\");\n      console.log(\"Bokeh: injecting CSS: https://cdn.pydata.org/bokeh/release/bokeh-tables-1.0.0.min.css\");\n      Bokeh.embed.inject_css(\"https://cdn.pydata.org/bokeh/release/bokeh-tables-1.0.0.min.css\");\n    }\n  ];\n\n  function run_inline_js() {\n    \n    if ((root.Bokeh !== undefined) || (force === true)) {\n      for (var i = 0; i < inline_js.length; i++) {\n        inline_js[i].call(root, root.Bokeh);\n      }if (force === true) {\n        display_loaded();\n      }} else if (Date.now() < root._bokeh_timeout) {\n      setTimeout(run_inline_js, 100);\n    } else if (!root._bokeh_failed_load) {\n      console.log(\"Bokeh: BokehJS failed to load within specified timeout.\");\n      root._bokeh_failed_load = true;\n    } else if (force !== true) {\n      var cell = $(document.getElementById(\"1001\")).parents('.cell').data().cell;\n      cell.output_area.append_execute_result(NB_LOAD_WARNING)\n    }\n\n  }\n\n  if (root._bokeh_is_loading === 0) {\n    console.log(\"Bokeh: BokehJS loaded, going straight to plotting\");\n    run_inline_js();\n  } else {\n    load_libs(js_urls, function() {\n      console.log(\"Bokeh: BokehJS plotting callback run at\", now());\n      run_inline_js();\n    });\n  }\n}(window));"
     },
     "metadata": {},
     "output_type": "display_data"
    }
   ],
   "source": [
    "# Add \"beer\" to the PYTHONPATH\n",
    "from collections import defaultdict\n",
    "import random\n",
    "import sys\n",
    "sys.path.insert(0, '../')\n",
    "\n",
    "import copy\n",
    "\n",
    "import beer\n",
    "import numpy as np\n",
    "import torch\n",
    "\n",
    "# For plotting.\n",
    "from bokeh.io import show, output_notebook\n",
    "from bokeh.plotting import figure, gridplot\n",
    "from bokeh.models import LinearAxis, Range1d\n",
    "output_notebook()\n",
    "\n",
    "# Convenience functions for plotting.\n",
    "import plotting\n",
    "\n",
    "%load_ext autoreload\n",
    "%autoreload 2"
   ]
  },
  {
   "cell_type": "markdown",
   "metadata": {},
   "source": [
    "## Data\n",
    "\n",
    "As an illustration, we generate a synthetic data set composed of two Normal distributed cluster. One has a diagonal covariance matrix whereas the other has a dense covariance matrix."
   ]
  },
  {
   "cell_type": "code",
   "execution_count": 2,
   "metadata": {},
   "outputs": [
    {
     "name": "stdout",
     "output_type": "stream",
     "text": [
      "(200, 2)\n"
     ]
    }
   ],
   "source": [
    "N = 100\n",
    "\n",
    "# First cluster.\n",
    "mean = np.array([-5, 5]) \n",
    "cov = .5 *np.array([[.75, 0.], [0, 5.]])\n",
    "data1 = np.random.multivariate_normal(mean, cov, size=N)\n",
    "\n",
    "# Second cluster.\n",
    "mean = np.array([5, 5]) \n",
    "cov = 2 * np.array([[2, -.5], [-.5, .75]])\n",
    "data2 = np.random.multivariate_normal(mean, cov, size=N)\n",
    "\n",
    "# Merge everything to get the finale data set.\n",
    "data = np.vstack([data1, data2])\n",
    "np.random.shuffle(data)\n",
    "\n",
    "# First cluster.\n",
    "mean = np.array([-5, 5]) \n",
    "cov = .5 *np.array([[.75, 0.], [0, 5.]])\n",
    "data1 = np.random.multivariate_normal(mean, cov, size=N)\n",
    "\n",
    "# Second cluster.\n",
    "mean = np.array([5, 5]) \n",
    "cov = 2 * np.array([[2, -.5], [-.5, .75]])\n",
    "data2 = np.random.multivariate_normal(mean, cov, size=N)\n",
    "\n",
    "# Merge everything to get the finale data set.\n",
    "test_data = np.vstack([data1, data2])\n",
    "np.random.shuffle(test_data)\n",
    "\n",
    "print(data.shape)"
   ]
  },
  {
   "cell_type": "code",
   "execution_count": 3,
   "metadata": {},
   "outputs": [
    {
     "data": {
      "text/html": [
       "\n",
       "\n",
       "\n",
       "\n",
       "\n",
       "\n",
       "  <div class=\"bk-root\" id=\"765558db-4417-4030-a808-d66fbcd01488\"></div>\n"
      ]
     },
     "metadata": {},
     "output_type": "display_data"
    },
    {
     "data": {
      "application/javascript": [
       "(function(root) {\n",
       "  function embed_document(root) {\n",
       "    \n",
       "  var docs_json = {\"b9b976ee-5c61-4649-bd74-9189498e02bd\":{\"roots\":{\"references\":[{\"attributes\":{\"below\":[{\"id\":\"1011\",\"type\":\"LinearAxis\"}],\"left\":[{\"id\":\"1016\",\"type\":\"LinearAxis\"}],\"plot_height\":300,\"plot_width\":300,\"renderers\":[{\"id\":\"1011\",\"type\":\"LinearAxis\"},{\"id\":\"1015\",\"type\":\"Grid\"},{\"id\":\"1016\",\"type\":\"LinearAxis\"},{\"id\":\"1020\",\"type\":\"Grid\"},{\"id\":\"1029\",\"type\":\"BoxAnnotation\"},{\"id\":\"1039\",\"type\":\"GlyphRenderer\"}],\"title\":{\"id\":\"1042\",\"type\":\"Title\"},\"toolbar\":{\"id\":\"1027\",\"type\":\"Toolbar\"},\"x_range\":{\"id\":\"1003\",\"type\":\"Range1d\"},\"x_scale\":{\"id\":\"1007\",\"type\":\"LinearScale\"},\"y_range\":{\"id\":\"1005\",\"type\":\"Range1d\"},\"y_scale\":{\"id\":\"1009\",\"type\":\"LinearScale\"}},\"id\":\"1002\",\"subtype\":\"Figure\",\"type\":\"Plot\"},{\"attributes\":{\"formatter\":{\"id\":\"1044\",\"type\":\"BasicTickFormatter\"},\"plot\":{\"id\":\"1002\",\"subtype\":\"Figure\",\"type\":\"Plot\"},\"ticker\":{\"id\":\"1012\",\"type\":\"BasicTicker\"}},\"id\":\"1011\",\"type\":\"LinearAxis\"},{\"attributes\":{\"source\":{\"id\":\"1036\",\"type\":\"ColumnDataSource\"}},\"id\":\"1040\",\"type\":\"CDSView\"},{\"attributes\":{},\"id\":\"1012\",\"type\":\"BasicTicker\"},{\"attributes\":{\"plot\":null,\"text\":\"\"},\"id\":\"1042\",\"type\":\"Title\"},{\"attributes\":{\"plot\":{\"id\":\"1002\",\"subtype\":\"Figure\",\"type\":\"Plot\"},\"ticker\":{\"id\":\"1012\",\"type\":\"BasicTicker\"}},\"id\":\"1015\",\"type\":\"Grid\"},{\"attributes\":{},\"id\":\"1046\",\"type\":\"BasicTickFormatter\"},{\"attributes\":{\"formatter\":{\"id\":\"1046\",\"type\":\"BasicTickFormatter\"},\"plot\":{\"id\":\"1002\",\"subtype\":\"Figure\",\"type\":\"Plot\"},\"ticker\":{\"id\":\"1017\",\"type\":\"BasicTicker\"}},\"id\":\"1016\",\"type\":\"LinearAxis\"},{\"attributes\":{},\"id\":\"1048\",\"type\":\"UnionRenderers\"},{\"attributes\":{},\"id\":\"1017\",\"type\":\"BasicTicker\"},{\"attributes\":{},\"id\":\"1049\",\"type\":\"Selection\"},{\"attributes\":{\"dimension\":1,\"plot\":{\"id\":\"1002\",\"subtype\":\"Figure\",\"type\":\"Plot\"},\"ticker\":{\"id\":\"1017\",\"type\":\"BasicTicker\"}},\"id\":\"1020\",\"type\":\"Grid\"},{\"attributes\":{\"fill_alpha\":{\"value\":0.1},\"fill_color\":{\"value\":\"#1f77b4\"},\"line_alpha\":{\"value\":0.1},\"line_color\":{\"value\":\"#1f77b4\"},\"x\":{\"field\":\"x\"},\"y\":{\"field\":\"y\"}},\"id\":\"1038\",\"type\":\"Circle\"},{\"attributes\":{\"fill_color\":{\"value\":\"#1f77b4\"},\"line_color\":{\"value\":\"#1f77b4\"},\"x\":{\"field\":\"x\"},\"y\":{\"field\":\"y\"}},\"id\":\"1037\",\"type\":\"Circle\"},{\"attributes\":{},\"id\":\"1044\",\"type\":\"BasicTickFormatter\"},{\"attributes\":{},\"id\":\"1021\",\"type\":\"PanTool\"},{\"attributes\":{},\"id\":\"1022\",\"type\":\"WheelZoomTool\"},{\"attributes\":{\"overlay\":{\"id\":\"1029\",\"type\":\"BoxAnnotation\"}},\"id\":\"1023\",\"type\":\"BoxZoomTool\"},{\"attributes\":{},\"id\":\"1024\",\"type\":\"SaveTool\"},{\"attributes\":{\"callback\":null,\"data\":{\"x\":{\"__ndarray__\":\"xt6SGuI2F8CKc+FhDMASQBBt4Z5pxw7An9hrsacyE8DLwNQPgC8RwGo1t3dKaRXABgJA7ofFEsBb5BOAQRAQQAqmINWBI/U/gknjX8qvAkD27Xm7Y2gUwBiNNK092B5AtQz084c4DsCKkud0UOMIQE54NMLXnw7AFQcjknEUGMAb0Xrx7XUTQCovXk5VmwlA5mV/Qb6KFMD2m9BXQa0XwJ3gr0RmHRVANJKxJ6Bf+j89+MAgVgsUwFIYxMhIrBVAqLNmbZgDFkBqsKCYOzoVwIg231GYmOs/hHqVRIbvE8A+sgeAKqMkQBAXIgBWABTAAMMaYJkhyD8mZQOrlFr7P7pzf1YBgBXABqFIu5wFAUCxpXthW/0TwMQGV7dTmRLAWb/l0q1eCUC/AfSlcbkTQIVh3mG3ixLAihDBr8wQ8j/EzQR77+YTQMmeZKJxMhNA7CTE067cEsC68vcgRdIWwJQT8V1lufI/Aie9T4aTEMBMdbqUY20WQAL8/G3CdhVABj0pOEubF8BPwKkd2ooTwKUpBwryOxVAlyjdksp5F0AEXMEf59sdQD6TUQfgexPAGbwzX7n8BUAvrNiaBhgSwGj/93NRShTAtQZfM+3HEsDID4qK/iIRQHx0UGH/mxHAsF9fMR4dF8BKXgN8rQYWwCiXaCPQ+RLAuv4MWvwcGEAujLhcDlQWwHCizR8Svg/AesOPd6+KEsApCXfh/gAUwL0vxCyG1AFAThLzlIYSEkDynrhlT1AVwB4TOMCaphHAVQwOHekXEMDT0MdoTgQXQHQbFBRdAxbAf6hWRRS/EMACBoH8Ti0YQEZoh7SD9xVAKbGITe/NGkCb7l8dBjQSwFPdRxlXxxZAqkOGkGuGFsCamdIHuMAbwHgYY1MKRxLAypeVD2pwIEDjeeuUsMMTwIkxb06hpRTAliC4b3cQGUBFcgJXn5gRQB57ginG7RLAbLpAf60wHECy6+IhDSsfQO2ReGj3OxPA/OEE1K0NDkBGr0JPf/wWwFr87CeJ5xRAU1FxifguEMAka8wS0e8IQPdzzbsI7BNAP/JIBZn9EMCQv5olH6MQwEF8xNrDsxZAe4B8qMqsFkDekxClViMUQPhC7QRwywBAZytm4asGEkAzFGY6Z2gOQHBrX4pFvBnAy8FKDVyiEcAgZp/pQ7cPQOD7TZMfGxhAbpvg4pCjCUCmSeNQo/kSwC/yomGrdQBAmECbgOnAEcAZFZMMbGIeQKh0PJUs5ui/EDq21WVDEsDRBZ7pFLUTQMT97cpj6xTACD5ATb6mEsC9u15Ly7USQAueFp70mxRAAMVC7RRC9j/CRk3vz30WwGk3VOyGaRXA/sn95dfOFkC+PktHc10XQJiqddpz1RXAC+iLmrfHE0AFj3v5b0cYwNUVN+AqghFAAJ6FZCH9E8BgbPUKemsTwCqc4ypEpwZA7164nNWjEsCnrseqB60YQGxC36fInANAPLJgCSvrGECylCYwpokTwNegxTDYsRfApsM+6NzfBkARBfVtnnYQwHOHsnFKehtAOmm/ZO80EsCcqRAxnqUMQL/HI4vGCBXAMANpe0sP3D92llzgzEUYwDhp4FsRlhLAp6xn4N6wFMBqoVzK/WUSwAB0d5mYWwtAqqJnoAsIG0DgnkKn9z0QwOpAGnpgABnAbO9D+MpPHUC7LHh8iOwPwMoHourK5xdA6yiXIRwYE8AyQI+Hx6cSwJtu2+gNABbATdLT73MOEcD1Vjch2C0RQNrn+FsUphJAiT/jMo8xFUAwHCgqncHbP4yMzNVaxgxAVr2O2RfSFsCAr2QjBBS5PxP3p0qGixLAfe9Nh6o1EMD7wApFNmAUwH9xwMo/oAhAEXWxFwo/FUB9CO7kGnATwCcnJT8dNRbA/i6MQNuMEMDuLgJL3iEXQLZGu7s+mxdAE01PQuL+EECjiaQ6TuQQQJoXHP6fsg1AtbcCtkx1AkCalCj43yseQEPL7YbVGSNAc+vPPMgOEsDkcXoqs5QTwGLVQJZ7oBZAQAjsI3gNC0C8KVUsjBUVwEUkjz4khBtA/PzlAnmnFcAAwercZc8TwA427CGebRHA6oXBU4tOFcCqGkcd0xIaQPKlPE8I0QxAbLS8C3E7E8A350mqQxUSwA==\",\"dtype\":\"float64\",\"shape\":[200]},\"y\":{\"__ndarray__\":\"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\",\"dtype\":\"float64\",\"shape\":[200]}},\"selected\":{\"id\":\"1049\",\"type\":\"Selection\"},\"selection_policy\":{\"id\":\"1048\",\"type\":\"UnionRenderers\"}},\"id\":\"1036\",\"type\":\"ColumnDataSource\"},{\"attributes\":{},\"id\":\"1025\",\"type\":\"ResetTool\"},{\"attributes\":{\"callback\":null,\"end\":14.841497623394364,\"start\":-10.159169310791517},\"id\":\"1003\",\"type\":\"Range1d\"},{\"attributes\":{},\"id\":\"1026\",\"type\":\"HelpTool\"},{\"attributes\":{\"callback\":null,\"end\":14.841497623394364,\"start\":-10.159169310791517},\"id\":\"1005\",\"type\":\"Range1d\"},{\"attributes\":{\"active_drag\":\"auto\",\"active_inspect\":\"auto\",\"active_multi\":null,\"active_scroll\":\"auto\",\"active_tap\":\"auto\",\"tools\":[{\"id\":\"1021\",\"type\":\"PanTool\"},{\"id\":\"1022\",\"type\":\"WheelZoomTool\"},{\"id\":\"1023\",\"type\":\"BoxZoomTool\"},{\"id\":\"1024\",\"type\":\"SaveTool\"},{\"id\":\"1025\",\"type\":\"ResetTool\"},{\"id\":\"1026\",\"type\":\"HelpTool\"}]},\"id\":\"1027\",\"type\":\"Toolbar\"},{\"attributes\":{},\"id\":\"1007\",\"type\":\"LinearScale\"},{\"attributes\":{\"bottom_units\":\"screen\",\"fill_alpha\":{\"value\":0.5},\"fill_color\":{\"value\":\"lightgrey\"},\"left_units\":\"screen\",\"level\":\"overlay\",\"line_alpha\":{\"value\":1.0},\"line_color\":{\"value\":\"black\"},\"line_dash\":[4,4],\"line_width\":{\"value\":2},\"plot\":null,\"render_mode\":\"css\",\"right_units\":\"screen\",\"top_units\":\"screen\"},\"id\":\"1029\",\"type\":\"BoxAnnotation\"},{\"attributes\":{},\"id\":\"1009\",\"type\":\"LinearScale\"},{\"attributes\":{\"data_source\":{\"id\":\"1036\",\"type\":\"ColumnDataSource\"},\"glyph\":{\"id\":\"1037\",\"type\":\"Circle\"},\"hover_glyph\":null,\"muted_glyph\":null,\"nonselection_glyph\":{\"id\":\"1038\",\"type\":\"Circle\"},\"selection_glyph\":null,\"view\":{\"id\":\"1040\",\"type\":\"CDSView\"}},\"id\":\"1039\",\"type\":\"GlyphRenderer\"}],\"root_ids\":[\"1002\"]},\"title\":\"Bokeh Application\",\"version\":\"1.0.0\"}};\n",
       "  var render_items = [{\"docid\":\"b9b976ee-5c61-4649-bd74-9189498e02bd\",\"roots\":{\"1002\":\"765558db-4417-4030-a808-d66fbcd01488\"}}];\n",
       "  root.Bokeh.embed.embed_items_notebook(docs_json, render_items);\n",
       "\n",
       "  }\n",
       "  if (root.Bokeh !== undefined) {\n",
       "    embed_document(root);\n",
       "  } else {\n",
       "    var attempts = 0;\n",
       "    var timer = setInterval(function(root) {\n",
       "      if (root.Bokeh !== undefined) {\n",
       "        embed_document(root);\n",
       "        clearInterval(timer);\n",
       "      }\n",
       "      attempts++;\n",
       "      if (attempts > 100) {\n",
       "        console.log(\"Bokeh: ERROR: Unable to run BokehJS code because BokehJS library is missing\");\n",
       "        clearInterval(timer);\n",
       "      }\n",
       "    }, 10, root)\n",
       "  }\n",
       "})(window);"
      ],
      "application/vnd.bokehjs_exec.v0+json": ""
     },
     "metadata": {
      "application/vnd.bokehjs_exec.v0+json": {
       "id": "1002"
      }
     },
     "output_type": "display_data"
    }
   ],
   "source": [
    "# Mean, variance of the data to scale the figure.\n",
    "mean = data.mean(axis=0)\n",
    "var = data.var(axis=0)\n",
    "std_dev = np.sqrt(max(var))\n",
    "x_range = (mean[0] - 2 * std_dev, mean[0] + 2 * std_dev)\n",
    "y_range = (mean[1] - 2 * std_dev, mean[1] + 2 * std_dev)\n",
    "global_range = (min(x_range[0], y_range[0]), max(x_range[1], y_range[1]))\n",
    "\n",
    "fig = figure(width=300, height=300,\n",
    "             x_range=global_range, y_range=global_range)\n",
    "fig.circle(data[:, 0], data[:, 1])\n",
    "\n",
    "show(fig)"
   ]
  },
  {
   "cell_type": "markdown",
   "metadata": {},
   "source": [
    "## Model Creation\n",
    "\n",
    "We create two types of mixture model: one whose (Normal) components have full covariance matrix and the other whose (Normal) components have diagonal covariance matrix."
   ]
  },
  {
   "cell_type": "code",
   "execution_count": 9,
   "metadata": {},
   "outputs": [
    {
     "name": "stdout",
     "output_type": "stream",
     "text": [
      "tensor([-0.2136,  4.8959], dtype=torch.float64)\n",
      "tensor([24.7287,  1.7037], dtype=torch.float64)\n"
     ]
    }
   ],
   "source": [
    "# We use the global mean/cov. matrix of the data to initialize the mixture.\n",
    "data_mean = torch.from_numpy(data.mean(axis=0)).double()\n",
    "data_var = torch.from_numpy(np.var(data, axis=0)).double()\n",
    "print(data_mean), print(data_var)\n",
    "\n",
    "noise_std = .1\n",
    "shared_cov = False\n",
    "cov_type = 'diagonal'\n",
    "ncomps = 10\n",
    "\n",
    "modelset = beer.NormalSet.create(data_mean, data_var, size=ncomps,\n",
    "                                prior_strength=1., noise_std=noise_std, \n",
    "                                cov_type=cov_type)\n",
    "model = beer.Mixture.create(modelset, prior_strength=1.).double()"
   ]
  },
  {
   "cell_type": "markdown",
   "metadata": {},
   "source": [
    "## Variational Bayes Training "
   ]
  },
  {
   "cell_type": "code",
   "execution_count": 10,
   "metadata": {},
   "outputs": [
    {
     "data": {
      "text/plain": [
       "torch.Size([1, 200, 2])"
      ]
     },
     "execution_count": 10,
     "metadata": {},
     "output_type": "execute_result"
    }
   ],
   "source": [
    "nbatches = 1\n",
    "X = torch.from_numpy(data).double()\n",
    "test_X = torch.from_numpy(test_data).double()\n",
    "batches = X.view(nbatches, -1, 2)\n",
    "batches.shape"
   ]
  },
  {
   "cell_type": "code",
   "execution_count": 11,
   "metadata": {
    "scrolled": true
   },
   "outputs": [
    {
     "name": "stderr",
     "output_type": "stream",
     "text": [
      "../beer/models/normalset.py:113: UserWarning: To copy construct from a tensor, it is recommended to use sourceTensor.clone().detach() or sourceTensor.clone().detach().requires_grad_(True), rather than torch.tensor(sourceTensor).\n",
      "  return dict(zip(self.means_precisions, torch.tensor(w_stats)))\n"
     ]
    }
   ],
   "source": [
    "epochs = 200\n",
    "lrate = 1.\n",
    "\n",
    "optim = beer.VariationalBayesOptimizer(model.mean_field_factorization(), lrate)\n",
    "    \n",
    "\n",
    "elbos = []\n",
    "for epoch in range(epochs):\n",
    "    batch_ids = list(range(len(batches)))\n",
    "    random.shuffle(batch_ids)\n",
    "    for batch_id in batch_ids:\n",
    "        batch = batches[batch_id]\n",
    "        optim.init_step()\n",
    "        elbo = beer.evidence_lower_bound(model, batch, datasize=len(X))\n",
    "        elbo.backward()\n",
    "        optim.step()\n",
    "        elbos.append(float(elbo) / len(X))"
   ]
  },
  {
   "cell_type": "code",
   "execution_count": 12,
   "metadata": {
    "scrolled": false
   },
   "outputs": [
    {
     "data": {
      "text/html": [
       "\n",
       "\n",
       "\n",
       "\n",
       "\n",
       "\n",
       "  <div class=\"bk-root\" id=\"444a911b-6ecb-4e9a-837e-bc61a9ce439e\"></div>\n"
      ]
     },
     "metadata": {},
     "output_type": "display_data"
    },
    {
     "data": {
      "application/javascript": [
       "(function(root) {\n",
       "  function embed_document(root) {\n",
       "    \n",
       "  var docs_json = {\"bbacf146-0679-4c0b-a529-354fe9a774cf\":{\"roots\":{\"references\":[{\"attributes\":{\"below\":[{\"id\":\"1224\",\"type\":\"LinearAxis\"}],\"left\":[{\"id\":\"1229\",\"type\":\"LinearAxis\"}],\"plot_height\":400,\"plot_width\":400,\"renderers\":[{\"id\":\"1224\",\"type\":\"LinearAxis\"},{\"id\":\"1228\",\"type\":\"Grid\"},{\"id\":\"1229\",\"type\":\"LinearAxis\"},{\"id\":\"1233\",\"type\":\"Grid\"},{\"id\":\"1242\",\"type\":\"BoxAnnotation\"},{\"id\":\"1252\",\"type\":\"GlyphRenderer\"}],\"title\":{\"id\":\"1273\",\"type\":\"Title\"},\"toolbar\":{\"id\":\"1240\",\"type\":\"Toolbar\"},\"x_range\":{\"id\":\"1216\",\"type\":\"DataRange1d\"},\"x_scale\":{\"id\":\"1220\",\"type\":\"LinearScale\"},\"y_range\":{\"id\":\"1218\",\"type\":\"DataRange1d\"},\"y_scale\":{\"id\":\"1222\",\"type\":\"LinearScale\"}},\"id\":\"1215\",\"subtype\":\"Figure\",\"type\":\"Plot\"},{\"attributes\":{\"callback\":null},\"id\":\"1218\",\"type\":\"DataRange1d\"},{\"attributes\":{\"dimension\":1,\"plot\":{\"id\":\"1215\",\"subtype\":\"Figure\",\"type\":\"Plot\"},\"ticker\":{\"id\":\"1230\",\"type\":\"BasicTicker\"}},\"id\":\"1233\",\"type\":\"Grid\"},{\"attributes\":{},\"id\":\"1222\",\"type\":\"LinearScale\"},{\"attributes\":{},\"id\":\"1277\",\"type\":\"BasicTickFormatter\"},{\"attributes\":{\"data_source\":{\"id\":\"1249\",\"type\":\"ColumnDataSource\"},\"glyph\":{\"id\":\"1250\",\"type\":\"Line\"},\"hover_glyph\":null,\"muted_glyph\":null,\"nonselection_glyph\":{\"id\":\"1251\",\"type\":\"Line\"},\"selection_glyph\":null,\"view\":{\"id\":\"1253\",\"type\":\"CDSView\"}},\"id\":\"1252\",\"type\":\"GlyphRenderer\"},{\"attributes\":{},\"id\":\"1279\",\"type\":\"UnionRenderers\"},{\"attributes\":{\"line_alpha\":0.1,\"line_color\":\"#1f77b4\",\"x\":{\"field\":\"x\"},\"y\":{\"field\":\"y\"}},\"id\":\"1251\",\"type\":\"Line\"},{\"attributes\":{\"axis_label\":\"epoch\",\"formatter\":{\"id\":\"1275\",\"type\":\"BasicTickFormatter\"},\"plot\":{\"id\":\"1215\",\"subtype\":\"Figure\",\"type\":\"Plot\"},\"ticker\":{\"id\":\"1225\",\"type\":\"BasicTicker\"}},\"id\":\"1224\",\"type\":\"LinearAxis\"},{\"attributes\":{},\"id\":\"1220\",\"type\":\"LinearScale\"},{\"attributes\":{},\"id\":\"1237\",\"type\":\"SaveTool\"},{\"attributes\":{\"active_drag\":\"auto\",\"active_inspect\":\"auto\",\"active_multi\":null,\"active_scroll\":\"auto\",\"active_tap\":\"auto\",\"tools\":[{\"id\":\"1234\",\"type\":\"PanTool\"},{\"id\":\"1235\",\"type\":\"WheelZoomTool\"},{\"id\":\"1236\",\"type\":\"BoxZoomTool\"},{\"id\":\"1237\",\"type\":\"SaveTool\"},{\"id\":\"1238\",\"type\":\"ResetTool\"},{\"id\":\"1239\",\"type\":\"HelpTool\"}]},\"id\":\"1240\",\"type\":\"Toolbar\"},{\"attributes\":{},\"id\":\"1230\",\"type\":\"BasicTicker\"},{\"attributes\":{},\"id\":\"1280\",\"type\":\"Selection\"},{\"attributes\":{\"source\":{\"id\":\"1249\",\"type\":\"ColumnDataSource\"}},\"id\":\"1253\",\"type\":\"CDSView\"},{\"attributes\":{\"line_color\":\"#1f77b4\",\"x\":{\"field\":\"x\"},\"y\":{\"field\":\"y\"}},\"id\":\"1250\",\"type\":\"Line\"},{\"attributes\":{},\"id\":\"1239\",\"type\":\"HelpTool\"},{\"attributes\":{},\"id\":\"1235\",\"type\":\"WheelZoomTool\"},{\"attributes\":{\"overlay\":{\"id\":\"1242\",\"type\":\"BoxAnnotation\"}},\"id\":\"1236\",\"type\":\"BoxZoomTool\"},{\"attributes\":{},\"id\":\"1234\",\"type\":\"PanTool\"},{\"attributes\":{},\"id\":\"1238\",\"type\":\"ResetTool\"},{\"attributes\":{},\"id\":\"1225\",\"type\":\"BasicTicker\"},{\"attributes\":{},\"id\":\"1275\",\"type\":\"BasicTickFormatter\"},{\"attributes\":{\"plot\":{\"id\":\"1215\",\"subtype\":\"Figure\",\"type\":\"Plot\"},\"ticker\":{\"id\":\"1225\",\"type\":\"BasicTicker\"}},\"id\":\"1228\",\"type\":\"Grid\"},{\"attributes\":{\"plot\":null,\"text\":\"\"},\"id\":\"1273\",\"type\":\"Title\"},{\"attributes\":{\"axis_label\":\"ELBO\",\"formatter\":{\"id\":\"1277\",\"type\":\"BasicTickFormatter\"},\"plot\":{\"id\":\"1215\",\"subtype\":\"Figure\",\"type\":\"Plot\"},\"ticker\":{\"id\":\"1230\",\"type\":\"BasicTicker\"}},\"id\":\"1229\",\"type\":\"LinearAxis\"},{\"attributes\":{\"callback\":null},\"id\":\"1216\",\"type\":\"DataRange1d\"},{\"attributes\":{\"callback\":null,\"data\":{\"x\":[0,1,2,3,4,5,6,7,8,9,10,11,12,13,14,15,16,17,18,19,20,21,22,23,24,25,26,27,28,29,30,31,32,33,34,35,36,37,38,39,40,41,42,43,44,45,46,47,48,49,50,51,52,53,54,55,56,57,58,59,60,61,62,63,64,65,66,67,68,69,70,71,72,73,74,75,76,77,78,79,80,81,82,83,84,85,86,87,88,89,90,91,92,93,94,95,96,97,98,99,100,101,102,103,104,105,106,107,108,109,110,111,112,113,114,115,116,117,118,119,120,121,122,123,124,125,126,127,128,129,130,131,132,133,134,135,136,137,138,139,140,141,142,143,144,145,146,147,148,149,150,151,152,153,154,155,156,157,158,159,160,161,162,163,164,165,166,167,168,169,170,171,172,173,174,175,176,177,178,179,180,181,182,183,184,185,186,187,188,189,190,191,192,193,194,195,196,197,198,199],\"y\":[-13.832808004343793,-5.132314745128991,-5.132243413652568,-5.132188107401235,-5.132141235577471,-5.132099108993037,-5.13205930242666,-5.132020081479625,-5.13198008342312,-5.131938118438985,-5.131893033839207,-5.131843608919576,-5.131788459981514,-5.131725940121632,-5.131654019073904,-5.1315701251639085,-5.131470923135603,-5.13135198477817,-5.131207275980445,-5.131028316097512,-5.130802720880999,-5.130511512274778,-5.130123780212398,-5.12958517145194,-5.128790533483559,-5.127510976585289,-5.125171035741699,-5.120055932190171,-5.106141110044332,-5.062616800124669,-4.959210739823558,-4.827211368713612,-4.716900299465599,-4.645977215722264,-4.605270956977652,-4.565466452039003,-4.520258611410731,-4.474922224157561,-4.432194258821314,-4.399854148372617,-4.381559005381786,-4.372325310151982,-4.362939038224179,-4.354452157383047,-4.351360346647954,-4.350901578669914,-4.3505818746856395,-4.350313662705071,-4.350061662672162,-4.349808546683029,-4.349541899218021,-4.349248035988186,-4.34890765667945,-4.348490109960775,-4.347942818615838,-4.347169604674624,-4.345985198371937,-4.344026285763171,-4.34063668481118,-4.335039806442596,-4.327788583690197,-4.323231861546773,-4.323037299292505,-4.323037298474316,-4.3230372984743015,-4.323037298474299,-4.323037298474309,-4.323037298474303,-4.323037298474302,-4.323037298474303,-4.3230372984743015,-4.3230372984743015,-4.3230372984743015,-4.3230372984743015,-4.3230372984743015,-4.3230372984743015,-4.3230372984743015,-4.3230372984743015,-4.3230372984743015,-4.3230372984743015,-4.3230372984743015,-4.3230372984743015,-4.3230372984743015,-4.3230372984743015,-4.3230372984743015,-4.3230372984743015,-4.3230372984743015,-4.3230372984743015,-4.3230372984743015,-4.3230372984743015,-4.3230372984743015,-4.3230372984743015,-4.3230372984743015,-4.3230372984743015,-4.3230372984743015,-4.3230372984743015,-4.3230372984743015,-4.3230372984743015,-4.3230372984743015,-4.3230372984743015,-4.3230372984743015,-4.3230372984743015,-4.3230372984743015,-4.3230372984743015,-4.3230372984743015,-4.3230372984743015,-4.3230372984743015,-4.3230372984743015,-4.3230372984743015,-4.3230372984743015,-4.3230372984743015,-4.3230372984743015,-4.3230372984743015,-4.3230372984743015,-4.3230372984743015,-4.3230372984743015,-4.3230372984743015,-4.3230372984743015,-4.3230372984743015,-4.3230372984743015,-4.3230372984743015,-4.3230372984743015,-4.3230372984743015,-4.3230372984743015,-4.3230372984743015,-4.3230372984743015,-4.3230372984743015,-4.3230372984743015,-4.3230372984743015,-4.3230372984743015,-4.3230372984743015,-4.3230372984743015,-4.3230372984743015,-4.3230372984743015,-4.3230372984743015,-4.3230372984743015,-4.3230372984743015,-4.3230372984743015,-4.3230372984743015,-4.3230372984743015,-4.3230372984743015,-4.3230372984743015,-4.3230372984743015,-4.3230372984743015,-4.3230372984743015,-4.3230372984743015,-4.3230372984743015,-4.3230372984743015,-4.3230372984743015,-4.3230372984743015,-4.3230372984743015,-4.3230372984743015,-4.3230372984743015,-4.3230372984743015,-4.3230372984743015,-4.3230372984743015,-4.3230372984743015,-4.3230372984743015,-4.3230372984743015,-4.3230372984743015,-4.3230372984743015,-4.3230372984743015,-4.3230372984743015,-4.3230372984743015,-4.3230372984743015,-4.3230372984743015,-4.3230372984743015,-4.3230372984743015,-4.3230372984743015,-4.3230372984743015,-4.3230372984743015,-4.3230372984743015,-4.3230372984743015,-4.3230372984743015,-4.3230372984743015,-4.3230372984743015,-4.3230372984743015,-4.3230372984743015,-4.3230372984743015,-4.3230372984743015,-4.3230372984743015,-4.3230372984743015,-4.3230372984743015,-4.3230372984743015,-4.3230372984743015,-4.3230372984743015,-4.3230372984743015,-4.3230372984743015,-4.3230372984743015,-4.3230372984743015,-4.3230372984743015,-4.3230372984743015,-4.3230372984743015,-4.3230372984743015,-4.3230372984743015,-4.3230372984743015,-4.3230372984743015,-4.3230372984743015,-4.3230372984743015,-4.3230372984743015]},\"selected\":{\"id\":\"1280\",\"type\":\"Selection\"},\"selection_policy\":{\"id\":\"1279\",\"type\":\"UnionRenderers\"}},\"id\":\"1249\",\"type\":\"ColumnDataSource\"},{\"attributes\":{\"bottom_units\":\"screen\",\"fill_alpha\":{\"value\":0.5},\"fill_color\":{\"value\":\"lightgrey\"},\"left_units\":\"screen\",\"level\":\"overlay\",\"line_alpha\":{\"value\":1.0},\"line_color\":{\"value\":\"black\"},\"line_dash\":[4,4],\"line_width\":{\"value\":2},\"plot\":null,\"render_mode\":\"css\",\"right_units\":\"screen\",\"top_units\":\"screen\"},\"id\":\"1242\",\"type\":\"BoxAnnotation\"}],\"root_ids\":[\"1215\"]},\"title\":\"Bokeh Application\",\"version\":\"1.0.0\"}};\n",
       "  var render_items = [{\"docid\":\"bbacf146-0679-4c0b-a529-354fe9a774cf\",\"roots\":{\"1215\":\"444a911b-6ecb-4e9a-837e-bc61a9ce439e\"}}];\n",
       "  root.Bokeh.embed.embed_items_notebook(docs_json, render_items);\n",
       "\n",
       "  }\n",
       "  if (root.Bokeh !== undefined) {\n",
       "    embed_document(root);\n",
       "  } else {\n",
       "    var attempts = 0;\n",
       "    var timer = setInterval(function(root) {\n",
       "      if (root.Bokeh !== undefined) {\n",
       "        embed_document(root);\n",
       "        clearInterval(timer);\n",
       "      }\n",
       "      attempts++;\n",
       "      if (attempts > 100) {\n",
       "        console.log(\"Bokeh: ERROR: Unable to run BokehJS code because BokehJS library is missing\");\n",
       "        clearInterval(timer);\n",
       "      }\n",
       "    }, 10, root)\n",
       "  }\n",
       "})(window);"
      ],
      "application/vnd.bokehjs_exec.v0+json": ""
     },
     "metadata": {
      "application/vnd.bokehjs_exec.v0+json": {
       "id": "1215"
      }
     },
     "output_type": "display_data"
    }
   ],
   "source": [
    "fig = figure(width=400, height=400, x_axis_label='epoch',\n",
    "              y_axis_label='ELBO')\n",
    "fig.line(range(len(elbos)), elbos)\n",
    "show(fig)"
   ]
  },
  {
   "cell_type": "code",
   "execution_count": 8,
   "metadata": {},
   "outputs": [
    {
     "data": {
      "text/plain": [
       "NormalFullCovariance(\n",
       "  (mean_precision): BayesianParameter(prior=NormalWishart(\n",
       "    (params): NormalWishartStdParams(mean=tensor([-0.2136,  4.8959], dtype=torch.float64), scale=tensor(1., dtype=torch.float64), scale_matrix=tensor([[0.0202, -0.0000],\n",
       "            [0.0000, 0.2935]], dtype=torch.float64), dof=tensor(2., dtype=torch.float64))\n",
       "  ), posterior=NormalWishart(\n",
       "    (params): NormalWishartStdParams(mean=tensor([-0.2136,  4.8959], dtype=torch.float64), scale=tensor(1.0000, dtype=torch.float64), scale_matrix=tensor([[ 2.0219e-02, -4.2137e-09],\n",
       "            [-4.2137e-09,  2.9347e-01]], dtype=torch.float64), dof=tensor(2.0000, dtype=torch.float64))\n",
       "  ))\n",
       ")"
      ]
     },
     "execution_count": 8,
     "metadata": {},
     "output_type": "execute_result"
    }
   ],
   "source": [
    "model.modelset[0]"
   ]
  },
  {
   "cell_type": "code",
   "execution_count": 27,
   "metadata": {
    "scrolled": false
   },
   "outputs": [
    {
     "ename": "NameError",
     "evalue": "name 'models' is not defined",
     "output_type": "error",
     "traceback": [
      "\u001b[0;31m---------------------------------------------------------------------------\u001b[0m",
      "\u001b[0;31mNameError\u001b[0m                                 Traceback (most recent call last)",
      "\u001b[0;32m<ipython-input-27-e0024396d59a>\u001b[0m in \u001b[0;36m<module>\u001b[0;34m\u001b[0m\n\u001b[1;32m      1\u001b[0m \u001b[0mfigs\u001b[0m \u001b[0;34m=\u001b[0m \u001b[0;34m[\u001b[0m\u001b[0;34m]\u001b[0m\u001b[0;34m\u001b[0m\u001b[0;34m\u001b[0m\u001b[0m\n\u001b[0;32m----> 2\u001b[0;31m \u001b[0;32mfor\u001b[0m \u001b[0mi\u001b[0m\u001b[0;34m,\u001b[0m \u001b[0mmodel_name\u001b[0m \u001b[0;32min\u001b[0m \u001b[0menumerate\u001b[0m\u001b[0;34m(\u001b[0m\u001b[0mmodels\u001b[0m\u001b[0;34m)\u001b[0m\u001b[0;34m:\u001b[0m\u001b[0;34m\u001b[0m\u001b[0;34m\u001b[0m\u001b[0m\n\u001b[0m\u001b[1;32m      3\u001b[0m     \u001b[0mmodel\u001b[0m \u001b[0;34m=\u001b[0m \u001b[0mmodels\u001b[0m\u001b[0;34m[\u001b[0m\u001b[0mmodel_name\u001b[0m\u001b[0;34m]\u001b[0m\u001b[0;34m\u001b[0m\u001b[0;34m\u001b[0m\u001b[0m\n\u001b[1;32m      4\u001b[0m     fig = figure(x_range=global_range, y_range=global_range,\n\u001b[1;32m      5\u001b[0m               width=250, height=250)\n",
      "\u001b[0;31mNameError\u001b[0m: name 'models' is not defined"
     ]
    }
   ],
   "source": [
    "figs = []\n",
    "for i, model_name in enumerate(models):\n",
    "    model = models[model_name]\n",
    "    fig = figure(x_range=global_range, y_range=global_range,\n",
    "              width=250, height=250)\n",
    "    fig.circle(data[:, 0], data[:, 1], alpha=.1)\n",
    "    plotting.plot_gmm(fig, model, alpha=.5, color=colors[model_name])\n",
    "    show(fig)\n",
    "    #figs.append(fig)\n",
    "#for fig in figs:\n",
    "#    show(fig)"
   ]
  },
  {
   "cell_type": "code",
   "execution_count": 9,
   "metadata": {},
   "outputs": [],
   "source": [
    "# We use the global mean/cov. matrix of the data to initialize the mixture.\n",
    "data_mean = torch.from_numpy(data.mean(axis=0)).double()\n",
    "data_var = torch.from_numpy(np.var(data, axis=0)).double()\n",
    "#data_mean = torch.zeros(2).double()\n",
    "#data_var = torch.ones(2).double()\n",
    "noise_std = .1\n",
    "\n",
    "# Isotropic covariance.\n",
    "modelset = beer.NormalSet.create(data_mean, data_var, size=10,\n",
    "                                prior_strength=1., noise_std=noise_std, \n",
    "                                cov_type='isotropic')\n",
    "gmm_iso = beer.Mixture.create(modelset, prior_strength=1.)\n",
    "\n",
    "# Diagonal covariance.\n",
    "modelset = beer.NormalSet.create(data_mean, data_var, size=10,\n",
    "                                prior_strength=1., noise_std=noise_std, \n",
    "                                cov_type='diagonal')\n",
    "gmm_diag = beer.Mixture.create(modelset, prior_strength=1.)\n",
    "\n",
    "# Full covariance.\n",
    "modelset = beer.NormalSet.create(data_mean, data_var, size=10,\n",
    "                                prior_strength=1., noise_std=noise_std, \n",
    "                                cov_type='full')\n",
    "gmm_full = beer.Mixture.create(modelset, prior_strength=1.)\n",
    "\n",
    "# Shared isotropic covariance.\n",
    "modelset = beer.NormalSet.create(data_mean, data_var.diag(), size=10,\n",
    "                                 prior_strength=1., noise_std=noise_std,\n",
    "                                 cov_type='isotropic', shared_cov=True)\n",
    "gmm_iso_shared = beer.Mixture.create(modelset, prior_strength=1.)\n",
    "\n",
    "# Shared diagonal covariance.\n",
    "modelset = beer.NormalSet.create(data_mean, data_var.diag(), size=10,\n",
    "                                 prior_strength=1., noise_std=noise_std,\n",
    "                                 cov_type='diagonal', shared_cov=True)\n",
    "gmm_diag_shared = beer.Mixture.create(modelset, prior_strength=1.)\n",
    "\n",
    "# Shared full covariance.\n",
    "modelset = beer.NormalSet.create(data_mean, data_var.diag(), size=10,\n",
    "                                 prior_strength=1., noise_std=noise_std,\n",
    "                                 cov_type='full', shared_cov=True)\n",
    "gmm_full_shared = beer.Mixture.create(modelset, prior_strength=1.)\n",
    "\n",
    "models = {\n",
    "    'gmm_iso': gmm_iso,\n",
    "    'gmm_diag': gmm_diag,\n",
    "    'gmm_full': gmm_full,\n",
    "    #'gmm_iso_shared': gmm_iso_shared,\n",
    "    #'gmm_diag_shared': gmm_diag_shared,\n",
    "    #'gmm_full_shared': gmm_full_shared,\n",
    "}"
   ]
  },
  {
   "cell_type": "code",
   "execution_count": 10,
   "metadata": {},
   "outputs": [
    {
     "data": {
      "text/plain": [
       "torch.Size([600, 1, 2])"
      ]
     },
     "execution_count": 10,
     "metadata": {},
     "output_type": "execute_result"
    }
   ],
   "source": [
    "nbatches = len(X)\n",
    "X = torch.from_numpy(data).double()\n",
    "test_X = torch.from_numpy(test_data).double()\n",
    "batches = X.view(nbatches, -1, 2)\n",
    "batches.shape"
   ]
  },
  {
   "cell_type": "code",
   "execution_count": 11,
   "metadata": {},
   "outputs": [
    {
     "ename": "KeyboardInterrupt",
     "evalue": "",
     "output_type": "error",
     "traceback": [
      "\u001b[0;31m---------------------------------------------------------------------------\u001b[0m",
      "\u001b[0;31mKeyboardInterrupt\u001b[0m                         Traceback (most recent call last)",
      "\u001b[0;32m<ipython-input-11-2101335b7174>\u001b[0m in \u001b[0;36m<module>\u001b[0;34m\u001b[0m\n\u001b[1;32m     14\u001b[0m             \u001b[0moptim\u001b[0m \u001b[0;34m=\u001b[0m \u001b[0moptims\u001b[0m\u001b[0;34m[\u001b[0m\u001b[0mname\u001b[0m\u001b[0;34m]\u001b[0m\u001b[0;34m\u001b[0m\u001b[0;34m\u001b[0m\u001b[0m\n\u001b[1;32m     15\u001b[0m             \u001b[0moptim\u001b[0m\u001b[0;34m.\u001b[0m\u001b[0minit_step\u001b[0m\u001b[0;34m(\u001b[0m\u001b[0mbatch_stats\u001b[0m\u001b[0;34m[\u001b[0m\u001b[0mname\u001b[0m\u001b[0;34m]\u001b[0m\u001b[0;34m[\u001b[0m\u001b[0mbatch_id\u001b[0m\u001b[0;34m]\u001b[0m\u001b[0;34m)\u001b[0m\u001b[0;34m\u001b[0m\u001b[0;34m\u001b[0m\u001b[0m\n\u001b[0;32m---> 16\u001b[0;31m             \u001b[0melbo\u001b[0m \u001b[0;34m=\u001b[0m \u001b[0mbeer\u001b[0m\u001b[0;34m.\u001b[0m\u001b[0mcollapsed_evidence_lower_bound\u001b[0m\u001b[0;34m(\u001b[0m\u001b[0mmodel\u001b[0m\u001b[0;34m,\u001b[0m \u001b[0mbatches\u001b[0m\u001b[0;34m[\u001b[0m\u001b[0mbatch_id\u001b[0m\u001b[0;34m]\u001b[0m\u001b[0;34m)\u001b[0m\u001b[0;34m\u001b[0m\u001b[0;34m\u001b[0m\u001b[0m\n\u001b[0m\u001b[1;32m     17\u001b[0m             \u001b[0mbatch_stats\u001b[0m\u001b[0;34m[\u001b[0m\u001b[0mname\u001b[0m\u001b[0;34m]\u001b[0m\u001b[0;34m[\u001b[0m\u001b[0mbatch_id\u001b[0m\u001b[0;34m]\u001b[0m \u001b[0;34m=\u001b[0m \u001b[0melbo\u001b[0m\u001b[0;34m.\u001b[0m\u001b[0mbackward\u001b[0m\u001b[0;34m(\u001b[0m\u001b[0;34m)\u001b[0m\u001b[0;34m\u001b[0m\u001b[0;34m\u001b[0m\u001b[0m\n\u001b[1;32m     18\u001b[0m             \u001b[0moptim\u001b[0m\u001b[0;34m.\u001b[0m\u001b[0mstep\u001b[0m\u001b[0;34m(\u001b[0m\u001b[0;34m)\u001b[0m\u001b[0;34m\u001b[0m\u001b[0;34m\u001b[0m\u001b[0m\n",
      "\u001b[0;32m~/beer/beer/inference/objectives.py\u001b[0m in \u001b[0;36mcollapsed_evidence_lower_bound\u001b[0;34m(model, minibatch_data, **kwargs)\u001b[0m\n\u001b[1;32m    284\u001b[0m     '''\n\u001b[1;32m    285\u001b[0m     \u001b[0mstats\u001b[0m \u001b[0;34m=\u001b[0m \u001b[0mmodel\u001b[0m\u001b[0;34m.\u001b[0m\u001b[0msufficient_statistics\u001b[0m\u001b[0;34m(\u001b[0m\u001b[0mminibatch_data\u001b[0m\u001b[0;34m)\u001b[0m\u001b[0;34m\u001b[0m\u001b[0;34m\u001b[0m\u001b[0m\n\u001b[0;32m--> 286\u001b[0;31m     \u001b[0melbo_value\u001b[0m \u001b[0;34m=\u001b[0m \u001b[0mmodel\u001b[0m\u001b[0;34m.\u001b[0m\u001b[0mmarginal_log_likelihood\u001b[0m\u001b[0;34m(\u001b[0m\u001b[0mstats\u001b[0m\u001b[0;34m,\u001b[0m \u001b[0;34m**\u001b[0m\u001b[0mkwargs\u001b[0m\u001b[0;34m)\u001b[0m\u001b[0;34m.\u001b[0m\u001b[0msum\u001b[0m\u001b[0;34m(\u001b[0m\u001b[0;34m)\u001b[0m\u001b[0;34m\u001b[0m\u001b[0;34m\u001b[0m\u001b[0m\n\u001b[0m\u001b[1;32m    287\u001b[0m     \u001b[0macc_stats\u001b[0m \u001b[0;34m=\u001b[0m \u001b[0mmodel\u001b[0m\u001b[0;34m.\u001b[0m\u001b[0maccumulate\u001b[0m\u001b[0;34m(\u001b[0m\u001b[0mtorch\u001b[0m\u001b[0;34m.\u001b[0m\u001b[0mtensor\u001b[0m\u001b[0;34m(\u001b[0m\u001b[0mstats\u001b[0m\u001b[0;34m)\u001b[0m\u001b[0;34m)\u001b[0m\u001b[0;34m\u001b[0m\u001b[0;34m\u001b[0m\u001b[0m\n\u001b[1;32m    288\u001b[0m     \u001b[0mmodel\u001b[0m\u001b[0;34m.\u001b[0m\u001b[0mclear_cache\u001b[0m\u001b[0;34m(\u001b[0m\u001b[0;34m)\u001b[0m\u001b[0;34m\u001b[0m\u001b[0;34m\u001b[0m\u001b[0m\n",
      "\u001b[0;32m~/beer/beer/models/mixture.py\u001b[0m in \u001b[0;36mmarginal_log_likelihood\u001b[0;34m(self, stats, labels, **kwargs)\u001b[0m\n\u001b[1;32m     98\u001b[0m         \u001b[0;31m# Per-components weighted log-likelihood.\u001b[0m\u001b[0;34m\u001b[0m\u001b[0;34m\u001b[0m\u001b[0;34m\u001b[0m\u001b[0m\n\u001b[1;32m     99\u001b[0m         \u001b[0mlog_weights\u001b[0m \u001b[0;34m=\u001b[0m \u001b[0mself\u001b[0m\u001b[0;34m.\u001b[0m\u001b[0mweights\u001b[0m\u001b[0;34m.\u001b[0m\u001b[0mexpected_value\u001b[0m\u001b[0;34m(\u001b[0m\u001b[0;34m)\u001b[0m\u001b[0;34m.\u001b[0m\u001b[0mview\u001b[0m\u001b[0;34m(\u001b[0m\u001b[0;36m1\u001b[0m\u001b[0;34m,\u001b[0m \u001b[0;34m-\u001b[0m\u001b[0;36m1\u001b[0m\u001b[0;34m)\u001b[0m\u001b[0;34m.\u001b[0m\u001b[0mlog\u001b[0m\u001b[0;34m(\u001b[0m\u001b[0;34m)\u001b[0m\u001b[0;34m\u001b[0m\u001b[0;34m\u001b[0m\u001b[0m\n\u001b[0;32m--> 100\u001b[0;31m         \u001b[0mpc_llh\u001b[0m \u001b[0;34m=\u001b[0m \u001b[0mself\u001b[0m\u001b[0;34m.\u001b[0m\u001b[0mmodelset\u001b[0m\u001b[0;34m.\u001b[0m\u001b[0mmarginal_log_likelihood\u001b[0m\u001b[0;34m(\u001b[0m\u001b[0mstats\u001b[0m\u001b[0;34m,\u001b[0m \u001b[0;34m**\u001b[0m\u001b[0mkwargs\u001b[0m\u001b[0;34m)\u001b[0m\u001b[0;34m\u001b[0m\u001b[0;34m\u001b[0m\u001b[0m\n\u001b[0m\u001b[1;32m    101\u001b[0m \u001b[0;34m\u001b[0m\u001b[0m\n\u001b[1;32m    102\u001b[0m         \u001b[0;31m# Responsibilities and expected llh.\u001b[0m\u001b[0;34m\u001b[0m\u001b[0;34m\u001b[0m\u001b[0;34m\u001b[0m\u001b[0m\n",
      "\u001b[0;32m~/beer/beer/models/normalset.py\u001b[0m in \u001b[0;36mmarginal_log_likelihood\u001b[0;34m(self, stats)\u001b[0m\n\u001b[1;32m    134\u001b[0m         \u001b[0;32mfor\u001b[0m \u001b[0mparam\u001b[0m \u001b[0;32min\u001b[0m \u001b[0mself\u001b[0m\u001b[0;34m.\u001b[0m\u001b[0mmeans_precisions\u001b[0m\u001b[0;34m:\u001b[0m\u001b[0;34m\u001b[0m\u001b[0;34m\u001b[0m\u001b[0m\n\u001b[1;32m    135\u001b[0m             \u001b[0mcls\u001b[0m \u001b[0;34m=\u001b[0m \u001b[0mNormalIsotropicCovariance\u001b[0m\u001b[0;34m\u001b[0m\u001b[0;34m\u001b[0m\u001b[0m\n\u001b[0;32m--> 136\u001b[0;31m             \u001b[0mc_m_llhs\u001b[0m \u001b[0;34m=\u001b[0m \u001b[0mcls\u001b[0m\u001b[0;34m.\u001b[0m\u001b[0m_marginal_log_likelihood\u001b[0m\u001b[0;34m(\u001b[0m\u001b[0mparam\u001b[0m\u001b[0;34m.\u001b[0m\u001b[0mposterior\u001b[0m\u001b[0;34m,\u001b[0m \u001b[0mstats\u001b[0m\u001b[0;34m)\u001b[0m\u001b[0;34m\u001b[0m\u001b[0;34m\u001b[0m\u001b[0m\n\u001b[0m\u001b[1;32m    137\u001b[0m             \u001b[0mm_llhs\u001b[0m\u001b[0;34m.\u001b[0m\u001b[0mappend\u001b[0m\u001b[0;34m(\u001b[0m\u001b[0mc_m_llhs\u001b[0m\u001b[0;34m.\u001b[0m\u001b[0mview\u001b[0m\u001b[0;34m(\u001b[0m\u001b[0;34m-\u001b[0m\u001b[0;36m1\u001b[0m\u001b[0;34m,\u001b[0m \u001b[0;36m1\u001b[0m\u001b[0;34m)\u001b[0m\u001b[0;34m)\u001b[0m\u001b[0;34m\u001b[0m\u001b[0;34m\u001b[0m\u001b[0m\n\u001b[1;32m    138\u001b[0m         \u001b[0;32mreturn\u001b[0m \u001b[0mtorch\u001b[0m\u001b[0;34m.\u001b[0m\u001b[0mcat\u001b[0m\u001b[0;34m(\u001b[0m\u001b[0mm_llhs\u001b[0m\u001b[0;34m,\u001b[0m \u001b[0mdim\u001b[0m\u001b[0;34m=\u001b[0m\u001b[0;34m-\u001b[0m\u001b[0;36m1\u001b[0m\u001b[0;34m)\u001b[0m\u001b[0;34m\u001b[0m\u001b[0;34m\u001b[0m\u001b[0m\n",
      "\u001b[0;32m~/beer/beer/models/normal.py\u001b[0m in \u001b[0;36m_marginal_log_likelihood\u001b[0;34m(prior, stats)\u001b[0m\n\u001b[1;32m    134\u001b[0m         \u001b[0mlnorm\u001b[0m \u001b[0;34m-=\u001b[0m \u001b[0;36m.5\u001b[0m \u001b[0;34m*\u001b[0m \u001b[0mdim\u001b[0m \u001b[0;34m*\u001b[0m \u001b[0mrate\u001b[0m\u001b[0;34m.\u001b[0m\u001b[0mlog\u001b[0m\u001b[0;34m(\u001b[0m\u001b[0;34m)\u001b[0m\u001b[0;34m\u001b[0m\u001b[0;34m\u001b[0m\u001b[0m\n\u001b[1;32m    135\u001b[0m         \u001b[0mdata\u001b[0m \u001b[0;34m=\u001b[0m \u001b[0mstats\u001b[0m\u001b[0;34m[\u001b[0m\u001b[0;34m:\u001b[0m\u001b[0;34m,\u001b[0m \u001b[0;36m1\u001b[0m\u001b[0;34m:\u001b[0m \u001b[0;36m1\u001b[0m \u001b[0;34m+\u001b[0m \u001b[0mdim\u001b[0m\u001b[0;34m]\u001b[0m\u001b[0;34m\u001b[0m\u001b[0;34m\u001b[0m\u001b[0m\n\u001b[0;32m--> 136\u001b[0;31m         \u001b[0mkernel\u001b[0m \u001b[0;34m=\u001b[0m \u001b[0;36m1\u001b[0m \u001b[0;34m+\u001b[0m \u001b[0;34m(\u001b[0m\u001b[0mdata\u001b[0m \u001b[0;34m-\u001b[0m \u001b[0mmean\u001b[0m\u001b[0;34m)\u001b[0m\u001b[0;34m.\u001b[0m\u001b[0mpow\u001b[0m\u001b[0;34m(\u001b[0m\u001b[0;36m2\u001b[0m\u001b[0;34m)\u001b[0m\u001b[0;34m.\u001b[0m\u001b[0msum\u001b[0m\u001b[0;34m(\u001b[0m\u001b[0mdim\u001b[0m\u001b[0;34m=\u001b[0m\u001b[0;34m-\u001b[0m\u001b[0;36m1\u001b[0m\u001b[0;34m)\u001b[0m \u001b[0;34m/\u001b[0m \u001b[0;34m(\u001b[0m\u001b[0;36m2\u001b[0m \u001b[0;34m*\u001b[0m \u001b[0malpha\u001b[0m \u001b[0;34m*\u001b[0m \u001b[0mrate\u001b[0m\u001b[0;34m)\u001b[0m\u001b[0;34m\u001b[0m\u001b[0;34m\u001b[0m\u001b[0m\n\u001b[0m\u001b[1;32m    137\u001b[0m         \u001b[0;31m#import pdb; pdb.set_trace()\u001b[0m\u001b[0;34m\u001b[0m\u001b[0;34m\u001b[0m\u001b[0;34m\u001b[0m\u001b[0m\n\u001b[1;32m    138\u001b[0m         \u001b[0;32mreturn\u001b[0m \u001b[0;34m-\u001b[0m \u001b[0;34m(\u001b[0m\u001b[0mshape\u001b[0m \u001b[0;34m+\u001b[0m \u001b[0;36m.5\u001b[0m \u001b[0;34m*\u001b[0m \u001b[0mdim\u001b[0m\u001b[0;34m)\u001b[0m \u001b[0;34m*\u001b[0m \u001b[0mkernel\u001b[0m\u001b[0;34m.\u001b[0m\u001b[0mlog\u001b[0m\u001b[0;34m(\u001b[0m\u001b[0;34m)\u001b[0m \u001b[0;34m+\u001b[0m \u001b[0mlnorm\u001b[0m\u001b[0;34m\u001b[0m\u001b[0;34m\u001b[0m\u001b[0m\n",
      "\u001b[0;31mKeyboardInterrupt\u001b[0m: "
     ]
    }
   ],
   "source": [
    "iters = 100\n",
    "\n",
    "batch_stats = {model_name: defaultdict(lambda: defaultdict(lambda: None))\n",
    "               for model_name in models}\n",
    "optims = {model_name: beer.CVBOptimizer(model.bayesian_parameters())\n",
    "          for model_name, model in models.items()}\n",
    "elbos = {model_name: [] for model_name in models}  \n",
    "\n",
    "for epoch in range(iters):\n",
    "    batch_ids = list(range(len(batches)))\n",
    "    random.shuffle(batch_ids)\n",
    "    for name, model in models.items():\n",
    "        for batch_id in batch_ids:\n",
    "            optim = optims[name]\n",
    "            optim.init_step(batch_stats[name][batch_id])\n",
    "            elbo = beer.collapsed_evidence_lower_bound(model, batches[batch_id])\n",
    "            batch_stats[name][batch_id] = elbo.backward()\n",
    "            optim.step()\n",
    "        log_pred = beer.evidence_lower_bound(model, X)\n",
    "        elbos[name].append(float(log_pred) / len(X))"
   ]
  },
  {
   "cell_type": "code",
   "execution_count": null,
   "metadata": {},
   "outputs": [],
   "source": [
    "colors = {\n",
    "    'gmm_iso': 'green',\n",
    "    'gmm_diag': 'blue',\n",
    "    'gmm_full': 'red',\n",
    "    'gmm_iso_shared': 'grey',\n",
    "    'gmm_diag_shared': 'brown',\n",
    "    'gmm_full_shared': 'black'\n",
    "    \n",
    "}\n",
    "# Plot the ELBO.\n",
    "elbo_fig = figure(width=500, height=500, x_axis_label='epoch',\n",
    "                  y_axis_label='ELBO (VBI)')\n",
    "for model_name, elbo in elbos.items():\n",
    "    elbo_fig.line(range(len(elbo)), elbo, line_dash='dashed', legend=model_name + ' (CVB)',\n",
    "                  color=colors[model_name])\n",
    "for model_name, elbo in svb_elbos.items():\n",
    "    elbo_fig.line(range(len(elbo)), elbo, legend=model_name + ' (VBI)',\n",
    "                  color=colors[model_name])\n",
    "elbo_fig.legend.location = 'bottom_right'\n",
    "\n",
    "show(elbo_fig)"
   ]
  },
  {
   "cell_type": "code",
   "execution_count": null,
   "metadata": {},
   "outputs": [],
   "source": [
    "2 "
   ]
  },
  {
   "cell_type": "code",
   "execution_count": null,
   "metadata": {},
   "outputs": [],
   "source": [
    "gmm_full = models['gmm_full']\n",
    "gmm_full.modelset.means_precisions[2].posterior.natural_parameters"
   ]
  },
  {
   "cell_type": "code",
   "execution_count": null,
   "metadata": {},
   "outputs": [],
   "source": [
    "figs = []\n",
    "for i, model_name in enumerate(models):\n",
    "    model = models[model_name]\n",
    "    fig = figure(x_range=global_range, y_range=global_range,\n",
    "              width=250, height=250)\n",
    "    fig.circle(data[:, 0], data[:, 1], alpha=.1)\n",
    "    plotting.plot_gmm(fig, model, alpha=.5, color=colors[model_name])\n",
    "    show(fig)"
   ]
  },
  {
   "cell_type": "code",
   "execution_count": null,
   "metadata": {},
   "outputs": [],
   "source": [
    "models['gmm_full'].weights.expected_value()"
   ]
  },
  {
   "cell_type": "code",
   "execution_count": null,
   "metadata": {},
   "outputs": [],
   "source": [
    "joint_nparams = gmm_full_shared.modelset.means_precision.posterior.natural_parameters\n",
    "np1, np2 = gmm_full_shared.modelset._split_natural_parameters(joint_nparams)\n",
    "np1 = torch.ones(len(np2), 1, dtype=np1.dtype) * np1.view(1, -1)\n",
    "np1.shape, np2.shape\n",
    "nparams1 = torch.cat([\n",
    "    np1[:, :-1], \n",
    "    np2,\n",
    "    np1[:, -1].view(-1, 1)\n",
    "], dim=1)\n",
    "nparams1 = nparams1[None]"
   ]
  },
  {
   "cell_type": "code",
   "execution_count": null,
   "metadata": {},
   "outputs": [],
   "source": [
    "stats = gmm_full_shared.modelset.sufficient_statistics(X)\n",
    "nparams2 = stats[:, None, :] + nparams1\n",
    "nparams2.shape"
   ]
  },
  {
   "cell_type": "code",
   "execution_count": null,
   "metadata": {
    "scrolled": false
   },
   "outputs": [],
   "source": [
    "post = gmm_full_shared.modelset.means_precision.posterior\n",
    "m_llh = post.joint_log_norm(nparams2) - post.joint_log_norm(nparams1)\n",
    "m_llh"
   ]
  },
  {
   "cell_type": "code",
   "execution_count": null,
   "metadata": {},
   "outputs": [],
   "source": [
    "m_llh[:10]"
   ]
  },
  {
   "cell_type": "code",
   "execution_count": null,
   "metadata": {},
   "outputs": [],
   "source": [
    "gmm_full_shared.modelset.marginal_log_likelihood(stats)"
   ]
  },
  {
   "cell_type": "code",
   "execution_count": null,
   "metadata": {},
   "outputs": [],
   "source": []
  }
 ],
 "metadata": {
  "kernelspec": {
   "display_name": "Python 3",
   "language": "python",
   "name": "python3"
  },
  "language_info": {
   "codemirror_mode": {
    "name": "ipython",
    "version": 3
   },
   "file_extension": ".py",
   "mimetype": "text/x-python",
   "name": "python",
   "nbconvert_exporter": "python",
   "pygments_lexer": "ipython3",
   "version": "3.7.1"
  }
 },
 "nbformat": 4,
 "nbformat_minor": 2
}
