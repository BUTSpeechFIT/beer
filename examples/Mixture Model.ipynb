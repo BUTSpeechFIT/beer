{
 "cells": [
  {
   "cell_type": "markdown",
   "metadata": {},
   "source": [
    "# Bayesian Mixture Model\n",
    "\n",
    "This notebook illustrate how to build and train a Bayesian Mixture Model with the [beer framework](https://github.com/beer-asr/beer)."
   ]
  },
  {
   "cell_type": "code",
   "execution_count": 1,
   "metadata": {},
   "outputs": [
    {
     "data": {
      "text/html": [
       "\n",
       "    <div class=\"bk-root\">\n",
       "        <a href=\"https://bokeh.pydata.org\" target=\"_blank\" class=\"bk-logo bk-logo-small bk-logo-notebook\"></a>\n",
       "        <span id=\"1001\">Loading BokehJS ...</span>\n",
       "    </div>"
      ]
     },
     "metadata": {},
     "output_type": "display_data"
    },
    {
     "data": {
      "application/javascript": [
       "\n",
       "(function(root) {\n",
       "  function now() {\n",
       "    return new Date();\n",
       "  }\n",
       "\n",
       "  var force = true;\n",
       "\n",
       "  if (typeof (root._bokeh_onload_callbacks) === \"undefined\" || force === true) {\n",
       "    root._bokeh_onload_callbacks = [];\n",
       "    root._bokeh_is_loading = undefined;\n",
       "  }\n",
       "\n",
       "  var JS_MIME_TYPE = 'application/javascript';\n",
       "  var HTML_MIME_TYPE = 'text/html';\n",
       "  var EXEC_MIME_TYPE = 'application/vnd.bokehjs_exec.v0+json';\n",
       "  var CLASS_NAME = 'output_bokeh rendered_html';\n",
       "\n",
       "  /**\n",
       "   * Render data to the DOM node\n",
       "   */\n",
       "  function render(props, node) {\n",
       "    var script = document.createElement(\"script\");\n",
       "    node.appendChild(script);\n",
       "  }\n",
       "\n",
       "  /**\n",
       "   * Handle when an output is cleared or removed\n",
       "   */\n",
       "  function handleClearOutput(event, handle) {\n",
       "    var cell = handle.cell;\n",
       "\n",
       "    var id = cell.output_area._bokeh_element_id;\n",
       "    var server_id = cell.output_area._bokeh_server_id;\n",
       "    // Clean up Bokeh references\n",
       "    if (id != null && id in Bokeh.index) {\n",
       "      Bokeh.index[id].model.document.clear();\n",
       "      delete Bokeh.index[id];\n",
       "    }\n",
       "\n",
       "    if (server_id !== undefined) {\n",
       "      // Clean up Bokeh references\n",
       "      var cmd = \"from bokeh.io.state import curstate; print(curstate().uuid_to_server['\" + server_id + \"'].get_sessions()[0].document.roots[0]._id)\";\n",
       "      cell.notebook.kernel.execute(cmd, {\n",
       "        iopub: {\n",
       "          output: function(msg) {\n",
       "            var id = msg.content.text.trim();\n",
       "            if (id in Bokeh.index) {\n",
       "              Bokeh.index[id].model.document.clear();\n",
       "              delete Bokeh.index[id];\n",
       "            }\n",
       "          }\n",
       "        }\n",
       "      });\n",
       "      // Destroy server and session\n",
       "      var cmd = \"import bokeh.io.notebook as ion; ion.destroy_server('\" + server_id + \"')\";\n",
       "      cell.notebook.kernel.execute(cmd);\n",
       "    }\n",
       "  }\n",
       "\n",
       "  /**\n",
       "   * Handle when a new output is added\n",
       "   */\n",
       "  function handleAddOutput(event, handle) {\n",
       "    var output_area = handle.output_area;\n",
       "    var output = handle.output;\n",
       "\n",
       "    // limit handleAddOutput to display_data with EXEC_MIME_TYPE content only\n",
       "    if ((output.output_type != \"display_data\") || (!output.data.hasOwnProperty(EXEC_MIME_TYPE))) {\n",
       "      return\n",
       "    }\n",
       "\n",
       "    var toinsert = output_area.element.find(\".\" + CLASS_NAME.split(' ')[0]);\n",
       "\n",
       "    if (output.metadata[EXEC_MIME_TYPE][\"id\"] !== undefined) {\n",
       "      toinsert[toinsert.length - 1].firstChild.textContent = output.data[JS_MIME_TYPE];\n",
       "      // store reference to embed id on output_area\n",
       "      output_area._bokeh_element_id = output.metadata[EXEC_MIME_TYPE][\"id\"];\n",
       "    }\n",
       "    if (output.metadata[EXEC_MIME_TYPE][\"server_id\"] !== undefined) {\n",
       "      var bk_div = document.createElement(\"div\");\n",
       "      bk_div.innerHTML = output.data[HTML_MIME_TYPE];\n",
       "      var script_attrs = bk_div.children[0].attributes;\n",
       "      for (var i = 0; i < script_attrs.length; i++) {\n",
       "        toinsert[toinsert.length - 1].firstChild.setAttribute(script_attrs[i].name, script_attrs[i].value);\n",
       "      }\n",
       "      // store reference to server id on output_area\n",
       "      output_area._bokeh_server_id = output.metadata[EXEC_MIME_TYPE][\"server_id\"];\n",
       "    }\n",
       "  }\n",
       "\n",
       "  function register_renderer(events, OutputArea) {\n",
       "\n",
       "    function append_mime(data, metadata, element) {\n",
       "      // create a DOM node to render to\n",
       "      var toinsert = this.create_output_subarea(\n",
       "        metadata,\n",
       "        CLASS_NAME,\n",
       "        EXEC_MIME_TYPE\n",
       "      );\n",
       "      this.keyboard_manager.register_events(toinsert);\n",
       "      // Render to node\n",
       "      var props = {data: data, metadata: metadata[EXEC_MIME_TYPE]};\n",
       "      render(props, toinsert[toinsert.length - 1]);\n",
       "      element.append(toinsert);\n",
       "      return toinsert\n",
       "    }\n",
       "\n",
       "    /* Handle when an output is cleared or removed */\n",
       "    events.on('clear_output.CodeCell', handleClearOutput);\n",
       "    events.on('delete.Cell', handleClearOutput);\n",
       "\n",
       "    /* Handle when a new output is added */\n",
       "    events.on('output_added.OutputArea', handleAddOutput);\n",
       "\n",
       "    /**\n",
       "     * Register the mime type and append_mime function with output_area\n",
       "     */\n",
       "    OutputArea.prototype.register_mime_type(EXEC_MIME_TYPE, append_mime, {\n",
       "      /* Is output safe? */\n",
       "      safe: true,\n",
       "      /* Index of renderer in `output_area.display_order` */\n",
       "      index: 0\n",
       "    });\n",
       "  }\n",
       "\n",
       "  // register the mime type if in Jupyter Notebook environment and previously unregistered\n",
       "  if (root.Jupyter !== undefined) {\n",
       "    var events = require('base/js/events');\n",
       "    var OutputArea = require('notebook/js/outputarea').OutputArea;\n",
       "\n",
       "    if (OutputArea.prototype.mime_types().indexOf(EXEC_MIME_TYPE) == -1) {\n",
       "      register_renderer(events, OutputArea);\n",
       "    }\n",
       "  }\n",
       "\n",
       "  \n",
       "  if (typeof (root._bokeh_timeout) === \"undefined\" || force === true) {\n",
       "    root._bokeh_timeout = Date.now() + 5000;\n",
       "    root._bokeh_failed_load = false;\n",
       "  }\n",
       "\n",
       "  var NB_LOAD_WARNING = {'data': {'text/html':\n",
       "     \"<div style='background-color: #fdd'>\\n\"+\n",
       "     \"<p>\\n\"+\n",
       "     \"BokehJS does not appear to have successfully loaded. If loading BokehJS from CDN, this \\n\"+\n",
       "     \"may be due to a slow or bad network connection. Possible fixes:\\n\"+\n",
       "     \"</p>\\n\"+\n",
       "     \"<ul>\\n\"+\n",
       "     \"<li>re-rerun `output_notebook()` to attempt to load from CDN again, or</li>\\n\"+\n",
       "     \"<li>use INLINE resources instead, as so:</li>\\n\"+\n",
       "     \"</ul>\\n\"+\n",
       "     \"<code>\\n\"+\n",
       "     \"from bokeh.resources import INLINE\\n\"+\n",
       "     \"output_notebook(resources=INLINE)\\n\"+\n",
       "     \"</code>\\n\"+\n",
       "     \"</div>\"}};\n",
       "\n",
       "  function display_loaded() {\n",
       "    var el = document.getElementById(\"1001\");\n",
       "    if (el != null) {\n",
       "      el.textContent = \"BokehJS is loading...\";\n",
       "    }\n",
       "    if (root.Bokeh !== undefined) {\n",
       "      if (el != null) {\n",
       "        el.textContent = \"BokehJS \" + root.Bokeh.version + \" successfully loaded.\";\n",
       "      }\n",
       "    } else if (Date.now() < root._bokeh_timeout) {\n",
       "      setTimeout(display_loaded, 100)\n",
       "    }\n",
       "  }\n",
       "\n",
       "\n",
       "  function run_callbacks() {\n",
       "    try {\n",
       "      root._bokeh_onload_callbacks.forEach(function(callback) { callback() });\n",
       "    }\n",
       "    finally {\n",
       "      delete root._bokeh_onload_callbacks\n",
       "    }\n",
       "    console.info(\"Bokeh: all callbacks have finished\");\n",
       "  }\n",
       "\n",
       "  function load_libs(js_urls, callback) {\n",
       "    root._bokeh_onload_callbacks.push(callback);\n",
       "    if (root._bokeh_is_loading > 0) {\n",
       "      console.log(\"Bokeh: BokehJS is being loaded, scheduling callback at\", now());\n",
       "      return null;\n",
       "    }\n",
       "    if (js_urls == null || js_urls.length === 0) {\n",
       "      run_callbacks();\n",
       "      return null;\n",
       "    }\n",
       "    console.log(\"Bokeh: BokehJS not loaded, scheduling load and callback at\", now());\n",
       "    root._bokeh_is_loading = js_urls.length;\n",
       "    for (var i = 0; i < js_urls.length; i++) {\n",
       "      var url = js_urls[i];\n",
       "      var s = document.createElement('script');\n",
       "      s.src = url;\n",
       "      s.async = false;\n",
       "      s.onreadystatechange = s.onload = function() {\n",
       "        root._bokeh_is_loading--;\n",
       "        if (root._bokeh_is_loading === 0) {\n",
       "          console.log(\"Bokeh: all BokehJS libraries loaded\");\n",
       "          run_callbacks()\n",
       "        }\n",
       "      };\n",
       "      s.onerror = function() {\n",
       "        console.warn(\"failed to load library \" + url);\n",
       "      };\n",
       "      console.log(\"Bokeh: injecting script tag for BokehJS library: \", url);\n",
       "      document.getElementsByTagName(\"head\")[0].appendChild(s);\n",
       "    }\n",
       "  };var element = document.getElementById(\"1001\");\n",
       "  if (element == null) {\n",
       "    console.log(\"Bokeh: ERROR: autoload.js configured with elementid '1001' but no matching script tag was found. \")\n",
       "    return false;\n",
       "  }\n",
       "\n",
       "  var js_urls = [\"https://cdn.pydata.org/bokeh/release/bokeh-1.0.0.min.js\", \"https://cdn.pydata.org/bokeh/release/bokeh-widgets-1.0.0.min.js\", \"https://cdn.pydata.org/bokeh/release/bokeh-tables-1.0.0.min.js\", \"https://cdn.pydata.org/bokeh/release/bokeh-gl-1.0.0.min.js\"];\n",
       "\n",
       "  var inline_js = [\n",
       "    function(Bokeh) {\n",
       "      Bokeh.set_log_level(\"info\");\n",
       "    },\n",
       "    \n",
       "    function(Bokeh) {\n",
       "      \n",
       "    },\n",
       "    function(Bokeh) {\n",
       "      console.log(\"Bokeh: injecting CSS: https://cdn.pydata.org/bokeh/release/bokeh-1.0.0.min.css\");\n",
       "      Bokeh.embed.inject_css(\"https://cdn.pydata.org/bokeh/release/bokeh-1.0.0.min.css\");\n",
       "      console.log(\"Bokeh: injecting CSS: https://cdn.pydata.org/bokeh/release/bokeh-widgets-1.0.0.min.css\");\n",
       "      Bokeh.embed.inject_css(\"https://cdn.pydata.org/bokeh/release/bokeh-widgets-1.0.0.min.css\");\n",
       "      console.log(\"Bokeh: injecting CSS: https://cdn.pydata.org/bokeh/release/bokeh-tables-1.0.0.min.css\");\n",
       "      Bokeh.embed.inject_css(\"https://cdn.pydata.org/bokeh/release/bokeh-tables-1.0.0.min.css\");\n",
       "    }\n",
       "  ];\n",
       "\n",
       "  function run_inline_js() {\n",
       "    \n",
       "    if ((root.Bokeh !== undefined) || (force === true)) {\n",
       "      for (var i = 0; i < inline_js.length; i++) {\n",
       "        inline_js[i].call(root, root.Bokeh);\n",
       "      }if (force === true) {\n",
       "        display_loaded();\n",
       "      }} else if (Date.now() < root._bokeh_timeout) {\n",
       "      setTimeout(run_inline_js, 100);\n",
       "    } else if (!root._bokeh_failed_load) {\n",
       "      console.log(\"Bokeh: BokehJS failed to load within specified timeout.\");\n",
       "      root._bokeh_failed_load = true;\n",
       "    } else if (force !== true) {\n",
       "      var cell = $(document.getElementById(\"1001\")).parents('.cell').data().cell;\n",
       "      cell.output_area.append_execute_result(NB_LOAD_WARNING)\n",
       "    }\n",
       "\n",
       "  }\n",
       "\n",
       "  if (root._bokeh_is_loading === 0) {\n",
       "    console.log(\"Bokeh: BokehJS loaded, going straight to plotting\");\n",
       "    run_inline_js();\n",
       "  } else {\n",
       "    load_libs(js_urls, function() {\n",
       "      console.log(\"Bokeh: BokehJS plotting callback run at\", now());\n",
       "      run_inline_js();\n",
       "    });\n",
       "  }\n",
       "}(window));"
      ],
      "application/vnd.bokehjs_load.v0+json": "\n(function(root) {\n  function now() {\n    return new Date();\n  }\n\n  var force = true;\n\n  if (typeof (root._bokeh_onload_callbacks) === \"undefined\" || force === true) {\n    root._bokeh_onload_callbacks = [];\n    root._bokeh_is_loading = undefined;\n  }\n\n  \n\n  \n  if (typeof (root._bokeh_timeout) === \"undefined\" || force === true) {\n    root._bokeh_timeout = Date.now() + 5000;\n    root._bokeh_failed_load = false;\n  }\n\n  var NB_LOAD_WARNING = {'data': {'text/html':\n     \"<div style='background-color: #fdd'>\\n\"+\n     \"<p>\\n\"+\n     \"BokehJS does not appear to have successfully loaded. If loading BokehJS from CDN, this \\n\"+\n     \"may be due to a slow or bad network connection. Possible fixes:\\n\"+\n     \"</p>\\n\"+\n     \"<ul>\\n\"+\n     \"<li>re-rerun `output_notebook()` to attempt to load from CDN again, or</li>\\n\"+\n     \"<li>use INLINE resources instead, as so:</li>\\n\"+\n     \"</ul>\\n\"+\n     \"<code>\\n\"+\n     \"from bokeh.resources import INLINE\\n\"+\n     \"output_notebook(resources=INLINE)\\n\"+\n     \"</code>\\n\"+\n     \"</div>\"}};\n\n  function display_loaded() {\n    var el = document.getElementById(\"1001\");\n    if (el != null) {\n      el.textContent = \"BokehJS is loading...\";\n    }\n    if (root.Bokeh !== undefined) {\n      if (el != null) {\n        el.textContent = \"BokehJS \" + root.Bokeh.version + \" successfully loaded.\";\n      }\n    } else if (Date.now() < root._bokeh_timeout) {\n      setTimeout(display_loaded, 100)\n    }\n  }\n\n\n  function run_callbacks() {\n    try {\n      root._bokeh_onload_callbacks.forEach(function(callback) { callback() });\n    }\n    finally {\n      delete root._bokeh_onload_callbacks\n    }\n    console.info(\"Bokeh: all callbacks have finished\");\n  }\n\n  function load_libs(js_urls, callback) {\n    root._bokeh_onload_callbacks.push(callback);\n    if (root._bokeh_is_loading > 0) {\n      console.log(\"Bokeh: BokehJS is being loaded, scheduling callback at\", now());\n      return null;\n    }\n    if (js_urls == null || js_urls.length === 0) {\n      run_callbacks();\n      return null;\n    }\n    console.log(\"Bokeh: BokehJS not loaded, scheduling load and callback at\", now());\n    root._bokeh_is_loading = js_urls.length;\n    for (var i = 0; i < js_urls.length; i++) {\n      var url = js_urls[i];\n      var s = document.createElement('script');\n      s.src = url;\n      s.async = false;\n      s.onreadystatechange = s.onload = function() {\n        root._bokeh_is_loading--;\n        if (root._bokeh_is_loading === 0) {\n          console.log(\"Bokeh: all BokehJS libraries loaded\");\n          run_callbacks()\n        }\n      };\n      s.onerror = function() {\n        console.warn(\"failed to load library \" + url);\n      };\n      console.log(\"Bokeh: injecting script tag for BokehJS library: \", url);\n      document.getElementsByTagName(\"head\")[0].appendChild(s);\n    }\n  };var element = document.getElementById(\"1001\");\n  if (element == null) {\n    console.log(\"Bokeh: ERROR: autoload.js configured with elementid '1001' but no matching script tag was found. \")\n    return false;\n  }\n\n  var js_urls = [\"https://cdn.pydata.org/bokeh/release/bokeh-1.0.0.min.js\", \"https://cdn.pydata.org/bokeh/release/bokeh-widgets-1.0.0.min.js\", \"https://cdn.pydata.org/bokeh/release/bokeh-tables-1.0.0.min.js\", \"https://cdn.pydata.org/bokeh/release/bokeh-gl-1.0.0.min.js\"];\n\n  var inline_js = [\n    function(Bokeh) {\n      Bokeh.set_log_level(\"info\");\n    },\n    \n    function(Bokeh) {\n      \n    },\n    function(Bokeh) {\n      console.log(\"Bokeh: injecting CSS: https://cdn.pydata.org/bokeh/release/bokeh-1.0.0.min.css\");\n      Bokeh.embed.inject_css(\"https://cdn.pydata.org/bokeh/release/bokeh-1.0.0.min.css\");\n      console.log(\"Bokeh: injecting CSS: https://cdn.pydata.org/bokeh/release/bokeh-widgets-1.0.0.min.css\");\n      Bokeh.embed.inject_css(\"https://cdn.pydata.org/bokeh/release/bokeh-widgets-1.0.0.min.css\");\n      console.log(\"Bokeh: injecting CSS: https://cdn.pydata.org/bokeh/release/bokeh-tables-1.0.0.min.css\");\n      Bokeh.embed.inject_css(\"https://cdn.pydata.org/bokeh/release/bokeh-tables-1.0.0.min.css\");\n    }\n  ];\n\n  function run_inline_js() {\n    \n    if ((root.Bokeh !== undefined) || (force === true)) {\n      for (var i = 0; i < inline_js.length; i++) {\n        inline_js[i].call(root, root.Bokeh);\n      }if (force === true) {\n        display_loaded();\n      }} else if (Date.now() < root._bokeh_timeout) {\n      setTimeout(run_inline_js, 100);\n    } else if (!root._bokeh_failed_load) {\n      console.log(\"Bokeh: BokehJS failed to load within specified timeout.\");\n      root._bokeh_failed_load = true;\n    } else if (force !== true) {\n      var cell = $(document.getElementById(\"1001\")).parents('.cell').data().cell;\n      cell.output_area.append_execute_result(NB_LOAD_WARNING)\n    }\n\n  }\n\n  if (root._bokeh_is_loading === 0) {\n    console.log(\"Bokeh: BokehJS loaded, going straight to plotting\");\n    run_inline_js();\n  } else {\n    load_libs(js_urls, function() {\n      console.log(\"Bokeh: BokehJS plotting callback run at\", now());\n      run_inline_js();\n    });\n  }\n}(window));"
     },
     "metadata": {},
     "output_type": "display_data"
    }
   ],
   "source": [
    "# Add \"beer\" to the PYTHONPATH\n",
    "from collections import defaultdict\n",
    "import random\n",
    "import sys\n",
    "sys.path.insert(0, '../')\n",
    "\n",
    "import copy\n",
    "\n",
    "import beer\n",
    "import numpy as np\n",
    "import torch\n",
    "\n",
    "# For plotting.\n",
    "from bokeh.io import show, output_notebook\n",
    "from bokeh.plotting import figure, gridplot\n",
    "from bokeh.models import LinearAxis, Range1d\n",
    "output_notebook()\n",
    "\n",
    "# Convenience functions for plotting.\n",
    "import plotting\n",
    "\n",
    "%load_ext autoreload\n",
    "%autoreload 2"
   ]
  },
  {
   "cell_type": "markdown",
   "metadata": {},
   "source": [
    "## Data\n",
    "\n",
    "As an illustration, we generate a synthetic data set composed of two Normal distributed cluster. One has a diagonal covariance matrix whereas the other has a dense covariance matrix."
   ]
  },
  {
   "cell_type": "code",
   "execution_count": 2,
   "metadata": {},
   "outputs": [
    {
     "name": "stdout",
     "output_type": "stream",
     "text": [
      "(200, 2)\n"
     ]
    }
   ],
   "source": [
    "N = 100\n",
    "\n",
    "# First cluster.\n",
    "mean = np.array([-5, 5]) \n",
    "cov = .5 *np.array([[.75, 0.], [0, 5.]])\n",
    "data1 = np.random.multivariate_normal(mean, cov, size=N)\n",
    "\n",
    "# Second cluster.\n",
    "mean = np.array([5, 5]) \n",
    "cov = 2 * np.array([[2, -.5], [-.5, .75]])\n",
    "data2 = np.random.multivariate_normal(mean, cov, size=N)\n",
    "\n",
    "# Merge everything to get the finale data set.\n",
    "data = np.vstack([data1, data2])\n",
    "np.random.shuffle(data)\n",
    "\n",
    "# First cluster.\n",
    "mean = np.array([-5, 5]) \n",
    "cov = .5 *np.array([[.75, 0.], [0, 5.]])\n",
    "data1 = np.random.multivariate_normal(mean, cov, size=N)\n",
    "\n",
    "# Second cluster.\n",
    "mean = np.array([5, 5]) \n",
    "cov = 2 * np.array([[2, -.5], [-.5, .75]])\n",
    "data2 = np.random.multivariate_normal(mean, cov, size=N)\n",
    "\n",
    "# Merge everything to get the finale data set.\n",
    "test_data = np.vstack([data1, data2])\n",
    "np.random.shuffle(test_data)\n",
    "\n",
    "print(data.shape)"
   ]
  },
  {
   "cell_type": "code",
   "execution_count": 3,
   "metadata": {},
   "outputs": [
    {
     "data": {
      "text/html": [
       "\n",
       "\n",
       "\n",
       "\n",
       "\n",
       "\n",
       "  <div class=\"bk-root\" id=\"5c8ecc8d-3384-4901-8ed9-89ddeb0d2b99\"></div>\n"
      ]
     },
     "metadata": {},
     "output_type": "display_data"
    },
    {
     "data": {
      "application/javascript": [
       "(function(root) {\n",
       "  function embed_document(root) {\n",
       "    \n",
       "  var docs_json = {\"8ce3863f-da56-4be7-bf04-4ac09a90ca35\":{\"roots\":{\"references\":[{\"attributes\":{\"below\":[{\"id\":\"1011\",\"type\":\"LinearAxis\"}],\"left\":[{\"id\":\"1016\",\"type\":\"LinearAxis\"}],\"plot_height\":300,\"plot_width\":300,\"renderers\":[{\"id\":\"1011\",\"type\":\"LinearAxis\"},{\"id\":\"1015\",\"type\":\"Grid\"},{\"id\":\"1016\",\"type\":\"LinearAxis\"},{\"id\":\"1020\",\"type\":\"Grid\"},{\"id\":\"1029\",\"type\":\"BoxAnnotation\"},{\"id\":\"1039\",\"type\":\"GlyphRenderer\"}],\"title\":{\"id\":\"1041\",\"type\":\"Title\"},\"toolbar\":{\"id\":\"1027\",\"type\":\"Toolbar\"},\"x_range\":{\"id\":\"1003\",\"type\":\"Range1d\"},\"x_scale\":{\"id\":\"1007\",\"type\":\"LinearScale\"},\"y_range\":{\"id\":\"1005\",\"type\":\"Range1d\"},\"y_scale\":{\"id\":\"1009\",\"type\":\"LinearScale\"}},\"id\":\"1002\",\"subtype\":\"Figure\",\"type\":\"Plot\"},{\"attributes\":{\"plot\":null,\"text\":\"\"},\"id\":\"1041\",\"type\":\"Title\"},{\"attributes\":{\"plot\":{\"id\":\"1002\",\"subtype\":\"Figure\",\"type\":\"Plot\"},\"ticker\":{\"id\":\"1012\",\"type\":\"BasicTicker\"}},\"id\":\"1015\",\"type\":\"Grid\"},{\"attributes\":{},\"id\":\"1044\",\"type\":\"BasicTickFormatter\"},{\"attributes\":{\"formatter\":{\"id\":\"1046\",\"type\":\"BasicTickFormatter\"},\"plot\":{\"id\":\"1002\",\"subtype\":\"Figure\",\"type\":\"Plot\"},\"ticker\":{\"id\":\"1017\",\"type\":\"BasicTicker\"}},\"id\":\"1016\",\"type\":\"LinearAxis\"},{\"attributes\":{},\"id\":\"1046\",\"type\":\"BasicTickFormatter\"},{\"attributes\":{},\"id\":\"1017\",\"type\":\"BasicTicker\"},{\"attributes\":{},\"id\":\"1047\",\"type\":\"UnionRenderers\"},{\"attributes\":{\"dimension\":1,\"plot\":{\"id\":\"1002\",\"subtype\":\"Figure\",\"type\":\"Plot\"},\"ticker\":{\"id\":\"1017\",\"type\":\"BasicTicker\"}},\"id\":\"1020\",\"type\":\"Grid\"},{\"attributes\":{},\"id\":\"1048\",\"type\":\"Selection\"},{\"attributes\":{\"fill_color\":{\"value\":\"#1f77b4\"},\"line_color\":{\"value\":\"#1f77b4\"},\"x\":{\"field\":\"x\"},\"y\":{\"field\":\"y\"}},\"id\":\"1037\",\"type\":\"Circle\"},{\"attributes\":{\"fill_alpha\":{\"value\":0.1},\"fill_color\":{\"value\":\"#1f77b4\"},\"line_alpha\":{\"value\":0.1},\"line_color\":{\"value\":\"#1f77b4\"},\"x\":{\"field\":\"x\"},\"y\":{\"field\":\"y\"}},\"id\":\"1038\",\"type\":\"Circle\"},{\"attributes\":{},\"id\":\"1021\",\"type\":\"PanTool\"},{\"attributes\":{},\"id\":\"1022\",\"type\":\"WheelZoomTool\"},{\"attributes\":{\"overlay\":{\"id\":\"1029\",\"type\":\"BoxAnnotation\"}},\"id\":\"1023\",\"type\":\"BoxZoomTool\"},{\"attributes\":{},\"id\":\"1024\",\"type\":\"SaveTool\"},{\"attributes\":{},\"id\":\"1025\",\"type\":\"ResetTool\"},{\"attributes\":{\"callback\":null,\"data\":{\"x\":{\"__ndarray__\":\"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\",\"dtype\":\"float64\",\"shape\":[200]},\"y\":{\"__ndarray__\":\"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\",\"dtype\":\"float64\",\"shape\":[200]}},\"selected\":{\"id\":\"1048\",\"type\":\"Selection\"},\"selection_policy\":{\"id\":\"1047\",\"type\":\"UnionRenderers\"}},\"id\":\"1036\",\"type\":\"ColumnDataSource\"},{\"attributes\":{\"callback\":null,\"end\":14.997894125956513,\"start\":-10.178480766857806},\"id\":\"1005\",\"type\":\"Range1d\"},{\"attributes\":{},\"id\":\"1026\",\"type\":\"HelpTool\"},{\"attributes\":{\"callback\":null,\"end\":14.997894125956513,\"start\":-10.178480766857806},\"id\":\"1003\",\"type\":\"Range1d\"},{\"attributes\":{\"active_drag\":\"auto\",\"active_inspect\":\"auto\",\"active_multi\":null,\"active_scroll\":\"auto\",\"active_tap\":\"auto\",\"tools\":[{\"id\":\"1021\",\"type\":\"PanTool\"},{\"id\":\"1022\",\"type\":\"WheelZoomTool\"},{\"id\":\"1023\",\"type\":\"BoxZoomTool\"},{\"id\":\"1024\",\"type\":\"SaveTool\"},{\"id\":\"1025\",\"type\":\"ResetTool\"},{\"id\":\"1026\",\"type\":\"HelpTool\"}]},\"id\":\"1027\",\"type\":\"Toolbar\"},{\"attributes\":{\"data_source\":{\"id\":\"1036\",\"type\":\"ColumnDataSource\"},\"glyph\":{\"id\":\"1037\",\"type\":\"Circle\"},\"hover_glyph\":null,\"muted_glyph\":null,\"nonselection_glyph\":{\"id\":\"1038\",\"type\":\"Circle\"},\"selection_glyph\":null,\"view\":{\"id\":\"1040\",\"type\":\"CDSView\"}},\"id\":\"1039\",\"type\":\"GlyphRenderer\"},{\"attributes\":{},\"id\":\"1007\",\"type\":\"LinearScale\"},{\"attributes\":{\"bottom_units\":\"screen\",\"fill_alpha\":{\"value\":0.5},\"fill_color\":{\"value\":\"lightgrey\"},\"left_units\":\"screen\",\"level\":\"overlay\",\"line_alpha\":{\"value\":1.0},\"line_color\":{\"value\":\"black\"},\"line_dash\":[4,4],\"line_width\":{\"value\":2},\"plot\":null,\"render_mode\":\"css\",\"right_units\":\"screen\",\"top_units\":\"screen\"},\"id\":\"1029\",\"type\":\"BoxAnnotation\"},{\"attributes\":{},\"id\":\"1009\",\"type\":\"LinearScale\"},{\"attributes\":{\"source\":{\"id\":\"1036\",\"type\":\"ColumnDataSource\"}},\"id\":\"1040\",\"type\":\"CDSView\"},{\"attributes\":{\"formatter\":{\"id\":\"1044\",\"type\":\"BasicTickFormatter\"},\"plot\":{\"id\":\"1002\",\"subtype\":\"Figure\",\"type\":\"Plot\"},\"ticker\":{\"id\":\"1012\",\"type\":\"BasicTicker\"}},\"id\":\"1011\",\"type\":\"LinearAxis\"},{\"attributes\":{},\"id\":\"1012\",\"type\":\"BasicTicker\"}],\"root_ids\":[\"1002\"]},\"title\":\"Bokeh Application\",\"version\":\"1.0.0\"}};\n",
       "  var render_items = [{\"docid\":\"8ce3863f-da56-4be7-bf04-4ac09a90ca35\",\"roots\":{\"1002\":\"5c8ecc8d-3384-4901-8ed9-89ddeb0d2b99\"}}];\n",
       "  root.Bokeh.embed.embed_items_notebook(docs_json, render_items);\n",
       "\n",
       "  }\n",
       "  if (root.Bokeh !== undefined) {\n",
       "    embed_document(root);\n",
       "  } else {\n",
       "    var attempts = 0;\n",
       "    var timer = setInterval(function(root) {\n",
       "      if (root.Bokeh !== undefined) {\n",
       "        embed_document(root);\n",
       "        clearInterval(timer);\n",
       "      }\n",
       "      attempts++;\n",
       "      if (attempts > 100) {\n",
       "        console.log(\"Bokeh: ERROR: Unable to run BokehJS code because BokehJS library is missing\");\n",
       "        clearInterval(timer);\n",
       "      }\n",
       "    }, 10, root)\n",
       "  }\n",
       "})(window);"
      ],
      "application/vnd.bokehjs_exec.v0+json": ""
     },
     "metadata": {
      "application/vnd.bokehjs_exec.v0+json": {
       "id": "1002"
      }
     },
     "output_type": "display_data"
    }
   ],
   "source": [
    "# Mean, variance of the data to scale the figure.\n",
    "mean = data.mean(axis=0)\n",
    "var = data.var(axis=0)\n",
    "std_dev = np.sqrt(max(var))\n",
    "x_range = (mean[0] - 2 * std_dev, mean[0] + 2 * std_dev)\n",
    "y_range = (mean[1] - 2 * std_dev, mean[1] + 2 * std_dev)\n",
    "global_range = (min(x_range[0], y_range[0]), max(x_range[1], y_range[1]))\n",
    "\n",
    "fig = figure(width=300, height=300,\n",
    "             x_range=global_range, y_range=global_range)\n",
    "fig.circle(data[:, 0], data[:, 1])\n",
    "\n",
    "show(fig)"
   ]
  },
  {
   "cell_type": "markdown",
   "metadata": {},
   "source": [
    "## Model Creation\n",
    "\n",
    "We create two types of mixture model: one whose (Normal) components have full covariance matrix and the other whose (Normal) components have diagonal covariance matrix."
   ]
  },
  {
   "cell_type": "code",
   "execution_count": 4,
   "metadata": {},
   "outputs": [
    {
     "name": "stdout",
     "output_type": "stream",
     "text": [
      "tensor([-0.0951,  4.9145], dtype=torch.float64)\n",
      "tensor([25.4187,  2.1149], dtype=torch.float64)\n"
     ]
    }
   ],
   "source": [
    "# We use the global mean/cov. matrix of the data to initialize the mixture.\n",
    "data_mean = torch.from_numpy(data.mean(axis=0)).double()\n",
    "data_var = torch.from_numpy(np.var(data, axis=0)).double()\n",
    "print(data_mean), print(data_var)\n",
    "\n",
    "noise_std = .1\n",
    "shared_cov = False\n",
    "cov_type = 'isotropic'\n",
    "ncomps = 20\n",
    "\n",
    "modelset = beer.NormalSet.create(data_mean, data_var, size=ncomps,\n",
    "                                prior_strength=1., noise_std=noise_std, \n",
    "                                cov_type=cov_type, shared_cov=True)\n",
    "model = beer.Mixture.create(modelset, prior_strength=1e-3).double()"
   ]
  },
  {
   "cell_type": "markdown",
   "metadata": {},
   "source": [
    "## Variational Bayes Training "
   ]
  },
  {
   "cell_type": "code",
   "execution_count": 5,
   "metadata": {},
   "outputs": [
    {
     "data": {
      "text/plain": [
       "torch.Size([1, 200, 2])"
      ]
     },
     "execution_count": 5,
     "metadata": {},
     "output_type": "execute_result"
    }
   ],
   "source": [
    "nbatches = 1\n",
    "X = torch.from_numpy(data).double()\n",
    "test_X = torch.from_numpy(test_data).double()\n",
    "batches = X.view(nbatches, -1, 2)\n",
    "batches.shape"
   ]
  },
  {
   "cell_type": "code",
   "execution_count": 6,
   "metadata": {
    "scrolled": true
   },
   "outputs": [],
   "source": [
    "epochs = 500\n",
    "lrate = 1.\n",
    "\n",
    "optim = beer.VariationalBayesOptimizer(model.mean_field_factorization(), lrate)\n",
    "    \n",
    "\n",
    "elbos = []\n",
    "for epoch in range(epochs):\n",
    "    batch_ids = list(range(len(batches)))\n",
    "    random.shuffle(batch_ids)\n",
    "    for batch_id in batch_ids:\n",
    "        batch = batches[batch_id]\n",
    "        optim.init_step()\n",
    "        elbo = beer.evidence_lower_bound(model, batch, datasize=len(X))\n",
    "        elbo.backward()\n",
    "        optim.step()\n",
    "        elbos.append(float(elbo) / len(X))"
   ]
  },
  {
   "cell_type": "code",
   "execution_count": 7,
   "metadata": {
    "scrolled": false
   },
   "outputs": [
    {
     "data": {
      "text/html": [
       "\n",
       "\n",
       "\n",
       "\n",
       "\n",
       "\n",
       "  <div class=\"bk-root\" id=\"f94e812e-cd1a-4ea9-bae3-45335f381819\"></div>\n"
      ]
     },
     "metadata": {},
     "output_type": "display_data"
    },
    {
     "data": {
      "application/javascript": [
       "(function(root) {\n",
       "  function embed_document(root) {\n",
       "    \n",
       "  var docs_json = {\"5ec36544-ab23-4b97-89e3-6061b19d7ae1\":{\"roots\":{\"references\":[{\"attributes\":{\"below\":[{\"id\":\"1113\",\"type\":\"LinearAxis\"}],\"left\":[{\"id\":\"1118\",\"type\":\"LinearAxis\"}],\"plot_height\":400,\"plot_width\":400,\"renderers\":[{\"id\":\"1113\",\"type\":\"LinearAxis\"},{\"id\":\"1117\",\"type\":\"Grid\"},{\"id\":\"1118\",\"type\":\"LinearAxis\"},{\"id\":\"1122\",\"type\":\"Grid\"},{\"id\":\"1131\",\"type\":\"BoxAnnotation\"},{\"id\":\"1141\",\"type\":\"GlyphRenderer\"}],\"title\":{\"id\":\"1152\",\"type\":\"Title\"},\"toolbar\":{\"id\":\"1129\",\"type\":\"Toolbar\"},\"x_range\":{\"id\":\"1105\",\"type\":\"DataRange1d\"},\"x_scale\":{\"id\":\"1109\",\"type\":\"LinearScale\"},\"y_range\":{\"id\":\"1107\",\"type\":\"DataRange1d\"},\"y_scale\":{\"id\":\"1111\",\"type\":\"LinearScale\"}},\"id\":\"1104\",\"subtype\":\"Figure\",\"type\":\"Plot\"},{\"attributes\":{},\"id\":\"1155\",\"type\":\"BasicTickFormatter\"},{\"attributes\":{},\"id\":\"1127\",\"type\":\"ResetTool\"},{\"attributes\":{\"axis_label\":\"epoch\",\"formatter\":{\"id\":\"1155\",\"type\":\"BasicTickFormatter\"},\"plot\":{\"id\":\"1104\",\"subtype\":\"Figure\",\"type\":\"Plot\"},\"ticker\":{\"id\":\"1114\",\"type\":\"BasicTicker\"}},\"id\":\"1113\",\"type\":\"LinearAxis\"},{\"attributes\":{},\"id\":\"1126\",\"type\":\"SaveTool\"},{\"attributes\":{\"source\":{\"id\":\"1138\",\"type\":\"ColumnDataSource\"}},\"id\":\"1142\",\"type\":\"CDSView\"},{\"attributes\":{\"active_drag\":\"auto\",\"active_inspect\":\"auto\",\"active_multi\":null,\"active_scroll\":\"auto\",\"active_tap\":\"auto\",\"tools\":[{\"id\":\"1123\",\"type\":\"PanTool\"},{\"id\":\"1124\",\"type\":\"WheelZoomTool\"},{\"id\":\"1125\",\"type\":\"BoxZoomTool\"},{\"id\":\"1126\",\"type\":\"SaveTool\"},{\"id\":\"1127\",\"type\":\"ResetTool\"},{\"id\":\"1128\",\"type\":\"HelpTool\"}]},\"id\":\"1129\",\"type\":\"Toolbar\"},{\"attributes\":{},\"id\":\"1123\",\"type\":\"PanTool\"},{\"attributes\":{\"overlay\":{\"id\":\"1131\",\"type\":\"BoxAnnotation\"}},\"id\":\"1125\",\"type\":\"BoxZoomTool\"},{\"attributes\":{},\"id\":\"1128\",\"type\":\"HelpTool\"},{\"attributes\":{},\"id\":\"1159\",\"type\":\"Selection\"},{\"attributes\":{},\"id\":\"1111\",\"type\":\"LinearScale\"},{\"attributes\":{\"callback\":null},\"id\":\"1105\",\"type\":\"DataRange1d\"},{\"attributes\":{},\"id\":\"1114\",\"type\":\"BasicTicker\"},{\"attributes\":{},\"id\":\"1157\",\"type\":\"BasicTickFormatter\"},{\"attributes\":{},\"id\":\"1109\",\"type\":\"LinearScale\"},{\"attributes\":{\"line_alpha\":0.1,\"line_color\":\"#1f77b4\",\"x\":{\"field\":\"x\"},\"y\":{\"field\":\"y\"}},\"id\":\"1140\",\"type\":\"Line\"},{\"attributes\":{\"data_source\":{\"id\":\"1138\",\"type\":\"ColumnDataSource\"},\"glyph\":{\"id\":\"1139\",\"type\":\"Line\"},\"hover_glyph\":null,\"muted_glyph\":null,\"nonselection_glyph\":{\"id\":\"1140\",\"type\":\"Line\"},\"selection_glyph\":null,\"view\":{\"id\":\"1142\",\"type\":\"CDSView\"}},\"id\":\"1141\",\"type\":\"GlyphRenderer\"},{\"attributes\":{\"bottom_units\":\"screen\",\"fill_alpha\":{\"value\":0.5},\"fill_color\":{\"value\":\"lightgrey\"},\"left_units\":\"screen\",\"level\":\"overlay\",\"line_alpha\":{\"value\":1.0},\"line_color\":{\"value\":\"black\"},\"line_dash\":[4,4],\"line_width\":{\"value\":2},\"plot\":null,\"render_mode\":\"css\",\"right_units\":\"screen\",\"top_units\":\"screen\"},\"id\":\"1131\",\"type\":\"BoxAnnotation\"},{\"attributes\":{\"plot\":{\"id\":\"1104\",\"subtype\":\"Figure\",\"type\":\"Plot\"},\"ticker\":{\"id\":\"1114\",\"type\":\"BasicTicker\"}},\"id\":\"1117\",\"type\":\"Grid\"},{\"attributes\":{},\"id\":\"1119\",\"type\":\"BasicTicker\"},{\"attributes\":{},\"id\":\"1124\",\"type\":\"WheelZoomTool\"},{\"attributes\":{\"dimension\":1,\"plot\":{\"id\":\"1104\",\"subtype\":\"Figure\",\"type\":\"Plot\"},\"ticker\":{\"id\":\"1119\",\"type\":\"BasicTicker\"}},\"id\":\"1122\",\"type\":\"Grid\"},{\"attributes\":{\"axis_label\":\"ELBO\",\"formatter\":{\"id\":\"1157\",\"type\":\"BasicTickFormatter\"},\"plot\":{\"id\":\"1104\",\"subtype\":\"Figure\",\"type\":\"Plot\"},\"ticker\":{\"id\":\"1119\",\"type\":\"BasicTicker\"}},\"id\":\"1118\",\"type\":\"LinearAxis\"},{\"attributes\":{\"callback\":null,\"data\":{\"x\":[0,1,2,3,4,5,6,7,8,9,10,11,12,13,14,15,16,17,18,19,20,21,22,23,24,25,26,27,28,29,30,31,32,33,34,35,36,37,38,39,40,41,42,43,44,45,46,47,48,49,50,51,52,53,54,55,56,57,58,59,60,61,62,63,64,65,66,67,68,69,70,71,72,73,74,75,76,77,78,79,80,81,82,83,84,85,86,87,88,89,90,91,92,93,94,95,96,97,98,99,100,101,102,103,104,105,106,107,108,109,110,111,112,113,114,115,116,117,118,119,120,121,122,123,124,125,126,127,128,129,130,131,132,133,134,135,136,137,138,139,140,141,142,143,144,145,146,147,148,149,150,151,152,153,154,155,156,157,158,159,160,161,162,163,164,165,166,167,168,169,170,171,172,173,174,175,176,177,178,179,180,181,182,183,184,185,186,187,188,189,190,191,192,193,194,195,196,197,198,199,200,201,202,203,204,205,206,207,208,209,210,211,212,213,214,215,216,217,218,219,220,221,222,223,224,225,226,227,228,229,230,231,232,233,234,235,236,237,238,239,240,241,242,243,244,245,246,247,248,249,250,251,252,253,254,255,256,257,258,259,260,261,262,263,264,265,266,267,268,269,270,271,272,273,274,275,276,277,278,279,280,281,282,283,284,285,286,287,288,289,290,291,292,293,294,295,296,297,298,299,300,301,302,303,304,305,306,307,308,309,310,311,312,313,314,315,316,317,318,319,320,321,322,323,324,325,326,327,328,329,330,331,332,333,334,335,336,337,338,339,340,341,342,343,344,345,346,347,348,349,350,351,352,353,354,355,356,357,358,359,360,361,362,363,364,365,366,367,368,369,370,371,372,373,374,375,376,377,378,379,380,381,382,383,384,385,386,387,388,389,390,391,392,393,394,395,396,397,398,399,400,401,402,403,404,405,406,407,408,409,410,411,412,413,414,415,416,417,418,419,420,421,422,423,424,425,426,427,428,429,430,431,432,433,434,435,436,437,438,439,440,441,442,443,444,445,446,447,448,449,450,451,452,453,454,455,456,457,458,459,460,461,462,463,464,465,466,467,468,469,470,471,472,473,474,475,476,477,478,479,480,481,482,483,484,485,486,487,488,489,490,491,492,493,494,495,496,497,498,499],\"y\":[-19004.19941379275,-6.678101836156052,-6.667081151213077,-6.6383698742043835,-6.569093583119702,-6.406171149367732,-6.0730664485640125,-5.8093913689851515,-5.755608499232817,-5.694765777043066,-5.591315643517465,-5.467383751973146,-5.359061570651195,-5.20043949944608,-5.043785304476311,-5.018225013480238,-4.978215355232696,-4.907457171062151,-4.8429614656246525,-4.769350522847137,-4.739094719701339,-4.7177958761316505,-4.689121982470216,-4.667482790897535,-4.6573764489459055,-4.639123018550824,-4.61673375676593,-4.589204942034226,-4.5879375753870075,-4.58688951888188,-4.586117523531721,-4.585579941799272,-4.585186313812606,-4.584854818598356,-4.58453161534331,-4.584184370865148,-4.583790935397755,-4.583330747221579,-4.582778519883363,-4.582097625752309,-4.581229439023655,-4.580070691620062,-4.578413291584746,-4.575729943087179,-4.57009555415467,-4.554585668774077,-4.532174111964937,-4.501882790092063,-4.5018281672294655,-4.501772968072145,-4.501716885157171,-4.501659898048538,-4.501602062543798,-4.501543458878355,-4.501484178781694,-4.501424321997696,-4.501363995092494,-4.501303310780758,-4.501242387323189,-4.501181347876821,-4.501120319765554,-4.501059433663121,-4.5009988226900015,-4.500938621430711,-4.500878964881221,-4.500819987339668,-4.500761821255571,-4.500704596055685,-4.5006484369661575,-4.500593463852296,-4.500539790098011,-4.50048752154729,-4.500436755529562,-4.500387579989473,-4.500340072739666,-4.50029430085263,-4.50025032020399,-4.500208175176362,-4.500167898528286,-4.500129511428723,-4.500093023653104,-4.500058433933001,-4.500025730447388,-4.499994891440525,-4.499965885948574,-4.499938674615197,-4.499913210575314,-4.499889440385493,-4.499867304980045,-4.499846740632564,-4.499827679904446,-4.499810052563582,-4.49979378645905,-4.499778808339891,-4.499765044608689,-4.499752422003495,-4.4997408682036335,-4.49973031235773,-4.499720685533853,-4.49971192109378,-4.499703954994504,-4.4996967260216065,-4.499690175959583,-4.499684249705066,-4.499678895329055,-4.499674064094485,-4.499669710435241,-4.499665791902734,-4.4996622690855785,-4.4996591055077,-4.499656267509664,-4.499653724117497,-4.499651446902829,-4.4996494098376925,-4.499647589146716,-4.49964596315925,-4.499644512163232,-4.499643218262483,-4.4996420652386515,-4.4996410384187815,-4.499640124549135,-4.499639311675844,-4.49963858903256,-4.499637946935263,-4.499637376684336,-4.499636870473548,-4.499636421306039,-4.499636022916859,-4.499635669701842,-4.4996353566524645,-4.499635079296391,-4.499634833643265,-4.4996346161354746,-4.4996344236034505,-4.499634253225259,-4.499634102490015,-4.499633969164951,-4.499633851265659,-4.499633747029428,-4.499633654891221,-4.499633573462144,-4.499633501510149,-4.499633437942789,-4.4996333817917336,-4.499633332198995,-4.499633288404603,-4.499633249735624,-4.499633215596368,-4.499633185459653,-4.499633158859087,-4.499633135382113,-4.499633114663907,-4.499633096381907,-4.499633080251013,-4.499633066019227,-4.499633053463908,-4.499633042388324,-4.499633032618727,-4.499633024001643,-4.499633016401552,-4.499633009698786,-4.499633003787699,-4.499632998575042,-4.49963299397849,-4.499632989925395,-4.499632986351646,-4.499632983200663,-4.499632980422538,-4.499632977973226,-4.499632975813879,-4.499632973910218,-4.499632972232022,-4.49963297075262,-4.499632969448495,-4.499632968298904,-4.499632967285561,-4.49963296639233,-4.499632965604995,-4.499632964911014,-4.499632964299323,-4.499632963760174,-4.499632963284975,-4.499632962866137,-4.499632962496991,-4.499632962171638,-4.499632961884891,-4.499632961632167,-4.4996329614094295,-4.4996329612131305,-4.499632961040126,-4.499632960887661,-4.499632960753289,-4.499632960634869,-4.499632960530504,-4.49963296043853,-4.499632960357479,-4.499632960286043,-4.499632960223093,-4.499632960167619,-4.499632960118729,-4.499632960075651,-4.49963296003768,-4.499632960004224,-4.499632959974738,-4.499632959948754,-4.499632959925858,-4.499632959905677,-4.499632959887893,-4.499632959872223,-4.499632959858418,-4.4996329598462435,-4.499632959835523,-4.499632959826072,-4.499632959817744,-4.499632959810407,-4.499632959803941,-4.499632959798238,-4.499632959793217,-4.499632959788795,-4.499632959784893,-4.499632959781458,-4.499632959778432,-4.499632959775758,-4.499632959773411,-4.499632959771335,-4.499632959769509,-4.499632959767905,-4.499632959766488,-4.499632959765234,-4.499632959764137,-4.499632959763163,-4.499632959762308,-4.4996329597615565,-4.499632959760891,-4.499632959760303,-4.49963295975979,-4.499632959759332,-4.4996329597589355,-4.499632959758583,-4.499632959758276,-4.499632959757998,-4.4996329597577605,-4.499632959757544,-4.499632959757356,-4.499632959757192,-4.4996329597570455,-4.499632959756922,-4.499632959756808,-4.499632959756704,-4.499632959756617,-4.499632959756541,-4.4996329597564735,-4.499632959756414,-4.49963295975636,-4.49963295975631,-4.499632959756273,-4.499632959756235,-4.4996329597562035,-4.499632959756174,-4.4996329597561475,-4.499632959756131,-4.499632959756112,-4.499632959756092,-4.4996329597560765,-4.499632959756061,-4.499632959756055,-4.499632959756039,-4.499632959756033,-4.4996329597560285,-4.499632959756016,-4.4996329597560125,-4.4996329597560045,-4.499632959756,-4.499632959755998,-4.499632959755993,-4.49963295975599,-4.49963295975599,-4.499632959755985,-4.499632959755981,-4.499632959755982,-4.4996329597559805,-4.499632959755975,-4.499632959755975,-4.499632959755974,-4.499632959755973,-4.499632959755973,-4.499632959755972,-4.499632959755972,-4.499632959755972,-4.4996329597559725,-4.499632959755968,-4.499632959755968,-4.499632959755966,-4.499632959755969,-4.499632959755968,-4.499632959755968,-4.49963295975597,-4.499632959755967,-4.49963295975597,-4.4996329597559654,-4.499632959755966,-4.499632959755966,-4.4996329597559654,-4.4996329597559654,-4.499632959755967,-4.499632959755968,-4.499632959755969,-4.499632959755967,-4.4996329597559654,-4.4996329597559654,-4.499632959755965,-4.499632959755965,-4.4996329597559654,-4.499632959755967,-4.499632959755968,-4.499632959755968,-4.499632959755966,-4.4996329597559654,-4.499632959755964,-4.499632959755965,-4.499632959755965,-4.499632959755971,-4.4996329597559654,-4.499632959755964,-4.499632959755964,-4.499632959755967,-4.499632959755965,-4.499632959755964,-4.4996329597559654,-4.499632959755961,-4.499632959755966,-4.499632959755968,-4.49963295975597,-4.499632959755964,-4.499632959755967,-4.499632959755967,-4.499632959755964,-4.4996329597559654,-4.499632959755966,-4.499632959755966,-4.499632959755964,-4.4996329597559654,-4.499632959755966,-4.4996329597559654,-4.4996329597559654,-4.499632959755967,-4.499632959755968,-4.499632959755965,-4.4996329597559654,-4.499632959755962,-4.499632959755963,-4.499632959755966,-4.499632959755965,-4.499632959755965,-4.499632959755967,-4.499632959755967,-4.4996329597559654,-4.499632959755967,-4.4996329597559654,-4.499632959755964,-4.499632959755965,-4.499632959755969,-4.499632959755961,-4.499632959755968,-4.499632959755968,-4.499632959755967,-4.499632959755968,-4.4996329597559654,-4.499632959755965,-4.499632959755965,-4.499632959755966,-4.499632959755967,-4.4996329597559654,-4.4996329597559654,-4.499632959755966,-4.499632959755967,-4.4996329597559654,-4.499632959755965,-4.499632959755965,-4.4996329597559654,-4.499632959755967,-4.499632959755967,-4.4996329597559654,-4.499632959755964,-4.499632959755962,-4.499632959755967,-4.499632959755968,-4.4996329597559654,-4.499632959755964,-4.499632959755964,-4.499632959755972,-4.4996329597559654,-4.4996329597559654,-4.499632959755967,-4.499632959755969,-4.4996329597559654,-4.499632959755967,-4.499632959755967,-4.499632959755965,-4.499632959755966,-4.49963295975597,-4.4996329597559654,-4.499632959755967,-4.499632959755968,-4.4996329597559654,-4.4996329597559654,-4.4996329597559654,-4.499632959755965,-4.499632959755962,-4.499632959755966,-4.499632959755967,-4.499632959755967,-4.499632959755969,-4.499632959755968,-4.499632959755966,-4.499632959755969,-4.499632959755968,-4.4996329597559654,-4.499632959755963,-4.499632959755965,-4.499632959755965,-4.4996329597559654,-4.4996329597559654,-4.4996329597559654,-4.499632959755966,-4.499632959755967,-4.499632959755968,-4.49963295975597,-4.499632959755967,-4.499632959755968,-4.49963295975597,-4.499632959755964,-4.4996329597559654,-4.499632959755966,-4.499632959755968,-4.499632959755967,-4.4996329597559654,-4.499632959755962,-4.499632959755964,-4.499632959755965,-4.499632959755964,-4.499632959755967,-4.499632959755964,-4.4996329597559654,-4.499632959755967,-4.499632959755967,-4.4996329597559654,-4.499632959755967,-4.4996329597559654,-4.499632959755964,-4.499632959755967,-4.4996329597559654,-4.4996329597559654,-4.4996329597559654,-4.4996329597559654,-4.499632959755968,-4.4996329597559654,-4.4996329597559654,-4.499632959755965,-4.499632959755964,-4.499632959755966,-4.49963295975597,-4.499632959755968,-4.4996329597559654,-4.4996329597559654,-4.499632959755964,-4.4996329597559654,-4.499632959755967,-4.499632959755962,-4.499632959755967,-4.499632959755965,-4.499632959755965,-4.499632959755964,-4.499632959755965,-4.499632959755967,-4.499632959755962,-4.499632959755966,-4.499632959755964,-4.499632959755966,-4.499632959755967,-4.499632959755967,-4.4996329597559654,-4.499632959755964,-4.499632959755964,-4.499632959755964,-4.499632959755967,-4.499632959755964,-4.499632959755966,-4.499632959755966,-4.499632959755965,-4.499632959755967,-4.499632959755964,-4.499632959755964,-4.499632959755963,-4.499632959755965,-4.4996329597559654,-4.49963295975597,-4.499632959755967,-4.499632959755965,-4.499632959755962]},\"selected\":{\"id\":\"1159\",\"type\":\"Selection\"},\"selection_policy\":{\"id\":\"1158\",\"type\":\"UnionRenderers\"}},\"id\":\"1138\",\"type\":\"ColumnDataSource\"},{\"attributes\":{},\"id\":\"1158\",\"type\":\"UnionRenderers\"},{\"attributes\":{\"line_color\":\"#1f77b4\",\"x\":{\"field\":\"x\"},\"y\":{\"field\":\"y\"}},\"id\":\"1139\",\"type\":\"Line\"},{\"attributes\":{\"plot\":null,\"text\":\"\"},\"id\":\"1152\",\"type\":\"Title\"},{\"attributes\":{\"callback\":null},\"id\":\"1107\",\"type\":\"DataRange1d\"}],\"root_ids\":[\"1104\"]},\"title\":\"Bokeh Application\",\"version\":\"1.0.0\"}};\n",
       "  var render_items = [{\"docid\":\"5ec36544-ab23-4b97-89e3-6061b19d7ae1\",\"roots\":{\"1104\":\"f94e812e-cd1a-4ea9-bae3-45335f381819\"}}];\n",
       "  root.Bokeh.embed.embed_items_notebook(docs_json, render_items);\n",
       "\n",
       "  }\n",
       "  if (root.Bokeh !== undefined) {\n",
       "    embed_document(root);\n",
       "  } else {\n",
       "    var attempts = 0;\n",
       "    var timer = setInterval(function(root) {\n",
       "      if (root.Bokeh !== undefined) {\n",
       "        embed_document(root);\n",
       "        clearInterval(timer);\n",
       "      }\n",
       "      attempts++;\n",
       "      if (attempts > 100) {\n",
       "        console.log(\"Bokeh: ERROR: Unable to run BokehJS code because BokehJS library is missing\");\n",
       "        clearInterval(timer);\n",
       "      }\n",
       "    }, 10, root)\n",
       "  }\n",
       "})(window);"
      ],
      "application/vnd.bokehjs_exec.v0+json": ""
     },
     "metadata": {
      "application/vnd.bokehjs_exec.v0+json": {
       "id": "1104"
      }
     },
     "output_type": "display_data"
    }
   ],
   "source": [
    "fig = figure(width=400, height=400, x_axis_label='epoch',\n",
    "              y_axis_label='ELBO')\n",
    "fig.line(range(len(elbos)), elbos)\n",
    "show(fig)"
   ]
  },
  {
   "cell_type": "code",
   "execution_count": 15,
   "metadata": {},
   "outputs": [
    {
     "data": {
      "text/plain": [
       "tensor([[0.5219, 0.0000],\n",
       "        [0.0000, 0.5219]], dtype=torch.float64)"
      ]
     },
     "execution_count": 15,
     "metadata": {},
     "output_type": "execute_result"
    }
   ],
   "source": [
    "model.modelset[0].expected_cov"
   ]
  },
  {
   "cell_type": "code",
   "execution_count": 19,
   "metadata": {
    "scrolled": false
   },
   "outputs": [
    {
     "data": {
      "text/plain": [
       "(tensor([-4.9587,  5.0462], dtype=torch.float64),\n",
       " tensor([-4.9587,  5.0462], dtype=torch.float64))"
      ]
     },
     "execution_count": 19,
     "metadata": {},
     "output_type": "execute_result"
    }
   ],
   "source": [
    "model.modelset.means_precision.posterior.means[0], model.modelset.means_precision.posterior.means[0] "
   ]
  },
  {
   "cell_type": "code",
   "execution_count": 11,
   "metadata": {},
   "outputs": [
    {
     "data": {
      "text/plain": [
       "JointNormalGamma(\n",
       "  (params): JointNormalGammaStdParams(means=tensor([[-0.0848,  4.9653],\n",
       "          [-0.0848,  4.9653],\n",
       "          [-0.0848,  4.9653],\n",
       "          [-0.0848,  4.9653],\n",
       "          [-0.0848,  4.9653],\n",
       "          [-0.0848,  4.9653],\n",
       "          [-0.0848,  4.9653],\n",
       "          [-0.0848,  4.9653],\n",
       "          [-0.0848,  4.9653],\n",
       "          [-0.0848,  4.9653]], dtype=torch.float64), scales=tensor([  1.0000,   1.0000, 200.9999,   1.0000,   1.0000,   1.0000,   1.0000,\n",
       "            1.0000,   1.0000,   1.0000], dtype=torch.float64), shape=tensor(101.0000, dtype=torch.float64), rates=tensor([2575.6676,  187.8899], dtype=torch.float64))\n",
       ")"
      ]
     },
     "execution_count": 11,
     "metadata": {},
     "output_type": "execute_result"
    }
   ],
   "source": [
    "model.modelset.means_precision.posterior"
   ]
  },
  {
   "cell_type": "code",
   "execution_count": 9,
   "metadata": {},
   "outputs": [],
   "source": [
    "# We use the global mean/cov. matrix of the data to initialize the mixture.\n",
    "data_mean = torch.from_numpy(data.mean(axis=0)).double()\n",
    "data_var = torch.from_numpy(np.var(data, axis=0)).double()\n",
    "#data_mean = torch.zeros(2).double()\n",
    "#data_var = torch.ones(2).double()\n",
    "noise_std = .1\n",
    "\n",
    "# Isotropic covariance.\n",
    "modelset = beer.NormalSet.create(data_mean, data_var, size=10,\n",
    "                                prior_strength=1., noise_std=noise_std, \n",
    "                                cov_type='isotropic')\n",
    "gmm_iso = beer.Mixture.create(modelset, prior_strength=1.)\n",
    "\n",
    "# Diagonal covariance.\n",
    "modelset = beer.NormalSet.create(data_mean, data_var, size=10,\n",
    "                                prior_strength=1., noise_std=noise_std, \n",
    "                                cov_type='diagonal')\n",
    "gmm_diag = beer.Mixture.create(modelset, prior_strength=1.)\n",
    "\n",
    "# Full covariance.\n",
    "modelset = beer.NormalSet.create(data_mean, data_var, size=10,\n",
    "                                prior_strength=1., noise_std=noise_std, \n",
    "                                cov_type='full')\n",
    "gmm_full = beer.Mixture.create(modelset, prior_strength=1.)\n",
    "\n",
    "# Shared isotropic covariance.\n",
    "modelset = beer.NormalSet.create(data_mean, data_var.diag(), size=10,\n",
    "                                 prior_strength=1., noise_std=noise_std,\n",
    "                                 cov_type='isotropic', shared_cov=True)\n",
    "gmm_iso_shared = beer.Mixture.create(modelset, prior_strength=1.)\n",
    "\n",
    "# Shared diagonal covariance.\n",
    "modelset = beer.NormalSet.create(data_mean, data_var.diag(), size=10,\n",
    "                                 prior_strength=1., noise_std=noise_std,\n",
    "                                 cov_type='diagonal', shared_cov=True)\n",
    "gmm_diag_shared = beer.Mixture.create(modelset, prior_strength=1.)\n",
    "\n",
    "# Shared full covariance.\n",
    "modelset = beer.NormalSet.create(data_mean, data_var.diag(), size=10,\n",
    "                                 prior_strength=1., noise_std=noise_std,\n",
    "                                 cov_type='full', shared_cov=True)\n",
    "gmm_full_shared = beer.Mixture.create(modelset, prior_strength=1.)\n",
    "\n",
    "models = {\n",
    "    'gmm_iso': gmm_iso,\n",
    "    'gmm_diag': gmm_diag,\n",
    "    'gmm_full': gmm_full,\n",
    "    #'gmm_iso_shared': gmm_iso_shared,\n",
    "    #'gmm_diag_shared': gmm_diag_shared,\n",
    "    #'gmm_full_shared': gmm_full_shared,\n",
    "}"
   ]
  },
  {
   "cell_type": "code",
   "execution_count": 10,
   "metadata": {},
   "outputs": [
    {
     "data": {
      "text/plain": [
       "torch.Size([600, 1, 2])"
      ]
     },
     "execution_count": 10,
     "metadata": {},
     "output_type": "execute_result"
    }
   ],
   "source": [
    "nbatches = len(X)\n",
    "X = torch.from_numpy(data).double()\n",
    "test_X = torch.from_numpy(test_data).double()\n",
    "batches = X.view(nbatches, -1, 2)\n",
    "batches.shape"
   ]
  },
  {
   "cell_type": "code",
   "execution_count": 11,
   "metadata": {},
   "outputs": [
    {
     "ename": "KeyboardInterrupt",
     "evalue": "",
     "output_type": "error",
     "traceback": [
      "\u001b[0;31m---------------------------------------------------------------------------\u001b[0m",
      "\u001b[0;31mKeyboardInterrupt\u001b[0m                         Traceback (most recent call last)",
      "\u001b[0;32m<ipython-input-11-2101335b7174>\u001b[0m in \u001b[0;36m<module>\u001b[0;34m\u001b[0m\n\u001b[1;32m     14\u001b[0m             \u001b[0moptim\u001b[0m \u001b[0;34m=\u001b[0m \u001b[0moptims\u001b[0m\u001b[0;34m[\u001b[0m\u001b[0mname\u001b[0m\u001b[0;34m]\u001b[0m\u001b[0;34m\u001b[0m\u001b[0;34m\u001b[0m\u001b[0m\n\u001b[1;32m     15\u001b[0m             \u001b[0moptim\u001b[0m\u001b[0;34m.\u001b[0m\u001b[0minit_step\u001b[0m\u001b[0;34m(\u001b[0m\u001b[0mbatch_stats\u001b[0m\u001b[0;34m[\u001b[0m\u001b[0mname\u001b[0m\u001b[0;34m]\u001b[0m\u001b[0;34m[\u001b[0m\u001b[0mbatch_id\u001b[0m\u001b[0;34m]\u001b[0m\u001b[0;34m)\u001b[0m\u001b[0;34m\u001b[0m\u001b[0;34m\u001b[0m\u001b[0m\n\u001b[0;32m---> 16\u001b[0;31m             \u001b[0melbo\u001b[0m \u001b[0;34m=\u001b[0m \u001b[0mbeer\u001b[0m\u001b[0;34m.\u001b[0m\u001b[0mcollapsed_evidence_lower_bound\u001b[0m\u001b[0;34m(\u001b[0m\u001b[0mmodel\u001b[0m\u001b[0;34m,\u001b[0m \u001b[0mbatches\u001b[0m\u001b[0;34m[\u001b[0m\u001b[0mbatch_id\u001b[0m\u001b[0;34m]\u001b[0m\u001b[0;34m)\u001b[0m\u001b[0;34m\u001b[0m\u001b[0;34m\u001b[0m\u001b[0m\n\u001b[0m\u001b[1;32m     17\u001b[0m             \u001b[0mbatch_stats\u001b[0m\u001b[0;34m[\u001b[0m\u001b[0mname\u001b[0m\u001b[0;34m]\u001b[0m\u001b[0;34m[\u001b[0m\u001b[0mbatch_id\u001b[0m\u001b[0;34m]\u001b[0m \u001b[0;34m=\u001b[0m \u001b[0melbo\u001b[0m\u001b[0;34m.\u001b[0m\u001b[0mbackward\u001b[0m\u001b[0;34m(\u001b[0m\u001b[0;34m)\u001b[0m\u001b[0;34m\u001b[0m\u001b[0;34m\u001b[0m\u001b[0m\n\u001b[1;32m     18\u001b[0m             \u001b[0moptim\u001b[0m\u001b[0;34m.\u001b[0m\u001b[0mstep\u001b[0m\u001b[0;34m(\u001b[0m\u001b[0;34m)\u001b[0m\u001b[0;34m\u001b[0m\u001b[0;34m\u001b[0m\u001b[0m\n",
      "\u001b[0;32m~/beer/beer/inference/objectives.py\u001b[0m in \u001b[0;36mcollapsed_evidence_lower_bound\u001b[0;34m(model, minibatch_data, **kwargs)\u001b[0m\n\u001b[1;32m    284\u001b[0m     '''\n\u001b[1;32m    285\u001b[0m     \u001b[0mstats\u001b[0m \u001b[0;34m=\u001b[0m \u001b[0mmodel\u001b[0m\u001b[0;34m.\u001b[0m\u001b[0msufficient_statistics\u001b[0m\u001b[0;34m(\u001b[0m\u001b[0mminibatch_data\u001b[0m\u001b[0;34m)\u001b[0m\u001b[0;34m\u001b[0m\u001b[0;34m\u001b[0m\u001b[0m\n\u001b[0;32m--> 286\u001b[0;31m     \u001b[0melbo_value\u001b[0m \u001b[0;34m=\u001b[0m \u001b[0mmodel\u001b[0m\u001b[0;34m.\u001b[0m\u001b[0mmarginal_log_likelihood\u001b[0m\u001b[0;34m(\u001b[0m\u001b[0mstats\u001b[0m\u001b[0;34m,\u001b[0m \u001b[0;34m**\u001b[0m\u001b[0mkwargs\u001b[0m\u001b[0;34m)\u001b[0m\u001b[0;34m.\u001b[0m\u001b[0msum\u001b[0m\u001b[0;34m(\u001b[0m\u001b[0;34m)\u001b[0m\u001b[0;34m\u001b[0m\u001b[0;34m\u001b[0m\u001b[0m\n\u001b[0m\u001b[1;32m    287\u001b[0m     \u001b[0macc_stats\u001b[0m \u001b[0;34m=\u001b[0m \u001b[0mmodel\u001b[0m\u001b[0;34m.\u001b[0m\u001b[0maccumulate\u001b[0m\u001b[0;34m(\u001b[0m\u001b[0mtorch\u001b[0m\u001b[0;34m.\u001b[0m\u001b[0mtensor\u001b[0m\u001b[0;34m(\u001b[0m\u001b[0mstats\u001b[0m\u001b[0;34m)\u001b[0m\u001b[0;34m)\u001b[0m\u001b[0;34m\u001b[0m\u001b[0;34m\u001b[0m\u001b[0m\n\u001b[1;32m    288\u001b[0m     \u001b[0mmodel\u001b[0m\u001b[0;34m.\u001b[0m\u001b[0mclear_cache\u001b[0m\u001b[0;34m(\u001b[0m\u001b[0;34m)\u001b[0m\u001b[0;34m\u001b[0m\u001b[0;34m\u001b[0m\u001b[0m\n",
      "\u001b[0;32m~/beer/beer/models/mixture.py\u001b[0m in \u001b[0;36mmarginal_log_likelihood\u001b[0;34m(self, stats, labels, **kwargs)\u001b[0m\n\u001b[1;32m     98\u001b[0m         \u001b[0;31m# Per-components weighted log-likelihood.\u001b[0m\u001b[0;34m\u001b[0m\u001b[0;34m\u001b[0m\u001b[0;34m\u001b[0m\u001b[0m\n\u001b[1;32m     99\u001b[0m         \u001b[0mlog_weights\u001b[0m \u001b[0;34m=\u001b[0m \u001b[0mself\u001b[0m\u001b[0;34m.\u001b[0m\u001b[0mweights\u001b[0m\u001b[0;34m.\u001b[0m\u001b[0mexpected_value\u001b[0m\u001b[0;34m(\u001b[0m\u001b[0;34m)\u001b[0m\u001b[0;34m.\u001b[0m\u001b[0mview\u001b[0m\u001b[0;34m(\u001b[0m\u001b[0;36m1\u001b[0m\u001b[0;34m,\u001b[0m \u001b[0;34m-\u001b[0m\u001b[0;36m1\u001b[0m\u001b[0;34m)\u001b[0m\u001b[0;34m.\u001b[0m\u001b[0mlog\u001b[0m\u001b[0;34m(\u001b[0m\u001b[0;34m)\u001b[0m\u001b[0;34m\u001b[0m\u001b[0;34m\u001b[0m\u001b[0m\n\u001b[0;32m--> 100\u001b[0;31m         \u001b[0mpc_llh\u001b[0m \u001b[0;34m=\u001b[0m \u001b[0mself\u001b[0m\u001b[0;34m.\u001b[0m\u001b[0mmodelset\u001b[0m\u001b[0;34m.\u001b[0m\u001b[0mmarginal_log_likelihood\u001b[0m\u001b[0;34m(\u001b[0m\u001b[0mstats\u001b[0m\u001b[0;34m,\u001b[0m \u001b[0;34m**\u001b[0m\u001b[0mkwargs\u001b[0m\u001b[0;34m)\u001b[0m\u001b[0;34m\u001b[0m\u001b[0;34m\u001b[0m\u001b[0m\n\u001b[0m\u001b[1;32m    101\u001b[0m \u001b[0;34m\u001b[0m\u001b[0m\n\u001b[1;32m    102\u001b[0m         \u001b[0;31m# Responsibilities and expected llh.\u001b[0m\u001b[0;34m\u001b[0m\u001b[0;34m\u001b[0m\u001b[0;34m\u001b[0m\u001b[0m\n",
      "\u001b[0;32m~/beer/beer/models/normalset.py\u001b[0m in \u001b[0;36mmarginal_log_likelihood\u001b[0;34m(self, stats)\u001b[0m\n\u001b[1;32m    134\u001b[0m         \u001b[0;32mfor\u001b[0m \u001b[0mparam\u001b[0m \u001b[0;32min\u001b[0m \u001b[0mself\u001b[0m\u001b[0;34m.\u001b[0m\u001b[0mmeans_precisions\u001b[0m\u001b[0;34m:\u001b[0m\u001b[0;34m\u001b[0m\u001b[0;34m\u001b[0m\u001b[0m\n\u001b[1;32m    135\u001b[0m             \u001b[0mcls\u001b[0m \u001b[0;34m=\u001b[0m \u001b[0mNormalIsotropicCovariance\u001b[0m\u001b[0;34m\u001b[0m\u001b[0;34m\u001b[0m\u001b[0m\n\u001b[0;32m--> 136\u001b[0;31m             \u001b[0mc_m_llhs\u001b[0m \u001b[0;34m=\u001b[0m \u001b[0mcls\u001b[0m\u001b[0;34m.\u001b[0m\u001b[0m_marginal_log_likelihood\u001b[0m\u001b[0;34m(\u001b[0m\u001b[0mparam\u001b[0m\u001b[0;34m.\u001b[0m\u001b[0mposterior\u001b[0m\u001b[0;34m,\u001b[0m \u001b[0mstats\u001b[0m\u001b[0;34m)\u001b[0m\u001b[0;34m\u001b[0m\u001b[0;34m\u001b[0m\u001b[0m\n\u001b[0m\u001b[1;32m    137\u001b[0m             \u001b[0mm_llhs\u001b[0m\u001b[0;34m.\u001b[0m\u001b[0mappend\u001b[0m\u001b[0;34m(\u001b[0m\u001b[0mc_m_llhs\u001b[0m\u001b[0;34m.\u001b[0m\u001b[0mview\u001b[0m\u001b[0;34m(\u001b[0m\u001b[0;34m-\u001b[0m\u001b[0;36m1\u001b[0m\u001b[0;34m,\u001b[0m \u001b[0;36m1\u001b[0m\u001b[0;34m)\u001b[0m\u001b[0;34m)\u001b[0m\u001b[0;34m\u001b[0m\u001b[0;34m\u001b[0m\u001b[0m\n\u001b[1;32m    138\u001b[0m         \u001b[0;32mreturn\u001b[0m \u001b[0mtorch\u001b[0m\u001b[0;34m.\u001b[0m\u001b[0mcat\u001b[0m\u001b[0;34m(\u001b[0m\u001b[0mm_llhs\u001b[0m\u001b[0;34m,\u001b[0m \u001b[0mdim\u001b[0m\u001b[0;34m=\u001b[0m\u001b[0;34m-\u001b[0m\u001b[0;36m1\u001b[0m\u001b[0;34m)\u001b[0m\u001b[0;34m\u001b[0m\u001b[0;34m\u001b[0m\u001b[0m\n",
      "\u001b[0;32m~/beer/beer/models/normal.py\u001b[0m in \u001b[0;36m_marginal_log_likelihood\u001b[0;34m(prior, stats)\u001b[0m\n\u001b[1;32m    134\u001b[0m         \u001b[0mlnorm\u001b[0m \u001b[0;34m-=\u001b[0m \u001b[0;36m.5\u001b[0m \u001b[0;34m*\u001b[0m \u001b[0mdim\u001b[0m \u001b[0;34m*\u001b[0m \u001b[0mrate\u001b[0m\u001b[0;34m.\u001b[0m\u001b[0mlog\u001b[0m\u001b[0;34m(\u001b[0m\u001b[0;34m)\u001b[0m\u001b[0;34m\u001b[0m\u001b[0;34m\u001b[0m\u001b[0m\n\u001b[1;32m    135\u001b[0m         \u001b[0mdata\u001b[0m \u001b[0;34m=\u001b[0m \u001b[0mstats\u001b[0m\u001b[0;34m[\u001b[0m\u001b[0;34m:\u001b[0m\u001b[0;34m,\u001b[0m \u001b[0;36m1\u001b[0m\u001b[0;34m:\u001b[0m \u001b[0;36m1\u001b[0m \u001b[0;34m+\u001b[0m \u001b[0mdim\u001b[0m\u001b[0;34m]\u001b[0m\u001b[0;34m\u001b[0m\u001b[0;34m\u001b[0m\u001b[0m\n\u001b[0;32m--> 136\u001b[0;31m         \u001b[0mkernel\u001b[0m \u001b[0;34m=\u001b[0m \u001b[0;36m1\u001b[0m \u001b[0;34m+\u001b[0m \u001b[0;34m(\u001b[0m\u001b[0mdata\u001b[0m \u001b[0;34m-\u001b[0m \u001b[0mmean\u001b[0m\u001b[0;34m)\u001b[0m\u001b[0;34m.\u001b[0m\u001b[0mpow\u001b[0m\u001b[0;34m(\u001b[0m\u001b[0;36m2\u001b[0m\u001b[0;34m)\u001b[0m\u001b[0;34m.\u001b[0m\u001b[0msum\u001b[0m\u001b[0;34m(\u001b[0m\u001b[0mdim\u001b[0m\u001b[0;34m=\u001b[0m\u001b[0;34m-\u001b[0m\u001b[0;36m1\u001b[0m\u001b[0;34m)\u001b[0m \u001b[0;34m/\u001b[0m \u001b[0;34m(\u001b[0m\u001b[0;36m2\u001b[0m \u001b[0;34m*\u001b[0m \u001b[0malpha\u001b[0m \u001b[0;34m*\u001b[0m \u001b[0mrate\u001b[0m\u001b[0;34m)\u001b[0m\u001b[0;34m\u001b[0m\u001b[0;34m\u001b[0m\u001b[0m\n\u001b[0m\u001b[1;32m    137\u001b[0m         \u001b[0;31m#import pdb; pdb.set_trace()\u001b[0m\u001b[0;34m\u001b[0m\u001b[0;34m\u001b[0m\u001b[0;34m\u001b[0m\u001b[0m\n\u001b[1;32m    138\u001b[0m         \u001b[0;32mreturn\u001b[0m \u001b[0;34m-\u001b[0m \u001b[0;34m(\u001b[0m\u001b[0mshape\u001b[0m \u001b[0;34m+\u001b[0m \u001b[0;36m.5\u001b[0m \u001b[0;34m*\u001b[0m \u001b[0mdim\u001b[0m\u001b[0;34m)\u001b[0m \u001b[0;34m*\u001b[0m \u001b[0mkernel\u001b[0m\u001b[0;34m.\u001b[0m\u001b[0mlog\u001b[0m\u001b[0;34m(\u001b[0m\u001b[0;34m)\u001b[0m \u001b[0;34m+\u001b[0m \u001b[0mlnorm\u001b[0m\u001b[0;34m\u001b[0m\u001b[0;34m\u001b[0m\u001b[0m\n",
      "\u001b[0;31mKeyboardInterrupt\u001b[0m: "
     ]
    }
   ],
   "source": [
    "iters = 100\n",
    "\n",
    "batch_stats = {model_name: defaultdict(lambda: defaultdict(lambda: None))\n",
    "               for model_name in models}\n",
    "optims = {model_name: beer.CVBOptimizer(model.bayesian_parameters())\n",
    "          for model_name, model in models.items()}\n",
    "elbos = {model_name: [] for model_name in models}  \n",
    "\n",
    "for epoch in range(iters):\n",
    "    batch_ids = list(range(len(batches)))\n",
    "    random.shuffle(batch_ids)\n",
    "    for name, model in models.items():\n",
    "        for batch_id in batch_ids:\n",
    "            optim = optims[name]\n",
    "            optim.init_step(batch_stats[name][batch_id])\n",
    "            elbo = beer.collapsed_evidence_lower_bound(model, batches[batch_id])\n",
    "            batch_stats[name][batch_id] = elbo.backward()\n",
    "            optim.step()\n",
    "        log_pred = beer.evidence_lower_bound(model, X)\n",
    "        elbos[name].append(float(log_pred) / len(X))"
   ]
  },
  {
   "cell_type": "code",
   "execution_count": null,
   "metadata": {},
   "outputs": [],
   "source": [
    "colors = {\n",
    "    'gmm_iso': 'green',\n",
    "    'gmm_diag': 'blue',\n",
    "    'gmm_full': 'red',\n",
    "    'gmm_iso_shared': 'grey',\n",
    "    'gmm_diag_shared': 'brown',\n",
    "    'gmm_full_shared': 'black'\n",
    "    \n",
    "}\n",
    "# Plot the ELBO.\n",
    "elbo_fig = figure(width=500, height=500, x_axis_label='epoch',\n",
    "                  y_axis_label='ELBO (VBI)')\n",
    "for model_name, elbo in elbos.items():\n",
    "    elbo_fig.line(range(len(elbo)), elbo, line_dash='dashed', legend=model_name + ' (CVB)',\n",
    "                  color=colors[model_name])\n",
    "for model_name, elbo in svb_elbos.items():\n",
    "    elbo_fig.line(range(len(elbo)), elbo, legend=model_name + ' (VBI)',\n",
    "                  color=colors[model_name])\n",
    "elbo_fig.legend.location = 'bottom_right'\n",
    "\n",
    "show(elbo_fig)"
   ]
  },
  {
   "cell_type": "code",
   "execution_count": null,
   "metadata": {},
   "outputs": [],
   "source": [
    "2 "
   ]
  },
  {
   "cell_type": "code",
   "execution_count": null,
   "metadata": {},
   "outputs": [],
   "source": [
    "gmm_full = models['gmm_full']\n",
    "gmm_full.modelset.means_precisions[2].posterior.natural_parameters"
   ]
  },
  {
   "cell_type": "code",
   "execution_count": null,
   "metadata": {},
   "outputs": [],
   "source": [
    "figs = []\n",
    "for i, model_name in enumerate(models):\n",
    "    model = models[model_name]\n",
    "    fig = figure(x_range=global_range, y_range=global_range,\n",
    "              width=250, height=250)\n",
    "    fig.circle(data[:, 0], data[:, 1], alpha=.1)\n",
    "    plotting.plot_gmm(fig, model, alpha=.5, color=colors[model_name])\n",
    "    show(fig)"
   ]
  },
  {
   "cell_type": "code",
   "execution_count": null,
   "metadata": {},
   "outputs": [],
   "source": [
    "models['gmm_full'].weights.expected_value()"
   ]
  },
  {
   "cell_type": "code",
   "execution_count": null,
   "metadata": {},
   "outputs": [],
   "source": [
    "joint_nparams = gmm_full_shared.modelset.means_precision.posterior.natural_parameters\n",
    "np1, np2 = gmm_full_shared.modelset._split_natural_parameters(joint_nparams)\n",
    "np1 = torch.ones(len(np2), 1, dtype=np1.dtype) * np1.view(1, -1)\n",
    "np1.shape, np2.shape\n",
    "nparams1 = torch.cat([\n",
    "    np1[:, :-1], \n",
    "    np2,\n",
    "    np1[:, -1].view(-1, 1)\n",
    "], dim=1)\n",
    "nparams1 = nparams1[None]"
   ]
  },
  {
   "cell_type": "code",
   "execution_count": null,
   "metadata": {},
   "outputs": [],
   "source": [
    "stats = gmm_full_shared.modelset.sufficient_statistics(X)\n",
    "nparams2 = stats[:, None, :] + nparams1\n",
    "nparams2.shape"
   ]
  },
  {
   "cell_type": "code",
   "execution_count": null,
   "metadata": {
    "scrolled": false
   },
   "outputs": [],
   "source": [
    "post = gmm_full_shared.modelset.means_precision.posterior\n",
    "m_llh = post.joint_log_norm(nparams2) - post.joint_log_norm(nparams1)\n",
    "m_llh"
   ]
  },
  {
   "cell_type": "code",
   "execution_count": null,
   "metadata": {},
   "outputs": [],
   "source": [
    "m_llh[:10]"
   ]
  },
  {
   "cell_type": "code",
   "execution_count": null,
   "metadata": {},
   "outputs": [],
   "source": [
    "gmm_full_shared.modelset.marginal_log_likelihood(stats)"
   ]
  },
  {
   "cell_type": "code",
   "execution_count": null,
   "metadata": {},
   "outputs": [],
   "source": []
  }
 ],
 "metadata": {
  "kernelspec": {
   "display_name": "Python 3",
   "language": "python",
   "name": "python3"
  },
  "language_info": {
   "codemirror_mode": {
    "name": "ipython",
    "version": 3
   },
   "file_extension": ".py",
   "mimetype": "text/x-python",
   "name": "python",
   "nbconvert_exporter": "python",
   "pygments_lexer": "ipython3",
   "version": "3.7.1"
  }
 },
 "nbformat": 4,
 "nbformat_minor": 2
}
