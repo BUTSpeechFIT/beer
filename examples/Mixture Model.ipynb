{
 "cells": [
  {
   "cell_type": "markdown",
   "metadata": {},
   "source": [
    "# Bayesian Mixture Model\n",
    "\n",
    "This notebook illustrate how to build and train a Bayesian Mixture Model with the [beer framework](https://github.com/beer-asr/beer)."
   ]
  },
  {
   "cell_type": "code",
   "execution_count": null,
   "metadata": {},
   "outputs": [],
   "source": [
    "# Add \"beer\" to the PYTHONPATH\n",
    "import sys\n",
    "sys.path.insert(0, '../')\n",
    "\n",
    "import copy\n",
    "\n",
    "import beer\n",
    "import numpy as np\n",
    "import torch\n",
    "\n",
    "# For plotting.\n",
    "from bokeh.io import show, output_notebook\n",
    "from bokeh.plotting import figure, gridplot\n",
    "from bokeh.models import LinearAxis, Range1d\n",
    "output_notebook()\n",
    "\n",
    "# Convenience functions for plotting.\n",
    "import plotting\n",
    "\n",
    "%load_ext autoreload\n",
    "%autoreload 2"
   ]
  },
  {
   "cell_type": "markdown",
   "metadata": {},
   "source": [
    "## Data\n",
    "\n",
    "As an illustration, we generate a synthetic data set composed of two Normal distributed cluster. One has a diagonal covariance matrix whereas the other has a dense covariance matrix."
   ]
  },
  {
   "cell_type": "code",
   "execution_count": null,
   "metadata": {},
   "outputs": [],
   "source": [
    "# First cluster.\n",
    "mean = np.array([-1.5, 4]) \n",
    "cov = np.array([[.75, 0], [0, 2.]])\n",
    "data1 = np.random.multivariate_normal(mean, cov, size=200)\n",
    "\n",
    "# Second cluster.\n",
    "mean = np.array([5, 5]) \n",
    "cov = np.array([[2, 1], [1, .75]])\n",
    "data2 = np.random.multivariate_normal(mean, cov, size=200)\n",
    "\n",
    "# Merge everything to get the finale data set.\n",
    "data = np.vstack([data1, data2])\n",
    "np.random.shuffle(data)"
   ]
  },
  {
   "cell_type": "code",
   "execution_count": null,
   "metadata": {},
   "outputs": [],
   "source": [
    "# Mean, variance of the data to scale the figure.\n",
    "mean = data.mean(axis=0)\n",
    "var = data.var(axis=0)\n",
    "std_dev = np.sqrt(max(var))\n",
    "x_range = (mean[0] - 2 * std_dev, mean[0] + 2 * std_dev)\n",
    "y_range = (mean[1] - 2 * std_dev, mean[1] + 2 * std_dev)\n",
    "global_range = (min(x_range[0], y_range[0]), max(x_range[1], y_range[1]))\n",
    "\n",
    "fig = figure(title='Data', width=400, height=400,\n",
    "             x_range=global_range, y_range=global_range)\n",
    "fig.circle(data[:, 0], data[:, 1])\n",
    "\n",
    "show(fig)"
   ]
  },
  {
   "cell_type": "markdown",
   "metadata": {},
   "source": [
    "## Model Creation\n",
    "\n",
    "We create two types of mixture model: one whose (Normal) components have full covariance matrix and the other whose (Normal) components have diagonal covariance matrix."
   ]
  },
  {
   "cell_type": "code",
   "execution_count": null,
   "metadata": {},
   "outputs": [],
   "source": [
    "ncomp = 10 \n",
    "\n",
    "# We use the global mean/cov. matrix of the data to initialize the mixture.\n",
    "#p_mean = torch.from_numpy(data.mean(axis=0)).float()\n",
    "#p_cov = torch.from_numpy(np.cov(data.T)).float()\n",
    "p_mean = torch.zeros(2)\n",
    "p_cov = torch.eye(2)\n",
    "\n",
    "print(p_mean, p_cov)\n",
    "\n",
    "# Mean of the weights' prior.\n",
    "weights = torch.ones(ncomp) / ncomp\n",
    "\n",
    "# GMM (diag cov).\n",
    "normalset = beer.NormalDiagonalCovarianceSet.create(p_mean, torch.diag(p_cov), \n",
    "                                                    ncomp, noise_std=0.1)\n",
    "gmm_diag = beer.Mixture.create(weights, normalset)\n",
    "\n",
    "# GMM (full cov).\n",
    "normalset = beer.NormalFullCovarianceSet.create(p_mean, p_cov, ncomp, \n",
    "                                                noise_std=0.1)\n",
    "gmm_full = beer.Mixture.create(weights, normalset)\n",
    "\n",
    "# GMM shared (full) cov.\n",
    "normalset = beer.NormalSetSharedDiagonalCovariance.create(p_mean, \n",
    "                                                        torch.diag(p_cov), \n",
    "                                                        ncomp,\n",
    "                                                        noise_std=0.1)\n",
    "gmm_sharedcov_diag = beer.Mixture.create(weights, normalset)\n",
    "\n",
    "# GMM shared (full) cov.\n",
    "normalset = beer.NormalSetSharedFullCovariance.create(p_mean, p_cov, ncomp,\n",
    "                                                      noise_std=0.1)\n",
    "gmm_sharedcov_full = beer.Mixture.create(weights, normalset)\n",
    "\n",
    "models = [\n",
    "    gmm_diag, \n",
    "    gmm_full,\n",
    "    gmm_sharedcov_diag,\n",
    "    gmm_sharedcov_full\n",
    "]"
   ]
  },
  {
   "cell_type": "markdown",
   "metadata": {},
   "source": [
    "## Variational Bayes Training "
   ]
  },
  {
   "cell_type": "code",
   "execution_count": null,
   "metadata": {},
   "outputs": [],
   "source": [
    "epochs = 100\n",
    "lrate = 1.\n",
    "X = torch.from_numpy(data).float()\n",
    "elbo_fn = beer.EvidenceLowerBound(len(X))\n",
    "params = []\n",
    "for model in models:\n",
    "    params += model.parameters\n",
    "optimizer = beer.BayesianModelOptimizer(params, lrate)\n",
    "    \n",
    "elbos = [[], [], [], []]\n",
    "for epoch in range(epochs):\n",
    "    optimizer.zero_grad()\n",
    "    for i, model in enumerate(models):\n",
    "        elbo = elbo_fn(model, X)\n",
    "        elbo.natural_backward()\n",
    "        if epoch > 0:\n",
    "            elbos[i].append(float(elbo) / len(X))\n",
    "    optimizer.step()\n",
    "\n",
    "# Plot the ELBO.\n",
    "fig = figure(title='ELBO', width=400, height=400, x_axis_label='step',\n",
    "              y_axis_label='ln p(X)')\n",
    "fig.line(range(1, epochs), elbos[0], legend='GMM (diag)', color='blue')\n",
    "fig.line(range(1, epochs), elbos[1], legend='GMM (full)', color='red')\n",
    "fig.line(range(1, epochs), elbos[2], legend='GMM (shared cov. diag)', color='green')\n",
    "fig.line(range(1, epochs), elbos[3], legend='GMM (shared cov. full)', color='black')\n",
    "fig.legend.location = 'bottom_right'\n",
    "\n",
    "show(fig)"
   ]
  },
  {
   "cell_type": "code",
   "execution_count": null,
   "metadata": {
    "scrolled": false
   },
   "outputs": [],
   "source": [
    "fig1 = figure(title='GMM (diag)', x_range=global_range, y_range=global_range,\n",
    "              width=400, height=400)\n",
    "fig1.circle(data[:, 0], data[:, 1], alpha=.1)\n",
    "plotting.plot_gmm(fig1, gmm_diag, alpha=.5, color='blue')\n",
    "\n",
    "fig2 = figure(title='GMM (full)', x_range=global_range, y_range=global_range,\n",
    "              width=400, height=400)\n",
    "fig2.circle(data[:, 0], data[:, 1], alpha=.1)\n",
    "plotting.plot_gmm(fig2, gmm_full, alpha=.5, color='red')\n",
    "\n",
    "fig3 = figure(title='GMM (shared cov. full)', x_range=global_range, y_range=global_range,\n",
    "              width=400, height=400)\n",
    "fig3.circle(data[:, 0], data[:, 1], alpha=.1)\n",
    "plotting.plot_gmm(fig3, gmm_sharedcov_diag, alpha=.5, color='green')\n",
    "\n",
    "fig4 = figure(title='GMM (shared cov. full)', x_range=global_range, y_range=global_range,\n",
    "              width=400, height=400)\n",
    "fig4.circle(data[:, 0], data[:, 1], alpha=.1)\n",
    "plotting.plot_gmm(fig4, gmm_sharedcov_full, alpha=.5, color='black')\n",
    "\n",
    "grid = gridplot([[fig1, fig2], [fig3, fig4]])\n",
    "show(grid)"
   ]
  }
 ],
 "metadata": {
  "kernelspec": {
   "display_name": "Python 3",
   "language": "python",
   "name": "python3"
  },
  "language_info": {
   "codemirror_mode": {
    "name": "ipython",
    "version": 3
   },
   "file_extension": ".py",
   "mimetype": "text/x-python",
   "name": "python",
   "nbconvert_exporter": "python",
   "pygments_lexer": "ipython3",
   "version": "3.6.4"
  }
 },
 "nbformat": 4,
 "nbformat_minor": 2
}
