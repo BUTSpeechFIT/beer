{
 "cells": [
  {
   "cell_type": "markdown",
   "metadata": {},
   "source": [
    "# Probabilistic Principal Component Analysis\n",
    "\n",
    "This notebook illustrate how to use a PPCA model with the [beer framework](https://github.com/beer-asr/beer). "
   ]
  },
  {
   "cell_type": "code",
   "execution_count": null,
   "metadata": {
    "scrolled": true
   },
   "outputs": [],
   "source": [
    "# Add \"beer\" to the PYTHONPATH\n",
    "import sys\n",
    "sys.path.insert(0, '../')\n",
    "\n",
    "import beer\n",
    "import numpy as np\n",
    "import torch\n",
    "\n",
    "# For plotting.\n",
    "from bokeh.io import show, output_notebook\n",
    "from bokeh.plotting import figure, gridplot\n",
    "from bokeh.models import Arrow, OpenHead, NormalHead, VeeHead\n",
    "from bokeh.models import ColumnDataSource, LabelSet, Legend\n",
    "from bokeh.transform import factor_cmap\n",
    "from bokeh.palettes import Spectral6\n",
    "import colorcet as cc\n",
    "output_notebook()\n",
    "\n",
    "# Convenience functions for plotting.\n",
    "import plotting\n",
    "\n",
    "%load_ext autoreload\n",
    "%autoreload 2"
   ]
  },
  {
   "cell_type": "markdown",
   "metadata": {},
   "source": [
    "## Data\n",
    "\n",
    "Generate some normally distributed data with some correlation."
   ]
  },
  {
   "cell_type": "code",
   "execution_count": null,
   "metadata": {
    "scrolled": false
   },
   "outputs": [],
   "source": [
    "mean = np.array([-10, 10]) \n",
    "cov = np.array([[2, 1.5], [1.5, 1.5]])\n",
    "#cov = np.eye(2) \n",
    "data = np.random.multivariate_normal(mean, cov, size=100)\n",
    "\n",
    "x_range = (mean[0] - 5, mean[0] + 5)\n",
    "y_range = (mean[1] - 5, mean[1] + 5)\n",
    "\n",
    "fig = figure(\n",
    "    title='Data',\n",
    "    width=400,\n",
    "    height=400,\n",
    "    x_range=x_range,\n",
    "    y_range=y_range\n",
    ")\n",
    "fig.circle(data[:, 0], data[:, 1])\n",
    "plotting.plot_normal(fig, mean, cov, alpha=.5, color='Salmon')\n",
    "\n",
    "show(fig)"
   ]
  },
  {
   "cell_type": "markdown",
   "metadata": {},
   "source": [
    "## Model Creation"
   ]
  },
  {
   "cell_type": "code",
   "execution_count": null,
   "metadata": {
    "scrolled": true
   },
   "outputs": [],
   "source": [
    "data_mean = torch.from_numpy(data.mean(axis=0)).double()\n",
    "data_var = torch.from_numpy(data.var(axis=0)).double()\n",
    "\n",
    "conf = {\n",
    "    'type': 'PPCA',\n",
    "    'dim_subspace': 1,\n",
    "    'prior_strength': 1.,\n",
    "    'noise_std': 0.1\n",
    "}\n",
    "ppca = beer.create_model(conf, data_mean, data_var).double()"
   ]
  },
  {
   "cell_type": "markdown",
   "metadata": {},
   "source": [
    "## Variational Bayes Training "
   ]
  },
  {
   "cell_type": "code",
   "execution_count": null,
   "metadata": {
    "scrolled": false
   },
   "outputs": [],
   "source": [
    "epochs = 200\n",
    "lrate = 1\n",
    "X = torch.from_numpy(data).double()\n",
    "optim = beer.BayesianModelCoordinateAscentOptimizer(ppca.mean_field_groups)\n",
    "    \n",
    "elbos = []\n",
    "for epoch in range(epochs):\n",
    "    optim.zero_grad()\n",
    "    elbo = beer.evidence_lower_bound(ppca, X, datasize=len(X))\n",
    "    elbo.natural_backward()\n",
    "    elbos.append(round(float(elbo) / len(X), 5))\n",
    "    optim.step()\n",
    "    \n",
    "fig = figure(width=400, height=400)\n",
    "fig.line(range(epochs), elbos, color='blue')\n",
    "show(fig)"
   ]
  },
  {
   "cell_type": "markdown",
   "metadata": {},
   "source": [
    "## Plotting the model"
   ]
  },
  {
   "cell_type": "code",
   "execution_count": null,
   "metadata": {
    "scrolled": false
   },
   "outputs": [],
   "source": [
    "model = ppca\n",
    "\n",
    "x = np.linspace(-20, 20, 1000)\n",
    "\n",
    "A, B = model.mean.numpy(), model.mean.numpy() + model.subspace.numpy()[0, :]\n",
    "slope = (A[1] - B[1]) / (A[0] - B[0])\n",
    "intercept = -slope * ((slope * A[0] - A[1]) / slope)\n",
    "s_line = np.c_[x, slope * x + intercept]\n",
    "p_h = np.sqrt(1 / (2 * np.pi)) * np.exp(-.5 * x ** 2)\n",
    "angle = np.arctan(abs(B[1] - A[1]) / abs(B[0] - A[0]))\n",
    "R = np.array([\n",
    "    [np.cos(angle), -np.sin(angle)],\n",
    "    [np.sin(angle), np.cos(angle)]\n",
    "])\n",
    "\n",
    "fig1 = figure(\n",
    "    x_range=x_range,\n",
    "    y_range=y_range,\n",
    "    width=400,\n",
    "    height=400,\n",
    ")\n",
    "\n",
    "plotting.plot_normal(fig1, mean, cov, alpha=.4, color='Salmon')\n",
    "\n",
    "for i in range(2):\n",
    "    xy = np.c_[x, np.zeros_like(x)]\n",
    "    rxy1 = xy @ R.T + model.mean.numpy()\n",
    "    xy = np.c_[x, (i + 1) * np.sqrt(np.ones_like(x) / model.precision.numpy())]\n",
    "    rxy2 = xy @ R.T + model.mean.numpy()\n",
    "    band_x = np.append(rxy1[:,0], rxy2[:, 0][::-1])\n",
    "    band_y = np.append(rxy1[:,1], rxy2[:, 1][::-1])\n",
    "    fig1.patch(band_x, band_y, line_alpha=0., fill_alpha=0.5, fill_color='LightBlue')\n",
    "\n",
    "    xy = np.c_[x, np.zeros_like(x)]\n",
    "    rxy1 = xy @ R.T + model.mean.numpy()\n",
    "    xy = np.c_[x, -(i + 1) * np.sqrt(np.ones_like(x) / model.precision.numpy())]\n",
    "    rxy2 = xy @ R.T + model.mean.numpy()\n",
    "    band_x = np.append(rxy1[:,0], rxy2[:, 0][::-1])\n",
    "    band_y = np.append(rxy1[:,1], rxy2[:, 1][::-1])\n",
    "    fig1.patch(band_x, band_y, line_alpha=0., fill_alpha=0.5, fill_color='LightBlue')\n",
    "\n",
    "\n",
    "xy = np.c_[x, np.zeros_like(x)]\n",
    "rxy1 = xy @ R.T + mean\n",
    "xy = np.c_[x, p_h]\n",
    "rxy2 = xy @ R.T + mean\n",
    "band_x = np.append(rxy1[:,0], rxy2[:, 0][::-1])\n",
    "band_y = np.append(rxy1[:,1], rxy2[:, 1][::-1])\n",
    "fig1.patch(band_x, band_y, line_color='black', fill_color='LightGreen')\n",
    "\n",
    "fig2 = figure(\n",
    "    width=400,\n",
    "    height=400,\n",
    "    x_range=x_range,\n",
    "    y_range=y_range\n",
    ")\n",
    "fig2.cross(data[:, 0], data[:, 1])\n",
    "plotting.plot_normal(fig2, mean, cov, alpha=.3, line_color='black', \n",
    "                     fill_color='salmon')\n",
    "\n",
    "show(gridplot([[fig2, fig1]]))"
   ]
  }
 ],
 "metadata": {
  "kernelspec": {
   "display_name": "Python 3",
   "language": "python",
   "name": "python3"
  },
  "language_info": {
   "codemirror_mode": {
    "name": "ipython",
    "version": 3
   },
   "file_extension": ".py",
   "mimetype": "text/x-python",
   "name": "python",
   "nbconvert_exporter": "python",
   "pygments_lexer": "ipython3",
   "version": "3.6.4"
  }
 },
 "nbformat": 4,
 "nbformat_minor": 2
}
