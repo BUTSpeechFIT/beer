{
 "cells": [
  {
   "cell_type": "markdown",
   "metadata": {},
   "source": [
    "# Bayesian Model\n",
    "\n",
    "This notebook illustrate how to use a Bayesian Normal density model with the [beer framework](https://github.com/beer-asr/beer). The Normal distribution is a fairly basic models but it is used extenslively in other model as a basic building block."
   ]
  },
  {
   "cell_type": "code",
   "execution_count": 1,
   "metadata": {},
   "outputs": [
    {
     "data": {
      "text/html": [
       "\n",
       "    <div class=\"bk-root\">\n",
       "        <a href=\"https://bokeh.pydata.org\" target=\"_blank\" class=\"bk-logo bk-logo-small bk-logo-notebook\"></a>\n",
       "        <span id=\"1001\">Loading BokehJS ...</span>\n",
       "    </div>"
      ]
     },
     "metadata": {},
     "output_type": "display_data"
    },
    {
     "data": {
      "application/javascript": [
       "\n",
       "(function(root) {\n",
       "  function now() {\n",
       "    return new Date();\n",
       "  }\n",
       "\n",
       "  var force = true;\n",
       "\n",
       "  if (typeof (root._bokeh_onload_callbacks) === \"undefined\" || force === true) {\n",
       "    root._bokeh_onload_callbacks = [];\n",
       "    root._bokeh_is_loading = undefined;\n",
       "  }\n",
       "\n",
       "  var JS_MIME_TYPE = 'application/javascript';\n",
       "  var HTML_MIME_TYPE = 'text/html';\n",
       "  var EXEC_MIME_TYPE = 'application/vnd.bokehjs_exec.v0+json';\n",
       "  var CLASS_NAME = 'output_bokeh rendered_html';\n",
       "\n",
       "  /**\n",
       "   * Render data to the DOM node\n",
       "   */\n",
       "  function render(props, node) {\n",
       "    var script = document.createElement(\"script\");\n",
       "    node.appendChild(script);\n",
       "  }\n",
       "\n",
       "  /**\n",
       "   * Handle when an output is cleared or removed\n",
       "   */\n",
       "  function handleClearOutput(event, handle) {\n",
       "    var cell = handle.cell;\n",
       "\n",
       "    var id = cell.output_area._bokeh_element_id;\n",
       "    var server_id = cell.output_area._bokeh_server_id;\n",
       "    // Clean up Bokeh references\n",
       "    if (id != null && id in Bokeh.index) {\n",
       "      Bokeh.index[id].model.document.clear();\n",
       "      delete Bokeh.index[id];\n",
       "    }\n",
       "\n",
       "    if (server_id !== undefined) {\n",
       "      // Clean up Bokeh references\n",
       "      var cmd = \"from bokeh.io.state import curstate; print(curstate().uuid_to_server['\" + server_id + \"'].get_sessions()[0].document.roots[0]._id)\";\n",
       "      cell.notebook.kernel.execute(cmd, {\n",
       "        iopub: {\n",
       "          output: function(msg) {\n",
       "            var id = msg.content.text.trim();\n",
       "            if (id in Bokeh.index) {\n",
       "              Bokeh.index[id].model.document.clear();\n",
       "              delete Bokeh.index[id];\n",
       "            }\n",
       "          }\n",
       "        }\n",
       "      });\n",
       "      // Destroy server and session\n",
       "      var cmd = \"import bokeh.io.notebook as ion; ion.destroy_server('\" + server_id + \"')\";\n",
       "      cell.notebook.kernel.execute(cmd);\n",
       "    }\n",
       "  }\n",
       "\n",
       "  /**\n",
       "   * Handle when a new output is added\n",
       "   */\n",
       "  function handleAddOutput(event, handle) {\n",
       "    var output_area = handle.output_area;\n",
       "    var output = handle.output;\n",
       "\n",
       "    // limit handleAddOutput to display_data with EXEC_MIME_TYPE content only\n",
       "    if ((output.output_type != \"display_data\") || (!output.data.hasOwnProperty(EXEC_MIME_TYPE))) {\n",
       "      return\n",
       "    }\n",
       "\n",
       "    var toinsert = output_area.element.find(\".\" + CLASS_NAME.split(' ')[0]);\n",
       "\n",
       "    if (output.metadata[EXEC_MIME_TYPE][\"id\"] !== undefined) {\n",
       "      toinsert[toinsert.length - 1].firstChild.textContent = output.data[JS_MIME_TYPE];\n",
       "      // store reference to embed id on output_area\n",
       "      output_area._bokeh_element_id = output.metadata[EXEC_MIME_TYPE][\"id\"];\n",
       "    }\n",
       "    if (output.metadata[EXEC_MIME_TYPE][\"server_id\"] !== undefined) {\n",
       "      var bk_div = document.createElement(\"div\");\n",
       "      bk_div.innerHTML = output.data[HTML_MIME_TYPE];\n",
       "      var script_attrs = bk_div.children[0].attributes;\n",
       "      for (var i = 0; i < script_attrs.length; i++) {\n",
       "        toinsert[toinsert.length - 1].firstChild.setAttribute(script_attrs[i].name, script_attrs[i].value);\n",
       "      }\n",
       "      // store reference to server id on output_area\n",
       "      output_area._bokeh_server_id = output.metadata[EXEC_MIME_TYPE][\"server_id\"];\n",
       "    }\n",
       "  }\n",
       "\n",
       "  function register_renderer(events, OutputArea) {\n",
       "\n",
       "    function append_mime(data, metadata, element) {\n",
       "      // create a DOM node to render to\n",
       "      var toinsert = this.create_output_subarea(\n",
       "        metadata,\n",
       "        CLASS_NAME,\n",
       "        EXEC_MIME_TYPE\n",
       "      );\n",
       "      this.keyboard_manager.register_events(toinsert);\n",
       "      // Render to node\n",
       "      var props = {data: data, metadata: metadata[EXEC_MIME_TYPE]};\n",
       "      render(props, toinsert[toinsert.length - 1]);\n",
       "      element.append(toinsert);\n",
       "      return toinsert\n",
       "    }\n",
       "\n",
       "    /* Handle when an output is cleared or removed */\n",
       "    events.on('clear_output.CodeCell', handleClearOutput);\n",
       "    events.on('delete.Cell', handleClearOutput);\n",
       "\n",
       "    /* Handle when a new output is added */\n",
       "    events.on('output_added.OutputArea', handleAddOutput);\n",
       "\n",
       "    /**\n",
       "     * Register the mime type and append_mime function with output_area\n",
       "     */\n",
       "    OutputArea.prototype.register_mime_type(EXEC_MIME_TYPE, append_mime, {\n",
       "      /* Is output safe? */\n",
       "      safe: true,\n",
       "      /* Index of renderer in `output_area.display_order` */\n",
       "      index: 0\n",
       "    });\n",
       "  }\n",
       "\n",
       "  // register the mime type if in Jupyter Notebook environment and previously unregistered\n",
       "  if (root.Jupyter !== undefined) {\n",
       "    var events = require('base/js/events');\n",
       "    var OutputArea = require('notebook/js/outputarea').OutputArea;\n",
       "\n",
       "    if (OutputArea.prototype.mime_types().indexOf(EXEC_MIME_TYPE) == -1) {\n",
       "      register_renderer(events, OutputArea);\n",
       "    }\n",
       "  }\n",
       "\n",
       "  \n",
       "  if (typeof (root._bokeh_timeout) === \"undefined\" || force === true) {\n",
       "    root._bokeh_timeout = Date.now() + 5000;\n",
       "    root._bokeh_failed_load = false;\n",
       "  }\n",
       "\n",
       "  var NB_LOAD_WARNING = {'data': {'text/html':\n",
       "     \"<div style='background-color: #fdd'>\\n\"+\n",
       "     \"<p>\\n\"+\n",
       "     \"BokehJS does not appear to have successfully loaded. If loading BokehJS from CDN, this \\n\"+\n",
       "     \"may be due to a slow or bad network connection. Possible fixes:\\n\"+\n",
       "     \"</p>\\n\"+\n",
       "     \"<ul>\\n\"+\n",
       "     \"<li>re-rerun `output_notebook()` to attempt to load from CDN again, or</li>\\n\"+\n",
       "     \"<li>use INLINE resources instead, as so:</li>\\n\"+\n",
       "     \"</ul>\\n\"+\n",
       "     \"<code>\\n\"+\n",
       "     \"from bokeh.resources import INLINE\\n\"+\n",
       "     \"output_notebook(resources=INLINE)\\n\"+\n",
       "     \"</code>\\n\"+\n",
       "     \"</div>\"}};\n",
       "\n",
       "  function display_loaded() {\n",
       "    var el = document.getElementById(\"1001\");\n",
       "    if (el != null) {\n",
       "      el.textContent = \"BokehJS is loading...\";\n",
       "    }\n",
       "    if (root.Bokeh !== undefined) {\n",
       "      if (el != null) {\n",
       "        el.textContent = \"BokehJS \" + root.Bokeh.version + \" successfully loaded.\";\n",
       "      }\n",
       "    } else if (Date.now() < root._bokeh_timeout) {\n",
       "      setTimeout(display_loaded, 100)\n",
       "    }\n",
       "  }\n",
       "\n",
       "\n",
       "  function run_callbacks() {\n",
       "    try {\n",
       "      root._bokeh_onload_callbacks.forEach(function(callback) { callback() });\n",
       "    }\n",
       "    finally {\n",
       "      delete root._bokeh_onload_callbacks\n",
       "    }\n",
       "    console.info(\"Bokeh: all callbacks have finished\");\n",
       "  }\n",
       "\n",
       "  function load_libs(js_urls, callback) {\n",
       "    root._bokeh_onload_callbacks.push(callback);\n",
       "    if (root._bokeh_is_loading > 0) {\n",
       "      console.log(\"Bokeh: BokehJS is being loaded, scheduling callback at\", now());\n",
       "      return null;\n",
       "    }\n",
       "    if (js_urls == null || js_urls.length === 0) {\n",
       "      run_callbacks();\n",
       "      return null;\n",
       "    }\n",
       "    console.log(\"Bokeh: BokehJS not loaded, scheduling load and callback at\", now());\n",
       "    root._bokeh_is_loading = js_urls.length;\n",
       "    for (var i = 0; i < js_urls.length; i++) {\n",
       "      var url = js_urls[i];\n",
       "      var s = document.createElement('script');\n",
       "      s.src = url;\n",
       "      s.async = false;\n",
       "      s.onreadystatechange = s.onload = function() {\n",
       "        root._bokeh_is_loading--;\n",
       "        if (root._bokeh_is_loading === 0) {\n",
       "          console.log(\"Bokeh: all BokehJS libraries loaded\");\n",
       "          run_callbacks()\n",
       "        }\n",
       "      };\n",
       "      s.onerror = function() {\n",
       "        console.warn(\"failed to load library \" + url);\n",
       "      };\n",
       "      console.log(\"Bokeh: injecting script tag for BokehJS library: \", url);\n",
       "      document.getElementsByTagName(\"head\")[0].appendChild(s);\n",
       "    }\n",
       "  };var element = document.getElementById(\"1001\");\n",
       "  if (element == null) {\n",
       "    console.log(\"Bokeh: ERROR: autoload.js configured with elementid '1001' but no matching script tag was found. \")\n",
       "    return false;\n",
       "  }\n",
       "\n",
       "  var js_urls = [\"https://cdn.pydata.org/bokeh/release/bokeh-1.0.0.min.js\", \"https://cdn.pydata.org/bokeh/release/bokeh-widgets-1.0.0.min.js\", \"https://cdn.pydata.org/bokeh/release/bokeh-tables-1.0.0.min.js\", \"https://cdn.pydata.org/bokeh/release/bokeh-gl-1.0.0.min.js\"];\n",
       "\n",
       "  var inline_js = [\n",
       "    function(Bokeh) {\n",
       "      Bokeh.set_log_level(\"info\");\n",
       "    },\n",
       "    \n",
       "    function(Bokeh) {\n",
       "      \n",
       "    },\n",
       "    function(Bokeh) {\n",
       "      console.log(\"Bokeh: injecting CSS: https://cdn.pydata.org/bokeh/release/bokeh-1.0.0.min.css\");\n",
       "      Bokeh.embed.inject_css(\"https://cdn.pydata.org/bokeh/release/bokeh-1.0.0.min.css\");\n",
       "      console.log(\"Bokeh: injecting CSS: https://cdn.pydata.org/bokeh/release/bokeh-widgets-1.0.0.min.css\");\n",
       "      Bokeh.embed.inject_css(\"https://cdn.pydata.org/bokeh/release/bokeh-widgets-1.0.0.min.css\");\n",
       "      console.log(\"Bokeh: injecting CSS: https://cdn.pydata.org/bokeh/release/bokeh-tables-1.0.0.min.css\");\n",
       "      Bokeh.embed.inject_css(\"https://cdn.pydata.org/bokeh/release/bokeh-tables-1.0.0.min.css\");\n",
       "    }\n",
       "  ];\n",
       "\n",
       "  function run_inline_js() {\n",
       "    \n",
       "    if ((root.Bokeh !== undefined) || (force === true)) {\n",
       "      for (var i = 0; i < inline_js.length; i++) {\n",
       "        inline_js[i].call(root, root.Bokeh);\n",
       "      }if (force === true) {\n",
       "        display_loaded();\n",
       "      }} else if (Date.now() < root._bokeh_timeout) {\n",
       "      setTimeout(run_inline_js, 100);\n",
       "    } else if (!root._bokeh_failed_load) {\n",
       "      console.log(\"Bokeh: BokehJS failed to load within specified timeout.\");\n",
       "      root._bokeh_failed_load = true;\n",
       "    } else if (force !== true) {\n",
       "      var cell = $(document.getElementById(\"1001\")).parents('.cell').data().cell;\n",
       "      cell.output_area.append_execute_result(NB_LOAD_WARNING)\n",
       "    }\n",
       "\n",
       "  }\n",
       "\n",
       "  if (root._bokeh_is_loading === 0) {\n",
       "    console.log(\"Bokeh: BokehJS loaded, going straight to plotting\");\n",
       "    run_inline_js();\n",
       "  } else {\n",
       "    load_libs(js_urls, function() {\n",
       "      console.log(\"Bokeh: BokehJS plotting callback run at\", now());\n",
       "      run_inline_js();\n",
       "    });\n",
       "  }\n",
       "}(window));"
      ],
      "application/vnd.bokehjs_load.v0+json": "\n(function(root) {\n  function now() {\n    return new Date();\n  }\n\n  var force = true;\n\n  if (typeof (root._bokeh_onload_callbacks) === \"undefined\" || force === true) {\n    root._bokeh_onload_callbacks = [];\n    root._bokeh_is_loading = undefined;\n  }\n\n  \n\n  \n  if (typeof (root._bokeh_timeout) === \"undefined\" || force === true) {\n    root._bokeh_timeout = Date.now() + 5000;\n    root._bokeh_failed_load = false;\n  }\n\n  var NB_LOAD_WARNING = {'data': {'text/html':\n     \"<div style='background-color: #fdd'>\\n\"+\n     \"<p>\\n\"+\n     \"BokehJS does not appear to have successfully loaded. If loading BokehJS from CDN, this \\n\"+\n     \"may be due to a slow or bad network connection. Possible fixes:\\n\"+\n     \"</p>\\n\"+\n     \"<ul>\\n\"+\n     \"<li>re-rerun `output_notebook()` to attempt to load from CDN again, or</li>\\n\"+\n     \"<li>use INLINE resources instead, as so:</li>\\n\"+\n     \"</ul>\\n\"+\n     \"<code>\\n\"+\n     \"from bokeh.resources import INLINE\\n\"+\n     \"output_notebook(resources=INLINE)\\n\"+\n     \"</code>\\n\"+\n     \"</div>\"}};\n\n  function display_loaded() {\n    var el = document.getElementById(\"1001\");\n    if (el != null) {\n      el.textContent = \"BokehJS is loading...\";\n    }\n    if (root.Bokeh !== undefined) {\n      if (el != null) {\n        el.textContent = \"BokehJS \" + root.Bokeh.version + \" successfully loaded.\";\n      }\n    } else if (Date.now() < root._bokeh_timeout) {\n      setTimeout(display_loaded, 100)\n    }\n  }\n\n\n  function run_callbacks() {\n    try {\n      root._bokeh_onload_callbacks.forEach(function(callback) { callback() });\n    }\n    finally {\n      delete root._bokeh_onload_callbacks\n    }\n    console.info(\"Bokeh: all callbacks have finished\");\n  }\n\n  function load_libs(js_urls, callback) {\n    root._bokeh_onload_callbacks.push(callback);\n    if (root._bokeh_is_loading > 0) {\n      console.log(\"Bokeh: BokehJS is being loaded, scheduling callback at\", now());\n      return null;\n    }\n    if (js_urls == null || js_urls.length === 0) {\n      run_callbacks();\n      return null;\n    }\n    console.log(\"Bokeh: BokehJS not loaded, scheduling load and callback at\", now());\n    root._bokeh_is_loading = js_urls.length;\n    for (var i = 0; i < js_urls.length; i++) {\n      var url = js_urls[i];\n      var s = document.createElement('script');\n      s.src = url;\n      s.async = false;\n      s.onreadystatechange = s.onload = function() {\n        root._bokeh_is_loading--;\n        if (root._bokeh_is_loading === 0) {\n          console.log(\"Bokeh: all BokehJS libraries loaded\");\n          run_callbacks()\n        }\n      };\n      s.onerror = function() {\n        console.warn(\"failed to load library \" + url);\n      };\n      console.log(\"Bokeh: injecting script tag for BokehJS library: \", url);\n      document.getElementsByTagName(\"head\")[0].appendChild(s);\n    }\n  };var element = document.getElementById(\"1001\");\n  if (element == null) {\n    console.log(\"Bokeh: ERROR: autoload.js configured with elementid '1001' but no matching script tag was found. \")\n    return false;\n  }\n\n  var js_urls = [\"https://cdn.pydata.org/bokeh/release/bokeh-1.0.0.min.js\", \"https://cdn.pydata.org/bokeh/release/bokeh-widgets-1.0.0.min.js\", \"https://cdn.pydata.org/bokeh/release/bokeh-tables-1.0.0.min.js\", \"https://cdn.pydata.org/bokeh/release/bokeh-gl-1.0.0.min.js\"];\n\n  var inline_js = [\n    function(Bokeh) {\n      Bokeh.set_log_level(\"info\");\n    },\n    \n    function(Bokeh) {\n      \n    },\n    function(Bokeh) {\n      console.log(\"Bokeh: injecting CSS: https://cdn.pydata.org/bokeh/release/bokeh-1.0.0.min.css\");\n      Bokeh.embed.inject_css(\"https://cdn.pydata.org/bokeh/release/bokeh-1.0.0.min.css\");\n      console.log(\"Bokeh: injecting CSS: https://cdn.pydata.org/bokeh/release/bokeh-widgets-1.0.0.min.css\");\n      Bokeh.embed.inject_css(\"https://cdn.pydata.org/bokeh/release/bokeh-widgets-1.0.0.min.css\");\n      console.log(\"Bokeh: injecting CSS: https://cdn.pydata.org/bokeh/release/bokeh-tables-1.0.0.min.css\");\n      Bokeh.embed.inject_css(\"https://cdn.pydata.org/bokeh/release/bokeh-tables-1.0.0.min.css\");\n    }\n  ];\n\n  function run_inline_js() {\n    \n    if ((root.Bokeh !== undefined) || (force === true)) {\n      for (var i = 0; i < inline_js.length; i++) {\n        inline_js[i].call(root, root.Bokeh);\n      }if (force === true) {\n        display_loaded();\n      }} else if (Date.now() < root._bokeh_timeout) {\n      setTimeout(run_inline_js, 100);\n    } else if (!root._bokeh_failed_load) {\n      console.log(\"Bokeh: BokehJS failed to load within specified timeout.\");\n      root._bokeh_failed_load = true;\n    } else if (force !== true) {\n      var cell = $(document.getElementById(\"1001\")).parents('.cell').data().cell;\n      cell.output_area.append_execute_result(NB_LOAD_WARNING)\n    }\n\n  }\n\n  if (root._bokeh_is_loading === 0) {\n    console.log(\"Bokeh: BokehJS loaded, going straight to plotting\");\n    run_inline_js();\n  } else {\n    load_libs(js_urls, function() {\n      console.log(\"Bokeh: BokehJS plotting callback run at\", now());\n      run_inline_js();\n    });\n  }\n}(window));"
     },
     "metadata": {},
     "output_type": "display_data"
    }
   ],
   "source": [
    "# Add \"beer\" to the PYTHONPATH\n",
    "import random\n",
    "from collections import defaultdict\n",
    "import sys\n",
    "sys.path.insert(0, '../')\n",
    "\n",
    "\n",
    "import beer\n",
    "import numpy as np\n",
    "import torch\n",
    "\n",
    "# For plotting.\n",
    "from bokeh.io import show, output_notebook\n",
    "from bokeh.plotting import figure, gridplot\n",
    "output_notebook()\n",
    "\n",
    "# Convenience functions for plotting.\n",
    "import plotting\n",
    "\n",
    "%load_ext autoreload\n",
    "%autoreload 2"
   ]
  },
  {
   "cell_type": "markdown",
   "metadata": {},
   "source": [
    "## Data\n",
    "\n",
    "Generate some normally distributed data:"
   ]
  },
  {
   "cell_type": "code",
   "execution_count": 2,
   "metadata": {},
   "outputs": [
    {
     "data": {
      "text/html": [
       "\n",
       "\n",
       "\n",
       "\n",
       "\n",
       "\n",
       "  <div class=\"bk-root\" id=\"f38f7c50-2c31-4474-8c89-24621597aee1\"></div>\n"
      ]
     },
     "metadata": {},
     "output_type": "display_data"
    },
    {
     "data": {
      "application/javascript": [
       "(function(root) {\n",
       "  function embed_document(root) {\n",
       "    \n",
       "  var docs_json = {\"bf8efaa7-39f6-4ed0-b6f2-c27dd489e737\":{\"roots\":{\"references\":[{\"attributes\":{\"below\":[{\"id\":\"1013\",\"type\":\"LinearAxis\"}],\"left\":[{\"id\":\"1018\",\"type\":\"LinearAxis\"}],\"plot_height\":400,\"plot_width\":400,\"renderers\":[{\"id\":\"1013\",\"type\":\"LinearAxis\"},{\"id\":\"1017\",\"type\":\"Grid\"},{\"id\":\"1018\",\"type\":\"LinearAxis\"},{\"id\":\"1022\",\"type\":\"Grid\"},{\"id\":\"1031\",\"type\":\"BoxAnnotation\"},{\"id\":\"1041\",\"type\":\"GlyphRenderer\"},{\"id\":\"1046\",\"type\":\"GlyphRenderer\"},{\"id\":\"1051\",\"type\":\"GlyphRenderer\"}],\"title\":{\"id\":\"1002\",\"type\":\"Title\"},\"toolbar\":{\"id\":\"1029\",\"type\":\"Toolbar\"},\"x_range\":{\"id\":\"1005\",\"type\":\"Range1d\"},\"x_scale\":{\"id\":\"1009\",\"type\":\"LinearScale\"},\"y_range\":{\"id\":\"1007\",\"type\":\"Range1d\"},\"y_scale\":{\"id\":\"1011\",\"type\":\"LinearScale\"}},\"id\":\"1003\",\"subtype\":\"Figure\",\"type\":\"Plot\"},{\"attributes\":{},\"id\":\"1026\",\"type\":\"SaveTool\"},{\"attributes\":{},\"id\":\"1057\",\"type\":\"BasicTickFormatter\"},{\"attributes\":{},\"id\":\"1027\",\"type\":\"ResetTool\"},{\"attributes\":{},\"id\":\"1058\",\"type\":\"UnionRenderers\"},{\"attributes\":{\"callback\":null,\"data\":{\"x\":{\"__ndarray__\":\"Zz7P0cVi8r/KzGcb9lXxP3AJrKnYF44/zC3Qjt17xr8PcMgA7rDsv0VvgClWYdO/mY+mmEGfAUCdWmDnuREBwMk2wvu6jPi/sh4roK6iwz+/Lp+PBBPYP9GiwEsYFLM/KK3Fj5kW3L+1a3T+TP3wPyCQ/h3/9Zc/eMAeiUOs1L/UnOY5QBUBwAiZjdkrt76/d9EEcF2/8T+8dz13g9nlPzR41RJyrPm//20U5sjo+r9Q9rqvgL2mv9rgIWuTj/O/EOoOwCGC+b897RkUY6cBwGUkmynIkvA/fjKQyCH81b9E55uy+gbnv9Slu4kdUAFAVCOCDSkouj/ep2v0Nh7zP8ylhNuJ7vi/rNGV820c6L8srDuoM/bwP3n9uLTxreO/Qe5z5r1u2j/3mBJHc1XkvzjwtD/HXQHA5H2fiQUP5D9QpLiouFDyP0GPt7mU3fw/db9XJmeM4D9y23guUm3kPxDfz6Anuac/8bRSB153BUDFqPslYEfpv5OJ2QAbTeC/zRBezT6s7b94aHqfCiHiP8SOznCkC7m/YfSJ9Nx75r8Ln2jZptnhvxgF3YJ3z+O/FvrAW01p3j9iJmTWWAbzv4Q9sYdTl+k/+U6fK0MN67/xKra1iQTDvxpS02cAONC/yO8Ly8Bw6r/mwfsPBT33vzBYNmE1wc0/ty3ut7kg4b/+yfoAqWj1PwqB2Hr1bfw/4SfyTWZfBcABNX0cqGjEP0bC4iZrNfE/IPk8oYSUAMCE2P5csjD0v06SMUD7igRA97lj3J1Y/L/uSBSMJUAKQBsU/kwjUea/qTLI801mAcBcxnvWTtXpv5ZIWVUa/RBAoLJs0Za/AkBkEOc67KfvvybSLdrmuMy/VkB2fwei8r/50U/VKJbvP2rI7qrgtc4//MpWpXJU9z/oYW0pGL/3P2GEXJItOvY/ejkRketWyj9gMVyP8Er8v077mvRUA+A/YEj19NWd8T/xOAgcoJjuP5vLDjWS+/8/PnYNIdVx+T+/lvQCugPevxxag/cXnfS/eh7Xwx8D4L/UyHUqZjvTP6OoyzbinNo/Y8PVgYqN8j8=\",\"dtype\":\"float64\",\"shape\":[100]},\"y\":{\"__ndarray__\":\"sGMP8yhQ7L+qlgToNJnZP7qz1uV5P+A/nr+g/s9U7T+oySrx9RDfvz4G6AsegrI/pyDFmWLQ4T+Zt8EtYa33v0TXtLQGSvW/T6vsg8Rr8r/5FDvL3lTWP+ErQhMB9aa/SkRvcC8D379SWKg9TPzwPy/OjnOm9e8/s1rdSQ1r2L/7T+A5QJb6v2M2JEG/lsG/pFFWLJcZ5D9zcp2gxrPbvyAriPaJi/i/Z7hvYxPg9L9E3j5ERBP5v3ZRxyDgX/K/Y61T0gpi578ajsqRYPj3v/lgnBbfUOg/sPut7P50w7/5VHu4nGvmv+wRzgfCXso/EjC9Pu751j+gqhJ/opvwPyJ12xQyZ/u/hinvu59o7z/J8AWy9snyP5B67AAe/fG/gAXYljo66b9lWQ86i7Lov3x7ZrrhhP2/0hPvnqTc0785noQLBKvUvy6itxtlH/M/F01T9QHa5T/rTIwtItPSv4RDaH7gj+M/qVgLSnGm+D/2EMG1gpTqv678qp18IeS/PFoXFI6H0r9i/9ws4L7VP4iZw1gpvOm/mC6LGvno0T89NJUHBsvKP4wY+AIkAOq/LcMTbsK/0T92rclj5UPcv9hH/OPZmti/ksRx7thP7r9ZwF+whaS7v1Y+t4pbmvW/YIaqB4X4m79wuZxetwf2vwUELbbK6+Q/TN/R7+ov1b9mDu6QMlbPPzpVR89nXPw/TSEUkiPE+b+gb9oIEh7Xv6s3MAohQuo/cO0SwBgc+b/NYoG8Ihb4vyuOKdrbWPU/+xkVrlTd2L+Pf22yAej1PzjoeOSa2Mo/DSAL3odJAcAXUtS5FrDaP2bgW8r4BfY/HkGSdw3B8T8WkRtYCe3nv3iR8seZIvA/2v7nctUb97/7gF3XQFHoP+bPVNgiOLu/HDg8fgpf4z8wrPAtdySgPyqyWIRbv+E/yVGhlkMt3r9Rx79a1+Pqv7XzZdNcfeI/AOTRd0vCqz8ZUC61U1DkP/p9DiLq9PI/Agt9i1Tt+j8Q1w8MDprFv2T8XLpZFPG/vQWmI7vF7L8wOmr3B6bLPxU4kVamG+e/avJerYNx6T8=\",\"dtype\":\"float64\",\"shape\":[100]}},\"selected\":{\"id\":\"1059\",\"type\":\"Selection\"},\"selection_policy\":{\"id\":\"1058\",\"type\":\"UnionRenderers\"}},\"id\":\"1038\",\"type\":\"ColumnDataSource\"},{\"attributes\":{\"fill_alpha\":{\"value\":0.1},\"fill_color\":{\"value\":\"#1f77b4\"},\"line_alpha\":{\"value\":0.1},\"line_color\":{\"value\":\"#1f77b4\"},\"x\":{\"field\":\"x\"},\"y\":{\"field\":\"y\"}},\"id\":\"1040\",\"type\":\"Circle\"},{\"attributes\":{},\"id\":\"1028\",\"type\":\"HelpTool\"},{\"attributes\":{},\"id\":\"1059\",\"type\":\"Selection\"},{\"attributes\":{\"active_drag\":\"auto\",\"active_inspect\":\"auto\",\"active_multi\":null,\"active_scroll\":\"auto\",\"active_tap\":\"auto\",\"tools\":[{\"id\":\"1023\",\"type\":\"PanTool\"},{\"id\":\"1024\",\"type\":\"WheelZoomTool\"},{\"id\":\"1025\",\"type\":\"BoxZoomTool\"},{\"id\":\"1026\",\"type\":\"SaveTool\"},{\"id\":\"1027\",\"type\":\"ResetTool\"},{\"id\":\"1028\",\"type\":\"HelpTool\"}]},\"id\":\"1029\",\"type\":\"Toolbar\"},{\"attributes\":{},\"id\":\"1060\",\"type\":\"UnionRenderers\"},{\"attributes\":{\"data_source\":{\"id\":\"1038\",\"type\":\"ColumnDataSource\"},\"glyph\":{\"id\":\"1039\",\"type\":\"Circle\"},\"hover_glyph\":null,\"muted_glyph\":null,\"nonselection_glyph\":{\"id\":\"1040\",\"type\":\"Circle\"},\"selection_glyph\":null,\"view\":{\"id\":\"1042\",\"type\":\"CDSView\"}},\"id\":\"1041\",\"type\":\"GlyphRenderer\"},{\"attributes\":{},\"id\":\"1061\",\"type\":\"Selection\"},{\"attributes\":{\"bottom_units\":\"screen\",\"fill_alpha\":{\"value\":0.5},\"fill_color\":{\"value\":\"lightgrey\"},\"left_units\":\"screen\",\"level\":\"overlay\",\"line_alpha\":{\"value\":1.0},\"line_color\":{\"value\":\"black\"},\"line_dash\":[4,4],\"line_width\":{\"value\":2},\"plot\":null,\"render_mode\":\"css\",\"right_units\":\"screen\",\"top_units\":\"screen\"},\"id\":\"1031\",\"type\":\"BoxAnnotation\"},{\"attributes\":{},\"id\":\"1062\",\"type\":\"UnionRenderers\"},{\"attributes\":{\"source\":{\"id\":\"1038\",\"type\":\"ColumnDataSource\"}},\"id\":\"1042\",\"type\":\"CDSView\"},{\"attributes\":{},\"id\":\"1011\",\"type\":\"LinearScale\"},{\"attributes\":{},\"id\":\"1063\",\"type\":\"Selection\"},{\"attributes\":{\"formatter\":{\"id\":\"1055\",\"type\":\"BasicTickFormatter\"},\"plot\":{\"id\":\"1003\",\"subtype\":\"Figure\",\"type\":\"Plot\"},\"ticker\":{\"id\":\"1014\",\"type\":\"BasicTicker\"}},\"id\":\"1013\",\"type\":\"LinearAxis\"},{\"attributes\":{\"plot\":null,\"text\":\"Data\"},\"id\":\"1002\",\"type\":\"Title\"},{\"attributes\":{\"callback\":null,\"data\":{\"x\":{\"__ndarray__\":\"zTt/Zp6gBkD/aBeat5QGQEpH+7kPcQZAxDZRSMw1BkC/j9WcK+MFQECmRaOEeQVAnt/vf0b5BEBDCska+GIEQH71gZE3twNAdpMykbn2AkCHnkmYSCICQJ6yiCHEOgFAxu/suB9BAEDd6Pb2w2z+P3Rl/gVHN/w/aHu1fRvk+T/TJUl2s3X3PwkMrq6d7vQ/w3Xc24JR8j+F03m5RULvP5J+baujwOk/dhnXbeoj5D8TMwPBAuTcPxjbsFnMYdE/HshwxDM1tz/Yx3DEMzW3vwbbsFnMYdG/ATMDwQLk3L90Gddt6iPkv4l+baujwOm/fNN5uUVC77++ddzbglHyvwQMrq6d7vS/0SVJdrN1979le7V9G+T5v3Nl/gVHN/y/2ej29sNs/r/F7+y4H0EAwJyyiCHEOgHAhp5JmEgiAsBzkzKRufYCwH31gZE3twPAQgrJGvhiBMCd3+9/RvkEwECmRaOEeQXAvo/VnCvjBcDENlFIzDUGwElH+7kPcQbA/2gXmreUBsDNO39mnqAGwM07f2aeoAbA/2gXmreUBsBJR/u5D3EGwMQ2UUjMNQbAvo/VnCvjBcBApkWjhHkFwJ3f739G+QTAQgrJGvhiBMB99YGRN7cDwHOTMpG59gLAhp5JmEgiAsCcsoghxDoBwMXv7LgfQQDA2ej29sNs/r9zZf4FRzf8v2V7tX0b5Pm/0SVJdrN1978EDK6une70v7513NuCUfK/fNN5uUVC77+Jfm2ro8Dpv3QZ123qI+S/ATMDwQLk3L8G27BZzGHRv9jHcMQzNbe/HshwxDM1tz8Y27BZzGHRPxMzA8EC5Nw/dhnXbeoj5D+Sfm2ro8DpP4XTeblFQu8/w3Xc24JR8j8JDK6une70P9MlSXazdfc/aHu1fRvk+T90Zf4FRzf8P93o9vbDbP4/xu/suB9BAECesoghxDoBQIeeSZhIIgJAdpMykbn2AkB+9YGRN7cDQEMKyRr4YgRAnt/vf0b5BEBApkWjhHkFQL+P1Zwr4wVAxDZRSMw1BkBKR/u5D3EGQP9oF5q3lAZAzTt/Zp6gBkA=\",\"dtype\":\"float64\",\"shape\":[100]},\"y\":{\"__ndarray__\":\"m0Vf4fx+9T+/MUnsR9P2PxfR+xKQD/g/IBVMnogy+T/esFZ3/zr6P3RtfmneJ/s/CFMVRyz4+z/5x3zvDav8P5nnqDXHP/0/+pIUpru1/T+T/lUrbwz+PyCbppCGQ/4/egnV4cda/j9SKzyoGlL+P8AufwSIKf4/XYLvpDrh/T+Yy6aYfnn9P5gahP/A8vw/tIZgl49N/D/Q9fMmmIr7PzrpBsenqvo/up2xCqqu+T+xdYsHqJf4P/Bdzz7HZvc/ZIaaaEgd9j+EOooihrz0P4PDG4PzRfM/X+ZNkxq78T/WpB6wmh3wPzyaMqtN3uw/T/yAqgdj6T98+mrzDM3lPyfrIzMjIOI/sJ7rbVDA3D/KZwy2GyLVP0imBZBX28o/6OFMQG6stj8gXHFKWeugv8zBtatwx8O/2CBxPp6f0b8Ye5Qd+kjZv3GiNVfea+C/a/2bU/kh5L+kqzGL5sLnv51ppczUSuu/dMAXMg227r+3n7SEewDxv7ucYc4NlPK/uxWw6xQU9L+aRV/h/H71v5xFX+H8fvW/wTFJ7EfT9r8Z0fsSkA/4vyEVTJ6IMvm/4LBWd/86+r92bX5p3if7vwpTFUcs+Pu/+Md87w2r/L+a56g1xz/9v/qSFKa7tf2/kv5VK28M/r8gm6aQhkP+v3oJ1eHHWv6/Uis8qBpS/r/BLn8EiCn+v16C76Q64f2/mMummH55/b+WGoT/wPL8v7KGYJePTfy/zvXzJpiK+7846QbHp6r6v7qdsQqqrvm/r3WLB6iX+L/tXc8+x2b3v2KGmmhIHfa/gjqKIoa89L+AwxuD80Xzv13mTZMau/G/1qQesJod8L84mjKrTd7sv0v8gKoHY+m/ePpq8wzN5b8j6yMzIyDiv66e621QwNy/vGcMthsi1b88pgWQV9vKv7jhTEBurLa/UFxxSlnroD/kwbWrcMfDP+QgcT6en9E/KnuUHfpI2T92ojVX3mvgP279m1P5IeQ/qKsxi+bC5z+gaaXM1ErrP3zAFzINtu4/uJ+0hHsA8T+/nGHODZTyP70VsOsUFPQ/m0Vf4fx+9T8=\",\"dtype\":\"float64\",\"shape\":[100]}},\"selected\":{\"id\":\"1061\",\"type\":\"Selection\"},\"selection_policy\":{\"id\":\"1060\",\"type\":\"UnionRenderers\"}},\"id\":\"1043\",\"type\":\"ColumnDataSource\"},{\"attributes\":{},\"id\":\"1014\",\"type\":\"BasicTicker\"},{\"attributes\":{\"fill_alpha\":0.3,\"fill_color\":\"#1f77b4\",\"x\":{\"field\":\"x\"},\"y\":{\"field\":\"y\"}},\"id\":\"1044\",\"type\":\"Patch\"},{\"attributes\":{\"callback\":null,\"end\":5.0,\"start\":-5.0},\"id\":\"1007\",\"type\":\"Range1d\"},{\"attributes\":{\"overlay\":{\"id\":\"1031\",\"type\":\"BoxAnnotation\"}},\"id\":\"1025\",\"type\":\"BoxZoomTool\"},{\"attributes\":{\"fill_alpha\":0.1,\"fill_color\":\"#1f77b4\",\"line_alpha\":0.1,\"line_color\":\"#1f77b4\",\"x\":{\"field\":\"x\"},\"y\":{\"field\":\"y\"}},\"id\":\"1045\",\"type\":\"Patch\"},{\"attributes\":{\"plot\":{\"id\":\"1003\",\"subtype\":\"Figure\",\"type\":\"Plot\"},\"ticker\":{\"id\":\"1014\",\"type\":\"BasicTicker\"}},\"id\":\"1017\",\"type\":\"Grid\"},{\"attributes\":{\"data_source\":{\"id\":\"1043\",\"type\":\"ColumnDataSource\"},\"glyph\":{\"id\":\"1044\",\"type\":\"Patch\"},\"hover_glyph\":null,\"muted_glyph\":null,\"nonselection_glyph\":{\"id\":\"1045\",\"type\":\"Patch\"},\"selection_glyph\":null,\"view\":{\"id\":\"1047\",\"type\":\"CDSView\"}},\"id\":\"1046\",\"type\":\"GlyphRenderer\"},{\"attributes\":{\"formatter\":{\"id\":\"1057\",\"type\":\"BasicTickFormatter\"},\"plot\":{\"id\":\"1003\",\"subtype\":\"Figure\",\"type\":\"Plot\"},\"ticker\":{\"id\":\"1019\",\"type\":\"BasicTicker\"}},\"id\":\"1018\",\"type\":\"LinearAxis\"},{\"attributes\":{},\"id\":\"1009\",\"type\":\"LinearScale\"},{\"attributes\":{\"source\":{\"id\":\"1043\",\"type\":\"ColumnDataSource\"}},\"id\":\"1047\",\"type\":\"CDSView\"},{\"attributes\":{},\"id\":\"1019\",\"type\":\"BasicTicker\"},{\"attributes\":{\"callback\":null,\"data\":{\"x\":{\"__ndarray__\":\"zTt/Zp6g9j//aBeat5T2P0pH+7kPcfY/xDZRSMw19j+/j9WcK+P1P0CmRaOEefU/nt/vf0b59D9DCska+GL0P371gZE3t/M/dpMykbn28j+HnkmYSCLyP56yiCHEOvE/xu/suB9B8D/d6Pb2w2zuP3Rl/gVHN+w/aHu1fRvk6T/TJUl2s3XnPwkMrq6d7uQ/w3Xc24JR4j+F03m5RULfP5J+baujwNk/dhnXbeoj1D8TMwPBAuTMPxjbsFnMYcE/HshwxDM1pz/Yx3DEMzWnvwbbsFnMYcG/ATMDwQLkzL90Gddt6iPUv4l+baujwNm/fNN5uUVC37++ddzbglHivwQMrq6d7uS/0SVJdrN1579le7V9G+Tpv3Nl/gVHN+y/2ej29sNs7r/F7+y4H0Hwv5yyiCHEOvG/hp5JmEgi8r9zkzKRufbyv331gZE3t/O/QgrJGvhi9L+d3+9/Rvn0v0CmRaOEefW/vo/VnCvj9b/ENlFIzDX2v0lH+7kPcfa//2gXmreU9r/NO39mnqD2v807f2aeoPa//2gXmreU9r9JR/u5D3H2v8Q2UUjMNfa/vo/VnCvj9b9ApkWjhHn1v53f739G+fS/QgrJGvhi9L999YGRN7fzv3OTMpG59vK/hp5JmEgi8r+csoghxDrxv8Xv7LgfQfC/2ej29sNs7r9zZf4FRzfsv2V7tX0b5Om/0SVJdrN1578EDK6une7kv7513NuCUeK/fNN5uUVC37+Jfm2ro8DZv3QZ123qI9S/ATMDwQLkzL8G27BZzGHBv9jHcMQzNae/HshwxDM1pz8Y27BZzGHBPxMzA8EC5Mw/dhnXbeoj1D+Sfm2ro8DZP4XTeblFQt8/w3Xc24JR4j8JDK6une7kP9MlSXazdec/aHu1fRvk6T90Zf4FRzfsP93o9vbDbO4/xu/suB9B8D+esoghxDrxP4eeSZhIIvI/dpMykbn28j9+9YGRN7fzP0MKyRr4YvQ/nt/vf0b59D9ApkWjhHn1P7+P1Zwr4/U/xDZRSMw19j9KR/u5D3H2P/9oF5q3lPY/zTt/Zp6g9j8=\",\"dtype\":\"float64\",\"shape\":[100]},\"y\":{\"__ndarray__\":\"m0Vf4fx+5T+/MUnsR9PmPxfR+xKQD+g/IBVMnogy6T/esFZ3/zrqP3RtfmneJ+s/CFMVRyz46z/5x3zvDavsP5nnqDXHP+0/+pIUpru17T+T/lUrbwzuPyCbppCGQ+4/egnV4cda7j9SKzyoGlLuP8AufwSIKe4/XYLvpDrh7T+Yy6aYfnntP5gahP/A8uw/tIZgl49N7D/Q9fMmmIrrPzrpBsenquo/up2xCqqu6T+xdYsHqJfoP/Bdzz7HZuc/ZIaaaEgd5j+EOooihrzkP4PDG4PzReM/X+ZNkxq74T/WpB6wmh3gPzyaMqtN3tw/T/yAqgdj2T98+mrzDM3VPyfrIzMjINI/sJ7rbVDAzD/KZwy2GyLFP0imBZBX27o/6OFMQG6spj8gXHFKWeuQv8zBtatwx7O/2CBxPp6fwb8Ye5Qd+kjJv3GiNVfea9C/a/2bU/kh1L+kqzGL5sLXv51ppczUStu/dMAXMg223r+3n7SEewDhv7ucYc4NlOK/uxWw6xQU5L+aRV/h/H7lv5xFX+H8fuW/wTFJ7EfT5r8Z0fsSkA/ovyEVTJ6IMum/4LBWd/866r92bX5p3ifrvwpTFUcs+Ou/+Md87w2r7L+a56g1xz/tv/qSFKa7te2/kv5VK28M7r8gm6aQhkPuv3oJ1eHHWu6/Uis8qBpS7r/BLn8EiCnuv16C76Q64e2/mMummH557b+WGoT/wPLsv7KGYJePTey/zvXzJpiK67846QbHp6rqv7qdsQqqrum/r3WLB6iX6L/tXc8+x2bnv2KGmmhIHea/gjqKIoa85L+AwxuD80Xjv13mTZMau+G/1qQesJod4L84mjKrTd7cv0v8gKoHY9m/ePpq8wzN1b8j6yMzIyDSv66e621QwMy/vGcMthsixb88pgWQV9u6v7jhTEBurKa/UFxxSlnrkD/kwbWrcMezP+QgcT6en8E/KnuUHfpIyT92ojVX3mvQP279m1P5IdQ/qKsxi+bC1z+gaaXM1ErbP3zAFzINtt4/uJ+0hHsA4T+/nGHODZTiP70VsOsUFOQ/m0Vf4fx+5T8=\",\"dtype\":\"float64\",\"shape\":[100]}},\"selected\":{\"id\":\"1063\",\"type\":\"Selection\"},\"selection_policy\":{\"id\":\"1062\",\"type\":\"UnionRenderers\"}},\"id\":\"1048\",\"type\":\"ColumnDataSource\"},{\"attributes\":{\"dimension\":1,\"plot\":{\"id\":\"1003\",\"subtype\":\"Figure\",\"type\":\"Plot\"},\"ticker\":{\"id\":\"1019\",\"type\":\"BasicTicker\"}},\"id\":\"1022\",\"type\":\"Grid\"},{\"attributes\":{\"fill_alpha\":0.3,\"fill_color\":\"#1f77b4\",\"x\":{\"field\":\"x\"},\"y\":{\"field\":\"y\"}},\"id\":\"1049\",\"type\":\"Patch\"},{\"attributes\":{\"callback\":null,\"end\":5.0,\"start\":-5.0},\"id\":\"1005\",\"type\":\"Range1d\"},{\"attributes\":{\"fill_alpha\":0.1,\"fill_color\":\"#1f77b4\",\"line_alpha\":0.1,\"line_color\":\"#1f77b4\",\"x\":{\"field\":\"x\"},\"y\":{\"field\":\"y\"}},\"id\":\"1050\",\"type\":\"Patch\"},{\"attributes\":{\"fill_color\":{\"value\":\"#1f77b4\"},\"line_color\":{\"value\":\"#1f77b4\"},\"x\":{\"field\":\"x\"},\"y\":{\"field\":\"y\"}},\"id\":\"1039\",\"type\":\"Circle\"},{\"attributes\":{\"data_source\":{\"id\":\"1048\",\"type\":\"ColumnDataSource\"},\"glyph\":{\"id\":\"1049\",\"type\":\"Patch\"},\"hover_glyph\":null,\"muted_glyph\":null,\"nonselection_glyph\":{\"id\":\"1050\",\"type\":\"Patch\"},\"selection_glyph\":null,\"view\":{\"id\":\"1052\",\"type\":\"CDSView\"}},\"id\":\"1051\",\"type\":\"GlyphRenderer\"},{\"attributes\":{},\"id\":\"1023\",\"type\":\"PanTool\"},{\"attributes\":{\"source\":{\"id\":\"1048\",\"type\":\"ColumnDataSource\"}},\"id\":\"1052\",\"type\":\"CDSView\"},{\"attributes\":{},\"id\":\"1024\",\"type\":\"WheelZoomTool\"},{\"attributes\":{},\"id\":\"1055\",\"type\":\"BasicTickFormatter\"}],\"root_ids\":[\"1003\"]},\"title\":\"Bokeh Application\",\"version\":\"1.0.0\"}};\n",
       "  var render_items = [{\"docid\":\"bf8efaa7-39f6-4ed0-b6f2-c27dd489e737\",\"roots\":{\"1003\":\"f38f7c50-2c31-4474-8c89-24621597aee1\"}}];\n",
       "  root.Bokeh.embed.embed_items_notebook(docs_json, render_items);\n",
       "\n",
       "  }\n",
       "  if (root.Bokeh !== undefined) {\n",
       "    embed_document(root);\n",
       "  } else {\n",
       "    var attempts = 0;\n",
       "    var timer = setInterval(function(root) {\n",
       "      if (root.Bokeh !== undefined) {\n",
       "        embed_document(root);\n",
       "        clearInterval(timer);\n",
       "      }\n",
       "      attempts++;\n",
       "      if (attempts > 100) {\n",
       "        console.log(\"Bokeh: ERROR: Unable to run BokehJS code because BokehJS library is missing\");\n",
       "        clearInterval(timer);\n",
       "      }\n",
       "    }, 10, root)\n",
       "  }\n",
       "})(window);"
      ],
      "application/vnd.bokehjs_exec.v0+json": ""
     },
     "metadata": {
      "application/vnd.bokehjs_exec.v0+json": {
       "id": "1003"
      }
     },
     "output_type": "display_data"
    }
   ],
   "source": [
    "mean = np.zeros(2) \n",
    "cov = np.array([\n",
    "    [2, .95],\n",
    "    [.95, .9]\n",
    "])\n",
    "data = np.random.multivariate_normal(mean, cov, size=100)\n",
    "\n",
    "fig = figure(\n",
    "    title='Data',\n",
    "    width=400,\n",
    "    height=400,\n",
    "    x_range=(mean[0] - 5, mean[0] + 5),\n",
    "    y_range=(mean[1] - 5, mean[1] + 5)\n",
    ")\n",
    "fig.circle(data[:, 0], data[:, 1])\n",
    "plotting.plot_normal(fig, mean, cov, line_color='black', fill_alpha=.3)\n",
    "\n",
    "show(fig)"
   ]
  },
  {
   "cell_type": "markdown",
   "metadata": {},
   "source": [
    "## Model Creation\n",
    "\n",
    "We create two types of Normal distribution: one diagonal covariance matrix and another one with full covariance matrix."
   ]
  },
  {
   "cell_type": "code",
   "execution_count": 3,
   "metadata": {},
   "outputs": [
    {
     "data": {
      "text/plain": [
       "Normal(\n",
       "  (mean_precision): ConjugateBayesianParameter(prior=NormalGamma, posterior=NormalGamma)\n",
       ")"
      ]
     },
     "execution_count": 3,
     "metadata": {},
     "output_type": "execute_result"
    }
   ],
   "source": [
    "data_mean = torch.zeros(2) \n",
    "data_var = torch.ones(2)\n",
    "\n",
    "normal_iso = beer.Normal.create(data_mean, data_var, 1., cov_type='isotropic')\n",
    "normal_diag = beer.Normal.create(data_mean, data_var, 1., cov_type='diagonal')\n",
    "normal_full = beer.Normal.create(data_mean, data_var, 1., cov_type='full')\n",
    "\n",
    "models = {\n",
    "    'normal_full': normal_full,\n",
    "    'normal_diag': normal_diag,\n",
    "    'normal_iso': normal_iso\n",
    "}\n",
    "models['normal_diag']"
   ]
  },
  {
   "cell_type": "code",
   "execution_count": 4,
   "metadata": {},
   "outputs": [
    {
     "data": {
      "text/plain": [
       "NormalGamma(\n",
       "  (params): NormalGammaStdParams(mean=tensor([0., 0.]), scale=tensor(1.), shape=tensor(1.), rates=tensor([1., 1.]))\n",
       ")"
      ]
     },
     "execution_count": 4,
     "metadata": {},
     "output_type": "execute_result"
    }
   ],
   "source": [
    "model = models['normal_diag']\n",
    "model.mean_precision.prior"
   ]
  },
  {
   "cell_type": "code",
   "execution_count": 5,
   "metadata": {},
   "outputs": [
    {
     "data": {
      "text/plain": [
       "torch.Size([2])"
      ]
     },
     "execution_count": 5,
     "metadata": {},
     "output_type": "execute_result"
    }
   ],
   "source": [
    "model.mean_precision.posterior.params.mean.shape"
   ]
  },
  {
   "cell_type": "markdown",
   "metadata": {},
   "source": [
    "## Variational Bayes Training "
   ]
  },
  {
   "cell_type": "code",
   "execution_count": 6,
   "metadata": {},
   "outputs": [
    {
     "data": {
      "text/plain": [
       "torch.Size([1, 100, 2])"
      ]
     },
     "execution_count": 6,
     "metadata": {},
     "output_type": "execute_result"
    }
   ],
   "source": [
    "nbatches = 1\n",
    "X = torch.from_numpy(data).float()\n",
    "batches = X.view(nbatches, -1, 2)\n",
    "batches.shape"
   ]
  },
  {
   "cell_type": "code",
   "execution_count": 7,
   "metadata": {
    "scrolled": false
   },
   "outputs": [],
   "source": [
    "epochs = 10\n",
    "lrate = 1.\n",
    "\n",
    "\n",
    "optims = {\n",
    "    model_name: beer.VariationalBayesOptimizer(\n",
    "        model.mean_field_factorization(), lrate)\n",
    "    for model_name, model in models.items()\n",
    "}\n",
    "\n",
    "elbos = {\n",
    "    model_name: [] \n",
    "    for model_name in models\n",
    "}  \n",
    "\n",
    "\n",
    "for epoch in range(epochs):\n",
    "    for name, model in models.items():\n",
    "        batch_ids = list(range(len(batches)))\n",
    "        random.shuffle(batch_ids)\n",
    "        for batch_id in batch_ids:\n",
    "            batch = batches[batch_id]\n",
    "            \n",
    "            optim = optims[name]\n",
    "\n",
    "            optim.init_step()\n",
    "            elbo = beer.evidence_lower_bound(model, batch, datasize=len(X))\n",
    "            elbo.backward()\n",
    "            optim.step()\n",
    "            \n",
    "            elbo = beer.evidence_lower_bound(model, X)\n",
    "            elbos[name].append(float(elbo) / len(X))  "
   ]
  },
  {
   "cell_type": "code",
   "execution_count": 8,
   "metadata": {
    "scrolled": false
   },
   "outputs": [
    {
     "data": {
      "text/html": [
       "\n",
       "\n",
       "\n",
       "\n",
       "\n",
       "\n",
       "  <div class=\"bk-root\" id=\"36d7167f-99aa-41fa-afd5-6f18d40b6c33\"></div>\n"
      ]
     },
     "metadata": {},
     "output_type": "display_data"
    },
    {
     "data": {
      "application/javascript": [
       "(function(root) {\n",
       "  function embed_document(root) {\n",
       "    \n",
       "  var docs_json = {\"0215d755-f9f0-4574-bb0c-242723e19fef\":{\"roots\":{\"references\":[{\"attributes\":{\"below\":[{\"id\":\"1148\",\"type\":\"LinearAxis\"}],\"left\":[{\"id\":\"1153\",\"type\":\"LinearAxis\"}],\"plot_height\":400,\"plot_width\":400,\"renderers\":[{\"id\":\"1148\",\"type\":\"LinearAxis\"},{\"id\":\"1152\",\"type\":\"Grid\"},{\"id\":\"1153\",\"type\":\"LinearAxis\"},{\"id\":\"1157\",\"type\":\"Grid\"},{\"id\":\"1166\",\"type\":\"BoxAnnotation\"},{\"id\":\"1184\",\"type\":\"Legend\"},{\"id\":\"1176\",\"type\":\"GlyphRenderer\"},{\"id\":\"1189\",\"type\":\"GlyphRenderer\"},{\"id\":\"1203\",\"type\":\"GlyphRenderer\"}],\"title\":{\"id\":\"1137\",\"type\":\"Title\"},\"toolbar\":{\"id\":\"1164\",\"type\":\"Toolbar\"},\"x_range\":{\"id\":\"1140\",\"type\":\"DataRange1d\"},\"x_scale\":{\"id\":\"1144\",\"type\":\"LinearScale\"},\"y_range\":{\"id\":\"1142\",\"type\":\"DataRange1d\"},\"y_scale\":{\"id\":\"1146\",\"type\":\"LinearScale\"}},\"id\":\"1138\",\"subtype\":\"Figure\",\"type\":\"Plot\"},{\"attributes\":{\"line_color\":\"blue\",\"x\":{\"field\":\"x\"},\"y\":{\"field\":\"y\"}},\"id\":\"1187\",\"type\":\"Line\"},{\"attributes\":{\"data_source\":{\"id\":\"1186\",\"type\":\"ColumnDataSource\"},\"glyph\":{\"id\":\"1187\",\"type\":\"Line\"},\"hover_glyph\":null,\"muted_glyph\":null,\"nonselection_glyph\":{\"id\":\"1188\",\"type\":\"Line\"},\"selection_glyph\":null,\"view\":{\"id\":\"1190\",\"type\":\"CDSView\"}},\"id\":\"1189\",\"type\":\"GlyphRenderer\"},{\"attributes\":{},\"id\":\"1149\",\"type\":\"BasicTicker\"},{\"attributes\":{\"callback\":null,\"data\":{\"x\":[0,1,2,3,4,5,6,7,8,9],\"y\":[-2.67343505859375,-2.67343505859375,-2.67343505859375,-2.67343505859375,-2.67343505859375,-2.67343505859375,-2.67343505859375,-2.67343505859375,-2.67343505859375,-2.67343505859375]},\"selected\":{\"id\":\"1197\",\"type\":\"Selection\"},\"selection_policy\":{\"id\":\"1196\",\"type\":\"UnionRenderers\"}},\"id\":\"1173\",\"type\":\"ColumnDataSource\"},{\"attributes\":{\"source\":{\"id\":\"1186\",\"type\":\"ColumnDataSource\"}},\"id\":\"1190\",\"type\":\"CDSView\"},{\"attributes\":{\"callback\":null},\"id\":\"1142\",\"type\":\"DataRange1d\"},{\"attributes\":{},\"id\":\"1146\",\"type\":\"LinearScale\"},{\"attributes\":{},\"id\":\"1180\",\"type\":\"BasicTickFormatter\"},{\"attributes\":{},\"id\":\"1144\",\"type\":\"LinearScale\"},{\"attributes\":{\"line_alpha\":0.1,\"line_color\":\"#1f77b4\",\"x\":{\"field\":\"x\"},\"y\":{\"field\":\"y\"}},\"id\":\"1188\",\"type\":\"Line\"},{\"attributes\":{},\"id\":\"1159\",\"type\":\"WheelZoomTool\"},{\"attributes\":{},\"id\":\"1197\",\"type\":\"Selection\"},{\"attributes\":{\"source\":{\"id\":\"1200\",\"type\":\"ColumnDataSource\"}},\"id\":\"1204\",\"type\":\"CDSView\"},{\"attributes\":{},\"id\":\"1182\",\"type\":\"BasicTickFormatter\"},{\"attributes\":{},\"id\":\"1163\",\"type\":\"HelpTool\"},{\"attributes\":{\"line_alpha\":0.1,\"line_color\":\"#1f77b4\",\"x\":{\"field\":\"x\"},\"y\":{\"field\":\"y\"}},\"id\":\"1175\",\"type\":\"Line\"},{\"attributes\":{\"overlay\":{\"id\":\"1166\",\"type\":\"BoxAnnotation\"}},\"id\":\"1160\",\"type\":\"BoxZoomTool\"},{\"attributes\":{\"callback\":null,\"data\":{\"x\":[0,1,2,3,4,5,6,7,8,9],\"y\":[-3.1236932373046873,-3.1236932373046873,-3.1236932373046873,-3.1236932373046873,-3.1236932373046873,-3.1236932373046873,-3.1236932373046873,-3.1236932373046873,-3.1236932373046873,-3.1236932373046873]},\"selected\":{\"id\":\"1213\",\"type\":\"Selection\"},\"selection_policy\":{\"id\":\"1212\",\"type\":\"UnionRenderers\"}},\"id\":\"1186\",\"type\":\"ColumnDataSource\"},{\"attributes\":{},\"id\":\"1196\",\"type\":\"UnionRenderers\"},{\"attributes\":{\"data_source\":{\"id\":\"1200\",\"type\":\"ColumnDataSource\"},\"glyph\":{\"id\":\"1201\",\"type\":\"Line\"},\"hover_glyph\":null,\"muted_glyph\":null,\"nonselection_glyph\":{\"id\":\"1202\",\"type\":\"Line\"},\"selection_glyph\":null,\"view\":{\"id\":\"1204\",\"type\":\"CDSView\"}},\"id\":\"1203\",\"type\":\"GlyphRenderer\"},{\"attributes\":{\"label\":{\"value\":\"normal_diag\"},\"renderers\":[{\"id\":\"1189\",\"type\":\"GlyphRenderer\"}]},\"id\":\"1199\",\"type\":\"LegendItem\"},{\"attributes\":{\"label\":{\"value\":\"normal_full\"},\"renderers\":[{\"id\":\"1176\",\"type\":\"GlyphRenderer\"}]},\"id\":\"1185\",\"type\":\"LegendItem\"},{\"attributes\":{\"plot\":{\"id\":\"1138\",\"subtype\":\"Figure\",\"type\":\"Plot\"},\"ticker\":{\"id\":\"1149\",\"type\":\"BasicTicker\"}},\"id\":\"1152\",\"type\":\"Grid\"},{\"attributes\":{\"axis_label\":\"step\",\"formatter\":{\"id\":\"1180\",\"type\":\"BasicTickFormatter\"},\"plot\":{\"id\":\"1138\",\"subtype\":\"Figure\",\"type\":\"Plot\"},\"ticker\":{\"id\":\"1149\",\"type\":\"BasicTicker\"}},\"id\":\"1148\",\"type\":\"LinearAxis\"},{\"attributes\":{\"dimension\":1,\"plot\":{\"id\":\"1138\",\"subtype\":\"Figure\",\"type\":\"Plot\"},\"ticker\":{\"id\":\"1154\",\"type\":\"BasicTicker\"}},\"id\":\"1157\",\"type\":\"Grid\"},{\"attributes\":{\"items\":[{\"id\":\"1185\",\"type\":\"LegendItem\"},{\"id\":\"1199\",\"type\":\"LegendItem\"},{\"id\":\"1215\",\"type\":\"LegendItem\"}],\"location\":\"bottom_right\",\"plot\":{\"id\":\"1138\",\"subtype\":\"Figure\",\"type\":\"Plot\"}},\"id\":\"1184\",\"type\":\"Legend\"},{\"attributes\":{},\"id\":\"1212\",\"type\":\"UnionRenderers\"},{\"attributes\":{},\"id\":\"1213\",\"type\":\"Selection\"},{\"attributes\":{},\"id\":\"1161\",\"type\":\"SaveTool\"},{\"attributes\":{\"label\":{\"value\":\"normal_iso\"},\"renderers\":[{\"id\":\"1203\",\"type\":\"GlyphRenderer\"}]},\"id\":\"1215\",\"type\":\"LegendItem\"},{\"attributes\":{},\"id\":\"1154\",\"type\":\"BasicTicker\"},{\"attributes\":{\"callback\":null,\"data\":{\"x\":[0,1,2,3,4,5,6,7,8,9],\"y\":[-3.1635955810546874,-3.1635955810546874,-3.1635955810546874,-3.1635955810546874,-3.1635955810546874,-3.1635955810546874,-3.1635955810546874,-3.1635955810546874,-3.1635955810546874,-3.1635955810546874]},\"selected\":{\"id\":\"1238\",\"type\":\"Selection\"},\"selection_policy\":{\"id\":\"1237\",\"type\":\"UnionRenderers\"}},\"id\":\"1200\",\"type\":\"ColumnDataSource\"},{\"attributes\":{\"line_color\":\"green\",\"x\":{\"field\":\"x\"},\"y\":{\"field\":\"y\"}},\"id\":\"1201\",\"type\":\"Line\"},{\"attributes\":{\"line_alpha\":0.1,\"line_color\":\"#1f77b4\",\"x\":{\"field\":\"x\"},\"y\":{\"field\":\"y\"}},\"id\":\"1202\",\"type\":\"Line\"},{\"attributes\":{},\"id\":\"1237\",\"type\":\"UnionRenderers\"},{\"attributes\":{\"data_source\":{\"id\":\"1173\",\"type\":\"ColumnDataSource\"},\"glyph\":{\"id\":\"1174\",\"type\":\"Line\"},\"hover_glyph\":null,\"muted_glyph\":null,\"nonselection_glyph\":{\"id\":\"1175\",\"type\":\"Line\"},\"selection_glyph\":null,\"view\":{\"id\":\"1177\",\"type\":\"CDSView\"}},\"id\":\"1176\",\"type\":\"GlyphRenderer\"},{\"attributes\":{\"active_drag\":\"auto\",\"active_inspect\":\"auto\",\"active_multi\":null,\"active_scroll\":\"auto\",\"active_tap\":\"auto\",\"tools\":[{\"id\":\"1158\",\"type\":\"PanTool\"},{\"id\":\"1159\",\"type\":\"WheelZoomTool\"},{\"id\":\"1160\",\"type\":\"BoxZoomTool\"},{\"id\":\"1161\",\"type\":\"SaveTool\"},{\"id\":\"1162\",\"type\":\"ResetTool\"},{\"id\":\"1163\",\"type\":\"HelpTool\"}]},\"id\":\"1164\",\"type\":\"Toolbar\"},{\"attributes\":{},\"id\":\"1238\",\"type\":\"Selection\"},{\"attributes\":{},\"id\":\"1162\",\"type\":\"ResetTool\"},{\"attributes\":{\"callback\":null},\"id\":\"1140\",\"type\":\"DataRange1d\"},{\"attributes\":{\"source\":{\"id\":\"1173\",\"type\":\"ColumnDataSource\"}},\"id\":\"1177\",\"type\":\"CDSView\"},{\"attributes\":{\"axis_label\":\"ln p(X)\",\"formatter\":{\"id\":\"1182\",\"type\":\"BasicTickFormatter\"},\"plot\":{\"id\":\"1138\",\"subtype\":\"Figure\",\"type\":\"Plot\"},\"ticker\":{\"id\":\"1154\",\"type\":\"BasicTicker\"}},\"id\":\"1153\",\"type\":\"LinearAxis\"},{\"attributes\":{\"plot\":null,\"text\":\"ELBO\"},\"id\":\"1137\",\"type\":\"Title\"},{\"attributes\":{\"line_color\":\"red\",\"x\":{\"field\":\"x\"},\"y\":{\"field\":\"y\"}},\"id\":\"1174\",\"type\":\"Line\"},{\"attributes\":{},\"id\":\"1158\",\"type\":\"PanTool\"},{\"attributes\":{\"bottom_units\":\"screen\",\"fill_alpha\":{\"value\":0.5},\"fill_color\":{\"value\":\"lightgrey\"},\"left_units\":\"screen\",\"level\":\"overlay\",\"line_alpha\":{\"value\":1.0},\"line_color\":{\"value\":\"black\"},\"line_dash\":[4,4],\"line_width\":{\"value\":2},\"plot\":null,\"render_mode\":\"css\",\"right_units\":\"screen\",\"top_units\":\"screen\"},\"id\":\"1166\",\"type\":\"BoxAnnotation\"}],\"root_ids\":[\"1138\"]},\"title\":\"Bokeh Application\",\"version\":\"1.0.0\"}};\n",
       "  var render_items = [{\"docid\":\"0215d755-f9f0-4574-bb0c-242723e19fef\",\"roots\":{\"1138\":\"36d7167f-99aa-41fa-afd5-6f18d40b6c33\"}}];\n",
       "  root.Bokeh.embed.embed_items_notebook(docs_json, render_items);\n",
       "\n",
       "  }\n",
       "  if (root.Bokeh !== undefined) {\n",
       "    embed_document(root);\n",
       "  } else {\n",
       "    var attempts = 0;\n",
       "    var timer = setInterval(function(root) {\n",
       "      if (root.Bokeh !== undefined) {\n",
       "        embed_document(root);\n",
       "        clearInterval(timer);\n",
       "      }\n",
       "      attempts++;\n",
       "      if (attempts > 100) {\n",
       "        console.log(\"Bokeh: ERROR: Unable to run BokehJS code because BokehJS library is missing\");\n",
       "        clearInterval(timer);\n",
       "      }\n",
       "    }, 10, root)\n",
       "  }\n",
       "})(window);"
      ],
      "application/vnd.bokehjs_exec.v0+json": ""
     },
     "metadata": {
      "application/vnd.bokehjs_exec.v0+json": {
       "id": "1138"
      }
     },
     "output_type": "display_data"
    }
   ],
   "source": [
    "colors = {\n",
    "    'normal_iso': 'green',\n",
    "    'normal_diag': 'blue',\n",
    "    'normal_full': 'red',\n",
    "    \n",
    "}\n",
    "# Plot the ELBO.\n",
    "fig = figure(title='ELBO', width=400, height=400, x_axis_label='step',\n",
    "              y_axis_label='ln p(X)')\n",
    "for model_name, elbo in elbos.items():\n",
    "    fig.line(range(len(elbo)), elbo, legend=model_name, color=colors[model_name])\n",
    "fig.legend.location = 'bottom_right'\n",
    "\n",
    "show(fig)"
   ]
  },
  {
   "cell_type": "code",
   "execution_count": 9,
   "metadata": {
    "scrolled": false
   },
   "outputs": [
    {
     "data": {
      "text/html": [
       "\n",
       "\n",
       "\n",
       "\n",
       "\n",
       "\n",
       "  <div class=\"bk-root\" id=\"28b6d1c6-7c01-48f4-84b3-1a698d6547e9\"></div>\n"
      ]
     },
     "metadata": {},
     "output_type": "display_data"
    },
    {
     "data": {
      "application/javascript": [
       "(function(root) {\n",
       "  function embed_document(root) {\n",
       "    \n",
       "  var docs_json = {\"186cc78b-d58d-48ea-807d-e639f23496a3\":{\"roots\":{\"references\":[{\"attributes\":{\"below\":[{\"id\":\"1321\",\"type\":\"LinearAxis\"}],\"left\":[{\"id\":\"1326\",\"type\":\"LinearAxis\"}],\"plot_height\":400,\"plot_width\":400,\"renderers\":[{\"id\":\"1321\",\"type\":\"LinearAxis\"},{\"id\":\"1325\",\"type\":\"Grid\"},{\"id\":\"1326\",\"type\":\"LinearAxis\"},{\"id\":\"1330\",\"type\":\"Grid\"},{\"id\":\"1339\",\"type\":\"BoxAnnotation\"},{\"id\":\"1349\",\"type\":\"GlyphRenderer\"},{\"id\":\"1354\",\"type\":\"GlyphRenderer\"},{\"id\":\"1359\",\"type\":\"GlyphRenderer\"},{\"id\":\"1364\",\"type\":\"GlyphRenderer\"},{\"id\":\"1369\",\"type\":\"GlyphRenderer\"},{\"id\":\"1374\",\"type\":\"GlyphRenderer\"},{\"id\":\"1379\",\"type\":\"GlyphRenderer\"}],\"title\":{\"id\":\"1406\",\"type\":\"Title\"},\"toolbar\":{\"id\":\"1337\",\"type\":\"Toolbar\"},\"x_range\":{\"id\":\"1313\",\"type\":\"Range1d\"},\"x_scale\":{\"id\":\"1317\",\"type\":\"LinearScale\"},\"y_range\":{\"id\":\"1315\",\"type\":\"Range1d\"},\"y_scale\":{\"id\":\"1319\",\"type\":\"LinearScale\"}},\"id\":\"1312\",\"subtype\":\"Figure\",\"type\":\"Plot\"},{\"attributes\":{\"data_source\":{\"id\":\"1346\",\"type\":\"ColumnDataSource\"},\"glyph\":{\"id\":\"1347\",\"type\":\"Circle\"},\"hover_glyph\":null,\"muted_glyph\":null,\"nonselection_glyph\":{\"id\":\"1348\",\"type\":\"Circle\"},\"selection_glyph\":null,\"view\":{\"id\":\"1350\",\"type\":\"CDSView\"}},\"id\":\"1349\",\"type\":\"GlyphRenderer\"},{\"attributes\":{},\"id\":\"1419\",\"type\":\"UnionRenderers\"},{\"attributes\":{\"callback\":null,\"data\":{\"x\":{\"__ndarray__\":\"AABAoeRY8j+g/+CAV0/yP1kr8Cu6MvI/zDdgvCoD8j8yCkA628DxP0YrGWcRbPE/DmKOdCYF8T/op4emhozwP+0pTuGwAvA/Vk0gSGzQ7j+UJ7LgcXvtP9kAPT7ZB+w/fxIrSCl36j+qrC6AB8voP1ba2UY2Bec/JiDXAZMn5T8Gu7UlFDTjP4mqWSXHLOE/Pht3kpwn3j8ulHvhvNbZP5wL5395a9U/DhWVeHjq0D87uWxq7bDIPwWyhQkM6b4/ahaVBsilqD9iLCptPzSZv+mxheE347i/LLlsVgOuxb8YKirdBtLOv5UL53UE6tO/J5R710dV2L83G3eIJ6bcv4aqWaAMbOC/Bbu1oFlz4r8kINd82Gbkv1Xa2cF7ROa/pqwu+0wK6L9+EivDbrbpv9cAPbkeR+u/kieyW7e67L9STSDDsQ/uv9hTnD2nRO+/56cHZCks8L8OYg4yyaTwv0YrmSS0C/G/MgrA931g8b/MN+B5zaLxv1grcOlc0vG/oP9gPvru8b8AAMBeh/jxvwAAwF6H+PG/oP9gPvru8b9YK3DpXNLxv8w34HnNovG/MgrA931g8b9GK5kktAvxvw5iDjLJpPC/56cHZCks8L/YU5w9p0Tvv1JNIMOxD+6/kieyW7e67L/XAD25Hkfrv34SK8Nutum/pqwu+0wK6L9V2tnBe0TmvyQg13zYZuS/Bbu1oFlz4r+GqlmgDGzgvzcbd4gnpty/J5R710dV2L+VC+d1BOrTvxgqKt0G0s6/LLlsVgOuxb/psYXhN+O4v2IsKm0/NJm/ahaVBsilqD8FsoUJDOm+Pzu5bGrtsMg/DhWVeHjq0D+cC+d/eWvVPy6Ue+G81tk/Pht3kpwn3j+JqlklxyzhPwa7tSUUNOM/JiDXAZMn5T9W2tlGNgXnP6qsLoAHy+g/fxIrSCl36j/ZAD0+2QfsP5QnsuBxe+0/Vk0gSGzQ7j/tKU7hsALwP+inh6aGjPA/DmKOdCYF8T9GKxlnEWzxPzIKQDrbwPE/zDdgvCoD8j9ZK/ArujLyP6D/4IBXT/I/AABAoeRY8j8=\",\"dtype\":\"float64\",\"shape\":[100]},\"y\":{\"__ndarray__\":\"AAAAQCHkwb+ya7/AwSqxv0BkJBie8nU/qAdd4//Bsz+QbHVvNPXCPwpPOXKl4ss/686aZPdP0j9U7ux175HWP/jVzVLAsto/Ii0pQRKu3j/fkUx82j/hP67lMgXSEeM/B76xjQXL5D86GJ/1pGnmP+N7ehL86+c/2iJBenRQ6T/c5PUul5XqPy4oGykOuus/IN5/v6W87D+mDOXqTZztP3huJ2QbWO4/siHAm0jv7j8cCJiJNmHvP3g5U1Rtre8/2opkz5zT7z/aimTPnNPvP3g5U1Rtre8/HAiYiTZh7z+yIcCbSO/uP3puJ2QbWO4/pgzl6k2c7T8g3n+/pbzsPzAoGykOuus/3eT1LpeV6j/cIkF6dFDpP+R7ehL86+c/PBif9aRp5j8IvrGNBcvkP7LlMgXSEeM/4ZFMfNo/4T8qLSlBEq7eP/7VzVLAsto/Vu7sde+R1j/zzppk90/SPxJPOXKl4ss/omx1bzT1wj++B13j/8GzP+BmJBie8nU/mGu/wMEqsb/7//8/IeTBvwUAAEAh5MG/NEqgn+Eyy7+ckWC46zvSv/BB1zih1Na/Uba6d7te27+Jpxz5c9Xfv3pnTVIMGuK/K3f2Wgg75L//6mbJcEvmv5WWlMAZSei/4ZFMHOsx6r+y5TKl4gPsvwi+sS0Wve2/PBiflbVb77/yPT1ZBm/wv26RII1CIfG/bvJ659PD8b8YlI1kD1byvxDvvy9b1/K/U4ZyRS9H8789txMCFqXzv9kQ4J2s8PO/DgTMlKMp9L+8nCn6vk/0v21FsrfWYvS/bUWyt9Zi9L+8nCn6vk/0vw4EzJSjKfS/2RDgnazw8788txMCFqXzv1OGckUvR/O/EO+/L1vX8r8XlI1kD1byv27yeufTw/G/bZEgjUIh8b/yPT1ZBm/wvzoYn5W1W++/B76xLRa97b+u5TKl4gPsv9+RTBzrMeq/kZaUwBlJ6L/86mbJcEvmvyp39loIO+S/dmdNUgwa4r+Fpxz5c9Xfv0i2une7Xtu/6kHXOKHU1r+RkWC46zvSvydKoJ/hMsu/AAAAQCHkwb8=\",\"dtype\":\"float64\",\"shape\":[100]}},\"selected\":{\"id\":\"1416\",\"type\":\"Selection\"},\"selection_policy\":{\"id\":\"1415\",\"type\":\"UnionRenderers\"}},\"id\":\"1356\",\"type\":\"ColumnDataSource\"},{\"attributes\":{},\"id\":\"1322\",\"type\":\"BasicTicker\"},{\"attributes\":{\"source\":{\"id\":\"1371\",\"type\":\"ColumnDataSource\"}},\"id\":\"1375\",\"type\":\"CDSView\"},{\"attributes\":{},\"id\":\"1420\",\"type\":\"Selection\"},{\"attributes\":{\"fill_color\":{\"value\":\"#1f77b4\"},\"line_color\":{\"value\":\"#1f77b4\"},\"x\":{\"field\":\"x\"},\"y\":{\"field\":\"y\"}},\"id\":\"1347\",\"type\":\"Circle\"},{\"attributes\":{\"fill_alpha\":0.3,\"fill_color\":\"green\",\"x\":{\"field\":\"x\"},\"y\":{\"field\":\"y\"}},\"id\":\"1357\",\"type\":\"Patch\"},{\"attributes\":{\"plot\":{\"id\":\"1312\",\"subtype\":\"Figure\",\"type\":\"Plot\"},\"ticker\":{\"id\":\"1322\",\"type\":\"BasicTicker\"}},\"id\":\"1325\",\"type\":\"Grid\"},{\"attributes\":{\"callback\":null,\"data\":{\"x\":{\"__ndarray__\":\"AABA4fgS9T+swwKU/Af1P1wTuDoT5/Q/m9h+dF+w9D9JPrzMGmT0Pwzekn6VAvQ/zWx8IDaM8z8rr144eQHzP3c8jbjwYvI/0NxBZkOx8T80BC0qLO3wP5r31kt5F/A/i+RAMRdi7j8WIo7uqnXsP3eRzNGza+o/Ek0C8VZG6D+a8WY01gfmPyhhdPaNsuM/qH0liPJI4T91SP83G5vdP9ZvPDX3hdg/QmYex9FX0z9GsJH1OyzMP7mLu9/GjME/R+9/OsRxqz8M3v/UN8yev1IXd5e5E72/NbCR4VEpyb8/Zh69XNbRv85vPCuCBNe/bUj/LaYZ3L+lfSUDOIjgvyRhdHHT8eK/mfFmrxtH5b8QTQJsnIXnv3WRzEz5qum/EiKOafC067+K5ECsXKHtvzLvrRI4bu+/MwSt586M8L/O3MEj5lDxv3Y8DXaTAvK/Kq/e9Ruh8r/MbPzd2CvzvwzeEjw4ovO/ST48ir0D9L+b2P4xAlD0v1wTOPi1hvS/rMOCUZ+n9L8AAMCem7L0vwAAwJ6bsvS/rMOCUZ+n9L9cEzj4tYb0v5vY/jECUPS/ST48ir0D9L8M3hI8OKLzv8xs/N3YK/O/Kq/e9Ruh8r92PA12kwLyv87cwSPmUPG/MwSt586M8L8y760SOG7vv4rkQKxcoe2/EiKOafC06791kcxM+arpvxBNAmychee/mfFmrxtH5b8kYXRx0/Hiv6V9JQM4iOC/bUj/LaYZ3L/ObzwrggTXvz9mHr1c1tG/NbCR4VEpyb9SF3eXuRO9vwze/9Q3zJ6/R+9/OsRxqz+5i7vfxozBP0awkfU7LMw/QmYex9FX0z/Wbzw194XYP3VI/zcbm90/qH0liPJI4T8oYXT2jbLjP5rxZjTWB+Y/Ek0C8VZG6D93kczRs2vqPxYiju6qdew/i+RAMRdi7j+a99ZLeRfwPzQELSos7fA/0NxBZkOx8T93PI248GLyPyuvXjh5AfM/zWx8IDaM8z8M3pJ+lQL0P0k+vMwaZPQ/m9h+dF+w9D9cE7g6E+f0P6zDApT8B/U/AABA4fgS9T8=\",\"dtype\":\"float64\",\"shape\":[100]},\"y\":{\"__ndarray__\":\"AAAA0Gi54j88D+Jmud/jP0t9J2Nt7OQ/ZOitGmre5T8QFfT9sLTmP7V346Ngbuc/VJbvtrUK6D/c0JHCC4noPypnSeDd6Og/er9pQ8cp6T9o2yOjg0vpP5NvW4LvTek/Ug38VAgx6T/MGKeC7PToP7y5t0bbmeg/emy+bTQg6D92LLrwd4jnP3c7eW5F0+Y/fCOvg1sB5j/DlnAClxPlP1Id6AnyCuQ/A+03/4Lo4j9Itp1oe63hPzR5DKwmW+A/FvgcZdHl3T86PbzjeOzaPyjLfrtkzdc/wDV7hd2L1D8AUhAYUCvRP4A1/9iTXss/tCxlxOo2xD+Yt2aOV865P2ALl4Uf3KU/MFDYyW6NkL9YIIP4EFazv6SM85gJTcG/jEMNp6nvyL8Psos7cEXQv71nttJWC9S/X22GgpDF178Ioa98MXDbv4J7EFteB9+/BggzF6hD4b+HfLw7LPbiv0iVSoNymeS/Odec3sEr5r+/UQYXc6vnv5apoYvyFum/r9nq2cFs6r////9veavrvwEAAHB5q+u/PQ/iBsrR7L9MfScDft7tv2Xorbp60O6/ERX0ncGm77/bu/GhODDwvyrLdytjfvC/buhIMY698L+UsyRAd+3wv73ftPHrDfG/tO2RIcoe8b/Kty0RACDxv6kGfnqMEfG/ZoxTkX7z8L/e3Fvz9cXwvzw234YiifC/OxZdSEQ98L92O3kOVsXvv3kjryNs8+6/wZZwoqcF7r9QHeipAv3svwLtN5+T2uu/RradCIyf6r8yeQxMN03pvwl8jlL55Oe/mx7eEU1o5r+SZb/9wtjkv96avWL/N+O//ygIrLiH4b+8mn8sa5Pfv1aWMqKW/9u/4a2ZI7dX2L9m4bIwpZ/Uv/t6YlNK29C/ym++Azodyr9YcwznOHvCv8x45bExsbW/AN9ERxDrmb8QPrOVrDmhP4y1GQq9hbc/IkJfeSAYwz8S9yA2ekbKPxEQZu4uo9A/FPl4NzcI1D+SKpXGw07XP3iuOX1ic9o/gKMM7sRy3T+ZqaHr4STgP7DZ6jmxeuE/AAAA0Gi54j8=\",\"dtype\":\"float64\",\"shape\":[100]}},\"selected\":{\"id\":\"1424\",\"type\":\"Selection\"},\"selection_policy\":{\"id\":\"1423\",\"type\":\"UnionRenderers\"}},\"id\":\"1376\",\"type\":\"ColumnDataSource\"},{\"attributes\":{},\"id\":\"1421\",\"type\":\"UnionRenderers\"},{\"attributes\":{\"fill_alpha\":0.1,\"fill_color\":\"#1f77b4\",\"line_alpha\":0.1,\"line_color\":\"#1f77b4\",\"x\":{\"field\":\"x\"},\"y\":{\"field\":\"y\"}},\"id\":\"1358\",\"type\":\"Patch\"},{\"attributes\":{\"formatter\":{\"id\":\"1410\",\"type\":\"BasicTickFormatter\"},\"plot\":{\"id\":\"1312\",\"subtype\":\"Figure\",\"type\":\"Plot\"},\"ticker\":{\"id\":\"1327\",\"type\":\"BasicTicker\"}},\"id\":\"1326\",\"type\":\"LinearAxis\"},{\"attributes\":{\"fill_alpha\":0.3,\"fill_color\":\"#C7B097\",\"x\":{\"field\":\"x\"},\"y\":{\"field\":\"y\"}},\"id\":\"1377\",\"type\":\"Patch\"},{\"attributes\":{},\"id\":\"1422\",\"type\":\"Selection\"},{\"attributes\":{\"data_source\":{\"id\":\"1356\",\"type\":\"ColumnDataSource\"},\"glyph\":{\"id\":\"1357\",\"type\":\"Patch\"},\"hover_glyph\":null,\"muted_glyph\":null,\"nonselection_glyph\":{\"id\":\"1358\",\"type\":\"Patch\"},\"selection_glyph\":null,\"view\":{\"id\":\"1360\",\"type\":\"CDSView\"}},\"id\":\"1359\",\"type\":\"GlyphRenderer\"},{\"attributes\":{\"callback\":null,\"data\":{\"x\":{\"__ndarray__\":\"AABAAfkS9T/Z7vGz/Af1P8bRdFoT5/Q/W8fnk1+w9D+lUrDrGmT0PzWI8ZyVAvQ/IrolPjaM8z/VazNVeQHzPzoUb9TwYvI/9XoTgUOx8T9iMtJDLO3wP4S7NGR5F/A/GVQ6Xxdi7j9mHJUZq3XsPzzTs/mza+o/RNyfFVdG6D+gSZRV1gfmP1ybDhSOsuM/DnYNovJI4T+ENDRkG5vdPznWp1n3hdg/JfeZ49FX0z8vOm0ePCzMP8WCUPjGjME/PRBSW8Rxqz/4H6QWOMyev2oFoci5E72/HjptClIpyb8i95nZXNbRvzHWp0+CBNe/fDQ0WqYZ3L8Kdg0dOIjgv1ibDo/T8eK/n0mU0BtH5b9C3J+QnIXnvzrTs3T5qum/YhyVlPC0678YVDraXKHtvwd3aUM4bu+/YTJSAc+M8L/zepM+5lDxvzkU75GTAvK/1GuzEhyh8r8huqX72CvzvzWIcVo4ovO/pFIwqb0D9L9bx2dRAlD0v8XR9Be2hvS/2e5xcZ+n9L8AAMC+m7L0vwAAwL6bsvS/2e5xcZ+n9L/F0fQXtob0v1vHZ1ECUPS/pFIwqb0D9L81iHFaOKLzvyG6pfvYK/O/1GuzEhyh8r85FO+RkwLyv/N6kz7mUPG/YTJSAc+M8L8Hd2lDOG7vvxhUOtpcoe2/YhyVlPC0678607N0+arpv0Lcn5Cchee/n0mU0BtH5b9Ymw6P0/Hivwp2DR04iOC/fDQ0WqYZ3L8x1qdPggTXvyL3mdlc1tG/HjptClIpyb9qBaHIuRO9v/gfpBY4zJ6/PRBSW8Rxqz/FglD4xozBPy86bR48LMw/JfeZ49FX0z851qdZ94XYP4Q0NGQbm90/DnYNovJI4T9cmw4UjrLjP6BJlFXWB+Y/RNyfFVdG6D8807P5s2vqP2YclRmrdew/GVQ6Xxdi7j+EuzRkeRfwP2Iy0kMs7fA/9XoTgUOx8T86FG/U8GLyP9VrM1V5AfM/IrolPjaM8z81iPGclQL0P6VSsOsaZPQ/W8fnk1+w9D/G0XRaE+f0P9nu8bP8B/U/AABAAfkS9T8=\",\"dtype\":\"float64\",\"shape\":[100]},\"y\":{\"__ndarray__\":\"AAAAQCHkwb94bFn4lIO0v+jGvNXcO5W/FGHX0i+Loz8cxfA9O6q4P+DahwWkp8M/kA8IPKvSyj9qUlVxVOfQP7TcbQoiStQ/9JHwkS6O1z9kbaWKCrDaP2A0qW5qrN0/TLpjExVA4D+pqCwsKJThP7ymF8MI0eI/ssWdgGn14z9NXvLSFgDlP+z+jzH47+U/HnNURBHE5j9Oc/XsgnvnP+q8tjGMFeg/7apqCIuR6D/uwecA/e7oP9feP85/Lek/368ortFM6T/fryiu0UzpP9feP85/Lek/7sHnAP3u6D/tqmoIi5HoP+u8tjGMFeg/T3P17IJ75z8fc1REEcTmP+3+jzH47+U/TV7y0hYA5T+0xZ2AafXjP72mF8MI0eI/q6gsLCiU4T9NumMTFUDgP2Y0qW5qrN0/aG2ligqw2j/6kfCRLo7XP7ncbQoiStQ/a1JVcVTn0D+cDwg8q9LKP+jahwWkp8M/OsXwPTuquD84YdfSL4ujP2TGvNXcO5W/Y2xZ+JSDtL/8//8/IeTBvwQAAEAh5MG/zknTA3iGyb+aM6RyY5DQvyfsWjqHVdS/TjF8D7AO2L907cNC87fbv84HBN52Td+/Nqmq2Lpl4b9c7jalIRfjv/1I+OgnueS/tLZS5RVK5r8zmlTXRcjnv026Y7MlMum/q6gszDiG6r+9phdjGcPrv7TFnSB65+y/TV7ycify7b/t/o/RCOLuvx9zVOQhtu+/qLl6xsk28L92XttozoPwv3ZVNdTNwfC/9+Bz0Ibw8L9s7x83yA/xv/BXFCdxH/G/8FcUJ3Ef8b9s7x83yA/xv/fgc9CG8PC/dlU11M3B8L91XttozoPwv6e5esbJNvC/HnNU5CG277/s/o/RCOLuv01e8nIn8u2/ssWdIHrn7L+8phdjGcPrv6moLMw4huq/TLpjsyUy6b8wmlTXRcjnv7K2UuUVSua/+kj46Ce55L9a7jalIRfjvzWpqti6ZeG/yAcE3nZN379w7cNC87fbv0cxfA+wDti/IuxaOodV1L+SM6RyY5DQv8RJ0wN4hsm/AAAAQCHkwb8=\",\"dtype\":\"float64\",\"shape\":[100]}},\"selected\":{\"id\":\"1420\",\"type\":\"Selection\"},\"selection_policy\":{\"id\":\"1419\",\"type\":\"UnionRenderers\"}},\"id\":\"1366\",\"type\":\"ColumnDataSource\"},{\"attributes\":{},\"id\":\"1327\",\"type\":\"BasicTicker\"},{\"attributes\":{\"fill_alpha\":0.1,\"fill_color\":\"#1f77b4\",\"line_alpha\":0.1,\"line_color\":\"#1f77b4\",\"x\":{\"field\":\"x\"},\"y\":{\"field\":\"y\"}},\"id\":\"1378\",\"type\":\"Patch\"},{\"attributes\":{},\"id\":\"1423\",\"type\":\"UnionRenderers\"},{\"attributes\":{\"source\":{\"id\":\"1356\",\"type\":\"ColumnDataSource\"}},\"id\":\"1360\",\"type\":\"CDSView\"},{\"attributes\":{\"dimension\":1,\"plot\":{\"id\":\"1312\",\"subtype\":\"Figure\",\"type\":\"Plot\"},\"ticker\":{\"id\":\"1327\",\"type\":\"BasicTicker\"}},\"id\":\"1330\",\"type\":\"Grid\"},{\"attributes\":{\"data_source\":{\"id\":\"1376\",\"type\":\"ColumnDataSource\"},\"glyph\":{\"id\":\"1377\",\"type\":\"Patch\"},\"hover_glyph\":null,\"muted_glyph\":null,\"nonselection_glyph\":{\"id\":\"1378\",\"type\":\"Patch\"},\"selection_glyph\":null,\"view\":{\"id\":\"1380\",\"type\":\"CDSView\"}},\"id\":\"1379\",\"type\":\"GlyphRenderer\"},{\"attributes\":{},\"id\":\"1424\",\"type\":\"Selection\"},{\"attributes\":{\"fill_alpha\":0.3,\"fill_color\":\"#98AFC7\",\"x\":{\"field\":\"x\"},\"y\":{\"field\":\"y\"}},\"id\":\"1362\",\"type\":\"Patch\"},{\"attributes\":{\"source\":{\"id\":\"1376\",\"type\":\"ColumnDataSource\"}},\"id\":\"1380\",\"type\":\"CDSView\"},{\"attributes\":{\"callback\":null,\"data\":{\"x\":{\"__ndarray__\":\"AACgkOH6BECsw2JD5e8EQFwTGOr7zgRAm9jeI0iYBEBJPhx8A0wEQAze8i1+6gNAzWzczx50A0Arr77nYekCQHc87WfZSgJA0NyhFSyZAUA0BI3ZFNUAQDXvbfbD/v8/i+QAkOgx/j8WIk5NfEX8P3eRjDCFO/o/Ek3CTygW+D+a8SaTp9f1PyhhNFVfgvM/qH3l5sMY8T91SH/1vTrtP9ZvvPKZJeg/QmaehHT34j9GsJFwgWvbP7mLu1oMzNA/R+9/JtpuuD8G73/+BWmyv1IXd6Eulc6/NbCRZgzq2b8/Zp7/uTbiv85vvG3fZOe/bUh/cAN67L+lfWWkZrjwvyRhtBICIvO/mfGmUEp39b8QTUINy7X3v3WRDO4n2/m/EiLOCh/l+7+K5IBNi9H9vzLv7bNmnv+/MwRNOOakAMDO3GF0/WgBwHY8rcaqGgLAKq9+RjO5AsDMbJwu8EMDwAzesoxPugPAST7c2tQbBMCb2J6CGWgEwFwT2EjNngTArMMiora/BMAAAGDvssoEwAAAYO+yygTArMMiora/BMBcE9hIzZ4EwJvYnoIZaATAST7c2tQbBMAM3rKMT7oDwMxsnC7wQwPAKq9+RjO5AsB2PK3GqhoCwM7cYXT9aAHAMwRNOOakAMAy7+2zZp7/v4rkgE2L0f2/EiLOCh/l+791kQzuJ9v5vxBNQg3Ltfe/mfGmUEp39b8kYbQSAiLzv6V9ZaRmuPC/bUh/cAN67L/Ob7xt32Tnvz9mnv+5NuK/NbCRZgzq2b9SF3ehLpXOvwbvf/4FabK/R+9/JtpuuD+5i7taDMzQP0awkXCBa9s/QmaehHT34j/Wb7zymSXoP3VIf/W9Ou0/qH3l5sMY8T8oYTRVX4LzP5rxJpOn1/U/Ek3CTygW+D93kYwwhTv6PxYiTk18Rfw/i+QAkOgx/j817232w/7/PzQEjdkU1QBA0NyhFSyZAUB3PO1n2UoCQCuvvudh6QJAzWzczx50A0AM3vItfuoDQEk+HHwDTARAm9jeI0iYBEBcExjq+84EQKzDYkPl7wRAAACgkOH6BEA=\",\"dtype\":\"float64\",\"shape\":[100]},\"y\":{\"__ndarray__\":\"AAAA+Oz19D88D+KOPRz2P0t9J4vxKPc/ZOitQu4a+D8QFfQlNfH4P7V348vkqvk/VJbv3jlH+j/c0JHqj8X6PypnSQhiJfs/er9pa0tm+z9o2yPLB4j7P5NvW6pzivs/Ug38fIxt+z/MGKeqcDH7P7y5t25f1vo/emy+lbhc+j92LLoY/MT5P3c7eZbJD/k/fCOvq989+D/DlnAqG1D3P1Id6DF2R/Y/A+03Jwcl9T9Itp2Q/+nzPzR5DNSql/I/C3yO2mwv8T86PbwzgWXvPyjLfgttRuw/wDV71eUE6T8AUhBoWKTlP8CafzxSKOI/tCxlZPso3T/MWzNnPNnVP7CFywIx0sw/6NcTG4uBuz+ABTKI+x6Hv0gZ5/HxtcC/GIcaDjL7z78eZBfXz5jXv3rPbAWdJN+/X22GMohM478Ioa8sKffmv4J7EAtWjuq/DRBm3kcO7r+HfLwTqLnwv0iVSlvuXPK/Odectj3v87+/UQbv7m71v5apoWNu2va/r9nqsT0w+L////9H9W75vwEAAEj1bvm/PQ/i3kWV+r9MfSfb+aH7v2XorZL2k/y/ERX0dT1q/b+2d+Mb7SP+v1WW7y5CwP6/3NCROpg+/78pZ0lYap7/v3q/abtT3/+/tO2RDYgAAMDKty39vQEAwFIN/MyU5v+/zBin+niq/7+8ube+Z0//v3lsvuXA1f6/diy6aAQ+/r92O3nm0Yj9v3kjr/vntvy/wZZweiPJ+79QHeiBfsD6vwLtN3cPnvm/Rrad4Adj+L8yeQwksxD3vwl8jip1qPW/mx7e6cgr9L+SZb/VPpzyv96avTp7+/C//lEQCGmW7r+8mn/cYhrrv1aWMlKOhue/4a2Z067e479m4bLgnCbgv/b1xAaExNi/ym++Yykr0b+w5hiOUBLDv2DGK4+DaJ6/gJBdXLrStj8In9mK94DKP8baDCXvtNQ/IkJfGTEK3D+JexBrRZzhPxEQZj43HOU/FPl4hz+B6D+SKpUWzMfrP3iuOc1q7O4/wFEGn+b18D+ZqaETZmHyP7DZ6mE1t/M/AAAA+Oz19D8=\",\"dtype\":\"float64\",\"shape\":[100]}},\"selected\":{\"id\":\"1422\",\"type\":\"Selection\"},\"selection_policy\":{\"id\":\"1421\",\"type\":\"UnionRenderers\"}},\"id\":\"1371\",\"type\":\"ColumnDataSource\"},{\"attributes\":{\"callback\":null,\"data\":{\"x\":{\"__ndarray__\":\"AACgsOH6BEDZ7lFj5e8EQMbR1An8zgRAW8dHQ0iYBEClUhCbA0wEQDWIUUx+6gNAIrqF7R50A0DVa5MEYukCQDoUz4PZSgJA9XpzMCyZAUBiMjLzFNUAQAl3KSfE/v8/GVT6vegx/j9mHFV4fEX8PzzTc1iFO/o/RNxfdCgW+D+gSVS0p9f1P1ybznJfgvM/DnbNAMQY8T+ENLQhvjrtPznWJxeaJeg/JfcZoXT34j8vOm2ZgWvbP8WCUHMMzNA/PRBSR9puuD/8D1IfBmmyv2oFodIulc6/Hjptjwzq2b8i9xkcujbivzHWJ5LfZOe/fDS0nAN67L8Kdk2+Zrjwv1ibTjACIvO/n0nUcUp39b9C3N8xy7X3vzrT8xUo2/m/YhzVNR/l+78YVHp7i9H9vwd3qeRmnv+/YTLyUeakAMDzejOP/WgBwDkUj+KqGgLA1GtTYzO5AsAhukVM8EMDwDWIEatPugPApFLQ+dQbBMBbxweiGWgEwMXRlGjNngTA2e4Rwra/BMAAAGAPs8oEwAAAYA+zygTA2e4Rwra/BMDF0ZRozZ4EwFvHB6IZaATApFLQ+dQbBMA1iBGrT7oDwCG6RUzwQwPA1GtTYzO5AsA5FI/iqhoCwPN6M4/9aAHAYTLyUeakAMAHd6nkZp7/vxhUenuL0f2/YhzVNR/l+7860/MVKNv5v0Lc3zHLtfe/n0nUcUp39b9Ym04wAiLzvwp2Tb5muPC/fDS0nAN67L8x1ieS32TnvyL3GRy6NuK/Hjptjwzq2b9qBaHSLpXOv/wPUh8GabK/PRBSR9puuD/FglBzDMzQPy86bZmBa9s/JfcZoXT34j851icXmiXoP4Q0tCG+Ou0/DnbNAMQY8T9cm85yX4LzP6BJVLSn1/U/RNxfdCgW+D8803NYhTv6P2YcVXh8Rfw/GVT6vegx/j8JdyknxP7/P2IyMvMU1QBA9XpzMCyZAUA6FM+D2UoCQNVrkwRi6QJAIrqF7R50A0A1iFFMfuoDQKVSEJsDTARAW8dHQ0iYBEDG0dQJ/M4EQNnuUWPl7wRAAACgsOH6BEA=\",\"dtype\":\"float64\",\"shape\":[100]},\"y\":{\"__ndarray__\":\"AAAAQCHkwb/EY8vCnfuUv4ycIRVUKrk/irBrKbmpyz+OYvg+LkfVP+Dah6W0mdw/yAcE7l3i4T9qUlXBXGDlP7TcbVoqw+g/9JHw4TYH7D9kbaXaEinvPzCaVF+5EvE/TLpjO5l88j+pqCxUrNDzP7ymF+uMDfU/ssWdqO0x9j9NXvL6mjz3P+z+j1l8LPg/HnNUbJUA+T9Oc/UUB7j5P+q8tlkQUvo/7apqMA/O+j/uwecogSv7P9feP/YDavs/368o1lWJ+z/fryjWVYn7P9feP/YDavs/7sHnKIEr+z/tqmowD876P+u8tlkQUvo/T3P1FAe4+T8fc1RslQD5P+3+j1l8LPg/TV7y+po89z+0xZ2o7TH2P72mF+uMDfU/q6gsVKzQ8z9NumM7mXzyPzOaVF+5EvE/aG2l2hIp7z/6kfDhNgfsP7ncbVoqw+g/a1JVwVxg5T/OBwTuXeLhP+jah6W0mdw/nWL4Pi5H1T+csGspuanLP86cIRVUKrk/GGPLwp37lL/4//8/IeTBvwgAAEAh5MG/zknTY2eU0L80Z0hFti7Yv07YtdT9uN+/TjF8v6eV47907cPy6j7nv84HBI5u1Oq/a1JVYW1S7r9c7jZ9ndrwv/1I+MCjfPK/tLZSvZEN9L8zmlSvwYv1v026Y4uh9fa/q6gspLRJ+L+9phc7lYb5v7TFnfj1qvq/TV7ySqO1+7/t/o+phKX8vx9zVLydef2/T3P1ZA8x/r/rvLapGMv+v+2qaoAXR/+/7sHneImk/7/X3j9GDOP/v/BXFBMvAQDA8FcUEy8BAMDX3j9GDOP/v+7B53iJpP+/7apqgBdH/7/qvLapGMv+v05z9WQPMf6/HnNUvJ15/b/s/o+phKX8v01e8kqjtfu/ssWd+PWq+r+8phc7lYb5v6moLKS0Sfi/TLpji6H19r8wmlSvwYv1v7K2Ur2RDfS/+kj4wKN88r9a7jZ9ndrwv2pSVWFtUu6/yAcEjm7U6r9w7cPy6j7nv0cxfL+nleO/Rdi11P24378jZ0hFti7Yv8RJ02NnlNC/AAAAQCHkwb8=\",\"dtype\":\"float64\",\"shape\":[100]}},\"selected\":{\"id\":\"1418\",\"type\":\"Selection\"},\"selection_policy\":{\"id\":\"1417\",\"type\":\"UnionRenderers\"}},\"id\":\"1361\",\"type\":\"ColumnDataSource\"},{\"attributes\":{\"formatter\":{\"id\":\"1408\",\"type\":\"BasicTickFormatter\"},\"plot\":{\"id\":\"1312\",\"subtype\":\"Figure\",\"type\":\"Plot\"},\"ticker\":{\"id\":\"1322\",\"type\":\"BasicTicker\"}},\"id\":\"1321\",\"type\":\"LinearAxis\"},{\"attributes\":{\"source\":{\"id\":\"1346\",\"type\":\"ColumnDataSource\"}},\"id\":\"1350\",\"type\":\"CDSView\"},{\"attributes\":{\"fill_alpha\":{\"value\":0.1},\"fill_color\":{\"value\":\"#1f77b4\"},\"line_alpha\":{\"value\":0.1},\"line_color\":{\"value\":\"#1f77b4\"},\"x\":{\"field\":\"x\"},\"y\":{\"field\":\"y\"}},\"id\":\"1348\",\"type\":\"Circle\"},{\"attributes\":{\"fill_alpha\":0.1,\"fill_color\":\"#1f77b4\",\"line_alpha\":0.1,\"line_color\":\"#1f77b4\",\"x\":{\"field\":\"x\"},\"y\":{\"field\":\"y\"}},\"id\":\"1363\",\"type\":\"Patch\"},{\"attributes\":{},\"id\":\"1408\",\"type\":\"BasicTickFormatter\"},{\"attributes\":{\"fill_alpha\":0.3,\"fill_color\":\"green\",\"x\":{\"field\":\"x\"},\"y\":{\"field\":\"y\"}},\"id\":\"1352\",\"type\":\"Patch\"},{\"attributes\":{},\"id\":\"1331\",\"type\":\"PanTool\"},{\"attributes\":{\"data_source\":{\"id\":\"1361\",\"type\":\"ColumnDataSource\"},\"glyph\":{\"id\":\"1362\",\"type\":\"Patch\"},\"hover_glyph\":null,\"muted_glyph\":null,\"nonselection_glyph\":{\"id\":\"1363\",\"type\":\"Patch\"},\"selection_glyph\":null,\"view\":{\"id\":\"1365\",\"type\":\"CDSView\"}},\"id\":\"1364\",\"type\":\"GlyphRenderer\"},{\"attributes\":{},\"id\":\"1410\",\"type\":\"BasicTickFormatter\"},{\"attributes\":{},\"id\":\"1332\",\"type\":\"WheelZoomTool\"},{\"attributes\":{\"source\":{\"id\":\"1361\",\"type\":\"ColumnDataSource\"}},\"id\":\"1365\",\"type\":\"CDSView\"},{\"attributes\":{\"overlay\":{\"id\":\"1339\",\"type\":\"BoxAnnotation\"}},\"id\":\"1333\",\"type\":\"BoxZoomTool\"},{\"attributes\":{},\"id\":\"1411\",\"type\":\"UnionRenderers\"},{\"attributes\":{\"fill_alpha\":0.3,\"fill_color\":\"#98AFC7\",\"x\":{\"field\":\"x\"},\"y\":{\"field\":\"y\"}},\"id\":\"1367\",\"type\":\"Patch\"},{\"attributes\":{},\"id\":\"1334\",\"type\":\"SaveTool\"},{\"attributes\":{},\"id\":\"1412\",\"type\":\"Selection\"},{\"attributes\":{\"fill_alpha\":0.1,\"fill_color\":\"#1f77b4\",\"line_alpha\":0.1,\"line_color\":\"#1f77b4\",\"x\":{\"field\":\"x\"},\"y\":{\"field\":\"y\"}},\"id\":\"1368\",\"type\":\"Patch\"},{\"attributes\":{},\"id\":\"1335\",\"type\":\"ResetTool\"},{\"attributes\":{},\"id\":\"1413\",\"type\":\"UnionRenderers\"},{\"attributes\":{\"data_source\":{\"id\":\"1366\",\"type\":\"ColumnDataSource\"},\"glyph\":{\"id\":\"1367\",\"type\":\"Patch\"},\"hover_glyph\":null,\"muted_glyph\":null,\"nonselection_glyph\":{\"id\":\"1368\",\"type\":\"Patch\"},\"selection_glyph\":null,\"view\":{\"id\":\"1370\",\"type\":\"CDSView\"}},\"id\":\"1369\",\"type\":\"GlyphRenderer\"},{\"attributes\":{\"callback\":null,\"data\":{\"x\":{\"__ndarray__\":\"Zz7P0cVi8r/KzGcb9lXxP3AJrKnYF44/zC3Qjt17xr8PcMgA7rDsv0VvgClWYdO/mY+mmEGfAUCdWmDnuREBwMk2wvu6jPi/sh4roK6iwz+/Lp+PBBPYP9GiwEsYFLM/KK3Fj5kW3L+1a3T+TP3wPyCQ/h3/9Zc/eMAeiUOs1L/UnOY5QBUBwAiZjdkrt76/d9EEcF2/8T+8dz13g9nlPzR41RJyrPm//20U5sjo+r9Q9rqvgL2mv9rgIWuTj/O/EOoOwCGC+b897RkUY6cBwGUkmynIkvA/fjKQyCH81b9E55uy+gbnv9Slu4kdUAFAVCOCDSkouj/ep2v0Nh7zP8ylhNuJ7vi/rNGV820c6L8srDuoM/bwP3n9uLTxreO/Qe5z5r1u2j/3mBJHc1XkvzjwtD/HXQHA5H2fiQUP5D9QpLiouFDyP0GPt7mU3fw/db9XJmeM4D9y23guUm3kPxDfz6Anuac/8bRSB153BUDFqPslYEfpv5OJ2QAbTeC/zRBezT6s7b94aHqfCiHiP8SOznCkC7m/YfSJ9Nx75r8Ln2jZptnhvxgF3YJ3z+O/FvrAW01p3j9iJmTWWAbzv4Q9sYdTl+k/+U6fK0MN67/xKra1iQTDvxpS02cAONC/yO8Ly8Bw6r/mwfsPBT33vzBYNmE1wc0/ty3ut7kg4b/+yfoAqWj1PwqB2Hr1bfw/4SfyTWZfBcABNX0cqGjEP0bC4iZrNfE/IPk8oYSUAMCE2P5csjD0v06SMUD7igRA97lj3J1Y/L/uSBSMJUAKQBsU/kwjUea/qTLI801mAcBcxnvWTtXpv5ZIWVUa/RBAoLJs0Za/AkBkEOc67KfvvybSLdrmuMy/VkB2fwei8r/50U/VKJbvP2rI7qrgtc4//MpWpXJU9z/oYW0pGL/3P2GEXJItOvY/ejkRketWyj9gMVyP8Er8v077mvRUA+A/YEj19NWd8T/xOAgcoJjuP5vLDjWS+/8/PnYNIdVx+T+/lvQCugPevxxag/cXnfS/eh7Xwx8D4L/UyHUqZjvTP6OoyzbinNo/Y8PVgYqN8j8=\",\"dtype\":\"float64\",\"shape\":[100]},\"y\":{\"__ndarray__\":\"sGMP8yhQ7L+qlgToNJnZP7qz1uV5P+A/nr+g/s9U7T+oySrx9RDfvz4G6AsegrI/pyDFmWLQ4T+Zt8EtYa33v0TXtLQGSvW/T6vsg8Rr8r/5FDvL3lTWP+ErQhMB9aa/SkRvcC8D379SWKg9TPzwPy/OjnOm9e8/s1rdSQ1r2L/7T+A5QJb6v2M2JEG/lsG/pFFWLJcZ5D9zcp2gxrPbvyAriPaJi/i/Z7hvYxPg9L9E3j5ERBP5v3ZRxyDgX/K/Y61T0gpi578ajsqRYPj3v/lgnBbfUOg/sPut7P50w7/5VHu4nGvmv+wRzgfCXso/EjC9Pu751j+gqhJ/opvwPyJ12xQyZ/u/hinvu59o7z/J8AWy9snyP5B67AAe/fG/gAXYljo66b9lWQ86i7Lov3x7ZrrhhP2/0hPvnqTc0785noQLBKvUvy6itxtlH/M/F01T9QHa5T/rTIwtItPSv4RDaH7gj+M/qVgLSnGm+D/2EMG1gpTqv678qp18IeS/PFoXFI6H0r9i/9ws4L7VP4iZw1gpvOm/mC6LGvno0T89NJUHBsvKP4wY+AIkAOq/LcMTbsK/0T92rclj5UPcv9hH/OPZmti/ksRx7thP7r9ZwF+whaS7v1Y+t4pbmvW/YIaqB4X4m79wuZxetwf2vwUELbbK6+Q/TN/R7+ov1b9mDu6QMlbPPzpVR89nXPw/TSEUkiPE+b+gb9oIEh7Xv6s3MAohQuo/cO0SwBgc+b/NYoG8Ihb4vyuOKdrbWPU/+xkVrlTd2L+Pf22yAej1PzjoeOSa2Mo/DSAL3odJAcAXUtS5FrDaP2bgW8r4BfY/HkGSdw3B8T8WkRtYCe3nv3iR8seZIvA/2v7nctUb97/7gF3XQFHoP+bPVNgiOLu/HDg8fgpf4z8wrPAtdySgPyqyWIRbv+E/yVGhlkMt3r9Rx79a1+Pqv7XzZdNcfeI/AOTRd0vCqz8ZUC61U1DkP/p9DiLq9PI/Agt9i1Tt+j8Q1w8MDprFv2T8XLpZFPG/vQWmI7vF7L8wOmr3B6bLPxU4kVamG+e/avJerYNx6T8=\",\"dtype\":\"float64\",\"shape\":[100]}},\"selected\":{\"id\":\"1412\",\"type\":\"Selection\"},\"selection_policy\":{\"id\":\"1411\",\"type\":\"UnionRenderers\"}},\"id\":\"1346\",\"type\":\"ColumnDataSource\"},{\"attributes\":{},\"id\":\"1336\",\"type\":\"HelpTool\"},{\"attributes\":{},\"id\":\"1414\",\"type\":\"Selection\"},{\"attributes\":{\"callback\":null,\"end\":5,\"start\":-5},\"id\":\"1313\",\"type\":\"Range1d\"},{\"attributes\":{\"source\":{\"id\":\"1366\",\"type\":\"ColumnDataSource\"}},\"id\":\"1370\",\"type\":\"CDSView\"},{\"attributes\":{\"callback\":null,\"data\":{\"x\":{\"__ndarray__\":\"AACgUM1AAkCg/0AwQDcCQFkrUNuiGgJAzDfAaxPrAUAyCqDpw6gBQEYreRb6UwFADmLuIw/tAEDop+dVb3QAQNpTXCEz1f8/Vk3gpj2g/j+UJ3I/Q0v9P9kA/Zyq1/s/fxLrpvpG+j+qrO7e2Jr4P1bamaUH1fY/JiCXYGT39D8Gu3WE5QPzP4mqGYSY/PA/Phv3Tz/H7T8ulPueX3bpP5wLZz0cC+U/DhUVNhuK4D87uWzlMvDXPwWyhf+WZ80/ahaV8t2itT9iLCqVEzqvv+mxheusZMq/LLls271u1r8YKipiwZLfv5ULZ7hhSuS/J5T7GaW16L83G/fKhAbtv4aqmUE7nPC/Bbv1QYij8r8kIBceB5f0v1XaGWOqdPa/pqxunHs6+L9+Emtkneb5v9cAfVpNd/u/kify/OXq/L9STWBk4D/+v9hT3N7VdP+/56entEBEAMAOYq6C4LwAwEYrOXXLIwHAMgpgSJV4AcDMN4DK5LoBwFgrEDp06gHAoP8AjxEHAsAAAGCvnhACwAAAYK+eEALAoP8AjxEHAsBYKxA6dOoBwMw3gMrkugHAMgpgSJV4AcBGKzl1yyMBwA5iroLgvADA56entEBEAMDYU9ze1XT/v1JNYGTgP/6/kify/OXq/L/XAH1aTXf7v34Sa2Sd5vm/pqxunHs6+L9V2hljqnT2vyQgFx4Hl/S/Bbv1QYij8r+GqplBO5zwvzcb98qEBu2/J5T7GaW16L+VC2e4YUrkvxgqKmLBkt+/LLls271u1r/psYXrrGTKv2IsKpUTOq+/ahaV8t2itT8FsoX/lmfNPzu5bOUy8Nc/DhUVNhuK4D+cC2c9HAvlPy6U+55fduk/Phv3Tz/H7T+JqhmEmPzwPwa7dYTlA/M/JiCXYGT39D9W2pmlB9X2P6qs7t7Ymvg/fxLrpvpG+j/ZAP2cqtf7P5Qncj9DS/0/Vk3gpj2g/j/aU1whM9X/P+in51VvdABADmLuIw/tAEBGK3kW+lMBQDIKoOnDqAFAzDfAaxPrAUBZK1DbohoCQKD/QDBANwJAAACgUM1AAkA=\",\"dtype\":\"float64\",\"shape\":[100]},\"y\":{\"__ndarray__\":\"AAAAQCHkwb/AiRLo7yt3P0RGgiFLQ8M/1IOukRDT0j+QbHUPRefbP4WnHAlbauI/686atP/I5j9U7uzF9wrrP/jVzaLIK+8/kZaUSI2T8T/fkUykXnzzP67lMi1WTvU/B76xtYkH9z86GJ8dKab4P+N7ejqAKPo/2iJBoviM+z/c5PVWG9L8Py4oG1GS9v0/IN5/5yn5/j+mDOUS0tj/Pzy3E8ZPSgBA2RDgYeaVAEAOBMxY3c4AQLycKb749ABAbUWyexAIAUBtRbJ7EAgBQLycKb749ABADgTMWN3OAEDZEOBh5pUAQD23E8ZPSgBApgzlEtLY/z8g3n/nKfn+PzAoG1GS9v0/3eT1VhvS/D/cIkGi+Iz7P+R7ejqAKPo/PBifHSmm+D8IvrG1iQf3P7LlMi1WTvU/4ZFMpF588z+VlpRIjZPxP/7VzaLIK+8/Vu7sxfcK6z/zzpq0/8jmP4mnHAlbauI/omx1D0Xn2z/fg66RENPSP25GgiFLQ8M/AI0S6O8rdz/2//8/IeTBvwoAAEAh5MG/NEqg/9BA0r83I8HQxoXbv/BB1+iYW+K/Uba6J7Pl5r+Jpxypa1zrv/POmlQQu++/K3f2MoT+8b//6mah7A70v5WWlJiVDPa/4ZFM9Gb197+y5TJ9Xsf5vwi+sQWSgPu/PBifbTEf/b/ke3qKiKH+v26RIHkAAwDAbvJ605GlAMAYlI1QzTcBwBDvvxsZuQHAU4ZyMe0oAsA9txPu04YCwNkQ4Ilq0gLADgTMgGELA8C8nCnmfDEDwG1FsqOURAPAbUWyo5REA8C8nCnmfDEDwA4EzIBhCwPA2RDgiWrSAsA8txPu04YCwFOGcjHtKALAEO+/Gxm5AcAXlI1QzTcBwG7yetORpQDAbZEgeQADAMDje3qKiKH+vzoYn20xH/2/B76xBZKA+7+u5TJ9Xsf5v9+RTPRm9fe/kZaUmJUM9r/86mah7A70vyp39jKE/vG/686aVBC777+Fpxypa1zrv0i2uiez5ea/6kHX6Jhb4r8iI8HQxoXbvydKoP/QQNK/AAAAQCHkwb8=\",\"dtype\":\"float64\",\"shape\":[100]}},\"selected\":{\"id\":\"1414\",\"type\":\"Selection\"},\"selection_policy\":{\"id\":\"1413\",\"type\":\"UnionRenderers\"}},\"id\":\"1351\",\"type\":\"ColumnDataSource\"},{\"attributes\":{\"active_drag\":\"auto\",\"active_inspect\":\"auto\",\"active_multi\":null,\"active_scroll\":\"auto\",\"active_tap\":\"auto\",\"tools\":[{\"id\":\"1331\",\"type\":\"PanTool\"},{\"id\":\"1332\",\"type\":\"WheelZoomTool\"},{\"id\":\"1333\",\"type\":\"BoxZoomTool\"},{\"id\":\"1334\",\"type\":\"SaveTool\"},{\"id\":\"1335\",\"type\":\"ResetTool\"},{\"id\":\"1336\",\"type\":\"HelpTool\"}]},\"id\":\"1337\",\"type\":\"Toolbar\"},{\"attributes\":{},\"id\":\"1415\",\"type\":\"UnionRenderers\"},{\"attributes\":{\"callback\":null,\"end\":5,\"start\":-5},\"id\":\"1315\",\"type\":\"Range1d\"},{\"attributes\":{\"bottom_units\":\"screen\",\"fill_alpha\":{\"value\":0.5},\"fill_color\":{\"value\":\"lightgrey\"},\"left_units\":\"screen\",\"level\":\"overlay\",\"line_alpha\":{\"value\":1.0},\"line_color\":{\"value\":\"black\"},\"line_dash\":[4,4],\"line_width\":{\"value\":2},\"plot\":null,\"render_mode\":\"css\",\"right_units\":\"screen\",\"top_units\":\"screen\"},\"id\":\"1339\",\"type\":\"BoxAnnotation\"},{\"attributes\":{},\"id\":\"1416\",\"type\":\"Selection\"},{\"attributes\":{},\"id\":\"1317\",\"type\":\"LinearScale\"},{\"attributes\":{\"fill_alpha\":0.3,\"fill_color\":\"#C7B097\",\"x\":{\"field\":\"x\"},\"y\":{\"field\":\"y\"}},\"id\":\"1372\",\"type\":\"Patch\"},{\"attributes\":{\"fill_alpha\":0.1,\"fill_color\":\"#1f77b4\",\"line_alpha\":0.1,\"line_color\":\"#1f77b4\",\"x\":{\"field\":\"x\"},\"y\":{\"field\":\"y\"}},\"id\":\"1353\",\"type\":\"Patch\"},{\"attributes\":{},\"id\":\"1417\",\"type\":\"UnionRenderers\"},{\"attributes\":{},\"id\":\"1319\",\"type\":\"LinearScale\"},{\"attributes\":{\"fill_alpha\":0.1,\"fill_color\":\"#1f77b4\",\"line_alpha\":0.1,\"line_color\":\"#1f77b4\",\"x\":{\"field\":\"x\"},\"y\":{\"field\":\"y\"}},\"id\":\"1373\",\"type\":\"Patch\"},{\"attributes\":{\"data_source\":{\"id\":\"1351\",\"type\":\"ColumnDataSource\"},\"glyph\":{\"id\":\"1352\",\"type\":\"Patch\"},\"hover_glyph\":null,\"muted_glyph\":null,\"nonselection_glyph\":{\"id\":\"1353\",\"type\":\"Patch\"},\"selection_glyph\":null,\"view\":{\"id\":\"1355\",\"type\":\"CDSView\"}},\"id\":\"1354\",\"type\":\"GlyphRenderer\"},{\"attributes\":{\"plot\":null,\"text\":\"\"},\"id\":\"1406\",\"type\":\"Title\"},{\"attributes\":{},\"id\":\"1418\",\"type\":\"Selection\"},{\"attributes\":{\"data_source\":{\"id\":\"1371\",\"type\":\"ColumnDataSource\"},\"glyph\":{\"id\":\"1372\",\"type\":\"Patch\"},\"hover_glyph\":null,\"muted_glyph\":null,\"nonselection_glyph\":{\"id\":\"1373\",\"type\":\"Patch\"},\"selection_glyph\":null,\"view\":{\"id\":\"1375\",\"type\":\"CDSView\"}},\"id\":\"1374\",\"type\":\"GlyphRenderer\"},{\"attributes\":{\"source\":{\"id\":\"1351\",\"type\":\"ColumnDataSource\"}},\"id\":\"1355\",\"type\":\"CDSView\"}],\"root_ids\":[\"1312\"]},\"title\":\"Bokeh Application\",\"version\":\"1.0.0\"}};\n",
       "  var render_items = [{\"docid\":\"186cc78b-d58d-48ea-807d-e639f23496a3\",\"roots\":{\"1312\":\"28b6d1c6-7c01-48f4-84b3-1a698d6547e9\"}}];\n",
       "  root.Bokeh.embed.embed_items_notebook(docs_json, render_items);\n",
       "\n",
       "  }\n",
       "  if (root.Bokeh !== undefined) {\n",
       "    embed_document(root);\n",
       "  } else {\n",
       "    var attempts = 0;\n",
       "    var timer = setInterval(function(root) {\n",
       "      if (root.Bokeh !== undefined) {\n",
       "        embed_document(root);\n",
       "        clearInterval(timer);\n",
       "      }\n",
       "      attempts++;\n",
       "      if (attempts > 100) {\n",
       "        console.log(\"Bokeh: ERROR: Unable to run BokehJS code because BokehJS library is missing\");\n",
       "        clearInterval(timer);\n",
       "      }\n",
       "    }, 10, root)\n",
       "  }\n",
       "})(window);"
      ],
      "application/vnd.bokehjs_exec.v0+json": ""
     },
     "metadata": {
      "application/vnd.bokehjs_exec.v0+json": {
       "id": "1312"
      }
     },
     "output_type": "display_data"
    }
   ],
   "source": [
    "fig = figure(\n",
    "    width=400,\n",
    "    height=400,\n",
    "    x_range=(-5, 5),\n",
    "    y_range=(-5, 5)\n",
    ")\n",
    "fig.circle(data[:, 0], data[:, 1])\n",
    "\n",
    "mean, precision = normal_iso.mean_precision.value()\n",
    "cov = torch.eye(2) / precision\n",
    "plotting.plot_normal(fig, mean.numpy(), cov.numpy(), \n",
    "                     line_color='black', fill_alpha=.3, color='green')\n",
    "\n",
    "mean, precision = normal_diag.mean_precision.value()\n",
    "cov = (1/precision).diag()\n",
    "plotting.plot_normal(fig, mean.numpy(), cov.numpy(), \n",
    "                     line_color='black', fill_alpha=.3, color='#98AFC7')\n",
    "\n",
    "mean, precision = normal_full.mean_precision.value()\n",
    "cov = precision.inverse()\n",
    "plotting.plot_normal(fig, mean.numpy(), cov.numpy(), \n",
    "                     line_color='black', fill_alpha=.3, color='#C7B097')\n",
    "\n",
    "show(fig)"
   ]
  }
 ],
 "metadata": {
  "kernelspec": {
   "display_name": "Python 3",
   "language": "python",
   "name": "python3"
  },
  "language_info": {
   "codemirror_mode": {
    "name": "ipython",
    "version": 3
   },
   "file_extension": ".py",
   "mimetype": "text/x-python",
   "name": "python",
   "nbconvert_exporter": "python",
   "pygments_lexer": "ipython3",
   "version": "3.7.2"
  }
 },
 "nbformat": 4,
 "nbformat_minor": 2
}
