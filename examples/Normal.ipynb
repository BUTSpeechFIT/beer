{
 "cells": [
  {
   "cell_type": "markdown",
   "metadata": {},
   "source": [
    "# Bayesian Normal Density\n",
    "\n",
    "This notebook illustrate how to use a Bayesian Normal density model with the [beer framework](https://github.com/beer-asr/beer). The Normal distribution is a fairly basic model but it is used extenslively in other model as a basic building block."
   ]
  },
  {
   "cell_type": "code",
   "execution_count": 1,
   "metadata": {},
   "outputs": [
    {
     "data": {
      "text/html": [
       "\n",
       "    <div class=\"bk-root\">\n",
       "        <a href=\"https://bokeh.pydata.org\" target=\"_blank\" class=\"bk-logo bk-logo-small bk-logo-notebook\"></a>\n",
       "        <span id=\"f36afe9e-37d2-4da3-b3bb-265fdc27451a\">Loading BokehJS ...</span>\n",
       "    </div>"
      ]
     },
     "metadata": {},
     "output_type": "display_data"
    },
    {
     "data": {
      "application/javascript": [
       "\n",
       "(function(root) {\n",
       "  function now() {\n",
       "    return new Date();\n",
       "  }\n",
       "\n",
       "  var force = true;\n",
       "\n",
       "  if (typeof (root._bokeh_onload_callbacks) === \"undefined\" || force === true) {\n",
       "    root._bokeh_onload_callbacks = [];\n",
       "    root._bokeh_is_loading = undefined;\n",
       "  }\n",
       "\n",
       "  var JS_MIME_TYPE = 'application/javascript';\n",
       "  var HTML_MIME_TYPE = 'text/html';\n",
       "  var EXEC_MIME_TYPE = 'application/vnd.bokehjs_exec.v0+json';\n",
       "  var CLASS_NAME = 'output_bokeh rendered_html';\n",
       "\n",
       "  /**\n",
       "   * Render data to the DOM node\n",
       "   */\n",
       "  function render(props, node) {\n",
       "    var script = document.createElement(\"script\");\n",
       "    node.appendChild(script);\n",
       "  }\n",
       "\n",
       "  /**\n",
       "   * Handle when an output is cleared or removed\n",
       "   */\n",
       "  function handleClearOutput(event, handle) {\n",
       "    var cell = handle.cell;\n",
       "\n",
       "    var id = cell.output_area._bokeh_element_id;\n",
       "    var server_id = cell.output_area._bokeh_server_id;\n",
       "    // Clean up Bokeh references\n",
       "    if (id !== undefined) {\n",
       "      Bokeh.index[id].model.document.clear();\n",
       "      delete Bokeh.index[id];\n",
       "    }\n",
       "\n",
       "    if (server_id !== undefined) {\n",
       "      // Clean up Bokeh references\n",
       "      var cmd = \"from bokeh.io.state import curstate; print(curstate().uuid_to_server['\" + server_id + \"'].get_sessions()[0].document.roots[0]._id)\";\n",
       "      cell.notebook.kernel.execute(cmd, {\n",
       "        iopub: {\n",
       "          output: function(msg) {\n",
       "            var element_id = msg.content.text.trim();\n",
       "            Bokeh.index[element_id].model.document.clear();\n",
       "            delete Bokeh.index[element_id];\n",
       "          }\n",
       "        }\n",
       "      });\n",
       "      // Destroy server and session\n",
       "      var cmd = \"import bokeh.io.notebook as ion; ion.destroy_server('\" + server_id + \"')\";\n",
       "      cell.notebook.kernel.execute(cmd);\n",
       "    }\n",
       "  }\n",
       "\n",
       "  /**\n",
       "   * Handle when a new output is added\n",
       "   */\n",
       "  function handleAddOutput(event, handle) {\n",
       "    var output_area = handle.output_area;\n",
       "    var output = handle.output;\n",
       "\n",
       "    // limit handleAddOutput to display_data with EXEC_MIME_TYPE content only\n",
       "    if ((output.output_type != \"display_data\") || (!output.data.hasOwnProperty(EXEC_MIME_TYPE))) {\n",
       "      return\n",
       "    }\n",
       "\n",
       "    var toinsert = output_area.element.find(\".\" + CLASS_NAME.split(' ')[0]);\n",
       "\n",
       "    if (output.metadata[EXEC_MIME_TYPE][\"id\"] !== undefined) {\n",
       "      toinsert[0].firstChild.textContent = output.data[JS_MIME_TYPE];\n",
       "      // store reference to embed id on output_area\n",
       "      output_area._bokeh_element_id = output.metadata[EXEC_MIME_TYPE][\"id\"];\n",
       "    }\n",
       "    if (output.metadata[EXEC_MIME_TYPE][\"server_id\"] !== undefined) {\n",
       "      var bk_div = document.createElement(\"div\");\n",
       "      bk_div.innerHTML = output.data[HTML_MIME_TYPE];\n",
       "      var script_attrs = bk_div.children[0].attributes;\n",
       "      for (var i = 0; i < script_attrs.length; i++) {\n",
       "        toinsert[0].firstChild.setAttribute(script_attrs[i].name, script_attrs[i].value);\n",
       "      }\n",
       "      // store reference to server id on output_area\n",
       "      output_area._bokeh_server_id = output.metadata[EXEC_MIME_TYPE][\"server_id\"];\n",
       "    }\n",
       "  }\n",
       "\n",
       "  function register_renderer(events, OutputArea) {\n",
       "\n",
       "    function append_mime(data, metadata, element) {\n",
       "      // create a DOM node to render to\n",
       "      var toinsert = this.create_output_subarea(\n",
       "        metadata,\n",
       "        CLASS_NAME,\n",
       "        EXEC_MIME_TYPE\n",
       "      );\n",
       "      this.keyboard_manager.register_events(toinsert);\n",
       "      // Render to node\n",
       "      var props = {data: data, metadata: metadata[EXEC_MIME_TYPE]};\n",
       "      render(props, toinsert[0]);\n",
       "      element.append(toinsert);\n",
       "      return toinsert\n",
       "    }\n",
       "\n",
       "    /* Handle when an output is cleared or removed */\n",
       "    events.on('clear_output.CodeCell', handleClearOutput);\n",
       "    events.on('delete.Cell', handleClearOutput);\n",
       "\n",
       "    /* Handle when a new output is added */\n",
       "    events.on('output_added.OutputArea', handleAddOutput);\n",
       "\n",
       "    /**\n",
       "     * Register the mime type and append_mime function with output_area\n",
       "     */\n",
       "    OutputArea.prototype.register_mime_type(EXEC_MIME_TYPE, append_mime, {\n",
       "      /* Is output safe? */\n",
       "      safe: true,\n",
       "      /* Index of renderer in `output_area.display_order` */\n",
       "      index: 0\n",
       "    });\n",
       "  }\n",
       "\n",
       "  // register the mime type if in Jupyter Notebook environment and previously unregistered\n",
       "  if (root.Jupyter !== undefined) {\n",
       "    var events = require('base/js/events');\n",
       "    var OutputArea = require('notebook/js/outputarea').OutputArea;\n",
       "\n",
       "    if (OutputArea.prototype.mime_types().indexOf(EXEC_MIME_TYPE) == -1) {\n",
       "      register_renderer(events, OutputArea);\n",
       "    }\n",
       "  }\n",
       "\n",
       "  \n",
       "  if (typeof (root._bokeh_timeout) === \"undefined\" || force === true) {\n",
       "    root._bokeh_timeout = Date.now() + 5000;\n",
       "    root._bokeh_failed_load = false;\n",
       "  }\n",
       "\n",
       "  var NB_LOAD_WARNING = {'data': {'text/html':\n",
       "     \"<div style='background-color: #fdd'>\\n\"+\n",
       "     \"<p>\\n\"+\n",
       "     \"BokehJS does not appear to have successfully loaded. If loading BokehJS from CDN, this \\n\"+\n",
       "     \"may be due to a slow or bad network connection. Possible fixes:\\n\"+\n",
       "     \"</p>\\n\"+\n",
       "     \"<ul>\\n\"+\n",
       "     \"<li>re-rerun `output_notebook()` to attempt to load from CDN again, or</li>\\n\"+\n",
       "     \"<li>use INLINE resources instead, as so:</li>\\n\"+\n",
       "     \"</ul>\\n\"+\n",
       "     \"<code>\\n\"+\n",
       "     \"from bokeh.resources import INLINE\\n\"+\n",
       "     \"output_notebook(resources=INLINE)\\n\"+\n",
       "     \"</code>\\n\"+\n",
       "     \"</div>\"}};\n",
       "\n",
       "  function display_loaded() {\n",
       "    var el = document.getElementById(\"f36afe9e-37d2-4da3-b3bb-265fdc27451a\");\n",
       "    if (el != null) {\n",
       "      el.textContent = \"BokehJS is loading...\";\n",
       "    }\n",
       "    if (root.Bokeh !== undefined) {\n",
       "      if (el != null) {\n",
       "        el.textContent = \"BokehJS \" + root.Bokeh.version + \" successfully loaded.\";\n",
       "      }\n",
       "    } else if (Date.now() < root._bokeh_timeout) {\n",
       "      setTimeout(display_loaded, 100)\n",
       "    }\n",
       "  }\n",
       "\n",
       "\n",
       "  function run_callbacks() {\n",
       "    try {\n",
       "      root._bokeh_onload_callbacks.forEach(function(callback) { callback() });\n",
       "    }\n",
       "    finally {\n",
       "      delete root._bokeh_onload_callbacks\n",
       "    }\n",
       "    console.info(\"Bokeh: all callbacks have finished\");\n",
       "  }\n",
       "\n",
       "  function load_libs(js_urls, callback) {\n",
       "    root._bokeh_onload_callbacks.push(callback);\n",
       "    if (root._bokeh_is_loading > 0) {\n",
       "      console.log(\"Bokeh: BokehJS is being loaded, scheduling callback at\", now());\n",
       "      return null;\n",
       "    }\n",
       "    if (js_urls == null || js_urls.length === 0) {\n",
       "      run_callbacks();\n",
       "      return null;\n",
       "    }\n",
       "    console.log(\"Bokeh: BokehJS not loaded, scheduling load and callback at\", now());\n",
       "    root._bokeh_is_loading = js_urls.length;\n",
       "    for (var i = 0; i < js_urls.length; i++) {\n",
       "      var url = js_urls[i];\n",
       "      var s = document.createElement('script');\n",
       "      s.src = url;\n",
       "      s.async = false;\n",
       "      s.onreadystatechange = s.onload = function() {\n",
       "        root._bokeh_is_loading--;\n",
       "        if (root._bokeh_is_loading === 0) {\n",
       "          console.log(\"Bokeh: all BokehJS libraries loaded\");\n",
       "          run_callbacks()\n",
       "        }\n",
       "      };\n",
       "      s.onerror = function() {\n",
       "        console.warn(\"failed to load library \" + url);\n",
       "      };\n",
       "      console.log(\"Bokeh: injecting script tag for BokehJS library: \", url);\n",
       "      document.getElementsByTagName(\"head\")[0].appendChild(s);\n",
       "    }\n",
       "  };var element = document.getElementById(\"f36afe9e-37d2-4da3-b3bb-265fdc27451a\");\n",
       "  if (element == null) {\n",
       "    console.log(\"Bokeh: ERROR: autoload.js configured with elementid 'f36afe9e-37d2-4da3-b3bb-265fdc27451a' but no matching script tag was found. \")\n",
       "    return false;\n",
       "  }\n",
       "\n",
       "  var js_urls = [\"https://cdn.pydata.org/bokeh/release/bokeh-0.12.14.min.js\", \"https://cdn.pydata.org/bokeh/release/bokeh-widgets-0.12.14.min.js\", \"https://cdn.pydata.org/bokeh/release/bokeh-tables-0.12.14.min.js\", \"https://cdn.pydata.org/bokeh/release/bokeh-gl-0.12.14.min.js\"];\n",
       "\n",
       "  var inline_js = [\n",
       "    function(Bokeh) {\n",
       "      Bokeh.set_log_level(\"info\");\n",
       "    },\n",
       "    \n",
       "    function(Bokeh) {\n",
       "      \n",
       "    },\n",
       "    function(Bokeh) {\n",
       "      console.log(\"Bokeh: injecting CSS: https://cdn.pydata.org/bokeh/release/bokeh-0.12.14.min.css\");\n",
       "      Bokeh.embed.inject_css(\"https://cdn.pydata.org/bokeh/release/bokeh-0.12.14.min.css\");\n",
       "      console.log(\"Bokeh: injecting CSS: https://cdn.pydata.org/bokeh/release/bokeh-widgets-0.12.14.min.css\");\n",
       "      Bokeh.embed.inject_css(\"https://cdn.pydata.org/bokeh/release/bokeh-widgets-0.12.14.min.css\");\n",
       "      console.log(\"Bokeh: injecting CSS: https://cdn.pydata.org/bokeh/release/bokeh-tables-0.12.14.min.css\");\n",
       "      Bokeh.embed.inject_css(\"https://cdn.pydata.org/bokeh/release/bokeh-tables-0.12.14.min.css\");\n",
       "    }\n",
       "  ];\n",
       "\n",
       "  function run_inline_js() {\n",
       "    \n",
       "    if ((root.Bokeh !== undefined) || (force === true)) {\n",
       "      for (var i = 0; i < inline_js.length; i++) {\n",
       "        inline_js[i].call(root, root.Bokeh);\n",
       "      }if (force === true) {\n",
       "        display_loaded();\n",
       "      }} else if (Date.now() < root._bokeh_timeout) {\n",
       "      setTimeout(run_inline_js, 100);\n",
       "    } else if (!root._bokeh_failed_load) {\n",
       "      console.log(\"Bokeh: BokehJS failed to load within specified timeout.\");\n",
       "      root._bokeh_failed_load = true;\n",
       "    } else if (force !== true) {\n",
       "      var cell = $(document.getElementById(\"f36afe9e-37d2-4da3-b3bb-265fdc27451a\")).parents('.cell').data().cell;\n",
       "      cell.output_area.append_execute_result(NB_LOAD_WARNING)\n",
       "    }\n",
       "\n",
       "  }\n",
       "\n",
       "  if (root._bokeh_is_loading === 0) {\n",
       "    console.log(\"Bokeh: BokehJS loaded, going straight to plotting\");\n",
       "    run_inline_js();\n",
       "  } else {\n",
       "    load_libs(js_urls, function() {\n",
       "      console.log(\"Bokeh: BokehJS plotting callback run at\", now());\n",
       "      run_inline_js();\n",
       "    });\n",
       "  }\n",
       "}(window));"
      ],
      "application/vnd.bokehjs_load.v0+json": "\n(function(root) {\n  function now() {\n    return new Date();\n  }\n\n  var force = true;\n\n  if (typeof (root._bokeh_onload_callbacks) === \"undefined\" || force === true) {\n    root._bokeh_onload_callbacks = [];\n    root._bokeh_is_loading = undefined;\n  }\n\n  \n\n  \n  if (typeof (root._bokeh_timeout) === \"undefined\" || force === true) {\n    root._bokeh_timeout = Date.now() + 5000;\n    root._bokeh_failed_load = false;\n  }\n\n  var NB_LOAD_WARNING = {'data': {'text/html':\n     \"<div style='background-color: #fdd'>\\n\"+\n     \"<p>\\n\"+\n     \"BokehJS does not appear to have successfully loaded. If loading BokehJS from CDN, this \\n\"+\n     \"may be due to a slow or bad network connection. Possible fixes:\\n\"+\n     \"</p>\\n\"+\n     \"<ul>\\n\"+\n     \"<li>re-rerun `output_notebook()` to attempt to load from CDN again, or</li>\\n\"+\n     \"<li>use INLINE resources instead, as so:</li>\\n\"+\n     \"</ul>\\n\"+\n     \"<code>\\n\"+\n     \"from bokeh.resources import INLINE\\n\"+\n     \"output_notebook(resources=INLINE)\\n\"+\n     \"</code>\\n\"+\n     \"</div>\"}};\n\n  function display_loaded() {\n    var el = document.getElementById(\"f36afe9e-37d2-4da3-b3bb-265fdc27451a\");\n    if (el != null) {\n      el.textContent = \"BokehJS is loading...\";\n    }\n    if (root.Bokeh !== undefined) {\n      if (el != null) {\n        el.textContent = \"BokehJS \" + root.Bokeh.version + \" successfully loaded.\";\n      }\n    } else if (Date.now() < root._bokeh_timeout) {\n      setTimeout(display_loaded, 100)\n    }\n  }\n\n\n  function run_callbacks() {\n    try {\n      root._bokeh_onload_callbacks.forEach(function(callback) { callback() });\n    }\n    finally {\n      delete root._bokeh_onload_callbacks\n    }\n    console.info(\"Bokeh: all callbacks have finished\");\n  }\n\n  function load_libs(js_urls, callback) {\n    root._bokeh_onload_callbacks.push(callback);\n    if (root._bokeh_is_loading > 0) {\n      console.log(\"Bokeh: BokehJS is being loaded, scheduling callback at\", now());\n      return null;\n    }\n    if (js_urls == null || js_urls.length === 0) {\n      run_callbacks();\n      return null;\n    }\n    console.log(\"Bokeh: BokehJS not loaded, scheduling load and callback at\", now());\n    root._bokeh_is_loading = js_urls.length;\n    for (var i = 0; i < js_urls.length; i++) {\n      var url = js_urls[i];\n      var s = document.createElement('script');\n      s.src = url;\n      s.async = false;\n      s.onreadystatechange = s.onload = function() {\n        root._bokeh_is_loading--;\n        if (root._bokeh_is_loading === 0) {\n          console.log(\"Bokeh: all BokehJS libraries loaded\");\n          run_callbacks()\n        }\n      };\n      s.onerror = function() {\n        console.warn(\"failed to load library \" + url);\n      };\n      console.log(\"Bokeh: injecting script tag for BokehJS library: \", url);\n      document.getElementsByTagName(\"head\")[0].appendChild(s);\n    }\n  };var element = document.getElementById(\"f36afe9e-37d2-4da3-b3bb-265fdc27451a\");\n  if (element == null) {\n    console.log(\"Bokeh: ERROR: autoload.js configured with elementid 'f36afe9e-37d2-4da3-b3bb-265fdc27451a' but no matching script tag was found. \")\n    return false;\n  }\n\n  var js_urls = [\"https://cdn.pydata.org/bokeh/release/bokeh-0.12.14.min.js\", \"https://cdn.pydata.org/bokeh/release/bokeh-widgets-0.12.14.min.js\", \"https://cdn.pydata.org/bokeh/release/bokeh-tables-0.12.14.min.js\", \"https://cdn.pydata.org/bokeh/release/bokeh-gl-0.12.14.min.js\"];\n\n  var inline_js = [\n    function(Bokeh) {\n      Bokeh.set_log_level(\"info\");\n    },\n    \n    function(Bokeh) {\n      \n    },\n    function(Bokeh) {\n      console.log(\"Bokeh: injecting CSS: https://cdn.pydata.org/bokeh/release/bokeh-0.12.14.min.css\");\n      Bokeh.embed.inject_css(\"https://cdn.pydata.org/bokeh/release/bokeh-0.12.14.min.css\");\n      console.log(\"Bokeh: injecting CSS: https://cdn.pydata.org/bokeh/release/bokeh-widgets-0.12.14.min.css\");\n      Bokeh.embed.inject_css(\"https://cdn.pydata.org/bokeh/release/bokeh-widgets-0.12.14.min.css\");\n      console.log(\"Bokeh: injecting CSS: https://cdn.pydata.org/bokeh/release/bokeh-tables-0.12.14.min.css\");\n      Bokeh.embed.inject_css(\"https://cdn.pydata.org/bokeh/release/bokeh-tables-0.12.14.min.css\");\n    }\n  ];\n\n  function run_inline_js() {\n    \n    if ((root.Bokeh !== undefined) || (force === true)) {\n      for (var i = 0; i < inline_js.length; i++) {\n        inline_js[i].call(root, root.Bokeh);\n      }if (force === true) {\n        display_loaded();\n      }} else if (Date.now() < root._bokeh_timeout) {\n      setTimeout(run_inline_js, 100);\n    } else if (!root._bokeh_failed_load) {\n      console.log(\"Bokeh: BokehJS failed to load within specified timeout.\");\n      root._bokeh_failed_load = true;\n    } else if (force !== true) {\n      var cell = $(document.getElementById(\"f36afe9e-37d2-4da3-b3bb-265fdc27451a\")).parents('.cell').data().cell;\n      cell.output_area.append_execute_result(NB_LOAD_WARNING)\n    }\n\n  }\n\n  if (root._bokeh_is_loading === 0) {\n    console.log(\"Bokeh: BokehJS loaded, going straight to plotting\");\n    run_inline_js();\n  } else {\n    load_libs(js_urls, function() {\n      console.log(\"Bokeh: BokehJS plotting callback run at\", now());\n      run_inline_js();\n    });\n  }\n}(window));"
     },
     "metadata": {},
     "output_type": "display_data"
    }
   ],
   "source": [
    "# Add \"beer\" to the PYTHONPATH\n",
    "import sys\n",
    "sys.path.insert(0, '../')\n",
    "\n",
    "import beer\n",
    "import numpy as np\n",
    "import torch\n",
    "\n",
    "# For plotting.\n",
    "from bokeh.io import show, output_notebook\n",
    "from bokeh.plotting import figure, gridplot\n",
    "output_notebook()\n",
    "\n",
    "# Convenience functions for plotting.\n",
    "import plotting\n",
    "\n",
    "%load_ext autoreload\n",
    "%autoreload 2"
   ]
  },
  {
   "cell_type": "markdown",
   "metadata": {},
   "source": [
    "## Data\n",
    "\n",
    "Generate some normally distributed data:"
   ]
  },
  {
   "cell_type": "code",
   "execution_count": 2,
   "metadata": {},
   "outputs": [
    {
     "data": {
      "text/html": [
       "\n",
       "<div class=\"bk-root\">\n",
       "    <div class=\"bk-plotdiv\" id=\"b2679a35-c33d-4d9c-b1f5-194324e7f989\"></div>\n",
       "</div>"
      ]
     },
     "metadata": {},
     "output_type": "display_data"
    },
    {
     "data": {
      "application/javascript": [
       "(function(root) {\n",
       "  function embed_document(root) {\n",
       "    \n",
       "  var docs_json = {\"f7e4f50f-be3b-475e-a08c-2a03b6e216e1\":{\"roots\":{\"references\":[{\"attributes\":{\"data_source\":{\"id\":\"ffa06cda-0149-4924-a78f-7553e8860c08\",\"type\":\"ColumnDataSource\"},\"glyph\":{\"id\":\"1b14417e-fe6b-4b12-b223-0da4e5f4f516\",\"type\":\"Ellipse\"},\"hover_glyph\":null,\"muted_glyph\":null,\"nonselection_glyph\":{\"id\":\"591f7092-909e-4a14-9d10-d622a5e3f2c0\",\"type\":\"Ellipse\"},\"selection_glyph\":null,\"view\":{\"id\":\"762ecf38-dff5-4ed0-a1d4-632b23938b07\",\"type\":\"CDSView\"}},\"id\":\"f1b73d4f-7d4a-4f90-9685-fe9c440d9a53\",\"type\":\"GlyphRenderer\"},{\"attributes\":{\"plot\":null,\"text\":\"Data\"},\"id\":\"8647df2f-a88d-401e-8a39-78dd2e7fe169\",\"type\":\"Title\"},{\"attributes\":{\"callback\":null,\"end\":3.5,\"start\":-6.5},\"id\":\"c89aeeb2-8887-4113-8a95-fb635c5c2585\",\"type\":\"Range1d\"},{\"attributes\":{\"source\":{\"id\":\"ffa06cda-0149-4924-a78f-7553e8860c08\",\"type\":\"ColumnDataSource\"}},\"id\":\"762ecf38-dff5-4ed0-a1d4-632b23938b07\",\"type\":\"CDSView\"},{\"attributes\":{\"callback\":null,\"data\":{}},\"id\":\"c72266fb-701d-4caa-a4d4-3f2cd7b3fce9\",\"type\":\"ColumnDataSource\"},{\"attributes\":{\"fill_color\":{\"value\":\"blue\"},\"line_color\":{\"value\":\"blue\"},\"x\":{\"value\":-1.5},\"y\":{\"value\":4.0}},\"id\":\"6e62bee0-f6c8-4cd2-bb10-679fac4b632c\",\"type\":\"Cross\"},{\"attributes\":{},\"id\":\"f45e391c-2104-474b-9817-4d33160a7411\",\"type\":\"LinearScale\"},{\"attributes\":{\"fill_alpha\":{\"value\":0.1},\"fill_color\":{\"value\":\"#1f77b4\"},\"line_alpha\":{\"value\":0.1},\"line_color\":{\"value\":\"#1f77b4\"},\"x\":{\"value\":-1.5},\"y\":{\"value\":4.0}},\"id\":\"fc7c825d-fb69-45bb-b9e3-a078f2202b1a\",\"type\":\"Cross\"},{\"attributes\":{\"active_drag\":\"auto\",\"active_inspect\":\"auto\",\"active_scroll\":\"auto\",\"active_tap\":\"auto\",\"tools\":[{\"id\":\"9865894f-5956-4396-be13-f249d3a1980c\",\"type\":\"PanTool\"},{\"id\":\"7b74b632-ff58-4089-ba4e-fe5e2ba10484\",\"type\":\"WheelZoomTool\"},{\"id\":\"148a601a-b98e-451a-9d5a-88d9927dd381\",\"type\":\"BoxZoomTool\"},{\"id\":\"aa39e589-ab73-49b0-9985-c1f7bfab98da\",\"type\":\"SaveTool\"},{\"id\":\"e6664f6f-380b-48c8-b720-374f5345f8c6\",\"type\":\"ResetTool\"},{\"id\":\"19b50f7a-4d74-4ee9-9593-c47dd87adfde\",\"type\":\"HelpTool\"}]},\"id\":\"eebb5543-bab1-4500-b723-d5ce3f397bb6\",\"type\":\"Toolbar\"},{\"attributes\":{\"data_source\":{\"id\":\"c72266fb-701d-4caa-a4d4-3f2cd7b3fce9\",\"type\":\"ColumnDataSource\"},\"glyph\":{\"id\":\"6e62bee0-f6c8-4cd2-bb10-679fac4b632c\",\"type\":\"Cross\"},\"hover_glyph\":null,\"muted_glyph\":null,\"nonselection_glyph\":{\"id\":\"fc7c825d-fb69-45bb-b9e3-a078f2202b1a\",\"type\":\"Cross\"},\"selection_glyph\":null,\"view\":{\"id\":\"c0439a19-30bf-4044-a4cf-df719cb1fa88\",\"type\":\"CDSView\"}},\"id\":\"442fa665-4e42-4641-8d57-b9005c7177f3\",\"type\":\"GlyphRenderer\"},{\"attributes\":{\"angle\":{\"units\":\"rad\",\"value\":-1.0646978210692295},\"fill_color\":{\"value\":\"blue\"},\"height\":{\"units\":\"data\",\"value\":3.1964027540390307},\"line_color\":{\"value\":\"blue\"},\"width\":{\"units\":\"data\",\"value\":0.8848782029023531},\"x\":{\"value\":-1.5},\"y\":{\"value\":4.0}},\"id\":\"4996ca84-d3a8-499a-b820-dcdddbdbbe16\",\"type\":\"Ellipse\"},{\"attributes\":{\"callback\":null,\"end\":9.0,\"start\":-1.0},\"id\":\"4e7ef972-dcc7-47c8-ad6f-a60f6fe6ac3c\",\"type\":\"Range1d\"},{\"attributes\":{\"source\":{\"id\":\"c72266fb-701d-4caa-a4d4-3f2cd7b3fce9\",\"type\":\"ColumnDataSource\"}},\"id\":\"c0439a19-30bf-4044-a4cf-df719cb1fa88\",\"type\":\"CDSView\"},{\"attributes\":{},\"id\":\"6cc8b99e-233a-47e0-b726-493a1739a1ba\",\"type\":\"LinearScale\"},{\"attributes\":{\"angle\":{\"units\":\"rad\",\"value\":-1.0646978210692295},\"fill_alpha\":{\"value\":0.1},\"fill_color\":{\"value\":\"#1f77b4\"},\"height\":{\"units\":\"data\",\"value\":3.1964027540390307},\"line_alpha\":{\"value\":0.1},\"line_color\":{\"value\":\"#1f77b4\"},\"width\":{\"units\":\"data\",\"value\":0.8848782029023531},\"x\":{\"value\":-1.5},\"y\":{\"value\":4.0}},\"id\":\"7b37a3ef-8583-4260-97eb-1de2f80cd25f\",\"type\":\"Ellipse\"},{\"attributes\":{\"formatter\":{\"id\":\"5ea1813f-4961-4e1b-8188-8570ec16d49d\",\"type\":\"BasicTickFormatter\"},\"plot\":{\"id\":\"d4fe5259-8413-49fb-868b-922fa2f1efb7\",\"subtype\":\"Figure\",\"type\":\"Plot\"},\"ticker\":{\"id\":\"34a25070-be3f-4385-8ac7-056209664cc8\",\"type\":\"BasicTicker\"}},\"id\":\"256e1896-40c9-419f-9588-74d8df06f385\",\"type\":\"LinearAxis\"},{\"attributes\":{},\"id\":\"34a25070-be3f-4385-8ac7-056209664cc8\",\"type\":\"BasicTicker\"},{\"attributes\":{\"data_source\":{\"id\":\"0b692ad6-accd-497a-8c7f-d4408f6e1b8b\",\"type\":\"ColumnDataSource\"},\"glyph\":{\"id\":\"4996ca84-d3a8-499a-b820-dcdddbdbbe16\",\"type\":\"Ellipse\"},\"hover_glyph\":null,\"muted_glyph\":null,\"nonselection_glyph\":{\"id\":\"7b37a3ef-8583-4260-97eb-1de2f80cd25f\",\"type\":\"Ellipse\"},\"selection_glyph\":null,\"view\":{\"id\":\"98ebac1a-73c4-4d93-bcff-a6dcb29fc64b\",\"type\":\"CDSView\"}},\"id\":\"ac952574-b093-4578-8bd5-62a715f70ff8\",\"type\":\"GlyphRenderer\"},{\"attributes\":{\"plot\":{\"id\":\"d4fe5259-8413-49fb-868b-922fa2f1efb7\",\"subtype\":\"Figure\",\"type\":\"Plot\"},\"ticker\":{\"id\":\"34a25070-be3f-4385-8ac7-056209664cc8\",\"type\":\"BasicTicker\"}},\"id\":\"ee377cd1-19f9-4711-a287-9305986072a8\",\"type\":\"Grid\"},{\"attributes\":{\"source\":{\"id\":\"0b692ad6-accd-497a-8c7f-d4408f6e1b8b\",\"type\":\"ColumnDataSource\"}},\"id\":\"98ebac1a-73c4-4d93-bcff-a6dcb29fc64b\",\"type\":\"CDSView\"},{\"attributes\":{\"formatter\":{\"id\":\"982e8c1b-9bc0-4160-aa6d-ab1e2cc49071\",\"type\":\"BasicTickFormatter\"},\"plot\":{\"id\":\"d4fe5259-8413-49fb-868b-922fa2f1efb7\",\"subtype\":\"Figure\",\"type\":\"Plot\"},\"ticker\":{\"id\":\"5939dcdd-7e9f-4ed6-a27a-59dc21a84e9b\",\"type\":\"BasicTicker\"}},\"id\":\"b82c2ae6-fdaa-4093-891e-d90000149f4c\",\"type\":\"LinearAxis\"},{\"attributes\":{},\"id\":\"5939dcdd-7e9f-4ed6-a27a-59dc21a84e9b\",\"type\":\"BasicTicker\"},{\"attributes\":{\"dimension\":1,\"plot\":{\"id\":\"d4fe5259-8413-49fb-868b-922fa2f1efb7\",\"subtype\":\"Figure\",\"type\":\"Plot\"},\"ticker\":{\"id\":\"5939dcdd-7e9f-4ed6-a27a-59dc21a84e9b\",\"type\":\"BasicTicker\"}},\"id\":\"80ddd554-ae97-4966-bcfd-6f8a6a87ca3a\",\"type\":\"Grid\"},{\"attributes\":{\"bottom_units\":\"screen\",\"fill_alpha\":{\"value\":0.5},\"fill_color\":{\"value\":\"lightgrey\"},\"left_units\":\"screen\",\"level\":\"overlay\",\"line_alpha\":{\"value\":1.0},\"line_color\":{\"value\":\"black\"},\"line_dash\":[4,4],\"line_width\":{\"value\":2},\"plot\":null,\"render_mode\":\"css\",\"right_units\":\"screen\",\"top_units\":\"screen\"},\"id\":\"fce07980-2a1b-42a0-8915-0b1e7d16ec97\",\"type\":\"BoxAnnotation\"},{\"attributes\":{\"fill_color\":{\"value\":\"#1f77b4\"},\"line_color\":{\"value\":\"#1f77b4\"},\"x\":{\"field\":\"x\"},\"y\":{\"field\":\"y\"}},\"id\":\"bdf33c99-fa7b-499f-94fe-905ac9f3c7fc\",\"type\":\"Circle\"},{\"attributes\":{},\"id\":\"9865894f-5956-4396-be13-f249d3a1980c\",\"type\":\"PanTool\"},{\"attributes\":{\"source\":{\"id\":\"79140df4-7017-49c9-a6ec-f4fd1ccaa6b1\",\"type\":\"ColumnDataSource\"}},\"id\":\"63793e7d-dc6b-46b1-b525-d4d27ae446f6\",\"type\":\"CDSView\"},{\"attributes\":{},\"id\":\"7b74b632-ff58-4089-ba4e-fe5e2ba10484\",\"type\":\"WheelZoomTool\"},{\"attributes\":{\"overlay\":{\"id\":\"fce07980-2a1b-42a0-8915-0b1e7d16ec97\",\"type\":\"BoxAnnotation\"}},\"id\":\"148a601a-b98e-451a-9d5a-88d9927dd381\",\"type\":\"BoxZoomTool\"},{\"attributes\":{\"data_source\":{\"id\":\"79140df4-7017-49c9-a6ec-f4fd1ccaa6b1\",\"type\":\"ColumnDataSource\"},\"glyph\":{\"id\":\"bdf33c99-fa7b-499f-94fe-905ac9f3c7fc\",\"type\":\"Circle\"},\"hover_glyph\":null,\"muted_glyph\":null,\"nonselection_glyph\":{\"id\":\"12fcd5b0-d730-4f4a-a840-df2fdce45ed4\",\"type\":\"Circle\"},\"selection_glyph\":null,\"view\":{\"id\":\"63793e7d-dc6b-46b1-b525-d4d27ae446f6\",\"type\":\"CDSView\"}},\"id\":\"1fbd0c2f-f237-4399-a0b4-b3e8e4a1ddb8\",\"type\":\"GlyphRenderer\"},{\"attributes\":{},\"id\":\"aa39e589-ab73-49b0-9985-c1f7bfab98da\",\"type\":\"SaveTool\"},{\"attributes\":{},\"id\":\"e6664f6f-380b-48c8-b720-374f5345f8c6\",\"type\":\"ResetTool\"},{\"attributes\":{\"fill_alpha\":{\"value\":0.1},\"fill_color\":{\"value\":\"#1f77b4\"},\"line_alpha\":{\"value\":0.1},\"line_color\":{\"value\":\"#1f77b4\"},\"x\":{\"field\":\"x\"},\"y\":{\"field\":\"y\"}},\"id\":\"12fcd5b0-d730-4f4a-a840-df2fdce45ed4\",\"type\":\"Circle\"},{\"attributes\":{},\"id\":\"19b50f7a-4d74-4ee9-9593-c47dd87adfde\",\"type\":\"HelpTool\"},{\"attributes\":{},\"id\":\"5ea1813f-4961-4e1b-8188-8570ec16d49d\",\"type\":\"BasicTickFormatter\"},{\"attributes\":{\"angle\":{\"units\":\"rad\",\"value\":-1.0646978210692295},\"fill_alpha\":{\"value\":0.1},\"fill_color\":{\"value\":\"#1f77b4\"},\"height\":{\"units\":\"data\",\"value\":6.3928055080780615},\"line_alpha\":{\"value\":0.1},\"line_color\":{\"value\":\"#1f77b4\"},\"width\":{\"units\":\"data\",\"value\":1.7697564058047062},\"x\":{\"value\":-1.5},\"y\":{\"value\":4.0}},\"id\":\"591f7092-909e-4a14-9d10-d622a5e3f2c0\",\"type\":\"Ellipse\"},{\"attributes\":{\"below\":[{\"id\":\"256e1896-40c9-419f-9588-74d8df06f385\",\"type\":\"LinearAxis\"}],\"left\":[{\"id\":\"b82c2ae6-fdaa-4093-891e-d90000149f4c\",\"type\":\"LinearAxis\"}],\"plot_height\":400,\"plot_width\":400,\"renderers\":[{\"id\":\"256e1896-40c9-419f-9588-74d8df06f385\",\"type\":\"LinearAxis\"},{\"id\":\"ee377cd1-19f9-4711-a287-9305986072a8\",\"type\":\"Grid\"},{\"id\":\"b82c2ae6-fdaa-4093-891e-d90000149f4c\",\"type\":\"LinearAxis\"},{\"id\":\"80ddd554-ae97-4966-bcfd-6f8a6a87ca3a\",\"type\":\"Grid\"},{\"id\":\"fce07980-2a1b-42a0-8915-0b1e7d16ec97\",\"type\":\"BoxAnnotation\"},{\"id\":\"1fbd0c2f-f237-4399-a0b4-b3e8e4a1ddb8\",\"type\":\"GlyphRenderer\"},{\"id\":\"f1b73d4f-7d4a-4f90-9685-fe9c440d9a53\",\"type\":\"GlyphRenderer\"},{\"id\":\"442fa665-4e42-4641-8d57-b9005c7177f3\",\"type\":\"GlyphRenderer\"},{\"id\":\"ac952574-b093-4578-8bd5-62a715f70ff8\",\"type\":\"GlyphRenderer\"}],\"title\":{\"id\":\"8647df2f-a88d-401e-8a39-78dd2e7fe169\",\"type\":\"Title\"},\"toolbar\":{\"id\":\"eebb5543-bab1-4500-b723-d5ce3f397bb6\",\"type\":\"Toolbar\"},\"x_range\":{\"id\":\"c89aeeb2-8887-4113-8a95-fb635c5c2585\",\"type\":\"Range1d\"},\"x_scale\":{\"id\":\"f45e391c-2104-474b-9817-4d33160a7411\",\"type\":\"LinearScale\"},\"y_range\":{\"id\":\"4e7ef972-dcc7-47c8-ad6f-a60f6fe6ac3c\",\"type\":\"Range1d\"},\"y_scale\":{\"id\":\"6cc8b99e-233a-47e0-b726-493a1739a1ba\",\"type\":\"LinearScale\"}},\"id\":\"d4fe5259-8413-49fb-868b-922fa2f1efb7\",\"subtype\":\"Figure\",\"type\":\"Plot\"},{\"attributes\":{},\"id\":\"982e8c1b-9bc0-4160-aa6d-ab1e2cc49071\",\"type\":\"BasicTickFormatter\"},{\"attributes\":{\"callback\":null,\"column_names\":[\"x\",\"y\"],\"data\":{\"x\":{\"__ndarray__\":\"K/88HEi+6L+EYK4NdSsKwEY8fdBZdxPA6M5gVXVYDMBcGagR1bjtv4vGQWYR3fu/YLMSiqNYzz/glsaz4qjUP793eOhg5eW/+AAlMjti+b8DLW7HGQcKwPJQQimegOS/vLeGGXFtAcC2vsXQBagBwLTJwWTYQ/i/bCmrlxOa2r/W7w9cbiIHwFDwjfDe9+O/SUpzt1DD7L9A0Zlunxi9P2IsUoJm6gvAdsuD+QHn779H/UfVxfznv3j3JuCAo/+/BBweKrca7r8U6dG/4CMBwFjnhueKD/o/IYf2KnkLF8A6JF09fvnkvyLnwsXvEfe/vST9a9I9EMA7/+voPGX6vygVW+7Kkf6/RGCItu0eA8D4favs85TRv1asQV/jcvW/7vjXSDQ+CcDKl1HXM6b1v0iE5FgHb/6/VI8yFlSS/L8eZU+Piw4AwHwykkHLVv+/lydV1o0a+L8Jjg6ZY/zzv7jptdZxOgLA/CRAtdFQ878A6KL9PbMDwHo22YYswgTA8oi6pbzd4b+AhT8ZVyORP0q/tQMomAjAktC9ln3uAcBQ9fVH4Q3Pv1S55eha698/DpfjSnhEB8DOP/MpysYGwAh4auEMP9S/UIYYt5UGsD8AaOZzh8vSP/h/CTrWzAHAwAYJe8Cftj/y4tE+igP+v9CJeR5cbuO/aWineiPY5L/iMc0fHSoDwC7mxbCesPq/oNNdQ8qp7z+l+uN/QjABwHQRJxyJJvm/2So9bYDF8r9oayYMUS4GwEefi1vBPve/QRn4xyipDcCsVq/YV4buv0y3aPZMruC/0norZJ0CBsA+jsBPIjXzP7KKLPQN8AbAIENJQ9yU9j9ekiHJRBMRwBb3MwDAnfs/LJ0yJfkR9r8QQe9VeaX1P/BuO137EwHAauA3SjWg6r+Uli0ZCssNwLfKKCMRuwDAHbn8MMmk+r+KcPQIs/r3v7eHM3qDCQ3AiA6zP2dt4j/uNEXiHd35P3wC737zK9G/zP1mT2N79L9Uu2XrGvcGwPCAHDVH2vO/C6h3ecYO+b/DS/BMHQXuv/Yyd3Fc0vy/yPSF2bGQ+b8=\",\"dtype\":\"float64\",\"shape\":[100]},\"y\":{\"__ndarray__\":\"SD5MmXP+E0AU9cDdyDv7P8RJkjlUgu4/p3X7la14CECS/M6a2BgJQP/AFOt6hw5A2lgmeCI1FEDYd1MJ0vUTQNzM6h5s+g5A4ktGNVZREEA4KZ5Fy+oPQNuml/Kp+hNAsrnkDdReCkCnnbOUOnwMQHJO4uIc9A5AD3H7A7r+E0Al9zbWyVIKQEgE8WAV/hBAAxCfHTReEkCZl1kanGoRQGMC5RF2sAdAeMFs9rMEEkDaQGHz9ZIJQATyjp+9jhFA+KIYB7UtDUDEx9vGaPwRQNg/fOTd7xdAIGmKluuy9z9ECURWx8cRQHHY7URemxJAfrRqQyVFC0D22L6/LJwRQJyuJ3bArwpA9F5Y83K4CkDweoeNFmQPQIdL0oK1YA9A1nQx0LO3DUB2vNUVTi4BQNHSh/pqggxA0fJhlOY4E0CHj/F2iPQPQLb1N5USixBALQ6/0QmvDED3S/O/bDsLQPI6mQtq1g5AYHXemuCID0BksnoYbw0PQFgtpKzrnBBA9z1Yx1iwEEAhmX3il2oQQO5q5KEZuwVAKm3EFvgvDkC29W31jOMTQDQwPgsLqRVAYE7ANoC6CkB4dznVjOwCQK29tf7ERA9A65x/CY0EE0BtIFz3Lw8XQPmDSR53Bw5AHsvrPjZMFEDm0MIImzQSQLjhKPvMlxBAQMrwE3X1EUANRL2sZWoLQBSZ3lroVwVA5tv8rH/5FkD6uY9RTTUTQNYG3DtULxNA4p6hPTqSEUAqw4qaaQsFQAqyBkzRcg9AFsN/RCYKCEC7gd76XIEXQMZiQ430OhZA7yXb02eoEEBiAOZP9xcYQFolI4JS3QlASw1yxpYwFkB6LpS6088JQD39g8rNzBNAcyLYyM9SEUB1YKFSFhUWQH6h3/s/wghAJ0R0FDHIEUBLGEBVN1YKQKnVvr8Zkg9Arr3deyt5DkB5ZHxNYukQQDLpXtS5fgRAQXQ26JPiFEB/y5vKGfQWQMKxOHZudhNA6/I72zaMEEDoNdV4kz0IQEno9sQdEhFAyhLZDFCsD0BkbzojR/QRQKuHAPkcAxJArAuGFKvcEUA=\",\"dtype\":\"float64\",\"shape\":[100]}}},\"id\":\"79140df4-7017-49c9-a6ec-f4fd1ccaa6b1\",\"type\":\"ColumnDataSource\"},{\"attributes\":{\"callback\":null,\"data\":{}},\"id\":\"0b692ad6-accd-497a-8c7f-d4408f6e1b8b\",\"type\":\"ColumnDataSource\"},{\"attributes\":{\"callback\":null,\"data\":{}},\"id\":\"ffa06cda-0149-4924-a78f-7553e8860c08\",\"type\":\"ColumnDataSource\"},{\"attributes\":{\"angle\":{\"units\":\"rad\",\"value\":-1.0646978210692295},\"fill_alpha\":{\"value\":0.5},\"fill_color\":{\"value\":\"blue\"},\"height\":{\"units\":\"data\",\"value\":6.3928055080780615},\"line_alpha\":{\"value\":0.5},\"line_color\":{\"value\":\"blue\"},\"width\":{\"units\":\"data\",\"value\":1.7697564058047062},\"x\":{\"value\":-1.5},\"y\":{\"value\":4.0}},\"id\":\"1b14417e-fe6b-4b12-b223-0da4e5f4f516\",\"type\":\"Ellipse\"}],\"root_ids\":[\"d4fe5259-8413-49fb-868b-922fa2f1efb7\"]},\"title\":\"Bokeh Application\",\"version\":\"0.12.14\"}};\n",
       "  var render_items = [{\"docid\":\"f7e4f50f-be3b-475e-a08c-2a03b6e216e1\",\"elementid\":\"b2679a35-c33d-4d9c-b1f5-194324e7f989\",\"modelid\":\"d4fe5259-8413-49fb-868b-922fa2f1efb7\"}];\n",
       "  root.Bokeh.embed.embed_items_notebook(docs_json, render_items);\n",
       "\n",
       "  }\n",
       "  if (root.Bokeh !== undefined) {\n",
       "    embed_document(root);\n",
       "  } else {\n",
       "    var attempts = 0;\n",
       "    var timer = setInterval(function(root) {\n",
       "      if (root.Bokeh !== undefined) {\n",
       "        embed_document(root);\n",
       "        clearInterval(timer);\n",
       "      }\n",
       "      attempts++;\n",
       "      if (attempts > 100) {\n",
       "        console.log(\"Bokeh: ERROR: Unable to run BokehJS code because BokehJS library is missing\")\n",
       "        clearInterval(timer);\n",
       "      }\n",
       "    }, 10, root)\n",
       "  }\n",
       "})(window);"
      ],
      "application/vnd.bokehjs_exec.v0+json": ""
     },
     "metadata": {
      "application/vnd.bokehjs_exec.v0+json": {
       "id": "d4fe5259-8413-49fb-868b-922fa2f1efb7"
      }
     },
     "output_type": "display_data"
    }
   ],
   "source": [
    "mean = np.array([-1.5, 4]) \n",
    "cov = np.array([\n",
    "    [2, 1],\n",
    "    [1, .75]\n",
    "])\n",
    "data = np.random.multivariate_normal(mean, cov, size=100)\n",
    "\n",
    "fig = figure(\n",
    "    title='Data',\n",
    "    width=400,\n",
    "    height=400,\n",
    "    x_range=(mean[0] - 5, mean[0] + 5),\n",
    "    y_range=(mean[1] - 5, mean[1] + 5)\n",
    ")\n",
    "fig.circle(data[:, 0], data[:, 1])\n",
    "plotting.plot_normal(fig, mean, cov)\n",
    "\n",
    "show(fig)"
   ]
  },
  {
   "cell_type": "markdown",
   "metadata": {},
   "source": [
    "## Model Creation\n",
    "\n",
    "We create two types of Normal distribution: one diagonal covariance matrix and another one with full covariance matrix."
   ]
  },
  {
   "cell_type": "code",
   "execution_count": 3,
   "metadata": {},
   "outputs": [],
   "source": [
    "normal_diag = beer.NormalDiagonalCovariance.create(torch.ones(2), torch.eye(2), prior_count=1e-3)\n",
    "normal_full = beer.NormalFullCovariance.create(torch.zeros(2), torch.eye(2), prior_count=1e-3)"
   ]
  },
  {
   "cell_type": "markdown",
   "metadata": {},
   "source": [
    "## Variational Bayes Training "
   ]
  },
  {
   "cell_type": "code",
   "execution_count": 4,
   "metadata": {
    "scrolled": false
   },
   "outputs": [
    {
     "name": "stderr",
     "output_type": "stream",
     "text": [
      "/Users/lucasondel/anaconda3/envs/pytorch_src/lib/python3.6/site-packages/bokeh/core/json_encoder.py:80: FutureWarning: Conversion of the second argument of issubdtype from `float` to `np.floating` is deprecated. In future, it will be treated as `np.float64 == np.dtype(float).type`.\n",
      "  elif np.issubdtype(type(obj), np.float):\n"
     ]
    },
    {
     "data": {
      "text/html": [
       "\n",
       "<div class=\"bk-root\">\n",
       "    <div class=\"bk-plotdiv\" id=\"afce8c91-0eb0-407b-b3ba-f95ee12b6318\"></div>\n",
       "</div>"
      ]
     },
     "metadata": {},
     "output_type": "display_data"
    },
    {
     "data": {
      "application/javascript": [
       "(function(root) {\n",
       "  function embed_document(root) {\n",
       "    \n",
       "  var docs_json = {\"cd02a7b2-b229-465e-b1b2-f69bd30602ec\":{\"roots\":{\"references\":[{\"attributes\":{\"source\":{\"id\":\"ce247484-5939-4b06-a294-142cc4837e0d\",\"type\":\"ColumnDataSource\"}},\"id\":\"f4e39ce7-a2e4-41c0-be4e-41a999d2cd35\",\"type\":\"CDSView\"},{\"attributes\":{\"data_source\":{\"id\":\"326f630b-18e3-488a-bc90-1b1e7d2f9cec\",\"type\":\"ColumnDataSource\"},\"glyph\":{\"id\":\"84c8f29b-be7d-41e3-ae93-6d97db85b5c8\",\"type\":\"Ellipse\"},\"hover_glyph\":null,\"muted_glyph\":null,\"nonselection_glyph\":{\"id\":\"34bbbd4c-04dd-4d9c-81ca-b060cf7be68e\",\"type\":\"Ellipse\"},\"selection_glyph\":null,\"view\":{\"id\":\"9feffc1a-6de7-40cc-803d-9060afa3fdc2\",\"type\":\"CDSView\"}},\"id\":\"17e59ff6-4d6b-451a-bce5-2cc91b061c74\",\"type\":\"GlyphRenderer\"},{\"attributes\":{\"data_source\":{\"id\":\"70e00b74-7cf7-4d79-b723-22e4e5842030\",\"type\":\"ColumnDataSource\"},\"glyph\":{\"id\":\"33a83555-19c8-4eaf-b6e2-71467c19fb93\",\"type\":\"Ellipse\"},\"hover_glyph\":null,\"muted_glyph\":null,\"nonselection_glyph\":{\"id\":\"fc4d6db5-8489-4204-b2d9-8f32e5eea8e5\",\"type\":\"Ellipse\"},\"selection_glyph\":null,\"view\":{\"id\":\"5d7cf0b1-5756-4755-86f1-d360ed9fb064\",\"type\":\"CDSView\"}},\"id\":\"8e9fae2a-c2a0-4216-9754-dab29817d19d\",\"type\":\"GlyphRenderer\"},{\"attributes\":{},\"id\":\"6cfea007-cee3-49cf-821d-b4ea43b9a794\",\"type\":\"LinearScale\"},{\"attributes\":{},\"id\":\"3795f20a-e29d-4842-bf18-96e2d309493d\",\"type\":\"HelpTool\"},{\"attributes\":{},\"id\":\"5d2f85a7-9fe3-4c72-beaf-1e5780c138d3\",\"type\":\"BasicTickFormatter\"},{\"attributes\":{\"data_source\":{\"id\":\"ce247484-5939-4b06-a294-142cc4837e0d\",\"type\":\"ColumnDataSource\"},\"glyph\":{\"id\":\"817bc746-e36a-4630-a0df-5cd5a133b9e6\",\"type\":\"Cross\"},\"hover_glyph\":null,\"muted_glyph\":null,\"nonselection_glyph\":{\"id\":\"de267b57-5025-43ac-9f1c-8c6e0d8bef11\",\"type\":\"Cross\"},\"selection_glyph\":null,\"view\":{\"id\":\"f4e39ce7-a2e4-41c0-be4e-41a999d2cd35\",\"type\":\"CDSView\"}},\"id\":\"bb5772c4-b335-4a6b-ab43-b547d5dd4eac\",\"type\":\"GlyphRenderer\"},{\"attributes\":{\"callback\":null,\"data\":{}},\"id\":\"326f630b-18e3-488a-bc90-1b1e7d2f9cec\",\"type\":\"ColumnDataSource\"},{\"attributes\":{\"fill_alpha\":{\"value\":0.1},\"fill_color\":{\"value\":\"#1f77b4\"},\"line_alpha\":{\"value\":0.1},\"line_color\":{\"value\":\"#1f77b4\"},\"x\":{\"value\":-1.4743796586990356},\"y\":{\"value\":4.053102016448975}},\"id\":\"c469aae9-4a35-4e40-856a-13a0e110eb12\",\"type\":\"Cross\"},{\"attributes\":{\"dimension\":1,\"plot\":{\"id\":\"ea19f7e8-908f-4b2c-a2b4-8e31a71fe1b9\",\"subtype\":\"Figure\",\"type\":\"Plot\"},\"ticker\":{\"id\":\"2c19bd33-d77b-4c97-9bf4-cc65ead42a8f\",\"type\":\"BasicTicker\"}},\"id\":\"bea3d57f-cce1-49ec-b968-b7d6917ad304\",\"type\":\"Grid\"},{\"attributes\":{\"callback\":null,\"data\":{}},\"id\":\"ef60eae7-dfcf-4c40-94c9-9b30b6fa03ba\",\"type\":\"ColumnDataSource\"},{\"attributes\":{},\"id\":\"2c19bd33-d77b-4c97-9bf4-cc65ead42a8f\",\"type\":\"BasicTicker\"},{\"attributes\":{},\"id\":\"4a45eed5-1a8a-419c-a7fa-855343d21148\",\"type\":\"BasicTicker\"},{\"attributes\":{\"angle\":{\"units\":\"rad\",\"value\":-1.5707963267948966},\"fill_alpha\":{\"value\":0.5},\"fill_color\":{\"value\":\"red\"},\"height\":{\"units\":\"data\",\"value\":2.861652135848999},\"line_alpha\":{\"value\":0.5},\"line_color\":{\"value\":\"red\"},\"width\":{\"units\":\"data\",\"value\":1.9279526472091675},\"x\":{\"value\":-1.4743796586990356},\"y\":{\"value\":4.053102016448975}},\"id\":\"8de3aea6-491f-4d95-98bd-4db2c623f837\",\"type\":\"Ellipse\"},{\"attributes\":{\"formatter\":{\"id\":\"5d2f85a7-9fe3-4c72-beaf-1e5780c138d3\",\"type\":\"BasicTickFormatter\"},\"plot\":{\"id\":\"ea19f7e8-908f-4b2c-a2b4-8e31a71fe1b9\",\"subtype\":\"Figure\",\"type\":\"Plot\"},\"ticker\":{\"id\":\"2c19bd33-d77b-4c97-9bf4-cc65ead42a8f\",\"type\":\"BasicTicker\"}},\"id\":\"ebb8e032-2b3f-482b-8251-32620e651504\",\"type\":\"LinearAxis\"},{\"attributes\":{\"fill_alpha\":{\"value\":0.5},\"fill_color\":{\"value\":\"red\"},\"line_alpha\":{\"value\":0.5},\"line_color\":{\"value\":\"red\"},\"x\":{\"value\":-1.4743796586990356},\"y\":{\"value\":4.053102016448975}},\"id\":\"056885d0-eb0d-4259-bbf6-2a2edae35873\",\"type\":\"Cross\"},{\"attributes\":{\"source\":{\"id\":\"cc2366bb-4ddd-4cf6-a215-e9c16c02da97\",\"type\":\"ColumnDataSource\"}},\"id\":\"7a4daf57-78be-4ed3-8658-9c16ba606611\",\"type\":\"CDSView\"},{\"attributes\":{\"formatter\":{\"id\":\"d3d9c062-6823-482e-b5fc-756bbd78aa8e\",\"type\":\"BasicTickFormatter\"},\"plot\":{\"id\":\"ea19f7e8-908f-4b2c-a2b4-8e31a71fe1b9\",\"subtype\":\"Figure\",\"type\":\"Plot\"},\"ticker\":{\"id\":\"4a45eed5-1a8a-419c-a7fa-855343d21148\",\"type\":\"BasicTicker\"}},\"id\":\"8ccaa464-b08f-4ad8-8b3c-c113a963374d\",\"type\":\"LinearAxis\"},{\"attributes\":{\"angle\":{\"units\":\"rad\",\"value\":-1.5707963267948966},\"fill_alpha\":{\"value\":0.1},\"fill_color\":{\"value\":\"#1f77b4\"},\"height\":{\"units\":\"data\",\"value\":2.861652135848999},\"line_alpha\":{\"value\":0.1},\"line_color\":{\"value\":\"#1f77b4\"},\"width\":{\"units\":\"data\",\"value\":1.9279526472091675},\"x\":{\"value\":-1.4743796586990356},\"y\":{\"value\":4.053102016448975}},\"id\":\"bbf3a3ad-414e-454c-8daa-3591f5f398fa\",\"type\":\"Ellipse\"},{\"attributes\":{\"plot\":{\"id\":\"ea19f7e8-908f-4b2c-a2b4-8e31a71fe1b9\",\"subtype\":\"Figure\",\"type\":\"Plot\"},\"ticker\":{\"id\":\"4a45eed5-1a8a-419c-a7fa-855343d21148\",\"type\":\"BasicTicker\"}},\"id\":\"fbccfa4d-ad10-428e-9a87-d55673891566\",\"type\":\"Grid\"},{\"attributes\":{\"data_source\":{\"id\":\"cc2366bb-4ddd-4cf6-a215-e9c16c02da97\",\"type\":\"ColumnDataSource\"},\"glyph\":{\"id\":\"056885d0-eb0d-4259-bbf6-2a2edae35873\",\"type\":\"Cross\"},\"hover_glyph\":null,\"muted_glyph\":null,\"nonselection_glyph\":{\"id\":\"c469aae9-4a35-4e40-856a-13a0e110eb12\",\"type\":\"Cross\"},\"selection_glyph\":null,\"view\":{\"id\":\"7a4daf57-78be-4ed3-8658-9c16ba606611\",\"type\":\"CDSView\"}},\"id\":\"5c3bfaf4-f69a-49f9-8e52-6f7afd8aa532\",\"type\":\"GlyphRenderer\"},{\"attributes\":{},\"id\":\"55d52383-1799-4ecc-b242-5bf52a4edec7\",\"type\":\"LinearScale\"},{\"attributes\":{\"fill_alpha\":{\"value\":0.1},\"fill_color\":{\"value\":\"#1f77b4\"},\"line_alpha\":{\"value\":0.1},\"line_color\":{\"value\":\"#1f77b4\"},\"x\":{\"field\":\"x\"},\"y\":{\"field\":\"y\"}},\"id\":\"b22b4f86-7072-4e63-a710-bc5996f0514a\",\"type\":\"Circle\"},{\"attributes\":{\"callback\":null,\"data\":{}},\"id\":\"cc2366bb-4ddd-4cf6-a215-e9c16c02da97\",\"type\":\"ColumnDataSource\"},{\"attributes\":{\"active_drag\":\"auto\",\"active_inspect\":\"auto\",\"active_scroll\":\"auto\",\"active_tap\":\"auto\",\"tools\":[{\"id\":\"65d04b35-0f54-4b87-8377-6ab1b3055f5f\",\"type\":\"PanTool\"},{\"id\":\"4b685340-3cbe-4218-89f7-ed911690c054\",\"type\":\"WheelZoomTool\"},{\"id\":\"2a03bbda-c97b-4b2f-99e9-5fa46eb04391\",\"type\":\"BoxZoomTool\"},{\"id\":\"8c300472-5f59-48fb-8fff-eac62da42e6c\",\"type\":\"SaveTool\"},{\"id\":\"a28febd2-5a12-4341-bcd4-329d79abf887\",\"type\":\"ResetTool\"},{\"id\":\"3795f20a-e29d-4842-bf18-96e2d309493d\",\"type\":\"HelpTool\"}]},\"id\":\"870a55d9-37e7-4b2b-97d1-d22dbf6960aa\",\"type\":\"Toolbar\"},{\"attributes\":{\"source\":{\"id\":\"326f630b-18e3-488a-bc90-1b1e7d2f9cec\",\"type\":\"ColumnDataSource\"}},\"id\":\"9feffc1a-6de7-40cc-803d-9060afa3fdc2\",\"type\":\"CDSView\"},{\"attributes\":{\"callback\":null,\"end\":3.5,\"start\":-6.5},\"id\":\"81ea3e03-b1c4-4411-ad2e-b86002f12a33\",\"type\":\"Range1d\"},{\"attributes\":{\"plot\":null,\"text\":\"Initial model\"},\"id\":\"2433f8d8-4048-4cfe-a438-ace0c3b7a7e8\",\"type\":\"Title\"},{\"attributes\":{\"callback\":null,\"data\":{}},\"id\":\"6b8f523d-f187-476b-879c-f4fb85ec7057\",\"type\":\"ColumnDataSource\"},{\"attributes\":{\"source\":{\"id\":\"f5114f9e-6953-440a-af4e-e2c0022e3dce\",\"type\":\"ColumnDataSource\"}},\"id\":\"57ee9856-a511-42eb-9627-aebc8da3ae2e\",\"type\":\"CDSView\"},{\"attributes\":{\"source\":{\"id\":\"70e00b74-7cf7-4d79-b723-22e4e5842030\",\"type\":\"ColumnDataSource\"}},\"id\":\"5d7cf0b1-5756-4755-86f1-d360ed9fb064\",\"type\":\"CDSView\"},{\"attributes\":{\"below\":[{\"id\":\"8ccaa464-b08f-4ad8-8b3c-c113a963374d\",\"type\":\"LinearAxis\"}],\"left\":[{\"id\":\"ebb8e032-2b3f-482b-8251-32620e651504\",\"type\":\"LinearAxis\"}],\"plot_height\":400,\"plot_width\":400,\"renderers\":[{\"id\":\"8ccaa464-b08f-4ad8-8b3c-c113a963374d\",\"type\":\"LinearAxis\"},{\"id\":\"fbccfa4d-ad10-428e-9a87-d55673891566\",\"type\":\"Grid\"},{\"id\":\"ebb8e032-2b3f-482b-8251-32620e651504\",\"type\":\"LinearAxis\"},{\"id\":\"bea3d57f-cce1-49ec-b968-b7d6917ad304\",\"type\":\"Grid\"},{\"id\":\"b46834d8-71d7-46d5-bd66-4eed52559d12\",\"type\":\"BoxAnnotation\"},{\"id\":\"7d58dd26-355f-4be2-98e4-13533f56c2b0\",\"type\":\"GlyphRenderer\"},{\"id\":\"8e9fae2a-c2a0-4216-9754-dab29817d19d\",\"type\":\"GlyphRenderer\"},{\"id\":\"5c3bfaf4-f69a-49f9-8e52-6f7afd8aa532\",\"type\":\"GlyphRenderer\"},{\"id\":\"df569b73-8459-4ed0-a2bf-eb43df34aa15\",\"type\":\"GlyphRenderer\"},{\"id\":\"cb17b99e-c8d2-491a-bbf5-e53818bafaea\",\"type\":\"GlyphRenderer\"},{\"id\":\"bb5772c4-b335-4a6b-ab43-b547d5dd4eac\",\"type\":\"GlyphRenderer\"},{\"id\":\"17e59ff6-4d6b-451a-bce5-2cc91b061c74\",\"type\":\"GlyphRenderer\"}],\"title\":{\"id\":\"2433f8d8-4048-4cfe-a438-ace0c3b7a7e8\",\"type\":\"Title\"},\"toolbar\":{\"id\":\"870a55d9-37e7-4b2b-97d1-d22dbf6960aa\",\"type\":\"Toolbar\"},\"x_range\":{\"id\":\"81ea3e03-b1c4-4411-ad2e-b86002f12a33\",\"type\":\"Range1d\"},\"x_scale\":{\"id\":\"6cfea007-cee3-49cf-821d-b4ea43b9a794\",\"type\":\"LinearScale\"},\"y_range\":{\"id\":\"bcf4a10c-0485-46a8-87d5-19f96fc18837\",\"type\":\"Range1d\"},\"y_scale\":{\"id\":\"55d52383-1799-4ecc-b242-5bf52a4edec7\",\"type\":\"LinearScale\"}},\"id\":\"ea19f7e8-908f-4b2c-a2b4-8e31a71fe1b9\",\"subtype\":\"Figure\",\"type\":\"Plot\"},{\"attributes\":{},\"id\":\"d3d9c062-6823-482e-b5fc-756bbd78aa8e\",\"type\":\"BasicTickFormatter\"},{\"attributes\":{\"callback\":null,\"column_names\":[\"x\",\"y\"],\"data\":{\"x\":{\"__ndarray__\":\"K/88HEi+6L+EYK4NdSsKwEY8fdBZdxPA6M5gVXVYDMBcGagR1bjtv4vGQWYR3fu/YLMSiqNYzz/glsaz4qjUP793eOhg5eW/+AAlMjti+b8DLW7HGQcKwPJQQimegOS/vLeGGXFtAcC2vsXQBagBwLTJwWTYQ/i/bCmrlxOa2r/W7w9cbiIHwFDwjfDe9+O/SUpzt1DD7L9A0Zlunxi9P2IsUoJm6gvAdsuD+QHn779H/UfVxfznv3j3JuCAo/+/BBweKrca7r8U6dG/4CMBwFjnhueKD/o/IYf2KnkLF8A6JF09fvnkvyLnwsXvEfe/vST9a9I9EMA7/+voPGX6vygVW+7Kkf6/RGCItu0eA8D4favs85TRv1asQV/jcvW/7vjXSDQ+CcDKl1HXM6b1v0iE5FgHb/6/VI8yFlSS/L8eZU+Piw4AwHwykkHLVv+/lydV1o0a+L8Jjg6ZY/zzv7jptdZxOgLA/CRAtdFQ878A6KL9PbMDwHo22YYswgTA8oi6pbzd4b+AhT8ZVyORP0q/tQMomAjAktC9ln3uAcBQ9fVH4Q3Pv1S55eha698/DpfjSnhEB8DOP/MpysYGwAh4auEMP9S/UIYYt5UGsD8AaOZzh8vSP/h/CTrWzAHAwAYJe8Cftj/y4tE+igP+v9CJeR5cbuO/aWineiPY5L/iMc0fHSoDwC7mxbCesPq/oNNdQ8qp7z+l+uN/QjABwHQRJxyJJvm/2So9bYDF8r9oayYMUS4GwEefi1vBPve/QRn4xyipDcCsVq/YV4buv0y3aPZMruC/0norZJ0CBsA+jsBPIjXzP7KKLPQN8AbAIENJQ9yU9j9ekiHJRBMRwBb3MwDAnfs/LJ0yJfkR9r8QQe9VeaX1P/BuO137EwHAauA3SjWg6r+Uli0ZCssNwLfKKCMRuwDAHbn8MMmk+r+KcPQIs/r3v7eHM3qDCQ3AiA6zP2dt4j/uNEXiHd35P3wC737zK9G/zP1mT2N79L9Uu2XrGvcGwPCAHDVH2vO/C6h3ecYO+b/DS/BMHQXuv/Yyd3Fc0vy/yPSF2bGQ+b8=\",\"dtype\":\"float64\",\"shape\":[100]},\"y\":{\"__ndarray__\":\"SD5MmXP+E0AU9cDdyDv7P8RJkjlUgu4/p3X7la14CECS/M6a2BgJQP/AFOt6hw5A2lgmeCI1FEDYd1MJ0vUTQNzM6h5s+g5A4ktGNVZREEA4KZ5Fy+oPQNuml/Kp+hNAsrnkDdReCkCnnbOUOnwMQHJO4uIc9A5AD3H7A7r+E0Al9zbWyVIKQEgE8WAV/hBAAxCfHTReEkCZl1kanGoRQGMC5RF2sAdAeMFs9rMEEkDaQGHz9ZIJQATyjp+9jhFA+KIYB7UtDUDEx9vGaPwRQNg/fOTd7xdAIGmKluuy9z9ECURWx8cRQHHY7URemxJAfrRqQyVFC0D22L6/LJwRQJyuJ3bArwpA9F5Y83K4CkDweoeNFmQPQIdL0oK1YA9A1nQx0LO3DUB2vNUVTi4BQNHSh/pqggxA0fJhlOY4E0CHj/F2iPQPQLb1N5USixBALQ6/0QmvDED3S/O/bDsLQPI6mQtq1g5AYHXemuCID0BksnoYbw0PQFgtpKzrnBBA9z1Yx1iwEEAhmX3il2oQQO5q5KEZuwVAKm3EFvgvDkC29W31jOMTQDQwPgsLqRVAYE7ANoC6CkB4dznVjOwCQK29tf7ERA9A65x/CY0EE0BtIFz3Lw8XQPmDSR53Bw5AHsvrPjZMFEDm0MIImzQSQLjhKPvMlxBAQMrwE3X1EUANRL2sZWoLQBSZ3lroVwVA5tv8rH/5FkD6uY9RTTUTQNYG3DtULxNA4p6hPTqSEUAqw4qaaQsFQAqyBkzRcg9AFsN/RCYKCEC7gd76XIEXQMZiQ430OhZA7yXb02eoEEBiAOZP9xcYQFolI4JS3QlASw1yxpYwFkB6LpS6088JQD39g8rNzBNAcyLYyM9SEUB1YKFSFhUWQH6h3/s/wghAJ0R0FDHIEUBLGEBVN1YKQKnVvr8Zkg9Arr3deyt5DkB5ZHxNYukQQDLpXtS5fgRAQXQ26JPiFEB/y5vKGfQWQMKxOHZudhNA6/I72zaMEEDoNdV4kz0IQEno9sQdEhFAyhLZDFCsD0BkbzojR/QRQKuHAPkcAxJArAuGFKvcEUA=\",\"dtype\":\"float64\",\"shape\":[100]}}},\"id\":\"f5114f9e-6953-440a-af4e-e2c0022e3dce\",\"type\":\"ColumnDataSource\"},{\"attributes\":{\"source\":{\"id\":\"ef60eae7-dfcf-4c40-94c9-9b30b6fa03ba\",\"type\":\"ColumnDataSource\"}},\"id\":\"f27e3d70-fe23-4d06-8f3d-b67659be8243\",\"type\":\"CDSView\"},{\"attributes\":{\"callback\":null,\"end\":9.0,\"start\":-1.0},\"id\":\"bcf4a10c-0485-46a8-87d5-19f96fc18837\",\"type\":\"Range1d\"},{\"attributes\":{\"angle\":{\"units\":\"rad\",\"value\":-1.5707963267948966},\"fill_alpha\":{\"value\":0.1},\"fill_color\":{\"value\":\"#1f77b4\"},\"height\":{\"units\":\"data\",\"value\":5.723304271697998},\"line_alpha\":{\"value\":0.1},\"line_color\":{\"value\":\"#1f77b4\"},\"width\":{\"units\":\"data\",\"value\":3.855905294418335},\"x\":{\"value\":-1.4743796586990356},\"y\":{\"value\":4.053102016448975}},\"id\":\"fc4d6db5-8489-4204-b2d9-8f32e5eea8e5\",\"type\":\"Ellipse\"},{\"attributes\":{\"callback\":null,\"data\":{}},\"id\":\"70e00b74-7cf7-4d79-b723-22e4e5842030\",\"type\":\"ColumnDataSource\"},{\"attributes\":{\"angle\":{\"units\":\"rad\",\"value\":-1.0221047401428223},\"fill_alpha\":{\"value\":0.25},\"fill_color\":{\"value\":\"green\"},\"height\":{\"units\":\"data\",\"value\":6.549073696136475},\"line_alpha\":{\"value\":0.25},\"line_color\":{\"value\":\"green\"},\"width\":{\"units\":\"data\",\"value\":2.1042990684509277},\"x\":{\"value\":-1.4743911027908325},\"y\":{\"value\":4.053091049194336}},\"id\":\"71b2cbd2-2a02-4864-a69c-43c9a3305c8e\",\"type\":\"Ellipse\"},{\"attributes\":{\"bottom_units\":\"screen\",\"fill_alpha\":{\"value\":0.5},\"fill_color\":{\"value\":\"lightgrey\"},\"left_units\":\"screen\",\"level\":\"overlay\",\"line_alpha\":{\"value\":1.0},\"line_color\":{\"value\":\"black\"},\"line_dash\":[4,4],\"line_width\":{\"value\":2},\"plot\":null,\"render_mode\":\"css\",\"right_units\":\"screen\",\"top_units\":\"screen\"},\"id\":\"b46834d8-71d7-46d5-bd66-4eed52559d12\",\"type\":\"BoxAnnotation\"},{\"attributes\":{\"data_source\":{\"id\":\"f5114f9e-6953-440a-af4e-e2c0022e3dce\",\"type\":\"ColumnDataSource\"},\"glyph\":{\"id\":\"b1d52348-9a19-46cf-bf88-92fe995a910c\",\"type\":\"Circle\"},\"hover_glyph\":null,\"muted_glyph\":null,\"nonselection_glyph\":{\"id\":\"b22b4f86-7072-4e63-a710-bc5996f0514a\",\"type\":\"Circle\"},\"selection_glyph\":null,\"view\":{\"id\":\"57ee9856-a511-42eb-9627-aebc8da3ae2e\",\"type\":\"CDSView\"}},\"id\":\"7d58dd26-355f-4be2-98e4-13533f56c2b0\",\"type\":\"GlyphRenderer\"},{\"attributes\":{\"data_source\":{\"id\":\"ef60eae7-dfcf-4c40-94c9-9b30b6fa03ba\",\"type\":\"ColumnDataSource\"},\"glyph\":{\"id\":\"8de3aea6-491f-4d95-98bd-4db2c623f837\",\"type\":\"Ellipse\"},\"hover_glyph\":null,\"muted_glyph\":null,\"nonselection_glyph\":{\"id\":\"bbf3a3ad-414e-454c-8daa-3591f5f398fa\",\"type\":\"Ellipse\"},\"selection_glyph\":null,\"view\":{\"id\":\"f27e3d70-fe23-4d06-8f3d-b67659be8243\",\"type\":\"CDSView\"}},\"id\":\"df569b73-8459-4ed0-a2bf-eb43df34aa15\",\"type\":\"GlyphRenderer\"},{\"attributes\":{\"fill_color\":{\"value\":\"#1f77b4\"},\"line_color\":{\"value\":\"#1f77b4\"},\"x\":{\"field\":\"x\"},\"y\":{\"field\":\"y\"}},\"id\":\"b1d52348-9a19-46cf-bf88-92fe995a910c\",\"type\":\"Circle\"},{\"attributes\":{\"callback\":null,\"data\":{}},\"id\":\"ce247484-5939-4b06-a294-142cc4837e0d\",\"type\":\"ColumnDataSource\"},{\"attributes\":{},\"id\":\"a28febd2-5a12-4341-bcd4-329d79abf887\",\"type\":\"ResetTool\"},{\"attributes\":{\"fill_alpha\":{\"value\":0.5},\"fill_color\":{\"value\":\"green\"},\"line_alpha\":{\"value\":0.5},\"line_color\":{\"value\":\"green\"},\"x\":{\"value\":-1.4743911027908325},\"y\":{\"value\":4.053091049194336}},\"id\":\"817bc746-e36a-4630-a0df-5cd5a133b9e6\",\"type\":\"Cross\"},{\"attributes\":{},\"id\":\"8c300472-5f59-48fb-8fff-eac62da42e6c\",\"type\":\"SaveTool\"},{\"attributes\":{\"source\":{\"id\":\"6b8f523d-f187-476b-879c-f4fb85ec7057\",\"type\":\"ColumnDataSource\"}},\"id\":\"e89e67f1-3021-4eeb-a768-f973ddec61b8\",\"type\":\"CDSView\"},{\"attributes\":{\"overlay\":{\"id\":\"b46834d8-71d7-46d5-bd66-4eed52559d12\",\"type\":\"BoxAnnotation\"}},\"id\":\"2a03bbda-c97b-4b2f-99e9-5fa46eb04391\",\"type\":\"BoxZoomTool\"},{\"attributes\":{\"angle\":{\"units\":\"rad\",\"value\":-1.0221047401428223},\"fill_alpha\":{\"value\":0.1},\"fill_color\":{\"value\":\"#1f77b4\"},\"height\":{\"units\":\"data\",\"value\":6.549073696136475},\"line_alpha\":{\"value\":0.1},\"line_color\":{\"value\":\"#1f77b4\"},\"width\":{\"units\":\"data\",\"value\":2.1042990684509277},\"x\":{\"value\":-1.4743911027908325},\"y\":{\"value\":4.053091049194336}},\"id\":\"d22cb476-d49e-4db6-8749-9096f821c884\",\"type\":\"Ellipse\"},{\"attributes\":{},\"id\":\"4b685340-3cbe-4218-89f7-ed911690c054\",\"type\":\"WheelZoomTool\"},{\"attributes\":{\"data_source\":{\"id\":\"6b8f523d-f187-476b-879c-f4fb85ec7057\",\"type\":\"ColumnDataSource\"},\"glyph\":{\"id\":\"71b2cbd2-2a02-4864-a69c-43c9a3305c8e\",\"type\":\"Ellipse\"},\"hover_glyph\":null,\"muted_glyph\":null,\"nonselection_glyph\":{\"id\":\"d22cb476-d49e-4db6-8749-9096f821c884\",\"type\":\"Ellipse\"},\"selection_glyph\":null,\"view\":{\"id\":\"e89e67f1-3021-4eeb-a768-f973ddec61b8\",\"type\":\"CDSView\"}},\"id\":\"cb17b99e-c8d2-491a-bbf5-e53818bafaea\",\"type\":\"GlyphRenderer\"},{\"attributes\":{\"angle\":{\"units\":\"rad\",\"value\":-1.5707963267948966},\"fill_alpha\":{\"value\":0.25},\"fill_color\":{\"value\":\"red\"},\"height\":{\"units\":\"data\",\"value\":5.723304271697998},\"line_alpha\":{\"value\":0.25},\"line_color\":{\"value\":\"red\"},\"width\":{\"units\":\"data\",\"value\":3.855905294418335},\"x\":{\"value\":-1.4743796586990356},\"y\":{\"value\":4.053102016448975}},\"id\":\"33a83555-19c8-4eaf-b6e2-71467c19fb93\",\"type\":\"Ellipse\"},{\"attributes\":{\"angle\":{\"units\":\"rad\",\"value\":-1.0221047401428223},\"fill_alpha\":{\"value\":0.1},\"fill_color\":{\"value\":\"#1f77b4\"},\"height\":{\"units\":\"data\",\"value\":3.2745368480682373},\"line_alpha\":{\"value\":0.1},\"line_color\":{\"value\":\"#1f77b4\"},\"width\":{\"units\":\"data\",\"value\":1.0521495342254639},\"x\":{\"value\":-1.4743911027908325},\"y\":{\"value\":4.053091049194336}},\"id\":\"34bbbd4c-04dd-4d9c-81ca-b060cf7be68e\",\"type\":\"Ellipse\"},{\"attributes\":{},\"id\":\"65d04b35-0f54-4b87-8377-6ab1b3055f5f\",\"type\":\"PanTool\"},{\"attributes\":{\"fill_alpha\":{\"value\":0.1},\"fill_color\":{\"value\":\"#1f77b4\"},\"line_alpha\":{\"value\":0.1},\"line_color\":{\"value\":\"#1f77b4\"},\"x\":{\"value\":-1.4743911027908325},\"y\":{\"value\":4.053091049194336}},\"id\":\"de267b57-5025-43ac-9f1c-8c6e0d8bef11\",\"type\":\"Cross\"},{\"attributes\":{\"angle\":{\"units\":\"rad\",\"value\":-1.0221047401428223},\"fill_alpha\":{\"value\":0.5},\"fill_color\":{\"value\":\"green\"},\"height\":{\"units\":\"data\",\"value\":3.2745368480682373},\"line_alpha\":{\"value\":0.5},\"line_color\":{\"value\":\"green\"},\"width\":{\"units\":\"data\",\"value\":1.0521495342254639},\"x\":{\"value\":-1.4743911027908325},\"y\":{\"value\":4.053091049194336}},\"id\":\"84c8f29b-be7d-41e3-ae93-6d97db85b5c8\",\"type\":\"Ellipse\"}],\"root_ids\":[\"ea19f7e8-908f-4b2c-a2b4-8e31a71fe1b9\"]},\"title\":\"Bokeh Application\",\"version\":\"0.12.14\"}};\n",
       "  var render_items = [{\"docid\":\"cd02a7b2-b229-465e-b1b2-f69bd30602ec\",\"elementid\":\"afce8c91-0eb0-407b-b3ba-f95ee12b6318\",\"modelid\":\"ea19f7e8-908f-4b2c-a2b4-8e31a71fe1b9\"}];\n",
       "  root.Bokeh.embed.embed_items_notebook(docs_json, render_items);\n",
       "\n",
       "  }\n",
       "  if (root.Bokeh !== undefined) {\n",
       "    embed_document(root);\n",
       "  } else {\n",
       "    var attempts = 0;\n",
       "    var timer = setInterval(function(root) {\n",
       "      if (root.Bokeh !== undefined) {\n",
       "        embed_document(root);\n",
       "        clearInterval(timer);\n",
       "      }\n",
       "      attempts++;\n",
       "      if (attempts > 100) {\n",
       "        console.log(\"Bokeh: ERROR: Unable to run BokehJS code because BokehJS library is missing\")\n",
       "        clearInterval(timer);\n",
       "      }\n",
       "    }, 10, root)\n",
       "  }\n",
       "})(window);"
      ],
      "application/vnd.bokehjs_exec.v0+json": ""
     },
     "metadata": {
      "application/vnd.bokehjs_exec.v0+json": {
       "id": "ea19f7e8-908f-4b2c-a2b4-8e31a71fe1b9"
      }
     },
     "output_type": "display_data"
    }
   ],
   "source": [
    "# Training.\n",
    "beer.train_loglinear_model(normal_diag, torch.from_numpy(data).float())\n",
    "beer.train_loglinear_model(normal_full, torch.from_numpy(data).float())\n",
    "\n",
    "fig = figure(\n",
    "    title='Initial model',\n",
    "    width=400,\n",
    "    height=400,\n",
    "    x_range=(mean[0] - 5, mean[0] + 5),\n",
    "    y_range=(mean[1] - 5, mean[1] + 5)\n",
    ")\n",
    "fig.circle(data[:, 0], data[:, 1])\n",
    "plotting.plot_normal(fig, normal_diag.mean.numpy(), normal_diag.cov.numpy(), alpha=.5, color='red')\n",
    "plotting.plot_normal(fig, normal_full.mean.numpy(), normal_full.cov.numpy(), alpha=.5, color='green')\n",
    "\n",
    "show(fig)"
   ]
  },
  {
   "cell_type": "code",
   "execution_count": 5,
   "metadata": {},
   "outputs": [
    {
     "name": "stderr",
     "output_type": "stream",
     "text": [
      "/Users/lucasondel/anaconda3/envs/pytorch_src/lib/python3.6/site-packages/bokeh/core/json_encoder.py:80: FutureWarning: Conversion of the second argument of issubdtype from `float` to `np.floating` is deprecated. In future, it will be treated as `np.float64 == np.dtype(float).type`.\n",
      "  elif np.issubdtype(type(obj), np.float):\n"
     ]
    },
    {
     "data": {
      "text/html": [
       "\n",
       "<div class=\"bk-root\">\n",
       "    <div class=\"bk-plotdiv\" id=\"87adf288-19de-4fb1-8ca2-01834383138b\"></div>\n",
       "</div>"
      ]
     },
     "metadata": {},
     "output_type": "display_data"
    },
    {
     "data": {
      "application/javascript": [
       "(function(root) {\n",
       "  function embed_document(root) {\n",
       "    \n",
       "  var docs_json = {\"394dc9af-d3e0-47e3-8b9b-c2af2a1ed4b7\":{\"roots\":{\"references\":[{\"attributes\":{\"source\":{\"id\":\"4930f7df-fdc7-46f8-882e-32965ebdad9e\",\"type\":\"ColumnDataSource\"}},\"id\":\"b78e5a37-a3d2-4eed-9a97-c367ea7c5773\",\"type\":\"CDSView\"},{\"attributes\":{\"angle\":{\"units\":\"rad\",\"value\":-1.5707963267948966},\"fill_alpha\":{\"value\":0.25},\"fill_color\":{\"value\":\"green\"},\"height\":{\"units\":\"data\",\"value\":5.723302364349365},\"line_alpha\":{\"value\":0.25},\"line_color\":{\"value\":\"green\"},\"width\":{\"units\":\"data\",\"value\":3.855905294418335},\"x\":{\"value\":-2.9052059650421143},\"y\":{\"value\":3.089125633239746}},\"id\":\"7a09c45a-66e0-44c6-b245-6ecfb5470d0d\",\"type\":\"Ellipse\"},{\"attributes\":{\"data_source\":{\"id\":\"407d4f64-0cf8-4ce4-850e-6a220201a6ff\",\"type\":\"ColumnDataSource\"},\"glyph\":{\"id\":\"a91f9772-9467-4771-9574-0ff8ec4d0152\",\"type\":\"Ellipse\"},\"hover_glyph\":null,\"muted_glyph\":null,\"nonselection_glyph\":{\"id\":\"f8b3ec93-ad9d-4ca5-ab43-148e4f4a9e4a\",\"type\":\"Ellipse\"},\"selection_glyph\":null,\"view\":{\"id\":\"1484f440-7338-4619-ae7b-a7d800e1a2f6\",\"type\":\"CDSView\"}},\"id\":\"98d4ae6e-0bb3-436d-8870-727c41242434\",\"type\":\"GlyphRenderer\"},{\"attributes\":{\"fill_alpha\":{\"value\":0.1},\"fill_color\":{\"value\":\"#1f77b4\"},\"line_alpha\":{\"value\":0.1},\"line_color\":{\"value\":\"#1f77b4\"},\"x\":{\"value\":-2.9052059650421143},\"y\":{\"value\":3.089125633239746}},\"id\":\"97f52c68-55e9-414a-908d-cb56122cbb15\",\"type\":\"Cross\"},{\"attributes\":{\"data_source\":{\"id\":\"4930f7df-fdc7-46f8-882e-32965ebdad9e\",\"type\":\"ColumnDataSource\"},\"glyph\":{\"id\":\"67bac834-b5ad-4f35-b061-85327cb1312d\",\"type\":\"Ellipse\"},\"hover_glyph\":null,\"muted_glyph\":null,\"nonselection_glyph\":{\"id\":\"1a324876-03f1-4c58-91cd-12e3788b9271\",\"type\":\"Ellipse\"},\"selection_glyph\":null,\"view\":{\"id\":\"b78e5a37-a3d2-4eed-9a97-c367ea7c5773\",\"type\":\"CDSView\"}},\"id\":\"f0892e48-8b01-4576-8d33-7e1ff26b61f3\",\"type\":\"GlyphRenderer\"},{\"attributes\":{\"data_source\":{\"id\":\"72271bc4-63e1-48bf-a048-f3bc166ceed1\",\"type\":\"ColumnDataSource\"},\"glyph\":{\"id\":\"74e842f4-9099-44df-ada9-6d9962cac006\",\"type\":\"Cross\"},\"hover_glyph\":null,\"muted_glyph\":null,\"nonselection_glyph\":{\"id\":\"d9f6ec7b-b2bb-42fd-9a8f-b81bd54c554b\",\"type\":\"Cross\"},\"selection_glyph\":null,\"view\":{\"id\":\"9725318c-3885-46fb-b950-36e58890ab39\",\"type\":\"CDSView\"}},\"id\":\"219790cb-aea7-4385-8da7-2d406a33632d\",\"type\":\"GlyphRenderer\"},{\"attributes\":{\"data_source\":{\"id\":\"f9519897-d2df-4a15-9d60-9ba878a8dc38\",\"type\":\"ColumnDataSource\"},\"glyph\":{\"id\":\"7a09c45a-66e0-44c6-b245-6ecfb5470d0d\",\"type\":\"Ellipse\"},\"hover_glyph\":null,\"muted_glyph\":null,\"nonselection_glyph\":{\"id\":\"2fcf82ed-b018-4bad-9d97-0316922e3056\",\"type\":\"Ellipse\"},\"selection_glyph\":null,\"view\":{\"id\":\"da64d3f4-a82a-40c6-8cde-b1cfbe097bfd\",\"type\":\"CDSView\"}},\"id\":\"a0fd2de3-ba23-44fd-8484-066922da4b3c\",\"type\":\"GlyphRenderer\"},{\"attributes\":{\"callback\":null,\"data\":{}},\"id\":\"4930f7df-fdc7-46f8-882e-32965ebdad9e\",\"type\":\"ColumnDataSource\"},{\"attributes\":{\"fill_alpha\":{\"value\":0.5},\"fill_color\":{\"value\":\"green\"},\"line_alpha\":{\"value\":0.5},\"line_color\":{\"value\":\"green\"},\"x\":{\"value\":-2.9052059650421143},\"y\":{\"value\":3.089125633239746}},\"id\":\"abdeebc0-74c4-4f76-a508-cefe2eec3527\",\"type\":\"Cross\"},{\"attributes\":{\"active_drag\":\"auto\",\"active_inspect\":\"auto\",\"active_scroll\":\"auto\",\"active_tap\":\"auto\",\"tools\":[{\"id\":\"f37e27fd-76eb-4e66-83cf-0cba9b720fc5\",\"type\":\"PanTool\"},{\"id\":\"53507c29-d23f-4820-847c-c29cab72ad39\",\"type\":\"WheelZoomTool\"},{\"id\":\"bb0eb8d1-11d9-41ba-bb49-09015596d5a3\",\"type\":\"BoxZoomTool\"},{\"id\":\"e6612d92-81d9-4f69-a5ce-86cafc6d1f42\",\"type\":\"SaveTool\"},{\"id\":\"fffb47d9-f72f-45e9-988c-ee3ed39453ca\",\"type\":\"ResetTool\"},{\"id\":\"d2298e4d-29b6-4105-93c1-0b29f55d4456\",\"type\":\"HelpTool\"}]},\"id\":\"90d8b4f2-f9ba-4a7a-825e-1ac2d2f53451\",\"type\":\"Toolbar\"},{\"attributes\":{\"callback\":null,\"data\":{}},\"id\":\"d083f2ec-22f3-4f16-bb6b-cb5ea96d306a\",\"type\":\"ColumnDataSource\"},{\"attributes\":{\"plot\":null,\"text\":\"Initial model\"},\"id\":\"dfde596b-db28-4765-80f6-be2c99ee0514\",\"type\":\"Title\"},{\"attributes\":{\"angle\":{\"units\":\"rad\",\"value\":-1.5707963267948966},\"fill_alpha\":{\"value\":0.1},\"fill_color\":{\"value\":\"#1f77b4\"},\"height\":{\"units\":\"data\",\"value\":5.723302364349365},\"line_alpha\":{\"value\":0.1},\"line_color\":{\"value\":\"#1f77b4\"},\"width\":{\"units\":\"data\",\"value\":3.855905294418335},\"x\":{\"value\":-2.9052059650421143},\"y\":{\"value\":3.089125633239746}},\"id\":\"2fcf82ed-b018-4bad-9d97-0316922e3056\",\"type\":\"Ellipse\"},{\"attributes\":{\"callback\":null,\"data\":{}},\"id\":\"8003f972-7248-4800-bb7c-7c69f5d34419\",\"type\":\"ColumnDataSource\"},{\"attributes\":{\"fill_alpha\":{\"value\":0.1},\"fill_color\":{\"value\":\"#1f77b4\"},\"line_alpha\":{\"value\":0.1},\"line_color\":{\"value\":\"#1f77b4\"},\"x\":{\"field\":\"x\"},\"y\":{\"field\":\"y\"}},\"id\":\"d208b8b3-caf9-4284-9470-317c4eed7c00\",\"type\":\"Circle\"},{\"attributes\":{\"source\":{\"id\":\"d083f2ec-22f3-4f16-bb6b-cb5ea96d306a\",\"type\":\"ColumnDataSource\"}},\"id\":\"13cbbe1d-6dad-48cb-b8d6-b2df8309551c\",\"type\":\"CDSView\"},{\"attributes\":{\"source\":{\"id\":\"f9519897-d2df-4a15-9d60-9ba878a8dc38\",\"type\":\"ColumnDataSource\"}},\"id\":\"da64d3f4-a82a-40c6-8cde-b1cfbe097bfd\",\"type\":\"CDSView\"},{\"attributes\":{\"angle\":{\"units\":\"rad\",\"value\":-1.5707963267948966},\"fill_alpha\":{\"value\":0.5},\"fill_color\":{\"value\":\"green\"},\"height\":{\"units\":\"data\",\"value\":2.8616511821746826},\"line_alpha\":{\"value\":0.5},\"line_color\":{\"value\":\"green\"},\"width\":{\"units\":\"data\",\"value\":1.9279526472091675},\"x\":{\"value\":-2.9052059650421143},\"y\":{\"value\":3.089125633239746}},\"id\":\"e8c75e91-1604-4852-a10f-a4cb0645b1ee\",\"type\":\"Ellipse\"},{\"attributes\":{\"data_source\":{\"id\":\"d083f2ec-22f3-4f16-bb6b-cb5ea96d306a\",\"type\":\"ColumnDataSource\"},\"glyph\":{\"id\":\"abdeebc0-74c4-4f76-a508-cefe2eec3527\",\"type\":\"Cross\"},\"hover_glyph\":null,\"muted_glyph\":null,\"nonselection_glyph\":{\"id\":\"97f52c68-55e9-414a-908d-cb56122cbb15\",\"type\":\"Cross\"},\"selection_glyph\":null,\"view\":{\"id\":\"13cbbe1d-6dad-48cb-b8d6-b2df8309551c\",\"type\":\"CDSView\"}},\"id\":\"239ebd80-1665-4291-81c2-9e5a2d6b7a5a\",\"type\":\"GlyphRenderer\"},{\"attributes\":{\"source\":{\"id\":\"a5abe418-683a-463d-b432-2cf8dd2a3238\",\"type\":\"ColumnDataSource\"}},\"id\":\"2453ae90-c73a-48f6-a7a6-eaba9c70f09f\",\"type\":\"CDSView\"},{\"attributes\":{\"callback\":null,\"end\":3.5,\"start\":-6.5},\"id\":\"5649fd04-91cd-4c2e-bc04-c58e81775bb2\",\"type\":\"Range1d\"},{\"attributes\":{\"angle\":{\"units\":\"rad\",\"value\":-1.5707963267948966},\"fill_alpha\":{\"value\":0.1},\"fill_color\":{\"value\":\"#1f77b4\"},\"height\":{\"units\":\"data\",\"value\":2.8616511821746826},\"line_alpha\":{\"value\":0.1},\"line_color\":{\"value\":\"#1f77b4\"},\"width\":{\"units\":\"data\",\"value\":1.9279526472091675},\"x\":{\"value\":-2.9052059650421143},\"y\":{\"value\":3.089125633239746}},\"id\":\"ccdda540-cf99-42c4-900f-005757ae18ff\",\"type\":\"Ellipse\"},{\"attributes\":{\"source\":{\"id\":\"8003f972-7248-4800-bb7c-7c69f5d34419\",\"type\":\"ColumnDataSource\"}},\"id\":\"84370de1-0934-42da-8f92-5fcaa1f5105a\",\"type\":\"CDSView\"},{\"attributes\":{},\"id\":\"52992fe5-0dba-4487-a9a3-49809e17a302\",\"type\":\"BasicTickFormatter\"},{\"attributes\":{\"data_source\":{\"id\":\"8003f972-7248-4800-bb7c-7c69f5d34419\",\"type\":\"ColumnDataSource\"},\"glyph\":{\"id\":\"e8c75e91-1604-4852-a10f-a4cb0645b1ee\",\"type\":\"Ellipse\"},\"hover_glyph\":null,\"muted_glyph\":null,\"nonselection_glyph\":{\"id\":\"ccdda540-cf99-42c4-900f-005757ae18ff\",\"type\":\"Ellipse\"},\"selection_glyph\":null,\"view\":{\"id\":\"84370de1-0934-42da-8f92-5fcaa1f5105a\",\"type\":\"CDSView\"}},\"id\":\"5c023580-6a22-4d8d-a041-60420c64bfb7\",\"type\":\"GlyphRenderer\"},{\"attributes\":{},\"id\":\"3d76d0b4-d7d3-464e-831e-a378a91511a4\",\"type\":\"BasicTicker\"},{\"attributes\":{\"below\":[{\"id\":\"d7625b6b-2dc9-4d8b-bca7-d1f2093dc7d3\",\"type\":\"LinearAxis\"}],\"left\":[{\"id\":\"9f232e12-65c5-4f2b-9270-f8fb5126e969\",\"type\":\"LinearAxis\"}],\"plot_height\":400,\"plot_width\":400,\"renderers\":[{\"id\":\"d7625b6b-2dc9-4d8b-bca7-d1f2093dc7d3\",\"type\":\"LinearAxis\"},{\"id\":\"d3df0678-e91e-42d2-b212-596db4b68c33\",\"type\":\"Grid\"},{\"id\":\"9f232e12-65c5-4f2b-9270-f8fb5126e969\",\"type\":\"LinearAxis\"},{\"id\":\"b948dfd1-d301-4777-a9ec-90cffe0008c5\",\"type\":\"Grid\"},{\"id\":\"9dff7ac5-89bb-4bb5-a6a0-ab6e09f564b1\",\"type\":\"BoxAnnotation\"},{\"id\":\"0eca880b-f51e-4a89-bf82-e052d587eaee\",\"type\":\"GlyphRenderer\"},{\"id\":\"e9f8242b-b379-4711-9ff4-07bae571c571\",\"type\":\"GlyphRenderer\"},{\"id\":\"89042ef5-5a60-42ef-9f50-4f81a2c3bc61\",\"type\":\"GlyphRenderer\"},{\"id\":\"4b195443-ab40-47ad-be27-5ed35ca71d3d\",\"type\":\"GlyphRenderer\"},{\"id\":\"98d4ae6e-0bb3-436d-8870-727c41242434\",\"type\":\"GlyphRenderer\"},{\"id\":\"219790cb-aea7-4385-8da7-2d406a33632d\",\"type\":\"GlyphRenderer\"},{\"id\":\"f0892e48-8b01-4576-8d33-7e1ff26b61f3\",\"type\":\"GlyphRenderer\"},{\"id\":\"a0fd2de3-ba23-44fd-8484-066922da4b3c\",\"type\":\"GlyphRenderer\"},{\"id\":\"239ebd80-1665-4291-81c2-9e5a2d6b7a5a\",\"type\":\"GlyphRenderer\"},{\"id\":\"5c023580-6a22-4d8d-a041-60420c64bfb7\",\"type\":\"GlyphRenderer\"}],\"title\":{\"id\":\"dfde596b-db28-4765-80f6-be2c99ee0514\",\"type\":\"Title\"},\"toolbar\":{\"id\":\"90d8b4f2-f9ba-4a7a-825e-1ac2d2f53451\",\"type\":\"Toolbar\"},\"x_range\":{\"id\":\"5649fd04-91cd-4c2e-bc04-c58e81775bb2\",\"type\":\"Range1d\"},\"x_scale\":{\"id\":\"cb2442cc-eeb7-4d14-b473-af3b47be8903\",\"type\":\"LinearScale\"},\"y_range\":{\"id\":\"135dcc6d-d92e-4e6d-ad3f-0ad952259714\",\"type\":\"Range1d\"},\"y_scale\":{\"id\":\"8a9fbe67-c1ce-4922-b4e7-86c36a8b8c8a\",\"type\":\"LinearScale\"}},\"id\":\"9b7d1d63-d1c2-4f93-9263-8f7ef0e79598\",\"subtype\":\"Figure\",\"type\":\"Plot\"},{\"attributes\":{\"dimension\":1,\"plot\":{\"id\":\"9b7d1d63-d1c2-4f93-9263-8f7ef0e79598\",\"subtype\":\"Figure\",\"type\":\"Plot\"},\"ticker\":{\"id\":\"3d76d0b4-d7d3-464e-831e-a378a91511a4\",\"type\":\"BasicTicker\"}},\"id\":\"b948dfd1-d301-4777-a9ec-90cffe0008c5\",\"type\":\"Grid\"},{\"attributes\":{\"plot\":{\"id\":\"9b7d1d63-d1c2-4f93-9263-8f7ef0e79598\",\"subtype\":\"Figure\",\"type\":\"Plot\"},\"ticker\":{\"id\":\"0fa3e600-9aec-4590-b3e7-8d4a4ee512f6\",\"type\":\"BasicTicker\"}},\"id\":\"d3df0678-e91e-42d2-b212-596db4b68c33\",\"type\":\"Grid\"},{\"attributes\":{\"callback\":null,\"column_names\":[\"x\",\"y\"],\"data\":{\"x\":{\"__ndarray__\":\"K/88HEi+6L+EYK4NdSsKwEY8fdBZdxPA6M5gVXVYDMBcGagR1bjtv4vGQWYR3fu/YLMSiqNYzz/glsaz4qjUP793eOhg5eW/+AAlMjti+b8DLW7HGQcKwPJQQimegOS/vLeGGXFtAcC2vsXQBagBwLTJwWTYQ/i/bCmrlxOa2r/W7w9cbiIHwFDwjfDe9+O/SUpzt1DD7L9A0Zlunxi9P2IsUoJm6gvAdsuD+QHn779H/UfVxfznv3j3JuCAo/+/BBweKrca7r8U6dG/4CMBwFjnhueKD/o/IYf2KnkLF8A6JF09fvnkvyLnwsXvEfe/vST9a9I9EMA7/+voPGX6vygVW+7Kkf6/RGCItu0eA8D4favs85TRv1asQV/jcvW/7vjXSDQ+CcDKl1HXM6b1v0iE5FgHb/6/VI8yFlSS/L8eZU+Piw4AwHwykkHLVv+/lydV1o0a+L8Jjg6ZY/zzv7jptdZxOgLA/CRAtdFQ878A6KL9PbMDwHo22YYswgTA8oi6pbzd4b+AhT8ZVyORP0q/tQMomAjAktC9ln3uAcBQ9fVH4Q3Pv1S55eha698/DpfjSnhEB8DOP/MpysYGwAh4auEMP9S/UIYYt5UGsD8AaOZzh8vSP/h/CTrWzAHAwAYJe8Cftj/y4tE+igP+v9CJeR5cbuO/aWineiPY5L/iMc0fHSoDwC7mxbCesPq/oNNdQ8qp7z+l+uN/QjABwHQRJxyJJvm/2So9bYDF8r9oayYMUS4GwEefi1vBPve/QRn4xyipDcCsVq/YV4buv0y3aPZMruC/0norZJ0CBsA+jsBPIjXzP7KKLPQN8AbAIENJQ9yU9j9ekiHJRBMRwBb3MwDAnfs/LJ0yJfkR9r8QQe9VeaX1P/BuO137EwHAauA3SjWg6r+Uli0ZCssNwLfKKCMRuwDAHbn8MMmk+r+KcPQIs/r3v7eHM3qDCQ3AiA6zP2dt4j/uNEXiHd35P3wC737zK9G/zP1mT2N79L9Uu2XrGvcGwPCAHDVH2vO/C6h3ecYO+b/DS/BMHQXuv/Yyd3Fc0vy/yPSF2bGQ+b8=\",\"dtype\":\"float64\",\"shape\":[100]},\"y\":{\"__ndarray__\":\"SD5MmXP+E0AU9cDdyDv7P8RJkjlUgu4/p3X7la14CECS/M6a2BgJQP/AFOt6hw5A2lgmeCI1FEDYd1MJ0vUTQNzM6h5s+g5A4ktGNVZREEA4KZ5Fy+oPQNuml/Kp+hNAsrnkDdReCkCnnbOUOnwMQHJO4uIc9A5AD3H7A7r+E0Al9zbWyVIKQEgE8WAV/hBAAxCfHTReEkCZl1kanGoRQGMC5RF2sAdAeMFs9rMEEkDaQGHz9ZIJQATyjp+9jhFA+KIYB7UtDUDEx9vGaPwRQNg/fOTd7xdAIGmKluuy9z9ECURWx8cRQHHY7URemxJAfrRqQyVFC0D22L6/LJwRQJyuJ3bArwpA9F5Y83K4CkDweoeNFmQPQIdL0oK1YA9A1nQx0LO3DUB2vNUVTi4BQNHSh/pqggxA0fJhlOY4E0CHj/F2iPQPQLb1N5USixBALQ6/0QmvDED3S/O/bDsLQPI6mQtq1g5AYHXemuCID0BksnoYbw0PQFgtpKzrnBBA9z1Yx1iwEEAhmX3il2oQQO5q5KEZuwVAKm3EFvgvDkC29W31jOMTQDQwPgsLqRVAYE7ANoC6CkB4dznVjOwCQK29tf7ERA9A65x/CY0EE0BtIFz3Lw8XQPmDSR53Bw5AHsvrPjZMFEDm0MIImzQSQLjhKPvMlxBAQMrwE3X1EUANRL2sZWoLQBSZ3lroVwVA5tv8rH/5FkD6uY9RTTUTQNYG3DtULxNA4p6hPTqSEUAqw4qaaQsFQAqyBkzRcg9AFsN/RCYKCEC7gd76XIEXQMZiQ430OhZA7yXb02eoEEBiAOZP9xcYQFolI4JS3QlASw1yxpYwFkB6LpS6088JQD39g8rNzBNAcyLYyM9SEUB1YKFSFhUWQH6h3/s/wghAJ0R0FDHIEUBLGEBVN1YKQKnVvr8Zkg9Arr3deyt5DkB5ZHxNYukQQDLpXtS5fgRAQXQ26JPiFEB/y5vKGfQWQMKxOHZudhNA6/I72zaMEEDoNdV4kz0IQEno9sQdEhFAyhLZDFCsD0BkbzojR/QRQKuHAPkcAxJArAuGFKvcEUA=\",\"dtype\":\"float64\",\"shape\":[100]}}},\"id\":\"a5abe418-683a-463d-b432-2cf8dd2a3238\",\"type\":\"ColumnDataSource\"},{\"attributes\":{},\"id\":\"8a9fbe67-c1ce-4922-b4e7-86c36a8b8c8a\",\"type\":\"LinearScale\"},{\"attributes\":{\"callback\":null,\"data\":{}},\"id\":\"8a7d3733-62e4-4fe8-b481-24aad04f3a57\",\"type\":\"ColumnDataSource\"},{\"attributes\":{},\"id\":\"cb2442cc-eeb7-4d14-b473-af3b47be8903\",\"type\":\"LinearScale\"},{\"attributes\":{\"callback\":null,\"end\":9.0,\"start\":-1.0},\"id\":\"135dcc6d-d92e-4e6d-ad3f-0ad952259714\",\"type\":\"Range1d\"},{\"attributes\":{\"formatter\":{\"id\":\"8ae3723e-38fa-4446-870e-906045db0194\",\"type\":\"BasicTickFormatter\"},\"plot\":{\"id\":\"9b7d1d63-d1c2-4f93-9263-8f7ef0e79598\",\"subtype\":\"Figure\",\"type\":\"Plot\"},\"ticker\":{\"id\":\"0fa3e600-9aec-4590-b3e7-8d4a4ee512f6\",\"type\":\"BasicTicker\"}},\"id\":\"d7625b6b-2dc9-4d8b-bca7-d1f2093dc7d3\",\"type\":\"LinearAxis\"},{\"attributes\":{},\"id\":\"0fa3e600-9aec-4590-b3e7-8d4a4ee512f6\",\"type\":\"BasicTicker\"},{\"attributes\":{\"formatter\":{\"id\":\"52992fe5-0dba-4487-a9a3-49809e17a302\",\"type\":\"BasicTickFormatter\"},\"plot\":{\"id\":\"9b7d1d63-d1c2-4f93-9263-8f7ef0e79598\",\"subtype\":\"Figure\",\"type\":\"Plot\"},\"ticker\":{\"id\":\"3d76d0b4-d7d3-464e-831e-a378a91511a4\",\"type\":\"BasicTicker\"}},\"id\":\"9f232e12-65c5-4f2b-9270-f8fb5126e969\",\"type\":\"LinearAxis\"},{\"attributes\":{\"fill_color\":{\"value\":\"#1f77b4\"},\"line_color\":{\"value\":\"#1f77b4\"},\"x\":{\"field\":\"x\"},\"y\":{\"field\":\"y\"}},\"id\":\"fae32da2-9f5a-4d15-9030-7a7d5eef8ef7\",\"type\":\"Circle\"},{\"attributes\":{\"data_source\":{\"id\":\"a5abe418-683a-463d-b432-2cf8dd2a3238\",\"type\":\"ColumnDataSource\"},\"glyph\":{\"id\":\"fae32da2-9f5a-4d15-9030-7a7d5eef8ef7\",\"type\":\"Circle\"},\"hover_glyph\":null,\"muted_glyph\":null,\"nonselection_glyph\":{\"id\":\"d208b8b3-caf9-4284-9470-317c4eed7c00\",\"type\":\"Circle\"},\"selection_glyph\":null,\"view\":{\"id\":\"2453ae90-c73a-48f6-a7a6-eaba9c70f09f\",\"type\":\"CDSView\"}},\"id\":\"0eca880b-f51e-4a89-bf82-e052d587eaee\",\"type\":\"GlyphRenderer\"},{\"attributes\":{},\"id\":\"e6612d92-81d9-4f69-a5ce-86cafc6d1f42\",\"type\":\"SaveTool\"},{\"attributes\":{\"overlay\":{\"id\":\"9dff7ac5-89bb-4bb5-a6a0-ab6e09f564b1\",\"type\":\"BoxAnnotation\"}},\"id\":\"bb0eb8d1-11d9-41ba-bb49-09015596d5a3\",\"type\":\"BoxZoomTool\"},{\"attributes\":{},\"id\":\"53507c29-d23f-4820-847c-c29cab72ad39\",\"type\":\"WheelZoomTool\"},{\"attributes\":{\"angle\":{\"units\":\"rad\",\"value\":-1.5707963267948966},\"fill_alpha\":{\"value\":0.25},\"fill_color\":{\"value\":\"blue\"},\"height\":{\"units\":\"data\",\"value\":5.723304271697998},\"line_alpha\":{\"value\":0.25},\"line_color\":{\"value\":\"blue\"},\"width\":{\"units\":\"data\",\"value\":3.855905294418335},\"x\":{\"value\":-1.4743796586990356},\"y\":{\"value\":4.053102016448975}},\"id\":\"3b142fb9-f64d-4a4c-96b1-8a22004a7ebe\",\"type\":\"Ellipse\"},{\"attributes\":{},\"id\":\"f37e27fd-76eb-4e66-83cf-0cba9b720fc5\",\"type\":\"PanTool\"},{\"attributes\":{\"data_source\":{\"id\":\"f1806683-b1c4-47d7-8440-c377b5a924c2\",\"type\":\"ColumnDataSource\"},\"glyph\":{\"id\":\"610e98f1-3a94-4f21-ae97-ba5f2f6707cb\",\"type\":\"Cross\"},\"hover_glyph\":null,\"muted_glyph\":null,\"nonselection_glyph\":{\"id\":\"0e04f160-e582-4b30-98cb-f0e0ce02ed4a\",\"type\":\"Cross\"},\"selection_glyph\":null,\"view\":{\"id\":\"8042e0fb-90aa-4b2b-abb9-cd6813bea2db\",\"type\":\"CDSView\"}},\"id\":\"89042ef5-5a60-42ef-9f50-4f81a2c3bc61\",\"type\":\"GlyphRenderer\"},{\"attributes\":{\"angle\":{\"units\":\"rad\",\"value\":-1.5707963267948966},\"fill_alpha\":{\"value\":0.5},\"fill_color\":{\"value\":\"blue\"},\"height\":{\"units\":\"data\",\"value\":2.861652135848999},\"line_alpha\":{\"value\":0.5},\"line_color\":{\"value\":\"blue\"},\"width\":{\"units\":\"data\",\"value\":1.9279526472091675},\"x\":{\"value\":-1.4743796586990356},\"y\":{\"value\":4.053102016448975}},\"id\":\"9cb5f010-5698-455a-bbb6-679f3a6a5edb\",\"type\":\"Ellipse\"},{\"attributes\":{\"callback\":null,\"data\":{}},\"id\":\"4a55a402-62de-46ae-8942-1d9ff7445aae\",\"type\":\"ColumnDataSource\"},{\"attributes\":{\"bottom_units\":\"screen\",\"fill_alpha\":{\"value\":0.5},\"fill_color\":{\"value\":\"lightgrey\"},\"left_units\":\"screen\",\"level\":\"overlay\",\"line_alpha\":{\"value\":1.0},\"line_color\":{\"value\":\"black\"},\"line_dash\":[4,4],\"line_width\":{\"value\":2},\"plot\":null,\"render_mode\":\"css\",\"right_units\":\"screen\",\"top_units\":\"screen\"},\"id\":\"9dff7ac5-89bb-4bb5-a6a0-ab6e09f564b1\",\"type\":\"BoxAnnotation\"},{\"attributes\":{\"data_source\":{\"id\":\"8a7d3733-62e4-4fe8-b481-24aad04f3a57\",\"type\":\"ColumnDataSource\"},\"glyph\":{\"id\":\"3b142fb9-f64d-4a4c-96b1-8a22004a7ebe\",\"type\":\"Ellipse\"},\"hover_glyph\":null,\"muted_glyph\":null,\"nonselection_glyph\":{\"id\":\"8629c9b0-b6ac-4341-aff6-0f34814ede62\",\"type\":\"Ellipse\"},\"selection_glyph\":null,\"view\":{\"id\":\"307fceee-a7da-46ee-963e-6d05a3e2e3b3\",\"type\":\"CDSView\"}},\"id\":\"e9f8242b-b379-4711-9ff4-07bae571c571\",\"type\":\"GlyphRenderer\"},{\"attributes\":{\"angle\":{\"units\":\"rad\",\"value\":-1.5707963267948966},\"fill_alpha\":{\"value\":0.1},\"fill_color\":{\"value\":\"#1f77b4\"},\"height\":{\"units\":\"data\",\"value\":5.723304271697998},\"line_alpha\":{\"value\":0.1},\"line_color\":{\"value\":\"#1f77b4\"},\"width\":{\"units\":\"data\",\"value\":3.855905294418335},\"x\":{\"value\":-1.4743796586990356},\"y\":{\"value\":4.053102016448975}},\"id\":\"8629c9b0-b6ac-4341-aff6-0f34814ede62\",\"type\":\"Ellipse\"},{\"attributes\":{\"callback\":null,\"data\":{}},\"id\":\"f1806683-b1c4-47d7-8440-c377b5a924c2\",\"type\":\"ColumnDataSource\"},{\"attributes\":{\"callback\":null,\"data\":{}},\"id\":\"407d4f64-0cf8-4ce4-850e-6a220201a6ff\",\"type\":\"ColumnDataSource\"},{\"attributes\":{},\"id\":\"8ae3723e-38fa-4446-870e-906045db0194\",\"type\":\"BasicTickFormatter\"},{\"attributes\":{\"angle\":{\"units\":\"rad\",\"value\":-1.5707963267948966},\"fill_alpha\":{\"value\":0.1},\"fill_color\":{\"value\":\"#1f77b4\"},\"height\":{\"units\":\"data\",\"value\":2.861652135848999},\"line_alpha\":{\"value\":0.1},\"line_color\":{\"value\":\"#1f77b4\"},\"width\":{\"units\":\"data\",\"value\":1.9279537200927734},\"x\":{\"value\":-0.04355359449982643},\"y\":{\"value\":5.017077922821045}},\"id\":\"1a324876-03f1-4c58-91cd-12e3788b9271\",\"type\":\"Ellipse\"},{\"attributes\":{},\"id\":\"d2298e4d-29b6-4105-93c1-0b29f55d4456\",\"type\":\"HelpTool\"},{\"attributes\":{},\"id\":\"fffb47d9-f72f-45e9-988c-ee3ed39453ca\",\"type\":\"ResetTool\"},{\"attributes\":{\"callback\":null,\"data\":{}},\"id\":\"f9519897-d2df-4a15-9d60-9ba878a8dc38\",\"type\":\"ColumnDataSource\"},{\"attributes\":{\"source\":{\"id\":\"8a7d3733-62e4-4fe8-b481-24aad04f3a57\",\"type\":\"ColumnDataSource\"}},\"id\":\"307fceee-a7da-46ee-963e-6d05a3e2e3b3\",\"type\":\"CDSView\"},{\"attributes\":{\"fill_alpha\":{\"value\":0.5},\"fill_color\":{\"value\":\"blue\"},\"line_alpha\":{\"value\":0.5},\"line_color\":{\"value\":\"blue\"},\"x\":{\"value\":-1.4743796586990356},\"y\":{\"value\":4.053102016448975}},\"id\":\"610e98f1-3a94-4f21-ae97-ba5f2f6707cb\",\"type\":\"Cross\"},{\"attributes\":{\"fill_alpha\":{\"value\":0.1},\"fill_color\":{\"value\":\"#1f77b4\"},\"line_alpha\":{\"value\":0.1},\"line_color\":{\"value\":\"#1f77b4\"},\"x\":{\"value\":-1.4743796586990356},\"y\":{\"value\":4.053102016448975}},\"id\":\"0e04f160-e582-4b30-98cb-f0e0ce02ed4a\",\"type\":\"Cross\"},{\"attributes\":{\"angle\":{\"units\":\"rad\",\"value\":-1.5707963267948966},\"fill_alpha\":{\"value\":0.1},\"fill_color\":{\"value\":\"#1f77b4\"},\"height\":{\"units\":\"data\",\"value\":2.861652135848999},\"line_alpha\":{\"value\":0.1},\"line_color\":{\"value\":\"#1f77b4\"},\"width\":{\"units\":\"data\",\"value\":1.9279526472091675},\"x\":{\"value\":-1.4743796586990356},\"y\":{\"value\":4.053102016448975}},\"id\":\"c6379170-ed9e-44fd-91b3-40049ba6d22d\",\"type\":\"Ellipse\"},{\"attributes\":{\"source\":{\"id\":\"407d4f64-0cf8-4ce4-850e-6a220201a6ff\",\"type\":\"ColumnDataSource\"}},\"id\":\"1484f440-7338-4619-ae7b-a7d800e1a2f6\",\"type\":\"CDSView\"},{\"attributes\":{\"angle\":{\"units\":\"rad\",\"value\":-1.5707963267948966},\"fill_alpha\":{\"value\":0.5},\"fill_color\":{\"value\":\"red\"},\"height\":{\"units\":\"data\",\"value\":2.861652135848999},\"line_alpha\":{\"value\":0.5},\"line_color\":{\"value\":\"red\"},\"width\":{\"units\":\"data\",\"value\":1.9279537200927734},\"x\":{\"value\":-0.04355359449982643},\"y\":{\"value\":5.017077922821045}},\"id\":\"67bac834-b5ad-4f35-b061-85327cb1312d\",\"type\":\"Ellipse\"},{\"attributes\":{\"source\":{\"id\":\"f1806683-b1c4-47d7-8440-c377b5a924c2\",\"type\":\"ColumnDataSource\"}},\"id\":\"8042e0fb-90aa-4b2b-abb9-cd6813bea2db\",\"type\":\"CDSView\"},{\"attributes\":{\"source\":{\"id\":\"4a55a402-62de-46ae-8942-1d9ff7445aae\",\"type\":\"ColumnDataSource\"}},\"id\":\"4bacd83a-391c-4f50-b133-ac548204bfac\",\"type\":\"CDSView\"},{\"attributes\":{\"data_source\":{\"id\":\"4a55a402-62de-46ae-8942-1d9ff7445aae\",\"type\":\"ColumnDataSource\"},\"glyph\":{\"id\":\"9cb5f010-5698-455a-bbb6-679f3a6a5edb\",\"type\":\"Ellipse\"},\"hover_glyph\":null,\"muted_glyph\":null,\"nonselection_glyph\":{\"id\":\"c6379170-ed9e-44fd-91b3-40049ba6d22d\",\"type\":\"Ellipse\"},\"selection_glyph\":null,\"view\":{\"id\":\"4bacd83a-391c-4f50-b133-ac548204bfac\",\"type\":\"CDSView\"}},\"id\":\"4b195443-ab40-47ad-be27-5ed35ca71d3d\",\"type\":\"GlyphRenderer\"},{\"attributes\":{\"angle\":{\"units\":\"rad\",\"value\":-1.5707963267948966},\"fill_alpha\":{\"value\":0.25},\"fill_color\":{\"value\":\"red\"},\"height\":{\"units\":\"data\",\"value\":5.723304271697998},\"line_alpha\":{\"value\":0.25},\"line_color\":{\"value\":\"red\"},\"width\":{\"units\":\"data\",\"value\":3.855907440185547},\"x\":{\"value\":-0.04355359449982643},\"y\":{\"value\":5.017077922821045}},\"id\":\"a91f9772-9467-4771-9574-0ff8ec4d0152\",\"type\":\"Ellipse\"},{\"attributes\":{\"callback\":null,\"data\":{}},\"id\":\"72271bc4-63e1-48bf-a048-f3bc166ceed1\",\"type\":\"ColumnDataSource\"},{\"attributes\":{\"angle\":{\"units\":\"rad\",\"value\":-1.5707963267948966},\"fill_alpha\":{\"value\":0.1},\"fill_color\":{\"value\":\"#1f77b4\"},\"height\":{\"units\":\"data\",\"value\":5.723304271697998},\"line_alpha\":{\"value\":0.1},\"line_color\":{\"value\":\"#1f77b4\"},\"width\":{\"units\":\"data\",\"value\":3.855907440185547},\"x\":{\"value\":-0.04355359449982643},\"y\":{\"value\":5.017077922821045}},\"id\":\"f8b3ec93-ad9d-4ca5-ab43-148e4f4a9e4a\",\"type\":\"Ellipse\"},{\"attributes\":{\"fill_alpha\":{\"value\":0.1},\"fill_color\":{\"value\":\"#1f77b4\"},\"line_alpha\":{\"value\":0.1},\"line_color\":{\"value\":\"#1f77b4\"},\"x\":{\"value\":-0.04355359449982643},\"y\":{\"value\":5.017077922821045}},\"id\":\"d9f6ec7b-b2bb-42fd-9a8f-b81bd54c554b\",\"type\":\"Cross\"},{\"attributes\":{\"source\":{\"id\":\"72271bc4-63e1-48bf-a048-f3bc166ceed1\",\"type\":\"ColumnDataSource\"}},\"id\":\"9725318c-3885-46fb-b950-36e58890ab39\",\"type\":\"CDSView\"},{\"attributes\":{\"fill_alpha\":{\"value\":0.5},\"fill_color\":{\"value\":\"red\"},\"line_alpha\":{\"value\":0.5},\"line_color\":{\"value\":\"red\"},\"x\":{\"value\":-0.04355359449982643},\"y\":{\"value\":5.017077922821045}},\"id\":\"74e842f4-9099-44df-ada9-6d9962cac006\",\"type\":\"Cross\"}],\"root_ids\":[\"9b7d1d63-d1c2-4f93-9263-8f7ef0e79598\"]},\"title\":\"Bokeh Application\",\"version\":\"0.12.14\"}};\n",
       "  var render_items = [{\"docid\":\"394dc9af-d3e0-47e3-8b9b-c2af2a1ed4b7\",\"elementid\":\"87adf288-19de-4fb1-8ca2-01834383138b\",\"modelid\":\"9b7d1d63-d1c2-4f93-9263-8f7ef0e79598\"}];\n",
       "  root.Bokeh.embed.embed_items_notebook(docs_json, render_items);\n",
       "\n",
       "  }\n",
       "  if (root.Bokeh !== undefined) {\n",
       "    embed_document(root);\n",
       "  } else {\n",
       "    var attempts = 0;\n",
       "    var timer = setInterval(function(root) {\n",
       "      if (root.Bokeh !== undefined) {\n",
       "        embed_document(root);\n",
       "        clearInterval(timer);\n",
       "      }\n",
       "      attempts++;\n",
       "      if (attempts > 100) {\n",
       "        console.log(\"Bokeh: ERROR: Unable to run BokehJS code because BokehJS library is missing\")\n",
       "        clearInterval(timer);\n",
       "      }\n",
       "    }, 10, root)\n",
       "  }\n",
       "})(window);"
      ],
      "application/vnd.bokehjs_exec.v0+json": ""
     },
     "metadata": {
      "application/vnd.bokehjs_exec.v0+json": {
       "id": "9b7d1d63-d1c2-4f93-9263-8f7ef0e79598"
      }
     },
     "output_type": "display_data"
    }
   ],
   "source": [
    "n1, n2 = normal_diag.split()\n",
    "\n",
    "fig = figure(\n",
    "    title='Initial model',\n",
    "    width=400,\n",
    "    height=400,\n",
    "    x_range=(mean[0] - 5, mean[0] + 5),\n",
    "    y_range=(mean[1] - 5, mean[1] + 5)\n",
    ")\n",
    "fig.circle(data[:, 0], data[:, 1])\n",
    "plotting.plot_normal(fig, normal_diag.mean.numpy(), normal_diag.cov.numpy(), alpha=.5, color='blue')\n",
    "plotting.plot_normal(fig, n1.mean.numpy(), n1.cov.numpy(), alpha=.5, color='red')\n",
    "plotting.plot_normal(fig, n2.mean.numpy(), n2.cov.numpy(), alpha=.5, color='green')\n",
    "show(fig)"
   ]
  },
  {
   "cell_type": "code",
   "execution_count": 6,
   "metadata": {},
   "outputs": [
    {
     "name": "stderr",
     "output_type": "stream",
     "text": [
      "/Users/lucasondel/anaconda3/envs/pytorch_src/lib/python3.6/site-packages/bokeh/core/json_encoder.py:80: FutureWarning: Conversion of the second argument of issubdtype from `float` to `np.floating` is deprecated. In future, it will be treated as `np.float64 == np.dtype(float).type`.\n",
      "  elif np.issubdtype(type(obj), np.float):\n"
     ]
    },
    {
     "data": {
      "text/html": [
       "\n",
       "<div class=\"bk-root\">\n",
       "    <div class=\"bk-plotdiv\" id=\"01194a9d-5028-4d46-a835-7d8a830c44db\"></div>\n",
       "</div>"
      ]
     },
     "metadata": {},
     "output_type": "display_data"
    },
    {
     "data": {
      "application/javascript": [
       "(function(root) {\n",
       "  function embed_document(root) {\n",
       "    \n",
       "  var docs_json = {\"072a0406-a0ca-4228-8c48-40dcd0e8b6a7\":{\"roots\":{\"references\":[{\"attributes\":{\"angle\":{\"units\":\"rad\",\"value\":-1.0221046209335327},\"fill_alpha\":{\"value\":0.5},\"fill_color\":{\"value\":\"red\"},\"height\":{\"units\":\"data\",\"value\":3.2745375633239746},\"line_alpha\":{\"value\":0.5},\"line_color\":{\"value\":\"red\"},\"width\":{\"units\":\"data\",\"value\":1.0521503686904907},\"x\":{\"value\":-2.596935987472534},\"y\":{\"value\":2.7502880096435547}},\"id\":\"a4a44e71-4bff-48b3-a3cc-e5afbc8696dd\",\"type\":\"Ellipse\"},{\"attributes\":{\"callback\":null,\"data\":{}},\"id\":\"31a518ce-c47c-418f-a183-9299bfe9498d\",\"type\":\"ColumnDataSource\"},{\"attributes\":{\"angle\":{\"units\":\"rad\",\"value\":-1.0221049785614014},\"fill_alpha\":{\"value\":0.25},\"fill_color\":{\"value\":\"green\"},\"height\":{\"units\":\"data\",\"value\":6.549073696136475},\"line_alpha\":{\"value\":0.25},\"line_color\":{\"value\":\"green\"},\"width\":{\"units\":\"data\",\"value\":2.104295492172241},\"x\":{\"value\":-0.3518478572368622},\"y\":{\"value\":5.355894565582275}},\"id\":\"b65b6cbd-66df-47c8-ac98-8bb8572af1f1\",\"type\":\"Ellipse\"},{\"attributes\":{\"angle\":{\"units\":\"rad\",\"value\":-1.0221049785614014},\"fill_alpha\":{\"value\":0.1},\"fill_color\":{\"value\":\"#1f77b4\"},\"height\":{\"units\":\"data\",\"value\":6.549073696136475},\"line_alpha\":{\"value\":0.1},\"line_color\":{\"value\":\"#1f77b4\"},\"width\":{\"units\":\"data\",\"value\":2.104295492172241},\"x\":{\"value\":-0.3518478572368622},\"y\":{\"value\":5.355894565582275}},\"id\":\"fb2f2674-54f2-46c4-b88b-f9b7c08310c6\",\"type\":\"Ellipse\"},{\"attributes\":{\"data_source\":{\"id\":\"2b78bd60-c4eb-440e-9053-ac93756c94da\",\"type\":\"ColumnDataSource\"},\"glyph\":{\"id\":\"b65b6cbd-66df-47c8-ac98-8bb8572af1f1\",\"type\":\"Ellipse\"},\"hover_glyph\":null,\"muted_glyph\":null,\"nonselection_glyph\":{\"id\":\"fb2f2674-54f2-46c4-b88b-f9b7c08310c6\",\"type\":\"Ellipse\"},\"selection_glyph\":null,\"view\":{\"id\":\"4329a9f5-0662-4b14-a20b-350fc1b401b3\",\"type\":\"CDSView\"}},\"id\":\"8e19db67-89c3-4ae5-8023-dff88a8ca6c3\",\"type\":\"GlyphRenderer\"},{\"attributes\":{\"fill_alpha\":{\"value\":0.5},\"fill_color\":{\"value\":\"blue\"},\"line_alpha\":{\"value\":0.5},\"line_color\":{\"value\":\"blue\"},\"x\":{\"value\":-1.4743911027908325},\"y\":{\"value\":4.053091049194336}},\"id\":\"3f7867d0-520e-4a0c-895d-bb973dcdf34a\",\"type\":\"Cross\"},{\"attributes\":{\"angle\":{\"units\":\"rad\",\"value\":-1.0221046209335327},\"fill_alpha\":{\"value\":0.1},\"fill_color\":{\"value\":\"#1f77b4\"},\"height\":{\"units\":\"data\",\"value\":3.2745375633239746},\"line_alpha\":{\"value\":0.1},\"line_color\":{\"value\":\"#1f77b4\"},\"width\":{\"units\":\"data\",\"value\":1.0521503686904907},\"x\":{\"value\":-2.596935987472534},\"y\":{\"value\":2.7502880096435547}},\"id\":\"3cf0dc39-f211-41a6-ac25-e26320181a9b\",\"type\":\"Ellipse\"},{\"attributes\":{\"source\":{\"id\":\"2b78bd60-c4eb-440e-9053-ac93756c94da\",\"type\":\"ColumnDataSource\"}},\"id\":\"4329a9f5-0662-4b14-a20b-350fc1b401b3\",\"type\":\"CDSView\"},{\"attributes\":{\"angle\":{\"units\":\"rad\",\"value\":-1.0221046209335327},\"fill_alpha\":{\"value\":0.1},\"fill_color\":{\"value\":\"#1f77b4\"},\"height\":{\"units\":\"data\",\"value\":6.549075126647949},\"line_alpha\":{\"value\":0.1},\"line_color\":{\"value\":\"#1f77b4\"},\"width\":{\"units\":\"data\",\"value\":2.1043007373809814},\"x\":{\"value\":-2.596935987472534},\"y\":{\"value\":2.7502880096435547}},\"id\":\"ba5deedb-40ea-4403-a4b5-91b921ba9b87\",\"type\":\"Ellipse\"},{\"attributes\":{\"source\":{\"id\":\"b5d1a31c-9e41-4ec8-a23e-be82ec092f25\",\"type\":\"ColumnDataSource\"}},\"id\":\"09c40ba6-807f-495c-bb79-6e7ef190e267\",\"type\":\"CDSView\"},{\"attributes\":{\"callback\":null,\"data\":{}},\"id\":\"ad95cb1b-d279-4550-ae78-b506ad909e1b\",\"type\":\"ColumnDataSource\"},{\"attributes\":{\"source\":{\"id\":\"31a518ce-c47c-418f-a183-9299bfe9498d\",\"type\":\"ColumnDataSource\"}},\"id\":\"9cc6ab3d-ddbd-4841-b213-f633c973c287\",\"type\":\"CDSView\"},{\"attributes\":{\"callback\":null,\"data\":{}},\"id\":\"30758cfd-21a3-4c7e-badb-d67fc1b80b98\",\"type\":\"ColumnDataSource\"},{\"attributes\":{\"data_source\":{\"id\":\"b5d1a31c-9e41-4ec8-a23e-be82ec092f25\",\"type\":\"ColumnDataSource\"},\"glyph\":{\"id\":\"12e25e46-d979-4fc4-99f5-26397ff22a91\",\"type\":\"Cross\"},\"hover_glyph\":null,\"muted_glyph\":null,\"nonselection_glyph\":{\"id\":\"bdc90049-d4c1-43dd-8f50-cd2b114197a0\",\"type\":\"Cross\"},\"selection_glyph\":null,\"view\":{\"id\":\"09c40ba6-807f-495c-bb79-6e7ef190e267\",\"type\":\"CDSView\"}},\"id\":\"cc761190-663a-4915-823f-fa0f0cd1dd98\",\"type\":\"GlyphRenderer\"},{\"attributes\":{\"fill_alpha\":{\"value\":0.5},\"fill_color\":{\"value\":\"green\"},\"line_alpha\":{\"value\":0.5},\"line_color\":{\"value\":\"green\"},\"x\":{\"value\":-0.3518478572368622},\"y\":{\"value\":5.355894565582275}},\"id\":\"294ce0e8-a72a-498c-8d1b-573d1ab90331\",\"type\":\"Cross\"},{\"attributes\":{\"fill_alpha\":{\"value\":0.1},\"fill_color\":{\"value\":\"#1f77b4\"},\"line_alpha\":{\"value\":0.1},\"line_color\":{\"value\":\"#1f77b4\"},\"x\":{\"value\":-0.3518478572368622},\"y\":{\"value\":5.355894565582275}},\"id\":\"af913aaf-f656-4393-b83b-a884fb79fdc8\",\"type\":\"Cross\"},{\"attributes\":{\"data_source\":{\"id\":\"30758cfd-21a3-4c7e-badb-d67fc1b80b98\",\"type\":\"ColumnDataSource\"},\"glyph\":{\"id\":\"294ce0e8-a72a-498c-8d1b-573d1ab90331\",\"type\":\"Cross\"},\"hover_glyph\":null,\"muted_glyph\":null,\"nonselection_glyph\":{\"id\":\"af913aaf-f656-4393-b83b-a884fb79fdc8\",\"type\":\"Cross\"},\"selection_glyph\":null,\"view\":{\"id\":\"3d3dc6ec-14b6-419b-8ea1-69b3f330d220\",\"type\":\"CDSView\"}},\"id\":\"5aa849eb-b6f3-4e3d-a1cd-28ccb5aead56\",\"type\":\"GlyphRenderer\"},{\"attributes\":{\"angle\":{\"units\":\"rad\",\"value\":-1.0221049785614014},\"fill_alpha\":{\"value\":0.5},\"fill_color\":{\"value\":\"green\"},\"height\":{\"units\":\"data\",\"value\":3.2745368480682373},\"line_alpha\":{\"value\":0.5},\"line_color\":{\"value\":\"green\"},\"width\":{\"units\":\"data\",\"value\":1.0521477460861206},\"x\":{\"value\":-0.3518478572368622},\"y\":{\"value\":5.355894565582275}},\"id\":\"7bb1a17c-bbaa-4baa-869b-a881a3e4a946\",\"type\":\"Ellipse\"},{\"attributes\":{\"source\":{\"id\":\"30758cfd-21a3-4c7e-badb-d67fc1b80b98\",\"type\":\"ColumnDataSource\"}},\"id\":\"3d3dc6ec-14b6-419b-8ea1-69b3f330d220\",\"type\":\"CDSView\"},{\"attributes\":{\"fill_alpha\":{\"value\":0.5},\"fill_color\":{\"value\":\"red\"},\"line_alpha\":{\"value\":0.5},\"line_color\":{\"value\":\"red\"},\"x\":{\"value\":-2.596935987472534},\"y\":{\"value\":2.7502880096435547}},\"id\":\"12e25e46-d979-4fc4-99f5-26397ff22a91\",\"type\":\"Cross\"},{\"attributes\":{\"angle\":{\"units\":\"rad\",\"value\":-1.0221049785614014},\"fill_alpha\":{\"value\":0.1},\"fill_color\":{\"value\":\"#1f77b4\"},\"height\":{\"units\":\"data\",\"value\":3.2745368480682373},\"line_alpha\":{\"value\":0.1},\"line_color\":{\"value\":\"#1f77b4\"},\"width\":{\"units\":\"data\",\"value\":1.0521477460861206},\"x\":{\"value\":-0.3518478572368622},\"y\":{\"value\":5.355894565582275}},\"id\":\"528ecfc9-e364-431c-89f3-e213f3abcc37\",\"type\":\"Ellipse\"},{\"attributes\":{\"data_source\":{\"id\":\"ad95cb1b-d279-4550-ae78-b506ad909e1b\",\"type\":\"ColumnDataSource\"},\"glyph\":{\"id\":\"7bb1a17c-bbaa-4baa-869b-a881a3e4a946\",\"type\":\"Ellipse\"},\"hover_glyph\":null,\"muted_glyph\":null,\"nonselection_glyph\":{\"id\":\"528ecfc9-e364-431c-89f3-e213f3abcc37\",\"type\":\"Ellipse\"},\"selection_glyph\":null,\"view\":{\"id\":\"8b8e8f70-b516-40d4-abc4-fe96a8fb0ed1\",\"type\":\"CDSView\"}},\"id\":\"5079ec44-4f39-4c88-9d97-aefba2e88b38\",\"type\":\"GlyphRenderer\"},{\"attributes\":{\"active_drag\":\"auto\",\"active_inspect\":\"auto\",\"active_scroll\":\"auto\",\"active_tap\":\"auto\",\"tools\":[{\"id\":\"fdefd14d-03d0-4c36-b08b-16ab2ae51b48\",\"type\":\"PanTool\"},{\"id\":\"3d299be5-8c21-4372-9bc4-2d2cb6529028\",\"type\":\"WheelZoomTool\"},{\"id\":\"3b3f1237-0152-4a1d-a8ac-450569659ccb\",\"type\":\"BoxZoomTool\"},{\"id\":\"8a1041d6-e27d-4dd4-92c9-e67c002fa3f1\",\"type\":\"SaveTool\"},{\"id\":\"c3fe1ff9-8ffb-4f21-8034-4ce272e739b8\",\"type\":\"ResetTool\"},{\"id\":\"9bb232b3-50c9-4aaa-93a6-4d9ab5c5511f\",\"type\":\"HelpTool\"}]},\"id\":\"bf1ea0a9-87bf-43f3-a1ba-f424a903e8d7\",\"type\":\"Toolbar\"},{\"attributes\":{\"source\":{\"id\":\"ad95cb1b-d279-4550-ae78-b506ad909e1b\",\"type\":\"ColumnDataSource\"}},\"id\":\"8b8e8f70-b516-40d4-abc4-fe96a8fb0ed1\",\"type\":\"CDSView\"},{\"attributes\":{\"callback\":null,\"data\":{}},\"id\":\"0259058c-a1ca-463a-bb3c-15ba4ef9241d\",\"type\":\"ColumnDataSource\"},{\"attributes\":{},\"id\":\"2f2665b2-e401-4846-b22d-c431afd97f3c\",\"type\":\"LinearScale\"},{\"attributes\":{\"fill_color\":{\"value\":\"#1f77b4\"},\"line_color\":{\"value\":\"#1f77b4\"},\"x\":{\"field\":\"x\"},\"y\":{\"field\":\"y\"}},\"id\":\"25056e4b-75f0-4895-9582-af036b3436bc\",\"type\":\"Circle\"},{\"attributes\":{\"callback\":null,\"column_names\":[\"x\",\"y\"],\"data\":{\"x\":{\"__ndarray__\":\"K/88HEi+6L+EYK4NdSsKwEY8fdBZdxPA6M5gVXVYDMBcGagR1bjtv4vGQWYR3fu/YLMSiqNYzz/glsaz4qjUP793eOhg5eW/+AAlMjti+b8DLW7HGQcKwPJQQimegOS/vLeGGXFtAcC2vsXQBagBwLTJwWTYQ/i/bCmrlxOa2r/W7w9cbiIHwFDwjfDe9+O/SUpzt1DD7L9A0Zlunxi9P2IsUoJm6gvAdsuD+QHn779H/UfVxfznv3j3JuCAo/+/BBweKrca7r8U6dG/4CMBwFjnhueKD/o/IYf2KnkLF8A6JF09fvnkvyLnwsXvEfe/vST9a9I9EMA7/+voPGX6vygVW+7Kkf6/RGCItu0eA8D4favs85TRv1asQV/jcvW/7vjXSDQ+CcDKl1HXM6b1v0iE5FgHb/6/VI8yFlSS/L8eZU+Piw4AwHwykkHLVv+/lydV1o0a+L8Jjg6ZY/zzv7jptdZxOgLA/CRAtdFQ878A6KL9PbMDwHo22YYswgTA8oi6pbzd4b+AhT8ZVyORP0q/tQMomAjAktC9ln3uAcBQ9fVH4Q3Pv1S55eha698/DpfjSnhEB8DOP/MpysYGwAh4auEMP9S/UIYYt5UGsD8AaOZzh8vSP/h/CTrWzAHAwAYJe8Cftj/y4tE+igP+v9CJeR5cbuO/aWineiPY5L/iMc0fHSoDwC7mxbCesPq/oNNdQ8qp7z+l+uN/QjABwHQRJxyJJvm/2So9bYDF8r9oayYMUS4GwEefi1vBPve/QRn4xyipDcCsVq/YV4buv0y3aPZMruC/0norZJ0CBsA+jsBPIjXzP7KKLPQN8AbAIENJQ9yU9j9ekiHJRBMRwBb3MwDAnfs/LJ0yJfkR9r8QQe9VeaX1P/BuO137EwHAauA3SjWg6r+Uli0ZCssNwLfKKCMRuwDAHbn8MMmk+r+KcPQIs/r3v7eHM3qDCQ3AiA6zP2dt4j/uNEXiHd35P3wC737zK9G/zP1mT2N79L9Uu2XrGvcGwPCAHDVH2vO/C6h3ecYO+b/DS/BMHQXuv/Yyd3Fc0vy/yPSF2bGQ+b8=\",\"dtype\":\"float64\",\"shape\":[100]},\"y\":{\"__ndarray__\":\"SD5MmXP+E0AU9cDdyDv7P8RJkjlUgu4/p3X7la14CECS/M6a2BgJQP/AFOt6hw5A2lgmeCI1FEDYd1MJ0vUTQNzM6h5s+g5A4ktGNVZREEA4KZ5Fy+oPQNuml/Kp+hNAsrnkDdReCkCnnbOUOnwMQHJO4uIc9A5AD3H7A7r+E0Al9zbWyVIKQEgE8WAV/hBAAxCfHTReEkCZl1kanGoRQGMC5RF2sAdAeMFs9rMEEkDaQGHz9ZIJQATyjp+9jhFA+KIYB7UtDUDEx9vGaPwRQNg/fOTd7xdAIGmKluuy9z9ECURWx8cRQHHY7URemxJAfrRqQyVFC0D22L6/LJwRQJyuJ3bArwpA9F5Y83K4CkDweoeNFmQPQIdL0oK1YA9A1nQx0LO3DUB2vNUVTi4BQNHSh/pqggxA0fJhlOY4E0CHj/F2iPQPQLb1N5USixBALQ6/0QmvDED3S/O/bDsLQPI6mQtq1g5AYHXemuCID0BksnoYbw0PQFgtpKzrnBBA9z1Yx1iwEEAhmX3il2oQQO5q5KEZuwVAKm3EFvgvDkC29W31jOMTQDQwPgsLqRVAYE7ANoC6CkB4dznVjOwCQK29tf7ERA9A65x/CY0EE0BtIFz3Lw8XQPmDSR53Bw5AHsvrPjZMFEDm0MIImzQSQLjhKPvMlxBAQMrwE3X1EUANRL2sZWoLQBSZ3lroVwVA5tv8rH/5FkD6uY9RTTUTQNYG3DtULxNA4p6hPTqSEUAqw4qaaQsFQAqyBkzRcg9AFsN/RCYKCEC7gd76XIEXQMZiQ430OhZA7yXb02eoEEBiAOZP9xcYQFolI4JS3QlASw1yxpYwFkB6LpS6088JQD39g8rNzBNAcyLYyM9SEUB1YKFSFhUWQH6h3/s/wghAJ0R0FDHIEUBLGEBVN1YKQKnVvr8Zkg9Arr3deyt5DkB5ZHxNYukQQDLpXtS5fgRAQXQ26JPiFEB/y5vKGfQWQMKxOHZudhNA6/I72zaMEEDoNdV4kz0IQEno9sQdEhFAyhLZDFCsD0BkbzojR/QRQKuHAPkcAxJArAuGFKvcEUA=\",\"dtype\":\"float64\",\"shape\":[100]}}},\"id\":\"11f186f2-7430-4933-b238-d3e295f27b43\",\"type\":\"ColumnDataSource\"},{\"attributes\":{\"below\":[{\"id\":\"f5f41efd-a3ce-4fb0-acd6-ada4739fded2\",\"type\":\"LinearAxis\"}],\"left\":[{\"id\":\"8c8eb14d-af77-4b45-891c-81f8dc45772a\",\"type\":\"LinearAxis\"}],\"plot_height\":400,\"plot_width\":400,\"renderers\":[{\"id\":\"f5f41efd-a3ce-4fb0-acd6-ada4739fded2\",\"type\":\"LinearAxis\"},{\"id\":\"2f4bd19b-c6c0-4d54-aadc-f6933cd8c335\",\"type\":\"Grid\"},{\"id\":\"8c8eb14d-af77-4b45-891c-81f8dc45772a\",\"type\":\"LinearAxis\"},{\"id\":\"24c12f6a-0a4f-45d4-a17c-ab8727deb265\",\"type\":\"Grid\"},{\"id\":\"db0daf7b-5752-44bc-8e31-c961ddd8b012\",\"type\":\"BoxAnnotation\"},{\"id\":\"db735afb-8eda-4f3f-a41d-b274eaf3c298\",\"type\":\"GlyphRenderer\"},{\"id\":\"934d3fba-e43d-4999-82d3-ce49f9269de7\",\"type\":\"GlyphRenderer\"},{\"id\":\"169964ff-95b3-40c6-96f5-40eb76bc4bb1\",\"type\":\"GlyphRenderer\"},{\"id\":\"3b906712-6da9-4e44-ae24-4d338856838c\",\"type\":\"GlyphRenderer\"},{\"id\":\"d3283bf8-a3ce-4cae-af43-eca8e5220925\",\"type\":\"GlyphRenderer\"},{\"id\":\"cc761190-663a-4915-823f-fa0f0cd1dd98\",\"type\":\"GlyphRenderer\"},{\"id\":\"e4eafdb5-8320-430e-bd2e-c2192741db10\",\"type\":\"GlyphRenderer\"},{\"id\":\"8e19db67-89c3-4ae5-8023-dff88a8ca6c3\",\"type\":\"GlyphRenderer\"},{\"id\":\"5aa849eb-b6f3-4e3d-a1cd-28ccb5aead56\",\"type\":\"GlyphRenderer\"},{\"id\":\"5079ec44-4f39-4c88-9d97-aefba2e88b38\",\"type\":\"GlyphRenderer\"}],\"title\":{\"id\":\"8de682c4-85ad-4071-99f9-abd81255f65d\",\"type\":\"Title\"},\"toolbar\":{\"id\":\"bf1ea0a9-87bf-43f3-a1ba-f424a903e8d7\",\"type\":\"Toolbar\"},\"x_range\":{\"id\":\"70f1a8cf-478a-4637-852a-fade5f52bbe7\",\"type\":\"Range1d\"},\"x_scale\":{\"id\":\"2f2665b2-e401-4846-b22d-c431afd97f3c\",\"type\":\"LinearScale\"},\"y_range\":{\"id\":\"f2d3541f-ccd8-4c6e-9e75-a2eb4016d156\",\"type\":\"Range1d\"},\"y_scale\":{\"id\":\"92327e9a-969f-4552-b583-b6d1a7317a62\",\"type\":\"LinearScale\"}},\"id\":\"ba6df4d1-3a2a-44c5-af57-9699b3395c11\",\"subtype\":\"Figure\",\"type\":\"Plot\"},{\"attributes\":{\"data_source\":{\"id\":\"11f186f2-7430-4933-b238-d3e295f27b43\",\"type\":\"ColumnDataSource\"},\"glyph\":{\"id\":\"25056e4b-75f0-4895-9582-af036b3436bc\",\"type\":\"Circle\"},\"hover_glyph\":null,\"muted_glyph\":null,\"nonselection_glyph\":{\"id\":\"de26f403-6483-458b-9a0f-5956d28dc857\",\"type\":\"Circle\"},\"selection_glyph\":null,\"view\":{\"id\":\"b631504c-9963-4ac5-9d3f-1d636f98011f\",\"type\":\"CDSView\"}},\"id\":\"db735afb-8eda-4f3f-a41d-b274eaf3c298\",\"type\":\"GlyphRenderer\"},{\"attributes\":{\"plot\":null,\"text\":\"Initial model\"},\"id\":\"8de682c4-85ad-4071-99f9-abd81255f65d\",\"type\":\"Title\"},{\"attributes\":{\"data_source\":{\"id\":\"475eafef-0808-44ce-8164-2d7f66940813\",\"type\":\"ColumnDataSource\"},\"glyph\":{\"id\":\"5f025ea4-b874-4ba9-9e14-7c0931e5c33d\",\"type\":\"Ellipse\"},\"hover_glyph\":null,\"muted_glyph\":null,\"nonselection_glyph\":{\"id\":\"1e8c6220-eb86-4fed-8473-bb6f5582eecc\",\"type\":\"Ellipse\"},\"selection_glyph\":null,\"view\":{\"id\":\"1b0d3992-d4d4-4180-a323-2f2b5fb29f91\",\"type\":\"CDSView\"}},\"id\":\"3b906712-6da9-4e44-ae24-4d338856838c\",\"type\":\"GlyphRenderer\"},{\"attributes\":{\"source\":{\"id\":\"ab7f6edf-e4b7-41ec-a525-0c8142b47f3c\",\"type\":\"ColumnDataSource\"}},\"id\":\"d447e11f-3db4-44d6-a841-ccfc161804a5\",\"type\":\"CDSView\"},{\"attributes\":{\"source\":{\"id\":\"0ede78f8-1585-496a-ad24-e0de1bc74038\",\"type\":\"ColumnDataSource\"}},\"id\":\"793a30af-5eb3-4e92-86cf-812c56185b95\",\"type\":\"CDSView\"},{\"attributes\":{\"angle\":{\"units\":\"rad\",\"value\":-1.0221046209335327},\"fill_alpha\":{\"value\":0.25},\"fill_color\":{\"value\":\"red\"},\"height\":{\"units\":\"data\",\"value\":6.549075126647949},\"line_alpha\":{\"value\":0.25},\"line_color\":{\"value\":\"red\"},\"width\":{\"units\":\"data\",\"value\":2.1043007373809814},\"x\":{\"value\":-2.596935987472534},\"y\":{\"value\":2.7502880096435547}},\"id\":\"118e0a27-ce27-4f84-b1a2-3fc68b8f02f5\",\"type\":\"Ellipse\"},{\"attributes\":{\"callback\":null,\"data\":{}},\"id\":\"2b78bd60-c4eb-440e-9053-ac93756c94da\",\"type\":\"ColumnDataSource\"},{\"attributes\":{},\"id\":\"e2704856-77b7-460b-91ba-ce6fce78c34a\",\"type\":\"BasicTicker\"},{\"attributes\":{\"fill_alpha\":{\"value\":0.1},\"fill_color\":{\"value\":\"#1f77b4\"},\"line_alpha\":{\"value\":0.1},\"line_color\":{\"value\":\"#1f77b4\"},\"x\":{\"value\":-2.596935987472534},\"y\":{\"value\":2.7502880096435547}},\"id\":\"bdc90049-d4c1-43dd-8f50-cd2b114197a0\",\"type\":\"Cross\"},{\"attributes\":{},\"id\":\"a6d5ebc0-4f61-41f8-b507-f1a886e455f4\",\"type\":\"BasicTickFormatter\"},{\"attributes\":{\"angle\":{\"units\":\"rad\",\"value\":-1.0221047401428223},\"fill_alpha\":{\"value\":0.5},\"fill_color\":{\"value\":\"blue\"},\"height\":{\"units\":\"data\",\"value\":3.2745368480682373},\"line_alpha\":{\"value\":0.5},\"line_color\":{\"value\":\"blue\"},\"width\":{\"units\":\"data\",\"value\":1.0521495342254639},\"x\":{\"value\":-1.4743911027908325},\"y\":{\"value\":4.053091049194336}},\"id\":\"5f025ea4-b874-4ba9-9e14-7c0931e5c33d\",\"type\":\"Ellipse\"},{\"attributes\":{\"callback\":null,\"end\":3.5,\"start\":-6.5},\"id\":\"70f1a8cf-478a-4637-852a-fade5f52bbe7\",\"type\":\"Range1d\"},{\"attributes\":{\"callback\":null,\"end\":9.0,\"start\":-1.0},\"id\":\"f2d3541f-ccd8-4c6e-9e75-a2eb4016d156\",\"type\":\"Range1d\"},{\"attributes\":{\"formatter\":{\"id\":\"a6d5ebc0-4f61-41f8-b507-f1a886e455f4\",\"type\":\"BasicTickFormatter\"},\"plot\":{\"id\":\"ba6df4d1-3a2a-44c5-af57-9699b3395c11\",\"subtype\":\"Figure\",\"type\":\"Plot\"},\"ticker\":{\"id\":\"e2704856-77b7-460b-91ba-ce6fce78c34a\",\"type\":\"BasicTicker\"}},\"id\":\"f5f41efd-a3ce-4fb0-acd6-ada4739fded2\",\"type\":\"LinearAxis\"},{\"attributes\":{\"dimension\":1,\"plot\":{\"id\":\"ba6df4d1-3a2a-44c5-af57-9699b3395c11\",\"subtype\":\"Figure\",\"type\":\"Plot\"},\"ticker\":{\"id\":\"284a035d-42fd-4df7-9887-1ca97b852e01\",\"type\":\"BasicTicker\"}},\"id\":\"24c12f6a-0a4f-45d4-a17c-ab8727deb265\",\"type\":\"Grid\"},{\"attributes\":{\"data_source\":{\"id\":\"ab7f6edf-e4b7-41ec-a525-0c8142b47f3c\",\"type\":\"ColumnDataSource\"},\"glyph\":{\"id\":\"118e0a27-ce27-4f84-b1a2-3fc68b8f02f5\",\"type\":\"Ellipse\"},\"hover_glyph\":null,\"muted_glyph\":null,\"nonselection_glyph\":{\"id\":\"ba5deedb-40ea-4403-a4b5-91b921ba9b87\",\"type\":\"Ellipse\"},\"selection_glyph\":null,\"view\":{\"id\":\"d447e11f-3db4-44d6-a841-ccfc161804a5\",\"type\":\"CDSView\"}},\"id\":\"d3283bf8-a3ce-4cae-af43-eca8e5220925\",\"type\":\"GlyphRenderer\"},{\"attributes\":{},\"id\":\"0bbd4e99-431c-4a4f-8c9d-01526a69782f\",\"type\":\"BasicTickFormatter\"},{\"attributes\":{\"fill_alpha\":{\"value\":0.1},\"fill_color\":{\"value\":\"#1f77b4\"},\"line_alpha\":{\"value\":0.1},\"line_color\":{\"value\":\"#1f77b4\"},\"x\":{\"field\":\"x\"},\"y\":{\"field\":\"y\"}},\"id\":\"de26f403-6483-458b-9a0f-5956d28dc857\",\"type\":\"Circle\"},{\"attributes\":{\"source\":{\"id\":\"11f186f2-7430-4933-b238-d3e295f27b43\",\"type\":\"ColumnDataSource\"}},\"id\":\"b631504c-9963-4ac5-9d3f-1d636f98011f\",\"type\":\"CDSView\"},{\"attributes\":{\"formatter\":{\"id\":\"0bbd4e99-431c-4a4f-8c9d-01526a69782f\",\"type\":\"BasicTickFormatter\"},\"plot\":{\"id\":\"ba6df4d1-3a2a-44c5-af57-9699b3395c11\",\"subtype\":\"Figure\",\"type\":\"Plot\"},\"ticker\":{\"id\":\"284a035d-42fd-4df7-9887-1ca97b852e01\",\"type\":\"BasicTicker\"}},\"id\":\"8c8eb14d-af77-4b45-891c-81f8dc45772a\",\"type\":\"LinearAxis\"},{\"attributes\":{},\"id\":\"284a035d-42fd-4df7-9887-1ca97b852e01\",\"type\":\"BasicTicker\"},{\"attributes\":{},\"id\":\"92327e9a-969f-4552-b583-b6d1a7317a62\",\"type\":\"LinearScale\"},{\"attributes\":{\"plot\":{\"id\":\"ba6df4d1-3a2a-44c5-af57-9699b3395c11\",\"subtype\":\"Figure\",\"type\":\"Plot\"},\"ticker\":{\"id\":\"e2704856-77b7-460b-91ba-ce6fce78c34a\",\"type\":\"BasicTicker\"}},\"id\":\"2f4bd19b-c6c0-4d54-aadc-f6933cd8c335\",\"type\":\"Grid\"},{\"attributes\":{},\"id\":\"fdefd14d-03d0-4c36-b08b-16ab2ae51b48\",\"type\":\"PanTool\"},{\"attributes\":{\"callback\":null,\"data\":{}},\"id\":\"ab7f6edf-e4b7-41ec-a525-0c8142b47f3c\",\"type\":\"ColumnDataSource\"},{\"attributes\":{\"callback\":null,\"data\":{}},\"id\":\"0ede78f8-1585-496a-ad24-e0de1bc74038\",\"type\":\"ColumnDataSource\"},{\"attributes\":{\"bottom_units\":\"screen\",\"fill_alpha\":{\"value\":0.5},\"fill_color\":{\"value\":\"lightgrey\"},\"left_units\":\"screen\",\"level\":\"overlay\",\"line_alpha\":{\"value\":1.0},\"line_color\":{\"value\":\"black\"},\"line_dash\":[4,4],\"line_width\":{\"value\":2},\"plot\":null,\"render_mode\":\"css\",\"right_units\":\"screen\",\"top_units\":\"screen\"},\"id\":\"db0daf7b-5752-44bc-8e31-c961ddd8b012\",\"type\":\"BoxAnnotation\"},{\"attributes\":{\"source\":{\"id\":\"475eafef-0808-44ce-8164-2d7f66940813\",\"type\":\"ColumnDataSource\"}},\"id\":\"1b0d3992-d4d4-4180-a323-2f2b5fb29f91\",\"type\":\"CDSView\"},{\"attributes\":{\"callback\":null,\"data\":{}},\"id\":\"b5d1a31c-9e41-4ec8-a23e-be82ec092f25\",\"type\":\"ColumnDataSource\"},{\"attributes\":{\"angle\":{\"units\":\"rad\",\"value\":-1.0221047401428223},\"fill_alpha\":{\"value\":0.25},\"fill_color\":{\"value\":\"blue\"},\"height\":{\"units\":\"data\",\"value\":6.549073696136475},\"line_alpha\":{\"value\":0.25},\"line_color\":{\"value\":\"blue\"},\"width\":{\"units\":\"data\",\"value\":2.1042990684509277},\"x\":{\"value\":-1.4743911027908325},\"y\":{\"value\":4.053091049194336}},\"id\":\"d451baf5-9c35-4f14-8df0-fe4964578fa7\",\"type\":\"Ellipse\"},{\"attributes\":{},\"id\":\"9bb232b3-50c9-4aaa-93a6-4d9ab5c5511f\",\"type\":\"HelpTool\"},{\"attributes\":{},\"id\":\"8a1041d6-e27d-4dd4-92c9-e67c002fa3f1\",\"type\":\"SaveTool\"},{\"attributes\":{\"data_source\":{\"id\":\"31a518ce-c47c-418f-a183-9299bfe9498d\",\"type\":\"ColumnDataSource\"},\"glyph\":{\"id\":\"a4a44e71-4bff-48b3-a3cc-e5afbc8696dd\",\"type\":\"Ellipse\"},\"hover_glyph\":null,\"muted_glyph\":null,\"nonselection_glyph\":{\"id\":\"3cf0dc39-f211-41a6-ac25-e26320181a9b\",\"type\":\"Ellipse\"},\"selection_glyph\":null,\"view\":{\"id\":\"9cc6ab3d-ddbd-4841-b213-f633c973c287\",\"type\":\"CDSView\"}},\"id\":\"e4eafdb5-8320-430e-bd2e-c2192741db10\",\"type\":\"GlyphRenderer\"},{\"attributes\":{\"angle\":{\"units\":\"rad\",\"value\":-1.0221047401428223},\"fill_alpha\":{\"value\":0.1},\"fill_color\":{\"value\":\"#1f77b4\"},\"height\":{\"units\":\"data\",\"value\":6.549073696136475},\"line_alpha\":{\"value\":0.1},\"line_color\":{\"value\":\"#1f77b4\"},\"width\":{\"units\":\"data\",\"value\":2.1042990684509277},\"x\":{\"value\":-1.4743911027908325},\"y\":{\"value\":4.053091049194336}},\"id\":\"4f03b879-9e58-46b8-9476-c29c8d74ac12\",\"type\":\"Ellipse\"},{\"attributes\":{\"source\":{\"id\":\"0259058c-a1ca-463a-bb3c-15ba4ef9241d\",\"type\":\"ColumnDataSource\"}},\"id\":\"97c697b2-c40f-427a-9a74-7425e7da8332\",\"type\":\"CDSView\"},{\"attributes\":{\"callback\":null,\"data\":{}},\"id\":\"475eafef-0808-44ce-8164-2d7f66940813\",\"type\":\"ColumnDataSource\"},{\"attributes\":{},\"id\":\"3d299be5-8c21-4372-9bc4-2d2cb6529028\",\"type\":\"WheelZoomTool\"},{\"attributes\":{\"angle\":{\"units\":\"rad\",\"value\":-1.0221047401428223},\"fill_alpha\":{\"value\":0.1},\"fill_color\":{\"value\":\"#1f77b4\"},\"height\":{\"units\":\"data\",\"value\":3.2745368480682373},\"line_alpha\":{\"value\":0.1},\"line_color\":{\"value\":\"#1f77b4\"},\"width\":{\"units\":\"data\",\"value\":1.0521495342254639},\"x\":{\"value\":-1.4743911027908325},\"y\":{\"value\":4.053091049194336}},\"id\":\"1e8c6220-eb86-4fed-8473-bb6f5582eecc\",\"type\":\"Ellipse\"},{\"attributes\":{},\"id\":\"c3fe1ff9-8ffb-4f21-8034-4ce272e739b8\",\"type\":\"ResetTool\"},{\"attributes\":{\"overlay\":{\"id\":\"db0daf7b-5752-44bc-8e31-c961ddd8b012\",\"type\":\"BoxAnnotation\"}},\"id\":\"3b3f1237-0152-4a1d-a8ac-450569659ccb\",\"type\":\"BoxZoomTool\"},{\"attributes\":{\"data_source\":{\"id\":\"0ede78f8-1585-496a-ad24-e0de1bc74038\",\"type\":\"ColumnDataSource\"},\"glyph\":{\"id\":\"3f7867d0-520e-4a0c-895d-bb973dcdf34a\",\"type\":\"Cross\"},\"hover_glyph\":null,\"muted_glyph\":null,\"nonselection_glyph\":{\"id\":\"5a072f0e-dd02-4f20-9398-ec4ee7716748\",\"type\":\"Cross\"},\"selection_glyph\":null,\"view\":{\"id\":\"793a30af-5eb3-4e92-86cf-812c56185b95\",\"type\":\"CDSView\"}},\"id\":\"169964ff-95b3-40c6-96f5-40eb76bc4bb1\",\"type\":\"GlyphRenderer\"},{\"attributes\":{\"data_source\":{\"id\":\"0259058c-a1ca-463a-bb3c-15ba4ef9241d\",\"type\":\"ColumnDataSource\"},\"glyph\":{\"id\":\"d451baf5-9c35-4f14-8df0-fe4964578fa7\",\"type\":\"Ellipse\"},\"hover_glyph\":null,\"muted_glyph\":null,\"nonselection_glyph\":{\"id\":\"4f03b879-9e58-46b8-9476-c29c8d74ac12\",\"type\":\"Ellipse\"},\"selection_glyph\":null,\"view\":{\"id\":\"97c697b2-c40f-427a-9a74-7425e7da8332\",\"type\":\"CDSView\"}},\"id\":\"934d3fba-e43d-4999-82d3-ce49f9269de7\",\"type\":\"GlyphRenderer\"},{\"attributes\":{\"fill_alpha\":{\"value\":0.1},\"fill_color\":{\"value\":\"#1f77b4\"},\"line_alpha\":{\"value\":0.1},\"line_color\":{\"value\":\"#1f77b4\"},\"x\":{\"value\":-1.4743911027908325},\"y\":{\"value\":4.053091049194336}},\"id\":\"5a072f0e-dd02-4f20-9398-ec4ee7716748\",\"type\":\"Cross\"}],\"root_ids\":[\"ba6df4d1-3a2a-44c5-af57-9699b3395c11\"]},\"title\":\"Bokeh Application\",\"version\":\"0.12.14\"}};\n",
       "  var render_items = [{\"docid\":\"072a0406-a0ca-4228-8c48-40dcd0e8b6a7\",\"elementid\":\"01194a9d-5028-4d46-a835-7d8a830c44db\",\"modelid\":\"ba6df4d1-3a2a-44c5-af57-9699b3395c11\"}];\n",
       "  root.Bokeh.embed.embed_items_notebook(docs_json, render_items);\n",
       "\n",
       "  }\n",
       "  if (root.Bokeh !== undefined) {\n",
       "    embed_document(root);\n",
       "  } else {\n",
       "    var attempts = 0;\n",
       "    var timer = setInterval(function(root) {\n",
       "      if (root.Bokeh !== undefined) {\n",
       "        embed_document(root);\n",
       "        clearInterval(timer);\n",
       "      }\n",
       "      attempts++;\n",
       "      if (attempts > 100) {\n",
       "        console.log(\"Bokeh: ERROR: Unable to run BokehJS code because BokehJS library is missing\")\n",
       "        clearInterval(timer);\n",
       "      }\n",
       "    }, 10, root)\n",
       "  }\n",
       "})(window);"
      ],
      "application/vnd.bokehjs_exec.v0+json": ""
     },
     "metadata": {
      "application/vnd.bokehjs_exec.v0+json": {
       "id": "ba6df4d1-3a2a-44c5-af57-9699b3395c11"
      }
     },
     "output_type": "display_data"
    }
   ],
   "source": [
    "n1, n2 = normal_full.split()\n",
    "\n",
    "fig = figure(\n",
    "    title='Initial model',\n",
    "    width=400,\n",
    "    height=400,\n",
    "    x_range=(mean[0] - 5, mean[0] + 5),\n",
    "    y_range=(mean[1] - 5, mean[1] + 5)\n",
    ")\n",
    "fig.circle(data[:, 0], data[:, 1])\n",
    "plotting.plot_normal(fig, normal_full.mean.numpy(), normal_full.cov.numpy(), alpha=.5, color='blue')\n",
    "plotting.plot_normal(fig, n1.mean.numpy(), n1.cov.numpy(), alpha=.5, color='red')\n",
    "plotting.plot_normal(fig, n2.mean.numpy(), n2.cov.numpy(), alpha=.5, color='green')\n",
    "show(fig)"
   ]
  },
  {
   "cell_type": "markdown",
   "metadata": {},
   "source": [
    "# Model comparison\n",
    "\n",
    "We generate data for various correlation parameters:\n",
    "\n",
    "$$\n",
    "X_{\\lambda} \\sim \\mathcal{N}(\n",
    "    \\begin{pmatrix} \n",
    "    0 \\\\\n",
    "    0\n",
    "    \\end{pmatrix}, \n",
    "    \\begin{pmatrix} \n",
    "    1 & \\lambda \\\\\n",
    "    \\lambda & 1\n",
    "    \\end{pmatrix})\n",
    "$$\n",
    "\n",
    "and we compare the model evidence for both the Normal distribution with diagonal covariance matrix and with full covariance matrix.\n",
    "\n",
    "$$\n",
    "\\ln B_{\\lambda} = \\ln \\frac{p(X_\\lambda | \\mathcal{M}_{\\text{full}})}{p(X_\\lambda | \\mathcal{M}_{\\text{diag}})} =\n",
    "     \\ln \\frac{\\int_{\\theta} p(X_\\lambda | \\theta, \\mathcal{M}_{\\text{full}}) p(\\theta) d\\theta}{\\int_{\\theta}p(X_\\lambda | \\theta, \\mathcal{M}_{\\text{diag}})p(\\theta) d\\theta} = \\frac{A_{\\text{full}}(\\xi + \\sum_{n=1}^N T(x_n)) - A_{\\text{full}}(\\xi)}{A_{\\text{diag}}(\\xi + \\sum_{n=1}^N T(x_n))\n",
    "     - A_{\\text{diag}}(\\xi)}\n",
    "$$"
   ]
  },
  {
   "cell_type": "code",
   "execution_count": 7,
   "metadata": {
    "scrolled": false
   },
   "outputs": [
    {
     "data": {
      "text/html": [
       "\n",
       "<div class=\"bk-root\">\n",
       "    <div class=\"bk-plotdiv\" id=\"16adf66f-270c-4a15-92b1-f30d0e972a21\"></div>\n",
       "</div>"
      ]
     },
     "metadata": {},
     "output_type": "display_data"
    },
    {
     "data": {
      "application/javascript": [
       "(function(root) {\n",
       "  function embed_document(root) {\n",
       "    \n",
       "  var docs_json = {\"7afd68ec-b4af-4b8a-98cf-5fd10096e057\":{\"roots\":{\"references\":[{\"attributes\":{},\"id\":\"9dbcb6e1-921d-47f6-ab1e-ca8e66ceb97b\",\"type\":\"LinearScale\"},{\"attributes\":{\"bottom_units\":\"screen\",\"fill_alpha\":{\"value\":0.5},\"fill_color\":{\"value\":\"lightgrey\"},\"left_units\":\"screen\",\"level\":\"overlay\",\"line_alpha\":{\"value\":1.0},\"line_color\":{\"value\":\"black\"},\"line_dash\":[4,4],\"line_width\":{\"value\":2},\"plot\":null,\"render_mode\":\"css\",\"right_units\":\"screen\",\"top_units\":\"screen\"},\"id\":\"25d69604-a2f9-49b5-8c42-9a9f27d8727a\",\"type\":\"BoxAnnotation\"},{\"attributes\":{\"source\":{\"id\":\"10f17677-2d8e-4ad2-afb3-ae5b0f9e0b03\",\"type\":\"ColumnDataSource\"}},\"id\":\"a506ed42-2746-4881-b61a-bceeb406219a\",\"type\":\"CDSView\"},{\"attributes\":{},\"id\":\"abae7984-899d-4f86-b594-f11ca178e1e3\",\"type\":\"PanTool\"},{\"attributes\":{\"active_drag\":\"auto\",\"active_inspect\":\"auto\",\"active_scroll\":\"auto\",\"active_tap\":\"auto\",\"tools\":[{\"id\":\"abae7984-899d-4f86-b594-f11ca178e1e3\",\"type\":\"PanTool\"},{\"id\":\"35b0c891-2bf8-42fd-82c8-d0227088d68d\",\"type\":\"WheelZoomTool\"},{\"id\":\"8d4f8a33-ef06-49f3-9c6b-7937ea826fc4\",\"type\":\"BoxZoomTool\"},{\"id\":\"aa52731f-ced2-4d60-ab1d-32a818f386b5\",\"type\":\"SaveTool\"},{\"id\":\"f0c147e9-3af1-4d96-9cd2-a9a32feeb72a\",\"type\":\"ResetTool\"},{\"id\":\"938bf352-0781-4812-b8e1-c99e687b44db\",\"type\":\"HelpTool\"}]},\"id\":\"0689f901-8f03-44fb-bafb-b37d80e5a6d3\",\"type\":\"Toolbar\"},{\"attributes\":{},\"id\":\"8fbe9673-20b0-4a4e-8d6c-e106f4019a72\",\"type\":\"BasicTicker\"},{\"attributes\":{\"callback\":null},\"id\":\"942fa82d-b503-4123-bf42-8a0dec7158bc\",\"type\":\"DataRange1d\"},{\"attributes\":{},\"id\":\"41d8c54a-6dc2-441b-a5f0-e1a7e0a1feaa\",\"type\":\"LinearScale\"},{\"attributes\":{\"callback\":null},\"id\":\"ef5ef228-8a5f-4c1a-a36c-29f01268a292\",\"type\":\"DataRange1d\"},{\"attributes\":{},\"id\":\"35b0c891-2bf8-42fd-82c8-d0227088d68d\",\"type\":\"WheelZoomTool\"},{\"attributes\":{\"overlay\":{\"id\":\"25d69604-a2f9-49b5-8c42-9a9f27d8727a\",\"type\":\"BoxAnnotation\"}},\"id\":\"8d4f8a33-ef06-49f3-9c6b-7937ea826fc4\",\"type\":\"BoxZoomTool\"},{\"attributes\":{\"plot\":null,\"text\":\"Model Comparison\"},\"id\":\"ba231ca9-fe75-4d51-aa99-2a424cf46ffc\",\"type\":\"Title\"},{\"attributes\":{\"below\":[{\"id\":\"cbee590b-087b-4993-9562-1ccbee528e96\",\"type\":\"LinearAxis\"}],\"left\":[{\"id\":\"42f880c2-ad49-4cbf-93ed-c45c0244e493\",\"type\":\"LinearAxis\"}],\"plot_height\":400,\"plot_width\":400,\"renderers\":[{\"id\":\"cbee590b-087b-4993-9562-1ccbee528e96\",\"type\":\"LinearAxis\"},{\"id\":\"71b744bd-d28c-441b-9e6c-ccaf7be99e0d\",\"type\":\"Grid\"},{\"id\":\"42f880c2-ad49-4cbf-93ed-c45c0244e493\",\"type\":\"LinearAxis\"},{\"id\":\"3e151d76-1631-4c4e-b3c6-3a2637034a89\",\"type\":\"Grid\"},{\"id\":\"25d69604-a2f9-49b5-8c42-9a9f27d8727a\",\"type\":\"BoxAnnotation\"},{\"id\":\"0efa21ac-3ff8-4bad-8841-9ae2ece9eb76\",\"type\":\"GlyphRenderer\"}],\"title\":{\"id\":\"ba231ca9-fe75-4d51-aa99-2a424cf46ffc\",\"type\":\"Title\"},\"toolbar\":{\"id\":\"0689f901-8f03-44fb-bafb-b37d80e5a6d3\",\"type\":\"Toolbar\"},\"x_range\":{\"id\":\"ef5ef228-8a5f-4c1a-a36c-29f01268a292\",\"type\":\"DataRange1d\"},\"x_scale\":{\"id\":\"9dbcb6e1-921d-47f6-ab1e-ca8e66ceb97b\",\"type\":\"LinearScale\"},\"y_range\":{\"id\":\"942fa82d-b503-4123-bf42-8a0dec7158bc\",\"type\":\"DataRange1d\"},\"y_scale\":{\"id\":\"41d8c54a-6dc2-441b-a5f0-e1a7e0a1feaa\",\"type\":\"LinearScale\"}},\"id\":\"952f3f41-373e-4d7e-a6d0-ebf6f552c169\",\"subtype\":\"Figure\",\"type\":\"Plot\"},{\"attributes\":{},\"id\":\"aa52731f-ced2-4d60-ab1d-32a818f386b5\",\"type\":\"SaveTool\"},{\"attributes\":{},\"id\":\"f0c147e9-3af1-4d96-9cd2-a9a32feeb72a\",\"type\":\"ResetTool\"},{\"attributes\":{},\"id\":\"938bf352-0781-4812-b8e1-c99e687b44db\",\"type\":\"HelpTool\"},{\"attributes\":{\"callback\":null,\"column_names\":[\"x\",\"y\"],\"data\":{\"x\":{\"__ndarray__\":\"rkfhehSu778K16NwPQrvv2ZmZmZmZu6/wvUoXI/C7b8fhetRuB7tv3sUrkfheuy/16NwPQrX678zMzMzMzPrv4/C9Shcj+q/7FG4HoXr6b9I4XoUrkfpv6RwPQrXo+i/AAAAAAAA6L9cj8L1KFznv7gehetRuOa/FK5H4XoU5r9wPQrXo3Dlv8zMzMzMzOS/KVyPwvUo5L+F61G4HoXjv+F6FK5H4eK/PgrXo3A94r+amZmZmZnhv/YoXI/C9eC/UrgehetR4L9cj8L1KFzfvxSuR+F6FN6/zMzMzMzM3L+E61G4HoXbvz4K16NwPdq/9ihcj8L12L+uR+F6FK7Xv2ZmZmZmZta/HoXrUbge1b/Wo3A9CtfTv47C9Shcj9K/SOF6FK5H0b8AAAAAAADQv3A9CtejcM2/4HoUrkfhyr9QuB6F61HIv8D1KFyPwsW/NDMzMzMzw7+kcD0K16PAvyhcj8L1KLy/CNejcD0Kt7/oUbgeheuxv5CZmZmZmam/wB6F61G4nr+AFK5H4XqEv4AUrkfheoQ/wB6F61G4nj+gmZmZmZmpP/BRuB6F67E/ENejcD0Ktz8wXI/C9Si8P6hwPQrXo8A/ODMzMzMzwz/A9Shcj8LFP1C4HoXrUcg/4HoUrkfhyj9wPQrXo3DNPwAAAAAAANA/SOF6FK5H0T+QwvUoXI/SP9ijcD0K19M/IIXrUbge1T9oZmZmZmbWP7BH4XoUrtc/+Chcj8L12D9ACtejcD3aP4TrUbgehds/zMzMzMzM3D8UrkfhehTeP1yPwvUoXN8/UrgehetR4D/2KFyPwvXgP5qZmZmZmeE/PgrXo3A94j/iehSuR+HiP4brUbgeheM/KlyPwvUo5D/OzMzMzMzkP3I9CtejcOU/FK5H4XoU5j+4HoXrUbjmP1yPwvUoXOc/AAAAAAAA6D+kcD0K16PoP0jhehSuR+k/7FG4HoXr6T+QwvUoXI/qPzQzMzMzM+s/2KNwPQrX6z98FK5H4XrsPyCF61G4Hu0/wvUoXI/C7T9mZmZmZmbuPwrXo3A9Cu8/rkfhehSu7z8=\",\"dtype\":\"float64\",\"shape\":[100]},\"y\":{\"__ndarray__\":\"Oj/rRBoFskSY95FEeUl6RL3yUUTlBEBEEbk4RH3gIkThZhRE6nL0QwrX/kNiLexDAnrTQ8IGz0PCK6NDYgKsQ4pml0MKrYdD6q2LQ3SQf0OU62xDhGtVQ/TUHEOUjStD5F40Q0RoA0Po+u1C5IEFQygU9ELoQbRCiPnGQqhYqEJINolCaFqwQsBPeUIQUTVC0CofQhAAIEKQmSlCALQFQiD4+UEAk/VBICv6QUBdMUEAxk5BQE06QUCaDUEAlhFBAGEcQQALE0EAIgdBAFwLQUDPAkFAyiRBQHhaQQCuQEEAykpBIC2FQYArw0EQNBFCoKfnQaDR20GQUgZCkNkRQhCnT0LQ6mxCKI+iQuiJqkIogK1C6K61QmjNxkIIN9RC1McGQ+iU/kL0SwFDFFsiQ3QTP0PUjV9D5LpTQ4SxbkOEr29DZDt7Q3qYlEMC7oVDqt6fQ0I0xEMixctDcrPMQ/rT2UOqc/FDWaAERKlMJkQVzitEMek0RDUaPUQ17mNEad9zRD5XkkQEa7NELD3qRA==\",\"dtype\":\"float32\",\"shape\":[100]}}},\"id\":\"10f17677-2d8e-4ad2-afb3-ae5b0f9e0b03\",\"type\":\"ColumnDataSource\"},{\"attributes\":{},\"id\":\"8111d5ee-36b1-494a-bd7c-f555c0bd470d\",\"type\":\"BasicTickFormatter\"},{\"attributes\":{\"data_source\":{\"id\":\"10f17677-2d8e-4ad2-afb3-ae5b0f9e0b03\",\"type\":\"ColumnDataSource\"},\"glyph\":{\"id\":\"2a544a67-fe00-4a4b-ad13-e7647ea442e2\",\"type\":\"Line\"},\"hover_glyph\":null,\"muted_glyph\":null,\"nonselection_glyph\":{\"id\":\"e75543d1-2db7-45b7-a352-9f906b6c3957\",\"type\":\"Line\"},\"selection_glyph\":null,\"view\":{\"id\":\"a506ed42-2746-4881-b61a-bceeb406219a\",\"type\":\"CDSView\"}},\"id\":\"0efa21ac-3ff8-4bad-8841-9ae2ece9eb76\",\"type\":\"GlyphRenderer\"},{\"attributes\":{\"line_alpha\":0.1,\"line_color\":\"#1f77b4\",\"x\":{\"field\":\"x\"},\"y\":{\"field\":\"y\"}},\"id\":\"e75543d1-2db7-45b7-a352-9f906b6c3957\",\"type\":\"Line\"},{\"attributes\":{},\"id\":\"bdacffa2-e8da-49bd-b027-ca781c4729b3\",\"type\":\"BasicTickFormatter\"},{\"attributes\":{\"dimension\":1,\"plot\":{\"id\":\"952f3f41-373e-4d7e-a6d0-ebf6f552c169\",\"subtype\":\"Figure\",\"type\":\"Plot\"},\"ticker\":{\"id\":\"2316c8ea-312e-469e-9587-277e52983a9b\",\"type\":\"BasicTicker\"}},\"id\":\"3e151d76-1631-4c4e-b3c6-3a2637034a89\",\"type\":\"Grid\"},{\"attributes\":{\"axis_label\":\"log Bayes factor\",\"formatter\":{\"id\":\"8111d5ee-36b1-494a-bd7c-f555c0bd470d\",\"type\":\"BasicTickFormatter\"},\"plot\":{\"id\":\"952f3f41-373e-4d7e-a6d0-ebf6f552c169\",\"subtype\":\"Figure\",\"type\":\"Plot\"},\"ticker\":{\"id\":\"2316c8ea-312e-469e-9587-277e52983a9b\",\"type\":\"BasicTicker\"}},\"id\":\"42f880c2-ad49-4cbf-93ed-c45c0244e493\",\"type\":\"LinearAxis\"},{\"attributes\":{\"plot\":{\"id\":\"952f3f41-373e-4d7e-a6d0-ebf6f552c169\",\"subtype\":\"Figure\",\"type\":\"Plot\"},\"ticker\":{\"id\":\"8fbe9673-20b0-4a4e-8d6c-e106f4019a72\",\"type\":\"BasicTicker\"}},\"id\":\"71b744bd-d28c-441b-9e6c-ccaf7be99e0d\",\"type\":\"Grid\"},{\"attributes\":{\"line_color\":\"#1f77b4\",\"x\":{\"field\":\"x\"},\"y\":{\"field\":\"y\"}},\"id\":\"2a544a67-fe00-4a4b-ad13-e7647ea442e2\",\"type\":\"Line\"},{\"attributes\":{},\"id\":\"2316c8ea-312e-469e-9587-277e52983a9b\",\"type\":\"BasicTicker\"},{\"attributes\":{\"axis_label\":\"\\u03bb\",\"formatter\":{\"id\":\"bdacffa2-e8da-49bd-b027-ca781c4729b3\",\"type\":\"BasicTickFormatter\"},\"plot\":{\"id\":\"952f3f41-373e-4d7e-a6d0-ebf6f552c169\",\"subtype\":\"Figure\",\"type\":\"Plot\"},\"ticker\":{\"id\":\"8fbe9673-20b0-4a4e-8d6c-e106f4019a72\",\"type\":\"BasicTicker\"}},\"id\":\"cbee590b-087b-4993-9562-1ccbee528e96\",\"type\":\"LinearAxis\"}],\"root_ids\":[\"952f3f41-373e-4d7e-a6d0-ebf6f552c169\"]},\"title\":\"Bokeh Application\",\"version\":\"0.12.14\"}};\n",
       "  var render_items = [{\"docid\":\"7afd68ec-b4af-4b8a-98cf-5fd10096e057\",\"elementid\":\"16adf66f-270c-4a15-92b1-f30d0e972a21\",\"modelid\":\"952f3f41-373e-4d7e-a6d0-ebf6f552c169\"}];\n",
       "  root.Bokeh.embed.embed_items_notebook(docs_json, render_items);\n",
       "\n",
       "  }\n",
       "  if (root.Bokeh !== undefined) {\n",
       "    embed_document(root);\n",
       "  } else {\n",
       "    var attempts = 0;\n",
       "    var timer = setInterval(function(root) {\n",
       "      if (root.Bokeh !== undefined) {\n",
       "        embed_document(root);\n",
       "        clearInterval(timer);\n",
       "      }\n",
       "      attempts++;\n",
       "      if (attempts > 100) {\n",
       "        console.log(\"Bokeh: ERROR: Unable to run BokehJS code because BokehJS library is missing\")\n",
       "        clearInterval(timer);\n",
       "      }\n",
       "    }, 10, root)\n",
       "  }\n",
       "})(window);"
      ],
      "application/vnd.bokehjs_exec.v0+json": ""
     },
     "metadata": {
      "application/vnd.bokehjs_exec.v0+json": {
       "id": "952f3f41-373e-4d7e-a6d0-ebf6f552c169"
      }
     },
     "output_type": "display_data"
    }
   ],
   "source": [
    "from scipy.special import logsumexp\n",
    "import copy\n",
    "\n",
    "lambdas = np.linspace(-.99, .99, 100)\n",
    "lBs = []\n",
    "    \n",
    "# For each value of lambda.\n",
    "for l in lambdas:\n",
    "    \n",
    "    # Generate the data.\n",
    "    cov = np.array([\n",
    "        [1, l],\n",
    "        [l, 1]\n",
    "    ])\n",
    "    X = np.random.multivariate_normal(np.zeros(2), cov, size=1000)\n",
    "    X = torch.from_numpy(X).float()\n",
    "    \n",
    "    # Fit both models\n",
    "    normal_diag = beer.NormalDiagonalCovariance.create(torch.zeros(2), torch.eye(2), prior_count=1e-3)\n",
    "    beer.train_loglinear_model(normal_diag, X)\n",
    "    normal = beer.NormalFullCovariance.create(torch.zeros(2), torch.eye(2), prior_count=1e-3)\n",
    "    beer.train_loglinear_model(normal, X)\n",
    "    \n",
    "    # Compute the log Bayes factor.\n",
    "    llh_M1 = normal.posterior.log_norm - normal.prior.log_norm\n",
    "    llh_M2 = normal_diag.posterior.log_norm - normal_diag.prior.log_norm\n",
    "    lBs.append((llh_M1 - llh_M2))\n",
    "    \n",
    "lBs = np.array(lBs)\n",
    "fig1 = figure(\n",
    "    title='Model Comparison',\n",
    "    x_axis_label='λ',\n",
    "    y_axis_label='log Bayes factor',\n",
    "    width=400,\n",
    "    height=400\n",
    ")\n",
    "fig1.line(lambdas, lBs)\n",
    "\n",
    "show(fig1)"
   ]
  }
 ],
 "metadata": {
  "kernelspec": {
   "display_name": "Python 3",
   "language": "python",
   "name": "python3"
  },
  "language_info": {
   "codemirror_mode": {
    "name": "ipython",
    "version": 3
   },
   "file_extension": ".py",
   "mimetype": "text/x-python",
   "name": "python",
   "nbconvert_exporter": "python",
   "pygments_lexer": "ipython3",
   "version": "3.6.4"
  }
 },
 "nbformat": 4,
 "nbformat_minor": 2
}
