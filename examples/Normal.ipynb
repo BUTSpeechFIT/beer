{
 "cells": [
  {
   "cell_type": "markdown",
   "metadata": {},
   "source": [
    "# Bayesian Normal Density\n",
    "\n",
    "This notebook illustrate how to use a Bayesian Normal density model with the [beer framework](https://github.com/beer-asr/beer). The Normal distribution is a fairly basic model but it is used extenslively in other model as a basic building block."
   ]
  },
  {
   "cell_type": "code",
   "execution_count": 57,
   "metadata": {},
   "outputs": [
    {
     "data": {
      "text/html": [
       "\n",
       "    <div class=\"bk-root\">\n",
       "        <a href=\"https://bokeh.pydata.org\" target=\"_blank\" class=\"bk-logo bk-logo-small bk-logo-notebook\"></a>\n",
       "        <span id=\"78a5d995-9bdc-460e-aab0-697230270fc2\">Loading BokehJS ...</span>\n",
       "    </div>"
      ]
     },
     "metadata": {},
     "output_type": "display_data"
    },
    {
     "data": {
      "application/javascript": [
       "\n",
       "(function(root) {\n",
       "  function now() {\n",
       "    return new Date();\n",
       "  }\n",
       "\n",
       "  var force = true;\n",
       "\n",
       "  if (typeof (root._bokeh_onload_callbacks) === \"undefined\" || force === true) {\n",
       "    root._bokeh_onload_callbacks = [];\n",
       "    root._bokeh_is_loading = undefined;\n",
       "  }\n",
       "\n",
       "  var JS_MIME_TYPE = 'application/javascript';\n",
       "  var HTML_MIME_TYPE = 'text/html';\n",
       "  var EXEC_MIME_TYPE = 'application/vnd.bokehjs_exec.v0+json';\n",
       "  var CLASS_NAME = 'output_bokeh rendered_html';\n",
       "\n",
       "  /**\n",
       "   * Render data to the DOM node\n",
       "   */\n",
       "  function render(props, node) {\n",
       "    var script = document.createElement(\"script\");\n",
       "    node.appendChild(script);\n",
       "  }\n",
       "\n",
       "  /**\n",
       "   * Handle when an output is cleared or removed\n",
       "   */\n",
       "  function handleClearOutput(event, handle) {\n",
       "    var cell = handle.cell;\n",
       "\n",
       "    var id = cell.output_area._bokeh_element_id;\n",
       "    var server_id = cell.output_area._bokeh_server_id;\n",
       "    // Clean up Bokeh references\n",
       "    if (id !== undefined) {\n",
       "      Bokeh.index[id].model.document.clear();\n",
       "      delete Bokeh.index[id];\n",
       "    }\n",
       "\n",
       "    if (server_id !== undefined) {\n",
       "      // Clean up Bokeh references\n",
       "      var cmd = \"from bokeh.io.state import curstate; print(curstate().uuid_to_server['\" + server_id + \"'].get_sessions()[0].document.roots[0]._id)\";\n",
       "      cell.notebook.kernel.execute(cmd, {\n",
       "        iopub: {\n",
       "          output: function(msg) {\n",
       "            var element_id = msg.content.text.trim();\n",
       "            Bokeh.index[element_id].model.document.clear();\n",
       "            delete Bokeh.index[element_id];\n",
       "          }\n",
       "        }\n",
       "      });\n",
       "      // Destroy server and session\n",
       "      var cmd = \"import bokeh.io.notebook as ion; ion.destroy_server('\" + server_id + \"')\";\n",
       "      cell.notebook.kernel.execute(cmd);\n",
       "    }\n",
       "  }\n",
       "\n",
       "  /**\n",
       "   * Handle when a new output is added\n",
       "   */\n",
       "  function handleAddOutput(event, handle) {\n",
       "    var output_area = handle.output_area;\n",
       "    var output = handle.output;\n",
       "\n",
       "    // limit handleAddOutput to display_data with EXEC_MIME_TYPE content only\n",
       "    if ((output.output_type != \"display_data\") || (!output.data.hasOwnProperty(EXEC_MIME_TYPE))) {\n",
       "      return\n",
       "    }\n",
       "\n",
       "    var toinsert = output_area.element.find(\".\" + CLASS_NAME.split(' ')[0]);\n",
       "\n",
       "    if (output.metadata[EXEC_MIME_TYPE][\"id\"] !== undefined) {\n",
       "      toinsert[0].firstChild.textContent = output.data[JS_MIME_TYPE];\n",
       "      // store reference to embed id on output_area\n",
       "      output_area._bokeh_element_id = output.metadata[EXEC_MIME_TYPE][\"id\"];\n",
       "    }\n",
       "    if (output.metadata[EXEC_MIME_TYPE][\"server_id\"] !== undefined) {\n",
       "      var bk_div = document.createElement(\"div\");\n",
       "      bk_div.innerHTML = output.data[HTML_MIME_TYPE];\n",
       "      var script_attrs = bk_div.children[0].attributes;\n",
       "      for (var i = 0; i < script_attrs.length; i++) {\n",
       "        toinsert[0].firstChild.setAttribute(script_attrs[i].name, script_attrs[i].value);\n",
       "      }\n",
       "      // store reference to server id on output_area\n",
       "      output_area._bokeh_server_id = output.metadata[EXEC_MIME_TYPE][\"server_id\"];\n",
       "    }\n",
       "  }\n",
       "\n",
       "  function register_renderer(events, OutputArea) {\n",
       "\n",
       "    function append_mime(data, metadata, element) {\n",
       "      // create a DOM node to render to\n",
       "      var toinsert = this.create_output_subarea(\n",
       "        metadata,\n",
       "        CLASS_NAME,\n",
       "        EXEC_MIME_TYPE\n",
       "      );\n",
       "      this.keyboard_manager.register_events(toinsert);\n",
       "      // Render to node\n",
       "      var props = {data: data, metadata: metadata[EXEC_MIME_TYPE]};\n",
       "      render(props, toinsert[0]);\n",
       "      element.append(toinsert);\n",
       "      return toinsert\n",
       "    }\n",
       "\n",
       "    /* Handle when an output is cleared or removed */\n",
       "    events.on('clear_output.CodeCell', handleClearOutput);\n",
       "    events.on('delete.Cell', handleClearOutput);\n",
       "\n",
       "    /* Handle when a new output is added */\n",
       "    events.on('output_added.OutputArea', handleAddOutput);\n",
       "\n",
       "    /**\n",
       "     * Register the mime type and append_mime function with output_area\n",
       "     */\n",
       "    OutputArea.prototype.register_mime_type(EXEC_MIME_TYPE, append_mime, {\n",
       "      /* Is output safe? */\n",
       "      safe: true,\n",
       "      /* Index of renderer in `output_area.display_order` */\n",
       "      index: 0\n",
       "    });\n",
       "  }\n",
       "\n",
       "  // register the mime type if in Jupyter Notebook environment and previously unregistered\n",
       "  if (root.Jupyter !== undefined) {\n",
       "    var events = require('base/js/events');\n",
       "    var OutputArea = require('notebook/js/outputarea').OutputArea;\n",
       "\n",
       "    if (OutputArea.prototype.mime_types().indexOf(EXEC_MIME_TYPE) == -1) {\n",
       "      register_renderer(events, OutputArea);\n",
       "    }\n",
       "  }\n",
       "\n",
       "  \n",
       "  if (typeof (root._bokeh_timeout) === \"undefined\" || force === true) {\n",
       "    root._bokeh_timeout = Date.now() + 5000;\n",
       "    root._bokeh_failed_load = false;\n",
       "  }\n",
       "\n",
       "  var NB_LOAD_WARNING = {'data': {'text/html':\n",
       "     \"<div style='background-color: #fdd'>\\n\"+\n",
       "     \"<p>\\n\"+\n",
       "     \"BokehJS does not appear to have successfully loaded. If loading BokehJS from CDN, this \\n\"+\n",
       "     \"may be due to a slow or bad network connection. Possible fixes:\\n\"+\n",
       "     \"</p>\\n\"+\n",
       "     \"<ul>\\n\"+\n",
       "     \"<li>re-rerun `output_notebook()` to attempt to load from CDN again, or</li>\\n\"+\n",
       "     \"<li>use INLINE resources instead, as so:</li>\\n\"+\n",
       "     \"</ul>\\n\"+\n",
       "     \"<code>\\n\"+\n",
       "     \"from bokeh.resources import INLINE\\n\"+\n",
       "     \"output_notebook(resources=INLINE)\\n\"+\n",
       "     \"</code>\\n\"+\n",
       "     \"</div>\"}};\n",
       "\n",
       "  function display_loaded() {\n",
       "    var el = document.getElementById(\"78a5d995-9bdc-460e-aab0-697230270fc2\");\n",
       "    if (el != null) {\n",
       "      el.textContent = \"BokehJS is loading...\";\n",
       "    }\n",
       "    if (root.Bokeh !== undefined) {\n",
       "      if (el != null) {\n",
       "        el.textContent = \"BokehJS \" + root.Bokeh.version + \" successfully loaded.\";\n",
       "      }\n",
       "    } else if (Date.now() < root._bokeh_timeout) {\n",
       "      setTimeout(display_loaded, 100)\n",
       "    }\n",
       "  }\n",
       "\n",
       "\n",
       "  function run_callbacks() {\n",
       "    try {\n",
       "      root._bokeh_onload_callbacks.forEach(function(callback) { callback() });\n",
       "    }\n",
       "    finally {\n",
       "      delete root._bokeh_onload_callbacks\n",
       "    }\n",
       "    console.info(\"Bokeh: all callbacks have finished\");\n",
       "  }\n",
       "\n",
       "  function load_libs(js_urls, callback) {\n",
       "    root._bokeh_onload_callbacks.push(callback);\n",
       "    if (root._bokeh_is_loading > 0) {\n",
       "      console.log(\"Bokeh: BokehJS is being loaded, scheduling callback at\", now());\n",
       "      return null;\n",
       "    }\n",
       "    if (js_urls == null || js_urls.length === 0) {\n",
       "      run_callbacks();\n",
       "      return null;\n",
       "    }\n",
       "    console.log(\"Bokeh: BokehJS not loaded, scheduling load and callback at\", now());\n",
       "    root._bokeh_is_loading = js_urls.length;\n",
       "    for (var i = 0; i < js_urls.length; i++) {\n",
       "      var url = js_urls[i];\n",
       "      var s = document.createElement('script');\n",
       "      s.src = url;\n",
       "      s.async = false;\n",
       "      s.onreadystatechange = s.onload = function() {\n",
       "        root._bokeh_is_loading--;\n",
       "        if (root._bokeh_is_loading === 0) {\n",
       "          console.log(\"Bokeh: all BokehJS libraries loaded\");\n",
       "          run_callbacks()\n",
       "        }\n",
       "      };\n",
       "      s.onerror = function() {\n",
       "        console.warn(\"failed to load library \" + url);\n",
       "      };\n",
       "      console.log(\"Bokeh: injecting script tag for BokehJS library: \", url);\n",
       "      document.getElementsByTagName(\"head\")[0].appendChild(s);\n",
       "    }\n",
       "  };var element = document.getElementById(\"78a5d995-9bdc-460e-aab0-697230270fc2\");\n",
       "  if (element == null) {\n",
       "    console.log(\"Bokeh: ERROR: autoload.js configured with elementid '78a5d995-9bdc-460e-aab0-697230270fc2' but no matching script tag was found. \")\n",
       "    return false;\n",
       "  }\n",
       "\n",
       "  var js_urls = [\"https://cdn.pydata.org/bokeh/release/bokeh-0.12.14.min.js\", \"https://cdn.pydata.org/bokeh/release/bokeh-widgets-0.12.14.min.js\", \"https://cdn.pydata.org/bokeh/release/bokeh-tables-0.12.14.min.js\", \"https://cdn.pydata.org/bokeh/release/bokeh-gl-0.12.14.min.js\"];\n",
       "\n",
       "  var inline_js = [\n",
       "    function(Bokeh) {\n",
       "      Bokeh.set_log_level(\"info\");\n",
       "    },\n",
       "    \n",
       "    function(Bokeh) {\n",
       "      \n",
       "    },\n",
       "    function(Bokeh) {\n",
       "      console.log(\"Bokeh: injecting CSS: https://cdn.pydata.org/bokeh/release/bokeh-0.12.14.min.css\");\n",
       "      Bokeh.embed.inject_css(\"https://cdn.pydata.org/bokeh/release/bokeh-0.12.14.min.css\");\n",
       "      console.log(\"Bokeh: injecting CSS: https://cdn.pydata.org/bokeh/release/bokeh-widgets-0.12.14.min.css\");\n",
       "      Bokeh.embed.inject_css(\"https://cdn.pydata.org/bokeh/release/bokeh-widgets-0.12.14.min.css\");\n",
       "      console.log(\"Bokeh: injecting CSS: https://cdn.pydata.org/bokeh/release/bokeh-tables-0.12.14.min.css\");\n",
       "      Bokeh.embed.inject_css(\"https://cdn.pydata.org/bokeh/release/bokeh-tables-0.12.14.min.css\");\n",
       "    }\n",
       "  ];\n",
       "\n",
       "  function run_inline_js() {\n",
       "    \n",
       "    if ((root.Bokeh !== undefined) || (force === true)) {\n",
       "      for (var i = 0; i < inline_js.length; i++) {\n",
       "        inline_js[i].call(root, root.Bokeh);\n",
       "      }if (force === true) {\n",
       "        display_loaded();\n",
       "      }} else if (Date.now() < root._bokeh_timeout) {\n",
       "      setTimeout(run_inline_js, 100);\n",
       "    } else if (!root._bokeh_failed_load) {\n",
       "      console.log(\"Bokeh: BokehJS failed to load within specified timeout.\");\n",
       "      root._bokeh_failed_load = true;\n",
       "    } else if (force !== true) {\n",
       "      var cell = $(document.getElementById(\"78a5d995-9bdc-460e-aab0-697230270fc2\")).parents('.cell').data().cell;\n",
       "      cell.output_area.append_execute_result(NB_LOAD_WARNING)\n",
       "    }\n",
       "\n",
       "  }\n",
       "\n",
       "  if (root._bokeh_is_loading === 0) {\n",
       "    console.log(\"Bokeh: BokehJS loaded, going straight to plotting\");\n",
       "    run_inline_js();\n",
       "  } else {\n",
       "    load_libs(js_urls, function() {\n",
       "      console.log(\"Bokeh: BokehJS plotting callback run at\", now());\n",
       "      run_inline_js();\n",
       "    });\n",
       "  }\n",
       "}(window));"
      ],
      "application/vnd.bokehjs_load.v0+json": "\n(function(root) {\n  function now() {\n    return new Date();\n  }\n\n  var force = true;\n\n  if (typeof (root._bokeh_onload_callbacks) === \"undefined\" || force === true) {\n    root._bokeh_onload_callbacks = [];\n    root._bokeh_is_loading = undefined;\n  }\n\n  \n\n  \n  if (typeof (root._bokeh_timeout) === \"undefined\" || force === true) {\n    root._bokeh_timeout = Date.now() + 5000;\n    root._bokeh_failed_load = false;\n  }\n\n  var NB_LOAD_WARNING = {'data': {'text/html':\n     \"<div style='background-color: #fdd'>\\n\"+\n     \"<p>\\n\"+\n     \"BokehJS does not appear to have successfully loaded. If loading BokehJS from CDN, this \\n\"+\n     \"may be due to a slow or bad network connection. Possible fixes:\\n\"+\n     \"</p>\\n\"+\n     \"<ul>\\n\"+\n     \"<li>re-rerun `output_notebook()` to attempt to load from CDN again, or</li>\\n\"+\n     \"<li>use INLINE resources instead, as so:</li>\\n\"+\n     \"</ul>\\n\"+\n     \"<code>\\n\"+\n     \"from bokeh.resources import INLINE\\n\"+\n     \"output_notebook(resources=INLINE)\\n\"+\n     \"</code>\\n\"+\n     \"</div>\"}};\n\n  function display_loaded() {\n    var el = document.getElementById(\"78a5d995-9bdc-460e-aab0-697230270fc2\");\n    if (el != null) {\n      el.textContent = \"BokehJS is loading...\";\n    }\n    if (root.Bokeh !== undefined) {\n      if (el != null) {\n        el.textContent = \"BokehJS \" + root.Bokeh.version + \" successfully loaded.\";\n      }\n    } else if (Date.now() < root._bokeh_timeout) {\n      setTimeout(display_loaded, 100)\n    }\n  }\n\n\n  function run_callbacks() {\n    try {\n      root._bokeh_onload_callbacks.forEach(function(callback) { callback() });\n    }\n    finally {\n      delete root._bokeh_onload_callbacks\n    }\n    console.info(\"Bokeh: all callbacks have finished\");\n  }\n\n  function load_libs(js_urls, callback) {\n    root._bokeh_onload_callbacks.push(callback);\n    if (root._bokeh_is_loading > 0) {\n      console.log(\"Bokeh: BokehJS is being loaded, scheduling callback at\", now());\n      return null;\n    }\n    if (js_urls == null || js_urls.length === 0) {\n      run_callbacks();\n      return null;\n    }\n    console.log(\"Bokeh: BokehJS not loaded, scheduling load and callback at\", now());\n    root._bokeh_is_loading = js_urls.length;\n    for (var i = 0; i < js_urls.length; i++) {\n      var url = js_urls[i];\n      var s = document.createElement('script');\n      s.src = url;\n      s.async = false;\n      s.onreadystatechange = s.onload = function() {\n        root._bokeh_is_loading--;\n        if (root._bokeh_is_loading === 0) {\n          console.log(\"Bokeh: all BokehJS libraries loaded\");\n          run_callbacks()\n        }\n      };\n      s.onerror = function() {\n        console.warn(\"failed to load library \" + url);\n      };\n      console.log(\"Bokeh: injecting script tag for BokehJS library: \", url);\n      document.getElementsByTagName(\"head\")[0].appendChild(s);\n    }\n  };var element = document.getElementById(\"78a5d995-9bdc-460e-aab0-697230270fc2\");\n  if (element == null) {\n    console.log(\"Bokeh: ERROR: autoload.js configured with elementid '78a5d995-9bdc-460e-aab0-697230270fc2' but no matching script tag was found. \")\n    return false;\n  }\n\n  var js_urls = [\"https://cdn.pydata.org/bokeh/release/bokeh-0.12.14.min.js\", \"https://cdn.pydata.org/bokeh/release/bokeh-widgets-0.12.14.min.js\", \"https://cdn.pydata.org/bokeh/release/bokeh-tables-0.12.14.min.js\", \"https://cdn.pydata.org/bokeh/release/bokeh-gl-0.12.14.min.js\"];\n\n  var inline_js = [\n    function(Bokeh) {\n      Bokeh.set_log_level(\"info\");\n    },\n    \n    function(Bokeh) {\n      \n    },\n    function(Bokeh) {\n      console.log(\"Bokeh: injecting CSS: https://cdn.pydata.org/bokeh/release/bokeh-0.12.14.min.css\");\n      Bokeh.embed.inject_css(\"https://cdn.pydata.org/bokeh/release/bokeh-0.12.14.min.css\");\n      console.log(\"Bokeh: injecting CSS: https://cdn.pydata.org/bokeh/release/bokeh-widgets-0.12.14.min.css\");\n      Bokeh.embed.inject_css(\"https://cdn.pydata.org/bokeh/release/bokeh-widgets-0.12.14.min.css\");\n      console.log(\"Bokeh: injecting CSS: https://cdn.pydata.org/bokeh/release/bokeh-tables-0.12.14.min.css\");\n      Bokeh.embed.inject_css(\"https://cdn.pydata.org/bokeh/release/bokeh-tables-0.12.14.min.css\");\n    }\n  ];\n\n  function run_inline_js() {\n    \n    if ((root.Bokeh !== undefined) || (force === true)) {\n      for (var i = 0; i < inline_js.length; i++) {\n        inline_js[i].call(root, root.Bokeh);\n      }if (force === true) {\n        display_loaded();\n      }} else if (Date.now() < root._bokeh_timeout) {\n      setTimeout(run_inline_js, 100);\n    } else if (!root._bokeh_failed_load) {\n      console.log(\"Bokeh: BokehJS failed to load within specified timeout.\");\n      root._bokeh_failed_load = true;\n    } else if (force !== true) {\n      var cell = $(document.getElementById(\"78a5d995-9bdc-460e-aab0-697230270fc2\")).parents('.cell').data().cell;\n      cell.output_area.append_execute_result(NB_LOAD_WARNING)\n    }\n\n  }\n\n  if (root._bokeh_is_loading === 0) {\n    console.log(\"Bokeh: BokehJS loaded, going straight to plotting\");\n    run_inline_js();\n  } else {\n    load_libs(js_urls, function() {\n      console.log(\"Bokeh: BokehJS plotting callback run at\", now());\n      run_inline_js();\n    });\n  }\n}(window));"
     },
     "metadata": {},
     "output_type": "display_data"
    },
    {
     "name": "stdout",
     "output_type": "stream",
     "text": [
      "The autoreload extension is already loaded. To reload it, use:\n",
      "  %reload_ext autoreload\n"
     ]
    }
   ],
   "source": [
    "# Add \"beer\" to the PYTHONPATH\n",
    "import sys\n",
    "sys.path.insert(0, '../')\n",
    "\n",
    "import beer\n",
    "import numpy as np\n",
    "import torch\n",
    "\n",
    "# For plotting.\n",
    "from bokeh.io import show, output_notebook\n",
    "from bokeh.plotting import figure, gridplot\n",
    "output_notebook()\n",
    "\n",
    "# Convenience functions for plotting.\n",
    "import plotting\n",
    "\n",
    "%load_ext autoreload\n",
    "%autoreload 2"
   ]
  },
  {
   "cell_type": "markdown",
   "metadata": {},
   "source": [
    "## Data\n",
    "\n",
    "Generate some normally distributed data:"
   ]
  },
  {
   "cell_type": "code",
   "execution_count": 58,
   "metadata": {},
   "outputs": [
    {
     "data": {
      "text/html": [
       "\n",
       "<div class=\"bk-root\">\n",
       "    <div class=\"bk-plotdiv\" id=\"7d4f0c69-9c6d-4510-a729-02ba2ec0aa7a\"></div>\n",
       "</div>"
      ]
     },
     "metadata": {},
     "output_type": "display_data"
    },
    {
     "data": {
      "application/javascript": [
       "(function(root) {\n",
       "  function embed_document(root) {\n",
       "    \n",
       "  var docs_json = {\"031e71c3-a12a-4cc2-b7fc-92cf9968085d\":{\"roots\":{\"references\":[{\"attributes\":{},\"id\":\"2faff369-bb28-4941-9f26-e20ecd0cc78f\",\"type\":\"SaveTool\"},{\"attributes\":{},\"id\":\"afaedcf9-15f2-4edb-b6ff-764e15ead0b5\",\"type\":\"BasicTicker\"},{\"attributes\":{\"formatter\":{\"id\":\"bdfcaca6-4282-42b6-b2b3-2a3925732558\",\"type\":\"BasicTickFormatter\"},\"plot\":{\"id\":\"63ce56b7-3cb3-4b0e-a2ba-3112abeb3dcf\",\"subtype\":\"Figure\",\"type\":\"Plot\"},\"ticker\":{\"id\":\"0c46fd27-5546-4429-bc2d-fd4cd493eb8f\",\"type\":\"BasicTicker\"}},\"id\":\"6cb6c885-a48c-4913-baae-779ce93ae0d6\",\"type\":\"LinearAxis\"},{\"attributes\":{},\"id\":\"e3444ce1-8cf3-44c0-947b-dea7d933bfa4\",\"type\":\"BasicTickFormatter\"},{\"attributes\":{\"callback\":null,\"data\":{}},\"id\":\"31ecc634-8fc1-452b-8e7d-d43dbd6d773d\",\"type\":\"ColumnDataSource\"},{\"attributes\":{},\"id\":\"bdfcaca6-4282-42b6-b2b3-2a3925732558\",\"type\":\"BasicTickFormatter\"},{\"attributes\":{},\"id\":\"0c46fd27-5546-4429-bc2d-fd4cd493eb8f\",\"type\":\"BasicTicker\"},{\"attributes\":{\"overlay\":{\"id\":\"5c1f50a1-03ac-4032-bf62-1650a062e5a2\",\"type\":\"BoxAnnotation\"}},\"id\":\"cd9faa48-7c85-4879-af10-7db2e7abcd57\",\"type\":\"BoxZoomTool\"},{\"attributes\":{\"data_source\":{\"id\":\"728971f7-fff0-4100-8e3d-ca7308ca2e63\",\"type\":\"ColumnDataSource\"},\"glyph\":{\"id\":\"af560d5a-da67-418a-a295-e1bc78ab664f\",\"type\":\"Ellipse\"},\"hover_glyph\":null,\"muted_glyph\":null,\"nonselection_glyph\":{\"id\":\"3956b570-6c76-4ea1-aba5-5f2248342564\",\"type\":\"Ellipse\"},\"selection_glyph\":null,\"view\":{\"id\":\"86300d92-ddfd-49a2-8450-a5aed65723bc\",\"type\":\"CDSView\"}},\"id\":\"a2469952-6944-498f-89f4-47051aa97336\",\"type\":\"GlyphRenderer\"},{\"attributes\":{},\"id\":\"f318ecd3-7ace-425a-9332-01a3292914aa\",\"type\":\"PanTool\"},{\"attributes\":{\"fill_alpha\":{\"value\":0.1},\"fill_color\":{\"value\":\"#1f77b4\"},\"line_alpha\":{\"value\":0.1},\"line_color\":{\"value\":\"#1f77b4\"},\"x\":{\"field\":\"x\"},\"y\":{\"field\":\"y\"}},\"id\":\"02eccf5d-893e-4e91-9658-1d74f449fee9\",\"type\":\"Circle\"},{\"attributes\":{\"data_source\":{\"id\":\"31ecc634-8fc1-452b-8e7d-d43dbd6d773d\",\"type\":\"ColumnDataSource\"},\"glyph\":{\"id\":\"a44f62a7-ae2b-4a3b-8b02-ba93c6015bb1\",\"type\":\"Ellipse\"},\"hover_glyph\":null,\"muted_glyph\":null,\"nonselection_glyph\":{\"id\":\"ec5b8106-4669-4f91-b725-f458d9530cdf\",\"type\":\"Ellipse\"},\"selection_glyph\":null,\"view\":{\"id\":\"7d1ebea8-e8ff-4011-bdb8-e65e9aa0a929\",\"type\":\"CDSView\"}},\"id\":\"21a9793b-1616-4216-9661-efadd7c14b4b\",\"type\":\"GlyphRenderer\"},{\"attributes\":{\"fill_color\":{\"value\":\"#1f77b4\"},\"line_color\":{\"value\":\"#1f77b4\"},\"x\":{\"field\":\"x\"},\"y\":{\"field\":\"y\"}},\"id\":\"e2f2feb6-e2f7-4b1d-9f74-3baaabcebad3\",\"type\":\"Circle\"},{\"attributes\":{},\"id\":\"37d67a26-7427-49ef-820d-9b70cd5e84fb\",\"type\":\"LinearScale\"},{\"attributes\":{},\"id\":\"6139c623-159a-4c03-9100-0c3ff6a7be19\",\"type\":\"WheelZoomTool\"},{\"attributes\":{\"source\":{\"id\":\"479f3e7f-95c7-40df-8924-86ba7fb79a35\",\"type\":\"ColumnDataSource\"}},\"id\":\"949d2e41-b13c-471b-b275-5a838be3ff12\",\"type\":\"CDSView\"},{\"attributes\":{\"fill_alpha\":{\"value\":0.1},\"fill_color\":{\"value\":\"#1f77b4\"},\"line_alpha\":{\"value\":0.1},\"line_color\":{\"value\":\"#1f77b4\"},\"x\":{\"value\":-1.5},\"y\":{\"value\":4.0}},\"id\":\"fa814121-65e5-42e4-8157-2fcf2eec2a6c\",\"type\":\"Cross\"},{\"attributes\":{\"callback\":null,\"column_names\":[\"x\",\"y\"],\"data\":{\"x\":{\"__ndarray__\":\"dkerVHgaAcAmJVFaLVoDwIIZ3HuUkgXALtDJ04z8BsAUAikiLF3Wv+pTi6bvtg3AhnHiPBNu579OV0x3X+oVwKvfnQbFvgzAyJUOmm0Qx7+Imz4tFrD6v44iu/ZbBQnA1AS4ing3C8AAOIn5IRucP7unYP0j/gHAypMEMwveCsAANeDL81+Yv4wxwSg9e9C/uh9I2Elc8r/kCca2aK4EwHIQl7pXpf+/vvUV7/lh9L9Cj6TaingBwIAsmy6/n/m/kIyPq649zj8Mpbgmnevxvwi3O0n/M9s/zRWrhL6f4b+gYrDwM7rtP5jnxOc9l/E/zZ68Y/bSBMBciRMXtGEEwELuUe/PJgHA+Dwo0VD87j9A/sKqq1vNv+LSVO6JmwvAjTIOX+bB479EgHAh/OUQwP/qFWpiOQjAuZwdHyWfAsBmXwln4Enxv8BDOMo3vbK/7HW3c6D4CcDmEir3XU7/P8pObIl7JOC/sAwAU5NMCsCQ6TX0KW7pv8est5Oxw+C/QIdXMm/s4z9ps/BAQAwAwNJQqGL4bgzA+s3vOoksAMDGGWRMnxz7vzgOzPBkhA3AsNksXJ8CF8DixK9Jhcj+v/TttRf5rAPAeM9WrXf68L8YrnjHttQDwOj2zbI/d/G/3uXmC4gO579AHYzgkDvGvwDE1CrNDpu/YCWO132UBMAlchfQUOsBwNR/9HUFztO/ADLkArrOoT+wqpAza9ATwOerRXRrrem/sAx7OiCp+79T5jA8RAMEwF7sBms0WO6/LMg2Cby98r865Gyt0cIGwH04n2xdMQvAcBH61q/Nxz8GxEsYeoHzP5DF6LBjRrk/tIfp9gDn979O5Ftc0VcAwKM8Q8guueO/LOKIX0jV5r8QWj22k0sDwO4LMfy2cPm//P2xR5wu8r/IKY+x4rHNP3AbnES34us/gPIaBI3XyL90lCocNh4SwJ5BBW+niw3AZLeW72qI2r/gVAJo3pjVP4xho4ofKug/ikf8Sg9jBcC9QpqWN30DwO1vhc4NTvy/Squ3dYC8C8DwJDwDN6DxP9Zuc8WCZua/TP4evGQb9b8=\",\"dtype\":\"float64\",\"shape\":[100]},\"y\":{\"__ndarray__\":\"uIiijmLcE0Chb7JvYOsIQF2OX9rVtgZAMT24s3nEDEBCN/JPlKoTQHNdxjVtvQVA9OyMNdyYE0Adw5OWbb8AQOwjNz4JjA5AAAzd/DlfEkAn52rtXh0QQE+1HU94XQRAwbecGfnzCEDQ9cWjCBsPQJR9zKHoOgpATkaXHAJEDEBQL1bANXcUQBM8myMIwBFAYSFNKROQEEDnkOkKVS4FQMlZhaF1bQtAtupCqqbdEkDDjmSHWd0JQCNWNrADXRFAnevzjheFEECYOdinif0SQM8uWw7iKxNAgLw5Y9b5EUC8wV6V3YoWQPjUuahpshRAggpRnk79D0Axr9mwhNwNQJsm+jSTlA5AeiPvug9FFkBQR4Gym+gUQHYykfvggwtAcPDAKyQjFEBUxyi87rP/P4ohM2/kfgNA/bwhJhj7B0BZRMDe2zEQQAgzV6vosBRArbUI/lGOCECU+bOkReYYQDSlwM9JrhNAaNDRnI7DD0BnsC7uQ3MQQL9Hjnuq8hFAnZGheTUOEkBwmyi9xX0KQFk1+2bPQxFATQp9MkndEEAXK0csRqwLQLyPO2JxPgRAqvRBZb3/+T9rfs8AGzcQQLnoIIBZsA1AgxTN1cA8EEAKZWbVxFkKQMkInsn19hBApFkKtDCaFEDITOGZMGAVQF/jB6sdTRdAQLjNQUzrBUCEkf4Tp/8OQEUqjZ3FoBVA6msd2ok8FEAZ37Mx4bAEQNIlUY3qzA9AMIDgPM1UD0DKX9QUxxoGQB1AAnU5cRRAKwyC+kMzD0Dxh7oGZF8CQO5YTvlkoApAIoPfwsGoE0BHtnWeB3wOQEB9S3PeFRNAF5AWp7UFEECHZ6lulccOQD6KrE4XoRRAscIbeNyIDkAjgTWENSANQIU1PpRryQ1AwCpNyzgEEEC66XMym50VQFa3QR+PxBJAEpeos727EkBEf23guLX/PzfB5XP7OAhAnvBHAwrMEkC4BK9pp1AWQMYN6r/qThdA1ZXMsnO5CUAoyuAy1JEQQAlTACj9yQxAasTBXDHxBkAOA9qbRcwUQKliSPH2/BBAThdqlCgJD0A=\",\"dtype\":\"float64\",\"shape\":[100]}}},\"id\":\"479f3e7f-95c7-40df-8924-86ba7fb79a35\",\"type\":\"ColumnDataSource\"},{\"attributes\":{\"data_source\":{\"id\":\"d07b564a-025a-4458-ae40-46a026b065ac\",\"type\":\"ColumnDataSource\"},\"glyph\":{\"id\":\"4e6cca41-b9f3-44de-9e33-45ac7fb9ab93\",\"type\":\"Cross\"},\"hover_glyph\":null,\"muted_glyph\":null,\"nonselection_glyph\":{\"id\":\"fa814121-65e5-42e4-8157-2fcf2eec2a6c\",\"type\":\"Cross\"},\"selection_glyph\":null,\"view\":{\"id\":\"2cf1d61e-e4f8-4868-b92a-48b47219f2fc\",\"type\":\"CDSView\"}},\"id\":\"fe0c4c3d-78d8-4e27-b3d0-fea29323ce49\",\"type\":\"GlyphRenderer\"},{\"attributes\":{\"dimension\":1,\"plot\":{\"id\":\"63ce56b7-3cb3-4b0e-a2ba-3112abeb3dcf\",\"subtype\":\"Figure\",\"type\":\"Plot\"},\"ticker\":{\"id\":\"afaedcf9-15f2-4edb-b6ff-764e15ead0b5\",\"type\":\"BasicTicker\"}},\"id\":\"7aef798f-bbe5-43eb-ada6-3090e8beed3e\",\"type\":\"Grid\"},{\"attributes\":{\"active_drag\":\"auto\",\"active_inspect\":\"auto\",\"active_scroll\":\"auto\",\"active_tap\":\"auto\",\"tools\":[{\"id\":\"f318ecd3-7ace-425a-9332-01a3292914aa\",\"type\":\"PanTool\"},{\"id\":\"6139c623-159a-4c03-9100-0c3ff6a7be19\",\"type\":\"WheelZoomTool\"},{\"id\":\"cd9faa48-7c85-4879-af10-7db2e7abcd57\",\"type\":\"BoxZoomTool\"},{\"id\":\"2faff369-bb28-4941-9f26-e20ecd0cc78f\",\"type\":\"SaveTool\"},{\"id\":\"f6ba3c63-c4d8-4fb7-88ff-e16ce3b236fa\",\"type\":\"ResetTool\"},{\"id\":\"db422adf-0220-42a3-8cdc-86ee0127df22\",\"type\":\"HelpTool\"}]},\"id\":\"b136c725-52ac-433a-bef1-c73d3e33b0ff\",\"type\":\"Toolbar\"},{\"attributes\":{\"source\":{\"id\":\"d07b564a-025a-4458-ae40-46a026b065ac\",\"type\":\"ColumnDataSource\"}},\"id\":\"2cf1d61e-e4f8-4868-b92a-48b47219f2fc\",\"type\":\"CDSView\"},{\"attributes\":{\"callback\":null,\"data\":{}},\"id\":\"d07b564a-025a-4458-ae40-46a026b065ac\",\"type\":\"ColumnDataSource\"},{\"attributes\":{\"callback\":null,\"end\":9.0,\"start\":-1.0},\"id\":\"358f1cd0-07fc-4a76-9782-84f5398007ea\",\"type\":\"Range1d\"},{\"attributes\":{\"data_source\":{\"id\":\"479f3e7f-95c7-40df-8924-86ba7fb79a35\",\"type\":\"ColumnDataSource\"},\"glyph\":{\"id\":\"e2f2feb6-e2f7-4b1d-9f74-3baaabcebad3\",\"type\":\"Circle\"},\"hover_glyph\":null,\"muted_glyph\":null,\"nonselection_glyph\":{\"id\":\"02eccf5d-893e-4e91-9658-1d74f449fee9\",\"type\":\"Circle\"},\"selection_glyph\":null,\"view\":{\"id\":\"949d2e41-b13c-471b-b275-5a838be3ff12\",\"type\":\"CDSView\"}},\"id\":\"87deb5c5-1fb3-446d-a73d-a61121155969\",\"type\":\"GlyphRenderer\"},{\"attributes\":{},\"id\":\"db422adf-0220-42a3-8cdc-86ee0127df22\",\"type\":\"HelpTool\"},{\"attributes\":{\"angle\":{\"units\":\"rad\",\"value\":-1.0646978210692295},\"fill_alpha\":{\"value\":0.1},\"fill_color\":{\"value\":\"#1f77b4\"},\"height\":{\"units\":\"data\",\"value\":3.1964027540390307},\"line_alpha\":{\"value\":0.1},\"line_color\":{\"value\":\"#1f77b4\"},\"width\":{\"units\":\"data\",\"value\":0.8848782029023531},\"x\":{\"value\":-1.5},\"y\":{\"value\":4.0}},\"id\":\"3956b570-6c76-4ea1-aba5-5f2248342564\",\"type\":\"Ellipse\"},{\"attributes\":{\"source\":{\"id\":\"31ecc634-8fc1-452b-8e7d-d43dbd6d773d\",\"type\":\"ColumnDataSource\"}},\"id\":\"7d1ebea8-e8ff-4011-bdb8-e65e9aa0a929\",\"type\":\"CDSView\"},{\"attributes\":{\"plot\":{\"id\":\"63ce56b7-3cb3-4b0e-a2ba-3112abeb3dcf\",\"subtype\":\"Figure\",\"type\":\"Plot\"},\"ticker\":{\"id\":\"0c46fd27-5546-4429-bc2d-fd4cd493eb8f\",\"type\":\"BasicTicker\"}},\"id\":\"cb4d5e77-09ad-4fe1-83bd-49aeb737b93d\",\"type\":\"Grid\"},{\"attributes\":{\"below\":[{\"id\":\"6cb6c885-a48c-4913-baae-779ce93ae0d6\",\"type\":\"LinearAxis\"}],\"left\":[{\"id\":\"fcbb8932-c962-46de-af6f-0567a31030fd\",\"type\":\"LinearAxis\"}],\"plot_height\":400,\"plot_width\":400,\"renderers\":[{\"id\":\"6cb6c885-a48c-4913-baae-779ce93ae0d6\",\"type\":\"LinearAxis\"},{\"id\":\"cb4d5e77-09ad-4fe1-83bd-49aeb737b93d\",\"type\":\"Grid\"},{\"id\":\"fcbb8932-c962-46de-af6f-0567a31030fd\",\"type\":\"LinearAxis\"},{\"id\":\"7aef798f-bbe5-43eb-ada6-3090e8beed3e\",\"type\":\"Grid\"},{\"id\":\"5c1f50a1-03ac-4032-bf62-1650a062e5a2\",\"type\":\"BoxAnnotation\"},{\"id\":\"87deb5c5-1fb3-446d-a73d-a61121155969\",\"type\":\"GlyphRenderer\"},{\"id\":\"21a9793b-1616-4216-9661-efadd7c14b4b\",\"type\":\"GlyphRenderer\"},{\"id\":\"fe0c4c3d-78d8-4e27-b3d0-fea29323ce49\",\"type\":\"GlyphRenderer\"},{\"id\":\"a2469952-6944-498f-89f4-47051aa97336\",\"type\":\"GlyphRenderer\"}],\"title\":{\"id\":\"5dd188d0-cb40-4aff-a881-0a06f17c6112\",\"type\":\"Title\"},\"toolbar\":{\"id\":\"b136c725-52ac-433a-bef1-c73d3e33b0ff\",\"type\":\"Toolbar\"},\"x_range\":{\"id\":\"1246b6b1-9c69-4046-b53d-4fbd0745fd8b\",\"type\":\"Range1d\"},\"x_scale\":{\"id\":\"c888fb80-07a7-4ff3-9cde-8af1ac5615d2\",\"type\":\"LinearScale\"},\"y_range\":{\"id\":\"358f1cd0-07fc-4a76-9782-84f5398007ea\",\"type\":\"Range1d\"},\"y_scale\":{\"id\":\"37d67a26-7427-49ef-820d-9b70cd5e84fb\",\"type\":\"LinearScale\"}},\"id\":\"63ce56b7-3cb3-4b0e-a2ba-3112abeb3dcf\",\"subtype\":\"Figure\",\"type\":\"Plot\"},{\"attributes\":{\"angle\":{\"units\":\"rad\",\"value\":-1.0646978210692295},\"fill_alpha\":{\"value\":0.1},\"fill_color\":{\"value\":\"#1f77b4\"},\"height\":{\"units\":\"data\",\"value\":6.3928055080780615},\"line_alpha\":{\"value\":0.1},\"line_color\":{\"value\":\"#1f77b4\"},\"width\":{\"units\":\"data\",\"value\":1.7697564058047062},\"x\":{\"value\":-1.5},\"y\":{\"value\":4.0}},\"id\":\"ec5b8106-4669-4f91-b725-f458d9530cdf\",\"type\":\"Ellipse\"},{\"attributes\":{\"callback\":null,\"data\":{}},\"id\":\"728971f7-fff0-4100-8e3d-ca7308ca2e63\",\"type\":\"ColumnDataSource\"},{\"attributes\":{\"source\":{\"id\":\"728971f7-fff0-4100-8e3d-ca7308ca2e63\",\"type\":\"ColumnDataSource\"}},\"id\":\"86300d92-ddfd-49a2-8450-a5aed65723bc\",\"type\":\"CDSView\"},{\"attributes\":{\"angle\":{\"units\":\"rad\",\"value\":-1.0646978210692295},\"fill_color\":{\"value\":\"blue\"},\"height\":{\"units\":\"data\",\"value\":3.1964027540390307},\"line_color\":{\"value\":\"blue\"},\"width\":{\"units\":\"data\",\"value\":0.8848782029023531},\"x\":{\"value\":-1.5},\"y\":{\"value\":4.0}},\"id\":\"af560d5a-da67-418a-a295-e1bc78ab664f\",\"type\":\"Ellipse\"},{\"attributes\":{},\"id\":\"f6ba3c63-c4d8-4fb7-88ff-e16ce3b236fa\",\"type\":\"ResetTool\"},{\"attributes\":{\"formatter\":{\"id\":\"e3444ce1-8cf3-44c0-947b-dea7d933bfa4\",\"type\":\"BasicTickFormatter\"},\"plot\":{\"id\":\"63ce56b7-3cb3-4b0e-a2ba-3112abeb3dcf\",\"subtype\":\"Figure\",\"type\":\"Plot\"},\"ticker\":{\"id\":\"afaedcf9-15f2-4edb-b6ff-764e15ead0b5\",\"type\":\"BasicTicker\"}},\"id\":\"fcbb8932-c962-46de-af6f-0567a31030fd\",\"type\":\"LinearAxis\"},{\"attributes\":{\"fill_color\":{\"value\":\"blue\"},\"line_color\":{\"value\":\"blue\"},\"x\":{\"value\":-1.5},\"y\":{\"value\":4.0}},\"id\":\"4e6cca41-b9f3-44de-9e33-45ac7fb9ab93\",\"type\":\"Cross\"},{\"attributes\":{\"callback\":null,\"end\":3.5,\"start\":-6.5},\"id\":\"1246b6b1-9c69-4046-b53d-4fbd0745fd8b\",\"type\":\"Range1d\"},{\"attributes\":{},\"id\":\"c888fb80-07a7-4ff3-9cde-8af1ac5615d2\",\"type\":\"LinearScale\"},{\"attributes\":{\"angle\":{\"units\":\"rad\",\"value\":-1.0646978210692295},\"fill_alpha\":{\"value\":0.5},\"fill_color\":{\"value\":\"blue\"},\"height\":{\"units\":\"data\",\"value\":6.3928055080780615},\"line_alpha\":{\"value\":0.5},\"line_color\":{\"value\":\"blue\"},\"width\":{\"units\":\"data\",\"value\":1.7697564058047062},\"x\":{\"value\":-1.5},\"y\":{\"value\":4.0}},\"id\":\"a44f62a7-ae2b-4a3b-8b02-ba93c6015bb1\",\"type\":\"Ellipse\"},{\"attributes\":{\"plot\":null,\"text\":\"Data\"},\"id\":\"5dd188d0-cb40-4aff-a881-0a06f17c6112\",\"type\":\"Title\"},{\"attributes\":{\"bottom_units\":\"screen\",\"fill_alpha\":{\"value\":0.5},\"fill_color\":{\"value\":\"lightgrey\"},\"left_units\":\"screen\",\"level\":\"overlay\",\"line_alpha\":{\"value\":1.0},\"line_color\":{\"value\":\"black\"},\"line_dash\":[4,4],\"line_width\":{\"value\":2},\"plot\":null,\"render_mode\":\"css\",\"right_units\":\"screen\",\"top_units\":\"screen\"},\"id\":\"5c1f50a1-03ac-4032-bf62-1650a062e5a2\",\"type\":\"BoxAnnotation\"}],\"root_ids\":[\"63ce56b7-3cb3-4b0e-a2ba-3112abeb3dcf\"]},\"title\":\"Bokeh Application\",\"version\":\"0.12.14\"}};\n",
       "  var render_items = [{\"docid\":\"031e71c3-a12a-4cc2-b7fc-92cf9968085d\",\"elementid\":\"7d4f0c69-9c6d-4510-a729-02ba2ec0aa7a\",\"modelid\":\"63ce56b7-3cb3-4b0e-a2ba-3112abeb3dcf\"}];\n",
       "  root.Bokeh.embed.embed_items_notebook(docs_json, render_items);\n",
       "\n",
       "  }\n",
       "  if (root.Bokeh !== undefined) {\n",
       "    embed_document(root);\n",
       "  } else {\n",
       "    var attempts = 0;\n",
       "    var timer = setInterval(function(root) {\n",
       "      if (root.Bokeh !== undefined) {\n",
       "        embed_document(root);\n",
       "        clearInterval(timer);\n",
       "      }\n",
       "      attempts++;\n",
       "      if (attempts > 100) {\n",
       "        console.log(\"Bokeh: ERROR: Unable to run BokehJS code because BokehJS library is missing\")\n",
       "        clearInterval(timer);\n",
       "      }\n",
       "    }, 10, root)\n",
       "  }\n",
       "})(window);"
      ],
      "application/vnd.bokehjs_exec.v0+json": ""
     },
     "metadata": {
      "application/vnd.bokehjs_exec.v0+json": {
       "id": "63ce56b7-3cb3-4b0e-a2ba-3112abeb3dcf"
      }
     },
     "output_type": "display_data"
    }
   ],
   "source": [
    "mean = np.array([-1.5, 4]) \n",
    "cov = np.array([\n",
    "    [2, 1],\n",
    "    [1, .75]\n",
    "])\n",
    "data = np.random.multivariate_normal(mean, cov, size=100)\n",
    "\n",
    "fig = figure(\n",
    "    title='Data',\n",
    "    width=400,\n",
    "    height=400,\n",
    "    x_range=(mean[0] - 5, mean[0] + 5),\n",
    "    y_range=(mean[1] - 5, mean[1] + 5)\n",
    ")\n",
    "fig.circle(data[:, 0], data[:, 1])\n",
    "plotting.plot_normal(fig, mean, cov)\n",
    "\n",
    "show(fig)"
   ]
  },
  {
   "cell_type": "markdown",
   "metadata": {},
   "source": [
    "## Model Creation\n",
    "\n",
    "We create two types of Normal distribution: one diagonal covariance matrix and another one with full covariance matrix."
   ]
  },
  {
   "cell_type": "code",
   "execution_count": 59,
   "metadata": {},
   "outputs": [],
   "source": [
    "normal_diag = beer.NormalDiagonalCovariance.create(torch.ones(2), torch.eye(2), prior_count=1e-3)\n",
    "normal_full = beer.NormalFullCovariance.create(torch.zeros(2), torch.eye(2), prior_count=1e-3)"
   ]
  },
  {
   "cell_type": "markdown",
   "metadata": {},
   "source": [
    "## Variational Bayes Training "
   ]
  },
  {
   "cell_type": "code",
   "execution_count": 60,
   "metadata": {
    "scrolled": false
   },
   "outputs": [
    {
     "name": "stderr",
     "output_type": "stream",
     "text": [
      "/Users/lucasondel/anaconda3/envs/pytorch_src/lib/python3.6/site-packages/bokeh/core/json_encoder.py:80: FutureWarning: Conversion of the second argument of issubdtype from `float` to `np.floating` is deprecated. In future, it will be treated as `np.float64 == np.dtype(float).type`.\n",
      "  elif np.issubdtype(type(obj), np.float):\n"
     ]
    },
    {
     "data": {
      "text/html": [
       "\n",
       "<div class=\"bk-root\">\n",
       "    <div class=\"bk-plotdiv\" id=\"38d983f0-d39d-47e5-b0e2-ff91c63fbcf6\"></div>\n",
       "</div>"
      ]
     },
     "metadata": {},
     "output_type": "display_data"
    },
    {
     "data": {
      "application/javascript": [
       "(function(root) {\n",
       "  function embed_document(root) {\n",
       "    \n",
       "  var docs_json = {\"223c07cb-adc4-4572-bb40-3f43f33d54a9\":{\"roots\":{\"references\":[{\"attributes\":{\"bottom_units\":\"screen\",\"fill_alpha\":{\"value\":0.5},\"fill_color\":{\"value\":\"lightgrey\"},\"left_units\":\"screen\",\"level\":\"overlay\",\"line_alpha\":{\"value\":1.0},\"line_color\":{\"value\":\"black\"},\"line_dash\":[4,4],\"line_width\":{\"value\":2},\"plot\":null,\"render_mode\":\"css\",\"right_units\":\"screen\",\"top_units\":\"screen\"},\"id\":\"724dd92e-9a8e-40eb-be95-42b26f7bf5f4\",\"type\":\"BoxAnnotation\"},{\"attributes\":{},\"id\":\"27fe428f-828d-4617-af9b-874f2db5d799\",\"type\":\"BasicTickFormatter\"},{\"attributes\":{\"source\":{\"id\":\"0e926d33-2bf7-4ab5-81c2-d514c48a6f02\",\"type\":\"ColumnDataSource\"}},\"id\":\"34905463-1eed-41b6-9476-5716f2a3e885\",\"type\":\"CDSView\"},{\"attributes\":{\"callback\":null,\"data\":{}},\"id\":\"c1bb2cea-a7d1-4c52-8f7a-a2052693bf8c\",\"type\":\"ColumnDataSource\"},{\"attributes\":{\"fill_alpha\":{\"value\":0.5},\"fill_color\":{\"value\":\"green\"},\"line_alpha\":{\"value\":0.5},\"line_color\":{\"value\":\"green\"},\"x\":{\"value\":-1.536104440689087},\"y\":{\"value\":4.02567720413208}},\"id\":\"38358426-16d3-4e81-8d76-8beb85ed281a\",\"type\":\"Cross\"},{\"attributes\":{\"fill_color\":{\"value\":\"#1f77b4\"},\"line_color\":{\"value\":\"#1f77b4\"},\"x\":{\"field\":\"x\"},\"y\":{\"field\":\"y\"}},\"id\":\"d4c9dfde-6814-43d9-b71c-5267ac790129\",\"type\":\"Circle\"},{\"attributes\":{\"angle\":{\"units\":\"rad\",\"value\":-1.5707963267948966},\"fill_alpha\":{\"value\":0.5},\"fill_color\":{\"value\":\"red\"},\"height\":{\"units\":\"data\",\"value\":3.145265579223633},\"line_alpha\":{\"value\":0.5},\"line_color\":{\"value\":\"red\"},\"width\":{\"units\":\"data\",\"value\":1.9551156759262085},\"x\":{\"value\":-1.5360937118530273},\"y\":{\"value\":4.025685787200928}},\"id\":\"947184ba-0e35-4fec-8caa-b96712446727\",\"type\":\"Ellipse\"},{\"attributes\":{\"fill_alpha\":{\"value\":0.5},\"fill_color\":{\"value\":\"red\"},\"line_alpha\":{\"value\":0.5},\"line_color\":{\"value\":\"red\"},\"x\":{\"value\":-1.5360937118530273},\"y\":{\"value\":4.025685787200928}},\"id\":\"37b4268c-aec1-40e4-b59b-766a8ab9ae1f\",\"type\":\"Cross\"},{\"attributes\":{\"angle\":{\"units\":\"rad\",\"value\":-1.5707963267948966},\"fill_alpha\":{\"value\":0.25},\"fill_color\":{\"value\":\"red\"},\"height\":{\"units\":\"data\",\"value\":6.290531158447266},\"line_alpha\":{\"value\":0.25},\"line_color\":{\"value\":\"red\"},\"width\":{\"units\":\"data\",\"value\":3.910231351852417},\"x\":{\"value\":-1.5360937118530273},\"y\":{\"value\":4.025685787200928}},\"id\":\"ed792e76-6028-41a3-9966-dc11c9679a2b\",\"type\":\"Ellipse\"},{\"attributes\":{},\"id\":\"e6df3727-d21c-4c08-92c7-464853f2c96a\",\"type\":\"LinearScale\"},{\"attributes\":{\"plot\":null,\"text\":\"Initial model\"},\"id\":\"30886866-312e-494d-ba8b-739bfc7f13f0\",\"type\":\"Title\"},{\"attributes\":{\"active_drag\":\"auto\",\"active_inspect\":\"auto\",\"active_scroll\":\"auto\",\"active_tap\":\"auto\",\"tools\":[{\"id\":\"0114b7cb-768d-4fca-925e-e253069c62c3\",\"type\":\"PanTool\"},{\"id\":\"98819a0a-853b-4e18-bed9-49a87fbce548\",\"type\":\"WheelZoomTool\"},{\"id\":\"7a3106ea-5467-4ba5-8320-b2dfbccd8c54\",\"type\":\"BoxZoomTool\"},{\"id\":\"15fdc9fb-4220-4270-93a4-c9a6eedba731\",\"type\":\"SaveTool\"},{\"id\":\"9f8992aa-1c01-41ac-9dda-1d0d743af9f0\",\"type\":\"ResetTool\"},{\"id\":\"02a92a21-0608-4c09-8c4d-6c317ed32ef9\",\"type\":\"HelpTool\"}]},\"id\":\"7fcf4e03-34b7-45ea-bd3e-c78b00b4a0c2\",\"type\":\"Toolbar\"},{\"attributes\":{\"formatter\":{\"id\":\"27fe428f-828d-4617-af9b-874f2db5d799\",\"type\":\"BasicTickFormatter\"},\"plot\":{\"id\":\"0575345a-ef70-43da-995d-2ef78c4782ba\",\"subtype\":\"Figure\",\"type\":\"Plot\"},\"ticker\":{\"id\":\"de95a7e8-09b3-4d96-870f-2fe778f39315\",\"type\":\"BasicTicker\"}},\"id\":\"ba7d56b7-ffe7-4543-a46d-22329d178be0\",\"type\":\"LinearAxis\"},{\"attributes\":{\"data_source\":{\"id\":\"c1bb2cea-a7d1-4c52-8f7a-a2052693bf8c\",\"type\":\"ColumnDataSource\"},\"glyph\":{\"id\":\"37b4268c-aec1-40e4-b59b-766a8ab9ae1f\",\"type\":\"Cross\"},\"hover_glyph\":null,\"muted_glyph\":null,\"nonselection_glyph\":{\"id\":\"0749bebb-45d6-442d-ae6f-c40b2bfdf87a\",\"type\":\"Cross\"},\"selection_glyph\":null,\"view\":{\"id\":\"cc0310cf-ecc8-4b80-b920-df552ad7256f\",\"type\":\"CDSView\"}},\"id\":\"12288d81-3da4-4592-9170-12540a3a882c\",\"type\":\"GlyphRenderer\"},{\"attributes\":{\"callback\":null,\"data\":{}},\"id\":\"0e926d33-2bf7-4ab5-81c2-d514c48a6f02\",\"type\":\"ColumnDataSource\"},{\"attributes\":{\"fill_alpha\":{\"value\":0.1},\"fill_color\":{\"value\":\"#1f77b4\"},\"line_alpha\":{\"value\":0.1},\"line_color\":{\"value\":\"#1f77b4\"},\"x\":{\"value\":-1.5360937118530273},\"y\":{\"value\":4.025685787200928}},\"id\":\"0749bebb-45d6-442d-ae6f-c40b2bfdf87a\",\"type\":\"Cross\"},{\"attributes\":{},\"id\":\"02a92a21-0608-4c09-8c4d-6c317ed32ef9\",\"type\":\"HelpTool\"},{\"attributes\":{},\"id\":\"b405913a-4a5e-461f-9f38-c90770505cc6\",\"type\":\"LinearScale\"},{\"attributes\":{\"data_source\":{\"id\":\"17ef6dcc-be24-496e-8a1e-fa9739b97d6f\",\"type\":\"ColumnDataSource\"},\"glyph\":{\"id\":\"38358426-16d3-4e81-8d76-8beb85ed281a\",\"type\":\"Cross\"},\"hover_glyph\":null,\"muted_glyph\":null,\"nonselection_glyph\":{\"id\":\"ece13437-de58-454b-98da-69550fc941db\",\"type\":\"Cross\"},\"selection_glyph\":null,\"view\":{\"id\":\"e519023f-8f2d-462b-87b9-f1542959634a\",\"type\":\"CDSView\"}},\"id\":\"26273fed-9d88-42c8-b9eb-fc7eee6bd615\",\"type\":\"GlyphRenderer\"},{\"attributes\":{\"data_source\":{\"id\":\"cdc55434-eeba-47b0-b881-8922a0a610df\",\"type\":\"ColumnDataSource\"},\"glyph\":{\"id\":\"ed792e76-6028-41a3-9966-dc11c9679a2b\",\"type\":\"Ellipse\"},\"hover_glyph\":null,\"muted_glyph\":null,\"nonselection_glyph\":{\"id\":\"2dab5806-09c5-44d2-a9f6-c32ae0607c14\",\"type\":\"Ellipse\"},\"selection_glyph\":null,\"view\":{\"id\":\"94bcb458-c631-43ad-9006-60041aea1a28\",\"type\":\"CDSView\"}},\"id\":\"bf576294-7201-4bf7-aef9-7cab1048a1d8\",\"type\":\"GlyphRenderer\"},{\"attributes\":{\"source\":{\"id\":\"b69f24c2-dafd-4bc2-8ee4-6848df33b2bb\",\"type\":\"ColumnDataSource\"}},\"id\":\"7c1d350b-4a33-4e62-b1a8-778f3558ffcb\",\"type\":\"CDSView\"},{\"attributes\":{\"angle\":{\"units\":\"rad\",\"value\":-1.5707963267948966},\"fill_alpha\":{\"value\":0.1},\"fill_color\":{\"value\":\"#1f77b4\"},\"height\":{\"units\":\"data\",\"value\":3.145265579223633},\"line_alpha\":{\"value\":0.1},\"line_color\":{\"value\":\"#1f77b4\"},\"width\":{\"units\":\"data\",\"value\":1.9551156759262085},\"x\":{\"value\":-1.5360937118530273},\"y\":{\"value\":4.025685787200928}},\"id\":\"eedcb250-90db-4e0e-a7ea-be036b33aeaf\",\"type\":\"Ellipse\"},{\"attributes\":{\"dimension\":1,\"plot\":{\"id\":\"0575345a-ef70-43da-995d-2ef78c4782ba\",\"subtype\":\"Figure\",\"type\":\"Plot\"},\"ticker\":{\"id\":\"de95a7e8-09b3-4d96-870f-2fe778f39315\",\"type\":\"BasicTicker\"}},\"id\":\"439aa87c-f385-4a8e-bc6c-41a5756a3bae\",\"type\":\"Grid\"},{\"attributes\":{\"callback\":null,\"data\":{}},\"id\":\"b69f24c2-dafd-4bc2-8ee4-6848df33b2bb\",\"type\":\"ColumnDataSource\"},{\"attributes\":{\"source\":{\"id\":\"cdc55434-eeba-47b0-b881-8922a0a610df\",\"type\":\"ColumnDataSource\"}},\"id\":\"94bcb458-c631-43ad-9006-60041aea1a28\",\"type\":\"CDSView\"},{\"attributes\":{\"angle\":{\"units\":\"rad\",\"value\":-1.0485169887542725},\"fill_alpha\":{\"value\":0.5},\"fill_color\":{\"value\":\"green\"},\"height\":{\"units\":\"data\",\"value\":3.5672707557678223},\"line_alpha\":{\"value\":0.5},\"line_color\":{\"value\":\"green\"},\"width\":{\"units\":\"data\",\"value\":0.9369164705276489},\"x\":{\"value\":-1.536104440689087},\"y\":{\"value\":4.02567720413208}},\"id\":\"a7353c02-8d9d-484b-9b5f-818b74282288\",\"type\":\"Ellipse\"},{\"attributes\":{\"angle\":{\"units\":\"rad\",\"value\":-1.0485169887542725},\"fill_alpha\":{\"value\":0.25},\"fill_color\":{\"value\":\"green\"},\"height\":{\"units\":\"data\",\"value\":7.1345415115356445},\"line_alpha\":{\"value\":0.25},\"line_color\":{\"value\":\"green\"},\"width\":{\"units\":\"data\",\"value\":1.8738329410552979},\"x\":{\"value\":-1.536104440689087},\"y\":{\"value\":4.02567720413208}},\"id\":\"4affa6f3-11db-4a69-828a-ffd8d722acaa\",\"type\":\"Ellipse\"},{\"attributes\":{},\"id\":\"de95a7e8-09b3-4d96-870f-2fe778f39315\",\"type\":\"BasicTicker\"},{\"attributes\":{\"callback\":null,\"data\":{}},\"id\":\"cdc55434-eeba-47b0-b881-8922a0a610df\",\"type\":\"ColumnDataSource\"},{\"attributes\":{\"callback\":null,\"end\":3.5,\"start\":-6.5},\"id\":\"029aadc7-6254-447f-84c1-af814890cf70\",\"type\":\"Range1d\"},{\"attributes\":{},\"id\":\"4702773b-fc6d-4625-9776-d00a2ba25cc0\",\"type\":\"BasicTickFormatter\"},{\"attributes\":{\"data_source\":{\"id\":\"e16002eb-b28f-44c3-9ddd-62b58c8fcfe0\",\"type\":\"ColumnDataSource\"},\"glyph\":{\"id\":\"a7353c02-8d9d-484b-9b5f-818b74282288\",\"type\":\"Ellipse\"},\"hover_glyph\":null,\"muted_glyph\":null,\"nonselection_glyph\":{\"id\":\"8cd8f120-af97-4f4b-b6e8-a76ed2c70da7\",\"type\":\"Ellipse\"},\"selection_glyph\":null,\"view\":{\"id\":\"de69303f-b012-4478-aa67-2d02780a475e\",\"type\":\"CDSView\"}},\"id\":\"3a7c2c77-472a-47e3-8d1a-ee6577b0ff35\",\"type\":\"GlyphRenderer\"},{\"attributes\":{\"data_source\":{\"id\":\"b69f24c2-dafd-4bc2-8ee4-6848df33b2bb\",\"type\":\"ColumnDataSource\"},\"glyph\":{\"id\":\"947184ba-0e35-4fec-8caa-b96712446727\",\"type\":\"Ellipse\"},\"hover_glyph\":null,\"muted_glyph\":null,\"nonselection_glyph\":{\"id\":\"eedcb250-90db-4e0e-a7ea-be036b33aeaf\",\"type\":\"Ellipse\"},\"selection_glyph\":null,\"view\":{\"id\":\"7c1d350b-4a33-4e62-b1a8-778f3558ffcb\",\"type\":\"CDSView\"}},\"id\":\"8e0367be-ec8a-4822-b041-d769f80444f1\",\"type\":\"GlyphRenderer\"},{\"attributes\":{\"angle\":{\"units\":\"rad\",\"value\":-1.0485169887542725},\"fill_alpha\":{\"value\":0.1},\"fill_color\":{\"value\":\"#1f77b4\"},\"height\":{\"units\":\"data\",\"value\":3.5672707557678223},\"line_alpha\":{\"value\":0.1},\"line_color\":{\"value\":\"#1f77b4\"},\"width\":{\"units\":\"data\",\"value\":0.9369164705276489},\"x\":{\"value\":-1.536104440689087},\"y\":{\"value\":4.02567720413208}},\"id\":\"8cd8f120-af97-4f4b-b6e8-a76ed2c70da7\",\"type\":\"Ellipse\"},{\"attributes\":{},\"id\":\"0114b7cb-768d-4fca-925e-e253069c62c3\",\"type\":\"PanTool\"},{\"attributes\":{\"below\":[{\"id\":\"918dd4b0-01e1-4124-a830-75de79fa5fa6\",\"type\":\"LinearAxis\"}],\"left\":[{\"id\":\"ba7d56b7-ffe7-4543-a46d-22329d178be0\",\"type\":\"LinearAxis\"}],\"plot_height\":400,\"plot_width\":400,\"renderers\":[{\"id\":\"918dd4b0-01e1-4124-a830-75de79fa5fa6\",\"type\":\"LinearAxis\"},{\"id\":\"39f2f8cd-713b-4177-838c-3b0c60fc69da\",\"type\":\"Grid\"},{\"id\":\"ba7d56b7-ffe7-4543-a46d-22329d178be0\",\"type\":\"LinearAxis\"},{\"id\":\"439aa87c-f385-4a8e-bc6c-41a5756a3bae\",\"type\":\"Grid\"},{\"id\":\"724dd92e-9a8e-40eb-be95-42b26f7bf5f4\",\"type\":\"BoxAnnotation\"},{\"id\":\"69e2bd37-a80f-42b7-8777-ed38f85244aa\",\"type\":\"GlyphRenderer\"},{\"id\":\"bf576294-7201-4bf7-aef9-7cab1048a1d8\",\"type\":\"GlyphRenderer\"},{\"id\":\"12288d81-3da4-4592-9170-12540a3a882c\",\"type\":\"GlyphRenderer\"},{\"id\":\"8e0367be-ec8a-4822-b041-d769f80444f1\",\"type\":\"GlyphRenderer\"},{\"id\":\"410fcb6c-4917-44ff-a5cb-8914d35a0c20\",\"type\":\"GlyphRenderer\"},{\"id\":\"26273fed-9d88-42c8-b9eb-fc7eee6bd615\",\"type\":\"GlyphRenderer\"},{\"id\":\"3a7c2c77-472a-47e3-8d1a-ee6577b0ff35\",\"type\":\"GlyphRenderer\"}],\"title\":{\"id\":\"30886866-312e-494d-ba8b-739bfc7f13f0\",\"type\":\"Title\"},\"toolbar\":{\"id\":\"7fcf4e03-34b7-45ea-bd3e-c78b00b4a0c2\",\"type\":\"Toolbar\"},\"x_range\":{\"id\":\"029aadc7-6254-447f-84c1-af814890cf70\",\"type\":\"Range1d\"},\"x_scale\":{\"id\":\"b405913a-4a5e-461f-9f38-c90770505cc6\",\"type\":\"LinearScale\"},\"y_range\":{\"id\":\"f66e4919-1ce9-4061-8ec8-9a6bc41e6241\",\"type\":\"Range1d\"},\"y_scale\":{\"id\":\"e6df3727-d21c-4c08-92c7-464853f2c96a\",\"type\":\"LinearScale\"}},\"id\":\"0575345a-ef70-43da-995d-2ef78c4782ba\",\"subtype\":\"Figure\",\"type\":\"Plot\"},{\"attributes\":{\"plot\":{\"id\":\"0575345a-ef70-43da-995d-2ef78c4782ba\",\"subtype\":\"Figure\",\"type\":\"Plot\"},\"ticker\":{\"id\":\"aac7d906-e8db-4d60-97e1-551f423b8984\",\"type\":\"BasicTicker\"}},\"id\":\"39f2f8cd-713b-4177-838c-3b0c60fc69da\",\"type\":\"Grid\"},{\"attributes\":{\"angle\":{\"units\":\"rad\",\"value\":-1.5707963267948966},\"fill_alpha\":{\"value\":0.1},\"fill_color\":{\"value\":\"#1f77b4\"},\"height\":{\"units\":\"data\",\"value\":6.290531158447266},\"line_alpha\":{\"value\":0.1},\"line_color\":{\"value\":\"#1f77b4\"},\"width\":{\"units\":\"data\",\"value\":3.910231351852417},\"x\":{\"value\":-1.5360937118530273},\"y\":{\"value\":4.025685787200928}},\"id\":\"2dab5806-09c5-44d2-a9f6-c32ae0607c14\",\"type\":\"Ellipse\"},{\"attributes\":{},\"id\":\"aac7d906-e8db-4d60-97e1-551f423b8984\",\"type\":\"BasicTicker\"},{\"attributes\":{\"callback\":null,\"data\":{}},\"id\":\"e16002eb-b28f-44c3-9ddd-62b58c8fcfe0\",\"type\":\"ColumnDataSource\"},{\"attributes\":{\"source\":{\"id\":\"17ef6dcc-be24-496e-8a1e-fa9739b97d6f\",\"type\":\"ColumnDataSource\"}},\"id\":\"e519023f-8f2d-462b-87b9-f1542959634a\",\"type\":\"CDSView\"},{\"attributes\":{\"callback\":null,\"end\":9.0,\"start\":-1.0},\"id\":\"f66e4919-1ce9-4061-8ec8-9a6bc41e6241\",\"type\":\"Range1d\"},{\"attributes\":{},\"id\":\"98819a0a-853b-4e18-bed9-49a87fbce548\",\"type\":\"WheelZoomTool\"},{\"attributes\":{\"data_source\":{\"id\":\"0e926d33-2bf7-4ab5-81c2-d514c48a6f02\",\"type\":\"ColumnDataSource\"},\"glyph\":{\"id\":\"4affa6f3-11db-4a69-828a-ffd8d722acaa\",\"type\":\"Ellipse\"},\"hover_glyph\":null,\"muted_glyph\":null,\"nonselection_glyph\":{\"id\":\"af9a4d8d-aff5-445c-912c-d6be1e129512\",\"type\":\"Ellipse\"},\"selection_glyph\":null,\"view\":{\"id\":\"34905463-1eed-41b6-9476-5716f2a3e885\",\"type\":\"CDSView\"}},\"id\":\"410fcb6c-4917-44ff-a5cb-8914d35a0c20\",\"type\":\"GlyphRenderer\"},{\"attributes\":{\"fill_alpha\":{\"value\":0.1},\"fill_color\":{\"value\":\"#1f77b4\"},\"line_alpha\":{\"value\":0.1},\"line_color\":{\"value\":\"#1f77b4\"},\"x\":{\"field\":\"x\"},\"y\":{\"field\":\"y\"}},\"id\":\"2f8fc072-40c0-4bde-8323-27eb30c82bc1\",\"type\":\"Circle\"},{\"attributes\":{\"data_source\":{\"id\":\"605df0b3-0e84-4183-8125-2aded78a2b8f\",\"type\":\"ColumnDataSource\"},\"glyph\":{\"id\":\"d4c9dfde-6814-43d9-b71c-5267ac790129\",\"type\":\"Circle\"},\"hover_glyph\":null,\"muted_glyph\":null,\"nonselection_glyph\":{\"id\":\"2f8fc072-40c0-4bde-8323-27eb30c82bc1\",\"type\":\"Circle\"},\"selection_glyph\":null,\"view\":{\"id\":\"bf1f63a4-1034-4d81-a2da-2fe37d582679\",\"type\":\"CDSView\"}},\"id\":\"69e2bd37-a80f-42b7-8777-ed38f85244aa\",\"type\":\"GlyphRenderer\"},{\"attributes\":{\"source\":{\"id\":\"e16002eb-b28f-44c3-9ddd-62b58c8fcfe0\",\"type\":\"ColumnDataSource\"}},\"id\":\"de69303f-b012-4478-aa67-2d02780a475e\",\"type\":\"CDSView\"},{\"attributes\":{\"source\":{\"id\":\"c1bb2cea-a7d1-4c52-8f7a-a2052693bf8c\",\"type\":\"ColumnDataSource\"}},\"id\":\"cc0310cf-ecc8-4b80-b920-df552ad7256f\",\"type\":\"CDSView\"},{\"attributes\":{},\"id\":\"15fdc9fb-4220-4270-93a4-c9a6eedba731\",\"type\":\"SaveTool\"},{\"attributes\":{\"callback\":null,\"data\":{}},\"id\":\"17ef6dcc-be24-496e-8a1e-fa9739b97d6f\",\"type\":\"ColumnDataSource\"},{\"attributes\":{\"angle\":{\"units\":\"rad\",\"value\":-1.0485169887542725},\"fill_alpha\":{\"value\":0.1},\"fill_color\":{\"value\":\"#1f77b4\"},\"height\":{\"units\":\"data\",\"value\":7.1345415115356445},\"line_alpha\":{\"value\":0.1},\"line_color\":{\"value\":\"#1f77b4\"},\"width\":{\"units\":\"data\",\"value\":1.8738329410552979},\"x\":{\"value\":-1.536104440689087},\"y\":{\"value\":4.02567720413208}},\"id\":\"af9a4d8d-aff5-445c-912c-d6be1e129512\",\"type\":\"Ellipse\"},{\"attributes\":{},\"id\":\"9f8992aa-1c01-41ac-9dda-1d0d743af9f0\",\"type\":\"ResetTool\"},{\"attributes\":{\"fill_alpha\":{\"value\":0.1},\"fill_color\":{\"value\":\"#1f77b4\"},\"line_alpha\":{\"value\":0.1},\"line_color\":{\"value\":\"#1f77b4\"},\"x\":{\"value\":-1.536104440689087},\"y\":{\"value\":4.02567720413208}},\"id\":\"ece13437-de58-454b-98da-69550fc941db\",\"type\":\"Cross\"},{\"attributes\":{\"source\":{\"id\":\"605df0b3-0e84-4183-8125-2aded78a2b8f\",\"type\":\"ColumnDataSource\"}},\"id\":\"bf1f63a4-1034-4d81-a2da-2fe37d582679\",\"type\":\"CDSView\"},{\"attributes\":{\"formatter\":{\"id\":\"4702773b-fc6d-4625-9776-d00a2ba25cc0\",\"type\":\"BasicTickFormatter\"},\"plot\":{\"id\":\"0575345a-ef70-43da-995d-2ef78c4782ba\",\"subtype\":\"Figure\",\"type\":\"Plot\"},\"ticker\":{\"id\":\"aac7d906-e8db-4d60-97e1-551f423b8984\",\"type\":\"BasicTicker\"}},\"id\":\"918dd4b0-01e1-4124-a830-75de79fa5fa6\",\"type\":\"LinearAxis\"},{\"attributes\":{\"overlay\":{\"id\":\"724dd92e-9a8e-40eb-be95-42b26f7bf5f4\",\"type\":\"BoxAnnotation\"}},\"id\":\"7a3106ea-5467-4ba5-8320-b2dfbccd8c54\",\"type\":\"BoxZoomTool\"},{\"attributes\":{\"callback\":null,\"column_names\":[\"x\",\"y\"],\"data\":{\"x\":{\"__ndarray__\":\"dkerVHgaAcAmJVFaLVoDwIIZ3HuUkgXALtDJ04z8BsAUAikiLF3Wv+pTi6bvtg3AhnHiPBNu579OV0x3X+oVwKvfnQbFvgzAyJUOmm0Qx7+Imz4tFrD6v44iu/ZbBQnA1AS4ing3C8AAOIn5IRucP7unYP0j/gHAypMEMwveCsAANeDL81+Yv4wxwSg9e9C/uh9I2Elc8r/kCca2aK4EwHIQl7pXpf+/vvUV7/lh9L9Cj6TaingBwIAsmy6/n/m/kIyPq649zj8Mpbgmnevxvwi3O0n/M9s/zRWrhL6f4b+gYrDwM7rtP5jnxOc9l/E/zZ68Y/bSBMBciRMXtGEEwELuUe/PJgHA+Dwo0VD87j9A/sKqq1vNv+LSVO6JmwvAjTIOX+bB479EgHAh/OUQwP/qFWpiOQjAuZwdHyWfAsBmXwln4Enxv8BDOMo3vbK/7HW3c6D4CcDmEir3XU7/P8pObIl7JOC/sAwAU5NMCsCQ6TX0KW7pv8est5Oxw+C/QIdXMm/s4z9ps/BAQAwAwNJQqGL4bgzA+s3vOoksAMDGGWRMnxz7vzgOzPBkhA3AsNksXJ8CF8DixK9Jhcj+v/TttRf5rAPAeM9WrXf68L8YrnjHttQDwOj2zbI/d/G/3uXmC4gO579AHYzgkDvGvwDE1CrNDpu/YCWO132UBMAlchfQUOsBwNR/9HUFztO/ADLkArrOoT+wqpAza9ATwOerRXRrrem/sAx7OiCp+79T5jA8RAMEwF7sBms0WO6/LMg2Cby98r865Gyt0cIGwH04n2xdMQvAcBH61q/Nxz8GxEsYeoHzP5DF6LBjRrk/tIfp9gDn979O5Ftc0VcAwKM8Q8guueO/LOKIX0jV5r8QWj22k0sDwO4LMfy2cPm//P2xR5wu8r/IKY+x4rHNP3AbnES34us/gPIaBI3XyL90lCocNh4SwJ5BBW+niw3AZLeW72qI2r/gVAJo3pjVP4xho4ofKug/ikf8Sg9jBcC9QpqWN30DwO1vhc4NTvy/Squ3dYC8C8DwJDwDN6DxP9Zuc8WCZua/TP4evGQb9b8=\",\"dtype\":\"float64\",\"shape\":[100]},\"y\":{\"__ndarray__\":\"uIiijmLcE0Chb7JvYOsIQF2OX9rVtgZAMT24s3nEDEBCN/JPlKoTQHNdxjVtvQVA9OyMNdyYE0Adw5OWbb8AQOwjNz4JjA5AAAzd/DlfEkAn52rtXh0QQE+1HU94XQRAwbecGfnzCEDQ9cWjCBsPQJR9zKHoOgpATkaXHAJEDEBQL1bANXcUQBM8myMIwBFAYSFNKROQEEDnkOkKVS4FQMlZhaF1bQtAtupCqqbdEkDDjmSHWd0JQCNWNrADXRFAnevzjheFEECYOdinif0SQM8uWw7iKxNAgLw5Y9b5EUC8wV6V3YoWQPjUuahpshRAggpRnk79D0Axr9mwhNwNQJsm+jSTlA5AeiPvug9FFkBQR4Gym+gUQHYykfvggwtAcPDAKyQjFEBUxyi87rP/P4ohM2/kfgNA/bwhJhj7B0BZRMDe2zEQQAgzV6vosBRArbUI/lGOCECU+bOkReYYQDSlwM9JrhNAaNDRnI7DD0BnsC7uQ3MQQL9Hjnuq8hFAnZGheTUOEkBwmyi9xX0KQFk1+2bPQxFATQp9MkndEEAXK0csRqwLQLyPO2JxPgRAqvRBZb3/+T9rfs8AGzcQQLnoIIBZsA1AgxTN1cA8EEAKZWbVxFkKQMkInsn19hBApFkKtDCaFEDITOGZMGAVQF/jB6sdTRdAQLjNQUzrBUCEkf4Tp/8OQEUqjZ3FoBVA6msd2ok8FEAZ37Mx4bAEQNIlUY3qzA9AMIDgPM1UD0DKX9QUxxoGQB1AAnU5cRRAKwyC+kMzD0Dxh7oGZF8CQO5YTvlkoApAIoPfwsGoE0BHtnWeB3wOQEB9S3PeFRNAF5AWp7UFEECHZ6lulccOQD6KrE4XoRRAscIbeNyIDkAjgTWENSANQIU1PpRryQ1AwCpNyzgEEEC66XMym50VQFa3QR+PxBJAEpeos727EkBEf23guLX/PzfB5XP7OAhAnvBHAwrMEkC4BK9pp1AWQMYN6r/qThdA1ZXMsnO5CUAoyuAy1JEQQAlTACj9yQxAasTBXDHxBkAOA9qbRcwUQKliSPH2/BBAThdqlCgJD0A=\",\"dtype\":\"float64\",\"shape\":[100]}}},\"id\":\"605df0b3-0e84-4183-8125-2aded78a2b8f\",\"type\":\"ColumnDataSource\"}],\"root_ids\":[\"0575345a-ef70-43da-995d-2ef78c4782ba\"]},\"title\":\"Bokeh Application\",\"version\":\"0.12.14\"}};\n",
       "  var render_items = [{\"docid\":\"223c07cb-adc4-4572-bb40-3f43f33d54a9\",\"elementid\":\"38d983f0-d39d-47e5-b0e2-ff91c63fbcf6\",\"modelid\":\"0575345a-ef70-43da-995d-2ef78c4782ba\"}];\n",
       "  root.Bokeh.embed.embed_items_notebook(docs_json, render_items);\n",
       "\n",
       "  }\n",
       "  if (root.Bokeh !== undefined) {\n",
       "    embed_document(root);\n",
       "  } else {\n",
       "    var attempts = 0;\n",
       "    var timer = setInterval(function(root) {\n",
       "      if (root.Bokeh !== undefined) {\n",
       "        embed_document(root);\n",
       "        clearInterval(timer);\n",
       "      }\n",
       "      attempts++;\n",
       "      if (attempts > 100) {\n",
       "        console.log(\"Bokeh: ERROR: Unable to run BokehJS code because BokehJS library is missing\")\n",
       "        clearInterval(timer);\n",
       "      }\n",
       "    }, 10, root)\n",
       "  }\n",
       "})(window);"
      ],
      "application/vnd.bokehjs_exec.v0+json": ""
     },
     "metadata": {
      "application/vnd.bokehjs_exec.v0+json": {
       "id": "0575345a-ef70-43da-995d-2ef78c4782ba"
      }
     },
     "output_type": "display_data"
    }
   ],
   "source": [
    "# Training.\n",
    "beer.train_loglinear_model(normal_diag, torch.from_numpy(data).float())\n",
    "beer.train_loglinear_model(normal_full, torch.from_numpy(data).float())\n",
    "\n",
    "fig = figure(\n",
    "    title='Initial model',\n",
    "    width=400,\n",
    "    height=400,\n",
    "    x_range=(mean[0] - 5, mean[0] + 5),\n",
    "    y_range=(mean[1] - 5, mean[1] + 5)\n",
    ")\n",
    "fig.circle(data[:, 0], data[:, 1])\n",
    "plotting.plot_normal(fig, normal_diag.mean.numpy(), normal_diag.cov.numpy(), alpha=.5, color='red')\n",
    "plotting.plot_normal(fig, normal_full.mean.numpy(), normal_full.cov.numpy(), alpha=.5, color='green')\n",
    "\n",
    "show(fig)"
   ]
  },
  {
   "cell_type": "code",
   "execution_count": 61,
   "metadata": {},
   "outputs": [
    {
     "name": "stderr",
     "output_type": "stream",
     "text": [
      "/Users/lucasondel/anaconda3/envs/pytorch_src/lib/python3.6/site-packages/bokeh/core/json_encoder.py:80: FutureWarning: Conversion of the second argument of issubdtype from `float` to `np.floating` is deprecated. In future, it will be treated as `np.float64 == np.dtype(float).type`.\n",
      "  elif np.issubdtype(type(obj), np.float):\n"
     ]
    },
    {
     "data": {
      "text/html": [
       "\n",
       "<div class=\"bk-root\">\n",
       "    <div class=\"bk-plotdiv\" id=\"3eb5d6b4-1cb9-48da-abbc-74400ffd61cb\"></div>\n",
       "</div>"
      ]
     },
     "metadata": {},
     "output_type": "display_data"
    },
    {
     "data": {
      "application/javascript": [
       "(function(root) {\n",
       "  function embed_document(root) {\n",
       "    \n",
       "  var docs_json = {\"ce7a6da0-6904-46e8-8a28-e2300606ced7\":{\"roots\":{\"references\":[{\"attributes\":{},\"id\":\"c4ec6377-4021-4086-a6cf-474fe910d1b7\",\"type\":\"LinearScale\"},{\"attributes\":{},\"id\":\"afc8b5e5-9768-4cd6-81ad-f5e8f8546cd6\",\"type\":\"SaveTool\"},{\"attributes\":{\"callback\":null,\"data\":{}},\"id\":\"0be9cf90-ecbe-4c3c-b215-1dbef4b3ed51\",\"type\":\"ColumnDataSource\"},{\"attributes\":{\"data_source\":{\"id\":\"a05fd76d-08ac-4710-87e4-62f9de7d1268\",\"type\":\"ColumnDataSource\"},\"glyph\":{\"id\":\"c308237f-09bd-45de-bbe1-fffd0aa54eb9\",\"type\":\"Ellipse\"},\"hover_glyph\":null,\"muted_glyph\":null,\"nonselection_glyph\":{\"id\":\"56c92dec-7bbf-424e-9f0c-408734072c5b\",\"type\":\"Ellipse\"},\"selection_glyph\":null,\"view\":{\"id\":\"81b47a45-f840-4692-a2a0-eb78e84f15e2\",\"type\":\"CDSView\"}},\"id\":\"3e94a69a-d694-4e03-86c9-3502b1a235cf\",\"type\":\"GlyphRenderer\"},{\"attributes\":{\"angle\":{\"units\":\"rad\",\"value\":-1.5707963267948966},\"fill_alpha\":{\"value\":0.1},\"fill_color\":{\"value\":\"#1f77b4\"},\"height\":{\"units\":\"data\",\"value\":6.290531158447266},\"line_alpha\":{\"value\":0.1},\"line_color\":{\"value\":\"#1f77b4\"},\"width\":{\"units\":\"data\",\"value\":3.910231351852417},\"x\":{\"value\":0.03653907775878906},\"y\":{\"value\":5.003243923187256}},\"id\":\"ff1eb99a-1950-4782-bd7a-ab8067ff7c79\",\"type\":\"Ellipse\"},{\"attributes\":{\"callback\":null,\"data\":{}},\"id\":\"944c8c92-f907-4086-b652-26cc786eb592\",\"type\":\"ColumnDataSource\"},{\"attributes\":{\"data_source\":{\"id\":\"4e7ebfe1-1c5c-4d20-b3ee-2140a5f5acfe\",\"type\":\"ColumnDataSource\"},\"glyph\":{\"id\":\"f6465f9b-dbd7-45f2-9e32-b508e2f1f6b6\",\"type\":\"Cross\"},\"hover_glyph\":null,\"muted_glyph\":null,\"nonselection_glyph\":{\"id\":\"fdb1f8ce-e139-4fbe-af41-321ca51c700a\",\"type\":\"Cross\"},\"selection_glyph\":null,\"view\":{\"id\":\"47cdf924-c62c-4aee-921a-2af136d9f794\",\"type\":\"CDSView\"}},\"id\":\"2749e269-8634-47fd-8272-23470cafdae2\",\"type\":\"GlyphRenderer\"},{\"attributes\":{\"source\":{\"id\":\"0dc7938f-59b3-44e9-8403-4f590baa74fc\",\"type\":\"ColumnDataSource\"}},\"id\":\"b5a78010-5f31-4aec-a926-72f18fd170fd\",\"type\":\"CDSView\"},{\"attributes\":{\"source\":{\"id\":\"a05fd76d-08ac-4710-87e4-62f9de7d1268\",\"type\":\"ColumnDataSource\"}},\"id\":\"81b47a45-f840-4692-a2a0-eb78e84f15e2\",\"type\":\"CDSView\"},{\"attributes\":{},\"id\":\"4359db8a-d080-41c5-ae0d-f939bc488d99\",\"type\":\"HelpTool\"},{\"attributes\":{\"angle\":{\"units\":\"rad\",\"value\":-1.5707963267948966},\"fill_alpha\":{\"value\":0.1},\"fill_color\":{\"value\":\"#1f77b4\"},\"height\":{\"units\":\"data\",\"value\":6.290531158447266},\"line_alpha\":{\"value\":0.1},\"line_color\":{\"value\":\"#1f77b4\"},\"width\":{\"units\":\"data\",\"value\":3.910231351852417},\"x\":{\"value\":-1.5360937118530273},\"y\":{\"value\":4.025685787200928}},\"id\":\"eb8941b6-b08a-4388-bc77-a866d191329f\",\"type\":\"Ellipse\"},{\"attributes\":{\"source\":{\"id\":\"6bdb1ec9-35b8-4415-ba97-c5a56213d8d3\",\"type\":\"ColumnDataSource\"}},\"id\":\"e730bef3-17c5-4119-8d89-4ffc4c07d890\",\"type\":\"CDSView\"},{\"attributes\":{\"data_source\":{\"id\":\"0be9cf90-ecbe-4c3c-b215-1dbef4b3ed51\",\"type\":\"ColumnDataSource\"},\"glyph\":{\"id\":\"f3b71ff8-cd01-4e19-be3c-5546a1f9c2dc\",\"type\":\"Ellipse\"},\"hover_glyph\":null,\"muted_glyph\":null,\"nonselection_glyph\":{\"id\":\"ff1eb99a-1950-4782-bd7a-ab8067ff7c79\",\"type\":\"Ellipse\"},\"selection_glyph\":null,\"view\":{\"id\":\"5f726b5d-ba18-4eb5-a857-ee257255eb91\",\"type\":\"CDSView\"}},\"id\":\"48c32845-0858-42d7-9b04-0fc81af644f9\",\"type\":\"GlyphRenderer\"},{\"attributes\":{\"source\":{\"id\":\"0be9cf90-ecbe-4c3c-b215-1dbef4b3ed51\",\"type\":\"ColumnDataSource\"}},\"id\":\"5f726b5d-ba18-4eb5-a857-ee257255eb91\",\"type\":\"CDSView\"},{\"attributes\":{\"plot\":{\"id\":\"4c91b021-a82d-469c-8b79-ecfa781cb90f\",\"subtype\":\"Figure\",\"type\":\"Plot\"},\"ticker\":{\"id\":\"e15eed18-85c3-4cf8-b704-4b132e7cbd1f\",\"type\":\"BasicTicker\"}},\"id\":\"f22b900a-6cd1-4952-8824-92d18f1de926\",\"type\":\"Grid\"},{\"attributes\":{\"angle\":{\"units\":\"rad\",\"value\":-1.5707963267948966},\"fill_alpha\":{\"value\":0.1},\"fill_color\":{\"value\":\"#1f77b4\"},\"height\":{\"units\":\"data\",\"value\":6.290532112121582},\"line_alpha\":{\"value\":0.1},\"line_color\":{\"value\":\"#1f77b4\"},\"width\":{\"units\":\"data\",\"value\":3.9102320671081543},\"x\":{\"value\":-3.1087265014648438},\"y\":{\"value\":3.0481278896331787}},\"id\":\"14cc1283-f7b1-4b07-bf12-60410a6cd2f1\",\"type\":\"Ellipse\"},{\"attributes\":{\"dimension\":1,\"plot\":{\"id\":\"4c91b021-a82d-469c-8b79-ecfa781cb90f\",\"subtype\":\"Figure\",\"type\":\"Plot\"},\"ticker\":{\"id\":\"5ae17f4a-3c57-43fa-9cf6-863c88f1995d\",\"type\":\"BasicTicker\"}},\"id\":\"bb5efe7d-5cd2-402e-8966-6b0f38a59b1e\",\"type\":\"Grid\"},{\"attributes\":{\"callback\":null,\"data\":{}},\"id\":\"c17ce4fb-9aae-4266-9298-b4fb94c9f6fb\",\"type\":\"ColumnDataSource\"},{\"attributes\":{\"below\":[{\"id\":\"cabd3cb8-3b0c-45b8-a26e-1afa8bf7c053\",\"type\":\"LinearAxis\"}],\"left\":[{\"id\":\"00e44056-fc3e-4d75-b056-b45e60461be8\",\"type\":\"LinearAxis\"}],\"plot_height\":400,\"plot_width\":400,\"renderers\":[{\"id\":\"cabd3cb8-3b0c-45b8-a26e-1afa8bf7c053\",\"type\":\"LinearAxis\"},{\"id\":\"f22b900a-6cd1-4952-8824-92d18f1de926\",\"type\":\"Grid\"},{\"id\":\"00e44056-fc3e-4d75-b056-b45e60461be8\",\"type\":\"LinearAxis\"},{\"id\":\"bb5efe7d-5cd2-402e-8966-6b0f38a59b1e\",\"type\":\"Grid\"},{\"id\":\"dd4fec29-db70-4e34-be01-04a780ceeaca\",\"type\":\"BoxAnnotation\"},{\"id\":\"6ffc5590-09dc-4aec-a9cc-2162427cf36d\",\"type\":\"GlyphRenderer\"},{\"id\":\"626792cb-d9ca-4e82-a774-16803894bedd\",\"type\":\"GlyphRenderer\"},{\"id\":\"2749e269-8634-47fd-8272-23470cafdae2\",\"type\":\"GlyphRenderer\"},{\"id\":\"3e94a69a-d694-4e03-86c9-3502b1a235cf\",\"type\":\"GlyphRenderer\"},{\"id\":\"48c32845-0858-42d7-9b04-0fc81af644f9\",\"type\":\"GlyphRenderer\"},{\"id\":\"4e51d6c8-668a-4406-8b85-3e992a0664dd\",\"type\":\"GlyphRenderer\"},{\"id\":\"00dcbbf3-5e9a-47b8-8042-14019bda9613\",\"type\":\"GlyphRenderer\"},{\"id\":\"5c8b8ec1-c61e-4d01-bd19-6155c60f7692\",\"type\":\"GlyphRenderer\"},{\"id\":\"fdb0ed45-c458-4bdc-9fcc-59b81a0d36f0\",\"type\":\"GlyphRenderer\"},{\"id\":\"3a441d57-d2ee-4586-b586-737b76f71dda\",\"type\":\"GlyphRenderer\"}],\"title\":{\"id\":\"53b3745a-b2e8-4b0c-bacf-fb4d0c16a529\",\"type\":\"Title\"},\"toolbar\":{\"id\":\"fdea34f2-e4d1-4feb-b7ad-d10f4c6c7331\",\"type\":\"Toolbar\"},\"x_range\":{\"id\":\"7175c886-53bf-43ac-b813-fe883fa7cdf4\",\"type\":\"Range1d\"},\"x_scale\":{\"id\":\"c4a24fe1-fc57-4ec7-92ee-95a5eb72b04a\",\"type\":\"LinearScale\"},\"y_range\":{\"id\":\"d5784fab-206f-470e-b34a-5661e18066f8\",\"type\":\"Range1d\"},\"y_scale\":{\"id\":\"c4ec6377-4021-4086-a6cf-474fe910d1b7\",\"type\":\"LinearScale\"}},\"id\":\"4c91b021-a82d-469c-8b79-ecfa781cb90f\",\"subtype\":\"Figure\",\"type\":\"Plot\"},{\"attributes\":{},\"id\":\"75ab576b-f8af-4346-986e-5de6f12e4044\",\"type\":\"PanTool\"},{\"attributes\":{\"fill_alpha\":{\"value\":0.1},\"fill_color\":{\"value\":\"#1f77b4\"},\"line_alpha\":{\"value\":0.1},\"line_color\":{\"value\":\"#1f77b4\"},\"x\":{\"value\":-3.1087265014648438},\"y\":{\"value\":3.0481278896331787}},\"id\":\"eb38f8de-e589-48d3-92ed-5ed3898bb828\",\"type\":\"Cross\"},{\"attributes\":{\"angle\":{\"units\":\"rad\",\"value\":-1.5707963267948966},\"fill_alpha\":{\"value\":0.25},\"fill_color\":{\"value\":\"green\"},\"height\":{\"units\":\"data\",\"value\":6.290532112121582},\"line_alpha\":{\"value\":0.25},\"line_color\":{\"value\":\"green\"},\"width\":{\"units\":\"data\",\"value\":3.9102320671081543},\"x\":{\"value\":-3.1087265014648438},\"y\":{\"value\":3.0481278896331787}},\"id\":\"a6cdfabb-2c83-4212-b39d-3abf2cd5fb24\",\"type\":\"Ellipse\"},{\"attributes\":{},\"id\":\"e15eed18-85c3-4cf8-b704-4b132e7cbd1f\",\"type\":\"BasicTicker\"},{\"attributes\":{},\"id\":\"c4a24fe1-fc57-4ec7-92ee-95a5eb72b04a\",\"type\":\"LinearScale\"},{\"attributes\":{\"angle\":{\"units\":\"rad\",\"value\":-1.5707963267948966},\"fill_alpha\":{\"value\":0.5},\"fill_color\":{\"value\":\"red\"},\"height\":{\"units\":\"data\",\"value\":3.145265579223633},\"line_alpha\":{\"value\":0.5},\"line_color\":{\"value\":\"red\"},\"width\":{\"units\":\"data\",\"value\":1.9551156759262085},\"x\":{\"value\":0.03653907775878906},\"y\":{\"value\":5.003243923187256}},\"id\":\"6d832811-0e68-431b-b0f4-eed71eec5be0\",\"type\":\"Ellipse\"},{\"attributes\":{\"angle\":{\"units\":\"rad\",\"value\":-1.5707963267948966},\"fill_alpha\":{\"value\":0.25},\"fill_color\":{\"value\":\"blue\"},\"height\":{\"units\":\"data\",\"value\":6.290531158447266},\"line_alpha\":{\"value\":0.25},\"line_color\":{\"value\":\"blue\"},\"width\":{\"units\":\"data\",\"value\":3.910231351852417},\"x\":{\"value\":-1.5360937118530273},\"y\":{\"value\":4.025685787200928}},\"id\":\"f6b6f9ef-8267-46df-9f16-e86dda33cfaa\",\"type\":\"Ellipse\"},{\"attributes\":{\"angle\":{\"units\":\"rad\",\"value\":-1.5707963267948966},\"fill_alpha\":{\"value\":0.5},\"fill_color\":{\"value\":\"blue\"},\"height\":{\"units\":\"data\",\"value\":3.145265579223633},\"line_alpha\":{\"value\":0.5},\"line_color\":{\"value\":\"blue\"},\"width\":{\"units\":\"data\",\"value\":1.9551156759262085},\"x\":{\"value\":-1.5360937118530273},\"y\":{\"value\":4.025685787200928}},\"id\":\"c308237f-09bd-45de-bbe1-fffd0aa54eb9\",\"type\":\"Ellipse\"},{\"attributes\":{\"formatter\":{\"id\":\"302fa945-5d3b-46c2-97d1-228c1f7fef8e\",\"type\":\"BasicTickFormatter\"},\"plot\":{\"id\":\"4c91b021-a82d-469c-8b79-ecfa781cb90f\",\"subtype\":\"Figure\",\"type\":\"Plot\"},\"ticker\":{\"id\":\"e15eed18-85c3-4cf8-b704-4b132e7cbd1f\",\"type\":\"BasicTicker\"}},\"id\":\"cabd3cb8-3b0c-45b8-a26e-1afa8bf7c053\",\"type\":\"LinearAxis\"},{\"attributes\":{\"callback\":null,\"data\":{}},\"id\":\"4e7ebfe1-1c5c-4d20-b3ee-2140a5f5acfe\",\"type\":\"ColumnDataSource\"},{\"attributes\":{\"fill_alpha\":{\"value\":0.5},\"fill_color\":{\"value\":\"red\"},\"line_alpha\":{\"value\":0.5},\"line_color\":{\"value\":\"red\"},\"x\":{\"value\":0.03653907775878906},\"y\":{\"value\":5.003243923187256}},\"id\":\"e8bdc574-495a-432f-b58c-9dda987ada8d\",\"type\":\"Cross\"},{\"attributes\":{\"callback\":null,\"data\":{}},\"id\":\"f7bb7666-4d80-4e58-9abc-bcfde7cab953\",\"type\":\"ColumnDataSource\"},{\"attributes\":{\"data_source\":{\"id\":\"f7bb7666-4d80-4e58-9abc-bcfde7cab953\",\"type\":\"ColumnDataSource\"},\"glyph\":{\"id\":\"8d53742d-6e61-4477-9a35-b1ca1bd5b3cb\",\"type\":\"Ellipse\"},\"hover_glyph\":null,\"muted_glyph\":null,\"nonselection_glyph\":{\"id\":\"47d751ec-438d-4bb5-9c18-90f75883e7cd\",\"type\":\"Ellipse\"},\"selection_glyph\":null,\"view\":{\"id\":\"6f0fcb97-c38a-4762-a02a-1919f3ac2f88\",\"type\":\"CDSView\"}},\"id\":\"3a441d57-d2ee-4586-b586-737b76f71dda\",\"type\":\"GlyphRenderer\"},{\"attributes\":{\"fill_color\":{\"value\":\"#1f77b4\"},\"line_color\":{\"value\":\"#1f77b4\"},\"x\":{\"field\":\"x\"},\"y\":{\"field\":\"y\"}},\"id\":\"0703c96a-4618-41c5-93c3-fce11f5aff9f\",\"type\":\"Circle\"},{\"attributes\":{\"callback\":null,\"data\":{}},\"id\":\"0dc7938f-59b3-44e9-8403-4f590baa74fc\",\"type\":\"ColumnDataSource\"},{\"attributes\":{\"data_source\":{\"id\":\"2fe28bfb-32ac-4ee9-ba57-634c6ffd5d13\",\"type\":\"ColumnDataSource\"},\"glyph\":{\"id\":\"0703c96a-4618-41c5-93c3-fce11f5aff9f\",\"type\":\"Circle\"},\"hover_glyph\":null,\"muted_glyph\":null,\"nonselection_glyph\":{\"id\":\"8fec53cf-e5c0-466c-a5e0-6c6db063c609\",\"type\":\"Circle\"},\"selection_glyph\":null,\"view\":{\"id\":\"c639c0ed-6e8b-4f78-bd33-b0f1685504e0\",\"type\":\"CDSView\"}},\"id\":\"6ffc5590-09dc-4aec-a9cc-2162427cf36d\",\"type\":\"GlyphRenderer\"},{\"attributes\":{\"angle\":{\"units\":\"rad\",\"value\":-1.5707963267948966},\"fill_alpha\":{\"value\":0.1},\"fill_color\":{\"value\":\"#1f77b4\"},\"height\":{\"units\":\"data\",\"value\":3.145266056060791},\"line_alpha\":{\"value\":0.1},\"line_color\":{\"value\":\"#1f77b4\"},\"width\":{\"units\":\"data\",\"value\":1.9551160335540771},\"x\":{\"value\":-3.1087265014648438},\"y\":{\"value\":3.0481278896331787}},\"id\":\"47d751ec-438d-4bb5-9c18-90f75883e7cd\",\"type\":\"Ellipse\"},{\"attributes\":{\"callback\":null,\"data\":{}},\"id\":\"a05fd76d-08ac-4710-87e4-62f9de7d1268\",\"type\":\"ColumnDataSource\"},{\"attributes\":{\"angle\":{\"units\":\"rad\",\"value\":-1.5707963267948966},\"fill_alpha\":{\"value\":0.1},\"fill_color\":{\"value\":\"#1f77b4\"},\"height\":{\"units\":\"data\",\"value\":3.145265579223633},\"line_alpha\":{\"value\":0.1},\"line_color\":{\"value\":\"#1f77b4\"},\"width\":{\"units\":\"data\",\"value\":1.9551156759262085},\"x\":{\"value\":0.03653907775878906},\"y\":{\"value\":5.003243923187256}},\"id\":\"133071f4-2641-4c9f-888e-7673f4c4e50a\",\"type\":\"Ellipse\"},{\"attributes\":{\"angle\":{\"units\":\"rad\",\"value\":-1.5707963267948966},\"fill_alpha\":{\"value\":0.25},\"fill_color\":{\"value\":\"red\"},\"height\":{\"units\":\"data\",\"value\":6.290531158447266},\"line_alpha\":{\"value\":0.25},\"line_color\":{\"value\":\"red\"},\"width\":{\"units\":\"data\",\"value\":3.910231351852417},\"x\":{\"value\":0.03653907775878906},\"y\":{\"value\":5.003243923187256}},\"id\":\"f3b71ff8-cd01-4e19-be3c-5546a1f9c2dc\",\"type\":\"Ellipse\"},{\"attributes\":{\"angle\":{\"units\":\"rad\",\"value\":-1.5707963267948966},\"fill_alpha\":{\"value\":0.5},\"fill_color\":{\"value\":\"green\"},\"height\":{\"units\":\"data\",\"value\":3.145266056060791},\"line_alpha\":{\"value\":0.5},\"line_color\":{\"value\":\"green\"},\"width\":{\"units\":\"data\",\"value\":1.9551160335540771},\"x\":{\"value\":-3.1087265014648438},\"y\":{\"value\":3.0481278896331787}},\"id\":\"8d53742d-6e61-4477-9a35-b1ca1bd5b3cb\",\"type\":\"Ellipse\"},{\"attributes\":{\"data_source\":{\"id\":\"6bdb1ec9-35b8-4415-ba97-c5a56213d8d3\",\"type\":\"ColumnDataSource\"},\"glyph\":{\"id\":\"f6b6f9ef-8267-46df-9f16-e86dda33cfaa\",\"type\":\"Ellipse\"},\"hover_glyph\":null,\"muted_glyph\":null,\"nonselection_glyph\":{\"id\":\"eb8941b6-b08a-4388-bc77-a866d191329f\",\"type\":\"Ellipse\"},\"selection_glyph\":null,\"view\":{\"id\":\"e730bef3-17c5-4119-8d89-4ffc4c07d890\",\"type\":\"CDSView\"}},\"id\":\"626792cb-d9ca-4e82-a774-16803894bedd\",\"type\":\"GlyphRenderer\"},{\"attributes\":{\"formatter\":{\"id\":\"19a6129f-7128-449a-9930-e808faac5cd6\",\"type\":\"BasicTickFormatter\"},\"plot\":{\"id\":\"4c91b021-a82d-469c-8b79-ecfa781cb90f\",\"subtype\":\"Figure\",\"type\":\"Plot\"},\"ticker\":{\"id\":\"5ae17f4a-3c57-43fa-9cf6-863c88f1995d\",\"type\":\"BasicTicker\"}},\"id\":\"00e44056-fc3e-4d75-b056-b45e60461be8\",\"type\":\"LinearAxis\"},{\"attributes\":{\"source\":{\"id\":\"944c8c92-f907-4086-b652-26cc786eb592\",\"type\":\"ColumnDataSource\"}},\"id\":\"a8e8d506-5412-48f9-8aa7-3eb7cdd21935\",\"type\":\"CDSView\"},{\"attributes\":{},\"id\":\"19a6129f-7128-449a-9930-e808faac5cd6\",\"type\":\"BasicTickFormatter\"},{\"attributes\":{\"fill_alpha\":{\"value\":0.5},\"fill_color\":{\"value\":\"green\"},\"line_alpha\":{\"value\":0.5},\"line_color\":{\"value\":\"green\"},\"x\":{\"value\":-3.1087265014648438},\"y\":{\"value\":3.0481278896331787}},\"id\":\"d88d1ae0-b4f0-432f-a790-e2231993806b\",\"type\":\"Cross\"},{\"attributes\":{\"fill_alpha\":{\"value\":0.1},\"fill_color\":{\"value\":\"#1f77b4\"},\"line_alpha\":{\"value\":0.1},\"line_color\":{\"value\":\"#1f77b4\"},\"x\":{\"value\":0.03653907775878906},\"y\":{\"value\":5.003243923187256}},\"id\":\"dc7d70ad-5781-4d57-84fb-18532a4f504d\",\"type\":\"Cross\"},{\"attributes\":{\"data_source\":{\"id\":\"944c8c92-f907-4086-b652-26cc786eb592\",\"type\":\"ColumnDataSource\"},\"glyph\":{\"id\":\"6d832811-0e68-431b-b0f4-eed71eec5be0\",\"type\":\"Ellipse\"},\"hover_glyph\":null,\"muted_glyph\":null,\"nonselection_glyph\":{\"id\":\"133071f4-2641-4c9f-888e-7673f4c4e50a\",\"type\":\"Ellipse\"},\"selection_glyph\":null,\"view\":{\"id\":\"a8e8d506-5412-48f9-8aa7-3eb7cdd21935\",\"type\":\"CDSView\"}},\"id\":\"00dcbbf3-5e9a-47b8-8042-14019bda9613\",\"type\":\"GlyphRenderer\"},{\"attributes\":{\"source\":{\"id\":\"2fe28bfb-32ac-4ee9-ba57-634c6ffd5d13\",\"type\":\"ColumnDataSource\"}},\"id\":\"c639c0ed-6e8b-4f78-bd33-b0f1685504e0\",\"type\":\"CDSView\"},{\"attributes\":{\"active_drag\":\"auto\",\"active_inspect\":\"auto\",\"active_scroll\":\"auto\",\"active_tap\":\"auto\",\"tools\":[{\"id\":\"75ab576b-f8af-4346-986e-5de6f12e4044\",\"type\":\"PanTool\"},{\"id\":\"4209dedd-dacb-4d17-8434-1e6149a4878e\",\"type\":\"WheelZoomTool\"},{\"id\":\"4b048b6a-f484-4e99-ad66-5ac221109be3\",\"type\":\"BoxZoomTool\"},{\"id\":\"afc8b5e5-9768-4cd6-81ad-f5e8f8546cd6\",\"type\":\"SaveTool\"},{\"id\":\"2e1d4852-f26e-4928-9dad-d10fe54611d0\",\"type\":\"ResetTool\"},{\"id\":\"4359db8a-d080-41c5-ae0d-f939bc488d99\",\"type\":\"HelpTool\"}]},\"id\":\"fdea34f2-e4d1-4feb-b7ad-d10f4c6c7331\",\"type\":\"Toolbar\"},{\"attributes\":{\"fill_alpha\":{\"value\":0.1},\"fill_color\":{\"value\":\"#1f77b4\"},\"line_alpha\":{\"value\":0.1},\"line_color\":{\"value\":\"#1f77b4\"},\"x\":{\"value\":-1.5360937118530273},\"y\":{\"value\":4.025685787200928}},\"id\":\"fdb1f8ce-e139-4fbe-af41-321ca51c700a\",\"type\":\"Cross\"},{\"attributes\":{\"callback\":null,\"data\":{}},\"id\":\"540fd8f1-3145-430a-8f9f-a12adad95c7e\",\"type\":\"ColumnDataSource\"},{\"attributes\":{\"callback\":null,\"end\":3.5,\"start\":-6.5},\"id\":\"7175c886-53bf-43ac-b813-fe883fa7cdf4\",\"type\":\"Range1d\"},{\"attributes\":{\"source\":{\"id\":\"4e7ebfe1-1c5c-4d20-b3ee-2140a5f5acfe\",\"type\":\"ColumnDataSource\"}},\"id\":\"47cdf924-c62c-4aee-921a-2af136d9f794\",\"type\":\"CDSView\"},{\"attributes\":{\"source\":{\"id\":\"540fd8f1-3145-430a-8f9f-a12adad95c7e\",\"type\":\"ColumnDataSource\"}},\"id\":\"c91f3943-eda5-4cdf-9ce9-65054ec12f9e\",\"type\":\"CDSView\"},{\"attributes\":{\"data_source\":{\"id\":\"540fd8f1-3145-430a-8f9f-a12adad95c7e\",\"type\":\"ColumnDataSource\"},\"glyph\":{\"id\":\"d88d1ae0-b4f0-432f-a790-e2231993806b\",\"type\":\"Cross\"},\"hover_glyph\":null,\"muted_glyph\":null,\"nonselection_glyph\":{\"id\":\"eb38f8de-e589-48d3-92ed-5ed3898bb828\",\"type\":\"Cross\"},\"selection_glyph\":null,\"view\":{\"id\":\"c91f3943-eda5-4cdf-9ce9-65054ec12f9e\",\"type\":\"CDSView\"}},\"id\":\"fdb0ed45-c458-4bdc-9fcc-59b81a0d36f0\",\"type\":\"GlyphRenderer\"},{\"attributes\":{\"callback\":null,\"end\":9.0,\"start\":-1.0},\"id\":\"d5784fab-206f-470e-b34a-5661e18066f8\",\"type\":\"Range1d\"},{\"attributes\":{\"overlay\":{\"id\":\"dd4fec29-db70-4e34-be01-04a780ceeaca\",\"type\":\"BoxAnnotation\"}},\"id\":\"4b048b6a-f484-4e99-ad66-5ac221109be3\",\"type\":\"BoxZoomTool\"},{\"attributes\":{\"bottom_units\":\"screen\",\"fill_alpha\":{\"value\":0.5},\"fill_color\":{\"value\":\"lightgrey\"},\"left_units\":\"screen\",\"level\":\"overlay\",\"line_alpha\":{\"value\":1.0},\"line_color\":{\"value\":\"black\"},\"line_dash\":[4,4],\"line_width\":{\"value\":2},\"plot\":null,\"render_mode\":\"css\",\"right_units\":\"screen\",\"top_units\":\"screen\"},\"id\":\"dd4fec29-db70-4e34-be01-04a780ceeaca\",\"type\":\"BoxAnnotation\"},{\"attributes\":{\"source\":{\"id\":\"c17ce4fb-9aae-4266-9298-b4fb94c9f6fb\",\"type\":\"ColumnDataSource\"}},\"id\":\"a59fe09b-4a42-436d-9f9a-0efcf77ab9ca\",\"type\":\"CDSView\"},{\"attributes\":{\"source\":{\"id\":\"f7bb7666-4d80-4e58-9abc-bcfde7cab953\",\"type\":\"ColumnDataSource\"}},\"id\":\"6f0fcb97-c38a-4762-a02a-1919f3ac2f88\",\"type\":\"CDSView\"},{\"attributes\":{},\"id\":\"2e1d4852-f26e-4928-9dad-d10fe54611d0\",\"type\":\"ResetTool\"},{\"attributes\":{\"data_source\":{\"id\":\"0dc7938f-59b3-44e9-8403-4f590baa74fc\",\"type\":\"ColumnDataSource\"},\"glyph\":{\"id\":\"e8bdc574-495a-432f-b58c-9dda987ada8d\",\"type\":\"Cross\"},\"hover_glyph\":null,\"muted_glyph\":null,\"nonselection_glyph\":{\"id\":\"dc7d70ad-5781-4d57-84fb-18532a4f504d\",\"type\":\"Cross\"},\"selection_glyph\":null,\"view\":{\"id\":\"b5a78010-5f31-4aec-a926-72f18fd170fd\",\"type\":\"CDSView\"}},\"id\":\"4e51d6c8-668a-4406-8b85-3e992a0664dd\",\"type\":\"GlyphRenderer\"},{\"attributes\":{},\"id\":\"302fa945-5d3b-46c2-97d1-228c1f7fef8e\",\"type\":\"BasicTickFormatter\"},{\"attributes\":{\"plot\":null,\"text\":\"Initial model\"},\"id\":\"53b3745a-b2e8-4b0c-bacf-fb4d0c16a529\",\"type\":\"Title\"},{\"attributes\":{\"fill_alpha\":{\"value\":0.1},\"fill_color\":{\"value\":\"#1f77b4\"},\"line_alpha\":{\"value\":0.1},\"line_color\":{\"value\":\"#1f77b4\"},\"x\":{\"field\":\"x\"},\"y\":{\"field\":\"y\"}},\"id\":\"8fec53cf-e5c0-466c-a5e0-6c6db063c609\",\"type\":\"Circle\"},{\"attributes\":{\"angle\":{\"units\":\"rad\",\"value\":-1.5707963267948966},\"fill_alpha\":{\"value\":0.1},\"fill_color\":{\"value\":\"#1f77b4\"},\"height\":{\"units\":\"data\",\"value\":3.145265579223633},\"line_alpha\":{\"value\":0.1},\"line_color\":{\"value\":\"#1f77b4\"},\"width\":{\"units\":\"data\",\"value\":1.9551156759262085},\"x\":{\"value\":-1.5360937118530273},\"y\":{\"value\":4.025685787200928}},\"id\":\"56c92dec-7bbf-424e-9f0c-408734072c5b\",\"type\":\"Ellipse\"},{\"attributes\":{\"data_source\":{\"id\":\"c17ce4fb-9aae-4266-9298-b4fb94c9f6fb\",\"type\":\"ColumnDataSource\"},\"glyph\":{\"id\":\"a6cdfabb-2c83-4212-b39d-3abf2cd5fb24\",\"type\":\"Ellipse\"},\"hover_glyph\":null,\"muted_glyph\":null,\"nonselection_glyph\":{\"id\":\"14cc1283-f7b1-4b07-bf12-60410a6cd2f1\",\"type\":\"Ellipse\"},\"selection_glyph\":null,\"view\":{\"id\":\"a59fe09b-4a42-436d-9f9a-0efcf77ab9ca\",\"type\":\"CDSView\"}},\"id\":\"5c8b8ec1-c61e-4d01-bd19-6155c60f7692\",\"type\":\"GlyphRenderer\"},{\"attributes\":{\"callback\":null,\"column_names\":[\"x\",\"y\"],\"data\":{\"x\":{\"__ndarray__\":\"dkerVHgaAcAmJVFaLVoDwIIZ3HuUkgXALtDJ04z8BsAUAikiLF3Wv+pTi6bvtg3AhnHiPBNu579OV0x3X+oVwKvfnQbFvgzAyJUOmm0Qx7+Imz4tFrD6v44iu/ZbBQnA1AS4ing3C8AAOIn5IRucP7unYP0j/gHAypMEMwveCsAANeDL81+Yv4wxwSg9e9C/uh9I2Elc8r/kCca2aK4EwHIQl7pXpf+/vvUV7/lh9L9Cj6TaingBwIAsmy6/n/m/kIyPq649zj8Mpbgmnevxvwi3O0n/M9s/zRWrhL6f4b+gYrDwM7rtP5jnxOc9l/E/zZ68Y/bSBMBciRMXtGEEwELuUe/PJgHA+Dwo0VD87j9A/sKqq1vNv+LSVO6JmwvAjTIOX+bB479EgHAh/OUQwP/qFWpiOQjAuZwdHyWfAsBmXwln4Enxv8BDOMo3vbK/7HW3c6D4CcDmEir3XU7/P8pObIl7JOC/sAwAU5NMCsCQ6TX0KW7pv8est5Oxw+C/QIdXMm/s4z9ps/BAQAwAwNJQqGL4bgzA+s3vOoksAMDGGWRMnxz7vzgOzPBkhA3AsNksXJ8CF8DixK9Jhcj+v/TttRf5rAPAeM9WrXf68L8YrnjHttQDwOj2zbI/d/G/3uXmC4gO579AHYzgkDvGvwDE1CrNDpu/YCWO132UBMAlchfQUOsBwNR/9HUFztO/ADLkArrOoT+wqpAza9ATwOerRXRrrem/sAx7OiCp+79T5jA8RAMEwF7sBms0WO6/LMg2Cby98r865Gyt0cIGwH04n2xdMQvAcBH61q/Nxz8GxEsYeoHzP5DF6LBjRrk/tIfp9gDn979O5Ftc0VcAwKM8Q8guueO/LOKIX0jV5r8QWj22k0sDwO4LMfy2cPm//P2xR5wu8r/IKY+x4rHNP3AbnES34us/gPIaBI3XyL90lCocNh4SwJ5BBW+niw3AZLeW72qI2r/gVAJo3pjVP4xho4ofKug/ikf8Sg9jBcC9QpqWN30DwO1vhc4NTvy/Squ3dYC8C8DwJDwDN6DxP9Zuc8WCZua/TP4evGQb9b8=\",\"dtype\":\"float64\",\"shape\":[100]},\"y\":{\"__ndarray__\":\"uIiijmLcE0Chb7JvYOsIQF2OX9rVtgZAMT24s3nEDEBCN/JPlKoTQHNdxjVtvQVA9OyMNdyYE0Adw5OWbb8AQOwjNz4JjA5AAAzd/DlfEkAn52rtXh0QQE+1HU94XQRAwbecGfnzCEDQ9cWjCBsPQJR9zKHoOgpATkaXHAJEDEBQL1bANXcUQBM8myMIwBFAYSFNKROQEEDnkOkKVS4FQMlZhaF1bQtAtupCqqbdEkDDjmSHWd0JQCNWNrADXRFAnevzjheFEECYOdinif0SQM8uWw7iKxNAgLw5Y9b5EUC8wV6V3YoWQPjUuahpshRAggpRnk79D0Axr9mwhNwNQJsm+jSTlA5AeiPvug9FFkBQR4Gym+gUQHYykfvggwtAcPDAKyQjFEBUxyi87rP/P4ohM2/kfgNA/bwhJhj7B0BZRMDe2zEQQAgzV6vosBRArbUI/lGOCECU+bOkReYYQDSlwM9JrhNAaNDRnI7DD0BnsC7uQ3MQQL9Hjnuq8hFAnZGheTUOEkBwmyi9xX0KQFk1+2bPQxFATQp9MkndEEAXK0csRqwLQLyPO2JxPgRAqvRBZb3/+T9rfs8AGzcQQLnoIIBZsA1AgxTN1cA8EEAKZWbVxFkKQMkInsn19hBApFkKtDCaFEDITOGZMGAVQF/jB6sdTRdAQLjNQUzrBUCEkf4Tp/8OQEUqjZ3FoBVA6msd2ok8FEAZ37Mx4bAEQNIlUY3qzA9AMIDgPM1UD0DKX9QUxxoGQB1AAnU5cRRAKwyC+kMzD0Dxh7oGZF8CQO5YTvlkoApAIoPfwsGoE0BHtnWeB3wOQEB9S3PeFRNAF5AWp7UFEECHZ6lulccOQD6KrE4XoRRAscIbeNyIDkAjgTWENSANQIU1PpRryQ1AwCpNyzgEEEC66XMym50VQFa3QR+PxBJAEpeos727EkBEf23guLX/PzfB5XP7OAhAnvBHAwrMEkC4BK9pp1AWQMYN6r/qThdA1ZXMsnO5CUAoyuAy1JEQQAlTACj9yQxAasTBXDHxBkAOA9qbRcwUQKliSPH2/BBAThdqlCgJD0A=\",\"dtype\":\"float64\",\"shape\":[100]}}},\"id\":\"2fe28bfb-32ac-4ee9-ba57-634c6ffd5d13\",\"type\":\"ColumnDataSource\"},{\"attributes\":{\"callback\":null,\"data\":{}},\"id\":\"6bdb1ec9-35b8-4415-ba97-c5a56213d8d3\",\"type\":\"ColumnDataSource\"},{\"attributes\":{\"fill_alpha\":{\"value\":0.5},\"fill_color\":{\"value\":\"blue\"},\"line_alpha\":{\"value\":0.5},\"line_color\":{\"value\":\"blue\"},\"x\":{\"value\":-1.5360937118530273},\"y\":{\"value\":4.025685787200928}},\"id\":\"f6465f9b-dbd7-45f2-9e32-b508e2f1f6b6\",\"type\":\"Cross\"},{\"attributes\":{},\"id\":\"4209dedd-dacb-4d17-8434-1e6149a4878e\",\"type\":\"WheelZoomTool\"},{\"attributes\":{},\"id\":\"5ae17f4a-3c57-43fa-9cf6-863c88f1995d\",\"type\":\"BasicTicker\"}],\"root_ids\":[\"4c91b021-a82d-469c-8b79-ecfa781cb90f\"]},\"title\":\"Bokeh Application\",\"version\":\"0.12.14\"}};\n",
       "  var render_items = [{\"docid\":\"ce7a6da0-6904-46e8-8a28-e2300606ced7\",\"elementid\":\"3eb5d6b4-1cb9-48da-abbc-74400ffd61cb\",\"modelid\":\"4c91b021-a82d-469c-8b79-ecfa781cb90f\"}];\n",
       "  root.Bokeh.embed.embed_items_notebook(docs_json, render_items);\n",
       "\n",
       "  }\n",
       "  if (root.Bokeh !== undefined) {\n",
       "    embed_document(root);\n",
       "  } else {\n",
       "    var attempts = 0;\n",
       "    var timer = setInterval(function(root) {\n",
       "      if (root.Bokeh !== undefined) {\n",
       "        embed_document(root);\n",
       "        clearInterval(timer);\n",
       "      }\n",
       "      attempts++;\n",
       "      if (attempts > 100) {\n",
       "        console.log(\"Bokeh: ERROR: Unable to run BokehJS code because BokehJS library is missing\")\n",
       "        clearInterval(timer);\n",
       "      }\n",
       "    }, 10, root)\n",
       "  }\n",
       "})(window);"
      ],
      "application/vnd.bokehjs_exec.v0+json": ""
     },
     "metadata": {
      "application/vnd.bokehjs_exec.v0+json": {
       "id": "4c91b021-a82d-469c-8b79-ecfa781cb90f"
      }
     },
     "output_type": "display_data"
    }
   ],
   "source": [
    "n1, n2 = normal_diag.split()\n",
    "\n",
    "fig = figure(\n",
    "    title='Initial model',\n",
    "    width=400,\n",
    "    height=400,\n",
    "    x_range=(mean[0] - 5, mean[0] + 5),\n",
    "    y_range=(mean[1] - 5, mean[1] + 5)\n",
    ")\n",
    "fig.circle(data[:, 0], data[:, 1])\n",
    "plotting.plot_normal(fig, normal_diag.mean.numpy(), normal_diag.cov.numpy(), alpha=.5, color='blue')\n",
    "plotting.plot_normal(fig, n1.mean.numpy(), n1.cov.numpy(), alpha=.5, color='red')\n",
    "plotting.plot_normal(fig, n2.mean.numpy(), n2.cov.numpy(), alpha=.5, color='green')\n",
    "show(fig)"
   ]
  },
  {
   "cell_type": "code",
   "execution_count": 62,
   "metadata": {},
   "outputs": [
    {
     "name": "stderr",
     "output_type": "stream",
     "text": [
      "/Users/lucasondel/anaconda3/envs/pytorch_src/lib/python3.6/site-packages/bokeh/core/json_encoder.py:80: FutureWarning: Conversion of the second argument of issubdtype from `float` to `np.floating` is deprecated. In future, it will be treated as `np.float64 == np.dtype(float).type`.\n",
      "  elif np.issubdtype(type(obj), np.float):\n"
     ]
    },
    {
     "data": {
      "text/html": [
       "\n",
       "<div class=\"bk-root\">\n",
       "    <div class=\"bk-plotdiv\" id=\"47800f94-7e34-4c91-9c23-18d95557d5b1\"></div>\n",
       "</div>"
      ]
     },
     "metadata": {},
     "output_type": "display_data"
    },
    {
     "data": {
      "application/javascript": [
       "(function(root) {\n",
       "  function embed_document(root) {\n",
       "    \n",
       "  var docs_json = {\"68808faf-1fb2-48ba-a01d-65b7f1104271\":{\"roots\":{\"references\":[{\"attributes\":{\"callback\":null,\"end\":9.0,\"start\":-1.0},\"id\":\"f3af9fc0-2063-47e9-b476-be9f89c66d70\",\"type\":\"Range1d\"},{\"attributes\":{\"angle\":{\"units\":\"rad\",\"value\":-1.048517107963562},\"fill_alpha\":{\"value\":0.1},\"fill_color\":{\"value\":\"#1f77b4\"},\"height\":{\"units\":\"data\",\"value\":7.134541988372803},\"line_alpha\":{\"value\":0.1},\"line_color\":{\"value\":\"#1f77b4\"},\"width\":{\"units\":\"data\",\"value\":1.8738294839859009},\"x\":{\"value\":-0.2239479273557663},\"y\":{\"value\":5.321461200714111}},\"id\":\"46f02185-bc8b-40ef-b865-812a0ebcd336\",\"type\":\"Ellipse\"},{\"attributes\":{\"source\":{\"id\":\"b186d405-0ca1-4207-953a-dfab049ea4d5\",\"type\":\"ColumnDataSource\"}},\"id\":\"e875e034-1dfb-4bb0-9b14-e9d44d6a5a7c\",\"type\":\"CDSView\"},{\"attributes\":{\"callback\":null,\"data\":{}},\"id\":\"dd884022-1c79-4345-856d-8d12862a6c35\",\"type\":\"ColumnDataSource\"},{\"attributes\":{\"source\":{\"id\":\"804e6005-238e-4173-b5ec-11d2a7f8b644\",\"type\":\"ColumnDataSource\"}},\"id\":\"83b25c1a-5241-4686-a339-f743079065cf\",\"type\":\"CDSView\"},{\"attributes\":{\"plot\":null,\"text\":\"Initial model\"},\"id\":\"e31dc236-435a-45da-8379-d3b89973e622\",\"type\":\"Title\"},{\"attributes\":{\"data_source\":{\"id\":\"804e6005-238e-4173-b5ec-11d2a7f8b644\",\"type\":\"ColumnDataSource\"},\"glyph\":{\"id\":\"53ea3708-1bfd-4c27-912e-f3099d82a0e2\",\"type\":\"Ellipse\"},\"hover_glyph\":null,\"muted_glyph\":null,\"nonselection_glyph\":{\"id\":\"32ef6899-13c0-4acf-9747-f27937cde4e3\",\"type\":\"Ellipse\"},\"selection_glyph\":null,\"view\":{\"id\":\"83b25c1a-5241-4686-a339-f743079065cf\",\"type\":\"CDSView\"}},\"id\":\"b676db37-609a-41f5-acc3-c6a30c451b94\",\"type\":\"GlyphRenderer\"},{\"attributes\":{\"callback\":null,\"column_names\":[\"x\",\"y\"],\"data\":{\"x\":{\"__ndarray__\":\"dkerVHgaAcAmJVFaLVoDwIIZ3HuUkgXALtDJ04z8BsAUAikiLF3Wv+pTi6bvtg3AhnHiPBNu579OV0x3X+oVwKvfnQbFvgzAyJUOmm0Qx7+Imz4tFrD6v44iu/ZbBQnA1AS4ing3C8AAOIn5IRucP7unYP0j/gHAypMEMwveCsAANeDL81+Yv4wxwSg9e9C/uh9I2Elc8r/kCca2aK4EwHIQl7pXpf+/vvUV7/lh9L9Cj6TaingBwIAsmy6/n/m/kIyPq649zj8Mpbgmnevxvwi3O0n/M9s/zRWrhL6f4b+gYrDwM7rtP5jnxOc9l/E/zZ68Y/bSBMBciRMXtGEEwELuUe/PJgHA+Dwo0VD87j9A/sKqq1vNv+LSVO6JmwvAjTIOX+bB479EgHAh/OUQwP/qFWpiOQjAuZwdHyWfAsBmXwln4Enxv8BDOMo3vbK/7HW3c6D4CcDmEir3XU7/P8pObIl7JOC/sAwAU5NMCsCQ6TX0KW7pv8est5Oxw+C/QIdXMm/s4z9ps/BAQAwAwNJQqGL4bgzA+s3vOoksAMDGGWRMnxz7vzgOzPBkhA3AsNksXJ8CF8DixK9Jhcj+v/TttRf5rAPAeM9WrXf68L8YrnjHttQDwOj2zbI/d/G/3uXmC4gO579AHYzgkDvGvwDE1CrNDpu/YCWO132UBMAlchfQUOsBwNR/9HUFztO/ADLkArrOoT+wqpAza9ATwOerRXRrrem/sAx7OiCp+79T5jA8RAMEwF7sBms0WO6/LMg2Cby98r865Gyt0cIGwH04n2xdMQvAcBH61q/Nxz8GxEsYeoHzP5DF6LBjRrk/tIfp9gDn979O5Ftc0VcAwKM8Q8guueO/LOKIX0jV5r8QWj22k0sDwO4LMfy2cPm//P2xR5wu8r/IKY+x4rHNP3AbnES34us/gPIaBI3XyL90lCocNh4SwJ5BBW+niw3AZLeW72qI2r/gVAJo3pjVP4xho4ofKug/ikf8Sg9jBcC9QpqWN30DwO1vhc4NTvy/Squ3dYC8C8DwJDwDN6DxP9Zuc8WCZua/TP4evGQb9b8=\",\"dtype\":\"float64\",\"shape\":[100]},\"y\":{\"__ndarray__\":\"uIiijmLcE0Chb7JvYOsIQF2OX9rVtgZAMT24s3nEDEBCN/JPlKoTQHNdxjVtvQVA9OyMNdyYE0Adw5OWbb8AQOwjNz4JjA5AAAzd/DlfEkAn52rtXh0QQE+1HU94XQRAwbecGfnzCEDQ9cWjCBsPQJR9zKHoOgpATkaXHAJEDEBQL1bANXcUQBM8myMIwBFAYSFNKROQEEDnkOkKVS4FQMlZhaF1bQtAtupCqqbdEkDDjmSHWd0JQCNWNrADXRFAnevzjheFEECYOdinif0SQM8uWw7iKxNAgLw5Y9b5EUC8wV6V3YoWQPjUuahpshRAggpRnk79D0Axr9mwhNwNQJsm+jSTlA5AeiPvug9FFkBQR4Gym+gUQHYykfvggwtAcPDAKyQjFEBUxyi87rP/P4ohM2/kfgNA/bwhJhj7B0BZRMDe2zEQQAgzV6vosBRArbUI/lGOCECU+bOkReYYQDSlwM9JrhNAaNDRnI7DD0BnsC7uQ3MQQL9Hjnuq8hFAnZGheTUOEkBwmyi9xX0KQFk1+2bPQxFATQp9MkndEEAXK0csRqwLQLyPO2JxPgRAqvRBZb3/+T9rfs8AGzcQQLnoIIBZsA1AgxTN1cA8EEAKZWbVxFkKQMkInsn19hBApFkKtDCaFEDITOGZMGAVQF/jB6sdTRdAQLjNQUzrBUCEkf4Tp/8OQEUqjZ3FoBVA6msd2ok8FEAZ37Mx4bAEQNIlUY3qzA9AMIDgPM1UD0DKX9QUxxoGQB1AAnU5cRRAKwyC+kMzD0Dxh7oGZF8CQO5YTvlkoApAIoPfwsGoE0BHtnWeB3wOQEB9S3PeFRNAF5AWp7UFEECHZ6lulccOQD6KrE4XoRRAscIbeNyIDkAjgTWENSANQIU1PpRryQ1AwCpNyzgEEEC66XMym50VQFa3QR+PxBJAEpeos727EkBEf23guLX/PzfB5XP7OAhAnvBHAwrMEkC4BK9pp1AWQMYN6r/qThdA1ZXMsnO5CUAoyuAy1JEQQAlTACj9yQxAasTBXDHxBkAOA9qbRcwUQKliSPH2/BBAThdqlCgJD0A=\",\"dtype\":\"float64\",\"shape\":[100]}}},\"id\":\"1956909f-8a82-409f-bc8a-6cd7310eafbc\",\"type\":\"ColumnDataSource\"},{\"attributes\":{\"callback\":null,\"data\":{}},\"id\":\"b186d405-0ca1-4207-953a-dfab049ea4d5\",\"type\":\"ColumnDataSource\"},{\"attributes\":{},\"id\":\"07c9365b-3c31-41d0-997f-c902ca669649\",\"type\":\"ResetTool\"},{\"attributes\":{\"angle\":{\"units\":\"rad\",\"value\":-1.048517107963562},\"fill_alpha\":{\"value\":0.25},\"fill_color\":{\"value\":\"green\"},\"height\":{\"units\":\"data\",\"value\":7.134541988372803},\"line_alpha\":{\"value\":0.25},\"line_color\":{\"value\":\"green\"},\"width\":{\"units\":\"data\",\"value\":1.8738294839859009},\"x\":{\"value\":-0.2239479273557663},\"y\":{\"value\":5.321461200714111}},\"id\":\"74b5fabe-a0d1-40cd-88fc-e2a6d20c50b9\",\"type\":\"Ellipse\"},{\"attributes\":{\"formatter\":{\"id\":\"2faa3a79-9da0-40f8-ae2f-bf831378749e\",\"type\":\"BasicTickFormatter\"},\"plot\":{\"id\":\"934561e8-3dac-475b-b000-f57f93f386d0\",\"subtype\":\"Figure\",\"type\":\"Plot\"},\"ticker\":{\"id\":\"edc4d9f0-79b6-4695-82ff-4b88350cd5b2\",\"type\":\"BasicTicker\"}},\"id\":\"f8177efa-bc5e-45e7-b066-6633e776020b\",\"type\":\"LinearAxis\"},{\"attributes\":{\"source\":{\"id\":\"d20779a8-ad91-4e03-93ee-ed0d54a2cd32\",\"type\":\"ColumnDataSource\"}},\"id\":\"d07a5893-cb61-4ded-b84d-20307e8242f3\",\"type\":\"CDSView\"},{\"attributes\":{\"data_source\":{\"id\":\"90603ace-a017-43d7-9429-f93f658cde75\",\"type\":\"ColumnDataSource\"},\"glyph\":{\"id\":\"74b5fabe-a0d1-40cd-88fc-e2a6d20c50b9\",\"type\":\"Ellipse\"},\"hover_glyph\":null,\"muted_glyph\":null,\"nonselection_glyph\":{\"id\":\"46f02185-bc8b-40ef-b865-812a0ebcd336\",\"type\":\"Ellipse\"},\"selection_glyph\":null,\"view\":{\"id\":\"add071ff-568d-48fd-9f49-ca189b7e4e4b\",\"type\":\"CDSView\"}},\"id\":\"3ea37395-b75b-48b8-af8d-88307d91ff0a\",\"type\":\"GlyphRenderer\"},{\"attributes\":{\"bottom_units\":\"screen\",\"fill_alpha\":{\"value\":0.5},\"fill_color\":{\"value\":\"lightgrey\"},\"left_units\":\"screen\",\"level\":\"overlay\",\"line_alpha\":{\"value\":1.0},\"line_color\":{\"value\":\"black\"},\"line_dash\":[4,4],\"line_width\":{\"value\":2},\"plot\":null,\"render_mode\":\"css\",\"right_units\":\"screen\",\"top_units\":\"screen\"},\"id\":\"5ec97b00-f7bc-4ecd-b071-41a6b338a6fd\",\"type\":\"BoxAnnotation\"},{\"attributes\":{\"angle\":{\"units\":\"rad\",\"value\":-1.0485169887542725},\"fill_alpha\":{\"value\":0.1},\"fill_color\":{\"value\":\"#1f77b4\"},\"height\":{\"units\":\"data\",\"value\":3.5672714710235596},\"line_alpha\":{\"value\":0.1},\"line_color\":{\"value\":\"#1f77b4\"},\"width\":{\"units\":\"data\",\"value\":0.9369199275970459},\"x\":{\"value\":-2.8482606410980225},\"y\":{\"value\":2.7298924922943115}},\"id\":\"32ef6899-13c0-4acf-9747-f27937cde4e3\",\"type\":\"Ellipse\"},{\"attributes\":{\"angle\":{\"units\":\"rad\",\"value\":-1.0485169887542725},\"fill_alpha\":{\"value\":0.1},\"fill_color\":{\"value\":\"#1f77b4\"},\"height\":{\"units\":\"data\",\"value\":3.5672707557678223},\"line_alpha\":{\"value\":0.1},\"line_color\":{\"value\":\"#1f77b4\"},\"width\":{\"units\":\"data\",\"value\":0.9369164705276489},\"x\":{\"value\":-1.536104440689087},\"y\":{\"value\":4.02567720413208}},\"id\":\"463ce426-466b-4488-af92-53112a5da392\",\"type\":\"Ellipse\"},{\"attributes\":{\"fill_alpha\":{\"value\":0.1},\"fill_color\":{\"value\":\"#1f77b4\"},\"line_alpha\":{\"value\":0.1},\"line_color\":{\"value\":\"#1f77b4\"},\"x\":{\"field\":\"x\"},\"y\":{\"field\":\"y\"}},\"id\":\"71d3f645-a7a0-4ad9-8013-586078ec220d\",\"type\":\"Circle\"},{\"attributes\":{\"fill_alpha\":{\"value\":0.5},\"fill_color\":{\"value\":\"red\"},\"line_alpha\":{\"value\":0.5},\"line_color\":{\"value\":\"red\"},\"x\":{\"value\":-2.8482606410980225},\"y\":{\"value\":2.7298924922943115}},\"id\":\"80f9fa17-b5cf-4386-bad4-3c7cea10e488\",\"type\":\"Cross\"},{\"attributes\":{\"angle\":{\"units\":\"rad\",\"value\":-1.0485169887542725},\"fill_alpha\":{\"value\":0.1},\"fill_color\":{\"value\":\"#1f77b4\"},\"height\":{\"units\":\"data\",\"value\":7.134542942047119},\"line_alpha\":{\"value\":0.1},\"line_color\":{\"value\":\"#1f77b4\"},\"width\":{\"units\":\"data\",\"value\":1.8738398551940918},\"x\":{\"value\":-2.8482606410980225},\"y\":{\"value\":2.7298924922943115}},\"id\":\"c8ee026b-0cfe-42e1-b0ae-e73a82a7716d\",\"type\":\"Ellipse\"},{\"attributes\":{},\"id\":\"70b34d98-8ff4-4df6-a9bb-3b96a008b9f7\",\"type\":\"HelpTool\"},{\"attributes\":{\"source\":{\"id\":\"90603ace-a017-43d7-9429-f93f658cde75\",\"type\":\"ColumnDataSource\"}},\"id\":\"add071ff-568d-48fd-9f49-ca189b7e4e4b\",\"type\":\"CDSView\"},{\"attributes\":{\"callback\":null,\"data\":{}},\"id\":\"804e6005-238e-4173-b5ec-11d2a7f8b644\",\"type\":\"ColumnDataSource\"},{\"attributes\":{\"overlay\":{\"id\":\"5ec97b00-f7bc-4ecd-b071-41a6b338a6fd\",\"type\":\"BoxAnnotation\"}},\"id\":\"9ecccd1d-9b43-4d32-9399-d478aabd124d\",\"type\":\"BoxZoomTool\"},{\"attributes\":{\"callback\":null,\"end\":3.5,\"start\":-6.5},\"id\":\"25e47d70-acee-40a0-a1bf-148132f873c9\",\"type\":\"Range1d\"},{\"attributes\":{\"data_source\":{\"id\":\"7b3ae538-975d-428f-ad1f-c76bd44b6195\",\"type\":\"ColumnDataSource\"},\"glyph\":{\"id\":\"316f2cda-f93f-4b3e-9bc7-829ab59db208\",\"type\":\"Cross\"},\"hover_glyph\":null,\"muted_glyph\":null,\"nonselection_glyph\":{\"id\":\"78e1a4de-b5eb-4a4b-afd6-88de13c50d01\",\"type\":\"Cross\"},\"selection_glyph\":null,\"view\":{\"id\":\"b89cdf68-593a-41e1-89c0-b5d83f57bc5f\",\"type\":\"CDSView\"}},\"id\":\"46367054-c08d-47d4-8d1e-d65f508dec4a\",\"type\":\"GlyphRenderer\"},{\"attributes\":{},\"id\":\"14e94532-8e53-411f-92d3-039856f4a07d\",\"type\":\"LinearScale\"},{\"attributes\":{\"fill_alpha\":{\"value\":0.1},\"fill_color\":{\"value\":\"#1f77b4\"},\"line_alpha\":{\"value\":0.1},\"line_color\":{\"value\":\"#1f77b4\"},\"x\":{\"value\":-2.8482606410980225},\"y\":{\"value\":2.7298924922943115}},\"id\":\"778aad8f-0142-4f65-a1ba-f36635744536\",\"type\":\"Cross\"},{\"attributes\":{\"callback\":null,\"data\":{}},\"id\":\"90603ace-a017-43d7-9429-f93f658cde75\",\"type\":\"ColumnDataSource\"},{\"attributes\":{\"fill_alpha\":{\"value\":0.1},\"fill_color\":{\"value\":\"#1f77b4\"},\"line_alpha\":{\"value\":0.1},\"line_color\":{\"value\":\"#1f77b4\"},\"x\":{\"value\":-0.2239479273557663},\"y\":{\"value\":5.321461200714111}},\"id\":\"78e1a4de-b5eb-4a4b-afd6-88de13c50d01\",\"type\":\"Cross\"},{\"attributes\":{\"angle\":{\"units\":\"rad\",\"value\":-1.0485169887542725},\"fill_alpha\":{\"value\":0.5},\"fill_color\":{\"value\":\"red\"},\"height\":{\"units\":\"data\",\"value\":3.5672714710235596},\"line_alpha\":{\"value\":0.5},\"line_color\":{\"value\":\"red\"},\"width\":{\"units\":\"data\",\"value\":0.9369199275970459},\"x\":{\"value\":-2.8482606410980225},\"y\":{\"value\":2.7298924922943115}},\"id\":\"53ea3708-1bfd-4c27-912e-f3099d82a0e2\",\"type\":\"Ellipse\"},{\"attributes\":{\"callback\":null,\"data\":{}},\"id\":\"7b3ae538-975d-428f-ad1f-c76bd44b6195\",\"type\":\"ColumnDataSource\"},{\"attributes\":{\"data_source\":{\"id\":\"b186d405-0ca1-4207-953a-dfab049ea4d5\",\"type\":\"ColumnDataSource\"},\"glyph\":{\"id\":\"80f9fa17-b5cf-4386-bad4-3c7cea10e488\",\"type\":\"Cross\"},\"hover_glyph\":null,\"muted_glyph\":null,\"nonselection_glyph\":{\"id\":\"778aad8f-0142-4f65-a1ba-f36635744536\",\"type\":\"Cross\"},\"selection_glyph\":null,\"view\":{\"id\":\"e875e034-1dfb-4bb0-9b14-e9d44d6a5a7c\",\"type\":\"CDSView\"}},\"id\":\"4fe5ac33-4ccb-4bbb-a6aa-0371b572bf3f\",\"type\":\"GlyphRenderer\"},{\"attributes\":{\"active_drag\":\"auto\",\"active_inspect\":\"auto\",\"active_scroll\":\"auto\",\"active_tap\":\"auto\",\"tools\":[{\"id\":\"c6dea786-6fe0-4f18-8999-028c028beb37\",\"type\":\"PanTool\"},{\"id\":\"69cf7c51-5407-45b8-9ad0-bd7ea6ec528b\",\"type\":\"WheelZoomTool\"},{\"id\":\"9ecccd1d-9b43-4d32-9399-d478aabd124d\",\"type\":\"BoxZoomTool\"},{\"id\":\"d4e40390-1ae9-46fd-83a6-7639cb4434c9\",\"type\":\"SaveTool\"},{\"id\":\"07c9365b-3c31-41d0-997f-c902ca669649\",\"type\":\"ResetTool\"},{\"id\":\"70b34d98-8ff4-4df6-a9bb-3b96a008b9f7\",\"type\":\"HelpTool\"}]},\"id\":\"85ddcf3e-1b52-471f-8fdb-8815584e8272\",\"type\":\"Toolbar\"},{\"attributes\":{\"fill_alpha\":{\"value\":0.5},\"fill_color\":{\"value\":\"green\"},\"line_alpha\":{\"value\":0.5},\"line_color\":{\"value\":\"green\"},\"x\":{\"value\":-0.2239479273557663},\"y\":{\"value\":5.321461200714111}},\"id\":\"316f2cda-f93f-4b3e-9bc7-829ab59db208\",\"type\":\"Cross\"},{\"attributes\":{\"source\":{\"id\":\"515cdb24-8e70-4ebe-aec6-dd5e2d6857cd\",\"type\":\"ColumnDataSource\"}},\"id\":\"71330f1f-acf7-4836-96a0-4f05d6cc6a46\",\"type\":\"CDSView\"},{\"attributes\":{\"source\":{\"id\":\"7b3ae538-975d-428f-ad1f-c76bd44b6195\",\"type\":\"ColumnDataSource\"}},\"id\":\"b89cdf68-593a-41e1-89c0-b5d83f57bc5f\",\"type\":\"CDSView\"},{\"attributes\":{},\"id\":\"d4e40390-1ae9-46fd-83a6-7639cb4434c9\",\"type\":\"SaveTool\"},{\"attributes\":{\"data_source\":{\"id\":\"dd884022-1c79-4345-856d-8d12862a6c35\",\"type\":\"ColumnDataSource\"},\"glyph\":{\"id\":\"34bb367d-37e4-4028-94d9-21b328212efb\",\"type\":\"Ellipse\"},\"hover_glyph\":null,\"muted_glyph\":null,\"nonselection_glyph\":{\"id\":\"f2625a08-1d3f-4387-9a72-dfecf9e6d9cb\",\"type\":\"Ellipse\"},\"selection_glyph\":null,\"view\":{\"id\":\"d5cfcba6-ece0-4159-958c-013cd59674d9\",\"type\":\"CDSView\"}},\"id\":\"4ff746df-4df1-4edc-85fa-aaa646d025f8\",\"type\":\"GlyphRenderer\"},{\"attributes\":{\"angle\":{\"units\":\"rad\",\"value\":-1.0485169887542725},\"fill_alpha\":{\"value\":0.1},\"fill_color\":{\"value\":\"#1f77b4\"},\"height\":{\"units\":\"data\",\"value\":7.1345415115356445},\"line_alpha\":{\"value\":0.1},\"line_color\":{\"value\":\"#1f77b4\"},\"width\":{\"units\":\"data\",\"value\":1.8738329410552979},\"x\":{\"value\":-1.536104440689087},\"y\":{\"value\":4.02567720413208}},\"id\":\"d1c58207-b85d-4bc1-9643-9cb507d4bce5\",\"type\":\"Ellipse\"},{\"attributes\":{},\"id\":\"2faa3a79-9da0-40f8-ae2f-bf831378749e\",\"type\":\"BasicTickFormatter\"},{\"attributes\":{\"data_source\":{\"id\":\"d20779a8-ad91-4e03-93ee-ed0d54a2cd32\",\"type\":\"ColumnDataSource\"},\"glyph\":{\"id\":\"7dc3a3df-a5f4-41ef-8165-26cae6d80230\",\"type\":\"Ellipse\"},\"hover_glyph\":null,\"muted_glyph\":null,\"nonselection_glyph\":{\"id\":\"c8ee026b-0cfe-42e1-b0ae-e73a82a7716d\",\"type\":\"Ellipse\"},\"selection_glyph\":null,\"view\":{\"id\":\"d07a5893-cb61-4ded-b84d-20307e8242f3\",\"type\":\"CDSView\"}},\"id\":\"49c7a34b-3766-4629-8d9e-973db894a25e\",\"type\":\"GlyphRenderer\"},{\"attributes\":{\"fill_color\":{\"value\":\"#1f77b4\"},\"line_color\":{\"value\":\"#1f77b4\"},\"x\":{\"field\":\"x\"},\"y\":{\"field\":\"y\"}},\"id\":\"74938a69-669a-4673-b41f-0a3d7d219261\",\"type\":\"Circle\"},{\"attributes\":{\"below\":[{\"id\":\"48fc46b0-3709-4499-ad23-b21c0bdae5a1\",\"type\":\"LinearAxis\"}],\"left\":[{\"id\":\"f8177efa-bc5e-45e7-b066-6633e776020b\",\"type\":\"LinearAxis\"}],\"plot_height\":400,\"plot_width\":400,\"renderers\":[{\"id\":\"48fc46b0-3709-4499-ad23-b21c0bdae5a1\",\"type\":\"LinearAxis\"},{\"id\":\"c31399e9-0c1b-49f4-a152-2c9574425b61\",\"type\":\"Grid\"},{\"id\":\"f8177efa-bc5e-45e7-b066-6633e776020b\",\"type\":\"LinearAxis\"},{\"id\":\"7a324a27-2684-4cd1-9a00-edfbbe0fd64a\",\"type\":\"Grid\"},{\"id\":\"5ec97b00-f7bc-4ecd-b071-41a6b338a6fd\",\"type\":\"BoxAnnotation\"},{\"id\":\"9bf30bf7-0991-416b-88cf-2734241da93d\",\"type\":\"GlyphRenderer\"},{\"id\":\"2ec19a4d-41be-4247-9a9d-057424f64c4a\",\"type\":\"GlyphRenderer\"},{\"id\":\"eb30d159-0c51-423e-aa67-f226e653b3cb\",\"type\":\"GlyphRenderer\"},{\"id\":\"2ebfec5c-ba16-4026-aaf3-1be69ccb0f17\",\"type\":\"GlyphRenderer\"},{\"id\":\"49c7a34b-3766-4629-8d9e-973db894a25e\",\"type\":\"GlyphRenderer\"},{\"id\":\"4fe5ac33-4ccb-4bbb-a6aa-0371b572bf3f\",\"type\":\"GlyphRenderer\"},{\"id\":\"b676db37-609a-41f5-acc3-c6a30c451b94\",\"type\":\"GlyphRenderer\"},{\"id\":\"3ea37395-b75b-48b8-af8d-88307d91ff0a\",\"type\":\"GlyphRenderer\"},{\"id\":\"46367054-c08d-47d4-8d1e-d65f508dec4a\",\"type\":\"GlyphRenderer\"},{\"id\":\"4ff746df-4df1-4edc-85fa-aaa646d025f8\",\"type\":\"GlyphRenderer\"}],\"title\":{\"id\":\"e31dc236-435a-45da-8379-d3b89973e622\",\"type\":\"Title\"},\"toolbar\":{\"id\":\"85ddcf3e-1b52-471f-8fdb-8815584e8272\",\"type\":\"Toolbar\"},\"x_range\":{\"id\":\"25e47d70-acee-40a0-a1bf-148132f873c9\",\"type\":\"Range1d\"},\"x_scale\":{\"id\":\"9bbb01a6-4f23-4f83-9505-138593846910\",\"type\":\"LinearScale\"},\"y_range\":{\"id\":\"f3af9fc0-2063-47e9-b476-be9f89c66d70\",\"type\":\"Range1d\"},\"y_scale\":{\"id\":\"14e94532-8e53-411f-92d3-039856f4a07d\",\"type\":\"LinearScale\"}},\"id\":\"934561e8-3dac-475b-b000-f57f93f386d0\",\"subtype\":\"Figure\",\"type\":\"Plot\"},{\"attributes\":{\"source\":{\"id\":\"eb032726-b1b9-4def-a1e1-9bc72916e250\",\"type\":\"ColumnDataSource\"}},\"id\":\"5c090f7f-2280-4b5d-aa26-6b24db5b0133\",\"type\":\"CDSView\"},{\"attributes\":{\"fill_alpha\":{\"value\":0.5},\"fill_color\":{\"value\":\"blue\"},\"line_alpha\":{\"value\":0.5},\"line_color\":{\"value\":\"blue\"},\"x\":{\"value\":-1.536104440689087},\"y\":{\"value\":4.02567720413208}},\"id\":\"1b4280c0-341c-476b-801c-198939a98823\",\"type\":\"Cross\"},{\"attributes\":{\"callback\":null,\"data\":{}},\"id\":\"eb032726-b1b9-4def-a1e1-9bc72916e250\",\"type\":\"ColumnDataSource\"},{\"attributes\":{\"source\":{\"id\":\"1956909f-8a82-409f-bc8a-6cd7310eafbc\",\"type\":\"ColumnDataSource\"}},\"id\":\"f1f97082-f183-471f-bd46-d5775e4bdb82\",\"type\":\"CDSView\"},{\"attributes\":{\"data_source\":{\"id\":\"e2d3d63e-5db6-46a8-a478-95453f004865\",\"type\":\"ColumnDataSource\"},\"glyph\":{\"id\":\"97e3772a-ede8-4dd4-9298-618da4f1c1d9\",\"type\":\"Ellipse\"},\"hover_glyph\":null,\"muted_glyph\":null,\"nonselection_glyph\":{\"id\":\"d1c58207-b85d-4bc1-9643-9cb507d4bce5\",\"type\":\"Ellipse\"},\"selection_glyph\":null,\"view\":{\"id\":\"afb21ec7-ccd5-42f1-ae17-0e43364c0682\",\"type\":\"CDSView\"}},\"id\":\"2ec19a4d-41be-4247-9a9d-057424f64c4a\",\"type\":\"GlyphRenderer\"},{\"attributes\":{\"angle\":{\"units\":\"rad\",\"value\":-1.0485169887542725},\"fill_alpha\":{\"value\":0.25},\"fill_color\":{\"value\":\"red\"},\"height\":{\"units\":\"data\",\"value\":7.134542942047119},\"line_alpha\":{\"value\":0.25},\"line_color\":{\"value\":\"red\"},\"width\":{\"units\":\"data\",\"value\":1.8738398551940918},\"x\":{\"value\":-2.8482606410980225},\"y\":{\"value\":2.7298924922943115}},\"id\":\"7dc3a3df-a5f4-41ef-8165-26cae6d80230\",\"type\":\"Ellipse\"},{\"attributes\":{\"plot\":{\"id\":\"934561e8-3dac-475b-b000-f57f93f386d0\",\"subtype\":\"Figure\",\"type\":\"Plot\"},\"ticker\":{\"id\":\"a45477ef-86d7-4e86-89d2-d0dca5099884\",\"type\":\"BasicTicker\"}},\"id\":\"c31399e9-0c1b-49f4-a152-2c9574425b61\",\"type\":\"Grid\"},{\"attributes\":{\"angle\":{\"units\":\"rad\",\"value\":-1.048517107963562},\"fill_alpha\":{\"value\":0.1},\"fill_color\":{\"value\":\"#1f77b4\"},\"height\":{\"units\":\"data\",\"value\":3.5672709941864014},\"line_alpha\":{\"value\":0.1},\"line_color\":{\"value\":\"#1f77b4\"},\"width\":{\"units\":\"data\",\"value\":0.9369147419929504},\"x\":{\"value\":-0.2239479273557663},\"y\":{\"value\":5.321461200714111}},\"id\":\"f2625a08-1d3f-4387-9a72-dfecf9e6d9cb\",\"type\":\"Ellipse\"},{\"attributes\":{\"callback\":null,\"data\":{}},\"id\":\"e2d3d63e-5db6-46a8-a478-95453f004865\",\"type\":\"ColumnDataSource\"},{\"attributes\":{},\"id\":\"7f0727cc-b0d7-48f6-8e09-23b727b693fb\",\"type\":\"BasicTickFormatter\"},{\"attributes\":{},\"id\":\"9bbb01a6-4f23-4f83-9505-138593846910\",\"type\":\"LinearScale\"},{\"attributes\":{\"source\":{\"id\":\"e2d3d63e-5db6-46a8-a478-95453f004865\",\"type\":\"ColumnDataSource\"}},\"id\":\"afb21ec7-ccd5-42f1-ae17-0e43364c0682\",\"type\":\"CDSView\"},{\"attributes\":{\"angle\":{\"units\":\"rad\",\"value\":-1.0485169887542725},\"fill_alpha\":{\"value\":0.25},\"fill_color\":{\"value\":\"blue\"},\"height\":{\"units\":\"data\",\"value\":7.1345415115356445},\"line_alpha\":{\"value\":0.25},\"line_color\":{\"value\":\"blue\"},\"width\":{\"units\":\"data\",\"value\":1.8738329410552979},\"x\":{\"value\":-1.536104440689087},\"y\":{\"value\":4.02567720413208}},\"id\":\"97e3772a-ede8-4dd4-9298-618da4f1c1d9\",\"type\":\"Ellipse\"},{\"attributes\":{},\"id\":\"c6dea786-6fe0-4f18-8999-028c028beb37\",\"type\":\"PanTool\"},{\"attributes\":{},\"id\":\"69cf7c51-5407-45b8-9ad0-bd7ea6ec528b\",\"type\":\"WheelZoomTool\"},{\"attributes\":{\"callback\":null,\"data\":{}},\"id\":\"d20779a8-ad91-4e03-93ee-ed0d54a2cd32\",\"type\":\"ColumnDataSource\"},{\"attributes\":{\"angle\":{\"units\":\"rad\",\"value\":-1.0485169887542725},\"fill_alpha\":{\"value\":0.5},\"fill_color\":{\"value\":\"blue\"},\"height\":{\"units\":\"data\",\"value\":3.5672707557678223},\"line_alpha\":{\"value\":0.5},\"line_color\":{\"value\":\"blue\"},\"width\":{\"units\":\"data\",\"value\":0.9369164705276489},\"x\":{\"value\":-1.536104440689087},\"y\":{\"value\":4.02567720413208}},\"id\":\"d4c9f504-a1a7-49c2-970d-c0dd359f816c\",\"type\":\"Ellipse\"},{\"attributes\":{},\"id\":\"edc4d9f0-79b6-4695-82ff-4b88350cd5b2\",\"type\":\"BasicTicker\"},{\"attributes\":{\"dimension\":1,\"plot\":{\"id\":\"934561e8-3dac-475b-b000-f57f93f386d0\",\"subtype\":\"Figure\",\"type\":\"Plot\"},\"ticker\":{\"id\":\"edc4d9f0-79b6-4695-82ff-4b88350cd5b2\",\"type\":\"BasicTicker\"}},\"id\":\"7a324a27-2684-4cd1-9a00-edfbbe0fd64a\",\"type\":\"Grid\"},{\"attributes\":{\"fill_alpha\":{\"value\":0.1},\"fill_color\":{\"value\":\"#1f77b4\"},\"line_alpha\":{\"value\":0.1},\"line_color\":{\"value\":\"#1f77b4\"},\"x\":{\"value\":-1.536104440689087},\"y\":{\"value\":4.02567720413208}},\"id\":\"9d4a9f7d-60a8-410d-8d02-75222b1f7870\",\"type\":\"Cross\"},{\"attributes\":{\"data_source\":{\"id\":\"515cdb24-8e70-4ebe-aec6-dd5e2d6857cd\",\"type\":\"ColumnDataSource\"},\"glyph\":{\"id\":\"1b4280c0-341c-476b-801c-198939a98823\",\"type\":\"Cross\"},\"hover_glyph\":null,\"muted_glyph\":null,\"nonselection_glyph\":{\"id\":\"9d4a9f7d-60a8-410d-8d02-75222b1f7870\",\"type\":\"Cross\"},\"selection_glyph\":null,\"view\":{\"id\":\"71330f1f-acf7-4836-96a0-4f05d6cc6a46\",\"type\":\"CDSView\"}},\"id\":\"eb30d159-0c51-423e-aa67-f226e653b3cb\",\"type\":\"GlyphRenderer\"},{\"attributes\":{},\"id\":\"a45477ef-86d7-4e86-89d2-d0dca5099884\",\"type\":\"BasicTicker\"},{\"attributes\":{\"angle\":{\"units\":\"rad\",\"value\":-1.048517107963562},\"fill_alpha\":{\"value\":0.5},\"fill_color\":{\"value\":\"green\"},\"height\":{\"units\":\"data\",\"value\":3.5672709941864014},\"line_alpha\":{\"value\":0.5},\"line_color\":{\"value\":\"green\"},\"width\":{\"units\":\"data\",\"value\":0.9369147419929504},\"x\":{\"value\":-0.2239479273557663},\"y\":{\"value\":5.321461200714111}},\"id\":\"34bb367d-37e4-4028-94d9-21b328212efb\",\"type\":\"Ellipse\"},{\"attributes\":{\"data_source\":{\"id\":\"eb032726-b1b9-4def-a1e1-9bc72916e250\",\"type\":\"ColumnDataSource\"},\"glyph\":{\"id\":\"d4c9f504-a1a7-49c2-970d-c0dd359f816c\",\"type\":\"Ellipse\"},\"hover_glyph\":null,\"muted_glyph\":null,\"nonselection_glyph\":{\"id\":\"463ce426-466b-4488-af92-53112a5da392\",\"type\":\"Ellipse\"},\"selection_glyph\":null,\"view\":{\"id\":\"5c090f7f-2280-4b5d-aa26-6b24db5b0133\",\"type\":\"CDSView\"}},\"id\":\"2ebfec5c-ba16-4026-aaf3-1be69ccb0f17\",\"type\":\"GlyphRenderer\"},{\"attributes\":{\"source\":{\"id\":\"dd884022-1c79-4345-856d-8d12862a6c35\",\"type\":\"ColumnDataSource\"}},\"id\":\"d5cfcba6-ece0-4159-958c-013cd59674d9\",\"type\":\"CDSView\"},{\"attributes\":{\"data_source\":{\"id\":\"1956909f-8a82-409f-bc8a-6cd7310eafbc\",\"type\":\"ColumnDataSource\"},\"glyph\":{\"id\":\"74938a69-669a-4673-b41f-0a3d7d219261\",\"type\":\"Circle\"},\"hover_glyph\":null,\"muted_glyph\":null,\"nonselection_glyph\":{\"id\":\"71d3f645-a7a0-4ad9-8013-586078ec220d\",\"type\":\"Circle\"},\"selection_glyph\":null,\"view\":{\"id\":\"f1f97082-f183-471f-bd46-d5775e4bdb82\",\"type\":\"CDSView\"}},\"id\":\"9bf30bf7-0991-416b-88cf-2734241da93d\",\"type\":\"GlyphRenderer\"},{\"attributes\":{\"formatter\":{\"id\":\"7f0727cc-b0d7-48f6-8e09-23b727b693fb\",\"type\":\"BasicTickFormatter\"},\"plot\":{\"id\":\"934561e8-3dac-475b-b000-f57f93f386d0\",\"subtype\":\"Figure\",\"type\":\"Plot\"},\"ticker\":{\"id\":\"a45477ef-86d7-4e86-89d2-d0dca5099884\",\"type\":\"BasicTicker\"}},\"id\":\"48fc46b0-3709-4499-ad23-b21c0bdae5a1\",\"type\":\"LinearAxis\"},{\"attributes\":{\"callback\":null,\"data\":{}},\"id\":\"515cdb24-8e70-4ebe-aec6-dd5e2d6857cd\",\"type\":\"ColumnDataSource\"}],\"root_ids\":[\"934561e8-3dac-475b-b000-f57f93f386d0\"]},\"title\":\"Bokeh Application\",\"version\":\"0.12.14\"}};\n",
       "  var render_items = [{\"docid\":\"68808faf-1fb2-48ba-a01d-65b7f1104271\",\"elementid\":\"47800f94-7e34-4c91-9c23-18d95557d5b1\",\"modelid\":\"934561e8-3dac-475b-b000-f57f93f386d0\"}];\n",
       "  root.Bokeh.embed.embed_items_notebook(docs_json, render_items);\n",
       "\n",
       "  }\n",
       "  if (root.Bokeh !== undefined) {\n",
       "    embed_document(root);\n",
       "  } else {\n",
       "    var attempts = 0;\n",
       "    var timer = setInterval(function(root) {\n",
       "      if (root.Bokeh !== undefined) {\n",
       "        embed_document(root);\n",
       "        clearInterval(timer);\n",
       "      }\n",
       "      attempts++;\n",
       "      if (attempts > 100) {\n",
       "        console.log(\"Bokeh: ERROR: Unable to run BokehJS code because BokehJS library is missing\")\n",
       "        clearInterval(timer);\n",
       "      }\n",
       "    }, 10, root)\n",
       "  }\n",
       "})(window);"
      ],
      "application/vnd.bokehjs_exec.v0+json": ""
     },
     "metadata": {
      "application/vnd.bokehjs_exec.v0+json": {
       "id": "934561e8-3dac-475b-b000-f57f93f386d0"
      }
     },
     "output_type": "display_data"
    }
   ],
   "source": [
    "n1, n2 = normal_full.split()\n",
    "\n",
    "fig = figure(\n",
    "    title='Initial model',\n",
    "    width=400,\n",
    "    height=400,\n",
    "    x_range=(mean[0] - 5, mean[0] + 5),\n",
    "    y_range=(mean[1] - 5, mean[1] + 5)\n",
    ")\n",
    "fig.circle(data[:, 0], data[:, 1])\n",
    "plotting.plot_normal(fig, normal_full.mean.numpy(), normal_full.cov.numpy(), alpha=.5, color='blue')\n",
    "plotting.plot_normal(fig, n1.mean.numpy(), n1.cov.numpy(), alpha=.5, color='red')\n",
    "plotting.plot_normal(fig, n2.mean.numpy(), n2.cov.numpy(), alpha=.5, color='green')\n",
    "show(fig)"
   ]
  },
  {
   "cell_type": "markdown",
   "metadata": {},
   "source": [
    "# Model comparison\n",
    "\n",
    "We generate data for various correlation parameters:\n",
    "\n",
    "$$\n",
    "X_{\\lambda} \\sim \\mathcal{N}(\n",
    "    \\begin{pmatrix} \n",
    "    0 \\\\\n",
    "    0\n",
    "    \\end{pmatrix}, \n",
    "    \\begin{pmatrix} \n",
    "    1 & \\lambda \\\\\n",
    "    \\lambda & 1\n",
    "    \\end{pmatrix})\n",
    "$$\n",
    "\n",
    "and we compare the model evidence for both the Normal distribution with diagonal covariance matrix and with full covariance matrix.\n",
    "\n",
    "$$\n",
    "\\ln B_{\\lambda} = \\ln \\frac{p(X_\\lambda | \\mathcal{M}_{\\text{full}})}{p(X_\\lambda | \\mathcal{M}_{\\text{diag}})} =\n",
    "     \\ln \\frac{\\int_{\\theta} p(X_\\lambda | \\theta, \\mathcal{M}_{\\text{full}}) p(\\theta) d\\theta}{\\int_{\\theta}p(X_\\lambda | \\theta, \\mathcal{M}_{\\text{diag}})p(\\theta) d\\theta} = \\frac{A_{\\text{full}}(\\xi + \\sum_{n=1}^N T(x_n)) - A_{\\text{full}}(\\xi)}{A_{\\text{diag}}(\\xi + \\sum_{n=1}^N T(x_n))\n",
    "     - A_{\\text{diag}}(\\xi)}\n",
    "$$"
   ]
  },
  {
   "cell_type": "code",
   "execution_count": 63,
   "metadata": {
    "scrolled": false
   },
   "outputs": [
    {
     "data": {
      "text/html": [
       "\n",
       "<div class=\"bk-root\">\n",
       "    <div class=\"bk-plotdiv\" id=\"495cab7f-63d6-4abb-931e-e96dd11d56ce\"></div>\n",
       "</div>"
      ]
     },
     "metadata": {},
     "output_type": "display_data"
    },
    {
     "data": {
      "application/javascript": [
       "(function(root) {\n",
       "  function embed_document(root) {\n",
       "    \n",
       "  var docs_json = {\"3c6f2191-a7c2-43a4-ba70-23ae1ae69a86\":{\"roots\":{\"references\":[{\"attributes\":{\"line_color\":\"#1f77b4\",\"x\":{\"field\":\"x\"},\"y\":{\"field\":\"y\"}},\"id\":\"2c74b253-7a34-4d88-8fcc-f4071e3e2e77\",\"type\":\"Line\"},{\"attributes\":{\"plot\":null,\"text\":\"Model Comparison\"},\"id\":\"3ce33925-8115-4191-a1ea-5c51375cf2b2\",\"type\":\"Title\"},{\"attributes\":{\"axis_label\":\"log Bayes factor\",\"formatter\":{\"id\":\"e48cad5e-59cb-471e-a6d7-e653cf739129\",\"type\":\"BasicTickFormatter\"},\"plot\":{\"id\":\"576bf9c3-fdcd-4843-b248-88b8ff9d58bb\",\"subtype\":\"Figure\",\"type\":\"Plot\"},\"ticker\":{\"id\":\"9681de78-9576-4e68-a5ac-53d7f703db84\",\"type\":\"BasicTicker\"}},\"id\":\"064b5ba3-36c7-4977-99c4-65426d8abc46\",\"type\":\"LinearAxis\"},{\"attributes\":{},\"id\":\"9681de78-9576-4e68-a5ac-53d7f703db84\",\"type\":\"BasicTicker\"},{\"attributes\":{\"callback\":null,\"column_names\":[\"x\",\"y\"],\"data\":{\"x\":{\"__ndarray__\":\"rkfhehSu778K16NwPQrvv2ZmZmZmZu6/wvUoXI/C7b8fhetRuB7tv3sUrkfheuy/16NwPQrX678zMzMzMzPrv4/C9Shcj+q/7FG4HoXr6b9I4XoUrkfpv6RwPQrXo+i/AAAAAAAA6L9cj8L1KFznv7gehetRuOa/FK5H4XoU5r9wPQrXo3Dlv8zMzMzMzOS/KVyPwvUo5L+F61G4HoXjv+F6FK5H4eK/PgrXo3A94r+amZmZmZnhv/YoXI/C9eC/UrgehetR4L9cj8L1KFzfvxSuR+F6FN6/zMzMzMzM3L+E61G4HoXbvz4K16NwPdq/9ihcj8L12L+uR+F6FK7Xv2ZmZmZmZta/HoXrUbge1b/Wo3A9CtfTv47C9Shcj9K/SOF6FK5H0b8AAAAAAADQv3A9CtejcM2/4HoUrkfhyr9QuB6F61HIv8D1KFyPwsW/NDMzMzMzw7+kcD0K16PAvyhcj8L1KLy/CNejcD0Kt7/oUbgeheuxv5CZmZmZmam/wB6F61G4nr+AFK5H4XqEv4AUrkfheoQ/wB6F61G4nj+gmZmZmZmpP/BRuB6F67E/ENejcD0Ktz8wXI/C9Si8P6hwPQrXo8A/ODMzMzMzwz/A9Shcj8LFP1C4HoXrUcg/4HoUrkfhyj9wPQrXo3DNPwAAAAAAANA/SOF6FK5H0T+QwvUoXI/SP9ijcD0K19M/IIXrUbge1T9oZmZmZmbWP7BH4XoUrtc/+Chcj8L12D9ACtejcD3aP4TrUbgehds/zMzMzMzM3D8UrkfhehTeP1yPwvUoXN8/UrgehetR4D/2KFyPwvXgP5qZmZmZmeE/PgrXo3A94j/iehSuR+HiP4brUbgeheM/KlyPwvUo5D/OzMzMzMzkP3I9CtejcOU/FK5H4XoU5j+4HoXrUbjmP1yPwvUoXOc/AAAAAAAA6D+kcD0K16PoP0jhehSuR+k/7FG4HoXr6T+QwvUoXI/qPzQzMzMzM+s/2KNwPQrX6z98FK5H4XrsPyCF61G4Hu0/wvUoXI/C7T9mZmZmZmbuPwrXo3A9Cu8/rkfhehSu7z8=\",\"dtype\":\"float64\",\"shape\":[100]},\"y\":{\"__ndarray__\":\"Fr3lRNjXrkRMNI5E+ax3RHHKaETdCUdELd0rRBVlJERJzxNEsR8JRGIG8kN6XuxDmsTJQ+orrkMy47dDuhyhQwLPmUMyBZRDwgiDQ2SJYkPkr0dDVK06QyS2MEMkeUZDiLXoQmSvB0MUPwJDiCLPQkg/ukKovsJCCGviQihnr0JIbZZCUNZZQogcjkJQH0xCUNgDQlDBTELAfAhCIN66QZDpCEJAvH5BoCjOQQBcdUGgoYdBoPKBQUAWI0EAcgxBAOYeQUA/DUFA4QZBQB4DQQCyHkFAV1pBAO1PQSBWmEEgBoBBACO0QaAV4kGgMqpBANDgQaA1rkHQg05CEIosQgiygkKQqk9CULd1Qsg/pkJoJLVCyA+6QsSNAENoluZCKCL9QujG/UI0thJDBKcTQ4RTR0P0Hy9DJIE8Q9SfeUP0k31DZGh+Q1oAlEMCxpFDOoKwQ0LmskNCDsdDmkrOQ2Ji10OC2fBDVfQORIGnF0R11CNE9QQoROnpRkTNj19EGQ18RKb1jUTsy6xEMEDrRA==\",\"dtype\":\"float32\",\"shape\":[100]}}},\"id\":\"20e6e8ca-3de4-4048-be9d-79b7bf0321f5\",\"type\":\"ColumnDataSource\"},{\"attributes\":{\"active_drag\":\"auto\",\"active_inspect\":\"auto\",\"active_scroll\":\"auto\",\"active_tap\":\"auto\",\"tools\":[{\"id\":\"7bac74d4-84fd-40c1-bd64-16f51e7867fb\",\"type\":\"PanTool\"},{\"id\":\"bf99c0fc-2b27-4b3d-b477-b2508052330a\",\"type\":\"WheelZoomTool\"},{\"id\":\"2d17c831-a05b-43bd-9373-15c2c503d94c\",\"type\":\"BoxZoomTool\"},{\"id\":\"c8d9475d-c1b8-4bac-9fa8-eb175e4bd17b\",\"type\":\"SaveTool\"},{\"id\":\"e657875e-eb03-458e-b079-cb1d32764e54\",\"type\":\"ResetTool\"},{\"id\":\"26fccae2-4bb0-4c8d-b608-3b3e708f8e92\",\"type\":\"HelpTool\"}]},\"id\":\"c9d6ba4a-e22b-4f39-b0a1-fce6c034d6eb\",\"type\":\"Toolbar\"},{\"attributes\":{\"bottom_units\":\"screen\",\"fill_alpha\":{\"value\":0.5},\"fill_color\":{\"value\":\"lightgrey\"},\"left_units\":\"screen\",\"level\":\"overlay\",\"line_alpha\":{\"value\":1.0},\"line_color\":{\"value\":\"black\"},\"line_dash\":[4,4],\"line_width\":{\"value\":2},\"plot\":null,\"render_mode\":\"css\",\"right_units\":\"screen\",\"top_units\":\"screen\"},\"id\":\"05f67cb2-ebcb-4b29-92f7-09c617f7105b\",\"type\":\"BoxAnnotation\"},{\"attributes\":{\"line_alpha\":0.1,\"line_color\":\"#1f77b4\",\"x\":{\"field\":\"x\"},\"y\":{\"field\":\"y\"}},\"id\":\"f5e1cf34-7ed5-4cf1-9e91-ecb8ec7234a2\",\"type\":\"Line\"},{\"attributes\":{\"axis_label\":\"\\u03bb\",\"formatter\":{\"id\":\"db26faf9-d5b8-4e6e-94e7-347eb8505b53\",\"type\":\"BasicTickFormatter\"},\"plot\":{\"id\":\"576bf9c3-fdcd-4843-b248-88b8ff9d58bb\",\"subtype\":\"Figure\",\"type\":\"Plot\"},\"ticker\":{\"id\":\"14cc3e93-41dd-4c02-a23d-aa7cc35bf595\",\"type\":\"BasicTicker\"}},\"id\":\"8b387749-84d2-404d-b58c-53cbaa5ceb12\",\"type\":\"LinearAxis\"},{\"attributes\":{},\"id\":\"7bac74d4-84fd-40c1-bd64-16f51e7867fb\",\"type\":\"PanTool\"},{\"attributes\":{\"plot\":{\"id\":\"576bf9c3-fdcd-4843-b248-88b8ff9d58bb\",\"subtype\":\"Figure\",\"type\":\"Plot\"},\"ticker\":{\"id\":\"14cc3e93-41dd-4c02-a23d-aa7cc35bf595\",\"type\":\"BasicTicker\"}},\"id\":\"b589a563-16eb-4ea3-840c-bfca914a2cc8\",\"type\":\"Grid\"},{\"attributes\":{},\"id\":\"bf99c0fc-2b27-4b3d-b477-b2508052330a\",\"type\":\"WheelZoomTool\"},{\"attributes\":{\"callback\":null},\"id\":\"7ed462e1-e3dd-48de-a2e8-89307a99187d\",\"type\":\"DataRange1d\"},{\"attributes\":{\"callback\":null},\"id\":\"19b5dfa1-7fb3-4ec8-b661-0fcc68c05abd\",\"type\":\"DataRange1d\"},{\"attributes\":{},\"id\":\"c8d9475d-c1b8-4bac-9fa8-eb175e4bd17b\",\"type\":\"SaveTool\"},{\"attributes\":{\"below\":[{\"id\":\"8b387749-84d2-404d-b58c-53cbaa5ceb12\",\"type\":\"LinearAxis\"}],\"left\":[{\"id\":\"064b5ba3-36c7-4977-99c4-65426d8abc46\",\"type\":\"LinearAxis\"}],\"plot_height\":400,\"plot_width\":400,\"renderers\":[{\"id\":\"8b387749-84d2-404d-b58c-53cbaa5ceb12\",\"type\":\"LinearAxis\"},{\"id\":\"b589a563-16eb-4ea3-840c-bfca914a2cc8\",\"type\":\"Grid\"},{\"id\":\"064b5ba3-36c7-4977-99c4-65426d8abc46\",\"type\":\"LinearAxis\"},{\"id\":\"62b488a8-7733-45d1-8858-f60cbb012944\",\"type\":\"Grid\"},{\"id\":\"05f67cb2-ebcb-4b29-92f7-09c617f7105b\",\"type\":\"BoxAnnotation\"},{\"id\":\"63897103-3aac-4403-91fe-08602c925dcf\",\"type\":\"GlyphRenderer\"}],\"title\":{\"id\":\"3ce33925-8115-4191-a1ea-5c51375cf2b2\",\"type\":\"Title\"},\"toolbar\":{\"id\":\"c9d6ba4a-e22b-4f39-b0a1-fce6c034d6eb\",\"type\":\"Toolbar\"},\"x_range\":{\"id\":\"19b5dfa1-7fb3-4ec8-b661-0fcc68c05abd\",\"type\":\"DataRange1d\"},\"x_scale\":{\"id\":\"94fa13f4-230b-42bf-89dd-953a09d98fa9\",\"type\":\"LinearScale\"},\"y_range\":{\"id\":\"7ed462e1-e3dd-48de-a2e8-89307a99187d\",\"type\":\"DataRange1d\"},\"y_scale\":{\"id\":\"f09942aa-ed00-4235-bd34-80eabdb3a013\",\"type\":\"LinearScale\"}},\"id\":\"576bf9c3-fdcd-4843-b248-88b8ff9d58bb\",\"subtype\":\"Figure\",\"type\":\"Plot\"},{\"attributes\":{\"overlay\":{\"id\":\"05f67cb2-ebcb-4b29-92f7-09c617f7105b\",\"type\":\"BoxAnnotation\"}},\"id\":\"2d17c831-a05b-43bd-9373-15c2c503d94c\",\"type\":\"BoxZoomTool\"},{\"attributes\":{},\"id\":\"e657875e-eb03-458e-b079-cb1d32764e54\",\"type\":\"ResetTool\"},{\"attributes\":{},\"id\":\"14cc3e93-41dd-4c02-a23d-aa7cc35bf595\",\"type\":\"BasicTicker\"},{\"attributes\":{\"dimension\":1,\"plot\":{\"id\":\"576bf9c3-fdcd-4843-b248-88b8ff9d58bb\",\"subtype\":\"Figure\",\"type\":\"Plot\"},\"ticker\":{\"id\":\"9681de78-9576-4e68-a5ac-53d7f703db84\",\"type\":\"BasicTicker\"}},\"id\":\"62b488a8-7733-45d1-8858-f60cbb012944\",\"type\":\"Grid\"},{\"attributes\":{},\"id\":\"26fccae2-4bb0-4c8d-b608-3b3e708f8e92\",\"type\":\"HelpTool\"},{\"attributes\":{\"source\":{\"id\":\"20e6e8ca-3de4-4048-be9d-79b7bf0321f5\",\"type\":\"ColumnDataSource\"}},\"id\":\"7891c5f3-eff6-4bff-a1de-91956e914544\",\"type\":\"CDSView\"},{\"attributes\":{},\"id\":\"94fa13f4-230b-42bf-89dd-953a09d98fa9\",\"type\":\"LinearScale\"},{\"attributes\":{},\"id\":\"e48cad5e-59cb-471e-a6d7-e653cf739129\",\"type\":\"BasicTickFormatter\"},{\"attributes\":{},\"id\":\"f09942aa-ed00-4235-bd34-80eabdb3a013\",\"type\":\"LinearScale\"},{\"attributes\":{},\"id\":\"db26faf9-d5b8-4e6e-94e7-347eb8505b53\",\"type\":\"BasicTickFormatter\"},{\"attributes\":{\"data_source\":{\"id\":\"20e6e8ca-3de4-4048-be9d-79b7bf0321f5\",\"type\":\"ColumnDataSource\"},\"glyph\":{\"id\":\"2c74b253-7a34-4d88-8fcc-f4071e3e2e77\",\"type\":\"Line\"},\"hover_glyph\":null,\"muted_glyph\":null,\"nonselection_glyph\":{\"id\":\"f5e1cf34-7ed5-4cf1-9e91-ecb8ec7234a2\",\"type\":\"Line\"},\"selection_glyph\":null,\"view\":{\"id\":\"7891c5f3-eff6-4bff-a1de-91956e914544\",\"type\":\"CDSView\"}},\"id\":\"63897103-3aac-4403-91fe-08602c925dcf\",\"type\":\"GlyphRenderer\"}],\"root_ids\":[\"576bf9c3-fdcd-4843-b248-88b8ff9d58bb\"]},\"title\":\"Bokeh Application\",\"version\":\"0.12.14\"}};\n",
       "  var render_items = [{\"docid\":\"3c6f2191-a7c2-43a4-ba70-23ae1ae69a86\",\"elementid\":\"495cab7f-63d6-4abb-931e-e96dd11d56ce\",\"modelid\":\"576bf9c3-fdcd-4843-b248-88b8ff9d58bb\"}];\n",
       "  root.Bokeh.embed.embed_items_notebook(docs_json, render_items);\n",
       "\n",
       "  }\n",
       "  if (root.Bokeh !== undefined) {\n",
       "    embed_document(root);\n",
       "  } else {\n",
       "    var attempts = 0;\n",
       "    var timer = setInterval(function(root) {\n",
       "      if (root.Bokeh !== undefined) {\n",
       "        embed_document(root);\n",
       "        clearInterval(timer);\n",
       "      }\n",
       "      attempts++;\n",
       "      if (attempts > 100) {\n",
       "        console.log(\"Bokeh: ERROR: Unable to run BokehJS code because BokehJS library is missing\")\n",
       "        clearInterval(timer);\n",
       "      }\n",
       "    }, 10, root)\n",
       "  }\n",
       "})(window);"
      ],
      "application/vnd.bokehjs_exec.v0+json": ""
     },
     "metadata": {
      "application/vnd.bokehjs_exec.v0+json": {
       "id": "576bf9c3-fdcd-4843-b248-88b8ff9d58bb"
      }
     },
     "output_type": "display_data"
    }
   ],
   "source": [
    "from scipy.special import logsumexp\n",
    "import copy\n",
    "\n",
    "lambdas = np.linspace(-.99, .99, 100)\n",
    "lBs = []\n",
    "    \n",
    "# For each value of lambda.\n",
    "for l in lambdas:\n",
    "    \n",
    "    # Generate the data.\n",
    "    cov = np.array([\n",
    "        [1, l],\n",
    "        [l, 1]\n",
    "    ])\n",
    "    X = np.random.multivariate_normal(np.zeros(2), cov, size=1000)\n",
    "    X = torch.from_numpy(X).float()\n",
    "    \n",
    "    # Fit both models\n",
    "    normal_diag = beer.NormalDiagonalCovariance.create(torch.zeros(2), torch.eye(2), prior_count=1e-3)\n",
    "    beer.train_loglinear_model(normal_diag, X)\n",
    "    normal = beer.NormalFullCovariance.create(torch.zeros(2), torch.eye(2), prior_count=1e-3)\n",
    "    beer.train_loglinear_model(normal, X)\n",
    "    \n",
    "    # Compute the log Bayes factor.\n",
    "    llh_M1 = normal.posterior.log_norm - normal.prior.log_norm\n",
    "    llh_M2 = normal_diag.posterior.log_norm - normal_diag.prior.log_norm\n",
    "    lBs.append((llh_M1 - llh_M2))\n",
    "    \n",
    "lBs = np.array(lBs)\n",
    "fig1 = figure(\n",
    "    title='Model Comparison',\n",
    "    x_axis_label='λ',\n",
    "    y_axis_label='log Bayes factor',\n",
    "    width=400,\n",
    "    height=400\n",
    ")\n",
    "fig1.line(lambdas, lBs)\n",
    "\n",
    "show(fig1)"
   ]
  }
 ],
 "metadata": {
  "kernelspec": {
   "display_name": "Python 3",
   "language": "python",
   "name": "python3"
  },
  "language_info": {
   "codemirror_mode": {
    "name": "ipython",
    "version": 3
   },
   "file_extension": ".py",
   "mimetype": "text/x-python",
   "name": "python",
   "nbconvert_exporter": "python",
   "pygments_lexer": "ipython3",
   "version": "3.6.4"
  }
 },
 "nbformat": 4,
 "nbformat_minor": 2
}
