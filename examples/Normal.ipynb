{
 "cells": [
  {
   "cell_type": "markdown",
   "metadata": {},
   "source": [
    "# Bayesian Normal Density\n",
    "\n",
    "This notebook illustrate how to use a Bayesian Normal density model with the [beer framework](https://github.com/beer-asr/beer). The Normal distribution is a fairly basic model but it is used extenslively in other model as a basic building block."
   ]
  },
  {
   "cell_type": "code",
   "execution_count": 19,
   "metadata": {},
   "outputs": [
    {
     "data": {
      "text/html": [
       "\n",
       "    <div class=\"bk-root\">\n",
       "        <a href=\"https://bokeh.pydata.org\" target=\"_blank\" class=\"bk-logo bk-logo-small bk-logo-notebook\"></a>\n",
       "        <span id=\"18c2f4cb-29d8-4681-946f-d27128112de0\">Loading BokehJS ...</span>\n",
       "    </div>"
      ]
     },
     "metadata": {},
     "output_type": "display_data"
    },
    {
     "data": {
      "application/javascript": [
       "\n",
       "(function(root) {\n",
       "  function now() {\n",
       "    return new Date();\n",
       "  }\n",
       "\n",
       "  var force = true;\n",
       "\n",
       "  if (typeof (root._bokeh_onload_callbacks) === \"undefined\" || force === true) {\n",
       "    root._bokeh_onload_callbacks = [];\n",
       "    root._bokeh_is_loading = undefined;\n",
       "  }\n",
       "\n",
       "  var JS_MIME_TYPE = 'application/javascript';\n",
       "  var HTML_MIME_TYPE = 'text/html';\n",
       "  var EXEC_MIME_TYPE = 'application/vnd.bokehjs_exec.v0+json';\n",
       "  var CLASS_NAME = 'output_bokeh rendered_html';\n",
       "\n",
       "  /**\n",
       "   * Render data to the DOM node\n",
       "   */\n",
       "  function render(props, node) {\n",
       "    var script = document.createElement(\"script\");\n",
       "    node.appendChild(script);\n",
       "  }\n",
       "\n",
       "  /**\n",
       "   * Handle when an output is cleared or removed\n",
       "   */\n",
       "  function handleClearOutput(event, handle) {\n",
       "    var cell = handle.cell;\n",
       "\n",
       "    var id = cell.output_area._bokeh_element_id;\n",
       "    var server_id = cell.output_area._bokeh_server_id;\n",
       "    // Clean up Bokeh references\n",
       "    if (id !== undefined) {\n",
       "      Bokeh.index[id].model.document.clear();\n",
       "      delete Bokeh.index[id];\n",
       "    }\n",
       "\n",
       "    if (server_id !== undefined) {\n",
       "      // Clean up Bokeh references\n",
       "      var cmd = \"from bokeh.io.state import curstate; print(curstate().uuid_to_server['\" + server_id + \"'].get_sessions()[0].document.roots[0]._id)\";\n",
       "      cell.notebook.kernel.execute(cmd, {\n",
       "        iopub: {\n",
       "          output: function(msg) {\n",
       "            var element_id = msg.content.text.trim();\n",
       "            Bokeh.index[element_id].model.document.clear();\n",
       "            delete Bokeh.index[element_id];\n",
       "          }\n",
       "        }\n",
       "      });\n",
       "      // Destroy server and session\n",
       "      var cmd = \"import bokeh.io.notebook as ion; ion.destroy_server('\" + server_id + \"')\";\n",
       "      cell.notebook.kernel.execute(cmd);\n",
       "    }\n",
       "  }\n",
       "\n",
       "  /**\n",
       "   * Handle when a new output is added\n",
       "   */\n",
       "  function handleAddOutput(event, handle) {\n",
       "    var output_area = handle.output_area;\n",
       "    var output = handle.output;\n",
       "\n",
       "    // limit handleAddOutput to display_data with EXEC_MIME_TYPE content only\n",
       "    if ((output.output_type != \"display_data\") || (!output.data.hasOwnProperty(EXEC_MIME_TYPE))) {\n",
       "      return\n",
       "    }\n",
       "\n",
       "    var toinsert = output_area.element.find(\".\" + CLASS_NAME.split(' ')[0]);\n",
       "\n",
       "    if (output.metadata[EXEC_MIME_TYPE][\"id\"] !== undefined) {\n",
       "      toinsert[0].firstChild.textContent = output.data[JS_MIME_TYPE];\n",
       "      // store reference to embed id on output_area\n",
       "      output_area._bokeh_element_id = output.metadata[EXEC_MIME_TYPE][\"id\"];\n",
       "    }\n",
       "    if (output.metadata[EXEC_MIME_TYPE][\"server_id\"] !== undefined) {\n",
       "      var bk_div = document.createElement(\"div\");\n",
       "      bk_div.innerHTML = output.data[HTML_MIME_TYPE];\n",
       "      var script_attrs = bk_div.children[0].attributes;\n",
       "      for (var i = 0; i < script_attrs.length; i++) {\n",
       "        toinsert[0].firstChild.setAttribute(script_attrs[i].name, script_attrs[i].value);\n",
       "      }\n",
       "      // store reference to server id on output_area\n",
       "      output_area._bokeh_server_id = output.metadata[EXEC_MIME_TYPE][\"server_id\"];\n",
       "    }\n",
       "  }\n",
       "\n",
       "  function register_renderer(events, OutputArea) {\n",
       "\n",
       "    function append_mime(data, metadata, element) {\n",
       "      // create a DOM node to render to\n",
       "      var toinsert = this.create_output_subarea(\n",
       "        metadata,\n",
       "        CLASS_NAME,\n",
       "        EXEC_MIME_TYPE\n",
       "      );\n",
       "      this.keyboard_manager.register_events(toinsert);\n",
       "      // Render to node\n",
       "      var props = {data: data, metadata: metadata[EXEC_MIME_TYPE]};\n",
       "      render(props, toinsert[0]);\n",
       "      element.append(toinsert);\n",
       "      return toinsert\n",
       "    }\n",
       "\n",
       "    /* Handle when an output is cleared or removed */\n",
       "    events.on('clear_output.CodeCell', handleClearOutput);\n",
       "    events.on('delete.Cell', handleClearOutput);\n",
       "\n",
       "    /* Handle when a new output is added */\n",
       "    events.on('output_added.OutputArea', handleAddOutput);\n",
       "\n",
       "    /**\n",
       "     * Register the mime type and append_mime function with output_area\n",
       "     */\n",
       "    OutputArea.prototype.register_mime_type(EXEC_MIME_TYPE, append_mime, {\n",
       "      /* Is output safe? */\n",
       "      safe: true,\n",
       "      /* Index of renderer in `output_area.display_order` */\n",
       "      index: 0\n",
       "    });\n",
       "  }\n",
       "\n",
       "  // register the mime type if in Jupyter Notebook environment and previously unregistered\n",
       "  if (root.Jupyter !== undefined) {\n",
       "    var events = require('base/js/events');\n",
       "    var OutputArea = require('notebook/js/outputarea').OutputArea;\n",
       "\n",
       "    if (OutputArea.prototype.mime_types().indexOf(EXEC_MIME_TYPE) == -1) {\n",
       "      register_renderer(events, OutputArea);\n",
       "    }\n",
       "  }\n",
       "\n",
       "  \n",
       "  if (typeof (root._bokeh_timeout) === \"undefined\" || force === true) {\n",
       "    root._bokeh_timeout = Date.now() + 5000;\n",
       "    root._bokeh_failed_load = false;\n",
       "  }\n",
       "\n",
       "  var NB_LOAD_WARNING = {'data': {'text/html':\n",
       "     \"<div style='background-color: #fdd'>\\n\"+\n",
       "     \"<p>\\n\"+\n",
       "     \"BokehJS does not appear to have successfully loaded. If loading BokehJS from CDN, this \\n\"+\n",
       "     \"may be due to a slow or bad network connection. Possible fixes:\\n\"+\n",
       "     \"</p>\\n\"+\n",
       "     \"<ul>\\n\"+\n",
       "     \"<li>re-rerun `output_notebook()` to attempt to load from CDN again, or</li>\\n\"+\n",
       "     \"<li>use INLINE resources instead, as so:</li>\\n\"+\n",
       "     \"</ul>\\n\"+\n",
       "     \"<code>\\n\"+\n",
       "     \"from bokeh.resources import INLINE\\n\"+\n",
       "     \"output_notebook(resources=INLINE)\\n\"+\n",
       "     \"</code>\\n\"+\n",
       "     \"</div>\"}};\n",
       "\n",
       "  function display_loaded() {\n",
       "    var el = document.getElementById(\"18c2f4cb-29d8-4681-946f-d27128112de0\");\n",
       "    if (el != null) {\n",
       "      el.textContent = \"BokehJS is loading...\";\n",
       "    }\n",
       "    if (root.Bokeh !== undefined) {\n",
       "      if (el != null) {\n",
       "        el.textContent = \"BokehJS \" + root.Bokeh.version + \" successfully loaded.\";\n",
       "      }\n",
       "    } else if (Date.now() < root._bokeh_timeout) {\n",
       "      setTimeout(display_loaded, 100)\n",
       "    }\n",
       "  }\n",
       "\n",
       "\n",
       "  function run_callbacks() {\n",
       "    try {\n",
       "      root._bokeh_onload_callbacks.forEach(function(callback) { callback() });\n",
       "    }\n",
       "    finally {\n",
       "      delete root._bokeh_onload_callbacks\n",
       "    }\n",
       "    console.info(\"Bokeh: all callbacks have finished\");\n",
       "  }\n",
       "\n",
       "  function load_libs(js_urls, callback) {\n",
       "    root._bokeh_onload_callbacks.push(callback);\n",
       "    if (root._bokeh_is_loading > 0) {\n",
       "      console.log(\"Bokeh: BokehJS is being loaded, scheduling callback at\", now());\n",
       "      return null;\n",
       "    }\n",
       "    if (js_urls == null || js_urls.length === 0) {\n",
       "      run_callbacks();\n",
       "      return null;\n",
       "    }\n",
       "    console.log(\"Bokeh: BokehJS not loaded, scheduling load and callback at\", now());\n",
       "    root._bokeh_is_loading = js_urls.length;\n",
       "    for (var i = 0; i < js_urls.length; i++) {\n",
       "      var url = js_urls[i];\n",
       "      var s = document.createElement('script');\n",
       "      s.src = url;\n",
       "      s.async = false;\n",
       "      s.onreadystatechange = s.onload = function() {\n",
       "        root._bokeh_is_loading--;\n",
       "        if (root._bokeh_is_loading === 0) {\n",
       "          console.log(\"Bokeh: all BokehJS libraries loaded\");\n",
       "          run_callbacks()\n",
       "        }\n",
       "      };\n",
       "      s.onerror = function() {\n",
       "        console.warn(\"failed to load library \" + url);\n",
       "      };\n",
       "      console.log(\"Bokeh: injecting script tag for BokehJS library: \", url);\n",
       "      document.getElementsByTagName(\"head\")[0].appendChild(s);\n",
       "    }\n",
       "  };var element = document.getElementById(\"18c2f4cb-29d8-4681-946f-d27128112de0\");\n",
       "  if (element == null) {\n",
       "    console.log(\"Bokeh: ERROR: autoload.js configured with elementid '18c2f4cb-29d8-4681-946f-d27128112de0' but no matching script tag was found. \")\n",
       "    return false;\n",
       "  }\n",
       "\n",
       "  var js_urls = [\"https://cdn.pydata.org/bokeh/release/bokeh-0.12.14.min.js\", \"https://cdn.pydata.org/bokeh/release/bokeh-widgets-0.12.14.min.js\", \"https://cdn.pydata.org/bokeh/release/bokeh-tables-0.12.14.min.js\", \"https://cdn.pydata.org/bokeh/release/bokeh-gl-0.12.14.min.js\"];\n",
       "\n",
       "  var inline_js = [\n",
       "    function(Bokeh) {\n",
       "      Bokeh.set_log_level(\"info\");\n",
       "    },\n",
       "    \n",
       "    function(Bokeh) {\n",
       "      \n",
       "    },\n",
       "    function(Bokeh) {\n",
       "      console.log(\"Bokeh: injecting CSS: https://cdn.pydata.org/bokeh/release/bokeh-0.12.14.min.css\");\n",
       "      Bokeh.embed.inject_css(\"https://cdn.pydata.org/bokeh/release/bokeh-0.12.14.min.css\");\n",
       "      console.log(\"Bokeh: injecting CSS: https://cdn.pydata.org/bokeh/release/bokeh-widgets-0.12.14.min.css\");\n",
       "      Bokeh.embed.inject_css(\"https://cdn.pydata.org/bokeh/release/bokeh-widgets-0.12.14.min.css\");\n",
       "      console.log(\"Bokeh: injecting CSS: https://cdn.pydata.org/bokeh/release/bokeh-tables-0.12.14.min.css\");\n",
       "      Bokeh.embed.inject_css(\"https://cdn.pydata.org/bokeh/release/bokeh-tables-0.12.14.min.css\");\n",
       "    }\n",
       "  ];\n",
       "\n",
       "  function run_inline_js() {\n",
       "    \n",
       "    if ((root.Bokeh !== undefined) || (force === true)) {\n",
       "      for (var i = 0; i < inline_js.length; i++) {\n",
       "        inline_js[i].call(root, root.Bokeh);\n",
       "      }if (force === true) {\n",
       "        display_loaded();\n",
       "      }} else if (Date.now() < root._bokeh_timeout) {\n",
       "      setTimeout(run_inline_js, 100);\n",
       "    } else if (!root._bokeh_failed_load) {\n",
       "      console.log(\"Bokeh: BokehJS failed to load within specified timeout.\");\n",
       "      root._bokeh_failed_load = true;\n",
       "    } else if (force !== true) {\n",
       "      var cell = $(document.getElementById(\"18c2f4cb-29d8-4681-946f-d27128112de0\")).parents('.cell').data().cell;\n",
       "      cell.output_area.append_execute_result(NB_LOAD_WARNING)\n",
       "    }\n",
       "\n",
       "  }\n",
       "\n",
       "  if (root._bokeh_is_loading === 0) {\n",
       "    console.log(\"Bokeh: BokehJS loaded, going straight to plotting\");\n",
       "    run_inline_js();\n",
       "  } else {\n",
       "    load_libs(js_urls, function() {\n",
       "      console.log(\"Bokeh: BokehJS plotting callback run at\", now());\n",
       "      run_inline_js();\n",
       "    });\n",
       "  }\n",
       "}(window));"
      ],
      "application/vnd.bokehjs_load.v0+json": "\n(function(root) {\n  function now() {\n    return new Date();\n  }\n\n  var force = true;\n\n  if (typeof (root._bokeh_onload_callbacks) === \"undefined\" || force === true) {\n    root._bokeh_onload_callbacks = [];\n    root._bokeh_is_loading = undefined;\n  }\n\n  \n\n  \n  if (typeof (root._bokeh_timeout) === \"undefined\" || force === true) {\n    root._bokeh_timeout = Date.now() + 5000;\n    root._bokeh_failed_load = false;\n  }\n\n  var NB_LOAD_WARNING = {'data': {'text/html':\n     \"<div style='background-color: #fdd'>\\n\"+\n     \"<p>\\n\"+\n     \"BokehJS does not appear to have successfully loaded. If loading BokehJS from CDN, this \\n\"+\n     \"may be due to a slow or bad network connection. Possible fixes:\\n\"+\n     \"</p>\\n\"+\n     \"<ul>\\n\"+\n     \"<li>re-rerun `output_notebook()` to attempt to load from CDN again, or</li>\\n\"+\n     \"<li>use INLINE resources instead, as so:</li>\\n\"+\n     \"</ul>\\n\"+\n     \"<code>\\n\"+\n     \"from bokeh.resources import INLINE\\n\"+\n     \"output_notebook(resources=INLINE)\\n\"+\n     \"</code>\\n\"+\n     \"</div>\"}};\n\n  function display_loaded() {\n    var el = document.getElementById(\"18c2f4cb-29d8-4681-946f-d27128112de0\");\n    if (el != null) {\n      el.textContent = \"BokehJS is loading...\";\n    }\n    if (root.Bokeh !== undefined) {\n      if (el != null) {\n        el.textContent = \"BokehJS \" + root.Bokeh.version + \" successfully loaded.\";\n      }\n    } else if (Date.now() < root._bokeh_timeout) {\n      setTimeout(display_loaded, 100)\n    }\n  }\n\n\n  function run_callbacks() {\n    try {\n      root._bokeh_onload_callbacks.forEach(function(callback) { callback() });\n    }\n    finally {\n      delete root._bokeh_onload_callbacks\n    }\n    console.info(\"Bokeh: all callbacks have finished\");\n  }\n\n  function load_libs(js_urls, callback) {\n    root._bokeh_onload_callbacks.push(callback);\n    if (root._bokeh_is_loading > 0) {\n      console.log(\"Bokeh: BokehJS is being loaded, scheduling callback at\", now());\n      return null;\n    }\n    if (js_urls == null || js_urls.length === 0) {\n      run_callbacks();\n      return null;\n    }\n    console.log(\"Bokeh: BokehJS not loaded, scheduling load and callback at\", now());\n    root._bokeh_is_loading = js_urls.length;\n    for (var i = 0; i < js_urls.length; i++) {\n      var url = js_urls[i];\n      var s = document.createElement('script');\n      s.src = url;\n      s.async = false;\n      s.onreadystatechange = s.onload = function() {\n        root._bokeh_is_loading--;\n        if (root._bokeh_is_loading === 0) {\n          console.log(\"Bokeh: all BokehJS libraries loaded\");\n          run_callbacks()\n        }\n      };\n      s.onerror = function() {\n        console.warn(\"failed to load library \" + url);\n      };\n      console.log(\"Bokeh: injecting script tag for BokehJS library: \", url);\n      document.getElementsByTagName(\"head\")[0].appendChild(s);\n    }\n  };var element = document.getElementById(\"18c2f4cb-29d8-4681-946f-d27128112de0\");\n  if (element == null) {\n    console.log(\"Bokeh: ERROR: autoload.js configured with elementid '18c2f4cb-29d8-4681-946f-d27128112de0' but no matching script tag was found. \")\n    return false;\n  }\n\n  var js_urls = [\"https://cdn.pydata.org/bokeh/release/bokeh-0.12.14.min.js\", \"https://cdn.pydata.org/bokeh/release/bokeh-widgets-0.12.14.min.js\", \"https://cdn.pydata.org/bokeh/release/bokeh-tables-0.12.14.min.js\", \"https://cdn.pydata.org/bokeh/release/bokeh-gl-0.12.14.min.js\"];\n\n  var inline_js = [\n    function(Bokeh) {\n      Bokeh.set_log_level(\"info\");\n    },\n    \n    function(Bokeh) {\n      \n    },\n    function(Bokeh) {\n      console.log(\"Bokeh: injecting CSS: https://cdn.pydata.org/bokeh/release/bokeh-0.12.14.min.css\");\n      Bokeh.embed.inject_css(\"https://cdn.pydata.org/bokeh/release/bokeh-0.12.14.min.css\");\n      console.log(\"Bokeh: injecting CSS: https://cdn.pydata.org/bokeh/release/bokeh-widgets-0.12.14.min.css\");\n      Bokeh.embed.inject_css(\"https://cdn.pydata.org/bokeh/release/bokeh-widgets-0.12.14.min.css\");\n      console.log(\"Bokeh: injecting CSS: https://cdn.pydata.org/bokeh/release/bokeh-tables-0.12.14.min.css\");\n      Bokeh.embed.inject_css(\"https://cdn.pydata.org/bokeh/release/bokeh-tables-0.12.14.min.css\");\n    }\n  ];\n\n  function run_inline_js() {\n    \n    if ((root.Bokeh !== undefined) || (force === true)) {\n      for (var i = 0; i < inline_js.length; i++) {\n        inline_js[i].call(root, root.Bokeh);\n      }if (force === true) {\n        display_loaded();\n      }} else if (Date.now() < root._bokeh_timeout) {\n      setTimeout(run_inline_js, 100);\n    } else if (!root._bokeh_failed_load) {\n      console.log(\"Bokeh: BokehJS failed to load within specified timeout.\");\n      root._bokeh_failed_load = true;\n    } else if (force !== true) {\n      var cell = $(document.getElementById(\"18c2f4cb-29d8-4681-946f-d27128112de0\")).parents('.cell').data().cell;\n      cell.output_area.append_execute_result(NB_LOAD_WARNING)\n    }\n\n  }\n\n  if (root._bokeh_is_loading === 0) {\n    console.log(\"Bokeh: BokehJS loaded, going straight to plotting\");\n    run_inline_js();\n  } else {\n    load_libs(js_urls, function() {\n      console.log(\"Bokeh: BokehJS plotting callback run at\", now());\n      run_inline_js();\n    });\n  }\n}(window));"
     },
     "metadata": {},
     "output_type": "display_data"
    },
    {
     "name": "stdout",
     "output_type": "stream",
     "text": [
      "The autoreload extension is already loaded. To reload it, use:\n",
      "  %reload_ext autoreload\n"
     ]
    }
   ],
   "source": [
    "# Add \"beer\" to the PYTHONPATH\n",
    "import sys\n",
    "sys.path.insert(0, '../')\n",
    "\n",
    "import beer\n",
    "import numpy as np\n",
    "import torch\n",
    "\n",
    "# For plotting.\n",
    "from bokeh.io import show, output_notebook\n",
    "from bokeh.plotting import figure, gridplot\n",
    "output_notebook()\n",
    "\n",
    "# Convenience functions for plotting.\n",
    "import plotting\n",
    "\n",
    "%load_ext autoreload\n",
    "%autoreload 2"
   ]
  },
  {
   "cell_type": "markdown",
   "metadata": {},
   "source": [
    "## Data\n",
    "\n",
    "Generate some normally distributed data:"
   ]
  },
  {
   "cell_type": "code",
   "execution_count": 20,
   "metadata": {},
   "outputs": [
    {
     "data": {
      "text/html": [
       "\n",
       "<div class=\"bk-root\">\n",
       "    <div class=\"bk-plotdiv\" id=\"ffd6ff46-58f8-43f4-967d-cc2ca15e4c7e\"></div>\n",
       "</div>"
      ]
     },
     "metadata": {},
     "output_type": "display_data"
    },
    {
     "data": {
      "application/javascript": [
       "(function(root) {\n",
       "  function embed_document(root) {\n",
       "    \n",
       "  var docs_json = {\"29356079-89a5-4bed-ac7c-712aef07c98b\":{\"roots\":{\"references\":[{\"attributes\":{\"data_source\":{\"id\":\"a1e9cca9-92a8-4cb2-a64d-de92a6aa5ce3\",\"type\":\"ColumnDataSource\"},\"glyph\":{\"id\":\"53d1dab4-bc0a-4b1a-92c4-e6ce17a06cf7\",\"type\":\"Circle\"},\"hover_glyph\":null,\"muted_glyph\":null,\"nonselection_glyph\":{\"id\":\"8e825d98-df29-43f5-8b84-14a4314d91b7\",\"type\":\"Circle\"},\"selection_glyph\":null,\"view\":{\"id\":\"8b67ddec-8a6a-49fa-b546-da189a68ccdc\",\"type\":\"CDSView\"}},\"id\":\"bf3b63f1-b2d8-422d-88d5-626b72f81749\",\"type\":\"GlyphRenderer\"},{\"attributes\":{\"formatter\":{\"id\":\"924ea4d6-1021-455b-b337-067ddd1dc9a9\",\"type\":\"BasicTickFormatter\"},\"plot\":{\"id\":\"3cf90cb4-7d44-419b-87a9-55d9ef8a7c7d\",\"subtype\":\"Figure\",\"type\":\"Plot\"},\"ticker\":{\"id\":\"3bc6466f-b8b9-4821-bf5c-2d3710ba22a6\",\"type\":\"BasicTicker\"}},\"id\":\"dd7340d5-5c6f-4ae6-b47e-1ca4b3be6cd7\",\"type\":\"LinearAxis\"},{\"attributes\":{},\"id\":\"3bc6466f-b8b9-4821-bf5c-2d3710ba22a6\",\"type\":\"BasicTicker\"},{\"attributes\":{\"dimension\":1,\"plot\":{\"id\":\"3cf90cb4-7d44-419b-87a9-55d9ef8a7c7d\",\"subtype\":\"Figure\",\"type\":\"Plot\"},\"ticker\":{\"id\":\"3bc6466f-b8b9-4821-bf5c-2d3710ba22a6\",\"type\":\"BasicTicker\"}},\"id\":\"a3385681-2a7e-4088-a9d5-24264404134c\",\"type\":\"Grid\"},{\"attributes\":{\"source\":{\"id\":\"a1e9cca9-92a8-4cb2-a64d-de92a6aa5ce3\",\"type\":\"ColumnDataSource\"}},\"id\":\"8b67ddec-8a6a-49fa-b546-da189a68ccdc\",\"type\":\"CDSView\"},{\"attributes\":{\"fill_alpha\":{\"value\":0.1},\"fill_color\":{\"value\":\"#1f77b4\"},\"line_alpha\":{\"value\":0.1},\"line_color\":{\"value\":\"#1f77b4\"},\"x\":{\"field\":\"x\"},\"y\":{\"field\":\"y\"}},\"id\":\"8e825d98-df29-43f5-8b84-14a4314d91b7\",\"type\":\"Circle\"},{\"attributes\":{},\"id\":\"924ea4d6-1021-455b-b337-067ddd1dc9a9\",\"type\":\"BasicTickFormatter\"},{\"attributes\":{\"bottom_units\":\"screen\",\"fill_alpha\":{\"value\":0.5},\"fill_color\":{\"value\":\"lightgrey\"},\"left_units\":\"screen\",\"level\":\"overlay\",\"line_alpha\":{\"value\":1.0},\"line_color\":{\"value\":\"black\"},\"line_dash\":[4,4],\"line_width\":{\"value\":2},\"plot\":null,\"render_mode\":\"css\",\"right_units\":\"screen\",\"top_units\":\"screen\"},\"id\":\"e9f1f4f9-18e7-4515-9cc7-23bf421688ad\",\"type\":\"BoxAnnotation\"},{\"attributes\":{},\"id\":\"8b5af841-fc7a-40a2-a31f-754433a63467\",\"type\":\"PanTool\"},{\"attributes\":{},\"id\":\"e6ecae58-d7ff-4a08-b8ae-6f120f482bd3\",\"type\":\"HelpTool\"},{\"attributes\":{},\"id\":\"383e5e86-ce73-4357-96ce-15fc9572ec93\",\"type\":\"WheelZoomTool\"},{\"attributes\":{\"overlay\":{\"id\":\"e9f1f4f9-18e7-4515-9cc7-23bf421688ad\",\"type\":\"BoxAnnotation\"}},\"id\":\"a06f9f65-b242-4a0c-9855-918d73e8a85f\",\"type\":\"BoxZoomTool\"},{\"attributes\":{},\"id\":\"50a47b44-fc58-4ddf-8dba-d75d35d3428c\",\"type\":\"SaveTool\"},{\"attributes\":{},\"id\":\"94c037fa-26ce-441e-a27c-f180e1d47df5\",\"type\":\"BasicTickFormatter\"},{\"attributes\":{\"angle\":{\"units\":\"rad\",\"value\":-1.0646978210692295},\"fill_alpha\":{\"value\":0.5},\"fill_color\":{\"value\":\"blue\"},\"height\":{\"units\":\"data\",\"value\":6.3928055080780615},\"line_alpha\":{\"value\":0.5},\"line_color\":{\"value\":\"blue\"},\"width\":{\"units\":\"data\",\"value\":1.7697564058047062},\"x\":{\"value\":-1.5},\"y\":{\"value\":4.0}},\"id\":\"afafd674-845c-4b2f-adec-a8615372edca\",\"type\":\"Ellipse\"},{\"attributes\":{\"callback\":null,\"data\":{}},\"id\":\"7308be33-ea51-46f4-8b7c-dd96b99b670c\",\"type\":\"ColumnDataSource\"},{\"attributes\":{\"source\":{\"id\":\"ee3d14e6-3348-47b8-8960-89fd31120e38\",\"type\":\"ColumnDataSource\"}},\"id\":\"0104320d-c9a9-42c6-aeb0-d7eacedf9d69\",\"type\":\"CDSView\"},{\"attributes\":{\"callback\":null,\"data\":{}},\"id\":\"df6a226d-999f-489d-b788-b8440c85a890\",\"type\":\"ColumnDataSource\"},{\"attributes\":{\"data_source\":{\"id\":\"ee3d14e6-3348-47b8-8960-89fd31120e38\",\"type\":\"ColumnDataSource\"},\"glyph\":{\"id\":\"afafd674-845c-4b2f-adec-a8615372edca\",\"type\":\"Ellipse\"},\"hover_glyph\":null,\"muted_glyph\":null,\"nonselection_glyph\":{\"id\":\"4e90ab8a-4244-410a-9ddd-6a0a82436f75\",\"type\":\"Ellipse\"},\"selection_glyph\":null,\"view\":{\"id\":\"0104320d-c9a9-42c6-aeb0-d7eacedf9d69\",\"type\":\"CDSView\"}},\"id\":\"3cfdc608-41d9-4c43-b24b-2b664ffe264f\",\"type\":\"GlyphRenderer\"},{\"attributes\":{\"below\":[{\"id\":\"63ca0ebd-a827-45e8-9e0e-7fad9f13ac62\",\"type\":\"LinearAxis\"}],\"left\":[{\"id\":\"dd7340d5-5c6f-4ae6-b47e-1ca4b3be6cd7\",\"type\":\"LinearAxis\"}],\"plot_height\":400,\"plot_width\":400,\"renderers\":[{\"id\":\"63ca0ebd-a827-45e8-9e0e-7fad9f13ac62\",\"type\":\"LinearAxis\"},{\"id\":\"94ac69d5-62fc-4bbb-9a8c-bca9206f27f1\",\"type\":\"Grid\"},{\"id\":\"dd7340d5-5c6f-4ae6-b47e-1ca4b3be6cd7\",\"type\":\"LinearAxis\"},{\"id\":\"a3385681-2a7e-4088-a9d5-24264404134c\",\"type\":\"Grid\"},{\"id\":\"e9f1f4f9-18e7-4515-9cc7-23bf421688ad\",\"type\":\"BoxAnnotation\"},{\"id\":\"bf3b63f1-b2d8-422d-88d5-626b72f81749\",\"type\":\"GlyphRenderer\"},{\"id\":\"3cfdc608-41d9-4c43-b24b-2b664ffe264f\",\"type\":\"GlyphRenderer\"},{\"id\":\"96619a8a-fa4e-46ad-ac25-f5c302701f4d\",\"type\":\"GlyphRenderer\"},{\"id\":\"c1edabb9-56fb-49b8-9c73-e2db5392df2f\",\"type\":\"GlyphRenderer\"}],\"title\":{\"id\":\"31484f8a-659b-47c4-98d5-40ae952b1617\",\"type\":\"Title\"},\"toolbar\":{\"id\":\"9960f606-8065-498f-8428-a137c76bfe92\",\"type\":\"Toolbar\"},\"x_range\":{\"id\":\"e9cbd0c5-8c1a-4054-8f45-c54c28755d50\",\"type\":\"Range1d\"},\"x_scale\":{\"id\":\"2ecd241b-202c-4aa9-877f-c2369ca6a51b\",\"type\":\"LinearScale\"},\"y_range\":{\"id\":\"ff135b3b-324e-4d8d-9832-1dcd4aaa26ce\",\"type\":\"Range1d\"},\"y_scale\":{\"id\":\"64a7257a-047a-4097-a146-84962678a81b\",\"type\":\"LinearScale\"}},\"id\":\"3cf90cb4-7d44-419b-87a9-55d9ef8a7c7d\",\"subtype\":\"Figure\",\"type\":\"Plot\"},{\"attributes\":{\"angle\":{\"units\":\"rad\",\"value\":-1.0646978210692295},\"fill_alpha\":{\"value\":0.1},\"fill_color\":{\"value\":\"#1f77b4\"},\"height\":{\"units\":\"data\",\"value\":6.3928055080780615},\"line_alpha\":{\"value\":0.1},\"line_color\":{\"value\":\"#1f77b4\"},\"width\":{\"units\":\"data\",\"value\":1.7697564058047062},\"x\":{\"value\":-1.5},\"y\":{\"value\":4.0}},\"id\":\"4e90ab8a-4244-410a-9ddd-6a0a82436f75\",\"type\":\"Ellipse\"},{\"attributes\":{\"plot\":{\"id\":\"3cf90cb4-7d44-419b-87a9-55d9ef8a7c7d\",\"subtype\":\"Figure\",\"type\":\"Plot\"},\"ticker\":{\"id\":\"0c68672f-78fe-431e-aa02-1c700d25615e\",\"type\":\"BasicTicker\"}},\"id\":\"94ac69d5-62fc-4bbb-9a8c-bca9206f27f1\",\"type\":\"Grid\"},{\"attributes\":{\"fill_color\":{\"value\":\"blue\"},\"line_color\":{\"value\":\"blue\"},\"x\":{\"value\":-1.5},\"y\":{\"value\":4.0}},\"id\":\"430f00b8-1bb7-45d6-8192-aa71b035be63\",\"type\":\"Cross\"},{\"attributes\":{\"callback\":null,\"column_names\":[\"x\",\"y\"],\"data\":{\"x\":{\"__ndarray__\":\"mmr3WQwrAMDbGZZYPWwBwGwM8rpZZu8/bqktwXuTBcAEgujt3TQEwAjee1xMkMo//bfjh3iNCcDVPlgYsEr6v/kWGlpLQfW/Eo2THRwyBsCPjpOL29zuv9w4KLZifwHAdP/DeJ8u8r/84WVkgvkEQMz60dYSQui/9E6S3zwk3j/3326wnWsNwACjulgQl9S/y0lUkUrHCMCInjz++pjcv5z3P6Mw8OU/5oKGRWEO/D8+MmZqgtf1v5MqEHQOFOi/MO8phU+6BsDgaeQjakUQwPBDCuFIafC/4s9iWYXL5L+gBO1C2kS/P/bI/4f5Vva//BM/sWZa9794iiGmYpnvPwBUo4oYY7w/BQAlbJxKA8D3kb5ctKr7v87z/X9JIAjAwMZXPBIvxL+46vi8clvTvyZ+WXBiOei/4hbJCfDiB8Adg1zD7i3zv6td7YMnuQbAEKzWoRYcCsAKR+IOq5zhv5b0BE/RaAPAIkwrHaLT7b/hXQIK43ENwLPWEIyQWu2/VZeBaMu79r+/NJ9GTsQIwMsvxOJZ9/i/2Josa8Y7zj9JnTRygyn3vxgDVHxousi/sJa/h4wz0b+LPMkpFYsNwB5tCtrbYAfALkZ2okkh9L8qet+/oXTtv/ywbiTeT/+/GlVeUnJtBcA6M3NoGCoDwGIc+668cem/1IgwZ61LEMCK2OSXCZkKwCDo8TUrFf+/jZ3AQADeB8A63gWQvTcEwIB8EZZTawTA/Le3I25RE8D02Rm+iafzP0AcI0klFJe/HNDNmWDR3r/+u8H0hWrsv8+sHiT/sum/Paa9bYOr5r90IelYTx32v9XHujFejg7AKNSDcqUE8b/AwTO6UW3IPxeOzoLJxeS/0FDpIiC/4T8Mih302r4BwLYwfw1eIxDAkBr8tXNk3z+ZWWATfPXxv/CXUKyfULe/64bDptEI8r+/e/ej86fvv6WNyZIR0gDA5MguGPn5AsCF2qWvUUMDwODgX5e71v6/Ms03+hG65L+YaWygQCn1v4hZLBf/IAfA22VRif1H+r8SILCx6IkKwOz8qTB1C/e/J8XWJ7YR8L8=\",\"dtype\":\"float64\",\"shape\":[100]},\"y\":{\"__ndarray__\":\"5Ky0YqIqC0BU+ikee8APQAxenUG4lhZAuryFHCH9CkC1CKeVJrQIQKr00siZJhVAUwi8/kyQEEAR1trSDqwQQKVTULVdgRFAdFHJCom8B0C78XjVEeAKQFn7oDpTwBBAdMu8pRZ3FkBKd/iwtPIZQANlp9ypfQxA17TUBaHPE0CMFe+8wV0EQBzoeZmWfRVAJs0UPmZOCkDO0JiKwLsRQACcCr4rohVANB+cautxE0DAulzfCl8QQENbUOXQKBVAhyRjfx+AEECi7KmeStwFQLzWr0dz6BBAqOFiFdg+EEDNfhUAW3gMQOKhfvzfmQ9A+Sn7nkNsEECnG9m8xrQYQKLZitFTYRdAhmo+mji4B0DiHxO0Vs8PQAa7we32sAZAFZahCGxvEkAGJtvqnGMSQJer1fucoRRAkTKiyAHgCUBLNKZgPMoPQNg7Cx+a1QpA3EUSS/hrC0DBANChuaYTQMcclHFlBhNAUkTjFGizE0Cstr9L5fb8P6EQdct+DRJA2oU+fTMzCkAgQvJB1hUMQGx7F/8nag1ArVPEEvzLE0A76dUPac4NQHFCFsVgNBFApfd6EK7ZEUAsFbETB3gKQPYszxx9hQdAzME8B+EFEEACo2PthAQQQF5qBsMK1AVA0AjL2sDYCkAsSt+OCdwNQGV71br6ShNASJjKb/ZkCUBS+x62MtMJQHyQwroAEQxACxMrBMZHB0DIo7cw+p8LQG2NySjUXQ9AkHCDIWyI/j+VDy1aCn0VQEmuDY3DfBNAe0ND9C2iFECDTg1bmk0OQH8P0OWuXRNAkdvim5Q+E0DNS/AQWl0KQBIC5mp0yQtAZTFsYisuEUAyKqSc61ARQH/Qwc3BexBApolzRBoJEUDZIVXZgPMRQFZciUbfFQhAgZny9FneE0DE8qVfjO8QQFD7y3qcLxJA4krvU75ZDkBe3DN178IQQOAYJT69Lw9AdfxiETJqCUBoR7VthPwPQGQpg1R2kQlAmF/QY7j1EEAwi0fk1MQOQFRdgs/tNwpA+q2ymoWbEEDGeUPMBusHQJGN7MzpIhJAG+dNBEYHDkA=\",\"dtype\":\"float64\",\"shape\":[100]}}},\"id\":\"a1e9cca9-92a8-4cb2-a64d-de92a6aa5ce3\",\"type\":\"ColumnDataSource\"},{\"attributes\":{\"fill_alpha\":{\"value\":0.1},\"fill_color\":{\"value\":\"#1f77b4\"},\"line_alpha\":{\"value\":0.1},\"line_color\":{\"value\":\"#1f77b4\"},\"x\":{\"value\":-1.5},\"y\":{\"value\":4.0}},\"id\":\"0fa4f7d2-71ce-4f56-bda7-0d14f1a1667f\",\"type\":\"Cross\"},{\"attributes\":{},\"id\":\"2ecd241b-202c-4aa9-877f-c2369ca6a51b\",\"type\":\"LinearScale\"},{\"attributes\":{\"data_source\":{\"id\":\"df6a226d-999f-489d-b788-b8440c85a890\",\"type\":\"ColumnDataSource\"},\"glyph\":{\"id\":\"430f00b8-1bb7-45d6-8192-aa71b035be63\",\"type\":\"Cross\"},\"hover_glyph\":null,\"muted_glyph\":null,\"nonselection_glyph\":{\"id\":\"0fa4f7d2-71ce-4f56-bda7-0d14f1a1667f\",\"type\":\"Cross\"},\"selection_glyph\":null,\"view\":{\"id\":\"3a1b6d98-8aaf-47e7-9d80-a7b1b25055f8\",\"type\":\"CDSView\"}},\"id\":\"96619a8a-fa4e-46ad-ac25-f5c302701f4d\",\"type\":\"GlyphRenderer\"},{\"attributes\":{\"fill_color\":{\"value\":\"#1f77b4\"},\"line_color\":{\"value\":\"#1f77b4\"},\"x\":{\"field\":\"x\"},\"y\":{\"field\":\"y\"}},\"id\":\"53d1dab4-bc0a-4b1a-92c4-e6ce17a06cf7\",\"type\":\"Circle\"},{\"attributes\":{\"angle\":{\"units\":\"rad\",\"value\":-1.0646978210692295},\"fill_color\":{\"value\":\"blue\"},\"height\":{\"units\":\"data\",\"value\":3.1964027540390307},\"line_color\":{\"value\":\"blue\"},\"width\":{\"units\":\"data\",\"value\":0.8848782029023531},\"x\":{\"value\":-1.5},\"y\":{\"value\":4.0}},\"id\":\"1d73b5dd-64af-4277-9a6a-1f5aa4cebfda\",\"type\":\"Ellipse\"},{\"attributes\":{\"source\":{\"id\":\"df6a226d-999f-489d-b788-b8440c85a890\",\"type\":\"ColumnDataSource\"}},\"id\":\"3a1b6d98-8aaf-47e7-9d80-a7b1b25055f8\",\"type\":\"CDSView\"},{\"attributes\":{\"callback\":null,\"data\":{}},\"id\":\"ee3d14e6-3348-47b8-8960-89fd31120e38\",\"type\":\"ColumnDataSource\"},{\"attributes\":{\"angle\":{\"units\":\"rad\",\"value\":-1.0646978210692295},\"fill_alpha\":{\"value\":0.1},\"fill_color\":{\"value\":\"#1f77b4\"},\"height\":{\"units\":\"data\",\"value\":3.1964027540390307},\"line_alpha\":{\"value\":0.1},\"line_color\":{\"value\":\"#1f77b4\"},\"width\":{\"units\":\"data\",\"value\":0.8848782029023531},\"x\":{\"value\":-1.5},\"y\":{\"value\":4.0}},\"id\":\"8c5aedaa-9030-42b3-a487-ebaecbc1835d\",\"type\":\"Ellipse\"},{\"attributes\":{\"plot\":null,\"text\":\"Data\"},\"id\":\"31484f8a-659b-47c4-98d5-40ae952b1617\",\"type\":\"Title\"},{\"attributes\":{\"callback\":null,\"end\":3.5,\"start\":-6.5},\"id\":\"e9cbd0c5-8c1a-4054-8f45-c54c28755d50\",\"type\":\"Range1d\"},{\"attributes\":{\"active_drag\":\"auto\",\"active_inspect\":\"auto\",\"active_scroll\":\"auto\",\"active_tap\":\"auto\",\"tools\":[{\"id\":\"8b5af841-fc7a-40a2-a31f-754433a63467\",\"type\":\"PanTool\"},{\"id\":\"383e5e86-ce73-4357-96ce-15fc9572ec93\",\"type\":\"WheelZoomTool\"},{\"id\":\"a06f9f65-b242-4a0c-9855-918d73e8a85f\",\"type\":\"BoxZoomTool\"},{\"id\":\"50a47b44-fc58-4ddf-8dba-d75d35d3428c\",\"type\":\"SaveTool\"},{\"id\":\"bfd5f94e-e4cb-4de8-9867-d56118258d7c\",\"type\":\"ResetTool\"},{\"id\":\"e6ecae58-d7ff-4a08-b8ae-6f120f482bd3\",\"type\":\"HelpTool\"}]},\"id\":\"9960f606-8065-498f-8428-a137c76bfe92\",\"type\":\"Toolbar\"},{\"attributes\":{\"data_source\":{\"id\":\"7308be33-ea51-46f4-8b7c-dd96b99b670c\",\"type\":\"ColumnDataSource\"},\"glyph\":{\"id\":\"1d73b5dd-64af-4277-9a6a-1f5aa4cebfda\",\"type\":\"Ellipse\"},\"hover_glyph\":null,\"muted_glyph\":null,\"nonselection_glyph\":{\"id\":\"8c5aedaa-9030-42b3-a487-ebaecbc1835d\",\"type\":\"Ellipse\"},\"selection_glyph\":null,\"view\":{\"id\":\"2a48efe0-aa49-4e12-8c6f-59f7588672ad\",\"type\":\"CDSView\"}},\"id\":\"c1edabb9-56fb-49b8-9c73-e2db5392df2f\",\"type\":\"GlyphRenderer\"},{\"attributes\":{\"callback\":null,\"end\":9.0,\"start\":-1.0},\"id\":\"ff135b3b-324e-4d8d-9832-1dcd4aaa26ce\",\"type\":\"Range1d\"},{\"attributes\":{\"source\":{\"id\":\"7308be33-ea51-46f4-8b7c-dd96b99b670c\",\"type\":\"ColumnDataSource\"}},\"id\":\"2a48efe0-aa49-4e12-8c6f-59f7588672ad\",\"type\":\"CDSView\"},{\"attributes\":{},\"id\":\"64a7257a-047a-4097-a146-84962678a81b\",\"type\":\"LinearScale\"},{\"attributes\":{},\"id\":\"0c68672f-78fe-431e-aa02-1c700d25615e\",\"type\":\"BasicTicker\"},{\"attributes\":{},\"id\":\"bfd5f94e-e4cb-4de8-9867-d56118258d7c\",\"type\":\"ResetTool\"},{\"attributes\":{\"formatter\":{\"id\":\"94c037fa-26ce-441e-a27c-f180e1d47df5\",\"type\":\"BasicTickFormatter\"},\"plot\":{\"id\":\"3cf90cb4-7d44-419b-87a9-55d9ef8a7c7d\",\"subtype\":\"Figure\",\"type\":\"Plot\"},\"ticker\":{\"id\":\"0c68672f-78fe-431e-aa02-1c700d25615e\",\"type\":\"BasicTicker\"}},\"id\":\"63ca0ebd-a827-45e8-9e0e-7fad9f13ac62\",\"type\":\"LinearAxis\"}],\"root_ids\":[\"3cf90cb4-7d44-419b-87a9-55d9ef8a7c7d\"]},\"title\":\"Bokeh Application\",\"version\":\"0.12.14\"}};\n",
       "  var render_items = [{\"docid\":\"29356079-89a5-4bed-ac7c-712aef07c98b\",\"elementid\":\"ffd6ff46-58f8-43f4-967d-cc2ca15e4c7e\",\"modelid\":\"3cf90cb4-7d44-419b-87a9-55d9ef8a7c7d\"}];\n",
       "  root.Bokeh.embed.embed_items_notebook(docs_json, render_items);\n",
       "\n",
       "  }\n",
       "  if (root.Bokeh !== undefined) {\n",
       "    embed_document(root);\n",
       "  } else {\n",
       "    var attempts = 0;\n",
       "    var timer = setInterval(function(root) {\n",
       "      if (root.Bokeh !== undefined) {\n",
       "        embed_document(root);\n",
       "        clearInterval(timer);\n",
       "      }\n",
       "      attempts++;\n",
       "      if (attempts > 100) {\n",
       "        console.log(\"Bokeh: ERROR: Unable to run BokehJS code because BokehJS library is missing\")\n",
       "        clearInterval(timer);\n",
       "      }\n",
       "    }, 10, root)\n",
       "  }\n",
       "})(window);"
      ],
      "application/vnd.bokehjs_exec.v0+json": ""
     },
     "metadata": {
      "application/vnd.bokehjs_exec.v0+json": {
       "id": "3cf90cb4-7d44-419b-87a9-55d9ef8a7c7d"
      }
     },
     "output_type": "display_data"
    }
   ],
   "source": [
    "mean = np.array([-1.5, 4]) \n",
    "cov = np.array([\n",
    "    [2, 1],\n",
    "    [1, .75]\n",
    "])\n",
    "data = np.random.multivariate_normal(mean, cov, size=100)\n",
    "\n",
    "fig = figure(\n",
    "    title='Data',\n",
    "    width=400,\n",
    "    height=400,\n",
    "    x_range=(mean[0] - 5, mean[0] + 5),\n",
    "    y_range=(mean[1] - 5, mean[1] + 5)\n",
    ")\n",
    "fig.circle(data[:, 0], data[:, 1])\n",
    "plotting.plot_normal(fig, mean, cov)\n",
    "\n",
    "show(fig)"
   ]
  },
  {
   "cell_type": "markdown",
   "metadata": {},
   "source": [
    "## Model Creation\n",
    "\n",
    "We create two types of Normal distribution: one diagonal covariance matrix and another one with full covariance matrix."
   ]
  },
  {
   "cell_type": "code",
   "execution_count": 21,
   "metadata": {},
   "outputs": [],
   "source": [
    "normal_diag = beer.NormalDiagonalCovariance.create(torch.ones(2), torch.eye(2), prior_count=1e-3)\n",
    "normal_full = beer.NormalFullCovariance.create(torch.zeros(2), torch.eye(2), prior_count=1e-3)"
   ]
  },
  {
   "cell_type": "markdown",
   "metadata": {},
   "source": [
    "## Variational Bayes Training "
   ]
  },
  {
   "cell_type": "code",
   "execution_count": 22,
   "metadata": {
    "scrolled": false
   },
   "outputs": [
    {
     "name": "stderr",
     "output_type": "stream",
     "text": [
      "/Users/lucasondel/anaconda3/envs/pytorch_src/lib/python3.6/site-packages/bokeh/core/json_encoder.py:80: FutureWarning: Conversion of the second argument of issubdtype from `float` to `np.floating` is deprecated. In future, it will be treated as `np.float64 == np.dtype(float).type`.\n",
      "  elif np.issubdtype(type(obj), np.float):\n"
     ]
    },
    {
     "data": {
      "text/html": [
       "\n",
       "<div class=\"bk-root\">\n",
       "    <div class=\"bk-plotdiv\" id=\"af9d6785-9a7c-48b3-b65f-5b5b4422820e\"></div>\n",
       "</div>"
      ]
     },
     "metadata": {},
     "output_type": "display_data"
    },
    {
     "data": {
      "application/javascript": [
       "(function(root) {\n",
       "  function embed_document(root) {\n",
       "    \n",
       "  var docs_json = {\"fa2199e4-4657-4050-9423-921b02df84b4\":{\"roots\":{\"references\":[{\"attributes\":{\"callback\":null,\"data\":{}},\"id\":\"dc78b07a-1c5f-4fdb-9fac-bb9a7e0a081a\",\"type\":\"ColumnDataSource\"},{\"attributes\":{\"data_source\":{\"id\":\"3403be16-25d6-478d-88df-c9162e5d0089\",\"type\":\"ColumnDataSource\"},\"glyph\":{\"id\":\"790f65da-30f8-4f29-879d-072a4ce28c24\",\"type\":\"Circle\"},\"hover_glyph\":null,\"muted_glyph\":null,\"nonselection_glyph\":{\"id\":\"4830f76f-be16-413d-b75f-12a635e7e87b\",\"type\":\"Circle\"},\"selection_glyph\":null,\"view\":{\"id\":\"2e0746d5-d145-4326-a45c-80e8731bfd38\",\"type\":\"CDSView\"}},\"id\":\"66fa113b-61e3-4d5b-8ee1-671b5846a7f1\",\"type\":\"GlyphRenderer\"},{\"attributes\":{\"angle\":{\"units\":\"rad\",\"value\":-1.0617872476577759},\"fill_alpha\":{\"value\":0.5},\"fill_color\":{\"value\":\"green\"},\"height\":{\"units\":\"data\",\"value\":3.1710684299468994},\"line_alpha\":{\"value\":0.5},\"line_color\":{\"value\":\"green\"},\"width\":{\"units\":\"data\",\"value\":0.937878429889679},\"x\":{\"value\":-1.483516812324524},\"y\":{\"value\":4.035092830657959}},\"id\":\"3849ccde-2b99-4798-9587-75536bdb1505\",\"type\":\"Ellipse\"},{\"attributes\":{\"source\":{\"id\":\"3403be16-25d6-478d-88df-c9162e5d0089\",\"type\":\"ColumnDataSource\"}},\"id\":\"2e0746d5-d145-4326-a45c-80e8731bfd38\",\"type\":\"CDSView\"},{\"attributes\":{\"data_source\":{\"id\":\"3af5717a-a504-4194-8117-467bd79bd917\",\"type\":\"ColumnDataSource\"},\"glyph\":{\"id\":\"9a2897f8-366e-465f-aca0-eb31dd373a76\",\"type\":\"Cross\"},\"hover_glyph\":null,\"muted_glyph\":null,\"nonselection_glyph\":{\"id\":\"d0add77c-b9b9-42c7-9253-1a92820cb8c9\",\"type\":\"Cross\"},\"selection_glyph\":null,\"view\":{\"id\":\"183f18cb-d874-41df-a94c-a9404c8e5b96\",\"type\":\"CDSView\"}},\"id\":\"58f28c53-347a-4d9c-86c1-1a18f1c7a484\",\"type\":\"GlyphRenderer\"},{\"attributes\":{},\"id\":\"49d61725-db60-4a6a-97e4-3b07b4bef401\",\"type\":\"LinearScale\"},{\"attributes\":{\"fill_alpha\":{\"value\":0.1},\"fill_color\":{\"value\":\"#1f77b4\"},\"line_alpha\":{\"value\":0.1},\"line_color\":{\"value\":\"#1f77b4\"},\"x\":{\"field\":\"x\"},\"y\":{\"field\":\"y\"}},\"id\":\"4830f76f-be16-413d-b75f-12a635e7e87b\",\"type\":\"Circle\"},{\"attributes\":{\"source\":{\"id\":\"3af5717a-a504-4194-8117-467bd79bd917\",\"type\":\"ColumnDataSource\"}},\"id\":\"183f18cb-d874-41df-a94c-a9404c8e5b96\",\"type\":\"CDSView\"},{\"attributes\":{},\"id\":\"1f103a63-c0ab-4a04-9911-30dc733f7ee8\",\"type\":\"BasicTickFormatter\"},{\"attributes\":{\"bottom_units\":\"screen\",\"fill_alpha\":{\"value\":0.5},\"fill_color\":{\"value\":\"lightgrey\"},\"left_units\":\"screen\",\"level\":\"overlay\",\"line_alpha\":{\"value\":1.0},\"line_color\":{\"value\":\"black\"},\"line_dash\":[4,4],\"line_width\":{\"value\":2},\"plot\":null,\"render_mode\":\"css\",\"right_units\":\"screen\",\"top_units\":\"screen\"},\"id\":\"de5d80e0-4bea-45f4-825b-e9c722630bae\",\"type\":\"BoxAnnotation\"},{\"attributes\":{\"angle\":{\"units\":\"rad\",\"value\":-1.0617872476577759},\"fill_alpha\":{\"value\":0.1},\"fill_color\":{\"value\":\"#1f77b4\"},\"height\":{\"units\":\"data\",\"value\":3.1710684299468994},\"line_alpha\":{\"value\":0.1},\"line_color\":{\"value\":\"#1f77b4\"},\"width\":{\"units\":\"data\",\"value\":0.937878429889679},\"x\":{\"value\":-1.483516812324524},\"y\":{\"value\":4.035092830657959}},\"id\":\"827c2dc4-1eb8-487e-a4f8-98b813f36954\",\"type\":\"Ellipse\"},{\"attributes\":{},\"id\":\"1ac042c2-af33-4576-8252-37be7cd4b4bb\",\"type\":\"PanTool\"},{\"attributes\":{\"data_source\":{\"id\":\"dc78b07a-1c5f-4fdb-9fac-bb9a7e0a081a\",\"type\":\"ColumnDataSource\"},\"glyph\":{\"id\":\"3849ccde-2b99-4798-9587-75536bdb1505\",\"type\":\"Ellipse\"},\"hover_glyph\":null,\"muted_glyph\":null,\"nonselection_glyph\":{\"id\":\"827c2dc4-1eb8-487e-a4f8-98b813f36954\",\"type\":\"Ellipse\"},\"selection_glyph\":null,\"view\":{\"id\":\"18e67dd3-8d80-4bb3-a578-64e91e2fc052\",\"type\":\"CDSView\"}},\"id\":\"cda4b180-8877-4ded-83ee-87169abbe96e\",\"type\":\"GlyphRenderer\"},{\"attributes\":{\"active_drag\":\"auto\",\"active_inspect\":\"auto\",\"active_scroll\":\"auto\",\"active_tap\":\"auto\",\"tools\":[{\"id\":\"1ac042c2-af33-4576-8252-37be7cd4b4bb\",\"type\":\"PanTool\"},{\"id\":\"53a811db-5a40-4508-b51c-84c29087ecad\",\"type\":\"WheelZoomTool\"},{\"id\":\"4f99d666-ca31-4451-952a-05828dbb43bc\",\"type\":\"BoxZoomTool\"},{\"id\":\"046a0af2-a22c-4a6f-82c1-44e0952bf620\",\"type\":\"SaveTool\"},{\"id\":\"ea9b5073-64c9-42e5-84a5-7ac93d88c06e\",\"type\":\"ResetTool\"},{\"id\":\"af2d4f79-2bb1-4270-a5d2-a59531fc1d57\",\"type\":\"HelpTool\"}]},\"id\":\"76c4d1ae-59cc-4b81-89b9-a5580632fbc3\",\"type\":\"Toolbar\"},{\"attributes\":{\"angle\":{\"units\":\"rad\",\"value\":-1.5707963267948966},\"fill_alpha\":{\"value\":0.25},\"fill_color\":{\"value\":\"red\"},\"height\":{\"units\":\"data\",\"value\":5.640657424926758},\"line_alpha\":{\"value\":0.25},\"line_color\":{\"value\":\"red\"},\"width\":{\"units\":\"data\",\"value\":3.4868545532226562},\"x\":{\"value\":-1.4835071563720703},\"y\":{\"value\":4.035104274749756}},\"id\":\"2ecafff1-a0e6-4fcd-b987-cb31cea900b6\",\"type\":\"Ellipse\"},{\"attributes\":{},\"id\":\"53a811db-5a40-4508-b51c-84c29087ecad\",\"type\":\"WheelZoomTool\"},{\"attributes\":{\"source\":{\"id\":\"dc78b07a-1c5f-4fdb-9fac-bb9a7e0a081a\",\"type\":\"ColumnDataSource\"}},\"id\":\"18e67dd3-8d80-4bb3-a578-64e91e2fc052\",\"type\":\"CDSView\"},{\"attributes\":{\"overlay\":{\"id\":\"de5d80e0-4bea-45f4-825b-e9c722630bae\",\"type\":\"BoxAnnotation\"}},\"id\":\"4f99d666-ca31-4451-952a-05828dbb43bc\",\"type\":\"BoxZoomTool\"},{\"attributes\":{},\"id\":\"046a0af2-a22c-4a6f-82c1-44e0952bf620\",\"type\":\"SaveTool\"},{\"attributes\":{},\"id\":\"ea9b5073-64c9-42e5-84a5-7ac93d88c06e\",\"type\":\"ResetTool\"},{\"attributes\":{},\"id\":\"af2d4f79-2bb1-4270-a5d2-a59531fc1d57\",\"type\":\"HelpTool\"},{\"attributes\":{\"fill_alpha\":{\"value\":0.5},\"fill_color\":{\"value\":\"green\"},\"line_alpha\":{\"value\":0.5},\"line_color\":{\"value\":\"green\"},\"x\":{\"value\":-1.483516812324524},\"y\":{\"value\":4.035092830657959}},\"id\":\"9a2897f8-366e-465f-aca0-eb31dd373a76\",\"type\":\"Cross\"},{\"attributes\":{\"callback\":null,\"data\":{}},\"id\":\"bcb97ba6-9c9e-4cf7-bd29-24272edff18f\",\"type\":\"ColumnDataSource\"},{\"attributes\":{\"callback\":null,\"column_names\":[\"x\",\"y\"],\"data\":{\"x\":{\"__ndarray__\":\"mmr3WQwrAMDbGZZYPWwBwGwM8rpZZu8/bqktwXuTBcAEgujt3TQEwAjee1xMkMo//bfjh3iNCcDVPlgYsEr6v/kWGlpLQfW/Eo2THRwyBsCPjpOL29zuv9w4KLZifwHAdP/DeJ8u8r/84WVkgvkEQMz60dYSQui/9E6S3zwk3j/3326wnWsNwACjulgQl9S/y0lUkUrHCMCInjz++pjcv5z3P6Mw8OU/5oKGRWEO/D8+MmZqgtf1v5MqEHQOFOi/MO8phU+6BsDgaeQjakUQwPBDCuFIafC/4s9iWYXL5L+gBO1C2kS/P/bI/4f5Vva//BM/sWZa9794iiGmYpnvPwBUo4oYY7w/BQAlbJxKA8D3kb5ctKr7v87z/X9JIAjAwMZXPBIvxL+46vi8clvTvyZ+WXBiOei/4hbJCfDiB8Adg1zD7i3zv6td7YMnuQbAEKzWoRYcCsAKR+IOq5zhv5b0BE/RaAPAIkwrHaLT7b/hXQIK43ENwLPWEIyQWu2/VZeBaMu79r+/NJ9GTsQIwMsvxOJZ9/i/2Josa8Y7zj9JnTRygyn3vxgDVHxousi/sJa/h4wz0b+LPMkpFYsNwB5tCtrbYAfALkZ2okkh9L8qet+/oXTtv/ywbiTeT/+/GlVeUnJtBcA6M3NoGCoDwGIc+668cem/1IgwZ61LEMCK2OSXCZkKwCDo8TUrFf+/jZ3AQADeB8A63gWQvTcEwIB8EZZTawTA/Le3I25RE8D02Rm+iafzP0AcI0klFJe/HNDNmWDR3r/+u8H0hWrsv8+sHiT/sum/Paa9bYOr5r90IelYTx32v9XHujFejg7AKNSDcqUE8b/AwTO6UW3IPxeOzoLJxeS/0FDpIiC/4T8Mih302r4BwLYwfw1eIxDAkBr8tXNk3z+ZWWATfPXxv/CXUKyfULe/64bDptEI8r+/e/ej86fvv6WNyZIR0gDA5MguGPn5AsCF2qWvUUMDwODgX5e71v6/Ms03+hG65L+YaWygQCn1v4hZLBf/IAfA22VRif1H+r8SILCx6IkKwOz8qTB1C/e/J8XWJ7YR8L8=\",\"dtype\":\"float64\",\"shape\":[100]},\"y\":{\"__ndarray__\":\"5Ky0YqIqC0BU+ikee8APQAxenUG4lhZAuryFHCH9CkC1CKeVJrQIQKr00siZJhVAUwi8/kyQEEAR1trSDqwQQKVTULVdgRFAdFHJCom8B0C78XjVEeAKQFn7oDpTwBBAdMu8pRZ3FkBKd/iwtPIZQANlp9ypfQxA17TUBaHPE0CMFe+8wV0EQBzoeZmWfRVAJs0UPmZOCkDO0JiKwLsRQACcCr4rohVANB+cautxE0DAulzfCl8QQENbUOXQKBVAhyRjfx+AEECi7KmeStwFQLzWr0dz6BBAqOFiFdg+EEDNfhUAW3gMQOKhfvzfmQ9A+Sn7nkNsEECnG9m8xrQYQKLZitFTYRdAhmo+mji4B0DiHxO0Vs8PQAa7we32sAZAFZahCGxvEkAGJtvqnGMSQJer1fucoRRAkTKiyAHgCUBLNKZgPMoPQNg7Cx+a1QpA3EUSS/hrC0DBANChuaYTQMcclHFlBhNAUkTjFGizE0Cstr9L5fb8P6EQdct+DRJA2oU+fTMzCkAgQvJB1hUMQGx7F/8nag1ArVPEEvzLE0A76dUPac4NQHFCFsVgNBFApfd6EK7ZEUAsFbETB3gKQPYszxx9hQdAzME8B+EFEEACo2PthAQQQF5qBsMK1AVA0AjL2sDYCkAsSt+OCdwNQGV71br6ShNASJjKb/ZkCUBS+x62MtMJQHyQwroAEQxACxMrBMZHB0DIo7cw+p8LQG2NySjUXQ9AkHCDIWyI/j+VDy1aCn0VQEmuDY3DfBNAe0ND9C2iFECDTg1bmk0OQH8P0OWuXRNAkdvim5Q+E0DNS/AQWl0KQBIC5mp0yQtAZTFsYisuEUAyKqSc61ARQH/Qwc3BexBApolzRBoJEUDZIVXZgPMRQFZciUbfFQhAgZny9FneE0DE8qVfjO8QQFD7y3qcLxJA4krvU75ZDkBe3DN178IQQOAYJT69Lw9AdfxiETJqCUBoR7VthPwPQGQpg1R2kQlAmF/QY7j1EEAwi0fk1MQOQFRdgs/tNwpA+q2ymoWbEEDGeUPMBusHQJGN7MzpIhJAG+dNBEYHDkA=\",\"dtype\":\"float64\",\"shape\":[100]}}},\"id\":\"3403be16-25d6-478d-88df-c9162e5d0089\",\"type\":\"ColumnDataSource\"},{\"attributes\":{},\"id\":\"c2c81e98-b828-4f0c-a2fa-c28f8ed6f6ac\",\"type\":\"BasicTickFormatter\"},{\"attributes\":{\"angle\":{\"units\":\"rad\",\"value\":-1.5707963267948966},\"fill_alpha\":{\"value\":0.1},\"fill_color\":{\"value\":\"#1f77b4\"},\"height\":{\"units\":\"data\",\"value\":5.640657424926758},\"line_alpha\":{\"value\":0.1},\"line_color\":{\"value\":\"#1f77b4\"},\"width\":{\"units\":\"data\",\"value\":3.4868545532226562},\"x\":{\"value\":-1.4835071563720703},\"y\":{\"value\":4.035104274749756}},\"id\":\"344e0139-3bfe-413f-8c0f-0bd0acd1938f\",\"type\":\"Ellipse\"},{\"attributes\":{\"callback\":null,\"data\":{}},\"id\":\"fde43238-5769-49ba-a31c-848f333f0543\",\"type\":\"ColumnDataSource\"},{\"attributes\":{\"source\":{\"id\":\"bcb97ba6-9c9e-4cf7-bd29-24272edff18f\",\"type\":\"ColumnDataSource\"}},\"id\":\"486a9c1e-1f8d-4b8f-83d3-03410f914315\",\"type\":\"CDSView\"},{\"attributes\":{\"callback\":null,\"data\":{}},\"id\":\"21c5f167-509f-4c3e-87cd-8e243c00abf4\",\"type\":\"ColumnDataSource\"},{\"attributes\":{\"fill_alpha\":{\"value\":0.5},\"fill_color\":{\"value\":\"red\"},\"line_alpha\":{\"value\":0.5},\"line_color\":{\"value\":\"red\"},\"x\":{\"value\":-1.4835071563720703},\"y\":{\"value\":4.035104274749756}},\"id\":\"1bf819be-fba8-4d7b-bda3-8e9754ce1ba7\",\"type\":\"Cross\"},{\"attributes\":{\"callback\":null,\"end\":9.0,\"start\":-1.0},\"id\":\"21a9fbb5-ce6e-4d58-abfe-79805a3db3c3\",\"type\":\"Range1d\"},{\"attributes\":{\"source\":{\"id\":\"ce0b6663-7014-4804-8506-f44ccbf11b0e\",\"type\":\"ColumnDataSource\"}},\"id\":\"73ed021c-2592-456c-aa94-2bca65dcbea9\",\"type\":\"CDSView\"},{\"attributes\":{\"data_source\":{\"id\":\"ce0b6663-7014-4804-8506-f44ccbf11b0e\",\"type\":\"ColumnDataSource\"},\"glyph\":{\"id\":\"2ecafff1-a0e6-4fcd-b987-cb31cea900b6\",\"type\":\"Ellipse\"},\"hover_glyph\":null,\"muted_glyph\":null,\"nonselection_glyph\":{\"id\":\"344e0139-3bfe-413f-8c0f-0bd0acd1938f\",\"type\":\"Ellipse\"},\"selection_glyph\":null,\"view\":{\"id\":\"73ed021c-2592-456c-aa94-2bca65dcbea9\",\"type\":\"CDSView\"}},\"id\":\"2512ad08-ae1d-427f-9efe-cacb82c4f34d\",\"type\":\"GlyphRenderer\"},{\"attributes\":{\"fill_alpha\":{\"value\":0.1},\"fill_color\":{\"value\":\"#1f77b4\"},\"line_alpha\":{\"value\":0.1},\"line_color\":{\"value\":\"#1f77b4\"},\"x\":{\"value\":-1.4835071563720703},\"y\":{\"value\":4.035104274749756}},\"id\":\"35a74e82-7b20-46ec-aeb2-e4abc240ed03\",\"type\":\"Cross\"},{\"attributes\":{\"data_source\":{\"id\":\"fde43238-5769-49ba-a31c-848f333f0543\",\"type\":\"ColumnDataSource\"},\"glyph\":{\"id\":\"1bf819be-fba8-4d7b-bda3-8e9754ce1ba7\",\"type\":\"Cross\"},\"hover_glyph\":null,\"muted_glyph\":null,\"nonselection_glyph\":{\"id\":\"35a74e82-7b20-46ec-aeb2-e4abc240ed03\",\"type\":\"Cross\"},\"selection_glyph\":null,\"view\":{\"id\":\"fbd8033a-e1a5-4005-99a8-6c29ee9ceff0\",\"type\":\"CDSView\"}},\"id\":\"d34efd81-d6e3-4fed-9895-2c7540b9ea3f\",\"type\":\"GlyphRenderer\"},{\"attributes\":{\"angle\":{\"units\":\"rad\",\"value\":-1.5707963267948966},\"fill_alpha\":{\"value\":0.5},\"fill_color\":{\"value\":\"red\"},\"height\":{\"units\":\"data\",\"value\":2.820328712463379},\"line_alpha\":{\"value\":0.5},\"line_color\":{\"value\":\"red\"},\"width\":{\"units\":\"data\",\"value\":1.7434272766113281},\"x\":{\"value\":-1.4835071563720703},\"y\":{\"value\":4.035104274749756}},\"id\":\"2f46f56c-ac45-4c00-855c-37cef30f97a5\",\"type\":\"Ellipse\"},{\"attributes\":{\"below\":[{\"id\":\"2d674ac4-5a9c-4bac-ba49-497c2685629a\",\"type\":\"LinearAxis\"}],\"left\":[{\"id\":\"84e48c36-ab68-4133-a6e6-e262d74eb03a\",\"type\":\"LinearAxis\"}],\"plot_height\":400,\"plot_width\":400,\"renderers\":[{\"id\":\"2d674ac4-5a9c-4bac-ba49-497c2685629a\",\"type\":\"LinearAxis\"},{\"id\":\"04a1f6e5-0b09-4cfc-b33d-eec4efa1a8cd\",\"type\":\"Grid\"},{\"id\":\"84e48c36-ab68-4133-a6e6-e262d74eb03a\",\"type\":\"LinearAxis\"},{\"id\":\"00dab3b8-867c-44dd-bc09-7eda1cf1c82a\",\"type\":\"Grid\"},{\"id\":\"de5d80e0-4bea-45f4-825b-e9c722630bae\",\"type\":\"BoxAnnotation\"},{\"id\":\"66fa113b-61e3-4d5b-8ee1-671b5846a7f1\",\"type\":\"GlyphRenderer\"},{\"id\":\"2512ad08-ae1d-427f-9efe-cacb82c4f34d\",\"type\":\"GlyphRenderer\"},{\"id\":\"d34efd81-d6e3-4fed-9895-2c7540b9ea3f\",\"type\":\"GlyphRenderer\"},{\"id\":\"24afe757-642e-4838-94e3-34347ff463e1\",\"type\":\"GlyphRenderer\"},{\"id\":\"64803c15-27e5-4d7d-ac8a-777fffcd3ea0\",\"type\":\"GlyphRenderer\"},{\"id\":\"58f28c53-347a-4d9c-86c1-1a18f1c7a484\",\"type\":\"GlyphRenderer\"},{\"id\":\"cda4b180-8877-4ded-83ee-87169abbe96e\",\"type\":\"GlyphRenderer\"}],\"title\":{\"id\":\"c2f60e2f-dc5a-4179-b738-37c479add726\",\"type\":\"Title\"},\"toolbar\":{\"id\":\"76c4d1ae-59cc-4b81-89b9-a5580632fbc3\",\"type\":\"Toolbar\"},\"x_range\":{\"id\":\"8a5fb00c-3e5e-484c-b49b-e4ad88e4f5f7\",\"type\":\"Range1d\"},\"x_scale\":{\"id\":\"0925e620-5d41-49b6-bace-ac8bb98229d5\",\"type\":\"LinearScale\"},\"y_range\":{\"id\":\"21a9fbb5-ce6e-4d58-abfe-79805a3db3c3\",\"type\":\"Range1d\"},\"y_scale\":{\"id\":\"49d61725-db60-4a6a-97e4-3b07b4bef401\",\"type\":\"LinearScale\"}},\"id\":\"aab26c92-9a65-4d27-ba70-ae10de283805\",\"subtype\":\"Figure\",\"type\":\"Plot\"},{\"attributes\":{},\"id\":\"647d19d6-23d8-43a3-9f84-41fbb08b4e89\",\"type\":\"BasicTicker\"},{\"attributes\":{\"source\":{\"id\":\"fde43238-5769-49ba-a31c-848f333f0543\",\"type\":\"ColumnDataSource\"}},\"id\":\"fbd8033a-e1a5-4005-99a8-6c29ee9ceff0\",\"type\":\"CDSView\"},{\"attributes\":{},\"id\":\"0925e620-5d41-49b6-bace-ac8bb98229d5\",\"type\":\"LinearScale\"},{\"attributes\":{\"angle\":{\"units\":\"rad\",\"value\":-1.5707963267948966},\"fill_alpha\":{\"value\":0.1},\"fill_color\":{\"value\":\"#1f77b4\"},\"height\":{\"units\":\"data\",\"value\":2.820328712463379},\"line_alpha\":{\"value\":0.1},\"line_color\":{\"value\":\"#1f77b4\"},\"width\":{\"units\":\"data\",\"value\":1.7434272766113281},\"x\":{\"value\":-1.4835071563720703},\"y\":{\"value\":4.035104274749756}},\"id\":\"bd77319d-fd0c-4489-9a07-5451867c30a8\",\"type\":\"Ellipse\"},{\"attributes\":{\"fill_color\":{\"value\":\"#1f77b4\"},\"line_color\":{\"value\":\"#1f77b4\"},\"x\":{\"field\":\"x\"},\"y\":{\"field\":\"y\"}},\"id\":\"790f65da-30f8-4f29-879d-072a4ce28c24\",\"type\":\"Circle\"},{\"attributes\":{\"formatter\":{\"id\":\"c2c81e98-b828-4f0c-a2fa-c28f8ed6f6ac\",\"type\":\"BasicTickFormatter\"},\"plot\":{\"id\":\"aab26c92-9a65-4d27-ba70-ae10de283805\",\"subtype\":\"Figure\",\"type\":\"Plot\"},\"ticker\":{\"id\":\"50efd44c-2c55-4272-8c07-7e11d65bef6e\",\"type\":\"BasicTicker\"}},\"id\":\"2d674ac4-5a9c-4bac-ba49-497c2685629a\",\"type\":\"LinearAxis\"},{\"attributes\":{\"angle\":{\"units\":\"rad\",\"value\":-1.0617872476577759},\"fill_alpha\":{\"value\":0.25},\"fill_color\":{\"value\":\"green\"},\"height\":{\"units\":\"data\",\"value\":6.342136859893799},\"line_alpha\":{\"value\":0.25},\"line_color\":{\"value\":\"green\"},\"width\":{\"units\":\"data\",\"value\":1.875756859779358},\"x\":{\"value\":-1.483516812324524},\"y\":{\"value\":4.035092830657959}},\"id\":\"4e82fbd9-9e1d-46f7-af2f-913c443ccb86\",\"type\":\"Ellipse\"},{\"attributes\":{\"data_source\":{\"id\":\"21c5f167-509f-4c3e-87cd-8e243c00abf4\",\"type\":\"ColumnDataSource\"},\"glyph\":{\"id\":\"2f46f56c-ac45-4c00-855c-37cef30f97a5\",\"type\":\"Ellipse\"},\"hover_glyph\":null,\"muted_glyph\":null,\"nonselection_glyph\":{\"id\":\"bd77319d-fd0c-4489-9a07-5451867c30a8\",\"type\":\"Ellipse\"},\"selection_glyph\":null,\"view\":{\"id\":\"6161471f-2036-4f4a-a62e-67ae18f83cb8\",\"type\":\"CDSView\"}},\"id\":\"24afe757-642e-4838-94e3-34347ff463e1\",\"type\":\"GlyphRenderer\"},{\"attributes\":{\"source\":{\"id\":\"21c5f167-509f-4c3e-87cd-8e243c00abf4\",\"type\":\"ColumnDataSource\"}},\"id\":\"6161471f-2036-4f4a-a62e-67ae18f83cb8\",\"type\":\"CDSView\"},{\"attributes\":{\"plot\":{\"id\":\"aab26c92-9a65-4d27-ba70-ae10de283805\",\"subtype\":\"Figure\",\"type\":\"Plot\"},\"ticker\":{\"id\":\"50efd44c-2c55-4272-8c07-7e11d65bef6e\",\"type\":\"BasicTicker\"}},\"id\":\"04a1f6e5-0b09-4cfc-b33d-eec4efa1a8cd\",\"type\":\"Grid\"},{\"attributes\":{\"callback\":null,\"data\":{}},\"id\":\"3af5717a-a504-4194-8117-467bd79bd917\",\"type\":\"ColumnDataSource\"},{\"attributes\":{\"angle\":{\"units\":\"rad\",\"value\":-1.0617872476577759},\"fill_alpha\":{\"value\":0.1},\"fill_color\":{\"value\":\"#1f77b4\"},\"height\":{\"units\":\"data\",\"value\":6.342136859893799},\"line_alpha\":{\"value\":0.1},\"line_color\":{\"value\":\"#1f77b4\"},\"width\":{\"units\":\"data\",\"value\":1.875756859779358},\"x\":{\"value\":-1.483516812324524},\"y\":{\"value\":4.035092830657959}},\"id\":\"bbeedf1c-1d04-4521-a68c-382cb860441d\",\"type\":\"Ellipse\"},{\"attributes\":{\"callback\":null,\"data\":{}},\"id\":\"ce0b6663-7014-4804-8506-f44ccbf11b0e\",\"type\":\"ColumnDataSource\"},{\"attributes\":{\"data_source\":{\"id\":\"bcb97ba6-9c9e-4cf7-bd29-24272edff18f\",\"type\":\"ColumnDataSource\"},\"glyph\":{\"id\":\"4e82fbd9-9e1d-46f7-af2f-913c443ccb86\",\"type\":\"Ellipse\"},\"hover_glyph\":null,\"muted_glyph\":null,\"nonselection_glyph\":{\"id\":\"bbeedf1c-1d04-4521-a68c-382cb860441d\",\"type\":\"Ellipse\"},\"selection_glyph\":null,\"view\":{\"id\":\"486a9c1e-1f8d-4b8f-83d3-03410f914315\",\"type\":\"CDSView\"}},\"id\":\"64803c15-27e5-4d7d-ac8a-777fffcd3ea0\",\"type\":\"GlyphRenderer\"},{\"attributes\":{\"plot\":null,\"text\":\"Initial model\"},\"id\":\"c2f60e2f-dc5a-4179-b738-37c479add726\",\"type\":\"Title\"},{\"attributes\":{\"formatter\":{\"id\":\"1f103a63-c0ab-4a04-9911-30dc733f7ee8\",\"type\":\"BasicTickFormatter\"},\"plot\":{\"id\":\"aab26c92-9a65-4d27-ba70-ae10de283805\",\"subtype\":\"Figure\",\"type\":\"Plot\"},\"ticker\":{\"id\":\"647d19d6-23d8-43a3-9f84-41fbb08b4e89\",\"type\":\"BasicTicker\"}},\"id\":\"84e48c36-ab68-4133-a6e6-e262d74eb03a\",\"type\":\"LinearAxis\"},{\"attributes\":{},\"id\":\"50efd44c-2c55-4272-8c07-7e11d65bef6e\",\"type\":\"BasicTicker\"},{\"attributes\":{\"dimension\":1,\"plot\":{\"id\":\"aab26c92-9a65-4d27-ba70-ae10de283805\",\"subtype\":\"Figure\",\"type\":\"Plot\"},\"ticker\":{\"id\":\"647d19d6-23d8-43a3-9f84-41fbb08b4e89\",\"type\":\"BasicTicker\"}},\"id\":\"00dab3b8-867c-44dd-bc09-7eda1cf1c82a\",\"type\":\"Grid\"},{\"attributes\":{\"callback\":null,\"end\":3.5,\"start\":-6.5},\"id\":\"8a5fb00c-3e5e-484c-b49b-e4ad88e4f5f7\",\"type\":\"Range1d\"},{\"attributes\":{\"fill_alpha\":{\"value\":0.1},\"fill_color\":{\"value\":\"#1f77b4\"},\"line_alpha\":{\"value\":0.1},\"line_color\":{\"value\":\"#1f77b4\"},\"x\":{\"value\":-1.483516812324524},\"y\":{\"value\":4.035092830657959}},\"id\":\"d0add77c-b9b9-42c7-9253-1a92820cb8c9\",\"type\":\"Cross\"}],\"root_ids\":[\"aab26c92-9a65-4d27-ba70-ae10de283805\"]},\"title\":\"Bokeh Application\",\"version\":\"0.12.14\"}};\n",
       "  var render_items = [{\"docid\":\"fa2199e4-4657-4050-9423-921b02df84b4\",\"elementid\":\"af9d6785-9a7c-48b3-b65f-5b5b4422820e\",\"modelid\":\"aab26c92-9a65-4d27-ba70-ae10de283805\"}];\n",
       "  root.Bokeh.embed.embed_items_notebook(docs_json, render_items);\n",
       "\n",
       "  }\n",
       "  if (root.Bokeh !== undefined) {\n",
       "    embed_document(root);\n",
       "  } else {\n",
       "    var attempts = 0;\n",
       "    var timer = setInterval(function(root) {\n",
       "      if (root.Bokeh !== undefined) {\n",
       "        embed_document(root);\n",
       "        clearInterval(timer);\n",
       "      }\n",
       "      attempts++;\n",
       "      if (attempts > 100) {\n",
       "        console.log(\"Bokeh: ERROR: Unable to run BokehJS code because BokehJS library is missing\")\n",
       "        clearInterval(timer);\n",
       "      }\n",
       "    }, 10, root)\n",
       "  }\n",
       "})(window);"
      ],
      "application/vnd.bokehjs_exec.v0+json": ""
     },
     "metadata": {
      "application/vnd.bokehjs_exec.v0+json": {
       "id": "aab26c92-9a65-4d27-ba70-ae10de283805"
      }
     },
     "output_type": "display_data"
    }
   ],
   "source": [
    "# Training.\n",
    "beer.train_loglinear_model(normal_diag, torch.from_numpy(data).float())\n",
    "beer.train_loglinear_model(normal_full, torch.from_numpy(data).float())\n",
    "\n",
    "fig = figure(\n",
    "    title='Initial model',\n",
    "    width=400,\n",
    "    height=400,\n",
    "    x_range=(mean[0] - 5, mean[0] + 5),\n",
    "    y_range=(mean[1] - 5, mean[1] + 5)\n",
    ")\n",
    "fig.circle(data[:, 0], data[:, 1])\n",
    "plotting.plot_normal(fig, normal_diag.mean.numpy(), normal_diag.cov.numpy(), alpha=.5, color='red')\n",
    "plotting.plot_normal(fig, normal_full.mean.numpy(), normal_full.cov.numpy(), alpha=.5, color='green')\n",
    "\n",
    "show(fig)"
   ]
  },
  {
   "cell_type": "code",
   "execution_count": 23,
   "metadata": {},
   "outputs": [
    {
     "data": {
      "text/plain": [
       "\n",
       " 1.9692  0.9762\n",
       " 0.9762  0.7647\n",
       "[torch.FloatTensor of size (2,2)]"
      ]
     },
     "execution_count": 23,
     "metadata": {},
     "output_type": "execute_result"
    }
   ],
   "source": [
    "normal_full.cov"
   ]
  },
  {
   "cell_type": "code",
   "execution_count": 24,
   "metadata": {},
   "outputs": [
    {
     "data": {
      "text/plain": [
       "\n",
       " 1.9692  0.9762\n",
       " 0.9762  0.7647\n",
       "[torch.FloatTensor of size (2,2)]"
      ]
     },
     "execution_count": 24,
     "metadata": {},
     "output_type": "execute_result"
    }
   ],
   "source": [
    "normal_full.cov"
   ]
  },
  {
   "cell_type": "markdown",
   "metadata": {},
   "source": [
    "# Model comparison\n",
    "\n",
    "We generate data for various correlation parameters:\n",
    "\n",
    "$$\n",
    "X_{\\lambda} \\sim \\mathcal{N}(\n",
    "    \\begin{pmatrix} \n",
    "    0 \\\\\n",
    "    0\n",
    "    \\end{pmatrix}, \n",
    "    \\begin{pmatrix} \n",
    "    1 & \\lambda \\\\\n",
    "    \\lambda & 1\n",
    "    \\end{pmatrix})\n",
    "$$\n",
    "\n",
    "and we compare the model evidence for both the Normal distribution with diagonal covariance matrix and with full covariance matrix.\n",
    "\n",
    "$$\n",
    "\\ln B_{\\lambda} = \\ln \\frac{p(X_\\lambda | \\mathcal{M}_{\\text{full}})}{p(X_\\lambda | \\mathcal{M}_{\\text{diag}})} =\n",
    "     \\ln \\frac{\\int_{\\theta} p(X_\\lambda | \\theta, \\mathcal{M}_{\\text{full}}) p(\\theta) d\\theta}{\\int_{\\theta}p(X_\\lambda | \\theta, \\mathcal{M}_{\\text{diag}})p(\\theta) d\\theta} = \\frac{A_{\\text{full}}(\\xi + \\sum_{n=1}^N T(x_n)) - A_{\\text{full}}(\\xi)}{A_{\\text{diag}}(\\xi + \\sum_{n=1}^N T(x_n))\n",
    "     - A_{\\text{diag}}(\\xi)}\n",
    "$$"
   ]
  },
  {
   "cell_type": "code",
   "execution_count": 25,
   "metadata": {
    "scrolled": false
   },
   "outputs": [
    {
     "data": {
      "text/html": [
       "\n",
       "<div class=\"bk-root\">\n",
       "    <div class=\"bk-plotdiv\" id=\"d541ec40-b16d-4e92-8796-7faca7f64e13\"></div>\n",
       "</div>"
      ]
     },
     "metadata": {},
     "output_type": "display_data"
    },
    {
     "data": {
      "application/javascript": [
       "(function(root) {\n",
       "  function embed_document(root) {\n",
       "    \n",
       "  var docs_json = {\"ce858456-6b8a-499b-9a23-8ae83beac453\":{\"roots\":{\"references\":[{\"attributes\":{},\"id\":\"d950e197-9821-47cc-b881-e4b8abc279ba\",\"type\":\"HelpTool\"},{\"attributes\":{\"bottom_units\":\"screen\",\"fill_alpha\":{\"value\":0.5},\"fill_color\":{\"value\":\"lightgrey\"},\"left_units\":\"screen\",\"level\":\"overlay\",\"line_alpha\":{\"value\":1.0},\"line_color\":{\"value\":\"black\"},\"line_dash\":[4,4],\"line_width\":{\"value\":2},\"plot\":null,\"render_mode\":\"css\",\"right_units\":\"screen\",\"top_units\":\"screen\"},\"id\":\"bad2ff84-c9c1-409c-95a2-43d46cd63eaf\",\"type\":\"BoxAnnotation\"},{\"attributes\":{},\"id\":\"a4f0f697-4613-4ea5-86b1-163f280f453e\",\"type\":\"BasicTickFormatter\"},{\"attributes\":{\"source\":{\"id\":\"c3c732a1-897a-45af-a33c-931dbff64413\",\"type\":\"ColumnDataSource\"}},\"id\":\"2d7d24d1-ea87-4205-a12f-aa83f3d35648\",\"type\":\"CDSView\"},{\"attributes\":{\"line_color\":\"#1f77b4\",\"x\":{\"field\":\"x\"},\"y\":{\"field\":\"y\"}},\"id\":\"cb281b25-c6cf-44df-8a46-6aee50d5278c\",\"type\":\"Line\"},{\"attributes\":{},\"id\":\"20888f28-7dfa-4eff-ba1a-3bd2478e1e4d\",\"type\":\"BasicTickFormatter\"},{\"attributes\":{\"callback\":null,\"column_names\":[\"x\",\"y\"],\"data\":{\"x\":{\"__ndarray__\":\"rkfhehSu778K16NwPQrvv2ZmZmZmZu6/wvUoXI/C7b8fhetRuB7tv3sUrkfheuy/16NwPQrX678zMzMzMzPrv4/C9Shcj+q/7FG4HoXr6b9I4XoUrkfpv6RwPQrXo+i/AAAAAAAA6L9cj8L1KFznv7gehetRuOa/FK5H4XoU5r9wPQrXo3Dlv8zMzMzMzOS/KVyPwvUo5L+F61G4HoXjv+F6FK5H4eK/PgrXo3A94r+amZmZmZnhv/YoXI/C9eC/UrgehetR4L9cj8L1KFzfvxSuR+F6FN6/zMzMzMzM3L+E61G4HoXbvz4K16NwPdq/9ihcj8L12L+uR+F6FK7Xv2ZmZmZmZta/HoXrUbge1b/Wo3A9CtfTv47C9Shcj9K/SOF6FK5H0b8AAAAAAADQv3A9CtejcM2/4HoUrkfhyr9QuB6F61HIv8D1KFyPwsW/NDMzMzMzw7+kcD0K16PAvyhcj8L1KLy/CNejcD0Kt7/oUbgeheuxv5CZmZmZmam/wB6F61G4nr+AFK5H4XqEv4AUrkfheoQ/wB6F61G4nj+gmZmZmZmpP/BRuB6F67E/ENejcD0Ktz8wXI/C9Si8P6hwPQrXo8A/ODMzMzMzwz/A9Shcj8LFP1C4HoXrUcg/4HoUrkfhyj9wPQrXo3DNPwAAAAAAANA/SOF6FK5H0T+QwvUoXI/SP9ijcD0K19M/IIXrUbge1T9oZmZmZmbWP7BH4XoUrtc/+Chcj8L12D9ACtejcD3aP4TrUbgehds/zMzMzMzM3D8UrkfhehTeP1yPwvUoXN8/UrgehetR4D/2KFyPwvXgP5qZmZmZmeE/PgrXo3A94j/iehSuR+HiP4brUbgeheM/KlyPwvUo5D/OzMzMzMzkP3I9CtejcOU/FK5H4XoU5j+4HoXrUbjmP1yPwvUoXOc/AAAAAAAA6D+kcD0K16PoP0jhehSuR+k/7FG4HoXr6T+QwvUoXI/qPzQzMzMzM+s/2KNwPQrX6z98FK5H4XrsPyCF61G4Hu0/wvUoXI/C7T9mZmZmZmbuPwrXo3A9Cu8/rkfhehSu7z8=\",\"dtype\":\"float64\",\"shape\":[100]},\"y\":{\"__ndarray__\":\"GM/uRLoutEQKhYpEcbZzRCnAXUSBHkFEGbgzRBn4HEQBxxdEIcgFRCqG9kMKXfZDulW8Q2Jb0UPitbNDOjSPQ0KVi0MqR45DVLVvQzSvfUN0WGdDVLFRQ8TEMkN0KF1DBDYaQ2RbFEMITvFC1E0LQ0hW2EIoWORCyG3nQsiij0LQinBCaA2cQki3hkKQbSJCkKU8QtAAC0IA+wdCAKw3QiAOvUGAXLxBACClQSCLuUFAax9BAMxKQQA0HEEAlxVBAOQVQQCKAkEAbgJBQC4nQUDDOkFAWFJBQDVlQaAmkUFAqntBILeoQSB8pkFA5FdBEIUXQtAnGEKQTA5CkKNAQtDzMEKoGIpCiFmSQkhQo0KoO5ZCaCGkQgiN1kKIGd1CqNvoQqRKBUMk3g9DpDMxQ1SlO0O0Yz5DJDxCQwRYUkMCt4hD+pqHQ2qWkkNyzoZDUtqoQ9rBskNq8dBDsjPoQ1p540Np0AVE6QkGROmPFkSZGx1EOXI1RAWfR0TldmFEttyBRJQVj0SeBK9E2prxRA==\",\"dtype\":\"float32\",\"shape\":[100]}}},\"id\":\"c3c732a1-897a-45af-a33c-931dbff64413\",\"type\":\"ColumnDataSource\"},{\"attributes\":{},\"id\":\"d2db7c77-3fbc-4b21-ba9f-05af9919c6db\",\"type\":\"PanTool\"},{\"attributes\":{},\"id\":\"3cfedd74-6159-4b4a-a317-11ab40067d2d\",\"type\":\"BasicTicker\"},{\"attributes\":{},\"id\":\"9386c3a3-4ea9-4c04-bbc2-cc1236e601d6\",\"type\":\"BasicTicker\"},{\"attributes\":{},\"id\":\"30ca418d-a2d5-463a-abc2-375da9c7125d\",\"type\":\"WheelZoomTool\"},{\"attributes\":{\"active_drag\":\"auto\",\"active_inspect\":\"auto\",\"active_scroll\":\"auto\",\"active_tap\":\"auto\",\"tools\":[{\"id\":\"d2db7c77-3fbc-4b21-ba9f-05af9919c6db\",\"type\":\"PanTool\"},{\"id\":\"30ca418d-a2d5-463a-abc2-375da9c7125d\",\"type\":\"WheelZoomTool\"},{\"id\":\"cdd662df-3207-49f5-a906-c4ad1b12699e\",\"type\":\"BoxZoomTool\"},{\"id\":\"dd9057c1-fa87-4574-9f6f-791e9bf9aac6\",\"type\":\"SaveTool\"},{\"id\":\"3ab6b65b-2589-4e03-b0a1-629d624e409b\",\"type\":\"ResetTool\"},{\"id\":\"d950e197-9821-47cc-b881-e4b8abc279ba\",\"type\":\"HelpTool\"}]},\"id\":\"979d7e60-3f55-4bca-9998-3831200e3861\",\"type\":\"Toolbar\"},{\"attributes\":{\"overlay\":{\"id\":\"bad2ff84-c9c1-409c-95a2-43d46cd63eaf\",\"type\":\"BoxAnnotation\"}},\"id\":\"cdd662df-3207-49f5-a906-c4ad1b12699e\",\"type\":\"BoxZoomTool\"},{\"attributes\":{},\"id\":\"dd9057c1-fa87-4574-9f6f-791e9bf9aac6\",\"type\":\"SaveTool\"},{\"attributes\":{\"plot\":{\"id\":\"20894cb2-962c-4059-9bf6-b48a366d4c26\",\"subtype\":\"Figure\",\"type\":\"Plot\"},\"ticker\":{\"id\":\"9386c3a3-4ea9-4c04-bbc2-cc1236e601d6\",\"type\":\"BasicTicker\"}},\"id\":\"9f37dbef-2a6c-45f1-9a68-12b51cd72503\",\"type\":\"Grid\"},{\"attributes\":{\"below\":[{\"id\":\"a5abaa0c-ee84-4390-84eb-c6048e07e9e3\",\"type\":\"LinearAxis\"}],\"left\":[{\"id\":\"6782800c-0578-478c-8869-2ed9706b0671\",\"type\":\"LinearAxis\"}],\"plot_height\":400,\"plot_width\":400,\"renderers\":[{\"id\":\"a5abaa0c-ee84-4390-84eb-c6048e07e9e3\",\"type\":\"LinearAxis\"},{\"id\":\"9f37dbef-2a6c-45f1-9a68-12b51cd72503\",\"type\":\"Grid\"},{\"id\":\"6782800c-0578-478c-8869-2ed9706b0671\",\"type\":\"LinearAxis\"},{\"id\":\"8f731f2b-8083-4810-9f33-8ceef7ddafdf\",\"type\":\"Grid\"},{\"id\":\"bad2ff84-c9c1-409c-95a2-43d46cd63eaf\",\"type\":\"BoxAnnotation\"},{\"id\":\"e0376474-b3c6-4d08-bda4-b26ec26c11c9\",\"type\":\"GlyphRenderer\"}],\"title\":{\"id\":\"ee0fc1a2-3e5e-4f23-ac8b-df8085a3c9c6\",\"type\":\"Title\"},\"toolbar\":{\"id\":\"979d7e60-3f55-4bca-9998-3831200e3861\",\"type\":\"Toolbar\"},\"x_range\":{\"id\":\"88d87afd-29b3-4dcc-9d31-0fe2a2d631fc\",\"type\":\"DataRange1d\"},\"x_scale\":{\"id\":\"d4a03f58-42d1-456a-ae99-68c0be9fa718\",\"type\":\"LinearScale\"},\"y_range\":{\"id\":\"46e7104c-cbab-48ea-8fd4-96d4b30a138e\",\"type\":\"DataRange1d\"},\"y_scale\":{\"id\":\"644dc5c7-5ce4-47ea-a507-654e5eded0e6\",\"type\":\"LinearScale\"}},\"id\":\"20894cb2-962c-4059-9bf6-b48a366d4c26\",\"subtype\":\"Figure\",\"type\":\"Plot\"},{\"attributes\":{},\"id\":\"644dc5c7-5ce4-47ea-a507-654e5eded0e6\",\"type\":\"LinearScale\"},{\"attributes\":{\"axis_label\":\"\\u03bb\",\"formatter\":{\"id\":\"a4f0f697-4613-4ea5-86b1-163f280f453e\",\"type\":\"BasicTickFormatter\"},\"plot\":{\"id\":\"20894cb2-962c-4059-9bf6-b48a366d4c26\",\"subtype\":\"Figure\",\"type\":\"Plot\"},\"ticker\":{\"id\":\"9386c3a3-4ea9-4c04-bbc2-cc1236e601d6\",\"type\":\"BasicTicker\"}},\"id\":\"a5abaa0c-ee84-4390-84eb-c6048e07e9e3\",\"type\":\"LinearAxis\"},{\"attributes\":{\"axis_label\":\"log Bayes factor\",\"formatter\":{\"id\":\"20888f28-7dfa-4eff-ba1a-3bd2478e1e4d\",\"type\":\"BasicTickFormatter\"},\"plot\":{\"id\":\"20894cb2-962c-4059-9bf6-b48a366d4c26\",\"subtype\":\"Figure\",\"type\":\"Plot\"},\"ticker\":{\"id\":\"3cfedd74-6159-4b4a-a317-11ab40067d2d\",\"type\":\"BasicTicker\"}},\"id\":\"6782800c-0578-478c-8869-2ed9706b0671\",\"type\":\"LinearAxis\"},{\"attributes\":{\"plot\":null,\"text\":\"Model Comparison\"},\"id\":\"ee0fc1a2-3e5e-4f23-ac8b-df8085a3c9c6\",\"type\":\"Title\"},{\"attributes\":{\"callback\":null},\"id\":\"88d87afd-29b3-4dcc-9d31-0fe2a2d631fc\",\"type\":\"DataRange1d\"},{\"attributes\":{\"callback\":null},\"id\":\"46e7104c-cbab-48ea-8fd4-96d4b30a138e\",\"type\":\"DataRange1d\"},{\"attributes\":{},\"id\":\"3ab6b65b-2589-4e03-b0a1-629d624e409b\",\"type\":\"ResetTool\"},{\"attributes\":{\"dimension\":1,\"plot\":{\"id\":\"20894cb2-962c-4059-9bf6-b48a366d4c26\",\"subtype\":\"Figure\",\"type\":\"Plot\"},\"ticker\":{\"id\":\"3cfedd74-6159-4b4a-a317-11ab40067d2d\",\"type\":\"BasicTicker\"}},\"id\":\"8f731f2b-8083-4810-9f33-8ceef7ddafdf\",\"type\":\"Grid\"},{\"attributes\":{\"data_source\":{\"id\":\"c3c732a1-897a-45af-a33c-931dbff64413\",\"type\":\"ColumnDataSource\"},\"glyph\":{\"id\":\"cb281b25-c6cf-44df-8a46-6aee50d5278c\",\"type\":\"Line\"},\"hover_glyph\":null,\"muted_glyph\":null,\"nonselection_glyph\":{\"id\":\"df9ee1ec-43a3-4385-a92b-7decb01bfc10\",\"type\":\"Line\"},\"selection_glyph\":null,\"view\":{\"id\":\"2d7d24d1-ea87-4205-a12f-aa83f3d35648\",\"type\":\"CDSView\"}},\"id\":\"e0376474-b3c6-4d08-bda4-b26ec26c11c9\",\"type\":\"GlyphRenderer\"},{\"attributes\":{\"line_alpha\":0.1,\"line_color\":\"#1f77b4\",\"x\":{\"field\":\"x\"},\"y\":{\"field\":\"y\"}},\"id\":\"df9ee1ec-43a3-4385-a92b-7decb01bfc10\",\"type\":\"Line\"},{\"attributes\":{},\"id\":\"d4a03f58-42d1-456a-ae99-68c0be9fa718\",\"type\":\"LinearScale\"}],\"root_ids\":[\"20894cb2-962c-4059-9bf6-b48a366d4c26\"]},\"title\":\"Bokeh Application\",\"version\":\"0.12.14\"}};\n",
       "  var render_items = [{\"docid\":\"ce858456-6b8a-499b-9a23-8ae83beac453\",\"elementid\":\"d541ec40-b16d-4e92-8796-7faca7f64e13\",\"modelid\":\"20894cb2-962c-4059-9bf6-b48a366d4c26\"}];\n",
       "  root.Bokeh.embed.embed_items_notebook(docs_json, render_items);\n",
       "\n",
       "  }\n",
       "  if (root.Bokeh !== undefined) {\n",
       "    embed_document(root);\n",
       "  } else {\n",
       "    var attempts = 0;\n",
       "    var timer = setInterval(function(root) {\n",
       "      if (root.Bokeh !== undefined) {\n",
       "        embed_document(root);\n",
       "        clearInterval(timer);\n",
       "      }\n",
       "      attempts++;\n",
       "      if (attempts > 100) {\n",
       "        console.log(\"Bokeh: ERROR: Unable to run BokehJS code because BokehJS library is missing\")\n",
       "        clearInterval(timer);\n",
       "      }\n",
       "    }, 10, root)\n",
       "  }\n",
       "})(window);"
      ],
      "application/vnd.bokehjs_exec.v0+json": ""
     },
     "metadata": {
      "application/vnd.bokehjs_exec.v0+json": {
       "id": "20894cb2-962c-4059-9bf6-b48a366d4c26"
      }
     },
     "output_type": "display_data"
    }
   ],
   "source": [
    "from scipy.special import logsumexp\n",
    "import copy\n",
    "\n",
    "lambdas = np.linspace(-.99, .99, 100)\n",
    "lBs = []\n",
    "    \n",
    "# For each value of lambda.\n",
    "for l in lambdas:\n",
    "    \n",
    "    # Generate the data.\n",
    "    cov = np.array([\n",
    "        [1, l],\n",
    "        [l, 1]\n",
    "    ])\n",
    "    X = np.random.multivariate_normal(np.zeros(2), cov, size=1000)\n",
    "    X = torch.from_numpy(X).float()\n",
    "    \n",
    "    # Fit both models\n",
    "    normal_diag = beer.NormalDiagonalCovariance.create(torch.zeros(2), torch.eye(2), prior_count=1e-3)\n",
    "    beer.train_loglinear_model(normal_diag, X)\n",
    "    normal = beer.NormalFullCovariance.create(torch.zeros(2), torch.eye(2), prior_count=1e-3)\n",
    "    beer.train_loglinear_model(normal, X)\n",
    "    \n",
    "    # Compute the log Bayes factor.\n",
    "    llh_M1 = normal.posterior.log_norm - normal.prior.log_norm\n",
    "    llh_M2 = normal_diag.posterior.log_norm - normal_diag.prior.log_norm\n",
    "    lBs.append((llh_M1 - llh_M2))\n",
    "    \n",
    "lBs = np.array(lBs)\n",
    "fig1 = figure(\n",
    "    title='Model Comparison',\n",
    "    x_axis_label='λ',\n",
    "    y_axis_label='log Bayes factor',\n",
    "    width=400,\n",
    "    height=400\n",
    ")\n",
    "fig1.line(lambdas, lBs)\n",
    "\n",
    "show(fig1)"
   ]
  },
  {
   "cell_type": "code",
   "execution_count": 26,
   "metadata": {},
   "outputs": [
    {
     "data": {
      "text/plain": [
       "array([-1.31899888,  2.14408995])"
      ]
     },
     "execution_count": 26,
     "metadata": {},
     "output_type": "execute_result"
    }
   ],
   "source": [
    "np.random.multivariate_normal(np.zeros(2), np.array([[2., 1.], [1., 2]]))"
   ]
  },
  {
   "cell_type": "code",
   "execution_count": 27,
   "metadata": {},
   "outputs": [
    {
     "data": {
      "text/plain": [
       "(array([1., 3.]), array([[-0.70710678,  0.70710678],\n",
       "        [ 0.70710678,  0.70710678]]))"
      ]
     },
     "execution_count": 27,
     "metadata": {},
     "output_type": "execute_result"
    }
   ],
   "source": [
    "cov = np.array([[2., 1.], [1., 2]])\n",
    "np.linalg.eigh(cov)"
   ]
  },
  {
   "cell_type": "code",
   "execution_count": null,
   "metadata": {},
   "outputs": [],
   "source": []
  }
 ],
 "metadata": {
  "kernelspec": {
   "display_name": "Python 3",
   "language": "python",
   "name": "python3"
  },
  "language_info": {
   "codemirror_mode": {
    "name": "ipython",
    "version": 3
   },
   "file_extension": ".py",
   "mimetype": "text/x-python",
   "name": "python",
   "nbconvert_exporter": "python",
   "pygments_lexer": "ipython3",
   "version": "3.6.4"
  }
 },
 "nbformat": 4,
 "nbformat_minor": 2
}
