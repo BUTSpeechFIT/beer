{
 "cells": [
  {
   "cell_type": "markdown",
   "metadata": {},
   "source": [
    "# Bayesian Normal Density\n",
    "\n",
    "This notebook illustrate how to use a Bayesian Normal density model with the [beer framework](https://github.com/beer-asr/beer). The Normal distribution is a fairly basic model but it is used extenslively in other model as a basic building block."
   ]
  },
  {
   "cell_type": "code",
   "execution_count": 1,
   "metadata": {},
   "outputs": [
    {
     "data": {
      "text/html": [
       "\n",
       "    <div class=\"bk-root\">\n",
       "        <a href=\"https://bokeh.pydata.org\" target=\"_blank\" class=\"bk-logo bk-logo-small bk-logo-notebook\"></a>\n",
       "        <span id=\"d980e83c-b552-4edc-a506-4e30226e51e1\">Loading BokehJS ...</span>\n",
       "    </div>"
      ]
     },
     "metadata": {},
     "output_type": "display_data"
    },
    {
     "data": {
      "application/javascript": [
       "\n",
       "(function(root) {\n",
       "  function now() {\n",
       "    return new Date();\n",
       "  }\n",
       "\n",
       "  var force = true;\n",
       "\n",
       "  if (typeof (root._bokeh_onload_callbacks) === \"undefined\" || force === true) {\n",
       "    root._bokeh_onload_callbacks = [];\n",
       "    root._bokeh_is_loading = undefined;\n",
       "  }\n",
       "\n",
       "  var JS_MIME_TYPE = 'application/javascript';\n",
       "  var HTML_MIME_TYPE = 'text/html';\n",
       "  var EXEC_MIME_TYPE = 'application/vnd.bokehjs_exec.v0+json';\n",
       "  var CLASS_NAME = 'output_bokeh rendered_html';\n",
       "\n",
       "  /**\n",
       "   * Render data to the DOM node\n",
       "   */\n",
       "  function render(props, node) {\n",
       "    var script = document.createElement(\"script\");\n",
       "    node.appendChild(script);\n",
       "  }\n",
       "\n",
       "  /**\n",
       "   * Handle when an output is cleared or removed\n",
       "   */\n",
       "  function handleClearOutput(event, handle) {\n",
       "    var cell = handle.cell;\n",
       "\n",
       "    var id = cell.output_area._bokeh_element_id;\n",
       "    var server_id = cell.output_area._bokeh_server_id;\n",
       "    // Clean up Bokeh references\n",
       "    if (id !== undefined) {\n",
       "      Bokeh.index[id].model.document.clear();\n",
       "      delete Bokeh.index[id];\n",
       "    }\n",
       "\n",
       "    if (server_id !== undefined) {\n",
       "      // Clean up Bokeh references\n",
       "      var cmd = \"from bokeh.io.state import curstate; print(curstate().uuid_to_server['\" + server_id + \"'].get_sessions()[0].document.roots[0]._id)\";\n",
       "      cell.notebook.kernel.execute(cmd, {\n",
       "        iopub: {\n",
       "          output: function(msg) {\n",
       "            var element_id = msg.content.text.trim();\n",
       "            Bokeh.index[element_id].model.document.clear();\n",
       "            delete Bokeh.index[element_id];\n",
       "          }\n",
       "        }\n",
       "      });\n",
       "      // Destroy server and session\n",
       "      var cmd = \"import bokeh.io.notebook as ion; ion.destroy_server('\" + server_id + \"')\";\n",
       "      cell.notebook.kernel.execute(cmd);\n",
       "    }\n",
       "  }\n",
       "\n",
       "  /**\n",
       "   * Handle when a new output is added\n",
       "   */\n",
       "  function handleAddOutput(event, handle) {\n",
       "    var output_area = handle.output_area;\n",
       "    var output = handle.output;\n",
       "\n",
       "    // limit handleAddOutput to display_data with EXEC_MIME_TYPE content only\n",
       "    if ((output.output_type != \"display_data\") || (!output.data.hasOwnProperty(EXEC_MIME_TYPE))) {\n",
       "      return\n",
       "    }\n",
       "\n",
       "    var toinsert = output_area.element.find(\".\" + CLASS_NAME.split(' ')[0]);\n",
       "\n",
       "    if (output.metadata[EXEC_MIME_TYPE][\"id\"] !== undefined) {\n",
       "      toinsert[0].firstChild.textContent = output.data[JS_MIME_TYPE];\n",
       "      // store reference to embed id on output_area\n",
       "      output_area._bokeh_element_id = output.metadata[EXEC_MIME_TYPE][\"id\"];\n",
       "    }\n",
       "    if (output.metadata[EXEC_MIME_TYPE][\"server_id\"] !== undefined) {\n",
       "      var bk_div = document.createElement(\"div\");\n",
       "      bk_div.innerHTML = output.data[HTML_MIME_TYPE];\n",
       "      var script_attrs = bk_div.children[0].attributes;\n",
       "      for (var i = 0; i < script_attrs.length; i++) {\n",
       "        toinsert[0].firstChild.setAttribute(script_attrs[i].name, script_attrs[i].value);\n",
       "      }\n",
       "      // store reference to server id on output_area\n",
       "      output_area._bokeh_server_id = output.metadata[EXEC_MIME_TYPE][\"server_id\"];\n",
       "    }\n",
       "  }\n",
       "\n",
       "  function register_renderer(events, OutputArea) {\n",
       "\n",
       "    function append_mime(data, metadata, element) {\n",
       "      // create a DOM node to render to\n",
       "      var toinsert = this.create_output_subarea(\n",
       "        metadata,\n",
       "        CLASS_NAME,\n",
       "        EXEC_MIME_TYPE\n",
       "      );\n",
       "      this.keyboard_manager.register_events(toinsert);\n",
       "      // Render to node\n",
       "      var props = {data: data, metadata: metadata[EXEC_MIME_TYPE]};\n",
       "      render(props, toinsert[0]);\n",
       "      element.append(toinsert);\n",
       "      return toinsert\n",
       "    }\n",
       "\n",
       "    /* Handle when an output is cleared or removed */\n",
       "    events.on('clear_output.CodeCell', handleClearOutput);\n",
       "    events.on('delete.Cell', handleClearOutput);\n",
       "\n",
       "    /* Handle when a new output is added */\n",
       "    events.on('output_added.OutputArea', handleAddOutput);\n",
       "\n",
       "    /**\n",
       "     * Register the mime type and append_mime function with output_area\n",
       "     */\n",
       "    OutputArea.prototype.register_mime_type(EXEC_MIME_TYPE, append_mime, {\n",
       "      /* Is output safe? */\n",
       "      safe: true,\n",
       "      /* Index of renderer in `output_area.display_order` */\n",
       "      index: 0\n",
       "    });\n",
       "  }\n",
       "\n",
       "  // register the mime type if in Jupyter Notebook environment and previously unregistered\n",
       "  if (root.Jupyter !== undefined) {\n",
       "    var events = require('base/js/events');\n",
       "    var OutputArea = require('notebook/js/outputarea').OutputArea;\n",
       "\n",
       "    if (OutputArea.prototype.mime_types().indexOf(EXEC_MIME_TYPE) == -1) {\n",
       "      register_renderer(events, OutputArea);\n",
       "    }\n",
       "  }\n",
       "\n",
       "  \n",
       "  if (typeof (root._bokeh_timeout) === \"undefined\" || force === true) {\n",
       "    root._bokeh_timeout = Date.now() + 5000;\n",
       "    root._bokeh_failed_load = false;\n",
       "  }\n",
       "\n",
       "  var NB_LOAD_WARNING = {'data': {'text/html':\n",
       "     \"<div style='background-color: #fdd'>\\n\"+\n",
       "     \"<p>\\n\"+\n",
       "     \"BokehJS does not appear to have successfully loaded. If loading BokehJS from CDN, this \\n\"+\n",
       "     \"may be due to a slow or bad network connection. Possible fixes:\\n\"+\n",
       "     \"</p>\\n\"+\n",
       "     \"<ul>\\n\"+\n",
       "     \"<li>re-rerun `output_notebook()` to attempt to load from CDN again, or</li>\\n\"+\n",
       "     \"<li>use INLINE resources instead, as so:</li>\\n\"+\n",
       "     \"</ul>\\n\"+\n",
       "     \"<code>\\n\"+\n",
       "     \"from bokeh.resources import INLINE\\n\"+\n",
       "     \"output_notebook(resources=INLINE)\\n\"+\n",
       "     \"</code>\\n\"+\n",
       "     \"</div>\"}};\n",
       "\n",
       "  function display_loaded() {\n",
       "    var el = document.getElementById(\"d980e83c-b552-4edc-a506-4e30226e51e1\");\n",
       "    if (el != null) {\n",
       "      el.textContent = \"BokehJS is loading...\";\n",
       "    }\n",
       "    if (root.Bokeh !== undefined) {\n",
       "      if (el != null) {\n",
       "        el.textContent = \"BokehJS \" + root.Bokeh.version + \" successfully loaded.\";\n",
       "      }\n",
       "    } else if (Date.now() < root._bokeh_timeout) {\n",
       "      setTimeout(display_loaded, 100)\n",
       "    }\n",
       "  }\n",
       "\n",
       "\n",
       "  function run_callbacks() {\n",
       "    try {\n",
       "      root._bokeh_onload_callbacks.forEach(function(callback) { callback() });\n",
       "    }\n",
       "    finally {\n",
       "      delete root._bokeh_onload_callbacks\n",
       "    }\n",
       "    console.info(\"Bokeh: all callbacks have finished\");\n",
       "  }\n",
       "\n",
       "  function load_libs(js_urls, callback) {\n",
       "    root._bokeh_onload_callbacks.push(callback);\n",
       "    if (root._bokeh_is_loading > 0) {\n",
       "      console.log(\"Bokeh: BokehJS is being loaded, scheduling callback at\", now());\n",
       "      return null;\n",
       "    }\n",
       "    if (js_urls == null || js_urls.length === 0) {\n",
       "      run_callbacks();\n",
       "      return null;\n",
       "    }\n",
       "    console.log(\"Bokeh: BokehJS not loaded, scheduling load and callback at\", now());\n",
       "    root._bokeh_is_loading = js_urls.length;\n",
       "    for (var i = 0; i < js_urls.length; i++) {\n",
       "      var url = js_urls[i];\n",
       "      var s = document.createElement('script');\n",
       "      s.src = url;\n",
       "      s.async = false;\n",
       "      s.onreadystatechange = s.onload = function() {\n",
       "        root._bokeh_is_loading--;\n",
       "        if (root._bokeh_is_loading === 0) {\n",
       "          console.log(\"Bokeh: all BokehJS libraries loaded\");\n",
       "          run_callbacks()\n",
       "        }\n",
       "      };\n",
       "      s.onerror = function() {\n",
       "        console.warn(\"failed to load library \" + url);\n",
       "      };\n",
       "      console.log(\"Bokeh: injecting script tag for BokehJS library: \", url);\n",
       "      document.getElementsByTagName(\"head\")[0].appendChild(s);\n",
       "    }\n",
       "  };var element = document.getElementById(\"d980e83c-b552-4edc-a506-4e30226e51e1\");\n",
       "  if (element == null) {\n",
       "    console.log(\"Bokeh: ERROR: autoload.js configured with elementid 'd980e83c-b552-4edc-a506-4e30226e51e1' but no matching script tag was found. \")\n",
       "    return false;\n",
       "  }\n",
       "\n",
       "  var js_urls = [\"https://cdn.pydata.org/bokeh/release/bokeh-0.12.14.min.js\", \"https://cdn.pydata.org/bokeh/release/bokeh-widgets-0.12.14.min.js\", \"https://cdn.pydata.org/bokeh/release/bokeh-tables-0.12.14.min.js\", \"https://cdn.pydata.org/bokeh/release/bokeh-gl-0.12.14.min.js\"];\n",
       "\n",
       "  var inline_js = [\n",
       "    function(Bokeh) {\n",
       "      Bokeh.set_log_level(\"info\");\n",
       "    },\n",
       "    \n",
       "    function(Bokeh) {\n",
       "      \n",
       "    },\n",
       "    function(Bokeh) {\n",
       "      console.log(\"Bokeh: injecting CSS: https://cdn.pydata.org/bokeh/release/bokeh-0.12.14.min.css\");\n",
       "      Bokeh.embed.inject_css(\"https://cdn.pydata.org/bokeh/release/bokeh-0.12.14.min.css\");\n",
       "      console.log(\"Bokeh: injecting CSS: https://cdn.pydata.org/bokeh/release/bokeh-widgets-0.12.14.min.css\");\n",
       "      Bokeh.embed.inject_css(\"https://cdn.pydata.org/bokeh/release/bokeh-widgets-0.12.14.min.css\");\n",
       "      console.log(\"Bokeh: injecting CSS: https://cdn.pydata.org/bokeh/release/bokeh-tables-0.12.14.min.css\");\n",
       "      Bokeh.embed.inject_css(\"https://cdn.pydata.org/bokeh/release/bokeh-tables-0.12.14.min.css\");\n",
       "    }\n",
       "  ];\n",
       "\n",
       "  function run_inline_js() {\n",
       "    \n",
       "    if ((root.Bokeh !== undefined) || (force === true)) {\n",
       "      for (var i = 0; i < inline_js.length; i++) {\n",
       "        inline_js[i].call(root, root.Bokeh);\n",
       "      }if (force === true) {\n",
       "        display_loaded();\n",
       "      }} else if (Date.now() < root._bokeh_timeout) {\n",
       "      setTimeout(run_inline_js, 100);\n",
       "    } else if (!root._bokeh_failed_load) {\n",
       "      console.log(\"Bokeh: BokehJS failed to load within specified timeout.\");\n",
       "      root._bokeh_failed_load = true;\n",
       "    } else if (force !== true) {\n",
       "      var cell = $(document.getElementById(\"d980e83c-b552-4edc-a506-4e30226e51e1\")).parents('.cell').data().cell;\n",
       "      cell.output_area.append_execute_result(NB_LOAD_WARNING)\n",
       "    }\n",
       "\n",
       "  }\n",
       "\n",
       "  if (root._bokeh_is_loading === 0) {\n",
       "    console.log(\"Bokeh: BokehJS loaded, going straight to plotting\");\n",
       "    run_inline_js();\n",
       "  } else {\n",
       "    load_libs(js_urls, function() {\n",
       "      console.log(\"Bokeh: BokehJS plotting callback run at\", now());\n",
       "      run_inline_js();\n",
       "    });\n",
       "  }\n",
       "}(window));"
      ],
      "application/vnd.bokehjs_load.v0+json": "\n(function(root) {\n  function now() {\n    return new Date();\n  }\n\n  var force = true;\n\n  if (typeof (root._bokeh_onload_callbacks) === \"undefined\" || force === true) {\n    root._bokeh_onload_callbacks = [];\n    root._bokeh_is_loading = undefined;\n  }\n\n  \n\n  \n  if (typeof (root._bokeh_timeout) === \"undefined\" || force === true) {\n    root._bokeh_timeout = Date.now() + 5000;\n    root._bokeh_failed_load = false;\n  }\n\n  var NB_LOAD_WARNING = {'data': {'text/html':\n     \"<div style='background-color: #fdd'>\\n\"+\n     \"<p>\\n\"+\n     \"BokehJS does not appear to have successfully loaded. If loading BokehJS from CDN, this \\n\"+\n     \"may be due to a slow or bad network connection. Possible fixes:\\n\"+\n     \"</p>\\n\"+\n     \"<ul>\\n\"+\n     \"<li>re-rerun `output_notebook()` to attempt to load from CDN again, or</li>\\n\"+\n     \"<li>use INLINE resources instead, as so:</li>\\n\"+\n     \"</ul>\\n\"+\n     \"<code>\\n\"+\n     \"from bokeh.resources import INLINE\\n\"+\n     \"output_notebook(resources=INLINE)\\n\"+\n     \"</code>\\n\"+\n     \"</div>\"}};\n\n  function display_loaded() {\n    var el = document.getElementById(\"d980e83c-b552-4edc-a506-4e30226e51e1\");\n    if (el != null) {\n      el.textContent = \"BokehJS is loading...\";\n    }\n    if (root.Bokeh !== undefined) {\n      if (el != null) {\n        el.textContent = \"BokehJS \" + root.Bokeh.version + \" successfully loaded.\";\n      }\n    } else if (Date.now() < root._bokeh_timeout) {\n      setTimeout(display_loaded, 100)\n    }\n  }\n\n\n  function run_callbacks() {\n    try {\n      root._bokeh_onload_callbacks.forEach(function(callback) { callback() });\n    }\n    finally {\n      delete root._bokeh_onload_callbacks\n    }\n    console.info(\"Bokeh: all callbacks have finished\");\n  }\n\n  function load_libs(js_urls, callback) {\n    root._bokeh_onload_callbacks.push(callback);\n    if (root._bokeh_is_loading > 0) {\n      console.log(\"Bokeh: BokehJS is being loaded, scheduling callback at\", now());\n      return null;\n    }\n    if (js_urls == null || js_urls.length === 0) {\n      run_callbacks();\n      return null;\n    }\n    console.log(\"Bokeh: BokehJS not loaded, scheduling load and callback at\", now());\n    root._bokeh_is_loading = js_urls.length;\n    for (var i = 0; i < js_urls.length; i++) {\n      var url = js_urls[i];\n      var s = document.createElement('script');\n      s.src = url;\n      s.async = false;\n      s.onreadystatechange = s.onload = function() {\n        root._bokeh_is_loading--;\n        if (root._bokeh_is_loading === 0) {\n          console.log(\"Bokeh: all BokehJS libraries loaded\");\n          run_callbacks()\n        }\n      };\n      s.onerror = function() {\n        console.warn(\"failed to load library \" + url);\n      };\n      console.log(\"Bokeh: injecting script tag for BokehJS library: \", url);\n      document.getElementsByTagName(\"head\")[0].appendChild(s);\n    }\n  };var element = document.getElementById(\"d980e83c-b552-4edc-a506-4e30226e51e1\");\n  if (element == null) {\n    console.log(\"Bokeh: ERROR: autoload.js configured with elementid 'd980e83c-b552-4edc-a506-4e30226e51e1' but no matching script tag was found. \")\n    return false;\n  }\n\n  var js_urls = [\"https://cdn.pydata.org/bokeh/release/bokeh-0.12.14.min.js\", \"https://cdn.pydata.org/bokeh/release/bokeh-widgets-0.12.14.min.js\", \"https://cdn.pydata.org/bokeh/release/bokeh-tables-0.12.14.min.js\", \"https://cdn.pydata.org/bokeh/release/bokeh-gl-0.12.14.min.js\"];\n\n  var inline_js = [\n    function(Bokeh) {\n      Bokeh.set_log_level(\"info\");\n    },\n    \n    function(Bokeh) {\n      \n    },\n    function(Bokeh) {\n      console.log(\"Bokeh: injecting CSS: https://cdn.pydata.org/bokeh/release/bokeh-0.12.14.min.css\");\n      Bokeh.embed.inject_css(\"https://cdn.pydata.org/bokeh/release/bokeh-0.12.14.min.css\");\n      console.log(\"Bokeh: injecting CSS: https://cdn.pydata.org/bokeh/release/bokeh-widgets-0.12.14.min.css\");\n      Bokeh.embed.inject_css(\"https://cdn.pydata.org/bokeh/release/bokeh-widgets-0.12.14.min.css\");\n      console.log(\"Bokeh: injecting CSS: https://cdn.pydata.org/bokeh/release/bokeh-tables-0.12.14.min.css\");\n      Bokeh.embed.inject_css(\"https://cdn.pydata.org/bokeh/release/bokeh-tables-0.12.14.min.css\");\n    }\n  ];\n\n  function run_inline_js() {\n    \n    if ((root.Bokeh !== undefined) || (force === true)) {\n      for (var i = 0; i < inline_js.length; i++) {\n        inline_js[i].call(root, root.Bokeh);\n      }if (force === true) {\n        display_loaded();\n      }} else if (Date.now() < root._bokeh_timeout) {\n      setTimeout(run_inline_js, 100);\n    } else if (!root._bokeh_failed_load) {\n      console.log(\"Bokeh: BokehJS failed to load within specified timeout.\");\n      root._bokeh_failed_load = true;\n    } else if (force !== true) {\n      var cell = $(document.getElementById(\"d980e83c-b552-4edc-a506-4e30226e51e1\")).parents('.cell').data().cell;\n      cell.output_area.append_execute_result(NB_LOAD_WARNING)\n    }\n\n  }\n\n  if (root._bokeh_is_loading === 0) {\n    console.log(\"Bokeh: BokehJS loaded, going straight to plotting\");\n    run_inline_js();\n  } else {\n    load_libs(js_urls, function() {\n      console.log(\"Bokeh: BokehJS plotting callback run at\", now());\n      run_inline_js();\n    });\n  }\n}(window));"
     },
     "metadata": {},
     "output_type": "display_data"
    }
   ],
   "source": [
    "# Add \"beer\" to the PYTHONPATH\n",
    "import sys\n",
    "sys.path.insert(0, '../')\n",
    "\n",
    "import beer\n",
    "import numpy as np\n",
    "import torch\n",
    "\n",
    "# For plotting.\n",
    "from bokeh.io import show, output_notebook\n",
    "from bokeh.plotting import figure, gridplot\n",
    "output_notebook()\n",
    "\n",
    "# Convenience functions for plotting.\n",
    "import plotting\n",
    "\n",
    "%load_ext autoreload\n",
    "%autoreload 2"
   ]
  },
  {
   "cell_type": "markdown",
   "metadata": {},
   "source": [
    "## Data\n",
    "\n",
    "Generate some normally distributed data:"
   ]
  },
  {
   "cell_type": "code",
   "execution_count": 2,
   "metadata": {},
   "outputs": [
    {
     "data": {
      "text/html": [
       "\n",
       "<div class=\"bk-root\">\n",
       "    <div class=\"bk-plotdiv\" id=\"60e45ed4-d4bd-4054-90f7-47a048e42505\"></div>\n",
       "</div>"
      ]
     },
     "metadata": {},
     "output_type": "display_data"
    },
    {
     "data": {
      "application/javascript": [
       "(function(root) {\n",
       "  function embed_document(root) {\n",
       "    \n",
       "  var docs_json = {\"462fe194-9c8a-47a6-9f0a-6e284933154e\":{\"roots\":{\"references\":[{\"attributes\":{},\"id\":\"6d727e77-2640-4f50-8bbe-de4734443249\",\"type\":\"LinearScale\"},{\"attributes\":{\"callback\":null,\"end\":9.0,\"start\":-1.0},\"id\":\"19031ff7-e82c-4e45-bf6a-fb3fac80beae\",\"type\":\"Range1d\"},{\"attributes\":{\"angle\":{\"units\":\"rad\",\"value\":-1.0646978210692295},\"fill_color\":{\"value\":\"blue\"},\"height\":{\"units\":\"data\",\"value\":3.1964027540390307},\"line_color\":{\"value\":\"blue\"},\"width\":{\"units\":\"data\",\"value\":0.8848782029023531},\"x\":{\"value\":-1.5},\"y\":{\"value\":4.0}},\"id\":\"d720e1d8-9c50-4683-853e-bf30e70db3c6\",\"type\":\"Ellipse\"},{\"attributes\":{},\"id\":\"85926c10-7382-4c7a-900f-0d059e2c3b3e\",\"type\":\"LinearScale\"},{\"attributes\":{\"angle\":{\"units\":\"rad\",\"value\":-1.0646978210692295},\"fill_alpha\":{\"value\":0.1},\"fill_color\":{\"value\":\"#1f77b4\"},\"height\":{\"units\":\"data\",\"value\":3.1964027540390307},\"line_alpha\":{\"value\":0.1},\"line_color\":{\"value\":\"#1f77b4\"},\"width\":{\"units\":\"data\",\"value\":0.8848782029023531},\"x\":{\"value\":-1.5},\"y\":{\"value\":4.0}},\"id\":\"64dc2cc7-ffdb-4714-affa-793e0f26a2ac\",\"type\":\"Ellipse\"},{\"attributes\":{\"data_source\":{\"id\":\"b8b38718-990d-4da3-ad71-1d4c98cabd2f\",\"type\":\"ColumnDataSource\"},\"glyph\":{\"id\":\"d720e1d8-9c50-4683-853e-bf30e70db3c6\",\"type\":\"Ellipse\"},\"hover_glyph\":null,\"muted_glyph\":null,\"nonselection_glyph\":{\"id\":\"64dc2cc7-ffdb-4714-affa-793e0f26a2ac\",\"type\":\"Ellipse\"},\"selection_glyph\":null,\"view\":{\"id\":\"c63423ad-1d42-40b3-b19a-67ef786e703a\",\"type\":\"CDSView\"}},\"id\":\"74a64944-9751-48f5-842d-e49a24171355\",\"type\":\"GlyphRenderer\"},{\"attributes\":{\"formatter\":{\"id\":\"91ae43ea-a9bd-48d6-91e5-5e06e7b5a2f8\",\"type\":\"BasicTickFormatter\"},\"plot\":{\"id\":\"a6184f3b-4341-4810-9c4d-9d7f9321016b\",\"subtype\":\"Figure\",\"type\":\"Plot\"},\"ticker\":{\"id\":\"32ce2f2e-4ecf-40cf-871a-cfa476944f5a\",\"type\":\"BasicTicker\"}},\"id\":\"98299015-1e84-468a-b085-90cd6115826d\",\"type\":\"LinearAxis\"},{\"attributes\":{},\"id\":\"32ce2f2e-4ecf-40cf-871a-cfa476944f5a\",\"type\":\"BasicTicker\"},{\"attributes\":{\"plot\":{\"id\":\"a6184f3b-4341-4810-9c4d-9d7f9321016b\",\"subtype\":\"Figure\",\"type\":\"Plot\"},\"ticker\":{\"id\":\"32ce2f2e-4ecf-40cf-871a-cfa476944f5a\",\"type\":\"BasicTicker\"}},\"id\":\"f70e2d7e-2aa2-49ba-aea6-1f47a2381816\",\"type\":\"Grid\"},{\"attributes\":{\"source\":{\"id\":\"b8b38718-990d-4da3-ad71-1d4c98cabd2f\",\"type\":\"ColumnDataSource\"}},\"id\":\"c63423ad-1d42-40b3-b19a-67ef786e703a\",\"type\":\"CDSView\"},{\"attributes\":{\"formatter\":{\"id\":\"1dba3924-8f9d-42b1-84f7-7e620c4e0aa8\",\"type\":\"BasicTickFormatter\"},\"plot\":{\"id\":\"a6184f3b-4341-4810-9c4d-9d7f9321016b\",\"subtype\":\"Figure\",\"type\":\"Plot\"},\"ticker\":{\"id\":\"6308297a-d723-4a6b-83d2-6d94a2cc45c5\",\"type\":\"BasicTicker\"}},\"id\":\"07427c44-4bff-489f-843f-c343469a3d38\",\"type\":\"LinearAxis\"},{\"attributes\":{},\"id\":\"6308297a-d723-4a6b-83d2-6d94a2cc45c5\",\"type\":\"BasicTicker\"},{\"attributes\":{\"dimension\":1,\"plot\":{\"id\":\"a6184f3b-4341-4810-9c4d-9d7f9321016b\",\"subtype\":\"Figure\",\"type\":\"Plot\"},\"ticker\":{\"id\":\"6308297a-d723-4a6b-83d2-6d94a2cc45c5\",\"type\":\"BasicTicker\"}},\"id\":\"c86e8ddb-6325-48ba-b2aa-bfba759bf812\",\"type\":\"Grid\"},{\"attributes\":{\"bottom_units\":\"screen\",\"fill_alpha\":{\"value\":0.5},\"fill_color\":{\"value\":\"lightgrey\"},\"left_units\":\"screen\",\"level\":\"overlay\",\"line_alpha\":{\"value\":1.0},\"line_color\":{\"value\":\"black\"},\"line_dash\":[4,4],\"line_width\":{\"value\":2},\"plot\":null,\"render_mode\":\"css\",\"right_units\":\"screen\",\"top_units\":\"screen\"},\"id\":\"7d05e90d-7d91-46bd-9c5d-c54da2bcd4e2\",\"type\":\"BoxAnnotation\"},{\"attributes\":{\"callback\":null,\"data\":{}},\"id\":\"828e77d0-13a3-46ff-845a-9f4015f2a32f\",\"type\":\"ColumnDataSource\"},{\"attributes\":{},\"id\":\"6fbcdd5d-782d-407c-904d-a53f903c3102\",\"type\":\"PanTool\"},{\"attributes\":{},\"id\":\"219b00b3-7d33-4ff9-bf1b-fe71235e13d2\",\"type\":\"WheelZoomTool\"},{\"attributes\":{\"overlay\":{\"id\":\"7d05e90d-7d91-46bd-9c5d-c54da2bcd4e2\",\"type\":\"BoxAnnotation\"}},\"id\":\"a478531a-5e2f-445b-9222-2b9d25efe776\",\"type\":\"BoxZoomTool\"},{\"attributes\":{},\"id\":\"30c6ce06-c95e-4529-a102-46477dd69c71\",\"type\":\"SaveTool\"},{\"attributes\":{},\"id\":\"b4ed77c5-3afb-43fe-a711-c97d8228ef70\",\"type\":\"ResetTool\"},{\"attributes\":{\"fill_color\":{\"value\":\"#1f77b4\"},\"line_color\":{\"value\":\"#1f77b4\"},\"x\":{\"field\":\"x\"},\"y\":{\"field\":\"y\"}},\"id\":\"a54e2d4a-bd12-40ce-91aa-f116864f4e6b\",\"type\":\"Circle\"},{\"attributes\":{},\"id\":\"1b22319b-9475-4d65-9d98-66f7c47d3a84\",\"type\":\"HelpTool\"},{\"attributes\":{\"angle\":{\"units\":\"rad\",\"value\":-1.0646978210692295},\"fill_alpha\":{\"value\":0.1},\"fill_color\":{\"value\":\"#1f77b4\"},\"height\":{\"units\":\"data\",\"value\":6.3928055080780615},\"line_alpha\":{\"value\":0.1},\"line_color\":{\"value\":\"#1f77b4\"},\"width\":{\"units\":\"data\",\"value\":1.7697564058047062},\"x\":{\"value\":-1.5},\"y\":{\"value\":4.0}},\"id\":\"1f0d6cc4-8394-43bc-ba04-8d89f2b1a297\",\"type\":\"Ellipse\"},{\"attributes\":{\"source\":{\"id\":\"4622da1f-deda-4cf7-b3e2-18f15c1823e7\",\"type\":\"ColumnDataSource\"}},\"id\":\"6027de81-952c-443d-b444-172a6c72854d\",\"type\":\"CDSView\"},{\"attributes\":{\"data_source\":{\"id\":\"4622da1f-deda-4cf7-b3e2-18f15c1823e7\",\"type\":\"ColumnDataSource\"},\"glyph\":{\"id\":\"a54e2d4a-bd12-40ce-91aa-f116864f4e6b\",\"type\":\"Circle\"},\"hover_glyph\":null,\"muted_glyph\":null,\"nonselection_glyph\":{\"id\":\"aefb8520-4fd1-4900-abbe-58dfce36d7f9\",\"type\":\"Circle\"},\"selection_glyph\":null,\"view\":{\"id\":\"6027de81-952c-443d-b444-172a6c72854d\",\"type\":\"CDSView\"}},\"id\":\"fec47aa8-5357-4495-885f-0ecc0c4ae1d0\",\"type\":\"GlyphRenderer\"},{\"attributes\":{\"source\":{\"id\":\"d094203a-22a8-408f-b982-9c54a2964eea\",\"type\":\"ColumnDataSource\"}},\"id\":\"6bdf6ac6-7c1b-4d72-a25a-6126d5807948\",\"type\":\"CDSView\"},{\"attributes\":{\"angle\":{\"units\":\"rad\",\"value\":-1.0646978210692295},\"fill_alpha\":{\"value\":0.5},\"fill_color\":{\"value\":\"blue\"},\"height\":{\"units\":\"data\",\"value\":6.3928055080780615},\"line_alpha\":{\"value\":0.5},\"line_color\":{\"value\":\"blue\"},\"width\":{\"units\":\"data\",\"value\":1.7697564058047062},\"x\":{\"value\":-1.5},\"y\":{\"value\":4.0}},\"id\":\"4645a514-48a9-4bb7-a016-74fbde2fa6a9\",\"type\":\"Ellipse\"},{\"attributes\":{},\"id\":\"91ae43ea-a9bd-48d6-91e5-5e06e7b5a2f8\",\"type\":\"BasicTickFormatter\"},{\"attributes\":{\"fill_alpha\":{\"value\":0.1},\"fill_color\":{\"value\":\"#1f77b4\"},\"line_alpha\":{\"value\":0.1},\"line_color\":{\"value\":\"#1f77b4\"},\"x\":{\"field\":\"x\"},\"y\":{\"field\":\"y\"}},\"id\":\"aefb8520-4fd1-4900-abbe-58dfce36d7f9\",\"type\":\"Circle\"},{\"attributes\":{\"below\":[{\"id\":\"98299015-1e84-468a-b085-90cd6115826d\",\"type\":\"LinearAxis\"}],\"left\":[{\"id\":\"07427c44-4bff-489f-843f-c343469a3d38\",\"type\":\"LinearAxis\"}],\"plot_height\":400,\"plot_width\":400,\"renderers\":[{\"id\":\"98299015-1e84-468a-b085-90cd6115826d\",\"type\":\"LinearAxis\"},{\"id\":\"f70e2d7e-2aa2-49ba-aea6-1f47a2381816\",\"type\":\"Grid\"},{\"id\":\"07427c44-4bff-489f-843f-c343469a3d38\",\"type\":\"LinearAxis\"},{\"id\":\"c86e8ddb-6325-48ba-b2aa-bfba759bf812\",\"type\":\"Grid\"},{\"id\":\"7d05e90d-7d91-46bd-9c5d-c54da2bcd4e2\",\"type\":\"BoxAnnotation\"},{\"id\":\"fec47aa8-5357-4495-885f-0ecc0c4ae1d0\",\"type\":\"GlyphRenderer\"},{\"id\":\"592f83b4-3d13-45b1-8ec7-f653db493576\",\"type\":\"GlyphRenderer\"},{\"id\":\"d2de7784-3a20-47f0-a63d-23120ce13328\",\"type\":\"GlyphRenderer\"},{\"id\":\"74a64944-9751-48f5-842d-e49a24171355\",\"type\":\"GlyphRenderer\"}],\"title\":{\"id\":\"9680731e-af54-4f3c-ac2c-c7c19a4894d2\",\"type\":\"Title\"},\"toolbar\":{\"id\":\"22603db4-042f-4ad1-8a15-24e2c2ff6aab\",\"type\":\"Toolbar\"},\"x_range\":{\"id\":\"928f7f4e-3f3d-4787-acc5-0fae2a7eb94a\",\"type\":\"Range1d\"},\"x_scale\":{\"id\":\"6d727e77-2640-4f50-8bbe-de4734443249\",\"type\":\"LinearScale\"},\"y_range\":{\"id\":\"19031ff7-e82c-4e45-bf6a-fb3fac80beae\",\"type\":\"Range1d\"},\"y_scale\":{\"id\":\"85926c10-7382-4c7a-900f-0d059e2c3b3e\",\"type\":\"LinearScale\"}},\"id\":\"a6184f3b-4341-4810-9c4d-9d7f9321016b\",\"subtype\":\"Figure\",\"type\":\"Plot\"},{\"attributes\":{\"callback\":null,\"data\":{}},\"id\":\"b8b38718-990d-4da3-ad71-1d4c98cabd2f\",\"type\":\"ColumnDataSource\"},{\"attributes\":{\"callback\":null,\"column_names\":[\"x\",\"y\"],\"data\":{\"x\":{\"__ndarray__\":\"coGme7RhA8BMpqFlhE3rP4MwWJeBCem/hnUs3BtyAMBQYH4VN+fiP9CTZyIz9s+/mzZr4TrCEMA+iy1tOdH4v/g2Elp17uU/oeWEYpS2AcCgEzReNxHJvyPyfEdaqwfAufaXViCCBsCkQFMJdB/RvyWsb1tcfv2/AP1pm02LfD9Y+pzMH/biP6jUpqqLsAPAykR+5CWj9D8Wjfv97Pjsv9W9Cj6dqQfArPCbRuoWDcB/Ix0AQEL+vzbzWYvAqfG/3Y9Su0U/EMCv9lKhD+f+v1ggULmMpsM/fezKnTunDsBgw7DXjLegv3OC5f+nv/i/PdL/OOzJ7b9oZ3OW743YPy2a2+52/wzAabSPpOzJ/b/Iza77KAz/v12ccCCRQvS/WrMo8/l1CcDV3Rsv2OICwBaO//9wr/m/oz1FUQGm9L8tHa9I/DwCwDBiMQjkguq/5AnKPL/94T+0LNNVATYBwHBbAqXAtwjAKbW4/Kfn9r/wBxA5QC7Mv0wuVAQ1CxHAnF3/tEas2L8QZqZU2UEKwKCQTYjJ/wHA99Mjy17657/aPUppllH1vy9JtaOp9+K/IsWRY/ym9b9/apCoU6XgvxDqqEcrjPK/Or76a97C/b8uRC3RIJEIwPjWAE6Edf2/Jt2wLnqNAMCeaZJkau8BQO5yz+aMVhLA7gkX9iCP/r/2MbFlSAP7v+LUeZUdcQLA1ftPy9HaDsDOd0M8sdYAwHulxWDzke+/bE7gEL+K8z9C2+zw3U4BwBD5/S9ebdy/5XbBJJBz87+3tkIZGI75v4VG8uU7CPm/IGxgF1EO5r/pHUlO/Dr1vzkCObVwJfq/j6N4M7SV479QRMbdUQr8v7KJShYuzRDAUr8Z/dAx5b/QrkOAZNG6P3jMM8TNo/a/dtVjg+ZpAsDnNDE+3/7vv+27nbvPXAjAglaln1ctDsDty/luOjMTwHigcjZa+cE/6M+KP/81y79mmaikwg/6vyTcrL6TQgXAHFQzylfyA8CG+UDrV0kBwCBB2dXuOtQ/aujRLVIO9T+Smpj+m+v9v3WFnvVNNv6/WlXqk/ou578=\",\"dtype\":\"float64\",\"shape\":[100]},\"y\":{\"__ndarray__\":\"KIT5zNxzA0CRVlbUAyUYQAdgq1zJBw9Ar9V7uDqXDkD60Wxh0jwWQE0kbLA89hVAWF0Vstj7CUBrJnUrS1cOQLYOxKzKzxRAw6oj/dKsDUAzaq8KxzgTQEKcTKGg1RBALluInSh+DUCJ85E3T9sSQAi1Gqursg5AVzkCFGxQFECC06Tn9pESQGBqJHPPGBBAFwJ822DsFUA59iiK2XsUQKCwNp6PvAtAxqpmr9jcBkBYSOtPdJoPQB9geofBkhJAqXrS7lyfCEDH2E0sPRIPQH2Hk/UVmxBAqE2hvjxYCkCWj/kazpoUQOc+W0MtpA5A1eqSI03PEUBa48IYvBQUQN8Ab0ST8QJA0fQHH7/vDUAUWOF4pbcLQBfa/M3RUA9As9P+0K54BEAT+BmUeHIKQJTgmmf2ZhBA1E9Ezh05DUBG0fPk1jMLQKhMPR/PFA9AOQZKGlGiEkASgnokmpsJQD3PWE+Z6g9AJ2Zldwd8DkDFuZHER58QQNnJLyHx5AFA18kFNBN7FED0ZsQb53IGQIgnyLCQYwlAUsla1J+bEkBjNetp6GoSQABMyZbQMRRAFHFPPaAmEUDczdaU3WMQQCLW5wOkBBVA+H8H8XXcC0Aj+myC6OYHQMN4p1ypDQRAZXKT/aPLEUBtMmo3zBkXQF4dG/1XYQNAdLeP1W9EB0AnaMSGDvwQQIkSNcfiOg9AbF7cgVWYA0D69XA9E7IMQDwVq8hlFQlAnOqyUT46F0BCo+J0TioSQKrCy7FjQRNAgSp8JxfGEUD2yprhLRIPQLi9f/g84BFAYi938+AxEkCgR+Wg2FURQMSD4DrhKgtAVTiGPlozEUDKBsB0hucSQLn81Aqe3wJA92Vc9++eEEBbUZPj4+MTQCSIri/1+RNANo1aA7dRCUC0oxXAEQMQQNs3Czw56QFAdQM9N+RDBkC1FQ34HewEQByxELg8exNA3nhkj7NfEUBzZhuRGbcQQOqVtcaVeg1A+clOkNx6DUDafRR2dsEMQOhWrYIVAxFAiw73FWReF0C8wmeAR3ERQNPfSoD6Tw5ANYTWGWgMC0A=\",\"dtype\":\"float64\",\"shape\":[100]}}},\"id\":\"4622da1f-deda-4cf7-b3e2-18f15c1823e7\",\"type\":\"ColumnDataSource\"},{\"attributes\":{\"data_source\":{\"id\":\"828e77d0-13a3-46ff-845a-9f4015f2a32f\",\"type\":\"ColumnDataSource\"},\"glyph\":{\"id\":\"4645a514-48a9-4bb7-a016-74fbde2fa6a9\",\"type\":\"Ellipse\"},\"hover_glyph\":null,\"muted_glyph\":null,\"nonselection_glyph\":{\"id\":\"1f0d6cc4-8394-43bc-ba04-8d89f2b1a297\",\"type\":\"Ellipse\"},\"selection_glyph\":null,\"view\":{\"id\":\"9184c7fd-790d-4c31-9caf-e5e3b1ae7c19\",\"type\":\"CDSView\"}},\"id\":\"592f83b4-3d13-45b1-8ec7-f653db493576\",\"type\":\"GlyphRenderer\"},{\"attributes\":{\"plot\":null,\"text\":\"Data\"},\"id\":\"9680731e-af54-4f3c-ac2c-c7c19a4894d2\",\"type\":\"Title\"},{\"attributes\":{\"source\":{\"id\":\"828e77d0-13a3-46ff-845a-9f4015f2a32f\",\"type\":\"ColumnDataSource\"}},\"id\":\"9184c7fd-790d-4c31-9caf-e5e3b1ae7c19\",\"type\":\"CDSView\"},{\"attributes\":{\"callback\":null,\"data\":{}},\"id\":\"d094203a-22a8-408f-b982-9c54a2964eea\",\"type\":\"ColumnDataSource\"},{\"attributes\":{\"fill_color\":{\"value\":\"blue\"},\"line_color\":{\"value\":\"blue\"},\"x\":{\"value\":-1.5},\"y\":{\"value\":4.0}},\"id\":\"6ef5b2ac-0fc4-4099-a70a-62bc06dbc341\",\"type\":\"Cross\"},{\"attributes\":{\"callback\":null,\"end\":3.5,\"start\":-6.5},\"id\":\"928f7f4e-3f3d-4787-acc5-0fae2a7eb94a\",\"type\":\"Range1d\"},{\"attributes\":{\"fill_alpha\":{\"value\":0.1},\"fill_color\":{\"value\":\"#1f77b4\"},\"line_alpha\":{\"value\":0.1},\"line_color\":{\"value\":\"#1f77b4\"},\"x\":{\"value\":-1.5},\"y\":{\"value\":4.0}},\"id\":\"7546225b-8fc5-476d-936a-f49348b1c10e\",\"type\":\"Cross\"},{\"attributes\":{\"active_drag\":\"auto\",\"active_inspect\":\"auto\",\"active_scroll\":\"auto\",\"active_tap\":\"auto\",\"tools\":[{\"id\":\"6fbcdd5d-782d-407c-904d-a53f903c3102\",\"type\":\"PanTool\"},{\"id\":\"219b00b3-7d33-4ff9-bf1b-fe71235e13d2\",\"type\":\"WheelZoomTool\"},{\"id\":\"a478531a-5e2f-445b-9222-2b9d25efe776\",\"type\":\"BoxZoomTool\"},{\"id\":\"30c6ce06-c95e-4529-a102-46477dd69c71\",\"type\":\"SaveTool\"},{\"id\":\"b4ed77c5-3afb-43fe-a711-c97d8228ef70\",\"type\":\"ResetTool\"},{\"id\":\"1b22319b-9475-4d65-9d98-66f7c47d3a84\",\"type\":\"HelpTool\"}]},\"id\":\"22603db4-042f-4ad1-8a15-24e2c2ff6aab\",\"type\":\"Toolbar\"},{\"attributes\":{\"data_source\":{\"id\":\"d094203a-22a8-408f-b982-9c54a2964eea\",\"type\":\"ColumnDataSource\"},\"glyph\":{\"id\":\"6ef5b2ac-0fc4-4099-a70a-62bc06dbc341\",\"type\":\"Cross\"},\"hover_glyph\":null,\"muted_glyph\":null,\"nonselection_glyph\":{\"id\":\"7546225b-8fc5-476d-936a-f49348b1c10e\",\"type\":\"Cross\"},\"selection_glyph\":null,\"view\":{\"id\":\"6bdf6ac6-7c1b-4d72-a25a-6126d5807948\",\"type\":\"CDSView\"}},\"id\":\"d2de7784-3a20-47f0-a63d-23120ce13328\",\"type\":\"GlyphRenderer\"},{\"attributes\":{},\"id\":\"1dba3924-8f9d-42b1-84f7-7e620c4e0aa8\",\"type\":\"BasicTickFormatter\"}],\"root_ids\":[\"a6184f3b-4341-4810-9c4d-9d7f9321016b\"]},\"title\":\"Bokeh Application\",\"version\":\"0.12.14\"}};\n",
       "  var render_items = [{\"docid\":\"462fe194-9c8a-47a6-9f0a-6e284933154e\",\"elementid\":\"60e45ed4-d4bd-4054-90f7-47a048e42505\",\"modelid\":\"a6184f3b-4341-4810-9c4d-9d7f9321016b\"}];\n",
       "  root.Bokeh.embed.embed_items_notebook(docs_json, render_items);\n",
       "\n",
       "  }\n",
       "  if (root.Bokeh !== undefined) {\n",
       "    embed_document(root);\n",
       "  } else {\n",
       "    var attempts = 0;\n",
       "    var timer = setInterval(function(root) {\n",
       "      if (root.Bokeh !== undefined) {\n",
       "        embed_document(root);\n",
       "        clearInterval(timer);\n",
       "      }\n",
       "      attempts++;\n",
       "      if (attempts > 100) {\n",
       "        console.log(\"Bokeh: ERROR: Unable to run BokehJS code because BokehJS library is missing\")\n",
       "        clearInterval(timer);\n",
       "      }\n",
       "    }, 10, root)\n",
       "  }\n",
       "})(window);"
      ],
      "application/vnd.bokehjs_exec.v0+json": ""
     },
     "metadata": {
      "application/vnd.bokehjs_exec.v0+json": {
       "id": "a6184f3b-4341-4810-9c4d-9d7f9321016b"
      }
     },
     "output_type": "display_data"
    }
   ],
   "source": [
    "mean = np.array([-1.5, 4]) \n",
    "cov = np.array([\n",
    "    [2, 1],\n",
    "    [1, .75]\n",
    "])\n",
    "data = np.random.multivariate_normal(mean, cov, size=100)\n",
    "\n",
    "fig = figure(\n",
    "    title='Data',\n",
    "    width=400,\n",
    "    height=400,\n",
    "    x_range=(mean[0] - 5, mean[0] + 5),\n",
    "    y_range=(mean[1] - 5, mean[1] + 5)\n",
    ")\n",
    "fig.circle(data[:, 0], data[:, 1])\n",
    "plotting.plot_normal(fig, mean, cov)\n",
    "\n",
    "show(fig)"
   ]
  },
  {
   "cell_type": "markdown",
   "metadata": {},
   "source": [
    "## Model Creation\n",
    "\n",
    "We create two types of Normal distribution: one diagonal covariance matrix and another one with full covariance matrix."
   ]
  },
  {
   "cell_type": "code",
   "execution_count": 3,
   "metadata": {},
   "outputs": [],
   "source": [
    "normal_diag = beer.NormalDiagonalCovariance.create(torch.ones(2), torch.eye(2), prior_count=1e-3)\n",
    "normal_full = beer.NormalFullCovariance.create(torch.zeros(2), torch.eye(2), prior_count=1e-3)"
   ]
  },
  {
   "cell_type": "markdown",
   "metadata": {},
   "source": [
    "## Variational Bayes Training "
   ]
  },
  {
   "cell_type": "code",
   "execution_count": 4,
   "metadata": {
    "scrolled": false
   },
   "outputs": [
    {
     "name": "stderr",
     "output_type": "stream",
     "text": [
      "/Users/lucasondel/anaconda3/envs/pytorch_src/lib/python3.6/site-packages/bokeh/core/json_encoder.py:80: FutureWarning: Conversion of the second argument of issubdtype from `float` to `np.floating` is deprecated. In future, it will be treated as `np.float64 == np.dtype(float).type`.\n",
      "  elif np.issubdtype(type(obj), np.float):\n"
     ]
    },
    {
     "data": {
      "text/html": [
       "\n",
       "<div class=\"bk-root\">\n",
       "    <div class=\"bk-plotdiv\" id=\"d72fa381-5843-4155-8ffd-1fe67104fb8a\"></div>\n",
       "</div>"
      ]
     },
     "metadata": {},
     "output_type": "display_data"
    },
    {
     "data": {
      "application/javascript": [
       "(function(root) {\n",
       "  function embed_document(root) {\n",
       "    \n",
       "  var docs_json = {\"1d0e5e13-ae3d-4516-97eb-1c1068c707c2\":{\"roots\":{\"references\":[{\"attributes\":{\"formatter\":{\"id\":\"2611817c-a291-4d96-a4a6-c7505c2df804\",\"type\":\"BasicTickFormatter\"},\"plot\":{\"id\":\"f52cfb51-b01e-46c5-a157-d878d2609516\",\"subtype\":\"Figure\",\"type\":\"Plot\"},\"ticker\":{\"id\":\"2b852bbc-29dc-4470-9e44-14166bb82e1e\",\"type\":\"BasicTicker\"}},\"id\":\"4ac9bd63-b546-4a2d-b498-1181cf387cea\",\"type\":\"LinearAxis\"},{\"attributes\":{\"data_source\":{\"id\":\"66da1f24-7d20-4d19-a57c-812d61a820f0\",\"type\":\"ColumnDataSource\"},\"glyph\":{\"id\":\"373869c7-5a66-4894-b51a-7cde26c57f8a\",\"type\":\"Ellipse\"},\"hover_glyph\":null,\"muted_glyph\":null,\"nonselection_glyph\":{\"id\":\"3cdb7f29-18dd-45db-a532-b42a06a72846\",\"type\":\"Ellipse\"},\"selection_glyph\":null,\"view\":{\"id\":\"979f643f-a9ba-4e25-bd25-2fddd138dcfc\",\"type\":\"CDSView\"}},\"id\":\"62333c8f-a5d4-4403-8a46-f80e83df6422\",\"type\":\"GlyphRenderer\"},{\"attributes\":{},\"id\":\"a48355d3-035b-4408-9f37-29be62578abe\",\"type\":\"LinearScale\"},{\"attributes\":{\"source\":{\"id\":\"155ba785-b401-4b2c-a2de-4441e0bc135b\",\"type\":\"ColumnDataSource\"}},\"id\":\"86ac1790-fce3-4bb9-a91e-f24c6a8b3c62\",\"type\":\"CDSView\"},{\"attributes\":{\"data_source\":{\"id\":\"155ba785-b401-4b2c-a2de-4441e0bc135b\",\"type\":\"ColumnDataSource\"},\"glyph\":{\"id\":\"723ecc2f-6959-494a-afdf-617362b8868e\",\"type\":\"Cross\"},\"hover_glyph\":null,\"muted_glyph\":null,\"nonselection_glyph\":{\"id\":\"4a0954bb-a3d2-4b55-994b-34903093db2a\",\"type\":\"Cross\"},\"selection_glyph\":null,\"view\":{\"id\":\"86ac1790-fce3-4bb9-a91e-f24c6a8b3c62\",\"type\":\"CDSView\"}},\"id\":\"dd65f1a7-61c8-4f49-9091-e7c0ddbc8215\",\"type\":\"GlyphRenderer\"},{\"attributes\":{},\"id\":\"2b852bbc-29dc-4470-9e44-14166bb82e1e\",\"type\":\"BasicTicker\"},{\"attributes\":{\"formatter\":{\"id\":\"99706285-9c5a-4933-90c2-70d3f5f0fe1e\",\"type\":\"BasicTickFormatter\"},\"plot\":{\"id\":\"f52cfb51-b01e-46c5-a157-d878d2609516\",\"subtype\":\"Figure\",\"type\":\"Plot\"},\"ticker\":{\"id\":\"31cafcd5-90ee-4b33-9d5d-97ea76ffc8af\",\"type\":\"BasicTicker\"}},\"id\":\"b40b8b53-e04a-4f7a-95d5-276f68faf326\",\"type\":\"LinearAxis\"},{\"attributes\":{\"callback\":null,\"data\":{}},\"id\":\"66da1f24-7d20-4d19-a57c-812d61a820f0\",\"type\":\"ColumnDataSource\"},{\"attributes\":{},\"id\":\"31cafcd5-90ee-4b33-9d5d-97ea76ffc8af\",\"type\":\"BasicTicker\"},{\"attributes\":{\"fill_alpha\":{\"value\":0.1},\"fill_color\":{\"value\":\"#1f77b4\"},\"line_alpha\":{\"value\":0.1},\"line_color\":{\"value\":\"#1f77b4\"},\"x\":{\"value\":-1.535033106803894},\"y\":{\"value\":4.004238128662109}},\"id\":\"4a0954bb-a3d2-4b55-994b-34903093db2a\",\"type\":\"Cross\"},{\"attributes\":{\"fill_color\":{\"value\":\"#1f77b4\"},\"line_color\":{\"value\":\"#1f77b4\"},\"x\":{\"field\":\"x\"},\"y\":{\"field\":\"y\"}},\"id\":\"f604c62f-4a3a-4bff-83d1-81165482dc31\",\"type\":\"Circle\"},{\"attributes\":{\"fill_alpha\":{\"value\":0.1},\"fill_color\":{\"value\":\"#1f77b4\"},\"line_alpha\":{\"value\":0.1},\"line_color\":{\"value\":\"#1f77b4\"},\"x\":{\"field\":\"x\"},\"y\":{\"field\":\"y\"}},\"id\":\"055fe7f1-87d4-4523-929b-48e410270106\",\"type\":\"Circle\"},{\"attributes\":{\"source\":{\"id\":\"66da1f24-7d20-4d19-a57c-812d61a820f0\",\"type\":\"ColumnDataSource\"}},\"id\":\"979f643f-a9ba-4e25-bd25-2fddd138dcfc\",\"type\":\"CDSView\"},{\"attributes\":{},\"id\":\"b7bc583e-d1be-46bc-98a5-3f0c4525e99b\",\"type\":\"HelpTool\"},{\"attributes\":{\"callback\":null,\"data\":{}},\"id\":\"155ba785-b401-4b2c-a2de-4441e0bc135b\",\"type\":\"ColumnDataSource\"},{\"attributes\":{\"angle\":{\"units\":\"rad\",\"value\":-1.0475810766220093},\"fill_alpha\":{\"value\":0.25},\"fill_color\":{\"value\":\"green\"},\"height\":{\"units\":\"data\",\"value\":6.4679274559021},\"line_alpha\":{\"value\":0.25},\"line_color\":{\"value\":\"green\"},\"width\":{\"units\":\"data\",\"value\":1.8053574562072754},\"x\":{\"value\":-1.5350414514541626},\"y\":{\"value\":4.004228591918945}},\"id\":\"6e9265a6-6e0d-431b-9b41-76ca57032f7c\",\"type\":\"Ellipse\"},{\"attributes\":{\"angle\":{\"units\":\"rad\",\"value\":-1.5707963267948966},\"fill_alpha\":{\"value\":0.1},\"fill_color\":{\"value\":\"#1f77b4\"},\"height\":{\"units\":\"data\",\"value\":2.8516552448272705},\"line_alpha\":{\"value\":0.1},\"line_color\":{\"value\":\"#1f77b4\"},\"width\":{\"units\":\"data\",\"value\":1.7907311916351318},\"x\":{\"value\":-1.535033106803894},\"y\":{\"value\":4.004238128662109}},\"id\":\"3cdb7f29-18dd-45db-a532-b42a06a72846\",\"type\":\"Ellipse\"},{\"attributes\":{\"overlay\":{\"id\":\"345e1425-6a3c-49d9-9497-79f67b33b535\",\"type\":\"BoxAnnotation\"}},\"id\":\"7f7e57bf-4aec-45e4-a880-e7ecf3760352\",\"type\":\"BoxZoomTool\"},{\"attributes\":{\"fill_alpha\":{\"value\":0.5},\"fill_color\":{\"value\":\"green\"},\"line_alpha\":{\"value\":0.5},\"line_color\":{\"value\":\"green\"},\"x\":{\"value\":-1.5350414514541626},\"y\":{\"value\":4.004228591918945}},\"id\":\"6bde05f6-4391-4c88-b194-0a61032d20d6\",\"type\":\"Cross\"},{\"attributes\":{},\"id\":\"0253fbf7-171e-499e-adae-18469a7b50f5\",\"type\":\"SaveTool\"},{\"attributes\":{\"callback\":null,\"data\":{}},\"id\":\"9034259f-780b-419c-b811-49d5bc45bdee\",\"type\":\"ColumnDataSource\"},{\"attributes\":{},\"id\":\"b4eaab0e-2d62-4359-964e-a06175d7806d\",\"type\":\"ResetTool\"},{\"attributes\":{\"bottom_units\":\"screen\",\"fill_alpha\":{\"value\":0.5},\"fill_color\":{\"value\":\"lightgrey\"},\"left_units\":\"screen\",\"level\":\"overlay\",\"line_alpha\":{\"value\":1.0},\"line_color\":{\"value\":\"black\"},\"line_dash\":[4,4],\"line_width\":{\"value\":2},\"plot\":null,\"render_mode\":\"css\",\"right_units\":\"screen\",\"top_units\":\"screen\"},\"id\":\"345e1425-6a3c-49d9-9497-79f67b33b535\",\"type\":\"BoxAnnotation\"},{\"attributes\":{\"data_source\":{\"id\":\"de4e54a6-328c-4d09-aff0-632d82c5ee5a\",\"type\":\"ColumnDataSource\"},\"glyph\":{\"id\":\"6bde05f6-4391-4c88-b194-0a61032d20d6\",\"type\":\"Cross\"},\"hover_glyph\":null,\"muted_glyph\":null,\"nonselection_glyph\":{\"id\":\"15ca9eda-7239-42df-9514-ef8596a51b21\",\"type\":\"Cross\"},\"selection_glyph\":null,\"view\":{\"id\":\"58cb748c-8031-4499-a64e-d5be06368472\",\"type\":\"CDSView\"}},\"id\":\"71309bef-361a-40eb-9736-8b80dd04f93e\",\"type\":\"GlyphRenderer\"},{\"attributes\":{\"source\":{\"id\":\"21259620-af6f-4452-93c1-8921ec37569a\",\"type\":\"ColumnDataSource\"}},\"id\":\"97e416df-918d-4d99-9a1b-5fe7482027ac\",\"type\":\"CDSView\"},{\"attributes\":{},\"id\":\"6955fd31-7a99-44a4-ab47-871f602b1a46\",\"type\":\"PanTool\"},{\"attributes\":{\"plot\":{\"id\":\"f52cfb51-b01e-46c5-a157-d878d2609516\",\"subtype\":\"Figure\",\"type\":\"Plot\"},\"ticker\":{\"id\":\"2b852bbc-29dc-4470-9e44-14166bb82e1e\",\"type\":\"BasicTicker\"}},\"id\":\"e30d1a1f-24d1-4f11-b4dd-daf9b31b65e6\",\"type\":\"Grid\"},{\"attributes\":{\"data_source\":{\"id\":\"21259620-af6f-4452-93c1-8921ec37569a\",\"type\":\"ColumnDataSource\"},\"glyph\":{\"id\":\"6e9265a6-6e0d-431b-9b41-76ca57032f7c\",\"type\":\"Ellipse\"},\"hover_glyph\":null,\"muted_glyph\":null,\"nonselection_glyph\":{\"id\":\"c737550e-dcd5-47ae-a4a9-c723a2ee5713\",\"type\":\"Ellipse\"},\"selection_glyph\":null,\"view\":{\"id\":\"97e416df-918d-4d99-9a1b-5fe7482027ac\",\"type\":\"CDSView\"}},\"id\":\"74092bcf-ee0b-4632-aa81-42fc7ebc7b92\",\"type\":\"GlyphRenderer\"},{\"attributes\":{},\"id\":\"99706285-9c5a-4933-90c2-70d3f5f0fe1e\",\"type\":\"BasicTickFormatter\"},{\"attributes\":{\"callback\":null,\"data\":{}},\"id\":\"de4e54a6-328c-4d09-aff0-632d82c5ee5a\",\"type\":\"ColumnDataSource\"},{\"attributes\":{\"callback\":null,\"column_names\":[\"x\",\"y\"],\"data\":{\"x\":{\"__ndarray__\":\"coGme7RhA8BMpqFlhE3rP4MwWJeBCem/hnUs3BtyAMBQYH4VN+fiP9CTZyIz9s+/mzZr4TrCEMA+iy1tOdH4v/g2Elp17uU/oeWEYpS2AcCgEzReNxHJvyPyfEdaqwfAufaXViCCBsCkQFMJdB/RvyWsb1tcfv2/AP1pm02LfD9Y+pzMH/biP6jUpqqLsAPAykR+5CWj9D8Wjfv97Pjsv9W9Cj6dqQfArPCbRuoWDcB/Ix0AQEL+vzbzWYvAqfG/3Y9Su0U/EMCv9lKhD+f+v1ggULmMpsM/fezKnTunDsBgw7DXjLegv3OC5f+nv/i/PdL/OOzJ7b9oZ3OW743YPy2a2+52/wzAabSPpOzJ/b/Iza77KAz/v12ccCCRQvS/WrMo8/l1CcDV3Rsv2OICwBaO//9wr/m/oz1FUQGm9L8tHa9I/DwCwDBiMQjkguq/5AnKPL/94T+0LNNVATYBwHBbAqXAtwjAKbW4/Kfn9r/wBxA5QC7Mv0wuVAQ1CxHAnF3/tEas2L8QZqZU2UEKwKCQTYjJ/wHA99Mjy17657/aPUppllH1vy9JtaOp9+K/IsWRY/ym9b9/apCoU6XgvxDqqEcrjPK/Or76a97C/b8uRC3RIJEIwPjWAE6Edf2/Jt2wLnqNAMCeaZJkau8BQO5yz+aMVhLA7gkX9iCP/r/2MbFlSAP7v+LUeZUdcQLA1ftPy9HaDsDOd0M8sdYAwHulxWDzke+/bE7gEL+K8z9C2+zw3U4BwBD5/S9ebdy/5XbBJJBz87+3tkIZGI75v4VG8uU7CPm/IGxgF1EO5r/pHUlO/Dr1vzkCObVwJfq/j6N4M7SV479QRMbdUQr8v7KJShYuzRDAUr8Z/dAx5b/QrkOAZNG6P3jMM8TNo/a/dtVjg+ZpAsDnNDE+3/7vv+27nbvPXAjAglaln1ctDsDty/luOjMTwHigcjZa+cE/6M+KP/81y79mmaikwg/6vyTcrL6TQgXAHFQzylfyA8CG+UDrV0kBwCBB2dXuOtQ/aujRLVIO9T+Smpj+m+v9v3WFnvVNNv6/WlXqk/ou578=\",\"dtype\":\"float64\",\"shape\":[100]},\"y\":{\"__ndarray__\":\"KIT5zNxzA0CRVlbUAyUYQAdgq1zJBw9Ar9V7uDqXDkD60Wxh0jwWQE0kbLA89hVAWF0Vstj7CUBrJnUrS1cOQLYOxKzKzxRAw6oj/dKsDUAzaq8KxzgTQEKcTKGg1RBALluInSh+DUCJ85E3T9sSQAi1Gqursg5AVzkCFGxQFECC06Tn9pESQGBqJHPPGBBAFwJ822DsFUA59iiK2XsUQKCwNp6PvAtAxqpmr9jcBkBYSOtPdJoPQB9geofBkhJAqXrS7lyfCEDH2E0sPRIPQH2Hk/UVmxBAqE2hvjxYCkCWj/kazpoUQOc+W0MtpA5A1eqSI03PEUBa48IYvBQUQN8Ab0ST8QJA0fQHH7/vDUAUWOF4pbcLQBfa/M3RUA9As9P+0K54BEAT+BmUeHIKQJTgmmf2ZhBA1E9Ezh05DUBG0fPk1jMLQKhMPR/PFA9AOQZKGlGiEkASgnokmpsJQD3PWE+Z6g9AJ2Zldwd8DkDFuZHER58QQNnJLyHx5AFA18kFNBN7FED0ZsQb53IGQIgnyLCQYwlAUsla1J+bEkBjNetp6GoSQABMyZbQMRRAFHFPPaAmEUDczdaU3WMQQCLW5wOkBBVA+H8H8XXcC0Aj+myC6OYHQMN4p1ypDQRAZXKT/aPLEUBtMmo3zBkXQF4dG/1XYQNAdLeP1W9EB0AnaMSGDvwQQIkSNcfiOg9AbF7cgVWYA0D69XA9E7IMQDwVq8hlFQlAnOqyUT46F0BCo+J0TioSQKrCy7FjQRNAgSp8JxfGEUD2yprhLRIPQLi9f/g84BFAYi938+AxEkCgR+Wg2FURQMSD4DrhKgtAVTiGPlozEUDKBsB0hucSQLn81Aqe3wJA92Vc9++eEEBbUZPj4+MTQCSIri/1+RNANo1aA7dRCUC0oxXAEQMQQNs3Czw56QFAdQM9N+RDBkC1FQ34HewEQByxELg8exNA3nhkj7NfEUBzZhuRGbcQQOqVtcaVeg1A+clOkNx6DUDafRR2dsEMQOhWrYIVAxFAiw73FWReF0C8wmeAR3ERQNPfSoD6Tw5ANYTWGWgMC0A=\",\"dtype\":\"float64\",\"shape\":[100]}}},\"id\":\"1b4f7ec4-4259-4c20-acd1-a4e7fb26bc4a\",\"type\":\"ColumnDataSource\"},{\"attributes\":{\"angle\":{\"units\":\"rad\",\"value\":-1.0475810766220093},\"fill_alpha\":{\"value\":0.1},\"fill_color\":{\"value\":\"#1f77b4\"},\"height\":{\"units\":\"data\",\"value\":6.4679274559021},\"line_alpha\":{\"value\":0.1},\"line_color\":{\"value\":\"#1f77b4\"},\"width\":{\"units\":\"data\",\"value\":1.8053574562072754},\"x\":{\"value\":-1.5350414514541626},\"y\":{\"value\":4.004228591918945}},\"id\":\"c737550e-dcd5-47ae-a4a9-c723a2ee5713\",\"type\":\"Ellipse\"},{\"attributes\":{},\"id\":\"57b31b5f-90f7-4411-b88d-4f35b78206eb\",\"type\":\"WheelZoomTool\"},{\"attributes\":{\"data_source\":{\"id\":\"60313b10-d20b-499a-a36e-6640e30f9053\",\"type\":\"ColumnDataSource\"},\"glyph\":{\"id\":\"670351b8-8e48-429f-971e-0b9411f0a82d\",\"type\":\"Ellipse\"},\"hover_glyph\":null,\"muted_glyph\":null,\"nonselection_glyph\":{\"id\":\"50132340-89d4-4131-8a34-04ee965ec4b6\",\"type\":\"Ellipse\"},\"selection_glyph\":null,\"view\":{\"id\":\"170fcb13-5f82-4944-a9dc-3d99098f5f82\",\"type\":\"CDSView\"}},\"id\":\"247f1d5d-c711-4972-8eeb-1eb4f2120258\",\"type\":\"GlyphRenderer\"},{\"attributes\":{\"source\":{\"id\":\"de4e54a6-328c-4d09-aff0-632d82c5ee5a\",\"type\":\"ColumnDataSource\"}},\"id\":\"58cb748c-8031-4499-a64e-d5be06368472\",\"type\":\"CDSView\"},{\"attributes\":{\"callback\":null,\"end\":3.5,\"start\":-6.5},\"id\":\"62ceb449-9a79-4de6-b9ac-91271396d451\",\"type\":\"Range1d\"},{\"attributes\":{\"callback\":null,\"data\":{}},\"id\":\"21259620-af6f-4452-93c1-8921ec37569a\",\"type\":\"ColumnDataSource\"},{\"attributes\":{\"angle\":{\"units\":\"rad\",\"value\":-1.0475810766220093},\"fill_alpha\":{\"value\":0.5},\"fill_color\":{\"value\":\"green\"},\"height\":{\"units\":\"data\",\"value\":3.23396372795105},\"line_alpha\":{\"value\":0.5},\"line_color\":{\"value\":\"green\"},\"width\":{\"units\":\"data\",\"value\":0.9026787281036377},\"x\":{\"value\":-1.5350414514541626},\"y\":{\"value\":4.004228591918945}},\"id\":\"a052124b-87cf-4461-a04c-1ca4e07fe4e1\",\"type\":\"Ellipse\"},{\"attributes\":{\"data_source\":{\"id\":\"1b4f7ec4-4259-4c20-acd1-a4e7fb26bc4a\",\"type\":\"ColumnDataSource\"},\"glyph\":{\"id\":\"f604c62f-4a3a-4bff-83d1-81165482dc31\",\"type\":\"Circle\"},\"hover_glyph\":null,\"muted_glyph\":null,\"nonselection_glyph\":{\"id\":\"055fe7f1-87d4-4523-929b-48e410270106\",\"type\":\"Circle\"},\"selection_glyph\":null,\"view\":{\"id\":\"e86829bb-4598-4e66-b81c-cd8fe27a2b83\",\"type\":\"CDSView\"}},\"id\":\"20c93cd9-f47c-498e-b84a-b1ec22079854\",\"type\":\"GlyphRenderer\"},{\"attributes\":{\"callback\":null,\"end\":9.0,\"start\":-1.0},\"id\":\"b1a471ac-d6ed-4c74-b190-959a2a3bbccf\",\"type\":\"Range1d\"},{\"attributes\":{\"fill_alpha\":{\"value\":0.1},\"fill_color\":{\"value\":\"#1f77b4\"},\"line_alpha\":{\"value\":0.1},\"line_color\":{\"value\":\"#1f77b4\"},\"x\":{\"value\":-1.5350414514541626},\"y\":{\"value\":4.004228591918945}},\"id\":\"15ca9eda-7239-42df-9514-ef8596a51b21\",\"type\":\"Cross\"},{\"attributes\":{\"source\":{\"id\":\"60313b10-d20b-499a-a36e-6640e30f9053\",\"type\":\"ColumnDataSource\"}},\"id\":\"170fcb13-5f82-4944-a9dc-3d99098f5f82\",\"type\":\"CDSView\"},{\"attributes\":{\"dimension\":1,\"plot\":{\"id\":\"f52cfb51-b01e-46c5-a157-d878d2609516\",\"subtype\":\"Figure\",\"type\":\"Plot\"},\"ticker\":{\"id\":\"31cafcd5-90ee-4b33-9d5d-97ea76ffc8af\",\"type\":\"BasicTicker\"}},\"id\":\"d491c355-1754-44fd-88cb-6eb7689cf19a\",\"type\":\"Grid\"},{\"attributes\":{},\"id\":\"2611817c-a291-4d96-a4a6-c7505c2df804\",\"type\":\"BasicTickFormatter\"},{\"attributes\":{\"below\":[{\"id\":\"4ac9bd63-b546-4a2d-b498-1181cf387cea\",\"type\":\"LinearAxis\"}],\"left\":[{\"id\":\"b40b8b53-e04a-4f7a-95d5-276f68faf326\",\"type\":\"LinearAxis\"}],\"plot_height\":400,\"plot_width\":400,\"renderers\":[{\"id\":\"4ac9bd63-b546-4a2d-b498-1181cf387cea\",\"type\":\"LinearAxis\"},{\"id\":\"e30d1a1f-24d1-4f11-b4dd-daf9b31b65e6\",\"type\":\"Grid\"},{\"id\":\"b40b8b53-e04a-4f7a-95d5-276f68faf326\",\"type\":\"LinearAxis\"},{\"id\":\"d491c355-1754-44fd-88cb-6eb7689cf19a\",\"type\":\"Grid\"},{\"id\":\"345e1425-6a3c-49d9-9497-79f67b33b535\",\"type\":\"BoxAnnotation\"},{\"id\":\"20c93cd9-f47c-498e-b84a-b1ec22079854\",\"type\":\"GlyphRenderer\"},{\"id\":\"247f1d5d-c711-4972-8eeb-1eb4f2120258\",\"type\":\"GlyphRenderer\"},{\"id\":\"dd65f1a7-61c8-4f49-9091-e7c0ddbc8215\",\"type\":\"GlyphRenderer\"},{\"id\":\"62333c8f-a5d4-4403-8a46-f80e83df6422\",\"type\":\"GlyphRenderer\"},{\"id\":\"74092bcf-ee0b-4632-aa81-42fc7ebc7b92\",\"type\":\"GlyphRenderer\"},{\"id\":\"71309bef-361a-40eb-9736-8b80dd04f93e\",\"type\":\"GlyphRenderer\"},{\"id\":\"32826abe-8090-4178-86f9-3bae18f6a12d\",\"type\":\"GlyphRenderer\"}],\"title\":{\"id\":\"f318f339-2dd0-422e-a6ae-f4a46e64f4be\",\"type\":\"Title\"},\"toolbar\":{\"id\":\"1e35aea9-d07f-490f-a5fe-771344bcf86a\",\"type\":\"Toolbar\"},\"x_range\":{\"id\":\"62ceb449-9a79-4de6-b9ac-91271396d451\",\"type\":\"Range1d\"},\"x_scale\":{\"id\":\"baf66ec9-9a45-4866-9798-a8d6484fc767\",\"type\":\"LinearScale\"},\"y_range\":{\"id\":\"b1a471ac-d6ed-4c74-b190-959a2a3bbccf\",\"type\":\"Range1d\"},\"y_scale\":{\"id\":\"a48355d3-035b-4408-9f37-29be62578abe\",\"type\":\"LinearScale\"}},\"id\":\"f52cfb51-b01e-46c5-a157-d878d2609516\",\"subtype\":\"Figure\",\"type\":\"Plot\"},{\"attributes\":{\"angle\":{\"units\":\"rad\",\"value\":-1.5707963267948966},\"fill_alpha\":{\"value\":0.1},\"fill_color\":{\"value\":\"#1f77b4\"},\"height\":{\"units\":\"data\",\"value\":5.703310489654541},\"line_alpha\":{\"value\":0.1},\"line_color\":{\"value\":\"#1f77b4\"},\"width\":{\"units\":\"data\",\"value\":3.5814623832702637},\"x\":{\"value\":-1.535033106803894},\"y\":{\"value\":4.004238128662109}},\"id\":\"50132340-89d4-4131-8a34-04ee965ec4b6\",\"type\":\"Ellipse\"},{\"attributes\":{\"active_drag\":\"auto\",\"active_inspect\":\"auto\",\"active_scroll\":\"auto\",\"active_tap\":\"auto\",\"tools\":[{\"id\":\"6955fd31-7a99-44a4-ab47-871f602b1a46\",\"type\":\"PanTool\"},{\"id\":\"57b31b5f-90f7-4411-b88d-4f35b78206eb\",\"type\":\"WheelZoomTool\"},{\"id\":\"7f7e57bf-4aec-45e4-a880-e7ecf3760352\",\"type\":\"BoxZoomTool\"},{\"id\":\"0253fbf7-171e-499e-adae-18469a7b50f5\",\"type\":\"SaveTool\"},{\"id\":\"b4eaab0e-2d62-4359-964e-a06175d7806d\",\"type\":\"ResetTool\"},{\"id\":\"b7bc583e-d1be-46bc-98a5-3f0c4525e99b\",\"type\":\"HelpTool\"}]},\"id\":\"1e35aea9-d07f-490f-a5fe-771344bcf86a\",\"type\":\"Toolbar\"},{\"attributes\":{\"fill_alpha\":{\"value\":0.5},\"fill_color\":{\"value\":\"red\"},\"line_alpha\":{\"value\":0.5},\"line_color\":{\"value\":\"red\"},\"x\":{\"value\":-1.535033106803894},\"y\":{\"value\":4.004238128662109}},\"id\":\"723ecc2f-6959-494a-afdf-617362b8868e\",\"type\":\"Cross\"},{\"attributes\":{\"source\":{\"id\":\"1b4f7ec4-4259-4c20-acd1-a4e7fb26bc4a\",\"type\":\"ColumnDataSource\"}},\"id\":\"e86829bb-4598-4e66-b81c-cd8fe27a2b83\",\"type\":\"CDSView\"},{\"attributes\":{\"angle\":{\"units\":\"rad\",\"value\":-1.5707963267948966},\"fill_alpha\":{\"value\":0.5},\"fill_color\":{\"value\":\"red\"},\"height\":{\"units\":\"data\",\"value\":2.8516552448272705},\"line_alpha\":{\"value\":0.5},\"line_color\":{\"value\":\"red\"},\"width\":{\"units\":\"data\",\"value\":1.7907311916351318},\"x\":{\"value\":-1.535033106803894},\"y\":{\"value\":4.004238128662109}},\"id\":\"373869c7-5a66-4894-b51a-7cde26c57f8a\",\"type\":\"Ellipse\"},{\"attributes\":{\"angle\":{\"units\":\"rad\",\"value\":-1.5707963267948966},\"fill_alpha\":{\"value\":0.25},\"fill_color\":{\"value\":\"red\"},\"height\":{\"units\":\"data\",\"value\":5.703310489654541},\"line_alpha\":{\"value\":0.25},\"line_color\":{\"value\":\"red\"},\"width\":{\"units\":\"data\",\"value\":3.5814623832702637},\"x\":{\"value\":-1.535033106803894},\"y\":{\"value\":4.004238128662109}},\"id\":\"670351b8-8e48-429f-971e-0b9411f0a82d\",\"type\":\"Ellipse\"},{\"attributes\":{\"source\":{\"id\":\"9034259f-780b-419c-b811-49d5bc45bdee\",\"type\":\"ColumnDataSource\"}},\"id\":\"4b84fb83-1407-4877-9461-520dae8cbf08\",\"type\":\"CDSView\"},{\"attributes\":{\"data_source\":{\"id\":\"9034259f-780b-419c-b811-49d5bc45bdee\",\"type\":\"ColumnDataSource\"},\"glyph\":{\"id\":\"a052124b-87cf-4461-a04c-1ca4e07fe4e1\",\"type\":\"Ellipse\"},\"hover_glyph\":null,\"muted_glyph\":null,\"nonselection_glyph\":{\"id\":\"7268992b-7c8d-4492-b9f0-de5bae3a5368\",\"type\":\"Ellipse\"},\"selection_glyph\":null,\"view\":{\"id\":\"4b84fb83-1407-4877-9461-520dae8cbf08\",\"type\":\"CDSView\"}},\"id\":\"32826abe-8090-4178-86f9-3bae18f6a12d\",\"type\":\"GlyphRenderer\"},{\"attributes\":{\"plot\":null,\"text\":\"Initial model\"},\"id\":\"f318f339-2dd0-422e-a6ae-f4a46e64f4be\",\"type\":\"Title\"},{\"attributes\":{\"angle\":{\"units\":\"rad\",\"value\":-1.0475810766220093},\"fill_alpha\":{\"value\":0.1},\"fill_color\":{\"value\":\"#1f77b4\"},\"height\":{\"units\":\"data\",\"value\":3.23396372795105},\"line_alpha\":{\"value\":0.1},\"line_color\":{\"value\":\"#1f77b4\"},\"width\":{\"units\":\"data\",\"value\":0.9026787281036377},\"x\":{\"value\":-1.5350414514541626},\"y\":{\"value\":4.004228591918945}},\"id\":\"7268992b-7c8d-4492-b9f0-de5bae3a5368\",\"type\":\"Ellipse\"},{\"attributes\":{\"callback\":null,\"data\":{}},\"id\":\"60313b10-d20b-499a-a36e-6640e30f9053\",\"type\":\"ColumnDataSource\"},{\"attributes\":{},\"id\":\"baf66ec9-9a45-4866-9798-a8d6484fc767\",\"type\":\"LinearScale\"}],\"root_ids\":[\"f52cfb51-b01e-46c5-a157-d878d2609516\"]},\"title\":\"Bokeh Application\",\"version\":\"0.12.14\"}};\n",
       "  var render_items = [{\"docid\":\"1d0e5e13-ae3d-4516-97eb-1c1068c707c2\",\"elementid\":\"d72fa381-5843-4155-8ffd-1fe67104fb8a\",\"modelid\":\"f52cfb51-b01e-46c5-a157-d878d2609516\"}];\n",
       "  root.Bokeh.embed.embed_items_notebook(docs_json, render_items);\n",
       "\n",
       "  }\n",
       "  if (root.Bokeh !== undefined) {\n",
       "    embed_document(root);\n",
       "  } else {\n",
       "    var attempts = 0;\n",
       "    var timer = setInterval(function(root) {\n",
       "      if (root.Bokeh !== undefined) {\n",
       "        embed_document(root);\n",
       "        clearInterval(timer);\n",
       "      }\n",
       "      attempts++;\n",
       "      if (attempts > 100) {\n",
       "        console.log(\"Bokeh: ERROR: Unable to run BokehJS code because BokehJS library is missing\")\n",
       "        clearInterval(timer);\n",
       "      }\n",
       "    }, 10, root)\n",
       "  }\n",
       "})(window);"
      ],
      "application/vnd.bokehjs_exec.v0+json": ""
     },
     "metadata": {
      "application/vnd.bokehjs_exec.v0+json": {
       "id": "f52cfb51-b01e-46c5-a157-d878d2609516"
      }
     },
     "output_type": "display_data"
    }
   ],
   "source": [
    "# Training.\n",
    "beer.train_loglinear_model(normal_diag, torch.from_numpy(data).float())\n",
    "beer.train_loglinear_model(normal_full, torch.from_numpy(data).float())\n",
    "\n",
    "fig = figure(\n",
    "    title='Initial model',\n",
    "    width=400,\n",
    "    height=400,\n",
    "    x_range=(mean[0] - 5, mean[0] + 5),\n",
    "    y_range=(mean[1] - 5, mean[1] + 5)\n",
    ")\n",
    "fig.circle(data[:, 0], data[:, 1])\n",
    "plotting.plot_normal(fig, normal_diag.mean.numpy(), normal_diag.cov.numpy(), alpha=.5, color='red')\n",
    "plotting.plot_normal(fig, normal_full.mean.numpy(), normal_full.cov.numpy(), alpha=.5, color='green')\n",
    "\n",
    "show(fig)"
   ]
  },
  {
   "cell_type": "code",
   "execution_count": 5,
   "metadata": {},
   "outputs": [
    {
     "name": "stderr",
     "output_type": "stream",
     "text": [
      "/Users/lucasondel/anaconda3/envs/pytorch_src/lib/python3.6/site-packages/bokeh/core/json_encoder.py:80: FutureWarning: Conversion of the second argument of issubdtype from `float` to `np.floating` is deprecated. In future, it will be treated as `np.float64 == np.dtype(float).type`.\n",
      "  elif np.issubdtype(type(obj), np.float):\n"
     ]
    },
    {
     "data": {
      "text/html": [
       "\n",
       "<div class=\"bk-root\">\n",
       "    <div class=\"bk-plotdiv\" id=\"47d495a3-6a0f-41fd-b2c9-92deedbefcf0\"></div>\n",
       "</div>"
      ]
     },
     "metadata": {},
     "output_type": "display_data"
    },
    {
     "data": {
      "application/javascript": [
       "(function(root) {\n",
       "  function embed_document(root) {\n",
       "    \n",
       "  var docs_json = {\"ddeeccab-69f8-4741-8fa1-70210604d0b8\":{\"roots\":{\"references\":[{\"attributes\":{\"active_drag\":\"auto\",\"active_inspect\":\"auto\",\"active_scroll\":\"auto\",\"active_tap\":\"auto\",\"tools\":[{\"id\":\"dfb59cb2-abe7-433e-9bb2-b8523a1bf1c0\",\"type\":\"PanTool\"},{\"id\":\"110f2889-0360-4683-b189-06c7440ddff4\",\"type\":\"WheelZoomTool\"},{\"id\":\"c976daa1-173b-4a12-9052-0dade5b7bef8\",\"type\":\"BoxZoomTool\"},{\"id\":\"d96967c3-5aff-4af5-8658-6bd95581c549\",\"type\":\"SaveTool\"},{\"id\":\"e8b20162-61f9-4b7e-9af9-b085cc563912\",\"type\":\"ResetTool\"},{\"id\":\"3e8ec303-2f1b-44a9-b1d6-53479eee9c4a\",\"type\":\"HelpTool\"}]},\"id\":\"21b838c7-9c22-4891-8169-22427960b1e5\",\"type\":\"Toolbar\"},{\"attributes\":{\"data_source\":{\"id\":\"895ed497-e155-4583-88ba-037807542819\",\"type\":\"ColumnDataSource\"},\"glyph\":{\"id\":\"8c443f22-0efd-42b5-a154-c6431d3b2693\",\"type\":\"Ellipse\"},\"hover_glyph\":null,\"muted_glyph\":null,\"nonselection_glyph\":{\"id\":\"8725926a-a0ca-48b9-8eb5-d5009eb66d45\",\"type\":\"Ellipse\"},\"selection_glyph\":null,\"view\":{\"id\":\"f2d97b77-1f2d-4c1b-8db6-b9e1662d7b61\",\"type\":\"CDSView\"}},\"id\":\"8dd195fe-315c-4155-9a2b-b72231948606\",\"type\":\"GlyphRenderer\"},{\"attributes\":{\"plot\":null,\"text\":\"Initial model\"},\"id\":\"b01d698a-f5d6-422f-bcbb-6eff5dae759a\",\"type\":\"Title\"},{\"attributes\":{\"source\":{\"id\":\"893bee11-c46a-4fa8-ba83-b13c7d6e18c0\",\"type\":\"ColumnDataSource\"}},\"id\":\"d2b7c51d-31c7-4280-b117-89e32c3bba31\",\"type\":\"CDSView\"},{\"attributes\":{\"callback\":null,\"end\":9.0,\"start\":-1.0},\"id\":\"4a71208e-6472-4185-a5af-2ed5f92ce4d9\",\"type\":\"Range1d\"},{\"attributes\":{},\"id\":\"a4195d8f-476c-47ea-ad94-52137f932269\",\"type\":\"LinearScale\"},{\"attributes\":{\"fill_alpha\":{\"value\":0.1},\"fill_color\":{\"value\":\"#1f77b4\"},\"line_alpha\":{\"value\":0.1},\"line_color\":{\"value\":\"#1f77b4\"},\"x\":{\"field\":\"x\"},\"y\":{\"field\":\"y\"}},\"id\":\"44fa92e4-1b9d-401b-9ef0-61a36fd8e1db\",\"type\":\"Circle\"},{\"attributes\":{},\"id\":\"eaa26855-fee4-4600-8a51-a1a68c7cb621\",\"type\":\"BasicTicker\"},{\"attributes\":{\"callback\":null,\"end\":3.5,\"start\":-6.5},\"id\":\"846e6c4d-6df0-44cf-9ea4-9b297d38de59\",\"type\":\"Range1d\"},{\"attributes\":{\"formatter\":{\"id\":\"52a55c86-8498-4025-abd4-ee258a4cbff2\",\"type\":\"BasicTickFormatter\"},\"plot\":{\"id\":\"7f064592-ff97-4fda-b4b5-ea0ddd7094a8\",\"subtype\":\"Figure\",\"type\":\"Plot\"},\"ticker\":{\"id\":\"5b0c5413-8fa4-412b-8fc5-d28060c7fbac\",\"type\":\"BasicTicker\"}},\"id\":\"6286a712-0335-4518-8a61-364100a317ca\",\"type\":\"LinearAxis\"},{\"attributes\":{\"formatter\":{\"id\":\"3658e39b-44e1-4796-a6cb-e977de0a6ab6\",\"type\":\"BasicTickFormatter\"},\"plot\":{\"id\":\"7f064592-ff97-4fda-b4b5-ea0ddd7094a8\",\"subtype\":\"Figure\",\"type\":\"Plot\"},\"ticker\":{\"id\":\"eaa26855-fee4-4600-8a51-a1a68c7cb621\",\"type\":\"BasicTicker\"}},\"id\":\"7fecaae4-3c2b-4bb5-8806-8440b4adcd61\",\"type\":\"LinearAxis\"},{\"attributes\":{\"bottom_units\":\"screen\",\"fill_alpha\":{\"value\":0.5},\"fill_color\":{\"value\":\"lightgrey\"},\"left_units\":\"screen\",\"level\":\"overlay\",\"line_alpha\":{\"value\":1.0},\"line_color\":{\"value\":\"black\"},\"line_dash\":[4,4],\"line_width\":{\"value\":2},\"plot\":null,\"render_mode\":\"css\",\"right_units\":\"screen\",\"top_units\":\"screen\"},\"id\":\"d160bd53-9c48-41f5-866a-44c9e106c28e\",\"type\":\"BoxAnnotation\"},{\"attributes\":{\"dimension\":1,\"plot\":{\"id\":\"7f064592-ff97-4fda-b4b5-ea0ddd7094a8\",\"subtype\":\"Figure\",\"type\":\"Plot\"},\"ticker\":{\"id\":\"5b0c5413-8fa4-412b-8fc5-d28060c7fbac\",\"type\":\"BasicTicker\"}},\"id\":\"35cb3a2f-f8e5-452b-9cbf-512065e74709\",\"type\":\"Grid\"},{\"attributes\":{\"plot\":{\"id\":\"7f064592-ff97-4fda-b4b5-ea0ddd7094a8\",\"subtype\":\"Figure\",\"type\":\"Plot\"},\"ticker\":{\"id\":\"eaa26855-fee4-4600-8a51-a1a68c7cb621\",\"type\":\"BasicTicker\"}},\"id\":\"713d4dce-6ceb-45c4-a6de-63b642f0a9d6\",\"type\":\"Grid\"},{\"attributes\":{},\"id\":\"62cea18c-c1c3-479c-b977-cbb6e6733b5e\",\"type\":\"LinearScale\"},{\"attributes\":{},\"id\":\"52a55c86-8498-4025-abd4-ee258a4cbff2\",\"type\":\"BasicTickFormatter\"},{\"attributes\":{},\"id\":\"5b0c5413-8fa4-412b-8fc5-d28060c7fbac\",\"type\":\"BasicTicker\"},{\"attributes\":{\"callback\":null,\"data\":{}},\"id\":\"0e624b36-9971-404f-8f71-7a74c0f25b24\",\"type\":\"ColumnDataSource\"},{\"attributes\":{\"data_source\":{\"id\":\"893bee11-c46a-4fa8-ba83-b13c7d6e18c0\",\"type\":\"ColumnDataSource\"},\"glyph\":{\"id\":\"dde75165-5df9-4b20-8d31-c281c9a50e41\",\"type\":\"Circle\"},\"hover_glyph\":null,\"muted_glyph\":null,\"nonselection_glyph\":{\"id\":\"44fa92e4-1b9d-401b-9ef0-61a36fd8e1db\",\"type\":\"Circle\"},\"selection_glyph\":null,\"view\":{\"id\":\"d2b7c51d-31c7-4280-b117-89e32c3bba31\",\"type\":\"CDSView\"}},\"id\":\"ac698bb3-7f3c-4c97-9728-79d1149f0a87\",\"type\":\"GlyphRenderer\"},{\"attributes\":{},\"id\":\"dfb59cb2-abe7-433e-9bb2-b8523a1bf1c0\",\"type\":\"PanTool\"},{\"attributes\":{},\"id\":\"e8b20162-61f9-4b7e-9af9-b085cc563912\",\"type\":\"ResetTool\"},{\"attributes\":{\"overlay\":{\"id\":\"d160bd53-9c48-41f5-866a-44c9e106c28e\",\"type\":\"BoxAnnotation\"}},\"id\":\"c976daa1-173b-4a12-9052-0dade5b7bef8\",\"type\":\"BoxZoomTool\"},{\"attributes\":{},\"id\":\"d96967c3-5aff-4af5-8658-6bd95581c549\",\"type\":\"SaveTool\"},{\"attributes\":{},\"id\":\"110f2889-0360-4683-b189-06c7440ddff4\",\"type\":\"WheelZoomTool\"},{\"attributes\":{\"data_source\":{\"id\":\"0e624b36-9971-404f-8f71-7a74c0f25b24\",\"type\":\"ColumnDataSource\"},\"glyph\":{\"id\":\"d8d15fd8-28eb-4dc7-a2de-3a1cf1e9e8f9\",\"type\":\"Ellipse\"},\"hover_glyph\":null,\"muted_glyph\":null,\"nonselection_glyph\":{\"id\":\"b125fe90-83b9-46a2-9241-eb05fc8d4f95\",\"type\":\"Ellipse\"},\"selection_glyph\":null,\"view\":{\"id\":\"d4c94a20-7768-454b-960e-f66032df969a\",\"type\":\"CDSView\"}},\"id\":\"ba535dd2-ad98-4915-a4b5-c7f058ea8f0e\",\"type\":\"GlyphRenderer\"},{\"attributes\":{\"callback\":null,\"data\":{}},\"id\":\"2158e141-783c-4c83-8370-a5893eb30624\",\"type\":\"ColumnDataSource\"},{\"attributes\":{\"callback\":null,\"data\":{}},\"id\":\"ed535916-de48-416e-b07b-9c2f497176a9\",\"type\":\"ColumnDataSource\"},{\"attributes\":{},\"id\":\"3658e39b-44e1-4796-a6cb-e977de0a6ab6\",\"type\":\"BasicTickFormatter\"},{\"attributes\":{\"callback\":null,\"data\":{}},\"id\":\"51e4c119-c3d8-4732-81a0-1995aae4b54c\",\"type\":\"ColumnDataSource\"},{\"attributes\":{},\"id\":\"3e8ec303-2f1b-44a9-b1d6-53479eee9c4a\",\"type\":\"HelpTool\"},{\"attributes\":{\"angle\":{\"units\":\"rad\",\"value\":-1.5707963267948966},\"fill_alpha\":{\"value\":0.25},\"fill_color\":{\"value\":\"blue\"},\"height\":{\"units\":\"data\",\"value\":5.703310489654541},\"line_alpha\":{\"value\":0.25},\"line_color\":{\"value\":\"blue\"},\"width\":{\"units\":\"data\",\"value\":3.5814623832702637},\"x\":{\"value\":-1.535033106803894},\"y\":{\"value\":4.004238128662109}},\"id\":\"d8d15fd8-28eb-4dc7-a2de-3a1cf1e9e8f9\",\"type\":\"Ellipse\"},{\"attributes\":{\"angle\":{\"units\":\"rad\",\"value\":-1.5707963267948966},\"fill_alpha\":{\"value\":0.5},\"fill_color\":{\"value\":\"blue\"},\"height\":{\"units\":\"data\",\"value\":2.8516552448272705},\"line_alpha\":{\"value\":0.5},\"line_color\":{\"value\":\"blue\"},\"width\":{\"units\":\"data\",\"value\":1.7907311916351318},\"x\":{\"value\":-1.535033106803894},\"y\":{\"value\":4.004238128662109}},\"id\":\"4f90d2a1-0ca1-4242-beb0-38030772c37e\",\"type\":\"Ellipse\"},{\"attributes\":{\"fill_alpha\":{\"value\":0.5},\"fill_color\":{\"value\":\"blue\"},\"line_alpha\":{\"value\":0.5},\"line_color\":{\"value\":\"blue\"},\"x\":{\"value\":-1.535033106803894},\"y\":{\"value\":4.004238128662109}},\"id\":\"08230e13-7832-41e3-8cfe-203d3be560ce\",\"type\":\"Cross\"},{\"attributes\":{\"fill_alpha\":{\"value\":0.1},\"fill_color\":{\"value\":\"#1f77b4\"},\"line_alpha\":{\"value\":0.1},\"line_color\":{\"value\":\"#1f77b4\"},\"x\":{\"value\":-1.535033106803894},\"y\":{\"value\":4.004238128662109}},\"id\":\"6f9a06a6-168e-438c-b238-a4102823dba0\",\"type\":\"Cross\"},{\"attributes\":{\"angle\":{\"units\":\"rad\",\"value\":-1.5707963267948966},\"fill_alpha\":{\"value\":0.25},\"fill_color\":{\"value\":\"red\"},\"height\":{\"units\":\"data\",\"value\":5.703310489654541},\"line_alpha\":{\"value\":0.25},\"line_color\":{\"value\":\"red\"},\"width\":{\"units\":\"data\",\"value\":3.5814623832702637},\"x\":{\"value\":-0.10920548439025879},\"y\":{\"value\":4.899603843688965}},\"id\":\"213cf2a4-920f-41f3-8803-1f4deacbd140\",\"type\":\"Ellipse\"},{\"attributes\":{\"data_source\":{\"id\":\"196214da-7900-44f4-9fe7-e765813bae44\",\"type\":\"ColumnDataSource\"},\"glyph\":{\"id\":\"4f90d2a1-0ca1-4242-beb0-38030772c37e\",\"type\":\"Ellipse\"},\"hover_glyph\":null,\"muted_glyph\":null,\"nonselection_glyph\":{\"id\":\"18b86d4a-97b2-4738-b01c-680a46b7717e\",\"type\":\"Ellipse\"},\"selection_glyph\":null,\"view\":{\"id\":\"d0748033-7946-43f5-a41e-ed5f1d88db77\",\"type\":\"CDSView\"}},\"id\":\"4e0d77d6-aaaa-4beb-b21e-2bd5553e4b9d\",\"type\":\"GlyphRenderer\"},{\"attributes\":{\"angle\":{\"units\":\"rad\",\"value\":-1.5707963267948966},\"fill_alpha\":{\"value\":0.1},\"fill_color\":{\"value\":\"#1f77b4\"},\"height\":{\"units\":\"data\",\"value\":5.703310489654541},\"line_alpha\":{\"value\":0.1},\"line_color\":{\"value\":\"#1f77b4\"},\"width\":{\"units\":\"data\",\"value\":3.5814623832702637},\"x\":{\"value\":-1.535033106803894},\"y\":{\"value\":4.004238128662109}},\"id\":\"b125fe90-83b9-46a2-9241-eb05fc8d4f95\",\"type\":\"Ellipse\"},{\"attributes\":{\"fill_alpha\":{\"value\":0.5},\"fill_color\":{\"value\":\"red\"},\"line_alpha\":{\"value\":0.5},\"line_color\":{\"value\":\"red\"},\"x\":{\"value\":-0.10920548439025879},\"y\":{\"value\":4.899603843688965}},\"id\":\"f076ca3d-6557-49e2-a7dc-8eaa11e42354\",\"type\":\"Cross\"},{\"attributes\":{\"source\":{\"id\":\"51e4c119-c3d8-4732-81a0-1995aae4b54c\",\"type\":\"ColumnDataSource\"}},\"id\":\"db273956-b38c-43b9-b04a-efb80555d344\",\"type\":\"CDSView\"},{\"attributes\":{\"angle\":{\"units\":\"rad\",\"value\":-1.5707963267948966},\"fill_alpha\":{\"value\":0.1},\"fill_color\":{\"value\":\"#1f77b4\"},\"height\":{\"units\":\"data\",\"value\":2.8516552448272705},\"line_alpha\":{\"value\":0.1},\"line_color\":{\"value\":\"#1f77b4\"},\"width\":{\"units\":\"data\",\"value\":1.7907311916351318},\"x\":{\"value\":-1.535033106803894},\"y\":{\"value\":4.004238128662109}},\"id\":\"18b86d4a-97b2-4738-b01c-680a46b7717e\",\"type\":\"Ellipse\"},{\"attributes\":{\"data_source\":{\"id\":\"51e4c119-c3d8-4732-81a0-1995aae4b54c\",\"type\":\"ColumnDataSource\"},\"glyph\":{\"id\":\"08230e13-7832-41e3-8cfe-203d3be560ce\",\"type\":\"Cross\"},\"hover_glyph\":null,\"muted_glyph\":null,\"nonselection_glyph\":{\"id\":\"6f9a06a6-168e-438c-b238-a4102823dba0\",\"type\":\"Cross\"},\"selection_glyph\":null,\"view\":{\"id\":\"db273956-b38c-43b9-b04a-efb80555d344\",\"type\":\"CDSView\"}},\"id\":\"05416923-6f43-4ad8-911c-5be429a69730\",\"type\":\"GlyphRenderer\"},{\"attributes\":{\"callback\":null,\"data\":{}},\"id\":\"196214da-7900-44f4-9fe7-e765813bae44\",\"type\":\"ColumnDataSource\"},{\"attributes\":{\"data_source\":{\"id\":\"ed535916-de48-416e-b07b-9c2f497176a9\",\"type\":\"ColumnDataSource\"},\"glyph\":{\"id\":\"213cf2a4-920f-41f3-8803-1f4deacbd140\",\"type\":\"Ellipse\"},\"hover_glyph\":null,\"muted_glyph\":null,\"nonselection_glyph\":{\"id\":\"24d930ef-30ca-4530-b852-748a1658c854\",\"type\":\"Ellipse\"},\"selection_glyph\":null,\"view\":{\"id\":\"9dd7309a-2487-417a-a1b5-4a26d5b3fd36\",\"type\":\"CDSView\"}},\"id\":\"51c94e8a-89af-45ce-8a5e-5849c0408245\",\"type\":\"GlyphRenderer\"},{\"attributes\":{\"source\":{\"id\":\"0e624b36-9971-404f-8f71-7a74c0f25b24\",\"type\":\"ColumnDataSource\"}},\"id\":\"d4c94a20-7768-454b-960e-f66032df969a\",\"type\":\"CDSView\"},{\"attributes\":{\"source\":{\"id\":\"ed535916-de48-416e-b07b-9c2f497176a9\",\"type\":\"ColumnDataSource\"}},\"id\":\"9dd7309a-2487-417a-a1b5-4a26d5b3fd36\",\"type\":\"CDSView\"},{\"attributes\":{\"source\":{\"id\":\"196214da-7900-44f4-9fe7-e765813bae44\",\"type\":\"ColumnDataSource\"}},\"id\":\"d0748033-7946-43f5-a41e-ed5f1d88db77\",\"type\":\"CDSView\"},{\"attributes\":{\"callback\":null,\"data\":{}},\"id\":\"48b1691e-6c52-47fa-ab7b-fba843e9ea91\",\"type\":\"ColumnDataSource\"},{\"attributes\":{\"angle\":{\"units\":\"rad\",\"value\":-1.5707963267948966},\"fill_alpha\":{\"value\":0.1},\"fill_color\":{\"value\":\"#1f77b4\"},\"height\":{\"units\":\"data\",\"value\":5.703310489654541},\"line_alpha\":{\"value\":0.1},\"line_color\":{\"value\":\"#1f77b4\"},\"width\":{\"units\":\"data\",\"value\":3.5814623832702637},\"x\":{\"value\":-0.10920548439025879},\"y\":{\"value\":4.899603843688965}},\"id\":\"24d930ef-30ca-4530-b852-748a1658c854\",\"type\":\"Ellipse\"},{\"attributes\":{\"source\":{\"id\":\"2158e141-783c-4c83-8370-a5893eb30624\",\"type\":\"ColumnDataSource\"}},\"id\":\"5c4bb7d6-7db0-458d-807d-7f932449d689\",\"type\":\"CDSView\"},{\"attributes\":{\"source\":{\"id\":\"c7033b7f-9420-40f9-a77c-5988a37da601\",\"type\":\"ColumnDataSource\"}},\"id\":\"8acdf89d-6469-4a22-a3b5-f07c10f0707b\",\"type\":\"CDSView\"},{\"attributes\":{\"data_source\":{\"id\":\"48b1691e-6c52-47fa-ab7b-fba843e9ea91\",\"type\":\"ColumnDataSource\"},\"glyph\":{\"id\":\"f076ca3d-6557-49e2-a7dc-8eaa11e42354\",\"type\":\"Cross\"},\"hover_glyph\":null,\"muted_glyph\":null,\"nonselection_glyph\":{\"id\":\"e6389b1e-e2f8-48cf-b1b5-db194f161cf5\",\"type\":\"Cross\"},\"selection_glyph\":null,\"view\":{\"id\":\"e7c40a47-293f-4d03-9fb6-a0c386a4539d\",\"type\":\"CDSView\"}},\"id\":\"6522e5ea-c875-48eb-881f-59148ea06d36\",\"type\":\"GlyphRenderer\"},{\"attributes\":{\"angle\":{\"units\":\"rad\",\"value\":-1.5707963267948966},\"fill_alpha\":{\"value\":0.5},\"fill_color\":{\"value\":\"red\"},\"height\":{\"units\":\"data\",\"value\":2.8516552448272705},\"line_alpha\":{\"value\":0.5},\"line_color\":{\"value\":\"red\"},\"width\":{\"units\":\"data\",\"value\":1.7907311916351318},\"x\":{\"value\":-0.10920548439025879},\"y\":{\"value\":4.899603843688965}},\"id\":\"742c6b16-327e-4796-bc88-0e9ea24ba847\",\"type\":\"Ellipse\"},{\"attributes\":{\"callback\":null,\"column_names\":[\"x\",\"y\"],\"data\":{\"x\":{\"__ndarray__\":\"coGme7RhA8BMpqFlhE3rP4MwWJeBCem/hnUs3BtyAMBQYH4VN+fiP9CTZyIz9s+/mzZr4TrCEMA+iy1tOdH4v/g2Elp17uU/oeWEYpS2AcCgEzReNxHJvyPyfEdaqwfAufaXViCCBsCkQFMJdB/RvyWsb1tcfv2/AP1pm02LfD9Y+pzMH/biP6jUpqqLsAPAykR+5CWj9D8Wjfv97Pjsv9W9Cj6dqQfArPCbRuoWDcB/Ix0AQEL+vzbzWYvAqfG/3Y9Su0U/EMCv9lKhD+f+v1ggULmMpsM/fezKnTunDsBgw7DXjLegv3OC5f+nv/i/PdL/OOzJ7b9oZ3OW743YPy2a2+52/wzAabSPpOzJ/b/Iza77KAz/v12ccCCRQvS/WrMo8/l1CcDV3Rsv2OICwBaO//9wr/m/oz1FUQGm9L8tHa9I/DwCwDBiMQjkguq/5AnKPL/94T+0LNNVATYBwHBbAqXAtwjAKbW4/Kfn9r/wBxA5QC7Mv0wuVAQ1CxHAnF3/tEas2L8QZqZU2UEKwKCQTYjJ/wHA99Mjy17657/aPUppllH1vy9JtaOp9+K/IsWRY/ym9b9/apCoU6XgvxDqqEcrjPK/Or76a97C/b8uRC3RIJEIwPjWAE6Edf2/Jt2wLnqNAMCeaZJkau8BQO5yz+aMVhLA7gkX9iCP/r/2MbFlSAP7v+LUeZUdcQLA1ftPy9HaDsDOd0M8sdYAwHulxWDzke+/bE7gEL+K8z9C2+zw3U4BwBD5/S9ebdy/5XbBJJBz87+3tkIZGI75v4VG8uU7CPm/IGxgF1EO5r/pHUlO/Dr1vzkCObVwJfq/j6N4M7SV479QRMbdUQr8v7KJShYuzRDAUr8Z/dAx5b/QrkOAZNG6P3jMM8TNo/a/dtVjg+ZpAsDnNDE+3/7vv+27nbvPXAjAglaln1ctDsDty/luOjMTwHigcjZa+cE/6M+KP/81y79mmaikwg/6vyTcrL6TQgXAHFQzylfyA8CG+UDrV0kBwCBB2dXuOtQ/aujRLVIO9T+Smpj+m+v9v3WFnvVNNv6/WlXqk/ou578=\",\"dtype\":\"float64\",\"shape\":[100]},\"y\":{\"__ndarray__\":\"KIT5zNxzA0CRVlbUAyUYQAdgq1zJBw9Ar9V7uDqXDkD60Wxh0jwWQE0kbLA89hVAWF0Vstj7CUBrJnUrS1cOQLYOxKzKzxRAw6oj/dKsDUAzaq8KxzgTQEKcTKGg1RBALluInSh+DUCJ85E3T9sSQAi1Gqursg5AVzkCFGxQFECC06Tn9pESQGBqJHPPGBBAFwJ822DsFUA59iiK2XsUQKCwNp6PvAtAxqpmr9jcBkBYSOtPdJoPQB9geofBkhJAqXrS7lyfCEDH2E0sPRIPQH2Hk/UVmxBAqE2hvjxYCkCWj/kazpoUQOc+W0MtpA5A1eqSI03PEUBa48IYvBQUQN8Ab0ST8QJA0fQHH7/vDUAUWOF4pbcLQBfa/M3RUA9As9P+0K54BEAT+BmUeHIKQJTgmmf2ZhBA1E9Ezh05DUBG0fPk1jMLQKhMPR/PFA9AOQZKGlGiEkASgnokmpsJQD3PWE+Z6g9AJ2Zldwd8DkDFuZHER58QQNnJLyHx5AFA18kFNBN7FED0ZsQb53IGQIgnyLCQYwlAUsla1J+bEkBjNetp6GoSQABMyZbQMRRAFHFPPaAmEUDczdaU3WMQQCLW5wOkBBVA+H8H8XXcC0Aj+myC6OYHQMN4p1ypDQRAZXKT/aPLEUBtMmo3zBkXQF4dG/1XYQNAdLeP1W9EB0AnaMSGDvwQQIkSNcfiOg9AbF7cgVWYA0D69XA9E7IMQDwVq8hlFQlAnOqyUT46F0BCo+J0TioSQKrCy7FjQRNAgSp8JxfGEUD2yprhLRIPQLi9f/g84BFAYi938+AxEkCgR+Wg2FURQMSD4DrhKgtAVTiGPlozEUDKBsB0hucSQLn81Aqe3wJA92Vc9++eEEBbUZPj4+MTQCSIri/1+RNANo1aA7dRCUC0oxXAEQMQQNs3Czw56QFAdQM9N+RDBkC1FQ34HewEQByxELg8exNA3nhkj7NfEUBzZhuRGbcQQOqVtcaVeg1A+clOkNx6DUDafRR2dsEMQOhWrYIVAxFAiw73FWReF0C8wmeAR3ERQNPfSoD6Tw5ANYTWGWgMC0A=\",\"dtype\":\"float64\",\"shape\":[100]}}},\"id\":\"893bee11-c46a-4fa8-ba83-b13c7d6e18c0\",\"type\":\"ColumnDataSource\"},{\"attributes\":{\"fill_alpha\":{\"value\":0.1},\"fill_color\":{\"value\":\"#1f77b4\"},\"line_alpha\":{\"value\":0.1},\"line_color\":{\"value\":\"#1f77b4\"},\"x\":{\"value\":-0.10920548439025879},\"y\":{\"value\":4.899603843688965}},\"id\":\"e6389b1e-e2f8-48cf-b1b5-db194f161cf5\",\"type\":\"Cross\"},{\"attributes\":{\"callback\":null,\"data\":{}},\"id\":\"c7033b7f-9420-40f9-a77c-5988a37da601\",\"type\":\"ColumnDataSource\"},{\"attributes\":{\"callback\":null,\"data\":{}},\"id\":\"189df59f-374a-4266-9d94-5b8fc78d9af3\",\"type\":\"ColumnDataSource\"},{\"attributes\":{\"data_source\":{\"id\":\"2158e141-783c-4c83-8370-a5893eb30624\",\"type\":\"ColumnDataSource\"},\"glyph\":{\"id\":\"03b7437f-aa78-4c05-a5cf-cee110a90297\",\"type\":\"Ellipse\"},\"hover_glyph\":null,\"muted_glyph\":null,\"nonselection_glyph\":{\"id\":\"27d3669f-f827-4e0f-96c3-ce35f1fce24e\",\"type\":\"Ellipse\"},\"selection_glyph\":null,\"view\":{\"id\":\"5c4bb7d6-7db0-458d-807d-7f932449d689\",\"type\":\"CDSView\"}},\"id\":\"4678a692-0a44-4d09-b6e6-73436a97470b\",\"type\":\"GlyphRenderer\"},{\"attributes\":{\"angle\":{\"units\":\"rad\",\"value\":-1.5707963267948966},\"fill_alpha\":{\"value\":0.1},\"fill_color\":{\"value\":\"#1f77b4\"},\"height\":{\"units\":\"data\",\"value\":2.8516552448272705},\"line_alpha\":{\"value\":0.1},\"line_color\":{\"value\":\"#1f77b4\"},\"width\":{\"units\":\"data\",\"value\":1.7907311916351318},\"x\":{\"value\":-0.10920548439025879},\"y\":{\"value\":4.899603843688965}},\"id\":\"feeb5972-46bf-4bc8-afed-7fe6741420e5\",\"type\":\"Ellipse\"},{\"attributes\":{\"data_source\":{\"id\":\"c7033b7f-9420-40f9-a77c-5988a37da601\",\"type\":\"ColumnDataSource\"},\"glyph\":{\"id\":\"742c6b16-327e-4796-bc88-0e9ea24ba847\",\"type\":\"Ellipse\"},\"hover_glyph\":null,\"muted_glyph\":null,\"nonselection_glyph\":{\"id\":\"feeb5972-46bf-4bc8-afed-7fe6741420e5\",\"type\":\"Ellipse\"},\"selection_glyph\":null,\"view\":{\"id\":\"8acdf89d-6469-4a22-a3b5-f07c10f0707b\",\"type\":\"CDSView\"}},\"id\":\"f6aae652-ab9f-41e0-85ea-37383a86755f\",\"type\":\"GlyphRenderer\"},{\"attributes\":{\"below\":[{\"id\":\"7fecaae4-3c2b-4bb5-8806-8440b4adcd61\",\"type\":\"LinearAxis\"}],\"left\":[{\"id\":\"6286a712-0335-4518-8a61-364100a317ca\",\"type\":\"LinearAxis\"}],\"plot_height\":400,\"plot_width\":400,\"renderers\":[{\"id\":\"7fecaae4-3c2b-4bb5-8806-8440b4adcd61\",\"type\":\"LinearAxis\"},{\"id\":\"713d4dce-6ceb-45c4-a6de-63b642f0a9d6\",\"type\":\"Grid\"},{\"id\":\"6286a712-0335-4518-8a61-364100a317ca\",\"type\":\"LinearAxis\"},{\"id\":\"35cb3a2f-f8e5-452b-9cbf-512065e74709\",\"type\":\"Grid\"},{\"id\":\"d160bd53-9c48-41f5-866a-44c9e106c28e\",\"type\":\"BoxAnnotation\"},{\"id\":\"ac698bb3-7f3c-4c97-9728-79d1149f0a87\",\"type\":\"GlyphRenderer\"},{\"id\":\"ba535dd2-ad98-4915-a4b5-c7f058ea8f0e\",\"type\":\"GlyphRenderer\"},{\"id\":\"05416923-6f43-4ad8-911c-5be429a69730\",\"type\":\"GlyphRenderer\"},{\"id\":\"4e0d77d6-aaaa-4beb-b21e-2bd5553e4b9d\",\"type\":\"GlyphRenderer\"},{\"id\":\"51c94e8a-89af-45ce-8a5e-5849c0408245\",\"type\":\"GlyphRenderer\"},{\"id\":\"6522e5ea-c875-48eb-881f-59148ea06d36\",\"type\":\"GlyphRenderer\"},{\"id\":\"f6aae652-ab9f-41e0-85ea-37383a86755f\",\"type\":\"GlyphRenderer\"},{\"id\":\"4678a692-0a44-4d09-b6e6-73436a97470b\",\"type\":\"GlyphRenderer\"},{\"id\":\"e837da68-c52e-4834-9db1-49ec547fa446\",\"type\":\"GlyphRenderer\"},{\"id\":\"8dd195fe-315c-4155-9a2b-b72231948606\",\"type\":\"GlyphRenderer\"}],\"title\":{\"id\":\"b01d698a-f5d6-422f-bcbb-6eff5dae759a\",\"type\":\"Title\"},\"toolbar\":{\"id\":\"21b838c7-9c22-4891-8169-22427960b1e5\",\"type\":\"Toolbar\"},\"x_range\":{\"id\":\"846e6c4d-6df0-44cf-9ea4-9b297d38de59\",\"type\":\"Range1d\"},\"x_scale\":{\"id\":\"a4195d8f-476c-47ea-ad94-52137f932269\",\"type\":\"LinearScale\"},\"y_range\":{\"id\":\"4a71208e-6472-4185-a5af-2ed5f92ce4d9\",\"type\":\"Range1d\"},\"y_scale\":{\"id\":\"62cea18c-c1c3-479c-b977-cbb6e6733b5e\",\"type\":\"LinearScale\"}},\"id\":\"7f064592-ff97-4fda-b4b5-ea0ddd7094a8\",\"subtype\":\"Figure\",\"type\":\"Plot\"},{\"attributes\":{\"fill_color\":{\"value\":\"#1f77b4\"},\"line_color\":{\"value\":\"#1f77b4\"},\"x\":{\"field\":\"x\"},\"y\":{\"field\":\"y\"}},\"id\":\"dde75165-5df9-4b20-8d31-c281c9a50e41\",\"type\":\"Circle\"},{\"attributes\":{\"fill_alpha\":{\"value\":0.5},\"fill_color\":{\"value\":\"green\"},\"line_alpha\":{\"value\":0.5},\"line_color\":{\"value\":\"green\"},\"x\":{\"value\":-2.9608609676361084},\"y\":{\"value\":3.108872413635254}},\"id\":\"bb1c10ed-66c9-4827-8839-f1825614e66c\",\"type\":\"Cross\"},{\"attributes\":{\"angle\":{\"units\":\"rad\",\"value\":-1.5707963267948966},\"fill_alpha\":{\"value\":0.25},\"fill_color\":{\"value\":\"green\"},\"height\":{\"units\":\"data\",\"value\":5.703309535980225},\"line_alpha\":{\"value\":0.25},\"line_color\":{\"value\":\"green\"},\"width\":{\"units\":\"data\",\"value\":3.5814623832702637},\"x\":{\"value\":-2.9608609676361084},\"y\":{\"value\":3.108872413635254}},\"id\":\"03b7437f-aa78-4c05-a5cf-cee110a90297\",\"type\":\"Ellipse\"},{\"attributes\":{\"source\":{\"id\":\"48b1691e-6c52-47fa-ab7b-fba843e9ea91\",\"type\":\"ColumnDataSource\"}},\"id\":\"e7c40a47-293f-4d03-9fb6-a0c386a4539d\",\"type\":\"CDSView\"},{\"attributes\":{\"fill_alpha\":{\"value\":0.1},\"fill_color\":{\"value\":\"#1f77b4\"},\"line_alpha\":{\"value\":0.1},\"line_color\":{\"value\":\"#1f77b4\"},\"x\":{\"value\":-2.9608609676361084},\"y\":{\"value\":3.108872413635254}},\"id\":\"6a3f3089-6e9a-49f5-bf06-d0fd78660f11\",\"type\":\"Cross\"},{\"attributes\":{\"source\":{\"id\":\"189df59f-374a-4266-9d94-5b8fc78d9af3\",\"type\":\"ColumnDataSource\"}},\"id\":\"2446ccfe-535a-41bc-bee7-a76af6b6aca5\",\"type\":\"CDSView\"},{\"attributes\":{\"angle\":{\"units\":\"rad\",\"value\":-1.5707963267948966},\"fill_alpha\":{\"value\":0.1},\"fill_color\":{\"value\":\"#1f77b4\"},\"height\":{\"units\":\"data\",\"value\":5.703309535980225},\"line_alpha\":{\"value\":0.1},\"line_color\":{\"value\":\"#1f77b4\"},\"width\":{\"units\":\"data\",\"value\":3.5814623832702637},\"x\":{\"value\":-2.9608609676361084},\"y\":{\"value\":3.108872413635254}},\"id\":\"27d3669f-f827-4e0f-96c3-ce35f1fce24e\",\"type\":\"Ellipse\"},{\"attributes\":{\"angle\":{\"units\":\"rad\",\"value\":-1.5707963267948966},\"fill_alpha\":{\"value\":0.5},\"fill_color\":{\"value\":\"green\"},\"height\":{\"units\":\"data\",\"value\":2.8516547679901123},\"line_alpha\":{\"value\":0.5},\"line_color\":{\"value\":\"green\"},\"width\":{\"units\":\"data\",\"value\":1.7907311916351318},\"x\":{\"value\":-2.9608609676361084},\"y\":{\"value\":3.108872413635254}},\"id\":\"8c443f22-0efd-42b5-a154-c6431d3b2693\",\"type\":\"Ellipse\"},{\"attributes\":{\"data_source\":{\"id\":\"189df59f-374a-4266-9d94-5b8fc78d9af3\",\"type\":\"ColumnDataSource\"},\"glyph\":{\"id\":\"bb1c10ed-66c9-4827-8839-f1825614e66c\",\"type\":\"Cross\"},\"hover_glyph\":null,\"muted_glyph\":null,\"nonselection_glyph\":{\"id\":\"6a3f3089-6e9a-49f5-bf06-d0fd78660f11\",\"type\":\"Cross\"},\"selection_glyph\":null,\"view\":{\"id\":\"2446ccfe-535a-41bc-bee7-a76af6b6aca5\",\"type\":\"CDSView\"}},\"id\":\"e837da68-c52e-4834-9db1-49ec547fa446\",\"type\":\"GlyphRenderer\"},{\"attributes\":{\"callback\":null,\"data\":{}},\"id\":\"895ed497-e155-4583-88ba-037807542819\",\"type\":\"ColumnDataSource\"},{\"attributes\":{\"source\":{\"id\":\"895ed497-e155-4583-88ba-037807542819\",\"type\":\"ColumnDataSource\"}},\"id\":\"f2d97b77-1f2d-4c1b-8db6-b9e1662d7b61\",\"type\":\"CDSView\"},{\"attributes\":{\"angle\":{\"units\":\"rad\",\"value\":-1.5707963267948966},\"fill_alpha\":{\"value\":0.1},\"fill_color\":{\"value\":\"#1f77b4\"},\"height\":{\"units\":\"data\",\"value\":2.8516547679901123},\"line_alpha\":{\"value\":0.1},\"line_color\":{\"value\":\"#1f77b4\"},\"width\":{\"units\":\"data\",\"value\":1.7907311916351318},\"x\":{\"value\":-2.9608609676361084},\"y\":{\"value\":3.108872413635254}},\"id\":\"8725926a-a0ca-48b9-8eb5-d5009eb66d45\",\"type\":\"Ellipse\"}],\"root_ids\":[\"7f064592-ff97-4fda-b4b5-ea0ddd7094a8\"]},\"title\":\"Bokeh Application\",\"version\":\"0.12.14\"}};\n",
       "  var render_items = [{\"docid\":\"ddeeccab-69f8-4741-8fa1-70210604d0b8\",\"elementid\":\"47d495a3-6a0f-41fd-b2c9-92deedbefcf0\",\"modelid\":\"7f064592-ff97-4fda-b4b5-ea0ddd7094a8\"}];\n",
       "  root.Bokeh.embed.embed_items_notebook(docs_json, render_items);\n",
       "\n",
       "  }\n",
       "  if (root.Bokeh !== undefined) {\n",
       "    embed_document(root);\n",
       "  } else {\n",
       "    var attempts = 0;\n",
       "    var timer = setInterval(function(root) {\n",
       "      if (root.Bokeh !== undefined) {\n",
       "        embed_document(root);\n",
       "        clearInterval(timer);\n",
       "      }\n",
       "      attempts++;\n",
       "      if (attempts > 100) {\n",
       "        console.log(\"Bokeh: ERROR: Unable to run BokehJS code because BokehJS library is missing\")\n",
       "        clearInterval(timer);\n",
       "      }\n",
       "    }, 10, root)\n",
       "  }\n",
       "})(window);"
      ],
      "application/vnd.bokehjs_exec.v0+json": ""
     },
     "metadata": {
      "application/vnd.bokehjs_exec.v0+json": {
       "id": "7f064592-ff97-4fda-b4b5-ea0ddd7094a8"
      }
     },
     "output_type": "display_data"
    }
   ],
   "source": [
    "n1, n2 = normal_diag.split()\n",
    "\n",
    "fig = figure(\n",
    "    title='Initial model',\n",
    "    width=400,\n",
    "    height=400,\n",
    "    x_range=(mean[0] - 5, mean[0] + 5),\n",
    "    y_range=(mean[1] - 5, mean[1] + 5)\n",
    ")\n",
    "fig.circle(data[:, 0], data[:, 1])\n",
    "plotting.plot_normal(fig, normal_diag.mean.numpy(), normal_diag.cov.numpy(), alpha=.5, color='blue')\n",
    "plotting.plot_normal(fig, n1.mean.numpy(), n1.cov.numpy(), alpha=.5, color='red')\n",
    "plotting.plot_normal(fig, n2.mean.numpy(), n2.cov.numpy(), alpha=.5, color='green')\n",
    "show(fig)"
   ]
  },
  {
   "cell_type": "code",
   "execution_count": 6,
   "metadata": {},
   "outputs": [
    {
     "name": "stderr",
     "output_type": "stream",
     "text": [
      "/Users/lucasondel/anaconda3/envs/pytorch_src/lib/python3.6/site-packages/bokeh/core/json_encoder.py:80: FutureWarning: Conversion of the second argument of issubdtype from `float` to `np.floating` is deprecated. In future, it will be treated as `np.float64 == np.dtype(float).type`.\n",
      "  elif np.issubdtype(type(obj), np.float):\n"
     ]
    },
    {
     "data": {
      "text/html": [
       "\n",
       "<div class=\"bk-root\">\n",
       "    <div class=\"bk-plotdiv\" id=\"e50ed07d-72e1-47b9-9d96-64c96e07a0a5\"></div>\n",
       "</div>"
      ]
     },
     "metadata": {},
     "output_type": "display_data"
    },
    {
     "data": {
      "application/javascript": [
       "(function(root) {\n",
       "  function embed_document(root) {\n",
       "    \n",
       "  var docs_json = {\"b15d4eb2-f181-419b-aeea-2a65e7ebe13a\":{\"roots\":{\"references\":[{\"attributes\":{\"angle\":{\"units\":\"rad\",\"value\":-1.0475810766220093},\"fill_alpha\":{\"value\":0.25},\"fill_color\":{\"value\":\"blue\"},\"height\":{\"units\":\"data\",\"value\":6.4679274559021},\"line_alpha\":{\"value\":0.25},\"line_color\":{\"value\":\"blue\"},\"width\":{\"units\":\"data\",\"value\":1.8053574562072754},\"x\":{\"value\":-1.5350414514541626},\"y\":{\"value\":4.004228591918945}},\"id\":\"4fc4b52f-cc6a-4374-aa5e-a8ac4ed960e4\",\"type\":\"Ellipse\"},{\"attributes\":{\"angle\":{\"units\":\"rad\",\"value\":-1.0475810766220093},\"fill_alpha\":{\"value\":0.1},\"fill_color\":{\"value\":\"#1f77b4\"},\"height\":{\"units\":\"data\",\"value\":6.4679274559021},\"line_alpha\":{\"value\":0.1},\"line_color\":{\"value\":\"#1f77b4\"},\"width\":{\"units\":\"data\",\"value\":1.8053574562072754},\"x\":{\"value\":-1.5350414514541626},\"y\":{\"value\":4.004228591918945}},\"id\":\"f59fff2f-21c6-44cf-99be-4d6757b326f3\",\"type\":\"Ellipse\"},{\"attributes\":{\"data_source\":{\"id\":\"2e9bb3c5-f7a4-458c-bffe-40ef058f6d61\",\"type\":\"ColumnDataSource\"},\"glyph\":{\"id\":\"4fc4b52f-cc6a-4374-aa5e-a8ac4ed960e4\",\"type\":\"Ellipse\"},\"hover_glyph\":null,\"muted_glyph\":null,\"nonselection_glyph\":{\"id\":\"f59fff2f-21c6-44cf-99be-4d6757b326f3\",\"type\":\"Ellipse\"},\"selection_glyph\":null,\"view\":{\"id\":\"4b55e4a4-f4ef-47f5-8376-345626815179\",\"type\":\"CDSView\"}},\"id\":\"af5990cb-961e-468d-b1db-0cda8a96b957\",\"type\":\"GlyphRenderer\"},{\"attributes\":{\"source\":{\"id\":\"2e9bb3c5-f7a4-458c-bffe-40ef058f6d61\",\"type\":\"ColumnDataSource\"}},\"id\":\"4b55e4a4-f4ef-47f5-8376-345626815179\",\"type\":\"CDSView\"},{\"attributes\":{},\"id\":\"6d57e461-11f0-45f4-9e28-e6e4ced1782c\",\"type\":\"BasicTickFormatter\"},{\"attributes\":{\"angle\":{\"units\":\"rad\",\"value\":-1.0475810766220093},\"fill_alpha\":{\"value\":0.5},\"fill_color\":{\"value\":\"blue\"},\"height\":{\"units\":\"data\",\"value\":3.23396372795105},\"line_alpha\":{\"value\":0.5},\"line_color\":{\"value\":\"blue\"},\"width\":{\"units\":\"data\",\"value\":0.9026787281036377},\"x\":{\"value\":-1.5350414514541626},\"y\":{\"value\":4.004228591918945}},\"id\":\"e57a7dfb-502a-4914-9910-611812d2c4df\",\"type\":\"Ellipse\"},{\"attributes\":{\"callback\":null,\"data\":{}},\"id\":\"0fc5d4cd-1e3c-4dd5-961d-e974c13a9203\",\"type\":\"ColumnDataSource\"},{\"attributes\":{\"fill_alpha\":{\"value\":0.5},\"fill_color\":{\"value\":\"blue\"},\"line_alpha\":{\"value\":0.5},\"line_color\":{\"value\":\"blue\"},\"x\":{\"value\":-1.5350414514541626},\"y\":{\"value\":4.004228591918945}},\"id\":\"592b8890-4c74-468e-b984-e323b440b002\",\"type\":\"Cross\"},{\"attributes\":{\"fill_alpha\":{\"value\":0.1},\"fill_color\":{\"value\":\"#1f77b4\"},\"line_alpha\":{\"value\":0.1},\"line_color\":{\"value\":\"#1f77b4\"},\"x\":{\"value\":-1.5350414514541626},\"y\":{\"value\":4.004228591918945}},\"id\":\"c9a92acd-db60-4022-a4a9-bd76de79b204\",\"type\":\"Cross\"},{\"attributes\":{\"callback\":null,\"data\":{}},\"id\":\"f7ad2e87-9ed2-4acc-b5fb-50aa74f60477\",\"type\":\"ColumnDataSource\"},{\"attributes\":{\"data_source\":{\"id\":\"0fc5d4cd-1e3c-4dd5-961d-e974c13a9203\",\"type\":\"ColumnDataSource\"},\"glyph\":{\"id\":\"592b8890-4c74-468e-b984-e323b440b002\",\"type\":\"Cross\"},\"hover_glyph\":null,\"muted_glyph\":null,\"nonselection_glyph\":{\"id\":\"c9a92acd-db60-4022-a4a9-bd76de79b204\",\"type\":\"Cross\"},\"selection_glyph\":null,\"view\":{\"id\":\"d7168240-9709-4d00-bdcf-ef25239e1f5f\",\"type\":\"CDSView\"}},\"id\":\"c745f29c-f83a-4658-9745-50b9d91676f8\",\"type\":\"GlyphRenderer\"},{\"attributes\":{\"source\":{\"id\":\"0fc5d4cd-1e3c-4dd5-961d-e974c13a9203\",\"type\":\"ColumnDataSource\"}},\"id\":\"d7168240-9709-4d00-bdcf-ef25239e1f5f\",\"type\":\"CDSView\"},{\"attributes\":{\"data_source\":{\"id\":\"f7ad2e87-9ed2-4acc-b5fb-50aa74f60477\",\"type\":\"ColumnDataSource\"},\"glyph\":{\"id\":\"e57a7dfb-502a-4914-9910-611812d2c4df\",\"type\":\"Ellipse\"},\"hover_glyph\":null,\"muted_glyph\":null,\"nonselection_glyph\":{\"id\":\"9d124e2b-6929-4a4a-b4ca-810bc61d8f78\",\"type\":\"Ellipse\"},\"selection_glyph\":null,\"view\":{\"id\":\"3a391c87-d372-4470-93d6-efb87a6ed257\",\"type\":\"CDSView\"}},\"id\":\"4fff8845-0e5d-454e-bfea-060a60c8708f\",\"type\":\"GlyphRenderer\"},{\"attributes\":{\"callback\":null,\"data\":{}},\"id\":\"a020a773-e82f-4c00-8546-fc532956ede8\",\"type\":\"ColumnDataSource\"},{\"attributes\":{\"angle\":{\"units\":\"rad\",\"value\":-1.0475810766220093},\"fill_alpha\":{\"value\":0.1},\"fill_color\":{\"value\":\"#1f77b4\"},\"height\":{\"units\":\"data\",\"value\":3.23396372795105},\"line_alpha\":{\"value\":0.1},\"line_color\":{\"value\":\"#1f77b4\"},\"width\":{\"units\":\"data\",\"value\":0.9026787281036377},\"x\":{\"value\":-1.5350414514541626},\"y\":{\"value\":4.004228591918945}},\"id\":\"9d124e2b-6929-4a4a-b4ca-810bc61d8f78\",\"type\":\"Ellipse\"},{\"attributes\":{\"angle\":{\"units\":\"rad\",\"value\":-1.0475811958312988},\"fill_alpha\":{\"value\":0.25},\"fill_color\":{\"value\":\"red\"},\"height\":{\"units\":\"data\",\"value\":6.467927932739258},\"line_alpha\":{\"value\":0.25},\"line_color\":{\"value\":\"red\"},\"width\":{\"units\":\"data\",\"value\":1.8053570985794067},\"x\":{\"value\":-2.710179090499878},\"y\":{\"value\":2.80531644821167}},\"id\":\"457ae335-51e3-4443-9c86-d49b2388fb29\",\"type\":\"Ellipse\"},{\"attributes\":{\"source\":{\"id\":\"f7ad2e87-9ed2-4acc-b5fb-50aa74f60477\",\"type\":\"ColumnDataSource\"}},\"id\":\"3a391c87-d372-4470-93d6-efb87a6ed257\",\"type\":\"CDSView\"},{\"attributes\":{\"fill_alpha\":{\"value\":0.5},\"fill_color\":{\"value\":\"red\"},\"line_alpha\":{\"value\":0.5},\"line_color\":{\"value\":\"red\"},\"x\":{\"value\":-2.710179090499878},\"y\":{\"value\":2.80531644821167}},\"id\":\"4e643485-adbd-4942-b4d2-77a9926de00e\",\"type\":\"Cross\"},{\"attributes\":{\"angle\":{\"units\":\"rad\",\"value\":-1.0475811958312988},\"fill_alpha\":{\"value\":0.1},\"fill_color\":{\"value\":\"#1f77b4\"},\"height\":{\"units\":\"data\",\"value\":6.467927932739258},\"line_alpha\":{\"value\":0.1},\"line_color\":{\"value\":\"#1f77b4\"},\"width\":{\"units\":\"data\",\"value\":1.8053570985794067},\"x\":{\"value\":-2.710179090499878},\"y\":{\"value\":2.80531644821167}},\"id\":\"3239ce74-1736-43f8-8eb5-6def120a9a42\",\"type\":\"Ellipse\"},{\"attributes\":{\"callback\":null,\"data\":{}},\"id\":\"d39fdb36-fa0e-4811-a3d7-0206305c7193\",\"type\":\"ColumnDataSource\"},{\"attributes\":{\"data_source\":{\"id\":\"a007c0a6-3f86-4dc2-90fb-6dca6f0b8d01\",\"type\":\"ColumnDataSource\"},\"glyph\":{\"id\":\"457ae335-51e3-4443-9c86-d49b2388fb29\",\"type\":\"Ellipse\"},\"hover_glyph\":null,\"muted_glyph\":null,\"nonselection_glyph\":{\"id\":\"3239ce74-1736-43f8-8eb5-6def120a9a42\",\"type\":\"Ellipse\"},\"selection_glyph\":null,\"view\":{\"id\":\"d33b8a49-1b21-48ad-a263-a6d1790366a9\",\"type\":\"CDSView\"}},\"id\":\"0bb7f02d-4e19-46fb-b0c2-cd65be625a88\",\"type\":\"GlyphRenderer\"},{\"attributes\":{\"plot\":null,\"text\":\"Initial model\"},\"id\":\"a7fdaf42-95f4-4ced-90cc-c31be0f24ebc\",\"type\":\"Title\"},{\"attributes\":{\"source\":{\"id\":\"a007c0a6-3f86-4dc2-90fb-6dca6f0b8d01\",\"type\":\"ColumnDataSource\"}},\"id\":\"d33b8a49-1b21-48ad-a263-a6d1790366a9\",\"type\":\"CDSView\"},{\"attributes\":{\"data_source\":{\"id\":\"d39fdb36-fa0e-4811-a3d7-0206305c7193\",\"type\":\"ColumnDataSource\"},\"glyph\":{\"id\":\"4e643485-adbd-4942-b4d2-77a9926de00e\",\"type\":\"Cross\"},\"hover_glyph\":null,\"muted_glyph\":null,\"nonselection_glyph\":{\"id\":\"92752f58-fa8a-416f-b71a-af94d615b9f9\",\"type\":\"Cross\"},\"selection_glyph\":null,\"view\":{\"id\":\"0fabaca6-8848-401f-9f60-5e919c61036f\",\"type\":\"CDSView\"}},\"id\":\"a20fc851-4647-46e4-912f-68896f9203eb\",\"type\":\"GlyphRenderer\"},{\"attributes\":{\"callback\":null,\"data\":{}},\"id\":\"536dacdd-8e27-4c24-bd91-06a2195b7054\",\"type\":\"ColumnDataSource\"},{\"attributes\":{\"fill_alpha\":{\"value\":0.1},\"fill_color\":{\"value\":\"#1f77b4\"},\"line_alpha\":{\"value\":0.1},\"line_color\":{\"value\":\"#1f77b4\"},\"x\":{\"value\":-2.710179090499878},\"y\":{\"value\":2.80531644821167}},\"id\":\"92752f58-fa8a-416f-b71a-af94d615b9f9\",\"type\":\"Cross\"},{\"attributes\":{\"angle\":{\"units\":\"rad\",\"value\":-1.0475811958312988},\"fill_alpha\":{\"value\":0.5},\"fill_color\":{\"value\":\"red\"},\"height\":{\"units\":\"data\",\"value\":3.233963966369629},\"line_alpha\":{\"value\":0.5},\"line_color\":{\"value\":\"red\"},\"width\":{\"units\":\"data\",\"value\":0.9026785492897034},\"x\":{\"value\":-2.710179090499878},\"y\":{\"value\":2.80531644821167}},\"id\":\"592a848a-5dbd-42af-b132-ab3c579b0406\",\"type\":\"Ellipse\"},{\"attributes\":{},\"id\":\"97ac0ecf-0684-4a30-8e7d-cea84ed7deef\",\"type\":\"PanTool\"},{\"attributes\":{\"formatter\":{\"id\":\"6d57e461-11f0-45f4-9e28-e6e4ced1782c\",\"type\":\"BasicTickFormatter\"},\"plot\":{\"id\":\"3694692b-2040-4f9b-a124-1ce4bef551f0\",\"subtype\":\"Figure\",\"type\":\"Plot\"},\"ticker\":{\"id\":\"9fdc8730-b77d-411b-b8cd-1ef380a4c402\",\"type\":\"BasicTicker\"}},\"id\":\"d92c9931-883b-4d28-9963-b51647e7a331\",\"type\":\"LinearAxis\"},{\"attributes\":{\"source\":{\"id\":\"d39fdb36-fa0e-4811-a3d7-0206305c7193\",\"type\":\"ColumnDataSource\"}},\"id\":\"0fabaca6-8848-401f-9f60-5e919c61036f\",\"type\":\"CDSView\"},{\"attributes\":{\"angle\":{\"units\":\"rad\",\"value\":-1.0475810766220093},\"fill_alpha\":{\"value\":0.25},\"fill_color\":{\"value\":\"green\"},\"height\":{\"units\":\"data\",\"value\":6.467926502227783},\"line_alpha\":{\"value\":0.25},\"line_color\":{\"value\":\"green\"},\"width\":{\"units\":\"data\",\"value\":1.8053569793701172},\"x\":{\"value\":-0.3599056899547577},\"y\":{\"value\":5.203139781951904}},\"id\":\"fc19bb85-7dc9-4686-90e6-edb3d9f2e804\",\"type\":\"Ellipse\"},{\"attributes\":{\"angle\":{\"units\":\"rad\",\"value\":-1.0475811958312988},\"fill_alpha\":{\"value\":0.1},\"fill_color\":{\"value\":\"#1f77b4\"},\"height\":{\"units\":\"data\",\"value\":3.233963966369629},\"line_alpha\":{\"value\":0.1},\"line_color\":{\"value\":\"#1f77b4\"},\"width\":{\"units\":\"data\",\"value\":0.9026785492897034},\"x\":{\"value\":-2.710179090499878},\"y\":{\"value\":2.80531644821167}},\"id\":\"819f6b4b-b8f3-4d00-8fda-38e29f4cdad8\",\"type\":\"Ellipse\"},{\"attributes\":{\"source\":{\"id\":\"e1b7d17b-ac10-4080-8750-010e5d66655b\",\"type\":\"ColumnDataSource\"}},\"id\":\"dce3f1ec-8bf1-4411-ad52-7b7c6800710f\",\"type\":\"CDSView\"},{\"attributes\":{\"data_source\":{\"id\":\"536dacdd-8e27-4c24-bd91-06a2195b7054\",\"type\":\"ColumnDataSource\"},\"glyph\":{\"id\":\"592a848a-5dbd-42af-b132-ab3c579b0406\",\"type\":\"Ellipse\"},\"hover_glyph\":null,\"muted_glyph\":null,\"nonselection_glyph\":{\"id\":\"819f6b4b-b8f3-4d00-8fda-38e29f4cdad8\",\"type\":\"Ellipse\"},\"selection_glyph\":null,\"view\":{\"id\":\"7cb366c0-cd96-4960-92a3-988e7344d03e\",\"type\":\"CDSView\"}},\"id\":\"f0be9733-497b-49c1-8dbe-76146bdb35fc\",\"type\":\"GlyphRenderer\"},{\"attributes\":{\"source\":{\"id\":\"536dacdd-8e27-4c24-bd91-06a2195b7054\",\"type\":\"ColumnDataSource\"}},\"id\":\"7cb366c0-cd96-4960-92a3-988e7344d03e\",\"type\":\"CDSView\"},{\"attributes\":{\"data_source\":{\"id\":\"a020a773-e82f-4c00-8546-fc532956ede8\",\"type\":\"ColumnDataSource\"},\"glyph\":{\"id\":\"fc19bb85-7dc9-4686-90e6-edb3d9f2e804\",\"type\":\"Ellipse\"},\"hover_glyph\":null,\"muted_glyph\":null,\"nonselection_glyph\":{\"id\":\"fac67f9d-3ee3-455c-aa6d-481ef14a1c58\",\"type\":\"Ellipse\"},\"selection_glyph\":null,\"view\":{\"id\":\"c9d10075-4d45-4ca2-ba34-6a30b3113b8a\",\"type\":\"CDSView\"}},\"id\":\"1b807903-fd3d-412b-b96a-ba176ab1a30e\",\"type\":\"GlyphRenderer\"},{\"attributes\":{\"callback\":null,\"data\":{}},\"id\":\"9a07d788-98c9-4bcd-9780-d674c16adf9b\",\"type\":\"ColumnDataSource\"},{\"attributes\":{\"angle\":{\"units\":\"rad\",\"value\":-1.0475810766220093},\"fill_alpha\":{\"value\":0.1},\"fill_color\":{\"value\":\"#1f77b4\"},\"height\":{\"units\":\"data\",\"value\":6.467926502227783},\"line_alpha\":{\"value\":0.1},\"line_color\":{\"value\":\"#1f77b4\"},\"width\":{\"units\":\"data\",\"value\":1.8053569793701172},\"x\":{\"value\":-0.3599056899547577},\"y\":{\"value\":5.203139781951904}},\"id\":\"fac67f9d-3ee3-455c-aa6d-481ef14a1c58\",\"type\":\"Ellipse\"},{\"attributes\":{\"fill_alpha\":{\"value\":0.5},\"fill_color\":{\"value\":\"green\"},\"line_alpha\":{\"value\":0.5},\"line_color\":{\"value\":\"green\"},\"x\":{\"value\":-0.3599056899547577},\"y\":{\"value\":5.203139781951904}},\"id\":\"7d413f6e-217b-4961-a1d5-0c61c128eb36\",\"type\":\"Cross\"},{\"attributes\":{\"source\":{\"id\":\"a020a773-e82f-4c00-8546-fc532956ede8\",\"type\":\"ColumnDataSource\"}},\"id\":\"c9d10075-4d45-4ca2-ba34-6a30b3113b8a\",\"type\":\"CDSView\"},{\"attributes\":{\"below\":[{\"id\":\"d92c9931-883b-4d28-9963-b51647e7a331\",\"type\":\"LinearAxis\"}],\"left\":[{\"id\":\"e0472b66-2309-40b1-bcc7-e5b5637055f2\",\"type\":\"LinearAxis\"}],\"plot_height\":400,\"plot_width\":400,\"renderers\":[{\"id\":\"d92c9931-883b-4d28-9963-b51647e7a331\",\"type\":\"LinearAxis\"},{\"id\":\"c03e0c07-7eb6-4529-97f8-ca1298e18f1f\",\"type\":\"Grid\"},{\"id\":\"e0472b66-2309-40b1-bcc7-e5b5637055f2\",\"type\":\"LinearAxis\"},{\"id\":\"81826d28-7926-4697-91b9-19e0788c6d8d\",\"type\":\"Grid\"},{\"id\":\"7c14d066-65c1-4007-a89d-84473a1be2b8\",\"type\":\"BoxAnnotation\"},{\"id\":\"44ab5301-e232-4059-abd0-744eb380fdf7\",\"type\":\"GlyphRenderer\"},{\"id\":\"af5990cb-961e-468d-b1db-0cda8a96b957\",\"type\":\"GlyphRenderer\"},{\"id\":\"c745f29c-f83a-4658-9745-50b9d91676f8\",\"type\":\"GlyphRenderer\"},{\"id\":\"4fff8845-0e5d-454e-bfea-060a60c8708f\",\"type\":\"GlyphRenderer\"},{\"id\":\"0bb7f02d-4e19-46fb-b0c2-cd65be625a88\",\"type\":\"GlyphRenderer\"},{\"id\":\"a20fc851-4647-46e4-912f-68896f9203eb\",\"type\":\"GlyphRenderer\"},{\"id\":\"f0be9733-497b-49c1-8dbe-76146bdb35fc\",\"type\":\"GlyphRenderer\"},{\"id\":\"1b807903-fd3d-412b-b96a-ba176ab1a30e\",\"type\":\"GlyphRenderer\"},{\"id\":\"ae72395c-1c08-445c-91ed-02fcded7c673\",\"type\":\"GlyphRenderer\"},{\"id\":\"7a802a8a-7cc0-49de-a1dd-76a41b6fcf69\",\"type\":\"GlyphRenderer\"}],\"title\":{\"id\":\"a7fdaf42-95f4-4ced-90cc-c31be0f24ebc\",\"type\":\"Title\"},\"toolbar\":{\"id\":\"50efc406-9d6c-44ea-9a3e-72eca88c92fa\",\"type\":\"Toolbar\"},\"x_range\":{\"id\":\"11c9e40c-aa2f-45ec-a197-8be4a6f5d276\",\"type\":\"Range1d\"},\"x_scale\":{\"id\":\"4708caf8-2c90-4eba-8370-944a034837eb\",\"type\":\"LinearScale\"},\"y_range\":{\"id\":\"738d5b06-674f-4dd1-83fc-2183dbdd3195\",\"type\":\"Range1d\"},\"y_scale\":{\"id\":\"bf8d4b00-c33f-4f23-b23a-99e59c09d2a3\",\"type\":\"LinearScale\"}},\"id\":\"3694692b-2040-4f9b-a124-1ce4bef551f0\",\"subtype\":\"Figure\",\"type\":\"Plot\"},{\"attributes\":{\"angle\":{\"units\":\"rad\",\"value\":-1.0475810766220093},\"fill_alpha\":{\"value\":0.5},\"fill_color\":{\"value\":\"green\"},\"height\":{\"units\":\"data\",\"value\":3.2339632511138916},\"line_alpha\":{\"value\":0.5},\"line_color\":{\"value\":\"green\"},\"width\":{\"units\":\"data\",\"value\":0.9026784896850586},\"x\":{\"value\":-0.3599056899547577},\"y\":{\"value\":5.203139781951904}},\"id\":\"118695ba-ad54-46a0-97a6-2b982fa9e375\",\"type\":\"Ellipse\"},{\"attributes\":{},\"id\":\"7d0f1f43-b6e5-4d7e-ab84-f1074f79bb4b\",\"type\":\"BasicTickFormatter\"},{\"attributes\":{\"fill_alpha\":{\"value\":0.1},\"fill_color\":{\"value\":\"#1f77b4\"},\"line_alpha\":{\"value\":0.1},\"line_color\":{\"value\":\"#1f77b4\"},\"x\":{\"value\":-0.3599056899547577},\"y\":{\"value\":5.203139781951904}},\"id\":\"cf23ae58-12da-40db-a027-c17e02e63136\",\"type\":\"Cross\"},{\"attributes\":{},\"id\":\"9fdc8730-b77d-411b-b8cd-1ef380a4c402\",\"type\":\"BasicTicker\"},{\"attributes\":{\"callback\":null,\"data\":{}},\"id\":\"88d97741-748f-4dbd-8c97-d1f1ff4eb8cd\",\"type\":\"ColumnDataSource\"},{\"attributes\":{\"data_source\":{\"id\":\"9a07d788-98c9-4bcd-9780-d674c16adf9b\",\"type\":\"ColumnDataSource\"},\"glyph\":{\"id\":\"7d413f6e-217b-4961-a1d5-0c61c128eb36\",\"type\":\"Cross\"},\"hover_glyph\":null,\"muted_glyph\":null,\"nonselection_glyph\":{\"id\":\"cf23ae58-12da-40db-a027-c17e02e63136\",\"type\":\"Cross\"},\"selection_glyph\":null,\"view\":{\"id\":\"b5052076-2fe7-471a-a3ff-f871069f8474\",\"type\":\"CDSView\"}},\"id\":\"ae72395c-1c08-445c-91ed-02fcded7c673\",\"type\":\"GlyphRenderer\"},{\"attributes\":{\"source\":{\"id\":\"9a07d788-98c9-4bcd-9780-d674c16adf9b\",\"type\":\"ColumnDataSource\"}},\"id\":\"b5052076-2fe7-471a-a3ff-f871069f8474\",\"type\":\"CDSView\"},{\"attributes\":{\"data_source\":{\"id\":\"88d97741-748f-4dbd-8c97-d1f1ff4eb8cd\",\"type\":\"ColumnDataSource\"},\"glyph\":{\"id\":\"118695ba-ad54-46a0-97a6-2b982fa9e375\",\"type\":\"Ellipse\"},\"hover_glyph\":null,\"muted_glyph\":null,\"nonselection_glyph\":{\"id\":\"0239bb86-04aa-4e36-8959-f744d7d6b4f0\",\"type\":\"Ellipse\"},\"selection_glyph\":null,\"view\":{\"id\":\"bd1718fe-f4db-4848-a327-f168f0d08940\",\"type\":\"CDSView\"}},\"id\":\"7a802a8a-7cc0-49de-a1dd-76a41b6fcf69\",\"type\":\"GlyphRenderer\"},{\"attributes\":{\"dimension\":1,\"plot\":{\"id\":\"3694692b-2040-4f9b-a124-1ce4bef551f0\",\"subtype\":\"Figure\",\"type\":\"Plot\"},\"ticker\":{\"id\":\"cda082b1-83be-478f-a836-76b24a0f712d\",\"type\":\"BasicTicker\"}},\"id\":\"81826d28-7926-4697-91b9-19e0788c6d8d\",\"type\":\"Grid\"},{\"attributes\":{\"overlay\":{\"id\":\"7c14d066-65c1-4007-a89d-84473a1be2b8\",\"type\":\"BoxAnnotation\"}},\"id\":\"9799b86d-7e34-4f45-937f-9f126e690e53\",\"type\":\"BoxZoomTool\"},{\"attributes\":{\"angle\":{\"units\":\"rad\",\"value\":-1.0475810766220093},\"fill_alpha\":{\"value\":0.1},\"fill_color\":{\"value\":\"#1f77b4\"},\"height\":{\"units\":\"data\",\"value\":3.2339632511138916},\"line_alpha\":{\"value\":0.1},\"line_color\":{\"value\":\"#1f77b4\"},\"width\":{\"units\":\"data\",\"value\":0.9026784896850586},\"x\":{\"value\":-0.3599056899547577},\"y\":{\"value\":5.203139781951904}},\"id\":\"0239bb86-04aa-4e36-8959-f744d7d6b4f0\",\"type\":\"Ellipse\"},{\"attributes\":{},\"id\":\"c7bab958-4dee-4238-9990-16725939d332\",\"type\":\"WheelZoomTool\"},{\"attributes\":{\"formatter\":{\"id\":\"7d0f1f43-b6e5-4d7e-ab84-f1074f79bb4b\",\"type\":\"BasicTickFormatter\"},\"plot\":{\"id\":\"3694692b-2040-4f9b-a124-1ce4bef551f0\",\"subtype\":\"Figure\",\"type\":\"Plot\"},\"ticker\":{\"id\":\"cda082b1-83be-478f-a836-76b24a0f712d\",\"type\":\"BasicTicker\"}},\"id\":\"e0472b66-2309-40b1-bcc7-e5b5637055f2\",\"type\":\"LinearAxis\"},{\"attributes\":{},\"id\":\"cda082b1-83be-478f-a836-76b24a0f712d\",\"type\":\"BasicTicker\"},{\"attributes\":{\"source\":{\"id\":\"88d97741-748f-4dbd-8c97-d1f1ff4eb8cd\",\"type\":\"ColumnDataSource\"}},\"id\":\"bd1718fe-f4db-4848-a327-f168f0d08940\",\"type\":\"CDSView\"},{\"attributes\":{\"bottom_units\":\"screen\",\"fill_alpha\":{\"value\":0.5},\"fill_color\":{\"value\":\"lightgrey\"},\"left_units\":\"screen\",\"level\":\"overlay\",\"line_alpha\":{\"value\":1.0},\"line_color\":{\"value\":\"black\"},\"line_dash\":[4,4],\"line_width\":{\"value\":2},\"plot\":null,\"render_mode\":\"css\",\"right_units\":\"screen\",\"top_units\":\"screen\"},\"id\":\"7c14d066-65c1-4007-a89d-84473a1be2b8\",\"type\":\"BoxAnnotation\"},{\"attributes\":{\"data_source\":{\"id\":\"e1b7d17b-ac10-4080-8750-010e5d66655b\",\"type\":\"ColumnDataSource\"},\"glyph\":{\"id\":\"0334bfe5-0208-45e2-a638-195c57880de6\",\"type\":\"Circle\"},\"hover_glyph\":null,\"muted_glyph\":null,\"nonselection_glyph\":{\"id\":\"46fa64cc-651a-4fa1-b5d9-9a3e61123aac\",\"type\":\"Circle\"},\"selection_glyph\":null,\"view\":{\"id\":\"dce3f1ec-8bf1-4411-ad52-7b7c6800710f\",\"type\":\"CDSView\"}},\"id\":\"44ab5301-e232-4059-abd0-744eb380fdf7\",\"type\":\"GlyphRenderer\"},{\"attributes\":{},\"id\":\"bf8d4b00-c33f-4f23-b23a-99e59c09d2a3\",\"type\":\"LinearScale\"},{\"attributes\":{\"plot\":{\"id\":\"3694692b-2040-4f9b-a124-1ce4bef551f0\",\"subtype\":\"Figure\",\"type\":\"Plot\"},\"ticker\":{\"id\":\"9fdc8730-b77d-411b-b8cd-1ef380a4c402\",\"type\":\"BasicTicker\"}},\"id\":\"c03e0c07-7eb6-4529-97f8-ca1298e18f1f\",\"type\":\"Grid\"},{\"attributes\":{},\"id\":\"4708caf8-2c90-4eba-8370-944a034837eb\",\"type\":\"LinearScale\"},{\"attributes\":{\"callback\":null,\"end\":9.0,\"start\":-1.0},\"id\":\"738d5b06-674f-4dd1-83fc-2183dbdd3195\",\"type\":\"Range1d\"},{\"attributes\":{},\"id\":\"c91190cd-fb16-4f10-9a67-2c1357b6cfca\",\"type\":\"HelpTool\"},{\"attributes\":{\"fill_alpha\":{\"value\":0.1},\"fill_color\":{\"value\":\"#1f77b4\"},\"line_alpha\":{\"value\":0.1},\"line_color\":{\"value\":\"#1f77b4\"},\"x\":{\"field\":\"x\"},\"y\":{\"field\":\"y\"}},\"id\":\"46fa64cc-651a-4fa1-b5d9-9a3e61123aac\",\"type\":\"Circle\"},{\"attributes\":{},\"id\":\"b22e1724-78e4-476d-ae8a-45585e97114a\",\"type\":\"SaveTool\"},{\"attributes\":{},\"id\":\"5a955d77-f5b4-4a54-9b0b-61da66922468\",\"type\":\"ResetTool\"},{\"attributes\":{\"fill_color\":{\"value\":\"#1f77b4\"},\"line_color\":{\"value\":\"#1f77b4\"},\"x\":{\"field\":\"x\"},\"y\":{\"field\":\"y\"}},\"id\":\"0334bfe5-0208-45e2-a638-195c57880de6\",\"type\":\"Circle\"},{\"attributes\":{\"callback\":null,\"data\":{}},\"id\":\"2e9bb3c5-f7a4-458c-bffe-40ef058f6d61\",\"type\":\"ColumnDataSource\"},{\"attributes\":{\"callback\":null,\"data\":{}},\"id\":\"a007c0a6-3f86-4dc2-90fb-6dca6f0b8d01\",\"type\":\"ColumnDataSource\"},{\"attributes\":{\"callback\":null,\"column_names\":[\"x\",\"y\"],\"data\":{\"x\":{\"__ndarray__\":\"coGme7RhA8BMpqFlhE3rP4MwWJeBCem/hnUs3BtyAMBQYH4VN+fiP9CTZyIz9s+/mzZr4TrCEMA+iy1tOdH4v/g2Elp17uU/oeWEYpS2AcCgEzReNxHJvyPyfEdaqwfAufaXViCCBsCkQFMJdB/RvyWsb1tcfv2/AP1pm02LfD9Y+pzMH/biP6jUpqqLsAPAykR+5CWj9D8Wjfv97Pjsv9W9Cj6dqQfArPCbRuoWDcB/Ix0AQEL+vzbzWYvAqfG/3Y9Su0U/EMCv9lKhD+f+v1ggULmMpsM/fezKnTunDsBgw7DXjLegv3OC5f+nv/i/PdL/OOzJ7b9oZ3OW743YPy2a2+52/wzAabSPpOzJ/b/Iza77KAz/v12ccCCRQvS/WrMo8/l1CcDV3Rsv2OICwBaO//9wr/m/oz1FUQGm9L8tHa9I/DwCwDBiMQjkguq/5AnKPL/94T+0LNNVATYBwHBbAqXAtwjAKbW4/Kfn9r/wBxA5QC7Mv0wuVAQ1CxHAnF3/tEas2L8QZqZU2UEKwKCQTYjJ/wHA99Mjy17657/aPUppllH1vy9JtaOp9+K/IsWRY/ym9b9/apCoU6XgvxDqqEcrjPK/Or76a97C/b8uRC3RIJEIwPjWAE6Edf2/Jt2wLnqNAMCeaZJkau8BQO5yz+aMVhLA7gkX9iCP/r/2MbFlSAP7v+LUeZUdcQLA1ftPy9HaDsDOd0M8sdYAwHulxWDzke+/bE7gEL+K8z9C2+zw3U4BwBD5/S9ebdy/5XbBJJBz87+3tkIZGI75v4VG8uU7CPm/IGxgF1EO5r/pHUlO/Dr1vzkCObVwJfq/j6N4M7SV479QRMbdUQr8v7KJShYuzRDAUr8Z/dAx5b/QrkOAZNG6P3jMM8TNo/a/dtVjg+ZpAsDnNDE+3/7vv+27nbvPXAjAglaln1ctDsDty/luOjMTwHigcjZa+cE/6M+KP/81y79mmaikwg/6vyTcrL6TQgXAHFQzylfyA8CG+UDrV0kBwCBB2dXuOtQ/aujRLVIO9T+Smpj+m+v9v3WFnvVNNv6/WlXqk/ou578=\",\"dtype\":\"float64\",\"shape\":[100]},\"y\":{\"__ndarray__\":\"KIT5zNxzA0CRVlbUAyUYQAdgq1zJBw9Ar9V7uDqXDkD60Wxh0jwWQE0kbLA89hVAWF0Vstj7CUBrJnUrS1cOQLYOxKzKzxRAw6oj/dKsDUAzaq8KxzgTQEKcTKGg1RBALluInSh+DUCJ85E3T9sSQAi1Gqursg5AVzkCFGxQFECC06Tn9pESQGBqJHPPGBBAFwJ822DsFUA59iiK2XsUQKCwNp6PvAtAxqpmr9jcBkBYSOtPdJoPQB9geofBkhJAqXrS7lyfCEDH2E0sPRIPQH2Hk/UVmxBAqE2hvjxYCkCWj/kazpoUQOc+W0MtpA5A1eqSI03PEUBa48IYvBQUQN8Ab0ST8QJA0fQHH7/vDUAUWOF4pbcLQBfa/M3RUA9As9P+0K54BEAT+BmUeHIKQJTgmmf2ZhBA1E9Ezh05DUBG0fPk1jMLQKhMPR/PFA9AOQZKGlGiEkASgnokmpsJQD3PWE+Z6g9AJ2Zldwd8DkDFuZHER58QQNnJLyHx5AFA18kFNBN7FED0ZsQb53IGQIgnyLCQYwlAUsla1J+bEkBjNetp6GoSQABMyZbQMRRAFHFPPaAmEUDczdaU3WMQQCLW5wOkBBVA+H8H8XXcC0Aj+myC6OYHQMN4p1ypDQRAZXKT/aPLEUBtMmo3zBkXQF4dG/1XYQNAdLeP1W9EB0AnaMSGDvwQQIkSNcfiOg9AbF7cgVWYA0D69XA9E7IMQDwVq8hlFQlAnOqyUT46F0BCo+J0TioSQKrCy7FjQRNAgSp8JxfGEUD2yprhLRIPQLi9f/g84BFAYi938+AxEkCgR+Wg2FURQMSD4DrhKgtAVTiGPlozEUDKBsB0hucSQLn81Aqe3wJA92Vc9++eEEBbUZPj4+MTQCSIri/1+RNANo1aA7dRCUC0oxXAEQMQQNs3Czw56QFAdQM9N+RDBkC1FQ34HewEQByxELg8exNA3nhkj7NfEUBzZhuRGbcQQOqVtcaVeg1A+clOkNx6DUDafRR2dsEMQOhWrYIVAxFAiw73FWReF0C8wmeAR3ERQNPfSoD6Tw5ANYTWGWgMC0A=\",\"dtype\":\"float64\",\"shape\":[100]}}},\"id\":\"e1b7d17b-ac10-4080-8750-010e5d66655b\",\"type\":\"ColumnDataSource\"},{\"attributes\":{\"active_drag\":\"auto\",\"active_inspect\":\"auto\",\"active_scroll\":\"auto\",\"active_tap\":\"auto\",\"tools\":[{\"id\":\"97ac0ecf-0684-4a30-8e7d-cea84ed7deef\",\"type\":\"PanTool\"},{\"id\":\"c7bab958-4dee-4238-9990-16725939d332\",\"type\":\"WheelZoomTool\"},{\"id\":\"9799b86d-7e34-4f45-937f-9f126e690e53\",\"type\":\"BoxZoomTool\"},{\"id\":\"b22e1724-78e4-476d-ae8a-45585e97114a\",\"type\":\"SaveTool\"},{\"id\":\"5a955d77-f5b4-4a54-9b0b-61da66922468\",\"type\":\"ResetTool\"},{\"id\":\"c91190cd-fb16-4f10-9a67-2c1357b6cfca\",\"type\":\"HelpTool\"}]},\"id\":\"50efc406-9d6c-44ea-9a3e-72eca88c92fa\",\"type\":\"Toolbar\"},{\"attributes\":{\"callback\":null,\"end\":3.5,\"start\":-6.5},\"id\":\"11c9e40c-aa2f-45ec-a197-8be4a6f5d276\",\"type\":\"Range1d\"}],\"root_ids\":[\"3694692b-2040-4f9b-a124-1ce4bef551f0\"]},\"title\":\"Bokeh Application\",\"version\":\"0.12.14\"}};\n",
       "  var render_items = [{\"docid\":\"b15d4eb2-f181-419b-aeea-2a65e7ebe13a\",\"elementid\":\"e50ed07d-72e1-47b9-9d96-64c96e07a0a5\",\"modelid\":\"3694692b-2040-4f9b-a124-1ce4bef551f0\"}];\n",
       "  root.Bokeh.embed.embed_items_notebook(docs_json, render_items);\n",
       "\n",
       "  }\n",
       "  if (root.Bokeh !== undefined) {\n",
       "    embed_document(root);\n",
       "  } else {\n",
       "    var attempts = 0;\n",
       "    var timer = setInterval(function(root) {\n",
       "      if (root.Bokeh !== undefined) {\n",
       "        embed_document(root);\n",
       "        clearInterval(timer);\n",
       "      }\n",
       "      attempts++;\n",
       "      if (attempts > 100) {\n",
       "        console.log(\"Bokeh: ERROR: Unable to run BokehJS code because BokehJS library is missing\")\n",
       "        clearInterval(timer);\n",
       "      }\n",
       "    }, 10, root)\n",
       "  }\n",
       "})(window);"
      ],
      "application/vnd.bokehjs_exec.v0+json": ""
     },
     "metadata": {
      "application/vnd.bokehjs_exec.v0+json": {
       "id": "3694692b-2040-4f9b-a124-1ce4bef551f0"
      }
     },
     "output_type": "display_data"
    }
   ],
   "source": [
    "n1, n2 = normal_full.split()\n",
    "\n",
    "fig = figure(\n",
    "    title='Initial model',\n",
    "    width=400,\n",
    "    height=400,\n",
    "    x_range=(mean[0] - 5, mean[0] + 5),\n",
    "    y_range=(mean[1] - 5, mean[1] + 5)\n",
    ")\n",
    "fig.circle(data[:, 0], data[:, 1])\n",
    "plotting.plot_normal(fig, normal_full.mean.numpy(), normal_full.cov.numpy(), alpha=.5, color='blue')\n",
    "plotting.plot_normal(fig, n1.mean.numpy(), n1.cov.numpy(), alpha=.5, color='red')\n",
    "plotting.plot_normal(fig, n2.mean.numpy(), n2.cov.numpy(), alpha=.5, color='green')\n",
    "show(fig)"
   ]
  },
  {
   "cell_type": "markdown",
   "metadata": {},
   "source": [
    "# Model comparison\n",
    "\n",
    "We generate data for various correlation parameters:\n",
    "\n",
    "$$\n",
    "X_{\\lambda} \\sim \\mathcal{N}(\n",
    "    \\begin{pmatrix} \n",
    "    0 \\\\\n",
    "    0\n",
    "    \\end{pmatrix}, \n",
    "    \\begin{pmatrix} \n",
    "    1 & \\lambda \\\\\n",
    "    \\lambda & 1\n",
    "    \\end{pmatrix})\n",
    "$$\n",
    "\n",
    "and we compare the model evidence for both the Normal distribution with diagonal covariance matrix and with full covariance matrix.\n",
    "\n",
    "$$\n",
    "\\ln B_{\\lambda} = \\ln \\frac{p(X_\\lambda | \\mathcal{M}_{\\text{full}})}{p(X_\\lambda | \\mathcal{M}_{\\text{diag}})} =\n",
    "     \\ln \\frac{\\int_{\\theta} p(X_\\lambda | \\theta, \\mathcal{M}_{\\text{full}}) p(\\theta) d\\theta}{\\int_{\\theta}p(X_\\lambda | \\theta, \\mathcal{M}_{\\text{diag}})p(\\theta) d\\theta} = \\frac{A_{\\text{full}}(\\xi + \\sum_{n=1}^N T(x_n)) - A_{\\text{full}}(\\xi)}{A_{\\text{diag}}(\\xi + \\sum_{n=1}^N T(x_n))\n",
    "     - A_{\\text{diag}}(\\xi)}\n",
    "$$"
   ]
  },
  {
   "cell_type": "code",
   "execution_count": 7,
   "metadata": {
    "scrolled": false
   },
   "outputs": [
    {
     "data": {
      "text/html": [
       "\n",
       "<div class=\"bk-root\">\n",
       "    <div class=\"bk-plotdiv\" id=\"3588ca04-b4ee-46f8-acb9-76f50983b7fe\"></div>\n",
       "</div>"
      ]
     },
     "metadata": {},
     "output_type": "display_data"
    },
    {
     "data": {
      "application/javascript": [
       "(function(root) {\n",
       "  function embed_document(root) {\n",
       "    \n",
       "  var docs_json = {\"d40deba7-87b4-4510-8a4c-3a1c6fed8628\":{\"roots\":{\"references\":[{\"attributes\":{},\"id\":\"e93f3cf0-8933-4f46-b3e7-fe125bf3f6eb\",\"type\":\"ResetTool\"},{\"attributes\":{},\"id\":\"12cb21d7-97c7-4cc4-bd54-e2d21b56c1aa\",\"type\":\"HelpTool\"},{\"attributes\":{\"plot\":{\"id\":\"6373f299-ee67-4394-921b-419de8dba98e\",\"subtype\":\"Figure\",\"type\":\"Plot\"},\"ticker\":{\"id\":\"81fed6e7-7c8e-4f58-abfb-6db65006ba06\",\"type\":\"BasicTicker\"}},\"id\":\"8d1b1dce-4a0d-46c5-b380-6c2d9ae65277\",\"type\":\"Grid\"},{\"attributes\":{},\"id\":\"1798e98d-0f2e-4f3f-a931-c8351458cbee\",\"type\":\"BasicTickFormatter\"},{\"attributes\":{\"line_alpha\":0.1,\"line_color\":\"#1f77b4\",\"x\":{\"field\":\"x\"},\"y\":{\"field\":\"y\"}},\"id\":\"03eed9a7-3345-4ce1-97c5-d7e81fd9bd95\",\"type\":\"Line\"},{\"attributes\":{},\"id\":\"426b37b8-c4ae-42e6-9708-c232525b3b71\",\"type\":\"BasicTicker\"},{\"attributes\":{\"active_drag\":\"auto\",\"active_inspect\":\"auto\",\"active_scroll\":\"auto\",\"active_tap\":\"auto\",\"tools\":[{\"id\":\"9725e75c-bf4e-442b-9253-60f0efc9cb29\",\"type\":\"PanTool\"},{\"id\":\"f925182e-0470-47c6-85b4-dec95a069dad\",\"type\":\"WheelZoomTool\"},{\"id\":\"5e394ada-ffba-4031-94d9-d718655cd2e2\",\"type\":\"BoxZoomTool\"},{\"id\":\"c244b2a4-e941-486f-b418-96186f035698\",\"type\":\"SaveTool\"},{\"id\":\"e93f3cf0-8933-4f46-b3e7-fe125bf3f6eb\",\"type\":\"ResetTool\"},{\"id\":\"12cb21d7-97c7-4cc4-bd54-e2d21b56c1aa\",\"type\":\"HelpTool\"}]},\"id\":\"39303131-e8a5-41d6-bbf1-7d88e1462f90\",\"type\":\"Toolbar\"},{\"attributes\":{\"dimension\":1,\"plot\":{\"id\":\"6373f299-ee67-4394-921b-419de8dba98e\",\"subtype\":\"Figure\",\"type\":\"Plot\"},\"ticker\":{\"id\":\"426b37b8-c4ae-42e6-9708-c232525b3b71\",\"type\":\"BasicTicker\"}},\"id\":\"d58ac409-e980-4218-800e-984a10a10669\",\"type\":\"Grid\"},{\"attributes\":{},\"id\":\"5f346a64-19bd-4489-baab-03036ad2f11f\",\"type\":\"BasicTickFormatter\"},{\"attributes\":{\"data_source\":{\"id\":\"adc6c1ae-b3bf-4c29-9953-a87eab8bbc97\",\"type\":\"ColumnDataSource\"},\"glyph\":{\"id\":\"77cd4e36-d18a-43b8-8231-984ebd96c275\",\"type\":\"Line\"},\"hover_glyph\":null,\"muted_glyph\":null,\"nonselection_glyph\":{\"id\":\"03eed9a7-3345-4ce1-97c5-d7e81fd9bd95\",\"type\":\"Line\"},\"selection_glyph\":null,\"view\":{\"id\":\"b7333c7a-d13f-4365-825a-898228fac5f2\",\"type\":\"CDSView\"}},\"id\":\"e78d7ae5-1081-4181-9102-2b8c26da2012\",\"type\":\"GlyphRenderer\"},{\"attributes\":{\"axis_label\":\"\\u03bb\",\"formatter\":{\"id\":\"1798e98d-0f2e-4f3f-a931-c8351458cbee\",\"type\":\"BasicTickFormatter\"},\"plot\":{\"id\":\"6373f299-ee67-4394-921b-419de8dba98e\",\"subtype\":\"Figure\",\"type\":\"Plot\"},\"ticker\":{\"id\":\"81fed6e7-7c8e-4f58-abfb-6db65006ba06\",\"type\":\"BasicTicker\"}},\"id\":\"2722d7a1-f599-4b02-a6aa-5beb7904a8b9\",\"type\":\"LinearAxis\"},{\"attributes\":{\"axis_label\":\"log Bayes factor\",\"formatter\":{\"id\":\"5f346a64-19bd-4489-baab-03036ad2f11f\",\"type\":\"BasicTickFormatter\"},\"plot\":{\"id\":\"6373f299-ee67-4394-921b-419de8dba98e\",\"subtype\":\"Figure\",\"type\":\"Plot\"},\"ticker\":{\"id\":\"426b37b8-c4ae-42e6-9708-c232525b3b71\",\"type\":\"BasicTicker\"}},\"id\":\"fd7ac624-bb1f-4954-9175-a9913d7a43c2\",\"type\":\"LinearAxis\"},{\"attributes\":{},\"id\":\"06b384e7-7ec1-4baf-b9c4-dc88f8317149\",\"type\":\"LinearScale\"},{\"attributes\":{\"below\":[{\"id\":\"2722d7a1-f599-4b02-a6aa-5beb7904a8b9\",\"type\":\"LinearAxis\"}],\"left\":[{\"id\":\"fd7ac624-bb1f-4954-9175-a9913d7a43c2\",\"type\":\"LinearAxis\"}],\"plot_height\":400,\"plot_width\":400,\"renderers\":[{\"id\":\"2722d7a1-f599-4b02-a6aa-5beb7904a8b9\",\"type\":\"LinearAxis\"},{\"id\":\"8d1b1dce-4a0d-46c5-b380-6c2d9ae65277\",\"type\":\"Grid\"},{\"id\":\"fd7ac624-bb1f-4954-9175-a9913d7a43c2\",\"type\":\"LinearAxis\"},{\"id\":\"d58ac409-e980-4218-800e-984a10a10669\",\"type\":\"Grid\"},{\"id\":\"cb1dddf8-02ec-455d-a81c-fceedb9d5dc1\",\"type\":\"BoxAnnotation\"},{\"id\":\"e78d7ae5-1081-4181-9102-2b8c26da2012\",\"type\":\"GlyphRenderer\"}],\"title\":{\"id\":\"652a12ef-1391-4b8d-b202-6a65ecbc72aa\",\"type\":\"Title\"},\"toolbar\":{\"id\":\"39303131-e8a5-41d6-bbf1-7d88e1462f90\",\"type\":\"Toolbar\"},\"x_range\":{\"id\":\"8656810b-eb22-4e4f-958f-ee5a6630500f\",\"type\":\"DataRange1d\"},\"x_scale\":{\"id\":\"06b384e7-7ec1-4baf-b9c4-dc88f8317149\",\"type\":\"LinearScale\"},\"y_range\":{\"id\":\"6baf6732-ae5b-4ab1-b356-5ceb79c5865a\",\"type\":\"DataRange1d\"},\"y_scale\":{\"id\":\"e53774f4-0878-4035-888b-fc54208f5db2\",\"type\":\"LinearScale\"}},\"id\":\"6373f299-ee67-4394-921b-419de8dba98e\",\"subtype\":\"Figure\",\"type\":\"Plot\"},{\"attributes\":{},\"id\":\"81fed6e7-7c8e-4f58-abfb-6db65006ba06\",\"type\":\"BasicTicker\"},{\"attributes\":{\"callback\":null},\"id\":\"6baf6732-ae5b-4ab1-b356-5ceb79c5865a\",\"type\":\"DataRange1d\"},{\"attributes\":{\"callback\":null,\"column_names\":[\"x\",\"y\"],\"data\":{\"x\":{\"__ndarray__\":\"rkfhehSu778K16NwPQrvv2ZmZmZmZu6/wvUoXI/C7b8fhetRuB7tv3sUrkfheuy/16NwPQrX678zMzMzMzPrv4/C9Shcj+q/7FG4HoXr6b9I4XoUrkfpv6RwPQrXo+i/AAAAAAAA6L9cj8L1KFznv7gehetRuOa/FK5H4XoU5r9wPQrXo3Dlv8zMzMzMzOS/KVyPwvUo5L+F61G4HoXjv+F6FK5H4eK/PgrXo3A94r+amZmZmZnhv/YoXI/C9eC/UrgehetR4L9cj8L1KFzfvxSuR+F6FN6/zMzMzMzM3L+E61G4HoXbvz4K16NwPdq/9ihcj8L12L+uR+F6FK7Xv2ZmZmZmZta/HoXrUbge1b/Wo3A9CtfTv47C9Shcj9K/SOF6FK5H0b8AAAAAAADQv3A9CtejcM2/4HoUrkfhyr9QuB6F61HIv8D1KFyPwsW/NDMzMzMzw7+kcD0K16PAvyhcj8L1KLy/CNejcD0Kt7/oUbgeheuxv5CZmZmZmam/wB6F61G4nr+AFK5H4XqEv4AUrkfheoQ/wB6F61G4nj+gmZmZmZmpP/BRuB6F67E/ENejcD0Ktz8wXI/C9Si8P6hwPQrXo8A/ODMzMzMzwz/A9Shcj8LFP1C4HoXrUcg/4HoUrkfhyj9wPQrXo3DNPwAAAAAAANA/SOF6FK5H0T+QwvUoXI/SP9ijcD0K19M/IIXrUbge1T9oZmZmZmbWP7BH4XoUrtc/+Chcj8L12D9ACtejcD3aP4TrUbgehds/zMzMzMzM3D8UrkfhehTeP1yPwvUoXN8/UrgehetR4D/2KFyPwvXgP5qZmZmZmeE/PgrXo3A94j/iehSuR+HiP4brUbgeheM/KlyPwvUo5D/OzMzMzMzkP3I9CtejcOU/FK5H4XoU5j+4HoXrUbjmP1yPwvUoXOc/AAAAAAAA6D+kcD0K16PoP0jhehSuR+k/7FG4HoXr6T+QwvUoXI/qPzQzMzMzM+s/2KNwPQrX6z98FK5H4XrsPyCF61G4Hu0/wvUoXI/C7T9mZmZmZmbuPwrXo3A9Cu8/rkfhehSu7z8=\",\"dtype\":\"float64\",\"shape\":[100]},\"y\":{\"__ndarray__\":\"thTqRCK8qUQg45BEZp2CRBnkT0TNxU1EVaw0RC0zG0SRYRpExUsSRJJJ4kNCDeJDchTNQyqDyUOibMpDYq2tQ2IpkUNkYXpDCpaHQ3RFbUPqxIJDpCRPQ1QNO0N0niBDBMsVQxT1GkMIO/dCCC33QmgW4EKoXLFCSGTjQkjrl0IIXoZCSJ6OQihylEIQenJC0IlDQiCC5UHA+SBC0JAlQhA5A0IgwvdBALZ2QQAmoUEAv3tBIG2QQUCgQ0FAoARBACcEQUCuG0EAkAdBQCsQQQDbDUFAbxpBAF4XQQDeokGgDodBICXcQSCT5EGgkNdBIOjxQdCrAkLQ2UxCkL4jQhAuOkKQNmlCiMyTQohig0JIv8NCCOXIQuiQxEIIkdhCCA/nQlSnFEPkhx5DNEgXQyRSFUMUxDBDdIhAQ8RNbEMkrlhDZOZ3Q5Izi0P6R5RD6hy0Q4LFtkPyebFDkhnQQ+ov5kMSEv9Dxb4ERGH4DERtbx9E0bs7RNFoQUQdn1NEuY18RObYjET+gq9EvhjwRA==\",\"dtype\":\"float32\",\"shape\":[100]}}},\"id\":\"adc6c1ae-b3bf-4c29-9953-a87eab8bbc97\",\"type\":\"ColumnDataSource\"},{\"attributes\":{\"bottom_units\":\"screen\",\"fill_alpha\":{\"value\":0.5},\"fill_color\":{\"value\":\"lightgrey\"},\"left_units\":\"screen\",\"level\":\"overlay\",\"line_alpha\":{\"value\":1.0},\"line_color\":{\"value\":\"black\"},\"line_dash\":[4,4],\"line_width\":{\"value\":2},\"plot\":null,\"render_mode\":\"css\",\"right_units\":\"screen\",\"top_units\":\"screen\"},\"id\":\"cb1dddf8-02ec-455d-a81c-fceedb9d5dc1\",\"type\":\"BoxAnnotation\"},{\"attributes\":{},\"id\":\"e53774f4-0878-4035-888b-fc54208f5db2\",\"type\":\"LinearScale\"},{\"attributes\":{},\"id\":\"9725e75c-bf4e-442b-9253-60f0efc9cb29\",\"type\":\"PanTool\"},{\"attributes\":{\"line_color\":\"#1f77b4\",\"x\":{\"field\":\"x\"},\"y\":{\"field\":\"y\"}},\"id\":\"77cd4e36-d18a-43b8-8231-984ebd96c275\",\"type\":\"Line\"},{\"attributes\":{\"callback\":null},\"id\":\"8656810b-eb22-4e4f-958f-ee5a6630500f\",\"type\":\"DataRange1d\"},{\"attributes\":{\"plot\":null,\"text\":\"Model Comparison\"},\"id\":\"652a12ef-1391-4b8d-b202-6a65ecbc72aa\",\"type\":\"Title\"},{\"attributes\":{\"source\":{\"id\":\"adc6c1ae-b3bf-4c29-9953-a87eab8bbc97\",\"type\":\"ColumnDataSource\"}},\"id\":\"b7333c7a-d13f-4365-825a-898228fac5f2\",\"type\":\"CDSView\"},{\"attributes\":{},\"id\":\"f925182e-0470-47c6-85b4-dec95a069dad\",\"type\":\"WheelZoomTool\"},{\"attributes\":{\"overlay\":{\"id\":\"cb1dddf8-02ec-455d-a81c-fceedb9d5dc1\",\"type\":\"BoxAnnotation\"}},\"id\":\"5e394ada-ffba-4031-94d9-d718655cd2e2\",\"type\":\"BoxZoomTool\"},{\"attributes\":{},\"id\":\"c244b2a4-e941-486f-b418-96186f035698\",\"type\":\"SaveTool\"}],\"root_ids\":[\"6373f299-ee67-4394-921b-419de8dba98e\"]},\"title\":\"Bokeh Application\",\"version\":\"0.12.14\"}};\n",
       "  var render_items = [{\"docid\":\"d40deba7-87b4-4510-8a4c-3a1c6fed8628\",\"elementid\":\"3588ca04-b4ee-46f8-acb9-76f50983b7fe\",\"modelid\":\"6373f299-ee67-4394-921b-419de8dba98e\"}];\n",
       "  root.Bokeh.embed.embed_items_notebook(docs_json, render_items);\n",
       "\n",
       "  }\n",
       "  if (root.Bokeh !== undefined) {\n",
       "    embed_document(root);\n",
       "  } else {\n",
       "    var attempts = 0;\n",
       "    var timer = setInterval(function(root) {\n",
       "      if (root.Bokeh !== undefined) {\n",
       "        embed_document(root);\n",
       "        clearInterval(timer);\n",
       "      }\n",
       "      attempts++;\n",
       "      if (attempts > 100) {\n",
       "        console.log(\"Bokeh: ERROR: Unable to run BokehJS code because BokehJS library is missing\")\n",
       "        clearInterval(timer);\n",
       "      }\n",
       "    }, 10, root)\n",
       "  }\n",
       "})(window);"
      ],
      "application/vnd.bokehjs_exec.v0+json": ""
     },
     "metadata": {
      "application/vnd.bokehjs_exec.v0+json": {
       "id": "6373f299-ee67-4394-921b-419de8dba98e"
      }
     },
     "output_type": "display_data"
    }
   ],
   "source": [
    "from scipy.special import logsumexp\n",
    "import copy\n",
    "\n",
    "lambdas = np.linspace(-.99, .99, 100)\n",
    "lBs = []\n",
    "    \n",
    "# For each value of lambda.\n",
    "for l in lambdas:\n",
    "    \n",
    "    # Generate the data.\n",
    "    cov = np.array([\n",
    "        [1, l],\n",
    "        [l, 1]\n",
    "    ])\n",
    "    X = np.random.multivariate_normal(np.zeros(2), cov, size=1000)\n",
    "    X = torch.from_numpy(X).float()\n",
    "    \n",
    "    # Fit both models\n",
    "    normal_diag = beer.NormalDiagonalCovariance.create(torch.zeros(2), torch.eye(2), prior_count=1e-3)\n",
    "    beer.train_loglinear_model(normal_diag, X)\n",
    "    normal = beer.NormalFullCovariance.create(torch.zeros(2), torch.eye(2), prior_count=1e-3)\n",
    "    beer.train_loglinear_model(normal, X)\n",
    "    \n",
    "    # Compute the log Bayes factor.\n",
    "    llh_M1 = normal.posterior.log_norm - normal.prior.log_norm\n",
    "    llh_M2 = normal_diag.posterior.log_norm - normal_diag.prior.log_norm\n",
    "    lBs.append((llh_M1 - llh_M2))\n",
    "    \n",
    "lBs = np.array(lBs)\n",
    "fig1 = figure(\n",
    "    title='Model Comparison',\n",
    "    x_axis_label='λ',\n",
    "    y_axis_label='log Bayes factor',\n",
    "    width=400,\n",
    "    height=400\n",
    ")\n",
    "fig1.line(lambdas, lBs)\n",
    "\n",
    "show(fig1)"
   ]
  }
 ],
 "metadata": {
  "kernelspec": {
   "display_name": "Python 3",
   "language": "python",
   "name": "python3"
  },
  "language_info": {
   "codemirror_mode": {
    "name": "ipython",
    "version": 3
   },
   "file_extension": ".py",
   "mimetype": "text/x-python",
   "name": "python",
   "nbconvert_exporter": "python",
   "pygments_lexer": "ipython3",
   "version": "3.6.4"
  }
 },
 "nbformat": 4,
 "nbformat_minor": 2
}
