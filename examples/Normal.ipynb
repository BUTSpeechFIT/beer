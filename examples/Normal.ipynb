{
 "cells": [
  {
   "cell_type": "markdown",
   "metadata": {},
   "source": [
    "# Bayesian Normal Density\n",
    "\n",
    "This notebook illustrate how to use a Bayesian Normal density model with the [beer framework](https://github.com/beer-asr/beer). The Normal distribution is a fairly basic model but it is used extenslively in other model as a basic building block."
   ]
  },
  {
   "cell_type": "code",
   "execution_count": 1,
   "metadata": {},
   "outputs": [
    {
     "data": {
      "text/html": [
       "\n",
       "    <div class=\"bk-root\">\n",
       "        <a href=\"https://bokeh.pydata.org\" target=\"_blank\" class=\"bk-logo bk-logo-small bk-logo-notebook\"></a>\n",
       "        <span id=\"7d31da45-fcef-48c0-b626-fbc9c4ffd0d4\">Loading BokehJS ...</span>\n",
       "    </div>"
      ]
     },
     "metadata": {},
     "output_type": "display_data"
    },
    {
     "data": {
      "application/javascript": [
       "\n",
       "(function(root) {\n",
       "  function now() {\n",
       "    return new Date();\n",
       "  }\n",
       "\n",
       "  var force = true;\n",
       "\n",
       "  if (typeof (root._bokeh_onload_callbacks) === \"undefined\" || force === true) {\n",
       "    root._bokeh_onload_callbacks = [];\n",
       "    root._bokeh_is_loading = undefined;\n",
       "  }\n",
       "\n",
       "  var JS_MIME_TYPE = 'application/javascript';\n",
       "  var HTML_MIME_TYPE = 'text/html';\n",
       "  var EXEC_MIME_TYPE = 'application/vnd.bokehjs_exec.v0+json';\n",
       "  var CLASS_NAME = 'output_bokeh rendered_html';\n",
       "\n",
       "  /**\n",
       "   * Render data to the DOM node\n",
       "   */\n",
       "  function render(props, node) {\n",
       "    var script = document.createElement(\"script\");\n",
       "    node.appendChild(script);\n",
       "  }\n",
       "\n",
       "  /**\n",
       "   * Handle when an output is cleared or removed\n",
       "   */\n",
       "  function handleClearOutput(event, handle) {\n",
       "    var cell = handle.cell;\n",
       "\n",
       "    var id = cell.output_area._bokeh_element_id;\n",
       "    var server_id = cell.output_area._bokeh_server_id;\n",
       "    // Clean up Bokeh references\n",
       "    if (id !== undefined) {\n",
       "      Bokeh.index[id].model.document.clear();\n",
       "      delete Bokeh.index[id];\n",
       "    }\n",
       "\n",
       "    if (server_id !== undefined) {\n",
       "      // Clean up Bokeh references\n",
       "      var cmd = \"from bokeh.io.state import curstate; print(curstate().uuid_to_server['\" + server_id + \"'].get_sessions()[0].document.roots[0]._id)\";\n",
       "      cell.notebook.kernel.execute(cmd, {\n",
       "        iopub: {\n",
       "          output: function(msg) {\n",
       "            var element_id = msg.content.text.trim();\n",
       "            Bokeh.index[element_id].model.document.clear();\n",
       "            delete Bokeh.index[element_id];\n",
       "          }\n",
       "        }\n",
       "      });\n",
       "      // Destroy server and session\n",
       "      var cmd = \"import bokeh.io.notebook as ion; ion.destroy_server('\" + server_id + \"')\";\n",
       "      cell.notebook.kernel.execute(cmd);\n",
       "    }\n",
       "  }\n",
       "\n",
       "  /**\n",
       "   * Handle when a new output is added\n",
       "   */\n",
       "  function handleAddOutput(event, handle) {\n",
       "    var output_area = handle.output_area;\n",
       "    var output = handle.output;\n",
       "\n",
       "    // limit handleAddOutput to display_data with EXEC_MIME_TYPE content only\n",
       "    if ((output.output_type != \"display_data\") || (!output.data.hasOwnProperty(EXEC_MIME_TYPE))) {\n",
       "      return\n",
       "    }\n",
       "\n",
       "    var toinsert = output_area.element.find(\".\" + CLASS_NAME.split(' ')[0]);\n",
       "\n",
       "    if (output.metadata[EXEC_MIME_TYPE][\"id\"] !== undefined) {\n",
       "      toinsert[0].firstChild.textContent = output.data[JS_MIME_TYPE];\n",
       "      // store reference to embed id on output_area\n",
       "      output_area._bokeh_element_id = output.metadata[EXEC_MIME_TYPE][\"id\"];\n",
       "    }\n",
       "    if (output.metadata[EXEC_MIME_TYPE][\"server_id\"] !== undefined) {\n",
       "      var bk_div = document.createElement(\"div\");\n",
       "      bk_div.innerHTML = output.data[HTML_MIME_TYPE];\n",
       "      var script_attrs = bk_div.children[0].attributes;\n",
       "      for (var i = 0; i < script_attrs.length; i++) {\n",
       "        toinsert[0].firstChild.setAttribute(script_attrs[i].name, script_attrs[i].value);\n",
       "      }\n",
       "      // store reference to server id on output_area\n",
       "      output_area._bokeh_server_id = output.metadata[EXEC_MIME_TYPE][\"server_id\"];\n",
       "    }\n",
       "  }\n",
       "\n",
       "  function register_renderer(events, OutputArea) {\n",
       "\n",
       "    function append_mime(data, metadata, element) {\n",
       "      // create a DOM node to render to\n",
       "      var toinsert = this.create_output_subarea(\n",
       "        metadata,\n",
       "        CLASS_NAME,\n",
       "        EXEC_MIME_TYPE\n",
       "      );\n",
       "      this.keyboard_manager.register_events(toinsert);\n",
       "      // Render to node\n",
       "      var props = {data: data, metadata: metadata[EXEC_MIME_TYPE]};\n",
       "      render(props, toinsert[0]);\n",
       "      element.append(toinsert);\n",
       "      return toinsert\n",
       "    }\n",
       "\n",
       "    /* Handle when an output is cleared or removed */\n",
       "    events.on('clear_output.CodeCell', handleClearOutput);\n",
       "    events.on('delete.Cell', handleClearOutput);\n",
       "\n",
       "    /* Handle when a new output is added */\n",
       "    events.on('output_added.OutputArea', handleAddOutput);\n",
       "\n",
       "    /**\n",
       "     * Register the mime type and append_mime function with output_area\n",
       "     */\n",
       "    OutputArea.prototype.register_mime_type(EXEC_MIME_TYPE, append_mime, {\n",
       "      /* Is output safe? */\n",
       "      safe: true,\n",
       "      /* Index of renderer in `output_area.display_order` */\n",
       "      index: 0\n",
       "    });\n",
       "  }\n",
       "\n",
       "  // register the mime type if in Jupyter Notebook environment and previously unregistered\n",
       "  if (root.Jupyter !== undefined) {\n",
       "    var events = require('base/js/events');\n",
       "    var OutputArea = require('notebook/js/outputarea').OutputArea;\n",
       "\n",
       "    if (OutputArea.prototype.mime_types().indexOf(EXEC_MIME_TYPE) == -1) {\n",
       "      register_renderer(events, OutputArea);\n",
       "    }\n",
       "  }\n",
       "\n",
       "  \n",
       "  if (typeof (root._bokeh_timeout) === \"undefined\" || force === true) {\n",
       "    root._bokeh_timeout = Date.now() + 5000;\n",
       "    root._bokeh_failed_load = false;\n",
       "  }\n",
       "\n",
       "  var NB_LOAD_WARNING = {'data': {'text/html':\n",
       "     \"<div style='background-color: #fdd'>\\n\"+\n",
       "     \"<p>\\n\"+\n",
       "     \"BokehJS does not appear to have successfully loaded. If loading BokehJS from CDN, this \\n\"+\n",
       "     \"may be due to a slow or bad network connection. Possible fixes:\\n\"+\n",
       "     \"</p>\\n\"+\n",
       "     \"<ul>\\n\"+\n",
       "     \"<li>re-rerun `output_notebook()` to attempt to load from CDN again, or</li>\\n\"+\n",
       "     \"<li>use INLINE resources instead, as so:</li>\\n\"+\n",
       "     \"</ul>\\n\"+\n",
       "     \"<code>\\n\"+\n",
       "     \"from bokeh.resources import INLINE\\n\"+\n",
       "     \"output_notebook(resources=INLINE)\\n\"+\n",
       "     \"</code>\\n\"+\n",
       "     \"</div>\"}};\n",
       "\n",
       "  function display_loaded() {\n",
       "    var el = document.getElementById(\"7d31da45-fcef-48c0-b626-fbc9c4ffd0d4\");\n",
       "    if (el != null) {\n",
       "      el.textContent = \"BokehJS is loading...\";\n",
       "    }\n",
       "    if (root.Bokeh !== undefined) {\n",
       "      if (el != null) {\n",
       "        el.textContent = \"BokehJS \" + root.Bokeh.version + \" successfully loaded.\";\n",
       "      }\n",
       "    } else if (Date.now() < root._bokeh_timeout) {\n",
       "      setTimeout(display_loaded, 100)\n",
       "    }\n",
       "  }\n",
       "\n",
       "\n",
       "  function run_callbacks() {\n",
       "    try {\n",
       "      root._bokeh_onload_callbacks.forEach(function(callback) { callback() });\n",
       "    }\n",
       "    finally {\n",
       "      delete root._bokeh_onload_callbacks\n",
       "    }\n",
       "    console.info(\"Bokeh: all callbacks have finished\");\n",
       "  }\n",
       "\n",
       "  function load_libs(js_urls, callback) {\n",
       "    root._bokeh_onload_callbacks.push(callback);\n",
       "    if (root._bokeh_is_loading > 0) {\n",
       "      console.log(\"Bokeh: BokehJS is being loaded, scheduling callback at\", now());\n",
       "      return null;\n",
       "    }\n",
       "    if (js_urls == null || js_urls.length === 0) {\n",
       "      run_callbacks();\n",
       "      return null;\n",
       "    }\n",
       "    console.log(\"Bokeh: BokehJS not loaded, scheduling load and callback at\", now());\n",
       "    root._bokeh_is_loading = js_urls.length;\n",
       "    for (var i = 0; i < js_urls.length; i++) {\n",
       "      var url = js_urls[i];\n",
       "      var s = document.createElement('script');\n",
       "      s.src = url;\n",
       "      s.async = false;\n",
       "      s.onreadystatechange = s.onload = function() {\n",
       "        root._bokeh_is_loading--;\n",
       "        if (root._bokeh_is_loading === 0) {\n",
       "          console.log(\"Bokeh: all BokehJS libraries loaded\");\n",
       "          run_callbacks()\n",
       "        }\n",
       "      };\n",
       "      s.onerror = function() {\n",
       "        console.warn(\"failed to load library \" + url);\n",
       "      };\n",
       "      console.log(\"Bokeh: injecting script tag for BokehJS library: \", url);\n",
       "      document.getElementsByTagName(\"head\")[0].appendChild(s);\n",
       "    }\n",
       "  };var element = document.getElementById(\"7d31da45-fcef-48c0-b626-fbc9c4ffd0d4\");\n",
       "  if (element == null) {\n",
       "    console.log(\"Bokeh: ERROR: autoload.js configured with elementid '7d31da45-fcef-48c0-b626-fbc9c4ffd0d4' but no matching script tag was found. \")\n",
       "    return false;\n",
       "  }\n",
       "\n",
       "  var js_urls = [\"https://cdn.pydata.org/bokeh/release/bokeh-0.12.14.min.js\", \"https://cdn.pydata.org/bokeh/release/bokeh-widgets-0.12.14.min.js\", \"https://cdn.pydata.org/bokeh/release/bokeh-tables-0.12.14.min.js\", \"https://cdn.pydata.org/bokeh/release/bokeh-gl-0.12.14.min.js\"];\n",
       "\n",
       "  var inline_js = [\n",
       "    function(Bokeh) {\n",
       "      Bokeh.set_log_level(\"info\");\n",
       "    },\n",
       "    \n",
       "    function(Bokeh) {\n",
       "      \n",
       "    },\n",
       "    function(Bokeh) {\n",
       "      console.log(\"Bokeh: injecting CSS: https://cdn.pydata.org/bokeh/release/bokeh-0.12.14.min.css\");\n",
       "      Bokeh.embed.inject_css(\"https://cdn.pydata.org/bokeh/release/bokeh-0.12.14.min.css\");\n",
       "      console.log(\"Bokeh: injecting CSS: https://cdn.pydata.org/bokeh/release/bokeh-widgets-0.12.14.min.css\");\n",
       "      Bokeh.embed.inject_css(\"https://cdn.pydata.org/bokeh/release/bokeh-widgets-0.12.14.min.css\");\n",
       "      console.log(\"Bokeh: injecting CSS: https://cdn.pydata.org/bokeh/release/bokeh-tables-0.12.14.min.css\");\n",
       "      Bokeh.embed.inject_css(\"https://cdn.pydata.org/bokeh/release/bokeh-tables-0.12.14.min.css\");\n",
       "    }\n",
       "  ];\n",
       "\n",
       "  function run_inline_js() {\n",
       "    \n",
       "    if ((root.Bokeh !== undefined) || (force === true)) {\n",
       "      for (var i = 0; i < inline_js.length; i++) {\n",
       "        inline_js[i].call(root, root.Bokeh);\n",
       "      }if (force === true) {\n",
       "        display_loaded();\n",
       "      }} else if (Date.now() < root._bokeh_timeout) {\n",
       "      setTimeout(run_inline_js, 100);\n",
       "    } else if (!root._bokeh_failed_load) {\n",
       "      console.log(\"Bokeh: BokehJS failed to load within specified timeout.\");\n",
       "      root._bokeh_failed_load = true;\n",
       "    } else if (force !== true) {\n",
       "      var cell = $(document.getElementById(\"7d31da45-fcef-48c0-b626-fbc9c4ffd0d4\")).parents('.cell').data().cell;\n",
       "      cell.output_area.append_execute_result(NB_LOAD_WARNING)\n",
       "    }\n",
       "\n",
       "  }\n",
       "\n",
       "  if (root._bokeh_is_loading === 0) {\n",
       "    console.log(\"Bokeh: BokehJS loaded, going straight to plotting\");\n",
       "    run_inline_js();\n",
       "  } else {\n",
       "    load_libs(js_urls, function() {\n",
       "      console.log(\"Bokeh: BokehJS plotting callback run at\", now());\n",
       "      run_inline_js();\n",
       "    });\n",
       "  }\n",
       "}(window));"
      ],
      "application/vnd.bokehjs_load.v0+json": "\n(function(root) {\n  function now() {\n    return new Date();\n  }\n\n  var force = true;\n\n  if (typeof (root._bokeh_onload_callbacks) === \"undefined\" || force === true) {\n    root._bokeh_onload_callbacks = [];\n    root._bokeh_is_loading = undefined;\n  }\n\n  \n\n  \n  if (typeof (root._bokeh_timeout) === \"undefined\" || force === true) {\n    root._bokeh_timeout = Date.now() + 5000;\n    root._bokeh_failed_load = false;\n  }\n\n  var NB_LOAD_WARNING = {'data': {'text/html':\n     \"<div style='background-color: #fdd'>\\n\"+\n     \"<p>\\n\"+\n     \"BokehJS does not appear to have successfully loaded. If loading BokehJS from CDN, this \\n\"+\n     \"may be due to a slow or bad network connection. Possible fixes:\\n\"+\n     \"</p>\\n\"+\n     \"<ul>\\n\"+\n     \"<li>re-rerun `output_notebook()` to attempt to load from CDN again, or</li>\\n\"+\n     \"<li>use INLINE resources instead, as so:</li>\\n\"+\n     \"</ul>\\n\"+\n     \"<code>\\n\"+\n     \"from bokeh.resources import INLINE\\n\"+\n     \"output_notebook(resources=INLINE)\\n\"+\n     \"</code>\\n\"+\n     \"</div>\"}};\n\n  function display_loaded() {\n    var el = document.getElementById(\"7d31da45-fcef-48c0-b626-fbc9c4ffd0d4\");\n    if (el != null) {\n      el.textContent = \"BokehJS is loading...\";\n    }\n    if (root.Bokeh !== undefined) {\n      if (el != null) {\n        el.textContent = \"BokehJS \" + root.Bokeh.version + \" successfully loaded.\";\n      }\n    } else if (Date.now() < root._bokeh_timeout) {\n      setTimeout(display_loaded, 100)\n    }\n  }\n\n\n  function run_callbacks() {\n    try {\n      root._bokeh_onload_callbacks.forEach(function(callback) { callback() });\n    }\n    finally {\n      delete root._bokeh_onload_callbacks\n    }\n    console.info(\"Bokeh: all callbacks have finished\");\n  }\n\n  function load_libs(js_urls, callback) {\n    root._bokeh_onload_callbacks.push(callback);\n    if (root._bokeh_is_loading > 0) {\n      console.log(\"Bokeh: BokehJS is being loaded, scheduling callback at\", now());\n      return null;\n    }\n    if (js_urls == null || js_urls.length === 0) {\n      run_callbacks();\n      return null;\n    }\n    console.log(\"Bokeh: BokehJS not loaded, scheduling load and callback at\", now());\n    root._bokeh_is_loading = js_urls.length;\n    for (var i = 0; i < js_urls.length; i++) {\n      var url = js_urls[i];\n      var s = document.createElement('script');\n      s.src = url;\n      s.async = false;\n      s.onreadystatechange = s.onload = function() {\n        root._bokeh_is_loading--;\n        if (root._bokeh_is_loading === 0) {\n          console.log(\"Bokeh: all BokehJS libraries loaded\");\n          run_callbacks()\n        }\n      };\n      s.onerror = function() {\n        console.warn(\"failed to load library \" + url);\n      };\n      console.log(\"Bokeh: injecting script tag for BokehJS library: \", url);\n      document.getElementsByTagName(\"head\")[0].appendChild(s);\n    }\n  };var element = document.getElementById(\"7d31da45-fcef-48c0-b626-fbc9c4ffd0d4\");\n  if (element == null) {\n    console.log(\"Bokeh: ERROR: autoload.js configured with elementid '7d31da45-fcef-48c0-b626-fbc9c4ffd0d4' but no matching script tag was found. \")\n    return false;\n  }\n\n  var js_urls = [\"https://cdn.pydata.org/bokeh/release/bokeh-0.12.14.min.js\", \"https://cdn.pydata.org/bokeh/release/bokeh-widgets-0.12.14.min.js\", \"https://cdn.pydata.org/bokeh/release/bokeh-tables-0.12.14.min.js\", \"https://cdn.pydata.org/bokeh/release/bokeh-gl-0.12.14.min.js\"];\n\n  var inline_js = [\n    function(Bokeh) {\n      Bokeh.set_log_level(\"info\");\n    },\n    \n    function(Bokeh) {\n      \n    },\n    function(Bokeh) {\n      console.log(\"Bokeh: injecting CSS: https://cdn.pydata.org/bokeh/release/bokeh-0.12.14.min.css\");\n      Bokeh.embed.inject_css(\"https://cdn.pydata.org/bokeh/release/bokeh-0.12.14.min.css\");\n      console.log(\"Bokeh: injecting CSS: https://cdn.pydata.org/bokeh/release/bokeh-widgets-0.12.14.min.css\");\n      Bokeh.embed.inject_css(\"https://cdn.pydata.org/bokeh/release/bokeh-widgets-0.12.14.min.css\");\n      console.log(\"Bokeh: injecting CSS: https://cdn.pydata.org/bokeh/release/bokeh-tables-0.12.14.min.css\");\n      Bokeh.embed.inject_css(\"https://cdn.pydata.org/bokeh/release/bokeh-tables-0.12.14.min.css\");\n    }\n  ];\n\n  function run_inline_js() {\n    \n    if ((root.Bokeh !== undefined) || (force === true)) {\n      for (var i = 0; i < inline_js.length; i++) {\n        inline_js[i].call(root, root.Bokeh);\n      }if (force === true) {\n        display_loaded();\n      }} else if (Date.now() < root._bokeh_timeout) {\n      setTimeout(run_inline_js, 100);\n    } else if (!root._bokeh_failed_load) {\n      console.log(\"Bokeh: BokehJS failed to load within specified timeout.\");\n      root._bokeh_failed_load = true;\n    } else if (force !== true) {\n      var cell = $(document.getElementById(\"7d31da45-fcef-48c0-b626-fbc9c4ffd0d4\")).parents('.cell').data().cell;\n      cell.output_area.append_execute_result(NB_LOAD_WARNING)\n    }\n\n  }\n\n  if (root._bokeh_is_loading === 0) {\n    console.log(\"Bokeh: BokehJS loaded, going straight to plotting\");\n    run_inline_js();\n  } else {\n    load_libs(js_urls, function() {\n      console.log(\"Bokeh: BokehJS plotting callback run at\", now());\n      run_inline_js();\n    });\n  }\n}(window));"
     },
     "metadata": {},
     "output_type": "display_data"
    }
   ],
   "source": [
    "# Add \"beer\" to the PYTHONPATH\n",
    "import sys\n",
    "sys.path.insert(0, '../')\n",
    "\n",
    "import beer\n",
    "import numpy as np\n",
    "import torch\n",
    "\n",
    "# For plotting.\n",
    "from bokeh.io import show, output_notebook\n",
    "from bokeh.plotting import figure, gridplot\n",
    "output_notebook()\n",
    "\n",
    "# Convenience functions for plotting.\n",
    "import plotting\n",
    "\n",
    "%load_ext autoreload\n",
    "%autoreload 2"
   ]
  },
  {
   "cell_type": "markdown",
   "metadata": {},
   "source": [
    "## Data\n",
    "\n",
    "Generate some normally distributed data:"
   ]
  },
  {
   "cell_type": "code",
   "execution_count": 2,
   "metadata": {},
   "outputs": [
    {
     "data": {
      "text/html": [
       "\n",
       "<div class=\"bk-root\">\n",
       "    <div class=\"bk-plotdiv\" id=\"91869f97-e9c9-4435-a38d-3c194768df35\"></div>\n",
       "</div>"
      ]
     },
     "metadata": {},
     "output_type": "display_data"
    },
    {
     "data": {
      "application/javascript": [
       "(function(root) {\n",
       "  function embed_document(root) {\n",
       "    \n",
       "  var docs_json = {\"1c05f6ed-6757-4c73-88e0-f813fa0b8a2a\":{\"roots\":{\"references\":[{\"attributes\":{\"callback\":null,\"column_names\":[\"x\",\"y\"],\"data\":{\"x\":{\"__ndarray__\":\"lJkrD5B52z8EKU6CgT7Rv++iM1vIaP6/+G0vOD7S3j+S4ThQb4QDwHld+2/85u6/AIXPnWSJkb9QP+xnw2+1P9P04tL0AOK/R9LGcP7KBsDCu/9FAlP0v9hlLrAgMMc/Z7dXNa3w/78OFHHo62zzP4OAPDMfyPa/AOj4vsEjkL/ywC6R2zsKwHSw154Ij+S/bEtqU8qm+L9i0DLXm4ECwIT5p5hw6d2/kJAMX5czBMDSJpymOtnjvzSwP2+Bn+m/AHd8ST+P9r9MVERfrsj/v8bF/W0I9e6/QbY8uaWW7r8YJIe8GcXAv8gGEiqlX9q/2TlzYkFs9r+zpC0Wa6L+vyBPAKzhAdW/ADZVLXP9nD+mTse0SSEFwFoZ0UvVkwnASNcubau//7+yHbur73n7v47KWjesW/m/8GPfku5g9L/5Bq3f90Lgv6DNDqtfTrM/piDaFeGe7L+cJBgES9sCwMBSCaFtpAfAIVMW/0wC8b9puY5kA8f4vwnrxswKHg/A0Te7Ig3l5L9sjdaodzkHwAL6lwVT5Oy/qAFNsElCB8CARrI0NSSnP3blZxFG0+m/fHjzW7/tEMDgql+4URr2v7n70810/O2/MDK3droo+7+zMKMTnkb6vyDMlOvW27s/WpY567c07b9z5Sf9/5MYwIDbbw0CHwPAeb12sJpcD8BQ3/KLHInSv3wOIJniEvi/35IwdeXg9b/sgsiDIoAHQOCqLMKIMas/CtFHdohAEMCYa6jRLErxv8ZNGjPqbve/ZAX2Lkp98L82ZGzN3ef1v8l8PHSN9P6/EraUwNErAcDDaCg7AXEBwBpRvsdilee/mB0c5T/15b9OXiMZmBoPwLNiasBmdhXAjhSPHEx/DsAMoui6/In4Py9XUpxWUw3Ab2ctiLu0AcCGSdYr58nxv6j7TmKZvf+/QdfyRxAD8r98bujDAgwPwPBm+X/Ndfy//kXjrLIIAcBhSUIfoE/yv+UXbkPt1QbAtDFs5/z67D+udU+C8TYCwCZp4jb7oPS/+AKs/bQA8b+wouvHzvgCwAg+6+wokADAW15+oYs/C8A=\",\"dtype\":\"float64\",\"shape\":[100]},\"y\":{\"__ndarray__\":\"iqb+03XOFEDsrnesXEQKQBoN+24EowVAguGQHVR+EEDAr3eg64kLQDolVcBf0RFAFLsWe50oEkAdlLNDhfcTQNEMXtkkDxJAa+GKaTULDUC1vyUiOgYQQFYgIxd+BRNAdp4BJlaVBkDSnzWxoHUYQFThkXdp9g5AUBSKeCAbDEAQEvHv9koJQHHqHMbS4RNAgoh+igF0EEC0jOE6qIoDQPA/ll6OYxFApOmLVNCmDEBaAs6DXQoQQFLJmfhAqBBAarIU1tPbEUD3rAJvVxgNQCfuBTo9ghJAP/1OCuPxDkCaasST1u0MQDgoLbGNEhRAjOSK2bt+DkBqZu4i3YEQQOMxo0D0dw1ASeE5NtfrEEAV8hKVWF0QQFbTJ/H86ANALGUL4/FgDkCatMp+Ru8LQFLj6z3vQRFAsaWTUL9iEEDY2Cvbd5wQQEazeHeNdBNAaexGZaaeE0CswFTqeocLQEgfGDTKIAhA3J4k3RgjFUBzK+EBplQRQLpgicFMVQVAyyqZLaPWEEDW4MbB+MMJQBR4KRHDzgtAt/KGrfhMCUCZJZAJRQQUQLKngEyzahJANpnCB1t4DEA2B18rCHsIQCo5Fuz8eBdA97snYgjJEEDnQlUabA4RQL6YSOcL0RJAiEtUJGmFEEBUOm5/Gb30P3qCbI++aAxASDAtWYzv/z9SwMzbbAcRQDR7NHaylw9AImToq49UEEBk6MMQEeUYQHDWc4lCehRAwMkYTIheBUCIuxy+7JkMQJV7RAYf7A9A7auY3x2EFUBLuEBsFrcRQIoCLdS3rw9AeksZGxUBDkCUUsyxXBIJQDgik9Lo2xJA3s3KZBj/EkBiFT+InT8LQKjE7hQN2Ps/eAo6N2mRAUAgy5jxStQXQPsNeJpjnAhAjMTebRKtC0DVISpwkocQQD5uHUTpyQtApnNWp82cFED8TUlnd7YKQNOIDxolRg1Aw8DzMql9D0AIkKh0+bgOQOM6aya1xAtA9UhzZJ8nFkC+u79HORcJQOz6eKoxOxJAlb9NPH1TFEC4x3K+gqcOQJusUxwI6g9AyJ3Y5BfqBkA=\",\"dtype\":\"float64\",\"shape\":[100]}}},\"id\":\"adf6a976-b373-472a-9f98-5d8a810ecf21\",\"type\":\"ColumnDataSource\"},{\"attributes\":{\"source\":{\"id\":\"81720598-642c-46e5-ada5-83ec3a76e7bd\",\"type\":\"ColumnDataSource\"}},\"id\":\"41e49a8a-06e3-4b4e-bc49-712d0d0ca58a\",\"type\":\"CDSView\"},{\"attributes\":{\"fill_color\":{\"value\":\"blue\"},\"line_color\":{\"value\":\"blue\"},\"x\":{\"value\":-1.5},\"y\":{\"value\":4.0}},\"id\":\"9dc63a3d-d3ce-485e-943c-4cd8020188e5\",\"type\":\"Cross\"},{\"attributes\":{\"plot\":null,\"text\":\"Data\"},\"id\":\"43a659d8-4e74-4bb9-86df-d707f6d1333a\",\"type\":\"Title\"},{\"attributes\":{\"angle\":{\"units\":\"rad\",\"value\":-1.0646978210692295},\"fill_color\":{\"value\":\"blue\"},\"height\":{\"units\":\"data\",\"value\":3.1964027540390307},\"line_color\":{\"value\":\"blue\"},\"width\":{\"units\":\"data\",\"value\":0.8848782029023531},\"x\":{\"value\":-1.5},\"y\":{\"value\":4.0}},\"id\":\"d740f710-8850-4dad-8db7-3677cf650667\",\"type\":\"Ellipse\"},{\"attributes\":{\"fill_alpha\":{\"value\":0.1},\"fill_color\":{\"value\":\"#1f77b4\"},\"line_alpha\":{\"value\":0.1},\"line_color\":{\"value\":\"#1f77b4\"},\"x\":{\"value\":-1.5},\"y\":{\"value\":4.0}},\"id\":\"a7440043-8918-4dd0-9ac5-50467f3fc140\",\"type\":\"Cross\"},{\"attributes\":{\"callback\":null,\"data\":{}},\"id\":\"0c47c542-2302-43d6-8434-91d893401554\",\"type\":\"ColumnDataSource\"},{\"attributes\":{\"callback\":null,\"end\":3.5,\"start\":-6.5},\"id\":\"e4210afa-bbe9-4d28-aa05-75e9d0dd1813\",\"type\":\"Range1d\"},{\"attributes\":{\"data_source\":{\"id\":\"0c47c542-2302-43d6-8434-91d893401554\",\"type\":\"ColumnDataSource\"},\"glyph\":{\"id\":\"9dc63a3d-d3ce-485e-943c-4cd8020188e5\",\"type\":\"Cross\"},\"hover_glyph\":null,\"muted_glyph\":null,\"nonselection_glyph\":{\"id\":\"a7440043-8918-4dd0-9ac5-50467f3fc140\",\"type\":\"Cross\"},\"selection_glyph\":null,\"view\":{\"id\":\"2a2187b4-ecdb-435f-b4a9-cbaa1dcd824b\",\"type\":\"CDSView\"}},\"id\":\"64da0b4a-8694-4027-bb85-cb4d6bb99d1d\",\"type\":\"GlyphRenderer\"},{\"attributes\":{\"active_drag\":\"auto\",\"active_inspect\":\"auto\",\"active_scroll\":\"auto\",\"active_tap\":\"auto\",\"tools\":[{\"id\":\"c2aea121-c959-4cea-aef3-9b4498dcf7cd\",\"type\":\"PanTool\"},{\"id\":\"7f031358-ee48-40d5-ac54-7a434825ec03\",\"type\":\"WheelZoomTool\"},{\"id\":\"630ec9ab-23ae-48cc-ab37-b664f0cc3086\",\"type\":\"BoxZoomTool\"},{\"id\":\"37235872-d384-4c68-b88e-145703b3fe34\",\"type\":\"SaveTool\"},{\"id\":\"87523385-263f-4461-b75c-21846dfcec86\",\"type\":\"ResetTool\"},{\"id\":\"539458f3-0e30-4e96-ac79-9465a85a6eef\",\"type\":\"HelpTool\"}]},\"id\":\"a5a8dd27-c230-4f4e-964e-e17fdde8b116\",\"type\":\"Toolbar\"},{\"attributes\":{\"callback\":null,\"data\":{}},\"id\":\"5a43c805-b9cb-427f-a49e-0dbbe34cd879\",\"type\":\"ColumnDataSource\"},{\"attributes\":{\"source\":{\"id\":\"0c47c542-2302-43d6-8434-91d893401554\",\"type\":\"ColumnDataSource\"}},\"id\":\"2a2187b4-ecdb-435f-b4a9-cbaa1dcd824b\",\"type\":\"CDSView\"},{\"attributes\":{},\"id\":\"8c22e01a-3beb-4a32-9cad-4fb638902fe6\",\"type\":\"LinearScale\"},{\"attributes\":{\"callback\":null,\"end\":9.0,\"start\":-1.0},\"id\":\"3a9b5978-4e0f-4e8a-ad41-0ed4290cd015\",\"type\":\"Range1d\"},{\"attributes\":{\"data_source\":{\"id\":\"5a43c805-b9cb-427f-a49e-0dbbe34cd879\",\"type\":\"ColumnDataSource\"},\"glyph\":{\"id\":\"d740f710-8850-4dad-8db7-3677cf650667\",\"type\":\"Ellipse\"},\"hover_glyph\":null,\"muted_glyph\":null,\"nonselection_glyph\":{\"id\":\"28f28699-12a3-479d-bdbb-f3a74ca37b8f\",\"type\":\"Ellipse\"},\"selection_glyph\":null,\"view\":{\"id\":\"d5bc82b8-11e8-47cf-9e59-7489637b338b\",\"type\":\"CDSView\"}},\"id\":\"a477b517-360a-4379-a8ab-8bf7ab542a70\",\"type\":\"GlyphRenderer\"},{\"attributes\":{},\"id\":\"a80ae864-33da-46b0-bf79-8f4528e5bd68\",\"type\":\"LinearScale\"},{\"attributes\":{\"plot\":{\"id\":\"a2baafe2-106f-42eb-a324-a669b73d8308\",\"subtype\":\"Figure\",\"type\":\"Plot\"},\"ticker\":{\"id\":\"b48357c4-15c1-4d09-83bb-e27c29924e88\",\"type\":\"BasicTicker\"}},\"id\":\"cb765036-28b1-4c9b-9a77-d654cfe9cd48\",\"type\":\"Grid\"},{\"attributes\":{\"angle\":{\"units\":\"rad\",\"value\":-1.0646978210692295},\"fill_alpha\":{\"value\":0.1},\"fill_color\":{\"value\":\"#1f77b4\"},\"height\":{\"units\":\"data\",\"value\":3.1964027540390307},\"line_alpha\":{\"value\":0.1},\"line_color\":{\"value\":\"#1f77b4\"},\"width\":{\"units\":\"data\",\"value\":0.8848782029023531},\"x\":{\"value\":-1.5},\"y\":{\"value\":4.0}},\"id\":\"28f28699-12a3-479d-bdbb-f3a74ca37b8f\",\"type\":\"Ellipse\"},{\"attributes\":{\"formatter\":{\"id\":\"0e4eeac8-1969-4dd2-b8b0-d39585e45f0e\",\"type\":\"BasicTickFormatter\"},\"plot\":{\"id\":\"a2baafe2-106f-42eb-a324-a669b73d8308\",\"subtype\":\"Figure\",\"type\":\"Plot\"},\"ticker\":{\"id\":\"b48357c4-15c1-4d09-83bb-e27c29924e88\",\"type\":\"BasicTicker\"}},\"id\":\"863fa78f-97d1-4a79-9259-fdad92b0ce21\",\"type\":\"LinearAxis\"},{\"attributes\":{\"source\":{\"id\":\"5a43c805-b9cb-427f-a49e-0dbbe34cd879\",\"type\":\"ColumnDataSource\"}},\"id\":\"d5bc82b8-11e8-47cf-9e59-7489637b338b\",\"type\":\"CDSView\"},{\"attributes\":{},\"id\":\"b48357c4-15c1-4d09-83bb-e27c29924e88\",\"type\":\"BasicTicker\"},{\"attributes\":{},\"id\":\"b3467c3d-1954-452c-9eaa-625a71128dd0\",\"type\":\"BasicTickFormatter\"},{\"attributes\":{\"formatter\":{\"id\":\"b3467c3d-1954-452c-9eaa-625a71128dd0\",\"type\":\"BasicTickFormatter\"},\"plot\":{\"id\":\"a2baafe2-106f-42eb-a324-a669b73d8308\",\"subtype\":\"Figure\",\"type\":\"Plot\"},\"ticker\":{\"id\":\"a12632d1-8fcb-4a91-9a30-51aa7e493916\",\"type\":\"BasicTicker\"}},\"id\":\"f07cbcc1-fe33-49e8-80c2-b0b0f18b81d5\",\"type\":\"LinearAxis\"},{\"attributes\":{},\"id\":\"a12632d1-8fcb-4a91-9a30-51aa7e493916\",\"type\":\"BasicTicker\"},{\"attributes\":{\"dimension\":1,\"plot\":{\"id\":\"a2baafe2-106f-42eb-a324-a669b73d8308\",\"subtype\":\"Figure\",\"type\":\"Plot\"},\"ticker\":{\"id\":\"a12632d1-8fcb-4a91-9a30-51aa7e493916\",\"type\":\"BasicTicker\"}},\"id\":\"05ca218d-5b10-480d-9f7c-5aab58ecedf4\",\"type\":\"Grid\"},{\"attributes\":{\"fill_color\":{\"value\":\"#1f77b4\"},\"line_color\":{\"value\":\"#1f77b4\"},\"x\":{\"field\":\"x\"},\"y\":{\"field\":\"y\"}},\"id\":\"5a752b90-90e0-4ba3-9257-a932593db84d\",\"type\":\"Circle\"},{\"attributes\":{\"bottom_units\":\"screen\",\"fill_alpha\":{\"value\":0.5},\"fill_color\":{\"value\":\"lightgrey\"},\"left_units\":\"screen\",\"level\":\"overlay\",\"line_alpha\":{\"value\":1.0},\"line_color\":{\"value\":\"black\"},\"line_dash\":[4,4],\"line_width\":{\"value\":2},\"plot\":null,\"render_mode\":\"css\",\"right_units\":\"screen\",\"top_units\":\"screen\"},\"id\":\"62466f35-6c07-4bfe-ae09-387eafbc4bae\",\"type\":\"BoxAnnotation\"},{\"attributes\":{\"source\":{\"id\":\"adf6a976-b373-472a-9f98-5d8a810ecf21\",\"type\":\"ColumnDataSource\"}},\"id\":\"afd01aec-f5ae-44b9-b718-611c3b8b08d2\",\"type\":\"CDSView\"},{\"attributes\":{\"callback\":null,\"data\":{}},\"id\":\"81720598-642c-46e5-ada5-83ec3a76e7bd\",\"type\":\"ColumnDataSource\"},{\"attributes\":{},\"id\":\"c2aea121-c959-4cea-aef3-9b4498dcf7cd\",\"type\":\"PanTool\"},{\"attributes\":{},\"id\":\"37235872-d384-4c68-b88e-145703b3fe34\",\"type\":\"SaveTool\"},{\"attributes\":{\"data_source\":{\"id\":\"adf6a976-b373-472a-9f98-5d8a810ecf21\",\"type\":\"ColumnDataSource\"},\"glyph\":{\"id\":\"5a752b90-90e0-4ba3-9257-a932593db84d\",\"type\":\"Circle\"},\"hover_glyph\":null,\"muted_glyph\":null,\"nonselection_glyph\":{\"id\":\"3db16cbc-e7ec-4e33-bd2e-c485acef2ba8\",\"type\":\"Circle\"},\"selection_glyph\":null,\"view\":{\"id\":\"afd01aec-f5ae-44b9-b718-611c3b8b08d2\",\"type\":\"CDSView\"}},\"id\":\"898293ad-7205-47f8-a5da-9b32299e63ef\",\"type\":\"GlyphRenderer\"},{\"attributes\":{},\"id\":\"7f031358-ee48-40d5-ac54-7a434825ec03\",\"type\":\"WheelZoomTool\"},{\"attributes\":{\"overlay\":{\"id\":\"62466f35-6c07-4bfe-ae09-387eafbc4bae\",\"type\":\"BoxAnnotation\"}},\"id\":\"630ec9ab-23ae-48cc-ab37-b664f0cc3086\",\"type\":\"BoxZoomTool\"},{\"attributes\":{\"fill_alpha\":{\"value\":0.1},\"fill_color\":{\"value\":\"#1f77b4\"},\"line_alpha\":{\"value\":0.1},\"line_color\":{\"value\":\"#1f77b4\"},\"x\":{\"field\":\"x\"},\"y\":{\"field\":\"y\"}},\"id\":\"3db16cbc-e7ec-4e33-bd2e-c485acef2ba8\",\"type\":\"Circle\"},{\"attributes\":{},\"id\":\"87523385-263f-4461-b75c-21846dfcec86\",\"type\":\"ResetTool\"},{\"attributes\":{},\"id\":\"539458f3-0e30-4e96-ac79-9465a85a6eef\",\"type\":\"HelpTool\"},{\"attributes\":{},\"id\":\"0e4eeac8-1969-4dd2-b8b0-d39585e45f0e\",\"type\":\"BasicTickFormatter\"},{\"attributes\":{\"angle\":{\"units\":\"rad\",\"value\":-1.0646978210692295},\"fill_alpha\":{\"value\":0.1},\"fill_color\":{\"value\":\"#1f77b4\"},\"height\":{\"units\":\"data\",\"value\":6.3928055080780615},\"line_alpha\":{\"value\":0.1},\"line_color\":{\"value\":\"#1f77b4\"},\"width\":{\"units\":\"data\",\"value\":1.7697564058047062},\"x\":{\"value\":-1.5},\"y\":{\"value\":4.0}},\"id\":\"2b38632b-b57a-4d5e-b1f0-951c0d5e00a5\",\"type\":\"Ellipse\"},{\"attributes\":{\"angle\":{\"units\":\"rad\",\"value\":-1.0646978210692295},\"fill_alpha\":{\"value\":0.5},\"fill_color\":{\"value\":\"blue\"},\"height\":{\"units\":\"data\",\"value\":6.3928055080780615},\"line_alpha\":{\"value\":0.5},\"line_color\":{\"value\":\"blue\"},\"width\":{\"units\":\"data\",\"value\":1.7697564058047062},\"x\":{\"value\":-1.5},\"y\":{\"value\":4.0}},\"id\":\"35b043a1-f48b-4b0f-80c9-da4416da90eb\",\"type\":\"Ellipse\"},{\"attributes\":{\"data_source\":{\"id\":\"81720598-642c-46e5-ada5-83ec3a76e7bd\",\"type\":\"ColumnDataSource\"},\"glyph\":{\"id\":\"35b043a1-f48b-4b0f-80c9-da4416da90eb\",\"type\":\"Ellipse\"},\"hover_glyph\":null,\"muted_glyph\":null,\"nonselection_glyph\":{\"id\":\"2b38632b-b57a-4d5e-b1f0-951c0d5e00a5\",\"type\":\"Ellipse\"},\"selection_glyph\":null,\"view\":{\"id\":\"41e49a8a-06e3-4b4e-bc49-712d0d0ca58a\",\"type\":\"CDSView\"}},\"id\":\"5d2d6940-aa4d-4e54-9cbc-51807f4edb0f\",\"type\":\"GlyphRenderer\"},{\"attributes\":{\"below\":[{\"id\":\"863fa78f-97d1-4a79-9259-fdad92b0ce21\",\"type\":\"LinearAxis\"}],\"left\":[{\"id\":\"f07cbcc1-fe33-49e8-80c2-b0b0f18b81d5\",\"type\":\"LinearAxis\"}],\"plot_height\":400,\"plot_width\":400,\"renderers\":[{\"id\":\"863fa78f-97d1-4a79-9259-fdad92b0ce21\",\"type\":\"LinearAxis\"},{\"id\":\"cb765036-28b1-4c9b-9a77-d654cfe9cd48\",\"type\":\"Grid\"},{\"id\":\"f07cbcc1-fe33-49e8-80c2-b0b0f18b81d5\",\"type\":\"LinearAxis\"},{\"id\":\"05ca218d-5b10-480d-9f7c-5aab58ecedf4\",\"type\":\"Grid\"},{\"id\":\"62466f35-6c07-4bfe-ae09-387eafbc4bae\",\"type\":\"BoxAnnotation\"},{\"id\":\"898293ad-7205-47f8-a5da-9b32299e63ef\",\"type\":\"GlyphRenderer\"},{\"id\":\"5d2d6940-aa4d-4e54-9cbc-51807f4edb0f\",\"type\":\"GlyphRenderer\"},{\"id\":\"64da0b4a-8694-4027-bb85-cb4d6bb99d1d\",\"type\":\"GlyphRenderer\"},{\"id\":\"a477b517-360a-4379-a8ab-8bf7ab542a70\",\"type\":\"GlyphRenderer\"}],\"title\":{\"id\":\"43a659d8-4e74-4bb9-86df-d707f6d1333a\",\"type\":\"Title\"},\"toolbar\":{\"id\":\"a5a8dd27-c230-4f4e-964e-e17fdde8b116\",\"type\":\"Toolbar\"},\"x_range\":{\"id\":\"e4210afa-bbe9-4d28-aa05-75e9d0dd1813\",\"type\":\"Range1d\"},\"x_scale\":{\"id\":\"8c22e01a-3beb-4a32-9cad-4fb638902fe6\",\"type\":\"LinearScale\"},\"y_range\":{\"id\":\"3a9b5978-4e0f-4e8a-ad41-0ed4290cd015\",\"type\":\"Range1d\"},\"y_scale\":{\"id\":\"a80ae864-33da-46b0-bf79-8f4528e5bd68\",\"type\":\"LinearScale\"}},\"id\":\"a2baafe2-106f-42eb-a324-a669b73d8308\",\"subtype\":\"Figure\",\"type\":\"Plot\"}],\"root_ids\":[\"a2baafe2-106f-42eb-a324-a669b73d8308\"]},\"title\":\"Bokeh Application\",\"version\":\"0.12.14\"}};\n",
       "  var render_items = [{\"docid\":\"1c05f6ed-6757-4c73-88e0-f813fa0b8a2a\",\"elementid\":\"91869f97-e9c9-4435-a38d-3c194768df35\",\"modelid\":\"a2baafe2-106f-42eb-a324-a669b73d8308\"}];\n",
       "  root.Bokeh.embed.embed_items_notebook(docs_json, render_items);\n",
       "\n",
       "  }\n",
       "  if (root.Bokeh !== undefined) {\n",
       "    embed_document(root);\n",
       "  } else {\n",
       "    var attempts = 0;\n",
       "    var timer = setInterval(function(root) {\n",
       "      if (root.Bokeh !== undefined) {\n",
       "        embed_document(root);\n",
       "        clearInterval(timer);\n",
       "      }\n",
       "      attempts++;\n",
       "      if (attempts > 100) {\n",
       "        console.log(\"Bokeh: ERROR: Unable to run BokehJS code because BokehJS library is missing\")\n",
       "        clearInterval(timer);\n",
       "      }\n",
       "    }, 10, root)\n",
       "  }\n",
       "})(window);"
      ],
      "application/vnd.bokehjs_exec.v0+json": ""
     },
     "metadata": {
      "application/vnd.bokehjs_exec.v0+json": {
       "id": "a2baafe2-106f-42eb-a324-a669b73d8308"
      }
     },
     "output_type": "display_data"
    }
   ],
   "source": [
    "mean = np.array([-1.5, 4]) \n",
    "cov = np.array([\n",
    "    [2, 1],\n",
    "    [1, .75]\n",
    "])\n",
    "data = np.random.multivariate_normal(mean, cov, size=100)\n",
    "\n",
    "fig = figure(\n",
    "    title='Data',\n",
    "    width=400,\n",
    "    height=400,\n",
    "    x_range=(mean[0] - 5, mean[0] + 5),\n",
    "    y_range=(mean[1] - 5, mean[1] + 5)\n",
    ")\n",
    "fig.circle(data[:, 0], data[:, 1])\n",
    "plotting.plot_normal(fig, mean, cov)\n",
    "\n",
    "show(fig)"
   ]
  },
  {
   "cell_type": "markdown",
   "metadata": {},
   "source": [
    "## Model Creation\n",
    "\n",
    "We create two types of Normal distribution: one diagonal covariance matrix and another one with full covariance matrix."
   ]
  },
  {
   "cell_type": "code",
   "execution_count": 3,
   "metadata": {},
   "outputs": [],
   "source": [
    "normal_diag = beer.NormalDiagonalCovariance.create(torch.ones(2), torch.eye(2), prior_count=1e-3)\n",
    "normal_full = beer.NormalFullCovariance.create(torch.zeros(2), torch.eye(2), prior_count=1e-3)"
   ]
  },
  {
   "cell_type": "markdown",
   "metadata": {},
   "source": [
    "## Variational Bayes Training "
   ]
  },
  {
   "cell_type": "code",
   "execution_count": 4,
   "metadata": {
    "scrolled": false
   },
   "outputs": [
    {
     "name": "stderr",
     "output_type": "stream",
     "text": [
      "/Users/lucasondel/anaconda3/envs/pytorch_src/lib/python3.6/site-packages/bokeh/core/json_encoder.py:80: FutureWarning: Conversion of the second argument of issubdtype from `float` to `np.floating` is deprecated. In future, it will be treated as `np.float64 == np.dtype(float).type`.\n",
      "  elif np.issubdtype(type(obj), np.float):\n"
     ]
    },
    {
     "data": {
      "text/html": [
       "\n",
       "<div class=\"bk-root\">\n",
       "    <div class=\"bk-plotdiv\" id=\"2829b378-0a41-421c-9515-0f174cd1ac82\"></div>\n",
       "</div>"
      ]
     },
     "metadata": {},
     "output_type": "display_data"
    },
    {
     "data": {
      "application/javascript": [
       "(function(root) {\n",
       "  function embed_document(root) {\n",
       "    \n",
       "  var docs_json = {\"929fa4bb-ffdf-4d59-981a-31460822d8ef\":{\"roots\":{\"references\":[{\"attributes\":{\"callback\":null,\"data\":{}},\"id\":\"f27d825a-e499-461e-8f82-52e6cd2d311b\",\"type\":\"ColumnDataSource\"},{\"attributes\":{\"below\":[{\"id\":\"13a68fff-ea24-4a33-8b7b-e24674743384\",\"type\":\"LinearAxis\"}],\"left\":[{\"id\":\"5b8f8eb2-6030-4280-828d-ff8470a0c91f\",\"type\":\"LinearAxis\"}],\"plot_height\":400,\"plot_width\":400,\"renderers\":[{\"id\":\"13a68fff-ea24-4a33-8b7b-e24674743384\",\"type\":\"LinearAxis\"},{\"id\":\"922a0fe8-be0e-4175-9e68-ea42875f0729\",\"type\":\"Grid\"},{\"id\":\"5b8f8eb2-6030-4280-828d-ff8470a0c91f\",\"type\":\"LinearAxis\"},{\"id\":\"4e1c1ef1-13bd-49a6-9bdf-bdb70f3ae295\",\"type\":\"Grid\"},{\"id\":\"eb76374b-eb22-4b0f-a26a-969f80dffc34\",\"type\":\"BoxAnnotation\"},{\"id\":\"6e98ed40-f16e-4760-bfa2-6365906daac6\",\"type\":\"GlyphRenderer\"},{\"id\":\"24224db7-748c-47e2-baa2-2cbe29ec7cc3\",\"type\":\"GlyphRenderer\"},{\"id\":\"a9be665d-56b7-4719-920d-14d2184ff8b3\",\"type\":\"GlyphRenderer\"},{\"id\":\"d881e755-04e8-4a90-8e13-655bcd7ce31b\",\"type\":\"GlyphRenderer\"},{\"id\":\"b20ef510-0798-41c7-86c4-7d2b60c756b7\",\"type\":\"GlyphRenderer\"},{\"id\":\"2d787a88-cdbe-459b-8dda-1126c8227e05\",\"type\":\"GlyphRenderer\"},{\"id\":\"353c303a-676b-495c-804f-b0e878edfc21\",\"type\":\"GlyphRenderer\"}],\"title\":{\"id\":\"d63b890d-b753-469b-98a4-68916212aaab\",\"type\":\"Title\"},\"toolbar\":{\"id\":\"86bdf83b-4db1-4ee6-b12c-83613657e5c1\",\"type\":\"Toolbar\"},\"x_range\":{\"id\":\"d0f2e6a9-b047-4cf2-82aa-789f8a447cb6\",\"type\":\"Range1d\"},\"x_scale\":{\"id\":\"193c0a59-66ab-4a03-9754-fa929f1ce415\",\"type\":\"LinearScale\"},\"y_range\":{\"id\":\"e4bd02f0-1b04-429d-bf3b-26e0cceaf123\",\"type\":\"Range1d\"},\"y_scale\":{\"id\":\"8cb5df61-b8ba-4fcc-aaf7-bdcd2b1e969e\",\"type\":\"LinearScale\"}},\"id\":\"03720819-ee46-45ef-b697-ae54f6309ec7\",\"subtype\":\"Figure\",\"type\":\"Plot\"},{\"attributes\":{\"fill_alpha\":{\"value\":0.1},\"fill_color\":{\"value\":\"#1f77b4\"},\"line_alpha\":{\"value\":0.1},\"line_color\":{\"value\":\"#1f77b4\"},\"x\":{\"field\":\"x\"},\"y\":{\"field\":\"y\"}},\"id\":\"d8c819e4-a0de-4c34-aac6-ff58bec8f200\",\"type\":\"Circle\"},{\"attributes\":{},\"id\":\"7123280b-0881-4985-b66e-312c35ef54ee\",\"type\":\"ResetTool\"},{\"attributes\":{\"bottom_units\":\"screen\",\"fill_alpha\":{\"value\":0.5},\"fill_color\":{\"value\":\"lightgrey\"},\"left_units\":\"screen\",\"level\":\"overlay\",\"line_alpha\":{\"value\":1.0},\"line_color\":{\"value\":\"black\"},\"line_dash\":[4,4],\"line_width\":{\"value\":2},\"plot\":null,\"render_mode\":\"css\",\"right_units\":\"screen\",\"top_units\":\"screen\"},\"id\":\"eb76374b-eb22-4b0f-a26a-969f80dffc34\",\"type\":\"BoxAnnotation\"},{\"attributes\":{\"data_source\":{\"id\":\"f27d825a-e499-461e-8f82-52e6cd2d311b\",\"type\":\"ColumnDataSource\"},\"glyph\":{\"id\":\"bc78fe50-8583-4c39-bff2-187576a528e0\",\"type\":\"Cross\"},\"hover_glyph\":null,\"muted_glyph\":null,\"nonselection_glyph\":{\"id\":\"80dc1c0e-5cd0-4278-805e-555090cf5b2d\",\"type\":\"Cross\"},\"selection_glyph\":null,\"view\":{\"id\":\"501ca3a0-ec45-4605-a9b9-ba2db051fffd\",\"type\":\"CDSView\"}},\"id\":\"2d787a88-cdbe-459b-8dda-1126c8227e05\",\"type\":\"GlyphRenderer\"},{\"attributes\":{},\"id\":\"193c0a59-66ab-4a03-9754-fa929f1ce415\",\"type\":\"LinearScale\"},{\"attributes\":{\"callback\":null,\"end\":9.0,\"start\":-1.0},\"id\":\"e4bd02f0-1b04-429d-bf3b-26e0cceaf123\",\"type\":\"Range1d\"},{\"attributes\":{\"angle\":{\"units\":\"rad\",\"value\":-1.04761803150177},\"fill_alpha\":{\"value\":0.1},\"fill_color\":{\"value\":\"#1f77b4\"},\"height\":{\"units\":\"data\",\"value\":3.2303569316864014},\"line_alpha\":{\"value\":0.1},\"line_color\":{\"value\":\"#1f77b4\"},\"width\":{\"units\":\"data\",\"value\":0.9612143635749817},\"x\":{\"value\":-1.5165846347808838},\"y\":{\"value\":3.9691052436828613}},\"id\":\"bf029277-e02e-4338-bfa6-3154ecc11f43\",\"type\":\"Ellipse\"},{\"attributes\":{},\"id\":\"098ee091-c1d2-4ae6-bff4-e319f8983ed3\",\"type\":\"BasicTickFormatter\"},{\"attributes\":{\"angle\":{\"units\":\"rad\",\"value\":-1.04761803150177},\"fill_alpha\":{\"value\":0.5},\"fill_color\":{\"value\":\"green\"},\"height\":{\"units\":\"data\",\"value\":3.2303569316864014},\"line_alpha\":{\"value\":0.5},\"line_color\":{\"value\":\"green\"},\"width\":{\"units\":\"data\",\"value\":0.9612143635749817},\"x\":{\"value\":-1.5165846347808838},\"y\":{\"value\":3.9691052436828613}},\"id\":\"a7d97500-ef16-46cc-8119-74863ffddcab\",\"type\":\"Ellipse\"},{\"attributes\":{},\"id\":\"8cb5df61-b8ba-4fcc-aaf7-bdcd2b1e969e\",\"type\":\"LinearScale\"},{\"attributes\":{\"fill_alpha\":{\"value\":0.1},\"fill_color\":{\"value\":\"#1f77b4\"},\"line_alpha\":{\"value\":0.1},\"line_color\":{\"value\":\"#1f77b4\"},\"x\":{\"value\":-1.5165846347808838},\"y\":{\"value\":3.9691052436828613}},\"id\":\"80dc1c0e-5cd0-4278-805e-555090cf5b2d\",\"type\":\"Cross\"},{\"attributes\":{},\"id\":\"a821a6ac-2cdc-410a-8bfe-3b85f00cc040\",\"type\":\"BasicTicker\"},{\"attributes\":{\"angle\":{\"units\":\"rad\",\"value\":-1.5707963267948966},\"fill_alpha\":{\"value\":0.25},\"fill_color\":{\"value\":\"red\"},\"height\":{\"units\":\"data\",\"value\":5.706907749176025},\"line_alpha\":{\"value\":0.25},\"line_color\":{\"value\":\"red\"},\"width\":{\"units\":\"data\",\"value\":3.6243224143981934},\"x\":{\"value\":-1.5165718793869019},\"y\":{\"value\":3.9691176414489746}},\"id\":\"bd3f62e6-8abc-4db6-a93f-5e34e256fb80\",\"type\":\"Ellipse\"},{\"attributes\":{\"source\":{\"id\":\"f27d825a-e499-461e-8f82-52e6cd2d311b\",\"type\":\"ColumnDataSource\"}},\"id\":\"501ca3a0-ec45-4605-a9b9-ba2db051fffd\",\"type\":\"CDSView\"},{\"attributes\":{\"dimension\":1,\"plot\":{\"id\":\"03720819-ee46-45ef-b697-ae54f6309ec7\",\"subtype\":\"Figure\",\"type\":\"Plot\"},\"ticker\":{\"id\":\"a821a6ac-2cdc-410a-8bfe-3b85f00cc040\",\"type\":\"BasicTicker\"}},\"id\":\"4e1c1ef1-13bd-49a6-9bdf-bdb70f3ae295\",\"type\":\"Grid\"},{\"attributes\":{\"data_source\":{\"id\":\"ce1592df-72d0-4ece-a77b-630f570ce819\",\"type\":\"ColumnDataSource\"},\"glyph\":{\"id\":\"0baabd57-a5e2-4e86-a795-6066434df6ca\",\"type\":\"Circle\"},\"hover_glyph\":null,\"muted_glyph\":null,\"nonselection_glyph\":{\"id\":\"d8c819e4-a0de-4c34-aac6-ff58bec8f200\",\"type\":\"Circle\"},\"selection_glyph\":null,\"view\":{\"id\":\"6c8be353-9da3-4923-9e7e-b6f963cecfc0\",\"type\":\"CDSView\"}},\"id\":\"6e98ed40-f16e-4760-bfa2-6365906daac6\",\"type\":\"GlyphRenderer\"},{\"attributes\":{\"data_source\":{\"id\":\"1f153ef9-3f48-47ef-accd-8bcc731d25ad\",\"type\":\"ColumnDataSource\"},\"glyph\":{\"id\":\"a7d97500-ef16-46cc-8119-74863ffddcab\",\"type\":\"Ellipse\"},\"hover_glyph\":null,\"muted_glyph\":null,\"nonselection_glyph\":{\"id\":\"bf029277-e02e-4338-bfa6-3154ecc11f43\",\"type\":\"Ellipse\"},\"selection_glyph\":null,\"view\":{\"id\":\"824af4cb-5d4b-41ac-bd9a-d1c152692ead\",\"type\":\"CDSView\"}},\"id\":\"353c303a-676b-495c-804f-b0e878edfc21\",\"type\":\"GlyphRenderer\"},{\"attributes\":{\"angle\":{\"units\":\"rad\",\"value\":-1.5707963267948966},\"fill_alpha\":{\"value\":0.5},\"fill_color\":{\"value\":\"red\"},\"height\":{\"units\":\"data\",\"value\":2.8534538745880127},\"line_alpha\":{\"value\":0.5},\"line_color\":{\"value\":\"red\"},\"width\":{\"units\":\"data\",\"value\":1.8121612071990967},\"x\":{\"value\":-1.5165718793869019},\"y\":{\"value\":3.9691176414489746}},\"id\":\"19bf9b86-dcac-4e9a-afc6-12f454c7f7bd\",\"type\":\"Ellipse\"},{\"attributes\":{\"plot\":{\"id\":\"03720819-ee46-45ef-b697-ae54f6309ec7\",\"subtype\":\"Figure\",\"type\":\"Plot\"},\"ticker\":{\"id\":\"740303fc-f2b3-48e6-a9b2-18adde492237\",\"type\":\"BasicTicker\"}},\"id\":\"922a0fe8-be0e-4175-9e68-ea42875f0729\",\"type\":\"Grid\"},{\"attributes\":{\"fill_alpha\":{\"value\":0.1},\"fill_color\":{\"value\":\"#1f77b4\"},\"line_alpha\":{\"value\":0.1},\"line_color\":{\"value\":\"#1f77b4\"},\"x\":{\"value\":-1.5165718793869019},\"y\":{\"value\":3.9691176414489746}},\"id\":\"80e13d86-c115-4983-b056-72fb4ce02c06\",\"type\":\"Cross\"},{\"attributes\":{\"formatter\":{\"id\":\"98bcd668-7d9f-446c-b061-c6dbb85f449e\",\"type\":\"BasicTickFormatter\"},\"plot\":{\"id\":\"03720819-ee46-45ef-b697-ae54f6309ec7\",\"subtype\":\"Figure\",\"type\":\"Plot\"},\"ticker\":{\"id\":\"740303fc-f2b3-48e6-a9b2-18adde492237\",\"type\":\"BasicTicker\"}},\"id\":\"13a68fff-ea24-4a33-8b7b-e24674743384\",\"type\":\"LinearAxis\"},{\"attributes\":{\"fill_color\":{\"value\":\"#1f77b4\"},\"line_color\":{\"value\":\"#1f77b4\"},\"x\":{\"field\":\"x\"},\"y\":{\"field\":\"y\"}},\"id\":\"0baabd57-a5e2-4e86-a795-6066434df6ca\",\"type\":\"Circle\"},{\"attributes\":{\"active_drag\":\"auto\",\"active_inspect\":\"auto\",\"active_scroll\":\"auto\",\"active_tap\":\"auto\",\"tools\":[{\"id\":\"726de948-f25c-4859-9a14-5da8573bff52\",\"type\":\"PanTool\"},{\"id\":\"36872957-8903-4b45-817b-90c078dbbe7d\",\"type\":\"WheelZoomTool\"},{\"id\":\"fcad2125-970b-4301-976d-fec635801714\",\"type\":\"BoxZoomTool\"},{\"id\":\"7466d8bb-092c-4750-93fb-c0f5a1f4dc5c\",\"type\":\"SaveTool\"},{\"id\":\"7123280b-0881-4985-b66e-312c35ef54ee\",\"type\":\"ResetTool\"},{\"id\":\"31d2c230-553b-4ef5-9e88-02ffa5a75ae4\",\"type\":\"HelpTool\"}]},\"id\":\"86bdf83b-4db1-4ee6-b12c-83613657e5c1\",\"type\":\"Toolbar\"},{\"attributes\":{},\"id\":\"31d2c230-553b-4ef5-9e88-02ffa5a75ae4\",\"type\":\"HelpTool\"},{\"attributes\":{},\"id\":\"740303fc-f2b3-48e6-a9b2-18adde492237\",\"type\":\"BasicTicker\"},{\"attributes\":{\"formatter\":{\"id\":\"098ee091-c1d2-4ae6-bff4-e319f8983ed3\",\"type\":\"BasicTickFormatter\"},\"plot\":{\"id\":\"03720819-ee46-45ef-b697-ae54f6309ec7\",\"subtype\":\"Figure\",\"type\":\"Plot\"},\"ticker\":{\"id\":\"a821a6ac-2cdc-410a-8bfe-3b85f00cc040\",\"type\":\"BasicTicker\"}},\"id\":\"5b8f8eb2-6030-4280-828d-ff8470a0c91f\",\"type\":\"LinearAxis\"},{\"attributes\":{\"fill_alpha\":{\"value\":0.5},\"fill_color\":{\"value\":\"red\"},\"line_alpha\":{\"value\":0.5},\"line_color\":{\"value\":\"red\"},\"x\":{\"value\":-1.5165718793869019},\"y\":{\"value\":3.9691176414489746}},\"id\":\"1fe0bdaa-6574-45e9-b107-2f5e8c8b4f00\",\"type\":\"Cross\"},{\"attributes\":{\"source\":{\"id\":\"1f153ef9-3f48-47ef-accd-8bcc731d25ad\",\"type\":\"ColumnDataSource\"}},\"id\":\"824af4cb-5d4b-41ac-bd9a-d1c152692ead\",\"type\":\"CDSView\"},{\"attributes\":{\"callback\":null,\"data\":{}},\"id\":\"895b3c62-ef32-4180-b351-0ad27543fc12\",\"type\":\"ColumnDataSource\"},{\"attributes\":{\"callback\":null,\"data\":{}},\"id\":\"5adb20b2-4d35-4589-9119-93023ac865d9\",\"type\":\"ColumnDataSource\"},{\"attributes\":{},\"id\":\"36872957-8903-4b45-817b-90c078dbbe7d\",\"type\":\"WheelZoomTool\"},{\"attributes\":{\"plot\":null,\"text\":\"Initial model\"},\"id\":\"d63b890d-b753-469b-98a4-68916212aaab\",\"type\":\"Title\"},{\"attributes\":{\"angle\":{\"units\":\"rad\",\"value\":-1.5707963267948966},\"fill_alpha\":{\"value\":0.1},\"fill_color\":{\"value\":\"#1f77b4\"},\"height\":{\"units\":\"data\",\"value\":5.706907749176025},\"line_alpha\":{\"value\":0.1},\"line_color\":{\"value\":\"#1f77b4\"},\"width\":{\"units\":\"data\",\"value\":3.6243224143981934},\"x\":{\"value\":-1.5165718793869019},\"y\":{\"value\":3.9691176414489746}},\"id\":\"94fb8d50-19fb-4d6b-9ceb-b102d936e028\",\"type\":\"Ellipse\"},{\"attributes\":{\"source\":{\"id\":\"895b3c62-ef32-4180-b351-0ad27543fc12\",\"type\":\"ColumnDataSource\"}},\"id\":\"f36ae03b-ee47-4a9e-b1e2-ace178fcdf01\",\"type\":\"CDSView\"},{\"attributes\":{},\"id\":\"726de948-f25c-4859-9a14-5da8573bff52\",\"type\":\"PanTool\"},{\"attributes\":{\"source\":{\"id\":\"ce1592df-72d0-4ece-a77b-630f570ce819\",\"type\":\"ColumnDataSource\"}},\"id\":\"6c8be353-9da3-4923-9e7e-b6f963cecfc0\",\"type\":\"CDSView\"},{\"attributes\":{\"source\":{\"id\":\"67626394-1144-44f2-9016-8c8dc39d0380\",\"type\":\"ColumnDataSource\"}},\"id\":\"f13f9baa-d032-44ec-80e2-de0f566530c0\",\"type\":\"CDSView\"},{\"attributes\":{},\"id\":\"98bcd668-7d9f-446c-b061-c6dbb85f449e\",\"type\":\"BasicTickFormatter\"},{\"attributes\":{\"data_source\":{\"id\":\"67626394-1144-44f2-9016-8c8dc39d0380\",\"type\":\"ColumnDataSource\"},\"glyph\":{\"id\":\"1fe0bdaa-6574-45e9-b107-2f5e8c8b4f00\",\"type\":\"Cross\"},\"hover_glyph\":null,\"muted_glyph\":null,\"nonselection_glyph\":{\"id\":\"80e13d86-c115-4983-b056-72fb4ce02c06\",\"type\":\"Cross\"},\"selection_glyph\":null,\"view\":{\"id\":\"f13f9baa-d032-44ec-80e2-de0f566530c0\",\"type\":\"CDSView\"}},\"id\":\"a9be665d-56b7-4719-920d-14d2184ff8b3\",\"type\":\"GlyphRenderer\"},{\"attributes\":{},\"id\":\"7466d8bb-092c-4750-93fb-c0f5a1f4dc5c\",\"type\":\"SaveTool\"},{\"attributes\":{\"callback\":null,\"end\":3.5,\"start\":-6.5},\"id\":\"d0f2e6a9-b047-4cf2-82aa-789f8a447cb6\",\"type\":\"Range1d\"},{\"attributes\":{\"data_source\":{\"id\":\"895b3c62-ef32-4180-b351-0ad27543fc12\",\"type\":\"ColumnDataSource\"},\"glyph\":{\"id\":\"bd3f62e6-8abc-4db6-a93f-5e34e256fb80\",\"type\":\"Ellipse\"},\"hover_glyph\":null,\"muted_glyph\":null,\"nonselection_glyph\":{\"id\":\"94fb8d50-19fb-4d6b-9ceb-b102d936e028\",\"type\":\"Ellipse\"},\"selection_glyph\":null,\"view\":{\"id\":\"f36ae03b-ee47-4a9e-b1e2-ace178fcdf01\",\"type\":\"CDSView\"}},\"id\":\"24224db7-748c-47e2-baa2-2cbe29ec7cc3\",\"type\":\"GlyphRenderer\"},{\"attributes\":{\"callback\":null,\"column_names\":[\"x\",\"y\"],\"data\":{\"x\":{\"__ndarray__\":\"lJkrD5B52z8EKU6CgT7Rv++iM1vIaP6/+G0vOD7S3j+S4ThQb4QDwHld+2/85u6/AIXPnWSJkb9QP+xnw2+1P9P04tL0AOK/R9LGcP7KBsDCu/9FAlP0v9hlLrAgMMc/Z7dXNa3w/78OFHHo62zzP4OAPDMfyPa/AOj4vsEjkL/ywC6R2zsKwHSw154Ij+S/bEtqU8qm+L9i0DLXm4ECwIT5p5hw6d2/kJAMX5czBMDSJpymOtnjvzSwP2+Bn+m/AHd8ST+P9r9MVERfrsj/v8bF/W0I9e6/QbY8uaWW7r8YJIe8GcXAv8gGEiqlX9q/2TlzYkFs9r+zpC0Wa6L+vyBPAKzhAdW/ADZVLXP9nD+mTse0SSEFwFoZ0UvVkwnASNcubau//7+yHbur73n7v47KWjesW/m/8GPfku5g9L/5Bq3f90Lgv6DNDqtfTrM/piDaFeGe7L+cJBgES9sCwMBSCaFtpAfAIVMW/0wC8b9puY5kA8f4vwnrxswKHg/A0Te7Ig3l5L9sjdaodzkHwAL6lwVT5Oy/qAFNsElCB8CARrI0NSSnP3blZxFG0+m/fHjzW7/tEMDgql+4URr2v7n70810/O2/MDK3droo+7+zMKMTnkb6vyDMlOvW27s/WpY567c07b9z5Sf9/5MYwIDbbw0CHwPAeb12sJpcD8BQ3/KLHInSv3wOIJniEvi/35IwdeXg9b/sgsiDIoAHQOCqLMKIMas/CtFHdohAEMCYa6jRLErxv8ZNGjPqbve/ZAX2Lkp98L82ZGzN3ef1v8l8PHSN9P6/EraUwNErAcDDaCg7AXEBwBpRvsdilee/mB0c5T/15b9OXiMZmBoPwLNiasBmdhXAjhSPHEx/DsAMoui6/In4Py9XUpxWUw3Ab2ctiLu0AcCGSdYr58nxv6j7TmKZvf+/QdfyRxAD8r98bujDAgwPwPBm+X/Ndfy//kXjrLIIAcBhSUIfoE/yv+UXbkPt1QbAtDFs5/z67D+udU+C8TYCwCZp4jb7oPS/+AKs/bQA8b+wouvHzvgCwAg+6+wokADAW15+oYs/C8A=\",\"dtype\":\"float64\",\"shape\":[100]},\"y\":{\"__ndarray__\":\"iqb+03XOFEDsrnesXEQKQBoN+24EowVAguGQHVR+EEDAr3eg64kLQDolVcBf0RFAFLsWe50oEkAdlLNDhfcTQNEMXtkkDxJAa+GKaTULDUC1vyUiOgYQQFYgIxd+BRNAdp4BJlaVBkDSnzWxoHUYQFThkXdp9g5AUBSKeCAbDEAQEvHv9koJQHHqHMbS4RNAgoh+igF0EEC0jOE6qIoDQPA/ll6OYxFApOmLVNCmDEBaAs6DXQoQQFLJmfhAqBBAarIU1tPbEUD3rAJvVxgNQCfuBTo9ghJAP/1OCuPxDkCaasST1u0MQDgoLbGNEhRAjOSK2bt+DkBqZu4i3YEQQOMxo0D0dw1ASeE5NtfrEEAV8hKVWF0QQFbTJ/H86ANALGUL4/FgDkCatMp+Ru8LQFLj6z3vQRFAsaWTUL9iEEDY2Cvbd5wQQEazeHeNdBNAaexGZaaeE0CswFTqeocLQEgfGDTKIAhA3J4k3RgjFUBzK+EBplQRQLpgicFMVQVAyyqZLaPWEEDW4MbB+MMJQBR4KRHDzgtAt/KGrfhMCUCZJZAJRQQUQLKngEyzahJANpnCB1t4DEA2B18rCHsIQCo5Fuz8eBdA97snYgjJEEDnQlUabA4RQL6YSOcL0RJAiEtUJGmFEEBUOm5/Gb30P3qCbI++aAxASDAtWYzv/z9SwMzbbAcRQDR7NHaylw9AImToq49UEEBk6MMQEeUYQHDWc4lCehRAwMkYTIheBUCIuxy+7JkMQJV7RAYf7A9A7auY3x2EFUBLuEBsFrcRQIoCLdS3rw9AeksZGxUBDkCUUsyxXBIJQDgik9Lo2xJA3s3KZBj/EkBiFT+InT8LQKjE7hQN2Ps/eAo6N2mRAUAgy5jxStQXQPsNeJpjnAhAjMTebRKtC0DVISpwkocQQD5uHUTpyQtApnNWp82cFED8TUlnd7YKQNOIDxolRg1Aw8DzMql9D0AIkKh0+bgOQOM6aya1xAtA9UhzZJ8nFkC+u79HORcJQOz6eKoxOxJAlb9NPH1TFEC4x3K+gqcOQJusUxwI6g9AyJ3Y5BfqBkA=\",\"dtype\":\"float64\",\"shape\":[100]}}},\"id\":\"ce1592df-72d0-4ece-a77b-630f570ce819\",\"type\":\"ColumnDataSource\"},{\"attributes\":{\"source\":{\"id\":\"4df8680f-6f06-45ce-93a8-b2ef5b538611\",\"type\":\"ColumnDataSource\"}},\"id\":\"dc3d27f7-c96f-4079-88c4-feb54d00c09a\",\"type\":\"CDSView\"},{\"attributes\":{\"overlay\":{\"id\":\"eb76374b-eb22-4b0f-a26a-969f80dffc34\",\"type\":\"BoxAnnotation\"}},\"id\":\"fcad2125-970b-4301-976d-fec635801714\",\"type\":\"BoxZoomTool\"},{\"attributes\":{\"callback\":null,\"data\":{}},\"id\":\"67626394-1144-44f2-9016-8c8dc39d0380\",\"type\":\"ColumnDataSource\"},{\"attributes\":{\"angle\":{\"units\":\"rad\",\"value\":-1.04761803150177},\"fill_alpha\":{\"value\":0.25},\"fill_color\":{\"value\":\"green\"},\"height\":{\"units\":\"data\",\"value\":6.460713863372803},\"line_alpha\":{\"value\":0.25},\"line_color\":{\"value\":\"green\"},\"width\":{\"units\":\"data\",\"value\":1.9224287271499634},\"x\":{\"value\":-1.5165846347808838},\"y\":{\"value\":3.9691052436828613}},\"id\":\"4b50a22b-dd25-427f-994e-2dfb5dbde60b\",\"type\":\"Ellipse\"},{\"attributes\":{\"angle\":{\"units\":\"rad\",\"value\":-1.5707963267948966},\"fill_alpha\":{\"value\":0.1},\"fill_color\":{\"value\":\"#1f77b4\"},\"height\":{\"units\":\"data\",\"value\":2.8534538745880127},\"line_alpha\":{\"value\":0.1},\"line_color\":{\"value\":\"#1f77b4\"},\"width\":{\"units\":\"data\",\"value\":1.8121612071990967},\"x\":{\"value\":-1.5165718793869019},\"y\":{\"value\":3.9691176414489746}},\"id\":\"2b1ad896-e140-4ff2-a68b-117f58312f2e\",\"type\":\"Ellipse\"},{\"attributes\":{\"callback\":null,\"data\":{}},\"id\":\"4df8680f-6f06-45ce-93a8-b2ef5b538611\",\"type\":\"ColumnDataSource\"},{\"attributes\":{\"data_source\":{\"id\":\"5adb20b2-4d35-4589-9119-93023ac865d9\",\"type\":\"ColumnDataSource\"},\"glyph\":{\"id\":\"19bf9b86-dcac-4e9a-afc6-12f454c7f7bd\",\"type\":\"Ellipse\"},\"hover_glyph\":null,\"muted_glyph\":null,\"nonselection_glyph\":{\"id\":\"2b1ad896-e140-4ff2-a68b-117f58312f2e\",\"type\":\"Ellipse\"},\"selection_glyph\":null,\"view\":{\"id\":\"99036e5d-a38a-44e7-a923-21e372328391\",\"type\":\"CDSView\"}},\"id\":\"d881e755-04e8-4a90-8e13-655bcd7ce31b\",\"type\":\"GlyphRenderer\"},{\"attributes\":{\"fill_alpha\":{\"value\":0.5},\"fill_color\":{\"value\":\"green\"},\"line_alpha\":{\"value\":0.5},\"line_color\":{\"value\":\"green\"},\"x\":{\"value\":-1.5165846347808838},\"y\":{\"value\":3.9691052436828613}},\"id\":\"bc78fe50-8583-4c39-bff2-187576a528e0\",\"type\":\"Cross\"},{\"attributes\":{\"source\":{\"id\":\"5adb20b2-4d35-4589-9119-93023ac865d9\",\"type\":\"ColumnDataSource\"}},\"id\":\"99036e5d-a38a-44e7-a923-21e372328391\",\"type\":\"CDSView\"},{\"attributes\":{\"angle\":{\"units\":\"rad\",\"value\":-1.04761803150177},\"fill_alpha\":{\"value\":0.1},\"fill_color\":{\"value\":\"#1f77b4\"},\"height\":{\"units\":\"data\",\"value\":6.460713863372803},\"line_alpha\":{\"value\":0.1},\"line_color\":{\"value\":\"#1f77b4\"},\"width\":{\"units\":\"data\",\"value\":1.9224287271499634},\"x\":{\"value\":-1.5165846347808838},\"y\":{\"value\":3.9691052436828613}},\"id\":\"d18a541a-f94f-4e39-8e75-f73f7171a82e\",\"type\":\"Ellipse\"},{\"attributes\":{\"callback\":null,\"data\":{}},\"id\":\"1f153ef9-3f48-47ef-accd-8bcc731d25ad\",\"type\":\"ColumnDataSource\"},{\"attributes\":{\"data_source\":{\"id\":\"4df8680f-6f06-45ce-93a8-b2ef5b538611\",\"type\":\"ColumnDataSource\"},\"glyph\":{\"id\":\"4b50a22b-dd25-427f-994e-2dfb5dbde60b\",\"type\":\"Ellipse\"},\"hover_glyph\":null,\"muted_glyph\":null,\"nonselection_glyph\":{\"id\":\"d18a541a-f94f-4e39-8e75-f73f7171a82e\",\"type\":\"Ellipse\"},\"selection_glyph\":null,\"view\":{\"id\":\"dc3d27f7-c96f-4079-88c4-feb54d00c09a\",\"type\":\"CDSView\"}},\"id\":\"b20ef510-0798-41c7-86c4-7d2b60c756b7\",\"type\":\"GlyphRenderer\"}],\"root_ids\":[\"03720819-ee46-45ef-b697-ae54f6309ec7\"]},\"title\":\"Bokeh Application\",\"version\":\"0.12.14\"}};\n",
       "  var render_items = [{\"docid\":\"929fa4bb-ffdf-4d59-981a-31460822d8ef\",\"elementid\":\"2829b378-0a41-421c-9515-0f174cd1ac82\",\"modelid\":\"03720819-ee46-45ef-b697-ae54f6309ec7\"}];\n",
       "  root.Bokeh.embed.embed_items_notebook(docs_json, render_items);\n",
       "\n",
       "  }\n",
       "  if (root.Bokeh !== undefined) {\n",
       "    embed_document(root);\n",
       "  } else {\n",
       "    var attempts = 0;\n",
       "    var timer = setInterval(function(root) {\n",
       "      if (root.Bokeh !== undefined) {\n",
       "        embed_document(root);\n",
       "        clearInterval(timer);\n",
       "      }\n",
       "      attempts++;\n",
       "      if (attempts > 100) {\n",
       "        console.log(\"Bokeh: ERROR: Unable to run BokehJS code because BokehJS library is missing\")\n",
       "        clearInterval(timer);\n",
       "      }\n",
       "    }, 10, root)\n",
       "  }\n",
       "})(window);"
      ],
      "application/vnd.bokehjs_exec.v0+json": ""
     },
     "metadata": {
      "application/vnd.bokehjs_exec.v0+json": {
       "id": "03720819-ee46-45ef-b697-ae54f6309ec7"
      }
     },
     "output_type": "display_data"
    }
   ],
   "source": [
    "# Training.\n",
    "beer.train_loglinear_model(normal_diag, torch.from_numpy(data).float())\n",
    "beer.train_loglinear_model(normal_full, torch.from_numpy(data).float())\n",
    "\n",
    "fig = figure(\n",
    "    title='Initial model',\n",
    "    width=400,\n",
    "    height=400,\n",
    "    x_range=(mean[0] - 5, mean[0] + 5),\n",
    "    y_range=(mean[1] - 5, mean[1] + 5)\n",
    ")\n",
    "fig.circle(data[:, 0], data[:, 1])\n",
    "plotting.plot_normal(fig, normal_diag.mean.numpy(), normal_diag.cov.numpy(), alpha=.5, color='red')\n",
    "plotting.plot_normal(fig, normal_full.mean.numpy(), normal_full.cov.numpy(), alpha=.5, color='green')\n",
    "\n",
    "show(fig)"
   ]
  },
  {
   "cell_type": "code",
   "execution_count": 5,
   "metadata": {},
   "outputs": [
    {
     "data": {
      "text/plain": [
       "\n",
       " 2.0152  1.0291\n",
       " 1.0291  0.8246\n",
       "[torch.FloatTensor of size (2,2)]"
      ]
     },
     "execution_count": 5,
     "metadata": {},
     "output_type": "execute_result"
    }
   ],
   "source": [
    "normal_full.cov"
   ]
  },
  {
   "cell_type": "code",
   "execution_count": 6,
   "metadata": {},
   "outputs": [
    {
     "data": {
      "text/plain": [
       "\n",
       " 2.0152  1.0291\n",
       " 1.0291  0.8246\n",
       "[torch.FloatTensor of size (2,2)]"
      ]
     },
     "execution_count": 6,
     "metadata": {},
     "output_type": "execute_result"
    }
   ],
   "source": [
    "normal_full.cov"
   ]
  },
  {
   "cell_type": "markdown",
   "metadata": {},
   "source": [
    "# Model comparison\n",
    "\n",
    "We generate data for various correlation parameters:\n",
    "\n",
    "$$\n",
    "X_{\\lambda} \\sim \\mathcal{N}(\n",
    "    \\begin{pmatrix} \n",
    "    0 \\\\\n",
    "    0\n",
    "    \\end{pmatrix}, \n",
    "    \\begin{pmatrix} \n",
    "    1 & \\lambda \\\\\n",
    "    \\lambda & 1\n",
    "    \\end{pmatrix})\n",
    "$$\n",
    "\n",
    "and we compare the model evidence for both the Normal distribution with diagonal covariance matrix and with full covariance matrix.\n",
    "\n",
    "$$\n",
    "\\ln B_{\\lambda} = \\ln \\frac{p(X_\\lambda | \\mathcal{M}_{\\text{full}})}{p(X_\\lambda | \\mathcal{M}_{\\text{diag}})} =\n",
    "     \\ln \\frac{\\int_{\\theta} p(X_\\lambda | \\theta, \\mathcal{M}_{\\text{full}}) p(\\theta) d\\theta}{\\int_{\\theta}p(X_\\lambda | \\theta, \\mathcal{M}_{\\text{diag}})p(\\theta) d\\theta} = \\frac{A_{\\text{full}}(\\xi + \\sum_{n=1}^N T(x_n)) - A_{\\text{full}}(\\xi)}{A_{\\text{diag}}(\\xi + \\sum_{n=1}^N T(x_n))\n",
    "     - A_{\\text{diag}}(\\xi)}\n",
    "$$"
   ]
  },
  {
   "cell_type": "code",
   "execution_count": 7,
   "metadata": {
    "scrolled": false
   },
   "outputs": [
    {
     "data": {
      "text/html": [
       "\n",
       "<div class=\"bk-root\">\n",
       "    <div class=\"bk-plotdiv\" id=\"435bf90d-e050-42ec-b4ed-a92d25c42bf3\"></div>\n",
       "</div>"
      ]
     },
     "metadata": {},
     "output_type": "display_data"
    },
    {
     "data": {
      "application/javascript": [
       "(function(root) {\n",
       "  function embed_document(root) {\n",
       "    \n",
       "  var docs_json = {\"28534e9a-0718-4366-a0fc-d3d98586ca29\":{\"roots\":{\"references\":[{\"attributes\":{\"plot\":null,\"text\":\"Model Comparison\"},\"id\":\"45b9d86f-30a1-45b6-9d53-56b51cb8e5e2\",\"type\":\"Title\"},{\"attributes\":{\"axis_label\":\"log Bayes factor\",\"formatter\":{\"id\":\"8b1003bb-a872-4133-b0ab-26f4b92af155\",\"type\":\"BasicTickFormatter\"},\"plot\":{\"id\":\"62c26640-2006-4895-9f16-054511be876d\",\"subtype\":\"Figure\",\"type\":\"Plot\"},\"ticker\":{\"id\":\"3568661c-8011-4199-ae01-7b3fb0d58830\",\"type\":\"BasicTicker\"}},\"id\":\"e9da9909-d7eb-429e-a5bf-5626d525d3d7\",\"type\":\"LinearAxis\"},{\"attributes\":{\"callback\":null},\"id\":\"e34502fb-5e48-4989-abc8-0d33be8bbcc4\",\"type\":\"DataRange1d\"},{\"attributes\":{},\"id\":\"e7fbca91-a979-4f08-a4d2-555b8d86768f\",\"type\":\"SaveTool\"},{\"attributes\":{\"dimension\":1,\"plot\":{\"id\":\"62c26640-2006-4895-9f16-054511be876d\",\"subtype\":\"Figure\",\"type\":\"Plot\"},\"ticker\":{\"id\":\"3568661c-8011-4199-ae01-7b3fb0d58830\",\"type\":\"BasicTicker\"}},\"id\":\"2e599b14-a5d6-4266-a933-16a65c0051ad\",\"type\":\"Grid\"},{\"attributes\":{\"callback\":null,\"column_names\":[\"x\",\"y\"],\"data\":{\"x\":{\"__ndarray__\":\"rkfhehSu778K16NwPQrvv2ZmZmZmZu6/wvUoXI/C7b8fhetRuB7tv3sUrkfheuy/16NwPQrX678zMzMzMzPrv4/C9Shcj+q/7FG4HoXr6b9I4XoUrkfpv6RwPQrXo+i/AAAAAAAA6L9cj8L1KFznv7gehetRuOa/FK5H4XoU5r9wPQrXo3Dlv8zMzMzMzOS/KVyPwvUo5L+F61G4HoXjv+F6FK5H4eK/PgrXo3A94r+amZmZmZnhv/YoXI/C9eC/UrgehetR4L9cj8L1KFzfvxSuR+F6FN6/zMzMzMzM3L+E61G4HoXbvz4K16NwPdq/9ihcj8L12L+uR+F6FK7Xv2ZmZmZmZta/HoXrUbge1b/Wo3A9CtfTv47C9Shcj9K/SOF6FK5H0b8AAAAAAADQv3A9CtejcM2/4HoUrkfhyr9QuB6F61HIv8D1KFyPwsW/NDMzMzMzw7+kcD0K16PAvyhcj8L1KLy/CNejcD0Kt7/oUbgeheuxv5CZmZmZmam/wB6F61G4nr+AFK5H4XqEv4AUrkfheoQ/wB6F61G4nj+gmZmZmZmpP/BRuB6F67E/ENejcD0Ktz8wXI/C9Si8P6hwPQrXo8A/ODMzMzMzwz/A9Shcj8LFP1C4HoXrUcg/4HoUrkfhyj9wPQrXo3DNPwAAAAAAANA/SOF6FK5H0T+QwvUoXI/SP9ijcD0K19M/IIXrUbge1T9oZmZmZmbWP7BH4XoUrtc/+Chcj8L12D9ACtejcD3aP4TrUbgehds/zMzMzMzM3D8UrkfhehTeP1yPwvUoXN8/UrgehetR4D/2KFyPwvXgP5qZmZmZmeE/PgrXo3A94j/iehSuR+HiP4brUbgeheM/KlyPwvUo5D/OzMzMzMzkP3I9CtejcOU/FK5H4XoU5j+4HoXrUbjmP1yPwvUoXOc/AAAAAAAA6D+kcD0K16PoP0jhehSuR+k/7FG4HoXr6T+QwvUoXI/qPzQzMzMzM+s/2KNwPQrX6z98FK5H4XrsPyCF61G4Hu0/wvUoXI/C7T9mZmZmZmbuPwrXo3A9Cu8/rkfhehSu7z8=\",\"dtype\":\"float64\",\"shape\":[100]},\"y\":{\"__ndarray__\":\"6s/oRIY5rUQkr5BE7U9+RNW8WUSp7kREWVwyRM2iHUStZBNEAfEMRBk9B0QKDuFDMuuvQ7p8r0My2bRDSgqjQ2r6j0OksnVDxNhWQ+RjdEPEkFVDRFFFQ9RHL0Pk5ClDVCsjQzRUKEOU2QxDaFb4Qojz9kKIp7NC6L7JQoiXpULQQ3xCkBVyQpCkR0JQgX5CUBw4QqCp20EA2+hBIFbHQSB9x0GAw6RBAKO7QaD5kkEAQixBADYTQUAPMEFAFlZBQAwQQQBeAkFA1hJBQIECQQCTIEFApjRBANNvQUBCW0FADnVBICjfQYBnykGguNBBEHgxQtAQFUKQHhdCoPToQVCca0LQ0zJCUE9dQmiaoULIM5pC6MzOQghzxkIIcNBCiPziQlRFCkOkuhBDxGwmQwR7O0Nk+ilDdHI/QzRQUkPk4FJDQpmEQ5qwh0PSOJ9DGnOeQ3qZvEMy+NFD4jjPQwrl4kMZjgJE2gb+Q+HVG0T98SFECdMrRNlLRkQ9FV9EOj2ARNK0j0R6Uq5ELlvnRA==\",\"dtype\":\"float32\",\"shape\":[100]}}},\"id\":\"8daa664c-1842-4f87-bf73-2b443423ebcb\",\"type\":\"ColumnDataSource\"},{\"attributes\":{},\"id\":\"655ca18b-f29b-4ad7-89f7-cf3a568d60d1\",\"type\":\"ResetTool\"},{\"attributes\":{},\"id\":\"b8b68836-19fb-4a9e-a10b-203cb722232a\",\"type\":\"LinearScale\"},{\"attributes\":{},\"id\":\"12c0b290-e33c-4ac4-9fc4-66cdeb9dd666\",\"type\":\"HelpTool\"},{\"attributes\":{},\"id\":\"ff330577-7f45-4f0a-93dc-9c08c12181b6\",\"type\":\"BasicTicker\"},{\"attributes\":{\"callback\":null},\"id\":\"90bd2242-f580-4b92-b48c-434e4fc1828f\",\"type\":\"DataRange1d\"},{\"attributes\":{\"plot\":{\"id\":\"62c26640-2006-4895-9f16-054511be876d\",\"subtype\":\"Figure\",\"type\":\"Plot\"},\"ticker\":{\"id\":\"ff330577-7f45-4f0a-93dc-9c08c12181b6\",\"type\":\"BasicTicker\"}},\"id\":\"d1123cf0-5721-4f7a-90d3-219e8850b474\",\"type\":\"Grid\"},{\"attributes\":{},\"id\":\"8b1003bb-a872-4133-b0ab-26f4b92af155\",\"type\":\"BasicTickFormatter\"},{\"attributes\":{\"axis_label\":\"\\u03bb\",\"formatter\":{\"id\":\"053f49e2-fdb6-4e62-a2e4-2fa8558c6e3b\",\"type\":\"BasicTickFormatter\"},\"plot\":{\"id\":\"62c26640-2006-4895-9f16-054511be876d\",\"subtype\":\"Figure\",\"type\":\"Plot\"},\"ticker\":{\"id\":\"ff330577-7f45-4f0a-93dc-9c08c12181b6\",\"type\":\"BasicTicker\"}},\"id\":\"816904e9-9fff-4545-bcd6-ee7918456122\",\"type\":\"LinearAxis\"},{\"attributes\":{},\"id\":\"3568661c-8011-4199-ae01-7b3fb0d58830\",\"type\":\"BasicTicker\"},{\"attributes\":{\"data_source\":{\"id\":\"8daa664c-1842-4f87-bf73-2b443423ebcb\",\"type\":\"ColumnDataSource\"},\"glyph\":{\"id\":\"4124527a-44eb-413d-a9e9-ebf8bec1fb47\",\"type\":\"Line\"},\"hover_glyph\":null,\"muted_glyph\":null,\"nonselection_glyph\":{\"id\":\"aee4d327-e12c-4221-a9c4-5b4e4de7b466\",\"type\":\"Line\"},\"selection_glyph\":null,\"view\":{\"id\":\"80ed96e3-746c-4b36-b758-d1964193ceb8\",\"type\":\"CDSView\"}},\"id\":\"d569169d-b0a4-474d-89c4-6149ca1508ab\",\"type\":\"GlyphRenderer\"},{\"attributes\":{},\"id\":\"af619842-56f9-4ae2-9498-79e0fcee114b\",\"type\":\"LinearScale\"},{\"attributes\":{},\"id\":\"053f49e2-fdb6-4e62-a2e4-2fa8558c6e3b\",\"type\":\"BasicTickFormatter\"},{\"attributes\":{},\"id\":\"c99e3843-1c5c-4bdc-b0a3-98999d55c79f\",\"type\":\"WheelZoomTool\"},{\"attributes\":{\"source\":{\"id\":\"8daa664c-1842-4f87-bf73-2b443423ebcb\",\"type\":\"ColumnDataSource\"}},\"id\":\"80ed96e3-746c-4b36-b758-d1964193ceb8\",\"type\":\"CDSView\"},{\"attributes\":{\"line_color\":\"#1f77b4\",\"x\":{\"field\":\"x\"},\"y\":{\"field\":\"y\"}},\"id\":\"4124527a-44eb-413d-a9e9-ebf8bec1fb47\",\"type\":\"Line\"},{\"attributes\":{\"below\":[{\"id\":\"816904e9-9fff-4545-bcd6-ee7918456122\",\"type\":\"LinearAxis\"}],\"left\":[{\"id\":\"e9da9909-d7eb-429e-a5bf-5626d525d3d7\",\"type\":\"LinearAxis\"}],\"plot_height\":400,\"plot_width\":400,\"renderers\":[{\"id\":\"816904e9-9fff-4545-bcd6-ee7918456122\",\"type\":\"LinearAxis\"},{\"id\":\"d1123cf0-5721-4f7a-90d3-219e8850b474\",\"type\":\"Grid\"},{\"id\":\"e9da9909-d7eb-429e-a5bf-5626d525d3d7\",\"type\":\"LinearAxis\"},{\"id\":\"2e599b14-a5d6-4266-a933-16a65c0051ad\",\"type\":\"Grid\"},{\"id\":\"7c0291fc-5ccd-4950-a32e-fd1870ce8f9a\",\"type\":\"BoxAnnotation\"},{\"id\":\"d569169d-b0a4-474d-89c4-6149ca1508ab\",\"type\":\"GlyphRenderer\"}],\"title\":{\"id\":\"45b9d86f-30a1-45b6-9d53-56b51cb8e5e2\",\"type\":\"Title\"},\"toolbar\":{\"id\":\"80de1ba1-4ece-448f-9b0d-d0288883c3c8\",\"type\":\"Toolbar\"},\"x_range\":{\"id\":\"90bd2242-f580-4b92-b48c-434e4fc1828f\",\"type\":\"DataRange1d\"},\"x_scale\":{\"id\":\"af619842-56f9-4ae2-9498-79e0fcee114b\",\"type\":\"LinearScale\"},\"y_range\":{\"id\":\"e34502fb-5e48-4989-abc8-0d33be8bbcc4\",\"type\":\"DataRange1d\"},\"y_scale\":{\"id\":\"b8b68836-19fb-4a9e-a10b-203cb722232a\",\"type\":\"LinearScale\"}},\"id\":\"62c26640-2006-4895-9f16-054511be876d\",\"subtype\":\"Figure\",\"type\":\"Plot\"},{\"attributes\":{\"line_alpha\":0.1,\"line_color\":\"#1f77b4\",\"x\":{\"field\":\"x\"},\"y\":{\"field\":\"y\"}},\"id\":\"aee4d327-e12c-4221-a9c4-5b4e4de7b466\",\"type\":\"Line\"},{\"attributes\":{},\"id\":\"3c3ca4d1-d858-4b45-95d4-9b0501e22d9d\",\"type\":\"PanTool\"},{\"attributes\":{\"active_drag\":\"auto\",\"active_inspect\":\"auto\",\"active_scroll\":\"auto\",\"active_tap\":\"auto\",\"tools\":[{\"id\":\"3c3ca4d1-d858-4b45-95d4-9b0501e22d9d\",\"type\":\"PanTool\"},{\"id\":\"c99e3843-1c5c-4bdc-b0a3-98999d55c79f\",\"type\":\"WheelZoomTool\"},{\"id\":\"3e63f4a8-87ca-493e-91dd-17ca7b54c834\",\"type\":\"BoxZoomTool\"},{\"id\":\"e7fbca91-a979-4f08-a4d2-555b8d86768f\",\"type\":\"SaveTool\"},{\"id\":\"655ca18b-f29b-4ad7-89f7-cf3a568d60d1\",\"type\":\"ResetTool\"},{\"id\":\"12c0b290-e33c-4ac4-9fc4-66cdeb9dd666\",\"type\":\"HelpTool\"}]},\"id\":\"80de1ba1-4ece-448f-9b0d-d0288883c3c8\",\"type\":\"Toolbar\"},{\"attributes\":{\"overlay\":{\"id\":\"7c0291fc-5ccd-4950-a32e-fd1870ce8f9a\",\"type\":\"BoxAnnotation\"}},\"id\":\"3e63f4a8-87ca-493e-91dd-17ca7b54c834\",\"type\":\"BoxZoomTool\"},{\"attributes\":{\"bottom_units\":\"screen\",\"fill_alpha\":{\"value\":0.5},\"fill_color\":{\"value\":\"lightgrey\"},\"left_units\":\"screen\",\"level\":\"overlay\",\"line_alpha\":{\"value\":1.0},\"line_color\":{\"value\":\"black\"},\"line_dash\":[4,4],\"line_width\":{\"value\":2},\"plot\":null,\"render_mode\":\"css\",\"right_units\":\"screen\",\"top_units\":\"screen\"},\"id\":\"7c0291fc-5ccd-4950-a32e-fd1870ce8f9a\",\"type\":\"BoxAnnotation\"}],\"root_ids\":[\"62c26640-2006-4895-9f16-054511be876d\"]},\"title\":\"Bokeh Application\",\"version\":\"0.12.14\"}};\n",
       "  var render_items = [{\"docid\":\"28534e9a-0718-4366-a0fc-d3d98586ca29\",\"elementid\":\"435bf90d-e050-42ec-b4ed-a92d25c42bf3\",\"modelid\":\"62c26640-2006-4895-9f16-054511be876d\"}];\n",
       "  root.Bokeh.embed.embed_items_notebook(docs_json, render_items);\n",
       "\n",
       "  }\n",
       "  if (root.Bokeh !== undefined) {\n",
       "    embed_document(root);\n",
       "  } else {\n",
       "    var attempts = 0;\n",
       "    var timer = setInterval(function(root) {\n",
       "      if (root.Bokeh !== undefined) {\n",
       "        embed_document(root);\n",
       "        clearInterval(timer);\n",
       "      }\n",
       "      attempts++;\n",
       "      if (attempts > 100) {\n",
       "        console.log(\"Bokeh: ERROR: Unable to run BokehJS code because BokehJS library is missing\")\n",
       "        clearInterval(timer);\n",
       "      }\n",
       "    }, 10, root)\n",
       "  }\n",
       "})(window);"
      ],
      "application/vnd.bokehjs_exec.v0+json": ""
     },
     "metadata": {
      "application/vnd.bokehjs_exec.v0+json": {
       "id": "62c26640-2006-4895-9f16-054511be876d"
      }
     },
     "output_type": "display_data"
    }
   ],
   "source": [
    "from scipy.special import logsumexp\n",
    "import copy\n",
    "\n",
    "lambdas = np.linspace(-.99, .99, 100)\n",
    "lBs = []\n",
    "    \n",
    "# For each value of lambda.\n",
    "for l in lambdas:\n",
    "    \n",
    "    # Generate the data.\n",
    "    cov = np.array([\n",
    "        [1, l],\n",
    "        [l, 1]\n",
    "    ])\n",
    "    X = np.random.multivariate_normal(np.zeros(2), cov, size=1000)\n",
    "    X = torch.from_numpy(X).float()\n",
    "    \n",
    "    # Fit both models\n",
    "    normal_diag = beer.NormalDiagonalCovariance.create(torch.zeros(2), torch.eye(2), prior_count=1e-3)\n",
    "    beer.train_loglinear_model(normal_diag, X)\n",
    "    normal = beer.NormalFullCovariance.create(torch.zeros(2), torch.eye(2), prior_count=1e-3)\n",
    "    beer.train_loglinear_model(normal, X)\n",
    "    \n",
    "    # Compute the log Bayes factor.\n",
    "    llh_M1 = normal.posterior.log_norm - normal.prior.log_norm\n",
    "    llh_M2 = normal_diag.posterior.log_norm - normal_diag.prior.log_norm\n",
    "    lBs.append((llh_M1 - llh_M2))\n",
    "    \n",
    "lBs = np.array(lBs)\n",
    "fig1 = figure(\n",
    "    title='Model Comparison',\n",
    "    x_axis_label='λ',\n",
    "    y_axis_label='log Bayes factor',\n",
    "    width=400,\n",
    "    height=400\n",
    ")\n",
    "fig1.line(lambdas, lBs)\n",
    "\n",
    "show(fig1)"
   ]
  },
  {
   "cell_type": "code",
   "execution_count": 8,
   "metadata": {},
   "outputs": [
    {
     "data": {
      "text/plain": [
       "array([-0.86515736, -1.05361082])"
      ]
     },
     "execution_count": 8,
     "metadata": {},
     "output_type": "execute_result"
    }
   ],
   "source": [
    "np.random.multivariate_normal(np.zeros(2), np.array([[2., 1.], [1., 2]]))"
   ]
  },
  {
   "cell_type": "code",
   "execution_count": 9,
   "metadata": {},
   "outputs": [
    {
     "data": {
      "text/plain": [
       "(array([1., 3.]), array([[-0.70710678,  0.70710678],\n",
       "        [ 0.70710678,  0.70710678]]))"
      ]
     },
     "execution_count": 9,
     "metadata": {},
     "output_type": "execute_result"
    }
   ],
   "source": [
    "cov = np.array([[2., 1.], [1., 2]])\n",
    "np.linalg.eigh(cov)"
   ]
  }
 ],
 "metadata": {
  "kernelspec": {
   "display_name": "Python 3",
   "language": "python",
   "name": "python3"
  },
  "language_info": {
   "codemirror_mode": {
    "name": "ipython",
    "version": 3
   },
   "file_extension": ".py",
   "mimetype": "text/x-python",
   "name": "python",
   "nbconvert_exporter": "python",
   "pygments_lexer": "ipython3",
   "version": "3.6.4"
  }
 },
 "nbformat": 4,
 "nbformat_minor": 2
}
