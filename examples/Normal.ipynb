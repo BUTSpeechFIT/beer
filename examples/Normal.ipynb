{
 "cells": [
  {
   "cell_type": "markdown",
   "metadata": {},
   "source": [
    "# Bayesian Model\n",
    "\n",
    "This notebook illustrate how to use a Bayesian Normal density model with the [beer framework](https://github.com/beer-asr/beer). The Normal distribution is a fairly basic models but it is used extenslively in other model as a basic building block."
   ]
  },
  {
   "cell_type": "code",
   "execution_count": 1,
   "metadata": {},
   "outputs": [
    {
     "data": {
      "text/html": [
       "\n",
       "    <div class=\"bk-root\">\n",
       "        <a href=\"https://bokeh.pydata.org\" target=\"_blank\" class=\"bk-logo bk-logo-small bk-logo-notebook\"></a>\n",
       "        <span id=\"1001\">Loading BokehJS ...</span>\n",
       "    </div>"
      ]
     },
     "metadata": {},
     "output_type": "display_data"
    },
    {
     "data": {
      "application/javascript": [
       "\n",
       "(function(root) {\n",
       "  function now() {\n",
       "    return new Date();\n",
       "  }\n",
       "\n",
       "  var force = true;\n",
       "\n",
       "  if (typeof (root._bokeh_onload_callbacks) === \"undefined\" || force === true) {\n",
       "    root._bokeh_onload_callbacks = [];\n",
       "    root._bokeh_is_loading = undefined;\n",
       "  }\n",
       "\n",
       "  var JS_MIME_TYPE = 'application/javascript';\n",
       "  var HTML_MIME_TYPE = 'text/html';\n",
       "  var EXEC_MIME_TYPE = 'application/vnd.bokehjs_exec.v0+json';\n",
       "  var CLASS_NAME = 'output_bokeh rendered_html';\n",
       "\n",
       "  /**\n",
       "   * Render data to the DOM node\n",
       "   */\n",
       "  function render(props, node) {\n",
       "    var script = document.createElement(\"script\");\n",
       "    node.appendChild(script);\n",
       "  }\n",
       "\n",
       "  /**\n",
       "   * Handle when an output is cleared or removed\n",
       "   */\n",
       "  function handleClearOutput(event, handle) {\n",
       "    var cell = handle.cell;\n",
       "\n",
       "    var id = cell.output_area._bokeh_element_id;\n",
       "    var server_id = cell.output_area._bokeh_server_id;\n",
       "    // Clean up Bokeh references\n",
       "    if (id != null && id in Bokeh.index) {\n",
       "      Bokeh.index[id].model.document.clear();\n",
       "      delete Bokeh.index[id];\n",
       "    }\n",
       "\n",
       "    if (server_id !== undefined) {\n",
       "      // Clean up Bokeh references\n",
       "      var cmd = \"from bokeh.io.state import curstate; print(curstate().uuid_to_server['\" + server_id + \"'].get_sessions()[0].document.roots[0]._id)\";\n",
       "      cell.notebook.kernel.execute(cmd, {\n",
       "        iopub: {\n",
       "          output: function(msg) {\n",
       "            var id = msg.content.text.trim();\n",
       "            if (id in Bokeh.index) {\n",
       "              Bokeh.index[id].model.document.clear();\n",
       "              delete Bokeh.index[id];\n",
       "            }\n",
       "          }\n",
       "        }\n",
       "      });\n",
       "      // Destroy server and session\n",
       "      var cmd = \"import bokeh.io.notebook as ion; ion.destroy_server('\" + server_id + \"')\";\n",
       "      cell.notebook.kernel.execute(cmd);\n",
       "    }\n",
       "  }\n",
       "\n",
       "  /**\n",
       "   * Handle when a new output is added\n",
       "   */\n",
       "  function handleAddOutput(event, handle) {\n",
       "    var output_area = handle.output_area;\n",
       "    var output = handle.output;\n",
       "\n",
       "    // limit handleAddOutput to display_data with EXEC_MIME_TYPE content only\n",
       "    if ((output.output_type != \"display_data\") || (!output.data.hasOwnProperty(EXEC_MIME_TYPE))) {\n",
       "      return\n",
       "    }\n",
       "\n",
       "    var toinsert = output_area.element.find(\".\" + CLASS_NAME.split(' ')[0]);\n",
       "\n",
       "    if (output.metadata[EXEC_MIME_TYPE][\"id\"] !== undefined) {\n",
       "      toinsert[toinsert.length - 1].firstChild.textContent = output.data[JS_MIME_TYPE];\n",
       "      // store reference to embed id on output_area\n",
       "      output_area._bokeh_element_id = output.metadata[EXEC_MIME_TYPE][\"id\"];\n",
       "    }\n",
       "    if (output.metadata[EXEC_MIME_TYPE][\"server_id\"] !== undefined) {\n",
       "      var bk_div = document.createElement(\"div\");\n",
       "      bk_div.innerHTML = output.data[HTML_MIME_TYPE];\n",
       "      var script_attrs = bk_div.children[0].attributes;\n",
       "      for (var i = 0; i < script_attrs.length; i++) {\n",
       "        toinsert[toinsert.length - 1].firstChild.setAttribute(script_attrs[i].name, script_attrs[i].value);\n",
       "      }\n",
       "      // store reference to server id on output_area\n",
       "      output_area._bokeh_server_id = output.metadata[EXEC_MIME_TYPE][\"server_id\"];\n",
       "    }\n",
       "  }\n",
       "\n",
       "  function register_renderer(events, OutputArea) {\n",
       "\n",
       "    function append_mime(data, metadata, element) {\n",
       "      // create a DOM node to render to\n",
       "      var toinsert = this.create_output_subarea(\n",
       "        metadata,\n",
       "        CLASS_NAME,\n",
       "        EXEC_MIME_TYPE\n",
       "      );\n",
       "      this.keyboard_manager.register_events(toinsert);\n",
       "      // Render to node\n",
       "      var props = {data: data, metadata: metadata[EXEC_MIME_TYPE]};\n",
       "      render(props, toinsert[toinsert.length - 1]);\n",
       "      element.append(toinsert);\n",
       "      return toinsert\n",
       "    }\n",
       "\n",
       "    /* Handle when an output is cleared or removed */\n",
       "    events.on('clear_output.CodeCell', handleClearOutput);\n",
       "    events.on('delete.Cell', handleClearOutput);\n",
       "\n",
       "    /* Handle when a new output is added */\n",
       "    events.on('output_added.OutputArea', handleAddOutput);\n",
       "\n",
       "    /**\n",
       "     * Register the mime type and append_mime function with output_area\n",
       "     */\n",
       "    OutputArea.prototype.register_mime_type(EXEC_MIME_TYPE, append_mime, {\n",
       "      /* Is output safe? */\n",
       "      safe: true,\n",
       "      /* Index of renderer in `output_area.display_order` */\n",
       "      index: 0\n",
       "    });\n",
       "  }\n",
       "\n",
       "  // register the mime type if in Jupyter Notebook environment and previously unregistered\n",
       "  if (root.Jupyter !== undefined) {\n",
       "    var events = require('base/js/events');\n",
       "    var OutputArea = require('notebook/js/outputarea').OutputArea;\n",
       "\n",
       "    if (OutputArea.prototype.mime_types().indexOf(EXEC_MIME_TYPE) == -1) {\n",
       "      register_renderer(events, OutputArea);\n",
       "    }\n",
       "  }\n",
       "\n",
       "  \n",
       "  if (typeof (root._bokeh_timeout) === \"undefined\" || force === true) {\n",
       "    root._bokeh_timeout = Date.now() + 5000;\n",
       "    root._bokeh_failed_load = false;\n",
       "  }\n",
       "\n",
       "  var NB_LOAD_WARNING = {'data': {'text/html':\n",
       "     \"<div style='background-color: #fdd'>\\n\"+\n",
       "     \"<p>\\n\"+\n",
       "     \"BokehJS does not appear to have successfully loaded. If loading BokehJS from CDN, this \\n\"+\n",
       "     \"may be due to a slow or bad network connection. Possible fixes:\\n\"+\n",
       "     \"</p>\\n\"+\n",
       "     \"<ul>\\n\"+\n",
       "     \"<li>re-rerun `output_notebook()` to attempt to load from CDN again, or</li>\\n\"+\n",
       "     \"<li>use INLINE resources instead, as so:</li>\\n\"+\n",
       "     \"</ul>\\n\"+\n",
       "     \"<code>\\n\"+\n",
       "     \"from bokeh.resources import INLINE\\n\"+\n",
       "     \"output_notebook(resources=INLINE)\\n\"+\n",
       "     \"</code>\\n\"+\n",
       "     \"</div>\"}};\n",
       "\n",
       "  function display_loaded() {\n",
       "    var el = document.getElementById(\"1001\");\n",
       "    if (el != null) {\n",
       "      el.textContent = \"BokehJS is loading...\";\n",
       "    }\n",
       "    if (root.Bokeh !== undefined) {\n",
       "      if (el != null) {\n",
       "        el.textContent = \"BokehJS \" + root.Bokeh.version + \" successfully loaded.\";\n",
       "      }\n",
       "    } else if (Date.now() < root._bokeh_timeout) {\n",
       "      setTimeout(display_loaded, 100)\n",
       "    }\n",
       "  }\n",
       "\n",
       "\n",
       "  function run_callbacks() {\n",
       "    try {\n",
       "      root._bokeh_onload_callbacks.forEach(function(callback) { callback() });\n",
       "    }\n",
       "    finally {\n",
       "      delete root._bokeh_onload_callbacks\n",
       "    }\n",
       "    console.info(\"Bokeh: all callbacks have finished\");\n",
       "  }\n",
       "\n",
       "  function load_libs(js_urls, callback) {\n",
       "    root._bokeh_onload_callbacks.push(callback);\n",
       "    if (root._bokeh_is_loading > 0) {\n",
       "      console.log(\"Bokeh: BokehJS is being loaded, scheduling callback at\", now());\n",
       "      return null;\n",
       "    }\n",
       "    if (js_urls == null || js_urls.length === 0) {\n",
       "      run_callbacks();\n",
       "      return null;\n",
       "    }\n",
       "    console.log(\"Bokeh: BokehJS not loaded, scheduling load and callback at\", now());\n",
       "    root._bokeh_is_loading = js_urls.length;\n",
       "    for (var i = 0; i < js_urls.length; i++) {\n",
       "      var url = js_urls[i];\n",
       "      var s = document.createElement('script');\n",
       "      s.src = url;\n",
       "      s.async = false;\n",
       "      s.onreadystatechange = s.onload = function() {\n",
       "        root._bokeh_is_loading--;\n",
       "        if (root._bokeh_is_loading === 0) {\n",
       "          console.log(\"Bokeh: all BokehJS libraries loaded\");\n",
       "          run_callbacks()\n",
       "        }\n",
       "      };\n",
       "      s.onerror = function() {\n",
       "        console.warn(\"failed to load library \" + url);\n",
       "      };\n",
       "      console.log(\"Bokeh: injecting script tag for BokehJS library: \", url);\n",
       "      document.getElementsByTagName(\"head\")[0].appendChild(s);\n",
       "    }\n",
       "  };var element = document.getElementById(\"1001\");\n",
       "  if (element == null) {\n",
       "    console.log(\"Bokeh: ERROR: autoload.js configured with elementid '1001' but no matching script tag was found. \")\n",
       "    return false;\n",
       "  }\n",
       "\n",
       "  var js_urls = [\"https://cdn.pydata.org/bokeh/release/bokeh-1.0.0.min.js\", \"https://cdn.pydata.org/bokeh/release/bokeh-widgets-1.0.0.min.js\", \"https://cdn.pydata.org/bokeh/release/bokeh-tables-1.0.0.min.js\", \"https://cdn.pydata.org/bokeh/release/bokeh-gl-1.0.0.min.js\"];\n",
       "\n",
       "  var inline_js = [\n",
       "    function(Bokeh) {\n",
       "      Bokeh.set_log_level(\"info\");\n",
       "    },\n",
       "    \n",
       "    function(Bokeh) {\n",
       "      \n",
       "    },\n",
       "    function(Bokeh) {\n",
       "      console.log(\"Bokeh: injecting CSS: https://cdn.pydata.org/bokeh/release/bokeh-1.0.0.min.css\");\n",
       "      Bokeh.embed.inject_css(\"https://cdn.pydata.org/bokeh/release/bokeh-1.0.0.min.css\");\n",
       "      console.log(\"Bokeh: injecting CSS: https://cdn.pydata.org/bokeh/release/bokeh-widgets-1.0.0.min.css\");\n",
       "      Bokeh.embed.inject_css(\"https://cdn.pydata.org/bokeh/release/bokeh-widgets-1.0.0.min.css\");\n",
       "      console.log(\"Bokeh: injecting CSS: https://cdn.pydata.org/bokeh/release/bokeh-tables-1.0.0.min.css\");\n",
       "      Bokeh.embed.inject_css(\"https://cdn.pydata.org/bokeh/release/bokeh-tables-1.0.0.min.css\");\n",
       "    }\n",
       "  ];\n",
       "\n",
       "  function run_inline_js() {\n",
       "    \n",
       "    if ((root.Bokeh !== undefined) || (force === true)) {\n",
       "      for (var i = 0; i < inline_js.length; i++) {\n",
       "        inline_js[i].call(root, root.Bokeh);\n",
       "      }if (force === true) {\n",
       "        display_loaded();\n",
       "      }} else if (Date.now() < root._bokeh_timeout) {\n",
       "      setTimeout(run_inline_js, 100);\n",
       "    } else if (!root._bokeh_failed_load) {\n",
       "      console.log(\"Bokeh: BokehJS failed to load within specified timeout.\");\n",
       "      root._bokeh_failed_load = true;\n",
       "    } else if (force !== true) {\n",
       "      var cell = $(document.getElementById(\"1001\")).parents('.cell').data().cell;\n",
       "      cell.output_area.append_execute_result(NB_LOAD_WARNING)\n",
       "    }\n",
       "\n",
       "  }\n",
       "\n",
       "  if (root._bokeh_is_loading === 0) {\n",
       "    console.log(\"Bokeh: BokehJS loaded, going straight to plotting\");\n",
       "    run_inline_js();\n",
       "  } else {\n",
       "    load_libs(js_urls, function() {\n",
       "      console.log(\"Bokeh: BokehJS plotting callback run at\", now());\n",
       "      run_inline_js();\n",
       "    });\n",
       "  }\n",
       "}(window));"
      ],
      "application/vnd.bokehjs_load.v0+json": "\n(function(root) {\n  function now() {\n    return new Date();\n  }\n\n  var force = true;\n\n  if (typeof (root._bokeh_onload_callbacks) === \"undefined\" || force === true) {\n    root._bokeh_onload_callbacks = [];\n    root._bokeh_is_loading = undefined;\n  }\n\n  \n\n  \n  if (typeof (root._bokeh_timeout) === \"undefined\" || force === true) {\n    root._bokeh_timeout = Date.now() + 5000;\n    root._bokeh_failed_load = false;\n  }\n\n  var NB_LOAD_WARNING = {'data': {'text/html':\n     \"<div style='background-color: #fdd'>\\n\"+\n     \"<p>\\n\"+\n     \"BokehJS does not appear to have successfully loaded. If loading BokehJS from CDN, this \\n\"+\n     \"may be due to a slow or bad network connection. Possible fixes:\\n\"+\n     \"</p>\\n\"+\n     \"<ul>\\n\"+\n     \"<li>re-rerun `output_notebook()` to attempt to load from CDN again, or</li>\\n\"+\n     \"<li>use INLINE resources instead, as so:</li>\\n\"+\n     \"</ul>\\n\"+\n     \"<code>\\n\"+\n     \"from bokeh.resources import INLINE\\n\"+\n     \"output_notebook(resources=INLINE)\\n\"+\n     \"</code>\\n\"+\n     \"</div>\"}};\n\n  function display_loaded() {\n    var el = document.getElementById(\"1001\");\n    if (el != null) {\n      el.textContent = \"BokehJS is loading...\";\n    }\n    if (root.Bokeh !== undefined) {\n      if (el != null) {\n        el.textContent = \"BokehJS \" + root.Bokeh.version + \" successfully loaded.\";\n      }\n    } else if (Date.now() < root._bokeh_timeout) {\n      setTimeout(display_loaded, 100)\n    }\n  }\n\n\n  function run_callbacks() {\n    try {\n      root._bokeh_onload_callbacks.forEach(function(callback) { callback() });\n    }\n    finally {\n      delete root._bokeh_onload_callbacks\n    }\n    console.info(\"Bokeh: all callbacks have finished\");\n  }\n\n  function load_libs(js_urls, callback) {\n    root._bokeh_onload_callbacks.push(callback);\n    if (root._bokeh_is_loading > 0) {\n      console.log(\"Bokeh: BokehJS is being loaded, scheduling callback at\", now());\n      return null;\n    }\n    if (js_urls == null || js_urls.length === 0) {\n      run_callbacks();\n      return null;\n    }\n    console.log(\"Bokeh: BokehJS not loaded, scheduling load and callback at\", now());\n    root._bokeh_is_loading = js_urls.length;\n    for (var i = 0; i < js_urls.length; i++) {\n      var url = js_urls[i];\n      var s = document.createElement('script');\n      s.src = url;\n      s.async = false;\n      s.onreadystatechange = s.onload = function() {\n        root._bokeh_is_loading--;\n        if (root._bokeh_is_loading === 0) {\n          console.log(\"Bokeh: all BokehJS libraries loaded\");\n          run_callbacks()\n        }\n      };\n      s.onerror = function() {\n        console.warn(\"failed to load library \" + url);\n      };\n      console.log(\"Bokeh: injecting script tag for BokehJS library: \", url);\n      document.getElementsByTagName(\"head\")[0].appendChild(s);\n    }\n  };var element = document.getElementById(\"1001\");\n  if (element == null) {\n    console.log(\"Bokeh: ERROR: autoload.js configured with elementid '1001' but no matching script tag was found. \")\n    return false;\n  }\n\n  var js_urls = [\"https://cdn.pydata.org/bokeh/release/bokeh-1.0.0.min.js\", \"https://cdn.pydata.org/bokeh/release/bokeh-widgets-1.0.0.min.js\", \"https://cdn.pydata.org/bokeh/release/bokeh-tables-1.0.0.min.js\", \"https://cdn.pydata.org/bokeh/release/bokeh-gl-1.0.0.min.js\"];\n\n  var inline_js = [\n    function(Bokeh) {\n      Bokeh.set_log_level(\"info\");\n    },\n    \n    function(Bokeh) {\n      \n    },\n    function(Bokeh) {\n      console.log(\"Bokeh: injecting CSS: https://cdn.pydata.org/bokeh/release/bokeh-1.0.0.min.css\");\n      Bokeh.embed.inject_css(\"https://cdn.pydata.org/bokeh/release/bokeh-1.0.0.min.css\");\n      console.log(\"Bokeh: injecting CSS: https://cdn.pydata.org/bokeh/release/bokeh-widgets-1.0.0.min.css\");\n      Bokeh.embed.inject_css(\"https://cdn.pydata.org/bokeh/release/bokeh-widgets-1.0.0.min.css\");\n      console.log(\"Bokeh: injecting CSS: https://cdn.pydata.org/bokeh/release/bokeh-tables-1.0.0.min.css\");\n      Bokeh.embed.inject_css(\"https://cdn.pydata.org/bokeh/release/bokeh-tables-1.0.0.min.css\");\n    }\n  ];\n\n  function run_inline_js() {\n    \n    if ((root.Bokeh !== undefined) || (force === true)) {\n      for (var i = 0; i < inline_js.length; i++) {\n        inline_js[i].call(root, root.Bokeh);\n      }if (force === true) {\n        display_loaded();\n      }} else if (Date.now() < root._bokeh_timeout) {\n      setTimeout(run_inline_js, 100);\n    } else if (!root._bokeh_failed_load) {\n      console.log(\"Bokeh: BokehJS failed to load within specified timeout.\");\n      root._bokeh_failed_load = true;\n    } else if (force !== true) {\n      var cell = $(document.getElementById(\"1001\")).parents('.cell').data().cell;\n      cell.output_area.append_execute_result(NB_LOAD_WARNING)\n    }\n\n  }\n\n  if (root._bokeh_is_loading === 0) {\n    console.log(\"Bokeh: BokehJS loaded, going straight to plotting\");\n    run_inline_js();\n  } else {\n    load_libs(js_urls, function() {\n      console.log(\"Bokeh: BokehJS plotting callback run at\", now());\n      run_inline_js();\n    });\n  }\n}(window));"
     },
     "metadata": {},
     "output_type": "display_data"
    }
   ],
   "source": [
    "# Add \"beer\" to the PYTHONPATH\n",
    "import random\n",
    "from collections import defaultdict\n",
    "import sys\n",
    "sys.path.insert(0, '../')\n",
    "\n",
    "\n",
    "import beer\n",
    "import numpy as np\n",
    "import torch\n",
    "\n",
    "# For plotting.\n",
    "from bokeh.io import show, output_notebook\n",
    "from bokeh.plotting import figure, gridplot\n",
    "output_notebook()\n",
    "\n",
    "# Convenience functions for plotting.\n",
    "import plotting\n",
    "\n",
    "%load_ext autoreload\n",
    "%autoreload 2"
   ]
  },
  {
   "cell_type": "markdown",
   "metadata": {},
   "source": [
    "## Data\n",
    "\n",
    "Generate some normally distributed data:"
   ]
  },
  {
   "cell_type": "code",
   "execution_count": 2,
   "metadata": {},
   "outputs": [
    {
     "data": {
      "text/html": [
       "\n",
       "\n",
       "\n",
       "\n",
       "\n",
       "\n",
       "  <div class=\"bk-root\" id=\"4c632e9b-5167-400a-9eee-e7b352e66974\"></div>\n"
      ]
     },
     "metadata": {},
     "output_type": "display_data"
    },
    {
     "data": {
      "application/javascript": [
       "(function(root) {\n",
       "  function embed_document(root) {\n",
       "    \n",
       "  var docs_json = {\"712c3ec4-82bc-4ae6-a9ce-482c15b50940\":{\"roots\":{\"references\":[{\"attributes\":{\"below\":[{\"id\":\"1013\",\"type\":\"LinearAxis\"}],\"left\":[{\"id\":\"1018\",\"type\":\"LinearAxis\"}],\"plot_height\":400,\"plot_width\":400,\"renderers\":[{\"id\":\"1013\",\"type\":\"LinearAxis\"},{\"id\":\"1017\",\"type\":\"Grid\"},{\"id\":\"1018\",\"type\":\"LinearAxis\"},{\"id\":\"1022\",\"type\":\"Grid\"},{\"id\":\"1031\",\"type\":\"BoxAnnotation\"},{\"id\":\"1041\",\"type\":\"GlyphRenderer\"},{\"id\":\"1046\",\"type\":\"GlyphRenderer\"},{\"id\":\"1051\",\"type\":\"GlyphRenderer\"}],\"title\":{\"id\":\"1002\",\"type\":\"Title\"},\"toolbar\":{\"id\":\"1029\",\"type\":\"Toolbar\"},\"x_range\":{\"id\":\"1005\",\"type\":\"Range1d\"},\"x_scale\":{\"id\":\"1009\",\"type\":\"LinearScale\"},\"y_range\":{\"id\":\"1007\",\"type\":\"Range1d\"},\"y_scale\":{\"id\":\"1011\",\"type\":\"LinearScale\"}},\"id\":\"1003\",\"subtype\":\"Figure\",\"type\":\"Plot\"},{\"attributes\":{\"data_source\":{\"id\":\"1048\",\"type\":\"ColumnDataSource\"},\"glyph\":{\"id\":\"1049\",\"type\":\"Patch\"},\"hover_glyph\":null,\"muted_glyph\":null,\"nonselection_glyph\":{\"id\":\"1050\",\"type\":\"Patch\"},\"selection_glyph\":null,\"view\":{\"id\":\"1052\",\"type\":\"CDSView\"}},\"id\":\"1051\",\"type\":\"GlyphRenderer\"},{\"attributes\":{},\"id\":\"1023\",\"type\":\"PanTool\"},{\"attributes\":{\"source\":{\"id\":\"1048\",\"type\":\"ColumnDataSource\"}},\"id\":\"1052\",\"type\":\"CDSView\"},{\"attributes\":{},\"id\":\"1024\",\"type\":\"WheelZoomTool\"},{\"attributes\":{},\"id\":\"1055\",\"type\":\"BasicTickFormatter\"},{\"attributes\":{\"overlay\":{\"id\":\"1031\",\"type\":\"BoxAnnotation\"}},\"id\":\"1025\",\"type\":\"BoxZoomTool\"},{\"attributes\":{},\"id\":\"1057\",\"type\":\"BasicTickFormatter\"},{\"attributes\":{\"callback\":null,\"data\":{\"x\":{\"__ndarray__\":\"1nEhetP137+IYzbKbJbdv+Ult/m+QOm/dhluoTDL9T9OMA01hmnpv0vGUDOvtPi/lfuY7x+k9r9ulgHdcvTmvwVuA/EvIRHAbjC1LK7B/L9lIrkizRrwP7Ye9MSxBf2/HTk/1w+AA8BR8yekANLkvwnliSAQ2du/Sj4/6HaL2L88c5D3PLT9P2wRX1NH0wjAf53/JPe9+78BBboUo2f1v8C8Oatzm/c/b0YWhOJe2r8CMB5xPVfzPwrFkYUk9vK/cGm80pHGqb9yxn3/JQu7P+ehDzGFswbAM+hVLu4B0r8BWoHkznEEQNmvClCK6ARAwk9cyi2D9r85C9enlN/nvxrQID3Ff+s/flvB5YuN77/HLWF2wecEQDMbw7y9gM4/bbWmV3s+6b/O2KJFqXXuP93/uLZS9gDAWH4Ax7pI6r+EXahQ8bXOPwgn+ZWuXvQ/toV/qjxx4j/RN8zUrfcBwLNrHB33h9y/wV0t4hQd+r+/DqUt2OvYv2TfyoC8VP6/zpPfLMtx978w4lCD0aOjP+OpeHb3w84/amjM2WCtBEAtSkzjmJTzP7NO8/ZdywBAXnhktPGh0T+plOlez4jtvwBwp5dv8Qk/eBDQqYsP4b9OR50nQanSv+ohqrJE2vE/FwB4BQ5rvD9BHw9GkSgDwGg3KxpFagLAxOOsL8u65r/28XtNJu74PwZX7y8pvvO/SqoVj8LLCkAqbESEZSKkvw6WI4N9tvu/IC7sM8W5kT/dZinZ3tf3v1pKM2Kqnty/dAN1tdy+7j9HkbHjx9f2P6JeWLLAMdM/1YpEHWwUAECWkh8hmk7oP47fiOovb9M/LxKU8s6b/r/G/KxB1urdv27QaYEnnwbAzN7xn/UE6T9n+h6iAiP6P5PwcTIIV+Y/TkaHyvew7L9nGMhBe3r6P8cdYh+6ubK/ZEZoYsLyy79CN1bJ86jfPyzx0bI5isc/ZOIdSZCP0D94BumszcPyv94acivEpfG/fM/4aIbgEMCiai3XbRbdv+5sviEYLgPAKAxVRfNv5b9c8acgq/X6vwLPuLmNKcO/3tv9rSqe4r8=\",\"dtype\":\"float64\",\"shape\":[100]},\"y\":{\"__ndarray__\":\"VGe9r1jH8L+GHeGO8NHbv1WrMVPTI/Q/Zvg4fTjd+D9kjuZuAP3uv5IdbUxOOeG/7tUtZrkl1L8SpTzIB0HYP3Ald9+K4gHAAU7KdeMo878wGO+f34iXv+ZfBNa/JPC/JuxPqC+N3L8Lrn/+i8fTPyKFQDPIf+y/WIJHowCPyj+V0i5GjpPtPwIbf10pePe/I3m04U7f2L9Umyksl1r0v70+bvZdiPE/v5qN2EQjur+wofbu6xHpP+Tjv/gpUQHAZiB6OllB9z89KQOx1xSnv2tBNMRaufO/MkZsevLc3T8Kpie0A4zuP0Af7Z9mg5q/ufWxM9wFAcDZ7QMZ2AjWv5bESWklocS/+L/OtygPrr/c642u+cTvP6yj/6g//ua/1KVKLAoa4r9hdwVTRT7XvzUOBLidfPC/pN7XaaqIwD8SQj2FOyXrP9rrWotbEOw/oMtPcHhdlz9wbPQYE9UDwKGYMkeE99G/sTtLK9rH7r+Z9Q+DuUznPwmX2VFPYO+/amobwR0G4z8W4DHQpe7iv2oiMqS5U+2/DH7+UpbEzT8YAT6gEVLtP9iN7X9opeg/LPDZnm7mvD/WAYZ9C2vbv7ToKJ/blNg/PMYztjikqz/8sYcK1ozmv/jd6zzC+9M/mlYjxRiHrT88kzT8DJvbv4xsuKLK2ve/HADKDm/nsj92FEkQKC3zP/DRvOmK1+m/18CP3Gi79T8Scx8Rmw3Fv367JnhbyeK/XOkT4Ap93z+rwGEPnnPRv+GnHEqMtME/hiCxccUc5j8ofTaQZdLrP1lpYqlUf8c/OOf7To19vr8ePcDnLmXpP/arQiPDY+I/sjmtOz0K0L/mKN4cnEW1vyzPK6Xo7fm/Fjh7mtTT8z9n9pc2sArtP0qy5Uxmy/2/eYTCGvER5D8Oe6R1y5f3Pz2Rafj1sNY/iOvx/5pk2T90gaAyQEjzP4p60iw8YL2/hE+L9OsU+b8cnPLJlLH2v0aZHr3NaOQ/KAHPYlrW/L8CUbb2cHHgvxCVPCWNfPy/UhVJNiDG7r8qLYkpITH6vwVS0dzsu9k/6V1FpdVB9b8=\",\"dtype\":\"float64\",\"shape\":[100]}},\"selected\":{\"id\":\"1058\",\"type\":\"Selection\"},\"selection_policy\":{\"id\":\"1059\",\"type\":\"UnionRenderers\"}},\"id\":\"1038\",\"type\":\"ColumnDataSource\"},{\"attributes\":{},\"id\":\"1026\",\"type\":\"SaveTool\"},{\"attributes\":{},\"id\":\"1058\",\"type\":\"Selection\"},{\"attributes\":{},\"id\":\"1027\",\"type\":\"ResetTool\"},{\"attributes\":{\"callback\":null,\"data\":{\"x\":{\"__ndarray__\":\"zTt/Zp6gBkD/aBeat5QGQEpH+7kPcQZAxDZRSMw1BkC/j9WcK+MFQECmRaOEeQVAnt/vf0b5BEBDCska+GIEQH71gZE3twNAdpMykbn2AkCHnkmYSCICQJ6yiCHEOgFAxu/suB9BAEDd6Pb2w2z+P3Rl/gVHN/w/aHu1fRvk+T/TJUl2s3X3PwkMrq6d7vQ/w3Xc24JR8j+F03m5RULvP5J+baujwOk/dhnXbeoj5D8TMwPBAuTcPxjbsFnMYdE/HshwxDM1tz/Yx3DEMzW3vwbbsFnMYdG/ATMDwQLk3L90Gddt6iPkv4l+baujwOm/fNN5uUVC77++ddzbglHyvwQMrq6d7vS/0SVJdrN1979le7V9G+T5v3Nl/gVHN/y/2ej29sNs/r/F7+y4H0EAwJyyiCHEOgHAhp5JmEgiAsBzkzKRufYCwH31gZE3twPAQgrJGvhiBMCd3+9/RvkEwECmRaOEeQXAvo/VnCvjBcDENlFIzDUGwElH+7kPcQbA/2gXmreUBsDNO39mnqAGwM07f2aeoAbA/2gXmreUBsBJR/u5D3EGwMQ2UUjMNQbAvo/VnCvjBcBApkWjhHkFwJ3f739G+QTAQgrJGvhiBMB99YGRN7cDwHOTMpG59gLAhp5JmEgiAsCcsoghxDoBwMXv7LgfQQDA2ej29sNs/r9zZf4FRzf8v2V7tX0b5Pm/0SVJdrN1978EDK6une70v7513NuCUfK/fNN5uUVC77+Jfm2ro8Dpv3QZ123qI+S/ATMDwQLk3L8G27BZzGHRv9jHcMQzNbe/HshwxDM1tz8Y27BZzGHRPxMzA8EC5Nw/dhnXbeoj5D+Sfm2ro8DpP4XTeblFQu8/w3Xc24JR8j8JDK6une70P9MlSXazdfc/aHu1fRvk+T90Zf4FRzf8P93o9vbDbP4/xu/suB9BAECesoghxDoBQIeeSZhIIgJAdpMykbn2AkB+9YGRN7cDQEMKyRr4YgRAnt/vf0b5BEBApkWjhHkFQL+P1Zwr4wVAxDZRSMw1BkBKR/u5D3EGQP9oF5q3lAZAzTt/Zp6gBkA=\",\"dtype\":\"float64\",\"shape\":[100]},\"y\":{\"__ndarray__\":\"m0Vf4fx+9T+/MUnsR9P2PxfR+xKQD/g/IBVMnogy+T/esFZ3/zr6P3RtfmneJ/s/CFMVRyz4+z/5x3zvDav8P5nnqDXHP/0/+pIUpru1/T+T/lUrbwz+PyCbppCGQ/4/egnV4cda/j9SKzyoGlL+P8AufwSIKf4/XYLvpDrh/T+Yy6aYfnn9P5gahP/A8vw/tIZgl49N/D/Q9fMmmIr7PzrpBsenqvo/up2xCqqu+T+xdYsHqJf4P/Bdzz7HZvc/ZIaaaEgd9j+EOooihrz0P4PDG4PzRfM/X+ZNkxq78T/WpB6wmh3wPzyaMqtN3uw/T/yAqgdj6T98+mrzDM3lPyfrIzMjIOI/sJ7rbVDA3D/KZwy2GyLVP0imBZBX28o/6OFMQG6stj8gXHFKWeugv8zBtatwx8O/2CBxPp6f0b8Ye5Qd+kjZv3GiNVfea+C/a/2bU/kh5L+kqzGL5sLnv51ppczUSuu/dMAXMg227r+3n7SEewDxv7ucYc4NlPK/uxWw6xQU9L+aRV/h/H71v5xFX+H8fvW/wTFJ7EfT9r8Z0fsSkA/4vyEVTJ6IMvm/4LBWd/86+r92bX5p3if7vwpTFUcs+Pu/+Md87w2r/L+a56g1xz/9v/qSFKa7tf2/kv5VK28M/r8gm6aQhkP+v3oJ1eHHWv6/Uis8qBpS/r/BLn8EiCn+v16C76Q64f2/mMummH55/b+WGoT/wPL8v7KGYJePTfy/zvXzJpiK+7846QbHp6r6v7qdsQqqrvm/r3WLB6iX+L/tXc8+x2b3v2KGmmhIHfa/gjqKIoa89L+AwxuD80Xzv13mTZMau/G/1qQesJod8L84mjKrTd7sv0v8gKoHY+m/ePpq8wzN5b8j6yMzIyDiv66e621QwNy/vGcMthsi1b88pgWQV9vKv7jhTEBurLa/UFxxSlnroD/kwbWrcMfDP+QgcT6en9E/KnuUHfpI2T92ojVX3mvgP279m1P5IeQ/qKsxi+bC5z+gaaXM1ErrP3zAFzINtu4/uJ+0hHsA8T+/nGHODZTyP70VsOsUFPQ/m0Vf4fx+9T8=\",\"dtype\":\"float64\",\"shape\":[100]}},\"selected\":{\"id\":\"1060\",\"type\":\"Selection\"},\"selection_policy\":{\"id\":\"1061\",\"type\":\"UnionRenderers\"}},\"id\":\"1043\",\"type\":\"ColumnDataSource\"},{\"attributes\":{},\"id\":\"1059\",\"type\":\"UnionRenderers\"},{\"attributes\":{},\"id\":\"1028\",\"type\":\"HelpTool\"},{\"attributes\":{\"plot\":{\"id\":\"1003\",\"subtype\":\"Figure\",\"type\":\"Plot\"},\"ticker\":{\"id\":\"1014\",\"type\":\"BasicTicker\"}},\"id\":\"1017\",\"type\":\"Grid\"},{\"attributes\":{},\"id\":\"1060\",\"type\":\"Selection\"},{\"attributes\":{\"active_drag\":\"auto\",\"active_inspect\":\"auto\",\"active_multi\":null,\"active_scroll\":\"auto\",\"active_tap\":\"auto\",\"tools\":[{\"id\":\"1023\",\"type\":\"PanTool\"},{\"id\":\"1024\",\"type\":\"WheelZoomTool\"},{\"id\":\"1025\",\"type\":\"BoxZoomTool\"},{\"id\":\"1026\",\"type\":\"SaveTool\"},{\"id\":\"1027\",\"type\":\"ResetTool\"},{\"id\":\"1028\",\"type\":\"HelpTool\"}]},\"id\":\"1029\",\"type\":\"Toolbar\"},{\"attributes\":{\"data_source\":{\"id\":\"1038\",\"type\":\"ColumnDataSource\"},\"glyph\":{\"id\":\"1039\",\"type\":\"Circle\"},\"hover_glyph\":null,\"muted_glyph\":null,\"nonselection_glyph\":{\"id\":\"1040\",\"type\":\"Circle\"},\"selection_glyph\":null,\"view\":{\"id\":\"1042\",\"type\":\"CDSView\"}},\"id\":\"1041\",\"type\":\"GlyphRenderer\"},{\"attributes\":{},\"id\":\"1061\",\"type\":\"UnionRenderers\"},{\"attributes\":{\"plot\":null,\"text\":\"Data\"},\"id\":\"1002\",\"type\":\"Title\"},{\"attributes\":{\"bottom_units\":\"screen\",\"fill_alpha\":{\"value\":0.5},\"fill_color\":{\"value\":\"lightgrey\"},\"left_units\":\"screen\",\"level\":\"overlay\",\"line_alpha\":{\"value\":1.0},\"line_color\":{\"value\":\"black\"},\"line_dash\":[4,4],\"line_width\":{\"value\":2},\"plot\":null,\"render_mode\":\"css\",\"right_units\":\"screen\",\"top_units\":\"screen\"},\"id\":\"1031\",\"type\":\"BoxAnnotation\"},{\"attributes\":{},\"id\":\"1062\",\"type\":\"Selection\"},{\"attributes\":{\"source\":{\"id\":\"1038\",\"type\":\"ColumnDataSource\"}},\"id\":\"1042\",\"type\":\"CDSView\"},{\"attributes\":{\"callback\":null,\"end\":5.0,\"start\":-5.0},\"id\":\"1005\",\"type\":\"Range1d\"},{\"attributes\":{},\"id\":\"1063\",\"type\":\"UnionRenderers\"},{\"attributes\":{\"callback\":null,\"end\":5.0,\"start\":-5.0},\"id\":\"1007\",\"type\":\"Range1d\"},{\"attributes\":{\"fill_alpha\":0.3,\"fill_color\":\"#1f77b4\",\"x\":{\"field\":\"x\"},\"y\":{\"field\":\"y\"}},\"id\":\"1044\",\"type\":\"Patch\"},{\"attributes\":{},\"id\":\"1009\",\"type\":\"LinearScale\"},{\"attributes\":{\"fill_alpha\":0.1,\"fill_color\":\"#1f77b4\",\"line_alpha\":0.1,\"line_color\":\"#1f77b4\",\"x\":{\"field\":\"x\"},\"y\":{\"field\":\"y\"}},\"id\":\"1045\",\"type\":\"Patch\"},{\"attributes\":{},\"id\":\"1011\",\"type\":\"LinearScale\"},{\"attributes\":{},\"id\":\"1014\",\"type\":\"BasicTicker\"},{\"attributes\":{\"data_source\":{\"id\":\"1043\",\"type\":\"ColumnDataSource\"},\"glyph\":{\"id\":\"1044\",\"type\":\"Patch\"},\"hover_glyph\":null,\"muted_glyph\":null,\"nonselection_glyph\":{\"id\":\"1045\",\"type\":\"Patch\"},\"selection_glyph\":null,\"view\":{\"id\":\"1047\",\"type\":\"CDSView\"}},\"id\":\"1046\",\"type\":\"GlyphRenderer\"},{\"attributes\":{\"formatter\":{\"id\":\"1057\",\"type\":\"BasicTickFormatter\"},\"plot\":{\"id\":\"1003\",\"subtype\":\"Figure\",\"type\":\"Plot\"},\"ticker\":{\"id\":\"1014\",\"type\":\"BasicTicker\"}},\"id\":\"1013\",\"type\":\"LinearAxis\"},{\"attributes\":{\"source\":{\"id\":\"1043\",\"type\":\"ColumnDataSource\"}},\"id\":\"1047\",\"type\":\"CDSView\"},{\"attributes\":{\"dimension\":1,\"plot\":{\"id\":\"1003\",\"subtype\":\"Figure\",\"type\":\"Plot\"},\"ticker\":{\"id\":\"1019\",\"type\":\"BasicTicker\"}},\"id\":\"1022\",\"type\":\"Grid\"},{\"attributes\":{\"callback\":null,\"data\":{\"x\":{\"__ndarray__\":\"zTt/Zp6g9j//aBeat5T2P0pH+7kPcfY/xDZRSMw19j+/j9WcK+P1P0CmRaOEefU/nt/vf0b59D9DCska+GL0P371gZE3t/M/dpMykbn28j+HnkmYSCLyP56yiCHEOvE/xu/suB9B8D/d6Pb2w2zuP3Rl/gVHN+w/aHu1fRvk6T/TJUl2s3XnPwkMrq6d7uQ/w3Xc24JR4j+F03m5RULfP5J+baujwNk/dhnXbeoj1D8TMwPBAuTMPxjbsFnMYcE/HshwxDM1pz/Yx3DEMzWnvwbbsFnMYcG/ATMDwQLkzL90Gddt6iPUv4l+baujwNm/fNN5uUVC37++ddzbglHivwQMrq6d7uS/0SVJdrN1579le7V9G+Tpv3Nl/gVHN+y/2ej29sNs7r/F7+y4H0Hwv5yyiCHEOvG/hp5JmEgi8r9zkzKRufbyv331gZE3t/O/QgrJGvhi9L+d3+9/Rvn0v0CmRaOEefW/vo/VnCvj9b/ENlFIzDX2v0lH+7kPcfa//2gXmreU9r/NO39mnqD2v807f2aeoPa//2gXmreU9r9JR/u5D3H2v8Q2UUjMNfa/vo/VnCvj9b9ApkWjhHn1v53f739G+fS/QgrJGvhi9L999YGRN7fzv3OTMpG59vK/hp5JmEgi8r+csoghxDrxv8Xv7LgfQfC/2ej29sNs7r9zZf4FRzfsv2V7tX0b5Om/0SVJdrN1578EDK6une7kv7513NuCUeK/fNN5uUVC37+Jfm2ro8DZv3QZ123qI9S/ATMDwQLkzL8G27BZzGHBv9jHcMQzNae/HshwxDM1pz8Y27BZzGHBPxMzA8EC5Mw/dhnXbeoj1D+Sfm2ro8DZP4XTeblFQt8/w3Xc24JR4j8JDK6une7kP9MlSXazdec/aHu1fRvk6T90Zf4FRzfsP93o9vbDbO4/xu/suB9B8D+esoghxDrxP4eeSZhIIvI/dpMykbn28j9+9YGRN7fzP0MKyRr4YvQ/nt/vf0b59D9ApkWjhHn1P7+P1Zwr4/U/xDZRSMw19j9KR/u5D3H2P/9oF5q3lPY/zTt/Zp6g9j8=\",\"dtype\":\"float64\",\"shape\":[100]},\"y\":{\"__ndarray__\":\"m0Vf4fx+5T+/MUnsR9PmPxfR+xKQD+g/IBVMnogy6T/esFZ3/zrqP3RtfmneJ+s/CFMVRyz46z/5x3zvDavsP5nnqDXHP+0/+pIUpru17T+T/lUrbwzuPyCbppCGQ+4/egnV4cda7j9SKzyoGlLuP8AufwSIKe4/XYLvpDrh7T+Yy6aYfnntP5gahP/A8uw/tIZgl49N7D/Q9fMmmIrrPzrpBsenquo/up2xCqqu6T+xdYsHqJfoP/Bdzz7HZuc/ZIaaaEgd5j+EOooihrzkP4PDG4PzReM/X+ZNkxq74T/WpB6wmh3gPzyaMqtN3tw/T/yAqgdj2T98+mrzDM3VPyfrIzMjINI/sJ7rbVDAzD/KZwy2GyLFP0imBZBX27o/6OFMQG6spj8gXHFKWeuQv8zBtatwx7O/2CBxPp6fwb8Ye5Qd+kjJv3GiNVfea9C/a/2bU/kh1L+kqzGL5sLXv51ppczUStu/dMAXMg223r+3n7SEewDhv7ucYc4NlOK/uxWw6xQU5L+aRV/h/H7lv5xFX+H8fuW/wTFJ7EfT5r8Z0fsSkA/ovyEVTJ6IMum/4LBWd/866r92bX5p3ifrvwpTFUcs+Ou/+Md87w2r7L+a56g1xz/tv/qSFKa7te2/kv5VK28M7r8gm6aQhkPuv3oJ1eHHWu6/Uis8qBpS7r/BLn8EiCnuv16C76Q64e2/mMummH557b+WGoT/wPLsv7KGYJePTey/zvXzJpiK67846QbHp6rqv7qdsQqqrum/r3WLB6iX6L/tXc8+x2bnv2KGmmhIHea/gjqKIoa85L+AwxuD80Xjv13mTZMau+G/1qQesJod4L84mjKrTd7cv0v8gKoHY9m/ePpq8wzN1b8j6yMzIyDSv66e621QwMy/vGcMthsixb88pgWQV9u6v7jhTEBurKa/UFxxSlnrkD/kwbWrcMezP+QgcT6en8E/KnuUHfpIyT92ojVX3mvQP279m1P5IdQ/qKsxi+bC1z+gaaXM1ErbP3zAFzINtt4/uJ+0hHsA4T+/nGHODZTiP70VsOsUFOQ/m0Vf4fx+5T8=\",\"dtype\":\"float64\",\"shape\":[100]}},\"selected\":{\"id\":\"1062\",\"type\":\"Selection\"},\"selection_policy\":{\"id\":\"1063\",\"type\":\"UnionRenderers\"}},\"id\":\"1048\",\"type\":\"ColumnDataSource\"},{\"attributes\":{},\"id\":\"1019\",\"type\":\"BasicTicker\"},{\"attributes\":{\"formatter\":{\"id\":\"1055\",\"type\":\"BasicTickFormatter\"},\"plot\":{\"id\":\"1003\",\"subtype\":\"Figure\",\"type\":\"Plot\"},\"ticker\":{\"id\":\"1019\",\"type\":\"BasicTicker\"}},\"id\":\"1018\",\"type\":\"LinearAxis\"},{\"attributes\":{\"fill_alpha\":0.3,\"fill_color\":\"#1f77b4\",\"x\":{\"field\":\"x\"},\"y\":{\"field\":\"y\"}},\"id\":\"1049\",\"type\":\"Patch\"},{\"attributes\":{\"fill_color\":{\"value\":\"#1f77b4\"},\"line_color\":{\"value\":\"#1f77b4\"},\"x\":{\"field\":\"x\"},\"y\":{\"field\":\"y\"}},\"id\":\"1039\",\"type\":\"Circle\"},{\"attributes\":{\"fill_alpha\":0.1,\"fill_color\":\"#1f77b4\",\"line_alpha\":0.1,\"line_color\":\"#1f77b4\",\"x\":{\"field\":\"x\"},\"y\":{\"field\":\"y\"}},\"id\":\"1050\",\"type\":\"Patch\"},{\"attributes\":{\"fill_alpha\":{\"value\":0.1},\"fill_color\":{\"value\":\"#1f77b4\"},\"line_alpha\":{\"value\":0.1},\"line_color\":{\"value\":\"#1f77b4\"},\"x\":{\"field\":\"x\"},\"y\":{\"field\":\"y\"}},\"id\":\"1040\",\"type\":\"Circle\"}],\"root_ids\":[\"1003\"]},\"title\":\"Bokeh Application\",\"version\":\"1.0.0\"}};\n",
       "  var render_items = [{\"docid\":\"712c3ec4-82bc-4ae6-a9ce-482c15b50940\",\"roots\":{\"1003\":\"4c632e9b-5167-400a-9eee-e7b352e66974\"}}];\n",
       "  root.Bokeh.embed.embed_items_notebook(docs_json, render_items);\n",
       "\n",
       "  }\n",
       "  if (root.Bokeh !== undefined) {\n",
       "    embed_document(root);\n",
       "  } else {\n",
       "    var attempts = 0;\n",
       "    var timer = setInterval(function(root) {\n",
       "      if (root.Bokeh !== undefined) {\n",
       "        embed_document(root);\n",
       "        clearInterval(timer);\n",
       "      }\n",
       "      attempts++;\n",
       "      if (attempts > 100) {\n",
       "        console.log(\"Bokeh: ERROR: Unable to run BokehJS code because BokehJS library is missing\");\n",
       "        clearInterval(timer);\n",
       "      }\n",
       "    }, 10, root)\n",
       "  }\n",
       "})(window);"
      ],
      "application/vnd.bokehjs_exec.v0+json": ""
     },
     "metadata": {
      "application/vnd.bokehjs_exec.v0+json": {
       "id": "1003"
      }
     },
     "output_type": "display_data"
    }
   ],
   "source": [
    "mean = np.zeros(2) \n",
    "cov = np.array([\n",
    "    [2, .95],\n",
    "    [.95, .9]\n",
    "])\n",
    "data = np.random.multivariate_normal(mean, cov, size=100)\n",
    "\n",
    "fig = figure(\n",
    "    title='Data',\n",
    "    width=400,\n",
    "    height=400,\n",
    "    x_range=(mean[0] - 5, mean[0] + 5),\n",
    "    y_range=(mean[1] - 5, mean[1] + 5)\n",
    ")\n",
    "fig.circle(data[:, 0], data[:, 1])\n",
    "plotting.plot_normal(fig, mean, cov, line_color='black', fill_alpha=.3)\n",
    "\n",
    "show(fig)"
   ]
  },
  {
   "cell_type": "markdown",
   "metadata": {},
   "source": [
    "## Model Creation\n",
    "\n",
    "We create two types of Normal distribution: one diagonal covariance matrix and another one with full covariance matrix."
   ]
  },
  {
   "cell_type": "code",
   "execution_count": 3,
   "metadata": {},
   "outputs": [
    {
     "data": {
      "text/plain": [
       "Normal(\n",
       "  (mean_precision): ConjugateBayesianParameter(prior=NormalGamma, posterior=NormalGamma)\n",
       ")"
      ]
     },
     "execution_count": 3,
     "metadata": {},
     "output_type": "execute_result"
    }
   ],
   "source": [
    "data_mean = torch.zeros(2) \n",
    "data_var = torch.ones(2)\n",
    "\n",
    "normal_iso = beer.Normal.create(data_mean, data_var, 1., cov_type='isotropic')\n",
    "normal_diag = beer.Normal.create(data_mean, data_var, 1., cov_type='diagonal')\n",
    "normal_full = beer.Normal.create(data_mean, data_var, 1., cov_type='full')\n",
    "\n",
    "models = {\n",
    "    'normal_full': normal_full,\n",
    "    'normal_diag': normal_diag,\n",
    "    'normal_iso': normal_iso\n",
    "}\n",
    "models['normal_diag']"
   ]
  },
  {
   "cell_type": "code",
   "execution_count": 4,
   "metadata": {},
   "outputs": [
    {
     "data": {
      "text/plain": [
       "NormalGamma(\n",
       "  (params): NormalGammaStdParams(mean=tensor([0., 0.]), scale=tensor(1.), shape=tensor(1.), rates=tensor([1., 1.]))\n",
       ")"
      ]
     },
     "execution_count": 4,
     "metadata": {},
     "output_type": "execute_result"
    }
   ],
   "source": [
    "model = models['normal_diag']\n",
    "model.mean_precision.prior"
   ]
  },
  {
   "cell_type": "code",
   "execution_count": 5,
   "metadata": {},
   "outputs": [
    {
     "data": {
      "text/plain": [
       "torch.Size([2])"
      ]
     },
     "execution_count": 5,
     "metadata": {},
     "output_type": "execute_result"
    }
   ],
   "source": [
    "model.mean_precision.posterior.params.mean.shape"
   ]
  },
  {
   "cell_type": "markdown",
   "metadata": {},
   "source": [
    "## Variational Bayes Training "
   ]
  },
  {
   "cell_type": "code",
   "execution_count": 6,
   "metadata": {},
   "outputs": [
    {
     "data": {
      "text/plain": [
       "torch.Size([1, 100, 2])"
      ]
     },
     "execution_count": 6,
     "metadata": {},
     "output_type": "execute_result"
    }
   ],
   "source": [
    "nbatches = 1\n",
    "X = torch.from_numpy(data).float()\n",
    "batches = X.view(nbatches, -1, 2)\n",
    "batches.shape"
   ]
  },
  {
   "cell_type": "code",
   "execution_count": 7,
   "metadata": {
    "scrolled": false
   },
   "outputs": [],
   "source": [
    "epochs = 10\n",
    "lrate = 1.\n",
    "\n",
    "\n",
    "optims = {\n",
    "    model_name: beer.VariationalBayesOptimizer(\n",
    "        model.mean_field_factorization(), lrate)\n",
    "    for model_name, model in models.items()\n",
    "}\n",
    "\n",
    "elbos = {\n",
    "    model_name: [] \n",
    "    for model_name in models\n",
    "}  \n",
    "\n",
    "\n",
    "for epoch in range(epochs):\n",
    "    for name, model in models.items():\n",
    "        batch_ids = list(range(len(batches)))\n",
    "        random.shuffle(batch_ids)\n",
    "        for batch_id in batch_ids:\n",
    "            batch = batches[batch_id]\n",
    "            \n",
    "            optim = optims[name]\n",
    "\n",
    "            optim.init_step()\n",
    "            elbo = beer.evidence_lower_bound(model, batch, datasize=len(X))\n",
    "            elbo.backward()\n",
    "            optim.step()\n",
    "            \n",
    "            elbo = beer.evidence_lower_bound(model, X)\n",
    "            elbos[name].append(float(elbo) / len(X))  "
   ]
  },
  {
   "cell_type": "code",
   "execution_count": 8,
   "metadata": {
    "scrolled": false
   },
   "outputs": [
    {
     "data": {
      "text/html": [
       "\n",
       "\n",
       "\n",
       "\n",
       "\n",
       "\n",
       "  <div class=\"bk-root\" id=\"4dc76c77-d46d-4663-ae9c-49879962c6b3\"></div>\n"
      ]
     },
     "metadata": {},
     "output_type": "display_data"
    },
    {
     "data": {
      "application/javascript": [
       "(function(root) {\n",
       "  function embed_document(root) {\n",
       "    \n",
       "  var docs_json = {\"ab735d1b-4f41-46e4-9c92-21be3dca4fcf\":{\"roots\":{\"references\":[{\"attributes\":{\"below\":[{\"id\":\"1148\",\"type\":\"LinearAxis\"}],\"left\":[{\"id\":\"1153\",\"type\":\"LinearAxis\"}],\"plot_height\":400,\"plot_width\":400,\"renderers\":[{\"id\":\"1148\",\"type\":\"LinearAxis\"},{\"id\":\"1152\",\"type\":\"Grid\"},{\"id\":\"1153\",\"type\":\"LinearAxis\"},{\"id\":\"1157\",\"type\":\"Grid\"},{\"id\":\"1166\",\"type\":\"BoxAnnotation\"},{\"id\":\"1184\",\"type\":\"Legend\"},{\"id\":\"1176\",\"type\":\"GlyphRenderer\"},{\"id\":\"1189\",\"type\":\"GlyphRenderer\"},{\"id\":\"1203\",\"type\":\"GlyphRenderer\"}],\"title\":{\"id\":\"1137\",\"type\":\"Title\"},\"toolbar\":{\"id\":\"1164\",\"type\":\"Toolbar\"},\"x_range\":{\"id\":\"1140\",\"type\":\"DataRange1d\"},\"x_scale\":{\"id\":\"1144\",\"type\":\"LinearScale\"},\"y_range\":{\"id\":\"1142\",\"type\":\"DataRange1d\"},\"y_scale\":{\"id\":\"1146\",\"type\":\"LinearScale\"}},\"id\":\"1138\",\"subtype\":\"Figure\",\"type\":\"Plot\"},{\"attributes\":{},\"id\":\"1238\",\"type\":\"UnionRenderers\"},{\"attributes\":{},\"id\":\"1161\",\"type\":\"SaveTool\"},{\"attributes\":{},\"id\":\"1180\",\"type\":\"BasicTickFormatter\"},{\"attributes\":{},\"id\":\"1182\",\"type\":\"BasicTickFormatter\"},{\"attributes\":{\"data_source\":{\"id\":\"1186\",\"type\":\"ColumnDataSource\"},\"glyph\":{\"id\":\"1187\",\"type\":\"Line\"},\"hover_glyph\":null,\"muted_glyph\":null,\"nonselection_glyph\":{\"id\":\"1188\",\"type\":\"Line\"},\"selection_glyph\":null,\"view\":{\"id\":\"1190\",\"type\":\"CDSView\"}},\"id\":\"1189\",\"type\":\"GlyphRenderer\"},{\"attributes\":{\"plot\":null,\"text\":\"ELBO\"},\"id\":\"1137\",\"type\":\"Title\"},{\"attributes\":{\"dimension\":1,\"plot\":{\"id\":\"1138\",\"subtype\":\"Figure\",\"type\":\"Plot\"},\"ticker\":{\"id\":\"1154\",\"type\":\"BasicTicker\"}},\"id\":\"1157\",\"type\":\"Grid\"},{\"attributes\":{\"overlay\":{\"id\":\"1166\",\"type\":\"BoxAnnotation\"}},\"id\":\"1160\",\"type\":\"BoxZoomTool\"},{\"attributes\":{\"line_color\":\"red\",\"x\":{\"field\":\"x\"},\"y\":{\"field\":\"y\"}},\"id\":\"1174\",\"type\":\"Line\"},{\"attributes\":{\"line_alpha\":0.1,\"line_color\":\"#1f77b4\",\"x\":{\"field\":\"x\"},\"y\":{\"field\":\"y\"}},\"id\":\"1175\",\"type\":\"Line\"},{\"attributes\":{\"source\":{\"id\":\"1186\",\"type\":\"ColumnDataSource\"}},\"id\":\"1190\",\"type\":\"CDSView\"},{\"attributes\":{\"callback\":null},\"id\":\"1140\",\"type\":\"DataRange1d\"},{\"attributes\":{\"data_source\":{\"id\":\"1173\",\"type\":\"ColumnDataSource\"},\"glyph\":{\"id\":\"1174\",\"type\":\"Line\"},\"hover_glyph\":null,\"muted_glyph\":null,\"nonselection_glyph\":{\"id\":\"1175\",\"type\":\"Line\"},\"selection_glyph\":null,\"view\":{\"id\":\"1177\",\"type\":\"CDSView\"}},\"id\":\"1176\",\"type\":\"GlyphRenderer\"},{\"attributes\":{},\"id\":\"1196\",\"type\":\"Selection\"},{\"attributes\":{\"callback\":null},\"id\":\"1142\",\"type\":\"DataRange1d\"},{\"attributes\":{\"active_drag\":\"auto\",\"active_inspect\":\"auto\",\"active_multi\":null,\"active_scroll\":\"auto\",\"active_tap\":\"auto\",\"tools\":[{\"id\":\"1158\",\"type\":\"PanTool\"},{\"id\":\"1159\",\"type\":\"WheelZoomTool\"},{\"id\":\"1160\",\"type\":\"BoxZoomTool\"},{\"id\":\"1161\",\"type\":\"SaveTool\"},{\"id\":\"1162\",\"type\":\"ResetTool\"},{\"id\":\"1163\",\"type\":\"HelpTool\"}]},\"id\":\"1164\",\"type\":\"Toolbar\"},{\"attributes\":{},\"id\":\"1197\",\"type\":\"UnionRenderers\"},{\"attributes\":{},\"id\":\"1144\",\"type\":\"LinearScale\"},{\"attributes\":{},\"id\":\"1149\",\"type\":\"BasicTicker\"},{\"attributes\":{\"label\":{\"value\":\"normal_diag\"},\"renderers\":[{\"id\":\"1189\",\"type\":\"GlyphRenderer\"}]},\"id\":\"1199\",\"type\":\"LegendItem\"},{\"attributes\":{},\"id\":\"1159\",\"type\":\"WheelZoomTool\"},{\"attributes\":{\"bottom_units\":\"screen\",\"fill_alpha\":{\"value\":0.5},\"fill_color\":{\"value\":\"lightgrey\"},\"left_units\":\"screen\",\"level\":\"overlay\",\"line_alpha\":{\"value\":1.0},\"line_color\":{\"value\":\"black\"},\"line_dash\":[4,4],\"line_width\":{\"value\":2},\"plot\":null,\"render_mode\":\"css\",\"right_units\":\"screen\",\"top_units\":\"screen\"},\"id\":\"1166\",\"type\":\"BoxAnnotation\"},{\"attributes\":{},\"id\":\"1163\",\"type\":\"HelpTool\"},{\"attributes\":{\"source\":{\"id\":\"1173\",\"type\":\"ColumnDataSource\"}},\"id\":\"1177\",\"type\":\"CDSView\"},{\"attributes\":{\"axis_label\":\"step\",\"formatter\":{\"id\":\"1182\",\"type\":\"BasicTickFormatter\"},\"plot\":{\"id\":\"1138\",\"subtype\":\"Figure\",\"type\":\"Plot\"},\"ticker\":{\"id\":\"1149\",\"type\":\"BasicTicker\"}},\"id\":\"1148\",\"type\":\"LinearAxis\"},{\"attributes\":{\"callback\":null,\"data\":{\"x\":[0,1,2,3,4,5,6,7,8,9],\"y\":[-3.3253662109375,-3.3253662109375,-3.3253662109375,-3.3253662109375,-3.3253662109375,-3.3253662109375,-3.3253662109375,-3.3253662109375,-3.3253662109375,-3.3253662109375]},\"selected\":{\"id\":\"1237\",\"type\":\"Selection\"},\"selection_policy\":{\"id\":\"1238\",\"type\":\"UnionRenderers\"}},\"id\":\"1200\",\"type\":\"ColumnDataSource\"},{\"attributes\":{},\"id\":\"1162\",\"type\":\"ResetTool\"},{\"attributes\":{},\"id\":\"1146\",\"type\":\"LinearScale\"},{\"attributes\":{\"line_color\":\"green\",\"x\":{\"field\":\"x\"},\"y\":{\"field\":\"y\"}},\"id\":\"1201\",\"type\":\"Line\"},{\"attributes\":{\"callback\":null,\"data\":{\"x\":[0,1,2,3,4,5,6,7,8,9],\"y\":[-2.9695724487304687,-2.9695724487304687,-2.9695724487304687,-2.9695724487304687,-2.9695724487304687,-2.9695724487304687,-2.9695724487304687,-2.9695724487304687,-2.9695724487304687,-2.9695724487304687]},\"selected\":{\"id\":\"1196\",\"type\":\"Selection\"},\"selection_policy\":{\"id\":\"1197\",\"type\":\"UnionRenderers\"}},\"id\":\"1173\",\"type\":\"ColumnDataSource\"},{\"attributes\":{\"line_alpha\":0.1,\"line_color\":\"#1f77b4\",\"x\":{\"field\":\"x\"},\"y\":{\"field\":\"y\"}},\"id\":\"1202\",\"type\":\"Line\"},{\"attributes\":{\"plot\":{\"id\":\"1138\",\"subtype\":\"Figure\",\"type\":\"Plot\"},\"ticker\":{\"id\":\"1149\",\"type\":\"BasicTicker\"}},\"id\":\"1152\",\"type\":\"Grid\"},{\"attributes\":{},\"id\":\"1154\",\"type\":\"BasicTicker\"},{\"attributes\":{\"data_source\":{\"id\":\"1200\",\"type\":\"ColumnDataSource\"},\"glyph\":{\"id\":\"1201\",\"type\":\"Line\"},\"hover_glyph\":null,\"muted_glyph\":null,\"nonselection_glyph\":{\"id\":\"1202\",\"type\":\"Line\"},\"selection_glyph\":null,\"view\":{\"id\":\"1204\",\"type\":\"CDSView\"}},\"id\":\"1203\",\"type\":\"GlyphRenderer\"},{\"attributes\":{\"line_color\":\"blue\",\"x\":{\"field\":\"x\"},\"y\":{\"field\":\"y\"}},\"id\":\"1187\",\"type\":\"Line\"},{\"attributes\":{\"source\":{\"id\":\"1200\",\"type\":\"ColumnDataSource\"}},\"id\":\"1204\",\"type\":\"CDSView\"},{\"attributes\":{\"callback\":null,\"data\":{\"x\":[0,1,2,3,4,5,6,7,8,9],\"y\":[-3.2518218994140624,-3.2518218994140624,-3.2518218994140624,-3.2518218994140624,-3.2518218994140624,-3.2518218994140624,-3.2518218994140624,-3.2518218994140624,-3.2518218994140624,-3.2518218994140624]},\"selected\":{\"id\":\"1212\",\"type\":\"Selection\"},\"selection_policy\":{\"id\":\"1213\",\"type\":\"UnionRenderers\"}},\"id\":\"1186\",\"type\":\"ColumnDataSource\"},{\"attributes\":{},\"id\":\"1212\",\"type\":\"Selection\"},{\"attributes\":{\"items\":[{\"id\":\"1185\",\"type\":\"LegendItem\"},{\"id\":\"1199\",\"type\":\"LegendItem\"},{\"id\":\"1215\",\"type\":\"LegendItem\"}],\"location\":\"bottom_right\",\"plot\":{\"id\":\"1138\",\"subtype\":\"Figure\",\"type\":\"Plot\"}},\"id\":\"1184\",\"type\":\"Legend\"},{\"attributes\":{},\"id\":\"1213\",\"type\":\"UnionRenderers\"},{\"attributes\":{\"label\":{\"value\":\"normal_full\"},\"renderers\":[{\"id\":\"1176\",\"type\":\"GlyphRenderer\"}]},\"id\":\"1185\",\"type\":\"LegendItem\"},{\"attributes\":{\"label\":{\"value\":\"normal_iso\"},\"renderers\":[{\"id\":\"1203\",\"type\":\"GlyphRenderer\"}]},\"id\":\"1215\",\"type\":\"LegendItem\"},{\"attributes\":{},\"id\":\"1158\",\"type\":\"PanTool\"},{\"attributes\":{\"axis_label\":\"ln p(X)\",\"formatter\":{\"id\":\"1180\",\"type\":\"BasicTickFormatter\"},\"plot\":{\"id\":\"1138\",\"subtype\":\"Figure\",\"type\":\"Plot\"},\"ticker\":{\"id\":\"1154\",\"type\":\"BasicTicker\"}},\"id\":\"1153\",\"type\":\"LinearAxis\"},{\"attributes\":{},\"id\":\"1237\",\"type\":\"Selection\"},{\"attributes\":{\"line_alpha\":0.1,\"line_color\":\"#1f77b4\",\"x\":{\"field\":\"x\"},\"y\":{\"field\":\"y\"}},\"id\":\"1188\",\"type\":\"Line\"}],\"root_ids\":[\"1138\"]},\"title\":\"Bokeh Application\",\"version\":\"1.0.0\"}};\n",
       "  var render_items = [{\"docid\":\"ab735d1b-4f41-46e4-9c92-21be3dca4fcf\",\"roots\":{\"1138\":\"4dc76c77-d46d-4663-ae9c-49879962c6b3\"}}];\n",
       "  root.Bokeh.embed.embed_items_notebook(docs_json, render_items);\n",
       "\n",
       "  }\n",
       "  if (root.Bokeh !== undefined) {\n",
       "    embed_document(root);\n",
       "  } else {\n",
       "    var attempts = 0;\n",
       "    var timer = setInterval(function(root) {\n",
       "      if (root.Bokeh !== undefined) {\n",
       "        embed_document(root);\n",
       "        clearInterval(timer);\n",
       "      }\n",
       "      attempts++;\n",
       "      if (attempts > 100) {\n",
       "        console.log(\"Bokeh: ERROR: Unable to run BokehJS code because BokehJS library is missing\");\n",
       "        clearInterval(timer);\n",
       "      }\n",
       "    }, 10, root)\n",
       "  }\n",
       "})(window);"
      ],
      "application/vnd.bokehjs_exec.v0+json": ""
     },
     "metadata": {
      "application/vnd.bokehjs_exec.v0+json": {
       "id": "1138"
      }
     },
     "output_type": "display_data"
    }
   ],
   "source": [
    "colors = {\n",
    "    'normal_iso': 'green',\n",
    "    'normal_diag': 'blue',\n",
    "    'normal_full': 'red',\n",
    "    \n",
    "}\n",
    "# Plot the ELBO.\n",
    "fig = figure(title='ELBO', width=400, height=400, x_axis_label='step',\n",
    "              y_axis_label='ln p(X)')\n",
    "for model_name, elbo in elbos.items():\n",
    "    fig.line(range(len(elbo)), elbo, legend=model_name, color=colors[model_name])\n",
    "fig.legend.location = 'bottom_right'\n",
    "\n",
    "show(fig)"
   ]
  },
  {
   "cell_type": "code",
   "execution_count": 9,
   "metadata": {
    "scrolled": false
   },
   "outputs": [
    {
     "data": {
      "text/html": [
       "\n",
       "\n",
       "\n",
       "\n",
       "\n",
       "\n",
       "  <div class=\"bk-root\" id=\"2cecbd63-33a2-43bc-b758-6674fc610388\"></div>\n"
      ]
     },
     "metadata": {},
     "output_type": "display_data"
    },
    {
     "data": {
      "application/javascript": [
       "(function(root) {\n",
       "  function embed_document(root) {\n",
       "    \n",
       "  var docs_json = {\"aef321b5-d1de-43ef-bc76-909c86f53cb1\":{\"roots\":{\"references\":[{\"attributes\":{\"below\":[{\"id\":\"1321\",\"type\":\"LinearAxis\"}],\"left\":[{\"id\":\"1326\",\"type\":\"LinearAxis\"}],\"plot_height\":400,\"plot_width\":400,\"renderers\":[{\"id\":\"1321\",\"type\":\"LinearAxis\"},{\"id\":\"1325\",\"type\":\"Grid\"},{\"id\":\"1326\",\"type\":\"LinearAxis\"},{\"id\":\"1330\",\"type\":\"Grid\"},{\"id\":\"1339\",\"type\":\"BoxAnnotation\"},{\"id\":\"1349\",\"type\":\"GlyphRenderer\"},{\"id\":\"1354\",\"type\":\"GlyphRenderer\"},{\"id\":\"1359\",\"type\":\"GlyphRenderer\"},{\"id\":\"1364\",\"type\":\"GlyphRenderer\"},{\"id\":\"1369\",\"type\":\"GlyphRenderer\"},{\"id\":\"1374\",\"type\":\"GlyphRenderer\"},{\"id\":\"1379\",\"type\":\"GlyphRenderer\"}],\"title\":{\"id\":\"1405\",\"type\":\"Title\"},\"toolbar\":{\"id\":\"1337\",\"type\":\"Toolbar\"},\"x_range\":{\"id\":\"1313\",\"type\":\"Range1d\"},\"x_scale\":{\"id\":\"1317\",\"type\":\"LinearScale\"},\"y_range\":{\"id\":\"1315\",\"type\":\"Range1d\"},\"y_scale\":{\"id\":\"1319\",\"type\":\"LinearScale\"}},\"id\":\"1312\",\"subtype\":\"Figure\",\"type\":\"Plot\"},{\"attributes\":{},\"id\":\"1418\",\"type\":\"UnionRenderers\"},{\"attributes\":{\"formatter\":{\"id\":\"1410\",\"type\":\"BasicTickFormatter\"},\"plot\":{\"id\":\"1312\",\"subtype\":\"Figure\",\"type\":\"Plot\"},\"ticker\":{\"id\":\"1322\",\"type\":\"BasicTicker\"}},\"id\":\"1321\",\"type\":\"LinearAxis\"},{\"attributes\":{\"data_source\":{\"id\":\"1371\",\"type\":\"ColumnDataSource\"},\"glyph\":{\"id\":\"1372\",\"type\":\"Patch\"},\"hover_glyph\":null,\"muted_glyph\":null,\"nonselection_glyph\":{\"id\":\"1373\",\"type\":\"Patch\"},\"selection_glyph\":null,\"view\":{\"id\":\"1375\",\"type\":\"CDSView\"}},\"id\":\"1374\",\"type\":\"GlyphRenderer\"},{\"attributes\":{\"source\":{\"id\":\"1351\",\"type\":\"ColumnDataSource\"}},\"id\":\"1355\",\"type\":\"CDSView\"},{\"attributes\":{\"callback\":null,\"data\":{\"x\":{\"__ndarray__\":\"AAAAVCgnAUBsRodUzxwBQDUrwDjP/QBAcHUgnUjKAEAaZaK1cYIAQMi9vxSWJgBANCjktyxu/z8w/hesz2j+P7o4rPcnPv0/smbjxm/v+z8AMTI2B376P15M199y6/g/ZD0QQ1o59z+z95gGhmn1P3b+ShjeffM/11zVq2d48T+e01I1hrbuPxZfsU5TUeo/9rJ8TdbF5T/GOdQi1xjhP6Apbv+Bntg/OAKYoXS4zT/kYA9BbdSzP2QYMKnAMbS/HW8j9sI7zr9iSO5EoTTZv+z82UoJo+G/FOwhCM+j5r+LAGaIXpfrv2SK2y9BPPC/4BxqQQyh8r93Wb7Wi/f0v4evWFdKPfe/zmmpyuNv+b/VXNVbCI37v3X+Ssh+kv2/r/eYtiZ+/7+xHoh5/aYAwC6m68cJgAHAfxgZ81NJAsBXs3E7CAIDwFwc1lNkqQPAF/8LLrg+BMAaFPKzZsEEwMi9v2zmMAXAGmWiDcKMBcBwdSD1mNQFwDUrwJAfCAbAbEaHrB8nBsAAAACseDEGwAAAAKx4MQbAbEaHrB8nBsA1K8CQHwgGwHB1IPWY1AXAGmWiDcKMBcDIvb9s5jAFwBoU8rNmwQTAF/8LLrg+BMBcHNZTZKkDwFezcTsIAgPAfxgZ81NJAsAupuvHCYABwLEeiHn9pgDAr/eYtiZ+/791/krIfpL9v9Vc1VsIjfu/zmmpyuNv+b+Hr1hXSj33v3dZvtaL9/S/4BxqQQyh8r9kitsvQTzwv4sAZohel+u/FOwhCM+j5r/s/NlKCaPhv2JI7kShNNm/HW8j9sI7zr9kGDCpwDG0v+RgD0Ft1LM/OAKYoXS4zT+gKW7/gZ7YP8Y51CLXGOE/9rJ8TdbF5T8WX7FOU1HqP57TUjWGtu4/11zVq2d48T92/koY3n3zP7P3mAaGafU/ZD0QQ1o59z9eTNffcuv4PwAxMjYHfvo/smbjxm/v+z+6OKz3Jz79PzD+F6zPaP4/NCjktyxu/z/Ivb8UliYAQBplorVxggBAcHUgnUjKAEA1K8A4z/0AQGxGh1TPHAFAAAAAVCgnAUA=\",\"dtype\":\"float64\",\"shape\":[100]},\"y\":{\"__ndarray__\":\"AAAAQBLrxb9ASgpYoQOMv2afWftmVcI/vYMaFVgg0z/eJuqcVvbcPxsPwyArUeM/yF5rLhUN6D+QBx+V7qnsP6YINpBukfA/aZE+Mpa58j+39oxYKcv0PyTJ2ev6w/Y/Gru73/eh+D93xUthKWP6P9RbGOi2Bfw/mEE7J+iH/T/yFYfcJuj+PyGs8j2AEgBAJqmR2pOeAEAv7UnpuhcBQOCJivd1fQFA8QUaAVrPAUAFEargEA0CQKOvdqpZNgJArYqR8AhLAkCtipHwCEsCQKOvdqpZNgJABRGq4BANAkDxBRoBWs8BQOGJivd1fQFAMO1J6boXAUAmqZHak54AQCGs8j2AEgBA8hWH3Cbo/j+aQTsn6If9P9VbGOi2Bfw/esVLYSlj+j8cu7vf96H4PyfJ2ev6w/Y/ufaMWCnL9D9ukT4ylrnyP6kINpBukfA/kgcfle6p7D/QXmsuFQ3oPx8PwyArUeM/8CbqnFb23D/IgxoVWCDTP5KfWftmVcI/gEgKWKEDjL/1//8/EuvFvwsAAEAS68W/vK0/NfUK1b/Jz6y9xRXfv+RBjSq1heS/eBN1brRw6b8fD8NAtEbuv2ivNSdPgfG/yYOP2rvP87+pCDYgMwz2v26RPsJaNPi/ufaM6O1F+r8nydl7vz78vxy7u2+8HP6/esVL8e3d/7/qLQy8PcAAwM2gnVtWgQHA+YpDtnUxAsAhrPKF4s8CwCapkSL2WwPAMO1JMR3VA8DhiYo/2DoEwPEFGkm8jATABRGqKHPKBMCjr3byu/MEwK2KkThrCAXArYqROGsIBcCjr3byu/MEwAURqihzygTA8QUaSbyMBMDgiYo/2DoEwC/tSTEd1QPAJqmRIvZbA8AhrPKF4s8CwPmKQ7Z1MQLAzKCdW1aBAcDqLQy8PcAAwHfFS/Ht3f+/Gru7b7wc/r8kydl7vz78v7f2jOjtRfq/aZE+wlo0+L+mCDYgMwz2v8iDj9q7z/O/ZK81J0+B8b8bD8NAtEbuv28TdW60cOm/3kGNKrWF5L+zz6y9xRXfv66tPzX1CtW/AAAAQBLrxb8=\",\"dtype\":\"float64\",\"shape\":[100]}},\"selected\":{\"id\":\"1413\",\"type\":\"Selection\"},\"selection_policy\":{\"id\":\"1414\",\"type\":\"UnionRenderers\"}},\"id\":\"1351\",\"type\":\"ColumnDataSource\"},{\"attributes\":{},\"id\":\"1419\",\"type\":\"Selection\"},{\"attributes\":{},\"id\":\"1322\",\"type\":\"BasicTicker\"},{\"attributes\":{\"source\":{\"id\":\"1371\",\"type\":\"ColumnDataSource\"}},\"id\":\"1375\",\"type\":\"CDSView\"},{\"attributes\":{\"callback\":null,\"data\":{\"x\":{\"__ndarray__\":\"AAAAUABE7T/YjA5RTi/tP2pWgBlO8ew/4OpA4kCK7D80ykQTk/rrP5B7f9HbQus/NCjkX9xj6j8w/hdUf17pP7o4rJ/XM+g/smbjbh/l5j8AMTLetnPlP15M14ci4eM/ZD0Q6wkv4j+z95iuNV/gP+z8lYAb59w/rrmqpy7c2D+e01KF5aHUPxZfsZ6yPNA/7GX5Omtixz8Y51DL2RC8P4CmuH0C1aE/kPvPPBw0pb+OT3gfTGi+vxkGTIqxNcm/x9uIbZGj0b8xJHdS8a7Wv+z82fqpt9u/CvYQ3Ddc4L9GADOc/9Xiv2SK24eRRuW/4BxqmVyr5793Wb4u3AHqv4evWK+aR+y/zmmpIjR67r9qrupZrEvwvzp/JZBnTvG/2HtMhztE8r+xHoilJSzzvy6m6/MxBfS/fxgZH3zO9L9Xs3FnMIf1v1wc1n+MLva/F/8LWuDD9r8aFPLfjkb3v8i9v5gOtve/GmWiOeoR+L9wdSAhwVn4vzUrwLxHjfi/bEaH2Ees+L8AAADYoLb4vwAAANigtvi/bEaH2Ees+L81K8C8R434v3B1ICHBWfi/GmWiOeoR+L/Ivb+YDrb3vxoU8t+ORve/F/8LWuDD9r9cHNZ/jC72v1ezcWcwh/W/fxgZH3zO9L8upuvzMQX0v7EeiKUlLPO/2HtMhztE8r86fyWQZ07xv2qu6lmsS/C/zmmpIjR67r+Hr1ivmkfsv3dZvi7cAeq/4BxqmVyr579kituHkUblv0YAM5z/1eK/CvYQ3Ddc4L/s/Nn6qbfbvzEkd1Lxrta/x9uIbZGj0b8ZBkyKsTXJv45PeB9MaL6/kPvPPBw0pb+Aprh9AtWhPxjnUMvZELw/7GX5Omtixz8WX7GesjzQP57TUoXlodQ/rrmqpy7c2D/s/JWAG+fcP7P3mK41X+A/ZD0Q6wkv4j9eTNeHIuHjPwAxMt62c+U/smbjbh/l5j+6OKyf1zPoPzD+F1R/Xuk/NCjkX9xj6j+Qe3/R20LrPzTKRBOT+us/4OpA4kCK7D9qVoAZTvHsP9iMDlFOL+0/AAAAUABE7T8=\",\"dtype\":\"float64\",\"shape\":[100]},\"y\":{\"__ndarray__\":\"AAAAQBLrxb+kpIBVTKu3v9AEMyVarYy/egc16p1VsD/eJup8zQDCPzYehiHNrMs/yF5rnlCS0j+QBx8FKi/XP0wRbJAYqNs/0iJ91Gf43z+39owQxw3iPyTJ2aOYBuQ/Gru7l5Xk5T93xUsZx6XnP9RbGKBUSOk/mEE734XK6j/yFYeUxCrsP0JY5TOeZ+0/TFIjbcV/7j9e2pOKE3LvP+CJitPEHvA/8QUa3ahw8D8FEaq8X67wP6Ovdoao1/A/rYqRzFfs8D+tipHMV+zwP6Ovdoao1/A/BRGqvF+u8D/xBRrdqHDwP+GJitPEHvA/YNqTihNy7z9MUiNtxX/uP0JY5TOeZ+0/8hWHlMQq7D+aQTvfhcrqP9VbGKBUSOk/esVLGcel5z8cu7uXleTlPyfJ2aOYBuQ/ufaMEMcN4j/cIn3UZ/jfP1IRbJAYqNs/kgcfBSov1z/QXmueUJLSPz4ehiHNrMs/8CbqfM0Awj+QBzXqnVWwP3ADMyVarYy/iKSAVUyrt7/7//8/EuvFvwUAAEAS68W/3tafKj8A0L/kZ9ZupwXVv+RBjbp5ANq/eBN1/njr3r+Qh2FovODhv2ivNW+xPuS/yYOPIh6N5r+pCDZolcnov26RPgq98eq/ufaMMFAD7b8nydnDIfzuv47d3VsPbfC/veKlHKhN8b/qLQzg7h7yv82gnX8H4PK/+YpD2iaQ878hrPKpky70vyapkUanuvS/MO1JVc4z9b/hiYpjiZn1v/EFGm1t6/W/BRGqTCQp9r+jr3YWbVL2v62KkVwcZ/a/rYqRXBxn9r+jr3YWbVL2vwURqkwkKfa/8QUabW3r9b/giYpjiZn1vy/tSVXOM/W/JqmRRqe69L8hrPKpky70v/mKQ9omkPO/zKCdfwfg8r/qLQzg7h7yv7zipRyoTfG/jd3dWw9t8L8kydnDIfzuv7f2jDBQA+2/aZE+Cr3x6r+mCDZolcnov8iDjyIejea/ZK81b7E+5L+Oh2FovODhv28Tdf54696/3kGNunkA2r/aZ9ZupwXVv9fWnyo/ANC/AAAAQBLrxb8=\",\"dtype\":\"float64\",\"shape\":[100]}},\"selected\":{\"id\":\"1415\",\"type\":\"Selection\"},\"selection_policy\":{\"id\":\"1416\",\"type\":\"UnionRenderers\"}},\"id\":\"1356\",\"type\":\"ColumnDataSource\"},{\"attributes\":{},\"id\":\"1420\",\"type\":\"UnionRenderers\"},{\"attributes\":{\"plot\":{\"id\":\"1312\",\"subtype\":\"Figure\",\"type\":\"Plot\"},\"ticker\":{\"id\":\"1322\",\"type\":\"BasicTicker\"}},\"id\":\"1325\",\"type\":\"Grid\"},{\"attributes\":{\"fill_alpha\":0.3,\"fill_color\":\"#C7B097\",\"x\":{\"field\":\"x\"},\"y\":{\"field\":\"y\"}},\"id\":\"1372\",\"type\":\"Patch\"},{\"attributes\":{\"fill_alpha\":0.3,\"fill_color\":\"green\",\"x\":{\"field\":\"x\"},\"y\":{\"field\":\"y\"}},\"id\":\"1357\",\"type\":\"Patch\"},{\"attributes\":{\"callback\":null,\"data\":{\"x\":{\"__ndarray__\":\"AAAA6Dc98j9ERpJQ+TDyP8Q8v2tKDPI/XINc0FHP8T9LFQeiT3rxPwuHqk2dDfE//ZxuK62J8D80YdwMFN7vP5DaaxWtfO4/OvhINJnw7D9URcAReTvrPzgQX4QYX+k/BFY4rWxd5z/m7LnokTjlP/17PJbJ8uI/FzqkuHeO4D+UwiLlQBzcP2A1i8HK6NY/HGQOqwWI0T+w/q3fM//HP+AqfFBmVbk/ILIGWEbngT/qMq8exTK1v4ZUBQF+cMa/qeDvqjQt0b9OHxAVTiXXv7RVfb9DGt2/nhkqvOiC4b/HGmB53nDkv1iFDyruU+e/qH/rVw4p6r8JMoc1RO3sv6uaxcCmne+/pLBI6bAb8b8KHVKM3Fvyv/49HnsFjvO/cPZcpOmw9L8CK5wGV8P1vxuIL/IsxPa/qSLgOF2y978bfCRK7Yz4v0bttTr3Uvm/mTButqoD+r/8nG7bTZ76vwuHqv09Ivu/ShUHUvCO+79cg1yA8uP7v8Q8vxvrIPy/REaSAJpF/L8AAACY2FH8vwAAAJjYUfy/REaSAJpF/L/EPL8b6yD8v1yDXIDy4/u/ShUHUvCO+78Lh6r9PSL7v/ycbttNnvq/mTButqoD+r9G7bU691L5vxt8JErtjPi/qSLgOF2y978biC/yLMT2vwIrnAZXw/W/cPZcpOmw9L/+PR57BY7zvwodUozcW/K/pLBI6bAb8b+rmsXApp3vvwkyhzVE7ey/qH/rVw4p6r9YhQ8q7lPnv8caYHnecOS/nhkqvOiC4b+0VX2/Qxrdv04fEBVOJde/qeDvqjQt0b+GVAUBfnDGv+oyrx7FMrW/ILIGWEbngT/gKnxQZlW5P7D+rd8z/8c/HGQOqwWI0T9gNYvByujWP5TCIuVAHNw/FzqkuHeO4D/9ezyWyfLiP+bsueiROOU/BFY4rWxd5z84EF+EGF/pP1RFwBF5O+s/OvhINJnw7D+Q2msVrXzuPzRh3AwU3u8//ZxuK62J8D8Lh6pNnQ3xP0sVB6JPevE/XINc0FHP8T/EPL9rSgzyP0RGklD5MPI/AAAA6Dc98j8=\",\"dtype\":\"float64\",\"shape\":[100]},\"y\":{\"__ndarray__\":\"AAAA4DzT3T93cIWgiE7gP0X4ermHnOE/28QhYTzS4j8a0kbLYO7jP8O0/A/K7+Q/QGwLZmnV5T+Sdcs/TZ7mPzh3QEmiSec/gzdoRrTW5z9DAdTQ7kToP4gDxfPdk+g/hHMnpi7D6D/8Huwhr9LoP7aLZBhPwug/b49qwx+S6D9xVEHTU0LoP+raQjk/0+c/sw6Sz1ZF5z8SVi7eL5nmP/Do6X1/z+U/ByPo2Rnp5D+7OGxQ8ebjP7IY43MVyuI/mq807bGT4T8CFYlADUXgP8R5musOv90/YgTBTDHJ2j80NeHinqvXP1ZMSLGeadQ/DfSZDZ4G0T+Qh8kJWgzLP+IgYzj118M/FFL7wUPvuD94Ad7RicyjP9A7uHgEbZW/7AYV4EHFtL/STyoqwyPCv/w5BPbe6Mm/7ZPa7uPU0L+05gvrKq/Uv4vypuk2f9i/LZ/OJwVB3L/4LdTdofDfv3yKyDMWxeG/S19PrO2E47902hA8ADblvw64+0+G1ua/Xw2avclk6L////+PJ9/pvwEAAJAn3+m/eXCFwBFE679I+HrZEJLsv9zEIYHFx+2/HdJG6+nj7r/EtPwvU+XvvyG2BUN5ZfC/ybrlL+vJ8L+cO6C0lR/xv8IbNLMeZvG/ogBq+Dud8b/EgeKJs8Txv8K5E+Nb3PG/fg/2IBzk8b/bRTIc7Nvxv7dHtXHUw/G/Oaqgee6b8b91baEsZGTxv1kHyfdvHfG/CSsXf1zH8L949PROhGLwvwYj6Pmi3u+/uThscHrc7r+wGOOTnr/tv5ivNA07iey/ABWJYJY667/gPM2VENXpvy+CYMYhWui/mZpwkVjL5r8oJqR4WCrlvwT6zCbYeOO/4WFyop+44b9rkDHcDNffv4LUfjDjJty/KsA7eqNk2L8/fHT4QZTUvz2++sfBudC/KrDVVWGyyb/4xfuJRe3BvziwlUS5WLS/IJRBT3W+k7+AlDdNJaGkP8B8Op/LV7k/+luoOx8LxD/0KSJPND7LP5y+nhjJHtE/6rQhOO6A1D8icPdf+sHXP8IaNDuB3to/AAAA4DzT3T8=\",\"dtype\":\"float64\",\"shape\":[100]}},\"selected\":{\"id\":\"1423\",\"type\":\"Selection\"},\"selection_policy\":{\"id\":\"1424\",\"type\":\"UnionRenderers\"}},\"id\":\"1376\",\"type\":\"ColumnDataSource\"},{\"attributes\":{},\"id\":\"1421\",\"type\":\"Selection\"},{\"attributes\":{\"formatter\":{\"id\":\"1408\",\"type\":\"BasicTickFormatter\"},\"plot\":{\"id\":\"1312\",\"subtype\":\"Figure\",\"type\":\"Plot\"},\"ticker\":{\"id\":\"1327\",\"type\":\"BasicTicker\"}},\"id\":\"1326\",\"type\":\"LinearAxis\"},{\"attributes\":{\"fill_alpha\":0.3,\"fill_color\":\"#C7B097\",\"x\":{\"field\":\"x\"},\"y\":{\"field\":\"y\"}},\"id\":\"1377\",\"type\":\"Patch\"},{\"attributes\":{\"fill_alpha\":0.1,\"fill_color\":\"#1f77b4\",\"line_alpha\":0.1,\"line_color\":\"#1f77b4\",\"x\":{\"field\":\"x\"},\"y\":{\"field\":\"y\"}},\"id\":\"1358\",\"type\":\"Patch\"},{\"attributes\":{},\"id\":\"1422\",\"type\":\"UnionRenderers\"},{\"attributes\":{},\"id\":\"1327\",\"type\":\"BasicTicker\"},{\"attributes\":{\"fill_alpha\":0.1,\"fill_color\":\"#1f77b4\",\"line_alpha\":0.1,\"line_color\":\"#1f77b4\",\"x\":{\"field\":\"x\"},\"y\":{\"field\":\"y\"}},\"id\":\"1378\",\"type\":\"Patch\"},{\"attributes\":{\"data_source\":{\"id\":\"1356\",\"type\":\"ColumnDataSource\"},\"glyph\":{\"id\":\"1357\",\"type\":\"Patch\"},\"hover_glyph\":null,\"muted_glyph\":null,\"nonselection_glyph\":{\"id\":\"1358\",\"type\":\"Patch\"},\"selection_glyph\":null,\"view\":{\"id\":\"1360\",\"type\":\"CDSView\"}},\"id\":\"1359\",\"type\":\"GlyphRenderer\"},{\"attributes\":{\"callback\":null,\"data\":{\"x\":{\"__ndarray__\":\"AAAAFGDCBEBERpJ8IbYEQMQ8v5dykQRAXINc/HlUBEBLFQfOd/8DQAuHqnnFkgNA/ZxuV9UOA0CaMG4yMnQCQEjttbZ+wwFAHXwkxnT9AECqIuC05CIAQDgQX9xoaf4/BFY4Bb1n/D/m7LlA4kL6P/17PO4Z/fc/FzqkEMiY9T9KYZHKcBjzP7Caxbi1fvA/HGQOW6ac6z9Y/9afOhTmP7gKH0T6aeA/ImuAxbVH1T8WzVChvR/DPzCkKgjlOaK/poK/609izL+bPiDKWiHav7RVfQ+jBeO/PDNUyDDx6L+ONcBCHM3uv1iFD9KdSfK/qH/r/70e9b8JMofd8+L3v6uaxWhWk/q/SWGRehEt/b8UOqTAaK3/v/49Hk/dCAHAcPZceMErAsACK5zaLj4DwBuIL8YEPwTAqSLgDDUtBcAbfCQexQcGwEbttQ7PzQbAmTBuioJ+B8D8nG6vJRkIwAuHqtEVnQjAShUHJsgJCcBcg1xUyl4JwMQ8v+/CmwnAREaS1HHACcAAAABssMwJwAAAAGywzAnAREaS1HHACcDEPL/vwpsJwFyDXFTKXgnAShUHJsgJCcALh6rRFZ0IwPycbq8lGQjAmTBuioJ+B8BG7bUOz80GwBt8JB7FBwbAqSLgDDUtBcAbiC/GBD8EwAIrnNouPgPAcPZceMErAsD+PR5P3QgBwBQ6pMBorf+/SWGRehEt/b+rmsVoVpP6vwkyh93z4ve/qH/r/70e9b9YhQ/SnUnyv441wEIcze6/PDNUyDDx6L+0VX0PowXjv5s+IMpaIdq/poK/609izL8wpCoI5TmivxbNUKG9H8M/ImuAxbVH1T+4Ch9E+mngP1j/1p86FOY/HGQOW6ac6z+wmsW4tX7wP0phkcpwGPM/FzqkEMiY9T/9ezzuGf33P+bsuUDiQvo/BFY4Bb1n/D84EF/caGn+P6oi4LTkIgBAHXwkxnT9AEBI7bW2fsMBQJowbjIydAJA/ZxuV9UOA0ALh6p5xZIDQEsVB853/wNAXINc/HlUBEDEPL+XcpEEQERGknwhtgRAAAAAFGDCBEA=\",\"dtype\":\"float64\",\"shape\":[100]},\"y\":{\"__ndarray__\":\"AAAAQBLrxb8W2NE7loupv9bGxbjgKbI/UqFs7ClsyD+OFNjsUcnTP66lYhI3PNs/3GuUNndD4T8vRNwj5tDkP+YmTKGrQug//tCIGCiV6z+4FWHc3MTuP93K++o35/A/L7y3hVdX8j/CSTP+SbHzPxrpWWij8/Q/GWMIqxAd9j9fecTkWCz3P6Qn4LReIPg/yUOuZyH4+D/frowEvrL5P/sEqDxwT/o/NqB9OZPN+j8NskJKoiz7P2sJem85bPs/A68lxBWM+z8DryXEFYz7P2sJem85bPs/DbJCSqIs+z82oH05k836P/wEqDxwT/o/4K6MBL6y+T/KQ65nIfj4P6Un4LReIPg/YHnE5Fgs9z8aYwirEB32PxrpWWij8/Q/xEkz/kmx8z8wvLeFV1fyP+DK++o35/A/vBVh3NzE7j8G0YgYKJXrP+omTKGrQug/MUTcI+bQ5D/ja5Q2d0PhP7alYhI3PNs/nRTY7FHJ0z9koWzsKWzIPxrHxbjgKbI/vtfRO5aLqb/4//8/EuvFvwgAAEAS68W/CMWFeJ+50r/GcTFuinXav1koG5uTEOG/TgpsFjLa5L/bUjGppJPov+NrlFYAOey/MUTcQ2/G7791E6ZgGpzxv4NoRJxYRfO/3oow/jLd9L/gyvt6/GH2vzC8txUc0ve/xEkzjg4s+b8a6Vn4Z276vxpjCDvVl/u/YHnEdB2n/L+lJ+BEI5v9v8pDrvflcv6/4K6MlIIt/7/8BKjMNMr/vxvQvuQrJADABlkhbbNTAMC2BL3/fnMAwILXEiptgwDAgtcSKm2DAMC2BL3/fnMAwAZZIW2zUwDAG9C+5CskAMD7BKjMNMr/v9+ujJSCLf+/yUOu9+Vy/r+kJ+BEI5v9v195xHQdp/y/GWMIO9WX+78a6Vn4Z276v8JJM44OLPm/L7y3FRzS97/dyvt6/GH2v9yKMP4y3fS/f2hEnFhF879zE6ZgGpzxvy9E3ENvxu+/3GuUVgA57L/XUjGppJPov0cKbBYy2uS/VCgbm5MQ4b+2cTFuinXav/3EhXifudK/AAAAQBLrxb8=\",\"dtype\":\"float64\",\"shape\":[100]}},\"selected\":{\"id\":\"1417\",\"type\":\"Selection\"},\"selection_policy\":{\"id\":\"1418\",\"type\":\"UnionRenderers\"}},\"id\":\"1361\",\"type\":\"ColumnDataSource\"},{\"attributes\":{},\"id\":\"1423\",\"type\":\"Selection\"},{\"attributes\":{\"dimension\":1,\"plot\":{\"id\":\"1312\",\"subtype\":\"Figure\",\"type\":\"Plot\"},\"ticker\":{\"id\":\"1327\",\"type\":\"BasicTicker\"}},\"id\":\"1330\",\"type\":\"Grid\"},{\"attributes\":{\"data_source\":{\"id\":\"1376\",\"type\":\"ColumnDataSource\"},\"glyph\":{\"id\":\"1377\",\"type\":\"Patch\"},\"hover_glyph\":null,\"muted_glyph\":null,\"nonselection_glyph\":{\"id\":\"1378\",\"type\":\"Patch\"},\"selection_glyph\":null,\"view\":{\"id\":\"1380\",\"type\":\"CDSView\"}},\"id\":\"1379\",\"type\":\"GlyphRenderer\"},{\"attributes\":{\"source\":{\"id\":\"1356\",\"type\":\"ColumnDataSource\"}},\"id\":\"1360\",\"type\":\"CDSView\"},{\"attributes\":{},\"id\":\"1424\",\"type\":\"UnionRenderers\"},{\"attributes\":{\"callback\":null,\"data\":{\"x\":{\"__ndarray__\":\"AAAAFGDCBEBERpJ8IbYEQMQ8v5dykQRAXINc/HlUBEBLFQfOd/8DQAuHqnnFkgNA/ZxuV9UOA0CaMG4yMnQCQEjttbZ+wwFAHXwkxnT9AECqIuC05CIAQDgQX9xoaf4/BFY4Bb1n/D/m7LlA4kL6P/17PO4Z/fc/FzqkEMiY9T9KYZHKcBjzP7Caxbi1fvA/HGQOW6ac6z9Y/9afOhTmP7gKH0T6aeA/ImuAxbVH1T8WzVChvR/DPzCkKgjlOaK/poK/609izL+bPiDKWiHav7RVfQ+jBeO/PDNUyDDx6L+ONcBCHM3uv1iFD9KdSfK/qH/r/70e9b8JMofd8+L3v6uaxWhWk/q/SWGRehEt/b8UOqTAaK3/v/49Hk/dCAHAcPZceMErAsACK5zaLj4DwBuIL8YEPwTAqSLgDDUtBcAbfCQexQcGwEbttQ7PzQbAmTBuioJ+B8D8nG6vJRkIwAuHqtEVnQjAShUHJsgJCcBcg1xUyl4JwMQ8v+/CmwnAREaS1HHACcAAAABssMwJwAAAAGywzAnAREaS1HHACcDEPL/vwpsJwFyDXFTKXgnAShUHJsgJCcALh6rRFZ0IwPycbq8lGQjAmTBuioJ+B8BG7bUOz80GwBt8JB7FBwbAqSLgDDUtBcAbiC/GBD8EwAIrnNouPgPAcPZceMErAsD+PR5P3QgBwBQ6pMBorf+/SWGRehEt/b+rmsVoVpP6vwkyh93z4ve/qH/r/70e9b9YhQ/SnUnyv441wEIcze6/PDNUyDDx6L+0VX0PowXjv5s+IMpaIdq/poK/609izL8wpCoI5TmivxbNUKG9H8M/ImuAxbVH1T+4Ch9E+mngP1j/1p86FOY/HGQOW6ac6z+wmsW4tX7wP0phkcpwGPM/FzqkEMiY9T/9ezzuGf33P+bsuUDiQvo/BFY4Bb1n/D84EF/caGn+P6oi4LTkIgBAHXwkxnT9AEBI7bW2fsMBQJowbjIydAJA/ZxuV9UOA0ALh6p5xZIDQEsVB853/wNAXINc/HlUBEDEPL+XcpEEQERGknwhtgRAAAAAFGDCBEA=\",\"dtype\":\"float64\",\"shape\":[100]},\"y\":{\"__ndarray__\":\"AAAAuACn8T93cIXo6gvzP0X4egHqWfQ/28QhqZ6P9T8a0kYTw6v2P8O0/Fcsrfc/QGwLrsuS+D+SdcuHr1v5Pzh3QJEEB/o/gzdojhaU+j9DAdQYUQL7P4gDxTtAUfs/hHMn7pCA+z/8HuxpEZD7P7aLZGCxf/s/b49qC4JP+z9xVEEbtv/6P+raQoGhkPo/sw6SF7kC+j8SVi4mklb5P/Do6cXhjPg/ByPoIXym9z+7OGyYU6T2P7IY47t3h/U/mq80NRRR9D8CFYmIbwLzP+I8zb3pnPE/MYJg7voh8D80NeFyYybtP1ZMSEFj5Ok/DfSZnWKB5j/Iw+SU8QDjP+IgY1h+zd4/Cqn9ACtt1z+8AO8oV9HPPwzx0SHRj8A/QJGv/gVdgj9IP6ko6Li8v/hzCKyr5s2/2ie1vT601r9ozRe2zGjev4vypllyBOO/LZ/Ol0DG5r/4LdRN3XXqv/gUkddnD+6/S19PZIvH8L902hD0nXjyvw64+wckGfS/Xw2adWen9b////9HxSH3vwEAAEjFIfe/eXCFeK+G+L9I+HqRrtT5v9zEITljCvu/HdJGo4cm/L/EtPzn8Cf9v0JsCz6QDf6/knXLF3TW/r84d0AhyYH/v8IbNI9tBwDAogBq1Io+AMDEgeJlAmYAwMK5E7+qfQDAfg/2/GqFAMDbRTL4On0AwLdHtU0jZQDAOaqgVT09AMB1baEIswUAwLIOkqd9ff+/ElYutlbR/r/v6OlVpgf+vwYj6LFAIf2/uThsKBgf/L+wGONLPAL7v5ivNMXYy/m/ABWJGDR9+L/gPM1Nrhf3vy+CYH6/nPW/mZpwSfYN9L8oJqQw9mzyvwT6zN51u/C/wsPktHr27b9rkDFMSFzqv4LUfqAerOa/KsA76t7p4r9++OjQ+jLev3p89W/6fda/VGCra7B5zb/gF++n8d67v4D8pLaPJYk/+Jov7HT7wD8g5U1z0h3QP2A+ne9uodc/+luoW6gA3z/6FJG33hnjP5y+nqiNmeY/6rQhyLL76T8icPfvvjztP2ENmuWiLPA/AAAAuACn8T8=\",\"dtype\":\"float64\",\"shape\":[100]}},\"selected\":{\"id\":\"1421\",\"type\":\"Selection\"},\"selection_policy\":{\"id\":\"1422\",\"type\":\"UnionRenderers\"}},\"id\":\"1371\",\"type\":\"ColumnDataSource\"},{\"attributes\":{\"source\":{\"id\":\"1376\",\"type\":\"ColumnDataSource\"}},\"id\":\"1380\",\"type\":\"CDSView\"},{\"attributes\":{\"fill_alpha\":0.3,\"fill_color\":\"#98AFC7\",\"x\":{\"field\":\"x\"},\"y\":{\"field\":\"y\"}},\"id\":\"1362\",\"type\":\"Patch\"},{\"attributes\":{\"fill_color\":{\"value\":\"#1f77b4\"},\"line_color\":{\"value\":\"#1f77b4\"},\"x\":{\"field\":\"x\"},\"y\":{\"field\":\"y\"}},\"id\":\"1347\",\"type\":\"Circle\"},{\"attributes\":{\"fill_alpha\":0.1,\"fill_color\":\"#1f77b4\",\"line_alpha\":0.1,\"line_color\":\"#1f77b4\",\"x\":{\"field\":\"x\"},\"y\":{\"field\":\"y\"}},\"id\":\"1373\",\"type\":\"Patch\"},{\"attributes\":{\"fill_alpha\":0.1,\"fill_color\":\"#1f77b4\",\"line_alpha\":0.1,\"line_color\":\"#1f77b4\",\"x\":{\"field\":\"x\"},\"y\":{\"field\":\"y\"}},\"id\":\"1363\",\"type\":\"Patch\"},{\"attributes\":{\"plot\":null,\"text\":\"\"},\"id\":\"1405\",\"type\":\"Title\"},{\"attributes\":{\"data_source\":{\"id\":\"1361\",\"type\":\"ColumnDataSource\"},\"glyph\":{\"id\":\"1362\",\"type\":\"Patch\"},\"hover_glyph\":null,\"muted_glyph\":null,\"nonselection_glyph\":{\"id\":\"1363\",\"type\":\"Patch\"},\"selection_glyph\":null,\"view\":{\"id\":\"1365\",\"type\":\"CDSView\"}},\"id\":\"1364\",\"type\":\"GlyphRenderer\"},{\"attributes\":{},\"id\":\"1408\",\"type\":\"BasicTickFormatter\"},{\"attributes\":{},\"id\":\"1331\",\"type\":\"PanTool\"},{\"attributes\":{\"fill_alpha\":0.3,\"fill_color\":\"green\",\"x\":{\"field\":\"x\"},\"y\":{\"field\":\"y\"}},\"id\":\"1352\",\"type\":\"Patch\"},{\"attributes\":{\"source\":{\"id\":\"1361\",\"type\":\"ColumnDataSource\"}},\"id\":\"1365\",\"type\":\"CDSView\"},{\"attributes\":{},\"id\":\"1410\",\"type\":\"BasicTickFormatter\"},{\"attributes\":{},\"id\":\"1332\",\"type\":\"WheelZoomTool\"},{\"attributes\":{\"callback\":null,\"data\":{\"x\":{\"__ndarray__\":\"AAAA6Dc98j9ERpJQ+TDyP8Q8v2tKDPI/XINc0FHP8T9LFQeiT3rxPwuHqk2dDfE//ZxuK62J8D80YdwMFN7vP5DaaxWtfO4/OvhINJnw7D9URcAReTvrPzgQX4QYX+k/BFY4rWxd5z/m7LnokTjlP/17PJbJ8uI/FzqkuHeO4D+UwiLlQBzcP2A1i8HK6NY/HGQOqwWI0T+w/q3fM//HP+AqfFBmVbk/ILIGWEbngT/qMq8exTK1v4ZUBQF+cMa/qeDvqjQt0b9OHxAVTiXXv7RVfb9DGt2/nhkqvOiC4b/HGmB53nDkv1iFDyruU+e/qH/rVw4p6r8JMoc1RO3sv6uaxcCmne+/pLBI6bAb8b8KHVKM3Fvyv/49HnsFjvO/cPZcpOmw9L8CK5wGV8P1vxuIL/IsxPa/qSLgOF2y978bfCRK7Yz4v0bttTr3Uvm/mTButqoD+r/8nG7bTZ76vwuHqv09Ivu/ShUHUvCO+79cg1yA8uP7v8Q8vxvrIPy/REaSAJpF/L8AAACY2FH8vwAAAJjYUfy/REaSAJpF/L/EPL8b6yD8v1yDXIDy4/u/ShUHUvCO+78Lh6r9PSL7v/ycbttNnvq/mTButqoD+r9G7bU691L5vxt8JErtjPi/qSLgOF2y978biC/yLMT2vwIrnAZXw/W/cPZcpOmw9L/+PR57BY7zvwodUozcW/K/pLBI6bAb8b+rmsXApp3vvwkyhzVE7ey/qH/rVw4p6r9YhQ8q7lPnv8caYHnecOS/nhkqvOiC4b+0VX2/Qxrdv04fEBVOJde/qeDvqjQt0b+GVAUBfnDGv+oyrx7FMrW/ILIGWEbngT/gKnxQZlW5P7D+rd8z/8c/HGQOqwWI0T9gNYvByujWP5TCIuVAHNw/FzqkuHeO4D/9ezyWyfLiP+bsueiROOU/BFY4rWxd5z84EF+EGF/pP1RFwBF5O+s/OvhINJnw7D+Q2msVrXzuPzRh3AwU3u8//ZxuK62J8D8Lh6pNnQ3xP0sVB6JPevE/XINc0FHP8T/EPL9rSgzyP0RGklD5MPI/AAAA6Dc98j8=\",\"dtype\":\"float64\",\"shape\":[100]},\"y\":{\"__ndarray__\":\"AAAAQBLrxb8GdvTO9028vyo5OsdDrKm/kAplY70IhD8cKbCZkaexP66lYvKtRsA/uNcoTWWRxz9eiLgnQ6zOP+YmTBHnx9I//tCIiGMa1j+4FWFMGErZP7qV90WrU9w/Xnhve+oz3z/CSTO25/PgPxrpWSBBNuI/GWMIY65f4z9fecSc9m7kP6Qn4Gz8YuU/yUOuH7865j/froy8W/XmP/sEqPQNkuc/NqB98TAQ6D8NskICQG/oP2sJeifXrug/A68lfLPO6D8DryV8s87oP2sJeifXrug/DbJCAkBv6D82oH3xMBDoP/wEqPQNkuc/4K6MvFv15j/KQ64fvzrmP6Un4Gz8YuU/YHnEnPZu5D8aYwhjrl/jPxrpWSBBNuI/xEkztufz4D9geG976jPfP8CV90WrU9w/vBVhTBhK2T8G0YiIYxrWP+omTBHnx9I/Yoi4J0Oszj/G1yhNZZHHP7alYvKtRsA/OimwmZGnsT8gC2VjvQiEP+Y4OsdDrKm/8HX0zvdNvL/8//8/EuvFvwQAAEAS68W/CMWFmCivzb/juBjHibXSv1koGytYi9a/TgpspvZU2r/bUjE5aQ7ev/I1SnPi2eC/GCLu6Zmg4r91E6aofFnkv4NoROS6Aua/3oowRpWa57/gyvvCXh/pvzC8t11+j+q/xEkz1nDp678a6VlAyivtvxpjCIM3Ve6/YHnEvH9k77/SE3DGQizwv+Uh1x8kmPC/cFdGbnL18L9+AlSKy0PxvxvQvgjdgvG/BlkhkWSy8b+2BL0jMNLxv4LXEk4e4vG/gtcSTh7i8b+2BL0jMNLxvwZZIZFksvG/G9C+CN2C8b9+AlSKy0Pxv3BXRm5y9fC/5CHXHySY8L/SE3DGQizwv195xLx/ZO+/GWMIgzdV7r8a6VlAyivtv8JJM9Zw6eu/L7y3XX6P6r/dyvvCXh/pv9yKMEaVmue/f2hE5LoC5r9zE6aofFnkvxgi7umZoOK/7jVKc+LZ4L/XUjE5aQ7ev0cKbKb2VNq/VCgbK1iL1r/buBjHibXSv/3EhZgor82/AAAAQBLrxb8=\",\"dtype\":\"float64\",\"shape\":[100]}},\"selected\":{\"id\":\"1419\",\"type\":\"Selection\"},\"selection_policy\":{\"id\":\"1420\",\"type\":\"UnionRenderers\"}},\"id\":\"1366\",\"type\":\"ColumnDataSource\"},{\"attributes\":{\"overlay\":{\"id\":\"1339\",\"type\":\"BoxAnnotation\"}},\"id\":\"1333\",\"type\":\"BoxZoomTool\"},{\"attributes\":{},\"id\":\"1411\",\"type\":\"Selection\"},{\"attributes\":{\"fill_alpha\":{\"value\":0.1},\"fill_color\":{\"value\":\"#1f77b4\"},\"line_alpha\":{\"value\":0.1},\"line_color\":{\"value\":\"#1f77b4\"},\"x\":{\"field\":\"x\"},\"y\":{\"field\":\"y\"}},\"id\":\"1348\",\"type\":\"Circle\"},{\"attributes\":{\"fill_alpha\":0.3,\"fill_color\":\"#98AFC7\",\"x\":{\"field\":\"x\"},\"y\":{\"field\":\"y\"}},\"id\":\"1367\",\"type\":\"Patch\"},{\"attributes\":{},\"id\":\"1334\",\"type\":\"SaveTool\"},{\"attributes\":{},\"id\":\"1412\",\"type\":\"UnionRenderers\"},{\"attributes\":{\"fill_alpha\":0.1,\"fill_color\":\"#1f77b4\",\"line_alpha\":0.1,\"line_color\":\"#1f77b4\",\"x\":{\"field\":\"x\"},\"y\":{\"field\":\"y\"}},\"id\":\"1368\",\"type\":\"Patch\"},{\"attributes\":{},\"id\":\"1335\",\"type\":\"ResetTool\"},{\"attributes\":{},\"id\":\"1413\",\"type\":\"Selection\"},{\"attributes\":{\"data_source\":{\"id\":\"1366\",\"type\":\"ColumnDataSource\"},\"glyph\":{\"id\":\"1367\",\"type\":\"Patch\"},\"hover_glyph\":null,\"muted_glyph\":null,\"nonselection_glyph\":{\"id\":\"1368\",\"type\":\"Patch\"},\"selection_glyph\":null,\"view\":{\"id\":\"1370\",\"type\":\"CDSView\"}},\"id\":\"1369\",\"type\":\"GlyphRenderer\"},{\"attributes\":{\"callback\":null,\"data\":{\"x\":{\"__ndarray__\":\"1nEhetP137+IYzbKbJbdv+Ult/m+QOm/dhluoTDL9T9OMA01hmnpv0vGUDOvtPi/lfuY7x+k9r9ulgHdcvTmvwVuA/EvIRHAbjC1LK7B/L9lIrkizRrwP7Ye9MSxBf2/HTk/1w+AA8BR8yekANLkvwnliSAQ2du/Sj4/6HaL2L88c5D3PLT9P2wRX1NH0wjAf53/JPe9+78BBboUo2f1v8C8Oatzm/c/b0YWhOJe2r8CMB5xPVfzPwrFkYUk9vK/cGm80pHGqb9yxn3/JQu7P+ehDzGFswbAM+hVLu4B0r8BWoHkznEEQNmvClCK6ARAwk9cyi2D9r85C9enlN/nvxrQID3Ff+s/flvB5YuN77/HLWF2wecEQDMbw7y9gM4/bbWmV3s+6b/O2KJFqXXuP93/uLZS9gDAWH4Ax7pI6r+EXahQ8bXOPwgn+ZWuXvQ/toV/qjxx4j/RN8zUrfcBwLNrHB33h9y/wV0t4hQd+r+/DqUt2OvYv2TfyoC8VP6/zpPfLMtx978w4lCD0aOjP+OpeHb3w84/amjM2WCtBEAtSkzjmJTzP7NO8/ZdywBAXnhktPGh0T+plOlez4jtvwBwp5dv8Qk/eBDQqYsP4b9OR50nQanSv+ohqrJE2vE/FwB4BQ5rvD9BHw9GkSgDwGg3KxpFagLAxOOsL8u65r/28XtNJu74PwZX7y8pvvO/SqoVj8LLCkAqbESEZSKkvw6WI4N9tvu/IC7sM8W5kT/dZinZ3tf3v1pKM2Kqnty/dAN1tdy+7j9HkbHjx9f2P6JeWLLAMdM/1YpEHWwUAECWkh8hmk7oP47fiOovb9M/LxKU8s6b/r/G/KxB1urdv27QaYEnnwbAzN7xn/UE6T9n+h6iAiP6P5PwcTIIV+Y/TkaHyvew7L9nGMhBe3r6P8cdYh+6ubK/ZEZoYsLyy79CN1bJ86jfPyzx0bI5isc/ZOIdSZCP0D94BumszcPyv94acivEpfG/fM/4aIbgEMCiai3XbRbdv+5sviEYLgPAKAxVRfNv5b9c8acgq/X6vwLPuLmNKcO/3tv9rSqe4r8=\",\"dtype\":\"float64\",\"shape\":[100]},\"y\":{\"__ndarray__\":\"VGe9r1jH8L+GHeGO8NHbv1WrMVPTI/Q/Zvg4fTjd+D9kjuZuAP3uv5IdbUxOOeG/7tUtZrkl1L8SpTzIB0HYP3Ald9+K4gHAAU7KdeMo878wGO+f34iXv+ZfBNa/JPC/JuxPqC+N3L8Lrn/+i8fTPyKFQDPIf+y/WIJHowCPyj+V0i5GjpPtPwIbf10pePe/I3m04U7f2L9Umyksl1r0v70+bvZdiPE/v5qN2EQjur+wofbu6xHpP+Tjv/gpUQHAZiB6OllB9z89KQOx1xSnv2tBNMRaufO/MkZsevLc3T8Kpie0A4zuP0Af7Z9mg5q/ufWxM9wFAcDZ7QMZ2AjWv5bESWklocS/+L/OtygPrr/c642u+cTvP6yj/6g//ua/1KVKLAoa4r9hdwVTRT7XvzUOBLidfPC/pN7XaaqIwD8SQj2FOyXrP9rrWotbEOw/oMtPcHhdlz9wbPQYE9UDwKGYMkeE99G/sTtLK9rH7r+Z9Q+DuUznPwmX2VFPYO+/amobwR0G4z8W4DHQpe7iv2oiMqS5U+2/DH7+UpbEzT8YAT6gEVLtP9iN7X9opeg/LPDZnm7mvD/WAYZ9C2vbv7ToKJ/blNg/PMYztjikqz/8sYcK1ozmv/jd6zzC+9M/mlYjxRiHrT88kzT8DJvbv4xsuKLK2ve/HADKDm/nsj92FEkQKC3zP/DRvOmK1+m/18CP3Gi79T8Scx8Rmw3Fv367JnhbyeK/XOkT4Ap93z+rwGEPnnPRv+GnHEqMtME/hiCxccUc5j8ofTaQZdLrP1lpYqlUf8c/OOf7To19vr8ePcDnLmXpP/arQiPDY+I/sjmtOz0K0L/mKN4cnEW1vyzPK6Xo7fm/Fjh7mtTT8z9n9pc2sArtP0qy5Uxmy/2/eYTCGvER5D8Oe6R1y5f3Pz2Rafj1sNY/iOvx/5pk2T90gaAyQEjzP4p60iw8YL2/hE+L9OsU+b8cnPLJlLH2v0aZHr3NaOQ/KAHPYlrW/L8CUbb2cHHgvxCVPCWNfPy/UhVJNiDG7r8qLYkpITH6vwVS0dzsu9k/6V1FpdVB9b8=\",\"dtype\":\"float64\",\"shape\":[100]}},\"selected\":{\"id\":\"1411\",\"type\":\"Selection\"},\"selection_policy\":{\"id\":\"1412\",\"type\":\"UnionRenderers\"}},\"id\":\"1346\",\"type\":\"ColumnDataSource\"},{\"attributes\":{},\"id\":\"1336\",\"type\":\"HelpTool\"},{\"attributes\":{\"data_source\":{\"id\":\"1346\",\"type\":\"ColumnDataSource\"},\"glyph\":{\"id\":\"1347\",\"type\":\"Circle\"},\"hover_glyph\":null,\"muted_glyph\":null,\"nonselection_glyph\":{\"id\":\"1348\",\"type\":\"Circle\"},\"selection_glyph\":null,\"view\":{\"id\":\"1350\",\"type\":\"CDSView\"}},\"id\":\"1349\",\"type\":\"GlyphRenderer\"},{\"attributes\":{},\"id\":\"1414\",\"type\":\"UnionRenderers\"},{\"attributes\":{\"callback\":null,\"end\":5,\"start\":-5},\"id\":\"1313\",\"type\":\"Range1d\"},{\"attributes\":{\"active_drag\":\"auto\",\"active_inspect\":\"auto\",\"active_multi\":null,\"active_scroll\":\"auto\",\"active_tap\":\"auto\",\"tools\":[{\"id\":\"1331\",\"type\":\"PanTool\"},{\"id\":\"1332\",\"type\":\"WheelZoomTool\"},{\"id\":\"1333\",\"type\":\"BoxZoomTool\"},{\"id\":\"1334\",\"type\":\"SaveTool\"},{\"id\":\"1335\",\"type\":\"ResetTool\"},{\"id\":\"1336\",\"type\":\"HelpTool\"}]},\"id\":\"1337\",\"type\":\"Toolbar\"},{\"attributes\":{\"source\":{\"id\":\"1366\",\"type\":\"ColumnDataSource\"}},\"id\":\"1370\",\"type\":\"CDSView\"},{\"attributes\":{\"source\":{\"id\":\"1346\",\"type\":\"ColumnDataSource\"}},\"id\":\"1350\",\"type\":\"CDSView\"},{\"attributes\":{},\"id\":\"1415\",\"type\":\"Selection\"},{\"attributes\":{\"fill_alpha\":0.1,\"fill_color\":\"#1f77b4\",\"line_alpha\":0.1,\"line_color\":\"#1f77b4\",\"x\":{\"field\":\"x\"},\"y\":{\"field\":\"y\"}},\"id\":\"1353\",\"type\":\"Patch\"},{\"attributes\":{\"callback\":null,\"end\":5,\"start\":-5},\"id\":\"1315\",\"type\":\"Range1d\"},{\"attributes\":{},\"id\":\"1416\",\"type\":\"UnionRenderers\"},{\"attributes\":{\"bottom_units\":\"screen\",\"fill_alpha\":{\"value\":0.5},\"fill_color\":{\"value\":\"lightgrey\"},\"left_units\":\"screen\",\"level\":\"overlay\",\"line_alpha\":{\"value\":1.0},\"line_color\":{\"value\":\"black\"},\"line_dash\":[4,4],\"line_width\":{\"value\":2},\"plot\":null,\"render_mode\":\"css\",\"right_units\":\"screen\",\"top_units\":\"screen\"},\"id\":\"1339\",\"type\":\"BoxAnnotation\"},{\"attributes\":{},\"id\":\"1317\",\"type\":\"LinearScale\"},{\"attributes\":{},\"id\":\"1417\",\"type\":\"Selection\"},{\"attributes\":{\"data_source\":{\"id\":\"1351\",\"type\":\"ColumnDataSource\"},\"glyph\":{\"id\":\"1352\",\"type\":\"Patch\"},\"hover_glyph\":null,\"muted_glyph\":null,\"nonselection_glyph\":{\"id\":\"1353\",\"type\":\"Patch\"},\"selection_glyph\":null,\"view\":{\"id\":\"1355\",\"type\":\"CDSView\"}},\"id\":\"1354\",\"type\":\"GlyphRenderer\"},{\"attributes\":{},\"id\":\"1319\",\"type\":\"LinearScale\"}],\"root_ids\":[\"1312\"]},\"title\":\"Bokeh Application\",\"version\":\"1.0.0\"}};\n",
       "  var render_items = [{\"docid\":\"aef321b5-d1de-43ef-bc76-909c86f53cb1\",\"roots\":{\"1312\":\"2cecbd63-33a2-43bc-b758-6674fc610388\"}}];\n",
       "  root.Bokeh.embed.embed_items_notebook(docs_json, render_items);\n",
       "\n",
       "  }\n",
       "  if (root.Bokeh !== undefined) {\n",
       "    embed_document(root);\n",
       "  } else {\n",
       "    var attempts = 0;\n",
       "    var timer = setInterval(function(root) {\n",
       "      if (root.Bokeh !== undefined) {\n",
       "        embed_document(root);\n",
       "        clearInterval(timer);\n",
       "      }\n",
       "      attempts++;\n",
       "      if (attempts > 100) {\n",
       "        console.log(\"Bokeh: ERROR: Unable to run BokehJS code because BokehJS library is missing\");\n",
       "        clearInterval(timer);\n",
       "      }\n",
       "    }, 10, root)\n",
       "  }\n",
       "})(window);"
      ],
      "application/vnd.bokehjs_exec.v0+json": ""
     },
     "metadata": {
      "application/vnd.bokehjs_exec.v0+json": {
       "id": "1312"
      }
     },
     "output_type": "display_data"
    }
   ],
   "source": [
    "fig = figure(\n",
    "    width=400,\n",
    "    height=400,\n",
    "    x_range=(-5, 5),\n",
    "    y_range=(-5, 5)\n",
    ")\n",
    "fig.circle(data[:, 0], data[:, 1])\n",
    "\n",
    "mean, precision = normal_iso.mean_precision.value()\n",
    "cov = torch.eye(2) / precision\n",
    "plotting.plot_normal(fig, mean.numpy(), cov.numpy(), \n",
    "                     line_color='black', fill_alpha=.3, color='green')\n",
    "\n",
    "mean, precision = normal_diag.mean_precision.value()\n",
    "cov = (1/precision).diag()\n",
    "plotting.plot_normal(fig, mean.numpy(), cov.numpy(), \n",
    "                     line_color='black', fill_alpha=.3, color='#98AFC7')\n",
    "\n",
    "mean, precision = normal_full.mean_precision.value()\n",
    "cov = precision.inverse()\n",
    "plotting.plot_normal(fig, mean.numpy(), cov.numpy(), \n",
    "                     line_color='black', fill_alpha=.3, color='#C7B097')\n",
    "\n",
    "show(fig)"
   ]
  },
  {
   "cell_type": "code",
   "execution_count": null,
   "metadata": {},
   "outputs": [],
   "source": []
  }
 ],
 "metadata": {
  "kernelspec": {
   "display_name": "Python 3",
   "language": "python",
   "name": "python3"
  },
  "language_info": {
   "codemirror_mode": {
    "name": "ipython",
    "version": 3
   },
   "file_extension": ".py",
   "mimetype": "text/x-python",
   "name": "python",
   "nbconvert_exporter": "python",
   "pygments_lexer": "ipython3",
   "version": "3.7.2"
  }
 },
 "nbformat": 4,
 "nbformat_minor": 2
}
