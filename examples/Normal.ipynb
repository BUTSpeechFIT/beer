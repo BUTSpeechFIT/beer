{
 "cells": [
  {
   "cell_type": "markdown",
   "metadata": {},
   "source": [
    "# Bayesian Model\n",
    "\n",
    "This notebook illustrate how to use a Bayesian Normal density model with the [beer framework](https://github.com/beer-asr/beer). The Normal distribution is a fairly basic models but it is used extenslively in other model as a basic building block."
   ]
  },
  {
   "cell_type": "code",
   "execution_count": 1,
   "metadata": {},
   "outputs": [
    {
     "data": {
      "text/html": [
       "\n",
       "    <div class=\"bk-root\">\n",
       "        <a href=\"https://bokeh.pydata.org\" target=\"_blank\" class=\"bk-logo bk-logo-small bk-logo-notebook\"></a>\n",
       "        <span id=\"1001\">Loading BokehJS ...</span>\n",
       "    </div>"
      ]
     },
     "metadata": {},
     "output_type": "display_data"
    },
    {
     "data": {
      "application/javascript": [
       "\n",
       "(function(root) {\n",
       "  function now() {\n",
       "    return new Date();\n",
       "  }\n",
       "\n",
       "  var force = true;\n",
       "\n",
       "  if (typeof (root._bokeh_onload_callbacks) === \"undefined\" || force === true) {\n",
       "    root._bokeh_onload_callbacks = [];\n",
       "    root._bokeh_is_loading = undefined;\n",
       "  }\n",
       "\n",
       "  var JS_MIME_TYPE = 'application/javascript';\n",
       "  var HTML_MIME_TYPE = 'text/html';\n",
       "  var EXEC_MIME_TYPE = 'application/vnd.bokehjs_exec.v0+json';\n",
       "  var CLASS_NAME = 'output_bokeh rendered_html';\n",
       "\n",
       "  /**\n",
       "   * Render data to the DOM node\n",
       "   */\n",
       "  function render(props, node) {\n",
       "    var script = document.createElement(\"script\");\n",
       "    node.appendChild(script);\n",
       "  }\n",
       "\n",
       "  /**\n",
       "   * Handle when an output is cleared or removed\n",
       "   */\n",
       "  function handleClearOutput(event, handle) {\n",
       "    var cell = handle.cell;\n",
       "\n",
       "    var id = cell.output_area._bokeh_element_id;\n",
       "    var server_id = cell.output_area._bokeh_server_id;\n",
       "    // Clean up Bokeh references\n",
       "    if (id != null && id in Bokeh.index) {\n",
       "      Bokeh.index[id].model.document.clear();\n",
       "      delete Bokeh.index[id];\n",
       "    }\n",
       "\n",
       "    if (server_id !== undefined) {\n",
       "      // Clean up Bokeh references\n",
       "      var cmd = \"from bokeh.io.state import curstate; print(curstate().uuid_to_server['\" + server_id + \"'].get_sessions()[0].document.roots[0]._id)\";\n",
       "      cell.notebook.kernel.execute(cmd, {\n",
       "        iopub: {\n",
       "          output: function(msg) {\n",
       "            var id = msg.content.text.trim();\n",
       "            if (id in Bokeh.index) {\n",
       "              Bokeh.index[id].model.document.clear();\n",
       "              delete Bokeh.index[id];\n",
       "            }\n",
       "          }\n",
       "        }\n",
       "      });\n",
       "      // Destroy server and session\n",
       "      var cmd = \"import bokeh.io.notebook as ion; ion.destroy_server('\" + server_id + \"')\";\n",
       "      cell.notebook.kernel.execute(cmd);\n",
       "    }\n",
       "  }\n",
       "\n",
       "  /**\n",
       "   * Handle when a new output is added\n",
       "   */\n",
       "  function handleAddOutput(event, handle) {\n",
       "    var output_area = handle.output_area;\n",
       "    var output = handle.output;\n",
       "\n",
       "    // limit handleAddOutput to display_data with EXEC_MIME_TYPE content only\n",
       "    if ((output.output_type != \"display_data\") || (!output.data.hasOwnProperty(EXEC_MIME_TYPE))) {\n",
       "      return\n",
       "    }\n",
       "\n",
       "    var toinsert = output_area.element.find(\".\" + CLASS_NAME.split(' ')[0]);\n",
       "\n",
       "    if (output.metadata[EXEC_MIME_TYPE][\"id\"] !== undefined) {\n",
       "      toinsert[toinsert.length - 1].firstChild.textContent = output.data[JS_MIME_TYPE];\n",
       "      // store reference to embed id on output_area\n",
       "      output_area._bokeh_element_id = output.metadata[EXEC_MIME_TYPE][\"id\"];\n",
       "    }\n",
       "    if (output.metadata[EXEC_MIME_TYPE][\"server_id\"] !== undefined) {\n",
       "      var bk_div = document.createElement(\"div\");\n",
       "      bk_div.innerHTML = output.data[HTML_MIME_TYPE];\n",
       "      var script_attrs = bk_div.children[0].attributes;\n",
       "      for (var i = 0; i < script_attrs.length; i++) {\n",
       "        toinsert[toinsert.length - 1].firstChild.setAttribute(script_attrs[i].name, script_attrs[i].value);\n",
       "      }\n",
       "      // store reference to server id on output_area\n",
       "      output_area._bokeh_server_id = output.metadata[EXEC_MIME_TYPE][\"server_id\"];\n",
       "    }\n",
       "  }\n",
       "\n",
       "  function register_renderer(events, OutputArea) {\n",
       "\n",
       "    function append_mime(data, metadata, element) {\n",
       "      // create a DOM node to render to\n",
       "      var toinsert = this.create_output_subarea(\n",
       "        metadata,\n",
       "        CLASS_NAME,\n",
       "        EXEC_MIME_TYPE\n",
       "      );\n",
       "      this.keyboard_manager.register_events(toinsert);\n",
       "      // Render to node\n",
       "      var props = {data: data, metadata: metadata[EXEC_MIME_TYPE]};\n",
       "      render(props, toinsert[toinsert.length - 1]);\n",
       "      element.append(toinsert);\n",
       "      return toinsert\n",
       "    }\n",
       "\n",
       "    /* Handle when an output is cleared or removed */\n",
       "    events.on('clear_output.CodeCell', handleClearOutput);\n",
       "    events.on('delete.Cell', handleClearOutput);\n",
       "\n",
       "    /* Handle when a new output is added */\n",
       "    events.on('output_added.OutputArea', handleAddOutput);\n",
       "\n",
       "    /**\n",
       "     * Register the mime type and append_mime function with output_area\n",
       "     */\n",
       "    OutputArea.prototype.register_mime_type(EXEC_MIME_TYPE, append_mime, {\n",
       "      /* Is output safe? */\n",
       "      safe: true,\n",
       "      /* Index of renderer in `output_area.display_order` */\n",
       "      index: 0\n",
       "    });\n",
       "  }\n",
       "\n",
       "  // register the mime type if in Jupyter Notebook environment and previously unregistered\n",
       "  if (root.Jupyter !== undefined) {\n",
       "    var events = require('base/js/events');\n",
       "    var OutputArea = require('notebook/js/outputarea').OutputArea;\n",
       "\n",
       "    if (OutputArea.prototype.mime_types().indexOf(EXEC_MIME_TYPE) == -1) {\n",
       "      register_renderer(events, OutputArea);\n",
       "    }\n",
       "  }\n",
       "\n",
       "  \n",
       "  if (typeof (root._bokeh_timeout) === \"undefined\" || force === true) {\n",
       "    root._bokeh_timeout = Date.now() + 5000;\n",
       "    root._bokeh_failed_load = false;\n",
       "  }\n",
       "\n",
       "  var NB_LOAD_WARNING = {'data': {'text/html':\n",
       "     \"<div style='background-color: #fdd'>\\n\"+\n",
       "     \"<p>\\n\"+\n",
       "     \"BokehJS does not appear to have successfully loaded. If loading BokehJS from CDN, this \\n\"+\n",
       "     \"may be due to a slow or bad network connection. Possible fixes:\\n\"+\n",
       "     \"</p>\\n\"+\n",
       "     \"<ul>\\n\"+\n",
       "     \"<li>re-rerun `output_notebook()` to attempt to load from CDN again, or</li>\\n\"+\n",
       "     \"<li>use INLINE resources instead, as so:</li>\\n\"+\n",
       "     \"</ul>\\n\"+\n",
       "     \"<code>\\n\"+\n",
       "     \"from bokeh.resources import INLINE\\n\"+\n",
       "     \"output_notebook(resources=INLINE)\\n\"+\n",
       "     \"</code>\\n\"+\n",
       "     \"</div>\"}};\n",
       "\n",
       "  function display_loaded() {\n",
       "    var el = document.getElementById(\"1001\");\n",
       "    if (el != null) {\n",
       "      el.textContent = \"BokehJS is loading...\";\n",
       "    }\n",
       "    if (root.Bokeh !== undefined) {\n",
       "      if (el != null) {\n",
       "        el.textContent = \"BokehJS \" + root.Bokeh.version + \" successfully loaded.\";\n",
       "      }\n",
       "    } else if (Date.now() < root._bokeh_timeout) {\n",
       "      setTimeout(display_loaded, 100)\n",
       "    }\n",
       "  }\n",
       "\n",
       "\n",
       "  function run_callbacks() {\n",
       "    try {\n",
       "      root._bokeh_onload_callbacks.forEach(function(callback) { callback() });\n",
       "    }\n",
       "    finally {\n",
       "      delete root._bokeh_onload_callbacks\n",
       "    }\n",
       "    console.info(\"Bokeh: all callbacks have finished\");\n",
       "  }\n",
       "\n",
       "  function load_libs(js_urls, callback) {\n",
       "    root._bokeh_onload_callbacks.push(callback);\n",
       "    if (root._bokeh_is_loading > 0) {\n",
       "      console.log(\"Bokeh: BokehJS is being loaded, scheduling callback at\", now());\n",
       "      return null;\n",
       "    }\n",
       "    if (js_urls == null || js_urls.length === 0) {\n",
       "      run_callbacks();\n",
       "      return null;\n",
       "    }\n",
       "    console.log(\"Bokeh: BokehJS not loaded, scheduling load and callback at\", now());\n",
       "    root._bokeh_is_loading = js_urls.length;\n",
       "    for (var i = 0; i < js_urls.length; i++) {\n",
       "      var url = js_urls[i];\n",
       "      var s = document.createElement('script');\n",
       "      s.src = url;\n",
       "      s.async = false;\n",
       "      s.onreadystatechange = s.onload = function() {\n",
       "        root._bokeh_is_loading--;\n",
       "        if (root._bokeh_is_loading === 0) {\n",
       "          console.log(\"Bokeh: all BokehJS libraries loaded\");\n",
       "          run_callbacks()\n",
       "        }\n",
       "      };\n",
       "      s.onerror = function() {\n",
       "        console.warn(\"failed to load library \" + url);\n",
       "      };\n",
       "      console.log(\"Bokeh: injecting script tag for BokehJS library: \", url);\n",
       "      document.getElementsByTagName(\"head\")[0].appendChild(s);\n",
       "    }\n",
       "  };var element = document.getElementById(\"1001\");\n",
       "  if (element == null) {\n",
       "    console.log(\"Bokeh: ERROR: autoload.js configured with elementid '1001' but no matching script tag was found. \")\n",
       "    return false;\n",
       "  }\n",
       "\n",
       "  var js_urls = [\"https://cdn.pydata.org/bokeh/release/bokeh-1.0.0.min.js\", \"https://cdn.pydata.org/bokeh/release/bokeh-widgets-1.0.0.min.js\", \"https://cdn.pydata.org/bokeh/release/bokeh-tables-1.0.0.min.js\", \"https://cdn.pydata.org/bokeh/release/bokeh-gl-1.0.0.min.js\"];\n",
       "\n",
       "  var inline_js = [\n",
       "    function(Bokeh) {\n",
       "      Bokeh.set_log_level(\"info\");\n",
       "    },\n",
       "    \n",
       "    function(Bokeh) {\n",
       "      \n",
       "    },\n",
       "    function(Bokeh) {\n",
       "      console.log(\"Bokeh: injecting CSS: https://cdn.pydata.org/bokeh/release/bokeh-1.0.0.min.css\");\n",
       "      Bokeh.embed.inject_css(\"https://cdn.pydata.org/bokeh/release/bokeh-1.0.0.min.css\");\n",
       "      console.log(\"Bokeh: injecting CSS: https://cdn.pydata.org/bokeh/release/bokeh-widgets-1.0.0.min.css\");\n",
       "      Bokeh.embed.inject_css(\"https://cdn.pydata.org/bokeh/release/bokeh-widgets-1.0.0.min.css\");\n",
       "      console.log(\"Bokeh: injecting CSS: https://cdn.pydata.org/bokeh/release/bokeh-tables-1.0.0.min.css\");\n",
       "      Bokeh.embed.inject_css(\"https://cdn.pydata.org/bokeh/release/bokeh-tables-1.0.0.min.css\");\n",
       "    }\n",
       "  ];\n",
       "\n",
       "  function run_inline_js() {\n",
       "    \n",
       "    if ((root.Bokeh !== undefined) || (force === true)) {\n",
       "      for (var i = 0; i < inline_js.length; i++) {\n",
       "        inline_js[i].call(root, root.Bokeh);\n",
       "      }if (force === true) {\n",
       "        display_loaded();\n",
       "      }} else if (Date.now() < root._bokeh_timeout) {\n",
       "      setTimeout(run_inline_js, 100);\n",
       "    } else if (!root._bokeh_failed_load) {\n",
       "      console.log(\"Bokeh: BokehJS failed to load within specified timeout.\");\n",
       "      root._bokeh_failed_load = true;\n",
       "    } else if (force !== true) {\n",
       "      var cell = $(document.getElementById(\"1001\")).parents('.cell').data().cell;\n",
       "      cell.output_area.append_execute_result(NB_LOAD_WARNING)\n",
       "    }\n",
       "\n",
       "  }\n",
       "\n",
       "  if (root._bokeh_is_loading === 0) {\n",
       "    console.log(\"Bokeh: BokehJS loaded, going straight to plotting\");\n",
       "    run_inline_js();\n",
       "  } else {\n",
       "    load_libs(js_urls, function() {\n",
       "      console.log(\"Bokeh: BokehJS plotting callback run at\", now());\n",
       "      run_inline_js();\n",
       "    });\n",
       "  }\n",
       "}(window));"
      ],
      "application/vnd.bokehjs_load.v0+json": "\n(function(root) {\n  function now() {\n    return new Date();\n  }\n\n  var force = true;\n\n  if (typeof (root._bokeh_onload_callbacks) === \"undefined\" || force === true) {\n    root._bokeh_onload_callbacks = [];\n    root._bokeh_is_loading = undefined;\n  }\n\n  \n\n  \n  if (typeof (root._bokeh_timeout) === \"undefined\" || force === true) {\n    root._bokeh_timeout = Date.now() + 5000;\n    root._bokeh_failed_load = false;\n  }\n\n  var NB_LOAD_WARNING = {'data': {'text/html':\n     \"<div style='background-color: #fdd'>\\n\"+\n     \"<p>\\n\"+\n     \"BokehJS does not appear to have successfully loaded. If loading BokehJS from CDN, this \\n\"+\n     \"may be due to a slow or bad network connection. Possible fixes:\\n\"+\n     \"</p>\\n\"+\n     \"<ul>\\n\"+\n     \"<li>re-rerun `output_notebook()` to attempt to load from CDN again, or</li>\\n\"+\n     \"<li>use INLINE resources instead, as so:</li>\\n\"+\n     \"</ul>\\n\"+\n     \"<code>\\n\"+\n     \"from bokeh.resources import INLINE\\n\"+\n     \"output_notebook(resources=INLINE)\\n\"+\n     \"</code>\\n\"+\n     \"</div>\"}};\n\n  function display_loaded() {\n    var el = document.getElementById(\"1001\");\n    if (el != null) {\n      el.textContent = \"BokehJS is loading...\";\n    }\n    if (root.Bokeh !== undefined) {\n      if (el != null) {\n        el.textContent = \"BokehJS \" + root.Bokeh.version + \" successfully loaded.\";\n      }\n    } else if (Date.now() < root._bokeh_timeout) {\n      setTimeout(display_loaded, 100)\n    }\n  }\n\n\n  function run_callbacks() {\n    try {\n      root._bokeh_onload_callbacks.forEach(function(callback) { callback() });\n    }\n    finally {\n      delete root._bokeh_onload_callbacks\n    }\n    console.info(\"Bokeh: all callbacks have finished\");\n  }\n\n  function load_libs(js_urls, callback) {\n    root._bokeh_onload_callbacks.push(callback);\n    if (root._bokeh_is_loading > 0) {\n      console.log(\"Bokeh: BokehJS is being loaded, scheduling callback at\", now());\n      return null;\n    }\n    if (js_urls == null || js_urls.length === 0) {\n      run_callbacks();\n      return null;\n    }\n    console.log(\"Bokeh: BokehJS not loaded, scheduling load and callback at\", now());\n    root._bokeh_is_loading = js_urls.length;\n    for (var i = 0; i < js_urls.length; i++) {\n      var url = js_urls[i];\n      var s = document.createElement('script');\n      s.src = url;\n      s.async = false;\n      s.onreadystatechange = s.onload = function() {\n        root._bokeh_is_loading--;\n        if (root._bokeh_is_loading === 0) {\n          console.log(\"Bokeh: all BokehJS libraries loaded\");\n          run_callbacks()\n        }\n      };\n      s.onerror = function() {\n        console.warn(\"failed to load library \" + url);\n      };\n      console.log(\"Bokeh: injecting script tag for BokehJS library: \", url);\n      document.getElementsByTagName(\"head\")[0].appendChild(s);\n    }\n  };var element = document.getElementById(\"1001\");\n  if (element == null) {\n    console.log(\"Bokeh: ERROR: autoload.js configured with elementid '1001' but no matching script tag was found. \")\n    return false;\n  }\n\n  var js_urls = [\"https://cdn.pydata.org/bokeh/release/bokeh-1.0.0.min.js\", \"https://cdn.pydata.org/bokeh/release/bokeh-widgets-1.0.0.min.js\", \"https://cdn.pydata.org/bokeh/release/bokeh-tables-1.0.0.min.js\", \"https://cdn.pydata.org/bokeh/release/bokeh-gl-1.0.0.min.js\"];\n\n  var inline_js = [\n    function(Bokeh) {\n      Bokeh.set_log_level(\"info\");\n    },\n    \n    function(Bokeh) {\n      \n    },\n    function(Bokeh) {\n      console.log(\"Bokeh: injecting CSS: https://cdn.pydata.org/bokeh/release/bokeh-1.0.0.min.css\");\n      Bokeh.embed.inject_css(\"https://cdn.pydata.org/bokeh/release/bokeh-1.0.0.min.css\");\n      console.log(\"Bokeh: injecting CSS: https://cdn.pydata.org/bokeh/release/bokeh-widgets-1.0.0.min.css\");\n      Bokeh.embed.inject_css(\"https://cdn.pydata.org/bokeh/release/bokeh-widgets-1.0.0.min.css\");\n      console.log(\"Bokeh: injecting CSS: https://cdn.pydata.org/bokeh/release/bokeh-tables-1.0.0.min.css\");\n      Bokeh.embed.inject_css(\"https://cdn.pydata.org/bokeh/release/bokeh-tables-1.0.0.min.css\");\n    }\n  ];\n\n  function run_inline_js() {\n    \n    if ((root.Bokeh !== undefined) || (force === true)) {\n      for (var i = 0; i < inline_js.length; i++) {\n        inline_js[i].call(root, root.Bokeh);\n      }if (force === true) {\n        display_loaded();\n      }} else if (Date.now() < root._bokeh_timeout) {\n      setTimeout(run_inline_js, 100);\n    } else if (!root._bokeh_failed_load) {\n      console.log(\"Bokeh: BokehJS failed to load within specified timeout.\");\n      root._bokeh_failed_load = true;\n    } else if (force !== true) {\n      var cell = $(document.getElementById(\"1001\")).parents('.cell').data().cell;\n      cell.output_area.append_execute_result(NB_LOAD_WARNING)\n    }\n\n  }\n\n  if (root._bokeh_is_loading === 0) {\n    console.log(\"Bokeh: BokehJS loaded, going straight to plotting\");\n    run_inline_js();\n  } else {\n    load_libs(js_urls, function() {\n      console.log(\"Bokeh: BokehJS plotting callback run at\", now());\n      run_inline_js();\n    });\n  }\n}(window));"
     },
     "metadata": {},
     "output_type": "display_data"
    }
   ],
   "source": [
    "# Add \"beer\" to the PYTHONPATH\n",
    "import random\n",
    "from collections import defaultdict\n",
    "import sys\n",
    "sys.path.insert(0, '../')\n",
    "\n",
    "\n",
    "import beer\n",
    "import numpy as np\n",
    "import torch\n",
    "\n",
    "# For plotting.\n",
    "from bokeh.io import show, output_notebook\n",
    "from bokeh.plotting import figure, gridplot\n",
    "output_notebook()\n",
    "\n",
    "# Convenience functions for plotting.\n",
    "import plotting\n",
    "\n",
    "%load_ext autoreload\n",
    "%autoreload 2"
   ]
  },
  {
   "cell_type": "markdown",
   "metadata": {},
   "source": [
    "## Data\n",
    "\n",
    "Generate some normally distributed data:"
   ]
  },
  {
   "cell_type": "code",
   "execution_count": 2,
   "metadata": {},
   "outputs": [
    {
     "data": {
      "text/html": [
       "\n",
       "\n",
       "\n",
       "\n",
       "\n",
       "\n",
       "  <div class=\"bk-root\" id=\"1cd52796-085b-442e-9ef9-764ba9fce40b\"></div>\n"
      ]
     },
     "metadata": {},
     "output_type": "display_data"
    },
    {
     "data": {
      "application/javascript": [
       "(function(root) {\n",
       "  function embed_document(root) {\n",
       "    \n",
       "  var docs_json = {\"632f4903-19e0-479c-822b-ae9598faa187\":{\"roots\":{\"references\":[{\"attributes\":{\"below\":[{\"id\":\"1013\",\"type\":\"LinearAxis\"}],\"left\":[{\"id\":\"1018\",\"type\":\"LinearAxis\"}],\"plot_height\":400,\"plot_width\":400,\"renderers\":[{\"id\":\"1013\",\"type\":\"LinearAxis\"},{\"id\":\"1017\",\"type\":\"Grid\"},{\"id\":\"1018\",\"type\":\"LinearAxis\"},{\"id\":\"1022\",\"type\":\"Grid\"},{\"id\":\"1031\",\"type\":\"BoxAnnotation\"},{\"id\":\"1041\",\"type\":\"GlyphRenderer\"},{\"id\":\"1046\",\"type\":\"GlyphRenderer\"},{\"id\":\"1051\",\"type\":\"GlyphRenderer\"}],\"title\":{\"id\":\"1002\",\"type\":\"Title\"},\"toolbar\":{\"id\":\"1029\",\"type\":\"Toolbar\"},\"x_range\":{\"id\":\"1005\",\"type\":\"Range1d\"},\"x_scale\":{\"id\":\"1009\",\"type\":\"LinearScale\"},\"y_range\":{\"id\":\"1007\",\"type\":\"Range1d\"},\"y_scale\":{\"id\":\"1011\",\"type\":\"LinearScale\"}},\"id\":\"1003\",\"subtype\":\"Figure\",\"type\":\"Plot\"},{\"attributes\":{},\"id\":\"1064\",\"type\":\"Selection\"},{\"attributes\":{\"formatter\":{\"id\":\"1054\",\"type\":\"BasicTickFormatter\"},\"plot\":{\"id\":\"1003\",\"subtype\":\"Figure\",\"type\":\"Plot\"},\"ticker\":{\"id\":\"1014\",\"type\":\"BasicTicker\"}},\"id\":\"1013\",\"type\":\"LinearAxis\"},{\"attributes\":{\"callback\":null,\"data\":{\"x\":{\"__ndarray__\":\"zTt/Zp6gBkD/aBeat5QGQEpH+7kPcQZAxDZRSMw1BkC/j9WcK+MFQECmRaOEeQVAnt/vf0b5BEBDCska+GIEQH71gZE3twNAdpMykbn2AkCHnkmYSCICQJ6yiCHEOgFAxu/suB9BAEDd6Pb2w2z+P3Rl/gVHN/w/aHu1fRvk+T/TJUl2s3X3PwkMrq6d7vQ/w3Xc24JR8j+F03m5RULvP5J+baujwOk/dhnXbeoj5D8TMwPBAuTcPxjbsFnMYdE/HshwxDM1tz/Yx3DEMzW3vwbbsFnMYdG/ATMDwQLk3L90Gddt6iPkv4l+baujwOm/fNN5uUVC77++ddzbglHyvwQMrq6d7vS/0SVJdrN1979le7V9G+T5v3Nl/gVHN/y/2ej29sNs/r/F7+y4H0EAwJyyiCHEOgHAhp5JmEgiAsBzkzKRufYCwH31gZE3twPAQgrJGvhiBMCd3+9/RvkEwECmRaOEeQXAvo/VnCvjBcDENlFIzDUGwElH+7kPcQbA/2gXmreUBsDNO39mnqAGwM07f2aeoAbA/2gXmreUBsBJR/u5D3EGwMQ2UUjMNQbAvo/VnCvjBcBApkWjhHkFwJ3f739G+QTAQgrJGvhiBMB99YGRN7cDwHOTMpG59gLAhp5JmEgiAsCcsoghxDoBwMXv7LgfQQDA2ej29sNs/r9zZf4FRzf8v2V7tX0b5Pm/0SVJdrN1978EDK6une70v7513NuCUfK/fNN5uUVC77+Jfm2ro8Dpv3QZ123qI+S/ATMDwQLk3L8G27BZzGHRv9jHcMQzNbe/HshwxDM1tz8Y27BZzGHRPxMzA8EC5Nw/dhnXbeoj5D+Sfm2ro8DpP4XTeblFQu8/w3Xc24JR8j8JDK6une70P9MlSXazdfc/aHu1fRvk+T90Zf4FRzf8P93o9vbDbP4/xu/suB9BAECesoghxDoBQIeeSZhIIgJAdpMykbn2AkB+9YGRN7cDQEMKyRr4YgRAnt/vf0b5BEBApkWjhHkFQL+P1Zwr4wVAxDZRSMw1BkBKR/u5D3EGQP9oF5q3lAZAzTt/Zp6gBkA=\",\"dtype\":\"float64\",\"shape\":[100]},\"y\":{\"__ndarray__\":\"m0Vf4fx+9T+/MUnsR9P2PxfR+xKQD/g/IBVMnogy+T/esFZ3/zr6P3RtfmneJ/s/CFMVRyz4+z/5x3zvDav8P5nnqDXHP/0/+pIUpru1/T+T/lUrbwz+PyCbppCGQ/4/egnV4cda/j9SKzyoGlL+P8AufwSIKf4/XYLvpDrh/T+Yy6aYfnn9P5gahP/A8vw/tIZgl49N/D/Q9fMmmIr7PzrpBsenqvo/up2xCqqu+T+xdYsHqJf4P/Bdzz7HZvc/ZIaaaEgd9j+EOooihrz0P4PDG4PzRfM/X+ZNkxq78T/WpB6wmh3wPzyaMqtN3uw/T/yAqgdj6T98+mrzDM3lPyfrIzMjIOI/sJ7rbVDA3D/KZwy2GyLVP0imBZBX28o/6OFMQG6stj8gXHFKWeugv8zBtatwx8O/2CBxPp6f0b8Ye5Qd+kjZv3GiNVfea+C/a/2bU/kh5L+kqzGL5sLnv51ppczUSuu/dMAXMg227r+3n7SEewDxv7ucYc4NlPK/uxWw6xQU9L+aRV/h/H71v5xFX+H8fvW/wTFJ7EfT9r8Z0fsSkA/4vyEVTJ6IMvm/4LBWd/86+r92bX5p3if7vwpTFUcs+Pu/+Md87w2r/L+a56g1xz/9v/qSFKa7tf2/kv5VK28M/r8gm6aQhkP+v3oJ1eHHWv6/Uis8qBpS/r/BLn8EiCn+v16C76Q64f2/mMummH55/b+WGoT/wPL8v7KGYJePTfy/zvXzJpiK+7846QbHp6r6v7qdsQqqrvm/r3WLB6iX+L/tXc8+x2b3v2KGmmhIHfa/gjqKIoa89L+AwxuD80Xzv13mTZMau/G/1qQesJod8L84mjKrTd7sv0v8gKoHY+m/ePpq8wzN5b8j6yMzIyDiv66e621QwNy/vGcMthsi1b88pgWQV9vKv7jhTEBurLa/UFxxSlnroD/kwbWrcMfDP+QgcT6en9E/KnuUHfpI2T92ojVX3mvgP279m1P5IeQ/qKsxi+bC5z+gaaXM1ErrP3zAFzINtu4/uJ+0hHsA8T+/nGHODZTyP70VsOsUFPQ/m0Vf4fx+9T8=\",\"dtype\":\"float64\",\"shape\":[100]}},\"selected\":{\"id\":\"1062\",\"type\":\"Selection\"},\"selection_policy\":{\"id\":\"1061\",\"type\":\"UnionRenderers\"}},\"id\":\"1043\",\"type\":\"ColumnDataSource\"},{\"attributes\":{\"fill_alpha\":0.3,\"fill_color\":\"#1f77b4\",\"x\":{\"field\":\"x\"},\"y\":{\"field\":\"y\"}},\"id\":\"1044\",\"type\":\"Patch\"},{\"attributes\":{\"plot\":{\"id\":\"1003\",\"subtype\":\"Figure\",\"type\":\"Plot\"},\"ticker\":{\"id\":\"1014\",\"type\":\"BasicTicker\"}},\"id\":\"1017\",\"type\":\"Grid\"},{\"attributes\":{\"fill_alpha\":0.1,\"fill_color\":\"#1f77b4\",\"line_alpha\":0.1,\"line_color\":\"#1f77b4\",\"x\":{\"field\":\"x\"},\"y\":{\"field\":\"y\"}},\"id\":\"1045\",\"type\":\"Patch\"},{\"attributes\":{\"formatter\":{\"id\":\"1056\",\"type\":\"BasicTickFormatter\"},\"plot\":{\"id\":\"1003\",\"subtype\":\"Figure\",\"type\":\"Plot\"},\"ticker\":{\"id\":\"1019\",\"type\":\"BasicTicker\"}},\"id\":\"1018\",\"type\":\"LinearAxis\"},{\"attributes\":{\"data_source\":{\"id\":\"1043\",\"type\":\"ColumnDataSource\"},\"glyph\":{\"id\":\"1044\",\"type\":\"Patch\"},\"hover_glyph\":null,\"muted_glyph\":null,\"nonselection_glyph\":{\"id\":\"1045\",\"type\":\"Patch\"},\"selection_glyph\":null,\"view\":{\"id\":\"1047\",\"type\":\"CDSView\"}},\"id\":\"1046\",\"type\":\"GlyphRenderer\"},{\"attributes\":{},\"id\":\"1019\",\"type\":\"BasicTicker\"},{\"attributes\":{},\"id\":\"1014\",\"type\":\"BasicTicker\"},{\"attributes\":{\"source\":{\"id\":\"1043\",\"type\":\"ColumnDataSource\"}},\"id\":\"1047\",\"type\":\"CDSView\"},{\"attributes\":{\"dimension\":1,\"plot\":{\"id\":\"1003\",\"subtype\":\"Figure\",\"type\":\"Plot\"},\"ticker\":{\"id\":\"1019\",\"type\":\"BasicTicker\"}},\"id\":\"1022\",\"type\":\"Grid\"},{\"attributes\":{\"callback\":null,\"data\":{\"x\":{\"__ndarray__\":\"zTt/Zp6g9j//aBeat5T2P0pH+7kPcfY/xDZRSMw19j+/j9WcK+P1P0CmRaOEefU/nt/vf0b59D9DCska+GL0P371gZE3t/M/dpMykbn28j+HnkmYSCLyP56yiCHEOvE/xu/suB9B8D/d6Pb2w2zuP3Rl/gVHN+w/aHu1fRvk6T/TJUl2s3XnPwkMrq6d7uQ/w3Xc24JR4j+F03m5RULfP5J+baujwNk/dhnXbeoj1D8TMwPBAuTMPxjbsFnMYcE/HshwxDM1pz/Yx3DEMzWnvwbbsFnMYcG/ATMDwQLkzL90Gddt6iPUv4l+baujwNm/fNN5uUVC37++ddzbglHivwQMrq6d7uS/0SVJdrN1579le7V9G+Tpv3Nl/gVHN+y/2ej29sNs7r/F7+y4H0Hwv5yyiCHEOvG/hp5JmEgi8r9zkzKRufbyv331gZE3t/O/QgrJGvhi9L+d3+9/Rvn0v0CmRaOEefW/vo/VnCvj9b/ENlFIzDX2v0lH+7kPcfa//2gXmreU9r/NO39mnqD2v807f2aeoPa//2gXmreU9r9JR/u5D3H2v8Q2UUjMNfa/vo/VnCvj9b9ApkWjhHn1v53f739G+fS/QgrJGvhi9L999YGRN7fzv3OTMpG59vK/hp5JmEgi8r+csoghxDrxv8Xv7LgfQfC/2ej29sNs7r9zZf4FRzfsv2V7tX0b5Om/0SVJdrN1578EDK6une7kv7513NuCUeK/fNN5uUVC37+Jfm2ro8DZv3QZ123qI9S/ATMDwQLkzL8G27BZzGHBv9jHcMQzNae/HshwxDM1pz8Y27BZzGHBPxMzA8EC5Mw/dhnXbeoj1D+Sfm2ro8DZP4XTeblFQt8/w3Xc24JR4j8JDK6une7kP9MlSXazdec/aHu1fRvk6T90Zf4FRzfsP93o9vbDbO4/xu/suB9B8D+esoghxDrxP4eeSZhIIvI/dpMykbn28j9+9YGRN7fzP0MKyRr4YvQ/nt/vf0b59D9ApkWjhHn1P7+P1Zwr4/U/xDZRSMw19j9KR/u5D3H2P/9oF5q3lPY/zTt/Zp6g9j8=\",\"dtype\":\"float64\",\"shape\":[100]},\"y\":{\"__ndarray__\":\"m0Vf4fx+5T+/MUnsR9PmPxfR+xKQD+g/IBVMnogy6T/esFZ3/zrqP3RtfmneJ+s/CFMVRyz46z/5x3zvDavsP5nnqDXHP+0/+pIUpru17T+T/lUrbwzuPyCbppCGQ+4/egnV4cda7j9SKzyoGlLuP8AufwSIKe4/XYLvpDrh7T+Yy6aYfnntP5gahP/A8uw/tIZgl49N7D/Q9fMmmIrrPzrpBsenquo/up2xCqqu6T+xdYsHqJfoP/Bdzz7HZuc/ZIaaaEgd5j+EOooihrzkP4PDG4PzReM/X+ZNkxq74T/WpB6wmh3gPzyaMqtN3tw/T/yAqgdj2T98+mrzDM3VPyfrIzMjINI/sJ7rbVDAzD/KZwy2GyLFP0imBZBX27o/6OFMQG6spj8gXHFKWeuQv8zBtatwx7O/2CBxPp6fwb8Ye5Qd+kjJv3GiNVfea9C/a/2bU/kh1L+kqzGL5sLXv51ppczUStu/dMAXMg223r+3n7SEewDhv7ucYc4NlOK/uxWw6xQU5L+aRV/h/H7lv5xFX+H8fuW/wTFJ7EfT5r8Z0fsSkA/ovyEVTJ6IMum/4LBWd/866r92bX5p3ifrvwpTFUcs+Ou/+Md87w2r7L+a56g1xz/tv/qSFKa7te2/kv5VK28M7r8gm6aQhkPuv3oJ1eHHWu6/Uis8qBpS7r/BLn8EiCnuv16C76Q64e2/mMummH557b+WGoT/wPLsv7KGYJePTey/zvXzJpiK67846QbHp6rqv7qdsQqqrum/r3WLB6iX6L/tXc8+x2bnv2KGmmhIHea/gjqKIoa85L+AwxuD80Xjv13mTZMau+G/1qQesJod4L84mjKrTd7cv0v8gKoHY9m/ePpq8wzN1b8j6yMzIyDSv66e621QwMy/vGcMthsixb88pgWQV9u6v7jhTEBurKa/UFxxSlnrkD/kwbWrcMezP+QgcT6en8E/KnuUHfpIyT92ojVX3mvQP279m1P5IdQ/qKsxi+bC1z+gaaXM1ErbP3zAFzINtt4/uJ+0hHsA4T+/nGHODZTiP70VsOsUFOQ/m0Vf4fx+5T8=\",\"dtype\":\"float64\",\"shape\":[100]}},\"selected\":{\"id\":\"1064\",\"type\":\"Selection\"},\"selection_policy\":{\"id\":\"1063\",\"type\":\"UnionRenderers\"}},\"id\":\"1048\",\"type\":\"ColumnDataSource\"},{\"attributes\":{\"fill_alpha\":{\"value\":0.1},\"fill_color\":{\"value\":\"#1f77b4\"},\"line_alpha\":{\"value\":0.1},\"line_color\":{\"value\":\"#1f77b4\"},\"x\":{\"field\":\"x\"},\"y\":{\"field\":\"y\"}},\"id\":\"1040\",\"type\":\"Circle\"},{\"attributes\":{\"fill_alpha\":0.3,\"fill_color\":\"#1f77b4\",\"x\":{\"field\":\"x\"},\"y\":{\"field\":\"y\"}},\"id\":\"1049\",\"type\":\"Patch\"},{\"attributes\":{\"fill_alpha\":0.1,\"fill_color\":\"#1f77b4\",\"line_alpha\":0.1,\"line_color\":\"#1f77b4\",\"x\":{\"field\":\"x\"},\"y\":{\"field\":\"y\"}},\"id\":\"1050\",\"type\":\"Patch\"},{\"attributes\":{\"fill_color\":{\"value\":\"#1f77b4\"},\"line_color\":{\"value\":\"#1f77b4\"},\"x\":{\"field\":\"x\"},\"y\":{\"field\":\"y\"}},\"id\":\"1039\",\"type\":\"Circle\"},{\"attributes\":{\"callback\":null,\"data\":{\"x\":{\"__ndarray__\":\"8Jr0v4Jl5z+a1ubdQBj1PyTV1G0A8Oq/iJ90Rrbw+L/Hb5+1dH3uP2pQdmXJDeQ/ELaLoI0zvj82RVgdKpHlP3BERy4Js6m/UjzStNhv9z9pkAL2LrDhv5qYskx6oPs/U/LSVAyW+r/aeu15aRUAwL1yW1VM++y/f3EEedIJ4r8o/qbjafrOP6KM/0Aase6/xLfSgdlC8L9oSLuddEn/P1PAKqFJ7OA/fMGQXYAN+T+kObFa02fVP6Cvk7DT0pY/el3uWNMM4z9tAkmIUYsBQHnq4z/k0Mo/ngat3ZHy4z8gsR/G4bBZP+zf41WO7QRAMx9ZT4kb5r9K1Uj8MHIKQARjdppPet6/RoKGjswFAEAz2umiif7nv3Irfb/qIt0/yExAzO8q5z+nxHkCkiYDwDhNXoEqVuy/KQaTKmAr7b8IgmjeKQbhv1fWqmQckda/SMl1wflZ7b8vzD5bEQP2P4kU+7sss8k/kPOrWxhF8L/cfVqgxrvxP0AWbHOQDdY/3TpbZHDcBMACEWpwDwbkv/tUSObnmeW/U9rAPwmHBsAL6xPZAvT2v0Cw9dfPdG8/QhoCqdal479uQf06zWblPyinupLczKq/I8J9FlN4+r+0lvExrDLXv7pzFUoo8fC/4bFc9sLI6b96mla1Xzalv8j7yT7DhKk/z/olvU/iCkB31zcrmMPzP2Kz0hCbJf+/QFVolkyBjL/2Dyy5o9fzv/CB916Yka2/5n3FwQDY+b8wARXBQF3nP6uODYJhHO+/psMbdqOdAUCrPp2Ng5T0vw78r8E3Gti/xgTbbf/lCsAhvC6k1z73v5pF8kmYBAHAdfzUHSUu5D+IShSLVhzcP3sf+JLesvC/YHLkOtqE9j+YpDZKfYL4P1e3S8h2s9I/Sv/q6Q+y9z8nMC7N3sv7v2A3SH8Y/u0/pibEa7j7AcBfB0hfRC4FQMDFdITREcQ/UJLfuRXZ87+wSv3njZf/P9g+NWrWleu/s6H2s51D87+AWr2lDdz9v9KX1bNys/a/5hf4uzuc6z9N8H3erk36v/sKBA05gus/p4NQ4jeZ8D8=\",\"dtype\":\"float64\",\"shape\":[100]},\"y\":{\"__ndarray__\":\"TG7SYpGu6z8LquS42uLSv5CUnZzpwqK/HsS6ISXY1b+66VSSTQnUP6jzNBCXd+2/G3qvXRIt6j+I9a+N1aDtPxDf/eo/rfa/JaHmi0S95j9SErkqNVfHPzZRrcZQpuE/ssPh6oYf+b8ByqekUx7kvzDZ+zaRx+e/tHtGCxsVpz+B4UhtSVTwv7SzxezOprk/OIbpqNI2479iXT5Yq1T6PwAAief+a3S/PuylOden5D/0YELgt1Lov0opBDT4NO0/NT4X6t3r57/cHtIfgvX8Py/09scWfcW/SoM8LGmN3T85zYyCjKXBvy/5wS6X2Ow/u+rH5Cnk5D+glxaTliEBQH4OS/oLBNw/lEES4ohQ+j+gJuuMyGXCP9g7pequN54/9bDj1ZLA2z9UmLmijS0BwFKsCUgo1de/bN0ZHmXH4r9IkCj7KHvXPw2gISgQVuI/9SbhBm8/6D80zoF1mpThP1DDxhY+gdI/OtMNo9Uy5L/H4lsnwWfzP5NBwDEMiO8/qLouRCDu/b9/H6gwpoHmP2iX4eA/Tdm/JF5tCWsBBMBv5qiKChXuvzhcnd6gm9s/aQ2OmNZt0D8e0nomC6fbv7CGkcF/IPE/deiVtFAz3L9AO0hM1xiZP4oWW/EPvey/SL9dVoy+vD/qwpdOSnytv/gEEt7douK/HN4SbCpS4D80UhlPvjzBPw1kSWgiJ/W/S0efgX6I5r/QN58jDhOhvxHJPeEvXfA/MtYc2xVL2L/Q7QfDeN6/P/x6qxpAg8E/gIXOBDQdAkC27JPe+vDhP3CDeRGwf92/bYhBgGArAsD3UnzM/cnvvzSHibCFQwbAEmmTp20n5j8SaAYzCGKxP+Xl44eOYdq/j3yaMQg09T8N/oOB7dIAQLJfvcU+TL0/xoGlsG7w3D+zTIlXZMXhv3DR/ilNu9Q/CzXyr1WW+b8P81kqaxz1PwiVvmqJa/A/bdYtHW394b+4rmXBDLzjP/jTkDscG+i/7g4F0F723b8eHDGLizbzv2uY7OAlb/e/PzN8Og3d8T9Q74VDpijnv/SuNPjVGcQ/GuDRiscj4z8=\",\"dtype\":\"float64\",\"shape\":[100]}},\"selected\":{\"id\":\"1060\",\"type\":\"Selection\"},\"selection_policy\":{\"id\":\"1059\",\"type\":\"UnionRenderers\"}},\"id\":\"1038\",\"type\":\"ColumnDataSource\"},{\"attributes\":{},\"id\":\"1023\",\"type\":\"PanTool\"},{\"attributes\":{\"data_source\":{\"id\":\"1048\",\"type\":\"ColumnDataSource\"},\"glyph\":{\"id\":\"1049\",\"type\":\"Patch\"},\"hover_glyph\":null,\"muted_glyph\":null,\"nonselection_glyph\":{\"id\":\"1050\",\"type\":\"Patch\"},\"selection_glyph\":null,\"view\":{\"id\":\"1052\",\"type\":\"CDSView\"}},\"id\":\"1051\",\"type\":\"GlyphRenderer\"},{\"attributes\":{},\"id\":\"1024\",\"type\":\"WheelZoomTool\"},{\"attributes\":{\"source\":{\"id\":\"1048\",\"type\":\"ColumnDataSource\"}},\"id\":\"1052\",\"type\":\"CDSView\"},{\"attributes\":{\"plot\":null,\"text\":\"Data\"},\"id\":\"1002\",\"type\":\"Title\"},{\"attributes\":{\"overlay\":{\"id\":\"1031\",\"type\":\"BoxAnnotation\"}},\"id\":\"1025\",\"type\":\"BoxZoomTool\"},{\"attributes\":{},\"id\":\"1054\",\"type\":\"BasicTickFormatter\"},{\"attributes\":{},\"id\":\"1026\",\"type\":\"SaveTool\"},{\"attributes\":{\"callback\":null,\"end\":5.0,\"start\":-5.0},\"id\":\"1007\",\"type\":\"Range1d\"},{\"attributes\":{},\"id\":\"1027\",\"type\":\"ResetTool\"},{\"attributes\":{},\"id\":\"1056\",\"type\":\"BasicTickFormatter\"},{\"attributes\":{\"callback\":null,\"end\":5.0,\"start\":-5.0},\"id\":\"1005\",\"type\":\"Range1d\"},{\"attributes\":{},\"id\":\"1028\",\"type\":\"HelpTool\"},{\"attributes\":{},\"id\":\"1060\",\"type\":\"Selection\"},{\"attributes\":{\"active_drag\":\"auto\",\"active_inspect\":\"auto\",\"active_multi\":null,\"active_scroll\":\"auto\",\"active_tap\":\"auto\",\"tools\":[{\"id\":\"1023\",\"type\":\"PanTool\"},{\"id\":\"1024\",\"type\":\"WheelZoomTool\"},{\"id\":\"1025\",\"type\":\"BoxZoomTool\"},{\"id\":\"1026\",\"type\":\"SaveTool\"},{\"id\":\"1027\",\"type\":\"ResetTool\"},{\"id\":\"1028\",\"type\":\"HelpTool\"}]},\"id\":\"1029\",\"type\":\"Toolbar\"},{\"attributes\":{},\"id\":\"1061\",\"type\":\"UnionRenderers\"},{\"attributes\":{\"data_source\":{\"id\":\"1038\",\"type\":\"ColumnDataSource\"},\"glyph\":{\"id\":\"1039\",\"type\":\"Circle\"},\"hover_glyph\":null,\"muted_glyph\":null,\"nonselection_glyph\":{\"id\":\"1040\",\"type\":\"Circle\"},\"selection_glyph\":null,\"view\":{\"id\":\"1042\",\"type\":\"CDSView\"}},\"id\":\"1041\",\"type\":\"GlyphRenderer\"},{\"attributes\":{},\"id\":\"1059\",\"type\":\"UnionRenderers\"},{\"attributes\":{},\"id\":\"1062\",\"type\":\"Selection\"},{\"attributes\":{\"bottom_units\":\"screen\",\"fill_alpha\":{\"value\":0.5},\"fill_color\":{\"value\":\"lightgrey\"},\"left_units\":\"screen\",\"level\":\"overlay\",\"line_alpha\":{\"value\":1.0},\"line_color\":{\"value\":\"black\"},\"line_dash\":[4,4],\"line_width\":{\"value\":2},\"plot\":null,\"render_mode\":\"css\",\"right_units\":\"screen\",\"top_units\":\"screen\"},\"id\":\"1031\",\"type\":\"BoxAnnotation\"},{\"attributes\":{},\"id\":\"1009\",\"type\":\"LinearScale\"},{\"attributes\":{},\"id\":\"1063\",\"type\":\"UnionRenderers\"},{\"attributes\":{\"source\":{\"id\":\"1038\",\"type\":\"ColumnDataSource\"}},\"id\":\"1042\",\"type\":\"CDSView\"},{\"attributes\":{},\"id\":\"1011\",\"type\":\"LinearScale\"}],\"root_ids\":[\"1003\"]},\"title\":\"Bokeh Application\",\"version\":\"1.0.0\"}};\n",
       "  var render_items = [{\"docid\":\"632f4903-19e0-479c-822b-ae9598faa187\",\"roots\":{\"1003\":\"1cd52796-085b-442e-9ef9-764ba9fce40b\"}}];\n",
       "  root.Bokeh.embed.embed_items_notebook(docs_json, render_items);\n",
       "\n",
       "  }\n",
       "  if (root.Bokeh !== undefined) {\n",
       "    embed_document(root);\n",
       "  } else {\n",
       "    var attempts = 0;\n",
       "    var timer = setInterval(function(root) {\n",
       "      if (root.Bokeh !== undefined) {\n",
       "        embed_document(root);\n",
       "        clearInterval(timer);\n",
       "      }\n",
       "      attempts++;\n",
       "      if (attempts > 100) {\n",
       "        console.log(\"Bokeh: ERROR: Unable to run BokehJS code because BokehJS library is missing\");\n",
       "        clearInterval(timer);\n",
       "      }\n",
       "    }, 10, root)\n",
       "  }\n",
       "})(window);"
      ],
      "application/vnd.bokehjs_exec.v0+json": ""
     },
     "metadata": {
      "application/vnd.bokehjs_exec.v0+json": {
       "id": "1003"
      }
     },
     "output_type": "display_data"
    }
   ],
   "source": [
    "mean = np.zeros(2) \n",
    "cov = np.array([\n",
    "    [2, .95],\n",
    "    [.95, .9]\n",
    "])\n",
    "data = np.random.multivariate_normal(mean, cov, size=100)\n",
    "\n",
    "fig = figure(\n",
    "    title='Data',\n",
    "    width=400,\n",
    "    height=400,\n",
    "    x_range=(mean[0] - 5, mean[0] + 5),\n",
    "    y_range=(mean[1] - 5, mean[1] + 5)\n",
    ")\n",
    "fig.circle(data[:, 0], data[:, 1])\n",
    "plotting.plot_normal(fig, mean, cov, line_color='black', fill_alpha=.3)\n",
    "\n",
    "show(fig)"
   ]
  },
  {
   "cell_type": "markdown",
   "metadata": {},
   "source": [
    "## Model Creation\n",
    "\n",
    "We create two types of Normal distribution: one diagonal covariance matrix and another one with full covariance matrix."
   ]
  },
  {
   "cell_type": "code",
   "execution_count": 3,
   "metadata": {},
   "outputs": [
    {
     "data": {
      "text/plain": [
       "Normal(\n",
       "  (mean_precision): ConjugateBayesianParameter(prior=NormalGamma, posterior=NormalGamma)\n",
       ")"
      ]
     },
     "execution_count": 3,
     "metadata": {},
     "output_type": "execute_result"
    }
   ],
   "source": [
    "data_mean = torch.zeros(2) \n",
    "data_var = torch.ones(2)\n",
    "\n",
    "normal_iso = beer.Normal.create(data_mean, data_var, 1., cov_type='isotropic')\n",
    "normal_diag = beer.Normal.create(data_mean, data_var, 1., cov_type='diagonal')\n",
    "normal_full = beer.Normal.create(data_mean, data_var, 1., cov_type='full')\n",
    "\n",
    "models = {\n",
    "    'normal_full': normal_full,\n",
    "    'normal_diag': normal_diag,\n",
    "    'normal_iso': normal_iso\n",
    "}\n",
    "models['normal_diag']"
   ]
  },
  {
   "cell_type": "code",
   "execution_count": 4,
   "metadata": {},
   "outputs": [
    {
     "data": {
      "text/plain": [
       "NormalGamma(\n",
       "  (params): NormalGammaStdParams(mean=tensor([0., 0.]), scale=tensor(1.), shape=tensor(1.), rates=tensor([1., 1.]))\n",
       ")"
      ]
     },
     "execution_count": 4,
     "metadata": {},
     "output_type": "execute_result"
    }
   ],
   "source": [
    "model = models['normal_diag']\n",
    "model.mean_precision.prior"
   ]
  },
  {
   "cell_type": "code",
   "execution_count": 5,
   "metadata": {},
   "outputs": [
    {
     "data": {
      "text/plain": [
       "torch.Size([2])"
      ]
     },
     "execution_count": 5,
     "metadata": {},
     "output_type": "execute_result"
    }
   ],
   "source": [
    "model.mean_precision.posterior.params.mean.shape"
   ]
  },
  {
   "cell_type": "markdown",
   "metadata": {},
   "source": [
    "## Variational Bayes Training "
   ]
  },
  {
   "cell_type": "code",
   "execution_count": 6,
   "metadata": {},
   "outputs": [
    {
     "data": {
      "text/plain": [
       "torch.Size([1, 100, 2])"
      ]
     },
     "execution_count": 6,
     "metadata": {},
     "output_type": "execute_result"
    }
   ],
   "source": [
    "nbatches = 1\n",
    "X = torch.from_numpy(data).float()\n",
    "batches = X.view(nbatches, -1, 2)\n",
    "batches.shape"
   ]
  },
  {
   "cell_type": "code",
   "execution_count": 7,
   "metadata": {
    "scrolled": false
   },
   "outputs": [],
   "source": [
    "epochs = 10\n",
    "lrate = 1.\n",
    "\n",
    "\n",
    "optims = {\n",
    "    model_name: beer.VariationalBayesOptimizer(\n",
    "        model.mean_field_factorization(), lrate)\n",
    "    for model_name, model in models.items()\n",
    "}\n",
    "\n",
    "elbos = {\n",
    "    model_name: [] \n",
    "    for model_name in models\n",
    "}  \n",
    "\n",
    "\n",
    "for epoch in range(epochs):\n",
    "    for name, model in models.items():\n",
    "        batch_ids = list(range(len(batches)))\n",
    "        random.shuffle(batch_ids)\n",
    "        for batch_id in batch_ids:\n",
    "            batch = batches[batch_id]\n",
    "            \n",
    "            optim = optims[name]\n",
    "\n",
    "            optim.init_step()\n",
    "            elbo = beer.evidence_lower_bound(model, batch, datasize=len(X))\n",
    "            elbo.backward()\n",
    "            optim.step()\n",
    "            \n",
    "            elbo = beer.evidence_lower_bound(model, X)\n",
    "            elbos[name].append(float(elbo) / len(X))  "
   ]
  },
  {
   "cell_type": "code",
   "execution_count": 8,
   "metadata": {
    "scrolled": false
   },
   "outputs": [
    {
     "data": {
      "text/html": [
       "\n",
       "\n",
       "\n",
       "\n",
       "\n",
       "\n",
       "  <div class=\"bk-root\" id=\"d16c6784-bd63-4e07-8ff0-ffd49eff796b\"></div>\n"
      ]
     },
     "metadata": {},
     "output_type": "display_data"
    },
    {
     "data": {
      "application/javascript": [
       "(function(root) {\n",
       "  function embed_document(root) {\n",
       "    \n",
       "  var docs_json = {\"86ec585f-b51c-4ca9-95b6-fb4bac5d595c\":{\"roots\":{\"references\":[{\"attributes\":{\"below\":[{\"id\":\"1148\",\"type\":\"LinearAxis\"}],\"left\":[{\"id\":\"1153\",\"type\":\"LinearAxis\"}],\"plot_height\":400,\"plot_width\":400,\"renderers\":[{\"id\":\"1148\",\"type\":\"LinearAxis\"},{\"id\":\"1152\",\"type\":\"Grid\"},{\"id\":\"1153\",\"type\":\"LinearAxis\"},{\"id\":\"1157\",\"type\":\"Grid\"},{\"id\":\"1166\",\"type\":\"BoxAnnotation\"},{\"id\":\"1184\",\"type\":\"Legend\"},{\"id\":\"1176\",\"type\":\"GlyphRenderer\"},{\"id\":\"1189\",\"type\":\"GlyphRenderer\"},{\"id\":\"1203\",\"type\":\"GlyphRenderer\"}],\"title\":{\"id\":\"1137\",\"type\":\"Title\"},\"toolbar\":{\"id\":\"1164\",\"type\":\"Toolbar\"},\"x_range\":{\"id\":\"1140\",\"type\":\"DataRange1d\"},\"x_scale\":{\"id\":\"1144\",\"type\":\"LinearScale\"},\"y_range\":{\"id\":\"1142\",\"type\":\"DataRange1d\"},\"y_scale\":{\"id\":\"1146\",\"type\":\"LinearScale\"}},\"id\":\"1138\",\"subtype\":\"Figure\",\"type\":\"Plot\"},{\"attributes\":{\"callback\":null},\"id\":\"1140\",\"type\":\"DataRange1d\"},{\"attributes\":{},\"id\":\"1163\",\"type\":\"HelpTool\"},{\"attributes\":{\"data_source\":{\"id\":\"1200\",\"type\":\"ColumnDataSource\"},\"glyph\":{\"id\":\"1201\",\"type\":\"Line\"},\"hover_glyph\":null,\"muted_glyph\":null,\"nonselection_glyph\":{\"id\":\"1202\",\"type\":\"Line\"},\"selection_glyph\":null,\"view\":{\"id\":\"1204\",\"type\":\"CDSView\"}},\"id\":\"1203\",\"type\":\"GlyphRenderer\"},{\"attributes\":{},\"id\":\"1162\",\"type\":\"ResetTool\"},{\"attributes\":{\"active_drag\":\"auto\",\"active_inspect\":\"auto\",\"active_multi\":null,\"active_scroll\":\"auto\",\"active_tap\":\"auto\",\"tools\":[{\"id\":\"1158\",\"type\":\"PanTool\"},{\"id\":\"1159\",\"type\":\"WheelZoomTool\"},{\"id\":\"1160\",\"type\":\"BoxZoomTool\"},{\"id\":\"1161\",\"type\":\"SaveTool\"},{\"id\":\"1162\",\"type\":\"ResetTool\"},{\"id\":\"1163\",\"type\":\"HelpTool\"}]},\"id\":\"1164\",\"type\":\"Toolbar\"},{\"attributes\":{\"line_color\":\"green\",\"x\":{\"field\":\"x\"},\"y\":{\"field\":\"y\"}},\"id\":\"1201\",\"type\":\"Line\"},{\"attributes\":{},\"id\":\"1213\",\"type\":\"UnionRenderers\"},{\"attributes\":{\"plot\":null,\"text\":\"ELBO\"},\"id\":\"1137\",\"type\":\"Title\"},{\"attributes\":{},\"id\":\"1214\",\"type\":\"Selection\"},{\"attributes\":{\"bottom_units\":\"screen\",\"fill_alpha\":{\"value\":0.5},\"fill_color\":{\"value\":\"lightgrey\"},\"left_units\":\"screen\",\"level\":\"overlay\",\"line_alpha\":{\"value\":1.0},\"line_color\":{\"value\":\"black\"},\"line_dash\":[4,4],\"line_width\":{\"value\":2},\"plot\":null,\"render_mode\":\"css\",\"right_units\":\"screen\",\"top_units\":\"screen\"},\"id\":\"1166\",\"type\":\"BoxAnnotation\"},{\"attributes\":{\"label\":{\"value\":\"normal_iso\"},\"renderers\":[{\"id\":\"1203\",\"type\":\"GlyphRenderer\"}]},\"id\":\"1215\",\"type\":\"LegendItem\"},{\"attributes\":{},\"id\":\"1161\",\"type\":\"SaveTool\"},{\"attributes\":{\"source\":{\"id\":\"1173\",\"type\":\"ColumnDataSource\"}},\"id\":\"1177\",\"type\":\"CDSView\"},{\"attributes\":{\"axis_label\":\"step\",\"formatter\":{\"id\":\"1179\",\"type\":\"BasicTickFormatter\"},\"plot\":{\"id\":\"1138\",\"subtype\":\"Figure\",\"type\":\"Plot\"},\"ticker\":{\"id\":\"1149\",\"type\":\"BasicTicker\"}},\"id\":\"1148\",\"type\":\"LinearAxis\"},{\"attributes\":{\"overlay\":{\"id\":\"1166\",\"type\":\"BoxAnnotation\"}},\"id\":\"1160\",\"type\":\"BoxZoomTool\"},{\"attributes\":{},\"id\":\"1159\",\"type\":\"WheelZoomTool\"},{\"attributes\":{\"label\":{\"value\":\"normal_full\"},\"renderers\":[{\"id\":\"1176\",\"type\":\"GlyphRenderer\"}]},\"id\":\"1185\",\"type\":\"LegendItem\"},{\"attributes\":{},\"id\":\"1179\",\"type\":\"BasicTickFormatter\"},{\"attributes\":{},\"id\":\"1238\",\"type\":\"UnionRenderers\"},{\"attributes\":{\"line_color\":\"red\",\"x\":{\"field\":\"x\"},\"y\":{\"field\":\"y\"}},\"id\":\"1174\",\"type\":\"Line\"},{\"attributes\":{},\"id\":\"1154\",\"type\":\"BasicTicker\"},{\"attributes\":{},\"id\":\"1239\",\"type\":\"Selection\"},{\"attributes\":{},\"id\":\"1144\",\"type\":\"LinearScale\"},{\"attributes\":{},\"id\":\"1181\",\"type\":\"BasicTickFormatter\"},{\"attributes\":{\"callback\":null},\"id\":\"1142\",\"type\":\"DataRange1d\"},{\"attributes\":{\"source\":{\"id\":\"1186\",\"type\":\"ColumnDataSource\"}},\"id\":\"1190\",\"type\":\"CDSView\"},{\"attributes\":{\"line_alpha\":0.1,\"line_color\":\"#1f77b4\",\"x\":{\"field\":\"x\"},\"y\":{\"field\":\"y\"}},\"id\":\"1175\",\"type\":\"Line\"},{\"attributes\":{\"plot\":{\"id\":\"1138\",\"subtype\":\"Figure\",\"type\":\"Plot\"},\"ticker\":{\"id\":\"1149\",\"type\":\"BasicTicker\"}},\"id\":\"1152\",\"type\":\"Grid\"},{\"attributes\":{},\"id\":\"1197\",\"type\":\"UnionRenderers\"},{\"attributes\":{},\"id\":\"1146\",\"type\":\"LinearScale\"},{\"attributes\":{\"callback\":null,\"data\":{\"x\":[0,1,2,3,4,5,6,7,8,9],\"y\":[-3.206817626953125,-3.206817626953125,-3.206817626953125,-3.206817626953125,-3.206817626953125,-3.206817626953125,-3.206817626953125,-3.206817626953125,-3.206817626953125,-3.206817626953125]},\"selected\":{\"id\":\"1214\",\"type\":\"Selection\"},\"selection_policy\":{\"id\":\"1213\",\"type\":\"UnionRenderers\"}},\"id\":\"1186\",\"type\":\"ColumnDataSource\"},{\"attributes\":{\"callback\":null,\"data\":{\"x\":[0,1,2,3,4,5,6,7,8,9],\"y\":[-3.24087646484375,-3.24087646484375,-3.24087646484375,-3.24087646484375,-3.24087646484375,-3.24087646484375,-3.24087646484375,-3.24087646484375,-3.24087646484375,-3.24087646484375]},\"selected\":{\"id\":\"1239\",\"type\":\"Selection\"},\"selection_policy\":{\"id\":\"1238\",\"type\":\"UnionRenderers\"}},\"id\":\"1200\",\"type\":\"ColumnDataSource\"},{\"attributes\":{\"line_alpha\":0.1,\"line_color\":\"#1f77b4\",\"x\":{\"field\":\"x\"},\"y\":{\"field\":\"y\"}},\"id\":\"1188\",\"type\":\"Line\"},{\"attributes\":{\"line_alpha\":0.1,\"line_color\":\"#1f77b4\",\"x\":{\"field\":\"x\"},\"y\":{\"field\":\"y\"}},\"id\":\"1202\",\"type\":\"Line\"},{\"attributes\":{\"data_source\":{\"id\":\"1186\",\"type\":\"ColumnDataSource\"},\"glyph\":{\"id\":\"1187\",\"type\":\"Line\"},\"hover_glyph\":null,\"muted_glyph\":null,\"nonselection_glyph\":{\"id\":\"1188\",\"type\":\"Line\"},\"selection_glyph\":null,\"view\":{\"id\":\"1190\",\"type\":\"CDSView\"}},\"id\":\"1189\",\"type\":\"GlyphRenderer\"},{\"attributes\":{\"dimension\":1,\"plot\":{\"id\":\"1138\",\"subtype\":\"Figure\",\"type\":\"Plot\"},\"ticker\":{\"id\":\"1154\",\"type\":\"BasicTicker\"}},\"id\":\"1157\",\"type\":\"Grid\"},{\"attributes\":{},\"id\":\"1149\",\"type\":\"BasicTicker\"},{\"attributes\":{\"label\":{\"value\":\"normal_diag\"},\"renderers\":[{\"id\":\"1189\",\"type\":\"GlyphRenderer\"}]},\"id\":\"1199\",\"type\":\"LegendItem\"},{\"attributes\":{\"data_source\":{\"id\":\"1173\",\"type\":\"ColumnDataSource\"},\"glyph\":{\"id\":\"1174\",\"type\":\"Line\"},\"hover_glyph\":null,\"muted_glyph\":null,\"nonselection_glyph\":{\"id\":\"1175\",\"type\":\"Line\"},\"selection_glyph\":null,\"view\":{\"id\":\"1177\",\"type\":\"CDSView\"}},\"id\":\"1176\",\"type\":\"GlyphRenderer\"},{\"attributes\":{\"line_color\":\"blue\",\"x\":{\"field\":\"x\"},\"y\":{\"field\":\"y\"}},\"id\":\"1187\",\"type\":\"Line\"},{\"attributes\":{\"callback\":null,\"data\":{\"x\":[0,1,2,3,4,5,6,7,8,9],\"y\":[-2.817452087402344,-2.817452087402344,-2.817452087402344,-2.817452087402344,-2.817452087402344,-2.817452087402344,-2.817452087402344,-2.817452087402344,-2.817452087402344,-2.817452087402344]},\"selected\":{\"id\":\"1198\",\"type\":\"Selection\"},\"selection_policy\":{\"id\":\"1197\",\"type\":\"UnionRenderers\"}},\"id\":\"1173\",\"type\":\"ColumnDataSource\"},{\"attributes\":{\"source\":{\"id\":\"1200\",\"type\":\"ColumnDataSource\"}},\"id\":\"1204\",\"type\":\"CDSView\"},{\"attributes\":{\"axis_label\":\"ln p(X)\",\"formatter\":{\"id\":\"1181\",\"type\":\"BasicTickFormatter\"},\"plot\":{\"id\":\"1138\",\"subtype\":\"Figure\",\"type\":\"Plot\"},\"ticker\":{\"id\":\"1154\",\"type\":\"BasicTicker\"}},\"id\":\"1153\",\"type\":\"LinearAxis\"},{\"attributes\":{},\"id\":\"1158\",\"type\":\"PanTool\"},{\"attributes\":{},\"id\":\"1198\",\"type\":\"Selection\"},{\"attributes\":{\"items\":[{\"id\":\"1185\",\"type\":\"LegendItem\"},{\"id\":\"1199\",\"type\":\"LegendItem\"},{\"id\":\"1215\",\"type\":\"LegendItem\"}],\"location\":\"bottom_right\",\"plot\":{\"id\":\"1138\",\"subtype\":\"Figure\",\"type\":\"Plot\"}},\"id\":\"1184\",\"type\":\"Legend\"}],\"root_ids\":[\"1138\"]},\"title\":\"Bokeh Application\",\"version\":\"1.0.0\"}};\n",
       "  var render_items = [{\"docid\":\"86ec585f-b51c-4ca9-95b6-fb4bac5d595c\",\"roots\":{\"1138\":\"d16c6784-bd63-4e07-8ff0-ffd49eff796b\"}}];\n",
       "  root.Bokeh.embed.embed_items_notebook(docs_json, render_items);\n",
       "\n",
       "  }\n",
       "  if (root.Bokeh !== undefined) {\n",
       "    embed_document(root);\n",
       "  } else {\n",
       "    var attempts = 0;\n",
       "    var timer = setInterval(function(root) {\n",
       "      if (root.Bokeh !== undefined) {\n",
       "        embed_document(root);\n",
       "        clearInterval(timer);\n",
       "      }\n",
       "      attempts++;\n",
       "      if (attempts > 100) {\n",
       "        console.log(\"Bokeh: ERROR: Unable to run BokehJS code because BokehJS library is missing\");\n",
       "        clearInterval(timer);\n",
       "      }\n",
       "    }, 10, root)\n",
       "  }\n",
       "})(window);"
      ],
      "application/vnd.bokehjs_exec.v0+json": ""
     },
     "metadata": {
      "application/vnd.bokehjs_exec.v0+json": {
       "id": "1138"
      }
     },
     "output_type": "display_data"
    }
   ],
   "source": [
    "colors = {\n",
    "    'normal_iso': 'green',\n",
    "    'normal_diag': 'blue',\n",
    "    'normal_full': 'red',\n",
    "    \n",
    "}\n",
    "# Plot the ELBO.\n",
    "fig = figure(title='ELBO', width=400, height=400, x_axis_label='step',\n",
    "              y_axis_label='ln p(X)')\n",
    "for model_name, elbo in elbos.items():\n",
    "    fig.line(range(len(elbo)), elbo, legend=model_name, color=colors[model_name])\n",
    "fig.legend.location = 'bottom_right'\n",
    "\n",
    "show(fig)"
   ]
  },
  {
   "cell_type": "code",
   "execution_count": 9,
   "metadata": {
    "scrolled": false
   },
   "outputs": [
    {
     "data": {
      "text/html": [
       "\n",
       "\n",
       "\n",
       "\n",
       "\n",
       "\n",
       "  <div class=\"bk-root\" id=\"f1323d5b-1adf-433d-9457-fc10bb3d2883\"></div>\n"
      ]
     },
     "metadata": {},
     "output_type": "display_data"
    },
    {
     "data": {
      "application/javascript": [
       "(function(root) {\n",
       "  function embed_document(root) {\n",
       "    \n",
       "  var docs_json = {\"546debae-30c1-46f9-b76d-2c87933751b8\":{\"roots\":{\"references\":[{\"attributes\":{\"below\":[{\"id\":\"1321\",\"type\":\"LinearAxis\"}],\"left\":[{\"id\":\"1326\",\"type\":\"LinearAxis\"}],\"plot_height\":400,\"plot_width\":400,\"renderers\":[{\"id\":\"1321\",\"type\":\"LinearAxis\"},{\"id\":\"1325\",\"type\":\"Grid\"},{\"id\":\"1326\",\"type\":\"LinearAxis\"},{\"id\":\"1330\",\"type\":\"Grid\"},{\"id\":\"1339\",\"type\":\"BoxAnnotation\"},{\"id\":\"1349\",\"type\":\"GlyphRenderer\"},{\"id\":\"1354\",\"type\":\"GlyphRenderer\"},{\"id\":\"1359\",\"type\":\"GlyphRenderer\"},{\"id\":\"1364\",\"type\":\"GlyphRenderer\"},{\"id\":\"1369\",\"type\":\"GlyphRenderer\"},{\"id\":\"1374\",\"type\":\"GlyphRenderer\"},{\"id\":\"1379\",\"type\":\"GlyphRenderer\"}],\"title\":{\"id\":\"1406\",\"type\":\"Title\"},\"toolbar\":{\"id\":\"1337\",\"type\":\"Toolbar\"},\"x_range\":{\"id\":\"1313\",\"type\":\"Range1d\"},\"x_scale\":{\"id\":\"1317\",\"type\":\"LinearScale\"},\"y_range\":{\"id\":\"1315\",\"type\":\"Range1d\"},\"y_scale\":{\"id\":\"1319\",\"type\":\"LinearScale\"}},\"id\":\"1312\",\"subtype\":\"Figure\",\"type\":\"Plot\"},{\"attributes\":{\"overlay\":{\"id\":\"1339\",\"type\":\"BoxAnnotation\"}},\"id\":\"1333\",\"type\":\"BoxZoomTool\"},{\"attributes\":{},\"id\":\"1413\",\"type\":\"Selection\"},{\"attributes\":{\"fill_alpha\":0.3,\"fill_color\":\"#98AFC7\",\"x\":{\"field\":\"x\"},\"y\":{\"field\":\"y\"}},\"id\":\"1367\",\"type\":\"Patch\"},{\"attributes\":{},\"id\":\"1334\",\"type\":\"SaveTool\"},{\"attributes\":{},\"id\":\"1414\",\"type\":\"UnionRenderers\"},{\"attributes\":{\"fill_alpha\":{\"value\":0.1},\"fill_color\":{\"value\":\"#1f77b4\"},\"line_alpha\":{\"value\":0.1},\"line_color\":{\"value\":\"#1f77b4\"},\"x\":{\"field\":\"x\"},\"y\":{\"field\":\"y\"}},\"id\":\"1348\",\"type\":\"Circle\"},{\"attributes\":{\"fill_alpha\":0.1,\"fill_color\":\"#1f77b4\",\"line_alpha\":0.1,\"line_color\":\"#1f77b4\",\"x\":{\"field\":\"x\"},\"y\":{\"field\":\"y\"}},\"id\":\"1368\",\"type\":\"Patch\"},{\"attributes\":{},\"id\":\"1335\",\"type\":\"ResetTool\"},{\"attributes\":{},\"id\":\"1415\",\"type\":\"Selection\"},{\"attributes\":{\"data_source\":{\"id\":\"1366\",\"type\":\"ColumnDataSource\"},\"glyph\":{\"id\":\"1367\",\"type\":\"Patch\"},\"hover_glyph\":null,\"muted_glyph\":null,\"nonselection_glyph\":{\"id\":\"1368\",\"type\":\"Patch\"},\"selection_glyph\":null,\"view\":{\"id\":\"1370\",\"type\":\"CDSView\"}},\"id\":\"1369\",\"type\":\"GlyphRenderer\"},{\"attributes\":{\"callback\":null,\"data\":{\"x\":{\"__ndarray__\":\"8Jr0v4Jl5z+a1ubdQBj1PyTV1G0A8Oq/iJ90Rrbw+L/Hb5+1dH3uP2pQdmXJDeQ/ELaLoI0zvj82RVgdKpHlP3BERy4Js6m/UjzStNhv9z9pkAL2LrDhv5qYskx6oPs/U/LSVAyW+r/aeu15aRUAwL1yW1VM++y/f3EEedIJ4r8o/qbjafrOP6KM/0Aase6/xLfSgdlC8L9oSLuddEn/P1PAKqFJ7OA/fMGQXYAN+T+kObFa02fVP6Cvk7DT0pY/el3uWNMM4z9tAkmIUYsBQHnq4z/k0Mo/ngat3ZHy4z8gsR/G4bBZP+zf41WO7QRAMx9ZT4kb5r9K1Uj8MHIKQARjdppPet6/RoKGjswFAEAz2umiif7nv3Irfb/qIt0/yExAzO8q5z+nxHkCkiYDwDhNXoEqVuy/KQaTKmAr7b8IgmjeKQbhv1fWqmQckda/SMl1wflZ7b8vzD5bEQP2P4kU+7sss8k/kPOrWxhF8L/cfVqgxrvxP0AWbHOQDdY/3TpbZHDcBMACEWpwDwbkv/tUSObnmeW/U9rAPwmHBsAL6xPZAvT2v0Cw9dfPdG8/QhoCqdal479uQf06zWblPyinupLczKq/I8J9FlN4+r+0lvExrDLXv7pzFUoo8fC/4bFc9sLI6b96mla1Xzalv8j7yT7DhKk/z/olvU/iCkB31zcrmMPzP2Kz0hCbJf+/QFVolkyBjL/2Dyy5o9fzv/CB916Yka2/5n3FwQDY+b8wARXBQF3nP6uODYJhHO+/psMbdqOdAUCrPp2Ng5T0vw78r8E3Gti/xgTbbf/lCsAhvC6k1z73v5pF8kmYBAHAdfzUHSUu5D+IShSLVhzcP3sf+JLesvC/YHLkOtqE9j+YpDZKfYL4P1e3S8h2s9I/Sv/q6Q+y9z8nMC7N3sv7v2A3SH8Y/u0/pibEa7j7AcBfB0hfRC4FQMDFdITREcQ/UJLfuRXZ87+wSv3njZf/P9g+NWrWleu/s6H2s51D87+AWr2lDdz9v9KX1bNys/a/5hf4uzuc6z9N8H3erk36v/sKBA05gus/p4NQ4jeZ8D8=\",\"dtype\":\"float64\",\"shape\":[100]},\"y\":{\"__ndarray__\":\"TG7SYpGu6z8LquS42uLSv5CUnZzpwqK/HsS6ISXY1b+66VSSTQnUP6jzNBCXd+2/G3qvXRIt6j+I9a+N1aDtPxDf/eo/rfa/JaHmi0S95j9SErkqNVfHPzZRrcZQpuE/ssPh6oYf+b8ByqekUx7kvzDZ+zaRx+e/tHtGCxsVpz+B4UhtSVTwv7SzxezOprk/OIbpqNI2479iXT5Yq1T6PwAAief+a3S/PuylOden5D/0YELgt1Lov0opBDT4NO0/NT4X6t3r57/cHtIfgvX8Py/09scWfcW/SoM8LGmN3T85zYyCjKXBvy/5wS6X2Ow/u+rH5Cnk5D+glxaTliEBQH4OS/oLBNw/lEES4ohQ+j+gJuuMyGXCP9g7pequN54/9bDj1ZLA2z9UmLmijS0BwFKsCUgo1de/bN0ZHmXH4r9IkCj7KHvXPw2gISgQVuI/9SbhBm8/6D80zoF1mpThP1DDxhY+gdI/OtMNo9Uy5L/H4lsnwWfzP5NBwDEMiO8/qLouRCDu/b9/H6gwpoHmP2iX4eA/Tdm/JF5tCWsBBMBv5qiKChXuvzhcnd6gm9s/aQ2OmNZt0D8e0nomC6fbv7CGkcF/IPE/deiVtFAz3L9AO0hM1xiZP4oWW/EPvey/SL9dVoy+vD/qwpdOSnytv/gEEt7douK/HN4SbCpS4D80UhlPvjzBPw1kSWgiJ/W/S0efgX6I5r/QN58jDhOhvxHJPeEvXfA/MtYc2xVL2L/Q7QfDeN6/P/x6qxpAg8E/gIXOBDQdAkC27JPe+vDhP3CDeRGwf92/bYhBgGArAsD3UnzM/cnvvzSHibCFQwbAEmmTp20n5j8SaAYzCGKxP+Xl44eOYdq/j3yaMQg09T8N/oOB7dIAQLJfvcU+TL0/xoGlsG7w3D+zTIlXZMXhv3DR/ilNu9Q/CzXyr1WW+b8P81kqaxz1PwiVvmqJa/A/bdYtHW394b+4rmXBDLzjP/jTkDscG+i/7g4F0F723b8eHDGLizbzv2uY7OAlb/e/PzN8Og3d8T9Q74VDpijnv/SuNPjVGcQ/GuDRiscj4z8=\",\"dtype\":\"float64\",\"shape\":[100]}},\"selected\":{\"id\":\"1413\",\"type\":\"Selection\"},\"selection_policy\":{\"id\":\"1412\",\"type\":\"UnionRenderers\"}},\"id\":\"1346\",\"type\":\"ColumnDataSource\"},{\"attributes\":{},\"id\":\"1336\",\"type\":\"HelpTool\"},{\"attributes\":{},\"id\":\"1416\",\"type\":\"UnionRenderers\"},{\"attributes\":{\"source\":{\"id\":\"1366\",\"type\":\"ColumnDataSource\"}},\"id\":\"1370\",\"type\":\"CDSView\"},{\"attributes\":{\"callback\":null,\"end\":5,\"start\":-5},\"id\":\"1313\",\"type\":\"Range1d\"},{\"attributes\":{},\"id\":\"1417\",\"type\":\"Selection\"},{\"attributes\":{\"callback\":null,\"data\":{\"x\":{\"__ndarray__\":\"AAAATqnaBEAW5Dt0Uc8EQGnYqtVVrQRAckHxMdp0BEBIeQH0GSYEQCKFmvNnwQNA5mciHi5HA0CRvjcH7bcCQBffb2E7FAJAwsLPX8VcAUC/f6YATJIAQODBD4VIa/8/vVt5iGyP/T/IrSih+JL7P6bHMa4DePk/5j50pcRA9z965S8/kO/0Pz9IS4LWhvI/2kzgMyAJ8D/O+4JZGPLqP5Hsiy+ZsuU/CpWEN0hZ4D9qwqjQi9fVP+QiR9sfv8U/IMNj5avsZL/ScGqQJ3LGv2GRow19Qta/LGFUeDyd4L8HlYTHvgrmv4nsi78PZOu/433BdMdR8L/WTOB72+HyvztIS8qRX/W/eOUvh0vI97/jPnTtfxn6v6XHMfa+UPy/xK0o6bNr/r/erTzoEzQAwO7gh+YBIgHAvn+mpKn+AcDAws8DI8kCwBXfbwWZgAPAkL43q0okBMDlZyLCi7MEwCKFmpfFLQXAR3kBmHeSBcByQfHVN+EFwGjYqnmzGQbAFuQ7GK87BsAAAADyBkcGwAAAAPIGRwbAFuQ7GK87BsBo2Kp5sxkGwHJB8dU34QXAR3kBmHeSBcAihZqXxS0FwOVnIsKLswTAkL43q0okBMAV328FmYADwMDCzwMjyQLAvn+mpKn+AcDu4IfmASIBwN6tPOgTNADAxK0o6bNr/r+lxzH2vlD8v+M+dO1/Gfq/eOUvh0vI9787SEvKkV/1v9ZM4Hvb4fK/433BdMdR8L+J7Iu/D2TrvweVhMe+Cua/LGFUeDyd4L9hkaMNfULWv9JwapAncsa/IMNj5avsZL/kIkfbH7/FP2rCqNCL19U/CpWEN0hZ4D+R7IsvmbLlP877glkY8uo/2kzgMyAJ8D8/SEuC1obyP3rlLz+Q7/Q/5j50pcRA9z+mxzGuA3j5P8itKKH4kvs/vVt5iGyP/T/gwQ+FSGv/P79/pgBMkgBAwsLPX8VcAUAX329hOxQCQJG+NwfttwJA5mciHi5HA0AihZrzZ8EDQEh5AfQZJgRAckHxMdp0BEBp2KrVVa0EQBbkO3RRzwRAAAAATqnaBEA=\",\"dtype\":\"float64\",\"shape\":[100]},\"y\":{\"__ndarray__\":\"AAAAwDK5cT/qujtWppjAPx53LmtRSdA/83OBS3g12D/h8OQhOQTgPzzTwCMC3eM/uXI4Nwuh5z8+0x48XkzrP5Z3BxEf2+4/1bNf0cck8T9EGhTuCcryP65gKLmaW/Q/GJtmxNPX9T+EqTwVJT33P4YZf8kWivg/UCDTokq9+T+stx93fdX6P9VHgoSI0fs/uj9hp2Kw/D+ZbFZxIXH9P5ioyx/6Ev4/b3NGcUKV/j9TFIJYcff+P77cm4wfOf8/DeK59Qda/z8N4rn1B1r/P77cm4wfOf8/UxSCWHH3/j9vc0ZxQpX+P5moyx/6Ev4/mmxWcSFx/T+7P2GnYrD8P9ZHgoSI0fs/rbcfd33V+j9SINOiSr35P4cZf8kWivg/hqk8FSU99z8Zm2bE09f1P7BgKLmaW/Q/RhoU7gnK8j/Zs1/RxyTxP5t3BxEf2+4/QNMePF5M6z/Acjg3C6HnP0DTwCMC3eM/6fDkITkE4D/8c4FLeDXYPzB3LmtRSdA/Abs7VqaYwD8UAQDAMrlxP+z+/78yuXE/AnZ3VCb6vr9g7lyqD3fPv/xzgbWup9e/0uHJrah6379A08BYHZbjv8ByOGwmWue/QNMecXkF67+bdwdGOpTuv9mz32tVAfG/RhqUiJem8r+wYKhTKDj0vxmb5l5htPW/hqm8r7IZ97+HGf9jpGb4v1IgUz3Ymfm/rbefEQuy+r/WRwIfFq77v7s/4UHwjPy/mmzWC69N/b+ZqEu6h+/9v29zxgvQcf6/UxQC8/7T/r++3BsnrRX/vw3iOZCVNv+/DeI5kJU2/7++3BsnrRX/v1MUAvP+0/6/b3PGC9Bx/r+YqEu6h+/9v5ls1guvTf2/uj/hQfCM/L/VRwIfFq77v6y3nxELsvq/UCBTPdiZ+b+GGf9jpGb4v4SpvK+yGfe/GJvmXmG09b+uYKhTKDj0v0QalIiXpvK/1bPfa1UB8b+WdwdGOpTuvz7THnF5Beu/uXI4bCZa578808BYHZbjv8Lhya2oet+/83OBta6n17887lyqD3fPv9R1d1Qm+r6/AAAAwDK5cT8=\",\"dtype\":\"float64\",\"shape\":[100]}},\"selected\":{\"id\":\"1419\",\"type\":\"Selection\"},\"selection_policy\":{\"id\":\"1418\",\"type\":\"UnionRenderers\"}},\"id\":\"1361\",\"type\":\"ColumnDataSource\"},{\"attributes\":{\"callback\":null,\"end\":5,\"start\":-5},\"id\":\"1315\",\"type\":\"Range1d\"},{\"attributes\":{\"fill_alpha\":0.1,\"fill_color\":\"#1f77b4\",\"line_alpha\":0.1,\"line_color\":\"#1f77b4\",\"x\":{\"field\":\"x\"},\"y\":{\"field\":\"y\"}},\"id\":\"1353\",\"type\":\"Patch\"},{\"attributes\":{},\"id\":\"1418\",\"type\":\"UnionRenderers\"},{\"attributes\":{\"fill_alpha\":0.3,\"fill_color\":\"#C7B097\",\"x\":{\"field\":\"x\"},\"y\":{\"field\":\"y\"}},\"id\":\"1372\",\"type\":\"Patch\"},{\"attributes\":{\"data_source\":{\"id\":\"1351\",\"type\":\"ColumnDataSource\"},\"glyph\":{\"id\":\"1352\",\"type\":\"Patch\"},\"hover_glyph\":null,\"muted_glyph\":null,\"nonselection_glyph\":{\"id\":\"1353\",\"type\":\"Patch\"},\"selection_glyph\":null,\"view\":{\"id\":\"1355\",\"type\":\"CDSView\"}},\"id\":\"1354\",\"type\":\"GlyphRenderer\"},{\"attributes\":{},\"id\":\"1317\",\"type\":\"LinearScale\"},{\"attributes\":{},\"id\":\"1419\",\"type\":\"Selection\"},{\"attributes\":{\"fill_alpha\":0.1,\"fill_color\":\"#1f77b4\",\"line_alpha\":0.1,\"line_color\":\"#1f77b4\",\"x\":{\"field\":\"x\"},\"y\":{\"field\":\"y\"}},\"id\":\"1373\",\"type\":\"Patch\"},{\"attributes\":{\"source\":{\"id\":\"1351\",\"type\":\"ColumnDataSource\"}},\"id\":\"1355\",\"type\":\"CDSView\"},{\"attributes\":{},\"id\":\"1319\",\"type\":\"LinearScale\"},{\"attributes\":{\"callback\":null,\"data\":{\"x\":{\"__ndarray__\":\"AAAA7tInAkC0ewBy5h0CQPgifm4rAAJADjryKcHOAUAamuyf24kBQPyuZErDMQFAqHR71dTGAEAaqP69gEkAQOhyJ7aVdP8/mfQNp5Mz/j+t26H+TNH8P/3i8Gs2T/s//ywZFeau+T/SwwjsEfL3P9dZyuGNGvY/G+5D+kkq9D+QKW1CUCPyP1NbIqvCB/A/zpOrlbGz6z88/vYQuzfnPwhSR2RZoOI/jiY0B8Lk2z9wkC5MfGXSP4FWfmG+mcE/8KyTLKFfi78UxTYt4A/FvzIrv1DML9S/YJAubGnI3b9EE5qT16PjvwFSR/TPUei/Nf72oDHp7L/kydUSlLLwv1BbIvN94PK/jyltigv89L8Z7kNCBQP3v9ZZyilJ8/i/z8MINM3K+r/+LBldoYf8v/vi8LPxJ/6/q9uhRgiq/79L+oZ3J4YAwHK5E3+oJgHAGaj+Yd61AcCndHt5MjMCwPyuZO4gngLAGprsQzn2AsAOOvLNHjsDwPcifhKJbAPAtHsAFkSKA8AAAACSMJQDwAAAAJIwlAPAtHsAFkSKA8D3In4SiWwDwA468s0eOwPAGprsQzn2AsD8rmTuIJ4CwKd0e3kyMwLAGaj+Yd61AcByuRN/qCYBwEv6hncnhgDAq9uhRgiq/7/74vCz8Sf+v/4sGV2hh/y/z8MINM3K+r/WWcopSfP4vxnuQ0IFA/e/jyltigv89L9QWyLzfeDyv+TJ1RKUsvC/Nf72oDHp7L8BUkf0z1Hov0QTmpPXo+O/YJAubGnI3b8yK79QzC/UvxTFNi3gD8W/8KyTLKFfi7+BVn5hvpnBP3CQLkx8ZdI/jiY0B8Lk2z8IUkdkWaDiPzz+9hC7N+c/zpOrlbGz6z9TWyKrwgfwP5ApbUJQI/I/G+5D+kkq9D/XWcrhjRr2P9LDCOwR8vc//ywZFeau+T/94vBrNk/7P63bof5M0fw/mfQNp5Mz/j/ocie2lXT/Pxqo/r2ASQBAqHR71dTGAED8rmRKwzEBQBqa7J/biQFADjryKcHOAUD4In5uKwACQLR7AHLmHQJAAAAA7tInAkA=\",\"dtype\":\"float64\",\"shape\":[100]},\"y\":{\"__ndarray__\":\"AAAAwDK5cT/SRAocJOXDPzz6mwETlNM/etr2CUYh3T/Oq6NzD0jjP+Bn0qNY6+c/BSyum5117D9wuSvZC3HwP/haDMsPlvI/OTnPGJmn9D9IZ4i1eqP2P1tRCFyeh/g/UILjwAZS+j+abjSq0QD8P02s4+o5kv0/fvRgP5kE/z/yt+sENSsAQOcCBXYkwwBAsEKUHntJAUC2Mwqtq70BQJq1Wec7HwJAaaSLK8VtAkBf+rXb9KgCQCOn5LSM0AJAia+YEGPkAkCJr5gQY+QCQCOn5LSM0AJAX/q12/SoAkBppIsrxW0CQJu1Wec7HwJAtjMKrau9AUCxQpQee0kBQOgCBXYkwwBA8rfrBDUrAECA9GA/mQT/P0+s4+o5kv0/nW40qtEA/D9RguPABlL6P19RCFyeh/g/S2eItXqj9j89Oc8Ymaf0P/taDMsPlvI/crkr2Qtx8D8NLK6bnXXsP+Rn0qNY6+c/16ujcw9I4z+E2vYJRiHdP1H6mwETlNM/7UQKHCTlwz9NAQDAMrlxP7P+/78yuXE/7UQK8JDJwr9R+ptrSQbTv4Ta9nN8k9y/16ujqCoB47/kZ9LYc6Tnvw0srtC4Luy/crmrc5lN8L/7WoxlnXLyvz05T7MmhPS/S2cIUAiA9r9fUYj2K2T4v1GCY1uULvq/nW60RF/d+79PrGOFx279v4D04Nkm4f6/8rcr0nsZAMDoAkVDa7EAwLFC1OvBNwHAtjNKevKrAcCbtZm0gg0CwGmky/gLXALAX/r1qDuXAsAjpySC074CwImv2N2p0gLAia/Y3anSAsAjpySC074CwF/69ag7lwLAaaTL+AtcAsCatZm0gg0CwLYzSnryqwHAsELU68E3AcDnAkVDa7EAwPK3K9J7GQDAfvTg2Sbh/r9NrGOFx279v5putERf3fu/UIJjW5Qu+r9bUYj2K2T4v0hnCFAIgPa/OTlPsyaE9L/4WoxlnXLyv3C5q3OZTfC/BSyu0Lgu7L/gZ9LYc6Tnv86ro6gqAeO/etr2c3yT3L88+ptrSQbTv9JECvCQycK/AAAAwDK5cT8=\",\"dtype\":\"float64\",\"shape\":[100]}},\"selected\":{\"id\":\"1415\",\"type\":\"Selection\"},\"selection_policy\":{\"id\":\"1414\",\"type\":\"UnionRenderers\"}},\"id\":\"1351\",\"type\":\"ColumnDataSource\"},{\"attributes\":{},\"id\":\"1420\",\"type\":\"UnionRenderers\"},{\"attributes\":{\"data_source\":{\"id\":\"1371\",\"type\":\"ColumnDataSource\"},\"glyph\":{\"id\":\"1372\",\"type\":\"Patch\"},\"hover_glyph\":null,\"muted_glyph\":null,\"nonselection_glyph\":{\"id\":\"1373\",\"type\":\"Patch\"},\"selection_glyph\":null,\"view\":{\"id\":\"1375\",\"type\":\"CDSView\"}},\"id\":\"1374\",\"type\":\"GlyphRenderer\"},{\"attributes\":{\"callback\":null,\"data\":{\"x\":{\"__ndarray__\":\"AAAAHKRx8T+0ewCgt2fxP/gifpz8SfE/DjryV5IY8T8amuzNrNPwP/yuZHiUe/A/qHR7A6YQ8D80UP3XoybvP+hyJxI4CO4/mfQNAzbH7D+t26Fa72TrP/3i8MfY4uk//ywZcYhC6D/SwwhItIXmP9dZyj0wruQ/G+5DVuy94j+QKW2e8rbgP6a2RA7KNt0/zpOrTfba2D88/vbI/17UPxCkjjg8j88/jiY0d0szxj/gIF14C2i5PwRa+QVF25g/nnWSZc4xqr+KYpumZjnAvzIrv+BC4cm/MEgX/u+80b9EE5rbknzWvwFSRzyLKtu/Nf726OzB37/kydW28R7iv1BbIpfbTOS/jyltLmlo5r8Z7kPmYm/ov9ZZys2mX+q/z8MI2Co37L/+LBkB//Ptv/vi8FdPlO+/1u1Q9TKL8L9L+oZJVjzxv3K5E1HX3PG/Gaj+Mw1s8r+ndHtLYenyv/yuZMBPVPO/GprsFWis878OOvKfTfHzv/cifuS3IvS/tHsA6HJA9L8AAABkX0r0vwAAAGRfSvS/tHsA6HJA9L/3In7ktyL0vw468p9N8fO/GprsFWis87/8rmTAT1Tzv6d0e0th6fK/Gaj+Mw1s8r9yuRNR19zxv0v6hklWPPG/1u1Q9TKL8L/74vBXT5Tvv/4sGQH/8+2/z8MI2Co37L/WWcrNpl/qvxnuQ+Zib+i/jyltLmlo5r9QWyKX20zkv+TJ1bbxHuK/Nf726OzB378BUkc8iyrbv0QTmtuSfNa/MEgX/u+80b8yK7/gQuHJv4pim6ZmOcC/nnWSZc4xqr8EWvkFRduYP+AgXXgLaLk/jiY0d0szxj8QpI44PI/PPzz+9sj/XtQ/zpOrTfba2D+mtkQOyjbdP5ApbZ7ytuA/G+5DVuy94j/XWco9MK7kP9LDCEi0heY//ywZcYhC6D/94vDH2OLpP63boVrvZOs/mfQNAzbH7D/ocicSOAjuPzRQ/dejJu8/qHR7A6YQ8D/8rmR4lHvwPxqa7M2s0/A/DjryV5IY8T/4In6c/EnxP7R7AKC3Z/E/AAAAHKRx8T8=\",\"dtype\":\"float64\",\"shape\":[100]},\"y\":{\"__ndarray__\":\"AAAAwDK5cT/SRAqy7XK0Pzz6m8z32sM/etr21CpozT/OqyPZgWvTP+BnUgnLDtg/BSwuARCZ3D9wuesLxYLgP/hazP3Ip+I/OTmPS1K55D9IZ0joM7XmP1tRyI5Xmeg/UIKj879j6j+abvTcihLsP02sox3zo+0/fvQgclIW7z/yt0ueETTwP+cCZQ8BzPA/sEL0t1dS8T+2M2pGiMbxP5q1uYAYKPI/aaTrxKF28j9f+hV10bHyPyOnRE5p2fI/ia/4qT/t8j+Jr/ipP+3yPyOnRE5p2fI/X/oVddGx8j9ppOvEoXbyP5u1uYAYKPI/tjNqRojG8T+xQvS3V1LxP+gCZQ8BzPA/8rdLnhE08D+A9CByUhbvP0+sox3zo+0/nW703IoS7D9RgqPzv2PqP19RyI5Xmeg/S2dI6DO15j89OY9LUrnkP/tazP3Ip+I/crnrC8WC4D8NLC4BEJncP+RnUgnLDtg/16sj2YFr0z+E2vbUKmjNP1H6m8z32sM/7UQKsu1ytD+mAADAMrlxP1r//78yuXE/7UQKWsc7sr9R+pugZL/Cv4Ta9qiXTMy/16sjQ7jd0r/kZ1JzAYHXvw0sLmtGC9y/crnrQOA74L/7Wswy5GDivz05j4BtcuS/S2dIHU9u5r9fUcjDclLov1GCoyjbHOq/nW70EabL679PrKNSDl3tv4D0IKdtz+6/8rfLOJ8Q8L/oAuWpjqjwv7FCdFLlLvG/tjPq4BWj8b+btTkbpgTyv2mka18vU/K/X/qVD1+O8r8jp8To9rXyv4mveETNyfK/ia94RM3J8r8jp8To9rXyv1/6lQ9fjvK/aaRrXy9T8r+atTkbpgTyv7Yz6uAVo/G/sEJ0UuUu8b/nAuWpjqjwv/K3yzifEPC/fvQgp23P7r9NrKNSDl3tv5pu9BGmy+u/UIKjKNsc6r9bUcjDclLov0hnSB1Pbua/OTmPgG1y5L/4Wswy5GDiv3C560DgO+C/BSwua0YL3L/gZ1JzAYHXv86rI0O43dK/etr2qJdMzL88+pugZL/Cv9JEClrHO7K/AAAAwDK5cT8=\",\"dtype\":\"float64\",\"shape\":[100]}},\"selected\":{\"id\":\"1417\",\"type\":\"Selection\"},\"selection_policy\":{\"id\":\"1416\",\"type\":\"UnionRenderers\"}},\"id\":\"1356\",\"type\":\"ColumnDataSource\"},{\"attributes\":{\"formatter\":{\"id\":\"1407\",\"type\":\"BasicTickFormatter\"},\"plot\":{\"id\":\"1312\",\"subtype\":\"Figure\",\"type\":\"Plot\"},\"ticker\":{\"id\":\"1322\",\"type\":\"BasicTicker\"}},\"id\":\"1321\",\"type\":\"LinearAxis\"},{\"attributes\":{},\"id\":\"1421\",\"type\":\"Selection\"},{\"attributes\":{\"source\":{\"id\":\"1371\",\"type\":\"ColumnDataSource\"}},\"id\":\"1375\",\"type\":\"CDSView\"},{\"attributes\":{\"fill_alpha\":0.3,\"fill_color\":\"green\",\"x\":{\"field\":\"x\"},\"y\":{\"field\":\"y\"}},\"id\":\"1357\",\"type\":\"Patch\"},{\"attributes\":{},\"id\":\"1322\",\"type\":\"BasicTicker\"},{\"attributes\":{},\"id\":\"1422\",\"type\":\"UnionRenderers\"},{\"attributes\":{\"fill_color\":{\"value\":\"#1f77b4\"},\"line_color\":{\"value\":\"#1f77b4\"},\"x\":{\"field\":\"x\"},\"y\":{\"field\":\"y\"}},\"id\":\"1347\",\"type\":\"Circle\"},{\"attributes\":{\"callback\":null,\"data\":{\"x\":{\"__ndarray__\":\"AAAAXHok9D/ouEyCIhn0PwAa7uMm9/M/slKIQKu+8z/sZA0D62/zP/naOwM5C/M/kRp5Lv+Q8j/nAWMYvgHyP1MHjnMMXvE/nCT+cpam8D8iowIqOrjvPww6VLDq/u0/L+x/tg4j7D94syHSmibqP+GFSuKlC+g/tK/W3GbU5T90jQJ6MoPjPwsOscB4GuE/6qjw64Q53T+/D07lXBnYPy2GIMPd2dI/TggSphkByz+BOM0XFSbAP5hpOhRluKQ/Dj/9vz9tp78ssABQiurAv1WaDoXz88u/OJzmq/d1078kBAnzeePYvyWGIOPKPN6/3AenAiW+4b9xVPgFOU7kvwcOsVDvy+a/co0CCqk06b+xr9Zs3YXrv+CFSnIcve2/dLMhYhHY778X9j+jQurwvwQdKqAw2PG/j1EBXdi08r+aJP66UX/zv1IHjrvHNvS/5gFjYHna9L+QGnl2umn1v/naO0v04/W/7GQNS6ZI9r+yUoiIZpf2v/8Z7iviz/a/6LhMyt3x9r8AAACkNf32vwAAAKQ1/fa/6LhMyt3x9r//Ge4r4s/2v7JSiIhml/a/7GQNS6ZI9r/52jtL9OP1v5AaeXa6afW/5gFjYHna9L9SB467xzb0v5ok/rpRf/O/j1EBXdi08r8EHSqgMNjxvxf2P6NC6vC/dLMhYhHY77/ghUpyHL3tv7Gv1mzdheu/co0CCqk06b8HDrFQ78vmv3FU+AU5TuS/3AenAiW+4b8lhiDjyjzevyQECfN549i/OJzmq/d1079Vmg6F8/PLvyywAFCK6sC/Dj/9vz9tp7+YaToUZbikP4E4zRcVJsA/TggSphkByz8thiDD3dnSP78PTuVcGdg/6qjw64Q53T8LDrHAeBrhP3SNAnoyg+M/tK/W3GbU5T/hhUripQvoP3izIdKaJuo/L+x/tg4j7D8MOlSw6v7tPyKjAio6uO8/nCT+cpam8D9TB45zDF7xP+cBYxi+AfI/kRp5Lv+Q8j/52jsDOQvzP+xkDQPrb/M/slKIQKu+8z8AGu7jJvfzP+i4TIIiGfQ/AAAAXHok9D8=\",\"dtype\":\"float64\",\"shape\":[100]},\"y\":{\"__ndarray__\":\"AACA5bJ85z+QV6edScboP8Z4Q8z19ek//DDa/XcK6z/Mq0BSrQLsP6KxmK6Q3ew/Ipv8zzua7T/iB7k96DfuP7iIFRrwte4/A5zQ0M4T7z/UbpeiIVHvPzas5gyobe8//hPnDURp7z/qdf5D+kPvPy7c8+jx/e4/4gGsqHSX7j/IfalT7hDuP/8nom3sau0//gmhmB2m7D/mclHdUMPrP9BwNNF0w+o/dsqlm5an6T+ofrja4HDoP0ajFGmaIOc/ShghBiW45T+uwuLh+zjkP+TFGA6ypOI/Zlk51vD84D8VixoA7IbeP2JWge0j9No/tsWsxEtF1z/kxP9aQ37TPyh5uO8HRs8/QL8ATThvxz/IAhXGrQC/Pyir32PwBq4/APuo8eOFcL+MlUVG9BGxv3rVlH01hMC/jEaGyXttyL9pE8JCPR7Qv0P/nGp99NO/WqnIEnW1179ynlJVMV3bv6KZTdfZ596/rekoatoo4b/Q9ueElcvivyqEC79lWuS/nFyKj6fT5b///38azjXnvwEAgBrONee/klen0mR/6L/KeEMBEa/pv/4w2jKTw+q/zatAh8i767+jsZjjq5bsvyWb/ARXU+2/4Qe5cgPx7b+4iBVPC2/uvwSc0AXqzO6/1W6X1zwK7784rOZBwybvv/4T50JfIu+/6nX+eBX97r8u3PMdDbfuv+MBrN2PUO6/yH2piAnK7b/+J6KiByTtv/wJoc04X+y/43JREmx867/PcDQGkHzqv3bKpdCxYOm/pn64D/wp6L9EoxSetdnmv0gYITtAceW/rMLiFhfy47/ixRhDzV3iv2RZOQsMtuC/FIsaaiL53b9cVoFXWmbav7HFrC6Ct9a/3cT/xHnw0r8cebjDdCrOvzi/ACGlU8a/rAIVbofJvL8Yq9+zo5ipv2B+1Lgk/Ik/kJVFnhpJsz+G1ZSpyJ/BP5ZGhvUOick/chPC2Aas0D9I/5wAR4LUP12pyKg+Q9g/d55S6/rq2z+lmU1to3XfP7DpKDW/b+E/0vbnT3oS4z8uhAuKSqHkP55cilqMGuY/AACA5bJ85z8=\",\"dtype\":\"float64\",\"shape\":[100]}},\"selected\":{\"id\":\"1425\",\"type\":\"Selection\"},\"selection_policy\":{\"id\":\"1424\",\"type\":\"UnionRenderers\"}},\"id\":\"1376\",\"type\":\"ColumnDataSource\"},{\"attributes\":{\"fill_alpha\":0.1,\"fill_color\":\"#1f77b4\",\"line_alpha\":0.1,\"line_color\":\"#1f77b4\",\"x\":{\"field\":\"x\"},\"y\":{\"field\":\"y\"}},\"id\":\"1358\",\"type\":\"Patch\"},{\"attributes\":{\"plot\":{\"id\":\"1312\",\"subtype\":\"Figure\",\"type\":\"Plot\"},\"ticker\":{\"id\":\"1322\",\"type\":\"BasicTicker\"}},\"id\":\"1325\",\"type\":\"Grid\"},{\"attributes\":{},\"id\":\"1423\",\"type\":\"Selection\"},{\"attributes\":{\"fill_alpha\":0.3,\"fill_color\":\"#C7B097\",\"x\":{\"field\":\"x\"},\"y\":{\"field\":\"y\"}},\"id\":\"1377\",\"type\":\"Patch\"},{\"attributes\":{\"data_source\":{\"id\":\"1356\",\"type\":\"ColumnDataSource\"},\"glyph\":{\"id\":\"1357\",\"type\":\"Patch\"},\"hover_glyph\":null,\"muted_glyph\":null,\"nonselection_glyph\":{\"id\":\"1358\",\"type\":\"Patch\"},\"selection_glyph\":null,\"view\":{\"id\":\"1360\",\"type\":\"CDSView\"}},\"id\":\"1359\",\"type\":\"GlyphRenderer\"},{\"attributes\":{\"active_drag\":\"auto\",\"active_inspect\":\"auto\",\"active_multi\":null,\"active_scroll\":\"auto\",\"active_tap\":\"auto\",\"tools\":[{\"id\":\"1331\",\"type\":\"PanTool\"},{\"id\":\"1332\",\"type\":\"WheelZoomTool\"},{\"id\":\"1333\",\"type\":\"BoxZoomTool\"},{\"id\":\"1334\",\"type\":\"SaveTool\"},{\"id\":\"1335\",\"type\":\"ResetTool\"},{\"id\":\"1336\",\"type\":\"HelpTool\"}]},\"id\":\"1337\",\"type\":\"Toolbar\"},{\"attributes\":{\"formatter\":{\"id\":\"1409\",\"type\":\"BasicTickFormatter\"},\"plot\":{\"id\":\"1312\",\"subtype\":\"Figure\",\"type\":\"Plot\"},\"ticker\":{\"id\":\"1327\",\"type\":\"BasicTicker\"}},\"id\":\"1326\",\"type\":\"LinearAxis\"},{\"attributes\":{},\"id\":\"1424\",\"type\":\"UnionRenderers\"},{\"attributes\":{\"fill_alpha\":0.1,\"fill_color\":\"#1f77b4\",\"line_alpha\":0.1,\"line_color\":\"#1f77b4\",\"x\":{\"field\":\"x\"},\"y\":{\"field\":\"y\"}},\"id\":\"1378\",\"type\":\"Patch\"},{\"attributes\":{\"source\":{\"id\":\"1356\",\"type\":\"ColumnDataSource\"}},\"id\":\"1360\",\"type\":\"CDSView\"},{\"attributes\":{},\"id\":\"1327\",\"type\":\"BasicTicker\"},{\"attributes\":{},\"id\":\"1425\",\"type\":\"Selection\"},{\"attributes\":{\"data_source\":{\"id\":\"1376\",\"type\":\"ColumnDataSource\"},\"glyph\":{\"id\":\"1377\",\"type\":\"Patch\"},\"hover_glyph\":null,\"muted_glyph\":null,\"nonselection_glyph\":{\"id\":\"1378\",\"type\":\"Patch\"},\"selection_glyph\":null,\"view\":{\"id\":\"1380\",\"type\":\"CDSView\"}},\"id\":\"1379\",\"type\":\"GlyphRenderer\"},{\"attributes\":{\"bottom_units\":\"screen\",\"fill_alpha\":{\"value\":0.5},\"fill_color\":{\"value\":\"lightgrey\"},\"left_units\":\"screen\",\"level\":\"overlay\",\"line_alpha\":{\"value\":1.0},\"line_color\":{\"value\":\"black\"},\"line_dash\":[4,4],\"line_width\":{\"value\":2},\"plot\":null,\"render_mode\":\"css\",\"right_units\":\"screen\",\"top_units\":\"screen\"},\"id\":\"1339\",\"type\":\"BoxAnnotation\"},{\"attributes\":{\"fill_alpha\":0.3,\"fill_color\":\"#98AFC7\",\"x\":{\"field\":\"x\"},\"y\":{\"field\":\"y\"}},\"id\":\"1362\",\"type\":\"Patch\"},{\"attributes\":{\"dimension\":1,\"plot\":{\"id\":\"1312\",\"subtype\":\"Figure\",\"type\":\"Plot\"},\"ticker\":{\"id\":\"1327\",\"type\":\"BasicTicker\"}},\"id\":\"1330\",\"type\":\"Grid\"},{\"attributes\":{\"plot\":null,\"text\":\"\"},\"id\":\"1406\",\"type\":\"Title\"},{\"attributes\":{\"source\":{\"id\":\"1376\",\"type\":\"ColumnDataSource\"}},\"id\":\"1380\",\"type\":\"CDSView\"},{\"attributes\":{\"source\":{\"id\":\"1346\",\"type\":\"ColumnDataSource\"}},\"id\":\"1350\",\"type\":\"CDSView\"},{\"attributes\":{\"fill_alpha\":0.1,\"fill_color\":\"#1f77b4\",\"line_alpha\":0.1,\"line_color\":\"#1f77b4\",\"x\":{\"field\":\"x\"},\"y\":{\"field\":\"y\"}},\"id\":\"1363\",\"type\":\"Patch\"},{\"attributes\":{\"callback\":null,\"data\":{\"x\":{\"__ndarray__\":\"AAAALqnaBEDouExUUc8EQAAa7rVVrQRAslKIEtp0BEDsZA3VGSYEQPnaO9VnwQNAkRp5AC5HA0DnAWPq7LcCQFMHjkU7FAJAnCT+RMVcAUCRUQHnS5IAQAw6VFRIa/8/L+x/WmyP/T94syF2+JL7P+GFSoYDePk/tK/WgMRA9z90jQIekO/0PwsOsWTWhvI/dVT4GSAJ8D+/D04tGPLqPy2GIAuZsuU/JwQJG0hZ4D+BOM2ni9fVP8w0Haofv8U/wOGn/6/sZL9XYAGAJ3LGv1WaDvV8Qta/OJzmYzyd4L8kBAmrvgrmvyWGIJsPZOu/3AenXsdR8L9xVPhh2+HyvwcOsayRX/W/co0CZkvI97+xr9bIfxn6v+CFSs6+UPy/dLMhvrNr/r8X9j/REzQAwAQdKs4BIgHAj1EBi6n+AcCaJP7oIskCwFIHjumYgAPA5gFjjkokBMCQGnmki7MEwPnaO3nFLQXA7GQNeXeSBcCyUoi2N+EFwP8Z7lmzGQbA6LhM+K47BsAAAADSBkcGwAAAANIGRwbA6LhM+K47BsD/Ge5ZsxkGwLJSiLY34QXA7GQNeXeSBcD52jt5xS0FwJAaeaSLswTA5gFjjkokBMBSB47pmIADwJok/ugiyQLAj1EBi6n+AcAEHSrOASIBwBf2P9ETNADAdLMhvrNr/r/ghUrOvlD8v7Gv1sh/Gfq/co0CZkvI978HDrGskV/1v3FU+GHb4fK/3AenXsdR8L8lhiCbD2TrvyQECau+Cua/OJzmYzyd4L9Vmg71fELWv1dgAYAncsa/wOGn/6/sZL/MNB2qH7/FP4E4zaeL19U/JwQJG0hZ4D8thiALmbLlP78PTi0Y8uo/dVT4GSAJ8D8LDrFk1obyP3SNAh6Q7/Q/tK/WgMRA9z/hhUqGA3j5P3izIXb4kvs/L+x/WmyP/T8MOlRUSGv/P5FRAedLkgBAnCT+RMVcAUBTB45FOxQCQOcBY+rstwJAkRp5AC5HA0D52jvVZ8EDQOxkDdUZJgRAslKIEtp0BEAAGu61Va0EQOi4TFRRzwRAAAAALqnaBEA=\",\"dtype\":\"float64\",\"shape\":[100]},\"y\":{\"__ndarray__\":\"AADAsvlq9z+QV+dqkLT4P8Z4g5k85Pk//DAay774+j/Mq4Af9PD7P6Kx2HvXy/w/Ips8nYKI/T/iB/kKLyb+P7iIVec2pP4/A5wQnhUC/z/UbtdvaD//PzasJtruW/8//hMn24pX/z/qdT4RQTL/Py7cM7Y47P4/4gHsdbuF/j/IfekgNf/9P/8n4jozWf0//gnhZWSU/D/mcpGql7H7P9BwdJ67sfo/dsrlaN2V+T+ofvinJ1/4P0ajVDbhDvc/Shhh02um9T+uwiKvQif0P+TFWNv4kvI/Zll5ozfr8D8Vi5qaeWPuP2JWAYix0Oo/tsUsX9kh5z/kxH/10FrjPyh5uCQj/94/QL8AglMo1z/IAhUw5HLOPyir3zdd67w/APuoUX1iib+MlUXcvZ/Bv3rVlEgay9C/jEaGlGC02L9pE0Kor0Hgv0P/HNDvF+S/WqlIeOfY579yntK6o4Drv6KZzTxMC++/renonJM68b/Q9qe3Tt3yvyqEy/EebPS/nFxKwmDl9b///z9Nh0f3vwEAQE2HR/e/kldnBR6R+L/KeAM0ysD5v/4wmmVM1fq/zasAuoHN+7+jsVgWZaj8vyWbvDcQZf2/4Qd5pbwC/r+4iNWBxID+vwSckDij3v6/1W5XCvYb/784rKZ0fDj/v/4Tp3UYNP+/6nW+q84O/78u3LNQxsj+v+MBbBBJYv6/yH1pu8Lb/b/+J2LVwDX9v/wJYQDycPy/43IRRSWO+7/PcPQ4SY76v3bKZQNrcvm/pn54QrU7+L9Eo9TQbuv2v0gY4W35gvW/rMKiSdAD9L/ixdh1hm/yv2RZ+T3Fx/C/FIuaz5Qc7r9cVgG9zInqv7HFLJT02ua/3cR/KuwT478cebiOWXHevzi/AOyJmta/rAIVBFFXzb8Yq9/fNrS6v2B+1AjYjZU/kJVFCFG7wj+G1ZTe41jRP5ZGhioqQtk/chNCc5SI4D9I/xyb1F7kP12pSEPMH+g/d57ShYjH6z+lmc0HMVLvP7DpaAIGXvE/0vYnHcEA8z8uhEtXkY/0P55cyifTCPY/AADAsvlq9z8=\",\"dtype\":\"float64\",\"shape\":[100]}},\"selected\":{\"id\":\"1423\",\"type\":\"Selection\"},\"selection_policy\":{\"id\":\"1422\",\"type\":\"UnionRenderers\"}},\"id\":\"1371\",\"type\":\"ColumnDataSource\"},{\"attributes\":{\"data_source\":{\"id\":\"1346\",\"type\":\"ColumnDataSource\"},\"glyph\":{\"id\":\"1347\",\"type\":\"Circle\"},\"hover_glyph\":null,\"muted_glyph\":null,\"nonselection_glyph\":{\"id\":\"1348\",\"type\":\"Circle\"},\"selection_glyph\":null,\"view\":{\"id\":\"1350\",\"type\":\"CDSView\"}},\"id\":\"1349\",\"type\":\"GlyphRenderer\"},{\"attributes\":{\"data_source\":{\"id\":\"1361\",\"type\":\"ColumnDataSource\"},\"glyph\":{\"id\":\"1362\",\"type\":\"Patch\"},\"hover_glyph\":null,\"muted_glyph\":null,\"nonselection_glyph\":{\"id\":\"1363\",\"type\":\"Patch\"},\"selection_glyph\":null,\"view\":{\"id\":\"1365\",\"type\":\"CDSView\"}},\"id\":\"1364\",\"type\":\"GlyphRenderer\"},{\"attributes\":{},\"id\":\"1407\",\"type\":\"BasicTickFormatter\"},{\"attributes\":{\"fill_alpha\":0.3,\"fill_color\":\"green\",\"x\":{\"field\":\"x\"},\"y\":{\"field\":\"y\"}},\"id\":\"1352\",\"type\":\"Patch\"},{\"attributes\":{\"source\":{\"id\":\"1361\",\"type\":\"ColumnDataSource\"}},\"id\":\"1365\",\"type\":\"CDSView\"},{\"attributes\":{},\"id\":\"1412\",\"type\":\"UnionRenderers\"},{\"attributes\":{},\"id\":\"1331\",\"type\":\"PanTool\"},{\"attributes\":{},\"id\":\"1409\",\"type\":\"BasicTickFormatter\"},{\"attributes\":{\"callback\":null,\"data\":{\"x\":{\"__ndarray__\":\"AAAAfHok9D8W5DuiIhn0P2nYqgMn9/M/ckHxX6u+8z9IeQEi62/zPyKFmiE5C/M/5mciTP+Q8j+Rvjc1vgHyPxffb48MXvE/wsLPjZam8D9+/0xdOrjvP+DBD+Hq/u0/vVt55A4j7D/IrSj9mibqP6bHMQqmC+g/5j50AWfU5T965S+bMoPjPz9IS954GuE/tJnAH4U53T/O+4IRXRnYP5Hsi+fd2dI/FCoJ3xkByz9qwqhAFSbAP8hFjnZluKQ/GR4rnz9tp79pODVYiurAv2GRo53z88u/LGFUwPd1078HlYQPeuPYv4nsiwfLPN6/433BGCW+4b/WTOAfOU7kvztIS27vy+a/eOUvK6k06b/jPnSR3YXrv6XHMZocve2/xK0ojRHY77/erTy6Qurwv+7gh7gw2PG/vn+mdti08r/Aws/VUX/zvxXfb9fHNvS/kL43fXna9L/lZyKUumn1vyKFmmn04/W/R3kBaqZI9r9yQfGnZpf2v2jYqkviz/a/FuQ76t3x9r8AAADENf32vwAAAMQ1/fa/FuQ76t3x9r9o2KpL4s/2v3JB8adml/a/R3kBaqZI9r8ihZpp9OP1v+VnIpS6afW/kL43fXna9L8V32/Xxzb0v8DCz9VRf/O/vn+mdti08r/u4Ie4MNjxv96tPLpC6vC/xK0ojRHY77+lxzGaHL3tv+M+dJHdheu/eOUvK6k06b87SEtu78vmv9ZM4B85TuS/433BGCW+4b+J7IsHyzzevweVhA9649i/LGFUwPd1079hkaOd8/PLv2k4NViK6sC/GR4rnz9tp7/IRY52ZbikP2rCqEAVJsA/FCoJ3xkByz+R7Ivn3dnSP877ghFdGdg/tJnAH4U53T8/SEveeBrhP3rlL5syg+M/5j50AWfU5T+mxzEKpgvoP8itKP2aJuo/vVt55A4j7D/gwQ/h6v7tP37/TF06uO8/wsLPjZam8D8X32+PDF7xP5G+NzW+AfI/5mciTP+Q8j8ihZohOQvzP0h5ASLrb/M/ckHxX6u+8z9p2KoDJ/fzPxbkO6IiGfQ/AAAAfHok9D8=\",\"dtype\":\"float64\",\"shape\":[100]},\"y\":{\"__ndarray__\":\"AAAAwDK5cT/qujvsbyaxPx53LjY2kMA/83OBFl18yD/h8GSHqyfQPzzTQIl0ANQ/uXK4nH3E1z8+056h0G/bP5Z3h3aR/t4/1bMfBIE24T9EGtQgw9viP65g6OtTbeQ/GJsm94zp5T+EqfxH3k7nP4YZP/zPm+g/UCCT1QPP6T+st9+pNufqP9VHQrdB4+s/uj8h2hvC7D+ZbBak2oLtP5ioi1KzJO4/b3MGpPum7j9TFEKLKgnvP77cW7/YSu8/DeJ5KMFr7z8N4nkowWvvP77cW7/YSu8/UxRCiyoJ7z9vcwak+6buP5moi1KzJO4/mmwWpNqC7T+7PyHaG8LsP9ZHQrdB4+s/rbffqTbn6j9SIJPVA8/pP4cZP/zPm+g/hqn8R95O5z8Zmyb3jOnlP7Bg6OtTbeQ/RhrUIMPb4j/Zsx8EgTbhP5t3h3aR/t4/QNOeodBv2z/AcricfcTXP0DTQIl0ANQ/6fBkh6sn0D/8c4EWXXzIPzB3LjY2kMA/Abs77G8msT+KAADAMrlxP3b//78yuXE/AnZ3KJPerb9g7lwURum+v/xzgerJYMe/0uHJ4sMzz79A00DzqnLTv8ByuAa0Nte/QNOeCwfi2r+bd4fgx3Dev9mzHzmc7+C/RhrUVd6U4r+wYOggbybkvxmbJiyoouW/hqn8fPkH57+HGT8x61Tov1IgkwofiOm/rbff3lGg6r/WR0LsXJzrv7s/IQ83e+y/mmwW2fU77b+ZqIuHzt3tv29zBtkWYO6/UxRCwEXC7r++3Fv08wPvvw3ieV3cJO+/DeJ5Xdwk77++3Fv08wPvv1MUQsBFwu6/b3MG2RZg7r+YqIuHzt3tv5lsFtn1O+2/uj8hDzd77L/VR0LsXJzrv6y3395RoOq/UCCTCh+I6b+GGT8x61Tov4Sp/Hz5B+e/GJsmLKii5b+uYOggbybkv0Qa1FXelOK/1bMfOZzv4L+Wd4fgx3Devz7TngsH4tq/uXK4BrQ2178800DzqnLTv8LhyeLDM8+/83OB6slgx7887lwURum+v9R1dyiT3q2/AAAAwDK5cT8=\",\"dtype\":\"float64\",\"shape\":[100]}},\"selected\":{\"id\":\"1421\",\"type\":\"Selection\"},\"selection_policy\":{\"id\":\"1420\",\"type\":\"UnionRenderers\"}},\"id\":\"1366\",\"type\":\"ColumnDataSource\"},{\"attributes\":{},\"id\":\"1332\",\"type\":\"WheelZoomTool\"}],\"root_ids\":[\"1312\"]},\"title\":\"Bokeh Application\",\"version\":\"1.0.0\"}};\n",
       "  var render_items = [{\"docid\":\"546debae-30c1-46f9-b76d-2c87933751b8\",\"roots\":{\"1312\":\"f1323d5b-1adf-433d-9457-fc10bb3d2883\"}}];\n",
       "  root.Bokeh.embed.embed_items_notebook(docs_json, render_items);\n",
       "\n",
       "  }\n",
       "  if (root.Bokeh !== undefined) {\n",
       "    embed_document(root);\n",
       "  } else {\n",
       "    var attempts = 0;\n",
       "    var timer = setInterval(function(root) {\n",
       "      if (root.Bokeh !== undefined) {\n",
       "        embed_document(root);\n",
       "        clearInterval(timer);\n",
       "      }\n",
       "      attempts++;\n",
       "      if (attempts > 100) {\n",
       "        console.log(\"Bokeh: ERROR: Unable to run BokehJS code because BokehJS library is missing\");\n",
       "        clearInterval(timer);\n",
       "      }\n",
       "    }, 10, root)\n",
       "  }\n",
       "})(window);"
      ],
      "application/vnd.bokehjs_exec.v0+json": ""
     },
     "metadata": {
      "application/vnd.bokehjs_exec.v0+json": {
       "id": "1312"
      }
     },
     "output_type": "display_data"
    }
   ],
   "source": [
    "fig = figure(\n",
    "    width=400,\n",
    "    height=400,\n",
    "    x_range=(-5, 5),\n",
    "    y_range=(-5, 5)\n",
    ")\n",
    "fig.circle(data[:, 0], data[:, 1])\n",
    "\n",
    "mean, precision = normal_iso.mean_precision.value()\n",
    "cov = torch.eye(2) / precision\n",
    "plotting.plot_normal(fig, mean.numpy(), cov.numpy(), \n",
    "                     line_color='black', fill_alpha=.3, color='green')\n",
    "\n",
    "mean, precision = normal_diag.mean_precision.value()\n",
    "cov = (1/precision).diag()\n",
    "plotting.plot_normal(fig, mean.numpy(), cov.numpy(), \n",
    "                     line_color='black', fill_alpha=.3, color='#98AFC7')\n",
    "\n",
    "mean, precision = normal_full.mean_precision.value()\n",
    "cov = precision.inverse()\n",
    "plotting.plot_normal(fig, mean.numpy(), cov.numpy(), \n",
    "                     line_color='black', fill_alpha=.3, color='#C7B097')\n",
    "\n",
    "show(fig)"
   ]
  }
 ],
 "metadata": {
  "kernelspec": {
   "display_name": "Python 3",
   "language": "python",
   "name": "python3"
  },
  "language_info": {
   "codemirror_mode": {
    "name": "ipython",
    "version": 3
   },
   "file_extension": ".py",
   "mimetype": "text/x-python",
   "name": "python",
   "nbconvert_exporter": "python",
   "pygments_lexer": "ipython3",
   "version": "3.7.2"
  }
 },
 "nbformat": 4,
 "nbformat_minor": 2
}
