{
 "cells": [
  {
   "cell_type": "markdown",
   "metadata": {},
   "source": [
    "# Bayesian Model\n",
    "\n",
    "This notebook illustrate how to use a Bayesian Normal density model with the [beer framework](https://github.com/beer-asr/beer). The Normal distribution is a fairly basic models but it is used extenslively in other model as a basic building block."
   ]
  },
  {
   "cell_type": "code",
   "execution_count": 1,
   "metadata": {},
   "outputs": [
    {
     "data": {
      "text/html": [
       "\n",
       "    <div class=\"bk-root\">\n",
       "        <a href=\"https://bokeh.pydata.org\" target=\"_blank\" class=\"bk-logo bk-logo-small bk-logo-notebook\"></a>\n",
       "        <span id=\"485f2624-e224-4675-9326-e09c6668e1dd\">Loading BokehJS ...</span>\n",
       "    </div>"
      ]
     },
     "metadata": {},
     "output_type": "display_data"
    },
    {
     "data": {
      "application/javascript": [
       "\n",
       "(function(root) {\n",
       "  function now() {\n",
       "    return new Date();\n",
       "  }\n",
       "\n",
       "  var force = true;\n",
       "\n",
       "  if (typeof (root._bokeh_onload_callbacks) === \"undefined\" || force === true) {\n",
       "    root._bokeh_onload_callbacks = [];\n",
       "    root._bokeh_is_loading = undefined;\n",
       "  }\n",
       "\n",
       "  var JS_MIME_TYPE = 'application/javascript';\n",
       "  var HTML_MIME_TYPE = 'text/html';\n",
       "  var EXEC_MIME_TYPE = 'application/vnd.bokehjs_exec.v0+json';\n",
       "  var CLASS_NAME = 'output_bokeh rendered_html';\n",
       "\n",
       "  /**\n",
       "   * Render data to the DOM node\n",
       "   */\n",
       "  function render(props, node) {\n",
       "    var script = document.createElement(\"script\");\n",
       "    node.appendChild(script);\n",
       "  }\n",
       "\n",
       "  /**\n",
       "   * Handle when an output is cleared or removed\n",
       "   */\n",
       "  function handleClearOutput(event, handle) {\n",
       "    var cell = handle.cell;\n",
       "\n",
       "    var id = cell.output_area._bokeh_element_id;\n",
       "    var server_id = cell.output_area._bokeh_server_id;\n",
       "    // Clean up Bokeh references\n",
       "    if (id !== undefined) {\n",
       "      Bokeh.index[id].model.document.clear();\n",
       "      delete Bokeh.index[id];\n",
       "    }\n",
       "\n",
       "    if (server_id !== undefined) {\n",
       "      // Clean up Bokeh references\n",
       "      var cmd = \"from bokeh.io.state import curstate; print(curstate().uuid_to_server['\" + server_id + \"'].get_sessions()[0].document.roots[0]._id)\";\n",
       "      cell.notebook.kernel.execute(cmd, {\n",
       "        iopub: {\n",
       "          output: function(msg) {\n",
       "            var element_id = msg.content.text.trim();\n",
       "            Bokeh.index[element_id].model.document.clear();\n",
       "            delete Bokeh.index[element_id];\n",
       "          }\n",
       "        }\n",
       "      });\n",
       "      // Destroy server and session\n",
       "      var cmd = \"import bokeh.io.notebook as ion; ion.destroy_server('\" + server_id + \"')\";\n",
       "      cell.notebook.kernel.execute(cmd);\n",
       "    }\n",
       "  }\n",
       "\n",
       "  /**\n",
       "   * Handle when a new output is added\n",
       "   */\n",
       "  function handleAddOutput(event, handle) {\n",
       "    var output_area = handle.output_area;\n",
       "    var output = handle.output;\n",
       "\n",
       "    // limit handleAddOutput to display_data with EXEC_MIME_TYPE content only\n",
       "    if ((output.output_type != \"display_data\") || (!output.data.hasOwnProperty(EXEC_MIME_TYPE))) {\n",
       "      return\n",
       "    }\n",
       "\n",
       "    var toinsert = output_area.element.find(\".\" + CLASS_NAME.split(' ')[0]);\n",
       "\n",
       "    if (output.metadata[EXEC_MIME_TYPE][\"id\"] !== undefined) {\n",
       "      toinsert[toinsert.length - 1].firstChild.textContent = output.data[JS_MIME_TYPE];\n",
       "      // store reference to embed id on output_area\n",
       "      output_area._bokeh_element_id = output.metadata[EXEC_MIME_TYPE][\"id\"];\n",
       "    }\n",
       "    if (output.metadata[EXEC_MIME_TYPE][\"server_id\"] !== undefined) {\n",
       "      var bk_div = document.createElement(\"div\");\n",
       "      bk_div.innerHTML = output.data[HTML_MIME_TYPE];\n",
       "      var script_attrs = bk_div.children[0].attributes;\n",
       "      for (var i = 0; i < script_attrs.length; i++) {\n",
       "        toinsert[toinsert.length - 1].firstChild.setAttribute(script_attrs[i].name, script_attrs[i].value);\n",
       "      }\n",
       "      // store reference to server id on output_area\n",
       "      output_area._bokeh_server_id = output.metadata[EXEC_MIME_TYPE][\"server_id\"];\n",
       "    }\n",
       "  }\n",
       "\n",
       "  function register_renderer(events, OutputArea) {\n",
       "\n",
       "    function append_mime(data, metadata, element) {\n",
       "      // create a DOM node to render to\n",
       "      var toinsert = this.create_output_subarea(\n",
       "        metadata,\n",
       "        CLASS_NAME,\n",
       "        EXEC_MIME_TYPE\n",
       "      );\n",
       "      this.keyboard_manager.register_events(toinsert);\n",
       "      // Render to node\n",
       "      var props = {data: data, metadata: metadata[EXEC_MIME_TYPE]};\n",
       "      render(props, toinsert[toinsert.length - 1]);\n",
       "      element.append(toinsert);\n",
       "      return toinsert\n",
       "    }\n",
       "\n",
       "    /* Handle when an output is cleared or removed */\n",
       "    events.on('clear_output.CodeCell', handleClearOutput);\n",
       "    events.on('delete.Cell', handleClearOutput);\n",
       "\n",
       "    /* Handle when a new output is added */\n",
       "    events.on('output_added.OutputArea', handleAddOutput);\n",
       "\n",
       "    /**\n",
       "     * Register the mime type and append_mime function with output_area\n",
       "     */\n",
       "    OutputArea.prototype.register_mime_type(EXEC_MIME_TYPE, append_mime, {\n",
       "      /* Is output safe? */\n",
       "      safe: true,\n",
       "      /* Index of renderer in `output_area.display_order` */\n",
       "      index: 0\n",
       "    });\n",
       "  }\n",
       "\n",
       "  // register the mime type if in Jupyter Notebook environment and previously unregistered\n",
       "  if (root.Jupyter !== undefined) {\n",
       "    var events = require('base/js/events');\n",
       "    var OutputArea = require('notebook/js/outputarea').OutputArea;\n",
       "\n",
       "    if (OutputArea.prototype.mime_types().indexOf(EXEC_MIME_TYPE) == -1) {\n",
       "      register_renderer(events, OutputArea);\n",
       "    }\n",
       "  }\n",
       "\n",
       "  \n",
       "  if (typeof (root._bokeh_timeout) === \"undefined\" || force === true) {\n",
       "    root._bokeh_timeout = Date.now() + 5000;\n",
       "    root._bokeh_failed_load = false;\n",
       "  }\n",
       "\n",
       "  var NB_LOAD_WARNING = {'data': {'text/html':\n",
       "     \"<div style='background-color: #fdd'>\\n\"+\n",
       "     \"<p>\\n\"+\n",
       "     \"BokehJS does not appear to have successfully loaded. If loading BokehJS from CDN, this \\n\"+\n",
       "     \"may be due to a slow or bad network connection. Possible fixes:\\n\"+\n",
       "     \"</p>\\n\"+\n",
       "     \"<ul>\\n\"+\n",
       "     \"<li>re-rerun `output_notebook()` to attempt to load from CDN again, or</li>\\n\"+\n",
       "     \"<li>use INLINE resources instead, as so:</li>\\n\"+\n",
       "     \"</ul>\\n\"+\n",
       "     \"<code>\\n\"+\n",
       "     \"from bokeh.resources import INLINE\\n\"+\n",
       "     \"output_notebook(resources=INLINE)\\n\"+\n",
       "     \"</code>\\n\"+\n",
       "     \"</div>\"}};\n",
       "\n",
       "  function display_loaded() {\n",
       "    var el = document.getElementById(\"485f2624-e224-4675-9326-e09c6668e1dd\");\n",
       "    if (el != null) {\n",
       "      el.textContent = \"BokehJS is loading...\";\n",
       "    }\n",
       "    if (root.Bokeh !== undefined) {\n",
       "      if (el != null) {\n",
       "        el.textContent = \"BokehJS \" + root.Bokeh.version + \" successfully loaded.\";\n",
       "      }\n",
       "    } else if (Date.now() < root._bokeh_timeout) {\n",
       "      setTimeout(display_loaded, 100)\n",
       "    }\n",
       "  }\n",
       "\n",
       "\n",
       "  function run_callbacks() {\n",
       "    try {\n",
       "      root._bokeh_onload_callbacks.forEach(function(callback) { callback() });\n",
       "    }\n",
       "    finally {\n",
       "      delete root._bokeh_onload_callbacks\n",
       "    }\n",
       "    console.info(\"Bokeh: all callbacks have finished\");\n",
       "  }\n",
       "\n",
       "  function load_libs(js_urls, callback) {\n",
       "    root._bokeh_onload_callbacks.push(callback);\n",
       "    if (root._bokeh_is_loading > 0) {\n",
       "      console.log(\"Bokeh: BokehJS is being loaded, scheduling callback at\", now());\n",
       "      return null;\n",
       "    }\n",
       "    if (js_urls == null || js_urls.length === 0) {\n",
       "      run_callbacks();\n",
       "      return null;\n",
       "    }\n",
       "    console.log(\"Bokeh: BokehJS not loaded, scheduling load and callback at\", now());\n",
       "    root._bokeh_is_loading = js_urls.length;\n",
       "    for (var i = 0; i < js_urls.length; i++) {\n",
       "      var url = js_urls[i];\n",
       "      var s = document.createElement('script');\n",
       "      s.src = url;\n",
       "      s.async = false;\n",
       "      s.onreadystatechange = s.onload = function() {\n",
       "        root._bokeh_is_loading--;\n",
       "        if (root._bokeh_is_loading === 0) {\n",
       "          console.log(\"Bokeh: all BokehJS libraries loaded\");\n",
       "          run_callbacks()\n",
       "        }\n",
       "      };\n",
       "      s.onerror = function() {\n",
       "        console.warn(\"failed to load library \" + url);\n",
       "      };\n",
       "      console.log(\"Bokeh: injecting script tag for BokehJS library: \", url);\n",
       "      document.getElementsByTagName(\"head\")[0].appendChild(s);\n",
       "    }\n",
       "  };var element = document.getElementById(\"485f2624-e224-4675-9326-e09c6668e1dd\");\n",
       "  if (element == null) {\n",
       "    console.log(\"Bokeh: ERROR: autoload.js configured with elementid '485f2624-e224-4675-9326-e09c6668e1dd' but no matching script tag was found. \")\n",
       "    return false;\n",
       "  }\n",
       "\n",
       "  var js_urls = [\"https://cdn.pydata.org/bokeh/release/bokeh-0.12.16.min.js\", \"https://cdn.pydata.org/bokeh/release/bokeh-widgets-0.12.16.min.js\", \"https://cdn.pydata.org/bokeh/release/bokeh-tables-0.12.16.min.js\", \"https://cdn.pydata.org/bokeh/release/bokeh-gl-0.12.16.min.js\"];\n",
       "\n",
       "  var inline_js = [\n",
       "    function(Bokeh) {\n",
       "      Bokeh.set_log_level(\"info\");\n",
       "    },\n",
       "    \n",
       "    function(Bokeh) {\n",
       "      \n",
       "    },\n",
       "    function(Bokeh) {\n",
       "      console.log(\"Bokeh: injecting CSS: https://cdn.pydata.org/bokeh/release/bokeh-0.12.16.min.css\");\n",
       "      Bokeh.embed.inject_css(\"https://cdn.pydata.org/bokeh/release/bokeh-0.12.16.min.css\");\n",
       "      console.log(\"Bokeh: injecting CSS: https://cdn.pydata.org/bokeh/release/bokeh-widgets-0.12.16.min.css\");\n",
       "      Bokeh.embed.inject_css(\"https://cdn.pydata.org/bokeh/release/bokeh-widgets-0.12.16.min.css\");\n",
       "      console.log(\"Bokeh: injecting CSS: https://cdn.pydata.org/bokeh/release/bokeh-tables-0.12.16.min.css\");\n",
       "      Bokeh.embed.inject_css(\"https://cdn.pydata.org/bokeh/release/bokeh-tables-0.12.16.min.css\");\n",
       "    }\n",
       "  ];\n",
       "\n",
       "  function run_inline_js() {\n",
       "    \n",
       "    if ((root.Bokeh !== undefined) || (force === true)) {\n",
       "      for (var i = 0; i < inline_js.length; i++) {\n",
       "        inline_js[i].call(root, root.Bokeh);\n",
       "      }if (force === true) {\n",
       "        display_loaded();\n",
       "      }} else if (Date.now() < root._bokeh_timeout) {\n",
       "      setTimeout(run_inline_js, 100);\n",
       "    } else if (!root._bokeh_failed_load) {\n",
       "      console.log(\"Bokeh: BokehJS failed to load within specified timeout.\");\n",
       "      root._bokeh_failed_load = true;\n",
       "    } else if (force !== true) {\n",
       "      var cell = $(document.getElementById(\"485f2624-e224-4675-9326-e09c6668e1dd\")).parents('.cell').data().cell;\n",
       "      cell.output_area.append_execute_result(NB_LOAD_WARNING)\n",
       "    }\n",
       "\n",
       "  }\n",
       "\n",
       "  if (root._bokeh_is_loading === 0) {\n",
       "    console.log(\"Bokeh: BokehJS loaded, going straight to plotting\");\n",
       "    run_inline_js();\n",
       "  } else {\n",
       "    load_libs(js_urls, function() {\n",
       "      console.log(\"Bokeh: BokehJS plotting callback run at\", now());\n",
       "      run_inline_js();\n",
       "    });\n",
       "  }\n",
       "}(window));"
      ],
      "application/vnd.bokehjs_load.v0+json": "\n(function(root) {\n  function now() {\n    return new Date();\n  }\n\n  var force = true;\n\n  if (typeof (root._bokeh_onload_callbacks) === \"undefined\" || force === true) {\n    root._bokeh_onload_callbacks = [];\n    root._bokeh_is_loading = undefined;\n  }\n\n  \n\n  \n  if (typeof (root._bokeh_timeout) === \"undefined\" || force === true) {\n    root._bokeh_timeout = Date.now() + 5000;\n    root._bokeh_failed_load = false;\n  }\n\n  var NB_LOAD_WARNING = {'data': {'text/html':\n     \"<div style='background-color: #fdd'>\\n\"+\n     \"<p>\\n\"+\n     \"BokehJS does not appear to have successfully loaded. If loading BokehJS from CDN, this \\n\"+\n     \"may be due to a slow or bad network connection. Possible fixes:\\n\"+\n     \"</p>\\n\"+\n     \"<ul>\\n\"+\n     \"<li>re-rerun `output_notebook()` to attempt to load from CDN again, or</li>\\n\"+\n     \"<li>use INLINE resources instead, as so:</li>\\n\"+\n     \"</ul>\\n\"+\n     \"<code>\\n\"+\n     \"from bokeh.resources import INLINE\\n\"+\n     \"output_notebook(resources=INLINE)\\n\"+\n     \"</code>\\n\"+\n     \"</div>\"}};\n\n  function display_loaded() {\n    var el = document.getElementById(\"485f2624-e224-4675-9326-e09c6668e1dd\");\n    if (el != null) {\n      el.textContent = \"BokehJS is loading...\";\n    }\n    if (root.Bokeh !== undefined) {\n      if (el != null) {\n        el.textContent = \"BokehJS \" + root.Bokeh.version + \" successfully loaded.\";\n      }\n    } else if (Date.now() < root._bokeh_timeout) {\n      setTimeout(display_loaded, 100)\n    }\n  }\n\n\n  function run_callbacks() {\n    try {\n      root._bokeh_onload_callbacks.forEach(function(callback) { callback() });\n    }\n    finally {\n      delete root._bokeh_onload_callbacks\n    }\n    console.info(\"Bokeh: all callbacks have finished\");\n  }\n\n  function load_libs(js_urls, callback) {\n    root._bokeh_onload_callbacks.push(callback);\n    if (root._bokeh_is_loading > 0) {\n      console.log(\"Bokeh: BokehJS is being loaded, scheduling callback at\", now());\n      return null;\n    }\n    if (js_urls == null || js_urls.length === 0) {\n      run_callbacks();\n      return null;\n    }\n    console.log(\"Bokeh: BokehJS not loaded, scheduling load and callback at\", now());\n    root._bokeh_is_loading = js_urls.length;\n    for (var i = 0; i < js_urls.length; i++) {\n      var url = js_urls[i];\n      var s = document.createElement('script');\n      s.src = url;\n      s.async = false;\n      s.onreadystatechange = s.onload = function() {\n        root._bokeh_is_loading--;\n        if (root._bokeh_is_loading === 0) {\n          console.log(\"Bokeh: all BokehJS libraries loaded\");\n          run_callbacks()\n        }\n      };\n      s.onerror = function() {\n        console.warn(\"failed to load library \" + url);\n      };\n      console.log(\"Bokeh: injecting script tag for BokehJS library: \", url);\n      document.getElementsByTagName(\"head\")[0].appendChild(s);\n    }\n  };var element = document.getElementById(\"485f2624-e224-4675-9326-e09c6668e1dd\");\n  if (element == null) {\n    console.log(\"Bokeh: ERROR: autoload.js configured with elementid '485f2624-e224-4675-9326-e09c6668e1dd' but no matching script tag was found. \")\n    return false;\n  }\n\n  var js_urls = [\"https://cdn.pydata.org/bokeh/release/bokeh-0.12.16.min.js\", \"https://cdn.pydata.org/bokeh/release/bokeh-widgets-0.12.16.min.js\", \"https://cdn.pydata.org/bokeh/release/bokeh-tables-0.12.16.min.js\", \"https://cdn.pydata.org/bokeh/release/bokeh-gl-0.12.16.min.js\"];\n\n  var inline_js = [\n    function(Bokeh) {\n      Bokeh.set_log_level(\"info\");\n    },\n    \n    function(Bokeh) {\n      \n    },\n    function(Bokeh) {\n      console.log(\"Bokeh: injecting CSS: https://cdn.pydata.org/bokeh/release/bokeh-0.12.16.min.css\");\n      Bokeh.embed.inject_css(\"https://cdn.pydata.org/bokeh/release/bokeh-0.12.16.min.css\");\n      console.log(\"Bokeh: injecting CSS: https://cdn.pydata.org/bokeh/release/bokeh-widgets-0.12.16.min.css\");\n      Bokeh.embed.inject_css(\"https://cdn.pydata.org/bokeh/release/bokeh-widgets-0.12.16.min.css\");\n      console.log(\"Bokeh: injecting CSS: https://cdn.pydata.org/bokeh/release/bokeh-tables-0.12.16.min.css\");\n      Bokeh.embed.inject_css(\"https://cdn.pydata.org/bokeh/release/bokeh-tables-0.12.16.min.css\");\n    }\n  ];\n\n  function run_inline_js() {\n    \n    if ((root.Bokeh !== undefined) || (force === true)) {\n      for (var i = 0; i < inline_js.length; i++) {\n        inline_js[i].call(root, root.Bokeh);\n      }if (force === true) {\n        display_loaded();\n      }} else if (Date.now() < root._bokeh_timeout) {\n      setTimeout(run_inline_js, 100);\n    } else if (!root._bokeh_failed_load) {\n      console.log(\"Bokeh: BokehJS failed to load within specified timeout.\");\n      root._bokeh_failed_load = true;\n    } else if (force !== true) {\n      var cell = $(document.getElementById(\"485f2624-e224-4675-9326-e09c6668e1dd\")).parents('.cell').data().cell;\n      cell.output_area.append_execute_result(NB_LOAD_WARNING)\n    }\n\n  }\n\n  if (root._bokeh_is_loading === 0) {\n    console.log(\"Bokeh: BokehJS loaded, going straight to plotting\");\n    run_inline_js();\n  } else {\n    load_libs(js_urls, function() {\n      console.log(\"Bokeh: BokehJS plotting callback run at\", now());\n      run_inline_js();\n    });\n  }\n}(window));"
     },
     "metadata": {},
     "output_type": "display_data"
    }
   ],
   "source": [
    "# Add \"beer\" to the PYTHONPATH\n",
    "import sys\n",
    "sys.path.insert(0, '../')\n",
    "\n",
    "import beer\n",
    "import numpy as np\n",
    "import torch\n",
    "\n",
    "# For plotting.\n",
    "from bokeh.io import show, output_notebook\n",
    "from bokeh.plotting import figure, gridplot\n",
    "output_notebook()\n",
    "\n",
    "# Convenience functions for plotting.\n",
    "import plotting\n",
    "\n",
    "%load_ext autoreload\n",
    "%autoreload 2"
   ]
  },
  {
   "cell_type": "code",
   "execution_count": 2,
   "metadata": {},
   "outputs": [
    {
     "data": {
      "text/plain": [
       "'0.4.1'"
      ]
     },
     "execution_count": 2,
     "metadata": {},
     "output_type": "execute_result"
    }
   ],
   "source": [
    "torch.__version__"
   ]
  },
  {
   "cell_type": "markdown",
   "metadata": {},
   "source": [
    "## Data\n",
    "\n",
    "Generate some normally distributed data:"
   ]
  },
  {
   "cell_type": "code",
   "execution_count": 3,
   "metadata": {},
   "outputs": [
    {
     "data": {
      "text/html": [
       "\n",
       "<div class=\"bk-root\">\n",
       "    <div class=\"bk-plotdiv\" id=\"d39eaba6-fb72-486e-b2dc-ad9fcbf53cd8\"></div>\n",
       "</div>"
      ]
     },
     "metadata": {},
     "output_type": "display_data"
    },
    {
     "data": {
      "application/javascript": [
       "(function(root) {\n",
       "  function embed_document(root) {\n",
       "    \n",
       "  var docs_json = {\"acbd0755-5a48-4ea4-9460-33136ac32bb0\":{\"roots\":{\"references\":[{\"attributes\":{\"callback\":null,\"data\":{\"x\":{\"__ndarray__\":\"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\",\"dtype\":\"float64\",\"shape\":[1000]},\"y\":{\"__ndarray__\":\"vAsLV7+aoL92/DjgN5Piv8QVi8O8ees/lvXjJ5Dw+b+csqSB727aP9CjIp/c9fg/2EoYCSs69r+tAoQ/2QHZP+ZqrA564vS/iKHzIHg47j9nSsodGEHFv2YKqGy399O/ZHqnct/r4T8WDlEErDsBwA4+kALzP9i/oadEEuHqzb/YGNdRhAbAPy15YKEyJvs/BNtSmWKrAsBlbJOZd/Xuv5n7OzgrEgpArCnWxgNQvr9kcQVCf4LyPyc9wCmjzeM/nCXXzLjJwT/Y0oVG62LhP8gwEOUXjuS/t5tlOp8r4b9HwYrtr2HoP86VL+ivoO+/qQfkaA1ZAUCgcxNYXbrYv5Ij+jO9euw/oL64Hd4nh78RzYbYoF3xP850z+RGs9a/sGzaNlUf+z/K43Z3yqLsP/WOprrCbeW/UnTnF+H70L9OGIeMOHfuv1hdPczv4t4//NyjItoM1j8Q7BEo0eLFP2mOO/kJpADAlkbsxzBG6b9+8y6jc+fzP7r/KlPrUOC/UBYEYFjo6z/IWquFlHPhvwnUq5MD2uI/fmADudNk6j/Y/7uqyk+Wv/yEErjbvuy/NStQ788b8T/tbS2FnAfXP5AqYTsflfM/QNCqngr2yb+dkA5QARXiv5oguG7oFvs/NUUr9kJY6L+miBjTriblv2anJ/Is/uU/CxchMNpA3L872gTZv5P0vxteu7iaBPW/m9r1bqcT87+PpK1KqcXyv1CRGB/S3OU/ot6uBMhw5z982oGGOEy+vxUds5urlvA/+h6FEBlh8T8ooZEsDFzjP1AA1olo9Km/yvcK5CI95L8flmD4yNvuvx7BBwzfEui/4NnJnWzs6b+4747uVG3yvzPuaW2m2ui/dUd0glNb7L/UxSnFI0LaP6/cNzAdSfi/Zg8vbscq8L/P6qW/dRLiP2lNmRDKXOQ/pamIvvqr0L9a0hJzRmncvzKqRc3SyMO/AuFYkAzs678LsfY9K7rxP1AFYdolWIU/1hcngpCc8b8EpvjJvkrMP+jzxLVWH+G/sKqUGiyo7b+Wm/0Gl6XWP9ELKZppXOC/7F8Byq+syD8SA0D4QwbiP8v2d/JdxfS/cl7DbcMm4b8fkaP/4rL3v4ozJ9R/78M/CcrvQR4g8r+zhS1g1gTkv7TBYjefIgPAs40RlX7sur/xwNM095D7P/CS28byx/m/6qIUTqk/2b9SwEexfTjbv0m4YMt54ui/+eZ34MtJ0j8XL+dcB0DkP35MAdpAa/E/xf36h/3+8j9AR79W2xp8P+lhzxAbtv0/Ck6TcNj81D9QjkJECsKSv4EAYiP0+e8/qLMznq87yj+AwXIZPq/EP88UxGfbp+0/5h+VjBSzyb+14kJKA+Hyv19DzvdoWea/gKmBG0FF+T8EeRisSC70PwxdZvIZLM0/1v0eIJI65r8V32cf0ODkvzelgRGmXfI/J4RqT0xc8b8gLmaZ2j3Gv3MQW1dyjv2/btfTZbO797/PcTY+DV/kP710DfuXMOy/IAi0m00+sb/dgHhQK48EQChEDy6/Qew/cHzmHCpToD+hVmgHCI0BwA5Fw5KoPfK/PFLXZcMryj9orowzTbiIv2i7mlGa6uQ/8DuAl0Q4gz8pA7o1GNjrPyBEA7Z8coc/qyQ+Fdc18j9I71CTdg+6P+MeWrEstfE/YsGiPDR757/IDXo7koUDQP2aqguYjOc/8SjOsh8b7T+247hOLZL+v7wGrpV1y/q/ea5vecgc7b+qPuKYsAHlv2xrz+Zbq8+/xTGPAupe+D9W3m4olkXXv5w8WmplbN0/8NpwnpAfBEDG9X3M6Z/KP9x8vS4ES+8/VTbgGIdj57+zdImf+Qrov3DwgXepUru/0AWHWg1mwT9+oqF2wCftP9yEbywTPf8/ypgo3U5A8D+BNemL9DDavwZi0LlA3Lw/UBSp4rR14b+Tkqiogo7ZP0HCv4EBKPU/esi/IzU32z8cNe6K0Rr1P7gXW998DgFAiJuc8DOxoL/ivKGyYgniPyggmzIOq9M/Xn2rqe3DyL95vZ1eJi7yvwAwdMTnVoI/aUyDAE+k9j/hMAC3kw/wv3UT9xXmouc/qmUlZ51X27/Gt8c8XTr4v+yjSnwJFP6/7WSo8CCN3L+CCDlq8G/TPxDAUnyxDdI/96xzhQkM4D+jmzW+WEblv2ifm2cJab4/Vjyky4uZ87/KXdVTDdTFP0Yk6jICAeq/YKZjQk+G67/WhbKaFo3rv+kCrgC9VvI/bU7Er5lSzD/gqhOcpoflP9kMl7SMy80/2j9bjmzo0L8ybGUixNP5PxBGfspEttU/hrs9zM4i2z+yt9WYnu3hPyae12gm7+e/tPkAB8Qf7r+KtyODE1Dpv/fP872DCem/7AYXxKIwxz9BrKmW/b/0P9oYos0uQOw/d0QKra8p6T9Y/9lJdR6TvwHM9DM5ffY/iOXd5yJQ1T9YG1VKbhDxP65Y1VOsKfM/BirKGEbaAkAC7WneJ+D+PwpVplkPVd8/7I4rhGVq9T9wjLzQHgrtP1tvvjxqWOI/L/WqcA1k4b/w/wyioXfDvyJH8/ftaus/chZnwa1i1r8ohioJYGq0vyTs062BhwPAAJqidSyc0L/FIjqDYp72PzRNiE8WyLU/LlPkodlC+L/IqdzBRWD9v47vsVDiJPu/VZ9JXCrhAcDvc43a2Y7Qv6668qHfVu2/ZDIe/+ROs7+6lb6dZcjMvz8OF1J5Vfa/l4KGQRtu97950IyTibnsv84eGDkXB+Q/PS/aFgvo1r8qeXDCy6zaPw7DOcJTxfA/N4kBcbw92j/tA3tPV3/Xv3x1GB95ywFAQ3rYPzi+7b90wB9krwjMP8BsxRXgE/6/tOzLm+2n8z8rylOzqUnpvzqUG2IDCfA/kLEUmC8m0L88Xv3VnkHxP0a7BPqJyuS/hKHfnBIL2r9iGlPCrfnpP4JljFIjV9O/r69U7PuO6z9Gvet0kiD/vx2YRjK4NdK/6dXzbuAN7b9yX5PGKZ/qv5y9ZlP06QRAeoDMxP6F9b+6tYTrt/bzP/Ax1/Zx0sq/brJit1bv8r9Omo0/oDy9v7AXNyAlWrS/qb31CHiD3L+fowvV4jrzv7Hyb9WEIOi/iisde1SbzD983iz74u72vwhRDCxT0bi/yVN9ITpDtj9zhwXUH0bZPxy8Qs//nck/4GFsUvfT4r/gmi7B/CLVPzUuBfNb7+E/50zArJtl2r+i/xxKpl/YP+7GVKPbhLS/g8c+g9n78r8SQmlWZJbjv0LUEk6v59g/Boh9hylL9D8OrWddOiH7v/YwlxXvPOs/Psk9Wh5a+j8sTr4h2gzBPwyrKAr1hdO/0OFIsnaPBUC6eAUBA53mP7RGI/tIb+c/58YDptQ3+b/TNIHA4vX7v1bEn0aO8MA/37I8Kmjk9z9Ml5hhbkzyvz5ciUXCwdY//lX0ELXO8j+0BSjtZun4P1wKzrSnYey/alIX/5MFw78l5KkRKvr9v4zLgYyBopi/ouyU6i5B0b9EpFNphgLxP78c0jjWa9+/zpPJ5jKo3T+fJfMtF1z2v5hdH12Jdv0/KSZSkapM0j9yjXzCkoXvP1QLSd1UGOU/76PZSMCi2r+9HjzqIGrlP+DA5Oq9e90/xOrmVQQe9b+22EzE6+H1PzZtr1r9udo/jtveU0v34T9YggBw42zqv65M7/4PgvG/rKgH8Qal5L8i6yf8aCrJPxUXiPIgKe0/vuX9bo714b8e8OX1i1Hjv6NaDHvLm+0/rZWht5BV8j+DO7jHMe7nP3N+WT3OL/g/hgrPzcbC8D/gWfP7ukK9P1wNxbLTK/G/dsu1eh9v5r8KW/8vUG3rP/WTeRBs8+a/aMm1r89pwT+OnlqDZsvCP4joDTBet+E/zDwTK2n12j/3nz9K3ifuPxP7u/T6/ui/9I7W8/LL+D/vkSb8rBnYP0zTK4stxOa/1HOOpiXH4r+2NUs35GTzv2WEYSH40dK/5YCEoqIzzz+0EC1pB9LBv9RyS0eX8bW/+q/43Vz/8j8xfN9mxR7fv+oe+CdibuO/Wtb8uzZlxj9mOOHHGKfYv8ivm79Lx/A/+fiQVaGy4D/XhRJKlUrwv4CmSYRgDuC/YrxvCq4u/T8AHhds5l5nv4ARTO0g3Mq/3KbgljNp/D9uFGTtg+73PyECC7AuPPi/9cf5GaVB3T94q7cjLSD6v9T35E9bq/E/EG9fZCvM+r+p0f3Q+Sn3PyB1AtjXWcK/oq0bOvcH6T8MZM84Cgbpv1o6yV6xedg/Nxf6r8ah07+yaPswDBkKwLqKlLGAKLy/YYpQk4I1w7/iEYaQTE3HP1CVqoYAVum/IGUuuo3H4r+6sFSVRs3yP4UzThrjPO+/WKjzP+tq+7/y2Sw6+Brcv10Bfs5kmOy//I2MEzOX5b8cwzMOF5r3P2bjPTrrXci/xxoLwqZv87+HGTVRPTHlPzJD0E2bi9y/K0cH34a48z+ofOuc6lrCv+5XXOsu//e/C3BF0V25+z/aa0chB43jP9cCf2CLzOc/icHQasrU4j91BDX6MzDuP8THi+ocPsa/Xpf+lne04z8ofLc6aMP0P5oyWUwICPY/XAlX7xQw+r/LISM5YETuP7O3SEg4yd4/U/o8fVr9xD/nW4/MP77iv7e5oapcTO8/aefOzsq18j8hqNe+0Wrfv6cPKpxE3fQ/HAKwCYMF8T+nZco6JEAEQOYRploPNPw/z7f+lwgC4D8ot0rPMaLzP0i6Y+8YqHa/Gd0wYT8/zD/hU/kRZizOv+CRaaumM++/Y0Or6JOw1L/QonSlt02jP6GjZk67bgDAmrVJ2k347r+GXIjpBmb4P5VqgENA5vO/G5ayOKf26D+hZAQi8XjyP+2oterMdvm/XJBK4LeRBcBMXK7NFz/dv6bqn57Agdc/OyoBbzfR2z8Q3ZIJ3FnWv+YdI66JVuK/MvZ8UWRe778ix9ulFoTkv771F2wZOe6/dj5l8tL6/T9DlD6+Zxj5vz2EBMYhYvQ/IpE9aKWU3z+oK3Zpcybdv19cpaRdbOG/s7m1uN9Y679p5zhAIIr1v1helaE30t0/ygqCIaCSzT88aZ06XcX3P2qCOQ1Qn+2/MS9Q3Nq12r90CNv7kF3vP+EnMPavDfq/qxxfHa6n378eevk9IZDvvzba3MKg7O0/GtQUfuFe5D+Bh+gOC8/yP2ckxEhBL/q/uZDkkQ3H0j82EB4eYHDoP1A95dGVeN8/RrIjQ8w+3D8hoLnhgqO3v2ZfBrIVq+u/pIz1Z4AF5j+lGR56KwLoPyl3bTTHLfO/K3OFuagtzT/Qvr3psALuPws3iZ1f7PG//eIPOhoE67+cFGvZGi64v4wJzRbeYcs/TsrNhNcF5r+I6+esqT26P1Wj+vS8C+0/zLmd0gx60r/Sak1F0Az0v6sxO23r2eE/E4DCZS019L8ePjKYrXThP2i7mA7pYMQ/IOcZm13QsD8cdlYWyXu+vxrpxMnp0Pg/AMBrwwF2iL8niC6bY5D2v+j09kgL7e2/WPHZMLSS9j8czQSGZU/lv/prtB5IMe0/6PsfFg272b8ty2uQDlblP1kWeDZZXNS/fQfg/Nfgxj9PakZGqsTSP4qv/U3fJP6//gBNXOWl3j/g4lBK04PNv411f9QrfKO/A6vAaP2r4L+A9RLjnu+pPw4CYReL/Og/qA47ZmpU57+6AY4YjMDnP57n2qELeeq/HmBgB3jYzz8HZUt59/fcPy4pFTWyYOw/sBOxBf4B3z8Lt4L0f4HyP0lH2WyHXOm/tFq1S2x9q78uuB8H9snzP1N+tJk5/d8/cmiV85D/7L+KSqdxp3jmP3ST2i56GMy/BsCWt6lU1b/rrUgGJXLhv9P8gTkhn/q//VCWHRQC+D+/yPzjzyfcP9oPFLNaSva/YYCA6Ica17/DVjDGl1rvP8pPhDWPHO+/kyJP/Ebi67+uucd0ec3RvyiVyS2g6sW/CG/rVjgFtz/yaXOiPRjxv/z3oQcg1PA/4MikCHSk2z8NS+Z67Rj0P7xNf4bwWei/6D69HE9k4D+EYoAm8Zbev80fjteR79+/cX5Y+WHx+D84WZM65/LJv26oR0hqhts/ulPLcD5y7r+QZVAyFcfyv6wxyl2S4fG/qAedlXhH7794B/laa7y5vx34yiKKM8e/WPsw18mwxD+qeq7p2d7xP1EjJmVjs9m/4EhbUUu04b/EsOKdDaT8P8+Mwhjmb+4/ikuPlkyU4L+GXMFT4xDuv5cpELmlwOO/n8FYbFDE7z/hViP5qYTQvz65YdPVnMs/2NFglv9x8b8XO5Yf8cvDv5Kh3hy9X7M/X4HMm9Hj9D+IC3qe7Um2vyDlXJsIzd0/qOC45DDR7T/2Ri06ygHiv0Jz0ir/W+W/JbuQ9JPS7z+VolHGzUblP/GXDKRj1/6/mv1DBITs9z8SQdhBh9HqP3N0UfJ+7dA/Ov83s+Qj0b+geAhZvrjgPy5FnYR29eQ/zuJD0l2M9b/t1Xysxu73vxOrOUnmcPO/2ecfouvZ378XgnNYBaf7P6TISDr8V+M/nNHkime1zr9KiKt2t3HRvwwXVJ2Xld0/U5b8otAP5j9jGxTWGIPbv5ZCQ+33eNq/O9ciCcQqAcAga9MW4fnUvy5b0DMxC/m/GFMnSSEbtT96EHfrv6r/v0AaVBiYs/A/aLQFGxKkyb+3H4P6Luj3vzXAJYwLNOo/9vDqMbgr6b8TTet/beDsPxv3h55JNs6/6CmRXzkx5b+04YYQqtT+P7U0fxFAXeK/oPRDMZ9n2b+gwiw9DzTjPyC+7Z+VjvM/kWYEWwQM4j+ZQMZDTqbfv1ayIwZrlfE/WK+JBSoV4z/oT2msP+bTv3Y4D7i/y+8/axaNrFlM0z/PeFARFUfVP0gU8Bx9JL+/iF4MW3bnvz8yn2jHmRzyv9TcRTjFzvK/NyNb4dL7xL/cDtVHC7XHP9KsPYjt8+o/oC++2ASP7b8arY6KNRTGvzDFlwVwI9k/nwKTxSAy779Gd1sm3SHzv5f7rT6YKN4//k3ABAPKBMCaw/bNMbrYvxD1PQdSF6I/Bfuk4zQ/AEAS6SsFohj3PxTrd9TwzfU/cWBoVDLG3D9+1I+/KdTYv53eeZoEm+c/+40VMNGh7b+4wxVoWIG4Pz0AbsI1J/s/MmxjVcDp8L8ASlH69FKgvwBK+Cscd4e/bvuW+2300r/pV4rC4Nn1P5bompgczd6/oA+N+mlXzr8zx+CNE0rjPxkMDK5QCAXAfewdtyJI+j/qobrhxg3Uv1dGl5ModeU/TXAGEaP8+D/jrp8aeE/iP1aCJw9qbeE/Qnh5Vb9Dxr94KyB5NtHpv8SgIeVB8fC/wgD8hQfd67+woWGtjge4P68iR832Peg/NTF32gPK5L+SHNBfykvev8hy5pxf6/K/4q49V8KP0D9mQyiNrLDhvxpiMkeeddy/8E9JQ5c0rT/tDf3OLS7nP6Ju+drYYts/5tgqmte4/L9AlapfUyTNP9vcVMnQ4/G/axZ2IWDS87+Rzb9Qo572vwVyeWKG0u8/XUMh4F3T6T96+H1e+vLxP2y+uzJxfb0/UFjs8UVW9z+2+OU5C9P3P3BhEM2lwOU/fL45dbF5/78iAQiz7N/Zv7sf8O8wRuk/82/EcZ4f7b9djRqAXTL3vwRjn9zoXQdAmLsdfYWb9b+1v96d3FTzv34jtm/GDPU/Q3KZjWwkxj/rv8JyH+LoPzjlV0c2tc0/5PGtcOAS8j98LY+9/Hn7vyWOCHnVGtO/NvAIGvuU6L+yJA+mTT3PP44uj8bZmei/ihDb3Z7+zb9FlU5QKon7v3XZ6ZbGU+c/hMCbHomI9z/ZH/YJyjTiPyRdgTwLFeG//OkrbEfM1D89HbFlEjfkP4ZhCBc9s+S/BqiVMdHT/L/CKYCF5jv5P4JqicuVhvG/kHPYa4XVAECGfMOTCKTfv6KvjMF6xf8/QIG4721WkT+cwbJVeKvUP8VeDYBzlfI/OMtHGvHCsz++VU72kmHyv5B1NmZU27q/8DbH2y87xj95UwXeYszxv+rgwfEvgN6/nkF6uyRu9b9zntXkAF78vyQPLUqyWtm/ni1UTjsdAUDop61LmL/Kv/sJXJCAIfI/Hh045yAT+j8Q/UUGEargP0ioPxJvoPK/EO03nSmZ879lZ9qQWZTkPziMjVhZr8S/db+8w0os87/SvYIjSDn0P21meJgOoMw/E6WWuqe40r/LPeKUnDrQv4WbACgLqvA/kNkRGEM2kz+7q/0jRK7WP5gg9+yTsPg/dFuxub3HwD8clYSmGLjlP5OhNjp2P9U/2IozaQ4Rwb9pox/xsQzTP8xPGMZTpABAvN+0rYIqzz/yniEjLgX4P4iw5ZsjCNa/HwLIMZol67+n9tUmE2z9P0QxzI1iBOW/lxwur1Uz8D+gla0Oz+vhv7i4u58lAf0/3HGKN7cx2b9vrOHN1irmP+6RDZrERLm/vfKKKgXa5D/xt0fInvfnv4nDtZXzJgrAiCuYzYto2b/ADS9sj7vbvzacfXJE8ea/QKqwH8YN7T9Uc5vkOqDcv76h9Cds/dW/s0+NA6WZ9j97g4jidsnev6l5Rm3nnfk/qTn4K6wi/b+VgRyVO6LzvwQK1uG7wLy/x83+DHXl1j+e/46GJvrRv831Xmjr3/0/3hiE+Lmp+D/svwNDT1n4P87Eqc3c5c+/j1v9E4Yy7b90GIQ0E3DxP7cpu9zq+/M/ardew5+Q3T9F4awRSKr3P+x+Cx00atY/hichB0Nj6b+5XsvdfcDjv/yBQWI3M8K/SQ/PEUxC9T9IpkyvJv3mPzYln3fYzt2/0DHbIK2MwD9a4adctQH1P3ipVxpvW5C/4yx7/kJv4L/udSQSZYP8P9hxWWGZ2Ps/1z9CkYRV47+gDoTqDFjwP+SEgMLxeNc/U+Ly5mhn178PumWGZPXov78tTbcMBtE/7uA5YuiL9j8eEvFkCiH/P8I2dGlpzMG/yyJr74fn6z84N5iOvWzhPzLUhhVSNe6/IMysETgdtj/nwYER0B38P1wmZd65N6M/JimrzsGW9L+2ahnqWo7cv9LFdihzQ+A/S9wU63gB9r9eHO041VzMv1DjQDpfjMS/DKjd116Q0z9uFr984PbWvzRZrJFZ48i/SqdkDiSP7D8xNZRdRyD1v7xId2OB0PS/RD0eEw7bBcB8Ndd7RI3Qv4AzXaQX53W/0hQBS4ID6D9BNl3qVZ/Zv8llG3PS/Oo/9ILeuN9rBcDBz1j4VQj5v+Pc7mhFUtu/y7Jy6gLa9b/WA7gutfjCP+KJ2JCyXqk/rkcbMsI11L8E0BdwyQ/rvwBUhsZVeOU/GInARSlv+L+YVgxs5v/4P7L+u5vD9OY/WVNJOTfO7j+IajBihkvCv/jl6WS9pPU/gHnN4q/n3T/djx7QQgAAQDwnXYfjb/M/dM+eJT081D97bDg4kZbgv179PggH2vC/UH2ExTUs7r+lVhgteID0v37szYF394w/B/aW3Nk3778gkNhAee30v3qRcVgWMMa/8eMnCXyg57+v9zJ7LbsAwDUtMmiyDuo/r28rjAzYA8D5fpdJxXjtPyDgjrj07Pe/xsYWOw510T/gb6QksEv4vyxyOpefpea/CDLpEmDw8D8kKP7bUMPdP3u+X3QFKcw/MA5wGGhDw7+uqBva6SzoPzb2VeqaHOy/Etah+3Ng7j8AGNtge5fjv+eJlIkbtem/YrtgM/Qc9T9y3hBJD278Pw5ldB9AWeO/OaWTunMD4r9Iu90iMZ3APxRpHN5CNco/gAIsIhK+pb+sHnhFryvpv+i0erx6cLC/cf+Kuymkxj97N/1dgB63v9Yiuy/t5tA/kCoBD17h/D9tIoC3SBb3v1Z/4oaDWOQ/SN5Zw7GD3b/qcnJ+uGHfP77el5MDSMW/1/Yc23hl8b9qbXqgqLzZPyARgkQgBPQ/RguYM+XJ5b/c0f13QhL8v5ToCKuqTcE/h1RU+mPc6796MKyfGqnsP9hsHHU9mr6/FsTEo6yrAMBpTDis+mLsvzOEJf5eVfo/zM+mBFYDwL8hpRCxc1Ljv56h7J927u8/zoCogDAp4T8bk6eYaAzRv5AMScrpqcg/Yg7w+fLNyL9clVDrexbkv5K1hPBouPc/tT0C7uPbxL+MIXP+aAznv/5bhJSUfNg/WpnaDkWUz79wyUAG0ZvXPxHdfdHHveA/n+s3ZLcj1T/AZkCOc6GRP6WSslYNOeC/6yKkElxw/b80fnnNB8PfPzYY07TQuOS/DDpfEVOW4j9xX9w1q8Djv3WZZDTiTOm/YIAOeSMu6z+CyCk0NvDYv0xU2MXMArM/Xub4s0wF6b/qi3yoIWPkvztHTzvV0uW/UmnTZmfv2j/ShmEwEPezv+VQMQjp9t8/0VaPBGrL4L/Zt975F+X0P9gxwCfupum/fDJ5/Gfczr896knTDXTpv812PpqSXuI/UNgsRqxJ0j+3uOnORJ7jvz6bgbgdR+g/5FeNRp8B8j+mKPp9fOLyP2BX95Jkuaq/4K23TCtpoT/WxHA+O/P9P5gM8KZb3eq/f3+5fu1sAMDCE6sreJnlPzjkowdr5fG/rxGltwNx4r9QwQr3x7Xxv0qT2LsGneO/kYYeNx4h9T/l0kID5Z/cvxRqD8UaD+C/t4RYJClR4L/Is82eS+bLPwjzX1BHSb0/9L/CktzKuL8=\",\"dtype\":\"float64\",\"shape\":[1000]}},\"selected\":{\"id\":\"0f3ab705-e78b-4f50-874e-153e1962a6fd\",\"type\":\"Selection\"},\"selection_policy\":{\"id\":\"a53195de-f34b-4806-8ebf-bf318e43ece4\",\"type\":\"UnionRenderers\"}},\"id\":\"9387d155-3620-4412-875e-8a3c238a8acd\",\"type\":\"ColumnDataSource\"},{\"attributes\":{\"data_source\":{\"id\":\"ccfe3b41-76f8-46f4-af33-618e92a18bcb\",\"type\":\"ColumnDataSource\"},\"glyph\":{\"id\":\"6393a109-4d94-4d1e-a184-7a50071936a1\",\"type\":\"Patch\"},\"hover_glyph\":null,\"muted_glyph\":null,\"nonselection_glyph\":{\"id\":\"e7ad4c1b-7840-4bc8-96c5-69400fbb8cae\",\"type\":\"Patch\"},\"selection_glyph\":null,\"view\":{\"id\":\"ac1ddc8d-69f7-44d4-96db-e445ed797fb9\",\"type\":\"CDSView\"}},\"id\":\"99f607a8-a39f-4dd1-b2ef-36273e24ef50\",\"type\":\"GlyphRenderer\"},{\"attributes\":{\"bottom_units\":\"screen\",\"fill_alpha\":{\"value\":0.5},\"fill_color\":{\"value\":\"lightgrey\"},\"left_units\":\"screen\",\"level\":\"overlay\",\"line_alpha\":{\"value\":1.0},\"line_color\":{\"value\":\"black\"},\"line_dash\":[4,4],\"line_width\":{\"value\":2},\"plot\":null,\"render_mode\":\"css\",\"right_units\":\"screen\",\"top_units\":\"screen\"},\"id\":\"229d804a-6d1d-4adf-bf26-e323e8da8722\",\"type\":\"BoxAnnotation\"},{\"attributes\":{\"source\":{\"id\":\"9387d155-3620-4412-875e-8a3c238a8acd\",\"type\":\"ColumnDataSource\"}},\"id\":\"06929d89-9d85-44d4-bc67-aa93304cf185\",\"type\":\"CDSView\"},{\"attributes\":{\"source\":{\"id\":\"ccfe3b41-76f8-46f4-af33-618e92a18bcb\",\"type\":\"ColumnDataSource\"}},\"id\":\"ac1ddc8d-69f7-44d4-96db-e445ed797fb9\",\"type\":\"CDSView\"},{\"attributes\":{\"below\":[{\"id\":\"8056a4d9-79eb-4678-90d7-da4eba6b7f65\",\"type\":\"LinearAxis\"}],\"left\":[{\"id\":\"106c1921-7096-4a21-80b8-03b06155faaa\",\"type\":\"LinearAxis\"}],\"plot_height\":400,\"plot_width\":400,\"renderers\":[{\"id\":\"8056a4d9-79eb-4678-90d7-da4eba6b7f65\",\"type\":\"LinearAxis\"},{\"id\":\"00f65a12-4ef3-4587-b57d-6bfa12fa733f\",\"type\":\"Grid\"},{\"id\":\"106c1921-7096-4a21-80b8-03b06155faaa\",\"type\":\"LinearAxis\"},{\"id\":\"ec22800f-9fe5-4719-9c7e-5ff6dfcb1c6f\",\"type\":\"Grid\"},{\"id\":\"229d804a-6d1d-4adf-bf26-e323e8da8722\",\"type\":\"BoxAnnotation\"},{\"id\":\"cb844a82-53f7-40b4-879b-eca3afea3d39\",\"type\":\"GlyphRenderer\"},{\"id\":\"99f607a8-a39f-4dd1-b2ef-36273e24ef50\",\"type\":\"GlyphRenderer\"},{\"id\":\"e80749df-85d8-42f8-8b07-41fdb8d923b4\",\"type\":\"GlyphRenderer\"}],\"title\":{\"id\":\"b193ccc2-ed81-4129-bd9f-cb5dbf3a13d3\",\"type\":\"Title\"},\"toolbar\":{\"id\":\"629ab1cf-efe7-4423-96a0-38488c066e85\",\"type\":\"Toolbar\"},\"x_range\":{\"id\":\"b9bdf137-0018-46b4-9992-0db78007d24b\",\"type\":\"Range1d\"},\"x_scale\":{\"id\":\"a22e83f0-2b5c-4b3a-9905-ae3a750bf2b1\",\"type\":\"LinearScale\"},\"y_range\":{\"id\":\"e5561e05-17d4-4136-97c1-a623b131ce10\",\"type\":\"Range1d\"},\"y_scale\":{\"id\":\"75fa7691-38e4-4fc0-b5e8-338c66f4069f\",\"type\":\"LinearScale\"}},\"id\":\"fce45b04-436d-4d1e-a9d7-1e2a9fe48359\",\"subtype\":\"Figure\",\"type\":\"Plot\"},{\"attributes\":{},\"id\":\"402e1300-0cd0-4f31-a70b-b6011f80a323\",\"type\":\"BasicTickFormatter\"},{\"attributes\":{\"fill_alpha\":0.3,\"fill_color\":\"#1f77b4\",\"x\":{\"field\":\"x\"},\"y\":{\"field\":\"y\"}},\"id\":\"53cccab7-781c-4d17-9c94-3f2b565c8d3f\",\"type\":\"Patch\"},{\"attributes\":{\"fill_alpha\":0.1,\"fill_color\":\"#1f77b4\",\"line_alpha\":0.1,\"line_color\":\"#1f77b4\",\"x\":{\"field\":\"x\"},\"y\":{\"field\":\"y\"}},\"id\":\"e7ad4c1b-7840-4bc8-96c5-69400fbb8cae\",\"type\":\"Patch\"},{\"attributes\":{\"callback\":null,\"data\":{\"x\":{\"__ndarray__\":\"zTt/Zp6g9j//aBeat5T2P0pH+7kPcfY/xDZRSMw19j+/j9WcK+P1P0CmRaOEefU/nt/vf0b59D9DCska+GL0P371gZE3t/M/dpMykbn28j+HnkmYSCLyP56yiCHEOvE/xu/suB9B8D/d6Pb2w2zuP3Rl/gVHN+w/aXu1fRvk6T/TJUl2s3XnPwgMrq6d7uQ/wnXc24JR4j+F03m5RULfP5J+baujwNk/dhnXbeoj1D8RMwPBAuTMPxfbsFnMYcE/HshwxDM1pz/Yx3DEMzWnvwfbsFnMYcG/AjMDwQLkzL90Gddt6iPUv4l+baujwNm/fNN5uUVC37++ddzbglHivwQMrq6d7uS/0CVJdrN1579le7V9G+Tpv3Fl/gVHN+y/1+j29sNs7r/F7+y4H0Hwv5yyiCHEOvG/hp5JmEgi8r9zkzKRufbyv331gZE3t/O/QgrJGvhi9L+d3+9/Rvn0v0CmRaOEefW/vo/VnCvj9b/ENlFIzDX2v0lH+7kPcfa//2gXmreU9r/NO39mnqD2v807f2aeoPa//2gXmreU9r9JR/u5D3H2v8Q2UUjMNfa/vo/VnCvj9b9ApkWjhHn1v53f739G+fS/QgrJGvhi9L999YGRN7fzv3OTMpG59vK/hp5JmEgi8r+csoghxDrxv8Xv7LgfQfC/1+j29sNs7r9xZf4FRzfsv2V7tX0b5Om/0CVJdrN1578EDK6une7kv7513NuCUeK/fNN5uUVC37+Jfm2ro8DZv3QZ123qI9S/AjMDwQLkzL8H27BZzGHBv9jHcMQzNae/HshwxDM1pz8X27BZzGHBPxEzA8EC5Mw/dhnXbeoj1D+Sfm2ro8DZP4XTeblFQt8/wnXc24JR4j8IDK6une7kP9MlSXazdec/aXu1fRvk6T90Zf4FRzfsP93o9vbDbO4/xu/suB9B8D+esoghxDrxP4eeSZhIIvI/dpMykbn28j9+9YGRN7fzP0MKyRr4YvQ/nt/vf0b59D9ApkWjhHn1P7+P1Zwr4/U/xDZRSMw19j9KR/u5D3H2P/9oF5q3lPY/zTt/Zp6g9j8=\",\"dtype\":\"float64\",\"shape\":[100]},\"y\":{\"__ndarray__\":\"zDt/Zp6g1j/ZLgV7pWraP9nq2IjiGN4/YtPgLrvT4D/AffGKUYniP84NswVoK+Q/ftJ6z0a45T8Vn4hqTC7nP7/LNWLvi+g/TGfb6L/P6T9gMrxaafjqP6ZfW6SzBOw/tiPHioTz7D+Cu33U4MPtP/yWtFHtdO4/oqXrwu8F7z+CNtqcT3bvP95Q56iWxe8/hraEgXHz7z/Ovunpr//vP1HA0QBF6u8/KagITkez7z/Jfbeq8FrvPy/CiQSe4e4/gq7r+85H7j9DKMhdJY7tP86mU3lktew/aReXUnC+6z/M4ZKyTKrqP69g9hUceuk/8EmLex4v6D+oe5YTsMrmP9xKkNFHTuU/mqO14XW74z/x5xAE4hPiP0Vktc5JWeA/L44Esv0a3T/lZ7SjyWTZPxpapQXfk9U/uSflhEGs0T9qT6NeGWTLPxJZz0LfUsM/pKb8faJatj+QXF7xCeCXPwiHKdnJ4aS/zo8gj9DOur95jcFlRIjFv2BHO9Z5ks2/HqMpucm+0r/KO39mnqDWv847f2aeoNa/3i4Fe6Vq2r/g6tiI4hjev2XT4C670+C/w33xilGJ4r/ODbMFaCvkv4DSes9GuOW/Fp+Iakwu57/AyzVi74vov05n2+i/z+m/YjK8Wmn46r+pX1ukswTsv7gjx4qE8+y/grt91ODD7b/9lrRR7XTuv6Ol68LvBe+/gjbanE9277/eUOeolsXvv4a2hIFx8++/zr7p6a//779RwNEARervvyioCE5Hs++/yX23qvBa778uwokEnuHuv4Gu6/vOR+6/QijIXSWO7b/NplN5ZLXsv2cXl1Jwvuu/y+GSskyq6r+tYPYVHHrpv+5Ji3seL+i/pnuWE7DK5r/aSpDRR07lv5ijteF1u+O/7ucQBOIT4r9CZLXOSVngvyiOBLL9Gt2/42e0o8lk2b8TWqUF35PVv7Qn5YRBrNG/Wk+jXhlky78EWc9C31LDv5im/H2iWra/EFxe8Qngl78YhynZyeGkP/CPII/Qzro/go3BZUSIxT9yRzvWeZLNPyOjKbnJvtI/zDt/Zp6g1j8=\",\"dtype\":\"float64\",\"shape\":[100]}},\"selected\":{\"id\":\"a30fe915-9418-4385-90fa-9427bc2cb14c\",\"type\":\"Selection\"},\"selection_policy\":{\"id\":\"9c906f29-b914-495d-9480-9315b75adb04\",\"type\":\"UnionRenderers\"}},\"id\":\"c792e67c-57f8-4486-b45f-f05f9f7ec024\",\"type\":\"ColumnDataSource\"},{\"attributes\":{\"fill_alpha\":0.1,\"fill_color\":\"#1f77b4\",\"line_alpha\":0.1,\"line_color\":\"#1f77b4\",\"x\":{\"field\":\"x\"},\"y\":{\"field\":\"y\"}},\"id\":\"c8cf36f5-fcaf-4769-8313-1e3ff4cea603\",\"type\":\"Patch\"},{\"attributes\":{\"data_source\":{\"id\":\"c792e67c-57f8-4486-b45f-f05f9f7ec024\",\"type\":\"ColumnDataSource\"},\"glyph\":{\"id\":\"53cccab7-781c-4d17-9c94-3f2b565c8d3f\",\"type\":\"Patch\"},\"hover_glyph\":null,\"muted_glyph\":null,\"nonselection_glyph\":{\"id\":\"c8cf36f5-fcaf-4769-8313-1e3ff4cea603\",\"type\":\"Patch\"},\"selection_glyph\":null,\"view\":{\"id\":\"347a161c-99ea-4376-b84d-8fef7c3eb6e8\",\"type\":\"CDSView\"}},\"id\":\"e80749df-85d8-42f8-8b07-41fdb8d923b4\",\"type\":\"GlyphRenderer\"},{\"attributes\":{\"plot\":null,\"text\":\"Data\"},\"id\":\"b193ccc2-ed81-4129-bd9f-cb5dbf3a13d3\",\"type\":\"Title\"},{\"attributes\":{\"source\":{\"id\":\"c792e67c-57f8-4486-b45f-f05f9f7ec024\",\"type\":\"ColumnDataSource\"}},\"id\":\"347a161c-99ea-4376-b84d-8fef7c3eb6e8\",\"type\":\"CDSView\"},{\"attributes\":{\"callback\":null,\"end\":5.0,\"start\":-5.0},\"id\":\"b9bdf137-0018-46b4-9992-0db78007d24b\",\"type\":\"Range1d\"},{\"attributes\":{},\"id\":\"45f8dcf9-2f6e-4396-b0b4-a7986d96dfbf\",\"type\":\"BasicTickFormatter\"},{\"attributes\":{\"active_drag\":\"auto\",\"active_inspect\":\"auto\",\"active_scroll\":\"auto\",\"active_tap\":\"auto\",\"tools\":[{\"id\":\"f029af95-0255-47df-90eb-43a6b6c9299e\",\"type\":\"PanTool\"},{\"id\":\"14d56f9c-3935-46a3-95e9-66bc1cc8f5f1\",\"type\":\"WheelZoomTool\"},{\"id\":\"b5410be6-f32a-4777-92d1-1f141e67eb23\",\"type\":\"BoxZoomTool\"},{\"id\":\"d593c69a-e2ab-4766-b51d-2115a849229f\",\"type\":\"SaveTool\"},{\"id\":\"58ede35f-d6dc-4be4-8d79-bcbce936490d\",\"type\":\"ResetTool\"},{\"id\":\"63b08f48-8ad9-49ca-a45d-8bdcb137fbc4\",\"type\":\"HelpTool\"}]},\"id\":\"629ab1cf-efe7-4423-96a0-38488c066e85\",\"type\":\"Toolbar\"},{\"attributes\":{},\"id\":\"0f3ab705-e78b-4f50-874e-153e1962a6fd\",\"type\":\"Selection\"},{\"attributes\":{},\"id\":\"a22e83f0-2b5c-4b3a-9905-ae3a750bf2b1\",\"type\":\"LinearScale\"},{\"attributes\":{},\"id\":\"e5ec6638-a1da-428f-a02f-c5d21d08e039\",\"type\":\"UnionRenderers\"},{\"attributes\":{\"callback\":null,\"end\":5.0,\"start\":-5.0},\"id\":\"e5561e05-17d4-4136-97c1-a623b131ce10\",\"type\":\"Range1d\"},{\"attributes\":{},\"id\":\"75fa7691-38e4-4fc0-b5e8-338c66f4069f\",\"type\":\"LinearScale\"},{\"attributes\":{},\"id\":\"a30fe915-9418-4385-90fa-9427bc2cb14c\",\"type\":\"Selection\"},{\"attributes\":{},\"id\":\"a53195de-f34b-4806-8ebf-bf318e43ece4\",\"type\":\"UnionRenderers\"},{\"attributes\":{\"formatter\":{\"id\":\"45f8dcf9-2f6e-4396-b0b4-a7986d96dfbf\",\"type\":\"BasicTickFormatter\"},\"plot\":{\"id\":\"fce45b04-436d-4d1e-a9d7-1e2a9fe48359\",\"subtype\":\"Figure\",\"type\":\"Plot\"},\"ticker\":{\"id\":\"a7977c1a-1031-4dd1-98f6-7003e87eebac\",\"type\":\"BasicTicker\"}},\"id\":\"8056a4d9-79eb-4678-90d7-da4eba6b7f65\",\"type\":\"LinearAxis\"},{\"attributes\":{},\"id\":\"9370d75b-9801-4441-b845-0c9dc3488f70\",\"type\":\"Selection\"},{\"attributes\":{},\"id\":\"a7977c1a-1031-4dd1-98f6-7003e87eebac\",\"type\":\"BasicTicker\"},{\"attributes\":{\"plot\":{\"id\":\"fce45b04-436d-4d1e-a9d7-1e2a9fe48359\",\"subtype\":\"Figure\",\"type\":\"Plot\"},\"ticker\":{\"id\":\"a7977c1a-1031-4dd1-98f6-7003e87eebac\",\"type\":\"BasicTicker\"}},\"id\":\"00f65a12-4ef3-4587-b57d-6bfa12fa733f\",\"type\":\"Grid\"},{\"attributes\":{\"formatter\":{\"id\":\"402e1300-0cd0-4f31-a70b-b6011f80a323\",\"type\":\"BasicTickFormatter\"},\"plot\":{\"id\":\"fce45b04-436d-4d1e-a9d7-1e2a9fe48359\",\"subtype\":\"Figure\",\"type\":\"Plot\"},\"ticker\":{\"id\":\"da4d710d-e735-4ccf-a00a-5501cde6e2be\",\"type\":\"BasicTicker\"}},\"id\":\"106c1921-7096-4a21-80b8-03b06155faaa\",\"type\":\"LinearAxis\"},{\"attributes\":{},\"id\":\"9c906f29-b914-495d-9480-9315b75adb04\",\"type\":\"UnionRenderers\"},{\"attributes\":{},\"id\":\"da4d710d-e735-4ccf-a00a-5501cde6e2be\",\"type\":\"BasicTicker\"},{\"attributes\":{\"dimension\":1,\"plot\":{\"id\":\"fce45b04-436d-4d1e-a9d7-1e2a9fe48359\",\"subtype\":\"Figure\",\"type\":\"Plot\"},\"ticker\":{\"id\":\"da4d710d-e735-4ccf-a00a-5501cde6e2be\",\"type\":\"BasicTicker\"}},\"id\":\"ec22800f-9fe5-4719-9c7e-5ff6dfcb1c6f\",\"type\":\"Grid\"},{\"attributes\":{\"callback\":null,\"data\":{\"x\":{\"__ndarray__\":\"zTt/Zp6gBkD/aBeat5QGQEpH+7kPcQZAxDZRSMw1BkC/j9WcK+MFQECmRaOEeQVAnt/vf0b5BEBDCska+GIEQH71gZE3twNAdpMykbn2AkCHnkmYSCICQJ6yiCHEOgFAxu/suB9BAEDd6Pb2w2z+P3Rl/gVHN/w/aXu1fRvk+T/TJUl2s3X3PwgMrq6d7vQ/wnXc24JR8j+F03m5RULvP5J+baujwOk/dhnXbeoj5D8RMwPBAuTcPxfbsFnMYdE/HshwxDM1tz/Yx3DEMzW3vwfbsFnMYdG/AjMDwQLk3L90Gddt6iPkv4l+baujwOm/fNN5uUVC77++ddzbglHyvwQMrq6d7vS/0CVJdrN1979le7V9G+T5v3Fl/gVHN/y/1+j29sNs/r/F7+y4H0EAwJyyiCHEOgHAhp5JmEgiAsBzkzKRufYCwH31gZE3twPAQgrJGvhiBMCd3+9/RvkEwECmRaOEeQXAvo/VnCvjBcDENlFIzDUGwElH+7kPcQbA/2gXmreUBsDNO39mnqAGwM07f2aeoAbA/2gXmreUBsBJR/u5D3EGwMQ2UUjMNQbAvo/VnCvjBcBApkWjhHkFwJ3f739G+QTAQgrJGvhiBMB99YGRN7cDwHOTMpG59gLAhp5JmEgiAsCcsoghxDoBwMXv7LgfQQDA1+j29sNs/r9xZf4FRzf8v2V7tX0b5Pm/0CVJdrN1978EDK6une70v7513NuCUfK/fNN5uUVC77+Jfm2ro8Dpv3QZ123qI+S/AjMDwQLk3L8H27BZzGHRv9jHcMQzNbe/HshwxDM1tz8X27BZzGHRPxEzA8EC5Nw/dhnXbeoj5D+Sfm2ro8DpP4XTeblFQu8/wnXc24JR8j8IDK6une70P9MlSXazdfc/aXu1fRvk+T90Zf4FRzf8P93o9vbDbP4/xu/suB9BAECesoghxDoBQIeeSZhIIgJAdpMykbn2AkB+9YGRN7cDQEMKyRr4YgRAnt/vf0b5BEBApkWjhHkFQL+P1Zwr4wVAxDZRSMw1BkBKR/u5D3EGQP9oF5q3lAZAzTt/Zp6gBkA=\",\"dtype\":\"float64\",\"shape\":[100]},\"y\":{\"__ndarray__\":\"zDt/Zp6g5j/ZLgV7pWrqP9nq2IjiGO4/YtPgLrvT8D/AffGKUYnyP84NswVoK/Q/ftJ6z0a49T8Vn4hqTC73P7/LNWLvi/g/TGfb6L/P+T9gMrxaafj6P6ZfW6SzBPw/tiPHioTz/D+Cu33U4MP9P/yWtFHtdP4/oqXrwu8F/z+CNtqcT3b/P95Q56iWxf8/hraEgXHz/z/Ovunpr///P1HA0QBF6v8/KagITkez/z/Jfbeq8Fr/Py/CiQSe4f4/gq7r+85H/j9DKMhdJY79P86mU3lktfw/aReXUnC++z/M4ZKyTKr6P69g9hUcevk/8EmLex4v+D+oe5YTsMr2P9xKkNFHTvU/mqO14XW78z/x5xAE4hPyP0Vktc5JWfA/L44Esv0a7T/lZ7SjyWTpPxpapQXfk+U/uSflhEGs4T9qT6NeGWTbPxJZz0LfUtM/pKb8faJaxj+QXF7xCeCnPwiHKdnJ4bS/zo8gj9DOyr95jcFlRIjVv2BHO9Z5kt2/HqMpucm+4r/KO39mnqDmv847f2aeoOa/3i4Fe6Vq6r/g6tiI4hjuv2XT4C670/C/w33xilGJ8r/ODbMFaCv0v4DSes9GuPW/Fp+Iakwu97/AyzVi74v4v05n2+i/z/m/YjK8Wmn4+r+pX1ukswT8v7gjx4qE8/y/grt91ODD/b/9lrRR7XT+v6Ol68LvBf+/gjbanE92/7/eUOeolsX/v4a2hIFx8/+/zr7p6a///79RwNEARer/vyioCE5Hs/+/yX23qvBa/78uwokEnuH+v4Gu6/vOR/6/QijIXSWO/b/NplN5ZLX8v2cXl1Jwvvu/y+GSskyq+r+tYPYVHHr5v+5Ji3seL/i/pnuWE7DK9r/aSpDRR071v5ijteF1u/O/7ucQBOIT8r9CZLXOSVnwvyiOBLL9Gu2/42e0o8lk6b8TWqUF35Plv7Qn5YRBrOG/Wk+jXhlk278EWc9C31LTv5im/H2iWsa/EFxe8Qngp78YhynZyeG0P/CPII/Qzso/go3BZUSI1T9yRzvWeZLdPyOjKbnJvuI/zDt/Zp6g5j8=\",\"dtype\":\"float64\",\"shape\":[100]}},\"selected\":{\"id\":\"9370d75b-9801-4441-b845-0c9dc3488f70\",\"type\":\"Selection\"},\"selection_policy\":{\"id\":\"e5ec6638-a1da-428f-a02f-c5d21d08e039\",\"type\":\"UnionRenderers\"}},\"id\":\"ccfe3b41-76f8-46f4-af33-618e92a18bcb\",\"type\":\"ColumnDataSource\"},{\"attributes\":{\"data_source\":{\"id\":\"9387d155-3620-4412-875e-8a3c238a8acd\",\"type\":\"ColumnDataSource\"},\"glyph\":{\"id\":\"d2bde955-abab-43ae-864d-0efc12c74ee4\",\"type\":\"Circle\"},\"hover_glyph\":null,\"muted_glyph\":null,\"nonselection_glyph\":{\"id\":\"2392a3a8-e431-41c6-9db8-7a2102dcb9e0\",\"type\":\"Circle\"},\"selection_glyph\":null,\"view\":{\"id\":\"06929d89-9d85-44d4-bc67-aa93304cf185\",\"type\":\"CDSView\"}},\"id\":\"cb844a82-53f7-40b4-879b-eca3afea3d39\",\"type\":\"GlyphRenderer\"},{\"attributes\":{},\"id\":\"f029af95-0255-47df-90eb-43a6b6c9299e\",\"type\":\"PanTool\"},{\"attributes\":{\"fill_alpha\":{\"value\":0.1},\"fill_color\":{\"value\":\"#1f77b4\"},\"line_alpha\":{\"value\":0.1},\"line_color\":{\"value\":\"#1f77b4\"},\"x\":{\"field\":\"x\"},\"y\":{\"field\":\"y\"}},\"id\":\"2392a3a8-e431-41c6-9db8-7a2102dcb9e0\",\"type\":\"Circle\"},{\"attributes\":{},\"id\":\"14d56f9c-3935-46a3-95e9-66bc1cc8f5f1\",\"type\":\"WheelZoomTool\"},{\"attributes\":{\"overlay\":{\"id\":\"229d804a-6d1d-4adf-bf26-e323e8da8722\",\"type\":\"BoxAnnotation\"}},\"id\":\"b5410be6-f32a-4777-92d1-1f141e67eb23\",\"type\":\"BoxZoomTool\"},{\"attributes\":{\"fill_alpha\":0.3,\"fill_color\":\"#1f77b4\",\"x\":{\"field\":\"x\"},\"y\":{\"field\":\"y\"}},\"id\":\"6393a109-4d94-4d1e-a184-7a50071936a1\",\"type\":\"Patch\"},{\"attributes\":{},\"id\":\"d593c69a-e2ab-4766-b51d-2115a849229f\",\"type\":\"SaveTool\"},{\"attributes\":{},\"id\":\"58ede35f-d6dc-4be4-8d79-bcbce936490d\",\"type\":\"ResetTool\"},{\"attributes\":{},\"id\":\"63b08f48-8ad9-49ca-a45d-8bdcb137fbc4\",\"type\":\"HelpTool\"},{\"attributes\":{\"fill_color\":{\"value\":\"#1f77b4\"},\"line_color\":{\"value\":\"#1f77b4\"},\"x\":{\"field\":\"x\"},\"y\":{\"field\":\"y\"}},\"id\":\"d2bde955-abab-43ae-864d-0efc12c74ee4\",\"type\":\"Circle\"}],\"root_ids\":[\"fce45b04-436d-4d1e-a9d7-1e2a9fe48359\"]},\"title\":\"Bokeh Application\",\"version\":\"0.12.16\"}};\n",
       "  var render_items = [{\"docid\":\"acbd0755-5a48-4ea4-9460-33136ac32bb0\",\"elementid\":\"d39eaba6-fb72-486e-b2dc-ad9fcbf53cd8\",\"modelid\":\"fce45b04-436d-4d1e-a9d7-1e2a9fe48359\"}];\n",
       "  root.Bokeh.embed.embed_items_notebook(docs_json, render_items);\n",
       "\n",
       "  }\n",
       "  if (root.Bokeh !== undefined) {\n",
       "    embed_document(root);\n",
       "  } else {\n",
       "    var attempts = 0;\n",
       "    var timer = setInterval(function(root) {\n",
       "      if (root.Bokeh !== undefined) {\n",
       "        embed_document(root);\n",
       "        clearInterval(timer);\n",
       "      }\n",
       "      attempts++;\n",
       "      if (attempts > 100) {\n",
       "        console.log(\"Bokeh: ERROR: Unable to run BokehJS code because BokehJS library is missing\")\n",
       "        clearInterval(timer);\n",
       "      }\n",
       "    }, 10, root)\n",
       "  }\n",
       "})(window);"
      ],
      "application/vnd.bokehjs_exec.v0+json": ""
     },
     "metadata": {
      "application/vnd.bokehjs_exec.v0+json": {
       "id": "fce45b04-436d-4d1e-a9d7-1e2a9fe48359"
      }
     },
     "output_type": "display_data"
    }
   ],
   "source": [
    "mean = np.zeros(2) \n",
    "cov = np.array([\n",
    "    [2, .5],\n",
    "    [.5, 1]\n",
    "])\n",
    "data = np.random.multivariate_normal(mean, cov, size=1000)\n",
    "\n",
    "fig = figure(\n",
    "    title='Data',\n",
    "    width=400,\n",
    "    height=400,\n",
    "    x_range=(mean[0] - 5, mean[0] + 5),\n",
    "    y_range=(mean[1] - 5, mean[1] + 5)\n",
    ")\n",
    "fig.circle(data[:, 0], data[:, 1])\n",
    "plotting.plot_normal(fig, mean, cov, line_color='black', fill_alpha=.3)\n",
    "\n",
    "show(fig)"
   ]
  },
  {
   "cell_type": "markdown",
   "metadata": {},
   "source": [
    "## Model Creation\n",
    "\n",
    "We create two types of Normal distribution: one diagonal covariance matrix and another one with full covariance matrix."
   ]
  },
  {
   "cell_type": "code",
   "execution_count": 4,
   "metadata": {},
   "outputs": [],
   "source": [
    "data_mean = torch.from_numpy(data.mean(axis=0)).float()\n",
    "data_var = torch.from_numpy(data.var(axis=0)).float()\n",
    "\n",
    "normal_iso = beer.Normal.create(data_mean, data_var, 1., cov_type='isotropic')\n",
    "normal_diag = beer.Normal.create(data_mean, data_var, 1., cov_type='diagonal')\n",
    "normal_full = beer.Normal.create(data_mean, data_var, 1., cov_type='full')\n",
    "\n",
    "models = {\n",
    "    'normal_full': normal_full,\n",
    "    'normal_diag': normal_diag,\n",
    "    'normal_iso': normal_iso\n",
    "}"
   ]
  },
  {
   "cell_type": "markdown",
   "metadata": {},
   "source": [
    "## Variational Bayes Training "
   ]
  },
  {
   "cell_type": "code",
   "execution_count": 5,
   "metadata": {
    "scrolled": true
   },
   "outputs": [],
   "source": [
    "epochs = 20\n",
    "lrate = 1.\n",
    "X = torch.from_numpy(data).float()\n",
    "\n",
    "optims = {\n",
    "    model_name: beer.BayesianModelCoordinateAscentOptimizer(\n",
    "        model.mean_field_groups, lrate)\n",
    "    for model_name, model in models.items()\n",
    "}\n",
    "\n",
    "elbos = {\n",
    "    model_name: [] \n",
    "    for model_name in models\n",
    "}  \n",
    "\n",
    "\n",
    "for epoch in range(epochs):\n",
    "    for name, model in models.items():\n",
    "        optim = optims[name]\n",
    "        optim.zero_grad()\n",
    "        elbo = beer.evidence_lower_bound(model, X, datasize=len(X))\n",
    "        elbo.natural_backward()\n",
    "        elbos[name].append(float(elbo) / len(X))\n",
    "        optim.step()"
   ]
  },
  {
   "cell_type": "code",
   "execution_count": 6,
   "metadata": {
    "scrolled": false
   },
   "outputs": [
    {
     "data": {
      "text/html": [
       "\n",
       "<div class=\"bk-root\">\n",
       "    <div class=\"bk-plotdiv\" id=\"02500206-3470-43e9-9042-e3bdc84daa5c\"></div>\n",
       "</div>"
      ]
     },
     "metadata": {},
     "output_type": "display_data"
    },
    {
     "data": {
      "application/javascript": [
       "(function(root) {\n",
       "  function embed_document(root) {\n",
       "    \n",
       "  var docs_json = {\"8548eb2b-0dcb-4428-a4d1-d96e7e88c827\":{\"roots\":{\"references\":[{\"attributes\":{\"label\":{\"value\":\"normal_diag\"},\"renderers\":[{\"id\":\"a732a147-5e0d-44a7-b47d-a1592e1c503e\",\"type\":\"GlyphRenderer\"}]},\"id\":\"83e96047-f60b-4e8a-9513-aacef2a9e961\",\"type\":\"LegendItem\"},{\"attributes\":{},\"id\":\"75f54d9e-8d7e-47ba-911e-a34f92fd31e0\",\"type\":\"BasicTickFormatter\"},{\"attributes\":{},\"id\":\"184b33f7-8d6f-42ff-a152-2237171a24ee\",\"type\":\"BasicTicker\"},{\"attributes\":{\"line_alpha\":0.1,\"line_color\":\"#1f77b4\",\"x\":{\"field\":\"x\"},\"y\":{\"field\":\"y\"}},\"id\":\"809f93b6-5ace-45f4-b963-dd6688f10556\",\"type\":\"Line\"},{\"attributes\":{\"items\":[{\"id\":\"e6aad493-e2aa-45d6-b70b-5eed6da1fec3\",\"type\":\"LegendItem\"},{\"id\":\"83e96047-f60b-4e8a-9513-aacef2a9e961\",\"type\":\"LegendItem\"},{\"id\":\"8f1071d7-4695-470d-aaa5-89d5bad282b0\",\"type\":\"LegendItem\"}],\"location\":\"bottom_right\",\"plot\":{\"id\":\"b3232add-1987-464c-bdce-ff20907533cb\",\"subtype\":\"Figure\",\"type\":\"Plot\"}},\"id\":\"8fa63ba6-0718-4f78-8612-fb8e1fb17b42\",\"type\":\"Legend\"},{\"attributes\":{\"axis_label\":\"ln p(X)\",\"formatter\":{\"id\":\"ba68ff47-925d-4652-9dd8-bcc7cbc35a06\",\"type\":\"BasicTickFormatter\"},\"plot\":{\"id\":\"b3232add-1987-464c-bdce-ff20907533cb\",\"subtype\":\"Figure\",\"type\":\"Plot\"},\"ticker\":{\"id\":\"184b33f7-8d6f-42ff-a152-2237171a24ee\",\"type\":\"BasicTicker\"}},\"id\":\"00cf8147-35e6-400e-8afa-33f69296688d\",\"type\":\"LinearAxis\"},{\"attributes\":{\"line_alpha\":0.1,\"line_color\":\"#1f77b4\",\"x\":{\"field\":\"x\"},\"y\":{\"field\":\"y\"}},\"id\":\"f76b93e3-d2ee-4d4c-a7cc-a8de024d75a0\",\"type\":\"Line\"},{\"attributes\":{\"data_source\":{\"id\":\"4a41e66a-5e22-4e99-911e-3f17410e953d\",\"type\":\"ColumnDataSource\"},\"glyph\":{\"id\":\"ab4450c6-9984-4728-90bc-71848ea06cca\",\"type\":\"Line\"},\"hover_glyph\":null,\"muted_glyph\":null,\"nonselection_glyph\":{\"id\":\"809f93b6-5ace-45f4-b963-dd6688f10556\",\"type\":\"Line\"},\"selection_glyph\":null,\"view\":{\"id\":\"42f1c257-0074-45a7-a548-17cb88bcecd6\",\"type\":\"CDSView\"}},\"id\":\"7f99b0f7-1164-4ec0-b591-3a0151a06dca\",\"type\":\"GlyphRenderer\"},{\"attributes\":{},\"id\":\"2eb7c8d2-618c-4798-990c-6826b9e092b3\",\"type\":\"PanTool\"},{\"attributes\":{\"bottom_units\":\"screen\",\"fill_alpha\":{\"value\":0.5},\"fill_color\":{\"value\":\"lightgrey\"},\"left_units\":\"screen\",\"level\":\"overlay\",\"line_alpha\":{\"value\":1.0},\"line_color\":{\"value\":\"black\"},\"line_dash\":[4,4],\"line_width\":{\"value\":2},\"plot\":null,\"render_mode\":\"css\",\"right_units\":\"screen\",\"top_units\":\"screen\"},\"id\":\"d1c6fd83-9c64-4e66-9363-f3afcaedc6e8\",\"type\":\"BoxAnnotation\"},{\"attributes\":{},\"id\":\"4c36d28b-4d50-4219-b6fb-e29448a03ba1\",\"type\":\"UnionRenderers\"},{\"attributes\":{},\"id\":\"b6287051-936b-411b-a321-64eb723aaa97\",\"type\":\"ResetTool\"},{\"attributes\":{\"axis_label\":\"step\",\"formatter\":{\"id\":\"75f54d9e-8d7e-47ba-911e-a34f92fd31e0\",\"type\":\"BasicTickFormatter\"},\"plot\":{\"id\":\"b3232add-1987-464c-bdce-ff20907533cb\",\"subtype\":\"Figure\",\"type\":\"Plot\"},\"ticker\":{\"id\":\"44232aed-167f-4add-874b-972d368124dd\",\"type\":\"BasicTicker\"}},\"id\":\"90c13979-6823-4693-9dae-51d1f7b63694\",\"type\":\"LinearAxis\"},{\"attributes\":{\"overlay\":{\"id\":\"d1c6fd83-9c64-4e66-9363-f3afcaedc6e8\",\"type\":\"BoxAnnotation\"}},\"id\":\"442c48c4-2dea-4d44-a30f-8dab00b11152\",\"type\":\"BoxZoomTool\"},{\"attributes\":{},\"id\":\"e1d87fc0-599d-4dd3-8ed0-6a3822fecab2\",\"type\":\"Selection\"},{\"attributes\":{\"data_source\":{\"id\":\"6ee7012b-ef11-4336-a919-43a98e939e27\",\"type\":\"ColumnDataSource\"},\"glyph\":{\"id\":\"4d8e429e-eb83-42c6-b70f-ea8072226848\",\"type\":\"Line\"},\"hover_glyph\":null,\"muted_glyph\":null,\"nonselection_glyph\":{\"id\":\"f76b93e3-d2ee-4d4c-a7cc-a8de024d75a0\",\"type\":\"Line\"},\"selection_glyph\":null,\"view\":{\"id\":\"f3862d6c-c876-41ed-802d-d1d06d8460bd\",\"type\":\"CDSView\"}},\"id\":\"a732a147-5e0d-44a7-b47d-a1592e1c503e\",\"type\":\"GlyphRenderer\"},{\"attributes\":{\"callback\":null},\"id\":\"92ed14a6-8d82-4e99-94e8-18b452b6c663\",\"type\":\"DataRange1d\"},{\"attributes\":{},\"id\":\"f0b88086-7d0a-4fdd-98ad-643c99380bbb\",\"type\":\"HelpTool\"},{\"attributes\":{},\"id\":\"44232aed-167f-4add-874b-972d368124dd\",\"type\":\"BasicTicker\"},{\"attributes\":{},\"id\":\"b8c29659-d94b-46bf-8307-aa26095aa3cf\",\"type\":\"SaveTool\"},{\"attributes\":{},\"id\":\"de886c4c-c596-44a7-9c7a-23f3edd58b0b\",\"type\":\"WheelZoomTool\"},{\"attributes\":{\"dimension\":1,\"plot\":{\"id\":\"b3232add-1987-464c-bdce-ff20907533cb\",\"subtype\":\"Figure\",\"type\":\"Plot\"},\"ticker\":{\"id\":\"184b33f7-8d6f-42ff-a152-2237171a24ee\",\"type\":\"BasicTicker\"}},\"id\":\"6194e0d1-6f0c-4a74-92e6-e6781c4fb91f\",\"type\":\"Grid\"},{\"attributes\":{},\"id\":\"c3963a7c-9c53-4bf9-bc64-b9f23d2b1e52\",\"type\":\"UnionRenderers\"},{\"attributes\":{\"label\":{\"value\":\"normal_iso\"},\"renderers\":[{\"id\":\"d445b6f5-6d04-4cc6-82d8-099cfba5f3db\",\"type\":\"GlyphRenderer\"}]},\"id\":\"8f1071d7-4695-470d-aaa5-89d5bad282b0\",\"type\":\"LegendItem\"},{\"attributes\":{\"source\":{\"id\":\"ce912dff-bf0b-4c17-97e9-e6fc5f8e6968\",\"type\":\"ColumnDataSource\"}},\"id\":\"289e66dc-973a-4d66-bacd-371e1e0de918\",\"type\":\"CDSView\"},{\"attributes\":{},\"id\":\"02b5d761-ab59-4648-9050-7be49d3ebd4b\",\"type\":\"LinearScale\"},{\"attributes\":{\"active_drag\":\"auto\",\"active_inspect\":\"auto\",\"active_scroll\":\"auto\",\"active_tap\":\"auto\",\"tools\":[{\"id\":\"2eb7c8d2-618c-4798-990c-6826b9e092b3\",\"type\":\"PanTool\"},{\"id\":\"de886c4c-c596-44a7-9c7a-23f3edd58b0b\",\"type\":\"WheelZoomTool\"},{\"id\":\"442c48c4-2dea-4d44-a30f-8dab00b11152\",\"type\":\"BoxZoomTool\"},{\"id\":\"b8c29659-d94b-46bf-8307-aa26095aa3cf\",\"type\":\"SaveTool\"},{\"id\":\"b6287051-936b-411b-a321-64eb723aaa97\",\"type\":\"ResetTool\"},{\"id\":\"f0b88086-7d0a-4fdd-98ad-643c99380bbb\",\"type\":\"HelpTool\"}]},\"id\":\"ce4327c3-da3f-456a-bcf6-aa5b66f90a84\",\"type\":\"Toolbar\"},{\"attributes\":{\"data_source\":{\"id\":\"ce912dff-bf0b-4c17-97e9-e6fc5f8e6968\",\"type\":\"ColumnDataSource\"},\"glyph\":{\"id\":\"e2673206-8cbf-4343-8740-1a76c8a54d52\",\"type\":\"Line\"},\"hover_glyph\":null,\"muted_glyph\":null,\"nonselection_glyph\":{\"id\":\"a73cf907-64ed-4904-9f67-c0c81d0b525f\",\"type\":\"Line\"},\"selection_glyph\":null,\"view\":{\"id\":\"289e66dc-973a-4d66-bacd-371e1e0de918\",\"type\":\"CDSView\"}},\"id\":\"d445b6f5-6d04-4cc6-82d8-099cfba5f3db\",\"type\":\"GlyphRenderer\"},{\"attributes\":{},\"id\":\"6c240531-6f13-4c58-b0af-9ba0e8da9d53\",\"type\":\"LinearScale\"},{\"attributes\":{\"plot\":null,\"text\":\"ELBO\"},\"id\":\"1c5403b9-6607-43f7-b8a6-b13efbb52453\",\"type\":\"Title\"},{\"attributes\":{},\"id\":\"80d40ce9-09f6-43eb-9c00-b85f6055e4ac\",\"type\":\"Selection\"},{\"attributes\":{\"below\":[{\"id\":\"90c13979-6823-4693-9dae-51d1f7b63694\",\"type\":\"LinearAxis\"}],\"left\":[{\"id\":\"00cf8147-35e6-400e-8afa-33f69296688d\",\"type\":\"LinearAxis\"}],\"plot_height\":400,\"plot_width\":400,\"renderers\":[{\"id\":\"90c13979-6823-4693-9dae-51d1f7b63694\",\"type\":\"LinearAxis\"},{\"id\":\"347504e2-23ef-441b-96ad-d37981dc02fc\",\"type\":\"Grid\"},{\"id\":\"00cf8147-35e6-400e-8afa-33f69296688d\",\"type\":\"LinearAxis\"},{\"id\":\"6194e0d1-6f0c-4a74-92e6-e6781c4fb91f\",\"type\":\"Grid\"},{\"id\":\"d1c6fd83-9c64-4e66-9363-f3afcaedc6e8\",\"type\":\"BoxAnnotation\"},{\"id\":\"8fa63ba6-0718-4f78-8612-fb8e1fb17b42\",\"type\":\"Legend\"},{\"id\":\"7f99b0f7-1164-4ec0-b591-3a0151a06dca\",\"type\":\"GlyphRenderer\"},{\"id\":\"a732a147-5e0d-44a7-b47d-a1592e1c503e\",\"type\":\"GlyphRenderer\"},{\"id\":\"d445b6f5-6d04-4cc6-82d8-099cfba5f3db\",\"type\":\"GlyphRenderer\"}],\"title\":{\"id\":\"1c5403b9-6607-43f7-b8a6-b13efbb52453\",\"type\":\"Title\"},\"toolbar\":{\"id\":\"ce4327c3-da3f-456a-bcf6-aa5b66f90a84\",\"type\":\"Toolbar\"},\"x_range\":{\"id\":\"1115ac2f-e330-4cc1-8b0b-070d9449283d\",\"type\":\"DataRange1d\"},\"x_scale\":{\"id\":\"02b5d761-ab59-4648-9050-7be49d3ebd4b\",\"type\":\"LinearScale\"},\"y_range\":{\"id\":\"92ed14a6-8d82-4e99-94e8-18b452b6c663\",\"type\":\"DataRange1d\"},\"y_scale\":{\"id\":\"6c240531-6f13-4c58-b0af-9ba0e8da9d53\",\"type\":\"LinearScale\"}},\"id\":\"b3232add-1987-464c-bdce-ff20907533cb\",\"subtype\":\"Figure\",\"type\":\"Plot\"},{\"attributes\":{\"line_color\":\"green\",\"x\":{\"field\":\"x\"},\"y\":{\"field\":\"y\"}},\"id\":\"e2673206-8cbf-4343-8740-1a76c8a54d52\",\"type\":\"Line\"},{\"attributes\":{\"callback\":null},\"id\":\"1115ac2f-e330-4cc1-8b0b-070d9449283d\",\"type\":\"DataRange1d\"},{\"attributes\":{\"line_color\":\"red\",\"x\":{\"field\":\"x\"},\"y\":{\"field\":\"y\"}},\"id\":\"ab4450c6-9984-4728-90bc-71848ea06cca\",\"type\":\"Line\"},{\"attributes\":{\"plot\":{\"id\":\"b3232add-1987-464c-bdce-ff20907533cb\",\"subtype\":\"Figure\",\"type\":\"Plot\"},\"ticker\":{\"id\":\"44232aed-167f-4add-874b-972d368124dd\",\"type\":\"BasicTicker\"}},\"id\":\"347504e2-23ef-441b-96ad-d37981dc02fc\",\"type\":\"Grid\"},{\"attributes\":{},\"id\":\"67d318be-0d40-4433-b2b5-7b58bc452150\",\"type\":\"Selection\"},{\"attributes\":{\"label\":{\"value\":\"normal_full\"},\"renderers\":[{\"id\":\"7f99b0f7-1164-4ec0-b591-3a0151a06dca\",\"type\":\"GlyphRenderer\"}]},\"id\":\"e6aad493-e2aa-45d6-b70b-5eed6da1fec3\",\"type\":\"LegendItem\"},{\"attributes\":{\"callback\":null,\"data\":{\"x\":[0,1,2,3,4,5,6,7,8,9,10,11,12,13,14,15,16,17,18,19],\"y\":[-5.440392578125,-3.120927001953125,-3.120927001953125,-3.120927001953125,-3.120927001953125,-3.120927001953125,-3.120927001953125,-3.120927001953125,-3.120927001953125,-3.120927001953125,-3.120927001953125,-3.120927001953125,-3.120927001953125,-3.120927001953125,-3.120927001953125,-3.120927001953125,-3.120927001953125,-3.120927001953125,-3.120927001953125,-3.120927001953125]},\"selected\":{\"id\":\"80d40ce9-09f6-43eb-9c00-b85f6055e4ac\",\"type\":\"Selection\"},\"selection_policy\":{\"id\":\"c3963a7c-9c53-4bf9-bc64-b9f23d2b1e52\",\"type\":\"UnionRenderers\"}},\"id\":\"4a41e66a-5e22-4e99-911e-3f17410e953d\",\"type\":\"ColumnDataSource\"},{\"attributes\":{\"line_alpha\":0.1,\"line_color\":\"#1f77b4\",\"x\":{\"field\":\"x\"},\"y\":{\"field\":\"y\"}},\"id\":\"a73cf907-64ed-4904-9f67-c0c81d0b525f\",\"type\":\"Line\"},{\"attributes\":{},\"id\":\"ba68ff47-925d-4652-9dd8-bcc7cbc35a06\",\"type\":\"BasicTickFormatter\"},{\"attributes\":{\"callback\":null,\"data\":{\"x\":[0,1,2,3,4,5,6,7,8,9,10,11,12,13,14,15,16,17,18,19],\"y\":[-4.841447265625,-3.237830078125,-3.237830078125,-3.237830078125,-3.237830078125,-3.237830078125,-3.237830078125,-3.237830078125,-3.237830078125,-3.237830078125,-3.237830078125,-3.237830078125,-3.237830078125,-3.237830078125,-3.237830078125,-3.237830078125,-3.237830078125,-3.237830078125,-3.237830078125,-3.237830078125]},\"selected\":{\"id\":\"e1d87fc0-599d-4dd3-8ed0-6a3822fecab2\",\"type\":\"Selection\"},\"selection_policy\":{\"id\":\"4c36d28b-4d50-4219-b6fb-e29448a03ba1\",\"type\":\"UnionRenderers\"}},\"id\":\"ce912dff-bf0b-4c17-97e9-e6fc5f8e6968\",\"type\":\"ColumnDataSource\"},{\"attributes\":{\"source\":{\"id\":\"6ee7012b-ef11-4336-a919-43a98e939e27\",\"type\":\"ColumnDataSource\"}},\"id\":\"f3862d6c-c876-41ed-802d-d1d06d8460bd\",\"type\":\"CDSView\"},{\"attributes\":{},\"id\":\"bf1240ce-7fb4-4cdc-a260-071eab07c539\",\"type\":\"UnionRenderers\"},{\"attributes\":{\"callback\":null,\"data\":{\"x\":[0,1,2,3,4,5,6,7,8,9,10,11,12,13,14,15,16,17,18,19],\"y\":[-4.74724560546875,-3.18331591796875,-3.18331591796875,-3.18331591796875,-3.18331591796875,-3.18331591796875,-3.18331591796875,-3.18331591796875,-3.18331591796875,-3.18331591796875,-3.18331591796875,-3.18331591796875,-3.18331591796875,-3.18331591796875,-3.18331591796875,-3.18331591796875,-3.18331591796875,-3.18331591796875,-3.18331591796875,-3.18331591796875]},\"selected\":{\"id\":\"67d318be-0d40-4433-b2b5-7b58bc452150\",\"type\":\"Selection\"},\"selection_policy\":{\"id\":\"bf1240ce-7fb4-4cdc-a260-071eab07c539\",\"type\":\"UnionRenderers\"}},\"id\":\"6ee7012b-ef11-4336-a919-43a98e939e27\",\"type\":\"ColumnDataSource\"},{\"attributes\":{\"source\":{\"id\":\"4a41e66a-5e22-4e99-911e-3f17410e953d\",\"type\":\"ColumnDataSource\"}},\"id\":\"42f1c257-0074-45a7-a548-17cb88bcecd6\",\"type\":\"CDSView\"},{\"attributes\":{\"line_color\":\"blue\",\"x\":{\"field\":\"x\"},\"y\":{\"field\":\"y\"}},\"id\":\"4d8e429e-eb83-42c6-b70f-ea8072226848\",\"type\":\"Line\"}],\"root_ids\":[\"b3232add-1987-464c-bdce-ff20907533cb\"]},\"title\":\"Bokeh Application\",\"version\":\"0.12.16\"}};\n",
       "  var render_items = [{\"docid\":\"8548eb2b-0dcb-4428-a4d1-d96e7e88c827\",\"elementid\":\"02500206-3470-43e9-9042-e3bdc84daa5c\",\"modelid\":\"b3232add-1987-464c-bdce-ff20907533cb\"}];\n",
       "  root.Bokeh.embed.embed_items_notebook(docs_json, render_items);\n",
       "\n",
       "  }\n",
       "  if (root.Bokeh !== undefined) {\n",
       "    embed_document(root);\n",
       "  } else {\n",
       "    var attempts = 0;\n",
       "    var timer = setInterval(function(root) {\n",
       "      if (root.Bokeh !== undefined) {\n",
       "        embed_document(root);\n",
       "        clearInterval(timer);\n",
       "      }\n",
       "      attempts++;\n",
       "      if (attempts > 100) {\n",
       "        console.log(\"Bokeh: ERROR: Unable to run BokehJS code because BokehJS library is missing\")\n",
       "        clearInterval(timer);\n",
       "      }\n",
       "    }, 10, root)\n",
       "  }\n",
       "})(window);"
      ],
      "application/vnd.bokehjs_exec.v0+json": ""
     },
     "metadata": {
      "application/vnd.bokehjs_exec.v0+json": {
       "id": "b3232add-1987-464c-bdce-ff20907533cb"
      }
     },
     "output_type": "display_data"
    }
   ],
   "source": [
    "colors = {\n",
    "    'normal_iso': 'green',\n",
    "    'normal_diag': 'blue',\n",
    "    'normal_full': 'red',\n",
    "    \n",
    "}\n",
    "# Plot the ELBO.\n",
    "fig = figure(title='ELBO', width=400, height=400, x_axis_label='step',\n",
    "              y_axis_label='ln p(X)')\n",
    "for model_name, elbo in elbos.items():\n",
    "    fig.line(range(len(elbo)), elbo, legend=model_name, color=colors[model_name])\n",
    "fig.legend.location = 'bottom_right'\n",
    "\n",
    "show(fig)"
   ]
  },
  {
   "cell_type": "code",
   "execution_count": 7,
   "metadata": {
    "scrolled": false
   },
   "outputs": [
    {
     "data": {
      "text/html": [
       "\n",
       "<div class=\"bk-root\">\n",
       "    <div class=\"bk-plotdiv\" id=\"93e0ee3b-fa1b-40ef-8b58-d1263f81cc79\"></div>\n",
       "</div>"
      ]
     },
     "metadata": {},
     "output_type": "display_data"
    },
    {
     "data": {
      "application/javascript": [
       "(function(root) {\n",
       "  function embed_document(root) {\n",
       "    \n",
       "  var docs_json = {\"8f3325c0-e5ac-477a-b056-badfe3307dcb\":{\"roots\":{\"references\":[{\"attributes\":{\"data_source\":{\"id\":\"1980833a-5960-4aa6-829b-f54101477a32\",\"type\":\"ColumnDataSource\"},\"glyph\":{\"id\":\"bf5c9157-458f-4fe9-9b48-08185c0b0269\",\"type\":\"Circle\"},\"hover_glyph\":null,\"muted_glyph\":null,\"nonselection_glyph\":{\"id\":\"ce06d6dd-8052-49ec-8cc4-83ed39b1ba80\",\"type\":\"Circle\"},\"selection_glyph\":null,\"view\":{\"id\":\"35949f33-3ae2-4ffa-90dc-1a86aeb2fba8\",\"type\":\"CDSView\"}},\"id\":\"df23d42d-107b-4320-98a6-c7b8f087f191\",\"type\":\"GlyphRenderer\"},{\"attributes\":{\"fill_alpha\":{\"value\":0.1},\"fill_color\":{\"value\":\"#1f77b4\"},\"line_alpha\":{\"value\":0.1},\"line_color\":{\"value\":\"#1f77b4\"},\"x\":{\"field\":\"x\"},\"y\":{\"field\":\"y\"}},\"id\":\"ce06d6dd-8052-49ec-8cc4-83ed39b1ba80\",\"type\":\"Circle\"},{\"attributes\":{\"fill_color\":{\"value\":\"#1f77b4\"},\"line_color\":{\"value\":\"#1f77b4\"},\"x\":{\"field\":\"x\"},\"y\":{\"field\":\"y\"}},\"id\":\"bf5c9157-458f-4fe9-9b48-08185c0b0269\",\"type\":\"Circle\"},{\"attributes\":{\"fill_alpha\":0.3,\"fill_color\":\"#98AFC7\",\"x\":{\"field\":\"x\"},\"y\":{\"field\":\"y\"}},\"id\":\"ec6bff67-7c0e-422a-8840-2d9efcc24135\",\"type\":\"Patch\"},{\"attributes\":{\"bottom_units\":\"screen\",\"fill_alpha\":{\"value\":0.5},\"fill_color\":{\"value\":\"lightgrey\"},\"left_units\":\"screen\",\"level\":\"overlay\",\"line_alpha\":{\"value\":1.0},\"line_color\":{\"value\":\"black\"},\"line_dash\":[4,4],\"line_width\":{\"value\":2},\"plot\":null,\"render_mode\":\"css\",\"right_units\":\"screen\",\"top_units\":\"screen\"},\"id\":\"b667cc34-0b68-4599-bbed-50f18ac3f038\",\"type\":\"BoxAnnotation\"},{\"attributes\":{},\"id\":\"a8084f49-6954-472c-a3c1-0d7fe0df3f7d\",\"type\":\"PanTool\"},{\"attributes\":{\"source\":{\"id\":\"1980833a-5960-4aa6-829b-f54101477a32\",\"type\":\"ColumnDataSource\"}},\"id\":\"35949f33-3ae2-4ffa-90dc-1a86aeb2fba8\",\"type\":\"CDSView\"},{\"attributes\":{},\"id\":\"11aa7dec-91db-4703-9dcc-dbd7a74e97ff\",\"type\":\"WheelZoomTool\"},{\"attributes\":{\"overlay\":{\"id\":\"b667cc34-0b68-4599-bbed-50f18ac3f038\",\"type\":\"BoxAnnotation\"}},\"id\":\"502e29a4-90a0-48d8-b334-d20001d8526f\",\"type\":\"BoxZoomTool\"},{\"attributes\":{},\"id\":\"2303f8c6-d1ce-43da-8c66-2a0ba266061b\",\"type\":\"SaveTool\"},{\"attributes\":{},\"id\":\"6c175f5a-31f3-4bf0-8b9a-af47988141be\",\"type\":\"ResetTool\"},{\"attributes\":{},\"id\":\"24867012-1723-4934-bb24-8e98cbea78ae\",\"type\":\"HelpTool\"},{\"attributes\":{\"fill_alpha\":0.1,\"fill_color\":\"#1f77b4\",\"line_alpha\":0.1,\"line_color\":\"#1f77b4\",\"x\":{\"field\":\"x\"},\"y\":{\"field\":\"y\"}},\"id\":\"137cdaa5-063c-4b84-9068-663716395fe6\",\"type\":\"Patch\"},{\"attributes\":{\"fill_alpha\":0.3,\"fill_color\":\"green\",\"x\":{\"field\":\"x\"},\"y\":{\"field\":\"y\"}},\"id\":\"c536cb3b-1df3-4101-9d58-7737eb945a82\",\"type\":\"Patch\"},{\"attributes\":{\"callback\":null,\"data\":{\"x\":{\"__ndarray__\":\"AACAyHOpBkCrmWITqp0GQPN+i1pZegZA+oVyxKY/BkCYo3EQ0O0FQC480FUrhQVAPbkyqSYGBUCqqM2oR3EEQAE31u8qxwNA0OHDcYMIA0DNrxC+GTYCQID2PS3LUAFAE5/794hZAEBXuM1yrqL+P/GC1rqXcvw/xibM+Bol+j/OuH5KpLz3P2aSfS68O/U/Y9Lm2QSl8j8qk1TmbvbvP4TTU2lCguo/OGN29EDz5D/ZII3yhp7ePyq96fhxONM/HyMxvwIBvz+yRWI+4e+tvzR60+FabM6/ySCNakKc2r82Y3awHvLiv3vTUyUggei/IpNUokz17b9g0ua3c6Txv2KSfQwrO/S/y7h+KBO89r/CJszWiST5v+6C1pgGcvu/UbjNUB2i/b8kPvfNgLL/v3/2PZyC0ADAzK8QLdG1AcDO4cPgOogCwAA31l7iRgPAqqjNF//wA8A8uTIY3oUEwC480MTiBAXAl6Nxf4dtBcD6hXIzXr8FwPN+i8kQ+gXAq5ligmEdBsAAAIA3KykGwAAAgDcrKQbAq5ligmEdBsDzfovJEPoFwPqFcjNevwXAl6Nxf4dtBcAuPNDE4gQFwDy5MhjehQTAqqjNF//wA8AAN9Ze4kYDwM7hw+A6iALAzK8QLdG1AcB/9j2cgtAAwCQ+982Asv+/UbjNUB2i/b/ugtaYBnL7v8ImzNaJJPm/y7h+KBO89r9ikn0MKzv0v2DS5rdzpPG/IpNUokz17b9701MlIIHovzZjdrAe8uK/ySCNakKc2r80etPhWmzOv7JFYj7h762/HyMxvwIBvz8qven4cTjTP9kgjfKGnt4/OGN29EDz5D+E01NpQoLqPyqTVOZu9u8/Y9Lm2QSl8j9mkn0uvDv1P864fkqkvPc/xibM+Bol+j/xgta6l3L8P1e4zXKuov4/E5/794hZAECA9j0ty1ABQM2vEL4ZNgJA0OHDcYMIA0ABN9bvKscDQKqozahHcQRAPbkyqSYGBUAuPNBVK4UFQJijcRDQ7QVA+oVyxKY/BkDzfotaWXoGQKuZYhOqnQZAAACAyHOpBkA=\",\"dtype\":\"float64\",\"shape\":[100]},\"y\":{\"__ndarray__\":\"AAAAoCeRcj95j5IXOOfAP0jsTpJdlNA/YmZnU/yj2D8YlY67/kzgPy0G6YsAN+Q/xfDEiOUL6D+T78vVpcfrP6TqyAlUZu8/h2AnqBBy8T8aspm1sB7zP55Q1EdHt/Q/qA1xjSY69j8+QzGNt6X3P49sHNJ7+Pg/1lzU/Q4x+j+P2Hc/KE77P+szia2bTvw/2RZtgVsx/T9XgzUzefX9PyyUjnQmmv4/mv3ECbYe/z/EAgKAnIL/P+Er/b9wxf8/M2yJfOzm/z8zbIl87Ob/P+Er/b9wxf8/xAICgJyC/z+a/cQJth7/Py2UjnQmmv4/WIM1M3n1/T/aFm2BWzH9P+wzia2bTvw/j9h3PyhO+z/YXNT9DjH6P5FsHNJ7+Pg/QEMxjbel9z+pDXGNJjr2P6FQ1EdHt/Q/HLKZtbAe8z+LYCeoEHLxP6nqyAlUZu8/le/L1aXH6z/M8MSI5QvoPzAG6YsAN+Q/IJWOu/5M4D9rZmdT/KPYP1nsTpJdlNA/kI+SFzjnwD8ZAQCgJ5FyP+f+/58nkXI/IB8lO0t8v7+y2J2qqP/Pv2tmZxZzD9i/IJUOHboC4L8wBmntu+zjv8zwROqgwee/le9LN2F967+p6khrDxzvv4tg51juTPG/HLJZZo758r+hUJT4JJL0v6kNMT4EFfa/QEPxPZWA97+RbNyCWdP4v9hclK7sC/q/j9g38AUp+7/sM0leeSn8v9oWLTI5DP2/WIP141bQ/b8tlE4lBHX+v5r9hLqT+f6/xALCMHpd/7/hK71wTqD/vzNsSS3Kwf+/M2xJLcrB/7/hK71wTqD/v8QCwjB6Xf+/mv2EupP5/r8slE4lBHX+v1eD9eNW0P2/2RYtMjkM/b/rM0leeSn8v4/YN/AFKfu/1lyUruwL+r+PbNyCWdP4vz5D8T2VgPe/qA0xPgQV9r+eUJT4JJL0vxqyWWaO+fK/h2DnWO5M8b+k6khrDxzvv5PvSzdhfeu/xfBE6qDB578tBmntu+zjvxiVDh26AuC/YmZnFnMP2L+Q2J2qqP/Pv/IeJTtLfL+/AAAAoCeRcj8=\",\"dtype\":\"float64\",\"shape\":[100]}},\"selected\":{\"id\":\"ffac7234-5509-4c9f-b513-d1d2df502768\",\"type\":\"Selection\"},\"selection_policy\":{\"id\":\"7ce5b87d-9766-4e04-a720-c1560757f576\",\"type\":\"UnionRenderers\"}},\"id\":\"16d05d0a-54a9-45a3-81f1-7efb4c1f18eb\",\"type\":\"ColumnDataSource\"},{\"attributes\":{\"data_source\":{\"id\":\"a88afe03-2795-43b5-81f2-b21a5df3f1f4\",\"type\":\"ColumnDataSource\"},\"glyph\":{\"id\":\"7098966e-cd86-4795-8409-d72f4a69a495\",\"type\":\"Patch\"},\"hover_glyph\":null,\"muted_glyph\":null,\"nonselection_glyph\":{\"id\":\"e88f10f7-ec32-4e78-9290-681e5845a697\",\"type\":\"Patch\"},\"selection_glyph\":null,\"view\":{\"id\":\"233f4d93-b2ba-4dac-ab25-e552be31d6c6\",\"type\":\"CDSView\"}},\"id\":\"0bb67a57-e3fe-4b9f-adc3-48c803741d92\",\"type\":\"GlyphRenderer\"},{\"attributes\":{\"data_source\":{\"id\":\"8eae6088-b41f-4e0a-9db4-ca15d6a4c178\",\"type\":\"ColumnDataSource\"},\"glyph\":{\"id\":\"c536cb3b-1df3-4101-9d58-7737eb945a82\",\"type\":\"Patch\"},\"hover_glyph\":null,\"muted_glyph\":null,\"nonselection_glyph\":{\"id\":\"137cdaa5-063c-4b84-9068-663716395fe6\",\"type\":\"Patch\"},\"selection_glyph\":null,\"view\":{\"id\":\"18dfc785-12dd-4a99-b086-e61e1d8738f5\",\"type\":\"CDSView\"}},\"id\":\"57b7c4ab-9460-4002-a68e-5b078293b49c\",\"type\":\"GlyphRenderer\"},{\"attributes\":{\"plot\":null,\"text\":\"\"},\"id\":\"aca14a2a-7ce1-415f-848f-62fcb80a0a1e\",\"type\":\"Title\"},{\"attributes\":{\"fill_alpha\":0.3,\"fill_color\":\"green\",\"x\":{\"field\":\"x\"},\"y\":{\"field\":\"y\"}},\"id\":\"7098966e-cd86-4795-8409-d72f4a69a495\",\"type\":\"Patch\"},{\"attributes\":{\"source\":{\"id\":\"8eae6088-b41f-4e0a-9db4-ca15d6a4c178\",\"type\":\"ColumnDataSource\"}},\"id\":\"18dfc785-12dd-4a99-b086-e61e1d8738f5\",\"type\":\"CDSView\"},{\"attributes\":{\"source\":{\"id\":\"a88afe03-2795-43b5-81f2-b21a5df3f1f4\",\"type\":\"ColumnDataSource\"}},\"id\":\"233f4d93-b2ba-4dac-ab25-e552be31d6c6\",\"type\":\"CDSView\"},{\"attributes\":{\"fill_alpha\":0.1,\"fill_color\":\"#1f77b4\",\"line_alpha\":0.1,\"line_color\":\"#1f77b4\",\"x\":{\"field\":\"x\"},\"y\":{\"field\":\"y\"}},\"id\":\"e88f10f7-ec32-4e78-9290-681e5845a697\",\"type\":\"Patch\"},{\"attributes\":{\"callback\":null,\"data\":{\"x\":{\"__ndarray__\":\"AAAA8a7x8z/wk2rudOfzP81OtKjRyPM/9QqqWuWV8z9e/fOV5U7zP2qBuwod9PI/GXkZOeuF8j836J8MxATyP095aGIvcfE/1jMoesjL8D/5vN5SPRXwPyfgmeebnO4/6rXmRJfv7D+3PNoMMCXrPzSQHXhIP+k/BLuFrd8/5z+Yzl2oDynlP06kdwIL/eI/155WpBq+4D+yAsa7Nt3cP+dCWtT2Idg/jH+7wW9P0z9kZRBgaNXMPw7ZCuTT8cI/8jZMWxL9sT9AbcO0A0B/vwCyFaiV2rW/V2UQUN/QxL8U/3ZzVprOv99CWkyyH9S/qwLGM/La2L+oPa3A8Hndv0ukd77o++C/lc5dZO0n478Au4VpvT7lvzKQHTQmPue/szzayA0k6b/oteYAde7qvyXgmaN5m+y/8Hm9YVgp7r+oZ1Cwbpbvv055aECecPC/N+if6jIE8b8ZeRkXWoXxv2qBu+iL8/G/Xf3zc1RO8r/1Cqo4VJXyv81OtIZAyPK/8JNqzOPm8r8AAADPHfHyvwAAAM8d8fK/8JNqzOPm8r/NTrSGQMjyv/UKqjhUlfK/Xf3zc1RO8r9qgbvoi/Pxvxl5GRdahfG/N+if6jIE8b9OeWhAnnDwv6hnULBulu+/8Hm9YVgp7r8l4JmjeZvsv+i15gB17uq/szzayA0k6b8ykB00Jj7nvwC7hWm9PuW/lc5dZO0n479LpHe+6Pvgv6g9rcDwed2/qwLGM/La2L/fQlpMsh/UvxT/dnNWms6/V2UQUN/QxL8AshWoldq1v0Btw7QDQH+/8jZMWxL9sT8O2Qrk0/HCP2RlEGBo1cw/jH+7wW9P0z/nQlrU9iHYP7ICxrs23dw/155WpBq+4D9OpHcCC/3iP5jOXagPKeU/BLuFrd8/5z80kB14SD/pP7c82gwwJes/6rXmRJfv7D8n4Jnnm5zuP/m83lI9FfA/1jMoesjL8D9PeWhiL3HxPzfonwzEBPI/GXkZOeuF8j9qgbsKHfTyP17985XlTvM/9QqqWuWV8z/NTrSo0cjzP/CTau505/M/AAAA8a7x8z8=\",\"dtype\":\"float64\",\"shape\":[100]},\"y\":{\"__ndarray__\":\"AAAAoCeRcj+eKPyZhRe1P6E+WpSAeMQ/g4Ot0VFQzj9AbDbjbQTUP1tBsU3yy9g/mjpFEa953T8kL8AaXAThP11V+AYhOuM/jjTNItNb5T9mK5NhNGfnP7wzUTAeWuk/IU/vuIMy6z+PuFEKdO7sPy0QHCMcjO4/Qkp7buQE8D+ZTihb9LLwP/RlX7yGT/E/m1Ec3fbZ8T+2INAbs1HyPzDbk4M9tvI/qtGoUCwH8z+sL7tfKkTzP6PFcYf3bPM/gNPs22iB8z+A0+zbaIHzP6PFcYf3bPM/rS+7XypE8z+q0ahQLAfzPzDbk4M9tvI/tyDQG7NR8j+cURzd9tnxP/VlX7yGT/E/mk4oW/Sy8D9ESntu5ATwPzAQHCMcjO4/kbhRCnTu7D8iT++4gzLrP8AzUTAeWuk/aCuTYTRn5z+TNM0i01vlP2BV+AYhOuM/JS/AGlwE4T+jOkURr3ndP19BsU3yy9g/Smw2420E1D+Og63RUVDOP7c+WpSAeMQ/uij8mYUXtT+sAACgJ5FyP1T//58nkXI/uij8pWDFsr+3Ploabk/Dv46DrVc/J82/Smw2puRv079fQbEQaTfYv6M6RdQl5dy/JS9AfBe64L9gVXho3O/iv5M0TYSOEeW/aCsTw+8c57/AM9GR2Q/pvyJPbxo/6Oq/kbjRay+k7L8wEJyE10Huv4eUdj6Ev++/mk7oC9KN8L/1ZR9tZCrxv5xR3I3UtPG/tyCQzJAs8r8w21M0G5Hyv6rRaAEK4vK/rS97EAgf87+jxTE41Ufzv4DTrIxGXPO/gNOsjEZc87+jxTE41Ufzv6wvexAIH/O/qtFoAQri8r8w21M0G5Hyv7YgkMyQLPK/m1HcjdS08b/0ZR9tZCrxv5lO6AvSjfC/hZR2PoS/778tEJyE10Huv4+40WsvpOy/IU9vGj/o6r+8M9GR2Q/pv2YrE8PvHOe/jjRNhI4R5b9dVXho3O/ivyQvQHwXuuC/mjpF1CXl3L9bQbEQaTfYv0BsNqbkb9O/g4OtVz8nzb+hPloabk/Dv54o/KVgxbK/AAAAoCeRcj8=\",\"dtype\":\"float64\",\"shape\":[100]}},\"selected\":{\"id\":\"c675e03c-1fbf-4764-9e7b-2424b5f42997\",\"type\":\"Selection\"},\"selection_policy\":{\"id\":\"3bbad31b-6a45-45c6-aeff-185596b23ba7\",\"type\":\"UnionRenderers\"}},\"id\":\"a88afe03-2795-43b5-81f2-b21a5df3f1f4\",\"type\":\"ColumnDataSource\"},{\"attributes\":{\"callback\":null,\"data\":{\"x\":{\"__ndarray__\":\"AACAyHOpBkCrmWITqp0GQPN+i1pZegZA+oVyxKY/BkCYo3EQ0O0FQC480FUrhQVAPbkyqSYGBUCqqM2oR3EEQAE31u8qxwNA0OHDcYMIA0DNrxC+GTYCQID2PS3LUAFAE5/794hZAEBXuM1yrqL+P/GC1rqXcvw/xibM+Bol+j/OuH5KpLz3P2aSfS68O/U/Y9Lm2QSl8j8qk1TmbvbvP4TTU2lCguo/OGN29EDz5D/ZII3yhp7ePyq96fhxONM/HyMxvwIBvz+yRWI+4e+tvzR60+FabM6/ySCNakKc2r82Y3awHvLiv3vTUyUggei/IpNUokz17b9g0ua3c6Txv2KSfQwrO/S/y7h+KBO89r/CJszWiST5v+6C1pgGcvu/UbjNUB2i/b8kPvfNgLL/v3/2PZyC0ADAzK8QLdG1AcDO4cPgOogCwAA31l7iRgPAqqjNF//wA8A8uTIY3oUEwC480MTiBAXAl6Nxf4dtBcD6hXIzXr8FwPN+i8kQ+gXAq5ligmEdBsAAAIA3KykGwAAAgDcrKQbAq5ligmEdBsDzfovJEPoFwPqFcjNevwXAl6Nxf4dtBcAuPNDE4gQFwDy5MhjehQTAqqjNF//wA8AAN9Ze4kYDwM7hw+A6iALAzK8QLdG1AcB/9j2cgtAAwCQ+982Asv+/UbjNUB2i/b/ugtaYBnL7v8ImzNaJJPm/y7h+KBO89r9ikn0MKzv0v2DS5rdzpPG/IpNUokz17b9701MlIIHovzZjdrAe8uK/ySCNakKc2r80etPhWmzOv7JFYj7h762/HyMxvwIBvz8qven4cTjTP9kgjfKGnt4/OGN29EDz5D+E01NpQoLqPyqTVOZu9u8/Y9Lm2QSl8j9mkn0uvDv1P864fkqkvPc/xibM+Bol+j/xgta6l3L8P1e4zXKuov4/E5/794hZAECA9j0ty1ABQM2vEL4ZNgJA0OHDcYMIA0ABN9bvKscDQKqozahHcQRAPbkyqSYGBUAuPNBVK4UFQJijcRDQ7QVA+oVyxKY/BkDzfotaWXoGQKuZYhOqnQZAAACAyHOpBkA=\",\"dtype\":\"float64\",\"shape\":[100]},\"y\":{\"__ndarray__\":\"AABAT0eI5j++YvKAg07qP2DXYFQ6+e0/S/k2JkjC8D8aSBx3ZXbyP+hZl1YqF/Q/8m4jWOCi9T+gOjQ25xf3P3h3HIi2dPg/CDPaXt+3+T+SkhbHDeD6P3gCwy4K7Ps/UJ7brLra/D+eB/YpJKv9P52zZGhrXP4/f9PY6tXt/j9ROZC4yl7/P0faQP7Srv8/ZaYYi5rd/z/6Nk4p8Or/P0kp5dHF1v8/UrBvuzCh/z8A2L1DaUr/Pz3zkbTK0v4/KpWY49I6/j8BGwmuIYP9P7IGelB4rPw/3hKam7i3+z//1qMG5KX6P9vfhaAaePk/sCbc4Jkv+D9zrPlZu832P6KJYU3zU/U/Gt0tJM/D8z/GiwDN8x7yP0WZNQEcZ/A/WNJR5iw87T+eq/LOh4vpPzdIknYqwOU/zrUfsxLe4T/eUo2GrNLbPw6+tQQ9zNM/1MyHHpBixz+gfWpZo1KsP8j5dBEqgLK/bKHJhnuKyb8E/2nGs9zUvwzR6XXp3dy/AjRXkTlg4r/+/7+wAj7mvwIAwLACPua/xGJy4j4E6r9o1+C19a7tv0359tYlnfC/HkjcJ0NR8r/qWVcHCPLzv/Vu4wi+ffW/oDr05sTy9r96d9w4lE/4vwozmg+9kvm/k5LWd+u6+r96AoPf58b7v1Gem12Ytfy/nge22gGG/b+dsyQZSTf+v4DTmJuzyP6/UDlQaag5/79I2gCvsIn/v2Wm2Dt4uP+/+jYO2s3F/79JKaWCo7H/v1GwL2wOfP+/ANh99EYl/78881FlqK3+vymVWJSwFf6/ABvJXv9d/b+xBjoBVof8v9wSWkyWkvu//tZjt8GA+r/Z30VR+FL5v64mnJF3Cvi/cay5Cpmo9r+hiSH+0C71vxnd7dSsnvO/w4vAfdH58b9DmfWx+UHwv1HS0Ufo8ey/m6tyMENB6b8wSBLY5XXlv8m1nxTOk+G/ylKNSSM+278CvrXHszfTv8jMh6R9Oca/IH1qcVmup7/g+XQFT9K0P46hyQCOs8o/DP9pAz1x1T8c0emycnLdPwg01y9+quI/AABAT0eI5j8=\",\"dtype\":\"float64\",\"shape\":[100]}},\"selected\":{\"id\":\"0882cb50-0f0d-43c2-97e4-1cea368be56c\",\"type\":\"Selection\"},\"selection_policy\":{\"id\":\"921bc434-df1f-465c-9d8a-a5d674fba4dd\",\"type\":\"UnionRenderers\"}},\"id\":\"01766c54-7c3e-4f22-b93f-0706212b0bdf\",\"type\":\"ColumnDataSource\"},{\"attributes\":{\"fill_alpha\":0.1,\"fill_color\":\"#1f77b4\",\"line_alpha\":0.1,\"line_color\":\"#1f77b4\",\"x\":{\"field\":\"x\"},\"y\":{\"field\":\"y\"}},\"id\":\"cf2e64f7-92b6-4829-b6e7-b249296ffaa8\",\"type\":\"Patch\"},{\"attributes\":{\"data_source\":{\"id\":\"16d05d0a-54a9-45a3-81f1-7efb4c1f18eb\",\"type\":\"ColumnDataSource\"},\"glyph\":{\"id\":\"ec6bff67-7c0e-422a-8840-2d9efcc24135\",\"type\":\"Patch\"},\"hover_glyph\":null,\"muted_glyph\":null,\"nonselection_glyph\":{\"id\":\"cf2e64f7-92b6-4829-b6e7-b249296ffaa8\",\"type\":\"Patch\"},\"selection_glyph\":null,\"view\":{\"id\":\"b2e6ca33-34dc-4c7b-9d68-f80067695203\",\"type\":\"CDSView\"}},\"id\":\"355da0e8-97e2-43e6-aa68-1f4af0be9bf7\",\"type\":\"GlyphRenderer\"},{\"attributes\":{\"source\":{\"id\":\"16d05d0a-54a9-45a3-81f1-7efb4c1f18eb\",\"type\":\"ColumnDataSource\"}},\"id\":\"b2e6ca33-34dc-4c7b-9d68-f80067695203\",\"type\":\"CDSView\"},{\"attributes\":{\"fill_alpha\":0.3,\"fill_color\":\"#98AFC7\",\"x\":{\"field\":\"x\"},\"y\":{\"field\":\"y\"}},\"id\":\"a1f7fd30-8b15-4d04-ad71-a727bff104e9\",\"type\":\"Patch\"},{\"attributes\":{\"callback\":null,\"data\":{\"x\":{\"__ndarray__\":\"AAAAEZjp9j+rmeJbzt32P/N+C6N9uvY/+oXyDMt/9j+Yo/FY9C32Py48UJ5PxfU/Pbmy8UpG9T+qqE3xa7H0PwE3VjhPB/Q/0OFDuqdI8z/Nr5AGPnbyP4D2vXXvkPE/E597QK2Z8D9XuM0D9yLvP/GC1kvg8uw/xibMiWOl6j/OuH7b7DzoP2aSfb8EvOU/Y9Lmak0l4z+VSSoEgHvgP4TTU4vTgts/OGN2FtLz1T9skEab1E/QPyq96TyUOcU/kJGY58WCsz9ki8Q8ns2LvzR601kWarq/ySCNJiCbyL82Y3aOjfHRv3vTUwOPgNe/IpNUgLv03L9g0uYmKyThv2KSfXviuuO/y7h+l8o75r/CJsxFQaTov+6C1ge+8eq/UbjNv9Qh7b8kPvc8ODLvv3/2vVNekPC/zK+Q5Kx18b/O4UOYFkjyvwA3Vha+BvO/qqhNz9qw8788ubLPuUX0vy48UHy+xPS/l6PxNmMt9b/6hfLqOX/1v/N+C4HsufW/q5niOT3d9b8AAADvBun1vwAAAO8G6fW/q5niOT3d9b/zfguB7Ln1v/qF8uo5f/W/l6PxNmMt9b8uPFB8vsT0vzy5ss+5RfS/qqhNz9qw878AN1YWvgbzv87hQ5gWSPK/zK+Q5Kx18b9/9r1TXpDwvyQ+9zw4Mu+/UbjNv9Qh7b/ugtYHvvHqv8ImzEVBpOi/y7h+l8o75r9ikn174rrjv2DS5iYrJOG/IpNUgLv03L9701MDj4DXvzZjdo6N8dG/ySCNJiCbyL80etNZFmq6v2SLxDyezYu/kJGY58WCsz8qvek8lDnFP2yQRpvUT9A/OGN2FtLz1T+E01OL04LbP5VJKgSAe+A/Y9Lmak0l4z9mkn2/BLzlP864ftvsPOg/xibMiWOl6j/xgtZL4PLsP1e4zQP3Iu8/E597QK2Z8D+A9r1175DxP82vkAY+dvI/0OFDuqdI8z8BN1Y4Twf0P6qoTfFrsfQ/Pbmy8UpG9T8uPFCeT8X1P5ij8Vj0LfY/+oXyDMt/9j/zfgujfbr2P6uZ4lvO3fY/AAAAEZjp9j8=\",\"dtype\":\"float64\",\"shape\":[100]},\"y\":{\"__ndarray__\":\"AAAAoCeRcj95j5JUwXuxP0jszjCi3sA/Ymbn8UDuyD8Ylc4KIXLQPy0GKdsiXNQ/xfAE2Acx2D+T7wslyOzbP6TqCFl2i98/h2DHz6GE4T8asjndQTHjP55QdG/YyeQ/qA0RtbdM5j8+Q9G0SLjnP49svPkMC+k/1lx0JaBD6j+P2BdnuWDrP+szKdUsYew/2RYNqexD7T9Xg9VaCgjuPyyULpy3rO4/mv1kMUcx7z/EAqKnLZXvP+ErnecB2O8/M2wppH357z8zbCmkffnvP+ErnecB2O8/xAKipy2V7z+a/WQxRzHvPy2ULpy3rO4/WIPVWgoI7j/aFg2p7EPtP+wzKdUsYew/j9gXZ7lg6z/YXHQloEPqP5FsvPkMC+k/QEPRtEi45z+pDRG1t0zmP6FQdG/YyeQ/HLI53UEx4z+LYMfPoYThP6nqCFl2i98/le8LJcjs2z/M8ATYBzHYPzAGKdsiXNQ/IJXOCiFy0D9rZufxQO7IP1nszjCi3sA/kI+SVMF7sT+NAACgJ5FyP3P//58nkXI/IB8lwThTrr+y2J1tH2u/v2tm53cuxce/QCqdmy+7z78wBimemcfTv8zwBJt+nNe/le8L6D5Y27+p6ggc7fbev4tgRzFdOuG/HLK5Pv3m4r+hUPTQk3/kv6kNkRZzAua/QENRFgRu57+RbDxbyMDov9hc9IZb+em/j9iXyHQW67/sM6k26Bbsv9oWjQqo+ey/WINVvMW97b8tlK79cmLuv5r95JIC5+6/xAIiCelK77/hKx1JvY3vvzNsqQU5r++/M2ypBTmv77/hKx1JvY3vv8QCIgnpSu+/mv3kkgLn7r8slK79cmLuv1eDVbzFve2/2RaNCqj57L/rM6k26Bbsv4/Yl8h0Fuu/1lz0hlv56b+PbDxbyMDovz5DURYEbue/qA2RFnMC5r+eUPTQk3/kvxqyuT795uK/h2BHMV064b+k6ggc7fbev5PvC+g+WNu/xfAEm36c178tBimemcfTvzAqnZsvu8+/Ymbndy7Fx7+Q2J1tH2u/v/IeJcE4U66/AAAAoCeRcj8=\",\"dtype\":\"float64\",\"shape\":[100]}},\"selected\":{\"id\":\"6dabe8bf-0ccc-4a81-a97f-16dac07ed1f6\",\"type\":\"Selection\"},\"selection_policy\":{\"id\":\"159a85d8-e2ce-4208-9038-2f7ab15614c3\",\"type\":\"UnionRenderers\"}},\"id\":\"6af9592c-8276-4fda-8ea4-940cd8cad589\",\"type\":\"ColumnDataSource\"},{\"attributes\":{\"fill_alpha\":0.1,\"fill_color\":\"#1f77b4\",\"line_alpha\":0.1,\"line_color\":\"#1f77b4\",\"x\":{\"field\":\"x\"},\"y\":{\"field\":\"y\"}},\"id\":\"2294ab75-750f-4425-a587-356570451723\",\"type\":\"Patch\"},{\"attributes\":{\"data_source\":{\"id\":\"6af9592c-8276-4fda-8ea4-940cd8cad589\",\"type\":\"ColumnDataSource\"},\"glyph\":{\"id\":\"a1f7fd30-8b15-4d04-ad71-a727bff104e9\",\"type\":\"Patch\"},\"hover_glyph\":null,\"muted_glyph\":null,\"nonselection_glyph\":{\"id\":\"2294ab75-750f-4425-a587-356570451723\",\"type\":\"Patch\"},\"selection_glyph\":null,\"view\":{\"id\":\"7c4c7c34-52cd-4426-b868-ccfc4379c2c5\",\"type\":\"CDSView\"}},\"id\":\"1626e443-0146-477d-b714-38a286ae0439\",\"type\":\"GlyphRenderer\"},{\"attributes\":{\"dimension\":1,\"plot\":{\"id\":\"adfea9ea-3a77-4782-b4c7-27ad04da05ee\",\"subtype\":\"Figure\",\"type\":\"Plot\"},\"ticker\":{\"id\":\"8f83bbd8-1f69-4a39-8ce2-6b9f97a0f98a\",\"type\":\"BasicTicker\"}},\"id\":\"552f436c-6a71-4742-84a9-8e721e5d7370\",\"type\":\"Grid\"},{\"attributes\":{\"source\":{\"id\":\"6af9592c-8276-4fda-8ea4-940cd8cad589\",\"type\":\"ColumnDataSource\"}},\"id\":\"7c4c7c34-52cd-4426-b868-ccfc4379c2c5\",\"type\":\"CDSView\"},{\"attributes\":{},\"id\":\"8f83bbd8-1f69-4a39-8ce2-6b9f97a0f98a\",\"type\":\"BasicTicker\"},{\"attributes\":{\"fill_alpha\":0.3,\"fill_color\":\"#C7B097\",\"x\":{\"field\":\"x\"},\"y\":{\"field\":\"y\"}},\"id\":\"00da04d2-f4ba-482c-a817-c8b26806b4a0\",\"type\":\"Patch\"},{\"attributes\":{\"fill_alpha\":0.1,\"fill_color\":\"#1f77b4\",\"line_alpha\":0.1,\"line_color\":\"#1f77b4\",\"x\":{\"field\":\"x\"},\"y\":{\"field\":\"y\"}},\"id\":\"41ad286e-9df3-4147-bcec-af8bdd9493bd\",\"type\":\"Patch\"},{\"attributes\":{\"data_source\":{\"id\":\"01766c54-7c3e-4f22-b93f-0706212b0bdf\",\"type\":\"ColumnDataSource\"},\"glyph\":{\"id\":\"00da04d2-f4ba-482c-a817-c8b26806b4a0\",\"type\":\"Patch\"},\"hover_glyph\":null,\"muted_glyph\":null,\"nonselection_glyph\":{\"id\":\"41ad286e-9df3-4147-bcec-af8bdd9493bd\",\"type\":\"Patch\"},\"selection_glyph\":null,\"view\":{\"id\":\"63c96c32-7c80-42e6-a75a-d0bbf1bedef4\",\"type\":\"CDSView\"}},\"id\":\"705738f8-131e-4789-9f44-c57a7c608a3a\",\"type\":\"GlyphRenderer\"},{\"attributes\":{\"source\":{\"id\":\"01766c54-7c3e-4f22-b93f-0706212b0bdf\",\"type\":\"ColumnDataSource\"}},\"id\":\"63c96c32-7c80-42e6-a75a-d0bbf1bedef4\",\"type\":\"CDSView\"},{\"attributes\":{\"fill_alpha\":0.3,\"fill_color\":\"#C7B097\",\"x\":{\"field\":\"x\"},\"y\":{\"field\":\"y\"}},\"id\":\"5dd8b36a-e4b2-4730-aff9-d29c803507ff\",\"type\":\"Patch\"},{\"attributes\":{\"callback\":null,\"data\":{\"x\":{\"__ndarray__\":\"AAAAEZjp9j+rmeJbzt32P/N+C6N9uvY/+oXyDMt/9j+Yo/FY9C32Py48UJ5PxfU/Pbmy8UpG9T+qqE3xa7H0PwE3VjhPB/Q/0OFDuqdI8z/Nr5AGPnbyP4D2vXXvkPE/E597QK2Z8D9XuM0D9yLvP/GC1kvg8uw/xibMiWOl6j/OuH7b7DzoP2aSfb8EvOU/Y9Lmak0l4z+VSSoEgHvgP4TTU4vTgts/OGN2FtLz1T9skEab1E/QPyq96TyUOcU/kJGY58WCsz9ki8Q8ns2LvzR601kWarq/ySCNJiCbyL82Y3aOjfHRv3vTUwOPgNe/IpNUgLv03L9g0uYmKyThv2KSfXviuuO/y7h+l8o75r/CJsxFQaTov+6C1ge+8eq/UbjNv9Qh7b8kPvc8ODLvv3/2vVNekPC/zK+Q5Kx18b/O4UOYFkjyvwA3Vha+BvO/qqhNz9qw8788ubLPuUX0vy48UHy+xPS/l6PxNmMt9b/6hfLqOX/1v/N+C4HsufW/q5niOT3d9b8AAADvBun1vwAAAO8G6fW/q5niOT3d9b/zfguB7Ln1v/qF8uo5f/W/l6PxNmMt9b8uPFB8vsT0vzy5ss+5RfS/qqhNz9qw878AN1YWvgbzv87hQ5gWSPK/zK+Q5Kx18b9/9r1TXpDwvyQ+9zw4Mu+/UbjNv9Qh7b/ugtYHvvHqv8ImzEVBpOi/y7h+l8o75r9ikn174rrjv2DS5iYrJOG/IpNUgLv03L9701MDj4DXvzZjdo6N8dG/ySCNJiCbyL80etNZFmq6v2SLxDyezYu/kJGY58WCsz8qvek8lDnFP2yQRpvUT9A/OGN2FtLz1T+E01OL04LbP5VJKgSAe+A/Y9Lmak0l4z9mkn2/BLzlP864ftvsPOg/xibMiWOl6j/xgtZL4PLsP1e4zQP3Iu8/E597QK2Z8D+A9r1175DxP82vkAY+dvI/0OFDuqdI8z8BN1Y4Twf0P6qoTfFrsfQ/Pbmy8UpG9T8uPFCeT8X1P5ij8Vj0LfY/+oXyDMt/9j/zfgujfbr2P6uZ4lvO3fY/AAAAEZjp9j8=\",\"dtype\":\"float64\",\"shape\":[100]},\"y\":{\"__ndarray__\":\"AACAnmmt1j++YjLQpXPaP2DXoKNcHt4/S/nWTdnU4D8aSLye9ojiP+hZN367KeQ/8m7Df3G15T+gOtRdeCrnP3h3vK9Hh+g/CDN6hnDK6T+SkrbunvLqP3gCY1ab/us/UJ571Evt7D+eB5ZRtb3tP52zBJD8bu4/f9N4EmcA7z9ROTDgW3HvP0fa4CVkwe8/Zaa4sivw7z/6Nu5Qgf3vP0kphflW6e8/UrAP48Gz7z8A2F1r+lzvPz3zMdxb5e4/KpU4C2RN7j8BG6nVspXtP7IGGngJv+w/3hI6w0nK6z//1kMudbjqP9vfJciriuk/sCZ8CCtC6D9zrJmBTODmP6KJAXWEZuU/Gt3NS2DW4z/Gi6D0hDHiP0WZ1SiteeA/WNKRNU9h3T+eqzIeqrDZPzdI0sVM5dU/zrVfAjUD0j/eUg0l8RzMPw6+NaOBFsQ/1MyHWxn3tz+gfWpNyKSeP8j5dJcXV6G/bKHJSfL1uL8E/+knb5LEvwzRadekk8y/AjQXQhc70r/+/39h4BjWvwIAgGHgGNa/xGIykxzf2b9o16Bm04ndv035Vq+UiuC/Hkg8ALI+4r/qWbffdt/jv/VuQ+Esa+W/oDpUvzPg5r96dzwRAz3ovwoz+ucrgOm/k5I2UFqo6r96AuO3VrTrv1Ge+zUHo+y/ngcWs3Bz7b+ds4TxtyTuv4DT+HMitu6/UDmwQRcn779I2mCHH3fvv2WmOBTnpe+/+jZusjyz779JKQVbEp/vv1Gwj0R9ae+/ANjdzLUS778887E9F5vuvymVuGwfA+6/ABspN25L7b+xBprZxHTsv9wSuiQFgOu//tbDjzBu6r/Z36UpZ0Dpv64m/Gnm9+e/cawZ4weW5r+hiYHWPxzlvxndTa0bjOO/w4sgVkDn4b9DmVWKaC/gv1HSkfjFzNy/m6sy4SAc2b8wSNKIw1DVv8m1X8WrbtG/ylINq97zyr8CvjUpb+3Cv8jMh2f0pLW/IH1qfTRclb/g+XR/YfulP46hyT0XSLs/DP/poYG7xT8c0WlRt7zNPwg0F3+gz9I/AACAnmmt1j8=\",\"dtype\":\"float64\",\"shape\":[100]}},\"selected\":{\"id\":\"73b2d9e9-442a-459f-9757-3eb6aa8781a3\",\"type\":\"Selection\"},\"selection_policy\":{\"id\":\"92d8da75-c8b8-4bb6-a1f1-9c38b94637ae\",\"type\":\"UnionRenderers\"}},\"id\":\"c5a2e65b-10a0-4cc1-99a9-5a949f11d958\",\"type\":\"ColumnDataSource\"},{\"attributes\":{\"fill_alpha\":0.1,\"fill_color\":\"#1f77b4\",\"line_alpha\":0.1,\"line_color\":\"#1f77b4\",\"x\":{\"field\":\"x\"},\"y\":{\"field\":\"y\"}},\"id\":\"cd999acc-f48f-46e9-a668-95b996b15240\",\"type\":\"Patch\"},{\"attributes\":{\"data_source\":{\"id\":\"c5a2e65b-10a0-4cc1-99a9-5a949f11d958\",\"type\":\"ColumnDataSource\"},\"glyph\":{\"id\":\"5dd8b36a-e4b2-4730-aff9-d29c803507ff\",\"type\":\"Patch\"},\"hover_glyph\":null,\"muted_glyph\":null,\"nonselection_glyph\":{\"id\":\"cd999acc-f48f-46e9-a668-95b996b15240\",\"type\":\"Patch\"},\"selection_glyph\":null,\"view\":{\"id\":\"bd22a944-1808-43ad-911a-883257752422\",\"type\":\"CDSView\"}},\"id\":\"0ced2570-5be6-4bee-906c-e25576fb7a95\",\"type\":\"GlyphRenderer\"},{\"attributes\":{},\"id\":\"94411130-6206-4c76-b3c4-5af278129ac8\",\"type\":\"LinearScale\"},{\"attributes\":{\"plot\":{\"id\":\"adfea9ea-3a77-4782-b4c7-27ad04da05ee\",\"subtype\":\"Figure\",\"type\":\"Plot\"},\"ticker\":{\"id\":\"e4ac1da7-5062-4f51-89c5-5259b85b0b3b\",\"type\":\"BasicTicker\"}},\"id\":\"8e588da5-0b92-4fc4-bf2f-6267725c5e73\",\"type\":\"Grid\"},{\"attributes\":{\"source\":{\"id\":\"c5a2e65b-10a0-4cc1-99a9-5a949f11d958\",\"type\":\"ColumnDataSource\"}},\"id\":\"bd22a944-1808-43ad-911a-883257752422\",\"type\":\"CDSView\"},{\"attributes\":{\"active_drag\":\"auto\",\"active_inspect\":\"auto\",\"active_scroll\":\"auto\",\"active_tap\":\"auto\",\"tools\":[{\"id\":\"a8084f49-6954-472c-a3c1-0d7fe0df3f7d\",\"type\":\"PanTool\"},{\"id\":\"11aa7dec-91db-4703-9dcc-dbd7a74e97ff\",\"type\":\"WheelZoomTool\"},{\"id\":\"502e29a4-90a0-48d8-b334-d20001d8526f\",\"type\":\"BoxZoomTool\"},{\"id\":\"2303f8c6-d1ce-43da-8c66-2a0ba266061b\",\"type\":\"SaveTool\"},{\"id\":\"6c175f5a-31f3-4bf0-8b9a-af47988141be\",\"type\":\"ResetTool\"},{\"id\":\"24867012-1723-4934-bb24-8e98cbea78ae\",\"type\":\"HelpTool\"}]},\"id\":\"3980d2c6-ea3b-472c-9b59-767269b71246\",\"type\":\"Toolbar\"},{\"attributes\":{},\"id\":\"9d48e240-b812-4686-969e-e5d1ede0a2f6\",\"type\":\"BasicTickFormatter\"},{\"attributes\":{},\"id\":\"e00ad043-a2c7-4b28-b79a-10e86d6a50d7\",\"type\":\"BasicTickFormatter\"},{\"attributes\":{\"callback\":null,\"data\":{\"x\":{\"__ndarray__\":\"AACAqIqxA0Dwk+qlUKcDQM1ONGCtiANA9QoqEsFVA0Be/XNNwQ4DQGqBO8L4swJAGXmZ8MZFAkA36B/En8QBQE956BkLMQFA1jOoMaSLAEDyeb0UMqr/PyfgmVZTHP4/6rXms05v/D+3PNp756T6PzSQHef/vvg/BLuFHJe/9j+Yzl0Xx6j0P06kd3HCfPI/155WE9I98D+yAsaZpdzrP+dCWrJlIec/jH+7n95O4j9kZRAcRtTaPw7ZCqCx8NA/5W2Yppv1uz9Q2zANE9mnvwCyFTDa3Mm/V2UQlAHS1r+Kf7tbvE3gv99CWm5DIOW/qwLGVYPb6b+oPa3igXruv0ukd08xfPG/lc5d9TWo878Au4X6Bb/1vzKQHcVuvve/szzaWVak+b/oteaRvW77vyXgmTTCG/2/8Hm98qCp/r/UM6igWwsAwE556IjCsADAN+gfM1dEAcAZeZlffsUBwGqBOzGwMwLAXf1zvHiOAsD1CiqBeNUCwM1ONM9kCAPA8JPqFAgnA8AAAIAXQjEDwAAAgBdCMQPA8JPqFAgnA8DNTjTPZAgDwPUKKoF41QLAXf1zvHiOAsBqgTsxsDMCwBl5mV9+xQHAN+gfM1dEAcBOeeiIwrAAwNQzqKBbCwDA8Hm98qCp/r8l4Jk0whv9v+i15pG9bvu/szzaWVak+b8ykB3Fbr73vwC7hfoFv/W/lc5d9TWo879LpHdPMXzxv6g9reKBeu6/qwLGVYPb6b/fQlpuQyDlv4p/u1u8TeC/V2UQlAHS1r8AshUw2tzJv1DbMA0T2ae/5W2Yppv1uz8O2QqgsfDQP2RlEBxG1No/jH+7n95O4j/nQlqyZSHnP7ICxpml3Os/155WE9I98D9OpHdxwnzyP5jOXRfHqPQ/BLuFHJe/9j80kB3n/774P7c82nvnpPo/6rXms05v/D8n4JlWUxz+P/J5vRQyqv8/1jOoMaSLAEBPeegZCzEBQDfoH8SfxAFAGXmZ8MZFAkBqgTvC+LMCQF79c03BDgNA9QoqEsFVA0DNTjRgrYgDQPCT6qVQpwNAAACAqIqxA0A=\",\"dtype\":\"float64\",\"shape\":[100]},\"y\":{\"__ndarray__\":\"AAAAoCeRcj+eKPxc/ILEP6E+2vU7LtQ/g4MtMw0G3j9AbPaTS9/jP1tBcf7Ppug/mjoFwoxU7T8kLyDzyvHwP11VWN+PJ/M/jjQt+0FJ9T9mK/M5o1T3P7wzsQiNR/k/IU9PkfIf+z+PuLHi4tv8Py0QfPuKef4/hZRWtTf3/z+ZTljHq6kAQPRljyg+RgFAm1FMSa7QAUC2IACIakgCQDDbw+/0rAJAqtHYvOP9AkCsL+vL4ToDQKPFofOuYwNAgNMcSCB4A0CA0xxIIHgDQKPFofOuYwNArS/ry+E6A0Cq0di84/0CQDDbw+/0rAJAtyAAiGpIAkCcUUxJrtABQPVljyg+RgFAmk5Yx6upAECHlFa1N/f/PzAQfPuKef4/kbix4uLb/D8iT0+R8h/7P8AzsQiNR/k/aCvzOaNU9z+TNC37QUn1P2BVWN+PJ/M/JS8g88rx8D+jOgXCjFTtP19Bcf7Ppug/Smz2k0vf4z+Ogy0zDQbeP7c+2vU7LtQ/uij8XPyCxD9XAQCgJ5FyP6n+/58nkXI/uij84ulZw7+3Ptq4spnTv46DLfaDcd2/Smx29QaV479fQfFfi1zov6M6hSNICu2/JS/go6jM8L9gVRiQbQLzv5M07asfJPW/aCuz6oAv97/AM3G5aiL5vyJPD0LQ+vq/kbhxk8C2/L8wEDysaFT+v4eUFmYV0v+/mk64nxqXAMD1Ze8ArTMBwJxRrCEdvgHAtyBgYNk1AsAw2yPIY5oCwKrROJVS6wLArS9LpFAoA8CjxQHMHVEDwIDTfCCPZQPAgNN8II9lA8CjxQHMHVEDwKwvS6RQKAPAqtE4lVLrAsAw2yPIY5oCwLYgYGDZNQLAm1GsIR2+AcD0Ze8ArTMBwJlOuJ8alwDAhZQWZhXS/78tEDysaFT+v4+4cZPAtvy/IU8PQtD6+r+8M3G5aiL5v2Yrs+qAL/e/jjTtqx8k9b9dVRiQbQLzvyQv4KOozPC/mjqFI0gK7b9bQfFfi1zov0BsdvUGleO/g4Mt9oNx3b+hPtq4spnTv54o/OLpWcO/AAAAoCeRcj8=\",\"dtype\":\"float64\",\"shape\":[100]}},\"selected\":{\"id\":\"b06face7-1d2e-465f-a63e-6f38ac689ef6\",\"type\":\"Selection\"},\"selection_policy\":{\"id\":\"5b7c3ae6-c225-4f21-9a55-a52e4fda3737\",\"type\":\"UnionRenderers\"}},\"id\":\"8eae6088-b41f-4e0a-9db4-ca15d6a4c178\",\"type\":\"ColumnDataSource\"},{\"attributes\":{},\"id\":\"c675e03c-1fbf-4764-9e7b-2424b5f42997\",\"type\":\"Selection\"},{\"attributes\":{\"callback\":null,\"end\":5.0,\"start\":-5.0},\"id\":\"8b79b57a-2df2-4b56-b8b3-155e5527f7fe\",\"type\":\"Range1d\"},{\"attributes\":{},\"id\":\"ffac7234-5509-4c9f-b513-d1d2df502768\",\"type\":\"Selection\"},{\"attributes\":{},\"id\":\"258746ff-de45-4550-bea4-423fe4342907\",\"type\":\"UnionRenderers\"},{\"attributes\":{},\"id\":\"264ada73-83b0-4c02-962d-784bcf8321ed\",\"type\":\"Selection\"},{\"attributes\":{},\"id\":\"b06face7-1d2e-465f-a63e-6f38ac689ef6\",\"type\":\"Selection\"},{\"attributes\":{},\"id\":\"5b7c3ae6-c225-4f21-9a55-a52e4fda3737\",\"type\":\"UnionRenderers\"},{\"attributes\":{},\"id\":\"7ce5b87d-9766-4e04-a720-c1560757f576\",\"type\":\"UnionRenderers\"},{\"attributes\":{},\"id\":\"3bbad31b-6a45-45c6-aeff-185596b23ba7\",\"type\":\"UnionRenderers\"},{\"attributes\":{},\"id\":\"6dabe8bf-0ccc-4a81-a97f-16dac07ed1f6\",\"type\":\"Selection\"},{\"attributes\":{},\"id\":\"e4ac1da7-5062-4f51-89c5-5259b85b0b3b\",\"type\":\"BasicTicker\"},{\"attributes\":{},\"id\":\"159a85d8-e2ce-4208-9038-2f7ab15614c3\",\"type\":\"UnionRenderers\"},{\"attributes\":{\"formatter\":{\"id\":\"9d48e240-b812-4686-969e-e5d1ede0a2f6\",\"type\":\"BasicTickFormatter\"},\"plot\":{\"id\":\"adfea9ea-3a77-4782-b4c7-27ad04da05ee\",\"subtype\":\"Figure\",\"type\":\"Plot\"},\"ticker\":{\"id\":\"e4ac1da7-5062-4f51-89c5-5259b85b0b3b\",\"type\":\"BasicTicker\"}},\"id\":\"56c6684d-4236-4c73-8516-f1adae7c1a33\",\"type\":\"LinearAxis\"},{\"attributes\":{},\"id\":\"0882cb50-0f0d-43c2-97e4-1cea368be56c\",\"type\":\"Selection\"},{\"attributes\":{},\"id\":\"921bc434-df1f-465c-9d8a-a5d674fba4dd\",\"type\":\"UnionRenderers\"},{\"attributes\":{},\"id\":\"de1be178-68a5-4fd5-84d3-c2f32100478c\",\"type\":\"LinearScale\"},{\"attributes\":{},\"id\":\"73b2d9e9-442a-459f-9757-3eb6aa8781a3\",\"type\":\"Selection\"},{\"attributes\":{},\"id\":\"92d8da75-c8b8-4bb6-a1f1-9c38b94637ae\",\"type\":\"UnionRenderers\"},{\"attributes\":{\"below\":[{\"id\":\"56c6684d-4236-4c73-8516-f1adae7c1a33\",\"type\":\"LinearAxis\"}],\"left\":[{\"id\":\"a91c9396-903a-4553-8d2c-fb301325aded\",\"type\":\"LinearAxis\"}],\"plot_height\":400,\"plot_width\":400,\"renderers\":[{\"id\":\"56c6684d-4236-4c73-8516-f1adae7c1a33\",\"type\":\"LinearAxis\"},{\"id\":\"8e588da5-0b92-4fc4-bf2f-6267725c5e73\",\"type\":\"Grid\"},{\"id\":\"a91c9396-903a-4553-8d2c-fb301325aded\",\"type\":\"LinearAxis\"},{\"id\":\"552f436c-6a71-4742-84a9-8e721e5d7370\",\"type\":\"Grid\"},{\"id\":\"b667cc34-0b68-4599-bbed-50f18ac3f038\",\"type\":\"BoxAnnotation\"},{\"id\":\"df23d42d-107b-4320-98a6-c7b8f087f191\",\"type\":\"GlyphRenderer\"},{\"id\":\"57b7c4ab-9460-4002-a68e-5b078293b49c\",\"type\":\"GlyphRenderer\"},{\"id\":\"0bb67a57-e3fe-4b9f-adc3-48c803741d92\",\"type\":\"GlyphRenderer\"},{\"id\":\"355da0e8-97e2-43e6-aa68-1f4af0be9bf7\",\"type\":\"GlyphRenderer\"},{\"id\":\"1626e443-0146-477d-b714-38a286ae0439\",\"type\":\"GlyphRenderer\"},{\"id\":\"705738f8-131e-4789-9f44-c57a7c608a3a\",\"type\":\"GlyphRenderer\"},{\"id\":\"0ced2570-5be6-4bee-906c-e25576fb7a95\",\"type\":\"GlyphRenderer\"}],\"title\":{\"id\":\"aca14a2a-7ce1-415f-848f-62fcb80a0a1e\",\"type\":\"Title\"},\"toolbar\":{\"id\":\"3980d2c6-ea3b-472c-9b59-767269b71246\",\"type\":\"Toolbar\"},\"x_range\":{\"id\":\"f02b4f73-9a70-42da-b417-539d89b7991c\",\"type\":\"Range1d\"},\"x_scale\":{\"id\":\"de1be178-68a5-4fd5-84d3-c2f32100478c\",\"type\":\"LinearScale\"},\"y_range\":{\"id\":\"8b79b57a-2df2-4b56-b8b3-155e5527f7fe\",\"type\":\"Range1d\"},\"y_scale\":{\"id\":\"94411130-6206-4c76-b3c4-5af278129ac8\",\"type\":\"LinearScale\"}},\"id\":\"adfea9ea-3a77-4782-b4c7-27ad04da05ee\",\"subtype\":\"Figure\",\"type\":\"Plot\"},{\"attributes\":{\"callback\":null,\"end\":5.0,\"start\":-5.0},\"id\":\"f02b4f73-9a70-42da-b417-539d89b7991c\",\"type\":\"Range1d\"},{\"attributes\":{\"callback\":null,\"data\":{\"x\":{\"__ndarray__\":\"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\",\"dtype\":\"float64\",\"shape\":[1000]},\"y\":{\"__ndarray__\":\"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\",\"dtype\":\"float64\",\"shape\":[1000]}},\"selected\":{\"id\":\"264ada73-83b0-4c02-962d-784bcf8321ed\",\"type\":\"Selection\"},\"selection_policy\":{\"id\":\"258746ff-de45-4550-bea4-423fe4342907\",\"type\":\"UnionRenderers\"}},\"id\":\"1980833a-5960-4aa6-829b-f54101477a32\",\"type\":\"ColumnDataSource\"},{\"attributes\":{\"formatter\":{\"id\":\"e00ad043-a2c7-4b28-b79a-10e86d6a50d7\",\"type\":\"BasicTickFormatter\"},\"plot\":{\"id\":\"adfea9ea-3a77-4782-b4c7-27ad04da05ee\",\"subtype\":\"Figure\",\"type\":\"Plot\"},\"ticker\":{\"id\":\"8f83bbd8-1f69-4a39-8ce2-6b9f97a0f98a\",\"type\":\"BasicTicker\"}},\"id\":\"a91c9396-903a-4553-8d2c-fb301325aded\",\"type\":\"LinearAxis\"}],\"root_ids\":[\"adfea9ea-3a77-4782-b4c7-27ad04da05ee\"]},\"title\":\"Bokeh Application\",\"version\":\"0.12.16\"}};\n",
       "  var render_items = [{\"docid\":\"8f3325c0-e5ac-477a-b056-badfe3307dcb\",\"elementid\":\"93e0ee3b-fa1b-40ef-8b58-d1263f81cc79\",\"modelid\":\"adfea9ea-3a77-4782-b4c7-27ad04da05ee\"}];\n",
       "  root.Bokeh.embed.embed_items_notebook(docs_json, render_items);\n",
       "\n",
       "  }\n",
       "  if (root.Bokeh !== undefined) {\n",
       "    embed_document(root);\n",
       "  } else {\n",
       "    var attempts = 0;\n",
       "    var timer = setInterval(function(root) {\n",
       "      if (root.Bokeh !== undefined) {\n",
       "        embed_document(root);\n",
       "        clearInterval(timer);\n",
       "      }\n",
       "      attempts++;\n",
       "      if (attempts > 100) {\n",
       "        console.log(\"Bokeh: ERROR: Unable to run BokehJS code because BokehJS library is missing\")\n",
       "        clearInterval(timer);\n",
       "      }\n",
       "    }, 10, root)\n",
       "  }\n",
       "})(window);"
      ],
      "application/vnd.bokehjs_exec.v0+json": ""
     },
     "metadata": {
      "application/vnd.bokehjs_exec.v0+json": {
       "id": "adfea9ea-3a77-4782-b4c7-27ad04da05ee"
      }
     },
     "output_type": "display_data"
    }
   ],
   "source": [
    "fig = figure(\n",
    "    width=400,\n",
    "    height=400,\n",
    "    x_range=(mean[0] - 5, mean[0] + 5),\n",
    "    y_range=(mean[1] - 5, mean[1] + 5)\n",
    ")\n",
    "fig.circle(data[:, 0], data[:, 1])\n",
    "plotting.plot_normal(fig, normal_iso.mean.numpy(), normal_iso.cov.numpy(), \n",
    "                     line_color='black', fill_alpha=.3, color='green')\n",
    "plotting.plot_normal(fig, normal_diag.mean.numpy(), normal_diag.cov.numpy(), \n",
    "                     line_color='black', fill_alpha=.3, color='#98AFC7')\n",
    "plotting.plot_normal(fig, normal_full.mean.numpy(), normal_full.cov.numpy(), \n",
    "                     line_color='black', fill_alpha=.3, color='#C7B097')\n",
    "\n",
    "show(fig)"
   ]
  },
  {
   "cell_type": "code",
   "execution_count": 9,
   "metadata": {},
   "outputs": [],
   "source": [
    "normal = models['normal_full']"
   ]
  },
  {
   "cell_type": "code",
   "execution_count": 36,
   "metadata": {
    "scrolled": false
   },
   "outputs": [
    {
     "data": {
      "text/plain": [
       "(tensor(-2.2566), tensor(-3.1063))"
      ]
     },
     "execution_count": 36,
     "metadata": {},
     "output_type": "execute_result"
    }
   ],
   "source": [
    "stats = normal.sufficient_statistics(X)\n",
    "m_llh = normal.marginal_log_likelihood(stats)\n",
    "exp_llh = normal.expected_log_likelihood(stats)\n",
    "m_llh.mean(), exp_llh.mean()"
   ]
  },
  {
   "cell_type": "code",
   "execution_count": 33,
   "metadata": {},
   "outputs": [
    {
     "ename": "NameError",
     "evalue": "name 'defaultdict' is not defined",
     "output_type": "error",
     "traceback": [
      "\u001b[0;31m---------------------------------------------------------------------------\u001b[0m",
      "\u001b[0;31mNameError\u001b[0m                                 Traceback (most recent call last)",
      "\u001b[0;32m<ipython-input-33-0065daf2243c>\u001b[0m in \u001b[0;36m<module>\u001b[0;34m()\u001b[0m\n\u001b[1;32m      5\u001b[0m \u001b[0;31m# Xs = ...\u001b[0m\u001b[0;34m\u001b[0m\u001b[0;34m\u001b[0m\u001b[0m\n\u001b[1;32m      6\u001b[0m \u001b[0;34m\u001b[0m\u001b[0m\n\u001b[0;32m----> 7\u001b[0;31m \u001b[0mbatch_stats\u001b[0m \u001b[0;34m=\u001b[0m \u001b[0mdefaultdict\u001b[0m\u001b[0;34m(\u001b[0m\u001b[0;32mlambda\u001b[0m\u001b[0;34m:\u001b[0m \u001b[0;32mNone\u001b[0m\u001b[0;34m)\u001b[0m\u001b[0;34m\u001b[0m\u001b[0m\n\u001b[0m\u001b[1;32m      8\u001b[0m \u001b[0;34m\u001b[0m\u001b[0m\n\u001b[1;32m      9\u001b[0m celbos = {\n",
      "\u001b[0;31mNameError\u001b[0m: name 'defaultdict' is not defined"
     ]
    }
   ],
   "source": [
    "iters = 20\n",
    "X = torch.from_numpy(data).float()\n",
    "\n",
    "# batches\n",
    "# Xs = ...\n",
    "\n",
    "celbos = {\n",
    "    model_name: [] \n",
    "    for model_name in models\n",
    "}  \n",
    "\n",
    "for epoch in range(epochs):\n",
    "    for name, model in models.items():\n",
    "        for batch_id, X in batches.items():\n",
    "            optim.init_steps(batch_stats[batch_id])\n",
    "            elbo = beer.collapsed_evidence_lower_bound(model, X)\n",
    "            batch_stats[batch_id] = elbo.accumulate()\n",
    "            optim.step()\n",
    "            elbos[name].append(float(elbo) / len(X))"
   ]
  }
 ],
 "metadata": {
  "kernelspec": {
   "display_name": "Python 3",
   "language": "python",
   "name": "python3"
  },
  "language_info": {
   "codemirror_mode": {
    "name": "ipython",
    "version": 3
   },
   "file_extension": ".py",
   "mimetype": "text/x-python",
   "name": "python",
   "nbconvert_exporter": "python",
   "pygments_lexer": "ipython3",
   "version": "3.6.4"
  }
 },
 "nbformat": 4,
 "nbformat_minor": 2
}
