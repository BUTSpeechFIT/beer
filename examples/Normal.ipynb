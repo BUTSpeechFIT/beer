{
 "cells": [
  {
   "cell_type": "markdown",
   "metadata": {},
   "source": [
    "# Bayesian Model\n",
    "\n",
    "This notebook illustrate how to use a Bayesian Normal density model with the [beer framework](https://github.com/beer-asr/beer). The Normal distribution is a fairly basic models but it is used extenslively in other model as a basic building block."
   ]
  },
  {
   "cell_type": "code",
   "execution_count": 1,
   "metadata": {},
   "outputs": [
    {
     "ename": "SyntaxError",
     "evalue": "invalid syntax (normalset.py, line 251)",
     "output_type": "error",
     "traceback": [
      "Traceback \u001b[0;36m(most recent call last)\u001b[0m:\n",
      "  File \u001b[1;32m\"/mnt/matylda5/iondel/anaconda3/envs/beer/lib/python3.7/site-packages/IPython/core/interactiveshell.py\"\u001b[0m, line \u001b[1;32m3265\u001b[0m, in \u001b[1;35mrun_code\u001b[0m\n    exec(code_obj, self.user_global_ns, self.user_ns)\n",
      "  File \u001b[1;32m\"<ipython-input-1-0a4c2272eeb8>\"\u001b[0m, line \u001b[1;32m8\u001b[0m, in \u001b[1;35m<module>\u001b[0m\n    import beer\n",
      "  File \u001b[1;32m\"../beer/__init__.py\"\u001b[0m, line \u001b[1;32m3\u001b[0m, in \u001b[1;35m<module>\u001b[0m\n    from .models import *\n",
      "\u001b[0;36m  File \u001b[0;32m\"../beer/models/__init__.py\"\u001b[0;36m, line \u001b[0;32m19\u001b[0;36m, in \u001b[0;35m<module>\u001b[0;36m\u001b[0m\n\u001b[0;31m    from .normalset import *\u001b[0m\n",
      "\u001b[0;36m  File \u001b[0;32m\"../beer/models/normalset.py\"\u001b[0;36m, line \u001b[0;32m251\u001b[0m\n\u001b[0;31m    stats2 = torch.cat([stats[:, :dim], stats[:, -2:-1], dim=-1)\u001b[0m\n\u001b[0m                                                            ^\u001b[0m\n\u001b[0;31mSyntaxError\u001b[0m\u001b[0;31m:\u001b[0m invalid syntax\n"
     ]
    }
   ],
   "source": [
    "# Add \"beer\" to the PYTHONPATH\n",
    "import random\n",
    "from collections import defaultdict\n",
    "import sys\n",
    "sys.path.insert(0, '../')\n",
    "\n",
    "\n",
    "import beer\n",
    "import numpy as np\n",
    "import torch\n",
    "\n",
    "# For plotting.\n",
    "from bokeh.io import show, output_notebook\n",
    "from bokeh.plotting import figure, gridplot\n",
    "output_notebook()\n",
    "\n",
    "# Convenience functions for plotting.\n",
    "import plotting\n",
    "\n",
    "%load_ext autoreload\n",
    "%autoreload 2"
   ]
  },
  {
   "cell_type": "markdown",
   "metadata": {},
   "source": [
    "## Data\n",
    "\n",
    "Generate some normally distributed data:"
   ]
  },
  {
   "cell_type": "code",
   "execution_count": 11,
   "metadata": {},
   "outputs": [
    {
     "data": {
      "text/html": [
       "\n",
       "\n",
       "\n",
       "\n",
       "\n",
       "\n",
       "  <div class=\"bk-root\" id=\"b29aaf18-915d-42f0-8108-ddc6c558bf81\"></div>\n"
      ]
     },
     "metadata": {},
     "output_type": "display_data"
    },
    {
     "data": {
      "application/javascript": [
       "(function(root) {\n",
       "  function embed_document(root) {\n",
       "    \n",
       "  var docs_json = {\"96def682-c0be-4db9-9188-5dad8eec17f5\":{\"roots\":{\"references\":[{\"attributes\":{\"below\":[{\"id\":\"1564\",\"type\":\"LinearAxis\"}],\"left\":[{\"id\":\"1569\",\"type\":\"LinearAxis\"}],\"plot_height\":400,\"plot_width\":400,\"renderers\":[{\"id\":\"1564\",\"type\":\"LinearAxis\"},{\"id\":\"1568\",\"type\":\"Grid\"},{\"id\":\"1569\",\"type\":\"LinearAxis\"},{\"id\":\"1573\",\"type\":\"Grid\"},{\"id\":\"1582\",\"type\":\"BoxAnnotation\"},{\"id\":\"1592\",\"type\":\"GlyphRenderer\"},{\"id\":\"1597\",\"type\":\"GlyphRenderer\"},{\"id\":\"1602\",\"type\":\"GlyphRenderer\"}],\"title\":{\"id\":\"1553\",\"type\":\"Title\"},\"toolbar\":{\"id\":\"1580\",\"type\":\"Toolbar\"},\"x_range\":{\"id\":\"1556\",\"type\":\"Range1d\"},\"x_scale\":{\"id\":\"1560\",\"type\":\"LinearScale\"},\"y_range\":{\"id\":\"1558\",\"type\":\"Range1d\"},\"y_scale\":{\"id\":\"1562\",\"type\":\"LinearScale\"}},\"id\":\"1554\",\"subtype\":\"Figure\",\"type\":\"Plot\"},{\"attributes\":{\"fill_alpha\":0.3,\"fill_color\":\"#1f77b4\",\"x\":{\"field\":\"x\"},\"y\":{\"field\":\"y\"}},\"id\":\"1600\",\"type\":\"Patch\"},{\"attributes\":{},\"id\":\"1655\",\"type\":\"UnionRenderers\"},{\"attributes\":{\"fill_alpha\":0.3,\"fill_color\":\"#1f77b4\",\"x\":{\"field\":\"x\"},\"y\":{\"field\":\"y\"}},\"id\":\"1595\",\"type\":\"Patch\"},{\"attributes\":{\"callback\":null,\"data\":{\"x\":{\"__ndarray__\":\"5SctXFuZ8b/5t3oQiQexP8pFgGa8N+E/SZY+SdboBkDwD4gcuOYDwKr41gqpUco/HE2CEGN1AsCv/mefrVzxPzyMbFBJG82/GisEdEIS6b8VAHU8ANz0v8gq2MqjFPs/8Ir5aZ4nxT/hLuqQ+z34vySJNNyFkc+/VnFpFGeZ9z95LJaHTzbpvzY4TNlbhPI/Uba3OfQY8T/57qjNzOHzP9aLEF3gx/u/kdUs1Bkj1r/2qRslROYCQCg5jSJLTbg/WOpoRXGVyD/A8UKVHErtP/iQw2SKKLs/uPPHYJb7CsCXTNtH/Ev9P+meX2cdBu2/3cnevUmIEECODMK1WFPRP7Rm7NV1lgLA3N0b1IFu8r+yzb2bvjDzP2socp0qff4/J+vn8xFj8L/VWQV120QEwODdw9FBP5K/hhhg2r+gAEB/QLJFcwbaP0lCCh71BuY/ntUz0IyT7r+nGRaFFFjtv5wqj2kUswDAoB8RCiAX7D+cQCa8GQXyP5bOg3wYtsW/xJ/IM/hL9D/sJyYzOlsDwGp7xJaIwO+/2hs+Rrd29j8yuMkpTtP8vzJAK0ZB7+q/DEHFGhh84j+mv3VVwCDovxt3eOCfQ7s/PKbMkC4n7z/JBOd+LTnTvz6OKAJrg++/rumFoVgD8b9teaoTQy/xv6SN7mB+ewZAWhzh9c6y/r8ijE7katL/PxDRAd535ew/iwTMEWPy5r9sGM1XL7y4P2hm4F5A0OW/wqX4J8iUkD+V05V0nPIKQGSjHAzXFf+/Wpdv56W36b+H9DJkNYf6P7JQbO6Z6/G/HISgmCot8D8Td6JwQHzpPzeEKc7e//u/HIkaon8S4T+IwXvPfk/Yv0IEmjvpcOw/gYbFziTn4D/oLsnMYj7jP/wuUlwj1PW/nMhUNVO0DUCCzwSUKwDoP6ZgZjlzVPe/QGhqjgSs7j/sBcU16Zvmvw5a8vOEGO6/fvDjehg4AkCHDl9ZN6DxP0AaWcEdRQ/AhxsoMmH75z8VFQcmoN0DQGIZmexAl/I/ZN42Rndr4r/xkNDqI3v5P5x2AMliKQNAQBaPSJA40D8=\",\"dtype\":\"float64\",\"shape\":[100]},\"y\":{\"__ndarray__\":\"SygRo2F15b/nQJwYOAjQP8mP10hlMd8/TBJczA/r9D9E5sJkzy/zv+kK1NiAssy/iD5KVeKv3L9IjKc1Jt7Kv9BPw4TYU+I/tg2eikaU2r9I6uO38GTMP6gAsdLFgLg/tKeT5GGV/D8iILGFtt7nv5M95wDR6rW/SiR7UI2b9j8sYyhu40bnvwELds+nk+8/5lmhpbc19D+xcxc21orVP9upM+Xoy/a/pEWxZ2+j2r/KlRJXiBT8P6hifqrzFOw/Kn7XPIxh1T+4tH0UoUrhv+v12G0V4QBAgutpKI7m/L8ahgewvWLTP9smIw3N696/olDsBlktBEDlgYkLPrq9v1lvU6FSyfy/XVrlA5iT679evDmfICHvP9S/rtHtweg/+nACqu+qAMDob5RTRiLsv0coA/HZJ8g/wFtEdOyktT+AbnNxKW/eP3gZh5jzg+k/76MU+5II4b+XS/Hyjnv8vxXb+aRqMPa/ZClgjZCa9z/Wdf8GpeX0PyCRDzFxGPI/5gvc9OMr+j9Wwo+FQhTXv0tbnCqQNPC/Uc7Dmxxa0D+GdpOn5MH6v3NCylI0KNY/c1FWOMyxy7+I8HPxLOjXv3DA+PdAns8/ABmuc4vEgT/fFEH5SW/xvwBUkdD/9oo/muYhdkFO8r/YIHZOG2/4vzFtiQ6ZouY/dvI2lIkL+b+QGtLKdPbYP1bcQGBgsPM/zU1hiGOi9b8nbF15JwzBvwAsoqOUMDO/se6lqrddwD/eKEXN7mYDQBdR7QcpgPm/7hmNXYHg0j8+Q1WChQ3yPzAaZtLPhps/duPNUrJh2T9gSEOs66iFv/osEpIHF/a/DJwLVjTU1r9stzttXPX9vy7lASsmNuY/UqU7U6OV5D9pFfpT7sDhP/KPaBtDCfK/5XgsCtXRA0CkJCju0m28P0A2Dr3rLb4/HxXdbHa25D+4FZvhlWHov1LKFBzeXey/RgFxjRI46T/IAP7cqs7Pv+nk/Tcd/gPAdPH1vtDjvb9o+wp2VIEAQGpwF49LOde/mLqzaJ0/5798vCsViqfiP3wBhbxIpvY/0NJ4yq4Q5T8=\",\"dtype\":\"float64\",\"shape\":[100]}},\"selected\":{\"id\":\"1654\",\"type\":\"Selection\"},\"selection_policy\":{\"id\":\"1655\",\"type\":\"UnionRenderers\"}},\"id\":\"1589\",\"type\":\"ColumnDataSource\"},{\"attributes\":{\"fill_alpha\":0.1,\"fill_color\":\"#1f77b4\",\"line_alpha\":0.1,\"line_color\":\"#1f77b4\",\"x\":{\"field\":\"x\"},\"y\":{\"field\":\"y\"}},\"id\":\"1601\",\"type\":\"Patch\"},{\"attributes\":{\"data_source\":{\"id\":\"1599\",\"type\":\"ColumnDataSource\"},\"glyph\":{\"id\":\"1600\",\"type\":\"Patch\"},\"hover_glyph\":null,\"muted_glyph\":null,\"nonselection_glyph\":{\"id\":\"1601\",\"type\":\"Patch\"},\"selection_glyph\":null,\"view\":{\"id\":\"1603\",\"type\":\"CDSView\"}},\"id\":\"1602\",\"type\":\"GlyphRenderer\"},{\"attributes\":{},\"id\":\"1654\",\"type\":\"Selection\"},{\"attributes\":{},\"id\":\"1570\",\"type\":\"BasicTicker\"},{\"attributes\":{\"dimension\":1,\"plot\":{\"id\":\"1554\",\"subtype\":\"Figure\",\"type\":\"Plot\"},\"ticker\":{\"id\":\"1570\",\"type\":\"BasicTicker\"}},\"id\":\"1573\",\"type\":\"Grid\"},{\"attributes\":{},\"id\":\"1656\",\"type\":\"Selection\"},{\"attributes\":{\"fill_color\":{\"value\":\"#1f77b4\"},\"line_color\":{\"value\":\"#1f77b4\"},\"x\":{\"field\":\"x\"},\"y\":{\"field\":\"y\"}},\"id\":\"1590\",\"type\":\"Circle\"},{\"attributes\":{\"bottom_units\":\"screen\",\"fill_alpha\":{\"value\":0.5},\"fill_color\":{\"value\":\"lightgrey\"},\"left_units\":\"screen\",\"level\":\"overlay\",\"line_alpha\":{\"value\":1.0},\"line_color\":{\"value\":\"black\"},\"line_dash\":[4,4],\"line_width\":{\"value\":2},\"plot\":null,\"render_mode\":\"css\",\"right_units\":\"screen\",\"top_units\":\"screen\"},\"id\":\"1582\",\"type\":\"BoxAnnotation\"},{\"attributes\":{\"callback\":null,\"end\":5.0,\"start\":-5.0},\"id\":\"1556\",\"type\":\"Range1d\"},{\"attributes\":{},\"id\":\"1574\",\"type\":\"PanTool\"},{\"attributes\":{},\"id\":\"1562\",\"type\":\"LinearScale\"},{\"attributes\":{\"active_drag\":\"auto\",\"active_inspect\":\"auto\",\"active_multi\":null,\"active_scroll\":\"auto\",\"active_tap\":\"auto\",\"tools\":[{\"id\":\"1574\",\"type\":\"PanTool\"},{\"id\":\"1575\",\"type\":\"WheelZoomTool\"},{\"id\":\"1576\",\"type\":\"BoxZoomTool\"},{\"id\":\"1577\",\"type\":\"SaveTool\"},{\"id\":\"1578\",\"type\":\"ResetTool\"},{\"id\":\"1579\",\"type\":\"HelpTool\"}]},\"id\":\"1580\",\"type\":\"Toolbar\"},{\"attributes\":{},\"id\":\"1575\",\"type\":\"WheelZoomTool\"},{\"attributes\":{},\"id\":\"1565\",\"type\":\"BasicTicker\"},{\"attributes\":{},\"id\":\"1579\",\"type\":\"HelpTool\"},{\"attributes\":{\"fill_alpha\":0.1,\"fill_color\":\"#1f77b4\",\"line_alpha\":0.1,\"line_color\":\"#1f77b4\",\"x\":{\"field\":\"x\"},\"y\":{\"field\":\"y\"}},\"id\":\"1596\",\"type\":\"Patch\"},{\"attributes\":{\"plot\":null,\"text\":\"Data\"},\"id\":\"1553\",\"type\":\"Title\"},{\"attributes\":{\"callback\":null,\"data\":{\"x\":{\"__ndarray__\":\"zTt/Zp6gBkD/aBeat5QGQEpH+7kPcQZAxDZRSMw1BkC/j9WcK+MFQECmRaOEeQVAnt/vf0b5BEBDCska+GIEQH71gZE3twNAdpMykbn2AkCHnkmYSCICQJ6yiCHEOgFAxu/suB9BAEDd6Pb2w2z+P3Rl/gVHN/w/aHu1fRvk+T/TJUl2s3X3PwkMrq6d7vQ/w3Xc24JR8j+F03m5RULvP5J+baujwOk/dhnXbeoj5D8TMwPBAuTcPxjbsFnMYdE/HshwxDM1tz/Yx3DEMzW3vwbbsFnMYdG/ATMDwQLk3L90Gddt6iPkv4l+baujwOm/fNN5uUVC77++ddzbglHyvwQMrq6d7vS/0SVJdrN1979le7V9G+T5v3Nl/gVHN/y/2ej29sNs/r/F7+y4H0EAwJyyiCHEOgHAhp5JmEgiAsBzkzKRufYCwH31gZE3twPAQgrJGvhiBMCd3+9/RvkEwECmRaOEeQXAvo/VnCvjBcDENlFIzDUGwElH+7kPcQbA/2gXmreUBsDNO39mnqAGwM07f2aeoAbA/2gXmreUBsBJR/u5D3EGwMQ2UUjMNQbAvo/VnCvjBcBApkWjhHkFwJ3f739G+QTAQgrJGvhiBMB99YGRN7cDwHOTMpG59gLAhp5JmEgiAsCcsoghxDoBwMXv7LgfQQDA2ej29sNs/r9zZf4FRzf8v2V7tX0b5Pm/0SVJdrN1978EDK6une70v7513NuCUfK/fNN5uUVC77+Jfm2ro8Dpv3QZ123qI+S/ATMDwQLk3L8G27BZzGHRv9jHcMQzNbe/HshwxDM1tz8Y27BZzGHRPxMzA8EC5Nw/dhnXbeoj5D+Sfm2ro8DpP4XTeblFQu8/w3Xc24JR8j8JDK6une70P9MlSXazdfc/aHu1fRvk+T90Zf4FRzf8P93o9vbDbP4/xu/suB9BAECesoghxDoBQIeeSZhIIgJAdpMykbn2AkB+9YGRN7cDQEMKyRr4YgRAnt/vf0b5BEBApkWjhHkFQL+P1Zwr4wVAxDZRSMw1BkBKR/u5D3EGQP9oF5q3lAZAzTt/Zp6gBkA=\",\"dtype\":\"float64\",\"shape\":[100]},\"y\":{\"__ndarray__\":\"m0Vf4fx+9T+/MUnsR9P2PxfR+xKQD/g/IBVMnogy+T/esFZ3/zr6P3RtfmneJ/s/CFMVRyz4+z/5x3zvDav8P5nnqDXHP/0/+pIUpru1/T+T/lUrbwz+PyCbppCGQ/4/egnV4cda/j9SKzyoGlL+P8AufwSIKf4/XYLvpDrh/T+Yy6aYfnn9P5gahP/A8vw/tIZgl49N/D/Q9fMmmIr7PzrpBsenqvo/up2xCqqu+T+xdYsHqJf4P/Bdzz7HZvc/ZIaaaEgd9j+EOooihrz0P4PDG4PzRfM/X+ZNkxq78T/WpB6wmh3wPzyaMqtN3uw/T/yAqgdj6T98+mrzDM3lPyfrIzMjIOI/sJ7rbVDA3D/KZwy2GyLVP0imBZBX28o/6OFMQG6stj8gXHFKWeugv8zBtatwx8O/2CBxPp6f0b8Ye5Qd+kjZv3GiNVfea+C/a/2bU/kh5L+kqzGL5sLnv51ppczUSuu/dMAXMg227r+3n7SEewDxv7ucYc4NlPK/uxWw6xQU9L+aRV/h/H71v5xFX+H8fvW/wTFJ7EfT9r8Z0fsSkA/4vyEVTJ6IMvm/4LBWd/86+r92bX5p3if7vwpTFUcs+Pu/+Md87w2r/L+a56g1xz/9v/qSFKa7tf2/kv5VK28M/r8gm6aQhkP+v3oJ1eHHWv6/Uis8qBpS/r/BLn8EiCn+v16C76Q64f2/mMummH55/b+WGoT/wPL8v7KGYJePTfy/zvXzJpiK+7846QbHp6r6v7qdsQqqrvm/r3WLB6iX+L/tXc8+x2b3v2KGmmhIHfa/gjqKIoa89L+AwxuD80Xzv13mTZMau/G/1qQesJod8L84mjKrTd7sv0v8gKoHY+m/ePpq8wzN5b8j6yMzIyDiv66e621QwNy/vGcMthsi1b88pgWQV9vKv7jhTEBurLa/UFxxSlnroD/kwbWrcMfDP+QgcT6en9E/KnuUHfpI2T92ojVX3mvgP279m1P5IeQ/qKsxi+bC5z+gaaXM1ErrP3zAFzINtu4/uJ+0hHsA8T+/nGHODZTyP70VsOsUFPQ/m0Vf4fx+9T8=\",\"dtype\":\"float64\",\"shape\":[100]}},\"selected\":{\"id\":\"1656\",\"type\":\"Selection\"},\"selection_policy\":{\"id\":\"1657\",\"type\":\"UnionRenderers\"}},\"id\":\"1594\",\"type\":\"ColumnDataSource\"},{\"attributes\":{\"source\":{\"id\":\"1599\",\"type\":\"ColumnDataSource\"}},\"id\":\"1603\",\"type\":\"CDSView\"},{\"attributes\":{},\"id\":\"1578\",\"type\":\"ResetTool\"},{\"attributes\":{\"data_source\":{\"id\":\"1594\",\"type\":\"ColumnDataSource\"},\"glyph\":{\"id\":\"1595\",\"type\":\"Patch\"},\"hover_glyph\":null,\"muted_glyph\":null,\"nonselection_glyph\":{\"id\":\"1596\",\"type\":\"Patch\"},\"selection_glyph\":null,\"view\":{\"id\":\"1598\",\"type\":\"CDSView\"}},\"id\":\"1597\",\"type\":\"GlyphRenderer\"},{\"attributes\":{},\"id\":\"1577\",\"type\":\"SaveTool\"},{\"attributes\":{\"plot\":{\"id\":\"1554\",\"subtype\":\"Figure\",\"type\":\"Plot\"},\"ticker\":{\"id\":\"1565\",\"type\":\"BasicTicker\"}},\"id\":\"1568\",\"type\":\"Grid\"},{\"attributes\":{\"data_source\":{\"id\":\"1589\",\"type\":\"ColumnDataSource\"},\"glyph\":{\"id\":\"1590\",\"type\":\"Circle\"},\"hover_glyph\":null,\"muted_glyph\":null,\"nonselection_glyph\":{\"id\":\"1591\",\"type\":\"Circle\"},\"selection_glyph\":null,\"view\":{\"id\":\"1593\",\"type\":\"CDSView\"}},\"id\":\"1592\",\"type\":\"GlyphRenderer\"},{\"attributes\":{\"fill_alpha\":{\"value\":0.1},\"fill_color\":{\"value\":\"#1f77b4\"},\"line_alpha\":{\"value\":0.1},\"line_color\":{\"value\":\"#1f77b4\"},\"x\":{\"field\":\"x\"},\"y\":{\"field\":\"y\"}},\"id\":\"1591\",\"type\":\"Circle\"},{\"attributes\":{},\"id\":\"1651\",\"type\":\"BasicTickFormatter\"},{\"attributes\":{},\"id\":\"1657\",\"type\":\"UnionRenderers\"},{\"attributes\":{\"overlay\":{\"id\":\"1582\",\"type\":\"BoxAnnotation\"}},\"id\":\"1576\",\"type\":\"BoxZoomTool\"},{\"attributes\":{\"callback\":null,\"data\":{\"x\":{\"__ndarray__\":\"zTt/Zp6g9j//aBeat5T2P0pH+7kPcfY/xDZRSMw19j+/j9WcK+P1P0CmRaOEefU/nt/vf0b59D9DCska+GL0P371gZE3t/M/dpMykbn28j+HnkmYSCLyP56yiCHEOvE/xu/suB9B8D/d6Pb2w2zuP3Rl/gVHN+w/aHu1fRvk6T/TJUl2s3XnPwkMrq6d7uQ/w3Xc24JR4j+F03m5RULfP5J+baujwNk/dhnXbeoj1D8TMwPBAuTMPxjbsFnMYcE/HshwxDM1pz/Yx3DEMzWnvwbbsFnMYcG/ATMDwQLkzL90Gddt6iPUv4l+baujwNm/fNN5uUVC37++ddzbglHivwQMrq6d7uS/0SVJdrN1579le7V9G+Tpv3Nl/gVHN+y/2ej29sNs7r/F7+y4H0Hwv5yyiCHEOvG/hp5JmEgi8r9zkzKRufbyv331gZE3t/O/QgrJGvhi9L+d3+9/Rvn0v0CmRaOEefW/vo/VnCvj9b/ENlFIzDX2v0lH+7kPcfa//2gXmreU9r/NO39mnqD2v807f2aeoPa//2gXmreU9r9JR/u5D3H2v8Q2UUjMNfa/vo/VnCvj9b9ApkWjhHn1v53f739G+fS/QgrJGvhi9L999YGRN7fzv3OTMpG59vK/hp5JmEgi8r+csoghxDrxv8Xv7LgfQfC/2ej29sNs7r9zZf4FRzfsv2V7tX0b5Om/0SVJdrN1578EDK6une7kv7513NuCUeK/fNN5uUVC37+Jfm2ro8DZv3QZ123qI9S/ATMDwQLkzL8G27BZzGHBv9jHcMQzNae/HshwxDM1pz8Y27BZzGHBPxMzA8EC5Mw/dhnXbeoj1D+Sfm2ro8DZP4XTeblFQt8/w3Xc24JR4j8JDK6une7kP9MlSXazdec/aHu1fRvk6T90Zf4FRzfsP93o9vbDbO4/xu/suB9B8D+esoghxDrxP4eeSZhIIvI/dpMykbn28j9+9YGRN7fzP0MKyRr4YvQ/nt/vf0b59D9ApkWjhHn1P7+P1Zwr4/U/xDZRSMw19j9KR/u5D3H2P/9oF5q3lPY/zTt/Zp6g9j8=\",\"dtype\":\"float64\",\"shape\":[100]},\"y\":{\"__ndarray__\":\"m0Vf4fx+5T+/MUnsR9PmPxfR+xKQD+g/IBVMnogy6T/esFZ3/zrqP3RtfmneJ+s/CFMVRyz46z/5x3zvDavsP5nnqDXHP+0/+pIUpru17T+T/lUrbwzuPyCbppCGQ+4/egnV4cda7j9SKzyoGlLuP8AufwSIKe4/XYLvpDrh7T+Yy6aYfnntP5gahP/A8uw/tIZgl49N7D/Q9fMmmIrrPzrpBsenquo/up2xCqqu6T+xdYsHqJfoP/Bdzz7HZuc/ZIaaaEgd5j+EOooihrzkP4PDG4PzReM/X+ZNkxq74T/WpB6wmh3gPzyaMqtN3tw/T/yAqgdj2T98+mrzDM3VPyfrIzMjINI/sJ7rbVDAzD/KZwy2GyLFP0imBZBX27o/6OFMQG6spj8gXHFKWeuQv8zBtatwx7O/2CBxPp6fwb8Ye5Qd+kjJv3GiNVfea9C/a/2bU/kh1L+kqzGL5sLXv51ppczUStu/dMAXMg223r+3n7SEewDhv7ucYc4NlOK/uxWw6xQU5L+aRV/h/H7lv5xFX+H8fuW/wTFJ7EfT5r8Z0fsSkA/ovyEVTJ6IMum/4LBWd/866r92bX5p3ifrvwpTFUcs+Ou/+Md87w2r7L+a56g1xz/tv/qSFKa7te2/kv5VK28M7r8gm6aQhkPuv3oJ1eHHWu6/Uis8qBpS7r/BLn8EiCnuv16C76Q64e2/mMummH557b+WGoT/wPLsv7KGYJePTey/zvXzJpiK67846QbHp6rqv7qdsQqqrum/r3WLB6iX6L/tXc8+x2bnv2KGmmhIHea/gjqKIoa85L+AwxuD80Xjv13mTZMau+G/1qQesJod4L84mjKrTd7cv0v8gKoHY9m/ePpq8wzN1b8j6yMzIyDSv66e621QwMy/vGcMthsixb88pgWQV9u6v7jhTEBurKa/UFxxSlnrkD/kwbWrcMezP+QgcT6en8E/KnuUHfpIyT92ojVX3mvQP279m1P5IdQ/qKsxi+bC1z+gaaXM1ErbP3zAFzINtt4/uJ+0hHsA4T+/nGHODZTiP70VsOsUFOQ/m0Vf4fx+5T8=\",\"dtype\":\"float64\",\"shape\":[100]}},\"selected\":{\"id\":\"1658\",\"type\":\"Selection\"},\"selection_policy\":{\"id\":\"1659\",\"type\":\"UnionRenderers\"}},\"id\":\"1599\",\"type\":\"ColumnDataSource\"},{\"attributes\":{\"callback\":null,\"end\":5.0,\"start\":-5.0},\"id\":\"1558\",\"type\":\"Range1d\"},{\"attributes\":{\"source\":{\"id\":\"1589\",\"type\":\"ColumnDataSource\"}},\"id\":\"1593\",\"type\":\"CDSView\"},{\"attributes\":{\"source\":{\"id\":\"1594\",\"type\":\"ColumnDataSource\"}},\"id\":\"1598\",\"type\":\"CDSView\"},{\"attributes\":{},\"id\":\"1659\",\"type\":\"UnionRenderers\"},{\"attributes\":{\"formatter\":{\"id\":\"1651\",\"type\":\"BasicTickFormatter\"},\"plot\":{\"id\":\"1554\",\"subtype\":\"Figure\",\"type\":\"Plot\"},\"ticker\":{\"id\":\"1565\",\"type\":\"BasicTicker\"}},\"id\":\"1564\",\"type\":\"LinearAxis\"},{\"attributes\":{},\"id\":\"1658\",\"type\":\"Selection\"},{\"attributes\":{},\"id\":\"1560\",\"type\":\"LinearScale\"},{\"attributes\":{\"formatter\":{\"id\":\"1653\",\"type\":\"BasicTickFormatter\"},\"plot\":{\"id\":\"1554\",\"subtype\":\"Figure\",\"type\":\"Plot\"},\"ticker\":{\"id\":\"1570\",\"type\":\"BasicTicker\"}},\"id\":\"1569\",\"type\":\"LinearAxis\"},{\"attributes\":{},\"id\":\"1653\",\"type\":\"BasicTickFormatter\"}],\"root_ids\":[\"1554\"]},\"title\":\"Bokeh Application\",\"version\":\"1.0.0\"}};\n",
       "  var render_items = [{\"docid\":\"96def682-c0be-4db9-9188-5dad8eec17f5\",\"roots\":{\"1554\":\"b29aaf18-915d-42f0-8108-ddc6c558bf81\"}}];\n",
       "  root.Bokeh.embed.embed_items_notebook(docs_json, render_items);\n",
       "\n",
       "  }\n",
       "  if (root.Bokeh !== undefined) {\n",
       "    embed_document(root);\n",
       "  } else {\n",
       "    var attempts = 0;\n",
       "    var timer = setInterval(function(root) {\n",
       "      if (root.Bokeh !== undefined) {\n",
       "        embed_document(root);\n",
       "        clearInterval(timer);\n",
       "      }\n",
       "      attempts++;\n",
       "      if (attempts > 100) {\n",
       "        console.log(\"Bokeh: ERROR: Unable to run BokehJS code because BokehJS library is missing\");\n",
       "        clearInterval(timer);\n",
       "      }\n",
       "    }, 10, root)\n",
       "  }\n",
       "})(window);"
      ],
      "application/vnd.bokehjs_exec.v0+json": ""
     },
     "metadata": {
      "application/vnd.bokehjs_exec.v0+json": {
       "id": "1554"
      }
     },
     "output_type": "display_data"
    }
   ],
   "source": [
    "mean = np.zeros(2) \n",
    "cov = np.array([\n",
    "    [2, .95],\n",
    "    [.95, .9]\n",
    "])\n",
    "data = np.random.multivariate_normal(mean, cov, size=100)\n",
    "\n",
    "fig = figure(\n",
    "    title='Data',\n",
    "    width=400,\n",
    "    height=400,\n",
    "    x_range=(mean[0] - 5, mean[0] + 5),\n",
    "    y_range=(mean[1] - 5, mean[1] + 5)\n",
    ")\n",
    "fig.circle(data[:, 0], data[:, 1])\n",
    "plotting.plot_normal(fig, mean, cov, line_color='black', fill_alpha=.3)\n",
    "\n",
    "show(fig)"
   ]
  },
  {
   "cell_type": "markdown",
   "metadata": {},
   "source": [
    "## Model Creation\n",
    "\n",
    "We create two types of Normal distribution: one diagonal covariance matrix and another one with full covariance matrix."
   ]
  },
  {
   "cell_type": "code",
   "execution_count": 12,
   "metadata": {},
   "outputs": [],
   "source": [
    "data_mean = torch.zeros(2) \n",
    "data_var = torch.ones(2)\n",
    "\n",
    "normal_iso = beer.Normal.create(data_mean, data_var, 1., cov_type='isotropic')\n",
    "normal_diag = beer.Normal.create(data_mean, data_var, 1., cov_type='diagonal')\n",
    "normal_full = beer.Normal.create(data_mean, data_var, 1., cov_type='full')\n",
    "\n",
    "models = {\n",
    "    'normal_full': normal_full,\n",
    "    'normal_diag': normal_diag,\n",
    "    'normal_iso': normal_iso\n",
    "}"
   ]
  },
  {
   "cell_type": "markdown",
   "metadata": {},
   "source": [
    "## Variational Bayes Training "
   ]
  },
  {
   "cell_type": "code",
   "execution_count": 13,
   "metadata": {},
   "outputs": [
    {
     "data": {
      "text/plain": [
       "torch.Size([1, 100, 2])"
      ]
     },
     "execution_count": 13,
     "metadata": {},
     "output_type": "execute_result"
    }
   ],
   "source": [
    "nbatches = 1\n",
    "X = torch.from_numpy(data).float()\n",
    "batches = X.view(nbatches, -1, 2)\n",
    "batches.shape"
   ]
  },
  {
   "cell_type": "code",
   "execution_count": 14,
   "metadata": {
    "scrolled": false
   },
   "outputs": [],
   "source": [
    "epochs = 10\n",
    "lrate = 1.\n",
    "\n",
    "\n",
    "optims = {\n",
    "    model_name: beer.VariationalBayesOptimizer(\n",
    "        model.mean_field_factorization(), lrate)\n",
    "    for model_name, model in models.items()\n",
    "}\n",
    "\n",
    "elbos = {\n",
    "    model_name: [] \n",
    "    for model_name in models\n",
    "}  \n",
    "\n",
    "\n",
    "for epoch in range(epochs):\n",
    "    for name, model in models.items():\n",
    "        batch_ids = list(range(len(batches)))\n",
    "        random.shuffle(batch_ids)\n",
    "        for batch_id in batch_ids:\n",
    "            batch = batches[batch_id]\n",
    "            \n",
    "            optim = optims[name]\n",
    "\n",
    "            optim.init_step()\n",
    "            elbo = beer.evidence_lower_bound(model, batch, datasize=len(X))\n",
    "            elbo.backward()\n",
    "            optim.step()\n",
    "            \n",
    "            elbo = beer.evidence_lower_bound(model, X)\n",
    "            elbos[name].append(float(elbo) / len(X))\n",
    "        "
   ]
  },
  {
   "cell_type": "code",
   "execution_count": 15,
   "metadata": {
    "scrolled": false
   },
   "outputs": [
    {
     "data": {
      "text/html": [
       "\n",
       "\n",
       "\n",
       "\n",
       "\n",
       "\n",
       "  <div class=\"bk-root\" id=\"541242fb-0a17-4849-b820-f77238a65319\"></div>\n"
      ]
     },
     "metadata": {},
     "output_type": "display_data"
    },
    {
     "data": {
      "application/javascript": [
       "(function(root) {\n",
       "  function embed_document(root) {\n",
       "    \n",
       "  var docs_json = {\"69fc9c77-ccc8-4277-b75e-47e02a3d3591\":{\"roots\":{\"references\":[{\"attributes\":{\"below\":[{\"id\":\"1744\",\"type\":\"LinearAxis\"}],\"left\":[{\"id\":\"1749\",\"type\":\"LinearAxis\"}],\"plot_height\":400,\"plot_width\":400,\"renderers\":[{\"id\":\"1744\",\"type\":\"LinearAxis\"},{\"id\":\"1748\",\"type\":\"Grid\"},{\"id\":\"1749\",\"type\":\"LinearAxis\"},{\"id\":\"1753\",\"type\":\"Grid\"},{\"id\":\"1762\",\"type\":\"BoxAnnotation\"},{\"id\":\"1780\",\"type\":\"Legend\"},{\"id\":\"1772\",\"type\":\"GlyphRenderer\"},{\"id\":\"1785\",\"type\":\"GlyphRenderer\"},{\"id\":\"1799\",\"type\":\"GlyphRenderer\"}],\"title\":{\"id\":\"1733\",\"type\":\"Title\"},\"toolbar\":{\"id\":\"1760\",\"type\":\"Toolbar\"},\"x_range\":{\"id\":\"1736\",\"type\":\"DataRange1d\"},\"x_scale\":{\"id\":\"1740\",\"type\":\"LinearScale\"},\"y_range\":{\"id\":\"1738\",\"type\":\"DataRange1d\"},\"y_scale\":{\"id\":\"1742\",\"type\":\"LinearScale\"}},\"id\":\"1734\",\"subtype\":\"Figure\",\"type\":\"Plot\"},{\"attributes\":{\"axis_label\":\"step\",\"formatter\":{\"id\":\"1776\",\"type\":\"BasicTickFormatter\"},\"plot\":{\"id\":\"1734\",\"subtype\":\"Figure\",\"type\":\"Plot\"},\"ticker\":{\"id\":\"1745\",\"type\":\"BasicTicker\"}},\"id\":\"1744\",\"type\":\"LinearAxis\"},{\"attributes\":{},\"id\":\"1759\",\"type\":\"HelpTool\"},{\"attributes\":{\"label\":{\"value\":\"normal_full\"},\"renderers\":[{\"id\":\"1772\",\"type\":\"GlyphRenderer\"}]},\"id\":\"1781\",\"type\":\"LegendItem\"},{\"attributes\":{\"callback\":null},\"id\":\"1738\",\"type\":\"DataRange1d\"},{\"attributes\":{},\"id\":\"1758\",\"type\":\"ResetTool\"},{\"attributes\":{},\"id\":\"1755\",\"type\":\"WheelZoomTool\"},{\"attributes\":{\"callback\":null,\"data\":{\"x\":[0,1,2,3,4,5,6,7,8,9],\"y\":[-3.422650146484375,-3.422650146484375,-3.422650146484375,-3.422650146484375,-3.422650146484375,-3.422650146484375,-3.422650146484375,-3.422650146484375,-3.422650146484375,-3.422650146484375]},\"selected\":{\"id\":\"1808\",\"type\":\"Selection\"},\"selection_policy\":{\"id\":\"1809\",\"type\":\"UnionRenderers\"}},\"id\":\"1782\",\"type\":\"ColumnDataSource\"},{\"attributes\":{\"source\":{\"id\":\"1769\",\"type\":\"ColumnDataSource\"}},\"id\":\"1773\",\"type\":\"CDSView\"},{\"attributes\":{\"line_alpha\":0.1,\"line_color\":\"#1f77b4\",\"x\":{\"field\":\"x\"},\"y\":{\"field\":\"y\"}},\"id\":\"1784\",\"type\":\"Line\"},{\"attributes\":{},\"id\":\"1742\",\"type\":\"LinearScale\"},{\"attributes\":{\"line_alpha\":0.1,\"line_color\":\"#1f77b4\",\"x\":{\"field\":\"x\"},\"y\":{\"field\":\"y\"}},\"id\":\"1771\",\"type\":\"Line\"},{\"attributes\":{},\"id\":\"1754\",\"type\":\"PanTool\"},{\"attributes\":{},\"id\":\"1757\",\"type\":\"SaveTool\"},{\"attributes\":{},\"id\":\"1879\",\"type\":\"UnionRenderers\"},{\"attributes\":{\"items\":[{\"id\":\"1781\",\"type\":\"LegendItem\"},{\"id\":\"1795\",\"type\":\"LegendItem\"},{\"id\":\"1811\",\"type\":\"LegendItem\"}],\"location\":\"bottom_right\",\"plot\":{\"id\":\"1734\",\"subtype\":\"Figure\",\"type\":\"Plot\"}},\"id\":\"1780\",\"type\":\"Legend\"},{\"attributes\":{\"line_color\":\"blue\",\"x\":{\"field\":\"x\"},\"y\":{\"field\":\"y\"}},\"id\":\"1783\",\"type\":\"Line\"},{\"attributes\":{},\"id\":\"1808\",\"type\":\"Selection\"},{\"attributes\":{},\"id\":\"1745\",\"type\":\"BasicTicker\"},{\"attributes\":{\"callback\":null,\"data\":{\"x\":[0,1,2,3,4,5,6,7,8,9],\"y\":[-2.8809564208984373,-2.8809564208984373,-2.8809564208984373,-2.8809564208984373,-2.8809564208984373,-2.8809564208984373,-2.8809564208984373,-2.8809564208984373,-2.8809564208984373,-2.8809564208984373]},\"selected\":{\"id\":\"1792\",\"type\":\"Selection\"},\"selection_policy\":{\"id\":\"1793\",\"type\":\"UnionRenderers\"}},\"id\":\"1769\",\"type\":\"ColumnDataSource\"},{\"attributes\":{},\"id\":\"1809\",\"type\":\"UnionRenderers\"},{\"attributes\":{},\"id\":\"1793\",\"type\":\"UnionRenderers\"},{\"attributes\":{\"data_source\":{\"id\":\"1782\",\"type\":\"ColumnDataSource\"},\"glyph\":{\"id\":\"1783\",\"type\":\"Line\"},\"hover_glyph\":null,\"muted_glyph\":null,\"nonselection_glyph\":{\"id\":\"1784\",\"type\":\"Line\"},\"selection_glyph\":null,\"view\":{\"id\":\"1786\",\"type\":\"CDSView\"}},\"id\":\"1785\",\"type\":\"GlyphRenderer\"},{\"attributes\":{},\"id\":\"1776\",\"type\":\"BasicTickFormatter\"},{\"attributes\":{\"callback\":null},\"id\":\"1736\",\"type\":\"DataRange1d\"},{\"attributes\":{\"line_alpha\":0.1,\"line_color\":\"#1f77b4\",\"x\":{\"field\":\"x\"},\"y\":{\"field\":\"y\"}},\"id\":\"1798\",\"type\":\"Line\"},{\"attributes\":{\"line_color\":\"green\",\"x\":{\"field\":\"x\"},\"y\":{\"field\":\"y\"}},\"id\":\"1797\",\"type\":\"Line\"},{\"attributes\":{},\"id\":\"1792\",\"type\":\"Selection\"},{\"attributes\":{\"dimension\":1,\"plot\":{\"id\":\"1734\",\"subtype\":\"Figure\",\"type\":\"Plot\"},\"ticker\":{\"id\":\"1750\",\"type\":\"BasicTicker\"}},\"id\":\"1753\",\"type\":\"Grid\"},{\"attributes\":{\"callback\":null,\"data\":{\"x\":[0,1,2,3,4,5,6,7,8,9],\"y\":[-3.4643792724609375,-3.4643792724609375,-3.4643792724609375,-3.4643792724609375,-3.4643792724609375,-3.4643792724609375,-3.4643792724609375,-3.4643792724609375,-3.4643792724609375,-3.4643792724609375]},\"selected\":{\"id\":\"1878\",\"type\":\"Selection\"},\"selection_policy\":{\"id\":\"1879\",\"type\":\"UnionRenderers\"}},\"id\":\"1796\",\"type\":\"ColumnDataSource\"},{\"attributes\":{\"source\":{\"id\":\"1782\",\"type\":\"ColumnDataSource\"}},\"id\":\"1786\",\"type\":\"CDSView\"},{\"attributes\":{},\"id\":\"1878\",\"type\":\"Selection\"},{\"attributes\":{},\"id\":\"1750\",\"type\":\"BasicTicker\"},{\"attributes\":{\"label\":{\"value\":\"normal_diag\"},\"renderers\":[{\"id\":\"1785\",\"type\":\"GlyphRenderer\"}]},\"id\":\"1795\",\"type\":\"LegendItem\"},{\"attributes\":{\"overlay\":{\"id\":\"1762\",\"type\":\"BoxAnnotation\"}},\"id\":\"1756\",\"type\":\"BoxZoomTool\"},{\"attributes\":{\"plot\":null,\"text\":\"ELBO\"},\"id\":\"1733\",\"type\":\"Title\"},{\"attributes\":{\"line_color\":\"red\",\"x\":{\"field\":\"x\"},\"y\":{\"field\":\"y\"}},\"id\":\"1770\",\"type\":\"Line\"},{\"attributes\":{\"source\":{\"id\":\"1796\",\"type\":\"ColumnDataSource\"}},\"id\":\"1800\",\"type\":\"CDSView\"},{\"attributes\":{\"plot\":{\"id\":\"1734\",\"subtype\":\"Figure\",\"type\":\"Plot\"},\"ticker\":{\"id\":\"1745\",\"type\":\"BasicTicker\"}},\"id\":\"1748\",\"type\":\"Grid\"},{\"attributes\":{\"data_source\":{\"id\":\"1769\",\"type\":\"ColumnDataSource\"},\"glyph\":{\"id\":\"1770\",\"type\":\"Line\"},\"hover_glyph\":null,\"muted_glyph\":null,\"nonselection_glyph\":{\"id\":\"1771\",\"type\":\"Line\"},\"selection_glyph\":null,\"view\":{\"id\":\"1773\",\"type\":\"CDSView\"}},\"id\":\"1772\",\"type\":\"GlyphRenderer\"},{\"attributes\":{\"data_source\":{\"id\":\"1796\",\"type\":\"ColumnDataSource\"},\"glyph\":{\"id\":\"1797\",\"type\":\"Line\"},\"hover_glyph\":null,\"muted_glyph\":null,\"nonselection_glyph\":{\"id\":\"1798\",\"type\":\"Line\"},\"selection_glyph\":null,\"view\":{\"id\":\"1800\",\"type\":\"CDSView\"}},\"id\":\"1799\",\"type\":\"GlyphRenderer\"},{\"attributes\":{},\"id\":\"1778\",\"type\":\"BasicTickFormatter\"},{\"attributes\":{},\"id\":\"1740\",\"type\":\"LinearScale\"},{\"attributes\":{\"axis_label\":\"ln p(X)\",\"formatter\":{\"id\":\"1778\",\"type\":\"BasicTickFormatter\"},\"plot\":{\"id\":\"1734\",\"subtype\":\"Figure\",\"type\":\"Plot\"},\"ticker\":{\"id\":\"1750\",\"type\":\"BasicTicker\"}},\"id\":\"1749\",\"type\":\"LinearAxis\"},{\"attributes\":{\"bottom_units\":\"screen\",\"fill_alpha\":{\"value\":0.5},\"fill_color\":{\"value\":\"lightgrey\"},\"left_units\":\"screen\",\"level\":\"overlay\",\"line_alpha\":{\"value\":1.0},\"line_color\":{\"value\":\"black\"},\"line_dash\":[4,4],\"line_width\":{\"value\":2},\"plot\":null,\"render_mode\":\"css\",\"right_units\":\"screen\",\"top_units\":\"screen\"},\"id\":\"1762\",\"type\":\"BoxAnnotation\"},{\"attributes\":{\"label\":{\"value\":\"normal_iso\"},\"renderers\":[{\"id\":\"1799\",\"type\":\"GlyphRenderer\"}]},\"id\":\"1811\",\"type\":\"LegendItem\"},{\"attributes\":{\"active_drag\":\"auto\",\"active_inspect\":\"auto\",\"active_multi\":null,\"active_scroll\":\"auto\",\"active_tap\":\"auto\",\"tools\":[{\"id\":\"1754\",\"type\":\"PanTool\"},{\"id\":\"1755\",\"type\":\"WheelZoomTool\"},{\"id\":\"1756\",\"type\":\"BoxZoomTool\"},{\"id\":\"1757\",\"type\":\"SaveTool\"},{\"id\":\"1758\",\"type\":\"ResetTool\"},{\"id\":\"1759\",\"type\":\"HelpTool\"}]},\"id\":\"1760\",\"type\":\"Toolbar\"}],\"root_ids\":[\"1734\"]},\"title\":\"Bokeh Application\",\"version\":\"1.0.0\"}};\n",
       "  var render_items = [{\"docid\":\"69fc9c77-ccc8-4277-b75e-47e02a3d3591\",\"roots\":{\"1734\":\"541242fb-0a17-4849-b820-f77238a65319\"}}];\n",
       "  root.Bokeh.embed.embed_items_notebook(docs_json, render_items);\n",
       "\n",
       "  }\n",
       "  if (root.Bokeh !== undefined) {\n",
       "    embed_document(root);\n",
       "  } else {\n",
       "    var attempts = 0;\n",
       "    var timer = setInterval(function(root) {\n",
       "      if (root.Bokeh !== undefined) {\n",
       "        embed_document(root);\n",
       "        clearInterval(timer);\n",
       "      }\n",
       "      attempts++;\n",
       "      if (attempts > 100) {\n",
       "        console.log(\"Bokeh: ERROR: Unable to run BokehJS code because BokehJS library is missing\");\n",
       "        clearInterval(timer);\n",
       "      }\n",
       "    }, 10, root)\n",
       "  }\n",
       "})(window);"
      ],
      "application/vnd.bokehjs_exec.v0+json": ""
     },
     "metadata": {
      "application/vnd.bokehjs_exec.v0+json": {
       "id": "1734"
      }
     },
     "output_type": "display_data"
    }
   ],
   "source": [
    "colors = {\n",
    "    'normal_iso': 'green',\n",
    "    'normal_diag': 'blue',\n",
    "    'normal_full': 'red',\n",
    "    \n",
    "}\n",
    "# Plot the ELBO.\n",
    "fig = figure(title='ELBO', width=400, height=400, x_axis_label='step',\n",
    "              y_axis_label='ln p(X)')\n",
    "for model_name, elbo in elbos.items():\n",
    "    fig.line(range(len(elbo)), elbo, legend=model_name, color=colors[model_name])\n",
    "fig.legend.location = 'bottom_right'\n",
    "\n",
    "show(fig)"
   ]
  },
  {
   "cell_type": "code",
   "execution_count": 9,
   "metadata": {
    "scrolled": false
   },
   "outputs": [
    {
     "data": {
      "text/html": [
       "\n",
       "\n",
       "\n",
       "\n",
       "\n",
       "\n",
       "  <div class=\"bk-root\" id=\"8f60184c-5db1-4207-ac00-2df30a8f2510\"></div>\n"
      ]
     },
     "metadata": {},
     "output_type": "display_data"
    },
    {
     "data": {
      "application/javascript": [
       "(function(root) {\n",
       "  function embed_document(root) {\n",
       "    \n",
       "  var docs_json = {\"bc728810-e912-4fab-ab55-2b19a4735f00\":{\"roots\":{\"references\":[{\"attributes\":{\"below\":[{\"id\":\"1321\",\"type\":\"LinearAxis\"}],\"left\":[{\"id\":\"1326\",\"type\":\"LinearAxis\"}],\"plot_height\":400,\"plot_width\":400,\"renderers\":[{\"id\":\"1321\",\"type\":\"LinearAxis\"},{\"id\":\"1325\",\"type\":\"Grid\"},{\"id\":\"1326\",\"type\":\"LinearAxis\"},{\"id\":\"1330\",\"type\":\"Grid\"},{\"id\":\"1339\",\"type\":\"BoxAnnotation\"},{\"id\":\"1349\",\"type\":\"GlyphRenderer\"},{\"id\":\"1354\",\"type\":\"GlyphRenderer\"},{\"id\":\"1359\",\"type\":\"GlyphRenderer\"},{\"id\":\"1364\",\"type\":\"GlyphRenderer\"},{\"id\":\"1369\",\"type\":\"GlyphRenderer\"},{\"id\":\"1374\",\"type\":\"GlyphRenderer\"},{\"id\":\"1379\",\"type\":\"GlyphRenderer\"}],\"title\":{\"id\":\"1405\",\"type\":\"Title\"},\"toolbar\":{\"id\":\"1337\",\"type\":\"Toolbar\"},\"x_range\":{\"id\":\"1313\",\"type\":\"Range1d\"},\"x_scale\":{\"id\":\"1317\",\"type\":\"LinearScale\"},\"y_range\":{\"id\":\"1315\",\"type\":\"Range1d\"},\"y_scale\":{\"id\":\"1319\",\"type\":\"LinearScale\"}},\"id\":\"1312\",\"subtype\":\"Figure\",\"type\":\"Plot\"},{\"attributes\":{},\"id\":\"1327\",\"type\":\"BasicTicker\"},{\"attributes\":{},\"id\":\"1418\",\"type\":\"UnionRenderers\"},{\"attributes\":{\"data_source\":{\"id\":\"1371\",\"type\":\"ColumnDataSource\"},\"glyph\":{\"id\":\"1372\",\"type\":\"Patch\"},\"hover_glyph\":null,\"muted_glyph\":null,\"nonselection_glyph\":{\"id\":\"1373\",\"type\":\"Patch\"},\"selection_glyph\":null,\"view\":{\"id\":\"1375\",\"type\":\"CDSView\"}},\"id\":\"1374\",\"type\":\"GlyphRenderer\"},{\"attributes\":{\"source\":{\"id\":\"1351\",\"type\":\"ColumnDataSource\"}},\"id\":\"1355\",\"type\":\"CDSView\"},{\"attributes\":{\"dimension\":1,\"plot\":{\"id\":\"1312\",\"subtype\":\"Figure\",\"type\":\"Plot\"},\"ticker\":{\"id\":\"1327\",\"type\":\"BasicTicker\"}},\"id\":\"1330\",\"type\":\"Grid\"},{\"attributes\":{},\"id\":\"1419\",\"type\":\"Selection\"},{\"attributes\":{\"source\":{\"id\":\"1371\",\"type\":\"ColumnDataSource\"}},\"id\":\"1375\",\"type\":\"CDSView\"},{\"attributes\":{\"callback\":null,\"data\":{\"x\":{\"__ndarray__\":\"AAAAwGE2+D8m+R9FqCv4PxS4oRyHC/g/84QMEyDW9z/mAb9Vq4v3P92O1jd3LPc/sFbK3+e49j9gshDedjH2P3+2Pa2ylvU/LXEhHD7p9D8YhIOizyn0P/ZEMKEwWfM/nlAhjjx48j/saaAN4IfxP2aAV/kXifA/xHunrOD57j9M1CZ2BsnsP7d5jk3vgeo/hI/+lQAn6D/P1xOStLrlP+R8sMiXP+M/DJyNVka44D9WVc9e0k7cP54bUqNmH9c/F+QI373n0T/iN+5BqlrJP6qRt3Kx1r0/lFWFCQUyoj+wwNlozdumvwjng0VyqL+/LF9PSKzAyb8AH/0r7rjRv2bzHJvLbta/lqhN7Pn82r+C905Zrl7fv8oAr3Kmx+G/1tNAmzbF4787oUKc76Xlv+iJYMLXZ+e/LggHxRUJ6b9Y4kK48ofqv/xse9rb4uu/vmQhPGQY7b9erZQ/Rifuv7odre9kDu+/zAN+K83M77/zhAxT2zDwvxS4oVxCZvC/JvkfhWOG8L8AAAAAHZHwvwAAAAAdkfC/JvkfhWOG8L8UuKFcQmbwv/OEDFPbMPC/zAN+K83M77+6Ha3vZA7vv16tlD9GJ+6/vmQhPGQY7b/8bHva2+Lrv1jiQrjyh+q/LggHxRUJ6b/oiWDC12fnvzuhQpzvpeW/1tNAmzbF47/KAK9ypsfhv4L3TlmuXt+/lqhN7Pn82r9m8xyby27WvwAf/SvuuNG/LF9PSKzAyb8I54NFcqi/v7DA2WjN26a/lFWFCQUyoj+qkbdysda9P+I37kGqWsk/F+QI373n0T+eG1KjZh/XP1ZVz17STtw/DJyNVka44D/kfLDIlz/jP8/XE5K0uuU/hI/+lQAn6D+3eY5N74HqP0zUJnYGyew/xHunrOD57j9mgFf5F4nwP+xpoA3gh/E/nlAhjjx48j/2RDChMFnzPxiEg6LPKfQ/LXEhHD7p9D9/tj2tspb1P2CyEN52MfY/sFbK3+e49j/djtY3dyz3P+YBv1Wri/c/84QMEyDW9z8UuKEchwv4Pyb5H0WoK/g/AAAAwGE2+D8=\",\"dtype\":\"float64\",\"shape\":[100]},\"y\":{\"__ndarray__\":\"AAAAQGe4wD/Uzheo2CvLP1RIts0lytI/hDX2mmbz1z/psF7UQAzdP3DwnumrB+E/owbL6rJ74z8rsgDFoN/lP35u1b7xMOg/gwJTszVt6j9DgoqiEpLsP+O62ypHne4/5GwrdFZG8D8sr9xbHS/xP/ChUm0DCPI/NNhofSTQ8j97mQsFrobzP+dJr/7fKvQ/+SFQsA289D94tyVhnjn1P/syS/oNo/U/7jCzke339T/wIdXe4zf2PxxtmZitYvY/6YYhvB149j/phiG8HXj2PxxtmZitYvY/8CHV3uM39j/uMLOR7ff1P/syS/oNo/U/ebclYZ459T/5IVCwDbz0P+hJr/7fKvQ/fJkLBa6G8z812Gh9JNDyP/KhUm0DCPI/La/cWx0v8T/kbCt0VkbwP+e62ypHne4/RoKKohKS7D+IAlOzNW3qP4Fu1b7xMOg/LLIAxaDf5T+nBsvqsnvjP3PwnumrB+E/87Be1EAM3T+KNfaaZvPXP2BIts0lytI/484XqNgryz8GAABAZ7jAP/r//z9nuMA/dMSgX9cTqT8AQ7Jt9I2gvyjW2Gv967y/5mG9KLOnyL/m4D2T8FbRv04NlpX+Pta/WGQBStoG278C3ao9fKnfv4gCUxMCEeK/RoKKAt815L/nutuKE0Hmv8jZVkh5MOi/Wl65FwcC6r/jQ6U607Prv2qw0VoVRO2/+DIXaiix7r/Qk15djPnvv/khUODzjfC/ebclkYQL8b/7Mksq9HTxv+4ws8HTyfG/8CHVDsoJ8r8cbZnIkzTyv+mGIewDSvK/6YYh7ANK8r8cbZnIkzTyv/Ah1Q7KCfK/7jCzwdPJ8b/7Mksq9HTxv3i3JZGEC/G/+SFQ4PON8L/Ok15djPnvv/YyF2oose6/aLDRWhVE7b/hQ6U607Prv1heuRcHAuq/x9lWSHkw6L/jutuKE0Hmv0OCigLfNeS/gwJTEwIR4r/83Ko9fKnfv1ZkAUraBtu/Rg2Wlf4+1r/h4D2T8FbRv9JhvSizp8i/EtbYa/3rvL+kQrJt9I2gv67EoF/XE6k/AAAAQGe4wD8=\",\"dtype\":\"float64\",\"shape\":[100]}},\"selected\":{\"id\":\"1415\",\"type\":\"Selection\"},\"selection_policy\":{\"id\":\"1416\",\"type\":\"UnionRenderers\"}},\"id\":\"1356\",\"type\":\"ColumnDataSource\"},{\"attributes\":{\"fill_alpha\":{\"value\":0.1},\"fill_color\":{\"value\":\"#1f77b4\"},\"line_alpha\":{\"value\":0.1},\"line_color\":{\"value\":\"#1f77b4\"},\"x\":{\"field\":\"x\"},\"y\":{\"field\":\"y\"}},\"id\":\"1348\",\"type\":\"Circle\"},{\"attributes\":{},\"id\":\"1420\",\"type\":\"UnionRenderers\"},{\"attributes\":{\"callback\":null,\"data\":{\"x\":{\"__ndarray__\":\"AAAAwANh/D/vAzo+GVT8P31GN09nLfw/BmKapxbt+z8JQIfvapP7P7IFd3vCIPs/ReD86JWV+j9tFOSfd/L5PzHKLDgTOPk/UJmJxSxn+D+FuRsJoID3PyfSRopfhfY/O5iPl3N29T8LnpEw+VT0P6zQMNogIvM//AVCXi3f8T9il/t3co3wPwZ7Jt2mXO4/Z0ECP4OG6z/GjOLzdZvoP+w0+NmQnuU/gHiZlPiS4j8yjJ97wvfeP99CQg8Wudg/wl1BoX1w0j+ORH29KknIP6r09sLzb7c/4Anj596reL/ww8ukeEO6v57T4GcdUMm/hBnF59ih0r/EggR+83fYvwT2TLo6JN6/wy73b1vQ4b/1C4Q80XPkv1ihYTS4+ea/Ejwj4Whf6b92MB+vXaLrv0qkjZQ1wO2/CHM3kra2779NmYkF6MHwvy/KLHjOkvG/bBTk3zJN8r9E4PwoUfDyv7IFd7t9e/O/CECHLybu878GYprn0Uf0v31GN48iiPS/7wM6ftSu9L8AAAAAv7v0vwAAAAC/u/S/7wM6ftSu9L99RjePIoj0vwZimufRR/S/CECHLybu87+yBXe7fXvzv0Tg/ChR8PK/bBTk3zJN8r8vyix4zpLxv02ZiQXowfC/CHM3kra2779KpI2UNcDtv3YwH69douu/Ejwj4Whf6b9YoWE0uPnmv/ULhDzRc+S/wy73b1vQ4b8E9ky6OiTev8SCBH7zd9i/hBnF59ih0r+e0+BnHVDJv/DDy6R4Q7q/4Anj596reL+q9PbC82+3P45Efb0qScg/wl1BoX1w0j/fQkIPFrnYPzKMn3vC994/gHiZlPiS4j/sNPjZkJ7lP8aM4vN1m+g/Z0ECP4OG6z8GeybdplzuP2KX+3dyjfA//AVCXi3f8T+s0DDaICLzPwuekTD5VPQ/O5iPl3N29T8n0kaKX4X2P4W5GwmggPc/UJmJxSxn+D8xyiw4Ezj5P20U5J938vk/ReD86JWV+j+yBXd7wiD7PwlAh+9qk/s/BmKapxbt+z99RjdPZy38P+8DOj4ZVPw/AAAAwANh/D8=\",\"dtype\":\"float64\",\"shape\":[100]},\"y\":{\"__ndarray__\":\"AAAAENnv6T/lLJ7YuTfrP38JDZJeZ+w/SMOq0Id97T/ASkT3EHnuP8i55mrxWO8/dfWc1B4O8D8wuB8gFGHwP0imOFMBpfA/O4ku+Z7Z8D9gJH24tf7wP6/0Do0eFPE/lz5I8cIZ8T/YPLj1nA/xPxyEV0e39fA/0AlNJC3M8D+fnkU/KpPwP0oCfJHqSvA/athDN3Tn7z+mzdgr6RvvPycyLx8KNO4/y/qO/Mow7T9e/3d7PBPsPyHxvgCL3Oo/NNeMYv2N6T9mfI2Q8yjoP5N9tiHlruY/z20syV8h5T/FsuWzBYLjP2Yzw9CL0uE/VpvtBLgU4D/jb7WcvpTcPydx4qzH6tg/iaGj7WUv1T8SnLZkhmbRPwBRLpJIKMs/WF2mpYl4wz90FWIBzIu3P3iIfK3aYaA/AGo/XoY9nL9QTISdFSW2vya8XDAogMK/Qu7qhLjIyb9QIVEtSXLQv5Q3e6Qd5tO/pi495zc817+S4n96FXHav/zN9dlWgd2/pbI+guE04L////9vpZPhvwEAAHClk+G/5yyeOIbb4r+ACQ3yKgvkv0nDqjBUIeW/w0pEV90c5r/KuebKvfzmv+zqOQkKwOe/YHA/oPRl6L+OTHEGz+3ov3YSXVIKV+m/wEj60Deh6b9g6R16Cczpvy59kEJS1+m/r3lwSwbD6b84CK/uOo/pv58TmqgmPOm/Pj2L3iDK6L+SBPiCoTnov2jYQ5dAi+e/pM3Yi7W/5r8mMi9/1tflv8v6jlyX1OS/W/932wi3478f8b5gV4DivzLXjMLJMeG/yPga4X+Z378i+2wDY6Xcv5jbWFJYitm/imXLJ6RL1r/GZoZhsOzSv0pttpMR4s6/ut9qua64x79A4sTZwGTAvxSGjrb627G/wIHTluTDhb8IvEa3FyKpP2hFs7SJ8Ls/SvVOf+iqxT/u3aDUV1jNP6f246U/fNI/HRNhp6xB1j8aXi5Ye/jZPyR3dYLDnN0/qpCoNliV4D/Mmz1yQk/iP1aXnpNP+uM/SvE/Xb6U5T8B5/oM3xznP6eyPiIVkeg/AAAAENnv6T8=\",\"dtype\":\"float64\",\"shape\":[100]}},\"selected\":{\"id\":\"1423\",\"type\":\"Selection\"},\"selection_policy\":{\"id\":\"1424\",\"type\":\"UnionRenderers\"}},\"id\":\"1376\",\"type\":\"ColumnDataSource\"},{\"attributes\":{\"fill_alpha\":0.3,\"fill_color\":\"green\",\"x\":{\"field\":\"x\"},\"y\":{\"field\":\"y\"}},\"id\":\"1357\",\"type\":\"Patch\"},{\"attributes\":{\"fill_color\":{\"value\":\"#1f77b4\"},\"line_color\":{\"value\":\"#1f77b4\"},\"x\":{\"field\":\"x\"},\"y\":{\"field\":\"y\"}},\"id\":\"1347\",\"type\":\"Circle\"},{\"attributes\":{},\"id\":\"1421\",\"type\":\"Selection\"},{\"attributes\":{\"fill_alpha\":0.3,\"fill_color\":\"#C7B097\",\"x\":{\"field\":\"x\"},\"y\":{\"field\":\"y\"}},\"id\":\"1377\",\"type\":\"Patch\"},{\"attributes\":{\"fill_alpha\":0.1,\"fill_color\":\"#1f77b4\",\"line_alpha\":0.1,\"line_color\":\"#1f77b4\",\"x\":{\"field\":\"x\"},\"y\":{\"field\":\"y\"}},\"id\":\"1358\",\"type\":\"Patch\"},{\"attributes\":{\"source\":{\"id\":\"1346\",\"type\":\"ColumnDataSource\"}},\"id\":\"1350\",\"type\":\"CDSView\"},{\"attributes\":{},\"id\":\"1422\",\"type\":\"UnionRenderers\"},{\"attributes\":{\"fill_alpha\":0.1,\"fill_color\":\"#1f77b4\",\"line_alpha\":0.1,\"line_color\":\"#1f77b4\",\"x\":{\"field\":\"x\"},\"y\":{\"field\":\"y\"}},\"id\":\"1378\",\"type\":\"Patch\"},{\"attributes\":{},\"id\":\"1331\",\"type\":\"PanTool\"},{\"attributes\":{\"data_source\":{\"id\":\"1356\",\"type\":\"ColumnDataSource\"},\"glyph\":{\"id\":\"1357\",\"type\":\"Patch\"},\"hover_glyph\":null,\"muted_glyph\":null,\"nonselection_glyph\":{\"id\":\"1358\",\"type\":\"Patch\"},\"selection_glyph\":null,\"view\":{\"id\":\"1360\",\"type\":\"CDSView\"}},\"id\":\"1359\",\"type\":\"GlyphRenderer\"},{\"attributes\":{},\"id\":\"1423\",\"type\":\"Selection\"},{\"attributes\":{\"data_source\":{\"id\":\"1376\",\"type\":\"ColumnDataSource\"},\"glyph\":{\"id\":\"1377\",\"type\":\"Patch\"},\"hover_glyph\":null,\"muted_glyph\":null,\"nonselection_glyph\":{\"id\":\"1378\",\"type\":\"Patch\"},\"selection_glyph\":null,\"view\":{\"id\":\"1380\",\"type\":\"CDSView\"}},\"id\":\"1379\",\"type\":\"GlyphRenderer\"},{\"attributes\":{},\"id\":\"1332\",\"type\":\"WheelZoomTool\"},{\"attributes\":{\"source\":{\"id\":\"1356\",\"type\":\"ColumnDataSource\"}},\"id\":\"1360\",\"type\":\"CDSView\"},{\"attributes\":{},\"id\":\"1424\",\"type\":\"UnionRenderers\"},{\"attributes\":{\"source\":{\"id\":\"1376\",\"type\":\"ColumnDataSource\"}},\"id\":\"1380\",\"type\":\"CDSView\"},{\"attributes\":{\"overlay\":{\"id\":\"1339\",\"type\":\"BoxAnnotation\"}},\"id\":\"1333\",\"type\":\"BoxZoomTool\"},{\"attributes\":{\"fill_alpha\":0.3,\"fill_color\":\"#98AFC7\",\"x\":{\"field\":\"x\"},\"y\":{\"field\":\"y\"}},\"id\":\"1362\",\"type\":\"Patch\"},{\"attributes\":{},\"id\":\"1334\",\"type\":\"SaveTool\"},{\"attributes\":{\"fill_alpha\":0.1,\"fill_color\":\"#1f77b4\",\"line_alpha\":0.1,\"line_color\":\"#1f77b4\",\"x\":{\"field\":\"x\"},\"y\":{\"field\":\"y\"}},\"id\":\"1363\",\"type\":\"Patch\"},{\"attributes\":{\"plot\":null,\"text\":\"\"},\"id\":\"1405\",\"type\":\"Title\"},{\"attributes\":{},\"id\":\"1335\",\"type\":\"ResetTool\"},{\"attributes\":{\"data_source\":{\"id\":\"1346\",\"type\":\"ColumnDataSource\"},\"glyph\":{\"id\":\"1347\",\"type\":\"Circle\"},\"hover_glyph\":null,\"muted_glyph\":null,\"nonselection_glyph\":{\"id\":\"1348\",\"type\":\"Circle\"},\"selection_glyph\":null,\"view\":{\"id\":\"1350\",\"type\":\"CDSView\"}},\"id\":\"1349\",\"type\":\"GlyphRenderer\"},{\"attributes\":{\"data_source\":{\"id\":\"1361\",\"type\":\"ColumnDataSource\"},\"glyph\":{\"id\":\"1362\",\"type\":\"Patch\"},\"hover_glyph\":null,\"muted_glyph\":null,\"nonselection_glyph\":{\"id\":\"1363\",\"type\":\"Patch\"},\"selection_glyph\":null,\"view\":{\"id\":\"1365\",\"type\":\"CDSView\"}},\"id\":\"1364\",\"type\":\"GlyphRenderer\"},{\"attributes\":{},\"id\":\"1408\",\"type\":\"BasicTickFormatter\"},{\"attributes\":{\"callback\":null,\"data\":{\"x\":{\"__ndarray__\":\"LPbvYR724T8yOr02fCfhvwbJFaSDiM2/oT4FrzLL0D+OvspDFSW0P69VRrGf1AfAXZ7IsZylCUC6W0+e+cPtPwDge1FR5bS/zoRsgXPp9L++Jb2baB/0v+slSagUAwRAvW0rJMej7z8rBL8g/0QQQGyz5BakWANA6WMh/y8HAEDghOhqEacFQOG8evu1LwXA+xzUpdRjBMCI3gYsavHqv8Kblp6QmfK/B/b9OcKX8j8HFKNVR5vjPx5KU9IQlee/UhoHThIG8b8v5ozrFbz8P+0p9QfG8sU/5qeRlhRGAEAdc5kV23fxP4BMtK99XQBAeR3x2Eql3D9zhqNqVEzqv6LQOLw4UoE/D3SxOfnS9z9fK1HWEn7pv/QKIqecoOi/VyD7rwU7/7895lFd91fTP/aNC5n/ifC/oS4wNU91BMAMExWQOlH5vyUSoqk1K+w/rJsWw8898L8IL8ZAr6Ttv7wXi/N6ZLi//1188dsD4b8Cp27BoAvqv53CqFrqo+8/T5YVUZ5g+T+cQKdtLWLVP+wpz2oT7wVAha7JQ1Pu9T8/OhKe4oXxPy6Bd+S9vQFADJBxvYVr4b+zuM/TIBz0v4+j3ZvtQgZAJSsaY3Gx9T8aVSkjPSjHP6SVbBN4Tfg/im7HPhS16D8MLo76C73RP5M4tOsFdPy/1F91TYtu479ENuf8xB/1v/a/ge1yaPA/bIVpLZ/SxT983dw+tO6wvysiKFmWT/a/2in9Adh/4T82qcotSgruPxSY2dMUxe6/BhMc8Z7o8z9a5OQXEa7yP1S75lom5MQ/DYMd6QRnCEDnbUNqg53kP5KbehO1HdG/AW95wj1y+j/QbvorN8YJQL2aH916fda/ET7SZWdjyL+O9sF61wb/v6b4RVlERf+/mpeH/ta5B0AW+iBo4dUAQBXCNRuB1e2/igCl+GJv7D/uP6NRd2j8P8oTl5N4n++/QbK7iV2y/z/GwhxChpn1v5PxR7d+nQLA0mHUWlYIxL+P6PtAp2HTP91aJiRusgdASf0ggUVJAcBlVOL0+gb0v0D/7PUrdYO/SAlyCkkH+b8=\",\"dtype\":\"float64\",\"shape\":[100]},\"y\":{\"__ndarray__\":\"EXKCkJmY4D9IFdYuZ6H1v4+t6UiTl/O/ChDrpjquxb+0vlkIxrHeP/TCjG/V9/6/I2QimwQs9j/daDuZnZLNP/KUyR3Odfi/0FP4sIok5r+sRtDHqUfgvx4OJ3Le5tg/oO4nwzoS5z8BOZtOCnoEQGdOcUxg6vw/TfGxRWMhA0AOftvbwcblP5a4WpVP7vy/pgfLJdOA1L8EnYiu3kDhvzQZdjdxNdW/ChHQuOdp2j/GcsAlgl+/v3o02Ai2/8U/jchuzqEk4j/yt3WfXYXqPw5AKWt2mtq/NLQMdj+u2r/BNpAVKCHlP7YxF3f5Tew/sPWdhHDpur9Mer/vhMnhP1fBQxegwKK/fw/ef/099z9u5nv9ldfyv+4x1vBBu/E/c3i71piZ9b8MiUhCvGXSv3rf2UV9KOe/nFMbAraOAMCT5Sfw5P7ivzKH1Azu8vE/jGMZBLnQv78oWzMIzHDJP4ML9J95veM/sot1+6of5z9U33nYqPXiP9iK42OAoLU/RCm3DEJ+0b8HtA3M2sjQv0R4Rbl/cvw/oDB3lUMApz8i+/A5O4TtP3EK66Ag/OE/REHKp7Yl7T9tDETYEVHivz/048+I5fo/AHpDYHVb9T8TnI2MBrPhv1DhSLRBJNc/9qrv7VS65D8vwJb4NvniP+xXlS4eXsy/jx5CciEj67/WPfxpFVntv74My5mMFdu/IhfjIuXExT8sDa6SanDNv81qxZTGV+u/XJmC/YuD4r8M5DTCoPSxv54e4bg8fME/UyM/Z4Cf1z+9BYVYnkbRPy6/cZqa6Og/JyLX8Xqw8z/UrHhchqPLP+hn5dDXtuA/+EBiOjk04z+l8Pd1BSQCQBMIKm6Lg7y/8O/yY8nD5D/oBo2RuyDxv4b14OFhKNG/4LBb994I9j886tEY6qr4P2yZaPkqh9a/vLm6bwSq5j92OElWaJvRv8AYRs9Nl+C/umMVeQIY7T9VjB7mOGzXv6Nn15NcFfq/a9G1Aq4KyD/DNdh00yTxvzeYHixYAP4/KGmH2cf7sr8gLa0UJHfDP0qMIPMzEfC/crl+oTuE178=\",\"dtype\":\"float64\",\"shape\":[100]}},\"selected\":{\"id\":\"1411\",\"type\":\"Selection\"},\"selection_policy\":{\"id\":\"1412\",\"type\":\"UnionRenderers\"}},\"id\":\"1346\",\"type\":\"ColumnDataSource\"},{\"attributes\":{},\"id\":\"1336\",\"type\":\"HelpTool\"},{\"attributes\":{\"source\":{\"id\":\"1361\",\"type\":\"ColumnDataSource\"}},\"id\":\"1365\",\"type\":\"CDSView\"},{\"attributes\":{},\"id\":\"1410\",\"type\":\"BasicTickFormatter\"},{\"attributes\":{\"callback\":null,\"end\":5,\"start\":-5},\"id\":\"1313\",\"type\":\"Range1d\"},{\"attributes\":{\"active_drag\":\"auto\",\"active_inspect\":\"auto\",\"active_multi\":null,\"active_scroll\":\"auto\",\"active_tap\":\"auto\",\"tools\":[{\"id\":\"1331\",\"type\":\"PanTool\"},{\"id\":\"1332\",\"type\":\"WheelZoomTool\"},{\"id\":\"1333\",\"type\":\"BoxZoomTool\"},{\"id\":\"1334\",\"type\":\"SaveTool\"},{\"id\":\"1335\",\"type\":\"ResetTool\"},{\"id\":\"1336\",\"type\":\"HelpTool\"}]},\"id\":\"1337\",\"type\":\"Toolbar\"},{\"attributes\":{\"callback\":null,\"data\":{\"x\":{\"__ndarray__\":\"AAAA4ANh/D8cLyleGVT8P+cE9G5nLfw/xlADxxbt+z9kVHsOa5P7P9qv1ZnCIPs/mi2mBpaV+j8X0bi8d/L5P/ShDlQTOPk/dTdb4Cxn+D+058AioID3PxGWpKJfhfY/AlCMrnN29T8zGxVG+VT0P49xJO4gIvM/lc2QcC3f8T9mQ5KIco3wPzq1wPqmXO4/zDnqWIOG6z/OAv0JdpvoPx7oLeyQnuU/8UDXoviS4j8mUQ2QwvfeP2W+jBsWudg/4aFbpX1w0j9RvEi1KknIP5IGzZHzb7c/IEdUA+SreL98B7oWeUO6v2agt7AdUMm/kgX6E9mh0r+Qc9Sx83fYv2pqgfU6JN6/yYYkkVvQ4b8nmyFh0XPkvx3jSFy4+ea/YjYqDGlf6b8CoBjdXaLrvx4sScU1wO2/ZM+Bxba2779zN1sg6MHwv/OhDpTOkvG/FtG4/DJN8r+ZLaZGUfDyv9qv1dl9e/O/Y1R7Tibu87/GUAMH0kf0v+YE9K4iiPS/HC8pntSu9L8AAAAgv7v0vwAAACC/u/S/HC8pntSu9L/mBPSuIoj0v8ZQAwfSR/S/Y1R7Tibu87/ar9XZfXvzv5ktpkZR8PK/FtG4/DJN8r/zoQ6UzpLxv3M3WyDowfC/ZM+Bxba2778eLEnFNcDtvwKgGN1douu/YjYqDGlf6b8d40hcuPnmvyebIWHRc+S/yYYkkVvQ4b9qaoH1OiTev5Bz1LHzd9i/kgX6E9mh0r9moLewHVDJv3wHuhZ5Q7q/IEdUA+SreL+SBs2R82+3P1G8SLUqScg/4aFbpX1w0j9lvowbFrnYPyZRDZDC994/8UDXoviS4j8e6C3skJ7lP84C/Ql2m+g/zDnqWIOG6z86tcD6plzuP2ZDkohyjfA/lc2QcC3f8T+PcSTuICLzPzMbFUb5VPQ/AlCMrnN29T8RlqSiX4X2P7TnwCKggPc/dTdb4Cxn+D/0oQ5UEzj5PxfRuLx38vk/mi2mBpaV+j/ar9WZwiD7P2RUew5rk/s/xlADxxbt+z/nBPRuZy38PxwvKV4ZVPw/AAAA4ANh/D8=\",\"dtype\":\"float64\",\"shape\":[100]},\"y\":{\"__ndarray__\":\"AAAAQGe4wD9W7//aHGrIPyyoKzTdCdA/KE8KL5jW0z+qt18YQJfXP0oAHV7iR9s/4L/0SJ3k3j8PHNoI0jThPxT2SnCh6eI/do4sWfGO5D9rooKPBiPmPw9KMP83pOc/BEIic/AQ6T9J2pE/sGfqP20hoNUOp+s/cLigPrzN7D9NT4V9gtrtP7AB9tRGzO4/84m/8Aqi7z/0M6/4di3wP8rERqwWe/A/Sc7v6pK58D+25kX5qejwP3yd3E0qCPE/StFbxfIX8T9K0VvF8hfxP3yd3E0qCPE/tuZF+ano8D9Jzu/qkrnwP8rERqwWe/A/9TOv+HYt8D/0ib/wCqLvP7EB9tRGzO4/Tk+FfYLa7T9yuKA+vM3sP24hoNUOp+s/S9qRP7Bn6j8FQiJz8BDpPxJKMP83pOc/bKKCjwYj5j96jixZ8Y7kPxf2SnCh6eI/EBzaCNI04T/mv/RIneTeP04AHV7iR9s/srdfGECX1z8sTwovmNbTPzSoKzTdCdA/Ye//2hxqyD8EAABAZ7jAP/z//z9nuMA/PiEASmMNsj+A+Yp6QdGFP2R5UniH8ai/yN5+YWN7u7+cADo89h7Fv8x/6RFsWMy/IDi00Tyx0b8u7JWg2xrVv/QcWXJ7Zdi/2EQF36WN278klGC+CJDevwVCItO8tOC/S9qRn3wL4r9uIaA120rjv3K4oJ6IceS/Tk+F3U5+5b+xAfY0E3Dmv/SJv1DXRee/6mdeUbr+57+ViY24+Znov5Kc3zXyFum/bc2LUiB16b/3Orn7ILTpv5Oit+qx0+m/k6K36rHT6b/3Orn7ILTpv23Ni1Igdem/kpzfNfIW6b+UiY24+Znov+lnXlG6/ue/84m/UNdF57+wAfY0E3Dmv01Phd1OfuW/cLignohx5L9tIaA120rjv0nakZ98C+K/BEIi07y04L8elGC+CJDev9ZEBd+ljdu/7BxZcntl2L8p7JWg2xrVvx44tNE8sdG/wH/pEWxYzL+UADo89h7Fv6jefmFje7u/QHlSeIfxqL+Q+op6QdGFP1QhAEpjDbI/AAAAQGe4wD8=\",\"dtype\":\"float64\",\"shape\":[100]}},\"selected\":{\"id\":\"1419\",\"type\":\"Selection\"},\"selection_policy\":{\"id\":\"1420\",\"type\":\"UnionRenderers\"}},\"id\":\"1366\",\"type\":\"ColumnDataSource\"},{\"attributes\":{},\"id\":\"1411\",\"type\":\"Selection\"},{\"attributes\":{\"callback\":null,\"end\":5,\"start\":-5},\"id\":\"1315\",\"type\":\"Range1d\"},{\"attributes\":{\"fill_alpha\":0.3,\"fill_color\":\"#98AFC7\",\"x\":{\"field\":\"x\"},\"y\":{\"field\":\"y\"}},\"id\":\"1367\",\"type\":\"Patch\"},{\"attributes\":{\"bottom_units\":\"screen\",\"fill_alpha\":{\"value\":0.5},\"fill_color\":{\"value\":\"lightgrey\"},\"left_units\":\"screen\",\"level\":\"overlay\",\"line_alpha\":{\"value\":1.0},\"line_color\":{\"value\":\"black\"},\"line_dash\":[4,4],\"line_width\":{\"value\":2},\"plot\":null,\"render_mode\":\"css\",\"right_units\":\"screen\",\"top_units\":\"screen\"},\"id\":\"1339\",\"type\":\"BoxAnnotation\"},{\"attributes\":{},\"id\":\"1412\",\"type\":\"UnionRenderers\"},{\"attributes\":{},\"id\":\"1317\",\"type\":\"LinearScale\"},{\"attributes\":{\"fill_alpha\":0.1,\"fill_color\":\"#1f77b4\",\"line_alpha\":0.1,\"line_color\":\"#1f77b4\",\"x\":{\"field\":\"x\"},\"y\":{\"field\":\"y\"}},\"id\":\"1368\",\"type\":\"Patch\"},{\"attributes\":{},\"id\":\"1413\",\"type\":\"Selection\"},{\"attributes\":{},\"id\":\"1319\",\"type\":\"LinearScale\"},{\"attributes\":{\"fill_alpha\":0.3,\"fill_color\":\"green\",\"x\":{\"field\":\"x\"},\"y\":{\"field\":\"y\"}},\"id\":\"1352\",\"type\":\"Patch\"},{\"attributes\":{\"data_source\":{\"id\":\"1366\",\"type\":\"ColumnDataSource\"},\"glyph\":{\"id\":\"1367\",\"type\":\"Patch\"},\"hover_glyph\":null,\"muted_glyph\":null,\"nonselection_glyph\":{\"id\":\"1368\",\"type\":\"Patch\"},\"selection_glyph\":null,\"view\":{\"id\":\"1370\",\"type\":\"CDSView\"}},\"id\":\"1369\",\"type\":\"GlyphRenderer\"},{\"attributes\":{\"callback\":null,\"data\":{\"x\":{\"__ndarray__\":\"AAAAsLJ3CkAcLykuyGoKQOcE9D4WRApAxlADl8UDCkBkVHveGaoJQNqv1WlxNwlAmi2m1kSsCEAX0biMJgkIQPShDiTCTgdAdTdbsNt9BkC058DyTpcFQBGWpHIOnARAAlCMfiKNA0AzGxUWqGsCQI9xJL7POAFAKpshgbjr/z/LhiSxQkj9Pzq1wJoEivo/zDnq+OCz9z/OAv2p08j0Px7oLYzuy/E/4oGuhayA7T8mUQ3QfVLnP2W+jFvRE+E/wkO3ynGW1T+ieJFqQv3BP7jly7h9lKy/OaIaoOgP0L++A10LRmzcvzPQW5hTTeS/kgX60x1H6r/IOeo4nA7wvzW1wNq/5PK/yYYk8f2i9b8nmyHBc0b4vx3jSLxazPq/YjYqbAsy/b8CoBg9AHX/vw+WpBJsyQDAsufAkqzEAcBzN1tQOasCwPOhDsQffAPAFtG4LIQ2BMCZLaZ2otkEwNqv1QnPZAXAY1R7fnfXBcDGUAM3IzEGwOYE9N5zcQbAHC8pziWYBsAAAABQEKUGwAAAAFAQpQbAHC8pziWYBsDmBPTec3EGwMZQAzcjMQbAY1R7fnfXBcDar9UJz2QFwJktpnai2QTAFtG4LIQ2BMDzoQ7EH3wDwHM3W1A5qwLAsufAkqzEAcAPlqQSbMkAwAKgGD0Adf+/YjYqbAsy/b8d40i8Wsz6vyebIcFzRvi/yYYk8f2i9b81tcDav+Tyv8g56jicDvC/kgX60x1H6r8z0FuYU03kv74DXQtGbNy/OaIaoOgP0L+45cu4fZSsv6J4kWpC/cE/wkO3ynGW1T9lvoxb0RPhPyZRDdB9Uuc/4oGuhayA7T8e6C2M7svxP84C/anTyPQ/zDnq+OCz9z86tcCaBIr6P8uGJLFCSP0/Kpshgbjr/z+PcSS+zzgBQDMbFRaoawJAAlCMfiKNA0ARlqRyDpwEQLTnwPJOlwVAdTdbsNt9BkD0oQ4kwk4HQBfRuIwmCQhAmi2m1kSsCEDar9VpcTcJQGRUe94ZqglAxlADl8UDCkDnBPQ+FkQKQBwvKS7IagpAAAAAsLJ3CkA=\",\"dtype\":\"float64\",\"shape\":[100]},\"y\":{\"__ndarray__\":\"AAAAQGe4wD9W7/866Q3QP1dQV8iGt9c/UJ4UvvxQ3z+qt19IJmnjP0oAHY7IGec/4L/0eIO26j8eOLRBijvuPxT2SoiU0vA/do4sceR38j9rooKn+Qv0Pw9KMBcrjfU/BEIii+P59j9J2pFXo1D4P20hoO0BkPk/cLigVq+2+j9NT4WVdcP7P7AB9uw5tfw/84m/CP6K/T/pZ14J4UP+P5SJjXAg3/4/kpzf7Rhc/z9tzYsKR7r/P/c6ubNH+f8/StFbUWwMAEBK0VtRbAwAQPc6ubNH+f8/bc2LCke6/z+SnN/tGFz/P5WJjXAg3/4/6mdeCeFD/j/0ib8I/or9P7EB9uw5tfw/Tk+FlXXD+z9yuKBWr7b6P24hoO0BkPk/S9qRV6NQ+D8FQiKL4/n2PxJKMBcrjfU/bKKCp/kL9D96jixx5HfyPxf2SoiU0vA/IDi0QYo77j/mv/R4g7bqP04AHY7IGec/srdfSCZp4z9ZnhS+/FDfP2hQV8iGt9c/Ye//OukN0D8IAABAZ7jAP/j//z9nuMA/6BMCoMBPhT+gQV0hfvy7v7I8KfwqMc2/ZG+/UOUZ1r+cADrcKXvdv+a/9NhPWuK/IDi0oVbf5b8u7JVw9Ujpv/QcWUKVk+y/2EQFr7+7778SSjBHEV/xvwVCIrvJy/K/S9qRh4ki9L9uIaAd6GH1v3K4oIaViPa/Tk+FxVuV97+xAfYcIIf4v/SJvzjkXPm/6mdeOccV+r+ViY2gBrH6v5Kc3x3/Lfu/bc2LOi2M+7/3OrnjLcv7v5Oit9K+6vu/k6K30r7q+7/3OrnjLcv7v23NizotjPu/kpzfHf8t+7+UiY2gBrH6v+lnXjnHFfq/84m/OORc+b+wAfYcIIf4v01PhcVblfe/cLighpWI9r9tIaAd6GH1v0nakYeJIvS/BEIiu8nL8r8PSjBHEV/xv9ZEBa+/u++/7BxZQpWT7L8p7JVw9Ujpvx44tKFW3+W/4L/02E9a4r+UADrcKXvdv1Rvv1DlGda/oDwp/Coxzb9cQV0hfvy7v0gVAqDAT4U/AAAAQGe4wD8=\",\"dtype\":\"float64\",\"shape\":[100]}},\"selected\":{\"id\":\"1417\",\"type\":\"Selection\"},\"selection_policy\":{\"id\":\"1418\",\"type\":\"UnionRenderers\"}},\"id\":\"1361\",\"type\":\"ColumnDataSource\"},{\"attributes\":{\"callback\":null,\"data\":{\"x\":{\"__ndarray__\":\"AAAAkLJ3CkDvAzoOyGoKQH1GNx8WRApABmKad8UDCkAJQIe/GaoJQLIFd0txNwlAReD8uESsCEBtFORvJgkIQDHKLAjCTgdAUJmJldt9BkCFuRvZTpcFQCfSRloOnARAO5iPZyKNA0ALnpEAqGsCQKzQMKrPOAFA+AuEXLjr/z/FLvePQkj9PwZ7Jn0Eivo/Z0EC3+Cz9z/GjOKT08j0P+w0+Hnuy/E///AyaayA7T8yjJ+7fVLnP99CQk/RE+E/hbuCwnGW1T8cifp6Qv3BP1gtJPR8lKy/Txg/d+gP0L/44WXSRWzcv89p8HNTTeS/hBnFpx1H6r9iQQIfnA7wvwJ7Jr2/5PK/wy73z/2i9b/1C4Scc0b4v1ihYZRazPq/EjwjQQsy/b92MB8PAHX/vyXSRvpryQDAhLkbeazEAcBNmYk1OasCwC/KLKgffAPAbBTkD4Q2BMBE4PxYotkEwLIFd+vOZAXACECHX3fXBcAGYpoXIzEGwH1GN79zcQbA7wM6riWYBsAAAAAwEKUGwAAAADAQpQbA7wM6riWYBsB9Rje/c3EGwAZimhcjMQbACECHX3fXBcCyBXfrzmQFwETg/Fii2QTAbBTkD4Q2BMAvyiyoH3wDwE2ZiTU5qwLAhLkbeazEAcAl0kb6a8kAwHYwHw8Adf+/EjwjQQsy/b9YoWGUWsz6v/ULhJxzRvi/wy73z/2i9b8Ceya9v+Tyv2JBAh+cDvC/hBnFpx1H6r/PafBzU03kv/jhZdJFbNy/Txg/d+gP0L9YLST0fJSsvxyJ+npC/cE/hbuCwnGW1T/fQkJP0RPhPzKMn7t9Uuc///AyaayA7T/sNPh57svxP8aM4pPTyPQ/Z0EC3+Cz9z8GeyZ9BIr6P8Uu949CSP0/+AuEXLjr/z+s0DCqzzgBQAuekQCoawJAO5iPZyKNA0An0kZaDpwEQIW5G9lOlwVAUJmJldt9BkAxyiwIwk4HQG0U5G8mCQhAReD8uESsCECyBXdLcTcJQAlAh78ZqglABmKad8UDCkB9RjcfFkQKQO8DOg7IagpAAAAAkLJ3CkA=\",\"dtype\":\"float64\",\"shape\":[100]},\"y\":{\"__ndarray__\":\"AAAAKMzY9z/lLJ7wrCD5P38JDapRUPo/SMOq6Hpm+z/ASkQPBGL8P8i55oLkQf0/6uo5wTAF/j9gcD9YG6v+P49Mcb71Mv8/dhJdCjGc/z/ASPqIXub/P6/0DhmYCABAlz5IfTwOAEDYPLiBFgQAQDgIr6Zh1P8/nxOaYE2B/z8+PYuWRw//P5QE+DrIfv4/athDT2fQ/T+mzdhD3AT9PycyLzf9HPw/y/qOFL4Z+z9e/3eTL/z5PyHxvhh+xfg/NNeMevB29z9mfI2o5hH2P5N9tjnYl/Q/z20s4VIK8z/FsuXL+GrxP8xmhtH9du8/qzbbOVb76z/jb7XMpGboPydx4tytvOQ/iaGjHUwB4T8kOG0p2XDaPwBRLvIUzNI/sLpMC6w4xj/QVYgFk02rP4h3g9LzDrG/gNqP18jHx78oJsJuvm7Tvya8XNBb3Nq/IXd1EnYS4b9QIVH9YqDkv5Q3e3Q3FOi/pi49t1Fq67+S4n9KL5/uv/7m+lS41/C/pbI+au5L8r////9XsqrzvwEAAFiyqvO/5yyeIJPy9L+ACQ3aNyL2v0nDqhhhOPe/w0pEP+oz+L/KueayyhP5v+zqOfEW1/m/YHA/iAF9+r+OTHHu2wT7v3YSXToXbvu/wEj6uES4+79g6R1iFuP7vy59kCpf7vu/r3lwMxPa+784CK/WR6b7v58TmpAzU/u/Pj2Lxi3h+r+SBPhqrlD6v2jYQ39Novm/pM3Yc8LW+L8mMi9n4+73v8v6jkSk6/a/W/93wxXO9b8f8b5IZJf0vzLXjKrWSPO/ZHyN2Mzj8b+RfbZpvmnwv5jbWCJyuO2/imXL97156r/GZoYxyhrnv6U225kin+O/3W+1LHEK4L9A4sR59MDYvwpDR/swStG/OHDa0uNww7/wh3KRbZ2gv9CKZulEcLY/lOqdvmmdyj/u3aA0JPzUP07tx6tLnNw/HRNh15IT4j8aXi6IYcrlPyR3dbKpbuk/VSFRnZb87D/Mmz2KNTjwP1aXnqtC4/E/SvE/dbF98z8B5/ok0gX1P6eyPjoIevY/AAAAKMzY9z8=\",\"dtype\":\"float64\",\"shape\":[100]}},\"selected\":{\"id\":\"1421\",\"type\":\"Selection\"},\"selection_policy\":{\"id\":\"1422\",\"type\":\"UnionRenderers\"}},\"id\":\"1371\",\"type\":\"ColumnDataSource\"},{\"attributes\":{\"formatter\":{\"id\":\"1408\",\"type\":\"BasicTickFormatter\"},\"plot\":{\"id\":\"1312\",\"subtype\":\"Figure\",\"type\":\"Plot\"},\"ticker\":{\"id\":\"1322\",\"type\":\"BasicTicker\"}},\"id\":\"1321\",\"type\":\"LinearAxis\"},{\"attributes\":{},\"id\":\"1414\",\"type\":\"UnionRenderers\"},{\"attributes\":{\"source\":{\"id\":\"1366\",\"type\":\"ColumnDataSource\"}},\"id\":\"1370\",\"type\":\"CDSView\"},{\"attributes\":{},\"id\":\"1415\",\"type\":\"Selection\"},{\"attributes\":{},\"id\":\"1322\",\"type\":\"BasicTicker\"},{\"attributes\":{\"callback\":null,\"data\":{\"x\":{\"__ndarray__\":\"AAAAkBBNBkAm+R8VV0IGQBS4oew1IgZA84QM487sBUDmAb8lWqIFQN2O1gcmQwVAsFbKr5bPBEBgshCuJUgEQH+2PX1hrQNALXEh7Oz/AkAYhINyfkACQPZEMHHfbwFAnlAhXuuOAEDZ00C7HT3/P8wAr5KNP/0/xHunTD4n+z9M1CYWZPb4P7d5ju1Mr/Y/hI/+NV5U9D/P1xMyEujxP8n5YNHq2e4/GDgb7UfL6T9WVc+ejankPzs3pMZD9N4/LsgRPvKE1D/Eb9yDQSDEP8DKDakxzHe/NlU9exB8xb8scDbafAHVv4TzwaLCHt+/lq8n5JqF5L8AH/3rMl7pv2bzHFsQFO6/S9QmVh9R8b/Be6eM+YHzv8oAr9JImvW/1tNA+9iX9787oUL8kXj5v+iJYCJ6Ovu/LggHJbjb/L9Y4kIYlVr+v/xsezp+tf+/X7IQToN1AMCvVspP9PwAwN2O1qeDcAHA5gG/xbfPAcDzhAyDLBoCwBS4oYyTTwLAJvkftbRvAsAAAAAwbnoCwAAAADBuegLAJvkftbRvAsAUuKGMk08CwPOEDIMsGgLA5gG/xbfPAcDdjtang3ABwK9Wyk/0/ADAX7IQToN1AMD8bHs6frX/v1jiQhiVWv6/LggHJbjb/L/oiWAiejr7vzuhQvyRePm/1tNA+9iX97/KAK/SSJr1v8F7p4z5gfO/S9QmVh9R8b9m8xxbEBTuvwAf/esyXum/lq8n5JqF5L+E88Giwh7fvyxwNtp8AdW/NlU9exB8xb/Ayg2pMcx3v8Rv3INBIMQ/LsgRPvKE1D87N6TGQ/TeP1ZVz56NqeQ/GDgb7UfL6T/J+WDR6tnuP8/XEzIS6PE/hI/+NV5U9D+3eY7tTK/2P0zUJhZk9vg/xHunTD4n+z/MAK+SjT/9P9nTQLsdPf8/nlAhXuuOAED2RDBx328BQBiEg3J+QAJALXEh7Oz/AkB/tj19Ya0DQGCyEK4lSARAsFbKr5bPBEDdjtYHJkMFQOYBvyVaogVA84QM487sBUAUuKHsNSIGQCb5HxVXQgZAAAAAkBBNBkA=\",\"dtype\":\"float64\",\"shape\":[100]},\"y\":{\"__ndarray__\":\"AAAAQGe4wD/UzhcIpc/SP6mQbPsXON0/hDX2ykzF4z/psF4EJ97oP+HgPQM+4e0/owbLAqZk8T8rsgDdk8jzP35u1dbkGfY/gwJTyyhW+D9Dgoq6BXv6P+O620I6hvw/x9lWAKB1/j8sr9znliMAQPChUvl8/ABANNhoCZ7EAUB7mQuRJ3sCQOdJr4pZHwNA+SFQPIewA0B4tyXtFy4EQPsyS4aHlwRA7jCzHWfsBEDwIdVqXSwFQBxtmSQnVwVA6YYhSJdsBUDphiFIl2wFQBxtmSQnVwVA8CHVal0sBUDuMLMdZ+wEQPsyS4aHlwRAebcl7RcuBED5IVA8h7ADQOhJr4pZHwNAfJkLkSd7AkA12GgJnsQBQPKhUvl8/ABALa/c55YjAEDI2VYAoHX+P+e620I6hvw/RoKKugV7+j+IAlPLKFb4P4Fu1dbkGfY/LLIA3ZPI8z+nBssCpmTxP+bgPQM+4e0/87BeBCfe6D+KNfbKTMXjP8CQbPsXON0/484XCKXP0j8LAABAZ7jAP/X//z9nuMA/GHe+QO65oL+AIdl2Yf/IvxRr7FUy0ta/87BeZPOB4L/m4D1jCoXlv04NlmUYbeq/WGQBGvQ077+BbtUGy+vxv4gCU/sOKPS/RoKK6utM9r/nuttyIFj4v8jZVjCGR/q/Wl65/xMZ/L/jQ6Ui4Mr9v2qw0UIiW/+/fJkLqRpkAMDoSa+iTAgBwPkhUFR6mQHAebclBQsXAsD7MkueeoACwO4wszVa1QLA8CHVglAVA8AcbZk8GkADwOmGIWCKVQPA6YYhYIpVA8AcbZk8GkADwPAh1YJQFQPA7jCzNVrVAsD7MkueeoACwHi3JQULFwLA+SFQVHqZAcDnSa+iTAgBwHuZC6kaZADAaLDRQiJb/7/hQ6Ui4Mr9v1heuf8TGfy/x9lWMIZH+r/juttyIFj4v0OCiurrTPa/gwJT+w4o9L9+btUGy+vxv1ZkARr0NO+/Rg2WZRht6r/h4D1jCoXlv+mwXmTzgeC/CWvsVTLS1r9SIdl2Yf/Iv6R2vkDuuaC/AAAAQGe4wD8=\",\"dtype\":\"float64\",\"shape\":[100]}},\"selected\":{\"id\":\"1413\",\"type\":\"Selection\"},\"selection_policy\":{\"id\":\"1414\",\"type\":\"UnionRenderers\"}},\"id\":\"1351\",\"type\":\"ColumnDataSource\"},{\"attributes\":{},\"id\":\"1416\",\"type\":\"UnionRenderers\"},{\"attributes\":{\"plot\":{\"id\":\"1312\",\"subtype\":\"Figure\",\"type\":\"Plot\"},\"ticker\":{\"id\":\"1322\",\"type\":\"BasicTicker\"}},\"id\":\"1325\",\"type\":\"Grid\"},{\"attributes\":{\"fill_alpha\":0.1,\"fill_color\":\"#1f77b4\",\"line_alpha\":0.1,\"line_color\":\"#1f77b4\",\"x\":{\"field\":\"x\"},\"y\":{\"field\":\"y\"}},\"id\":\"1353\",\"type\":\"Patch\"},{\"attributes\":{\"fill_alpha\":0.3,\"fill_color\":\"#C7B097\",\"x\":{\"field\":\"x\"},\"y\":{\"field\":\"y\"}},\"id\":\"1372\",\"type\":\"Patch\"},{\"attributes\":{},\"id\":\"1417\",\"type\":\"Selection\"},{\"attributes\":{\"formatter\":{\"id\":\"1410\",\"type\":\"BasicTickFormatter\"},\"plot\":{\"id\":\"1312\",\"subtype\":\"Figure\",\"type\":\"Plot\"},\"ticker\":{\"id\":\"1327\",\"type\":\"BasicTicker\"}},\"id\":\"1326\",\"type\":\"LinearAxis\"},{\"attributes\":{\"data_source\":{\"id\":\"1351\",\"type\":\"ColumnDataSource\"},\"glyph\":{\"id\":\"1352\",\"type\":\"Patch\"},\"hover_glyph\":null,\"muted_glyph\":null,\"nonselection_glyph\":{\"id\":\"1353\",\"type\":\"Patch\"},\"selection_glyph\":null,\"view\":{\"id\":\"1355\",\"type\":\"CDSView\"}},\"id\":\"1354\",\"type\":\"GlyphRenderer\"},{\"attributes\":{\"fill_alpha\":0.1,\"fill_color\":\"#1f77b4\",\"line_alpha\":0.1,\"line_color\":\"#1f77b4\",\"x\":{\"field\":\"x\"},\"y\":{\"field\":\"y\"}},\"id\":\"1373\",\"type\":\"Patch\"}],\"root_ids\":[\"1312\"]},\"title\":\"Bokeh Application\",\"version\":\"1.0.0\"}};\n",
       "  var render_items = [{\"docid\":\"bc728810-e912-4fab-ab55-2b19a4735f00\",\"roots\":{\"1312\":\"8f60184c-5db1-4207-ac00-2df30a8f2510\"}}];\n",
       "  root.Bokeh.embed.embed_items_notebook(docs_json, render_items);\n",
       "\n",
       "  }\n",
       "  if (root.Bokeh !== undefined) {\n",
       "    embed_document(root);\n",
       "  } else {\n",
       "    var attempts = 0;\n",
       "    var timer = setInterval(function(root) {\n",
       "      if (root.Bokeh !== undefined) {\n",
       "        embed_document(root);\n",
       "        clearInterval(timer);\n",
       "      }\n",
       "      attempts++;\n",
       "      if (attempts > 100) {\n",
       "        console.log(\"Bokeh: ERROR: Unable to run BokehJS code because BokehJS library is missing\");\n",
       "        clearInterval(timer);\n",
       "      }\n",
       "    }, 10, root)\n",
       "  }\n",
       "})(window);"
      ],
      "application/vnd.bokehjs_exec.v0+json": ""
     },
     "metadata": {
      "application/vnd.bokehjs_exec.v0+json": {
       "id": "1312"
      }
     },
     "output_type": "display_data"
    }
   ],
   "source": [
    "fig = figure(\n",
    "    width=400,\n",
    "    height=400,\n",
    "    x_range=(-5, 5),\n",
    "    y_range=(-5, 5)\n",
    ")\n",
    "fig.circle(data[:, 0], data[:, 1])\n",
    "\n",
    "mean, precision = normal_iso.mean_precision.expected_value()\n",
    "cov = torch.eye(2) / precision\n",
    "plotting.plot_normal(fig, mean.numpy(), cov.numpy(), \n",
    "                     line_color='black', fill_alpha=.3, color='green')\n",
    "\n",
    "mean, precision = normal_diag.mean_precision.expected_value()\n",
    "cov = (1/precision).diag()\n",
    "plotting.plot_normal(fig, mean.numpy(), cov.numpy(), \n",
    "                     line_color='black', fill_alpha=.3, color='#98AFC7')\n",
    "\n",
    "mean, precision = normal_full.mean_precision.expected_value()\n",
    "cov = precision.inverse()\n",
    "plotting.plot_normal(fig, mean.numpy(), cov.numpy(), \n",
    "                     line_color='black', fill_alpha=.3, color='#C7B097')\n",
    "\n",
    "show(fig)"
   ]
  }
 ],
 "metadata": {
  "kernelspec": {
   "display_name": "Python 3",
   "language": "python",
   "name": "python3"
  },
  "language_info": {
   "codemirror_mode": {
    "name": "ipython",
    "version": 3
   },
   "file_extension": ".py",
   "mimetype": "text/x-python",
   "name": "python",
   "nbconvert_exporter": "python",
   "pygments_lexer": "ipython3",
   "version": "3.7.1"
  }
 },
 "nbformat": 4,
 "nbformat_minor": 2
}
