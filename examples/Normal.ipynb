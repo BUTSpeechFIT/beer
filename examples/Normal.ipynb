{
 "cells": [
  {
   "cell_type": "markdown",
   "metadata": {},
   "source": [
    "# Bayesian Normal Density\n",
    "\n",
    "This notebook illustrate how to use a Bayesian Normal density model with the [beer framework](https://github.com/beer-asr/beer). The Normal distribution is a fairly basic model but it is used extenslively in other model as a basic building block."
   ]
  },
  {
   "cell_type": "code",
   "execution_count": 1,
   "metadata": {},
   "outputs": [
    {
     "data": {
      "text/html": [
       "\n",
       "    <div class=\"bk-root\">\n",
       "        <a href=\"https://bokeh.pydata.org\" target=\"_blank\" class=\"bk-logo bk-logo-small bk-logo-notebook\"></a>\n",
       "        <span id=\"45c0eb77-2cb0-471d-b0d5-4a612d315db2\">Loading BokehJS ...</span>\n",
       "    </div>"
      ]
     },
     "metadata": {},
     "output_type": "display_data"
    },
    {
     "data": {
      "application/javascript": [
       "\n",
       "(function(root) {\n",
       "  function now() {\n",
       "    return new Date();\n",
       "  }\n",
       "\n",
       "  var force = true;\n",
       "\n",
       "  if (typeof (root._bokeh_onload_callbacks) === \"undefined\" || force === true) {\n",
       "    root._bokeh_onload_callbacks = [];\n",
       "    root._bokeh_is_loading = undefined;\n",
       "  }\n",
       "\n",
       "  var JS_MIME_TYPE = 'application/javascript';\n",
       "  var HTML_MIME_TYPE = 'text/html';\n",
       "  var EXEC_MIME_TYPE = 'application/vnd.bokehjs_exec.v0+json';\n",
       "  var CLASS_NAME = 'output_bokeh rendered_html';\n",
       "\n",
       "  /**\n",
       "   * Render data to the DOM node\n",
       "   */\n",
       "  function render(props, node) {\n",
       "    var script = document.createElement(\"script\");\n",
       "    node.appendChild(script);\n",
       "  }\n",
       "\n",
       "  /**\n",
       "   * Handle when an output is cleared or removed\n",
       "   */\n",
       "  function handleClearOutput(event, handle) {\n",
       "    var cell = handle.cell;\n",
       "\n",
       "    var id = cell.output_area._bokeh_element_id;\n",
       "    var server_id = cell.output_area._bokeh_server_id;\n",
       "    // Clean up Bokeh references\n",
       "    if (id !== undefined) {\n",
       "      Bokeh.index[id].model.document.clear();\n",
       "      delete Bokeh.index[id];\n",
       "    }\n",
       "\n",
       "    if (server_id !== undefined) {\n",
       "      // Clean up Bokeh references\n",
       "      var cmd = \"from bokeh.io.state import curstate; print(curstate().uuid_to_server['\" + server_id + \"'].get_sessions()[0].document.roots[0]._id)\";\n",
       "      cell.notebook.kernel.execute(cmd, {\n",
       "        iopub: {\n",
       "          output: function(msg) {\n",
       "            var element_id = msg.content.text.trim();\n",
       "            Bokeh.index[element_id].model.document.clear();\n",
       "            delete Bokeh.index[element_id];\n",
       "          }\n",
       "        }\n",
       "      });\n",
       "      // Destroy server and session\n",
       "      var cmd = \"import bokeh.io.notebook as ion; ion.destroy_server('\" + server_id + \"')\";\n",
       "      cell.notebook.kernel.execute(cmd);\n",
       "    }\n",
       "  }\n",
       "\n",
       "  /**\n",
       "   * Handle when a new output is added\n",
       "   */\n",
       "  function handleAddOutput(event, handle) {\n",
       "    var output_area = handle.output_area;\n",
       "    var output = handle.output;\n",
       "\n",
       "    // limit handleAddOutput to display_data with EXEC_MIME_TYPE content only\n",
       "    if ((output.output_type != \"display_data\") || (!output.data.hasOwnProperty(EXEC_MIME_TYPE))) {\n",
       "      return\n",
       "    }\n",
       "\n",
       "    var toinsert = output_area.element.find(\".\" + CLASS_NAME.split(' ')[0]);\n",
       "\n",
       "    if (output.metadata[EXEC_MIME_TYPE][\"id\"] !== undefined) {\n",
       "      toinsert[0].firstChild.textContent = output.data[JS_MIME_TYPE];\n",
       "      // store reference to embed id on output_area\n",
       "      output_area._bokeh_element_id = output.metadata[EXEC_MIME_TYPE][\"id\"];\n",
       "    }\n",
       "    if (output.metadata[EXEC_MIME_TYPE][\"server_id\"] !== undefined) {\n",
       "      var bk_div = document.createElement(\"div\");\n",
       "      bk_div.innerHTML = output.data[HTML_MIME_TYPE];\n",
       "      var script_attrs = bk_div.children[0].attributes;\n",
       "      for (var i = 0; i < script_attrs.length; i++) {\n",
       "        toinsert[0].firstChild.setAttribute(script_attrs[i].name, script_attrs[i].value);\n",
       "      }\n",
       "      // store reference to server id on output_area\n",
       "      output_area._bokeh_server_id = output.metadata[EXEC_MIME_TYPE][\"server_id\"];\n",
       "    }\n",
       "  }\n",
       "\n",
       "  function register_renderer(events, OutputArea) {\n",
       "\n",
       "    function append_mime(data, metadata, element) {\n",
       "      // create a DOM node to render to\n",
       "      var toinsert = this.create_output_subarea(\n",
       "        metadata,\n",
       "        CLASS_NAME,\n",
       "        EXEC_MIME_TYPE\n",
       "      );\n",
       "      this.keyboard_manager.register_events(toinsert);\n",
       "      // Render to node\n",
       "      var props = {data: data, metadata: metadata[EXEC_MIME_TYPE]};\n",
       "      render(props, toinsert[0]);\n",
       "      element.append(toinsert);\n",
       "      return toinsert\n",
       "    }\n",
       "\n",
       "    /* Handle when an output is cleared or removed */\n",
       "    events.on('clear_output.CodeCell', handleClearOutput);\n",
       "    events.on('delete.Cell', handleClearOutput);\n",
       "\n",
       "    /* Handle when a new output is added */\n",
       "    events.on('output_added.OutputArea', handleAddOutput);\n",
       "\n",
       "    /**\n",
       "     * Register the mime type and append_mime function with output_area\n",
       "     */\n",
       "    OutputArea.prototype.register_mime_type(EXEC_MIME_TYPE, append_mime, {\n",
       "      /* Is output safe? */\n",
       "      safe: true,\n",
       "      /* Index of renderer in `output_area.display_order` */\n",
       "      index: 0\n",
       "    });\n",
       "  }\n",
       "\n",
       "  // register the mime type if in Jupyter Notebook environment and previously unregistered\n",
       "  if (root.Jupyter !== undefined) {\n",
       "    var events = require('base/js/events');\n",
       "    var OutputArea = require('notebook/js/outputarea').OutputArea;\n",
       "\n",
       "    if (OutputArea.prototype.mime_types().indexOf(EXEC_MIME_TYPE) == -1) {\n",
       "      register_renderer(events, OutputArea);\n",
       "    }\n",
       "  }\n",
       "\n",
       "  \n",
       "  if (typeof (root._bokeh_timeout) === \"undefined\" || force === true) {\n",
       "    root._bokeh_timeout = Date.now() + 5000;\n",
       "    root._bokeh_failed_load = false;\n",
       "  }\n",
       "\n",
       "  var NB_LOAD_WARNING = {'data': {'text/html':\n",
       "     \"<div style='background-color: #fdd'>\\n\"+\n",
       "     \"<p>\\n\"+\n",
       "     \"BokehJS does not appear to have successfully loaded. If loading BokehJS from CDN, this \\n\"+\n",
       "     \"may be due to a slow or bad network connection. Possible fixes:\\n\"+\n",
       "     \"</p>\\n\"+\n",
       "     \"<ul>\\n\"+\n",
       "     \"<li>re-rerun `output_notebook()` to attempt to load from CDN again, or</li>\\n\"+\n",
       "     \"<li>use INLINE resources instead, as so:</li>\\n\"+\n",
       "     \"</ul>\\n\"+\n",
       "     \"<code>\\n\"+\n",
       "     \"from bokeh.resources import INLINE\\n\"+\n",
       "     \"output_notebook(resources=INLINE)\\n\"+\n",
       "     \"</code>\\n\"+\n",
       "     \"</div>\"}};\n",
       "\n",
       "  function display_loaded() {\n",
       "    var el = document.getElementById(\"45c0eb77-2cb0-471d-b0d5-4a612d315db2\");\n",
       "    if (el != null) {\n",
       "      el.textContent = \"BokehJS is loading...\";\n",
       "    }\n",
       "    if (root.Bokeh !== undefined) {\n",
       "      if (el != null) {\n",
       "        el.textContent = \"BokehJS \" + root.Bokeh.version + \" successfully loaded.\";\n",
       "      }\n",
       "    } else if (Date.now() < root._bokeh_timeout) {\n",
       "      setTimeout(display_loaded, 100)\n",
       "    }\n",
       "  }\n",
       "\n",
       "\n",
       "  function run_callbacks() {\n",
       "    try {\n",
       "      root._bokeh_onload_callbacks.forEach(function(callback) { callback() });\n",
       "    }\n",
       "    finally {\n",
       "      delete root._bokeh_onload_callbacks\n",
       "    }\n",
       "    console.info(\"Bokeh: all callbacks have finished\");\n",
       "  }\n",
       "\n",
       "  function load_libs(js_urls, callback) {\n",
       "    root._bokeh_onload_callbacks.push(callback);\n",
       "    if (root._bokeh_is_loading > 0) {\n",
       "      console.log(\"Bokeh: BokehJS is being loaded, scheduling callback at\", now());\n",
       "      return null;\n",
       "    }\n",
       "    if (js_urls == null || js_urls.length === 0) {\n",
       "      run_callbacks();\n",
       "      return null;\n",
       "    }\n",
       "    console.log(\"Bokeh: BokehJS not loaded, scheduling load and callback at\", now());\n",
       "    root._bokeh_is_loading = js_urls.length;\n",
       "    for (var i = 0; i < js_urls.length; i++) {\n",
       "      var url = js_urls[i];\n",
       "      var s = document.createElement('script');\n",
       "      s.src = url;\n",
       "      s.async = false;\n",
       "      s.onreadystatechange = s.onload = function() {\n",
       "        root._bokeh_is_loading--;\n",
       "        if (root._bokeh_is_loading === 0) {\n",
       "          console.log(\"Bokeh: all BokehJS libraries loaded\");\n",
       "          run_callbacks()\n",
       "        }\n",
       "      };\n",
       "      s.onerror = function() {\n",
       "        console.warn(\"failed to load library \" + url);\n",
       "      };\n",
       "      console.log(\"Bokeh: injecting script tag for BokehJS library: \", url);\n",
       "      document.getElementsByTagName(\"head\")[0].appendChild(s);\n",
       "    }\n",
       "  };var element = document.getElementById(\"45c0eb77-2cb0-471d-b0d5-4a612d315db2\");\n",
       "  if (element == null) {\n",
       "    console.log(\"Bokeh: ERROR: autoload.js configured with elementid '45c0eb77-2cb0-471d-b0d5-4a612d315db2' but no matching script tag was found. \")\n",
       "    return false;\n",
       "  }\n",
       "\n",
       "  var js_urls = [\"https://cdn.pydata.org/bokeh/release/bokeh-0.12.14.min.js\", \"https://cdn.pydata.org/bokeh/release/bokeh-widgets-0.12.14.min.js\", \"https://cdn.pydata.org/bokeh/release/bokeh-tables-0.12.14.min.js\", \"https://cdn.pydata.org/bokeh/release/bokeh-gl-0.12.14.min.js\"];\n",
       "\n",
       "  var inline_js = [\n",
       "    function(Bokeh) {\n",
       "      Bokeh.set_log_level(\"info\");\n",
       "    },\n",
       "    \n",
       "    function(Bokeh) {\n",
       "      \n",
       "    },\n",
       "    function(Bokeh) {\n",
       "      console.log(\"Bokeh: injecting CSS: https://cdn.pydata.org/bokeh/release/bokeh-0.12.14.min.css\");\n",
       "      Bokeh.embed.inject_css(\"https://cdn.pydata.org/bokeh/release/bokeh-0.12.14.min.css\");\n",
       "      console.log(\"Bokeh: injecting CSS: https://cdn.pydata.org/bokeh/release/bokeh-widgets-0.12.14.min.css\");\n",
       "      Bokeh.embed.inject_css(\"https://cdn.pydata.org/bokeh/release/bokeh-widgets-0.12.14.min.css\");\n",
       "      console.log(\"Bokeh: injecting CSS: https://cdn.pydata.org/bokeh/release/bokeh-tables-0.12.14.min.css\");\n",
       "      Bokeh.embed.inject_css(\"https://cdn.pydata.org/bokeh/release/bokeh-tables-0.12.14.min.css\");\n",
       "    }\n",
       "  ];\n",
       "\n",
       "  function run_inline_js() {\n",
       "    \n",
       "    if ((root.Bokeh !== undefined) || (force === true)) {\n",
       "      for (var i = 0; i < inline_js.length; i++) {\n",
       "        inline_js[i].call(root, root.Bokeh);\n",
       "      }if (force === true) {\n",
       "        display_loaded();\n",
       "      }} else if (Date.now() < root._bokeh_timeout) {\n",
       "      setTimeout(run_inline_js, 100);\n",
       "    } else if (!root._bokeh_failed_load) {\n",
       "      console.log(\"Bokeh: BokehJS failed to load within specified timeout.\");\n",
       "      root._bokeh_failed_load = true;\n",
       "    } else if (force !== true) {\n",
       "      var cell = $(document.getElementById(\"45c0eb77-2cb0-471d-b0d5-4a612d315db2\")).parents('.cell').data().cell;\n",
       "      cell.output_area.append_execute_result(NB_LOAD_WARNING)\n",
       "    }\n",
       "\n",
       "  }\n",
       "\n",
       "  if (root._bokeh_is_loading === 0) {\n",
       "    console.log(\"Bokeh: BokehJS loaded, going straight to plotting\");\n",
       "    run_inline_js();\n",
       "  } else {\n",
       "    load_libs(js_urls, function() {\n",
       "      console.log(\"Bokeh: BokehJS plotting callback run at\", now());\n",
       "      run_inline_js();\n",
       "    });\n",
       "  }\n",
       "}(window));"
      ],
      "application/vnd.bokehjs_load.v0+json": "\n(function(root) {\n  function now() {\n    return new Date();\n  }\n\n  var force = true;\n\n  if (typeof (root._bokeh_onload_callbacks) === \"undefined\" || force === true) {\n    root._bokeh_onload_callbacks = [];\n    root._bokeh_is_loading = undefined;\n  }\n\n  \n\n  \n  if (typeof (root._bokeh_timeout) === \"undefined\" || force === true) {\n    root._bokeh_timeout = Date.now() + 5000;\n    root._bokeh_failed_load = false;\n  }\n\n  var NB_LOAD_WARNING = {'data': {'text/html':\n     \"<div style='background-color: #fdd'>\\n\"+\n     \"<p>\\n\"+\n     \"BokehJS does not appear to have successfully loaded. If loading BokehJS from CDN, this \\n\"+\n     \"may be due to a slow or bad network connection. Possible fixes:\\n\"+\n     \"</p>\\n\"+\n     \"<ul>\\n\"+\n     \"<li>re-rerun `output_notebook()` to attempt to load from CDN again, or</li>\\n\"+\n     \"<li>use INLINE resources instead, as so:</li>\\n\"+\n     \"</ul>\\n\"+\n     \"<code>\\n\"+\n     \"from bokeh.resources import INLINE\\n\"+\n     \"output_notebook(resources=INLINE)\\n\"+\n     \"</code>\\n\"+\n     \"</div>\"}};\n\n  function display_loaded() {\n    var el = document.getElementById(\"45c0eb77-2cb0-471d-b0d5-4a612d315db2\");\n    if (el != null) {\n      el.textContent = \"BokehJS is loading...\";\n    }\n    if (root.Bokeh !== undefined) {\n      if (el != null) {\n        el.textContent = \"BokehJS \" + root.Bokeh.version + \" successfully loaded.\";\n      }\n    } else if (Date.now() < root._bokeh_timeout) {\n      setTimeout(display_loaded, 100)\n    }\n  }\n\n\n  function run_callbacks() {\n    try {\n      root._bokeh_onload_callbacks.forEach(function(callback) { callback() });\n    }\n    finally {\n      delete root._bokeh_onload_callbacks\n    }\n    console.info(\"Bokeh: all callbacks have finished\");\n  }\n\n  function load_libs(js_urls, callback) {\n    root._bokeh_onload_callbacks.push(callback);\n    if (root._bokeh_is_loading > 0) {\n      console.log(\"Bokeh: BokehJS is being loaded, scheduling callback at\", now());\n      return null;\n    }\n    if (js_urls == null || js_urls.length === 0) {\n      run_callbacks();\n      return null;\n    }\n    console.log(\"Bokeh: BokehJS not loaded, scheduling load and callback at\", now());\n    root._bokeh_is_loading = js_urls.length;\n    for (var i = 0; i < js_urls.length; i++) {\n      var url = js_urls[i];\n      var s = document.createElement('script');\n      s.src = url;\n      s.async = false;\n      s.onreadystatechange = s.onload = function() {\n        root._bokeh_is_loading--;\n        if (root._bokeh_is_loading === 0) {\n          console.log(\"Bokeh: all BokehJS libraries loaded\");\n          run_callbacks()\n        }\n      };\n      s.onerror = function() {\n        console.warn(\"failed to load library \" + url);\n      };\n      console.log(\"Bokeh: injecting script tag for BokehJS library: \", url);\n      document.getElementsByTagName(\"head\")[0].appendChild(s);\n    }\n  };var element = document.getElementById(\"45c0eb77-2cb0-471d-b0d5-4a612d315db2\");\n  if (element == null) {\n    console.log(\"Bokeh: ERROR: autoload.js configured with elementid '45c0eb77-2cb0-471d-b0d5-4a612d315db2' but no matching script tag was found. \")\n    return false;\n  }\n\n  var js_urls = [\"https://cdn.pydata.org/bokeh/release/bokeh-0.12.14.min.js\", \"https://cdn.pydata.org/bokeh/release/bokeh-widgets-0.12.14.min.js\", \"https://cdn.pydata.org/bokeh/release/bokeh-tables-0.12.14.min.js\", \"https://cdn.pydata.org/bokeh/release/bokeh-gl-0.12.14.min.js\"];\n\n  var inline_js = [\n    function(Bokeh) {\n      Bokeh.set_log_level(\"info\");\n    },\n    \n    function(Bokeh) {\n      \n    },\n    function(Bokeh) {\n      console.log(\"Bokeh: injecting CSS: https://cdn.pydata.org/bokeh/release/bokeh-0.12.14.min.css\");\n      Bokeh.embed.inject_css(\"https://cdn.pydata.org/bokeh/release/bokeh-0.12.14.min.css\");\n      console.log(\"Bokeh: injecting CSS: https://cdn.pydata.org/bokeh/release/bokeh-widgets-0.12.14.min.css\");\n      Bokeh.embed.inject_css(\"https://cdn.pydata.org/bokeh/release/bokeh-widgets-0.12.14.min.css\");\n      console.log(\"Bokeh: injecting CSS: https://cdn.pydata.org/bokeh/release/bokeh-tables-0.12.14.min.css\");\n      Bokeh.embed.inject_css(\"https://cdn.pydata.org/bokeh/release/bokeh-tables-0.12.14.min.css\");\n    }\n  ];\n\n  function run_inline_js() {\n    \n    if ((root.Bokeh !== undefined) || (force === true)) {\n      for (var i = 0; i < inline_js.length; i++) {\n        inline_js[i].call(root, root.Bokeh);\n      }if (force === true) {\n        display_loaded();\n      }} else if (Date.now() < root._bokeh_timeout) {\n      setTimeout(run_inline_js, 100);\n    } else if (!root._bokeh_failed_load) {\n      console.log(\"Bokeh: BokehJS failed to load within specified timeout.\");\n      root._bokeh_failed_load = true;\n    } else if (force !== true) {\n      var cell = $(document.getElementById(\"45c0eb77-2cb0-471d-b0d5-4a612d315db2\")).parents('.cell').data().cell;\n      cell.output_area.append_execute_result(NB_LOAD_WARNING)\n    }\n\n  }\n\n  if (root._bokeh_is_loading === 0) {\n    console.log(\"Bokeh: BokehJS loaded, going straight to plotting\");\n    run_inline_js();\n  } else {\n    load_libs(js_urls, function() {\n      console.log(\"Bokeh: BokehJS plotting callback run at\", now());\n      run_inline_js();\n    });\n  }\n}(window));"
     },
     "metadata": {},
     "output_type": "display_data"
    }
   ],
   "source": [
    "# Add \"beer\" to the PYTHONPATH\n",
    "import sys\n",
    "sys.path.insert(0, '../')\n",
    "\n",
    "import beer\n",
    "import numpy as np\n",
    "import torch\n",
    "\n",
    "# For plotting.\n",
    "from bokeh.io import show, output_notebook\n",
    "from bokeh.plotting import figure, gridplot\n",
    "output_notebook()\n",
    "\n",
    "# Convenience functions for plotting.\n",
    "import plotting\n",
    "\n",
    "%load_ext autoreload\n",
    "%autoreload 2"
   ]
  },
  {
   "cell_type": "markdown",
   "metadata": {},
   "source": [
    "## Data\n",
    "\n",
    "Generate some normally distributed data:"
   ]
  },
  {
   "cell_type": "code",
   "execution_count": 2,
   "metadata": {},
   "outputs": [
    {
     "data": {
      "text/html": [
       "\n",
       "<div class=\"bk-root\">\n",
       "    <div class=\"bk-plotdiv\" id=\"1dab7e4c-51a7-48a6-a008-53d46ceb9a16\"></div>\n",
       "</div>"
      ]
     },
     "metadata": {},
     "output_type": "display_data"
    },
    {
     "data": {
      "application/javascript": [
       "(function(root) {\n",
       "  function embed_document(root) {\n",
       "    \n",
       "  var docs_json = {\"5981070e-a566-48b5-b042-e0855c9d25c7\":{\"roots\":{\"references\":[{\"attributes\":{\"bottom_units\":\"screen\",\"fill_alpha\":{\"value\":0.5},\"fill_color\":{\"value\":\"lightgrey\"},\"left_units\":\"screen\",\"level\":\"overlay\",\"line_alpha\":{\"value\":1.0},\"line_color\":{\"value\":\"black\"},\"line_dash\":[4,4],\"line_width\":{\"value\":2},\"plot\":null,\"render_mode\":\"css\",\"right_units\":\"screen\",\"top_units\":\"screen\"},\"id\":\"655ae282-8515-43f4-8799-fb67e5ac8cd3\",\"type\":\"BoxAnnotation\"},{\"attributes\":{},\"id\":\"5f8556df-651e-4ee0-a83d-07696fa5b9fc\",\"type\":\"ResetTool\"},{\"attributes\":{},\"id\":\"458111e8-2455-4ed4-aaa4-076965164468\",\"type\":\"HelpTool\"},{\"attributes\":{\"data_source\":{\"id\":\"20b494e7-de8c-40ae-b8fc-e9bd4947959f\",\"type\":\"ColumnDataSource\"},\"glyph\":{\"id\":\"b9e68845-f147-48c6-b009-29102b1e585e\",\"type\":\"Ellipse\"},\"hover_glyph\":null,\"muted_glyph\":null,\"nonselection_glyph\":{\"id\":\"213962df-5845-429c-82fe-b00d4ba61fe3\",\"type\":\"Ellipse\"},\"selection_glyph\":null,\"view\":{\"id\":\"6a19378b-9a46-4d26-8d7a-efd9277df13a\",\"type\":\"CDSView\"}},\"id\":\"74e69af0-4e68-4c6a-85e9-e50e0d8f2447\",\"type\":\"GlyphRenderer\"},{\"attributes\":{\"below\":[{\"id\":\"528b558f-0554-49cc-b587-75ff572c1983\",\"type\":\"LinearAxis\"}],\"left\":[{\"id\":\"d9130b35-9400-4686-90ef-4a398ebb9d42\",\"type\":\"LinearAxis\"}],\"plot_height\":400,\"plot_width\":400,\"renderers\":[{\"id\":\"528b558f-0554-49cc-b587-75ff572c1983\",\"type\":\"LinearAxis\"},{\"id\":\"c17be1e7-2e0d-49e0-8249-379bfd91ee69\",\"type\":\"Grid\"},{\"id\":\"d9130b35-9400-4686-90ef-4a398ebb9d42\",\"type\":\"LinearAxis\"},{\"id\":\"95598a30-fb2a-467a-b8a4-71c36669247d\",\"type\":\"Grid\"},{\"id\":\"655ae282-8515-43f4-8799-fb67e5ac8cd3\",\"type\":\"BoxAnnotation\"},{\"id\":\"de84a27b-9561-49de-b77b-17ced26e3f43\",\"type\":\"GlyphRenderer\"},{\"id\":\"74e69af0-4e68-4c6a-85e9-e50e0d8f2447\",\"type\":\"GlyphRenderer\"},{\"id\":\"3dc7167a-3b1a-448a-87a7-e9066fb83594\",\"type\":\"GlyphRenderer\"},{\"id\":\"a4a4313c-c41d-498d-801a-9a7b181dabc5\",\"type\":\"GlyphRenderer\"}],\"title\":{\"id\":\"2be801a5-e062-4ed8-84da-2970b2b26271\",\"type\":\"Title\"},\"toolbar\":{\"id\":\"728de2a0-deb2-4d4f-bbc3-e4b346819e74\",\"type\":\"Toolbar\"},\"x_range\":{\"id\":\"11f040c8-621d-4645-b415-afacca84daf1\",\"type\":\"Range1d\"},\"x_scale\":{\"id\":\"5de487bb-91ee-4f53-b6b4-942e21328ceb\",\"type\":\"LinearScale\"},\"y_range\":{\"id\":\"31bc0320-ba74-49b7-9a1c-889a9e45d991\",\"type\":\"Range1d\"},\"y_scale\":{\"id\":\"fdded1c3-9a65-400c-930f-e35c24efb794\",\"type\":\"LinearScale\"}},\"id\":\"198e332b-8441-4664-9052-07c006e43086\",\"subtype\":\"Figure\",\"type\":\"Plot\"},{\"attributes\":{\"angle\":{\"units\":\"rad\",\"value\":-1.0646978210692295},\"fill_alpha\":{\"value\":0.5},\"fill_color\":{\"value\":\"blue\"},\"height\":{\"units\":\"data\",\"value\":6.3928055080780615},\"line_alpha\":{\"value\":0.5},\"line_color\":{\"value\":\"blue\"},\"width\":{\"units\":\"data\",\"value\":1.7697564058047062},\"x\":{\"value\":-1.5},\"y\":{\"value\":4.0}},\"id\":\"b9e68845-f147-48c6-b009-29102b1e585e\",\"type\":\"Ellipse\"},{\"attributes\":{\"angle\":{\"units\":\"rad\",\"value\":-1.0646978210692295},\"fill_alpha\":{\"value\":0.1},\"fill_color\":{\"value\":\"#1f77b4\"},\"height\":{\"units\":\"data\",\"value\":6.3928055080780615},\"line_alpha\":{\"value\":0.1},\"line_color\":{\"value\":\"#1f77b4\"},\"width\":{\"units\":\"data\",\"value\":1.7697564058047062},\"x\":{\"value\":-1.5},\"y\":{\"value\":4.0}},\"id\":\"213962df-5845-429c-82fe-b00d4ba61fe3\",\"type\":\"Ellipse\"},{\"attributes\":{\"callback\":null,\"column_names\":[\"x\",\"y\"],\"data\":{\"x\":{\"__ndarray__\":\"lxgbr43F579LBX+RzhX8v1qiOAyonw/AgKRpHEWx578bpWf3Karxv0DIxVIYOaW/cA5yTiwUxj/xIziw2i7rv9otaE7irQfAtpN0bYQE77/Im63PgpYEwD3fiis3uue/y7nzmMgzBMAq9EX45AHwv+w3dGaj6xDAfapMc08IB8B93kEimD3tvy56eugU5APAk4YaHTBl7b8wHV30kdUCwDcDxm9oeQfADkhVDHm67L8mZ+o2kjL1v2jRkbv59ATA5oUBnTmc/78SbcUNuCQOwGEVQlbyLPO/QYN2fWVD9b8WaBjQYxTwP/SiKrDo4fK/LIercETACcAgJ0qEaJXBv3EpiIGOLPS/BMTesztiBMBGoRClx43ovyWd+dI5mva/mL0zPKPI9r//GrDQqIUMwGINhcLGUgTAWBSWwQR4EcC+XEih2GD2v+JRNF1F4ve/ZWFIQnq7+b82WU80tdEHwOCnVTEAgNO/wB9VYOiO2L/BXwNRtRDhv+P1Fb48UwDAQ05atiAeAMCBq7zAXNf7v+/nINQE6fe/V+ExanP2A8CpstWPzRzvv/Q/Eip6xQ3A1MpnehJaAcAWSY3NMTEBwKzpFZkFM9W/bKfc98ULEcA4oGXm5DjNP6K/C8u36ADAMRB5n7X+77/fy3IJkJsQwMi/WsJ/+v+/pjbD4QKu8b951DRsQxASwJDiw6I5UMY/WEf9Iqe/57++1CSj0QXxvzAHnueChNG/hq+htH5N+7/wVVeNhzXNv/QY7n2n89O/QOJKEO9F/7884m/pAzb3vw3/6HBhnQfAfupmZ1D2EcCJ1jnyFOsIwDoRRQ+/aRLA1bfywNswA8BY0Up+eDvMv7yF1KlrsPG/oEdpKBri7T8gtAYYn+TYP5DcC8in6Mm/hChtitvRCsCH5a3tWr/7v0Tw5L7lXALA4BspTSeSuL83vn/uNKz/v9hydGqrygHAljvmTg9yEcDs+eLJhtPwv9Kv9BTcuwnAgddmmv3JA8B4GjYVI8MJwNocTb9Bc+S/vhZTiQkoEcBSIT7c7AH5vztTaFWq9fm/np9b+aP88z8=\",\"dtype\":\"float64\",\"shape\":[100]},\"y\":{\"__ndarray__\":\"mc4lkuw7FEAHQp/sAH4QQBmjcbuBHARAWjYdULnoD0Ds5g3awgEUQKLTBdOX8xBAgkIJSOnLFUAbvUUcJ2cVQNgcD/iE7AhA8Lre4UUlE0CsIh8AJkwIQKD6v+LEeBFADx1uDzeMDUBmNcqCtN8QQOxPYTXoNAFAbmD/UcP3C0AqGA6z+k8MQFC4GgVMyxFAtKKeP3mcEkC2yDFHd7MJQO5XlHUcYAhAg3pGI+lPFEA/QjYADh0NQMfqPDZ2KQxA3FbfwudjCkDXfCj6ObwNQNXEeIgypBFAUYW+IyW9DkBLrsQ6ni4WQKtoHFFZlw1AgDLz04f+BUBBE7+ID8QSQE9ASzi5Tw5AVrwXMyvmBUBi/oa+zcgSQDG+zBJxOglAhk6eGYozEEDcgMLjK20GQDLdX1e16g1ACu796r8aAUCtDKkJdRsPQC540EGuvhBAroKefOtGDECv1juKpLwFQGK2pt7YNhRAk2CqRLvhE0A9PBrBlXgRQD4bkQ4pqQpASjN5ELaLB0BQ4syDYagPQBATOTc3lRFAnj9MbKniEEBnjjh2T/gSQA/cTc+9lAJAbCtcidNyDUAbtHkzJWYQQCwVyYXFrhNAnE95g4Vo/z9yedMataETQPPRa6ghcQpAm1f02J/QEEBttiR9Ng8CQPjJV6HBlwtAv7ZOBEjSDkCcZvqumvv9P+r8HCdHJBNA92BHSnEXEUBcuemml6AMQPgAF1jR9hFA2ZBIE+6QDUBdcDj8fm0UQFqbbR+ZWBNAh8941or4DUAgQQwozHsPQBCWGFXQeAhADWY2Jr9uEEAMWqhZy8YJQIw/xSzFsABATg1+n1kcCUCfdw0E16wQQA1gE3C7OBBANDfbOgd+FkB9rSArFmsTQBSMiBm5cxJAzDZF1qnWC0BqdsQI4B8OQK6VO2T9qwpAa+mEKR8qEEAXBNLTiLYRQI7UzE05RhJAXNaFsHvICUBcIwAEkQIPQAMnw8terQNAIkPuMPGqBkCV4IaMgHgFQL6ULup4hA9AnpOxeJ3GB0BVs/1d5t4QQHbfn+yRLA5AZVgNOohKF0A=\",\"dtype\":\"float64\",\"shape\":[100]}}},\"id\":\"bcdabb32-c8f4-4183-99d1-b70004f8392c\",\"type\":\"ColumnDataSource\"},{\"attributes\":{\"angle\":{\"units\":\"rad\",\"value\":-1.0646978210692295},\"fill_color\":{\"value\":\"blue\"},\"height\":{\"units\":\"data\",\"value\":3.1964027540390307},\"line_color\":{\"value\":\"blue\"},\"width\":{\"units\":\"data\",\"value\":0.8848782029023531},\"x\":{\"value\":-1.5},\"y\":{\"value\":4.0}},\"id\":\"2e03ff86-c57e-4c34-80f9-2d7e4c19f9aa\",\"type\":\"Ellipse\"},{\"attributes\":{\"plot\":null,\"text\":\"Data\"},\"id\":\"2be801a5-e062-4ed8-84da-2970b2b26271\",\"type\":\"Title\"},{\"attributes\":{\"source\":{\"id\":\"20b494e7-de8c-40ae-b8fc-e9bd4947959f\",\"type\":\"ColumnDataSource\"}},\"id\":\"6a19378b-9a46-4d26-8d7a-efd9277df13a\",\"type\":\"CDSView\"},{\"attributes\":{\"callback\":null,\"data\":{}},\"id\":\"77d500a0-ab27-4b87-b432-c6f1ecfd315f\",\"type\":\"ColumnDataSource\"},{\"attributes\":{\"fill_color\":{\"value\":\"blue\"},\"line_color\":{\"value\":\"blue\"},\"x\":{\"value\":-1.5},\"y\":{\"value\":4.0}},\"id\":\"3d9b43ce-0189-46ef-b113-d0c461e42f18\",\"type\":\"Cross\"},{\"attributes\":{\"callback\":null,\"end\":3.5,\"start\":-6.5},\"id\":\"11f040c8-621d-4645-b415-afacca84daf1\",\"type\":\"Range1d\"},{\"attributes\":{\"callback\":null,\"data\":{}},\"id\":\"7799f868-8160-4ca7-a7ca-862cbd78470e\",\"type\":\"ColumnDataSource\"},{\"attributes\":{\"active_drag\":\"auto\",\"active_inspect\":\"auto\",\"active_scroll\":\"auto\",\"active_tap\":\"auto\",\"tools\":[{\"id\":\"6d212cdc-321c-47b1-9c9b-94e1c41c97df\",\"type\":\"PanTool\"},{\"id\":\"6cb870c9-0727-43ce-9efb-c75329fff904\",\"type\":\"WheelZoomTool\"},{\"id\":\"730871b1-de31-40f8-8f34-19a206a785b0\",\"type\":\"BoxZoomTool\"},{\"id\":\"eb119f43-d4bf-41e0-9996-fa04d59b49ac\",\"type\":\"SaveTool\"},{\"id\":\"5f8556df-651e-4ee0-a83d-07696fa5b9fc\",\"type\":\"ResetTool\"},{\"id\":\"458111e8-2455-4ed4-aaa4-076965164468\",\"type\":\"HelpTool\"}]},\"id\":\"728de2a0-deb2-4d4f-bbc3-e4b346819e74\",\"type\":\"Toolbar\"},{\"attributes\":{\"data_source\":{\"id\":\"77d500a0-ab27-4b87-b432-c6f1ecfd315f\",\"type\":\"ColumnDataSource\"},\"glyph\":{\"id\":\"3d9b43ce-0189-46ef-b113-d0c461e42f18\",\"type\":\"Cross\"},\"hover_glyph\":null,\"muted_glyph\":null,\"nonselection_glyph\":{\"id\":\"9162bf33-3b4f-4e67-b393-965a9419eb3b\",\"type\":\"Cross\"},\"selection_glyph\":null,\"view\":{\"id\":\"a60e357a-520a-424a-a23b-0d5df7a4e4f3\",\"type\":\"CDSView\"}},\"id\":\"3dc7167a-3b1a-448a-87a7-e9066fb83594\",\"type\":\"GlyphRenderer\"},{\"attributes\":{\"fill_alpha\":{\"value\":0.1},\"fill_color\":{\"value\":\"#1f77b4\"},\"line_alpha\":{\"value\":0.1},\"line_color\":{\"value\":\"#1f77b4\"},\"x\":{\"value\":-1.5},\"y\":{\"value\":4.0}},\"id\":\"9162bf33-3b4f-4e67-b393-965a9419eb3b\",\"type\":\"Cross\"},{\"attributes\":{},\"id\":\"5de487bb-91ee-4f53-b6b4-942e21328ceb\",\"type\":\"LinearScale\"},{\"attributes\":{\"source\":{\"id\":\"77d500a0-ab27-4b87-b432-c6f1ecfd315f\",\"type\":\"ColumnDataSource\"}},\"id\":\"a60e357a-520a-424a-a23b-0d5df7a4e4f3\",\"type\":\"CDSView\"},{\"attributes\":{\"callback\":null,\"end\":9.0,\"start\":-1.0},\"id\":\"31bc0320-ba74-49b7-9a1c-889a9e45d991\",\"type\":\"Range1d\"},{\"attributes\":{\"fill_color\":{\"value\":\"#1f77b4\"},\"line_color\":{\"value\":\"#1f77b4\"},\"x\":{\"field\":\"x\"},\"y\":{\"field\":\"y\"}},\"id\":\"f713c92d-c114-486f-8cfc-2bfc6d31fca7\",\"type\":\"Circle\"},{\"attributes\":{\"data_source\":{\"id\":\"7799f868-8160-4ca7-a7ca-862cbd78470e\",\"type\":\"ColumnDataSource\"},\"glyph\":{\"id\":\"2e03ff86-c57e-4c34-80f9-2d7e4c19f9aa\",\"type\":\"Ellipse\"},\"hover_glyph\":null,\"muted_glyph\":null,\"nonselection_glyph\":{\"id\":\"50d2c76c-b8af-49b7-a737-f06f43b630ab\",\"type\":\"Ellipse\"},\"selection_glyph\":null,\"view\":{\"id\":\"3b354991-3778-4771-af34-ddada45461dd\",\"type\":\"CDSView\"}},\"id\":\"a4a4313c-c41d-498d-801a-9a7b181dabc5\",\"type\":\"GlyphRenderer\"},{\"attributes\":{},\"id\":\"fdded1c3-9a65-400c-930f-e35c24efb794\",\"type\":\"LinearScale\"},{\"attributes\":{\"angle\":{\"units\":\"rad\",\"value\":-1.0646978210692295},\"fill_alpha\":{\"value\":0.1},\"fill_color\":{\"value\":\"#1f77b4\"},\"height\":{\"units\":\"data\",\"value\":3.1964027540390307},\"line_alpha\":{\"value\":0.1},\"line_color\":{\"value\":\"#1f77b4\"},\"width\":{\"units\":\"data\",\"value\":0.8848782029023531},\"x\":{\"value\":-1.5},\"y\":{\"value\":4.0}},\"id\":\"50d2c76c-b8af-49b7-a737-f06f43b630ab\",\"type\":\"Ellipse\"},{\"attributes\":{\"formatter\":{\"id\":\"653b84bf-25f3-46d6-a687-93c85f45eece\",\"type\":\"BasicTickFormatter\"},\"plot\":{\"id\":\"198e332b-8441-4664-9052-07c006e43086\",\"subtype\":\"Figure\",\"type\":\"Plot\"},\"ticker\":{\"id\":\"83667801-735f-490b-8df1-8ef944b0c0ac\",\"type\":\"BasicTicker\"}},\"id\":\"528b558f-0554-49cc-b587-75ff572c1983\",\"type\":\"LinearAxis\"},{\"attributes\":{\"source\":{\"id\":\"bcdabb32-c8f4-4183-99d1-b70004f8392c\",\"type\":\"ColumnDataSource\"}},\"id\":\"65095c1f-4e5a-4b21-a987-3389700d0565\",\"type\":\"CDSView\"},{\"attributes\":{},\"id\":\"83667801-735f-490b-8df1-8ef944b0c0ac\",\"type\":\"BasicTicker\"},{\"attributes\":{\"data_source\":{\"id\":\"bcdabb32-c8f4-4183-99d1-b70004f8392c\",\"type\":\"ColumnDataSource\"},\"glyph\":{\"id\":\"f713c92d-c114-486f-8cfc-2bfc6d31fca7\",\"type\":\"Circle\"},\"hover_glyph\":null,\"muted_glyph\":null,\"nonselection_glyph\":{\"id\":\"7dab7cc1-6781-4156-97b6-e64f9199628f\",\"type\":\"Circle\"},\"selection_glyph\":null,\"view\":{\"id\":\"65095c1f-4e5a-4b21-a987-3389700d0565\",\"type\":\"CDSView\"}},\"id\":\"de84a27b-9561-49de-b77b-17ced26e3f43\",\"type\":\"GlyphRenderer\"},{\"attributes\":{\"plot\":{\"id\":\"198e332b-8441-4664-9052-07c006e43086\",\"subtype\":\"Figure\",\"type\":\"Plot\"},\"ticker\":{\"id\":\"83667801-735f-490b-8df1-8ef944b0c0ac\",\"type\":\"BasicTicker\"}},\"id\":\"c17be1e7-2e0d-49e0-8249-379bfd91ee69\",\"type\":\"Grid\"},{\"attributes\":{\"source\":{\"id\":\"7799f868-8160-4ca7-a7ca-862cbd78470e\",\"type\":\"ColumnDataSource\"}},\"id\":\"3b354991-3778-4771-af34-ddada45461dd\",\"type\":\"CDSView\"},{\"attributes\":{\"formatter\":{\"id\":\"749f46ca-4b05-41cd-8b73-467fadda2ddc\",\"type\":\"BasicTickFormatter\"},\"plot\":{\"id\":\"198e332b-8441-4664-9052-07c006e43086\",\"subtype\":\"Figure\",\"type\":\"Plot\"},\"ticker\":{\"id\":\"55bd7e5a-6fc8-46bc-95bc-ada87ddac93f\",\"type\":\"BasicTicker\"}},\"id\":\"d9130b35-9400-4686-90ef-4a398ebb9d42\",\"type\":\"LinearAxis\"},{\"attributes\":{\"fill_alpha\":{\"value\":0.1},\"fill_color\":{\"value\":\"#1f77b4\"},\"line_alpha\":{\"value\":0.1},\"line_color\":{\"value\":\"#1f77b4\"},\"x\":{\"field\":\"x\"},\"y\":{\"field\":\"y\"}},\"id\":\"7dab7cc1-6781-4156-97b6-e64f9199628f\",\"type\":\"Circle\"},{\"attributes\":{},\"id\":\"55bd7e5a-6fc8-46bc-95bc-ada87ddac93f\",\"type\":\"BasicTicker\"},{\"attributes\":{\"dimension\":1,\"plot\":{\"id\":\"198e332b-8441-4664-9052-07c006e43086\",\"subtype\":\"Figure\",\"type\":\"Plot\"},\"ticker\":{\"id\":\"55bd7e5a-6fc8-46bc-95bc-ada87ddac93f\",\"type\":\"BasicTicker\"}},\"id\":\"95598a30-fb2a-467a-b8a4-71c36669247d\",\"type\":\"Grid\"},{\"attributes\":{\"callback\":null,\"data\":{}},\"id\":\"20b494e7-de8c-40ae-b8fc-e9bd4947959f\",\"type\":\"ColumnDataSource\"},{\"attributes\":{},\"id\":\"6d212cdc-321c-47b1-9c9b-94e1c41c97df\",\"type\":\"PanTool\"},{\"attributes\":{},\"id\":\"eb119f43-d4bf-41e0-9996-fa04d59b49ac\",\"type\":\"SaveTool\"},{\"attributes\":{},\"id\":\"653b84bf-25f3-46d6-a687-93c85f45eece\",\"type\":\"BasicTickFormatter\"},{\"attributes\":{},\"id\":\"6cb870c9-0727-43ce-9efb-c75329fff904\",\"type\":\"WheelZoomTool\"},{\"attributes\":{\"overlay\":{\"id\":\"655ae282-8515-43f4-8799-fb67e5ac8cd3\",\"type\":\"BoxAnnotation\"}},\"id\":\"730871b1-de31-40f8-8f34-19a206a785b0\",\"type\":\"BoxZoomTool\"},{\"attributes\":{},\"id\":\"749f46ca-4b05-41cd-8b73-467fadda2ddc\",\"type\":\"BasicTickFormatter\"}],\"root_ids\":[\"198e332b-8441-4664-9052-07c006e43086\"]},\"title\":\"Bokeh Application\",\"version\":\"0.12.14\"}};\n",
       "  var render_items = [{\"docid\":\"5981070e-a566-48b5-b042-e0855c9d25c7\",\"elementid\":\"1dab7e4c-51a7-48a6-a008-53d46ceb9a16\",\"modelid\":\"198e332b-8441-4664-9052-07c006e43086\"}];\n",
       "  root.Bokeh.embed.embed_items_notebook(docs_json, render_items);\n",
       "\n",
       "  }\n",
       "  if (root.Bokeh !== undefined) {\n",
       "    embed_document(root);\n",
       "  } else {\n",
       "    var attempts = 0;\n",
       "    var timer = setInterval(function(root) {\n",
       "      if (root.Bokeh !== undefined) {\n",
       "        embed_document(root);\n",
       "        clearInterval(timer);\n",
       "      }\n",
       "      attempts++;\n",
       "      if (attempts > 100) {\n",
       "        console.log(\"Bokeh: ERROR: Unable to run BokehJS code because BokehJS library is missing\")\n",
       "        clearInterval(timer);\n",
       "      }\n",
       "    }, 10, root)\n",
       "  }\n",
       "})(window);"
      ],
      "application/vnd.bokehjs_exec.v0+json": ""
     },
     "metadata": {
      "application/vnd.bokehjs_exec.v0+json": {
       "id": "198e332b-8441-4664-9052-07c006e43086"
      }
     },
     "output_type": "display_data"
    }
   ],
   "source": [
    "mean = np.array([-1.5, 4]) \n",
    "cov = np.array([\n",
    "    [2, 1],\n",
    "    [1, .75]\n",
    "])\n",
    "data = np.random.multivariate_normal(mean, cov, size=100)\n",
    "\n",
    "fig = figure(\n",
    "    title='Data',\n",
    "    width=400,\n",
    "    height=400,\n",
    "    x_range=(mean[0] - 5, mean[0] + 5),\n",
    "    y_range=(mean[1] - 5, mean[1] + 5)\n",
    ")\n",
    "fig.circle(data[:, 0], data[:, 1])\n",
    "plotting.plot_normal(fig, mean, cov)\n",
    "\n",
    "show(fig)"
   ]
  },
  {
   "cell_type": "markdown",
   "metadata": {},
   "source": [
    "## Model Creation\n",
    "\n",
    "We create two types of Normal distribution: one diagonal covariance matrix and another one with full covariance matrix."
   ]
  },
  {
   "cell_type": "code",
   "execution_count": 3,
   "metadata": {},
   "outputs": [],
   "source": [
    "normal_diag = beer.NormalDiagonalCovariance.create(torch.ones(2), torch.eye(2), prior_count=1e-3)\n",
    "normal_full = beer.NormalFullCovariance.create(torch.zeros(2), torch.eye(2), prior_count=1e-3)"
   ]
  },
  {
   "cell_type": "markdown",
   "metadata": {},
   "source": [
    "## Variational Bayes Training "
   ]
  },
  {
   "cell_type": "code",
   "execution_count": 4,
   "metadata": {
    "scrolled": false
   },
   "outputs": [
    {
     "name": "stderr",
     "output_type": "stream",
     "text": [
      "/Users/lucasondel/anaconda3/envs/pytorch_src/lib/python3.6/site-packages/bokeh/core/json_encoder.py:80: FutureWarning: Conversion of the second argument of issubdtype from `float` to `np.floating` is deprecated. In future, it will be treated as `np.float64 == np.dtype(float).type`.\n",
      "  elif np.issubdtype(type(obj), np.float):\n"
     ]
    },
    {
     "data": {
      "text/html": [
       "\n",
       "<div class=\"bk-root\">\n",
       "    <div class=\"bk-plotdiv\" id=\"afa75de1-c81d-435b-bd2e-67b11578f451\"></div>\n",
       "</div>"
      ]
     },
     "metadata": {},
     "output_type": "display_data"
    },
    {
     "data": {
      "application/javascript": [
       "(function(root) {\n",
       "  function embed_document(root) {\n",
       "    \n",
       "  var docs_json = {\"37d5a1e4-09cd-44cf-baeb-962ac27140d7\":{\"roots\":{\"references\":[{\"attributes\":{},\"id\":\"7a294768-aa4f-427a-a6bf-5e1d90d59f9f\",\"type\":\"BasicTickFormatter\"},{\"attributes\":{\"fill_alpha\":{\"value\":0.1},\"fill_color\":{\"value\":\"#1f77b4\"},\"line_alpha\":{\"value\":0.1},\"line_color\":{\"value\":\"#1f77b4\"},\"x\":{\"field\":\"x\"},\"y\":{\"field\":\"y\"}},\"id\":\"1a63402d-e9e2-4108-90b8-3f2724e1c414\",\"type\":\"Circle\"},{\"attributes\":{\"callback\":null,\"data\":{}},\"id\":\"6116dc7d-6918-4641-99e3-1a60f5543873\",\"type\":\"ColumnDataSource\"},{\"attributes\":{\"data_source\":{\"id\":\"b47b81df-6982-4578-913e-813c777e1315\",\"type\":\"ColumnDataSource\"},\"glyph\":{\"id\":\"f7553dfe-4fa2-4487-b7ab-94f27b677a1d\",\"type\":\"Circle\"},\"hover_glyph\":null,\"muted_glyph\":null,\"nonselection_glyph\":{\"id\":\"1a63402d-e9e2-4108-90b8-3f2724e1c414\",\"type\":\"Circle\"},\"selection_glyph\":null,\"view\":{\"id\":\"50298564-511f-4b3b-9616-8263f25e2c21\",\"type\":\"CDSView\"}},\"id\":\"26be1412-11e7-4dd0-9b1c-fd9ba14b8467\",\"type\":\"GlyphRenderer\"},{\"attributes\":{\"angle\":{\"units\":\"rad\",\"value\":-1.0298551321029663},\"fill_alpha\":{\"value\":0.25},\"fill_color\":{\"value\":\"green\"},\"height\":{\"units\":\"data\",\"value\":6.234322547912598},\"line_alpha\":{\"value\":0.25},\"line_color\":{\"value\":\"green\"},\"width\":{\"units\":\"data\",\"value\":1.7203425168991089},\"x\":{\"value\":-1.759658694267273},\"y\":{\"value\":3.84726881980896}},\"id\":\"bcf92260-1c7d-4450-b92a-a0443c23c10c\",\"type\":\"Ellipse\"},{\"attributes\":{\"overlay\":{\"id\":\"e5bfe7f4-3eb6-4027-b8f7-e5de2d84c31b\",\"type\":\"BoxAnnotation\"}},\"id\":\"e6e5dd39-9ad9-4122-8ff6-bb7a67e2798d\",\"type\":\"BoxZoomTool\"},{\"attributes\":{\"callback\":null,\"data\":{}},\"id\":\"3f5668e0-007a-4dfc-b85d-0d8c2e27d526\",\"type\":\"ColumnDataSource\"},{\"attributes\":{\"source\":{\"id\":\"b47b81df-6982-4578-913e-813c777e1315\",\"type\":\"ColumnDataSource\"}},\"id\":\"50298564-511f-4b3b-9616-8263f25e2c21\",\"type\":\"CDSView\"},{\"attributes\":{\"angle\":{\"units\":\"rad\",\"value\":-1.0298551321029663},\"fill_alpha\":{\"value\":0.5},\"fill_color\":{\"value\":\"green\"},\"height\":{\"units\":\"data\",\"value\":3.117161273956299},\"line_alpha\":{\"value\":0.5},\"line_color\":{\"value\":\"green\"},\"width\":{\"units\":\"data\",\"value\":0.8601712584495544},\"x\":{\"value\":-1.759658694267273},\"y\":{\"value\":3.84726881980896}},\"id\":\"4470d32a-d4e2-4e20-b850-d8edb8e1a40a\",\"type\":\"Ellipse\"},{\"attributes\":{},\"id\":\"3a56ca8e-4303-4fac-a659-04f49c54dffd\",\"type\":\"PanTool\"},{\"attributes\":{\"source\":{\"id\":\"8cfd5392-82a1-4ac7-bafe-e29b005a18d1\",\"type\":\"ColumnDataSource\"}},\"id\":\"3114723e-ddf4-413f-8697-b3e9ceffbeea\",\"type\":\"CDSView\"},{\"attributes\":{\"callback\":null,\"end\":9.0,\"start\":-1.0},\"id\":\"aafd9f50-8cab-4df1-93c4-67804ff84d67\",\"type\":\"Range1d\"},{\"attributes\":{\"bottom_units\":\"screen\",\"fill_alpha\":{\"value\":0.5},\"fill_color\":{\"value\":\"lightgrey\"},\"left_units\":\"screen\",\"level\":\"overlay\",\"line_alpha\":{\"value\":1.0},\"line_color\":{\"value\":\"black\"},\"line_dash\":[4,4],\"line_width\":{\"value\":2},\"plot\":null,\"render_mode\":\"css\",\"right_units\":\"screen\",\"top_units\":\"screen\"},\"id\":\"e5bfe7f4-3eb6-4027-b8f7-e5de2d84c31b\",\"type\":\"BoxAnnotation\"},{\"attributes\":{\"angle\":{\"units\":\"rad\",\"value\":-1.0298551321029663},\"fill_alpha\":{\"value\":0.1},\"fill_color\":{\"value\":\"#1f77b4\"},\"height\":{\"units\":\"data\",\"value\":3.117161273956299},\"line_alpha\":{\"value\":0.1},\"line_color\":{\"value\":\"#1f77b4\"},\"width\":{\"units\":\"data\",\"value\":0.8601712584495544},\"x\":{\"value\":-1.759658694267273},\"y\":{\"value\":3.84726881980896}},\"id\":\"a2736018-d0d4-460f-b4ed-291fc80d4e56\",\"type\":\"Ellipse\"},{\"attributes\":{},\"id\":\"34f2940d-dc38-403d-8dd0-36564ee794a1\",\"type\":\"BasicTickFormatter\"},{\"attributes\":{\"fill_color\":{\"value\":\"#1f77b4\"},\"line_color\":{\"value\":\"#1f77b4\"},\"x\":{\"field\":\"x\"},\"y\":{\"field\":\"y\"}},\"id\":\"f7553dfe-4fa2-4487-b7ab-94f27b677a1d\",\"type\":\"Circle\"},{\"attributes\":{\"callback\":null,\"end\":3.5,\"start\":-6.5},\"id\":\"74af1d65-33a4-4d67-9579-9e9790e9dfaf\",\"type\":\"Range1d\"},{\"attributes\":{\"callback\":null,\"data\":{}},\"id\":\"ffdca926-58b3-41e8-a020-e70cacea8617\",\"type\":\"ColumnDataSource\"},{\"attributes\":{},\"id\":\"4ab261c8-772f-410d-9145-9b8a98792be4\",\"type\":\"SaveTool\"},{\"attributes\":{\"active_drag\":\"auto\",\"active_inspect\":\"auto\",\"active_scroll\":\"auto\",\"active_tap\":\"auto\",\"tools\":[{\"id\":\"3a56ca8e-4303-4fac-a659-04f49c54dffd\",\"type\":\"PanTool\"},{\"id\":\"f870c9d4-c75d-447d-a8a3-81ecd41b88fd\",\"type\":\"WheelZoomTool\"},{\"id\":\"e6e5dd39-9ad9-4122-8ff6-bb7a67e2798d\",\"type\":\"BoxZoomTool\"},{\"id\":\"4ab261c8-772f-410d-9145-9b8a98792be4\",\"type\":\"SaveTool\"},{\"id\":\"5298a2b6-9c27-4a41-a6fc-5d0331fc7e8a\",\"type\":\"ResetTool\"},{\"id\":\"6e2b51cb-463a-4485-a592-a42707eea8a7\",\"type\":\"HelpTool\"}]},\"id\":\"81487e12-1bce-4645-925b-e8b9969b0bc0\",\"type\":\"Toolbar\"},{\"attributes\":{},\"id\":\"f870c9d4-c75d-447d-a8a3-81ecd41b88fd\",\"type\":\"WheelZoomTool\"},{\"attributes\":{\"source\":{\"id\":\"74f35157-5584-4e56-98ca-dc9908011569\",\"type\":\"ColumnDataSource\"}},\"id\":\"61a9d6ef-53c8-4cfb-baa2-4284827279cb\",\"type\":\"CDSView\"},{\"attributes\":{\"plot\":null,\"text\":\"Initial model\"},\"id\":\"c3c46f30-4bc5-4587-a06d-9fd38fc33e3c\",\"type\":\"Title\"},{\"attributes\":{\"callback\":null,\"data\":{}},\"id\":\"74f35157-5584-4e56-98ca-dc9908011569\",\"type\":\"ColumnDataSource\"},{\"attributes\":{\"fill_alpha\":{\"value\":0.5},\"fill_color\":{\"value\":\"green\"},\"line_alpha\":{\"value\":0.5},\"line_color\":{\"value\":\"green\"},\"x\":{\"value\":-1.759658694267273},\"y\":{\"value\":3.84726881980896}},\"id\":\"e400dd9f-5be5-41e2-8309-d70183747dca\",\"type\":\"Cross\"},{\"attributes\":{\"callback\":null,\"column_names\":[\"x\",\"y\"],\"data\":{\"x\":{\"__ndarray__\":\"lxgbr43F579LBX+RzhX8v1qiOAyonw/AgKRpHEWx578bpWf3Karxv0DIxVIYOaW/cA5yTiwUxj/xIziw2i7rv9otaE7irQfAtpN0bYQE77/Im63PgpYEwD3fiis3uue/y7nzmMgzBMAq9EX45AHwv+w3dGaj6xDAfapMc08IB8B93kEimD3tvy56eugU5APAk4YaHTBl7b8wHV30kdUCwDcDxm9oeQfADkhVDHm67L8mZ+o2kjL1v2jRkbv59ATA5oUBnTmc/78SbcUNuCQOwGEVQlbyLPO/QYN2fWVD9b8WaBjQYxTwP/SiKrDo4fK/LIercETACcAgJ0qEaJXBv3EpiIGOLPS/BMTesztiBMBGoRClx43ovyWd+dI5mva/mL0zPKPI9r//GrDQqIUMwGINhcLGUgTAWBSWwQR4EcC+XEih2GD2v+JRNF1F4ve/ZWFIQnq7+b82WU80tdEHwOCnVTEAgNO/wB9VYOiO2L/BXwNRtRDhv+P1Fb48UwDAQ05atiAeAMCBq7zAXNf7v+/nINQE6fe/V+ExanP2A8CpstWPzRzvv/Q/Eip6xQ3A1MpnehJaAcAWSY3NMTEBwKzpFZkFM9W/bKfc98ULEcA4oGXm5DjNP6K/C8u36ADAMRB5n7X+77/fy3IJkJsQwMi/WsJ/+v+/pjbD4QKu8b951DRsQxASwJDiw6I5UMY/WEf9Iqe/57++1CSj0QXxvzAHnueChNG/hq+htH5N+7/wVVeNhzXNv/QY7n2n89O/QOJKEO9F/7884m/pAzb3vw3/6HBhnQfAfupmZ1D2EcCJ1jnyFOsIwDoRRQ+/aRLA1bfywNswA8BY0Up+eDvMv7yF1KlrsPG/oEdpKBri7T8gtAYYn+TYP5DcC8in6Mm/hChtitvRCsCH5a3tWr/7v0Tw5L7lXALA4BspTSeSuL83vn/uNKz/v9hydGqrygHAljvmTg9yEcDs+eLJhtPwv9Kv9BTcuwnAgddmmv3JA8B4GjYVI8MJwNocTb9Bc+S/vhZTiQkoEcBSIT7c7AH5vztTaFWq9fm/np9b+aP88z8=\",\"dtype\":\"float64\",\"shape\":[100]},\"y\":{\"__ndarray__\":\"mc4lkuw7FEAHQp/sAH4QQBmjcbuBHARAWjYdULnoD0Ds5g3awgEUQKLTBdOX8xBAgkIJSOnLFUAbvUUcJ2cVQNgcD/iE7AhA8Lre4UUlE0CsIh8AJkwIQKD6v+LEeBFADx1uDzeMDUBmNcqCtN8QQOxPYTXoNAFAbmD/UcP3C0AqGA6z+k8MQFC4GgVMyxFAtKKeP3mcEkC2yDFHd7MJQO5XlHUcYAhAg3pGI+lPFEA/QjYADh0NQMfqPDZ2KQxA3FbfwudjCkDXfCj6ObwNQNXEeIgypBFAUYW+IyW9DkBLrsQ6ni4WQKtoHFFZlw1AgDLz04f+BUBBE7+ID8QSQE9ASzi5Tw5AVrwXMyvmBUBi/oa+zcgSQDG+zBJxOglAhk6eGYozEEDcgMLjK20GQDLdX1e16g1ACu796r8aAUCtDKkJdRsPQC540EGuvhBAroKefOtGDECv1juKpLwFQGK2pt7YNhRAk2CqRLvhE0A9PBrBlXgRQD4bkQ4pqQpASjN5ELaLB0BQ4syDYagPQBATOTc3lRFAnj9MbKniEEBnjjh2T/gSQA/cTc+9lAJAbCtcidNyDUAbtHkzJWYQQCwVyYXFrhNAnE95g4Vo/z9yedMataETQPPRa6ghcQpAm1f02J/QEEBttiR9Ng8CQPjJV6HBlwtAv7ZOBEjSDkCcZvqumvv9P+r8HCdHJBNA92BHSnEXEUBcuemml6AMQPgAF1jR9hFA2ZBIE+6QDUBdcDj8fm0UQFqbbR+ZWBNAh8941or4DUAgQQwozHsPQBCWGFXQeAhADWY2Jr9uEEAMWqhZy8YJQIw/xSzFsABATg1+n1kcCUCfdw0E16wQQA1gE3C7OBBANDfbOgd+FkB9rSArFmsTQBSMiBm5cxJAzDZF1qnWC0BqdsQI4B8OQK6VO2T9qwpAa+mEKR8qEEAXBNLTiLYRQI7UzE05RhJAXNaFsHvICUBcIwAEkQIPQAMnw8terQNAIkPuMPGqBkCV4IaMgHgFQL6ULup4hA9AnpOxeJ3GB0BVs/1d5t4QQHbfn+yRLA5AZVgNOohKF0A=\",\"dtype\":\"float64\",\"shape\":[100]}}},\"id\":\"b47b81df-6982-4578-913e-813c777e1315\",\"type\":\"ColumnDataSource\"},{\"attributes\":{\"data_source\":{\"id\":\"3f5668e0-007a-4dfc-b85d-0d8c2e27d526\",\"type\":\"ColumnDataSource\"},\"glyph\":{\"id\":\"4470d32a-d4e2-4e20-b850-d8edb8e1a40a\",\"type\":\"Ellipse\"},\"hover_glyph\":null,\"muted_glyph\":null,\"nonselection_glyph\":{\"id\":\"a2736018-d0d4-460f-b4ed-291fc80d4e56\",\"type\":\"Ellipse\"},\"selection_glyph\":null,\"view\":{\"id\":\"778f3b6a-7420-4fcc-9823-421ff76ecf2a\",\"type\":\"CDSView\"}},\"id\":\"0527c4e4-287f-4a9f-982b-77ab0af7f3b4\",\"type\":\"GlyphRenderer\"},{\"attributes\":{},\"id\":\"5298a2b6-9c27-4a41-a6fc-5d0331fc7e8a\",\"type\":\"ResetTool\"},{\"attributes\":{\"data_source\":{\"id\":\"74f35157-5584-4e56-98ca-dc9908011569\",\"type\":\"ColumnDataSource\"},\"glyph\":{\"id\":\"bcf92260-1c7d-4450-b92a-a0443c23c10c\",\"type\":\"Ellipse\"},\"hover_glyph\":null,\"muted_glyph\":null,\"nonselection_glyph\":{\"id\":\"e415e08c-d4f1-4e23-b85d-742cdff67337\",\"type\":\"Ellipse\"},\"selection_glyph\":null,\"view\":{\"id\":\"61a9d6ef-53c8-4cfb-baa2-4284827279cb\",\"type\":\"CDSView\"}},\"id\":\"f38186e3-589e-4721-9602-b5c13aa9b80f\",\"type\":\"GlyphRenderer\"},{\"attributes\":{},\"id\":\"aaa4a318-a2de-444f-82d3-8d0aff64e4e5\",\"type\":\"LinearScale\"},{\"attributes\":{\"dimension\":1,\"plot\":{\"id\":\"1db98424-0aae-4465-a3fc-3d3b8bce7b58\",\"subtype\":\"Figure\",\"type\":\"Plot\"},\"ticker\":{\"id\":\"2cca76ad-6d9a-4b45-a7c7-b20f40501b55\",\"type\":\"BasicTicker\"}},\"id\":\"75c4caf0-b7ed-45d4-b6db-fd9a7ddb97ae\",\"type\":\"Grid\"},{\"attributes\":{\"angle\":{\"units\":\"rad\",\"value\":-1.0298551321029663},\"fill_alpha\":{\"value\":0.1},\"fill_color\":{\"value\":\"#1f77b4\"},\"height\":{\"units\":\"data\",\"value\":6.234322547912598},\"line_alpha\":{\"value\":0.1},\"line_color\":{\"value\":\"#1f77b4\"},\"width\":{\"units\":\"data\",\"value\":1.7203425168991089},\"x\":{\"value\":-1.759658694267273},\"y\":{\"value\":3.84726881980896}},\"id\":\"e415e08c-d4f1-4e23-b85d-742cdff67337\",\"type\":\"Ellipse\"},{\"attributes\":{\"callback\":null,\"data\":{}},\"id\":\"48ba094e-47c1-4ada-ac97-a99c74708154\",\"type\":\"ColumnDataSource\"},{\"attributes\":{\"below\":[{\"id\":\"b1f0ccba-43a0-4b25-92af-dd390a3516f8\",\"type\":\"LinearAxis\"}],\"left\":[{\"id\":\"0bbaff25-07de-4de7-8597-148726cdc556\",\"type\":\"LinearAxis\"}],\"plot_height\":400,\"plot_width\":400,\"renderers\":[{\"id\":\"b1f0ccba-43a0-4b25-92af-dd390a3516f8\",\"type\":\"LinearAxis\"},{\"id\":\"d63b5e51-e83d-44f3-97a8-7d435a791ef1\",\"type\":\"Grid\"},{\"id\":\"0bbaff25-07de-4de7-8597-148726cdc556\",\"type\":\"LinearAxis\"},{\"id\":\"75c4caf0-b7ed-45d4-b6db-fd9a7ddb97ae\",\"type\":\"Grid\"},{\"id\":\"e5bfe7f4-3eb6-4027-b8f7-e5de2d84c31b\",\"type\":\"BoxAnnotation\"},{\"id\":\"26be1412-11e7-4dd0-9b1c-fd9ba14b8467\",\"type\":\"GlyphRenderer\"},{\"id\":\"8c5ca267-e72b-46b8-9a3c-9d2b8e73fb63\",\"type\":\"GlyphRenderer\"},{\"id\":\"951e3b0d-f5c2-4d03-939b-ff4cf45cb097\",\"type\":\"GlyphRenderer\"},{\"id\":\"40e44ed5-40cb-4b24-b0f4-46b059995d6e\",\"type\":\"GlyphRenderer\"},{\"id\":\"f38186e3-589e-4721-9602-b5c13aa9b80f\",\"type\":\"GlyphRenderer\"},{\"id\":\"3c74e7c1-c7fe-4a2d-8b41-10392fd34bfe\",\"type\":\"GlyphRenderer\"},{\"id\":\"0527c4e4-287f-4a9f-982b-77ab0af7f3b4\",\"type\":\"GlyphRenderer\"}],\"title\":{\"id\":\"c3c46f30-4bc5-4587-a06d-9fd38fc33e3c\",\"type\":\"Title\"},\"toolbar\":{\"id\":\"81487e12-1bce-4645-925b-e8b9969b0bc0\",\"type\":\"Toolbar\"},\"x_range\":{\"id\":\"74af1d65-33a4-4d67-9579-9e9790e9dfaf\",\"type\":\"Range1d\"},\"x_scale\":{\"id\":\"aaa4a318-a2de-444f-82d3-8d0aff64e4e5\",\"type\":\"LinearScale\"},\"y_range\":{\"id\":\"aafd9f50-8cab-4df1-93c4-67804ff84d67\",\"type\":\"Range1d\"},\"y_scale\":{\"id\":\"721d72e6-7f84-41be-92a5-21b657b36980\",\"type\":\"LinearScale\"}},\"id\":\"1db98424-0aae-4465-a3fc-3d3b8bce7b58\",\"subtype\":\"Figure\",\"type\":\"Plot\"},{\"attributes\":{},\"id\":\"6e2b51cb-463a-4485-a592-a42707eea8a7\",\"type\":\"HelpTool\"},{\"attributes\":{\"data_source\":{\"id\":\"ffdca926-58b3-41e8-a020-e70cacea8617\",\"type\":\"ColumnDataSource\"},\"glyph\":{\"id\":\"e400dd9f-5be5-41e2-8309-d70183747dca\",\"type\":\"Cross\"},\"hover_glyph\":null,\"muted_glyph\":null,\"nonselection_glyph\":{\"id\":\"8db3bc54-04d8-47d9-a88b-5cd11f52fe36\",\"type\":\"Cross\"},\"selection_glyph\":null,\"view\":{\"id\":\"3a3dd819-a426-4147-931c-719316f8c12e\",\"type\":\"CDSView\"}},\"id\":\"3c74e7c1-c7fe-4a2d-8b41-10392fd34bfe\",\"type\":\"GlyphRenderer\"},{\"attributes\":{},\"id\":\"2cca76ad-6d9a-4b45-a7c7-b20f40501b55\",\"type\":\"BasicTicker\"},{\"attributes\":{\"angle\":{\"units\":\"rad\",\"value\":-1.5707963267948966},\"fill_alpha\":{\"value\":0.25},\"fill_color\":{\"value\":\"red\"},\"height\":{\"units\":\"data\",\"value\":5.441770076751709},\"line_alpha\":{\"value\":0.25},\"line_color\":{\"value\":\"red\"},\"width\":{\"units\":\"data\",\"value\":3.5227255821228027},\"x\":{\"value\":-1.7596466541290283},\"y\":{\"value\":3.8472800254821777}},\"id\":\"29ba038b-52e5-4bea-8fd2-ddafc5d87262\",\"type\":\"Ellipse\"},{\"attributes\":{\"fill_alpha\":{\"value\":0.1},\"fill_color\":{\"value\":\"#1f77b4\"},\"line_alpha\":{\"value\":0.1},\"line_color\":{\"value\":\"#1f77b4\"},\"x\":{\"value\":-1.759658694267273},\"y\":{\"value\":3.84726881980896}},\"id\":\"8db3bc54-04d8-47d9-a88b-5cd11f52fe36\",\"type\":\"Cross\"},{\"attributes\":{\"angle\":{\"units\":\"rad\",\"value\":-1.5707963267948966},\"fill_alpha\":{\"value\":0.5},\"fill_color\":{\"value\":\"red\"},\"height\":{\"units\":\"data\",\"value\":2.7208850383758545},\"line_alpha\":{\"value\":0.5},\"line_color\":{\"value\":\"red\"},\"width\":{\"units\":\"data\",\"value\":1.7613627910614014},\"x\":{\"value\":-1.7596466541290283},\"y\":{\"value\":3.8472800254821777}},\"id\":\"3f074119-9c5a-426d-9cc4-04db4bf6f4e4\",\"type\":\"Ellipse\"},{\"attributes\":{\"source\":{\"id\":\"ffdca926-58b3-41e8-a020-e70cacea8617\",\"type\":\"ColumnDataSource\"}},\"id\":\"3a3dd819-a426-4147-931c-719316f8c12e\",\"type\":\"CDSView\"},{\"attributes\":{\"formatter\":{\"id\":\"7a294768-aa4f-427a-a6bf-5e1d90d59f9f\",\"type\":\"BasicTickFormatter\"},\"plot\":{\"id\":\"1db98424-0aae-4465-a3fc-3d3b8bce7b58\",\"subtype\":\"Figure\",\"type\":\"Plot\"},\"ticker\":{\"id\":\"daf89952-7719-483e-93c8-f51b663cd669\",\"type\":\"BasicTicker\"}},\"id\":\"b1f0ccba-43a0-4b25-92af-dd390a3516f8\",\"type\":\"LinearAxis\"},{\"attributes\":{},\"id\":\"daf89952-7719-483e-93c8-f51b663cd669\",\"type\":\"BasicTicker\"},{\"attributes\":{},\"id\":\"721d72e6-7f84-41be-92a5-21b657b36980\",\"type\":\"LinearScale\"},{\"attributes\":{\"fill_alpha\":{\"value\":0.1},\"fill_color\":{\"value\":\"#1f77b4\"},\"line_alpha\":{\"value\":0.1},\"line_color\":{\"value\":\"#1f77b4\"},\"x\":{\"value\":-1.7596466541290283},\"y\":{\"value\":3.8472800254821777}},\"id\":\"0f58d24f-46a5-4b1e-974b-c9a510a4f16a\",\"type\":\"Cross\"},{\"attributes\":{\"source\":{\"id\":\"3f5668e0-007a-4dfc-b85d-0d8c2e27d526\",\"type\":\"ColumnDataSource\"}},\"id\":\"778f3b6a-7420-4fcc-9823-421ff76ecf2a\",\"type\":\"CDSView\"},{\"attributes\":{\"plot\":{\"id\":\"1db98424-0aae-4465-a3fc-3d3b8bce7b58\",\"subtype\":\"Figure\",\"type\":\"Plot\"},\"ticker\":{\"id\":\"daf89952-7719-483e-93c8-f51b663cd669\",\"type\":\"BasicTicker\"}},\"id\":\"d63b5e51-e83d-44f3-97a8-7d435a791ef1\",\"type\":\"Grid\"},{\"attributes\":{\"angle\":{\"units\":\"rad\",\"value\":-1.5707963267948966},\"fill_alpha\":{\"value\":0.1},\"fill_color\":{\"value\":\"#1f77b4\"},\"height\":{\"units\":\"data\",\"value\":2.7208850383758545},\"line_alpha\":{\"value\":0.1},\"line_color\":{\"value\":\"#1f77b4\"},\"width\":{\"units\":\"data\",\"value\":1.7613627910614014},\"x\":{\"value\":-1.7596466541290283},\"y\":{\"value\":3.8472800254821777}},\"id\":\"b5535875-d4d2-46e8-92f2-4d9625757a29\",\"type\":\"Ellipse\"},{\"attributes\":{\"formatter\":{\"id\":\"34f2940d-dc38-403d-8dd0-36564ee794a1\",\"type\":\"BasicTickFormatter\"},\"plot\":{\"id\":\"1db98424-0aae-4465-a3fc-3d3b8bce7b58\",\"subtype\":\"Figure\",\"type\":\"Plot\"},\"ticker\":{\"id\":\"2cca76ad-6d9a-4b45-a7c7-b20f40501b55\",\"type\":\"BasicTicker\"}},\"id\":\"0bbaff25-07de-4de7-8597-148726cdc556\",\"type\":\"LinearAxis\"},{\"attributes\":{\"angle\":{\"units\":\"rad\",\"value\":-1.5707963267948966},\"fill_alpha\":{\"value\":0.1},\"fill_color\":{\"value\":\"#1f77b4\"},\"height\":{\"units\":\"data\",\"value\":5.441770076751709},\"line_alpha\":{\"value\":0.1},\"line_color\":{\"value\":\"#1f77b4\"},\"width\":{\"units\":\"data\",\"value\":3.5227255821228027},\"x\":{\"value\":-1.7596466541290283},\"y\":{\"value\":3.8472800254821777}},\"id\":\"e766cfbf-81f5-4915-8765-8178daaca7f6\",\"type\":\"Ellipse\"},{\"attributes\":{\"source\":{\"id\":\"6116dc7d-6918-4641-99e3-1a60f5543873\",\"type\":\"ColumnDataSource\"}},\"id\":\"4b88ceb7-5305-43dc-bc3f-8ef45a6da1a1\",\"type\":\"CDSView\"},{\"attributes\":{\"data_source\":{\"id\":\"8cfd5392-82a1-4ac7-bafe-e29b005a18d1\",\"type\":\"ColumnDataSource\"},\"glyph\":{\"id\":\"3f074119-9c5a-426d-9cc4-04db4bf6f4e4\",\"type\":\"Ellipse\"},\"hover_glyph\":null,\"muted_glyph\":null,\"nonselection_glyph\":{\"id\":\"b5535875-d4d2-46e8-92f2-4d9625757a29\",\"type\":\"Ellipse\"},\"selection_glyph\":null,\"view\":{\"id\":\"3114723e-ddf4-413f-8697-b3e9ceffbeea\",\"type\":\"CDSView\"}},\"id\":\"40e44ed5-40cb-4b24-b0f4-46b059995d6e\",\"type\":\"GlyphRenderer\"},{\"attributes\":{\"data_source\":{\"id\":\"48ba094e-47c1-4ada-ac97-a99c74708154\",\"type\":\"ColumnDataSource\"},\"glyph\":{\"id\":\"29ba038b-52e5-4bea-8fd2-ddafc5d87262\",\"type\":\"Ellipse\"},\"hover_glyph\":null,\"muted_glyph\":null,\"nonselection_glyph\":{\"id\":\"e766cfbf-81f5-4915-8765-8178daaca7f6\",\"type\":\"Ellipse\"},\"selection_glyph\":null,\"view\":{\"id\":\"fcea4211-3f06-4e0b-9bd5-6f815b0b0934\",\"type\":\"CDSView\"}},\"id\":\"8c5ca267-e72b-46b8-9a3c-9d2b8e73fb63\",\"type\":\"GlyphRenderer\"},{\"attributes\":{\"fill_alpha\":{\"value\":0.5},\"fill_color\":{\"value\":\"red\"},\"line_alpha\":{\"value\":0.5},\"line_color\":{\"value\":\"red\"},\"x\":{\"value\":-1.7596466541290283},\"y\":{\"value\":3.8472800254821777}},\"id\":\"779e7d16-39ed-4a38-9465-af22040986b5\",\"type\":\"Cross\"},{\"attributes\":{\"callback\":null,\"data\":{}},\"id\":\"8cfd5392-82a1-4ac7-bafe-e29b005a18d1\",\"type\":\"ColumnDataSource\"},{\"attributes\":{\"data_source\":{\"id\":\"6116dc7d-6918-4641-99e3-1a60f5543873\",\"type\":\"ColumnDataSource\"},\"glyph\":{\"id\":\"779e7d16-39ed-4a38-9465-af22040986b5\",\"type\":\"Cross\"},\"hover_glyph\":null,\"muted_glyph\":null,\"nonselection_glyph\":{\"id\":\"0f58d24f-46a5-4b1e-974b-c9a510a4f16a\",\"type\":\"Cross\"},\"selection_glyph\":null,\"view\":{\"id\":\"4b88ceb7-5305-43dc-bc3f-8ef45a6da1a1\",\"type\":\"CDSView\"}},\"id\":\"951e3b0d-f5c2-4d03-939b-ff4cf45cb097\",\"type\":\"GlyphRenderer\"},{\"attributes\":{\"source\":{\"id\":\"48ba094e-47c1-4ada-ac97-a99c74708154\",\"type\":\"ColumnDataSource\"}},\"id\":\"fcea4211-3f06-4e0b-9bd5-6f815b0b0934\",\"type\":\"CDSView\"}],\"root_ids\":[\"1db98424-0aae-4465-a3fc-3d3b8bce7b58\"]},\"title\":\"Bokeh Application\",\"version\":\"0.12.14\"}};\n",
       "  var render_items = [{\"docid\":\"37d5a1e4-09cd-44cf-baeb-962ac27140d7\",\"elementid\":\"afa75de1-c81d-435b-bd2e-67b11578f451\",\"modelid\":\"1db98424-0aae-4465-a3fc-3d3b8bce7b58\"}];\n",
       "  root.Bokeh.embed.embed_items_notebook(docs_json, render_items);\n",
       "\n",
       "  }\n",
       "  if (root.Bokeh !== undefined) {\n",
       "    embed_document(root);\n",
       "  } else {\n",
       "    var attempts = 0;\n",
       "    var timer = setInterval(function(root) {\n",
       "      if (root.Bokeh !== undefined) {\n",
       "        embed_document(root);\n",
       "        clearInterval(timer);\n",
       "      }\n",
       "      attempts++;\n",
       "      if (attempts > 100) {\n",
       "        console.log(\"Bokeh: ERROR: Unable to run BokehJS code because BokehJS library is missing\")\n",
       "        clearInterval(timer);\n",
       "      }\n",
       "    }, 10, root)\n",
       "  }\n",
       "})(window);"
      ],
      "application/vnd.bokehjs_exec.v0+json": ""
     },
     "metadata": {
      "application/vnd.bokehjs_exec.v0+json": {
       "id": "1db98424-0aae-4465-a3fc-3d3b8bce7b58"
      }
     },
     "output_type": "display_data"
    }
   ],
   "source": [
    "# Training.\n",
    "beer.train_loglinear_model(normal_diag, torch.from_numpy(data).float())\n",
    "beer.train_loglinear_model(normal_full, torch.from_numpy(data).float())\n",
    "\n",
    "fig = figure(\n",
    "    title='Initial model',\n",
    "    width=400,\n",
    "    height=400,\n",
    "    x_range=(mean[0] - 5, mean[0] + 5),\n",
    "    y_range=(mean[1] - 5, mean[1] + 5)\n",
    ")\n",
    "fig.circle(data[:, 0], data[:, 1])\n",
    "plotting.plot_normal(fig, normal_diag.mean.numpy(), normal_diag.cov.numpy(), alpha=.5, color='red')\n",
    "plotting.plot_normal(fig, normal_full.mean.numpy(), normal_full.cov.numpy(), alpha=.5, color='green')\n",
    "\n",
    "show(fig)"
   ]
  },
  {
   "cell_type": "code",
   "execution_count": 5,
   "metadata": {},
   "outputs": [
    {
     "name": "stderr",
     "output_type": "stream",
     "text": [
      "/Users/lucasondel/anaconda3/envs/pytorch_src/lib/python3.6/site-packages/bokeh/core/json_encoder.py:80: FutureWarning: Conversion of the second argument of issubdtype from `float` to `np.floating` is deprecated. In future, it will be treated as `np.float64 == np.dtype(float).type`.\n",
      "  elif np.issubdtype(type(obj), np.float):\n"
     ]
    },
    {
     "data": {
      "text/html": [
       "\n",
       "<div class=\"bk-root\">\n",
       "    <div class=\"bk-plotdiv\" id=\"69710fa5-1803-4e28-8155-4ffd6193d704\"></div>\n",
       "</div>"
      ]
     },
     "metadata": {},
     "output_type": "display_data"
    },
    {
     "data": {
      "application/javascript": [
       "(function(root) {\n",
       "  function embed_document(root) {\n",
       "    \n",
       "  var docs_json = {\"74016eab-8884-4569-857c-89756293f100\":{\"roots\":{\"references\":[{\"attributes\":{\"data_source\":{\"id\":\"03ba32d6-0ee7-499c-9b5f-c948982de397\",\"type\":\"ColumnDataSource\"},\"glyph\":{\"id\":\"22c35139-de7a-42de-8779-95ecb510c8ff\",\"type\":\"Circle\"},\"hover_glyph\":null,\"muted_glyph\":null,\"nonselection_glyph\":{\"id\":\"99664b9e-e941-4b34-8758-4f6bcf807fcf\",\"type\":\"Circle\"},\"selection_glyph\":null,\"view\":{\"id\":\"03e3c8e6-09ac-4c53-8c75-52313370f466\",\"type\":\"CDSView\"}},\"id\":\"e66399e9-2f99-4012-9d41-0fb491997ff5\",\"type\":\"GlyphRenderer\"},{\"attributes\":{},\"id\":\"01a78cda-e9af-4379-bae9-3af186fbcdcc\",\"type\":\"BasicTicker\"},{\"attributes\":{},\"id\":\"3c2fe401-fad2-4b0b-a0eb-e23b2f037f87\",\"type\":\"LinearScale\"},{\"attributes\":{\"formatter\":{\"id\":\"4f28f23f-db8c-4a37-b6df-c4ff99c07bd5\",\"type\":\"BasicTickFormatter\"},\"plot\":{\"id\":\"041fd98a-4c12-495f-88d8-0a276b673db5\",\"subtype\":\"Figure\",\"type\":\"Plot\"},\"ticker\":{\"id\":\"d067c43f-20a2-4462-adaf-4e3523d1a1ac\",\"type\":\"BasicTicker\"}},\"id\":\"3ccd71fc-4c31-4413-ab34-7952be73ff6c\",\"type\":\"LinearAxis\"},{\"attributes\":{},\"id\":\"77f2934c-7e44-494c-977b-68c8ff2f321d\",\"type\":\"BasicTickFormatter\"},{\"attributes\":{},\"id\":\"3eb4edef-11f3-4b2d-9b29-7a958baded24\",\"type\":\"WheelZoomTool\"},{\"attributes\":{},\"id\":\"e2b8e2db-61ed-4c91-9fb9-20cc2964be94\",\"type\":\"LinearScale\"},{\"attributes\":{\"formatter\":{\"id\":\"77f2934c-7e44-494c-977b-68c8ff2f321d\",\"type\":\"BasicTickFormatter\"},\"plot\":{\"id\":\"041fd98a-4c12-495f-88d8-0a276b673db5\",\"subtype\":\"Figure\",\"type\":\"Plot\"},\"ticker\":{\"id\":\"01a78cda-e9af-4379-bae9-3af186fbcdcc\",\"type\":\"BasicTicker\"}},\"id\":\"bbc87499-9e70-429b-8d94-776ca4e501da\",\"type\":\"LinearAxis\"},{\"attributes\":{\"plot\":{\"id\":\"041fd98a-4c12-495f-88d8-0a276b673db5\",\"subtype\":\"Figure\",\"type\":\"Plot\"},\"ticker\":{\"id\":\"01a78cda-e9af-4379-bae9-3af186fbcdcc\",\"type\":\"BasicTicker\"}},\"id\":\"c9f4c577-72ce-43e8-adfe-9c0557eaed43\",\"type\":\"Grid\"},{\"attributes\":{\"below\":[{\"id\":\"bbc87499-9e70-429b-8d94-776ca4e501da\",\"type\":\"LinearAxis\"}],\"left\":[{\"id\":\"3ccd71fc-4c31-4413-ab34-7952be73ff6c\",\"type\":\"LinearAxis\"}],\"plot_height\":400,\"plot_width\":400,\"renderers\":[{\"id\":\"bbc87499-9e70-429b-8d94-776ca4e501da\",\"type\":\"LinearAxis\"},{\"id\":\"c9f4c577-72ce-43e8-adfe-9c0557eaed43\",\"type\":\"Grid\"},{\"id\":\"3ccd71fc-4c31-4413-ab34-7952be73ff6c\",\"type\":\"LinearAxis\"},{\"id\":\"8ceb1913-fdcf-4abc-a5bc-0c9e307d615e\",\"type\":\"Grid\"},{\"id\":\"3c655321-fac8-4743-b88c-0160110f12ff\",\"type\":\"BoxAnnotation\"},{\"id\":\"e66399e9-2f99-4012-9d41-0fb491997ff5\",\"type\":\"GlyphRenderer\"},{\"id\":\"dfe627f3-bfba-4a3d-8673-10a578b87bfe\",\"type\":\"GlyphRenderer\"},{\"id\":\"fe899ce1-5e49-4e6f-945e-a0bb8768fd1c\",\"type\":\"GlyphRenderer\"},{\"id\":\"eb849dfd-d3e7-4103-ae4a-f8827aa08def\",\"type\":\"GlyphRenderer\"},{\"id\":\"88d25c54-e526-4a88-8d7d-4356a7747762\",\"type\":\"GlyphRenderer\"},{\"id\":\"dae093ed-ef51-4ad3-844d-266ed28c808b\",\"type\":\"GlyphRenderer\"},{\"id\":\"9213c08b-a1e3-43a8-9bba-e28fe791b16a\",\"type\":\"GlyphRenderer\"},{\"id\":\"512803d9-b576-4a56-a692-9be3b525f439\",\"type\":\"GlyphRenderer\"},{\"id\":\"5ea1ccf6-f315-4cd0-bd15-89bc4f0ae0b9\",\"type\":\"GlyphRenderer\"},{\"id\":\"e26df57c-aaaa-4406-b80c-f75acfa719ba\",\"type\":\"GlyphRenderer\"}],\"title\":{\"id\":\"d032e4db-4112-494f-a26a-148d257199c5\",\"type\":\"Title\"},\"toolbar\":{\"id\":\"4d57a7d4-2a85-4a49-acf1-a3798eba5717\",\"type\":\"Toolbar\"},\"x_range\":{\"id\":\"b20f03a8-6a67-4b6d-a9ab-4dfbb9117aac\",\"type\":\"Range1d\"},\"x_scale\":{\"id\":\"3c2fe401-fad2-4b0b-a0eb-e23b2f037f87\",\"type\":\"LinearScale\"},\"y_range\":{\"id\":\"7dc31aa1-b5a5-4e7e-918a-2d349d217196\",\"type\":\"Range1d\"},\"y_scale\":{\"id\":\"e2b8e2db-61ed-4c91-9fb9-20cc2964be94\",\"type\":\"LinearScale\"}},\"id\":\"041fd98a-4c12-495f-88d8-0a276b673db5\",\"subtype\":\"Figure\",\"type\":\"Plot\"},{\"attributes\":{\"source\":{\"id\":\"03ba32d6-0ee7-499c-9b5f-c948982de397\",\"type\":\"ColumnDataSource\"}},\"id\":\"03e3c8e6-09ac-4c53-8c75-52313370f466\",\"type\":\"CDSView\"},{\"attributes\":{},\"id\":\"d067c43f-20a2-4462-adaf-4e3523d1a1ac\",\"type\":\"BasicTicker\"},{\"attributes\":{\"bottom_units\":\"screen\",\"fill_alpha\":{\"value\":0.5},\"fill_color\":{\"value\":\"lightgrey\"},\"left_units\":\"screen\",\"level\":\"overlay\",\"line_alpha\":{\"value\":1.0},\"line_color\":{\"value\":\"black\"},\"line_dash\":[4,4],\"line_width\":{\"value\":2},\"plot\":null,\"render_mode\":\"css\",\"right_units\":\"screen\",\"top_units\":\"screen\"},\"id\":\"3c655321-fac8-4743-b88c-0160110f12ff\",\"type\":\"BoxAnnotation\"},{\"attributes\":{\"active_drag\":\"auto\",\"active_inspect\":\"auto\",\"active_scroll\":\"auto\",\"active_tap\":\"auto\",\"tools\":[{\"id\":\"bb42bd76-647e-4d59-aed8-2e77531f1adb\",\"type\":\"PanTool\"},{\"id\":\"3eb4edef-11f3-4b2d-9b29-7a958baded24\",\"type\":\"WheelZoomTool\"},{\"id\":\"d0d2c4ee-e0b2-4bac-8e6d-04aba850b233\",\"type\":\"BoxZoomTool\"},{\"id\":\"f83b0cbb-994f-4171-9466-33a1c85b0df7\",\"type\":\"SaveTool\"},{\"id\":\"6c804e33-45b2-4b30-8b36-690aeea06f4d\",\"type\":\"ResetTool\"},{\"id\":\"2243d339-a442-4b20-875f-b5d59ce87121\",\"type\":\"HelpTool\"}]},\"id\":\"4d57a7d4-2a85-4a49-acf1-a3798eba5717\",\"type\":\"Toolbar\"},{\"attributes\":{},\"id\":\"4f28f23f-db8c-4a37-b6df-c4ff99c07bd5\",\"type\":\"BasicTickFormatter\"},{\"attributes\":{\"fill_alpha\":{\"value\":0.1},\"fill_color\":{\"value\":\"#1f77b4\"},\"line_alpha\":{\"value\":0.1},\"line_color\":{\"value\":\"#1f77b4\"},\"x\":{\"field\":\"x\"},\"y\":{\"field\":\"y\"}},\"id\":\"99664b9e-e941-4b34-8758-4f6bcf807fcf\",\"type\":\"Circle\"},{\"attributes\":{\"data_source\":{\"id\":\"d2a62457-5e97-47d4-b6ec-a2cc21cef636\",\"type\":\"ColumnDataSource\"},\"glyph\":{\"id\":\"501e13ef-fef4-41b8-a33e-791aacaf9ee0\",\"type\":\"Cross\"},\"hover_glyph\":null,\"muted_glyph\":null,\"nonselection_glyph\":{\"id\":\"a18be32a-b1c3-41bb-8787-88d71af09cd7\",\"type\":\"Cross\"},\"selection_glyph\":null,\"view\":{\"id\":\"c6d15910-816a-477c-9afe-531b4ca7fc03\",\"type\":\"CDSView\"}},\"id\":\"dae093ed-ef51-4ad3-844d-266ed28c808b\",\"type\":\"GlyphRenderer\"},{\"attributes\":{\"dimension\":1,\"plot\":{\"id\":\"041fd98a-4c12-495f-88d8-0a276b673db5\",\"subtype\":\"Figure\",\"type\":\"Plot\"},\"ticker\":{\"id\":\"d067c43f-20a2-4462-adaf-4e3523d1a1ac\",\"type\":\"BasicTicker\"}},\"id\":\"8ceb1913-fdcf-4abc-a5bc-0c9e307d615e\",\"type\":\"Grid\"},{\"attributes\":{\"callback\":null,\"end\":3.5,\"start\":-6.5},\"id\":\"b20f03a8-6a67-4b6d-a9ab-4dfbb9117aac\",\"type\":\"Range1d\"},{\"attributes\":{\"callback\":null,\"data\":{}},\"id\":\"beb38e10-5ebd-43f0-84ab-8c29a11fdc24\",\"type\":\"ColumnDataSource\"},{\"attributes\":{\"fill_alpha\":{\"value\":0.5},\"fill_color\":{\"value\":\"blue\"},\"line_alpha\":{\"value\":0.5},\"line_color\":{\"value\":\"blue\"},\"x\":{\"value\":-1.7596466541290283},\"y\":{\"value\":3.8472800254821777}},\"id\":\"8c7d0967-9597-46d8-ae64-d7ddac3e7393\",\"type\":\"Cross\"},{\"attributes\":{\"angle\":{\"units\":\"rad\",\"value\":-1.5707963267948966},\"fill_alpha\":{\"value\":0.1},\"fill_color\":{\"value\":\"#1f77b4\"},\"height\":{\"units\":\"data\",\"value\":5.441770076751709},\"line_alpha\":{\"value\":0.1},\"line_color\":{\"value\":\"#1f77b4\"},\"width\":{\"units\":\"data\",\"value\":3.5227255821228027},\"x\":{\"value\":-1.7596466541290283},\"y\":{\"value\":3.8472800254821777}},\"id\":\"db02c342-8706-430d-ae2d-534d3d36fd5e\",\"type\":\"Ellipse\"},{\"attributes\":{},\"id\":\"2243d339-a442-4b20-875f-b5d59ce87121\",\"type\":\"HelpTool\"},{\"attributes\":{},\"id\":\"6c804e33-45b2-4b30-8b36-690aeea06f4d\",\"type\":\"ResetTool\"},{\"attributes\":{},\"id\":\"f83b0cbb-994f-4171-9466-33a1c85b0df7\",\"type\":\"SaveTool\"},{\"attributes\":{\"overlay\":{\"id\":\"3c655321-fac8-4743-b88c-0160110f12ff\",\"type\":\"BoxAnnotation\"}},\"id\":\"d0d2c4ee-e0b2-4bac-8e6d-04aba850b233\",\"type\":\"BoxZoomTool\"},{\"attributes\":{\"angle\":{\"units\":\"rad\",\"value\":-1.5707963267948966},\"fill_alpha\":{\"value\":0.25},\"fill_color\":{\"value\":\"blue\"},\"height\":{\"units\":\"data\",\"value\":5.441770076751709},\"line_alpha\":{\"value\":0.25},\"line_color\":{\"value\":\"blue\"},\"width\":{\"units\":\"data\",\"value\":3.5227255821228027},\"x\":{\"value\":-1.7596466541290283},\"y\":{\"value\":3.8472800254821777}},\"id\":\"b4361a2b-d6ae-42ef-9dc3-9961a0881422\",\"type\":\"Ellipse\"},{\"attributes\":{\"data_source\":{\"id\":\"beb38e10-5ebd-43f0-84ab-8c29a11fdc24\",\"type\":\"ColumnDataSource\"},\"glyph\":{\"id\":\"b4361a2b-d6ae-42ef-9dc3-9961a0881422\",\"type\":\"Ellipse\"},\"hover_glyph\":null,\"muted_glyph\":null,\"nonselection_glyph\":{\"id\":\"db02c342-8706-430d-ae2d-534d3d36fd5e\",\"type\":\"Ellipse\"},\"selection_glyph\":null,\"view\":{\"id\":\"41900ea9-e808-4b89-8b20-f7fd76695bff\",\"type\":\"CDSView\"}},\"id\":\"dfe627f3-bfba-4a3d-8673-10a578b87bfe\",\"type\":\"GlyphRenderer\"},{\"attributes\":{},\"id\":\"bb42bd76-647e-4d59-aed8-2e77531f1adb\",\"type\":\"PanTool\"},{\"attributes\":{\"callback\":null,\"data\":{}},\"id\":\"a761f5db-7808-4f5b-8a9c-d783aecec9df\",\"type\":\"ColumnDataSource\"},{\"attributes\":{\"angle\":{\"units\":\"rad\",\"value\":-1.5707963267948966},\"fill_alpha\":{\"value\":0.5},\"fill_color\":{\"value\":\"blue\"},\"height\":{\"units\":\"data\",\"value\":2.7208850383758545},\"line_alpha\":{\"value\":0.5},\"line_color\":{\"value\":\"blue\"},\"width\":{\"units\":\"data\",\"value\":1.7613627910614014},\"x\":{\"value\":-1.7596466541290283},\"y\":{\"value\":3.8472800254821777}},\"id\":\"b017a974-baa9-4c08-bbf7-16dd30fead3d\",\"type\":\"Ellipse\"},{\"attributes\":{\"fill_alpha\":{\"value\":0.1},\"fill_color\":{\"value\":\"#1f77b4\"},\"line_alpha\":{\"value\":0.1},\"line_color\":{\"value\":\"#1f77b4\"},\"x\":{\"value\":-1.7596466541290283},\"y\":{\"value\":3.8472800254821777}},\"id\":\"8e0c5944-581f-453d-8e3c-49ab38bcf9f0\",\"type\":\"Cross\"},{\"attributes\":{\"data_source\":{\"id\":\"32f94fb6-aeb3-4de5-8da3-7774f6d1cb2e\",\"type\":\"ColumnDataSource\"},\"glyph\":{\"id\":\"8c7d0967-9597-46d8-ae64-d7ddac3e7393\",\"type\":\"Cross\"},\"hover_glyph\":null,\"muted_glyph\":null,\"nonselection_glyph\":{\"id\":\"8e0c5944-581f-453d-8e3c-49ab38bcf9f0\",\"type\":\"Cross\"},\"selection_glyph\":null,\"view\":{\"id\":\"f8799502-e198-47af-874c-4b57ae621ed6\",\"type\":\"CDSView\"}},\"id\":\"fe899ce1-5e49-4e6f-945e-a0bb8768fd1c\",\"type\":\"GlyphRenderer\"},{\"attributes\":{\"callback\":null,\"data\":{}},\"id\":\"139446a9-a892-4564-8ecb-b5dce73575d6\",\"type\":\"ColumnDataSource\"},{\"attributes\":{\"callback\":null,\"data\":{}},\"id\":\"32f94fb6-aeb3-4de5-8da3-7774f6d1cb2e\",\"type\":\"ColumnDataSource\"},{\"attributes\":{\"source\":{\"id\":\"beb38e10-5ebd-43f0-84ab-8c29a11fdc24\",\"type\":\"ColumnDataSource\"}},\"id\":\"41900ea9-e808-4b89-8b20-f7fd76695bff\",\"type\":\"CDSView\"},{\"attributes\":{\"angle\":{\"units\":\"rad\",\"value\":-1.5707963267948966},\"fill_alpha\":{\"value\":0.25},\"fill_color\":{\"value\":\"red\"},\"height\":{\"units\":\"data\",\"value\":5.441770076751709},\"line_alpha\":{\"value\":0.25},\"line_color\":{\"value\":\"red\"},\"width\":{\"units\":\"data\",\"value\":3.522728204727173},\"x\":{\"value\":-0.3992041349411011},\"y\":{\"value\":4.727961540222168}},\"id\":\"6d032faa-3ffa-4d16-afb9-d10204ade0f1\",\"type\":\"Ellipse\"},{\"attributes\":{\"source\":{\"id\":\"32f94fb6-aeb3-4de5-8da3-7774f6d1cb2e\",\"type\":\"ColumnDataSource\"}},\"id\":\"f8799502-e198-47af-874c-4b57ae621ed6\",\"type\":\"CDSView\"},{\"attributes\":{\"data_source\":{\"id\":\"139446a9-a892-4564-8ecb-b5dce73575d6\",\"type\":\"ColumnDataSource\"},\"glyph\":{\"id\":\"b017a974-baa9-4c08-bbf7-16dd30fead3d\",\"type\":\"Ellipse\"},\"hover_glyph\":null,\"muted_glyph\":null,\"nonselection_glyph\":{\"id\":\"c4d83fdb-26de-4e5a-979c-9546e6249c7f\",\"type\":\"Ellipse\"},\"selection_glyph\":null,\"view\":{\"id\":\"583150e3-79f3-43c2-889a-84f88675e9c4\",\"type\":\"CDSView\"}},\"id\":\"eb849dfd-d3e7-4103-ae4a-f8827aa08def\",\"type\":\"GlyphRenderer\"},{\"attributes\":{\"callback\":null,\"data\":{}},\"id\":\"2b59c403-aa69-4181-8147-baf196fe6e9d\",\"type\":\"ColumnDataSource\"},{\"attributes\":{\"angle\":{\"units\":\"rad\",\"value\":-1.5707963267948966},\"fill_alpha\":{\"value\":0.5},\"fill_color\":{\"value\":\"red\"},\"height\":{\"units\":\"data\",\"value\":2.7208850383758545},\"line_alpha\":{\"value\":0.5},\"line_color\":{\"value\":\"red\"},\"width\":{\"units\":\"data\",\"value\":1.7613641023635864},\"x\":{\"value\":-0.3992041349411011},\"y\":{\"value\":4.727961540222168}},\"id\":\"b83670ca-6633-4873-8365-a39e7ac37a6b\",\"type\":\"Ellipse\"},{\"attributes\":{\"angle\":{\"units\":\"rad\",\"value\":-1.5707963267948966},\"fill_alpha\":{\"value\":0.1},\"fill_color\":{\"value\":\"#1f77b4\"},\"height\":{\"units\":\"data\",\"value\":2.7208850383758545},\"line_alpha\":{\"value\":0.1},\"line_color\":{\"value\":\"#1f77b4\"},\"width\":{\"units\":\"data\",\"value\":1.7613627910614014},\"x\":{\"value\":-1.7596466541290283},\"y\":{\"value\":3.8472800254821777}},\"id\":\"c4d83fdb-26de-4e5a-979c-9546e6249c7f\",\"type\":\"Ellipse\"},{\"attributes\":{\"source\":{\"id\":\"a761f5db-7808-4f5b-8a9c-d783aecec9df\",\"type\":\"ColumnDataSource\"}},\"id\":\"5f03f618-76c0-4d7d-b8cb-8f7ce84174d5\",\"type\":\"CDSView\"},{\"attributes\":{\"fill_alpha\":{\"value\":0.1},\"fill_color\":{\"value\":\"#1f77b4\"},\"line_alpha\":{\"value\":0.1},\"line_color\":{\"value\":\"#1f77b4\"},\"x\":{\"value\":-0.3992041349411011},\"y\":{\"value\":4.727961540222168}},\"id\":\"a18be32a-b1c3-41bb-8787-88d71af09cd7\",\"type\":\"Cross\"},{\"attributes\":{\"callback\":null,\"data\":{}},\"id\":\"d2a62457-5e97-47d4-b6ec-a2cc21cef636\",\"type\":\"ColumnDataSource\"},{\"attributes\":{\"fill_alpha\":{\"value\":0.5},\"fill_color\":{\"value\":\"red\"},\"line_alpha\":{\"value\":0.5},\"line_color\":{\"value\":\"red\"},\"x\":{\"value\":-0.3992041349411011},\"y\":{\"value\":4.727961540222168}},\"id\":\"501e13ef-fef4-41b8-a33e-791aacaf9ee0\",\"type\":\"Cross\"},{\"attributes\":{\"angle\":{\"units\":\"rad\",\"value\":-1.5707963267948966},\"fill_alpha\":{\"value\":0.1},\"fill_color\":{\"value\":\"#1f77b4\"},\"height\":{\"units\":\"data\",\"value\":5.441770076751709},\"line_alpha\":{\"value\":0.1},\"line_color\":{\"value\":\"#1f77b4\"},\"width\":{\"units\":\"data\",\"value\":3.522728204727173},\"x\":{\"value\":-0.3992041349411011},\"y\":{\"value\":4.727961540222168}},\"id\":\"ac782e72-1c28-4613-bb6f-c04d7694abf0\",\"type\":\"Ellipse\"},{\"attributes\":{\"data_source\":{\"id\":\"a761f5db-7808-4f5b-8a9c-d783aecec9df\",\"type\":\"ColumnDataSource\"},\"glyph\":{\"id\":\"6d032faa-3ffa-4d16-afb9-d10204ade0f1\",\"type\":\"Ellipse\"},\"hover_glyph\":null,\"muted_glyph\":null,\"nonselection_glyph\":{\"id\":\"ac782e72-1c28-4613-bb6f-c04d7694abf0\",\"type\":\"Ellipse\"},\"selection_glyph\":null,\"view\":{\"id\":\"5f03f618-76c0-4d7d-b8cb-8f7ce84174d5\",\"type\":\"CDSView\"}},\"id\":\"88d25c54-e526-4a88-8d7d-4356a7747762\",\"type\":\"GlyphRenderer\"},{\"attributes\":{\"angle\":{\"units\":\"rad\",\"value\":-1.5707963267948966},\"fill_alpha\":{\"value\":0.1},\"fill_color\":{\"value\":\"#1f77b4\"},\"height\":{\"units\":\"data\",\"value\":2.7208850383758545},\"line_alpha\":{\"value\":0.1},\"line_color\":{\"value\":\"#1f77b4\"},\"width\":{\"units\":\"data\",\"value\":1.7613641023635864},\"x\":{\"value\":-0.3992041349411011},\"y\":{\"value\":4.727961540222168}},\"id\":\"fe84d015-71c6-4a62-a41c-2df96d458101\",\"type\":\"Ellipse\"},{\"attributes\":{\"source\":{\"id\":\"139446a9-a892-4564-8ecb-b5dce73575d6\",\"type\":\"ColumnDataSource\"}},\"id\":\"583150e3-79f3-43c2-889a-84f88675e9c4\",\"type\":\"CDSView\"},{\"attributes\":{\"data_source\":{\"id\":\"b04760cc-54c5-4a60-8502-e8cd2e666f08\",\"type\":\"ColumnDataSource\"},\"glyph\":{\"id\":\"b83670ca-6633-4873-8365-a39e7ac37a6b\",\"type\":\"Ellipse\"},\"hover_glyph\":null,\"muted_glyph\":null,\"nonselection_glyph\":{\"id\":\"fe84d015-71c6-4a62-a41c-2df96d458101\",\"type\":\"Ellipse\"},\"selection_glyph\":null,\"view\":{\"id\":\"86e9acb4-5364-4f29-aa1b-07a19f611059\",\"type\":\"CDSView\"}},\"id\":\"9213c08b-a1e3-43a8-9bba-e28fe791b16a\",\"type\":\"GlyphRenderer\"},{\"attributes\":{\"source\":{\"id\":\"d2a62457-5e97-47d4-b6ec-a2cc21cef636\",\"type\":\"ColumnDataSource\"}},\"id\":\"c6d15910-816a-477c-9afe-531b4ca7fc03\",\"type\":\"CDSView\"},{\"attributes\":{\"callback\":null,\"data\":{}},\"id\":\"b04760cc-54c5-4a60-8502-e8cd2e666f08\",\"type\":\"ColumnDataSource\"},{\"attributes\":{\"angle\":{\"units\":\"rad\",\"value\":-1.5707963267948966},\"fill_alpha\":{\"value\":0.25},\"fill_color\":{\"value\":\"green\"},\"height\":{\"units\":\"data\",\"value\":5.441770076751709},\"line_alpha\":{\"value\":0.25},\"line_color\":{\"value\":\"green\"},\"width\":{\"units\":\"data\",\"value\":3.5227255821228027},\"x\":{\"value\":-3.120089054107666},\"y\":{\"value\":2.9665985107421875}},\"id\":\"1afdaf8b-9c27-451d-acde-baa8408242bd\",\"type\":\"Ellipse\"},{\"attributes\":{\"angle\":{\"units\":\"rad\",\"value\":-1.5707963267948966},\"fill_alpha\":{\"value\":0.1},\"fill_color\":{\"value\":\"#1f77b4\"},\"height\":{\"units\":\"data\",\"value\":5.441770076751709},\"line_alpha\":{\"value\":0.1},\"line_color\":{\"value\":\"#1f77b4\"},\"width\":{\"units\":\"data\",\"value\":3.5227255821228027},\"x\":{\"value\":-3.120089054107666},\"y\":{\"value\":2.9665985107421875}},\"id\":\"c0a3ae58-3153-4ac5-972d-45e68c183c57\",\"type\":\"Ellipse\"},{\"attributes\":{\"source\":{\"id\":\"f3d62041-1e67-428a-902a-a1c81eb4fa40\",\"type\":\"ColumnDataSource\"}},\"id\":\"b0b29434-1ead-419a-be6c-561ec83c6f56\",\"type\":\"CDSView\"},{\"attributes\":{\"data_source\":{\"id\":\"2b59c403-aa69-4181-8147-baf196fe6e9d\",\"type\":\"ColumnDataSource\"},\"glyph\":{\"id\":\"1afdaf8b-9c27-451d-acde-baa8408242bd\",\"type\":\"Ellipse\"},\"hover_glyph\":null,\"muted_glyph\":null,\"nonselection_glyph\":{\"id\":\"c0a3ae58-3153-4ac5-972d-45e68c183c57\",\"type\":\"Ellipse\"},\"selection_glyph\":null,\"view\":{\"id\":\"f4fb419e-daa6-4e33-aa87-0338e67c5c2b\",\"type\":\"CDSView\"}},\"id\":\"512803d9-b576-4a56-a692-9be3b525f439\",\"type\":\"GlyphRenderer\"},{\"attributes\":{\"source\":{\"id\":\"b04760cc-54c5-4a60-8502-e8cd2e666f08\",\"type\":\"ColumnDataSource\"}},\"id\":\"86e9acb4-5364-4f29-aa1b-07a19f611059\",\"type\":\"CDSView\"},{\"attributes\":{\"fill_alpha\":{\"value\":0.5},\"fill_color\":{\"value\":\"green\"},\"line_alpha\":{\"value\":0.5},\"line_color\":{\"value\":\"green\"},\"x\":{\"value\":-3.120089054107666},\"y\":{\"value\":2.9665985107421875}},\"id\":\"a9f38355-8ebf-4608-a05a-bee47816f23a\",\"type\":\"Cross\"},{\"attributes\":{\"source\":{\"id\":\"6d8014c8-7117-4648-9cb0-30ebaa1f432c\",\"type\":\"ColumnDataSource\"}},\"id\":\"baeb80c9-f8a2-4070-a13e-c1032ced06b3\",\"type\":\"CDSView\"},{\"attributes\":{\"fill_alpha\":{\"value\":0.1},\"fill_color\":{\"value\":\"#1f77b4\"},\"line_alpha\":{\"value\":0.1},\"line_color\":{\"value\":\"#1f77b4\"},\"x\":{\"value\":-3.120089054107666},\"y\":{\"value\":2.9665985107421875}},\"id\":\"fb55aa55-dd50-42ed-8406-bc4120fa5510\",\"type\":\"Cross\"},{\"attributes\":{\"data_source\":{\"id\":\"6d8014c8-7117-4648-9cb0-30ebaa1f432c\",\"type\":\"ColumnDataSource\"},\"glyph\":{\"id\":\"a9f38355-8ebf-4608-a05a-bee47816f23a\",\"type\":\"Cross\"},\"hover_glyph\":null,\"muted_glyph\":null,\"nonselection_glyph\":{\"id\":\"fb55aa55-dd50-42ed-8406-bc4120fa5510\",\"type\":\"Cross\"},\"selection_glyph\":null,\"view\":{\"id\":\"baeb80c9-f8a2-4070-a13e-c1032ced06b3\",\"type\":\"CDSView\"}},\"id\":\"5ea1ccf6-f315-4cd0-bd15-89bc4f0ae0b9\",\"type\":\"GlyphRenderer\"},{\"attributes\":{\"plot\":null,\"text\":\"Initial model\"},\"id\":\"d032e4db-4112-494f-a26a-148d257199c5\",\"type\":\"Title\"},{\"attributes\":{\"callback\":null,\"data\":{}},\"id\":\"f3d62041-1e67-428a-902a-a1c81eb4fa40\",\"type\":\"ColumnDataSource\"},{\"attributes\":{\"fill_color\":{\"value\":\"#1f77b4\"},\"line_color\":{\"value\":\"#1f77b4\"},\"x\":{\"field\":\"x\"},\"y\":{\"field\":\"y\"}},\"id\":\"22c35139-de7a-42de-8779-95ecb510c8ff\",\"type\":\"Circle\"},{\"attributes\":{\"angle\":{\"units\":\"rad\",\"value\":-1.5707963267948966},\"fill_alpha\":{\"value\":0.5},\"fill_color\":{\"value\":\"green\"},\"height\":{\"units\":\"data\",\"value\":2.7208850383758545},\"line_alpha\":{\"value\":0.5},\"line_color\":{\"value\":\"green\"},\"width\":{\"units\":\"data\",\"value\":1.7613627910614014},\"x\":{\"value\":-3.120089054107666},\"y\":{\"value\":2.9665985107421875}},\"id\":\"3f5deb2c-e0bd-42d4-94e1-7d331d014c96\",\"type\":\"Ellipse\"},{\"attributes\":{\"source\":{\"id\":\"2b59c403-aa69-4181-8147-baf196fe6e9d\",\"type\":\"ColumnDataSource\"}},\"id\":\"f4fb419e-daa6-4e33-aa87-0338e67c5c2b\",\"type\":\"CDSView\"},{\"attributes\":{\"callback\":null,\"data\":{}},\"id\":\"6d8014c8-7117-4648-9cb0-30ebaa1f432c\",\"type\":\"ColumnDataSource\"},{\"attributes\":{\"data_source\":{\"id\":\"f3d62041-1e67-428a-902a-a1c81eb4fa40\",\"type\":\"ColumnDataSource\"},\"glyph\":{\"id\":\"3f5deb2c-e0bd-42d4-94e1-7d331d014c96\",\"type\":\"Ellipse\"},\"hover_glyph\":null,\"muted_glyph\":null,\"nonselection_glyph\":{\"id\":\"50e89f4c-41bd-4046-affe-834560cc639c\",\"type\":\"Ellipse\"},\"selection_glyph\":null,\"view\":{\"id\":\"b0b29434-1ead-419a-be6c-561ec83c6f56\",\"type\":\"CDSView\"}},\"id\":\"e26df57c-aaaa-4406-b80c-f75acfa719ba\",\"type\":\"GlyphRenderer\"},{\"attributes\":{\"callback\":null,\"end\":9.0,\"start\":-1.0},\"id\":\"7dc31aa1-b5a5-4e7e-918a-2d349d217196\",\"type\":\"Range1d\"},{\"attributes\":{\"angle\":{\"units\":\"rad\",\"value\":-1.5707963267948966},\"fill_alpha\":{\"value\":0.1},\"fill_color\":{\"value\":\"#1f77b4\"},\"height\":{\"units\":\"data\",\"value\":2.7208850383758545},\"line_alpha\":{\"value\":0.1},\"line_color\":{\"value\":\"#1f77b4\"},\"width\":{\"units\":\"data\",\"value\":1.7613627910614014},\"x\":{\"value\":-3.120089054107666},\"y\":{\"value\":2.9665985107421875}},\"id\":\"50e89f4c-41bd-4046-affe-834560cc639c\",\"type\":\"Ellipse\"},{\"attributes\":{\"callback\":null,\"column_names\":[\"x\",\"y\"],\"data\":{\"x\":{\"__ndarray__\":\"lxgbr43F579LBX+RzhX8v1qiOAyonw/AgKRpHEWx578bpWf3Karxv0DIxVIYOaW/cA5yTiwUxj/xIziw2i7rv9otaE7irQfAtpN0bYQE77/Im63PgpYEwD3fiis3uue/y7nzmMgzBMAq9EX45AHwv+w3dGaj6xDAfapMc08IB8B93kEimD3tvy56eugU5APAk4YaHTBl7b8wHV30kdUCwDcDxm9oeQfADkhVDHm67L8mZ+o2kjL1v2jRkbv59ATA5oUBnTmc/78SbcUNuCQOwGEVQlbyLPO/QYN2fWVD9b8WaBjQYxTwP/SiKrDo4fK/LIercETACcAgJ0qEaJXBv3EpiIGOLPS/BMTesztiBMBGoRClx43ovyWd+dI5mva/mL0zPKPI9r//GrDQqIUMwGINhcLGUgTAWBSWwQR4EcC+XEih2GD2v+JRNF1F4ve/ZWFIQnq7+b82WU80tdEHwOCnVTEAgNO/wB9VYOiO2L/BXwNRtRDhv+P1Fb48UwDAQ05atiAeAMCBq7zAXNf7v+/nINQE6fe/V+ExanP2A8CpstWPzRzvv/Q/Eip6xQ3A1MpnehJaAcAWSY3NMTEBwKzpFZkFM9W/bKfc98ULEcA4oGXm5DjNP6K/C8u36ADAMRB5n7X+77/fy3IJkJsQwMi/WsJ/+v+/pjbD4QKu8b951DRsQxASwJDiw6I5UMY/WEf9Iqe/57++1CSj0QXxvzAHnueChNG/hq+htH5N+7/wVVeNhzXNv/QY7n2n89O/QOJKEO9F/7884m/pAzb3vw3/6HBhnQfAfupmZ1D2EcCJ1jnyFOsIwDoRRQ+/aRLA1bfywNswA8BY0Up+eDvMv7yF1KlrsPG/oEdpKBri7T8gtAYYn+TYP5DcC8in6Mm/hChtitvRCsCH5a3tWr/7v0Tw5L7lXALA4BspTSeSuL83vn/uNKz/v9hydGqrygHAljvmTg9yEcDs+eLJhtPwv9Kv9BTcuwnAgddmmv3JA8B4GjYVI8MJwNocTb9Bc+S/vhZTiQkoEcBSIT7c7AH5vztTaFWq9fm/np9b+aP88z8=\",\"dtype\":\"float64\",\"shape\":[100]},\"y\":{\"__ndarray__\":\"mc4lkuw7FEAHQp/sAH4QQBmjcbuBHARAWjYdULnoD0Ds5g3awgEUQKLTBdOX8xBAgkIJSOnLFUAbvUUcJ2cVQNgcD/iE7AhA8Lre4UUlE0CsIh8AJkwIQKD6v+LEeBFADx1uDzeMDUBmNcqCtN8QQOxPYTXoNAFAbmD/UcP3C0AqGA6z+k8MQFC4GgVMyxFAtKKeP3mcEkC2yDFHd7MJQO5XlHUcYAhAg3pGI+lPFEA/QjYADh0NQMfqPDZ2KQxA3FbfwudjCkDXfCj6ObwNQNXEeIgypBFAUYW+IyW9DkBLrsQ6ni4WQKtoHFFZlw1AgDLz04f+BUBBE7+ID8QSQE9ASzi5Tw5AVrwXMyvmBUBi/oa+zcgSQDG+zBJxOglAhk6eGYozEEDcgMLjK20GQDLdX1e16g1ACu796r8aAUCtDKkJdRsPQC540EGuvhBAroKefOtGDECv1juKpLwFQGK2pt7YNhRAk2CqRLvhE0A9PBrBlXgRQD4bkQ4pqQpASjN5ELaLB0BQ4syDYagPQBATOTc3lRFAnj9MbKniEEBnjjh2T/gSQA/cTc+9lAJAbCtcidNyDUAbtHkzJWYQQCwVyYXFrhNAnE95g4Vo/z9yedMataETQPPRa6ghcQpAm1f02J/QEEBttiR9Ng8CQPjJV6HBlwtAv7ZOBEjSDkCcZvqumvv9P+r8HCdHJBNA92BHSnEXEUBcuemml6AMQPgAF1jR9hFA2ZBIE+6QDUBdcDj8fm0UQFqbbR+ZWBNAh8941or4DUAgQQwozHsPQBCWGFXQeAhADWY2Jr9uEEAMWqhZy8YJQIw/xSzFsABATg1+n1kcCUCfdw0E16wQQA1gE3C7OBBANDfbOgd+FkB9rSArFmsTQBSMiBm5cxJAzDZF1qnWC0BqdsQI4B8OQK6VO2T9qwpAa+mEKR8qEEAXBNLTiLYRQI7UzE05RhJAXNaFsHvICUBcIwAEkQIPQAMnw8terQNAIkPuMPGqBkCV4IaMgHgFQL6ULup4hA9AnpOxeJ3GB0BVs/1d5t4QQHbfn+yRLA5AZVgNOohKF0A=\",\"dtype\":\"float64\",\"shape\":[100]}}},\"id\":\"03ba32d6-0ee7-499c-9b5f-c948982de397\",\"type\":\"ColumnDataSource\"}],\"root_ids\":[\"041fd98a-4c12-495f-88d8-0a276b673db5\"]},\"title\":\"Bokeh Application\",\"version\":\"0.12.14\"}};\n",
       "  var render_items = [{\"docid\":\"74016eab-8884-4569-857c-89756293f100\",\"elementid\":\"69710fa5-1803-4e28-8155-4ffd6193d704\",\"modelid\":\"041fd98a-4c12-495f-88d8-0a276b673db5\"}];\n",
       "  root.Bokeh.embed.embed_items_notebook(docs_json, render_items);\n",
       "\n",
       "  }\n",
       "  if (root.Bokeh !== undefined) {\n",
       "    embed_document(root);\n",
       "  } else {\n",
       "    var attempts = 0;\n",
       "    var timer = setInterval(function(root) {\n",
       "      if (root.Bokeh !== undefined) {\n",
       "        embed_document(root);\n",
       "        clearInterval(timer);\n",
       "      }\n",
       "      attempts++;\n",
       "      if (attempts > 100) {\n",
       "        console.log(\"Bokeh: ERROR: Unable to run BokehJS code because BokehJS library is missing\")\n",
       "        clearInterval(timer);\n",
       "      }\n",
       "    }, 10, root)\n",
       "  }\n",
       "})(window);"
      ],
      "application/vnd.bokehjs_exec.v0+json": ""
     },
     "metadata": {
      "application/vnd.bokehjs_exec.v0+json": {
       "id": "041fd98a-4c12-495f-88d8-0a276b673db5"
      }
     },
     "output_type": "display_data"
    }
   ],
   "source": [
    "n1, n2 = normal_diag.split()\n",
    "\n",
    "fig = figure(\n",
    "    title='Initial model',\n",
    "    width=400,\n",
    "    height=400,\n",
    "    x_range=(mean[0] - 5, mean[0] + 5),\n",
    "    y_range=(mean[1] - 5, mean[1] + 5)\n",
    ")\n",
    "fig.circle(data[:, 0], data[:, 1])\n",
    "plotting.plot_normal(fig, normal_diag.mean.numpy(), normal_diag.cov.numpy(), alpha=.5, color='blue')\n",
    "plotting.plot_normal(fig, n1.mean.numpy(), n1.cov.numpy(), alpha=.5, color='red')\n",
    "plotting.plot_normal(fig, n2.mean.numpy(), n2.cov.numpy(), alpha=.5, color='green')\n",
    "show(fig)"
   ]
  },
  {
   "cell_type": "code",
   "execution_count": 6,
   "metadata": {},
   "outputs": [
    {
     "name": "stderr",
     "output_type": "stream",
     "text": [
      "/Users/lucasondel/anaconda3/envs/pytorch_src/lib/python3.6/site-packages/bokeh/core/json_encoder.py:80: FutureWarning: Conversion of the second argument of issubdtype from `float` to `np.floating` is deprecated. In future, it will be treated as `np.float64 == np.dtype(float).type`.\n",
      "  elif np.issubdtype(type(obj), np.float):\n"
     ]
    },
    {
     "data": {
      "text/html": [
       "\n",
       "<div class=\"bk-root\">\n",
       "    <div class=\"bk-plotdiv\" id=\"9d4ade61-aeb1-4441-add5-a2348b2c74ac\"></div>\n",
       "</div>"
      ]
     },
     "metadata": {},
     "output_type": "display_data"
    },
    {
     "data": {
      "application/javascript": [
       "(function(root) {\n",
       "  function embed_document(root) {\n",
       "    \n",
       "  var docs_json = {\"9b6b1cca-c08d-4336-8feb-e6e2e6fbc80b\":{\"roots\":{\"references\":[{\"attributes\":{\"data_source\":{\"id\":\"94d07ad4-d754-4f47-9fdd-a4d109e87e6e\",\"type\":\"ColumnDataSource\"},\"glyph\":{\"id\":\"09a3654b-dcef-469b-b408-84995bc9da23\",\"type\":\"Circle\"},\"hover_glyph\":null,\"muted_glyph\":null,\"nonselection_glyph\":{\"id\":\"5c8d54b5-fab6-4aad-b3e2-bbc36f4825ce\",\"type\":\"Circle\"},\"selection_glyph\":null,\"view\":{\"id\":\"72007112-c9e6-41e0-950d-a2a0e510e971\",\"type\":\"CDSView\"}},\"id\":\"d69cade2-53bf-48aa-bfd0-598104d2fb0c\",\"type\":\"GlyphRenderer\"},{\"attributes\":{\"plot\":{\"id\":\"20c39786-a5b6-4ee3-9768-a2929c755132\",\"subtype\":\"Figure\",\"type\":\"Plot\"},\"ticker\":{\"id\":\"8c69e2af-062f-4bd6-96eb-4474a8abf373\",\"type\":\"BasicTicker\"}},\"id\":\"055cec81-7dc5-471c-94b7-288be14ad325\",\"type\":\"Grid\"},{\"attributes\":{\"formatter\":{\"id\":\"1ab45d89-f89c-410f-9167-42c2e631eeec\",\"type\":\"BasicTickFormatter\"},\"plot\":{\"id\":\"20c39786-a5b6-4ee3-9768-a2929c755132\",\"subtype\":\"Figure\",\"type\":\"Plot\"},\"ticker\":{\"id\":\"8c69e2af-062f-4bd6-96eb-4474a8abf373\",\"type\":\"BasicTicker\"}},\"id\":\"182692f0-c05a-4bef-ad2b-7e27347ce71a\",\"type\":\"LinearAxis\"},{\"attributes\":{},\"id\":\"8c69e2af-062f-4bd6-96eb-4474a8abf373\",\"type\":\"BasicTicker\"},{\"attributes\":{\"formatter\":{\"id\":\"9c7332bc-a69c-4189-8b6f-bd240cc44689\",\"type\":\"BasicTickFormatter\"},\"plot\":{\"id\":\"20c39786-a5b6-4ee3-9768-a2929c755132\",\"subtype\":\"Figure\",\"type\":\"Plot\"},\"ticker\":{\"id\":\"ce269a4d-e30a-435f-a7e8-52a59c1f9c1b\",\"type\":\"BasicTicker\"}},\"id\":\"95e16545-7da7-4195-b4b8-902447d06fa3\",\"type\":\"LinearAxis\"},{\"attributes\":{},\"id\":\"ce269a4d-e30a-435f-a7e8-52a59c1f9c1b\",\"type\":\"BasicTicker\"},{\"attributes\":{\"dimension\":1,\"plot\":{\"id\":\"20c39786-a5b6-4ee3-9768-a2929c755132\",\"subtype\":\"Figure\",\"type\":\"Plot\"},\"ticker\":{\"id\":\"ce269a4d-e30a-435f-a7e8-52a59c1f9c1b\",\"type\":\"BasicTicker\"}},\"id\":\"152ac531-eded-4ae4-ac85-53e16f1afc14\",\"type\":\"Grid\"},{\"attributes\":{\"source\":{\"id\":\"94d07ad4-d754-4f47-9fdd-a4d109e87e6e\",\"type\":\"ColumnDataSource\"}},\"id\":\"72007112-c9e6-41e0-950d-a2a0e510e971\",\"type\":\"CDSView\"},{\"attributes\":{\"fill_alpha\":{\"value\":0.1},\"fill_color\":{\"value\":\"#1f77b4\"},\"line_alpha\":{\"value\":0.1},\"line_color\":{\"value\":\"#1f77b4\"},\"x\":{\"field\":\"x\"},\"y\":{\"field\":\"y\"}},\"id\":\"5c8d54b5-fab6-4aad-b3e2-bbc36f4825ce\",\"type\":\"Circle\"},{\"attributes\":{},\"id\":\"9c7332bc-a69c-4189-8b6f-bd240cc44689\",\"type\":\"BasicTickFormatter\"},{\"attributes\":{\"bottom_units\":\"screen\",\"fill_alpha\":{\"value\":0.5},\"fill_color\":{\"value\":\"lightgrey\"},\"left_units\":\"screen\",\"level\":\"overlay\",\"line_alpha\":{\"value\":1.0},\"line_color\":{\"value\":\"black\"},\"line_dash\":[4,4],\"line_width\":{\"value\":2},\"plot\":null,\"render_mode\":\"css\",\"right_units\":\"screen\",\"top_units\":\"screen\"},\"id\":\"1d8af8b1-ec07-408e-aa5d-536f2bed99a6\",\"type\":\"BoxAnnotation\"},{\"attributes\":{},\"id\":\"32e5e4a2-09d7-4858-b11b-68904e11e66a\",\"type\":\"PanTool\"},{\"attributes\":{\"callback\":null,\"data\":{}},\"id\":\"88d5ecda-1eec-4dac-b398-c833e36a42d6\",\"type\":\"ColumnDataSource\"},{\"attributes\":{},\"id\":\"be968857-f941-4350-a18b-468d11898ae4\",\"type\":\"WheelZoomTool\"},{\"attributes\":{\"overlay\":{\"id\":\"1d8af8b1-ec07-408e-aa5d-536f2bed99a6\",\"type\":\"BoxAnnotation\"}},\"id\":\"d2552723-8aa0-40b7-a46e-fcffda649447\",\"type\":\"BoxZoomTool\"},{\"attributes\":{},\"id\":\"de51e8f3-bec7-4982-b303-3cbeae1ffd57\",\"type\":\"SaveTool\"},{\"attributes\":{},\"id\":\"c476f9b8-aab8-4c2c-ac8b-220e8c282d89\",\"type\":\"ResetTool\"},{\"attributes\":{},\"id\":\"33441306-7773-4cbb-8779-76fe29b42619\",\"type\":\"HelpTool\"},{\"attributes\":{\"fill_alpha\":{\"value\":0.5},\"fill_color\":{\"value\":\"blue\"},\"line_alpha\":{\"value\":0.5},\"line_color\":{\"value\":\"blue\"},\"x\":{\"value\":-1.759658694267273},\"y\":{\"value\":3.84726881980896}},\"id\":\"c24e9578-c143-41b6-a48d-f2bc39d097b2\",\"type\":\"Cross\"},{\"attributes\":{},\"id\":\"1ab45d89-f89c-410f-9167-42c2e631eeec\",\"type\":\"BasicTickFormatter\"},{\"attributes\":{\"data_source\":{\"id\":\"2c5e5fce-2b2d-403d-873a-33ed41d0fe9a\",\"type\":\"ColumnDataSource\"},\"glyph\":{\"id\":\"bb1f9347-a739-4380-ad18-9ac300c8b241\",\"type\":\"Ellipse\"},\"hover_glyph\":null,\"muted_glyph\":null,\"nonselection_glyph\":{\"id\":\"215fc54b-ed98-486d-8a93-59d8b52ec0cb\",\"type\":\"Ellipse\"},\"selection_glyph\":null,\"view\":{\"id\":\"d7cf1ddf-abcb-4d23-b8cc-c3d0e8af8170\",\"type\":\"CDSView\"}},\"id\":\"7381eaf4-5a15-4c3d-a2ee-f34a50d6b9ec\",\"type\":\"GlyphRenderer\"},{\"attributes\":{\"angle\":{\"units\":\"rad\",\"value\":-1.0298551321029663},\"fill_alpha\":{\"value\":0.5},\"fill_color\":{\"value\":\"blue\"},\"height\":{\"units\":\"data\",\"value\":3.117161273956299},\"line_alpha\":{\"value\":0.5},\"line_color\":{\"value\":\"blue\"},\"width\":{\"units\":\"data\",\"value\":0.8601712584495544},\"x\":{\"value\":-1.759658694267273},\"y\":{\"value\":3.84726881980896}},\"id\":\"f089db1e-547d-4056-aac3-b1bbc53f59d8\",\"type\":\"Ellipse\"},{\"attributes\":{\"angle\":{\"units\":\"rad\",\"value\":-1.0298551321029663},\"fill_alpha\":{\"value\":0.25},\"fill_color\":{\"value\":\"blue\"},\"height\":{\"units\":\"data\",\"value\":6.234322547912598},\"line_alpha\":{\"value\":0.25},\"line_color\":{\"value\":\"blue\"},\"width\":{\"units\":\"data\",\"value\":1.7203425168991089},\"x\":{\"value\":-1.759658694267273},\"y\":{\"value\":3.84726881980896}},\"id\":\"bb1f9347-a739-4380-ad18-9ac300c8b241\",\"type\":\"Ellipse\"},{\"attributes\":{\"angle\":{\"units\":\"rad\",\"value\":-1.0298551321029663},\"fill_alpha\":{\"value\":0.1},\"fill_color\":{\"value\":\"#1f77b4\"},\"height\":{\"units\":\"data\",\"value\":6.234322547912598},\"line_alpha\":{\"value\":0.1},\"line_color\":{\"value\":\"#1f77b4\"},\"width\":{\"units\":\"data\",\"value\":1.7203425168991089},\"x\":{\"value\":-1.759658694267273},\"y\":{\"value\":3.84726881980896}},\"id\":\"215fc54b-ed98-486d-8a93-59d8b52ec0cb\",\"type\":\"Ellipse\"},{\"attributes\":{\"source\":{\"id\":\"2c5e5fce-2b2d-403d-873a-33ed41d0fe9a\",\"type\":\"ColumnDataSource\"}},\"id\":\"d7cf1ddf-abcb-4d23-b8cc-c3d0e8af8170\",\"type\":\"CDSView\"},{\"attributes\":{\"callback\":null,\"data\":{}},\"id\":\"f7f299ba-362e-4fa4-8b3a-4494d66f79bf\",\"type\":\"ColumnDataSource\"},{\"attributes\":{\"callback\":null,\"data\":{}},\"id\":\"44df99c8-9daa-45f4-8a96-a886142194a1\",\"type\":\"ColumnDataSource\"},{\"attributes\":{\"data_source\":{\"id\":\"f7f299ba-362e-4fa4-8b3a-4494d66f79bf\",\"type\":\"ColumnDataSource\"},\"glyph\":{\"id\":\"c24e9578-c143-41b6-a48d-f2bc39d097b2\",\"type\":\"Cross\"},\"hover_glyph\":null,\"muted_glyph\":null,\"nonselection_glyph\":{\"id\":\"378edbdf-e334-4450-92ee-c03c33fe0430\",\"type\":\"Cross\"},\"selection_glyph\":null,\"view\":{\"id\":\"03844892-1c5e-4344-a001-7066e75bc45a\",\"type\":\"CDSView\"}},\"id\":\"ed5a2d1a-e77a-4663-95a8-03281c77a6b2\",\"type\":\"GlyphRenderer\"},{\"attributes\":{\"callback\":null,\"end\":9.0,\"start\":-1.0},\"id\":\"07d163df-aa5e-4576-8f2e-1029b17a9123\",\"type\":\"Range1d\"},{\"attributes\":{\"fill_alpha\":{\"value\":0.1},\"fill_color\":{\"value\":\"#1f77b4\"},\"line_alpha\":{\"value\":0.1},\"line_color\":{\"value\":\"#1f77b4\"},\"x\":{\"value\":-1.759658694267273},\"y\":{\"value\":3.84726881980896}},\"id\":\"378edbdf-e334-4450-92ee-c03c33fe0430\",\"type\":\"Cross\"},{\"attributes\":{\"source\":{\"id\":\"f7f299ba-362e-4fa4-8b3a-4494d66f79bf\",\"type\":\"ColumnDataSource\"}},\"id\":\"03844892-1c5e-4344-a001-7066e75bc45a\",\"type\":\"CDSView\"},{\"attributes\":{\"data_source\":{\"id\":\"44df99c8-9daa-45f4-8a96-a886142194a1\",\"type\":\"ColumnDataSource\"},\"glyph\":{\"id\":\"f089db1e-547d-4056-aac3-b1bbc53f59d8\",\"type\":\"Ellipse\"},\"hover_glyph\":null,\"muted_glyph\":null,\"nonselection_glyph\":{\"id\":\"7b8b4d32-72bc-48d5-a2ec-094504800230\",\"type\":\"Ellipse\"},\"selection_glyph\":null,\"view\":{\"id\":\"c7b8a986-a134-43d6-8ed7-dc069fd42721\",\"type\":\"CDSView\"}},\"id\":\"74fa9951-da5a-4008-9ae3-6e15122db7ea\",\"type\":\"GlyphRenderer\"},{\"attributes\":{\"angle\":{\"units\":\"rad\",\"value\":-1.0298551321029663},\"fill_alpha\":{\"value\":0.1},\"fill_color\":{\"value\":\"#1f77b4\"},\"height\":{\"units\":\"data\",\"value\":3.117161273956299},\"line_alpha\":{\"value\":0.1},\"line_color\":{\"value\":\"#1f77b4\"},\"width\":{\"units\":\"data\",\"value\":0.8601712584495544},\"x\":{\"value\":-1.759658694267273},\"y\":{\"value\":3.84726881980896}},\"id\":\"7b8b4d32-72bc-48d5-a2ec-094504800230\",\"type\":\"Ellipse\"},{\"attributes\":{\"angle\":{\"units\":\"rad\",\"value\":-1.0298552513122559},\"fill_alpha\":{\"value\":0.25},\"fill_color\":{\"value\":\"red\"},\"height\":{\"units\":\"data\",\"value\":6.234322547912598},\"line_alpha\":{\"value\":0.25},\"line_color\":{\"value\":\"red\"},\"width\":{\"units\":\"data\",\"value\":1.7203476428985596},\"x\":{\"value\":-2.874242067337036},\"y\":{\"value\":2.6760082244873047}},\"id\":\"4449b7cc-93f7-4393-a2dc-1c311a4cd3a7\",\"type\":\"Ellipse\"},{\"attributes\":{\"callback\":null,\"data\":{}},\"id\":\"8de50cb2-a2d1-404e-8148-a0314cba6766\",\"type\":\"ColumnDataSource\"},{\"attributes\":{\"source\":{\"id\":\"44df99c8-9daa-45f4-8a96-a886142194a1\",\"type\":\"ColumnDataSource\"}},\"id\":\"c7b8a986-a134-43d6-8ed7-dc069fd42721\",\"type\":\"CDSView\"},{\"attributes\":{\"fill_alpha\":{\"value\":0.5},\"fill_color\":{\"value\":\"red\"},\"line_alpha\":{\"value\":0.5},\"line_color\":{\"value\":\"red\"},\"x\":{\"value\":-2.874242067337036},\"y\":{\"value\":2.6760082244873047}},\"id\":\"5036b5a3-9770-4d21-8953-e74466cae512\",\"type\":\"Cross\"},{\"attributes\":{\"callback\":null,\"data\":{}},\"id\":\"83443c1f-460a-4af8-9a87-2f46baa84d18\",\"type\":\"ColumnDataSource\"},{\"attributes\":{\"data_source\":{\"id\":\"88d5ecda-1eec-4dac-b398-c833e36a42d6\",\"type\":\"ColumnDataSource\"},\"glyph\":{\"id\":\"4449b7cc-93f7-4393-a2dc-1c311a4cd3a7\",\"type\":\"Ellipse\"},\"hover_glyph\":null,\"muted_glyph\":null,\"nonselection_glyph\":{\"id\":\"56b5d0a3-01c8-43ee-9794-815ea23b3e68\",\"type\":\"Ellipse\"},\"selection_glyph\":null,\"view\":{\"id\":\"97892794-891a-4294-bb8d-e2afaacb0d57\",\"type\":\"CDSView\"}},\"id\":\"58de6b6b-8bce-4be0-ab6a-294c156cf351\",\"type\":\"GlyphRenderer\"},{\"attributes\":{\"angle\":{\"units\":\"rad\",\"value\":-1.0298552513122559},\"fill_alpha\":{\"value\":0.1},\"fill_color\":{\"value\":\"#1f77b4\"},\"height\":{\"units\":\"data\",\"value\":6.234322547912598},\"line_alpha\":{\"value\":0.1},\"line_color\":{\"value\":\"#1f77b4\"},\"width\":{\"units\":\"data\",\"value\":1.7203476428985596},\"x\":{\"value\":-2.874242067337036},\"y\":{\"value\":2.6760082244873047}},\"id\":\"56b5d0a3-01c8-43ee-9794-815ea23b3e68\",\"type\":\"Ellipse\"},{\"attributes\":{\"source\":{\"id\":\"88d5ecda-1eec-4dac-b398-c833e36a42d6\",\"type\":\"ColumnDataSource\"}},\"id\":\"97892794-891a-4294-bb8d-e2afaacb0d57\",\"type\":\"CDSView\"},{\"attributes\":{\"data_source\":{\"id\":\"83443c1f-460a-4af8-9a87-2f46baa84d18\",\"type\":\"ColumnDataSource\"},\"glyph\":{\"id\":\"5036b5a3-9770-4d21-8953-e74466cae512\",\"type\":\"Cross\"},\"hover_glyph\":null,\"muted_glyph\":null,\"nonselection_glyph\":{\"id\":\"cc723f07-4de0-4dd5-8a6f-eb47e4488ebd\",\"type\":\"Cross\"},\"selection_glyph\":null,\"view\":{\"id\":\"fce80070-f113-4c8a-82f8-e4dcc896c3f8\",\"type\":\"CDSView\"}},\"id\":\"8aba5140-a7a7-4234-94e0-0e32174bbef9\",\"type\":\"GlyphRenderer\"},{\"attributes\":{\"fill_alpha\":{\"value\":0.1},\"fill_color\":{\"value\":\"#1f77b4\"},\"line_alpha\":{\"value\":0.1},\"line_color\":{\"value\":\"#1f77b4\"},\"x\":{\"value\":-2.874242067337036},\"y\":{\"value\":2.6760082244873047}},\"id\":\"cc723f07-4de0-4dd5-8a6f-eb47e4488ebd\",\"type\":\"Cross\"},{\"attributes\":{},\"id\":\"706b938e-13c5-41c5-8af8-230ea0e458b4\",\"type\":\"LinearScale\"},{\"attributes\":{\"angle\":{\"units\":\"rad\",\"value\":-1.0298552513122559},\"fill_alpha\":{\"value\":0.5},\"fill_color\":{\"value\":\"red\"},\"height\":{\"units\":\"data\",\"value\":3.117161273956299},\"line_alpha\":{\"value\":0.5},\"line_color\":{\"value\":\"red\"},\"width\":{\"units\":\"data\",\"value\":0.8601738214492798},\"x\":{\"value\":-2.874242067337036},\"y\":{\"value\":2.6760082244873047}},\"id\":\"93a264a1-f6e7-42c5-b639-82056f58ce73\",\"type\":\"Ellipse\"},{\"attributes\":{\"callback\":null,\"data\":{}},\"id\":\"15adaf68-a0fd-49ef-8dc6-c888122f7659\",\"type\":\"ColumnDataSource\"},{\"attributes\":{\"source\":{\"id\":\"83443c1f-460a-4af8-9a87-2f46baa84d18\",\"type\":\"ColumnDataSource\"}},\"id\":\"fce80070-f113-4c8a-82f8-e4dcc896c3f8\",\"type\":\"CDSView\"},{\"attributes\":{\"angle\":{\"units\":\"rad\",\"value\":-1.0298551321029663},\"fill_alpha\":{\"value\":0.25},\"fill_color\":{\"value\":\"green\"},\"height\":{\"units\":\"data\",\"value\":6.2343220710754395},\"line_alpha\":{\"value\":0.25},\"line_color\":{\"value\":\"green\"},\"width\":{\"units\":\"data\",\"value\":1.720342755317688},\"x\":{\"value\":-0.6450742483139038},\"y\":{\"value\":5.018527984619141}},\"id\":\"1d710955-0ced-450c-8de6-6c9e52f430c2\",\"type\":\"Ellipse\"},{\"attributes\":{\"data_source\":{\"id\":\"15adaf68-a0fd-49ef-8dc6-c888122f7659\",\"type\":\"ColumnDataSource\"},\"glyph\":{\"id\":\"93a264a1-f6e7-42c5-b639-82056f58ce73\",\"type\":\"Ellipse\"},\"hover_glyph\":null,\"muted_glyph\":null,\"nonselection_glyph\":{\"id\":\"f25f2fd3-df89-42a1-936e-48434ae56492\",\"type\":\"Ellipse\"},\"selection_glyph\":null,\"view\":{\"id\":\"ec9a97a0-6800-4d8e-85cf-97602751cd9d\",\"type\":\"CDSView\"}},\"id\":\"90892dd3-25f1-463d-b67b-c6150c01bbeb\",\"type\":\"GlyphRenderer\"},{\"attributes\":{\"angle\":{\"units\":\"rad\",\"value\":-1.0298552513122559},\"fill_alpha\":{\"value\":0.1},\"fill_color\":{\"value\":\"#1f77b4\"},\"height\":{\"units\":\"data\",\"value\":3.117161273956299},\"line_alpha\":{\"value\":0.1},\"line_color\":{\"value\":\"#1f77b4\"},\"width\":{\"units\":\"data\",\"value\":0.8601738214492798},\"x\":{\"value\":-2.874242067337036},\"y\":{\"value\":2.6760082244873047}},\"id\":\"f25f2fd3-df89-42a1-936e-48434ae56492\",\"type\":\"Ellipse\"},{\"attributes\":{\"callback\":null,\"end\":3.5,\"start\":-6.5},\"id\":\"6a84afc9-d690-4258-bdd3-259a9bee2200\",\"type\":\"Range1d\"},{\"attributes\":{\"source\":{\"id\":\"15adaf68-a0fd-49ef-8dc6-c888122f7659\",\"type\":\"ColumnDataSource\"}},\"id\":\"ec9a97a0-6800-4d8e-85cf-97602751cd9d\",\"type\":\"CDSView\"},{\"attributes\":{\"data_source\":{\"id\":\"8de50cb2-a2d1-404e-8148-a0314cba6766\",\"type\":\"ColumnDataSource\"},\"glyph\":{\"id\":\"1d710955-0ced-450c-8de6-6c9e52f430c2\",\"type\":\"Ellipse\"},\"hover_glyph\":null,\"muted_glyph\":null,\"nonselection_glyph\":{\"id\":\"74eaf370-6858-420a-b8ad-3a9642522317\",\"type\":\"Ellipse\"},\"selection_glyph\":null,\"view\":{\"id\":\"0f7ce1b8-15fb-470a-a9a1-480e9a4b6473\",\"type\":\"CDSView\"}},\"id\":\"27f46188-4159-4d21-9672-de48c8ddc37e\",\"type\":\"GlyphRenderer\"},{\"attributes\":{\"angle\":{\"units\":\"rad\",\"value\":-1.0298551321029663},\"fill_alpha\":{\"value\":0.1},\"fill_color\":{\"value\":\"#1f77b4\"},\"height\":{\"units\":\"data\",\"value\":6.2343220710754395},\"line_alpha\":{\"value\":0.1},\"line_color\":{\"value\":\"#1f77b4\"},\"width\":{\"units\":\"data\",\"value\":1.720342755317688},\"x\":{\"value\":-0.6450742483139038},\"y\":{\"value\":5.018527984619141}},\"id\":\"74eaf370-6858-420a-b8ad-3a9642522317\",\"type\":\"Ellipse\"},{\"attributes\":{\"fill_alpha\":{\"value\":0.5},\"fill_color\":{\"value\":\"green\"},\"line_alpha\":{\"value\":0.5},\"line_color\":{\"value\":\"green\"},\"x\":{\"value\":-0.6450742483139038},\"y\":{\"value\":5.018527984619141}},\"id\":\"40645f39-f2be-4311-9940-517bc0549a8e\",\"type\":\"Cross\"},{\"attributes\":{},\"id\":\"7c481606-6f47-48ef-b9a0-5a7ead9cd6f2\",\"type\":\"LinearScale\"},{\"attributes\":{\"callback\":null,\"data\":{}},\"id\":\"91214dae-7ea3-4099-97e7-18d4d9dc98d5\",\"type\":\"ColumnDataSource\"},{\"attributes\":{\"source\":{\"id\":\"8de50cb2-a2d1-404e-8148-a0314cba6766\",\"type\":\"ColumnDataSource\"}},\"id\":\"0f7ce1b8-15fb-470a-a9a1-480e9a4b6473\",\"type\":\"CDSView\"},{\"attributes\":{\"callback\":null,\"column_names\":[\"x\",\"y\"],\"data\":{\"x\":{\"__ndarray__\":\"lxgbr43F579LBX+RzhX8v1qiOAyonw/AgKRpHEWx578bpWf3Karxv0DIxVIYOaW/cA5yTiwUxj/xIziw2i7rv9otaE7irQfAtpN0bYQE77/Im63PgpYEwD3fiis3uue/y7nzmMgzBMAq9EX45AHwv+w3dGaj6xDAfapMc08IB8B93kEimD3tvy56eugU5APAk4YaHTBl7b8wHV30kdUCwDcDxm9oeQfADkhVDHm67L8mZ+o2kjL1v2jRkbv59ATA5oUBnTmc/78SbcUNuCQOwGEVQlbyLPO/QYN2fWVD9b8WaBjQYxTwP/SiKrDo4fK/LIercETACcAgJ0qEaJXBv3EpiIGOLPS/BMTesztiBMBGoRClx43ovyWd+dI5mva/mL0zPKPI9r//GrDQqIUMwGINhcLGUgTAWBSWwQR4EcC+XEih2GD2v+JRNF1F4ve/ZWFIQnq7+b82WU80tdEHwOCnVTEAgNO/wB9VYOiO2L/BXwNRtRDhv+P1Fb48UwDAQ05atiAeAMCBq7zAXNf7v+/nINQE6fe/V+ExanP2A8CpstWPzRzvv/Q/Eip6xQ3A1MpnehJaAcAWSY3NMTEBwKzpFZkFM9W/bKfc98ULEcA4oGXm5DjNP6K/C8u36ADAMRB5n7X+77/fy3IJkJsQwMi/WsJ/+v+/pjbD4QKu8b951DRsQxASwJDiw6I5UMY/WEf9Iqe/57++1CSj0QXxvzAHnueChNG/hq+htH5N+7/wVVeNhzXNv/QY7n2n89O/QOJKEO9F/7884m/pAzb3vw3/6HBhnQfAfupmZ1D2EcCJ1jnyFOsIwDoRRQ+/aRLA1bfywNswA8BY0Up+eDvMv7yF1KlrsPG/oEdpKBri7T8gtAYYn+TYP5DcC8in6Mm/hChtitvRCsCH5a3tWr/7v0Tw5L7lXALA4BspTSeSuL83vn/uNKz/v9hydGqrygHAljvmTg9yEcDs+eLJhtPwv9Kv9BTcuwnAgddmmv3JA8B4GjYVI8MJwNocTb9Bc+S/vhZTiQkoEcBSIT7c7AH5vztTaFWq9fm/np9b+aP88z8=\",\"dtype\":\"float64\",\"shape\":[100]},\"y\":{\"__ndarray__\":\"mc4lkuw7FEAHQp/sAH4QQBmjcbuBHARAWjYdULnoD0Ds5g3awgEUQKLTBdOX8xBAgkIJSOnLFUAbvUUcJ2cVQNgcD/iE7AhA8Lre4UUlE0CsIh8AJkwIQKD6v+LEeBFADx1uDzeMDUBmNcqCtN8QQOxPYTXoNAFAbmD/UcP3C0AqGA6z+k8MQFC4GgVMyxFAtKKeP3mcEkC2yDFHd7MJQO5XlHUcYAhAg3pGI+lPFEA/QjYADh0NQMfqPDZ2KQxA3FbfwudjCkDXfCj6ObwNQNXEeIgypBFAUYW+IyW9DkBLrsQ6ni4WQKtoHFFZlw1AgDLz04f+BUBBE7+ID8QSQE9ASzi5Tw5AVrwXMyvmBUBi/oa+zcgSQDG+zBJxOglAhk6eGYozEEDcgMLjK20GQDLdX1e16g1ACu796r8aAUCtDKkJdRsPQC540EGuvhBAroKefOtGDECv1juKpLwFQGK2pt7YNhRAk2CqRLvhE0A9PBrBlXgRQD4bkQ4pqQpASjN5ELaLB0BQ4syDYagPQBATOTc3lRFAnj9MbKniEEBnjjh2T/gSQA/cTc+9lAJAbCtcidNyDUAbtHkzJWYQQCwVyYXFrhNAnE95g4Vo/z9yedMataETQPPRa6ghcQpAm1f02J/QEEBttiR9Ng8CQPjJV6HBlwtAv7ZOBEjSDkCcZvqumvv9P+r8HCdHJBNA92BHSnEXEUBcuemml6AMQPgAF1jR9hFA2ZBIE+6QDUBdcDj8fm0UQFqbbR+ZWBNAh8941or4DUAgQQwozHsPQBCWGFXQeAhADWY2Jr9uEEAMWqhZy8YJQIw/xSzFsABATg1+n1kcCUCfdw0E16wQQA1gE3C7OBBANDfbOgd+FkB9rSArFmsTQBSMiBm5cxJAzDZF1qnWC0BqdsQI4B8OQK6VO2T9qwpAa+mEKR8qEEAXBNLTiLYRQI7UzE05RhJAXNaFsHvICUBcIwAEkQIPQAMnw8terQNAIkPuMPGqBkCV4IaMgHgFQL6ULup4hA9AnpOxeJ3GB0BVs/1d5t4QQHbfn+yRLA5AZVgNOohKF0A=\",\"dtype\":\"float64\",\"shape\":[100]}}},\"id\":\"94d07ad4-d754-4f47-9fdd-a4d109e87e6e\",\"type\":\"ColumnDataSource\"},{\"attributes\":{\"angle\":{\"units\":\"rad\",\"value\":-1.0298551321029663},\"fill_alpha\":{\"value\":0.5},\"fill_color\":{\"value\":\"green\"},\"height\":{\"units\":\"data\",\"value\":3.1171610355377197},\"line_alpha\":{\"value\":0.5},\"line_color\":{\"value\":\"green\"},\"width\":{\"units\":\"data\",\"value\":0.860171377658844},\"x\":{\"value\":-0.6450742483139038},\"y\":{\"value\":5.018527984619141}},\"id\":\"e193301f-2175-47ec-9603-4cc64948f5f7\",\"type\":\"Ellipse\"},{\"attributes\":{\"fill_color\":{\"value\":\"#1f77b4\"},\"line_color\":{\"value\":\"#1f77b4\"},\"x\":{\"field\":\"x\"},\"y\":{\"field\":\"y\"}},\"id\":\"09a3654b-dcef-469b-b408-84995bc9da23\",\"type\":\"Circle\"},{\"attributes\":{\"callback\":null,\"data\":{}},\"id\":\"061db4e2-46a2-4e30-801b-3e8d2c69ea67\",\"type\":\"ColumnDataSource\"},{\"attributes\":{\"data_source\":{\"id\":\"91214dae-7ea3-4099-97e7-18d4d9dc98d5\",\"type\":\"ColumnDataSource\"},\"glyph\":{\"id\":\"40645f39-f2be-4311-9940-517bc0549a8e\",\"type\":\"Cross\"},\"hover_glyph\":null,\"muted_glyph\":null,\"nonselection_glyph\":{\"id\":\"909e7dc1-1282-4bc8-b745-c35c37b84f28\",\"type\":\"Cross\"},\"selection_glyph\":null,\"view\":{\"id\":\"9b18d516-c690-410e-a2d3-adec7855d0ce\",\"type\":\"CDSView\"}},\"id\":\"0cf1f8bd-35c5-48ff-a3bf-d2e545b52c02\",\"type\":\"GlyphRenderer\"},{\"attributes\":{\"below\":[{\"id\":\"182692f0-c05a-4bef-ad2b-7e27347ce71a\",\"type\":\"LinearAxis\"}],\"left\":[{\"id\":\"95e16545-7da7-4195-b4b8-902447d06fa3\",\"type\":\"LinearAxis\"}],\"plot_height\":400,\"plot_width\":400,\"renderers\":[{\"id\":\"182692f0-c05a-4bef-ad2b-7e27347ce71a\",\"type\":\"LinearAxis\"},{\"id\":\"055cec81-7dc5-471c-94b7-288be14ad325\",\"type\":\"Grid\"},{\"id\":\"95e16545-7da7-4195-b4b8-902447d06fa3\",\"type\":\"LinearAxis\"},{\"id\":\"152ac531-eded-4ae4-ac85-53e16f1afc14\",\"type\":\"Grid\"},{\"id\":\"1d8af8b1-ec07-408e-aa5d-536f2bed99a6\",\"type\":\"BoxAnnotation\"},{\"id\":\"d69cade2-53bf-48aa-bfd0-598104d2fb0c\",\"type\":\"GlyphRenderer\"},{\"id\":\"7381eaf4-5a15-4c3d-a2ee-f34a50d6b9ec\",\"type\":\"GlyphRenderer\"},{\"id\":\"ed5a2d1a-e77a-4663-95a8-03281c77a6b2\",\"type\":\"GlyphRenderer\"},{\"id\":\"74fa9951-da5a-4008-9ae3-6e15122db7ea\",\"type\":\"GlyphRenderer\"},{\"id\":\"58de6b6b-8bce-4be0-ab6a-294c156cf351\",\"type\":\"GlyphRenderer\"},{\"id\":\"8aba5140-a7a7-4234-94e0-0e32174bbef9\",\"type\":\"GlyphRenderer\"},{\"id\":\"90892dd3-25f1-463d-b67b-c6150c01bbeb\",\"type\":\"GlyphRenderer\"},{\"id\":\"27f46188-4159-4d21-9672-de48c8ddc37e\",\"type\":\"GlyphRenderer\"},{\"id\":\"0cf1f8bd-35c5-48ff-a3bf-d2e545b52c02\",\"type\":\"GlyphRenderer\"},{\"id\":\"62ab42cd-0cce-4364-b06e-e6649dea983d\",\"type\":\"GlyphRenderer\"}],\"title\":{\"id\":\"7c155f5a-34f6-4419-826e-6b5c3ce9909c\",\"type\":\"Title\"},\"toolbar\":{\"id\":\"a8be931d-df07-4d96-9af0-9b4e7b38c0c1\",\"type\":\"Toolbar\"},\"x_range\":{\"id\":\"6a84afc9-d690-4258-bdd3-259a9bee2200\",\"type\":\"Range1d\"},\"x_scale\":{\"id\":\"706b938e-13c5-41c5-8af8-230ea0e458b4\",\"type\":\"LinearScale\"},\"y_range\":{\"id\":\"07d163df-aa5e-4576-8f2e-1029b17a9123\",\"type\":\"Range1d\"},\"y_scale\":{\"id\":\"7c481606-6f47-48ef-b9a0-5a7ead9cd6f2\",\"type\":\"LinearScale\"}},\"id\":\"20c39786-a5b6-4ee3-9768-a2929c755132\",\"subtype\":\"Figure\",\"type\":\"Plot\"},{\"attributes\":{\"fill_alpha\":{\"value\":0.1},\"fill_color\":{\"value\":\"#1f77b4\"},\"line_alpha\":{\"value\":0.1},\"line_color\":{\"value\":\"#1f77b4\"},\"x\":{\"value\":-0.6450742483139038},\"y\":{\"value\":5.018527984619141}},\"id\":\"909e7dc1-1282-4bc8-b745-c35c37b84f28\",\"type\":\"Cross\"},{\"attributes\":{\"plot\":null,\"text\":\"Initial model\"},\"id\":\"7c155f5a-34f6-4419-826e-6b5c3ce9909c\",\"type\":\"Title\"},{\"attributes\":{\"source\":{\"id\":\"91214dae-7ea3-4099-97e7-18d4d9dc98d5\",\"type\":\"ColumnDataSource\"}},\"id\":\"9b18d516-c690-410e-a2d3-adec7855d0ce\",\"type\":\"CDSView\"},{\"attributes\":{\"data_source\":{\"id\":\"061db4e2-46a2-4e30-801b-3e8d2c69ea67\",\"type\":\"ColumnDataSource\"},\"glyph\":{\"id\":\"e193301f-2175-47ec-9603-4cc64948f5f7\",\"type\":\"Ellipse\"},\"hover_glyph\":null,\"muted_glyph\":null,\"nonselection_glyph\":{\"id\":\"82db1a59-dc65-4d23-8cbc-a12c7599ec73\",\"type\":\"Ellipse\"},\"selection_glyph\":null,\"view\":{\"id\":\"6c51f6b9-3dff-4330-9a1e-54f399d10558\",\"type\":\"CDSView\"}},\"id\":\"62ab42cd-0cce-4364-b06e-e6649dea983d\",\"type\":\"GlyphRenderer\"},{\"attributes\":{\"active_drag\":\"auto\",\"active_inspect\":\"auto\",\"active_scroll\":\"auto\",\"active_tap\":\"auto\",\"tools\":[{\"id\":\"32e5e4a2-09d7-4858-b11b-68904e11e66a\",\"type\":\"PanTool\"},{\"id\":\"be968857-f941-4350-a18b-468d11898ae4\",\"type\":\"WheelZoomTool\"},{\"id\":\"d2552723-8aa0-40b7-a46e-fcffda649447\",\"type\":\"BoxZoomTool\"},{\"id\":\"de51e8f3-bec7-4982-b303-3cbeae1ffd57\",\"type\":\"SaveTool\"},{\"id\":\"c476f9b8-aab8-4c2c-ac8b-220e8c282d89\",\"type\":\"ResetTool\"},{\"id\":\"33441306-7773-4cbb-8779-76fe29b42619\",\"type\":\"HelpTool\"}]},\"id\":\"a8be931d-df07-4d96-9af0-9b4e7b38c0c1\",\"type\":\"Toolbar\"},{\"attributes\":{\"angle\":{\"units\":\"rad\",\"value\":-1.0298551321029663},\"fill_alpha\":{\"value\":0.1},\"fill_color\":{\"value\":\"#1f77b4\"},\"height\":{\"units\":\"data\",\"value\":3.1171610355377197},\"line_alpha\":{\"value\":0.1},\"line_color\":{\"value\":\"#1f77b4\"},\"width\":{\"units\":\"data\",\"value\":0.860171377658844},\"x\":{\"value\":-0.6450742483139038},\"y\":{\"value\":5.018527984619141}},\"id\":\"82db1a59-dc65-4d23-8cbc-a12c7599ec73\",\"type\":\"Ellipse\"},{\"attributes\":{\"source\":{\"id\":\"061db4e2-46a2-4e30-801b-3e8d2c69ea67\",\"type\":\"ColumnDataSource\"}},\"id\":\"6c51f6b9-3dff-4330-9a1e-54f399d10558\",\"type\":\"CDSView\"},{\"attributes\":{\"callback\":null,\"data\":{}},\"id\":\"2c5e5fce-2b2d-403d-873a-33ed41d0fe9a\",\"type\":\"ColumnDataSource\"}],\"root_ids\":[\"20c39786-a5b6-4ee3-9768-a2929c755132\"]},\"title\":\"Bokeh Application\",\"version\":\"0.12.14\"}};\n",
       "  var render_items = [{\"docid\":\"9b6b1cca-c08d-4336-8feb-e6e2e6fbc80b\",\"elementid\":\"9d4ade61-aeb1-4441-add5-a2348b2c74ac\",\"modelid\":\"20c39786-a5b6-4ee3-9768-a2929c755132\"}];\n",
       "  root.Bokeh.embed.embed_items_notebook(docs_json, render_items);\n",
       "\n",
       "  }\n",
       "  if (root.Bokeh !== undefined) {\n",
       "    embed_document(root);\n",
       "  } else {\n",
       "    var attempts = 0;\n",
       "    var timer = setInterval(function(root) {\n",
       "      if (root.Bokeh !== undefined) {\n",
       "        embed_document(root);\n",
       "        clearInterval(timer);\n",
       "      }\n",
       "      attempts++;\n",
       "      if (attempts > 100) {\n",
       "        console.log(\"Bokeh: ERROR: Unable to run BokehJS code because BokehJS library is missing\")\n",
       "        clearInterval(timer);\n",
       "      }\n",
       "    }, 10, root)\n",
       "  }\n",
       "})(window);"
      ],
      "application/vnd.bokehjs_exec.v0+json": ""
     },
     "metadata": {
      "application/vnd.bokehjs_exec.v0+json": {
       "id": "20c39786-a5b6-4ee3-9768-a2929c755132"
      }
     },
     "output_type": "display_data"
    }
   ],
   "source": [
    "n1, n2 = normal_full.split()\n",
    "\n",
    "fig = figure(\n",
    "    title='Initial model',\n",
    "    width=400,\n",
    "    height=400,\n",
    "    x_range=(mean[0] - 5, mean[0] + 5),\n",
    "    y_range=(mean[1] - 5, mean[1] + 5)\n",
    ")\n",
    "fig.circle(data[:, 0], data[:, 1])\n",
    "plotting.plot_normal(fig, normal_full.mean.numpy(), normal_full.cov.numpy(), alpha=.5, color='blue')\n",
    "plotting.plot_normal(fig, n1.mean.numpy(), n1.cov.numpy(), alpha=.5, color='red')\n",
    "plotting.plot_normal(fig, n2.mean.numpy(), n2.cov.numpy(), alpha=.5, color='green')\n",
    "show(fig)"
   ]
  },
  {
   "cell_type": "markdown",
   "metadata": {},
   "source": [
    "# Model comparison\n",
    "\n",
    "We generate data for various correlation parameters:\n",
    "\n",
    "$$\n",
    "X_{\\lambda} \\sim \\mathcal{N}(\n",
    "    \\begin{pmatrix} \n",
    "    0 \\\\\n",
    "    0\n",
    "    \\end{pmatrix}, \n",
    "    \\begin{pmatrix} \n",
    "    1 & \\lambda \\\\\n",
    "    \\lambda & 1\n",
    "    \\end{pmatrix})\n",
    "$$\n",
    "\n",
    "and we compare the model evidence for both the Normal distribution with diagonal covariance matrix and with full covariance matrix.\n",
    "\n",
    "$$\n",
    "\\ln B_{\\lambda} = \\ln \\frac{p(X_\\lambda | \\mathcal{M}_{\\text{full}})}{p(X_\\lambda | \\mathcal{M}_{\\text{diag}})} =\n",
    "     \\ln \\frac{\\int_{\\theta} p(X_\\lambda | \\theta, \\mathcal{M}_{\\text{full}}) p(\\theta) d\\theta}{\\int_{\\theta}p(X_\\lambda | \\theta, \\mathcal{M}_{\\text{diag}})p(\\theta) d\\theta} = \\frac{A_{\\text{full}}(\\xi + \\sum_{n=1}^N T(x_n)) - A_{\\text{full}}(\\xi)}{A_{\\text{diag}}(\\xi + \\sum_{n=1}^N T(x_n))\n",
    "     - A_{\\text{diag}}(\\xi)}\n",
    "$$"
   ]
  },
  {
   "cell_type": "code",
   "execution_count": 7,
   "metadata": {
    "scrolled": false
   },
   "outputs": [
    {
     "data": {
      "text/html": [
       "\n",
       "<div class=\"bk-root\">\n",
       "    <div class=\"bk-plotdiv\" id=\"73ccc3fd-1f6a-4e21-bf8d-a7980fff3531\"></div>\n",
       "</div>"
      ]
     },
     "metadata": {},
     "output_type": "display_data"
    },
    {
     "data": {
      "application/javascript": [
       "(function(root) {\n",
       "  function embed_document(root) {\n",
       "    \n",
       "  var docs_json = {\"18fd6530-5242-4641-8fc9-b32788751b5b\":{\"roots\":{\"references\":[{\"attributes\":{},\"id\":\"be5c1aa3-c616-4b4f-a12e-8ba3ee955632\",\"type\":\"ResetTool\"},{\"attributes\":{},\"id\":\"36e18066-61a7-4825-a0f3-0791ab9ef396\",\"type\":\"HelpTool\"},{\"attributes\":{\"below\":[{\"id\":\"45adb36a-4157-4142-903c-d1511b63715f\",\"type\":\"LinearAxis\"}],\"left\":[{\"id\":\"4906d990-c38f-47a9-83ce-9df91b2211ab\",\"type\":\"LinearAxis\"}],\"plot_height\":400,\"plot_width\":400,\"renderers\":[{\"id\":\"45adb36a-4157-4142-903c-d1511b63715f\",\"type\":\"LinearAxis\"},{\"id\":\"f17a11a4-1e56-423c-9bbd-eaf2382830b8\",\"type\":\"Grid\"},{\"id\":\"4906d990-c38f-47a9-83ce-9df91b2211ab\",\"type\":\"LinearAxis\"},{\"id\":\"b6361076-691f-46d2-abea-f51691f770a7\",\"type\":\"Grid\"},{\"id\":\"141d078d-ce61-4a9d-85a7-e4c1073b933d\",\"type\":\"BoxAnnotation\"},{\"id\":\"342dadaf-e297-49ec-9a7c-55861fd35480\",\"type\":\"GlyphRenderer\"}],\"title\":{\"id\":\"3f3581e6-cacc-4a3e-85bb-a77cb2d45d44\",\"type\":\"Title\"},\"toolbar\":{\"id\":\"945bc5a0-02b3-4bd8-aa21-8446b17f2d5a\",\"type\":\"Toolbar\"},\"x_range\":{\"id\":\"72f5b2ea-33d6-44d2-854f-a790946baeb4\",\"type\":\"DataRange1d\"},\"x_scale\":{\"id\":\"d5679e04-ec8a-4625-839f-b66c3d0cea82\",\"type\":\"LinearScale\"},\"y_range\":{\"id\":\"734f90d5-6230-4b93-8b2d-998c8259ba90\",\"type\":\"DataRange1d\"},\"y_scale\":{\"id\":\"7fd95d99-059b-494d-ab4e-e657fccb624f\",\"type\":\"LinearScale\"}},\"id\":\"1729c18b-a481-43f8-b1f4-307df66403e4\",\"subtype\":\"Figure\",\"type\":\"Plot\"},{\"attributes\":{\"dimension\":1,\"plot\":{\"id\":\"1729c18b-a481-43f8-b1f4-307df66403e4\",\"subtype\":\"Figure\",\"type\":\"Plot\"},\"ticker\":{\"id\":\"c59aca39-1b85-4990-94ad-8d184a4437f7\",\"type\":\"BasicTicker\"}},\"id\":\"b6361076-691f-46d2-abea-f51691f770a7\",\"type\":\"Grid\"},{\"attributes\":{},\"id\":\"16a4a34b-8fa7-4aa7-a072-68c62b6ba1be\",\"type\":\"BasicTickFormatter\"},{\"attributes\":{},\"id\":\"c59aca39-1b85-4990-94ad-8d184a4437f7\",\"type\":\"BasicTicker\"},{\"attributes\":{\"callback\":null,\"column_names\":[\"x\",\"y\"],\"data\":{\"x\":{\"__ndarray__\":\"rkfhehSu778K16NwPQrvv2ZmZmZmZu6/wvUoXI/C7b8fhetRuB7tv3sUrkfheuy/16NwPQrX678zMzMzMzPrv4/C9Shcj+q/7FG4HoXr6b9I4XoUrkfpv6RwPQrXo+i/AAAAAAAA6L9cj8L1KFznv7gehetRuOa/FK5H4XoU5r9wPQrXo3Dlv8zMzMzMzOS/KVyPwvUo5L+F61G4HoXjv+F6FK5H4eK/PgrXo3A94r+amZmZmZnhv/YoXI/C9eC/UrgehetR4L9cj8L1KFzfvxSuR+F6FN6/zMzMzMzM3L+E61G4HoXbvz4K16NwPdq/9ihcj8L12L+uR+F6FK7Xv2ZmZmZmZta/HoXrUbge1b/Wo3A9CtfTv47C9Shcj9K/SOF6FK5H0b8AAAAAAADQv3A9CtejcM2/4HoUrkfhyr9QuB6F61HIv8D1KFyPwsW/NDMzMzMzw7+kcD0K16PAvyhcj8L1KLy/CNejcD0Kt7/oUbgeheuxv5CZmZmZmam/wB6F61G4nr+AFK5H4XqEv4AUrkfheoQ/wB6F61G4nj+gmZmZmZmpP/BRuB6F67E/ENejcD0Ktz8wXI/C9Si8P6hwPQrXo8A/ODMzMzMzwz/A9Shcj8LFP1C4HoXrUcg/4HoUrkfhyj9wPQrXo3DNPwAAAAAAANA/SOF6FK5H0T+QwvUoXI/SP9ijcD0K19M/IIXrUbge1T9oZmZmZmbWP7BH4XoUrtc/+Chcj8L12D9ACtejcD3aP4TrUbgehds/zMzMzMzM3D8UrkfhehTeP1yPwvUoXN8/UrgehetR4D/2KFyPwvXgP5qZmZmZmeE/PgrXo3A94j/iehSuR+HiP4brUbgeheM/KlyPwvUo5D/OzMzMzMzkP3I9CtejcOU/FK5H4XoU5j+4HoXrUbjmP1yPwvUoXOc/AAAAAAAA6D+kcD0K16PoP0jhehSuR+k/7FG4HoXr6T+QwvUoXI/qPzQzMzMzM+s/2KNwPQrX6z98FK5H4XrsPyCF61G4Hu0/wvUoXI/C7T9mZmZmZmbuPwrXo3A9Cu8/rkfhehSu7z8=\",\"dtype\":\"float64\",\"shape\":[100]},\"y\":{\"__ndarray__\":\"YOvsRKZ9tESAjpNEsT1uRFHfSURZSUZEjfouRFl3KERhJhVEvTQLRFpS9UNyk91DMi7GQ3oszENqeatDInqXQ4p2vkOa/JRDNJh4QwSMZkN061pDpDhMQ9RTXkNUEiZDNPcVQzSFD0NIlP5CtD0LQ4hO5UIodbVCCACnQmgLqELov5tCSGmlQlArTELQG1tCkKsUQhAtY0IQFzRCoDXuQaC2wUGgTs1BoG2VQUAaPUGAdYNBQDN5QUALDEFAORRBAB8FQUC0C0FAVQRBQN4DQUAlHUFAKkRBQD1bQQAFTEGge7NBIMeIQaAknEFAYQBCUGwYQqDm1UEQkhlCUGIzQtCsXEIQSjJC0DZYQpC5bEKIZrpCSH6vQggyp0L0NQJDKMbzQkSKEUMUMxVDZB0qQ4RnJUOkqVlDpBtYQzQvUEOE4HhDUoyCQypGnUOS8pRDsh6jQ3qyrkPCRsFDKlTgQ7Lm9EMim+5DanP2Q3k+EUShuSNEQXUqROW0NURJg2FEHZh9RE40lURYQKlEdivvRA==\",\"dtype\":\"float32\",\"shape\":[100]}}},\"id\":\"c35e1f77-a0b9-4d8b-baab-884beaf6ce50\",\"type\":\"ColumnDataSource\"},{\"attributes\":{\"data_source\":{\"id\":\"c35e1f77-a0b9-4d8b-baab-884beaf6ce50\",\"type\":\"ColumnDataSource\"},\"glyph\":{\"id\":\"ab4dd365-daa6-4da2-9a34-4d4d5943bcee\",\"type\":\"Line\"},\"hover_glyph\":null,\"muted_glyph\":null,\"nonselection_glyph\":{\"id\":\"1731e7a9-af89-4034-b069-0699e9d0c9ad\",\"type\":\"Line\"},\"selection_glyph\":null,\"view\":{\"id\":\"e667a1cb-af26-476a-b9d8-078267cd7866\",\"type\":\"CDSView\"}},\"id\":\"342dadaf-e297-49ec-9a7c-55861fd35480\",\"type\":\"GlyphRenderer\"},{\"attributes\":{\"axis_label\":\"\\u03bb\",\"formatter\":{\"id\":\"bb96df94-d37c-4a27-bc80-65f66cf84e40\",\"type\":\"BasicTickFormatter\"},\"plot\":{\"id\":\"1729c18b-a481-43f8-b1f4-307df66403e4\",\"subtype\":\"Figure\",\"type\":\"Plot\"},\"ticker\":{\"id\":\"ea5ae9ce-b5d2-4902-9ade-1b617c8acf54\",\"type\":\"BasicTicker\"}},\"id\":\"45adb36a-4157-4142-903c-d1511b63715f\",\"type\":\"LinearAxis\"},{\"attributes\":{},\"id\":\"bb96df94-d37c-4a27-bc80-65f66cf84e40\",\"type\":\"BasicTickFormatter\"},{\"attributes\":{\"line_color\":\"#1f77b4\",\"x\":{\"field\":\"x\"},\"y\":{\"field\":\"y\"}},\"id\":\"ab4dd365-daa6-4da2-9a34-4d4d5943bcee\",\"type\":\"Line\"},{\"attributes\":{},\"id\":\"d5679e04-ec8a-4625-839f-b66c3d0cea82\",\"type\":\"LinearScale\"},{\"attributes\":{},\"id\":\"ea5ae9ce-b5d2-4902-9ade-1b617c8acf54\",\"type\":\"BasicTicker\"},{\"attributes\":{\"callback\":null},\"id\":\"72f5b2ea-33d6-44d2-854f-a790946baeb4\",\"type\":\"DataRange1d\"},{\"attributes\":{\"line_alpha\":0.1,\"line_color\":\"#1f77b4\",\"x\":{\"field\":\"x\"},\"y\":{\"field\":\"y\"}},\"id\":\"1731e7a9-af89-4034-b069-0699e9d0c9ad\",\"type\":\"Line\"},{\"attributes\":{\"plot\":{\"id\":\"1729c18b-a481-43f8-b1f4-307df66403e4\",\"subtype\":\"Figure\",\"type\":\"Plot\"},\"ticker\":{\"id\":\"ea5ae9ce-b5d2-4902-9ade-1b617c8acf54\",\"type\":\"BasicTicker\"}},\"id\":\"f17a11a4-1e56-423c-9bbd-eaf2382830b8\",\"type\":\"Grid\"},{\"attributes\":{\"axis_label\":\"log Bayes factor\",\"formatter\":{\"id\":\"16a4a34b-8fa7-4aa7-a072-68c62b6ba1be\",\"type\":\"BasicTickFormatter\"},\"plot\":{\"id\":\"1729c18b-a481-43f8-b1f4-307df66403e4\",\"subtype\":\"Figure\",\"type\":\"Plot\"},\"ticker\":{\"id\":\"c59aca39-1b85-4990-94ad-8d184a4437f7\",\"type\":\"BasicTicker\"}},\"id\":\"4906d990-c38f-47a9-83ce-9df91b2211ab\",\"type\":\"LinearAxis\"},{\"attributes\":{\"bottom_units\":\"screen\",\"fill_alpha\":{\"value\":0.5},\"fill_color\":{\"value\":\"lightgrey\"},\"left_units\":\"screen\",\"level\":\"overlay\",\"line_alpha\":{\"value\":1.0},\"line_color\":{\"value\":\"black\"},\"line_dash\":[4,4],\"line_width\":{\"value\":2},\"plot\":null,\"render_mode\":\"css\",\"right_units\":\"screen\",\"top_units\":\"screen\"},\"id\":\"141d078d-ce61-4a9d-85a7-e4c1073b933d\",\"type\":\"BoxAnnotation\"},{\"attributes\":{\"source\":{\"id\":\"c35e1f77-a0b9-4d8b-baab-884beaf6ce50\",\"type\":\"ColumnDataSource\"}},\"id\":\"e667a1cb-af26-476a-b9d8-078267cd7866\",\"type\":\"CDSView\"},{\"attributes\":{\"plot\":null,\"text\":\"Model Comparison\"},\"id\":\"3f3581e6-cacc-4a3e-85bb-a77cb2d45d44\",\"type\":\"Title\"},{\"attributes\":{},\"id\":\"7303dc91-a058-4aee-b10a-405cd9264237\",\"type\":\"PanTool\"},{\"attributes\":{},\"id\":\"7fd95d99-059b-494d-ab4e-e657fccb624f\",\"type\":\"LinearScale\"},{\"attributes\":{\"overlay\":{\"id\":\"141d078d-ce61-4a9d-85a7-e4c1073b933d\",\"type\":\"BoxAnnotation\"}},\"id\":\"2eb34c2c-aee5-4b6e-b98a-1f84730e2c75\",\"type\":\"BoxZoomTool\"},{\"attributes\":{\"callback\":null},\"id\":\"734f90d5-6230-4b93-8b2d-998c8259ba90\",\"type\":\"DataRange1d\"},{\"attributes\":{},\"id\":\"ed6f890f-0dcb-4e70-a287-4cf4de476cee\",\"type\":\"WheelZoomTool\"},{\"attributes\":{},\"id\":\"e95c50bf-a0a2-4c8f-b9be-e2a8bdada127\",\"type\":\"SaveTool\"},{\"attributes\":{\"active_drag\":\"auto\",\"active_inspect\":\"auto\",\"active_scroll\":\"auto\",\"active_tap\":\"auto\",\"tools\":[{\"id\":\"7303dc91-a058-4aee-b10a-405cd9264237\",\"type\":\"PanTool\"},{\"id\":\"ed6f890f-0dcb-4e70-a287-4cf4de476cee\",\"type\":\"WheelZoomTool\"},{\"id\":\"2eb34c2c-aee5-4b6e-b98a-1f84730e2c75\",\"type\":\"BoxZoomTool\"},{\"id\":\"e95c50bf-a0a2-4c8f-b9be-e2a8bdada127\",\"type\":\"SaveTool\"},{\"id\":\"be5c1aa3-c616-4b4f-a12e-8ba3ee955632\",\"type\":\"ResetTool\"},{\"id\":\"36e18066-61a7-4825-a0f3-0791ab9ef396\",\"type\":\"HelpTool\"}]},\"id\":\"945bc5a0-02b3-4bd8-aa21-8446b17f2d5a\",\"type\":\"Toolbar\"}],\"root_ids\":[\"1729c18b-a481-43f8-b1f4-307df66403e4\"]},\"title\":\"Bokeh Application\",\"version\":\"0.12.14\"}};\n",
       "  var render_items = [{\"docid\":\"18fd6530-5242-4641-8fc9-b32788751b5b\",\"elementid\":\"73ccc3fd-1f6a-4e21-bf8d-a7980fff3531\",\"modelid\":\"1729c18b-a481-43f8-b1f4-307df66403e4\"}];\n",
       "  root.Bokeh.embed.embed_items_notebook(docs_json, render_items);\n",
       "\n",
       "  }\n",
       "  if (root.Bokeh !== undefined) {\n",
       "    embed_document(root);\n",
       "  } else {\n",
       "    var attempts = 0;\n",
       "    var timer = setInterval(function(root) {\n",
       "      if (root.Bokeh !== undefined) {\n",
       "        embed_document(root);\n",
       "        clearInterval(timer);\n",
       "      }\n",
       "      attempts++;\n",
       "      if (attempts > 100) {\n",
       "        console.log(\"Bokeh: ERROR: Unable to run BokehJS code because BokehJS library is missing\")\n",
       "        clearInterval(timer);\n",
       "      }\n",
       "    }, 10, root)\n",
       "  }\n",
       "})(window);"
      ],
      "application/vnd.bokehjs_exec.v0+json": ""
     },
     "metadata": {
      "application/vnd.bokehjs_exec.v0+json": {
       "id": "1729c18b-a481-43f8-b1f4-307df66403e4"
      }
     },
     "output_type": "display_data"
    }
   ],
   "source": [
    "from scipy.special import logsumexp\n",
    "import copy\n",
    "\n",
    "lambdas = np.linspace(-.99, .99, 100)\n",
    "lBs = []\n",
    "    \n",
    "# For each value of lambda.\n",
    "for l in lambdas:\n",
    "    \n",
    "    # Generate the data.\n",
    "    cov = np.array([\n",
    "        [1, l],\n",
    "        [l, 1]\n",
    "    ])\n",
    "    X = np.random.multivariate_normal(np.zeros(2), cov, size=1000)\n",
    "    X = torch.from_numpy(X).float()\n",
    "    \n",
    "    # Fit both models\n",
    "    normal_diag = beer.NormalDiagonalCovariance.create(torch.zeros(2), torch.eye(2), prior_count=1e-3)\n",
    "    beer.train_loglinear_model(normal_diag, X)\n",
    "    normal = beer.NormalFullCovariance.create(torch.zeros(2), torch.eye(2), prior_count=1e-3)\n",
    "    beer.train_loglinear_model(normal, X)\n",
    "    \n",
    "    # Compute the log Bayes factor.\n",
    "    llh_M1 = normal.posterior.log_norm - normal.prior.log_norm\n",
    "    llh_M2 = normal_diag.posterior.log_norm - normal_diag.prior.log_norm\n",
    "    lBs.append((llh_M1 - llh_M2))\n",
    "    \n",
    "lBs = np.array(lBs)\n",
    "fig1 = figure(\n",
    "    title='Model Comparison',\n",
    "    x_axis_label='λ',\n",
    "    y_axis_label='log Bayes factor',\n",
    "    width=400,\n",
    "    height=400\n",
    ")\n",
    "fig1.line(lambdas, lBs)\n",
    "\n",
    "show(fig1)"
   ]
  }
 ],
 "metadata": {
  "kernelspec": {
   "display_name": "Python 3",
   "language": "python",
   "name": "python3"
  },
  "language_info": {
   "codemirror_mode": {
    "name": "ipython",
    "version": 3
   },
   "file_extension": ".py",
   "mimetype": "text/x-python",
   "name": "python",
   "nbconvert_exporter": "python",
   "pygments_lexer": "ipython3",
   "version": "3.6.4"
  }
 },
 "nbformat": 4,
 "nbformat_minor": 2
}
