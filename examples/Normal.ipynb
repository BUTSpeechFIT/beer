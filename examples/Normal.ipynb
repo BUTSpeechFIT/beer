{
 "cells": [
  {
   "cell_type": "markdown",
   "metadata": {},
   "source": [
    "# Bayesian Model\n",
    "\n",
    "This notebook illustrate how to use a Bayesian Normal density model with the [beer framework](https://github.com/beer-asr/beer). The Normal distribution is a fairly basic models but it is used extenslively in other model as a basic building block."
   ]
  },
  {
   "cell_type": "code",
   "execution_count": 1,
   "metadata": {},
   "outputs": [
    {
     "data": {
      "text/html": [
       "\n",
       "    <div class=\"bk-root\">\n",
       "        <a href=\"https://bokeh.pydata.org\" target=\"_blank\" class=\"bk-logo bk-logo-small bk-logo-notebook\"></a>\n",
       "        <span id=\"1001\">Loading BokehJS ...</span>\n",
       "    </div>"
      ]
     },
     "metadata": {},
     "output_type": "display_data"
    },
    {
     "data": {
      "application/javascript": [
       "\n",
       "(function(root) {\n",
       "  function now() {\n",
       "    return new Date();\n",
       "  }\n",
       "\n",
       "  var force = true;\n",
       "\n",
       "  if (typeof (root._bokeh_onload_callbacks) === \"undefined\" || force === true) {\n",
       "    root._bokeh_onload_callbacks = [];\n",
       "    root._bokeh_is_loading = undefined;\n",
       "  }\n",
       "\n",
       "  var JS_MIME_TYPE = 'application/javascript';\n",
       "  var HTML_MIME_TYPE = 'text/html';\n",
       "  var EXEC_MIME_TYPE = 'application/vnd.bokehjs_exec.v0+json';\n",
       "  var CLASS_NAME = 'output_bokeh rendered_html';\n",
       "\n",
       "  /**\n",
       "   * Render data to the DOM node\n",
       "   */\n",
       "  function render(props, node) {\n",
       "    var script = document.createElement(\"script\");\n",
       "    node.appendChild(script);\n",
       "  }\n",
       "\n",
       "  /**\n",
       "   * Handle when an output is cleared or removed\n",
       "   */\n",
       "  function handleClearOutput(event, handle) {\n",
       "    var cell = handle.cell;\n",
       "\n",
       "    var id = cell.output_area._bokeh_element_id;\n",
       "    var server_id = cell.output_area._bokeh_server_id;\n",
       "    // Clean up Bokeh references\n",
       "    if (id != null && id in Bokeh.index) {\n",
       "      Bokeh.index[id].model.document.clear();\n",
       "      delete Bokeh.index[id];\n",
       "    }\n",
       "\n",
       "    if (server_id !== undefined) {\n",
       "      // Clean up Bokeh references\n",
       "      var cmd = \"from bokeh.io.state import curstate; print(curstate().uuid_to_server['\" + server_id + \"'].get_sessions()[0].document.roots[0]._id)\";\n",
       "      cell.notebook.kernel.execute(cmd, {\n",
       "        iopub: {\n",
       "          output: function(msg) {\n",
       "            var id = msg.content.text.trim();\n",
       "            if (id in Bokeh.index) {\n",
       "              Bokeh.index[id].model.document.clear();\n",
       "              delete Bokeh.index[id];\n",
       "            }\n",
       "          }\n",
       "        }\n",
       "      });\n",
       "      // Destroy server and session\n",
       "      var cmd = \"import bokeh.io.notebook as ion; ion.destroy_server('\" + server_id + \"')\";\n",
       "      cell.notebook.kernel.execute(cmd);\n",
       "    }\n",
       "  }\n",
       "\n",
       "  /**\n",
       "   * Handle when a new output is added\n",
       "   */\n",
       "  function handleAddOutput(event, handle) {\n",
       "    var output_area = handle.output_area;\n",
       "    var output = handle.output;\n",
       "\n",
       "    // limit handleAddOutput to display_data with EXEC_MIME_TYPE content only\n",
       "    if ((output.output_type != \"display_data\") || (!output.data.hasOwnProperty(EXEC_MIME_TYPE))) {\n",
       "      return\n",
       "    }\n",
       "\n",
       "    var toinsert = output_area.element.find(\".\" + CLASS_NAME.split(' ')[0]);\n",
       "\n",
       "    if (output.metadata[EXEC_MIME_TYPE][\"id\"] !== undefined) {\n",
       "      toinsert[toinsert.length - 1].firstChild.textContent = output.data[JS_MIME_TYPE];\n",
       "      // store reference to embed id on output_area\n",
       "      output_area._bokeh_element_id = output.metadata[EXEC_MIME_TYPE][\"id\"];\n",
       "    }\n",
       "    if (output.metadata[EXEC_MIME_TYPE][\"server_id\"] !== undefined) {\n",
       "      var bk_div = document.createElement(\"div\");\n",
       "      bk_div.innerHTML = output.data[HTML_MIME_TYPE];\n",
       "      var script_attrs = bk_div.children[0].attributes;\n",
       "      for (var i = 0; i < script_attrs.length; i++) {\n",
       "        toinsert[toinsert.length - 1].firstChild.setAttribute(script_attrs[i].name, script_attrs[i].value);\n",
       "      }\n",
       "      // store reference to server id on output_area\n",
       "      output_area._bokeh_server_id = output.metadata[EXEC_MIME_TYPE][\"server_id\"];\n",
       "    }\n",
       "  }\n",
       "\n",
       "  function register_renderer(events, OutputArea) {\n",
       "\n",
       "    function append_mime(data, metadata, element) {\n",
       "      // create a DOM node to render to\n",
       "      var toinsert = this.create_output_subarea(\n",
       "        metadata,\n",
       "        CLASS_NAME,\n",
       "        EXEC_MIME_TYPE\n",
       "      );\n",
       "      this.keyboard_manager.register_events(toinsert);\n",
       "      // Render to node\n",
       "      var props = {data: data, metadata: metadata[EXEC_MIME_TYPE]};\n",
       "      render(props, toinsert[toinsert.length - 1]);\n",
       "      element.append(toinsert);\n",
       "      return toinsert\n",
       "    }\n",
       "\n",
       "    /* Handle when an output is cleared or removed */\n",
       "    events.on('clear_output.CodeCell', handleClearOutput);\n",
       "    events.on('delete.Cell', handleClearOutput);\n",
       "\n",
       "    /* Handle when a new output is added */\n",
       "    events.on('output_added.OutputArea', handleAddOutput);\n",
       "\n",
       "    /**\n",
       "     * Register the mime type and append_mime function with output_area\n",
       "     */\n",
       "    OutputArea.prototype.register_mime_type(EXEC_MIME_TYPE, append_mime, {\n",
       "      /* Is output safe? */\n",
       "      safe: true,\n",
       "      /* Index of renderer in `output_area.display_order` */\n",
       "      index: 0\n",
       "    });\n",
       "  }\n",
       "\n",
       "  // register the mime type if in Jupyter Notebook environment and previously unregistered\n",
       "  if (root.Jupyter !== undefined) {\n",
       "    var events = require('base/js/events');\n",
       "    var OutputArea = require('notebook/js/outputarea').OutputArea;\n",
       "\n",
       "    if (OutputArea.prototype.mime_types().indexOf(EXEC_MIME_TYPE) == -1) {\n",
       "      register_renderer(events, OutputArea);\n",
       "    }\n",
       "  }\n",
       "\n",
       "  \n",
       "  if (typeof (root._bokeh_timeout) === \"undefined\" || force === true) {\n",
       "    root._bokeh_timeout = Date.now() + 5000;\n",
       "    root._bokeh_failed_load = false;\n",
       "  }\n",
       "\n",
       "  var NB_LOAD_WARNING = {'data': {'text/html':\n",
       "     \"<div style='background-color: #fdd'>\\n\"+\n",
       "     \"<p>\\n\"+\n",
       "     \"BokehJS does not appear to have successfully loaded. If loading BokehJS from CDN, this \\n\"+\n",
       "     \"may be due to a slow or bad network connection. Possible fixes:\\n\"+\n",
       "     \"</p>\\n\"+\n",
       "     \"<ul>\\n\"+\n",
       "     \"<li>re-rerun `output_notebook()` to attempt to load from CDN again, or</li>\\n\"+\n",
       "     \"<li>use INLINE resources instead, as so:</li>\\n\"+\n",
       "     \"</ul>\\n\"+\n",
       "     \"<code>\\n\"+\n",
       "     \"from bokeh.resources import INLINE\\n\"+\n",
       "     \"output_notebook(resources=INLINE)\\n\"+\n",
       "     \"</code>\\n\"+\n",
       "     \"</div>\"}};\n",
       "\n",
       "  function display_loaded() {\n",
       "    var el = document.getElementById(\"1001\");\n",
       "    if (el != null) {\n",
       "      el.textContent = \"BokehJS is loading...\";\n",
       "    }\n",
       "    if (root.Bokeh !== undefined) {\n",
       "      if (el != null) {\n",
       "        el.textContent = \"BokehJS \" + root.Bokeh.version + \" successfully loaded.\";\n",
       "      }\n",
       "    } else if (Date.now() < root._bokeh_timeout) {\n",
       "      setTimeout(display_loaded, 100)\n",
       "    }\n",
       "  }\n",
       "\n",
       "\n",
       "  function run_callbacks() {\n",
       "    try {\n",
       "      root._bokeh_onload_callbacks.forEach(function(callback) { callback() });\n",
       "    }\n",
       "    finally {\n",
       "      delete root._bokeh_onload_callbacks\n",
       "    }\n",
       "    console.info(\"Bokeh: all callbacks have finished\");\n",
       "  }\n",
       "\n",
       "  function load_libs(js_urls, callback) {\n",
       "    root._bokeh_onload_callbacks.push(callback);\n",
       "    if (root._bokeh_is_loading > 0) {\n",
       "      console.log(\"Bokeh: BokehJS is being loaded, scheduling callback at\", now());\n",
       "      return null;\n",
       "    }\n",
       "    if (js_urls == null || js_urls.length === 0) {\n",
       "      run_callbacks();\n",
       "      return null;\n",
       "    }\n",
       "    console.log(\"Bokeh: BokehJS not loaded, scheduling load and callback at\", now());\n",
       "    root._bokeh_is_loading = js_urls.length;\n",
       "    for (var i = 0; i < js_urls.length; i++) {\n",
       "      var url = js_urls[i];\n",
       "      var s = document.createElement('script');\n",
       "      s.src = url;\n",
       "      s.async = false;\n",
       "      s.onreadystatechange = s.onload = function() {\n",
       "        root._bokeh_is_loading--;\n",
       "        if (root._bokeh_is_loading === 0) {\n",
       "          console.log(\"Bokeh: all BokehJS libraries loaded\");\n",
       "          run_callbacks()\n",
       "        }\n",
       "      };\n",
       "      s.onerror = function() {\n",
       "        console.warn(\"failed to load library \" + url);\n",
       "      };\n",
       "      console.log(\"Bokeh: injecting script tag for BokehJS library: \", url);\n",
       "      document.getElementsByTagName(\"head\")[0].appendChild(s);\n",
       "    }\n",
       "  };var element = document.getElementById(\"1001\");\n",
       "  if (element == null) {\n",
       "    console.log(\"Bokeh: ERROR: autoload.js configured with elementid '1001' but no matching script tag was found. \")\n",
       "    return false;\n",
       "  }\n",
       "\n",
       "  var js_urls = [\"https://cdn.pydata.org/bokeh/release/bokeh-1.0.2.min.js\", \"https://cdn.pydata.org/bokeh/release/bokeh-widgets-1.0.2.min.js\", \"https://cdn.pydata.org/bokeh/release/bokeh-tables-1.0.2.min.js\", \"https://cdn.pydata.org/bokeh/release/bokeh-gl-1.0.2.min.js\"];\n",
       "\n",
       "  var inline_js = [\n",
       "    function(Bokeh) {\n",
       "      Bokeh.set_log_level(\"info\");\n",
       "    },\n",
       "    \n",
       "    function(Bokeh) {\n",
       "      \n",
       "    },\n",
       "    function(Bokeh) {\n",
       "      console.log(\"Bokeh: injecting CSS: https://cdn.pydata.org/bokeh/release/bokeh-1.0.2.min.css\");\n",
       "      Bokeh.embed.inject_css(\"https://cdn.pydata.org/bokeh/release/bokeh-1.0.2.min.css\");\n",
       "      console.log(\"Bokeh: injecting CSS: https://cdn.pydata.org/bokeh/release/bokeh-widgets-1.0.2.min.css\");\n",
       "      Bokeh.embed.inject_css(\"https://cdn.pydata.org/bokeh/release/bokeh-widgets-1.0.2.min.css\");\n",
       "      console.log(\"Bokeh: injecting CSS: https://cdn.pydata.org/bokeh/release/bokeh-tables-1.0.2.min.css\");\n",
       "      Bokeh.embed.inject_css(\"https://cdn.pydata.org/bokeh/release/bokeh-tables-1.0.2.min.css\");\n",
       "    }\n",
       "  ];\n",
       "\n",
       "  function run_inline_js() {\n",
       "    \n",
       "    if ((root.Bokeh !== undefined) || (force === true)) {\n",
       "      for (var i = 0; i < inline_js.length; i++) {\n",
       "        inline_js[i].call(root, root.Bokeh);\n",
       "      }if (force === true) {\n",
       "        display_loaded();\n",
       "      }} else if (Date.now() < root._bokeh_timeout) {\n",
       "      setTimeout(run_inline_js, 100);\n",
       "    } else if (!root._bokeh_failed_load) {\n",
       "      console.log(\"Bokeh: BokehJS failed to load within specified timeout.\");\n",
       "      root._bokeh_failed_load = true;\n",
       "    } else if (force !== true) {\n",
       "      var cell = $(document.getElementById(\"1001\")).parents('.cell').data().cell;\n",
       "      cell.output_area.append_execute_result(NB_LOAD_WARNING)\n",
       "    }\n",
       "\n",
       "  }\n",
       "\n",
       "  if (root._bokeh_is_loading === 0) {\n",
       "    console.log(\"Bokeh: BokehJS loaded, going straight to plotting\");\n",
       "    run_inline_js();\n",
       "  } else {\n",
       "    load_libs(js_urls, function() {\n",
       "      console.log(\"Bokeh: BokehJS plotting callback run at\", now());\n",
       "      run_inline_js();\n",
       "    });\n",
       "  }\n",
       "}(window));"
      ],
      "application/vnd.bokehjs_load.v0+json": "\n(function(root) {\n  function now() {\n    return new Date();\n  }\n\n  var force = true;\n\n  if (typeof (root._bokeh_onload_callbacks) === \"undefined\" || force === true) {\n    root._bokeh_onload_callbacks = [];\n    root._bokeh_is_loading = undefined;\n  }\n\n  \n\n  \n  if (typeof (root._bokeh_timeout) === \"undefined\" || force === true) {\n    root._bokeh_timeout = Date.now() + 5000;\n    root._bokeh_failed_load = false;\n  }\n\n  var NB_LOAD_WARNING = {'data': {'text/html':\n     \"<div style='background-color: #fdd'>\\n\"+\n     \"<p>\\n\"+\n     \"BokehJS does not appear to have successfully loaded. If loading BokehJS from CDN, this \\n\"+\n     \"may be due to a slow or bad network connection. Possible fixes:\\n\"+\n     \"</p>\\n\"+\n     \"<ul>\\n\"+\n     \"<li>re-rerun `output_notebook()` to attempt to load from CDN again, or</li>\\n\"+\n     \"<li>use INLINE resources instead, as so:</li>\\n\"+\n     \"</ul>\\n\"+\n     \"<code>\\n\"+\n     \"from bokeh.resources import INLINE\\n\"+\n     \"output_notebook(resources=INLINE)\\n\"+\n     \"</code>\\n\"+\n     \"</div>\"}};\n\n  function display_loaded() {\n    var el = document.getElementById(\"1001\");\n    if (el != null) {\n      el.textContent = \"BokehJS is loading...\";\n    }\n    if (root.Bokeh !== undefined) {\n      if (el != null) {\n        el.textContent = \"BokehJS \" + root.Bokeh.version + \" successfully loaded.\";\n      }\n    } else if (Date.now() < root._bokeh_timeout) {\n      setTimeout(display_loaded, 100)\n    }\n  }\n\n\n  function run_callbacks() {\n    try {\n      root._bokeh_onload_callbacks.forEach(function(callback) { callback() });\n    }\n    finally {\n      delete root._bokeh_onload_callbacks\n    }\n    console.info(\"Bokeh: all callbacks have finished\");\n  }\n\n  function load_libs(js_urls, callback) {\n    root._bokeh_onload_callbacks.push(callback);\n    if (root._bokeh_is_loading > 0) {\n      console.log(\"Bokeh: BokehJS is being loaded, scheduling callback at\", now());\n      return null;\n    }\n    if (js_urls == null || js_urls.length === 0) {\n      run_callbacks();\n      return null;\n    }\n    console.log(\"Bokeh: BokehJS not loaded, scheduling load and callback at\", now());\n    root._bokeh_is_loading = js_urls.length;\n    for (var i = 0; i < js_urls.length; i++) {\n      var url = js_urls[i];\n      var s = document.createElement('script');\n      s.src = url;\n      s.async = false;\n      s.onreadystatechange = s.onload = function() {\n        root._bokeh_is_loading--;\n        if (root._bokeh_is_loading === 0) {\n          console.log(\"Bokeh: all BokehJS libraries loaded\");\n          run_callbacks()\n        }\n      };\n      s.onerror = function() {\n        console.warn(\"failed to load library \" + url);\n      };\n      console.log(\"Bokeh: injecting script tag for BokehJS library: \", url);\n      document.getElementsByTagName(\"head\")[0].appendChild(s);\n    }\n  };var element = document.getElementById(\"1001\");\n  if (element == null) {\n    console.log(\"Bokeh: ERROR: autoload.js configured with elementid '1001' but no matching script tag was found. \")\n    return false;\n  }\n\n  var js_urls = [\"https://cdn.pydata.org/bokeh/release/bokeh-1.0.2.min.js\", \"https://cdn.pydata.org/bokeh/release/bokeh-widgets-1.0.2.min.js\", \"https://cdn.pydata.org/bokeh/release/bokeh-tables-1.0.2.min.js\", \"https://cdn.pydata.org/bokeh/release/bokeh-gl-1.0.2.min.js\"];\n\n  var inline_js = [\n    function(Bokeh) {\n      Bokeh.set_log_level(\"info\");\n    },\n    \n    function(Bokeh) {\n      \n    },\n    function(Bokeh) {\n      console.log(\"Bokeh: injecting CSS: https://cdn.pydata.org/bokeh/release/bokeh-1.0.2.min.css\");\n      Bokeh.embed.inject_css(\"https://cdn.pydata.org/bokeh/release/bokeh-1.0.2.min.css\");\n      console.log(\"Bokeh: injecting CSS: https://cdn.pydata.org/bokeh/release/bokeh-widgets-1.0.2.min.css\");\n      Bokeh.embed.inject_css(\"https://cdn.pydata.org/bokeh/release/bokeh-widgets-1.0.2.min.css\");\n      console.log(\"Bokeh: injecting CSS: https://cdn.pydata.org/bokeh/release/bokeh-tables-1.0.2.min.css\");\n      Bokeh.embed.inject_css(\"https://cdn.pydata.org/bokeh/release/bokeh-tables-1.0.2.min.css\");\n    }\n  ];\n\n  function run_inline_js() {\n    \n    if ((root.Bokeh !== undefined) || (force === true)) {\n      for (var i = 0; i < inline_js.length; i++) {\n        inline_js[i].call(root, root.Bokeh);\n      }if (force === true) {\n        display_loaded();\n      }} else if (Date.now() < root._bokeh_timeout) {\n      setTimeout(run_inline_js, 100);\n    } else if (!root._bokeh_failed_load) {\n      console.log(\"Bokeh: BokehJS failed to load within specified timeout.\");\n      root._bokeh_failed_load = true;\n    } else if (force !== true) {\n      var cell = $(document.getElementById(\"1001\")).parents('.cell').data().cell;\n      cell.output_area.append_execute_result(NB_LOAD_WARNING)\n    }\n\n  }\n\n  if (root._bokeh_is_loading === 0) {\n    console.log(\"Bokeh: BokehJS loaded, going straight to plotting\");\n    run_inline_js();\n  } else {\n    load_libs(js_urls, function() {\n      console.log(\"Bokeh: BokehJS plotting callback run at\", now());\n      run_inline_js();\n    });\n  }\n}(window));"
     },
     "metadata": {},
     "output_type": "display_data"
    }
   ],
   "source": [
    "# Add \"beer\" to the PYTHONPATH\n",
    "import random\n",
    "from collections import defaultdict\n",
    "import sys\n",
    "sys.path.insert(0, '../')\n",
    "\n",
    "\n",
    "import beer\n",
    "import numpy as np\n",
    "import torch\n",
    "\n",
    "# For plotting.\n",
    "from bokeh.io import show, output_notebook\n",
    "from bokeh.plotting import figure, gridplot\n",
    "output_notebook()\n",
    "\n",
    "# Convenience functions for plotting.\n",
    "import plotting\n",
    "\n",
    "%load_ext autoreload\n",
    "%autoreload 2"
   ]
  },
  {
   "cell_type": "markdown",
   "metadata": {},
   "source": [
    "## Data\n",
    "\n",
    "Generate some normally distributed data:"
   ]
  },
  {
   "cell_type": "code",
   "execution_count": 2,
   "metadata": {},
   "outputs": [
    {
     "data": {
      "text/html": [
       "\n",
       "\n",
       "\n",
       "\n",
       "\n",
       "\n",
       "  <div class=\"bk-root\" id=\"eb7c220e-317c-4f8a-8b0a-7a60b6f36d5f\"></div>\n"
      ]
     },
     "metadata": {},
     "output_type": "display_data"
    },
    {
     "data": {
      "application/javascript": [
       "(function(root) {\n",
       "  function embed_document(root) {\n",
       "    \n",
       "  var docs_json = {\"79cd90d5-6708-4958-8eab-afa3da009836\":{\"roots\":{\"references\":[{\"attributes\":{\"below\":[{\"id\":\"1013\",\"type\":\"LinearAxis\"}],\"left\":[{\"id\":\"1018\",\"type\":\"LinearAxis\"}],\"plot_height\":400,\"plot_width\":400,\"renderers\":[{\"id\":\"1013\",\"type\":\"LinearAxis\"},{\"id\":\"1017\",\"type\":\"Grid\"},{\"id\":\"1018\",\"type\":\"LinearAxis\"},{\"id\":\"1022\",\"type\":\"Grid\"},{\"id\":\"1031\",\"type\":\"BoxAnnotation\"},{\"id\":\"1041\",\"type\":\"GlyphRenderer\"},{\"id\":\"1046\",\"type\":\"GlyphRenderer\"},{\"id\":\"1051\",\"type\":\"GlyphRenderer\"}],\"title\":{\"id\":\"1002\",\"type\":\"Title\"},\"toolbar\":{\"id\":\"1029\",\"type\":\"Toolbar\"},\"x_range\":{\"id\":\"1005\",\"type\":\"Range1d\"},\"x_scale\":{\"id\":\"1009\",\"type\":\"LinearScale\"},\"y_range\":{\"id\":\"1007\",\"type\":\"Range1d\"},\"y_scale\":{\"id\":\"1011\",\"type\":\"LinearScale\"}},\"id\":\"1003\",\"subtype\":\"Figure\",\"type\":\"Plot\"},{\"attributes\":{},\"id\":\"1019\",\"type\":\"BasicTicker\"},{\"attributes\":{},\"id\":\"1027\",\"type\":\"ResetTool\"},{\"attributes\":{\"data_source\":{\"id\":\"1038\",\"type\":\"ColumnDataSource\"},\"glyph\":{\"id\":\"1039\",\"type\":\"Circle\"},\"hover_glyph\":null,\"muted_glyph\":null,\"nonselection_glyph\":{\"id\":\"1040\",\"type\":\"Circle\"},\"selection_glyph\":null,\"view\":{\"id\":\"1042\",\"type\":\"CDSView\"}},\"id\":\"1041\",\"type\":\"GlyphRenderer\"},{\"attributes\":{\"plot\":null,\"text\":\"Data\"},\"id\":\"1002\",\"type\":\"Title\"},{\"attributes\":{},\"id\":\"1060\",\"type\":\"Selection\"},{\"attributes\":{},\"id\":\"1028\",\"type\":\"HelpTool\"},{\"attributes\":{\"active_drag\":\"auto\",\"active_inspect\":\"auto\",\"active_multi\":null,\"active_scroll\":\"auto\",\"active_tap\":\"auto\",\"tools\":[{\"id\":\"1023\",\"type\":\"PanTool\"},{\"id\":\"1024\",\"type\":\"WheelZoomTool\"},{\"id\":\"1025\",\"type\":\"BoxZoomTool\"},{\"id\":\"1026\",\"type\":\"SaveTool\"},{\"id\":\"1027\",\"type\":\"ResetTool\"},{\"id\":\"1028\",\"type\":\"HelpTool\"}]},\"id\":\"1029\",\"type\":\"Toolbar\"},{\"attributes\":{\"callback\":null,\"end\":5.0,\"start\":-5.0},\"id\":\"1005\",\"type\":\"Range1d\"},{\"attributes\":{},\"id\":\"1062\",\"type\":\"Selection\"},{\"attributes\":{\"callback\":null,\"end\":5.0,\"start\":-5.0},\"id\":\"1007\",\"type\":\"Range1d\"},{\"attributes\":{\"bottom_units\":\"screen\",\"fill_alpha\":{\"value\":0.5},\"fill_color\":{\"value\":\"lightgrey\"},\"left_units\":\"screen\",\"level\":\"overlay\",\"line_alpha\":{\"value\":1.0},\"line_color\":{\"value\":\"black\"},\"line_dash\":[4,4],\"line_width\":{\"value\":2},\"plot\":null,\"render_mode\":\"css\",\"right_units\":\"screen\",\"top_units\":\"screen\"},\"id\":\"1031\",\"type\":\"BoxAnnotation\"},{\"attributes\":{},\"id\":\"1063\",\"type\":\"UnionRenderers\"},{\"attributes\":{},\"id\":\"1059\",\"type\":\"UnionRenderers\"},{\"attributes\":{},\"id\":\"1009\",\"type\":\"LinearScale\"},{\"attributes\":{},\"id\":\"1064\",\"type\":\"Selection\"},{\"attributes\":{},\"id\":\"1011\",\"type\":\"LinearScale\"},{\"attributes\":{\"callback\":null,\"data\":{\"x\":{\"__ndarray__\":\"zTt/Zp6gBkD/aBeat5QGQEpH+7kPcQZAxDZRSMw1BkC/j9WcK+MFQECmRaOEeQVAnt/vf0b5BEBDCska+GIEQH71gZE3twNAdpMykbn2AkCHnkmYSCICQJ6yiCHEOgFAxu/suB9BAEDd6Pb2w2z+P3Rl/gVHN/w/aHu1fRvk+T/TJUl2s3X3PwkMrq6d7vQ/w3Xc24JR8j+F03m5RULvP5J+baujwOk/dhnXbeoj5D8TMwPBAuTcPxjbsFnMYdE/HshwxDM1tz/Yx3DEMzW3vwbbsFnMYdG/ATMDwQLk3L90Gddt6iPkv4l+baujwOm/fNN5uUVC77++ddzbglHyvwQMrq6d7vS/0SVJdrN1979le7V9G+T5v3Nl/gVHN/y/2ej29sNs/r/F7+y4H0EAwJyyiCHEOgHAhp5JmEgiAsBzkzKRufYCwH31gZE3twPAQgrJGvhiBMCd3+9/RvkEwECmRaOEeQXAvo/VnCvjBcDENlFIzDUGwElH+7kPcQbA/2gXmreUBsDNO39mnqAGwM07f2aeoAbA/2gXmreUBsBJR/u5D3EGwMQ2UUjMNQbAvo/VnCvjBcBApkWjhHkFwJ3f739G+QTAQgrJGvhiBMB99YGRN7cDwHOTMpG59gLAhp5JmEgiAsCcsoghxDoBwMXv7LgfQQDA2ej29sNs/r9zZf4FRzf8v2V7tX0b5Pm/0SVJdrN1978EDK6une70v7513NuCUfK/fNN5uUVC77+Jfm2ro8Dpv3QZ123qI+S/ATMDwQLk3L8G27BZzGHRv9jHcMQzNbe/HshwxDM1tz8Y27BZzGHRPxMzA8EC5Nw/dhnXbeoj5D+Sfm2ro8DpP4XTeblFQu8/w3Xc24JR8j8JDK6une70P9MlSXazdfc/aHu1fRvk+T90Zf4FRzf8P93o9vbDbP4/xu/suB9BAECesoghxDoBQIeeSZhIIgJAdpMykbn2AkB+9YGRN7cDQEMKyRr4YgRAnt/vf0b5BEBApkWjhHkFQL+P1Zwr4wVAxDZRSMw1BkBKR/u5D3EGQP9oF5q3lAZAzTt/Zp6gBkA=\",\"dtype\":\"float64\",\"shape\":[100]},\"y\":{\"__ndarray__\":\"m0Vf4fx+9T+/MUnsR9P2PxfR+xKQD/g/IBVMnogy+T/esFZ3/zr6P3RtfmneJ/s/CFMVRyz4+z/5x3zvDav8P5nnqDXHP/0/+pIUpru1/T+T/lUrbwz+PyCbppCGQ/4/egnV4cda/j9SKzyoGlL+P8AufwSIKf4/XYLvpDrh/T+Yy6aYfnn9P5gahP/A8vw/tIZgl49N/D/Q9fMmmIr7PzrpBsenqvo/up2xCqqu+T+xdYsHqJf4P/Bdzz7HZvc/ZIaaaEgd9j+EOooihrz0P4PDG4PzRfM/X+ZNkxq78T/WpB6wmh3wPzyaMqtN3uw/T/yAqgdj6T98+mrzDM3lPyfrIzMjIOI/sJ7rbVDA3D/KZwy2GyLVP0imBZBX28o/6OFMQG6stj8gXHFKWeugv8zBtatwx8O/2CBxPp6f0b8Ye5Qd+kjZv3GiNVfea+C/a/2bU/kh5L+kqzGL5sLnv51ppczUSuu/dMAXMg227r+3n7SEewDxv7ucYc4NlPK/uxWw6xQU9L+aRV/h/H71v5xFX+H8fvW/wTFJ7EfT9r8Z0fsSkA/4vyEVTJ6IMvm/4LBWd/86+r92bX5p3if7vwpTFUcs+Pu/+Md87w2r/L+a56g1xz/9v/qSFKa7tf2/kv5VK28M/r8gm6aQhkP+v3oJ1eHHWv6/Uis8qBpS/r/BLn8EiCn+v16C76Q64f2/mMummH55/b+WGoT/wPL8v7KGYJePTfy/zvXzJpiK+7846QbHp6r6v7qdsQqqrvm/r3WLB6iX+L/tXc8+x2b3v2KGmmhIHfa/gjqKIoa89L+AwxuD80Xzv13mTZMau/G/1qQesJod8L84mjKrTd7sv0v8gKoHY+m/ePpq8wzN5b8j6yMzIyDiv66e621QwNy/vGcMthsi1b88pgWQV9vKv7jhTEBurLa/UFxxSlnroD/kwbWrcMfDP+QgcT6en9E/KnuUHfpI2T92ojVX3mvgP279m1P5IeQ/qKsxi+bC5z+gaaXM1ErrP3zAFzINtu4/uJ+0hHsA8T+/nGHODZTyP70VsOsUFPQ/m0Vf4fx+9T8=\",\"dtype\":\"float64\",\"shape\":[100]}},\"selected\":{\"id\":\"1062\",\"type\":\"Selection\"},\"selection_policy\":{\"id\":\"1061\",\"type\":\"UnionRenderers\"}},\"id\":\"1043\",\"type\":\"ColumnDataSource\"},{\"attributes\":{\"formatter\":{\"id\":\"1057\",\"type\":\"BasicTickFormatter\"},\"plot\":{\"id\":\"1003\",\"subtype\":\"Figure\",\"type\":\"Plot\"},\"ticker\":{\"id\":\"1014\",\"type\":\"BasicTicker\"}},\"id\":\"1013\",\"type\":\"LinearAxis\"},{\"attributes\":{\"fill_alpha\":0.3,\"fill_color\":\"#1f77b4\",\"x\":{\"field\":\"x\"},\"y\":{\"field\":\"y\"}},\"id\":\"1044\",\"type\":\"Patch\"},{\"attributes\":{},\"id\":\"1014\",\"type\":\"BasicTicker\"},{\"attributes\":{\"fill_alpha\":0.1,\"fill_color\":\"#1f77b4\",\"line_alpha\":0.1,\"line_color\":\"#1f77b4\",\"x\":{\"field\":\"x\"},\"y\":{\"field\":\"y\"}},\"id\":\"1045\",\"type\":\"Patch\"},{\"attributes\":{\"formatter\":{\"id\":\"1055\",\"type\":\"BasicTickFormatter\"},\"plot\":{\"id\":\"1003\",\"subtype\":\"Figure\",\"type\":\"Plot\"},\"ticker\":{\"id\":\"1019\",\"type\":\"BasicTicker\"}},\"id\":\"1018\",\"type\":\"LinearAxis\"},{\"attributes\":{\"data_source\":{\"id\":\"1043\",\"type\":\"ColumnDataSource\"},\"glyph\":{\"id\":\"1044\",\"type\":\"Patch\"},\"hover_glyph\":null,\"muted_glyph\":null,\"nonselection_glyph\":{\"id\":\"1045\",\"type\":\"Patch\"},\"selection_glyph\":null,\"view\":{\"id\":\"1047\",\"type\":\"CDSView\"}},\"id\":\"1046\",\"type\":\"GlyphRenderer\"},{\"attributes\":{\"plot\":{\"id\":\"1003\",\"subtype\":\"Figure\",\"type\":\"Plot\"},\"ticker\":{\"id\":\"1014\",\"type\":\"BasicTicker\"}},\"id\":\"1017\",\"type\":\"Grid\"},{\"attributes\":{\"source\":{\"id\":\"1043\",\"type\":\"ColumnDataSource\"}},\"id\":\"1047\",\"type\":\"CDSView\"},{\"attributes\":{\"callback\":null,\"data\":{\"x\":{\"__ndarray__\":\"zTt/Zp6g9j//aBeat5T2P0pH+7kPcfY/xDZRSMw19j+/j9WcK+P1P0CmRaOEefU/nt/vf0b59D9DCska+GL0P371gZE3t/M/dpMykbn28j+HnkmYSCLyP56yiCHEOvE/xu/suB9B8D/d6Pb2w2zuP3Rl/gVHN+w/aHu1fRvk6T/TJUl2s3XnPwkMrq6d7uQ/w3Xc24JR4j+F03m5RULfP5J+baujwNk/dhnXbeoj1D8TMwPBAuTMPxjbsFnMYcE/HshwxDM1pz/Yx3DEMzWnvwbbsFnMYcG/ATMDwQLkzL90Gddt6iPUv4l+baujwNm/fNN5uUVC37++ddzbglHivwQMrq6d7uS/0SVJdrN1579le7V9G+Tpv3Nl/gVHN+y/2ej29sNs7r/F7+y4H0Hwv5yyiCHEOvG/hp5JmEgi8r9zkzKRufbyv331gZE3t/O/QgrJGvhi9L+d3+9/Rvn0v0CmRaOEefW/vo/VnCvj9b/ENlFIzDX2v0lH+7kPcfa//2gXmreU9r/NO39mnqD2v807f2aeoPa//2gXmreU9r9JR/u5D3H2v8Q2UUjMNfa/vo/VnCvj9b9ApkWjhHn1v53f739G+fS/QgrJGvhi9L999YGRN7fzv3OTMpG59vK/hp5JmEgi8r+csoghxDrxv8Xv7LgfQfC/2ej29sNs7r9zZf4FRzfsv2V7tX0b5Om/0SVJdrN1578EDK6une7kv7513NuCUeK/fNN5uUVC37+Jfm2ro8DZv3QZ123qI9S/ATMDwQLkzL8G27BZzGHBv9jHcMQzNae/HshwxDM1pz8Y27BZzGHBPxMzA8EC5Mw/dhnXbeoj1D+Sfm2ro8DZP4XTeblFQt8/w3Xc24JR4j8JDK6une7kP9MlSXazdec/aHu1fRvk6T90Zf4FRzfsP93o9vbDbO4/xu/suB9B8D+esoghxDrxP4eeSZhIIvI/dpMykbn28j9+9YGRN7fzP0MKyRr4YvQ/nt/vf0b59D9ApkWjhHn1P7+P1Zwr4/U/xDZRSMw19j9KR/u5D3H2P/9oF5q3lPY/zTt/Zp6g9j8=\",\"dtype\":\"float64\",\"shape\":[100]},\"y\":{\"__ndarray__\":\"m0Vf4fx+5T+/MUnsR9PmPxfR+xKQD+g/IBVMnogy6T/esFZ3/zrqP3RtfmneJ+s/CFMVRyz46z/5x3zvDavsP5nnqDXHP+0/+pIUpru17T+T/lUrbwzuPyCbppCGQ+4/egnV4cda7j9SKzyoGlLuP8AufwSIKe4/XYLvpDrh7T+Yy6aYfnntP5gahP/A8uw/tIZgl49N7D/Q9fMmmIrrPzrpBsenquo/up2xCqqu6T+xdYsHqJfoP/Bdzz7HZuc/ZIaaaEgd5j+EOooihrzkP4PDG4PzReM/X+ZNkxq74T/WpB6wmh3gPzyaMqtN3tw/T/yAqgdj2T98+mrzDM3VPyfrIzMjINI/sJ7rbVDAzD/KZwy2GyLFP0imBZBX27o/6OFMQG6spj8gXHFKWeuQv8zBtatwx7O/2CBxPp6fwb8Ye5Qd+kjJv3GiNVfea9C/a/2bU/kh1L+kqzGL5sLXv51ppczUStu/dMAXMg223r+3n7SEewDhv7ucYc4NlOK/uxWw6xQU5L+aRV/h/H7lv5xFX+H8fuW/wTFJ7EfT5r8Z0fsSkA/ovyEVTJ6IMum/4LBWd/866r92bX5p3ifrvwpTFUcs+Ou/+Md87w2r7L+a56g1xz/tv/qSFKa7te2/kv5VK28M7r8gm6aQhkPuv3oJ1eHHWu6/Uis8qBpS7r/BLn8EiCnuv16C76Q64e2/mMummH557b+WGoT/wPLsv7KGYJePTey/zvXzJpiK67846QbHp6rqv7qdsQqqrum/r3WLB6iX6L/tXc8+x2bnv2KGmmhIHea/gjqKIoa85L+AwxuD80Xjv13mTZMau+G/1qQesJod4L84mjKrTd7cv0v8gKoHY9m/ePpq8wzN1b8j6yMzIyDSv66e621QwMy/vGcMthsixb88pgWQV9u6v7jhTEBurKa/UFxxSlnrkD/kwbWrcMezP+QgcT6en8E/KnuUHfpIyT92ojVX3mvQP279m1P5IdQ/qKsxi+bC1z+gaaXM1ErbP3zAFzINtt4/uJ+0hHsA4T+/nGHODZTiP70VsOsUFOQ/m0Vf4fx+5T8=\",\"dtype\":\"float64\",\"shape\":[100]}},\"selected\":{\"id\":\"1064\",\"type\":\"Selection\"},\"selection_policy\":{\"id\":\"1063\",\"type\":\"UnionRenderers\"}},\"id\":\"1048\",\"type\":\"ColumnDataSource\"},{\"attributes\":{\"dimension\":1,\"plot\":{\"id\":\"1003\",\"subtype\":\"Figure\",\"type\":\"Plot\"},\"ticker\":{\"id\":\"1019\",\"type\":\"BasicTicker\"}},\"id\":\"1022\",\"type\":\"Grid\"},{\"attributes\":{\"fill_alpha\":0.3,\"fill_color\":\"#1f77b4\",\"x\":{\"field\":\"x\"},\"y\":{\"field\":\"y\"}},\"id\":\"1049\",\"type\":\"Patch\"},{\"attributes\":{\"source\":{\"id\":\"1038\",\"type\":\"ColumnDataSource\"}},\"id\":\"1042\",\"type\":\"CDSView\"},{\"attributes\":{\"fill_alpha\":{\"value\":0.1},\"fill_color\":{\"value\":\"#1f77b4\"},\"line_alpha\":{\"value\":0.1},\"line_color\":{\"value\":\"#1f77b4\"},\"x\":{\"field\":\"x\"},\"y\":{\"field\":\"y\"}},\"id\":\"1040\",\"type\":\"Circle\"},{\"attributes\":{\"fill_alpha\":0.1,\"fill_color\":\"#1f77b4\",\"line_alpha\":0.1,\"line_color\":\"#1f77b4\",\"x\":{\"field\":\"x\"},\"y\":{\"field\":\"y\"}},\"id\":\"1050\",\"type\":\"Patch\"},{\"attributes\":{\"data_source\":{\"id\":\"1048\",\"type\":\"ColumnDataSource\"},\"glyph\":{\"id\":\"1049\",\"type\":\"Patch\"},\"hover_glyph\":null,\"muted_glyph\":null,\"nonselection_glyph\":{\"id\":\"1050\",\"type\":\"Patch\"},\"selection_glyph\":null,\"view\":{\"id\":\"1052\",\"type\":\"CDSView\"}},\"id\":\"1051\",\"type\":\"GlyphRenderer\"},{\"attributes\":{},\"id\":\"1023\",\"type\":\"PanTool\"},{\"attributes\":{\"callback\":null,\"data\":{\"x\":{\"__ndarray__\":\"8H4zTH4wvz8xeGXF2NndP7J4EXEBStU/bkrShWSi+r9C8hamzR72P8Zg4cjgKvm/JP3BRY6G2T9SGUChfj3rP8KfYykOa/C/XrZ5j/+A679+/Ms1xBfmvw6XvVX6RPA/ko2vdFL15D9kbRuUe6jfPwE2+71hbtW/x64gVgWkAcC+DITWdvX3v2jRvw7TRvQ/TGCteDp/+j+UkeIPryHwv95Av4WInPA/nx33/k8gAcACgQKbVRTkv/N0rZwVGuA/TsdnVn/W0L+OjSnIo0X2v7NxTnXM0AjAhh+IlopFAUBMWJhzycrhP+w2ArOuIsO/wLXpSM3V1b++5Vwqg5byv8CSPm9nJvG/WfkWM3Eu/T98lIjcxRDkP8v6QBe+GuM/6E+rtvpP9L9sl9kykHLqv6SC0nJ6BwXAm0aK4Uz+3r9/7fkRpnvJv6NC0fDLixDALAqbQC0cuD9HM+ooy/fsvxpxgHrc5Nu/BgLJQ4PSAsCBlzpse2z+Pxh6rSQ0jqS/UkdG6TXV+L9Abd8AJ2Ovv3PZMOLtOQLAnHbrIzxk2j92eNZOf1Dcv9pvW9dsW/O/k4/gXNe15z9B/KS5TQHaPxqIlTE8Ru6/vhibm2OjA8CtTDSGtsvmv8zuomuDzPM/Ag5LC2Lc47/UNmT+L6D6vyR1SI2dqc+/tRtMsl9e/D8DVbf4rV4BQCml0YWTBPU/mkFFe+Gz7r+ztWzo+xzZv1cYYhHhbuK/ZT/agYw/8z830QVXQt3zP1Bq8wsJ5QrAL7vxZVug7z9P+6FF0Y3iv5AlXNr3QpO/4UQoZtFt8b+x71+iGWABwH93zegUxATAR0TlRzGQ9b+ejkbdNeLjv7w2bVTkQuW/Sl86lp0w679z96PObVn6PxvlqkCgRvc/X5oiAXJh5L/9qIrwvEPZP5Rz1PXMVtY/mYliDQLX/z99FzUpWVwBQAh4+MqJkOa/og16mK2e9b+VNGF4nr3dP5xQtN92sPC/sJ015mJTBkBAN1hPGKHHPzEMMXVPEvE/QCYt4/dn27/fRProSJXlP0JWD3qLlO0/M72rh5O//r8=\",\"dtype\":\"float64\",\"shape\":[100]},\"y\":{\"__ndarray__\":\"bLpxbh9J2D+XvKfl0Q7EvxBXXfIe1d2/ej4MSv1r4b/Ng9US2SvZP2C6LTTdG/K/tsKZwiBCwD815YhSJ+f2P1K47b7bH9y/Tnw7OhwD6z9ap5hg/lr0v8TeQQF7B7U/F0JFgj6K5T+8kBIIj/jkP1aiiV1gPtS/LjLx+/vz97/S9Ve5fEL0v2KCzYgYpMo/0CrJSB+Qvz+Uhl3I38uyPyIH7M4t1ek/ZmeZUdin+L8ClY2DEAO7v3Bzk5rHcNG/8o/ULC6I0b/vWZmkwqHavw47qszfnPO/6b2GxMsX9z+TOXJ3v5zkPwP+rE4YJP4/N7Hm8ILm0b+ZQxoElRTgv5CNFCvgOZI/RuQLUCuk9j9zOsV7xFXxv3Z6/LXKjdE/CKuTK6ajxL96CvjDWwrivxmAt33gIua/9iGcFcUR5D/S5QET+Xq6vxlNGxjZ0wPAS7IjatEy7r+z1iBXhkLLv/6pDc1a+dG/KLp+pLvB6r+CGt/XO3oCQJKSFdmcYt4/GKaEtsWewD+sF7Qa9af2PxyviYd+rvm/qT8NjRci9T+qEqIDELXhvx2bSDHcKO2/2nS1c1rN2T8nW8x7ZUTlPwl0fFAen/K/mc/QD+Wt9b+bpnZJOozGvzLH1X2OTcg/LrwhFiWx5r/LJZ8NsEvav+XaYVe8Z9S/5s8Uf6+P8D+/Zk0gPtbzP1bf+AEmKN2/NQovZOz/4r+ogN+/PZPsv1IaB7qkUeW/Cx5ojXTo5z9OGPuuuM/iv3jNBL5N7NC/7x1b18Jb3D9a3zOR7Jy5P/zMERaQQd4//VFxE1et1b+vmizNGEXzv+8R9HjFF+i/Rc39kSgk8b9nC2NJQSj2v5CSMt951e2/AAKe6kWot79wY2+kiaPvP4WWh0q/VO0/HYqNU/1n4D9+QcBkqkvfv2nIWCFkm9Q/Nq/tV9I30D9L5TwCAXvyPyayxzeq3so/6KRhq/C+7b+K8QwZRafQv5nSDpB5at2/mGV6U4tH6T9/i7JJYMHkPym8LLeL4tE//gpTny3S4L9W7u168uzHP0K36uFKY+g/cFUYhv9k+78=\",\"dtype\":\"float64\",\"shape\":[100]}},\"selected\":{\"id\":\"1060\",\"type\":\"Selection\"},\"selection_policy\":{\"id\":\"1059\",\"type\":\"UnionRenderers\"}},\"id\":\"1038\",\"type\":\"ColumnDataSource\"},{\"attributes\":{\"source\":{\"id\":\"1048\",\"type\":\"ColumnDataSource\"}},\"id\":\"1052\",\"type\":\"CDSView\"},{\"attributes\":{},\"id\":\"1024\",\"type\":\"WheelZoomTool\"},{\"attributes\":{},\"id\":\"1061\",\"type\":\"UnionRenderers\"},{\"attributes\":{},\"id\":\"1055\",\"type\":\"BasicTickFormatter\"},{\"attributes\":{\"overlay\":{\"id\":\"1031\",\"type\":\"BoxAnnotation\"}},\"id\":\"1025\",\"type\":\"BoxZoomTool\"},{\"attributes\":{\"fill_color\":{\"value\":\"#1f77b4\"},\"line_color\":{\"value\":\"#1f77b4\"},\"x\":{\"field\":\"x\"},\"y\":{\"field\":\"y\"}},\"id\":\"1039\",\"type\":\"Circle\"},{\"attributes\":{},\"id\":\"1057\",\"type\":\"BasicTickFormatter\"},{\"attributes\":{},\"id\":\"1026\",\"type\":\"SaveTool\"}],\"root_ids\":[\"1003\"]},\"title\":\"Bokeh Application\",\"version\":\"1.0.2\"}};\n",
       "  var render_items = [{\"docid\":\"79cd90d5-6708-4958-8eab-afa3da009836\",\"roots\":{\"1003\":\"eb7c220e-317c-4f8a-8b0a-7a60b6f36d5f\"}}];\n",
       "  root.Bokeh.embed.embed_items_notebook(docs_json, render_items);\n",
       "\n",
       "  }\n",
       "  if (root.Bokeh !== undefined) {\n",
       "    embed_document(root);\n",
       "  } else {\n",
       "    var attempts = 0;\n",
       "    var timer = setInterval(function(root) {\n",
       "      if (root.Bokeh !== undefined) {\n",
       "        embed_document(root);\n",
       "        clearInterval(timer);\n",
       "      }\n",
       "      attempts++;\n",
       "      if (attempts > 100) {\n",
       "        console.log(\"Bokeh: ERROR: Unable to run BokehJS code because BokehJS library is missing\");\n",
       "        clearInterval(timer);\n",
       "      }\n",
       "    }, 10, root)\n",
       "  }\n",
       "})(window);"
      ],
      "application/vnd.bokehjs_exec.v0+json": ""
     },
     "metadata": {
      "application/vnd.bokehjs_exec.v0+json": {
       "id": "1003"
      }
     },
     "output_type": "display_data"
    }
   ],
   "source": [
    "mean = np.zeros(2) \n",
    "cov = np.array([\n",
    "    [2, .95],\n",
    "    [.95, .9]\n",
    "])\n",
    "data = np.random.multivariate_normal(mean, cov, size=100)\n",
    "\n",
    "fig = figure(\n",
    "    title='Data',\n",
    "    width=400,\n",
    "    height=400,\n",
    "    x_range=(mean[0] - 5, mean[0] + 5),\n",
    "    y_range=(mean[1] - 5, mean[1] + 5)\n",
    ")\n",
    "fig.circle(data[:, 0], data[:, 1])\n",
    "plotting.plot_normal(fig, mean, cov, line_color='black', fill_alpha=.3)\n",
    "\n",
    "show(fig)"
   ]
  },
  {
   "cell_type": "markdown",
   "metadata": {},
   "source": [
    "## Model Creation\n",
    "\n",
    "We create two types of Normal distribution: one diagonal covariance matrix and another one with full covariance matrix."
   ]
  },
  {
   "cell_type": "code",
   "execution_count": 3,
   "metadata": {},
   "outputs": [
    {
     "data": {
      "text/plain": [
       "Normal(\n",
       "  (mean_precision): ConjugateBayesianParameter(prior=NormalGamma, posterior=NormalGamma)\n",
       ")"
      ]
     },
     "execution_count": 3,
     "metadata": {},
     "output_type": "execute_result"
    }
   ],
   "source": [
    "data_mean = torch.zeros(2) \n",
    "data_var = torch.ones(2)\n",
    "\n",
    "normal_iso = beer.Normal.create(data_mean, data_var, 1., cov_type='isotropic')\n",
    "normal_diag = beer.Normal.create(data_mean, data_var, 1., cov_type='diagonal')\n",
    "normal_full = beer.Normal.create(data_mean, data_var, 1., cov_type='full')\n",
    "\n",
    "models = {\n",
    "    'normal_full': normal_full,\n",
    "    'normal_diag': normal_diag,\n",
    "    'normal_iso': normal_iso\n",
    "}\n",
    "models['normal_diag']"
   ]
  },
  {
   "cell_type": "code",
   "execution_count": 4,
   "metadata": {},
   "outputs": [
    {
     "data": {
      "text/plain": [
       "NormalGamma(\n",
       "  (params): NormalGammaStdParams(mean=tensor([0., 0.]), scale=tensor(1.), shape=tensor(1.), rates=tensor([1., 1.]))\n",
       ")"
      ]
     },
     "execution_count": 4,
     "metadata": {},
     "output_type": "execute_result"
    }
   ],
   "source": [
    "model = models['normal_diag']\n",
    "model.mean_precision.prior"
   ]
  },
  {
   "cell_type": "code",
   "execution_count": 5,
   "metadata": {},
   "outputs": [
    {
     "data": {
      "text/plain": [
       "torch.Size([2])"
      ]
     },
     "execution_count": 5,
     "metadata": {},
     "output_type": "execute_result"
    }
   ],
   "source": [
    "model.mean_precision.posterior.params.mean.shape"
   ]
  },
  {
   "cell_type": "markdown",
   "metadata": {},
   "source": [
    "## Variational Bayes Training "
   ]
  },
  {
   "cell_type": "code",
   "execution_count": 6,
   "metadata": {},
   "outputs": [
    {
     "data": {
      "text/plain": [
       "torch.Size([1, 100, 2])"
      ]
     },
     "execution_count": 6,
     "metadata": {},
     "output_type": "execute_result"
    }
   ],
   "source": [
    "nbatches = 1\n",
    "X = torch.from_numpy(data).float()\n",
    "batches = X.view(nbatches, -1, 2)\n",
    "batches.shape"
   ]
  },
  {
   "cell_type": "code",
   "execution_count": 7,
   "metadata": {
    "scrolled": false
   },
   "outputs": [],
   "source": [
    "epochs = 10\n",
    "lrate = 1.\n",
    "\n",
    "\n",
    "optims = {\n",
    "    model_name: beer.VariationalBayesOptimizer(\n",
    "        model.mean_field_factorization(), lrate)\n",
    "    for model_name, model in models.items()\n",
    "}\n",
    "\n",
    "elbos = {\n",
    "    model_name: [] \n",
    "    for model_name in models\n",
    "}  \n",
    "\n",
    "\n",
    "for epoch in range(epochs):\n",
    "    for name, model in models.items():\n",
    "        batch_ids = list(range(len(batches)))\n",
    "        random.shuffle(batch_ids)\n",
    "        for batch_id in batch_ids:\n",
    "            batch = batches[batch_id]\n",
    "            \n",
    "            optim = optims[name]\n",
    "\n",
    "            optim.init_step()\n",
    "            elbo = beer.evidence_lower_bound(model, batch, datasize=len(X))\n",
    "            elbo.backward()\n",
    "            optim.step()\n",
    "            \n",
    "            elbo = beer.evidence_lower_bound(model, X)\n",
    "            elbos[name].append(float(elbo) / len(X))  "
   ]
  },
  {
   "cell_type": "code",
   "execution_count": 8,
   "metadata": {
    "scrolled": false
   },
   "outputs": [
    {
     "data": {
      "text/html": [
       "\n",
       "\n",
       "\n",
       "\n",
       "\n",
       "\n",
       "  <div class=\"bk-root\" id=\"1a397050-fafa-4e0c-aa24-df4b6b3ea1c3\"></div>\n"
      ]
     },
     "metadata": {},
     "output_type": "display_data"
    },
    {
     "data": {
      "application/javascript": [
       "(function(root) {\n",
       "  function embed_document(root) {\n",
       "    \n",
       "  var docs_json = {\"1748873b-8e72-4c4f-9e37-5fa5bed5e1d1\":{\"roots\":{\"references\":[{\"attributes\":{\"below\":[{\"id\":\"1148\",\"type\":\"LinearAxis\"}],\"left\":[{\"id\":\"1153\",\"type\":\"LinearAxis\"}],\"plot_height\":400,\"plot_width\":400,\"renderers\":[{\"id\":\"1148\",\"type\":\"LinearAxis\"},{\"id\":\"1152\",\"type\":\"Grid\"},{\"id\":\"1153\",\"type\":\"LinearAxis\"},{\"id\":\"1157\",\"type\":\"Grid\"},{\"id\":\"1166\",\"type\":\"BoxAnnotation\"},{\"id\":\"1184\",\"type\":\"Legend\"},{\"id\":\"1176\",\"type\":\"GlyphRenderer\"},{\"id\":\"1189\",\"type\":\"GlyphRenderer\"},{\"id\":\"1203\",\"type\":\"GlyphRenderer\"}],\"title\":{\"id\":\"1137\",\"type\":\"Title\"},\"toolbar\":{\"id\":\"1164\",\"type\":\"Toolbar\"},\"x_range\":{\"id\":\"1140\",\"type\":\"DataRange1d\"},\"x_scale\":{\"id\":\"1144\",\"type\":\"LinearScale\"},\"y_range\":{\"id\":\"1142\",\"type\":\"DataRange1d\"},\"y_scale\":{\"id\":\"1146\",\"type\":\"LinearScale\"}},\"id\":\"1138\",\"subtype\":\"Figure\",\"type\":\"Plot\"},{\"attributes\":{},\"id\":\"1163\",\"type\":\"HelpTool\"},{\"attributes\":{},\"id\":\"1198\",\"type\":\"Selection\"},{\"attributes\":{\"label\":{\"value\":\"normal_diag\"},\"renderers\":[{\"id\":\"1189\",\"type\":\"GlyphRenderer\"}]},\"id\":\"1199\",\"type\":\"LegendItem\"},{\"attributes\":{\"line_alpha\":0.1,\"line_color\":\"#1f77b4\",\"x\":{\"field\":\"x\"},\"y\":{\"field\":\"y\"}},\"id\":\"1175\",\"type\":\"Line\"},{\"attributes\":{\"active_drag\":\"auto\",\"active_inspect\":\"auto\",\"active_multi\":null,\"active_scroll\":\"auto\",\"active_tap\":\"auto\",\"tools\":[{\"id\":\"1158\",\"type\":\"PanTool\"},{\"id\":\"1159\",\"type\":\"WheelZoomTool\"},{\"id\":\"1160\",\"type\":\"BoxZoomTool\"},{\"id\":\"1161\",\"type\":\"SaveTool\"},{\"id\":\"1162\",\"type\":\"ResetTool\"},{\"id\":\"1163\",\"type\":\"HelpTool\"}]},\"id\":\"1164\",\"type\":\"Toolbar\"},{\"attributes\":{\"source\":{\"id\":\"1186\",\"type\":\"ColumnDataSource\"}},\"id\":\"1190\",\"type\":\"CDSView\"},{\"attributes\":{\"callback\":null,\"data\":{\"x\":[0,1,2,3,4,5,6,7,8,9],\"y\":[-3.155345458984375,-3.155345458984375,-3.155345458984375,-3.155345458984375,-3.155345458984375,-3.155345458984375,-3.155345458984375,-3.155345458984375,-3.155345458984375,-3.155345458984375]},\"selected\":{\"id\":\"1239\",\"type\":\"Selection\"},\"selection_policy\":{\"id\":\"1238\",\"type\":\"UnionRenderers\"}},\"id\":\"1200\",\"type\":\"ColumnDataSource\"},{\"attributes\":{\"line_color\":\"green\",\"x\":{\"field\":\"x\"},\"y\":{\"field\":\"y\"}},\"id\":\"1201\",\"type\":\"Line\"},{\"attributes\":{\"plot\":null,\"text\":\"ELBO\"},\"id\":\"1137\",\"type\":\"Title\"},{\"attributes\":{},\"id\":\"1162\",\"type\":\"ResetTool\"},{\"attributes\":{\"line_alpha\":0.1,\"line_color\":\"#1f77b4\",\"x\":{\"field\":\"x\"},\"y\":{\"field\":\"y\"}},\"id\":\"1202\",\"type\":\"Line\"},{\"attributes\":{\"plot\":{\"id\":\"1138\",\"subtype\":\"Figure\",\"type\":\"Plot\"},\"ticker\":{\"id\":\"1149\",\"type\":\"BasicTicker\"}},\"id\":\"1152\",\"type\":\"Grid\"},{\"attributes\":{},\"id\":\"1161\",\"type\":\"SaveTool\"},{\"attributes\":{\"data_source\":{\"id\":\"1200\",\"type\":\"ColumnDataSource\"},\"glyph\":{\"id\":\"1201\",\"type\":\"Line\"},\"hover_glyph\":null,\"muted_glyph\":null,\"nonselection_glyph\":{\"id\":\"1202\",\"type\":\"Line\"},\"selection_glyph\":null,\"view\":{\"id\":\"1204\",\"type\":\"CDSView\"}},\"id\":\"1203\",\"type\":\"GlyphRenderer\"},{\"attributes\":{\"source\":{\"id\":\"1200\",\"type\":\"ColumnDataSource\"}},\"id\":\"1204\",\"type\":\"CDSView\"},{\"attributes\":{\"callback\":null},\"id\":\"1142\",\"type\":\"DataRange1d\"},{\"attributes\":{},\"id\":\"1238\",\"type\":\"UnionRenderers\"},{\"attributes\":{\"dimension\":1,\"plot\":{\"id\":\"1138\",\"subtype\":\"Figure\",\"type\":\"Plot\"},\"ticker\":{\"id\":\"1154\",\"type\":\"BasicTicker\"}},\"id\":\"1157\",\"type\":\"Grid\"},{\"attributes\":{},\"id\":\"1213\",\"type\":\"UnionRenderers\"},{\"attributes\":{\"bottom_units\":\"screen\",\"fill_alpha\":{\"value\":0.5},\"fill_color\":{\"value\":\"lightgrey\"},\"left_units\":\"screen\",\"level\":\"overlay\",\"line_alpha\":{\"value\":1.0},\"line_color\":{\"value\":\"black\"},\"line_dash\":[4,4],\"line_width\":{\"value\":2},\"plot\":null,\"render_mode\":\"css\",\"right_units\":\"screen\",\"top_units\":\"screen\"},\"id\":\"1166\",\"type\":\"BoxAnnotation\"},{\"attributes\":{},\"id\":\"1214\",\"type\":\"Selection\"},{\"attributes\":{\"axis_label\":\"step\",\"formatter\":{\"id\":\"1182\",\"type\":\"BasicTickFormatter\"},\"plot\":{\"id\":\"1138\",\"subtype\":\"Figure\",\"type\":\"Plot\"},\"ticker\":{\"id\":\"1149\",\"type\":\"BasicTicker\"}},\"id\":\"1148\",\"type\":\"LinearAxis\"},{\"attributes\":{\"overlay\":{\"id\":\"1166\",\"type\":\"BoxAnnotation\"}},\"id\":\"1160\",\"type\":\"BoxZoomTool\"},{\"attributes\":{\"label\":{\"value\":\"normal_iso\"},\"renderers\":[{\"id\":\"1203\",\"type\":\"GlyphRenderer\"}]},\"id\":\"1215\",\"type\":\"LegendItem\"},{\"attributes\":{\"source\":{\"id\":\"1173\",\"type\":\"ColumnDataSource\"}},\"id\":\"1177\",\"type\":\"CDSView\"},{\"attributes\":{\"callback\":null},\"id\":\"1140\",\"type\":\"DataRange1d\"},{\"attributes\":{\"line_color\":\"red\",\"x\":{\"field\":\"x\"},\"y\":{\"field\":\"y\"}},\"id\":\"1174\",\"type\":\"Line\"},{\"attributes\":{\"callback\":null,\"data\":{\"x\":[0,1,2,3,4,5,6,7,8,9],\"y\":[-2.7536001586914063,-2.7536001586914063,-2.7536001586914063,-2.7536001586914063,-2.7536001586914063,-2.7536001586914063,-2.7536001586914063,-2.7536001586914063,-2.7536001586914063,-2.7536001586914063]},\"selected\":{\"id\":\"1198\",\"type\":\"Selection\"},\"selection_policy\":{\"id\":\"1197\",\"type\":\"UnionRenderers\"}},\"id\":\"1173\",\"type\":\"ColumnDataSource\"},{\"attributes\":{},\"id\":\"1197\",\"type\":\"UnionRenderers\"},{\"attributes\":{},\"id\":\"1149\",\"type\":\"BasicTicker\"},{\"attributes\":{},\"id\":\"1239\",\"type\":\"Selection\"},{\"attributes\":{},\"id\":\"1146\",\"type\":\"LinearScale\"},{\"attributes\":{},\"id\":\"1182\",\"type\":\"BasicTickFormatter\"},{\"attributes\":{},\"id\":\"1154\",\"type\":\"BasicTicker\"},{\"attributes\":{\"items\":[{\"id\":\"1185\",\"type\":\"LegendItem\"},{\"id\":\"1199\",\"type\":\"LegendItem\"},{\"id\":\"1215\",\"type\":\"LegendItem\"}],\"location\":\"bottom_right\",\"plot\":{\"id\":\"1138\",\"subtype\":\"Figure\",\"type\":\"Plot\"}},\"id\":\"1184\",\"type\":\"Legend\"},{\"attributes\":{\"axis_label\":\"ln p(X)\",\"formatter\":{\"id\":\"1180\",\"type\":\"BasicTickFormatter\"},\"plot\":{\"id\":\"1138\",\"subtype\":\"Figure\",\"type\":\"Plot\"},\"ticker\":{\"id\":\"1154\",\"type\":\"BasicTicker\"}},\"id\":\"1153\",\"type\":\"LinearAxis\"},{\"attributes\":{\"label\":{\"value\":\"normal_full\"},\"renderers\":[{\"id\":\"1176\",\"type\":\"GlyphRenderer\"}]},\"id\":\"1185\",\"type\":\"LegendItem\"},{\"attributes\":{\"data_source\":{\"id\":\"1173\",\"type\":\"ColumnDataSource\"},\"glyph\":{\"id\":\"1174\",\"type\":\"Line\"},\"hover_glyph\":null,\"muted_glyph\":null,\"nonselection_glyph\":{\"id\":\"1175\",\"type\":\"Line\"},\"selection_glyph\":null,\"view\":{\"id\":\"1177\",\"type\":\"CDSView\"}},\"id\":\"1176\",\"type\":\"GlyphRenderer\"},{\"attributes\":{\"callback\":null,\"data\":{\"x\":[0,1,2,3,4,5,6,7,8,9],\"y\":[-3.074964904785156,-3.074964904785156,-3.074964904785156,-3.074964904785156,-3.074964904785156,-3.074964904785156,-3.074964904785156,-3.074964904785156,-3.074964904785156,-3.074964904785156]},\"selected\":{\"id\":\"1214\",\"type\":\"Selection\"},\"selection_policy\":{\"id\":\"1213\",\"type\":\"UnionRenderers\"}},\"id\":\"1186\",\"type\":\"ColumnDataSource\"},{\"attributes\":{},\"id\":\"1158\",\"type\":\"PanTool\"},{\"attributes\":{\"line_color\":\"blue\",\"x\":{\"field\":\"x\"},\"y\":{\"field\":\"y\"}},\"id\":\"1187\",\"type\":\"Line\"},{\"attributes\":{\"line_alpha\":0.1,\"line_color\":\"#1f77b4\",\"x\":{\"field\":\"x\"},\"y\":{\"field\":\"y\"}},\"id\":\"1188\",\"type\":\"Line\"},{\"attributes\":{},\"id\":\"1180\",\"type\":\"BasicTickFormatter\"},{\"attributes\":{},\"id\":\"1144\",\"type\":\"LinearScale\"},{\"attributes\":{\"data_source\":{\"id\":\"1186\",\"type\":\"ColumnDataSource\"},\"glyph\":{\"id\":\"1187\",\"type\":\"Line\"},\"hover_glyph\":null,\"muted_glyph\":null,\"nonselection_glyph\":{\"id\":\"1188\",\"type\":\"Line\"},\"selection_glyph\":null,\"view\":{\"id\":\"1190\",\"type\":\"CDSView\"}},\"id\":\"1189\",\"type\":\"GlyphRenderer\"},{\"attributes\":{},\"id\":\"1159\",\"type\":\"WheelZoomTool\"}],\"root_ids\":[\"1138\"]},\"title\":\"Bokeh Application\",\"version\":\"1.0.2\"}};\n",
       "  var render_items = [{\"docid\":\"1748873b-8e72-4c4f-9e37-5fa5bed5e1d1\",\"roots\":{\"1138\":\"1a397050-fafa-4e0c-aa24-df4b6b3ea1c3\"}}];\n",
       "  root.Bokeh.embed.embed_items_notebook(docs_json, render_items);\n",
       "\n",
       "  }\n",
       "  if (root.Bokeh !== undefined) {\n",
       "    embed_document(root);\n",
       "  } else {\n",
       "    var attempts = 0;\n",
       "    var timer = setInterval(function(root) {\n",
       "      if (root.Bokeh !== undefined) {\n",
       "        embed_document(root);\n",
       "        clearInterval(timer);\n",
       "      }\n",
       "      attempts++;\n",
       "      if (attempts > 100) {\n",
       "        console.log(\"Bokeh: ERROR: Unable to run BokehJS code because BokehJS library is missing\");\n",
       "        clearInterval(timer);\n",
       "      }\n",
       "    }, 10, root)\n",
       "  }\n",
       "})(window);"
      ],
      "application/vnd.bokehjs_exec.v0+json": ""
     },
     "metadata": {
      "application/vnd.bokehjs_exec.v0+json": {
       "id": "1138"
      }
     },
     "output_type": "display_data"
    }
   ],
   "source": [
    "colors = {\n",
    "    'normal_iso': 'green',\n",
    "    'normal_diag': 'blue',\n",
    "    'normal_full': 'red',\n",
    "    \n",
    "}\n",
    "# Plot the ELBO.\n",
    "fig = figure(title='ELBO', width=400, height=400, x_axis_label='step',\n",
    "              y_axis_label='ln p(X)')\n",
    "for model_name, elbo in elbos.items():\n",
    "    fig.line(range(len(elbo)), elbo, legend=model_name, color=colors[model_name])\n",
    "fig.legend.location = 'bottom_right'\n",
    "\n",
    "show(fig)"
   ]
  },
  {
   "cell_type": "code",
   "execution_count": 9,
   "metadata": {
    "scrolled": false
   },
   "outputs": [
    {
     "data": {
      "text/html": [
       "\n",
       "\n",
       "\n",
       "\n",
       "\n",
       "\n",
       "  <div class=\"bk-root\" id=\"30d7a578-c8d0-46ec-ab8a-043940ee6fe1\"></div>\n"
      ]
     },
     "metadata": {},
     "output_type": "display_data"
    },
    {
     "data": {
      "application/javascript": [
       "(function(root) {\n",
       "  function embed_document(root) {\n",
       "    \n",
       "  var docs_json = {\"8cebf4d9-04b2-4b40-83e0-76c6c0ba035d\":{\"roots\":{\"references\":[{\"attributes\":{\"below\":[{\"id\":\"1321\",\"type\":\"LinearAxis\"}],\"left\":[{\"id\":\"1326\",\"type\":\"LinearAxis\"}],\"plot_height\":400,\"plot_width\":400,\"renderers\":[{\"id\":\"1321\",\"type\":\"LinearAxis\"},{\"id\":\"1325\",\"type\":\"Grid\"},{\"id\":\"1326\",\"type\":\"LinearAxis\"},{\"id\":\"1330\",\"type\":\"Grid\"},{\"id\":\"1339\",\"type\":\"BoxAnnotation\"},{\"id\":\"1349\",\"type\":\"GlyphRenderer\"},{\"id\":\"1354\",\"type\":\"GlyphRenderer\"},{\"id\":\"1359\",\"type\":\"GlyphRenderer\"},{\"id\":\"1364\",\"type\":\"GlyphRenderer\"},{\"id\":\"1369\",\"type\":\"GlyphRenderer\"},{\"id\":\"1374\",\"type\":\"GlyphRenderer\"},{\"id\":\"1379\",\"type\":\"GlyphRenderer\"}],\"title\":{\"id\":\"1405\",\"type\":\"Title\"},\"toolbar\":{\"id\":\"1337\",\"type\":\"Toolbar\"},\"x_range\":{\"id\":\"1313\",\"type\":\"Range1d\"},\"x_scale\":{\"id\":\"1317\",\"type\":\"LinearScale\"},\"y_range\":{\"id\":\"1315\",\"type\":\"Range1d\"},\"y_scale\":{\"id\":\"1319\",\"type\":\"LinearScale\"}},\"id\":\"1312\",\"subtype\":\"Figure\",\"type\":\"Plot\"},{\"attributes\":{\"source\":{\"id\":\"1356\",\"type\":\"ColumnDataSource\"}},\"id\":\"1360\",\"type\":\"CDSView\"},{\"attributes\":{\"fill_alpha\":0.1,\"fill_color\":\"#1f77b4\",\"line_alpha\":0.1,\"line_color\":\"#1f77b4\",\"x\":{\"field\":\"x\"},\"y\":{\"field\":\"y\"}},\"id\":\"1378\",\"type\":\"Patch\"},{\"attributes\":{},\"id\":\"1424\",\"type\":\"UnionRenderers\"},{\"attributes\":{},\"id\":\"1332\",\"type\":\"WheelZoomTool\"},{\"attributes\":{\"fill_alpha\":0.3,\"fill_color\":\"#98AFC7\",\"x\":{\"field\":\"x\"},\"y\":{\"field\":\"y\"}},\"id\":\"1362\",\"type\":\"Patch\"},{\"attributes\":{\"data_source\":{\"id\":\"1376\",\"type\":\"ColumnDataSource\"},\"glyph\":{\"id\":\"1377\",\"type\":\"Patch\"},\"hover_glyph\":null,\"muted_glyph\":null,\"nonselection_glyph\":{\"id\":\"1378\",\"type\":\"Patch\"},\"selection_glyph\":null,\"view\":{\"id\":\"1380\",\"type\":\"CDSView\"}},\"id\":\"1379\",\"type\":\"GlyphRenderer\"},{\"attributes\":{\"callback\":null,\"data\":{\"x\":{\"__ndarray__\":\"AAAAoouUA0DKgJxxO4kDQGMBHsdWZwNAP4MDSgEvA0DUSh09duACQAXNNUAIfAJAit4m+SACAkA3lLakQHMBQJS9sI/9zwBArOLKeAMZAEBKMPK3JZ7+P/5v408A5vw/MQFqvWUL+z+bXQdESRD5PyKIiVnA9vY/UW/ddADB9D9CfDa7XHHyP7AO/Y1DCvA//v4s+Hcc6z90zG4yxv/lP/paGHzSw+A/0n5x0Dzc1j9ORhODGhHIP6Cn7uiff5E/AwLewvXTw7/u/pD+vPHUv2nqjt6x89+/i9HEkCJy5b9mvzhY+tvqv3ktDDbXGPC/NmY3EdG28r97fxb0KUX1v6wO/YUxwfe/QXw2s0oo+r9Pb91s7nf8vyGIiVGurf6/zK4DnptjAMCYALXaKWEBwP638SN3TgLAJBj514kqA8Cq4sp0evQDwJO9sIt0qwTANpS2oLdOBcCJ3ib1l90FwAXNNTx/VwbA1EodOe27BsA/gwNGeAoHwGIBHsPNQgfAyoCcbbJkB8AAAACeAnAHwAAAAJ4CcAfAyoCcbbJkB8BiAR7DzUIHwD+DA0Z4CgfA1EodOe27BsAFzTU8f1cGwIneJvWX3QXANpS2oLdOBcCTvbCLdKsEwKriynR69APAJBj514kqA8D+t/Ejd04CwJgAtdopYQHAzK4DnptjAMAhiIlRrq3+v09v3Wzud/y/QXw2s0oo+r+sDv2FMcH3v3t/FvQpRfW/NmY3EdG28r95LQw21xjwv2a/OFj62+q/i9HEkCJy5b9p6o7esfPfv+7+kP688dS/AwLewvXTw7+gp+7on3+RP05GE4MaEcg/0n5x0Dzc1j/6Whh80sPgP3TMbjLG/+U//v4s+Hcc6z+wDv2NQwrwP0J8NrtccfI/UW/ddADB9D8iiIlZwPb2P5tdB0RJEPk/MQFqvWUL+z/+b+NPAOb8P0ow8rclnv4/rOLKeAMZAECUvbCP/c8AQDeUtqRAcwFAit4m+SACAkAFzTVACHwCQNRKHT124AJAP4MDSgEvA0BjAR7HVmcDQMqAnHE7iQNAAAAAoouUA0A=\",\"dtype\":\"float64\",\"shape\":[100]},\"y\":{\"__ndarray__\":\"AAAA2mPQ8T/kH7WALQjzP+P01YlPKvQ/cqkmwJg19T+GPCT37yj2P/sLzTJVA/c/A8/ptOLD9z+eubvuzWn4P1eMEVZo9Pg/12jjHCBj+T9RRbTKgLX5P/ekF7cz6/k/MLLaZAAE+j/K1HC9zP/5Py5BZSyd3vk/7qG0mpSg+T/9vxNK9EX5PzTLSZAbz/g/Knrmcoc8+D8bgb0j0o73P9C5sV6yxvY//556qfrk9T+LUi52mOr0P14meSmT2PM/3WqJBQuw8j+p/NL6N3LxP6SP6V9oIPA/htOVI/937T9zExb86IzqP6nz1jCgguc/oGv5eldc5D+q+fgHXx3hP/xE2PpBkts/6s/mwjvG1D8IQHiuo7vLP3i5JhEigbs/AAOlkNiCZb/olrMgv/K8v3DJFB+Mmsy/BGgP+FlV1b/m9h/mhU3cv7Xy1nw6l+G/Yg1PYnX45L+MXrtz5Ubov9ApKkYQf+u/+bQj3JKd7r9QANqaks/wv/j8B+JOQPK/oUuaXnqf87////+lo+v0vwEAAKaj6/S/5R+1TG0j9r/k9NVVj0X3v3SpJozYUPi/iDwkwy9E+b/8C83+lB76vwTP6YAi3/q/n7m7ug2F+79YjBEiqA/8v9ho4+hffvy/UUW0lsDQ/L/3pBeDcwb9vzCy2jBAH/2/ytRwiQwb/b8uQWX43Pn8v++htGbUu/y//r8TFjRh/L8zy0lcW+r7vyl65j7HV/u/GoG97xGq+r/QubEq8uH5v/6eenU6APm/iVIuQtgF+L9cJnn10vP2v9tqidFKy/W/p/zSxneN9L+ij+krqDvzv8Hpyl0/1/G/uQkLSrRh8L+k89bIH7ntv5pr+RLXkuq/p/n4n95T5794ImyVoP/jv/Jnc3mdmeC/+B88B9FK2r9arkm0R03Tv9xrvf3yg8i/CGlMnz3BtL9ATKb4bQSePyDQHpC10ME/6O0/bA3Bzz905a3JdcHWP8YanpTrg90/kl6722UQ4j/SKSqukEjlPwC1I0QTZ+g/owC0naVo6z/2+Q8sHkruP6JLmpI6hPA/AAAA2mPQ8T8=\",\"dtype\":\"float64\",\"shape\":[100]}},\"selected\":{\"id\":\"1423\",\"type\":\"Selection\"},\"selection_policy\":{\"id\":\"1422\",\"type\":\"UnionRenderers\"}},\"id\":\"1371\",\"type\":\"ColumnDataSource\"},{\"attributes\":{},\"id\":\"1425\",\"type\":\"Selection\"},{\"attributes\":{\"overlay\":{\"id\":\"1339\",\"type\":\"BoxAnnotation\"}},\"id\":\"1333\",\"type\":\"BoxZoomTool\"},{\"attributes\":{\"source\":{\"id\":\"1376\",\"type\":\"ColumnDataSource\"}},\"id\":\"1380\",\"type\":\"CDSView\"},{\"attributes\":{},\"id\":\"1334\",\"type\":\"SaveTool\"},{\"attributes\":{\"fill_alpha\":0.1,\"fill_color\":\"#1f77b4\",\"line_alpha\":0.1,\"line_color\":\"#1f77b4\",\"x\":{\"field\":\"x\"},\"y\":{\"field\":\"y\"}},\"id\":\"1363\",\"type\":\"Patch\"},{\"attributes\":{},\"id\":\"1335\",\"type\":\"ResetTool\"},{\"attributes\":{\"data_source\":{\"id\":\"1361\",\"type\":\"ColumnDataSource\"},\"glyph\":{\"id\":\"1362\",\"type\":\"Patch\"},\"hover_glyph\":null,\"muted_glyph\":null,\"nonselection_glyph\":{\"id\":\"1363\",\"type\":\"Patch\"},\"selection_glyph\":null,\"view\":{\"id\":\"1365\",\"type\":\"CDSView\"}},\"id\":\"1364\",\"type\":\"GlyphRenderer\"},{\"attributes\":{\"callback\":null,\"data\":{\"x\":{\"__ndarray__\":\"8H4zTH4wvz8xeGXF2NndP7J4EXEBStU/bkrShWSi+r9C8hamzR72P8Zg4cjgKvm/JP3BRY6G2T9SGUChfj3rP8KfYykOa/C/XrZ5j/+A679+/Ms1xBfmvw6XvVX6RPA/ko2vdFL15D9kbRuUe6jfPwE2+71hbtW/x64gVgWkAcC+DITWdvX3v2jRvw7TRvQ/TGCteDp/+j+UkeIPryHwv95Av4WInPA/nx33/k8gAcACgQKbVRTkv/N0rZwVGuA/TsdnVn/W0L+OjSnIo0X2v7NxTnXM0AjAhh+IlopFAUBMWJhzycrhP+w2ArOuIsO/wLXpSM3V1b++5Vwqg5byv8CSPm9nJvG/WfkWM3Eu/T98lIjcxRDkP8v6QBe+GuM/6E+rtvpP9L9sl9kykHLqv6SC0nJ6BwXAm0aK4Uz+3r9/7fkRpnvJv6NC0fDLixDALAqbQC0cuD9HM+ooy/fsvxpxgHrc5Nu/BgLJQ4PSAsCBlzpse2z+Pxh6rSQ0jqS/UkdG6TXV+L9Abd8AJ2Ovv3PZMOLtOQLAnHbrIzxk2j92eNZOf1Dcv9pvW9dsW/O/k4/gXNe15z9B/KS5TQHaPxqIlTE8Ru6/vhibm2OjA8CtTDSGtsvmv8zuomuDzPM/Ag5LC2Lc47/UNmT+L6D6vyR1SI2dqc+/tRtMsl9e/D8DVbf4rV4BQCml0YWTBPU/mkFFe+Gz7r+ztWzo+xzZv1cYYhHhbuK/ZT/agYw/8z830QVXQt3zP1Bq8wsJ5QrAL7vxZVug7z9P+6FF0Y3iv5AlXNr3QpO/4UQoZtFt8b+x71+iGWABwH93zegUxATAR0TlRzGQ9b+ejkbdNeLjv7w2bVTkQuW/Sl86lp0w679z96PObVn6PxvlqkCgRvc/X5oiAXJh5L/9qIrwvEPZP5Rz1PXMVtY/mYliDQLX/z99FzUpWVwBQAh4+MqJkOa/og16mK2e9b+VNGF4nr3dP5xQtN92sPC/sJ015mJTBkBAN1hPGKHHPzEMMXVPEvE/QCYt4/dn27/fRProSJXlP0JWD3qLlO0/M72rh5O//r8=\",\"dtype\":\"float64\",\"shape\":[100]},\"y\":{\"__ndarray__\":\"bLpxbh9J2D+XvKfl0Q7EvxBXXfIe1d2/ej4MSv1r4b/Ng9US2SvZP2C6LTTdG/K/tsKZwiBCwD815YhSJ+f2P1K47b7bH9y/Tnw7OhwD6z9ap5hg/lr0v8TeQQF7B7U/F0JFgj6K5T+8kBIIj/jkP1aiiV1gPtS/LjLx+/vz97/S9Ve5fEL0v2KCzYgYpMo/0CrJSB+Qvz+Uhl3I38uyPyIH7M4t1ek/ZmeZUdin+L8ClY2DEAO7v3Bzk5rHcNG/8o/ULC6I0b/vWZmkwqHavw47qszfnPO/6b2GxMsX9z+TOXJ3v5zkPwP+rE4YJP4/N7Hm8ILm0b+ZQxoElRTgv5CNFCvgOZI/RuQLUCuk9j9zOsV7xFXxv3Z6/LXKjdE/CKuTK6ajxL96CvjDWwrivxmAt33gIua/9iGcFcUR5D/S5QET+Xq6vxlNGxjZ0wPAS7IjatEy7r+z1iBXhkLLv/6pDc1a+dG/KLp+pLvB6r+CGt/XO3oCQJKSFdmcYt4/GKaEtsWewD+sF7Qa9af2PxyviYd+rvm/qT8NjRci9T+qEqIDELXhvx2bSDHcKO2/2nS1c1rN2T8nW8x7ZUTlPwl0fFAen/K/mc/QD+Wt9b+bpnZJOozGvzLH1X2OTcg/LrwhFiWx5r/LJZ8NsEvav+XaYVe8Z9S/5s8Uf6+P8D+/Zk0gPtbzP1bf+AEmKN2/NQovZOz/4r+ogN+/PZPsv1IaB7qkUeW/Cx5ojXTo5z9OGPuuuM/iv3jNBL5N7NC/7x1b18Jb3D9a3zOR7Jy5P/zMERaQQd4//VFxE1et1b+vmizNGEXzv+8R9HjFF+i/Rc39kSgk8b9nC2NJQSj2v5CSMt951e2/AAKe6kWot79wY2+kiaPvP4WWh0q/VO0/HYqNU/1n4D9+QcBkqkvfv2nIWCFkm9Q/Nq/tV9I30D9L5TwCAXvyPyayxzeq3so/6KRhq/C+7b+K8QwZRafQv5nSDpB5at2/mGV6U4tH6T9/i7JJYMHkPym8LLeL4tE//gpTny3S4L9W7u168uzHP0K36uFKY+g/cFUYhv9k+78=\",\"dtype\":\"float64\",\"shape\":[100]}},\"selected\":{\"id\":\"1413\",\"type\":\"Selection\"},\"selection_policy\":{\"id\":\"1412\",\"type\":\"UnionRenderers\"}},\"id\":\"1346\",\"type\":\"ColumnDataSource\"},{\"attributes\":{},\"id\":\"1408\",\"type\":\"BasicTickFormatter\"},{\"attributes\":{},\"id\":\"1336\",\"type\":\"HelpTool\"},{\"attributes\":{\"callback\":null,\"end\":5,\"start\":-5},\"id\":\"1313\",\"type\":\"Range1d\"},{\"attributes\":{\"source\":{\"id\":\"1361\",\"type\":\"ColumnDataSource\"}},\"id\":\"1365\",\"type\":\"CDSView\"},{\"attributes\":{},\"id\":\"1410\",\"type\":\"BasicTickFormatter\"},{\"attributes\":{\"active_drag\":\"auto\",\"active_inspect\":\"auto\",\"active_multi\":null,\"active_scroll\":\"auto\",\"active_tap\":\"auto\",\"tools\":[{\"id\":\"1331\",\"type\":\"PanTool\"},{\"id\":\"1332\",\"type\":\"WheelZoomTool\"},{\"id\":\"1333\",\"type\":\"BoxZoomTool\"},{\"id\":\"1334\",\"type\":\"SaveTool\"},{\"id\":\"1335\",\"type\":\"ResetTool\"},{\"id\":\"1336\",\"type\":\"HelpTool\"}]},\"id\":\"1337\",\"type\":\"Toolbar\"},{\"attributes\":{\"callback\":null,\"end\":5,\"start\":-5},\"id\":\"1315\",\"type\":\"Range1d\"},{\"attributes\":{\"callback\":null,\"data\":{\"x\":{\"__ndarray__\":\"AAAARNCm8T/3q4sTgJvxP8y/2mibefE//3Fs60VB8T8wXxHeuvLwPy53lOBMjvA/3yvQmGUU8D/AoRaHCgvvP64qJVuExO0/ogE5K5BW7D+mjDzvrsLqP9L3noSJCuk/vnBj7+4v5z/rVw5z0jTlP+fJcIVJG+M/hP56nYnl4D+QqMfAyyvdP8iRLl+ZXdg/yO/8M4pl0z8GcUfNsJHMP7yCB1HJGcI/YIKiZYS5rT94l9YsdCqbv/Y8uLHDq7y/xHg6ydZXyb+Ww2J7zC/Sv7rwkfPGsNe/gJYynRAp3b8kKFo2dEnhv6vgQURO9OO/PdxRI0iS5r/gd/4JoSDpv+BIl5+onOu/R9Rj0MED7r9Af73Gsinwv/NkuLqSRPG/9CuHMVdR8r9euLFv5U7zv+h7T7oyPPS/Ukaeb0UY9b/PgJwNNuL1v1aVkiUwmfa/4FCLO3M897/eK9CQU8v3vy53lNg6Rfi/L18R1qip+L//cWzjM/j4v8u/2mCJMPm/96uLC25S+b8AAAA8vl35vwAAADy+Xfm/96uLC25S+b/Lv9pgiTD5v/9xbOMz+Pi/L18R1qip+L8ud5TYOkX4v94r0JBTy/e/4FCLO3M8979WlZIlMJn2v8+AnA024vW/Ukaeb0UY9b/oe0+6Mjz0v164sW/lTvO/9CuHMVdR8r/zZLi6kkTxv0B/vcayKfC/R9Rj0MED7r/gSJefqJzrv+B3/gmhIOm/PdxRI0iS5r+r4EFETvTjvyQoWjZ0SeG/gJYynRAp3b+68JHzxrDXv5bDYnvML9K/xHg6ydZXyb/2PLixw6u8v3iX1ix0Kpu/YIKiZYS5rT+8ggdRyRnCPwZxR82wkcw/yO/8M4pl0z/IkS5fmV3YP5Cox8DLK90/hP56nYnl4D/nyXCFSRvjP+tXDnPSNOU/vnBj7+4v5z/S956EiQrpP6aMPO+uwuo/ogE5K5BW7D+uKiVbhMTtP8ChFocKC+8/3yvQmGUU8D8ud5TgTI7wPzBfEd668vA//3Fs60VB8T/Mv9pom3nxP/erixOAm/E/AAAARNCm8T8=\",\"dtype\":\"float64\",\"shape\":[100]},\"y\":{\"__ndarray__\":\"AAAAYP7ZuL9R0jEgLG+lv8gTgqqe34o/Tg7vidBRsT/Us2V/UBu/P3KRFWn5VMY/UrusRbr3zD/yBVbod7fRP9pU5mnm2dQ/thN+h9zf1z+EaCoULMbaP5CGiS7Iid0//HYfO+QT4D+oi4ANtk7hP+1mBGEOdOI/cCFrn7iC4z+BcDcOmHnkP+lyNPqoV+U/5EqnyAEc5j/wIQ3t08XmP4wTY8JsVOc/6WwTRzbH5z+WkMK6tx3oP0d+VR2WV+g/iV6sjpR06D+JXqyOlHToP0d+VR2WV+g/lpDCurcd6D/pbBNHNsfnP40TY8JsVOc/8SEN7dPF5j/lSqfIARzmP+pyNPqoV+U/gnA3Dph55D9xIWufuILjP+5mBGEOdOI/qouADbZO4T/9dh875BPgP5SGiS7Iid0/iGgqFCzG2j+9E36H3N/XP99U5mnm2dQ/9AVW6He30T9eu6xFuvfMP3qRFWn5VMY/8LNlf1Abvz9eDu+J0FGxP8AUgqqe34o/KdIxICxvpb/4//9f/tm4vwgAAGD+2bi/dovzVzN+w79MIahK+IfKv5jDe1JzwdC//GzZT9Mz1L+9yIrke5fXv69d1lLc6Nq/9AVWGHck3r9wKvPMcqPgv94Jv9ttJuK/RDQVopWZ479Kw0SvY/vkv/12H9NjSua/qouApTWF57/uZgT5jarov3Ehazc4uem/gnA3phew6r/qcjSSKI7rv+VKp2CBUuy/8SENhVP87L+NE2Na7Irtv+lsE9+1/e2/lpDCUjdU7r9HflW1FY7uv4lerCYUq+6/iV6sJhSr7r9HflW1FY7uv5aQwlI3VO6/6WwT37X97b+ME2Na7Irtv/AhDYVT/Oy/5EqnYIFS7L/pcjSSKI7rv4FwN6YXsOq/cCFrNzi56b/tZgT5jarov6iLgKU1hee//HYf02NK5r9Iw0SvY/vkv0I0FaKVmeO/2wm/220m4r9tKvPMcqPgv/IFVhh3JN6/qV3WUtzo2r+5yIrke5fXv/Vs2U/TM9S/lMN7UnPB0L88IahK+IfKv2yL81czfsO/AAAAYP7ZuL8=\",\"dtype\":\"float64\",\"shape\":[100]}},\"selected\":{\"id\":\"1421\",\"type\":\"Selection\"},\"selection_policy\":{\"id\":\"1420\",\"type\":\"UnionRenderers\"}},\"id\":\"1366\",\"type\":\"ColumnDataSource\"},{\"attributes\":{\"data_source\":{\"id\":\"1346\",\"type\":\"ColumnDataSource\"},\"glyph\":{\"id\":\"1347\",\"type\":\"Circle\"},\"hover_glyph\":null,\"muted_glyph\":null,\"nonselection_glyph\":{\"id\":\"1348\",\"type\":\"Circle\"},\"selection_glyph\":null,\"view\":{\"id\":\"1350\",\"type\":\"CDSView\"}},\"id\":\"1349\",\"type\":\"GlyphRenderer\"},{\"attributes\":{},\"id\":\"1412\",\"type\":\"UnionRenderers\"},{\"attributes\":{},\"id\":\"1317\",\"type\":\"LinearScale\"},{\"attributes\":{\"fill_alpha\":0.3,\"fill_color\":\"#98AFC7\",\"x\":{\"field\":\"x\"},\"y\":{\"field\":\"y\"}},\"id\":\"1367\",\"type\":\"Patch\"},{\"attributes\":{\"bottom_units\":\"screen\",\"fill_alpha\":{\"value\":0.5},\"fill_color\":{\"value\":\"lightgrey\"},\"left_units\":\"screen\",\"level\":\"overlay\",\"line_alpha\":{\"value\":1.0},\"line_color\":{\"value\":\"black\"},\"line_dash\":[4,4],\"line_width\":{\"value\":2},\"plot\":null,\"render_mode\":\"css\",\"right_units\":\"screen\",\"top_units\":\"screen\"},\"id\":\"1339\",\"type\":\"BoxAnnotation\"},{\"attributes\":{},\"id\":\"1413\",\"type\":\"Selection\"},{\"attributes\":{},\"id\":\"1319\",\"type\":\"LinearScale\"},{\"attributes\":{\"fill_alpha\":0.1,\"fill_color\":\"#1f77b4\",\"line_alpha\":0.1,\"line_color\":\"#1f77b4\",\"x\":{\"field\":\"x\"},\"y\":{\"field\":\"y\"}},\"id\":\"1368\",\"type\":\"Patch\"},{\"attributes\":{\"source\":{\"id\":\"1346\",\"type\":\"ColumnDataSource\"}},\"id\":\"1350\",\"type\":\"CDSView\"},{\"attributes\":{\"formatter\":{\"id\":\"1410\",\"type\":\"BasicTickFormatter\"},\"plot\":{\"id\":\"1312\",\"subtype\":\"Figure\",\"type\":\"Plot\"},\"ticker\":{\"id\":\"1322\",\"type\":\"BasicTicker\"}},\"id\":\"1321\",\"type\":\"LinearAxis\"},{\"attributes\":{\"data_source\":{\"id\":\"1366\",\"type\":\"ColumnDataSource\"},\"glyph\":{\"id\":\"1367\",\"type\":\"Patch\"},\"hover_glyph\":null,\"muted_glyph\":null,\"nonselection_glyph\":{\"id\":\"1368\",\"type\":\"Patch\"},\"selection_glyph\":null,\"view\":{\"id\":\"1370\",\"type\":\"CDSView\"}},\"id\":\"1369\",\"type\":\"GlyphRenderer\"},{\"attributes\":{},\"id\":\"1414\",\"type\":\"UnionRenderers\"},{\"attributes\":{\"fill_alpha\":0.3,\"fill_color\":\"green\",\"x\":{\"field\":\"x\"},\"y\":{\"field\":\"y\"}},\"id\":\"1352\",\"type\":\"Patch\"},{\"attributes\":{},\"id\":\"1322\",\"type\":\"BasicTicker\"},{\"attributes\":{\"source\":{\"id\":\"1366\",\"type\":\"ColumnDataSource\"}},\"id\":\"1370\",\"type\":\"CDSView\"},{\"attributes\":{},\"id\":\"1415\",\"type\":\"Selection\"},{\"attributes\":{},\"id\":\"1416\",\"type\":\"UnionRenderers\"},{\"attributes\":{\"plot\":{\"id\":\"1312\",\"subtype\":\"Figure\",\"type\":\"Plot\"},\"ticker\":{\"id\":\"1322\",\"type\":\"BasicTicker\"}},\"id\":\"1325\",\"type\":\"Grid\"},{\"attributes\":{\"fill_alpha\":0.1,\"fill_color\":\"#1f77b4\",\"line_alpha\":0.1,\"line_color\":\"#1f77b4\",\"x\":{\"field\":\"x\"},\"y\":{\"field\":\"y\"}},\"id\":\"1353\",\"type\":\"Patch\"},{\"attributes\":{\"callback\":null,\"data\":{\"x\":{\"__ndarray__\":\"AAAAwouUA0D3q4uRO4kDQMy/2uZWZwNA/3FsaQEvA0AwXxFcduACQC53lF4IfAJA3yvQFiECAkDgUIvBQHMBQFeVkqv9zwBA0YCckwMZAECmjDzrJZ7+P9L3noAA5vw/vnBj62UL+z/rVw5vSRD5P+fJcIHA9vY/hP56mQDB9D9I1GPcXHHyP+RIl6tDCvA/yO/8K3gc6z+DuKNexv/lP17Bg6DSw+A/mKBoCT3c1j8iWsrUGhHIP1AYPnKhf5E/iPF0svXTw78rh8UGvfHUv3XhI/ex89+/gJYypSJy5b9JULR0+tvqv6vgQUjXGPC/PdxRJ9G28r/gd/4NKkX1v+BIl6Mxwfe/R9Rj1Eoo+r+B/nqR7nf8v+bJcHmurf6/9CuHs5tjAMBeuLHxKWEBwOh7Tzx3TgLAUkae8YkqA8DPgJyPevQDwFaVkqd0qwTA4FCLvbdOBcDeK9ASmN0FwC53lFp/VwbAL18RWO27BsD/cWxleAoHwMu/2uLNQgfA96uLjbJkB8AAAAC+AnAHwAAAAL4CcAfA96uLjbJkB8DLv9rizUIHwP9xbGV4CgfAL18RWO27BsAud5Raf1cGwN4r0BKY3QXA4FCLvbdOBcBWlZKndKsEwM+AnI969APAUkae8YkqA8Doe088d04CwF64sfEpYQHA9CuHs5tjAMDmyXB5rq3+v4H+epHud/y/R9Rj1Eoo+r/gSJejMcH3v+B3/g0qRfW/PdxRJ9G28r+r4EFI1xjwv0lQtHT62+q/gJYypSJy5b914SP3sfPfvyuHxQa98dS/iPF0svXTw79QGD5yoX+RPyJaytQaEcg/mKBoCT3c1j9ewYOg0sPgP4O4o17G/+U/yO/8K3gc6z/kSJerQwrwP0jUY9xccfI/hP56mQDB9D/nyXCBwPb2P+tXDm9JEPk/vnBj62UL+z/S956AAOb8P6aMPOslnv4/0YCckwMZAEBXlZKr/c8AQOBQi8FAcwFA3yvQFiECAkAud5ReCHwCQDBfEVx24AJA/3FsaQEvA0DMv9rmVmcDQPeri5E7iQNAAAAAwouUA0A=\",\"dtype\":\"float64\",\"shape\":[100]},\"y\":{\"__ndarray__\":\"AAAAYP7ZuL94bXH+kVaLP/KEoArmkb8/Tg7vuc++zT/q2bLXJ8TVP3KRFQF5i9w/qV3W7hyX4T/yBVa0t9LkP9pU5jUm9ec/thN+Uxz76j+EaCrga+HtP0jDRP2DUvA//HYfIYSh8T+oi4DzVdzyP+1mBEeuAfQ/cCFrhVgQ9T+BcDf0Nwf2P+lyNOBI5fY/5EqnrqGp9z/wIQ3Tc1P4P4wTY6gM4vg/6WwTLdZU+T+WkMKgV6v5P0d+VQM25fk/iV6sdDQC+j+JXqx0NAL6P0d+VQM25fk/lpDCoFer+T/pbBMt1lT5P40TY6gM4vg/8SEN03NT+D/lSqeuoan3P+pyNOBI5fY/gnA39DcH9j9xIWuFWBD1P+5mBEeuAfQ/qouA81Xc8j/9dh8hhKHxP0rDRP2DUvA/iGgq4Gvh7T+9E35THPvqP99U5jUm9ec/9AVWtLfS5D+vXdbuHJfhP3qRFQF5i9w/+Nmy1yfE1T9eDu+5z77NPzCFoArmkb8/uG5x/pFWiz/x//9f/tm4vw8AAGD+2bi/7Bbnf2ePyr9MIaiyeFHUvy+H9wxnTNu//GzZg5MY4b+9yIoYPHzkv69d1oaczee/9AVWTDcJ67/fVObNpSvuv94Jv/XNmPC/RDQVvPUL8r9Kw0TJw23zv/12H+3DvPS/qouAv5X39b/uZgQT7hz3v3Eha1GYK/i/gnA3wHci+b/qcjSsiAD6v+VKp3rhxPq/8SENn7Nu+7+NE2N0TP37v+lsE/kVcPy/lpDCbJfG/L9HflXPdQD9v4lerEB0Hf2/iV6sQHQd/b9HflXPdQD9v5aQwmyXxvy/6WwT+RVw/L+ME2N0TP37v/AhDZ+zbvu/5EqneuHE+r/pcjSsiAD6v4FwN8B3Ivm/cCFrUZgr+L/tZgQT7hz3v6iLgL+V9/W//HYf7cO89L9Iw0TJw23zv0I0Fbz1C/K/2wm/9c2Y8L/aVObNpSvuv/IFVkw3Ceu/qV3WhpzN57+5yIoYPHzkv/Vs2YOTGOG/J4f3DGdM2788IaiyeFHUv9gW539nj8q/AAAAYP7ZuL8=\",\"dtype\":\"float64\",\"shape\":[100]}},\"selected\":{\"id\":\"1419\",\"type\":\"Selection\"},\"selection_policy\":{\"id\":\"1418\",\"type\":\"UnionRenderers\"}},\"id\":\"1361\",\"type\":\"ColumnDataSource\"},{\"attributes\":{},\"id\":\"1417\",\"type\":\"Selection\"},{\"attributes\":{\"formatter\":{\"id\":\"1408\",\"type\":\"BasicTickFormatter\"},\"plot\":{\"id\":\"1312\",\"subtype\":\"Figure\",\"type\":\"Plot\"},\"ticker\":{\"id\":\"1327\",\"type\":\"BasicTicker\"}},\"id\":\"1326\",\"type\":\"LinearAxis\"},{\"attributes\":{\"fill_alpha\":0.3,\"fill_color\":\"#C7B097\",\"x\":{\"field\":\"x\"},\"y\":{\"field\":\"y\"}},\"id\":\"1372\",\"type\":\"Patch\"},{\"attributes\":{\"data_source\":{\"id\":\"1351\",\"type\":\"ColumnDataSource\"},\"glyph\":{\"id\":\"1352\",\"type\":\"Patch\"},\"hover_glyph\":null,\"muted_glyph\":null,\"nonselection_glyph\":{\"id\":\"1353\",\"type\":\"Patch\"},\"selection_glyph\":null,\"view\":{\"id\":\"1355\",\"type\":\"CDSView\"}},\"id\":\"1354\",\"type\":\"GlyphRenderer\"},{\"attributes\":{},\"id\":\"1418\",\"type\":\"UnionRenderers\"},{\"attributes\":{},\"id\":\"1327\",\"type\":\"BasicTicker\"},{\"attributes\":{\"fill_alpha\":0.1,\"fill_color\":\"#1f77b4\",\"line_alpha\":0.1,\"line_color\":\"#1f77b4\",\"x\":{\"field\":\"x\"},\"y\":{\"field\":\"y\"}},\"id\":\"1373\",\"type\":\"Patch\"},{\"attributes\":{\"source\":{\"id\":\"1351\",\"type\":\"ColumnDataSource\"}},\"id\":\"1355\",\"type\":\"CDSView\"},{\"attributes\":{},\"id\":\"1419\",\"type\":\"Selection\"},{\"attributes\":{\"dimension\":1,\"plot\":{\"id\":\"1312\",\"subtype\":\"Figure\",\"type\":\"Plot\"},\"ticker\":{\"id\":\"1327\",\"type\":\"BasicTicker\"}},\"id\":\"1330\",\"type\":\"Grid\"},{\"attributes\":{\"data_source\":{\"id\":\"1371\",\"type\":\"ColumnDataSource\"},\"glyph\":{\"id\":\"1372\",\"type\":\"Patch\"},\"hover_glyph\":null,\"muted_glyph\":null,\"nonselection_glyph\":{\"id\":\"1373\",\"type\":\"Patch\"},\"selection_glyph\":null,\"view\":{\"id\":\"1375\",\"type\":\"CDSView\"}},\"id\":\"1374\",\"type\":\"GlyphRenderer\"},{\"attributes\":{\"callback\":null,\"data\":{\"x\":{\"__ndarray__\":\"AAAASJh07D8g0i32kWHsP/SRFwSTKOw/BofQZtfJ6z9OXgzGwkXrPwjnSRPgnOo/8Gyp9+DP6T+acQgZnd/oPypfJzcRzec/IdjHIV6Z5j+tVtuIx0XlP/O1Aaiy0+M/J9i9zqRE4j9Hu+vGQZrgPwacTTaUrN0/oiDifTL12T+6uRY1RxLWP6D/GfnoB9I/rnWRza+0yz+sCA9E8hvDP2hjo9hInbQ/IBqXh4pghT/ArKldxBGvv3Dp0kI198C/bFazu5Y4yr/DVCaCbL/Rv0GLlj4dYNa/YMpKVH/52r/OuDw0vIbfv2psFAuFAeK/KMIDgdg05L9oXWTjB1vmv8z/jGzQcei/3FyLiv926r9OEPEudWjsvwLOJgsmRO6/ot112w4E8L8T7F5fQNnwv/jaAEzHoPG/VqttvNFZ8r8P7OMInQPzv5Svk5N2nfO/zTiEhLwm9L93ttRz3p70v4TzpAFeBfW/Jy8GW89Z9b+DQ2ir2Zv1v/nIC3o3y/W/EOkW87bn9b8AAAAcOvH1vwAAABw68fW/EOkW87bn9b/5yAt6N8v1v4NDaKvZm/W/Jy8GW89Z9b+E86QBXgX1v3e21HPenvS/zTiEhLwm9L+Ur5OTdp3zvw/s4widA/O/VqttvNFZ8r/42gBMx6DxvxPsXl9A2fC/ot112w4E8L8CziYLJkTuv04Q8S51aOy/3FyLiv926r/M/4xs0HHov2hdZOMHW+a/KMIDgdg05L9qbBQLhQHiv864PDS8ht+/YMpKVH/52r9Bi5Y+HWDWv8NUJoJsv9G/bFazu5Y4yr9w6dJCNffAv8CsqV3EEa+/IBqXh4pghT9oY6PYSJ20P6wID0TyG8M/rnWRza+0yz+g/xn56AfSP7q5FjVHEtY/oiDifTL12T8GnE02lKzdP0e768ZBmuA/J9i9zqRE4j/ztQGostPjP61W24jHReU/IdjHIV6Z5j8qXyc3Ec3nP5pxCBmd3+g/8Gyp9+DP6T8I50kT4JzqP05eDMbCRes/BofQZtfJ6z/0kRcEkyjsPyDSLfaRYew/AAAASJh07D8=\",\"dtype\":\"float64\",\"shape\":[100]},\"y\":{\"__ndarray__\":\"AAAAYP7ZuL84J/N+qT+ZvyTWTuVRTag/1oNlbU92vj8im6js4kXIP28rUo0BldA/wvxP7hbv1D/ftvagnSzZP3KJeLcfSd0/gALq/ySg4D91uUZI+IbiP4aQCpYJV+Q/6G0eu3AO5j/Fkqd7X6vnP+raR3QjLOk/chwT4yeP6j/X81hR99LrP+YSgxw99uw/rMpq3Mb37T9Y3KylhdbuP959qCaPke8/P+L+Tg8U8D/9E8TUykzwP3GxfXa+cvA/brW5R8KF8D9utblHwoXwP3GxfXa+cvA//RPE1MpM8D8/4v5ODxTwP+B9qCaPke8/WtyspYXW7j+uymrcxvftP+gSgxw99uw/2PNYUffS6z90HBPjJ4/qP+vaR3QjLOk/yJKne1+r5z/qbR67cA7mP4qQCpYJV+Q/eLlGSPiG4j+FAur/JKDgP3aJeLcfSd0/4bb2oJ0s2T/K/E/uFu/UP3QrUo0BldA/NJuo7OJFyD/qg2VtT3a+P3TWTuVRTag/0Cbzfqk/mb/2//9f/tm4vwoAAGD+2bi/JpshMAmyxb+dtVPZUu3Ov/pgWQuTCtS/mk1UpvCP2L90K1K9AALdv2X+Jw8LruC/cFt7aM7M4r+7RLxzD9vkv4UC6pek1ua/eLlG4He96L+KkAouiY3qv+ptHlPwROy/yJKnE9/h7b/r2kcMo2LvvzqOib3TYvC/7HmsdLsE8b90iUFaXpbxv1dlNTojF/K/LW7WnoKG8r/wPlRfB+Tyvz/i/hpPL/O//RPEoApo879xsX1C/o3zv261uRMCofO/brW5EwKh879xsX1C/o3zv/0TxKAKaPO/P+L+Gk8v87/vPlRfB+Tyvyxu1p6ChvK/VmU1OiMX8r9ziUFaXpbxv+x5rHS7BPG/OY6JvdNi8L/q2kcMo2Lvv8WSpxPf4e2/6G0eU/BE7L+GkAouiY3qv3W5RuB3vei/gALql6TW5r+5RLxzD9vkv3Bbe2jOzOK/Yf4nDwuu4L9vK1K9AALdv5FNVKbwj9i/9mBZC5MK1L+JtVPZUu3OvxmbITAJssW/AAAAYP7ZuL8=\",\"dtype\":\"float64\",\"shape\":[100]}},\"selected\":{\"id\":\"1417\",\"type\":\"Selection\"},\"selection_policy\":{\"id\":\"1416\",\"type\":\"UnionRenderers\"}},\"id\":\"1356\",\"type\":\"ColumnDataSource\"},{\"attributes\":{},\"id\":\"1420\",\"type\":\"UnionRenderers\"},{\"attributes\":{\"fill_alpha\":{\"value\":0.1},\"fill_color\":{\"value\":\"#1f77b4\"},\"line_alpha\":{\"value\":0.1},\"line_color\":{\"value\":\"#1f77b4\"},\"x\":{\"field\":\"x\"},\"y\":{\"field\":\"y\"}},\"id\":\"1348\",\"type\":\"Circle\"},{\"attributes\":{\"source\":{\"id\":\"1371\",\"type\":\"ColumnDataSource\"}},\"id\":\"1375\",\"type\":\"CDSView\"},{\"attributes\":{\"fill_alpha\":0.3,\"fill_color\":\"green\",\"x\":{\"field\":\"x\"},\"y\":{\"field\":\"y\"}},\"id\":\"1357\",\"type\":\"Patch\"},{\"attributes\":{\"plot\":null,\"text\":\"\"},\"id\":\"1405\",\"type\":\"Title\"},{\"attributes\":{\"fill_color\":{\"value\":\"#1f77b4\"},\"line_color\":{\"value\":\"#1f77b4\"},\"x\":{\"field\":\"x\"},\"y\":{\"field\":\"y\"}},\"id\":\"1347\",\"type\":\"Circle\"},{\"attributes\":{\"callback\":null,\"data\":{\"x\":{\"__ndarray__\":\"AAAAJNCm8T/KgJzzf5vxP2MBHkmbefE/P4MDzEVB8T/USh2/uvLwPwXNNcJMjvA/it4me2UU8D9uKG1NCgvvPyh7YSOExO0/WMWV9Y9W7D9KMPK7rsLqP/5v41OJCuk/MQFqwe4v5z+bXQdI0jTlPyKIiV1JG+M/UW/deInl4D+E+Gx+yyvdP2Ad+iOZXdg//v4sAIpl0z/omN10sJHMP/S1MAjJGcI/SPvFgYO5rT/I5rJzdSqbvwwr4uLDq7y/AgFv0dZXyb93f0h3zC/SvzR1R+fGsNe/i9HEiBAp3b+zXxwodEnhv3ktDDJO9OO/NmY3DUiS5r97fxbwoCDpv6wO/YGonOu/QXw2r8ED7r+ot260sinwvxDExKaSRPG/zK4DHFdR8r+YALVY5U7zv/638aEyPPS/JBj5VUUY9b+q4sryNeL1v5O9sAkwmfa/NpS2HnM897+J3iZzU8v3vwXNNbo6Rfi/1Eodt6ip+L8/gwPEM/j4v2IBHkGJMPm/yoCc621S+b8AAAAcvl35vwAAABy+Xfm/yoCc621S+b9iAR5BiTD5vz+DA8Qz+Pi/1Eodt6ip+L8FzTW6OkX4v4neJnNTy/e/NpS2HnM897+TvbAJMJn2v6riyvI14vW/JBj5VUUY9b/+t/GhMjz0v5gAtVjlTvO/zK4DHFdR8r8QxMSmkkTxv6i3brSyKfC/QXw2r8ED7r+sDv2BqJzrv3t/FvCgIOm/NmY3DUiS5r95LQwyTvTjv7NfHCh0SeG/i9HEiBAp3b80dUfnxrDXv3d/SHfML9K/AgFv0dZXyb8MK+Liw6u8v8jmsnN1Kpu/SPvFgYO5rT/0tTAIyRnCP+iY3XSwkcw//v4sAIpl0z9gHfojmV3YP4T4bH7LK90/UW/deInl4D8iiIldSRvjP5tdB0jSNOU/MQFqwe4v5z/+b+NTiQrpP0ow8ruuwuo/WMWV9Y9W7D8oe2EjhMTtP24obU0KC+8/it4me2UU8D8FzTXCTI7wP9RKHb+68vA/P4MDzEVB8T9jAR5Jm3nxP8qAnPN/m/E/AAAAJNCm8T8=\",\"dtype\":\"float64\",\"shape\":[100]},\"y\":{\"__ndarray__\":\"AAAA9MNC4D/kH7WajXrhP+P01aOvnOI/cqkm2vin4z+GPCQRUJvkP/sLzUy1deU/A8/pzkI25j+eubsILtzmP1eMEXDIZuc/12jjNoDV5z9RRbTk4CfoP/ekF9GTXeg/MLLafmB26D/K1HDXLHLoPy5BZUb9UOg/7qG0tPQS6D/9vxNkVLjnPzTLSap7Qec/KnrmjOeu5j8bgb09MgHmP9C5sXgSOeU//556w1pX5D+LUi6Q+FzjP14meUPzSuI/3WqJH2si4T9S+aUpMMnfP0gf0/OQJd0/htOVV79c2j9zExYwqXHXP6nz1mRgZ9Q/oGv5rhdB0T9U8/F3PgTMP/xE2GLCW8U/1J/NVXgfvT8QgPD8SJ2uP8DLNYkdOXU/GCiFJBWGqb90y1nAXua6v7hkiqfFg8S/BGgPkNmLy79z+w+/AkLRv7Xy1kh6stS/Yg1PLrUT2L+MXrs/JWLbv9ApKhJQmt6/fNoRVGnc4L9QANqAMl3iv/j8B8juzeO/oUuaRBot5b////+LQ3nmvwEAAIxDeea/5R+1Mg2x57/k9NU7L9Pov3SpJnJ43um/iDwkqc/R6r/8C83kNKzrvwTP6WbCbOy/n7m7oK0S7b9YjBEISJ3tv9ho487/C+6/UUW0fGBe7r/3pBdpE5TuvzCy2hbgrO6/ytRwb6yo7r8uQWXefIfuv++htEx0Se6//r8T/NPu7b8zy0lC+3ftvyl65iRn5ey/GoG91bE37L/QubEQkm/rv/6eelvajeq/iVIuKHiT6b9cJnnbcoHov9tqibfqWOe/p/zSrBcb5r+ij+kRSMnkv8HpykPfZOO/uQkLMFTv4b/SeWvKL2rgv5pr+d4Wrt2/p/n4ax5v2r94Imxh4BrXv/Jnc0XdtNO//A+eT6hA0L9arklMx4PJv+613hZ5eMK/hDSm/53Ntr/wbNbh4lihv4BAe4DZjpU/6O0/PA5Usz905a0x9orAP8YanvxrTcc/JL12H0zqzT/SKSriUC3SPwC1I3jTS9U/owC00WVN2D/2+Q9g3i7bP0SXNFk17d0/AAAA9MNC4D8=\",\"dtype\":\"float64\",\"shape\":[100]}},\"selected\":{\"id\":\"1425\",\"type\":\"Selection\"},\"selection_policy\":{\"id\":\"1424\",\"type\":\"UnionRenderers\"}},\"id\":\"1376\",\"type\":\"ColumnDataSource\"},{\"attributes\":{\"fill_alpha\":0.1,\"fill_color\":\"#1f77b4\",\"line_alpha\":0.1,\"line_color\":\"#1f77b4\",\"x\":{\"field\":\"x\"},\"y\":{\"field\":\"y\"}},\"id\":\"1358\",\"type\":\"Patch\"},{\"attributes\":{},\"id\":\"1421\",\"type\":\"Selection\"},{\"attributes\":{\"callback\":null,\"data\":{\"x\":{\"__ndarray__\":\"AAAAogcoAEAQ6RZ5hB4AQPrICwAFAgBABofQYk6l/z9OXgzCOSH/PwjnSQ9XeP4/8Gyp81er/T+acQgVFLv8PypfJzOIqPs/IdjHHdV0+j+tVtuEPiH5P/O1AaQpr/c/J9i9yhsg9j9Hu+vCuHX0PwPOJhfBsfI/URDxOhDW8D+6uRYtNcntP6D/GfHWvuk/17rI3kWR5T9WhAca50ThP7SxUVyAvNk/onF5mOTD0D9AU1Ziq6W+P/iWLi2VlZi/2Kxml3WVxb+GqUwU/RDUv4IWLY1eUt2/YMpKXJFC47/OuDw8zs/nv9PYKB4cTOy/KMIDhWFZ8L9oXWTnkH/yv8z/jHBZlvS/3FyLjoib9r9OEPEy/oz4vwLOJg+vaPq/RLvruqYs/L8m2L3CCdf9v/G1AZwXZv+/VqttPhZsAMAP7OOK4RUBwJSvkxW7rwHAzTiEBgE5AsB3ttT1IrECwITzpIOiFwPAJy8G3RNsA8CDQ2gtHq4DwPnIC/x73QPAEOkWdfv5A8AAAACefgMEwAAAAJ5+AwTAEOkWdfv5A8D5yAv8e90DwINDaC0ergPAJy8G3RNsA8CE86SDohcDwHe21PUisQLAzTiEBgE5AsCUr5MVu68BwA/s44rhFQHAVqttPhZsAMDxtQGcF2b/vybYvcIJ1/2/RLvruqYs/L8CziYPr2j6v04Q8TL+jPi/3FyLjoib9r/M/4xwWZb0v2hdZOeQf/K/KMIDhWFZ8L/T2CgeHEzsv864PDzOz+e/YMpKXJFC47+CFi2NXlLdv4apTBT9ENS/2Kxml3WVxb/4li4tlZWYv0BTVmKrpb4/onF5mOTD0D+0sVFcgLzZP1aEBxrnROE/17rI3kWR5T+g/xnx1r7pP7q5Fi01ye0/URDxOhDW8D8DziYXwbHyP0e768K4dfQ/J9i9yhsg9j/ztQGkKa/3P61W24Q+Ifk/IdjHHdV0+j8qXycziKj7P5pxCBUUu/w/8Gyp81er/T8I50kPV3j+P05eDMI5If8/BofQYk6l/z/6yAsABQIAQBDpFnmEHgBAAAAAogcoAEA=\",\"dtype\":\"float64\",\"shape\":[100]},\"y\":{\"__ndarray__\":\"AAAAYP7ZuL/I2AxBU3SoPxJrpyKok8g/68GyTqdx1T8im6iEYnzeP28rUllBsOM/wvxPulYK6D/ftvZs3UfsP7lEvMEvMvA/gALq5cQt8j91uUYumBT0P4aQCnyp5PU/6G0eoRCc9z/Fkqdh/zj5P+raR1rDufo/chwTyccc/D/X81g3l2D9P+YSgwLdg/4/rMpqwmaF/z8sbtbFEjIAQO8+VIaXjwBAP+L+Qd/aAED9E8THmhMBQHGxfWmOOQFAbrW5OpJMAUButbk6kkwBQHGxfWmOOQFA/RPEx5oTAUA/4v5B39oAQPA+VIaXjwBALW7WxRIyAECuymrCZoX/P+gSgwLdg/4/2PNYN5dg/T90HBPJxxz8P+vaR1rDufo/yJKnYf84+T/qbR6hEJz3P4qQCnyp5PU/eLlGLpgU9D+FAurlxC3yP7tEvMEvMvA/4bb2bN1H7D/K/E+6VgroP3QrUllBsOM/NJuohGJ83j/1wbJOp3HVPzprpyKok8g/MNkMQVN0qD/s//9f/tm4vxQAAGD+2bi/TDZDMBP3zr+dtVNB07bYv/pgWT9T7+C/mk1U2rB05b90K1LxwObpv8r8T1LWQO6/cFt7gi4/8b+7RLyNb03zv4UC6rEESfW/eLlG+tcv97+KkApI6f/4v+ptHm1Qt/q/yJKnLT9U/L/r2kcmA9X9v3QcE5UHOP+/7Hmsges9AMB0iUFnjs8AwFdlNUdTUAHALW7Wq7K/AcDwPlRsNx0CwD/i/id/aALA/RPErTqhAsBxsX1PLscCwG61uSAy2gLAbrW5IDLaAsBxsX1PLscCwP0TxK06oQLAP+L+J39oAsDvPlRsNx0CwCxu1quyvwHAVmU1R1NQAcBziUFnjs8AwOx5rIHrPQDAchwTlQc4/7/q2kcmA9X9v8WSpy0/VPy/6G0ebVC3+r+GkApI6f/4v3W5RvrXL/e/gALqsQRJ9b+5RLyNb03zv3Bbe4IuP/G/wvxPUtZA7r9vK1LxwObpv5FNVNqwdOW/9mBZP1Pv4L+JtVNB07bYvzI2QzAT986/AAAAYP7ZuL8=\",\"dtype\":\"float64\",\"shape\":[100]}},\"selected\":{\"id\":\"1415\",\"type\":\"Selection\"},\"selection_policy\":{\"id\":\"1414\",\"type\":\"UnionRenderers\"}},\"id\":\"1351\",\"type\":\"ColumnDataSource\"},{\"attributes\":{},\"id\":\"1422\",\"type\":\"UnionRenderers\"},{\"attributes\":{\"fill_alpha\":0.3,\"fill_color\":\"#C7B097\",\"x\":{\"field\":\"x\"},\"y\":{\"field\":\"y\"}},\"id\":\"1377\",\"type\":\"Patch\"},{\"attributes\":{\"data_source\":{\"id\":\"1356\",\"type\":\"ColumnDataSource\"},\"glyph\":{\"id\":\"1357\",\"type\":\"Patch\"},\"hover_glyph\":null,\"muted_glyph\":null,\"nonselection_glyph\":{\"id\":\"1358\",\"type\":\"Patch\"},\"selection_glyph\":null,\"view\":{\"id\":\"1360\",\"type\":\"CDSView\"}},\"id\":\"1359\",\"type\":\"GlyphRenderer\"},{\"attributes\":{},\"id\":\"1331\",\"type\":\"PanTool\"},{\"attributes\":{},\"id\":\"1423\",\"type\":\"Selection\"}],\"root_ids\":[\"1312\"]},\"title\":\"Bokeh Application\",\"version\":\"1.0.2\"}};\n",
       "  var render_items = [{\"docid\":\"8cebf4d9-04b2-4b40-83e0-76c6c0ba035d\",\"roots\":{\"1312\":\"30d7a578-c8d0-46ec-ab8a-043940ee6fe1\"}}];\n",
       "  root.Bokeh.embed.embed_items_notebook(docs_json, render_items);\n",
       "\n",
       "  }\n",
       "  if (root.Bokeh !== undefined) {\n",
       "    embed_document(root);\n",
       "  } else {\n",
       "    var attempts = 0;\n",
       "    var timer = setInterval(function(root) {\n",
       "      if (root.Bokeh !== undefined) {\n",
       "        embed_document(root);\n",
       "        clearInterval(timer);\n",
       "      }\n",
       "      attempts++;\n",
       "      if (attempts > 100) {\n",
       "        console.log(\"Bokeh: ERROR: Unable to run BokehJS code because BokehJS library is missing\");\n",
       "        clearInterval(timer);\n",
       "      }\n",
       "    }, 10, root)\n",
       "  }\n",
       "})(window);"
      ],
      "application/vnd.bokehjs_exec.v0+json": ""
     },
     "metadata": {
      "application/vnd.bokehjs_exec.v0+json": {
       "id": "1312"
      }
     },
     "output_type": "display_data"
    }
   ],
   "source": [
    "fig = figure(\n",
    "    width=400,\n",
    "    height=400,\n",
    "    x_range=(-5, 5),\n",
    "    y_range=(-5, 5)\n",
    ")\n",
    "fig.circle(data[:, 0], data[:, 1])\n",
    "\n",
    "mean, precision = normal_iso.mean_precision.value()\n",
    "cov = torch.eye(2) / precision\n",
    "plotting.plot_normal(fig, mean.numpy(), cov.numpy(), \n",
    "                     line_color='black', fill_alpha=.3, color='green')\n",
    "\n",
    "mean, precision = normal_diag.mean_precision.value()\n",
    "cov = (1/precision).diag()\n",
    "plotting.plot_normal(fig, mean.numpy(), cov.numpy(), \n",
    "                     line_color='black', fill_alpha=.3, color='#98AFC7')\n",
    "\n",
    "mean, precision = normal_full.mean_precision.value()\n",
    "cov = precision.inverse()\n",
    "plotting.plot_normal(fig, mean.numpy(), cov.numpy(), \n",
    "                     line_color='black', fill_alpha=.3, color='#C7B097')\n",
    "\n",
    "show(fig)"
   ]
  },
  {
   "cell_type": "code",
   "execution_count": null,
   "metadata": {},
   "outputs": [],
   "source": []
  }
 ],
 "metadata": {
  "kernelspec": {
   "display_name": "Python 3",
   "language": "python",
   "name": "python3"
  },
  "language_info": {
   "codemirror_mode": {
    "name": "ipython",
    "version": 3
   },
   "file_extension": ".py",
   "mimetype": "text/x-python",
   "name": "python",
   "nbconvert_exporter": "python",
   "pygments_lexer": "ipython3",
   "version": "3.7.1"
  }
 },
 "nbformat": 4,
 "nbformat_minor": 2
}
