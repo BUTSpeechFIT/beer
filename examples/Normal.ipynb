{
 "cells": [
  {
   "cell_type": "markdown",
   "metadata": {},
   "source": [
    "# Bayesian Model\n",
    "\n",
    "This notebook illustrate how to use a Bayesian Normal density model with the [beer framework](https://github.com/beer-asr/beer). The Normal distribution is a fairly basic models but it is used extenslively in other model as a basic building block."
   ]
  },
  {
   "cell_type": "code",
   "execution_count": 1,
   "metadata": {},
   "outputs": [
    {
     "data": {
      "text/html": [
       "\n",
       "    <div class=\"bk-root\">\n",
       "        <a href=\"https://bokeh.pydata.org\" target=\"_blank\" class=\"bk-logo bk-logo-small bk-logo-notebook\"></a>\n",
       "        <span id=\"1001\">Loading BokehJS ...</span>\n",
       "    </div>"
      ]
     },
     "metadata": {},
     "output_type": "display_data"
    },
    {
     "data": {
      "application/javascript": [
       "\n",
       "(function(root) {\n",
       "  function now() {\n",
       "    return new Date();\n",
       "  }\n",
       "\n",
       "  var force = true;\n",
       "\n",
       "  if (typeof (root._bokeh_onload_callbacks) === \"undefined\" || force === true) {\n",
       "    root._bokeh_onload_callbacks = [];\n",
       "    root._bokeh_is_loading = undefined;\n",
       "  }\n",
       "\n",
       "  var JS_MIME_TYPE = 'application/javascript';\n",
       "  var HTML_MIME_TYPE = 'text/html';\n",
       "  var EXEC_MIME_TYPE = 'application/vnd.bokehjs_exec.v0+json';\n",
       "  var CLASS_NAME = 'output_bokeh rendered_html';\n",
       "\n",
       "  /**\n",
       "   * Render data to the DOM node\n",
       "   */\n",
       "  function render(props, node) {\n",
       "    var script = document.createElement(\"script\");\n",
       "    node.appendChild(script);\n",
       "  }\n",
       "\n",
       "  /**\n",
       "   * Handle when an output is cleared or removed\n",
       "   */\n",
       "  function handleClearOutput(event, handle) {\n",
       "    var cell = handle.cell;\n",
       "\n",
       "    var id = cell.output_area._bokeh_element_id;\n",
       "    var server_id = cell.output_area._bokeh_server_id;\n",
       "    // Clean up Bokeh references\n",
       "    if (id != null && id in Bokeh.index) {\n",
       "      Bokeh.index[id].model.document.clear();\n",
       "      delete Bokeh.index[id];\n",
       "    }\n",
       "\n",
       "    if (server_id !== undefined) {\n",
       "      // Clean up Bokeh references\n",
       "      var cmd = \"from bokeh.io.state import curstate; print(curstate().uuid_to_server['\" + server_id + \"'].get_sessions()[0].document.roots[0]._id)\";\n",
       "      cell.notebook.kernel.execute(cmd, {\n",
       "        iopub: {\n",
       "          output: function(msg) {\n",
       "            var id = msg.content.text.trim();\n",
       "            if (id in Bokeh.index) {\n",
       "              Bokeh.index[id].model.document.clear();\n",
       "              delete Bokeh.index[id];\n",
       "            }\n",
       "          }\n",
       "        }\n",
       "      });\n",
       "      // Destroy server and session\n",
       "      var cmd = \"import bokeh.io.notebook as ion; ion.destroy_server('\" + server_id + \"')\";\n",
       "      cell.notebook.kernel.execute(cmd);\n",
       "    }\n",
       "  }\n",
       "\n",
       "  /**\n",
       "   * Handle when a new output is added\n",
       "   */\n",
       "  function handleAddOutput(event, handle) {\n",
       "    var output_area = handle.output_area;\n",
       "    var output = handle.output;\n",
       "\n",
       "    // limit handleAddOutput to display_data with EXEC_MIME_TYPE content only\n",
       "    if ((output.output_type != \"display_data\") || (!output.data.hasOwnProperty(EXEC_MIME_TYPE))) {\n",
       "      return\n",
       "    }\n",
       "\n",
       "    var toinsert = output_area.element.find(\".\" + CLASS_NAME.split(' ')[0]);\n",
       "\n",
       "    if (output.metadata[EXEC_MIME_TYPE][\"id\"] !== undefined) {\n",
       "      toinsert[toinsert.length - 1].firstChild.textContent = output.data[JS_MIME_TYPE];\n",
       "      // store reference to embed id on output_area\n",
       "      output_area._bokeh_element_id = output.metadata[EXEC_MIME_TYPE][\"id\"];\n",
       "    }\n",
       "    if (output.metadata[EXEC_MIME_TYPE][\"server_id\"] !== undefined) {\n",
       "      var bk_div = document.createElement(\"div\");\n",
       "      bk_div.innerHTML = output.data[HTML_MIME_TYPE];\n",
       "      var script_attrs = bk_div.children[0].attributes;\n",
       "      for (var i = 0; i < script_attrs.length; i++) {\n",
       "        toinsert[toinsert.length - 1].firstChild.setAttribute(script_attrs[i].name, script_attrs[i].value);\n",
       "      }\n",
       "      // store reference to server id on output_area\n",
       "      output_area._bokeh_server_id = output.metadata[EXEC_MIME_TYPE][\"server_id\"];\n",
       "    }\n",
       "  }\n",
       "\n",
       "  function register_renderer(events, OutputArea) {\n",
       "\n",
       "    function append_mime(data, metadata, element) {\n",
       "      // create a DOM node to render to\n",
       "      var toinsert = this.create_output_subarea(\n",
       "        metadata,\n",
       "        CLASS_NAME,\n",
       "        EXEC_MIME_TYPE\n",
       "      );\n",
       "      this.keyboard_manager.register_events(toinsert);\n",
       "      // Render to node\n",
       "      var props = {data: data, metadata: metadata[EXEC_MIME_TYPE]};\n",
       "      render(props, toinsert[toinsert.length - 1]);\n",
       "      element.append(toinsert);\n",
       "      return toinsert\n",
       "    }\n",
       "\n",
       "    /* Handle when an output is cleared or removed */\n",
       "    events.on('clear_output.CodeCell', handleClearOutput);\n",
       "    events.on('delete.Cell', handleClearOutput);\n",
       "\n",
       "    /* Handle when a new output is added */\n",
       "    events.on('output_added.OutputArea', handleAddOutput);\n",
       "\n",
       "    /**\n",
       "     * Register the mime type and append_mime function with output_area\n",
       "     */\n",
       "    OutputArea.prototype.register_mime_type(EXEC_MIME_TYPE, append_mime, {\n",
       "      /* Is output safe? */\n",
       "      safe: true,\n",
       "      /* Index of renderer in `output_area.display_order` */\n",
       "      index: 0\n",
       "    });\n",
       "  }\n",
       "\n",
       "  // register the mime type if in Jupyter Notebook environment and previously unregistered\n",
       "  if (root.Jupyter !== undefined) {\n",
       "    var events = require('base/js/events');\n",
       "    var OutputArea = require('notebook/js/outputarea').OutputArea;\n",
       "\n",
       "    if (OutputArea.prototype.mime_types().indexOf(EXEC_MIME_TYPE) == -1) {\n",
       "      register_renderer(events, OutputArea);\n",
       "    }\n",
       "  }\n",
       "\n",
       "  \n",
       "  if (typeof (root._bokeh_timeout) === \"undefined\" || force === true) {\n",
       "    root._bokeh_timeout = Date.now() + 5000;\n",
       "    root._bokeh_failed_load = false;\n",
       "  }\n",
       "\n",
       "  var NB_LOAD_WARNING = {'data': {'text/html':\n",
       "     \"<div style='background-color: #fdd'>\\n\"+\n",
       "     \"<p>\\n\"+\n",
       "     \"BokehJS does not appear to have successfully loaded. If loading BokehJS from CDN, this \\n\"+\n",
       "     \"may be due to a slow or bad network connection. Possible fixes:\\n\"+\n",
       "     \"</p>\\n\"+\n",
       "     \"<ul>\\n\"+\n",
       "     \"<li>re-rerun `output_notebook()` to attempt to load from CDN again, or</li>\\n\"+\n",
       "     \"<li>use INLINE resources instead, as so:</li>\\n\"+\n",
       "     \"</ul>\\n\"+\n",
       "     \"<code>\\n\"+\n",
       "     \"from bokeh.resources import INLINE\\n\"+\n",
       "     \"output_notebook(resources=INLINE)\\n\"+\n",
       "     \"</code>\\n\"+\n",
       "     \"</div>\"}};\n",
       "\n",
       "  function display_loaded() {\n",
       "    var el = document.getElementById(\"1001\");\n",
       "    if (el != null) {\n",
       "      el.textContent = \"BokehJS is loading...\";\n",
       "    }\n",
       "    if (root.Bokeh !== undefined) {\n",
       "      if (el != null) {\n",
       "        el.textContent = \"BokehJS \" + root.Bokeh.version + \" successfully loaded.\";\n",
       "      }\n",
       "    } else if (Date.now() < root._bokeh_timeout) {\n",
       "      setTimeout(display_loaded, 100)\n",
       "    }\n",
       "  }\n",
       "\n",
       "\n",
       "  function run_callbacks() {\n",
       "    try {\n",
       "      root._bokeh_onload_callbacks.forEach(function(callback) { callback() });\n",
       "    }\n",
       "    finally {\n",
       "      delete root._bokeh_onload_callbacks\n",
       "    }\n",
       "    console.info(\"Bokeh: all callbacks have finished\");\n",
       "  }\n",
       "\n",
       "  function load_libs(js_urls, callback) {\n",
       "    root._bokeh_onload_callbacks.push(callback);\n",
       "    if (root._bokeh_is_loading > 0) {\n",
       "      console.log(\"Bokeh: BokehJS is being loaded, scheduling callback at\", now());\n",
       "      return null;\n",
       "    }\n",
       "    if (js_urls == null || js_urls.length === 0) {\n",
       "      run_callbacks();\n",
       "      return null;\n",
       "    }\n",
       "    console.log(\"Bokeh: BokehJS not loaded, scheduling load and callback at\", now());\n",
       "    root._bokeh_is_loading = js_urls.length;\n",
       "    for (var i = 0; i < js_urls.length; i++) {\n",
       "      var url = js_urls[i];\n",
       "      var s = document.createElement('script');\n",
       "      s.src = url;\n",
       "      s.async = false;\n",
       "      s.onreadystatechange = s.onload = function() {\n",
       "        root._bokeh_is_loading--;\n",
       "        if (root._bokeh_is_loading === 0) {\n",
       "          console.log(\"Bokeh: all BokehJS libraries loaded\");\n",
       "          run_callbacks()\n",
       "        }\n",
       "      };\n",
       "      s.onerror = function() {\n",
       "        console.warn(\"failed to load library \" + url);\n",
       "      };\n",
       "      console.log(\"Bokeh: injecting script tag for BokehJS library: \", url);\n",
       "      document.getElementsByTagName(\"head\")[0].appendChild(s);\n",
       "    }\n",
       "  };var element = document.getElementById(\"1001\");\n",
       "  if (element == null) {\n",
       "    console.log(\"Bokeh: ERROR: autoload.js configured with elementid '1001' but no matching script tag was found. \")\n",
       "    return false;\n",
       "  }\n",
       "\n",
       "  var js_urls = [\"https://cdn.pydata.org/bokeh/release/bokeh-1.0.2.min.js\", \"https://cdn.pydata.org/bokeh/release/bokeh-widgets-1.0.2.min.js\", \"https://cdn.pydata.org/bokeh/release/bokeh-tables-1.0.2.min.js\", \"https://cdn.pydata.org/bokeh/release/bokeh-gl-1.0.2.min.js\"];\n",
       "\n",
       "  var inline_js = [\n",
       "    function(Bokeh) {\n",
       "      Bokeh.set_log_level(\"info\");\n",
       "    },\n",
       "    \n",
       "    function(Bokeh) {\n",
       "      \n",
       "    },\n",
       "    function(Bokeh) {\n",
       "      console.log(\"Bokeh: injecting CSS: https://cdn.pydata.org/bokeh/release/bokeh-1.0.2.min.css\");\n",
       "      Bokeh.embed.inject_css(\"https://cdn.pydata.org/bokeh/release/bokeh-1.0.2.min.css\");\n",
       "      console.log(\"Bokeh: injecting CSS: https://cdn.pydata.org/bokeh/release/bokeh-widgets-1.0.2.min.css\");\n",
       "      Bokeh.embed.inject_css(\"https://cdn.pydata.org/bokeh/release/bokeh-widgets-1.0.2.min.css\");\n",
       "      console.log(\"Bokeh: injecting CSS: https://cdn.pydata.org/bokeh/release/bokeh-tables-1.0.2.min.css\");\n",
       "      Bokeh.embed.inject_css(\"https://cdn.pydata.org/bokeh/release/bokeh-tables-1.0.2.min.css\");\n",
       "    }\n",
       "  ];\n",
       "\n",
       "  function run_inline_js() {\n",
       "    \n",
       "    if ((root.Bokeh !== undefined) || (force === true)) {\n",
       "      for (var i = 0; i < inline_js.length; i++) {\n",
       "        inline_js[i].call(root, root.Bokeh);\n",
       "      }if (force === true) {\n",
       "        display_loaded();\n",
       "      }} else if (Date.now() < root._bokeh_timeout) {\n",
       "      setTimeout(run_inline_js, 100);\n",
       "    } else if (!root._bokeh_failed_load) {\n",
       "      console.log(\"Bokeh: BokehJS failed to load within specified timeout.\");\n",
       "      root._bokeh_failed_load = true;\n",
       "    } else if (force !== true) {\n",
       "      var cell = $(document.getElementById(\"1001\")).parents('.cell').data().cell;\n",
       "      cell.output_area.append_execute_result(NB_LOAD_WARNING)\n",
       "    }\n",
       "\n",
       "  }\n",
       "\n",
       "  if (root._bokeh_is_loading === 0) {\n",
       "    console.log(\"Bokeh: BokehJS loaded, going straight to plotting\");\n",
       "    run_inline_js();\n",
       "  } else {\n",
       "    load_libs(js_urls, function() {\n",
       "      console.log(\"Bokeh: BokehJS plotting callback run at\", now());\n",
       "      run_inline_js();\n",
       "    });\n",
       "  }\n",
       "}(window));"
      ],
      "application/vnd.bokehjs_load.v0+json": "\n(function(root) {\n  function now() {\n    return new Date();\n  }\n\n  var force = true;\n\n  if (typeof (root._bokeh_onload_callbacks) === \"undefined\" || force === true) {\n    root._bokeh_onload_callbacks = [];\n    root._bokeh_is_loading = undefined;\n  }\n\n  \n\n  \n  if (typeof (root._bokeh_timeout) === \"undefined\" || force === true) {\n    root._bokeh_timeout = Date.now() + 5000;\n    root._bokeh_failed_load = false;\n  }\n\n  var NB_LOAD_WARNING = {'data': {'text/html':\n     \"<div style='background-color: #fdd'>\\n\"+\n     \"<p>\\n\"+\n     \"BokehJS does not appear to have successfully loaded. If loading BokehJS from CDN, this \\n\"+\n     \"may be due to a slow or bad network connection. Possible fixes:\\n\"+\n     \"</p>\\n\"+\n     \"<ul>\\n\"+\n     \"<li>re-rerun `output_notebook()` to attempt to load from CDN again, or</li>\\n\"+\n     \"<li>use INLINE resources instead, as so:</li>\\n\"+\n     \"</ul>\\n\"+\n     \"<code>\\n\"+\n     \"from bokeh.resources import INLINE\\n\"+\n     \"output_notebook(resources=INLINE)\\n\"+\n     \"</code>\\n\"+\n     \"</div>\"}};\n\n  function display_loaded() {\n    var el = document.getElementById(\"1001\");\n    if (el != null) {\n      el.textContent = \"BokehJS is loading...\";\n    }\n    if (root.Bokeh !== undefined) {\n      if (el != null) {\n        el.textContent = \"BokehJS \" + root.Bokeh.version + \" successfully loaded.\";\n      }\n    } else if (Date.now() < root._bokeh_timeout) {\n      setTimeout(display_loaded, 100)\n    }\n  }\n\n\n  function run_callbacks() {\n    try {\n      root._bokeh_onload_callbacks.forEach(function(callback) { callback() });\n    }\n    finally {\n      delete root._bokeh_onload_callbacks\n    }\n    console.info(\"Bokeh: all callbacks have finished\");\n  }\n\n  function load_libs(js_urls, callback) {\n    root._bokeh_onload_callbacks.push(callback);\n    if (root._bokeh_is_loading > 0) {\n      console.log(\"Bokeh: BokehJS is being loaded, scheduling callback at\", now());\n      return null;\n    }\n    if (js_urls == null || js_urls.length === 0) {\n      run_callbacks();\n      return null;\n    }\n    console.log(\"Bokeh: BokehJS not loaded, scheduling load and callback at\", now());\n    root._bokeh_is_loading = js_urls.length;\n    for (var i = 0; i < js_urls.length; i++) {\n      var url = js_urls[i];\n      var s = document.createElement('script');\n      s.src = url;\n      s.async = false;\n      s.onreadystatechange = s.onload = function() {\n        root._bokeh_is_loading--;\n        if (root._bokeh_is_loading === 0) {\n          console.log(\"Bokeh: all BokehJS libraries loaded\");\n          run_callbacks()\n        }\n      };\n      s.onerror = function() {\n        console.warn(\"failed to load library \" + url);\n      };\n      console.log(\"Bokeh: injecting script tag for BokehJS library: \", url);\n      document.getElementsByTagName(\"head\")[0].appendChild(s);\n    }\n  };var element = document.getElementById(\"1001\");\n  if (element == null) {\n    console.log(\"Bokeh: ERROR: autoload.js configured with elementid '1001' but no matching script tag was found. \")\n    return false;\n  }\n\n  var js_urls = [\"https://cdn.pydata.org/bokeh/release/bokeh-1.0.2.min.js\", \"https://cdn.pydata.org/bokeh/release/bokeh-widgets-1.0.2.min.js\", \"https://cdn.pydata.org/bokeh/release/bokeh-tables-1.0.2.min.js\", \"https://cdn.pydata.org/bokeh/release/bokeh-gl-1.0.2.min.js\"];\n\n  var inline_js = [\n    function(Bokeh) {\n      Bokeh.set_log_level(\"info\");\n    },\n    \n    function(Bokeh) {\n      \n    },\n    function(Bokeh) {\n      console.log(\"Bokeh: injecting CSS: https://cdn.pydata.org/bokeh/release/bokeh-1.0.2.min.css\");\n      Bokeh.embed.inject_css(\"https://cdn.pydata.org/bokeh/release/bokeh-1.0.2.min.css\");\n      console.log(\"Bokeh: injecting CSS: https://cdn.pydata.org/bokeh/release/bokeh-widgets-1.0.2.min.css\");\n      Bokeh.embed.inject_css(\"https://cdn.pydata.org/bokeh/release/bokeh-widgets-1.0.2.min.css\");\n      console.log(\"Bokeh: injecting CSS: https://cdn.pydata.org/bokeh/release/bokeh-tables-1.0.2.min.css\");\n      Bokeh.embed.inject_css(\"https://cdn.pydata.org/bokeh/release/bokeh-tables-1.0.2.min.css\");\n    }\n  ];\n\n  function run_inline_js() {\n    \n    if ((root.Bokeh !== undefined) || (force === true)) {\n      for (var i = 0; i < inline_js.length; i++) {\n        inline_js[i].call(root, root.Bokeh);\n      }if (force === true) {\n        display_loaded();\n      }} else if (Date.now() < root._bokeh_timeout) {\n      setTimeout(run_inline_js, 100);\n    } else if (!root._bokeh_failed_load) {\n      console.log(\"Bokeh: BokehJS failed to load within specified timeout.\");\n      root._bokeh_failed_load = true;\n    } else if (force !== true) {\n      var cell = $(document.getElementById(\"1001\")).parents('.cell').data().cell;\n      cell.output_area.append_execute_result(NB_LOAD_WARNING)\n    }\n\n  }\n\n  if (root._bokeh_is_loading === 0) {\n    console.log(\"Bokeh: BokehJS loaded, going straight to plotting\");\n    run_inline_js();\n  } else {\n    load_libs(js_urls, function() {\n      console.log(\"Bokeh: BokehJS plotting callback run at\", now());\n      run_inline_js();\n    });\n  }\n}(window));"
     },
     "metadata": {},
     "output_type": "display_data"
    }
   ],
   "source": [
    "# Add \"beer\" to the PYTHONPATH\n",
    "import random\n",
    "from collections import defaultdict\n",
    "import sys\n",
    "sys.path.insert(0, '../')\n",
    "\n",
    "\n",
    "import beer\n",
    "import numpy as np\n",
    "import torch\n",
    "\n",
    "# For plotting.\n",
    "from bokeh.io import show, output_notebook\n",
    "from bokeh.plotting import figure, gridplot\n",
    "output_notebook()\n",
    "\n",
    "# Convenience functions for plotting.\n",
    "import plotting\n",
    "\n",
    "%load_ext autoreload\n",
    "%autoreload 2"
   ]
  },
  {
   "cell_type": "markdown",
   "metadata": {},
   "source": [
    "## Data\n",
    "\n",
    "Generate some normally distributed data:"
   ]
  },
  {
   "cell_type": "code",
   "execution_count": 2,
   "metadata": {},
   "outputs": [
    {
     "data": {
      "text/html": [
       "\n",
       "\n",
       "\n",
       "\n",
       "\n",
       "\n",
       "  <div class=\"bk-root\" id=\"9a2a7f2b-e0c6-4c19-8474-559f96b2e608\"></div>\n"
      ]
     },
     "metadata": {},
     "output_type": "display_data"
    },
    {
     "data": {
      "application/javascript": [
       "(function(root) {\n",
       "  function embed_document(root) {\n",
       "    \n",
       "  var docs_json = {\"158d9429-9804-4d3a-b262-0fe618bc0019\":{\"roots\":{\"references\":[{\"attributes\":{\"below\":[{\"id\":\"1013\",\"type\":\"LinearAxis\"}],\"left\":[{\"id\":\"1018\",\"type\":\"LinearAxis\"}],\"plot_height\":400,\"plot_width\":400,\"renderers\":[{\"id\":\"1013\",\"type\":\"LinearAxis\"},{\"id\":\"1017\",\"type\":\"Grid\"},{\"id\":\"1018\",\"type\":\"LinearAxis\"},{\"id\":\"1022\",\"type\":\"Grid\"},{\"id\":\"1031\",\"type\":\"BoxAnnotation\"},{\"id\":\"1041\",\"type\":\"GlyphRenderer\"},{\"id\":\"1046\",\"type\":\"GlyphRenderer\"},{\"id\":\"1051\",\"type\":\"GlyphRenderer\"}],\"title\":{\"id\":\"1002\",\"type\":\"Title\"},\"toolbar\":{\"id\":\"1029\",\"type\":\"Toolbar\"},\"x_range\":{\"id\":\"1005\",\"type\":\"Range1d\"},\"x_scale\":{\"id\":\"1009\",\"type\":\"LinearScale\"},\"y_range\":{\"id\":\"1007\",\"type\":\"Range1d\"},\"y_scale\":{\"id\":\"1011\",\"type\":\"LinearScale\"}},\"id\":\"1003\",\"subtype\":\"Figure\",\"type\":\"Plot\"},{\"attributes\":{\"data_source\":{\"id\":\"1043\",\"type\":\"ColumnDataSource\"},\"glyph\":{\"id\":\"1044\",\"type\":\"Patch\"},\"hover_glyph\":null,\"muted_glyph\":null,\"nonselection_glyph\":{\"id\":\"1045\",\"type\":\"Patch\"},\"selection_glyph\":null,\"view\":{\"id\":\"1047\",\"type\":\"CDSView\"}},\"id\":\"1046\",\"type\":\"GlyphRenderer\"},{\"attributes\":{\"formatter\":{\"id\":\"1057\",\"type\":\"BasicTickFormatter\"},\"plot\":{\"id\":\"1003\",\"subtype\":\"Figure\",\"type\":\"Plot\"},\"ticker\":{\"id\":\"1019\",\"type\":\"BasicTicker\"}},\"id\":\"1018\",\"type\":\"LinearAxis\"},{\"attributes\":{\"source\":{\"id\":\"1043\",\"type\":\"ColumnDataSource\"}},\"id\":\"1047\",\"type\":\"CDSView\"},{\"attributes\":{},\"id\":\"1019\",\"type\":\"BasicTicker\"},{\"attributes\":{\"callback\":null,\"data\":{\"x\":{\"__ndarray__\":\"zTt/Zp6g9j//aBeat5T2P0pH+7kPcfY/xDZRSMw19j+/j9WcK+P1P0CmRaOEefU/nt/vf0b59D9DCska+GL0P371gZE3t/M/dpMykbn28j+HnkmYSCLyP56yiCHEOvE/xu/suB9B8D/d6Pb2w2zuP3Rl/gVHN+w/aHu1fRvk6T/TJUl2s3XnPwkMrq6d7uQ/w3Xc24JR4j+F03m5RULfP5J+baujwNk/dhnXbeoj1D8TMwPBAuTMPxjbsFnMYcE/HshwxDM1pz/Yx3DEMzWnvwbbsFnMYcG/ATMDwQLkzL90Gddt6iPUv4l+baujwNm/fNN5uUVC37++ddzbglHivwQMrq6d7uS/0SVJdrN1579le7V9G+Tpv3Nl/gVHN+y/2ej29sNs7r/F7+y4H0Hwv5yyiCHEOvG/hp5JmEgi8r9zkzKRufbyv331gZE3t/O/QgrJGvhi9L+d3+9/Rvn0v0CmRaOEefW/vo/VnCvj9b/ENlFIzDX2v0lH+7kPcfa//2gXmreU9r/NO39mnqD2v807f2aeoPa//2gXmreU9r9JR/u5D3H2v8Q2UUjMNfa/vo/VnCvj9b9ApkWjhHn1v53f739G+fS/QgrJGvhi9L999YGRN7fzv3OTMpG59vK/hp5JmEgi8r+csoghxDrxv8Xv7LgfQfC/2ej29sNs7r9zZf4FRzfsv2V7tX0b5Om/0SVJdrN1578EDK6une7kv7513NuCUeK/fNN5uUVC37+Jfm2ro8DZv3QZ123qI9S/ATMDwQLkzL8G27BZzGHBv9jHcMQzNae/HshwxDM1pz8Y27BZzGHBPxMzA8EC5Mw/dhnXbeoj1D+Sfm2ro8DZP4XTeblFQt8/w3Xc24JR4j8JDK6une7kP9MlSXazdec/aHu1fRvk6T90Zf4FRzfsP93o9vbDbO4/xu/suB9B8D+esoghxDrxP4eeSZhIIvI/dpMykbn28j9+9YGRN7fzP0MKyRr4YvQ/nt/vf0b59D9ApkWjhHn1P7+P1Zwr4/U/xDZRSMw19j9KR/u5D3H2P/9oF5q3lPY/zTt/Zp6g9j8=\",\"dtype\":\"float64\",\"shape\":[100]},\"y\":{\"__ndarray__\":\"m0Vf4fx+5T+/MUnsR9PmPxfR+xKQD+g/IBVMnogy6T/esFZ3/zrqP3RtfmneJ+s/CFMVRyz46z/5x3zvDavsP5nnqDXHP+0/+pIUpru17T+T/lUrbwzuPyCbppCGQ+4/egnV4cda7j9SKzyoGlLuP8AufwSIKe4/XYLvpDrh7T+Yy6aYfnntP5gahP/A8uw/tIZgl49N7D/Q9fMmmIrrPzrpBsenquo/up2xCqqu6T+xdYsHqJfoP/Bdzz7HZuc/ZIaaaEgd5j+EOooihrzkP4PDG4PzReM/X+ZNkxq74T/WpB6wmh3gPzyaMqtN3tw/T/yAqgdj2T98+mrzDM3VPyfrIzMjINI/sJ7rbVDAzD/KZwy2GyLFP0imBZBX27o/6OFMQG6spj8gXHFKWeuQv8zBtatwx7O/2CBxPp6fwb8Ye5Qd+kjJv3GiNVfea9C/a/2bU/kh1L+kqzGL5sLXv51ppczUStu/dMAXMg223r+3n7SEewDhv7ucYc4NlOK/uxWw6xQU5L+aRV/h/H7lv5xFX+H8fuW/wTFJ7EfT5r8Z0fsSkA/ovyEVTJ6IMum/4LBWd/866r92bX5p3ifrvwpTFUcs+Ou/+Md87w2r7L+a56g1xz/tv/qSFKa7te2/kv5VK28M7r8gm6aQhkPuv3oJ1eHHWu6/Uis8qBpS7r/BLn8EiCnuv16C76Q64e2/mMummH557b+WGoT/wPLsv7KGYJePTey/zvXzJpiK67846QbHp6rqv7qdsQqqrum/r3WLB6iX6L/tXc8+x2bnv2KGmmhIHea/gjqKIoa85L+AwxuD80Xjv13mTZMau+G/1qQesJod4L84mjKrTd7cv0v8gKoHY9m/ePpq8wzN1b8j6yMzIyDSv66e621QwMy/vGcMthsixb88pgWQV9u6v7jhTEBurKa/UFxxSlnrkD/kwbWrcMezP+QgcT6en8E/KnuUHfpIyT92ojVX3mvQP279m1P5IdQ/qKsxi+bC1z+gaaXM1ErbP3zAFzINtt4/uJ+0hHsA4T+/nGHODZTiP70VsOsUFOQ/m0Vf4fx+5T8=\",\"dtype\":\"float64\",\"shape\":[100]}},\"selected\":{\"id\":\"1063\",\"type\":\"Selection\"},\"selection_policy\":{\"id\":\"1064\",\"type\":\"UnionRenderers\"}},\"id\":\"1048\",\"type\":\"ColumnDataSource\"},{\"attributes\":{\"dimension\":1,\"plot\":{\"id\":\"1003\",\"subtype\":\"Figure\",\"type\":\"Plot\"},\"ticker\":{\"id\":\"1019\",\"type\":\"BasicTicker\"}},\"id\":\"1022\",\"type\":\"Grid\"},{\"attributes\":{\"fill_alpha\":0.3,\"fill_color\":\"#1f77b4\",\"x\":{\"field\":\"x\"},\"y\":{\"field\":\"y\"}},\"id\":\"1049\",\"type\":\"Patch\"},{\"attributes\":{\"fill_alpha\":{\"value\":0.1},\"fill_color\":{\"value\":\"#1f77b4\"},\"line_alpha\":{\"value\":0.1},\"line_color\":{\"value\":\"#1f77b4\"},\"x\":{\"field\":\"x\"},\"y\":{\"field\":\"y\"}},\"id\":\"1040\",\"type\":\"Circle\"},{\"attributes\":{\"fill_alpha\":0.1,\"fill_color\":\"#1f77b4\",\"line_alpha\":0.1,\"line_color\":\"#1f77b4\",\"x\":{\"field\":\"x\"},\"y\":{\"field\":\"y\"}},\"id\":\"1050\",\"type\":\"Patch\"},{\"attributes\":{\"data_source\":{\"id\":\"1048\",\"type\":\"ColumnDataSource\"},\"glyph\":{\"id\":\"1049\",\"type\":\"Patch\"},\"hover_glyph\":null,\"muted_glyph\":null,\"nonselection_glyph\":{\"id\":\"1050\",\"type\":\"Patch\"},\"selection_glyph\":null,\"view\":{\"id\":\"1052\",\"type\":\"CDSView\"}},\"id\":\"1051\",\"type\":\"GlyphRenderer\"},{\"attributes\":{\"callback\":null,\"data\":{\"x\":{\"__ndarray__\":\"pG2O1kifCEChiGTgTdoBQLtiTNFqEvi/KyFD6h1n/b/pHhtDijT1v9tpecZM9O8/ouQ/jYi9xT8bi5saTBD8v84420u1kPo/JkHN/HmYy7/AoLgSLBS1PwURyh5/sOI/Sp/93fOQ77945K8WEdTsv/zcAyAsA9Y/h1wNB0Uz3b+FUrzxl2HAv7aKwMYxDci/quFLau4g8r+Gt97SbCT4Pz2shCsGZea/eNTo/NC68j8aQQKPieTTP9T28mvjwac/wXB4vMLf7z99C3yS/Dj7v7dW9SFsneA/fleR4Xh17L9qtkT/nAb+P0DxZklvTIy/gtwQgYNd4D8mG3gHgX3uvwcwCjUHesy/3wqJBJxl2r+BnkhhpcXZv8DVH0FLGeI/CwkV6C3A87/q6mfdUwv1v2GhfKFGYfe/SxCtuRnR7j9weiVWWW6jv0SYcJgAWAXAzLCgLE3D8r+WnHjPbCfpv3e+5TdjfPI/JMYw+FVn+T/jpKVu9m7Zv4EvPFbn2vE/k52L6d1O4T+qKj8ycvO3v+r9+4hBvwZA+JDXpJGEhT+0fGzBg9Lqv3T7Fe6GSeM/AJRAadn06b+w5Hpwyaz5P0VSOLv3ffa/xBTLj36EAcCNpXn4/fbZP3pCHn7qdbE/tmtOMkA48b/nfOdqIYn6PyyeJCMbs9C/Lw7a1fjBD0CUg4Ipexzgv9Q113F1EMk/pjRWJPhE3L84HcEu9p4JQIlmCyQOvAVAiL/b3O7F5r8Y/xtZyDC9v0Bcw85+XOU/jJmmaM92BcAa1how6Av9P7Q2bGAynPS/SgIQMrCb4T8Qi9tDmo7xv7Stm/TF4/E/Q5OlsalV6b9uWv/lbOa5P8hRT8HC2QbAYHyYQNmD9j+NQNgtB90EwAjMrdZJqNG/3Gzjz77B8z87/cGp2N/0P6z9gmYnu+U/+xEvTNAp8D9WWnWnXXfxv9OiOkY26Pq/xKSGnvXmzj9NIorYbiXqP1iYgG23xAbAdGiMbORBAUCs+qEZ7xz3P5j7A3ajndI/ijBVdBLl+b/dq+pThvn7Pwskw1TYUuI/7AzPR1ie8j8=\",\"dtype\":\"float64\",\"shape\":[100]},\"y\":{\"__ndarray__\":\"jEyZG9hi/z9abZzvti3/P80lA8VkSvS/pj8eEj/c47/2F16WRnbyv6CTL2QWyZM/oWnKvRXp8L85k6bTeJ/yv75xnCr1INE//eZAVSLgyD9X/JPhZK3ev7fX455LHdE/1BkLnJCK8D8OWqLRPcntv9QRAm2G18u/mjB3uNCH8r8sAWW1VKHkvwA/w0+Z2r+/DVOVy1r85r/960uCqvfqvyb0puyYg86/AFntOKr99z/K+dSD0FXMv5heiCrlzsa/0q8sxxIiwz/qfCqcISDtvxj23+WMKN4/RdgUFPeVy7+0Saso99fEP+V5hIFn3OM/wdhPYRTc5r8loo09eGDWvw4tebdaI74/C7K+OnVS3r+nIuOaeMTiP9bXuR4t49U/pjStgMhJ2j+4dMtezLDCPxq0DtcEnfC/lO5Sn/VP1D/6oSH7EwjgP+oGxa7MPv+/cKfmw5QS87+qvMXsPRjpv1JA1AlHWcQ/s5iUWtQMAkAWEJm80kPKP9DR3lyNNZi/ZLkHui63xT9rEjiHrYW7P2if17yU7PA/mCgCnax+w78LUL72ShXgP0TlTtjrH+s/BghFjIRM6L8N/2j5EFXzP6x87P5sOvG/Xvpf6Sp70r/EXsbv0mH0P1hp0SpWxs2/aj+xVVmw6L8PiVOQkwgAQJobMpF4j9u/BUDjVNJB9D9s0GVSyxXhvzWRmhKMLra/y1kgIZIy2z9i/AirUl74P67cctM9Vvk/RdNRoVaU9L8xvNTHC4yzP8+cfGM3Os6/oK9oINfl3r9/lMjda4r+PyS8q2OcQ/e/YHAEyDHrkj+gWPDJ4CqHv8ZnQhQmB+U/uFG4022cy787NWeiVeTiP7jBbp6TB+O/B0K2DqgP8z+8nedPv4fwv5oGDdyJK7W/JdFX2awA27+0heKqyMnNP9QKb8Ykw+c/nkFcJLP72D+Yl2a60OC+P1vyAh+rSt2/3G+le7zx278P4pBxliDcP9cUxLD6y/C/Cx7pfomO8D8vV39VuHrXP2gHnMYY2+M/0nJh3ZJ/5j/ebJsyhgjtP87XWmlupLq/7+LqDd/h6T8=\",\"dtype\":\"float64\",\"shape\":[100]}},\"selected\":{\"id\":\"1059\",\"type\":\"Selection\"},\"selection_policy\":{\"id\":\"1060\",\"type\":\"UnionRenderers\"}},\"id\":\"1038\",\"type\":\"ColumnDataSource\"},{\"attributes\":{\"fill_color\":{\"value\":\"#1f77b4\"},\"line_color\":{\"value\":\"#1f77b4\"},\"x\":{\"field\":\"x\"},\"y\":{\"field\":\"y\"}},\"id\":\"1039\",\"type\":\"Circle\"},{\"attributes\":{},\"id\":\"1023\",\"type\":\"PanTool\"},{\"attributes\":{\"source\":{\"id\":\"1048\",\"type\":\"ColumnDataSource\"}},\"id\":\"1052\",\"type\":\"CDSView\"},{\"attributes\":{},\"id\":\"1024\",\"type\":\"WheelZoomTool\"},{\"attributes\":{\"callback\":null,\"data\":{\"x\":{\"__ndarray__\":\"zTt/Zp6gBkD/aBeat5QGQEpH+7kPcQZAxDZRSMw1BkC/j9WcK+MFQECmRaOEeQVAnt/vf0b5BEBDCska+GIEQH71gZE3twNAdpMykbn2AkCHnkmYSCICQJ6yiCHEOgFAxu/suB9BAEDd6Pb2w2z+P3Rl/gVHN/w/aHu1fRvk+T/TJUl2s3X3PwkMrq6d7vQ/w3Xc24JR8j+F03m5RULvP5J+baujwOk/dhnXbeoj5D8TMwPBAuTcPxjbsFnMYdE/HshwxDM1tz/Yx3DEMzW3vwbbsFnMYdG/ATMDwQLk3L90Gddt6iPkv4l+baujwOm/fNN5uUVC77++ddzbglHyvwQMrq6d7vS/0SVJdrN1979le7V9G+T5v3Nl/gVHN/y/2ej29sNs/r/F7+y4H0EAwJyyiCHEOgHAhp5JmEgiAsBzkzKRufYCwH31gZE3twPAQgrJGvhiBMCd3+9/RvkEwECmRaOEeQXAvo/VnCvjBcDENlFIzDUGwElH+7kPcQbA/2gXmreUBsDNO39mnqAGwM07f2aeoAbA/2gXmreUBsBJR/u5D3EGwMQ2UUjMNQbAvo/VnCvjBcBApkWjhHkFwJ3f739G+QTAQgrJGvhiBMB99YGRN7cDwHOTMpG59gLAhp5JmEgiAsCcsoghxDoBwMXv7LgfQQDA2ej29sNs/r9zZf4FRzf8v2V7tX0b5Pm/0SVJdrN1978EDK6une70v7513NuCUfK/fNN5uUVC77+Jfm2ro8Dpv3QZ123qI+S/ATMDwQLk3L8G27BZzGHRv9jHcMQzNbe/HshwxDM1tz8Y27BZzGHRPxMzA8EC5Nw/dhnXbeoj5D+Sfm2ro8DpP4XTeblFQu8/w3Xc24JR8j8JDK6une70P9MlSXazdfc/aHu1fRvk+T90Zf4FRzf8P93o9vbDbP4/xu/suB9BAECesoghxDoBQIeeSZhIIgJAdpMykbn2AkB+9YGRN7cDQEMKyRr4YgRAnt/vf0b5BEBApkWjhHkFQL+P1Zwr4wVAxDZRSMw1BkBKR/u5D3EGQP9oF5q3lAZAzTt/Zp6gBkA=\",\"dtype\":\"float64\",\"shape\":[100]},\"y\":{\"__ndarray__\":\"m0Vf4fx+9T+/MUnsR9P2PxfR+xKQD/g/IBVMnogy+T/esFZ3/zr6P3RtfmneJ/s/CFMVRyz4+z/5x3zvDav8P5nnqDXHP/0/+pIUpru1/T+T/lUrbwz+PyCbppCGQ/4/egnV4cda/j9SKzyoGlL+P8AufwSIKf4/XYLvpDrh/T+Yy6aYfnn9P5gahP/A8vw/tIZgl49N/D/Q9fMmmIr7PzrpBsenqvo/up2xCqqu+T+xdYsHqJf4P/Bdzz7HZvc/ZIaaaEgd9j+EOooihrz0P4PDG4PzRfM/X+ZNkxq78T/WpB6wmh3wPzyaMqtN3uw/T/yAqgdj6T98+mrzDM3lPyfrIzMjIOI/sJ7rbVDA3D/KZwy2GyLVP0imBZBX28o/6OFMQG6stj8gXHFKWeugv8zBtatwx8O/2CBxPp6f0b8Ye5Qd+kjZv3GiNVfea+C/a/2bU/kh5L+kqzGL5sLnv51ppczUSuu/dMAXMg227r+3n7SEewDxv7ucYc4NlPK/uxWw6xQU9L+aRV/h/H71v5xFX+H8fvW/wTFJ7EfT9r8Z0fsSkA/4vyEVTJ6IMvm/4LBWd/86+r92bX5p3if7vwpTFUcs+Pu/+Md87w2r/L+a56g1xz/9v/qSFKa7tf2/kv5VK28M/r8gm6aQhkP+v3oJ1eHHWv6/Uis8qBpS/r/BLn8EiCn+v16C76Q64f2/mMummH55/b+WGoT/wPL8v7KGYJePTfy/zvXzJpiK+7846QbHp6r6v7qdsQqqrvm/r3WLB6iX+L/tXc8+x2b3v2KGmmhIHfa/gjqKIoa89L+AwxuD80Xzv13mTZMau/G/1qQesJod8L84mjKrTd7sv0v8gKoHY+m/ePpq8wzN5b8j6yMzIyDiv66e621QwNy/vGcMthsi1b88pgWQV9vKv7jhTEBurLa/UFxxSlnroD/kwbWrcMfDP+QgcT6en9E/KnuUHfpI2T92ojVX3mvgP279m1P5IeQ/qKsxi+bC5z+gaaXM1ErrP3zAFzINtu4/uJ+0hHsA8T+/nGHODZTyP70VsOsUFPQ/m0Vf4fx+9T8=\",\"dtype\":\"float64\",\"shape\":[100]}},\"selected\":{\"id\":\"1061\",\"type\":\"Selection\"},\"selection_policy\":{\"id\":\"1062\",\"type\":\"UnionRenderers\"}},\"id\":\"1043\",\"type\":\"ColumnDataSource\"},{\"attributes\":{},\"id\":\"1055\",\"type\":\"BasicTickFormatter\"},{\"attributes\":{\"overlay\":{\"id\":\"1031\",\"type\":\"BoxAnnotation\"}},\"id\":\"1025\",\"type\":\"BoxZoomTool\"},{\"attributes\":{},\"id\":\"1057\",\"type\":\"BasicTickFormatter\"},{\"attributes\":{},\"id\":\"1026\",\"type\":\"SaveTool\"},{\"attributes\":{\"plot\":null,\"text\":\"Data\"},\"id\":\"1002\",\"type\":\"Title\"},{\"attributes\":{},\"id\":\"1059\",\"type\":\"Selection\"},{\"attributes\":{},\"id\":\"1027\",\"type\":\"ResetTool\"},{\"attributes\":{\"callback\":null,\"end\":5.0,\"start\":-5.0},\"id\":\"1005\",\"type\":\"Range1d\"},{\"attributes\":{},\"id\":\"1060\",\"type\":\"UnionRenderers\"},{\"attributes\":{},\"id\":\"1028\",\"type\":\"HelpTool\"},{\"attributes\":{\"callback\":null,\"end\":5.0,\"start\":-5.0},\"id\":\"1007\",\"type\":\"Range1d\"},{\"attributes\":{},\"id\":\"1061\",\"type\":\"Selection\"},{\"attributes\":{\"active_drag\":\"auto\",\"active_inspect\":\"auto\",\"active_multi\":null,\"active_scroll\":\"auto\",\"active_tap\":\"auto\",\"tools\":[{\"id\":\"1023\",\"type\":\"PanTool\"},{\"id\":\"1024\",\"type\":\"WheelZoomTool\"},{\"id\":\"1025\",\"type\":\"BoxZoomTool\"},{\"id\":\"1026\",\"type\":\"SaveTool\"},{\"id\":\"1027\",\"type\":\"ResetTool\"},{\"id\":\"1028\",\"type\":\"HelpTool\"}]},\"id\":\"1029\",\"type\":\"Toolbar\"},{\"attributes\":{\"data_source\":{\"id\":\"1038\",\"type\":\"ColumnDataSource\"},\"glyph\":{\"id\":\"1039\",\"type\":\"Circle\"},\"hover_glyph\":null,\"muted_glyph\":null,\"nonselection_glyph\":{\"id\":\"1040\",\"type\":\"Circle\"},\"selection_glyph\":null,\"view\":{\"id\":\"1042\",\"type\":\"CDSView\"}},\"id\":\"1041\",\"type\":\"GlyphRenderer\"},{\"attributes\":{},\"id\":\"1009\",\"type\":\"LinearScale\"},{\"attributes\":{},\"id\":\"1062\",\"type\":\"UnionRenderers\"},{\"attributes\":{\"bottom_units\":\"screen\",\"fill_alpha\":{\"value\":0.5},\"fill_color\":{\"value\":\"lightgrey\"},\"left_units\":\"screen\",\"level\":\"overlay\",\"line_alpha\":{\"value\":1.0},\"line_color\":{\"value\":\"black\"},\"line_dash\":[4,4],\"line_width\":{\"value\":2},\"plot\":null,\"render_mode\":\"css\",\"right_units\":\"screen\",\"top_units\":\"screen\"},\"id\":\"1031\",\"type\":\"BoxAnnotation\"},{\"attributes\":{},\"id\":\"1011\",\"type\":\"LinearScale\"},{\"attributes\":{},\"id\":\"1063\",\"type\":\"Selection\"},{\"attributes\":{\"source\":{\"id\":\"1038\",\"type\":\"ColumnDataSource\"}},\"id\":\"1042\",\"type\":\"CDSView\"},{\"attributes\":{\"formatter\":{\"id\":\"1055\",\"type\":\"BasicTickFormatter\"},\"plot\":{\"id\":\"1003\",\"subtype\":\"Figure\",\"type\":\"Plot\"},\"ticker\":{\"id\":\"1014\",\"type\":\"BasicTicker\"}},\"id\":\"1013\",\"type\":\"LinearAxis\"},{\"attributes\":{},\"id\":\"1064\",\"type\":\"UnionRenderers\"},{\"attributes\":{},\"id\":\"1014\",\"type\":\"BasicTicker\"},{\"attributes\":{\"fill_alpha\":0.3,\"fill_color\":\"#1f77b4\",\"x\":{\"field\":\"x\"},\"y\":{\"field\":\"y\"}},\"id\":\"1044\",\"type\":\"Patch\"},{\"attributes\":{\"plot\":{\"id\":\"1003\",\"subtype\":\"Figure\",\"type\":\"Plot\"},\"ticker\":{\"id\":\"1014\",\"type\":\"BasicTicker\"}},\"id\":\"1017\",\"type\":\"Grid\"},{\"attributes\":{\"fill_alpha\":0.1,\"fill_color\":\"#1f77b4\",\"line_alpha\":0.1,\"line_color\":\"#1f77b4\",\"x\":{\"field\":\"x\"},\"y\":{\"field\":\"y\"}},\"id\":\"1045\",\"type\":\"Patch\"}],\"root_ids\":[\"1003\"]},\"title\":\"Bokeh Application\",\"version\":\"1.0.2\"}};\n",
       "  var render_items = [{\"docid\":\"158d9429-9804-4d3a-b262-0fe618bc0019\",\"roots\":{\"1003\":\"9a2a7f2b-e0c6-4c19-8474-559f96b2e608\"}}];\n",
       "  root.Bokeh.embed.embed_items_notebook(docs_json, render_items);\n",
       "\n",
       "  }\n",
       "  if (root.Bokeh !== undefined) {\n",
       "    embed_document(root);\n",
       "  } else {\n",
       "    var attempts = 0;\n",
       "    var timer = setInterval(function(root) {\n",
       "      if (root.Bokeh !== undefined) {\n",
       "        embed_document(root);\n",
       "        clearInterval(timer);\n",
       "      }\n",
       "      attempts++;\n",
       "      if (attempts > 100) {\n",
       "        console.log(\"Bokeh: ERROR: Unable to run BokehJS code because BokehJS library is missing\");\n",
       "        clearInterval(timer);\n",
       "      }\n",
       "    }, 10, root)\n",
       "  }\n",
       "})(window);"
      ],
      "application/vnd.bokehjs_exec.v0+json": ""
     },
     "metadata": {
      "application/vnd.bokehjs_exec.v0+json": {
       "id": "1003"
      }
     },
     "output_type": "display_data"
    }
   ],
   "source": [
    "mean = np.zeros(2) \n",
    "cov = np.array([\n",
    "    [2, .95],\n",
    "    [.95, .9]\n",
    "])\n",
    "data = np.random.multivariate_normal(mean, cov, size=100)\n",
    "\n",
    "fig = figure(\n",
    "    title='Data',\n",
    "    width=400,\n",
    "    height=400,\n",
    "    x_range=(mean[0] - 5, mean[0] + 5),\n",
    "    y_range=(mean[1] - 5, mean[1] + 5)\n",
    ")\n",
    "fig.circle(data[:, 0], data[:, 1])\n",
    "plotting.plot_normal(fig, mean, cov, line_color='black', fill_alpha=.3)\n",
    "\n",
    "show(fig)"
   ]
  },
  {
   "cell_type": "markdown",
   "metadata": {},
   "source": [
    "## Model Creation\n",
    "\n",
    "We create two types of Normal distribution: one diagonal covariance matrix and another one with full covariance matrix."
   ]
  },
  {
   "cell_type": "code",
   "execution_count": 3,
   "metadata": {},
   "outputs": [
    {
     "data": {
      "text/plain": [
       "Normal(\n",
       "  (mean_precision): ConjugateBayesianParameter(prior=NormalGamma, posterior=NormalGamma)\n",
       ")"
      ]
     },
     "execution_count": 3,
     "metadata": {},
     "output_type": "execute_result"
    }
   ],
   "source": [
    "data_mean = torch.zeros(2) \n",
    "data_var = torch.ones(2)\n",
    "\n",
    "normal_iso = beer.Normal.create(data_mean, data_var, 1., cov_type='isotropic')\n",
    "normal_diag = beer.Normal.create(data_mean, data_var, 1., cov_type='diagonal')\n",
    "#normal_full = beer.Normal.create(data_mean, data_var, 1., cov_type='full')\n",
    "\n",
    "models = {\n",
    "    #'normal_full': normal_full,\n",
    "    'normal_diag': normal_diag,\n",
    "    'normal_iso': normal_iso\n",
    "}\n",
    "models['normal_diag']"
   ]
  },
  {
   "cell_type": "code",
   "execution_count": 4,
   "metadata": {},
   "outputs": [
    {
     "data": {
      "text/plain": [
       "NormalGamma(\n",
       "  (params): NormalGammaStdParams(mean=tensor([0., 0.]), scale=tensor(1.), shape=tensor(1.), rates=tensor([1., 1.]))\n",
       ")"
      ]
     },
     "execution_count": 4,
     "metadata": {},
     "output_type": "execute_result"
    }
   ],
   "source": [
    "model = models['normal_diag']\n",
    "model.mean_precision.prior"
   ]
  },
  {
   "cell_type": "code",
   "execution_count": 5,
   "metadata": {},
   "outputs": [
    {
     "data": {
      "text/plain": [
       "torch.Size([2])"
      ]
     },
     "execution_count": 5,
     "metadata": {},
     "output_type": "execute_result"
    }
   ],
   "source": [
    "model.mean_precision.posterior.params.mean.shape"
   ]
  },
  {
   "cell_type": "markdown",
   "metadata": {},
   "source": [
    "## Variational Bayes Training "
   ]
  },
  {
   "cell_type": "code",
   "execution_count": 6,
   "metadata": {},
   "outputs": [
    {
     "data": {
      "text/plain": [
       "torch.Size([1, 100, 2])"
      ]
     },
     "execution_count": 6,
     "metadata": {},
     "output_type": "execute_result"
    }
   ],
   "source": [
    "nbatches = 1\n",
    "X = torch.from_numpy(data).float()\n",
    "batches = X.view(nbatches, -1, 2)\n",
    "batches.shape"
   ]
  },
  {
   "cell_type": "code",
   "execution_count": 8,
   "metadata": {
    "scrolled": false
   },
   "outputs": [],
   "source": [
    "epochs = 10\n",
    "lrate = 1.\n",
    "\n",
    "\n",
    "optims = {\n",
    "    model_name: beer.VariationalBayesOptimizer(\n",
    "        model.mean_field_factorization(), lrate)\n",
    "    for model_name, model in models.items()\n",
    "}\n",
    "\n",
    "elbos = {\n",
    "    model_name: [] \n",
    "    for model_name in models\n",
    "}  \n",
    "\n",
    "\n",
    "for epoch in range(epochs):\n",
    "    for name, model in models.items():\n",
    "        batch_ids = list(range(len(batches)))\n",
    "        random.shuffle(batch_ids)\n",
    "        for batch_id in batch_ids:\n",
    "            batch = batches[batch_id]\n",
    "            \n",
    "            optim = optims[name]\n",
    "\n",
    "            optim.init_step()\n",
    "            elbo = beer.evidence_lower_bound(model, batch, datasize=len(X))\n",
    "            elbo.backward()\n",
    "            optim.step()\n",
    "            \n",
    "            elbo = beer.evidence_lower_bound(model, X)\n",
    "            elbos[name].append(float(elbo) / len(X))  "
   ]
  },
  {
   "cell_type": "code",
   "execution_count": 9,
   "metadata": {
    "scrolled": false
   },
   "outputs": [
    {
     "data": {
      "text/html": [
       "\n",
       "\n",
       "\n",
       "\n",
       "\n",
       "\n",
       "  <div class=\"bk-root\" id=\"5edaedc6-1b01-4ff3-b9d0-0c85cba0a8c0\"></div>\n"
      ]
     },
     "metadata": {},
     "output_type": "display_data"
    },
    {
     "data": {
      "application/javascript": [
       "(function(root) {\n",
       "  function embed_document(root) {\n",
       "    \n",
       "  var docs_json = {\"1f926724-174f-4221-9aad-522290f3be1a\":{\"roots\":{\"references\":[{\"attributes\":{\"below\":[{\"id\":\"1148\",\"type\":\"LinearAxis\"}],\"left\":[{\"id\":\"1153\",\"type\":\"LinearAxis\"}],\"plot_height\":400,\"plot_width\":400,\"renderers\":[{\"id\":\"1148\",\"type\":\"LinearAxis\"},{\"id\":\"1152\",\"type\":\"Grid\"},{\"id\":\"1153\",\"type\":\"LinearAxis\"},{\"id\":\"1157\",\"type\":\"Grid\"},{\"id\":\"1166\",\"type\":\"BoxAnnotation\"},{\"id\":\"1184\",\"type\":\"Legend\"},{\"id\":\"1176\",\"type\":\"GlyphRenderer\"},{\"id\":\"1189\",\"type\":\"GlyphRenderer\"}],\"title\":{\"id\":\"1137\",\"type\":\"Title\"},\"toolbar\":{\"id\":\"1164\",\"type\":\"Toolbar\"},\"x_range\":{\"id\":\"1140\",\"type\":\"DataRange1d\"},\"x_scale\":{\"id\":\"1144\",\"type\":\"LinearScale\"},\"y_range\":{\"id\":\"1142\",\"type\":\"DataRange1d\"},\"y_scale\":{\"id\":\"1146\",\"type\":\"LinearScale\"}},\"id\":\"1138\",\"subtype\":\"Figure\",\"type\":\"Plot\"},{\"attributes\":{},\"id\":\"1162\",\"type\":\"ResetTool\"},{\"attributes\":{\"callback\":null},\"id\":\"1142\",\"type\":\"DataRange1d\"},{\"attributes\":{\"label\":{\"value\":\"normal_iso\"},\"renderers\":[{\"id\":\"1189\",\"type\":\"GlyphRenderer\"}]},\"id\":\"1199\",\"type\":\"LegendItem\"},{\"attributes\":{\"axis_label\":\"step\",\"formatter\":{\"id\":\"1180\",\"type\":\"BasicTickFormatter\"},\"plot\":{\"id\":\"1138\",\"subtype\":\"Figure\",\"type\":\"Plot\"},\"ticker\":{\"id\":\"1149\",\"type\":\"BasicTicker\"}},\"id\":\"1148\",\"type\":\"LinearAxis\"},{\"attributes\":{},\"id\":\"1149\",\"type\":\"BasicTicker\"},{\"attributes\":{},\"id\":\"1161\",\"type\":\"SaveTool\"},{\"attributes\":{},\"id\":\"1221\",\"type\":\"UnionRenderers\"},{\"attributes\":{\"callback\":null,\"data\":{\"x\":[0,1,2,3,4,5,6,7,8,9],\"y\":[-3.1823825073242187,-3.1823825073242187,-3.1823825073242187,-3.1823825073242187,-3.1823825073242187,-3.1823825073242187,-3.1823825073242187,-3.1823825073242187,-3.1823825073242187,-3.1823825073242187]},\"selected\":{\"id\":\"1220\",\"type\":\"Selection\"},\"selection_policy\":{\"id\":\"1221\",\"type\":\"UnionRenderers\"}},\"id\":\"1186\",\"type\":\"ColumnDataSource\"},{\"attributes\":{},\"id\":\"1198\",\"type\":\"UnionRenderers\"},{\"attributes\":{\"bottom_units\":\"screen\",\"fill_alpha\":{\"value\":0.5},\"fill_color\":{\"value\":\"lightgrey\"},\"left_units\":\"screen\",\"level\":\"overlay\",\"line_alpha\":{\"value\":1.0},\"line_color\":{\"value\":\"black\"},\"line_dash\":[4,4],\"line_width\":{\"value\":2},\"plot\":null,\"render_mode\":\"css\",\"right_units\":\"screen\",\"top_units\":\"screen\"},\"id\":\"1166\",\"type\":\"BoxAnnotation\"},{\"attributes\":{},\"id\":\"1144\",\"type\":\"LinearScale\"},{\"attributes\":{\"active_drag\":\"auto\",\"active_inspect\":\"auto\",\"active_multi\":null,\"active_scroll\":\"auto\",\"active_tap\":\"auto\",\"tools\":[{\"id\":\"1158\",\"type\":\"PanTool\"},{\"id\":\"1159\",\"type\":\"WheelZoomTool\"},{\"id\":\"1160\",\"type\":\"BoxZoomTool\"},{\"id\":\"1161\",\"type\":\"SaveTool\"},{\"id\":\"1162\",\"type\":\"ResetTool\"},{\"id\":\"1163\",\"type\":\"HelpTool\"}]},\"id\":\"1164\",\"type\":\"Toolbar\"},{\"attributes\":{\"plot\":null,\"text\":\"ELBO\"},\"id\":\"1137\",\"type\":\"Title\"},{\"attributes\":{},\"id\":\"1163\",\"type\":\"HelpTool\"},{\"attributes\":{\"source\":{\"id\":\"1173\",\"type\":\"ColumnDataSource\"}},\"id\":\"1177\",\"type\":\"CDSView\"},{\"attributes\":{},\"id\":\"1220\",\"type\":\"Selection\"},{\"attributes\":{},\"id\":\"1146\",\"type\":\"LinearScale\"},{\"attributes\":{\"callback\":null},\"id\":\"1140\",\"type\":\"DataRange1d\"},{\"attributes\":{},\"id\":\"1182\",\"type\":\"BasicTickFormatter\"},{\"attributes\":{\"axis_label\":\"ln p(X)\",\"formatter\":{\"id\":\"1182\",\"type\":\"BasicTickFormatter\"},\"plot\":{\"id\":\"1138\",\"subtype\":\"Figure\",\"type\":\"Plot\"},\"ticker\":{\"id\":\"1154\",\"type\":\"BasicTicker\"}},\"id\":\"1153\",\"type\":\"LinearAxis\"},{\"attributes\":{},\"id\":\"1180\",\"type\":\"BasicTickFormatter\"},{\"attributes\":{\"plot\":{\"id\":\"1138\",\"subtype\":\"Figure\",\"type\":\"Plot\"},\"ticker\":{\"id\":\"1149\",\"type\":\"BasicTicker\"}},\"id\":\"1152\",\"type\":\"Grid\"},{\"attributes\":{},\"id\":\"1154\",\"type\":\"BasicTicker\"},{\"attributes\":{\"overlay\":{\"id\":\"1166\",\"type\":\"BoxAnnotation\"}},\"id\":\"1160\",\"type\":\"BoxZoomTool\"},{\"attributes\":{\"callback\":null,\"data\":{\"x\":[0,1,2,3,4,5,6,7,8,9],\"y\":[-3.090151672363281,-3.090151672363281,-3.090151672363281,-3.090151672363281,-3.090151672363281,-3.090151672363281,-3.090151672363281,-3.090151672363281,-3.090151672363281,-3.090151672363281]},\"selected\":{\"id\":\"1197\",\"type\":\"Selection\"},\"selection_policy\":{\"id\":\"1198\",\"type\":\"UnionRenderers\"}},\"id\":\"1173\",\"type\":\"ColumnDataSource\"},{\"attributes\":{\"items\":[{\"id\":\"1185\",\"type\":\"LegendItem\"},{\"id\":\"1199\",\"type\":\"LegendItem\"}],\"location\":\"bottom_right\",\"plot\":{\"id\":\"1138\",\"subtype\":\"Figure\",\"type\":\"Plot\"}},\"id\":\"1184\",\"type\":\"Legend\"},{\"attributes\":{\"line_alpha\":0.1,\"line_color\":\"#1f77b4\",\"x\":{\"field\":\"x\"},\"y\":{\"field\":\"y\"}},\"id\":\"1175\",\"type\":\"Line\"},{\"attributes\":{\"data_source\":{\"id\":\"1173\",\"type\":\"ColumnDataSource\"},\"glyph\":{\"id\":\"1174\",\"type\":\"Line\"},\"hover_glyph\":null,\"muted_glyph\":null,\"nonselection_glyph\":{\"id\":\"1175\",\"type\":\"Line\"},\"selection_glyph\":null,\"view\":{\"id\":\"1177\",\"type\":\"CDSView\"}},\"id\":\"1176\",\"type\":\"GlyphRenderer\"},{\"attributes\":{},\"id\":\"1159\",\"type\":\"WheelZoomTool\"},{\"attributes\":{\"line_color\":\"blue\",\"x\":{\"field\":\"x\"},\"y\":{\"field\":\"y\"}},\"id\":\"1174\",\"type\":\"Line\"},{\"attributes\":{\"dimension\":1,\"plot\":{\"id\":\"1138\",\"subtype\":\"Figure\",\"type\":\"Plot\"},\"ticker\":{\"id\":\"1154\",\"type\":\"BasicTicker\"}},\"id\":\"1157\",\"type\":\"Grid\"},{\"attributes\":{\"label\":{\"value\":\"normal_diag\"},\"renderers\":[{\"id\":\"1176\",\"type\":\"GlyphRenderer\"}]},\"id\":\"1185\",\"type\":\"LegendItem\"},{\"attributes\":{},\"id\":\"1158\",\"type\":\"PanTool\"},{\"attributes\":{\"line_alpha\":0.1,\"line_color\":\"#1f77b4\",\"x\":{\"field\":\"x\"},\"y\":{\"field\":\"y\"}},\"id\":\"1188\",\"type\":\"Line\"},{\"attributes\":{\"line_color\":\"green\",\"x\":{\"field\":\"x\"},\"y\":{\"field\":\"y\"}},\"id\":\"1187\",\"type\":\"Line\"},{\"attributes\":{\"source\":{\"id\":\"1186\",\"type\":\"ColumnDataSource\"}},\"id\":\"1190\",\"type\":\"CDSView\"},{\"attributes\":{},\"id\":\"1197\",\"type\":\"Selection\"},{\"attributes\":{\"data_source\":{\"id\":\"1186\",\"type\":\"ColumnDataSource\"},\"glyph\":{\"id\":\"1187\",\"type\":\"Line\"},\"hover_glyph\":null,\"muted_glyph\":null,\"nonselection_glyph\":{\"id\":\"1188\",\"type\":\"Line\"},\"selection_glyph\":null,\"view\":{\"id\":\"1190\",\"type\":\"CDSView\"}},\"id\":\"1189\",\"type\":\"GlyphRenderer\"}],\"root_ids\":[\"1138\"]},\"title\":\"Bokeh Application\",\"version\":\"1.0.2\"}};\n",
       "  var render_items = [{\"docid\":\"1f926724-174f-4221-9aad-522290f3be1a\",\"roots\":{\"1138\":\"5edaedc6-1b01-4ff3-b9d0-0c85cba0a8c0\"}}];\n",
       "  root.Bokeh.embed.embed_items_notebook(docs_json, render_items);\n",
       "\n",
       "  }\n",
       "  if (root.Bokeh !== undefined) {\n",
       "    embed_document(root);\n",
       "  } else {\n",
       "    var attempts = 0;\n",
       "    var timer = setInterval(function(root) {\n",
       "      if (root.Bokeh !== undefined) {\n",
       "        embed_document(root);\n",
       "        clearInterval(timer);\n",
       "      }\n",
       "      attempts++;\n",
       "      if (attempts > 100) {\n",
       "        console.log(\"Bokeh: ERROR: Unable to run BokehJS code because BokehJS library is missing\");\n",
       "        clearInterval(timer);\n",
       "      }\n",
       "    }, 10, root)\n",
       "  }\n",
       "})(window);"
      ],
      "application/vnd.bokehjs_exec.v0+json": ""
     },
     "metadata": {
      "application/vnd.bokehjs_exec.v0+json": {
       "id": "1138"
      }
     },
     "output_type": "display_data"
    }
   ],
   "source": [
    "colors = {\n",
    "    'normal_iso': 'green',\n",
    "    'normal_diag': 'blue',\n",
    "    'normal_full': 'red',\n",
    "    \n",
    "}\n",
    "# Plot the ELBO.\n",
    "fig = figure(title='ELBO', width=400, height=400, x_axis_label='step',\n",
    "              y_axis_label='ln p(X)')\n",
    "for model_name, elbo in elbos.items():\n",
    "    fig.line(range(len(elbo)), elbo, legend=model_name, color=colors[model_name])\n",
    "fig.legend.location = 'bottom_right'\n",
    "\n",
    "show(fig)"
   ]
  },
  {
   "cell_type": "code",
   "execution_count": 11,
   "metadata": {
    "scrolled": false
   },
   "outputs": [
    {
     "data": {
      "text/html": [
       "\n",
       "\n",
       "\n",
       "\n",
       "\n",
       "\n",
       "  <div class=\"bk-root\" id=\"864e2b32-5cd4-49e0-9d1b-5aa35c079301\"></div>\n"
      ]
     },
     "metadata": {},
     "output_type": "display_data"
    },
    {
     "data": {
      "application/javascript": [
       "(function(root) {\n",
       "  function embed_document(root) {\n",
       "    \n",
       "  var docs_json = {\"6d615793-7a4e-47f4-849c-8f269971039c\":{\"roots\":{\"references\":[{\"attributes\":{\"below\":[{\"id\":\"1453\",\"type\":\"LinearAxis\"}],\"left\":[{\"id\":\"1458\",\"type\":\"LinearAxis\"}],\"plot_height\":400,\"plot_width\":400,\"renderers\":[{\"id\":\"1453\",\"type\":\"LinearAxis\"},{\"id\":\"1457\",\"type\":\"Grid\"},{\"id\":\"1458\",\"type\":\"LinearAxis\"},{\"id\":\"1462\",\"type\":\"Grid\"},{\"id\":\"1471\",\"type\":\"BoxAnnotation\"},{\"id\":\"1481\",\"type\":\"GlyphRenderer\"},{\"id\":\"1486\",\"type\":\"GlyphRenderer\"},{\"id\":\"1491\",\"type\":\"GlyphRenderer\"},{\"id\":\"1496\",\"type\":\"GlyphRenderer\"},{\"id\":\"1501\",\"type\":\"GlyphRenderer\"}],\"title\":{\"id\":\"1539\",\"type\":\"Title\"},\"toolbar\":{\"id\":\"1469\",\"type\":\"Toolbar\"},\"x_range\":{\"id\":\"1445\",\"type\":\"Range1d\"},\"x_scale\":{\"id\":\"1449\",\"type\":\"LinearScale\"},\"y_range\":{\"id\":\"1447\",\"type\":\"Range1d\"},\"y_scale\":{\"id\":\"1451\",\"type\":\"LinearScale\"}},\"id\":\"1444\",\"subtype\":\"Figure\",\"type\":\"Plot\"},{\"attributes\":{\"callback\":null,\"data\":{\"x\":{\"__ndarray__\":\"pG2O1kifCEChiGTgTdoBQLtiTNFqEvi/KyFD6h1n/b/pHhtDijT1v9tpecZM9O8/ouQ/jYi9xT8bi5saTBD8v84420u1kPo/JkHN/HmYy7/AoLgSLBS1PwURyh5/sOI/Sp/93fOQ77945K8WEdTsv/zcAyAsA9Y/h1wNB0Uz3b+FUrzxl2HAv7aKwMYxDci/quFLau4g8r+Gt97SbCT4Pz2shCsGZea/eNTo/NC68j8aQQKPieTTP9T28mvjwac/wXB4vMLf7z99C3yS/Dj7v7dW9SFsneA/fleR4Xh17L9qtkT/nAb+P0DxZklvTIy/gtwQgYNd4D8mG3gHgX3uvwcwCjUHesy/3wqJBJxl2r+BnkhhpcXZv8DVH0FLGeI/CwkV6C3A87/q6mfdUwv1v2GhfKFGYfe/SxCtuRnR7j9weiVWWW6jv0SYcJgAWAXAzLCgLE3D8r+WnHjPbCfpv3e+5TdjfPI/JMYw+FVn+T/jpKVu9m7Zv4EvPFbn2vE/k52L6d1O4T+qKj8ycvO3v+r9+4hBvwZA+JDXpJGEhT+0fGzBg9Lqv3T7Fe6GSeM/AJRAadn06b+w5Hpwyaz5P0VSOLv3ffa/xBTLj36EAcCNpXn4/fbZP3pCHn7qdbE/tmtOMkA48b/nfOdqIYn6PyyeJCMbs9C/Lw7a1fjBD0CUg4Ipexzgv9Q113F1EMk/pjRWJPhE3L84HcEu9p4JQIlmCyQOvAVAiL/b3O7F5r8Y/xtZyDC9v0Bcw85+XOU/jJmmaM92BcAa1how6Av9P7Q2bGAynPS/SgIQMrCb4T8Qi9tDmo7xv7Stm/TF4/E/Q5OlsalV6b9uWv/lbOa5P8hRT8HC2QbAYHyYQNmD9j+NQNgtB90EwAjMrdZJqNG/3Gzjz77B8z87/cGp2N/0P6z9gmYnu+U/+xEvTNAp8D9WWnWnXXfxv9OiOkY26Pq/xKSGnvXmzj9NIorYbiXqP1iYgG23xAbAdGiMbORBAUCs+qEZ7xz3P5j7A3ajndI/ijBVdBLl+b/dq+pThvn7Pwskw1TYUuI/7AzPR1ie8j8=\",\"dtype\":\"float64\",\"shape\":[100]},\"y\":{\"__ndarray__\":\"jEyZG9hi/z9abZzvti3/P80lA8VkSvS/pj8eEj/c47/2F16WRnbyv6CTL2QWyZM/oWnKvRXp8L85k6bTeJ/yv75xnCr1INE//eZAVSLgyD9X/JPhZK3ev7fX455LHdE/1BkLnJCK8D8OWqLRPcntv9QRAm2G18u/mjB3uNCH8r8sAWW1VKHkvwA/w0+Z2r+/DVOVy1r85r/960uCqvfqvyb0puyYg86/AFntOKr99z/K+dSD0FXMv5heiCrlzsa/0q8sxxIiwz/qfCqcISDtvxj23+WMKN4/RdgUFPeVy7+0Saso99fEP+V5hIFn3OM/wdhPYRTc5r8loo09eGDWvw4tebdaI74/C7K+OnVS3r+nIuOaeMTiP9bXuR4t49U/pjStgMhJ2j+4dMtezLDCPxq0DtcEnfC/lO5Sn/VP1D/6oSH7EwjgP+oGxa7MPv+/cKfmw5QS87+qvMXsPRjpv1JA1AlHWcQ/s5iUWtQMAkAWEJm80kPKP9DR3lyNNZi/ZLkHui63xT9rEjiHrYW7P2if17yU7PA/mCgCnax+w78LUL72ShXgP0TlTtjrH+s/BghFjIRM6L8N/2j5EFXzP6x87P5sOvG/Xvpf6Sp70r/EXsbv0mH0P1hp0SpWxs2/aj+xVVmw6L8PiVOQkwgAQJobMpF4j9u/BUDjVNJB9D9s0GVSyxXhvzWRmhKMLra/y1kgIZIy2z9i/AirUl74P67cctM9Vvk/RdNRoVaU9L8xvNTHC4yzP8+cfGM3Os6/oK9oINfl3r9/lMjda4r+PyS8q2OcQ/e/YHAEyDHrkj+gWPDJ4CqHv8ZnQhQmB+U/uFG4022cy787NWeiVeTiP7jBbp6TB+O/B0K2DqgP8z+8nedPv4fwv5oGDdyJK7W/JdFX2awA27+0heKqyMnNP9QKb8Ykw+c/nkFcJLP72D+Yl2a60OC+P1vyAh+rSt2/3G+le7zx278P4pBxliDcP9cUxLD6y/C/Cx7pfomO8D8vV39VuHrXP2gHnMYY2+M/0nJh3ZJ/5j/ebJsyhgjtP87XWmlupLq/7+LqDd/h6T8=\",\"dtype\":\"float64\",\"shape\":[100]}},\"selected\":{\"id\":\"1545\",\"type\":\"Selection\"},\"selection_policy\":{\"id\":\"1546\",\"type\":\"UnionRenderers\"}},\"id\":\"1478\",\"type\":\"ColumnDataSource\"},{\"attributes\":{\"callback\":null,\"data\":{\"x\":{\"__ndarray__\":\"AAAAp7w08z+rbN6tGCvzP0OHruY2DvM/UrNjszXe8j+xzbmTR5vyP6C6FfCyRfI/yXl0z9Hd8T8gqrZ4EWTxP/gdrP/x2PA/umxYvgU98D+Ve/x14SHvP36CJvfPqu0/47KkjmEW7D+tkGiuP2bqP69gUuwwnOg/b5/8Ixe65j9k+tZ77cHkPx4Hpk/GteI/FPGYAsmX4D/MCoB2X9TcP9ySjBeKXtg/3RjKEcPS0z8QQmpIpWvOP9ae8TYmGcU/zEFX3K5vtz9E+aIOuIySPxx7xhvfPqy/AUJq2DZiwL+2MZSzF5zJv9WSjN/SWdG/xQqAPqjP1b8h4jHN2iravzQOTGfVZt6/Y/rW35E/4b9tn/yHuzfjv65gUlDVGeW/qZBoEuTj5r/hsqTyBZTov3yCJlt0KOq/k3v82YWf679w2bDgr/fsv+87WGOIL+6/QFRtVcdF77/JeXQBpBzwv6C6FSKFhPC/sM25xRna8L9Ss2PlBx3xv0OHrhgJTfG/q2ze3+pp8b8AAADZjnPxvwAAANmOc/G/q2ze3+pp8b9Dh64YCU3xv1KzY+UHHfG/sM25xRna8L+guhUihYTwv8l5dAGkHPC/QFRtVcdF77/vO1hjiC/uv3DZsOCv9+y/k3v82YWf6798giZbdCjqv+GypPIFlOi/qZBoEuTj5r+uYFJQ1Rnlv22f/Ie7N+O/Y/rW35E/4b80Dkxn1WbevyHiMc3aKtq/xQqAPqjP1b/Vkozf0lnRv7YxlLMXnMm/AUJq2DZiwL8ce8Yb3z6sv0T5og64jJI/zEFX3K5vtz/WnvE2JhnFPxBCakila84/3RjKEcPS0z/ckowXil7YP8wKgHZf1Nw/FPGYAsmX4D8eB6ZPxrXiP2T61nvtweQ/b5/8Ixe65j+vYFLsMJzoP62QaK4/Zuo/47KkjmEW7D9+gib3z6rtP5V7/HXhIe8/umxYvgU98D/4Haz/8djwPyCqtngRZPE/yXl0z9Hd8T+guhXwskXyP7HNuZNHm/I/UrNjszXe8j9Dh67mNg7zP6ts3q0YK/M/AAAAp7w08z8=\",\"dtype\":\"float64\",\"shape\":[100]},\"y\":{\"__ndarray__\":\"AAAAgNAcrD9LmqIOOGzAP1kuEgNax8k/pC1FNGGH0T+lKRo1VxzWP6Tt6Bu9ndo/IY7jlNUG3z9cFnZufqnhP4uKh9HWvuM/8dr65ELB5T9R4CiCpa7nPyVYs6P3hOk/RwKCh0pC6z+IvTm3yeTsP/0gCvW8au4/fynLCorS7z/E5sE8W43wP3bCyYP0IPE/XvXtlXWj8T+QODYqVRTyPx5BrIMcc/I//xpE7me/8j+maL4n5/jyP+0xFrRdH/M/a3EhHaMy8z9rcSEdozLzP+0xFrRdH/M/pmi+J+f48j//GkTuZ7/yPx9BrIMcc/I/kTg2KlUU8j9e9e2VdaPxP3bCyYP0IPE/xObBPFuN8D+BKcsKitLvP/4gCvW8au4/ir05t8nk7D9IAoKHSkLrPylYs6P3hOk/VOAogqWu5z/12vrkQsHlP42Kh9HWvuM/XBZ2bn6p4T8pjuOU1QbfP6nt6Bu9ndo/rikaNVcc1j+pLUU0YYfRP20uEgNax8k/WJqiDjhswD8UAACA0BysP+z//3/QHKw/wNIUdX7ukr/aXCSG43G3v1JbiihaAMW/XFM0KkYqzr+p7ej7iJbTvymO43Sh/9e/uSzsvMhL3L+NiofBPDvgv/Xa+tSoPeK/VOAocgsr5L8pWLOTXQHmv0gCgnewvue/ir05py9h6b/+IArlIufqv4Epy/rvTuy/iM2DaRyX7b/shJP3Tr7uv7zq2xtRw++/kTg2IohS8L8fQax7T7Hwv/8aROaa/fC/pmi+Hxo38b/tMRaskF3xv2txIRXWcPG/a3EhFdZw8b/tMRaskF3xv6Zovh8aN/G//xpE5pr98L8eQax7T7Hwv5A4NiKIUvC/vOrbG1HD77/shJP3Tr7uv4fNg2kcl+2/fynL+u9O7L/9IArlIufqv4i9OacvYem/RwKCd7C+578lWLOTXQHmv1HgKHILK+S/8dr61Kg94r+LiofBPDvgv7cs7LzIS9y/IY7jdKH/17+k7ej7iJbTv0pTNCpGKs6/SFuKKFoAxb+yXCSG43G3v1jSFHV+7pK/AAAAgNAcrD8=\",\"dtype\":\"float64\",\"shape\":[100]}},\"selected\":{\"id\":\"1549\",\"type\":\"Selection\"},\"selection_policy\":{\"id\":\"1550\",\"type\":\"UnionRenderers\"}},\"id\":\"1488\",\"type\":\"ColumnDataSource\"},{\"attributes\":{\"dimension\":1,\"plot\":{\"id\":\"1444\",\"subtype\":\"Figure\",\"type\":\"Plot\"},\"ticker\":{\"id\":\"1459\",\"type\":\"BasicTicker\"}},\"id\":\"1462\",\"type\":\"Grid\"},{\"attributes\":{},\"id\":\"1545\",\"type\":\"Selection\"},{\"attributes\":{\"callback\":null,\"end\":5,\"start\":-5},\"id\":\"1447\",\"type\":\"Range1d\"},{\"attributes\":{\"fill_alpha\":0.3,\"fill_color\":\"green\",\"x\":{\"field\":\"x\"},\"y\":{\"field\":\"y\"}},\"id\":\"1489\",\"type\":\"Patch\"},{\"attributes\":{},\"id\":\"1546\",\"type\":\"UnionRenderers\"},{\"attributes\":{},\"id\":\"1449\",\"type\":\"LinearScale\"},{\"attributes\":{\"plot\":null,\"text\":\"\"},\"id\":\"1539\",\"type\":\"Title\"},{\"attributes\":{\"fill_alpha\":0.1,\"fill_color\":\"#1f77b4\",\"line_alpha\":0.1,\"line_color\":\"#1f77b4\",\"x\":{\"field\":\"x\"},\"y\":{\"field\":\"y\"}},\"id\":\"1490\",\"type\":\"Patch\"},{\"attributes\":{\"formatter\":{\"id\":\"1541\",\"type\":\"BasicTickFormatter\"},\"plot\":{\"id\":\"1444\",\"subtype\":\"Figure\",\"type\":\"Plot\"},\"ticker\":{\"id\":\"1454\",\"type\":\"BasicTicker\"}},\"id\":\"1453\",\"type\":\"LinearAxis\"},{\"attributes\":{},\"id\":\"1547\",\"type\":\"Selection\"},{\"attributes\":{\"fill_color\":{\"value\":\"#1f77b4\"},\"line_color\":{\"value\":\"#1f77b4\"},\"x\":{\"field\":\"x\"},\"y\":{\"field\":\"y\"}},\"id\":\"1479\",\"type\":\"Circle\"},{\"attributes\":{\"data_source\":{\"id\":\"1488\",\"type\":\"ColumnDataSource\"},\"glyph\":{\"id\":\"1489\",\"type\":\"Patch\"},\"hover_glyph\":null,\"muted_glyph\":null,\"nonselection_glyph\":{\"id\":\"1490\",\"type\":\"Patch\"},\"selection_glyph\":null,\"view\":{\"id\":\"1492\",\"type\":\"CDSView\"}},\"id\":\"1491\",\"type\":\"GlyphRenderer\"},{\"attributes\":{\"fill_alpha\":{\"value\":0.1},\"fill_color\":{\"value\":\"#1f77b4\"},\"line_alpha\":{\"value\":0.1},\"line_color\":{\"value\":\"#1f77b4\"},\"x\":{\"field\":\"x\"},\"y\":{\"field\":\"y\"}},\"id\":\"1480\",\"type\":\"Circle\"},{\"attributes\":{},\"id\":\"1548\",\"type\":\"UnionRenderers\"},{\"attributes\":{},\"id\":\"1463\",\"type\":\"PanTool\"},{\"attributes\":{\"source\":{\"id\":\"1488\",\"type\":\"ColumnDataSource\"}},\"id\":\"1492\",\"type\":\"CDSView\"},{\"attributes\":{},\"id\":\"1549\",\"type\":\"Selection\"},{\"attributes\":{},\"id\":\"1464\",\"type\":\"WheelZoomTool\"},{\"attributes\":{\"fill_alpha\":0.3,\"fill_color\":\"#98AFC7\",\"x\":{\"field\":\"x\"},\"y\":{\"field\":\"y\"}},\"id\":\"1494\",\"type\":\"Patch\"},{\"attributes\":{},\"id\":\"1550\",\"type\":\"UnionRenderers\"},{\"attributes\":{},\"id\":\"1459\",\"type\":\"BasicTicker\"},{\"attributes\":{\"plot\":{\"id\":\"1444\",\"subtype\":\"Figure\",\"type\":\"Plot\"},\"ticker\":{\"id\":\"1454\",\"type\":\"BasicTicker\"}},\"id\":\"1457\",\"type\":\"Grid\"},{\"attributes\":{\"overlay\":{\"id\":\"1471\",\"type\":\"BoxAnnotation\"}},\"id\":\"1465\",\"type\":\"BoxZoomTool\"},{\"attributes\":{\"callback\":null,\"data\":{\"x\":{\"__ndarray__\":\"AAAARxbY9j+9aeNuiMz2Py95FQ7rqfY/NHFkjmJw9j9B3ZZ1KyD2P6DAwCWaufU/1RZ/hBo99T84BneJL6v0P3srkLRyBPQ/TOx6bJNJ8z+nrixGVnvyP+8OFDaUmvE/Tp/eqzmo8D+qjIAzi0rvP9HDg9CQJe0/WZ5ir8Xj6j8xlsCgiYfoP2xq40VYE+Y/kgcLdMaJ4z/WOEZ9f+3gP8nYPsOEgtw/wW4r170P1z/4Gth1ZYjRP/rRrAOZ5Mc/rVoSik1NuT+sK22veiyGP9KjWSdVtrO/3zWwe1wHxb++biufBgvQv8HYPovNfdW/pHGMwkfW2r+OBwvYagfgv2dq46n8kOK/MJbABC4F5b9XnmITamHnv9DDgzQ1o+m/poyAly/I67+aPr27F87tv9odKNDMsu+/pa4seCi68L9K7HqeZYjxv3orkOZEQ/K/NwZ3uwHq8r/UFn+27Hvzv6DAwFds+PO/QN2Wp/1e9L80cWTANK/0vy55FUC96PS/vWnjoFoL9b8AAAB56Bb1vwAAAHnoFvW/vWnjoFoL9b8ueRVAvej0vzRxZMA0r/S/QN2Wp/1e9L+gwMBXbPjzv9QWf7bse/O/NwZ3uwHq8r96K5DmREPyv0rsep5liPG/pa4seCi68L/aHSjQzLLvv5o+vbsXzu2/poyAly/I67/Qw4M0NaPpv1eeYhNqYee/MJbABC4F5b9nauOp/JDiv44HC9hqB+C/pHGMwkfW2r/B2D6LzX3Vv75uK58GC9C/3zWwe1wHxb/So1knVbazv6wrba96LIY/rVoSik1NuT/60awDmeTHP/ga2HVliNE/wW4r170P1z/J2D7DhILcP9Y4Rn1/7eA/kgcLdMaJ4z9sauNFWBPmPzGWwKCJh+g/WZ5ir8Xj6j/Rw4PQkCXtP6qMgDOLSu8/Tp/eqzmo8D/vDhQ2lJrxP6euLEZWe/I/TOx6bJNJ8z97K5C0cgT0PzgGd4kvq/Q/1RZ/hBo99T+gwMAlmrn1P0HdlnUrIPY/NHFkjmJw9j8veRUO66n2P71p426IzPY/AAAARxbY9j8=\",\"dtype\":\"float64\",\"shape\":[100]},\"y\":{\"__ndarray__\":\"AAAAgNAcrD+2esvMiRq8P46qFS/yC8U/VE8fQuD7yz973Xd14WrRP7P+y5IyydQ/E0PXWVgV2D+g12jI2kvbP7zjeZ9Yad4/Ns+weEW14D9G+ixKJCbiP0Qw2rrEheM/PcIf5bTS5D/mWkGMlgvmP4VnzowgL+c/6Y/fNiA86D9iAraQejHpPx0xaYAtDuo/h9tp21DR6j9JxbxaF3rrP2Uv7HLPB+w/t+nMDuR57D9sg1Is3c/sPzagzVpgCe0/rqQPGjEm7T+upA8aMSbtPzagzVpgCe0/bINSLN3P7D+36cwO5HnsP2Yv7HLPB+w/SsW8Whd66z+I22nbUNHqPx0xaYAtDuo/YwK2kHox6T/qj982IDzoP4VnzowgL+c/51pBjJYL5j8+wh/ltNLkP0Yw2rrEheM/R/osSiQm4j86z7B4RbXgP8DjeZ9Yad4/otdoyNpL2z8ZQ9dZWBXYP7b+y5IyydQ/gt13deFq0T9bTx9C4PvLP52qFS/yC8U/ynrLzIkavD8PAACA0BysP/H//3/QHKw/AKwppJk1Aj90qla8J/arv7aePgTw2ru/BLvvqlrHxL9s/Zfl/IPLvxlD1zkkDtG/otdoqKZE1L/A43l/JGLXv3OeYdFWY9q/jvRZdBRF3b9GMNqqKgLgvz7CH9UaT+G/51pBfPyH4r+FZ858hqvjv+qP3yaGuOS/YwK2gOCt5b8dMWlwk4rmv4jbacu2Tee/SsW8Sn32579mL+xiNYTov7fpzP5J9ui/bINSHENM6b82oM1KxoXpv66kDwqXoum/rqQPCpei6b82oM1KxoXpv2yDUhxDTOm/t+nM/kn26L9lL+xiNYTov0nFvEp99ue/h9tpy7ZN578dMWlwk4rmv2ICtoDgreW/6Y/fJoa45L+FZ858hqvjv+ZaQXz8h+K/PcIf1RpP4b9EMNqqKgLgv4z0WXQURd2/bJ5h0VZj2r+843l/JGLXv6DXaKimRNS/E0PXOSQO0b9m/Zfl/IPLv/a676pax8S/qJ4+BPDau782qla8J/arvwBMKqSZNQI/AAAAgNAcrD8=\",\"dtype\":\"float64\",\"shape\":[100]}},\"selected\":{\"id\":\"1553\",\"type\":\"Selection\"},\"selection_policy\":{\"id\":\"1554\",\"type\":\"UnionRenderers\"}},\"id\":\"1498\",\"type\":\"ColumnDataSource\"},{\"attributes\":{},\"id\":\"1551\",\"type\":\"Selection\"},{\"attributes\":{},\"id\":\"1466\",\"type\":\"SaveTool\"},{\"attributes\":{\"fill_alpha\":0.1,\"fill_color\":\"#1f77b4\",\"line_alpha\":0.1,\"line_color\":\"#1f77b4\",\"x\":{\"field\":\"x\"},\"y\":{\"field\":\"y\"}},\"id\":\"1495\",\"type\":\"Patch\"},{\"attributes\":{},\"id\":\"1552\",\"type\":\"UnionRenderers\"},{\"attributes\":{},\"id\":\"1467\",\"type\":\"ResetTool\"},{\"attributes\":{\"data_source\":{\"id\":\"1493\",\"type\":\"ColumnDataSource\"},\"glyph\":{\"id\":\"1494\",\"type\":\"Patch\"},\"hover_glyph\":null,\"muted_glyph\":null,\"nonselection_glyph\":{\"id\":\"1495\",\"type\":\"Patch\"},\"selection_glyph\":null,\"view\":{\"id\":\"1497\",\"type\":\"CDSView\"}},\"id\":\"1496\",\"type\":\"GlyphRenderer\"},{\"attributes\":{},\"id\":\"1553\",\"type\":\"Selection\"},{\"attributes\":{},\"id\":\"1451\",\"type\":\"LinearScale\"},{\"attributes\":{},\"id\":\"1468\",\"type\":\"HelpTool\"},{\"attributes\":{\"callback\":null,\"data\":{\"x\":{\"__ndarray__\":\"AACA08pnBkC9aWP7PFwGQC95lZqfOQZANHHkGhcABkBB3RYC4K8FQKDAQLJOSQVA1Rb/EM/MBEA4BvcV5DoEQHsrEEEnlANATOz6+EfZAkCnrqzSCgsCQO8OlMJIKgFATp9eOO43AECqjIBM9Gn+P9HDg+n5RPw/WZ5iyC4D+j8xlsC58qb3P2xq417BMvU/kgcLjS+p8j/WOEaW6AzwP8nYPvVWweo/wW4rCZBO5T/xNbBPb47fP/rRrGc9YtQ/rVoSUpZIwj8qakmIn/ygv9KjWV8Mu8q/3zWwF7iJ2L++bittNMzhv8HYPln7Pue/pHGMkHWX7L+OBwu/Aejwv2dq45CTcfO/MJbA68Tl9b9XnmL6AEL4v9DDgxvMg/q/poyAfsao/L+aPr2irq7+v+0OlNuxSQDApa6s63MqAcBK7PoRsfgBwHorEFqQswLANwb3Lk1aA8DUFv8pOOwDwKDAQMu3aATAQN0WG0nPBMA0ceQzgB8FwC55lbMIWQXAvWljFKZ7BcAAAIDsM4cFwAAAgOwzhwXAvWljFKZ7BcAueZWzCFkFwDRx5DOAHwXAQN0WG0nPBMCgwEDLt2gEwNQW/yk47APANwb3Lk1aA8B6KxBakLMCwErs+hGx+AHApa6s63MqAcDtDpTbsUkAwJo+vaKurv6/poyAfsao/L/Qw4MbzIP6v1eeYvoAQvi/MJbA68Tl9b9nauOQk3Hzv44HC78B6PC/pHGMkHWX7L/B2D5Z+z7nv75uK200zOG/3zWwF7iJ2L/So1lfDLvKvypqSYif/KC/rVoSUpZIwj/60axnPWLUP/E1sE9vjt8/wW4rCZBO5T/J2D71VsHqP9Y4RpboDPA/kgcLjS+p8j9sauNewTL1PzGWwLnypvc/WZ5iyC4D+j/Rw4Pp+UT8P6qMgEz0af4/Tp9eOO43AEDvDpTCSCoBQKeurNIKCwJATOz6+EfZAkB7KxBBJ5QDQDgG9xXkOgRA1Rb/EM/MBECgwECyTkkFQEHdFgLgrwVANHHkGhcABkAveZWanzkGQL1pY/s8XAZAAACA08pnBkA=\",\"dtype\":\"float64\",\"shape\":[100]},\"y\":{\"__ndarray__\":\"AAAAgNAcrD+2esusVRPFP46qFR9YiNE/VE8fMkZ42D/2uu/aKFLfP7P+y4plB+M/E0PXUYtT5j+g12jADYrpP7zjeZeLp+w/bJ5h6b2o7z9G+izGPUXxP0Qw2jbepPI/PcIfYc7x8z/mWkEIsCr1P4Vnzgg6TvY/6Y/fsjlb9z9iArYMlFD4Px0xafxGLfk/h9tpV2rw+T9JxbzWMJn6P2Uv7O7oJvs/t+nMiv2Y+z9sg1Ko9u77PzagzdZ5KPw/rqQPlkpF/D+upA+WSkX8PzagzdZ5KPw/bINSqPbu+z+36cyK/Zj7P2Yv7O7oJvs/SsW81jCZ+j+I22lXavD5Px0xafxGLfk/YwK2DJRQ+D/qj9+yOVv3P4Vnzgg6TvY/51pBCLAq9T8+wh9hzvHzP0Yw2jbepPI/R/osxj1F8T9znmHpvajvP8DjeZeLp+w/otdowA2K6T8ZQ9dRi1PmP7b+y4plB+M/BLvv2ihS3z9bTx8yRnjYP52qFR9YiNE/ynrLrFUTxT8eAACA0BysP+L//3/QHKw/Kusts7UTrL86VSv+RwLFv1tPHxIScdG/BLvvuvRK2L9s/Zf1lgffvxlD10Hxz+K/otdosHMG5r/A43mH8SPpv3OeYdkjJey/jvRZfOEG779GMNouEePwvz7CH1kBMPK/51pBAONo87+FZ84AbYz0v+qP36psmfW/YwK2BMeO9r8dMWn0eWv3v4jbaU+dLvi/SsW8zmPX+L9mL+zmG2X5v7fpzIIw1/m/bINSoCkt+r82oM3OrGb6v66kD459g/q/rqQPjn2D+r82oM3OrGb6v2yDUqApLfq/t+nMgjDX+b9lL+zmG2X5v0nFvM5j1/i/h9tpT50u+L8dMWn0eWv3v2ICtgTHjva/6Y/fqmyZ9b+FZ84AbYz0v+ZaQQDjaPO/PcIfWQEw8r9EMNouEePwv4z0WXzhBu+/bJ5h2SMl7L+843mH8SPpv6DXaLBzBua/E0PXQfHP4r9m/Zf1lgffv/a677r0Sti/VE8fEhJx0b8bVSv+RwLFv9rqLbO1E6y/AAAAgNAcrD8=\",\"dtype\":\"float64\",\"shape\":[100]}},\"selected\":{\"id\":\"1551\",\"type\":\"Selection\"},\"selection_policy\":{\"id\":\"1552\",\"type\":\"UnionRenderers\"}},\"id\":\"1493\",\"type\":\"ColumnDataSource\"},{\"attributes\":{\"source\":{\"id\":\"1493\",\"type\":\"ColumnDataSource\"}},\"id\":\"1497\",\"type\":\"CDSView\"},{\"attributes\":{},\"id\":\"1554\",\"type\":\"UnionRenderers\"},{\"attributes\":{\"active_drag\":\"auto\",\"active_inspect\":\"auto\",\"active_multi\":null,\"active_scroll\":\"auto\",\"active_tap\":\"auto\",\"tools\":[{\"id\":\"1463\",\"type\":\"PanTool\"},{\"id\":\"1464\",\"type\":\"WheelZoomTool\"},{\"id\":\"1465\",\"type\":\"BoxZoomTool\"},{\"id\":\"1466\",\"type\":\"SaveTool\"},{\"id\":\"1467\",\"type\":\"ResetTool\"},{\"id\":\"1468\",\"type\":\"HelpTool\"}]},\"id\":\"1469\",\"type\":\"Toolbar\"},{\"attributes\":{\"callback\":null,\"data\":{\"x\":{\"__ndarray__\":\"AACAM3HEAkCrbF46zboCQEOHLnPrnQJAUrPjP+ptAkCxzTkg/CoCQKC6lXxn1QFAyXn0W4ZtAUAgqjYFxvMAQPgdLIymaABAc9mwlXSZ/z+Ve/yOSkH+P36CJhA5yvw/47Kkp8o1+z+tkGjHqIX5P69gUgWau/c/b5/8PIDZ9T9k+taUVuHzPx4Hpmgv1fE/KOIxN2Ru7z/MCoCoMRPrP9ySjElcneY/3RjKQ5UR4j8QQmqsSenaP9ae8ZrKltE/zEFXpPdqwD94DbqiSQyTv44948UmJMW/AUJqdJLk07+2MZRPcx7dv9WSjK0AG+O/xQqADNaQ578h4jGbCOzrvxoHppoBFPC/Y/rWxigg8r9tn/xuUhj0v65gUjds+vW/qZBo+XrE97/hsqTZnHT5v3yCJkILCfu/k3v8wByA/L9w2bDHRtj9v+87WEofEP+/IKo2Hi8TAMDJefR074wAwKC6lZXQ9ADAsM05OWVKAcBSs+NYU40BwEOHLoxUvQHAq2xeUzbaAcAAAIBM2uMBwAAAgEza4wHAq2xeUzbaAcBDhy6MVL0BwFKz41hTjQHAsM05OWVKAcCgupWV0PQAwMl59HTvjADAIKo2Hi8TAMDvO1hKHxD/v3DZsMdG2P2/k3v8wByA/L98giZCCwn7v+GypNmcdPm/qZBo+XrE97+uYFI3bPr1v22f/G5SGPS/Y/rWxigg8r8aB6aaARTwvyHiMZsI7Ou/xQqADNaQ57/VkoytABvjv7YxlE9zHt2/AUJqdJLk07+OPePFJiTFv3gNuqJJDJO/zEFXpPdqwD/WnvGaypbRPxBCaqxJ6do/3RjKQ5UR4j/ckoxJXJ3mP8wKgKgxE+s/KOIxN2Ru7z8eB6ZoL9XxP2T61pRW4fM/b5/8PIDZ9T+vYFIFmrv3P62QaMeohfk/47Kkp8o1+z9+giYQOcr8P5V7/I5KQf4/c9mwlXSZ/z/4HSyMpmgAQCCqNgXG8wBAyXn0W4ZtAUCgupV8Z9UBQLHNOSD8KgJAUrPjP+ptAkBDhy5z650CQKtsXjrNugJAAACAM3HEAkA=\",\"dtype\":\"float64\",\"shape\":[100]},\"y\":{\"__ndarray__\":\"AAAAgNAcrD+WNEX9O9HJP1kuEvO/Q9Y/SFuKWCiL3z+lKRotilrkP6Tt6BPw2+g/IY7jjAhF7T9cFnbql8jwP4uKh03w3fI/8dr6YFzg9D9R4Cj+vs32PyVYsx8RpPg/RwKCA2Rh+j+IvTkz4wP8P/0gCnHWif0/fynLhqPx/j/E5sH65xwAQHbCyUGBsABAXvXtUwIzAUCQODbo4aMBQB5BrEGpAgJA/xpErPROAkCmaL7lc4gCQO0xFnLqrgJAa3Eh2y/CAkBrcSHbL8ICQO0xFnLqrgJApmi+5XOIAkD/GkSs9E4CQB9BrEGpAgJAkTg26OGjAUBe9e1TAjMBQHbCyUGBsABAxObB+uccAECBKcuGo/H+P/4gCnHWif0/ir05M+MD/D9IAoIDZGH6PylYsx8RpPg/VOAo/r7N9j/12vpgXOD0P42Kh03w3fI/XBZ26pfI8D8pjuOMCEXtP6nt6BPw2+g/rikaLYpa5D9SW4pYKIvfP20uEvO/Q9Y/sDRF/TvRyT8oAACA0BysP9j//3/QHKw/YGmKeqeFt7/aXCSmF3nOv1Jbijj0g9i/rikaHfDW4L+p7egDVljlvymO43xuwem/uSzsxJUN7r+NiodFIxzxv/Xa+liPHvO/VOAo9vEL9b8pWLMXROL2v0gCgvuWn/i/ir05KxZC+r/+IAppCcj7v4Epy37WL/2/iM2D7QJ4/r/shJN7NZ//v1717c8bUgDAkTg2ZPvCAMAfQay9wiEBwP8aRCgObgHApmi+YY2nAcDtMRbuA84BwGtxIVdJ4QHAa3EhV0nhAcDtMRbuA84BwKZovmGNpwHA/xpEKA5uAcAeQay9wiEBwJA4NmT7wgDAXvXtzxtSAMDshJN7NZ//v4fNg+0CeP6/fynLftYv/b/9IAppCcj7v4i9OSsWQvq/RwKC+5af+L8lWLMXROL2v1HgKPbxC/W/8dr6WI8e87+LiodFIxzxv7cs7MSVDe6/IY7jfG7B6b+k7egDVljlv6UpGh3w1uC/SFuKOPSD2L+yXCSmF3nOvyxpinqnhbe/AAAAgNAcrD8=\",\"dtype\":\"float64\",\"shape\":[100]}},\"selected\":{\"id\":\"1547\",\"type\":\"Selection\"},\"selection_policy\":{\"id\":\"1548\",\"type\":\"UnionRenderers\"}},\"id\":\"1483\",\"type\":\"ColumnDataSource\"},{\"attributes\":{\"fill_alpha\":0.3,\"fill_color\":\"#98AFC7\",\"x\":{\"field\":\"x\"},\"y\":{\"field\":\"y\"}},\"id\":\"1499\",\"type\":\"Patch\"},{\"attributes\":{\"fill_alpha\":0.1,\"fill_color\":\"#1f77b4\",\"line_alpha\":0.1,\"line_color\":\"#1f77b4\",\"x\":{\"field\":\"x\"},\"y\":{\"field\":\"y\"}},\"id\":\"1500\",\"type\":\"Patch\"},{\"attributes\":{\"bottom_units\":\"screen\",\"fill_alpha\":{\"value\":0.5},\"fill_color\":{\"value\":\"lightgrey\"},\"left_units\":\"screen\",\"level\":\"overlay\",\"line_alpha\":{\"value\":1.0},\"line_color\":{\"value\":\"black\"},\"line_dash\":[4,4],\"line_width\":{\"value\":2},\"plot\":null,\"render_mode\":\"css\",\"right_units\":\"screen\",\"top_units\":\"screen\"},\"id\":\"1471\",\"type\":\"BoxAnnotation\"},{\"attributes\":{\"formatter\":{\"id\":\"1543\",\"type\":\"BasicTickFormatter\"},\"plot\":{\"id\":\"1444\",\"subtype\":\"Figure\",\"type\":\"Plot\"},\"ticker\":{\"id\":\"1459\",\"type\":\"BasicTicker\"}},\"id\":\"1458\",\"type\":\"LinearAxis\"},{\"attributes\":{\"data_source\":{\"id\":\"1498\",\"type\":\"ColumnDataSource\"},\"glyph\":{\"id\":\"1499\",\"type\":\"Patch\"},\"hover_glyph\":null,\"muted_glyph\":null,\"nonselection_glyph\":{\"id\":\"1500\",\"type\":\"Patch\"},\"selection_glyph\":null,\"view\":{\"id\":\"1502\",\"type\":\"CDSView\"}},\"id\":\"1501\",\"type\":\"GlyphRenderer\"},{\"attributes\":{\"data_source\":{\"id\":\"1478\",\"type\":\"ColumnDataSource\"},\"glyph\":{\"id\":\"1479\",\"type\":\"Circle\"},\"hover_glyph\":null,\"muted_glyph\":null,\"nonselection_glyph\":{\"id\":\"1480\",\"type\":\"Circle\"},\"selection_glyph\":null,\"view\":{\"id\":\"1482\",\"type\":\"CDSView\"}},\"id\":\"1481\",\"type\":\"GlyphRenderer\"},{\"attributes\":{\"source\":{\"id\":\"1498\",\"type\":\"ColumnDataSource\"}},\"id\":\"1502\",\"type\":\"CDSView\"},{\"attributes\":{\"source\":{\"id\":\"1478\",\"type\":\"ColumnDataSource\"}},\"id\":\"1482\",\"type\":\"CDSView\"},{\"attributes\":{},\"id\":\"1454\",\"type\":\"BasicTicker\"},{\"attributes\":{\"callback\":null,\"end\":5,\"start\":-5},\"id\":\"1445\",\"type\":\"Range1d\"},{\"attributes\":{\"fill_alpha\":0.1,\"fill_color\":\"#1f77b4\",\"line_alpha\":0.1,\"line_color\":\"#1f77b4\",\"x\":{\"field\":\"x\"},\"y\":{\"field\":\"y\"}},\"id\":\"1485\",\"type\":\"Patch\"},{\"attributes\":{\"fill_alpha\":0.3,\"fill_color\":\"green\",\"x\":{\"field\":\"x\"},\"y\":{\"field\":\"y\"}},\"id\":\"1484\",\"type\":\"Patch\"},{\"attributes\":{},\"id\":\"1541\",\"type\":\"BasicTickFormatter\"},{\"attributes\":{\"data_source\":{\"id\":\"1483\",\"type\":\"ColumnDataSource\"},\"glyph\":{\"id\":\"1484\",\"type\":\"Patch\"},\"hover_glyph\":null,\"muted_glyph\":null,\"nonselection_glyph\":{\"id\":\"1485\",\"type\":\"Patch\"},\"selection_glyph\":null,\"view\":{\"id\":\"1487\",\"type\":\"CDSView\"}},\"id\":\"1486\",\"type\":\"GlyphRenderer\"},{\"attributes\":{},\"id\":\"1543\",\"type\":\"BasicTickFormatter\"},{\"attributes\":{\"source\":{\"id\":\"1483\",\"type\":\"ColumnDataSource\"}},\"id\":\"1487\",\"type\":\"CDSView\"}],\"root_ids\":[\"1444\"]},\"title\":\"Bokeh Application\",\"version\":\"1.0.2\"}};\n",
       "  var render_items = [{\"docid\":\"6d615793-7a4e-47f4-849c-8f269971039c\",\"roots\":{\"1444\":\"864e2b32-5cd4-49e0-9d1b-5aa35c079301\"}}];\n",
       "  root.Bokeh.embed.embed_items_notebook(docs_json, render_items);\n",
       "\n",
       "  }\n",
       "  if (root.Bokeh !== undefined) {\n",
       "    embed_document(root);\n",
       "  } else {\n",
       "    var attempts = 0;\n",
       "    var timer = setInterval(function(root) {\n",
       "      if (root.Bokeh !== undefined) {\n",
       "        embed_document(root);\n",
       "        clearInterval(timer);\n",
       "      }\n",
       "      attempts++;\n",
       "      if (attempts > 100) {\n",
       "        console.log(\"Bokeh: ERROR: Unable to run BokehJS code because BokehJS library is missing\");\n",
       "        clearInterval(timer);\n",
       "      }\n",
       "    }, 10, root)\n",
       "  }\n",
       "})(window);"
      ],
      "application/vnd.bokehjs_exec.v0+json": ""
     },
     "metadata": {
      "application/vnd.bokehjs_exec.v0+json": {
       "id": "1444"
      }
     },
     "output_type": "display_data"
    }
   ],
   "source": [
    "fig = figure(\n",
    "    width=400,\n",
    "    height=400,\n",
    "    x_range=(-5, 5),\n",
    "    y_range=(-5, 5)\n",
    ")\n",
    "fig.circle(data[:, 0], data[:, 1])\n",
    "\n",
    "mean, precision = normal_iso.mean_precision.value()\n",
    "cov = torch.eye(2) / precision\n",
    "plotting.plot_normal(fig, mean.numpy(), cov.numpy(), \n",
    "                     line_color='black', fill_alpha=.3, color='green')\n",
    "\n",
    "mean, precision = normal_diag.mean_precision.value()\n",
    "cov = (1/precision).diag()\n",
    "plotting.plot_normal(fig, mean.numpy(), cov.numpy(), \n",
    "                     line_color='black', fill_alpha=.3, color='#98AFC7')\n",
    "\n",
    "#ean, precision = normal_full.mean_precision.value()\n",
    "#ov = precision.inverse()\n",
    "#plotting.plot_normal(fig, mean.numpy(), cov.numpy(), \n",
    "#                     line_color='black', fill_alpha=.3, color='#C7B097')\n",
    "\n",
    "show(fig)"
   ]
  },
  {
   "cell_type": "code",
   "execution_count": null,
   "metadata": {},
   "outputs": [],
   "source": []
  }
 ],
 "metadata": {
  "kernelspec": {
   "display_name": "Python 3",
   "language": "python",
   "name": "python3"
  },
  "language_info": {
   "codemirror_mode": {
    "name": "ipython",
    "version": 3
   },
   "file_extension": ".py",
   "mimetype": "text/x-python",
   "name": "python",
   "nbconvert_exporter": "python",
   "pygments_lexer": "ipython3",
   "version": "3.7.1"
  }
 },
 "nbformat": 4,
 "nbformat_minor": 2
}
