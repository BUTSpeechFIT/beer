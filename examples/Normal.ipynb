{
 "cells": [
  {
   "cell_type": "markdown",
   "metadata": {},
   "source": [
    "# Bayesian Model\n",
    "\n",
    "This notebook illustrate how to use a Bayesian Normal density model with the [beer framework](https://github.com/beer-asr/beer). The Normal distribution is a fairly basic models but it is used extenslively in other model as a basic building block."
   ]
  },
  {
   "cell_type": "code",
   "execution_count": 1,
   "metadata": {},
   "outputs": [
    {
     "data": {
      "text/html": [
       "\n",
       "    <div class=\"bk-root\">\n",
       "        <a href=\"https://bokeh.pydata.org\" target=\"_blank\" class=\"bk-logo bk-logo-small bk-logo-notebook\"></a>\n",
       "        <span id=\"1001\">Loading BokehJS ...</span>\n",
       "    </div>"
      ]
     },
     "metadata": {},
     "output_type": "display_data"
    },
    {
     "data": {
      "application/javascript": [
       "\n",
       "(function(root) {\n",
       "  function now() {\n",
       "    return new Date();\n",
       "  }\n",
       "\n",
       "  var force = true;\n",
       "\n",
       "  if (typeof (root._bokeh_onload_callbacks) === \"undefined\" || force === true) {\n",
       "    root._bokeh_onload_callbacks = [];\n",
       "    root._bokeh_is_loading = undefined;\n",
       "  }\n",
       "\n",
       "  var JS_MIME_TYPE = 'application/javascript';\n",
       "  var HTML_MIME_TYPE = 'text/html';\n",
       "  var EXEC_MIME_TYPE = 'application/vnd.bokehjs_exec.v0+json';\n",
       "  var CLASS_NAME = 'output_bokeh rendered_html';\n",
       "\n",
       "  /**\n",
       "   * Render data to the DOM node\n",
       "   */\n",
       "  function render(props, node) {\n",
       "    var script = document.createElement(\"script\");\n",
       "    node.appendChild(script);\n",
       "  }\n",
       "\n",
       "  /**\n",
       "   * Handle when an output is cleared or removed\n",
       "   */\n",
       "  function handleClearOutput(event, handle) {\n",
       "    var cell = handle.cell;\n",
       "\n",
       "    var id = cell.output_area._bokeh_element_id;\n",
       "    var server_id = cell.output_area._bokeh_server_id;\n",
       "    // Clean up Bokeh references\n",
       "    if (id != null && id in Bokeh.index) {\n",
       "      Bokeh.index[id].model.document.clear();\n",
       "      delete Bokeh.index[id];\n",
       "    }\n",
       "\n",
       "    if (server_id !== undefined) {\n",
       "      // Clean up Bokeh references\n",
       "      var cmd = \"from bokeh.io.state import curstate; print(curstate().uuid_to_server['\" + server_id + \"'].get_sessions()[0].document.roots[0]._id)\";\n",
       "      cell.notebook.kernel.execute(cmd, {\n",
       "        iopub: {\n",
       "          output: function(msg) {\n",
       "            var id = msg.content.text.trim();\n",
       "            if (id in Bokeh.index) {\n",
       "              Bokeh.index[id].model.document.clear();\n",
       "              delete Bokeh.index[id];\n",
       "            }\n",
       "          }\n",
       "        }\n",
       "      });\n",
       "      // Destroy server and session\n",
       "      var cmd = \"import bokeh.io.notebook as ion; ion.destroy_server('\" + server_id + \"')\";\n",
       "      cell.notebook.kernel.execute(cmd);\n",
       "    }\n",
       "  }\n",
       "\n",
       "  /**\n",
       "   * Handle when a new output is added\n",
       "   */\n",
       "  function handleAddOutput(event, handle) {\n",
       "    var output_area = handle.output_area;\n",
       "    var output = handle.output;\n",
       "\n",
       "    // limit handleAddOutput to display_data with EXEC_MIME_TYPE content only\n",
       "    if ((output.output_type != \"display_data\") || (!output.data.hasOwnProperty(EXEC_MIME_TYPE))) {\n",
       "      return\n",
       "    }\n",
       "\n",
       "    var toinsert = output_area.element.find(\".\" + CLASS_NAME.split(' ')[0]);\n",
       "\n",
       "    if (output.metadata[EXEC_MIME_TYPE][\"id\"] !== undefined) {\n",
       "      toinsert[toinsert.length - 1].firstChild.textContent = output.data[JS_MIME_TYPE];\n",
       "      // store reference to embed id on output_area\n",
       "      output_area._bokeh_element_id = output.metadata[EXEC_MIME_TYPE][\"id\"];\n",
       "    }\n",
       "    if (output.metadata[EXEC_MIME_TYPE][\"server_id\"] !== undefined) {\n",
       "      var bk_div = document.createElement(\"div\");\n",
       "      bk_div.innerHTML = output.data[HTML_MIME_TYPE];\n",
       "      var script_attrs = bk_div.children[0].attributes;\n",
       "      for (var i = 0; i < script_attrs.length; i++) {\n",
       "        toinsert[toinsert.length - 1].firstChild.setAttribute(script_attrs[i].name, script_attrs[i].value);\n",
       "      }\n",
       "      // store reference to server id on output_area\n",
       "      output_area._bokeh_server_id = output.metadata[EXEC_MIME_TYPE][\"server_id\"];\n",
       "    }\n",
       "  }\n",
       "\n",
       "  function register_renderer(events, OutputArea) {\n",
       "\n",
       "    function append_mime(data, metadata, element) {\n",
       "      // create a DOM node to render to\n",
       "      var toinsert = this.create_output_subarea(\n",
       "        metadata,\n",
       "        CLASS_NAME,\n",
       "        EXEC_MIME_TYPE\n",
       "      );\n",
       "      this.keyboard_manager.register_events(toinsert);\n",
       "      // Render to node\n",
       "      var props = {data: data, metadata: metadata[EXEC_MIME_TYPE]};\n",
       "      render(props, toinsert[toinsert.length - 1]);\n",
       "      element.append(toinsert);\n",
       "      return toinsert\n",
       "    }\n",
       "\n",
       "    /* Handle when an output is cleared or removed */\n",
       "    events.on('clear_output.CodeCell', handleClearOutput);\n",
       "    events.on('delete.Cell', handleClearOutput);\n",
       "\n",
       "    /* Handle when a new output is added */\n",
       "    events.on('output_added.OutputArea', handleAddOutput);\n",
       "\n",
       "    /**\n",
       "     * Register the mime type and append_mime function with output_area\n",
       "     */\n",
       "    OutputArea.prototype.register_mime_type(EXEC_MIME_TYPE, append_mime, {\n",
       "      /* Is output safe? */\n",
       "      safe: true,\n",
       "      /* Index of renderer in `output_area.display_order` */\n",
       "      index: 0\n",
       "    });\n",
       "  }\n",
       "\n",
       "  // register the mime type if in Jupyter Notebook environment and previously unregistered\n",
       "  if (root.Jupyter !== undefined) {\n",
       "    var events = require('base/js/events');\n",
       "    var OutputArea = require('notebook/js/outputarea').OutputArea;\n",
       "\n",
       "    if (OutputArea.prototype.mime_types().indexOf(EXEC_MIME_TYPE) == -1) {\n",
       "      register_renderer(events, OutputArea);\n",
       "    }\n",
       "  }\n",
       "\n",
       "  \n",
       "  if (typeof (root._bokeh_timeout) === \"undefined\" || force === true) {\n",
       "    root._bokeh_timeout = Date.now() + 5000;\n",
       "    root._bokeh_failed_load = false;\n",
       "  }\n",
       "\n",
       "  var NB_LOAD_WARNING = {'data': {'text/html':\n",
       "     \"<div style='background-color: #fdd'>\\n\"+\n",
       "     \"<p>\\n\"+\n",
       "     \"BokehJS does not appear to have successfully loaded. If loading BokehJS from CDN, this \\n\"+\n",
       "     \"may be due to a slow or bad network connection. Possible fixes:\\n\"+\n",
       "     \"</p>\\n\"+\n",
       "     \"<ul>\\n\"+\n",
       "     \"<li>re-rerun `output_notebook()` to attempt to load from CDN again, or</li>\\n\"+\n",
       "     \"<li>use INLINE resources instead, as so:</li>\\n\"+\n",
       "     \"</ul>\\n\"+\n",
       "     \"<code>\\n\"+\n",
       "     \"from bokeh.resources import INLINE\\n\"+\n",
       "     \"output_notebook(resources=INLINE)\\n\"+\n",
       "     \"</code>\\n\"+\n",
       "     \"</div>\"}};\n",
       "\n",
       "  function display_loaded() {\n",
       "    var el = document.getElementById(\"1001\");\n",
       "    if (el != null) {\n",
       "      el.textContent = \"BokehJS is loading...\";\n",
       "    }\n",
       "    if (root.Bokeh !== undefined) {\n",
       "      if (el != null) {\n",
       "        el.textContent = \"BokehJS \" + root.Bokeh.version + \" successfully loaded.\";\n",
       "      }\n",
       "    } else if (Date.now() < root._bokeh_timeout) {\n",
       "      setTimeout(display_loaded, 100)\n",
       "    }\n",
       "  }\n",
       "\n",
       "\n",
       "  function run_callbacks() {\n",
       "    try {\n",
       "      root._bokeh_onload_callbacks.forEach(function(callback) { callback() });\n",
       "    }\n",
       "    finally {\n",
       "      delete root._bokeh_onload_callbacks\n",
       "    }\n",
       "    console.info(\"Bokeh: all callbacks have finished\");\n",
       "  }\n",
       "\n",
       "  function load_libs(js_urls, callback) {\n",
       "    root._bokeh_onload_callbacks.push(callback);\n",
       "    if (root._bokeh_is_loading > 0) {\n",
       "      console.log(\"Bokeh: BokehJS is being loaded, scheduling callback at\", now());\n",
       "      return null;\n",
       "    }\n",
       "    if (js_urls == null || js_urls.length === 0) {\n",
       "      run_callbacks();\n",
       "      return null;\n",
       "    }\n",
       "    console.log(\"Bokeh: BokehJS not loaded, scheduling load and callback at\", now());\n",
       "    root._bokeh_is_loading = js_urls.length;\n",
       "    for (var i = 0; i < js_urls.length; i++) {\n",
       "      var url = js_urls[i];\n",
       "      var s = document.createElement('script');\n",
       "      s.src = url;\n",
       "      s.async = false;\n",
       "      s.onreadystatechange = s.onload = function() {\n",
       "        root._bokeh_is_loading--;\n",
       "        if (root._bokeh_is_loading === 0) {\n",
       "          console.log(\"Bokeh: all BokehJS libraries loaded\");\n",
       "          run_callbacks()\n",
       "        }\n",
       "      };\n",
       "      s.onerror = function() {\n",
       "        console.warn(\"failed to load library \" + url);\n",
       "      };\n",
       "      console.log(\"Bokeh: injecting script tag for BokehJS library: \", url);\n",
       "      document.getElementsByTagName(\"head\")[0].appendChild(s);\n",
       "    }\n",
       "  };var element = document.getElementById(\"1001\");\n",
       "  if (element == null) {\n",
       "    console.log(\"Bokeh: ERROR: autoload.js configured with elementid '1001' but no matching script tag was found. \")\n",
       "    return false;\n",
       "  }\n",
       "\n",
       "  var js_urls = [\"https://cdn.pydata.org/bokeh/release/bokeh-1.0.2.min.js\", \"https://cdn.pydata.org/bokeh/release/bokeh-widgets-1.0.2.min.js\", \"https://cdn.pydata.org/bokeh/release/bokeh-tables-1.0.2.min.js\", \"https://cdn.pydata.org/bokeh/release/bokeh-gl-1.0.2.min.js\"];\n",
       "\n",
       "  var inline_js = [\n",
       "    function(Bokeh) {\n",
       "      Bokeh.set_log_level(\"info\");\n",
       "    },\n",
       "    \n",
       "    function(Bokeh) {\n",
       "      \n",
       "    },\n",
       "    function(Bokeh) {\n",
       "      console.log(\"Bokeh: injecting CSS: https://cdn.pydata.org/bokeh/release/bokeh-1.0.2.min.css\");\n",
       "      Bokeh.embed.inject_css(\"https://cdn.pydata.org/bokeh/release/bokeh-1.0.2.min.css\");\n",
       "      console.log(\"Bokeh: injecting CSS: https://cdn.pydata.org/bokeh/release/bokeh-widgets-1.0.2.min.css\");\n",
       "      Bokeh.embed.inject_css(\"https://cdn.pydata.org/bokeh/release/bokeh-widgets-1.0.2.min.css\");\n",
       "      console.log(\"Bokeh: injecting CSS: https://cdn.pydata.org/bokeh/release/bokeh-tables-1.0.2.min.css\");\n",
       "      Bokeh.embed.inject_css(\"https://cdn.pydata.org/bokeh/release/bokeh-tables-1.0.2.min.css\");\n",
       "    }\n",
       "  ];\n",
       "\n",
       "  function run_inline_js() {\n",
       "    \n",
       "    if ((root.Bokeh !== undefined) || (force === true)) {\n",
       "      for (var i = 0; i < inline_js.length; i++) {\n",
       "        inline_js[i].call(root, root.Bokeh);\n",
       "      }if (force === true) {\n",
       "        display_loaded();\n",
       "      }} else if (Date.now() < root._bokeh_timeout) {\n",
       "      setTimeout(run_inline_js, 100);\n",
       "    } else if (!root._bokeh_failed_load) {\n",
       "      console.log(\"Bokeh: BokehJS failed to load within specified timeout.\");\n",
       "      root._bokeh_failed_load = true;\n",
       "    } else if (force !== true) {\n",
       "      var cell = $(document.getElementById(\"1001\")).parents('.cell').data().cell;\n",
       "      cell.output_area.append_execute_result(NB_LOAD_WARNING)\n",
       "    }\n",
       "\n",
       "  }\n",
       "\n",
       "  if (root._bokeh_is_loading === 0) {\n",
       "    console.log(\"Bokeh: BokehJS loaded, going straight to plotting\");\n",
       "    run_inline_js();\n",
       "  } else {\n",
       "    load_libs(js_urls, function() {\n",
       "      console.log(\"Bokeh: BokehJS plotting callback run at\", now());\n",
       "      run_inline_js();\n",
       "    });\n",
       "  }\n",
       "}(window));"
      ],
      "application/vnd.bokehjs_load.v0+json": "\n(function(root) {\n  function now() {\n    return new Date();\n  }\n\n  var force = true;\n\n  if (typeof (root._bokeh_onload_callbacks) === \"undefined\" || force === true) {\n    root._bokeh_onload_callbacks = [];\n    root._bokeh_is_loading = undefined;\n  }\n\n  \n\n  \n  if (typeof (root._bokeh_timeout) === \"undefined\" || force === true) {\n    root._bokeh_timeout = Date.now() + 5000;\n    root._bokeh_failed_load = false;\n  }\n\n  var NB_LOAD_WARNING = {'data': {'text/html':\n     \"<div style='background-color: #fdd'>\\n\"+\n     \"<p>\\n\"+\n     \"BokehJS does not appear to have successfully loaded. If loading BokehJS from CDN, this \\n\"+\n     \"may be due to a slow or bad network connection. Possible fixes:\\n\"+\n     \"</p>\\n\"+\n     \"<ul>\\n\"+\n     \"<li>re-rerun `output_notebook()` to attempt to load from CDN again, or</li>\\n\"+\n     \"<li>use INLINE resources instead, as so:</li>\\n\"+\n     \"</ul>\\n\"+\n     \"<code>\\n\"+\n     \"from bokeh.resources import INLINE\\n\"+\n     \"output_notebook(resources=INLINE)\\n\"+\n     \"</code>\\n\"+\n     \"</div>\"}};\n\n  function display_loaded() {\n    var el = document.getElementById(\"1001\");\n    if (el != null) {\n      el.textContent = \"BokehJS is loading...\";\n    }\n    if (root.Bokeh !== undefined) {\n      if (el != null) {\n        el.textContent = \"BokehJS \" + root.Bokeh.version + \" successfully loaded.\";\n      }\n    } else if (Date.now() < root._bokeh_timeout) {\n      setTimeout(display_loaded, 100)\n    }\n  }\n\n\n  function run_callbacks() {\n    try {\n      root._bokeh_onload_callbacks.forEach(function(callback) { callback() });\n    }\n    finally {\n      delete root._bokeh_onload_callbacks\n    }\n    console.info(\"Bokeh: all callbacks have finished\");\n  }\n\n  function load_libs(js_urls, callback) {\n    root._bokeh_onload_callbacks.push(callback);\n    if (root._bokeh_is_loading > 0) {\n      console.log(\"Bokeh: BokehJS is being loaded, scheduling callback at\", now());\n      return null;\n    }\n    if (js_urls == null || js_urls.length === 0) {\n      run_callbacks();\n      return null;\n    }\n    console.log(\"Bokeh: BokehJS not loaded, scheduling load and callback at\", now());\n    root._bokeh_is_loading = js_urls.length;\n    for (var i = 0; i < js_urls.length; i++) {\n      var url = js_urls[i];\n      var s = document.createElement('script');\n      s.src = url;\n      s.async = false;\n      s.onreadystatechange = s.onload = function() {\n        root._bokeh_is_loading--;\n        if (root._bokeh_is_loading === 0) {\n          console.log(\"Bokeh: all BokehJS libraries loaded\");\n          run_callbacks()\n        }\n      };\n      s.onerror = function() {\n        console.warn(\"failed to load library \" + url);\n      };\n      console.log(\"Bokeh: injecting script tag for BokehJS library: \", url);\n      document.getElementsByTagName(\"head\")[0].appendChild(s);\n    }\n  };var element = document.getElementById(\"1001\");\n  if (element == null) {\n    console.log(\"Bokeh: ERROR: autoload.js configured with elementid '1001' but no matching script tag was found. \")\n    return false;\n  }\n\n  var js_urls = [\"https://cdn.pydata.org/bokeh/release/bokeh-1.0.2.min.js\", \"https://cdn.pydata.org/bokeh/release/bokeh-widgets-1.0.2.min.js\", \"https://cdn.pydata.org/bokeh/release/bokeh-tables-1.0.2.min.js\", \"https://cdn.pydata.org/bokeh/release/bokeh-gl-1.0.2.min.js\"];\n\n  var inline_js = [\n    function(Bokeh) {\n      Bokeh.set_log_level(\"info\");\n    },\n    \n    function(Bokeh) {\n      \n    },\n    function(Bokeh) {\n      console.log(\"Bokeh: injecting CSS: https://cdn.pydata.org/bokeh/release/bokeh-1.0.2.min.css\");\n      Bokeh.embed.inject_css(\"https://cdn.pydata.org/bokeh/release/bokeh-1.0.2.min.css\");\n      console.log(\"Bokeh: injecting CSS: https://cdn.pydata.org/bokeh/release/bokeh-widgets-1.0.2.min.css\");\n      Bokeh.embed.inject_css(\"https://cdn.pydata.org/bokeh/release/bokeh-widgets-1.0.2.min.css\");\n      console.log(\"Bokeh: injecting CSS: https://cdn.pydata.org/bokeh/release/bokeh-tables-1.0.2.min.css\");\n      Bokeh.embed.inject_css(\"https://cdn.pydata.org/bokeh/release/bokeh-tables-1.0.2.min.css\");\n    }\n  ];\n\n  function run_inline_js() {\n    \n    if ((root.Bokeh !== undefined) || (force === true)) {\n      for (var i = 0; i < inline_js.length; i++) {\n        inline_js[i].call(root, root.Bokeh);\n      }if (force === true) {\n        display_loaded();\n      }} else if (Date.now() < root._bokeh_timeout) {\n      setTimeout(run_inline_js, 100);\n    } else if (!root._bokeh_failed_load) {\n      console.log(\"Bokeh: BokehJS failed to load within specified timeout.\");\n      root._bokeh_failed_load = true;\n    } else if (force !== true) {\n      var cell = $(document.getElementById(\"1001\")).parents('.cell').data().cell;\n      cell.output_area.append_execute_result(NB_LOAD_WARNING)\n    }\n\n  }\n\n  if (root._bokeh_is_loading === 0) {\n    console.log(\"Bokeh: BokehJS loaded, going straight to plotting\");\n    run_inline_js();\n  } else {\n    load_libs(js_urls, function() {\n      console.log(\"Bokeh: BokehJS plotting callback run at\", now());\n      run_inline_js();\n    });\n  }\n}(window));"
     },
     "metadata": {},
     "output_type": "display_data"
    }
   ],
   "source": [
    "# Add \"beer\" to the PYTHONPATH\n",
    "import random\n",
    "from collections import defaultdict\n",
    "import sys\n",
    "sys.path.insert(0, '../')\n",
    "\n",
    "\n",
    "import beer\n",
    "import numpy as np\n",
    "import torch\n",
    "\n",
    "# For plotting.\n",
    "from bokeh.io import show, output_notebook\n",
    "from bokeh.plotting import figure, gridplot\n",
    "output_notebook()\n",
    "\n",
    "# Convenience functions for plotting.\n",
    "import plotting\n",
    "\n",
    "%load_ext autoreload\n",
    "%autoreload 2"
   ]
  },
  {
   "cell_type": "markdown",
   "metadata": {},
   "source": [
    "## Data\n",
    "\n",
    "Generate some normally distributed data:"
   ]
  },
  {
   "cell_type": "code",
   "execution_count": 2,
   "metadata": {},
   "outputs": [
    {
     "data": {
      "text/html": [
       "\n",
       "\n",
       "\n",
       "\n",
       "\n",
       "\n",
       "  <div class=\"bk-root\" id=\"2922c962-634e-4afe-9a3e-2f0a70ee953c\"></div>\n"
      ]
     },
     "metadata": {},
     "output_type": "display_data"
    },
    {
     "data": {
      "application/javascript": [
       "(function(root) {\n",
       "  function embed_document(root) {\n",
       "    \n",
       "  var docs_json = {\"d00787d2-8387-45d0-b599-188e0a42b68c\":{\"roots\":{\"references\":[{\"attributes\":{\"below\":[{\"id\":\"1013\",\"type\":\"LinearAxis\"}],\"left\":[{\"id\":\"1018\",\"type\":\"LinearAxis\"}],\"plot_height\":400,\"plot_width\":400,\"renderers\":[{\"id\":\"1013\",\"type\":\"LinearAxis\"},{\"id\":\"1017\",\"type\":\"Grid\"},{\"id\":\"1018\",\"type\":\"LinearAxis\"},{\"id\":\"1022\",\"type\":\"Grid\"},{\"id\":\"1031\",\"type\":\"BoxAnnotation\"},{\"id\":\"1041\",\"type\":\"GlyphRenderer\"},{\"id\":\"1046\",\"type\":\"GlyphRenderer\"},{\"id\":\"1051\",\"type\":\"GlyphRenderer\"}],\"title\":{\"id\":\"1002\",\"type\":\"Title\"},\"toolbar\":{\"id\":\"1029\",\"type\":\"Toolbar\"},\"x_range\":{\"id\":\"1005\",\"type\":\"Range1d\"},\"x_scale\":{\"id\":\"1009\",\"type\":\"LinearScale\"},\"y_range\":{\"id\":\"1007\",\"type\":\"Range1d\"},\"y_scale\":{\"id\":\"1011\",\"type\":\"LinearScale\"}},\"id\":\"1003\",\"subtype\":\"Figure\",\"type\":\"Plot\"},{\"attributes\":{\"data_source\":{\"id\":\"1038\",\"type\":\"ColumnDataSource\"},\"glyph\":{\"id\":\"1039\",\"type\":\"Circle\"},\"hover_glyph\":null,\"muted_glyph\":null,\"nonselection_glyph\":{\"id\":\"1040\",\"type\":\"Circle\"},\"selection_glyph\":null,\"view\":{\"id\":\"1042\",\"type\":\"CDSView\"}},\"id\":\"1041\",\"type\":\"GlyphRenderer\"},{\"attributes\":{},\"id\":\"1054\",\"type\":\"BasicTickFormatter\"},{\"attributes\":{},\"id\":\"1027\",\"type\":\"ResetTool\"},{\"attributes\":{\"plot\":null,\"text\":\"Data\"},\"id\":\"1002\",\"type\":\"Title\"},{\"attributes\":{},\"id\":\"1061\",\"type\":\"UnionRenderers\"},{\"attributes\":{},\"id\":\"1028\",\"type\":\"HelpTool\"},{\"attributes\":{\"callback\":null,\"end\":5.0,\"start\":-5.0},\"id\":\"1005\",\"type\":\"Range1d\"},{\"attributes\":{},\"id\":\"1062\",\"type\":\"Selection\"},{\"attributes\":{\"active_drag\":\"auto\",\"active_inspect\":\"auto\",\"active_multi\":null,\"active_scroll\":\"auto\",\"active_tap\":\"auto\",\"tools\":[{\"id\":\"1023\",\"type\":\"PanTool\"},{\"id\":\"1024\",\"type\":\"WheelZoomTool\"},{\"id\":\"1025\",\"type\":\"BoxZoomTool\"},{\"id\":\"1026\",\"type\":\"SaveTool\"},{\"id\":\"1027\",\"type\":\"ResetTool\"},{\"id\":\"1028\",\"type\":\"HelpTool\"}]},\"id\":\"1029\",\"type\":\"Toolbar\"},{\"attributes\":{},\"id\":\"1059\",\"type\":\"UnionRenderers\"},{\"attributes\":{\"source\":{\"id\":\"1038\",\"type\":\"ColumnDataSource\"}},\"id\":\"1042\",\"type\":\"CDSView\"},{\"attributes\":{\"callback\":null,\"end\":5.0,\"start\":-5.0},\"id\":\"1007\",\"type\":\"Range1d\"},{\"attributes\":{},\"id\":\"1063\",\"type\":\"UnionRenderers\"},{\"attributes\":{\"bottom_units\":\"screen\",\"fill_alpha\":{\"value\":0.5},\"fill_color\":{\"value\":\"lightgrey\"},\"left_units\":\"screen\",\"level\":\"overlay\",\"line_alpha\":{\"value\":1.0},\"line_color\":{\"value\":\"black\"},\"line_dash\":[4,4],\"line_width\":{\"value\":2},\"plot\":null,\"render_mode\":\"css\",\"right_units\":\"screen\",\"top_units\":\"screen\"},\"id\":\"1031\",\"type\":\"BoxAnnotation\"},{\"attributes\":{},\"id\":\"1009\",\"type\":\"LinearScale\"},{\"attributes\":{},\"id\":\"1064\",\"type\":\"Selection\"},{\"attributes\":{},\"id\":\"1014\",\"type\":\"BasicTicker\"},{\"attributes\":{},\"id\":\"1011\",\"type\":\"LinearScale\"},{\"attributes\":{\"callback\":null,\"data\":{\"x\":{\"__ndarray__\":\"zTt/Zp6gBkD/aBeat5QGQEpH+7kPcQZAxDZRSMw1BkC/j9WcK+MFQECmRaOEeQVAnt/vf0b5BEBDCska+GIEQH71gZE3twNAdpMykbn2AkCHnkmYSCICQJ6yiCHEOgFAxu/suB9BAEDd6Pb2w2z+P3Rl/gVHN/w/aHu1fRvk+T/TJUl2s3X3PwkMrq6d7vQ/w3Xc24JR8j+F03m5RULvP5J+baujwOk/dhnXbeoj5D8TMwPBAuTcPxjbsFnMYdE/HshwxDM1tz/Yx3DEMzW3vwbbsFnMYdG/ATMDwQLk3L90Gddt6iPkv4l+baujwOm/fNN5uUVC77++ddzbglHyvwQMrq6d7vS/0SVJdrN1979le7V9G+T5v3Nl/gVHN/y/2ej29sNs/r/F7+y4H0EAwJyyiCHEOgHAhp5JmEgiAsBzkzKRufYCwH31gZE3twPAQgrJGvhiBMCd3+9/RvkEwECmRaOEeQXAvo/VnCvjBcDENlFIzDUGwElH+7kPcQbA/2gXmreUBsDNO39mnqAGwM07f2aeoAbA/2gXmreUBsBJR/u5D3EGwMQ2UUjMNQbAvo/VnCvjBcBApkWjhHkFwJ3f739G+QTAQgrJGvhiBMB99YGRN7cDwHOTMpG59gLAhp5JmEgiAsCcsoghxDoBwMXv7LgfQQDA2ej29sNs/r9zZf4FRzf8v2V7tX0b5Pm/0SVJdrN1978EDK6une70v7513NuCUfK/fNN5uUVC77+Jfm2ro8Dpv3QZ123qI+S/ATMDwQLk3L8G27BZzGHRv9jHcMQzNbe/HshwxDM1tz8Y27BZzGHRPxMzA8EC5Nw/dhnXbeoj5D+Sfm2ro8DpP4XTeblFQu8/w3Xc24JR8j8JDK6une70P9MlSXazdfc/aHu1fRvk+T90Zf4FRzf8P93o9vbDbP4/xu/suB9BAECesoghxDoBQIeeSZhIIgJAdpMykbn2AkB+9YGRN7cDQEMKyRr4YgRAnt/vf0b5BEBApkWjhHkFQL+P1Zwr4wVAxDZRSMw1BkBKR/u5D3EGQP9oF5q3lAZAzTt/Zp6gBkA=\",\"dtype\":\"float64\",\"shape\":[100]},\"y\":{\"__ndarray__\":\"m0Vf4fx+9T+/MUnsR9P2PxfR+xKQD/g/IBVMnogy+T/esFZ3/zr6P3RtfmneJ/s/CFMVRyz4+z/5x3zvDav8P5nnqDXHP/0/+pIUpru1/T+T/lUrbwz+PyCbppCGQ/4/egnV4cda/j9SKzyoGlL+P8AufwSIKf4/XYLvpDrh/T+Yy6aYfnn9P5gahP/A8vw/tIZgl49N/D/Q9fMmmIr7PzrpBsenqvo/up2xCqqu+T+xdYsHqJf4P/Bdzz7HZvc/ZIaaaEgd9j+EOooihrz0P4PDG4PzRfM/X+ZNkxq78T/WpB6wmh3wPzyaMqtN3uw/T/yAqgdj6T98+mrzDM3lPyfrIzMjIOI/sJ7rbVDA3D/KZwy2GyLVP0imBZBX28o/6OFMQG6stj8gXHFKWeugv8zBtatwx8O/2CBxPp6f0b8Ye5Qd+kjZv3GiNVfea+C/a/2bU/kh5L+kqzGL5sLnv51ppczUSuu/dMAXMg227r+3n7SEewDxv7ucYc4NlPK/uxWw6xQU9L+aRV/h/H71v5xFX+H8fvW/wTFJ7EfT9r8Z0fsSkA/4vyEVTJ6IMvm/4LBWd/86+r92bX5p3if7vwpTFUcs+Pu/+Md87w2r/L+a56g1xz/9v/qSFKa7tf2/kv5VK28M/r8gm6aQhkP+v3oJ1eHHWv6/Uis8qBpS/r/BLn8EiCn+v16C76Q64f2/mMummH55/b+WGoT/wPL8v7KGYJePTfy/zvXzJpiK+7846QbHp6r6v7qdsQqqrvm/r3WLB6iX+L/tXc8+x2b3v2KGmmhIHfa/gjqKIoa89L+AwxuD80Xzv13mTZMau/G/1qQesJod8L84mjKrTd7sv0v8gKoHY+m/ePpq8wzN5b8j6yMzIyDiv66e621QwNy/vGcMthsi1b88pgWQV9vKv7jhTEBurLa/UFxxSlnroD/kwbWrcMfDP+QgcT6en9E/KnuUHfpI2T92ojVX3mvgP279m1P5IeQ/qKsxi+bC5z+gaaXM1ErrP3zAFzINtu4/uJ+0hHsA8T+/nGHODZTyP70VsOsUFPQ/m0Vf4fx+9T8=\",\"dtype\":\"float64\",\"shape\":[100]}},\"selected\":{\"id\":\"1062\",\"type\":\"Selection\"},\"selection_policy\":{\"id\":\"1061\",\"type\":\"UnionRenderers\"}},\"id\":\"1043\",\"type\":\"ColumnDataSource\"},{\"attributes\":{\"formatter\":{\"id\":\"1054\",\"type\":\"BasicTickFormatter\"},\"plot\":{\"id\":\"1003\",\"subtype\":\"Figure\",\"type\":\"Plot\"},\"ticker\":{\"id\":\"1014\",\"type\":\"BasicTicker\"}},\"id\":\"1013\",\"type\":\"LinearAxis\"},{\"attributes\":{\"fill_alpha\":0.3,\"fill_color\":\"#1f77b4\",\"x\":{\"field\":\"x\"},\"y\":{\"field\":\"y\"}},\"id\":\"1044\",\"type\":\"Patch\"},{\"attributes\":{\"fill_alpha\":0.1,\"fill_color\":\"#1f77b4\",\"line_alpha\":0.1,\"line_color\":\"#1f77b4\",\"x\":{\"field\":\"x\"},\"y\":{\"field\":\"y\"}},\"id\":\"1045\",\"type\":\"Patch\"},{\"attributes\":{\"plot\":{\"id\":\"1003\",\"subtype\":\"Figure\",\"type\":\"Plot\"},\"ticker\":{\"id\":\"1014\",\"type\":\"BasicTicker\"}},\"id\":\"1017\",\"type\":\"Grid\"},{\"attributes\":{\"data_source\":{\"id\":\"1043\",\"type\":\"ColumnDataSource\"},\"glyph\":{\"id\":\"1044\",\"type\":\"Patch\"},\"hover_glyph\":null,\"muted_glyph\":null,\"nonselection_glyph\":{\"id\":\"1045\",\"type\":\"Patch\"},\"selection_glyph\":null,\"view\":{\"id\":\"1047\",\"type\":\"CDSView\"}},\"id\":\"1046\",\"type\":\"GlyphRenderer\"},{\"attributes\":{\"formatter\":{\"id\":\"1056\",\"type\":\"BasicTickFormatter\"},\"plot\":{\"id\":\"1003\",\"subtype\":\"Figure\",\"type\":\"Plot\"},\"ticker\":{\"id\":\"1019\",\"type\":\"BasicTicker\"}},\"id\":\"1018\",\"type\":\"LinearAxis\"},{\"attributes\":{\"source\":{\"id\":\"1043\",\"type\":\"ColumnDataSource\"}},\"id\":\"1047\",\"type\":\"CDSView\"},{\"attributes\":{},\"id\":\"1019\",\"type\":\"BasicTicker\"},{\"attributes\":{\"callback\":null,\"data\":{\"x\":{\"__ndarray__\":\"zTt/Zp6g9j//aBeat5T2P0pH+7kPcfY/xDZRSMw19j+/j9WcK+P1P0CmRaOEefU/nt/vf0b59D9DCska+GL0P371gZE3t/M/dpMykbn28j+HnkmYSCLyP56yiCHEOvE/xu/suB9B8D/d6Pb2w2zuP3Rl/gVHN+w/aHu1fRvk6T/TJUl2s3XnPwkMrq6d7uQ/w3Xc24JR4j+F03m5RULfP5J+baujwNk/dhnXbeoj1D8TMwPBAuTMPxjbsFnMYcE/HshwxDM1pz/Yx3DEMzWnvwbbsFnMYcG/ATMDwQLkzL90Gddt6iPUv4l+baujwNm/fNN5uUVC37++ddzbglHivwQMrq6d7uS/0SVJdrN1579le7V9G+Tpv3Nl/gVHN+y/2ej29sNs7r/F7+y4H0Hwv5yyiCHEOvG/hp5JmEgi8r9zkzKRufbyv331gZE3t/O/QgrJGvhi9L+d3+9/Rvn0v0CmRaOEefW/vo/VnCvj9b/ENlFIzDX2v0lH+7kPcfa//2gXmreU9r/NO39mnqD2v807f2aeoPa//2gXmreU9r9JR/u5D3H2v8Q2UUjMNfa/vo/VnCvj9b9ApkWjhHn1v53f739G+fS/QgrJGvhi9L999YGRN7fzv3OTMpG59vK/hp5JmEgi8r+csoghxDrxv8Xv7LgfQfC/2ej29sNs7r9zZf4FRzfsv2V7tX0b5Om/0SVJdrN1578EDK6une7kv7513NuCUeK/fNN5uUVC37+Jfm2ro8DZv3QZ123qI9S/ATMDwQLkzL8G27BZzGHBv9jHcMQzNae/HshwxDM1pz8Y27BZzGHBPxMzA8EC5Mw/dhnXbeoj1D+Sfm2ro8DZP4XTeblFQt8/w3Xc24JR4j8JDK6une7kP9MlSXazdec/aHu1fRvk6T90Zf4FRzfsP93o9vbDbO4/xu/suB9B8D+esoghxDrxP4eeSZhIIvI/dpMykbn28j9+9YGRN7fzP0MKyRr4YvQ/nt/vf0b59D9ApkWjhHn1P7+P1Zwr4/U/xDZRSMw19j9KR/u5D3H2P/9oF5q3lPY/zTt/Zp6g9j8=\",\"dtype\":\"float64\",\"shape\":[100]},\"y\":{\"__ndarray__\":\"m0Vf4fx+5T+/MUnsR9PmPxfR+xKQD+g/IBVMnogy6T/esFZ3/zrqP3RtfmneJ+s/CFMVRyz46z/5x3zvDavsP5nnqDXHP+0/+pIUpru17T+T/lUrbwzuPyCbppCGQ+4/egnV4cda7j9SKzyoGlLuP8AufwSIKe4/XYLvpDrh7T+Yy6aYfnntP5gahP/A8uw/tIZgl49N7D/Q9fMmmIrrPzrpBsenquo/up2xCqqu6T+xdYsHqJfoP/Bdzz7HZuc/ZIaaaEgd5j+EOooihrzkP4PDG4PzReM/X+ZNkxq74T/WpB6wmh3gPzyaMqtN3tw/T/yAqgdj2T98+mrzDM3VPyfrIzMjINI/sJ7rbVDAzD/KZwy2GyLFP0imBZBX27o/6OFMQG6spj8gXHFKWeuQv8zBtatwx7O/2CBxPp6fwb8Ye5Qd+kjJv3GiNVfea9C/a/2bU/kh1L+kqzGL5sLXv51ppczUStu/dMAXMg223r+3n7SEewDhv7ucYc4NlOK/uxWw6xQU5L+aRV/h/H7lv5xFX+H8fuW/wTFJ7EfT5r8Z0fsSkA/ovyEVTJ6IMum/4LBWd/866r92bX5p3ifrvwpTFUcs+Ou/+Md87w2r7L+a56g1xz/tv/qSFKa7te2/kv5VK28M7r8gm6aQhkPuv3oJ1eHHWu6/Uis8qBpS7r/BLn8EiCnuv16C76Q64e2/mMummH557b+WGoT/wPLsv7KGYJePTey/zvXzJpiK67846QbHp6rqv7qdsQqqrum/r3WLB6iX6L/tXc8+x2bnv2KGmmhIHea/gjqKIoa85L+AwxuD80Xjv13mTZMau+G/1qQesJod4L84mjKrTd7cv0v8gKoHY9m/ePpq8wzN1b8j6yMzIyDSv66e621QwMy/vGcMthsixb88pgWQV9u6v7jhTEBurKa/UFxxSlnrkD/kwbWrcMezP+QgcT6en8E/KnuUHfpIyT92ojVX3mvQP279m1P5IdQ/qKsxi+bC1z+gaaXM1ErbP3zAFzINtt4/uJ+0hHsA4T+/nGHODZTiP70VsOsUFOQ/m0Vf4fx+5T8=\",\"dtype\":\"float64\",\"shape\":[100]}},\"selected\":{\"id\":\"1064\",\"type\":\"Selection\"},\"selection_policy\":{\"id\":\"1063\",\"type\":\"UnionRenderers\"}},\"id\":\"1048\",\"type\":\"ColumnDataSource\"},{\"attributes\":{\"dimension\":1,\"plot\":{\"id\":\"1003\",\"subtype\":\"Figure\",\"type\":\"Plot\"},\"ticker\":{\"id\":\"1019\",\"type\":\"BasicTicker\"}},\"id\":\"1022\",\"type\":\"Grid\"},{\"attributes\":{\"fill_alpha\":0.3,\"fill_color\":\"#1f77b4\",\"x\":{\"field\":\"x\"},\"y\":{\"field\":\"y\"}},\"id\":\"1049\",\"type\":\"Patch\"},{\"attributes\":{\"fill_alpha\":0.1,\"fill_color\":\"#1f77b4\",\"line_alpha\":0.1,\"line_color\":\"#1f77b4\",\"x\":{\"field\":\"x\"},\"y\":{\"field\":\"y\"}},\"id\":\"1050\",\"type\":\"Patch\"},{\"attributes\":{\"fill_alpha\":{\"value\":0.1},\"fill_color\":{\"value\":\"#1f77b4\"},\"line_alpha\":{\"value\":0.1},\"line_color\":{\"value\":\"#1f77b4\"},\"x\":{\"field\":\"x\"},\"y\":{\"field\":\"y\"}},\"id\":\"1040\",\"type\":\"Circle\"},{\"attributes\":{\"data_source\":{\"id\":\"1048\",\"type\":\"ColumnDataSource\"},\"glyph\":{\"id\":\"1049\",\"type\":\"Patch\"},\"hover_glyph\":null,\"muted_glyph\":null,\"nonselection_glyph\":{\"id\":\"1050\",\"type\":\"Patch\"},\"selection_glyph\":null,\"view\":{\"id\":\"1052\",\"type\":\"CDSView\"}},\"id\":\"1051\",\"type\":\"GlyphRenderer\"},{\"attributes\":{},\"id\":\"1023\",\"type\":\"PanTool\"},{\"attributes\":{\"source\":{\"id\":\"1048\",\"type\":\"ColumnDataSource\"}},\"id\":\"1052\",\"type\":\"CDSView\"},{\"attributes\":{},\"id\":\"1024\",\"type\":\"WheelZoomTool\"},{\"attributes\":{\"callback\":null,\"data\":{\"x\":{\"__ndarray__\":\"Ry8AjlppA8DW9Y6bWwUBQJyYoZRwlus/UvRK4RI17z8E73QWBB4BwJxE4AOpLsQ/FoMwDb+J1b/0PnB6Wsj0v87OMKtb1vC/latDA5DA/L8OHp6P9DT6v5d4IHGsrfC/cJkTqIVB2r++YEZzOFfkvyzc4hC8yfe/Y4G3KoAZxz/Dz0qB7R8MwJZBAZ7hmeI/X1HSxX03AsC/hPhSuEC2PwBlTpKu51s/sAXDXYFKAcAatNSLbTf0v9Zjg0vj3KE/oXdhVeOzxj8cLx+ApgO8P0xcQkFDA/q/RPhcxrGMyr/4NcPSGJ4CQHNAPUCyaM4/WBRlFrDQ5b+qn7I3n8P7P2Xs/wqwogXA1+ZveD2T5T/XWyVGznfvv9IIUzccWArAotzx3Ijy0D+vm5/1LBr+v34bZGJdYMw/BYWnkRsUBUAhof2A1hv6P5Oa9FUfSd6/zh+LE7y22z/GiD/WaiP4v/Rj39+KEdE/J9Mh6fqnB0BXeNZfZ/P0P5w38s4ThO+/Z0iH9GaDCMCY7SXjpTwCwH5h7eBX0eE/AFZKn3R82r+78Kbgxy/5v2HSvofV1Pc/so+3odr4uj/uF2mFfqkAwDORt32tGv6/QsHFA0yJwD/1SQNErf7uP8C3xH2I/f6/c2BgN8UI9r80I2f5G2TbvwjRKe6Iof6/XkJPTV0G/j9uKw5/ZOn7v3vssYnee8a/iT0kCWW4+D8wcTO8X6H4PyZE0ZQsCu0//R9a8Ra0479Qw0GBZy34P64Lv7pnoeU/6yA9zVCR6z/Nj9tWtlPZv/okbFIm1s2/8D+7Sy+k9L+y3iMsk57bPwhyzonFVf6/grUbOs699D+2kKYEo8nxPwT6aoQ/dwpAszu1kgsX4j9gzbq4qnzjP6ZGsdIePglAqVf7hE4eBMBIxaKCR3f+P454lDgNMwHAzs+3OloxwL+TJlS1odnTP1pIwbdon/6/2VpxZFCO0z/l95788db6v7lTP8v4TQZASpYjgssO/j9v+yh+q9u+P6TTWh2/mgPAJveIpxpmBsBA19lVS8qdv33DCCeJAuE/VomeTgdlx78=\",\"dtype\":\"float64\",\"shape\":[100]},\"y\":{\"__ndarray__\":\"XF6SMM5+BsCAuu8v8c6pv9xQmI2mDMc/IMgJR3IDkr8gnyuj767NP8cTWxTWv/C/6lFF7sIA1b+vUwrAAHLav2okLSRi/dw/4jjBTqe47L9Fn/lp5eX1v5f7NGfb7+G/9ADNWkOE+r9czQ48hwHRvwkymGpQquq/gOt/assFgD9jAxT2ApD2vwC/rNQFTNA/netu5v4y77++31gFV1Ggv5Gb4w0mzea/bGndcK86wb9K+5kJsqT7vzrFUhf8qNC/5ikB3P6PzD+YWUYF84zVPxLUzm2ccu+/ol5UGktSxL8vK/bulHj5PztiOu4o7ce/fji+bPi51b+O7KhUOkriP+chQXySnfS/1jZhRRiOwr+zAOpeTs/lv2rxbKDsbwnAglBvB9DR4j8pPM9eSR33v7W1Ld90iNC/VdZC372n/T9A5QoYL0G1P5e4Xlc/uMw/IC+eBFrv2L9vxn12hpL2v/rk0AEbZ/s/i2cj5+Fu8j+SJzxZM53tP/VJV/9eot+/f2AH0i9aBMAejSJx+jn2v50VZo31ztk/VBFBzYdT778o6IDdcgHuvypMHScDRuY/RioWPQwx4D+GJshU+9n7v+OHZFu2Nty/GkNQYIZRzT/tQzO2a8vkP/g2yLj03sw//hqvqX+G9b+Akh+Wi3qIvw6lG4jjvfG/OrOeBHiR7z/nEd919yb4vzgBYhK6P+I/sRrGns5S6j/7hgxNgCj0P5nx8WDMXc4/gNDGHpf10D8eng2I0qL5P+ZxfRTR6MC/9DIFGrI44T8UFSFDwI71vxr2CVqZtOm/GFGplbaezT9cT7YqeqXpP2muH2iy5Pm/hpJRaAoU+D89H46DnWHkP3RzKyKK9wVAYldZcviP2D9jQ989GaTkv2dwWiIj5ABA23ef7/ns+L8S+lOCWiPuP06YPPZFz++/0GHgEMAQ5r9uihWnLUjFP3zIdH0bwtC/BAFIGV7lyL8+OaaET2j0v/S/b2AiYts/pDcWx4KO+T8uep0Ess7APxGSpppSDvW/CtyqcdPM/L+MozY0ESvov/2Kj6AWFNU/dOxHDb8o5L8=\",\"dtype\":\"float64\",\"shape\":[100]}},\"selected\":{\"id\":\"1060\",\"type\":\"Selection\"},\"selection_policy\":{\"id\":\"1059\",\"type\":\"UnionRenderers\"}},\"id\":\"1038\",\"type\":\"ColumnDataSource\"},{\"attributes\":{},\"id\":\"1060\",\"type\":\"Selection\"},{\"attributes\":{\"overlay\":{\"id\":\"1031\",\"type\":\"BoxAnnotation\"}},\"id\":\"1025\",\"type\":\"BoxZoomTool\"},{\"attributes\":{},\"id\":\"1056\",\"type\":\"BasicTickFormatter\"},{\"attributes\":{},\"id\":\"1026\",\"type\":\"SaveTool\"},{\"attributes\":{\"fill_color\":{\"value\":\"#1f77b4\"},\"line_color\":{\"value\":\"#1f77b4\"},\"x\":{\"field\":\"x\"},\"y\":{\"field\":\"y\"}},\"id\":\"1039\",\"type\":\"Circle\"}],\"root_ids\":[\"1003\"]},\"title\":\"Bokeh Application\",\"version\":\"1.0.2\"}};\n",
       "  var render_items = [{\"docid\":\"d00787d2-8387-45d0-b599-188e0a42b68c\",\"roots\":{\"1003\":\"2922c962-634e-4afe-9a3e-2f0a70ee953c\"}}];\n",
       "  root.Bokeh.embed.embed_items_notebook(docs_json, render_items);\n",
       "\n",
       "  }\n",
       "  if (root.Bokeh !== undefined) {\n",
       "    embed_document(root);\n",
       "  } else {\n",
       "    var attempts = 0;\n",
       "    var timer = setInterval(function(root) {\n",
       "      if (root.Bokeh !== undefined) {\n",
       "        embed_document(root);\n",
       "        clearInterval(timer);\n",
       "      }\n",
       "      attempts++;\n",
       "      if (attempts > 100) {\n",
       "        console.log(\"Bokeh: ERROR: Unable to run BokehJS code because BokehJS library is missing\");\n",
       "        clearInterval(timer);\n",
       "      }\n",
       "    }, 10, root)\n",
       "  }\n",
       "})(window);"
      ],
      "application/vnd.bokehjs_exec.v0+json": ""
     },
     "metadata": {
      "application/vnd.bokehjs_exec.v0+json": {
       "id": "1003"
      }
     },
     "output_type": "display_data"
    }
   ],
   "source": [
    "mean = np.zeros(2) \n",
    "cov = np.array([\n",
    "    [2, .95],\n",
    "    [.95, .9]\n",
    "])\n",
    "data = np.random.multivariate_normal(mean, cov, size=100)\n",
    "\n",
    "fig = figure(\n",
    "    title='Data',\n",
    "    width=400,\n",
    "    height=400,\n",
    "    x_range=(mean[0] - 5, mean[0] + 5),\n",
    "    y_range=(mean[1] - 5, mean[1] + 5)\n",
    ")\n",
    "fig.circle(data[:, 0], data[:, 1])\n",
    "plotting.plot_normal(fig, mean, cov, line_color='black', fill_alpha=.3)\n",
    "\n",
    "show(fig)"
   ]
  },
  {
   "cell_type": "markdown",
   "metadata": {},
   "source": [
    "## Model Creation\n",
    "\n",
    "We create two types of Normal distribution: one diagonal covariance matrix and another one with full covariance matrix."
   ]
  },
  {
   "cell_type": "code",
   "execution_count": 3,
   "metadata": {},
   "outputs": [
    {
     "data": {
      "text/plain": [
       "Normal(\n",
       "  (mean_precision): ConjugateBayesianParameter(prior=NormalGamma, posterior=NormalGamma)\n",
       ")"
      ]
     },
     "execution_count": 3,
     "metadata": {},
     "output_type": "execute_result"
    }
   ],
   "source": [
    "data_mean = torch.zeros(2) \n",
    "data_var = torch.ones(2)\n",
    "\n",
    "#normal_iso = beer.Normal.create(data_mean, data_var, 1., cov_type='isotropic')\n",
    "normal_diag = beer.Normal.create(data_mean, data_var, 1., cov_type='diagonal')\n",
    "#normal_full = beer.Normal.create(data_mean, data_var, 1., cov_type='full')\n",
    "\n",
    "models = {\n",
    "    #'normal_full': normal_full,\n",
    "    'normal_diag': normal_diag,\n",
    "    #'normal_iso': normal_iso\n",
    "}\n",
    "models['normal_diag']"
   ]
  },
  {
   "cell_type": "code",
   "execution_count": 4,
   "metadata": {},
   "outputs": [
    {
     "data": {
      "text/plain": [
       "NormalGamma(\n",
       "  (params): NormalGammaStdParams(mean=tensor([0., 0.]), scale=tensor(1.), shape=tensor(1.), rates=tensor([1., 1.]))\n",
       ")"
      ]
     },
     "execution_count": 4,
     "metadata": {},
     "output_type": "execute_result"
    }
   ],
   "source": [
    "model = models['normal_diag']\n",
    "model.mean_precision.prior"
   ]
  },
  {
   "cell_type": "code",
   "execution_count": 5,
   "metadata": {},
   "outputs": [
    {
     "data": {
      "text/plain": [
       "torch.Size([2])"
      ]
     },
     "execution_count": 5,
     "metadata": {},
     "output_type": "execute_result"
    }
   ],
   "source": [
    "model.mean_precision.posterior.params.mean.shape"
   ]
  },
  {
   "cell_type": "markdown",
   "metadata": {},
   "source": [
    "## Variational Bayes Training "
   ]
  },
  {
   "cell_type": "code",
   "execution_count": 6,
   "metadata": {},
   "outputs": [
    {
     "data": {
      "text/plain": [
       "torch.Size([1, 100, 2])"
      ]
     },
     "execution_count": 6,
     "metadata": {},
     "output_type": "execute_result"
    }
   ],
   "source": [
    "nbatches = 1\n",
    "X = torch.from_numpy(data).float()\n",
    "batches = X.view(nbatches, -1, 2)\n",
    "batches.shape"
   ]
  },
  {
   "cell_type": "code",
   "execution_count": 7,
   "metadata": {
    "scrolled": false
   },
   "outputs": [],
   "source": [
    "epochs = 10\n",
    "lrate = 1.\n",
    "\n",
    "\n",
    "optims = {\n",
    "    model_name: beer.VariationalBayesOptimizer(\n",
    "        model.mean_field_factorization(), lrate)\n",
    "    for model_name, model in models.items()\n",
    "}\n",
    "\n",
    "elbos = {\n",
    "    model_name: [] \n",
    "    for model_name in models\n",
    "}  \n",
    "\n",
    "\n",
    "for epoch in range(epochs):\n",
    "    for name, model in models.items():\n",
    "        batch_ids = list(range(len(batches)))\n",
    "        random.shuffle(batch_ids)\n",
    "        for batch_id in batch_ids:\n",
    "            batch = batches[batch_id]\n",
    "            \n",
    "            optim = optims[name]\n",
    "\n",
    "            optim.init_step()\n",
    "            elbo = beer.evidence_lower_bound(model, batch, datasize=len(X))\n",
    "            elbo.backward()\n",
    "            optim.step()\n",
    "            \n",
    "            elbo = beer.evidence_lower_bound(model, X)\n",
    "            elbos[name].append(float(elbo) / len(X))  "
   ]
  },
  {
   "cell_type": "code",
   "execution_count": 8,
   "metadata": {
    "scrolled": false
   },
   "outputs": [
    {
     "data": {
      "text/html": [
       "\n",
       "\n",
       "\n",
       "\n",
       "\n",
       "\n",
       "  <div class=\"bk-root\" id=\"8c9076c7-c4b2-43e3-8c88-eaefbde497b4\"></div>\n"
      ]
     },
     "metadata": {},
     "output_type": "display_data"
    },
    {
     "data": {
      "application/javascript": [
       "(function(root) {\n",
       "  function embed_document(root) {\n",
       "    \n",
       "  var docs_json = {\"b7e2ef07-afc5-4dec-8e10-ef1fbe95f5fe\":{\"roots\":{\"references\":[{\"attributes\":{\"below\":[{\"id\":\"1148\",\"type\":\"LinearAxis\"}],\"left\":[{\"id\":\"1153\",\"type\":\"LinearAxis\"}],\"plot_height\":400,\"plot_width\":400,\"renderers\":[{\"id\":\"1148\",\"type\":\"LinearAxis\"},{\"id\":\"1152\",\"type\":\"Grid\"},{\"id\":\"1153\",\"type\":\"LinearAxis\"},{\"id\":\"1157\",\"type\":\"Grid\"},{\"id\":\"1166\",\"type\":\"BoxAnnotation\"},{\"id\":\"1184\",\"type\":\"Legend\"},{\"id\":\"1176\",\"type\":\"GlyphRenderer\"}],\"title\":{\"id\":\"1137\",\"type\":\"Title\"},\"toolbar\":{\"id\":\"1164\",\"type\":\"Toolbar\"},\"x_range\":{\"id\":\"1140\",\"type\":\"DataRange1d\"},\"x_scale\":{\"id\":\"1144\",\"type\":\"LinearScale\"},\"y_range\":{\"id\":\"1142\",\"type\":\"DataRange1d\"},\"y_scale\":{\"id\":\"1146\",\"type\":\"LinearScale\"}},\"id\":\"1138\",\"subtype\":\"Figure\",\"type\":\"Plot\"},{\"attributes\":{},\"id\":\"1158\",\"type\":\"PanTool\"},{\"attributes\":{},\"id\":\"1181\",\"type\":\"BasicTickFormatter\"},{\"attributes\":{\"active_drag\":\"auto\",\"active_inspect\":\"auto\",\"active_multi\":null,\"active_scroll\":\"auto\",\"active_tap\":\"auto\",\"tools\":[{\"id\":\"1158\",\"type\":\"PanTool\"},{\"id\":\"1159\",\"type\":\"WheelZoomTool\"},{\"id\":\"1160\",\"type\":\"BoxZoomTool\"},{\"id\":\"1161\",\"type\":\"SaveTool\"},{\"id\":\"1162\",\"type\":\"ResetTool\"},{\"id\":\"1163\",\"type\":\"HelpTool\"}]},\"id\":\"1164\",\"type\":\"Toolbar\"},{\"attributes\":{\"items\":[{\"id\":\"1185\",\"type\":\"LegendItem\"}],\"location\":\"bottom_right\",\"plot\":{\"id\":\"1138\",\"subtype\":\"Figure\",\"type\":\"Plot\"}},\"id\":\"1184\",\"type\":\"Legend\"},{\"attributes\":{\"line_color\":\"blue\",\"x\":{\"field\":\"x\"},\"y\":{\"field\":\"y\"}},\"id\":\"1174\",\"type\":\"Line\"},{\"attributes\":{\"data_source\":{\"id\":\"1173\",\"type\":\"ColumnDataSource\"},\"glyph\":{\"id\":\"1174\",\"type\":\"Line\"},\"hover_glyph\":null,\"muted_glyph\":null,\"nonselection_glyph\":{\"id\":\"1175\",\"type\":\"Line\"},\"selection_glyph\":null,\"view\":{\"id\":\"1177\",\"type\":\"CDSView\"}},\"id\":\"1176\",\"type\":\"GlyphRenderer\"},{\"attributes\":{},\"id\":\"1179\",\"type\":\"BasicTickFormatter\"},{\"attributes\":{\"label\":{\"value\":\"normal_diag\"},\"renderers\":[{\"id\":\"1176\",\"type\":\"GlyphRenderer\"}]},\"id\":\"1185\",\"type\":\"LegendItem\"},{\"attributes\":{\"source\":{\"id\":\"1173\",\"type\":\"ColumnDataSource\"}},\"id\":\"1177\",\"type\":\"CDSView\"},{\"attributes\":{},\"id\":\"1204\",\"type\":\"UnionRenderers\"},{\"attributes\":{},\"id\":\"1146\",\"type\":\"LinearScale\"},{\"attributes\":{},\"id\":\"1205\",\"type\":\"Selection\"},{\"attributes\":{\"overlay\":{\"id\":\"1166\",\"type\":\"BoxAnnotation\"}},\"id\":\"1160\",\"type\":\"BoxZoomTool\"},{\"attributes\":{},\"id\":\"1161\",\"type\":\"SaveTool\"},{\"attributes\":{},\"id\":\"1144\",\"type\":\"LinearScale\"},{\"attributes\":{\"plot\":null,\"text\":\"ELBO\"},\"id\":\"1137\",\"type\":\"Title\"},{\"attributes\":{\"callback\":null},\"id\":\"1142\",\"type\":\"DataRange1d\"},{\"attributes\":{\"bottom_units\":\"screen\",\"fill_alpha\":{\"value\":0.5},\"fill_color\":{\"value\":\"lightgrey\"},\"left_units\":\"screen\",\"level\":\"overlay\",\"line_alpha\":{\"value\":1.0},\"line_color\":{\"value\":\"black\"},\"line_dash\":[4,4],\"line_width\":{\"value\":2},\"plot\":null,\"render_mode\":\"css\",\"right_units\":\"screen\",\"top_units\":\"screen\"},\"id\":\"1166\",\"type\":\"BoxAnnotation\"},{\"attributes\":{\"callback\":null},\"id\":\"1140\",\"type\":\"DataRange1d\"},{\"attributes\":{\"dimension\":1,\"plot\":{\"id\":\"1138\",\"subtype\":\"Figure\",\"type\":\"Plot\"},\"ticker\":{\"id\":\"1154\",\"type\":\"BasicTicker\"}},\"id\":\"1157\",\"type\":\"Grid\"},{\"attributes\":{},\"id\":\"1163\",\"type\":\"HelpTool\"},{\"attributes\":{},\"id\":\"1162\",\"type\":\"ResetTool\"},{\"attributes\":{\"line_alpha\":0.1,\"line_color\":\"#1f77b4\",\"x\":{\"field\":\"x\"},\"y\":{\"field\":\"y\"}},\"id\":\"1175\",\"type\":\"Line\"},{\"attributes\":{\"axis_label\":\"step\",\"formatter\":{\"id\":\"1179\",\"type\":\"BasicTickFormatter\"},\"plot\":{\"id\":\"1138\",\"subtype\":\"Figure\",\"type\":\"Plot\"},\"ticker\":{\"id\":\"1149\",\"type\":\"BasicTicker\"}},\"id\":\"1148\",\"type\":\"LinearAxis\"},{\"attributes\":{\"plot\":{\"id\":\"1138\",\"subtype\":\"Figure\",\"type\":\"Plot\"},\"ticker\":{\"id\":\"1149\",\"type\":\"BasicTicker\"}},\"id\":\"1152\",\"type\":\"Grid\"},{\"attributes\":{},\"id\":\"1149\",\"type\":\"BasicTicker\"},{\"attributes\":{\"callback\":null,\"data\":{\"x\":[0,1,2,3,4,5,6,7,8,9],\"y\":[-3.413580322265625,-3.413580322265625,-3.413580322265625,-3.413580322265625,-3.413580322265625,-3.413580322265625,-3.413580322265625,-3.413580322265625,-3.413580322265625,-3.413580322265625]},\"selected\":{\"id\":\"1205\",\"type\":\"Selection\"},\"selection_policy\":{\"id\":\"1204\",\"type\":\"UnionRenderers\"}},\"id\":\"1173\",\"type\":\"ColumnDataSource\"},{\"attributes\":{},\"id\":\"1154\",\"type\":\"BasicTicker\"},{\"attributes\":{},\"id\":\"1159\",\"type\":\"WheelZoomTool\"},{\"attributes\":{\"axis_label\":\"ln p(X)\",\"formatter\":{\"id\":\"1181\",\"type\":\"BasicTickFormatter\"},\"plot\":{\"id\":\"1138\",\"subtype\":\"Figure\",\"type\":\"Plot\"},\"ticker\":{\"id\":\"1154\",\"type\":\"BasicTicker\"}},\"id\":\"1153\",\"type\":\"LinearAxis\"}],\"root_ids\":[\"1138\"]},\"title\":\"Bokeh Application\",\"version\":\"1.0.2\"}};\n",
       "  var render_items = [{\"docid\":\"b7e2ef07-afc5-4dec-8e10-ef1fbe95f5fe\",\"roots\":{\"1138\":\"8c9076c7-c4b2-43e3-8c88-eaefbde497b4\"}}];\n",
       "  root.Bokeh.embed.embed_items_notebook(docs_json, render_items);\n",
       "\n",
       "  }\n",
       "  if (root.Bokeh !== undefined) {\n",
       "    embed_document(root);\n",
       "  } else {\n",
       "    var attempts = 0;\n",
       "    var timer = setInterval(function(root) {\n",
       "      if (root.Bokeh !== undefined) {\n",
       "        embed_document(root);\n",
       "        clearInterval(timer);\n",
       "      }\n",
       "      attempts++;\n",
       "      if (attempts > 100) {\n",
       "        console.log(\"Bokeh: ERROR: Unable to run BokehJS code because BokehJS library is missing\");\n",
       "        clearInterval(timer);\n",
       "      }\n",
       "    }, 10, root)\n",
       "  }\n",
       "})(window);"
      ],
      "application/vnd.bokehjs_exec.v0+json": ""
     },
     "metadata": {
      "application/vnd.bokehjs_exec.v0+json": {
       "id": "1138"
      }
     },
     "output_type": "display_data"
    }
   ],
   "source": [
    "colors = {\n",
    "    'normal_iso': 'green',\n",
    "    'normal_diag': 'blue',\n",
    "    'normal_full': 'red',\n",
    "    \n",
    "}\n",
    "# Plot the ELBO.\n",
    "fig = figure(title='ELBO', width=400, height=400, x_axis_label='step',\n",
    "              y_axis_label='ln p(X)')\n",
    "for model_name, elbo in elbos.items():\n",
    "    fig.line(range(len(elbo)), elbo, legend=model_name, color=colors[model_name])\n",
    "fig.legend.location = 'bottom_right'\n",
    "\n",
    "show(fig)"
   ]
  },
  {
   "cell_type": "code",
   "execution_count": 9,
   "metadata": {
    "scrolled": false
   },
   "outputs": [
    {
     "data": {
      "text/html": [
       "\n",
       "\n",
       "\n",
       "\n",
       "\n",
       "\n",
       "  <div class=\"bk-root\" id=\"3252ceda-ce8f-404b-abec-eb06afa011aa\"></div>\n"
      ]
     },
     "metadata": {},
     "output_type": "display_data"
    },
    {
     "data": {
      "application/javascript": [
       "(function(root) {\n",
       "  function embed_document(root) {\n",
       "    \n",
       "  var docs_json = {\"da53eb10-428d-43c4-85ae-7ef658a7b78d\":{\"roots\":{\"references\":[{\"attributes\":{\"below\":[{\"id\":\"1263\",\"type\":\"LinearAxis\"}],\"left\":[{\"id\":\"1268\",\"type\":\"LinearAxis\"}],\"plot_height\":400,\"plot_width\":400,\"renderers\":[{\"id\":\"1263\",\"type\":\"LinearAxis\"},{\"id\":\"1267\",\"type\":\"Grid\"},{\"id\":\"1268\",\"type\":\"LinearAxis\"},{\"id\":\"1272\",\"type\":\"Grid\"},{\"id\":\"1281\",\"type\":\"BoxAnnotation\"},{\"id\":\"1291\",\"type\":\"GlyphRenderer\"},{\"id\":\"1296\",\"type\":\"GlyphRenderer\"},{\"id\":\"1301\",\"type\":\"GlyphRenderer\"}],\"title\":{\"id\":\"1324\",\"type\":\"Title\"},\"toolbar\":{\"id\":\"1279\",\"type\":\"Toolbar\"},\"x_range\":{\"id\":\"1255\",\"type\":\"Range1d\"},\"x_scale\":{\"id\":\"1259\",\"type\":\"LinearScale\"},\"y_range\":{\"id\":\"1257\",\"type\":\"Range1d\"},\"y_scale\":{\"id\":\"1261\",\"type\":\"LinearScale\"}},\"id\":\"1254\",\"subtype\":\"Figure\",\"type\":\"Plot\"},{\"attributes\":{\"plot\":null,\"text\":\"\"},\"id\":\"1324\",\"type\":\"Title\"},{\"attributes\":{\"dimension\":1,\"plot\":{\"id\":\"1254\",\"subtype\":\"Figure\",\"type\":\"Plot\"},\"ticker\":{\"id\":\"1269\",\"type\":\"BasicTicker\"}},\"id\":\"1272\",\"type\":\"Grid\"},{\"attributes\":{},\"id\":\"1276\",\"type\":\"SaveTool\"},{\"attributes\":{},\"id\":\"1325\",\"type\":\"BasicTickFormatter\"},{\"attributes\":{\"fill_color\":{\"value\":\"#1f77b4\"},\"line_color\":{\"value\":\"#1f77b4\"},\"x\":{\"field\":\"x\"},\"y\":{\"field\":\"y\"}},\"id\":\"1289\",\"type\":\"Circle\"},{\"attributes\":{\"formatter\":{\"id\":\"1325\",\"type\":\"BasicTickFormatter\"},\"plot\":{\"id\":\"1254\",\"subtype\":\"Figure\",\"type\":\"Plot\"},\"ticker\":{\"id\":\"1264\",\"type\":\"BasicTicker\"}},\"id\":\"1263\",\"type\":\"LinearAxis\"},{\"attributes\":{},\"id\":\"1277\",\"type\":\"ResetTool\"},{\"attributes\":{},\"id\":\"1327\",\"type\":\"BasicTickFormatter\"},{\"attributes\":{},\"id\":\"1269\",\"type\":\"BasicTicker\"},{\"attributes\":{\"formatter\":{\"id\":\"1327\",\"type\":\"BasicTickFormatter\"},\"plot\":{\"id\":\"1254\",\"subtype\":\"Figure\",\"type\":\"Plot\"},\"ticker\":{\"id\":\"1269\",\"type\":\"BasicTicker\"}},\"id\":\"1268\",\"type\":\"LinearAxis\"},{\"attributes\":{},\"id\":\"1264\",\"type\":\"BasicTicker\"},{\"attributes\":{},\"id\":\"1278\",\"type\":\"HelpTool\"},{\"attributes\":{},\"id\":\"1330\",\"type\":\"UnionRenderers\"},{\"attributes\":{\"active_drag\":\"auto\",\"active_inspect\":\"auto\",\"active_multi\":null,\"active_scroll\":\"auto\",\"active_tap\":\"auto\",\"tools\":[{\"id\":\"1273\",\"type\":\"PanTool\"},{\"id\":\"1274\",\"type\":\"WheelZoomTool\"},{\"id\":\"1275\",\"type\":\"BoxZoomTool\"},{\"id\":\"1276\",\"type\":\"SaveTool\"},{\"id\":\"1277\",\"type\":\"ResetTool\"},{\"id\":\"1278\",\"type\":\"HelpTool\"}]},\"id\":\"1279\",\"type\":\"Toolbar\"},{\"attributes\":{},\"id\":\"1331\",\"type\":\"Selection\"},{\"attributes\":{},\"id\":\"1332\",\"type\":\"UnionRenderers\"},{\"attributes\":{\"bottom_units\":\"screen\",\"fill_alpha\":{\"value\":0.5},\"fill_color\":{\"value\":\"lightgrey\"},\"left_units\":\"screen\",\"level\":\"overlay\",\"line_alpha\":{\"value\":1.0},\"line_color\":{\"value\":\"black\"},\"line_dash\":[4,4],\"line_width\":{\"value\":2},\"plot\":null,\"render_mode\":\"css\",\"right_units\":\"screen\",\"top_units\":\"screen\"},\"id\":\"1281\",\"type\":\"BoxAnnotation\"},{\"attributes\":{\"fill_alpha\":{\"value\":0.1},\"fill_color\":{\"value\":\"#1f77b4\"},\"line_alpha\":{\"value\":0.1},\"line_color\":{\"value\":\"#1f77b4\"},\"x\":{\"field\":\"x\"},\"y\":{\"field\":\"y\"}},\"id\":\"1290\",\"type\":\"Circle\"},{\"attributes\":{},\"id\":\"1273\",\"type\":\"PanTool\"},{\"attributes\":{\"data_source\":{\"id\":\"1288\",\"type\":\"ColumnDataSource\"},\"glyph\":{\"id\":\"1289\",\"type\":\"Circle\"},\"hover_glyph\":null,\"muted_glyph\":null,\"nonselection_glyph\":{\"id\":\"1290\",\"type\":\"Circle\"},\"selection_glyph\":null,\"view\":{\"id\":\"1292\",\"type\":\"CDSView\"}},\"id\":\"1291\",\"type\":\"GlyphRenderer\"},{\"attributes\":{\"overlay\":{\"id\":\"1281\",\"type\":\"BoxAnnotation\"}},\"id\":\"1275\",\"type\":\"BoxZoomTool\"},{\"attributes\":{},\"id\":\"1334\",\"type\":\"UnionRenderers\"},{\"attributes\":{\"source\":{\"id\":\"1288\",\"type\":\"ColumnDataSource\"}},\"id\":\"1292\",\"type\":\"CDSView\"},{\"attributes\":{},\"id\":\"1335\",\"type\":\"Selection\"},{\"attributes\":{\"fill_alpha\":0.3,\"fill_color\":\"#98AFC7\",\"x\":{\"field\":\"x\"},\"y\":{\"field\":\"y\"}},\"id\":\"1294\",\"type\":\"Patch\"},{\"attributes\":{},\"id\":\"1333\",\"type\":\"Selection\"},{\"attributes\":{\"fill_alpha\":0.1,\"fill_color\":\"#1f77b4\",\"line_alpha\":0.1,\"line_color\":\"#1f77b4\",\"x\":{\"field\":\"x\"},\"y\":{\"field\":\"y\"}},\"id\":\"1295\",\"type\":\"Patch\"},{\"attributes\":{\"plot\":{\"id\":\"1254\",\"subtype\":\"Figure\",\"type\":\"Plot\"},\"ticker\":{\"id\":\"1264\",\"type\":\"BasicTicker\"}},\"id\":\"1267\",\"type\":\"Grid\"},{\"attributes\":{\"data_source\":{\"id\":\"1293\",\"type\":\"ColumnDataSource\"},\"glyph\":{\"id\":\"1294\",\"type\":\"Patch\"},\"hover_glyph\":null,\"muted_glyph\":null,\"nonselection_glyph\":{\"id\":\"1295\",\"type\":\"Patch\"},\"selection_glyph\":null,\"view\":{\"id\":\"1297\",\"type\":\"CDSView\"}},\"id\":\"1296\",\"type\":\"GlyphRenderer\"},{\"attributes\":{},\"id\":\"1261\",\"type\":\"LinearScale\"},{\"attributes\":{\"source\":{\"id\":\"1293\",\"type\":\"ColumnDataSource\"}},\"id\":\"1297\",\"type\":\"CDSView\"},{\"attributes\":{},\"id\":\"1259\",\"type\":\"LinearScale\"},{\"attributes\":{\"callback\":null,\"data\":{\"x\":{\"__ndarray__\":\"AAAA4Fih9D9fzXxUdJT0P+3b/EHUbfQ/DK5YSqEt9D+kUXn2HtTzP+4mTW+rYfM/ynq6Gr/W8j+GJ/gc7DPyPyV40b7defE/Jwd3uVep8D9cSTTRaobvP462VsfRkO0/cqRd/vNz6z/Y6GRuCjLpPwCjEwh1zeY/oRMVNbhI5D+tTDMyeqbhPzCuuYsA090/2LYHrFcp2D/yZM/A7lXSPxCL42HNvcg/nJ8acRcquT8AM53FgTFfP04tK+tjcri/PnkXyZXEyL9XQ3QbS6vSv6M0NQX98Ni/KZ3Fgccs37/yUyPuDaziv7/ieFg+tuW/dLJnYMKx6L9o2wPWdpvrvxPX3EVLcO6/VqYZmaKW8L/PiYqawefxv3/RCQQgKvO/anQyt2pc9L840i5/X331v0Zbq2POi/a/rSSa6JqG978lB3c5vWz4vyR40T5DPfm/hSf4nFH3+b/JerqaJJr6v+4mTe8QJfu/pFF5doSX+78MrljKBvH7v+zb/ME5Mfy/X8181NlX/L8AAABgvmT8vwAAAGC+ZPy/X8181NlX/L/s2/zBOTH8vwyuWMoG8fu/pFF5doSX+7/uJk3vECX7v8l6upokmvq/hSf4nFH3+b8keNE+Qz35vyUHdzm9bPi/rSSa6JqG979GW6tjzov2vzjSLn9fffW/anQyt2pc9L9/0QkEICrzv8+JiprB5/G/VqYZmaKW8L8T19xFS3Duv2jbA9Z2m+u/dLJnYMKx6L+/4nhYPrblv/JTI+4NrOK/KZ3Fgccs37+jNDUF/fDYv1dDdBtLq9K/PnkXyZXEyL9OLSvrY3K4vwAzncWBMV8/nJ8acRcquT8Qi+Nhzb3IP/Jkz8DuVdI/2LYHrFcp2D8wrrmLANPdP61MMzJ6puE/oRMVNbhI5D8AoxMIdc3mP9joZG4KMuk/cqRd/vNz6z+OtlbH0ZDtP1xJNNFqhu8/Jwd3uVep8D8leNG+3XnxP4Yn+BzsM/I/ynq6Gr/W8j/uJk1vq2HzP6RRefYe1PM/DK5YSqEt9D/t2/xB1G30P1/NfFR0lPQ/AAAA4Fih9D8=\",\"dtype\":\"float64\",\"shape\":[100]},\"y\":{\"__ndarray__\":\"AAAAAJO9yr+EZyhR+BjCv0JP02fq+rK/IGpcK/WCfr+ozIGRleitPxxs6yjHiL8/ekO7Y+rhxz/YXzNZMMrPP8aciQByutM/VsltVvps1z+cSad3zfjaP/T5qmUwWt4/g3BPY8rG4D8Gh4BRzkfiPyVFNPiOruM/1D/T8pL55D9ilmMKfifmP/ix16MSN+c/c/MpDjMn6D/C1+Wu4vboPw5s4gtHpek/qIgWsagx6j92DZXxc5vqP5Ic5oI54uo/mucZ8q4F6z+a5xnyrgXrP5Ic5oI54uo/dg2V8XOb6j+oiBaxqDHqPw5s4gtHpek/w9flruL26D908ykOMyfoP/mx16MSN+c/Y5ZjCn4n5j/WP9PykvnkPyZFNPiOruM/CIeAUc5H4j+EcE9jysbgP/r5qmUwWt4/oEmnd8342j9gyW1W+mzXP8yciQByutM/3F8zWTDKzz+IQ7tj6uHHPyxs6yjHiL8/6MyBkZXorT/gaFwr9YJ+vxxP02fq+rK/eGcoUfgYwr/7////kr3KvwUAAACTvcq/RMxr1xax0b85LAtm2P7Vv1yOUiuHQ9q/nTkwsqV63r+GbR1l4k/hv+LQ7hhEV+O/99dMllVR5b9mzkSAAjznv7DkNqtGFem/0KTTOzDb6r/9fNWy4Yvsv4RwT+OTJe6/CIeA0Zem77+TIho8rIbwv+ufaTkuLPG/MssxxSPD8b/82OsR7kryv7r5FEf+wvK/4utyF9Yq878HNvFFCILzv1REixg5yPO/u4bKuB79879JDnOBgSD0v83zDDk8MvS/zfMMOTwy9L9JDnOBgSD0v7uGyrge/fO/VESLGDnI878HNvFFCILzv+HrchfWKvO/uvkUR/7C8r/82OsR7kryvzHLMcUjw/G/6p9pOS4s8b+SIho8rIbwvwaHgNGXpu+/g3BP45Ml7r/6fNWy4Yvsv86k0zsw2+q/q+Q2q0YV6b9jzkSAAjznv/bXTJZVUeW/3tDuGERX47+EbR1l4k/hv5U5MLKlet6/WI5SK4dD2r8wLAtm2P7Vvz7Ma9cWsdG/AAAAAJO9yr8=\",\"dtype\":\"float64\",\"shape\":[100]}},\"selected\":{\"id\":\"1335\",\"type\":\"Selection\"},\"selection_policy\":{\"id\":\"1334\",\"type\":\"UnionRenderers\"}},\"id\":\"1298\",\"type\":\"ColumnDataSource\"},{\"attributes\":{\"callback\":null,\"end\":5,\"start\":-5},\"id\":\"1257\",\"type\":\"Range1d\"},{\"attributes\":{\"fill_alpha\":0.3,\"fill_color\":\"#98AFC7\",\"x\":{\"field\":\"x\"},\"y\":{\"field\":\"y\"}},\"id\":\"1299\",\"type\":\"Patch\"},{\"attributes\":{\"callback\":null,\"data\":{\"x\":{\"__ndarray__\":\"AAAAQDKSBkBfzXy0TYUGQO3b/KGtXgZADK5YqnoeBkCkUXlW+MQFQO4mTc+EUgVAynq6epjHBECGJ/h8xSQEQCV40R63agNAJwd3GTGaAkCuJJrIDrQBQEdbq0NCuQBAcqRdvqZV/z/Y6GQuvRP9PwCjE8gnr/o/oRMV9Woq+D+tTDPyLIj1PxjX3AUzy/I/2LYHLL3s7z/yZM9AVBnqP4jF8TBMIuQ/zk+NuNYb3D/MdBYHXIrPP8hKU1PIbKo/ffIukpV7wr+uhug2y8/Vv6M0NYWXLeG/KZ3FAWJp57/kp0ZctpTtv7/ieJiL1PG/dLJnoA/Q9L9o2wMWxLn3vxPX3IWYjvq/q0wzcpJL/b+eExV10O3/v3/RCaRGOQHAanQyV5FrAsA40i4fhowDwEZbqwP1mgTArSSaiMGVBcAlB3fZ43sGwCR40d5pTAfAhSf4PHgGCMDJero6S6kIwO4mTY83NAnApFF5FqumCcAMrlhqLQAKwOzb/GFgQArAX818dABnCsAAAAAA5XMKwAAAAADlcwrAX818dABnCsDs2/xhYEAKwAyuWGotAArApFF5FqumCcDuJk2PNzQJwMl6ujpLqQjAhSf4PHgGCMAkeNHeaUwHwCUHd9njewbArSSaiMGVBcBGW6sD9ZoEwDjSLh+GjAPAanQyV5FrAsB/0QmkRjkBwJ4TFXXQ7f+/q0wzcpJL/b8T19yFmI76v2jbAxbEufe/dLJnoA/Q9L+/4niYi9Txv+SnRly2lO2/KZ3FAWJp57+jNDWFly3hv66G6DbLz9W/ffIukpV7wr/ISlNTyGyqP8x0Fgdcis8/zk+NuNYb3D+IxfEwTCLkP/Jkz0BUGeo/2LYHLL3s7z8Y19wFM8vyP61MM/IsiPU/oRMV9Woq+D8AoxPIJ6/6P9joZC69E/0/cqRdvqZV/z9HW6tDQrkAQK4kmsgOtAFAJwd3GTGaAkAleNEet2oDQIYn+HzFJARAynq6epjHBEDuJk3PhFIFQKRReVb4xAVADK5YqnoeBkDt2/yhrV4GQF/NfLRNhQZAAAAAQDKSBkA=\",\"dtype\":\"float64\",\"shape\":[100]},\"y\":{\"__ndarray__\":\"AAAAAJO9yr8SnqFEu+iyv/jCsmCiCq8/XjlKrWPVyD8qc2Dk7tjUPw62dRQtI90/vaHd8Vmg4j/sr5nsfJTmP8acicDWaeo/VsltFl8c7j/OpNMbGdTwP/p81ZLKhPI/g3BPw3we9D8Gh4CxgJ/1PyVFNFhBBvc/1D/TUkVR+D9ilmNqMH/5P/ix1wPFjvo/c/MpbuV++z/C1+UOlU78Pw5s4mv5/Pw/qIgWEVuJ/T92DZVRJvP9P5Ic5uLrOf4/mucZUmFd/j+a5xlSYV3+P5Ic5uLrOf4/dg2VUSbz/T+oiBYRW4n9Pw5s4mv5/Pw/w9flDpVO/D908ylu5X77P/mx1wPFjvo/Y5ZjajB/+T/WP9NSRVH4PyZFNFhBBvc/CIeAsYCf9T+EcE/DfB70P/181ZLKhPI/0KTTGxnU8D9gyW0WXxzuP8ycicDWaeo/7q+Z7HyU5j/Eod3xWaDiPxa2dRQtI90/OnNg5O7Y1D9yOUqtY9XIP5DDsmCiCq8/4p2hRLvosr/3////kr3KvwkAAACTvcq/iJjXLmQD1r9yWBZM557ev1yOUmsilOO/nTkw8kDL578L2zoKYPDrv8Sh3XEj/++/99dMNqP58b9mzkQgUOTzv7DkNkuUvfW/0KTT232D97/9fNVSLzT5v4RwT4Phzfq/CIeAceVO/L8mRTQYprX9v9Y/0xKqAP+/MssxlUoXAMD82OvhFJ8AwLr5FBclFwHA4uty5/x+AcAHNvEVL9YBwFREi+hfHALAu4bKiEVRAsBJDnNRqHQCwM3zDAljhgLAzfMMCWOGAsBJDnNRqHQCwLuGyohFUQLAVESL6F8cAsAHNvEVL9YBwOHrcuf8fgHAuvkUFyUXAcD82OvhFJ8AwDHLMZVKFwDA1D/TEqoA/78lRTQYprX9vwaHgHHlTvy/g3BPg+HN+r/6fNVSLzT5v86k09t9g/e/q+Q2S5S99b9jzkQgUOTzv/bXTDaj+fG/vaHdcSP/778H2zoKYPDrv5U5MPJAy+e/WI5SayKU479fWBZM557ev3yY1y5kA9a/AAAAAJO9yr8=\",\"dtype\":\"float64\",\"shape\":[100]}},\"selected\":{\"id\":\"1333\",\"type\":\"Selection\"},\"selection_policy\":{\"id\":\"1332\",\"type\":\"UnionRenderers\"}},\"id\":\"1293\",\"type\":\"ColumnDataSource\"},{\"attributes\":{\"fill_alpha\":0.1,\"fill_color\":\"#1f77b4\",\"line_alpha\":0.1,\"line_color\":\"#1f77b4\",\"x\":{\"field\":\"x\"},\"y\":{\"field\":\"y\"}},\"id\":\"1300\",\"type\":\"Patch\"},{\"attributes\":{\"callback\":null,\"data\":{\"x\":{\"__ndarray__\":\"Ry8AjlppA8DW9Y6bWwUBQJyYoZRwlus/UvRK4RI17z8E73QWBB4BwJxE4AOpLsQ/FoMwDb+J1b/0PnB6Wsj0v87OMKtb1vC/latDA5DA/L8OHp6P9DT6v5d4IHGsrfC/cJkTqIVB2r++YEZzOFfkvyzc4hC8yfe/Y4G3KoAZxz/Dz0qB7R8MwJZBAZ7hmeI/X1HSxX03AsC/hPhSuEC2PwBlTpKu51s/sAXDXYFKAcAatNSLbTf0v9Zjg0vj3KE/oXdhVeOzxj8cLx+ApgO8P0xcQkFDA/q/RPhcxrGMyr/4NcPSGJ4CQHNAPUCyaM4/WBRlFrDQ5b+qn7I3n8P7P2Xs/wqwogXA1+ZveD2T5T/XWyVGznfvv9IIUzccWArAotzx3Ijy0D+vm5/1LBr+v34bZGJdYMw/BYWnkRsUBUAhof2A1hv6P5Oa9FUfSd6/zh+LE7y22z/GiD/WaiP4v/Rj39+KEdE/J9Mh6fqnB0BXeNZfZ/P0P5w38s4ThO+/Z0iH9GaDCMCY7SXjpTwCwH5h7eBX0eE/AFZKn3R82r+78Kbgxy/5v2HSvofV1Pc/so+3odr4uj/uF2mFfqkAwDORt32tGv6/QsHFA0yJwD/1SQNErf7uP8C3xH2I/f6/c2BgN8UI9r80I2f5G2TbvwjRKe6Iof6/XkJPTV0G/j9uKw5/ZOn7v3vssYnee8a/iT0kCWW4+D8wcTO8X6H4PyZE0ZQsCu0//R9a8Ra0479Qw0GBZy34P64Lv7pnoeU/6yA9zVCR6z/Nj9tWtlPZv/okbFIm1s2/8D+7Sy+k9L+y3iMsk57bPwhyzonFVf6/grUbOs699D+2kKYEo8nxPwT6aoQ/dwpAszu1kgsX4j9gzbq4qnzjP6ZGsdIePglAqVf7hE4eBMBIxaKCR3f+P454lDgNMwHAzs+3OloxwL+TJlS1odnTP1pIwbdon/6/2VpxZFCO0z/l95788db6v7lTP8v4TQZASpYjgssO/j9v+yh+q9u+P6TTWh2/mgPAJveIpxpmBsBA19lVS8qdv33DCCeJAuE/VomeTgdlx78=\",\"dtype\":\"float64\",\"shape\":[100]},\"y\":{\"__ndarray__\":\"XF6SMM5+BsCAuu8v8c6pv9xQmI2mDMc/IMgJR3IDkr8gnyuj767NP8cTWxTWv/C/6lFF7sIA1b+vUwrAAHLav2okLSRi/dw/4jjBTqe47L9Fn/lp5eX1v5f7NGfb7+G/9ADNWkOE+r9czQ48hwHRvwkymGpQquq/gOt/assFgD9jAxT2ApD2vwC/rNQFTNA/netu5v4y77++31gFV1Ggv5Gb4w0mzea/bGndcK86wb9K+5kJsqT7vzrFUhf8qNC/5ikB3P6PzD+YWUYF84zVPxLUzm2ccu+/ol5UGktSxL8vK/bulHj5PztiOu4o7ce/fji+bPi51b+O7KhUOkriP+chQXySnfS/1jZhRRiOwr+zAOpeTs/lv2rxbKDsbwnAglBvB9DR4j8pPM9eSR33v7W1Ld90iNC/VdZC372n/T9A5QoYL0G1P5e4Xlc/uMw/IC+eBFrv2L9vxn12hpL2v/rk0AEbZ/s/i2cj5+Fu8j+SJzxZM53tP/VJV/9eot+/f2AH0i9aBMAejSJx+jn2v50VZo31ztk/VBFBzYdT778o6IDdcgHuvypMHScDRuY/RioWPQwx4D+GJshU+9n7v+OHZFu2Nty/GkNQYIZRzT/tQzO2a8vkP/g2yLj03sw//hqvqX+G9b+Akh+Wi3qIvw6lG4jjvfG/OrOeBHiR7z/nEd919yb4vzgBYhK6P+I/sRrGns5S6j/7hgxNgCj0P5nx8WDMXc4/gNDGHpf10D8eng2I0qL5P+ZxfRTR6MC/9DIFGrI44T8UFSFDwI71vxr2CVqZtOm/GFGplbaezT9cT7YqeqXpP2muH2iy5Pm/hpJRaAoU+D89H46DnWHkP3RzKyKK9wVAYldZcviP2D9jQ989GaTkv2dwWiIj5ABA23ef7/ns+L8S+lOCWiPuP06YPPZFz++/0GHgEMAQ5r9uihWnLUjFP3zIdH0bwtC/BAFIGV7lyL8+OaaET2j0v/S/b2AiYts/pDcWx4KO+T8uep0Ess7APxGSpppSDvW/CtyqcdPM/L+MozY0ESvov/2Kj6AWFNU/dOxHDb8o5L8=\",\"dtype\":\"float64\",\"shape\":[100]}},\"selected\":{\"id\":\"1331\",\"type\":\"Selection\"},\"selection_policy\":{\"id\":\"1330\",\"type\":\"UnionRenderers\"}},\"id\":\"1288\",\"type\":\"ColumnDataSource\"},{\"attributes\":{\"data_source\":{\"id\":\"1298\",\"type\":\"ColumnDataSource\"},\"glyph\":{\"id\":\"1299\",\"type\":\"Patch\"},\"hover_glyph\":null,\"muted_glyph\":null,\"nonselection_glyph\":{\"id\":\"1300\",\"type\":\"Patch\"},\"selection_glyph\":null,\"view\":{\"id\":\"1302\",\"type\":\"CDSView\"}},\"id\":\"1301\",\"type\":\"GlyphRenderer\"},{\"attributes\":{\"callback\":null,\"end\":5,\"start\":-5},\"id\":\"1255\",\"type\":\"Range1d\"},{\"attributes\":{\"source\":{\"id\":\"1298\",\"type\":\"ColumnDataSource\"}},\"id\":\"1302\",\"type\":\"CDSView\"},{\"attributes\":{},\"id\":\"1274\",\"type\":\"WheelZoomTool\"}],\"root_ids\":[\"1254\"]},\"title\":\"Bokeh Application\",\"version\":\"1.0.2\"}};\n",
       "  var render_items = [{\"docid\":\"da53eb10-428d-43c4-85ae-7ef658a7b78d\",\"roots\":{\"1254\":\"3252ceda-ce8f-404b-abec-eb06afa011aa\"}}];\n",
       "  root.Bokeh.embed.embed_items_notebook(docs_json, render_items);\n",
       "\n",
       "  }\n",
       "  if (root.Bokeh !== undefined) {\n",
       "    embed_document(root);\n",
       "  } else {\n",
       "    var attempts = 0;\n",
       "    var timer = setInterval(function(root) {\n",
       "      if (root.Bokeh !== undefined) {\n",
       "        embed_document(root);\n",
       "        clearInterval(timer);\n",
       "      }\n",
       "      attempts++;\n",
       "      if (attempts > 100) {\n",
       "        console.log(\"Bokeh: ERROR: Unable to run BokehJS code because BokehJS library is missing\");\n",
       "        clearInterval(timer);\n",
       "      }\n",
       "    }, 10, root)\n",
       "  }\n",
       "})(window);"
      ],
      "application/vnd.bokehjs_exec.v0+json": ""
     },
     "metadata": {
      "application/vnd.bokehjs_exec.v0+json": {
       "id": "1254"
      }
     },
     "output_type": "display_data"
    }
   ],
   "source": [
    "fig = figure(\n",
    "    width=400,\n",
    "    height=400,\n",
    "    x_range=(-5, 5),\n",
    "    y_range=(-5, 5)\n",
    ")\n",
    "fig.circle(data[:, 0], data[:, 1])\n",
    "\n",
    "#mean, precision = normal_iso.mean_precision.value()\n",
    "#cov = torch.eye(2) / precision\n",
    "#plotting.plot_normal(fig, mean.numpy(), cov.numpy(), \n",
    "#                     line_color='black', fill_alpha=.3, color='green')\n",
    "\n",
    "mean, precision = normal_diag.mean_precision.value()\n",
    "cov = (1/precision).diag()\n",
    "plotting.plot_normal(fig, mean.numpy(), cov.numpy(), \n",
    "                     line_color='black', fill_alpha=.3, color='#98AFC7')\n",
    "\n",
    "#ean, precision = normal_full.mean_precision.value()\n",
    "#ov = precision.inverse()\n",
    "#plotting.plot_normal(fig, mean.numpy(), cov.numpy(), \n",
    "#                     line_color='black', fill_alpha=.3, color='#C7B097')\n",
    "\n",
    "show(fig)"
   ]
  }
 ],
 "metadata": {
  "kernelspec": {
   "display_name": "Python 3",
   "language": "python",
   "name": "python3"
  },
  "language_info": {
   "codemirror_mode": {
    "name": "ipython",
    "version": 3
   },
   "file_extension": ".py",
   "mimetype": "text/x-python",
   "name": "python",
   "nbconvert_exporter": "python",
   "pygments_lexer": "ipython3",
   "version": "3.7.1"
  }
 },
 "nbformat": 4,
 "nbformat_minor": 2
}
