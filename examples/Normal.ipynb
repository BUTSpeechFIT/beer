{
 "cells": [
  {
   "cell_type": "markdown",
   "metadata": {},
   "source": [
    "# Bayesian Model\n",
    "\n",
    "This notebook illustrate how to use a Bayesian Normal density model with the [beer framework](https://github.com/beer-asr/beer). The Normal distribution is a fairly basic models but it is used extenslively in other model as a basic building block."
   ]
  },
  {
   "cell_type": "code",
   "execution_count": 1,
   "metadata": {},
   "outputs": [
    {
     "data": {
      "text/html": [
       "\n",
       "    <div class=\"bk-root\">\n",
       "        <a href=\"https://bokeh.pydata.org\" target=\"_blank\" class=\"bk-logo bk-logo-small bk-logo-notebook\"></a>\n",
       "        <span id=\"8a8de322-b070-4351-a4f9-f484860c52b0\">Loading BokehJS ...</span>\n",
       "    </div>"
      ]
     },
     "metadata": {},
     "output_type": "display_data"
    },
    {
     "data": {
      "application/javascript": [
       "\n",
       "(function(root) {\n",
       "  function now() {\n",
       "    return new Date();\n",
       "  }\n",
       "\n",
       "  var force = true;\n",
       "\n",
       "  if (typeof (root._bokeh_onload_callbacks) === \"undefined\" || force === true) {\n",
       "    root._bokeh_onload_callbacks = [];\n",
       "    root._bokeh_is_loading = undefined;\n",
       "  }\n",
       "\n",
       "  var JS_MIME_TYPE = 'application/javascript';\n",
       "  var HTML_MIME_TYPE = 'text/html';\n",
       "  var EXEC_MIME_TYPE = 'application/vnd.bokehjs_exec.v0+json';\n",
       "  var CLASS_NAME = 'output_bokeh rendered_html';\n",
       "\n",
       "  /**\n",
       "   * Render data to the DOM node\n",
       "   */\n",
       "  function render(props, node) {\n",
       "    var script = document.createElement(\"script\");\n",
       "    node.appendChild(script);\n",
       "  }\n",
       "\n",
       "  /**\n",
       "   * Handle when an output is cleared or removed\n",
       "   */\n",
       "  function handleClearOutput(event, handle) {\n",
       "    var cell = handle.cell;\n",
       "\n",
       "    var id = cell.output_area._bokeh_element_id;\n",
       "    var server_id = cell.output_area._bokeh_server_id;\n",
       "    // Clean up Bokeh references\n",
       "    if (id !== undefined) {\n",
       "      Bokeh.index[id].model.document.clear();\n",
       "      delete Bokeh.index[id];\n",
       "    }\n",
       "\n",
       "    if (server_id !== undefined) {\n",
       "      // Clean up Bokeh references\n",
       "      var cmd = \"from bokeh.io.state import curstate; print(curstate().uuid_to_server['\" + server_id + \"'].get_sessions()[0].document.roots[0]._id)\";\n",
       "      cell.notebook.kernel.execute(cmd, {\n",
       "        iopub: {\n",
       "          output: function(msg) {\n",
       "            var element_id = msg.content.text.trim();\n",
       "            Bokeh.index[element_id].model.document.clear();\n",
       "            delete Bokeh.index[element_id];\n",
       "          }\n",
       "        }\n",
       "      });\n",
       "      // Destroy server and session\n",
       "      var cmd = \"import bokeh.io.notebook as ion; ion.destroy_server('\" + server_id + \"')\";\n",
       "      cell.notebook.kernel.execute(cmd);\n",
       "    }\n",
       "  }\n",
       "\n",
       "  /**\n",
       "   * Handle when a new output is added\n",
       "   */\n",
       "  function handleAddOutput(event, handle) {\n",
       "    var output_area = handle.output_area;\n",
       "    var output = handle.output;\n",
       "\n",
       "    // limit handleAddOutput to display_data with EXEC_MIME_TYPE content only\n",
       "    if ((output.output_type != \"display_data\") || (!output.data.hasOwnProperty(EXEC_MIME_TYPE))) {\n",
       "      return\n",
       "    }\n",
       "\n",
       "    var toinsert = output_area.element.find(\".\" + CLASS_NAME.split(' ')[0]);\n",
       "\n",
       "    if (output.metadata[EXEC_MIME_TYPE][\"id\"] !== undefined) {\n",
       "      toinsert[toinsert.length - 1].firstChild.textContent = output.data[JS_MIME_TYPE];\n",
       "      // store reference to embed id on output_area\n",
       "      output_area._bokeh_element_id = output.metadata[EXEC_MIME_TYPE][\"id\"];\n",
       "    }\n",
       "    if (output.metadata[EXEC_MIME_TYPE][\"server_id\"] !== undefined) {\n",
       "      var bk_div = document.createElement(\"div\");\n",
       "      bk_div.innerHTML = output.data[HTML_MIME_TYPE];\n",
       "      var script_attrs = bk_div.children[0].attributes;\n",
       "      for (var i = 0; i < script_attrs.length; i++) {\n",
       "        toinsert[toinsert.length - 1].firstChild.setAttribute(script_attrs[i].name, script_attrs[i].value);\n",
       "      }\n",
       "      // store reference to server id on output_area\n",
       "      output_area._bokeh_server_id = output.metadata[EXEC_MIME_TYPE][\"server_id\"];\n",
       "    }\n",
       "  }\n",
       "\n",
       "  function register_renderer(events, OutputArea) {\n",
       "\n",
       "    function append_mime(data, metadata, element) {\n",
       "      // create a DOM node to render to\n",
       "      var toinsert = this.create_output_subarea(\n",
       "        metadata,\n",
       "        CLASS_NAME,\n",
       "        EXEC_MIME_TYPE\n",
       "      );\n",
       "      this.keyboard_manager.register_events(toinsert);\n",
       "      // Render to node\n",
       "      var props = {data: data, metadata: metadata[EXEC_MIME_TYPE]};\n",
       "      render(props, toinsert[toinsert.length - 1]);\n",
       "      element.append(toinsert);\n",
       "      return toinsert\n",
       "    }\n",
       "\n",
       "    /* Handle when an output is cleared or removed */\n",
       "    events.on('clear_output.CodeCell', handleClearOutput);\n",
       "    events.on('delete.Cell', handleClearOutput);\n",
       "\n",
       "    /* Handle when a new output is added */\n",
       "    events.on('output_added.OutputArea', handleAddOutput);\n",
       "\n",
       "    /**\n",
       "     * Register the mime type and append_mime function with output_area\n",
       "     */\n",
       "    OutputArea.prototype.register_mime_type(EXEC_MIME_TYPE, append_mime, {\n",
       "      /* Is output safe? */\n",
       "      safe: true,\n",
       "      /* Index of renderer in `output_area.display_order` */\n",
       "      index: 0\n",
       "    });\n",
       "  }\n",
       "\n",
       "  // register the mime type if in Jupyter Notebook environment and previously unregistered\n",
       "  if (root.Jupyter !== undefined) {\n",
       "    var events = require('base/js/events');\n",
       "    var OutputArea = require('notebook/js/outputarea').OutputArea;\n",
       "\n",
       "    if (OutputArea.prototype.mime_types().indexOf(EXEC_MIME_TYPE) == -1) {\n",
       "      register_renderer(events, OutputArea);\n",
       "    }\n",
       "  }\n",
       "\n",
       "  \n",
       "  if (typeof (root._bokeh_timeout) === \"undefined\" || force === true) {\n",
       "    root._bokeh_timeout = Date.now() + 5000;\n",
       "    root._bokeh_failed_load = false;\n",
       "  }\n",
       "\n",
       "  var NB_LOAD_WARNING = {'data': {'text/html':\n",
       "     \"<div style='background-color: #fdd'>\\n\"+\n",
       "     \"<p>\\n\"+\n",
       "     \"BokehJS does not appear to have successfully loaded. If loading BokehJS from CDN, this \\n\"+\n",
       "     \"may be due to a slow or bad network connection. Possible fixes:\\n\"+\n",
       "     \"</p>\\n\"+\n",
       "     \"<ul>\\n\"+\n",
       "     \"<li>re-rerun `output_notebook()` to attempt to load from CDN again, or</li>\\n\"+\n",
       "     \"<li>use INLINE resources instead, as so:</li>\\n\"+\n",
       "     \"</ul>\\n\"+\n",
       "     \"<code>\\n\"+\n",
       "     \"from bokeh.resources import INLINE\\n\"+\n",
       "     \"output_notebook(resources=INLINE)\\n\"+\n",
       "     \"</code>\\n\"+\n",
       "     \"</div>\"}};\n",
       "\n",
       "  function display_loaded() {\n",
       "    var el = document.getElementById(\"8a8de322-b070-4351-a4f9-f484860c52b0\");\n",
       "    if (el != null) {\n",
       "      el.textContent = \"BokehJS is loading...\";\n",
       "    }\n",
       "    if (root.Bokeh !== undefined) {\n",
       "      if (el != null) {\n",
       "        el.textContent = \"BokehJS \" + root.Bokeh.version + \" successfully loaded.\";\n",
       "      }\n",
       "    } else if (Date.now() < root._bokeh_timeout) {\n",
       "      setTimeout(display_loaded, 100)\n",
       "    }\n",
       "  }\n",
       "\n",
       "\n",
       "  function run_callbacks() {\n",
       "    try {\n",
       "      root._bokeh_onload_callbacks.forEach(function(callback) { callback() });\n",
       "    }\n",
       "    finally {\n",
       "      delete root._bokeh_onload_callbacks\n",
       "    }\n",
       "    console.info(\"Bokeh: all callbacks have finished\");\n",
       "  }\n",
       "\n",
       "  function load_libs(js_urls, callback) {\n",
       "    root._bokeh_onload_callbacks.push(callback);\n",
       "    if (root._bokeh_is_loading > 0) {\n",
       "      console.log(\"Bokeh: BokehJS is being loaded, scheduling callback at\", now());\n",
       "      return null;\n",
       "    }\n",
       "    if (js_urls == null || js_urls.length === 0) {\n",
       "      run_callbacks();\n",
       "      return null;\n",
       "    }\n",
       "    console.log(\"Bokeh: BokehJS not loaded, scheduling load and callback at\", now());\n",
       "    root._bokeh_is_loading = js_urls.length;\n",
       "    for (var i = 0; i < js_urls.length; i++) {\n",
       "      var url = js_urls[i];\n",
       "      var s = document.createElement('script');\n",
       "      s.src = url;\n",
       "      s.async = false;\n",
       "      s.onreadystatechange = s.onload = function() {\n",
       "        root._bokeh_is_loading--;\n",
       "        if (root._bokeh_is_loading === 0) {\n",
       "          console.log(\"Bokeh: all BokehJS libraries loaded\");\n",
       "          run_callbacks()\n",
       "        }\n",
       "      };\n",
       "      s.onerror = function() {\n",
       "        console.warn(\"failed to load library \" + url);\n",
       "      };\n",
       "      console.log(\"Bokeh: injecting script tag for BokehJS library: \", url);\n",
       "      document.getElementsByTagName(\"head\")[0].appendChild(s);\n",
       "    }\n",
       "  };var element = document.getElementById(\"8a8de322-b070-4351-a4f9-f484860c52b0\");\n",
       "  if (element == null) {\n",
       "    console.log(\"Bokeh: ERROR: autoload.js configured with elementid '8a8de322-b070-4351-a4f9-f484860c52b0' but no matching script tag was found. \")\n",
       "    return false;\n",
       "  }\n",
       "\n",
       "  var js_urls = [\"https://cdn.pydata.org/bokeh/release/bokeh-0.12.16.min.js\", \"https://cdn.pydata.org/bokeh/release/bokeh-widgets-0.12.16.min.js\", \"https://cdn.pydata.org/bokeh/release/bokeh-tables-0.12.16.min.js\", \"https://cdn.pydata.org/bokeh/release/bokeh-gl-0.12.16.min.js\"];\n",
       "\n",
       "  var inline_js = [\n",
       "    function(Bokeh) {\n",
       "      Bokeh.set_log_level(\"info\");\n",
       "    },\n",
       "    \n",
       "    function(Bokeh) {\n",
       "      \n",
       "    },\n",
       "    function(Bokeh) {\n",
       "      console.log(\"Bokeh: injecting CSS: https://cdn.pydata.org/bokeh/release/bokeh-0.12.16.min.css\");\n",
       "      Bokeh.embed.inject_css(\"https://cdn.pydata.org/bokeh/release/bokeh-0.12.16.min.css\");\n",
       "      console.log(\"Bokeh: injecting CSS: https://cdn.pydata.org/bokeh/release/bokeh-widgets-0.12.16.min.css\");\n",
       "      Bokeh.embed.inject_css(\"https://cdn.pydata.org/bokeh/release/bokeh-widgets-0.12.16.min.css\");\n",
       "      console.log(\"Bokeh: injecting CSS: https://cdn.pydata.org/bokeh/release/bokeh-tables-0.12.16.min.css\");\n",
       "      Bokeh.embed.inject_css(\"https://cdn.pydata.org/bokeh/release/bokeh-tables-0.12.16.min.css\");\n",
       "    }\n",
       "  ];\n",
       "\n",
       "  function run_inline_js() {\n",
       "    \n",
       "    if ((root.Bokeh !== undefined) || (force === true)) {\n",
       "      for (var i = 0; i < inline_js.length; i++) {\n",
       "        inline_js[i].call(root, root.Bokeh);\n",
       "      }if (force === true) {\n",
       "        display_loaded();\n",
       "      }} else if (Date.now() < root._bokeh_timeout) {\n",
       "      setTimeout(run_inline_js, 100);\n",
       "    } else if (!root._bokeh_failed_load) {\n",
       "      console.log(\"Bokeh: BokehJS failed to load within specified timeout.\");\n",
       "      root._bokeh_failed_load = true;\n",
       "    } else if (force !== true) {\n",
       "      var cell = $(document.getElementById(\"8a8de322-b070-4351-a4f9-f484860c52b0\")).parents('.cell').data().cell;\n",
       "      cell.output_area.append_execute_result(NB_LOAD_WARNING)\n",
       "    }\n",
       "\n",
       "  }\n",
       "\n",
       "  if (root._bokeh_is_loading === 0) {\n",
       "    console.log(\"Bokeh: BokehJS loaded, going straight to plotting\");\n",
       "    run_inline_js();\n",
       "  } else {\n",
       "    load_libs(js_urls, function() {\n",
       "      console.log(\"Bokeh: BokehJS plotting callback run at\", now());\n",
       "      run_inline_js();\n",
       "    });\n",
       "  }\n",
       "}(window));"
      ],
      "application/vnd.bokehjs_load.v0+json": "\n(function(root) {\n  function now() {\n    return new Date();\n  }\n\n  var force = true;\n\n  if (typeof (root._bokeh_onload_callbacks) === \"undefined\" || force === true) {\n    root._bokeh_onload_callbacks = [];\n    root._bokeh_is_loading = undefined;\n  }\n\n  \n\n  \n  if (typeof (root._bokeh_timeout) === \"undefined\" || force === true) {\n    root._bokeh_timeout = Date.now() + 5000;\n    root._bokeh_failed_load = false;\n  }\n\n  var NB_LOAD_WARNING = {'data': {'text/html':\n     \"<div style='background-color: #fdd'>\\n\"+\n     \"<p>\\n\"+\n     \"BokehJS does not appear to have successfully loaded. If loading BokehJS from CDN, this \\n\"+\n     \"may be due to a slow or bad network connection. Possible fixes:\\n\"+\n     \"</p>\\n\"+\n     \"<ul>\\n\"+\n     \"<li>re-rerun `output_notebook()` to attempt to load from CDN again, or</li>\\n\"+\n     \"<li>use INLINE resources instead, as so:</li>\\n\"+\n     \"</ul>\\n\"+\n     \"<code>\\n\"+\n     \"from bokeh.resources import INLINE\\n\"+\n     \"output_notebook(resources=INLINE)\\n\"+\n     \"</code>\\n\"+\n     \"</div>\"}};\n\n  function display_loaded() {\n    var el = document.getElementById(\"8a8de322-b070-4351-a4f9-f484860c52b0\");\n    if (el != null) {\n      el.textContent = \"BokehJS is loading...\";\n    }\n    if (root.Bokeh !== undefined) {\n      if (el != null) {\n        el.textContent = \"BokehJS \" + root.Bokeh.version + \" successfully loaded.\";\n      }\n    } else if (Date.now() < root._bokeh_timeout) {\n      setTimeout(display_loaded, 100)\n    }\n  }\n\n\n  function run_callbacks() {\n    try {\n      root._bokeh_onload_callbacks.forEach(function(callback) { callback() });\n    }\n    finally {\n      delete root._bokeh_onload_callbacks\n    }\n    console.info(\"Bokeh: all callbacks have finished\");\n  }\n\n  function load_libs(js_urls, callback) {\n    root._bokeh_onload_callbacks.push(callback);\n    if (root._bokeh_is_loading > 0) {\n      console.log(\"Bokeh: BokehJS is being loaded, scheduling callback at\", now());\n      return null;\n    }\n    if (js_urls == null || js_urls.length === 0) {\n      run_callbacks();\n      return null;\n    }\n    console.log(\"Bokeh: BokehJS not loaded, scheduling load and callback at\", now());\n    root._bokeh_is_loading = js_urls.length;\n    for (var i = 0; i < js_urls.length; i++) {\n      var url = js_urls[i];\n      var s = document.createElement('script');\n      s.src = url;\n      s.async = false;\n      s.onreadystatechange = s.onload = function() {\n        root._bokeh_is_loading--;\n        if (root._bokeh_is_loading === 0) {\n          console.log(\"Bokeh: all BokehJS libraries loaded\");\n          run_callbacks()\n        }\n      };\n      s.onerror = function() {\n        console.warn(\"failed to load library \" + url);\n      };\n      console.log(\"Bokeh: injecting script tag for BokehJS library: \", url);\n      document.getElementsByTagName(\"head\")[0].appendChild(s);\n    }\n  };var element = document.getElementById(\"8a8de322-b070-4351-a4f9-f484860c52b0\");\n  if (element == null) {\n    console.log(\"Bokeh: ERROR: autoload.js configured with elementid '8a8de322-b070-4351-a4f9-f484860c52b0' but no matching script tag was found. \")\n    return false;\n  }\n\n  var js_urls = [\"https://cdn.pydata.org/bokeh/release/bokeh-0.12.16.min.js\", \"https://cdn.pydata.org/bokeh/release/bokeh-widgets-0.12.16.min.js\", \"https://cdn.pydata.org/bokeh/release/bokeh-tables-0.12.16.min.js\", \"https://cdn.pydata.org/bokeh/release/bokeh-gl-0.12.16.min.js\"];\n\n  var inline_js = [\n    function(Bokeh) {\n      Bokeh.set_log_level(\"info\");\n    },\n    \n    function(Bokeh) {\n      \n    },\n    function(Bokeh) {\n      console.log(\"Bokeh: injecting CSS: https://cdn.pydata.org/bokeh/release/bokeh-0.12.16.min.css\");\n      Bokeh.embed.inject_css(\"https://cdn.pydata.org/bokeh/release/bokeh-0.12.16.min.css\");\n      console.log(\"Bokeh: injecting CSS: https://cdn.pydata.org/bokeh/release/bokeh-widgets-0.12.16.min.css\");\n      Bokeh.embed.inject_css(\"https://cdn.pydata.org/bokeh/release/bokeh-widgets-0.12.16.min.css\");\n      console.log(\"Bokeh: injecting CSS: https://cdn.pydata.org/bokeh/release/bokeh-tables-0.12.16.min.css\");\n      Bokeh.embed.inject_css(\"https://cdn.pydata.org/bokeh/release/bokeh-tables-0.12.16.min.css\");\n    }\n  ];\n\n  function run_inline_js() {\n    \n    if ((root.Bokeh !== undefined) || (force === true)) {\n      for (var i = 0; i < inline_js.length; i++) {\n        inline_js[i].call(root, root.Bokeh);\n      }if (force === true) {\n        display_loaded();\n      }} else if (Date.now() < root._bokeh_timeout) {\n      setTimeout(run_inline_js, 100);\n    } else if (!root._bokeh_failed_load) {\n      console.log(\"Bokeh: BokehJS failed to load within specified timeout.\");\n      root._bokeh_failed_load = true;\n    } else if (force !== true) {\n      var cell = $(document.getElementById(\"8a8de322-b070-4351-a4f9-f484860c52b0\")).parents('.cell').data().cell;\n      cell.output_area.append_execute_result(NB_LOAD_WARNING)\n    }\n\n  }\n\n  if (root._bokeh_is_loading === 0) {\n    console.log(\"Bokeh: BokehJS loaded, going straight to plotting\");\n    run_inline_js();\n  } else {\n    load_libs(js_urls, function() {\n      console.log(\"Bokeh: BokehJS plotting callback run at\", now());\n      run_inline_js();\n    });\n  }\n}(window));"
     },
     "metadata": {},
     "output_type": "display_data"
    }
   ],
   "source": [
    "# Add \"beer\" to the PYTHONPATH\n",
    "import random\n",
    "from collections import defaultdict\n",
    "import sys\n",
    "sys.path.insert(0, '../')\n",
    "\n",
    "\n",
    "import beer\n",
    "import numpy as np\n",
    "import torch\n",
    "\n",
    "# For plotting.\n",
    "from bokeh.io import show, output_notebook\n",
    "from bokeh.plotting import figure, gridplot\n",
    "output_notebook()\n",
    "\n",
    "# Convenience functions for plotting.\n",
    "import plotting\n",
    "\n",
    "%load_ext autoreload\n",
    "%autoreload 2"
   ]
  },
  {
   "cell_type": "code",
   "execution_count": 2,
   "metadata": {},
   "outputs": [
    {
     "data": {
      "text/plain": [
       "'0.4.1'"
      ]
     },
     "execution_count": 2,
     "metadata": {},
     "output_type": "execute_result"
    }
   ],
   "source": [
    "torch.__version__"
   ]
  },
  {
   "cell_type": "markdown",
   "metadata": {},
   "source": [
    "## Data\n",
    "\n",
    "Generate some normally distributed data:"
   ]
  },
  {
   "cell_type": "code",
   "execution_count": 3,
   "metadata": {},
   "outputs": [
    {
     "data": {
      "text/html": [
       "\n",
       "<div class=\"bk-root\">\n",
       "    <div class=\"bk-plotdiv\" id=\"a79e7792-832c-45d4-aa97-7653b8764678\"></div>\n",
       "</div>"
      ]
     },
     "metadata": {},
     "output_type": "display_data"
    },
    {
     "data": {
      "application/javascript": [
       "(function(root) {\n",
       "  function embed_document(root) {\n",
       "    \n",
       "  var docs_json = {\"59d8b825-f340-44a9-b265-9da519b9ae20\":{\"roots\":{\"references\":[{\"attributes\":{\"callback\":null,\"end\":5.0,\"start\":-5.0},\"id\":\"461a6d95-62bb-4f6f-bbee-221da6fdce97\",\"type\":\"Range1d\"},{\"attributes\":{},\"id\":\"0569cae2-ca0f-431a-bdad-2aa8c285adae\",\"type\":\"UnionRenderers\"},{\"attributes\":{},\"id\":\"d3cfff25-a10e-4fef-b5a3-8d5de9268450\",\"type\":\"LinearScale\"},{\"attributes\":{},\"id\":\"00641d5a-7a1d-486b-9069-c08db49acf67\",\"type\":\"Selection\"},{\"attributes\":{\"callback\":null,\"end\":5.0,\"start\":-5.0},\"id\":\"59398ef7-6f98-42fe-82ab-6ab3fbe6855c\",\"type\":\"Range1d\"},{\"attributes\":{},\"id\":\"17fb0294-bbf5-4de9-ae4d-743b429bb6bb\",\"type\":\"Selection\"},{\"attributes\":{},\"id\":\"edf09b2c-f683-49ac-b788-ca3f1a68cba0\",\"type\":\"LinearScale\"},{\"attributes\":{\"fill_alpha\":0.3,\"fill_color\":\"#1f77b4\",\"x\":{\"field\":\"x\"},\"y\":{\"field\":\"y\"}},\"id\":\"60498e13-7498-4002-a44c-cc84819701c8\",\"type\":\"Patch\"},{\"attributes\":{},\"id\":\"078db93f-683e-4afc-a5d1-9d2e5cb49160\",\"type\":\"UnionRenderers\"},{\"attributes\":{\"formatter\":{\"id\":\"12bdff1f-9aaf-439b-96ca-5b7cbb770b85\",\"type\":\"BasicTickFormatter\"},\"plot\":{\"id\":\"ab48b967-8be2-4327-892c-7ef1db6b8a9d\",\"subtype\":\"Figure\",\"type\":\"Plot\"},\"ticker\":{\"id\":\"e7cab49b-bf27-423a-890a-773ae30c3764\",\"type\":\"BasicTicker\"}},\"id\":\"435ebaea-a5ce-4041-a417-5752ed4a4812\",\"type\":\"LinearAxis\"},{\"attributes\":{},\"id\":\"e7cab49b-bf27-423a-890a-773ae30c3764\",\"type\":\"BasicTicker\"},{\"attributes\":{},\"id\":\"292d8c98-a873-4fb7-833c-c42f7ec9ffae\",\"type\":\"Selection\"},{\"attributes\":{\"plot\":{\"id\":\"ab48b967-8be2-4327-892c-7ef1db6b8a9d\",\"subtype\":\"Figure\",\"type\":\"Plot\"},\"ticker\":{\"id\":\"e7cab49b-bf27-423a-890a-773ae30c3764\",\"type\":\"BasicTicker\"}},\"id\":\"5380b06b-4094-4074-92c6-60e46bdb36ba\",\"type\":\"Grid\"},{\"attributes\":{\"formatter\":{\"id\":\"75350609-5ba6-4c1b-aaab-973b6a089186\",\"type\":\"BasicTickFormatter\"},\"plot\":{\"id\":\"ab48b967-8be2-4327-892c-7ef1db6b8a9d\",\"subtype\":\"Figure\",\"type\":\"Plot\"},\"ticker\":{\"id\":\"06f1820e-0e98-4cd6-b95d-2b92271cb3ba\",\"type\":\"BasicTicker\"}},\"id\":\"4803f770-5d77-457d-ab39-7cc9293fddd2\",\"type\":\"LinearAxis\"},{\"attributes\":{},\"id\":\"c10773f2-d295-4fd0-b569-73a3acb874fb\",\"type\":\"UnionRenderers\"},{\"attributes\":{},\"id\":\"06f1820e-0e98-4cd6-b95d-2b92271cb3ba\",\"type\":\"BasicTicker\"},{\"attributes\":{\"dimension\":1,\"plot\":{\"id\":\"ab48b967-8be2-4327-892c-7ef1db6b8a9d\",\"subtype\":\"Figure\",\"type\":\"Plot\"},\"ticker\":{\"id\":\"06f1820e-0e98-4cd6-b95d-2b92271cb3ba\",\"type\":\"BasicTicker\"}},\"id\":\"39f9d777-23a2-4551-8343-531f87443857\",\"type\":\"Grid\"},{\"attributes\":{\"bottom_units\":\"screen\",\"fill_alpha\":{\"value\":0.5},\"fill_color\":{\"value\":\"lightgrey\"},\"left_units\":\"screen\",\"level\":\"overlay\",\"line_alpha\":{\"value\":1.0},\"line_color\":{\"value\":\"black\"},\"line_dash\":[4,4],\"line_width\":{\"value\":2},\"plot\":null,\"render_mode\":\"css\",\"right_units\":\"screen\",\"top_units\":\"screen\"},\"id\":\"e62186d4-3145-4979-8ba0-2fbb99dda774\",\"type\":\"BoxAnnotation\"},{\"attributes\":{\"callback\":null,\"data\":{\"x\":{\"__ndarray__\":\"AAAAAAAAAEBszyEtK+//P+3YO2m+vP8/6LXLv+5o/z8A7UpbFPT+P8a7byiqXv4/CEzdVE2p/T9xXMupvNT8P0BMU8PX4fs/lqo1JZ7R+j+zvA8uLqX5P+i8G+rDXfg/GLm4xrf89j8vzxcofYP1P9Lti+Kg8/M/QRYXmcdO8j/HQuwCrJbwP3LbbjM6mu0/VEcrZfjn6T8E7noHdhrmP0X32DGzNeI/hEUC45B73D/Kg870xG3UP3m77wv3lMg/8DLpehBpsD++Mul6EGmwv2K77wv3lMi/v4PO9MRt1L+ARQLjkHvcvz/32DGzNeK//u16B3Ya5r9PRytl+Ofpv23bbjM6mu2/xULsAqyW8L8+FheZx07yv9Dti+Kg8/O/K88XKH2D9b8XubjGt/z2v+a8G+rDXfi/sbwPLi6l+b+TqjUlntH6vz5MU8PX4fu/cFzLqbzU/L8HTN1UTan9v8a7byiqXv6//+xKWxT0/r/otcu/7mj/v+zYO2m+vP+/bM8hLSvv/78AAAAAAAAAwAAAAAAAAADAbM8hLSvv/7/s2Dtpvrz/v+i1y7/uaP+//+xKWxT0/r/Gu28oql7+vwdM3VRNqf2/cFzLqbzU/L8+TFPD1+H7v5OqNSWe0fq/sbwPLi6l+b/mvBvqw134vxe5uMa3/Pa/K88XKH2D9b/Q7YvioPPzvz4WF5nHTvK/xULsAqyW8L9t224zOprtv09HK2X45+m//u16B3Ya5r8/99gxszXiv4BFAuOQe9y/v4PO9MRt1L9iu+8L95TIv74y6XoQabC/8DLpehBpsD95u+8L95TIP8qDzvTEbdQ/hEUC45B73D9F99gxszXiPwTuegd2GuY/VEcrZfjn6T9y224zOprtP8dC7AKslvA/QRYXmcdO8j/S7YvioPPzPy/PFyh9g/U/GLm4xrf89j/ovBvqw134P7O8Dy4upfk/lqo1JZ7R+j9ATFPD1+H7P3Fcy6m81Pw/CEzdVE2p/T/Gu28oql7+PwDtSlsU9P4/6LXLv+5o/z/t2Dtpvrz/P2zPIS0r7/8/AAAAAAAAAEA=\",\"dtype\":\"float64\",\"shape\":[100]},\"y\":{\"__ndarray__\":\"ZmZmZmZm/j9hF994TPr+PxVNJjKcbf8/qbGyRNy//z/Sw2QqtvD/P7rbi3/2//8/3Gn1OI3t/z9dkc20jbn/P+VcP6YuZP8/q/zp28nt/j/6lWfh21b+P98FSXwDoP0/FmoQBQHK/D8yI9qctdX7P3oqiUAixPo/UN1vumaW+T8uoZFzwE34P5zZuyWJ6/Y/hHDVbzVx9T/0huNNU+DzP5ynX3aIOvI/l+WXnpCB8D+4KNdPd27tPyw5n2/Xuuk/RIk3eSbs5T+Y82zCZQbiP3yzGsddG9w/FFeMzl4M1D9i8RyWkdDHP+CWl+Bgva0/WLKtxmbzsb+sZp3oTVnJv/50T/kez9S/WBC9FLPb3L+0Zt7Q9WTiv1jMZ3W4SOa/3sw/+AkV6r9cHp2C68XtvzwUUo29q/C/Vx2D3Pti8r+g+vud4gb0v/izqxm4lfW/RJ4BwdgN97+WpkjouG34vwoJ4mbms/m/EZipHArf+r/C9Ola6e37v0UCZS9n3/y/HlkUkIWy/b9mZmZmZmb+v2ZmZmZmZv6/YhffeEz6/r8VTSYynG3/v6qxskTcv/+/08NkKrbw/7+624t/9v//v9xp9TiN7f+/XJHNtI25/7/kXD+mLmT/v6r86dvJ7f6/+ZVn4dtW/r/eBUl8A6D9vxZqEAUByvy/LyPanLXV+794KolAIsT6v07db7pmlvm/LaGRc8BN+L+a2bsliev2v4Jw1W81cfW/8objTVPg87+Zp192iDryv5bll56QgfC/sijXT3du7b8mOZ9v17rpvz6JN3km7OW/kvNswmUG4r9xsxrHXRvcvwlXjM5eDNS/WvEclpHQx79wlpfgYL2tv5CyrcZm87E/wGad6E1ZyT8KdU/5Hs/UP14QvRSz29w/u2be0PVk4j9dzGd1uEjmP+fMP/gJFeo/Xx6dguvF7T8/FFKNvavwP1odg9z7YvI/pfr7neIG9D/7s6sZuJX1P0WeAcHYDfc/mKZI6Lht+D8KCeJm5rP5PxSYqRwK3/o/w/TpWunt+z9HAmUvZ9/8Px9ZFJCFsv0/ZmZmZmZm/j8=\",\"dtype\":\"float64\",\"shape\":[100]}},\"selected\":{\"id\":\"17fb0294-bbf5-4de9-ae4d-743b429bb6bb\",\"type\":\"Selection\"},\"selection_policy\":{\"id\":\"078db93f-683e-4afc-a5d1-9d2e5cb49160\",\"type\":\"UnionRenderers\"}},\"id\":\"8c12fd9c-357b-4304-a266-4ec36d11b41e\",\"type\":\"ColumnDataSource\"},{\"attributes\":{},\"id\":\"1feb3cc1-e569-4c43-bf8f-7a3c7b89ef81\",\"type\":\"PanTool\"},{\"attributes\":{},\"id\":\"b828c99f-5315-4f9f-b920-7422a6c3970a\",\"type\":\"WheelZoomTool\"},{\"attributes\":{\"overlay\":{\"id\":\"e62186d4-3145-4979-8ba0-2fbb99dda774\",\"type\":\"BoxAnnotation\"}},\"id\":\"b694ad46-cbe0-4248-adc0-642f0011e296\",\"type\":\"BoxZoomTool\"},{\"attributes\":{},\"id\":\"0cf410eb-ed22-4974-9786-bc581bdf98db\",\"type\":\"SaveTool\"},{\"attributes\":{},\"id\":\"c1465107-b8b5-4553-9eff-cecb3e7f2fda\",\"type\":\"ResetTool\"},{\"attributes\":{},\"id\":\"a4fc4785-2d37-4c5e-ae06-235dc45bacc8\",\"type\":\"HelpTool\"},{\"attributes\":{\"data_source\":{\"id\":\"8151f820-95c2-404e-80e5-e2883b2f9537\",\"type\":\"ColumnDataSource\"},\"glyph\":{\"id\":\"4b6febe0-e534-45f8-a35e-bc52d4371146\",\"type\":\"Circle\"},\"hover_glyph\":null,\"muted_glyph\":null,\"nonselection_glyph\":{\"id\":\"f918599c-d947-4782-877e-d284479ab00c\",\"type\":\"Circle\"},\"selection_glyph\":null,\"view\":{\"id\":\"a5fdf9cf-be19-4476-9639-a5237431535b\",\"type\":\"CDSView\"}},\"id\":\"71c66998-f404-44ef-8e0c-2c170aebb302\",\"type\":\"GlyphRenderer\"},{\"attributes\":{},\"id\":\"75350609-5ba6-4c1b-aaab-973b6a089186\",\"type\":\"BasicTickFormatter\"},{\"attributes\":{\"source\":{\"id\":\"8151f820-95c2-404e-80e5-e2883b2f9537\",\"type\":\"ColumnDataSource\"}},\"id\":\"a5fdf9cf-be19-4476-9639-a5237431535b\",\"type\":\"CDSView\"},{\"attributes\":{\"fill_alpha\":0.3,\"fill_color\":\"#1f77b4\",\"x\":{\"field\":\"x\"},\"y\":{\"field\":\"y\"}},\"id\":\"d60ec72c-f399-4417-9825-46335e734a02\",\"type\":\"Patch\"},{\"attributes\":{\"fill_alpha\":0.1,\"fill_color\":\"#1f77b4\",\"line_alpha\":0.1,\"line_color\":\"#1f77b4\",\"x\":{\"field\":\"x\"},\"y\":{\"field\":\"y\"}},\"id\":\"13d397b8-9bff-4a4f-b2a6-2fa19b018ba0\",\"type\":\"Patch\"},{\"attributes\":{\"source\":{\"id\":\"8c12fd9c-357b-4304-a266-4ec36d11b41e\",\"type\":\"ColumnDataSource\"}},\"id\":\"f2337fc6-0b4d-47f5-a282-a2fe96deb984\",\"type\":\"CDSView\"},{\"attributes\":{\"callback\":null,\"data\":{\"x\":{\"__ndarray__\":\"hh5EiwkV+z8=\",\"dtype\":\"float64\",\"shape\":[1]},\"y\":{\"__ndarray__\":\"UGH27bT6AEA=\",\"dtype\":\"float64\",\"shape\":[1]}},\"selected\":{\"id\":\"00641d5a-7a1d-486b-9069-c08db49acf67\",\"type\":\"Selection\"},\"selection_policy\":{\"id\":\"0569cae2-ca0f-431a-bdad-2aa8c285adae\",\"type\":\"UnionRenderers\"}},\"id\":\"8151f820-95c2-404e-80e5-e2883b2f9537\",\"type\":\"ColumnDataSource\"},{\"attributes\":{\"fill_alpha\":{\"value\":0.1},\"fill_color\":{\"value\":\"#1f77b4\"},\"line_alpha\":{\"value\":0.1},\"line_color\":{\"value\":\"#1f77b4\"},\"x\":{\"field\":\"x\"},\"y\":{\"field\":\"y\"}},\"id\":\"f918599c-d947-4782-877e-d284479ab00c\",\"type\":\"Circle\"},{\"attributes\":{\"data_source\":{\"id\":\"8c12fd9c-357b-4304-a266-4ec36d11b41e\",\"type\":\"ColumnDataSource\"},\"glyph\":{\"id\":\"60498e13-7498-4002-a44c-cc84819701c8\",\"type\":\"Patch\"},\"hover_glyph\":null,\"muted_glyph\":null,\"nonselection_glyph\":{\"id\":\"13d397b8-9bff-4a4f-b2a6-2fa19b018ba0\",\"type\":\"Patch\"},\"selection_glyph\":null,\"view\":{\"id\":\"f2337fc6-0b4d-47f5-a282-a2fe96deb984\",\"type\":\"CDSView\"}},\"id\":\"6cabd39e-2361-4f54-a4a0-f2a8cf9d2475\",\"type\":\"GlyphRenderer\"},{\"attributes\":{\"active_drag\":\"auto\",\"active_inspect\":\"auto\",\"active_scroll\":\"auto\",\"active_tap\":\"auto\",\"tools\":[{\"id\":\"1feb3cc1-e569-4c43-bf8f-7a3c7b89ef81\",\"type\":\"PanTool\"},{\"id\":\"b828c99f-5315-4f9f-b920-7422a6c3970a\",\"type\":\"WheelZoomTool\"},{\"id\":\"b694ad46-cbe0-4248-adc0-642f0011e296\",\"type\":\"BoxZoomTool\"},{\"id\":\"0cf410eb-ed22-4974-9786-bc581bdf98db\",\"type\":\"SaveTool\"},{\"id\":\"c1465107-b8b5-4553-9eff-cecb3e7f2fda\",\"type\":\"ResetTool\"},{\"id\":\"a4fc4785-2d37-4c5e-ae06-235dc45bacc8\",\"type\":\"HelpTool\"}]},\"id\":\"ec0f6110-9101-474e-94b5-46939fd7121a\",\"type\":\"Toolbar\"},{\"attributes\":{\"callback\":null,\"data\":{\"x\":{\"__ndarray__\":\"AAAAAAAA8D9szyEtK+/vP+3YO2m+vO8/6LXLv+5o7z8A7UpbFPTuP8a7byiqXu4/CEzdVE2p7T9xXMupvNTsP0BMU8PX4es/lqo1JZ7R6j+zvA8uLqXpP+i8G+rDXeg/GLm4xrf85j8vzxcofYPlP9Lti+Kg8+M/QRYXmcdO4j/HQuwCrJbgP3LbbjM6mt0/VEcrZfjn2T8E7noHdhrWP0X32DGzNdI/hEUC45B7zD/Kg870xG3EP3m77wv3lLg/8DLpehBpoD++Mul6EGmgv2K77wv3lLi/v4PO9MRtxL+ARQLjkHvMvz/32DGzNdK//u16B3Ya1r9PRytl+OfZv23bbjM6mt2/xULsAqyW4L8+FheZx07iv9Dti+Kg8+O/K88XKH2D5b8XubjGt/zmv+a8G+rDXei/sbwPLi6l6b+TqjUlntHqvz5MU8PX4eu/cFzLqbzU7L8HTN1UTantv8a7byiqXu6//+xKWxT07r/otcu/7mjvv+zYO2m+vO+/bM8hLSvv778AAAAAAADwvwAAAAAAAPC/bM8hLSvv77/s2Dtpvrzvv+i1y7/uaO+//+xKWxT07r/Gu28oql7uvwdM3VRNqe2/cFzLqbzU7L8+TFPD1+Hrv5OqNSWe0eq/sbwPLi6l6b/mvBvqw13ovxe5uMa3/Oa/K88XKH2D5b/Q7YvioPPjvz4WF5nHTuK/xULsAqyW4L9t224zOprdv09HK2X459m//u16B3Ya1r8/99gxszXSv4BFAuOQe8y/v4PO9MRtxL9iu+8L95S4v74y6XoQaaC/8DLpehBpoD95u+8L95S4P8qDzvTEbcQ/hEUC45B7zD9F99gxszXSPwTuegd2GtY/VEcrZfjn2T9y224zOprdP8dC7AKsluA/QRYXmcdO4j/S7YvioPPjPy/PFyh9g+U/GLm4xrf85j/ovBvqw13oP7O8Dy4upek/lqo1JZ7R6j9ATFPD1+HrP3Fcy6m81Ow/CEzdVE2p7T/Gu28oql7uPwDtSlsU9O4/6LXLv+5o7z/t2DtpvrzvP2zPIS0r7+8/AAAAAAAA8D8=\",\"dtype\":\"float64\",\"shape\":[100]},\"y\":{\"__ndarray__\":\"ZmZmZmZm7j9hF994TPruPxVNJjKcbe8/qbGyRNy/7z/Sw2QqtvDvP7rbi3/2/+8/3Gn1OI3t7z9dkc20jbnvP+VcP6YuZO8/q/zp28nt7j/6lWfh21buP98FSXwDoO0/FmoQBQHK7D8yI9qctdXrP3oqiUAixOo/UN1vumaW6T8uoZFzwE3oP5zZuyWJ6+Y/hHDVbzVx5T/0huNNU+DjP5ynX3aIOuI/l+WXnpCB4D+4KNdPd27dPyw5n2/Xutk/RIk3eSbs1T+Y82zCZQbSP3yzGsddG8w/FFeMzl4MxD9i8RyWkdC3P+CWl+BgvZ0/WLKtxmbzob+sZp3oTVm5v/50T/kez8S/WBC9FLPbzL+0Zt7Q9WTSv1jMZ3W4SNa/3sw/+AkV2r9cHp2C68XdvzwUUo29q+C/Vx2D3Pti4r+g+vud4gbkv/izqxm4leW/RJ4BwdgN57+WpkjouG3ovwoJ4mbms+m/EZipHArf6r/C9Ola6e3rv0UCZS9n3+y/HlkUkIWy7b9mZmZmZmbuv2ZmZmZmZu6/YhffeEz67r8VTSYynG3vv6qxskTcv++/08NkKrbw77+624t/9v/vv9xp9TiN7e+/XJHNtI2577/kXD+mLmTvv6r86dvJ7e6/+ZVn4dtW7r/eBUl8A6DtvxZqEAUByuy/LyPanLXV6794KolAIsTqv07db7pmlum/LaGRc8BN6L+a2bslievmv4Jw1W81ceW/8objTVPg47+Zp192iDriv5bll56QgeC/sijXT3du3b8mOZ9v17rZvz6JN3km7NW/kvNswmUG0r9xsxrHXRvMvwlXjM5eDMS/WvEclpHQt79wlpfgYL2dv5CyrcZm86E/wGad6E1ZuT8KdU/5Hs/EP14QvRSz28w/u2be0PVk0j9dzGd1uEjWP+fMP/gJFdo/Xx6dguvF3T8/FFKNvavgP1odg9z7YuI/pfr7neIG5D/7s6sZuJXlP0WeAcHYDec/mKZI6Lht6D8KCeJm5rPpPxSYqRwK3+o/w/TpWunt6z9HAmUvZ9/sPx9ZFJCFsu0/ZmZmZmZm7j8=\",\"dtype\":\"float64\",\"shape\":[100]}},\"selected\":{\"id\":\"292d8c98-a873-4fb7-833c-c42f7ec9ffae\",\"type\":\"Selection\"},\"selection_policy\":{\"id\":\"c10773f2-d295-4fd0-b569-73a3acb874fb\",\"type\":\"UnionRenderers\"}},\"id\":\"64cdb156-8271-4ad6-8079-ad836b16c92d\",\"type\":\"ColumnDataSource\"},{\"attributes\":{\"below\":[{\"id\":\"435ebaea-a5ce-4041-a417-5752ed4a4812\",\"type\":\"LinearAxis\"}],\"left\":[{\"id\":\"4803f770-5d77-457d-ab39-7cc9293fddd2\",\"type\":\"LinearAxis\"}],\"plot_height\":400,\"plot_width\":400,\"renderers\":[{\"id\":\"435ebaea-a5ce-4041-a417-5752ed4a4812\",\"type\":\"LinearAxis\"},{\"id\":\"5380b06b-4094-4074-92c6-60e46bdb36ba\",\"type\":\"Grid\"},{\"id\":\"4803f770-5d77-457d-ab39-7cc9293fddd2\",\"type\":\"LinearAxis\"},{\"id\":\"39f9d777-23a2-4551-8343-531f87443857\",\"type\":\"Grid\"},{\"id\":\"e62186d4-3145-4979-8ba0-2fbb99dda774\",\"type\":\"BoxAnnotation\"},{\"id\":\"71c66998-f404-44ef-8e0c-2c170aebb302\",\"type\":\"GlyphRenderer\"},{\"id\":\"6cabd39e-2361-4f54-a4a0-f2a8cf9d2475\",\"type\":\"GlyphRenderer\"},{\"id\":\"20c438fd-08ba-4912-bad7-139bab98b076\",\"type\":\"GlyphRenderer\"}],\"title\":{\"id\":\"19f0f8ca-909a-4098-a898-ef15a628c949\",\"type\":\"Title\"},\"toolbar\":{\"id\":\"ec0f6110-9101-474e-94b5-46939fd7121a\",\"type\":\"Toolbar\"},\"x_range\":{\"id\":\"461a6d95-62bb-4f6f-bbee-221da6fdce97\",\"type\":\"Range1d\"},\"x_scale\":{\"id\":\"d3cfff25-a10e-4fef-b5a3-8d5de9268450\",\"type\":\"LinearScale\"},\"y_range\":{\"id\":\"59398ef7-6f98-42fe-82ab-6ab3fbe6855c\",\"type\":\"Range1d\"},\"y_scale\":{\"id\":\"edf09b2c-f683-49ac-b788-ca3f1a68cba0\",\"type\":\"LinearScale\"}},\"id\":\"ab48b967-8be2-4327-892c-7ef1db6b8a9d\",\"subtype\":\"Figure\",\"type\":\"Plot\"},{\"attributes\":{\"fill_alpha\":0.1,\"fill_color\":\"#1f77b4\",\"line_alpha\":0.1,\"line_color\":\"#1f77b4\",\"x\":{\"field\":\"x\"},\"y\":{\"field\":\"y\"}},\"id\":\"ad9f63f6-44c0-438d-8296-dd1b42bbafe9\",\"type\":\"Patch\"},{\"attributes\":{\"data_source\":{\"id\":\"64cdb156-8271-4ad6-8079-ad836b16c92d\",\"type\":\"ColumnDataSource\"},\"glyph\":{\"id\":\"d60ec72c-f399-4417-9825-46335e734a02\",\"type\":\"Patch\"},\"hover_glyph\":null,\"muted_glyph\":null,\"nonselection_glyph\":{\"id\":\"ad9f63f6-44c0-438d-8296-dd1b42bbafe9\",\"type\":\"Patch\"},\"selection_glyph\":null,\"view\":{\"id\":\"098f2066-8e74-4029-b44b-55cd167418b1\",\"type\":\"CDSView\"}},\"id\":\"20c438fd-08ba-4912-bad7-139bab98b076\",\"type\":\"GlyphRenderer\"},{\"attributes\":{\"fill_color\":{\"value\":\"#1f77b4\"},\"line_color\":{\"value\":\"#1f77b4\"},\"x\":{\"field\":\"x\"},\"y\":{\"field\":\"y\"}},\"id\":\"4b6febe0-e534-45f8-a35e-bc52d4371146\",\"type\":\"Circle\"},{\"attributes\":{\"source\":{\"id\":\"64cdb156-8271-4ad6-8079-ad836b16c92d\",\"type\":\"ColumnDataSource\"}},\"id\":\"098f2066-8e74-4029-b44b-55cd167418b1\",\"type\":\"CDSView\"},{\"attributes\":{},\"id\":\"12bdff1f-9aaf-439b-96ca-5b7cbb770b85\",\"type\":\"BasicTickFormatter\"},{\"attributes\":{\"plot\":null,\"text\":\"Data\"},\"id\":\"19f0f8ca-909a-4098-a898-ef15a628c949\",\"type\":\"Title\"}],\"root_ids\":[\"ab48b967-8be2-4327-892c-7ef1db6b8a9d\"]},\"title\":\"Bokeh Application\",\"version\":\"0.12.16\"}};\n",
       "  var render_items = [{\"docid\":\"59d8b825-f340-44a9-b265-9da519b9ae20\",\"elementid\":\"a79e7792-832c-45d4-aa97-7653b8764678\",\"modelid\":\"ab48b967-8be2-4327-892c-7ef1db6b8a9d\"}];\n",
       "  root.Bokeh.embed.embed_items_notebook(docs_json, render_items);\n",
       "\n",
       "  }\n",
       "  if (root.Bokeh !== undefined) {\n",
       "    embed_document(root);\n",
       "  } else {\n",
       "    var attempts = 0;\n",
       "    var timer = setInterval(function(root) {\n",
       "      if (root.Bokeh !== undefined) {\n",
       "        embed_document(root);\n",
       "        clearInterval(timer);\n",
       "      }\n",
       "      attempts++;\n",
       "      if (attempts > 100) {\n",
       "        console.log(\"Bokeh: ERROR: Unable to run BokehJS code because BokehJS library is missing\")\n",
       "        clearInterval(timer);\n",
       "      }\n",
       "    }, 10, root)\n",
       "  }\n",
       "})(window);"
      ],
      "application/vnd.bokehjs_exec.v0+json": ""
     },
     "metadata": {
      "application/vnd.bokehjs_exec.v0+json": {
       "id": "ab48b967-8be2-4327-892c-7ef1db6b8a9d"
      }
     },
     "output_type": "display_data"
    }
   ],
   "source": [
    "mean = np.zeros(2) \n",
    "cov = np.array([\n",
    "    [1, .95],\n",
    "    [.95, 1]\n",
    "])\n",
    "data = np.random.multivariate_normal(mean, cov, size=1)\n",
    "\n",
    "fig = figure(\n",
    "    title='Data',\n",
    "    width=400,\n",
    "    height=400,\n",
    "    x_range=(mean[0] - 5, mean[0] + 5),\n",
    "    y_range=(mean[1] - 5, mean[1] + 5)\n",
    ")\n",
    "fig.circle(data[:, 0], data[:, 1])\n",
    "plotting.plot_normal(fig, mean, cov, line_color='black', fill_alpha=.3)\n",
    "\n",
    "show(fig)"
   ]
  },
  {
   "cell_type": "markdown",
   "metadata": {},
   "source": [
    "## Model Creation\n",
    "\n",
    "We create two types of Normal distribution: one diagonal covariance matrix and another one with full covariance matrix."
   ]
  },
  {
   "cell_type": "code",
   "execution_count": 4,
   "metadata": {},
   "outputs": [],
   "source": [
    "data_mean = torch.zeros(2) + torch.FloatTensor([0, 100])\n",
    "data_var = torch.ones(2) * 50\n",
    "\n",
    "normal_iso = beer.Normal.create(data_mean, data_var, 1., cov_type='isotropic')\n",
    "normal_diag = beer.Normal.create(data_mean, data_var, 1., cov_type='diagonal')\n",
    "normal_full = beer.Normal.create(data_mean, data_var, 1., cov_type='full')\n",
    "\n",
    "models = {\n",
    "    'normal_full': normal_full,\n",
    "    'normal_diag': normal_diag,\n",
    "    'normal_iso': normal_iso\n",
    "}"
   ]
  },
  {
   "cell_type": "markdown",
   "metadata": {},
   "source": [
    "## Variational Bayes Training "
   ]
  },
  {
   "cell_type": "code",
   "execution_count": 5,
   "metadata": {},
   "outputs": [
    {
     "data": {
      "text/plain": [
       "torch.Size([1, 1, 2])"
      ]
     },
     "execution_count": 5,
     "metadata": {},
     "output_type": "execute_result"
    }
   ],
   "source": [
    "nbatches = 1\n",
    "X = torch.from_numpy(data).float()\n",
    "batches = X.view(nbatches, -1, 2)\n",
    "batches.shape"
   ]
  },
  {
   "cell_type": "code",
   "execution_count": 6,
   "metadata": {
    "scrolled": false
   },
   "outputs": [],
   "source": [
    "epochs = 2\n",
    "lrate = 1\n",
    "\n",
    "\n",
    "optims = {\n",
    "    model_name: beer.BayesianModelOptimizer(\n",
    "        model.mean_field_groups, lrate)\n",
    "    for model_name, model in models.items()\n",
    "}\n",
    "\n",
    "elbos = {\n",
    "    model_name: [] \n",
    "    for model_name in models\n",
    "}  \n",
    "\n",
    "\n",
    "for epoch in range(epochs):\n",
    "    for name, model in models.items():\n",
    "        batch_ids = list(range(len(batches)))\n",
    "        random.shuffle(batch_ids)\n",
    "        for batch_id in batch_ids:\n",
    "            batch = batches[batch_id]\n",
    "            \n",
    "            optim = optims[name]\n",
    "\n",
    "            optim.init_step()\n",
    "            elbo = beer.evidence_lower_bound(model, batch, datasize=len(X))\n",
    "            elbo.backward()\n",
    "            optim.step()\n",
    "            \n",
    "            elbo = beer.evidence_lower_bound(model, X)\n",
    "            elbos[name].append(float(elbo) / len(X))\n",
    "        "
   ]
  },
  {
   "cell_type": "code",
   "execution_count": 7,
   "metadata": {
    "scrolled": false
   },
   "outputs": [
    {
     "data": {
      "text/html": [
       "\n",
       "<div class=\"bk-root\">\n",
       "    <div class=\"bk-plotdiv\" id=\"e60d6d84-053f-404b-808a-7241d71b8853\"></div>\n",
       "</div>"
      ]
     },
     "metadata": {},
     "output_type": "display_data"
    },
    {
     "data": {
      "application/javascript": [
       "(function(root) {\n",
       "  function embed_document(root) {\n",
       "    \n",
       "  var docs_json = {\"5331dd35-c760-4c86-8331-43978a5738a0\":{\"roots\":{\"references\":[{\"attributes\":{\"source\":{\"id\":\"44b71517-8501-4d15-9177-bbcaa453c121\",\"type\":\"ColumnDataSource\"}},\"id\":\"7c617a7e-d321-4a1a-800b-1f45dfec5615\",\"type\":\"CDSView\"},{\"attributes\":{},\"id\":\"516ba6bc-9497-4281-b586-0d475809047a\",\"type\":\"PanTool\"},{\"attributes\":{\"bottom_units\":\"screen\",\"fill_alpha\":{\"value\":0.5},\"fill_color\":{\"value\":\"lightgrey\"},\"left_units\":\"screen\",\"level\":\"overlay\",\"line_alpha\":{\"value\":1.0},\"line_color\":{\"value\":\"black\"},\"line_dash\":[4,4],\"line_width\":{\"value\":2},\"plot\":null,\"render_mode\":\"css\",\"right_units\":\"screen\",\"top_units\":\"screen\"},\"id\":\"2b4bac30-564e-4dbf-a2b0-350262098936\",\"type\":\"BoxAnnotation\"},{\"attributes\":{},\"id\":\"631af821-f037-4650-928b-54a561867221\",\"type\":\"WheelZoomTool\"},{\"attributes\":{\"data_source\":{\"id\":\"e4ed780e-1e07-490c-b747-3f8e9ef563a9\",\"type\":\"ColumnDataSource\"},\"glyph\":{\"id\":\"bbc2feb7-1217-4622-a5af-ccc7953fb316\",\"type\":\"Line\"},\"hover_glyph\":null,\"muted_glyph\":null,\"nonselection_glyph\":{\"id\":\"761f7c1f-9e8a-40ad-8d97-ade18384cfe8\",\"type\":\"Line\"},\"selection_glyph\":null,\"view\":{\"id\":\"4b615a39-9a09-4441-ad50-712ae857f0bc\",\"type\":\"CDSView\"}},\"id\":\"018ee256-bfc5-4d67-ba7e-f28e6e664efc\",\"type\":\"GlyphRenderer\"},{\"attributes\":{},\"id\":\"6143b6e1-f6eb-4d02-acef-676e4f17f87d\",\"type\":\"LinearScale\"},{\"attributes\":{},\"id\":\"f7a892e8-3e0d-4d34-a049-af7d417304c4\",\"type\":\"LinearScale\"},{\"attributes\":{},\"id\":\"29046c8c-8fdd-4936-8d51-07c4808bc3f5\",\"type\":\"BasicTickFormatter\"},{\"attributes\":{\"items\":[{\"id\":\"3b181ac3-cfd9-4274-9218-8dc79acc5da6\",\"type\":\"LegendItem\"},{\"id\":\"b300958c-b442-4dd2-a621-1751163199b6\",\"type\":\"LegendItem\"},{\"id\":\"0c9fccc6-4a09-47a1-a172-97fa7b1ab373\",\"type\":\"LegendItem\"}],\"location\":\"bottom_right\",\"plot\":{\"id\":\"313bebf8-a6c1-43bd-8056-9ee1ec9f7890\",\"subtype\":\"Figure\",\"type\":\"Plot\"}},\"id\":\"78a9ff3a-7304-40e1-aabb-e1a782e650ce\",\"type\":\"Legend\"},{\"attributes\":{},\"id\":\"581ed4ed-1c5a-4bb7-a7d8-9181ac0baa3a\",\"type\":\"UnionRenderers\"},{\"attributes\":{},\"id\":\"8ec9c542-a115-48e1-9671-956a462b197c\",\"type\":\"Selection\"},{\"attributes\":{},\"id\":\"388dc2be-a287-4897-936e-4e34903ba54f\",\"type\":\"Selection\"},{\"attributes\":{\"plot\":null,\"text\":\"ELBO\"},\"id\":\"83c7127c-f56f-4f53-9af5-9f1ab227f157\",\"type\":\"Title\"},{\"attributes\":{},\"id\":\"82d54a8d-bc7f-4e0e-8a28-e2c75c2f24af\",\"type\":\"SaveTool\"},{\"attributes\":{},\"id\":\"dc7f9db8-9e96-4949-baaf-02fb99978c13\",\"type\":\"ResetTool\"},{\"attributes\":{\"axis_label\":\"ln p(X)\",\"formatter\":{\"id\":\"29046c8c-8fdd-4936-8d51-07c4808bc3f5\",\"type\":\"BasicTickFormatter\"},\"plot\":{\"id\":\"313bebf8-a6c1-43bd-8056-9ee1ec9f7890\",\"subtype\":\"Figure\",\"type\":\"Plot\"},\"ticker\":{\"id\":\"f029a1c6-109c-4c5e-a8ab-b08574c4d4b3\",\"type\":\"BasicTicker\"}},\"id\":\"89685853-d08b-4724-958e-ee650ee4ec76\",\"type\":\"LinearAxis\"},{\"attributes\":{\"callback\":null},\"id\":\"a0687d9c-2d2b-45eb-aa3c-43dcd4f83c73\",\"type\":\"DataRange1d\"},{\"attributes\":{\"line_alpha\":0.1,\"line_color\":\"#1f77b4\",\"x\":{\"field\":\"x\"},\"y\":{\"field\":\"y\"}},\"id\":\"2ad4e4d4-9370-4254-9f38-f74eb95ea29a\",\"type\":\"Line\"},{\"attributes\":{\"callback\":null},\"id\":\"af920ba0-9f10-4fee-9747-ec9310896c94\",\"type\":\"DataRange1d\"},{\"attributes\":{\"line_color\":\"blue\",\"x\":{\"field\":\"x\"},\"y\":{\"field\":\"y\"}},\"id\":\"5bf3f4f2-9ef4-4b48-a122-19f54c26cd8a\",\"type\":\"Line\"},{\"attributes\":{\"below\":[{\"id\":\"e6ff66e5-33ce-481a-8c14-ab84ae4b3556\",\"type\":\"LinearAxis\"}],\"left\":[{\"id\":\"89685853-d08b-4724-958e-ee650ee4ec76\",\"type\":\"LinearAxis\"}],\"plot_height\":400,\"plot_width\":400,\"renderers\":[{\"id\":\"e6ff66e5-33ce-481a-8c14-ab84ae4b3556\",\"type\":\"LinearAxis\"},{\"id\":\"1b9b2402-e946-497a-8744-c93ec67fa886\",\"type\":\"Grid\"},{\"id\":\"89685853-d08b-4724-958e-ee650ee4ec76\",\"type\":\"LinearAxis\"},{\"id\":\"3a7eba47-aa97-4e3a-afb6-efc86df202cc\",\"type\":\"Grid\"},{\"id\":\"2b4bac30-564e-4dbf-a2b0-350262098936\",\"type\":\"BoxAnnotation\"},{\"id\":\"78a9ff3a-7304-40e1-aabb-e1a782e650ce\",\"type\":\"Legend\"},{\"id\":\"018ee256-bfc5-4d67-ba7e-f28e6e664efc\",\"type\":\"GlyphRenderer\"},{\"id\":\"9154a5cb-fe45-41b5-8dfd-a1ded6075e1a\",\"type\":\"GlyphRenderer\"},{\"id\":\"f1aaa5c1-9bf7-4e6c-8595-9d98ed3f7513\",\"type\":\"GlyphRenderer\"}],\"title\":{\"id\":\"83c7127c-f56f-4f53-9af5-9f1ab227f157\",\"type\":\"Title\"},\"toolbar\":{\"id\":\"6e571fdb-cc48-43fb-a33a-dcc307b6870b\",\"type\":\"Toolbar\"},\"x_range\":{\"id\":\"a0687d9c-2d2b-45eb-aa3c-43dcd4f83c73\",\"type\":\"DataRange1d\"},\"x_scale\":{\"id\":\"f7a892e8-3e0d-4d34-a049-af7d417304c4\",\"type\":\"LinearScale\"},\"y_range\":{\"id\":\"af920ba0-9f10-4fee-9747-ec9310896c94\",\"type\":\"DataRange1d\"},\"y_scale\":{\"id\":\"6143b6e1-f6eb-4d02-acef-676e4f17f87d\",\"type\":\"LinearScale\"}},\"id\":\"313bebf8-a6c1-43bd-8056-9ee1ec9f7890\",\"subtype\":\"Figure\",\"type\":\"Plot\"},{\"attributes\":{},\"id\":\"cac29ad2-9e8d-4538-8848-1c611ed2a105\",\"type\":\"Selection\"},{\"attributes\":{\"callback\":null,\"data\":{\"x\":[0,1],\"y\":[-12.540616035461426,-12.540616035461426]},\"selected\":{\"id\":\"cac29ad2-9e8d-4538-8848-1c611ed2a105\",\"type\":\"Selection\"},\"selection_policy\":{\"id\":\"dde5293c-ce13-4a08-b9ff-ee7fae80d029\",\"type\":\"UnionRenderers\"}},\"id\":\"44b71517-8501-4d15-9177-bbcaa453c121\",\"type\":\"ColumnDataSource\"},{\"attributes\":{\"line_alpha\":0.1,\"line_color\":\"#1f77b4\",\"x\":{\"field\":\"x\"},\"y\":{\"field\":\"y\"}},\"id\":\"5d91b16a-d708-49c5-89a7-d095ccef48c6\",\"type\":\"Line\"},{\"attributes\":{},\"id\":\"b46d2a4f-e273-4a23-9315-f03888f329dd\",\"type\":\"HelpTool\"},{\"attributes\":{},\"id\":\"5362fd0d-a870-4436-9134-9c7ddd7a8368\",\"type\":\"BasicTickFormatter\"},{\"attributes\":{\"callback\":null,\"data\":{\"x\":[0,1],\"y\":[-12.971304893493652,-12.971304893493652]},\"selected\":{\"id\":\"388dc2be-a287-4897-936e-4e34903ba54f\",\"type\":\"Selection\"},\"selection_policy\":{\"id\":\"3c5e19fd-9213-41e0-9d93-280d952f6b72\",\"type\":\"UnionRenderers\"}},\"id\":\"e4ed780e-1e07-490c-b747-3f8e9ef563a9\",\"type\":\"ColumnDataSource\"},{\"attributes\":{},\"id\":\"3c5e19fd-9213-41e0-9d93-280d952f6b72\",\"type\":\"UnionRenderers\"},{\"attributes\":{\"axis_label\":\"step\",\"formatter\":{\"id\":\"5362fd0d-a870-4436-9134-9c7ddd7a8368\",\"type\":\"BasicTickFormatter\"},\"plot\":{\"id\":\"313bebf8-a6c1-43bd-8056-9ee1ec9f7890\",\"subtype\":\"Figure\",\"type\":\"Plot\"},\"ticker\":{\"id\":\"168dbfc9-d3fa-4737-ba4d-2e28db978859\",\"type\":\"BasicTicker\"}},\"id\":\"e6ff66e5-33ce-481a-8c14-ab84ae4b3556\",\"type\":\"LinearAxis\"},{\"attributes\":{},\"id\":\"168dbfc9-d3fa-4737-ba4d-2e28db978859\",\"type\":\"BasicTicker\"},{\"attributes\":{\"label\":{\"value\":\"normal_diag\"},\"renderers\":[{\"id\":\"9154a5cb-fe45-41b5-8dfd-a1ded6075e1a\",\"type\":\"GlyphRenderer\"}]},\"id\":\"b300958c-b442-4dd2-a621-1751163199b6\",\"type\":\"LegendItem\"},{\"attributes\":{\"active_drag\":\"auto\",\"active_inspect\":\"auto\",\"active_scroll\":\"auto\",\"active_tap\":\"auto\",\"tools\":[{\"id\":\"516ba6bc-9497-4281-b586-0d475809047a\",\"type\":\"PanTool\"},{\"id\":\"631af821-f037-4650-928b-54a561867221\",\"type\":\"WheelZoomTool\"},{\"id\":\"621dcf7d-0c39-47df-a550-a3efa2f75724\",\"type\":\"BoxZoomTool\"},{\"id\":\"82d54a8d-bc7f-4e0e-8a28-e2c75c2f24af\",\"type\":\"SaveTool\"},{\"id\":\"dc7f9db8-9e96-4949-baaf-02fb99978c13\",\"type\":\"ResetTool\"},{\"id\":\"b46d2a4f-e273-4a23-9315-f03888f329dd\",\"type\":\"HelpTool\"}]},\"id\":\"6e571fdb-cc48-43fb-a33a-dcc307b6870b\",\"type\":\"Toolbar\"},{\"attributes\":{\"callback\":null,\"data\":{\"x\":[0,1],\"y\":[-14.22319221496582,-14.22319221496582]},\"selected\":{\"id\":\"8ec9c542-a115-48e1-9671-956a462b197c\",\"type\":\"Selection\"},\"selection_policy\":{\"id\":\"581ed4ed-1c5a-4bb7-a7d8-9181ac0baa3a\",\"type\":\"UnionRenderers\"}},\"id\":\"de028a1e-0194-4ae6-85f8-129f50fd5bfb\",\"type\":\"ColumnDataSource\"},{\"attributes\":{\"label\":{\"value\":\"normal_iso\"},\"renderers\":[{\"id\":\"f1aaa5c1-9bf7-4e6c-8595-9d98ed3f7513\",\"type\":\"GlyphRenderer\"}]},\"id\":\"0c9fccc6-4a09-47a1-a172-97fa7b1ab373\",\"type\":\"LegendItem\"},{\"attributes\":{\"data_source\":{\"id\":\"44b71517-8501-4d15-9177-bbcaa453c121\",\"type\":\"ColumnDataSource\"},\"glyph\":{\"id\":\"5bf3f4f2-9ef4-4b48-a122-19f54c26cd8a\",\"type\":\"Line\"},\"hover_glyph\":null,\"muted_glyph\":null,\"nonselection_glyph\":{\"id\":\"2ad4e4d4-9370-4254-9f38-f74eb95ea29a\",\"type\":\"Line\"},\"selection_glyph\":null,\"view\":{\"id\":\"7c617a7e-d321-4a1a-800b-1f45dfec5615\",\"type\":\"CDSView\"}},\"id\":\"9154a5cb-fe45-41b5-8dfd-a1ded6075e1a\",\"type\":\"GlyphRenderer\"},{\"attributes\":{\"dimension\":1,\"plot\":{\"id\":\"313bebf8-a6c1-43bd-8056-9ee1ec9f7890\",\"subtype\":\"Figure\",\"type\":\"Plot\"},\"ticker\":{\"id\":\"f029a1c6-109c-4c5e-a8ab-b08574c4d4b3\",\"type\":\"BasicTicker\"}},\"id\":\"3a7eba47-aa97-4e3a-afb6-efc86df202cc\",\"type\":\"Grid\"},{\"attributes\":{\"source\":{\"id\":\"e4ed780e-1e07-490c-b747-3f8e9ef563a9\",\"type\":\"ColumnDataSource\"}},\"id\":\"4b615a39-9a09-4441-ad50-712ae857f0bc\",\"type\":\"CDSView\"},{\"attributes\":{\"data_source\":{\"id\":\"de028a1e-0194-4ae6-85f8-129f50fd5bfb\",\"type\":\"ColumnDataSource\"},\"glyph\":{\"id\":\"2f7f754f-bebb-49cb-a35d-e959d0ee4083\",\"type\":\"Line\"},\"hover_glyph\":null,\"muted_glyph\":null,\"nonselection_glyph\":{\"id\":\"5d91b16a-d708-49c5-89a7-d095ccef48c6\",\"type\":\"Line\"},\"selection_glyph\":null,\"view\":{\"id\":\"0a89370f-87fc-423c-af42-a723366d3f43\",\"type\":\"CDSView\"}},\"id\":\"f1aaa5c1-9bf7-4e6c-8595-9d98ed3f7513\",\"type\":\"GlyphRenderer\"},{\"attributes\":{\"line_color\":\"red\",\"x\":{\"field\":\"x\"},\"y\":{\"field\":\"y\"}},\"id\":\"bbc2feb7-1217-4622-a5af-ccc7953fb316\",\"type\":\"Line\"},{\"attributes\":{\"line_color\":\"green\",\"x\":{\"field\":\"x\"},\"y\":{\"field\":\"y\"}},\"id\":\"2f7f754f-bebb-49cb-a35d-e959d0ee4083\",\"type\":\"Line\"},{\"attributes\":{\"plot\":{\"id\":\"313bebf8-a6c1-43bd-8056-9ee1ec9f7890\",\"subtype\":\"Figure\",\"type\":\"Plot\"},\"ticker\":{\"id\":\"168dbfc9-d3fa-4737-ba4d-2e28db978859\",\"type\":\"BasicTicker\"}},\"id\":\"1b9b2402-e946-497a-8744-c93ec67fa886\",\"type\":\"Grid\"},{\"attributes\":{},\"id\":\"f029a1c6-109c-4c5e-a8ab-b08574c4d4b3\",\"type\":\"BasicTicker\"},{\"attributes\":{},\"id\":\"dde5293c-ce13-4a08-b9ff-ee7fae80d029\",\"type\":\"UnionRenderers\"},{\"attributes\":{\"overlay\":{\"id\":\"2b4bac30-564e-4dbf-a2b0-350262098936\",\"type\":\"BoxAnnotation\"}},\"id\":\"621dcf7d-0c39-47df-a550-a3efa2f75724\",\"type\":\"BoxZoomTool\"},{\"attributes\":{\"source\":{\"id\":\"de028a1e-0194-4ae6-85f8-129f50fd5bfb\",\"type\":\"ColumnDataSource\"}},\"id\":\"0a89370f-87fc-423c-af42-a723366d3f43\",\"type\":\"CDSView\"},{\"attributes\":{\"line_alpha\":0.1,\"line_color\":\"#1f77b4\",\"x\":{\"field\":\"x\"},\"y\":{\"field\":\"y\"}},\"id\":\"761f7c1f-9e8a-40ad-8d97-ade18384cfe8\",\"type\":\"Line\"},{\"attributes\":{\"label\":{\"value\":\"normal_full\"},\"renderers\":[{\"id\":\"018ee256-bfc5-4d67-ba7e-f28e6e664efc\",\"type\":\"GlyphRenderer\"}]},\"id\":\"3b181ac3-cfd9-4274-9218-8dc79acc5da6\",\"type\":\"LegendItem\"}],\"root_ids\":[\"313bebf8-a6c1-43bd-8056-9ee1ec9f7890\"]},\"title\":\"Bokeh Application\",\"version\":\"0.12.16\"}};\n",
       "  var render_items = [{\"docid\":\"5331dd35-c760-4c86-8331-43978a5738a0\",\"elementid\":\"e60d6d84-053f-404b-808a-7241d71b8853\",\"modelid\":\"313bebf8-a6c1-43bd-8056-9ee1ec9f7890\"}];\n",
       "  root.Bokeh.embed.embed_items_notebook(docs_json, render_items);\n",
       "\n",
       "  }\n",
       "  if (root.Bokeh !== undefined) {\n",
       "    embed_document(root);\n",
       "  } else {\n",
       "    var attempts = 0;\n",
       "    var timer = setInterval(function(root) {\n",
       "      if (root.Bokeh !== undefined) {\n",
       "        embed_document(root);\n",
       "        clearInterval(timer);\n",
       "      }\n",
       "      attempts++;\n",
       "      if (attempts > 100) {\n",
       "        console.log(\"Bokeh: ERROR: Unable to run BokehJS code because BokehJS library is missing\")\n",
       "        clearInterval(timer);\n",
       "      }\n",
       "    }, 10, root)\n",
       "  }\n",
       "})(window);"
      ],
      "application/vnd.bokehjs_exec.v0+json": ""
     },
     "metadata": {
      "application/vnd.bokehjs_exec.v0+json": {
       "id": "313bebf8-a6c1-43bd-8056-9ee1ec9f7890"
      }
     },
     "output_type": "display_data"
    }
   ],
   "source": [
    "colors = {\n",
    "    'normal_iso': 'green',\n",
    "    'normal_diag': 'blue',\n",
    "    'normal_full': 'red',\n",
    "    \n",
    "}\n",
    "# Plot the ELBO.\n",
    "fig = figure(title='ELBO', width=400, height=400, x_axis_label='step',\n",
    "              y_axis_label='ln p(X)')\n",
    "for model_name, elbo in elbos.items():\n",
    "    fig.line(range(len(elbo)), elbo, legend=model_name, color=colors[model_name])\n",
    "fig.legend.location = 'bottom_right'\n",
    "\n",
    "show(fig)"
   ]
  },
  {
   "cell_type": "code",
   "execution_count": 8,
   "metadata": {},
   "outputs": [
    {
     "data": {
      "text/plain": [
       "(tensor([[-17.8127]]), tensor([[-18.5268]]), tensor([[-16.2973]]))"
      ]
     },
     "execution_count": 8,
     "metadata": {},
     "output_type": "execute_result"
    }
   ],
   "source": [
    "models['normal_full'].mean_precision.posterior.log_norm(models['normal_full'].mean_precision.posterior.natural_parameters), \\\n",
    "models['normal_diag'].mean_precision.posterior.log_norm(models['normal_diag'].mean_precision.posterior.natural_parameters), \\\n",
    "models['normal_iso'].mean_precision.posterior.log_norm(models['normal_iso'].mean_precision.posterior.natural_parameters)"
   ]
  },
  {
   "cell_type": "code",
   "execution_count": 9,
   "metadata": {},
   "outputs": [
    {
     "data": {
      "text/plain": [
       "((tensor([[ 0.8463, 51.0612]]), tensor([[2.]]), tensor([[[0.0100, 0.0002],\n",
       "           [0.0002, 0.0002]]]), tensor([[3.]])),\n",
       " (tensor([[ 0.8463, 51.0612]]),\n",
       "  tensor([[2.]]),\n",
       "  tensor([[1.5000]]),\n",
       "  tensor([[  50.7163, 2445.0056]])),\n",
       " (tensor([[ 0.8463, 51.0612]]),\n",
       "  tensor([[2.]]),\n",
       "  tensor([[2.]]),\n",
       "  tensor([[2445.7219]])))"
      ]
     },
     "execution_count": 9,
     "metadata": {},
     "output_type": "execute_result"
    }
   ],
   "source": [
    "models['normal_full'].mean_precision.posterior.to_std_parameters(), \\\n",
    "models['normal_diag'].mean_precision.posterior.to_std_parameters(), \\\n",
    "models['normal_iso'].mean_precision.posterior.to_std_parameters()"
   ]
  },
  {
   "cell_type": "code",
   "execution_count": 10,
   "metadata": {},
   "outputs": [
    {
     "data": {
      "text/plain": [
       "(tensor([[  33.8108,  -27.6119],\n",
       "         [ -27.6119, 1630.0037]]), tensor([[  33.8108,    0.0000],\n",
       "         [   0.0000, 1630.0037]]), tensor([[1222.8610,    0.0000],\n",
       "         [   0.0000, 1222.8610]]))"
      ]
     },
     "execution_count": 10,
     "metadata": {},
     "output_type": "execute_result"
    }
   ],
   "source": [
    "models['normal_full'].cov, models['normal_diag'].cov, models['normal_iso'].cov"
   ]
  },
  {
   "cell_type": "code",
   "execution_count": 11,
   "metadata": {},
   "outputs": [
    {
     "data": {
      "text/plain": [
       "tensor([[0.0004, 0.0004]])"
      ]
     },
     "execution_count": 11,
     "metadata": {},
     "output_type": "execute_result"
    }
   ],
   "source": [
    "1 / torch.tensor([[2549.3416, 2462.0051]])"
   ]
  },
  {
   "cell_type": "code",
   "execution_count": 12,
   "metadata": {},
   "outputs": [
    {
     "data": {
      "text/plain": [
       "(tensor([3.7713]), tensor([3.6299]), tensor([3.5264]))"
      ]
     },
     "execution_count": 12,
     "metadata": {},
     "output_type": "execute_result"
    }
   ],
   "source": [
    "models['normal_full'].kl_div_posterior_prior(), \\\n",
    "models['normal_diag'].kl_div_posterior_prior(), \\\n",
    "models['normal_iso'].kl_div_posterior_prior()"
   ]
  },
  {
   "cell_type": "code",
   "execution_count": 13,
   "metadata": {},
   "outputs": [
    {
     "data": {
      "text/plain": [
       "(tensor([-9.2000]), tensor([-8.9107]), tensor([-10.6967]))"
      ]
     },
     "execution_count": 13,
     "metadata": {},
     "output_type": "execute_result"
    }
   ],
   "source": [
    "models['normal_full'].expected_log_likelihood(models['normal_full'].sufficient_statistics(X)), \\\n",
    "models['normal_diag'].expected_log_likelihood(models['normal_diag'].sufficient_statistics(X)), \\\n",
    "models['normal_iso'].expected_log_likelihood(models['normal_iso'].sufficient_statistics(X))"
   ]
  },
  {
   "cell_type": "code",
   "execution_count": 14,
   "metadata": {},
   "outputs": [
    {
     "name": "stdout",
     "output_type": "stream",
     "text": [
      "{'normal_full': [-12.971304893493652, -12.971304893493652], 'normal_diag': [-12.540616035461426, -12.540616035461426], 'normal_iso': [-14.22319221496582, -14.22319221496582]}\n"
     ]
    }
   ],
   "source": [
    "print(elbos)"
   ]
  },
  {
   "cell_type": "code",
   "execution_count": 15,
   "metadata": {},
   "outputs": [
    {
     "data": {
      "text/plain": [
       "(tensor([-3.6848,  1.6926,  2.1224, -0.5000,  1.0000]),\n",
       " tensor([-5053.6851,     1.6926,   102.1224,    -1.0000,     2.0000]),\n",
       " tensor([-5053.6851,     1.6926,   102.1224,    -1.0000,     2.0000]))"
      ]
     },
     "execution_count": 15,
     "metadata": {},
     "output_type": "execute_result"
    }
   ],
   "source": [
    "stats = models['normal_iso'].sufficient_statistics(X) \n",
    "stats.sum(dim=0), \\\n",
    "models['normal_iso'].mean_precision.prior.natural_parameters + stats.sum(dim=0),\\\n",
    "models['normal_iso'].mean_precision.posterior.natural_parameters"
   ]
  },
  {
   "cell_type": "code",
   "execution_count": 16,
   "metadata": {
    "scrolled": false
   },
   "outputs": [
    {
     "data": {
      "text/html": [
       "\n",
       "<div class=\"bk-root\">\n",
       "    <div class=\"bk-plotdiv\" id=\"14ff39ff-b381-4362-b482-336394bb68c9\"></div>\n",
       "</div>"
      ]
     },
     "metadata": {},
     "output_type": "display_data"
    },
    {
     "data": {
      "application/javascript": [
       "(function(root) {\n",
       "  function embed_document(root) {\n",
       "    \n",
       "  var docs_json = {\"7e3e3aa5-7b50-44f1-8f64-1e3b66413e03\":{\"roots\":{\"references\":[{\"attributes\":{\"callback\":null,\"data\":{\"x\":{\"__ndarray__\":\"hh5EiwkV+z8=\",\"dtype\":\"float64\",\"shape\":[1]},\"y\":{\"__ndarray__\":\"UGH27bT6AEA=\",\"dtype\":\"float64\",\"shape\":[1]}},\"selected\":{\"id\":\"114e6107-903d-4a0f-9aaa-86c7a97f5bfd\",\"type\":\"Selection\"},\"selection_policy\":{\"id\":\"c6a8975b-4a6c-4c1d-a251-4b153f7a6bc9\",\"type\":\"UnionRenderers\"}},\"id\":\"3874ad91-498c-46c2-9857-d0a4c627c30f\",\"type\":\"ColumnDataSource\"},{\"attributes\":{\"below\":[{\"id\":\"5b048d70-ca0a-4a96-8c27-f40cb86bebd8\",\"type\":\"LinearAxis\"}],\"left\":[{\"id\":\"4fa80bcd-5b7e-4c80-b386-718fb02a0f5e\",\"type\":\"LinearAxis\"}],\"plot_height\":400,\"plot_width\":400,\"renderers\":[{\"id\":\"5b048d70-ca0a-4a96-8c27-f40cb86bebd8\",\"type\":\"LinearAxis\"},{\"id\":\"28315bce-2bef-4fa5-95b5-2f425f16db32\",\"type\":\"Grid\"},{\"id\":\"4fa80bcd-5b7e-4c80-b386-718fb02a0f5e\",\"type\":\"LinearAxis\"},{\"id\":\"39d91ca1-216f-4413-bd86-d1e0e90c856f\",\"type\":\"Grid\"},{\"id\":\"4a1faddc-90e9-410b-a9af-2cfae1153499\",\"type\":\"BoxAnnotation\"},{\"id\":\"91737a8c-d94b-4e6f-b8f0-0a81e7dfc3f8\",\"type\":\"GlyphRenderer\"},{\"id\":\"a3b73afc-87ec-4604-9430-8655b821b218\",\"type\":\"GlyphRenderer\"},{\"id\":\"515b02b9-1e19-4a3c-904d-2cedd50e211c\",\"type\":\"GlyphRenderer\"},{\"id\":\"a403ea8e-aa86-471f-9973-3b309d60659b\",\"type\":\"GlyphRenderer\"},{\"id\":\"826d5d4f-f872-45ae-bc71-56097316aa4f\",\"type\":\"GlyphRenderer\"},{\"id\":\"5a41f9d6-a1e8-4028-96e9-34d7da5c71d4\",\"type\":\"GlyphRenderer\"},{\"id\":\"834ddb23-ea1b-4aa4-85e1-feb2034c445a\",\"type\":\"GlyphRenderer\"}],\"title\":{\"id\":\"54d792a2-8112-4b83-b5fd-70d02aa71531\",\"type\":\"Title\"},\"toolbar\":{\"id\":\"92d080cd-8c9d-4095-b2b5-2677cf0db647\",\"type\":\"Toolbar\"},\"x_range\":{\"id\":\"9df66fee-a685-49d5-935d-7df1d01ffbd6\",\"type\":\"Range1d\"},\"x_scale\":{\"id\":\"a6917a83-6ac8-4663-a466-cdd0826014c9\",\"type\":\"LinearScale\"},\"y_range\":{\"id\":\"996dfc26-f9a5-4ce1-9b5d-bead5cb765ed\",\"type\":\"Range1d\"},\"y_scale\":{\"id\":\"998da6e0-63ef-4da6-9719-5295c1ef0760\",\"type\":\"LinearScale\"}},\"id\":\"721aa4fe-d8de-4b90-97cb-14a25fb7b41d\",\"subtype\":\"Figure\",\"type\":\"Plot\"},{\"attributes\":{\"data_source\":{\"id\":\"3874ad91-498c-46c2-9857-d0a4c627c30f\",\"type\":\"ColumnDataSource\"},\"glyph\":{\"id\":\"aa5a6fb1-62eb-4c4e-9765-4554446a7671\",\"type\":\"Circle\"},\"hover_glyph\":null,\"muted_glyph\":null,\"nonselection_glyph\":{\"id\":\"2b7a0ed4-fd7e-4045-a552-1cd0d63f20b4\",\"type\":\"Circle\"},\"selection_glyph\":null,\"view\":{\"id\":\"a18c2ddb-4344-4dae-b30f-d0b26f1b7135\",\"type\":\"CDSView\"}},\"id\":\"91737a8c-d94b-4e6f-b8f0-0a81e7dfc3f8\",\"type\":\"GlyphRenderer\"},{\"attributes\":{\"active_drag\":\"auto\",\"active_inspect\":\"auto\",\"active_scroll\":\"auto\",\"active_tap\":\"auto\",\"tools\":[{\"id\":\"02b3d17d-0838-4668-afb4-ccad99680834\",\"type\":\"PanTool\"},{\"id\":\"704e0d17-f262-4d0f-95dc-869aaa41cb68\",\"type\":\"WheelZoomTool\"},{\"id\":\"580e6ac6-a4f4-4b06-b19f-7f9166cb1d43\",\"type\":\"BoxZoomTool\"},{\"id\":\"ce62327c-87af-4384-b7b6-d073554fdd44\",\"type\":\"SaveTool\"},{\"id\":\"912299c7-6f9c-47c4-9701-742803a832b0\",\"type\":\"ResetTool\"},{\"id\":\"1499acab-2d20-4c40-94e4-6a6ef2aee7e3\",\"type\":\"HelpTool\"}]},\"id\":\"92d080cd-8c9d-4095-b2b5-2677cf0db647\",\"type\":\"Toolbar\"},{\"attributes\":{\"callback\":null,\"end\":5.0,\"start\":-5.0},\"id\":\"9df66fee-a685-49d5-935d-7df1d01ffbd6\",\"type\":\"Range1d\"},{\"attributes\":{\"fill_color\":{\"value\":\"#1f77b4\"},\"line_color\":{\"value\":\"#1f77b4\"},\"x\":{\"field\":\"x\"},\"y\":{\"field\":\"y\"}},\"id\":\"aa5a6fb1-62eb-4c4e-9765-4554446a7671\",\"type\":\"Circle\"},{\"attributes\":{\"callback\":null,\"end\":5.0,\"start\":-5.0},\"id\":\"996dfc26-f9a5-4ce1-9b5d-bead5cb765ed\",\"type\":\"Range1d\"},{\"attributes\":{},\"id\":\"a6917a83-6ac8-4663-a466-cdd0826014c9\",\"type\":\"LinearScale\"},{\"attributes\":{\"fill_alpha\":0.1,\"fill_color\":\"#1f77b4\",\"line_alpha\":0.1,\"line_color\":\"#1f77b4\",\"x\":{\"field\":\"x\"},\"y\":{\"field\":\"y\"}},\"id\":\"6882d87d-fd24-48cb-92b3-03eeadea1831\",\"type\":\"Patch\"},{\"attributes\":{},\"id\":\"998da6e0-63ef-4da6-9719-5295c1ef0760\",\"type\":\"LinearScale\"},{\"attributes\":{\"plot\":{\"id\":\"721aa4fe-d8de-4b90-97cb-14a25fb7b41d\",\"subtype\":\"Figure\",\"type\":\"Plot\"},\"ticker\":{\"id\":\"aa50de29-7c1e-4c59-a67c-869d8fe5350f\",\"type\":\"BasicTicker\"}},\"id\":\"28315bce-2bef-4fa5-95b5-2f425f16db32\",\"type\":\"Grid\"},{\"attributes\":{\"formatter\":{\"id\":\"f967f324-19d6-47d3-8e29-b5c17bff381a\",\"type\":\"BasicTickFormatter\"},\"plot\":{\"id\":\"721aa4fe-d8de-4b90-97cb-14a25fb7b41d\",\"subtype\":\"Figure\",\"type\":\"Plot\"},\"ticker\":{\"id\":\"aa50de29-7c1e-4c59-a67c-869d8fe5350f\",\"type\":\"BasicTicker\"}},\"id\":\"5b048d70-ca0a-4a96-8c27-f40cb86bebd8\",\"type\":\"LinearAxis\"},{\"attributes\":{},\"id\":\"aa50de29-7c1e-4c59-a67c-869d8fe5350f\",\"type\":\"BasicTicker\"},{\"attributes\":{\"formatter\":{\"id\":\"165a7f7f-fd88-4b34-bb99-e246020028e3\",\"type\":\"BasicTickFormatter\"},\"plot\":{\"id\":\"721aa4fe-d8de-4b90-97cb-14a25fb7b41d\",\"subtype\":\"Figure\",\"type\":\"Plot\"},\"ticker\":{\"id\":\"e2fa7974-4eb1-4c12-b0ea-3db2d525c2f7\",\"type\":\"BasicTicker\"}},\"id\":\"4fa80bcd-5b7e-4c80-b386-718fb02a0f5e\",\"type\":\"LinearAxis\"},{\"attributes\":{},\"id\":\"e2fa7974-4eb1-4c12-b0ea-3db2d525c2f7\",\"type\":\"BasicTicker\"},{\"attributes\":{\"callback\":null,\"data\":{\"x\":{\"__ndarray__\":\"AAAAU0CyUUCX3pT+DalRQFL4+62AjVFAYG8BXbVfUUC4txc43B9RQNZcqmk4zlBA7S520x9rUEBjVmJo9e1PQDNSwnOG5E5A6FCpAgq7TUCC6okGuXJMQD1BeN/sDEtAnezX8B2LSUBpEGoV4u5HQC0kXPTqOUZAdosYOQRuREAK4rivEY1CQOqpFkgNmUBA4ncjAwooPUAAuHiDMQA5QIcJZjDwvjRAk5vz479oMEDzkCr7YAQoQLfFclaMPx5AVkBr9Ci0CEA+gNZoSFP2v57FcvZJehfA55Aqy7+hJMAiN+eX3m4twIEJZpifDTPA+bd46+BON8DddyNruXY7wM5TLfjJgD/AB+K4Y2m0QcByixjtW5VDwCskXKhCYUXAZBBqyTkWR8Cc7NekdbJIwDtBeJNENErAgOqJuhCaS8DlUKm2YeJMwDFSwifeC07AYlZiHE0VT8DYXexal/1PwNZcqkPkYVDAuLcXEoizUMBgbwE3YfNQwFL4+4csIVHAl96U2Lk8UcAAAAAt7EVRwAAAAC3sRVHAl96U2Lk8UcBS+PuHLCFRwGBvATdh81DAuLcXEoizUMDWXKpD5GFQwNhd7FqX/U/AYlZiHE0VT8AxUsIn3gtOwOVQqbZh4kzAgOqJuhCaS8A7QXiTRDRKwJzs16R1skjAZBBqyTkWR8ArJFyoQmFFwHKLGO1blUPAB+K4Y2m0QcDOUy34yYA/wN13I2u5djvA+bd46+BON8CBCWaYnw0zwCI355febi3A55Aqy7+hJMCexXL2SXoXwD6A1mhIU/a/VkBr9Ci0CEC3xXJWjD8eQPOQKvtgBChAk5vz479oMECHCWYw8L40QAC4eIMxADlA4ncjAwooPUDqqRZIDZlAQAriuK8RjUJAdosYOQRuREAtJFz06jlGQGkQahXi7kdAnezX8B2LSUA9QXjf7AxLQILqiQa5ckxA6FCpAgq7TUAzUsJzhuROQGNWYmj17U9A7S520x9rUEDWXKppOM5QQLi3FzjcH1FAYG8BXbVfUUBS+PutgI1RQJfelP4NqVFAAAAAU0CyUUA=\",\"dtype\":\"float64\",\"shape\":[100]},\"y\":{\"__ndarray__\":\"AAAAoNWHSUBRONX3ZsVLQPGeBfGcAE5AgF7SU48bUEASj00VTDNRQEgoR3deRlJANGGAHKVTU0DIGI/ABFpUQLYf2mFpWFVAWBzyY8dNVkC0mRWpHDlXQAQduKFxGVhA157uUNrtWEBsc69Ed7VZQDN84IB2b1pAvF08XBQbW0CLWiZOnLdbQEhNlKxpRFxACvpGWejAXEB0fppdlSxdQI73SnT/hl1AQHCcgMfPXUCDv2jyoAZeQJEVqhZSK15ALH4tVLQ9XkAsfi1UtD1eQJEVqhZSK15AhL9o8qAGXkBAcJyAx89dQI/3SnT/hl1AdX6aXZUsXUAL+kZZ6MBcQEhNlKxpRFxAjFomTpy3W0C8XTxcFBtbQDR84IB2b1pAbHOvRHe1WUDYnu5Q2u1YQAYduKFxGVhAtpkVqRw5V0BaHPJjx01WQLgf2mFpWFVAyRiPwARaVEA2YYAcpVNTQEgoR3deRlJAFI9NFUwzUUCBXtJTjxtQQPaeBfGcAE5AVDjV92bFS0ABAACg1YdJQP///5/Vh0lArMcqSERKR0AKYfpODg9FQP5CW5iM2EJA2OFkFROpQEDeXuOi3AU9QCp7/g3C0DhA3JzDfUO3NEAggZf4sL0wQDAdb+Bx0ClAVDJTt8d1IkCYL37kP+YWQBAlLOJpPwNAQLa5V9LQ5r+Ahg8cHPQMwMjbxcPrMxnAXNQycTV+IcBEaqJkoOQlwFjQN8qVyCnAqPPT7P0lLcB4vFeiTvkvwADBcYLHHzHAEP6iSS37McBEVqja8Y0ywLD4tdB61zLAsPi10HrXMsBEVqja8Y0ywAz+okkt+zHAAMFxgscfMcBwvFeiTvkvwKDz0+z9JS3AVNA3ypXIKcBAaqJkoOQlwFjUMnE1fiHAuNvFw+szGcBghg8cHPQMwMC1uVfS0Oa/ICUs4mk/A0C4L37kP+YWQFwyU7fHdSJARB1v4HHQKUAmgZf4sL0wQN6cw31DtzRAMnv+DcLQOEDhXuOi3AU9QNzhZBUTqUBAAUNbmIzYQkAPYfpODg9FQK/HKkhESkdAAAAAoNWHSUA=\",\"dtype\":\"float64\",\"shape\":[100]}},\"selected\":{\"id\":\"06b12502-aef9-4da5-a2bf-3aa45462914c\",\"type\":\"Selection\"},\"selection_policy\":{\"id\":\"b524c2c2-1423-414e-834a-c8a20d9a5fe5\",\"type\":\"UnionRenderers\"}},\"id\":\"816a810e-f5cf-4250-a43b-a6fb75b82688\",\"type\":\"ColumnDataSource\"},{\"attributes\":{\"data_source\":{\"id\":\"816a810e-f5cf-4250-a43b-a6fb75b82688\",\"type\":\"ColumnDataSource\"},\"glyph\":{\"id\":\"87c8cb19-27b0-4c87-a74a-b250d65a80f7\",\"type\":\"Patch\"},\"hover_glyph\":null,\"muted_glyph\":null,\"nonselection_glyph\":{\"id\":\"6882d87d-fd24-48cb-92b3-03eeadea1831\",\"type\":\"Patch\"},\"selection_glyph\":null,\"view\":{\"id\":\"f1015000-1f13-44e7-857e-18462e37f12f\",\"type\":\"CDSView\"}},\"id\":\"a3b73afc-87ec-4604-9430-8655b821b218\",\"type\":\"GlyphRenderer\"},{\"attributes\":{\"dimension\":1,\"plot\":{\"id\":\"721aa4fe-d8de-4b90-97cb-14a25fb7b41d\",\"subtype\":\"Figure\",\"type\":\"Plot\"},\"ticker\":{\"id\":\"e2fa7974-4eb1-4c12-b0ea-3db2d525c2f7\",\"type\":\"BasicTicker\"}},\"id\":\"39d91ca1-216f-4413-bd86-d1e0e90c856f\",\"type\":\"Grid\"},{\"attributes\":{\"fill_alpha\":{\"value\":0.1},\"fill_color\":{\"value\":\"#1f77b4\"},\"line_alpha\":{\"value\":0.1},\"line_color\":{\"value\":\"#1f77b4\"},\"x\":{\"field\":\"x\"},\"y\":{\"field\":\"y\"}},\"id\":\"2b7a0ed4-fd7e-4045-a552-1cd0d63f20b4\",\"type\":\"Circle\"},{\"attributes\":{\"source\":{\"id\":\"816a810e-f5cf-4250-a43b-a6fb75b82688\",\"type\":\"ColumnDataSource\"}},\"id\":\"f1015000-1f13-44e7-857e-18462e37f12f\",\"type\":\"CDSView\"},{\"attributes\":{\"plot\":null,\"text\":\"\"},\"id\":\"54d792a2-8112-4b83-b5fd-70d02aa71531\",\"type\":\"Title\"},{\"attributes\":{\"bottom_units\":\"screen\",\"fill_alpha\":{\"value\":0.5},\"fill_color\":{\"value\":\"lightgrey\"},\"left_units\":\"screen\",\"level\":\"overlay\",\"line_alpha\":{\"value\":1.0},\"line_color\":{\"value\":\"black\"},\"line_dash\":[4,4],\"line_width\":{\"value\":2},\"plot\":null,\"render_mode\":\"css\",\"right_units\":\"screen\",\"top_units\":\"screen\"},\"id\":\"4a1faddc-90e9-410b-a9af-2cfae1153499\",\"type\":\"BoxAnnotation\"},{\"attributes\":{},\"id\":\"02b3d17d-0838-4668-afb4-ccad99680834\",\"type\":\"PanTool\"},{\"attributes\":{\"source\":{\"id\":\"3874ad91-498c-46c2-9857-d0a4c627c30f\",\"type\":\"ColumnDataSource\"}},\"id\":\"a18c2ddb-4344-4dae-b30f-d0b26f1b7135\",\"type\":\"CDSView\"},{\"attributes\":{},\"id\":\"704e0d17-f262-4d0f-95dc-869aaa41cb68\",\"type\":\"WheelZoomTool\"},{\"attributes\":{\"overlay\":{\"id\":\"4a1faddc-90e9-410b-a9af-2cfae1153499\",\"type\":\"BoxAnnotation\"}},\"id\":\"580e6ac6-a4f4-4b06-b19f-7f9166cb1d43\",\"type\":\"BoxZoomTool\"},{\"attributes\":{},\"id\":\"ce62327c-87af-4384-b7b6-d073554fdd44\",\"type\":\"SaveTool\"},{\"attributes\":{},\"id\":\"912299c7-6f9c-47c4-9701-742803a832b0\",\"type\":\"ResetTool\"},{\"attributes\":{},\"id\":\"1499acab-2d20-4c40-94e4-6a6ef2aee7e3\",\"type\":\"HelpTool\"},{\"attributes\":{\"callback\":null,\"data\":{\"x\":{\"__ndarray__\":\"AAAAZmroQUCX3pQRON9BQFL4+8Cqw0FAYG8BcN+VQUC4txdLBlZBQNZcqnxiBEFA7S525kmhQEAyKzHHJC1AQDNSwpnaUD9A6FCpKF4nPkCC6oksDd88QD1BeAVBeTtAnezXFnL3OUBpEGo7Nls4QC0kXBo/pjZAdosYX1jaNEAK4rjVZfkyQOqpFm5hBTFA4ncjT7IALkAAuHjP2dgpQIcJZnyYlyVAk5vzL2hBIUDzkCqTsbUZQNxiOcMW0RBAVkBrVGt5/z98AK1Rh5HRv57FcsaoFwTA55AqM2/wEsAiN+f/jb0bwIEJZkz3NCLA+bd4nzh2JsDddyMfEZ4qwM5TLawhqC7AB+K4PRVIMcByixjHBykzwCskXILu9DTAZBBqo+WpNsCc7Nd+IUY4wDtBeG3wxznAgOqJlLwtO8DlUKmQDXY8wDFSwgGKnz3AYlZi9vioPsDYXew0Q5E/wNZcqjC6K0DAuLcX/119QMBgbwEkN71AwFL4+3QC60DAl96UxY8GQcAAAAAawg9BwAAAABrCD0HAl96UxY8GQcBS+Pt0AutAwGBvASQ3vUDAuLcX/119QMDWXKowuitAwNhd7DRDkT/AYlZi9vioPsAxUsIBip89wOVQqZANdjzAgOqJlLwtO8A7QXht8Mc5wJzs134hRjjAZBBqo+WpNsArJFyC7vQ0wHKLGMcHKTPAB+K4PRVIMcDOUy2sIaguwN13Ix8RnirA+bd4nzh2JsCBCWZM9zQiwCI35/+NvRvA55AqM2/wEsCexXLGqBcEwHwArVGHkdG/VkBrVGt5/z/cYjnDFtEQQPOQKpOxtRlAk5vzL2hBIUCHCWZ8mJclQAC4eM/Z2ClA4ncjT7IALkDqqRZuYQUxQAriuNVl+TJAdosYX1jaNEAtJFwaP6Y2QGkQajs2WzhAnezXFnL3OUA9QXgFQXk7QILqiSwN3zxA6FCpKF4nPkAzUsKZ2lA/QDIrMcckLUBA7S525kmhQEDWXKp8YgRBQLi3F0sGVkFAYG8BcN+VQUBS+PvAqsNBQJfelBE430FAAAAAZmroQUA=\",\"dtype\":\"float64\",\"shape\":[100]},\"y\":{\"__ndarray__\":\"AAAAoNWHSUAonOpLnqZKQHjPgkg5xEtAgF7SI3rfTEASj03lNvdNQEgoR0dJCk9AmjBA9scLUEBkjEfI945QQNsP7RgqDlFALA75GdmIUUDazIq8g/5RQIIO3DiublJAbE93kOLYUkC2uVcKsTxTQBo+cKiwmVNA3i4eln/vU0BGLROPwz1UQKQmSj4qhFRABX2jlGnCVEA6P80WQPhUQMd7JSJ1JVVAIDhOKNlJVUDCXzThRWVVQMgKVXOed1VAFr8Wks+AVUAWvxaSz4BVQMgKVXOed1VAwl804UVlVUAgOE4o2UlVQMh7JSJ1JVVAOj/NFkD4VEAGfaOUacJUQKQmSj4qhFRARi0Tj8M9VEDeLh6Wf+9TQBo+cKiwmVNAtrlXCrE8U0BsT3eQ4thSQIMO3DiublJA28yKvIP+UUAtDvkZ2YhRQNwP7RgqDlFAZIxHyPeOUECbMED2xwtQQEgoR0dJCk9AFI9N5Tb3TUCBXtIjet9MQHvPgkg5xEtAKpzqS56mSkABAACg1YdJQP///5/Vh0lA1mMV9AxpSECFMH33cUtHQH+hLRwxMEZA7HCyWnQYRUC417j4YQVEQMqef1Mb+EJAN+dwr7vxQUBI4CUOV/NAQEzHGxjy+z9AlczUjUclPkDzxY+cnWQ8QFHCIj7MuzpAJxmhVpIsOUCYBz/ek7g3QIdEhydYYTZA6UqzQ0goNUBvZdeGrQ40QOoLci2wFTNAFgPLJFY+MkDiEGr3gYkxQIAfx97x9zBA+IAu+z6KMEDe1Kuy3EAwQKgDpTcYHDBAqAOlNxgcMEDe1Kuy3EAwQPqALvs+ijBAgB/H3vH3MEDkEGr3gYkxQBgDyyRWPjJA6wtyLbAVM0BwZdeGrQ40QOpKs0NIKDVAiUSHJ1hhNkCaBz/ek7g3QCkZoVaSLDlAUsIiPsy7OkD3xY+cnWQ8QJfM1I1HJT5AUccbGPL7P0BK4CUOV/NAQDjncK+78UFAzJ5/Uxv4QkC417j4YQVEQO5wslp0GEVAgKEtHDEwRkCIMH33cUtHQNhjFfQMaUhAAAAAoNWHSUA=\",\"dtype\":\"float64\",\"shape\":[100]}},\"selected\":{\"id\":\"7ce7d2ce-7f45-4ee7-ae02-45707d9df9ab\",\"type\":\"Selection\"},\"selection_policy\":{\"id\":\"4f302e5e-32a3-44df-a5cd-f84d633d0c97\",\"type\":\"UnionRenderers\"}},\"id\":\"7172ed8c-290f-4795-8723-bd93d71a4699\",\"type\":\"ColumnDataSource\"},{\"attributes\":{\"fill_alpha\":0.3,\"fill_color\":\"green\",\"x\":{\"field\":\"x\"},\"y\":{\"field\":\"y\"}},\"id\":\"548609ef-b4d9-4b1f-9de7-273fcd6e1cc0\",\"type\":\"Patch\"},{\"attributes\":{\"callback\":null,\"data\":{\"x\":{\"__ndarray__\":\"AAAAeJPzKEAjnlCmV+coQEb9zQ+xwihAufGQQsaFKECqr7BT1zAoQOtP2Zs9xCdAbbNOWWtAJ0C4pL4366UmQM6jYL5f9SVAD9H8pIIvJUBZ0o0QJFUkQDw3S7gpZyNAU7IC9I1mIkDPXL60XlQhQPwMzWi8MSBAGPGumLH/HUDJooJP638bQNtjUfrG5hhA9d/PTAA3FkBAchzKanMTQGQ+pMvunhBAEKE55Ax5C0BE9JMHdZ4FQCQ3be18aP8/OkfzKkSB8z9j4zJUFU/eP0zctLXNTdG/eegnj+An8L8aQnNIEN37v798SNdYswPAduQ41FBcCcDiv5/Ze+MOwNhjUZqEIRLAxqKC76i6FMAT8a44bzoXwPUZmnE2nhnAmLl8CXvjG8CkZAWI2QcewDs3S4iIBCDAV9KN4ILyIMAN0fx04cwhwM2jYI6+kiLAt6S+B0pDI8Bss04pyt0jwOtP2WucYSTAqq+wIzbOJMC58ZASJSMlwEX9zd8PYCXAI55QdraEJcAAAABI8pAlwAAAAEjykCXAI55QdraEJcBF/c3fD2AlwLnxkBIlIyXAqq+wIzbOJMDrT9lrnGEkwGyzTinK3SPAt6S+B0pDI8DNo2COvpIiwA3R/HThzCHAV9KN4ILyIMA7N0uIiAQgwKRkBYjZBx7AmLl8CXvjG8D1GZpxNp4ZwBPxrjhvOhfAxqKC76i6FMDYY1GahCESwOK/n9l74w7AduQ41FBcCcC/fEjXWLMDwBpCc0gQ3fu/eegnj+An8L9M3LS1zU3Rv2PjMlQVT94/OkfzKkSB8z8kN23tfGj/P0T0kwd1ngVAEKE55Ax5C0BkPqTL7p4QQEByHMpqcxNA9d/PTAA3FkDbY1H6xuYYQMmigk/rfxtAGPGumLH/HUD8DM1ovDEgQM9cvrReVCFAU7IC9I1mIkA8N0u4KWcjQFnSjRAkVSRAD9H8pIIvJUDOo2C+X/UlQLikvjfrpSZAbbNOWWtAJ0DrT9mbPcQnQKqvsFPXMChAufGQQsaFKEBG/c0PscIoQCOeUKZX5yhAAAAAeJPzKEA=\",\"dtype\":\"float64\",\"shape\":[100]},\"y\":{\"__ndarray__\":\"AAAAoNWHSUDwmQpTCR5MQIPSHWqEsU5AixcIk8ifUECWkCi/v+JRQB66WPpTIFNABOAXMDdXVECed+xVIoZVQCq6bMPWq1ZAxK11gR/HV0DW+i+P0tZYQAymjBvS2VlAMOjvsQ3PWkDE2c1Yg7VbQFBxC6FAjFxAq1kGpWNSXUAaWDf2GwdeQAxHdXirqV5A2f3xKWc5X0CdxB7Xt7VfQGOL3VwND2BA+jAzARE5YEDABBKmulhgQBIVrPzobWBAE6btvIV4YEATpu28hXhgQBIVrPzobWBAwAQSprpYYED6MDMBETlgQGSL3VwND2BAnsQe17e1X0Da/fEpZzlfQAxHdXirqV5AG1g39hsHXkCtWQalY1JdQFJxC6FAjFxAxtnNWIO1W0Aw6O+xDc9aQA6mjBvS2VlA1/ovj9LWWEDHrXWBH8dXQCy6bMPWq1ZAnnfsVSKGVUAG4BcwN1dUQB66WPpTIFNAmJAov7/iUUCNFwiTyJ9QQInSHWqEsU5A85kKUwkeTEABAACg1YdJQP///5/Vh0lADWb17KHxRkB3LeLVJl5EQOfQ7xka0EFAnr1dg1eUPkCGF52WBp45QOd/oL95wjRAhiFOKM0GMECgLprk9t8mQJAjpehhCxxAIKUAGmIgBkBggynjHn/0vwiD/h6BcxTALM5uxm1tIcCMilsIWCMowGjNMihwVC7AbGDdWBn9McAwHNVhV4c0wGj3xydGxjbAeBJ73Ii3OMAcW+xmFFk6wNCHmYkxqTvA/CWQsH6mPMCMqGBl8U89wJgwbWfXpD3AmDBtZ9ekPcCMqGBl8U89wPwlkLB+pjzA0IeZiTGpO8AYW+xmFFk6wHQSe9yItzjAZPfHJ0bGNsAwHNVhV4c0wGhg3VgZ/THAWM0yKHBULsCEilsIWCMowCTObsZtbSHAAIP+HoFzFMDgginjHn/0v1ClABpiIAZAuCOl6GELHECsLprk9t8mQIghTijNBjBA8H+gv3nCNECKF52WBp45QKi9XYNXlD5A6tDvGRrQQUB9LeLVJl5EQBBm9eyh8UZAAAAAoNWHSUA=\",\"dtype\":\"float64\",\"shape\":[100]}},\"selected\":{\"id\":\"0602f60f-fd4f-4f66-8f2e-0bc323827fad\",\"type\":\"Selection\"},\"selection_policy\":{\"id\":\"8feb6dc0-262e-4c42-a71b-2e5c0746ff94\",\"type\":\"UnionRenderers\"}},\"id\":\"1a3d176e-6d13-43e8-9709-7b02f66cc9e0\",\"type\":\"ColumnDataSource\"},{\"attributes\":{\"fill_alpha\":0.1,\"fill_color\":\"#1f77b4\",\"line_alpha\":0.1,\"line_color\":\"#1f77b4\",\"x\":{\"field\":\"x\"},\"y\":{\"field\":\"y\"}},\"id\":\"05349852-dabe-4785-b53b-984b1a2938b1\",\"type\":\"Patch\"},{\"attributes\":{\"fill_alpha\":0.1,\"fill_color\":\"#1f77b4\",\"line_alpha\":0.1,\"line_color\":\"#1f77b4\",\"x\":{\"field\":\"x\"},\"y\":{\"field\":\"y\"}},\"id\":\"a0037658-551a-41ea-a2f4-5392f939dde0\",\"type\":\"Patch\"},{\"attributes\":{\"source\":{\"id\":\"7172ed8c-290f-4795-8723-bd93d71a4699\",\"type\":\"ColumnDataSource\"}},\"id\":\"55f7cc08-13e0-405c-b2ac-3fdfe959d4fb\",\"type\":\"CDSView\"},{\"attributes\":{\"data_source\":{\"id\":\"7172ed8c-290f-4795-8723-bd93d71a4699\",\"type\":\"ColumnDataSource\"},\"glyph\":{\"id\":\"548609ef-b4d9-4b1f-9de7-273fcd6e1cc0\",\"type\":\"Patch\"},\"hover_glyph\":null,\"muted_glyph\":null,\"nonselection_glyph\":{\"id\":\"05349852-dabe-4785-b53b-984b1a2938b1\",\"type\":\"Patch\"},\"selection_glyph\":null,\"view\":{\"id\":\"55f7cc08-13e0-405c-b2ac-3fdfe959d4fb\",\"type\":\"CDSView\"}},\"id\":\"515b02b9-1e19-4a3c-904d-2cedd50e211c\",\"type\":\"GlyphRenderer\"},{\"attributes\":{\"callback\":null,\"data\":{\"x\":{\"__ndarray__\":\"AAAAeJPzKEAjnlCmV+coQEb9zQ+xwihAufGQQsaFKECqr7BT1zAoQOtP2Zs9xCdAbbNOWWtAJ0C4pL4366UmQM6jYL5f9SVAD9H8pIIvJUBZ0o0QJFUkQDw3S7gpZyNAU7IC9I1mIkDPXL60XlQhQPwMzWi8MSBAGPGumLH/HUDJooJP638bQNtjUfrG5hhA9d/PTAA3FkBAchzKanMTQGQ+pMvunhBAEKE55Ax5C0BE9JMHdZ4FQCQ3be18aP8/OkfzKkSB8z9j4zJUFU/eP0zctLXNTdG/eegnj+An8L8aQnNIEN37v798SNdYswPAduQ41FBcCcDiv5/Ze+MOwNhjUZqEIRLAxqKC76i6FMAT8a44bzoXwPUZmnE2nhnAmLl8CXvjG8CkZAWI2QcewDs3S4iIBCDAV9KN4ILyIMAN0fx04cwhwM2jYI6+kiLAt6S+B0pDI8Bss04pyt0jwOtP2WucYSTAqq+wIzbOJMC58ZASJSMlwEX9zd8PYCXAI55QdraEJcAAAABI8pAlwAAAAEjykCXAI55QdraEJcBF/c3fD2AlwLnxkBIlIyXAqq+wIzbOJMDrT9lrnGEkwGyzTinK3SPAt6S+B0pDI8DNo2COvpIiwA3R/HThzCHAV9KN4ILyIMA7N0uIiAQgwKRkBYjZBx7AmLl8CXvjG8D1GZpxNp4ZwBPxrjhvOhfAxqKC76i6FMDYY1GahCESwOK/n9l74w7AduQ41FBcCcC/fEjXWLMDwBpCc0gQ3fu/eegnj+An8L9M3LS1zU3Rv2PjMlQVT94/OkfzKkSB8z8kN23tfGj/P0T0kwd1ngVAEKE55Ax5C0BkPqTL7p4QQEByHMpqcxNA9d/PTAA3FkDbY1H6xuYYQMmigk/rfxtAGPGumLH/HUD8DM1ovDEgQM9cvrReVCFAU7IC9I1mIkA8N0u4KWcjQFnSjRAkVSRAD9H8pIIvJUDOo2C+X/UlQLikvjfrpSZAbbNOWWtAJ0DrT9mbPcQnQKqvsFPXMChAufGQQsaFKEBG/c0PscIoQCOeUKZX5yhAAAAAeJPzKEA=\",\"dtype\":\"float64\",\"shape\":[100]},\"y\":{\"__ndarray__\":\"AAAA8C/IREA2r3FgSlxHQD+dsTmt8klAxAsvrp+ITEBC/5RmaRtPQDb5J68q1FBA40lKXloWUkDOUnTT8FJTQFb2GgWhiFRA04a8KyW2VUBAoZUYQNpWQHbwSoO+81dA+NgoTXgBWUAEAqW4UQJaQM0K2pM89VpA8m3DVDnZW0CQkg4mWK1cQDVCZuO5cF1AVBwvBJEiXkB7GL5zIsJeQMmkJVbGTl9AzVnKuOjHX0AowQIXhRZgQCnfmCngPmBAyl5KINtcYECfK1hxVnBgQNOETp49eWBAfAqUSYd3YECa6kNANWtgQIbQSHhUVGBADJW6Av0yYEDuBo3yUQdgQGrbVG8Co19AOy5B3YYjX0CyiSZKt5BeQLxAZSYu611AH9H/lJkzXUAammu0umpcQEuiadNkkVtARCK9knyoWkAkqqn09rBZQObiNVvYq1hAUg1CdjOaV0AsY5IiKH1WQPhT/TriVVVAKyv8XJglVECY8umhiu1SQNZMSE4Br1FAh4FseEtrUEACAABQe0dOQP7//097R05Ax1CO32CzS0C8Yk4G/hxJQDn00JELh0ZAuABr2UH0Q0CRDbDhVWdBQGvY1gbtxT1AxrQuMpPTOECjJpRr0vwzQFTJG6KDjS5A9PVSO6xsJUCA+FDLcUEZQPDg5FqqywBAgIFAKQaf/r/orKA9b9YWwKBvG6YdiyLAiJR0MBQsKcCwETIbIkcvwFRxvJDtajLA8GH4TjPpNMAok5bYwhs3wDRnKWNMADnAPAkWONKUOsBI+cbMqtc7wFD2UoKCxzzA+FzBCl1jPcCYJnRylqo9wORToMzjnD3A1FQfglM6PcAshEZCTYM8wFyo1JWReDvAcDdoFDkbOsCsbVM9s2w4wOi4BPXEbjbAwCaaqIYjNMDoApUZYo0xwPCI/qcfXi3AyNBcoygXJ8BIEk2beUwgwDAk0itvChLAgBDVVKqQ5L9wo0OZqH8LQOAq35si2h5AtOZs62tVKEAmsAqUzccwQF9TDwz1iDVApzVY+CtpOkC0zN5GUWM/QPb8Jk8UOUJAAAAA8C/IREA=\",\"dtype\":\"float64\",\"shape\":[100]}},\"selected\":{\"id\":\"a3c630ae-afc9-419a-807e-fc5ebe86428a\",\"type\":\"Selection\"},\"selection_policy\":{\"id\":\"8b8eb937-acfc-4af6-8a72-73d19224bcfd\",\"type\":\"UnionRenderers\"}},\"id\":\"b24fc952-9c16-4576-a2f1-be4c1e85b7b6\",\"type\":\"ColumnDataSource\"},{\"attributes\":{\"fill_alpha\":0.3,\"fill_color\":\"#98AFC7\",\"x\":{\"field\":\"x\"},\"y\":{\"field\":\"y\"}},\"id\":\"74c2fcd6-b1b0-4865-b53f-5a8ee3461671\",\"type\":\"Patch\"},{\"attributes\":{\"data_source\":{\"id\":\"1a3d176e-6d13-43e8-9709-7b02f66cc9e0\",\"type\":\"ColumnDataSource\"},\"glyph\":{\"id\":\"74c2fcd6-b1b0-4865-b53f-5a8ee3461671\",\"type\":\"Patch\"},\"hover_glyph\":null,\"muted_glyph\":null,\"nonselection_glyph\":{\"id\":\"a0037658-551a-41ea-a2f4-5392f939dde0\",\"type\":\"Patch\"},\"selection_glyph\":null,\"view\":{\"id\":\"4b1cff73-8ab3-43db-9b7b-3496fc175f4d\",\"type\":\"CDSView\"}},\"id\":\"a403ea8e-aa86-471f-9973-3b309d60659b\",\"type\":\"GlyphRenderer\"},{\"attributes\":{\"source\":{\"id\":\"1a3d176e-6d13-43e8-9709-7b02f66cc9e0\",\"type\":\"ColumnDataSource\"}},\"id\":\"4b1cff73-8ab3-43db-9b7b-3496fc175f4d\",\"type\":\"CDSView\"},{\"attributes\":{\"fill_alpha\":0.3,\"fill_color\":\"#98AFC7\",\"x\":{\"field\":\"x\"},\"y\":{\"field\":\"y\"}},\"id\":\"4d6ba25d-97e2-4564-a51d-31de3213a785\",\"type\":\"Patch\"},{\"attributes\":{\"callback\":null,\"data\":{\"x\":{\"__ndarray__\":\"AAAAEOSkGkAjnlA+qJgaQEb9zacBdBpAufGQ2hY3GkCqr7DrJ+IZQOtP2TOOdRlAbbNO8bvxGEC4pL7PO1cYQM6jYFawphdAD9H8PNPgFkBZ0o2odAYWQDw3S1B6GBVAU7ICjN4XFEDPXL5MrwUTQPwMzQAN4xFAjHhXZCmxEEDJooJ/jOIOQNtjUSpoSQxA9d/PfKGZCUBAchz6C9YGQGQ+pPuPAQRAiNAcoicfAUBE9JNnt2P8P5KbttaAefY/naN5deSF8D/ZuAwVSh7lP9qRJaUibtI/yEM/ed7qtL80hOYQF6Xcv375kO4s3Om/duQ4dA6X8r/iv595OR74v7DHotTGff2/xqKCvwdYAcAT8a4IztcDwPUZmkGVOwbAmLl82dmACMCkZAVYOKUKwHZuluBvpgzArqQbkWSCDsAN0fzckBsQwM2jYPZt4RDAt6S+b/mREcBss06ReSwSwOtP2dNLsBLAqq+wi+UcE8C58ZB61HETwEX9zUe/rhPAI55Q3mXTE8AAAACwod8TwAAAALCh3xPAI55Q3mXTE8BF/c1Hv64TwLnxkHrUcRPAqq+wi+UcE8DrT9nTS7ASwGyzTpF5LBLAt6S+b/mREcDNo2D2beEQwA3R/NyQGxDArqQbkWSCDsB2bpbgb6YMwKRkBVg4pQrAmLl82dmACMD1GZpBlTsGwBPxrgjO1wPAxqKCvwdYAcCwx6LUxn39v+K/n3k5Hvi/duQ4dA6X8r9++ZDuLNzpvzSE5hAXpdy/yEM/ed7qtL/akSWlIm7SP9m4DBVKHuU/naN5deSF8D+Sm7bWgHn2P0T0k2e3Y/w/iNAcoicfAUBkPqT7jwEEQEByHPoL1gZA9d/PfKGZCUDbY1EqaEkMQMmign+M4g5AjHhXZCmxEED8DM0ADeMRQM9cvkyvBRNAU7ICjN4XFEA8N0tQehgVQFnSjah0BhZAD9H8PNPgFkDOo2BWsKYXQLikvs87VxhAbbNO8bvxGEDrT9kzjnUZQKqvsOsn4hlAufGQ2hY3GkBG/c2nAXQaQCOeUD6omBpAAAAAEOSkGkA=\",\"dtype\":\"float64\",\"shape\":[100]},\"y\":{\"__ndarray__\":\"AAAAoNWHSUD4TIV579JKQELpDgWtHExAixcIY7NjTUCWkCiPqqZOQB66WMo+5E9AAvALAJGNUEDPO/aSBiVRQBVdtsngt1FA4ta6KIVFUkBr/ZevXs1SQAZTxnXeTlNAGPT3QHzJU0Di7GYUtzxUQKi4hbgVqFRA1iyDOicLVUANrBtjg2VVQIajOiTLtlVA7P74/Kj+VUBOYo9T0TxWQGOL3cQCcVZA+jAzaQabVkDABBIOsLpWQBIVrGTez1ZAE6btJHvaVkATpu0ke9pWQBIVrGTez1ZAwAQSDrC6VkD6MDNpBptWQGSL3cQCcVZAT2KPU9E8VkDt/vj8qP5VQIajOiTLtlVADqwbY4NlVUDWLIM6JwtVQKm4hbgVqFRA4+xmFLc8VEAY9PdAfMlTQAdTxnXeTlNAbP2Xr17NUkDk1roohUVSQBZdtsngt1FAzzv2kgYlUUAD8AsAkY1QQB66WMo+5E9AmJAoj6qmTkCNFwhjs2NNQETpDgWtHExA+kyFee/SSkABAACg1YdJQP///5/Vh0lABrN6xrs8SEC8FvE6/vJGQHPo99z3q0VAaG/XsABpREDiRad1bCtDQPof6D+J9EFAYogTGp7FQECoiyZZ0z8/QHKkFN1BCT1AUgqgwdvpOkDls+ao3OM4QJ8vIHxl+TZAdUxkLnosNUBdHemd/34zQKZM85W58jFAyk+R80iJMEDQ4yreU4guQJgIOBhlSSxAiO2EYyJYKkDkpBPZlrYoQDB4ZrZ5ZidABNpvjyxpJkB0V5/aub8lQGjPktjTaiVAaM+S2NNqJUB0V5/aub8lQATab48saSZAMHhmtnlmJ0DopBPZlrYoQIzthGMiWCpAnAg4GGVJLEDQ4yreU4guQMxPkfNIiTBAqkzzlbnyMUBfHemd/34zQHdMZC56LDVAoC8gfGX5NkDps+ao3OM4QFUKoMHb6TpAd6QU3UEJPUCriyZZ0z8/QGKIExqexUBA/B/oP4n0QUDiRad1bCtDQGpv17AAaURAdej33PerRUC+FvE6/vJGQAizesa7PEhAAAAAoNWHSUA=\",\"dtype\":\"float64\",\"shape\":[100]}},\"selected\":{\"id\":\"8e25726e-b8b8-400c-8201-6fba59f9d128\",\"type\":\"Selection\"},\"selection_policy\":{\"id\":\"328de645-9b12-4e35-9a47-798a83abd4fd\",\"type\":\"UnionRenderers\"}},\"id\":\"53a4bcb7-578e-4c3d-b1f1-b114f631648a\",\"type\":\"ColumnDataSource\"},{\"attributes\":{\"fill_alpha\":0.1,\"fill_color\":\"#1f77b4\",\"line_alpha\":0.1,\"line_color\":\"#1f77b4\",\"x\":{\"field\":\"x\"},\"y\":{\"field\":\"y\"}},\"id\":\"93a8a1bf-5079-4ac1-874c-9352f300781b\",\"type\":\"Patch\"},{\"attributes\":{\"data_source\":{\"id\":\"53a4bcb7-578e-4c3d-b1f1-b114f631648a\",\"type\":\"ColumnDataSource\"},\"glyph\":{\"id\":\"4d6ba25d-97e2-4564-a51d-31de3213a785\",\"type\":\"Patch\"},\"hover_glyph\":null,\"muted_glyph\":null,\"nonselection_glyph\":{\"id\":\"93a8a1bf-5079-4ac1-874c-9352f300781b\",\"type\":\"Patch\"},\"selection_glyph\":null,\"view\":{\"id\":\"63d41d60-b9ef-4b7f-93b8-efe8e7a318ee\",\"type\":\"CDSView\"}},\"id\":\"826d5d4f-f872-45ae-bc71-56097316aa4f\",\"type\":\"GlyphRenderer\"},{\"attributes\":{\"source\":{\"id\":\"53a4bcb7-578e-4c3d-b1f1-b114f631648a\",\"type\":\"ColumnDataSource\"}},\"id\":\"63d41d60-b9ef-4b7f-93b8-efe8e7a318ee\",\"type\":\"CDSView\"},{\"attributes\":{\"fill_alpha\":0.3,\"fill_color\":\"#C7B097\",\"x\":{\"field\":\"x\"},\"y\":{\"field\":\"y\"}},\"id\":\"e1c6e4e5-6552-4ade-991a-25d68a2c0787\",\"type\":\"Patch\"},{\"attributes\":{\"fill_alpha\":0.1,\"fill_color\":\"#1f77b4\",\"line_alpha\":0.1,\"line_color\":\"#1f77b4\",\"x\":{\"field\":\"x\"},\"y\":{\"field\":\"y\"}},\"id\":\"f98c51d6-e254-4d31-a448-328d9a0d6401\",\"type\":\"Patch\"},{\"attributes\":{\"data_source\":{\"id\":\"b24fc952-9c16-4576-a2f1-be4c1e85b7b6\",\"type\":\"ColumnDataSource\"},\"glyph\":{\"id\":\"e1c6e4e5-6552-4ade-991a-25d68a2c0787\",\"type\":\"Patch\"},\"hover_glyph\":null,\"muted_glyph\":null,\"nonselection_glyph\":{\"id\":\"f98c51d6-e254-4d31-a448-328d9a0d6401\",\"type\":\"Patch\"},\"selection_glyph\":null,\"view\":{\"id\":\"63b7479f-4350-4634-aa30-79c07e84b401\",\"type\":\"CDSView\"}},\"id\":\"5a41f9d6-a1e8-4028-96e9-34d7da5c71d4\",\"type\":\"GlyphRenderer\"},{\"attributes\":{\"source\":{\"id\":\"b24fc952-9c16-4576-a2f1-be4c1e85b7b6\",\"type\":\"ColumnDataSource\"}},\"id\":\"63b7479f-4350-4634-aa30-79c07e84b401\",\"type\":\"CDSView\"},{\"attributes\":{\"fill_alpha\":0.3,\"fill_color\":\"#C7B097\",\"x\":{\"field\":\"x\"},\"y\":{\"field\":\"y\"}},\"id\":\"fd034a98-d5ea-4d16-805b-1ae0c104b45a\",\"type\":\"Patch\"},{\"attributes\":{\"callback\":null,\"data\":{\"x\":{\"__ndarray__\":\"AAAAEOSkGkAjnlA+qJgaQEb9zacBdBpAufGQ2hY3GkCqr7DrJ+IZQOtP2TOOdRlAbbNO8bvxGEC4pL7PO1cYQM6jYFawphdAD9H8PNPgFkBZ0o2odAYWQDw3S1B6GBVAU7ICjN4XFEDPXL5MrwUTQPwMzQAN4xFAjHhXZCmxEEDJooJ/jOIOQNtjUSpoSQxA9d/PfKGZCUBAchz6C9YGQGQ+pPuPAQRAiNAcoicfAUBE9JNnt2P8P5KbttaAefY/naN5deSF8D/ZuAwVSh7lP9qRJaUibtI/yEM/ed7qtL80hOYQF6Xcv375kO4s3Om/duQ4dA6X8r/iv595OR74v7DHotTGff2/xqKCvwdYAcAT8a4IztcDwPUZmkGVOwbAmLl82dmACMCkZAVYOKUKwHZuluBvpgzArqQbkWSCDsAN0fzckBsQwM2jYPZt4RDAt6S+b/mREcBss06ReSwSwOtP2dNLsBLAqq+wi+UcE8C58ZB61HETwEX9zUe/rhPAI55Q3mXTE8AAAACwod8TwAAAALCh3xPAI55Q3mXTE8BF/c1Hv64TwLnxkHrUcRPAqq+wi+UcE8DrT9nTS7ASwGyzTpF5LBLAt6S+b/mREcDNo2D2beEQwA3R/NyQGxDArqQbkWSCDsB2bpbgb6YMwKRkBVg4pQrAmLl82dmACMD1GZpBlTsGwBPxrgjO1wPAxqKCvwdYAcCwx6LUxn39v+K/n3k5Hvi/duQ4dA6X8r9++ZDuLNzpvzSE5hAXpdy/yEM/ed7qtL/akSWlIm7SP9m4DBVKHuU/naN5deSF8D+Sm7bWgHn2P0T0k2e3Y/w/iNAcoicfAUBkPqT7jwEEQEByHPoL1gZA9d/PfKGZCUDbY1EqaEkMQMmign+M4g5AjHhXZCmxEED8DM0ADeMRQM9cvkyvBRNAU7ICjN4XFEA8N0tQehgVQFnSjah0BhZAD9H8PNPgFkDOo2BWsKYXQLikvs87VxhAbbNO8bvxGEDrT9kzjnUZQKqvsOsn4hlAufGQ2hY3GkBG/c2nAXQaQCOeUD6omBpAAAAAEOSkGkA=\",\"dtype\":\"float64\",\"shape\":[100]},\"y\":{\"__ndarray__\":\"AAAAyAIoR0Cb1zgAEHJIQJ/O2GxBvUlA4oUXpzoIS0Chf0qDn1FMQDb5J38VmE1A40lKLkXaTkBnKbrRbQtQQCt7jepFplBAakPe/Qc9UUCg0Ep0Fc9RQDt4panUW1JAfGyUjrHiUkACgVJEHmNTQGYF7bGT3FNA+bZhEpJOVEBISQd7obhUQBohs1lSGlVAKo4X6j1zVUA+DN+hBsNVQGTSEpNYCVZA5ixlxOlFVkAowQJ/enhWQCnfmJHVoFZAyl5KiNC+VkCfK1jZS9JWQNOETgYz21ZAfAqUsXzZVkCa6kOoKs1WQIbQSOBJtlZADJW6avKUVkDuBo1aR2lWQLVtqp92M1ZAHpeg1rjzVUDZRBMNUapVQF6gMnuMV1VAkOh/MsL7VEANzTXCUpdUQCbRtNGnKlRAIpFesTO2U0AS1VTicDpTQHPxmpXht1JAqQYhIw8vUkCWMUl5iaBRQPypfoXmDFFAlRV+lsF0UECY8ulxdbFPQNZMSB7sck5Ah4FsSDYvTUABAAB4qOdLQP///3eo50tAYyjHP5udSkBeMSfTaVJJQBx66JhwB0hAXIC1vAu+RkDIBtjAlXdFQBu2tRFmNURAMq2LnM/4QkCpCeVqH8NBQCp5Q0SblUBAfb3UrgDjPkAQH2rZA7A8QA9OrkWQlDpA9Pu1bt2SOEBj6ku4B602QBgkeTYO5TRA3trik9A8M0CUezMZDbYxQFbHoddeUjBAEJ4H8XcmLkDYbGln6PMrQMyY1txeDypAxPbpB9l6KEC4BjlzADgnQLAJrb0oSCZACKM+NU6sJUBo2YvNFGUlQBysX3PHciVALKvgvVfVJUDUe7n9XYwmQKRXK6oZlydAkMiXK3L0KEBUkqwC+KIqQBhH+0rmoCxAQNlllyTsLkCMfjWTJMEwQMRdALZNMDJAzssodwvCM0Buuyw5t3Q1QHq7hbqHRjdAvqus9pI1OUA3OpQp0D87QFzle/MZYz1ArTnbmjCdP0AKrAI13vVAQNjUAxMoJkJAag0WzjVeQ0Ats7chv5xEQHt+k/d04EVAAAAAyAIoR0A=\",\"dtype\":\"float64\",\"shape\":[100]}},\"selected\":{\"id\":\"503a9a43-d7b6-4477-bd8c-985f254429b1\",\"type\":\"Selection\"},\"selection_policy\":{\"id\":\"acf65565-c380-4b43-a1be-527d30314e96\",\"type\":\"UnionRenderers\"}},\"id\":\"23c5a591-12e4-48d8-b412-9539d2c6f857\",\"type\":\"ColumnDataSource\"},{\"attributes\":{\"fill_alpha\":0.1,\"fill_color\":\"#1f77b4\",\"line_alpha\":0.1,\"line_color\":\"#1f77b4\",\"x\":{\"field\":\"x\"},\"y\":{\"field\":\"y\"}},\"id\":\"54b3d40c-447d-4930-a5e7-9a9f56db1933\",\"type\":\"Patch\"},{\"attributes\":{\"data_source\":{\"id\":\"23c5a591-12e4-48d8-b412-9539d2c6f857\",\"type\":\"ColumnDataSource\"},\"glyph\":{\"id\":\"fd034a98-d5ea-4d16-805b-1ae0c104b45a\",\"type\":\"Patch\"},\"hover_glyph\":null,\"muted_glyph\":null,\"nonselection_glyph\":{\"id\":\"54b3d40c-447d-4930-a5e7-9a9f56db1933\",\"type\":\"Patch\"},\"selection_glyph\":null,\"view\":{\"id\":\"ba3fe0fc-4f39-4fb1-b6fa-080215bb8aa7\",\"type\":\"CDSView\"}},\"id\":\"834ddb23-ea1b-4aa4-85e1-feb2034c445a\",\"type\":\"GlyphRenderer\"},{\"attributes\":{\"source\":{\"id\":\"23c5a591-12e4-48d8-b412-9539d2c6f857\",\"type\":\"ColumnDataSource\"}},\"id\":\"ba3fe0fc-4f39-4fb1-b6fa-080215bb8aa7\",\"type\":\"CDSView\"},{\"attributes\":{},\"id\":\"c6a8975b-4a6c-4c1d-a251-4b153f7a6bc9\",\"type\":\"UnionRenderers\"},{\"attributes\":{\"fill_alpha\":0.3,\"fill_color\":\"green\",\"x\":{\"field\":\"x\"},\"y\":{\"field\":\"y\"}},\"id\":\"87c8cb19-27b0-4c87-a74a-b250d65a80f7\",\"type\":\"Patch\"},{\"attributes\":{},\"id\":\"165a7f7f-fd88-4b34-bb99-e246020028e3\",\"type\":\"BasicTickFormatter\"},{\"attributes\":{},\"id\":\"114e6107-903d-4a0f-9aaa-86c7a97f5bfd\",\"type\":\"Selection\"},{\"attributes\":{},\"id\":\"06b12502-aef9-4da5-a2bf-3aa45462914c\",\"type\":\"Selection\"},{\"attributes\":{},\"id\":\"f967f324-19d6-47d3-8e29-b5c17bff381a\",\"type\":\"BasicTickFormatter\"},{\"attributes\":{},\"id\":\"b524c2c2-1423-414e-834a-c8a20d9a5fe5\",\"type\":\"UnionRenderers\"},{\"attributes\":{},\"id\":\"0602f60f-fd4f-4f66-8f2e-0bc323827fad\",\"type\":\"Selection\"},{\"attributes\":{},\"id\":\"8feb6dc0-262e-4c42-a71b-2e5c0746ff94\",\"type\":\"UnionRenderers\"},{\"attributes\":{},\"id\":\"4f302e5e-32a3-44df-a5cd-f84d633d0c97\",\"type\":\"UnionRenderers\"},{\"attributes\":{},\"id\":\"7ce7d2ce-7f45-4ee7-ae02-45707d9df9ab\",\"type\":\"Selection\"},{\"attributes\":{},\"id\":\"328de645-9b12-4e35-9a47-798a83abd4fd\",\"type\":\"UnionRenderers\"},{\"attributes\":{},\"id\":\"8e25726e-b8b8-400c-8201-6fba59f9d128\",\"type\":\"Selection\"},{\"attributes\":{},\"id\":\"8b8eb937-acfc-4af6-8a72-73d19224bcfd\",\"type\":\"UnionRenderers\"},{\"attributes\":{},\"id\":\"a3c630ae-afc9-419a-807e-fc5ebe86428a\",\"type\":\"Selection\"},{\"attributes\":{},\"id\":\"acf65565-c380-4b43-a1be-527d30314e96\",\"type\":\"UnionRenderers\"},{\"attributes\":{},\"id\":\"503a9a43-d7b6-4477-bd8c-985f254429b1\",\"type\":\"Selection\"}],\"root_ids\":[\"721aa4fe-d8de-4b90-97cb-14a25fb7b41d\"]},\"title\":\"Bokeh Application\",\"version\":\"0.12.16\"}};\n",
       "  var render_items = [{\"docid\":\"7e3e3aa5-7b50-44f1-8f64-1e3b66413e03\",\"elementid\":\"14ff39ff-b381-4362-b482-336394bb68c9\",\"modelid\":\"721aa4fe-d8de-4b90-97cb-14a25fb7b41d\"}];\n",
       "  root.Bokeh.embed.embed_items_notebook(docs_json, render_items);\n",
       "\n",
       "  }\n",
       "  if (root.Bokeh !== undefined) {\n",
       "    embed_document(root);\n",
       "  } else {\n",
       "    var attempts = 0;\n",
       "    var timer = setInterval(function(root) {\n",
       "      if (root.Bokeh !== undefined) {\n",
       "        embed_document(root);\n",
       "        clearInterval(timer);\n",
       "      }\n",
       "      attempts++;\n",
       "      if (attempts > 100) {\n",
       "        console.log(\"Bokeh: ERROR: Unable to run BokehJS code because BokehJS library is missing\")\n",
       "        clearInterval(timer);\n",
       "      }\n",
       "    }, 10, root)\n",
       "  }\n",
       "})(window);"
      ],
      "application/vnd.bokehjs_exec.v0+json": ""
     },
     "metadata": {
      "application/vnd.bokehjs_exec.v0+json": {
       "id": "721aa4fe-d8de-4b90-97cb-14a25fb7b41d"
      }
     },
     "output_type": "display_data"
    }
   ],
   "source": [
    "fig = figure(\n",
    "    width=400,\n",
    "    height=400,\n",
    "    x_range=(mean[0] - 5, mean[0] + 5),\n",
    "    y_range=(mean[1] - 5, mean[1] + 5)\n",
    ")\n",
    "fig.circle(data[:, 0], data[:, 1])\n",
    "plotting.plot_normal(fig, normal_iso.mean.numpy(), normal_iso.cov.numpy(), \n",
    "                     line_color='black', fill_alpha=.3, color='green')\n",
    "plotting.plot_normal(fig, normal_diag.mean.numpy(), normal_diag.cov.numpy(), \n",
    "                     line_color='black', fill_alpha=.3, color='#98AFC7')\n",
    "plotting.plot_normal(fig, normal_full.mean.numpy(), normal_full.cov.numpy(), \n",
    "                     line_color='black', fill_alpha=.3, color='#C7B097')\n",
    "\n",
    "show(fig)"
   ]
  },
  {
   "cell_type": "code",
   "execution_count": 17,
   "metadata": {},
   "outputs": [],
   "source": [
    "normal_iso = beer.Normal.create(data_mean, data_var, 1., cov_type='isotropic')\n",
    "normal_diag = beer.Normal.create(data_mean, data_var, 1., cov_type='diagonal')\n",
    "normal_full = beer.Normal.create(data_mean, data_var, 1., cov_type='full')\n",
    "\n",
    "models = {\n",
    "    'normal_full': normal_full,\n",
    "    'normal_diag': normal_diag,\n",
    "    'normal_iso': normal_iso\n",
    "}\n",
    "\n",
    "model = models['normal_iso']"
   ]
  },
  {
   "cell_type": "code",
   "execution_count": 18,
   "metadata": {
    "scrolled": false
   },
   "outputs": [],
   "source": [
    "epochs = 2\n",
    "lrate = 1\n",
    "\n",
    "optims = {model_name: beer.CVBOptimizer(model.bayesian_parameters())\n",
    "          for model_name, model in models.items()}\n",
    "elbos = {model_name: [] for model_name in models}  \n",
    "batch_stats = {model_name: defaultdict(lambda: defaultdict(lambda: None))\n",
    "               for model_name in models}\n",
    "\n",
    "for epoch in range(epochs):\n",
    "    batch_ids = list(range(len(batches)))\n",
    "    random.shuffle(batch_ids)\n",
    "    for name, model in models.items():\n",
    "        for batch_id in batch_ids:\n",
    "            optim = optims[name]\n",
    "            #optim.init_step() \n",
    "            optim.init_step(batch_stats[name][batch_id]) \n",
    "            elbo = beer.collapsed_evidence_lower_bound(model, batches[batch_id], lrate=lrate)\n",
    "            batch_stats[name][batch_id] = elbo.backward()\n",
    "            optim.step()\n",
    "            elbos[name].append(float(elbo) / len(X))"
   ]
  },
  {
   "cell_type": "code",
   "execution_count": 19,
   "metadata": {},
   "outputs": [
    {
     "data": {
      "text/html": [
       "\n",
       "<div class=\"bk-root\">\n",
       "    <div class=\"bk-plotdiv\" id=\"90077604-4dd9-4931-a97e-3e3824bc6efd\"></div>\n",
       "</div>"
      ]
     },
     "metadata": {},
     "output_type": "display_data"
    },
    {
     "data": {
      "application/javascript": [
       "(function(root) {\n",
       "  function embed_document(root) {\n",
       "    \n",
       "  var docs_json = {\"8c322cd4-43ac-40d6-856e-fd7d04410779\":{\"roots\":{\"references\":[{\"attributes\":{\"active_drag\":\"auto\",\"active_inspect\":\"auto\",\"active_scroll\":\"auto\",\"active_tap\":\"auto\",\"tools\":[{\"id\":\"735dfe6b-1cbb-43ed-9e61-47de47348425\",\"type\":\"PanTool\"},{\"id\":\"de0f3806-25a4-4d02-9d05-ccd34e01cb36\",\"type\":\"WheelZoomTool\"},{\"id\":\"a43210e0-0889-4613-83c0-e650774f5ab6\",\"type\":\"BoxZoomTool\"},{\"id\":\"256f14a8-8c51-4bbb-b1ea-fdfe8b31b2e3\",\"type\":\"SaveTool\"},{\"id\":\"53e891ac-0c90-4ee6-a616-76987acd33b9\",\"type\":\"ResetTool\"},{\"id\":\"e1efcb7c-5644-4528-8868-08f5716f15fb\",\"type\":\"HelpTool\"}]},\"id\":\"4eb111a7-21fe-46f3-a369-f4210be2cf3e\",\"type\":\"Toolbar\"},{\"attributes\":{},\"id\":\"ba0d82e0-ce1a-4923-93a9-9b1818bb6e3b\",\"type\":\"LinearScale\"},{\"attributes\":{},\"id\":\"104d6447-07a8-4513-a835-65f3834c5de1\",\"type\":\"LinearScale\"},{\"attributes\":{},\"id\":\"e1efcb7c-5644-4528-8868-08f5716f15fb\",\"type\":\"HelpTool\"},{\"attributes\":{},\"id\":\"735dfe6b-1cbb-43ed-9e61-47de47348425\",\"type\":\"PanTool\"},{\"attributes\":{\"below\":[{\"id\":\"e61157a4-5819-499a-970b-2d3fe9b5c13a\",\"type\":\"LinearAxis\"}],\"left\":[{\"id\":\"b1e03bf5-5ce6-4bdf-815f-e466a15cff16\",\"type\":\"LinearAxis\"}],\"plot_height\":400,\"plot_width\":400,\"renderers\":[{\"id\":\"e61157a4-5819-499a-970b-2d3fe9b5c13a\",\"type\":\"LinearAxis\"},{\"id\":\"6cc910e3-e161-471e-bc76-f45f791d5d84\",\"type\":\"Grid\"},{\"id\":\"b1e03bf5-5ce6-4bdf-815f-e466a15cff16\",\"type\":\"LinearAxis\"},{\"id\":\"ca556795-726a-4076-a932-33e6410ec451\",\"type\":\"Grid\"},{\"id\":\"b10c6726-c0d2-4ed3-91b7-d025041fef7b\",\"type\":\"BoxAnnotation\"},{\"id\":\"d87c2efc-a79e-4ce6-96a2-5bbeb67cd80e\",\"type\":\"Legend\"},{\"id\":\"a189e528-43c5-462f-ae5b-33c7dd8ea4ec\",\"type\":\"GlyphRenderer\"},{\"id\":\"4eb92641-b840-4bc1-8311-4bd01069c735\",\"type\":\"GlyphRenderer\"},{\"id\":\"b9728607-fd6f-48ab-bb25-8b182c350e24\",\"type\":\"GlyphRenderer\"}],\"title\":{\"id\":\"22c72466-9f26-475d-9163-6b020058edb5\",\"type\":\"Title\"},\"toolbar\":{\"id\":\"4eb111a7-21fe-46f3-a369-f4210be2cf3e\",\"type\":\"Toolbar\"},\"x_range\":{\"id\":\"35ab876c-49b7-4188-846d-6ddfadb330bc\",\"type\":\"DataRange1d\"},\"x_scale\":{\"id\":\"104d6447-07a8-4513-a835-65f3834c5de1\",\"type\":\"LinearScale\"},\"y_range\":{\"id\":\"da4a966d-b078-4a63-9fc5-8448ab1795c9\",\"type\":\"DataRange1d\"},\"y_scale\":{\"id\":\"ba0d82e0-ce1a-4923-93a9-9b1818bb6e3b\",\"type\":\"LinearScale\"}},\"id\":\"77a8e7de-1a29-46e6-847a-85a51b05caed\",\"subtype\":\"Figure\",\"type\":\"Plot\"},{\"attributes\":{\"callback\":null},\"id\":\"35ab876c-49b7-4188-846d-6ddfadb330bc\",\"type\":\"DataRange1d\"},{\"attributes\":{\"plot\":null,\"text\":\"ELBO\"},\"id\":\"22c72466-9f26-475d-9163-6b020058edb5\",\"type\":\"Title\"},{\"attributes\":{},\"id\":\"1607bc14-5394-4473-b741-704ff773c232\",\"type\":\"BasicTickFormatter\"},{\"attributes\":{\"data_source\":{\"id\":\"1921e8a0-34d8-441a-b41c-2cc283293c4b\",\"type\":\"ColumnDataSource\"},\"glyph\":{\"id\":\"3c1865d0-73dc-4095-8da3-59f62b871143\",\"type\":\"Line\"},\"hover_glyph\":null,\"muted_glyph\":null,\"nonselection_glyph\":{\"id\":\"bd4f9fed-1170-4c44-ae5a-43734381f0c9\",\"type\":\"Line\"},\"selection_glyph\":null,\"view\":{\"id\":\"834b8000-54a4-4de6-870e-cd3618ca9c0e\",\"type\":\"CDSView\"}},\"id\":\"4eb92641-b840-4bc1-8311-4bd01069c735\",\"type\":\"GlyphRenderer\"},{\"attributes\":{},\"id\":\"de0f3806-25a4-4d02-9d05-ccd34e01cb36\",\"type\":\"WheelZoomTool\"},{\"attributes\":{\"callback\":null,\"data\":{\"x\":[0,1],\"y\":[-13.003498077392578,-13.003498077392578]},\"selected\":{\"id\":\"2b8c8023-e837-42ce-8aed-0b4db24b7b60\",\"type\":\"Selection\"},\"selection_policy\":{\"id\":\"607c2121-6419-484c-a4db-e09043327c44\",\"type\":\"UnionRenderers\"}},\"id\":\"73e9a998-72a1-40a6-b701-a07f2c68bc61\",\"type\":\"ColumnDataSource\"},{\"attributes\":{\"source\":{\"id\":\"1921e8a0-34d8-441a-b41c-2cc283293c4b\",\"type\":\"ColumnDataSource\"}},\"id\":\"834b8000-54a4-4de6-870e-cd3618ca9c0e\",\"type\":\"CDSView\"},{\"attributes\":{\"callback\":null,\"data\":{\"x\":[0,1],\"y\":[-12.540616989135742,-12.540616989135742]},\"selected\":{\"id\":\"df63986a-ed5a-4016-b566-f83d47ede9fa\",\"type\":\"Selection\"},\"selection_policy\":{\"id\":\"f7a0d0cd-694a-4d96-aefd-242af7b793a9\",\"type\":\"UnionRenderers\"}},\"id\":\"1921e8a0-34d8-441a-b41c-2cc283293c4b\",\"type\":\"ColumnDataSource\"},{\"attributes\":{\"line_color\":\"red\",\"x\":{\"field\":\"x\"},\"y\":{\"field\":\"y\"}},\"id\":\"5bf57719-39e4-4ec9-8c5d-a9a212418d7b\",\"type\":\"Line\"},{\"attributes\":{\"source\":{\"id\":\"73e9a998-72a1-40a6-b701-a07f2c68bc61\",\"type\":\"ColumnDataSource\"}},\"id\":\"a01e8420-0aea-4b72-a965-bdf4b90f6cec\",\"type\":\"CDSView\"},{\"attributes\":{},\"id\":\"9343ced7-5792-4298-9934-5e1500dfdc65\",\"type\":\"Selection\"},{\"attributes\":{\"line_alpha\":0.1,\"line_color\":\"#1f77b4\",\"x\":{\"field\":\"x\"},\"y\":{\"field\":\"y\"}},\"id\":\"2807a130-5623-46df-b1db-831838388140\",\"type\":\"Line\"},{\"attributes\":{\"callback\":null,\"data\":{\"x\":[0,1],\"y\":[-14.22319221496582,-14.22319221496582]},\"selected\":{\"id\":\"9343ced7-5792-4298-9934-5e1500dfdc65\",\"type\":\"Selection\"},\"selection_policy\":{\"id\":\"29c05604-9809-4dac-84f0-7459ff39d556\",\"type\":\"UnionRenderers\"}},\"id\":\"b7c4cfa4-47ef-4a17-ac00-b28f5d08d445\",\"type\":\"ColumnDataSource\"},{\"attributes\":{\"axis_label\":\"ln p(X)\",\"formatter\":{\"id\":\"1607bc14-5394-4473-b741-704ff773c232\",\"type\":\"BasicTickFormatter\"},\"plot\":{\"id\":\"77a8e7de-1a29-46e6-847a-85a51b05caed\",\"subtype\":\"Figure\",\"type\":\"Plot\"},\"ticker\":{\"id\":\"3925e0b4-fe56-4ed4-b659-ad7f2e875499\",\"type\":\"BasicTicker\"}},\"id\":\"b1e03bf5-5ce6-4bdf-815f-e466a15cff16\",\"type\":\"LinearAxis\"},{\"attributes\":{},\"id\":\"53e891ac-0c90-4ee6-a616-76987acd33b9\",\"type\":\"ResetTool\"},{\"attributes\":{},\"id\":\"df63986a-ed5a-4016-b566-f83d47ede9fa\",\"type\":\"Selection\"},{\"attributes\":{\"bottom_units\":\"screen\",\"fill_alpha\":{\"value\":0.5},\"fill_color\":{\"value\":\"lightgrey\"},\"left_units\":\"screen\",\"level\":\"overlay\",\"line_alpha\":{\"value\":1.0},\"line_color\":{\"value\":\"black\"},\"line_dash\":[4,4],\"line_width\":{\"value\":2},\"plot\":null,\"render_mode\":\"css\",\"right_units\":\"screen\",\"top_units\":\"screen\"},\"id\":\"b10c6726-c0d2-4ed3-91b7-d025041fef7b\",\"type\":\"BoxAnnotation\"},{\"attributes\":{\"label\":{\"value\":\"normal_full\"},\"renderers\":[{\"id\":\"a189e528-43c5-462f-ae5b-33c7dd8ea4ec\",\"type\":\"GlyphRenderer\"}]},\"id\":\"82cc893c-50c6-481a-8415-51963e2caeff\",\"type\":\"LegendItem\"},{\"attributes\":{},\"id\":\"f7a0d0cd-694a-4d96-aefd-242af7b793a9\",\"type\":\"UnionRenderers\"},{\"attributes\":{\"axis_label\":\"step\",\"formatter\":{\"id\":\"a5b0277b-bb74-4ad5-b466-d085b6ec22da\",\"type\":\"BasicTickFormatter\"},\"plot\":{\"id\":\"77a8e7de-1a29-46e6-847a-85a51b05caed\",\"subtype\":\"Figure\",\"type\":\"Plot\"},\"ticker\":{\"id\":\"01f37a16-ed88-4740-8210-2f37524a43e0\",\"type\":\"BasicTicker\"}},\"id\":\"e61157a4-5819-499a-970b-2d3fe9b5c13a\",\"type\":\"LinearAxis\"},{\"attributes\":{\"overlay\":{\"id\":\"b10c6726-c0d2-4ed3-91b7-d025041fef7b\",\"type\":\"BoxAnnotation\"}},\"id\":\"a43210e0-0889-4613-83c0-e650774f5ab6\",\"type\":\"BoxZoomTool\"},{\"attributes\":{},\"id\":\"a5b0277b-bb74-4ad5-b466-d085b6ec22da\",\"type\":\"BasicTickFormatter\"},{\"attributes\":{},\"id\":\"3925e0b4-fe56-4ed4-b659-ad7f2e875499\",\"type\":\"BasicTicker\"},{\"attributes\":{\"line_color\":\"blue\",\"x\":{\"field\":\"x\"},\"y\":{\"field\":\"y\"}},\"id\":\"3c1865d0-73dc-4095-8da3-59f62b871143\",\"type\":\"Line\"},{\"attributes\":{},\"id\":\"29c05604-9809-4dac-84f0-7459ff39d556\",\"type\":\"UnionRenderers\"},{\"attributes\":{\"line_color\":\"green\",\"x\":{\"field\":\"x\"},\"y\":{\"field\":\"y\"}},\"id\":\"33b65c46-35a2-4f10-aef2-6fe6db324bee\",\"type\":\"Line\"},{\"attributes\":{\"items\":[{\"id\":\"82cc893c-50c6-481a-8415-51963e2caeff\",\"type\":\"LegendItem\"},{\"id\":\"904e1d6a-c9b4-4245-9b5f-b2801c2e7691\",\"type\":\"LegendItem\"},{\"id\":\"54f07109-ef34-407e-93db-240527756714\",\"type\":\"LegendItem\"}],\"location\":\"bottom_right\",\"plot\":{\"id\":\"77a8e7de-1a29-46e6-847a-85a51b05caed\",\"subtype\":\"Figure\",\"type\":\"Plot\"}},\"id\":\"d87c2efc-a79e-4ce6-96a2-5bbeb67cd80e\",\"type\":\"Legend\"},{\"attributes\":{},\"id\":\"607c2121-6419-484c-a4db-e09043327c44\",\"type\":\"UnionRenderers\"},{\"attributes\":{\"callback\":null},\"id\":\"da4a966d-b078-4a63-9fc5-8448ab1795c9\",\"type\":\"DataRange1d\"},{\"attributes\":{\"plot\":{\"id\":\"77a8e7de-1a29-46e6-847a-85a51b05caed\",\"subtype\":\"Figure\",\"type\":\"Plot\"},\"ticker\":{\"id\":\"01f37a16-ed88-4740-8210-2f37524a43e0\",\"type\":\"BasicTicker\"}},\"id\":\"6cc910e3-e161-471e-bc76-f45f791d5d84\",\"type\":\"Grid\"},{\"attributes\":{},\"id\":\"01f37a16-ed88-4740-8210-2f37524a43e0\",\"type\":\"BasicTicker\"},{\"attributes\":{\"data_source\":{\"id\":\"73e9a998-72a1-40a6-b701-a07f2c68bc61\",\"type\":\"ColumnDataSource\"},\"glyph\":{\"id\":\"5bf57719-39e4-4ec9-8c5d-a9a212418d7b\",\"type\":\"Line\"},\"hover_glyph\":null,\"muted_glyph\":null,\"nonselection_glyph\":{\"id\":\"2807a130-5623-46df-b1db-831838388140\",\"type\":\"Line\"},\"selection_glyph\":null,\"view\":{\"id\":\"a01e8420-0aea-4b72-a965-bdf4b90f6cec\",\"type\":\"CDSView\"}},\"id\":\"a189e528-43c5-462f-ae5b-33c7dd8ea4ec\",\"type\":\"GlyphRenderer\"},{\"attributes\":{\"data_source\":{\"id\":\"b7c4cfa4-47ef-4a17-ac00-b28f5d08d445\",\"type\":\"ColumnDataSource\"},\"glyph\":{\"id\":\"33b65c46-35a2-4f10-aef2-6fe6db324bee\",\"type\":\"Line\"},\"hover_glyph\":null,\"muted_glyph\":null,\"nonselection_glyph\":{\"id\":\"3db4efc5-1176-4ec9-820b-2dee48314e41\",\"type\":\"Line\"},\"selection_glyph\":null,\"view\":{\"id\":\"24ddbe9a-d7e6-4153-8f5c-0dfd8d576db0\",\"type\":\"CDSView\"}},\"id\":\"b9728607-fd6f-48ab-bb25-8b182c350e24\",\"type\":\"GlyphRenderer\"},{\"attributes\":{\"label\":{\"value\":\"normal_iso\"},\"renderers\":[{\"id\":\"b9728607-fd6f-48ab-bb25-8b182c350e24\",\"type\":\"GlyphRenderer\"}]},\"id\":\"54f07109-ef34-407e-93db-240527756714\",\"type\":\"LegendItem\"},{\"attributes\":{\"dimension\":1,\"plot\":{\"id\":\"77a8e7de-1a29-46e6-847a-85a51b05caed\",\"subtype\":\"Figure\",\"type\":\"Plot\"},\"ticker\":{\"id\":\"3925e0b4-fe56-4ed4-b659-ad7f2e875499\",\"type\":\"BasicTicker\"}},\"id\":\"ca556795-726a-4076-a932-33e6410ec451\",\"type\":\"Grid\"},{\"attributes\":{},\"id\":\"2b8c8023-e837-42ce-8aed-0b4db24b7b60\",\"type\":\"Selection\"},{\"attributes\":{\"source\":{\"id\":\"b7c4cfa4-47ef-4a17-ac00-b28f5d08d445\",\"type\":\"ColumnDataSource\"}},\"id\":\"24ddbe9a-d7e6-4153-8f5c-0dfd8d576db0\",\"type\":\"CDSView\"},{\"attributes\":{\"line_alpha\":0.1,\"line_color\":\"#1f77b4\",\"x\":{\"field\":\"x\"},\"y\":{\"field\":\"y\"}},\"id\":\"3db4efc5-1176-4ec9-820b-2dee48314e41\",\"type\":\"Line\"},{\"attributes\":{},\"id\":\"256f14a8-8c51-4bbb-b1ea-fdfe8b31b2e3\",\"type\":\"SaveTool\"},{\"attributes\":{\"line_alpha\":0.1,\"line_color\":\"#1f77b4\",\"x\":{\"field\":\"x\"},\"y\":{\"field\":\"y\"}},\"id\":\"bd4f9fed-1170-4c44-ae5a-43734381f0c9\",\"type\":\"Line\"},{\"attributes\":{\"label\":{\"value\":\"normal_diag\"},\"renderers\":[{\"id\":\"4eb92641-b840-4bc1-8311-4bd01069c735\",\"type\":\"GlyphRenderer\"}]},\"id\":\"904e1d6a-c9b4-4245-9b5f-b2801c2e7691\",\"type\":\"LegendItem\"}],\"root_ids\":[\"77a8e7de-1a29-46e6-847a-85a51b05caed\"]},\"title\":\"Bokeh Application\",\"version\":\"0.12.16\"}};\n",
       "  var render_items = [{\"docid\":\"8c322cd4-43ac-40d6-856e-fd7d04410779\",\"elementid\":\"90077604-4dd9-4931-a97e-3e3824bc6efd\",\"modelid\":\"77a8e7de-1a29-46e6-847a-85a51b05caed\"}];\n",
       "  root.Bokeh.embed.embed_items_notebook(docs_json, render_items);\n",
       "\n",
       "  }\n",
       "  if (root.Bokeh !== undefined) {\n",
       "    embed_document(root);\n",
       "  } else {\n",
       "    var attempts = 0;\n",
       "    var timer = setInterval(function(root) {\n",
       "      if (root.Bokeh !== undefined) {\n",
       "        embed_document(root);\n",
       "        clearInterval(timer);\n",
       "      }\n",
       "      attempts++;\n",
       "      if (attempts > 100) {\n",
       "        console.log(\"Bokeh: ERROR: Unable to run BokehJS code because BokehJS library is missing\")\n",
       "        clearInterval(timer);\n",
       "      }\n",
       "    }, 10, root)\n",
       "  }\n",
       "})(window);"
      ],
      "application/vnd.bokehjs_exec.v0+json": ""
     },
     "metadata": {
      "application/vnd.bokehjs_exec.v0+json": {
       "id": "77a8e7de-1a29-46e6-847a-85a51b05caed"
      }
     },
     "output_type": "display_data"
    }
   ],
   "source": [
    "colors = {\n",
    "    'normal_iso': 'green',\n",
    "    'normal_diag': 'blue',\n",
    "    'normal_full': 'red',\n",
    "    \n",
    "}\n",
    "# Plot the ELBO.\n",
    "fig = figure(title='ELBO', width=400, height=400, x_axis_label='step',\n",
    "              y_axis_label='ln p(X)')\n",
    "for model_name, elbo in elbos.items():\n",
    "    fig.line(range(len(elbo)), elbo, legend=model_name, color=colors[model_name])\n",
    "fig.legend.location = 'bottom_right'\n",
    "\n",
    "show(fig)"
   ]
  },
  {
   "cell_type": "code",
   "execution_count": 20,
   "metadata": {},
   "outputs": [
    {
     "data": {
      "text/plain": [
       "(tensor([3.7713]), tensor([3.6299]), tensor([3.5264]))"
      ]
     },
     "execution_count": 20,
     "metadata": {},
     "output_type": "execute_result"
    }
   ],
   "source": [
    "models['normal_full'].kl_div_posterior_prior(), \\\n",
    "models['normal_diag'].kl_div_posterior_prior(), \\\n",
    "models['normal_iso'].kl_div_posterior_prior()"
   ]
  },
  {
   "cell_type": "code",
   "execution_count": 21,
   "metadata": {},
   "outputs": [
    {
     "name": "stdout",
     "output_type": "stream",
     "text": [
      "{'normal_full': [-13.003498077392578, -13.003498077392578], 'normal_diag': [-12.540616989135742, -12.540616989135742], 'normal_iso': [-14.22319221496582, -14.22319221496582]}\n"
     ]
    }
   ],
   "source": [
    "print(elbos)"
   ]
  },
  {
   "cell_type": "code",
   "execution_count": 22,
   "metadata": {},
   "outputs": [
    {
     "data": {
      "text/html": [
       "\n",
       "<div class=\"bk-root\">\n",
       "    <div class=\"bk-plotdiv\" id=\"1ae139e8-8a3e-420c-b236-9d7274d9bf53\"></div>\n",
       "</div>"
      ]
     },
     "metadata": {},
     "output_type": "display_data"
    },
    {
     "data": {
      "application/javascript": [
       "(function(root) {\n",
       "  function embed_document(root) {\n",
       "    \n",
       "  var docs_json = {\"b8e7a6a8-e2e0-4e3d-8796-f79d35184d6f\":{\"roots\":{\"references\":[{\"attributes\":{\"callback\":null,\"end\":5.0,\"start\":-5.0},\"id\":\"f1bc4615-0145-41d7-b1d9-026d90d5fb19\",\"type\":\"Range1d\"},{\"attributes\":{\"fill_alpha\":{\"value\":0.1},\"fill_color\":{\"value\":\"#1f77b4\"},\"line_alpha\":{\"value\":0.1},\"line_color\":{\"value\":\"#1f77b4\"},\"x\":{\"field\":\"x\"},\"y\":{\"field\":\"y\"}},\"id\":\"6d1985ac-3951-4600-9ff1-969b2b5e7b81\",\"type\":\"Circle\"},{\"attributes\":{\"callback\":null,\"end\":5.0,\"start\":-5.0},\"id\":\"c76ba935-a13a-448d-82ef-b1d6da9854cd\",\"type\":\"Range1d\"},{\"attributes\":{},\"id\":\"a680d7f3-f29e-4921-adb4-98d2946b264a\",\"type\":\"LinearScale\"},{\"attributes\":{},\"id\":\"530d7d0c-ecbb-4132-bedd-98efc4e7f565\",\"type\":\"LinearScale\"},{\"attributes\":{\"plot\":{\"id\":\"e4e94968-c682-4605-9ebe-e91563db2de0\",\"subtype\":\"Figure\",\"type\":\"Plot\"},\"ticker\":{\"id\":\"0f301df8-2f5f-4aef-b571-184e4f5c6a7d\",\"type\":\"BasicTicker\"}},\"id\":\"e1e98379-a67d-4215-8796-99685fd384c8\",\"type\":\"Grid\"},{\"attributes\":{\"formatter\":{\"id\":\"dbd27c0c-19d2-40df-b2e3-1cf6aa2b3553\",\"type\":\"BasicTickFormatter\"},\"plot\":{\"id\":\"e4e94968-c682-4605-9ebe-e91563db2de0\",\"subtype\":\"Figure\",\"type\":\"Plot\"},\"ticker\":{\"id\":\"0f301df8-2f5f-4aef-b571-184e4f5c6a7d\",\"type\":\"BasicTicker\"}},\"id\":\"867b26a3-02cd-479e-81ed-5a85feae0eb7\",\"type\":\"LinearAxis\"},{\"attributes\":{\"below\":[{\"id\":\"867b26a3-02cd-479e-81ed-5a85feae0eb7\",\"type\":\"LinearAxis\"}],\"left\":[{\"id\":\"7b99f05b-706b-4fd0-93c6-b53029b27151\",\"type\":\"LinearAxis\"}],\"plot_height\":400,\"plot_width\":400,\"renderers\":[{\"id\":\"867b26a3-02cd-479e-81ed-5a85feae0eb7\",\"type\":\"LinearAxis\"},{\"id\":\"e1e98379-a67d-4215-8796-99685fd384c8\",\"type\":\"Grid\"},{\"id\":\"7b99f05b-706b-4fd0-93c6-b53029b27151\",\"type\":\"LinearAxis\"},{\"id\":\"bbfd62de-b079-4faf-a19e-8805535953d3\",\"type\":\"Grid\"},{\"id\":\"a12788d2-5b04-4e2a-9a10-abd80e78e224\",\"type\":\"BoxAnnotation\"},{\"id\":\"1c88238c-3af5-44bb-8d65-5531d93a67d0\",\"type\":\"GlyphRenderer\"},{\"id\":\"9263a5f5-3201-4ce6-a8c3-fc7380816dde\",\"type\":\"GlyphRenderer\"},{\"id\":\"3e2406b9-726d-4c45-8e2b-b1506a676e47\",\"type\":\"GlyphRenderer\"},{\"id\":\"6cf58637-e39e-4cc7-9a95-1fa3e1e87b49\",\"type\":\"GlyphRenderer\"},{\"id\":\"ce2d49f2-f208-4a78-ae1b-925a95e18b25\",\"type\":\"GlyphRenderer\"},{\"id\":\"a1ac279b-9780-43b7-8a65-48ff511f0bde\",\"type\":\"GlyphRenderer\"},{\"id\":\"e2748114-ed7b-4ab2-bab6-70cf5c74f0bc\",\"type\":\"GlyphRenderer\"}],\"title\":{\"id\":\"a584df33-f805-4a01-b852-936c906fadac\",\"type\":\"Title\"},\"toolbar\":{\"id\":\"c9261d29-4c06-4711-b42a-61236355dbf2\",\"type\":\"Toolbar\"},\"x_range\":{\"id\":\"f1bc4615-0145-41d7-b1d9-026d90d5fb19\",\"type\":\"Range1d\"},\"x_scale\":{\"id\":\"a680d7f3-f29e-4921-adb4-98d2946b264a\",\"type\":\"LinearScale\"},\"y_range\":{\"id\":\"c76ba935-a13a-448d-82ef-b1d6da9854cd\",\"type\":\"Range1d\"},\"y_scale\":{\"id\":\"530d7d0c-ecbb-4132-bedd-98efc4e7f565\",\"type\":\"LinearScale\"}},\"id\":\"e4e94968-c682-4605-9ebe-e91563db2de0\",\"subtype\":\"Figure\",\"type\":\"Plot\"},{\"attributes\":{},\"id\":\"0f301df8-2f5f-4aef-b571-184e4f5c6a7d\",\"type\":\"BasicTicker\"},{\"attributes\":{\"formatter\":{\"id\":\"52f027f2-362a-4495-9510-582a088c2f3b\",\"type\":\"BasicTickFormatter\"},\"plot\":{\"id\":\"e4e94968-c682-4605-9ebe-e91563db2de0\",\"subtype\":\"Figure\",\"type\":\"Plot\"},\"ticker\":{\"id\":\"8d1b41ca-d825-4c08-ab4d-eda10869bf94\",\"type\":\"BasicTicker\"}},\"id\":\"7b99f05b-706b-4fd0-93c6-b53029b27151\",\"type\":\"LinearAxis\"},{\"attributes\":{},\"id\":\"8d1b41ca-d825-4c08-ab4d-eda10869bf94\",\"type\":\"BasicTicker\"},{\"attributes\":{\"data_source\":{\"id\":\"b095bc17-2ddc-42c4-8caf-1506ca63e4e5\",\"type\":\"ColumnDataSource\"},\"glyph\":{\"id\":\"0b2270b9-d249-4e97-b5b7-360a0928c733\",\"type\":\"Circle\"},\"hover_glyph\":null,\"muted_glyph\":null,\"nonselection_glyph\":{\"id\":\"6d1985ac-3951-4600-9ff1-969b2b5e7b81\",\"type\":\"Circle\"},\"selection_glyph\":null,\"view\":{\"id\":\"34f83e91-a001-4c0b-b432-77a4f0650d8f\",\"type\":\"CDSView\"}},\"id\":\"1c88238c-3af5-44bb-8d65-5531d93a67d0\",\"type\":\"GlyphRenderer\"},{\"attributes\":{\"fill_color\":{\"value\":\"#1f77b4\"},\"line_color\":{\"value\":\"#1f77b4\"},\"x\":{\"field\":\"x\"},\"y\":{\"field\":\"y\"}},\"id\":\"0b2270b9-d249-4e97-b5b7-360a0928c733\",\"type\":\"Circle\"},{\"attributes\":{\"dimension\":1,\"plot\":{\"id\":\"e4e94968-c682-4605-9ebe-e91563db2de0\",\"subtype\":\"Figure\",\"type\":\"Plot\"},\"ticker\":{\"id\":\"8d1b41ca-d825-4c08-ab4d-eda10869bf94\",\"type\":\"BasicTicker\"}},\"id\":\"bbfd62de-b079-4faf-a19e-8805535953d3\",\"type\":\"Grid\"},{\"attributes\":{\"plot\":null,\"text\":\"\"},\"id\":\"a584df33-f805-4a01-b852-936c906fadac\",\"type\":\"Title\"},{\"attributes\":{\"bottom_units\":\"screen\",\"fill_alpha\":{\"value\":0.5},\"fill_color\":{\"value\":\"lightgrey\"},\"left_units\":\"screen\",\"level\":\"overlay\",\"line_alpha\":{\"value\":1.0},\"line_color\":{\"value\":\"black\"},\"line_dash\":[4,4],\"line_width\":{\"value\":2},\"plot\":null,\"render_mode\":\"css\",\"right_units\":\"screen\",\"top_units\":\"screen\"},\"id\":\"a12788d2-5b04-4e2a-9a10-abd80e78e224\",\"type\":\"BoxAnnotation\"},{\"attributes\":{},\"id\":\"13344271-6224-421c-ba14-dbc4c0cfeb3a\",\"type\":\"PanTool\"},{\"attributes\":{\"source\":{\"id\":\"b095bc17-2ddc-42c4-8caf-1506ca63e4e5\",\"type\":\"ColumnDataSource\"}},\"id\":\"34f83e91-a001-4c0b-b432-77a4f0650d8f\",\"type\":\"CDSView\"},{\"attributes\":{},\"id\":\"6202e028-635b-4c48-8868-a2d29aed277b\",\"type\":\"WheelZoomTool\"},{\"attributes\":{\"overlay\":{\"id\":\"a12788d2-5b04-4e2a-9a10-abd80e78e224\",\"type\":\"BoxAnnotation\"}},\"id\":\"159374f6-1a5c-480d-ae5e-f1ca9e3c3098\",\"type\":\"BoxZoomTool\"},{\"attributes\":{},\"id\":\"e112ad90-f988-490f-8a07-88660e2ea1d7\",\"type\":\"SaveTool\"},{\"attributes\":{},\"id\":\"f50bc8be-93d9-4236-b628-4c19f04b9ff5\",\"type\":\"ResetTool\"},{\"attributes\":{},\"id\":\"382a545f-10bf-402e-aba5-3d51a92909c9\",\"type\":\"HelpTool\"},{\"attributes\":{\"fill_alpha\":0.1,\"fill_color\":\"#1f77b4\",\"line_alpha\":0.1,\"line_color\":\"#1f77b4\",\"x\":{\"field\":\"x\"},\"y\":{\"field\":\"y\"}},\"id\":\"d799895b-334d-4b0f-ad13-69b0264b5c95\",\"type\":\"Patch\"},{\"attributes\":{\"fill_alpha\":0.3,\"fill_color\":\"green\",\"x\":{\"field\":\"x\"},\"y\":{\"field\":\"y\"}},\"id\":\"7ad3e621-a4c7-4776-8417-017dc74ee120\",\"type\":\"Patch\"},{\"attributes\":{\"callback\":null,\"data\":{\"x\":{\"__ndarray__\":\"AAAAeJPzKEAjnlCmV+coQEb9zQ+xwihAufGQQsaFKECqr7BT1zAoQOtP2Zs9xCdAbbNOWWtAJ0C4pL4366UmQM6jYL5f9SVAD9H8pIIvJUBZ0o0QJFUkQDw3S7gpZyNAU7IC9I1mIkDPXL60XlQhQPwMzWi8MSBAGPGumLH/HUDJooJP638bQNtjUfrG5hhA9d/PTAA3FkBAchzKanMTQGQ+pMvunhBAEKE55Ax5C0BE9JMHdZ4FQCQ3be18aP8/OkfzKkSB8z9j4zJUFU/eP0zctLXNTdG/eegnj+An8L8aQnNIEN37v798SNdYswPAduQ41FBcCcDiv5/Ze+MOwNhjUZqEIRLAxqKC76i6FMAT8a44bzoXwPUZmnE2nhnAmLl8CXvjG8CkZAWI2QcewDs3S4iIBCDAV9KN4ILyIMAN0fx04cwhwM2jYI6+kiLAt6S+B0pDI8Bss04pyt0jwOtP2WucYSTAqq+wIzbOJMC58ZASJSMlwEX9zd8PYCXAI55QdraEJcAAAABI8pAlwAAAAEjykCXAI55QdraEJcBF/c3fD2AlwLnxkBIlIyXAqq+wIzbOJMDrT9lrnGEkwGyzTinK3SPAt6S+B0pDI8DNo2COvpIiwA3R/HThzCHAV9KN4ILyIMA7N0uIiAQgwKRkBYjZBx7AmLl8CXvjG8D1GZpxNp4ZwBPxrjhvOhfAxqKC76i6FMDYY1GahCESwOK/n9l74w7AduQ41FBcCcC/fEjXWLMDwBpCc0gQ3fu/eegnj+An8L9M3LS1zU3Rv2PjMlQVT94/OkfzKkSB8z8kN23tfGj/P0T0kwd1ngVAEKE55Ax5C0BkPqTL7p4QQEByHMpqcxNA9d/PTAA3FkDbY1H6xuYYQMmigk/rfxtAGPGumLH/HUD8DM1ovDEgQM9cvrReVCFAU7IC9I1mIkA8N0u4KWcjQFnSjRAkVSRAD9H8pIIvJUDOo2C+X/UlQLikvjfrpSZAbbNOWWtAJ0DrT9mbPcQnQKqvsFPXMChAufGQQsaFKEBG/c0PscIoQCOeUKZX5yhAAAAAeJPzKEA=\",\"dtype\":\"float64\",\"shape\":[100]},\"y\":{\"__ndarray__\":\"AAAAoNWHSUDwmQpTCR5MQIPSHWqEsU5AixcIk8ifUECWkCi/v+JRQB66WPpTIFNABOAXMDdXVECed+xVIoZVQCq6bMPWq1ZAxK11gR/HV0DW+i+P0tZYQAymjBvS2VlAMOjvsQ3PWkDE2c1Yg7VbQFBxC6FAjFxAq1kGpWNSXUAaWDf2GwdeQAxHdXirqV5A2f3xKWc5X0CdxB7Xt7VfQGOL3VwND2BA+jAzARE5YEDABBKmulhgQBIVrPzobWBAE6btvIV4YEATpu28hXhgQBIVrPzobWBAwAQSprpYYED6MDMBETlgQGSL3VwND2BAnsQe17e1X0Da/fEpZzlfQAxHdXirqV5AG1g39hsHXkCtWQalY1JdQFJxC6FAjFxAxtnNWIO1W0Aw6O+xDc9aQA6mjBvS2VlA1/ovj9LWWEDHrXWBH8dXQCy6bMPWq1ZAnnfsVSKGVUAG4BcwN1dUQB66WPpTIFNAmJAov7/iUUCNFwiTyJ9QQInSHWqEsU5A85kKUwkeTEABAACg1YdJQP///5/Vh0lADWb17KHxRkB3LeLVJl5EQOfQ7xka0EFAnr1dg1eUPkCGF52WBp45QOd/oL95wjRAhiFOKM0GMECgLprk9t8mQJAjpehhCxxAIKUAGmIgBkBggynjHn/0vwiD/h6BcxTALM5uxm1tIcCMilsIWCMowGjNMihwVC7AbGDdWBn9McAwHNVhV4c0wGj3xydGxjbAeBJ73Ii3OMAcW+xmFFk6wNCHmYkxqTvA/CWQsH6mPMCMqGBl8U89wJgwbWfXpD3AmDBtZ9ekPcCMqGBl8U89wPwlkLB+pjzA0IeZiTGpO8AYW+xmFFk6wHQSe9yItzjAZPfHJ0bGNsAwHNVhV4c0wGhg3VgZ/THAWM0yKHBULsCEilsIWCMowCTObsZtbSHAAIP+HoFzFMDgginjHn/0v1ClABpiIAZAuCOl6GELHECsLprk9t8mQIghTijNBjBA8H+gv3nCNECKF52WBp45QKi9XYNXlD5A6tDvGRrQQUB9LeLVJl5EQBBm9eyh8UZAAAAAoNWHSUA=\",\"dtype\":\"float64\",\"shape\":[100]}},\"selected\":{\"id\":\"14bd2c0b-0d3b-48d8-997b-4570f7e5dde1\",\"type\":\"Selection\"},\"selection_policy\":{\"id\":\"ef288565-4264-4027-8a6d-f071316afb7f\",\"type\":\"UnionRenderers\"}},\"id\":\"444fdc23-08f4-4626-9d10-456035c70352\",\"type\":\"ColumnDataSource\"},{\"attributes\":{\"data_source\":{\"id\":\"264ad513-c4c8-46e1-a6b6-38ff7189ea98\",\"type\":\"ColumnDataSource\"},\"glyph\":{\"id\":\"7ad3e621-a4c7-4776-8417-017dc74ee120\",\"type\":\"Patch\"},\"hover_glyph\":null,\"muted_glyph\":null,\"nonselection_glyph\":{\"id\":\"d799895b-334d-4b0f-ad13-69b0264b5c95\",\"type\":\"Patch\"},\"selection_glyph\":null,\"view\":{\"id\":\"7f3ec9bf-bc83-46f5-b4cb-124c8bf193de\",\"type\":\"CDSView\"}},\"id\":\"9263a5f5-3201-4ce6-a8c3-fc7380816dde\",\"type\":\"GlyphRenderer\"},{\"attributes\":{\"data_source\":{\"id\":\"e341e376-e3dc-4aae-924c-59510c32bc47\",\"type\":\"ColumnDataSource\"},\"glyph\":{\"id\":\"2a36a39b-bb85-4a04-b8df-42c76be8da49\",\"type\":\"Patch\"},\"hover_glyph\":null,\"muted_glyph\":null,\"nonselection_glyph\":{\"id\":\"09f7b993-294c-45a5-9d09-ee1ab30cf65b\",\"type\":\"Patch\"},\"selection_glyph\":null,\"view\":{\"id\":\"b5acf8c6-6002-4793-889c-b3ea5be77658\",\"type\":\"CDSView\"}},\"id\":\"3e2406b9-726d-4c45-8e2b-b1506a676e47\",\"type\":\"GlyphRenderer\"},{\"attributes\":{\"fill_alpha\":0.3,\"fill_color\":\"green\",\"x\":{\"field\":\"x\"},\"y\":{\"field\":\"y\"}},\"id\":\"2a36a39b-bb85-4a04-b8df-42c76be8da49\",\"type\":\"Patch\"},{\"attributes\":{\"source\":{\"id\":\"264ad513-c4c8-46e1-a6b6-38ff7189ea98\",\"type\":\"ColumnDataSource\"}},\"id\":\"7f3ec9bf-bc83-46f5-b4cb-124c8bf193de\",\"type\":\"CDSView\"},{\"attributes\":{\"fill_alpha\":0.1,\"fill_color\":\"#1f77b4\",\"line_alpha\":0.1,\"line_color\":\"#1f77b4\",\"x\":{\"field\":\"x\"},\"y\":{\"field\":\"y\"}},\"id\":\"09f7b993-294c-45a5-9d09-ee1ab30cf65b\",\"type\":\"Patch\"},{\"attributes\":{\"callback\":null,\"data\":{\"x\":{\"__ndarray__\":\"AAAAZmroQUCX3pQRON9BQFL4+8Cqw0FAYG8BcN+VQUC4txdLBlZBQNZcqnxiBEFA7S525kmhQEAyKzHHJC1AQDNSwpnaUD9A6FCpKF4nPkCC6oksDd88QD1BeAVBeTtAnezXFnL3OUBpEGo7Nls4QC0kXBo/pjZAdosYX1jaNEAK4rjVZfkyQOqpFm5hBTFA4ncjT7IALkAAuHjP2dgpQIcJZnyYlyVAk5vzL2hBIUDzkCqTsbUZQNxiOcMW0RBAVkBrVGt5/z98AK1Rh5HRv57FcsaoFwTA55AqM2/wEsAiN+f/jb0bwIEJZkz3NCLA+bd4nzh2JsDddyMfEZ4qwM5TLawhqC7AB+K4PRVIMcByixjHBykzwCskXILu9DTAZBBqo+WpNsCc7Nd+IUY4wDtBeG3wxznAgOqJlLwtO8DlUKmQDXY8wDFSwgGKnz3AYlZi9vioPsDYXew0Q5E/wNZcqjC6K0DAuLcX/119QMBgbwEkN71AwFL4+3QC60DAl96UxY8GQcAAAAAawg9BwAAAABrCD0HAl96UxY8GQcBS+Pt0AutAwGBvASQ3vUDAuLcX/119QMDWXKowuitAwNhd7DRDkT/AYlZi9vioPsAxUsIBip89wOVQqZANdjzAgOqJlLwtO8A7QXht8Mc5wJzs134hRjjAZBBqo+WpNsArJFyC7vQ0wHKLGMcHKTPAB+K4PRVIMcDOUy2sIaguwN13Ix8RnirA+bd4nzh2JsCBCWZM9zQiwCI35/+NvRvA55AqM2/wEsCexXLGqBcEwHwArVGHkdG/VkBrVGt5/z/cYjnDFtEQQPOQKpOxtRlAk5vzL2hBIUCHCWZ8mJclQAC4eM/Z2ClA4ncjT7IALkDqqRZuYQUxQAriuNVl+TJAdosYX1jaNEAtJFwaP6Y2QGkQajs2WzhAnezXFnL3OUA9QXgFQXk7QILqiSwN3zxA6FCpKF4nPkAzUsKZ2lA/QDIrMcckLUBA7S525kmhQEDWXKp8YgRBQLi3F0sGVkFAYG8BcN+VQUBS+PvAqsNBQJfelBE430FAAAAAZmroQUA=\",\"dtype\":\"float64\",\"shape\":[100]},\"y\":{\"__ndarray__\":\"AAAAoNWHSUAonOpLnqZKQHjPgkg5xEtAgF7SI3rfTEASj03lNvdNQEgoR0dJCk9AmjBA9scLUEBkjEfI945QQNsP7RgqDlFALA75GdmIUUDazIq8g/5RQIIO3DiublJAbE93kOLYUkC2uVcKsTxTQBo+cKiwmVNA3i4eln/vU0BGLROPwz1UQKQmSj4qhFRABX2jlGnCVEA6P80WQPhUQMd7JSJ1JVVAIDhOKNlJVUDCXzThRWVVQMgKVXOed1VAFr8Wks+AVUAWvxaSz4BVQMgKVXOed1VAwl804UVlVUAgOE4o2UlVQMh7JSJ1JVVAOj/NFkD4VEAGfaOUacJUQKQmSj4qhFRARi0Tj8M9VEDeLh6Wf+9TQBo+cKiwmVNAtrlXCrE8U0BsT3eQ4thSQIMO3DiublJA28yKvIP+UUAtDvkZ2YhRQNwP7RgqDlFAZIxHyPeOUECbMED2xwtQQEgoR0dJCk9AFI9N5Tb3TUCBXtIjet9MQHvPgkg5xEtAKpzqS56mSkABAACg1YdJQP///5/Vh0lA1mMV9AxpSECFMH33cUtHQH+hLRwxMEZA7HCyWnQYRUC417j4YQVEQMqef1Mb+EJAN+dwr7vxQUBI4CUOV/NAQEzHGxjy+z9AlczUjUclPkDzxY+cnWQ8QFHCIj7MuzpAJxmhVpIsOUCYBz/ek7g3QIdEhydYYTZA6UqzQ0goNUBvZdeGrQ40QOoLci2wFTNAFgPLJFY+MkDiEGr3gYkxQIAfx97x9zBA+IAu+z6KMEDe1Kuy3EAwQKgDpTcYHDBAqAOlNxgcMEDe1Kuy3EAwQPqALvs+ijBAgB/H3vH3MEDkEGr3gYkxQBgDyyRWPjJA6wtyLbAVM0BwZdeGrQ40QOpKs0NIKDVAiUSHJ1hhNkCaBz/ek7g3QCkZoVaSLDlAUsIiPsy7OkD3xY+cnWQ8QJfM1I1HJT5AUccbGPL7P0BK4CUOV/NAQDjncK+78UFAzJ5/Uxv4QkC417j4YQVEQO5wslp0GEVAgKEtHDEwRkCIMH33cUtHQNhjFfQMaUhAAAAAoNWHSUA=\",\"dtype\":\"float64\",\"shape\":[100]}},\"selected\":{\"id\":\"817b9b72-704d-418c-8e9f-1eec9d02adf0\",\"type\":\"Selection\"},\"selection_policy\":{\"id\":\"a1d3486c-7060-438e-8c1f-654abc7e220d\",\"type\":\"UnionRenderers\"}},\"id\":\"e341e376-e3dc-4aae-924c-59510c32bc47\",\"type\":\"ColumnDataSource\"},{\"attributes\":{\"source\":{\"id\":\"e341e376-e3dc-4aae-924c-59510c32bc47\",\"type\":\"ColumnDataSource\"}},\"id\":\"b5acf8c6-6002-4793-889c-b3ea5be77658\",\"type\":\"CDSView\"},{\"attributes\":{\"fill_alpha\":0.3,\"fill_color\":\"#98AFC7\",\"x\":{\"field\":\"x\"},\"y\":{\"field\":\"y\"}},\"id\":\"73e0104a-8bc2-4882-8714-127d9a3173db\",\"type\":\"Patch\"},{\"attributes\":{\"callback\":null,\"data\":{\"x\":{\"__ndarray__\":\"AAAAeJPzKEAjnlCmV+coQEb9zQ+xwihAufGQQsaFKECqr7BT1zAoQOtP2Zs9xCdAbbNOWWtAJ0C4pL4366UmQM6jYL5f9SVAD9H8pIIvJUBZ0o0QJFUkQDw3S7gpZyNAU7IC9I1mIkDPXL60XlQhQPwMzWi8MSBAGPGumLH/HUDJooJP638bQNtjUfrG5hhA9d/PTAA3FkBAchzKanMTQGQ+pMvunhBAEKE55Ax5C0BE9JMHdZ4FQCQ3be18aP8/OkfzKkSB8z9j4zJUFU/eP0zctLXNTdG/eegnj+An8L8aQnNIEN37v798SNdYswPAduQ41FBcCcDiv5/Ze+MOwNhjUZqEIRLAxqKC76i6FMAT8a44bzoXwPUZmnE2nhnAmLl8CXvjG8CkZAWI2QcewDs3S4iIBCDAV9KN4ILyIMAN0fx04cwhwM2jYI6+kiLAt6S+B0pDI8Bss04pyt0jwOtP2WucYSTAqq+wIzbOJMC58ZASJSMlwEX9zd8PYCXAI55QdraEJcAAAABI8pAlwAAAAEjykCXAI55QdraEJcBF/c3fD2AlwLnxkBIlIyXAqq+wIzbOJMDrT9lrnGEkwGyzTinK3SPAt6S+B0pDI8DNo2COvpIiwA3R/HThzCHAV9KN4ILyIMA7N0uIiAQgwKRkBYjZBx7AmLl8CXvjG8D1GZpxNp4ZwBPxrjhvOhfAxqKC76i6FMDYY1GahCESwOK/n9l74w7AduQ41FBcCcC/fEjXWLMDwBpCc0gQ3fu/eegnj+An8L9M3LS1zU3Rv2PjMlQVT94/OkfzKkSB8z8kN23tfGj/P0T0kwd1ngVAEKE55Ax5C0BkPqTL7p4QQEByHMpqcxNA9d/PTAA3FkDbY1H6xuYYQMmigk/rfxtAGPGumLH/HUD8DM1ovDEgQM9cvrReVCFAU7IC9I1mIkA8N0u4KWcjQFnSjRAkVSRAD9H8pIIvJUDOo2C+X/UlQLikvjfrpSZAbbNOWWtAJ0DrT9mbPcQnQKqvsFPXMChAufGQQsaFKEBG/c0PscIoQCOeUKZX5yhAAAAAeJPzKEA=\",\"dtype\":\"float64\",\"shape\":[100]},\"y\":{\"__ndarray__\":\"AAAA8C/IREA2r3FgSlxHQD+dsTmt8klAxAsvrp+ITEBC/5RmaRtPQDb5J68q1FBA40lKXloWUkDOUnTT8FJTQFb2GgWhiFRA04a8KyW2VUBAoZUYQNpWQHbwSoO+81dA+NgoTXgBWUAEAqW4UQJaQM0K2pM89VpA8m3DVDnZW0CQkg4mWK1cQDVCZuO5cF1AVBwvBJEiXkB7GL5zIsJeQMmkJVbGTl9AzVnKuOjHX0AowQIXhRZgQCnfmCngPmBAyl5KINtcYECfK1hxVnBgQNOETp49eWBAfAqUSYd3YECa6kNANWtgQIbQSHhUVGBADJW6Av0yYEDuBo3yUQdgQGrbVG8Co19AOy5B3YYjX0CyiSZKt5BeQLxAZSYu611AH9H/lJkzXUAammu0umpcQEuiadNkkVtARCK9knyoWkAkqqn09rBZQObiNVvYq1hAUg1CdjOaV0AsY5IiKH1WQPhT/TriVVVAKyv8XJglVECY8umhiu1SQNZMSE4Br1FAh4FseEtrUEACAABQe0dOQP7//097R05Ax1CO32CzS0C8Yk4G/hxJQDn00JELh0ZAuABr2UH0Q0CRDbDhVWdBQGvY1gbtxT1AxrQuMpPTOECjJpRr0vwzQFTJG6KDjS5A9PVSO6xsJUCA+FDLcUEZQPDg5FqqywBAgIFAKQaf/r/orKA9b9YWwKBvG6YdiyLAiJR0MBQsKcCwETIbIkcvwFRxvJDtajLA8GH4TjPpNMAok5bYwhs3wDRnKWNMADnAPAkWONKUOsBI+cbMqtc7wFD2UoKCxzzA+FzBCl1jPcCYJnRylqo9wORToMzjnD3A1FQfglM6PcAshEZCTYM8wFyo1JWReDvAcDdoFDkbOsCsbVM9s2w4wOi4BPXEbjbAwCaaqIYjNMDoApUZYo0xwPCI/qcfXi3AyNBcoygXJ8BIEk2beUwgwDAk0itvChLAgBDVVKqQ5L9wo0OZqH8LQOAq35si2h5AtOZs62tVKEAmsAqUzccwQF9TDwz1iDVApzVY+CtpOkC0zN5GUWM/QPb8Jk8UOUJAAAAA8C/IREA=\",\"dtype\":\"float64\",\"shape\":[100]}},\"selected\":{\"id\":\"01c92111-9305-4a42-aaa5-fad2b6474119\",\"type\":\"Selection\"},\"selection_policy\":{\"id\":\"ca4e05db-e168-4505-8d54-d93f385db8a9\",\"type\":\"UnionRenderers\"}},\"id\":\"ad504cc3-0e11-4271-a572-151b4ffc7e18\",\"type\":\"ColumnDataSource\"},{\"attributes\":{\"fill_alpha\":0.1,\"fill_color\":\"#1f77b4\",\"line_alpha\":0.1,\"line_color\":\"#1f77b4\",\"x\":{\"field\":\"x\"},\"y\":{\"field\":\"y\"}},\"id\":\"c3505041-baf6-4b09-ae7a-87dd24391756\",\"type\":\"Patch\"},{\"attributes\":{\"data_source\":{\"id\":\"444fdc23-08f4-4626-9d10-456035c70352\",\"type\":\"ColumnDataSource\"},\"glyph\":{\"id\":\"73e0104a-8bc2-4882-8714-127d9a3173db\",\"type\":\"Patch\"},\"hover_glyph\":null,\"muted_glyph\":null,\"nonselection_glyph\":{\"id\":\"c3505041-baf6-4b09-ae7a-87dd24391756\",\"type\":\"Patch\"},\"selection_glyph\":null,\"view\":{\"id\":\"9eeba457-59e5-4c85-afc5-0b626aa2e581\",\"type\":\"CDSView\"}},\"id\":\"6cf58637-e39e-4cc7-9a95-1fa3e1e87b49\",\"type\":\"GlyphRenderer\"},{\"attributes\":{\"source\":{\"id\":\"444fdc23-08f4-4626-9d10-456035c70352\",\"type\":\"ColumnDataSource\"}},\"id\":\"9eeba457-59e5-4c85-afc5-0b626aa2e581\",\"type\":\"CDSView\"},{\"attributes\":{\"fill_alpha\":0.3,\"fill_color\":\"#98AFC7\",\"x\":{\"field\":\"x\"},\"y\":{\"field\":\"y\"}},\"id\":\"8a7d940a-66e7-431d-805a-24893c173409\",\"type\":\"Patch\"},{\"attributes\":{\"callback\":null,\"data\":{\"x\":{\"__ndarray__\":\"AAAAEOSkGkAjnlA+qJgaQEb9zacBdBpAufGQ2hY3GkCqr7DrJ+IZQOtP2TOOdRlAbbNO8bvxGEC4pL7PO1cYQM6jYFawphdAD9H8PNPgFkBZ0o2odAYWQDw3S1B6GBVAU7ICjN4XFEDPXL5MrwUTQPwMzQAN4xFAjHhXZCmxEEDJooJ/jOIOQNtjUSpoSQxA9d/PfKGZCUBAchz6C9YGQGQ+pPuPAQRAiNAcoicfAUBE9JNnt2P8P5KbttaAefY/naN5deSF8D/ZuAwVSh7lP9qRJaUibtI/yEM/ed7qtL80hOYQF6Xcv375kO4s3Om/duQ4dA6X8r/iv595OR74v7DHotTGff2/xqKCvwdYAcAT8a4IztcDwPUZmkGVOwbAmLl82dmACMCkZAVYOKUKwHZuluBvpgzArqQbkWSCDsAN0fzckBsQwM2jYPZt4RDAt6S+b/mREcBss06ReSwSwOtP2dNLsBLAqq+wi+UcE8C58ZB61HETwEX9zUe/rhPAI55Q3mXTE8AAAACwod8TwAAAALCh3xPAI55Q3mXTE8BF/c1Hv64TwLnxkHrUcRPAqq+wi+UcE8DrT9nTS7ASwGyzTpF5LBLAt6S+b/mREcDNo2D2beEQwA3R/NyQGxDArqQbkWSCDsB2bpbgb6YMwKRkBVg4pQrAmLl82dmACMD1GZpBlTsGwBPxrgjO1wPAxqKCvwdYAcCwx6LUxn39v+K/n3k5Hvi/duQ4dA6X8r9++ZDuLNzpvzSE5hAXpdy/yEM/ed7qtL/akSWlIm7SP9m4DBVKHuU/naN5deSF8D+Sm7bWgHn2P0T0k2e3Y/w/iNAcoicfAUBkPqT7jwEEQEByHPoL1gZA9d/PfKGZCUDbY1EqaEkMQMmign+M4g5AjHhXZCmxEED8DM0ADeMRQM9cvkyvBRNAU7ICjN4XFEA8N0tQehgVQFnSjah0BhZAD9H8PNPgFkDOo2BWsKYXQLikvs87VxhAbbNO8bvxGEDrT9kzjnUZQKqvsOsn4hlAufGQ2hY3GkBG/c2nAXQaQCOeUD6omBpAAAAAEOSkGkA=\",\"dtype\":\"float64\",\"shape\":[100]},\"y\":{\"__ndarray__\":\"AAAAoNWHSUD4TIV579JKQELpDgWtHExAixcIY7NjTUCWkCiPqqZOQB66WMo+5E9AAvALAJGNUEDPO/aSBiVRQBVdtsngt1FA4ta6KIVFUkBr/ZevXs1SQAZTxnXeTlNAGPT3QHzJU0Di7GYUtzxUQKi4hbgVqFRA1iyDOicLVUANrBtjg2VVQIajOiTLtlVA7P74/Kj+VUBOYo9T0TxWQGOL3cQCcVZA+jAzaQabVkDABBIOsLpWQBIVrGTez1ZAE6btJHvaVkATpu0ke9pWQBIVrGTez1ZAwAQSDrC6VkD6MDNpBptWQGSL3cQCcVZAT2KPU9E8VkDt/vj8qP5VQIajOiTLtlVADqwbY4NlVUDWLIM6JwtVQKm4hbgVqFRA4+xmFLc8VEAY9PdAfMlTQAdTxnXeTlNAbP2Xr17NUkDk1roohUVSQBZdtsngt1FAzzv2kgYlUUAD8AsAkY1QQB66WMo+5E9AmJAoj6qmTkCNFwhjs2NNQETpDgWtHExA+kyFee/SSkABAACg1YdJQP///5/Vh0lABrN6xrs8SEC8FvE6/vJGQHPo99z3q0VAaG/XsABpREDiRad1bCtDQPof6D+J9EFAYogTGp7FQECoiyZZ0z8/QHKkFN1BCT1AUgqgwdvpOkDls+ao3OM4QJ8vIHxl+TZAdUxkLnosNUBdHemd/34zQKZM85W58jFAyk+R80iJMEDQ4yreU4guQJgIOBhlSSxAiO2EYyJYKkDkpBPZlrYoQDB4ZrZ5ZidABNpvjyxpJkB0V5/aub8lQGjPktjTaiVAaM+S2NNqJUB0V5/aub8lQATab48saSZAMHhmtnlmJ0DopBPZlrYoQIzthGMiWCpAnAg4GGVJLEDQ4yreU4guQMxPkfNIiTBAqkzzlbnyMUBfHemd/34zQHdMZC56LDVAoC8gfGX5NkDps+ao3OM4QFUKoMHb6TpAd6QU3UEJPUCriyZZ0z8/QGKIExqexUBA/B/oP4n0QUDiRad1bCtDQGpv17AAaURAdej33PerRUC+FvE6/vJGQAizesa7PEhAAAAAoNWHSUA=\",\"dtype\":\"float64\",\"shape\":[100]}},\"selected\":{\"id\":\"0bab6a51-1a1d-4970-9573-50a5967f40d9\",\"type\":\"Selection\"},\"selection_policy\":{\"id\":\"423b9bac-67fa-489d-b8ce-388c2433c848\",\"type\":\"UnionRenderers\"}},\"id\":\"77af58e5-05fc-4ddd-bec0-ad62f4fa9833\",\"type\":\"ColumnDataSource\"},{\"attributes\":{\"fill_alpha\":0.1,\"fill_color\":\"#1f77b4\",\"line_alpha\":0.1,\"line_color\":\"#1f77b4\",\"x\":{\"field\":\"x\"},\"y\":{\"field\":\"y\"}},\"id\":\"d3c1d03e-8914-424b-bb99-bfec2db05b70\",\"type\":\"Patch\"},{\"attributes\":{\"data_source\":{\"id\":\"77af58e5-05fc-4ddd-bec0-ad62f4fa9833\",\"type\":\"ColumnDataSource\"},\"glyph\":{\"id\":\"8a7d940a-66e7-431d-805a-24893c173409\",\"type\":\"Patch\"},\"hover_glyph\":null,\"muted_glyph\":null,\"nonselection_glyph\":{\"id\":\"d3c1d03e-8914-424b-bb99-bfec2db05b70\",\"type\":\"Patch\"},\"selection_glyph\":null,\"view\":{\"id\":\"0783b2c7-c5ea-48b8-8b9a-aca65ad75504\",\"type\":\"CDSView\"}},\"id\":\"ce2d49f2-f208-4a78-ae1b-925a95e18b25\",\"type\":\"GlyphRenderer\"},{\"attributes\":{\"source\":{\"id\":\"77af58e5-05fc-4ddd-bec0-ad62f4fa9833\",\"type\":\"ColumnDataSource\"}},\"id\":\"0783b2c7-c5ea-48b8-8b9a-aca65ad75504\",\"type\":\"CDSView\"},{\"attributes\":{\"fill_alpha\":0.3,\"fill_color\":\"#C7B097\",\"x\":{\"field\":\"x\"},\"y\":{\"field\":\"y\"}},\"id\":\"438b9554-f8c4-4c06-bdae-e7679b6936f6\",\"type\":\"Patch\"},{\"attributes\":{\"fill_alpha\":0.1,\"fill_color\":\"#1f77b4\",\"line_alpha\":0.1,\"line_color\":\"#1f77b4\",\"x\":{\"field\":\"x\"},\"y\":{\"field\":\"y\"}},\"id\":\"006d2f36-e1ee-4c78-823e-cfc3a4eb0f35\",\"type\":\"Patch\"},{\"attributes\":{\"data_source\":{\"id\":\"ad504cc3-0e11-4271-a572-151b4ffc7e18\",\"type\":\"ColumnDataSource\"},\"glyph\":{\"id\":\"438b9554-f8c4-4c06-bdae-e7679b6936f6\",\"type\":\"Patch\"},\"hover_glyph\":null,\"muted_glyph\":null,\"nonselection_glyph\":{\"id\":\"006d2f36-e1ee-4c78-823e-cfc3a4eb0f35\",\"type\":\"Patch\"},\"selection_glyph\":null,\"view\":{\"id\":\"65a3652b-ca7a-4a47-9ec2-6875746bcb1d\",\"type\":\"CDSView\"}},\"id\":\"a1ac279b-9780-43b7-8a65-48ff511f0bde\",\"type\":\"GlyphRenderer\"},{\"attributes\":{\"source\":{\"id\":\"ad504cc3-0e11-4271-a572-151b4ffc7e18\",\"type\":\"ColumnDataSource\"}},\"id\":\"65a3652b-ca7a-4a47-9ec2-6875746bcb1d\",\"type\":\"CDSView\"},{\"attributes\":{\"fill_alpha\":0.3,\"fill_color\":\"#C7B097\",\"x\":{\"field\":\"x\"},\"y\":{\"field\":\"y\"}},\"id\":\"0368eb5a-cc89-427d-9a74-0478be8adeee\",\"type\":\"Patch\"},{\"attributes\":{\"callback\":null,\"data\":{\"x\":{\"__ndarray__\":\"AAAAEOSkGkAjnlA+qJgaQEb9zacBdBpAufGQ2hY3GkCqr7DrJ+IZQOtP2TOOdRlAbbNO8bvxGEC4pL7PO1cYQM6jYFawphdAD9H8PNPgFkBZ0o2odAYWQDw3S1B6GBVAU7ICjN4XFEDPXL5MrwUTQPwMzQAN4xFAjHhXZCmxEEDJooJ/jOIOQNtjUSpoSQxA9d/PfKGZCUBAchz6C9YGQGQ+pPuPAQRAiNAcoicfAUBE9JNnt2P8P5KbttaAefY/naN5deSF8D/ZuAwVSh7lP9qRJaUibtI/yEM/ed7qtL80hOYQF6Xcv375kO4s3Om/duQ4dA6X8r/iv595OR74v7DHotTGff2/xqKCvwdYAcAT8a4IztcDwPUZmkGVOwbAmLl82dmACMCkZAVYOKUKwHZuluBvpgzArqQbkWSCDsAN0fzckBsQwM2jYPZt4RDAt6S+b/mREcBss06ReSwSwOtP2dNLsBLAqq+wi+UcE8C58ZB61HETwEX9zUe/rhPAI55Q3mXTE8AAAACwod8TwAAAALCh3xPAI55Q3mXTE8BF/c1Hv64TwLnxkHrUcRPAqq+wi+UcE8DrT9nTS7ASwGyzTpF5LBLAt6S+b/mREcDNo2D2beEQwA3R/NyQGxDArqQbkWSCDsB2bpbgb6YMwKRkBVg4pQrAmLl82dmACMD1GZpBlTsGwBPxrgjO1wPAxqKCvwdYAcCwx6LUxn39v+K/n3k5Hvi/duQ4dA6X8r9++ZDuLNzpvzSE5hAXpdy/yEM/ed7qtL/akSWlIm7SP9m4DBVKHuU/naN5deSF8D+Sm7bWgHn2P0T0k2e3Y/w/iNAcoicfAUBkPqT7jwEEQEByHPoL1gZA9d/PfKGZCUDbY1EqaEkMQMmign+M4g5AjHhXZCmxEED8DM0ADeMRQM9cvkyvBRNAU7ICjN4XFEA8N0tQehgVQFnSjah0BhZAD9H8PNPgFkDOo2BWsKYXQLikvs87VxhAbbNO8bvxGEDrT9kzjnUZQKqvsOsn4hlAufGQ2hY3GkBG/c2nAXQaQCOeUD6omBpAAAAAEOSkGkA=\",\"dtype\":\"float64\",\"shape\":[100]},\"y\":{\"__ndarray__\":\"AAAAyAIoR0Cb1zgAEHJIQJ/O2GxBvUlA4oUXpzoIS0Chf0qDn1FMQDb5J38VmE1A40lKLkXaTkBnKbrRbQtQQCt7jepFplBAakPe/Qc9UUCg0Ep0Fc9RQDt4panUW1JAfGyUjrHiUkACgVJEHmNTQGYF7bGT3FNA+bZhEpJOVEBISQd7obhUQBohs1lSGlVAKo4X6j1zVUA+DN+hBsNVQGTSEpNYCVZA5ixlxOlFVkAowQJ/enhWQCnfmJHVoFZAyl5KiNC+VkCfK1jZS9JWQNOETgYz21ZAfAqUsXzZVkCa6kOoKs1WQIbQSOBJtlZADJW6avKUVkDuBo1aR2lWQLVtqp92M1ZAHpeg1rjzVUDZRBMNUapVQF6gMnuMV1VAkOh/MsL7VEANzTXCUpdUQCbRtNGnKlRAIpFesTO2U0AS1VTicDpTQHPxmpXht1JAqQYhIw8vUkCWMUl5iaBRQPypfoXmDFFAlRV+lsF0UECY8ulxdbFPQNZMSB7sck5Ah4FsSDYvTUABAAB4qOdLQP///3eo50tAYyjHP5udSkBeMSfTaVJJQBx66JhwB0hAXIC1vAu+RkDIBtjAlXdFQBu2tRFmNURAMq2LnM/4QkCpCeVqH8NBQCp5Q0SblUBAfb3UrgDjPkAQH2rZA7A8QA9OrkWQlDpA9Pu1bt2SOEBj6ku4B602QBgkeTYO5TRA3trik9A8M0CUezMZDbYxQFbHoddeUjBAEJ4H8XcmLkDYbGln6PMrQMyY1txeDypAxPbpB9l6KEC4BjlzADgnQLAJrb0oSCZACKM+NU6sJUBo2YvNFGUlQBysX3PHciVALKvgvVfVJUDUe7n9XYwmQKRXK6oZlydAkMiXK3L0KEBUkqwC+KIqQBhH+0rmoCxAQNlllyTsLkCMfjWTJMEwQMRdALZNMDJAzssodwvCM0Buuyw5t3Q1QHq7hbqHRjdAvqus9pI1OUA3OpQp0D87QFzle/MZYz1ArTnbmjCdP0AKrAI13vVAQNjUAxMoJkJAag0WzjVeQ0Ats7chv5xEQHt+k/d04EVAAAAAyAIoR0A=\",\"dtype\":\"float64\",\"shape\":[100]}},\"selected\":{\"id\":\"6261db1a-aae6-421d-9c77-4b57c1405d7f\",\"type\":\"Selection\"},\"selection_policy\":{\"id\":\"a9cd679b-7f40-4a3f-8bba-d0e980a7ed64\",\"type\":\"UnionRenderers\"}},\"id\":\"f6b14aeb-daab-466b-b61c-d39f0c8fdd49\",\"type\":\"ColumnDataSource\"},{\"attributes\":{\"fill_alpha\":0.1,\"fill_color\":\"#1f77b4\",\"line_alpha\":0.1,\"line_color\":\"#1f77b4\",\"x\":{\"field\":\"x\"},\"y\":{\"field\":\"y\"}},\"id\":\"8388a649-f802-471c-aad2-ae9b38faf700\",\"type\":\"Patch\"},{\"attributes\":{\"data_source\":{\"id\":\"f6b14aeb-daab-466b-b61c-d39f0c8fdd49\",\"type\":\"ColumnDataSource\"},\"glyph\":{\"id\":\"0368eb5a-cc89-427d-9a74-0478be8adeee\",\"type\":\"Patch\"},\"hover_glyph\":null,\"muted_glyph\":null,\"nonselection_glyph\":{\"id\":\"8388a649-f802-471c-aad2-ae9b38faf700\",\"type\":\"Patch\"},\"selection_glyph\":null,\"view\":{\"id\":\"c10d54d6-0225-4968-b65c-657b3fcfceaf\",\"type\":\"CDSView\"}},\"id\":\"e2748114-ed7b-4ab2-bab6-70cf5c74f0bc\",\"type\":\"GlyphRenderer\"},{\"attributes\":{\"source\":{\"id\":\"f6b14aeb-daab-466b-b61c-d39f0c8fdd49\",\"type\":\"ColumnDataSource\"}},\"id\":\"c10d54d6-0225-4968-b65c-657b3fcfceaf\",\"type\":\"CDSView\"},{\"attributes\":{},\"id\":\"52f027f2-362a-4495-9510-582a088c2f3b\",\"type\":\"BasicTickFormatter\"},{\"attributes\":{},\"id\":\"9a7075a5-22cb-4167-b2e3-a677d44ecb80\",\"type\":\"UnionRenderers\"},{\"attributes\":{},\"id\":\"dbd27c0c-19d2-40df-b2e3-1cf6aa2b3553\",\"type\":\"BasicTickFormatter\"},{\"attributes\":{},\"id\":\"7c8c0a6e-cb2a-443a-b734-d36e7d0261e9\",\"type\":\"UnionRenderers\"},{\"attributes\":{},\"id\":\"d369c8bd-8fbf-4c3f-9d52-417e3bdfa44a\",\"type\":\"Selection\"},{\"attributes\":{},\"id\":\"ef288565-4264-4027-8a6d-f071316afb7f\",\"type\":\"UnionRenderers\"},{\"attributes\":{},\"id\":\"400f98dc-183d-494a-a35e-e2d2ac323edf\",\"type\":\"Selection\"},{\"attributes\":{},\"id\":\"14bd2c0b-0d3b-48d8-997b-4570f7e5dde1\",\"type\":\"Selection\"},{\"attributes\":{},\"id\":\"a1d3486c-7060-438e-8c1f-654abc7e220d\",\"type\":\"UnionRenderers\"},{\"attributes\":{},\"id\":\"817b9b72-704d-418c-8e9f-1eec9d02adf0\",\"type\":\"Selection\"},{\"attributes\":{},\"id\":\"423b9bac-67fa-489d-b8ce-388c2433c848\",\"type\":\"UnionRenderers\"},{\"attributes\":{},\"id\":\"0bab6a51-1a1d-4970-9573-50a5967f40d9\",\"type\":\"Selection\"},{\"attributes\":{\"callback\":null,\"data\":{\"x\":{\"__ndarray__\":\"AAAAU0CyUUCX3pT+DalRQFL4+62AjVFAYG8BXbVfUUC4txc43B9RQNZcqmk4zlBA7S520x9rUEBjVmJo9e1PQDNSwnOG5E5A6FCpAgq7TUCC6okGuXJMQD1BeN/sDEtAnezX8B2LSUBpEGoV4u5HQC0kXPTqOUZAdosYOQRuREAK4rivEY1CQOqpFkgNmUBA4ncjAwooPUAAuHiDMQA5QIcJZjDwvjRAk5vz479oMEDzkCr7YAQoQLfFclaMPx5AVkBr9Ci0CEA+gNZoSFP2v57FcvZJehfA55Aqy7+hJMAiN+eX3m4twIEJZpifDTPA+bd46+BON8DddyNruXY7wM5TLfjJgD/AB+K4Y2m0QcByixjtW5VDwCskXKhCYUXAZBBqyTkWR8Cc7NekdbJIwDtBeJNENErAgOqJuhCaS8DlUKm2YeJMwDFSwifeC07AYlZiHE0VT8DYXexal/1PwNZcqkPkYVDAuLcXEoizUMBgbwE3YfNQwFL4+4csIVHAl96U2Lk8UcAAAAAt7EVRwAAAAC3sRVHAl96U2Lk8UcBS+PuHLCFRwGBvATdh81DAuLcXEoizUMDWXKpD5GFQwNhd7FqX/U/AYlZiHE0VT8AxUsIn3gtOwOVQqbZh4kzAgOqJuhCaS8A7QXiTRDRKwJzs16R1skjAZBBqyTkWR8ArJFyoQmFFwHKLGO1blUPAB+K4Y2m0QcDOUy34yYA/wN13I2u5djvA+bd46+BON8CBCWaYnw0zwCI355febi3A55Aqy7+hJMCexXL2SXoXwD6A1mhIU/a/VkBr9Ci0CEC3xXJWjD8eQPOQKvtgBChAk5vz479oMECHCWYw8L40QAC4eIMxADlA4ncjAwooPUDqqRZIDZlAQAriuK8RjUJAdosYOQRuREAtJFz06jlGQGkQahXi7kdAnezX8B2LSUA9QXjf7AxLQILqiQa5ckxA6FCpAgq7TUAzUsJzhuROQGNWYmj17U9A7S520x9rUEDWXKppOM5QQLi3FzjcH1FAYG8BXbVfUUBS+PutgI1RQJfelP4NqVFAAAAAU0CyUUA=\",\"dtype\":\"float64\",\"shape\":[100]},\"y\":{\"__ndarray__\":\"AAAAoNWHSUBRONX3ZsVLQPGeBfGcAE5AgF7SU48bUEASj00VTDNRQEgoR3deRlJANGGAHKVTU0DIGI/ABFpUQLYf2mFpWFVAWBzyY8dNVkC0mRWpHDlXQAQduKFxGVhA157uUNrtWEBsc69Ed7VZQDN84IB2b1pAvF08XBQbW0CLWiZOnLdbQEhNlKxpRFxACvpGWejAXEB0fppdlSxdQI73SnT/hl1AQHCcgMfPXUCDv2jyoAZeQJEVqhZSK15ALH4tVLQ9XkAsfi1UtD1eQJEVqhZSK15AhL9o8qAGXkBAcJyAx89dQI/3SnT/hl1AdX6aXZUsXUAL+kZZ6MBcQEhNlKxpRFxAjFomTpy3W0C8XTxcFBtbQDR84IB2b1pAbHOvRHe1WUDYnu5Q2u1YQAYduKFxGVhAtpkVqRw5V0BaHPJjx01WQLgf2mFpWFVAyRiPwARaVEA2YYAcpVNTQEgoR3deRlJAFI9NFUwzUUCBXtJTjxtQQPaeBfGcAE5AVDjV92bFS0ABAACg1YdJQP///5/Vh0lArMcqSERKR0AKYfpODg9FQP5CW5iM2EJA2OFkFROpQEDeXuOi3AU9QCp7/g3C0DhA3JzDfUO3NEAggZf4sL0wQDAdb+Bx0ClAVDJTt8d1IkCYL37kP+YWQBAlLOJpPwNAQLa5V9LQ5r+Ahg8cHPQMwMjbxcPrMxnAXNQycTV+IcBEaqJkoOQlwFjQN8qVyCnAqPPT7P0lLcB4vFeiTvkvwADBcYLHHzHAEP6iSS37McBEVqja8Y0ywLD4tdB61zLAsPi10HrXMsBEVqja8Y0ywAz+okkt+zHAAMFxgscfMcBwvFeiTvkvwKDz0+z9JS3AVNA3ypXIKcBAaqJkoOQlwFjUMnE1fiHAuNvFw+szGcBghg8cHPQMwMC1uVfS0Oa/ICUs4mk/A0C4L37kP+YWQFwyU7fHdSJARB1v4HHQKUAmgZf4sL0wQN6cw31DtzRAMnv+DcLQOEDhXuOi3AU9QNzhZBUTqUBAAUNbmIzYQkAPYfpODg9FQK/HKkhESkdAAAAAoNWHSUA=\",\"dtype\":\"float64\",\"shape\":[100]}},\"selected\":{\"id\":\"400f98dc-183d-494a-a35e-e2d2ac323edf\",\"type\":\"Selection\"},\"selection_policy\":{\"id\":\"7c8c0a6e-cb2a-443a-b734-d36e7d0261e9\",\"type\":\"UnionRenderers\"}},\"id\":\"264ad513-c4c8-46e1-a6b6-38ff7189ea98\",\"type\":\"ColumnDataSource\"},{\"attributes\":{},\"id\":\"ca4e05db-e168-4505-8d54-d93f385db8a9\",\"type\":\"UnionRenderers\"},{\"attributes\":{\"callback\":null,\"data\":{\"x\":{\"__ndarray__\":\"hh5EiwkV+z8=\",\"dtype\":\"float64\",\"shape\":[1]},\"y\":{\"__ndarray__\":\"UGH27bT6AEA=\",\"dtype\":\"float64\",\"shape\":[1]}},\"selected\":{\"id\":\"d369c8bd-8fbf-4c3f-9d52-417e3bdfa44a\",\"type\":\"Selection\"},\"selection_policy\":{\"id\":\"9a7075a5-22cb-4167-b2e3-a677d44ecb80\",\"type\":\"UnionRenderers\"}},\"id\":\"b095bc17-2ddc-42c4-8caf-1506ca63e4e5\",\"type\":\"ColumnDataSource\"},{\"attributes\":{},\"id\":\"01c92111-9305-4a42-aaa5-fad2b6474119\",\"type\":\"Selection\"},{\"attributes\":{\"active_drag\":\"auto\",\"active_inspect\":\"auto\",\"active_scroll\":\"auto\",\"active_tap\":\"auto\",\"tools\":[{\"id\":\"13344271-6224-421c-ba14-dbc4c0cfeb3a\",\"type\":\"PanTool\"},{\"id\":\"6202e028-635b-4c48-8868-a2d29aed277b\",\"type\":\"WheelZoomTool\"},{\"id\":\"159374f6-1a5c-480d-ae5e-f1ca9e3c3098\",\"type\":\"BoxZoomTool\"},{\"id\":\"e112ad90-f988-490f-8a07-88660e2ea1d7\",\"type\":\"SaveTool\"},{\"id\":\"f50bc8be-93d9-4236-b628-4c19f04b9ff5\",\"type\":\"ResetTool\"},{\"id\":\"382a545f-10bf-402e-aba5-3d51a92909c9\",\"type\":\"HelpTool\"}]},\"id\":\"c9261d29-4c06-4711-b42a-61236355dbf2\",\"type\":\"Toolbar\"},{\"attributes\":{},\"id\":\"a9cd679b-7f40-4a3f-8bba-d0e980a7ed64\",\"type\":\"UnionRenderers\"},{\"attributes\":{},\"id\":\"6261db1a-aae6-421d-9c77-4b57c1405d7f\",\"type\":\"Selection\"}],\"root_ids\":[\"e4e94968-c682-4605-9ebe-e91563db2de0\"]},\"title\":\"Bokeh Application\",\"version\":\"0.12.16\"}};\n",
       "  var render_items = [{\"docid\":\"b8e7a6a8-e2e0-4e3d-8796-f79d35184d6f\",\"elementid\":\"1ae139e8-8a3e-420c-b236-9d7274d9bf53\",\"modelid\":\"e4e94968-c682-4605-9ebe-e91563db2de0\"}];\n",
       "  root.Bokeh.embed.embed_items_notebook(docs_json, render_items);\n",
       "\n",
       "  }\n",
       "  if (root.Bokeh !== undefined) {\n",
       "    embed_document(root);\n",
       "  } else {\n",
       "    var attempts = 0;\n",
       "    var timer = setInterval(function(root) {\n",
       "      if (root.Bokeh !== undefined) {\n",
       "        embed_document(root);\n",
       "        clearInterval(timer);\n",
       "      }\n",
       "      attempts++;\n",
       "      if (attempts > 100) {\n",
       "        console.log(\"Bokeh: ERROR: Unable to run BokehJS code because BokehJS library is missing\")\n",
       "        clearInterval(timer);\n",
       "      }\n",
       "    }, 10, root)\n",
       "  }\n",
       "})(window);"
      ],
      "application/vnd.bokehjs_exec.v0+json": ""
     },
     "metadata": {
      "application/vnd.bokehjs_exec.v0+json": {
       "id": "e4e94968-c682-4605-9ebe-e91563db2de0"
      }
     },
     "output_type": "display_data"
    }
   ],
   "source": [
    "fig = figure(\n",
    "    width=400,\n",
    "    height=400,\n",
    "    x_range=(mean[0] - 5, mean[0] + 5),\n",
    "    y_range=(mean[1] - 5, mean[1] + 5)\n",
    ")\n",
    "fig.circle(data[:, 0], data[:, 1])\n",
    "plotting.plot_normal(fig, normal_iso.mean.numpy(), normal_iso.cov.numpy(), \n",
    "                     line_color='black', fill_alpha=.3, color='green')\n",
    "plotting.plot_normal(fig, normal_diag.mean.numpy(), normal_diag.cov.numpy(), \n",
    "                     line_color='black', fill_alpha=.3, color='#98AFC7')\n",
    "plotting.plot_normal(fig, normal_full.mean.numpy(), normal_full.cov.numpy(), \n",
    "                     line_color='black', fill_alpha=.3, color='#C7B097')\n",
    "\n",
    "show(fig)"
   ]
  },
  {
   "cell_type": "code",
   "execution_count": 23,
   "metadata": {},
   "outputs": [
    {
     "data": {
      "text/plain": [
       "(tensor([-3.6848,  1.6926,  2.1224, -0.5000,  1.0000]),\n",
       " tensor([-5053.6851,     1.6926,   102.1224,    -1.0000,     2.0000]),\n",
       " tensor([-5053.6851,     1.6926,   102.1224,    -1.0000,     2.0000]))"
      ]
     },
     "execution_count": 23,
     "metadata": {},
     "output_type": "execute_result"
    }
   ],
   "source": [
    "stats = models['normal_iso'].sufficient_statistics(X) \n",
    "stats.sum(dim=0), \\\n",
    "models['normal_iso'].mean_precision.prior.natural_parameters + stats.sum(dim=0),\\\n",
    "models['normal_iso'].mean_precision.posterior.natural_parameters"
   ]
  }
 ],
 "metadata": {
  "kernelspec": {
   "display_name": "Python 3",
   "language": "python",
   "name": "python3"
  },
  "language_info": {
   "codemirror_mode": {
    "name": "ipython",
    "version": 3
   },
   "file_extension": ".py",
   "mimetype": "text/x-python",
   "name": "python",
   "nbconvert_exporter": "python",
   "pygments_lexer": "ipython3",
   "version": "3.6.4"
  }
 },
 "nbformat": 4,
 "nbformat_minor": 2
}
