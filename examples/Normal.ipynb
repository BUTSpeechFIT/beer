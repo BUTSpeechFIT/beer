{
 "cells": [
  {
   "cell_type": "markdown",
   "metadata": {},
   "source": [
    "# Bayesian Normal Density\n",
    "\n",
    "This notebook illustrate how to use a Bayesian Normal density model with the [beer framework](https://github.com/beer-asr/beer). The Normal distribution is a fairly basic model but it is used extenslively in other model as a basic building block."
   ]
  },
  {
   "cell_type": "code",
   "execution_count": 8,
   "metadata": {},
   "outputs": [
    {
     "data": {
      "text/html": [
       "\n",
       "    <div class=\"bk-root\">\n",
       "        <a href=\"https://bokeh.pydata.org\" target=\"_blank\" class=\"bk-logo bk-logo-small bk-logo-notebook\"></a>\n",
       "        <span id=\"6e86e3c9-e936-4b3b-909d-b3f4e7a219a1\">Loading BokehJS ...</span>\n",
       "    </div>"
      ]
     },
     "metadata": {},
     "output_type": "display_data"
    },
    {
     "data": {
      "application/javascript": [
       "\n",
       "(function(root) {\n",
       "  function now() {\n",
       "    return new Date();\n",
       "  }\n",
       "\n",
       "  var force = true;\n",
       "\n",
       "  if (typeof (root._bokeh_onload_callbacks) === \"undefined\" || force === true) {\n",
       "    root._bokeh_onload_callbacks = [];\n",
       "    root._bokeh_is_loading = undefined;\n",
       "  }\n",
       "\n",
       "  var JS_MIME_TYPE = 'application/javascript';\n",
       "  var HTML_MIME_TYPE = 'text/html';\n",
       "  var EXEC_MIME_TYPE = 'application/vnd.bokehjs_exec.v0+json';\n",
       "  var CLASS_NAME = 'output_bokeh rendered_html';\n",
       "\n",
       "  /**\n",
       "   * Render data to the DOM node\n",
       "   */\n",
       "  function render(props, node) {\n",
       "    var script = document.createElement(\"script\");\n",
       "    node.appendChild(script);\n",
       "  }\n",
       "\n",
       "  /**\n",
       "   * Handle when an output is cleared or removed\n",
       "   */\n",
       "  function handleClearOutput(event, handle) {\n",
       "    var cell = handle.cell;\n",
       "\n",
       "    var id = cell.output_area._bokeh_element_id;\n",
       "    var server_id = cell.output_area._bokeh_server_id;\n",
       "    // Clean up Bokeh references\n",
       "    if (id !== undefined) {\n",
       "      Bokeh.index[id].model.document.clear();\n",
       "      delete Bokeh.index[id];\n",
       "    }\n",
       "\n",
       "    if (server_id !== undefined) {\n",
       "      // Clean up Bokeh references\n",
       "      var cmd = \"from bokeh.io.state import curstate; print(curstate().uuid_to_server['\" + server_id + \"'].get_sessions()[0].document.roots[0]._id)\";\n",
       "      cell.notebook.kernel.execute(cmd, {\n",
       "        iopub: {\n",
       "          output: function(msg) {\n",
       "            var element_id = msg.content.text.trim();\n",
       "            Bokeh.index[element_id].model.document.clear();\n",
       "            delete Bokeh.index[element_id];\n",
       "          }\n",
       "        }\n",
       "      });\n",
       "      // Destroy server and session\n",
       "      var cmd = \"import bokeh.io.notebook as ion; ion.destroy_server('\" + server_id + \"')\";\n",
       "      cell.notebook.kernel.execute(cmd);\n",
       "    }\n",
       "  }\n",
       "\n",
       "  /**\n",
       "   * Handle when a new output is added\n",
       "   */\n",
       "  function handleAddOutput(event, handle) {\n",
       "    var output_area = handle.output_area;\n",
       "    var output = handle.output;\n",
       "\n",
       "    // limit handleAddOutput to display_data with EXEC_MIME_TYPE content only\n",
       "    if ((output.output_type != \"display_data\") || (!output.data.hasOwnProperty(EXEC_MIME_TYPE))) {\n",
       "      return\n",
       "    }\n",
       "\n",
       "    var toinsert = output_area.element.find(\".\" + CLASS_NAME.split(' ')[0]);\n",
       "\n",
       "    if (output.metadata[EXEC_MIME_TYPE][\"id\"] !== undefined) {\n",
       "      toinsert[0].firstChild.textContent = output.data[JS_MIME_TYPE];\n",
       "      // store reference to embed id on output_area\n",
       "      output_area._bokeh_element_id = output.metadata[EXEC_MIME_TYPE][\"id\"];\n",
       "    }\n",
       "    if (output.metadata[EXEC_MIME_TYPE][\"server_id\"] !== undefined) {\n",
       "      var bk_div = document.createElement(\"div\");\n",
       "      bk_div.innerHTML = output.data[HTML_MIME_TYPE];\n",
       "      var script_attrs = bk_div.children[0].attributes;\n",
       "      for (var i = 0; i < script_attrs.length; i++) {\n",
       "        toinsert[0].firstChild.setAttribute(script_attrs[i].name, script_attrs[i].value);\n",
       "      }\n",
       "      // store reference to server id on output_area\n",
       "      output_area._bokeh_server_id = output.metadata[EXEC_MIME_TYPE][\"server_id\"];\n",
       "    }\n",
       "  }\n",
       "\n",
       "  function register_renderer(events, OutputArea) {\n",
       "\n",
       "    function append_mime(data, metadata, element) {\n",
       "      // create a DOM node to render to\n",
       "      var toinsert = this.create_output_subarea(\n",
       "        metadata,\n",
       "        CLASS_NAME,\n",
       "        EXEC_MIME_TYPE\n",
       "      );\n",
       "      this.keyboard_manager.register_events(toinsert);\n",
       "      // Render to node\n",
       "      var props = {data: data, metadata: metadata[EXEC_MIME_TYPE]};\n",
       "      render(props, toinsert[0]);\n",
       "      element.append(toinsert);\n",
       "      return toinsert\n",
       "    }\n",
       "\n",
       "    /* Handle when an output is cleared or removed */\n",
       "    events.on('clear_output.CodeCell', handleClearOutput);\n",
       "    events.on('delete.Cell', handleClearOutput);\n",
       "\n",
       "    /* Handle when a new output is added */\n",
       "    events.on('output_added.OutputArea', handleAddOutput);\n",
       "\n",
       "    /**\n",
       "     * Register the mime type and append_mime function with output_area\n",
       "     */\n",
       "    OutputArea.prototype.register_mime_type(EXEC_MIME_TYPE, append_mime, {\n",
       "      /* Is output safe? */\n",
       "      safe: true,\n",
       "      /* Index of renderer in `output_area.display_order` */\n",
       "      index: 0\n",
       "    });\n",
       "  }\n",
       "\n",
       "  // register the mime type if in Jupyter Notebook environment and previously unregistered\n",
       "  if (root.Jupyter !== undefined) {\n",
       "    var events = require('base/js/events');\n",
       "    var OutputArea = require('notebook/js/outputarea').OutputArea;\n",
       "\n",
       "    if (OutputArea.prototype.mime_types().indexOf(EXEC_MIME_TYPE) == -1) {\n",
       "      register_renderer(events, OutputArea);\n",
       "    }\n",
       "  }\n",
       "\n",
       "  \n",
       "  if (typeof (root._bokeh_timeout) === \"undefined\" || force === true) {\n",
       "    root._bokeh_timeout = Date.now() + 5000;\n",
       "    root._bokeh_failed_load = false;\n",
       "  }\n",
       "\n",
       "  var NB_LOAD_WARNING = {'data': {'text/html':\n",
       "     \"<div style='background-color: #fdd'>\\n\"+\n",
       "     \"<p>\\n\"+\n",
       "     \"BokehJS does not appear to have successfully loaded. If loading BokehJS from CDN, this \\n\"+\n",
       "     \"may be due to a slow or bad network connection. Possible fixes:\\n\"+\n",
       "     \"</p>\\n\"+\n",
       "     \"<ul>\\n\"+\n",
       "     \"<li>re-rerun `output_notebook()` to attempt to load from CDN again, or</li>\\n\"+\n",
       "     \"<li>use INLINE resources instead, as so:</li>\\n\"+\n",
       "     \"</ul>\\n\"+\n",
       "     \"<code>\\n\"+\n",
       "     \"from bokeh.resources import INLINE\\n\"+\n",
       "     \"output_notebook(resources=INLINE)\\n\"+\n",
       "     \"</code>\\n\"+\n",
       "     \"</div>\"}};\n",
       "\n",
       "  function display_loaded() {\n",
       "    var el = document.getElementById(\"6e86e3c9-e936-4b3b-909d-b3f4e7a219a1\");\n",
       "    if (el != null) {\n",
       "      el.textContent = \"BokehJS is loading...\";\n",
       "    }\n",
       "    if (root.Bokeh !== undefined) {\n",
       "      if (el != null) {\n",
       "        el.textContent = \"BokehJS \" + root.Bokeh.version + \" successfully loaded.\";\n",
       "      }\n",
       "    } else if (Date.now() < root._bokeh_timeout) {\n",
       "      setTimeout(display_loaded, 100)\n",
       "    }\n",
       "  }\n",
       "\n",
       "\n",
       "  function run_callbacks() {\n",
       "    try {\n",
       "      root._bokeh_onload_callbacks.forEach(function(callback) { callback() });\n",
       "    }\n",
       "    finally {\n",
       "      delete root._bokeh_onload_callbacks\n",
       "    }\n",
       "    console.info(\"Bokeh: all callbacks have finished\");\n",
       "  }\n",
       "\n",
       "  function load_libs(js_urls, callback) {\n",
       "    root._bokeh_onload_callbacks.push(callback);\n",
       "    if (root._bokeh_is_loading > 0) {\n",
       "      console.log(\"Bokeh: BokehJS is being loaded, scheduling callback at\", now());\n",
       "      return null;\n",
       "    }\n",
       "    if (js_urls == null || js_urls.length === 0) {\n",
       "      run_callbacks();\n",
       "      return null;\n",
       "    }\n",
       "    console.log(\"Bokeh: BokehJS not loaded, scheduling load and callback at\", now());\n",
       "    root._bokeh_is_loading = js_urls.length;\n",
       "    for (var i = 0; i < js_urls.length; i++) {\n",
       "      var url = js_urls[i];\n",
       "      var s = document.createElement('script');\n",
       "      s.src = url;\n",
       "      s.async = false;\n",
       "      s.onreadystatechange = s.onload = function() {\n",
       "        root._bokeh_is_loading--;\n",
       "        if (root._bokeh_is_loading === 0) {\n",
       "          console.log(\"Bokeh: all BokehJS libraries loaded\");\n",
       "          run_callbacks()\n",
       "        }\n",
       "      };\n",
       "      s.onerror = function() {\n",
       "        console.warn(\"failed to load library \" + url);\n",
       "      };\n",
       "      console.log(\"Bokeh: injecting script tag for BokehJS library: \", url);\n",
       "      document.getElementsByTagName(\"head\")[0].appendChild(s);\n",
       "    }\n",
       "  };var element = document.getElementById(\"6e86e3c9-e936-4b3b-909d-b3f4e7a219a1\");\n",
       "  if (element == null) {\n",
       "    console.log(\"Bokeh: ERROR: autoload.js configured with elementid '6e86e3c9-e936-4b3b-909d-b3f4e7a219a1' but no matching script tag was found. \")\n",
       "    return false;\n",
       "  }\n",
       "\n",
       "  var js_urls = [\"https://cdn.pydata.org/bokeh/release/bokeh-0.12.14.min.js\", \"https://cdn.pydata.org/bokeh/release/bokeh-widgets-0.12.14.min.js\", \"https://cdn.pydata.org/bokeh/release/bokeh-tables-0.12.14.min.js\", \"https://cdn.pydata.org/bokeh/release/bokeh-gl-0.12.14.min.js\"];\n",
       "\n",
       "  var inline_js = [\n",
       "    function(Bokeh) {\n",
       "      Bokeh.set_log_level(\"info\");\n",
       "    },\n",
       "    \n",
       "    function(Bokeh) {\n",
       "      \n",
       "    },\n",
       "    function(Bokeh) {\n",
       "      console.log(\"Bokeh: injecting CSS: https://cdn.pydata.org/bokeh/release/bokeh-0.12.14.min.css\");\n",
       "      Bokeh.embed.inject_css(\"https://cdn.pydata.org/bokeh/release/bokeh-0.12.14.min.css\");\n",
       "      console.log(\"Bokeh: injecting CSS: https://cdn.pydata.org/bokeh/release/bokeh-widgets-0.12.14.min.css\");\n",
       "      Bokeh.embed.inject_css(\"https://cdn.pydata.org/bokeh/release/bokeh-widgets-0.12.14.min.css\");\n",
       "      console.log(\"Bokeh: injecting CSS: https://cdn.pydata.org/bokeh/release/bokeh-tables-0.12.14.min.css\");\n",
       "      Bokeh.embed.inject_css(\"https://cdn.pydata.org/bokeh/release/bokeh-tables-0.12.14.min.css\");\n",
       "    }\n",
       "  ];\n",
       "\n",
       "  function run_inline_js() {\n",
       "    \n",
       "    if ((root.Bokeh !== undefined) || (force === true)) {\n",
       "      for (var i = 0; i < inline_js.length; i++) {\n",
       "        inline_js[i].call(root, root.Bokeh);\n",
       "      }if (force === true) {\n",
       "        display_loaded();\n",
       "      }} else if (Date.now() < root._bokeh_timeout) {\n",
       "      setTimeout(run_inline_js, 100);\n",
       "    } else if (!root._bokeh_failed_load) {\n",
       "      console.log(\"Bokeh: BokehJS failed to load within specified timeout.\");\n",
       "      root._bokeh_failed_load = true;\n",
       "    } else if (force !== true) {\n",
       "      var cell = $(document.getElementById(\"6e86e3c9-e936-4b3b-909d-b3f4e7a219a1\")).parents('.cell').data().cell;\n",
       "      cell.output_area.append_execute_result(NB_LOAD_WARNING)\n",
       "    }\n",
       "\n",
       "  }\n",
       "\n",
       "  if (root._bokeh_is_loading === 0) {\n",
       "    console.log(\"Bokeh: BokehJS loaded, going straight to plotting\");\n",
       "    run_inline_js();\n",
       "  } else {\n",
       "    load_libs(js_urls, function() {\n",
       "      console.log(\"Bokeh: BokehJS plotting callback run at\", now());\n",
       "      run_inline_js();\n",
       "    });\n",
       "  }\n",
       "}(window));"
      ],
      "application/vnd.bokehjs_load.v0+json": "\n(function(root) {\n  function now() {\n    return new Date();\n  }\n\n  var force = true;\n\n  if (typeof (root._bokeh_onload_callbacks) === \"undefined\" || force === true) {\n    root._bokeh_onload_callbacks = [];\n    root._bokeh_is_loading = undefined;\n  }\n\n  \n\n  \n  if (typeof (root._bokeh_timeout) === \"undefined\" || force === true) {\n    root._bokeh_timeout = Date.now() + 5000;\n    root._bokeh_failed_load = false;\n  }\n\n  var NB_LOAD_WARNING = {'data': {'text/html':\n     \"<div style='background-color: #fdd'>\\n\"+\n     \"<p>\\n\"+\n     \"BokehJS does not appear to have successfully loaded. If loading BokehJS from CDN, this \\n\"+\n     \"may be due to a slow or bad network connection. Possible fixes:\\n\"+\n     \"</p>\\n\"+\n     \"<ul>\\n\"+\n     \"<li>re-rerun `output_notebook()` to attempt to load from CDN again, or</li>\\n\"+\n     \"<li>use INLINE resources instead, as so:</li>\\n\"+\n     \"</ul>\\n\"+\n     \"<code>\\n\"+\n     \"from bokeh.resources import INLINE\\n\"+\n     \"output_notebook(resources=INLINE)\\n\"+\n     \"</code>\\n\"+\n     \"</div>\"}};\n\n  function display_loaded() {\n    var el = document.getElementById(\"6e86e3c9-e936-4b3b-909d-b3f4e7a219a1\");\n    if (el != null) {\n      el.textContent = \"BokehJS is loading...\";\n    }\n    if (root.Bokeh !== undefined) {\n      if (el != null) {\n        el.textContent = \"BokehJS \" + root.Bokeh.version + \" successfully loaded.\";\n      }\n    } else if (Date.now() < root._bokeh_timeout) {\n      setTimeout(display_loaded, 100)\n    }\n  }\n\n\n  function run_callbacks() {\n    try {\n      root._bokeh_onload_callbacks.forEach(function(callback) { callback() });\n    }\n    finally {\n      delete root._bokeh_onload_callbacks\n    }\n    console.info(\"Bokeh: all callbacks have finished\");\n  }\n\n  function load_libs(js_urls, callback) {\n    root._bokeh_onload_callbacks.push(callback);\n    if (root._bokeh_is_loading > 0) {\n      console.log(\"Bokeh: BokehJS is being loaded, scheduling callback at\", now());\n      return null;\n    }\n    if (js_urls == null || js_urls.length === 0) {\n      run_callbacks();\n      return null;\n    }\n    console.log(\"Bokeh: BokehJS not loaded, scheduling load and callback at\", now());\n    root._bokeh_is_loading = js_urls.length;\n    for (var i = 0; i < js_urls.length; i++) {\n      var url = js_urls[i];\n      var s = document.createElement('script');\n      s.src = url;\n      s.async = false;\n      s.onreadystatechange = s.onload = function() {\n        root._bokeh_is_loading--;\n        if (root._bokeh_is_loading === 0) {\n          console.log(\"Bokeh: all BokehJS libraries loaded\");\n          run_callbacks()\n        }\n      };\n      s.onerror = function() {\n        console.warn(\"failed to load library \" + url);\n      };\n      console.log(\"Bokeh: injecting script tag for BokehJS library: \", url);\n      document.getElementsByTagName(\"head\")[0].appendChild(s);\n    }\n  };var element = document.getElementById(\"6e86e3c9-e936-4b3b-909d-b3f4e7a219a1\");\n  if (element == null) {\n    console.log(\"Bokeh: ERROR: autoload.js configured with elementid '6e86e3c9-e936-4b3b-909d-b3f4e7a219a1' but no matching script tag was found. \")\n    return false;\n  }\n\n  var js_urls = [\"https://cdn.pydata.org/bokeh/release/bokeh-0.12.14.min.js\", \"https://cdn.pydata.org/bokeh/release/bokeh-widgets-0.12.14.min.js\", \"https://cdn.pydata.org/bokeh/release/bokeh-tables-0.12.14.min.js\", \"https://cdn.pydata.org/bokeh/release/bokeh-gl-0.12.14.min.js\"];\n\n  var inline_js = [\n    function(Bokeh) {\n      Bokeh.set_log_level(\"info\");\n    },\n    \n    function(Bokeh) {\n      \n    },\n    function(Bokeh) {\n      console.log(\"Bokeh: injecting CSS: https://cdn.pydata.org/bokeh/release/bokeh-0.12.14.min.css\");\n      Bokeh.embed.inject_css(\"https://cdn.pydata.org/bokeh/release/bokeh-0.12.14.min.css\");\n      console.log(\"Bokeh: injecting CSS: https://cdn.pydata.org/bokeh/release/bokeh-widgets-0.12.14.min.css\");\n      Bokeh.embed.inject_css(\"https://cdn.pydata.org/bokeh/release/bokeh-widgets-0.12.14.min.css\");\n      console.log(\"Bokeh: injecting CSS: https://cdn.pydata.org/bokeh/release/bokeh-tables-0.12.14.min.css\");\n      Bokeh.embed.inject_css(\"https://cdn.pydata.org/bokeh/release/bokeh-tables-0.12.14.min.css\");\n    }\n  ];\n\n  function run_inline_js() {\n    \n    if ((root.Bokeh !== undefined) || (force === true)) {\n      for (var i = 0; i < inline_js.length; i++) {\n        inline_js[i].call(root, root.Bokeh);\n      }if (force === true) {\n        display_loaded();\n      }} else if (Date.now() < root._bokeh_timeout) {\n      setTimeout(run_inline_js, 100);\n    } else if (!root._bokeh_failed_load) {\n      console.log(\"Bokeh: BokehJS failed to load within specified timeout.\");\n      root._bokeh_failed_load = true;\n    } else if (force !== true) {\n      var cell = $(document.getElementById(\"6e86e3c9-e936-4b3b-909d-b3f4e7a219a1\")).parents('.cell').data().cell;\n      cell.output_area.append_execute_result(NB_LOAD_WARNING)\n    }\n\n  }\n\n  if (root._bokeh_is_loading === 0) {\n    console.log(\"Bokeh: BokehJS loaded, going straight to plotting\");\n    run_inline_js();\n  } else {\n    load_libs(js_urls, function() {\n      console.log(\"Bokeh: BokehJS plotting callback run at\", now());\n      run_inline_js();\n    });\n  }\n}(window));"
     },
     "metadata": {},
     "output_type": "display_data"
    },
    {
     "name": "stdout",
     "output_type": "stream",
     "text": [
      "The autoreload extension is already loaded. To reload it, use:\n",
      "  %reload_ext autoreload\n"
     ]
    }
   ],
   "source": [
    "# Add \"beer\" to the PYTHONPATH\n",
    "import sys\n",
    "sys.path.insert(0, '../')\n",
    "\n",
    "import beer\n",
    "import numpy as np\n",
    "import torch\n",
    "\n",
    "# For plotting.\n",
    "from bokeh.io import show, output_notebook\n",
    "from bokeh.plotting import figure, gridplot\n",
    "output_notebook()\n",
    "\n",
    "# Convenience functions for plotting.\n",
    "import plotting\n",
    "\n",
    "%load_ext autoreload\n",
    "%autoreload 2"
   ]
  },
  {
   "cell_type": "markdown",
   "metadata": {},
   "source": [
    "## Data\n",
    "\n",
    "Generate some normally distributed data:"
   ]
  },
  {
   "cell_type": "code",
   "execution_count": 9,
   "metadata": {},
   "outputs": [
    {
     "data": {
      "text/html": [
       "\n",
       "<div class=\"bk-root\">\n",
       "    <div class=\"bk-plotdiv\" id=\"3df024cb-3bad-442a-b2cf-2c213abc38d2\"></div>\n",
       "</div>"
      ]
     },
     "metadata": {},
     "output_type": "display_data"
    },
    {
     "data": {
      "application/javascript": [
       "(function(root) {\n",
       "  function embed_document(root) {\n",
       "    \n",
       "  var docs_json = {\"6fc941b2-9a94-464d-9796-80dbb72a9379\":{\"roots\":{\"references\":[{\"attributes\":{},\"id\":\"860d46fb-1819-4fd4-8e40-e9d1ea566851\",\"type\":\"BasicTickFormatter\"},{\"attributes\":{\"formatter\":{\"id\":\"d1cf15a6-411c-46ae-8fe7-6108162af754\",\"type\":\"BasicTickFormatter\"},\"plot\":{\"id\":\"dd217271-d9db-45c1-b0d1-b07eef5239da\",\"subtype\":\"Figure\",\"type\":\"Plot\"},\"ticker\":{\"id\":\"d6238a08-7803-4378-9c72-48cf00298e47\",\"type\":\"BasicTicker\"}},\"id\":\"ca2ef4aa-7192-480c-9994-baf65f622dab\",\"type\":\"LinearAxis\"},{\"attributes\":{\"dimension\":1,\"plot\":{\"id\":\"dd217271-d9db-45c1-b0d1-b07eef5239da\",\"subtype\":\"Figure\",\"type\":\"Plot\"},\"ticker\":{\"id\":\"70847040-a7ad-490a-934c-4d2a076cbfea\",\"type\":\"BasicTicker\"}},\"id\":\"d55c7e66-a003-4ffc-8bc2-7719fbe84d41\",\"type\":\"Grid\"},{\"attributes\":{\"fill_color\":{\"value\":\"blue\"},\"line_color\":{\"value\":\"blue\"},\"x\":{\"value\":-1.5},\"y\":{\"value\":4.0}},\"id\":\"b3d413a4-392d-404b-b2d1-87d9f72d365a\",\"type\":\"Cross\"},{\"attributes\":{},\"id\":\"7ae687d4-9e09-431b-aa23-fdfe8c96fa4b\",\"type\":\"WheelZoomTool\"},{\"attributes\":{},\"id\":\"70847040-a7ad-490a-934c-4d2a076cbfea\",\"type\":\"BasicTicker\"},{\"attributes\":{\"overlay\":{\"id\":\"7636d2b1-3165-40f5-bd6b-f14918704407\",\"type\":\"BoxAnnotation\"}},\"id\":\"28a10ee3-09a3-4d69-8494-c2a1025ee438\",\"type\":\"BoxZoomTool\"},{\"attributes\":{\"fill_alpha\":{\"value\":0.1},\"fill_color\":{\"value\":\"#1f77b4\"},\"line_alpha\":{\"value\":0.1},\"line_color\":{\"value\":\"#1f77b4\"},\"x\":{\"value\":-1.5},\"y\":{\"value\":4.0}},\"id\":\"652383be-ece9-48df-97a9-6b3630ab0c6f\",\"type\":\"Cross\"},{\"attributes\":{\"source\":{\"id\":\"4e83ba48-843d-4a5f-a297-1893abb6cf5e\",\"type\":\"ColumnDataSource\"}},\"id\":\"05f4f141-5587-4dd0-9123-bbd4836a6e70\",\"type\":\"CDSView\"},{\"attributes\":{\"data_source\":{\"id\":\"99bb82ea-0993-4a57-b965-edd437e9bfa2\",\"type\":\"ColumnDataSource\"},\"glyph\":{\"id\":\"d3d733ff-05d3-42d3-95d8-878b6179896c\",\"type\":\"Ellipse\"},\"hover_glyph\":null,\"muted_glyph\":null,\"nonselection_glyph\":{\"id\":\"2e42734e-4351-42b4-bf33-e25bbe5ecda6\",\"type\":\"Ellipse\"},\"selection_glyph\":null,\"view\":{\"id\":\"c5ad8d25-82f4-4fb2-a07f-43c3b3f5b6f4\",\"type\":\"CDSView\"}},\"id\":\"b6da04bd-f205-4ca0-8c9d-aaff18bf01b7\",\"type\":\"GlyphRenderer\"},{\"attributes\":{\"plot\":{\"id\":\"dd217271-d9db-45c1-b0d1-b07eef5239da\",\"subtype\":\"Figure\",\"type\":\"Plot\"},\"ticker\":{\"id\":\"d6238a08-7803-4378-9c72-48cf00298e47\",\"type\":\"BasicTicker\"}},\"id\":\"81aeb47a-69b9-438d-af9f-477456b363a8\",\"type\":\"Grid\"},{\"attributes\":{\"formatter\":{\"id\":\"860d46fb-1819-4fd4-8e40-e9d1ea566851\",\"type\":\"BasicTickFormatter\"},\"plot\":{\"id\":\"dd217271-d9db-45c1-b0d1-b07eef5239da\",\"subtype\":\"Figure\",\"type\":\"Plot\"},\"ticker\":{\"id\":\"70847040-a7ad-490a-934c-4d2a076cbfea\",\"type\":\"BasicTicker\"}},\"id\":\"71a2dcfd-aaad-49eb-9c7d-ffec1a65e999\",\"type\":\"LinearAxis\"},{\"attributes\":{\"plot\":null,\"text\":\"Data\"},\"id\":\"1ef231f4-1148-46a1-a794-d792a080d3cd\",\"type\":\"Title\"},{\"attributes\":{\"bottom_units\":\"screen\",\"fill_alpha\":{\"value\":0.5},\"fill_color\":{\"value\":\"lightgrey\"},\"left_units\":\"screen\",\"level\":\"overlay\",\"line_alpha\":{\"value\":1.0},\"line_color\":{\"value\":\"black\"},\"line_dash\":[4,4],\"line_width\":{\"value\":2},\"plot\":null,\"render_mode\":\"css\",\"right_units\":\"screen\",\"top_units\":\"screen\"},\"id\":\"7636d2b1-3165-40f5-bd6b-f14918704407\",\"type\":\"BoxAnnotation\"},{\"attributes\":{},\"id\":\"fc21a296-7806-4801-a05a-89741ea1adfc\",\"type\":\"PanTool\"},{\"attributes\":{\"below\":[{\"id\":\"ca2ef4aa-7192-480c-9994-baf65f622dab\",\"type\":\"LinearAxis\"}],\"left\":[{\"id\":\"71a2dcfd-aaad-49eb-9c7d-ffec1a65e999\",\"type\":\"LinearAxis\"}],\"plot_height\":400,\"plot_width\":400,\"renderers\":[{\"id\":\"ca2ef4aa-7192-480c-9994-baf65f622dab\",\"type\":\"LinearAxis\"},{\"id\":\"81aeb47a-69b9-438d-af9f-477456b363a8\",\"type\":\"Grid\"},{\"id\":\"71a2dcfd-aaad-49eb-9c7d-ffec1a65e999\",\"type\":\"LinearAxis\"},{\"id\":\"d55c7e66-a003-4ffc-8bc2-7719fbe84d41\",\"type\":\"Grid\"},{\"id\":\"7636d2b1-3165-40f5-bd6b-f14918704407\",\"type\":\"BoxAnnotation\"},{\"id\":\"c4f9a39f-4cbf-4602-8120-25df46d75b2d\",\"type\":\"GlyphRenderer\"},{\"id\":\"642392bc-fefa-4a1e-b681-8ed98c9a25fb\",\"type\":\"GlyphRenderer\"},{\"id\":\"646516bb-64de-4adf-af37-05fa356bc5c7\",\"type\":\"GlyphRenderer\"},{\"id\":\"b6da04bd-f205-4ca0-8c9d-aaff18bf01b7\",\"type\":\"GlyphRenderer\"}],\"title\":{\"id\":\"1ef231f4-1148-46a1-a794-d792a080d3cd\",\"type\":\"Title\"},\"toolbar\":{\"id\":\"8ef6ee6a-48b8-4aa7-8002-508aa82049de\",\"type\":\"Toolbar\"},\"x_range\":{\"id\":\"dcc29fa2-b08d-4353-8178-71f35b7d141e\",\"type\":\"Range1d\"},\"x_scale\":{\"id\":\"22c63fe8-dff8-4bf4-a9f9-43dcabaf0c69\",\"type\":\"LinearScale\"},\"y_range\":{\"id\":\"f5566814-5df6-4fcf-9302-747abc15d2c3\",\"type\":\"Range1d\"},\"y_scale\":{\"id\":\"b6428d2a-fd6b-4d35-9663-791ea1ff382b\",\"type\":\"LinearScale\"}},\"id\":\"dd217271-d9db-45c1-b0d1-b07eef5239da\",\"subtype\":\"Figure\",\"type\":\"Plot\"},{\"attributes\":{},\"id\":\"22c63fe8-dff8-4bf4-a9f9-43dcabaf0c69\",\"type\":\"LinearScale\"},{\"attributes\":{\"fill_alpha\":{\"value\":0.1},\"fill_color\":{\"value\":\"#1f77b4\"},\"line_alpha\":{\"value\":0.1},\"line_color\":{\"value\":\"#1f77b4\"},\"x\":{\"field\":\"x\"},\"y\":{\"field\":\"y\"}},\"id\":\"60ad09f0-7aba-4f6d-b3bb-707a49875407\",\"type\":\"Circle\"},{\"attributes\":{\"data_source\":{\"id\":\"c1030fb1-b8c1-468a-9613-a949b0a79872\",\"type\":\"ColumnDataSource\"},\"glyph\":{\"id\":\"b3d413a4-392d-404b-b2d1-87d9f72d365a\",\"type\":\"Cross\"},\"hover_glyph\":null,\"muted_glyph\":null,\"nonselection_glyph\":{\"id\":\"652383be-ece9-48df-97a9-6b3630ab0c6f\",\"type\":\"Cross\"},\"selection_glyph\":null,\"view\":{\"id\":\"c76ec4c4-0818-4df9-93f5-f371140373f5\",\"type\":\"CDSView\"}},\"id\":\"646516bb-64de-4adf-af37-05fa356bc5c7\",\"type\":\"GlyphRenderer\"},{\"attributes\":{\"callback\":null,\"data\":{}},\"id\":\"c1030fb1-b8c1-468a-9613-a949b0a79872\",\"type\":\"ColumnDataSource\"},{\"attributes\":{\"callback\":null,\"data\":{}},\"id\":\"99bb82ea-0993-4a57-b965-edd437e9bfa2\",\"type\":\"ColumnDataSource\"},{\"attributes\":{\"angle\":{\"units\":\"rad\",\"value\":-1.0646978210692295},\"fill_alpha\":{\"value\":0.1},\"fill_color\":{\"value\":\"#1f77b4\"},\"height\":{\"units\":\"data\",\"value\":3.1964027540390307},\"line_alpha\":{\"value\":0.1},\"line_color\":{\"value\":\"#1f77b4\"},\"width\":{\"units\":\"data\",\"value\":0.8848782029023531},\"x\":{\"value\":-1.5},\"y\":{\"value\":4.0}},\"id\":\"2e42734e-4351-42b4-bf33-e25bbe5ecda6\",\"type\":\"Ellipse\"},{\"attributes\":{\"angle\":{\"units\":\"rad\",\"value\":-1.0646978210692295},\"fill_alpha\":{\"value\":0.1},\"fill_color\":{\"value\":\"#1f77b4\"},\"height\":{\"units\":\"data\",\"value\":6.3928055080780615},\"line_alpha\":{\"value\":0.1},\"line_color\":{\"value\":\"#1f77b4\"},\"width\":{\"units\":\"data\",\"value\":1.7697564058047062},\"x\":{\"value\":-1.5},\"y\":{\"value\":4.0}},\"id\":\"11db2e8c-d798-439b-a316-52a5fd421985\",\"type\":\"Ellipse\"},{\"attributes\":{},\"id\":\"b6428d2a-fd6b-4d35-9663-791ea1ff382b\",\"type\":\"LinearScale\"},{\"attributes\":{\"callback\":null,\"column_names\":[\"x\",\"y\"],\"data\":{\"x\":{\"__ndarray__\":\"uvJwTH3I47/SYao0xkgFwADMjzyIM6s/Di6bb0d78r/OU21QlUj5v4C/bjAsRK2/umlNzfPG7r8Ef6CL7pjWP74rnM7uDgbAGhVkZgBD/L+0u+Sh99QTwNV47xRPfQzAo+EWh9LT478713tSVOIGwKR/JaRk9vK/FHeB18b+C8C+khExJ/j4vykHvP/fe/u/brgztvb3CsD+KxrTVzgEwMDAczWCUgHA33ayuLB1AMASTau5rGwGwAzj7aGd3e+/wMuqmRIx1T9e+O6Z3DQBwBv6SQBLo+a/F8EcHLJV+L9ESohhpo8EQIaQ+VSg5gbAdk30s/ZfAcDc+Kxt7u77vxYFswUa7uu/DTSA65JOBMCb1wF8JUERwHucFIallfu/WNFZrqPu2T8gBM1/GlvYP6Y2jjC4MAXAaq9GTxqL879XOPlXN/kBwLT0g8t0DADA+B2pjBIk1r8wS0nFcoMBwItR6thQqea/JIaJX/2K/L8085vlnkfoP/8VhvH2Nfy/4L99RGKg3r8FEsrKybXkv0pg9NyEu/i/HEPrMJ4B9r93IwRA3UoAwGgaQuSdgQbAa5MjN8Dz7r9She1OCbAMwED6ir+zf/W/OoVze2jfAUDEQcbuV6zYP8wpL80R6dG/kNjkfWSA3b8aaMtBtu4BwOiNdqypJNO/9AT+24SnEcDa9wr+TooKwKx+AL/4iuk/HDkegSxm+r/Qv9A+b9j6v9M/+zcZE/m/xDL5UL+59j9yHmktCLz6v8SLsKHkdQLAvtcXJB1UEcB84aRSMPzrv1Ke0DoqegjAOJNTWP/u4T8i6im4uhb0P6DqnEqoo+6/iJKlrYQ90r9ok4iYWzUNwK4AIoKvtwTAzLmXIjVO778Ruqa0GeTsv/sesFX7yvG/wwbGhJAg778cFBhN5zgMwL3PMWKjQ/a/0BhykIiNBsDg7Sd7GEmqvw6x+wFyv/2/GDrCtJ83BsCXja2E02Tlv1qmNybPZg7AcHCsld3h9r9Jfyuv3WEPwIEEkBQOGgjAELPAGb1H17827aZgAjYEwO4SvTpRaPE/ilyT8Oed8b8=\",\"dtype\":\"float64\",\"shape\":[100]},\"y\":{\"__ndarray__\":\"sHc7t74fDkBd1v9ugzwNQCtN7uYTfBFAF52fRmqzDkD6uNkA5LUNQLniVIWPlhJA2EhQ8H/vE0C/ZteU9VoRQLdNi71t1hBAnX7S7zesDkB+fPk6sCIDQHZ4SkmhvwZARnWRfjM8EEAwGcA1OPwQQFtyVikrng5AwmqNx0VPB0AoK/UphtMQQERHEq+UdxJA6owZ3KHACkAXkVC+03ESQGlPMUHDaBBAtoWw4oAiC0AaMORWpcEHQB66GEYhuxJAqsJvx6WTDUD1gEeaLjQSQEqTFu399BJA341XvU4vEUCCErU2/vYTQMUaNM1TeglA8hD4NFT/DEBITED8+n8QQGJ/yDJR6BFAegQNZeSxEUCi1r0Tu4QFQIVrjLm5BgtAWGeI8uC5EkBE8f5mM30UQOQpRSEuJwxAyhiI1UCcEUDgCVC/L5kMQGwgt+pgDAxAWCdkox82FUAYoEUsBu8MQJpdqFBz4RBAOOVbH7V2B0AKPHdXwhUTQCLtgIKh9wpAVmXD01zWFUAyRU8cLbsPQCYTQQR2TQ5A5GG3+bOGDEBuGxkIb3EQQD6FQBfdYAZAD9u+wIOvDUA3mrQfRm4AQMSpJe9K0RNAeW+1m0o0GkA7gFtbggoWQATEvNLjChNAqcon1wqnD0AbvNyJoowPQKBZOpowRhRApOrox9O1AEATjD421IUKQN5gkwiSFBNAmXwTyyc8DkCfn5XAf3oPQEBaWfIgEBJAQUs6MZteE0DZFmzpVaoRQNwM5b+0xAlAtH5iBRAxBkCkx0LDwhkQQABtSLyfnQpA9Cg+dDKoF0AQa4JwyH0TQDv4IACz0hFAnAeUs1aUEkCsOUjdkeIMQNQ8jGHUzAJAHTlJ2nTWD0AemXeDljULQFNKliutWxBAJZaweJ6LD0B2u3E3aK4BQFmAwDnUiRBAzGix89rICEBB4W7Y3KEUQFvnUUzlpRBAHkEYB78lCUDK051Yse8SQJTyzkxAWwZAbHZt+DDvDkDapLtO6XMHQAKtR90+MQ5ACbd8DptOEkCRel9THjYMQDUN8SVE4xVAmkEXNlu1DkA=\",\"dtype\":\"float64\",\"shape\":[100]}}},\"id\":\"4e83ba48-843d-4a5f-a297-1893abb6cf5e\",\"type\":\"ColumnDataSource\"},{\"attributes\":{\"callback\":null,\"end\":9.0,\"start\":-1.0},\"id\":\"f5566814-5df6-4fcf-9302-747abc15d2c3\",\"type\":\"Range1d\"},{\"attributes\":{\"fill_color\":{\"value\":\"#1f77b4\"},\"line_color\":{\"value\":\"#1f77b4\"},\"x\":{\"field\":\"x\"},\"y\":{\"field\":\"y\"}},\"id\":\"23359257-e476-4252-ac9e-6602d457dd70\",\"type\":\"Circle\"},{\"attributes\":{},\"id\":\"9483baaf-bd94-41c6-9836-7215476aa53c\",\"type\":\"SaveTool\"},{\"attributes\":{\"active_drag\":\"auto\",\"active_inspect\":\"auto\",\"active_scroll\":\"auto\",\"active_tap\":\"auto\",\"tools\":[{\"id\":\"fc21a296-7806-4801-a05a-89741ea1adfc\",\"type\":\"PanTool\"},{\"id\":\"7ae687d4-9e09-431b-aa23-fdfe8c96fa4b\",\"type\":\"WheelZoomTool\"},{\"id\":\"28a10ee3-09a3-4d69-8494-c2a1025ee438\",\"type\":\"BoxZoomTool\"},{\"id\":\"9483baaf-bd94-41c6-9836-7215476aa53c\",\"type\":\"SaveTool\"},{\"id\":\"a1bce2fe-fd99-4475-8c0f-c870e74dbb35\",\"type\":\"ResetTool\"},{\"id\":\"a5c653b1-aa84-4807-b48f-4023676cb0a5\",\"type\":\"HelpTool\"}]},\"id\":\"8ef6ee6a-48b8-4aa7-8002-508aa82049de\",\"type\":\"Toolbar\"},{\"attributes\":{\"data_source\":{\"id\":\"958943a0-ea9a-4eab-b60c-1b8914bf1f97\",\"type\":\"ColumnDataSource\"},\"glyph\":{\"id\":\"0a82949f-5455-4ae0-b92e-af32c8ba1b01\",\"type\":\"Ellipse\"},\"hover_glyph\":null,\"muted_glyph\":null,\"nonselection_glyph\":{\"id\":\"11db2e8c-d798-439b-a316-52a5fd421985\",\"type\":\"Ellipse\"},\"selection_glyph\":null,\"view\":{\"id\":\"f7722750-2ff6-4534-b86d-79f946e7db81\",\"type\":\"CDSView\"}},\"id\":\"642392bc-fefa-4a1e-b681-8ed98c9a25fb\",\"type\":\"GlyphRenderer\"},{\"attributes\":{\"data_source\":{\"id\":\"4e83ba48-843d-4a5f-a297-1893abb6cf5e\",\"type\":\"ColumnDataSource\"},\"glyph\":{\"id\":\"23359257-e476-4252-ac9e-6602d457dd70\",\"type\":\"Circle\"},\"hover_glyph\":null,\"muted_glyph\":null,\"nonselection_glyph\":{\"id\":\"60ad09f0-7aba-4f6d-b3bb-707a49875407\",\"type\":\"Circle\"},\"selection_glyph\":null,\"view\":{\"id\":\"05f4f141-5587-4dd0-9123-bbd4836a6e70\",\"type\":\"CDSView\"}},\"id\":\"c4f9a39f-4cbf-4602-8120-25df46d75b2d\",\"type\":\"GlyphRenderer\"},{\"attributes\":{\"callback\":null,\"end\":3.5,\"start\":-6.5},\"id\":\"dcc29fa2-b08d-4353-8178-71f35b7d141e\",\"type\":\"Range1d\"},{\"attributes\":{\"source\":{\"id\":\"958943a0-ea9a-4eab-b60c-1b8914bf1f97\",\"type\":\"ColumnDataSource\"}},\"id\":\"f7722750-2ff6-4534-b86d-79f946e7db81\",\"type\":\"CDSView\"},{\"attributes\":{\"source\":{\"id\":\"c1030fb1-b8c1-468a-9613-a949b0a79872\",\"type\":\"ColumnDataSource\"}},\"id\":\"c76ec4c4-0818-4df9-93f5-f371140373f5\",\"type\":\"CDSView\"},{\"attributes\":{\"source\":{\"id\":\"99bb82ea-0993-4a57-b965-edd437e9bfa2\",\"type\":\"ColumnDataSource\"}},\"id\":\"c5ad8d25-82f4-4fb2-a07f-43c3b3f5b6f4\",\"type\":\"CDSView\"},{\"attributes\":{},\"id\":\"d1cf15a6-411c-46ae-8fe7-6108162af754\",\"type\":\"BasicTickFormatter\"},{\"attributes\":{\"callback\":null,\"data\":{}},\"id\":\"958943a0-ea9a-4eab-b60c-1b8914bf1f97\",\"type\":\"ColumnDataSource\"},{\"attributes\":{},\"id\":\"a1bce2fe-fd99-4475-8c0f-c870e74dbb35\",\"type\":\"ResetTool\"},{\"attributes\":{},\"id\":\"a5c653b1-aa84-4807-b48f-4023676cb0a5\",\"type\":\"HelpTool\"},{\"attributes\":{},\"id\":\"d6238a08-7803-4378-9c72-48cf00298e47\",\"type\":\"BasicTicker\"},{\"attributes\":{\"angle\":{\"units\":\"rad\",\"value\":-1.0646978210692295},\"fill_alpha\":{\"value\":0.5},\"fill_color\":{\"value\":\"blue\"},\"height\":{\"units\":\"data\",\"value\":6.3928055080780615},\"line_alpha\":{\"value\":0.5},\"line_color\":{\"value\":\"blue\"},\"width\":{\"units\":\"data\",\"value\":1.7697564058047062},\"x\":{\"value\":-1.5},\"y\":{\"value\":4.0}},\"id\":\"0a82949f-5455-4ae0-b92e-af32c8ba1b01\",\"type\":\"Ellipse\"},{\"attributes\":{\"angle\":{\"units\":\"rad\",\"value\":-1.0646978210692295},\"fill_color\":{\"value\":\"blue\"},\"height\":{\"units\":\"data\",\"value\":3.1964027540390307},\"line_color\":{\"value\":\"blue\"},\"width\":{\"units\":\"data\",\"value\":0.8848782029023531},\"x\":{\"value\":-1.5},\"y\":{\"value\":4.0}},\"id\":\"d3d733ff-05d3-42d3-95d8-878b6179896c\",\"type\":\"Ellipse\"}],\"root_ids\":[\"dd217271-d9db-45c1-b0d1-b07eef5239da\"]},\"title\":\"Bokeh Application\",\"version\":\"0.12.14\"}};\n",
       "  var render_items = [{\"docid\":\"6fc941b2-9a94-464d-9796-80dbb72a9379\",\"elementid\":\"3df024cb-3bad-442a-b2cf-2c213abc38d2\",\"modelid\":\"dd217271-d9db-45c1-b0d1-b07eef5239da\"}];\n",
       "  root.Bokeh.embed.embed_items_notebook(docs_json, render_items);\n",
       "\n",
       "  }\n",
       "  if (root.Bokeh !== undefined) {\n",
       "    embed_document(root);\n",
       "  } else {\n",
       "    var attempts = 0;\n",
       "    var timer = setInterval(function(root) {\n",
       "      if (root.Bokeh !== undefined) {\n",
       "        embed_document(root);\n",
       "        clearInterval(timer);\n",
       "      }\n",
       "      attempts++;\n",
       "      if (attempts > 100) {\n",
       "        console.log(\"Bokeh: ERROR: Unable to run BokehJS code because BokehJS library is missing\")\n",
       "        clearInterval(timer);\n",
       "      }\n",
       "    }, 10, root)\n",
       "  }\n",
       "})(window);"
      ],
      "application/vnd.bokehjs_exec.v0+json": ""
     },
     "metadata": {
      "application/vnd.bokehjs_exec.v0+json": {
       "id": "dd217271-d9db-45c1-b0d1-b07eef5239da"
      }
     },
     "output_type": "display_data"
    }
   ],
   "source": [
    "mean = np.array([-1.5, 4]) \n",
    "cov = np.array([\n",
    "    [2, 1],\n",
    "    [1, .75]\n",
    "])\n",
    "data = np.random.multivariate_normal(mean, cov, size=100)\n",
    "\n",
    "fig = figure(\n",
    "    title='Data',\n",
    "    width=400,\n",
    "    height=400,\n",
    "    x_range=(mean[0] - 5, mean[0] + 5),\n",
    "    y_range=(mean[1] - 5, mean[1] + 5)\n",
    ")\n",
    "fig.circle(data[:, 0], data[:, 1])\n",
    "plotting.plot_normal(fig, mean, cov)\n",
    "\n",
    "show(fig)"
   ]
  },
  {
   "cell_type": "markdown",
   "metadata": {},
   "source": [
    "## Model Creation\n",
    "\n",
    "We create two types of Normal distribution: one diagonal covariance matrix and another one with full covariance matrix."
   ]
  },
  {
   "cell_type": "code",
   "execution_count": 10,
   "metadata": {},
   "outputs": [],
   "source": [
    "normal_diag = beer.NormalDiagonalCovariance.create(torch.ones(2), torch.eye(2), prior_count=1e-3)\n",
    "normal_full = beer.NormalFullCovariance.create(torch.zeros(2), torch.eye(2), prior_count=1e-3)"
   ]
  },
  {
   "cell_type": "markdown",
   "metadata": {},
   "source": [
    "## Variational Bayes Training "
   ]
  },
  {
   "cell_type": "code",
   "execution_count": 11,
   "metadata": {
    "scrolled": false
   },
   "outputs": [
    {
     "name": "stderr",
     "output_type": "stream",
     "text": [
      "/Users/lucasondel/anaconda3/envs/pytorch_src/lib/python3.6/site-packages/bokeh/core/json_encoder.py:80: FutureWarning: Conversion of the second argument of issubdtype from `float` to `np.floating` is deprecated. In future, it will be treated as `np.float64 == np.dtype(float).type`.\n",
      "  elif np.issubdtype(type(obj), np.float):\n"
     ]
    },
    {
     "data": {
      "text/html": [
       "\n",
       "<div class=\"bk-root\">\n",
       "    <div class=\"bk-plotdiv\" id=\"b1c49c65-3844-4038-8cd5-c8baae8851ef\"></div>\n",
       "</div>"
      ]
     },
     "metadata": {},
     "output_type": "display_data"
    },
    {
     "data": {
      "application/javascript": [
       "(function(root) {\n",
       "  function embed_document(root) {\n",
       "    \n",
       "  var docs_json = {\"d347a035-06d5-4e62-97d4-31688c5ced50\":{\"roots\":{\"references\":[{\"attributes\":{},\"id\":\"026d6db1-6462-4b46-a251-68c57e090667\",\"type\":\"PanTool\"},{\"attributes\":{\"angle\":{\"units\":\"rad\",\"value\":-1.5707963267948966},\"fill_alpha\":{\"value\":0.25},\"fill_color\":{\"value\":\"red\"},\"height\":{\"units\":\"data\",\"value\":5.843590259552002},\"line_alpha\":{\"value\":0.25},\"line_color\":{\"value\":\"red\"},\"width\":{\"units\":\"data\",\"value\":3.351557731628418},\"x\":{\"value\":-1.5201112031936646},\"y\":{\"value\":3.986485004425049}},\"id\":\"31a33570-f3fa-4955-8af5-156e1706e405\",\"type\":\"Ellipse\"},{\"attributes\":{\"source\":{\"id\":\"beb4b3ff-2296-4e8c-bbbb-79751f5ccc9e\",\"type\":\"ColumnDataSource\"}},\"id\":\"89234925-928b-49f7-9352-e76c36f9677d\",\"type\":\"CDSView\"},{\"attributes\":{},\"id\":\"3c862462-72e2-4ed5-a1f7-9f97c6cd9665\",\"type\":\"WheelZoomTool\"},{\"attributes\":{\"overlay\":{\"id\":\"8bc43d7a-cbf8-45be-adbc-abe85a9c7ace\",\"type\":\"BoxAnnotation\"}},\"id\":\"c18a2e53-a4aa-4e26-8621-3f1a9f7cb332\",\"type\":\"BoxZoomTool\"},{\"attributes\":{},\"id\":\"5bc00ec5-21f2-4642-a372-cf3942c48c62\",\"type\":\"SaveTool\"},{\"attributes\":{},\"id\":\"b87163f2-23fc-4ffc-90ab-b4af99a23c5a\",\"type\":\"ResetTool\"},{\"attributes\":{},\"id\":\"13cfae45-1d4d-402b-9b74-cec7e53341bb\",\"type\":\"HelpTool\"},{\"attributes\":{\"callback\":null,\"data\":{}},\"id\":\"9857be83-d501-417b-8ed1-fefab10257a4\",\"type\":\"ColumnDataSource\"},{\"attributes\":{},\"id\":\"12996154-d468-4391-9f7e-a61cadb17662\",\"type\":\"BasicTickFormatter\"},{\"attributes\":{\"angle\":{\"units\":\"rad\",\"value\":-1.5707963267948966},\"fill_alpha\":{\"value\":0.1},\"fill_color\":{\"value\":\"#1f77b4\"},\"height\":{\"units\":\"data\",\"value\":5.843590259552002},\"line_alpha\":{\"value\":0.1},\"line_color\":{\"value\":\"#1f77b4\"},\"width\":{\"units\":\"data\",\"value\":3.351557731628418},\"x\":{\"value\":-1.5201112031936646},\"y\":{\"value\":3.986485004425049}},\"id\":\"0c7055c8-f684-4e37-90a3-c1ed597035e5\",\"type\":\"Ellipse\"},{\"attributes\":{\"callback\":null,\"data\":{}},\"id\":\"09db94bf-3e00-4135-ac56-2d0ee22ad69a\",\"type\":\"ColumnDataSource\"},{\"attributes\":{\"callback\":null,\"data\":{}},\"id\":\"7c3de1e0-3415-4504-9768-4d74f6431c41\",\"type\":\"ColumnDataSource\"},{\"attributes\":{\"fill_alpha\":{\"value\":0.5},\"fill_color\":{\"value\":\"red\"},\"line_alpha\":{\"value\":0.5},\"line_color\":{\"value\":\"red\"},\"x\":{\"value\":-1.5201112031936646},\"y\":{\"value\":3.986485004425049}},\"id\":\"c27b9378-65b7-4406-9133-48706f15a906\",\"type\":\"Cross\"},{\"attributes\":{\"data_source\":{\"id\":\"beb4b3ff-2296-4e8c-bbbb-79751f5ccc9e\",\"type\":\"ColumnDataSource\"},\"glyph\":{\"id\":\"22d80b09-937f-4c0c-a36e-3b414d29e9ae\",\"type\":\"Ellipse\"},\"hover_glyph\":null,\"muted_glyph\":null,\"nonselection_glyph\":{\"id\":\"51d9b67d-d002-456e-a5be-0b245fd1711e\",\"type\":\"Ellipse\"},\"selection_glyph\":null,\"view\":{\"id\":\"89234925-928b-49f7-9352-e76c36f9677d\",\"type\":\"CDSView\"}},\"id\":\"f2239125-6025-4ee8-bb8a-83640c18a482\",\"type\":\"GlyphRenderer\"},{\"attributes\":{\"source\":{\"id\":\"0f133880-9774-491d-b93e-81bba0f6c447\",\"type\":\"ColumnDataSource\"}},\"id\":\"5f80ea0f-d30e-4b1c-9cd2-a0dfc19c20c3\",\"type\":\"CDSView\"},{\"attributes\":{\"data_source\":{\"id\":\"0f133880-9774-491d-b93e-81bba0f6c447\",\"type\":\"ColumnDataSource\"},\"glyph\":{\"id\":\"31a33570-f3fa-4955-8af5-156e1706e405\",\"type\":\"Ellipse\"},\"hover_glyph\":null,\"muted_glyph\":null,\"nonselection_glyph\":{\"id\":\"0c7055c8-f684-4e37-90a3-c1ed597035e5\",\"type\":\"Ellipse\"},\"selection_glyph\":null,\"view\":{\"id\":\"5f80ea0f-d30e-4b1c-9cd2-a0dfc19c20c3\",\"type\":\"CDSView\"}},\"id\":\"86aaed52-5b16-401a-91d2-ba6022754081\",\"type\":\"GlyphRenderer\"},{\"attributes\":{},\"id\":\"740fe70c-1db2-4218-9c89-e5e6a5a063cd\",\"type\":\"BasicTickFormatter\"},{\"attributes\":{\"fill_alpha\":{\"value\":0.1},\"fill_color\":{\"value\":\"#1f77b4\"},\"line_alpha\":{\"value\":0.1},\"line_color\":{\"value\":\"#1f77b4\"},\"x\":{\"value\":-1.5201112031936646},\"y\":{\"value\":3.986485004425049}},\"id\":\"1bd562ab-b704-4bbf-99e3-c3726155813e\",\"type\":\"Cross\"},{\"attributes\":{},\"id\":\"95fa92c2-f301-4d8e-b3ce-5185058d4114\",\"type\":\"LinearScale\"},{\"attributes\":{\"data_source\":{\"id\":\"09db94bf-3e00-4135-ac56-2d0ee22ad69a\",\"type\":\"ColumnDataSource\"},\"glyph\":{\"id\":\"c27b9378-65b7-4406-9133-48706f15a906\",\"type\":\"Cross\"},\"hover_glyph\":null,\"muted_glyph\":null,\"nonselection_glyph\":{\"id\":\"1bd562ab-b704-4bbf-99e3-c3726155813e\",\"type\":\"Cross\"},\"selection_glyph\":null,\"view\":{\"id\":\"c850092c-3bec-4721-9018-2dd47924bcea\",\"type\":\"CDSView\"}},\"id\":\"74dd840c-0cc3-4d9c-a072-05ee5a96d84f\",\"type\":\"GlyphRenderer\"},{\"attributes\":{\"callback\":null,\"end\":9.0,\"start\":-1.0},\"id\":\"e97b8826-c67e-4a12-a206-8202bacc7115\",\"type\":\"Range1d\"},{\"attributes\":{\"angle\":{\"units\":\"rad\",\"value\":-1.5707963267948966},\"fill_alpha\":{\"value\":0.5},\"fill_color\":{\"value\":\"red\"},\"height\":{\"units\":\"data\",\"value\":2.921795129776001},\"line_alpha\":{\"value\":0.5},\"line_color\":{\"value\":\"red\"},\"width\":{\"units\":\"data\",\"value\":1.675778865814209},\"x\":{\"value\":-1.5201112031936646},\"y\":{\"value\":3.986485004425049}},\"id\":\"cdd306bf-b155-4566-8d6d-c56ff1e7eff9\",\"type\":\"Ellipse\"},{\"attributes\":{\"callback\":null,\"column_names\":[\"x\",\"y\"],\"data\":{\"x\":{\"__ndarray__\":\"uvJwTH3I47/SYao0xkgFwADMjzyIM6s/Di6bb0d78r/OU21QlUj5v4C/bjAsRK2/umlNzfPG7r8Ef6CL7pjWP74rnM7uDgbAGhVkZgBD/L+0u+Sh99QTwNV47xRPfQzAo+EWh9LT478713tSVOIGwKR/JaRk9vK/FHeB18b+C8C+khExJ/j4vykHvP/fe/u/brgztvb3CsD+KxrTVzgEwMDAczWCUgHA33ayuLB1AMASTau5rGwGwAzj7aGd3e+/wMuqmRIx1T9e+O6Z3DQBwBv6SQBLo+a/F8EcHLJV+L9ESohhpo8EQIaQ+VSg5gbAdk30s/ZfAcDc+Kxt7u77vxYFswUa7uu/DTSA65JOBMCb1wF8JUERwHucFIallfu/WNFZrqPu2T8gBM1/GlvYP6Y2jjC4MAXAaq9GTxqL879XOPlXN/kBwLT0g8t0DADA+B2pjBIk1r8wS0nFcoMBwItR6thQqea/JIaJX/2K/L8085vlnkfoP/8VhvH2Nfy/4L99RGKg3r8FEsrKybXkv0pg9NyEu/i/HEPrMJ4B9r93IwRA3UoAwGgaQuSdgQbAa5MjN8Dz7r9She1OCbAMwED6ir+zf/W/OoVze2jfAUDEQcbuV6zYP8wpL80R6dG/kNjkfWSA3b8aaMtBtu4BwOiNdqypJNO/9AT+24SnEcDa9wr+TooKwKx+AL/4iuk/HDkegSxm+r/Qv9A+b9j6v9M/+zcZE/m/xDL5UL+59j9yHmktCLz6v8SLsKHkdQLAvtcXJB1UEcB84aRSMPzrv1Ke0DoqegjAOJNTWP/u4T8i6im4uhb0P6DqnEqoo+6/iJKlrYQ90r9ok4iYWzUNwK4AIoKvtwTAzLmXIjVO778Ruqa0GeTsv/sesFX7yvG/wwbGhJAg778cFBhN5zgMwL3PMWKjQ/a/0BhykIiNBsDg7Sd7GEmqvw6x+wFyv/2/GDrCtJ83BsCXja2E02Tlv1qmNybPZg7AcHCsld3h9r9Jfyuv3WEPwIEEkBQOGgjAELPAGb1H17827aZgAjYEwO4SvTpRaPE/ilyT8Oed8b8=\",\"dtype\":\"float64\",\"shape\":[100]},\"y\":{\"__ndarray__\":\"sHc7t74fDkBd1v9ugzwNQCtN7uYTfBFAF52fRmqzDkD6uNkA5LUNQLniVIWPlhJA2EhQ8H/vE0C/ZteU9VoRQLdNi71t1hBAnX7S7zesDkB+fPk6sCIDQHZ4SkmhvwZARnWRfjM8EEAwGcA1OPwQQFtyVikrng5AwmqNx0VPB0AoK/UphtMQQERHEq+UdxJA6owZ3KHACkAXkVC+03ESQGlPMUHDaBBAtoWw4oAiC0AaMORWpcEHQB66GEYhuxJAqsJvx6WTDUD1gEeaLjQSQEqTFu399BJA341XvU4vEUCCErU2/vYTQMUaNM1TeglA8hD4NFT/DEBITED8+n8QQGJ/yDJR6BFAegQNZeSxEUCi1r0Tu4QFQIVrjLm5BgtAWGeI8uC5EkBE8f5mM30UQOQpRSEuJwxAyhiI1UCcEUDgCVC/L5kMQGwgt+pgDAxAWCdkox82FUAYoEUsBu8MQJpdqFBz4RBAOOVbH7V2B0AKPHdXwhUTQCLtgIKh9wpAVmXD01zWFUAyRU8cLbsPQCYTQQR2TQ5A5GG3+bOGDEBuGxkIb3EQQD6FQBfdYAZAD9u+wIOvDUA3mrQfRm4AQMSpJe9K0RNAeW+1m0o0GkA7gFtbggoWQATEvNLjChNAqcon1wqnD0AbvNyJoowPQKBZOpowRhRApOrox9O1AEATjD421IUKQN5gkwiSFBNAmXwTyyc8DkCfn5XAf3oPQEBaWfIgEBJAQUs6MZteE0DZFmzpVaoRQNwM5b+0xAlAtH5iBRAxBkCkx0LDwhkQQABtSLyfnQpA9Cg+dDKoF0AQa4JwyH0TQDv4IACz0hFAnAeUs1aUEkCsOUjdkeIMQNQ8jGHUzAJAHTlJ2nTWD0AemXeDljULQFNKliutWxBAJZaweJ6LD0B2u3E3aK4BQFmAwDnUiRBAzGix89rICEBB4W7Y3KEUQFvnUUzlpRBAHkEYB78lCUDK051Yse8SQJTyzkxAWwZAbHZt+DDvDkDapLtO6XMHQAKtR90+MQ5ACbd8DptOEkCRel9THjYMQDUN8SVE4xVAmkEXNlu1DkA=\",\"dtype\":\"float64\",\"shape\":[100]}}},\"id\":\"64823d1e-c195-4ba1-b364-7e871ba9ca89\",\"type\":\"ColumnDataSource\"},{\"attributes\":{\"source\":{\"id\":\"09db94bf-3e00-4135-ac56-2d0ee22ad69a\",\"type\":\"ColumnDataSource\"}},\"id\":\"c850092c-3bec-4721-9018-2dd47924bcea\",\"type\":\"CDSView\"},{\"attributes\":{\"below\":[{\"id\":\"8eaf6443-4f77-4c41-a78f-46d254996369\",\"type\":\"LinearAxis\"}],\"left\":[{\"id\":\"2345fc12-a91a-4f74-9c23-29435117af0b\",\"type\":\"LinearAxis\"}],\"plot_height\":400,\"plot_width\":400,\"renderers\":[{\"id\":\"8eaf6443-4f77-4c41-a78f-46d254996369\",\"type\":\"LinearAxis\"},{\"id\":\"8e58d4b4-2da4-46ec-aaad-bcd943ac0418\",\"type\":\"Grid\"},{\"id\":\"2345fc12-a91a-4f74-9c23-29435117af0b\",\"type\":\"LinearAxis\"},{\"id\":\"c98426ca-3aa7-4622-b687-18a975ded461\",\"type\":\"Grid\"},{\"id\":\"8bc43d7a-cbf8-45be-adbc-abe85a9c7ace\",\"type\":\"BoxAnnotation\"},{\"id\":\"0afb9cb3-776b-4f53-85f9-47c148b3f576\",\"type\":\"GlyphRenderer\"},{\"id\":\"86aaed52-5b16-401a-91d2-ba6022754081\",\"type\":\"GlyphRenderer\"},{\"id\":\"74dd840c-0cc3-4d9c-a072-05ee5a96d84f\",\"type\":\"GlyphRenderer\"},{\"id\":\"b5bf5131-b49b-49a1-afdc-bb070f578e93\",\"type\":\"GlyphRenderer\"},{\"id\":\"994585ad-35e0-4688-82d8-75920f4c77b5\",\"type\":\"GlyphRenderer\"},{\"id\":\"17244f9a-96bf-44f8-9aab-200106b9f744\",\"type\":\"GlyphRenderer\"},{\"id\":\"f2239125-6025-4ee8-bb8a-83640c18a482\",\"type\":\"GlyphRenderer\"}],\"title\":{\"id\":\"bb7f795c-a3da-4b12-96cc-73913779a359\",\"type\":\"Title\"},\"toolbar\":{\"id\":\"c6994968-f66d-4bfc-96e6-d29bd88dec16\",\"type\":\"Toolbar\"},\"x_range\":{\"id\":\"01c45531-d1e1-4d9d-b961-bb68815167ed\",\"type\":\"Range1d\"},\"x_scale\":{\"id\":\"95fa92c2-f301-4d8e-b3ce-5185058d4114\",\"type\":\"LinearScale\"},\"y_range\":{\"id\":\"e97b8826-c67e-4a12-a206-8202bacc7115\",\"type\":\"Range1d\"},\"y_scale\":{\"id\":\"3ec88251-2d44-4ff9-81b2-9bc9581a8ae7\",\"type\":\"LinearScale\"}},\"id\":\"ee753d5e-eb33-4677-842c-ccc406ece281\",\"subtype\":\"Figure\",\"type\":\"Plot\"},{\"attributes\":{\"angle\":{\"units\":\"rad\",\"value\":-1.5707963267948966},\"fill_alpha\":{\"value\":0.1},\"fill_color\":{\"value\":\"#1f77b4\"},\"height\":{\"units\":\"data\",\"value\":2.921795129776001},\"line_alpha\":{\"value\":0.1},\"line_color\":{\"value\":\"#1f77b4\"},\"width\":{\"units\":\"data\",\"value\":1.675778865814209},\"x\":{\"value\":-1.5201112031936646},\"y\":{\"value\":3.986485004425049}},\"id\":\"9cdecde0-9b7d-45c9-9d7c-1525dcc54094\",\"type\":\"Ellipse\"},{\"attributes\":{\"source\":{\"id\":\"64823d1e-c195-4ba1-b364-7e871ba9ca89\",\"type\":\"ColumnDataSource\"}},\"id\":\"52848233-7334-48b2-924f-a450bc553e65\",\"type\":\"CDSView\"},{\"attributes\":{\"plot\":null,\"text\":\"Initial model\"},\"id\":\"bb7f795c-a3da-4b12-96cc-73913779a359\",\"type\":\"Title\"},{\"attributes\":{\"angle\":{\"units\":\"rad\",\"value\":-1.0999587774276733},\"fill_alpha\":{\"value\":0.25},\"fill_color\":{\"value\":\"green\"},\"height\":{\"units\":\"data\",\"value\":6.45346212387085},\"line_alpha\":{\"value\":0.25},\"line_color\":{\"value\":\"green\"},\"width\":{\"units\":\"data\",\"value\":1.8632047176361084},\"x\":{\"value\":-1.5201219320297241},\"y\":{\"value\":3.9864754676818848}},\"id\":\"06dcc4ed-53c2-4337-b9f8-e2543032cddd\",\"type\":\"Ellipse\"},{\"attributes\":{\"callback\":null,\"end\":3.5,\"start\":-6.5},\"id\":\"01c45531-d1e1-4d9d-b961-bb68815167ed\",\"type\":\"Range1d\"},{\"attributes\":{\"data_source\":{\"id\":\"7c3de1e0-3415-4504-9768-4d74f6431c41\",\"type\":\"ColumnDataSource\"},\"glyph\":{\"id\":\"cdd306bf-b155-4566-8d6d-c56ff1e7eff9\",\"type\":\"Ellipse\"},\"hover_glyph\":null,\"muted_glyph\":null,\"nonselection_glyph\":{\"id\":\"9cdecde0-9b7d-45c9-9d7c-1525dcc54094\",\"type\":\"Ellipse\"},\"selection_glyph\":null,\"view\":{\"id\":\"25f1be05-866e-43b1-a595-cf7c369adb20\",\"type\":\"CDSView\"}},\"id\":\"b5bf5131-b49b-49a1-afdc-bb070f578e93\",\"type\":\"GlyphRenderer\"},{\"attributes\":{\"active_drag\":\"auto\",\"active_inspect\":\"auto\",\"active_scroll\":\"auto\",\"active_tap\":\"auto\",\"tools\":[{\"id\":\"026d6db1-6462-4b46-a251-68c57e090667\",\"type\":\"PanTool\"},{\"id\":\"3c862462-72e2-4ed5-a1f7-9f97c6cd9665\",\"type\":\"WheelZoomTool\"},{\"id\":\"c18a2e53-a4aa-4e26-8621-3f1a9f7cb332\",\"type\":\"BoxZoomTool\"},{\"id\":\"5bc00ec5-21f2-4642-a372-cf3942c48c62\",\"type\":\"SaveTool\"},{\"id\":\"b87163f2-23fc-4ffc-90ab-b4af99a23c5a\",\"type\":\"ResetTool\"},{\"id\":\"13cfae45-1d4d-402b-9b74-cec7e53341bb\",\"type\":\"HelpTool\"}]},\"id\":\"c6994968-f66d-4bfc-96e6-d29bd88dec16\",\"type\":\"Toolbar\"},{\"attributes\":{\"source\":{\"id\":\"7c3de1e0-3415-4504-9768-4d74f6431c41\",\"type\":\"ColumnDataSource\"}},\"id\":\"25f1be05-866e-43b1-a595-cf7c369adb20\",\"type\":\"CDSView\"},{\"attributes\":{\"fill_alpha\":{\"value\":0.1},\"fill_color\":{\"value\":\"#1f77b4\"},\"line_alpha\":{\"value\":0.1},\"line_color\":{\"value\":\"#1f77b4\"},\"x\":{\"field\":\"x\"},\"y\":{\"field\":\"y\"}},\"id\":\"21e32d31-884e-4687-88a8-ca7a66cb61bb\",\"type\":\"Circle\"},{\"attributes\":{\"callback\":null,\"data\":{}},\"id\":\"6c8263c8-c84d-40f4-8e9c-ca36d667c36e\",\"type\":\"ColumnDataSource\"},{\"attributes\":{},\"id\":\"3ec88251-2d44-4ff9-81b2-9bc9581a8ae7\",\"type\":\"LinearScale\"},{\"attributes\":{\"angle\":{\"units\":\"rad\",\"value\":-1.0999587774276733},\"fill_alpha\":{\"value\":0.1},\"fill_color\":{\"value\":\"#1f77b4\"},\"height\":{\"units\":\"data\",\"value\":6.45346212387085},\"line_alpha\":{\"value\":0.1},\"line_color\":{\"value\":\"#1f77b4\"},\"width\":{\"units\":\"data\",\"value\":1.8632047176361084},\"x\":{\"value\":-1.5201219320297241},\"y\":{\"value\":3.9864754676818848}},\"id\":\"58c47fe0-ba2a-4dec-9ed0-3f36420f45f5\",\"type\":\"Ellipse\"},{\"attributes\":{\"plot\":{\"id\":\"ee753d5e-eb33-4677-842c-ccc406ece281\",\"subtype\":\"Figure\",\"type\":\"Plot\"},\"ticker\":{\"id\":\"02aba88c-8cc1-48d4-8757-83b868520332\",\"type\":\"BasicTicker\"}},\"id\":\"8e58d4b4-2da4-46ec-aaad-bcd943ac0418\",\"type\":\"Grid\"},{\"attributes\":{\"data_source\":{\"id\":\"9857be83-d501-417b-8ed1-fefab10257a4\",\"type\":\"ColumnDataSource\"},\"glyph\":{\"id\":\"06dcc4ed-53c2-4337-b9f8-e2543032cddd\",\"type\":\"Ellipse\"},\"hover_glyph\":null,\"muted_glyph\":null,\"nonselection_glyph\":{\"id\":\"58c47fe0-ba2a-4dec-9ed0-3f36420f45f5\",\"type\":\"Ellipse\"},\"selection_glyph\":null,\"view\":{\"id\":\"b6f9876a-91f0-47c5-9942-f9379ac660e9\",\"type\":\"CDSView\"}},\"id\":\"994585ad-35e0-4688-82d8-75920f4c77b5\",\"type\":\"GlyphRenderer\"},{\"attributes\":{\"formatter\":{\"id\":\"12996154-d468-4391-9f7e-a61cadb17662\",\"type\":\"BasicTickFormatter\"},\"plot\":{\"id\":\"ee753d5e-eb33-4677-842c-ccc406ece281\",\"subtype\":\"Figure\",\"type\":\"Plot\"},\"ticker\":{\"id\":\"02aba88c-8cc1-48d4-8757-83b868520332\",\"type\":\"BasicTicker\"}},\"id\":\"8eaf6443-4f77-4c41-a78f-46d254996369\",\"type\":\"LinearAxis\"},{\"attributes\":{\"fill_alpha\":{\"value\":0.5},\"fill_color\":{\"value\":\"green\"},\"line_alpha\":{\"value\":0.5},\"line_color\":{\"value\":\"green\"},\"x\":{\"value\":-1.5201219320297241},\"y\":{\"value\":3.9864754676818848}},\"id\":\"81f05c1c-33cd-4901-bae4-33056df93b56\",\"type\":\"Cross\"},{\"attributes\":{},\"id\":\"02aba88c-8cc1-48d4-8757-83b868520332\",\"type\":\"BasicTicker\"},{\"attributes\":{\"source\":{\"id\":\"9857be83-d501-417b-8ed1-fefab10257a4\",\"type\":\"ColumnDataSource\"}},\"id\":\"b6f9876a-91f0-47c5-9942-f9379ac660e9\",\"type\":\"CDSView\"},{\"attributes\":{\"formatter\":{\"id\":\"740fe70c-1db2-4218-9c89-e5e6a5a063cd\",\"type\":\"BasicTickFormatter\"},\"plot\":{\"id\":\"ee753d5e-eb33-4677-842c-ccc406ece281\",\"subtype\":\"Figure\",\"type\":\"Plot\"},\"ticker\":{\"id\":\"1fd298dd-78ad-42f1-bc2e-e0c105884dd1\",\"type\":\"BasicTicker\"}},\"id\":\"2345fc12-a91a-4f74-9c23-29435117af0b\",\"type\":\"LinearAxis\"},{\"attributes\":{\"fill_alpha\":{\"value\":0.1},\"fill_color\":{\"value\":\"#1f77b4\"},\"line_alpha\":{\"value\":0.1},\"line_color\":{\"value\":\"#1f77b4\"},\"x\":{\"value\":-1.5201219320297241},\"y\":{\"value\":3.9864754676818848}},\"id\":\"4ce1a685-aca0-4e06-877a-736b310356d8\",\"type\":\"Cross\"},{\"attributes\":{},\"id\":\"1fd298dd-78ad-42f1-bc2e-e0c105884dd1\",\"type\":\"BasicTicker\"},{\"attributes\":{\"callback\":null,\"data\":{}},\"id\":\"beb4b3ff-2296-4e8c-bbbb-79751f5ccc9e\",\"type\":\"ColumnDataSource\"},{\"attributes\":{\"dimension\":1,\"plot\":{\"id\":\"ee753d5e-eb33-4677-842c-ccc406ece281\",\"subtype\":\"Figure\",\"type\":\"Plot\"},\"ticker\":{\"id\":\"1fd298dd-78ad-42f1-bc2e-e0c105884dd1\",\"type\":\"BasicTicker\"}},\"id\":\"c98426ca-3aa7-4622-b687-18a975ded461\",\"type\":\"Grid\"},{\"attributes\":{\"angle\":{\"units\":\"rad\",\"value\":-1.0999587774276733},\"fill_alpha\":{\"value\":0.1},\"fill_color\":{\"value\":\"#1f77b4\"},\"height\":{\"units\":\"data\",\"value\":3.226731061935425},\"line_alpha\":{\"value\":0.1},\"line_color\":{\"value\":\"#1f77b4\"},\"width\":{\"units\":\"data\",\"value\":0.9316023588180542},\"x\":{\"value\":-1.5201219320297241},\"y\":{\"value\":3.9864754676818848}},\"id\":\"51d9b67d-d002-456e-a5be-0b245fd1711e\",\"type\":\"Ellipse\"},{\"attributes\":{\"data_source\":{\"id\":\"64823d1e-c195-4ba1-b364-7e871ba9ca89\",\"type\":\"ColumnDataSource\"},\"glyph\":{\"id\":\"a5d44b1d-0a65-4d1c-b815-e9e303a0c52b\",\"type\":\"Circle\"},\"hover_glyph\":null,\"muted_glyph\":null,\"nonselection_glyph\":{\"id\":\"21e32d31-884e-4687-88a8-ca7a66cb61bb\",\"type\":\"Circle\"},\"selection_glyph\":null,\"view\":{\"id\":\"52848233-7334-48b2-924f-a450bc553e65\",\"type\":\"CDSView\"}},\"id\":\"0afb9cb3-776b-4f53-85f9-47c148b3f576\",\"type\":\"GlyphRenderer\"},{\"attributes\":{\"data_source\":{\"id\":\"6c8263c8-c84d-40f4-8e9c-ca36d667c36e\",\"type\":\"ColumnDataSource\"},\"glyph\":{\"id\":\"81f05c1c-33cd-4901-bae4-33056df93b56\",\"type\":\"Cross\"},\"hover_glyph\":null,\"muted_glyph\":null,\"nonselection_glyph\":{\"id\":\"4ce1a685-aca0-4e06-877a-736b310356d8\",\"type\":\"Cross\"},\"selection_glyph\":null,\"view\":{\"id\":\"d53dc42c-7fb3-4f20-87e1-c6c87c09eaba\",\"type\":\"CDSView\"}},\"id\":\"17244f9a-96bf-44f8-9aab-200106b9f744\",\"type\":\"GlyphRenderer\"},{\"attributes\":{\"fill_color\":{\"value\":\"#1f77b4\"},\"line_color\":{\"value\":\"#1f77b4\"},\"x\":{\"field\":\"x\"},\"y\":{\"field\":\"y\"}},\"id\":\"a5d44b1d-0a65-4d1c-b815-e9e303a0c52b\",\"type\":\"Circle\"},{\"attributes\":{\"source\":{\"id\":\"6c8263c8-c84d-40f4-8e9c-ca36d667c36e\",\"type\":\"ColumnDataSource\"}},\"id\":\"d53dc42c-7fb3-4f20-87e1-c6c87c09eaba\",\"type\":\"CDSView\"},{\"attributes\":{\"callback\":null,\"data\":{}},\"id\":\"0f133880-9774-491d-b93e-81bba0f6c447\",\"type\":\"ColumnDataSource\"},{\"attributes\":{\"angle\":{\"units\":\"rad\",\"value\":-1.0999587774276733},\"fill_alpha\":{\"value\":0.5},\"fill_color\":{\"value\":\"green\"},\"height\":{\"units\":\"data\",\"value\":3.226731061935425},\"line_alpha\":{\"value\":0.5},\"line_color\":{\"value\":\"green\"},\"width\":{\"units\":\"data\",\"value\":0.9316023588180542},\"x\":{\"value\":-1.5201219320297241},\"y\":{\"value\":3.9864754676818848}},\"id\":\"22d80b09-937f-4c0c-a36e-3b414d29e9ae\",\"type\":\"Ellipse\"},{\"attributes\":{\"bottom_units\":\"screen\",\"fill_alpha\":{\"value\":0.5},\"fill_color\":{\"value\":\"lightgrey\"},\"left_units\":\"screen\",\"level\":\"overlay\",\"line_alpha\":{\"value\":1.0},\"line_color\":{\"value\":\"black\"},\"line_dash\":[4,4],\"line_width\":{\"value\":2},\"plot\":null,\"render_mode\":\"css\",\"right_units\":\"screen\",\"top_units\":\"screen\"},\"id\":\"8bc43d7a-cbf8-45be-adbc-abe85a9c7ace\",\"type\":\"BoxAnnotation\"}],\"root_ids\":[\"ee753d5e-eb33-4677-842c-ccc406ece281\"]},\"title\":\"Bokeh Application\",\"version\":\"0.12.14\"}};\n",
       "  var render_items = [{\"docid\":\"d347a035-06d5-4e62-97d4-31688c5ced50\",\"elementid\":\"b1c49c65-3844-4038-8cd5-c8baae8851ef\",\"modelid\":\"ee753d5e-eb33-4677-842c-ccc406ece281\"}];\n",
       "  root.Bokeh.embed.embed_items_notebook(docs_json, render_items);\n",
       "\n",
       "  }\n",
       "  if (root.Bokeh !== undefined) {\n",
       "    embed_document(root);\n",
       "  } else {\n",
       "    var attempts = 0;\n",
       "    var timer = setInterval(function(root) {\n",
       "      if (root.Bokeh !== undefined) {\n",
       "        embed_document(root);\n",
       "        clearInterval(timer);\n",
       "      }\n",
       "      attempts++;\n",
       "      if (attempts > 100) {\n",
       "        console.log(\"Bokeh: ERROR: Unable to run BokehJS code because BokehJS library is missing\")\n",
       "        clearInterval(timer);\n",
       "      }\n",
       "    }, 10, root)\n",
       "  }\n",
       "})(window);"
      ],
      "application/vnd.bokehjs_exec.v0+json": ""
     },
     "metadata": {
      "application/vnd.bokehjs_exec.v0+json": {
       "id": "ee753d5e-eb33-4677-842c-ccc406ece281"
      }
     },
     "output_type": "display_data"
    }
   ],
   "source": [
    "# Training.\n",
    "beer.train_loglinear_model(normal_diag, torch.from_numpy(data).float())\n",
    "beer.train_loglinear_model(normal_full, torch.from_numpy(data).float())\n",
    "\n",
    "fig = figure(\n",
    "    title='Initial model',\n",
    "    width=400,\n",
    "    height=400,\n",
    "    x_range=(mean[0] - 5, mean[0] + 5),\n",
    "    y_range=(mean[1] - 5, mean[1] + 5)\n",
    ")\n",
    "fig.circle(data[:, 0], data[:, 1])\n",
    "plotting.plot_normal(fig, normal_diag.mean.numpy(), normal_diag.cov.numpy(), alpha=.5, color='red')\n",
    "plotting.plot_normal(fig, normal_full.mean.numpy(), normal_full.cov.numpy(), alpha=.5, color='green')\n",
    "\n",
    "show(fig)"
   ]
  },
  {
   "cell_type": "code",
   "execution_count": 12,
   "metadata": {},
   "outputs": [
    {
     "data": {
      "text/plain": [
       "\n",
       " 2.1120  0.9646\n",
       " 0.9646  0.7080\n",
       "[torch.FloatTensor of size (2,2)]"
      ]
     },
     "execution_count": 12,
     "metadata": {},
     "output_type": "execute_result"
    }
   ],
   "source": [
    "normal_full.cov"
   ]
  },
  {
   "cell_type": "code",
   "execution_count": 13,
   "metadata": {},
   "outputs": [
    {
     "data": {
      "text/plain": [
       "\n",
       " 2.1120  0.9646\n",
       " 0.9646  0.7080\n",
       "[torch.FloatTensor of size (2,2)]"
      ]
     },
     "execution_count": 13,
     "metadata": {},
     "output_type": "execute_result"
    }
   ],
   "source": [
    "normal_full.cov"
   ]
  },
  {
   "cell_type": "markdown",
   "metadata": {},
   "source": [
    "# Model comparison\n",
    "\n",
    "We generate data for various correlation parameters:\n",
    "\n",
    "$$\n",
    "X_{\\lambda} \\sim \\mathcal{N}(\n",
    "    \\begin{pmatrix} \n",
    "    0 \\\\\n",
    "    0\n",
    "    \\end{pmatrix}, \n",
    "    \\begin{pmatrix} \n",
    "    1 & \\lambda \\\\\n",
    "    \\lambda & 1\n",
    "    \\end{pmatrix})\n",
    "$$\n",
    "\n",
    "and we compare the model evidence for both the Normal distribution with diagonal covariance matrix and with full covariance matrix.\n",
    "\n",
    "$$\n",
    "\\ln B_{\\lambda} = \\ln \\frac{p(X_\\lambda | \\mathcal{M}_{\\text{full}})}{p(X_\\lambda | \\mathcal{M}_{\\text{diag}})} =\n",
    "     \\ln \\frac{\\int_{\\theta} p(X_\\lambda | \\theta, \\mathcal{M}_{\\text{full}}) p(\\theta) d\\theta}{\\int_{\\theta}p(X_\\lambda | \\theta, \\mathcal{M}_{\\text{diag}})p(\\theta) d\\theta} = \\frac{A_{\\text{full}}(\\xi + \\sum_{n=1}^N T(x_n)) - A_{\\text{full}}(\\xi)}{A_{\\text{diag}}(\\xi + \\sum_{n=1}^N T(x_n))\n",
    "     - A_{\\text{diag}}(\\xi)}\n",
    "$$"
   ]
  },
  {
   "cell_type": "code",
   "execution_count": 15,
   "metadata": {
    "scrolled": false
   },
   "outputs": [
    {
     "data": {
      "text/html": [
       "\n",
       "<div class=\"bk-root\">\n",
       "    <div class=\"bk-plotdiv\" id=\"b1ca97e2-8523-436c-ae9c-b4049ac09b34\"></div>\n",
       "</div>"
      ]
     },
     "metadata": {},
     "output_type": "display_data"
    },
    {
     "data": {
      "application/javascript": [
       "(function(root) {\n",
       "  function embed_document(root) {\n",
       "    \n",
       "  var docs_json = {\"1685d889-b741-4ac3-a3ec-4cad5586df17\":{\"roots\":{\"references\":[{\"attributes\":{\"plot\":{\"id\":\"95eefff3-d474-45f3-8811-bd6b925b5884\",\"subtype\":\"Figure\",\"type\":\"Plot\"},\"ticker\":{\"id\":\"3a7c6bff-3d86-43c5-8ae5-2b559c5b2557\",\"type\":\"BasicTicker\"}},\"id\":\"5ef40263-5168-45ec-ad18-abab280cd3b3\",\"type\":\"Grid\"},{\"attributes\":{\"axis_label\":\"\\u03bb\",\"formatter\":{\"id\":\"1ee099d9-f572-4b17-8cb6-70261420f2b2\",\"type\":\"BasicTickFormatter\"},\"plot\":{\"id\":\"95eefff3-d474-45f3-8811-bd6b925b5884\",\"subtype\":\"Figure\",\"type\":\"Plot\"},\"ticker\":{\"id\":\"3a7c6bff-3d86-43c5-8ae5-2b559c5b2557\",\"type\":\"BasicTicker\"}},\"id\":\"65087023-8e6a-4cdc-859a-b6944491db1d\",\"type\":\"LinearAxis\"},{\"attributes\":{\"callback\":null,\"column_names\":[\"x\",\"y\"],\"data\":{\"x\":{\"__ndarray__\":\"rkfhehSu778K16NwPQrvv2ZmZmZmZu6/wvUoXI/C7b8fhetRuB7tv3sUrkfheuy/16NwPQrX678zMzMzMzPrv4/C9Shcj+q/7FG4HoXr6b9I4XoUrkfpv6RwPQrXo+i/AAAAAAAA6L9cj8L1KFznv7gehetRuOa/FK5H4XoU5r9wPQrXo3Dlv8zMzMzMzOS/KVyPwvUo5L+F61G4HoXjv+F6FK5H4eK/PgrXo3A94r+amZmZmZnhv/YoXI/C9eC/UrgehetR4L9cj8L1KFzfvxSuR+F6FN6/zMzMzMzM3L+E61G4HoXbvz4K16NwPdq/9ihcj8L12L+uR+F6FK7Xv2ZmZmZmZta/HoXrUbge1b/Wo3A9CtfTv47C9Shcj9K/SOF6FK5H0b8AAAAAAADQv3A9CtejcM2/4HoUrkfhyr9QuB6F61HIv8D1KFyPwsW/NDMzMzMzw7+kcD0K16PAvyhcj8L1KLy/CNejcD0Kt7/oUbgeheuxv5CZmZmZmam/wB6F61G4nr+AFK5H4XqEv4AUrkfheoQ/wB6F61G4nj+gmZmZmZmpP/BRuB6F67E/ENejcD0Ktz8wXI/C9Si8P6hwPQrXo8A/ODMzMzMzwz/A9Shcj8LFP1C4HoXrUcg/4HoUrkfhyj9wPQrXo3DNPwAAAAAAANA/SOF6FK5H0T+QwvUoXI/SP9ijcD0K19M/IIXrUbge1T9oZmZmZmbWP7BH4XoUrtc/+Chcj8L12D9ACtejcD3aP4TrUbgehds/zMzMzMzM3D8UrkfhehTeP1yPwvUoXN8/UrgehetR4D/2KFyPwvXgP5qZmZmZmeE/PgrXo3A94j/iehSuR+HiP4brUbgeheM/KlyPwvUo5D/OzMzMzMzkP3I9CtejcOU/FK5H4XoU5j+4HoXrUbjmP1yPwvUoXOc/AAAAAAAA6D+kcD0K16PoP0jhehSuR+k/7FG4HoXr6T+QwvUoXI/qPzQzMzMzM+s/2KNwPQrX6z98FK5H4XrsPyCF61G4Hu0/wvUoXI/C7T9mZmZmZmbuPwrXo3A9Cu8/rkfhehSu7z8=\",\"dtype\":\"float64\",\"shape\":[100]},\"y\":{\"__ndarray__\":\"WKHoRAgmsESstJBEmfB7RMmzX0SJGz9EjSggRMVNJ0TJuRFE3XATRPIO7kMShN5DUijMQ0qBukMagLhDAhigQwJlnUNyXpJDhKxaQ/rxgkMEvFFDlOEvQzStOUMUWSFDhJsuQyQmB0O0RyVDCIDyQoi710IIGuJCSHTBQojyoEKIlbFC0FRyQtBEakKod4FCEA8nQpCRIUKg8/JBgA4EQiBtxEEgQKRBIGPEQQCCp0EAGBNBQEUxQQD6RkFAxD5BANMoQQBvBkEAlAJBQIEKQUC9K0FAoEhBADBIQUBoOEEAs01BAGWxQaB2sEGA8shB0NAJQoA/JUKQKDlCAOphQtD5ZkIAXVFCaLqeQijCs0Ioq6NCCIyqQihV1ELove9CJNUGQ2ShE0P0dBpDVEwRQ+QhPkP0DVRDlKtiQxQWc0O0OWNDYvuLQxotjkNkb35DQj6pQxK6yUMivsJD2r/OQ3p+0EO9pwFE2doBRN1fFUShqB9Eicw1RF2FTETZdFtEaTZ/REaAj0TcfapE3LXmRA==\",\"dtype\":\"float32\",\"shape\":[100]}}},\"id\":\"82d0354d-fa34-42b9-9c62-1da88b77508c\",\"type\":\"ColumnDataSource\"},{\"attributes\":{},\"id\":\"3a7c6bff-3d86-43c5-8ae5-2b559c5b2557\",\"type\":\"BasicTicker\"},{\"attributes\":{\"axis_label\":\"log Bayes factor\",\"formatter\":{\"id\":\"c0b4c842-8ab4-4dae-acbf-c535a5b454c2\",\"type\":\"BasicTickFormatter\"},\"plot\":{\"id\":\"95eefff3-d474-45f3-8811-bd6b925b5884\",\"subtype\":\"Figure\",\"type\":\"Plot\"},\"ticker\":{\"id\":\"7e7f51f9-c98b-410d-ad9a-41b6b40aaba8\",\"type\":\"BasicTicker\"}},\"id\":\"93095bd6-79f3-4813-b067-89dfa52fbad2\",\"type\":\"LinearAxis\"},{\"attributes\":{},\"id\":\"7e7f51f9-c98b-410d-ad9a-41b6b40aaba8\",\"type\":\"BasicTicker\"},{\"attributes\":{\"dimension\":1,\"plot\":{\"id\":\"95eefff3-d474-45f3-8811-bd6b925b5884\",\"subtype\":\"Figure\",\"type\":\"Plot\"},\"ticker\":{\"id\":\"7e7f51f9-c98b-410d-ad9a-41b6b40aaba8\",\"type\":\"BasicTicker\"}},\"id\":\"4dc29380-3f43-4f99-a7c5-31ebc2ca8e6a\",\"type\":\"Grid\"},{\"attributes\":{\"data_source\":{\"id\":\"82d0354d-fa34-42b9-9c62-1da88b77508c\",\"type\":\"ColumnDataSource\"},\"glyph\":{\"id\":\"7077178a-ae27-4ac7-90f5-d101f3d210a0\",\"type\":\"Line\"},\"hover_glyph\":null,\"muted_glyph\":null,\"nonselection_glyph\":{\"id\":\"07bcaa9b-e48d-4edc-9b62-488ba0816b8f\",\"type\":\"Line\"},\"selection_glyph\":null,\"view\":{\"id\":\"30f960e2-1b7c-4d1c-a504-eb3008fc1fa8\",\"type\":\"CDSView\"}},\"id\":\"45c97f5b-7bda-4413-a674-c3d756b124cc\",\"type\":\"GlyphRenderer\"},{\"attributes\":{},\"id\":\"c0b4c842-8ab4-4dae-acbf-c535a5b454c2\",\"type\":\"BasicTickFormatter\"},{\"attributes\":{\"bottom_units\":\"screen\",\"fill_alpha\":{\"value\":0.5},\"fill_color\":{\"value\":\"lightgrey\"},\"left_units\":\"screen\",\"level\":\"overlay\",\"line_alpha\":{\"value\":1.0},\"line_color\":{\"value\":\"black\"},\"line_dash\":[4,4],\"line_width\":{\"value\":2},\"plot\":null,\"render_mode\":\"css\",\"right_units\":\"screen\",\"top_units\":\"screen\"},\"id\":\"cfaea14c-14e7-4dac-973a-03d1bc4f8887\",\"type\":\"BoxAnnotation\"},{\"attributes\":{\"source\":{\"id\":\"82d0354d-fa34-42b9-9c62-1da88b77508c\",\"type\":\"ColumnDataSource\"}},\"id\":\"30f960e2-1b7c-4d1c-a504-eb3008fc1fa8\",\"type\":\"CDSView\"},{\"attributes\":{},\"id\":\"00c86096-456b-415a-a60d-f46cf7339ec8\",\"type\":\"PanTool\"},{\"attributes\":{\"callback\":null},\"id\":\"079015d3-175b-473a-a30f-0cdeaaa80dd3\",\"type\":\"DataRange1d\"},{\"attributes\":{\"below\":[{\"id\":\"65087023-8e6a-4cdc-859a-b6944491db1d\",\"type\":\"LinearAxis\"}],\"left\":[{\"id\":\"93095bd6-79f3-4813-b067-89dfa52fbad2\",\"type\":\"LinearAxis\"}],\"plot_height\":400,\"plot_width\":400,\"renderers\":[{\"id\":\"65087023-8e6a-4cdc-859a-b6944491db1d\",\"type\":\"LinearAxis\"},{\"id\":\"5ef40263-5168-45ec-ad18-abab280cd3b3\",\"type\":\"Grid\"},{\"id\":\"93095bd6-79f3-4813-b067-89dfa52fbad2\",\"type\":\"LinearAxis\"},{\"id\":\"4dc29380-3f43-4f99-a7c5-31ebc2ca8e6a\",\"type\":\"Grid\"},{\"id\":\"cfaea14c-14e7-4dac-973a-03d1bc4f8887\",\"type\":\"BoxAnnotation\"},{\"id\":\"45c97f5b-7bda-4413-a674-c3d756b124cc\",\"type\":\"GlyphRenderer\"}],\"title\":{\"id\":\"203e5783-40df-461a-b433-440f62be1577\",\"type\":\"Title\"},\"toolbar\":{\"id\":\"3301eabe-8a97-4c74-84fb-b7c6f642cb11\",\"type\":\"Toolbar\"},\"x_range\":{\"id\":\"079015d3-175b-473a-a30f-0cdeaaa80dd3\",\"type\":\"DataRange1d\"},\"x_scale\":{\"id\":\"8ec9009d-5548-4add-9c6d-492c2856edef\",\"type\":\"LinearScale\"},\"y_range\":{\"id\":\"26bd8095-2045-4666-a626-2b2f59eb6676\",\"type\":\"DataRange1d\"},\"y_scale\":{\"id\":\"8d380178-dbd6-4f30-b899-d00b68adcb77\",\"type\":\"LinearScale\"}},\"id\":\"95eefff3-d474-45f3-8811-bd6b925b5884\",\"subtype\":\"Figure\",\"type\":\"Plot\"},{\"attributes\":{},\"id\":\"16efb89e-df21-4561-880f-3c7aa1537ef3\",\"type\":\"WheelZoomTool\"},{\"attributes\":{\"active_drag\":\"auto\",\"active_inspect\":\"auto\",\"active_scroll\":\"auto\",\"active_tap\":\"auto\",\"tools\":[{\"id\":\"00c86096-456b-415a-a60d-f46cf7339ec8\",\"type\":\"PanTool\"},{\"id\":\"16efb89e-df21-4561-880f-3c7aa1537ef3\",\"type\":\"WheelZoomTool\"},{\"id\":\"61ee0a10-419c-47a5-9b70-25d22a14f51f\",\"type\":\"BoxZoomTool\"},{\"id\":\"d3fcc02a-d56b-4d2b-b3ce-5edb1865ea37\",\"type\":\"SaveTool\"},{\"id\":\"a9f8d525-2a29-463a-9156-10b944a6c380\",\"type\":\"ResetTool\"},{\"id\":\"7f57ec3a-0adf-4501-a07d-5a49c92e37f3\",\"type\":\"HelpTool\"}]},\"id\":\"3301eabe-8a97-4c74-84fb-b7c6f642cb11\",\"type\":\"Toolbar\"},{\"attributes\":{\"overlay\":{\"id\":\"cfaea14c-14e7-4dac-973a-03d1bc4f8887\",\"type\":\"BoxAnnotation\"}},\"id\":\"61ee0a10-419c-47a5-9b70-25d22a14f51f\",\"type\":\"BoxZoomTool\"},{\"attributes\":{\"plot\":null,\"text\":\"Model Comparison\"},\"id\":\"203e5783-40df-461a-b433-440f62be1577\",\"type\":\"Title\"},{\"attributes\":{},\"id\":\"d3fcc02a-d56b-4d2b-b3ce-5edb1865ea37\",\"type\":\"SaveTool\"},{\"attributes\":{\"line_alpha\":0.1,\"line_color\":\"#1f77b4\",\"x\":{\"field\":\"x\"},\"y\":{\"field\":\"y\"}},\"id\":\"07bcaa9b-e48d-4edc-9b62-488ba0816b8f\",\"type\":\"Line\"},{\"attributes\":{},\"id\":\"a9f8d525-2a29-463a-9156-10b944a6c380\",\"type\":\"ResetTool\"},{\"attributes\":{},\"id\":\"8ec9009d-5548-4add-9c6d-492c2856edef\",\"type\":\"LinearScale\"},{\"attributes\":{},\"id\":\"7f57ec3a-0adf-4501-a07d-5a49c92e37f3\",\"type\":\"HelpTool\"},{\"attributes\":{\"callback\":null},\"id\":\"26bd8095-2045-4666-a626-2b2f59eb6676\",\"type\":\"DataRange1d\"},{\"attributes\":{\"line_color\":\"#1f77b4\",\"x\":{\"field\":\"x\"},\"y\":{\"field\":\"y\"}},\"id\":\"7077178a-ae27-4ac7-90f5-d101f3d210a0\",\"type\":\"Line\"},{\"attributes\":{},\"id\":\"8d380178-dbd6-4f30-b899-d00b68adcb77\",\"type\":\"LinearScale\"},{\"attributes\":{},\"id\":\"1ee099d9-f572-4b17-8cb6-70261420f2b2\",\"type\":\"BasicTickFormatter\"}],\"root_ids\":[\"95eefff3-d474-45f3-8811-bd6b925b5884\"]},\"title\":\"Bokeh Application\",\"version\":\"0.12.14\"}};\n",
       "  var render_items = [{\"docid\":\"1685d889-b741-4ac3-a3ec-4cad5586df17\",\"elementid\":\"b1ca97e2-8523-436c-ae9c-b4049ac09b34\",\"modelid\":\"95eefff3-d474-45f3-8811-bd6b925b5884\"}];\n",
       "  root.Bokeh.embed.embed_items_notebook(docs_json, render_items);\n",
       "\n",
       "  }\n",
       "  if (root.Bokeh !== undefined) {\n",
       "    embed_document(root);\n",
       "  } else {\n",
       "    var attempts = 0;\n",
       "    var timer = setInterval(function(root) {\n",
       "      if (root.Bokeh !== undefined) {\n",
       "        embed_document(root);\n",
       "        clearInterval(timer);\n",
       "      }\n",
       "      attempts++;\n",
       "      if (attempts > 100) {\n",
       "        console.log(\"Bokeh: ERROR: Unable to run BokehJS code because BokehJS library is missing\")\n",
       "        clearInterval(timer);\n",
       "      }\n",
       "    }, 10, root)\n",
       "  }\n",
       "})(window);"
      ],
      "application/vnd.bokehjs_exec.v0+json": ""
     },
     "metadata": {
      "application/vnd.bokehjs_exec.v0+json": {
       "id": "95eefff3-d474-45f3-8811-bd6b925b5884"
      }
     },
     "output_type": "display_data"
    }
   ],
   "source": [
    "from scipy.special import logsumexp\n",
    "import copy\n",
    "\n",
    "lambdas = np.linspace(-.99, .99, 100)\n",
    "lBs = []\n",
    "    \n",
    "# For each value of lambda.\n",
    "for l in lambdas:\n",
    "    \n",
    "    # Generate the data.\n",
    "    cov = np.array([\n",
    "        [1, l],\n",
    "        [l, 1]\n",
    "    ])\n",
    "    X = np.random.multivariate_normal(np.zeros(2), cov, size=1000)\n",
    "    X = torch.from_numpy(X).float()\n",
    "    \n",
    "    # Fit both models\n",
    "    normal_diag = beer.NormalDiagonalCovariance.create(torch.zeros(2), torch.eye(2), prior_count=1e-3)\n",
    "    beer.train_loglinear_model(normal_diag, X)\n",
    "    normal = beer.NormalFullCovariance.create(torch.zeros(2), torch.eye(2), prior_count=1e-3)\n",
    "    beer.train_loglinear_model(normal, X)\n",
    "    \n",
    "    # Compute the log Bayes factor.\n",
    "    llh_M1 = normal.posterior.log_norm - normal.prior.log_norm\n",
    "    llh_M2 = normal_diag.posterior.log_norm - normal_diag.prior.log_norm\n",
    "    lBs.append((llh_M1 - llh_M2))\n",
    "    \n",
    "lBs = np.array(lBs)\n",
    "fig1 = figure(\n",
    "    title='Model Comparison',\n",
    "    x_axis_label='λ',\n",
    "    y_axis_label='log Bayes factor',\n",
    "    width=400,\n",
    "    height=400\n",
    ")\n",
    "fig1.line(lambdas, lBs)\n",
    "\n",
    "show(fig1)"
   ]
  },
  {
   "cell_type": "code",
   "execution_count": 16,
   "metadata": {},
   "outputs": [
    {
     "data": {
      "text/plain": [
       "array([ 0.34303827, -0.70000703])"
      ]
     },
     "execution_count": 16,
     "metadata": {},
     "output_type": "execute_result"
    }
   ],
   "source": [
    "np.random.multivariate_normal(np.zeros(2), np.array([[2., 1.], [1., 2]]))"
   ]
  },
  {
   "cell_type": "code",
   "execution_count": 18,
   "metadata": {},
   "outputs": [
    {
     "data": {
      "text/plain": [
       "(array([1., 3.]), array([[-0.70710678,  0.70710678],\n",
       "        [ 0.70710678,  0.70710678]]))"
      ]
     },
     "execution_count": 18,
     "metadata": {},
     "output_type": "execute_result"
    }
   ],
   "source": [
    "cov = np.array([[2., 1.], [1., 2]])\n",
    "np.linalg.eigh(cov)"
   ]
  },
  {
   "cell_type": "code",
   "execution_count": null,
   "metadata": {},
   "outputs": [],
   "source": []
  }
 ],
 "metadata": {
  "kernelspec": {
   "display_name": "Python 3",
   "language": "python",
   "name": "python3"
  },
  "language_info": {
   "codemirror_mode": {
    "name": "ipython",
    "version": 3
   },
   "file_extension": ".py",
   "mimetype": "text/x-python",
   "name": "python",
   "nbconvert_exporter": "python",
   "pygments_lexer": "ipython3",
   "version": "3.6.4"
  }
 },
 "nbformat": 4,
 "nbformat_minor": 2
}
