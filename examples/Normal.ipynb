{
 "cells": [
  {
   "cell_type": "markdown",
   "metadata": {},
   "source": [
    "# Bayesian Model\n",
    "\n",
    "This notebook illustrate how to use a Bayesian Normal density model with the [beer framework](https://github.com/beer-asr/beer). The Normal distribution is a fairly basic models but it is used extenslively in other model as a basic building block."
   ]
  },
  {
   "cell_type": "code",
   "execution_count": 2,
   "metadata": {},
   "outputs": [
    {
     "data": {
      "text/html": [
       "\n",
       "    <div class=\"bk-root\">\n",
       "        <a href=\"https://bokeh.pydata.org\" target=\"_blank\" class=\"bk-logo bk-logo-small bk-logo-notebook\"></a>\n",
       "        <span id=\"1001\">Loading BokehJS ...</span>\n",
       "    </div>"
      ]
     },
     "metadata": {},
     "output_type": "display_data"
    },
    {
     "data": {
      "application/javascript": [
       "\n",
       "(function(root) {\n",
       "  function now() {\n",
       "    return new Date();\n",
       "  }\n",
       "\n",
       "  var force = true;\n",
       "\n",
       "  if (typeof (root._bokeh_onload_callbacks) === \"undefined\" || force === true) {\n",
       "    root._bokeh_onload_callbacks = [];\n",
       "    root._bokeh_is_loading = undefined;\n",
       "  }\n",
       "\n",
       "  var JS_MIME_TYPE = 'application/javascript';\n",
       "  var HTML_MIME_TYPE = 'text/html';\n",
       "  var EXEC_MIME_TYPE = 'application/vnd.bokehjs_exec.v0+json';\n",
       "  var CLASS_NAME = 'output_bokeh rendered_html';\n",
       "\n",
       "  /**\n",
       "   * Render data to the DOM node\n",
       "   */\n",
       "  function render(props, node) {\n",
       "    var script = document.createElement(\"script\");\n",
       "    node.appendChild(script);\n",
       "  }\n",
       "\n",
       "  /**\n",
       "   * Handle when an output is cleared or removed\n",
       "   */\n",
       "  function handleClearOutput(event, handle) {\n",
       "    var cell = handle.cell;\n",
       "\n",
       "    var id = cell.output_area._bokeh_element_id;\n",
       "    var server_id = cell.output_area._bokeh_server_id;\n",
       "    // Clean up Bokeh references\n",
       "    if (id != null && id in Bokeh.index) {\n",
       "      Bokeh.index[id].model.document.clear();\n",
       "      delete Bokeh.index[id];\n",
       "    }\n",
       "\n",
       "    if (server_id !== undefined) {\n",
       "      // Clean up Bokeh references\n",
       "      var cmd = \"from bokeh.io.state import curstate; print(curstate().uuid_to_server['\" + server_id + \"'].get_sessions()[0].document.roots[0]._id)\";\n",
       "      cell.notebook.kernel.execute(cmd, {\n",
       "        iopub: {\n",
       "          output: function(msg) {\n",
       "            var id = msg.content.text.trim();\n",
       "            if (id in Bokeh.index) {\n",
       "              Bokeh.index[id].model.document.clear();\n",
       "              delete Bokeh.index[id];\n",
       "            }\n",
       "          }\n",
       "        }\n",
       "      });\n",
       "      // Destroy server and session\n",
       "      var cmd = \"import bokeh.io.notebook as ion; ion.destroy_server('\" + server_id + \"')\";\n",
       "      cell.notebook.kernel.execute(cmd);\n",
       "    }\n",
       "  }\n",
       "\n",
       "  /**\n",
       "   * Handle when a new output is added\n",
       "   */\n",
       "  function handleAddOutput(event, handle) {\n",
       "    var output_area = handle.output_area;\n",
       "    var output = handle.output;\n",
       "\n",
       "    // limit handleAddOutput to display_data with EXEC_MIME_TYPE content only\n",
       "    if ((output.output_type != \"display_data\") || (!output.data.hasOwnProperty(EXEC_MIME_TYPE))) {\n",
       "      return\n",
       "    }\n",
       "\n",
       "    var toinsert = output_area.element.find(\".\" + CLASS_NAME.split(' ')[0]);\n",
       "\n",
       "    if (output.metadata[EXEC_MIME_TYPE][\"id\"] !== undefined) {\n",
       "      toinsert[toinsert.length - 1].firstChild.textContent = output.data[JS_MIME_TYPE];\n",
       "      // store reference to embed id on output_area\n",
       "      output_area._bokeh_element_id = output.metadata[EXEC_MIME_TYPE][\"id\"];\n",
       "    }\n",
       "    if (output.metadata[EXEC_MIME_TYPE][\"server_id\"] !== undefined) {\n",
       "      var bk_div = document.createElement(\"div\");\n",
       "      bk_div.innerHTML = output.data[HTML_MIME_TYPE];\n",
       "      var script_attrs = bk_div.children[0].attributes;\n",
       "      for (var i = 0; i < script_attrs.length; i++) {\n",
       "        toinsert[toinsert.length - 1].firstChild.setAttribute(script_attrs[i].name, script_attrs[i].value);\n",
       "      }\n",
       "      // store reference to server id on output_area\n",
       "      output_area._bokeh_server_id = output.metadata[EXEC_MIME_TYPE][\"server_id\"];\n",
       "    }\n",
       "  }\n",
       "\n",
       "  function register_renderer(events, OutputArea) {\n",
       "\n",
       "    function append_mime(data, metadata, element) {\n",
       "      // create a DOM node to render to\n",
       "      var toinsert = this.create_output_subarea(\n",
       "        metadata,\n",
       "        CLASS_NAME,\n",
       "        EXEC_MIME_TYPE\n",
       "      );\n",
       "      this.keyboard_manager.register_events(toinsert);\n",
       "      // Render to node\n",
       "      var props = {data: data, metadata: metadata[EXEC_MIME_TYPE]};\n",
       "      render(props, toinsert[toinsert.length - 1]);\n",
       "      element.append(toinsert);\n",
       "      return toinsert\n",
       "    }\n",
       "\n",
       "    /* Handle when an output is cleared or removed */\n",
       "    events.on('clear_output.CodeCell', handleClearOutput);\n",
       "    events.on('delete.Cell', handleClearOutput);\n",
       "\n",
       "    /* Handle when a new output is added */\n",
       "    events.on('output_added.OutputArea', handleAddOutput);\n",
       "\n",
       "    /**\n",
       "     * Register the mime type and append_mime function with output_area\n",
       "     */\n",
       "    OutputArea.prototype.register_mime_type(EXEC_MIME_TYPE, append_mime, {\n",
       "      /* Is output safe? */\n",
       "      safe: true,\n",
       "      /* Index of renderer in `output_area.display_order` */\n",
       "      index: 0\n",
       "    });\n",
       "  }\n",
       "\n",
       "  // register the mime type if in Jupyter Notebook environment and previously unregistered\n",
       "  if (root.Jupyter !== undefined) {\n",
       "    var events = require('base/js/events');\n",
       "    var OutputArea = require('notebook/js/outputarea').OutputArea;\n",
       "\n",
       "    if (OutputArea.prototype.mime_types().indexOf(EXEC_MIME_TYPE) == -1) {\n",
       "      register_renderer(events, OutputArea);\n",
       "    }\n",
       "  }\n",
       "\n",
       "  \n",
       "  if (typeof (root._bokeh_timeout) === \"undefined\" || force === true) {\n",
       "    root._bokeh_timeout = Date.now() + 5000;\n",
       "    root._bokeh_failed_load = false;\n",
       "  }\n",
       "\n",
       "  var NB_LOAD_WARNING = {'data': {'text/html':\n",
       "     \"<div style='background-color: #fdd'>\\n\"+\n",
       "     \"<p>\\n\"+\n",
       "     \"BokehJS does not appear to have successfully loaded. If loading BokehJS from CDN, this \\n\"+\n",
       "     \"may be due to a slow or bad network connection. Possible fixes:\\n\"+\n",
       "     \"</p>\\n\"+\n",
       "     \"<ul>\\n\"+\n",
       "     \"<li>re-rerun `output_notebook()` to attempt to load from CDN again, or</li>\\n\"+\n",
       "     \"<li>use INLINE resources instead, as so:</li>\\n\"+\n",
       "     \"</ul>\\n\"+\n",
       "     \"<code>\\n\"+\n",
       "     \"from bokeh.resources import INLINE\\n\"+\n",
       "     \"output_notebook(resources=INLINE)\\n\"+\n",
       "     \"</code>\\n\"+\n",
       "     \"</div>\"}};\n",
       "\n",
       "  function display_loaded() {\n",
       "    var el = document.getElementById(\"1001\");\n",
       "    if (el != null) {\n",
       "      el.textContent = \"BokehJS is loading...\";\n",
       "    }\n",
       "    if (root.Bokeh !== undefined) {\n",
       "      if (el != null) {\n",
       "        el.textContent = \"BokehJS \" + root.Bokeh.version + \" successfully loaded.\";\n",
       "      }\n",
       "    } else if (Date.now() < root._bokeh_timeout) {\n",
       "      setTimeout(display_loaded, 100)\n",
       "    }\n",
       "  }\n",
       "\n",
       "\n",
       "  function run_callbacks() {\n",
       "    try {\n",
       "      root._bokeh_onload_callbacks.forEach(function(callback) { callback() });\n",
       "    }\n",
       "    finally {\n",
       "      delete root._bokeh_onload_callbacks\n",
       "    }\n",
       "    console.info(\"Bokeh: all callbacks have finished\");\n",
       "  }\n",
       "\n",
       "  function load_libs(js_urls, callback) {\n",
       "    root._bokeh_onload_callbacks.push(callback);\n",
       "    if (root._bokeh_is_loading > 0) {\n",
       "      console.log(\"Bokeh: BokehJS is being loaded, scheduling callback at\", now());\n",
       "      return null;\n",
       "    }\n",
       "    if (js_urls == null || js_urls.length === 0) {\n",
       "      run_callbacks();\n",
       "      return null;\n",
       "    }\n",
       "    console.log(\"Bokeh: BokehJS not loaded, scheduling load and callback at\", now());\n",
       "    root._bokeh_is_loading = js_urls.length;\n",
       "    for (var i = 0; i < js_urls.length; i++) {\n",
       "      var url = js_urls[i];\n",
       "      var s = document.createElement('script');\n",
       "      s.src = url;\n",
       "      s.async = false;\n",
       "      s.onreadystatechange = s.onload = function() {\n",
       "        root._bokeh_is_loading--;\n",
       "        if (root._bokeh_is_loading === 0) {\n",
       "          console.log(\"Bokeh: all BokehJS libraries loaded\");\n",
       "          run_callbacks()\n",
       "        }\n",
       "      };\n",
       "      s.onerror = function() {\n",
       "        console.warn(\"failed to load library \" + url);\n",
       "      };\n",
       "      console.log(\"Bokeh: injecting script tag for BokehJS library: \", url);\n",
       "      document.getElementsByTagName(\"head\")[0].appendChild(s);\n",
       "    }\n",
       "  };var element = document.getElementById(\"1001\");\n",
       "  if (element == null) {\n",
       "    console.log(\"Bokeh: ERROR: autoload.js configured with elementid '1001' but no matching script tag was found. \")\n",
       "    return false;\n",
       "  }\n",
       "\n",
       "  var js_urls = [\"https://cdn.pydata.org/bokeh/release/bokeh-1.0.2.min.js\", \"https://cdn.pydata.org/bokeh/release/bokeh-widgets-1.0.2.min.js\", \"https://cdn.pydata.org/bokeh/release/bokeh-tables-1.0.2.min.js\", \"https://cdn.pydata.org/bokeh/release/bokeh-gl-1.0.2.min.js\"];\n",
       "\n",
       "  var inline_js = [\n",
       "    function(Bokeh) {\n",
       "      Bokeh.set_log_level(\"info\");\n",
       "    },\n",
       "    \n",
       "    function(Bokeh) {\n",
       "      \n",
       "    },\n",
       "    function(Bokeh) {\n",
       "      console.log(\"Bokeh: injecting CSS: https://cdn.pydata.org/bokeh/release/bokeh-1.0.2.min.css\");\n",
       "      Bokeh.embed.inject_css(\"https://cdn.pydata.org/bokeh/release/bokeh-1.0.2.min.css\");\n",
       "      console.log(\"Bokeh: injecting CSS: https://cdn.pydata.org/bokeh/release/bokeh-widgets-1.0.2.min.css\");\n",
       "      Bokeh.embed.inject_css(\"https://cdn.pydata.org/bokeh/release/bokeh-widgets-1.0.2.min.css\");\n",
       "      console.log(\"Bokeh: injecting CSS: https://cdn.pydata.org/bokeh/release/bokeh-tables-1.0.2.min.css\");\n",
       "      Bokeh.embed.inject_css(\"https://cdn.pydata.org/bokeh/release/bokeh-tables-1.0.2.min.css\");\n",
       "    }\n",
       "  ];\n",
       "\n",
       "  function run_inline_js() {\n",
       "    \n",
       "    if ((root.Bokeh !== undefined) || (force === true)) {\n",
       "      for (var i = 0; i < inline_js.length; i++) {\n",
       "        inline_js[i].call(root, root.Bokeh);\n",
       "      }if (force === true) {\n",
       "        display_loaded();\n",
       "      }} else if (Date.now() < root._bokeh_timeout) {\n",
       "      setTimeout(run_inline_js, 100);\n",
       "    } else if (!root._bokeh_failed_load) {\n",
       "      console.log(\"Bokeh: BokehJS failed to load within specified timeout.\");\n",
       "      root._bokeh_failed_load = true;\n",
       "    } else if (force !== true) {\n",
       "      var cell = $(document.getElementById(\"1001\")).parents('.cell').data().cell;\n",
       "      cell.output_area.append_execute_result(NB_LOAD_WARNING)\n",
       "    }\n",
       "\n",
       "  }\n",
       "\n",
       "  if (root._bokeh_is_loading === 0) {\n",
       "    console.log(\"Bokeh: BokehJS loaded, going straight to plotting\");\n",
       "    run_inline_js();\n",
       "  } else {\n",
       "    load_libs(js_urls, function() {\n",
       "      console.log(\"Bokeh: BokehJS plotting callback run at\", now());\n",
       "      run_inline_js();\n",
       "    });\n",
       "  }\n",
       "}(window));"
      ],
      "application/vnd.bokehjs_load.v0+json": "\n(function(root) {\n  function now() {\n    return new Date();\n  }\n\n  var force = true;\n\n  if (typeof (root._bokeh_onload_callbacks) === \"undefined\" || force === true) {\n    root._bokeh_onload_callbacks = [];\n    root._bokeh_is_loading = undefined;\n  }\n\n  \n\n  \n  if (typeof (root._bokeh_timeout) === \"undefined\" || force === true) {\n    root._bokeh_timeout = Date.now() + 5000;\n    root._bokeh_failed_load = false;\n  }\n\n  var NB_LOAD_WARNING = {'data': {'text/html':\n     \"<div style='background-color: #fdd'>\\n\"+\n     \"<p>\\n\"+\n     \"BokehJS does not appear to have successfully loaded. If loading BokehJS from CDN, this \\n\"+\n     \"may be due to a slow or bad network connection. Possible fixes:\\n\"+\n     \"</p>\\n\"+\n     \"<ul>\\n\"+\n     \"<li>re-rerun `output_notebook()` to attempt to load from CDN again, or</li>\\n\"+\n     \"<li>use INLINE resources instead, as so:</li>\\n\"+\n     \"</ul>\\n\"+\n     \"<code>\\n\"+\n     \"from bokeh.resources import INLINE\\n\"+\n     \"output_notebook(resources=INLINE)\\n\"+\n     \"</code>\\n\"+\n     \"</div>\"}};\n\n  function display_loaded() {\n    var el = document.getElementById(\"1001\");\n    if (el != null) {\n      el.textContent = \"BokehJS is loading...\";\n    }\n    if (root.Bokeh !== undefined) {\n      if (el != null) {\n        el.textContent = \"BokehJS \" + root.Bokeh.version + \" successfully loaded.\";\n      }\n    } else if (Date.now() < root._bokeh_timeout) {\n      setTimeout(display_loaded, 100)\n    }\n  }\n\n\n  function run_callbacks() {\n    try {\n      root._bokeh_onload_callbacks.forEach(function(callback) { callback() });\n    }\n    finally {\n      delete root._bokeh_onload_callbacks\n    }\n    console.info(\"Bokeh: all callbacks have finished\");\n  }\n\n  function load_libs(js_urls, callback) {\n    root._bokeh_onload_callbacks.push(callback);\n    if (root._bokeh_is_loading > 0) {\n      console.log(\"Bokeh: BokehJS is being loaded, scheduling callback at\", now());\n      return null;\n    }\n    if (js_urls == null || js_urls.length === 0) {\n      run_callbacks();\n      return null;\n    }\n    console.log(\"Bokeh: BokehJS not loaded, scheduling load and callback at\", now());\n    root._bokeh_is_loading = js_urls.length;\n    for (var i = 0; i < js_urls.length; i++) {\n      var url = js_urls[i];\n      var s = document.createElement('script');\n      s.src = url;\n      s.async = false;\n      s.onreadystatechange = s.onload = function() {\n        root._bokeh_is_loading--;\n        if (root._bokeh_is_loading === 0) {\n          console.log(\"Bokeh: all BokehJS libraries loaded\");\n          run_callbacks()\n        }\n      };\n      s.onerror = function() {\n        console.warn(\"failed to load library \" + url);\n      };\n      console.log(\"Bokeh: injecting script tag for BokehJS library: \", url);\n      document.getElementsByTagName(\"head\")[0].appendChild(s);\n    }\n  };var element = document.getElementById(\"1001\");\n  if (element == null) {\n    console.log(\"Bokeh: ERROR: autoload.js configured with elementid '1001' but no matching script tag was found. \")\n    return false;\n  }\n\n  var js_urls = [\"https://cdn.pydata.org/bokeh/release/bokeh-1.0.2.min.js\", \"https://cdn.pydata.org/bokeh/release/bokeh-widgets-1.0.2.min.js\", \"https://cdn.pydata.org/bokeh/release/bokeh-tables-1.0.2.min.js\", \"https://cdn.pydata.org/bokeh/release/bokeh-gl-1.0.2.min.js\"];\n\n  var inline_js = [\n    function(Bokeh) {\n      Bokeh.set_log_level(\"info\");\n    },\n    \n    function(Bokeh) {\n      \n    },\n    function(Bokeh) {\n      console.log(\"Bokeh: injecting CSS: https://cdn.pydata.org/bokeh/release/bokeh-1.0.2.min.css\");\n      Bokeh.embed.inject_css(\"https://cdn.pydata.org/bokeh/release/bokeh-1.0.2.min.css\");\n      console.log(\"Bokeh: injecting CSS: https://cdn.pydata.org/bokeh/release/bokeh-widgets-1.0.2.min.css\");\n      Bokeh.embed.inject_css(\"https://cdn.pydata.org/bokeh/release/bokeh-widgets-1.0.2.min.css\");\n      console.log(\"Bokeh: injecting CSS: https://cdn.pydata.org/bokeh/release/bokeh-tables-1.0.2.min.css\");\n      Bokeh.embed.inject_css(\"https://cdn.pydata.org/bokeh/release/bokeh-tables-1.0.2.min.css\");\n    }\n  ];\n\n  function run_inline_js() {\n    \n    if ((root.Bokeh !== undefined) || (force === true)) {\n      for (var i = 0; i < inline_js.length; i++) {\n        inline_js[i].call(root, root.Bokeh);\n      }if (force === true) {\n        display_loaded();\n      }} else if (Date.now() < root._bokeh_timeout) {\n      setTimeout(run_inline_js, 100);\n    } else if (!root._bokeh_failed_load) {\n      console.log(\"Bokeh: BokehJS failed to load within specified timeout.\");\n      root._bokeh_failed_load = true;\n    } else if (force !== true) {\n      var cell = $(document.getElementById(\"1001\")).parents('.cell').data().cell;\n      cell.output_area.append_execute_result(NB_LOAD_WARNING)\n    }\n\n  }\n\n  if (root._bokeh_is_loading === 0) {\n    console.log(\"Bokeh: BokehJS loaded, going straight to plotting\");\n    run_inline_js();\n  } else {\n    load_libs(js_urls, function() {\n      console.log(\"Bokeh: BokehJS plotting callback run at\", now());\n      run_inline_js();\n    });\n  }\n}(window));"
     },
     "metadata": {},
     "output_type": "display_data"
    }
   ],
   "source": [
    "# Add \"beer\" to the PYTHONPATH\n",
    "import random\n",
    "from collections import defaultdict\n",
    "import sys\n",
    "sys.path.insert(0, '../')\n",
    "\n",
    "\n",
    "import beer\n",
    "import numpy as np\n",
    "import torch\n",
    "\n",
    "# For plotting.\n",
    "from bokeh.io import show, output_notebook\n",
    "from bokeh.plotting import figure, gridplot\n",
    "output_notebook()\n",
    "\n",
    "# Convenience functions for plotting.\n",
    "import plotting\n",
    "\n",
    "%load_ext autoreload\n",
    "%autoreload 2"
   ]
  },
  {
   "cell_type": "markdown",
   "metadata": {},
   "source": [
    "## Data\n",
    "\n",
    "Generate some normally distributed data:"
   ]
  },
  {
   "cell_type": "code",
   "execution_count": 3,
   "metadata": {},
   "outputs": [
    {
     "data": {
      "text/html": [
       "\n",
       "\n",
       "\n",
       "\n",
       "\n",
       "\n",
       "  <div class=\"bk-root\" id=\"15c1188b-b936-42dc-92df-378bc6f41f33\"></div>\n"
      ]
     },
     "metadata": {},
     "output_type": "display_data"
    },
    {
     "data": {
      "application/javascript": [
       "(function(root) {\n",
       "  function embed_document(root) {\n",
       "    \n",
       "  var docs_json = {\"ac7bf710-0d30-4cc4-ab7c-6bfe8c7741f4\":{\"roots\":{\"references\":[{\"attributes\":{\"below\":[{\"id\":\"1013\",\"type\":\"LinearAxis\"}],\"left\":[{\"id\":\"1018\",\"type\":\"LinearAxis\"}],\"plot_height\":400,\"plot_width\":400,\"renderers\":[{\"id\":\"1013\",\"type\":\"LinearAxis\"},{\"id\":\"1017\",\"type\":\"Grid\"},{\"id\":\"1018\",\"type\":\"LinearAxis\"},{\"id\":\"1022\",\"type\":\"Grid\"},{\"id\":\"1031\",\"type\":\"BoxAnnotation\"},{\"id\":\"1041\",\"type\":\"GlyphRenderer\"},{\"id\":\"1046\",\"type\":\"GlyphRenderer\"},{\"id\":\"1051\",\"type\":\"GlyphRenderer\"}],\"title\":{\"id\":\"1002\",\"type\":\"Title\"},\"toolbar\":{\"id\":\"1029\",\"type\":\"Toolbar\"},\"x_range\":{\"id\":\"1005\",\"type\":\"Range1d\"},\"x_scale\":{\"id\":\"1009\",\"type\":\"LinearScale\"},\"y_range\":{\"id\":\"1007\",\"type\":\"Range1d\"},\"y_scale\":{\"id\":\"1011\",\"type\":\"LinearScale\"}},\"id\":\"1003\",\"subtype\":\"Figure\",\"type\":\"Plot\"},{\"attributes\":{\"source\":{\"id\":\"1038\",\"type\":\"ColumnDataSource\"}},\"id\":\"1042\",\"type\":\"CDSView\"},{\"attributes\":{},\"id\":\"1011\",\"type\":\"LinearScale\"},{\"attributes\":{},\"id\":\"1062\",\"type\":\"Selection\"},{\"attributes\":{\"formatter\":{\"id\":\"1055\",\"type\":\"BasicTickFormatter\"},\"plot\":{\"id\":\"1003\",\"subtype\":\"Figure\",\"type\":\"Plot\"},\"ticker\":{\"id\":\"1014\",\"type\":\"BasicTicker\"}},\"id\":\"1013\",\"type\":\"LinearAxis\"},{\"attributes\":{},\"id\":\"1063\",\"type\":\"UnionRenderers\"},{\"attributes\":{\"callback\":null,\"data\":{\"x\":{\"__ndarray__\":\"zTt/Zp6gBkD/aBeat5QGQEpH+7kPcQZAxDZRSMw1BkC/j9WcK+MFQECmRaOEeQVAnt/vf0b5BEBDCska+GIEQH71gZE3twNAdpMykbn2AkCHnkmYSCICQJ6yiCHEOgFAxu/suB9BAEDd6Pb2w2z+P3Rl/gVHN/w/aHu1fRvk+T/TJUl2s3X3PwkMrq6d7vQ/w3Xc24JR8j+F03m5RULvP5J+baujwOk/dhnXbeoj5D8TMwPBAuTcPxjbsFnMYdE/HshwxDM1tz/Yx3DEMzW3vwbbsFnMYdG/ATMDwQLk3L90Gddt6iPkv4l+baujwOm/fNN5uUVC77++ddzbglHyvwQMrq6d7vS/0SVJdrN1979le7V9G+T5v3Nl/gVHN/y/2ej29sNs/r/F7+y4H0EAwJyyiCHEOgHAhp5JmEgiAsBzkzKRufYCwH31gZE3twPAQgrJGvhiBMCd3+9/RvkEwECmRaOEeQXAvo/VnCvjBcDENlFIzDUGwElH+7kPcQbA/2gXmreUBsDNO39mnqAGwM07f2aeoAbA/2gXmreUBsBJR/u5D3EGwMQ2UUjMNQbAvo/VnCvjBcBApkWjhHkFwJ3f739G+QTAQgrJGvhiBMB99YGRN7cDwHOTMpG59gLAhp5JmEgiAsCcsoghxDoBwMXv7LgfQQDA2ej29sNs/r9zZf4FRzf8v2V7tX0b5Pm/0SVJdrN1978EDK6une70v7513NuCUfK/fNN5uUVC77+Jfm2ro8Dpv3QZ123qI+S/ATMDwQLk3L8G27BZzGHRv9jHcMQzNbe/HshwxDM1tz8Y27BZzGHRPxMzA8EC5Nw/dhnXbeoj5D+Sfm2ro8DpP4XTeblFQu8/w3Xc24JR8j8JDK6une70P9MlSXazdfc/aHu1fRvk+T90Zf4FRzf8P93o9vbDbP4/xu/suB9BAECesoghxDoBQIeeSZhIIgJAdpMykbn2AkB+9YGRN7cDQEMKyRr4YgRAnt/vf0b5BEBApkWjhHkFQL+P1Zwr4wVAxDZRSMw1BkBKR/u5D3EGQP9oF5q3lAZAzTt/Zp6gBkA=\",\"dtype\":\"float64\",\"shape\":[100]},\"y\":{\"__ndarray__\":\"m0Vf4fx+9T+/MUnsR9P2PxfR+xKQD/g/IBVMnogy+T/esFZ3/zr6P3RtfmneJ/s/CFMVRyz4+z/5x3zvDav8P5nnqDXHP/0/+pIUpru1/T+T/lUrbwz+PyCbppCGQ/4/egnV4cda/j9SKzyoGlL+P8AufwSIKf4/XYLvpDrh/T+Yy6aYfnn9P5gahP/A8vw/tIZgl49N/D/Q9fMmmIr7PzrpBsenqvo/up2xCqqu+T+xdYsHqJf4P/Bdzz7HZvc/ZIaaaEgd9j+EOooihrz0P4PDG4PzRfM/X+ZNkxq78T/WpB6wmh3wPzyaMqtN3uw/T/yAqgdj6T98+mrzDM3lPyfrIzMjIOI/sJ7rbVDA3D/KZwy2GyLVP0imBZBX28o/6OFMQG6stj8gXHFKWeugv8zBtatwx8O/2CBxPp6f0b8Ye5Qd+kjZv3GiNVfea+C/a/2bU/kh5L+kqzGL5sLnv51ppczUSuu/dMAXMg227r+3n7SEewDxv7ucYc4NlPK/uxWw6xQU9L+aRV/h/H71v5xFX+H8fvW/wTFJ7EfT9r8Z0fsSkA/4vyEVTJ6IMvm/4LBWd/86+r92bX5p3if7vwpTFUcs+Pu/+Md87w2r/L+a56g1xz/9v/qSFKa7tf2/kv5VK28M/r8gm6aQhkP+v3oJ1eHHWv6/Uis8qBpS/r/BLn8EiCn+v16C76Q64f2/mMummH55/b+WGoT/wPL8v7KGYJePTfy/zvXzJpiK+7846QbHp6r6v7qdsQqqrvm/r3WLB6iX+L/tXc8+x2b3v2KGmmhIHfa/gjqKIoa89L+AwxuD80Xzv13mTZMau/G/1qQesJod8L84mjKrTd7sv0v8gKoHY+m/ePpq8wzN5b8j6yMzIyDiv66e621QwNy/vGcMthsi1b88pgWQV9vKv7jhTEBurLa/UFxxSlnroD/kwbWrcMfDP+QgcT6en9E/KnuUHfpI2T92ojVX3mvgP279m1P5IeQ/qKsxi+bC5z+gaaXM1ErrP3zAFzINtu4/uJ+0hHsA8T+/nGHODZTyP70VsOsUFPQ/m0Vf4fx+9T8=\",\"dtype\":\"float64\",\"shape\":[100]}},\"selected\":{\"id\":\"1060\",\"type\":\"Selection\"},\"selection_policy\":{\"id\":\"1061\",\"type\":\"UnionRenderers\"}},\"id\":\"1043\",\"type\":\"ColumnDataSource\"},{\"attributes\":{\"fill_alpha\":0.3,\"fill_color\":\"#1f77b4\",\"x\":{\"field\":\"x\"},\"y\":{\"field\":\"y\"}},\"id\":\"1044\",\"type\":\"Patch\"},{\"attributes\":{\"plot\":{\"id\":\"1003\",\"subtype\":\"Figure\",\"type\":\"Plot\"},\"ticker\":{\"id\":\"1014\",\"type\":\"BasicTicker\"}},\"id\":\"1017\",\"type\":\"Grid\"},{\"attributes\":{\"fill_alpha\":0.1,\"fill_color\":\"#1f77b4\",\"line_alpha\":0.1,\"line_color\":\"#1f77b4\",\"x\":{\"field\":\"x\"},\"y\":{\"field\":\"y\"}},\"id\":\"1045\",\"type\":\"Patch\"},{\"attributes\":{\"formatter\":{\"id\":\"1057\",\"type\":\"BasicTickFormatter\"},\"plot\":{\"id\":\"1003\",\"subtype\":\"Figure\",\"type\":\"Plot\"},\"ticker\":{\"id\":\"1019\",\"type\":\"BasicTicker\"}},\"id\":\"1018\",\"type\":\"LinearAxis\"},{\"attributes\":{\"data_source\":{\"id\":\"1043\",\"type\":\"ColumnDataSource\"},\"glyph\":{\"id\":\"1044\",\"type\":\"Patch\"},\"hover_glyph\":null,\"muted_glyph\":null,\"nonselection_glyph\":{\"id\":\"1045\",\"type\":\"Patch\"},\"selection_glyph\":null,\"view\":{\"id\":\"1047\",\"type\":\"CDSView\"}},\"id\":\"1046\",\"type\":\"GlyphRenderer\"},{\"attributes\":{},\"id\":\"1019\",\"type\":\"BasicTicker\"},{\"attributes\":{\"source\":{\"id\":\"1043\",\"type\":\"ColumnDataSource\"}},\"id\":\"1047\",\"type\":\"CDSView\"},{\"attributes\":{\"dimension\":1,\"plot\":{\"id\":\"1003\",\"subtype\":\"Figure\",\"type\":\"Plot\"},\"ticker\":{\"id\":\"1019\",\"type\":\"BasicTicker\"}},\"id\":\"1022\",\"type\":\"Grid\"},{\"attributes\":{\"callback\":null,\"data\":{\"x\":{\"__ndarray__\":\"zTt/Zp6g9j//aBeat5T2P0pH+7kPcfY/xDZRSMw19j+/j9WcK+P1P0CmRaOEefU/nt/vf0b59D9DCska+GL0P371gZE3t/M/dpMykbn28j+HnkmYSCLyP56yiCHEOvE/xu/suB9B8D/d6Pb2w2zuP3Rl/gVHN+w/aHu1fRvk6T/TJUl2s3XnPwkMrq6d7uQ/w3Xc24JR4j+F03m5RULfP5J+baujwNk/dhnXbeoj1D8TMwPBAuTMPxjbsFnMYcE/HshwxDM1pz/Yx3DEMzWnvwbbsFnMYcG/ATMDwQLkzL90Gddt6iPUv4l+baujwNm/fNN5uUVC37++ddzbglHivwQMrq6d7uS/0SVJdrN1579le7V9G+Tpv3Nl/gVHN+y/2ej29sNs7r/F7+y4H0Hwv5yyiCHEOvG/hp5JmEgi8r9zkzKRufbyv331gZE3t/O/QgrJGvhi9L+d3+9/Rvn0v0CmRaOEefW/vo/VnCvj9b/ENlFIzDX2v0lH+7kPcfa//2gXmreU9r/NO39mnqD2v807f2aeoPa//2gXmreU9r9JR/u5D3H2v8Q2UUjMNfa/vo/VnCvj9b9ApkWjhHn1v53f739G+fS/QgrJGvhi9L999YGRN7fzv3OTMpG59vK/hp5JmEgi8r+csoghxDrxv8Xv7LgfQfC/2ej29sNs7r9zZf4FRzfsv2V7tX0b5Om/0SVJdrN1578EDK6une7kv7513NuCUeK/fNN5uUVC37+Jfm2ro8DZv3QZ123qI9S/ATMDwQLkzL8G27BZzGHBv9jHcMQzNae/HshwxDM1pz8Y27BZzGHBPxMzA8EC5Mw/dhnXbeoj1D+Sfm2ro8DZP4XTeblFQt8/w3Xc24JR4j8JDK6une7kP9MlSXazdec/aHu1fRvk6T90Zf4FRzfsP93o9vbDbO4/xu/suB9B8D+esoghxDrxP4eeSZhIIvI/dpMykbn28j9+9YGRN7fzP0MKyRr4YvQ/nt/vf0b59D9ApkWjhHn1P7+P1Zwr4/U/xDZRSMw19j9KR/u5D3H2P/9oF5q3lPY/zTt/Zp6g9j8=\",\"dtype\":\"float64\",\"shape\":[100]},\"y\":{\"__ndarray__\":\"m0Vf4fx+5T+/MUnsR9PmPxfR+xKQD+g/IBVMnogy6T/esFZ3/zrqP3RtfmneJ+s/CFMVRyz46z/5x3zvDavsP5nnqDXHP+0/+pIUpru17T+T/lUrbwzuPyCbppCGQ+4/egnV4cda7j9SKzyoGlLuP8AufwSIKe4/XYLvpDrh7T+Yy6aYfnntP5gahP/A8uw/tIZgl49N7D/Q9fMmmIrrPzrpBsenquo/up2xCqqu6T+xdYsHqJfoP/Bdzz7HZuc/ZIaaaEgd5j+EOooihrzkP4PDG4PzReM/X+ZNkxq74T/WpB6wmh3gPzyaMqtN3tw/T/yAqgdj2T98+mrzDM3VPyfrIzMjINI/sJ7rbVDAzD/KZwy2GyLFP0imBZBX27o/6OFMQG6spj8gXHFKWeuQv8zBtatwx7O/2CBxPp6fwb8Ye5Qd+kjJv3GiNVfea9C/a/2bU/kh1L+kqzGL5sLXv51ppczUStu/dMAXMg223r+3n7SEewDhv7ucYc4NlOK/uxWw6xQU5L+aRV/h/H7lv5xFX+H8fuW/wTFJ7EfT5r8Z0fsSkA/ovyEVTJ6IMum/4LBWd/866r92bX5p3ifrvwpTFUcs+Ou/+Md87w2r7L+a56g1xz/tv/qSFKa7te2/kv5VK28M7r8gm6aQhkPuv3oJ1eHHWu6/Uis8qBpS7r/BLn8EiCnuv16C76Q64e2/mMummH557b+WGoT/wPLsv7KGYJePTey/zvXzJpiK67846QbHp6rqv7qdsQqqrum/r3WLB6iX6L/tXc8+x2bnv2KGmmhIHea/gjqKIoa85L+AwxuD80Xjv13mTZMau+G/1qQesJod4L84mjKrTd7cv0v8gKoHY9m/ePpq8wzN1b8j6yMzIyDSv66e621QwMy/vGcMthsixb88pgWQV9u6v7jhTEBurKa/UFxxSlnrkD/kwbWrcMezP+QgcT6en8E/KnuUHfpIyT92ojVX3mvQP279m1P5IdQ/qKsxi+bC1z+gaaXM1ErbP3zAFzINtt4/uJ+0hHsA4T+/nGHODZTiP70VsOsUFOQ/m0Vf4fx+5T8=\",\"dtype\":\"float64\",\"shape\":[100]}},\"selected\":{\"id\":\"1062\",\"type\":\"Selection\"},\"selection_policy\":{\"id\":\"1063\",\"type\":\"UnionRenderers\"}},\"id\":\"1048\",\"type\":\"ColumnDataSource\"},{\"attributes\":{\"fill_alpha\":0.3,\"fill_color\":\"#1f77b4\",\"x\":{\"field\":\"x\"},\"y\":{\"field\":\"y\"}},\"id\":\"1049\",\"type\":\"Patch\"},{\"attributes\":{\"fill_alpha\":{\"value\":0.1},\"fill_color\":{\"value\":\"#1f77b4\"},\"line_alpha\":{\"value\":0.1},\"line_color\":{\"value\":\"#1f77b4\"},\"x\":{\"field\":\"x\"},\"y\":{\"field\":\"y\"}},\"id\":\"1040\",\"type\":\"Circle\"},{\"attributes\":{\"fill_alpha\":0.1,\"fill_color\":\"#1f77b4\",\"line_alpha\":0.1,\"line_color\":\"#1f77b4\",\"x\":{\"field\":\"x\"},\"y\":{\"field\":\"y\"}},\"id\":\"1050\",\"type\":\"Patch\"},{\"attributes\":{\"fill_color\":{\"value\":\"#1f77b4\"},\"line_color\":{\"value\":\"#1f77b4\"},\"x\":{\"field\":\"x\"},\"y\":{\"field\":\"y\"}},\"id\":\"1039\",\"type\":\"Circle\"},{\"attributes\":{\"data_source\":{\"id\":\"1048\",\"type\":\"ColumnDataSource\"},\"glyph\":{\"id\":\"1049\",\"type\":\"Patch\"},\"hover_glyph\":null,\"muted_glyph\":null,\"nonselection_glyph\":{\"id\":\"1050\",\"type\":\"Patch\"},\"selection_glyph\":null,\"view\":{\"id\":\"1052\",\"type\":\"CDSView\"}},\"id\":\"1051\",\"type\":\"GlyphRenderer\"},{\"attributes\":{},\"id\":\"1023\",\"type\":\"PanTool\"},{\"attributes\":{\"source\":{\"id\":\"1048\",\"type\":\"ColumnDataSource\"}},\"id\":\"1052\",\"type\":\"CDSView\"},{\"attributes\":{},\"id\":\"1024\",\"type\":\"WheelZoomTool\"},{\"attributes\":{\"callback\":null,\"data\":{\"x\":{\"__ndarray__\":\"swzGrWxYAMC0d9Ly5T3vP+X3nhdJ2eC/uLFoq6B0+T97mcU7PVUGQPYk6sxAUvM/4pnKynbdEEAb6ln+mfkDQOZ6wgIAMdc/qz8VezWHA0DXUpt/wlnaP47cWyR+MfC/MoLbZDXfzj+KH0LerP/2P+LgCipnSNK/8t5k5KDw4j8G30Rl8dEIwDohNT8NjY0/rI93vlON5T+gsLOckSUNwN367ZDcnfw/FMw0SipmyL8bTi625Mb8v8ppCOfNj+y/BPcPzN7f9T9oS4OVzzKhP15/m+rivNO/4+3E5ulD4r/swfBOE2nrvwLQEMClLADAtKrMQ2F3wL9wxgAskuvqvx8CrJcpXL2/A6wXDqRt8r/TNs2j2WHjP96ErIZ2c9S/+Zqbqcimwz+WbG3UXlryP211HRV2Bfc/IymTJPSm978Z2vm0K1/1v5s0FvQYAPQ/IfpiDHnc/r85OM8VN3T0P1d3/8NtSuo/3kJ1AX3M2z9BLNORwgEBwPCzG5vnNNQ/KCxeEMhM8T9GgLLmtBzwv8O9XY+Boe+/a/1pr2VT1L+l/KzXa94GwHAnpak6+vS/5N3Gv/6E8D/Z4LGLyuvQP1SPgRRpkuq/JqMUMkNK87/2M3LC14PWvww2UegXSsg/rGqDq4UC6782ZyQK+Ujgv17V1o4or+G/WhY9U2sm4z+I8XMSXH8GwCtQcvbeqPy/MxvOuRAR/r9G3F+4vkf1P4qXRQOSxvI/bUpVIFuG8r8DxYh5iFDZPzSJOVZxY6G/rv0lu/TW87/ElS8bnxEGQDCSy6CfN/+/tP7GIVuZ/b9GNj/quAv9vyti15hDJgXAcnjEl6vN4L/YgF5okwYLQFgQsxW68eq/aT/SOSsI6z+8+zyIKI0DwDx/Giu3LATAAJxayptt5L86pwc9jv7sP9RqUglyark/tMtXPe2IAsA00HVjaV3HvwisvU88gaI/aMcK3UF0+j/glW8uYu75P/nFF6IlVeI/PmYwgr3U5b9M42UEFm73vzPTnlDBccI/3zpS7f2C479eLNIA3IXJPxzyyZ9WwbO/4AfvhnH8AEA=\",\"dtype\":\"float64\",\"shape\":[100]},\"y\":{\"__ndarray__\":\"B1iFwW1d8b+2dckqakXMPz6FS+I3StW/kAtOhBsVor/R+tMbspH5PzmLV8/Vke4/qh3QSjZL9D/BWXFEusP7P1R3goU88bm/5lORv4vB2T8+dxvGfkDZPzS3pPkBfbM/SX41m55V5z8Z7M3Y7T/bP0G+g+PtKAJACDm1+YlD4D9Is/A3e8z9v1oojr1ujbW/CZRBUE2b6D//DAFdumUEwMTc5XJiC+g/VnFlgTUP57+/6Kj12BTiv5oke0TeP+o/N7NuHKej8D/sfgPP83DeP0psFm3v7MQ/f+S2YdhL3L+G13EK3LTUP/Z0Co4qjPq/yH9at3iStD+yJ4ZGMwzkvzbBf3SpiNS/QLWHUg9ffT90HKIwjh3iv3z5UwqLHqG/KyKNx6dW179K7IHfuejgv0Kq1LYLT+o/FjVbn5s96r8XVVz2cdD5vwhn475cLuc/2CUXCckR8r/4hgn/N0roP4a3FttJrds/hRD37QNV0r+aHGcHtgTcP1iE4B4kzdE/1v8aNNld1D+wpadMisOvv0n42mLJdeC/yvaHvqaX0r+wHU1De+7rv15vDC6lM/C/bWH0O51L6D+arJ0b2oPuP9DX/JyMIfu/VuIMaftj/r/aUbFxNGLmv+8OI71nP8k/z2IVW8A397/4vbjHrnG3PxwDsvzLJuC/N/9FmEkk4L84GdwgIBTJv74c+7enK/e/GfknouFO8b/9KMak8Ff+P25lpBPU7es/MpiKiqhE4r9MS8G5Vw/sP9s1u5n+4OM/2MXT0OZR4b+otcO8UdzwPyfWJ66Ydfi/Jew3NABY4D/U33eTKbvLP56eP6jymQLAGxbZB7yOwr9puxgP7UcBQAn5jYNwP+i/rQah/6xR4T9GIb1JIi/4v+yuz7oLrty/VFYTRDXZ7r+IcE4YC7qlv307tEpvudk/Ng3W5t772j8t5dfwUQroP9pTAqcUfOi/Zgw8A7XD6D/pj7y5CpoAQAaEcMdRsfw/aFUavnQu5L/Iu283vqntv8hCw2aOqdY/IB9XuntOvT/Cw/MyDH/eP2Cl3FDmyeS/5aHswUVh9z8=\",\"dtype\":\"float64\",\"shape\":[100]}},\"selected\":{\"id\":\"1058\",\"type\":\"Selection\"},\"selection_policy\":{\"id\":\"1059\",\"type\":\"UnionRenderers\"}},\"id\":\"1038\",\"type\":\"ColumnDataSource\"},{\"attributes\":{\"overlay\":{\"id\":\"1031\",\"type\":\"BoxAnnotation\"}},\"id\":\"1025\",\"type\":\"BoxZoomTool\"},{\"attributes\":{},\"id\":\"1055\",\"type\":\"BasicTickFormatter\"},{\"attributes\":{\"plot\":null,\"text\":\"Data\"},\"id\":\"1002\",\"type\":\"Title\"},{\"attributes\":{},\"id\":\"1026\",\"type\":\"SaveTool\"},{\"attributes\":{},\"id\":\"1014\",\"type\":\"BasicTicker\"},{\"attributes\":{},\"id\":\"1057\",\"type\":\"BasicTickFormatter\"},{\"attributes\":{},\"id\":\"1027\",\"type\":\"ResetTool\"},{\"attributes\":{},\"id\":\"1058\",\"type\":\"Selection\"},{\"attributes\":{},\"id\":\"1028\",\"type\":\"HelpTool\"},{\"attributes\":{},\"id\":\"1059\",\"type\":\"UnionRenderers\"},{\"attributes\":{\"callback\":null,\"end\":5.0,\"start\":-5.0},\"id\":\"1005\",\"type\":\"Range1d\"},{\"attributes\":{\"active_drag\":\"auto\",\"active_inspect\":\"auto\",\"active_multi\":null,\"active_scroll\":\"auto\",\"active_tap\":\"auto\",\"tools\":[{\"id\":\"1023\",\"type\":\"PanTool\"},{\"id\":\"1024\",\"type\":\"WheelZoomTool\"},{\"id\":\"1025\",\"type\":\"BoxZoomTool\"},{\"id\":\"1026\",\"type\":\"SaveTool\"},{\"id\":\"1027\",\"type\":\"ResetTool\"},{\"id\":\"1028\",\"type\":\"HelpTool\"}]},\"id\":\"1029\",\"type\":\"Toolbar\"},{\"attributes\":{},\"id\":\"1060\",\"type\":\"Selection\"},{\"attributes\":{\"data_source\":{\"id\":\"1038\",\"type\":\"ColumnDataSource\"},\"glyph\":{\"id\":\"1039\",\"type\":\"Circle\"},\"hover_glyph\":null,\"muted_glyph\":null,\"nonselection_glyph\":{\"id\":\"1040\",\"type\":\"Circle\"},\"selection_glyph\":null,\"view\":{\"id\":\"1042\",\"type\":\"CDSView\"}},\"id\":\"1041\",\"type\":\"GlyphRenderer\"},{\"attributes\":{\"callback\":null,\"end\":5.0,\"start\":-5.0},\"id\":\"1007\",\"type\":\"Range1d\"},{\"attributes\":{},\"id\":\"1061\",\"type\":\"UnionRenderers\"},{\"attributes\":{\"bottom_units\":\"screen\",\"fill_alpha\":{\"value\":0.5},\"fill_color\":{\"value\":\"lightgrey\"},\"left_units\":\"screen\",\"level\":\"overlay\",\"line_alpha\":{\"value\":1.0},\"line_color\":{\"value\":\"black\"},\"line_dash\":[4,4],\"line_width\":{\"value\":2},\"plot\":null,\"render_mode\":\"css\",\"right_units\":\"screen\",\"top_units\":\"screen\"},\"id\":\"1031\",\"type\":\"BoxAnnotation\"},{\"attributes\":{},\"id\":\"1009\",\"type\":\"LinearScale\"}],\"root_ids\":[\"1003\"]},\"title\":\"Bokeh Application\",\"version\":\"1.0.2\"}};\n",
       "  var render_items = [{\"docid\":\"ac7bf710-0d30-4cc4-ab7c-6bfe8c7741f4\",\"roots\":{\"1003\":\"15c1188b-b936-42dc-92df-378bc6f41f33\"}}];\n",
       "  root.Bokeh.embed.embed_items_notebook(docs_json, render_items);\n",
       "\n",
       "  }\n",
       "  if (root.Bokeh !== undefined) {\n",
       "    embed_document(root);\n",
       "  } else {\n",
       "    var attempts = 0;\n",
       "    var timer = setInterval(function(root) {\n",
       "      if (root.Bokeh !== undefined) {\n",
       "        embed_document(root);\n",
       "        clearInterval(timer);\n",
       "      }\n",
       "      attempts++;\n",
       "      if (attempts > 100) {\n",
       "        console.log(\"Bokeh: ERROR: Unable to run BokehJS code because BokehJS library is missing\");\n",
       "        clearInterval(timer);\n",
       "      }\n",
       "    }, 10, root)\n",
       "  }\n",
       "})(window);"
      ],
      "application/vnd.bokehjs_exec.v0+json": ""
     },
     "metadata": {
      "application/vnd.bokehjs_exec.v0+json": {
       "id": "1003"
      }
     },
     "output_type": "display_data"
    }
   ],
   "source": [
    "mean = np.zeros(2) \n",
    "cov = np.array([\n",
    "    [2, .95],\n",
    "    [.95, .9]\n",
    "])\n",
    "data = np.random.multivariate_normal(mean, cov, size=100)\n",
    "\n",
    "fig = figure(\n",
    "    title='Data',\n",
    "    width=400,\n",
    "    height=400,\n",
    "    x_range=(mean[0] - 5, mean[0] + 5),\n",
    "    y_range=(mean[1] - 5, mean[1] + 5)\n",
    ")\n",
    "fig.circle(data[:, 0], data[:, 1])\n",
    "plotting.plot_normal(fig, mean, cov, line_color='black', fill_alpha=.3)\n",
    "\n",
    "show(fig)"
   ]
  },
  {
   "cell_type": "markdown",
   "metadata": {},
   "source": [
    "## Model Creation\n",
    "\n",
    "We create two types of Normal distribution: one diagonal covariance matrix and another one with full covariance matrix."
   ]
  },
  {
   "cell_type": "code",
   "execution_count": 4,
   "metadata": {},
   "outputs": [
    {
     "data": {
      "text/plain": [
       "Normal(\n",
       "  (mean_precision): ConjugateBayesianParameter(prior=NormalGamma, posterior=NormalGamma)\n",
       ")"
      ]
     },
     "execution_count": 4,
     "metadata": {},
     "output_type": "execute_result"
    }
   ],
   "source": [
    "data_mean = torch.zeros(2) \n",
    "data_var = torch.ones(2)\n",
    "\n",
    "normal_iso = beer.Normal.create(data_mean, data_var, 1., cov_type='isotropic')\n",
    "normal_diag = beer.Normal.create(data_mean, data_var, 1., cov_type='diagonal')\n",
    "normal_full = beer.Normal.create(data_mean, data_var, 1., cov_type='full')\n",
    "\n",
    "models = {\n",
    "    'normal_full': normal_full,\n",
    "    'normal_diag': normal_diag,\n",
    "    'normal_iso': normal_iso\n",
    "}\n",
    "models['normal_diag']"
   ]
  },
  {
   "cell_type": "code",
   "execution_count": 5,
   "metadata": {},
   "outputs": [
    {
     "data": {
      "text/plain": [
       "NormalGamma(\n",
       "  (params): NormalGammaStdParams(mean=tensor([0., 0.]), scale=tensor(1.), shape=tensor(1.), rates=tensor([1., 1.]))\n",
       ")"
      ]
     },
     "execution_count": 5,
     "metadata": {},
     "output_type": "execute_result"
    }
   ],
   "source": [
    "model = models['normal_diag']\n",
    "model.mean_precision.prior"
   ]
  },
  {
   "cell_type": "code",
   "execution_count": 6,
   "metadata": {},
   "outputs": [
    {
     "data": {
      "text/plain": [
       "torch.Size([2])"
      ]
     },
     "execution_count": 6,
     "metadata": {},
     "output_type": "execute_result"
    }
   ],
   "source": [
    "model.mean_precision.posterior.params.mean.shape"
   ]
  },
  {
   "cell_type": "markdown",
   "metadata": {},
   "source": [
    "## Variational Bayes Training "
   ]
  },
  {
   "cell_type": "code",
   "execution_count": 7,
   "metadata": {},
   "outputs": [
    {
     "data": {
      "text/plain": [
       "torch.Size([1, 100, 2])"
      ]
     },
     "execution_count": 7,
     "metadata": {},
     "output_type": "execute_result"
    }
   ],
   "source": [
    "nbatches = 1\n",
    "X = torch.from_numpy(data).float()\n",
    "batches = X.view(nbatches, -1, 2)\n",
    "batches.shape"
   ]
  },
  {
   "cell_type": "code",
   "execution_count": 8,
   "metadata": {
    "scrolled": false
   },
   "outputs": [],
   "source": [
    "epochs = 10\n",
    "lrate = 1.\n",
    "\n",
    "\n",
    "optims = {\n",
    "    model_name: beer.VariationalBayesOptimizer(\n",
    "        model.mean_field_factorization(), lrate)\n",
    "    for model_name, model in models.items()\n",
    "}\n",
    "\n",
    "elbos = {\n",
    "    model_name: [] \n",
    "    for model_name in models\n",
    "}  \n",
    "\n",
    "\n",
    "for epoch in range(epochs):\n",
    "    for name, model in models.items():\n",
    "        batch_ids = list(range(len(batches)))\n",
    "        random.shuffle(batch_ids)\n",
    "        for batch_id in batch_ids:\n",
    "            batch = batches[batch_id]\n",
    "            \n",
    "            optim = optims[name]\n",
    "\n",
    "            optim.init_step()\n",
    "            elbo = beer.evidence_lower_bound(model, batch, datasize=len(X))\n",
    "            elbo.backward()\n",
    "            optim.step()\n",
    "            \n",
    "            elbo = beer.evidence_lower_bound(model, X)\n",
    "            elbos[name].append(float(elbo) / len(X))  "
   ]
  },
  {
   "cell_type": "code",
   "execution_count": 9,
   "metadata": {
    "scrolled": false
   },
   "outputs": [
    {
     "data": {
      "text/html": [
       "\n",
       "\n",
       "\n",
       "\n",
       "\n",
       "\n",
       "  <div class=\"bk-root\" id=\"e7446767-9dd6-4db8-ace9-f7fdc2ceca06\"></div>\n"
      ]
     },
     "metadata": {},
     "output_type": "display_data"
    },
    {
     "data": {
      "application/javascript": [
       "(function(root) {\n",
       "  function embed_document(root) {\n",
       "    \n",
       "  var docs_json = {\"57a7a97e-977b-4b9e-846a-a8a1d9ddd665\":{\"roots\":{\"references\":[{\"attributes\":{\"below\":[{\"id\":\"1148\",\"type\":\"LinearAxis\"}],\"left\":[{\"id\":\"1153\",\"type\":\"LinearAxis\"}],\"plot_height\":400,\"plot_width\":400,\"renderers\":[{\"id\":\"1148\",\"type\":\"LinearAxis\"},{\"id\":\"1152\",\"type\":\"Grid\"},{\"id\":\"1153\",\"type\":\"LinearAxis\"},{\"id\":\"1157\",\"type\":\"Grid\"},{\"id\":\"1166\",\"type\":\"BoxAnnotation\"},{\"id\":\"1184\",\"type\":\"Legend\"},{\"id\":\"1176\",\"type\":\"GlyphRenderer\"},{\"id\":\"1189\",\"type\":\"GlyphRenderer\"},{\"id\":\"1203\",\"type\":\"GlyphRenderer\"}],\"title\":{\"id\":\"1137\",\"type\":\"Title\"},\"toolbar\":{\"id\":\"1164\",\"type\":\"Toolbar\"},\"x_range\":{\"id\":\"1140\",\"type\":\"DataRange1d\"},\"x_scale\":{\"id\":\"1144\",\"type\":\"LinearScale\"},\"y_range\":{\"id\":\"1142\",\"type\":\"DataRange1d\"},\"y_scale\":{\"id\":\"1146\",\"type\":\"LinearScale\"}},\"id\":\"1138\",\"subtype\":\"Figure\",\"type\":\"Plot\"},{\"attributes\":{\"label\":{\"value\":\"normal_diag\"},\"renderers\":[{\"id\":\"1189\",\"type\":\"GlyphRenderer\"}]},\"id\":\"1199\",\"type\":\"LegendItem\"},{\"attributes\":{\"bottom_units\":\"screen\",\"fill_alpha\":{\"value\":0.5},\"fill_color\":{\"value\":\"lightgrey\"},\"left_units\":\"screen\",\"level\":\"overlay\",\"line_alpha\":{\"value\":1.0},\"line_color\":{\"value\":\"black\"},\"line_dash\":[4,4],\"line_width\":{\"value\":2},\"plot\":null,\"render_mode\":\"css\",\"right_units\":\"screen\",\"top_units\":\"screen\"},\"id\":\"1166\",\"type\":\"BoxAnnotation\"},{\"attributes\":{\"data_source\":{\"id\":\"1186\",\"type\":\"ColumnDataSource\"},\"glyph\":{\"id\":\"1187\",\"type\":\"Line\"},\"hover_glyph\":null,\"muted_glyph\":null,\"nonselection_glyph\":{\"id\":\"1188\",\"type\":\"Line\"},\"selection_glyph\":null,\"view\":{\"id\":\"1190\",\"type\":\"CDSView\"}},\"id\":\"1189\",\"type\":\"GlyphRenderer\"},{\"attributes\":{\"line_alpha\":0.1,\"line_color\":\"#1f77b4\",\"x\":{\"field\":\"x\"},\"y\":{\"field\":\"y\"}},\"id\":\"1202\",\"type\":\"Line\"},{\"attributes\":{},\"id\":\"1213\",\"type\":\"UnionRenderers\"},{\"attributes\":{},\"id\":\"1161\",\"type\":\"SaveTool\"},{\"attributes\":{\"plot\":null,\"text\":\"ELBO\"},\"id\":\"1137\",\"type\":\"Title\"},{\"attributes\":{},\"id\":\"1212\",\"type\":\"Selection\"},{\"attributes\":{\"source\":{\"id\":\"1200\",\"type\":\"ColumnDataSource\"}},\"id\":\"1204\",\"type\":\"CDSView\"},{\"attributes\":{\"data_source\":{\"id\":\"1200\",\"type\":\"ColumnDataSource\"},\"glyph\":{\"id\":\"1201\",\"type\":\"Line\"},\"hover_glyph\":null,\"muted_glyph\":null,\"nonselection_glyph\":{\"id\":\"1202\",\"type\":\"Line\"},\"selection_glyph\":null,\"view\":{\"id\":\"1204\",\"type\":\"CDSView\"}},\"id\":\"1203\",\"type\":\"GlyphRenderer\"},{\"attributes\":{},\"id\":\"1146\",\"type\":\"LinearScale\"},{\"attributes\":{\"active_drag\":\"auto\",\"active_inspect\":\"auto\",\"active_multi\":null,\"active_scroll\":\"auto\",\"active_tap\":\"auto\",\"tools\":[{\"id\":\"1158\",\"type\":\"PanTool\"},{\"id\":\"1159\",\"type\":\"WheelZoomTool\"},{\"id\":\"1160\",\"type\":\"BoxZoomTool\"},{\"id\":\"1161\",\"type\":\"SaveTool\"},{\"id\":\"1162\",\"type\":\"ResetTool\"},{\"id\":\"1163\",\"type\":\"HelpTool\"}]},\"id\":\"1164\",\"type\":\"Toolbar\"},{\"attributes\":{},\"id\":\"1149\",\"type\":\"BasicTicker\"},{\"attributes\":{\"label\":{\"value\":\"normal_iso\"},\"renderers\":[{\"id\":\"1203\",\"type\":\"GlyphRenderer\"}]},\"id\":\"1215\",\"type\":\"LegendItem\"},{\"attributes\":{\"axis_label\":\"step\",\"formatter\":{\"id\":\"1180\",\"type\":\"BasicTickFormatter\"},\"plot\":{\"id\":\"1138\",\"subtype\":\"Figure\",\"type\":\"Plot\"},\"ticker\":{\"id\":\"1149\",\"type\":\"BasicTicker\"}},\"id\":\"1148\",\"type\":\"LinearAxis\"},{\"attributes\":{\"line_alpha\":0.1,\"line_color\":\"#1f77b4\",\"x\":{\"field\":\"x\"},\"y\":{\"field\":\"y\"}},\"id\":\"1175\",\"type\":\"Line\"},{\"attributes\":{},\"id\":\"1158\",\"type\":\"PanTool\"},{\"attributes\":{\"data_source\":{\"id\":\"1173\",\"type\":\"ColumnDataSource\"},\"glyph\":{\"id\":\"1174\",\"type\":\"Line\"},\"hover_glyph\":null,\"muted_glyph\":null,\"nonselection_glyph\":{\"id\":\"1175\",\"type\":\"Line\"},\"selection_glyph\":null,\"view\":{\"id\":\"1177\",\"type\":\"CDSView\"}},\"id\":\"1176\",\"type\":\"GlyphRenderer\"},{\"attributes\":{},\"id\":\"1182\",\"type\":\"BasicTickFormatter\"},{\"attributes\":{\"items\":[{\"id\":\"1185\",\"type\":\"LegendItem\"},{\"id\":\"1199\",\"type\":\"LegendItem\"},{\"id\":\"1215\",\"type\":\"LegendItem\"}],\"location\":\"bottom_right\",\"plot\":{\"id\":\"1138\",\"subtype\":\"Figure\",\"type\":\"Plot\"}},\"id\":\"1184\",\"type\":\"Legend\"},{\"attributes\":{\"callback\":null},\"id\":\"1142\",\"type\":\"DataRange1d\"},{\"attributes\":{},\"id\":\"1163\",\"type\":\"HelpTool\"},{\"attributes\":{\"label\":{\"value\":\"normal_full\"},\"renderers\":[{\"id\":\"1176\",\"type\":\"GlyphRenderer\"}]},\"id\":\"1185\",\"type\":\"LegendItem\"},{\"attributes\":{\"overlay\":{\"id\":\"1166\",\"type\":\"BoxAnnotation\"}},\"id\":\"1160\",\"type\":\"BoxZoomTool\"},{\"attributes\":{\"line_color\":\"red\",\"x\":{\"field\":\"x\"},\"y\":{\"field\":\"y\"}},\"id\":\"1174\",\"type\":\"Line\"},{\"attributes\":{\"callback\":null,\"data\":{\"x\":[0,1,2,3,4,5,6,7,8,9],\"y\":[-3.294849853515625,-3.294849853515625,-3.294849853515625,-3.294849853515625,-3.294849853515625,-3.294849853515625,-3.294849853515625,-3.294849853515625,-3.294849853515625,-3.294849853515625]},\"selected\":{\"id\":\"1212\",\"type\":\"Selection\"},\"selection_policy\":{\"id\":\"1213\",\"type\":\"UnionRenderers\"}},\"id\":\"1186\",\"type\":\"ColumnDataSource\"},{\"attributes\":{\"plot\":{\"id\":\"1138\",\"subtype\":\"Figure\",\"type\":\"Plot\"},\"ticker\":{\"id\":\"1149\",\"type\":\"BasicTicker\"}},\"id\":\"1152\",\"type\":\"Grid\"},{\"attributes\":{},\"id\":\"1159\",\"type\":\"WheelZoomTool\"},{\"attributes\":{},\"id\":\"1162\",\"type\":\"ResetTool\"},{\"attributes\":{},\"id\":\"1238\",\"type\":\"UnionRenderers\"},{\"attributes\":{\"callback\":null},\"id\":\"1140\",\"type\":\"DataRange1d\"},{\"attributes\":{},\"id\":\"1237\",\"type\":\"Selection\"},{\"attributes\":{\"line_alpha\":0.1,\"line_color\":\"#1f77b4\",\"x\":{\"field\":\"x\"},\"y\":{\"field\":\"y\"}},\"id\":\"1188\",\"type\":\"Line\"},{\"attributes\":{},\"id\":\"1144\",\"type\":\"LinearScale\"},{\"attributes\":{\"axis_label\":\"ln p(X)\",\"formatter\":{\"id\":\"1182\",\"type\":\"BasicTickFormatter\"},\"plot\":{\"id\":\"1138\",\"subtype\":\"Figure\",\"type\":\"Plot\"},\"ticker\":{\"id\":\"1154\",\"type\":\"BasicTicker\"}},\"id\":\"1153\",\"type\":\"LinearAxis\"},{\"attributes\":{\"line_color\":\"blue\",\"x\":{\"field\":\"x\"},\"y\":{\"field\":\"y\"}},\"id\":\"1187\",\"type\":\"Line\"},{\"attributes\":{\"source\":{\"id\":\"1173\",\"type\":\"ColumnDataSource\"}},\"id\":\"1177\",\"type\":\"CDSView\"},{\"attributes\":{\"line_color\":\"green\",\"x\":{\"field\":\"x\"},\"y\":{\"field\":\"y\"}},\"id\":\"1201\",\"type\":\"Line\"},{\"attributes\":{},\"id\":\"1180\",\"type\":\"BasicTickFormatter\"},{\"attributes\":{\"dimension\":1,\"plot\":{\"id\":\"1138\",\"subtype\":\"Figure\",\"type\":\"Plot\"},\"ticker\":{\"id\":\"1154\",\"type\":\"BasicTicker\"}},\"id\":\"1157\",\"type\":\"Grid\"},{\"attributes\":{\"callback\":null,\"data\":{\"x\":[0,1,2,3,4,5,6,7,8,9],\"y\":[-3.3586614990234374,-3.3586614990234374,-3.3586614990234374,-3.3586614990234374,-3.3586614990234374,-3.3586614990234374,-3.3586614990234374,-3.3586614990234374,-3.3586614990234374,-3.3586614990234374]},\"selected\":{\"id\":\"1237\",\"type\":\"Selection\"},\"selection_policy\":{\"id\":\"1238\",\"type\":\"UnionRenderers\"}},\"id\":\"1200\",\"type\":\"ColumnDataSource\"},{\"attributes\":{\"source\":{\"id\":\"1186\",\"type\":\"ColumnDataSource\"}},\"id\":\"1190\",\"type\":\"CDSView\"},{\"attributes\":{},\"id\":\"1196\",\"type\":\"Selection\"},{\"attributes\":{},\"id\":\"1154\",\"type\":\"BasicTicker\"},{\"attributes\":{\"callback\":null,\"data\":{\"x\":[0,1,2,3,4,5,6,7,8,9],\"y\":[-2.961180419921875,-2.961180419921875,-2.961180419921875,-2.961180419921875,-2.961180419921875,-2.961180419921875,-2.961180419921875,-2.961180419921875,-2.961180419921875,-2.961180419921875]},\"selected\":{\"id\":\"1196\",\"type\":\"Selection\"},\"selection_policy\":{\"id\":\"1197\",\"type\":\"UnionRenderers\"}},\"id\":\"1173\",\"type\":\"ColumnDataSource\"},{\"attributes\":{},\"id\":\"1197\",\"type\":\"UnionRenderers\"}],\"root_ids\":[\"1138\"]},\"title\":\"Bokeh Application\",\"version\":\"1.0.2\"}};\n",
       "  var render_items = [{\"docid\":\"57a7a97e-977b-4b9e-846a-a8a1d9ddd665\",\"roots\":{\"1138\":\"e7446767-9dd6-4db8-ace9-f7fdc2ceca06\"}}];\n",
       "  root.Bokeh.embed.embed_items_notebook(docs_json, render_items);\n",
       "\n",
       "  }\n",
       "  if (root.Bokeh !== undefined) {\n",
       "    embed_document(root);\n",
       "  } else {\n",
       "    var attempts = 0;\n",
       "    var timer = setInterval(function(root) {\n",
       "      if (root.Bokeh !== undefined) {\n",
       "        embed_document(root);\n",
       "        clearInterval(timer);\n",
       "      }\n",
       "      attempts++;\n",
       "      if (attempts > 100) {\n",
       "        console.log(\"Bokeh: ERROR: Unable to run BokehJS code because BokehJS library is missing\");\n",
       "        clearInterval(timer);\n",
       "      }\n",
       "    }, 10, root)\n",
       "  }\n",
       "})(window);"
      ],
      "application/vnd.bokehjs_exec.v0+json": ""
     },
     "metadata": {
      "application/vnd.bokehjs_exec.v0+json": {
       "id": "1138"
      }
     },
     "output_type": "display_data"
    }
   ],
   "source": [
    "colors = {\n",
    "    'normal_iso': 'green',\n",
    "    'normal_diag': 'blue',\n",
    "    'normal_full': 'red',\n",
    "    \n",
    "}\n",
    "# Plot the ELBO.\n",
    "fig = figure(title='ELBO', width=400, height=400, x_axis_label='step',\n",
    "              y_axis_label='ln p(X)')\n",
    "for model_name, elbo in elbos.items():\n",
    "    fig.line(range(len(elbo)), elbo, legend=model_name, color=colors[model_name])\n",
    "fig.legend.location = 'bottom_right'\n",
    "\n",
    "show(fig)"
   ]
  },
  {
   "cell_type": "code",
   "execution_count": 10,
   "metadata": {
    "scrolled": false
   },
   "outputs": [
    {
     "data": {
      "text/html": [
       "\n",
       "\n",
       "\n",
       "\n",
       "\n",
       "\n",
       "  <div class=\"bk-root\" id=\"ee8060fe-8634-40d9-9bc7-7b2c84522019\"></div>\n"
      ]
     },
     "metadata": {},
     "output_type": "display_data"
    },
    {
     "data": {
      "application/javascript": [
       "(function(root) {\n",
       "  function embed_document(root) {\n",
       "    \n",
       "  var docs_json = {\"1676f478-788c-45c1-8878-ca67d5991c73\":{\"roots\":{\"references\":[{\"attributes\":{\"below\":[{\"id\":\"1321\",\"type\":\"LinearAxis\"}],\"left\":[{\"id\":\"1326\",\"type\":\"LinearAxis\"}],\"plot_height\":400,\"plot_width\":400,\"renderers\":[{\"id\":\"1321\",\"type\":\"LinearAxis\"},{\"id\":\"1325\",\"type\":\"Grid\"},{\"id\":\"1326\",\"type\":\"LinearAxis\"},{\"id\":\"1330\",\"type\":\"Grid\"},{\"id\":\"1339\",\"type\":\"BoxAnnotation\"},{\"id\":\"1349\",\"type\":\"GlyphRenderer\"},{\"id\":\"1354\",\"type\":\"GlyphRenderer\"},{\"id\":\"1359\",\"type\":\"GlyphRenderer\"},{\"id\":\"1364\",\"type\":\"GlyphRenderer\"},{\"id\":\"1369\",\"type\":\"GlyphRenderer\"},{\"id\":\"1374\",\"type\":\"GlyphRenderer\"},{\"id\":\"1379\",\"type\":\"GlyphRenderer\"}],\"title\":{\"id\":\"1405\",\"type\":\"Title\"},\"toolbar\":{\"id\":\"1337\",\"type\":\"Toolbar\"},\"x_range\":{\"id\":\"1313\",\"type\":\"Range1d\"},\"x_scale\":{\"id\":\"1317\",\"type\":\"LinearScale\"},\"y_range\":{\"id\":\"1315\",\"type\":\"Range1d\"},\"y_scale\":{\"id\":\"1319\",\"type\":\"LinearScale\"}},\"id\":\"1312\",\"subtype\":\"Figure\",\"type\":\"Plot\"},{\"attributes\":{\"plot\":null,\"text\":\"\"},\"id\":\"1405\",\"type\":\"Title\"},{\"attributes\":{\"data_source\":{\"id\":\"1361\",\"type\":\"ColumnDataSource\"},\"glyph\":{\"id\":\"1362\",\"type\":\"Patch\"},\"hover_glyph\":null,\"muted_glyph\":null,\"nonselection_glyph\":{\"id\":\"1363\",\"type\":\"Patch\"},\"selection_glyph\":null,\"view\":{\"id\":\"1365\",\"type\":\"CDSView\"}},\"id\":\"1364\",\"type\":\"GlyphRenderer\"},{\"attributes\":{\"overlay\":{\"id\":\"1339\",\"type\":\"BoxAnnotation\"}},\"id\":\"1333\",\"type\":\"BoxZoomTool\"},{\"attributes\":{},\"id\":\"1408\",\"type\":\"BasicTickFormatter\"},{\"attributes\":{\"source\":{\"id\":\"1361\",\"type\":\"ColumnDataSource\"}},\"id\":\"1365\",\"type\":\"CDSView\"},{\"attributes\":{},\"id\":\"1335\",\"type\":\"ResetTool\"},{\"attributes\":{},\"id\":\"1410\",\"type\":\"BasicTickFormatter\"},{\"attributes\":{\"callback\":null,\"data\":{\"x\":{\"__ndarray__\":\"swzGrWxYAMC0d9Ly5T3vP+X3nhdJ2eC/uLFoq6B0+T97mcU7PVUGQPYk6sxAUvM/4pnKynbdEEAb6ln+mfkDQOZ6wgIAMdc/qz8VezWHA0DXUpt/wlnaP47cWyR+MfC/MoLbZDXfzj+KH0LerP/2P+LgCipnSNK/8t5k5KDw4j8G30Rl8dEIwDohNT8NjY0/rI93vlON5T+gsLOckSUNwN367ZDcnfw/FMw0SipmyL8bTi625Mb8v8ppCOfNj+y/BPcPzN7f9T9oS4OVzzKhP15/m+rivNO/4+3E5ulD4r/swfBOE2nrvwLQEMClLADAtKrMQ2F3wL9wxgAskuvqvx8CrJcpXL2/A6wXDqRt8r/TNs2j2WHjP96ErIZ2c9S/+Zqbqcimwz+WbG3UXlryP211HRV2Bfc/IymTJPSm978Z2vm0K1/1v5s0FvQYAPQ/IfpiDHnc/r85OM8VN3T0P1d3/8NtSuo/3kJ1AX3M2z9BLNORwgEBwPCzG5vnNNQ/KCxeEMhM8T9GgLLmtBzwv8O9XY+Boe+/a/1pr2VT1L+l/KzXa94GwHAnpak6+vS/5N3Gv/6E8D/Z4LGLyuvQP1SPgRRpkuq/JqMUMkNK87/2M3LC14PWvww2UegXSsg/rGqDq4UC6782ZyQK+Ujgv17V1o4or+G/WhY9U2sm4z+I8XMSXH8GwCtQcvbeqPy/MxvOuRAR/r9G3F+4vkf1P4qXRQOSxvI/bUpVIFuG8r8DxYh5iFDZPzSJOVZxY6G/rv0lu/TW87/ElS8bnxEGQDCSy6CfN/+/tP7GIVuZ/b9GNj/quAv9vyti15hDJgXAcnjEl6vN4L/YgF5okwYLQFgQsxW68eq/aT/SOSsI6z+8+zyIKI0DwDx/Giu3LATAAJxayptt5L86pwc9jv7sP9RqUglyark/tMtXPe2IAsA00HVjaV3HvwisvU88gaI/aMcK3UF0+j/glW8uYu75P/nFF6IlVeI/PmYwgr3U5b9M42UEFm73vzPTnlDBccI/3zpS7f2C479eLNIA3IXJPxzyyZ9WwbO/4AfvhnH8AEA=\",\"dtype\":\"float64\",\"shape\":[100]},\"y\":{\"__ndarray__\":\"B1iFwW1d8b+2dckqakXMPz6FS+I3StW/kAtOhBsVor/R+tMbspH5PzmLV8/Vke4/qh3QSjZL9D/BWXFEusP7P1R3goU88bm/5lORv4vB2T8+dxvGfkDZPzS3pPkBfbM/SX41m55V5z8Z7M3Y7T/bP0G+g+PtKAJACDm1+YlD4D9Is/A3e8z9v1oojr1ujbW/CZRBUE2b6D//DAFdumUEwMTc5XJiC+g/VnFlgTUP57+/6Kj12BTiv5oke0TeP+o/N7NuHKej8D/sfgPP83DeP0psFm3v7MQ/f+S2YdhL3L+G13EK3LTUP/Z0Co4qjPq/yH9at3iStD+yJ4ZGMwzkvzbBf3SpiNS/QLWHUg9ffT90HKIwjh3iv3z5UwqLHqG/KyKNx6dW179K7IHfuejgv0Kq1LYLT+o/FjVbn5s96r8XVVz2cdD5vwhn475cLuc/2CUXCckR8r/4hgn/N0roP4a3FttJrds/hRD37QNV0r+aHGcHtgTcP1iE4B4kzdE/1v8aNNld1D+wpadMisOvv0n42mLJdeC/yvaHvqaX0r+wHU1De+7rv15vDC6lM/C/bWH0O51L6D+arJ0b2oPuP9DX/JyMIfu/VuIMaftj/r/aUbFxNGLmv+8OI71nP8k/z2IVW8A397/4vbjHrnG3PxwDsvzLJuC/N/9FmEkk4L84GdwgIBTJv74c+7enK/e/GfknouFO8b/9KMak8Ff+P25lpBPU7es/MpiKiqhE4r9MS8G5Vw/sP9s1u5n+4OM/2MXT0OZR4b+otcO8UdzwPyfWJ66Ydfi/Jew3NABY4D/U33eTKbvLP56eP6jymQLAGxbZB7yOwr9puxgP7UcBQAn5jYNwP+i/rQah/6xR4T9GIb1JIi/4v+yuz7oLrty/VFYTRDXZ7r+IcE4YC7qlv307tEpvudk/Ng3W5t772j8t5dfwUQroP9pTAqcUfOi/Zgw8A7XD6D/pj7y5CpoAQAaEcMdRsfw/aFUavnQu5L/Iu283vqntv8hCw2aOqdY/IB9XuntOvT/Cw/MyDH/eP2Cl3FDmyeS/5aHswUVh9z8=\",\"dtype\":\"float64\",\"shape\":[100]}},\"selected\":{\"id\":\"1411\",\"type\":\"Selection\"},\"selection_policy\":{\"id\":\"1412\",\"type\":\"UnionRenderers\"}},\"id\":\"1346\",\"type\":\"ColumnDataSource\"},{\"attributes\":{\"callback\":null,\"data\":{\"x\":{\"__ndarray__\":\"AAAA0IPj9D90TNdnKNf0P/BZIy8jsvQ/V/KJF5t09D9z2Jjb0B70P0Q9rroesfM/0fQIGvgr8z/4SGQL6Y/yPzUdn7mV3fE/G2QJvLkV8T8vkg1RJznwPypLCwKNke4/zNZIVCiL7D9MkOfsQWHqP7Ou/3kgFug/0Dy5ni2s5T9Yc5Fp8yXjP2uEhagZhuA/iGvkO8ae2z8WJDEyVQnWP2mcq+q/UdA/DHPcDBT8xD8unkv1UlGyP7jY2kx5Upa/DLbS7Iegvb/npJYJj9zKv2tSMutBcdO/gudSPb5q2b+DOW6Gc1TfvzDOVbUUlOK/B5IYWd9v5b+/NfLdlzrov2eEhWhO8eq/V3ORKSiR7b9mnlwvsQvwv1nX/5yqQPG/JMhzVjtm8r9laySKLnvzv5OlBeFgfvS/LpINscFu9b8ZZAkcVEv2vzQdnxkwE/e/90hka4PF97/R9Ah6kmH4v0Q9rhq55vi/ctiYO2tU+b9X8ol3Nar5v+9ZI4+95/m/dEzXx8IM+r8AAAAwHhn6vwAAADAeGfq/dEzXx8IM+r/vWSOPvef5v1fyiXc1qvm/ctiYO2tU+b9EPa4aueb4v9H0CHqSYfi/90hka4PF9780HZ8ZMBP3vxlkCRxUS/a/LpINscFu9b+TpQXhYH70v2VrJIoue/O/JMhzVjtm8r9Z1/+cqkDxv2aeXC+xC/C/V3ORKSiR7b9nhIVoTvHqv7818t2XOui/B5IYWd9v5b8wzlW1FJTiv4M5boZzVN+/gudSPb5q2b9rUjLrQXHTv+eklgmP3Mq/DLbS7Iegvb+42NpMeVKWvy6eS/VSUbI/DHPcDBT8xD9pnKvqv1HQPxYkMTJVCdY/iGvkO8ae2z9rhIWoGYbgP1hzkWnzJeM/0Dy5ni2s5T+zrv95IBboP0yQ5+xBYeo/zNZIVCiL7D8qSwsCjZHuPy+SDVEnOfA/G2QJvLkV8T81HZ+5ld3xP/hIZAvpj/I/0fQIGvgr8z9EPa66HrHzP3PYmNvQHvQ/V/KJF5t09D/wWSMvI7L0P3RM12co1/Q/AAAA0IPj9D8=\",\"dtype\":\"float64\",\"shape\":[100]},\"y\":{\"__ndarray__\":\"AAAAoPdFkL8wUhh3cfinP+DiLR8M+bs/QiRuYxXqxT+IrdBVc77NP9up37GxuNI/WftjGmZ91j+ASQwQYCnaP//GzsHCuN0/Mk8ZueeT4D9yCu+zdDniP5YLLt1My+M/nu+Me8lH5T/bnWNNWq3mPwvxuC2H+uc/q/fyn/Et6T8PjIlAVkbqP1VpNxmOQus/H99D148h7D8Xu57icOLsP7vLqFRmhO0/Y2GlzcUG7j/bRPQnBmnuP6GZVwjAqu4/4eatSq7L7j/h5q1KrsvuP6GZVwjAqu4/20T0JwZp7j9jYaXNxQbuP7zLqFRmhO0/GLue4nDi7D8g30PXjyHsP1ZpNxmOQus/EIyJQFZG6j+t9/Kf8S3pPwzxuC2H+uc/3Z1jTVqt5j+f74x7yUflP5kLLt1My+M/dArvs3Q54j82Txm555PgPwTHzsHCuN0/gkkMEGAp2j9g+2MaZn3WP9+p37GxuNI/mK3QVXO+zT9LJG5jFerFPwTjLR8M+bs/XlIYd3H4pz/d//+f90WQvyMAAKD3RZC/LymMizQftL+C8Zb3Aw7Cv0skbkuT+8m/zFbonvjn0L/fqd+lcMHUv2D7Yw4lhti/gkkMBB8y3L8Ex861gcHfvzZPGTNHmOG/dArvLdQ947+ZCy5XrM/kv5/vjPUoTOa/3Z1jx7mx578M8bin5v7ov6338hlRMuq/EIyJurVK679WaTeT7UbsvyDfQ1HvJe2/GLueXNDm7b+8y6jOxYjuv2NhpUclC++/20T0oWVt77+hmVeCH6/vv+HmrcQN0O+/4eatxA3Q77+hmVeCH6/vv9tE9KFlbe+/Y2GlRyUL77+7y6jOxYjuvxe7nlzQ5u2/H99DUe8l7b9VaTeT7Ubsvw+Mibq1Suu/q/fyGVEy6r8L8bin5v7ov9udY8e5see/nu+M9ShM5r+WCy5XrM/kv3IK7y3UPeO/Mk8ZM0eY4b//xs61gcHfv4BJDAQfMty/WftjDiWG2L/bqd+lcMHUv8RW6J7459C/QiRuS5P7yb9w8Zb3Aw7CvxgpjIs0H7S/AAAAoPdFkL8=\",\"dtype\":\"float64\",\"shape\":[100]}},\"selected\":{\"id\":\"1419\",\"type\":\"Selection\"},\"selection_policy\":{\"id\":\"1420\",\"type\":\"UnionRenderers\"}},\"id\":\"1366\",\"type\":\"ColumnDataSource\"},{\"attributes\":{},\"id\":\"1336\",\"type\":\"HelpTool\"},{\"attributes\":{},\"id\":\"1411\",\"type\":\"Selection\"},{\"attributes\":{\"callback\":null,\"end\":5,\"start\":-5},\"id\":\"1313\",\"type\":\"Range1d\"},{\"attributes\":{\"fill_alpha\":0.3,\"fill_color\":\"#98AFC7\",\"x\":{\"field\":\"x\"},\"y\":{\"field\":\"y\"}},\"id\":\"1367\",\"type\":\"Patch\"},{\"attributes\":{\"active_drag\":\"auto\",\"active_inspect\":\"auto\",\"active_multi\":null,\"active_scroll\":\"auto\",\"active_tap\":\"auto\",\"tools\":[{\"id\":\"1331\",\"type\":\"PanTool\"},{\"id\":\"1332\",\"type\":\"WheelZoomTool\"},{\"id\":\"1333\",\"type\":\"BoxZoomTool\"},{\"id\":\"1334\",\"type\":\"SaveTool\"},{\"id\":\"1335\",\"type\":\"ResetTool\"},{\"id\":\"1336\",\"type\":\"HelpTool\"}]},\"id\":\"1337\",\"type\":\"Toolbar\"},{\"attributes\":{\"data_source\":{\"id\":\"1346\",\"type\":\"ColumnDataSource\"},\"glyph\":{\"id\":\"1347\",\"type\":\"Circle\"},\"hover_glyph\":null,\"muted_glyph\":null,\"nonselection_glyph\":{\"id\":\"1348\",\"type\":\"Circle\"},\"selection_glyph\":null,\"view\":{\"id\":\"1350\",\"type\":\"CDSView\"}},\"id\":\"1349\",\"type\":\"GlyphRenderer\"},{\"attributes\":{},\"id\":\"1412\",\"type\":\"UnionRenderers\"},{\"attributes\":{\"callback\":null,\"end\":5,\"start\":-5},\"id\":\"1315\",\"type\":\"Range1d\"},{\"attributes\":{\"fill_alpha\":0.1,\"fill_color\":\"#1f77b4\",\"line_alpha\":0.1,\"line_color\":\"#1f77b4\",\"x\":{\"field\":\"x\"},\"y\":{\"field\":\"y\"}},\"id\":\"1368\",\"type\":\"Patch\"},{\"attributes\":{\"bottom_units\":\"screen\",\"fill_alpha\":{\"value\":0.5},\"fill_color\":{\"value\":\"lightgrey\"},\"left_units\":\"screen\",\"level\":\"overlay\",\"line_alpha\":{\"value\":1.0},\"line_color\":{\"value\":\"black\"},\"line_dash\":[4,4],\"line_width\":{\"value\":2},\"plot\":null,\"render_mode\":\"css\",\"right_units\":\"screen\",\"top_units\":\"screen\"},\"id\":\"1339\",\"type\":\"BoxAnnotation\"},{\"attributes\":{},\"id\":\"1413\",\"type\":\"Selection\"},{\"attributes\":{\"data_source\":{\"id\":\"1366\",\"type\":\"ColumnDataSource\"},\"glyph\":{\"id\":\"1367\",\"type\":\"Patch\"},\"hover_glyph\":null,\"muted_glyph\":null,\"nonselection_glyph\":{\"id\":\"1368\",\"type\":\"Patch\"},\"selection_glyph\":null,\"view\":{\"id\":\"1370\",\"type\":\"CDSView\"}},\"id\":\"1369\",\"type\":\"GlyphRenderer\"},{\"attributes\":{},\"id\":\"1317\",\"type\":\"LinearScale\"},{\"attributes\":{\"source\":{\"id\":\"1346\",\"type\":\"ColumnDataSource\"}},\"id\":\"1350\",\"type\":\"CDSView\"},{\"attributes\":{},\"id\":\"1414\",\"type\":\"UnionRenderers\"},{\"attributes\":{\"source\":{\"id\":\"1366\",\"type\":\"ColumnDataSource\"}},\"id\":\"1370\",\"type\":\"CDSView\"},{\"attributes\":{\"formatter\":{\"id\":\"1408\",\"type\":\"BasicTickFormatter\"},\"plot\":{\"id\":\"1312\",\"subtype\":\"Figure\",\"type\":\"Plot\"},\"ticker\":{\"id\":\"1322\",\"type\":\"BasicTicker\"}},\"id\":\"1321\",\"type\":\"LinearAxis\"},{\"attributes\":{\"fill_alpha\":0.1,\"fill_color\":\"#1f77b4\",\"line_alpha\":0.1,\"line_color\":\"#1f77b4\",\"x\":{\"field\":\"x\"},\"y\":{\"field\":\"y\"}},\"id\":\"1353\",\"type\":\"Patch\"},{\"attributes\":{},\"id\":\"1415\",\"type\":\"Selection\"},{\"attributes\":{\"callback\":null,\"data\":{\"x\":{\"__ndarray__\":\"AAAA6JyyAkCT2l3iF6gCQBc7auKTiAJAq25ZDzJUAkAcDsGDKQsCQMhxoBPHrQFAzcSO+2w8AUBZvGN5krcAQAWpx07DHwBAYK1dXD7r/j/0xbUlsnP9P1iHJQlt2vs/1hqvjx0h+j/AI+H2k0n4P9UaekjAVfY/TYWYULBH9D8c9Jx0jSHyP5BNB9o0y+8/TG80yWEs6z8oeyP/fWvmP/5nDpqJjeE/jojKlkYv2T+WdArUCzzOP+ppA1+hx7M/ceVgz3optb8ojU+YFRjPv2vawNdRyNm/Hp0CtTf64b9ERGUL2ALnv/ZnDlq++Ou/kL2RX1lr8L+iN5pEy8vyv8SmA800G/W/G/Sc1CdX979LhZiwSn35v9Qaeqhai/u/vCPhVi5//b/VGq/vt1b/v6vDkrQDiADA+OLaQqZUAcCu1i5ebBACwASpx36QugLAWLxjqV9SA8DNxI4rOtcDwMhxoEOUSATAHA7Bs/alBMCrblk//+4EwBY7ahJhIwXAk9pdEuVCBcAAAAAYak0FwAAAABhqTQXAk9pdEuVCBcAWO2oSYSMFwKtuWT//7gTAHA7Bs/alBMDIcaBDlEgEwM3Ejis61wPAWLxjqV9SA8AEqcd+kLoCwK7WLl5sEALA+OLaQqZUAcCrw5K0A4gAwNUar++3Vv+/vCPhVi5//b/UGnqoWov7v0uFmLBKffm/G/Sc1CdX97/EpgPNNBv1v6I3mkTLy/K/kL2RX1lr8L/2Zw5avvjrv0REZQvYAue/Hp0CtTf64b9r2sDXUcjZvyiNT5gVGM+/ceVgz3optb/qaQNfocezP5Z0CtQLPM4/jojKlkYv2T/+Zw6aiY3hPyh7I/99a+Y/TG80yWEs6z+QTQfaNMvvPxz0nHSNIfI/TYWYULBH9D/VGnpIwFX2P8Aj4faTSfg/1hqvjx0h+j9YhyUJbdr7P/TFtSWyc/0/YK1dXD7r/j8FqcdOwx8AQFm8Y3mStwBAzcSO+2w8AUDIcaATx60BQBwOwYMpCwJAq25ZDzJUAkAXO2rik4gCQJPaXeIXqAJAAAAA6JyyAkA=\",\"dtype\":\"float64\",\"shape\":[100]},\"y\":{\"__ndarray__\":\"AAAAoPdFkL+6bteI5nfCP1AOtlR9cdM/uujcYIGR3T9T15ZbrMjjP5cIUj8/s+g/9fXWY02D7T/RE2xb4xnxP7Pcdi/eX/M/TEMG9jKR9T97hcovk6v3P0Z+V4PIrPk/4lrrELeS+z98fFuqX1v9P3cX0uzhBP8/+XATHb9GAEBym9/Hy/kAQDwrg5zamgFAEVzaLUIpAkAdyCKubKQCQPzGkYzYCwNAd6Kg/RhfA0DHP39t1p0DQGjYNNzOxwNAWtgNI9bcA0Ba2A0j1twDQGjYNNzOxwNAxz9/bdadA0B3oqD9GF8DQP3GkYzYCwNAHsgirmykAkASXNotQikCQD0rg5zamgFAc5vfx8v5AED6cBMdv0YAQHgX0uzhBP8/fnxbql9b/T/kWusQt5L7P0l+V4PIrPk/fYXKL5Or9z9RQwb2MpH1P7bcdi/eX/M/0hNsW+MZ8T/+9dZjTYPtP5wIUj8/s+g/XdeWW6zI4z/F6NxggZHdP2cOtlR9cdM/1m7XiOZ3wj+o//+f90WQv1gAAKD3RZC/1m7XcGSJxr9nDrZIPHrVv8Xo3FRAmt+/XdeW1QvN5L+cCFK5nrfpv/711t2sh+6/0hNsGBOc8b+23HbsDeLzv1FDBrNiE/a/fYXK7MIt+L9JfldA+C76v+Ra683mFPy/fnxbZ4/d/b94F9KpEYf/v/pwk/vWhwDAc5tfpuM6AcA9KwN78tsBwBJcWgxaagLAHsiijITlAsD9xhFr8EwDwHeiINwwoAPAxz//S+7eA8Bo2LS65ggEwFrYjQHuHQTAWtiNAe4dBMBo2LS65ggEwMc//0vu3gPAd6Ig3DCgA8D8xhFr8EwDwB3IooyE5QLAEVxaDFpqAsA8KwN78tsBwHKbX6bjOgHA+XCT+9aHAMB3F9KpEYf/v3x8W2eP3f2/4lrrzeYU/L9GfldA+C76v3uFyuzCLfi/TEMGs2IT9r+z3HbsDeLzv9ETbBgTnPG/9fXW3ayH7r+XCFK5nrfpv1PXltULzeS/uujcVECa379QDrZIPHrVv7pu13Bkica/AAAAoPdFkL8=\",\"dtype\":\"float64\",\"shape\":[100]}},\"selected\":{\"id\":\"1413\",\"type\":\"Selection\"},\"selection_policy\":{\"id\":\"1414\",\"type\":\"UnionRenderers\"}},\"id\":\"1351\",\"type\":\"ColumnDataSource\"},{\"attributes\":{},\"id\":\"1416\",\"type\":\"UnionRenderers\"},{\"attributes\":{},\"id\":\"1319\",\"type\":\"LinearScale\"},{\"attributes\":{\"fill_alpha\":0.3,\"fill_color\":\"#C7B097\",\"x\":{\"field\":\"x\"},\"y\":{\"field\":\"y\"}},\"id\":\"1372\",\"type\":\"Patch\"},{\"attributes\":{\"data_source\":{\"id\":\"1351\",\"type\":\"ColumnDataSource\"},\"glyph\":{\"id\":\"1352\",\"type\":\"Patch\"},\"hover_glyph\":null,\"muted_glyph\":null,\"nonselection_glyph\":{\"id\":\"1353\",\"type\":\"Patch\"},\"selection_glyph\":null,\"view\":{\"id\":\"1355\",\"type\":\"CDSView\"}},\"id\":\"1354\",\"type\":\"GlyphRenderer\"},{\"attributes\":{},\"id\":\"1334\",\"type\":\"SaveTool\"},{\"attributes\":{},\"id\":\"1417\",\"type\":\"Selection\"},{\"attributes\":{},\"id\":\"1322\",\"type\":\"BasicTicker\"},{\"attributes\":{\"fill_alpha\":0.1,\"fill_color\":\"#1f77b4\",\"line_alpha\":0.1,\"line_color\":\"#1f77b4\",\"x\":{\"field\":\"x\"},\"y\":{\"field\":\"y\"}},\"id\":\"1373\",\"type\":\"Patch\"},{\"attributes\":{\"source\":{\"id\":\"1351\",\"type\":\"ColumnDataSource\"}},\"id\":\"1355\",\"type\":\"CDSView\"},{\"attributes\":{},\"id\":\"1418\",\"type\":\"UnionRenderers\"},{\"attributes\":{\"plot\":{\"id\":\"1312\",\"subtype\":\"Figure\",\"type\":\"Plot\"},\"ticker\":{\"id\":\"1322\",\"type\":\"BasicTicker\"}},\"id\":\"1325\",\"type\":\"Grid\"},{\"attributes\":{\"data_source\":{\"id\":\"1371\",\"type\":\"ColumnDataSource\"},\"glyph\":{\"id\":\"1372\",\"type\":\"Patch\"},\"hover_glyph\":null,\"muted_glyph\":null,\"nonselection_glyph\":{\"id\":\"1373\",\"type\":\"Patch\"},\"selection_glyph\":null,\"view\":{\"id\":\"1375\",\"type\":\"CDSView\"}},\"id\":\"1374\",\"type\":\"GlyphRenderer\"},{\"attributes\":{\"callback\":null,\"data\":{\"x\":{\"__ndarray__\":\"AAAAUDZl8T+T2l1KsVrxPxc7akotO/E/q25Zd8sG8T8cDsHrwr3wP8hxoHtgYPA/mokdxwze7z+yeMfCV9TuPwpSj225pO0/YK1dLHFQ7D/0xbX15NjqP1iHJdmfP+k/1hqvX1CG5z/AI+HGxq7lP9UaehjzuuM/TYWYIOOs4T846DmJgA3fP5BNB3qaldo/TG80acf21T8oeyOf4zXRP/zPHHTer8g/HBGVrSOIvT8s6RSoRMuiPxaW/KAx5aW/uHKw5yZrv7+UxieMP/fJvzZt4EvDGdK/Hp0CFdIv179ERGVrcjjcv/szB10sl+C/kL2RjyYG47+iN5p0mGblv8SmA/0Btue/G/ScBPXx6b9LhZjgFxjsv9QaetgnJu6/3pFww/0M8L9qjdePwvjwv6vDkkxq1fG/+OLa2gyi8r+u1i720l3zvwSpxxb3B/S/WLxjQcaf9L/NxI7DoCT1v8hxoNv6lfW/HA7BS13z9b+rblnXZTz2vxY7aqrHcPa/k9pdqkuQ9r8AAACw0Jr2vwAAALDQmva/k9pdqkuQ9r8WO2qqx3D2v6tuWddlPPa/HA7BS13z9b/IcaDb+pX1v83EjsOgJPW/WLxjQcaf9L8EqccW9wf0v67WLvbSXfO/+OLa2gyi8r+rw5JMatXxv2qN14/C+PC/3pFww/0M8L/UGnrYJybuv0uFmOAXGOy/G/ScBPXx6b/EpgP9Abbnv6I3mnSYZuW/kL2RjyYG47/7MwddLJfgv0REZWtyONy/Hp0CFdIv1782beBLwxnSv5TGJ4w/98m/uHKw5yZrv78WlvygMeWlvyzpFKhEy6I/HBGVrSOIvT/8zxx03q/IPyh7I5/jNdE/TG80acf21T+QTQd6mpXaPzjoOYmADd8/TYWYIOOs4T/VGnoY87rjP8Aj4cbGruU/1hqvX1CG5z9YhyXZnz/pP/TFtfXk2Oo/YK1dLHFQ7D8KUo9tuaTtP7J4x8JX1O4/mokdxwze7z/IcaB7YGDwPxwOwevCvfA/q25Zd8sG8T8XO2pKLTvxP5PaXUqxWvE/AAAAUDZl8T8=\",\"dtype\":\"float64\",\"shape\":[100]},\"y\":{\"__ndarray__\":\"AAAAoPdFkL+6bteUJ2+wP1AOttodbcI/uujc5iGNzD9T15aefEbTP5cIUoIPMdg/9fXWph0B3T/RE+x8y9jgP7Pc9lDGHuM/TEOGFxtQ5T97hUpRe2rnP0Z+16Swa+k/4lprMp9R6z98fNvLRxrtP3cXUg7Kw+4/+XDTLTMm8D9ym5/YP9nwPzwrQ61OevE/EVyaPrYI8j8dyOK+4IPyP/zGUZ1M6/I/d6JgDo0+8z/HPz9+Sn3zP2jY9OxCp/M/WtjNM0q88z9a2M0zSrzzP2jY9OxCp/M/xz8/fkp98z93omAOjT7zP/3GUZ1M6/I/HsjivuCD8j8SXJo+tgjyPz0rQ61OevE/c5uf2D/Z8D/6cNMtMybwP3gXUg7Kw+4/fnzby0ca7T/kWmsyn1HrP0l+16Swa+k/fYVKUXtq5z9RQ4YXG1DlP7bc9lDGHuM/0hPsfMvY4D/+9damHQHdP5wIUoIPMdg/XdeWnnxG0z/F6NzmIY3MP2cOttodbcI/1m7XlCdvsD/U//+f90WQvywAAKD3RZC/1m7XZCOSuL9nDrbCm37Gv2J0budPT9C/XdeWkjtP1b+cCFJ2zjnav/711prcCd+/0hPs9ird4b+23PbKJSPkv1FDhpF6VOa/fYVKy9pu6L9JftceEHDqv+Raa6z+Vey/fnzbRace7r94F1KIKcjvv/pw0+piqPC/c5uflW9b8b89K0NqfvzxvxJcmvvlivK/HsjiexAG87/9xlFafG3zv3eiYMu8wPO/xz8/O3r/879o2PSpcin0v1rYzfB5PvS/WtjN8Hk+9L9o2PSpcin0v8c/Pzt6//O/d6Jgy7zA87/8xlFafG3zvx3I4nsQBvO/EVya++WK8r88K0Nqfvzxv3Kbn5VvW/G/+XDT6mKo8L93F1KIKcjvv3x820WnHu6/4lprrP5V7L9GftceEHDqv3uFSsvabui/TEOGkXpU5r+z3PbKJSPkv9ET7PYq3eG/9fXWmtwJ37+XCFJ2zjnav1PXlpI7T9W/XXRu509P0L9QDrbCm37Gv7pu12Qjkri/AAAAoPdFkL8=\",\"dtype\":\"float64\",\"shape\":[100]}},\"selected\":{\"id\":\"1415\",\"type\":\"Selection\"},\"selection_policy\":{\"id\":\"1416\",\"type\":\"UnionRenderers\"}},\"id\":\"1356\",\"type\":\"ColumnDataSource\"},{\"attributes\":{\"fill_alpha\":0.3,\"fill_color\":\"green\",\"x\":{\"field\":\"x\"},\"y\":{\"field\":\"y\"}},\"id\":\"1357\",\"type\":\"Patch\"},{\"attributes\":{},\"id\":\"1419\",\"type\":\"Selection\"},{\"attributes\":{\"formatter\":{\"id\":\"1410\",\"type\":\"BasicTickFormatter\"},\"plot\":{\"id\":\"1312\",\"subtype\":\"Figure\",\"type\":\"Plot\"},\"ticker\":{\"id\":\"1327\",\"type\":\"BasicTicker\"}},\"id\":\"1326\",\"type\":\"LinearAxis\"},{\"attributes\":{\"source\":{\"id\":\"1371\",\"type\":\"ColumnDataSource\"}},\"id\":\"1375\",\"type\":\"CDSView\"},{\"attributes\":{\"fill_alpha\":0.1,\"fill_color\":\"#1f77b4\",\"line_alpha\":0.1,\"line_color\":\"#1f77b4\",\"x\":{\"field\":\"x\"},\"y\":{\"field\":\"y\"}},\"id\":\"1358\",\"type\":\"Patch\"},{\"attributes\":{},\"id\":\"1420\",\"type\":\"UnionRenderers\"},{\"attributes\":{},\"id\":\"1327\",\"type\":\"BasicTicker\"},{\"attributes\":{\"callback\":null,\"data\":{\"x\":{\"__ndarray__\":\"AAAAEITj9D/OorWnKNf0P8LWnG4jsvQ/1s9bVpt09D8pAYEZ0R70P5WRa/cesfM/e49bVfgr8z9Mwg1F6Y/yP7zMYvGV3fE/ZqCs8bkV8T+M7leEJznwP9JagmONke4/5rU7sCiL7D/shPVCQmHqPz0yzskgFug/NFv05y2s5T9kI+yr8yXjP9L4ueMZhuA/HE2Eo8ae2z80/JqKVQnWPzBpgjPAUdA/mLbKfhT8xD/UxbmYU1GyP/hni8N3Upa/F5UAzIegvb9itf8Zj9zKv3dJxwNCcdO/bHEuZr5q2b9JW2W/c1Tfv5Q0wdkUlOK/Fn5Nhd9v5b+JJsIRmDrov874uaNO8eq/YiPsayiR7b+ZLfpTsQvwvx4Z58SqQPG/dMJ6gTtm8r/y2h24Lnvzv2gtwRFhfvS/iu5X5MFu9b9koKxRVEv2v7rMYlEwE/e/S8INpYPF9796j1u1kmH4v5WRa1e55vi/KQGBeWtU+b/Wz1u2Nar5v8LWnM695/m/zqK1B8MM+r8AAABwHhn6vwAAAHAeGfq/zqK1B8MM+r/C1pzOvef5v9bPW7Y1qvm/KQGBeWtU+b+VkWtXueb4v3qPW7WSYfi/S8INpYPF97+6zGJRMBP3v2SgrFFUS/a/iu5X5MFu9b9oLcERYX70v/LaHbgue/O/dMJ6gTtm8r8eGefEqkDxv5kt+lOxC/C/YiPsayiR7b/O+LmjTvHqv4kmwhGYOui/Fn5Nhd9v5b+UNMHZFJTiv0lbZb9zVN+/bHEuZr5q2b93SccDQnHTv2K1/xmP3Mq/F5UAzIegvb/4Z4vDd1KWv9TFuZhTUbI/mLbKfhT8xD8waYIzwFHQPzT8mopVCdY/HE2Eo8ae2z/S+LnjGYbgP2Qj7KvzJeM/NFv05y2s5T89Ms7JIBboP+yE9UJCYeo/5rU7sCiL7D/SWoJjjZHuP4zuV4QnOfA/ZqCs8bkV8T+8zGLxld3xP0zCDUXpj/I/e49bVfgr8z+VkWv3HrHzPykBgRnRHvQ/1s9bVpt09D/C1pxuI7L0P86itaco1/Q/AAAAEITj9D8=\",\"dtype\":\"float64\",\"shape\":[100]},\"y\":{\"__ndarray__\":\"AAAA45DB5T+oEah/KR/nP9w9x3HmY+g/zw/sHHKO6T8FLFJykp3qP2KDQjsqkOs/FM4bRTpl7D8Mr8dt4hvtP+UXgo9is+0/uOX6Shsr7j+NFP2ujoLuPyos67xgue4/qIeFyVfP7j8gqpS5XMTuP1bPNxp7mO4/Xia+FOFL7j+5fhc+397tPxB9D0LoUe0/DoSsapCl7D/BNjEEjdrrPzOuZJ6z8eo/pALqK/nr6T9QfZMAccroP92CwK9Ljuc/POX2y9U45j9aqQiJdsvkP3NINkKuR+M/A+3a5RSv4T8gAUxIWAPgP8T1Xr90jNw/cB1J1R7z2D/XbmEHeD7VP/187kZmctE/hClOT9Alyz80ePlXIUjDP9i3nu8LqLY/MJxoq+COmj+wrFF8vteiv1RhvxHVdbm/WJ1dAaW0xL8MhhI4u5rMv5DmAwNvMtK/mI+81W0F1r+msUk3VMLZvwL7GYkzZd2/rDbwRhx14L9kgNm31ybiv+0VkNIDxuO/eDaR2OtQ5b////9c8MXmvwEAAF3wxea/qhGo+Ygj6L/fPcfrRWjpv9AP7JbRkuq/CCxS7PGh679jg0K1iZTsvxXOG7+Zae2/DK/H50Eg7r/mF4IJwrfuv7nl+sR6L++/jBT9KO6G778sLOs2wL3vv6iHhUO30++/IKqUM7zI779XzzeU2pzvv18mvo5AUO+/uX4XuD7j7r8QfQ+8R1buvwyErOTvqe2/wDYxfuze7L8yrmQYE/brv6QC6qVY8Oq/TX2TetDO6b/bgsApq5Lovzrl9kU1Pee/WKkIA9bP5b9xSDa8DUzkvwDt2l90s+K/IAFMwrcH4b++9V6zM5Xev2odScnd+9q/0W5h+zZH17/3fO46JXvTv3wpTjdON8+/Jnj5P59Zx7/Mt56/B8u+v9hNtPVnja2/AGaN4jaOdD9sYb9B2VKxP2SdXRkno8A/HoYSUD2JyD+W5gMPsCnQP5mPvOGu/NM/rLFJQ5W51z8F+xmVdFzbP15t4Jl54d4/ZYDZPXgi4T/wFZBYpMHiP3o2kV6MTOQ/AAAA45DB5T8=\",\"dtype\":\"float64\",\"shape\":[100]}},\"selected\":{\"id\":\"1423\",\"type\":\"Selection\"},\"selection_policy\":{\"id\":\"1424\",\"type\":\"UnionRenderers\"}},\"id\":\"1376\",\"type\":\"ColumnDataSource\"},{\"attributes\":{\"data_source\":{\"id\":\"1356\",\"type\":\"ColumnDataSource\"},\"glyph\":{\"id\":\"1357\",\"type\":\"Patch\"},\"hover_glyph\":null,\"muted_glyph\":null,\"nonselection_glyph\":{\"id\":\"1358\",\"type\":\"Patch\"},\"selection_glyph\":null,\"view\":{\"id\":\"1360\",\"type\":\"CDSView\"}},\"id\":\"1359\",\"type\":\"GlyphRenderer\"},{\"attributes\":{},\"id\":\"1421\",\"type\":\"Selection\"},{\"attributes\":{\"dimension\":1,\"plot\":{\"id\":\"1312\",\"subtype\":\"Figure\",\"type\":\"Plot\"},\"ticker\":{\"id\":\"1327\",\"type\":\"BasicTicker\"}},\"id\":\"1330\",\"type\":\"Grid\"},{\"attributes\":{\"fill_alpha\":0.3,\"fill_color\":\"#C7B097\",\"x\":{\"field\":\"x\"},\"y\":{\"field\":\"y\"}},\"id\":\"1377\",\"type\":\"Patch\"},{\"attributes\":{\"source\":{\"id\":\"1356\",\"type\":\"ColumnDataSource\"}},\"id\":\"1360\",\"type\":\"CDSView\"},{\"attributes\":{},\"id\":\"1422\",\"type\":\"UnionRenderers\"},{\"attributes\":{\"fill_alpha\":{\"value\":0.1},\"fill_color\":{\"value\":\"#1f77b4\"},\"line_alpha\":{\"value\":0.1},\"line_color\":{\"value\":\"#1f77b4\"},\"x\":{\"field\":\"x\"},\"y\":{\"field\":\"y\"}},\"id\":\"1348\",\"type\":\"Circle\"},{\"attributes\":{\"fill_alpha\":0.1,\"fill_color\":\"#1f77b4\",\"line_alpha\":0.1,\"line_color\":\"#1f77b4\",\"x\":{\"field\":\"x\"},\"y\":{\"field\":\"y\"}},\"id\":\"1378\",\"type\":\"Patch\"},{\"attributes\":{\"fill_alpha\":0.3,\"fill_color\":\"#98AFC7\",\"x\":{\"field\":\"x\"},\"y\":{\"field\":\"y\"}},\"id\":\"1362\",\"type\":\"Patch\"},{\"attributes\":{},\"id\":\"1423\",\"type\":\"Selection\"},{\"attributes\":{\"data_source\":{\"id\":\"1376\",\"type\":\"ColumnDataSource\"},\"glyph\":{\"id\":\"1377\",\"type\":\"Patch\"},\"hover_glyph\":null,\"muted_glyph\":null,\"nonselection_glyph\":{\"id\":\"1378\",\"type\":\"Patch\"},\"selection_glyph\":null,\"view\":{\"id\":\"1380\",\"type\":\"CDSView\"}},\"id\":\"1379\",\"type\":\"GlyphRenderer\"},{\"attributes\":{\"fill_color\":{\"value\":\"#1f77b4\"},\"line_color\":{\"value\":\"#1f77b4\"},\"x\":{\"field\":\"x\"},\"y\":{\"field\":\"y\"}},\"id\":\"1347\",\"type\":\"Circle\"},{\"attributes\":{\"callback\":null,\"data\":{\"x\":{\"__ndarray__\":\"AAAAqOowBkDOorU/jyQGQMLWnAaK/wVA1s9b7gHCBUApAYGxN2wFQJWRa4+F/gRAe49b7V55BEBMwg3dT90DQLzMYon8KgNAZqCsiSBjAkCM7lccjoYBQGktwUktlgBA5rU74PUl/z/shPVyD/z8Pz0yzvntsPo/NFv0F/tG+D9kI+zbwMD1P9L4uRPnIPM/jibCgTBq8D80/Jrq7z7rPzBpgpNah+U/mLbKPkln3z/q4lyM3pPTPwRMOh6Xg74/LioBmDyUsb9itf9ZWnHQv+6SjkdPd9y/bHEuBiQ15L9JW2Vf2R7qvydpglOP8u+/Fn5NVRLV8r+JJsLhyp/1v874uXOBVvi/YiPsO1v2+r8yW/R3lXz9vzwyzlmI5v+/dMJ66dQYAcDy2h0gyC0CwGgtwXn6MAPAiu5XTFshBMBkoKy57f0EwLrMYrnJxQXAS8INDR14BsB6j1sdLBQHwJWRa79SmQfAKQGB4QQHCMDWz1sez1wIwMLWnDZXmgjAzqK1b1y/CMAAAADYt8sIwAAAANi3ywjAzqK1b1y/CMDC1pw2V5oIwNbPWx7PXAjAKQGB4QQHCMCVkWu/UpkHwHqPWx0sFAfAS8INDR14BsC6zGK5ycUFwGSgrLnt/QTAiu5XTFshBMBoLcF5+jADwPLaHSDILQLAdMJ66dQYAcA8Ms5ZiOb/vzJb9HeVfP2/YiPsO1v2+r/O+LlzgVb4v4kmwuHKn/W/Fn5NVRLV8r8naYJTj/Lvv0lbZV/ZHuq/bHEuBiQ15L/uko5HT3fcv2K1/1lacdC/LioBmDyUsb8ETDoel4O+P+riXIzek9M/mLbKPkln3z8waYKTWoflPzT8murvPus/jibCgTBq8D/S+LkT5yDzP2Qj7NvAwPU/NFv0F/tG+D89Ms757bD6P+yE9XIP/Pw/5rU74PUl/z9pLcFJLZYAQIzuVxyOhgFAZqCsiSBjAkC8zGKJ/CoDQEzCDd1P3QNAe49b7V55BECVkWuPhf4EQCkBgbE3bAVA1s9b7gHCBUDC1pwGiv8FQM6itT+PJAZAAAAAqOowBkA=\",\"dtype\":\"float64\",\"shape\":[100]},\"y\":{\"__ndarray__\":\"AACAwagC9j+oESheQWD3P9w9R1D+pPg/zw9s+4nP+T8FLNJQqt76P2KDwhlC0fs/FM6bI1Km/D8Mr0dM+lz9P+UXAm569P0/uOV6KTNs/j+NFH2NpsP+Pyosa5t4+v4/qIcFqG8Q/z8gqhSYdAX/P1bPt/iS2f4/XiY+8/iM/j+5fpcc9x/+PxB9jyAAk/0/DoQsSajm/D/BNrHipBv8PzOu5HzLMvs/pAJqChEt+j9QfRPfiAv5P92CQI5jz/c/POV2qu159j9aqYhnjgz1P3NItiDGiPM/A+1axCzw8T8gAcwmcETwP8T1XnykDu0/cB1Jkk516T/XbmHEp8DlP/187gOW9OE/hClOyS8q3D80ePnRgEzUP9i3nuPKsMg/GE60Pe5YsT9gWaMogYytv1Rhvx0Wbce/WJ1dh0Ww078MhhK+W5bbv5DmA0Y/sOG/mI+8GD6D5b+msUl6JEDpvwL7GcwD4+y/rDZwaAQ08L9kgFnZv+Xxv+0VEPTrhPO/eDYR+tMP9b///39+2IT2vwEAgH7YhPa/qhEoG3Hi97/fPUcNLif5v9APbLi5Ufq/CCzSDdpg+79jg8LWcVP8vxXOm+CBKP2/DK9HCSrf/b/mFwIrqnb+v7nleuZi7v6/jBR9StZF/78sLGtYqHz/v6iHBWWfkv+/IKoUVaSH/79Xz7e1wlv/v18mPrAoD/+/uX6X2Sai/r8QfY/dLxX+vwyELAbYaP2/wDaxn9Sd/L8yruQ5+7T7v6QCasdAr/q/TX0TnLiN+b/bgkBLk1H4vzrldmcd/Pa/WKmIJL6O9b9xSLbd9Qr0vwDtWoFccvK/IAHM45/G8L++9V72AxPuv2odSQyueeq/0W5hPgfF5r/3fO599fjiv3wpTr3uMt6/Jnj5xT9V1r/Mt57LSMLMv9hNtA3qe7m/ALNGERONmj9sYb81mFvDP2SdXZOGp9E/HoYSypyN2T+W5gPM36vgP5mPvJ7efuQ/rLFJAMU76D8F+xlSpN7rP15t4FapY+8/ZYBZHJBj8T/wFRA3vALzP3o2ET2kjfQ/AACAwagC9j8=\",\"dtype\":\"float64\",\"shape\":[100]}},\"selected\":{\"id\":\"1421\",\"type\":\"Selection\"},\"selection_policy\":{\"id\":\"1422\",\"type\":\"UnionRenderers\"}},\"id\":\"1371\",\"type\":\"ColumnDataSource\"},{\"attributes\":{\"fill_alpha\":0.3,\"fill_color\":\"green\",\"x\":{\"field\":\"x\"},\"y\":{\"field\":\"y\"}},\"id\":\"1352\",\"type\":\"Patch\"},{\"attributes\":{\"callback\":null,\"data\":{\"x\":{\"__ndarray__\":\"AAAAaOowBkB0TNf/jiQGQPBZI8eJ/wVAV/KJrwHCBUBz2JhzN2wFQEQ9rlKF/gRA0fQIsl55BED4SGSjT90DQDUdn1H8KgNAG2QJVCBjAkAvkg3pjYYBQJWlBRktlgBAzNZIhPUl/z9MkOccD/z8P7Ou/6ntsPo/0Dy5zvpG+D9Yc5GZwMD1P2uEhdjmIPM/xDXyTTBq8D8WJDGS7z7rP2mcq0pah+U/DHPczEhn3z8Xz6U63pPTP6STklmWg74/GWyl2TyUsb/npJZJWnHQv9akZBZPd9y/gudS3SM15L+DOW4m2R7qv2CcqwqP8u+/B5IYKRLV8r+/NfKtyp/1v2eEhTiBVvi/V3OR+Vr2+r/NPLkulXz9v7Ku/wmI5v+/JMhzvtQYAcBlayTyxy0CwJOlBUn6MAPALpINGVshBMAZZAmE7f0EwDQdn4HJxQXA90hk0xx4BsDR9AjiKxQHwEQ9roJSmQfActiYowQHCMBX8onfzlwIwO9ZI/dWmgjAdEzXL1y/CMAAAACYt8sIwAAAAJi3ywjAdEzXL1y/CMDvWSP3VpoIwFfyid/OXAjActiYowQHCMBEPa6CUpkHwNH0COIrFAfA90hk0xx4BsA0HZ+BycUFwBlkCYTt/QTALpINGVshBMCTpQVJ+jADwGVrJPLHLQLAJMhzvtQYAcCyrv8JiOb/v808uS6VfP2/V3OR+Vr2+r9nhIU4gVb4v7818q3Kn/W/B5IYKRLV8r9gnKsKj/Lvv4M5bibZHuq/gudS3SM15L/WpGQWT3fcv+eklklacdC/GWyl2TyUsb+kk5JZloO+PxfPpTrek9M/DHPczEhn3z9pnKtKWoflPxYkMZLvPus/xDXyTTBq8D9rhIXY5iDzP1hzkZnAwPU/0Dy5zvpG+D+zrv+p7bD6P0yQ5xwP/Pw/zNZIhPUl/z+VpQUZLZYAQC+SDemNhgFAG2QJVCBjAkA1HZ9R/CoDQPhIZKNP3QNA0fQIsl55BEBEPa5Shf4EQHPYmHM3bAVAV/KJrwHCBUDwWSPHif8FQHRM1/+OJAZAAAAAaOowBkA=\",\"dtype\":\"float64\",\"shape\":[100]},\"y\":{\"__ndarray__\":\"AAAAoPdFkL8wUhhf7wm8P+DiLRPLAc4/QiRu3XTu1j+IrdDP0sLeP9up327hOuM/Wftj15X/5j+ASQzNj6vqP//Gzn7yOu4/Mk+Zl//U8D9yCm+SjHryP5YLrrtkDPQ/nu8MWuGI9T/bneMrcu72PwvxOAyfO/g/q/dyfglv+T8PjAkfbof6P1Vpt/elg/s/H9/Dtadi/D8Xux7BiCP9P7vLKDN+xf0/Y2ElrN1H/j/bRHQGHqr+P6GZ1+bX6/4/4eYtKcYM/z/h5i0pxgz/P6GZ1+bX6/4/20R0Bh6q/j9jYSWs3Uf+P7zLKDN+xf0/GLsewYgj/T8g38O1p2L8P1Zpt/elg/s/EIwJH26H+j+t93J+CW/5PwzxOAyfO/g/3Z3jK3Lu9j+f7wxa4Yj1P5kLrrtkDPQ/dApvkox68j82T5mX/9TwPwTHzn7yOu4/gkkMzY+r6j9g+2PXlf/mP9+p327hOuM/mK3Qz9LC3j9LJG7ddO7WPwTjLRPLAc4/XlIYX+8JvD+7//+f90WQv0UAAKD3RZC/LymMl3UWwr+C8ZZ9pAnRv0skbtEz99i/zFbo4chl4L/fqd/oQD/kv2D7Y1H1A+i/gkkMR++v678Ex874UT/vvzZPmVQvV/G/dApvT7z88r+ZC654lI70v5/vDBcRC/a/3Z3j6KFw978M8TjJzr34v633cjs58fm/EIwJ3J0J+79Wabe01QX8vyDfw3LX5Py/GLsefril/b+8yyjwrUf+v2NhJWkNyv6/20R0w00s/7+hmdejB27/v+HmLeb1jv+/4eYt5vWO/7+hmdejB27/v9tEdMNNLP+/Y2ElaQ3K/r+7yyjwrUf+vxe7Hn64pf2/H9/Dctfk/L9Vabe01QX8vw+MCdydCfu/q/dyOznx+b8L8TjJzr34v9ud4+ihcPe/nu8MFxEL9r+WC654lI70v3IKb0+8/PK/Mk+ZVC9X8b//xs74UT/vv4BJDEfvr+u/WftjUfUD6L/bqd/oQD/kv8RW6OHIZeC/QiRu0TP32L9w8ZZ9pAnRvxgpjJd1FsK/AAAAoPdFkL8=\",\"dtype\":\"float64\",\"shape\":[100]}},\"selected\":{\"id\":\"1417\",\"type\":\"Selection\"},\"selection_policy\":{\"id\":\"1418\",\"type\":\"UnionRenderers\"}},\"id\":\"1361\",\"type\":\"ColumnDataSource\"},{\"attributes\":{},\"id\":\"1424\",\"type\":\"UnionRenderers\"},{\"attributes\":{\"source\":{\"id\":\"1376\",\"type\":\"ColumnDataSource\"}},\"id\":\"1380\",\"type\":\"CDSView\"},{\"attributes\":{},\"id\":\"1331\",\"type\":\"PanTool\"},{\"attributes\":{\"fill_alpha\":0.1,\"fill_color\":\"#1f77b4\",\"line_alpha\":0.1,\"line_color\":\"#1f77b4\",\"x\":{\"field\":\"x\"},\"y\":{\"field\":\"y\"}},\"id\":\"1363\",\"type\":\"Patch\"},{\"attributes\":{},\"id\":\"1332\",\"type\":\"WheelZoomTool\"}],\"root_ids\":[\"1312\"]},\"title\":\"Bokeh Application\",\"version\":\"1.0.2\"}};\n",
       "  var render_items = [{\"docid\":\"1676f478-788c-45c1-8878-ca67d5991c73\",\"roots\":{\"1312\":\"ee8060fe-8634-40d9-9bc7-7b2c84522019\"}}];\n",
       "  root.Bokeh.embed.embed_items_notebook(docs_json, render_items);\n",
       "\n",
       "  }\n",
       "  if (root.Bokeh !== undefined) {\n",
       "    embed_document(root);\n",
       "  } else {\n",
       "    var attempts = 0;\n",
       "    var timer = setInterval(function(root) {\n",
       "      if (root.Bokeh !== undefined) {\n",
       "        embed_document(root);\n",
       "        clearInterval(timer);\n",
       "      }\n",
       "      attempts++;\n",
       "      if (attempts > 100) {\n",
       "        console.log(\"Bokeh: ERROR: Unable to run BokehJS code because BokehJS library is missing\");\n",
       "        clearInterval(timer);\n",
       "      }\n",
       "    }, 10, root)\n",
       "  }\n",
       "})(window);"
      ],
      "application/vnd.bokehjs_exec.v0+json": ""
     },
     "metadata": {
      "application/vnd.bokehjs_exec.v0+json": {
       "id": "1312"
      }
     },
     "output_type": "display_data"
    }
   ],
   "source": [
    "fig = figure(\n",
    "    width=400,\n",
    "    height=400,\n",
    "    x_range=(-5, 5),\n",
    "    y_range=(-5, 5)\n",
    ")\n",
    "fig.circle(data[:, 0], data[:, 1])\n",
    "\n",
    "mean, precision = normal_iso.mean_precision.value()\n",
    "cov = torch.eye(2) / precision\n",
    "plotting.plot_normal(fig, mean.numpy(), cov.numpy(), \n",
    "                     line_color='black', fill_alpha=.3, color='green')\n",
    "\n",
    "mean, precision = normal_diag.mean_precision.value()\n",
    "cov = (1/precision).diag()\n",
    "plotting.plot_normal(fig, mean.numpy(), cov.numpy(), \n",
    "                     line_color='black', fill_alpha=.3, color='#98AFC7')\n",
    "\n",
    "mean, precision = normal_full.mean_precision.value()\n",
    "cov = precision.inverse()\n",
    "plotting.plot_normal(fig, mean.numpy(), cov.numpy(), \n",
    "                     line_color='black', fill_alpha=.3, color='#C7B097')\n",
    "\n",
    "show(fig)"
   ]
  },
  {
   "cell_type": "code",
   "execution_count": null,
   "metadata": {},
   "outputs": [],
   "source": []
  }
 ],
 "metadata": {
  "kernelspec": {
   "display_name": "Python 3",
   "language": "python",
   "name": "python3"
  },
  "language_info": {
   "codemirror_mode": {
    "name": "ipython",
    "version": 3
   },
   "file_extension": ".py",
   "mimetype": "text/x-python",
   "name": "python",
   "nbconvert_exporter": "python",
   "pygments_lexer": "ipython3",
   "version": "3.7.1"
  }
 },
 "nbformat": 4,
 "nbformat_minor": 2
}
