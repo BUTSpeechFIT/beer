{
 "cells": [
  {
   "cell_type": "markdown",
   "metadata": {},
   "source": [
    "# Bayesian Model\n",
    "\n",
    "This notebook illustrate how to use a Bayesian Normal density model with the [beer framework](https://github.com/beer-asr/beer). The Normal distribution is a fairly basic models but it is used extenslively in other model as a basic building block."
   ]
  },
  {
   "cell_type": "code",
   "execution_count": 1,
   "metadata": {},
   "outputs": [
    {
     "data": {
      "text/html": [
       "\n",
       "    <div class=\"bk-root\">\n",
       "        <a href=\"https://bokeh.pydata.org\" target=\"_blank\" class=\"bk-logo bk-logo-small bk-logo-notebook\"></a>\n",
       "        <span id=\"1001\">Loading BokehJS ...</span>\n",
       "    </div>"
      ]
     },
     "metadata": {},
     "output_type": "display_data"
    },
    {
     "data": {
      "application/javascript": [
       "\n",
       "(function(root) {\n",
       "  function now() {\n",
       "    return new Date();\n",
       "  }\n",
       "\n",
       "  var force = true;\n",
       "\n",
       "  if (typeof (root._bokeh_onload_callbacks) === \"undefined\" || force === true) {\n",
       "    root._bokeh_onload_callbacks = [];\n",
       "    root._bokeh_is_loading = undefined;\n",
       "  }\n",
       "\n",
       "  var JS_MIME_TYPE = 'application/javascript';\n",
       "  var HTML_MIME_TYPE = 'text/html';\n",
       "  var EXEC_MIME_TYPE = 'application/vnd.bokehjs_exec.v0+json';\n",
       "  var CLASS_NAME = 'output_bokeh rendered_html';\n",
       "\n",
       "  /**\n",
       "   * Render data to the DOM node\n",
       "   */\n",
       "  function render(props, node) {\n",
       "    var script = document.createElement(\"script\");\n",
       "    node.appendChild(script);\n",
       "  }\n",
       "\n",
       "  /**\n",
       "   * Handle when an output is cleared or removed\n",
       "   */\n",
       "  function handleClearOutput(event, handle) {\n",
       "    var cell = handle.cell;\n",
       "\n",
       "    var id = cell.output_area._bokeh_element_id;\n",
       "    var server_id = cell.output_area._bokeh_server_id;\n",
       "    // Clean up Bokeh references\n",
       "    if (id != null && id in Bokeh.index) {\n",
       "      Bokeh.index[id].model.document.clear();\n",
       "      delete Bokeh.index[id];\n",
       "    }\n",
       "\n",
       "    if (server_id !== undefined) {\n",
       "      // Clean up Bokeh references\n",
       "      var cmd = \"from bokeh.io.state import curstate; print(curstate().uuid_to_server['\" + server_id + \"'].get_sessions()[0].document.roots[0]._id)\";\n",
       "      cell.notebook.kernel.execute(cmd, {\n",
       "        iopub: {\n",
       "          output: function(msg) {\n",
       "            var id = msg.content.text.trim();\n",
       "            if (id in Bokeh.index) {\n",
       "              Bokeh.index[id].model.document.clear();\n",
       "              delete Bokeh.index[id];\n",
       "            }\n",
       "          }\n",
       "        }\n",
       "      });\n",
       "      // Destroy server and session\n",
       "      var cmd = \"import bokeh.io.notebook as ion; ion.destroy_server('\" + server_id + \"')\";\n",
       "      cell.notebook.kernel.execute(cmd);\n",
       "    }\n",
       "  }\n",
       "\n",
       "  /**\n",
       "   * Handle when a new output is added\n",
       "   */\n",
       "  function handleAddOutput(event, handle) {\n",
       "    var output_area = handle.output_area;\n",
       "    var output = handle.output;\n",
       "\n",
       "    // limit handleAddOutput to display_data with EXEC_MIME_TYPE content only\n",
       "    if ((output.output_type != \"display_data\") || (!output.data.hasOwnProperty(EXEC_MIME_TYPE))) {\n",
       "      return\n",
       "    }\n",
       "\n",
       "    var toinsert = output_area.element.find(\".\" + CLASS_NAME.split(' ')[0]);\n",
       "\n",
       "    if (output.metadata[EXEC_MIME_TYPE][\"id\"] !== undefined) {\n",
       "      toinsert[toinsert.length - 1].firstChild.textContent = output.data[JS_MIME_TYPE];\n",
       "      // store reference to embed id on output_area\n",
       "      output_area._bokeh_element_id = output.metadata[EXEC_MIME_TYPE][\"id\"];\n",
       "    }\n",
       "    if (output.metadata[EXEC_MIME_TYPE][\"server_id\"] !== undefined) {\n",
       "      var bk_div = document.createElement(\"div\");\n",
       "      bk_div.innerHTML = output.data[HTML_MIME_TYPE];\n",
       "      var script_attrs = bk_div.children[0].attributes;\n",
       "      for (var i = 0; i < script_attrs.length; i++) {\n",
       "        toinsert[toinsert.length - 1].firstChild.setAttribute(script_attrs[i].name, script_attrs[i].value);\n",
       "      }\n",
       "      // store reference to server id on output_area\n",
       "      output_area._bokeh_server_id = output.metadata[EXEC_MIME_TYPE][\"server_id\"];\n",
       "    }\n",
       "  }\n",
       "\n",
       "  function register_renderer(events, OutputArea) {\n",
       "\n",
       "    function append_mime(data, metadata, element) {\n",
       "      // create a DOM node to render to\n",
       "      var toinsert = this.create_output_subarea(\n",
       "        metadata,\n",
       "        CLASS_NAME,\n",
       "        EXEC_MIME_TYPE\n",
       "      );\n",
       "      this.keyboard_manager.register_events(toinsert);\n",
       "      // Render to node\n",
       "      var props = {data: data, metadata: metadata[EXEC_MIME_TYPE]};\n",
       "      render(props, toinsert[toinsert.length - 1]);\n",
       "      element.append(toinsert);\n",
       "      return toinsert\n",
       "    }\n",
       "\n",
       "    /* Handle when an output is cleared or removed */\n",
       "    events.on('clear_output.CodeCell', handleClearOutput);\n",
       "    events.on('delete.Cell', handleClearOutput);\n",
       "\n",
       "    /* Handle when a new output is added */\n",
       "    events.on('output_added.OutputArea', handleAddOutput);\n",
       "\n",
       "    /**\n",
       "     * Register the mime type and append_mime function with output_area\n",
       "     */\n",
       "    OutputArea.prototype.register_mime_type(EXEC_MIME_TYPE, append_mime, {\n",
       "      /* Is output safe? */\n",
       "      safe: true,\n",
       "      /* Index of renderer in `output_area.display_order` */\n",
       "      index: 0\n",
       "    });\n",
       "  }\n",
       "\n",
       "  // register the mime type if in Jupyter Notebook environment and previously unregistered\n",
       "  if (root.Jupyter !== undefined) {\n",
       "    var events = require('base/js/events');\n",
       "    var OutputArea = require('notebook/js/outputarea').OutputArea;\n",
       "\n",
       "    if (OutputArea.prototype.mime_types().indexOf(EXEC_MIME_TYPE) == -1) {\n",
       "      register_renderer(events, OutputArea);\n",
       "    }\n",
       "  }\n",
       "\n",
       "  \n",
       "  if (typeof (root._bokeh_timeout) === \"undefined\" || force === true) {\n",
       "    root._bokeh_timeout = Date.now() + 5000;\n",
       "    root._bokeh_failed_load = false;\n",
       "  }\n",
       "\n",
       "  var NB_LOAD_WARNING = {'data': {'text/html':\n",
       "     \"<div style='background-color: #fdd'>\\n\"+\n",
       "     \"<p>\\n\"+\n",
       "     \"BokehJS does not appear to have successfully loaded. If loading BokehJS from CDN, this \\n\"+\n",
       "     \"may be due to a slow or bad network connection. Possible fixes:\\n\"+\n",
       "     \"</p>\\n\"+\n",
       "     \"<ul>\\n\"+\n",
       "     \"<li>re-rerun `output_notebook()` to attempt to load from CDN again, or</li>\\n\"+\n",
       "     \"<li>use INLINE resources instead, as so:</li>\\n\"+\n",
       "     \"</ul>\\n\"+\n",
       "     \"<code>\\n\"+\n",
       "     \"from bokeh.resources import INLINE\\n\"+\n",
       "     \"output_notebook(resources=INLINE)\\n\"+\n",
       "     \"</code>\\n\"+\n",
       "     \"</div>\"}};\n",
       "\n",
       "  function display_loaded() {\n",
       "    var el = document.getElementById(\"1001\");\n",
       "    if (el != null) {\n",
       "      el.textContent = \"BokehJS is loading...\";\n",
       "    }\n",
       "    if (root.Bokeh !== undefined) {\n",
       "      if (el != null) {\n",
       "        el.textContent = \"BokehJS \" + root.Bokeh.version + \" successfully loaded.\";\n",
       "      }\n",
       "    } else if (Date.now() < root._bokeh_timeout) {\n",
       "      setTimeout(display_loaded, 100)\n",
       "    }\n",
       "  }\n",
       "\n",
       "\n",
       "  function run_callbacks() {\n",
       "    try {\n",
       "      root._bokeh_onload_callbacks.forEach(function(callback) { callback() });\n",
       "    }\n",
       "    finally {\n",
       "      delete root._bokeh_onload_callbacks\n",
       "    }\n",
       "    console.info(\"Bokeh: all callbacks have finished\");\n",
       "  }\n",
       "\n",
       "  function load_libs(js_urls, callback) {\n",
       "    root._bokeh_onload_callbacks.push(callback);\n",
       "    if (root._bokeh_is_loading > 0) {\n",
       "      console.log(\"Bokeh: BokehJS is being loaded, scheduling callback at\", now());\n",
       "      return null;\n",
       "    }\n",
       "    if (js_urls == null || js_urls.length === 0) {\n",
       "      run_callbacks();\n",
       "      return null;\n",
       "    }\n",
       "    console.log(\"Bokeh: BokehJS not loaded, scheduling load and callback at\", now());\n",
       "    root._bokeh_is_loading = js_urls.length;\n",
       "    for (var i = 0; i < js_urls.length; i++) {\n",
       "      var url = js_urls[i];\n",
       "      var s = document.createElement('script');\n",
       "      s.src = url;\n",
       "      s.async = false;\n",
       "      s.onreadystatechange = s.onload = function() {\n",
       "        root._bokeh_is_loading--;\n",
       "        if (root._bokeh_is_loading === 0) {\n",
       "          console.log(\"Bokeh: all BokehJS libraries loaded\");\n",
       "          run_callbacks()\n",
       "        }\n",
       "      };\n",
       "      s.onerror = function() {\n",
       "        console.warn(\"failed to load library \" + url);\n",
       "      };\n",
       "      console.log(\"Bokeh: injecting script tag for BokehJS library: \", url);\n",
       "      document.getElementsByTagName(\"head\")[0].appendChild(s);\n",
       "    }\n",
       "  };var element = document.getElementById(\"1001\");\n",
       "  if (element == null) {\n",
       "    console.log(\"Bokeh: ERROR: autoload.js configured with elementid '1001' but no matching script tag was found. \")\n",
       "    return false;\n",
       "  }\n",
       "\n",
       "  var js_urls = [\"https://cdn.pydata.org/bokeh/release/bokeh-1.0.0.min.js\", \"https://cdn.pydata.org/bokeh/release/bokeh-widgets-1.0.0.min.js\", \"https://cdn.pydata.org/bokeh/release/bokeh-tables-1.0.0.min.js\", \"https://cdn.pydata.org/bokeh/release/bokeh-gl-1.0.0.min.js\"];\n",
       "\n",
       "  var inline_js = [\n",
       "    function(Bokeh) {\n",
       "      Bokeh.set_log_level(\"info\");\n",
       "    },\n",
       "    \n",
       "    function(Bokeh) {\n",
       "      \n",
       "    },\n",
       "    function(Bokeh) {\n",
       "      console.log(\"Bokeh: injecting CSS: https://cdn.pydata.org/bokeh/release/bokeh-1.0.0.min.css\");\n",
       "      Bokeh.embed.inject_css(\"https://cdn.pydata.org/bokeh/release/bokeh-1.0.0.min.css\");\n",
       "      console.log(\"Bokeh: injecting CSS: https://cdn.pydata.org/bokeh/release/bokeh-widgets-1.0.0.min.css\");\n",
       "      Bokeh.embed.inject_css(\"https://cdn.pydata.org/bokeh/release/bokeh-widgets-1.0.0.min.css\");\n",
       "      console.log(\"Bokeh: injecting CSS: https://cdn.pydata.org/bokeh/release/bokeh-tables-1.0.0.min.css\");\n",
       "      Bokeh.embed.inject_css(\"https://cdn.pydata.org/bokeh/release/bokeh-tables-1.0.0.min.css\");\n",
       "    }\n",
       "  ];\n",
       "\n",
       "  function run_inline_js() {\n",
       "    \n",
       "    if ((root.Bokeh !== undefined) || (force === true)) {\n",
       "      for (var i = 0; i < inline_js.length; i++) {\n",
       "        inline_js[i].call(root, root.Bokeh);\n",
       "      }if (force === true) {\n",
       "        display_loaded();\n",
       "      }} else if (Date.now() < root._bokeh_timeout) {\n",
       "      setTimeout(run_inline_js, 100);\n",
       "    } else if (!root._bokeh_failed_load) {\n",
       "      console.log(\"Bokeh: BokehJS failed to load within specified timeout.\");\n",
       "      root._bokeh_failed_load = true;\n",
       "    } else if (force !== true) {\n",
       "      var cell = $(document.getElementById(\"1001\")).parents('.cell').data().cell;\n",
       "      cell.output_area.append_execute_result(NB_LOAD_WARNING)\n",
       "    }\n",
       "\n",
       "  }\n",
       "\n",
       "  if (root._bokeh_is_loading === 0) {\n",
       "    console.log(\"Bokeh: BokehJS loaded, going straight to plotting\");\n",
       "    run_inline_js();\n",
       "  } else {\n",
       "    load_libs(js_urls, function() {\n",
       "      console.log(\"Bokeh: BokehJS plotting callback run at\", now());\n",
       "      run_inline_js();\n",
       "    });\n",
       "  }\n",
       "}(window));"
      ],
      "application/vnd.bokehjs_load.v0+json": "\n(function(root) {\n  function now() {\n    return new Date();\n  }\n\n  var force = true;\n\n  if (typeof (root._bokeh_onload_callbacks) === \"undefined\" || force === true) {\n    root._bokeh_onload_callbacks = [];\n    root._bokeh_is_loading = undefined;\n  }\n\n  \n\n  \n  if (typeof (root._bokeh_timeout) === \"undefined\" || force === true) {\n    root._bokeh_timeout = Date.now() + 5000;\n    root._bokeh_failed_load = false;\n  }\n\n  var NB_LOAD_WARNING = {'data': {'text/html':\n     \"<div style='background-color: #fdd'>\\n\"+\n     \"<p>\\n\"+\n     \"BokehJS does not appear to have successfully loaded. If loading BokehJS from CDN, this \\n\"+\n     \"may be due to a slow or bad network connection. Possible fixes:\\n\"+\n     \"</p>\\n\"+\n     \"<ul>\\n\"+\n     \"<li>re-rerun `output_notebook()` to attempt to load from CDN again, or</li>\\n\"+\n     \"<li>use INLINE resources instead, as so:</li>\\n\"+\n     \"</ul>\\n\"+\n     \"<code>\\n\"+\n     \"from bokeh.resources import INLINE\\n\"+\n     \"output_notebook(resources=INLINE)\\n\"+\n     \"</code>\\n\"+\n     \"</div>\"}};\n\n  function display_loaded() {\n    var el = document.getElementById(\"1001\");\n    if (el != null) {\n      el.textContent = \"BokehJS is loading...\";\n    }\n    if (root.Bokeh !== undefined) {\n      if (el != null) {\n        el.textContent = \"BokehJS \" + root.Bokeh.version + \" successfully loaded.\";\n      }\n    } else if (Date.now() < root._bokeh_timeout) {\n      setTimeout(display_loaded, 100)\n    }\n  }\n\n\n  function run_callbacks() {\n    try {\n      root._bokeh_onload_callbacks.forEach(function(callback) { callback() });\n    }\n    finally {\n      delete root._bokeh_onload_callbacks\n    }\n    console.info(\"Bokeh: all callbacks have finished\");\n  }\n\n  function load_libs(js_urls, callback) {\n    root._bokeh_onload_callbacks.push(callback);\n    if (root._bokeh_is_loading > 0) {\n      console.log(\"Bokeh: BokehJS is being loaded, scheduling callback at\", now());\n      return null;\n    }\n    if (js_urls == null || js_urls.length === 0) {\n      run_callbacks();\n      return null;\n    }\n    console.log(\"Bokeh: BokehJS not loaded, scheduling load and callback at\", now());\n    root._bokeh_is_loading = js_urls.length;\n    for (var i = 0; i < js_urls.length; i++) {\n      var url = js_urls[i];\n      var s = document.createElement('script');\n      s.src = url;\n      s.async = false;\n      s.onreadystatechange = s.onload = function() {\n        root._bokeh_is_loading--;\n        if (root._bokeh_is_loading === 0) {\n          console.log(\"Bokeh: all BokehJS libraries loaded\");\n          run_callbacks()\n        }\n      };\n      s.onerror = function() {\n        console.warn(\"failed to load library \" + url);\n      };\n      console.log(\"Bokeh: injecting script tag for BokehJS library: \", url);\n      document.getElementsByTagName(\"head\")[0].appendChild(s);\n    }\n  };var element = document.getElementById(\"1001\");\n  if (element == null) {\n    console.log(\"Bokeh: ERROR: autoload.js configured with elementid '1001' but no matching script tag was found. \")\n    return false;\n  }\n\n  var js_urls = [\"https://cdn.pydata.org/bokeh/release/bokeh-1.0.0.min.js\", \"https://cdn.pydata.org/bokeh/release/bokeh-widgets-1.0.0.min.js\", \"https://cdn.pydata.org/bokeh/release/bokeh-tables-1.0.0.min.js\", \"https://cdn.pydata.org/bokeh/release/bokeh-gl-1.0.0.min.js\"];\n\n  var inline_js = [\n    function(Bokeh) {\n      Bokeh.set_log_level(\"info\");\n    },\n    \n    function(Bokeh) {\n      \n    },\n    function(Bokeh) {\n      console.log(\"Bokeh: injecting CSS: https://cdn.pydata.org/bokeh/release/bokeh-1.0.0.min.css\");\n      Bokeh.embed.inject_css(\"https://cdn.pydata.org/bokeh/release/bokeh-1.0.0.min.css\");\n      console.log(\"Bokeh: injecting CSS: https://cdn.pydata.org/bokeh/release/bokeh-widgets-1.0.0.min.css\");\n      Bokeh.embed.inject_css(\"https://cdn.pydata.org/bokeh/release/bokeh-widgets-1.0.0.min.css\");\n      console.log(\"Bokeh: injecting CSS: https://cdn.pydata.org/bokeh/release/bokeh-tables-1.0.0.min.css\");\n      Bokeh.embed.inject_css(\"https://cdn.pydata.org/bokeh/release/bokeh-tables-1.0.0.min.css\");\n    }\n  ];\n\n  function run_inline_js() {\n    \n    if ((root.Bokeh !== undefined) || (force === true)) {\n      for (var i = 0; i < inline_js.length; i++) {\n        inline_js[i].call(root, root.Bokeh);\n      }if (force === true) {\n        display_loaded();\n      }} else if (Date.now() < root._bokeh_timeout) {\n      setTimeout(run_inline_js, 100);\n    } else if (!root._bokeh_failed_load) {\n      console.log(\"Bokeh: BokehJS failed to load within specified timeout.\");\n      root._bokeh_failed_load = true;\n    } else if (force !== true) {\n      var cell = $(document.getElementById(\"1001\")).parents('.cell').data().cell;\n      cell.output_area.append_execute_result(NB_LOAD_WARNING)\n    }\n\n  }\n\n  if (root._bokeh_is_loading === 0) {\n    console.log(\"Bokeh: BokehJS loaded, going straight to plotting\");\n    run_inline_js();\n  } else {\n    load_libs(js_urls, function() {\n      console.log(\"Bokeh: BokehJS plotting callback run at\", now());\n      run_inline_js();\n    });\n  }\n}(window));"
     },
     "metadata": {},
     "output_type": "display_data"
    }
   ],
   "source": [
    "# Add \"beer\" to the PYTHONPATH\n",
    "import random\n",
    "from collections import defaultdict\n",
    "import sys\n",
    "sys.path.insert(0, '../')\n",
    "\n",
    "\n",
    "import beer\n",
    "import numpy as np\n",
    "import torch\n",
    "\n",
    "# For plotting.\n",
    "from bokeh.io import show, output_notebook\n",
    "from bokeh.plotting import figure, gridplot\n",
    "output_notebook()\n",
    "\n",
    "# Convenience functions for plotting.\n",
    "import plotting\n",
    "\n",
    "%load_ext autoreload\n",
    "%autoreload 2"
   ]
  },
  {
   "cell_type": "markdown",
   "metadata": {},
   "source": [
    "## Data\n",
    "\n",
    "Generate some normally distributed data:"
   ]
  },
  {
   "cell_type": "code",
   "execution_count": 2,
   "metadata": {},
   "outputs": [
    {
     "data": {
      "text/html": [
       "\n",
       "\n",
       "\n",
       "\n",
       "\n",
       "\n",
       "  <div class=\"bk-root\" id=\"b0b8d61a-ff3e-4424-968f-0842182f3ada\"></div>\n"
      ]
     },
     "metadata": {},
     "output_type": "display_data"
    },
    {
     "data": {
      "application/javascript": [
       "(function(root) {\n",
       "  function embed_document(root) {\n",
       "    \n",
       "  var docs_json = {\"aa569fae-b150-417c-aae8-787787b8c801\":{\"roots\":{\"references\":[{\"attributes\":{\"below\":[{\"id\":\"1013\",\"type\":\"LinearAxis\"}],\"left\":[{\"id\":\"1018\",\"type\":\"LinearAxis\"}],\"plot_height\":400,\"plot_width\":400,\"renderers\":[{\"id\":\"1013\",\"type\":\"LinearAxis\"},{\"id\":\"1017\",\"type\":\"Grid\"},{\"id\":\"1018\",\"type\":\"LinearAxis\"},{\"id\":\"1022\",\"type\":\"Grid\"},{\"id\":\"1031\",\"type\":\"BoxAnnotation\"},{\"id\":\"1041\",\"type\":\"GlyphRenderer\"},{\"id\":\"1046\",\"type\":\"GlyphRenderer\"},{\"id\":\"1051\",\"type\":\"GlyphRenderer\"}],\"title\":{\"id\":\"1002\",\"type\":\"Title\"},\"toolbar\":{\"id\":\"1029\",\"type\":\"Toolbar\"},\"x_range\":{\"id\":\"1005\",\"type\":\"Range1d\"},\"x_scale\":{\"id\":\"1009\",\"type\":\"LinearScale\"},\"y_range\":{\"id\":\"1007\",\"type\":\"Range1d\"},\"y_scale\":{\"id\":\"1011\",\"type\":\"LinearScale\"}},\"id\":\"1003\",\"subtype\":\"Figure\",\"type\":\"Plot\"},{\"attributes\":{},\"id\":\"1056\",\"type\":\"BasicTickFormatter\"},{\"attributes\":{\"fill_color\":{\"value\":\"#1f77b4\"},\"line_color\":{\"value\":\"#1f77b4\"},\"x\":{\"field\":\"x\"},\"y\":{\"field\":\"y\"}},\"id\":\"1039\",\"type\":\"Circle\"},{\"attributes\":{},\"id\":\"1026\",\"type\":\"SaveTool\"},{\"attributes\":{},\"id\":\"1058\",\"type\":\"Selection\"},{\"attributes\":{\"dimension\":1,\"plot\":{\"id\":\"1003\",\"subtype\":\"Figure\",\"type\":\"Plot\"},\"ticker\":{\"id\":\"1019\",\"type\":\"BasicTicker\"}},\"id\":\"1022\",\"type\":\"Grid\"},{\"attributes\":{\"overlay\":{\"id\":\"1031\",\"type\":\"BoxAnnotation\"}},\"id\":\"1025\",\"type\":\"BoxZoomTool\"},{\"attributes\":{},\"id\":\"1027\",\"type\":\"ResetTool\"},{\"attributes\":{},\"id\":\"1059\",\"type\":\"UnionRenderers\"},{\"attributes\":{},\"id\":\"1028\",\"type\":\"HelpTool\"},{\"attributes\":{},\"id\":\"1060\",\"type\":\"Selection\"},{\"attributes\":{\"active_drag\":\"auto\",\"active_inspect\":\"auto\",\"active_multi\":null,\"active_scroll\":\"auto\",\"active_tap\":\"auto\",\"tools\":[{\"id\":\"1023\",\"type\":\"PanTool\"},{\"id\":\"1024\",\"type\":\"WheelZoomTool\"},{\"id\":\"1025\",\"type\":\"BoxZoomTool\"},{\"id\":\"1026\",\"type\":\"SaveTool\"},{\"id\":\"1027\",\"type\":\"ResetTool\"},{\"id\":\"1028\",\"type\":\"HelpTool\"}]},\"id\":\"1029\",\"type\":\"Toolbar\"},{\"attributes\":{},\"id\":\"1061\",\"type\":\"UnionRenderers\"},{\"attributes\":{\"data_source\":{\"id\":\"1038\",\"type\":\"ColumnDataSource\"},\"glyph\":{\"id\":\"1039\",\"type\":\"Circle\"},\"hover_glyph\":null,\"muted_glyph\":null,\"nonselection_glyph\":{\"id\":\"1040\",\"type\":\"Circle\"},\"selection_glyph\":null,\"view\":{\"id\":\"1042\",\"type\":\"CDSView\"}},\"id\":\"1041\",\"type\":\"GlyphRenderer\"},{\"attributes\":{\"callback\":null,\"data\":{\"x\":{\"__ndarray__\":\"zTt/Zp6gBkD/aBeat5QGQEpH+7kPcQZAxDZRSMw1BkC/j9WcK+MFQECmRaOEeQVAnt/vf0b5BEBDCska+GIEQH71gZE3twNAdpMykbn2AkCHnkmYSCICQJ6yiCHEOgFAxu/suB9BAEDd6Pb2w2z+P3Rl/gVHN/w/aHu1fRvk+T/TJUl2s3X3PwkMrq6d7vQ/w3Xc24JR8j+F03m5RULvP5J+baujwOk/dhnXbeoj5D8TMwPBAuTcPxjbsFnMYdE/HshwxDM1tz/Yx3DEMzW3vwbbsFnMYdG/ATMDwQLk3L90Gddt6iPkv4l+baujwOm/fNN5uUVC77++ddzbglHyvwQMrq6d7vS/0SVJdrN1979le7V9G+T5v3Nl/gVHN/y/2ej29sNs/r/F7+y4H0EAwJyyiCHEOgHAhp5JmEgiAsBzkzKRufYCwH31gZE3twPAQgrJGvhiBMCd3+9/RvkEwECmRaOEeQXAvo/VnCvjBcDENlFIzDUGwElH+7kPcQbA/2gXmreUBsDNO39mnqAGwM07f2aeoAbA/2gXmreUBsBJR/u5D3EGwMQ2UUjMNQbAvo/VnCvjBcBApkWjhHkFwJ3f739G+QTAQgrJGvhiBMB99YGRN7cDwHOTMpG59gLAhp5JmEgiAsCcsoghxDoBwMXv7LgfQQDA2ej29sNs/r9zZf4FRzf8v2V7tX0b5Pm/0SVJdrN1978EDK6une70v7513NuCUfK/fNN5uUVC77+Jfm2ro8Dpv3QZ123qI+S/ATMDwQLk3L8G27BZzGHRv9jHcMQzNbe/HshwxDM1tz8Y27BZzGHRPxMzA8EC5Nw/dhnXbeoj5D+Sfm2ro8DpP4XTeblFQu8/w3Xc24JR8j8JDK6une70P9MlSXazdfc/aHu1fRvk+T90Zf4FRzf8P93o9vbDbP4/xu/suB9BAECesoghxDoBQIeeSZhIIgJAdpMykbn2AkB+9YGRN7cDQEMKyRr4YgRAnt/vf0b5BEBApkWjhHkFQL+P1Zwr4wVAxDZRSMw1BkBKR/u5D3EGQP9oF5q3lAZAzTt/Zp6gBkA=\",\"dtype\":\"float64\",\"shape\":[100]},\"y\":{\"__ndarray__\":\"m0Vf4fx+9T+/MUnsR9P2PxfR+xKQD/g/IBVMnogy+T/esFZ3/zr6P3RtfmneJ/s/CFMVRyz4+z/5x3zvDav8P5nnqDXHP/0/+pIUpru1/T+T/lUrbwz+PyCbppCGQ/4/egnV4cda/j9SKzyoGlL+P8AufwSIKf4/XYLvpDrh/T+Yy6aYfnn9P5gahP/A8vw/tIZgl49N/D/Q9fMmmIr7PzrpBsenqvo/up2xCqqu+T+xdYsHqJf4P/Bdzz7HZvc/ZIaaaEgd9j+EOooihrz0P4PDG4PzRfM/X+ZNkxq78T/WpB6wmh3wPzyaMqtN3uw/T/yAqgdj6T98+mrzDM3lPyfrIzMjIOI/sJ7rbVDA3D/KZwy2GyLVP0imBZBX28o/6OFMQG6stj8gXHFKWeugv8zBtatwx8O/2CBxPp6f0b8Ye5Qd+kjZv3GiNVfea+C/a/2bU/kh5L+kqzGL5sLnv51ppczUSuu/dMAXMg227r+3n7SEewDxv7ucYc4NlPK/uxWw6xQU9L+aRV/h/H71v5xFX+H8fvW/wTFJ7EfT9r8Z0fsSkA/4vyEVTJ6IMvm/4LBWd/86+r92bX5p3if7vwpTFUcs+Pu/+Md87w2r/L+a56g1xz/9v/qSFKa7tf2/kv5VK28M/r8gm6aQhkP+v3oJ1eHHWv6/Uis8qBpS/r/BLn8EiCn+v16C76Q64f2/mMummH55/b+WGoT/wPL8v7KGYJePTfy/zvXzJpiK+7846QbHp6r6v7qdsQqqrvm/r3WLB6iX+L/tXc8+x2b3v2KGmmhIHfa/gjqKIoa89L+AwxuD80Xzv13mTZMau/G/1qQesJod8L84mjKrTd7sv0v8gKoHY+m/ePpq8wzN5b8j6yMzIyDiv66e621QwNy/vGcMthsi1b88pgWQV9vKv7jhTEBurLa/UFxxSlnroD/kwbWrcMfDP+QgcT6en9E/KnuUHfpI2T92ojVX3mvgP279m1P5IeQ/qKsxi+bC5z+gaaXM1ErrP3zAFzINtu4/uJ+0hHsA8T+/nGHODZTyP70VsOsUFPQ/m0Vf4fx+9T8=\",\"dtype\":\"float64\",\"shape\":[100]}},\"selected\":{\"id\":\"1060\",\"type\":\"Selection\"},\"selection_policy\":{\"id\":\"1061\",\"type\":\"UnionRenderers\"}},\"id\":\"1043\",\"type\":\"ColumnDataSource\"},{\"attributes\":{\"fill_alpha\":{\"value\":0.1},\"fill_color\":{\"value\":\"#1f77b4\"},\"line_alpha\":{\"value\":0.1},\"line_color\":{\"value\":\"#1f77b4\"},\"x\":{\"field\":\"x\"},\"y\":{\"field\":\"y\"}},\"id\":\"1040\",\"type\":\"Circle\"},{\"attributes\":{},\"id\":\"1062\",\"type\":\"Selection\"},{\"attributes\":{\"bottom_units\":\"screen\",\"fill_alpha\":{\"value\":0.5},\"fill_color\":{\"value\":\"lightgrey\"},\"left_units\":\"screen\",\"level\":\"overlay\",\"line_alpha\":{\"value\":1.0},\"line_color\":{\"value\":\"black\"},\"line_dash\":[4,4],\"line_width\":{\"value\":2},\"plot\":null,\"render_mode\":\"css\",\"right_units\":\"screen\",\"top_units\":\"screen\"},\"id\":\"1031\",\"type\":\"BoxAnnotation\"},{\"attributes\":{\"plot\":null,\"text\":\"Data\"},\"id\":\"1002\",\"type\":\"Title\"},{\"attributes\":{},\"id\":\"1063\",\"type\":\"UnionRenderers\"},{\"attributes\":{\"callback\":null,\"end\":5.0,\"start\":-5.0},\"id\":\"1005\",\"type\":\"Range1d\"},{\"attributes\":{\"fill_alpha\":0.3,\"fill_color\":\"#1f77b4\",\"x\":{\"field\":\"x\"},\"y\":{\"field\":\"y\"}},\"id\":\"1044\",\"type\":\"Patch\"},{\"attributes\":{\"callback\":null,\"end\":5.0,\"start\":-5.0},\"id\":\"1007\",\"type\":\"Range1d\"},{\"attributes\":{\"fill_alpha\":0.1,\"fill_color\":\"#1f77b4\",\"line_alpha\":0.1,\"line_color\":\"#1f77b4\",\"x\":{\"field\":\"x\"},\"y\":{\"field\":\"y\"}},\"id\":\"1045\",\"type\":\"Patch\"},{\"attributes\":{},\"id\":\"1009\",\"type\":\"LinearScale\"},{\"attributes\":{\"data_source\":{\"id\":\"1043\",\"type\":\"ColumnDataSource\"},\"glyph\":{\"id\":\"1044\",\"type\":\"Patch\"},\"hover_glyph\":null,\"muted_glyph\":null,\"nonselection_glyph\":{\"id\":\"1045\",\"type\":\"Patch\"},\"selection_glyph\":null,\"view\":{\"id\":\"1047\",\"type\":\"CDSView\"}},\"id\":\"1046\",\"type\":\"GlyphRenderer\"},{\"attributes\":{},\"id\":\"1011\",\"type\":\"LinearScale\"},{\"attributes\":{\"callback\":null,\"data\":{\"x\":{\"__ndarray__\":\"zTt/Zp6g9j//aBeat5T2P0pH+7kPcfY/xDZRSMw19j+/j9WcK+P1P0CmRaOEefU/nt/vf0b59D9DCska+GL0P371gZE3t/M/dpMykbn28j+HnkmYSCLyP56yiCHEOvE/xu/suB9B8D/d6Pb2w2zuP3Rl/gVHN+w/aHu1fRvk6T/TJUl2s3XnPwkMrq6d7uQ/w3Xc24JR4j+F03m5RULfP5J+baujwNk/dhnXbeoj1D8TMwPBAuTMPxjbsFnMYcE/HshwxDM1pz/Yx3DEMzWnvwbbsFnMYcG/ATMDwQLkzL90Gddt6iPUv4l+baujwNm/fNN5uUVC37++ddzbglHivwQMrq6d7uS/0SVJdrN1579le7V9G+Tpv3Nl/gVHN+y/2ej29sNs7r/F7+y4H0Hwv5yyiCHEOvG/hp5JmEgi8r9zkzKRufbyv331gZE3t/O/QgrJGvhi9L+d3+9/Rvn0v0CmRaOEefW/vo/VnCvj9b/ENlFIzDX2v0lH+7kPcfa//2gXmreU9r/NO39mnqD2v807f2aeoPa//2gXmreU9r9JR/u5D3H2v8Q2UUjMNfa/vo/VnCvj9b9ApkWjhHn1v53f739G+fS/QgrJGvhi9L999YGRN7fzv3OTMpG59vK/hp5JmEgi8r+csoghxDrxv8Xv7LgfQfC/2ej29sNs7r9zZf4FRzfsv2V7tX0b5Om/0SVJdrN1578EDK6une7kv7513NuCUeK/fNN5uUVC37+Jfm2ro8DZv3QZ123qI9S/ATMDwQLkzL8G27BZzGHBv9jHcMQzNae/HshwxDM1pz8Y27BZzGHBPxMzA8EC5Mw/dhnXbeoj1D+Sfm2ro8DZP4XTeblFQt8/w3Xc24JR4j8JDK6une7kP9MlSXazdec/aHu1fRvk6T90Zf4FRzfsP93o9vbDbO4/xu/suB9B8D+esoghxDrxP4eeSZhIIvI/dpMykbn28j9+9YGRN7fzP0MKyRr4YvQ/nt/vf0b59D9ApkWjhHn1P7+P1Zwr4/U/xDZRSMw19j9KR/u5D3H2P/9oF5q3lPY/zTt/Zp6g9j8=\",\"dtype\":\"float64\",\"shape\":[100]},\"y\":{\"__ndarray__\":\"m0Vf4fx+5T+/MUnsR9PmPxfR+xKQD+g/IBVMnogy6T/esFZ3/zrqP3RtfmneJ+s/CFMVRyz46z/5x3zvDavsP5nnqDXHP+0/+pIUpru17T+T/lUrbwzuPyCbppCGQ+4/egnV4cda7j9SKzyoGlLuP8AufwSIKe4/XYLvpDrh7T+Yy6aYfnntP5gahP/A8uw/tIZgl49N7D/Q9fMmmIrrPzrpBsenquo/up2xCqqu6T+xdYsHqJfoP/Bdzz7HZuc/ZIaaaEgd5j+EOooihrzkP4PDG4PzReM/X+ZNkxq74T/WpB6wmh3gPzyaMqtN3tw/T/yAqgdj2T98+mrzDM3VPyfrIzMjINI/sJ7rbVDAzD/KZwy2GyLFP0imBZBX27o/6OFMQG6spj8gXHFKWeuQv8zBtatwx7O/2CBxPp6fwb8Ye5Qd+kjJv3GiNVfea9C/a/2bU/kh1L+kqzGL5sLXv51ppczUStu/dMAXMg223r+3n7SEewDhv7ucYc4NlOK/uxWw6xQU5L+aRV/h/H7lv5xFX+H8fuW/wTFJ7EfT5r8Z0fsSkA/ovyEVTJ6IMum/4LBWd/866r92bX5p3ifrvwpTFUcs+Ou/+Md87w2r7L+a56g1xz/tv/qSFKa7te2/kv5VK28M7r8gm6aQhkPuv3oJ1eHHWu6/Uis8qBpS7r/BLn8EiCnuv16C76Q64e2/mMummH557b+WGoT/wPLsv7KGYJePTey/zvXzJpiK67846QbHp6rqv7qdsQqqrum/r3WLB6iX6L/tXc8+x2bnv2KGmmhIHea/gjqKIoa85L+AwxuD80Xjv13mTZMau+G/1qQesJod4L84mjKrTd7cv0v8gKoHY9m/ePpq8wzN1b8j6yMzIyDSv66e621QwMy/vGcMthsixb88pgWQV9u6v7jhTEBurKa/UFxxSlnrkD/kwbWrcMezP+QgcT6en8E/KnuUHfpIyT92ojVX3mvQP279m1P5IdQ/qKsxi+bC1z+gaaXM1ErbP3zAFzINtt4/uJ+0hHsA4T+/nGHODZTiP70VsOsUFOQ/m0Vf4fx+5T8=\",\"dtype\":\"float64\",\"shape\":[100]}},\"selected\":{\"id\":\"1062\",\"type\":\"Selection\"},\"selection_policy\":{\"id\":\"1063\",\"type\":\"UnionRenderers\"}},\"id\":\"1048\",\"type\":\"ColumnDataSource\"},{\"attributes\":{\"formatter\":{\"id\":\"1054\",\"type\":\"BasicTickFormatter\"},\"plot\":{\"id\":\"1003\",\"subtype\":\"Figure\",\"type\":\"Plot\"},\"ticker\":{\"id\":\"1014\",\"type\":\"BasicTicker\"}},\"id\":\"1013\",\"type\":\"LinearAxis\"},{\"attributes\":{\"source\":{\"id\":\"1038\",\"type\":\"ColumnDataSource\"}},\"id\":\"1042\",\"type\":\"CDSView\"},{\"attributes\":{\"fill_alpha\":0.3,\"fill_color\":\"#1f77b4\",\"x\":{\"field\":\"x\"},\"y\":{\"field\":\"y\"}},\"id\":\"1049\",\"type\":\"Patch\"},{\"attributes\":{},\"id\":\"1019\",\"type\":\"BasicTicker\"},{\"attributes\":{},\"id\":\"1014\",\"type\":\"BasicTicker\"},{\"attributes\":{\"fill_alpha\":0.1,\"fill_color\":\"#1f77b4\",\"line_alpha\":0.1,\"line_color\":\"#1f77b4\",\"x\":{\"field\":\"x\"},\"y\":{\"field\":\"y\"}},\"id\":\"1050\",\"type\":\"Patch\"},{\"attributes\":{\"plot\":{\"id\":\"1003\",\"subtype\":\"Figure\",\"type\":\"Plot\"},\"ticker\":{\"id\":\"1014\",\"type\":\"BasicTicker\"}},\"id\":\"1017\",\"type\":\"Grid\"},{\"attributes\":{\"source\":{\"id\":\"1043\",\"type\":\"ColumnDataSource\"}},\"id\":\"1047\",\"type\":\"CDSView\"},{\"attributes\":{\"data_source\":{\"id\":\"1048\",\"type\":\"ColumnDataSource\"},\"glyph\":{\"id\":\"1049\",\"type\":\"Patch\"},\"hover_glyph\":null,\"muted_glyph\":null,\"nonselection_glyph\":{\"id\":\"1050\",\"type\":\"Patch\"},\"selection_glyph\":null,\"view\":{\"id\":\"1052\",\"type\":\"CDSView\"}},\"id\":\"1051\",\"type\":\"GlyphRenderer\"},{\"attributes\":{\"callback\":null,\"data\":{\"x\":{\"__ndarray__\":\"RmxH5rj6ub8xVYQzAyv1P0Sg9UbGo+c/+BSbTULs0r8E6Xn5MBC2vw==\",\"dtype\":\"float64\",\"shape\":[5]},\"y\":{\"__ndarray__\":\"/RyhGtYw2b+6kXJahQbuP9vKOZpeSc0/MBQWoMpg3L8dzu9FIrDYvw==\",\"dtype\":\"float64\",\"shape\":[5]}},\"selected\":{\"id\":\"1058\",\"type\":\"Selection\"},\"selection_policy\":{\"id\":\"1059\",\"type\":\"UnionRenderers\"}},\"id\":\"1038\",\"type\":\"ColumnDataSource\"},{\"attributes\":{\"formatter\":{\"id\":\"1056\",\"type\":\"BasicTickFormatter\"},\"plot\":{\"id\":\"1003\",\"subtype\":\"Figure\",\"type\":\"Plot\"},\"ticker\":{\"id\":\"1019\",\"type\":\"BasicTicker\"}},\"id\":\"1018\",\"type\":\"LinearAxis\"},{\"attributes\":{\"source\":{\"id\":\"1048\",\"type\":\"ColumnDataSource\"}},\"id\":\"1052\",\"type\":\"CDSView\"},{\"attributes\":{},\"id\":\"1023\",\"type\":\"PanTool\"},{\"attributes\":{},\"id\":\"1054\",\"type\":\"BasicTickFormatter\"},{\"attributes\":{},\"id\":\"1024\",\"type\":\"WheelZoomTool\"}],\"root_ids\":[\"1003\"]},\"title\":\"Bokeh Application\",\"version\":\"1.0.0\"}};\n",
       "  var render_items = [{\"docid\":\"aa569fae-b150-417c-aae8-787787b8c801\",\"roots\":{\"1003\":\"b0b8d61a-ff3e-4424-968f-0842182f3ada\"}}];\n",
       "  root.Bokeh.embed.embed_items_notebook(docs_json, render_items);\n",
       "\n",
       "  }\n",
       "  if (root.Bokeh !== undefined) {\n",
       "    embed_document(root);\n",
       "  } else {\n",
       "    var attempts = 0;\n",
       "    var timer = setInterval(function(root) {\n",
       "      if (root.Bokeh !== undefined) {\n",
       "        embed_document(root);\n",
       "        clearInterval(timer);\n",
       "      }\n",
       "      attempts++;\n",
       "      if (attempts > 100) {\n",
       "        console.log(\"Bokeh: ERROR: Unable to run BokehJS code because BokehJS library is missing\");\n",
       "        clearInterval(timer);\n",
       "      }\n",
       "    }, 10, root)\n",
       "  }\n",
       "})(window);"
      ],
      "application/vnd.bokehjs_exec.v0+json": ""
     },
     "metadata": {
      "application/vnd.bokehjs_exec.v0+json": {
       "id": "1003"
      }
     },
     "output_type": "display_data"
    }
   ],
   "source": [
    "mean = np.zeros(2) \n",
    "cov = np.array([\n",
    "    [2, .95],\n",
    "    [.95, .9]\n",
    "])\n",
    "data = np.random.multivariate_normal(mean, cov, size=5)\n",
    "\n",
    "fig = figure(\n",
    "    title='Data',\n",
    "    width=400,\n",
    "    height=400,\n",
    "    x_range=(mean[0] - 5, mean[0] + 5),\n",
    "    y_range=(mean[1] - 5, mean[1] + 5)\n",
    ")\n",
    "fig.circle(data[:, 0], data[:, 1])\n",
    "plotting.plot_normal(fig, mean, cov, line_color='black', fill_alpha=.3)\n",
    "\n",
    "show(fig)"
   ]
  },
  {
   "cell_type": "markdown",
   "metadata": {},
   "source": [
    "## Model Creation\n",
    "\n",
    "We create two types of Normal distribution: one diagonal covariance matrix and another one with full covariance matrix."
   ]
  },
  {
   "cell_type": "code",
   "execution_count": 3,
   "metadata": {},
   "outputs": [
    {
     "data": {
      "text/plain": [
       "Normal(\n",
       "  (mean_precision): ConjugateBayesianParameter(prior=NormalGamma, posterior=NormalGamma)\n",
       ")"
      ]
     },
     "execution_count": 3,
     "metadata": {},
     "output_type": "execute_result"
    }
   ],
   "source": [
    "data_mean = torch.zeros(2) \n",
    "data_var = torch.ones(2)\n",
    "\n",
    "normal_iso = beer.Normal.create(data_mean, data_var, 1, cov_type='isotropic')\n",
    "normal_diag = beer.Normal.create(data_mean, data_var, 1, cov_type='diagonal')\n",
    "normal_full = beer.Normal.create(data_mean, data_var, 1, cov_type='full')\n",
    "\n",
    "models = {\n",
    "    'normal_full': normal_full,\n",
    "    'normal_diag': normal_diag,\n",
    "    'normal_iso': normal_iso\n",
    "}\n",
    "models['normal_diag']"
   ]
  },
  {
   "cell_type": "code",
   "execution_count": 4,
   "metadata": {},
   "outputs": [
    {
     "data": {
      "text/plain": [
       "NormalGamma(\n",
       "  (params): NormalGammaStdParams(mean=tensor([0., 0.]), scale=tensor(1.), shape=tensor(1.), rates=tensor([1., 1.]))\n",
       ")"
      ]
     },
     "execution_count": 4,
     "metadata": {},
     "output_type": "execute_result"
    }
   ],
   "source": [
    "model = models['normal_diag']\n",
    "model.mean_precision.prior"
   ]
  },
  {
   "cell_type": "code",
   "execution_count": 5,
   "metadata": {},
   "outputs": [
    {
     "data": {
      "text/plain": [
       "torch.Size([2])"
      ]
     },
     "execution_count": 5,
     "metadata": {},
     "output_type": "execute_result"
    }
   ],
   "source": [
    "model.mean_precision.posterior.params.mean.shape"
   ]
  },
  {
   "cell_type": "markdown",
   "metadata": {},
   "source": [
    "## Variational Bayes Training "
   ]
  },
  {
   "cell_type": "code",
   "execution_count": 6,
   "metadata": {},
   "outputs": [
    {
     "data": {
      "text/plain": [
       "torch.Size([1, 5, 2])"
      ]
     },
     "execution_count": 6,
     "metadata": {},
     "output_type": "execute_result"
    }
   ],
   "source": [
    "nbatches = 1\n",
    "X = torch.from_numpy(data).float()\n",
    "batches = X.view(nbatches, -1, 2)\n",
    "batches.shape"
   ]
  },
  {
   "cell_type": "code",
   "execution_count": 7,
   "metadata": {
    "scrolled": false
   },
   "outputs": [],
   "source": [
    "epochs = 10\n",
    "lrate = 1.\n",
    "\n",
    "\n",
    "optims = {\n",
    "    model_name: beer.VBConjugateOptimizer(\n",
    "        model.mean_field_factorization(), \n",
    "        lrate\n",
    "    )\n",
    "    for model_name, model in models.items()\n",
    "}\n",
    "\n",
    "elbos = {\n",
    "    model_name: [] \n",
    "    for model_name in models\n",
    "}  \n",
    "\n",
    "\n",
    "for epoch in range(epochs):\n",
    "    for name, model in models.items():\n",
    "        batch_ids = list(range(len(batches)))\n",
    "        random.shuffle(batch_ids)\n",
    "        for batch_id in batch_ids:\n",
    "            batch = batches[batch_id]\n",
    "            \n",
    "            optim = optims[name]\n",
    "\n",
    "            optim.init_step()\n",
    "            elbo = beer.evidence_lower_bound(model, batch, datasize=len(X))\n",
    "            elbo.backward()\n",
    "            optim.step()\n",
    "            \n",
    "            elbo = beer.evidence_lower_bound(model, X)\n",
    "            elbos[name].append(float(elbo) / len(X))  "
   ]
  },
  {
   "cell_type": "code",
   "execution_count": 8,
   "metadata": {
    "scrolled": false
   },
   "outputs": [
    {
     "data": {
      "text/html": [
       "\n",
       "\n",
       "\n",
       "\n",
       "\n",
       "\n",
       "  <div class=\"bk-root\" id=\"02e36ba2-ffbb-49e6-aa13-3d2fc6f445db\"></div>\n"
      ]
     },
     "metadata": {},
     "output_type": "display_data"
    },
    {
     "data": {
      "application/javascript": [
       "(function(root) {\n",
       "  function embed_document(root) {\n",
       "    \n",
       "  var docs_json = {\"87af8130-3bd2-4c72-908d-fae327b6e7e5\":{\"roots\":{\"references\":[{\"attributes\":{\"below\":[{\"id\":\"1148\",\"type\":\"LinearAxis\"}],\"left\":[{\"id\":\"1153\",\"type\":\"LinearAxis\"}],\"plot_height\":400,\"plot_width\":400,\"renderers\":[{\"id\":\"1148\",\"type\":\"LinearAxis\"},{\"id\":\"1152\",\"type\":\"Grid\"},{\"id\":\"1153\",\"type\":\"LinearAxis\"},{\"id\":\"1157\",\"type\":\"Grid\"},{\"id\":\"1166\",\"type\":\"BoxAnnotation\"},{\"id\":\"1184\",\"type\":\"Legend\"},{\"id\":\"1176\",\"type\":\"GlyphRenderer\"},{\"id\":\"1189\",\"type\":\"GlyphRenderer\"},{\"id\":\"1203\",\"type\":\"GlyphRenderer\"}],\"title\":{\"id\":\"1137\",\"type\":\"Title\"},\"toolbar\":{\"id\":\"1164\",\"type\":\"Toolbar\"},\"x_range\":{\"id\":\"1140\",\"type\":\"DataRange1d\"},\"x_scale\":{\"id\":\"1144\",\"type\":\"LinearScale\"},\"y_range\":{\"id\":\"1142\",\"type\":\"DataRange1d\"},\"y_scale\":{\"id\":\"1146\",\"type\":\"LinearScale\"}},\"id\":\"1138\",\"subtype\":\"Figure\",\"type\":\"Plot\"},{\"attributes\":{\"axis_label\":\"ln p(X)\",\"formatter\":{\"id\":\"1181\",\"type\":\"BasicTickFormatter\"},\"plot\":{\"id\":\"1138\",\"subtype\":\"Figure\",\"type\":\"Plot\"},\"ticker\":{\"id\":\"1154\",\"type\":\"BasicTicker\"}},\"id\":\"1153\",\"type\":\"LinearAxis\"},{\"attributes\":{},\"id\":\"1213\",\"type\":\"UnionRenderers\"},{\"attributes\":{\"overlay\":{\"id\":\"1166\",\"type\":\"BoxAnnotation\"}},\"id\":\"1160\",\"type\":\"BoxZoomTool\"},{\"attributes\":{\"line_alpha\":0.1,\"line_color\":\"#1f77b4\",\"x\":{\"field\":\"x\"},\"y\":{\"field\":\"y\"}},\"id\":\"1202\",\"type\":\"Line\"},{\"attributes\":{\"bottom_units\":\"screen\",\"fill_alpha\":{\"value\":0.5},\"fill_color\":{\"value\":\"lightgrey\"},\"left_units\":\"screen\",\"level\":\"overlay\",\"line_alpha\":{\"value\":1.0},\"line_color\":{\"value\":\"black\"},\"line_dash\":[4,4],\"line_width\":{\"value\":2},\"plot\":null,\"render_mode\":\"css\",\"right_units\":\"screen\",\"top_units\":\"screen\"},\"id\":\"1166\",\"type\":\"BoxAnnotation\"},{\"attributes\":{\"label\":{\"value\":\"normal_iso\"},\"renderers\":[{\"id\":\"1203\",\"type\":\"GlyphRenderer\"}]},\"id\":\"1215\",\"type\":\"LegendItem\"},{\"attributes\":{\"callback\":null,\"data\":{\"x\":[0,1,2,3,4,5,6,7,8,9],\"y\":[-2.641745758056641,-2.641745758056641,-2.641745758056641,-2.641745758056641,-2.641745758056641,-2.641745758056641,-2.641745758056641,-2.641745758056641,-2.641745758056641,-2.641745758056641]},\"selected\":{\"id\":\"1196\",\"type\":\"Selection\"},\"selection_policy\":{\"id\":\"1197\",\"type\":\"UnionRenderers\"}},\"id\":\"1173\",\"type\":\"ColumnDataSource\"},{\"attributes\":{\"axis_label\":\"step\",\"formatter\":{\"id\":\"1179\",\"type\":\"BasicTickFormatter\"},\"plot\":{\"id\":\"1138\",\"subtype\":\"Figure\",\"type\":\"Plot\"},\"ticker\":{\"id\":\"1149\",\"type\":\"BasicTicker\"}},\"id\":\"1148\",\"type\":\"LinearAxis\"},{\"attributes\":{\"source\":{\"id\":\"1200\",\"type\":\"ColumnDataSource\"}},\"id\":\"1204\",\"type\":\"CDSView\"},{\"attributes\":{},\"id\":\"1212\",\"type\":\"Selection\"},{\"attributes\":{},\"id\":\"1146\",\"type\":\"LinearScale\"},{\"attributes\":{},\"id\":\"1237\",\"type\":\"Selection\"},{\"attributes\":{},\"id\":\"1238\",\"type\":\"UnionRenderers\"},{\"attributes\":{\"plot\":{\"id\":\"1138\",\"subtype\":\"Figure\",\"type\":\"Plot\"},\"ticker\":{\"id\":\"1149\",\"type\":\"BasicTicker\"}},\"id\":\"1152\",\"type\":\"Grid\"},{\"attributes\":{\"source\":{\"id\":\"1186\",\"type\":\"ColumnDataSource\"}},\"id\":\"1190\",\"type\":\"CDSView\"},{\"attributes\":{\"callback\":null,\"data\":{\"x\":[0,1,2,3,4,5,6,7,8,9],\"y\":[-2.434750556945801,-2.434750556945801,-2.434750556945801,-2.434750556945801,-2.434750556945801,-2.434750556945801,-2.434750556945801,-2.434750556945801,-2.434750556945801,-2.434750556945801]},\"selected\":{\"id\":\"1237\",\"type\":\"Selection\"},\"selection_policy\":{\"id\":\"1238\",\"type\":\"UnionRenderers\"}},\"id\":\"1200\",\"type\":\"ColumnDataSource\"},{\"attributes\":{\"label\":{\"value\":\"normal_diag\"},\"renderers\":[{\"id\":\"1189\",\"type\":\"GlyphRenderer\"}]},\"id\":\"1199\",\"type\":\"LegendItem\"},{\"attributes\":{\"source\":{\"id\":\"1173\",\"type\":\"ColumnDataSource\"}},\"id\":\"1177\",\"type\":\"CDSView\"},{\"attributes\":{\"line_alpha\":0.1,\"line_color\":\"#1f77b4\",\"x\":{\"field\":\"x\"},\"y\":{\"field\":\"y\"}},\"id\":\"1175\",\"type\":\"Line\"},{\"attributes\":{},\"id\":\"1179\",\"type\":\"BasicTickFormatter\"},{\"attributes\":{},\"id\":\"1163\",\"type\":\"HelpTool\"},{\"attributes\":{},\"id\":\"1181\",\"type\":\"BasicTickFormatter\"},{\"attributes\":{\"callback\":null},\"id\":\"1142\",\"type\":\"DataRange1d\"},{\"attributes\":{\"line_color\":\"green\",\"x\":{\"field\":\"x\"},\"y\":{\"field\":\"y\"}},\"id\":\"1201\",\"type\":\"Line\"},{\"attributes\":{\"items\":[{\"id\":\"1185\",\"type\":\"LegendItem\"},{\"id\":\"1199\",\"type\":\"LegendItem\"},{\"id\":\"1215\",\"type\":\"LegendItem\"}],\"location\":\"bottom_right\",\"plot\":{\"id\":\"1138\",\"subtype\":\"Figure\",\"type\":\"Plot\"}},\"id\":\"1184\",\"type\":\"Legend\"},{\"attributes\":{},\"id\":\"1144\",\"type\":\"LinearScale\"},{\"attributes\":{\"label\":{\"value\":\"normal_full\"},\"renderers\":[{\"id\":\"1176\",\"type\":\"GlyphRenderer\"}]},\"id\":\"1185\",\"type\":\"LegendItem\"},{\"attributes\":{},\"id\":\"1158\",\"type\":\"PanTool\"},{\"attributes\":{},\"id\":\"1154\",\"type\":\"BasicTicker\"},{\"attributes\":{\"callback\":null,\"data\":{\"x\":[0,1,2,3,4,5,6,7,8,9],\"y\":[-2.5767004013061525,-2.5767004013061525,-2.5767004013061525,-2.5767004013061525,-2.5767004013061525,-2.5767004013061525,-2.5767004013061525,-2.5767004013061525,-2.5767004013061525,-2.5767004013061525]},\"selected\":{\"id\":\"1212\",\"type\":\"Selection\"},\"selection_policy\":{\"id\":\"1213\",\"type\":\"UnionRenderers\"}},\"id\":\"1186\",\"type\":\"ColumnDataSource\"},{\"attributes\":{\"plot\":null,\"text\":\"ELBO\"},\"id\":\"1137\",\"type\":\"Title\"},{\"attributes\":{\"dimension\":1,\"plot\":{\"id\":\"1138\",\"subtype\":\"Figure\",\"type\":\"Plot\"},\"ticker\":{\"id\":\"1154\",\"type\":\"BasicTicker\"}},\"id\":\"1157\",\"type\":\"Grid\"},{\"attributes\":{\"line_color\":\"red\",\"x\":{\"field\":\"x\"},\"y\":{\"field\":\"y\"}},\"id\":\"1174\",\"type\":\"Line\"},{\"attributes\":{\"line_color\":\"blue\",\"x\":{\"field\":\"x\"},\"y\":{\"field\":\"y\"}},\"id\":\"1187\",\"type\":\"Line\"},{\"attributes\":{\"data_source\":{\"id\":\"1173\",\"type\":\"ColumnDataSource\"},\"glyph\":{\"id\":\"1174\",\"type\":\"Line\"},\"hover_glyph\":null,\"muted_glyph\":null,\"nonselection_glyph\":{\"id\":\"1175\",\"type\":\"Line\"},\"selection_glyph\":null,\"view\":{\"id\":\"1177\",\"type\":\"CDSView\"}},\"id\":\"1176\",\"type\":\"GlyphRenderer\"},{\"attributes\":{\"line_alpha\":0.1,\"line_color\":\"#1f77b4\",\"x\":{\"field\":\"x\"},\"y\":{\"field\":\"y\"}},\"id\":\"1188\",\"type\":\"Line\"},{\"attributes\":{},\"id\":\"1149\",\"type\":\"BasicTicker\"},{\"attributes\":{\"data_source\":{\"id\":\"1186\",\"type\":\"ColumnDataSource\"},\"glyph\":{\"id\":\"1187\",\"type\":\"Line\"},\"hover_glyph\":null,\"muted_glyph\":null,\"nonselection_glyph\":{\"id\":\"1188\",\"type\":\"Line\"},\"selection_glyph\":null,\"view\":{\"id\":\"1190\",\"type\":\"CDSView\"}},\"id\":\"1189\",\"type\":\"GlyphRenderer\"},{\"attributes\":{\"callback\":null},\"id\":\"1140\",\"type\":\"DataRange1d\"},{\"attributes\":{\"active_drag\":\"auto\",\"active_inspect\":\"auto\",\"active_multi\":null,\"active_scroll\":\"auto\",\"active_tap\":\"auto\",\"tools\":[{\"id\":\"1158\",\"type\":\"PanTool\"},{\"id\":\"1159\",\"type\":\"WheelZoomTool\"},{\"id\":\"1160\",\"type\":\"BoxZoomTool\"},{\"id\":\"1161\",\"type\":\"SaveTool\"},{\"id\":\"1162\",\"type\":\"ResetTool\"},{\"id\":\"1163\",\"type\":\"HelpTool\"}]},\"id\":\"1164\",\"type\":\"Toolbar\"},{\"attributes\":{},\"id\":\"1196\",\"type\":\"Selection\"},{\"attributes\":{},\"id\":\"1159\",\"type\":\"WheelZoomTool\"},{\"attributes\":{},\"id\":\"1161\",\"type\":\"SaveTool\"},{\"attributes\":{},\"id\":\"1197\",\"type\":\"UnionRenderers\"},{\"attributes\":{},\"id\":\"1162\",\"type\":\"ResetTool\"},{\"attributes\":{\"data_source\":{\"id\":\"1200\",\"type\":\"ColumnDataSource\"},\"glyph\":{\"id\":\"1201\",\"type\":\"Line\"},\"hover_glyph\":null,\"muted_glyph\":null,\"nonselection_glyph\":{\"id\":\"1202\",\"type\":\"Line\"},\"selection_glyph\":null,\"view\":{\"id\":\"1204\",\"type\":\"CDSView\"}},\"id\":\"1203\",\"type\":\"GlyphRenderer\"}],\"root_ids\":[\"1138\"]},\"title\":\"Bokeh Application\",\"version\":\"1.0.0\"}};\n",
       "  var render_items = [{\"docid\":\"87af8130-3bd2-4c72-908d-fae327b6e7e5\",\"roots\":{\"1138\":\"02e36ba2-ffbb-49e6-aa13-3d2fc6f445db\"}}];\n",
       "  root.Bokeh.embed.embed_items_notebook(docs_json, render_items);\n",
       "\n",
       "  }\n",
       "  if (root.Bokeh !== undefined) {\n",
       "    embed_document(root);\n",
       "  } else {\n",
       "    var attempts = 0;\n",
       "    var timer = setInterval(function(root) {\n",
       "      if (root.Bokeh !== undefined) {\n",
       "        embed_document(root);\n",
       "        clearInterval(timer);\n",
       "      }\n",
       "      attempts++;\n",
       "      if (attempts > 100) {\n",
       "        console.log(\"Bokeh: ERROR: Unable to run BokehJS code because BokehJS library is missing\");\n",
       "        clearInterval(timer);\n",
       "      }\n",
       "    }, 10, root)\n",
       "  }\n",
       "})(window);"
      ],
      "application/vnd.bokehjs_exec.v0+json": ""
     },
     "metadata": {
      "application/vnd.bokehjs_exec.v0+json": {
       "id": "1138"
      }
     },
     "output_type": "display_data"
    }
   ],
   "source": [
    "colors = {\n",
    "    'normal_iso': 'green',\n",
    "    'normal_diag': 'blue',\n",
    "    'normal_full': 'red',\n",
    "    \n",
    "}\n",
    "# Plot the ELBO.\n",
    "fig = figure(title='ELBO', width=400, height=400, x_axis_label='step',\n",
    "              y_axis_label='ln p(X)')\n",
    "for model_name, elbo in elbos.items():\n",
    "    fig.line(range(len(elbo)), elbo, legend=model_name, color=colors[model_name])\n",
    "fig.legend.location = 'bottom_right'\n",
    "\n",
    "show(fig)"
   ]
  },
  {
   "cell_type": "code",
   "execution_count": 9,
   "metadata": {
    "scrolled": false
   },
   "outputs": [
    {
     "data": {
      "text/html": [
       "\n",
       "\n",
       "\n",
       "\n",
       "\n",
       "\n",
       "  <div class=\"bk-root\" id=\"5f05e9e9-1b8f-4f86-8f10-bbd140ea8a18\"></div>\n"
      ]
     },
     "metadata": {},
     "output_type": "display_data"
    },
    {
     "data": {
      "application/javascript": [
       "(function(root) {\n",
       "  function embed_document(root) {\n",
       "    \n",
       "  var docs_json = {\"cc437d7c-acd4-4fd5-9b4d-50421bfabaeb\":{\"roots\":{\"references\":[{\"attributes\":{\"below\":[{\"id\":\"1321\",\"type\":\"LinearAxis\"}],\"left\":[{\"id\":\"1326\",\"type\":\"LinearAxis\"}],\"plot_height\":400,\"plot_width\":400,\"renderers\":[{\"id\":\"1321\",\"type\":\"LinearAxis\"},{\"id\":\"1325\",\"type\":\"Grid\"},{\"id\":\"1326\",\"type\":\"LinearAxis\"},{\"id\":\"1330\",\"type\":\"Grid\"},{\"id\":\"1339\",\"type\":\"BoxAnnotation\"},{\"id\":\"1349\",\"type\":\"GlyphRenderer\"},{\"id\":\"1354\",\"type\":\"GlyphRenderer\"},{\"id\":\"1359\",\"type\":\"GlyphRenderer\"},{\"id\":\"1364\",\"type\":\"GlyphRenderer\"},{\"id\":\"1369\",\"type\":\"GlyphRenderer\"},{\"id\":\"1374\",\"type\":\"GlyphRenderer\"},{\"id\":\"1379\",\"type\":\"GlyphRenderer\"}],\"title\":{\"id\":\"1406\",\"type\":\"Title\"},\"toolbar\":{\"id\":\"1337\",\"type\":\"Toolbar\"},\"x_range\":{\"id\":\"1313\",\"type\":\"Range1d\"},\"x_scale\":{\"id\":\"1317\",\"type\":\"LinearScale\"},\"y_range\":{\"id\":\"1315\",\"type\":\"Range1d\"},\"y_scale\":{\"id\":\"1319\",\"type\":\"LinearScale\"}},\"id\":\"1312\",\"subtype\":\"Figure\",\"type\":\"Plot\"},{\"attributes\":{\"callback\":null,\"end\":5,\"start\":-5},\"id\":\"1313\",\"type\":\"Range1d\"},{\"attributes\":{},\"id\":\"1417\",\"type\":\"Selection\"},{\"attributes\":{\"formatter\":{\"id\":\"1407\",\"type\":\"BasicTickFormatter\"},\"plot\":{\"id\":\"1312\",\"subtype\":\"Figure\",\"type\":\"Plot\"},\"ticker\":{\"id\":\"1322\",\"type\":\"BasicTicker\"}},\"id\":\"1321\",\"type\":\"LinearAxis\"},{\"attributes\":{\"fill_alpha\":0.1,\"fill_color\":\"#1f77b4\",\"line_alpha\":0.1,\"line_color\":\"#1f77b4\",\"x\":{\"field\":\"x\"},\"y\":{\"field\":\"y\"}},\"id\":\"1373\",\"type\":\"Patch\"},{\"attributes\":{\"data_source\":{\"id\":\"1351\",\"type\":\"ColumnDataSource\"},\"glyph\":{\"id\":\"1352\",\"type\":\"Patch\"},\"hover_glyph\":null,\"muted_glyph\":null,\"nonselection_glyph\":{\"id\":\"1353\",\"type\":\"Patch\"},\"selection_glyph\":null,\"view\":{\"id\":\"1355\",\"type\":\"CDSView\"}},\"id\":\"1354\",\"type\":\"GlyphRenderer\"},{\"attributes\":{\"fill_alpha\":{\"value\":0.1},\"fill_color\":{\"value\":\"#1f77b4\"},\"line_alpha\":{\"value\":0.1},\"line_color\":{\"value\":\"#1f77b4\"},\"x\":{\"field\":\"x\"},\"y\":{\"field\":\"y\"}},\"id\":\"1348\",\"type\":\"Circle\"},{\"attributes\":{},\"id\":\"1418\",\"type\":\"UnionRenderers\"},{\"attributes\":{\"data_source\":{\"id\":\"1371\",\"type\":\"ColumnDataSource\"},\"glyph\":{\"id\":\"1372\",\"type\":\"Patch\"},\"hover_glyph\":null,\"muted_glyph\":null,\"nonselection_glyph\":{\"id\":\"1373\",\"type\":\"Patch\"},\"selection_glyph\":null,\"view\":{\"id\":\"1375\",\"type\":\"CDSView\"}},\"id\":\"1374\",\"type\":\"GlyphRenderer\"},{\"attributes\":{\"source\":{\"id\":\"1351\",\"type\":\"ColumnDataSource\"}},\"id\":\"1355\",\"type\":\"CDSView\"},{\"attributes\":{},\"id\":\"1332\",\"type\":\"WheelZoomTool\"},{\"attributes\":{},\"id\":\"1419\",\"type\":\"Selection\"},{\"attributes\":{\"source\":{\"id\":\"1371\",\"type\":\"ColumnDataSource\"}},\"id\":\"1375\",\"type\":\"CDSView\"},{\"attributes\":{\"callback\":null,\"data\":{\"x\":{\"__ndarray__\":\"AAAAUNnr7T9uTeTmieDtP2+Ra5Gnvu0/asKg9FWG7T/wRUBP0DftP0IoZTtp0+w/wkakV4pZ7D/g1fDXs8rrP/Ujv/57J+s/HXjzfo5w6j/JVEPHq6bpPzEfxzeoyug/wx6RQmvd5z8c2TR47t/mP8rpPoE80+U/GIKxBXC45D+Gp6yDspDjP977ehY7XeI/1kRML00f4T+q8+uBbrDfP02KP8CiEt0/1Cecsvdn2j+N8Y58O7PXPwp7tdhG99Q/2PslGvo20j9ZCLRLdOrOP/YJlc7aack/7hzihvHxwz+0YI818hC9P9zWAf9FZrI/qMVA4Vu8nz/gNBHTw0yCv7i9r2cPcqi/KDxlHcPUtb+4EIwtrxK/vyan+4SJ9MO/ZmTTYFEnyL8Ke0SKRB3Mv8B8HF840s+/jqmGTiOh0b828Oa96DTTv+ZHfr3DotS/vqvhbzPp1b+CjUhv4AbXv4RQyjae+te/4IuAXmzD2L/UhEGpd2DZv94i1+Ia0dm/3JrIjd8U2r8AAABgfivavwAAAGB+K9q/3JrIjd8U2r/eItfiGtHZv9SEQal3YNm/4IuAXmzD2L+EUMo2nvrXv4KNSG/gBte/vqvhbzPp1b/mR369w6LUvzbw5r3oNNO/jqmGTiOh0b/AfBxfONLPvwp7RIpEHcy/ZmTTYFEnyL8mp/uEifTDv7gQjC2vEr+/KDxlHcPUtb+4va9nD3Kov+A0EdPDTIK/qMVA4Vu8nz/c1gH/RWayP7RgjzXyEL0/7hzihvHxwz/2CZXO2mnJP1kItEt06s4/2PslGvo20j8Ke7XYRvfUP43xjnw7s9c/1Cecsvdn2j9Nij/AohLdP6rz64FusN8/1kRML00f4T/e+3oWO13iP4anrIOykOM/GIKxBXC45D/K6T6BPNPlPxzZNHju3+Y/wx6RQmvd5z8xH8c3qMroP8lUQ8erpuk/HXjzfo5w6j/1I7/+eyfrP+DV8Nezyus/wkakV4pZ7D9CKGU7adPsP/BFQE/QN+0/asKg9FWG7T9vkWuRp77tP25N5OaJ4O0/AAAAUNnr7T8=\",\"dtype\":\"float64\",\"shape\":[100]},\"y\":{\"__ndarray__\":\"AAAAoDAAg78ddBDeDEuhPwrBxcp6n7M/NgNOCkuCvj+WClHIQaHEP7M+T5Jq6sk/2oxRaxAXzz+1zdvs4BDSP4vY+I2YgtQ/wTdn3hze1j+vbSv+8iDZP57wwwO6SNs/Rhu2fC1T3T8sdinQJz7fP0qCh0DSg+A/tTG6JuFW4T8MlmOUYhfiP9sEegeMxOI/FQ47V6dd4z9TO8tzE+LjPwpIpA9FUeQ/9JYfMseq5D/dvIKyO+7kP6qvDJtbG+U/12abc/cx5T/XZptz9zHlP6qvDJtbG+U/3byCsjvu5D/0lh8yx6rkPwtIpA9FUeQ/VDvLcxPi4z8WDjtXp13jP9sEegeMxOI/DZZjlGIX4j+2Mbom4VbhP0uCh0DSg+A/L3Yp0Cc+3z9HG7Z8LVPdP6LwwwO6SNs/sm0r/vIg2T/HN2feHN7WP47Y+I2YgtQ/t83b7OAQ0j/kjFFrEBfPP7k+T5Jq6sk/oApRyEGhxD9EA04KS4K+PyLBxcp6n7M/PHQQ3gxLoT/R//+fMACDvy8AAKAwAIO/PHQQLiXLqr8iwcXyhl+4v6IBJ5krocG/oApR3EcBx7+5Pk+mcErMv3LGqD+Lu9C/t83b9uNA07+O2PiXm7LVv8c3Z+gfDti/sm0rCPZQ2r+i8MMNvXjcv0cbtoYwg96/GLsUbRU34L9LgofF0xvhv7Yxuqvi7uG/DZZjGWSv4r/bBHqMjVzjvxYOO9yo9eO/VDvL+BR65L8LSKSURunkv/SWH7fIQuW/3byCNz2G5b+qrwwgXbPlv9dmm/j4yeW/12ab+PjJ5b+qrwwgXbPlv928gjc9huW/9JYft8hC5b8KSKSURunkv1M7y/gUeuS/FQ473Kj147/bBHqMjVzjvwyWYxlkr+K/tTG6q+Lu4b9KgofF0xvhvxa7FG0VN+C/Rhu2hjCD3r+e8MMNvXjcv69tKwj2UNq/wTdn6B8O2L+L2PiXm7LVv7XN2/bjQNO/bcaoP4u70L+zPk+mcErMv5YKUdxHAce/mwEnmSuhwb8KwcXyhl+4vx10EC4ly6q/AAAAoDAAg78=\",\"dtype\":\"float64\",\"shape\":[100]}},\"selected\":{\"id\":\"1415\",\"type\":\"Selection\"},\"selection_policy\":{\"id\":\"1416\",\"type\":\"UnionRenderers\"}},\"id\":\"1356\",\"type\":\"ColumnDataSource\"},{\"attributes\":{\"dimension\":1,\"plot\":{\"id\":\"1312\",\"subtype\":\"Figure\",\"type\":\"Plot\"},\"ticker\":{\"id\":\"1327\",\"type\":\"BasicTicker\"}},\"id\":\"1330\",\"type\":\"Grid\"},{\"attributes\":{},\"id\":\"1420\",\"type\":\"UnionRenderers\"},{\"attributes\":{\"plot\":{\"id\":\"1312\",\"subtype\":\"Figure\",\"type\":\"Plot\"},\"ticker\":{\"id\":\"1322\",\"type\":\"BasicTicker\"}},\"id\":\"1325\",\"type\":\"Grid\"},{\"attributes\":{\"fill_alpha\":0.3,\"fill_color\":\"green\",\"x\":{\"field\":\"x\"},\"y\":{\"field\":\"y\"}},\"id\":\"1357\",\"type\":\"Patch\"},{\"attributes\":{},\"id\":\"1421\",\"type\":\"Selection\"},{\"attributes\":{},\"id\":\"1322\",\"type\":\"BasicTicker\"},{\"attributes\":{\"fill_alpha\":0.3,\"fill_color\":\"#C7B097\",\"x\":{\"field\":\"x\"},\"y\":{\"field\":\"y\"}},\"id\":\"1377\",\"type\":\"Patch\"},{\"attributes\":{\"fill_alpha\":0.1,\"fill_color\":\"#1f77b4\",\"line_alpha\":0.1,\"line_color\":\"#1f77b4\",\"x\":{\"field\":\"x\"},\"y\":{\"field\":\"y\"}},\"id\":\"1358\",\"type\":\"Patch\"},{\"attributes\":{\"formatter\":{\"id\":\"1409\",\"type\":\"BasicTickFormatter\"},\"plot\":{\"id\":\"1312\",\"subtype\":\"Figure\",\"type\":\"Plot\"},\"ticker\":{\"id\":\"1327\",\"type\":\"BasicTicker\"}},\"id\":\"1326\",\"type\":\"LinearAxis\"},{\"attributes\":{\"fill_alpha\":0.1,\"fill_color\":\"#1f77b4\",\"line_alpha\":0.1,\"line_color\":\"#1f77b4\",\"x\":{\"field\":\"x\"},\"y\":{\"field\":\"y\"}},\"id\":\"1353\",\"type\":\"Patch\"},{\"attributes\":{},\"id\":\"1422\",\"type\":\"UnionRenderers\"},{\"attributes\":{\"fill_alpha\":0.1,\"fill_color\":\"#1f77b4\",\"line_alpha\":0.1,\"line_color\":\"#1f77b4\",\"x\":{\"field\":\"x\"},\"y\":{\"field\":\"y\"}},\"id\":\"1378\",\"type\":\"Patch\"},{\"attributes\":{\"data_source\":{\"id\":\"1356\",\"type\":\"ColumnDataSource\"},\"glyph\":{\"id\":\"1357\",\"type\":\"Patch\"},\"hover_glyph\":null,\"muted_glyph\":null,\"nonselection_glyph\":{\"id\":\"1358\",\"type\":\"Patch\"},\"selection_glyph\":null,\"view\":{\"id\":\"1360\",\"type\":\"CDSView\"}},\"id\":\"1359\",\"type\":\"GlyphRenderer\"},{\"attributes\":{},\"id\":\"1327\",\"type\":\"BasicTicker\"},{\"attributes\":{\"source\":{\"id\":\"1346\",\"type\":\"ColumnDataSource\"}},\"id\":\"1350\",\"type\":\"CDSView\"},{\"attributes\":{},\"id\":\"1423\",\"type\":\"Selection\"},{\"attributes\":{\"data_source\":{\"id\":\"1376\",\"type\":\"ColumnDataSource\"},\"glyph\":{\"id\":\"1377\",\"type\":\"Patch\"},\"hover_glyph\":null,\"muted_glyph\":null,\"nonselection_glyph\":{\"id\":\"1378\",\"type\":\"Patch\"},\"selection_glyph\":null,\"view\":{\"id\":\"1380\",\"type\":\"CDSView\"}},\"id\":\"1379\",\"type\":\"GlyphRenderer\"},{\"attributes\":{\"source\":{\"id\":\"1356\",\"type\":\"ColumnDataSource\"}},\"id\":\"1360\",\"type\":\"CDSView\"},{\"attributes\":{},\"id\":\"1424\",\"type\":\"UnionRenderers\"},{\"attributes\":{\"source\":{\"id\":\"1376\",\"type\":\"ColumnDataSource\"}},\"id\":\"1380\",\"type\":\"CDSView\"},{\"attributes\":{},\"id\":\"1331\",\"type\":\"PanTool\"},{\"attributes\":{\"callback\":null,\"data\":{\"x\":{\"__ndarray__\":\"AAAAOGJI8D8l+6h9CELwP3ja1vwBL/A/hlgbuWIP8D+IZ7Lsl8bvP76jiyvYVe8/Nj4+yvzM7j94+ZHAlSzuP869J8tLde0/OIX4ud+n7D+tsYClKcXrP00sbQsYzuo/LXC5067D6T+ra0Y/BqfoP2DWCcFJeec/qR0Mw7Y75j8CSIBYm+/kP8AQVd5UluM/pO2wi04x4j/Cmtvz/8HgP/g6TvbWk94/0LnvgDmV2z8+zC76TYvYP81SD7lGedU/hs4pnF5i0j/+YqxHq5POP3Ba4Q3bZcg/jmeii8xBwj/EGEH86lu4P2Qojk3qwqg/gEBlJCwaZD8o2g67RrOlv/CFqPLVAba/BiAB4gRmwL+edjCMcpbFv35ZJ4S+jMq/pK4ZfbBDz79Y4HJnKdvRv5hY2tb779O/VmMBCx/e1b9sCvEzi6PXv5p7T1ZjPtm/7vIjQfes2r9qfHxUxe3bv3xHFxd8/9y/EM9kmfvg3b8aYm2kVpHev9xpW7PTD9+/lOyjtu1b378AAACgVHXfvwAAAKBUdd+/lOyjtu1b37/caVuz0w/fvxpibaRWkd6/EM9kmfvg3b98RxcXfP/cv2p8fFTF7du/7vIjQfes2r+ae09WYz7Zv2wK8TOLo9e/VmMBCx/e1b+YWNrW++/Tv1jgcmcp29G/pK4ZfbBDz79+WSeEvozKv552MIxylsW/BiAB4gRmwL/whajy1QG2vyjaDrtGs6W/gEBlJCwaZD9kKI5N6sKoP8QYQfzqW7g/jmeii8xBwj9wWuEN22XIP/5irEerk84/hs4pnF5i0j/NUg+5RnnVPz7MLvpNi9g/0LnvgDmV2z/4Ok721pPeP8Ka2/P/weA/pO2wi04x4j/AEFXeVJbjPwJIgFib7+Q/qR0Mw7Y75j9g1gnBSXnnP6trRj8Gp+g/LXC5067D6T9NLG0LGM7qP62xgKUpxes/OIX4ud+n7D/OvSfLS3XtP3j5kcCVLO4/Nj4+yvzM7j++o4sr2FXvP4hnsuyXxu8/hlgbuWIP8D942tb8AS/wPyX7qH0IQvA/AAAAOGJI8D8=\",\"dtype\":\"float64\",\"shape\":[100]},\"y\":{\"__ndarray__\":\"AAAAW7cl0z/53kIUQ6/VP4XHAjNfIdg/h7rwEnl52j/cEfFrGbXcPzyXMOrm0d4/m3FbU9Rm4D/NSe4+JFPhP2rll6DqLOI/2vA7YULz4j92DdnaWqXjP1QoBrR4QuQ/JukHpfbJ5D9J5q4lRjvlPxy3RwPwleU/ISr/3ZTZ5T/UtjaN7QXmPzSgX2rLGuY/QQkOghgY5j9tWxCr1/3lP6C0coMkzOU//oBxUzOD5T9T0HnWUCPlP1BCcerhrOQ/enOaJWMg5D+hiYVTaH7jP6u+ltmbx+I/QHfGA7784T9ydVc6pB7hPwL0VyE4LuA/RqazRe1Y3j8SyMjJ3TTcPztob1iC8tk/wc0aWjuU1z88PiyWhhzVPzs1CJT8jdI/GJAPwJvWzz+YLEtugG7KP0t7wDhX6cQ/8uKOa92Zvj8cLX3gWz6zP9BW6I9xMJ8/QMnRTrSGjb+sPS9Ozliuv0Z7jyaBmrq/9QZjMo/3wr/l3wLHKY/Iv+QBH1QuDs6/NErfXGq30b////9kulXUvwEAAGW6VdS//N5CHkbf1r+KxwI9YlHZv4q68Bx8qdu/4BHxdRzl3b+fSxj69ADgv51xW9jV/uC/zUnuwyXr4b9s5Zcl7MTiv9zwO+ZDi+O/dw3ZX1w95L9VKAY5etrkvybpByr4YeW/SeauqkfT5b8ct0eI8S3mvyIq/2KWcea/1LY2Eu+d5r80oF/vzLLmv0EJDgcasOa/bVsQMNmV5r+gtHIIJmTmv/6Acdg0G+a/UtB5W1K75b9PQnFv40Tlv3lzmqpkuOS/oImF2GkW5L+qvpZenV/jvz93xoi/lOK/cnVXv6W24b8A9FemOcbgv0Kms0/wiN+/DsjI0+Bk3b83aG9ihSLbv8DNGmQ+xNi/Nj4soIlM1r86NQie/73TvwjIB+pQG9G/lSxLgobOzL9De8BMXUnHv3Fxx8n0rMG/AC19CGj+t784K/QXURipvwBtXOJZ83C/0D0v/rXYpD9Qe4/+dNq1PwEHYx6Jl8A/6t8CsyMvxj/yAR9AKK7LPzdK31Jnh9A/AAAAW7cl0z8=\",\"dtype\":\"float64\",\"shape\":[100]}},\"selected\":{\"id\":\"1423\",\"type\":\"Selection\"},\"selection_policy\":{\"id\":\"1424\",\"type\":\"UnionRenderers\"}},\"id\":\"1376\",\"type\":\"ColumnDataSource\"},{\"attributes\":{\"fill_alpha\":0.3,\"fill_color\":\"#98AFC7\",\"x\":{\"field\":\"x\"},\"y\":{\"field\":\"y\"}},\"id\":\"1362\",\"type\":\"Patch\"},{\"attributes\":{\"fill_alpha\":0.1,\"fill_color\":\"#1f77b4\",\"line_alpha\":0.1,\"line_color\":\"#1f77b4\",\"x\":{\"field\":\"x\"},\"y\":{\"field\":\"y\"}},\"id\":\"1363\",\"type\":\"Patch\"},{\"attributes\":{\"plot\":null,\"text\":\"\"},\"id\":\"1406\",\"type\":\"Title\"},{\"attributes\":{},\"id\":\"1336\",\"type\":\"HelpTool\"},{\"attributes\":{\"data_source\":{\"id\":\"1361\",\"type\":\"ColumnDataSource\"},\"glyph\":{\"id\":\"1362\",\"type\":\"Patch\"},\"hover_glyph\":null,\"muted_glyph\":null,\"nonselection_glyph\":{\"id\":\"1363\",\"type\":\"Patch\"},\"selection_glyph\":null,\"view\":{\"id\":\"1365\",\"type\":\"CDSView\"}},\"id\":\"1364\",\"type\":\"GlyphRenderer\"},{\"attributes\":{},\"id\":\"1407\",\"type\":\"BasicTickFormatter\"},{\"attributes\":{\"callback\":null,\"data\":{\"x\":{\"__ndarray__\":\"AAAA6D1b/D9K9lFzik78P++0rXF9KPw/DbE26j7p+z+IZ7JkEZH7P76ji6NRIPs/Nj4+QnaX+j94+ZE4D/f5P869J0PFP/k/OIX4MVly+D+tsYAdo4/3P00sbYORmPY/LXC5SyiO9T+ra0a3f3H0P2DWCTnDQ/M/qR0MOzAG8j8CSIDQFLrwP4Ahqqycwe4/SdthB5D36z+ENbfX8hjpP/g6TubJKOY/0LnvcCwq4z8+zC7qQCDgP5qlHlJzHNo/C51TGKPu0z/8xVhPInvLP8BphbcDP74/2Hgmuia7lj94zn2HkqCyv87rOBm/SsW//mpub7GF0L+KtsPO60LWv/hCVBkF19u/A5AAgQ+e4L9POxhWRjbjv7+sE1JsseW/UteMTuUM6L9Y4HJ3Nkbqv5hY2uYIW+y/VmMBGyxJ7r82hfghTAfwv829JzO41PC/d/mRKAKM8b81Pj4yaSzyv76ji5NEtfK/iGeyVAQm878NsTbaMX7zv+60rWFwvfO/SvZRY33j878AAADYMPDzvwAAANgw8PO/SvZRY33j87/utK1hcL3zvw2xNtoxfvO/iGeyVAQm87++o4uTRLXyvzU+PjJpLPK/d/mRKAKM8b/NvSczuNTwvzaF+CFMB/C/VmMBGyxJ7r+YWNrmCFvsv1jgcnc2Ruq/UteMTuUM6L+/rBNSbLHlv087GFZGNuO/A5AAgQ+e4L/4QlQZBdfbv4q2w87rQta//mpub7GF0L/O6zgZv0rFv3jOfYeSoLK/2Hgmuia7lj/AaYW3Az++P/zFWE8ie8s/C51TGKPu0z+apR5ScxzaPz7MLupAIOA/0LnvcCwq4z/4Ok7mySjmP4Q1t9fyGOk/SdthB5D36z+AIaqsnMHuPwJIgNAUuvA/qR0MOzAG8j9g1gk5w0PzP6trRrd/cfQ/LXC5SyiO9T9NLG2DkZj2P62xgB2jj/c/OIX4MVly+D/OvSdDxT/5P3j5kTgP9/k/Nj4+QnaX+j++o4ujUSD7P4hnsmQRkfs/DbE26j7p+z/vtK1xfSj8P0r2UXOKTvw/AAAA6D1b/D8=\",\"dtype\":\"float64\",\"shape\":[100]},\"y\":{\"__ndarray__\":\"AACAHbhx4z/53sLWQ/vlP4XHgvVfbeg/h7pw1XnF6j/cEXEuGgHtPzyXsKznHe8/m3GbtNSM8D/NSS6gJHnxP2rl1wHrUvI/2vB7wkIZ8z92DRk8W8vzP1QoRhV5aPQ/JulHBvfv9D9J5u6GRmH1Pxy3h2Twu/U/ISo/P5X/9T/Utnbu7Sv2PzSgn8vLQPY/QQlO4xg+9j9tW1AM2CP2P6C0suQk8vU//oCxtDOp9T9T0Lk3UUn1P1BCsUvi0vQ/enPahmNG9D+hicW0aKTzP6u+1jqc7fI/QHcGZb4i8j9ydZebpETxPwL0l4I4VPA/RqYzCO6k7j8SyEiM3oDsPzto7xqDPuo/wc2aHDzg5z88PqxYh2jlPzs1iFb92eI/DMiHok434D+YLEvzgQbbP0t7wL1YgdU/8uKOdeDJzz8cLX3qXm7EP2gr9Ns++LE/QMnR/psGlL+sPS86yPi7v0Z7jxx+asm/9QZjrY1f0r/l3wJCKPfXv+QBH88sdt2/NEpfmmlr4b///3+iuQnkvwEAgKK5CeS//N7CW0WT5r+Kx4J6YQXpv4q6cFp7Xeu/4BFxsxuZ7b8+l7Ax6bXvv51xG3fV2PC/zUmuYiXF8b9s5VfE657yv9zw+4RDZfO/dw2Z/lsX9L9VKMbXebT0vybpx8j3O/W/SeZuSUet9b8ctwcn8Qf2vyIqvwGWS/a/1Lb2sO539r80oB+OzIz2v0EJzqUZiva/bVvQzthv9r+gtDKnJT72v/6AMXc09fW/UtA5+lGV9b9PQjEO4x71v3lzWklkkvS/oIlFd2nw87+qvlb9nDnzvz93hie/bvK/cnUXXqWQ8b8A9BdFOaDwv0KmM43vPO+/DshIEeAY7b83aO+fhNbqv8DNmqE9eOi/Nj6s3YgA5r86NYjb/nHjvwjIhydQz+C/lSxL/YQ23L9De8DHW7HWv3Fxx0TzFNG/AC19/mTOxr84K/QDS7i2vwCYHO21ZlA/0D0vErw4tz9Qe48IeArHPwEHY6OKL9E/6t8COCXH1j/yAR/FKUbcPzdKXxVo0+A/AACAHbhx4z8=\",\"dtype\":\"float64\",\"shape\":[100]}},\"selected\":{\"id\":\"1421\",\"type\":\"Selection\"},\"selection_policy\":{\"id\":\"1422\",\"type\":\"UnionRenderers\"}},\"id\":\"1371\",\"type\":\"ColumnDataSource\"},{\"attributes\":{\"source\":{\"id\":\"1361\",\"type\":\"ColumnDataSource\"}},\"id\":\"1365\",\"type\":\"CDSView\"},{\"attributes\":{},\"id\":\"1409\",\"type\":\"BasicTickFormatter\"},{\"attributes\":{},\"id\":\"1335\",\"type\":\"ResetTool\"},{\"attributes\":{\"callback\":null,\"data\":{\"x\":{\"__ndarray__\":\"AAAAyD1b/D8cy2JTik78P4X28FF9KPw/TcLNyj7p+z8tU75FEZH7P5X5LIVRIPs/4fCUJHaX+j/OPL0bD/f5PwvmRSfFP/k/E+cmF1ly+D9/g9sDo4/3P2NoD2uRmPY/Zri8NCiO9T+D7sKhf3H0P341FiXDQ/M/EFa9KDAG8j8AnOm/FLrwP03nD4+cwe4/5OJ57Y/36z98v5zB8hjpP8aHGNTJKOY/X/GxYiwq4z/E6fffQCDgPxQq1EVzHNo/7Vg5FKPu0z86To1XInvLP9hXr+gDP74/KMgCASi7lj/sio8VkqCyvwYfYtC+SsW/8H45Q7GF0L/AxfOa60LWv5DOH94E19u//TfTXw+e4L8drHoxRjbjv/pqLCpsseW/At2FI+UM6L/KcHlJNkbqv8TQHrYIW+y/+ga35ytJ7r8R5yYHTAfwvwrmRRe41PC/zTy9CwKM8b/g8JQUaSzyv5X5LHVEtfK/LFO+NQQm879Nws26MX7zv4X28EFwvfO/HMtiQ33j878AAAC4MPDzvwAAALgw8PO/HMtiQ33j87+F9vBBcL3zv03CzboxfvO/LFO+NQQm87+V+Sx1RLXyv+DwlBRpLPK/zTy9CwKM8b8K5kUXuNTwvxHnJgdMB/C/+ga35ytJ7r/E0B62CFvsv8pweUk2Ruq/At2FI+UM6L/6aiwqbLHlvx2sejFGNuO//TfTXw+e4L+Qzh/eBNfbv8DF85rrQta/8H45Q7GF0L8GH2LQvkrFv+yKjxWSoLK/KMgCASi7lj/YV6/oAz++PzpOjVcie8s/7Vg5FKPu0z8UKtRFcxzaP8Tp999AIOA/X/GxYiwq4z/GhxjUySjmP3y/nMHyGOk/5OJ57Y/36z9N5w+PnMHuPwCc6b8UuvA/EFa9KDAG8j9+NRYlw0PzP4PuwqF/cfQ/Zri8NCiO9T9jaA9rkZj2P3+D2wOjj/c/E+cmF1ly+D8L5kUnxT/5P848vRsP9/k/4fCUJHaX+j+V+SyFUSD7Py1TvkURkfs/TcLNyj7p+z+F9vBRfSj8PxzLYlOKTvw/AAAAyD1b/D8=\",\"dtype\":\"float64\",\"shape\":[100]},\"y\":{\"__ndarray__\":\"AAAAoDAAg7+IQn78pZi0P+6soumTvMU/HXKRqFuK0D/AaAAWZyTWPxHBxa6Hpts/tjHABnmF4D8lrB8H/SXjP8KrDGMMsuU/4hjOKfkm6D8aJ/vALYLqP2gLdpwvwew/W4Xw2aHh7j/sA57eo3DwP54QZIUDX/E/R6vqHvU68j/CaQRMkQPzPxT5GgQFuPM/yMIuc5JX9D9O64fBkeH0PyOYRsRxVfU/9MAYlriy9T+i5nQXBPn1P9XL0lUKKPY/U5l12Zk/9j9TmXXZmT/2P9XL0lUKKPY/ouZ0FwT59T/0wBiWuLL1PySYRsRxVfU/T+uHwZHh9D/Jwi5zklf0PxT5GgQFuPM/w2kETJED8z9Iq+oe9TryP58QZIUDX/E/7QOe3qNw8D9chfDZoeHuP2wLdpwvwew/HSf7wC2C6j/nGM4p+SboP8WrDGMMsuU/JqwfB/0l4z+7McAGeYXgPxfBxa6Hpts/y2gAFmck1j8jcpGoW4rQPwetoumTvMU/qEJ+/KWYtD+d//+fMACDv2MAAKAwAIO/qEJ+JLJYub8HraL9mRzIvyNykbJeutG/y2gAIGpU178XwcW4itbcv7sxwIt6HeG/JqwfjP6947/FqwzoDUrmv+cYzq76vui/HSf7RS8a679sC3YhMVntv1yF8F6jee+/7QMeoaS88L+fEORHBKvxv0irauH1hvK/w2mEDpJP878U+ZrGBQT0v8nCrjWTo/S/T+sHhJIt9b8kmMaGcqH1v/TAmFi5/vW/oub02QRF9r/Vy1IYC3T2v1OZ9Zuai/a/U5n1m5qL9r/Vy1IYC3T2v6Lm9NkERfa/9MCYWLn+9b8jmMaGcqH1v07rB4SSLfW/yMKuNZOj9L8U+ZrGBQT0v8JphA6ST/O/R6tq4fWG8r+eEORHBKvxv+wDHqGkvPC/W4XwXqN5779oC3YhMVntvxon+0UvGuu/4hjOrvq+6L/CqwzoDUrmvyWsH4z+veO/tjHAi3od4b8RwcW4itbcv8BoACBqVNe/HXKRsl660b/urKL9mRzIv4hCfiSyWLm/AAAAoDAAg78=\",\"dtype\":\"float64\",\"shape\":[100]}},\"selected\":{\"id\":\"1417\",\"type\":\"Selection\"},\"selection_policy\":{\"id\":\"1418\",\"type\":\"UnionRenderers\"}},\"id\":\"1361\",\"type\":\"ColumnDataSource\"},{\"attributes\":{\"callback\":null,\"data\":{\"x\":{\"__ndarray__\":\"AAAAKGJI8D+OZbFtCELwP0J7+OwBL/A/JuFmqWIP8D8tU77Nl8bvP5X5LA3YVe8/4fCUrPzM7j/OPL2jlSzuPwvmRa9Lde0/E+cmn9+n7D9/g9uLKcXrP2NoD/MXzuo/Zri8vK7D6T+D7sIpBqfoP341Fq1Jeec/EFa9sLY75j8AnOlHm+/kP6bzh89UluM/cvG8fk4x4j++X87o/8HgP8aHGOTWk94/X/GxcjmV2z/E6ffvTYvYPwoV6rJGedU/dqwcml5i0j8dp8ZLq5POP/bVKxrbZcg/giwQoMxBwj+KOjg161u4P/TBO9/qwqg/AESgMTcaZD8AF8/rRbOlvyCdP3zVAba/+m+mnwRmwL86WPVCcpbFv/TVWDS+jMq/BLoLJ7BDz7/KcHk5KdvRv8TQHqb779O/+ga31x7e1b8izk3+iqPXvxTMix5jPtm/mnl6B/es2r/A4SkZxe3bvyrzWdp7/9y/WKZ8W/vg3b+ahJtlVpHevwrt4XPTD9+/OJbFdu1b378AAABgVHXfvwAAAGBUdd+/OJbFdu1b378K7eFz0w/fv5qEm2VWkd6/WKZ8W/vg3b8q81nae//cv8DhKRnF7du/mnl6B/es2r8UzIseYz7ZvyLOTf6Ko9e/+ga31x7e1b/E0B6m++/Tv8pweTkp29G/BLoLJ7BDz7/01Vg0vozKvzpY9UJylsW/+m+mnwRmwL8gnT981QG2vwAXz+tFs6W/AESgMTcaZD/0wTvf6sKoP4o6ODXrW7g/giwQoMxBwj/21Ssa22XIPx2nxkurk84/dqwcml5i0j8KFeqyRnnVP8Tp9+9Ni9g/X/GxcjmV2z/Ghxjk1pPeP75fzuj/weA/cvG8fk4x4j+m84fPVJbjPwCc6Ueb7+Q/EFa9sLY75j9+NRatSXnnP4PuwikGp+g/Zri8vK7D6T9jaA/zF87qP3+D24spxes/E+cmn9+n7D8L5kWvS3XtP848vaOVLO4/4fCUrPzM7j+V+SwN2FXvPy1Tvs2Xxu8/JuFmqWIP8D9Ce/jsAS/wP45lsW0IQvA/AAAAKGJI8D8=\",\"dtype\":\"float64\",\"shape\":[100]},\"y\":{\"__ndarray__\":\"AAAAoDAAg7+IQn7onziiP+6sot+QjLQ/OuQiR7Tkvz/AaACRZYzFPxHBxSmGDss/tjFARHg50D8lrJ9E/NnSP8KrjKALZtU/4hhOZ/ja1z8aJ3v+LDbaP2gL9tkuddw/W4VwF6GV3j/sA159o0rgP54QJCQDOeE/R6uqvfQU4j/CacTqkN3iPxT52qIEkuM/yMLuEZIx5D9O60dgkbvkPyOYBmNxL+U/9MDYNLiM5T+i5jS2A9PlP9XLkvQJAuY/U5k1eJkZ5j9TmTV4mRnmP9XLkvQJAuY/ouY0tgPT5T/0wNg0uIzlPySYBmNxL+U/T+tHYJG75D/Jwu4RkjHkPxT52qIEkuM/w2nE6pDd4j9Iq6q99BTiP58QJCQDOeE/7QNefaNK4D9chXAXoZXeP2wL9tkuddw/HSd7/iw22j/nGE5n+NrXP8WrjKALZtU/JqyfRPzZ0j+7MUBEeDnQPxfBxSmGDss/y2gAkWWMxT9G5CJHtOS/Pwetot+QjLQ/qEJ+6J84oj/P//+fMACDvzEAAKAwAIO/qEJ+OLi4q78HraIHnUy5vyNykTdgUsK/y2gApWvsx78XwcU9jG7Nv7sxQE57adG/JqyfTv8J1L/Fq4yqDpbWv+cYTnH7Ctm/HSd7CDBm279sC/bjMaXdv1yFcCGkxd+/7QNeAqXi4L+fECSpBNHhv0irqkL2rOK/w2nEb5J1478U+donBirkv8nC7paTyeS/T+tH5ZJT5b8kmAbocsflv/TA2Lm5JOa/ouY0OwVr5r/Vy5J5C5rmv1OZNf2asea/U5k1/Zqx5r/Vy5J5C5rmv6LmNDsFa+a/9MDYubkk5r8jmAbocsflv07rR+WSU+W/yMLulpPJ5L8U+donBirkv8JpxG+SdeO/R6uqQvas4r+eECSpBNHhv+wDXgKl4uC/W4VwIaTF379oC/bjMaXdvxonewgwZtu/4hhOcfsK2b/Cq4yqDpbWvyWsn07/CdS/tjFATntp0b8RwcU9jG7Nv8BoAKVr7Me/HXKRN2BSwr/urKIHnUy5v4hCfji4uKu/AAAAoDAAg78=\",\"dtype\":\"float64\",\"shape\":[100]}},\"selected\":{\"id\":\"1419\",\"type\":\"Selection\"},\"selection_policy\":{\"id\":\"1420\",\"type\":\"UnionRenderers\"}},\"id\":\"1366\",\"type\":\"ColumnDataSource\"},{\"attributes\":{},\"id\":\"1411\",\"type\":\"Selection\"},{\"attributes\":{\"fill_alpha\":0.3,\"fill_color\":\"green\",\"x\":{\"field\":\"x\"},\"y\":{\"field\":\"y\"}},\"id\":\"1352\",\"type\":\"Patch\"},{\"attributes\":{},\"id\":\"1334\",\"type\":\"SaveTool\"},{\"attributes\":{\"callback\":null,\"data\":{\"x\":{\"__ndarray__\":\"RmxH5rj6ub8xVYQzAyv1P0Sg9UbGo+c/+BSbTULs0r8E6Xn5MBC2vw==\",\"dtype\":\"float64\",\"shape\":[5]},\"y\":{\"__ndarray__\":\"/RyhGtYw2b+6kXJahQbuP9vKOZpeSc0/MBQWoMpg3L8dzu9FIrDYvw==\",\"dtype\":\"float64\",\"shape\":[5]}},\"selected\":{\"id\":\"1411\",\"type\":\"Selection\"},\"selection_policy\":{\"id\":\"1412\",\"type\":\"UnionRenderers\"}},\"id\":\"1346\",\"type\":\"ColumnDataSource\"},{\"attributes\":{\"fill_alpha\":0.3,\"fill_color\":\"#98AFC7\",\"x\":{\"field\":\"x\"},\"y\":{\"field\":\"y\"}},\"id\":\"1367\",\"type\":\"Patch\"},{\"attributes\":{},\"id\":\"1412\",\"type\":\"UnionRenderers\"},{\"attributes\":{\"callback\":null,\"data\":{\"x\":{\"__ndarray__\":\"AAAAyFK2+T9uTeReA6v5P2+Rawkhifk/asKgbM9Q+T/wRUDHSQL5P0IoZbPinfg/wkakzwMk+D/g1fBPLZX3P/Ujv3b18fY/HXjz9gc79j/JVEM/JXH1PzEfx68hlfQ/wx6RuuSn8z8c2TTwZ6ryP8rpPvm1nfE/GIKxfemC8D8LT1n3V7buP7v39RxpT+w/q4mYTo3T6T+q8+txYUXnP02KP7CVp+Q/1Cecour84T8a4x3ZXJDePxP2apFzGNk/r/dLFNqX0z+yEGhXtCjMP+sTKl2BJ8E/cOcQN7veqD8wfcIpCG2iv0hS/IHci76/ls6vRx29yb9OEzFd5vrRv27v6/md8ta/FJ6yrnvA278uBGPbuC/gv5PTfdJRZeK/M7JpwLV+5L+FPSJVr3nmv2A+jj8pVOi/jqmGXjAM6r828ObN9Z/rv+ZHfs3QDe2/vqvhf0BU7r+CjUh/7XHvv0IoZaPVMvC/8EVAtzyX8L9qwqBcwuXwv2+Ra/kTHvG/bk3kTvY/8b8AAAC4RUvxvwAAALhFS/G/bk3kTvY/8b9vkWv5Ex7xv2rCoFzC5fC/8EVAtzyX8L9CKGWj1TLwv4KNSH/tce+/vqvhf0BU7r/mR37N0A3tvzbw5s31n+u/jqmGXjAM6r9gPo4/KVTov4U9IlWveea/M7JpwLV+5L+T033SUWXivy4EY9u4L+C/FJ6yrnvA279u7+v5nfLWv04TMV3m+tG/ls6vRx29yb9IUvyB3Iu+vzB9wikIbaK/cOcQN7veqD/rEypdgSfBP7IQaFe0KMw/r/dLFNqX0z8T9mqRcxjZPxrjHdlckN4/1Cecour84T9Nij+wlafkP6rz63FhRec/q4mYTo3T6T+79/UcaU/sPwtPWfdXtu4/GIKxfemC8D/K6T75tZ3xPxzZNPBnqvI/wx6RuuSn8z8xH8evIZX0P8lUQz8lcfU/HXjz9gc79j/1I7929fH2P+DV8E8tlfc/wkakzwMk+D9CKGWz4p34P/BFQMdJAvk/asKgbM9Q+T9vkWsJIYn5P25N5F4Dq/k/AAAAyFK2+T8=\",\"dtype\":\"float64\",\"shape\":[100]},\"y\":{\"__ndarray__\":\"AAAAoDAAg78ddBDyEquzPwrBxdR9z8Q/NgNOFE6yzz+WClFNQznVP7M+Txdsgto/2oxR8BGv3z+1zVuv4VziP4vYeFCZzuQ/wTfnoB0q5z+vbavA82zpP57wQ8a6lOs/Rhs2Py6f7T8sdqmSKIrvP0qCx6HSqfA/tTH6h+F88T8MlqP1Yj3yP9sEumiM6vI/FQ57uKeD8z9TOwvVEwj0PwpI5HBFd/Q/9JZfk8fQ9D/dvMITPBT1P6qvTPxbQfU/12bb1PdX9T/XZtvU91f1P6qvTPxbQfU/3bzCEzwU9T/0ll+Tx9D0PwtI5HBFd/Q/VDsL1RMI9D8WDnu4p4PzP9sEumiM6vI/DZaj9WI98j+2MfqH4XzxP0uCx6HSqfA/L3apkiiK7z9HGzY/Lp/tP6LwQ8a6lOs/sm2rwPNs6T/HN+egHSrnP47YeFCZzuQ/t81br+Fc4j/kjFHwEa/fP7k+Txdsgto/oApRTUM51T9EA04UTrLPPyLBxdR9z8Q/PHQQ8hKrsz+h//+fMACDv18AAKAwAIO/PHQQGh9ruL8iwcXogy/Hv6IBJxQqCdG/oApRV0Zp1r+5Pk8hb7Lbv3LGKH2Kb+C/t81bNOP04r+O2HjVmmblv8c35yUfwue/sm2rRfUE6r+i8ENLvCzsv0cbNsQvN+6/GLvUCxUR8L9Lgkdk0/Xwv7YxekriyPG/DZYjuGOJ8r/bBDorjTbzvxYO+3qoz/O/VDuLlxRU9L8LSGQzRsP0v/SW31XIHPW/3bxC1jxg9b+qr8y+XI31v9dmW5f4o/W/12Zbl/ij9b+qr8y+XI31v928QtY8YPW/9JbfVcgc9b8KSGQzRsP0v1M7i5cUVPS/FQ77eqjP87/bBDorjTbzvwyWI7hjifK/tTF6SuLI8b9Kgkdk0/Xwvxa71AsVEfC/Rhs2xC837r+e8ENLvCzsv69tq0X1BOq/wTfnJR/C57+L2HjVmmblv7XNWzTj9OK/bcYofYpv4L+zPk8hb7Lbv5YKUVdGada/mwEnFCoJ0b8KwcXogy/Hvx10EBofa7i/AAAAoDAAg78=\",\"dtype\":\"float64\",\"shape\":[100]}},\"selected\":{\"id\":\"1413\",\"type\":\"Selection\"},\"selection_policy\":{\"id\":\"1414\",\"type\":\"UnionRenderers\"}},\"id\":\"1351\",\"type\":\"ColumnDataSource\"},{\"attributes\":{\"overlay\":{\"id\":\"1339\",\"type\":\"BoxAnnotation\"}},\"id\":\"1333\",\"type\":\"BoxZoomTool\"},{\"attributes\":{\"fill_alpha\":0.1,\"fill_color\":\"#1f77b4\",\"line_alpha\":0.1,\"line_color\":\"#1f77b4\",\"x\":{\"field\":\"x\"},\"y\":{\"field\":\"y\"}},\"id\":\"1368\",\"type\":\"Patch\"},{\"attributes\":{},\"id\":\"1413\",\"type\":\"Selection\"},{\"attributes\":{},\"id\":\"1319\",\"type\":\"LinearScale\"},{\"attributes\":{\"data_source\":{\"id\":\"1366\",\"type\":\"ColumnDataSource\"},\"glyph\":{\"id\":\"1367\",\"type\":\"Patch\"},\"hover_glyph\":null,\"muted_glyph\":null,\"nonselection_glyph\":{\"id\":\"1368\",\"type\":\"Patch\"},\"selection_glyph\":null,\"view\":{\"id\":\"1370\",\"type\":\"CDSView\"}},\"id\":\"1369\",\"type\":\"GlyphRenderer\"},{\"attributes\":{\"fill_color\":{\"value\":\"#1f77b4\"},\"line_color\":{\"value\":\"#1f77b4\"},\"x\":{\"field\":\"x\"},\"y\":{\"field\":\"y\"}},\"id\":\"1347\",\"type\":\"Circle\"},{\"attributes\":{},\"id\":\"1414\",\"type\":\"UnionRenderers\"},{\"attributes\":{},\"id\":\"1317\",\"type\":\"LinearScale\"},{\"attributes\":{\"active_drag\":\"auto\",\"active_inspect\":\"auto\",\"active_multi\":null,\"active_scroll\":\"auto\",\"active_tap\":\"auto\",\"tools\":[{\"id\":\"1331\",\"type\":\"PanTool\"},{\"id\":\"1332\",\"type\":\"WheelZoomTool\"},{\"id\":\"1333\",\"type\":\"BoxZoomTool\"},{\"id\":\"1334\",\"type\":\"SaveTool\"},{\"id\":\"1335\",\"type\":\"ResetTool\"},{\"id\":\"1336\",\"type\":\"HelpTool\"}]},\"id\":\"1337\",\"type\":\"Toolbar\"},{\"attributes\":{\"source\":{\"id\":\"1366\",\"type\":\"ColumnDataSource\"}},\"id\":\"1370\",\"type\":\"CDSView\"},{\"attributes\":{},\"id\":\"1415\",\"type\":\"Selection\"},{\"attributes\":{\"bottom_units\":\"screen\",\"fill_alpha\":{\"value\":0.5},\"fill_color\":{\"value\":\"lightgrey\"},\"left_units\":\"screen\",\"level\":\"overlay\",\"line_alpha\":{\"value\":1.0},\"line_color\":{\"value\":\"black\"},\"line_dash\":[4,4],\"line_width\":{\"value\":2},\"plot\":null,\"render_mode\":\"css\",\"right_units\":\"screen\",\"top_units\":\"screen\"},\"id\":\"1339\",\"type\":\"BoxAnnotation\"},{\"attributes\":{},\"id\":\"1416\",\"type\":\"UnionRenderers\"},{\"attributes\":{\"callback\":null,\"end\":5,\"start\":-5},\"id\":\"1315\",\"type\":\"Range1d\"},{\"attributes\":{\"data_source\":{\"id\":\"1346\",\"type\":\"ColumnDataSource\"},\"glyph\":{\"id\":\"1347\",\"type\":\"Circle\"},\"hover_glyph\":null,\"muted_glyph\":null,\"nonselection_glyph\":{\"id\":\"1348\",\"type\":\"Circle\"},\"selection_glyph\":null,\"view\":{\"id\":\"1350\",\"type\":\"CDSView\"}},\"id\":\"1349\",\"type\":\"GlyphRenderer\"},{\"attributes\":{\"fill_alpha\":0.3,\"fill_color\":\"#C7B097\",\"x\":{\"field\":\"x\"},\"y\":{\"field\":\"y\"}},\"id\":\"1372\",\"type\":\"Patch\"}],\"root_ids\":[\"1312\"]},\"title\":\"Bokeh Application\",\"version\":\"1.0.0\"}};\n",
       "  var render_items = [{\"docid\":\"cc437d7c-acd4-4fd5-9b4d-50421bfabaeb\",\"roots\":{\"1312\":\"5f05e9e9-1b8f-4f86-8f10-bbd140ea8a18\"}}];\n",
       "  root.Bokeh.embed.embed_items_notebook(docs_json, render_items);\n",
       "\n",
       "  }\n",
       "  if (root.Bokeh !== undefined) {\n",
       "    embed_document(root);\n",
       "  } else {\n",
       "    var attempts = 0;\n",
       "    var timer = setInterval(function(root) {\n",
       "      if (root.Bokeh !== undefined) {\n",
       "        embed_document(root);\n",
       "        clearInterval(timer);\n",
       "      }\n",
       "      attempts++;\n",
       "      if (attempts > 100) {\n",
       "        console.log(\"Bokeh: ERROR: Unable to run BokehJS code because BokehJS library is missing\");\n",
       "        clearInterval(timer);\n",
       "      }\n",
       "    }, 10, root)\n",
       "  }\n",
       "})(window);"
      ],
      "application/vnd.bokehjs_exec.v0+json": ""
     },
     "metadata": {
      "application/vnd.bokehjs_exec.v0+json": {
       "id": "1312"
      }
     },
     "output_type": "display_data"
    }
   ],
   "source": [
    "fig = figure(\n",
    "    width=400,\n",
    "    height=400,\n",
    "    x_range=(-5, 5),\n",
    "    y_range=(-5, 5)\n",
    ")\n",
    "fig.circle(data[:, 0], data[:, 1])\n",
    "\n",
    "mean, precision = normal_iso.mean_precision.value()\n",
    "cov = torch.eye(2) / precision\n",
    "plotting.plot_normal(fig, mean.numpy(), cov.numpy(), \n",
    "                     line_color='black', fill_alpha=.3, color='green')\n",
    "\n",
    "mean, precision = normal_diag.mean_precision.value()\n",
    "cov = (1/precision).diag()\n",
    "plotting.plot_normal(fig, mean.numpy(), cov.numpy(), \n",
    "                     line_color='black', fill_alpha=.3, color='#98AFC7')\n",
    "\n",
    "mean, precision = normal_full.mean_precision.value()\n",
    "cov = precision.inverse()\n",
    "plotting.plot_normal(fig, mean.numpy(), cov.numpy(), \n",
    "                     line_color='black', fill_alpha=.3, color='#C7B097')\n",
    "\n",
    "show(fig)"
   ]
  },
  {
   "cell_type": "code",
   "execution_count": null,
   "metadata": {},
   "outputs": [],
   "source": []
  },
  {
   "cell_type": "code",
   "execution_count": null,
   "metadata": {},
   "outputs": [],
   "source": []
  }
 ],
 "metadata": {
  "kernelspec": {
   "display_name": "Python 3",
   "language": "python",
   "name": "python3"
  },
  "language_info": {
   "codemirror_mode": {
    "name": "ipython",
    "version": 3
   },
   "file_extension": ".py",
   "mimetype": "text/x-python",
   "name": "python",
   "nbconvert_exporter": "python",
   "pygments_lexer": "ipython3",
   "version": "3.7.2"
  }
 },
 "nbformat": 4,
 "nbformat_minor": 2
}
