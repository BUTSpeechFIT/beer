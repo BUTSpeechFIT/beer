{
 "cells": [
  {
   "cell_type": "markdown",
   "metadata": {},
   "source": [
    "# Bayesian Model\n",
    "\n",
    "This notebook illustrate how to use a Bayesian Normal density model with the [beer framework](https://github.com/beer-asr/beer). The Normal distribution is a fairly basic models but it is used extenslively in other model as a basic building block."
   ]
  },
  {
   "cell_type": "code",
   "execution_count": 1,
   "metadata": {},
   "outputs": [
    {
     "data": {
      "text/html": [
       "\n",
       "    <div class=\"bk-root\">\n",
       "        <a href=\"https://bokeh.pydata.org\" target=\"_blank\" class=\"bk-logo bk-logo-small bk-logo-notebook\"></a>\n",
       "        <span id=\"1fed4bbd-c02e-4c4d-a723-e52a08384a1c\">Loading BokehJS ...</span>\n",
       "    </div>"
      ]
     },
     "metadata": {},
     "output_type": "display_data"
    },
    {
     "data": {
      "application/javascript": [
       "\n",
       "(function(root) {\n",
       "  function now() {\n",
       "    return new Date();\n",
       "  }\n",
       "\n",
       "  var force = true;\n",
       "\n",
       "  if (typeof (root._bokeh_onload_callbacks) === \"undefined\" || force === true) {\n",
       "    root._bokeh_onload_callbacks = [];\n",
       "    root._bokeh_is_loading = undefined;\n",
       "  }\n",
       "\n",
       "  var JS_MIME_TYPE = 'application/javascript';\n",
       "  var HTML_MIME_TYPE = 'text/html';\n",
       "  var EXEC_MIME_TYPE = 'application/vnd.bokehjs_exec.v0+json';\n",
       "  var CLASS_NAME = 'output_bokeh rendered_html';\n",
       "\n",
       "  /**\n",
       "   * Render data to the DOM node\n",
       "   */\n",
       "  function render(props, node) {\n",
       "    var script = document.createElement(\"script\");\n",
       "    node.appendChild(script);\n",
       "  }\n",
       "\n",
       "  /**\n",
       "   * Handle when an output is cleared or removed\n",
       "   */\n",
       "  function handleClearOutput(event, handle) {\n",
       "    var cell = handle.cell;\n",
       "\n",
       "    var id = cell.output_area._bokeh_element_id;\n",
       "    var server_id = cell.output_area._bokeh_server_id;\n",
       "    // Clean up Bokeh references\n",
       "    if (id !== undefined) {\n",
       "      Bokeh.index[id].model.document.clear();\n",
       "      delete Bokeh.index[id];\n",
       "    }\n",
       "\n",
       "    if (server_id !== undefined) {\n",
       "      // Clean up Bokeh references\n",
       "      var cmd = \"from bokeh.io.state import curstate; print(curstate().uuid_to_server['\" + server_id + \"'].get_sessions()[0].document.roots[0]._id)\";\n",
       "      cell.notebook.kernel.execute(cmd, {\n",
       "        iopub: {\n",
       "          output: function(msg) {\n",
       "            var element_id = msg.content.text.trim();\n",
       "            Bokeh.index[element_id].model.document.clear();\n",
       "            delete Bokeh.index[element_id];\n",
       "          }\n",
       "        }\n",
       "      });\n",
       "      // Destroy server and session\n",
       "      var cmd = \"import bokeh.io.notebook as ion; ion.destroy_server('\" + server_id + \"')\";\n",
       "      cell.notebook.kernel.execute(cmd);\n",
       "    }\n",
       "  }\n",
       "\n",
       "  /**\n",
       "   * Handle when a new output is added\n",
       "   */\n",
       "  function handleAddOutput(event, handle) {\n",
       "    var output_area = handle.output_area;\n",
       "    var output = handle.output;\n",
       "\n",
       "    // limit handleAddOutput to display_data with EXEC_MIME_TYPE content only\n",
       "    if ((output.output_type != \"display_data\") || (!output.data.hasOwnProperty(EXEC_MIME_TYPE))) {\n",
       "      return\n",
       "    }\n",
       "\n",
       "    var toinsert = output_area.element.find(\".\" + CLASS_NAME.split(' ')[0]);\n",
       "\n",
       "    if (output.metadata[EXEC_MIME_TYPE][\"id\"] !== undefined) {\n",
       "      toinsert[toinsert.length - 1].firstChild.textContent = output.data[JS_MIME_TYPE];\n",
       "      // store reference to embed id on output_area\n",
       "      output_area._bokeh_element_id = output.metadata[EXEC_MIME_TYPE][\"id\"];\n",
       "    }\n",
       "    if (output.metadata[EXEC_MIME_TYPE][\"server_id\"] !== undefined) {\n",
       "      var bk_div = document.createElement(\"div\");\n",
       "      bk_div.innerHTML = output.data[HTML_MIME_TYPE];\n",
       "      var script_attrs = bk_div.children[0].attributes;\n",
       "      for (var i = 0; i < script_attrs.length; i++) {\n",
       "        toinsert[toinsert.length - 1].firstChild.setAttribute(script_attrs[i].name, script_attrs[i].value);\n",
       "      }\n",
       "      // store reference to server id on output_area\n",
       "      output_area._bokeh_server_id = output.metadata[EXEC_MIME_TYPE][\"server_id\"];\n",
       "    }\n",
       "  }\n",
       "\n",
       "  function register_renderer(events, OutputArea) {\n",
       "\n",
       "    function append_mime(data, metadata, element) {\n",
       "      // create a DOM node to render to\n",
       "      var toinsert = this.create_output_subarea(\n",
       "        metadata,\n",
       "        CLASS_NAME,\n",
       "        EXEC_MIME_TYPE\n",
       "      );\n",
       "      this.keyboard_manager.register_events(toinsert);\n",
       "      // Render to node\n",
       "      var props = {data: data, metadata: metadata[EXEC_MIME_TYPE]};\n",
       "      render(props, toinsert[toinsert.length - 1]);\n",
       "      element.append(toinsert);\n",
       "      return toinsert\n",
       "    }\n",
       "\n",
       "    /* Handle when an output is cleared or removed */\n",
       "    events.on('clear_output.CodeCell', handleClearOutput);\n",
       "    events.on('delete.Cell', handleClearOutput);\n",
       "\n",
       "    /* Handle when a new output is added */\n",
       "    events.on('output_added.OutputArea', handleAddOutput);\n",
       "\n",
       "    /**\n",
       "     * Register the mime type and append_mime function with output_area\n",
       "     */\n",
       "    OutputArea.prototype.register_mime_type(EXEC_MIME_TYPE, append_mime, {\n",
       "      /* Is output safe? */\n",
       "      safe: true,\n",
       "      /* Index of renderer in `output_area.display_order` */\n",
       "      index: 0\n",
       "    });\n",
       "  }\n",
       "\n",
       "  // register the mime type if in Jupyter Notebook environment and previously unregistered\n",
       "  if (root.Jupyter !== undefined) {\n",
       "    var events = require('base/js/events');\n",
       "    var OutputArea = require('notebook/js/outputarea').OutputArea;\n",
       "\n",
       "    if (OutputArea.prototype.mime_types().indexOf(EXEC_MIME_TYPE) == -1) {\n",
       "      register_renderer(events, OutputArea);\n",
       "    }\n",
       "  }\n",
       "\n",
       "  \n",
       "  if (typeof (root._bokeh_timeout) === \"undefined\" || force === true) {\n",
       "    root._bokeh_timeout = Date.now() + 5000;\n",
       "    root._bokeh_failed_load = false;\n",
       "  }\n",
       "\n",
       "  var NB_LOAD_WARNING = {'data': {'text/html':\n",
       "     \"<div style='background-color: #fdd'>\\n\"+\n",
       "     \"<p>\\n\"+\n",
       "     \"BokehJS does not appear to have successfully loaded. If loading BokehJS from CDN, this \\n\"+\n",
       "     \"may be due to a slow or bad network connection. Possible fixes:\\n\"+\n",
       "     \"</p>\\n\"+\n",
       "     \"<ul>\\n\"+\n",
       "     \"<li>re-rerun `output_notebook()` to attempt to load from CDN again, or</li>\\n\"+\n",
       "     \"<li>use INLINE resources instead, as so:</li>\\n\"+\n",
       "     \"</ul>\\n\"+\n",
       "     \"<code>\\n\"+\n",
       "     \"from bokeh.resources import INLINE\\n\"+\n",
       "     \"output_notebook(resources=INLINE)\\n\"+\n",
       "     \"</code>\\n\"+\n",
       "     \"</div>\"}};\n",
       "\n",
       "  function display_loaded() {\n",
       "    var el = document.getElementById(\"1fed4bbd-c02e-4c4d-a723-e52a08384a1c\");\n",
       "    if (el != null) {\n",
       "      el.textContent = \"BokehJS is loading...\";\n",
       "    }\n",
       "    if (root.Bokeh !== undefined) {\n",
       "      if (el != null) {\n",
       "        el.textContent = \"BokehJS \" + root.Bokeh.version + \" successfully loaded.\";\n",
       "      }\n",
       "    } else if (Date.now() < root._bokeh_timeout) {\n",
       "      setTimeout(display_loaded, 100)\n",
       "    }\n",
       "  }\n",
       "\n",
       "\n",
       "  function run_callbacks() {\n",
       "    try {\n",
       "      root._bokeh_onload_callbacks.forEach(function(callback) { callback() });\n",
       "    }\n",
       "    finally {\n",
       "      delete root._bokeh_onload_callbacks\n",
       "    }\n",
       "    console.info(\"Bokeh: all callbacks have finished\");\n",
       "  }\n",
       "\n",
       "  function load_libs(js_urls, callback) {\n",
       "    root._bokeh_onload_callbacks.push(callback);\n",
       "    if (root._bokeh_is_loading > 0) {\n",
       "      console.log(\"Bokeh: BokehJS is being loaded, scheduling callback at\", now());\n",
       "      return null;\n",
       "    }\n",
       "    if (js_urls == null || js_urls.length === 0) {\n",
       "      run_callbacks();\n",
       "      return null;\n",
       "    }\n",
       "    console.log(\"Bokeh: BokehJS not loaded, scheduling load and callback at\", now());\n",
       "    root._bokeh_is_loading = js_urls.length;\n",
       "    for (var i = 0; i < js_urls.length; i++) {\n",
       "      var url = js_urls[i];\n",
       "      var s = document.createElement('script');\n",
       "      s.src = url;\n",
       "      s.async = false;\n",
       "      s.onreadystatechange = s.onload = function() {\n",
       "        root._bokeh_is_loading--;\n",
       "        if (root._bokeh_is_loading === 0) {\n",
       "          console.log(\"Bokeh: all BokehJS libraries loaded\");\n",
       "          run_callbacks()\n",
       "        }\n",
       "      };\n",
       "      s.onerror = function() {\n",
       "        console.warn(\"failed to load library \" + url);\n",
       "      };\n",
       "      console.log(\"Bokeh: injecting script tag for BokehJS library: \", url);\n",
       "      document.getElementsByTagName(\"head\")[0].appendChild(s);\n",
       "    }\n",
       "  };var element = document.getElementById(\"1fed4bbd-c02e-4c4d-a723-e52a08384a1c\");\n",
       "  if (element == null) {\n",
       "    console.log(\"Bokeh: ERROR: autoload.js configured with elementid '1fed4bbd-c02e-4c4d-a723-e52a08384a1c' but no matching script tag was found. \")\n",
       "    return false;\n",
       "  }\n",
       "\n",
       "  var js_urls = [\"https://cdn.pydata.org/bokeh/release/bokeh-0.12.16.min.js\", \"https://cdn.pydata.org/bokeh/release/bokeh-widgets-0.12.16.min.js\", \"https://cdn.pydata.org/bokeh/release/bokeh-tables-0.12.16.min.js\", \"https://cdn.pydata.org/bokeh/release/bokeh-gl-0.12.16.min.js\"];\n",
       "\n",
       "  var inline_js = [\n",
       "    function(Bokeh) {\n",
       "      Bokeh.set_log_level(\"info\");\n",
       "    },\n",
       "    \n",
       "    function(Bokeh) {\n",
       "      \n",
       "    },\n",
       "    function(Bokeh) {\n",
       "      console.log(\"Bokeh: injecting CSS: https://cdn.pydata.org/bokeh/release/bokeh-0.12.16.min.css\");\n",
       "      Bokeh.embed.inject_css(\"https://cdn.pydata.org/bokeh/release/bokeh-0.12.16.min.css\");\n",
       "      console.log(\"Bokeh: injecting CSS: https://cdn.pydata.org/bokeh/release/bokeh-widgets-0.12.16.min.css\");\n",
       "      Bokeh.embed.inject_css(\"https://cdn.pydata.org/bokeh/release/bokeh-widgets-0.12.16.min.css\");\n",
       "      console.log(\"Bokeh: injecting CSS: https://cdn.pydata.org/bokeh/release/bokeh-tables-0.12.16.min.css\");\n",
       "      Bokeh.embed.inject_css(\"https://cdn.pydata.org/bokeh/release/bokeh-tables-0.12.16.min.css\");\n",
       "    }\n",
       "  ];\n",
       "\n",
       "  function run_inline_js() {\n",
       "    \n",
       "    if ((root.Bokeh !== undefined) || (force === true)) {\n",
       "      for (var i = 0; i < inline_js.length; i++) {\n",
       "        inline_js[i].call(root, root.Bokeh);\n",
       "      }if (force === true) {\n",
       "        display_loaded();\n",
       "      }} else if (Date.now() < root._bokeh_timeout) {\n",
       "      setTimeout(run_inline_js, 100);\n",
       "    } else if (!root._bokeh_failed_load) {\n",
       "      console.log(\"Bokeh: BokehJS failed to load within specified timeout.\");\n",
       "      root._bokeh_failed_load = true;\n",
       "    } else if (force !== true) {\n",
       "      var cell = $(document.getElementById(\"1fed4bbd-c02e-4c4d-a723-e52a08384a1c\")).parents('.cell').data().cell;\n",
       "      cell.output_area.append_execute_result(NB_LOAD_WARNING)\n",
       "    }\n",
       "\n",
       "  }\n",
       "\n",
       "  if (root._bokeh_is_loading === 0) {\n",
       "    console.log(\"Bokeh: BokehJS loaded, going straight to plotting\");\n",
       "    run_inline_js();\n",
       "  } else {\n",
       "    load_libs(js_urls, function() {\n",
       "      console.log(\"Bokeh: BokehJS plotting callback run at\", now());\n",
       "      run_inline_js();\n",
       "    });\n",
       "  }\n",
       "}(window));"
      ],
      "application/vnd.bokehjs_load.v0+json": "\n(function(root) {\n  function now() {\n    return new Date();\n  }\n\n  var force = true;\n\n  if (typeof (root._bokeh_onload_callbacks) === \"undefined\" || force === true) {\n    root._bokeh_onload_callbacks = [];\n    root._bokeh_is_loading = undefined;\n  }\n\n  \n\n  \n  if (typeof (root._bokeh_timeout) === \"undefined\" || force === true) {\n    root._bokeh_timeout = Date.now() + 5000;\n    root._bokeh_failed_load = false;\n  }\n\n  var NB_LOAD_WARNING = {'data': {'text/html':\n     \"<div style='background-color: #fdd'>\\n\"+\n     \"<p>\\n\"+\n     \"BokehJS does not appear to have successfully loaded. If loading BokehJS from CDN, this \\n\"+\n     \"may be due to a slow or bad network connection. Possible fixes:\\n\"+\n     \"</p>\\n\"+\n     \"<ul>\\n\"+\n     \"<li>re-rerun `output_notebook()` to attempt to load from CDN again, or</li>\\n\"+\n     \"<li>use INLINE resources instead, as so:</li>\\n\"+\n     \"</ul>\\n\"+\n     \"<code>\\n\"+\n     \"from bokeh.resources import INLINE\\n\"+\n     \"output_notebook(resources=INLINE)\\n\"+\n     \"</code>\\n\"+\n     \"</div>\"}};\n\n  function display_loaded() {\n    var el = document.getElementById(\"1fed4bbd-c02e-4c4d-a723-e52a08384a1c\");\n    if (el != null) {\n      el.textContent = \"BokehJS is loading...\";\n    }\n    if (root.Bokeh !== undefined) {\n      if (el != null) {\n        el.textContent = \"BokehJS \" + root.Bokeh.version + \" successfully loaded.\";\n      }\n    } else if (Date.now() < root._bokeh_timeout) {\n      setTimeout(display_loaded, 100)\n    }\n  }\n\n\n  function run_callbacks() {\n    try {\n      root._bokeh_onload_callbacks.forEach(function(callback) { callback() });\n    }\n    finally {\n      delete root._bokeh_onload_callbacks\n    }\n    console.info(\"Bokeh: all callbacks have finished\");\n  }\n\n  function load_libs(js_urls, callback) {\n    root._bokeh_onload_callbacks.push(callback);\n    if (root._bokeh_is_loading > 0) {\n      console.log(\"Bokeh: BokehJS is being loaded, scheduling callback at\", now());\n      return null;\n    }\n    if (js_urls == null || js_urls.length === 0) {\n      run_callbacks();\n      return null;\n    }\n    console.log(\"Bokeh: BokehJS not loaded, scheduling load and callback at\", now());\n    root._bokeh_is_loading = js_urls.length;\n    for (var i = 0; i < js_urls.length; i++) {\n      var url = js_urls[i];\n      var s = document.createElement('script');\n      s.src = url;\n      s.async = false;\n      s.onreadystatechange = s.onload = function() {\n        root._bokeh_is_loading--;\n        if (root._bokeh_is_loading === 0) {\n          console.log(\"Bokeh: all BokehJS libraries loaded\");\n          run_callbacks()\n        }\n      };\n      s.onerror = function() {\n        console.warn(\"failed to load library \" + url);\n      };\n      console.log(\"Bokeh: injecting script tag for BokehJS library: \", url);\n      document.getElementsByTagName(\"head\")[0].appendChild(s);\n    }\n  };var element = document.getElementById(\"1fed4bbd-c02e-4c4d-a723-e52a08384a1c\");\n  if (element == null) {\n    console.log(\"Bokeh: ERROR: autoload.js configured with elementid '1fed4bbd-c02e-4c4d-a723-e52a08384a1c' but no matching script tag was found. \")\n    return false;\n  }\n\n  var js_urls = [\"https://cdn.pydata.org/bokeh/release/bokeh-0.12.16.min.js\", \"https://cdn.pydata.org/bokeh/release/bokeh-widgets-0.12.16.min.js\", \"https://cdn.pydata.org/bokeh/release/bokeh-tables-0.12.16.min.js\", \"https://cdn.pydata.org/bokeh/release/bokeh-gl-0.12.16.min.js\"];\n\n  var inline_js = [\n    function(Bokeh) {\n      Bokeh.set_log_level(\"info\");\n    },\n    \n    function(Bokeh) {\n      \n    },\n    function(Bokeh) {\n      console.log(\"Bokeh: injecting CSS: https://cdn.pydata.org/bokeh/release/bokeh-0.12.16.min.css\");\n      Bokeh.embed.inject_css(\"https://cdn.pydata.org/bokeh/release/bokeh-0.12.16.min.css\");\n      console.log(\"Bokeh: injecting CSS: https://cdn.pydata.org/bokeh/release/bokeh-widgets-0.12.16.min.css\");\n      Bokeh.embed.inject_css(\"https://cdn.pydata.org/bokeh/release/bokeh-widgets-0.12.16.min.css\");\n      console.log(\"Bokeh: injecting CSS: https://cdn.pydata.org/bokeh/release/bokeh-tables-0.12.16.min.css\");\n      Bokeh.embed.inject_css(\"https://cdn.pydata.org/bokeh/release/bokeh-tables-0.12.16.min.css\");\n    }\n  ];\n\n  function run_inline_js() {\n    \n    if ((root.Bokeh !== undefined) || (force === true)) {\n      for (var i = 0; i < inline_js.length; i++) {\n        inline_js[i].call(root, root.Bokeh);\n      }if (force === true) {\n        display_loaded();\n      }} else if (Date.now() < root._bokeh_timeout) {\n      setTimeout(run_inline_js, 100);\n    } else if (!root._bokeh_failed_load) {\n      console.log(\"Bokeh: BokehJS failed to load within specified timeout.\");\n      root._bokeh_failed_load = true;\n    } else if (force !== true) {\n      var cell = $(document.getElementById(\"1fed4bbd-c02e-4c4d-a723-e52a08384a1c\")).parents('.cell').data().cell;\n      cell.output_area.append_execute_result(NB_LOAD_WARNING)\n    }\n\n  }\n\n  if (root._bokeh_is_loading === 0) {\n    console.log(\"Bokeh: BokehJS loaded, going straight to plotting\");\n    run_inline_js();\n  } else {\n    load_libs(js_urls, function() {\n      console.log(\"Bokeh: BokehJS plotting callback run at\", now());\n      run_inline_js();\n    });\n  }\n}(window));"
     },
     "metadata": {},
     "output_type": "display_data"
    }
   ],
   "source": [
    "# Add \"beer\" to the PYTHONPATH\n",
    "import sys\n",
    "sys.path.insert(0, '../')\n",
    "\n",
    "import beer\n",
    "import numpy as np\n",
    "import torch\n",
    "\n",
    "# For plotting.\n",
    "from bokeh.io import show, output_notebook\n",
    "from bokeh.plotting import figure, gridplot\n",
    "output_notebook()\n",
    "\n",
    "# Convenience functions for plotting.\n",
    "import plotting\n",
    "\n",
    "%load_ext autoreload\n",
    "%autoreload 2"
   ]
  },
  {
   "cell_type": "markdown",
   "metadata": {},
   "source": [
    "## Data\n",
    "\n",
    "Generate some normally distributed data:"
   ]
  },
  {
   "cell_type": "code",
   "execution_count": 2,
   "metadata": {},
   "outputs": [
    {
     "data": {
      "text/html": [
       "\n",
       "<div class=\"bk-root\">\n",
       "    <div class=\"bk-plotdiv\" id=\"e767a00f-3a54-4623-9b45-70f4cb04ecf4\"></div>\n",
       "</div>"
      ]
     },
     "metadata": {},
     "output_type": "display_data"
    },
    {
     "data": {
      "application/javascript": [
       "(function(root) {\n",
       "  function embed_document(root) {\n",
       "    \n",
       "  var docs_json = {\"9fffef55-13b0-43f6-a620-9ac1be24c526\":{\"roots\":{\"references\":[{\"attributes\":{\"fill_alpha\":0.3,\"fill_color\":\"#1f77b4\",\"x\":{\"field\":\"x\"},\"y\":{\"field\":\"y\"}},\"id\":\"e4e4f129-4e42-4364-bbf7-ecc6d8a7e51b\",\"type\":\"Patch\"},{\"attributes\":{\"bottom_units\":\"screen\",\"fill_alpha\":{\"value\":0.5},\"fill_color\":{\"value\":\"lightgrey\"},\"left_units\":\"screen\",\"level\":\"overlay\",\"line_alpha\":{\"value\":1.0},\"line_color\":{\"value\":\"black\"},\"line_dash\":[4,4],\"line_width\":{\"value\":2},\"plot\":null,\"render_mode\":\"css\",\"right_units\":\"screen\",\"top_units\":\"screen\"},\"id\":\"6a551a08-8de8-45fc-b235-151fb0e953c2\",\"type\":\"BoxAnnotation\"},{\"attributes\":{},\"id\":\"8677d2ec-2adb-4eac-8599-9b7250b05916\",\"type\":\"PanTool\"},{\"attributes\":{},\"id\":\"daa8617f-7311-43dc-ab4a-f99f93d00fdb\",\"type\":\"WheelZoomTool\"},{\"attributes\":{\"overlay\":{\"id\":\"6a551a08-8de8-45fc-b235-151fb0e953c2\",\"type\":\"BoxAnnotation\"}},\"id\":\"bcab636e-e7d7-42dd-bded-5f23ea37eea0\",\"type\":\"BoxZoomTool\"},{\"attributes\":{},\"id\":\"9c030a23-3c29-424c-a21a-e13f5659cd40\",\"type\":\"SaveTool\"},{\"attributes\":{},\"id\":\"04b4d90c-e4b2-4cbb-82e8-0d8c1faf5997\",\"type\":\"ResetTool\"},{\"attributes\":{},\"id\":\"4af11384-286a-4f7e-8b2b-8a32586e2f4d\",\"type\":\"HelpTool\"},{\"attributes\":{\"fill_alpha\":0.1,\"fill_color\":\"#1f77b4\",\"line_alpha\":0.1,\"line_color\":\"#1f77b4\",\"x\":{\"field\":\"x\"},\"y\":{\"field\":\"y\"}},\"id\":\"72f6f180-c083-4b06-8835-47ac688d5230\",\"type\":\"Patch\"},{\"attributes\":{\"data_source\":{\"id\":\"f13ffa02-56ab-4ae8-9c3c-771d74f9da70\",\"type\":\"ColumnDataSource\"},\"glyph\":{\"id\":\"e4e4f129-4e42-4364-bbf7-ecc6d8a7e51b\",\"type\":\"Patch\"},\"hover_glyph\":null,\"muted_glyph\":null,\"nonselection_glyph\":{\"id\":\"72f6f180-c083-4b06-8835-47ac688d5230\",\"type\":\"Patch\"},\"selection_glyph\":null,\"view\":{\"id\":\"e38d5c2c-a3e3-43eb-a46e-025d4524b3d5\",\"type\":\"CDSView\"}},\"id\":\"12714418-8343-4279-a797-d7b340a72e46\",\"type\":\"GlyphRenderer\"},{\"attributes\":{\"fill_alpha\":0.1,\"fill_color\":\"#1f77b4\",\"line_alpha\":0.1,\"line_color\":\"#1f77b4\",\"x\":{\"field\":\"x\"},\"y\":{\"field\":\"y\"}},\"id\":\"72c8a5fa-469d-4bc1-bb56-39fe3d9c01d0\",\"type\":\"Patch\"},{\"attributes\":{\"source\":{\"id\":\"f13ffa02-56ab-4ae8-9c3c-771d74f9da70\",\"type\":\"ColumnDataSource\"}},\"id\":\"e38d5c2c-a3e3-43eb-a46e-025d4524b3d5\",\"type\":\"CDSView\"},{\"attributes\":{},\"id\":\"ed1fa8cb-8508-4634-8470-6d67f92d1ffd\",\"type\":\"BasicTickFormatter\"},{\"attributes\":{\"callback\":null,\"data\":{\"x\":{\"__ndarray__\":\"KcMnLR56zb9kZ9VLTp4BQMAeDT/ud40/k9hiJKzgCcDGvLL8/CwPQOL6AdVnwgfAiBA9E6M1oT9oCRHEAV8EwCqivgfbU9K/5yEI/e+wC8DUlKvOIFQGwAqu2H68QPa/kKDLAdgu/L983t/vv3DtvyB+vZWRlvw/YkGMbqXmAcC8jgV3KkbOP1cMXfs3Fe+/ygCujPeB9D/AmqiH2KHjP+6d6fXv1gFA7mkYx2X0u7+tJikmytvYPwtnRnQRx8y/WXzOGoQTFsDhe2UeP5PUvx1PHhzUZgLAOP05vJPvAsARGn9URFP6PwLy4n3ec+U/RJWCuhXoCkBL7UAx1FECwMIoh00BOgDAtTj8lnY+A8C7I8FnITawv3eg1SmpGLA/4JJ8F2ve5D/iNCT6NZIUQFTwWLJYPvm/kPXdfI+BAMAma1sIxXLyv80Z34a+ltw/EjCt2LEUAkCrXeztG6gEQDvLI8jQ3fq/7J89J7m62r//DRmdSN/Hvwhj8YUqxPw/RDRdsjxG+7+L9GhfzvEAwLeWm0BbJug/QPXRb7UO7D/3QZ1u8kTmv8FXN1P/vQTAhB0qSASkxL/ew/1SxYH0v7DN9yvpzwRAC6WR2Szr6j8H3Kle9JIHwIjS56/Ml8I/NrY2MFUTv7/JNzdox3TfP6zZTaHKcOS/Uq2HYSwf8r+Y33R40Ej8P0YC6S90JwjAC/oGwmrzCkCSVGiJiIP8PxP869OpvwRAXWslZp0M4r/9KivSRqP8P4fsi1ToHgnAMi5ZF2nluz+M7Pjx+knHP16LdR4zz+y/El+kZAeF8z99KvDjrbjvvxjIKPgsXv4/KjLEGz0QAcA06x+QuavjP/6wZxO2MfM/+kQhbRgsAUBh9ZpMTJAJQKvAbve1PPu/lNFmw+Lh9b/kr1oLrIjBv1q6TLJ5v/g/Ltt2EHPODkB6ja4O9WMCwBZh1/w3B+e/gg+BZC8dxz890FVbtnXzv1D4vhv7gtE/bTM++Eo79T/s1z+YacH7v5JNAgmGlwrA4NURr3F267+1A3zSlJ4GwAsIsl7hdQRAV7k61ruX6b8=\",\"dtype\":\"float64\",\"shape\":[100]},\"y\":{\"__ndarray__\":\"q7c5i8983z+egku4lqPuP1rCEQpfReY/SPyhzIaG7r/ZK9/4YHEBQLYyVSQxlu+/c4SRjnlz67/43DQND2jsv7fC3scicPa/Q3Pk/Ni477+b/eJDgWfwv8Bjhp/fiJc/TacxvO3T878TZgCPyezZPzGvzY93G9Y/eOGC4AkA7L8QFT9T0YarvwgG+NpE3/W/F9HejxFL0j9MhhzbmQv6PyCnRknCb+g/oxyT4Vsx7T+qKs7JdA/Yv+BOTorXG34/msN/0h6RBsCEMuxdANDNvwT0b2O2+fS/UxM6ulcl/r9cJXeNpE7JP6ujDR8Hldi/8LYIgM/c9j+7LCllSUfwv+JIqcDJffO/Q9LM+wbc6b9O+hEl4evAP3x+xUZ+aqS/CtZnml/Jxr8O23NUGlMGQOOySBhz//W/WJTKuegF678O7wbmsg3ivxyLw53kNtA/LL62zQW6+j9tzATu6TrxPzflPyfrW+W/z/i0UXbJyT/JbiPWoQXyP0HnuHtHpPI/6LOMU1xy+r94Kj/qviwCwFlInVX+BfC/OCO43Rhj+D+BD5nWxxfSv6yHuUtWN9y/so/txiaL2b/iP5QYi8bKv9nYOrxl5/0/NRAgxObR2T/a1mQ8M/cAwO3CGmg5X8u/ik5LqZQtxj9uQCla8sjqP/FG8tD4ywXA4WtkAWr67b8I0s6pk730PyQEk45mffO/yYLCjvS86j/RSfBzrV3RP7AGpZax0es/MVxYYS/ewb+g8GCkWFeWPzsHXUyG7uS/EcawJHgS1r/06OsKKAX3P/2E0bq2Vtk/Cn0JADJy478ibP1XhnXrPxRCQbzi6+U/MnYstSim8r82v8s6a9bdP2IdUTmxat0/Z/yomCro9T8JwA7YGbD4Pz5+rVg9ueC/BlfJSDOT1L8xdja/Vk/zP36AV6x9/Mk/vYrEdmv84D8txLROkAPxv9Sjhlqf8aC/NAsErDi6lr+qbK2EaPLHv7JUoI/OK+o/SlQeo3f7+T+JEt9QUL/yv+oBAUkHSQPAw0HovUn70r8QrT6l9lniv0n+mvHQif0/K9rfTcPs4L8=\",\"dtype\":\"float64\",\"shape\":[100]}},\"selected\":{\"id\":\"6817097a-2fdd-4dcc-8092-1029215839cc\",\"type\":\"Selection\"},\"selection_policy\":{\"id\":\"bdf4c4bd-33d8-4044-b22e-e95e055fad31\",\"type\":\"UnionRenderers\"}},\"id\":\"0e67130b-73fe-400e-a305-f6a437a7d4bb\",\"type\":\"ColumnDataSource\"},{\"attributes\":{\"callback\":null,\"data\":{\"x\":{\"__ndarray__\":\"AAAAAAAAAEBszyEtK+//P+3YO2m+vP8/6LXLv+5o/z8A7UpbFPT+P8a7byiqXv4/CEzdVE2p/T9xXMupvNT8P0BMU8PX4fs/lqo1JZ7R+j+zvA8uLqX5P+i8G+rDXfg/GLm4xrf89j8vzxcofYP1P9Lti+Kg8/M/QRYXmcdO8j/HQuwCrJbwP3LbbjM6mu0/VEcrZfjn6T8E7noHdhrmP0X32DGzNeI/hEUC45B73D/Kg870xG3UP3m77wv3lMg/8DLpehBpsD++Mul6EGmwv2K77wv3lMi/v4PO9MRt1L+ARQLjkHvcvz/32DGzNeK//u16B3Ya5r9PRytl+Ofpv23bbjM6mu2/xULsAqyW8L8+FheZx07yv9Dti+Kg8/O/K88XKH2D9b8XubjGt/z2v+a8G+rDXfi/sbwPLi6l+b+TqjUlntH6vz5MU8PX4fu/cFzLqbzU/L8HTN1UTan9v8a7byiqXv6//+xKWxT0/r/otcu/7mj/v+zYO2m+vP+/bM8hLSvv/78AAAAAAAAAwAAAAAAAAADAbM8hLSvv/7/s2Dtpvrz/v+i1y7/uaP+//+xKWxT0/r/Gu28oql7+vwdM3VRNqf2/cFzLqbzU/L8+TFPD1+H7v5OqNSWe0fq/sbwPLi6l+b/mvBvqw134vxe5uMa3/Pa/K88XKH2D9b/Q7YvioPPzvz4WF5nHTvK/xULsAqyW8L9t224zOprtv09HK2X45+m//u16B3Ya5r8/99gxszXiv4BFAuOQe9y/v4PO9MRt1L9iu+8L95TIv74y6XoQabC/8DLpehBpsD95u+8L95TIP8qDzvTEbdQ/hEUC45B73D9F99gxszXiPwTuegd2GuY/VEcrZfjn6T9y224zOprtP8dC7AKslvA/QRYXmcdO8j/S7YvioPPzPy/PFyh9g/U/GLm4xrf89j/ovBvqw134P7O8Dy4upfk/lqo1JZ7R+j9ATFPD1+H7P3Fcy6m81Pw/CEzdVE2p/T/Gu28oql7+PwDtSlsU9P4/6LXLv+5o/z/t2Dtpvrz/P2zPIS0r7/8/AAAAAAAAAEA=\",\"dtype\":\"float64\",\"shape\":[100]},\"y\":{\"__ndarray__\":\"AAAAAAAA6D+GQCV4ik7pP99bocd1guo/RtRcA36a6z/8OUSWfJXsP1GgK3dpcu0/6tqPPlww7j9aUxEbjc7uP15Ip6NVTO8/gleuhjGp7z8SKhoVv+TvPzjYN6m//u8/DumU6Bf37z8AnMXgz83vP4I27P4Sg+8/bj8K4i8X7z9+tksImIruP8hIo1ff3e0/Dho1grsR7T+kzTNHAyfsPy/g+JCtHus/6vZFcdD56T/2YcD8n7noPzqJ2gZtX+c/LDGAv6Ps5T9oVPozymLkPxaWnbR+w+I/jfDyIHYQ4T+yOUo49JbeP31NLFfO7No/SDYvg1Um1z8lSalsgkfTP9SQQMTOqM4/VEmlD1iixj+E8DzjIwi9P6AcpbEaWqk/YLCG1/bajb+gZAEM3h+0v34Mx9eYN8K/3sP1vxhMyr+yUERidyLRv/1TqwLcDNW/nW4/xxvh2L88LniBL5vcv1b5e8WVG+C/gSms8qHY4b+VvFQc6ILjv4FpONanGOW/mnaNSzaY5r/////////nvwEAAAAAAOi/iEAleIpO6b/hW6HHdYLqv0fUXAN+muu//TlElnyV7L9SoCt3aXLtv+zajz5cMO6/WlMRG43O7r9eSKejVUzvv4NXroYxqe+/EioaFb/k77842Depv/7vvw7plOgX9++//pvF4M/N77+CNuz+EoPvv24/CuIvF++/fbZLCJiK7r/HSKNX393tvw4aNYK7Ee2/os0zRwMn7L8u4PiQrR7rv+n2RXHQ+em/9WHA/J+56L84idoGbV/nvyoxgL+j7OW/ZlT6M8pi5L8Ulp20fsPiv4rw8iB2EOG/sDlKOPSW3r92TSxXzuzav0E2L4NVJte/H0mpbIJH07/IkEDEzqjOv1BJpQ9Yosa/YPA84yMIvb9oHKWxGlqpv2Cxhtf22o0/sGQBDN4ftD+ODMfXmDfCP+bD9b8YTMo/vFBEYnci0T8EVKsC3AzVP6BuP8cb4dg/Qy54gS+b3D9X+XvFlRvgP4QprPKh2OE/lrxUHOiC4z+FaTjWpxjlP5x2jUs2mOY/AAAAAAAA6D8=\",\"dtype\":\"float64\",\"shape\":[100]}},\"selected\":{\"id\":\"b0e86299-3614-4886-8e3c-87894cfdfc6c\",\"type\":\"Selection\"},\"selection_policy\":{\"id\":\"dd72048f-6d47-431b-bf83-cd194f8c3ee7\",\"type\":\"UnionRenderers\"}},\"id\":\"28fa54ca-052a-4d4f-8229-c77bd8d5f746\",\"type\":\"ColumnDataSource\"},{\"attributes\":{\"formatter\":{\"id\":\"dbd9383e-0d4f-46fc-be9e-90b2e8e6e8f5\",\"type\":\"BasicTickFormatter\"},\"plot\":{\"id\":\"951cc7c3-decc-4151-984b-c14a6163d096\",\"subtype\":\"Figure\",\"type\":\"Plot\"},\"ticker\":{\"id\":\"95c1136c-828a-49af-b3cf-deaa70a49818\",\"type\":\"BasicTicker\"}},\"id\":\"2e439983-431f-4553-8f31-54fc64258464\",\"type\":\"LinearAxis\"},{\"attributes\":{\"fill_alpha\":0.3,\"fill_color\":\"#1f77b4\",\"x\":{\"field\":\"x\"},\"y\":{\"field\":\"y\"}},\"id\":\"8b304b1b-f1dc-466e-af6b-cf7c0eba758e\",\"type\":\"Patch\"},{\"attributes\":{\"below\":[{\"id\":\"4e64cf07-de72-45bd-8827-1b3a649e1d82\",\"type\":\"LinearAxis\"}],\"left\":[{\"id\":\"2e439983-431f-4553-8f31-54fc64258464\",\"type\":\"LinearAxis\"}],\"plot_height\":400,\"plot_width\":400,\"renderers\":[{\"id\":\"4e64cf07-de72-45bd-8827-1b3a649e1d82\",\"type\":\"LinearAxis\"},{\"id\":\"efe7e897-6075-43e0-bef5-37cfecb346e0\",\"type\":\"Grid\"},{\"id\":\"2e439983-431f-4553-8f31-54fc64258464\",\"type\":\"LinearAxis\"},{\"id\":\"220a4d3d-5de2-43f9-bd72-8c4fc6b90dc4\",\"type\":\"Grid\"},{\"id\":\"6a551a08-8de8-45fc-b235-151fb0e953c2\",\"type\":\"BoxAnnotation\"},{\"id\":\"e4d42539-04a6-45f8-be67-1779bc90c413\",\"type\":\"GlyphRenderer\"},{\"id\":\"12714418-8343-4279-a797-d7b340a72e46\",\"type\":\"GlyphRenderer\"},{\"id\":\"b1513500-7e4d-4bf2-9ffe-228a58f36a26\",\"type\":\"GlyphRenderer\"}],\"title\":{\"id\":\"0a8c3fbf-c2c0-4e02-aee7-e07213520f84\",\"type\":\"Title\"},\"toolbar\":{\"id\":\"6f355269-6a4e-4aa7-897e-c543845cbbcd\",\"type\":\"Toolbar\"},\"x_range\":{\"id\":\"8ae27029-b529-4c4e-b24d-91db2a359139\",\"type\":\"Range1d\"},\"x_scale\":{\"id\":\"1407765a-a508-4c43-9a3a-06759bc1449d\",\"type\":\"LinearScale\"},\"y_range\":{\"id\":\"75ea05e7-ec5b-4513-9b60-818858104c21\",\"type\":\"Range1d\"},\"y_scale\":{\"id\":\"077beda6-a53a-44a6-9662-e65cdb555c68\",\"type\":\"LinearScale\"}},\"id\":\"951cc7c3-decc-4151-984b-c14a6163d096\",\"subtype\":\"Figure\",\"type\":\"Plot\"},{\"attributes\":{\"data_source\":{\"id\":\"28fa54ca-052a-4d4f-8229-c77bd8d5f746\",\"type\":\"ColumnDataSource\"},\"glyph\":{\"id\":\"8b304b1b-f1dc-466e-af6b-cf7c0eba758e\",\"type\":\"Patch\"},\"hover_glyph\":null,\"muted_glyph\":null,\"nonselection_glyph\":{\"id\":\"72c8a5fa-469d-4bc1-bb56-39fe3d9c01d0\",\"type\":\"Patch\"},\"selection_glyph\":null,\"view\":{\"id\":\"9e684e07-db9a-4f95-b196-81fb8274d033\",\"type\":\"CDSView\"}},\"id\":\"b1513500-7e4d-4bf2-9ffe-228a58f36a26\",\"type\":\"GlyphRenderer\"},{\"attributes\":{\"callback\":null,\"end\":5.0,\"start\":-5.0},\"id\":\"75ea05e7-ec5b-4513-9b60-818858104c21\",\"type\":\"Range1d\"},{\"attributes\":{\"source\":{\"id\":\"28fa54ca-052a-4d4f-8229-c77bd8d5f746\",\"type\":\"ColumnDataSource\"}},\"id\":\"9e684e07-db9a-4f95-b196-81fb8274d033\",\"type\":\"CDSView\"},{\"attributes\":{},\"id\":\"95c1136c-828a-49af-b3cf-deaa70a49818\",\"type\":\"BasicTicker\"},{\"attributes\":{},\"id\":\"6817097a-2fdd-4dcc-8092-1029215839cc\",\"type\":\"Selection\"},{\"attributes\":{},\"id\":\"dbd9383e-0d4f-46fc-be9e-90b2e8e6e8f5\",\"type\":\"BasicTickFormatter\"},{\"attributes\":{\"plot\":null,\"text\":\"Data\"},\"id\":\"0a8c3fbf-c2c0-4e02-aee7-e07213520f84\",\"type\":\"Title\"},{\"attributes\":{\"data_source\":{\"id\":\"0e67130b-73fe-400e-a305-f6a437a7d4bb\",\"type\":\"ColumnDataSource\"},\"glyph\":{\"id\":\"4121aa93-ab5e-44fc-bdb9-6bded68b2241\",\"type\":\"Circle\"},\"hover_glyph\":null,\"muted_glyph\":null,\"nonselection_glyph\":{\"id\":\"d0bc9da7-d699-43a5-a9f8-15cc8f77de2a\",\"type\":\"Circle\"},\"selection_glyph\":null,\"view\":{\"id\":\"2fb3d84f-9ca9-4a31-a309-3934b77324d4\",\"type\":\"CDSView\"}},\"id\":\"e4d42539-04a6-45f8-be67-1779bc90c413\",\"type\":\"GlyphRenderer\"},{\"attributes\":{\"callback\":null,\"end\":5.0,\"start\":-5.0},\"id\":\"8ae27029-b529-4c4e-b24d-91db2a359139\",\"type\":\"Range1d\"},{\"attributes\":{},\"id\":\"7293e340-4e42-422f-b012-19ec87ff7972\",\"type\":\"UnionRenderers\"},{\"attributes\":{},\"id\":\"5043035d-475d-4e01-aca0-cded46a5ec05\",\"type\":\"Selection\"},{\"attributes\":{\"active_drag\":\"auto\",\"active_inspect\":\"auto\",\"active_scroll\":\"auto\",\"active_tap\":\"auto\",\"tools\":[{\"id\":\"8677d2ec-2adb-4eac-8599-9b7250b05916\",\"type\":\"PanTool\"},{\"id\":\"daa8617f-7311-43dc-ab4a-f99f93d00fdb\",\"type\":\"WheelZoomTool\"},{\"id\":\"bcab636e-e7d7-42dd-bded-5f23ea37eea0\",\"type\":\"BoxZoomTool\"},{\"id\":\"9c030a23-3c29-424c-a21a-e13f5659cd40\",\"type\":\"SaveTool\"},{\"id\":\"04b4d90c-e4b2-4cbb-82e8-0d8c1faf5997\",\"type\":\"ResetTool\"},{\"id\":\"4af11384-286a-4f7e-8b2b-8a32586e2f4d\",\"type\":\"HelpTool\"}]},\"id\":\"6f355269-6a4e-4aa7-897e-c543845cbbcd\",\"type\":\"Toolbar\"},{\"attributes\":{\"fill_alpha\":{\"value\":0.1},\"fill_color\":{\"value\":\"#1f77b4\"},\"line_alpha\":{\"value\":0.1},\"line_color\":{\"value\":\"#1f77b4\"},\"x\":{\"field\":\"x\"},\"y\":{\"field\":\"y\"}},\"id\":\"d0bc9da7-d699-43a5-a9f8-15cc8f77de2a\",\"type\":\"Circle\"},{\"attributes\":{},\"id\":\"1407765a-a508-4c43-9a3a-06759bc1449d\",\"type\":\"LinearScale\"},{\"attributes\":{},\"id\":\"b0e86299-3614-4886-8e3c-87894cfdfc6c\",\"type\":\"Selection\"},{\"attributes\":{\"source\":{\"id\":\"0e67130b-73fe-400e-a305-f6a437a7d4bb\",\"type\":\"ColumnDataSource\"}},\"id\":\"2fb3d84f-9ca9-4a31-a309-3934b77324d4\",\"type\":\"CDSView\"},{\"attributes\":{},\"id\":\"bdf4c4bd-33d8-4044-b22e-e95e055fad31\",\"type\":\"UnionRenderers\"},{\"attributes\":{},\"id\":\"077beda6-a53a-44a6-9662-e65cdb555c68\",\"type\":\"LinearScale\"},{\"attributes\":{},\"id\":\"dd72048f-6d47-431b-bf83-cd194f8c3ee7\",\"type\":\"UnionRenderers\"},{\"attributes\":{\"formatter\":{\"id\":\"ed1fa8cb-8508-4634-8470-6d67f92d1ffd\",\"type\":\"BasicTickFormatter\"},\"plot\":{\"id\":\"951cc7c3-decc-4151-984b-c14a6163d096\",\"subtype\":\"Figure\",\"type\":\"Plot\"},\"ticker\":{\"id\":\"acf5722f-1b12-40d1-bd1f-72556d095939\",\"type\":\"BasicTicker\"}},\"id\":\"4e64cf07-de72-45bd-8827-1b3a649e1d82\",\"type\":\"LinearAxis\"},{\"attributes\":{},\"id\":\"acf5722f-1b12-40d1-bd1f-72556d095939\",\"type\":\"BasicTicker\"},{\"attributes\":{\"plot\":{\"id\":\"951cc7c3-decc-4151-984b-c14a6163d096\",\"subtype\":\"Figure\",\"type\":\"Plot\"},\"ticker\":{\"id\":\"acf5722f-1b12-40d1-bd1f-72556d095939\",\"type\":\"BasicTicker\"}},\"id\":\"efe7e897-6075-43e0-bef5-37cfecb346e0\",\"type\":\"Grid\"},{\"attributes\":{\"dimension\":1,\"plot\":{\"id\":\"951cc7c3-decc-4151-984b-c14a6163d096\",\"subtype\":\"Figure\",\"type\":\"Plot\"},\"ticker\":{\"id\":\"95c1136c-828a-49af-b3cf-deaa70a49818\",\"type\":\"BasicTicker\"}},\"id\":\"220a4d3d-5de2-43f9-bd72-8c4fc6b90dc4\",\"type\":\"Grid\"},{\"attributes\":{\"callback\":null,\"data\":{\"x\":{\"__ndarray__\":\"AAAAAAAAEEBszyEtK+8PQO3YO2m+vA9A6LXLv+5oD0AA7UpbFPQOQMa7byiqXg5ACEzdVE2pDUBxXMupvNQMQEBMU8PX4QtAlqo1JZ7RCkCzvA8uLqUJQOi8G+rDXQhAGLm4xrf8BkAvzxcofYMFQNLti+Kg8wNAQRYXmcdOAkDHQuwCrJYAQHLbbjM6mv0/VEcrZfjn+T8E7noHdhr2P0X32DGzNfI/hEUC45B77D/Kg870xG3kP3m77wv3lNg/8DLpehBpwD++Mul6EGnAv2K77wv3lNi/v4PO9MRt5L+ARQLjkHvsvz/32DGzNfK//u16B3Ya9r9PRytl+Of5v23bbjM6mv2/xULsAqyWAMA+FheZx04CwNDti+Kg8wPAK88XKH2DBcAXubjGt/wGwOa8G+rDXQjAsbwPLi6lCcCTqjUlntEKwD5MU8PX4QvAcFzLqbzUDMAHTN1UTakNwMa7byiqXg7A/+xKWxT0DsDotcu/7mgPwOzYO2m+vA/AbM8hLSvvD8AAAAAAAAAQwAAAAAAAABDAbM8hLSvvD8Ds2DtpvrwPwOi1y7/uaA/A/+xKWxT0DsDGu28oql4OwAdM3VRNqQ3AcFzLqbzUDMA+TFPD1+ELwJOqNSWe0QrAsbwPLi6lCcDmvBvqw10IwBe5uMa3/AbAK88XKH2DBcDQ7YvioPMDwD4WF5nHTgLAxULsAqyWAMBt224zOpr9v09HK2X45/m//u16B3Ya9r8/99gxszXyv4BFAuOQe+y/v4PO9MRt5L9iu+8L95TYv74y6XoQacC/8DLpehBpwD95u+8L95TYP8qDzvTEbeQ/hEUC45B77D9F99gxszXyPwTuegd2GvY/VEcrZfjn+T9y224zOpr9P8dC7AKslgBAQRYXmcdOAkDS7YvioPMDQC/PFyh9gwVAGLm4xrf8BkDovBvqw10IQLO8Dy4upQlAlqo1JZ7RCkBATFPD1+ELQHFcy6m81AxACEzdVE2pDUDGu28oql4OQADtSlsU9A5A6LXLv+5oD0Dt2DtpvrwPQGzPIS0r7w9AAAAAAAAAEEA=\",\"dtype\":\"float64\",\"shape\":[100]},\"y\":{\"__ndarray__\":\"AAAAAAAA+D+GQCV4ik75P99bocd1gvo/RtRcA36a+z/8OUSWfJX8P1GgK3dpcv0/6tqPPlww/j9aUxEbjc7+P15Ip6NVTP8/gleuhjGp/z8SKhoVv+T/PzjYN6m//v8/DumU6Bf3/z8AnMXgz83/P4I27P4Sg/8/bj8K4i8X/z9+tksImIr+P8hIo1ff3f0/Dho1grsR/T+kzTNHAyf8Py/g+JCtHvs/6vZFcdD5+T/2YcD8n7n4PzqJ2gZtX/c/LDGAv6Ps9T9oVPozymL0PxaWnbR+w/I/jfDyIHYQ8T+yOUo49JbuP31NLFfO7Oo/SDYvg1Um5z8lSalsgkfjP9SQQMTOqN4/VEmlD1ii1j+E8DzjIwjNP6AcpbEaWrk/YLCG1/banb+gZAEM3h/Ev34Mx9eYN9K/3sP1vxhM2r+yUERidyLhv/1TqwLcDOW/nW4/xxvh6L88LniBL5vsv1b5e8WVG/C/gSms8qHY8b+VvFQc6ILzv4FpONanGPW/mnaNSzaY9r/////////3vwEAAAAAAPi/iEAleIpO+b/hW6HHdYL6v0fUXAN+mvu//TlElnyV/L9SoCt3aXL9v+zajz5cMP6/WlMRG43O/r9eSKejVUz/v4NXroYxqf+/EioaFb/k/7842Depv/7/vw7plOgX9/+//pvF4M/N/7+CNuz+EoP/v24/CuIvF/+/fbZLCJiK/r/HSKNX3939vw4aNYK7Ef2/os0zRwMn/L8u4PiQrR77v+n2RXHQ+fm/9WHA/J+5+L84idoGbV/3vyoxgL+j7PW/ZlT6M8pi9L8Ulp20fsPyv4rw8iB2EPG/sDlKOPSW7r92TSxXzuzqv0E2L4NVJue/H0mpbIJH47/IkEDEzqjev1BJpQ9Yota/YPA84yMIzb9oHKWxGlq5v2Cxhtf22p0/sGQBDN4fxD+ODMfXmDfSP+bD9b8YTNo/vFBEYnci4T8EVKsC3AzlP6BuP8cb4eg/Qy54gS+b7D9X+XvFlRvwP4QprPKh2PE/lrxUHOiC8z+FaTjWpxj1P5x2jUs2mPY/AAAAAAAA+D8=\",\"dtype\":\"float64\",\"shape\":[100]}},\"selected\":{\"id\":\"5043035d-475d-4e01-aca0-cded46a5ec05\",\"type\":\"Selection\"},\"selection_policy\":{\"id\":\"7293e340-4e42-422f-b012-19ec87ff7972\",\"type\":\"UnionRenderers\"}},\"id\":\"f13ffa02-56ab-4ae8-9c3c-771d74f9da70\",\"type\":\"ColumnDataSource\"},{\"attributes\":{\"fill_color\":{\"value\":\"#1f77b4\"},\"line_color\":{\"value\":\"#1f77b4\"},\"x\":{\"field\":\"x\"},\"y\":{\"field\":\"y\"}},\"id\":\"4121aa93-ab5e-44fc-bdb9-6bded68b2241\",\"type\":\"Circle\"}],\"root_ids\":[\"951cc7c3-decc-4151-984b-c14a6163d096\"]},\"title\":\"Bokeh Application\",\"version\":\"0.12.16\"}};\n",
       "  var render_items = [{\"docid\":\"9fffef55-13b0-43f6-a620-9ac1be24c526\",\"elementid\":\"e767a00f-3a54-4623-9b45-70f4cb04ecf4\",\"modelid\":\"951cc7c3-decc-4151-984b-c14a6163d096\"}];\n",
       "  root.Bokeh.embed.embed_items_notebook(docs_json, render_items);\n",
       "\n",
       "  }\n",
       "  if (root.Bokeh !== undefined) {\n",
       "    embed_document(root);\n",
       "  } else {\n",
       "    var attempts = 0;\n",
       "    var timer = setInterval(function(root) {\n",
       "      if (root.Bokeh !== undefined) {\n",
       "        embed_document(root);\n",
       "        clearInterval(timer);\n",
       "      }\n",
       "      attempts++;\n",
       "      if (attempts > 100) {\n",
       "        console.log(\"Bokeh: ERROR: Unable to run BokehJS code because BokehJS library is missing\")\n",
       "        clearInterval(timer);\n",
       "      }\n",
       "    }, 10, root)\n",
       "  }\n",
       "})(window);"
      ],
      "application/vnd.bokehjs_exec.v0+json": ""
     },
     "metadata": {
      "application/vnd.bokehjs_exec.v0+json": {
       "id": "951cc7c3-decc-4151-984b-c14a6163d096"
      }
     },
     "output_type": "display_data"
    }
   ],
   "source": [
    "mean = np.zeros(2) \n",
    "cov = np.array([\n",
    "    [4, 1.5],\n",
    "    [1.5, 1]\n",
    "])\n",
    "data = np.random.multivariate_normal(mean, cov, size=100)\n",
    "\n",
    "fig = figure(\n",
    "    title='Data',\n",
    "    width=400,\n",
    "    height=400,\n",
    "    x_range=(mean[0] - 5, mean[0] + 5),\n",
    "    y_range=(mean[1] - 5, mean[1] + 5)\n",
    ")\n",
    "fig.circle(data[:, 0], data[:, 1])\n",
    "plotting.plot_normal(fig, mean, cov, line_color='black', fill_alpha=.3)\n",
    "\n",
    "show(fig)"
   ]
  },
  {
   "cell_type": "markdown",
   "metadata": {},
   "source": [
    "## Model Creation\n",
    "\n",
    "We create two types of Normal distribution: one diagonal covariance matrix and another one with full covariance matrix."
   ]
  },
  {
   "cell_type": "code",
   "execution_count": 7,
   "metadata": {},
   "outputs": [],
   "source": [
    "data_mean = torch.from_numpy(data.mean(axis=0)).float()\n",
    "data_var = torch.from_numpy(data.var(axis=0)).float()\n",
    "\n",
    "normal_iso = beer.Normal.create(data_mean, data_var, 1., covariance='isotropic')\n",
    "normal_diag = beer.Normal.create(data_mean, data_var, 1., covariance='diagonal')\n",
    "normal_full = beer.Normal.create(data_mean, data_var, 1., covariance='full')\n",
    "\n",
    "models = {\n",
    "    'normal_full': normal_full,\n",
    "    'normal_diag': normal_diag,\n",
    "    'normal_iso': normal_iso\n",
    "}"
   ]
  },
  {
   "cell_type": "markdown",
   "metadata": {},
   "source": [
    "## Variational Bayes Training "
   ]
  },
  {
   "cell_type": "code",
   "execution_count": 9,
   "metadata": {},
   "outputs": [],
   "source": [
    "epochs = 20\n",
    "lrate = 1.\n",
    "X = torch.from_numpy(data).float()\n",
    "\n",
    "optims = {\n",
    "    model_name: beer.BayesianModelCoordinateAscentOptimizer(\n",
    "        model.mean_field_groups, lrate)\n",
    "    for model_name, model in models.items()\n",
    "}\n",
    "\n",
    "elbos = {\n",
    "    model_name: [] \n",
    "    for model_name in models\n",
    "}  \n",
    "\n",
    "\n",
    "for epoch in range(epochs):\n",
    "    for name, model in models.items():\n",
    "        optim = optims[name]\n",
    "        optim.zero_grad()\n",
    "        elbo = beer.evidence_lower_bound(model, X, datasize=len(X))\n",
    "        elbo.natural_backward()\n",
    "        elbos[name].append(float(elbo) / len(X))\n",
    "        optim.step()"
   ]
  },
  {
   "cell_type": "code",
   "execution_count": 10,
   "metadata": {},
   "outputs": [
    {
     "data": {
      "text/html": [
       "\n",
       "<div class=\"bk-root\">\n",
       "    <div class=\"bk-plotdiv\" id=\"f245e072-90f9-4419-b464-b45eb6ad4307\"></div>\n",
       "</div>"
      ]
     },
     "metadata": {},
     "output_type": "display_data"
    },
    {
     "data": {
      "application/javascript": [
       "(function(root) {\n",
       "  function embed_document(root) {\n",
       "    \n",
       "  var docs_json = {\"cb29d862-2a6c-41d9-8b70-549a55d070ba\":{\"roots\":{\"references\":[{\"attributes\":{\"callback\":null},\"id\":\"58207e56-4730-4dcb-97b2-bea6de69d197\",\"type\":\"DataRange1d\"},{\"attributes\":{\"line_alpha\":0.1,\"line_color\":\"#1f77b4\",\"x\":{\"field\":\"x\"},\"y\":{\"field\":\"y\"}},\"id\":\"b3495ab1-4327-463e-9a9c-a0b42fe9d867\",\"type\":\"Line\"},{\"attributes\":{},\"id\":\"9975506f-ce74-4575-87ec-b4e20a76435d\",\"type\":\"BasicTicker\"},{\"attributes\":{\"source\":{\"id\":\"766c86f3-464a-40f4-9477-432cf0b6207b\",\"type\":\"ColumnDataSource\"}},\"id\":\"2c303f69-0e99-4aa4-8e56-2d5c3acc4310\",\"type\":\"CDSView\"},{\"attributes\":{},\"id\":\"b4c023a8-1b6a-4dba-ac85-16525698c177\",\"type\":\"Selection\"},{\"attributes\":{\"axis_label\":\"ln p(X)\",\"formatter\":{\"id\":\"20098173-7c5a-4879-892c-e44298cf0d0a\",\"type\":\"BasicTickFormatter\"},\"plot\":{\"id\":\"df2e1147-a819-40b2-bb2f-a2693dc453a7\",\"subtype\":\"Figure\",\"type\":\"Plot\"},\"ticker\":{\"id\":\"0a6bdb75-4e0c-4f93-9e2d-f90c7278e3b5\",\"type\":\"BasicTicker\"}},\"id\":\"ac3e26da-e1b5-481d-b9a3-e9be534011ea\",\"type\":\"LinearAxis\"},{\"attributes\":{\"label\":{\"value\":\"normal_iso\"},\"renderers\":[{\"id\":\"eabb7483-6015-4989-9b0b-a3dfdd533fb1\",\"type\":\"GlyphRenderer\"}]},\"id\":\"34843d65-10d7-4d08-9aab-cada49bfaf40\",\"type\":\"LegendItem\"},{\"attributes\":{\"active_drag\":\"auto\",\"active_inspect\":\"auto\",\"active_scroll\":\"auto\",\"active_tap\":\"auto\",\"tools\":[{\"id\":\"4552e5ad-785d-4adb-ac91-24c6c3264675\",\"type\":\"PanTool\"},{\"id\":\"48c675ac-2ac5-44d7-8e68-5531849b3b93\",\"type\":\"WheelZoomTool\"},{\"id\":\"b5ee7f53-ebe7-40f5-9c03-4e5aacdc9b5a\",\"type\":\"BoxZoomTool\"},{\"id\":\"cd076d5a-f6d3-40f3-9523-4504b1c7711d\",\"type\":\"SaveTool\"},{\"id\":\"ab1702c0-b18f-4d66-aba5-0c4e93e15f0a\",\"type\":\"ResetTool\"},{\"id\":\"460f9e0d-90ce-4b3f-b05b-acf0bc942841\",\"type\":\"HelpTool\"}]},\"id\":\"49edb6fe-b3ec-4342-aed8-cca019fb102b\",\"type\":\"Toolbar\"},{\"attributes\":{},\"id\":\"fefa644a-9f00-4b8c-b43c-f5329d46e403\",\"type\":\"LinearScale\"},{\"attributes\":{},\"id\":\"a02d61cb-8a5f-40f9-9305-55f6680f806f\",\"type\":\"Selection\"},{\"attributes\":{\"callback\":null},\"id\":\"59eb7f77-e28b-4644-a233-9bfe4bd68d77\",\"type\":\"DataRange1d\"},{\"attributes\":{\"line_color\":\"green\",\"x\":{\"field\":\"x\"},\"y\":{\"field\":\"y\"}},\"id\":\"d9e80ae8-82a6-4d92-95e8-ec4a53553d2a\",\"type\":\"Line\"},{\"attributes\":{},\"id\":\"d8dfb7b0-3a2c-4f2d-b1b6-bad25d4ab92e\",\"type\":\"UnionRenderers\"},{\"attributes\":{},\"id\":\"3f069a43-211e-4c16-95a6-2edd23ccd01d\",\"type\":\"LinearScale\"},{\"attributes\":{\"line_alpha\":0.1,\"line_color\":\"#1f77b4\",\"x\":{\"field\":\"x\"},\"y\":{\"field\":\"y\"}},\"id\":\"ba301f85-2492-4bd4-8d8c-e0b60b8572d1\",\"type\":\"Line\"},{\"attributes\":{\"plot\":{\"id\":\"df2e1147-a819-40b2-bb2f-a2693dc453a7\",\"subtype\":\"Figure\",\"type\":\"Plot\"},\"ticker\":{\"id\":\"9975506f-ce74-4575-87ec-b4e20a76435d\",\"type\":\"BasicTicker\"}},\"id\":\"429f4d12-6f40-4738-b76b-320b987c330e\",\"type\":\"Grid\"},{\"attributes\":{\"source\":{\"id\":\"6d5a9b2d-d1e5-4002-9804-f91ad668f441\",\"type\":\"ColumnDataSource\"}},\"id\":\"bccbe884-13e7-4c22-9a07-e8c81cb8040f\",\"type\":\"CDSView\"},{\"attributes\":{\"axis_label\":\"step\",\"formatter\":{\"id\":\"0aab116f-7abc-42a4-9ea4-971009768294\",\"type\":\"BasicTickFormatter\"},\"plot\":{\"id\":\"df2e1147-a819-40b2-bb2f-a2693dc453a7\",\"subtype\":\"Figure\",\"type\":\"Plot\"},\"ticker\":{\"id\":\"9975506f-ce74-4575-87ec-b4e20a76435d\",\"type\":\"BasicTicker\"}},\"id\":\"f73aebba-7066-4b5d-b7db-f4a51adbc329\",\"type\":\"LinearAxis\"},{\"attributes\":{\"items\":[{\"id\":\"4fcb6a57-5387-4cc0-ad63-9b19f84dbf6b\",\"type\":\"LegendItem\"},{\"id\":\"a7182c4d-3589-4cb3-85e6-63d21c6f47a2\",\"type\":\"LegendItem\"},{\"id\":\"34843d65-10d7-4d08-9aab-cada49bfaf40\",\"type\":\"LegendItem\"}],\"location\":\"bottom_right\",\"plot\":{\"id\":\"df2e1147-a819-40b2-bb2f-a2693dc453a7\",\"subtype\":\"Figure\",\"type\":\"Plot\"}},\"id\":\"e9f381af-56d2-462a-8020-6eba38868cf9\",\"type\":\"Legend\"},{\"attributes\":{},\"id\":\"0a6bdb75-4e0c-4f93-9e2d-f90c7278e3b5\",\"type\":\"BasicTicker\"},{\"attributes\":{},\"id\":\"de4c887a-8b8e-4109-82b9-4182c8e055d6\",\"type\":\"UnionRenderers\"},{\"attributes\":{\"dimension\":1,\"plot\":{\"id\":\"df2e1147-a819-40b2-bb2f-a2693dc453a7\",\"subtype\":\"Figure\",\"type\":\"Plot\"},\"ticker\":{\"id\":\"0a6bdb75-4e0c-4f93-9e2d-f90c7278e3b5\",\"type\":\"BasicTicker\"}},\"id\":\"a84fcb80-30f1-4d7b-b132-f820b5209214\",\"type\":\"Grid\"},{\"attributes\":{\"callback\":null,\"data\":{\"x\":[0,1,2,3,4,5,6,7,8,9,10,11,12,13,14,15,16,17,18,19],\"y\":[-5.869080810546875,-3.187904052734375,-3.187904052734375,-3.187904052734375,-3.187904052734375,-3.187904052734375,-3.187904052734375,-3.187904052734375,-3.187904052734375,-3.187904052734375,-3.187904052734375,-3.187904052734375,-3.187904052734375,-3.187904052734375,-3.187904052734375,-3.187904052734375,-3.187904052734375,-3.187904052734375,-3.187904052734375,-3.187904052734375]},\"selected\":{\"id\":\"2116ebf6-53a0-47b8-b962-9bb2e79eed03\",\"type\":\"Selection\"},\"selection_policy\":{\"id\":\"de4c887a-8b8e-4109-82b9-4182c8e055d6\",\"type\":\"UnionRenderers\"}},\"id\":\"6d5a9b2d-d1e5-4002-9804-f91ad668f441\",\"type\":\"ColumnDataSource\"},{\"attributes\":{\"data_source\":{\"id\":\"766c86f3-464a-40f4-9477-432cf0b6207b\",\"type\":\"ColumnDataSource\"},\"glyph\":{\"id\":\"d9e80ae8-82a6-4d92-95e8-ec4a53553d2a\",\"type\":\"Line\"},\"hover_glyph\":null,\"muted_glyph\":null,\"nonselection_glyph\":{\"id\":\"6188d3f4-761d-4452-95d1-71d340246108\",\"type\":\"Line\"},\"selection_glyph\":null,\"view\":{\"id\":\"2c303f69-0e99-4aa4-8e56-2d5c3acc4310\",\"type\":\"CDSView\"}},\"id\":\"eabb7483-6015-4989-9b0b-a3dfdd533fb1\",\"type\":\"GlyphRenderer\"},{\"attributes\":{\"plot\":null,\"text\":\"ELBO\"},\"id\":\"e736c467-f3f6-4d52-a7d0-0d959e58dbb0\",\"type\":\"Title\"},{\"attributes\":{},\"id\":\"0aab116f-7abc-42a4-9ea4-971009768294\",\"type\":\"BasicTickFormatter\"},{\"attributes\":{\"bottom_units\":\"screen\",\"fill_alpha\":{\"value\":0.5},\"fill_color\":{\"value\":\"lightgrey\"},\"left_units\":\"screen\",\"level\":\"overlay\",\"line_alpha\":{\"value\":1.0},\"line_color\":{\"value\":\"black\"},\"line_dash\":[4,4],\"line_width\":{\"value\":2},\"plot\":null,\"render_mode\":\"css\",\"right_units\":\"screen\",\"top_units\":\"screen\"},\"id\":\"5f2801db-6e62-4f98-ba59-74f980913551\",\"type\":\"BoxAnnotation\"},{\"attributes\":{\"callback\":null,\"data\":{\"x\":[0,1,2,3,4,5,6,7,8,9,10,11,12,13,14,15,16,17,18,19],\"y\":[-5.408870849609375,-3.826385803222656,-3.826385803222656,-3.826385803222656,-3.826385803222656,-3.826385803222656,-3.826385803222656,-3.826385803222656,-3.826385803222656,-3.826385803222656,-3.826385803222656,-3.826385803222656,-3.826385803222656,-3.826385803222656,-3.826385803222656,-3.826385803222656,-3.826385803222656,-3.826385803222656,-3.826385803222656,-3.826385803222656]},\"selected\":{\"id\":\"a02d61cb-8a5f-40f9-9305-55f6680f806f\",\"type\":\"Selection\"},\"selection_policy\":{\"id\":\"d8dfb7b0-3a2c-4f2d-b1b6-bad25d4ab92e\",\"type\":\"UnionRenderers\"}},\"id\":\"766c86f3-464a-40f4-9477-432cf0b6207b\",\"type\":\"ColumnDataSource\"},{\"attributes\":{},\"id\":\"4552e5ad-785d-4adb-ac91-24c6c3264675\",\"type\":\"PanTool\"},{\"attributes\":{\"label\":{\"value\":\"normal_diag\"},\"renderers\":[{\"id\":\"5f7d40d5-8bcf-4bcd-bb1e-17989bd3642e\",\"type\":\"GlyphRenderer\"}]},\"id\":\"a7182c4d-3589-4cb3-85e6-63d21c6f47a2\",\"type\":\"LegendItem\"},{\"attributes\":{\"label\":{\"value\":\"normal_full\"},\"renderers\":[{\"id\":\"94a7582e-9499-47aa-a484-3213eaf2e747\",\"type\":\"GlyphRenderer\"}]},\"id\":\"4fcb6a57-5387-4cc0-ad63-9b19f84dbf6b\",\"type\":\"LegendItem\"},{\"attributes\":{},\"id\":\"48c675ac-2ac5-44d7-8e68-5531849b3b93\",\"type\":\"WheelZoomTool\"},{\"attributes\":{\"overlay\":{\"id\":\"5f2801db-6e62-4f98-ba59-74f980913551\",\"type\":\"BoxAnnotation\"}},\"id\":\"b5ee7f53-ebe7-40f5-9c03-4e5aacdc9b5a\",\"type\":\"BoxZoomTool\"},{\"attributes\":{},\"id\":\"cd076d5a-f6d3-40f3-9523-4504b1c7711d\",\"type\":\"SaveTool\"},{\"attributes\":{},\"id\":\"2116ebf6-53a0-47b8-b962-9bb2e79eed03\",\"type\":\"Selection\"},{\"attributes\":{},\"id\":\"ab1702c0-b18f-4d66-aba5-0c4e93e15f0a\",\"type\":\"ResetTool\"},{\"attributes\":{},\"id\":\"20098173-7c5a-4879-892c-e44298cf0d0a\",\"type\":\"BasicTickFormatter\"},{\"attributes\":{},\"id\":\"460f9e0d-90ce-4b3f-b05b-acf0bc942841\",\"type\":\"HelpTool\"},{\"attributes\":{\"callback\":null,\"data\":{\"x\":[0,1,2,3,4,5,6,7,8,9,10,11,12,13,14,15,16,17,18,19],\"y\":[-5.175933227539063,-3.6857757568359375,-3.6857757568359375,-3.6857757568359375,-3.6857757568359375,-3.6857757568359375,-3.6857757568359375,-3.6857757568359375,-3.6857757568359375,-3.6857757568359375,-3.6857757568359375,-3.6857757568359375,-3.6857757568359375,-3.6857757568359375,-3.6857757568359375,-3.6857757568359375,-3.6857757568359375,-3.6857757568359375,-3.6857757568359375,-3.6857757568359375]},\"selected\":{\"id\":\"b4c023a8-1b6a-4dba-ac85-16525698c177\",\"type\":\"Selection\"},\"selection_policy\":{\"id\":\"2fbf4672-f03c-4806-a1b5-5d675555b833\",\"type\":\"UnionRenderers\"}},\"id\":\"57b9080c-237d-4daa-bfe0-222e8704ea20\",\"type\":\"ColumnDataSource\"},{\"attributes\":{\"source\":{\"id\":\"57b9080c-237d-4daa-bfe0-222e8704ea20\",\"type\":\"ColumnDataSource\"}},\"id\":\"fb424cb4-e7ad-4b75-8dc5-96c9b260a7b7\",\"type\":\"CDSView\"},{\"attributes\":{},\"id\":\"2fbf4672-f03c-4806-a1b5-5d675555b833\",\"type\":\"UnionRenderers\"},{\"attributes\":{\"line_color\":\"blue\",\"x\":{\"field\":\"x\"},\"y\":{\"field\":\"y\"}},\"id\":\"ac318b42-bf16-4285-9d00-0fb616f73461\",\"type\":\"Line\"},{\"attributes\":{\"below\":[{\"id\":\"f73aebba-7066-4b5d-b7db-f4a51adbc329\",\"type\":\"LinearAxis\"}],\"left\":[{\"id\":\"ac3e26da-e1b5-481d-b9a3-e9be534011ea\",\"type\":\"LinearAxis\"}],\"plot_height\":400,\"plot_width\":400,\"renderers\":[{\"id\":\"f73aebba-7066-4b5d-b7db-f4a51adbc329\",\"type\":\"LinearAxis\"},{\"id\":\"429f4d12-6f40-4738-b76b-320b987c330e\",\"type\":\"Grid\"},{\"id\":\"ac3e26da-e1b5-481d-b9a3-e9be534011ea\",\"type\":\"LinearAxis\"},{\"id\":\"a84fcb80-30f1-4d7b-b132-f820b5209214\",\"type\":\"Grid\"},{\"id\":\"5f2801db-6e62-4f98-ba59-74f980913551\",\"type\":\"BoxAnnotation\"},{\"id\":\"e9f381af-56d2-462a-8020-6eba38868cf9\",\"type\":\"Legend\"},{\"id\":\"94a7582e-9499-47aa-a484-3213eaf2e747\",\"type\":\"GlyphRenderer\"},{\"id\":\"5f7d40d5-8bcf-4bcd-bb1e-17989bd3642e\",\"type\":\"GlyphRenderer\"},{\"id\":\"eabb7483-6015-4989-9b0b-a3dfdd533fb1\",\"type\":\"GlyphRenderer\"}],\"title\":{\"id\":\"e736c467-f3f6-4d52-a7d0-0d959e58dbb0\",\"type\":\"Title\"},\"toolbar\":{\"id\":\"49edb6fe-b3ec-4342-aed8-cca019fb102b\",\"type\":\"Toolbar\"},\"x_range\":{\"id\":\"58207e56-4730-4dcb-97b2-bea6de69d197\",\"type\":\"DataRange1d\"},\"x_scale\":{\"id\":\"fefa644a-9f00-4b8c-b43c-f5329d46e403\",\"type\":\"LinearScale\"},\"y_range\":{\"id\":\"59eb7f77-e28b-4644-a233-9bfe4bd68d77\",\"type\":\"DataRange1d\"},\"y_scale\":{\"id\":\"3f069a43-211e-4c16-95a6-2edd23ccd01d\",\"type\":\"LinearScale\"}},\"id\":\"df2e1147-a819-40b2-bb2f-a2693dc453a7\",\"subtype\":\"Figure\",\"type\":\"Plot\"},{\"attributes\":{\"data_source\":{\"id\":\"57b9080c-237d-4daa-bfe0-222e8704ea20\",\"type\":\"ColumnDataSource\"},\"glyph\":{\"id\":\"ac318b42-bf16-4285-9d00-0fb616f73461\",\"type\":\"Line\"},\"hover_glyph\":null,\"muted_glyph\":null,\"nonselection_glyph\":{\"id\":\"ba301f85-2492-4bd4-8d8c-e0b60b8572d1\",\"type\":\"Line\"},\"selection_glyph\":null,\"view\":{\"id\":\"fb424cb4-e7ad-4b75-8dc5-96c9b260a7b7\",\"type\":\"CDSView\"}},\"id\":\"5f7d40d5-8bcf-4bcd-bb1e-17989bd3642e\",\"type\":\"GlyphRenderer\"},{\"attributes\":{\"line_color\":\"red\",\"x\":{\"field\":\"x\"},\"y\":{\"field\":\"y\"}},\"id\":\"b9f0bc6c-b93b-415b-b908-9da023148663\",\"type\":\"Line\"},{\"attributes\":{\"line_alpha\":0.1,\"line_color\":\"#1f77b4\",\"x\":{\"field\":\"x\"},\"y\":{\"field\":\"y\"}},\"id\":\"6188d3f4-761d-4452-95d1-71d340246108\",\"type\":\"Line\"},{\"attributes\":{\"data_source\":{\"id\":\"6d5a9b2d-d1e5-4002-9804-f91ad668f441\",\"type\":\"ColumnDataSource\"},\"glyph\":{\"id\":\"b9f0bc6c-b93b-415b-b908-9da023148663\",\"type\":\"Line\"},\"hover_glyph\":null,\"muted_glyph\":null,\"nonselection_glyph\":{\"id\":\"b3495ab1-4327-463e-9a9c-a0b42fe9d867\",\"type\":\"Line\"},\"selection_glyph\":null,\"view\":{\"id\":\"bccbe884-13e7-4c22-9a07-e8c81cb8040f\",\"type\":\"CDSView\"}},\"id\":\"94a7582e-9499-47aa-a484-3213eaf2e747\",\"type\":\"GlyphRenderer\"}],\"root_ids\":[\"df2e1147-a819-40b2-bb2f-a2693dc453a7\"]},\"title\":\"Bokeh Application\",\"version\":\"0.12.16\"}};\n",
       "  var render_items = [{\"docid\":\"cb29d862-2a6c-41d9-8b70-549a55d070ba\",\"elementid\":\"f245e072-90f9-4419-b464-b45eb6ad4307\",\"modelid\":\"df2e1147-a819-40b2-bb2f-a2693dc453a7\"}];\n",
       "  root.Bokeh.embed.embed_items_notebook(docs_json, render_items);\n",
       "\n",
       "  }\n",
       "  if (root.Bokeh !== undefined) {\n",
       "    embed_document(root);\n",
       "  } else {\n",
       "    var attempts = 0;\n",
       "    var timer = setInterval(function(root) {\n",
       "      if (root.Bokeh !== undefined) {\n",
       "        embed_document(root);\n",
       "        clearInterval(timer);\n",
       "      }\n",
       "      attempts++;\n",
       "      if (attempts > 100) {\n",
       "        console.log(\"Bokeh: ERROR: Unable to run BokehJS code because BokehJS library is missing\")\n",
       "        clearInterval(timer);\n",
       "      }\n",
       "    }, 10, root)\n",
       "  }\n",
       "})(window);"
      ],
      "application/vnd.bokehjs_exec.v0+json": ""
     },
     "metadata": {
      "application/vnd.bokehjs_exec.v0+json": {
       "id": "df2e1147-a819-40b2-bb2f-a2693dc453a7"
      }
     },
     "output_type": "display_data"
    }
   ],
   "source": [
    "colors = {\n",
    "    'normal_iso': 'green',\n",
    "    'normal_diag': 'blue',\n",
    "    'normal_full': 'red',\n",
    "    \n",
    "}\n",
    "# Plot the ELBO.\n",
    "fig = figure(title='ELBO', width=400, height=400, x_axis_label='step',\n",
    "              y_axis_label='ln p(X)')\n",
    "for model_name, elbo in elbos.items():\n",
    "    fig.line(range(len(elbo)), elbo, legend=model_name, color=colors[model_name])\n",
    "fig.legend.location = 'bottom_right'\n",
    "\n",
    "show(fig)"
   ]
  },
  {
   "cell_type": "code",
   "execution_count": 14,
   "metadata": {
    "scrolled": false
   },
   "outputs": [
    {
     "data": {
      "text/html": [
       "\n",
       "<div class=\"bk-root\">\n",
       "    <div class=\"bk-plotdiv\" id=\"372d5454-d9d1-488b-b645-b662dedb0201\"></div>\n",
       "</div>"
      ]
     },
     "metadata": {},
     "output_type": "display_data"
    },
    {
     "data": {
      "application/javascript": [
       "(function(root) {\n",
       "  function embed_document(root) {\n",
       "    \n",
       "  var docs_json = {\"93ea3baa-49bc-4e20-b4e6-5b68eea71160\":{\"roots\":{\"references\":[{\"attributes\":{},\"id\":\"02170f7c-a7d9-4cd7-a208-9e6c4f26903f\",\"type\":\"Selection\"},{\"attributes\":{\"below\":[{\"id\":\"888dea53-ee6d-473f-90c0-ffb1dc8b382c\",\"type\":\"LinearAxis\"}],\"left\":[{\"id\":\"10babb17-20a0-4510-8f7c-e73ccc9b0c0e\",\"type\":\"LinearAxis\"}],\"plot_height\":400,\"plot_width\":400,\"renderers\":[{\"id\":\"888dea53-ee6d-473f-90c0-ffb1dc8b382c\",\"type\":\"LinearAxis\"},{\"id\":\"adf42b45-8871-4097-85d8-dcc32a83ebb4\",\"type\":\"Grid\"},{\"id\":\"10babb17-20a0-4510-8f7c-e73ccc9b0c0e\",\"type\":\"LinearAxis\"},{\"id\":\"cdaad80d-f090-4179-9b36-e82d172222cb\",\"type\":\"Grid\"},{\"id\":\"ac4bba63-0793-44d6-916b-2993b4d07e21\",\"type\":\"BoxAnnotation\"},{\"id\":\"f383a8c9-b674-45df-8c20-6a127bbc545e\",\"type\":\"GlyphRenderer\"},{\"id\":\"92363cb8-4646-48a1-9167-9b42d73c4d7a\",\"type\":\"GlyphRenderer\"},{\"id\":\"aaa5e272-c4bf-469a-b55f-350c0f023b51\",\"type\":\"GlyphRenderer\"},{\"id\":\"0195e510-dae2-48c5-a324-81f10f351a40\",\"type\":\"GlyphRenderer\"},{\"id\":\"7db63e6a-97fa-4c5f-bb76-b3f31bf873d0\",\"type\":\"GlyphRenderer\"},{\"id\":\"db8debda-08cc-45cd-a66a-63cbd3310136\",\"type\":\"GlyphRenderer\"},{\"id\":\"306f66b9-dd72-4b5b-a81b-033cfb78c06d\",\"type\":\"GlyphRenderer\"}],\"title\":{\"id\":\"a6b9ca4c-acc4-4322-8c1b-16973bed02af\",\"type\":\"Title\"},\"toolbar\":{\"id\":\"604a497d-207c-4b66-ad9d-85f19dfea9f9\",\"type\":\"Toolbar\"},\"x_range\":{\"id\":\"89af683e-f43d-410d-90a2-6e07d2baba34\",\"type\":\"Range1d\"},\"x_scale\":{\"id\":\"07b25795-b41a-40cb-b3df-4726b1cfd66c\",\"type\":\"LinearScale\"},\"y_range\":{\"id\":\"6387fbb8-a158-498b-93db-595b0c9c4da6\",\"type\":\"Range1d\"},\"y_scale\":{\"id\":\"4dbc842d-f003-4d8f-b72b-25c885d8ccc0\",\"type\":\"LinearScale\"}},\"id\":\"17ea839a-2eda-41bc-9757-3ac220dc4ef2\",\"subtype\":\"Figure\",\"type\":\"Plot\"},{\"attributes\":{},\"id\":\"0111fc7b-bb07-4954-b94f-31253b7ca1e6\",\"type\":\"Selection\"},{\"attributes\":{},\"id\":\"5ac369c9-db65-46b3-b636-98c65d89a394\",\"type\":\"UnionRenderers\"},{\"attributes\":{\"plot\":null,\"text\":\"\"},\"id\":\"a6b9ca4c-acc4-4322-8c1b-16973bed02af\",\"type\":\"Title\"},{\"attributes\":{},\"id\":\"2c986857-5e29-4c1d-9bea-1c6229dc5073\",\"type\":\"Selection\"},{\"attributes\":{\"fill_alpha\":0.3,\"fill_color\":\"#98AFC7\",\"x\":{\"field\":\"x\"},\"y\":{\"field\":\"y\"}},\"id\":\"b9303649-d6f7-4adf-894a-a8095e853ca8\",\"type\":\"Patch\"},{\"attributes\":{},\"id\":\"eda6ee75-4390-49b6-8956-b1fb5ec10c57\",\"type\":\"UnionRenderers\"},{\"attributes\":{\"fill_alpha\":0.1,\"fill_color\":\"#1f77b4\",\"line_alpha\":0.1,\"line_color\":\"#1f77b4\",\"x\":{\"field\":\"x\"},\"y\":{\"field\":\"y\"}},\"id\":\"95ff501b-0570-4d18-af6c-40b65092b731\",\"type\":\"Patch\"},{\"attributes\":{},\"id\":\"a68f8278-3927-40e5-81fc-7b569c169135\",\"type\":\"Selection\"},{\"attributes\":{\"callback\":null,\"data\":{\"x\":{\"__ndarray__\":\"KcMnLR56zb9kZ9VLTp4BQMAeDT/ud40/k9hiJKzgCcDGvLL8/CwPQOL6AdVnwgfAiBA9E6M1oT9oCRHEAV8EwCqivgfbU9K/5yEI/e+wC8DUlKvOIFQGwAqu2H68QPa/kKDLAdgu/L983t/vv3DtvyB+vZWRlvw/YkGMbqXmAcC8jgV3KkbOP1cMXfs3Fe+/ygCujPeB9D/AmqiH2KHjP+6d6fXv1gFA7mkYx2X0u7+tJikmytvYPwtnRnQRx8y/WXzOGoQTFsDhe2UeP5PUvx1PHhzUZgLAOP05vJPvAsARGn9URFP6PwLy4n3ec+U/RJWCuhXoCkBL7UAx1FECwMIoh00BOgDAtTj8lnY+A8C7I8FnITawv3eg1SmpGLA/4JJ8F2ve5D/iNCT6NZIUQFTwWLJYPvm/kPXdfI+BAMAma1sIxXLyv80Z34a+ltw/EjCt2LEUAkCrXeztG6gEQDvLI8jQ3fq/7J89J7m62r//DRmdSN/Hvwhj8YUqxPw/RDRdsjxG+7+L9GhfzvEAwLeWm0BbJug/QPXRb7UO7D/3QZ1u8kTmv8FXN1P/vQTAhB0qSASkxL/ew/1SxYH0v7DN9yvpzwRAC6WR2Szr6j8H3Kle9JIHwIjS56/Ml8I/NrY2MFUTv7/JNzdox3TfP6zZTaHKcOS/Uq2HYSwf8r+Y33R40Ej8P0YC6S90JwjAC/oGwmrzCkCSVGiJiIP8PxP869OpvwRAXWslZp0M4r/9KivSRqP8P4fsi1ToHgnAMi5ZF2nluz+M7Pjx+knHP16LdR4zz+y/El+kZAeF8z99KvDjrbjvvxjIKPgsXv4/KjLEGz0QAcA06x+QuavjP/6wZxO2MfM/+kQhbRgsAUBh9ZpMTJAJQKvAbve1PPu/lNFmw+Lh9b/kr1oLrIjBv1q6TLJ5v/g/Ltt2EHPODkB6ja4O9WMCwBZh1/w3B+e/gg+BZC8dxz890FVbtnXzv1D4vhv7gtE/bTM++Eo79T/s1z+YacH7v5JNAgmGlwrA4NURr3F267+1A3zSlJ4GwAsIsl7hdQRAV7k61ruX6b8=\",\"dtype\":\"float64\",\"shape\":[100]},\"y\":{\"__ndarray__\":\"q7c5i8983z+egku4lqPuP1rCEQpfReY/SPyhzIaG7r/ZK9/4YHEBQLYyVSQxlu+/c4SRjnlz67/43DQND2jsv7fC3scicPa/Q3Pk/Ni477+b/eJDgWfwv8Bjhp/fiJc/TacxvO3T878TZgCPyezZPzGvzY93G9Y/eOGC4AkA7L8QFT9T0YarvwgG+NpE3/W/F9HejxFL0j9MhhzbmQv6PyCnRknCb+g/oxyT4Vsx7T+qKs7JdA/Yv+BOTorXG34/msN/0h6RBsCEMuxdANDNvwT0b2O2+fS/UxM6ulcl/r9cJXeNpE7JP6ujDR8Hldi/8LYIgM/c9j+7LCllSUfwv+JIqcDJffO/Q9LM+wbc6b9O+hEl4evAP3x+xUZ+aqS/CtZnml/Jxr8O23NUGlMGQOOySBhz//W/WJTKuegF678O7wbmsg3ivxyLw53kNtA/LL62zQW6+j9tzATu6TrxPzflPyfrW+W/z/i0UXbJyT/JbiPWoQXyP0HnuHtHpPI/6LOMU1xy+r94Kj/qviwCwFlInVX+BfC/OCO43Rhj+D+BD5nWxxfSv6yHuUtWN9y/so/txiaL2b/iP5QYi8bKv9nYOrxl5/0/NRAgxObR2T/a1mQ8M/cAwO3CGmg5X8u/ik5LqZQtxj9uQCla8sjqP/FG8tD4ywXA4WtkAWr67b8I0s6pk730PyQEk45mffO/yYLCjvS86j/RSfBzrV3RP7AGpZax0es/MVxYYS/ewb+g8GCkWFeWPzsHXUyG7uS/EcawJHgS1r/06OsKKAX3P/2E0bq2Vtk/Cn0JADJy478ibP1XhnXrPxRCQbzi6+U/MnYstSim8r82v8s6a9bdP2IdUTmxat0/Z/yomCro9T8JwA7YGbD4Pz5+rVg9ueC/BlfJSDOT1L8xdja/Vk/zP36AV6x9/Mk/vYrEdmv84D8txLROkAPxv9Sjhlqf8aC/NAsErDi6lr+qbK2EaPLHv7JUoI/OK+o/SlQeo3f7+T+JEt9QUL/yv+oBAUkHSQPAw0HovUn70r8QrT6l9lniv0n+mvHQif0/K9rfTcPs4L8=\",\"dtype\":\"float64\",\"shape\":[100]}},\"selected\":{\"id\":\"51395d52-b8d6-405e-97f9-3db62382e124\",\"type\":\"Selection\"},\"selection_policy\":{\"id\":\"3bee1c29-f169-4b05-aa9b-db9b0aa0b933\",\"type\":\"UnionRenderers\"}},\"id\":\"fef56d78-51ac-48db-b49b-e8ea92bba914\",\"type\":\"ColumnDataSource\"},{\"attributes\":{\"active_drag\":\"auto\",\"active_inspect\":\"auto\",\"active_scroll\":\"auto\",\"active_tap\":\"auto\",\"tools\":[{\"id\":\"05fdb09f-6925-4d85-b93b-34ccf2f5e49f\",\"type\":\"PanTool\"},{\"id\":\"0c242a0b-c481-4822-a504-2f80a5f8ac10\",\"type\":\"WheelZoomTool\"},{\"id\":\"af3c7104-546e-46bb-98ef-45ea32896674\",\"type\":\"BoxZoomTool\"},{\"id\":\"968e3f5d-27aa-4597-bbee-3aa06bd2a46b\",\"type\":\"SaveTool\"},{\"id\":\"43d275e9-d6c3-48ae-b3e8-e0e6304db68f\",\"type\":\"ResetTool\"},{\"id\":\"940c70e7-ffd0-4bdc-a981-45b7b4cef6fc\",\"type\":\"HelpTool\"}]},\"id\":\"604a497d-207c-4b66-ad9d-85f19dfea9f9\",\"type\":\"Toolbar\"},{\"attributes\":{},\"id\":\"5750774b-59da-494b-a9e9-d6d407f53e18\",\"type\":\"UnionRenderers\"},{\"attributes\":{},\"id\":\"4dbc842d-f003-4d8f-b72b-25c885d8ccc0\",\"type\":\"LinearScale\"},{\"attributes\":{\"fill_color\":{\"value\":\"#1f77b4\"},\"line_color\":{\"value\":\"#1f77b4\"},\"x\":{\"field\":\"x\"},\"y\":{\"field\":\"y\"}},\"id\":\"97bfa387-2f97-4012-bdf0-f4db42a66092\",\"type\":\"Circle\"},{\"attributes\":{\"fill_alpha\":0.3,\"fill_color\":\"green\",\"x\":{\"field\":\"x\"},\"y\":{\"field\":\"y\"}},\"id\":\"b9314c7b-54d7-4977-b83d-e490c9ffe18f\",\"type\":\"Patch\"},{\"attributes\":{\"data_source\":{\"id\":\"fef56d78-51ac-48db-b49b-e8ea92bba914\",\"type\":\"ColumnDataSource\"},\"glyph\":{\"id\":\"97bfa387-2f97-4012-bdf0-f4db42a66092\",\"type\":\"Circle\"},\"hover_glyph\":null,\"muted_glyph\":null,\"nonselection_glyph\":{\"id\":\"d97a3551-d8ea-40a7-b343-622ea3267557\",\"type\":\"Circle\"},\"selection_glyph\":null,\"view\":{\"id\":\"fa7ec652-fd46-44a9-ae50-287efe9eed02\",\"type\":\"CDSView\"}},\"id\":\"f383a8c9-b674-45df-8c20-6a127bbc545e\",\"type\":\"GlyphRenderer\"},{\"attributes\":{\"callback\":null,\"end\":5.0,\"start\":-5.0},\"id\":\"89af683e-f43d-410d-90a2-6e07d2baba34\",\"type\":\"Range1d\"},{\"attributes\":{\"data_source\":{\"id\":\"b6a30ccf-ba59-4bd7-85f4-60df936a093a\",\"type\":\"ColumnDataSource\"},\"glyph\":{\"id\":\"bba4ee15-49bc-43d5-8b68-56655e39b4ee\",\"type\":\"Patch\"},\"hover_glyph\":null,\"muted_glyph\":null,\"nonselection_glyph\":{\"id\":\"562c566f-d24f-4215-a462-c165858aa468\",\"type\":\"Patch\"},\"selection_glyph\":null,\"view\":{\"id\":\"aecf0807-b4e3-40aa-bed9-58f48f72c524\",\"type\":\"CDSView\"}},\"id\":\"306f66b9-dd72-4b5b-a81b-033cfb78c06d\",\"type\":\"GlyphRenderer\"},{\"attributes\":{},\"id\":\"07b25795-b41a-40cb-b3df-4726b1cfd66c\",\"type\":\"LinearScale\"},{\"attributes\":{\"source\":{\"id\":\"b6a30ccf-ba59-4bd7-85f4-60df936a093a\",\"type\":\"ColumnDataSource\"}},\"id\":\"aecf0807-b4e3-40aa-bed9-58f48f72c524\",\"type\":\"CDSView\"},{\"attributes\":{\"fill_alpha\":0.1,\"fill_color\":\"#1f77b4\",\"line_alpha\":0.1,\"line_color\":\"#1f77b4\",\"x\":{\"field\":\"x\"},\"y\":{\"field\":\"y\"}},\"id\":\"562c566f-d24f-4215-a462-c165858aa468\",\"type\":\"Patch\"},{\"attributes\":{},\"id\":\"0c242a0b-c481-4822-a504-2f80a5f8ac10\",\"type\":\"WheelZoomTool\"},{\"attributes\":{},\"id\":\"ebde97c8-e0b7-4f1a-8a20-bbed45c91ffc\",\"type\":\"BasicTicker\"},{\"attributes\":{},\"id\":\"43d275e9-d6c3-48ae-b3e8-e0e6304db68f\",\"type\":\"ResetTool\"},{\"attributes\":{\"formatter\":{\"id\":\"f421c027-cdee-4784-97ac-e70a7bd7d364\",\"type\":\"BasicTickFormatter\"},\"plot\":{\"id\":\"17ea839a-2eda-41bc-9757-3ac220dc4ef2\",\"subtype\":\"Figure\",\"type\":\"Plot\"},\"ticker\":{\"id\":\"ebde97c8-e0b7-4f1a-8a20-bbed45c91ffc\",\"type\":\"BasicTicker\"}},\"id\":\"888dea53-ee6d-473f-90c0-ffb1dc8b382c\",\"type\":\"LinearAxis\"},{\"attributes\":{\"callback\":null,\"end\":5.0,\"start\":-5.0},\"id\":\"6387fbb8-a158-498b-93db-595b0c9c4da6\",\"type\":\"Range1d\"},{\"attributes\":{},\"id\":\"eda779d5-9364-4c18-93d8-2f6ac0756673\",\"type\":\"BasicTicker\"},{\"attributes\":{\"plot\":{\"id\":\"17ea839a-2eda-41bc-9757-3ac220dc4ef2\",\"subtype\":\"Figure\",\"type\":\"Plot\"},\"ticker\":{\"id\":\"ebde97c8-e0b7-4f1a-8a20-bbed45c91ffc\",\"type\":\"BasicTicker\"}},\"id\":\"adf42b45-8871-4097-85d8-dcc32a83ebb4\",\"type\":\"Grid\"},{\"attributes\":{\"dimension\":1,\"plot\":{\"id\":\"17ea839a-2eda-41bc-9757-3ac220dc4ef2\",\"subtype\":\"Figure\",\"type\":\"Plot\"},\"ticker\":{\"id\":\"eda779d5-9364-4c18-93d8-2f6ac0756673\",\"type\":\"BasicTicker\"}},\"id\":\"cdaad80d-f090-4179-9b36-e82d172222cb\",\"type\":\"Grid\"},{\"attributes\":{\"fill_alpha\":{\"value\":0.1},\"fill_color\":{\"value\":\"#1f77b4\"},\"line_alpha\":{\"value\":0.1},\"line_color\":{\"value\":\"#1f77b4\"},\"x\":{\"field\":\"x\"},\"y\":{\"field\":\"y\"}},\"id\":\"d97a3551-d8ea-40a7-b343-622ea3267557\",\"type\":\"Circle\"},{\"attributes\":{\"source\":{\"id\":\"fef56d78-51ac-48db-b49b-e8ea92bba914\",\"type\":\"ColumnDataSource\"}},\"id\":\"fa7ec652-fd46-44a9-ae50-287efe9eed02\",\"type\":\"CDSView\"},{\"attributes\":{\"formatter\":{\"id\":\"21881a2d-0d38-400f-bb82-c1b6b1c6154c\",\"type\":\"BasicTickFormatter\"},\"plot\":{\"id\":\"17ea839a-2eda-41bc-9757-3ac220dc4ef2\",\"subtype\":\"Figure\",\"type\":\"Plot\"},\"ticker\":{\"id\":\"eda779d5-9364-4c18-93d8-2f6ac0756673\",\"type\":\"BasicTicker\"}},\"id\":\"10babb17-20a0-4510-8f7c-e73ccc9b0c0e\",\"type\":\"LinearAxis\"},{\"attributes\":{\"callback\":null,\"data\":{\"x\":{\"__ndarray__\":\"AAAALPjGB0BOr1j5nrkHQMcvI2yhkQdAJVHblSlPB0BkMndiffIGQKI72U7+ewZAMIBCAinsBUCHajHLlEMFQLujNgDzggRAo6ZnRQ6rA0CcPTO3ybwCQNopePsfuQFAh0fZOSKhAECAG8n47ev+PyRjdvOxcfw/i7oBlCvW+T+cgNwPGRz3P45C8L5YRvQ/afceF+ZX8T+I7EMSrafsPz8GKYSseuY/LBwnqkkv4D/KptVBR5jTP8RGGyOUv7o/m+3JDf0zub+FhI38u1DTv9BoYyTQJuC/XNPqQAGb5r8pHCdKJ/7svxqDFBLFpPG/P/YhWUW79L9l9x7nVL/3v4pC8I7Hrfq/mYDc34eD/b9D3QAyzR4AwJAxu2GQbAHAvY1kZK6pAsCGR9mh2dQDwNgpeGPX7ATAmz0zH4HwBcChpmetxd4GwLqjNmiqtgfAhmoxM0x3CMAvgEJq4B8JwKI72ba1rwnAYzJ3yjQmCsAlUdv94IIKwMYvI9RYxQrATq9YYVbtCsAAAACUr/oKwAAAAJSv+grATq9YYVbtCsDGLyPUWMUKwCVR2/3gggrAYzJ3yjQmCsCiO9m2ta8JwC+AQmrgHwnAhmoxM0x3CMC6ozZoqrYHwKGmZ63F3gbAmz0zH4HwBcDYKXhj1+wEwIZH2aHZ1APAvY1kZK6pAsCQMbthkGwBwEPdADLNHgDAmYDc34eD/b+KQvCOx636v2X3HudUv/e/P/YhWUW79L8agxQSxaTxvykcJ0on/uy/XNPqQAGb5r/QaGMk0Cbgv4WEjfy7UNO/m+3JDf0zub/ERhsjlL+6P8qm1UFHmNM/LBwnqkkv4D8/BimErHrmP4jsQxKtp+w/afceF+ZX8T+OQvC+WEb0P5yA3A8ZHPc/i7oBlCvW+T8kY3bzsXH8P4Abyfjt6/4/h0fZOSKhAEDaKXj7H7kBQJw9M7fJvAJAo6ZnRQ6rA0C7ozYA84IEQIdqMcuUQwVAMIBCAinsBUCiO9lO/nsGQGQyd2J98gZAJVHblSlPB0DHLyNsoZEHQE6vWPmeuQdAAAAALPjGB0A=\",\"dtype\":\"float64\",\"shape\":[100]},\"y\":{\"__ndarray__\":\"AAAAYLRvs7/ZySHSMkzAP99RW91wGtU/E6uUTrz54D8ow+Bd1lHnP7LqjB/aju0/Rh6XyhvV8T/2Yx4Twc70P+nTD7E7sfc/czfwyoJ5+j/STkwXqST9P7Tk8PDfr/8/wIZzJT0MAUBEp4zA9y0CQBfLVQHvOwNAgRyc6QY1BECisidwORgFQPhAYpSX5AVAScPCWUqZBkAiqvWpkzUHQGif0xzPuAdAfohUpXIiCEBx1sgiD3IIQDRfwNVQpwhADsYjuP/BCEAOxiO4/8EIQDRfwNVQpwhAcdbIIg9yCEB+iFSlciIIQGmf0xzPuAdAI6r1qZM1B0BKw8JZSpkGQPlAYpSX5AVAo7IncDkYBUCCHJzpBjUEQBjLVQHvOwNARaeMwPctAkDBhnMlPQwBQLjk8PDfr/8/1U5MF6kk/T96N/DKgnn6P+3TD7E7sfc/92MeE8HO9D9MHpfKG9XxP7fqjB/aju0/NMPgXdZR5z8aq5ROvPngP/tRW91wGtU//skh0jJMwD/k//9ftG+zvxwAAGC0b7O//+QQmfPd0b/7UVsNS9LevxqrlGap1eW/NMPgdcMt7L9cdcabYzXxv0wel1YSQ/S/92Men7c897/t0w89Mh/6v3o38FZ55/y/1U5Mo5+S/79ccng+6w4BwMGGc2s4QwLARaeMBvNkA8AYy1VH6nIEwIIcnC8CbAXAo7IntjRPBsD5QGLakhsHwErDwp9F0AfAI6r1745sCMBpn9Niyu8IwH6IVOttWQnAcdbIaAqpCcA0X8AbTN4JwA7GI/76+AnADsYj/vr4CcA0X8AbTN4JwHHWyGgKqQnAfohU621ZCcBon9Niyu8IwCKq9e+ObAjAScPCn0XQB8D4QGLakhsHwKKyJ7Y0TwbAgRycLwJsBcAXy1VH6nIEwESnjAbzZAPAwIZzazhDAsBacng+6w4BwNJOTKOfkv+/czfwVnnn/L/p0w89Mh/6v/ZjHp+3PPe/Rh6XVhJD9L9ZdcabYzXxvyjD4HXDLey/E6uUZqnV5b/fUVsNS9Lev+zkEJnz3dG/AAAAYLRvs78=\",\"dtype\":\"float64\",\"shape\":[100]}},\"selected\":{\"id\":\"5a1e4702-805c-4ff1-987e-ee4e16458bf1\",\"type\":\"Selection\"},\"selection_policy\":{\"id\":\"5750774b-59da-494b-a9e9-d6d407f53e18\",\"type\":\"UnionRenderers\"}},\"id\":\"ce0223d3-4135-448a-a8e6-04cf7bc3b7b9\",\"type\":\"ColumnDataSource\"},{\"attributes\":{\"callback\":null,\"data\":{\"x\":{\"__ndarray__\":\"AAAALNeXDUD+NcDbbocNQAd8jy1HVg1AQ5rx1pMEDUCjKvrJqpIMQAhR49oDAQxA5Zn/QThQC0ATmov6AYEKQEHeCP86lAlAbvnvY9yKCEBg6qpR/WUHQBt7697RJgZA/YWSzKnOBEBIEH0k714DQATHqrwk2QFAqYFOoOQ+AECcvenAvCP9P9d7DZyqp/k/5FQKPj0N9j+gTuQBP1jyP9JetmksGe0/xLN8+IFc5T+owK2IRAXbP9rwFm0+T8Y/CIXNWO08s7+mnszpf87Uvyy8RTutYuK/SeBW5H9R6r/gWT7MrxXxv2Mv2wQF9PS/m07k0a2/+L/fVAoOrHT8v+m9BraMBwDAzN50yJXFAcCmgU4InHIDwALHqiTcDAXARBB9jKaSBsD8hZI0YQIIwBl760aJWgnAXuqqubSZCsBr+e/Lk74LwD/eCGfyxwzAEpqLYrm0DcDkmf+p74MOwAhR40K7NA/Aoir6MWLGD8AizXifJRwQwAO+x0r/RBDA/xrgIZNdEMAAAABKx2UQwAAAAErHZRDA/xrgIZNdEMADvsdK/0QQwCLNeJ8lHBDAoir6MWLGD8AIUeNCuzQPwOSZ/6nvgw7AEpqLYrm0DcA/3ghn8scMwGv578uTvgvAXuqqubSZCsAZe+tGiVoJwPyFkjRhAgjARBB9jKaSBsACx6ok3AwFwKaBTgiccgPAzN50yJXFAcDpvQa2jAcAwN9UCg6sdPy/m07k0a2/+L9jL9sEBfT0v+BZPsyvFfG/SeBW5H9R6r8svEU7rWLiv6aezOl/ztS/CIXNWO08s7/a8BZtPk/GP6jArYhEBds/xLN8+IFc5T/SXrZpLBntP6BO5AE/WPI/5FQKPj0N9j/Xew2cqqf5P5y96cC8I/0/qYFOoOQ+AEAEx6q8JNkBQEgQfSTvXgNA/YWSzKnOBEAbe+ve0SYGQGDqqlH9ZQdAbvnvY9yKCEBB3gj/OpQJQBOai/oBgQpA5Zn/QThQC0AIUePaAwEMQKMq+smqkgxAQ5rx1pMEDUAHfI8tR1YNQP41wNtuhw1AAAAALNeXDUA=\",\"dtype\":\"float64\",\"shape\":[100]},\"y\":{\"__ndarray__\":\"AAAA2gkq+j+9B1E8j4T7P3YEiOTawPw/+cDJF6Dd/T+SBQVFs9n+P3BXFEALtP8/8KZYLOE1AEC2BQqmC4AAQNBWIAg3uABA22oWPCjeAECXTghYt/EAQO4XsMjP8gBAatoKZ3DhAEA6/o55q70AQEez8qCmhwBAuLmWsJo/AEDwRn7lpsv/P6TisbFe9f4/ntRAMD79/T9fYSFmSuT8P8KbMuCqq/s/P0RUfKhU+j8kf3IPrOD4P7NP8ek8Ufc/tyUHPP+n9T+IhrdbsubzP0TOPu4uD/I/9BDe9mQj8D+bSiSas0rsP/R8tfhLLug/dimcH+b14z86dCsv5UvfP+R8tGD1hdY/9CfW625Gyz9ILqd4EbSyPzA62/zZTLG/sMJaWwKoyr8shGYh40vWvzqgyi1tMd+/zfYTuaH947/N7geZE1Dovy5RhkeAi+y/1e9cBrpV8L82ZZELzFXyv8LbD4bbQ/S/1mWhuuAd9r9sPuUC6eH3vx7y39kYjvm/tXc10K0g+7////9lAJj8vwEAAGYAmPy/vwdRyIXy/b94BIhw0S7/v33g5FHLJQDAyoKC6NSjAMC5KwrmABEBwPGmWHLcbAHAtgUK7Aa3AcDQViBOMu8BwNxqFoIjFQLAl04InrIoAsDuF7AOyykCwGraCq1rGALAOf6Ov6b0AcBIs/Lmob4BwLe5lvaVdgHAeCO/uM4cAcBS8dieqrEAwE9qIF6aNQDAXWEh8kBS/7/AmzJsoRn+vz5EVAifwvy/In9ym6JO+7+wT/F1M7/5v7QlB8j1Ffi/hYa356hU9r9Bzj56JX30v/AQ3oJbkfK/TSUSWVCT8L/sfLUQOQrtv24pnDfT0ei/F7qVr9+B5L9sPlrI5x7gv/AT66URW9e/CJdTHL3JzL+gxSTDjpK1v0ALa+034aw/aAjN4hEoyT9KoMr9knnVP6jtJ0JpQ94/1+4HgSZ04z8zUYYvk6/nP63fufSGz+s/dMoi/6rP7z/D2w/65NXxP9lloS7qr/M/bT7ldvJz9T8i8t9NIiD3P7d3NUS3svg/AAAA2gkq+j8=\",\"dtype\":\"float64\",\"shape\":[100]}},\"selected\":{\"id\":\"2c986857-5e29-4c1d-9bea-1c6229dc5073\",\"type\":\"Selection\"},\"selection_policy\":{\"id\":\"5ac369c9-db65-46b3-b636-98c65d89a394\",\"type\":\"UnionRenderers\"}},\"id\":\"f6f627b0-6fd7-4ded-9795-3a384f43f086\",\"type\":\"ColumnDataSource\"},{\"attributes\":{},\"id\":\"05fdb09f-6925-4d85-b93b-34ccf2f5e49f\",\"type\":\"PanTool\"},{\"attributes\":{\"bottom_units\":\"screen\",\"fill_alpha\":{\"value\":0.5},\"fill_color\":{\"value\":\"lightgrey\"},\"left_units\":\"screen\",\"level\":\"overlay\",\"line_alpha\":{\"value\":1.0},\"line_color\":{\"value\":\"black\"},\"line_dash\":[4,4],\"line_width\":{\"value\":2},\"plot\":null,\"render_mode\":\"css\",\"right_units\":\"screen\",\"top_units\":\"screen\"},\"id\":\"ac4bba63-0793-44d6-916b-2993b4d07e21\",\"type\":\"BoxAnnotation\"},{\"attributes\":{\"overlay\":{\"id\":\"ac4bba63-0793-44d6-916b-2993b4d07e21\",\"type\":\"BoxAnnotation\"}},\"id\":\"af3c7104-546e-46bb-98ef-45ea32896674\",\"type\":\"BoxZoomTool\"},{\"attributes\":{},\"id\":\"968e3f5d-27aa-4597-bbee-3aa06bd2a46b\",\"type\":\"SaveTool\"},{\"attributes\":{\"callback\":null,\"data\":{\"x\":{\"__ndarray__\":\"AAAALNeXDUD+NcDbbocNQAd8jy1HVg1AQ5rx1pMEDUCjKvrJqpIMQAhR49oDAQxA5Zn/QThQC0ATmov6AYEKQEHeCP86lAlAbvnvY9yKCEBg6qpR/WUHQBt7697RJgZA/YWSzKnOBEBIEH0k714DQATHqrwk2QFAqYFOoOQ+AECcvenAvCP9P9d7DZyqp/k/5FQKPj0N9j+gTuQBP1jyP9JetmksGe0/xLN8+IFc5T+owK2IRAXbP9rwFm0+T8Y/CIXNWO08s7+mnszpf87Uvyy8RTutYuK/SeBW5H9R6r/gWT7MrxXxv2Mv2wQF9PS/m07k0a2/+L/fVAoOrHT8v+m9BraMBwDAzN50yJXFAcCmgU4InHIDwALHqiTcDAXARBB9jKaSBsD8hZI0YQIIwBl760aJWgnAXuqqubSZCsBr+e/Lk74LwD/eCGfyxwzAEpqLYrm0DcDkmf+p74MOwAhR40K7NA/Aoir6MWLGD8AizXifJRwQwAO+x0r/RBDA/xrgIZNdEMAAAABKx2UQwAAAAErHZRDA/xrgIZNdEMADvsdK/0QQwCLNeJ8lHBDAoir6MWLGD8AIUeNCuzQPwOSZ/6nvgw7AEpqLYrm0DcA/3ghn8scMwGv578uTvgvAXuqqubSZCsAZe+tGiVoJwPyFkjRhAgjARBB9jKaSBsACx6ok3AwFwKaBTgiccgPAzN50yJXFAcDpvQa2jAcAwN9UCg6sdPy/m07k0a2/+L9jL9sEBfT0v+BZPsyvFfG/SeBW5H9R6r8svEU7rWLiv6aezOl/ztS/CIXNWO08s7/a8BZtPk/GP6jArYhEBds/xLN8+IFc5T/SXrZpLBntP6BO5AE/WPI/5FQKPj0N9j/Xew2cqqf5P5y96cC8I/0/qYFOoOQ+AEAEx6q8JNkBQEgQfSTvXgNA/YWSzKnOBEAbe+ve0SYGQGDqqlH9ZQdAbvnvY9yKCEBB3gj/OpQJQBOai/oBgQpA5Zn/QThQC0AIUePaAwEMQKMq+smqkgxAQ5rx1pMEDUAHfI8tR1YNQP41wNtuhw1AAAAALNeXDUA=\",\"dtype\":\"float64\",\"shape\":[100]},\"y\":{\"__ndarray__\":\"AAAAYLRvs79g538EaJKwP/ytCatRN8o/kpKuFtH/1T9qmhhYuMfePx3bB/MQteM/X+KhPvzu5z+IPm7sKw3sP6MBQYOlBfA/hhwEKZPy8T8fbC1dWMvzP2MS/ckDjvU/lGFzWbs49z+H5wgovsn4P9jX5FxmP/o/lhWh5SqY+z9/CckTodL8PxJKYBp+7f0/rLvfaZjn/j8MFzvp6L//P3TGUgXGOgBASDB5XeGDAEB81EqV+boAQOHiuLfU3wBAP6lj/0vyAEA/qWP/S/IAQOHiuLfU3wBAfdRKlfm6AEBIMHld4YMAQHTGUgXGOgBADhc76ei//z+uu99pmOf+PxNKYBp+7f0/gAnJE6HS/D+YFaHlKpj7P9vX5FxmP/o/iecIKL7J+D+VYXNZuzj3P2YS/ckDjvU/IWwtXVjL8z+KHAQpk/LxP6YBQYOlBfA/iz5u7CsN7D9n4qE+/O7nPyDbB/MQteM/fJoYWLjH3j+ckq4W0f/VPySuCatRN8o/kud/BGiSsD/t//9ftG+zvxMAAGC0b7O/yfM/Yui4y78S14QFg9PWv5ySrkart9+/Pk0MRMk/5L8g2wcL/pDov2fioVbpyuy/Rh83gox08L+mAUEPnHPyv4ocBLWJYPS/IWwt6U459r9mEv1V+vv3v5Vhc+Wxpvm/iecItLQ3+7/b1+ToXK38v5gVoXEhBv6/gAnJn5dA/78KJTBTui0AwNfd73rHqgDAh4uduu8WAcB0xlJLwXEBwEgweaPcugHAfdRK2/TxAcDh4rj9zxYCwD+pY0VHKQLAP6ljRUcpAsDh4rj9zxYCwHzUStv08QHASDB5o9y6AcB0xlJLwXEBwIaLnbrvFgHA1t3veseqAMAJJTBTui0AwH8JyZ+XQP+/lhWhcSEG/r/Y1+ToXK38v4fnCLS0N/u/lGFz5bGm+b9jEv1V+vv3vx9sLelOOfa/hhwEtYlg9L+jAUEPnHPyv0QfN4KMdPC/X+KhVunK7L8d2wcL/pDovzVNDETJP+S/kpKuRqu337/+1oQFg9PWv7DzP2LouMu/AAAAYLRvs78=\",\"dtype\":\"float64\",\"shape\":[100]}},\"selected\":{\"id\":\"02170f7c-a7d9-4cd7-a208-9e6c4f26903f\",\"type\":\"Selection\"},\"selection_policy\":{\"id\":\"94f9a786-1da7-4c40-aba8-eaf6c3bf8051\",\"type\":\"UnionRenderers\"}},\"id\":\"b08d8bf2-87bf-446c-9995-a06ea12c82c4\",\"type\":\"ColumnDataSource\"},{\"attributes\":{\"source\":{\"id\":\"ce0223d3-4135-448a-a8e6-04cf7bc3b7b9\",\"type\":\"ColumnDataSource\"}},\"id\":\"81588efe-eab6-4f99-bde5-8cebf7127aec\",\"type\":\"CDSView\"},{\"attributes\":{},\"id\":\"940c70e7-ffd0-4bdc-a981-45b7b4cef6fc\",\"type\":\"HelpTool\"},{\"attributes\":{\"fill_alpha\":0.3,\"fill_color\":\"green\",\"x\":{\"field\":\"x\"},\"y\":{\"field\":\"y\"}},\"id\":\"e39b693c-2bd9-4850-881e-7366e9e824f0\",\"type\":\"Patch\"},{\"attributes\":{\"data_source\":{\"id\":\"427881dc-c50e-4e41-8278-a050e1beadd2\",\"type\":\"ColumnDataSource\"},\"glyph\":{\"id\":\"e39b693c-2bd9-4850-881e-7366e9e824f0\",\"type\":\"Patch\"},\"hover_glyph\":null,\"muted_glyph\":null,\"nonselection_glyph\":{\"id\":\"c8771fa5-4279-4314-bc13-c3eb7dd1f993\",\"type\":\"Patch\"},\"selection_glyph\":null,\"view\":{\"id\":\"e55cbd2d-3810-4df7-911f-ab6cc4074145\",\"type\":\"CDSView\"}},\"id\":\"aaa5e272-c4bf-469a-b55f-350c0f023b51\",\"type\":\"GlyphRenderer\"},{\"attributes\":{\"source\":{\"id\":\"427881dc-c50e-4e41-8278-a050e1beadd2\",\"type\":\"ColumnDataSource\"}},\"id\":\"e55cbd2d-3810-4df7-911f-ab6cc4074145\",\"type\":\"CDSView\"},{\"attributes\":{\"data_source\":{\"id\":\"ce0223d3-4135-448a-a8e6-04cf7bc3b7b9\",\"type\":\"ColumnDataSource\"},\"glyph\":{\"id\":\"b9314c7b-54d7-4977-b83d-e490c9ffe18f\",\"type\":\"Patch\"},\"hover_glyph\":null,\"muted_glyph\":null,\"nonselection_glyph\":{\"id\":\"95ff501b-0570-4d18-af6c-40b65092b731\",\"type\":\"Patch\"},\"selection_glyph\":null,\"view\":{\"id\":\"81588efe-eab6-4f99-bde5-8cebf7127aec\",\"type\":\"CDSView\"}},\"id\":\"92363cb8-4646-48a1-9167-9b42d73c4d7a\",\"type\":\"GlyphRenderer\"},{\"attributes\":{},\"id\":\"3cd4d21b-199a-4b36-b50a-2cd1f9253e0d\",\"type\":\"UnionRenderers\"},{\"attributes\":{\"fill_alpha\":0.1,\"fill_color\":\"#1f77b4\",\"line_alpha\":0.1,\"line_color\":\"#1f77b4\",\"x\":{\"field\":\"x\"},\"y\":{\"field\":\"y\"}},\"id\":\"4cbfd67b-ba19-4677-8011-e31811895f6b\",\"type\":\"Patch\"},{\"attributes\":{\"fill_alpha\":0.3,\"fill_color\":\"#98AFC7\",\"x\":{\"field\":\"x\"},\"y\":{\"field\":\"y\"}},\"id\":\"9e36779a-6926-4195-a8e9-420c2a31510d\",\"type\":\"Patch\"},{\"attributes\":{\"callback\":null,\"data\":{\"x\":{\"__ndarray__\":\"AAAAeBwt9j9Or1hFwx/2P8cvI7jF9/U/JVHb4U219T9kMneuoVj1P6I72Zoi4vQ/MIBCTk1S9D+HajEXuanzP7ujNkwX6fI/o6ZnkTIR8j+cPTMD7iLxP9opeEdEH/A/Do+yC40O7j+AG8mQNrjrPyRjdov6Pek/i7oBLHSi5j+cgNynYejjP45C8FahEuE/0u49Xl1I3D+I7ENCPkDWPz8GKbQ9E9A/WDhOtLWPwz8om1aHpiWrPzy55Fzie6i/Z3ty49wbw79DwkbOzA/Qv9BoY/Q+jta/XNPqEHAC3b8UjhMNy7LhvxqDFHp82OS/P/Yhwfzu579l9x5PDPPqv4pC8PZ+4e2/TEDuo59b8L9D3QDmqLjxv5AxuxVsBvO/vY1kGIpD9L+GR9lVtW71v9gpeBezhva/mz0z01yK97+hpmdhoXj4v7qjNhyGUPm/hmox5ycR+r8vgEIevLn6v6I72WqRSfu/YzJ3fhDA+78lUduxvBz8v8YvI4g0X/y/Tq9YFTKH/L8AAABIi5T8vwAAAEiLlPy/Tq9YFTKH/L/GLyOINF/8vyVR27G8HPy/YzJ3fhDA+7+iO9lqkUn7vy+AQh68ufq/hmox5ycR+r+6ozYchlD5v6GmZ2GhePi/mz0z01yK97/YKXgXs4b2v4ZH2VW1bvW/vY1kGIpD9L+QMbsVbAbzv0PdAOaouPG/TEDuo59b8L+KQvD2fuHtv2X3Hk8M8+q/P/Yhwfzu578agxR6fNjkvxSOEw3LsuG/XNPqEHAC3b/QaGP0Po7Wv0PCRs7MD9C/Z3ty49wbw788ueRc4nuovyibVoemJas/WDhOtLWPwz8/Bim0PRPQP4jsQ0I+QNY/0u49Xl1I3D+OQvBWoRLhP5yA3Kdh6OM/i7oBLHSi5j8kY3aL+j3pP4AbyZA2uOs/Do+yC40O7j/aKXhHRB/wP5w9MwPuIvE/o6ZnkTIR8j+7ozZMF+nyP4dqMRe5qfM/MIBCTk1S9D+iO9maIuL0P2Qyd66hWPU/JVHb4U219T/HLyO4xff1P06vWEXDH/Y/AAAAeBwt9j8=\",\"dtype\":\"float64\",\"shape\":[100]},\"y\":{\"__ndarray__\":\"AAAAYLRvs79kJ4eIYlGaP99RW8WDPsA/JlYphYsXzT8ow+DR3+PUP7LqjJPjINs/Rh6XhCCe4D/2Yx7NxZfjP+nTD2tAeuY/czfwhIdC6T/STkzRre3rP7Tk8KrkeO4/wIZzgr9w8D9Ep4wdepLxPxfLVV5xoPI/gRycRomZ8z+isifNu3z0P/hAYvEZSfU/ScPCtsz99T8iqvUGFpr2P2if03lRHfc/fohUAvWG9z9x1sh/kdb3PzRfwDLTC/g/DsYjFYIm+D8OxiMVgib4PzRfwDLTC/g/cdbIf5HW9z9+iFQC9Yb3P2mf03lRHfc/I6r1Bhaa9j9Kw8K2zP31P/lAYvEZSfU/o7Inzbt89D+CHJxGiZnzPxjLVV5xoPI/RaeMHXqS8T/BhnOCv3DwP7jk8KrkeO4/1U5M0a3t6z96N/CEh0LpP+3TD2tAeuY/92MezcWX4z9MHpeEIJ7gP7fqjJPjINs/NMPg0d/j1D80VimFixfNP/tRW8WDPsA/+CeHiGJRmj/y//9ftG+zvw4AAGC0b7O//+QQseC5xr/+qK0SHNfRvxqrlPKfQ9i/NMPgAbqb3r9cdcbhXmziv0wel5wNeuW/92Me5bJz6L/t0w+DLVbrv3o38Jx0Hu6/aiemdM1k8L9ccnjhaKrxv8GGcw623vK/RaeMqXAA9L8Yy1XqZw71v4IcnNJ/B/a/o7InWbLq9r/5QGJ9ELf3v0rDwkLDa/i/I6r1kgwI+b9pn9MFSIv5v36IVI7r9Pm/cdbIC4hE+r80X8C+yXn6vw7GI6F4lPq/DsYjoXiU+r80X8C+yXn6v3HWyAuIRPq/fohUjuv0+b9on9MFSIv5vyKq9ZIMCPm/ScPCQsNr+L/4QGJ9ELf3v6KyJ1my6va/gRyc0n8H9r8Xy1XqZw71v0SnjKlwAPS/wIZzDrbe8r9acnjhaKrxv2knpnTNZPC/czfwnHQe7r/p0w+DLVbrv/ZjHuWyc+i/Rh6XnA165b9ZdcbhXmzivyjD4AG6m96/E6uU8p9D2L/wqK0SHNfRv+zkELHguca/AAAAYLRvs78=\",\"dtype\":\"float64\",\"shape\":[100]}},\"selected\":{\"id\":\"68831a13-5fab-4d94-b69b-31170ec25f95\",\"type\":\"Selection\"},\"selection_policy\":{\"id\":\"01717762-4494-41fd-8e76-07742d56785a\",\"type\":\"UnionRenderers\"}},\"id\":\"427881dc-c50e-4e41-8278-a050e1beadd2\",\"type\":\"ColumnDataSource\"},{\"attributes\":{\"fill_alpha\":0.1,\"fill_color\":\"#1f77b4\",\"line_alpha\":0.1,\"line_color\":\"#1f77b4\",\"x\":{\"field\":\"x\"},\"y\":{\"field\":\"y\"}},\"id\":\"c8771fa5-4279-4314-bc13-c3eb7dd1f993\",\"type\":\"Patch\"},{\"attributes\":{\"source\":{\"id\":\"b08d8bf2-87bf-446c-9995-a06ea12c82c4\",\"type\":\"ColumnDataSource\"}},\"id\":\"2e67b8fd-677c-46b6-917f-ff5c3b57009d\",\"type\":\"CDSView\"},{\"attributes\":{\"data_source\":{\"id\":\"b08d8bf2-87bf-446c-9995-a06ea12c82c4\",\"type\":\"ColumnDataSource\"},\"glyph\":{\"id\":\"b9303649-d6f7-4adf-894a-a8095e853ca8\",\"type\":\"Patch\"},\"hover_glyph\":null,\"muted_glyph\":null,\"nonselection_glyph\":{\"id\":\"4cbfd67b-ba19-4677-8011-e31811895f6b\",\"type\":\"Patch\"},\"selection_glyph\":null,\"view\":{\"id\":\"2e67b8fd-677c-46b6-917f-ff5c3b57009d\",\"type\":\"CDSView\"}},\"id\":\"0195e510-dae2-48c5-a324-81f10f351a40\",\"type\":\"GlyphRenderer\"},{\"attributes\":{\"callback\":null,\"data\":{\"x\":{\"__ndarray__\":\"AAAAePv9+z/+NcAnk+37Pwd8j3lrvPs/Q5rxIrhq+z+jKvoVz/j6PwhR4yYoZ/o/5Zn/jVy2+T8TmotGJuf4P0HeCEtf+vc/bvnvrwDx9j9g6qqdIcz1Pxt76yr2jPQ//YWSGM408z9IEH1wE8XxPwTHqghJP/A/UgOd2BFK7T+cvelYBfDpP9d7DTTzc+Y/5FQK1oXZ4j9AncgzD0neP9Jetpm9sdY/iGf5UCbqzT9QgVvRzWy8PzB5SJfmc4q/QmEz9hiewb9TT+bErs7Qvyy8RQscyti/JHArWndc4L/gWT40Z0nkv2Mv22y8J+i/m07kOWXz67/fVAp2Y6jvv+m9BmpoofG/zN50fHFf87+mgU68dwz1vwLHqti3pva/RBB9QIIs+L/8hZLoPJz5vxl76/pk9Pq/XuqqbZAz/L9r+e9/b1j9vz/eCBvOYf6/EpqLFpVO/7/yzP+u5Q4AwISocXtLZwDAURX98h6wAMAizXh5E+kAwAO+xyTtEQHA/xrg+4AqAcAAAAAktTIBwAAAACS1MgHA/xrg+4AqAcADvsck7REBwCLNeHkT6QDAURX98h6wAMCEqHF7S2cAwPLM/67lDgDAEpqLFpVO/78/3ggbzmH+v2v5739vWP2/XuqqbZAz/L8Ze+v6ZPT6v/yFkug8nPm/RBB9QIIs+L8Cx6rYt6b2v6aBTrx3DPW/zN50fHFf87/pvQZqaKHxv99UCnZjqO+/m07kOWXz679jL9tsvCfov+BZPjRnSeS/JHArWndc4L8svEULHMrYv1NP5sSuztC/QmEz9hiewb8weUiX5nOKv1CBW9HNbLw/iGf5UCbqzT/SXraZvbHWP0CdyDMPSd4/5FQK1oXZ4j/Xew0083PmP5y96VgF8Ok/UgOd2BFK7T8Ex6oIST/wP0gQfXATxfE//YWSGM408z8be+sq9oz0P2Dqqp0hzPU/bvnvrwDx9j9B3ghLX/r3PxOai0Ym5/g/5Zn/jVy2+T8IUeMmKGf6P6Mq+hXP+Po/Q5rxIrhq+z8HfI95a7z7P/41wCeT7fs/AAAAePv9+z8=\",\"dtype\":\"float64\",\"shape\":[100]},\"y\":{\"__ndarray__\":\"AAAAYLRvs78AxQDcYup2v/ytCXt3f7A/kpKu/uMjwT9qmhhAy+vJPx3bB2caR9E/X+KhsgWB1T+IPm5gNZ/ZP0YDgnpUnd0/hhwE45e74D8fbC0XXZTiP2MS/YMIV+Q/lGFzE8AB5j+H5wjiwpLnP9jX5BZrCOk/lhWhny9h6j9/CcnNpZvrPxJKYNSCtuw/rLvfI52w7T8MFzuj7YjuP+iMpcSQPu8/kGDydMfQ7z981Eryex/wP+HiuBRXRPA/P6ljXM5W8D8/qWNczlbwP+HiuBRXRPA/fdRK8nsf8D+QYPJ0x9DvP+iMpcSQPu8/Dhc7o+2I7j+uu98jnbDtPxNKYNSCtuw/gAnJzaWb6z+YFaGfL2HqP9vX5BZrCOk/iecI4sKS5z+VYXMTwAHmP2YS/YMIV+Q/IWwtF12U4j+KHATjl7vgP0wDgnpUnd0/iz5uYDWf2T9n4qGyBYHVPyDbB2caR9E/fJoYQMvryT+ckq7+4yPBPySuCXt3f7A/cMMA3GLqdr/2//9ftG+zvwoAAGC0b7O/5PkfSWG4wr8S14QdcK/Lv05JVy/MSdK/Pk0M0L+t1r8g2weX9P7av2fioeLfON+/Rh83yIer4b+mAUFVl6rjv4ocBPuEl+W/IWwtL0pw579mEv2b9TLpv5Vhcyut3eq/iecI+q9u7L/b1+QuWOTtv5gVobccPe+/wITkcsk78L8KJTD2N8nwv9fd7x1FRvG/h4udXW2y8b90xlLuPg3yv0gweUZaVvK/fdRKfnKN8r/h4rigTbLyvz+pY+jExPK/P6lj6MTE8r/h4rigTbLyv3zUSn5yjfK/SDB5RlpW8r90xlLuPg3yv4aLnV1tsvG/1t3vHUVG8b8JJTD2N8nwv8CE5HLJO/C/lhWhtxw977/Y1+QuWOTtv4fnCPqvbuy/lGFzK63d6r9jEv2b9TLpvx9sLS9KcOe/hhwE+4SX5b+jAUFVl6rjv0QfN8iHq+G/X+Kh4t84378d2weX9P7avzVNDNC/rda/SUlXL8xJ0r/+1oQdcK/Lv9j5H0lhuMK/AAAAYLRvs78=\",\"dtype\":\"float64\",\"shape\":[100]}},\"selected\":{\"id\":\"0111fc7b-bb07-4954-b94f-31253b7ca1e6\",\"type\":\"Selection\"},\"selection_policy\":{\"id\":\"3cd4d21b-199a-4b36-b50a-2cd1f9253e0d\",\"type\":\"UnionRenderers\"}},\"id\":\"f02b5377-4702-410f-a8d6-c2d7d3280901\",\"type\":\"ColumnDataSource\"},{\"attributes\":{\"data_source\":{\"id\":\"f6f627b0-6fd7-4ded-9795-3a384f43f086\",\"type\":\"ColumnDataSource\"},\"glyph\":{\"id\":\"b75812d9-2278-4ea3-8a15-6ba8345f2df8\",\"type\":\"Patch\"},\"hover_glyph\":null,\"muted_glyph\":null,\"nonselection_glyph\":{\"id\":\"544d537d-134e-4435-b623-6ca6e6b86514\",\"type\":\"Patch\"},\"selection_glyph\":null,\"view\":{\"id\":\"be9cd160-bf7d-4a70-a1be-c59e133e0233\",\"type\":\"CDSView\"}},\"id\":\"db8debda-08cc-45cd-a66a-63cbd3310136\",\"type\":\"GlyphRenderer\"},{\"attributes\":{\"fill_alpha\":0.1,\"fill_color\":\"#1f77b4\",\"line_alpha\":0.1,\"line_color\":\"#1f77b4\",\"x\":{\"field\":\"x\"},\"y\":{\"field\":\"y\"}},\"id\":\"544d537d-134e-4435-b623-6ca6e6b86514\",\"type\":\"Patch\"},{\"attributes\":{},\"id\":\"3bee1c29-f169-4b05-aa9b-db9b0aa0b933\",\"type\":\"UnionRenderers\"},{\"attributes\":{},\"id\":\"94f9a786-1da7-4c40-aba8-eaf6c3bf8051\",\"type\":\"UnionRenderers\"},{\"attributes\":{\"source\":{\"id\":\"f02b5377-4702-410f-a8d6-c2d7d3280901\",\"type\":\"ColumnDataSource\"}},\"id\":\"dbdf3164-9580-4ce8-bb82-919f4d37161e\",\"type\":\"CDSView\"},{\"attributes\":{\"fill_alpha\":0.3,\"fill_color\":\"#C7B097\",\"x\":{\"field\":\"x\"},\"y\":{\"field\":\"y\"}},\"id\":\"b75812d9-2278-4ea3-8a15-6ba8345f2df8\",\"type\":\"Patch\"},{\"attributes\":{},\"id\":\"68831a13-5fab-4d94-b69b-31170ec25f95\",\"type\":\"Selection\"},{\"attributes\":{\"data_source\":{\"id\":\"f02b5377-4702-410f-a8d6-c2d7d3280901\",\"type\":\"ColumnDataSource\"},\"glyph\":{\"id\":\"9e36779a-6926-4195-a8e9-420c2a31510d\",\"type\":\"Patch\"},\"hover_glyph\":null,\"muted_glyph\":null,\"nonselection_glyph\":{\"id\":\"53a5fff5-5ef0-4d94-883d-78ba1c143aee\",\"type\":\"Patch\"},\"selection_glyph\":null,\"view\":{\"id\":\"dbdf3164-9580-4ce8-bb82-919f4d37161e\",\"type\":\"CDSView\"}},\"id\":\"7db63e6a-97fa-4c5f-bb76-b3f31bf873d0\",\"type\":\"GlyphRenderer\"},{\"attributes\":{\"fill_alpha\":0.1,\"fill_color\":\"#1f77b4\",\"line_alpha\":0.1,\"line_color\":\"#1f77b4\",\"x\":{\"field\":\"x\"},\"y\":{\"field\":\"y\"}},\"id\":\"53a5fff5-5ef0-4d94-883d-78ba1c143aee\",\"type\":\"Patch\"},{\"attributes\":{\"callback\":null,\"data\":{\"x\":{\"__ndarray__\":\"AAAAePv9+z/+NcAnk+37Pwd8j3lrvPs/Q5rxIrhq+z+jKvoVz/j6PwhR4yYoZ/o/5Zn/jVy2+T8TmotGJuf4P0HeCEtf+vc/bvnvrwDx9j9g6qqdIcz1Pxt76yr2jPQ//YWSGM408z9IEH1wE8XxPwTHqghJP/A/UgOd2BFK7T+cvelYBfDpP9d7DTTzc+Y/5FQK1oXZ4j9AncgzD0neP9Jetpm9sdY/iGf5UCbqzT9QgVvRzWy8PzB5SJfmc4q/QmEz9hiewb9TT+bErs7Qvyy8RQscyti/JHArWndc4L/gWT40Z0nkv2Mv22y8J+i/m07kOWXz67/fVAp2Y6jvv+m9BmpoofG/zN50fHFf87+mgU68dwz1vwLHqti3pva/RBB9QIIs+L/8hZLoPJz5vxl76/pk9Pq/XuqqbZAz/L9r+e9/b1j9vz/eCBvOYf6/EpqLFpVO/7/yzP+u5Q4AwISocXtLZwDAURX98h6wAMAizXh5E+kAwAO+xyTtEQHA/xrg+4AqAcAAAAAktTIBwAAAACS1MgHA/xrg+4AqAcADvsck7REBwCLNeHkT6QDAURX98h6wAMCEqHF7S2cAwPLM/67lDgDAEpqLFpVO/78/3ggbzmH+v2v5739vWP2/XuqqbZAz/L8Ze+v6ZPT6v/yFkug8nPm/RBB9QIIs+L8Cx6rYt6b2v6aBTrx3DPW/zN50fHFf87/pvQZqaKHxv99UCnZjqO+/m07kOWXz679jL9tsvCfov+BZPjRnSeS/JHArWndc4L8svEULHMrYv1NP5sSuztC/QmEz9hiewb8weUiX5nOKv1CBW9HNbLw/iGf5UCbqzT/SXraZvbHWP0CdyDMPSd4/5FQK1oXZ4j/Xew0083PmP5y96VgF8Ok/UgOd2BFK7T8Ex6oIST/wP0gQfXATxfE//YWSGM408z8be+sq9oz0P2Dqqp0hzPU/bvnvrwDx9j9B3ghLX/r3PxOai0Ym5/g/5Zn/jVy2+T8IUeMmKGf6P6Mq+hXP+Po/Q5rxIrhq+z8HfI95a7z7P/41wCeT7fs/AAAAePv9+z8=\",\"dtype\":\"float64\",\"shape\":[100]},\"y\":{\"__ndarray__\":\"AAAAlA7z6D+9B1H2k03qP3YEiJ7fies/+cDJ0aSm7D+SBQX/t6LtP3BXFPoPfe4/4E2xEsc07z9sCxQGHMnvP9BWIGW5HPA/22oWmapC8D+XTgi1OVbwP+4XsCVSV/A/atoKxPJF8D86/o7WLSLwP45m5ftR2O8/cHMtGzpI7z/wRn6fq5TuP6TisWtjvu0/ntRA6kLG7D9fYSEgT63rP8KbMpqvdOo/P0RUNq0d6T8kf3LJsKnnP7NP8aNBGuY/tyUH9gNx5D+IhrcVt6/iP0TOPqgz2OA/6CG8YdPY3T+bSiQOvdzZP/R8tWxVwNU/dimck++H0T86dCsX+G/KP+R8tEgIqsE/9CfWu5SOsT8ANxrrXHRXvxidbS5HXrK/WGGtRe4vwr8shGY50CfLvx1Q5SKtBtK/zfYTRZhr1r/N7gclCr7avy5RhtN2+d6/1e9cTLWM4b82ZZFRx4zjv8LbD8zWeuW/1mWhANxU579sPuVI5Bjpvx7y3x8Uxeq/tXc1FqlX7L////+r+87tvwEAAKz7zu2/vwdRDoEp7788AkRb5jLwv33g5PRIwfC/yoKCi1I/8b+5KwqJfqzxv/GmWBVaCPK/tgUKj4RS8r/QViDxr4ryv9xqFiWhsPK/l04IQTDE8r/uF7CxSMXyv2raClDps/K/Of6OYiSQ8r9Is/KJH1ryv7e5lpkTEvK/eCO/W0y48b9S8dhBKE3xv09qIAEY0fC/rrAQHJ5E8L/AmzKynFDvvz5EVE6a+e2/In9y4Z2F7L+wT/G7Lvbqv7QlBw7xTOm/hYa3LaSL579Bzj7AILTlv/AQ3shWyOO/TSUSn0vK4b/sfLWcL3jfv24pnMPJP9u/F7qVO9bv1r9sPlpU3ozSv/AT673+Nsy/hMsppstAw7/QYpKRIYG0v4DpKaVh/IO/0BCaZW/grj9KoMrlpZ3AP6jtJyp8Z8k/1+4H9S8G0T8zUYajnEHVP63fuWiQYdk/dMoic7Rh3T/D2w+06Z7gP9lloejueOI/bT7lMPc85D8i8t8HJ+nlP7d3Nf67e+c/AAAAlA7z6D8=\",\"dtype\":\"float64\",\"shape\":[100]}},\"selected\":{\"id\":\"a68f8278-3927-40e5-81fc-7b569c169135\",\"type\":\"Selection\"},\"selection_policy\":{\"id\":\"eda6ee75-4390-49b6-8956-b1fb5ec10c57\",\"type\":\"UnionRenderers\"}},\"id\":\"b6a30ccf-ba59-4bd7-85f4-60df936a093a\",\"type\":\"ColumnDataSource\"},{\"attributes\":{\"fill_alpha\":0.3,\"fill_color\":\"#C7B097\",\"x\":{\"field\":\"x\"},\"y\":{\"field\":\"y\"}},\"id\":\"bba4ee15-49bc-43d5-8b68-56655e39b4ee\",\"type\":\"Patch\"},{\"attributes\":{\"source\":{\"id\":\"f6f627b0-6fd7-4ded-9795-3a384f43f086\",\"type\":\"ColumnDataSource\"}},\"id\":\"be9cd160-bf7d-4a70-a1be-c59e133e0233\",\"type\":\"CDSView\"},{\"attributes\":{},\"id\":\"21881a2d-0d38-400f-bb82-c1b6b1c6154c\",\"type\":\"BasicTickFormatter\"},{\"attributes\":{},\"id\":\"5a1e4702-805c-4ff1-987e-ee4e16458bf1\",\"type\":\"Selection\"},{\"attributes\":{},\"id\":\"f421c027-cdee-4784-97ac-e70a7bd7d364\",\"type\":\"BasicTickFormatter\"},{\"attributes\":{},\"id\":\"01717762-4494-41fd-8e76-07742d56785a\",\"type\":\"UnionRenderers\"},{\"attributes\":{},\"id\":\"51395d52-b8d6-405e-97f9-3db62382e124\",\"type\":\"Selection\"}],\"root_ids\":[\"17ea839a-2eda-41bc-9757-3ac220dc4ef2\"]},\"title\":\"Bokeh Application\",\"version\":\"0.12.16\"}};\n",
       "  var render_items = [{\"docid\":\"93ea3baa-49bc-4e20-b4e6-5b68eea71160\",\"elementid\":\"372d5454-d9d1-488b-b645-b662dedb0201\",\"modelid\":\"17ea839a-2eda-41bc-9757-3ac220dc4ef2\"}];\n",
       "  root.Bokeh.embed.embed_items_notebook(docs_json, render_items);\n",
       "\n",
       "  }\n",
       "  if (root.Bokeh !== undefined) {\n",
       "    embed_document(root);\n",
       "  } else {\n",
       "    var attempts = 0;\n",
       "    var timer = setInterval(function(root) {\n",
       "      if (root.Bokeh !== undefined) {\n",
       "        embed_document(root);\n",
       "        clearInterval(timer);\n",
       "      }\n",
       "      attempts++;\n",
       "      if (attempts > 100) {\n",
       "        console.log(\"Bokeh: ERROR: Unable to run BokehJS code because BokehJS library is missing\")\n",
       "        clearInterval(timer);\n",
       "      }\n",
       "    }, 10, root)\n",
       "  }\n",
       "})(window);"
      ],
      "application/vnd.bokehjs_exec.v0+json": ""
     },
     "metadata": {
      "application/vnd.bokehjs_exec.v0+json": {
       "id": "17ea839a-2eda-41bc-9757-3ac220dc4ef2"
      }
     },
     "output_type": "display_data"
    }
   ],
   "source": [
    "fig = figure(\n",
    "    width=400,\n",
    "    height=400,\n",
    "    x_range=(mean[0] - 5, mean[0] + 5),\n",
    "    y_range=(mean[1] - 5, mean[1] + 5)\n",
    ")\n",
    "fig.circle(data[:, 0], data[:, 1])\n",
    "plotting.plot_normal(fig, normal_iso.mean.numpy(), normal_iso.cov.numpy(), \n",
    "                     line_color='black', fill_alpha=.3, color='green')\n",
    "plotting.plot_normal(fig, normal_diag.mean.numpy(), normal_diag.cov.numpy(), \n",
    "                     line_color='black', fill_alpha=.3, color='#98AFC7')\n",
    "plotting.plot_normal(fig, normal_full.mean.numpy(), normal_full.cov.numpy(), \n",
    "                     line_color='black', fill_alpha=.3, color='#C7B097')\n",
    "\n",
    "show(fig)"
   ]
  },
  {
   "cell_type": "code",
   "execution_count": 20,
   "metadata": {},
   "outputs": [
    {
     "data": {
      "text/plain": [
       "80"
      ]
     },
     "execution_count": 20,
     "metadata": {},
     "output_type": "execute_result"
    }
   ],
   "source": [
    "2 * 39 + 2"
   ]
  },
  {
   "cell_type": "code",
   "execution_count": 19,
   "metadata": {},
   "outputs": [
    {
     "data": {
      "text/plain": [
       "1562"
      ]
     },
     "execution_count": 19,
     "metadata": {},
     "output_type": "execute_result"
    }
   ],
   "source": [
    "39 ** 2 + 39 + 2"
   ]
  },
  {
   "cell_type": "code",
   "execution_count": 17,
   "metadata": {},
   "outputs": [
    {
     "data": {
      "text/plain": [
       "4096"
      ]
     },
     "execution_count": 17,
     "metadata": {},
     "output_type": "execute_result"
    }
   ],
   "source": [
    "64 ** 2"
   ]
  },
  {
   "cell_type": "code",
   "execution_count": null,
   "metadata": {},
   "outputs": [],
   "source": []
  }
 ],
 "metadata": {
  "kernelspec": {
   "display_name": "Python 3",
   "language": "python",
   "name": "python3"
  },
  "language_info": {
   "codemirror_mode": {
    "name": "ipython",
    "version": 3
   },
   "file_extension": ".py",
   "mimetype": "text/x-python",
   "name": "python",
   "nbconvert_exporter": "python",
   "pygments_lexer": "ipython3",
   "version": "3.6.4"
  }
 },
 "nbformat": 4,
 "nbformat_minor": 2
}
