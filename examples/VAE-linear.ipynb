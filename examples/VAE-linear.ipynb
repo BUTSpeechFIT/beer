{
 "cells": [
  {
   "cell_type": "code",
   "execution_count": null,
   "metadata": {},
   "outputs": [],
   "source": [
    "%load_ext autoreload\n",
    "%autoreload 2\n",
    "\n",
    "import sys\n",
    "sys.path.append('../')\n",
    "\n",
    "import numpy as np\n",
    "from bokeh.io import show, output_notebook\n",
    "from bokeh.plotting import figure\n",
    "from torch import optim, nn\n",
    "\n",
    "from plotting import plot_model_outputs\n",
    "\n",
    "import beer\n",
    "\n",
    "output_notebook()"
   ]
  },
  {
   "cell_type": "code",
   "execution_count": null,
   "metadata": {},
   "outputs": [],
   "source": [
    "mean = np.array([3., 3.])\n",
    "cov = np.array([[2., 1.5], [1.5, 2.]])\n",
    "data = np.random.multivariate_normal(mean, cov, size=100)\n",
    "\n",
    "fig = figure(\n",
    "    title='Linear subspace',\n",
    "    width=400,\n",
    "    height=400,\n",
    ")\n",
    "fig.circle(data[:, 0], data[:, 1])\n",
    "show(fig)"
   ]
  },
  {
   "cell_type": "code",
   "execution_count": null,
   "metadata": {
    "collapsed": true
   },
   "outputs": [],
   "source": [
    "obs_dim = 2\n",
    "latent_dim = 2\n",
    "nb_samples = 10\n",
    "\n",
    "enc_struct = nn.Sequential(\n",
    "    nn.Linear(obs_dim, 2),\n",
    "    nn.Tanh(),\n",
    "    nn.Linear(2, 2),\n",
    "    nn.Tanh()\n",
    ")\n",
    "encoder = beer.models.GaussianMLP(enc_struct, 2, latent_dim)\n",
    "\n",
    "dec_struct = nn.Sequential(\n",
    "    nn.Linear(latent_dim, 2),\n",
    "    nn.Tanh(),\n",
    "    nn.Linear(2, 2),\n",
    "    nn.Tanh()\n",
    ")\n",
    "decoder = beer.models.GaussianMLP(dec_struct, 2, obs_dim)\n",
    "\n",
    "#latent_model = beer.models.NormalDiagonalCovariance.create(\n",
    "#    latent_dim,\n",
    "#    mean_prec=1e-3,\n",
    "#    prec_shape=1.,\n",
    "#    prec_rate=1\n",
    "#)\n",
    "latent_model = beer.models.NaturalIsotropicGaussian(2)\n",
    "\n",
    "model = beer.models.VAE(encoder, decoder, latent_model, nb_samples)"
   ]
  },
  {
   "cell_type": "code",
   "execution_count": null,
   "metadata": {
    "collapsed": true
   },
   "outputs": [],
   "source": [
    "optimizer = optim.Adam(model.parameters(), lr=1e-3, weight_decay=1e-6)\n",
    "history = beer.inference.History(report_interval=250)"
   ]
  },
  {
   "cell_type": "code",
   "execution_count": null,
   "metadata": {},
   "outputs": [],
   "source": [
    "beer.inference.run_training(data, model, optimizer, 5000, history, batch_size=20, lrate_latent_model=0.)"
   ]
  },
  {
   "cell_type": "code",
   "execution_count": null,
   "metadata": {},
   "outputs": [],
   "source": [
    "plot_model_outputs(model, data)"
   ]
  },
  {
   "cell_type": "code",
   "execution_count": null,
   "metadata": {},
   "outputs": [],
   "source": [
    "history.plot()"
   ]
  },
  {
   "cell_type": "code",
   "execution_count": null,
   "metadata": {
    "scrolled": true
   },
   "outputs": [],
   "source": [
    "print(model.latent_model.exp_mean)\n",
    "print(1/model.latent_model.exp_precision)\n",
    "print(model.latent_model.exp_log_precision)"
   ]
  },
  {
   "cell_type": "code",
   "execution_count": null,
   "metadata": {},
   "outputs": [],
   "source": [
    "np.log(181)"
   ]
  }
 ],
 "metadata": {
  "kernelspec": {
   "display_name": "Python 3",
   "language": "python",
   "name": "python3"
  },
  "language_info": {
   "codemirror_mode": {
    "name": "ipython",
    "version": 3
   },
   "file_extension": ".py",
   "mimetype": "text/x-python",
   "name": "python",
   "nbconvert_exporter": "python",
   "pygments_lexer": "ipython3",
   "version": "3.6.3"
  }
 },
 "nbformat": 4,
 "nbformat_minor": 2
}
