{
 "cells": [
  {
   "cell_type": "markdown",
   "metadata": {
    "collapsed": true
   },
   "source": [
    "# Probabilistic Linear Discriminant Analysis (PLDA)\n",
    "\n",
    "This notebook illustrate how to use a PLDA with the [beer framework](https://github.com/beer-asr/beer)."
   ]
  },
  {
   "cell_type": "code",
   "execution_count": null,
   "metadata": {},
   "outputs": [],
   "source": [
    "%load_ext autoreload\n",
    "%autoreload 2\n",
    "\n",
    "# Add the path of the beer source code ot the PYTHONPATH.\n",
    "import sys\n",
    "sys.path.insert(0, '../')\n",
    "\n",
    "\n",
    "import numpy as np\n",
    "import torch\n",
    "import torch.optim\n",
    "\n",
    "from torch import nn\n",
    "from torch.autograd import Variable\n",
    "\n",
    "\n",
    "# For plotting.\n",
    "from bokeh.io import show, output_notebook\n",
    "from bokeh.plotting import figure, gridplot\n",
    "from bokeh.models import LinearAxis, Range1d\n",
    "\n",
    "# Beer framework\n",
    "import beer\n",
    "\n",
    "# Convenience functions for plotting.\n",
    "import plotting\n",
    "\n",
    "output_notebook(verbose=False)"
   ]
  },
  {
   "cell_type": "markdown",
   "metadata": {},
   "source": [
    "## Data "
   ]
  },
  {
   "cell_type": "code",
   "execution_count": null,
   "metadata": {
    "scrolled": false
   },
   "outputs": [],
   "source": [
    "ntargets = 3\n",
    "N = 200\n",
    "Xs = []\n",
    "labels = []\n",
    "cov = np.array([[2, -1], [-1, 1]])\n",
    "\n",
    "mean = 5 * np.array([1, 1])\n",
    "X = np.random.multivariate_normal(mean, cov, size=N)\n",
    "labels.append(np.ones(len(X)) * 0)\n",
    "Xs.append(X)\n",
    "\n",
    "mean = 3 * np.array([0, 0])\n",
    "X = np.random.multivariate_normal(mean, cov, size=N)\n",
    "labels.append(np.ones(len(X)))\n",
    "Xs.append(X)\n",
    "\n",
    "mean = 5 * np.array([-1, -1])\n",
    "X = np.random.multivariate_normal(mean, cov, size=N)\n",
    "labels.append(np.ones(len(X)) * 2)\n",
    "Xs.append(X)\n",
    "\n",
    "idxs = np.arange(0, ntargets * N)\n",
    "np.random.shuffle(idxs)\n",
    "data = np.vstack(Xs)[idxs]\n",
    "labels = np.hstack(labels)[idxs]\n",
    "\n",
    "test_data = data[-100:]\n",
    "test_labels = labels[-100:]\n",
    "data = data[:-100]\n",
    "labels = labels[:-100]\n",
    "\n",
    "\n",
    "x_range = (-10, 10)\n",
    "y_range = (-10, 10)\n",
    "\n",
    "fig = figure(title='Synthetic data', width=400, height=400, x_range=x_range,\n",
    "             y_range=y_range)\n",
    "colors = ['salmon', 'blue', 'green', 'yellow', 'black', 'red', 'cyan', 'purple', 'brown', 'pink']\n",
    "for sX, color in zip(Xs, colors):\n",
    "    fig.circle(sX[:, 0], sX[:, 1], color=color)\n",
    "show(fig)"
   ]
  },
  {
   "cell_type": "markdown",
   "metadata": {},
   "source": [
    "## Model"
   ]
  },
  {
   "cell_type": "code",
   "execution_count": null,
   "metadata": {},
   "outputs": [],
   "source": [
    "# Number of components in the mixture.\n",
    "ncomps = ntargets\n",
    "\n",
    "# Dimension of the observed space.\n",
    "obs_dim = data.shape[1]\n",
    "\n",
    "# Dimension of the noise subspace.\n",
    "noise_s_dim = 1\n",
    "\n",
    "# Dimension of the class subspace.\n",
    "class_s_dim = 1\n",
    "\n",
    "# Mean of the prior distributions.\n",
    "mean = torch.zeros(obs_dim)\n",
    "prec = 1.\n",
    "noise_s = torch.randn(noise_s_dim, obs_dim)\n",
    "class_s = torch.randn(class_s_dim, obs_dim)\n",
    "means = 2 * torch.randn(ncomps, class_s_dim)\n",
    "weights = torch.ones(ncomps) / ntargets\n",
    "pseudo_counts = 1.\n",
    "\n",
    "pldaset = beer.PLDA.create(mean, prec, noise_s, class_s, means, pseudo_counts)\n",
    "plda = beer.Mixture.create(weights, pldaset, pseudo_counts)"
   ]
  },
  {
   "cell_type": "markdown",
   "metadata": {},
   "source": [
    "## Variational Bayes Training"
   ]
  },
  {
   "cell_type": "code",
   "execution_count": null,
   "metadata": {
    "scrolled": false
   },
   "outputs": [],
   "source": [
    "epochs = 50\n",
    "lrate = 1.\n",
    "X = torch.from_numpy(data).float()\n",
    "targets = torch.from_numpy(labels).long()\n",
    "elbo_fn = beer.EvidenceLowerBound(len(X))\n",
    "optimizer = beer.BayesianModelCoordinateAscentOptimizer(\n",
    "    *plda.grouped_parameters, lrate=lrate)\n",
    "\n",
    "elbos = []\n",
    "for epoch in range(epochs):\n",
    "    optimizer.zero_grad()\n",
    "    elbo = elbo_fn(plda, X, targets)\n",
    "    elbo.natural_backward()\n",
    "    optimizer.step()\n",
    "    \n",
    "    if epochs > 0:\n",
    "        elbos.append(float(elbo) / len(X))\n",
    "    \n",
    "# Plot the ELBO.\n",
    "fig = figure(title='ELBO', width=400, height=400, x_axis_label='step',\n",
    "              y_axis_label='ln p(X)')\n",
    "fig.line(np.arange(len(elbos)), elbos, color='blue')\n",
    "\n",
    "show(fig)"
   ]
  },
  {
   "cell_type": "markdown",
   "metadata": {},
   "source": [
    "## Plotting"
   ]
  },
  {
   "cell_type": "code",
   "execution_count": null,
   "metadata": {},
   "outputs": [],
   "source": [
    "fig1 = figure(title='PLDA', width=400, height=400, x_range=x_range, y_range=y_range)\n",
    "fig1.circle(data[:, 0], data[:, 1], alpha=.1)\n",
    "plotting.plot_gmm(fig1, plda, alpha=.5, color='blue')\n",
    "show(fig1)"
   ]
  }
 ],
 "metadata": {
  "kernelspec": {
   "display_name": "Python 3",
   "language": "python",
   "name": "python3"
  },
  "language_info": {
   "codemirror_mode": {
    "name": "ipython",
    "version": 3
   },
   "file_extension": ".py",
   "mimetype": "text/x-python",
   "name": "python",
   "nbconvert_exporter": "python",
   "pygments_lexer": "ipython3",
   "version": "3.6.4"
  }
 },
 "nbformat": 4,
 "nbformat_minor": 2
}
