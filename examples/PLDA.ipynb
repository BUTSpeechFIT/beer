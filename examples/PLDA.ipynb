{
 "cells": [
  {
   "cell_type": "markdown",
   "metadata": {
    "collapsed": true
   },
   "source": [
    "# Probabilistic Linear Discriminant Analysis (PLDA)\n",
    "\n",
    "This notebook illustrate how to use a PLDA with the [beer framework](https://github.com/beer-asr/beer)."
   ]
  },
  {
   "cell_type": "code",
   "execution_count": 1,
   "metadata": {},
   "outputs": [
    {
     "data": {
      "text/html": [
       "\n",
       "    <div class=\"bk-root\">\n",
       "        <a href=\"https://bokeh.pydata.org\" target=\"_blank\" class=\"bk-logo bk-logo-small bk-logo-notebook\"></a>\n",
       "        <span id=\"c2ec7ab3-6f31-4ab9-ad5e-55a56b29e879\">Loading BokehJS ...</span>\n",
       "    </div>"
      ]
     },
     "metadata": {},
     "output_type": "display_data"
    },
    {
     "data": {
      "application/javascript": [
       "\n",
       "(function(root) {\n",
       "  function now() {\n",
       "    return new Date();\n",
       "  }\n",
       "\n",
       "  var force = true;\n",
       "\n",
       "  if (typeof (root._bokeh_onload_callbacks) === \"undefined\" || force === true) {\n",
       "    root._bokeh_onload_callbacks = [];\n",
       "    root._bokeh_is_loading = undefined;\n",
       "  }\n",
       "\n",
       "  var JS_MIME_TYPE = 'application/javascript';\n",
       "  var HTML_MIME_TYPE = 'text/html';\n",
       "  var EXEC_MIME_TYPE = 'application/vnd.bokehjs_exec.v0+json';\n",
       "  var CLASS_NAME = 'output_bokeh rendered_html';\n",
       "\n",
       "  /**\n",
       "   * Render data to the DOM node\n",
       "   */\n",
       "  function render(props, node) {\n",
       "    var script = document.createElement(\"script\");\n",
       "    node.appendChild(script);\n",
       "  }\n",
       "\n",
       "  /**\n",
       "   * Handle when an output is cleared or removed\n",
       "   */\n",
       "  function handleClearOutput(event, handle) {\n",
       "    var cell = handle.cell;\n",
       "\n",
       "    var id = cell.output_area._bokeh_element_id;\n",
       "    var server_id = cell.output_area._bokeh_server_id;\n",
       "    // Clean up Bokeh references\n",
       "    if (id !== undefined) {\n",
       "      Bokeh.index[id].model.document.clear();\n",
       "      delete Bokeh.index[id];\n",
       "    }\n",
       "\n",
       "    if (server_id !== undefined) {\n",
       "      // Clean up Bokeh references\n",
       "      var cmd = \"from bokeh.io.state import curstate; print(curstate().uuid_to_server['\" + server_id + \"'].get_sessions()[0].document.roots[0]._id)\";\n",
       "      cell.notebook.kernel.execute(cmd, {\n",
       "        iopub: {\n",
       "          output: function(msg) {\n",
       "            var element_id = msg.content.text.trim();\n",
       "            Bokeh.index[element_id].model.document.clear();\n",
       "            delete Bokeh.index[element_id];\n",
       "          }\n",
       "        }\n",
       "      });\n",
       "      // Destroy server and session\n",
       "      var cmd = \"import bokeh.io.notebook as ion; ion.destroy_server('\" + server_id + \"')\";\n",
       "      cell.notebook.kernel.execute(cmd);\n",
       "    }\n",
       "  }\n",
       "\n",
       "  /**\n",
       "   * Handle when a new output is added\n",
       "   */\n",
       "  function handleAddOutput(event, handle) {\n",
       "    var output_area = handle.output_area;\n",
       "    var output = handle.output;\n",
       "\n",
       "    // limit handleAddOutput to display_data with EXEC_MIME_TYPE content only\n",
       "    if ((output.output_type != \"display_data\") || (!output.data.hasOwnProperty(EXEC_MIME_TYPE))) {\n",
       "      return\n",
       "    }\n",
       "\n",
       "    var toinsert = output_area.element.find(\".\" + CLASS_NAME.split(' ')[0]);\n",
       "\n",
       "    if (output.metadata[EXEC_MIME_TYPE][\"id\"] !== undefined) {\n",
       "      toinsert[toinsert.length - 1].firstChild.textContent = output.data[JS_MIME_TYPE];\n",
       "      // store reference to embed id on output_area\n",
       "      output_area._bokeh_element_id = output.metadata[EXEC_MIME_TYPE][\"id\"];\n",
       "    }\n",
       "    if (output.metadata[EXEC_MIME_TYPE][\"server_id\"] !== undefined) {\n",
       "      var bk_div = document.createElement(\"div\");\n",
       "      bk_div.innerHTML = output.data[HTML_MIME_TYPE];\n",
       "      var script_attrs = bk_div.children[0].attributes;\n",
       "      for (var i = 0; i < script_attrs.length; i++) {\n",
       "        toinsert[toinsert.length - 1].firstChild.setAttribute(script_attrs[i].name, script_attrs[i].value);\n",
       "      }\n",
       "      // store reference to server id on output_area\n",
       "      output_area._bokeh_server_id = output.metadata[EXEC_MIME_TYPE][\"server_id\"];\n",
       "    }\n",
       "  }\n",
       "\n",
       "  function register_renderer(events, OutputArea) {\n",
       "\n",
       "    function append_mime(data, metadata, element) {\n",
       "      // create a DOM node to render to\n",
       "      var toinsert = this.create_output_subarea(\n",
       "        metadata,\n",
       "        CLASS_NAME,\n",
       "        EXEC_MIME_TYPE\n",
       "      );\n",
       "      this.keyboard_manager.register_events(toinsert);\n",
       "      // Render to node\n",
       "      var props = {data: data, metadata: metadata[EXEC_MIME_TYPE]};\n",
       "      render(props, toinsert[toinsert.length - 1]);\n",
       "      element.append(toinsert);\n",
       "      return toinsert\n",
       "    }\n",
       "\n",
       "    /* Handle when an output is cleared or removed */\n",
       "    events.on('clear_output.CodeCell', handleClearOutput);\n",
       "    events.on('delete.Cell', handleClearOutput);\n",
       "\n",
       "    /* Handle when a new output is added */\n",
       "    events.on('output_added.OutputArea', handleAddOutput);\n",
       "\n",
       "    /**\n",
       "     * Register the mime type and append_mime function with output_area\n",
       "     */\n",
       "    OutputArea.prototype.register_mime_type(EXEC_MIME_TYPE, append_mime, {\n",
       "      /* Is output safe? */\n",
       "      safe: true,\n",
       "      /* Index of renderer in `output_area.display_order` */\n",
       "      index: 0\n",
       "    });\n",
       "  }\n",
       "\n",
       "  // register the mime type if in Jupyter Notebook environment and previously unregistered\n",
       "  if (root.Jupyter !== undefined) {\n",
       "    var events = require('base/js/events');\n",
       "    var OutputArea = require('notebook/js/outputarea').OutputArea;\n",
       "\n",
       "    if (OutputArea.prototype.mime_types().indexOf(EXEC_MIME_TYPE) == -1) {\n",
       "      register_renderer(events, OutputArea);\n",
       "    }\n",
       "  }\n",
       "\n",
       "  \n",
       "  if (typeof (root._bokeh_timeout) === \"undefined\" || force === true) {\n",
       "    root._bokeh_timeout = Date.now() + 5000;\n",
       "    root._bokeh_failed_load = false;\n",
       "  }\n",
       "\n",
       "  var NB_LOAD_WARNING = {'data': {'text/html':\n",
       "     \"<div style='background-color: #fdd'>\\n\"+\n",
       "     \"<p>\\n\"+\n",
       "     \"BokehJS does not appear to have successfully loaded. If loading BokehJS from CDN, this \\n\"+\n",
       "     \"may be due to a slow or bad network connection. Possible fixes:\\n\"+\n",
       "     \"</p>\\n\"+\n",
       "     \"<ul>\\n\"+\n",
       "     \"<li>re-rerun `output_notebook()` to attempt to load from CDN again, or</li>\\n\"+\n",
       "     \"<li>use INLINE resources instead, as so:</li>\\n\"+\n",
       "     \"</ul>\\n\"+\n",
       "     \"<code>\\n\"+\n",
       "     \"from bokeh.resources import INLINE\\n\"+\n",
       "     \"output_notebook(resources=INLINE)\\n\"+\n",
       "     \"</code>\\n\"+\n",
       "     \"</div>\"}};\n",
       "\n",
       "  function display_loaded() {\n",
       "    var el = document.getElementById(\"c2ec7ab3-6f31-4ab9-ad5e-55a56b29e879\");\n",
       "    if (el != null) {\n",
       "      el.textContent = \"BokehJS is loading...\";\n",
       "    }\n",
       "    if (root.Bokeh !== undefined) {\n",
       "      if (el != null) {\n",
       "        el.textContent = \"BokehJS \" + root.Bokeh.version + \" successfully loaded.\";\n",
       "      }\n",
       "    } else if (Date.now() < root._bokeh_timeout) {\n",
       "      setTimeout(display_loaded, 100)\n",
       "    }\n",
       "  }\n",
       "\n",
       "\n",
       "  function run_callbacks() {\n",
       "    try {\n",
       "      root._bokeh_onload_callbacks.forEach(function(callback) { callback() });\n",
       "    }\n",
       "    finally {\n",
       "      delete root._bokeh_onload_callbacks\n",
       "    }\n",
       "    console.info(\"Bokeh: all callbacks have finished\");\n",
       "  }\n",
       "\n",
       "  function load_libs(js_urls, callback) {\n",
       "    root._bokeh_onload_callbacks.push(callback);\n",
       "    if (root._bokeh_is_loading > 0) {\n",
       "      console.log(\"Bokeh: BokehJS is being loaded, scheduling callback at\", now());\n",
       "      return null;\n",
       "    }\n",
       "    if (js_urls == null || js_urls.length === 0) {\n",
       "      run_callbacks();\n",
       "      return null;\n",
       "    }\n",
       "    console.log(\"Bokeh: BokehJS not loaded, scheduling load and callback at\", now());\n",
       "    root._bokeh_is_loading = js_urls.length;\n",
       "    for (var i = 0; i < js_urls.length; i++) {\n",
       "      var url = js_urls[i];\n",
       "      var s = document.createElement('script');\n",
       "      s.src = url;\n",
       "      s.async = false;\n",
       "      s.onreadystatechange = s.onload = function() {\n",
       "        root._bokeh_is_loading--;\n",
       "        if (root._bokeh_is_loading === 0) {\n",
       "          console.log(\"Bokeh: all BokehJS libraries loaded\");\n",
       "          run_callbacks()\n",
       "        }\n",
       "      };\n",
       "      s.onerror = function() {\n",
       "        console.warn(\"failed to load library \" + url);\n",
       "      };\n",
       "      console.log(\"Bokeh: injecting script tag for BokehJS library: \", url);\n",
       "      document.getElementsByTagName(\"head\")[0].appendChild(s);\n",
       "    }\n",
       "  };var element = document.getElementById(\"c2ec7ab3-6f31-4ab9-ad5e-55a56b29e879\");\n",
       "  if (element == null) {\n",
       "    console.log(\"Bokeh: ERROR: autoload.js configured with elementid 'c2ec7ab3-6f31-4ab9-ad5e-55a56b29e879' but no matching script tag was found. \")\n",
       "    return false;\n",
       "  }\n",
       "\n",
       "  var js_urls = [\"https://cdn.pydata.org/bokeh/release/bokeh-0.12.16.min.js\", \"https://cdn.pydata.org/bokeh/release/bokeh-widgets-0.12.16.min.js\", \"https://cdn.pydata.org/bokeh/release/bokeh-tables-0.12.16.min.js\", \"https://cdn.pydata.org/bokeh/release/bokeh-gl-0.12.16.min.js\"];\n",
       "\n",
       "  var inline_js = [\n",
       "    function(Bokeh) {\n",
       "      Bokeh.set_log_level(\"info\");\n",
       "    },\n",
       "    \n",
       "    function(Bokeh) {\n",
       "      \n",
       "    },\n",
       "    function(Bokeh) {\n",
       "      console.log(\"Bokeh: injecting CSS: https://cdn.pydata.org/bokeh/release/bokeh-0.12.16.min.css\");\n",
       "      Bokeh.embed.inject_css(\"https://cdn.pydata.org/bokeh/release/bokeh-0.12.16.min.css\");\n",
       "      console.log(\"Bokeh: injecting CSS: https://cdn.pydata.org/bokeh/release/bokeh-widgets-0.12.16.min.css\");\n",
       "      Bokeh.embed.inject_css(\"https://cdn.pydata.org/bokeh/release/bokeh-widgets-0.12.16.min.css\");\n",
       "      console.log(\"Bokeh: injecting CSS: https://cdn.pydata.org/bokeh/release/bokeh-tables-0.12.16.min.css\");\n",
       "      Bokeh.embed.inject_css(\"https://cdn.pydata.org/bokeh/release/bokeh-tables-0.12.16.min.css\");\n",
       "    }\n",
       "  ];\n",
       "\n",
       "  function run_inline_js() {\n",
       "    \n",
       "    if ((root.Bokeh !== undefined) || (force === true)) {\n",
       "      for (var i = 0; i < inline_js.length; i++) {\n",
       "        inline_js[i].call(root, root.Bokeh);\n",
       "      }if (force === true) {\n",
       "        display_loaded();\n",
       "      }} else if (Date.now() < root._bokeh_timeout) {\n",
       "      setTimeout(run_inline_js, 100);\n",
       "    } else if (!root._bokeh_failed_load) {\n",
       "      console.log(\"Bokeh: BokehJS failed to load within specified timeout.\");\n",
       "      root._bokeh_failed_load = true;\n",
       "    } else if (force !== true) {\n",
       "      var cell = $(document.getElementById(\"c2ec7ab3-6f31-4ab9-ad5e-55a56b29e879\")).parents('.cell').data().cell;\n",
       "      cell.output_area.append_execute_result(NB_LOAD_WARNING)\n",
       "    }\n",
       "\n",
       "  }\n",
       "\n",
       "  if (root._bokeh_is_loading === 0) {\n",
       "    console.log(\"Bokeh: BokehJS loaded, going straight to plotting\");\n",
       "    run_inline_js();\n",
       "  } else {\n",
       "    load_libs(js_urls, function() {\n",
       "      console.log(\"Bokeh: BokehJS plotting callback run at\", now());\n",
       "      run_inline_js();\n",
       "    });\n",
       "  }\n",
       "}(window));"
      ],
      "application/vnd.bokehjs_load.v0+json": "\n(function(root) {\n  function now() {\n    return new Date();\n  }\n\n  var force = true;\n\n  if (typeof (root._bokeh_onload_callbacks) === \"undefined\" || force === true) {\n    root._bokeh_onload_callbacks = [];\n    root._bokeh_is_loading = undefined;\n  }\n\n  \n\n  \n  if (typeof (root._bokeh_timeout) === \"undefined\" || force === true) {\n    root._bokeh_timeout = Date.now() + 5000;\n    root._bokeh_failed_load = false;\n  }\n\n  var NB_LOAD_WARNING = {'data': {'text/html':\n     \"<div style='background-color: #fdd'>\\n\"+\n     \"<p>\\n\"+\n     \"BokehJS does not appear to have successfully loaded. If loading BokehJS from CDN, this \\n\"+\n     \"may be due to a slow or bad network connection. Possible fixes:\\n\"+\n     \"</p>\\n\"+\n     \"<ul>\\n\"+\n     \"<li>re-rerun `output_notebook()` to attempt to load from CDN again, or</li>\\n\"+\n     \"<li>use INLINE resources instead, as so:</li>\\n\"+\n     \"</ul>\\n\"+\n     \"<code>\\n\"+\n     \"from bokeh.resources import INLINE\\n\"+\n     \"output_notebook(resources=INLINE)\\n\"+\n     \"</code>\\n\"+\n     \"</div>\"}};\n\n  function display_loaded() {\n    var el = document.getElementById(\"c2ec7ab3-6f31-4ab9-ad5e-55a56b29e879\");\n    if (el != null) {\n      el.textContent = \"BokehJS is loading...\";\n    }\n    if (root.Bokeh !== undefined) {\n      if (el != null) {\n        el.textContent = \"BokehJS \" + root.Bokeh.version + \" successfully loaded.\";\n      }\n    } else if (Date.now() < root._bokeh_timeout) {\n      setTimeout(display_loaded, 100)\n    }\n  }\n\n\n  function run_callbacks() {\n    try {\n      root._bokeh_onload_callbacks.forEach(function(callback) { callback() });\n    }\n    finally {\n      delete root._bokeh_onload_callbacks\n    }\n    console.info(\"Bokeh: all callbacks have finished\");\n  }\n\n  function load_libs(js_urls, callback) {\n    root._bokeh_onload_callbacks.push(callback);\n    if (root._bokeh_is_loading > 0) {\n      console.log(\"Bokeh: BokehJS is being loaded, scheduling callback at\", now());\n      return null;\n    }\n    if (js_urls == null || js_urls.length === 0) {\n      run_callbacks();\n      return null;\n    }\n    console.log(\"Bokeh: BokehJS not loaded, scheduling load and callback at\", now());\n    root._bokeh_is_loading = js_urls.length;\n    for (var i = 0; i < js_urls.length; i++) {\n      var url = js_urls[i];\n      var s = document.createElement('script');\n      s.src = url;\n      s.async = false;\n      s.onreadystatechange = s.onload = function() {\n        root._bokeh_is_loading--;\n        if (root._bokeh_is_loading === 0) {\n          console.log(\"Bokeh: all BokehJS libraries loaded\");\n          run_callbacks()\n        }\n      };\n      s.onerror = function() {\n        console.warn(\"failed to load library \" + url);\n      };\n      console.log(\"Bokeh: injecting script tag for BokehJS library: \", url);\n      document.getElementsByTagName(\"head\")[0].appendChild(s);\n    }\n  };var element = document.getElementById(\"c2ec7ab3-6f31-4ab9-ad5e-55a56b29e879\");\n  if (element == null) {\n    console.log(\"Bokeh: ERROR: autoload.js configured with elementid 'c2ec7ab3-6f31-4ab9-ad5e-55a56b29e879' but no matching script tag was found. \")\n    return false;\n  }\n\n  var js_urls = [\"https://cdn.pydata.org/bokeh/release/bokeh-0.12.16.min.js\", \"https://cdn.pydata.org/bokeh/release/bokeh-widgets-0.12.16.min.js\", \"https://cdn.pydata.org/bokeh/release/bokeh-tables-0.12.16.min.js\", \"https://cdn.pydata.org/bokeh/release/bokeh-gl-0.12.16.min.js\"];\n\n  var inline_js = [\n    function(Bokeh) {\n      Bokeh.set_log_level(\"info\");\n    },\n    \n    function(Bokeh) {\n      \n    },\n    function(Bokeh) {\n      console.log(\"Bokeh: injecting CSS: https://cdn.pydata.org/bokeh/release/bokeh-0.12.16.min.css\");\n      Bokeh.embed.inject_css(\"https://cdn.pydata.org/bokeh/release/bokeh-0.12.16.min.css\");\n      console.log(\"Bokeh: injecting CSS: https://cdn.pydata.org/bokeh/release/bokeh-widgets-0.12.16.min.css\");\n      Bokeh.embed.inject_css(\"https://cdn.pydata.org/bokeh/release/bokeh-widgets-0.12.16.min.css\");\n      console.log(\"Bokeh: injecting CSS: https://cdn.pydata.org/bokeh/release/bokeh-tables-0.12.16.min.css\");\n      Bokeh.embed.inject_css(\"https://cdn.pydata.org/bokeh/release/bokeh-tables-0.12.16.min.css\");\n    }\n  ];\n\n  function run_inline_js() {\n    \n    if ((root.Bokeh !== undefined) || (force === true)) {\n      for (var i = 0; i < inline_js.length; i++) {\n        inline_js[i].call(root, root.Bokeh);\n      }if (force === true) {\n        display_loaded();\n      }} else if (Date.now() < root._bokeh_timeout) {\n      setTimeout(run_inline_js, 100);\n    } else if (!root._bokeh_failed_load) {\n      console.log(\"Bokeh: BokehJS failed to load within specified timeout.\");\n      root._bokeh_failed_load = true;\n    } else if (force !== true) {\n      var cell = $(document.getElementById(\"c2ec7ab3-6f31-4ab9-ad5e-55a56b29e879\")).parents('.cell').data().cell;\n      cell.output_area.append_execute_result(NB_LOAD_WARNING)\n    }\n\n  }\n\n  if (root._bokeh_is_loading === 0) {\n    console.log(\"Bokeh: BokehJS loaded, going straight to plotting\");\n    run_inline_js();\n  } else {\n    load_libs(js_urls, function() {\n      console.log(\"Bokeh: BokehJS plotting callback run at\", now());\n      run_inline_js();\n    });\n  }\n}(window));"
     },
     "metadata": {},
     "output_type": "display_data"
    }
   ],
   "source": [
    "%load_ext autoreload\n",
    "%autoreload 2\n",
    "\n",
    "# Add the path of the beer source code ot the PYTHONPATH.\n",
    "import sys\n",
    "sys.path.insert(0, '../')\n",
    "\n",
    "\n",
    "import numpy as np\n",
    "import torch\n",
    "import torch.optim\n",
    "\n",
    "from torch import nn\n",
    "from torch.autograd import Variable\n",
    "\n",
    "\n",
    "# For plotting.\n",
    "from bokeh.io import show, output_notebook\n",
    "from bokeh.plotting import figure, gridplot\n",
    "from bokeh.models import LinearAxis, Range1d\n",
    "\n",
    "# Beer framework\n",
    "import beer\n",
    "\n",
    "# Convenience functions for plotting.\n",
    "import plotting\n",
    "\n",
    "output_notebook(verbose=False)"
   ]
  },
  {
   "cell_type": "markdown",
   "metadata": {},
   "source": [
    "## Data "
   ]
  },
  {
   "cell_type": "code",
   "execution_count": 2,
   "metadata": {
    "scrolled": false
   },
   "outputs": [
    {
     "data": {
      "text/html": [
       "\n",
       "<div class=\"bk-root\">\n",
       "    <div class=\"bk-plotdiv\" id=\"e0a5edab-b5c4-45b2-81a6-84fe8dbf5dac\"></div>\n",
       "</div>"
      ]
     },
     "metadata": {},
     "output_type": "display_data"
    },
    {
     "data": {
      "application/javascript": [
       "(function(root) {\n",
       "  function embed_document(root) {\n",
       "    \n",
       "  var docs_json = {\"68a5f096-a9e9-4c17-84ea-7f48d3292173\":{\"roots\":{\"references\":[{\"attributes\":{\"active_drag\":\"auto\",\"active_inspect\":\"auto\",\"active_scroll\":\"auto\",\"active_tap\":\"auto\",\"tools\":[{\"id\":\"f00fbcb0-ffb9-48af-a4d5-64be4a2a5302\",\"type\":\"PanTool\"},{\"id\":\"9bc0faf5-884b-4d7f-bf1c-8220559d3d71\",\"type\":\"WheelZoomTool\"},{\"id\":\"5005fedd-9ce4-4742-9440-f63fb53a95e5\",\"type\":\"BoxZoomTool\"},{\"id\":\"59b12885-ff90-4120-9185-ace3e9c6843c\",\"type\":\"SaveTool\"},{\"id\":\"d56e8729-ad9a-4971-8257-15bcce026e6d\",\"type\":\"ResetTool\"},{\"id\":\"091a48fb-e345-444e-8d7b-308c8b472154\",\"type\":\"HelpTool\"}]},\"id\":\"e87a71b3-97ff-41ea-8eaa-1056271c5ae2\",\"type\":\"Toolbar\"},{\"attributes\":{},\"id\":\"190c1c69-dc3e-435f-8432-712537c248ed\",\"type\":\"Selection\"},{\"attributes\":{},\"id\":\"ad8f74ee-ab3c-44ec-a264-165027265607\",\"type\":\"LinearScale\"},{\"attributes\":{\"callback\":null,\"data\":{\"x\":{\"__ndarray__\":\"K7U5OuhPWUCsuUTe+eJYQCPlwEBV91hAXQ8zrEo1WUBK8Lj6piVZQFmStYly2FhANlv1SMLfWEDroZYiEfNYQCaJwWfYdVlATHDZcIB3WUCXKargsJpYQAFrDEofHllAASSTF9ASWUCqR2vURw1ZQJ4SWZwCvlhA0xlISUvFWEADgz5kuihZQFqWhDLksVhARhyDy55BWUBhAyZ4glhZQPnXplFLzVhAHsSZ1idlWUA/4Uu+n39YQBOso/bds1lAj3zj+05kWUDOL3dmY/RYQKy1eEWU8VhAZvWkI4FQWUBXzZaov9tYQDARgfCbAFlA6+bbmwbaWEAlo/L7AxBZQDEHN6Tp0FhAWwJ+VfgnWUBkMlawqOdYQEszKGEd7lhA99TlYdAiWUBqwalx39pYQNulxXZwEVlA+BfQAxMGWUDMiZnlfENZQDoIvLyEc1lAInJ8rLALWUCOmz/vGphZQLc+T8CON1lABfXXClarWUAKdESIhwxZQJAyscuavVhABKwFbNnZWEChjQEJgztZQGE8V0Vk41hAiXcnwnKWWEBwWExzNeNYQJ3X38EUellAo4pcZ87nWEASNXQFZe9YQNRNSPrhAVlA+xN4edYmWUDBkwNLculYQJ50QUkHRFlA0qFr5k+vWECDVq1tRAlZQBKPkBffrFhA+FZ21gLgWECA3AHX09ZYQEgeW+0HAllAMnADIOdEWUCpTxu9bjVZQO/9HJteUVlA8oDfo1yfWEAEofOcUyBZQGNn4yzvTllAf9NZnVA0WUD7l6nTXxFZQKGU7wcGylhAv4CcdgnoWEDDvjTu7i9ZQEmk53vK6lhAS7hAdYi3WEDcxPN7ZFhZQJ5Cdos+TVlA8pQ2H3C6WEBkgYOWsMJYQFC3aj16JllA1peueg65WEB8NQoJ+7lYQFefPMDNC1lA4JnUdfoHWUDyndg2ZNxYQPHr5vYP7VhArAvE/KwHWUCs0jsOa21ZQEkMfRT5IllA/3RtkVlEWUDD0I3elmdYQDSlIfIygFhAoraeASYWWUDDu8yKbfpYQLKo0qmF51hAEfrVrlG+WEA=\",\"dtype\":\"float64\",\"shape\":[100]},\"y\":{\"__ndarray__\":\"FWJEuSGSWEBeqItMRwBZQAVgRamIKVlA1sUu6KsgWUC5sPiJXgdZQHjibYrdSllA5h5M5ymnWEBmKSnUL4JZQKIovjMJrFhAFM1QpzkOWUAB8J/3RvtYQI/uYS2mT1hADWjwbw3PWEBnaEnjOa5YQBmfoYeCH1lAfU7Pi7nxWUAHuczoWMlYQMjBf+Vv3FhA8UG4xcVmWUAAwMqxp8NYQJwHw5P//lhAQ3sY5SZEWUCLI7Jodt9YQIml1fkuhlhAKCknWEJtWEDdMcgYLZVYQPX2Sl1Pa1lAFyXnNcwTWUAs65gpHWZZQLehN1NrxVhAuJFX+jywWECU5FOr7XpZQCAS1Yj0/FhA1q0k2KfEWEASNKQDMnRZQHy7ZpUw2lhAvDcgVnQeWUC1lfrI2Z1YQCNA/R1kIFlAom1LtEsXWUAxts6rlhFZQBde9lU5GVlAyEg0V21YWUA+cIeg4QVZQPY3VPZ88lhA0C3RnW4jWECPS6zTrfZYQKhONvIsb1lAbcqEaJzKWEAyXkzJga9YQG/rfuHrIllAVnkU6TfcWEA2cH8myHVZQOjoFptGjlhA5HpBfBUbWUBr72P0R2pYQG9v20wXslhA8JWOEBWSWEBId0i9fAlZQFJu8QbkrVhA4HWCF5LtWECF7jesUtRYQJ7gWbjonFhAhUaQOKEfWUBc8dw9/ClZQI+VhxuoyVhAWbrcQRrvWEBZJ32bfKBYQH2xTIxjkFhAEEipSmzUWUDV9D2EZQtZQO1is0VoolhA3dgZe6xoWUCTH6bsFalYQE2R6PkO+VhAyktTCL9YWUD4weirFS5ZQJ6f2YtSyFhA3UwPstO+WUDqQNvH4AdZQF7IemF1b1hA3mLFI95QWUDGCIly2YdZQHSiEPn93FhAAKwYXlUEWUA3bmObYm5ZQBGahKJe3lhAXstT6mIiWEDZ1BeOhvlYQJR8b489elhAcJD9UKdcWEC/nwv6ALZYQJej8A1VAFlA/pPX3HzwWEDmbAlCyrFZQHqQ1aYxOllAnn2sAtPeWEAYipiU4nNZQIdtRoaJUFlAgUrvcSG9WEA=\",\"dtype\":\"float64\",\"shape\":[100]}},\"selected\":{\"id\":\"1f8d4b23-cfc3-4837-a924-156eecb11d9d\",\"type\":\"Selection\"},\"selection_policy\":{\"id\":\"7dc9dbef-9c6b-4e77-bc31-9edd2fe04a72\",\"type\":\"UnionRenderers\"}},\"id\":\"089ded33-4c80-4499-936f-fb3256cdd771\",\"type\":\"ColumnDataSource\"},{\"attributes\":{},\"id\":\"87c1e128-6735-4e5f-b7bc-fb44c396ec3b\",\"type\":\"UnionRenderers\"},{\"attributes\":{\"callback\":null,\"end\":110,\"start\":90},\"id\":\"846e9b8f-522e-48b8-8cbe-4e46c925fe29\",\"type\":\"Range1d\"},{\"attributes\":{},\"id\":\"a9954d99-2a43-4f9b-a5f2-7cb2b810c43f\",\"type\":\"LinearScale\"},{\"attributes\":{\"plot\":{\"id\":\"f1fda741-7133-41ae-9516-51c1709892e8\",\"subtype\":\"Figure\",\"type\":\"Plot\"},\"ticker\":{\"id\":\"aaabef67-928d-45ef-9f32-593ff388b06f\",\"type\":\"BasicTicker\"}},\"id\":\"e61061d0-3752-4f7d-b986-9ef3b7016363\",\"type\":\"Grid\"},{\"attributes\":{},\"id\":\"aaabef67-928d-45ef-9f32-593ff388b06f\",\"type\":\"BasicTicker\"},{\"attributes\":{\"formatter\":{\"id\":\"7faa7c94-a4bd-4d9a-b598-3d598b5c03a3\",\"type\":\"BasicTickFormatter\"},\"plot\":{\"id\":\"f1fda741-7133-41ae-9516-51c1709892e8\",\"subtype\":\"Figure\",\"type\":\"Plot\"},\"ticker\":{\"id\":\"85e826ef-48bc-4cc1-9bf2-bc099e305d9f\",\"type\":\"BasicTicker\"}},\"id\":\"25215006-2661-480a-b1f9-d73efd277998\",\"type\":\"LinearAxis\"},{\"attributes\":{},\"id\":\"85e826ef-48bc-4cc1-9bf2-bc099e305d9f\",\"type\":\"BasicTicker\"},{\"attributes\":{\"dimension\":1,\"plot\":{\"id\":\"f1fda741-7133-41ae-9516-51c1709892e8\",\"subtype\":\"Figure\",\"type\":\"Plot\"},\"ticker\":{\"id\":\"85e826ef-48bc-4cc1-9bf2-bc099e305d9f\",\"type\":\"BasicTicker\"}},\"id\":\"332da232-d03c-4a56-8eec-054a7dd8d6a1\",\"type\":\"Grid\"},{\"attributes\":{\"bottom_units\":\"screen\",\"fill_alpha\":{\"value\":0.5},\"fill_color\":{\"value\":\"lightgrey\"},\"left_units\":\"screen\",\"level\":\"overlay\",\"line_alpha\":{\"value\":1.0},\"line_color\":{\"value\":\"black\"},\"line_dash\":[4,4],\"line_width\":{\"value\":2},\"plot\":null,\"render_mode\":\"css\",\"right_units\":\"screen\",\"top_units\":\"screen\"},\"id\":\"205e567e-37dd-448e-85f8-15943239b18c\",\"type\":\"BoxAnnotation\"},{\"attributes\":{\"callback\":null,\"data\":{\"x\":{\"__ndarray__\":\"wnwQ/qCgWkDnLqvQcfdZQAZsH7+McFpAt4C6D6BUWkDnj/LIRLRaQPN0z4Uf/1lANpCirlgoWkDJK0MFbyRaQNSWBxFADVpA/7uh+3sHWkDZplIbkpRaQMpWsL8aLFpAUfqtfik2WkDKP4Jm4OpZQDgOrcu7M1pAT7+FyPPfWUAWr8YGRz5aQH6IoOkIi1pADnneNstLWkDtzk5IU59aQCjaEepOYFpA3lMO1/IIWkDgbhq1WOVZQBAvOmQW61lAHIj6fqUxWkDogo411fRZQP81x/8FuFpADQoosM5lWkCmfW1N6XNaQId08iOSUFpAuqAF+skqWkA6NEIO5ERaQBEE/054KFpAkrDFusMuWkBg4wr+TgVaQMsSCAUs/1lAv1J+5jihWkB/949nFVNaQIJboB3dWVpAupKHvUMsWkCii+lffH9aQEo296eZL1pArDTZZPBCWkCpzyZRn59aQLGDpZLRKVpAZw8VccPOWkDPClqICxRaQJIgW5ldOFpAkkG16L5FWkDyXKtTNS1aQLBSAYIaTVpANTNKgPmxWkDckn8lYFdaQBqvL6WxA1pA2EKOnmj9WUDniOlfvfpZQL6l6NxqB1pAToSH+txwWkCpfPagsl1aQCIhbkwawllAUouX2D7PWkALQNMc34FaQHmGbaeMHFpAGW+PWjs7WkDhz/aCF3haQEZCxyBFQVpAS8+q82mYWkBKbk2t1kdaQKHyKX2fSVpAuYBZjEk2WkD/S8IJw2xaQAJf/+HwGlpAXEeZfbBzWkD8np/+LuFaQCP4OyCPdVpAaNLQJl0pWkCGvUGzFfpZQHDN6w3nFlpAZm6lPHp5WkCi2mDAnppaQFqHb8Yr5FlAeOk1ZXyyWkAYwqnR/nhaQCCbPrLyMVpAC0i7Kfo+WkDRcL7XtSNaQIc3Y82GOVpASzx55TEZWkB382yYL2taQJjBmUZP0VlAFHReJdvcWUBVadt750BaQFh1XNC/IVpAthJdlw2lWkC5QetinUFaQNepOXLJBVpAH3hFB/D9WUB4aBDEE/9aQCGQrI83dllAT713cog1WkA=\",\"dtype\":\"float64\",\"shape\":[100]},\"y\":{\"__ndarray__\":\"p3tp1VfsV0DzxKJitSxZQKGpwl4t21lAh69t6hDcWECBjOQxHvFYQFPHsdNHD1lA5+oZDPWxWEDENCvl3R9aQMgL/nPWCllALKzxIoLAWUCN68f4jYVZQKogSoK5QFlAPnhMzbaEWUDgGXlcPe1ZQGaL1KXYlFlAB44bQz0rWUBHK6ccr5JYQC6SMBsP9lhAfFFDO0X2WEDdmHQzG7JZQFU8lZus5FhAlDlJ3+8MWkBeVQ3LtE9ZQMlCkhp9bFlAfuESiglnWUCcwAkLnLdZQIwxFHPMu1lAjTJK1rI4WUC9fGmSnfNYQMAXCv3EaVlAb9SsAAFzWUD6ovyB8LZZQK17MsgxaFlATXd/f2RJWUD7PYZDhqpYQCKrJMRKR1lAiNSQaSoWWUAoRlWy/3pZQMozdTEaPllA8yGdR28aWUBYcUM1PUpZQH2ClcLlg1lAyW6DZrPEWEAFQ7lKJ3xYQCs5+8Urm1lAKpSks4fnWED66H40hXdZQP81sbdceFlAVh0WRdazWUDdQYUm1LRYQKiXzfJtTllAxCkICANHWUB1D3SqwtFYQG4esi/akllA+cCOaKctWUAD2QhkQ/ZZQGRsO4f9Y1lApahZ47f7WUAdFis+5AtZQJnOA5JlX1lAXsrlIvgqWEBWKDVVi/FYQCafdyA051lA/OUca5vfWEAj3iAaWC9ZQOh2KydKyFlAik8YVqcFWUA7Xya8lr5ZQEy7eVSjmFlAfGZBYSkxWUCh2eagRVJYQKNDtUCyDVlActz37X3nWEBjtuxw7/JYQFex+rEGlllAORNgHgKqWUBLOt6yD99YQDhIrpOwHFlAEpffskAOWUB2SgnRamRZQB5npO2bClpAwphYsDSAWUBw8Sx5mSxZQKW0zKIFiVlAX4OhW+75WEAgoFT43HZZQFC/7NVA91hALpAZ+PXMWUCBJnaRTBVZQI35Ne2ogVlACOiA0c88WUA11tr6XHVZQP8+aO8Ab1lAIXK7/RacWUDCcfSIhBVZQF+LJ+lEC1lAIpj5t2ItWEB/vlXbqWNZQDgmZEl/IFpAfxNx/KV/WUA=\",\"dtype\":\"float64\",\"shape\":[100]}},\"selected\":{\"id\":\"48f84185-8eba-4bc4-8464-5d971d18d3bf\",\"type\":\"Selection\"},\"selection_policy\":{\"id\":\"dd9e6bc0-1b98-49e4-ad02-8c0a4f35ca19\",\"type\":\"UnionRenderers\"}},\"id\":\"8ce191b5-708a-4791-89c6-b7be1b2352f5\",\"type\":\"ColumnDataSource\"},{\"attributes\":{},\"id\":\"f00fbcb0-ffb9-48af-a4d5-64be4a2a5302\",\"type\":\"PanTool\"},{\"attributes\":{},\"id\":\"9bc0faf5-884b-4d7f-bf1c-8220559d3d71\",\"type\":\"WheelZoomTool\"},{\"attributes\":{\"overlay\":{\"id\":\"205e567e-37dd-448e-85f8-15943239b18c\",\"type\":\"BoxAnnotation\"}},\"id\":\"5005fedd-9ce4-4742-9440-f63fb53a95e5\",\"type\":\"BoxZoomTool\"},{\"attributes\":{\"source\":{\"id\":\"8ce191b5-708a-4791-89c6-b7be1b2352f5\",\"type\":\"ColumnDataSource\"}},\"id\":\"3ecf5cec-4084-4606-ba4b-db9be22c6bfd\",\"type\":\"CDSView\"},{\"attributes\":{},\"id\":\"59b12885-ff90-4120-9185-ace3e9c6843c\",\"type\":\"SaveTool\"},{\"attributes\":{},\"id\":\"d56e8729-ad9a-4971-8257-15bcce026e6d\",\"type\":\"ResetTool\"},{\"attributes\":{},\"id\":\"091a48fb-e345-444e-8d7b-308c8b472154\",\"type\":\"HelpTool\"},{\"attributes\":{\"data_source\":{\"id\":\"8ce191b5-708a-4791-89c6-b7be1b2352f5\",\"type\":\"ColumnDataSource\"},\"glyph\":{\"id\":\"8c501df9-8a8f-4853-87c0-8dccbc9c2bdd\",\"type\":\"Circle\"},\"hover_glyph\":null,\"muted_glyph\":null,\"nonselection_glyph\":{\"id\":\"e6d82d63-1796-4ae4-b51d-44d5228aff77\",\"type\":\"Circle\"},\"selection_glyph\":null,\"view\":{\"id\":\"3ecf5cec-4084-4606-ba4b-db9be22c6bfd\",\"type\":\"CDSView\"}},\"id\":\"7aa8f2f3-fa3f-453e-bd2f-f4e3940862d5\",\"type\":\"GlyphRenderer\"},{\"attributes\":{\"fill_alpha\":{\"value\":0.1},\"fill_color\":{\"value\":\"#1f77b4\"},\"line_alpha\":{\"value\":0.1},\"line_color\":{\"value\":\"#1f77b4\"},\"x\":{\"field\":\"x\"},\"y\":{\"field\":\"y\"}},\"id\":\"fd87756c-cef0-4ca0-a0e8-11ec6446df0b\",\"type\":\"Circle\"},{\"attributes\":{\"fill_alpha\":{\"value\":0.1},\"fill_color\":{\"value\":\"#1f77b4\"},\"line_alpha\":{\"value\":0.1},\"line_color\":{\"value\":\"#1f77b4\"},\"x\":{\"field\":\"x\"},\"y\":{\"field\":\"y\"}},\"id\":\"206fd55b-8801-4e84-9501-78813061fd47\",\"type\":\"Circle\"},{\"attributes\":{\"fill_alpha\":{\"value\":0.1},\"fill_color\":{\"value\":\"#1f77b4\"},\"line_alpha\":{\"value\":0.1},\"line_color\":{\"value\":\"#1f77b4\"},\"x\":{\"field\":\"x\"},\"y\":{\"field\":\"y\"}},\"id\":\"e6d82d63-1796-4ae4-b51d-44d5228aff77\",\"type\":\"Circle\"},{\"attributes\":{\"source\":{\"id\":\"089ded33-4c80-4499-936f-fb3256cdd771\",\"type\":\"ColumnDataSource\"}},\"id\":\"09e16512-a642-405c-afda-e72d610e978f\",\"type\":\"CDSView\"},{\"attributes\":{\"data_source\":{\"id\":\"089ded33-4c80-4499-936f-fb3256cdd771\",\"type\":\"ColumnDataSource\"},\"glyph\":{\"id\":\"b6cf0dae-5033-4465-b3ea-6d72afad3499\",\"type\":\"Circle\"},\"hover_glyph\":null,\"muted_glyph\":null,\"nonselection_glyph\":{\"id\":\"fd87756c-cef0-4ca0-a0e8-11ec6446df0b\",\"type\":\"Circle\"},\"selection_glyph\":null,\"view\":{\"id\":\"09e16512-a642-405c-afda-e72d610e978f\",\"type\":\"CDSView\"}},\"id\":\"5ab7f2c8-cd65-4888-a5b1-d919b9e8a43e\",\"type\":\"GlyphRenderer\"},{\"attributes\":{\"formatter\":{\"id\":\"457c2c2f-5d30-4459-89e6-fddf6f3e11e8\",\"type\":\"BasicTickFormatter\"},\"plot\":{\"id\":\"f1fda741-7133-41ae-9516-51c1709892e8\",\"subtype\":\"Figure\",\"type\":\"Plot\"},\"ticker\":{\"id\":\"aaabef67-928d-45ef-9f32-593ff388b06f\",\"type\":\"BasicTicker\"}},\"id\":\"2b2d4e01-ce18-4896-b819-4cc0f155b4ba\",\"type\":\"LinearAxis\"},{\"attributes\":{\"callback\":null,\"data\":{\"x\":{\"__ndarray__\":\"gMYPF7kcWECcFOamX8VXQC6hRznBlldABulqwbR5V0Bh0VTlRohXQN7RoNnarFdAMu7ZOd7DV0Bi1Hep6gJYQNPTvg+ia1dAnsV/4aFxV0CieFmmwKZXQAMHERi5IVhAsxyL6aIAWECSE+nmkCtYQJj0zyuG6FdAhLz0MdiuV0BFtB+IU0pYQI2y7Rf+yldAjMsxltyuV0ArEzHrVxlYQOsftTrglFdAnnqZdy6OV0As8uYd4llXQACr3NLB3VdAXo1/Nsh6V0Bqxn6EnbVXQH+U7TWqZFdAsOXOUODPV0BTRtaNeXRXQELioHhjL1hA0NQGpCwgWEA/LJ7x/mZXQBc8Q+VZ4VdAzPb/4anQV0BV/ouqE9BXQCl/7EcwfVdAAje7/HGMV0B501u4Pg1YQJfg49BD5ldAUdIm19lrV0BVqPd/nW5XQHP447/7Y1dAV1Hm16HtV0Dg0n3z2sdXQKOgKSGocVdAQyHU9JXTV0DGgf+YFWtXQNvhOqprWVdAZEfXt5pVV0Bzvn1To+FXQBtzErnGL1hAO/FZu7z8V0Bajw1dkLZXQKHHYP2Cp1dAQMbPBq+gV0DRfBAMWxJYQAz2I2GKs1dAt3OdsUXzV0BxIxcJILBXQLWrPAukTldAN4QkafOMV0ChiKi1SBVYQCj/ajoouFdA1noIpxq9V0AFq53Oo8hXQBHj+qbn8VdAzq61XGmRV0CmM08aAKpXQPXGd0xZF1hAcEtxzhOLV0DDpHDhLZZXQJzFvdvY4FdAkeH//9TPV0B4V46YbfZXQEblPGH2iFdADooR9P+VV0C+iwrl9BVYQGt3I+2S5VdA+y0YRVQNWEC5fMjgBz1XQKY48+cFoVdAwJP5i+jkV0AJKQ0GOsRXQPv2e5MyvVdA3t3vPNXhV0ASKc1MvqZXQMJFwlXepVdA5B2Ot+jCV0BTRr3bbgpYQG7y7/vf0FdACe81A9z+V0BXWKFIadNXQKFfgY7dRVdAelMN9GO1V0BUCUednfpXQJ4BvMr49ldAqR/LkurgV0DJCpLS/JVXQPAbxoQW71dACiEhh5EUWEA=\",\"dtype\":\"float64\",\"shape\":[100]},\"y\":{\"__ndarray__\":\"T+ysmcItWUDCDAughwNZQLG7Ke6UkFhAZZrinwAGWUCyhcu4u05YQE+ihzg63lhAw1+ipz0dWUAeQyB7Oo1YQICNMAOCaVhAtF3JAfIHWECocm/9w2tYQE6TIwupTVhAJgMEGSj7V0BgKyHCf6VYQH0z3dj9KFlA9BOzXDfUWEC0sCKphJtYQMVrjfzp6VdAbdQFlD7JWEBulygrwPhYQIt41C85Z1lAH9C6HWzcWEAygnc2QDpZQPPM+4MKaVhA+kEifHhgWEDuJVKoDABZQKa6CrmKGllAd3EN00fUWEBlKfJdjrZYQJIO3C7NsVhA0yME2mvGV0BmitmzWkpZQNsxOu35rVlAU4gR/7KnWECoQ21zl29YQGASS3qeRllAWQqhizIYWEAPCuWfc9dXQJoTeyfYOlhA0TtEbfWdWEAmHF14wa9YQASv8MC111hArxTQsDjXWEBQLZqElzVYQCPm4rdkyFhAJA1NmSewV0BmQldH2lZZQF0uKXzXyVhAuIca013sWEChh1w7uWRYQDvHRMAwUVhAUah+8CP3WEDZgEE+sZJYQG4sv85vWlhAPHp96md/WECyBLz+tWZYQJCBxrCKG1lAaAJqIN/XV0C381cVv6VYQHmw2+hYnVhAyQO27p6JWEA9HjuYsJ9YQFwY9kGG8VlADteKxUFzWEDYDXiJoJpYQI+wv20ACFlA+CXjWgZAWEBTnRaB3shXQKW34b2P3FhASE63zw8tWEBkDxrHlvFYQFLAqJ2fxlhAS4KWxFwyWUDVQnlOGfhYQE8cDgmqgVhA1r1ju1q9WEBtoQRs/dxXQByIH+Qiz1hA9BkllUKRWEAUL9oxzotYQA5HpOwQnlhAE2V24BdsWEDYznVVqWRYQN6dVSLlSllAkAdZaYVxWUAf6/jvKRpYQPOOwT2HSVhAnRq0bfZ0WEAeuTkMfNZYQJ+jQVvQ01hALjWYO9FmWEDEBflYHflYQE/cphSuaFhAg4mq5dVEWUA5gzEqM01YQPrq5HNYuFhAmfPGOudbWEA1yiqD4bVYQLguONWVlFhAYPnUTn9XWEA=\",\"dtype\":\"float64\",\"shape\":[100]}},\"selected\":{\"id\":\"190c1c69-dc3e-435f-8432-712537c248ed\",\"type\":\"Selection\"},\"selection_policy\":{\"id\":\"87c1e128-6735-4e5f-b7bc-fb44c396ec3b\",\"type\":\"UnionRenderers\"}},\"id\":\"c9f5db28-2b5e-4f17-81b2-f056b6b8c078\",\"type\":\"ColumnDataSource\"},{\"attributes\":{},\"id\":\"457c2c2f-5d30-4459-89e6-fddf6f3e11e8\",\"type\":\"BasicTickFormatter\"},{\"attributes\":{\"fill_color\":{\"value\":\"green\"},\"line_color\":{\"value\":\"green\"},\"x\":{\"field\":\"x\"},\"y\":{\"field\":\"y\"}},\"id\":\"8de1d654-ed3a-4826-b9d3-d1d438b490dc\",\"type\":\"Circle\"},{\"attributes\":{},\"id\":\"7faa7c94-a4bd-4d9a-b598-3d598b5c03a3\",\"type\":\"BasicTickFormatter\"},{\"attributes\":{\"data_source\":{\"id\":\"c9f5db28-2b5e-4f17-81b2-f056b6b8c078\",\"type\":\"ColumnDataSource\"},\"glyph\":{\"id\":\"8de1d654-ed3a-4826-b9d3-d1d438b490dc\",\"type\":\"Circle\"},\"hover_glyph\":null,\"muted_glyph\":null,\"nonselection_glyph\":{\"id\":\"206fd55b-8801-4e84-9501-78813061fd47\",\"type\":\"Circle\"},\"selection_glyph\":null,\"view\":{\"id\":\"db4f5426-85e0-46e2-bfca-3cfb7f415560\",\"type\":\"CDSView\"}},\"id\":\"c4a7d4d9-e70a-4919-9e3c-75140bd8f8e8\",\"type\":\"GlyphRenderer\"},{\"attributes\":{\"fill_color\":{\"value\":\"salmon\"},\"line_color\":{\"value\":\"salmon\"},\"x\":{\"field\":\"x\"},\"y\":{\"field\":\"y\"}},\"id\":\"8c501df9-8a8f-4853-87c0-8dccbc9c2bdd\",\"type\":\"Circle\"},{\"attributes\":{\"fill_color\":{\"value\":\"blue\"},\"line_color\":{\"value\":\"blue\"},\"x\":{\"field\":\"x\"},\"y\":{\"field\":\"y\"}},\"id\":\"b6cf0dae-5033-4465-b3ea-6d72afad3499\",\"type\":\"Circle\"},{\"attributes\":{\"source\":{\"id\":\"c9f5db28-2b5e-4f17-81b2-f056b6b8c078\",\"type\":\"ColumnDataSource\"}},\"id\":\"db4f5426-85e0-46e2-bfca-3cfb7f415560\",\"type\":\"CDSView\"},{\"attributes\":{},\"id\":\"7dc9dbef-9c6b-4e77-bc31-9edd2fe04a72\",\"type\":\"UnionRenderers\"},{\"attributes\":{\"plot\":null,\"text\":\"Synthetic data\"},\"id\":\"70c7214a-f211-4a37-94f4-7fd2eedc0cae\",\"type\":\"Title\"},{\"attributes\":{},\"id\":\"48f84185-8eba-4bc4-8464-5d971d18d3bf\",\"type\":\"Selection\"},{\"attributes\":{\"below\":[{\"id\":\"2b2d4e01-ce18-4896-b819-4cc0f155b4ba\",\"type\":\"LinearAxis\"}],\"left\":[{\"id\":\"25215006-2661-480a-b1f9-d73efd277998\",\"type\":\"LinearAxis\"}],\"plot_height\":400,\"plot_width\":400,\"renderers\":[{\"id\":\"2b2d4e01-ce18-4896-b819-4cc0f155b4ba\",\"type\":\"LinearAxis\"},{\"id\":\"e61061d0-3752-4f7d-b986-9ef3b7016363\",\"type\":\"Grid\"},{\"id\":\"25215006-2661-480a-b1f9-d73efd277998\",\"type\":\"LinearAxis\"},{\"id\":\"332da232-d03c-4a56-8eec-054a7dd8d6a1\",\"type\":\"Grid\"},{\"id\":\"205e567e-37dd-448e-85f8-15943239b18c\",\"type\":\"BoxAnnotation\"},{\"id\":\"7aa8f2f3-fa3f-453e-bd2f-f4e3940862d5\",\"type\":\"GlyphRenderer\"},{\"id\":\"5ab7f2c8-cd65-4888-a5b1-d919b9e8a43e\",\"type\":\"GlyphRenderer\"},{\"id\":\"c4a7d4d9-e70a-4919-9e3c-75140bd8f8e8\",\"type\":\"GlyphRenderer\"}],\"title\":{\"id\":\"70c7214a-f211-4a37-94f4-7fd2eedc0cae\",\"type\":\"Title\"},\"toolbar\":{\"id\":\"e87a71b3-97ff-41ea-8eaa-1056271c5ae2\",\"type\":\"Toolbar\"},\"x_range\":{\"id\":\"630ba6a1-3655-43e0-b533-f41cfe37dd86\",\"type\":\"Range1d\"},\"x_scale\":{\"id\":\"ad8f74ee-ab3c-44ec-a264-165027265607\",\"type\":\"LinearScale\"},\"y_range\":{\"id\":\"846e9b8f-522e-48b8-8cbe-4e46c925fe29\",\"type\":\"Range1d\"},\"y_scale\":{\"id\":\"a9954d99-2a43-4f9b-a5f2-7cb2b810c43f\",\"type\":\"LinearScale\"}},\"id\":\"f1fda741-7133-41ae-9516-51c1709892e8\",\"subtype\":\"Figure\",\"type\":\"Plot\"},{\"attributes\":{},\"id\":\"dd9e6bc0-1b98-49e4-ad02-8c0a4f35ca19\",\"type\":\"UnionRenderers\"},{\"attributes\":{},\"id\":\"1f8d4b23-cfc3-4837-a924-156eecb11d9d\",\"type\":\"Selection\"},{\"attributes\":{\"callback\":null,\"end\":110,\"start\":90},\"id\":\"630ba6a1-3655-43e0-b533-f41cfe37dd86\",\"type\":\"Range1d\"}],\"root_ids\":[\"f1fda741-7133-41ae-9516-51c1709892e8\"]},\"title\":\"Bokeh Application\",\"version\":\"0.12.16\"}};\n",
       "  var render_items = [{\"docid\":\"68a5f096-a9e9-4c17-84ea-7f48d3292173\",\"elementid\":\"e0a5edab-b5c4-45b2-81a6-84fe8dbf5dac\",\"modelid\":\"f1fda741-7133-41ae-9516-51c1709892e8\"}];\n",
       "  root.Bokeh.embed.embed_items_notebook(docs_json, render_items);\n",
       "\n",
       "  }\n",
       "  if (root.Bokeh !== undefined) {\n",
       "    embed_document(root);\n",
       "  } else {\n",
       "    var attempts = 0;\n",
       "    var timer = setInterval(function(root) {\n",
       "      if (root.Bokeh !== undefined) {\n",
       "        embed_document(root);\n",
       "        clearInterval(timer);\n",
       "      }\n",
       "      attempts++;\n",
       "      if (attempts > 100) {\n",
       "        console.log(\"Bokeh: ERROR: Unable to run BokehJS code because BokehJS library is missing\")\n",
       "        clearInterval(timer);\n",
       "      }\n",
       "    }, 10, root)\n",
       "  }\n",
       "})(window);"
      ],
      "application/vnd.bokehjs_exec.v0+json": ""
     },
     "metadata": {
      "application/vnd.bokehjs_exec.v0+json": {
       "id": "f1fda741-7133-41ae-9516-51c1709892e8"
      }
     },
     "output_type": "display_data"
    }
   ],
   "source": [
    "ntargets = 3\n",
    "N = 100\n",
    "Xs = []\n",
    "labels = []\n",
    "cov = np.array([\n",
    "    [1, -.5],\n",
    "    [-.5, 3], \n",
    "])\n",
    "\n",
    "shift = 100\n",
    "mean = 5 * np.array([1, .25]) + shift\n",
    "X = np.random.multivariate_normal(mean, cov, size=N)\n",
    "labels.append(np.ones(len(X)) * 0)\n",
    "Xs.append(X)\n",
    "\n",
    "mean = 3 * np.array([0, 0]) + shift\n",
    "X = np.random.multivariate_normal(mean, cov, size=N)\n",
    "labels.append(np.ones(len(X)))\n",
    "Xs.append(X)\n",
    "\n",
    "mean = 5 * np.array([-1, -.25]) + shift\n",
    "X = np.random.multivariate_normal(mean, cov, size=N)\n",
    "labels.append(np.ones(len(X)) * 2)\n",
    "Xs.append(X)\n",
    "\n",
    "idxs = np.arange(0, ntargets * N)\n",
    "np.random.shuffle(idxs)\n",
    "data = np.vstack(Xs)[idxs]\n",
    "labels = np.hstack(labels)[idxs]\n",
    "\n",
    "test_data = data[-100:]\n",
    "test_labels = labels[-100:]\n",
    "data = data[:-100]\n",
    "labels = labels[:-100]\n",
    "\n",
    "\n",
    "x_range = (shift - 10, shift + 10)\n",
    "y_range = (shift - 10, shift + 10)\n",
    "\n",
    "fig = figure(title='Synthetic data', width=400, height=400, x_range=x_range,\n",
    "             y_range=y_range)\n",
    "colors = ['salmon', 'blue', 'green', 'yellow', 'black', 'red', 'cyan', 'purple', 'brown', 'pink']\n",
    "for sX, color in zip(Xs, colors):\n",
    "    fig.circle(sX[:, 0], sX[:, 1], color=color)\n",
    "show(fig)"
   ]
  },
  {
   "cell_type": "markdown",
   "metadata": {},
   "source": [
    "## Model"
   ]
  },
  {
   "cell_type": "code",
   "execution_count": 11,
   "metadata": {},
   "outputs": [],
   "source": [
    "# Number of components in the mixture.\n",
    "ncomps = ntargets\n",
    "\n",
    "# Dimension of the observed space.\n",
    "obs_dim = data.shape[1]\n",
    "\n",
    "# Dimension of the noise subspace.\n",
    "noise_s_dim = obs_dim - 1\n",
    "\n",
    "# Dimension of the class subspace.\n",
    "class_s_dim = 10\n",
    "\n",
    "# Mean of the prior distributions.\n",
    "mean = torch.from_numpy(data.mean(axis=0)).double()\n",
    "prec = 1.\n",
    "noise_s = torch.randn(noise_s_dim, obs_dim).double()\n",
    "class_s = torch.randn(class_s_dim, obs_dim).double()\n",
    "means = torch.zeros(ncomps, class_s_dim).double()\n",
    "weights = torch.ones(ncomps).double() / ntargets\n",
    "pseudo_counts = 1.\n",
    "\n",
    "pldaset = beer.PLDASet.create(mean, prec, noise_s, class_s, means, \n",
    "                              pseudo_counts)\n",
    "plda = beer.Mixture.create(weights, pldaset)"
   ]
  },
  {
   "cell_type": "markdown",
   "metadata": {},
   "source": [
    "## Variational Bayes Training"
   ]
  },
  {
   "cell_type": "code",
   "execution_count": 12,
   "metadata": {
    "scrolled": false
   },
   "outputs": [
    {
     "data": {
      "text/html": [
       "\n",
       "<div class=\"bk-root\">\n",
       "    <div class=\"bk-plotdiv\" id=\"b31adfa7-f4b8-4d7c-aa7d-36fba081bef7\"></div>\n",
       "</div>"
      ]
     },
     "metadata": {},
     "output_type": "display_data"
    },
    {
     "data": {
      "application/javascript": [
       "(function(root) {\n",
       "  function embed_document(root) {\n",
       "    \n",
       "  var docs_json = {\"aca8448f-9074-4e8f-b00a-0a124d74acfa\":{\"roots\":{\"references\":[{\"attributes\":{\"dimension\":1,\"plot\":{\"id\":\"21c3f21f-10db-45b2-9d06-f8ff20eddd07\",\"subtype\":\"Figure\",\"type\":\"Plot\"},\"ticker\":{\"id\":\"651e3437-6896-4d26-8657-05d643c86dab\",\"type\":\"BasicTicker\"}},\"id\":\"a216d0de-789f-4cc6-bdc2-4b0d171acac4\",\"type\":\"Grid\"},{\"attributes\":{\"overlay\":{\"id\":\"cb8d5cf7-c53d-4afb-a5c4-e72a19e526c9\",\"type\":\"BoxAnnotation\"}},\"id\":\"fee8dee2-2033-44e4-bea0-73fd2fb8f95d\",\"type\":\"BoxZoomTool\"},{\"attributes\":{},\"id\":\"1102a6ad-a1a7-45ab-861b-62be698af881\",\"type\":\"ResetTool\"},{\"attributes\":{},\"id\":\"57cbfed0-7357-463e-b6cd-6b912ee7d937\",\"type\":\"BasicTicker\"},{\"attributes\":{\"line_color\":\"blue\",\"x\":{\"field\":\"x\"},\"y\":{\"field\":\"y\"}},\"id\":\"db30531b-55f4-4399-b520-82209381bd88\",\"type\":\"Line\"},{\"attributes\":{},\"id\":\"e7b9ec3e-33da-4c9e-b2e5-bce1b7f6efcf\",\"type\":\"LinearScale\"},{\"attributes\":{\"data_source\":{\"id\":\"21f65b76-26d6-4acc-8a52-eea35ca87612\",\"type\":\"ColumnDataSource\"},\"glyph\":{\"id\":\"db30531b-55f4-4399-b520-82209381bd88\",\"type\":\"Line\"},\"hover_glyph\":null,\"muted_glyph\":null,\"nonselection_glyph\":{\"id\":\"319c614e-5d15-4cdd-8649-0bf8448f2054\",\"type\":\"Line\"},\"selection_glyph\":null,\"view\":{\"id\":\"f9d0f437-466f-426b-9dcf-6000b0ee1a3f\",\"type\":\"CDSView\"}},\"id\":\"1377b4f9-ad65-49b1-b91e-27e1cc2530f2\",\"type\":\"GlyphRenderer\"},{\"attributes\":{},\"id\":\"f6020e53-f8d1-4eb4-8ec5-33ba9a60de96\",\"type\":\"WheelZoomTool\"},{\"attributes\":{},\"id\":\"74aac607-a1f7-4e9d-974f-16a4667c3d63\",\"type\":\"Selection\"},{\"attributes\":{},\"id\":\"fa9b6990-4d7a-4593-b155-22f74d8fffe4\",\"type\":\"PanTool\"},{\"attributes\":{\"line_alpha\":0.1,\"line_color\":\"#1f77b4\",\"x\":{\"field\":\"x\"},\"y\":{\"field\":\"y\"}},\"id\":\"319c614e-5d15-4cdd-8649-0bf8448f2054\",\"type\":\"Line\"},{\"attributes\":{\"below\":[{\"id\":\"5a9f79de-d697-47b6-b4c0-63459d547b2f\",\"type\":\"LinearAxis\"}],\"left\":[{\"id\":\"afe54774-7e52-4197-b71d-5d1dc55bcd1f\",\"type\":\"LinearAxis\"}],\"plot_height\":400,\"plot_width\":400,\"renderers\":[{\"id\":\"5a9f79de-d697-47b6-b4c0-63459d547b2f\",\"type\":\"LinearAxis\"},{\"id\":\"4ea54a19-5242-4842-8b84-1721783c3c16\",\"type\":\"Grid\"},{\"id\":\"afe54774-7e52-4197-b71d-5d1dc55bcd1f\",\"type\":\"LinearAxis\"},{\"id\":\"a216d0de-789f-4cc6-bdc2-4b0d171acac4\",\"type\":\"Grid\"},{\"id\":\"cb8d5cf7-c53d-4afb-a5c4-e72a19e526c9\",\"type\":\"BoxAnnotation\"},{\"id\":\"1377b4f9-ad65-49b1-b91e-27e1cc2530f2\",\"type\":\"GlyphRenderer\"}],\"title\":{\"id\":\"8b8c24a0-d65f-4b69-83dd-2fca47f34d99\",\"type\":\"Title\"},\"toolbar\":{\"id\":\"53b4455c-8203-4000-8e0a-52ca5caf75b6\",\"type\":\"Toolbar\"},\"x_range\":{\"id\":\"eea7bb27-b759-4615-8eb0-697beb7bbc71\",\"type\":\"DataRange1d\"},\"x_scale\":{\"id\":\"201c3416-f2cc-4181-84aa-01d118eeaafb\",\"type\":\"LinearScale\"},\"y_range\":{\"id\":\"65e447c9-0bad-4971-b7bd-32b5f59e0adf\",\"type\":\"DataRange1d\"},\"y_scale\":{\"id\":\"e7b9ec3e-33da-4c9e-b2e5-bce1b7f6efcf\",\"type\":\"LinearScale\"}},\"id\":\"21c3f21f-10db-45b2-9d06-f8ff20eddd07\",\"subtype\":\"Figure\",\"type\":\"Plot\"},{\"attributes\":{\"plot\":null,\"text\":\"ELBO\"},\"id\":\"8b8c24a0-d65f-4b69-83dd-2fca47f34d99\",\"type\":\"Title\"},{\"attributes\":{},\"id\":\"651e3437-6896-4d26-8657-05d643c86dab\",\"type\":\"BasicTicker\"},{\"attributes\":{\"axis_label\":\"ln p(X)\",\"formatter\":{\"id\":\"c4c05eba-9347-4f60-a210-fded9797fbac\",\"type\":\"BasicTickFormatter\"},\"plot\":{\"id\":\"21c3f21f-10db-45b2-9d06-f8ff20eddd07\",\"subtype\":\"Figure\",\"type\":\"Plot\"},\"ticker\":{\"id\":\"651e3437-6896-4d26-8657-05d643c86dab\",\"type\":\"BasicTicker\"}},\"id\":\"afe54774-7e52-4197-b71d-5d1dc55bcd1f\",\"type\":\"LinearAxis\"},{\"attributes\":{},\"id\":\"685fc8b9-fd6b-4b44-ba38-968510ab0034\",\"type\":\"SaveTool\"},{\"attributes\":{\"axis_label\":\"step\",\"formatter\":{\"id\":\"1d35e4a9-b3e2-4f58-a124-ba5e3ca6295c\",\"type\":\"BasicTickFormatter\"},\"plot\":{\"id\":\"21c3f21f-10db-45b2-9d06-f8ff20eddd07\",\"subtype\":\"Figure\",\"type\":\"Plot\"},\"ticker\":{\"id\":\"57cbfed0-7357-463e-b6cd-6b912ee7d937\",\"type\":\"BasicTicker\"}},\"id\":\"5a9f79de-d697-47b6-b4c0-63459d547b2f\",\"type\":\"LinearAxis\"},{\"attributes\":{\"bottom_units\":\"screen\",\"fill_alpha\":{\"value\":0.5},\"fill_color\":{\"value\":\"lightgrey\"},\"left_units\":\"screen\",\"level\":\"overlay\",\"line_alpha\":{\"value\":1.0},\"line_color\":{\"value\":\"black\"},\"line_dash\":[4,4],\"line_width\":{\"value\":2},\"plot\":null,\"render_mode\":\"css\",\"right_units\":\"screen\",\"top_units\":\"screen\"},\"id\":\"cb8d5cf7-c53d-4afb-a5c4-e72a19e526c9\",\"type\":\"BoxAnnotation\"},{\"attributes\":{},\"id\":\"2f1067fd-645e-4733-8941-51c5d121f025\",\"type\":\"UnionRenderers\"},{\"attributes\":{\"plot\":{\"id\":\"21c3f21f-10db-45b2-9d06-f8ff20eddd07\",\"subtype\":\"Figure\",\"type\":\"Plot\"},\"ticker\":{\"id\":\"57cbfed0-7357-463e-b6cd-6b912ee7d937\",\"type\":\"BasicTicker\"}},\"id\":\"4ea54a19-5242-4842-8b84-1721783c3c16\",\"type\":\"Grid\"},{\"attributes\":{\"source\":{\"id\":\"21f65b76-26d6-4acc-8a52-eea35ca87612\",\"type\":\"ColumnDataSource\"}},\"id\":\"f9d0f437-466f-426b-9dcf-6000b0ee1a3f\",\"type\":\"CDSView\"},{\"attributes\":{\"callback\":null},\"id\":\"65e447c9-0bad-4971-b7bd-32b5f59e0adf\",\"type\":\"DataRange1d\"},{\"attributes\":{},\"id\":\"2efdaf4f-09fb-4fa8-9384-93be60c31431\",\"type\":\"HelpTool\"},{\"attributes\":{\"active_drag\":\"auto\",\"active_inspect\":\"auto\",\"active_scroll\":\"auto\",\"active_tap\":\"auto\",\"tools\":[{\"id\":\"fa9b6990-4d7a-4593-b155-22f74d8fffe4\",\"type\":\"PanTool\"},{\"id\":\"f6020e53-f8d1-4eb4-8ec5-33ba9a60de96\",\"type\":\"WheelZoomTool\"},{\"id\":\"fee8dee2-2033-44e4-bea0-73fd2fb8f95d\",\"type\":\"BoxZoomTool\"},{\"id\":\"685fc8b9-fd6b-4b44-ba38-968510ab0034\",\"type\":\"SaveTool\"},{\"id\":\"1102a6ad-a1a7-45ab-861b-62be698af881\",\"type\":\"ResetTool\"},{\"id\":\"2efdaf4f-09fb-4fa8-9384-93be60c31431\",\"type\":\"HelpTool\"}]},\"id\":\"53b4455c-8203-4000-8e0a-52ca5caf75b6\",\"type\":\"Toolbar\"},{\"attributes\":{},\"id\":\"c4c05eba-9347-4f60-a210-fded9797fbac\",\"type\":\"BasicTickFormatter\"},{\"attributes\":{\"callback\":null,\"data\":{\"x\":[0,1,2,3,4,5,6,7,8,9,10,11,12,13,14,15,16,17,18,19,20,21,22,23,24,25,26,27,28,29,30,31,32,33,34,35,36,37,38,39,40,41,42,43,44,45,46,47,48,49,50,51,52,53,54,55,56,57,58,59,60,61,62,63,64,65,66,67,68,69,70,71,72,73,74,75,76,77,78,79,80,81,82,83,84,85,86,87,88,89,90,91,92,93,94,95,96,97,98,99],\"y\":[-33.624669798011396,-7.523328164879786,-6.739366773066486,-6.5713982626204,-5.348641110259805,-5.175584527014727,-5.096941954996228,-4.959691583281662,-4.956176373102811,-4.941028072178712,-4.935410452518404,-4.931670926358403,-4.915396575019944,-4.912595823139949,-4.909908129621034,-4.892220477762302,-4.88795817887529,-4.88638517192414,-4.871318820828794,-4.866175680060829,-4.865230335028766,-4.855285339150532,-4.851004212227431,-4.8503792770906635,-4.8447986737499305,-4.842083311881784,-4.841647045340763,-4.838718839762695,-4.837264188079688,-4.836962195740441,-4.8354629204781805,-4.834758273368524,-4.834559041776543,-4.8338026760143205,-4.833480892614408,-4.833357447597388,-4.83298170365212,-4.832839546291582,-4.832767655535886,-4.832584101651133,-4.832522408733929,-4.832482733767877,-4.832394548727702,-4.83236799209065,-4.832347030871024,-4.832305294709661,-4.832293904642019,-4.83228319252787,-4.832263689947555,-4.832258804100724,-4.832253461314135,-4.832244438870265,-4.8322423436271995,-4.832239717952968,-4.83223557675807,-4.83223467582456,-4.832233392876625,-4.832231501307388,-4.832231114354616,-4.832230480959627,-4.832229619945324,-4.832229452988563,-4.832229131043896,-4.832228737969563,-4.832228666259428,-4.832228490729027,-4.832228310558458,-4.832228279485517,-4.832228173669563,-4.832228088746913,-4.8322280754421625,-4.8322280013973185,-4.832227960248664,-4.832227954440788,-4.83222789616671,-4.832227873859758,-4.832227871395288,-4.832227819738823,-4.8322278067572055,-4.832227805664008,-4.83222775807472,-4.832227748462476,-4.832227748008388,-4.832227701640874,-4.832227694403277,-4.832227694194702,-4.832227649399765,-4.8322276424225645,-4.832227642340282,-4.832227597619133,-4.832227591625715,-4.832227591584617,-4.832227547911707,-4.832227541556791,-4.8322275415422355,-4.8322274976957,-4.8322274920438435,-4.832227492035339,-4.8322274491198405,-4.83222744298176]},\"selected\":{\"id\":\"74aac607-a1f7-4e9d-974f-16a4667c3d63\",\"type\":\"Selection\"},\"selection_policy\":{\"id\":\"2f1067fd-645e-4733-8941-51c5d121f025\",\"type\":\"UnionRenderers\"}},\"id\":\"21f65b76-26d6-4acc-8a52-eea35ca87612\",\"type\":\"ColumnDataSource\"},{\"attributes\":{},\"id\":\"201c3416-f2cc-4181-84aa-01d118eeaafb\",\"type\":\"LinearScale\"},{\"attributes\":{\"callback\":null},\"id\":\"eea7bb27-b759-4615-8eb0-697beb7bbc71\",\"type\":\"DataRange1d\"},{\"attributes\":{},\"id\":\"1d35e4a9-b3e2-4f58-a124-ba5e3ca6295c\",\"type\":\"BasicTickFormatter\"}],\"root_ids\":[\"21c3f21f-10db-45b2-9d06-f8ff20eddd07\"]},\"title\":\"Bokeh Application\",\"version\":\"0.12.16\"}};\n",
       "  var render_items = [{\"docid\":\"aca8448f-9074-4e8f-b00a-0a124d74acfa\",\"elementid\":\"b31adfa7-f4b8-4d7c-aa7d-36fba081bef7\",\"modelid\":\"21c3f21f-10db-45b2-9d06-f8ff20eddd07\"}];\n",
       "  root.Bokeh.embed.embed_items_notebook(docs_json, render_items);\n",
       "\n",
       "  }\n",
       "  if (root.Bokeh !== undefined) {\n",
       "    embed_document(root);\n",
       "  } else {\n",
       "    var attempts = 0;\n",
       "    var timer = setInterval(function(root) {\n",
       "      if (root.Bokeh !== undefined) {\n",
       "        embed_document(root);\n",
       "        clearInterval(timer);\n",
       "      }\n",
       "      attempts++;\n",
       "      if (attempts > 100) {\n",
       "        console.log(\"Bokeh: ERROR: Unable to run BokehJS code because BokehJS library is missing\")\n",
       "        clearInterval(timer);\n",
       "      }\n",
       "    }, 10, root)\n",
       "  }\n",
       "})(window);"
      ],
      "application/vnd.bokehjs_exec.v0+json": ""
     },
     "metadata": {
      "application/vnd.bokehjs_exec.v0+json": {
       "id": "21c3f21f-10db-45b2-9d06-f8ff20eddd07"
      }
     },
     "output_type": "display_data"
    }
   ],
   "source": [
    "epochs = 100\n",
    "lrate = 1.\n",
    "plda = plda.float()\n",
    "X = torch.from_numpy(data).float()\n",
    "targets = torch.from_numpy(labels).long()\n",
    "elbo_fn = beer.EvidenceLowerBound(len(X))\n",
    "optimizer = beer.BayesianModelCoordinateAscentOptimizer(\n",
    "    *plda.grouped_parameters, \n",
    "    lrate=lrate\n",
    ")\n",
    "\n",
    "elbos = []\n",
    "for epoch in range(epochs):\n",
    "    optimizer.zero_grad()\n",
    "    elbo = elbo_fn(plda, X, targets)\n",
    "    elbo.natural_backward()\n",
    "    optimizer.step()\n",
    "    \n",
    "    if epochs > 0:\n",
    "        elbos.append(float(elbo) / len(X))\n",
    "        #print(plda.modelset.class_subspace)\n",
    "    \n",
    "# Plot the ELBO.\n",
    "fig = figure(title='ELBO', width=400, height=400, x_axis_label='step',\n",
    "              y_axis_label='ln p(X)')\n",
    "fig.line(np.arange(len(elbos)), elbos, color='blue')\n",
    "\n",
    "show(fig)"
   ]
  },
  {
   "cell_type": "code",
   "execution_count": 5,
   "metadata": {},
   "outputs": [
    {
     "data": {
      "text/plain": [
       "tensor([ 0.,  0.], dtype=torch.float64)"
      ]
     },
     "execution_count": 5,
     "metadata": {},
     "output_type": "execute_result"
    }
   ],
   "source": [
    "torch.zeros(2, dtype=mean.dtype)"
   ]
  },
  {
   "cell_type": "markdown",
   "metadata": {},
   "source": [
    "## Plotting"
   ]
  },
  {
   "cell_type": "code",
   "execution_count": 6,
   "metadata": {},
   "outputs": [
    {
     "data": {
      "text/html": [
       "\n",
       "<div class=\"bk-root\">\n",
       "    <div class=\"bk-plotdiv\" id=\"a8f183f2-efba-4477-a0db-df63e2eae56b\"></div>\n",
       "</div>"
      ]
     },
     "metadata": {},
     "output_type": "display_data"
    },
    {
     "data": {
      "application/javascript": [
       "(function(root) {\n",
       "  function embed_document(root) {\n",
       "    \n",
       "  var docs_json = {\"5a499d19-1639-4848-ace3-2fa1c5fb2809\":{\"roots\":{\"references\":[{\"attributes\":{\"fill_alpha\":0.16499585353039334,\"fill_color\":\"blue\",\"line_alpha\":0.16499585353039334,\"line_color\":\"blue\",\"x\":{\"field\":\"x\"},\"y\":{\"field\":\"y\"}},\"id\":\"c31c0a46-0738-483e-8645-d82c7d95bcef\",\"type\":\"Patch\"},{\"attributes\":{\"data_source\":{\"id\":\"3449336c-e497-49e0-9798-4ed2dab6b3bc\",\"type\":\"ColumnDataSource\"},\"glyph\":{\"id\":\"09774293-6da5-4843-a254-d4155db79de5\",\"type\":\"Patch\"},\"hover_glyph\":null,\"muted_glyph\":null,\"nonselection_glyph\":{\"id\":\"aecee6e4-58d6-4cf0-b802-882afa638366\",\"type\":\"Patch\"},\"selection_glyph\":null,\"view\":{\"id\":\"985a0658-0aaf-4ee0-90c8-343f4e094f75\",\"type\":\"CDSView\"}},\"id\":\"e0e01bbd-def6-48cd-8a06-1e1c31c886bd\",\"type\":\"GlyphRenderer\"},{\"attributes\":{\"callback\":null,\"data\":{\"x\":{\"__ndarray__\":\"Uvs2yDqEWkA2b/0ZGIRaQPZRzDOwg1pADNjvggODWkBK6RG9EoJaQJEGe9/egFpAQdgHLml/WkC9fdQxs31aQFoEn7e+e1pAvrjizY15WkCeUK7CIndaQF8zNyGAdFpAqm4sr6hxWkB/J8xpn25aQDuZvoJna1pASfG5XARoWkBskPKHeWRaQLBwW77KYFpAgaG63/tcWkCO+ZXtEFlaQPVH/AYOVVpApXMvZPdQWkBqGDRS0UxaQCpNSy6gSFpArVVbYWhEWkBJFExbLkBaQMwcXI72O1pAjFFzasU3WkBR9ndYnzNaQAEiq7WIL1pAaHARz4UrWkB1yOzcmidaQEb5S/7LI1pAitm0NB0gWkCteO1fkhxaQLvQ6DkvGVpAd0LbUvcVWkBM+3oN7hJaQJc2cJsWEFpAWBn5+XMNWkA4scTuCAtaQJxlCAXYCFpAOezSiuMGWkC1kZ+OLQVaQGVjLN23A1pArICV/4MCWkDqkbc5kwFaQAAY24jmAFpAwPqpon4AWkCkbnD0WwBaQKRucPRbAFpAwPqpon4AWkAAGNuI5gBaQOqRtzmTAVpArICV/4MCWkBlYyzdtwNaQLWRn44tBVpAOezSiuMGWkCcZQgF2AhaQDixxO4IC1pAWBn5+XMNWkCXNnCbFhBaQEz7eg3uElpAd0LbUvcVWkC70Og5LxlaQK147V+SHFpAitm0NB0gWkBG+Uv+yyNaQHXI7NyaJ1pAaHARz4UrWkABIqu1iC9aQFH2d1ifM1pAjFFzasU3WkDMHFyO9jtaQEkUTFsuQFpArVVbYWhEWkAqTUsuoEhaQGoYNFLRTFpApXMvZPdQWkD1R/wGDlVaQI75le0QWVpAgaG63/tcWkCwcFu+ymBaQGyQ8od5ZFpASfG5XARoWkA7mb6CZ2taQH8nzGmfblpAqm4sr6hxWkBfMzchgHRaQJ5QrsIid1pAvrjizY15WkBaBJ+3vntaQL191DGzfVpAQdgHLml/WkCRBnvf3oBaQErpEb0SglpADNjvggODWkD2UcwzsINaQDZv/RkYhFpAUvs2yDqEWkA=\",\"dtype\":\"float64\",\"shape\":[100]},\"y\":{\"__ndarray__\":\"QcVq35YpWUBuI2duGDBZQP30XAqrNllAHxJDyUc9WUAyjma250NZQJvwu9mDSllAsvIzPxVRWUB3DAz+lFdZQDYeE0D8XVlA05HaSERkWUDYYsx8ZmpZQBqZHmhccFlA6uWcxR92WUAAQEGFqntZQLSNlNL2gFlAIqjQGv+FWUB7Q70SvopZQMeRQbwuj1lARcSka0yTWUAa5XfMEpdZQBTeI+Z9mllA7OEWIIqdWUD90oxFNKBZQNCs7oh5ollAHWTFhlekWUA/Iz1IzKVZQGE+NkXWpllA/LLhZXSnWUC8gOcDpqdZQBqmFetqp1lAqQiXWcOmWUBBD7L/r6VZQN8yD/8xpFlAUEmI6UqiWUAgyoG//J9ZQI7Kz+1JnVlAiucoSzWaWUC6zCkVwpZZQLl87OzzkllArPA2086OWUBGE0UkV4pZQEyFMpORhVlA0/4IJYOAWUCogHgrMXtZQM/jPj+hdVlAG6pEOtlvWUBEQXUx32lZQCEyWW65Y1lA9fZ4aG5dWUDnbY++BFdZQOdtj74EV1lAug+TL4NQWUArPp2T8ElZQAkht9RTQ1lA9qST57M8WUCNQj7EFzZZQHZAxl6GL1lAsSbunwYpWUDyFOddnyJZQFWhH1VXHFlAUNAtITUWWUAOmts1PxBZQD5NXdh7CllAKPO4GPEEWUB0pWXLpP9YQAaLKYOc+lhAre88i931WEBhobjhbPFYQONuVTJP7VhADk6C0YjpWEAUVda3HeZYQDxR430R41hAK2BtWGfgWEBYhgsVIt5YQAvPNBdE3FhA6Q+9Vc/aWEDH9MNYxdlYQCyAGDgn2VhAbLISmvXYWEAOjeSyMNlYQH8qY0TY2VhA5yNInuvaWEBJAOueadxYQNjpcbRQ3lhACGl43p7gWECaaCqwUeNYQJ5L0VJm5lhAbmbQiNnpWEBvtg2xp+1YQHxCw8rM8VhA4h+1eUT2WEDcrccKCvtYQFU08XgYAFlAgLKBcmoFWUBZT7te+gpZQA2JtWPCEFlA5PGEbLwWWUAHAaEv4hxZQDM8gTUtI1lAQcVq35YpWUA=\",\"dtype\":\"float64\",\"shape\":[100]}},\"selected\":{\"id\":\"c59b9897-cb2b-4ad3-93dd-c1366376df9d\",\"type\":\"Selection\"},\"selection_policy\":{\"id\":\"6a375d97-138e-41cc-90b9-2f10dc0f5a85\",\"type\":\"UnionRenderers\"}},\"id\":\"59cbcde1-446c-4aa9-8362-88c6a0d32bc2\",\"type\":\"ColumnDataSource\"},{\"attributes\":{\"fill_alpha\":0.16248963595818908,\"fill_color\":\"blue\",\"line_alpha\":0.16248963595818908,\"line_color\":\"blue\",\"x\":{\"field\":\"x\"},\"y\":{\"field\":\"y\"}},\"id\":\"1b0de3c5-ae4c-4b26-a8e9-b7ce7c38ced3\",\"type\":\"Patch\"},{\"attributes\":{\"fill_alpha\":0.1,\"fill_color\":\"#1f77b4\",\"line_alpha\":0.1,\"line_color\":\"#1f77b4\",\"x\":{\"field\":\"x\"},\"y\":{\"field\":\"y\"}},\"id\":\"8f7fcbdf-195c-4f55-9dd6-6c1f848290a6\",\"type\":\"Patch\"},{\"attributes\":{\"overlay\":{\"id\":\"3f809cac-414b-4719-af93-9ac679e0798d\",\"type\":\"BoxAnnotation\"}},\"id\":\"488c0c18-f80e-4373-a100-8b5b5582dd8b\",\"type\":\"BoxZoomTool\"},{\"attributes\":{\"callback\":null,\"data\":{\"x\":{\"__ndarray__\":\"NCE/OblIWED6CMzcc0hYQHvOaRCkR1hAqNqwrkpGWEAk/fQiaURYQLA3x2cBQlhAENvgBBY/WEAJJnoMqjtYQEIzDxjBN1hAC5yWRF8zWEDLyy0uiS5YQE6RP+tDKVhA4wcqB5UjWECOeWl8gh1YQAVdTq4SF1hAIQ1FYkwQWEBnS7a4NglYQO8LiCXZAVhAkW1GaDv6V0CrHf2DZfJXQHq6ybZf6ldA2BEwcTLiV0BiWzlN5tlXQOTEZwWE0VdA6dWHaxTJV0AhU2lfoMBXQCZkicUwuFdAqM23fc6vV0AyF8FZgqdXQJBuJxRVn1dAXwv0Rk+XV0B5u6pieY9XQBsdaaXbh1dAo906En6AV0DpG6xoaHlXQAXMohyicldAfK+HTjJsV0AnIcfDH2ZXQLyXsd9wYFdAP13DnCtbV0D/jFqGVVZXQMj14bLzUVdAAQN3vgpOV0D6TRDGnkpXQFrxKWOzR1dA5iv8p0tFV0BiTkAcakNXQI9ah7oQQldAECAl7kBBV0DWB7KR+0BXQNYHspH7QFdAECAl7kBBV0CPWoe6EEJXQGJOQBxqQ1dA5iv8p0tFV0Ba8Sljs0dXQPpNEMaeSldAAQN3vgpOV0DI9eGy81FXQP+MWoZVVldAP13DnCtbV0C8l7HfcGBXQCchx8MfZldAfK+HTjJsV0AFzKIconJXQOkbrGhoeVdAo906En6AV0AbHWml24dXQHm7qmJ5j1dAXwv0Rk+XV0CQbicUVZ9XQDIXwVmCp1dAqM23fc6vV0AmZInFMLhXQCFTaV+gwFdA6dWHaxTJV0DkxGcFhNFXQGJbOU3m2VdA2BEwcTLiV0B6usm2X+pXQKsd/YNl8ldAkW1GaDv6V0DvC4gl2QFYQGdLtrg2CVhAIQ1FYkwQWEAFXU6uEhdYQI55aXyCHVhA4wcqB5UjWEBOkT/rQylYQMvLLS6JLlhAC5yWRF8zWEBCMw8YwTdYQAkmegyqO1hAENvgBBY/WECwN8dnAUJYQCT99CJpRFhAqNqwrkpGWEB7zmkQpEdYQPoIzNxzSFhANCE/OblIWEA=\",\"dtype\":\"float64\",\"shape\":[100]},\"y\":{\"__ndarray__\":\"jKdF0XR5WEDlYz7vd4ZYQAQHKiedk1hASUH2pNagWEBuOT1/Fq5YQD/+58VOu1hAbgLYkHHIWED3NYgOcdVYQHdZlpI/4lhAsEAlpM/uWEC64ggMFPtYQD5PreL/BllA3+ipnYYSWUAJnfIcnB1ZQHM4mbc0KFlATW0RSEUyWUD/o+o3wztZQJdA84qkRFlAk6W56d9MWUA951+rbFRZQDPZt95CW1lA4uCdUlthWUAEw4mdr2ZZQKp2TSQ6a1lAROX6H/ZuWUCIY+qi33FZQMuZ3Jzzc1lAAoMz3i91WUCBHj8ak3VZQD9pm+gcdVlAXS6exc1zWUCMO9QRp3FZQMiCjhCrbllAqq+A5dxqWUBJsXORQGZZQCWyD+7aYFlAHuzBqLFaWUB9tsM8y1NZQHwWSewuTFlAY/7duORDWUCXQ/pa9TpZQKEn1ThqMVlAsRqCXE0nWUBaHmFpqRxZQKjk7ZCJEVlAQXH5hvkFWUCSn1p1BfpYQEyBIu+57VhA9Api4yPhWEDY+I6PUNRYQNj4jo9Q1FhAfjyWcU3HWEBgmao5KLpYQBtf3rvurFhA9maX4a6fWEAlouyadpJYQPad/M9ThVhAbWpMUlR4WEDtRj7OhWtYQLRfr7z1XlhAqr3LVLFSWEAmUSd+xUZYQIW3KsM+O1hAWwPiQykwWEDxZzupkCVYQBczwxiAG1hAZfzpKAISWEDNX+HVIAlYQNH6GnflAFhAJ7l0tVj5V0AxxxyCgvJXQIK/Ng5q7FdAX91KwxXnV0C6KYc8i+JXQCC72UDP3ldA3DzqveXbV0CZBvjD0dlXQGIdoYKV2FdA44GVRjLYV0AlNzl4qNhXQAdyNpv32VdA2GQATx7cV0CcHUZQGt9XQLrwU3vo4ldAG+9gz4TnV0A/7sRy6uxXQEa0ErgT81dA5+kQJPr5V0DoiYt0lgFYQAGi9qfgCVhAzVzaBdASWEDDeP8nWxxYQLOFUgR4JlhACoJz9xsxWEC8u+bPOzxYQCMv29nLR1hA0gB6679TWEAYH7JxC2BYQHCVcn2hbFhAjKdF0XR5WEA=\",\"dtype\":\"float64\",\"shape\":[100]}},\"selected\":{\"id\":\"a3fc4d7a-fd55-4743-8a13-6cad70802d5e\",\"type\":\"Selection\"},\"selection_policy\":{\"id\":\"321437b3-25e9-47cd-85ba-ee0cb9326f37\",\"type\":\"UnionRenderers\"}},\"id\":\"0a5758eb-0cd3-41fc-ade1-5adbd8ae0e92\",\"type\":\"ColumnDataSource\"},{\"attributes\":{\"source\":{\"id\":\"59cbcde1-446c-4aa9-8362-88c6a0d32bc2\",\"type\":\"ColumnDataSource\"}},\"id\":\"a97aebf9-608b-452c-9656-517e08ee6134\",\"type\":\"CDSView\"},{\"attributes\":{\"callback\":null,\"data\":{\"x\":{\"__ndarray__\":\"qkEaMirGWkBwKafV5MVaQPHuRAkVxVpAHvuLp7vDWkCaHdAb2sFaQCZYomByv1pAhvu7/Ya8WkB/RlUFG7laQLhT6hAytVpAgbxxPdCwWkBB7Agn+qtaQMSxGuS0plpAWSgFAAahWkAEmkR185paQHt9KaeDlFpAly0gW72NWkDda5Gxp4ZaQGUsYx5Kf1pAB44hYax3WkAhPth81m9aQPDapK/QZ1pATjILaqNfWkDYexRGV1daQFrlQv70TlpAX/ZiZIVGWkCXc0RYET5aQJyEZL6hNVpAHu6Sdj8tWkCoN5xS8yRaQAaPAg3GHFpA1SvPP8AUWkDv24Vb6gxaQJE9RJ5MBVpAGf4VC+/9WUBfPIdh2fZZQHvsfRUT8FlA8s9iR6PpWUCdQaK8kONZQDK4jNjh3VlAtX2elZzYWUB1rTV/xtNZQD4Wvatkz1lAdyNSt3vLWUBwbuu+D8hZQNARBVwkxVlAXEzXoLzCWUDYbhsV28BZQAV7YrOBv1lAhkAA57G+WUBMKI2KbL5ZQEwojYpsvllAhkAA57G+WUAFe2Kzgb9ZQNhuGxXbwFlAXEzXoLzCWUDQEQVcJMVZQHBu674PyFlAdyNSt3vLWUA+Fr2rZM9ZQHWtNX/G01lAtX2elZzYWUAyuIzY4d1ZQJ1BoryQ41lA8s9iR6PpWUB77H0VE/BZQF88h2HZ9llAGf4VC+/9WUCRPUSeTAVaQO/bhVvqDFpA1SvPP8AUWkAGjwINxhxaQKg3nFLzJFpAHu6Sdj8tWkCchGS+oTVaQJdzRFgRPlpAX/ZiZIVGWkBa5UL+9E5aQNh7FEZXV1pATjILaqNfWkDw2qSv0GdaQCE+2HzWb1pAB44hYax3WkBlLGMeSn9aQN1rkbGnhlpAly0gW72NWkB7fSmng5RaQASaRHXzmlpAWSgFAAahWkDEsRrktKZaQEHsCCf6q1pAgbxxPdCwWkC4U+oQMrVaQH9GVQUbuVpAhvu7/Ya8WkAmWKJgcr9aQJod0BvawVpAHvuLp7vDWkDx7kQJFcVaQHApp9XkxVpAqkEaMirGWkA=\",\"dtype\":\"float64\",\"shape\":[100]},\"y\":{\"__ndarray__\":\"7nDY798SWUBHLdEN4x9ZQGbQvEUILVlAqwqJw0E6WUDQAtCdgUdZQKHHeuS5VFlA0Mtqr9xhWUBZ/xot3G5ZQNkiKbGqe1lAEgq4wjqIWUAcrJsqf5RZQKAYQAFroFlAQbI8vPGrWUBrZoU7B7dZQNUBLNafwVlArzakZrDLWUBhbX1WLtVZQPkJhqkP3llA9W5MCEvmWUCfsPLJ1+1ZQJWiSv2t9FlARKowccb6WUBmjBy8GgBaQAxA4EKlBFpApq6NPmEIWkDqLH3BSgtaQC1jb7teDVpAZEzG/JoOWkDj59E4/g5aQKEyLgeIDlpAv/cw5DgNWkDuBGcwEgtaQCpMIS8WCFpADHkTBEgEWkCregawq/9ZQId7ogxG+llAgLVUxxz0WUDff1ZbNu1ZQN7f2wqa5VlAxcdw10/dWUD5DI15YNRZQAPxZ1fVyllAE+QUe7jAWUC85/OHFLZZQAqugK/0qllAozqMpWSfWUD0aO2TcJNZQK5KtQ0lh1lAVtT0AY96WUA6wiGuu21ZQDrCIa67bVlA4AUpkLhgWUDCYj1Yk1NZQH0ocdpZRllAWDAqABo5WUCHa3+54StZQFhnj+6+HllAzzPfcL8RWUBPENHs8ARZQBYpQttg+FhADIdecxzsWECIGrqcMOBYQOeAveGp1FhAvcx0YpTJWEBTMc7H+75YQHn8VTfrtFhAx8V8R22rWEAvKXT0i6JYQDPErZVQmlhAiYIH1MOSWECTkK+g7YtYQOSIySzVhVhAwabd4YCAWEAc8xlb9ntYQIKEbF86eFhAPgZ93FB1WED7z4riPHNYQMTmM6EAclhARUsoZZ1xWECHAMyWE3JYQGk7yblic1hAOi6TbYl1WED+5thuhXhYQBy65plTfFhAfbjz7e+AWECht1eRVYZYQKh9pdZ+jFhASbOjQmWTWEBKUx6TAZtYQGNricZLo1hALyZtJDusWEAlQpJGxrVYQBVP5SLjv1hAbEsGFofKWEAehXnuptVYQIX4bfg24VhANMoMCivtWEB66ESQdvlYQNJeBZwMBllA7nDY798SWUA=\",\"dtype\":\"float64\",\"shape\":[100]}},\"selected\":{\"id\":\"17a99694-b202-4bd3-ae74-6af9be20fb95\",\"type\":\"Selection\"},\"selection_policy\":{\"id\":\"5be08191-02a2-4f6e-9859-de3dd254dfa2\",\"type\":\"UnionRenderers\"}},\"id\":\"4a5c9258-af9e-4e6d-b931-ca31c78211eb\",\"type\":\"ColumnDataSource\"},{\"attributes\":{\"fill_alpha\":0.16248963595818908,\"fill_color\":\"blue\",\"line_alpha\":0.16248963595818908,\"line_color\":\"blue\",\"x\":{\"field\":\"x\"},\"y\":{\"field\":\"y\"}},\"id\":\"74fba80d-8c94-465b-a2f6-428ddd0cc83e\",\"type\":\"Patch\"},{\"attributes\":{},\"id\":\"6e41a9bc-aff5-490a-ac92-688bf471070a\",\"type\":\"WheelZoomTool\"},{\"attributes\":{\"data_source\":{\"id\":\"59cbcde1-446c-4aa9-8362-88c6a0d32bc2\",\"type\":\"ColumnDataSource\"},\"glyph\":{\"id\":\"74fba80d-8c94-465b-a2f6-428ddd0cc83e\",\"type\":\"Patch\"},\"hover_glyph\":null,\"muted_glyph\":null,\"nonselection_glyph\":{\"id\":\"8f7fcbdf-195c-4f55-9dd6-6c1f848290a6\",\"type\":\"Patch\"},\"selection_glyph\":null,\"view\":{\"id\":\"a97aebf9-608b-452c-9656-517e08ee6134\",\"type\":\"CDSView\"}},\"id\":\"43024d09-e580-418a-b770-4c30f19203d1\",\"type\":\"GlyphRenderer\"},{\"attributes\":{\"data_source\":{\"id\":\"4a5c9258-af9e-4e6d-b931-ca31c78211eb\",\"type\":\"ColumnDataSource\"},\"glyph\":{\"id\":\"1b0de3c5-ae4c-4b26-a8e9-b7ce7c38ced3\",\"type\":\"Patch\"},\"hover_glyph\":null,\"muted_glyph\":null,\"nonselection_glyph\":{\"id\":\"ddd31d16-1919-42de-9506-3f7ad0fe576b\",\"type\":\"Patch\"},\"selection_glyph\":null,\"view\":{\"id\":\"08afd442-b5ca-43c6-be8b-8543ba611f36\",\"type\":\"CDSView\"}},\"id\":\"eaa4f165-8b55-4e41-bf1e-b7c7191aa1e5\",\"type\":\"GlyphRenderer\"},{\"attributes\":{\"fill_alpha\":0.17251451051141758,\"fill_color\":\"blue\",\"line_alpha\":0.17251451051141758,\"line_color\":\"blue\",\"x\":{\"field\":\"x\"},\"y\":{\"field\":\"y\"}},\"id\":\"fd2d6d9b-65d5-4fba-92a8-37d57393e7df\",\"type\":\"Patch\"},{\"attributes\":{\"fill_alpha\":0.1,\"fill_color\":\"#1f77b4\",\"line_alpha\":0.1,\"line_color\":\"#1f77b4\",\"x\":{\"field\":\"x\"},\"y\":{\"field\":\"y\"}},\"id\":\"f9c1832a-84a1-4b78-aebf-8428b9aa1982\",\"type\":\"Patch\"},{\"attributes\":{\"data_source\":{\"id\":\"0a5758eb-0cd3-41fc-ade1-5adbd8ae0e92\",\"type\":\"ColumnDataSource\"},\"glyph\":{\"id\":\"fd2d6d9b-65d5-4fba-92a8-37d57393e7df\",\"type\":\"Patch\"},\"hover_glyph\":null,\"muted_glyph\":null,\"nonselection_glyph\":{\"id\":\"f9c1832a-84a1-4b78-aebf-8428b9aa1982\",\"type\":\"Patch\"},\"selection_glyph\":null,\"view\":{\"id\":\"a5580403-d133-4d70-accd-9d2e20150f4f\",\"type\":\"CDSView\"}},\"id\":\"d178374a-da51-48de-aeac-e3118d9ccff5\",\"type\":\"GlyphRenderer\"},{\"attributes\":{},\"id\":\"65b743e8-526e-4142-b341-ab2b871e4371\",\"type\":\"SaveTool\"},{\"attributes\":{\"fill_alpha\":0.1,\"fill_color\":\"#1f77b4\",\"line_alpha\":0.1,\"line_color\":\"#1f77b4\",\"x\":{\"field\":\"x\"},\"y\":{\"field\":\"y\"}},\"id\":\"cebb391a-01fc-4e63-b41d-db00401b81d4\",\"type\":\"Patch\"},{\"attributes\":{\"source\":{\"id\":\"0a5758eb-0cd3-41fc-ade1-5adbd8ae0e92\",\"type\":\"ColumnDataSource\"}},\"id\":\"a5580403-d133-4d70-accd-9d2e20150f4f\",\"type\":\"CDSView\"},{\"attributes\":{\"source\":{\"id\":\"3449336c-e497-49e0-9798-4ed2dab6b3bc\",\"type\":\"ColumnDataSource\"}},\"id\":\"985a0658-0aaf-4ee0-90c8-343f4e094f75\",\"type\":\"CDSView\"},{\"attributes\":{\"data_source\":{\"id\":\"cc123abc-b8dc-4ae1-8f97-9f1409a84bb8\",\"type\":\"ColumnDataSource\"},\"glyph\":{\"id\":\"c31c0a46-0738-483e-8645-d82c7d95bcef\",\"type\":\"Patch\"},\"hover_glyph\":null,\"muted_glyph\":null,\"nonselection_glyph\":{\"id\":\"cebb391a-01fc-4e63-b41d-db00401b81d4\",\"type\":\"Patch\"},\"selection_glyph\":null,\"view\":{\"id\":\"874df0b0-7f4b-4ccd-8b76-a58d307a5a2d\",\"type\":\"CDSView\"}},\"id\":\"15f2bbf7-3498-4516-b673-44c4e62bbb45\",\"type\":\"GlyphRenderer\"},{\"attributes\":{\"fill_alpha\":0.1,\"fill_color\":\"#1f77b4\",\"line_alpha\":0.1,\"line_color\":\"#1f77b4\",\"x\":{\"field\":\"x\"},\"y\":{\"field\":\"y\"}},\"id\":\"aecee6e4-58d6-4cf0-b802-882afa638366\",\"type\":\"Patch\"},{\"attributes\":{\"source\":{\"id\":\"cc123abc-b8dc-4ae1-8f97-9f1409a84bb8\",\"type\":\"ColumnDataSource\"}},\"id\":\"874df0b0-7f4b-4ccd-8b76-a58d307a5a2d\",\"type\":\"CDSView\"},{\"attributes\":{\"fill_alpha\":0.16499585353039334,\"fill_color\":\"blue\",\"line_alpha\":0.16499585353039334,\"line_color\":\"blue\",\"x\":{\"field\":\"x\"},\"y\":{\"field\":\"y\"}},\"id\":\"09774293-6da5-4843-a254-d4155db79de5\",\"type\":\"Patch\"},{\"attributes\":{\"callback\":null,\"data\":{\"x\":{\"__ndarray__\":\"wL4jhoxRWUCkMurXaVFZQGQVufEBUVlAepvcQFVQWUC4rP56ZE9ZQP/JZ50wTllAr5v067pMWUArQcHvBEtZQMjHi3UQSVlALHzPi99GWUAMFJuAdERZQM32I9/RQVlAGDIZbfo+WUDt6rgn8TtZQKlcq0C5OFlAt7SmGlY1WUDaU99FyzFZQB40SHwcLllA72SnnU0qWUD8vIKrYiZZQGML6cRfIllAEzccIkkeWUDY2yAQIxpZQJgQOOzxFVlAGxlIH7oRWUC31zgZgA1ZQDrgSExICVlA+hRgKBcFWUC/uWQW8QBZQG/ll3Pa/FhA1jP+jNf4WEDji9ma7PRYQLS8OLwd8VhA+Jyh8m7tWEAbPNod5OlYQCmU1feA5lhA5QXIEEnjWEC6vmfLP+BYQAX6XFlo3VhAxtzlt8XaWECmdLGsWthYQAop9cIp1lhAp6+/SDXUWEAjVYxMf9JYQNMmGZsJ0VhAGkSCvdXPWEBYVaT35M5YQG7bx0Y4zlhALr6WYNDNWEASMl2yrc1YQBIyXbKtzVhALr6WYNDNWEBu28dGOM5YQFhVpPfkzlhAGkSCvdXPWEDTJhmbCdFYQCNVjEx/0lhAp6+/SDXUWEAKKfXCKdZYQKZ0saxa2FhAxtzlt8XaWEAF+lxZaN1YQLq+Z8s/4FhA5QXIEEnjWEAplNX3gOZYQBs82h3k6VhA+Jyh8m7tWEC0vDi8HfFYQOOL2Zrs9FhA1jP+jNf4WEBv5Zdz2vxYQL+5ZBbxAFlA+hRgKBcFWUA64EhMSAlZQLfXOBmADVlAGxlIH7oRWUCYEDjs8RVZQNjbIBAjGllAEzccIkkeWUBjC+nEXyJZQPy8gqtiJllA72SnnU0qWUAeNEh8HC5ZQNpT30XLMVlAt7SmGlY1WUCpXKtAuThZQO3quCfxO1lAGDIZbfo+WUDN9iPf0UFZQAwUm4B0RFlALHzPi99GWUDIx4t1EElZQCtBwe8ES1lAr5v067pMWUD/yWedME5ZQLis/npkT1lAepvcQFVQWUBkFbnxAVFZQKQy6tdpUVlAwL4jhoxRWUA=\",\"dtype\":\"float64\",\"shape\":[100]},\"y\":{\"__ndarray__\":\"jmdEIMffWEC7xUCvSOZYQEqXNkvb7FhAbLQcCnjzWEB/MED3F/pYQOiSlRq0AFlA/5QNgEUHWUDEruU+xQ1ZQIPA7IAsFFlAIDS0iXQaWUAlBaa9liBZQGc7+KiMJllAN4h2BlAsWUBM4hrG2jFZQAEwbhMnN1lAb0qqWy88WUDI5ZZT7kBZQBQ0G/1eRVlAkmZ+rHxJWUBmh1ENQ01ZQGGA/SauUFlAOYTwYLpTWUBKdWaGZFZZQB1PyMmpWFlAagafx4daWUCMxRaJ/FtZQK7gD4YGXVlASVW7pqRdWUAJI8FE1l1ZQGdI7yubXVlA9qpwmvNcWUCOsYtA4FtZQCzV6D9iWllAnethKntYWUBtbFsALVZZQNtsqS56U1lA14kCjGVQWUAHbwNW8kxZQAYfxi0kSVlA+ZIQFP9EWUCTtR5lh0BZQJknDNTBO1lAIKHiZbM2WUD1IlJsYTFZQByGGIDRK1lAaEweewkmWUCR405yDyBZQG7UMq/pGVlAQplSqZ4TWUA0EGn/NA1ZQDQQaf80DVlAB7JscLMGWUB44HbUIABZQFbDkBWE+VhAQ0dtKOTyWEDa5BcFSOxYQMPin5+25VhA/sjH4DbfWEA/t8Cez9hYQKJD+ZWH0lhAnXIHYmXMWEBbPLV2b8ZYQIvvNhmswFhAdZWSWSG7WEDBRz8M1bVYQFMtA8TMsFhA+pEWzA2sWECuQ5IinadYQDARL3N/o1hAW/BbErmfWEBh96/4TZxYQInzvL5BmVhAeAJHmZeWWEClKOVVUpRYQFhxDlh0klhANrKWlv+QWEAUl52Z9Y9YQHki8nhXj1hAuVTs2iWPWEBbL77zYI9YQMzMPIUIkFhANMYh3xuRWECWosTfmZJYQCWMS/WAlFhAVQtSH8+WWEDnCgTxgZlYQOvtqpOWnFhAuwiqyQmgWEC8WOfx16NYQMnknAv9p1hAL8KOunSsWEApUKFLOrFYQKLWyrlItlhAzVRbs5q7WECm8ZSfKsFYQForj6TyxlhAMZRerezMWEBUo3pwEtNYQIDeWnZd2VhAjmdEIMffWEA=\",\"dtype\":\"float64\",\"shape\":[100]}},\"selected\":{\"id\":\"1fdeeca6-db40-488c-81ac-d35c62e0e728\",\"type\":\"Selection\"},\"selection_policy\":{\"id\":\"81080493-e9b9-498e-b261-bbb0b669f2bd\",\"type\":\"UnionRenderers\"}},\"id\":\"3449336c-e497-49e0-9798-4ed2dab6b3bc\",\"type\":\"ColumnDataSource\"},{\"attributes\":{\"callback\":null,\"data\":{\"x\":{\"__ndarray__\":\"GAUH8HuTWUDe7JOTNpNZQF+yMcdmkllAjL54ZQ2RWUAI4bzZK49ZQJQbjx7EjFlA9L6ou9iJWUDtCULDbIZZQCYX186DgllA739e+yF+WUCvr/XkS3lZQDJ1B6IGdFlAx+vxvVduWUByXTEzRWhZQOlAFmXVYVlABfEMGQ9bWUBLL35v+VNZQNPvT9ybTFlAdVEOH/5EWUCPAcU6KD1ZQF6ekW0iNVlAvPX3J/UsWUBGPwEEqSRZQMioL7xGHFlAzblPItcTWUAFNzEWYwtZQApIUXzzAllAjLF/NJH6WEAW+4gQRfJYQHRS78oX6lhAQ++7/RHiWEBdn3IZPNpYQP8AMVye0lhAh8ECyUDLWEDN/3MfK8RYQOmvatNkvVhAYJNPBfW2WEALBY964rBYQKB7eZYzq1hAI0GLU+6lWEDjcCI9GKFYQKzZqWm2nFhA5eY+dc2YWEDeMdh8YZVYQD7V8Rl2klhAyg/EXg6QWEBGMgjTLI5YQHM+T3HTjFhA9APtpAOMWEC663lIvotYQLrreUi+i1hA9APtpAOMWEBzPk9x04xYQEYyCNMsjlhAyg/EXg6QWEA+1fEZdpJYQN4x2HxhlVhA5eY+dc2YWECs2alptpxYQONwIj0YoVhAI0GLU+6lWECge3mWM6tYQAsFj3risFhAYJNPBfW2WEDpr2rTZL1YQM3/cx8rxFhAh8ECyUDLWED/ADFcntJYQF2fchk82lhAQ++7/RHiWEB0Uu/KF+pYQBb7iBBF8lhAjLF/NJH6WEAKSFF88wJZQAU3MRZjC1lAzblPItcTWUDIqC+8RhxZQEY/AQSpJFlAvPX3J/UsWUBenpFtIjVZQI8BxTooPVlAdVEOH/5EWUDT70/cm0xZQEsvfm/5U1lABfEMGQ9bWUDpQBZl1WFZQHJdMTNFaFlAx+vxvVduWUAydQeiBnRZQK+v9eRLeVlA739e+yF+WUAmF9fOg4JZQO0JQsNshllA9L6ou9iJWUCUG48exIxZQAjhvNkrj1lAjL54ZQ2RWUBfsjHHZpJZQN7sk5M2k1lAGAUH8HuTWUA=\",\"dtype\":\"float64\",\"shape\":[100]},\"y\":{\"__ndarray__\":\"OxOyMBDJWECUz6pOE9ZYQLNyloY441hA+KxiBHLwWEAdpanesf1YQO5pVCXqCllAHW5E8AwYWUCmofRtDCVZQCbFAvLaMVlAX6yRA2s+WUBpTnVrr0pZQO26GUKbVllAjlQW/SFiWUC4CF98N21ZQCKkBRfQd1lA/Nh9p+CBWUCuD1eXXotZQEasX+o/lFlAQhEmSXucWUDsUswKCKRZQOJEJD7eqllAkUwKsvawWUC0Lvb8SrZZQFniuYPVullA81Bnf5G+WUA3z1YCe8FZQHoFSfyOw1lAse6fPcvEWUAwiqt5LsVZQO7UB0i4xFlADJoKJWnDWUA7p0BxQsFZQHfu+m9GvllAWRvtRHi6WUD4HODw27VZQNQdfE12sFlAzVcuCE2qWUAsIjCcZqNZQCuCtUvKm1lAEmpKGICTWUBGr2a6kIpZQFCTQZgFgVlAYIbuu+h2WUAJis3IRGxZQFdQWvAkYVlA8Nxl5pRVWUBBC8fUoElZQPvsjk5VPVlAo3bOQr8wWUCHZPvu6yNZQIdk++7rI1lALagC0egWWUAPBReZwwlZQMrKShuK/FhApdIDQUrvWEDUDVn6EeJYQKUJaS/v1FhAHNa4se/HWECcsqotIbtYQGPLGxyRrlhAWSk4tEyiWEDVvJPdYJZYQDQjlyLailhACm9Oo8R/WECg06cILHVYQMaeL3gba1hAFGhWiJ1hWEB8y001vFhYQIBmh9aAUFhA1iThFPRIWEDgMonhHUJYQDEro20FPFhADkm3IrE2WEBplfObJjJYQM8mRqBqLlhAi6hWHYErWEBIcmQjbSlYQBGJDeIwKFhAku0Bps0nWEDUoqXXQyhYQLbdovqSKVhAh9BsrrkrWEBLibKvtS5YQGlcwNqDMlhAylrNLiA3WEDuWTHShTxYQPUffxevQlhAllV9g5VJWECX9ffTMVFYQLANYwd8WVhAfMhGZWtiWEBy5GuH9mtYQGLxvmMTdlhAue3fVreAWEBrJ1Mv14tYQNKaRzlnl1hAgWzmSlujWEDHih7Rpq9YQB8B39w8vFhAOxOyMBDJWEA=\",\"dtype\":\"float64\",\"shape\":[100]}},\"selected\":{\"id\":\"8a55a806-d0b5-493e-a172-63552a043d19\",\"type\":\"Selection\"},\"selection_policy\":{\"id\":\"8493b3fb-baf5-4534-ba9f-17ebed54dc58\",\"type\":\"UnionRenderers\"}},\"id\":\"cc123abc-b8dc-4ae1-8f97-9f1409a84bb8\",\"type\":\"ColumnDataSource\"},{\"attributes\":{\"source\":{\"id\":\"4a5c9258-af9e-4e6d-b931-ca31c78211eb\",\"type\":\"ColumnDataSource\"}},\"id\":\"08afd442-b5ca-43c6-be8b-8543ba611f36\",\"type\":\"CDSView\"},{\"attributes\":{\"fill_alpha\":0.1,\"fill_color\":\"#1f77b4\",\"line_alpha\":0.1,\"line_color\":\"#1f77b4\",\"x\":{\"field\":\"x\"},\"y\":{\"field\":\"y\"}},\"id\":\"131f7d46-5941-4838-b272-1440f25a8a1d\",\"type\":\"Patch\"},{\"attributes\":{},\"id\":\"aee37ffe-b95d-44f6-bce3-6c330ef44dc0\",\"type\":\"UnionRenderers\"},{\"attributes\":{},\"id\":\"e71c4ae9-61cf-42b7-9e49-b2ef7dac8e09\",\"type\":\"ResetTool\"},{\"attributes\":{},\"id\":\"1fdeeca6-db40-488c-81ac-d35c62e0e728\",\"type\":\"Selection\"},{\"attributes\":{\"active_drag\":\"auto\",\"active_inspect\":\"auto\",\"active_scroll\":\"auto\",\"active_tap\":\"auto\",\"tools\":[{\"id\":\"be55cc4b-18ac-49eb-88f8-64d779ecc927\",\"type\":\"PanTool\"},{\"id\":\"6e41a9bc-aff5-490a-ac92-688bf471070a\",\"type\":\"WheelZoomTool\"},{\"id\":\"488c0c18-f80e-4373-a100-8b5b5582dd8b\",\"type\":\"BoxZoomTool\"},{\"id\":\"65b743e8-526e-4142-b341-ab2b871e4371\",\"type\":\"SaveTool\"},{\"id\":\"e71c4ae9-61cf-42b7-9e49-b2ef7dac8e09\",\"type\":\"ResetTool\"},{\"id\":\"3a8bfaa0-8481-4fd6-b203-002de7b005f1\",\"type\":\"HelpTool\"}]},\"id\":\"73ba6a02-2eeb-4896-bb73-9658750e9e46\",\"type\":\"Toolbar\"},{\"attributes\":{\"fill_alpha\":0.1,\"fill_color\":\"#1f77b4\",\"line_alpha\":0.1,\"line_color\":\"#1f77b4\",\"x\":{\"field\":\"x\"},\"y\":{\"field\":\"y\"}},\"id\":\"ddd31d16-1919-42de-9506-3f7ad0fe576b\",\"type\":\"Patch\"},{\"attributes\":{\"callback\":null,\"end\":110,\"start\":90},\"id\":\"aa9974cd-d3f7-4238-8e57-cf4c5de3397a\",\"type\":\"Range1d\"},{\"attributes\":{\"bottom_units\":\"screen\",\"fill_alpha\":{\"value\":0.5},\"fill_color\":{\"value\":\"lightgrey\"},\"left_units\":\"screen\",\"level\":\"overlay\",\"line_alpha\":{\"value\":1.0},\"line_color\":{\"value\":\"black\"},\"line_dash\":[4,4],\"line_width\":{\"value\":2},\"plot\":null,\"render_mode\":\"css\",\"right_units\":\"screen\",\"top_units\":\"screen\"},\"id\":\"3f809cac-414b-4719-af93-9ac679e0798d\",\"type\":\"BoxAnnotation\"},{\"attributes\":{\"plot\":null,\"text\":\"PLDA\"},\"id\":\"006623c6-ef1c-429b-9cb1-831c1dbeee4d\",\"type\":\"Title\"},{\"attributes\":{\"source\":{\"id\":\"0b7fa243-c049-446e-b7ef-3126e7f57284\",\"type\":\"ColumnDataSource\"}},\"id\":\"3d80f7af-d7c7-40eb-a872-6290d9818ba3\",\"type\":\"CDSView\"},{\"attributes\":{},\"id\":\"a3fc4d7a-fd55-4743-8a13-6cad70802d5e\",\"type\":\"Selection\"},{\"attributes\":{},\"id\":\"81080493-e9b9-498e-b261-bbb0b669f2bd\",\"type\":\"UnionRenderers\"},{\"attributes\":{\"callback\":null,\"data\":{\"x\":{\"__ndarray__\":\"3Npbz8kGWEDATiIhpwZYQIAx8To/BlhAlrcUipIFWEDUyDbEoQRYQBvmn+ZtA1hAy7csNfgBWEBHXfk4QgBYQOTjw75N/ldASJgH1Rz8V0AoMNPJsflXQOkSXCgP91dANE5Rtjf0V0AJB/FwLvFXQMV444n27VdA09DeY5PqV0D2bxePCOdXQDpQgMVZ41dAC4Hf5orfV0AY2br0n9tXQH8nIQ6d11dAL1NUa4bTV0D091hZYM9XQLQscDUvy1dANzWAaPfGV0DT83BivcJXQFb8gJWFvldAFjGYcVS6V0Db1ZxfLrZXQIsB0LwXsldA8k821hSuV0D/pxHkKapXQNDYcAVbpldAFLnZO6yiV0A3WBJnIZ9XQEWwDUG+m1dAASIAWoaYV0DW2p8UfZVXQCEWlaKlkldA4vgdAQOQV0DCkOn1l41XQCZFLQxni1dAw8v3kXKJV0A/ccSVvIdXQO9CUeRGhldANmC6BhOFV0B0cdxAIoRXQIr3/491g1dAStrOqQ2DV0AuTpX76oJXQC5OlfvqgldAStrOqQ2DV0CK9/+PdYNXQHRx3EAihFdANmC6BhOFV0DvQlHkRoZXQD9xxJW8h1dAw8v3kXKJV0AmRS0MZ4tXQMKQ6fWXjVdA4vgdAQOQV0AhFpWipZJXQNbanxR9lVdAASIAWoaYV0BFsA1BvptXQDdYEmchn1dAFLnZO6yiV0DQ2HAFW6ZXQP+nEeQpqldA8k821hSuV0CLAdC8F7JXQNvVnF8utldAFjGYcVS6V0BW/ICVhb5XQNPzcGK9wldANzWAaPfGV0C0LHA1L8tXQPT3WFlgz1dAL1NUa4bTV0B/JyEOnddXQBjZuvSf21dAC4Hf5orfV0A6UIDFWeNXQPZvF48I51dA09DeY5PqV0DFeOOJ9u1XQAkH8XAu8VdANE5Rtjf0V0DpElwoD/dXQCgw08mx+VdASJgH1Rz8V0Dk48O+Tf5XQEdd+ThCAFhAy7csNfgBWEAb5p/mbQNYQNTINsShBFhAlrcUipIFWECAMfE6PwZYQMBOIiGnBlhA3Npbz8kGWEA=\",\"dtype\":\"float64\",\"shape\":[100]},\"y\":{\"__ndarray__\":\"3/vXwCuQWEAMWtRPrZZYQJsryus/nVhAvUiwqtyjWEDQxNOXfKpYQDknKbsYsVhAUCmhIKq3WEAVQ3nfKb5YQNRUgCGRxFhAcchHKtnKWEB2mTle+9BYQLjPi0nx1lhAiBwKp7TcWECedq5mP+JYQFLEAbSL51hAwN49/JPsWEAZeir0UvFYQGXIrp3D9VhA4/oRTeH5WEC4G+Wtp/1YQLIUkccSAVlAihiEAR8EWUCbCfomyQZZQG7jW2oOCVlAu5oyaOwKWUDdWaopYQxZQP90oyZrDVlAmulORwkOWUBat1TlOg5ZQLjcgsz/DVlARz8EO1gNWUDfRR/hRAxZQH1pfODGCllA7n/1yt8IWUC+AO+gkQZZQCwBPc/eA1lAKB6WLMoAWUBYA5f2Vv1YQFezWc6I+VhASiektGP1WEDkSbIF7PBYQOq7n3Qm7FhAcTV2BhjnWEBGt+UMxuFYQG0arCA23FhAueCxG27WWEDid+ISdNBYQL9oxk9OylhAky3mSQPEWECFpPyfmb1YQIWk/J+ZvVhAWEYAERi3WEDJdAp1hbBYQKdXJLboqVhAlNsAyUijWEAreaulrJxYQBR3M0AbllhAT11bgZuPWECQS1Q/NIlYQPPXjDbsglhA7gabAsp8WECs0EgX1HZYQNyDyrkQcVhAxikm+oVrWEAS3NKsOWZYQKTBlmQxYVhASyaqbHJcWED/1yXDAVhYQIGlwhPkU1hArITvsh1QWECyi0OZskxYQNqHUF+mSVhAyZbaOfxGWED2vHj2tkRYQKkFovjYQlhAh0YqN2RBWEBlKzE6WkBYQMq2hRm8P1hACul/e4o/WECsw1GUxT9YQB1h0CVtQFhAhVq1f4BBWEDnNliA/kJYQHYg35XlRFhApp/lvzNHWEA4n5eR5klYQDyCPjT7TFhADJ09am5QWEAN7XqSPFRYQBp5MKxhWFhAgFYiW9lcWEB65DTsnmFYQPNqXlqtZlhAHunuU/9rWED3hShAj3FYQKu/IkVXd1hAgijyTVF9WEClNw4Rd4NYQNFy7hbCiVhA3/vXwCuQWEA=\",\"dtype\":\"float64\",\"shape\":[100]}},\"selected\":{\"id\":\"e45af9e4-f2b7-4623-905e-5437d75201b0\",\"type\":\"Selection\"},\"selection_policy\":{\"id\":\"1a5e46ab-da40-4859-8cce-fd081cc21306\",\"type\":\"UnionRenderers\"}},\"id\":\"99f21ffb-4ec6-4f2c-a7e4-073a46e03fb0\",\"type\":\"ColumnDataSource\"},{\"attributes\":{},\"id\":\"6a375d97-138e-41cc-90b9-2f10dc0f5a85\",\"type\":\"UnionRenderers\"},{\"attributes\":{},\"id\":\"61b67045-6de8-407d-ae99-3296f06c61be\",\"type\":\"Selection\"},{\"attributes\":{},\"id\":\"17a99694-b202-4bd3-ae74-6af9be20fb95\",\"type\":\"Selection\"},{\"attributes\":{},\"id\":\"3aa02186-84ed-4290-a246-4e1bd16869ac\",\"type\":\"LinearScale\"},{\"attributes\":{},\"id\":\"5be08191-02a2-4f6e-9859-de3dd254dfa2\",\"type\":\"UnionRenderers\"},{\"attributes\":{\"source\":{\"id\":\"99f21ffb-4ec6-4f2c-a7e4-073a46e03fb0\",\"type\":\"ColumnDataSource\"}},\"id\":\"1b746ee4-d87d-444f-83e2-6c13263ffa60\",\"type\":\"CDSView\"},{\"attributes\":{},\"id\":\"8611e201-1866-416e-a3b4-1879fd73158a\",\"type\":\"BasicTickFormatter\"},{\"attributes\":{\"callback\":null,\"data\":{\"x\":{\"__ndarray__\":\"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\",\"dtype\":\"float64\",\"shape\":[200]},\"y\":{\"__ndarray__\":\"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\",\"dtype\":\"float64\",\"shape\":[200]}},\"selected\":{\"id\":\"61b67045-6de8-407d-ae99-3296f06c61be\",\"type\":\"Selection\"},\"selection_policy\":{\"id\":\"aee37ffe-b95d-44f6-bce3-6c330ef44dc0\",\"type\":\"UnionRenderers\"}},\"id\":\"0b7fa243-c049-446e-b7ef-3126e7f57284\",\"type\":\"ColumnDataSource\"},{\"attributes\":{},\"id\":\"c59b9897-cb2b-4ad3-93dd-c1366376df9d\",\"type\":\"Selection\"},{\"attributes\":{},\"id\":\"0805005f-2b20-471a-94bc-4e2a7019ba76\",\"type\":\"BasicTickFormatter\"},{\"attributes\":{\"fill_alpha\":0.17251451051141758,\"fill_color\":\"blue\",\"line_alpha\":0.17251451051141758,\"line_color\":\"blue\",\"x\":{\"field\":\"x\"},\"y\":{\"field\":\"y\"}},\"id\":\"f991d5fe-e891-4800-897c-3881323e4410\",\"type\":\"Patch\"},{\"attributes\":{\"callback\":null,\"end\":110,\"start\":90},\"id\":\"7c26c0fd-481b-4105-8edc-9eb590599564\",\"type\":\"Range1d\"},{\"attributes\":{},\"id\":\"8a55a806-d0b5-493e-a172-63552a043d19\",\"type\":\"Selection\"},{\"attributes\":{\"below\":[{\"id\":\"b9ab759e-b26b-4b43-9cd8-0cd3bf7e33fc\",\"type\":\"LinearAxis\"}],\"left\":[{\"id\":\"8bf014f0-b11f-42dd-afce-d80ebc4ca548\",\"type\":\"LinearAxis\"}],\"plot_height\":400,\"plot_width\":400,\"renderers\":[{\"id\":\"b9ab759e-b26b-4b43-9cd8-0cd3bf7e33fc\",\"type\":\"LinearAxis\"},{\"id\":\"def3753a-45a4-44c0-9176-41fe88a46bf6\",\"type\":\"Grid\"},{\"id\":\"8bf014f0-b11f-42dd-afce-d80ebc4ca548\",\"type\":\"LinearAxis\"},{\"id\":\"b0293ed2-0631-47b3-af92-378518d1f5e6\",\"type\":\"Grid\"},{\"id\":\"3f809cac-414b-4719-af93-9ac679e0798d\",\"type\":\"BoxAnnotation\"},{\"id\":\"551445e6-e8d3-4a56-9ce8-48947fe79a3f\",\"type\":\"GlyphRenderer\"},{\"id\":\"eaa4f165-8b55-4e41-bf1e-b7c7191aa1e5\",\"type\":\"GlyphRenderer\"},{\"id\":\"43024d09-e580-418a-b770-4c30f19203d1\",\"type\":\"GlyphRenderer\"},{\"id\":\"15f2bbf7-3498-4516-b673-44c4e62bbb45\",\"type\":\"GlyphRenderer\"},{\"id\":\"e0e01bbd-def6-48cd-8a06-1e1c31c886bd\",\"type\":\"GlyphRenderer\"},{\"id\":\"d178374a-da51-48de-aeac-e3118d9ccff5\",\"type\":\"GlyphRenderer\"},{\"id\":\"9b2cec7b-38f2-4718-9941-15ead0a26264\",\"type\":\"GlyphRenderer\"}],\"title\":{\"id\":\"006623c6-ef1c-429b-9cb1-831c1dbeee4d\",\"type\":\"Title\"},\"toolbar\":{\"id\":\"73ba6a02-2eeb-4896-bb73-9658750e9e46\",\"type\":\"Toolbar\"},\"x_range\":{\"id\":\"aa9974cd-d3f7-4238-8e57-cf4c5de3397a\",\"type\":\"Range1d\"},\"x_scale\":{\"id\":\"c3965629-ac29-4bec-a9f3-bb9478b642e2\",\"type\":\"LinearScale\"},\"y_range\":{\"id\":\"7c26c0fd-481b-4105-8edc-9eb590599564\",\"type\":\"Range1d\"},\"y_scale\":{\"id\":\"3aa02186-84ed-4290-a246-4e1bd16869ac\",\"type\":\"LinearScale\"}},\"id\":\"bdbea72e-cf0b-4aff-bbdc-d4cccfa9a083\",\"subtype\":\"Figure\",\"type\":\"Plot\"},{\"attributes\":{},\"id\":\"8493b3fb-baf5-4534-ba9f-17ebed54dc58\",\"type\":\"UnionRenderers\"},{\"attributes\":{},\"id\":\"3a8bfaa0-8481-4fd6-b203-002de7b005f1\",\"type\":\"HelpTool\"},{\"attributes\":{},\"id\":\"1a5e46ab-da40-4859-8cce-fd081cc21306\",\"type\":\"UnionRenderers\"},{\"attributes\":{\"data_source\":{\"id\":\"99f21ffb-4ec6-4f2c-a7e4-073a46e03fb0\",\"type\":\"ColumnDataSource\"},\"glyph\":{\"id\":\"f991d5fe-e891-4800-897c-3881323e4410\",\"type\":\"Patch\"},\"hover_glyph\":null,\"muted_glyph\":null,\"nonselection_glyph\":{\"id\":\"131f7d46-5941-4838-b272-1440f25a8a1d\",\"type\":\"Patch\"},\"selection_glyph\":null,\"view\":{\"id\":\"1b746ee4-d87d-444f-83e2-6c13263ffa60\",\"type\":\"CDSView\"}},\"id\":\"9b2cec7b-38f2-4718-9941-15ead0a26264\",\"type\":\"GlyphRenderer\"},{\"attributes\":{},\"id\":\"c3965629-ac29-4bec-a9f3-bb9478b642e2\",\"type\":\"LinearScale\"},{\"attributes\":{\"fill_alpha\":{\"value\":0.1},\"fill_color\":{\"value\":\"#1f77b4\"},\"line_alpha\":{\"value\":0.1},\"line_color\":{\"value\":\"#1f77b4\"},\"x\":{\"field\":\"x\"},\"y\":{\"field\":\"y\"}},\"id\":\"e04892d4-d682-4731-b738-0cf0df8a577a\",\"type\":\"Circle\"},{\"attributes\":{\"data_source\":{\"id\":\"0b7fa243-c049-446e-b7ef-3126e7f57284\",\"type\":\"ColumnDataSource\"},\"glyph\":{\"id\":\"af0fa14f-088a-4b27-aa03-ac409e0cc73c\",\"type\":\"Circle\"},\"hover_glyph\":null,\"muted_glyph\":null,\"nonselection_glyph\":{\"id\":\"e04892d4-d682-4731-b738-0cf0df8a577a\",\"type\":\"Circle\"},\"selection_glyph\":null,\"view\":{\"id\":\"3d80f7af-d7c7-40eb-a872-6290d9818ba3\",\"type\":\"CDSView\"}},\"id\":\"551445e6-e8d3-4a56-9ce8-48947fe79a3f\",\"type\":\"GlyphRenderer\"},{\"attributes\":{},\"id\":\"a6c811c2-85d0-447f-a19b-2c01711d653a\",\"type\":\"BasicTicker\"},{\"attributes\":{},\"id\":\"e45af9e4-f2b7-4623-905e-5437d75201b0\",\"type\":\"Selection\"},{\"attributes\":{},\"id\":\"be55cc4b-18ac-49eb-88f8-64d779ecc927\",\"type\":\"PanTool\"},{\"attributes\":{},\"id\":\"321437b3-25e9-47cd-85ba-ee0cb9326f37\",\"type\":\"UnionRenderers\"},{\"attributes\":{\"formatter\":{\"id\":\"8611e201-1866-416e-a3b4-1879fd73158a\",\"type\":\"BasicTickFormatter\"},\"plot\":{\"id\":\"bdbea72e-cf0b-4aff-bbdc-d4cccfa9a083\",\"subtype\":\"Figure\",\"type\":\"Plot\"},\"ticker\":{\"id\":\"a6c811c2-85d0-447f-a19b-2c01711d653a\",\"type\":\"BasicTicker\"}},\"id\":\"b9ab759e-b26b-4b43-9cd8-0cd3bf7e33fc\",\"type\":\"LinearAxis\"},{\"attributes\":{\"dimension\":1,\"plot\":{\"id\":\"bdbea72e-cf0b-4aff-bbdc-d4cccfa9a083\",\"subtype\":\"Figure\",\"type\":\"Plot\"},\"ticker\":{\"id\":\"a9553a43-cc4e-4695-86e6-db151d7fa414\",\"type\":\"BasicTicker\"}},\"id\":\"b0293ed2-0631-47b3-af92-378518d1f5e6\",\"type\":\"Grid\"},{\"attributes\":{\"plot\":{\"id\":\"bdbea72e-cf0b-4aff-bbdc-d4cccfa9a083\",\"subtype\":\"Figure\",\"type\":\"Plot\"},\"ticker\":{\"id\":\"a6c811c2-85d0-447f-a19b-2c01711d653a\",\"type\":\"BasicTicker\"}},\"id\":\"def3753a-45a4-44c0-9176-41fe88a46bf6\",\"type\":\"Grid\"},{\"attributes\":{\"formatter\":{\"id\":\"0805005f-2b20-471a-94bc-4e2a7019ba76\",\"type\":\"BasicTickFormatter\"},\"plot\":{\"id\":\"bdbea72e-cf0b-4aff-bbdc-d4cccfa9a083\",\"subtype\":\"Figure\",\"type\":\"Plot\"},\"ticker\":{\"id\":\"a9553a43-cc4e-4695-86e6-db151d7fa414\",\"type\":\"BasicTicker\"}},\"id\":\"8bf014f0-b11f-42dd-afce-d80ebc4ca548\",\"type\":\"LinearAxis\"},{\"attributes\":{\"fill_alpha\":{\"value\":0.1},\"fill_color\":{\"value\":\"#1f77b4\"},\"line_alpha\":{\"value\":0.1},\"line_color\":{\"value\":\"#1f77b4\"},\"x\":{\"field\":\"x\"},\"y\":{\"field\":\"y\"}},\"id\":\"af0fa14f-088a-4b27-aa03-ac409e0cc73c\",\"type\":\"Circle\"},{\"attributes\":{},\"id\":\"a9553a43-cc4e-4695-86e6-db151d7fa414\",\"type\":\"BasicTicker\"}],\"root_ids\":[\"bdbea72e-cf0b-4aff-bbdc-d4cccfa9a083\"]},\"title\":\"Bokeh Application\",\"version\":\"0.12.16\"}};\n",
       "  var render_items = [{\"docid\":\"5a499d19-1639-4848-ace3-2fa1c5fb2809\",\"elementid\":\"a8f183f2-efba-4477-a0db-df63e2eae56b\",\"modelid\":\"bdbea72e-cf0b-4aff-bbdc-d4cccfa9a083\"}];\n",
       "  root.Bokeh.embed.embed_items_notebook(docs_json, render_items);\n",
       "\n",
       "  }\n",
       "  if (root.Bokeh !== undefined) {\n",
       "    embed_document(root);\n",
       "  } else {\n",
       "    var attempts = 0;\n",
       "    var timer = setInterval(function(root) {\n",
       "      if (root.Bokeh !== undefined) {\n",
       "        embed_document(root);\n",
       "        clearInterval(timer);\n",
       "      }\n",
       "      attempts++;\n",
       "      if (attempts > 100) {\n",
       "        console.log(\"Bokeh: ERROR: Unable to run BokehJS code because BokehJS library is missing\")\n",
       "        clearInterval(timer);\n",
       "      }\n",
       "    }, 10, root)\n",
       "  }\n",
       "})(window);"
      ],
      "application/vnd.bokehjs_exec.v0+json": ""
     },
     "metadata": {
      "application/vnd.bokehjs_exec.v0+json": {
       "id": "bdbea72e-cf0b-4aff-bbdc-d4cccfa9a083"
      }
     },
     "output_type": "display_data"
    }
   ],
   "source": [
    "fig1 = figure(title='PLDA', width=400, height=400, x_range=x_range, y_range=y_range)\n",
    "fig1.circle(data[:, 0], data[:, 1], alpha=.1)\n",
    "plotting.plot_gmm(fig1, plda, alpha=.5, color='blue')\n",
    "show(fig1)"
   ]
  }
 ],
 "metadata": {
  "kernelspec": {
   "display_name": "Python 3",
   "language": "python",
   "name": "python3"
  },
  "language_info": {
   "codemirror_mode": {
    "name": "ipython",
    "version": 3
   },
   "file_extension": ".py",
   "mimetype": "text/x-python",
   "name": "python",
   "nbconvert_exporter": "python",
   "pygments_lexer": "ipython3",
   "version": "3.6.4"
  }
 },
 "nbformat": 4,
 "nbformat_minor": 2
}
