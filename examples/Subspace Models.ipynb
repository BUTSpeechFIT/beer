{
 "cells": [
  {
   "cell_type": "markdown",
   "metadata": {},
   "source": [
    "# Probabilistic Principal Component Analysis\n",
    "\n",
    "This notebook illustrate how to use a PPCA model with the [beer framework](https://github.com/beer-asr/beer). "
   ]
  },
  {
   "cell_type": "code",
   "execution_count": null,
   "metadata": {},
   "outputs": [],
   "source": [
    "# Add \"beer\" to the PYTHONPATH\n",
    "import sys\n",
    "sys.path.insert(0, '../')\n",
    "\n",
    "import beer\n",
    "import numpy as np\n",
    "import torch\n",
    "\n",
    "# For plotting.\n",
    "from bokeh.io import show, output_notebook\n",
    "from bokeh.plotting import figure, gridplot\n",
    "from bokeh.models import Arrow, OpenHead, NormalHead, VeeHead\n",
    "from bokeh.models import ColumnDataSource, LabelSet, Legend\n",
    "from bokeh.transform import factor_cmap\n",
    "from bokeh.palettes import Spectral6\n",
    "import colorcet as cc\n",
    "output_notebook()\n",
    "\n",
    "# Convenience functions for plotting.\n",
    "import plotting\n",
    "\n",
    "%load_ext autoreload\n",
    "%autoreload 2"
   ]
  },
  {
   "cell_type": "markdown",
   "metadata": {},
   "source": [
    "## Data\n",
    "\n",
    "Generate some normally distributed data with some correlation."
   ]
  },
  {
   "cell_type": "code",
   "execution_count": null,
   "metadata": {},
   "outputs": [],
   "source": [
    "mean = np.array([-10, 10]) \n",
    "cov = np.array([[2, 1.5], [1.5, 1.5]])\n",
    "#cov = np.eye(2) \n",
    "data = np.random.multivariate_normal(mean, cov, size=100)\n",
    "\n",
    "x_range = (mean[0] - 5, mean[0] + 5)\n",
    "y_range = (mean[1] - 5, mean[1] + 5)\n",
    "\n",
    "fig = figure(\n",
    "    title='Data',\n",
    "    width=400,\n",
    "    height=400,\n",
    "    x_range=x_range,\n",
    "    y_range=y_range\n",
    ")\n",
    "fig.circle(data[:, 0], data[:, 1])\n",
    "plotting.plot_normal(fig, mean, cov, alpha=.5, color='Salmon')\n",
    "\n",
    "show(fig)"
   ]
  },
  {
   "cell_type": "markdown",
   "metadata": {},
   "source": [
    "## Model Creation"
   ]
  },
  {
   "cell_type": "code",
   "execution_count": null,
   "metadata": {},
   "outputs": [],
   "source": [
    "ppca = beer.PPCA.create(torch.zeros(2).double(), 1, torch.eye(1, 2).double())\n",
    "normal_diag = beer.NormalDiagonalCovariance.create(torch.zeros(2).double(), torch.ones(1).double())\n",
    "normal_full = beer.NormalFullCovariance.create(torch.zeros(2).double(), torch.eye(2).double())\n",
    "\n",
    "models = [ppca, normal_diag, normal_full]\n",
    "parameters = ppca.parameters + normal_diag.parameters + normal_full.parameters"
   ]
  },
  {
   "cell_type": "markdown",
   "metadata": {},
   "source": [
    "## Variational Bayes Training "
   ]
  },
  {
   "cell_type": "code",
   "execution_count": null,
   "metadata": {
    "scrolled": false
   },
   "outputs": [],
   "source": [
    "epochs = 30\n",
    "lrate = 1\n",
    "X = torch.from_numpy(data).double()\n",
    "elbo_fn = beer.EvidenceLowerBound(len(X))\n",
    "optim = beer.BayesianModelOptimizer(parameters)\n",
    "    \n",
    "elbos = [[], [], []]\n",
    "klds = []\n",
    "for epoch in range(epochs):\n",
    "    optim.zero_grad()\n",
    "    for i, model in enumerate(models):\n",
    "        elbo = elbo_fn(model, X)\n",
    "        elbo.natural_backward()\n",
    "        elbos[i].append(round(float(elbo) / len(X), 5))\n",
    "    optim.step()\n",
    "    \n",
    "fig = figure(width=400, height=400)\n",
    "fig.line(range(epochs), elbos[0], color='blue')\n",
    "fig.line(range(epochs), elbos[1], color='green')\n",
    "fig.line(range(epochs), elbos[2], color='red')\n",
    "show(fig)"
   ]
  },
  {
   "cell_type": "markdown",
   "metadata": {},
   "source": [
    "## Comparison with a Normal model"
   ]
  },
  {
   "cell_type": "code",
   "execution_count": null,
   "metadata": {},
   "outputs": [],
   "source": [
    "colors1 = ['LightBlue']\n",
    "colors2 = ['LightPink']\n",
    "values = ['KL', 'LLH']\n",
    "models = ['Normal (diag. cov.)', 'PPCA', 'Normal (full cov.)']\n",
    "\n",
    "elbos = [elbo_fn(normal_diag, X), elbo_fn(ppca, X), elbo_fn(normal_full, X), ]\n",
    "plot_data = {\n",
    "    'models' : models,\n",
    "    'labels_orig': [-3, -3, -3],\n",
    "    'elbos': [\n",
    "        'ELBO = ' + str(round(float(elbos[0]) / len(X), 3)), \n",
    "        'ELBO = ' + str(round(float(elbos[1]) / len(X), 3)), \n",
    "        'ELBO = ' + str(round(float(elbos[2]) / len(X), 3))\n",
    "    ],\n",
    "    'KL': [\n",
    "        float(elbos[0].kl_div) / len(X),\n",
    "        float(elbos[1].kl_div) / len(X),\n",
    "        float(elbos[2].kl_div) / len(X)\n",
    "    ],\n",
    "    'LLH': [\n",
    "        float(elbos[0].expected_llh) / len(X),\n",
    "        float(elbos[1].expected_llh) / len(X),\n",
    "        float(elbos[2].expected_llh) / len(X)\n",
    "    ]\n",
    "}\n",
    "source = ColumnDataSource(data=plot_data)\n",
    "\n",
    "fig1 = figure(y_range=models, x_range=(-4, 2), plot_height=250, plot_width=550,\n",
    "              )\n",
    "p_kld = fig1.hbar_stack(['KL'], y='models', height=.8, line_width=0.01, color=colors1, \n",
    "                        muted_color='grey', source=source)\n",
    "p_llh = fig1.hbar_stack(['LLH'], y='models', height=.8, line_width=0.01, color=colors2, \n",
    "                        muted_color='grey', source=source)\n",
    "\n",
    "#source_txt = ColumnDataSource(data=dict(models=models, elbos=[0, 1, 2]))\n",
    "labels = LabelSet(x='LLH', y='models', text='elbos', x_offset=10., y_offset=-9, source=source)\n",
    "fig1.add_layout(labels)\n",
    "\n",
    "legend = Legend(items=[\n",
    "        ('KL divergence ', p_kld), \n",
    "        ('exp. log-likelihood ', p_llh)\n",
    "    ], location=(10, 150))\n",
    "legend.click_policy='mute'\n",
    "fig1.add_layout(legend, 'right')\n",
    "\n",
    "show(fig1)"
   ]
  },
  {
   "cell_type": "markdown",
   "metadata": {},
   "source": [
    "## Plotting the model"
   ]
  },
  {
   "cell_type": "code",
   "execution_count": null,
   "metadata": {
    "scrolled": false
   },
   "outputs": [],
   "source": [
    "model = ppca\n",
    "\n",
    "x = np.linspace(-20, 20, 1000)\n",
    "\n",
    "A, B = model.mean.numpy(), model.mean.numpy() + model.subspace.numpy()[0, :]\n",
    "slope = (A[1] - B[1]) / (A[0] - B[0])\n",
    "intercept = -slope * ((slope * A[0] - A[1]) / slope)\n",
    "s_line = np.c_[x, slope * x + intercept]\n",
    "p_h = np.sqrt(1 / (2 * np.pi)) * np.exp(-.5 * x ** 2)\n",
    "angle = np.arctan(abs(B[1] - A[1]) / abs(B[0] - A[0]))\n",
    "R = np.array([\n",
    "    [np.cos(angle), -np.sin(angle)],\n",
    "    [np.sin(angle), np.cos(angle)]\n",
    "])\n",
    "\n",
    "fig1 = figure(\n",
    "    x_range=x_range,\n",
    "    y_range=y_range,\n",
    "    width=400,\n",
    "    height=400,\n",
    ")\n",
    "\n",
    "plotting.plot_normal(fig1, mean, cov, alpha=.4, color='Salmon')\n",
    "\n",
    "for i in range(2):\n",
    "    xy = np.c_[x, np.zeros_like(x)]\n",
    "    rxy1 = xy @ R.T + model.mean.numpy()\n",
    "    xy = np.c_[x, (i + 1) * np.sqrt(np.ones_like(x) / model.precision.numpy())]\n",
    "    rxy2 = xy @ R.T + model.mean.numpy()\n",
    "    band_x = np.append(rxy1[:,0], rxy2[:, 0][::-1])\n",
    "    band_y = np.append(rxy1[:,1], rxy2[:, 1][::-1])\n",
    "    fig1.patch(band_x, band_y, line_alpha=0., fill_alpha=0.5, fill_color='LightBlue')\n",
    "\n",
    "    xy = np.c_[x, np.zeros_like(x)]\n",
    "    rxy1 = xy @ R.T + model.mean.numpy()\n",
    "    xy = np.c_[x, -(i + 1) * np.sqrt(np.ones_like(x) / model.precision.numpy())]\n",
    "    rxy2 = xy @ R.T + model.mean.numpy()\n",
    "    band_x = np.append(rxy1[:,0], rxy2[:, 0][::-1])\n",
    "    band_y = np.append(rxy1[:,1], rxy2[:, 1][::-1])\n",
    "    fig1.patch(band_x, band_y, line_alpha=0., fill_alpha=0.5, fill_color='LightBlue')\n",
    "\n",
    "\n",
    "xy = np.c_[x, np.zeros_like(x)]\n",
    "rxy1 = xy @ R.T + mean\n",
    "xy = np.c_[x, p_h]\n",
    "rxy2 = xy @ R.T + mean\n",
    "band_x = np.append(rxy1[:,0], rxy2[:, 0][::-1])\n",
    "band_y = np.append(rxy1[:,1], rxy2[:, 1][::-1])\n",
    "fig1.patch(band_x, band_y, line_color='black', fill_color='LightGreen')\n",
    "\n",
    "fig2 = figure(\n",
    "    width=400,\n",
    "    height=400,\n",
    "    x_range=x_range,\n",
    "    y_range=y_range\n",
    ")\n",
    "fig2.cross(data[:, 0], data[:, 1])\n",
    "plotting.plot_normal(fig2, mean, cov, alpha=.3, line_color='black', \n",
    "                     fill_color='salmon')\n",
    "\n",
    "show(gridplot([[fig2, fig1]]))"
   ]
  }
 ],
 "metadata": {
  "kernelspec": {
   "display_name": "Python 3",
   "language": "python",
   "name": "python3"
  },
  "language_info": {
   "codemirror_mode": {
    "name": "ipython",
    "version": 3
   },
   "file_extension": ".py",
   "mimetype": "text/x-python",
   "name": "python",
   "nbconvert_exporter": "python",
   "pygments_lexer": "ipython3",
   "version": "3.6.4"
  }
 },
 "nbformat": 4,
 "nbformat_minor": 2
}
