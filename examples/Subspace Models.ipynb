{
 "cells": [
  {
   "cell_type": "markdown",
   "metadata": {},
   "source": [
    "# Subspace Model\n",
    "\n",
    "This notebook illustrate how to use a Bayesian Normal density model with the [beer framework](https://github.com/beer-asr/beer). The Normal distribution is a fairly basic models but it is used extenslively in other model as a basic building block."
   ]
  },
  {
   "cell_type": "code",
   "execution_count": 1,
   "metadata": {},
   "outputs": [
    {
     "data": {
      "text/html": [
       "\n",
       "    <div class=\"bk-root\">\n",
       "        <a href=\"https://bokeh.pydata.org\" target=\"_blank\" class=\"bk-logo bk-logo-small bk-logo-notebook\"></a>\n",
       "        <span id=\"3fae3bb8-a595-43c6-8eab-b3b0626b0fc1\">Loading BokehJS ...</span>\n",
       "    </div>"
      ]
     },
     "metadata": {},
     "output_type": "display_data"
    },
    {
     "data": {
      "application/javascript": [
       "\n",
       "(function(root) {\n",
       "  function now() {\n",
       "    return new Date();\n",
       "  }\n",
       "\n",
       "  var force = true;\n",
       "\n",
       "  if (typeof (root._bokeh_onload_callbacks) === \"undefined\" || force === true) {\n",
       "    root._bokeh_onload_callbacks = [];\n",
       "    root._bokeh_is_loading = undefined;\n",
       "  }\n",
       "\n",
       "  var JS_MIME_TYPE = 'application/javascript';\n",
       "  var HTML_MIME_TYPE = 'text/html';\n",
       "  var EXEC_MIME_TYPE = 'application/vnd.bokehjs_exec.v0+json';\n",
       "  var CLASS_NAME = 'output_bokeh rendered_html';\n",
       "\n",
       "  /**\n",
       "   * Render data to the DOM node\n",
       "   */\n",
       "  function render(props, node) {\n",
       "    var script = document.createElement(\"script\");\n",
       "    node.appendChild(script);\n",
       "  }\n",
       "\n",
       "  /**\n",
       "   * Handle when an output is cleared or removed\n",
       "   */\n",
       "  function handleClearOutput(event, handle) {\n",
       "    var cell = handle.cell;\n",
       "\n",
       "    var id = cell.output_area._bokeh_element_id;\n",
       "    var server_id = cell.output_area._bokeh_server_id;\n",
       "    // Clean up Bokeh references\n",
       "    if (id !== undefined) {\n",
       "      Bokeh.index[id].model.document.clear();\n",
       "      delete Bokeh.index[id];\n",
       "    }\n",
       "\n",
       "    if (server_id !== undefined) {\n",
       "      // Clean up Bokeh references\n",
       "      var cmd = \"from bokeh.io.state import curstate; print(curstate().uuid_to_server['\" + server_id + \"'].get_sessions()[0].document.roots[0]._id)\";\n",
       "      cell.notebook.kernel.execute(cmd, {\n",
       "        iopub: {\n",
       "          output: function(msg) {\n",
       "            var element_id = msg.content.text.trim();\n",
       "            Bokeh.index[element_id].model.document.clear();\n",
       "            delete Bokeh.index[element_id];\n",
       "          }\n",
       "        }\n",
       "      });\n",
       "      // Destroy server and session\n",
       "      var cmd = \"import bokeh.io.notebook as ion; ion.destroy_server('\" + server_id + \"')\";\n",
       "      cell.notebook.kernel.execute(cmd);\n",
       "    }\n",
       "  }\n",
       "\n",
       "  /**\n",
       "   * Handle when a new output is added\n",
       "   */\n",
       "  function handleAddOutput(event, handle) {\n",
       "    var output_area = handle.output_area;\n",
       "    var output = handle.output;\n",
       "\n",
       "    // limit handleAddOutput to display_data with EXEC_MIME_TYPE content only\n",
       "    if ((output.output_type != \"display_data\") || (!output.data.hasOwnProperty(EXEC_MIME_TYPE))) {\n",
       "      return\n",
       "    }\n",
       "\n",
       "    var toinsert = output_area.element.find(\".\" + CLASS_NAME.split(' ')[0]);\n",
       "\n",
       "    if (output.metadata[EXEC_MIME_TYPE][\"id\"] !== undefined) {\n",
       "      toinsert[toinsert.length - 1].firstChild.textContent = output.data[JS_MIME_TYPE];\n",
       "      // store reference to embed id on output_area\n",
       "      output_area._bokeh_element_id = output.metadata[EXEC_MIME_TYPE][\"id\"];\n",
       "    }\n",
       "    if (output.metadata[EXEC_MIME_TYPE][\"server_id\"] !== undefined) {\n",
       "      var bk_div = document.createElement(\"div\");\n",
       "      bk_div.innerHTML = output.data[HTML_MIME_TYPE];\n",
       "      var script_attrs = bk_div.children[0].attributes;\n",
       "      for (var i = 0; i < script_attrs.length; i++) {\n",
       "        toinsert[toinsert.length - 1].firstChild.setAttribute(script_attrs[i].name, script_attrs[i].value);\n",
       "      }\n",
       "      // store reference to server id on output_area\n",
       "      output_area._bokeh_server_id = output.metadata[EXEC_MIME_TYPE][\"server_id\"];\n",
       "    }\n",
       "  }\n",
       "\n",
       "  function register_renderer(events, OutputArea) {\n",
       "\n",
       "    function append_mime(data, metadata, element) {\n",
       "      // create a DOM node to render to\n",
       "      var toinsert = this.create_output_subarea(\n",
       "        metadata,\n",
       "        CLASS_NAME,\n",
       "        EXEC_MIME_TYPE\n",
       "      );\n",
       "      this.keyboard_manager.register_events(toinsert);\n",
       "      // Render to node\n",
       "      var props = {data: data, metadata: metadata[EXEC_MIME_TYPE]};\n",
       "      render(props, toinsert[toinsert.length - 1]);\n",
       "      element.append(toinsert);\n",
       "      return toinsert\n",
       "    }\n",
       "\n",
       "    /* Handle when an output is cleared or removed */\n",
       "    events.on('clear_output.CodeCell', handleClearOutput);\n",
       "    events.on('delete.Cell', handleClearOutput);\n",
       "\n",
       "    /* Handle when a new output is added */\n",
       "    events.on('output_added.OutputArea', handleAddOutput);\n",
       "\n",
       "    /**\n",
       "     * Register the mime type and append_mime function with output_area\n",
       "     */\n",
       "    OutputArea.prototype.register_mime_type(EXEC_MIME_TYPE, append_mime, {\n",
       "      /* Is output safe? */\n",
       "      safe: true,\n",
       "      /* Index of renderer in `output_area.display_order` */\n",
       "      index: 0\n",
       "    });\n",
       "  }\n",
       "\n",
       "  // register the mime type if in Jupyter Notebook environment and previously unregistered\n",
       "  if (root.Jupyter !== undefined) {\n",
       "    var events = require('base/js/events');\n",
       "    var OutputArea = require('notebook/js/outputarea').OutputArea;\n",
       "\n",
       "    if (OutputArea.prototype.mime_types().indexOf(EXEC_MIME_TYPE) == -1) {\n",
       "      register_renderer(events, OutputArea);\n",
       "    }\n",
       "  }\n",
       "\n",
       "  \n",
       "  if (typeof (root._bokeh_timeout) === \"undefined\" || force === true) {\n",
       "    root._bokeh_timeout = Date.now() + 5000;\n",
       "    root._bokeh_failed_load = false;\n",
       "  }\n",
       "\n",
       "  var NB_LOAD_WARNING = {'data': {'text/html':\n",
       "     \"<div style='background-color: #fdd'>\\n\"+\n",
       "     \"<p>\\n\"+\n",
       "     \"BokehJS does not appear to have successfully loaded. If loading BokehJS from CDN, this \\n\"+\n",
       "     \"may be due to a slow or bad network connection. Possible fixes:\\n\"+\n",
       "     \"</p>\\n\"+\n",
       "     \"<ul>\\n\"+\n",
       "     \"<li>re-rerun `output_notebook()` to attempt to load from CDN again, or</li>\\n\"+\n",
       "     \"<li>use INLINE resources instead, as so:</li>\\n\"+\n",
       "     \"</ul>\\n\"+\n",
       "     \"<code>\\n\"+\n",
       "     \"from bokeh.resources import INLINE\\n\"+\n",
       "     \"output_notebook(resources=INLINE)\\n\"+\n",
       "     \"</code>\\n\"+\n",
       "     \"</div>\"}};\n",
       "\n",
       "  function display_loaded() {\n",
       "    var el = document.getElementById(\"3fae3bb8-a595-43c6-8eab-b3b0626b0fc1\");\n",
       "    if (el != null) {\n",
       "      el.textContent = \"BokehJS is loading...\";\n",
       "    }\n",
       "    if (root.Bokeh !== undefined) {\n",
       "      if (el != null) {\n",
       "        el.textContent = \"BokehJS \" + root.Bokeh.version + \" successfully loaded.\";\n",
       "      }\n",
       "    } else if (Date.now() < root._bokeh_timeout) {\n",
       "      setTimeout(display_loaded, 100)\n",
       "    }\n",
       "  }\n",
       "\n",
       "\n",
       "  function run_callbacks() {\n",
       "    try {\n",
       "      root._bokeh_onload_callbacks.forEach(function(callback) { callback() });\n",
       "    }\n",
       "    finally {\n",
       "      delete root._bokeh_onload_callbacks\n",
       "    }\n",
       "    console.info(\"Bokeh: all callbacks have finished\");\n",
       "  }\n",
       "\n",
       "  function load_libs(js_urls, callback) {\n",
       "    root._bokeh_onload_callbacks.push(callback);\n",
       "    if (root._bokeh_is_loading > 0) {\n",
       "      console.log(\"Bokeh: BokehJS is being loaded, scheduling callback at\", now());\n",
       "      return null;\n",
       "    }\n",
       "    if (js_urls == null || js_urls.length === 0) {\n",
       "      run_callbacks();\n",
       "      return null;\n",
       "    }\n",
       "    console.log(\"Bokeh: BokehJS not loaded, scheduling load and callback at\", now());\n",
       "    root._bokeh_is_loading = js_urls.length;\n",
       "    for (var i = 0; i < js_urls.length; i++) {\n",
       "      var url = js_urls[i];\n",
       "      var s = document.createElement('script');\n",
       "      s.src = url;\n",
       "      s.async = false;\n",
       "      s.onreadystatechange = s.onload = function() {\n",
       "        root._bokeh_is_loading--;\n",
       "        if (root._bokeh_is_loading === 0) {\n",
       "          console.log(\"Bokeh: all BokehJS libraries loaded\");\n",
       "          run_callbacks()\n",
       "        }\n",
       "      };\n",
       "      s.onerror = function() {\n",
       "        console.warn(\"failed to load library \" + url);\n",
       "      };\n",
       "      console.log(\"Bokeh: injecting script tag for BokehJS library: \", url);\n",
       "      document.getElementsByTagName(\"head\")[0].appendChild(s);\n",
       "    }\n",
       "  };var element = document.getElementById(\"3fae3bb8-a595-43c6-8eab-b3b0626b0fc1\");\n",
       "  if (element == null) {\n",
       "    console.log(\"Bokeh: ERROR: autoload.js configured with elementid '3fae3bb8-a595-43c6-8eab-b3b0626b0fc1' but no matching script tag was found. \")\n",
       "    return false;\n",
       "  }\n",
       "\n",
       "  var js_urls = [\"https://cdn.pydata.org/bokeh/release/bokeh-0.12.16.min.js\", \"https://cdn.pydata.org/bokeh/release/bokeh-widgets-0.12.16.min.js\", \"https://cdn.pydata.org/bokeh/release/bokeh-tables-0.12.16.min.js\", \"https://cdn.pydata.org/bokeh/release/bokeh-gl-0.12.16.min.js\"];\n",
       "\n",
       "  var inline_js = [\n",
       "    function(Bokeh) {\n",
       "      Bokeh.set_log_level(\"info\");\n",
       "    },\n",
       "    \n",
       "    function(Bokeh) {\n",
       "      \n",
       "    },\n",
       "    function(Bokeh) {\n",
       "      console.log(\"Bokeh: injecting CSS: https://cdn.pydata.org/bokeh/release/bokeh-0.12.16.min.css\");\n",
       "      Bokeh.embed.inject_css(\"https://cdn.pydata.org/bokeh/release/bokeh-0.12.16.min.css\");\n",
       "      console.log(\"Bokeh: injecting CSS: https://cdn.pydata.org/bokeh/release/bokeh-widgets-0.12.16.min.css\");\n",
       "      Bokeh.embed.inject_css(\"https://cdn.pydata.org/bokeh/release/bokeh-widgets-0.12.16.min.css\");\n",
       "      console.log(\"Bokeh: injecting CSS: https://cdn.pydata.org/bokeh/release/bokeh-tables-0.12.16.min.css\");\n",
       "      Bokeh.embed.inject_css(\"https://cdn.pydata.org/bokeh/release/bokeh-tables-0.12.16.min.css\");\n",
       "    }\n",
       "  ];\n",
       "\n",
       "  function run_inline_js() {\n",
       "    \n",
       "    if ((root.Bokeh !== undefined) || (force === true)) {\n",
       "      for (var i = 0; i < inline_js.length; i++) {\n",
       "        inline_js[i].call(root, root.Bokeh);\n",
       "      }if (force === true) {\n",
       "        display_loaded();\n",
       "      }} else if (Date.now() < root._bokeh_timeout) {\n",
       "      setTimeout(run_inline_js, 100);\n",
       "    } else if (!root._bokeh_failed_load) {\n",
       "      console.log(\"Bokeh: BokehJS failed to load within specified timeout.\");\n",
       "      root._bokeh_failed_load = true;\n",
       "    } else if (force !== true) {\n",
       "      var cell = $(document.getElementById(\"3fae3bb8-a595-43c6-8eab-b3b0626b0fc1\")).parents('.cell').data().cell;\n",
       "      cell.output_area.append_execute_result(NB_LOAD_WARNING)\n",
       "    }\n",
       "\n",
       "  }\n",
       "\n",
       "  if (root._bokeh_is_loading === 0) {\n",
       "    console.log(\"Bokeh: BokehJS loaded, going straight to plotting\");\n",
       "    run_inline_js();\n",
       "  } else {\n",
       "    load_libs(js_urls, function() {\n",
       "      console.log(\"Bokeh: BokehJS plotting callback run at\", now());\n",
       "      run_inline_js();\n",
       "    });\n",
       "  }\n",
       "}(window));"
      ],
      "application/vnd.bokehjs_load.v0+json": "\n(function(root) {\n  function now() {\n    return new Date();\n  }\n\n  var force = true;\n\n  if (typeof (root._bokeh_onload_callbacks) === \"undefined\" || force === true) {\n    root._bokeh_onload_callbacks = [];\n    root._bokeh_is_loading = undefined;\n  }\n\n  \n\n  \n  if (typeof (root._bokeh_timeout) === \"undefined\" || force === true) {\n    root._bokeh_timeout = Date.now() + 5000;\n    root._bokeh_failed_load = false;\n  }\n\n  var NB_LOAD_WARNING = {'data': {'text/html':\n     \"<div style='background-color: #fdd'>\\n\"+\n     \"<p>\\n\"+\n     \"BokehJS does not appear to have successfully loaded. If loading BokehJS from CDN, this \\n\"+\n     \"may be due to a slow or bad network connection. Possible fixes:\\n\"+\n     \"</p>\\n\"+\n     \"<ul>\\n\"+\n     \"<li>re-rerun `output_notebook()` to attempt to load from CDN again, or</li>\\n\"+\n     \"<li>use INLINE resources instead, as so:</li>\\n\"+\n     \"</ul>\\n\"+\n     \"<code>\\n\"+\n     \"from bokeh.resources import INLINE\\n\"+\n     \"output_notebook(resources=INLINE)\\n\"+\n     \"</code>\\n\"+\n     \"</div>\"}};\n\n  function display_loaded() {\n    var el = document.getElementById(\"3fae3bb8-a595-43c6-8eab-b3b0626b0fc1\");\n    if (el != null) {\n      el.textContent = \"BokehJS is loading...\";\n    }\n    if (root.Bokeh !== undefined) {\n      if (el != null) {\n        el.textContent = \"BokehJS \" + root.Bokeh.version + \" successfully loaded.\";\n      }\n    } else if (Date.now() < root._bokeh_timeout) {\n      setTimeout(display_loaded, 100)\n    }\n  }\n\n\n  function run_callbacks() {\n    try {\n      root._bokeh_onload_callbacks.forEach(function(callback) { callback() });\n    }\n    finally {\n      delete root._bokeh_onload_callbacks\n    }\n    console.info(\"Bokeh: all callbacks have finished\");\n  }\n\n  function load_libs(js_urls, callback) {\n    root._bokeh_onload_callbacks.push(callback);\n    if (root._bokeh_is_loading > 0) {\n      console.log(\"Bokeh: BokehJS is being loaded, scheduling callback at\", now());\n      return null;\n    }\n    if (js_urls == null || js_urls.length === 0) {\n      run_callbacks();\n      return null;\n    }\n    console.log(\"Bokeh: BokehJS not loaded, scheduling load and callback at\", now());\n    root._bokeh_is_loading = js_urls.length;\n    for (var i = 0; i < js_urls.length; i++) {\n      var url = js_urls[i];\n      var s = document.createElement('script');\n      s.src = url;\n      s.async = false;\n      s.onreadystatechange = s.onload = function() {\n        root._bokeh_is_loading--;\n        if (root._bokeh_is_loading === 0) {\n          console.log(\"Bokeh: all BokehJS libraries loaded\");\n          run_callbacks()\n        }\n      };\n      s.onerror = function() {\n        console.warn(\"failed to load library \" + url);\n      };\n      console.log(\"Bokeh: injecting script tag for BokehJS library: \", url);\n      document.getElementsByTagName(\"head\")[0].appendChild(s);\n    }\n  };var element = document.getElementById(\"3fae3bb8-a595-43c6-8eab-b3b0626b0fc1\");\n  if (element == null) {\n    console.log(\"Bokeh: ERROR: autoload.js configured with elementid '3fae3bb8-a595-43c6-8eab-b3b0626b0fc1' but no matching script tag was found. \")\n    return false;\n  }\n\n  var js_urls = [\"https://cdn.pydata.org/bokeh/release/bokeh-0.12.16.min.js\", \"https://cdn.pydata.org/bokeh/release/bokeh-widgets-0.12.16.min.js\", \"https://cdn.pydata.org/bokeh/release/bokeh-tables-0.12.16.min.js\", \"https://cdn.pydata.org/bokeh/release/bokeh-gl-0.12.16.min.js\"];\n\n  var inline_js = [\n    function(Bokeh) {\n      Bokeh.set_log_level(\"info\");\n    },\n    \n    function(Bokeh) {\n      \n    },\n    function(Bokeh) {\n      console.log(\"Bokeh: injecting CSS: https://cdn.pydata.org/bokeh/release/bokeh-0.12.16.min.css\");\n      Bokeh.embed.inject_css(\"https://cdn.pydata.org/bokeh/release/bokeh-0.12.16.min.css\");\n      console.log(\"Bokeh: injecting CSS: https://cdn.pydata.org/bokeh/release/bokeh-widgets-0.12.16.min.css\");\n      Bokeh.embed.inject_css(\"https://cdn.pydata.org/bokeh/release/bokeh-widgets-0.12.16.min.css\");\n      console.log(\"Bokeh: injecting CSS: https://cdn.pydata.org/bokeh/release/bokeh-tables-0.12.16.min.css\");\n      Bokeh.embed.inject_css(\"https://cdn.pydata.org/bokeh/release/bokeh-tables-0.12.16.min.css\");\n    }\n  ];\n\n  function run_inline_js() {\n    \n    if ((root.Bokeh !== undefined) || (force === true)) {\n      for (var i = 0; i < inline_js.length; i++) {\n        inline_js[i].call(root, root.Bokeh);\n      }if (force === true) {\n        display_loaded();\n      }} else if (Date.now() < root._bokeh_timeout) {\n      setTimeout(run_inline_js, 100);\n    } else if (!root._bokeh_failed_load) {\n      console.log(\"Bokeh: BokehJS failed to load within specified timeout.\");\n      root._bokeh_failed_load = true;\n    } else if (force !== true) {\n      var cell = $(document.getElementById(\"3fae3bb8-a595-43c6-8eab-b3b0626b0fc1\")).parents('.cell').data().cell;\n      cell.output_area.append_execute_result(NB_LOAD_WARNING)\n    }\n\n  }\n\n  if (root._bokeh_is_loading === 0) {\n    console.log(\"Bokeh: BokehJS loaded, going straight to plotting\");\n    run_inline_js();\n  } else {\n    load_libs(js_urls, function() {\n      console.log(\"Bokeh: BokehJS plotting callback run at\", now());\n      run_inline_js();\n    });\n  }\n}(window));"
     },
     "metadata": {},
     "output_type": "display_data"
    }
   ],
   "source": [
    "# Add \"beer\" to the PYTHONPATH\n",
    "import sys\n",
    "sys.path.insert(0, '../')\n",
    "\n",
    "import beer\n",
    "import numpy as np\n",
    "import torch\n",
    "\n",
    "# For plotting.\n",
    "from bokeh.io import show, output_notebook\n",
    "from bokeh.plotting import figure, gridplot\n",
    "from bokeh.models import Arrow, OpenHead, NormalHead, VeeHead\n",
    "output_notebook()\n",
    "\n",
    "# Convenience functions for plotting.\n",
    "import plotting\n",
    "\n",
    "%load_ext autoreload\n",
    "%autoreload 2"
   ]
  },
  {
   "cell_type": "markdown",
   "metadata": {},
   "source": [
    "## Data\n",
    "\n",
    "Generate some normally distributed data:"
   ]
  },
  {
   "cell_type": "code",
   "execution_count": 2,
   "metadata": {},
   "outputs": [
    {
     "data": {
      "text/html": [
       "\n",
       "<div class=\"bk-root\">\n",
       "    <div class=\"bk-plotdiv\" id=\"1b254fc8-3cdc-4fe1-854d-6d542cd7b7e5\"></div>\n",
       "</div>"
      ]
     },
     "metadata": {},
     "output_type": "display_data"
    },
    {
     "data": {
      "application/javascript": [
       "(function(root) {\n",
       "  function embed_document(root) {\n",
       "    \n",
       "  var docs_json = {\"3874948a-2981-4274-b6c3-287027903225\":{\"roots\":{\"references\":[{\"attributes\":{\"source\":{\"id\":\"02771128-1849-4f1e-922b-5cbba2711592\",\"type\":\"ColumnDataSource\"}},\"id\":\"da723a81-45f0-4b21-9036-887343bc452c\",\"type\":\"CDSView\"},{\"attributes\":{\"callback\":null,\"data\":{},\"selected\":{\"id\":\"14dc5c03-40d8-471c-a6a0-919e26c226a7\",\"type\":\"Selection\"},\"selection_policy\":{\"id\":\"a89ffdb1-d982-44f3-ac17-7b95b8f98019\",\"type\":\"UnionRenderers\"}},\"id\":\"02771128-1849-4f1e-922b-5cbba2711592\",\"type\":\"ColumnDataSource\"},{\"attributes\":{\"plot\":null,\"text\":\"Data\"},\"id\":\"57f6d298-85b3-485f-923b-4403cb1dac9d\",\"type\":\"Title\"},{\"attributes\":{\"angle\":{\"units\":\"rad\",\"value\":-2.498091544796509},\"fill_alpha\":{\"value\":0.5},\"fill_color\":{\"value\":\"black\"},\"height\":{\"units\":\"data\",\"value\":1.1832159566199232},\"line_alpha\":{\"value\":0.5},\"width\":{\"units\":\"data\",\"value\":2.23606797749979},\"x\":{\"value\":0},\"y\":{\"value\":0}},\"id\":\"f39c35b7-822e-48ca-ac36-7f2674c0cf2e\",\"type\":\"Ellipse\"},{\"attributes\":{\"data_source\":{\"id\":\"02771128-1849-4f1e-922b-5cbba2711592\",\"type\":\"ColumnDataSource\"},\"glyph\":{\"id\":\"f39c35b7-822e-48ca-ac36-7f2674c0cf2e\",\"type\":\"Ellipse\"},\"hover_glyph\":null,\"muted_glyph\":null,\"nonselection_glyph\":{\"id\":\"c609f78f-cd2b-4679-8778-555c07ec6560\",\"type\":\"Ellipse\"},\"selection_glyph\":null,\"view\":{\"id\":\"da723a81-45f0-4b21-9036-887343bc452c\",\"type\":\"CDSView\"}},\"id\":\"142e78c8-ec24-4d9e-9684-b3955d9e249a\",\"type\":\"GlyphRenderer\"},{\"attributes\":{},\"id\":\"4897f2a9-36e5-4f65-815a-6c30a965a4c3\",\"type\":\"LinearScale\"},{\"attributes\":{\"angle\":{\"units\":\"rad\",\"value\":-2.498091544796509},\"fill_alpha\":{\"value\":0.1},\"fill_color\":{\"value\":\"#1f77b4\"},\"height\":{\"units\":\"data\",\"value\":1.1832159566199232},\"line_alpha\":{\"value\":0.1},\"line_color\":{\"value\":\"#1f77b4\"},\"width\":{\"units\":\"data\",\"value\":2.23606797749979},\"x\":{\"value\":0},\"y\":{\"value\":0}},\"id\":\"c609f78f-cd2b-4679-8778-555c07ec6560\",\"type\":\"Ellipse\"},{\"attributes\":{\"callback\":null,\"end\":5,\"start\":-5},\"id\":\"1cc432f1-a6fc-44bf-b3db-b37bafffabf5\",\"type\":\"Range1d\"},{\"attributes\":{},\"id\":\"91750e38-464c-4144-9f01-1fc1506055df\",\"type\":\"LinearScale\"},{\"attributes\":{},\"id\":\"8f8e0623-99c0-4876-bcc3-e6db92fe7e69\",\"type\":\"Selection\"},{\"attributes\":{\"formatter\":{\"id\":\"21826d03-e31b-4f86-b567-2192ebc1756c\",\"type\":\"BasicTickFormatter\"},\"plot\":{\"id\":\"862d7521-c7a0-45e1-be99-068eba4e0f97\",\"subtype\":\"Figure\",\"type\":\"Plot\"},\"ticker\":{\"id\":\"3ef0e36e-cc12-455e-b009-22290d0837cd\",\"type\":\"BasicTicker\"}},\"id\":\"e9558cf4-a8e7-4214-860d-1058e116a3ac\",\"type\":\"LinearAxis\"},{\"attributes\":{},\"id\":\"3ef0e36e-cc12-455e-b009-22290d0837cd\",\"type\":\"BasicTicker\"},{\"attributes\":{},\"id\":\"ca34b486-795b-4a66-9471-28ba0edba676\",\"type\":\"BasicTickFormatter\"},{\"attributes\":{\"plot\":{\"id\":\"862d7521-c7a0-45e1-be99-068eba4e0f97\",\"subtype\":\"Figure\",\"type\":\"Plot\"},\"ticker\":{\"id\":\"3ef0e36e-cc12-455e-b009-22290d0837cd\",\"type\":\"BasicTicker\"}},\"id\":\"fbe5f479-701b-4280-9178-b930c7e5002f\",\"type\":\"Grid\"},{\"attributes\":{},\"id\":\"f7f60260-5c86-4b3f-8e7b-17efa33e1a43\",\"type\":\"UnionRenderers\"},{\"attributes\":{\"formatter\":{\"id\":\"ca34b486-795b-4a66-9471-28ba0edba676\",\"type\":\"BasicTickFormatter\"},\"plot\":{\"id\":\"862d7521-c7a0-45e1-be99-068eba4e0f97\",\"subtype\":\"Figure\",\"type\":\"Plot\"},\"ticker\":{\"id\":\"a85d610a-7c3b-4f91-8af5-f931753c61bf\",\"type\":\"BasicTicker\"}},\"id\":\"30e83771-59c1-409c-9555-f4c1acae5253\",\"type\":\"LinearAxis\"},{\"attributes\":{},\"id\":\"bc00c68a-c56d-46cd-96c4-59b4c6ece82d\",\"type\":\"Selection\"},{\"attributes\":{},\"id\":\"a85d610a-7c3b-4f91-8af5-f931753c61bf\",\"type\":\"BasicTicker\"},{\"attributes\":{},\"id\":\"966bf1a0-a5e2-4f3f-be42-6540f3d6184d\",\"type\":\"UnionRenderers\"},{\"attributes\":{\"dimension\":1,\"plot\":{\"id\":\"862d7521-c7a0-45e1-be99-068eba4e0f97\",\"subtype\":\"Figure\",\"type\":\"Plot\"},\"ticker\":{\"id\":\"a85d610a-7c3b-4f91-8af5-f931753c61bf\",\"type\":\"BasicTicker\"}},\"id\":\"9627722a-2c08-43b0-a8a5-db5b6eba830e\",\"type\":\"Grid\"},{\"attributes\":{},\"id\":\"8f472df9-47db-4c82-8c1f-3a730c4e0c8e\",\"type\":\"Selection\"},{\"attributes\":{\"bottom_units\":\"screen\",\"fill_alpha\":{\"value\":0.5},\"fill_color\":{\"value\":\"lightgrey\"},\"left_units\":\"screen\",\"level\":\"overlay\",\"line_alpha\":{\"value\":1.0},\"line_color\":{\"value\":\"black\"},\"line_dash\":[4,4],\"line_width\":{\"value\":2},\"plot\":null,\"render_mode\":\"css\",\"right_units\":\"screen\",\"top_units\":\"screen\"},\"id\":\"7f268e34-6e56-418b-b819-357cd62858ee\",\"type\":\"BoxAnnotation\"},{\"attributes\":{},\"id\":\"a89ffdb1-d982-44f3-ac17-7b95b8f98019\",\"type\":\"UnionRenderers\"},{\"attributes\":{\"source\":{\"id\":\"ce91d0ad-fa4f-4ed0-9164-746d79137938\",\"type\":\"ColumnDataSource\"}},\"id\":\"887809cb-0676-4f6b-9ba7-27668e989ebe\",\"type\":\"CDSView\"},{\"attributes\":{},\"id\":\"14dc5c03-40d8-471c-a6a0-919e26c226a7\",\"type\":\"Selection\"},{\"attributes\":{\"source\":{\"id\":\"4688817f-9e7d-4ee3-81aa-69a80c14204b\",\"type\":\"ColumnDataSource\"}},\"id\":\"d1daf14a-17d8-47cc-89eb-b6fd866402f2\",\"type\":\"CDSView\"},{\"attributes\":{},\"id\":\"426804ae-0d27-48d7-9956-37c8a4fb17e3\",\"type\":\"PanTool\"},{\"attributes\":{},\"id\":\"70580e54-f039-4cf4-a4a7-b4209f26ea33\",\"type\":\"WheelZoomTool\"},{\"attributes\":{\"overlay\":{\"id\":\"7f268e34-6e56-418b-b819-357cd62858ee\",\"type\":\"BoxAnnotation\"}},\"id\":\"9e91e92e-db19-4ada-99aa-cfba8125ffdc\",\"type\":\"BoxZoomTool\"},{\"attributes\":{},\"id\":\"7ae2a30a-a056-46c8-8f55-0ea864700f1d\",\"type\":\"SaveTool\"},{\"attributes\":{\"data_source\":{\"id\":\"ce91d0ad-fa4f-4ed0-9164-746d79137938\",\"type\":\"ColumnDataSource\"},\"glyph\":{\"id\":\"8c05f396-7a53-49b1-b0f6-1c5ce424e0d2\",\"type\":\"Circle\"},\"hover_glyph\":null,\"muted_glyph\":null,\"nonselection_glyph\":{\"id\":\"6b191abe-13f7-4357-a9d4-802d97365499\",\"type\":\"Circle\"},\"selection_glyph\":null,\"view\":{\"id\":\"887809cb-0676-4f6b-9ba7-27668e989ebe\",\"type\":\"CDSView\"}},\"id\":\"eef34bbf-a5bb-4bf7-b207-6ea20ee2b3e3\",\"type\":\"GlyphRenderer\"},{\"attributes\":{},\"id\":\"9654818f-d16a-4e98-a8a3-06817f3ac58c\",\"type\":\"ResetTool\"},{\"attributes\":{},\"id\":\"865dea53-95a8-4645-b9e9-72efbf267e66\",\"type\":\"HelpTool\"},{\"attributes\":{\"fill_alpha\":{\"value\":0.1},\"fill_color\":{\"value\":\"#1f77b4\"},\"line_alpha\":{\"value\":0.1},\"line_color\":{\"value\":\"#1f77b4\"},\"x\":{\"value\":0},\"y\":{\"value\":0}},\"id\":\"246dfa8a-d11a-49ce-a59e-a99cac423138\",\"type\":\"Cross\"},{\"attributes\":{\"callback\":null,\"data\":{},\"selected\":{\"id\":\"bc00c68a-c56d-46cd-96c4-59b4c6ece82d\",\"type\":\"Selection\"},\"selection_policy\":{\"id\":\"966bf1a0-a5e2-4f3f-be42-6540f3d6184d\",\"type\":\"UnionRenderers\"}},\"id\":\"4688817f-9e7d-4ee3-81aa-69a80c14204b\",\"type\":\"ColumnDataSource\"},{\"attributes\":{\"angle\":{\"units\":\"rad\",\"value\":-2.498091544796509},\"fill_alpha\":{\"value\":0.25},\"fill_color\":{\"value\":\"black\"},\"height\":{\"units\":\"data\",\"value\":2.3664319132398464},\"line_alpha\":{\"value\":0.25},\"width\":{\"units\":\"data\",\"value\":4.47213595499958},\"x\":{\"value\":0},\"y\":{\"value\":0}},\"id\":\"d2bbc75b-453e-45e6-8797-13b77da83025\",\"type\":\"Ellipse\"},{\"attributes\":{\"callback\":null,\"data\":{\"x\":{\"__ndarray__\":\"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\",\"dtype\":\"float64\",\"shape\":[500]},\"y\":{\"__ndarray__\":\"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\",\"dtype\":\"float64\",\"shape\":[500]}},\"selected\":{\"id\":\"8f8e0623-99c0-4876-bcc3-e6db92fe7e69\",\"type\":\"Selection\"},\"selection_policy\":{\"id\":\"8ce4d364-db27-49e3-b60d-b9c1c3822cf9\",\"type\":\"UnionRenderers\"}},\"id\":\"ce91d0ad-fa4f-4ed0-9164-746d79137938\",\"type\":\"ColumnDataSource\"},{\"attributes\":{\"source\":{\"id\":\"72a78f83-1001-4946-ae04-bac0a8ca5861\",\"type\":\"ColumnDataSource\"}},\"id\":\"575277f4-b8fc-4c62-a5d8-754b7d0d0977\",\"type\":\"CDSView\"},{\"attributes\":{\"below\":[{\"id\":\"e9558cf4-a8e7-4214-860d-1058e116a3ac\",\"type\":\"LinearAxis\"}],\"left\":[{\"id\":\"30e83771-59c1-409c-9555-f4c1acae5253\",\"type\":\"LinearAxis\"}],\"plot_height\":400,\"plot_width\":400,\"renderers\":[{\"id\":\"e9558cf4-a8e7-4214-860d-1058e116a3ac\",\"type\":\"LinearAxis\"},{\"id\":\"fbe5f479-701b-4280-9178-b930c7e5002f\",\"type\":\"Grid\"},{\"id\":\"30e83771-59c1-409c-9555-f4c1acae5253\",\"type\":\"LinearAxis\"},{\"id\":\"9627722a-2c08-43b0-a8a5-db5b6eba830e\",\"type\":\"Grid\"},{\"id\":\"7f268e34-6e56-418b-b819-357cd62858ee\",\"type\":\"BoxAnnotation\"},{\"id\":\"eef34bbf-a5bb-4bf7-b207-6ea20ee2b3e3\",\"type\":\"GlyphRenderer\"},{\"id\":\"af9f21ef-dd1a-4a82-a6be-7e15d4af0fea\",\"type\":\"GlyphRenderer\"},{\"id\":\"1f6e27cd-c9c2-4812-9845-33a1545a5fe6\",\"type\":\"GlyphRenderer\"},{\"id\":\"142e78c8-ec24-4d9e-9684-b3955d9e249a\",\"type\":\"GlyphRenderer\"}],\"title\":{\"id\":\"57f6d298-85b3-485f-923b-4403cb1dac9d\",\"type\":\"Title\"},\"toolbar\":{\"id\":\"491ef39c-acb5-4bcb-9af5-b950241c0dec\",\"type\":\"Toolbar\"},\"x_range\":{\"id\":\"bcb98faa-7eb9-4a6a-ad13-ead9a7c336c9\",\"type\":\"Range1d\"},\"x_scale\":{\"id\":\"4897f2a9-36e5-4f65-815a-6c30a965a4c3\",\"type\":\"LinearScale\"},\"y_range\":{\"id\":\"1cc432f1-a6fc-44bf-b3db-b37bafffabf5\",\"type\":\"Range1d\"},\"y_scale\":{\"id\":\"91750e38-464c-4144-9f01-1fc1506055df\",\"type\":\"LinearScale\"}},\"id\":\"862d7521-c7a0-45e1-be99-068eba4e0f97\",\"subtype\":\"Figure\",\"type\":\"Plot\"},{\"attributes\":{\"angle\":{\"units\":\"rad\",\"value\":-2.498091544796509},\"fill_alpha\":{\"value\":0.1},\"fill_color\":{\"value\":\"#1f77b4\"},\"height\":{\"units\":\"data\",\"value\":2.3664319132398464},\"line_alpha\":{\"value\":0.1},\"line_color\":{\"value\":\"#1f77b4\"},\"width\":{\"units\":\"data\",\"value\":4.47213595499958},\"x\":{\"value\":0},\"y\":{\"value\":0}},\"id\":\"000d13dd-b5ab-49e0-a7a5-98a91eca0366\",\"type\":\"Ellipse\"},{\"attributes\":{\"active_drag\":\"auto\",\"active_inspect\":\"auto\",\"active_scroll\":\"auto\",\"active_tap\":\"auto\",\"tools\":[{\"id\":\"426804ae-0d27-48d7-9956-37c8a4fb17e3\",\"type\":\"PanTool\"},{\"id\":\"70580e54-f039-4cf4-a4a7-b4209f26ea33\",\"type\":\"WheelZoomTool\"},{\"id\":\"9e91e92e-db19-4ada-99aa-cfba8125ffdc\",\"type\":\"BoxZoomTool\"},{\"id\":\"7ae2a30a-a056-46c8-8f55-0ea864700f1d\",\"type\":\"SaveTool\"},{\"id\":\"9654818f-d16a-4e98-a8a3-06817f3ac58c\",\"type\":\"ResetTool\"},{\"id\":\"865dea53-95a8-4645-b9e9-72efbf267e66\",\"type\":\"HelpTool\"}]},\"id\":\"491ef39c-acb5-4bcb-9af5-b950241c0dec\",\"type\":\"Toolbar\"},{\"attributes\":{},\"id\":\"8ce4d364-db27-49e3-b60d-b9c1c3822cf9\",\"type\":\"UnionRenderers\"},{\"attributes\":{\"callback\":null,\"end\":5,\"start\":-5},\"id\":\"bcb98faa-7eb9-4a6a-ad13-ead9a7c336c9\",\"type\":\"Range1d\"},{\"attributes\":{\"data_source\":{\"id\":\"72a78f83-1001-4946-ae04-bac0a8ca5861\",\"type\":\"ColumnDataSource\"},\"glyph\":{\"id\":\"d2bbc75b-453e-45e6-8797-13b77da83025\",\"type\":\"Ellipse\"},\"hover_glyph\":null,\"muted_glyph\":null,\"nonselection_glyph\":{\"id\":\"000d13dd-b5ab-49e0-a7a5-98a91eca0366\",\"type\":\"Ellipse\"},\"selection_glyph\":null,\"view\":{\"id\":\"575277f4-b8fc-4c62-a5d8-754b7d0d0977\",\"type\":\"CDSView\"}},\"id\":\"af9f21ef-dd1a-4a82-a6be-7e15d4af0fea\",\"type\":\"GlyphRenderer\"},{\"attributes\":{\"fill_color\":{\"value\":\"#1f77b4\"},\"line_color\":{\"value\":\"#1f77b4\"},\"x\":{\"field\":\"x\"},\"y\":{\"field\":\"y\"}},\"id\":\"8c05f396-7a53-49b1-b0f6-1c5ce424e0d2\",\"type\":\"Circle\"},{\"attributes\":{\"fill_alpha\":{\"value\":0.5},\"fill_color\":{\"value\":\"black\"},\"line_alpha\":{\"value\":0.5},\"x\":{\"value\":0},\"y\":{\"value\":0}},\"id\":\"75e0ba23-c522-4a1d-a219-0d0722680413\",\"type\":\"Cross\"},{\"attributes\":{},\"id\":\"21826d03-e31b-4f86-b567-2192ebc1756c\",\"type\":\"BasicTickFormatter\"},{\"attributes\":{\"data_source\":{\"id\":\"4688817f-9e7d-4ee3-81aa-69a80c14204b\",\"type\":\"ColumnDataSource\"},\"glyph\":{\"id\":\"75e0ba23-c522-4a1d-a219-0d0722680413\",\"type\":\"Cross\"},\"hover_glyph\":null,\"muted_glyph\":null,\"nonselection_glyph\":{\"id\":\"246dfa8a-d11a-49ce-a59e-a99cac423138\",\"type\":\"Cross\"},\"selection_glyph\":null,\"view\":{\"id\":\"d1daf14a-17d8-47cc-89eb-b6fd866402f2\",\"type\":\"CDSView\"}},\"id\":\"1f6e27cd-c9c2-4812-9845-33a1545a5fe6\",\"type\":\"GlyphRenderer\"},{\"attributes\":{\"callback\":null,\"data\":{},\"selected\":{\"id\":\"8f472df9-47db-4c82-8c1f-3a730c4e0c8e\",\"type\":\"Selection\"},\"selection_policy\":{\"id\":\"f7f60260-5c86-4b3f-8e7b-17efa33e1a43\",\"type\":\"UnionRenderers\"}},\"id\":\"72a78f83-1001-4946-ae04-bac0a8ca5861\",\"type\":\"ColumnDataSource\"},{\"attributes\":{\"fill_alpha\":{\"value\":0.1},\"fill_color\":{\"value\":\"#1f77b4\"},\"line_alpha\":{\"value\":0.1},\"line_color\":{\"value\":\"#1f77b4\"},\"x\":{\"field\":\"x\"},\"y\":{\"field\":\"y\"}},\"id\":\"6b191abe-13f7-4357-a9d4-802d97365499\",\"type\":\"Circle\"}],\"root_ids\":[\"862d7521-c7a0-45e1-be99-068eba4e0f97\"]},\"title\":\"Bokeh Application\",\"version\":\"0.12.16\"}};\n",
       "  var render_items = [{\"docid\":\"3874948a-2981-4274-b6c3-287027903225\",\"elementid\":\"1b254fc8-3cdc-4fe1-854d-6d542cd7b7e5\",\"modelid\":\"862d7521-c7a0-45e1-be99-068eba4e0f97\"}];\n",
       "  root.Bokeh.embed.embed_items_notebook(docs_json, render_items);\n",
       "\n",
       "  }\n",
       "  if (root.Bokeh !== undefined) {\n",
       "    embed_document(root);\n",
       "  } else {\n",
       "    var attempts = 0;\n",
       "    var timer = setInterval(function(root) {\n",
       "      if (root.Bokeh !== undefined) {\n",
       "        embed_document(root);\n",
       "        clearInterval(timer);\n",
       "      }\n",
       "      attempts++;\n",
       "      if (attempts > 100) {\n",
       "        console.log(\"Bokeh: ERROR: Unable to run BokehJS code because BokehJS library is missing\")\n",
       "        clearInterval(timer);\n",
       "      }\n",
       "    }, 10, root)\n",
       "  }\n",
       "})(window);"
      ],
      "application/vnd.bokehjs_exec.v0+json": ""
     },
     "metadata": {
      "application/vnd.bokehjs_exec.v0+json": {
       "id": "862d7521-c7a0-45e1-be99-068eba4e0f97"
      }
     },
     "output_type": "display_data"
    }
   ],
   "source": [
    "mean = np.array([-10, 10]) * 0\n",
    "cov = np.array([[1, -.75], [-.75, 1]])\n",
    "#cov = np.eye(2) \n",
    "data = np.random.multivariate_normal(mean, cov, size=500)\n",
    "\n",
    "x_range = (mean[0] - 5, mean[0] + 5)\n",
    "y_range = (mean[1] - 5, mean[1] + 5)\n",
    "\n",
    "fig = figure(\n",
    "    title='Data',\n",
    "    width=400,\n",
    "    height=400,\n",
    "    x_range=x_range,\n",
    "    y_range=y_range\n",
    ")\n",
    "fig.circle(data[:, 0], data[:, 1])\n",
    "plotting.plot_normal(fig, mean, cov, alpha=.5, color='black')\n",
    "\n",
    "show(fig)"
   ]
  },
  {
   "cell_type": "markdown",
   "metadata": {},
   "source": [
    "## Model Creation\n",
    "\n",
    "We create two types of Normal distribution: one diagonal covariance matrix and another one with full covariance matrix."
   ]
  },
  {
   "cell_type": "code",
   "execution_count": 18,
   "metadata": {},
   "outputs": [],
   "source": [
    "model = beer.PPCA.create(torch.zeros(2).double(), 1, torch.eye(2).double())\n",
    "#model = beer.NormalDiagonalCovariance.create(torch.zeros(2).double(), torch.ones(2).double())"
   ]
  },
  {
   "cell_type": "markdown",
   "metadata": {},
   "source": [
    "## Variational Bayes Training "
   ]
  },
  {
   "cell_type": "code",
   "execution_count": 19,
   "metadata": {
    "scrolled": false
   },
   "outputs": [
    {
     "data": {
      "text/html": [
       "\n",
       "<div class=\"bk-root\">\n",
       "    <div class=\"bk-plotdiv\" id=\"4584b6f0-c302-4335-a733-b7d05cd0fc72\"></div>\n",
       "</div>"
      ]
     },
     "metadata": {},
     "output_type": "display_data"
    },
    {
     "data": {
      "application/javascript": [
       "(function(root) {\n",
       "  function embed_document(root) {\n",
       "    \n",
       "  var docs_json = {\"cc730b38-4609-45a2-992c-942e9a8404b4\":{\"roots\":{\"references\":[{\"attributes\":{},\"id\":\"67cd4376-e79a-49ec-b997-43a603c683e4\",\"type\":\"SaveTool\"},{\"attributes\":{\"active_drag\":\"auto\",\"active_inspect\":\"auto\",\"active_scroll\":\"auto\",\"active_tap\":\"auto\",\"tools\":[{\"id\":\"f2a0072f-ecbb-4c87-bc35-c762b7623c26\",\"type\":\"PanTool\"},{\"id\":\"5a5ed4a6-348f-4139-84f8-cfa09c2ddb42\",\"type\":\"WheelZoomTool\"},{\"id\":\"74e0f208-fc04-4b4b-8977-a9ec4e254f6f\",\"type\":\"BoxZoomTool\"},{\"id\":\"67cd4376-e79a-49ec-b997-43a603c683e4\",\"type\":\"SaveTool\"},{\"id\":\"52c2583e-31a5-4048-9aad-c8b96f0ce03a\",\"type\":\"ResetTool\"},{\"id\":\"dc7f4400-723d-45a7-9352-7d28e384111c\",\"type\":\"HelpTool\"}]},\"id\":\"e213cd90-7ea9-4647-8d7b-68b91de72cc4\",\"type\":\"Toolbar\"},{\"attributes\":{},\"id\":\"dc7f4400-723d-45a7-9352-7d28e384111c\",\"type\":\"HelpTool\"},{\"attributes\":{\"below\":[{\"id\":\"07e6edc4-5c24-41c5-9c29-32739b146885\",\"type\":\"LinearAxis\"}],\"left\":[{\"id\":\"02d38cab-8468-4626-a97d-cc6ae7e92196\",\"type\":\"LinearAxis\"}],\"plot_height\":400,\"plot_width\":400,\"renderers\":[{\"id\":\"07e6edc4-5c24-41c5-9c29-32739b146885\",\"type\":\"LinearAxis\"},{\"id\":\"cfe94792-4b72-4746-8c13-698a0d646d1e\",\"type\":\"Grid\"},{\"id\":\"02d38cab-8468-4626-a97d-cc6ae7e92196\",\"type\":\"LinearAxis\"},{\"id\":\"f7cedeb9-414d-4e12-b5dd-a3a04125f7e8\",\"type\":\"Grid\"},{\"id\":\"5626e759-4ef9-405b-a874-d306bea2d562\",\"type\":\"BoxAnnotation\"},{\"id\":\"32a4d1bf-8b8a-44c7-9b16-3d5fbebb0edf\",\"type\":\"GlyphRenderer\"}],\"title\":{\"id\":\"9319ecc1-eae6-4c32-83c9-3bf0268dafb1\",\"type\":\"Title\"},\"toolbar\":{\"id\":\"e213cd90-7ea9-4647-8d7b-68b91de72cc4\",\"type\":\"Toolbar\"},\"x_range\":{\"id\":\"0a9b0f05-1061-4871-a03d-1ed2fe4d0b55\",\"type\":\"DataRange1d\"},\"x_scale\":{\"id\":\"d5c6e290-a7a6-429e-87f6-1a2c06dd8112\",\"type\":\"LinearScale\"},\"y_range\":{\"id\":\"a6dea8b9-3ce6-490f-8441-2baa4e59218f\",\"type\":\"DataRange1d\"},\"y_scale\":{\"id\":\"a06d9034-473c-4f8b-8671-1397a9c1cedf\",\"type\":\"LinearScale\"}},\"id\":\"b6e27d6d-ed3e-4e6a-b2e3-c0241b3d9e57\",\"subtype\":\"Figure\",\"type\":\"Plot\"},{\"attributes\":{},\"id\":\"64c93a77-9515-4600-b788-4100cfe5db07\",\"type\":\"BasicTickFormatter\"},{\"attributes\":{},\"id\":\"f2a0072f-ecbb-4c87-bc35-c762b7623c26\",\"type\":\"PanTool\"},{\"attributes\":{\"callback\":null,\"data\":{\"x\":[0,1,2,3,4,5,6,7,8,9,10,11,12,13,14,15,16,17,18,19,20,21,22,23,24,25,26,27,28,29,30,31,32,33,34,35,36,37,38,39,40,41,42,43,44,45,46,47,48,49,50,51,52,53,54,55,56,57,58,59,60,61,62,63,64,65,66,67,68,69,70,71,72,73,74,75,76,77,78,79,80,81,82,83,84,85,86,87,88,89,90,91,92,93,94,95,96,97,98,99],\"y\":[-5.37049,-3.72967,-3.57722,-3.54446,-3.53657,-3.5346,-3.53411,-3.53399,-3.53395,-3.53395,-3.53394,-3.53394,-3.53394,-3.53394,-3.53394,-3.53394,-3.53394,-3.53394,-3.53394,-3.53394,-3.53394,-3.53394,-3.53394,-3.53394,-3.53394,-3.53394,-3.53394,-3.53394,-3.53394,-3.53394,-3.53394,-3.53394,-3.53394,-3.53394,-3.53394,-3.53394,-3.53394,-3.53394,-3.53394,-3.53394,-3.53394,-3.53394,-3.53394,-3.53394,-3.53394,-3.53394,-3.53394,-3.53394,-3.53394,-3.53394,-3.53394,-3.53394,-3.53394,-3.53394,-3.53394,-3.53394,-3.53394,-3.53394,-3.53394,-3.53394,-3.53394,-3.53394,-3.53394,-3.53394,-3.53394,-3.53394,-3.53394,-3.53394,-3.53394,-3.53394,-3.53394,-3.53394,-3.53394,-3.53394,-3.53394,-3.53394,-3.53394,-3.53394,-3.53394,-3.53394,-3.53394,-3.53394,-3.53394,-3.53394,-3.53394,-3.53394,-3.53394,-3.53394,-3.53394,-3.53394,-3.53394,-3.53394,-3.53394,-3.53394,-3.53394,-3.53394,-3.53394,-3.53394,-3.53394,-3.53394]},\"selected\":{\"id\":\"0ff8fc20-05ff-46b0-9a93-160a6f182ca4\",\"type\":\"Selection\"},\"selection_policy\":{\"id\":\"28048a5c-fbab-45b2-83d3-df923967062f\",\"type\":\"UnionRenderers\"}},\"id\":\"3caba0b3-99f3-48ca-9162-efb353557673\",\"type\":\"ColumnDataSource\"},{\"attributes\":{\"dimension\":1,\"plot\":{\"id\":\"b6e27d6d-ed3e-4e6a-b2e3-c0241b3d9e57\",\"subtype\":\"Figure\",\"type\":\"Plot\"},\"ticker\":{\"id\":\"7bc6c6fc-94da-49df-9d48-4be1851f1ddc\",\"type\":\"BasicTicker\"}},\"id\":\"f7cedeb9-414d-4e12-b5dd-a3a04125f7e8\",\"type\":\"Grid\"},{\"attributes\":{\"plot\":{\"id\":\"b6e27d6d-ed3e-4e6a-b2e3-c0241b3d9e57\",\"subtype\":\"Figure\",\"type\":\"Plot\"},\"ticker\":{\"id\":\"e58fd85e-0d58-48d3-a850-ba6f1b45ef25\",\"type\":\"BasicTicker\"}},\"id\":\"cfe94792-4b72-4746-8c13-698a0d646d1e\",\"type\":\"Grid\"},{\"attributes\":{},\"id\":\"43163862-133e-4626-b6c6-8d68153ee824\",\"type\":\"BasicTickFormatter\"},{\"attributes\":{\"line_alpha\":0.1,\"line_color\":\"#1f77b4\",\"x\":{\"field\":\"x\"},\"y\":{\"field\":\"y\"}},\"id\":\"00fe9a53-1c4f-4e5c-8318-df35b15736a7\",\"type\":\"Line\"},{\"attributes\":{\"bottom_units\":\"screen\",\"fill_alpha\":{\"value\":0.5},\"fill_color\":{\"value\":\"lightgrey\"},\"left_units\":\"screen\",\"level\":\"overlay\",\"line_alpha\":{\"value\":1.0},\"line_color\":{\"value\":\"black\"},\"line_dash\":[4,4],\"line_width\":{\"value\":2},\"plot\":null,\"render_mode\":\"css\",\"right_units\":\"screen\",\"top_units\":\"screen\"},\"id\":\"5626e759-4ef9-405b-a874-d306bea2d562\",\"type\":\"BoxAnnotation\"},{\"attributes\":{},\"id\":\"a06d9034-473c-4f8b-8671-1397a9c1cedf\",\"type\":\"LinearScale\"},{\"attributes\":{\"plot\":null,\"text\":\"\"},\"id\":\"9319ecc1-eae6-4c32-83c9-3bf0268dafb1\",\"type\":\"Title\"},{\"attributes\":{},\"id\":\"d5c6e290-a7a6-429e-87f6-1a2c06dd8112\",\"type\":\"LinearScale\"},{\"attributes\":{\"data_source\":{\"id\":\"3caba0b3-99f3-48ca-9162-efb353557673\",\"type\":\"ColumnDataSource\"},\"glyph\":{\"id\":\"632cd3fb-2ee1-4ba3-8dfa-88089d51b942\",\"type\":\"Line\"},\"hover_glyph\":null,\"muted_glyph\":null,\"nonselection_glyph\":{\"id\":\"00fe9a53-1c4f-4e5c-8318-df35b15736a7\",\"type\":\"Line\"},\"selection_glyph\":null,\"view\":{\"id\":\"0b103971-4338-4815-bf18-5c5725461a94\",\"type\":\"CDSView\"}},\"id\":\"32a4d1bf-8b8a-44c7-9b16-3d5fbebb0edf\",\"type\":\"GlyphRenderer\"},{\"attributes\":{},\"id\":\"52c2583e-31a5-4048-9aad-c8b96f0ce03a\",\"type\":\"ResetTool\"},{\"attributes\":{\"callback\":null},\"id\":\"a6dea8b9-3ce6-490f-8441-2baa4e59218f\",\"type\":\"DataRange1d\"},{\"attributes\":{\"overlay\":{\"id\":\"5626e759-4ef9-405b-a874-d306bea2d562\",\"type\":\"BoxAnnotation\"}},\"id\":\"74e0f208-fc04-4b4b-8977-a9ec4e254f6f\",\"type\":\"BoxZoomTool\"},{\"attributes\":{\"source\":{\"id\":\"3caba0b3-99f3-48ca-9162-efb353557673\",\"type\":\"ColumnDataSource\"}},\"id\":\"0b103971-4338-4815-bf18-5c5725461a94\",\"type\":\"CDSView\"},{\"attributes\":{},\"id\":\"0ff8fc20-05ff-46b0-9a93-160a6f182ca4\",\"type\":\"Selection\"},{\"attributes\":{},\"id\":\"7bc6c6fc-94da-49df-9d48-4be1851f1ddc\",\"type\":\"BasicTicker\"},{\"attributes\":{},\"id\":\"e58fd85e-0d58-48d3-a850-ba6f1b45ef25\",\"type\":\"BasicTicker\"},{\"attributes\":{},\"id\":\"5a5ed4a6-348f-4139-84f8-cfa09c2ddb42\",\"type\":\"WheelZoomTool\"},{\"attributes\":{},\"id\":\"28048a5c-fbab-45b2-83d3-df923967062f\",\"type\":\"UnionRenderers\"},{\"attributes\":{\"formatter\":{\"id\":\"64c93a77-9515-4600-b788-4100cfe5db07\",\"type\":\"BasicTickFormatter\"},\"plot\":{\"id\":\"b6e27d6d-ed3e-4e6a-b2e3-c0241b3d9e57\",\"subtype\":\"Figure\",\"type\":\"Plot\"},\"ticker\":{\"id\":\"7bc6c6fc-94da-49df-9d48-4be1851f1ddc\",\"type\":\"BasicTicker\"}},\"id\":\"02d38cab-8468-4626-a97d-cc6ae7e92196\",\"type\":\"LinearAxis\"},{\"attributes\":{\"callback\":null},\"id\":\"0a9b0f05-1061-4871-a03d-1ed2fe4d0b55\",\"type\":\"DataRange1d\"},{\"attributes\":{\"formatter\":{\"id\":\"43163862-133e-4626-b6c6-8d68153ee824\",\"type\":\"BasicTickFormatter\"},\"plot\":{\"id\":\"b6e27d6d-ed3e-4e6a-b2e3-c0241b3d9e57\",\"subtype\":\"Figure\",\"type\":\"Plot\"},\"ticker\":{\"id\":\"e58fd85e-0d58-48d3-a850-ba6f1b45ef25\",\"type\":\"BasicTicker\"}},\"id\":\"07e6edc4-5c24-41c5-9c29-32739b146885\",\"type\":\"LinearAxis\"},{\"attributes\":{\"line_color\":\"#1f77b4\",\"x\":{\"field\":\"x\"},\"y\":{\"field\":\"y\"}},\"id\":\"632cd3fb-2ee1-4ba3-8dfa-88089d51b942\",\"type\":\"Line\"}],\"root_ids\":[\"b6e27d6d-ed3e-4e6a-b2e3-c0241b3d9e57\"]},\"title\":\"Bokeh Application\",\"version\":\"0.12.16\"}};\n",
       "  var render_items = [{\"docid\":\"cc730b38-4609-45a2-992c-942e9a8404b4\",\"elementid\":\"4584b6f0-c302-4335-a733-b7d05cd0fc72\",\"modelid\":\"b6e27d6d-ed3e-4e6a-b2e3-c0241b3d9e57\"}];\n",
       "  root.Bokeh.embed.embed_items_notebook(docs_json, render_items);\n",
       "\n",
       "  }\n",
       "  if (root.Bokeh !== undefined) {\n",
       "    embed_document(root);\n",
       "  } else {\n",
       "    var attempts = 0;\n",
       "    var timer = setInterval(function(root) {\n",
       "      if (root.Bokeh !== undefined) {\n",
       "        embed_document(root);\n",
       "        clearInterval(timer);\n",
       "      }\n",
       "      attempts++;\n",
       "      if (attempts > 100) {\n",
       "        console.log(\"Bokeh: ERROR: Unable to run BokehJS code because BokehJS library is missing\")\n",
       "        clearInterval(timer);\n",
       "      }\n",
       "    }, 10, root)\n",
       "  }\n",
       "})(window);"
      ],
      "application/vnd.bokehjs_exec.v0+json": ""
     },
     "metadata": {
      "application/vnd.bokehjs_exec.v0+json": {
       "id": "b6e27d6d-ed3e-4e6a-b2e3-c0241b3d9e57"
      }
     },
     "output_type": "display_data"
    }
   ],
   "source": [
    "epochs = 100\n",
    "lrate = 1\n",
    "X = torch.from_numpy(data).double()\n",
    "elbo_fn = beer.EvidenceLowerBound(len(X))\n",
    "params = [model.precision_param]\n",
    "#params = model.parameters\n",
    "optimizer = beer.BayesianModelOptimizer(params, lrate)\n",
    "    \n",
    "elbos = []\n",
    "klds = []\n",
    "for epoch in range(epochs):\n",
    "    optimizer.zero_grad()\n",
    "    elbo = elbo_fn(model, X)\n",
    "    elbo.natural_backward()\n",
    "    #print(float(elbo._kl_div), float(elbo._exp_llh_per_frame.sum()))\n",
    "    optimizer.step()\n",
    "    elbos.append(round(float(elbo) / len(X), 5))\n",
    "fig = figure(width=400, height=400)\n",
    "fig.line(range(len(elbos)), elbos)\n",
    "show(fig)"
   ]
  },
  {
   "cell_type": "code",
   "execution_count": 5,
   "metadata": {},
   "outputs": [
    {
     "data": {
      "text/plain": [
       "(tensor(1., dtype=torch.float64),\n",
       " tensor([ 0.,  0.], dtype=torch.float64),\n",
       " tensor([[ 0.4241, -0.4159],\n",
       "         [-0.4159,  0.4129]], dtype=torch.float64))"
      ]
     },
     "execution_count": 5,
     "metadata": {},
     "output_type": "execute_result"
    }
   ],
   "source": [
    "model.precision, model.mean, model.subspace"
   ]
  },
  {
   "cell_type": "code",
   "execution_count": 6,
   "metadata": {
    "scrolled": false
   },
   "outputs": [
    {
     "name": "stdout",
     "output_type": "stream",
     "text": [
      "bases: [[ 0.42414774 -0.41587612]\n",
      " [-0.41587612  0.41291204]] (2, 2)\n",
      "evectors\n",
      "[[-0.70710678 -0.70710678]\n",
      " [-0.70710678  0.70710678]]\n"
     ]
    },
    {
     "data": {
      "text/html": [
       "\n",
       "<div class=\"bk-root\">\n",
       "    <div class=\"bk-plotdiv\" id=\"97601d53-215d-4f32-90bd-43c90a27ca42\"></div>\n",
       "</div>"
      ]
     },
     "metadata": {},
     "output_type": "display_data"
    },
    {
     "data": {
      "application/javascript": [
       "(function(root) {\n",
       "  function embed_document(root) {\n",
       "    \n",
       "  var docs_json = {\"154554b6-f73d-4849-a6f5-0d6dd7cbc003\":{\"roots\":{\"references\":[{\"attributes\":{\"bottom_units\":\"screen\",\"fill_alpha\":{\"value\":0.5},\"fill_color\":{\"value\":\"lightgrey\"},\"left_units\":\"screen\",\"level\":\"overlay\",\"line_alpha\":{\"value\":1.0},\"line_color\":{\"value\":\"black\"},\"line_dash\":[4,4],\"line_width\":{\"value\":2},\"plot\":null,\"render_mode\":\"css\",\"right_units\":\"screen\",\"top_units\":\"screen\"},\"id\":\"7f8f7eba-45be-490b-9995-0f5a9977089c\",\"type\":\"BoxAnnotation\"},{\"attributes\":{},\"id\":\"2b2ff86f-eef2-48ba-97c8-28a1c966ca2c\",\"type\":\"PanTool\"},{\"attributes\":{\"end\":{\"id\":\"fe6c92b7-dd22-4acd-b276-691ba2a56675\",\"type\":\"NormalHead\"},\"line_width\":{\"value\":2},\"plot\":{\"id\":\"51e101e1-09b8-4e33-b3ea-b17c06fb17ad\",\"subtype\":\"Figure\",\"type\":\"Plot\"},\"source\":null,\"start\":null,\"x_end\":{\"value\":0.42414773774788966},\"x_start\":{\"value\":0.0},\"y_end\":{\"value\":-0.4158761151507011},\"y_start\":{\"value\":0.0}},\"id\":\"27ee4e43-73a8-4cd0-ba52-5fbcb18378d2\",\"type\":\"Arrow\"},{\"attributes\":{},\"id\":\"c7fe8922-9d43-47bc-bf70-5e8bd5ca19d6\",\"type\":\"SaveTool\"},{\"attributes\":{},\"id\":\"0c3abcce-c1d6-4d7e-b6df-0b2cd56b18c5\",\"type\":\"ResetTool\"},{\"attributes\":{},\"id\":\"906a5aff-0eff-4e77-998f-043517938389\",\"type\":\"HelpTool\"},{\"attributes\":{\"end\":{\"id\":\"9633d569-641f-4100-a9ed-432b3c4b5b64\",\"type\":\"NormalHead\"},\"line_width\":{\"value\":2},\"plot\":{\"id\":\"51e101e1-09b8-4e33-b3ea-b17c06fb17ad\",\"subtype\":\"Figure\",\"type\":\"Plot\"},\"source\":null,\"start\":null,\"x_end\":{\"value\":-0.41587611515069833},\"x_start\":{\"value\":0.0},\"y_end\":{\"value\":0.41291203842295315},\"y_start\":{\"value\":0.0}},\"id\":\"ad096b4a-25b7-4fff-8e1b-2dfefcde08d4\",\"type\":\"Arrow\"},{\"attributes\":{\"plot\":null,\"size\":10},\"id\":\"9633d569-641f-4100-a9ed-432b3c4b5b64\",\"type\":\"NormalHead\"},{\"attributes\":{\"fill_alpha\":{\"value\":0.3},\"fill_color\":{\"value\":\"#1f77b4\"},\"line_alpha\":{\"value\":0.3},\"line_color\":{\"value\":\"#1f77b4\"},\"x\":{\"field\":\"x\"},\"y\":{\"field\":\"y\"}},\"id\":\"27831d3f-b639-464e-9cd0-656dd2906fba\",\"type\":\"Circle\"},{\"attributes\":{\"callback\":null,\"end\":5,\"start\":-5},\"id\":\"0e92ba75-7f6b-4a71-9ba0-afd6e1b2bb0e\",\"type\":\"Range1d\"},{\"attributes\":{\"end\":{\"id\":\"bf8227ba-15a3-4f7f-aa2f-5615d5323065\",\"type\":\"NormalHead\"},\"line_alpha\":{\"value\":0.9999999999999999},\"line_width\":{\"value\":2},\"plot\":{\"id\":\"dd75d35b-6662-4796-af92-ff0542a21eab\",\"subtype\":\"Figure\",\"type\":\"Plot\"},\"source\":null,\"start\":null,\"x_end\":{\"value\":-0.7071067811865475},\"x_start\":{\"value\":0.0},\"y_end\":{\"value\":-0.7071067811865475},\"y_start\":{\"value\":0.0}},\"id\":\"95ef3554-62df-447f-8919-6153feff07ff\",\"type\":\"Arrow\"},{\"attributes\":{\"fill_alpha\":{\"value\":0.9999999999999999},\"line_alpha\":{\"value\":0.9999999999999999},\"plot\":null,\"size\":10},\"id\":\"bf8227ba-15a3-4f7f-aa2f-5615d5323065\",\"type\":\"NormalHead\"},{\"attributes\":{\"plot\":null,\"text\":\"PCA\"},\"id\":\"e6ce6943-d389-4bc8-8f59-7d26e2b65b8f\",\"type\":\"Title\"},{\"attributes\":{\"below\":[{\"id\":\"fcb39313-928c-42a4-932f-d2a61c98911d\",\"type\":\"LinearAxis\"}],\"left\":[{\"id\":\"e543906b-08e9-4504-9116-e1127a48e925\",\"type\":\"LinearAxis\"}],\"plot_height\":400,\"plot_width\":400,\"renderers\":[{\"id\":\"fcb39313-928c-42a4-932f-d2a61c98911d\",\"type\":\"LinearAxis\"},{\"id\":\"4b8bf393-e2b6-477b-8872-13c25b54f769\",\"type\":\"Grid\"},{\"id\":\"e543906b-08e9-4504-9116-e1127a48e925\",\"type\":\"LinearAxis\"},{\"id\":\"66e0d6bb-b2b8-4d06-9d29-b669930eb12f\",\"type\":\"Grid\"},{\"id\":\"b803b2a8-4826-428a-942b-cb9561156f43\",\"type\":\"BoxAnnotation\"},{\"id\":\"ea49ed4c-05d1-4b35-bb9b-7739dfc3af10\",\"type\":\"GlyphRenderer\"},{\"id\":\"95ef3554-62df-447f-8919-6153feff07ff\",\"type\":\"Arrow\"},{\"id\":\"7d0a1b20-17d9-47ee-a173-d5ee6df52889\",\"type\":\"Arrow\"}],\"title\":{\"id\":\"e6ce6943-d389-4bc8-8f59-7d26e2b65b8f\",\"type\":\"Title\"},\"toolbar\":{\"id\":\"8e8d4f41-3d01-4cd5-bd7d-59c133b443c1\",\"type\":\"Toolbar\"},\"toolbar_location\":null,\"x_range\":{\"id\":\"0e92ba75-7f6b-4a71-9ba0-afd6e1b2bb0e\",\"type\":\"Range1d\"},\"x_scale\":{\"id\":\"89383b49-2aec-43f8-aaf3-c814283cf610\",\"type\":\"LinearScale\"},\"y_range\":{\"id\":\"ce240021-c2ff-4600-a169-0871ecf10a38\",\"type\":\"Range1d\"},\"y_scale\":{\"id\":\"2cbbf1aa-e159-4267-9f4c-044daca99aa9\",\"type\":\"LinearScale\"}},\"id\":\"dd75d35b-6662-4796-af92-ff0542a21eab\",\"subtype\":\"Figure\",\"type\":\"Plot\"},{\"attributes\":{\"active_drag\":\"auto\",\"active_inspect\":\"auto\",\"active_scroll\":\"auto\",\"active_tap\":\"auto\",\"tools\":[{\"id\":\"0a1984db-1802-408e-aef4-0b3b037c0271\",\"type\":\"PanTool\"},{\"id\":\"6a4318a4-85f8-4d0b-8b3c-001ce2c0c2f9\",\"type\":\"WheelZoomTool\"},{\"id\":\"63772f11-655f-42a2-83f4-598f0fac89c6\",\"type\":\"BoxZoomTool\"},{\"id\":\"cad90803-7bcb-465d-8b98-2cf1e9eb3cd1\",\"type\":\"SaveTool\"},{\"id\":\"14739378-3ef9-4933-a40b-9ecd81b60a2f\",\"type\":\"ResetTool\"},{\"id\":\"fe983b99-130b-441a-9b96-d9434ea88424\",\"type\":\"HelpTool\"}]},\"id\":\"8e8d4f41-3d01-4cd5-bd7d-59c133b443c1\",\"type\":\"Toolbar\"},{\"attributes\":{\"data_source\":{\"id\":\"1897d43a-9f0b-485b-a4c6-368ce291cc6b\",\"type\":\"ColumnDataSource\"},\"glyph\":{\"id\":\"27831d3f-b639-464e-9cd0-656dd2906fba\",\"type\":\"Circle\"},\"hover_glyph\":null,\"muted_glyph\":null,\"nonselection_glyph\":{\"id\":\"1f2c3a0a-7c73-4dc3-9346-c40cb3b0c216\",\"type\":\"Circle\"},\"selection_glyph\":null,\"view\":{\"id\":\"8cb454aa-3a92-4b15-a39b-792bdf632cfb\",\"type\":\"CDSView\"}},\"id\":\"ea49ed4c-05d1-4b35-bb9b-7739dfc3af10\",\"type\":\"GlyphRenderer\"},{\"attributes\":{},\"id\":\"89383b49-2aec-43f8-aaf3-c814283cf610\",\"type\":\"LinearScale\"},{\"attributes\":{\"callback\":null,\"end\":5,\"start\":-5},\"id\":\"ce240021-c2ff-4600-a169-0871ecf10a38\",\"type\":\"Range1d\"},{\"attributes\":{},\"id\":\"2cbbf1aa-e159-4267-9f4c-044daca99aa9\",\"type\":\"LinearScale\"},{\"attributes\":{\"plot\":{\"id\":\"dd75d35b-6662-4796-af92-ff0542a21eab\",\"subtype\":\"Figure\",\"type\":\"Plot\"},\"ticker\":{\"id\":\"bf06fe0f-def7-4f3b-bec3-f89706e4e59a\",\"type\":\"BasicTicker\"}},\"id\":\"4b8bf393-e2b6-477b-8872-13c25b54f769\",\"type\":\"Grid\"},{\"attributes\":{\"formatter\":{\"id\":\"6eb6d0a1-f4a6-4330-94b6-9ae4501932f6\",\"type\":\"BasicTickFormatter\"},\"plot\":{\"id\":\"dd75d35b-6662-4796-af92-ff0542a21eab\",\"subtype\":\"Figure\",\"type\":\"Plot\"},\"ticker\":{\"id\":\"bf06fe0f-def7-4f3b-bec3-f89706e4e59a\",\"type\":\"BasicTicker\"}},\"id\":\"fcb39313-928c-42a4-932f-d2a61c98911d\",\"type\":\"LinearAxis\"},{\"attributes\":{},\"id\":\"bf06fe0f-def7-4f3b-bec3-f89706e4e59a\",\"type\":\"BasicTicker\"},{\"attributes\":{\"formatter\":{\"id\":\"96051a7d-a865-404b-8f23-3ed671f3883c\",\"type\":\"BasicTickFormatter\"},\"plot\":{\"id\":\"dd75d35b-6662-4796-af92-ff0542a21eab\",\"subtype\":\"Figure\",\"type\":\"Plot\"},\"ticker\":{\"id\":\"1edcf36b-ed7e-482a-9b58-eda7ee54fede\",\"type\":\"BasicTicker\"}},\"id\":\"e543906b-08e9-4504-9116-e1127a48e925\",\"type\":\"LinearAxis\"},{\"attributes\":{},\"id\":\"1edcf36b-ed7e-482a-9b58-eda7ee54fede\",\"type\":\"BasicTicker\"},{\"attributes\":{\"dimension\":1,\"plot\":{\"id\":\"dd75d35b-6662-4796-af92-ff0542a21eab\",\"subtype\":\"Figure\",\"type\":\"Plot\"},\"ticker\":{\"id\":\"1edcf36b-ed7e-482a-9b58-eda7ee54fede\",\"type\":\"BasicTicker\"}},\"id\":\"66e0d6bb-b2b8-4d06-9d29-b669930eb12f\",\"type\":\"Grid\"},{\"attributes\":{\"fill_alpha\":{\"value\":0.1},\"fill_color\":{\"value\":\"#1f77b4\"},\"line_alpha\":{\"value\":0.1},\"line_color\":{\"value\":\"#1f77b4\"},\"x\":{\"field\":\"x\"},\"y\":{\"field\":\"y\"}},\"id\":\"1f2c3a0a-7c73-4dc3-9346-c40cb3b0c216\",\"type\":\"Circle\"},{\"attributes\":{\"fill_alpha\":{\"value\":0.9999999999999999},\"line_alpha\":{\"value\":0.9999999999999999},\"plot\":null,\"size\":10},\"id\":\"ee072c08-823c-4e7a-88ab-6e4f4135f7e6\",\"type\":\"NormalHead\"},{\"attributes\":{\"bottom_units\":\"screen\",\"fill_alpha\":{\"value\":0.5},\"fill_color\":{\"value\":\"lightgrey\"},\"left_units\":\"screen\",\"level\":\"overlay\",\"line_alpha\":{\"value\":1.0},\"line_color\":{\"value\":\"black\"},\"line_dash\":[4,4],\"line_width\":{\"value\":2},\"plot\":null,\"render_mode\":\"css\",\"right_units\":\"screen\",\"top_units\":\"screen\"},\"id\":\"b803b2a8-4826-428a-942b-cb9561156f43\",\"type\":\"BoxAnnotation\"},{\"attributes\":{},\"id\":\"0a1984db-1802-408e-aef4-0b3b037c0271\",\"type\":\"PanTool\"},{\"attributes\":{\"children\":[{\"id\":\"51e101e1-09b8-4e33-b3ea-b17c06fb17ad\",\"subtype\":\"Figure\",\"type\":\"Plot\"},{\"id\":\"dd75d35b-6662-4796-af92-ff0542a21eab\",\"subtype\":\"Figure\",\"type\":\"Plot\"}]},\"id\":\"73fffa1c-1f47-49dc-a911-e533007d684e\",\"type\":\"Row\"},{\"attributes\":{},\"id\":\"6a4318a4-85f8-4d0b-8b3c-001ce2c0c2f9\",\"type\":\"WheelZoomTool\"},{\"attributes\":{\"overlay\":{\"id\":\"b803b2a8-4826-428a-942b-cb9561156f43\",\"type\":\"BoxAnnotation\"}},\"id\":\"63772f11-655f-42a2-83f4-598f0fac89c6\",\"type\":\"BoxZoomTool\"},{\"attributes\":{},\"id\":\"cad90803-7bcb-465d-8b98-2cf1e9eb3cd1\",\"type\":\"SaveTool\"},{\"attributes\":{},\"id\":\"14739378-3ef9-4933-a40b-9ecd81b60a2f\",\"type\":\"ResetTool\"},{\"attributes\":{},\"id\":\"fe983b99-130b-441a-9b96-d9434ea88424\",\"type\":\"HelpTool\"},{\"attributes\":{},\"id\":\"b708a967-df1a-4a13-909f-f59d2207b201\",\"type\":\"BasicTickFormatter\"},{\"attributes\":{\"end\":{\"id\":\"ee072c08-823c-4e7a-88ab-6e4f4135f7e6\",\"type\":\"NormalHead\"},\"line_alpha\":{\"value\":0.9999999999999999},\"line_width\":{\"value\":2},\"plot\":{\"id\":\"dd75d35b-6662-4796-af92-ff0542a21eab\",\"subtype\":\"Figure\",\"type\":\"Plot\"},\"source\":null,\"start\":null,\"x_end\":{\"value\":-0.7071067811865475},\"x_start\":{\"value\":0.0},\"y_end\":{\"value\":0.7071067811865475},\"y_start\":{\"value\":0.0}},\"id\":\"7d0a1b20-17d9-47ee-a173-d5ee6df52889\",\"type\":\"Arrow\"},{\"attributes\":{},\"id\":\"aa17a7a5-807f-465a-9c9f-fdd20a34815d\",\"type\":\"BasicTickFormatter\"},{\"attributes\":{},\"id\":\"f818ef86-fd0d-46c5-8a44-89399e9994a7\",\"type\":\"UnionRenderers\"},{\"attributes\":{},\"id\":\"25760a1c-a783-470b-af5b-fc1b2c9c0e3d\",\"type\":\"Selection\"},{\"attributes\":{},\"id\":\"6c74a964-1f05-4524-aa5a-9fa947bac7bd\",\"type\":\"Selection\"},{\"attributes\":{},\"id\":\"bdb78e7f-3df2-4aa1-bece-9d69ffb7bfc8\",\"type\":\"UnionRenderers\"},{\"attributes\":{\"callback\":null,\"data\":{\"x\":{\"__ndarray__\":\"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\",\"dtype\":\"float64\",\"shape\":[500]},\"y\":{\"__ndarray__\":\"ZkffGdWOBMBaZOx1TajWP6slp9wqRQHA5QmS/BRv9z9bScJ7bCLxP7ZsHbs4gva/eq97ZUxN1D9U8qW/947aP2Wk/UclGOq/Tko8tQoS4j9nxAfPwZPMvzk1SEKbsOy/yZopQs/+8z+i5VU4DKblP4hGjYE08ek/VEE8eFnZ5r9QOge1mb2oPxm+CCpwzfO/xsh9zvyFyD+4gBc8kYnkP9UM3YdZcNq/OCBoUlQd9L+bq/f+qMHgP1C4DSgc6eU/81XB9z4h579SL8zyDfPSP2ZI4jEFove/oN+JLDB64L+ey3fYzpzfP4tcQ9CxOvK/bJ3EtSTa0L8i1elU3xbrP8+DAjKwQ+C/lDEE3e6i7z9B1Vg9oQ39P9B6g4sPxOQ/R75x/V+d1L80Wwz/e0jiP059k6LSGuI/j3tAWrWsxD97Fxr1N630vzzZf2Emos6//Injdaol5j9KjpN11T7qP74km8vdIdQ/YcfH3LQW3j8ywGmwcjD0P6C60rmRDpa/dY4K5XQlqj9i6/yKuprZP9R6x+iNtdU/SPF2QZEy4D/WqSRxYaXtv8xJ+SJNhe2/7bSX7xil8r8zF6dBCHXyvxiJw+zQGac/aPaPVZTbpr91C3qqKyLqPzs7VT5Mh9Q/NH3Jm2oI37/fsBWr2ff3vwRTQe3SK/U/w+/HwUnz6784ntuJ783Fv77FFhzw/9Q/Ex1cJFdN8j8aD0d5z5vXvx132pTrfuG/LONntuT+CEDqV2FBUdPnP+uGUJanquq/lwxmg9H36D8oVp3KRfjrP07a9PPsBPI/6SUI+b3D8b+v35KLOSvyv18ubHnp0+2/T3LEAuv4wj+36aqebPr6PwzHqWZB9+c/JhZreTKP/r/Yab6qST7hP+jKa1OND6O/V6QWN08E2j984fLMN1PmPxj0CwSh3PW/gnboirbr0j/btS9d2qvpv8l4BydJugHAOqhHy2D61j/kFXF1OOXwP1WvXDTrnN4/DBFsesBS1T/OExorGSbXvyebqz2TPta/ZNfsjd9C4D8Q7qGgrWSlv+SNwMLkofi/SiHKzGmM+z+qp/g+m5nnv96tse5Wo8S/VGHxtk8i1T9/HMf8sND5v2t2RaY2zeY/UQzPC0TV5b+HJNRsY4vov9qiYV9KYc6/mXtBu4RY3L/GMhWf6f3bPwCZbV3RLbC/EPImKxP90j9sOjhiSJTDP2Bf1Zqutcs/CnAJCYEm8z9+CLgzfkPnP0ZjW4ZOGPo/Bhol9FRa3T+QuVCekNPKv2RbJ76+sKK/lSDJm83v8r/KAjHBWCL5v7b/tEYWEck/kN/kfNMiuT8YQE83p67Zv8i+0SZe39a/FPqkZBvB379Do9ZgkW3WPzZI7vNb9ue/dgOfDp0ewz/+YWBlqhDdv2TVIu6Rkfo/7qaE3i+h1r9Q3JsJ0mznv9Aoz6Tqofm/VrITHWtW4z+aNfAoL1LlPwPQ14s0bfW/49eaIc2Bzb8+NuOYrAXcv/E3towp0OA/8pJ3ubfe3b8d+KsxG5XZvxdDb4fSKvS/85h82TXy0T8WxQ3pmVzUP8veRHEXp/S/BbTlCZTP3b+A42nM7KDRP6xDzb7g8bO/Xl0SNLWf+r+wmiiZBV/vP72yaVkUNe4/I+rtfHAZ4j9XdhHlKIbTv09sUJoijfQ/xwHfgnwk779csO8qzj7zP3pEk2H3euY/FNyZEAyKAEBY+jiRTGzPPwGlQ9BPaPA/a8A1DXpt8r9esxwsHjfkv/3NBeNB5dG/4CX/0tFPAsC2XjVblp/OP9IYQWPKvfc/hGnrbGyT2r+gVuqH0wvtv3PmvTdjzgLA0HXc2qg/tT+SqSVWSMgCwNCPE7Vp8NU/Qq399ZIY1L/Jmdynu7DwP3a8Jq1/wvk/PrNos1PGx7+Y6bz5snvfPyX92ZAaY9W/0vUOq2Gv7T/RudUYLyrDP7uXwUH47vW/O+fTEoS9zL80YH1LCsLuv4A5lmi4/+U/7s5eFPOd178yNOpPsAjiPwe9Rfj1Rs6/IsNs0oQ28D/duiO/6Qn+P2vLCPzUEbO/Ka9QiOCZ77/71Rug/DHwv5IAJH0CvvW/lE27Oc6R8r9aKpXlYD71P/QQUY5uj+k/6JW4jPt2qb+qib6iXGT2v1wjFRNoBZe/e1Cz8Tn77r/gNJ5qzQKTP49a3WzTc9U/6loxq2xu5b8ebZR4ijPgPx6AJ7xGnek/9gYwK9LI279CqNGRWR3kv0WSmn6SSuM/FZDe5yMU4z9uqY69y8PDPzhNaSoyF9E/I3vVm23Z1D9U+2QrsM4FQLqoR+0Wq96/jPO7keFe1j/d/9eCAmL0PwjEbMoxbsY/Wt/qn/jc87/buU1xGIb4PwtXprIAye+/DFlbM1ad4T+qLUQ96LIFQFsP4XhUBdS/K+5htrQW678HUeRDeIDhv5ysld+/xfC/WuZLYvpf4T8WHwALMdD1v4DVuZyTFKu/ELXl1nKj6T9CQlhjmKK+P65EWdVxCPG/UztaR2WE4j9XeM9LIbTxvxAwKYmQt+O/CSFp9C9p4T+HdNv5AC/xv6ViquoHg+Q/zxeamX2W9j/VIsC4vcb2v2nPcHJunvM/0EpJsZfZ+T/4fG8c1LjKP2ZHOLpYoIW/+Vd+dh2K8j8kSg0u79nFP5OYkl2Gucs/VA6fy03+9z/ygeUjeEG1vzKLQ7rIO94/09Fo1pBs8z/GMnZGgoDsvwuHlkMSFPK/Vr1F8YXR4b8+xYa3y6LrP7QaaVrLZe2/BBzYnz3krL/H1yADb4j1v/BC9RDAcOi/wcMCnLOa8b9o/B8iBVTwP6yt6sgNPNk/Df9HVGvR9z9d2eeFVa7vP5iSJL5PMO4/k3KzawTR8b/YB444ZHvcP8Dv8TcKuO0/SeIUagqL8z+i+6VeKyHPP8J4jn1QbeC/VpWEcgpX2T8XTYQrlhfmv5QW6+0cOdS/5YioxTcD1T/HmcGj/mnvP2T1W37V3uK/hMgAfAOU+z9KEqbvQ6riPxBsgG2Y7Og/jREderI1BEBgde/w0H36v709YkJ1k+y/9uzpWfUwxL/wR0bw5QWUv0mvdQwECeO/7IZKpkO37L8wobh4RKSuv4FwFN25feY/e9iuVgsS7b9U5+Na9mzQP9USMK0OzPw/hHODJMOYwr+q5lAeLDraP5Lk1ZIfleu/RefWvQ4Y5T/H9ME3TVLnv8DrnLDHt6g/vuHSjzC88D9wtjcCgSTLv7CqoekMU6K/+Hoyfv/vwD9WpHgK8T3sv3Fv0pTh5/A/sPUPFItblr9bcYNYSRzlv5KmFpClFvI/NrbCumm07r9I7Rs9QiHQP4zEigzJ+/u/qF92MQKx47+6P7pxi7rov+iY/cgaMwBAA8d5bGs//T+AVwNdohX2v4iJwCsoqJg/3mcTdI864D/1e7k6Cl3gPzgbFdKsOOU/HB7hUy0ywj+8uFP85BP9vwi1zbu5IOA/eHXfImEznj9S15ldwxzbv7WJbtR53Po/ZI4gsDwS9j9OHXrkbUvCv5oB7L4uHvK/n58xVu+A0r/LWs8Of4bdv6OpjEq44vG/GD6qsqkc6j9huBTGB7rNv8ActOc7ho6/d0hQ3HWd6D9mnn6z4hQDQF5KbwrXguE/qiUGvK3N+78ApW1hr8diPwwZ35enz9K/2gHpSZm1vj8BSz0HNUOIP42FuBdRP/O/mpaQqDCBwb8gchdS9LaiP59oQIU3Ndc/EZ9SGCT9tj/M5qH/UmriP+DCdOMMi9M/1L2eJ3q31T/IwCZc7z6+Pyb9V0p6mu4/6N3k3wSY1r/6E4HihuryvzFWUbfeHdu/3Gvq4IsZ7T+qyMAYrrDqP9Z/bPA2+sW/ayy4CKKgxb/MOjhSG+Hvvzo/9h3HffG/7UDKRL8Z+T/uQu3Zm+X1P3STu/OatOI/6+OOuN6X/r9NUP7ihp/dP1DfkooGB6u/HqDdWotuBsBonchqOhnOv9ZKoPzrj/u/Z2QF503b1D8WqW0LjZ7fv9CUDXz9wNo/4XD5GTdN4T8U9d9yHp3nPxpBcKIfEfG/kreCjnt41r/LLX0+HfakP3vq4j9ds8m/eRRpAiiT+j+244Yn0rXLv+K/MN5iefK/qsYJ0yP85r9JNnnrSFn1vyCM9Y5aE64/kfiFUirq8z8acXBfnMndvwBktnFbEPU/hFt6oDWXzr/mCOH/ZlPev6qGG2JmRgTARGq9MMAny78tRJIsttD2P5KbtKCuduK/VA5c16mG8r+/y3R6iqXQv0akNMg6leg/R8+/RPln/L+WW1C16u3fPwyuxTJjGuu/p1ZLqYgPzT9jFcHeifzPP2zrLMUSYME/Z84Ym63Cwb8DUOZYrVHpPzCOYh5+gQXACIDd6eWgv7/L+rTTQ27QvwD2nxato02/EUTzT1UL2j9dwtuyj67uP5rhBna+Ue+/qnguVbp32D8bvs5PYBDrP7RoM3Mnify/WmjUwT4k5r+7midBtPAEwBRX9lav6Oy/MoLjG5lM9r+2H/6KoTzav5ebbhsY+/a/Op3hkvsow7/4LG18i3+iPwH2HsufaMi/ETEWAmvp9D/Yd/vJEbuSvwouGKIJJQzAGKYBrdrQqr+BdJCokwLaP7B8m32lbpY/rD7eS/fb478cMtClCtjOP3reO47rkvA/3srGHnSf7L+eLZJCAuXWv4SQal7XI+K/HGHWgx3w97/OwkqBhuDaP5T1CtRzo7g/f5XtUU51BcAqimB36XPqP8hOfMU2+tE/VPIu7Bttvr/YSWIZlRnSP+dzK3+hEvO/zqrSZx7P/z9+gFPmxTr1vyA+YIk+wOk/5TB3rN1M6b86OBNKH3zfvzdg99uvi9C/yMTAOSeS6T8acP+nQsDwv2lhnr0Cs/w/EAsu5iAF8D8BbqESpzbav3ucBgf+asc/JoF2ODrqx7+cPTRwflTkv9jt3TewpeY/UJX/jD/E4D+0BGddS6n1v0TGlJCj0/c/HMURpc4j7b9iZH7Kj87rPyQJY+NcsvK/5DuuwjFwAECHVvW4B3bxv3bPl3+U7/2/WaoYfa106b8OPxaUtO7rPyl+i1WTb+m/v2hpozQc4j8uCXnRmvLRPxEWrUT1TN0/KEWIZcVv0D+bb/kKRq/1Pyp+2vVoxPS/x6PLGdsX0j/YoU933R3hP2fKn1RBvuE/d7T/v4Ar27+9T1ohZjbYvzPV1yhvy/K/BOsnrEzBuD9qlgmacovaPy52hQJosee/ThSxlPg8/j+Eg0vso+rmv4jeGNn0AfK/fdxh0I/i0T9ek18XQ9acv7qWAcqq3MQ/5ugKNg3L2D/FGnb7pfHPv9Oj/65lGvG/hfEwVO2q/b/pHRwF8jbbPw==\",\"dtype\":\"float64\",\"shape\":[500]}},\"selected\":{\"id\":\"6c74a964-1f05-4524-aa5a-9fa947bac7bd\",\"type\":\"Selection\"},\"selection_policy\":{\"id\":\"f818ef86-fd0d-46c5-8a44-89399e9994a7\",\"type\":\"UnionRenderers\"}},\"id\":\"1dac3e13-dd35-45d8-9716-4d1819dd1eac\",\"type\":\"ColumnDataSource\"},{\"attributes\":{},\"id\":\"96051a7d-a865-404b-8f23-3ed671f3883c\",\"type\":\"BasicTickFormatter\"},{\"attributes\":{\"callback\":null,\"data\":{\"x\":{\"__ndarray__\":\"YLEs1yRr9j9mR98Z1Y4EwA==\",\"dtype\":\"float64\",\"shape\":[2]},\"y\":{\"__ndarray__\":\"4dFcbDMB1b9aZOx1TajWPw==\",\"dtype\":\"float64\",\"shape\":[2]}},\"selected\":{\"id\":\"25760a1c-a783-470b-af5b-fc1b2c9c0e3d\",\"type\":\"Selection\"},\"selection_policy\":{\"id\":\"bdb78e7f-3df2-4aa1-bece-9d69ffb7bfc8\",\"type\":\"UnionRenderers\"}},\"id\":\"1897d43a-9f0b-485b-a4c6-368ce291cc6b\",\"type\":\"ColumnDataSource\"},{\"attributes\":{\"children\":[{\"id\":\"73fffa1c-1f47-49dc-a911-e533007d684e\",\"type\":\"Row\"}]},\"id\":\"fe47fcf3-7ac9-4ccb-bf98-5be54387fefe\",\"type\":\"Column\"},{\"attributes\":{},\"id\":\"6eb6d0a1-f4a6-4330-94b6-9ae4501932f6\",\"type\":\"BasicTickFormatter\"},{\"attributes\":{\"toolbar\":{\"id\":\"e585f06e-3ff3-47fc-a10d-5d3e37207fa5\",\"type\":\"ProxyToolbar\"},\"toolbar_location\":\"above\"},\"id\":\"98d53519-54a6-4f80-9e1d-ad8417227759\",\"type\":\"ToolbarBox\"},{\"attributes\":{\"below\":[{\"id\":\"aa1a6c8e-cccf-4991-ac33-68c7c09c951b\",\"type\":\"LinearAxis\"}],\"left\":[{\"id\":\"982c0fc5-761f-4457-953f-8060584de953\",\"type\":\"LinearAxis\"}],\"plot_height\":400,\"plot_width\":400,\"renderers\":[{\"id\":\"aa1a6c8e-cccf-4991-ac33-68c7c09c951b\",\"type\":\"LinearAxis\"},{\"id\":\"2b977464-2f8e-41f6-a4ed-de554667658a\",\"type\":\"Grid\"},{\"id\":\"982c0fc5-761f-4457-953f-8060584de953\",\"type\":\"LinearAxis\"},{\"id\":\"13b86e0b-50a2-4e5e-bce0-6f7376ba3514\",\"type\":\"Grid\"},{\"id\":\"7f8f7eba-45be-490b-9995-0f5a9977089c\",\"type\":\"BoxAnnotation\"},{\"id\":\"d0c241ee-896f-4286-a5f6-4ab9fe81db71\",\"type\":\"GlyphRenderer\"},{\"id\":\"27ee4e43-73a8-4cd0-ba52-5fbcb18378d2\",\"type\":\"Arrow\"},{\"id\":\"ad096b4a-25b7-4fff-8e1b-2dfefcde08d4\",\"type\":\"Arrow\"}],\"title\":{\"id\":\"4afbe860-a4d4-4a55-97a2-440a2c3084cc\",\"type\":\"Title\"},\"toolbar\":{\"id\":\"88f6f8e4-bb80-4deb-945f-d6edeef69743\",\"type\":\"Toolbar\"},\"toolbar_location\":null,\"x_range\":{\"id\":\"871c9655-17f2-4fe3-adab-15855607f8aa\",\"type\":\"Range1d\"},\"x_scale\":{\"id\":\"5a9c0933-3020-45ac-b97e-464debc6f107\",\"type\":\"LinearScale\"},\"y_range\":{\"id\":\"a1633936-de51-4101-9b4f-eac0d789a162\",\"type\":\"Range1d\"},\"y_scale\":{\"id\":\"28bbd9da-ff7b-4ecf-9510-e578b0770889\",\"type\":\"LinearScale\"}},\"id\":\"51e101e1-09b8-4e33-b3ea-b17c06fb17ad\",\"subtype\":\"Figure\",\"type\":\"Plot\"},{\"attributes\":{\"children\":[{\"id\":\"98d53519-54a6-4f80-9e1d-ad8417227759\",\"type\":\"ToolbarBox\"},{\"id\":\"fe47fcf3-7ac9-4ccb-bf98-5be54387fefe\",\"type\":\"Column\"}]},\"id\":\"c7dae6c6-80e1-4008-bfd1-5f2ee31c61a0\",\"type\":\"Column\"},{\"attributes\":{\"fill_alpha\":{\"value\":0.3},\"fill_color\":{\"value\":\"#1f77b4\"},\"line_alpha\":{\"value\":0.3},\"line_color\":{\"value\":\"#1f77b4\"},\"x\":{\"field\":\"x\"},\"y\":{\"field\":\"y\"}},\"id\":\"03f44e04-7a30-46c5-b47d-1937ebd0b29f\",\"type\":\"Circle\"},{\"attributes\":{\"tools\":[{\"id\":\"2b2ff86f-eef2-48ba-97c8-28a1c966ca2c\",\"type\":\"PanTool\"},{\"id\":\"4c7b4b94-ae9d-4051-ac4d-a18a9b1f4cc0\",\"type\":\"WheelZoomTool\"},{\"id\":\"769834b3-2011-4bdb-bdcb-67056e09979a\",\"type\":\"BoxZoomTool\"},{\"id\":\"c7fe8922-9d43-47bc-bf70-5e8bd5ca19d6\",\"type\":\"SaveTool\"},{\"id\":\"0c3abcce-c1d6-4d7e-b6df-0b2cd56b18c5\",\"type\":\"ResetTool\"},{\"id\":\"906a5aff-0eff-4e77-998f-043517938389\",\"type\":\"HelpTool\"},{\"id\":\"0a1984db-1802-408e-aef4-0b3b037c0271\",\"type\":\"PanTool\"},{\"id\":\"6a4318a4-85f8-4d0b-8b3c-001ce2c0c2f9\",\"type\":\"WheelZoomTool\"},{\"id\":\"63772f11-655f-42a2-83f4-598f0fac89c6\",\"type\":\"BoxZoomTool\"},{\"id\":\"cad90803-7bcb-465d-8b98-2cf1e9eb3cd1\",\"type\":\"SaveTool\"},{\"id\":\"14739378-3ef9-4933-a40b-9ecd81b60a2f\",\"type\":\"ResetTool\"},{\"id\":\"fe983b99-130b-441a-9b96-d9434ea88424\",\"type\":\"HelpTool\"}]},\"id\":\"e585f06e-3ff3-47fc-a10d-5d3e37207fa5\",\"type\":\"ProxyToolbar\"},{\"attributes\":{\"plot\":null,\"text\":\"PPCA\"},\"id\":\"4afbe860-a4d4-4a55-97a2-440a2c3084cc\",\"type\":\"Title\"},{\"attributes\":{\"plot\":null,\"size\":10},\"id\":\"fe6c92b7-dd22-4acd-b276-691ba2a56675\",\"type\":\"NormalHead\"},{\"attributes\":{\"callback\":null,\"end\":5,\"start\":-5},\"id\":\"871c9655-17f2-4fe3-adab-15855607f8aa\",\"type\":\"Range1d\"},{\"attributes\":{\"active_drag\":\"auto\",\"active_inspect\":\"auto\",\"active_scroll\":\"auto\",\"active_tap\":\"auto\",\"tools\":[{\"id\":\"2b2ff86f-eef2-48ba-97c8-28a1c966ca2c\",\"type\":\"PanTool\"},{\"id\":\"4c7b4b94-ae9d-4051-ac4d-a18a9b1f4cc0\",\"type\":\"WheelZoomTool\"},{\"id\":\"769834b3-2011-4bdb-bdcb-67056e09979a\",\"type\":\"BoxZoomTool\"},{\"id\":\"c7fe8922-9d43-47bc-bf70-5e8bd5ca19d6\",\"type\":\"SaveTool\"},{\"id\":\"0c3abcce-c1d6-4d7e-b6df-0b2cd56b18c5\",\"type\":\"ResetTool\"},{\"id\":\"906a5aff-0eff-4e77-998f-043517938389\",\"type\":\"HelpTool\"}]},\"id\":\"88f6f8e4-bb80-4deb-945f-d6edeef69743\",\"type\":\"Toolbar\"},{\"attributes\":{\"data_source\":{\"id\":\"1dac3e13-dd35-45d8-9716-4d1819dd1eac\",\"type\":\"ColumnDataSource\"},\"glyph\":{\"id\":\"03f44e04-7a30-46c5-b47d-1937ebd0b29f\",\"type\":\"Circle\"},\"hover_glyph\":null,\"muted_glyph\":null,\"nonselection_glyph\":{\"id\":\"42aaa49e-bab4-4a36-9b6a-11e61f3b1b37\",\"type\":\"Circle\"},\"selection_glyph\":null,\"view\":{\"id\":\"83504923-6441-4831-9590-78fa598bd1d3\",\"type\":\"CDSView\"}},\"id\":\"d0c241ee-896f-4286-a5f6-4ab9fe81db71\",\"type\":\"GlyphRenderer\"},{\"attributes\":{},\"id\":\"5a9c0933-3020-45ac-b97e-464debc6f107\",\"type\":\"LinearScale\"},{\"attributes\":{\"callback\":null,\"end\":5,\"start\":-5},\"id\":\"a1633936-de51-4101-9b4f-eac0d789a162\",\"type\":\"Range1d\"},{\"attributes\":{},\"id\":\"28bbd9da-ff7b-4ecf-9510-e578b0770889\",\"type\":\"LinearScale\"},{\"attributes\":{\"plot\":{\"id\":\"51e101e1-09b8-4e33-b3ea-b17c06fb17ad\",\"subtype\":\"Figure\",\"type\":\"Plot\"},\"ticker\":{\"id\":\"65481f51-59b3-4dc0-9a01-cc6938e96b91\",\"type\":\"BasicTicker\"}},\"id\":\"2b977464-2f8e-41f6-a4ed-de554667658a\",\"type\":\"Grid\"},{\"attributes\":{\"formatter\":{\"id\":\"aa17a7a5-807f-465a-9c9f-fdd20a34815d\",\"type\":\"BasicTickFormatter\"},\"plot\":{\"id\":\"51e101e1-09b8-4e33-b3ea-b17c06fb17ad\",\"subtype\":\"Figure\",\"type\":\"Plot\"},\"ticker\":{\"id\":\"65481f51-59b3-4dc0-9a01-cc6938e96b91\",\"type\":\"BasicTicker\"}},\"id\":\"aa1a6c8e-cccf-4991-ac33-68c7c09c951b\",\"type\":\"LinearAxis\"},{\"attributes\":{},\"id\":\"65481f51-59b3-4dc0-9a01-cc6938e96b91\",\"type\":\"BasicTicker\"},{\"attributes\":{},\"id\":\"4c7b4b94-ae9d-4051-ac4d-a18a9b1f4cc0\",\"type\":\"WheelZoomTool\"},{\"attributes\":{\"overlay\":{\"id\":\"7f8f7eba-45be-490b-9995-0f5a9977089c\",\"type\":\"BoxAnnotation\"}},\"id\":\"769834b3-2011-4bdb-bdcb-67056e09979a\",\"type\":\"BoxZoomTool\"},{\"attributes\":{\"formatter\":{\"id\":\"b708a967-df1a-4a13-909f-f59d2207b201\",\"type\":\"BasicTickFormatter\"},\"plot\":{\"id\":\"51e101e1-09b8-4e33-b3ea-b17c06fb17ad\",\"subtype\":\"Figure\",\"type\":\"Plot\"},\"ticker\":{\"id\":\"9f4f14ad-8f20-4505-a944-4cc608493a05\",\"type\":\"BasicTicker\"}},\"id\":\"982c0fc5-761f-4457-953f-8060584de953\",\"type\":\"LinearAxis\"},{\"attributes\":{},\"id\":\"9f4f14ad-8f20-4505-a944-4cc608493a05\",\"type\":\"BasicTicker\"},{\"attributes\":{\"dimension\":1,\"plot\":{\"id\":\"51e101e1-09b8-4e33-b3ea-b17c06fb17ad\",\"subtype\":\"Figure\",\"type\":\"Plot\"},\"ticker\":{\"id\":\"9f4f14ad-8f20-4505-a944-4cc608493a05\",\"type\":\"BasicTicker\"}},\"id\":\"13b86e0b-50a2-4e5e-bce0-6f7376ba3514\",\"type\":\"Grid\"},{\"attributes\":{\"source\":{\"id\":\"1dac3e13-dd35-45d8-9716-4d1819dd1eac\",\"type\":\"ColumnDataSource\"}},\"id\":\"83504923-6441-4831-9590-78fa598bd1d3\",\"type\":\"CDSView\"},{\"attributes\":{\"fill_alpha\":{\"value\":0.1},\"fill_color\":{\"value\":\"#1f77b4\"},\"line_alpha\":{\"value\":0.1},\"line_color\":{\"value\":\"#1f77b4\"},\"x\":{\"field\":\"x\"},\"y\":{\"field\":\"y\"}},\"id\":\"42aaa49e-bab4-4a36-9b6a-11e61f3b1b37\",\"type\":\"Circle\"},{\"attributes\":{\"source\":{\"id\":\"1897d43a-9f0b-485b-a4c6-368ce291cc6b\",\"type\":\"ColumnDataSource\"}},\"id\":\"8cb454aa-3a92-4b15-a39b-792bdf632cfb\",\"type\":\"CDSView\"}],\"root_ids\":[\"c7dae6c6-80e1-4008-bfd1-5f2ee31c61a0\"]},\"title\":\"Bokeh Application\",\"version\":\"0.12.16\"}};\n",
       "  var render_items = [{\"docid\":\"154554b6-f73d-4849-a6f5-0d6dd7cbc003\",\"elementid\":\"97601d53-215d-4f32-90bd-43c90a27ca42\",\"modelid\":\"c7dae6c6-80e1-4008-bfd1-5f2ee31c61a0\"}];\n",
       "  root.Bokeh.embed.embed_items_notebook(docs_json, render_items);\n",
       "\n",
       "  }\n",
       "  if (root.Bokeh !== undefined) {\n",
       "    embed_document(root);\n",
       "  } else {\n",
       "    var attempts = 0;\n",
       "    var timer = setInterval(function(root) {\n",
       "      if (root.Bokeh !== undefined) {\n",
       "        embed_document(root);\n",
       "        clearInterval(timer);\n",
       "      }\n",
       "      attempts++;\n",
       "      if (attempts > 100) {\n",
       "        console.log(\"Bokeh: ERROR: Unable to run BokehJS code because BokehJS library is missing\")\n",
       "        clearInterval(timer);\n",
       "      }\n",
       "    }, 10, root)\n",
       "  }\n",
       "})(window);"
      ],
      "application/vnd.bokehjs_exec.v0+json": ""
     },
     "metadata": {
      "application/vnd.bokehjs_exec.v0+json": {
       "id": "c7dae6c6-80e1-4008-bfd1-5f2ee31c61a0"
      }
     },
     "output_type": "display_data"
    }
   ],
   "source": [
    "mean = model.mean.numpy()\n",
    "evectors = model.subspace.numpy().T\n",
    "print('bases:', evectors, evectors.shape)\n",
    "\n",
    "fig1 = figure(\n",
    "    title='PPCA',\n",
    "    x_range=x_range,\n",
    "    y_range=y_range,\n",
    "    width=400,\n",
    "    height=400\n",
    ")\n",
    "\n",
    "fig1.circle(data[:, 0], data[:, 1], alpha=.3)\n",
    "\n",
    "# Plot subspace.\n",
    "alpha = np.linalg.norm(evectors[:, 0])\n",
    "alpha = 1\n",
    "fig1.add_layout(\n",
    "    Arrow(\n",
    "        end=NormalHead(size=10, line_alpha=alpha, fill_alpha=alpha),\n",
    "        line_width=2,\n",
    "        line_alpha=alpha,\n",
    "        x_start=mean[0], \n",
    "        y_start=mean[1], \n",
    "        x_end=evectors[0, 0] + mean[0], \n",
    "        y_end=evectors[1, 0] + mean[1])\n",
    ")\n",
    "alpha = np.linalg.norm(evectors[:, 1])\n",
    "alpha = 1\n",
    "fig1.add_layout(\n",
    "    Arrow(\n",
    "        end=NormalHead(size=10, line_alpha=alpha, fill_alpha=alpha),\n",
    "        line_width=2,\n",
    "        line_alpha=alpha,\n",
    "        x_start=mean[0], \n",
    "        y_start=mean[1], \n",
    "        x_end=evectors[0, 1] + mean[0], \n",
    "        y_end=evectors[1, 1] + mean[1])\n",
    ")\n",
    "\n",
    "X = data\n",
    "C = cov\n",
    "evals, evectors = np.linalg.eigh(C)\n",
    "print('evectors')\n",
    "print(evectors)\n",
    "\n",
    "fig2 = figure(\n",
    "    title='PCA',\n",
    "    x_range=x_range,\n",
    "    y_range=y_range,\n",
    "    width=400,\n",
    "    height=400\n",
    ")\n",
    "\n",
    "fig2.circle(data[0], data[1], alpha=.3)\n",
    "\n",
    "# Plot subspace.\n",
    "alpha = np.linalg.norm(evectors[:, 1])\n",
    "fig2.add_layout(\n",
    "    Arrow(\n",
    "        end=NormalHead(size=10, line_alpha=alpha, fill_alpha=alpha),\n",
    "        line_width=2,\n",
    "        line_alpha=alpha,\n",
    "        x_start=mean[0], \n",
    "        y_start=mean[1], \n",
    "        x_end=evectors[0, 0] + mean[0], \n",
    "        y_end=evectors[1, 0] + mean[1])\n",
    ")\n",
    "alpha = np.linalg.norm(evectors[:, 1])\n",
    "fig2.add_layout(\n",
    "    Arrow(\n",
    "        end=NormalHead(size=10, line_alpha=alpha, fill_alpha=alpha),\n",
    "        line_width=2,\n",
    "        line_alpha=alpha,\n",
    "        x_start=mean[0], y_start=mean[1], \n",
    "        x_end=evectors[0, 1] + mean[0], \n",
    "        y_end=evectors[1, 1] + mean[1])\n",
    ")\n",
    "\n",
    "grid = gridplot([[fig1, fig2]])\n",
    "show(grid)"
   ]
  },
  {
   "cell_type": "code",
   "execution_count": 7,
   "metadata": {},
   "outputs": [
    {
     "data": {
      "text/plain": [
       "<function _VariableFunctions.lgamma>"
      ]
     },
     "execution_count": 7,
     "metadata": {},
     "output_type": "execute_result"
    }
   ],
   "source": [
    "torch.lgamma"
   ]
  },
  {
   "cell_type": "code",
   "execution_count": 8,
   "metadata": {},
   "outputs": [
    {
     "data": {
      "text/plain": [
       "True"
      ]
     },
     "execution_count": 8,
     "metadata": {},
     "output_type": "execute_result"
    }
   ],
   "source": [
    "from scipy.special import gammaln as lgamma\n",
    "np.isclose(lgamma(10000000), torch.lgamma(torch.tensor(10000000.)).numpy())"
   ]
  },
  {
   "cell_type": "code",
   "execution_count": 9,
   "metadata": {},
   "outputs": [],
   "source": [
    "_, _, _, _, m_quad, m_mean = model._get_expectation()\n",
    "m_quad, m_mean = m_quad.numpy(), m_mean.numpy()"
   ]
  },
  {
   "cell_type": "code",
   "execution_count": 10,
   "metadata": {},
   "outputs": [
    {
     "data": {
      "text/plain": [
       "(array(2.), 2.0)"
      ]
     },
     "execution_count": 10,
     "metadata": {},
     "output_type": "execute_result"
    }
   ],
   "source": [
    "m_quad, m_quad - np.sum(m_mean**2)"
   ]
  },
  {
   "cell_type": "code",
   "execution_count": 11,
   "metadata": {},
   "outputs": [
    {
     "data": {
      "text/plain": [
       "(array([0., 0.]), array(2.))"
      ]
     },
     "execution_count": 11,
     "metadata": {},
     "output_type": "execute_result"
    }
   ],
   "source": [
    "m_mean, m_quad"
   ]
  },
  {
   "cell_type": "code",
   "execution_count": 12,
   "metadata": {},
   "outputs": [
    {
     "data": {
      "text/plain": [
       "tensor([ 2.,  0.,  0.], dtype=torch.float64)"
      ]
     },
     "execution_count": 12,
     "metadata": {},
     "output_type": "execute_result"
    }
   ],
   "source": [
    "model.mean_param.expected_value()"
   ]
  }
 ],
 "metadata": {
  "kernelspec": {
   "display_name": "Python 3",
   "language": "python",
   "name": "python3"
  },
  "language_info": {
   "codemirror_mode": {
    "name": "ipython",
    "version": 3
   },
   "file_extension": ".py",
   "mimetype": "text/x-python",
   "name": "python",
   "nbconvert_exporter": "python",
   "pygments_lexer": "ipython3",
   "version": "3.6.4"
  }
 },
 "nbformat": 4,
 "nbformat_minor": 2
}
