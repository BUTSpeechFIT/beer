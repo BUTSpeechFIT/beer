{
 "cells": [
  {
   "cell_type": "code",
   "execution_count": null,
   "metadata": {},
   "outputs": [],
   "source": [
    "%load_ext autoreload\n",
    "%autoreload 2\n",
    "\n",
    "import sys\n",
    "sys.path.append('../')\n",
    "\n",
    "import numpy as np\n",
    "from bokeh.io import show, output_notebook\n",
    "from bokeh.plotting import figure\n",
    "from torch import optim, nn\n",
    "\n",
    "from plotting import plot_model_outputs\n",
    "\n",
    "import beer\n",
    "\n",
    "output_notebook()"
   ]
  },
  {
   "cell_type": "code",
   "execution_count": null,
   "metadata": {},
   "outputs": [],
   "source": [
    "mean = np.array([3., 2.])\n",
    "cov = np.array([[2., 0.], [0., .2]])\n",
    "data = np.random.multivariate_normal(mean, cov, size=100)\n",
    "data[:, 1] = data[:, 1] + (data[:, 0]-mean[0])**2\n",
    "\n",
    "fig = figure(\n",
    "    title='Non-Linear subspace',\n",
    "    width=400,\n",
    "    height=400,\n",
    ")\n",
    "fig.circle(data[:, 0], data[:, 1])\n",
    "x = np.linspace(-1, 7, 1000)\n",
    "fig.line(x, (x-3)**2+2, color='red')\n",
    "show(fig)"
   ]
  },
  {
   "cell_type": "code",
   "execution_count": null,
   "metadata": {
    "collapsed": true
   },
   "outputs": [],
   "source": [
    "obs_dim = 2\n",
    "latent_dim = 2\n",
    "nb_samples = 10\n",
    "\n",
    "enc_struct = nn.Sequential(\n",
    "    nn.Linear(obs_dim, 40),\n",
    "    nn.ReLU(),\n",
    "    nn.Linear(40, 40),\n",
    "    nn.ReLU()\n",
    ")\n",
    "encoder = beer.models.GaussianMLP(enc_struct, 40, latent_dim)\n",
    "\n",
    "dec_struct = nn.Sequential(\n",
    "    nn.Linear(latent_dim, 40),\n",
    "    nn.ReLU(),\n",
    "    nn.Linear(40, 40),\n",
    "    nn.ReLU()\n",
    ")\n",
    "decoder = beer.models.GaussianMLP(dec_struct, 40, obs_dim)\n",
    "\n",
    "#latent_model = beer.models.NaturalIsotropicGaussian(latent_dim)\n",
    "#latent_model = beer.models.NormalDiagonalCovariance.create(\n",
    "#    latent_dim,\n",
    "#    mean_prec=1e1,\n",
    "#    prec_shape=1,\n",
    "#    prec_rate=1.\n",
    "#)\n",
    "\n",
    "model = beer.models.VAE(encoder, decoder, latent_model, nb_samples)"
   ]
  },
  {
   "cell_type": "code",
   "execution_count": null,
   "metadata": {
    "collapsed": true
   },
   "outputs": [],
   "source": [
    "optimizer = optim.Adam(model.parameters(), lr=1e-3, weight_decay=1e-6)\n",
    "history = beer.inference.History(report_interval=250)"
   ]
  },
  {
   "cell_type": "code",
   "execution_count": null,
   "metadata": {},
   "outputs": [],
   "source": [
    "beer.inference.run_training(data, model, optimizer, 2000, history, batch_size=20, lrate_latent_model=0.)"
   ]
  },
  {
   "cell_type": "code",
   "execution_count": null,
   "metadata": {},
   "outputs": [],
   "source": [
    "plot_model_outputs(model, data)"
   ]
  },
  {
   "cell_type": "code",
   "execution_count": null,
   "metadata": {},
   "outputs": [],
   "source": [
    "history.plot()"
   ]
  },
  {
   "cell_type": "code",
   "execution_count": null,
   "metadata": {
    "collapsed": true
   },
   "outputs": [],
   "source": []
  }
 ],
 "metadata": {
  "kernelspec": {
   "display_name": "Python 3",
   "language": "python",
   "name": "python3"
  },
  "language_info": {
   "codemirror_mode": {
    "name": "ipython",
    "version": 3
   },
   "file_extension": ".py",
   "mimetype": "text/x-python",
   "name": "python",
   "nbconvert_exporter": "python",
   "pygments_lexer": "ipython3",
   "version": "3.6.3"
  }
 },
 "nbformat": 4,
 "nbformat_minor": 2
}
